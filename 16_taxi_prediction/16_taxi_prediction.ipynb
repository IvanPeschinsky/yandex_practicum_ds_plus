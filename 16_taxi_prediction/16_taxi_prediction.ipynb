{
 "cells": [
  {
   "cell_type": "markdown",
   "metadata": {},
   "source": [
    "<div style=\"border:solid Chocolate 2px; padding: 40px\">\n",
    "\n",
    "<b> Иван, привет!👋</b> \n",
    "\n",
    "Меня зовут Кирилл Васильев, я буду ревьюером твоего проекта. Я предлагаю общаться на «ты», но если привычнее на «вы», просто скажи об этом! \n",
    "\n",
    "Я буду оставлять комментарии в твоем проекте. Пожалуйста, не удаляй их, они могут быть полезны в случае повторной проверки.\n",
    "\n",
    "Свои комментарии я буду обозначать <font color='green'>зеленым</font>, <font color='gold'>желтым</font> и <font color='red'>красным</font> цветами, например:\n",
    "  \n",
    "<br/>\n",
    "\n",
    "<div class=\"alert alert-success\">\n",
    "<h2> Комментарий ревьюера <a class=\"tocSkip\"> </h2>\n",
    "\n",
    "<b>Все отлично!👍:</b> В случае, если решение на отдельном шаге является полностью правильным. Здесь же я могу давать советы и предложения.\n",
    "</div>\n",
    "\n",
    "<br/>\n",
    "\n",
    "<div class=\"alert alert-warning\">\n",
    "    <h2> Комментарий ревьюера <a class=\"tocSkip\"> </h2>\n",
    "    \n",
    "<b>Некоторые замечания и рекомендации💡:</b> В случае, когда решение на отдельном шаге станет еще лучше, если внести небольшие коррективы.\n",
    "</div> \n",
    "\n",
    "\n",
    "<br/>\n",
    "<div class=\"alert alert-block alert-danger\">\n",
    "<h2> Комментарий ревьюера <a class=\"tocSkip\"></h2>\n",
    "\n",
    "     \n",
    "<b>На доработку🤔:</b>\n",
    " В случае, когда решение на отдельном шаге требует существенной переработки и внесения правок. Напоминаю, что проект не может быть принят с первого раза, если ревью содержит комментарии, рекомендующие доработать шаги.\n",
    "</div>\n",
    "\n",
    "<br/>\n",
    "<div class=\"alert alert-info\">\n",
    "Рекомендую для твоих комментариев использовать синий или любой другой цветной фон. Я постараюсь ничего не пропустить, но если комментарии будут выделены, то это мне очень поможет!\n",
    "</div>\n",
    "    \n",
    "Увидев у тебя неточность, в первый раз я лишь укажу на ее наличие и дам тебе возможность самостоятельно найти и исправить ее. На реальной работе твой руководитель будет поступать также. Но если ты пока не справишься с такой задачей - при следующей проверке я дам более точную подсказку."
   ]
  },
  {
   "cell_type": "markdown",
   "metadata": {},
   "source": [
    "<div class=\"alert alert-info\">  \n",
    "Привет! Прошу прощения за то, что так долго исправлял ошибки, были сложные дни на работе.\n",
    "    \n",
    "Спасибо за ревью. Я думал проект будет чуть проще, но зато мне было интересно читать комментарии к моим ошибкам) Постарался все исправить\n",
    "</div>"
   ]
  },
  {
   "cell_type": "markdown",
   "metadata": {},
   "source": [
    "<div class=\"alert alert-success\">\n",
    "<h2> Комментарий ревьюера #2 <a class=\"tocSkip\"> </h2>\n",
    "\n",
    "👍 Cнова привет. Спасибо за заметное оформление твоих комментариев. Да, проект небольшой, но есть свои хитрости.\n",
    "</div>"
   ]
  },
  {
   "cell_type": "markdown",
   "metadata": {
    "toc": true
   },
   "source": [
    "<h1>Содержание<span class=\"tocSkip\"></span></h1>\n",
    "<div class=\"toc\"><ul class=\"toc-item\"><li><span><a href=\"#Подготовка\" data-toc-modified-id=\"Подготовка-1\"><span class=\"toc-item-num\">1&nbsp;&nbsp;</span>Подготовка</a></span><ul class=\"toc-item\"><li><span><a href=\"#Импорты\" data-toc-modified-id=\"Импорты-1.1\"><span class=\"toc-item-num\">1.1&nbsp;&nbsp;</span>Импорты</a></span></li><li><span><a href=\"#Загрузка-данных\" data-toc-modified-id=\"Загрузка-данных-1.2\"><span class=\"toc-item-num\">1.2&nbsp;&nbsp;</span>Загрузка данных</a></span></li></ul></li><li><span><a href=\"#Анализ\" data-toc-modified-id=\"Анализ-2\"><span class=\"toc-item-num\">2&nbsp;&nbsp;</span>Анализ</a></span></li><li><span><a href=\"#Обучение\" data-toc-modified-id=\"Обучение-3\"><span class=\"toc-item-num\">3&nbsp;&nbsp;</span>Обучение</a></span><ul class=\"toc-item\"><li><span><a href=\"#Создание-признаков\" data-toc-modified-id=\"Создание-признаков-3.1\"><span class=\"toc-item-num\">3.1&nbsp;&nbsp;</span>Создание признаков</a></span></li><li><span><a href=\"#train_test,-выделение-целевого-признака\" data-toc-modified-id=\"train_test,-выделение-целевого-признака-3.2\"><span class=\"toc-item-num\">3.2&nbsp;&nbsp;</span>train_test, выделение целевого признака</a></span></li><li><span><a href=\"#Обучение-моделей\" data-toc-modified-id=\"Обучение-моделей-3.3\"><span class=\"toc-item-num\">3.3&nbsp;&nbsp;</span>Обучение моделей</a></span></li></ul></li><li><span><a href=\"#Тестирование\" data-toc-modified-id=\"Тестирование-4\"><span class=\"toc-item-num\">4&nbsp;&nbsp;</span>Тестирование</a></span></li><li><span><a href=\"#Вывод\" data-toc-modified-id=\"Вывод-5\"><span class=\"toc-item-num\">5&nbsp;&nbsp;</span>Вывод</a></span></li><li><span><a href=\"#Чек-лист-проверки\" data-toc-modified-id=\"Чек-лист-проверки-6\"><span class=\"toc-item-num\">6&nbsp;&nbsp;</span>Чек-лист проверки</a></span></li></ul></div>"
   ]
  },
  {
   "cell_type": "markdown",
   "metadata": {},
   "source": [
    "#  Прогнозирование заказов такси"
   ]
  },
  {
   "cell_type": "markdown",
   "metadata": {},
   "source": [
    "Компания «Чётенькое такси» собрала исторические данные о заказах такси в аэропортах. Чтобы привлекать больше водителей в период пиковой нагрузки, нужно спрогнозировать количество заказов такси на следующий час. Постройте модель для такого предсказания.\n",
    "\n",
    "Значение метрики *RMSE* на тестовой выборке должно быть не больше 48.\n",
    "\n",
    "Вам нужно:\n",
    "\n",
    "1. Загрузить данные и выполнить их ресемплирование по одному часу.\n",
    "2. Проанализировать данные.\n",
    "3. Обучить разные модели с различными гиперпараметрами. Сделать тестовую выборку размером 10% от исходных данных.\n",
    "4. Проверить данные на тестовой выборке и сделать выводы.\n",
    "\n",
    "\n",
    "Данные лежат в файле `taxi.csv`. Количество заказов находится в столбце `num_orders` (от англ. *number of orders*, «число заказов»)."
   ]
  },
  {
   "cell_type": "markdown",
   "metadata": {},
   "source": [
    "## Подготовка"
   ]
  },
  {
   "cell_type": "markdown",
   "metadata": {},
   "source": [
    "### Импорты"
   ]
  },
  {
   "cell_type": "code",
   "execution_count": 1,
   "metadata": {},
   "outputs": [],
   "source": [
    "import pandas as pd\n",
    "import numpy as np\n",
    "import matplotlib.pyplot as plt\n",
    "\n",
    "from statsmodels.tsa.seasonal import seasonal_decompose\n",
    "from sklearn.model_selection import train_test_split, GridSearchCV, TimeSeriesSplit\n",
    "from sklearn.metrics import mean_squared_error\n",
    "from sklearn.linear_model import LinearRegression\n",
    "from sklearn.tree import DecisionTreeRegressor\n",
    "from sklearn.ensemble import RandomForestRegressor\n",
    "from lightgbm import LGBMRegressor\n",
    "from math import sqrt\n",
    "\n",
    "import warnings\n",
    "warnings.filterwarnings(\"ignore\")"
   ]
  },
  {
   "cell_type": "markdown",
   "metadata": {},
   "source": [
    "### Загрузка данных"
   ]
  },
  {
   "cell_type": "code",
   "execution_count": 2,
   "metadata": {},
   "outputs": [],
   "source": [
    "data = pd.read_csv('/datasets/taxi.csv')"
   ]
  },
  {
   "cell_type": "markdown",
   "metadata": {},
   "source": [
    "<div class=\"alert alert-success\">\n",
    "<h2> Комментарий ревьюера <a class=\"tocSkip\"> </h2>\n",
    "\n",
    "👍 Здесь можно было бы сразу на этапе загрузки поместить даты в индекс и привести к нужному типу:\n",
    "    \n",
    "`data = pd.read_csv(\"/datasets/taxi.csv\", index_col=[0], parse_dates=[0])`\n",
    "</div>\n",
    "\n",
    " "
   ]
  },
  {
   "cell_type": "code",
   "execution_count": 3,
   "metadata": {},
   "outputs": [
    {
     "data": {
      "text/html": [
       "<div>\n",
       "<style scoped>\n",
       "    .dataframe tbody tr th:only-of-type {\n",
       "        vertical-align: middle;\n",
       "    }\n",
       "\n",
       "    .dataframe tbody tr th {\n",
       "        vertical-align: top;\n",
       "    }\n",
       "\n",
       "    .dataframe thead th {\n",
       "        text-align: right;\n",
       "    }\n",
       "</style>\n",
       "<table border=\"1\" class=\"dataframe\">\n",
       "  <thead>\n",
       "    <tr style=\"text-align: right;\">\n",
       "      <th></th>\n",
       "      <th>datetime</th>\n",
       "      <th>num_orders</th>\n",
       "    </tr>\n",
       "  </thead>\n",
       "  <tbody>\n",
       "    <tr>\n",
       "      <th>0</th>\n",
       "      <td>2018-03-01 00:00:00</td>\n",
       "      <td>9</td>\n",
       "    </tr>\n",
       "    <tr>\n",
       "      <th>1</th>\n",
       "      <td>2018-03-01 00:10:00</td>\n",
       "      <td>14</td>\n",
       "    </tr>\n",
       "    <tr>\n",
       "      <th>2</th>\n",
       "      <td>2018-03-01 00:20:00</td>\n",
       "      <td>28</td>\n",
       "    </tr>\n",
       "    <tr>\n",
       "      <th>3</th>\n",
       "      <td>2018-03-01 00:30:00</td>\n",
       "      <td>20</td>\n",
       "    </tr>\n",
       "    <tr>\n",
       "      <th>4</th>\n",
       "      <td>2018-03-01 00:40:00</td>\n",
       "      <td>32</td>\n",
       "    </tr>\n",
       "  </tbody>\n",
       "</table>\n",
       "</div>"
      ],
      "text/plain": [
       "              datetime  num_orders\n",
       "0  2018-03-01 00:00:00           9\n",
       "1  2018-03-01 00:10:00          14\n",
       "2  2018-03-01 00:20:00          28\n",
       "3  2018-03-01 00:30:00          20\n",
       "4  2018-03-01 00:40:00          32"
      ]
     },
     "execution_count": 3,
     "metadata": {},
     "output_type": "execute_result"
    }
   ],
   "source": [
    "data.head()"
   ]
  },
  {
   "cell_type": "code",
   "execution_count": 4,
   "metadata": {},
   "outputs": [
    {
     "name": "stdout",
     "output_type": "stream",
     "text": [
      "<class 'pandas.core.frame.DataFrame'>\n",
      "RangeIndex: 26496 entries, 0 to 26495\n",
      "Data columns (total 2 columns):\n",
      " #   Column      Non-Null Count  Dtype \n",
      "---  ------      --------------  ----- \n",
      " 0   datetime    26496 non-null  object\n",
      " 1   num_orders  26496 non-null  int64 \n",
      "dtypes: int64(1), object(1)\n",
      "memory usage: 414.1+ KB\n"
     ]
    }
   ],
   "source": [
    "data.info()"
   ]
  },
  {
   "cell_type": "code",
   "execution_count": 5,
   "metadata": {},
   "outputs": [],
   "source": [
    "data['datetime'] = pd.to_datetime(data['datetime'])"
   ]
  },
  {
   "cell_type": "markdown",
   "metadata": {},
   "source": [
    "Установим в качестве индекса столбец 'datetime'"
   ]
  },
  {
   "cell_type": "code",
   "execution_count": 6,
   "metadata": {},
   "outputs": [],
   "source": [
    "data = data.set_index('datetime')"
   ]
  },
  {
   "cell_type": "markdown",
   "metadata": {},
   "source": [
    "<div class=\"alert alert-success\">\n",
    "<h2> Комментарий ревьюера <a class=\"tocSkip\"> </h2>\n",
    "\n",
    "👍 Все верно по индексам.\n",
    "</div> "
   ]
  },
  {
   "cell_type": "code",
   "execution_count": 7,
   "metadata": {},
   "outputs": [
    {
     "name": "stdout",
     "output_type": "stream",
     "text": [
      "<class 'pandas.core.frame.DataFrame'>\n",
      "DatetimeIndex: 26496 entries, 2018-03-01 00:00:00 to 2018-08-31 23:50:00\n",
      "Data columns (total 1 columns):\n",
      " #   Column      Non-Null Count  Dtype\n",
      "---  ------      --------------  -----\n",
      " 0   num_orders  26496 non-null  int64\n",
      "dtypes: int64(1)\n",
      "memory usage: 414.0 KB\n"
     ]
    }
   ],
   "source": [
    "data.info()"
   ]
  },
  {
   "cell_type": "markdown",
   "metadata": {},
   "source": [
    "Проверим, что данные расположены в хронологическом порядке"
   ]
  },
  {
   "cell_type": "code",
   "execution_count": 8,
   "metadata": {},
   "outputs": [
    {
     "data": {
      "text/plain": [
       "True"
      ]
     },
     "execution_count": 8,
     "metadata": {},
     "output_type": "execute_result"
    }
   ],
   "source": [
    "data.index.is_monotonic"
   ]
  },
  {
   "cell_type": "markdown",
   "metadata": {},
   "source": [
    "<div class=\"alert alert-success\">\n",
    "<h2> Комментарий ревьюера <a class=\"tocSkip\"> </h2>\n",
    "\n",
    "👍 Отлично, что делаешь проверку на монотонность.\n",
    "</div> "
   ]
  },
  {
   "cell_type": "markdown",
   "metadata": {},
   "source": [
    "Итак, в нашем распоряжении таблица с количеством заказов такси в промужутке между 00:00:00 1 марта 2018 года и 23:50:00 31 августа 2018 года"
   ]
  },
  {
   "cell_type": "code",
   "execution_count": 9,
   "metadata": {},
   "outputs": [
    {
     "data": {
      "text/html": [
       "<div>\n",
       "<style scoped>\n",
       "    .dataframe tbody tr th:only-of-type {\n",
       "        vertical-align: middle;\n",
       "    }\n",
       "\n",
       "    .dataframe tbody tr th {\n",
       "        vertical-align: top;\n",
       "    }\n",
       "\n",
       "    .dataframe thead th {\n",
       "        text-align: right;\n",
       "    }\n",
       "</style>\n",
       "<table border=\"1\" class=\"dataframe\">\n",
       "  <thead>\n",
       "    <tr style=\"text-align: right;\">\n",
       "      <th></th>\n",
       "      <th>num_orders</th>\n",
       "    </tr>\n",
       "    <tr>\n",
       "      <th>datetime</th>\n",
       "      <th></th>\n",
       "    </tr>\n",
       "  </thead>\n",
       "  <tbody>\n",
       "    <tr>\n",
       "      <th>2018-03-01 00:00:00</th>\n",
       "      <td>9</td>\n",
       "    </tr>\n",
       "    <tr>\n",
       "      <th>2018-03-01 00:10:00</th>\n",
       "      <td>14</td>\n",
       "    </tr>\n",
       "    <tr>\n",
       "      <th>2018-03-01 00:20:00</th>\n",
       "      <td>28</td>\n",
       "    </tr>\n",
       "    <tr>\n",
       "      <th>2018-03-01 00:30:00</th>\n",
       "      <td>20</td>\n",
       "    </tr>\n",
       "    <tr>\n",
       "      <th>2018-03-01 00:40:00</th>\n",
       "      <td>32</td>\n",
       "    </tr>\n",
       "  </tbody>\n",
       "</table>\n",
       "</div>"
      ],
      "text/plain": [
       "                     num_orders\n",
       "datetime                       \n",
       "2018-03-01 00:00:00           9\n",
       "2018-03-01 00:10:00          14\n",
       "2018-03-01 00:20:00          28\n",
       "2018-03-01 00:30:00          20\n",
       "2018-03-01 00:40:00          32"
      ]
     },
     "execution_count": 9,
     "metadata": {},
     "output_type": "execute_result"
    }
   ],
   "source": [
    "data.head()"
   ]
  },
  {
   "cell_type": "markdown",
   "metadata": {},
   "source": [
    "Выполним ресемплирование с длиной интервала 1 час и просуммируем значения"
   ]
  },
  {
   "cell_type": "code",
   "execution_count": 10,
   "metadata": {},
   "outputs": [],
   "source": [
    "data = data.resample('1H').sum()"
   ]
  },
  {
   "cell_type": "markdown",
   "metadata": {},
   "source": [
    "<div class=\"alert alert-success\">\n",
    "<h2> Комментарий ревьюера <a class=\"tocSkip\"> </h2>\n",
    "\n",
    "👍 Ресемплирование провели верно. Отлично, что используем суммирование. Такой вариант интуитивно понятен и удобен, ну и соответствует нашему заданию.\n",
    "</div>"
   ]
  },
  {
   "cell_type": "markdown",
   "metadata": {},
   "source": [
    "В определенные часы на графике можно увидеть выбросы в количестве заказов. В целом количество заказов возрастает к концу августа."
   ]
  },
  {
   "cell_type": "code",
   "execution_count": 11,
   "metadata": {
    "scrolled": true
   },
   "outputs": [
    {
     "data": {
      "text/plain": [
       "Text(0.5, 0, 'datetime')"
      ]
     },
     "execution_count": 11,
     "metadata": {},
     "output_type": "execute_result"
    },
    {
     "data": {
      "image/png": "[encoded data removed]",
      "text/plain": [
       "<Figure size 1080x720 with 1 Axes>"
      ]
     },
     "metadata": {
      "needs_background": "light"
     },
     "output_type": "display_data"
    }
   ],
   "source": [
    "data.plot(figsize=(15, 10))\n",
    "plt.title('data by hour')\n",
    "plt.ylabel('number of orders')\n",
    "plt.xlabel('datetime')"
   ]
  },
  {
   "cell_type": "markdown",
   "metadata": {},
   "source": [
    "<div class=\"alert alert-warning\">\n",
    "<h2> Комментарий ревьюера <a class=\"tocSkip\"> </h2>\n",
    "    \n",
    "<b>Некоторые замечания и рекомендации💡:</b> \n",
    "\n",
    "Графики в проекте нужно подписать.\n",
    "       \n",
    "</div> \n",
    " "
   ]
  },
  {
   "cell_type": "markdown",
   "metadata": {},
   "source": [
    "<div class=\"alert alert-info\">\n",
    "подписал)\n",
    "</div>"
   ]
  },
  {
   "cell_type": "markdown",
   "metadata": {},
   "source": [
    "## Анализ"
   ]
  },
  {
   "cell_type": "code",
   "execution_count": 12,
   "metadata": {},
   "outputs": [],
   "source": [
    "decomposed = seasonal_decompose(data)"
   ]
  },
  {
   "cell_type": "markdown",
   "metadata": {},
   "source": [
    "Разложим временной ряд на три составляющие. Можно сделать вывод о появившемся с мая тренде на рост числа вызовов такси, этот рост ускорился в августе. Что касается сезонности, то она в представленных данных отсутствует."
   ]
  },
  {
   "cell_type": "code",
   "execution_count": 13,
   "metadata": {},
   "outputs": [
    {
     "data": {
      "image/png": "[encoded data removed]",
      "text/plain": [
       "<Figure size 720x864 with 3 Axes>"
      ]
     },
     "metadata": {
      "needs_background": "light"
     },
     "output_type": "display_data"
    }
   ],
   "source": [
    "plt.figure(figsize=(10, 12))\n",
    "plt.subplot(311)\n",
    "decomposed.trend.plot(ax=plt.gca())\n",
    "plt.title('Trend')\n",
    "plt.subplot(312)\n",
    "decomposed.seasonal.plot(ax=plt.gca())\n",
    "plt.title('Seasonality')\n",
    "plt.subplot(313)\n",
    "decomposed.resid.plot(ax=plt.gca())\n",
    "plt.title('Residuals')\n",
    "plt.tight_layout()"
   ]
  },
  {
   "cell_type": "markdown",
   "metadata": {},
   "source": [
    "<div class=\"alert alert-block alert-danger\">\n",
    "<h2><s> Комментарий ревьюера <a class=\"tocSkip\"></h2>\n",
    "  \n",
    "<b>На доработку🤔:</b>\n",
    "\n",
    "Здесь важно написать вывод по аналитике: тренд постоянный, с ускорением? Растет число заказов по август, а в августе как обстоят дела?\n",
    "    \n",
    "Можно посмотреть в другом масштабе на данные: есть ли суточная сезонность? в какие часы больше и меньше заказов? Можно взять данные за несколько суток.\n",
    "    \n",
    "Важно также изучить недельную сезонность. Удобнее всего ее увидеть, если сделать дополнительное ресемплирование (сохраняем в другую переменную, так как дальше в проекте будем работать с ресемплированием по часам и важно его не потерять) по дням. И также берем несколько недель.\n",
    "\n",
    "\n",
    "По «остаткам» или шуму. Нужно посмотреть, на всем ли протяжении доля остатков одинаковая? Если если «остатков» к концу графика больше, значит в тестовую выборку попадет чуть больше данных, которые сложно объяснить и на которых модели будет сложнее предсказывать. Поэтому относительно большая (по сравнению с другими задачами машинного обучения) разница между метриками при обучении и исследовании, и между тестовой выборкой, не обязательно будет объясняться только переобучением модели.\n",
    "\n",
    "       \n",
    "</div>"
   ]
  },
  {
   "cell_type": "markdown",
   "metadata": {},
   "source": [
    "<div class=\"alert alert-info\">\n",
    "А момент с укорением тренда надо как-то обозначить графически? Словами я это прописал над графиком. И сделал сейчас отдельный вывод по анализу. Добавил решения по остальным комментариям.\n",
    "</div>"
   ]
  },
  {
   "cell_type": "markdown",
   "metadata": {},
   "source": [
    "<div class=\"alert alert-success\">\n",
    "<h2> Комментарий ревьюера #2 <a class=\"tocSkip\"> </h2>\n",
    "\n",
    "👍 Нет, необязательно. Тем более, тут можно интерпретировать это ускорение как ожидаемую сезонность за счет «сезона отпусков». Пока у нас нет данных за пару лет для нас месячные колебания будут являться трендом в строгом смысле, однако можем предполагать из аналитики, что это такая хитрая сезонность.\n",
    "    \n",
    "Для чего нам важно наблюдение? Для того, чтобы понимать, что модель будет хуже предсказывать данные августа.\n",
    "</div>\n",
    "  \n",
    " "
   ]
  },
  {
   "cell_type": "markdown",
   "metadata": {},
   "source": [
    "Рассмотрим количество заказов по часам. Можно выделить несколько пиков - в районе полуночи, в утренние часы в 9-10, и днем в 16. Самое неактивное время - это 5-7 утра."
   ]
  },
  {
   "cell_type": "code",
   "execution_count": 44,
   "metadata": {
    "scrolled": true
   },
   "outputs": [
    {
     "data": {
      "text/plain": [
       "Text(0.5, 1.0, 'orders by hour')"
      ]
     },
     "execution_count": 44,
     "metadata": {},
     "output_type": "execute_result"
    },
    {
     "data": {
      "image/png": "[encoded data removed]",
      "text/plain": [
       "<Figure size 720x360 with 1 Axes>"
      ]
     },
     "metadata": {
      "needs_background": "light"
     },
     "output_type": "display_data"
    }
   ],
   "source": [
    "data.pivot_table(['num_orders'], data.index.hour, aggfunc='sum').plot(kind='bar', grid=True, figsize=(10, 5))\n",
    "plt.title('orders by hour')"
   ]
  },
  {
   "cell_type": "markdown",
   "metadata": {},
   "source": [
    "В данных по дням недели можно отметить, что к выходным количество заказов растет."
   ]
  },
  {
   "cell_type": "code",
   "execution_count": 45,
   "metadata": {},
   "outputs": [
    {
     "data": {
      "text/plain": [
       "Text(0.5, 1.0, 'orders by day of week')"
      ]
     },
     "execution_count": 45,
     "metadata": {},
     "output_type": "execute_result"
    },
    {
     "data": {
      "image/png": "[encoded data removed]",
      "text/plain": [
       "<Figure size 720x360 with 1 Axes>"
      ]
     },
     "metadata": {
      "needs_background": "light"
     },
     "output_type": "display_data"
    }
   ],
   "source": [
    "data.pivot_table(['num_orders'], data.index.dayofweek, aggfunc='sum').plot(kind='bar', grid=True, figsize=(10, 5))\n",
    "plt.title('orders by day of week')"
   ]
  },
  {
   "cell_type": "markdown",
   "metadata": {},
   "source": [
    "Ранее мы отметили тренд на рост количества заказов на протяжении всего времени и ускорение тренда в августе. Это же можно заметить по количеству заказов в неделю."
   ]
  },
  {
   "cell_type": "code",
   "execution_count": 46,
   "metadata": {
    "scrolled": false
   },
   "outputs": [
    {
     "data": {
      "text/plain": [
       "Text(0.5, 1.0, 'orders by week')"
      ]
     },
     "execution_count": 46,
     "metadata": {},
     "output_type": "execute_result"
    },
    {
     "data": {
      "image/png": "[encoded data removed]",
      "text/plain": [
       "<Figure size 720x360 with 1 Axes>"
      ]
     },
     "metadata": {
      "needs_background": "light"
     },
     "output_type": "display_data"
    }
   ],
   "source": [
    "data.pivot_table(['num_orders'], data.index.week, aggfunc='sum').plot(kind='bar', grid=True, figsize=(10, 5))\n",
    "plt.title('orders by week')"
   ]
  },
  {
   "cell_type": "markdown",
   "metadata": {},
   "source": [
    "Возьмем три недели в разные промежутки времени. Весна - когда рост заказов слабый, лето - когда рост становится заметным, август - когда проявляется ускорение тренда. На всех трех периодах сложно выделить сезонность."
   ]
  },
  {
   "cell_type": "code",
   "execution_count": 17,
   "metadata": {},
   "outputs": [
    {
     "data": {
      "text/plain": [
       "Text(0.5, 1.0, 'Seasonality')"
      ]
     },
     "execution_count": 17,
     "metadata": {},
     "output_type": "execute_result"
    },
    {
     "data": {
      "image/png": "[encoded data removed]",
      "text/plain": [
       "<Figure size 720x864 with 3 Axes>"
      ]
     },
     "metadata": {
      "needs_background": "light"
     },
     "output_type": "display_data"
    }
   ],
   "source": [
    "plt.figure(figsize=(10, 12))\n",
    "plt.subplot(311)\n",
    "decomposed.seasonal['2018-03-20':'2018-03-27'].plot(ax=plt.gca())\n",
    "plt.title('Seasonality')\n",
    "plt.subplot(312)\n",
    "decomposed.seasonal['2018-06-07':'2018-06-14'].plot(ax=plt.gca())\n",
    "plt.title('Seasonality')\n",
    "plt.subplot(313)\n",
    "decomposed.seasonal['2018-08-15':'2018-08-22'].plot(ax=plt.gca())\n",
    "plt.title('Seasonality')"
   ]
  },
  {
   "cell_type": "markdown",
   "metadata": {},
   "source": [
    "<div class=\"alert alert-info\">\n",
    "Здесь у меня есть вопрос. Я выделил данные по неделе в отдельную переменную, но применение seasonal_decompose к ней выдает ошибку. Я не понимаю, почему(\n",
    "</div>"
   ]
  },
  {
   "cell_type": "markdown",
   "metadata": {},
   "source": [
    "<div class=\"alert alert-success\">\n",
    "<h2> Комментарий ревьюера #2 <a class=\"tocSkip\"> </h2>\n",
    "\n",
    "👍 Сезонность у нас измеряется на уровень выше ресемплирования. Вообще, чисто логически можно представить, что будет месячная сезонность, но недели сильно не укладываются ровно в месяц, поэтому для признака недели сезонность будет в интервале года. За год у нас нет достаточно данных. Видимо, ошибка связана как раз с этим. Невозможно корректно подсчитать сезонность при ресемплировании в неделю, если данных меньше, чем за год.\n",
    "</div>\n",
    "  \n",
    " "
   ]
  },
  {
   "cell_type": "code",
   "execution_count": 18,
   "metadata": {},
   "outputs": [],
   "source": [
    "data_week = data.resample('1W').sum()"
   ]
  },
  {
   "cell_type": "code",
   "execution_count": 19,
   "metadata": {},
   "outputs": [
    {
     "data": {
      "text/plain": [
       "Text(0.5, 0, 'datetime')"
      ]
     },
     "execution_count": 19,
     "metadata": {},
     "output_type": "execute_result"
    },
    {
     "data": {
      "image/png": "[encoded data removed]",
      "text/plain": [
       "<Figure size 576x360 with 1 Axes>"
      ]
     },
     "metadata": {
      "needs_background": "light"
     },
     "output_type": "display_data"
    }
   ],
   "source": [
    "data_week.plot(figsize=(8, 5))\n",
    "plt.title('data by week')\n",
    "plt.ylabel('number of orders')\n",
    "plt.xlabel('datetime')"
   ]
  },
  {
   "cell_type": "code",
   "execution_count": 20,
   "metadata": {
    "scrolled": false
   },
   "outputs": [],
   "source": [
    "#decomposed_week = seasonal_decompose(data_week)"
   ]
  },
  {
   "cell_type": "markdown",
   "metadata": {},
   "source": [
    "<div class=\"alert alert-info\">\n",
    "Тем не менее, написал вывод на анализу\n",
    "</div>"
   ]
  },
  {
   "cell_type": "markdown",
   "metadata": {},
   "source": [
    "Вывод по анализу:\n",
    "\n",
    "- В данных можно отметить тренд рост числа заказов с течением времени. Этот рост ускоряется в августе. В то же время сезонность в данных отсутствует. Так же мы можем заметить на графике большее количество остатков, что, видимо, связано с ускорением тренда.\n",
    "\n",
    "- В количестве заказов по часам можно выделить сезонность. Есть три пика заказов: утром в 9-10 часов, днем в 16, и в районе полуночи. Самые неактивные часы - 5-7 утра.\n",
    "\n",
    "- В раскладке по дням можно заметить рост количества заказов к выходным, но в выходные начинается снижение.\n",
    "\n",
    "- В данных по неделям сезонность не выявлена."
   ]
  },
  {
   "cell_type": "markdown",
   "metadata": {},
   "source": [
    "<div class=\"alert alert-info\">\n",
    "Это уже не нужно, получается\n",
    "</div>"
   ]
  },
  {
   "cell_type": "markdown",
   "metadata": {},
   "source": [
    "<div class=\"alert alert-success\">\n",
    "<h2> Комментарий ревьюера #2 <a class=\"tocSkip\"> </h2>\n",
    "\n",
    "👍 Да, здесь уже не актуально.\n",
    "</div>\n",
    "  \n",
    " "
   ]
  },
  {
   "cell_type": "markdown",
   "metadata": {},
   "source": [
    "Сделаем ряд стационарным через разности его значений. Добавим в таблцу скользящее среднее и скользящее стандартное отклонение, выберем для этого интервал 10."
   ]
  },
  {
   "cell_type": "code",
   "execution_count": 21,
   "metadata": {},
   "outputs": [],
   "source": [
    "#data = data - data.shift()\n",
    "#data['mean'] = data['num_orders'].rolling(10).mean()\n",
    "#data['std'] = data['num_orders'].rolling(10).std()"
   ]
  },
  {
   "cell_type": "markdown",
   "metadata": {},
   "source": [
    "<div class=\"alert alert-block alert-danger\">\n",
    "<h2><s> Комментарий ревьюера <a class=\"tocSkip\"></h2>\n",
    "  \n",
    "<b>На доработку🤔:</b>\n",
    " \n",
    "По заданию проекта: «Чтобы привлекать больше водителей в период пиковой нагрузки, нужно спрогнозировать количество заказов такси на следующий час. Нам нужно построить модель для такого предсказания.»\n",
    "    \n",
    "Важно построить модель, которая будет предсказывать именно количество заказов, а не отличие в количестве заказов от предыдущего часа. Именно под количество заказов у нас и определено качество в RMSE<48.\n",
    "\n",
    "Поэтому `data = data-data.shift()` здесь будет ошибочно делать.\n",
    "\n",
    "***\n",
    "\n",
    "В строгом смысле наш ряд не является стационарным, потому что имеет не только тренд, но еще и с августа - ускорение (квадратичный тренд). Дисперсия также непостоянна.\n",
    "    \n",
    "Однако есть методы, с помощью которых можно попытаться привести ряд к стационарному. Например, если возьмем разность временного ряда, то уберем тренд. Если применим преодразование Бокса-Кокса, то уберем неоднородность дисперсии. Можно взять разность по сезонности и уберем сезонность. \n",
    "    \n",
    "Наши модели могут предсказывать ряд без всех этих преобразований. Делать преобразования нам не нужно. Можно просто протестировать, приводим ли наш ряд к стационарному. Часто в задачах ML ряд, приводимый к стационарному для простоты называют стационарным. Однако строго по определению он таковым не является.\n",
    "    \n",
    "Для определения стационарного ряда применяется тест Дики-Фуллера.\n",
    "\n",
    "***\n",
    "\n",
    "Среднее и стандартное отклонение мы можем создать, а также мы можем посмотреть разницу ряда и увидеть, что тренд пропадает (ряд приводим к стационарному), однако сохранять ни среднее, ни стандартное отклонение, ни разницу ряда не нужно. По разнице ряда пояснил выше, а что касается среднего и стандартного отклонения, то здесь мы их считаем с учетом текущего значения строки, то есть, с учетом таргета. То есть, если мы знаем среднее и несколько отстающих значений (столько, какое окно делаем), то можем восстаносить таргет. Происходит утечка таргета.\n",
    "\n",
    "Ну и для строки, которую предсказываем (следующий час) мы не сможем подсчитать скользящее среднее с учетом этого часа (так как он еще не наступил, мы же предсказываем будущее). \n",
    "       \n",
    "\n",
    "</div>\n"
   ]
  },
  {
   "cell_type": "markdown",
   "metadata": {},
   "source": [
    "<div class=\"alert alert-info\">\n",
    "😳\n",
    "</div>"
   ]
  },
  {
   "cell_type": "markdown",
   "metadata": {},
   "source": [
    "<div class=\"alert alert-success\">\n",
    "<h2> Комментарий ревьюера #2 <a class=\"tocSkip\"> </h2>\n",
    "\n",
    "👍 Теперь все верно.\n",
    "</div>\n",
    "  \n",
    " "
   ]
  },
  {
   "cell_type": "code",
   "execution_count": 22,
   "metadata": {},
   "outputs": [
    {
     "name": "stdout",
     "output_type": "stream",
     "text": [
      "Если значение с индексом 1 меньше P-Value, заданное нами (обычно берут 0.05), то ряд стационарный\n",
      "Наш ряд стационарный\n"
     ]
    }
   ],
   "source": [
    "# код ревьювера\n",
    "from statsmodels.tsa.stattools import adfuller\n",
    "\n",
    "taxi = pd.read_csv(\"/datasets/taxi.csv\", index_col=[0], parse_dates=[0]).resample('1H').sum()\n",
    "\n",
    "ts = taxi['num_orders']\n",
    "st_test = adfuller(ts, regression='ctt')\n",
    "\n",
    "print('Если значение с индексом 1 меньше P-Value, заданное нами (обычно берут 0.05), то ряд стационарный')\n",
    "if st_test[1] < 0.05:\n",
    "    print('Наш ряд стационарный')\n",
    "else:\n",
    "    print('Ряд нестационарный')\n",
    "\n"
   ]
  },
  {
   "cell_type": "code",
   "execution_count": 23,
   "metadata": {
    "scrolled": true
   },
   "outputs": [],
   "source": [
    "#data.plot()"
   ]
  },
  {
   "cell_type": "markdown",
   "metadata": {},
   "source": [
    "## Обучение"
   ]
  },
  {
   "cell_type": "markdown",
   "metadata": {},
   "source": [
    "### Создание признаков"
   ]
  },
  {
   "cell_type": "markdown",
   "metadata": {},
   "source": [
    "Напишем функцию для создания признаков"
   ]
  },
  {
   "cell_type": "code",
   "execution_count": 24,
   "metadata": {},
   "outputs": [],
   "source": [
    "def make_features(data, max_lag, rolling_mean):\n",
    "    # представим месяц, день и день недели в качестве отдельных столбцов\n",
    "    #data['month'] = data.index.month\n",
    "    data['hour'] = data.index.hour\n",
    "    #data['day'] = data.index.day\n",
    "    data['day_of_week'] = data.index.dayofweek\n",
    "    \n",
    "    # получим отстающие значения (покажут, будет ли функция расти или уменьшаться)\n",
    "    for lag in range(1, max_lag + 1):\n",
    "        data['lag_{}'.format(lag)] = data['num_orders'].shift(lag)\n",
    "    \n",
    "    # выведем скользящее среднее (задает общий тренд временного ряда)\n",
    "    data['rolling_mean'] = data['num_orders'].rolling(window=rolling_mean, closed='left').mean()\n",
    "    # и скользящее стандартное отклонение\n",
    "    #data['std'] = data['num_orders'].rolling(window=rolling_mean, closed='left').std()"
   ]
  },
  {
   "cell_type": "markdown",
   "metadata": {},
   "source": [
    "<div class=\"alert alert-block alert-danger\">\n",
    "<h2><s> Комментарий ревьюера <a class=\"tocSkip\"></h2>\n",
    "  \n",
    "<b>На доработку🤔:</b>\n",
    " \n",
    "Все ли признаки нам пригодятся? У нас данные за какой период? Можем ли «поймать» годовую сезонность? Важен ли месяц?\n",
    "\n",
    "Наши календарные признаки подчеркивают сезонность. Относительно сезонности признаки идут на один уровень ниже. Если у нас суточная сезонность, то логично создавать признак часа (час одного дня похож на тот же час другого), если недельная - день недели.\n",
    "    \n",
    "И напротив, выше изучили данные и увидели, что суточная сезонность достаточно сильная. Здесь нам будет важно выделить признак часа.\n",
    "\n",
    "</div>"
   ]
  },
  {
   "cell_type": "markdown",
   "metadata": {},
   "source": [
    "<div class=\"alert alert-block alert-danger\">\n",
    "<h2> <s>Комментарий ревьюера <a class=\"tocSkip\"></h2>\n",
    "  \n",
    "<b>На доработку🤔:</b>\n",
    " \n",
    "Выше создаешь среднее и стандартное отклонение. Нужно будет их же там удалить или не включать в датасет.\n",
    "    \n",
    "Здесь закомментировано скользящее среднее в варианте из тренажера. А оно нам понадобится. Здесь мы его считаем с лагом, так что не учитываем таргет, поэтому утечки признака не происходит. Как фича скользящее среднее нам нужно, так как позволяет модели не отвлекаться на резкие скачки и отслеживать тренд.\n",
    "\n",
    "</div>\n",
    "\n"
   ]
  },
  {
   "cell_type": "markdown",
   "metadata": {},
   "source": [
    "<div class=\"alert alert-info\">\n",
    "Если я все правильно понял в этой части, то мы должны оставить признаки час и день недели, где у нас проявилась сезонность. А также ниже изменил max_lag на 24. Я правда не уверен, нужно ли тогда использовать max_lag, или надо просто сделать один признак со сдвигом 24?\n",
    "</div>"
   ]
  },
  {
   "cell_type": "markdown",
   "metadata": {},
   "source": [
    "<div class=\"alert alert-success\">\n",
    "<h2> Комментарий ревьюера #2 <a class=\"tocSkip\"> </h2>\n",
    "\n",
    "👍 Нам важны первые несколько лагов, так как каждый из них дает свой вклад в модель. По графику автокорреляции видно, что они высоко коррелируют с таргетом. Одного первого лага будет недостаточно, так как тогда модель будет нестабильной, если в предыдущем часе будет какой-то выброс. А скользящее среднее не учитывает разную важность лагов.\n",
    "    \n",
    "Есть подход к прогнозированию временных рядов, который называется экспоненциальным сглаживанием, где мы не просто берем скользящее среднее, но в этом среднем назначаем разные веса разным лагам: чем ближе к таргету, тем выше ценность.\n",
    "    \n",
    "В нашем случае мы должны просто подать в модель эти лаги, а она сама рассчитает веса, что в итоге будет эквивалентно экспоненциальному сглаживанию. \n",
    "</div>\n",
    "  \n",
    " "
   ]
  },
  {
   "cell_type": "code",
   "execution_count": 25,
   "metadata": {},
   "outputs": [],
   "source": [
    "make_features(data, 24, 10)"
   ]
  },
  {
   "cell_type": "markdown",
   "metadata": {},
   "source": [
    "<div class=\"alert alert-block alert-danger\">\n",
    "<h2><s> Комментарий ревьюера <a class=\"tocSkip\"></h2>\n",
    "  \n",
    "<b>На доработку🤔:</b>\n",
    " \n",
    "   \n",
    "Один из самых важных признаков в задаче временных рядов - это так называемые «лаги», то есть, значения предыдущих периодов наблюдения. Мы помним, что модель не считает по столбцам таблицы, она считает и подбирает веса к строкам нашего датасета. Соответственно, если мы хотим, чтобы модель предсказывала следующее значение, опираясь на предыдущие, нужно, чтобы она эти предыдущие значения увидела (по горизонтали нашего датасета). Нам важно создать новые колонки с отстающими значениями. Особенно полезны будут те лаги, которые имеют высокую корреляцию с таргетом. Логично, что высокая корреляция будет при выраженной сезонности. Если у нас посуточная сезонность, то каждый час одних суток будет немного похож по динамике заказов на тот же час предыдущих суток (например, к 17:00 количество заказов увеличивается, к 00:00 еще, а к 6:00 падает до минимума, и так каждый день. Значит, нам понадобится 24-й лаг, который будет отражать суточную сезонность. Если есть недельная сезонность, то по этой же причине нам будет очень важен 168-й лаг.\n",
    "    \n",
    "Значимость лагов можно посмотреть по автокорреляции. Функция показывает, как признак коррелирует с предыдущими. Область синей заливки обозначает порог статистической значимости (если значение внутри, корреляция уже не заслуживает доверия. Статзначимость вычисляется по тесту Стьюдента).\n",
    "\n",
    "</div>"
   ]
  },
  {
   "cell_type": "code",
   "execution_count": 26,
   "metadata": {},
   "outputs": [
    {
     "data": {
      "image/png": "[encoded data removed]",
      "text/plain": [
       "<Figure size 1332x432 with 1 Axes>"
      ]
     },
     "metadata": {
      "needs_background": "light"
     },
     "output_type": "display_data"
    }
   ],
   "source": [
    "# Код ревьюера\n",
    "from statsmodels.graphics import tsaplots\n",
    "\n",
    "taxi = pd.read_csv(\"/datasets/taxi.csv\", index_col=[0], parse_dates=[0]).resample('1H').sum()\n",
    "ts = taxi['num_orders']\n",
    "\n",
    "fig = tsaplots.plot_acf(ts,lags= 190)\n",
    "fig.set_size_inches(18.5, 6)\n",
    "plt.ylim(-.1, 1.1)\n",
    "plt.show() \n",
    "\n"
   ]
  },
  {
   "cell_type": "code",
   "execution_count": 27,
   "metadata": {},
   "outputs": [
    {
     "data": {
      "text/html": [
       "<div>\n",
       "<style scoped>\n",
       "    .dataframe tbody tr th:only-of-type {\n",
       "        vertical-align: middle;\n",
       "    }\n",
       "\n",
       "    .dataframe tbody tr th {\n",
       "        vertical-align: top;\n",
       "    }\n",
       "\n",
       "    .dataframe thead th {\n",
       "        text-align: right;\n",
       "    }\n",
       "</style>\n",
       "<table border=\"1\" class=\"dataframe\">\n",
       "  <thead>\n",
       "    <tr style=\"text-align: right;\">\n",
       "      <th></th>\n",
       "      <th>num_orders</th>\n",
       "      <th>hour</th>\n",
       "      <th>day_of_week</th>\n",
       "      <th>lag_1</th>\n",
       "      <th>lag_2</th>\n",
       "      <th>lag_3</th>\n",
       "      <th>lag_4</th>\n",
       "      <th>lag_5</th>\n",
       "      <th>lag_6</th>\n",
       "      <th>lag_7</th>\n",
       "      <th>...</th>\n",
       "      <th>lag_16</th>\n",
       "      <th>lag_17</th>\n",
       "      <th>lag_18</th>\n",
       "      <th>lag_19</th>\n",
       "      <th>lag_20</th>\n",
       "      <th>lag_21</th>\n",
       "      <th>lag_22</th>\n",
       "      <th>lag_23</th>\n",
       "      <th>lag_24</th>\n",
       "      <th>rolling_mean</th>\n",
       "    </tr>\n",
       "    <tr>\n",
       "      <th>datetime</th>\n",
       "      <th></th>\n",
       "      <th></th>\n",
       "      <th></th>\n",
       "      <th></th>\n",
       "      <th></th>\n",
       "      <th></th>\n",
       "      <th></th>\n",
       "      <th></th>\n",
       "      <th></th>\n",
       "      <th></th>\n",
       "      <th></th>\n",
       "      <th></th>\n",
       "      <th></th>\n",
       "      <th></th>\n",
       "      <th></th>\n",
       "      <th></th>\n",
       "      <th></th>\n",
       "      <th></th>\n",
       "      <th></th>\n",
       "      <th></th>\n",
       "      <th></th>\n",
       "    </tr>\n",
       "  </thead>\n",
       "  <tbody>\n",
       "    <tr>\n",
       "      <th>2018-03-01 00:00:00</th>\n",
       "      <td>124</td>\n",
       "      <td>0</td>\n",
       "      <td>3</td>\n",
       "      <td>NaN</td>\n",
       "      <td>NaN</td>\n",
       "      <td>NaN</td>\n",
       "      <td>NaN</td>\n",
       "      <td>NaN</td>\n",
       "      <td>NaN</td>\n",
       "      <td>NaN</td>\n",
       "      <td>...</td>\n",
       "      <td>NaN</td>\n",
       "      <td>NaN</td>\n",
       "      <td>NaN</td>\n",
       "      <td>NaN</td>\n",
       "      <td>NaN</td>\n",
       "      <td>NaN</td>\n",
       "      <td>NaN</td>\n",
       "      <td>NaN</td>\n",
       "      <td>NaN</td>\n",
       "      <td>NaN</td>\n",
       "    </tr>\n",
       "    <tr>\n",
       "      <th>2018-03-01 01:00:00</th>\n",
       "      <td>85</td>\n",
       "      <td>1</td>\n",
       "      <td>3</td>\n",
       "      <td>124.0</td>\n",
       "      <td>NaN</td>\n",
       "      <td>NaN</td>\n",
       "      <td>NaN</td>\n",
       "      <td>NaN</td>\n",
       "      <td>NaN</td>\n",
       "      <td>NaN</td>\n",
       "      <td>...</td>\n",
       "      <td>NaN</td>\n",
       "      <td>NaN</td>\n",
       "      <td>NaN</td>\n",
       "      <td>NaN</td>\n",
       "      <td>NaN</td>\n",
       "      <td>NaN</td>\n",
       "      <td>NaN</td>\n",
       "      <td>NaN</td>\n",
       "      <td>NaN</td>\n",
       "      <td>NaN</td>\n",
       "    </tr>\n",
       "    <tr>\n",
       "      <th>2018-03-01 02:00:00</th>\n",
       "      <td>71</td>\n",
       "      <td>2</td>\n",
       "      <td>3</td>\n",
       "      <td>85.0</td>\n",
       "      <td>124.0</td>\n",
       "      <td>NaN</td>\n",
       "      <td>NaN</td>\n",
       "      <td>NaN</td>\n",
       "      <td>NaN</td>\n",
       "      <td>NaN</td>\n",
       "      <td>...</td>\n",
       "      <td>NaN</td>\n",
       "      <td>NaN</td>\n",
       "      <td>NaN</td>\n",
       "      <td>NaN</td>\n",
       "      <td>NaN</td>\n",
       "      <td>NaN</td>\n",
       "      <td>NaN</td>\n",
       "      <td>NaN</td>\n",
       "      <td>NaN</td>\n",
       "      <td>NaN</td>\n",
       "    </tr>\n",
       "    <tr>\n",
       "      <th>2018-03-01 03:00:00</th>\n",
       "      <td>66</td>\n",
       "      <td>3</td>\n",
       "      <td>3</td>\n",
       "      <td>71.0</td>\n",
       "      <td>85.0</td>\n",
       "      <td>124.0</td>\n",
       "      <td>NaN</td>\n",
       "      <td>NaN</td>\n",
       "      <td>NaN</td>\n",
       "      <td>NaN</td>\n",
       "      <td>...</td>\n",
       "      <td>NaN</td>\n",
       "      <td>NaN</td>\n",
       "      <td>NaN</td>\n",
       "      <td>NaN</td>\n",
       "      <td>NaN</td>\n",
       "      <td>NaN</td>\n",
       "      <td>NaN</td>\n",
       "      <td>NaN</td>\n",
       "      <td>NaN</td>\n",
       "      <td>NaN</td>\n",
       "    </tr>\n",
       "    <tr>\n",
       "      <th>2018-03-01 04:00:00</th>\n",
       "      <td>43</td>\n",
       "      <td>4</td>\n",
       "      <td>3</td>\n",
       "      <td>66.0</td>\n",
       "      <td>71.0</td>\n",
       "      <td>85.0</td>\n",
       "      <td>124.0</td>\n",
       "      <td>NaN</td>\n",
       "      <td>NaN</td>\n",
       "      <td>NaN</td>\n",
       "      <td>...</td>\n",
       "      <td>NaN</td>\n",
       "      <td>NaN</td>\n",
       "      <td>NaN</td>\n",
       "      <td>NaN</td>\n",
       "      <td>NaN</td>\n",
       "      <td>NaN</td>\n",
       "      <td>NaN</td>\n",
       "      <td>NaN</td>\n",
       "      <td>NaN</td>\n",
       "      <td>NaN</td>\n",
       "    </tr>\n",
       "    <tr>\n",
       "      <th>2018-03-01 05:00:00</th>\n",
       "      <td>6</td>\n",
       "      <td>5</td>\n",
       "      <td>3</td>\n",
       "      <td>43.0</td>\n",
       "      <td>66.0</td>\n",
       "      <td>71.0</td>\n",
       "      <td>85.0</td>\n",
       "      <td>124.0</td>\n",
       "      <td>NaN</td>\n",
       "      <td>NaN</td>\n",
       "      <td>...</td>\n",
       "      <td>NaN</td>\n",
       "      <td>NaN</td>\n",
       "      <td>NaN</td>\n",
       "      <td>NaN</td>\n",
       "      <td>NaN</td>\n",
       "      <td>NaN</td>\n",
       "      <td>NaN</td>\n",
       "      <td>NaN</td>\n",
       "      <td>NaN</td>\n",
       "      <td>NaN</td>\n",
       "    </tr>\n",
       "    <tr>\n",
       "      <th>2018-03-01 06:00:00</th>\n",
       "      <td>12</td>\n",
       "      <td>6</td>\n",
       "      <td>3</td>\n",
       "      <td>6.0</td>\n",
       "      <td>43.0</td>\n",
       "      <td>66.0</td>\n",
       "      <td>71.0</td>\n",
       "      <td>85.0</td>\n",
       "      <td>124.0</td>\n",
       "      <td>NaN</td>\n",
       "      <td>...</td>\n",
       "      <td>NaN</td>\n",
       "      <td>NaN</td>\n",
       "      <td>NaN</td>\n",
       "      <td>NaN</td>\n",
       "      <td>NaN</td>\n",
       "      <td>NaN</td>\n",
       "      <td>NaN</td>\n",
       "      <td>NaN</td>\n",
       "      <td>NaN</td>\n",
       "      <td>NaN</td>\n",
       "    </tr>\n",
       "    <tr>\n",
       "      <th>2018-03-01 07:00:00</th>\n",
       "      <td>15</td>\n",
       "      <td>7</td>\n",
       "      <td>3</td>\n",
       "      <td>12.0</td>\n",
       "      <td>6.0</td>\n",
       "      <td>43.0</td>\n",
       "      <td>66.0</td>\n",
       "      <td>71.0</td>\n",
       "      <td>85.0</td>\n",
       "      <td>124.0</td>\n",
       "      <td>...</td>\n",
       "      <td>NaN</td>\n",
       "      <td>NaN</td>\n",
       "      <td>NaN</td>\n",
       "      <td>NaN</td>\n",
       "      <td>NaN</td>\n",
       "      <td>NaN</td>\n",
       "      <td>NaN</td>\n",
       "      <td>NaN</td>\n",
       "      <td>NaN</td>\n",
       "      <td>NaN</td>\n",
       "    </tr>\n",
       "    <tr>\n",
       "      <th>2018-03-01 08:00:00</th>\n",
       "      <td>34</td>\n",
       "      <td>8</td>\n",
       "      <td>3</td>\n",
       "      <td>15.0</td>\n",
       "      <td>12.0</td>\n",
       "      <td>6.0</td>\n",
       "      <td>43.0</td>\n",
       "      <td>66.0</td>\n",
       "      <td>71.0</td>\n",
       "      <td>85.0</td>\n",
       "      <td>...</td>\n",
       "      <td>NaN</td>\n",
       "      <td>NaN</td>\n",
       "      <td>NaN</td>\n",
       "      <td>NaN</td>\n",
       "      <td>NaN</td>\n",
       "      <td>NaN</td>\n",
       "      <td>NaN</td>\n",
       "      <td>NaN</td>\n",
       "      <td>NaN</td>\n",
       "      <td>NaN</td>\n",
       "    </tr>\n",
       "    <tr>\n",
       "      <th>2018-03-01 09:00:00</th>\n",
       "      <td>69</td>\n",
       "      <td>9</td>\n",
       "      <td>3</td>\n",
       "      <td>34.0</td>\n",
       "      <td>15.0</td>\n",
       "      <td>12.0</td>\n",
       "      <td>6.0</td>\n",
       "      <td>43.0</td>\n",
       "      <td>66.0</td>\n",
       "      <td>71.0</td>\n",
       "      <td>...</td>\n",
       "      <td>NaN</td>\n",
       "      <td>NaN</td>\n",
       "      <td>NaN</td>\n",
       "      <td>NaN</td>\n",
       "      <td>NaN</td>\n",
       "      <td>NaN</td>\n",
       "      <td>NaN</td>\n",
       "      <td>NaN</td>\n",
       "      <td>NaN</td>\n",
       "      <td>NaN</td>\n",
       "    </tr>\n",
       "    <tr>\n",
       "      <th>2018-03-01 10:00:00</th>\n",
       "      <td>64</td>\n",
       "      <td>10</td>\n",
       "      <td>3</td>\n",
       "      <td>69.0</td>\n",
       "      <td>34.0</td>\n",
       "      <td>15.0</td>\n",
       "      <td>12.0</td>\n",
       "      <td>6.0</td>\n",
       "      <td>43.0</td>\n",
       "      <td>66.0</td>\n",
       "      <td>...</td>\n",
       "      <td>NaN</td>\n",
       "      <td>NaN</td>\n",
       "      <td>NaN</td>\n",
       "      <td>NaN</td>\n",
       "      <td>NaN</td>\n",
       "      <td>NaN</td>\n",
       "      <td>NaN</td>\n",
       "      <td>NaN</td>\n",
       "      <td>NaN</td>\n",
       "      <td>52.5</td>\n",
       "    </tr>\n",
       "    <tr>\n",
       "      <th>2018-03-01 11:00:00</th>\n",
       "      <td>96</td>\n",
       "      <td>11</td>\n",
       "      <td>3</td>\n",
       "      <td>64.0</td>\n",
       "      <td>69.0</td>\n",
       "      <td>34.0</td>\n",
       "      <td>15.0</td>\n",
       "      <td>12.0</td>\n",
       "      <td>6.0</td>\n",
       "      <td>43.0</td>\n",
       "      <td>...</td>\n",
       "      <td>NaN</td>\n",
       "      <td>NaN</td>\n",
       "      <td>NaN</td>\n",
       "      <td>NaN</td>\n",
       "      <td>NaN</td>\n",
       "      <td>NaN</td>\n",
       "      <td>NaN</td>\n",
       "      <td>NaN</td>\n",
       "      <td>NaN</td>\n",
       "      <td>46.5</td>\n",
       "    </tr>\n",
       "    <tr>\n",
       "      <th>2018-03-01 12:00:00</th>\n",
       "      <td>30</td>\n",
       "      <td>12</td>\n",
       "      <td>3</td>\n",
       "      <td>96.0</td>\n",
       "      <td>64.0</td>\n",
       "      <td>69.0</td>\n",
       "      <td>34.0</td>\n",
       "      <td>15.0</td>\n",
       "      <td>12.0</td>\n",
       "      <td>6.0</td>\n",
       "      <td>...</td>\n",
       "      <td>NaN</td>\n",
       "      <td>NaN</td>\n",
       "      <td>NaN</td>\n",
       "      <td>NaN</td>\n",
       "      <td>NaN</td>\n",
       "      <td>NaN</td>\n",
       "      <td>NaN</td>\n",
       "      <td>NaN</td>\n",
       "      <td>NaN</td>\n",
       "      <td>47.6</td>\n",
       "    </tr>\n",
       "    <tr>\n",
       "      <th>2018-03-01 13:00:00</th>\n",
       "      <td>32</td>\n",
       "      <td>13</td>\n",
       "      <td>3</td>\n",
       "      <td>30.0</td>\n",
       "      <td>96.0</td>\n",
       "      <td>64.0</td>\n",
       "      <td>69.0</td>\n",
       "      <td>34.0</td>\n",
       "      <td>15.0</td>\n",
       "      <td>12.0</td>\n",
       "      <td>...</td>\n",
       "      <td>NaN</td>\n",
       "      <td>NaN</td>\n",
       "      <td>NaN</td>\n",
       "      <td>NaN</td>\n",
       "      <td>NaN</td>\n",
       "      <td>NaN</td>\n",
       "      <td>NaN</td>\n",
       "      <td>NaN</td>\n",
       "      <td>NaN</td>\n",
       "      <td>43.5</td>\n",
       "    </tr>\n",
       "    <tr>\n",
       "      <th>2018-03-01 14:00:00</th>\n",
       "      <td>48</td>\n",
       "      <td>14</td>\n",
       "      <td>3</td>\n",
       "      <td>32.0</td>\n",
       "      <td>30.0</td>\n",
       "      <td>96.0</td>\n",
       "      <td>64.0</td>\n",
       "      <td>69.0</td>\n",
       "      <td>34.0</td>\n",
       "      <td>15.0</td>\n",
       "      <td>...</td>\n",
       "      <td>NaN</td>\n",
       "      <td>NaN</td>\n",
       "      <td>NaN</td>\n",
       "      <td>NaN</td>\n",
       "      <td>NaN</td>\n",
       "      <td>NaN</td>\n",
       "      <td>NaN</td>\n",
       "      <td>NaN</td>\n",
       "      <td>NaN</td>\n",
       "      <td>40.1</td>\n",
       "    </tr>\n",
       "  </tbody>\n",
       "</table>\n",
       "<p>15 rows × 28 columns</p>\n",
       "</div>"
      ],
      "text/plain": [
       "                     num_orders  hour  day_of_week  lag_1  lag_2  lag_3  \\\n",
       "datetime                                                                  \n",
       "2018-03-01 00:00:00         124     0            3    NaN    NaN    NaN   \n",
       "2018-03-01 01:00:00          85     1            3  124.0    NaN    NaN   \n",
       "2018-03-01 02:00:00          71     2            3   85.0  124.0    NaN   \n",
       "2018-03-01 03:00:00          66     3            3   71.0   85.0  124.0   \n",
       "2018-03-01 04:00:00          43     4            3   66.0   71.0   85.0   \n",
       "2018-03-01 05:00:00           6     5            3   43.0   66.0   71.0   \n",
       "2018-03-01 06:00:00          12     6            3    6.0   43.0   66.0   \n",
       "2018-03-01 07:00:00          15     7            3   12.0    6.0   43.0   \n",
       "2018-03-01 08:00:00          34     8            3   15.0   12.0    6.0   \n",
       "2018-03-01 09:00:00          69     9            3   34.0   15.0   12.0   \n",
       "2018-03-01 10:00:00          64    10            3   69.0   34.0   15.0   \n",
       "2018-03-01 11:00:00          96    11            3   64.0   69.0   34.0   \n",
       "2018-03-01 12:00:00          30    12            3   96.0   64.0   69.0   \n",
       "2018-03-01 13:00:00          32    13            3   30.0   96.0   64.0   \n",
       "2018-03-01 14:00:00          48    14            3   32.0   30.0   96.0   \n",
       "\n",
       "                     lag_4  lag_5  lag_6  lag_7  ...  lag_16  lag_17  lag_18  \\\n",
       "datetime                                         ...                           \n",
       "2018-03-01 00:00:00    NaN    NaN    NaN    NaN  ...     NaN     NaN     NaN   \n",
       "2018-03-01 01:00:00    NaN    NaN    NaN    NaN  ...     NaN     NaN     NaN   \n",
       "2018-03-01 02:00:00    NaN    NaN    NaN    NaN  ...     NaN     NaN     NaN   \n",
       "2018-03-01 03:00:00    NaN    NaN    NaN    NaN  ...     NaN     NaN     NaN   \n",
       "2018-03-01 04:00:00  124.0    NaN    NaN    NaN  ...     NaN     NaN     NaN   \n",
       "2018-03-01 05:00:00   85.0  124.0    NaN    NaN  ...     NaN     NaN     NaN   \n",
       "2018-03-01 06:00:00   71.0   85.0  124.0    NaN  ...     NaN     NaN     NaN   \n",
       "2018-03-01 07:00:00   66.0   71.0   85.0  124.0  ...     NaN     NaN     NaN   \n",
       "2018-03-01 08:00:00   43.0   66.0   71.0   85.0  ...     NaN     NaN     NaN   \n",
       "2018-03-01 09:00:00    6.0   43.0   66.0   71.0  ...     NaN     NaN     NaN   \n",
       "2018-03-01 10:00:00   12.0    6.0   43.0   66.0  ...     NaN     NaN     NaN   \n",
       "2018-03-01 11:00:00   15.0   12.0    6.0   43.0  ...     NaN     NaN     NaN   \n",
       "2018-03-01 12:00:00   34.0   15.0   12.0    6.0  ...     NaN     NaN     NaN   \n",
       "2018-03-01 13:00:00   69.0   34.0   15.0   12.0  ...     NaN     NaN     NaN   \n",
       "2018-03-01 14:00:00   64.0   69.0   34.0   15.0  ...     NaN     NaN     NaN   \n",
       "\n",
       "                     lag_19  lag_20  lag_21  lag_22  lag_23  lag_24  \\\n",
       "datetime                                                              \n",
       "2018-03-01 00:00:00     NaN     NaN     NaN     NaN     NaN     NaN   \n",
       "2018-03-01 01:00:00     NaN     NaN     NaN     NaN     NaN     NaN   \n",
       "2018-03-01 02:00:00     NaN     NaN     NaN     NaN     NaN     NaN   \n",
       "2018-03-01 03:00:00     NaN     NaN     NaN     NaN     NaN     NaN   \n",
       "2018-03-01 04:00:00     NaN     NaN     NaN     NaN     NaN     NaN   \n",
       "2018-03-01 05:00:00     NaN     NaN     NaN     NaN     NaN     NaN   \n",
       "2018-03-01 06:00:00     NaN     NaN     NaN     NaN     NaN     NaN   \n",
       "2018-03-01 07:00:00     NaN     NaN     NaN     NaN     NaN     NaN   \n",
       "2018-03-01 08:00:00     NaN     NaN     NaN     NaN     NaN     NaN   \n",
       "2018-03-01 09:00:00     NaN     NaN     NaN     NaN     NaN     NaN   \n",
       "2018-03-01 10:00:00     NaN     NaN     NaN     NaN     NaN     NaN   \n",
       "2018-03-01 11:00:00     NaN     NaN     NaN     NaN     NaN     NaN   \n",
       "2018-03-01 12:00:00     NaN     NaN     NaN     NaN     NaN     NaN   \n",
       "2018-03-01 13:00:00     NaN     NaN     NaN     NaN     NaN     NaN   \n",
       "2018-03-01 14:00:00     NaN     NaN     NaN     NaN     NaN     NaN   \n",
       "\n",
       "                     rolling_mean  \n",
       "datetime                           \n",
       "2018-03-01 00:00:00           NaN  \n",
       "2018-03-01 01:00:00           NaN  \n",
       "2018-03-01 02:00:00           NaN  \n",
       "2018-03-01 03:00:00           NaN  \n",
       "2018-03-01 04:00:00           NaN  \n",
       "2018-03-01 05:00:00           NaN  \n",
       "2018-03-01 06:00:00           NaN  \n",
       "2018-03-01 07:00:00           NaN  \n",
       "2018-03-01 08:00:00           NaN  \n",
       "2018-03-01 09:00:00           NaN  \n",
       "2018-03-01 10:00:00          52.5  \n",
       "2018-03-01 11:00:00          46.5  \n",
       "2018-03-01 12:00:00          47.6  \n",
       "2018-03-01 13:00:00          43.5  \n",
       "2018-03-01 14:00:00          40.1  \n",
       "\n",
       "[15 rows x 28 columns]"
      ]
     },
     "execution_count": 27,
     "metadata": {},
     "output_type": "execute_result"
    }
   ],
   "source": [
    "data.head(15)"
   ]
  },
  {
   "cell_type": "markdown",
   "metadata": {},
   "source": [
    "<div class=\"alert alert-warning\">\n",
    "<h2> Комментарий ревьюера <a class=\"tocSkip\"> </h2>\n",
    "    \n",
    "<b>Некоторые замечания и рекомендации💡:</b> \n",
    "\n",
    "Здесь видно (или было видно), что в таргете у нас отрицательные значения. Количество заказов не может быть отрицательным. Следовательно, предсказываем что-то другое пока.\n",
    "       \n",
    "</div> "
   ]
  },
  {
   "cell_type": "markdown",
   "metadata": {},
   "source": [
    "<div class=\"alert alert-info\">\n",
    "Да, было такое)\n",
    "</div>"
   ]
  },
  {
   "cell_type": "markdown",
   "metadata": {},
   "source": [
    "### train_test, выделение целевого признака"
   ]
  },
  {
   "cell_type": "markdown",
   "metadata": {},
   "source": [
    "Разделим данные на обучающую и тестовую выборки, выделив в тестовую 10% данных"
   ]
  },
  {
   "cell_type": "code",
   "execution_count": 28,
   "metadata": {},
   "outputs": [],
   "source": [
    "train, test = train_test_split(data, shuffle=False, test_size=0.1)"
   ]
  },
  {
   "cell_type": "markdown",
   "metadata": {},
   "source": [
    "<div class=\"alert alert-success\">\n",
    "<h2> Комментарий ревьюера <a class=\"tocSkip\"> </h2>\n",
    "\n",
    "👍 Здесь все корректно.\n",
    "</div> \n",
    " "
   ]
  },
  {
   "cell_type": "code",
   "execution_count": 29,
   "metadata": {},
   "outputs": [
    {
     "name": "stdout",
     "output_type": "stream",
     "text": [
      "(3974, 28)\n",
      "(442, 28)\n"
     ]
    }
   ],
   "source": [
    "print(train.shape)\n",
    "print(test.shape)"
   ]
  },
  {
   "cell_type": "markdown",
   "metadata": {},
   "source": [
    "Проверим, что данные разделились корректно"
   ]
  },
  {
   "cell_type": "code",
   "execution_count": 30,
   "metadata": {},
   "outputs": [
    {
     "name": "stdout",
     "output_type": "stream",
     "text": [
      "2018-03-01 00:00:00 2018-08-13 13:00:00\n",
      "2018-08-13 14:00:00 2018-08-31 23:00:00\n"
     ]
    }
   ],
   "source": [
    "print(train.index.min(), train.index.max())\n",
    "print(test.index.min(), test.index.max())"
   ]
  },
  {
   "cell_type": "markdown",
   "metadata": {},
   "source": [
    "<div class=\"alert alert-success\">\n",
    "<h2> Комментарий ревьюера <a class=\"tocSkip\"> </h2>\n",
    "\n",
    "👍 Отлично, что делаем проверку разбиения.\n",
    "</div> \n",
    " "
   ]
  },
  {
   "cell_type": "code",
   "execution_count": 31,
   "metadata": {},
   "outputs": [],
   "source": [
    "train = train.dropna()"
   ]
  },
  {
   "cell_type": "markdown",
   "metadata": {},
   "source": [
    "Целевым признаком в нашей задаче является 'num_orders' (количество заказов)"
   ]
  },
  {
   "cell_type": "code",
   "execution_count": 32,
   "metadata": {},
   "outputs": [],
   "source": [
    "features_train = train.drop(columns=['num_orders'], axis=1)\n",
    "target_train = train['num_orders']\n",
    "features_test = test.drop(columns=['num_orders'], axis=1)\n",
    "target_test = test['num_orders']"
   ]
  },
  {
   "cell_type": "markdown",
   "metadata": {},
   "source": [
    "### Обучение моделей"
   ]
  },
  {
   "cell_type": "markdown",
   "metadata": {},
   "source": [
    "Рассмотрим четыре модели. Для каждой проведем подбор гиперпараметров"
   ]
  },
  {
   "cell_type": "code",
   "execution_count": 33,
   "metadata": {},
   "outputs": [],
   "source": [
    "lr = LinearRegression()\n",
    "\n",
    "lr_grid_space = {'n_jobs':[0, 100]}"
   ]
  },
  {
   "cell_type": "code",
   "execution_count": 34,
   "metadata": {},
   "outputs": [],
   "source": [
    "dtr = DecisionTreeRegressor()\n",
    "\n",
    "dtr_grid_space = {'max_depth':[1, 10],\n",
    "              'min_samples_leaf':[2,5]\n",
    "             }"
   ]
  },
  {
   "cell_type": "code",
   "execution_count": 35,
   "metadata": {},
   "outputs": [],
   "source": [
    "rfr = RandomForestRegressor()\n",
    "\n",
    "rfr_grid_space = {'n_estimators':[0,100],\n",
    "              'max_depth':[1, 10],\n",
    "              'min_samples_leaf':[2,5]\n",
    "             }"
   ]
  },
  {
   "cell_type": "code",
   "execution_count": 36,
   "metadata": {},
   "outputs": [],
   "source": [
    "lgbm = LGBMRegressor()\n",
    "\n",
    "lgbm_grid_space = {'n_estimators':[0,100],\n",
    "              'max_depth':[1, 10],\n",
    "              'min_samples_leaf':[2,5],\n",
    "              'num_leaves':[2, 10]\n",
    "             }"
   ]
  },
  {
   "cell_type": "markdown",
   "metadata": {},
   "source": [
    "Напишем функцию для обучения моделей. Используем для этого GridSearchCV"
   ]
  },
  {
   "cell_type": "code",
   "execution_count": 37,
   "metadata": {},
   "outputs": [],
   "source": [
    "def find_model(model, grid_space):\n",
    "    tscv = TimeSeriesSplit(n_splits=5)\n",
    "    grid = GridSearchCV(model, param_grid=grid_space, cv=tscv, scoring='neg_root_mean_squared_error')\n",
    "    model_grid = grid.fit(features_train, target_train)\n",
    "    rmse = abs(model_grid.best_score_)\n",
    "    return rmse"
   ]
  },
  {
   "cell_type": "markdown",
   "metadata": {},
   "source": [
    "<div class=\"alert alert-block alert-danger\">\n",
    "<h2><s> Комментарий ревьюера <a class=\"tocSkip\"></h2>\n",
    "  \n",
    "<b>На доработку🤔:</b>\n",
    "\n",
    "По кросс-валидации. Мы здесь используем обычную кросс-валидацию, которая, соответственно, предсказывает нам будущее только в одном из n_splits случае, а в остальных − прошлое.\n",
    "    \n",
    "В случае с временным рядом нам нужно задать кросс-валидацию TimeSeriesSplit\n",
    "    \n",
    "https://scikit-learn.org/stable/modules/generated/sklearn.model_selection.TimeSeriesSplit.html \n",
    "    \n",
    "В  каждом сплите тестовые индексы должны быть позже по времени, чем обучающие, поэтому перетасовка обычным способом неуместна. Как раз TimeSeriesSplit решает эту проблему.\n",
    "    \n",
    "Схематично работу можно представить вот так:\\\n",
    "</font>\n",
    "![image.png](https://scikit-learn.org/stable/_images/sphx_glr_plot_cv_indices_013.png)\n",
    "\n",
    "А по реализации будет очень похоже на обычную кросс-валидацию:\n",
    "```python\n",
    "tscv = TimeSeriesSplit(n_splits=5)\n",
    "gsearch = GridSearchCV(estimator=model, cv=tscv, param_grid=param_search)\n",
    "gsearch.fit(X, y)\n",
    "```\n",
    "С cross_val_score() cv=tscv работает также.\n",
    "\n",
    "</div>"
   ]
  },
  {
   "cell_type": "markdown",
   "metadata": {},
   "source": [
    "<div class=\"alert alert-info\">\n",
    "Добавил\n",
    "</div>"
   ]
  },
  {
   "cell_type": "code",
   "execution_count": 38,
   "metadata": {},
   "outputs": [
    {
     "data": {
      "text/plain": [
       "27.135744672736507"
      ]
     },
     "execution_count": 38,
     "metadata": {},
     "output_type": "execute_result"
    }
   ],
   "source": [
    "lr_model = find_model(lr, lr_grid_space)\n",
    "lr_model"
   ]
  },
  {
   "cell_type": "code",
   "execution_count": 39,
   "metadata": {},
   "outputs": [
    {
     "data": {
      "text/plain": [
       "32.058292345771946"
      ]
     },
     "execution_count": 39,
     "metadata": {},
     "output_type": "execute_result"
    }
   ],
   "source": [
    "dtr_model = find_model(dtr, dtr_grid_space)\n",
    "dtr_model"
   ]
  },
  {
   "cell_type": "code",
   "execution_count": 40,
   "metadata": {},
   "outputs": [
    {
     "data": {
      "text/plain": [
       "25.361586305654434"
      ]
     },
     "execution_count": 40,
     "metadata": {},
     "output_type": "execute_result"
    }
   ],
   "source": [
    "rfr_model = find_model(rfr, rfr_grid_space)\n",
    "rfr_model"
   ]
  },
  {
   "cell_type": "code",
   "execution_count": 41,
   "metadata": {},
   "outputs": [
    {
     "name": "stdout",
     "output_type": "stream",
     "text": [
      "[LightGBM] [Warning] min_data_in_leaf is set with min_samples_leaf=2, min_child_samples=20 will be ignored. Current value: min_data_in_leaf=2\n",
      "[LightGBM] [Warning] min_data_in_leaf is set with min_samples_leaf=2, min_child_samples=20 will be ignored. Current value: min_data_in_leaf=2\n",
      "[LightGBM] [Warning] min_data_in_leaf is set with min_samples_leaf=2, min_child_samples=20 will be ignored. Current value: min_data_in_leaf=2\n",
      "[LightGBM] [Warning] min_data_in_leaf is set with min_samples_leaf=2, min_child_samples=20 will be ignored. Current value: min_data_in_leaf=2\n",
      "[LightGBM] [Warning] min_data_in_leaf is set with min_samples_leaf=2, min_child_samples=20 will be ignored. Current value: min_data_in_leaf=2\n",
      "[LightGBM] [Warning] min_data_in_leaf is set with min_samples_leaf=2, min_child_samples=20 will be ignored. Current value: min_data_in_leaf=2\n",
      "[LightGBM] [Warning] min_data_in_leaf is set with min_samples_leaf=2, min_child_samples=20 will be ignored. Current value: min_data_in_leaf=2\n",
      "[LightGBM] [Warning] min_data_in_leaf is set with min_samples_leaf=2, min_child_samples=20 will be ignored. Current value: min_data_in_leaf=2\n",
      "[LightGBM] [Warning] min_data_in_leaf is set with min_samples_leaf=2, min_child_samples=20 will be ignored. Current value: min_data_in_leaf=2\n",
      "[LightGBM] [Warning] min_data_in_leaf is set with min_samples_leaf=2, min_child_samples=20 will be ignored. Current value: min_data_in_leaf=2\n",
      "[LightGBM] [Warning] min_data_in_leaf is set with min_samples_leaf=5, min_child_samples=20 will be ignored. Current value: min_data_in_leaf=5\n",
      "[LightGBM] [Warning] min_data_in_leaf is set with min_samples_leaf=5, min_child_samples=20 will be ignored. Current value: min_data_in_leaf=5\n",
      "[LightGBM] [Warning] min_data_in_leaf is set with min_samples_leaf=5, min_child_samples=20 will be ignored. Current value: min_data_in_leaf=5\n",
      "[LightGBM] [Warning] min_data_in_leaf is set with min_samples_leaf=5, min_child_samples=20 will be ignored. Current value: min_data_in_leaf=5\n",
      "[LightGBM] [Warning] min_data_in_leaf is set with min_samples_leaf=5, min_child_samples=20 will be ignored. Current value: min_data_in_leaf=5\n",
      "[LightGBM] [Warning] min_data_in_leaf is set with min_samples_leaf=5, min_child_samples=20 will be ignored. Current value: min_data_in_leaf=5\n",
      "[LightGBM] [Warning] min_data_in_leaf is set with min_samples_leaf=5, min_child_samples=20 will be ignored. Current value: min_data_in_leaf=5\n",
      "[LightGBM] [Warning] min_data_in_leaf is set with min_samples_leaf=5, min_child_samples=20 will be ignored. Current value: min_data_in_leaf=5\n",
      "[LightGBM] [Warning] min_data_in_leaf is set with min_samples_leaf=5, min_child_samples=20 will be ignored. Current value: min_data_in_leaf=5\n",
      "[LightGBM] [Warning] min_data_in_leaf is set with min_samples_leaf=5, min_child_samples=20 will be ignored. Current value: min_data_in_leaf=5\n",
      "[LightGBM] [Warning] min_data_in_leaf is set with min_samples_leaf=2, min_child_samples=20 will be ignored. Current value: min_data_in_leaf=2\n",
      "[LightGBM] [Warning] min_data_in_leaf is set with min_samples_leaf=2, min_child_samples=20 will be ignored. Current value: min_data_in_leaf=2\n",
      "[LightGBM] [Warning] min_data_in_leaf is set with min_samples_leaf=2, min_child_samples=20 will be ignored. Current value: min_data_in_leaf=2\n",
      "[LightGBM] [Warning] min_data_in_leaf is set with min_samples_leaf=2, min_child_samples=20 will be ignored. Current value: min_data_in_leaf=2\n",
      "[LightGBM] [Warning] min_data_in_leaf is set with min_samples_leaf=2, min_child_samples=20 will be ignored. Current value: min_data_in_leaf=2\n",
      "[LightGBM] [Warning] min_data_in_leaf is set with min_samples_leaf=2, min_child_samples=20 will be ignored. Current value: min_data_in_leaf=2\n",
      "[LightGBM] [Warning] min_data_in_leaf is set with min_samples_leaf=2, min_child_samples=20 will be ignored. Current value: min_data_in_leaf=2\n",
      "[LightGBM] [Warning] min_data_in_leaf is set with min_samples_leaf=2, min_child_samples=20 will be ignored. Current value: min_data_in_leaf=2\n",
      "[LightGBM] [Warning] min_data_in_leaf is set with min_samples_leaf=2, min_child_samples=20 will be ignored. Current value: min_data_in_leaf=2\n",
      "[LightGBM] [Warning] min_data_in_leaf is set with min_samples_leaf=2, min_child_samples=20 will be ignored. Current value: min_data_in_leaf=2\n",
      "[LightGBM] [Warning] min_data_in_leaf is set with min_samples_leaf=5, min_child_samples=20 will be ignored. Current value: min_data_in_leaf=5\n",
      "[LightGBM] [Warning] min_data_in_leaf is set with min_samples_leaf=5, min_child_samples=20 will be ignored. Current value: min_data_in_leaf=5\n",
      "[LightGBM] [Warning] min_data_in_leaf is set with min_samples_leaf=5, min_child_samples=20 will be ignored. Current value: min_data_in_leaf=5\n",
      "[LightGBM] [Warning] min_data_in_leaf is set with min_samples_leaf=5, min_child_samples=20 will be ignored. Current value: min_data_in_leaf=5\n",
      "[LightGBM] [Warning] min_data_in_leaf is set with min_samples_leaf=5, min_child_samples=20 will be ignored. Current value: min_data_in_leaf=5\n",
      "[LightGBM] [Warning] min_data_in_leaf is set with min_samples_leaf=5, min_child_samples=20 will be ignored. Current value: min_data_in_leaf=5\n",
      "[LightGBM] [Warning] min_data_in_leaf is set with min_samples_leaf=5, min_child_samples=20 will be ignored. Current value: min_data_in_leaf=5\n",
      "[LightGBM] [Warning] min_data_in_leaf is set with min_samples_leaf=5, min_child_samples=20 will be ignored. Current value: min_data_in_leaf=5\n",
      "[LightGBM] [Warning] min_data_in_leaf is set with min_samples_leaf=5, min_child_samples=20 will be ignored. Current value: min_data_in_leaf=5\n",
      "[LightGBM] [Warning] min_data_in_leaf is set with min_samples_leaf=5, min_child_samples=20 will be ignored. Current value: min_data_in_leaf=5\n",
      "[LightGBM] [Warning] min_data_in_leaf is set with min_samples_leaf=5, min_child_samples=20 will be ignored. Current value: min_data_in_leaf=5\n"
     ]
    },
    {
     "data": {
      "text/plain": [
       "24.508409867512096"
      ]
     },
     "execution_count": 41,
     "metadata": {},
     "output_type": "execute_result"
    }
   ],
   "source": [
    "lgbm_model = find_model(lgbm, lgbm_grid_space)\n",
    "lgbm_model"
   ]
  },
  {
   "cell_type": "markdown",
   "metadata": {},
   "source": [
    "Лучший результат показала модель LightGBM со значением 24.5. Возьмем ее для дальнейшего тестирования"
   ]
  },
  {
   "cell_type": "code",
   "execution_count": 42,
   "metadata": {},
   "outputs": [
    {
     "data": {
      "text/html": [
       "<div>\n",
       "<style scoped>\n",
       "    .dataframe tbody tr th:only-of-type {\n",
       "        vertical-align: middle;\n",
       "    }\n",
       "\n",
       "    .dataframe tbody tr th {\n",
       "        vertical-align: top;\n",
       "    }\n",
       "\n",
       "    .dataframe thead th {\n",
       "        text-align: right;\n",
       "    }\n",
       "</style>\n",
       "<table border=\"1\" class=\"dataframe\">\n",
       "  <thead>\n",
       "    <tr style=\"text-align: right;\">\n",
       "      <th></th>\n",
       "      <th>rmse</th>\n",
       "    </tr>\n",
       "  </thead>\n",
       "  <tbody>\n",
       "    <tr>\n",
       "      <th>LightGBM</th>\n",
       "      <td>24.508410</td>\n",
       "    </tr>\n",
       "    <tr>\n",
       "      <th>RandomForest</th>\n",
       "      <td>25.361586</td>\n",
       "    </tr>\n",
       "    <tr>\n",
       "      <th>LogisticRegression</th>\n",
       "      <td>27.135745</td>\n",
       "    </tr>\n",
       "    <tr>\n",
       "      <th>DecisionTree</th>\n",
       "      <td>32.058292</td>\n",
       "    </tr>\n",
       "  </tbody>\n",
       "</table>\n",
       "</div>"
      ],
      "text/plain": [
       "                         rmse\n",
       "LightGBM            24.508410\n",
       "RandomForest        25.361586\n",
       "LogisticRegression  27.135745\n",
       "DecisionTree        32.058292"
      ]
     },
     "execution_count": 42,
     "metadata": {},
     "output_type": "execute_result"
    }
   ],
   "source": [
    "result = pd.DataFrame ([\n",
    "    [lr_model],\n",
    "    [dtr_model],\n",
    "    [rfr_model],\n",
    "    [lgbm_model]], \n",
    "    columns=['rmse'],\n",
    "    index=['LogisticRegression', 'DecisionTree','RandomForest', 'LightGBM'])\n",
    "\n",
    "result.sort_values(by='rmse')"
   ]
  },
  {
   "cell_type": "markdown",
   "metadata": {},
   "source": [
    "<div class=\"alert alert-success\">\n",
    "<h2> Комментарий ревьюера <a class=\"tocSkip\"> </h2>\n",
    " \n",
    "👍 По коду этой части все верно, но нужно будет пересчитать после доработки выше.\n",
    "</div>  \n",
    "    "
   ]
  },
  {
   "cell_type": "markdown",
   "metadata": {},
   "source": [
    "## Тестирование"
   ]
  },
  {
   "cell_type": "markdown",
   "metadata": {},
   "source": [
    "На тестовой выборке выбранная модель уложилась в необходимый результат - RMSE ниже 48"
   ]
  },
  {
   "cell_type": "code",
   "execution_count": 43,
   "metadata": {},
   "outputs": [
    {
     "data": {
      "text/plain": [
       "41.06960396809189"
      ]
     },
     "execution_count": 43,
     "metadata": {},
     "output_type": "execute_result"
    }
   ],
   "source": [
    "model = LGBMRegressor()\n",
    "model.fit(features_train, target_train)\n",
    "preds = model.predict(features_test)\n",
    "rmse = sqrt(mean_squared_error(target_test, preds))\n",
    "rmse"
   ]
  },
  {
   "cell_type": "markdown",
   "metadata": {},
   "source": [
    "<div class=\"alert alert-success\">\n",
    "<h2> Комментарий ревьюера <a class=\"tocSkip\"> </h2>\n",
    " \n",
    "👍 Ок. Рекомендую выше создать 168 лагов (отстающих значений), а на этапе исследования моделей обратить внимание на более простые варианты, например линейную регрессию. \n",
    "</div>  \n",
    "    "
   ]
  },
  {
   "cell_type": "markdown",
   "metadata": {},
   "source": [
    "## Вывод"
   ]
  },
  {
   "cell_type": "markdown",
   "metadata": {},
   "source": [
    "Нашей задачей на этом проекте было построение модели предсказания количества заказов такси на следующий час.\n",
    "\n",
    "\n",
    "В нашем распоряжении были данные о количестве заказов такси в аэропортах с 00:00:00 1 марта 2018 года до 23:50:00 31 августа 2018 года. По заданию необходимо было добиться целевой метрики RMSE ниже 48.\n",
    "\n",
    "\n",
    "В ходе решения мы выполнили ресемплирование данных с интервалом в 1 час. По итогам разложения был сделан вывод, что в представленных данных можно выделить тренд на рост числа заказов примерно с мая и до конца августа с ускорением в августе. \n",
    "\n",
    "\n",
    "Мы выделили сезонность в количестве заказов по часам. В данных можно заметить три пика - утром в 9-10 часов, днем в 16 часов, в районе полуночи, а также наименее активный период - 5-7 утра. Помимо этого в данных заметна сезонность в распределении заказов по дням. Можно отметить увеличение количества заказов к выходным дням, и снижение в выходные. В данных по неделям сезонность отсутствует.\n",
    "\n",
    "\n",
    "Для обучения моделей мы создали новые признаки. Добавили скользящее среднее. Так же мы разложили даты на час и день недели, получили отстающие значения с лагом 24 (по количеству часов в сутках). По условию задания, на тестовую выборку выделяется 10% данных.\n",
    "\n",
    "\n",
    "Мы выбрали четыре модели обучения. Самый высокий результат показала LightGBM - RMSE 24.51. Проверка на тестовых данных также показала необходимый результат по RMSE - 41.07."
   ]
  },
  {
   "cell_type": "markdown",
   "metadata": {},
   "source": [
    "<div class=\"alert alert-success\">\n",
    "<h2> Комментарий ревьюера #2 <a class=\"tocSkip\"> </h2>\n",
    "\n",
    "👍 Да, все верно.\n",
    "</div>\n",
    "  \n"
   ]
  },
  {
   "cell_type": "markdown",
   "metadata": {},
   "source": [
    " <div class=\"alert alert-warning\">\n",
    "<h2> Комментарий ревьюера <a class=\"tocSkip\"> </h2>\n",
    "    \n",
    "<b>Некоторые замечания и рекомендации💡:</b> \n",
    "\n",
    "Выводы необходимо будет перепроверить и синхронизировать с решениями по коду.\n",
    "       \n",
    "</div>"
   ]
  },
  {
   "cell_type": "markdown",
   "metadata": {},
   "source": [
    "<div class=\"alert alert-info\">\n",
    "Сделал\n",
    "</div>"
   ]
  },
  {
   "cell_type": "markdown",
   "metadata": {},
   "source": [
    "<div class=\"alert alert-warning\">\n",
    "<h2> Комментарий ревьюера <a class=\"tocSkip\"> </h2>\n",
    "    \n",
    "<b>Некоторые замечания и рекомендации💡:</b> \n",
    "\n",
    "Здесь также можно было бы добавить проверку модели на адекватность. В случае с временными рядами модель будет предсказывать следующее значение предыдущим:\n",
    "\n",
    "\n",
    "`pred_previous = target_test.shift()\n",
    "pred_previous.iloc[0] = target_train.iloc[-1]`\n",
    "\n",
    "</div>"
   ]
  },
  {
   "cell_type": "markdown",
   "metadata": {},
   "source": [
    "<div style=\"border:solid Chocolate 2px; padding: 40px\">\n",
    "\n",
    "**Общий вывод по проверке**\n",
    "\n",
    "У тебя получился хороший проект. Неплохой выбор моделей для обучения, предобработка. Однако есть и что доработать:\n",
    "\n",
    "* Важно изучить сезонности и на основе анализа ряда создать только нужные нам признаки.\n",
    "* Необходимо предсказывать количество заказов, а не изменение количества относительно предыдущего часа.\n",
    "* Необходимо увеличить количество лагов.\n",
    "* Признак скользящего среднего важно создавать с учетом лага (без учета значения в таргете).\n",
    "* Признак стандартного отклонения в нашей задаче не будет значимым, но если решим его создавать, то тоже важно не учитывать таргет.\n",
    "* Необходимо реализовать кросс-валидацию по схеме tscv без перемешивания сплитов.\n",
    "\n",
    "**Желаю удачи и жду твой проект на повторное ревью!**😉\n",
    "\n",
    "</div>\n",
    " "
   ]
  },
  {
   "cell_type": "markdown",
   "metadata": {},
   "source": [
    "\n",
    "<div style=\"border:solid Chocolate 2px; padding: 40px\">\n",
    "\n",
    "**Комментарий ко второй проверке**\n",
    "\n",
    "Спасибо за доработку и за вопросы. Критичных комментариев нет, на вопросы постарался ответить выше. Надеюсь, это поможет чуть лучше понять принцип решения задачи рядов. Также ниже оставлю ссылки на лекции. Первую пару очень рекомендую. Они небольшие, можно вечером глянуть.\n",
    "    \n",
    "Если что-то пропустил или остались вопросы, напиши на телеграм @kriill\n",
    "    \n",
    "***\n",
    "    \n",
    "Несколько повторяет материал Практикума, но с другого ракурса, другими словами. Отличная лекция   https://www.youtube.com/watch?v=u433nrxdf5k  \n",
    "    \n",
    "Константина Воронцова про Временные ряды можно слушать бесконечно  https://www.youtube.com/watch?v=RdTxLXmbvjY  - здесь про то, что не ML единым решаются такие задачи, и вообще хорошая расстановка акцентов и постановка проблемы рядов. Мне кажется, очень ценно.\n",
    "    \n",
    "Традиционно все рекомендуют курс ОДС на Хабре и там тоже есть про временные ряды  https://habr.com/ru/companies/ods/articles/327242/  - правда, больше теории, чем кода, но тоже весело.\n",
    "    \n",
    "На Каггле есть мини-курс по временным рядам. Можно просмотреть, он бесплатный и короткий. https://www.kaggle.com/learn/time-series \n",
    "    \n",
    "Студенты Практикума недавно участвовали в соревновании и выложили подробный код с решением задачи по Временным рядам. Тоже полезно посмотреть https://www.kaggle.com/code/ernestglukhov/parkinson-s-fog-prediction-by-practicum  \n",
    "\n",
    "Относительно простой в реализации и очень высоко автоматизированный подход - профет от Фейсбука https://habr.com/ru/companies/ods/articles/323730/ - здесь статья. https://colab.research.google.com/drive/1ILfGxL95xNPFPbqbbc7VgesOPrD3_vod - здесь чуть более подробно по коду.\n",
    "\n",
    "Неплохой общий обзор совсем кратко: https://machinelearningmastery.ru/the-complete-guide-to-time-series-analysis-and-forecasting-70d476bfe775/ \n",
    "\n",
    "\n",
    "Желаю удачи в дальнейшей учебе!\n",
    "\n",
    "</div>"
   ]
  },
  {
   "cell_type": "code",
   "execution_count": null,
   "metadata": {},
   "outputs": [],
   "source": []
  },
  {
   "cell_type": "markdown",
   "metadata": {},
   "source": [
    "## Чек-лист проверки"
   ]
  },
  {
   "cell_type": "markdown",
   "metadata": {},
   "source": [
    "- [x]  Jupyter Notebook открыт\n",
    "- [ ]  Весь код выполняется без ошибок\n",
    "- [ ]  Ячейки с кодом расположены в порядке исполнения\n",
    "- [ ]  Данные загружены и подготовлены\n",
    "- [ ]  Данные проанализированы\n",
    "- [ ]  Модель обучена, гиперпараметры подобраны\n",
    "- [ ]  Качество моделей проверено, выводы сделаны\n",
    "- [ ]  Значение *RMSE* на тестовой выборке не больше 48"
   ]
  }
 ],
 "metadata": {
  "ExecuteTimeLog": [
   {
    "duration": 393,
    "start_time": "2023-09-25T12:28:01.970Z"
   },
   {
    "duration": 91,
    "start_time": "2023-09-25T12:28:49.875Z"
   },
   {
    "duration": 91,
    "start_time": "2023-09-25T12:28:59.524Z"
   },
   {
    "duration": 202,
    "start_time": "2023-09-25T12:29:24.832Z"
   },
   {
    "duration": 13,
    "start_time": "2023-09-25T12:29:31.288Z"
   },
   {
    "duration": 12,
    "start_time": "2023-09-25T12:29:39.734Z"
   },
   {
    "duration": 1911,
    "start_time": "2023-09-25T12:31:23.121Z"
   },
   {
    "duration": 11,
    "start_time": "2023-09-25T12:31:29.940Z"
   },
   {
    "duration": 10,
    "start_time": "2023-09-25T12:31:38.719Z"
   },
   {
    "duration": 3,
    "start_time": "2023-09-25T12:31:53.356Z"
   },
   {
    "duration": 44,
    "start_time": "2023-09-25T12:31:53.956Z"
   },
   {
    "duration": 5,
    "start_time": "2023-09-25T12:31:54.512Z"
   },
   {
    "duration": 10,
    "start_time": "2023-09-25T12:31:55.110Z"
   },
   {
    "duration": 7,
    "start_time": "2023-09-25T12:31:58.731Z"
   },
   {
    "duration": 13,
    "start_time": "2023-09-25T12:31:59.314Z"
   },
   {
    "duration": 4,
    "start_time": "2023-09-25T12:32:37.944Z"
   },
   {
    "duration": 8,
    "start_time": "2023-09-25T12:32:44.161Z"
   },
   {
    "duration": 5,
    "start_time": "2023-09-25T12:33:26.041Z"
   },
   {
    "duration": 6,
    "start_time": "2023-09-25T12:34:07.836Z"
   },
   {
    "duration": 10,
    "start_time": "2023-09-25T12:36:59.733Z"
   },
   {
    "duration": 578,
    "start_time": "2023-09-25T12:37:08.019Z"
   },
   {
    "duration": 6,
    "start_time": "2023-09-25T12:40:03.249Z"
   },
   {
    "duration": 185,
    "start_time": "2023-09-25T12:40:07.822Z"
   },
   {
    "duration": 499,
    "start_time": "2023-09-25T12:41:46.733Z"
   },
   {
    "duration": 50,
    "start_time": "2023-09-25T12:42:29.248Z"
   },
   {
    "duration": 3,
    "start_time": "2023-09-25T12:43:41.234Z"
   },
   {
    "duration": 49,
    "start_time": "2023-09-25T12:43:41.734Z"
   },
   {
    "duration": 6,
    "start_time": "2023-09-25T12:43:42.227Z"
   },
   {
    "duration": 12,
    "start_time": "2023-09-25T12:43:42.802Z"
   },
   {
    "duration": 14,
    "start_time": "2023-09-25T12:43:43.531Z"
   },
   {
    "duration": 12,
    "start_time": "2023-09-25T12:43:44.072Z"
   },
   {
    "duration": 4,
    "start_time": "2023-09-25T12:43:44.626Z"
   },
   {
    "duration": 9,
    "start_time": "2023-09-25T12:43:45.879Z"
   },
   {
    "duration": 3,
    "start_time": "2023-09-25T12:43:46.842Z"
   },
   {
    "duration": 6,
    "start_time": "2023-09-25T12:43:47.737Z"
   },
   {
    "duration": 7,
    "start_time": "2023-09-25T12:43:50.380Z"
   },
   {
    "duration": 201,
    "start_time": "2023-09-25T12:43:51.218Z"
   },
   {
    "duration": 8,
    "start_time": "2023-09-25T12:43:56.163Z"
   },
   {
    "duration": 3,
    "start_time": "2023-09-25T12:44:48.678Z"
   },
   {
    "duration": 682,
    "start_time": "2023-09-25T12:49:55.190Z"
   },
   {
    "duration": 3,
    "start_time": "2023-09-25T12:52:26.236Z"
   },
   {
    "duration": 41,
    "start_time": "2023-09-25T12:52:26.875Z"
   },
   {
    "duration": 7,
    "start_time": "2023-09-25T12:52:27.509Z"
   },
   {
    "duration": 15,
    "start_time": "2023-09-25T12:52:28.136Z"
   },
   {
    "duration": 13,
    "start_time": "2023-09-25T12:52:28.766Z"
   },
   {
    "duration": 11,
    "start_time": "2023-09-25T12:52:29.598Z"
   },
   {
    "duration": 4,
    "start_time": "2023-09-25T12:52:30.226Z"
   },
   {
    "duration": 11,
    "start_time": "2023-09-25T12:52:30.804Z"
   },
   {
    "duration": 4,
    "start_time": "2023-09-25T12:52:31.485Z"
   },
   {
    "duration": 6,
    "start_time": "2023-09-25T12:52:32.521Z"
   },
   {
    "duration": 6,
    "start_time": "2023-09-25T12:52:36.513Z"
   },
   {
    "duration": 162,
    "start_time": "2023-09-25T12:52:37.067Z"
   },
   {
    "duration": 5,
    "start_time": "2023-09-25T12:52:58.835Z"
   },
   {
    "duration": 658,
    "start_time": "2023-09-25T12:52:59.641Z"
   },
   {
    "duration": 6,
    "start_time": "2023-09-25T13:11:10.112Z"
   },
   {
    "duration": 186,
    "start_time": "2023-09-25T13:11:15.662Z"
   },
   {
    "duration": 5,
    "start_time": "2023-09-25T13:12:59.696Z"
   },
   {
    "duration": 5,
    "start_time": "2023-09-25T13:13:00.330Z"
   },
   {
    "duration": 223,
    "start_time": "2023-09-25T13:13:01.044Z"
   },
   {
    "duration": 300,
    "start_time": "2023-09-25T13:14:40.032Z"
   },
   {
    "duration": 5,
    "start_time": "2023-09-25T13:19:01.508Z"
   },
   {
    "duration": 3,
    "start_time": "2023-09-25T13:19:21.712Z"
   },
   {
    "duration": 5,
    "start_time": "2023-09-25T13:20:04.063Z"
   },
   {
    "duration": 3,
    "start_time": "2023-09-25T13:20:57.479Z"
   },
   {
    "duration": 8,
    "start_time": "2023-09-25T13:25:34.147Z"
   },
   {
    "duration": 51,
    "start_time": "2023-09-25T13:25:40.513Z"
   },
   {
    "duration": 6,
    "start_time": "2023-09-25T13:25:41.424Z"
   },
   {
    "duration": 11,
    "start_time": "2023-09-25T13:25:42.181Z"
   },
   {
    "duration": 8,
    "start_time": "2023-09-25T13:25:42.965Z"
   },
   {
    "duration": 10,
    "start_time": "2023-09-25T13:25:43.661Z"
   },
   {
    "duration": 3,
    "start_time": "2023-09-25T13:25:44.383Z"
   },
   {
    "duration": 8,
    "start_time": "2023-09-25T13:25:45.200Z"
   },
   {
    "duration": 4,
    "start_time": "2023-09-25T13:25:45.882Z"
   },
   {
    "duration": 6,
    "start_time": "2023-09-25T13:25:46.674Z"
   },
   {
    "duration": 6,
    "start_time": "2023-09-25T13:26:53.573Z"
   },
   {
    "duration": 185,
    "start_time": "2023-09-25T13:26:58.548Z"
   },
   {
    "duration": 5,
    "start_time": "2023-09-25T13:27:12.307Z"
   },
   {
    "duration": 586,
    "start_time": "2023-09-25T13:27:13.435Z"
   },
   {
    "duration": 4,
    "start_time": "2023-09-25T13:27:17.787Z"
   },
   {
    "duration": 5,
    "start_time": "2023-09-25T13:27:18.805Z"
   },
   {
    "duration": 290,
    "start_time": "2023-09-25T13:27:19.402Z"
   },
   {
    "duration": 2,
    "start_time": "2023-09-25T13:28:37.418Z"
   },
   {
    "duration": 6,
    "start_time": "2023-09-25T13:28:53.364Z"
   },
   {
    "duration": 11,
    "start_time": "2023-09-25T13:28:59.425Z"
   },
   {
    "duration": 11,
    "start_time": "2023-09-25T13:29:17.962Z"
   },
   {
    "duration": 14,
    "start_time": "2023-09-25T13:29:32.465Z"
   },
   {
    "duration": 3,
    "start_time": "2023-09-25T13:31:52.426Z"
   },
   {
    "duration": 11,
    "start_time": "2023-09-25T13:31:53.144Z"
   },
   {
    "duration": 22,
    "start_time": "2023-09-25T13:31:53.846Z"
   },
   {
    "duration": 3,
    "start_time": "2023-09-25T13:52:33.198Z"
   },
   {
    "duration": 6,
    "start_time": "2023-09-25T13:52:37.362Z"
   },
   {
    "duration": 16,
    "start_time": "2023-09-25T13:52:38.075Z"
   },
   {
    "duration": 4,
    "start_time": "2023-09-25T13:55:36.861Z"
   },
   {
    "duration": 3,
    "start_time": "2023-09-25T13:55:37.561Z"
   },
   {
    "duration": 4,
    "start_time": "2023-09-25T13:55:39.324Z"
   },
   {
    "duration": 5,
    "start_time": "2023-09-25T13:56:01.365Z"
   },
   {
    "duration": 5,
    "start_time": "2023-09-25T13:57:40.687Z"
   },
   {
    "duration": 20,
    "start_time": "2023-09-25T13:58:29.705Z"
   },
   {
    "duration": 23,
    "start_time": "2023-09-25T14:03:59.373Z"
   },
   {
    "duration": 9,
    "start_time": "2023-09-25T14:04:08.130Z"
   },
   {
    "duration": 22,
    "start_time": "2023-09-25T14:09:27.491Z"
   },
   {
    "duration": 15,
    "start_time": "2023-09-25T14:10:20.663Z"
   },
   {
    "duration": 9,
    "start_time": "2023-09-25T14:10:25.274Z"
   },
   {
    "duration": 8,
    "start_time": "2023-09-25T14:10:39.238Z"
   },
   {
    "duration": 10,
    "start_time": "2023-09-25T14:10:50.807Z"
   },
   {
    "duration": 8,
    "start_time": "2023-09-25T14:11:20.365Z"
   },
   {
    "duration": 9,
    "start_time": "2023-09-25T14:11:21.973Z"
   },
   {
    "duration": 1480,
    "start_time": "2023-09-25T14:11:33.894Z"
   },
   {
    "duration": 43,
    "start_time": "2023-09-25T14:11:35.375Z"
   },
   {
    "duration": 9,
    "start_time": "2023-09-25T14:11:35.419Z"
   },
   {
    "duration": 32,
    "start_time": "2023-09-25T14:11:35.430Z"
   },
   {
    "duration": 25,
    "start_time": "2023-09-25T14:11:35.464Z"
   },
   {
    "duration": 25,
    "start_time": "2023-09-25T14:11:35.491Z"
   },
   {
    "duration": 4,
    "start_time": "2023-09-25T14:11:35.517Z"
   },
   {
    "duration": 30,
    "start_time": "2023-09-25T14:11:35.522Z"
   },
   {
    "duration": 29,
    "start_time": "2023-09-25T14:11:35.554Z"
   },
   {
    "duration": 14,
    "start_time": "2023-09-25T14:11:35.585Z"
   },
   {
    "duration": 19,
    "start_time": "2023-09-25T14:11:35.601Z"
   },
   {
    "duration": 189,
    "start_time": "2023-09-25T14:11:35.621Z"
   },
   {
    "duration": 6,
    "start_time": "2023-09-25T14:11:35.811Z"
   },
   {
    "duration": 697,
    "start_time": "2023-09-25T14:11:35.819Z"
   },
   {
    "duration": 3,
    "start_time": "2023-09-25T14:11:36.518Z"
   },
   {
    "duration": 20,
    "start_time": "2023-09-25T14:11:36.522Z"
   },
   {
    "duration": 289,
    "start_time": "2023-09-25T14:11:36.544Z"
   },
   {
    "duration": 4,
    "start_time": "2023-09-25T14:11:36.834Z"
   },
   {
    "duration": 12,
    "start_time": "2023-09-25T14:11:36.849Z"
   },
   {
    "duration": 40,
    "start_time": "2023-09-25T14:11:36.863Z"
   },
   {
    "duration": 13,
    "start_time": "2023-09-25T14:11:36.905Z"
   },
   {
    "duration": 7,
    "start_time": "2023-09-25T14:11:36.920Z"
   },
   {
    "duration": 10,
    "start_time": "2023-09-25T14:11:36.928Z"
   },
   {
    "duration": 27,
    "start_time": "2023-09-25T14:11:36.939Z"
   },
   {
    "duration": 28,
    "start_time": "2023-09-25T14:11:36.968Z"
   },
   {
    "duration": 130,
    "start_time": "2023-09-25T14:11:36.998Z"
   },
   {
    "duration": 0,
    "start_time": "2023-09-25T14:11:37.129Z"
   },
   {
    "duration": 10,
    "start_time": "2023-09-25T14:11:46.264Z"
   },
   {
    "duration": 9,
    "start_time": "2023-09-25T14:11:47.377Z"
   },
   {
    "duration": 11,
    "start_time": "2023-09-25T14:11:56.149Z"
   },
   {
    "duration": 9,
    "start_time": "2023-09-25T14:12:18.427Z"
   },
   {
    "duration": 9,
    "start_time": "2023-09-25T14:12:33.030Z"
   },
   {
    "duration": 9,
    "start_time": "2023-09-25T14:12:50.131Z"
   },
   {
    "duration": 14,
    "start_time": "2023-09-25T14:13:06.440Z"
   },
   {
    "duration": 18,
    "start_time": "2023-09-25T14:13:55.522Z"
   },
   {
    "duration": 136,
    "start_time": "2023-09-25T14:15:09.961Z"
   },
   {
    "duration": 145,
    "start_time": "2023-09-25T14:15:27.148Z"
   },
   {
    "duration": 12,
    "start_time": "2023-09-25T14:15:36.637Z"
   },
   {
    "duration": 18,
    "start_time": "2023-09-25T14:15:40.043Z"
   },
   {
    "duration": 23,
    "start_time": "2023-09-25T14:15:43.765Z"
   },
   {
    "duration": 12,
    "start_time": "2023-09-25T14:15:47.790Z"
   },
   {
    "duration": 14,
    "start_time": "2023-09-25T14:15:51.116Z"
   },
   {
    "duration": 13,
    "start_time": "2023-09-25T14:15:55.195Z"
   },
   {
    "duration": 39,
    "start_time": "2023-09-25T14:16:03.223Z"
   },
   {
    "duration": 35,
    "start_time": "2023-09-25T14:16:07.361Z"
   },
   {
    "duration": 47,
    "start_time": "2023-09-25T14:16:10.218Z"
   },
   {
    "duration": 53,
    "start_time": "2023-09-25T14:16:15.128Z"
   },
   {
    "duration": 58,
    "start_time": "2023-09-25T14:16:19.186Z"
   },
   {
    "duration": 73,
    "start_time": "2023-09-25T14:16:22.573Z"
   },
   {
    "duration": 64,
    "start_time": "2023-09-25T14:16:26.720Z"
   },
   {
    "duration": 64,
    "start_time": "2023-09-25T14:16:36.300Z"
   },
   {
    "duration": 64,
    "start_time": "2023-09-25T14:16:39.696Z"
   },
   {
    "duration": 70,
    "start_time": "2023-09-25T14:16:42.893Z"
   },
   {
    "duration": 79,
    "start_time": "2023-09-25T14:16:46.912Z"
   },
   {
    "duration": 58,
    "start_time": "2023-09-25T14:16:49.962Z"
   },
   {
    "duration": 57,
    "start_time": "2023-09-25T14:17:03.049Z"
   },
   {
    "duration": 54,
    "start_time": "2023-09-25T14:17:06.678Z"
   },
   {
    "duration": 63,
    "start_time": "2023-09-25T14:17:11.149Z"
   },
   {
    "duration": 80,
    "start_time": "2023-09-25T14:17:16.091Z"
   },
   {
    "duration": 12,
    "start_time": "2023-09-25T14:18:46.029Z"
   },
   {
    "duration": 1747,
    "start_time": "2023-10-09T12:25:27.056Z"
   },
   {
    "duration": 161,
    "start_time": "2023-10-09T12:25:28.805Z"
   },
   {
    "duration": 11,
    "start_time": "2023-10-09T12:25:28.968Z"
   },
   {
    "duration": 13,
    "start_time": "2023-10-09T12:25:28.981Z"
   },
   {
    "duration": 13,
    "start_time": "2023-10-09T12:25:28.996Z"
   },
   {
    "duration": 30,
    "start_time": "2023-10-09T12:25:29.011Z"
   },
   {
    "duration": 14,
    "start_time": "2023-10-09T12:25:29.043Z"
   },
   {
    "duration": 12,
    "start_time": "2023-10-09T12:25:29.059Z"
   },
   {
    "duration": 8,
    "start_time": "2023-10-09T12:25:29.073Z"
   },
   {
    "duration": 14,
    "start_time": "2023-10-09T12:25:29.082Z"
   },
   {
    "duration": 23,
    "start_time": "2023-10-09T12:25:29.097Z"
   },
   {
    "duration": 249,
    "start_time": "2023-10-09T12:25:29.122Z"
   },
   {
    "duration": 5,
    "start_time": "2023-10-09T12:25:29.373Z"
   },
   {
    "duration": 705,
    "start_time": "2023-10-09T12:25:29.381Z"
   },
   {
    "duration": 3,
    "start_time": "2023-10-09T12:25:30.088Z"
   },
   {
    "duration": 23,
    "start_time": "2023-10-09T12:25:30.093Z"
   },
   {
    "duration": 327,
    "start_time": "2023-10-09T12:25:30.118Z"
   },
   {
    "duration": 4,
    "start_time": "2023-10-09T12:25:30.454Z"
   },
   {
    "duration": 178,
    "start_time": "2023-10-09T12:25:30.460Z"
   },
   {
    "duration": 235,
    "start_time": "2023-10-09T12:25:30.640Z"
   },
   {
    "duration": 61,
    "start_time": "2023-10-09T12:25:30.877Z"
   },
   {
    "duration": 66,
    "start_time": "2023-10-09T12:25:30.940Z"
   },
   {
    "duration": 64,
    "start_time": "2023-10-09T12:25:31.008Z"
   },
   {
    "duration": 310,
    "start_time": "2023-10-09T12:25:31.073Z"
   },
   {
    "duration": 121,
    "start_time": "2023-10-09T12:25:31.385Z"
   },
   {
    "duration": 111,
    "start_time": "2023-10-09T12:25:31.508Z"
   },
   {
    "duration": 134,
    "start_time": "2023-10-09T12:25:31.621Z"
   },
   {
    "duration": 225,
    "start_time": "2023-10-09T12:25:31.757Z"
   },
   {
    "duration": 12,
    "start_time": "2023-10-09T12:25:31.984Z"
   },
   {
    "duration": 2,
    "start_time": "2023-10-09T12:29:58.200Z"
   },
   {
    "duration": 49,
    "start_time": "2023-10-09T12:30:28.423Z"
   },
   {
    "duration": 9,
    "start_time": "2023-10-09T12:30:34.274Z"
   },
   {
    "duration": 18,
    "start_time": "2023-10-09T12:30:42.540Z"
   },
   {
    "duration": 46,
    "start_time": "2023-10-09T12:31:21.904Z"
   },
   {
    "duration": 7,
    "start_time": "2023-10-09T12:31:22.497Z"
   },
   {
    "duration": 10,
    "start_time": "2023-10-09T12:31:23.368Z"
   },
   {
    "duration": 6,
    "start_time": "2023-10-09T12:31:41.776Z"
   },
   {
    "duration": 6,
    "start_time": "2023-10-09T12:31:49.901Z"
   },
   {
    "duration": 10,
    "start_time": "2023-10-09T12:31:57.254Z"
   },
   {
    "duration": 4,
    "start_time": "2023-10-09T12:34:06.194Z"
   },
   {
    "duration": 595,
    "start_time": "2023-10-09T12:34:40.523Z"
   },
   {
    "duration": 2,
    "start_time": "2023-10-09T12:36:38.162Z"
   },
   {
    "duration": 47,
    "start_time": "2023-10-09T12:36:38.670Z"
   },
   {
    "duration": 7,
    "start_time": "2023-10-09T12:36:39.301Z"
   },
   {
    "duration": 10,
    "start_time": "2023-10-09T12:36:42.277Z"
   },
   {
    "duration": 124,
    "start_time": "2023-10-09T12:36:46.965Z"
   },
   {
    "duration": 10,
    "start_time": "2023-10-09T12:36:47.440Z"
   },
   {
    "duration": 2,
    "start_time": "2023-10-09T12:37:10.157Z"
   },
   {
    "duration": 41,
    "start_time": "2023-10-09T12:37:10.678Z"
   },
   {
    "duration": 9,
    "start_time": "2023-10-09T12:37:11.191Z"
   },
   {
    "duration": 11,
    "start_time": "2023-10-09T12:37:12.356Z"
   },
   {
    "duration": 5,
    "start_time": "2023-10-09T12:37:13.227Z"
   },
   {
    "duration": 7,
    "start_time": "2023-10-09T12:37:14.689Z"
   },
   {
    "duration": 9,
    "start_time": "2023-10-09T12:37:16.114Z"
   },
   {
    "duration": 6,
    "start_time": "2023-10-09T12:37:17.347Z"
   },
   {
    "duration": 175,
    "start_time": "2023-10-09T12:37:18.261Z"
   },
   {
    "duration": 46,
    "start_time": "2023-10-09T12:37:38.244Z"
   },
   {
    "duration": 399,
    "start_time": "2023-10-09T12:37:41.713Z"
   },
   {
    "duration": 3,
    "start_time": "2023-10-09T12:37:48.769Z"
   },
   {
    "duration": 47,
    "start_time": "2023-10-09T12:37:49.191Z"
   },
   {
    "duration": 7,
    "start_time": "2023-10-09T12:37:49.661Z"
   },
   {
    "duration": 11,
    "start_time": "2023-10-09T12:37:50.150Z"
   },
   {
    "duration": 4,
    "start_time": "2023-10-09T12:37:50.648Z"
   },
   {
    "duration": 6,
    "start_time": "2023-10-09T12:37:51.241Z"
   },
   {
    "duration": 10,
    "start_time": "2023-10-09T12:37:51.729Z"
   },
   {
    "duration": 4,
    "start_time": "2023-10-09T12:37:52.238Z"
   },
   {
    "duration": 662,
    "start_time": "2023-10-09T12:37:52.870Z"
   },
   {
    "duration": 7,
    "start_time": "2023-10-09T12:38:26.089Z"
   },
   {
    "duration": 219,
    "start_time": "2023-10-09T12:38:35.089Z"
   },
   {
    "duration": 3,
    "start_time": "2023-10-09T12:40:06.846Z"
   },
   {
    "duration": 1362,
    "start_time": "2023-10-09T12:40:41.326Z"
   },
   {
    "duration": 47,
    "start_time": "2023-10-09T12:40:44.517Z"
   },
   {
    "duration": 10,
    "start_time": "2023-10-09T12:40:45.314Z"
   },
   {
    "duration": 12,
    "start_time": "2023-10-09T12:40:48.901Z"
   },
   {
    "duration": 16,
    "start_time": "2023-10-09T12:40:49.547Z"
   },
   {
    "duration": 14,
    "start_time": "2023-10-09T12:40:50.520Z"
   },
   {
    "duration": 4,
    "start_time": "2023-10-09T12:40:53.443Z"
   },
   {
    "duration": 11,
    "start_time": "2023-10-09T12:40:54.031Z"
   },
   {
    "duration": 4,
    "start_time": "2023-10-09T12:40:54.667Z"
   },
   {
    "duration": 7,
    "start_time": "2023-10-09T12:40:56.356Z"
   },
   {
    "duration": 8,
    "start_time": "2023-10-09T12:41:12.813Z"
   },
   {
    "duration": 220,
    "start_time": "2023-10-09T12:41:13.420Z"
   },
   {
    "duration": 8,
    "start_time": "2023-10-09T12:41:16.769Z"
   },
   {
    "duration": 704,
    "start_time": "2023-10-09T12:41:18.028Z"
   },
   {
    "duration": 3,
    "start_time": "2023-10-09T12:41:28.975Z"
   },
   {
    "duration": 6,
    "start_time": "2023-10-09T12:41:29.888Z"
   },
   {
    "duration": 287,
    "start_time": "2023-10-09T12:41:33.325Z"
   },
   {
    "duration": 3,
    "start_time": "2023-10-09T12:41:38.528Z"
   },
   {
    "duration": 9,
    "start_time": "2023-10-09T12:41:41.095Z"
   },
   {
    "duration": 18,
    "start_time": "2023-10-09T12:41:41.827Z"
   },
   {
    "duration": 6,
    "start_time": "2023-10-09T12:41:43.057Z"
   },
   {
    "duration": 3,
    "start_time": "2023-10-09T12:41:44.219Z"
   },
   {
    "duration": 4,
    "start_time": "2023-10-09T12:41:44.837Z"
   },
   {
    "duration": 6,
    "start_time": "2023-10-09T12:41:45.572Z"
   },
   {
    "duration": 5,
    "start_time": "2023-10-09T12:41:46.296Z"
   },
   {
    "duration": 104,
    "start_time": "2023-10-09T12:41:47.143Z"
   },
   {
    "duration": 19,
    "start_time": "2023-10-09T12:41:48.588Z"
   },
   {
    "duration": 473,
    "start_time": "2023-10-09T12:41:51.064Z"
   },
   {
    "duration": 15,
    "start_time": "2023-10-09T12:41:52.282Z"
   },
   {
    "duration": 5,
    "start_time": "2023-10-09T12:42:22.175Z"
   },
   {
    "duration": 3,
    "start_time": "2023-10-09T12:42:22.789Z"
   },
   {
    "duration": 3,
    "start_time": "2023-10-09T12:42:23.373Z"
   },
   {
    "duration": 6,
    "start_time": "2023-10-09T12:42:23.886Z"
   },
   {
    "duration": 5,
    "start_time": "2023-10-09T12:42:24.366Z"
   },
   {
    "duration": 12,
    "start_time": "2023-10-09T12:42:25.262Z"
   },
   {
    "duration": 18,
    "start_time": "2023-10-09T12:42:25.859Z"
   },
   {
    "duration": 553,
    "start_time": "2023-10-09T12:42:26.867Z"
   },
   {
    "duration": 13,
    "start_time": "2023-10-09T12:42:28.222Z"
   },
   {
    "duration": 3,
    "start_time": "2023-10-09T12:51:16.985Z"
   },
   {
    "duration": 48,
    "start_time": "2023-10-09T12:51:16.990Z"
   },
   {
    "duration": 6,
    "start_time": "2023-10-09T12:51:17.040Z"
   },
   {
    "duration": 24,
    "start_time": "2023-10-09T12:51:17.048Z"
   },
   {
    "duration": 42,
    "start_time": "2023-10-09T12:51:17.074Z"
   },
   {
    "duration": 14,
    "start_time": "2023-10-09T12:51:17.118Z"
   },
   {
    "duration": 10,
    "start_time": "2023-10-09T12:51:17.134Z"
   },
   {
    "duration": 15,
    "start_time": "2023-10-09T12:51:17.145Z"
   },
   {
    "duration": 15,
    "start_time": "2023-10-09T12:51:17.161Z"
   },
   {
    "duration": 18,
    "start_time": "2023-10-09T12:51:17.178Z"
   },
   {
    "duration": 17,
    "start_time": "2023-10-09T12:51:17.198Z"
   },
   {
    "duration": 201,
    "start_time": "2023-10-09T12:51:17.217Z"
   },
   {
    "duration": 7,
    "start_time": "2023-10-09T12:51:17.420Z"
   },
   {
    "duration": 667,
    "start_time": "2023-10-09T12:51:17.429Z"
   },
   {
    "duration": 4,
    "start_time": "2023-10-09T12:51:18.098Z"
   },
   {
    "duration": 18,
    "start_time": "2023-10-09T12:51:18.103Z"
   },
   {
    "duration": 376,
    "start_time": "2023-10-09T12:51:18.122Z"
   },
   {
    "duration": 4,
    "start_time": "2023-10-09T12:51:18.499Z"
   },
   {
    "duration": 27,
    "start_time": "2023-10-09T12:51:18.504Z"
   },
   {
    "duration": 48,
    "start_time": "2023-10-09T12:51:18.533Z"
   },
   {
    "duration": 24,
    "start_time": "2023-10-09T12:51:18.582Z"
   },
   {
    "duration": 13,
    "start_time": "2023-10-09T12:51:18.607Z"
   },
   {
    "duration": 31,
    "start_time": "2023-10-09T12:51:18.622Z"
   },
   {
    "duration": 17,
    "start_time": "2023-10-09T12:51:18.655Z"
   },
   {
    "duration": 36,
    "start_time": "2023-10-09T12:51:18.674Z"
   },
   {
    "duration": 3,
    "start_time": "2023-10-09T12:54:00.293Z"
   },
   {
    "duration": 118,
    "start_time": "2023-10-09T13:01:20.485Z"
   },
   {
    "duration": 23,
    "start_time": "2023-10-09T13:03:16.032Z"
   },
   {
    "duration": 13,
    "start_time": "2023-10-09T13:03:25.283Z"
   },
   {
    "duration": 15,
    "start_time": "2023-10-09T13:03:40.631Z"
   },
   {
    "duration": 668,
    "start_time": "2023-10-09T13:04:19.393Z"
   },
   {
    "duration": 832,
    "start_time": "2023-10-09T13:05:10.322Z"
   },
   {
    "duration": 15,
    "start_time": "2023-10-09T13:05:23.683Z"
   },
   {
    "duration": 10,
    "start_time": "2023-10-09T13:05:31.825Z"
   },
   {
    "duration": 912,
    "start_time": "2023-10-09T13:05:36.045Z"
   },
   {
    "duration": 570,
    "start_time": "2023-10-09T13:27:50.880Z"
   },
   {
    "duration": 388,
    "start_time": "2023-10-09T13:28:30.359Z"
   },
   {
    "duration": 362,
    "start_time": "2023-10-09T13:28:35.791Z"
   },
   {
    "duration": 147,
    "start_time": "2023-10-09T13:28:44.000Z"
   },
   {
    "duration": 297,
    "start_time": "2023-10-09T13:28:49.760Z"
   },
   {
    "duration": 167,
    "start_time": "2023-10-09T13:28:53.590Z"
   },
   {
    "duration": 158,
    "start_time": "2023-10-09T13:31:38.029Z"
   },
   {
    "duration": 265,
    "start_time": "2023-10-09T13:32:27.106Z"
   },
   {
    "duration": 277,
    "start_time": "2023-10-09T13:32:57.556Z"
   },
   {
    "duration": 320,
    "start_time": "2023-10-09T13:33:03.625Z"
   },
   {
    "duration": 316,
    "start_time": "2023-10-09T13:33:10.666Z"
   },
   {
    "duration": 317,
    "start_time": "2023-10-09T13:33:15.024Z"
   },
   {
    "duration": 289,
    "start_time": "2023-10-09T13:33:18.737Z"
   },
   {
    "duration": 597,
    "start_time": "2023-10-09T13:33:28.123Z"
   },
   {
    "duration": 261,
    "start_time": "2023-10-09T13:33:33.072Z"
   },
   {
    "duration": 4,
    "start_time": "2023-10-09T13:33:38.195Z"
   },
   {
    "duration": 62,
    "start_time": "2023-10-09T13:33:38.201Z"
   },
   {
    "duration": 7,
    "start_time": "2023-10-09T13:33:38.264Z"
   },
   {
    "duration": 23,
    "start_time": "2023-10-09T13:33:38.273Z"
   },
   {
    "duration": 20,
    "start_time": "2023-10-09T13:33:38.298Z"
   },
   {
    "duration": 33,
    "start_time": "2023-10-09T13:33:38.320Z"
   },
   {
    "duration": 31,
    "start_time": "2023-10-09T13:33:38.354Z"
   },
   {
    "duration": 33,
    "start_time": "2023-10-09T13:33:38.387Z"
   },
   {
    "duration": 5,
    "start_time": "2023-10-09T13:33:38.422Z"
   },
   {
    "duration": 24,
    "start_time": "2023-10-09T13:33:38.428Z"
   },
   {
    "duration": 32,
    "start_time": "2023-10-09T13:33:38.454Z"
   },
   {
    "duration": 266,
    "start_time": "2023-10-09T13:33:38.488Z"
   },
   {
    "duration": 9,
    "start_time": "2023-10-09T13:33:38.756Z"
   },
   {
    "duration": 762,
    "start_time": "2023-10-09T13:33:38.767Z"
   },
   {
    "duration": 3,
    "start_time": "2023-10-09T13:33:39.531Z"
   },
   {
    "duration": 13,
    "start_time": "2023-10-09T13:33:39.543Z"
   },
   {
    "duration": 433,
    "start_time": "2023-10-09T13:33:39.558Z"
   },
   {
    "duration": 5,
    "start_time": "2023-10-09T13:33:39.993Z"
   },
   {
    "duration": 52,
    "start_time": "2023-10-09T13:33:39.999Z"
   },
   {
    "duration": 83,
    "start_time": "2023-10-09T13:33:40.053Z"
   },
   {
    "duration": 33,
    "start_time": "2023-10-09T13:33:40.138Z"
   },
   {
    "duration": 37,
    "start_time": "2023-10-09T13:33:40.172Z"
   },
   {
    "duration": 22,
    "start_time": "2023-10-09T13:33:40.211Z"
   },
   {
    "duration": 12,
    "start_time": "2023-10-09T13:33:40.236Z"
   },
   {
    "duration": 19,
    "start_time": "2023-10-09T13:33:40.250Z"
   },
   {
    "duration": 174,
    "start_time": "2023-10-09T13:33:40.271Z"
   },
   {
    "duration": 361,
    "start_time": "2023-10-09T13:33:40.448Z"
   },
   {
    "duration": 13746,
    "start_time": "2023-10-09T13:35:23.623Z"
   },
   {
    "duration": 4,
    "start_time": "2023-10-09T13:37:49.132Z"
   },
   {
    "duration": 13697,
    "start_time": "2023-10-09T13:37:56.512Z"
   },
   {
    "duration": 287,
    "start_time": "2023-10-09T13:38:36.942Z"
   },
   {
    "duration": 229,
    "start_time": "2023-10-09T13:38:45.542Z"
   },
   {
    "duration": 13942,
    "start_time": "2023-10-09T13:38:53.444Z"
   },
   {
    "duration": 32,
    "start_time": "2023-10-09T13:39:35.130Z"
   },
   {
    "duration": 4,
    "start_time": "2023-10-09T13:40:32.807Z"
   },
   {
    "duration": 41,
    "start_time": "2023-10-09T13:41:00.554Z"
   },
   {
    "duration": 11316,
    "start_time": "2023-10-09T13:42:53.533Z"
   },
   {
    "duration": 5,
    "start_time": "2023-10-09T13:46:56.264Z"
   },
   {
    "duration": 71,
    "start_time": "2023-10-09T13:46:56.272Z"
   },
   {
    "duration": 13,
    "start_time": "2023-10-09T13:46:56.347Z"
   },
   {
    "duration": 18,
    "start_time": "2023-10-09T13:46:56.362Z"
   },
   {
    "duration": 21,
    "start_time": "2023-10-09T13:46:56.382Z"
   },
   {
    "duration": 30,
    "start_time": "2023-10-09T13:46:56.405Z"
   },
   {
    "duration": 26,
    "start_time": "2023-10-09T13:46:56.437Z"
   },
   {
    "duration": 52,
    "start_time": "2023-10-09T13:46:56.465Z"
   },
   {
    "duration": 3,
    "start_time": "2023-10-09T13:46:56.519Z"
   },
   {
    "duration": 9,
    "start_time": "2023-10-09T13:46:56.524Z"
   },
   {
    "duration": 19,
    "start_time": "2023-10-09T13:46:56.534Z"
   },
   {
    "duration": 216,
    "start_time": "2023-10-09T13:46:56.554Z"
   },
   {
    "duration": 7,
    "start_time": "2023-10-09T13:46:56.772Z"
   },
   {
    "duration": 728,
    "start_time": "2023-10-09T13:46:56.782Z"
   },
   {
    "duration": 4,
    "start_time": "2023-10-09T13:46:57.511Z"
   },
   {
    "duration": 14,
    "start_time": "2023-10-09T13:46:57.516Z"
   },
   {
    "duration": 307,
    "start_time": "2023-10-09T13:46:57.531Z"
   },
   {
    "duration": 11,
    "start_time": "2023-10-09T13:46:57.839Z"
   },
   {
    "duration": 50,
    "start_time": "2023-10-09T13:46:57.854Z"
   },
   {
    "duration": 23,
    "start_time": "2023-10-09T13:46:57.906Z"
   },
   {
    "duration": 10,
    "start_time": "2023-10-09T13:46:57.930Z"
   },
   {
    "duration": 11,
    "start_time": "2023-10-09T13:46:57.941Z"
   },
   {
    "duration": 9,
    "start_time": "2023-10-09T13:46:57.953Z"
   },
   {
    "duration": 10,
    "start_time": "2023-10-09T13:46:57.964Z"
   },
   {
    "duration": 10,
    "start_time": "2023-10-09T13:46:57.976Z"
   },
   {
    "duration": 5,
    "start_time": "2023-10-09T13:46:57.988Z"
   },
   {
    "duration": 5,
    "start_time": "2023-10-09T13:46:57.996Z"
   },
   {
    "duration": 5,
    "start_time": "2023-10-09T13:46:58.002Z"
   },
   {
    "duration": 21,
    "start_time": "2023-10-09T13:46:58.009Z"
   },
   {
    "duration": 181,
    "start_time": "2023-10-09T13:46:58.032Z"
   },
   {
    "duration": 172,
    "start_time": "2023-10-09T13:47:31.781Z"
   },
   {
    "duration": 3,
    "start_time": "2023-10-09T13:47:44.308Z"
   },
   {
    "duration": 148,
    "start_time": "2023-10-09T13:47:45.398Z"
   },
   {
    "duration": 3,
    "start_time": "2023-10-09T13:47:54.863Z"
   },
   {
    "duration": 68,
    "start_time": "2023-10-09T13:47:55.797Z"
   },
   {
    "duration": 3,
    "start_time": "2023-10-09T13:48:21.457Z"
   },
   {
    "duration": 200,
    "start_time": "2023-10-09T13:48:22.069Z"
   },
   {
    "duration": 4,
    "start_time": "2023-10-09T13:49:01.276Z"
   },
   {
    "duration": 195,
    "start_time": "2023-10-09T13:49:01.764Z"
   },
   {
    "duration": 9,
    "start_time": "2023-10-09T13:49:22.397Z"
   },
   {
    "duration": 8,
    "start_time": "2023-10-09T13:49:25.213Z"
   },
   {
    "duration": 4,
    "start_time": "2023-10-09T13:50:19.662Z"
   },
   {
    "duration": 64,
    "start_time": "2023-10-09T13:50:20.301Z"
   },
   {
    "duration": 256,
    "start_time": "2023-10-09T13:50:42.831Z"
   },
   {
    "duration": 13512,
    "start_time": "2023-10-09T13:50:59.360Z"
   },
   {
    "duration": 9709,
    "start_time": "2023-10-09T13:51:18.639Z"
   },
   {
    "duration": 10,
    "start_time": "2023-10-09T13:53:08.442Z"
   },
   {
    "duration": 15,
    "start_time": "2023-10-09T13:53:14.619Z"
   },
   {
    "duration": 7,
    "start_time": "2023-10-09T13:53:22.903Z"
   },
   {
    "duration": 4,
    "start_time": "2023-10-09T13:53:42.732Z"
   },
   {
    "duration": 115,
    "start_time": "2023-10-09T13:53:43.451Z"
   },
   {
    "duration": 273,
    "start_time": "2023-10-09T13:53:44.979Z"
   },
   {
    "duration": 13067,
    "start_time": "2023-10-09T13:53:45.853Z"
   },
   {
    "duration": 40331,
    "start_time": "2023-10-09T13:53:58.922Z"
   },
   {
    "duration": 8,
    "start_time": "2023-10-09T13:54:39.255Z"
   },
   {
    "duration": 4,
    "start_time": "2023-10-09T13:55:04.958Z"
   },
   {
    "duration": 216,
    "start_time": "2023-10-09T13:55:05.645Z"
   },
   {
    "duration": 130,
    "start_time": "2023-10-09T13:55:14.314Z"
   },
   {
    "duration": 269,
    "start_time": "2023-10-09T13:55:21.161Z"
   },
   {
    "duration": 13470,
    "start_time": "2023-10-09T13:55:22.057Z"
   },
   {
    "duration": 10729,
    "start_time": "2023-10-09T13:55:35.529Z"
   },
   {
    "duration": 9,
    "start_time": "2023-10-09T13:55:46.261Z"
   },
   {
    "duration": 9,
    "start_time": "2023-10-09T13:57:01.485Z"
   },
   {
    "duration": 5,
    "start_time": "2023-10-09T14:02:36.387Z"
   },
   {
    "duration": 12,
    "start_time": "2023-10-09T14:03:02.411Z"
   },
   {
    "duration": 9,
    "start_time": "2023-10-09T14:03:19.363Z"
   },
   {
    "duration": 4,
    "start_time": "2023-10-09T14:05:50.870Z"
   },
   {
    "duration": 214,
    "start_time": "2023-10-09T14:05:51.360Z"
   },
   {
    "duration": 5,
    "start_time": "2023-10-09T14:05:56.257Z"
   },
   {
    "duration": 166,
    "start_time": "2023-10-09T14:05:56.680Z"
   },
   {
    "duration": 3,
    "start_time": "2023-10-09T14:07:26.943Z"
   },
   {
    "duration": 57,
    "start_time": "2023-10-09T14:07:27.518Z"
   },
   {
    "duration": 264,
    "start_time": "2023-10-09T14:07:28.297Z"
   },
   {
    "duration": 270,
    "start_time": "2023-10-09T14:07:41.937Z"
   },
   {
    "duration": 13232,
    "start_time": "2023-10-09T14:07:49.166Z"
   },
   {
    "duration": 10452,
    "start_time": "2023-10-09T14:08:02.400Z"
   },
   {
    "duration": 10,
    "start_time": "2023-10-09T14:08:12.854Z"
   },
   {
    "duration": 726,
    "start_time": "2023-10-09T14:09:49.135Z"
   },
   {
    "duration": 848,
    "start_time": "2023-10-09T14:10:00.709Z"
   },
   {
    "duration": 1586,
    "start_time": "2023-10-09T14:23:13.761Z"
   },
   {
    "duration": 44,
    "start_time": "2023-10-09T14:23:15.349Z"
   },
   {
    "duration": 14,
    "start_time": "2023-10-09T14:23:15.394Z"
   },
   {
    "duration": 14,
    "start_time": "2023-10-09T14:23:15.412Z"
   },
   {
    "duration": 19,
    "start_time": "2023-10-09T14:23:15.428Z"
   },
   {
    "duration": 40,
    "start_time": "2023-10-09T14:23:15.449Z"
   },
   {
    "duration": 10,
    "start_time": "2023-10-09T14:23:15.491Z"
   },
   {
    "duration": 31,
    "start_time": "2023-10-09T14:23:15.503Z"
   },
   {
    "duration": 15,
    "start_time": "2023-10-09T14:23:15.536Z"
   },
   {
    "duration": 18,
    "start_time": "2023-10-09T14:23:15.554Z"
   },
   {
    "duration": 10,
    "start_time": "2023-10-09T14:23:15.573Z"
   },
   {
    "duration": 227,
    "start_time": "2023-10-09T14:23:15.584Z"
   },
   {
    "duration": 7,
    "start_time": "2023-10-09T14:23:15.813Z"
   },
   {
    "duration": 768,
    "start_time": "2023-10-09T14:23:15.822Z"
   },
   {
    "duration": 4,
    "start_time": "2023-10-09T14:23:16.591Z"
   },
   {
    "duration": 42,
    "start_time": "2023-10-09T14:23:16.596Z"
   },
   {
    "duration": 295,
    "start_time": "2023-10-09T14:23:16.639Z"
   },
   {
    "duration": 4,
    "start_time": "2023-10-09T14:23:16.935Z"
   },
   {
    "duration": 21,
    "start_time": "2023-10-09T14:23:16.940Z"
   },
   {
    "duration": 28,
    "start_time": "2023-10-09T14:23:16.962Z"
   },
   {
    "duration": 13,
    "start_time": "2023-10-09T14:23:16.992Z"
   },
   {
    "duration": 8,
    "start_time": "2023-10-09T14:23:17.006Z"
   },
   {
    "duration": 8,
    "start_time": "2023-10-09T14:23:17.015Z"
   },
   {
    "duration": 18,
    "start_time": "2023-10-09T14:23:17.024Z"
   },
   {
    "duration": 12,
    "start_time": "2023-10-09T14:23:17.043Z"
   },
   {
    "duration": 22,
    "start_time": "2023-10-09T14:23:17.057Z"
   },
   {
    "duration": 16,
    "start_time": "2023-10-09T14:23:17.081Z"
   },
   {
    "duration": 16,
    "start_time": "2023-10-09T14:23:17.100Z"
   },
   {
    "duration": 9,
    "start_time": "2023-10-09T14:23:17.118Z"
   },
   {
    "duration": 12,
    "start_time": "2023-10-09T14:23:17.129Z"
   },
   {
    "duration": 122,
    "start_time": "2023-10-09T14:23:17.143Z"
   },
   {
    "duration": 414,
    "start_time": "2023-10-09T14:23:17.267Z"
   },
   {
    "duration": 13504,
    "start_time": "2023-10-09T14:23:17.683Z"
   },
   {
    "duration": 21059,
    "start_time": "2023-10-09T14:23:31.190Z"
   },
   {
    "duration": 8,
    "start_time": "2023-10-09T14:23:52.251Z"
   },
   {
    "duration": 994,
    "start_time": "2023-10-09T14:23:52.260Z"
   },
   {
    "duration": 833,
    "start_time": "2023-10-09T14:28:43.109Z"
   },
   {
    "duration": 4,
    "start_time": "2023-10-09T14:29:09.793Z"
   },
   {
    "duration": 42,
    "start_time": "2023-10-09T14:29:11.030Z"
   },
   {
    "duration": 7,
    "start_time": "2023-10-09T14:29:11.973Z"
   },
   {
    "duration": 11,
    "start_time": "2023-10-09T14:29:12.865Z"
   },
   {
    "duration": 9,
    "start_time": "2023-10-09T14:29:13.834Z"
   },
   {
    "duration": 4,
    "start_time": "2023-10-09T14:29:15.617Z"
   },
   {
    "duration": 10,
    "start_time": "2023-10-09T14:29:16.524Z"
   },
   {
    "duration": 4,
    "start_time": "2023-10-09T14:29:19.719Z"
   },
   {
    "duration": 6,
    "start_time": "2023-10-09T14:29:20.366Z"
   },
   {
    "duration": 6,
    "start_time": "2023-10-09T14:30:37.395Z"
   },
   {
    "duration": 264,
    "start_time": "2023-10-09T14:30:38.252Z"
   },
   {
    "duration": 780,
    "start_time": "2023-10-09T14:41:11.153Z"
   },
   {
    "duration": 5,
    "start_time": "2023-10-09T14:45:33.527Z"
   },
   {
    "duration": 113,
    "start_time": "2023-10-09T14:45:33.534Z"
   },
   {
    "duration": 7,
    "start_time": "2023-10-09T14:45:33.649Z"
   },
   {
    "duration": 39,
    "start_time": "2023-10-09T14:45:33.658Z"
   },
   {
    "duration": 50,
    "start_time": "2023-10-09T14:45:33.698Z"
   },
   {
    "duration": 38,
    "start_time": "2023-10-09T14:45:33.750Z"
   },
   {
    "duration": 29,
    "start_time": "2023-10-09T14:45:33.789Z"
   },
   {
    "duration": 15,
    "start_time": "2023-10-09T14:45:33.819Z"
   },
   {
    "duration": 11,
    "start_time": "2023-10-09T14:45:33.835Z"
   },
   {
    "duration": 26,
    "start_time": "2023-10-09T14:45:33.848Z"
   },
   {
    "duration": 399,
    "start_time": "2023-10-09T14:45:33.876Z"
   },
   {
    "duration": 14,
    "start_time": "2023-10-09T14:45:34.277Z"
   },
   {
    "duration": 996,
    "start_time": "2023-10-09T14:45:34.293Z"
   },
   {
    "duration": 3,
    "start_time": "2023-10-09T14:53:00.987Z"
   },
   {
    "duration": 5,
    "start_time": "2023-10-09T14:53:01.657Z"
   },
   {
    "duration": 307,
    "start_time": "2023-10-09T14:53:02.151Z"
   },
   {
    "duration": 355,
    "start_time": "2023-10-09T14:53:20.204Z"
   },
   {
    "duration": 6,
    "start_time": "2023-10-09T15:12:48.345Z"
   },
   {
    "duration": 10,
    "start_time": "2023-10-09T15:12:52.400Z"
   },
   {
    "duration": 21,
    "start_time": "2023-10-09T15:12:55.673Z"
   },
   {
    "duration": 4,
    "start_time": "2023-10-09T15:14:08.773Z"
   },
   {
    "duration": 3,
    "start_time": "2023-10-09T15:14:09.881Z"
   },
   {
    "duration": 5,
    "start_time": "2023-10-09T15:14:12.230Z"
   },
   {
    "duration": 6,
    "start_time": "2023-10-09T15:21:08.100Z"
   },
   {
    "duration": 5,
    "start_time": "2023-10-09T15:21:09.223Z"
   },
   {
    "duration": 3,
    "start_time": "2023-10-09T15:21:10.542Z"
   },
   {
    "duration": 3,
    "start_time": "2023-10-09T15:21:11.533Z"
   },
   {
    "duration": 3,
    "start_time": "2023-10-09T15:21:14.546Z"
   },
   {
    "duration": 3,
    "start_time": "2023-10-09T15:21:14.932Z"
   },
   {
    "duration": 1488,
    "start_time": "2023-10-09T15:25:08.179Z"
   },
   {
    "duration": 44,
    "start_time": "2023-10-09T15:25:09.669Z"
   },
   {
    "duration": 10,
    "start_time": "2023-10-09T15:25:09.714Z"
   },
   {
    "duration": 30,
    "start_time": "2023-10-09T15:25:09.726Z"
   },
   {
    "duration": 26,
    "start_time": "2023-10-09T15:25:09.757Z"
   },
   {
    "duration": 21,
    "start_time": "2023-10-09T15:25:09.786Z"
   },
   {
    "duration": 19,
    "start_time": "2023-10-09T15:25:09.809Z"
   },
   {
    "duration": 8,
    "start_time": "2023-10-09T15:25:09.830Z"
   },
   {
    "duration": 17,
    "start_time": "2023-10-09T15:25:09.840Z"
   },
   {
    "duration": 16,
    "start_time": "2023-10-09T15:25:09.861Z"
   },
   {
    "duration": 335,
    "start_time": "2023-10-09T15:25:09.879Z"
   },
   {
    "duration": 7,
    "start_time": "2023-10-09T15:25:10.215Z"
   },
   {
    "duration": 798,
    "start_time": "2023-10-09T15:25:10.224Z"
   },
   {
    "duration": 4,
    "start_time": "2023-10-09T15:25:11.023Z"
   },
   {
    "duration": 37,
    "start_time": "2023-10-09T15:25:11.029Z"
   },
   {
    "duration": 27,
    "start_time": "2023-10-09T15:25:11.068Z"
   },
   {
    "duration": 31,
    "start_time": "2023-10-09T15:25:11.096Z"
   },
   {
    "duration": 33,
    "start_time": "2023-10-09T15:25:11.129Z"
   },
   {
    "duration": 16,
    "start_time": "2023-10-09T15:25:11.164Z"
   },
   {
    "duration": 31,
    "start_time": "2023-10-09T15:25:11.182Z"
   },
   {
    "duration": 15,
    "start_time": "2023-10-09T15:25:11.214Z"
   },
   {
    "duration": 12,
    "start_time": "2023-10-09T15:25:11.230Z"
   },
   {
    "duration": 40,
    "start_time": "2023-10-09T15:25:11.244Z"
   },
   {
    "duration": 12,
    "start_time": "2023-10-09T15:25:11.286Z"
   },
   {
    "duration": 5,
    "start_time": "2023-10-09T15:25:11.300Z"
   },
   {
    "duration": 9,
    "start_time": "2023-10-09T15:25:11.307Z"
   },
   {
    "duration": 66,
    "start_time": "2023-10-09T15:25:11.318Z"
   },
   {
    "duration": 350,
    "start_time": "2023-10-09T15:25:11.388Z"
   },
   {
    "duration": 10359,
    "start_time": "2023-10-09T15:25:11.740Z"
   },
   {
    "duration": 8747,
    "start_time": "2023-10-09T15:25:22.100Z"
   },
   {
    "duration": 10,
    "start_time": "2023-10-09T15:25:30.848Z"
   },
   {
    "duration": 693,
    "start_time": "2023-10-09T15:25:30.859Z"
   },
   {
    "duration": 5,
    "start_time": "2023-10-09T15:32:40.240Z"
   },
   {
    "duration": 5,
    "start_time": "2023-10-09T15:32:47.693Z"
   },
   {
    "duration": 98,
    "start_time": "2023-10-09T15:32:47.700Z"
   },
   {
    "duration": 7,
    "start_time": "2023-10-09T15:32:47.800Z"
   },
   {
    "duration": 35,
    "start_time": "2023-10-09T15:32:47.808Z"
   },
   {
    "duration": 18,
    "start_time": "2023-10-09T15:32:47.845Z"
   },
   {
    "duration": 17,
    "start_time": "2023-10-09T15:32:47.865Z"
   },
   {
    "duration": 22,
    "start_time": "2023-10-09T15:32:47.884Z"
   },
   {
    "duration": 10,
    "start_time": "2023-10-09T15:32:47.907Z"
   },
   {
    "duration": 11,
    "start_time": "2023-10-09T15:32:47.918Z"
   },
   {
    "duration": 9,
    "start_time": "2023-10-09T15:32:47.931Z"
   },
   {
    "duration": 276,
    "start_time": "2023-10-09T15:32:47.942Z"
   },
   {
    "duration": 7,
    "start_time": "2023-10-09T15:32:48.219Z"
   },
   {
    "duration": 780,
    "start_time": "2023-10-09T15:32:48.228Z"
   },
   {
    "duration": 4,
    "start_time": "2023-10-09T15:32:49.010Z"
   },
   {
    "duration": 5,
    "start_time": "2023-10-09T15:33:27.919Z"
   },
   {
    "duration": 4,
    "start_time": "2023-10-09T15:33:53.939Z"
   },
   {
    "duration": 380,
    "start_time": "2023-10-09T15:34:00.947Z"
   },
   {
    "duration": 3,
    "start_time": "2023-10-09T15:34:06.086Z"
   },
   {
    "duration": 10,
    "start_time": "2023-10-09T15:34:06.793Z"
   },
   {
    "duration": 19,
    "start_time": "2023-10-09T15:34:07.523Z"
   },
   {
    "duration": 5,
    "start_time": "2023-10-09T15:34:11.309Z"
   },
   {
    "duration": 3,
    "start_time": "2023-10-09T15:34:11.826Z"
   },
   {
    "duration": 3,
    "start_time": "2023-10-09T15:34:14.916Z"
   },
   {
    "duration": 6,
    "start_time": "2023-10-09T15:34:15.434Z"
   },
   {
    "duration": 5,
    "start_time": "2023-10-09T15:34:19.272Z"
   },
   {
    "duration": 3,
    "start_time": "2023-10-09T15:34:22.079Z"
   },
   {
    "duration": 3,
    "start_time": "2023-10-09T15:34:22.653Z"
   },
   {
    "duration": 3,
    "start_time": "2023-10-09T15:34:23.102Z"
   },
   {
    "duration": 3,
    "start_time": "2023-10-09T15:34:23.597Z"
   },
   {
    "duration": 3,
    "start_time": "2023-10-09T15:34:24.877Z"
   },
   {
    "duration": 84,
    "start_time": "2023-10-09T15:34:25.583Z"
   },
   {
    "duration": 261,
    "start_time": "2023-10-09T15:34:26.405Z"
   },
   {
    "duration": 13286,
    "start_time": "2023-10-09T15:34:27.302Z"
   },
   {
    "duration": 158961,
    "start_time": "2023-10-09T15:34:40.590Z"
   },
   {
    "duration": 8,
    "start_time": "2023-10-09T15:37:19.552Z"
   },
   {
    "duration": 1000,
    "start_time": "2023-10-09T15:37:19.561Z"
   },
   {
    "duration": 716,
    "start_time": "2023-10-09T15:38:29.614Z"
   },
   {
    "duration": 4,
    "start_time": "2023-10-09T15:38:40.032Z"
   },
   {
    "duration": 74,
    "start_time": "2023-10-09T15:38:40.038Z"
   },
   {
    "duration": 7,
    "start_time": "2023-10-09T15:38:40.114Z"
   },
   {
    "duration": 47,
    "start_time": "2023-10-09T15:38:40.122Z"
   },
   {
    "duration": 44,
    "start_time": "2023-10-09T15:38:40.172Z"
   },
   {
    "duration": 44,
    "start_time": "2023-10-09T15:38:40.218Z"
   },
   {
    "duration": 55,
    "start_time": "2023-10-09T15:38:40.264Z"
   },
   {
    "duration": 54,
    "start_time": "2023-10-09T15:38:40.320Z"
   },
   {
    "duration": 29,
    "start_time": "2023-10-09T15:38:40.376Z"
   },
   {
    "duration": 24,
    "start_time": "2023-10-09T15:38:40.407Z"
   },
   {
    "duration": 295,
    "start_time": "2023-10-09T15:38:40.433Z"
   },
   {
    "duration": 15,
    "start_time": "2023-10-09T15:38:40.730Z"
   },
   {
    "duration": 852,
    "start_time": "2023-10-09T15:38:40.747Z"
   },
   {
    "duration": 6,
    "start_time": "2023-10-09T15:38:41.600Z"
   },
   {
    "duration": 295,
    "start_time": "2023-10-09T15:38:41.608Z"
   },
   {
    "duration": 344,
    "start_time": "2023-10-09T15:38:56.268Z"
   },
   {
    "duration": 1444,
    "start_time": "2023-10-09T15:39:23.073Z"
   },
   {
    "duration": 41,
    "start_time": "2023-10-09T15:39:24.519Z"
   },
   {
    "duration": 9,
    "start_time": "2023-10-09T15:39:24.562Z"
   },
   {
    "duration": 14,
    "start_time": "2023-10-09T15:39:24.573Z"
   },
   {
    "duration": 13,
    "start_time": "2023-10-09T15:39:24.588Z"
   },
   {
    "duration": 9,
    "start_time": "2023-10-09T15:39:24.602Z"
   },
   {
    "duration": 12,
    "start_time": "2023-10-09T15:39:24.612Z"
   },
   {
    "duration": 8,
    "start_time": "2023-10-09T15:39:24.625Z"
   },
   {
    "duration": 5,
    "start_time": "2023-10-09T15:39:24.644Z"
   },
   {
    "duration": 23,
    "start_time": "2023-10-09T15:39:24.652Z"
   },
   {
    "duration": 313,
    "start_time": "2023-10-09T15:39:24.677Z"
   },
   {
    "duration": 7,
    "start_time": "2023-10-09T15:39:24.992Z"
   },
   {
    "duration": 828,
    "start_time": "2023-10-09T15:39:25.000Z"
   },
   {
    "duration": 16,
    "start_time": "2023-10-09T15:39:25.829Z"
   },
   {
    "duration": 299,
    "start_time": "2023-10-09T15:39:25.847Z"
   },
   {
    "duration": 3,
    "start_time": "2023-10-09T15:39:26.148Z"
   },
   {
    "duration": 14,
    "start_time": "2023-10-09T15:39:26.153Z"
   },
   {
    "duration": 18,
    "start_time": "2023-10-09T15:39:26.168Z"
   },
   {
    "duration": 13,
    "start_time": "2023-10-09T15:39:26.188Z"
   },
   {
    "duration": 15,
    "start_time": "2023-10-09T15:39:26.203Z"
   },
   {
    "duration": 11,
    "start_time": "2023-10-09T15:39:26.219Z"
   },
   {
    "duration": 12,
    "start_time": "2023-10-09T15:39:26.231Z"
   },
   {
    "duration": 25,
    "start_time": "2023-10-09T15:39:26.245Z"
   },
   {
    "duration": 9,
    "start_time": "2023-10-09T15:39:26.272Z"
   },
   {
    "duration": 6,
    "start_time": "2023-10-09T15:39:26.283Z"
   },
   {
    "duration": 29,
    "start_time": "2023-10-09T15:39:26.291Z"
   },
   {
    "duration": 20,
    "start_time": "2023-10-09T15:39:26.322Z"
   },
   {
    "duration": 11,
    "start_time": "2023-10-09T15:39:26.345Z"
   },
   {
    "duration": 109,
    "start_time": "2023-10-09T15:39:26.357Z"
   },
   {
    "duration": 417,
    "start_time": "2023-10-09T15:39:26.468Z"
   },
   {
    "duration": 13347,
    "start_time": "2023-10-09T15:39:26.886Z"
   },
   {
    "duration": 9720,
    "start_time": "2023-10-09T15:39:40.235Z"
   },
   {
    "duration": 8,
    "start_time": "2023-10-09T15:39:49.957Z"
   },
   {
    "duration": 907,
    "start_time": "2023-10-09T15:39:50.045Z"
   },
   {
    "duration": 2448,
    "start_time": "2023-10-09T19:10:35.198Z"
   },
   {
    "duration": 220,
    "start_time": "2023-10-09T19:10:37.649Z"
   },
   {
    "duration": 16,
    "start_time": "2023-10-09T19:10:37.871Z"
   },
   {
    "duration": 46,
    "start_time": "2023-10-09T19:10:37.889Z"
   },
   {
    "duration": 31,
    "start_time": "2023-10-09T19:10:37.937Z"
   },
   {
    "duration": 18,
    "start_time": "2023-10-09T19:10:37.970Z"
   },
   {
    "duration": 24,
    "start_time": "2023-10-09T19:10:37.990Z"
   },
   {
    "duration": 4,
    "start_time": "2023-10-09T19:10:38.016Z"
   },
   {
    "duration": 26,
    "start_time": "2023-10-09T19:10:38.022Z"
   },
   {
    "duration": 36,
    "start_time": "2023-10-09T19:10:38.052Z"
   },
   {
    "duration": 474,
    "start_time": "2023-10-09T19:10:38.090Z"
   },
   {
    "duration": 25,
    "start_time": "2023-10-09T19:10:38.576Z"
   },
   {
    "duration": 1394,
    "start_time": "2023-10-09T19:10:38.603Z"
   },
   {
    "duration": 13,
    "start_time": "2023-10-09T19:10:40.019Z"
   },
   {
    "duration": 669,
    "start_time": "2023-10-09T19:10:40.037Z"
   },
   {
    "duration": 6,
    "start_time": "2023-10-09T19:10:40.708Z"
   },
   {
    "duration": 21,
    "start_time": "2023-10-09T19:10:40.716Z"
   },
   {
    "duration": 82,
    "start_time": "2023-10-09T19:10:40.739Z"
   },
   {
    "duration": 21,
    "start_time": "2023-10-09T19:10:40.823Z"
   },
   {
    "duration": 22,
    "start_time": "2023-10-09T19:10:40.846Z"
   },
   {
    "duration": 9,
    "start_time": "2023-10-09T19:10:40.870Z"
   },
   {
    "duration": 21,
    "start_time": "2023-10-09T19:10:40.881Z"
   },
   {
    "duration": 37,
    "start_time": "2023-10-09T19:10:40.906Z"
   },
   {
    "duration": 50,
    "start_time": "2023-10-09T19:10:40.945Z"
   },
   {
    "duration": 14,
    "start_time": "2023-10-09T19:10:40.997Z"
   },
   {
    "duration": 9,
    "start_time": "2023-10-09T19:10:41.013Z"
   },
   {
    "duration": 27,
    "start_time": "2023-10-09T19:10:41.023Z"
   },
   {
    "duration": 19,
    "start_time": "2023-10-09T19:10:41.055Z"
   },
   {
    "duration": 215,
    "start_time": "2023-10-09T19:10:41.076Z"
   },
   {
    "duration": 485,
    "start_time": "2023-10-09T19:10:41.293Z"
   },
   {
    "duration": 18916,
    "start_time": "2023-10-09T19:10:41.780Z"
   },
   {
    "duration": 1968,
    "start_time": "2023-10-09T19:12:52.101Z"
   },
   {
    "duration": 62,
    "start_time": "2023-10-09T19:12:54.077Z"
   },
   {
    "duration": 14,
    "start_time": "2023-10-09T19:12:54.141Z"
   },
   {
    "duration": 28,
    "start_time": "2023-10-09T19:12:54.157Z"
   },
   {
    "duration": 17,
    "start_time": "2023-10-09T19:12:54.187Z"
   },
   {
    "duration": 7,
    "start_time": "2023-10-09T19:12:54.205Z"
   },
   {
    "duration": 53,
    "start_time": "2023-10-09T19:12:54.213Z"
   },
   {
    "duration": 14,
    "start_time": "2023-10-09T19:12:54.268Z"
   },
   {
    "duration": 18,
    "start_time": "2023-10-09T19:12:54.284Z"
   },
   {
    "duration": 13,
    "start_time": "2023-10-09T19:12:54.305Z"
   },
   {
    "duration": 454,
    "start_time": "2023-10-09T19:12:54.319Z"
   },
   {
    "duration": 23,
    "start_time": "2023-10-09T19:12:54.775Z"
   },
   {
    "duration": 1258,
    "start_time": "2023-10-09T19:12:54.801Z"
   },
   {
    "duration": 9,
    "start_time": "2023-10-09T19:12:56.061Z"
   },
   {
    "duration": 515,
    "start_time": "2023-10-09T19:12:56.079Z"
   },
   {
    "duration": 6,
    "start_time": "2023-10-09T19:12:56.599Z"
   },
   {
    "duration": 18,
    "start_time": "2023-10-09T19:12:56.608Z"
   },
   {
    "duration": 42,
    "start_time": "2023-10-09T19:12:56.634Z"
   },
   {
    "duration": 12,
    "start_time": "2023-10-09T19:12:56.681Z"
   },
   {
    "duration": 18,
    "start_time": "2023-10-09T19:12:56.695Z"
   },
   {
    "duration": 14,
    "start_time": "2023-10-09T19:12:56.721Z"
   },
   {
    "duration": 22,
    "start_time": "2023-10-09T19:12:56.737Z"
   },
   {
    "duration": 18,
    "start_time": "2023-10-09T19:12:56.763Z"
   },
   {
    "duration": 19,
    "start_time": "2023-10-09T19:12:56.784Z"
   },
   {
    "duration": 7,
    "start_time": "2023-10-09T19:12:56.805Z"
   },
   {
    "duration": 18,
    "start_time": "2023-10-09T19:12:56.814Z"
   },
   {
    "duration": 8,
    "start_time": "2023-10-09T19:12:56.834Z"
   },
   {
    "duration": 6,
    "start_time": "2023-10-09T19:12:56.845Z"
   },
   {
    "duration": 297,
    "start_time": "2023-10-09T19:12:56.853Z"
   },
   {
    "duration": 497,
    "start_time": "2023-10-09T19:12:57.152Z"
   },
   {
    "duration": 18808,
    "start_time": "2023-10-09T19:12:57.659Z"
   },
   {
    "duration": 475241,
    "start_time": "2023-10-09T19:13:16.473Z"
   },
   {
    "duration": 0,
    "start_time": "2023-10-09T19:21:11.716Z"
   },
   {
    "duration": 0,
    "start_time": "2023-10-09T19:21:11.731Z"
   },
   {
    "duration": 1,
    "start_time": "2023-10-09T19:21:11.733Z"
   },
   {
    "duration": 1702,
    "start_time": "2023-10-09T19:23:32.188Z"
   },
   {
    "duration": 64,
    "start_time": "2023-10-09T19:23:36.076Z"
   },
   {
    "duration": 12,
    "start_time": "2023-10-09T19:23:36.904Z"
   },
   {
    "duration": 13,
    "start_time": "2023-10-09T19:23:37.684Z"
   },
   {
    "duration": 10,
    "start_time": "2023-10-09T19:23:38.487Z"
   },
   {
    "duration": 4,
    "start_time": "2023-10-09T19:23:39.675Z"
   },
   {
    "duration": 24,
    "start_time": "2023-10-09T19:23:40.261Z"
   },
   {
    "duration": 4,
    "start_time": "2023-10-09T19:23:41.409Z"
   },
   {
    "duration": 13,
    "start_time": "2023-10-09T19:23:42.568Z"
   },
   {
    "duration": 10,
    "start_time": "2023-10-09T19:23:43.873Z"
   },
   {
    "duration": 440,
    "start_time": "2023-10-09T19:23:45.554Z"
   },
   {
    "duration": 13,
    "start_time": "2023-10-09T19:23:48.268Z"
   },
   {
    "duration": 1257,
    "start_time": "2023-10-09T19:23:49.616Z"
   },
   {
    "duration": 3,
    "start_time": "2023-10-09T19:23:52.815Z"
   },
   {
    "duration": 5,
    "start_time": "2023-10-09T19:23:53.851Z"
   },
   {
    "duration": 6,
    "start_time": "2023-10-09T19:23:56.397Z"
   },
   {
    "duration": 15,
    "start_time": "2023-10-09T19:23:57.182Z"
   },
   {
    "duration": 16,
    "start_time": "2023-10-09T19:24:00.583Z"
   },
   {
    "duration": 6,
    "start_time": "2023-10-09T19:24:19.412Z"
   },
   {
    "duration": 3,
    "start_time": "2023-10-09T19:24:19.988Z"
   },
   {
    "duration": 7,
    "start_time": "2023-10-09T19:24:21.320Z"
   },
   {
    "duration": 8,
    "start_time": "2023-10-09T19:24:22.300Z"
   },
   {
    "duration": 5,
    "start_time": "2023-10-09T19:24:23.593Z"
   },
   {
    "duration": 15,
    "start_time": "2023-10-09T19:24:24.949Z"
   },
   {
    "duration": 3,
    "start_time": "2023-10-09T19:24:25.612Z"
   },
   {
    "duration": 13,
    "start_time": "2023-10-09T19:24:26.219Z"
   },
   {
    "duration": 8,
    "start_time": "2023-10-09T19:24:26.921Z"
   },
   {
    "duration": 4,
    "start_time": "2023-10-09T19:24:28.582Z"
   },
   {
    "duration": 102,
    "start_time": "2023-10-09T19:24:29.254Z"
   },
   {
    "duration": 308,
    "start_time": "2023-10-09T19:24:31.718Z"
   },
   {
    "duration": 15190,
    "start_time": "2023-10-09T19:24:32.907Z"
   },
   {
    "duration": 136176,
    "start_time": "2023-10-09T19:24:49.552Z"
   },
   {
    "duration": 1712,
    "start_time": "2023-10-09T19:27:24.197Z"
   },
   {
    "duration": 58,
    "start_time": "2023-10-09T19:27:25.913Z"
   },
   {
    "duration": 20,
    "start_time": "2023-10-09T19:27:25.977Z"
   },
   {
    "duration": 48,
    "start_time": "2023-10-09T19:27:25.999Z"
   },
   {
    "duration": 33,
    "start_time": "2023-10-09T19:27:26.049Z"
   },
   {
    "duration": 20,
    "start_time": "2023-10-09T19:27:26.085Z"
   },
   {
    "duration": 14,
    "start_time": "2023-10-09T19:27:26.107Z"
   },
   {
    "duration": 8,
    "start_time": "2023-10-09T19:27:26.127Z"
   },
   {
    "duration": 29,
    "start_time": "2023-10-09T19:27:26.137Z"
   },
   {
    "duration": 24,
    "start_time": "2023-10-09T19:27:26.168Z"
   },
   {
    "duration": 492,
    "start_time": "2023-10-09T19:27:26.194Z"
   },
   {
    "duration": 8,
    "start_time": "2023-10-09T19:27:26.689Z"
   },
   {
    "duration": 1076,
    "start_time": "2023-10-09T19:27:26.699Z"
   },
   {
    "duration": 2,
    "start_time": "2023-10-09T19:27:27.779Z"
   },
   {
    "duration": 14,
    "start_time": "2023-10-09T19:27:27.785Z"
   },
   {
    "duration": 12,
    "start_time": "2023-10-09T19:27:27.801Z"
   },
   {
    "duration": 24,
    "start_time": "2023-10-09T19:27:27.814Z"
   },
   {
    "duration": 32,
    "start_time": "2023-10-09T19:27:27.840Z"
   },
   {
    "duration": 6,
    "start_time": "2023-10-09T19:27:27.874Z"
   },
   {
    "duration": 18,
    "start_time": "2023-10-09T19:27:27.884Z"
   },
   {
    "duration": 5,
    "start_time": "2023-10-09T19:27:27.905Z"
   },
   {
    "duration": 68,
    "start_time": "2023-10-09T19:27:27.912Z"
   },
   {
    "duration": 17,
    "start_time": "2023-10-09T19:27:27.982Z"
   },
   {
    "duration": 8,
    "start_time": "2023-10-09T19:27:28.001Z"
   },
   {
    "duration": 4,
    "start_time": "2023-10-09T19:27:28.011Z"
   },
   {
    "duration": 11,
    "start_time": "2023-10-09T19:27:28.017Z"
   },
   {
    "duration": 32,
    "start_time": "2023-10-09T19:27:28.033Z"
   },
   {
    "duration": 23,
    "start_time": "2023-10-09T19:27:28.067Z"
   },
   {
    "duration": 140,
    "start_time": "2023-10-09T19:27:28.092Z"
   },
   {
    "duration": 373,
    "start_time": "2023-10-09T19:27:28.236Z"
   },
   {
    "duration": 15205,
    "start_time": "2023-10-09T19:27:28.611Z"
   },
   {
    "duration": 38904,
    "start_time": "2023-10-09T19:27:43.818Z"
   },
   {
    "duration": 0,
    "start_time": "2023-10-09T19:28:22.730Z"
   },
   {
    "duration": 0,
    "start_time": "2023-10-09T19:28:22.731Z"
   },
   {
    "duration": 10,
    "start_time": "2023-10-09T19:28:54.860Z"
   },
   {
    "duration": 61,
    "start_time": "2023-10-09T19:28:54.889Z"
   },
   {
    "duration": 12,
    "start_time": "2023-10-09T19:28:54.952Z"
   },
   {
    "duration": 26,
    "start_time": "2023-10-09T19:28:54.965Z"
   },
   {
    "duration": 12,
    "start_time": "2023-10-09T19:28:54.993Z"
   },
   {
    "duration": 9,
    "start_time": "2023-10-09T19:28:55.007Z"
   },
   {
    "duration": 36,
    "start_time": "2023-10-09T19:28:55.017Z"
   },
   {
    "duration": 24,
    "start_time": "2023-10-09T19:28:55.055Z"
   },
   {
    "duration": 25,
    "start_time": "2023-10-09T19:28:55.080Z"
   },
   {
    "duration": 23,
    "start_time": "2023-10-09T19:28:55.107Z"
   },
   {
    "duration": 398,
    "start_time": "2023-10-09T19:28:55.134Z"
   },
   {
    "duration": 17,
    "start_time": "2023-10-09T19:28:55.543Z"
   },
   {
    "duration": 1001,
    "start_time": "2023-10-09T19:28:55.565Z"
   },
   {
    "duration": 9,
    "start_time": "2023-10-09T19:28:56.569Z"
   },
   {
    "duration": 535,
    "start_time": "2023-10-09T19:28:56.581Z"
   },
   {
    "duration": 5,
    "start_time": "2023-10-09T19:29:01.218Z"
   },
   {
    "duration": 10,
    "start_time": "2023-10-09T19:29:01.802Z"
   },
   {
    "duration": 30,
    "start_time": "2023-10-09T19:29:02.657Z"
   },
   {
    "duration": 6,
    "start_time": "2023-10-09T19:29:11.777Z"
   },
   {
    "duration": 3,
    "start_time": "2023-10-09T19:29:12.290Z"
   },
   {
    "duration": 11,
    "start_time": "2023-10-09T19:29:13.553Z"
   },
   {
    "duration": 9,
    "start_time": "2023-10-09T19:29:14.528Z"
   },
   {
    "duration": 6,
    "start_time": "2023-10-09T19:29:17.202Z"
   },
   {
    "duration": 4,
    "start_time": "2023-10-09T19:29:19.623Z"
   },
   {
    "duration": 5,
    "start_time": "2023-10-09T19:29:20.073Z"
   },
   {
    "duration": 4,
    "start_time": "2023-10-09T19:29:20.495Z"
   },
   {
    "duration": 22,
    "start_time": "2023-10-09T19:29:20.922Z"
   },
   {
    "duration": 6,
    "start_time": "2023-10-09T19:29:21.960Z"
   },
   {
    "duration": 161,
    "start_time": "2023-10-09T19:29:22.450Z"
   },
   {
    "duration": 345,
    "start_time": "2023-10-09T19:29:23.653Z"
   },
   {
    "duration": 15220,
    "start_time": "2023-10-09T19:29:26.855Z"
   },
   {
    "duration": 1958163,
    "start_time": "2023-10-09T19:29:44.607Z"
   },
   {
    "duration": 9,
    "start_time": "2023-10-09T20:02:28.214Z"
   },
   {
    "duration": 10319,
    "start_time": "2023-10-09T20:02:33.570Z"
   },
   {
    "duration": 1808,
    "start_time": "2023-10-13T12:37:46.245Z"
   },
   {
    "duration": 116,
    "start_time": "2023-10-13T12:37:48.055Z"
   },
   {
    "duration": 11,
    "start_time": "2023-10-13T12:37:48.173Z"
   },
   {
    "duration": 75,
    "start_time": "2023-10-13T12:37:48.186Z"
   },
   {
    "duration": 12,
    "start_time": "2023-10-13T12:37:48.264Z"
   },
   {
    "duration": 6,
    "start_time": "2023-10-13T12:37:48.278Z"
   },
   {
    "duration": 80,
    "start_time": "2023-10-13T12:37:48.286Z"
   },
   {
    "duration": 15,
    "start_time": "2023-10-13T12:37:48.368Z"
   },
   {
    "duration": 13,
    "start_time": "2023-10-13T12:37:48.385Z"
   },
   {
    "duration": 13,
    "start_time": "2023-10-13T12:37:48.400Z"
   },
   {
    "duration": 343,
    "start_time": "2023-10-13T12:37:48.414Z"
   },
   {
    "duration": 8,
    "start_time": "2023-10-13T12:37:48.759Z"
   },
   {
    "duration": 995,
    "start_time": "2023-10-13T12:37:48.769Z"
   },
   {
    "duration": 8,
    "start_time": "2023-10-13T12:37:49.768Z"
   },
   {
    "duration": 347,
    "start_time": "2023-10-13T12:37:49.778Z"
   },
   {
    "duration": 5,
    "start_time": "2023-10-13T12:37:50.127Z"
   },
   {
    "duration": 17,
    "start_time": "2023-10-13T12:37:50.134Z"
   },
   {
    "duration": 23,
    "start_time": "2023-10-13T12:37:50.152Z"
   },
   {
    "duration": 8,
    "start_time": "2023-10-13T12:37:50.176Z"
   },
   {
    "duration": 15,
    "start_time": "2023-10-13T12:37:50.185Z"
   },
   {
    "duration": 13,
    "start_time": "2023-10-13T12:37:50.202Z"
   },
   {
    "duration": 6,
    "start_time": "2023-10-13T12:37:50.217Z"
   },
   {
    "duration": 23,
    "start_time": "2023-10-13T12:37:50.224Z"
   },
   {
    "duration": 3,
    "start_time": "2023-10-13T12:37:50.249Z"
   },
   {
    "duration": 5,
    "start_time": "2023-10-13T12:37:50.253Z"
   },
   {
    "duration": 7,
    "start_time": "2023-10-13T12:37:50.260Z"
   },
   {
    "duration": 16,
    "start_time": "2023-10-13T12:37:50.268Z"
   },
   {
    "duration": 13,
    "start_time": "2023-10-13T12:37:50.286Z"
   },
   {
    "duration": 92,
    "start_time": "2023-10-13T12:37:50.300Z"
   },
   {
    "duration": 340,
    "start_time": "2023-10-13T12:37:50.446Z"
   },
   {
    "duration": 13726,
    "start_time": "2023-10-13T12:37:50.788Z"
   },
   {
    "duration": 10735,
    "start_time": "2023-10-13T12:38:04.516Z"
   },
   {
    "duration": 10,
    "start_time": "2023-10-13T12:38:15.253Z"
   },
   {
    "duration": 986,
    "start_time": "2023-10-13T12:38:15.265Z"
   },
   {
    "duration": 2579,
    "start_time": "2023-10-13T13:09:52.183Z"
   },
   {
    "duration": 120,
    "start_time": "2023-10-13T13:09:54.765Z"
   },
   {
    "duration": 11,
    "start_time": "2023-10-13T13:09:54.887Z"
   },
   {
    "duration": 41,
    "start_time": "2023-10-13T13:09:54.900Z"
   },
   {
    "duration": 34,
    "start_time": "2023-10-13T13:09:54.944Z"
   },
   {
    "duration": 43,
    "start_time": "2023-10-13T13:09:54.980Z"
   },
   {
    "duration": 70,
    "start_time": "2023-10-13T13:09:55.025Z"
   },
   {
    "duration": 43,
    "start_time": "2023-10-13T13:09:55.097Z"
   },
   {
    "duration": 55,
    "start_time": "2023-10-13T13:09:55.142Z"
   },
   {
    "duration": 67,
    "start_time": "2023-10-13T13:09:55.199Z"
   },
   {
    "duration": 410,
    "start_time": "2023-10-13T13:09:55.268Z"
   },
   {
    "duration": 8,
    "start_time": "2023-10-13T13:09:55.680Z"
   },
   {
    "duration": 1018,
    "start_time": "2023-10-13T13:09:55.690Z"
   },
   {
    "duration": 8,
    "start_time": "2023-10-13T13:09:56.711Z"
   },
   {
    "duration": 2582,
    "start_time": "2023-10-13T13:09:56.721Z"
   },
   {
    "duration": 335,
    "start_time": "2023-10-13T13:11:15.678Z"
   },
   {
    "duration": 1659,
    "start_time": "2023-10-17T10:35:29.017Z"
   },
   {
    "duration": 116,
    "start_time": "2023-10-17T10:35:32.212Z"
   },
   {
    "duration": 11,
    "start_time": "2023-10-17T10:35:40.497Z"
   },
   {
    "duration": 14,
    "start_time": "2023-10-17T10:35:46.004Z"
   },
   {
    "duration": 9,
    "start_time": "2023-10-17T10:35:47.264Z"
   },
   {
    "duration": 4,
    "start_time": "2023-10-17T10:35:48.684Z"
   },
   {
    "duration": 9,
    "start_time": "2023-10-17T10:35:54.442Z"
   },
   {
    "duration": 4,
    "start_time": "2023-10-17T10:35:56.263Z"
   },
   {
    "duration": 7,
    "start_time": "2023-10-17T10:36:00.524Z"
   },
   {
    "duration": 8,
    "start_time": "2023-10-17T10:36:04.500Z"
   },
   {
    "duration": 323,
    "start_time": "2023-10-17T10:39:24.891Z"
   },
   {
    "duration": 240,
    "start_time": "2023-10-17T10:39:44.141Z"
   },
   {
    "duration": 363,
    "start_time": "2023-10-17T10:39:56.048Z"
   },
   {
    "duration": 299,
    "start_time": "2023-10-17T10:40:34.530Z"
   },
   {
    "duration": 205,
    "start_time": "2023-10-17T10:50:44.006Z"
   },
   {
    "duration": 8,
    "start_time": "2023-10-17T10:50:56.408Z"
   },
   {
    "duration": 931,
    "start_time": "2023-10-17T10:50:58.174Z"
   },
   {
    "duration": 1105,
    "start_time": "2023-10-17T10:51:04.470Z"
   },
   {
    "duration": 2310,
    "start_time": "2023-10-17T10:51:47.473Z"
   },
   {
    "duration": 775,
    "start_time": "2023-10-17T10:52:05.395Z"
   },
   {
    "duration": 552,
    "start_time": "2023-10-17T10:52:46.192Z"
   },
   {
    "duration": 252,
    "start_time": "2023-10-17T10:53:05.730Z"
   },
   {
    "duration": 252,
    "start_time": "2023-10-17T10:56:36.310Z"
   },
   {
    "duration": 174,
    "start_time": "2023-10-17T10:57:00.119Z"
   },
   {
    "duration": 1567,
    "start_time": "2023-10-18T08:50:37.258Z"
   },
   {
    "duration": 135,
    "start_time": "2023-10-18T08:50:38.827Z"
   },
   {
    "duration": 11,
    "start_time": "2023-10-18T08:50:38.963Z"
   },
   {
    "duration": 22,
    "start_time": "2023-10-18T08:50:38.975Z"
   },
   {
    "duration": 11,
    "start_time": "2023-10-18T08:50:38.999Z"
   },
   {
    "duration": 13,
    "start_time": "2023-10-18T08:50:39.011Z"
   },
   {
    "duration": 18,
    "start_time": "2023-10-18T08:50:39.026Z"
   },
   {
    "duration": 4,
    "start_time": "2023-10-18T08:50:39.045Z"
   },
   {
    "duration": 8,
    "start_time": "2023-10-18T08:50:39.050Z"
   },
   {
    "duration": 15,
    "start_time": "2023-10-18T08:50:39.061Z"
   },
   {
    "duration": 340,
    "start_time": "2023-10-18T08:50:39.078Z"
   },
   {
    "duration": 9,
    "start_time": "2023-10-18T08:50:39.420Z"
   },
   {
    "duration": 821,
    "start_time": "2023-10-18T08:50:39.430Z"
   },
   {
    "duration": 241,
    "start_time": "2023-10-18T08:50:40.253Z"
   },
   {
    "duration": 155,
    "start_time": "2023-10-18T08:50:40.496Z"
   },
   {
    "duration": 244,
    "start_time": "2023-10-18T08:50:40.653Z"
   },
   {
    "duration": 11,
    "start_time": "2023-10-18T08:50:40.899Z"
   },
   {
    "duration": 2239,
    "start_time": "2023-10-18T08:50:40.911Z"
   },
   {
    "duration": 463,
    "start_time": "2023-10-18T08:50:43.153Z"
   },
   {
    "duration": 4,
    "start_time": "2023-10-18T08:50:43.617Z"
   },
   {
    "duration": 35,
    "start_time": "2023-10-18T08:50:43.623Z"
   },
   {
    "duration": 357,
    "start_time": "2023-10-18T08:50:43.659Z"
   },
   {
    "duration": 30,
    "start_time": "2023-10-18T08:50:44.019Z"
   },
   {
    "duration": 18,
    "start_time": "2023-10-18T08:50:44.051Z"
   },
   {
    "duration": 35,
    "start_time": "2023-10-18T08:50:44.071Z"
   },
   {
    "duration": 46,
    "start_time": "2023-10-18T08:50:44.109Z"
   },
   {
    "duration": 64,
    "start_time": "2023-10-18T08:50:44.157Z"
   },
   {
    "duration": 38,
    "start_time": "2023-10-18T08:50:44.224Z"
   },
   {
    "duration": 33,
    "start_time": "2023-10-18T08:50:44.264Z"
   },
   {
    "duration": 28,
    "start_time": "2023-10-18T08:50:44.298Z"
   },
   {
    "duration": 31,
    "start_time": "2023-10-18T08:50:44.327Z"
   },
   {
    "duration": 41,
    "start_time": "2023-10-18T08:50:44.360Z"
   },
   {
    "duration": 26,
    "start_time": "2023-10-18T08:50:44.402Z"
   },
   {
    "duration": 132,
    "start_time": "2023-10-18T08:50:44.429Z"
   },
   {
    "duration": 355,
    "start_time": "2023-10-18T08:50:44.563Z"
   },
   {
    "duration": 11909,
    "start_time": "2023-10-18T08:50:44.920Z"
   },
   {
    "duration": 9115,
    "start_time": "2023-10-18T08:50:56.831Z"
   },
   {
    "duration": 8,
    "start_time": "2023-10-18T08:51:05.948Z"
   },
   {
    "duration": 797,
    "start_time": "2023-10-18T08:51:05.957Z"
   },
   {
    "duration": 3,
    "start_time": "2023-10-18T08:52:16.137Z"
   },
   {
    "duration": 69,
    "start_time": "2023-10-18T08:52:16.142Z"
   },
   {
    "duration": 6,
    "start_time": "2023-10-18T08:52:16.213Z"
   },
   {
    "duration": 31,
    "start_time": "2023-10-18T08:52:16.221Z"
   },
   {
    "duration": 16,
    "start_time": "2023-10-18T08:52:16.254Z"
   },
   {
    "duration": 6,
    "start_time": "2023-10-18T08:52:16.272Z"
   },
   {
    "duration": 11,
    "start_time": "2023-10-18T08:52:16.279Z"
   },
   {
    "duration": 4,
    "start_time": "2023-10-18T08:52:16.292Z"
   },
   {
    "duration": 15,
    "start_time": "2023-10-18T08:52:16.297Z"
   },
   {
    "duration": 11,
    "start_time": "2023-10-18T08:52:16.314Z"
   },
   {
    "duration": 279,
    "start_time": "2023-10-18T08:52:16.326Z"
   },
   {
    "duration": 7,
    "start_time": "2023-10-18T08:52:24.780Z"
   },
   {
    "duration": 741,
    "start_time": "2023-10-18T08:52:26.820Z"
   },
   {
    "duration": 234,
    "start_time": "2023-10-18T08:59:35.371Z"
   },
   {
    "duration": 1921,
    "start_time": "2023-10-18T09:00:08.492Z"
   },
   {
    "duration": 409,
    "start_time": "2023-10-18T09:00:33.939Z"
   },
   {
    "duration": 6,
    "start_time": "2023-10-18T09:03:03.714Z"
   },
   {
    "duration": 365,
    "start_time": "2023-10-18T09:03:28.661Z"
   },
   {
    "duration": 244,
    "start_time": "2023-10-18T09:03:39.960Z"
   },
   {
    "duration": 200,
    "start_time": "2023-10-18T09:03:51.205Z"
   },
   {
    "duration": 202,
    "start_time": "2023-10-18T09:04:00.045Z"
   },
   {
    "duration": 191,
    "start_time": "2023-10-18T09:04:09.866Z"
   },
   {
    "duration": 22,
    "start_time": "2023-10-18T09:05:17.240Z"
   },
   {
    "duration": 10,
    "start_time": "2023-10-18T09:05:37.946Z"
   },
   {
    "duration": 11,
    "start_time": "2023-10-18T09:06:25.509Z"
   },
   {
    "duration": 4,
    "start_time": "2023-10-18T09:06:35.497Z"
   },
   {
    "duration": 95,
    "start_time": "2023-10-18T09:06:35.502Z"
   },
   {
    "duration": 6,
    "start_time": "2023-10-18T09:06:35.599Z"
   },
   {
    "duration": 26,
    "start_time": "2023-10-18T09:06:35.607Z"
   },
   {
    "duration": 29,
    "start_time": "2023-10-18T09:06:35.635Z"
   },
   {
    "duration": 24,
    "start_time": "2023-10-18T09:06:35.665Z"
   },
   {
    "duration": 41,
    "start_time": "2023-10-18T09:06:35.691Z"
   },
   {
    "duration": 24,
    "start_time": "2023-10-18T09:06:35.734Z"
   },
   {
    "duration": 21,
    "start_time": "2023-10-18T09:06:35.759Z"
   },
   {
    "duration": 35,
    "start_time": "2023-10-18T09:06:35.782Z"
   },
   {
    "duration": 294,
    "start_time": "2023-10-18T09:06:35.819Z"
   },
   {
    "duration": 8,
    "start_time": "2023-10-18T09:06:36.115Z"
   },
   {
    "duration": 792,
    "start_time": "2023-10-18T09:06:36.125Z"
   },
   {
    "duration": 240,
    "start_time": "2023-10-18T09:06:36.919Z"
   },
   {
    "duration": 272,
    "start_time": "2023-10-18T09:06:37.161Z"
   },
   {
    "duration": 387,
    "start_time": "2023-10-18T09:06:37.435Z"
   },
   {
    "duration": 6,
    "start_time": "2023-10-18T09:06:37.824Z"
   },
   {
    "duration": 203,
    "start_time": "2023-10-18T09:06:37.831Z"
   },
   {
    "duration": 15,
    "start_time": "2023-10-18T09:06:38.036Z"
   },
   {
    "duration": 243,
    "start_time": "2023-10-18T09:09:30.636Z"
   },
   {
    "duration": 369,
    "start_time": "2023-10-18T09:11:30.265Z"
   },
   {
    "duration": 2,
    "start_time": "2023-10-18T09:14:29.285Z"
   },
   {
    "duration": 3,
    "start_time": "2023-10-18T09:15:40.011Z"
   },
   {
    "duration": 50,
    "start_time": "2023-10-18T09:15:40.016Z"
   },
   {
    "duration": 7,
    "start_time": "2023-10-18T09:15:40.068Z"
   },
   {
    "duration": 19,
    "start_time": "2023-10-18T09:15:40.076Z"
   },
   {
    "duration": 15,
    "start_time": "2023-10-18T09:15:40.098Z"
   },
   {
    "duration": 12,
    "start_time": "2023-10-18T09:15:40.115Z"
   },
   {
    "duration": 25,
    "start_time": "2023-10-18T09:15:40.129Z"
   },
   {
    "duration": 31,
    "start_time": "2023-10-18T09:15:40.156Z"
   },
   {
    "duration": 46,
    "start_time": "2023-10-18T09:15:40.189Z"
   },
   {
    "duration": 31,
    "start_time": "2023-10-18T09:15:40.237Z"
   },
   {
    "duration": 301,
    "start_time": "2023-10-18T09:15:40.270Z"
   },
   {
    "duration": 8,
    "start_time": "2023-10-18T09:15:40.573Z"
   },
   {
    "duration": 798,
    "start_time": "2023-10-18T09:15:40.582Z"
   },
   {
    "duration": 230,
    "start_time": "2023-10-18T09:15:41.382Z"
   },
   {
    "duration": 294,
    "start_time": "2023-10-18T09:15:41.614Z"
   },
   {
    "duration": 270,
    "start_time": "2023-10-18T09:15:41.910Z"
   },
   {
    "duration": 414,
    "start_time": "2023-10-18T09:15:42.182Z"
   },
   {
    "duration": 3,
    "start_time": "2023-10-18T09:15:42.597Z"
   },
   {
    "duration": 2944,
    "start_time": "2023-10-18T09:15:42.601Z"
   },
   {
    "duration": 2,
    "start_time": "2023-10-18T09:15:48.573Z"
   },
   {
    "duration": 4,
    "start_time": "2023-10-18T09:36:32.172Z"
   },
   {
    "duration": 41,
    "start_time": "2023-10-18T09:36:33.743Z"
   },
   {
    "duration": 7,
    "start_time": "2023-10-18T09:36:35.609Z"
   },
   {
    "duration": 12,
    "start_time": "2023-10-18T09:36:36.504Z"
   },
   {
    "duration": 8,
    "start_time": "2023-10-18T09:36:38.870Z"
   },
   {
    "duration": 4,
    "start_time": "2023-10-18T09:36:40.488Z"
   },
   {
    "duration": 10,
    "start_time": "2023-10-18T09:36:42.062Z"
   },
   {
    "duration": 4,
    "start_time": "2023-10-18T09:36:46.014Z"
   },
   {
    "duration": 7,
    "start_time": "2023-10-18T09:36:47.647Z"
   },
   {
    "duration": 9,
    "start_time": "2023-10-18T09:36:49.032Z"
   },
   {
    "duration": 286,
    "start_time": "2023-10-18T09:36:50.827Z"
   },
   {
    "duration": 8,
    "start_time": "2023-10-18T09:36:56.259Z"
   },
   {
    "duration": 748,
    "start_time": "2023-10-18T09:36:58.096Z"
   },
   {
    "duration": 253,
    "start_time": "2023-10-18T09:37:00.294Z"
   },
   {
    "duration": 244,
    "start_time": "2023-10-18T09:37:02.655Z"
   },
   {
    "duration": 150,
    "start_time": "2023-10-18T09:37:07.227Z"
   },
   {
    "duration": 235,
    "start_time": "2023-10-18T09:37:10.533Z"
   },
   {
    "duration": 521,
    "start_time": "2023-10-18T09:37:11.771Z"
   },
   {
    "duration": 2,
    "start_time": "2023-10-18T09:37:16.134Z"
   },
   {
    "duration": 3301,
    "start_time": "2023-10-18T09:37:19.148Z"
   },
   {
    "duration": 2,
    "start_time": "2023-10-18T09:37:25.950Z"
   },
   {
    "duration": 3,
    "start_time": "2023-10-18T09:37:29.101Z"
   },
   {
    "duration": 17,
    "start_time": "2023-10-18T09:37:31.977Z"
   },
   {
    "duration": 340,
    "start_time": "2023-10-18T09:37:34.053Z"
   },
   {
    "duration": 31,
    "start_time": "2023-10-18T09:37:40.140Z"
   },
   {
    "duration": 5,
    "start_time": "2023-10-18T09:38:13.732Z"
   },
   {
    "duration": 4,
    "start_time": "2023-10-18T09:38:15.536Z"
   },
   {
    "duration": 5,
    "start_time": "2023-10-18T09:38:18.908Z"
   },
   {
    "duration": 8,
    "start_time": "2023-10-18T09:38:20.932Z"
   },
   {
    "duration": 7,
    "start_time": "2023-10-18T09:38:22.158Z"
   },
   {
    "duration": 2,
    "start_time": "2023-10-18T09:38:24.367Z"
   },
   {
    "duration": 3,
    "start_time": "2023-10-18T09:38:25.684Z"
   },
   {
    "duration": 4,
    "start_time": "2023-10-18T09:38:26.848Z"
   },
   {
    "duration": 3,
    "start_time": "2023-10-18T09:38:27.450Z"
   },
   {
    "duration": 3,
    "start_time": "2023-10-18T09:38:30.131Z"
   },
   {
    "duration": 1387,
    "start_time": "2023-10-18T09:38:43.563Z"
   },
   {
    "duration": 423,
    "start_time": "2023-10-18T09:38:46.678Z"
   },
   {
    "duration": 22568,
    "start_time": "2023-10-18T09:38:47.876Z"
   },
   {
    "duration": 42151,
    "start_time": "2023-10-18T09:39:11.704Z"
   },
   {
    "duration": 9,
    "start_time": "2023-10-18T09:39:58.153Z"
   },
   {
    "duration": 1767,
    "start_time": "2023-10-18T09:40:05.787Z"
   },
   {
    "duration": 8,
    "start_time": "2023-10-18T09:48:08.138Z"
   },
   {
    "duration": 1563,
    "start_time": "2023-10-18T09:48:37.263Z"
   },
   {
    "duration": 4,
    "start_time": "2023-10-18T09:49:00.376Z"
   },
   {
    "duration": 127,
    "start_time": "2023-10-18T09:49:00.382Z"
   },
   {
    "duration": 34,
    "start_time": "2023-10-18T09:49:00.510Z"
   },
   {
    "duration": 88,
    "start_time": "2023-10-18T09:49:00.548Z"
   },
   {
    "duration": 109,
    "start_time": "2023-10-18T09:49:00.638Z"
   },
   {
    "duration": 60,
    "start_time": "2023-10-18T09:49:00.749Z"
   },
   {
    "duration": 72,
    "start_time": "2023-10-18T09:49:00.811Z"
   },
   {
    "duration": 69,
    "start_time": "2023-10-18T09:49:00.885Z"
   },
   {
    "duration": 75,
    "start_time": "2023-10-18T09:49:00.959Z"
   },
   {
    "duration": 90,
    "start_time": "2023-10-18T09:49:01.036Z"
   },
   {
    "duration": 389,
    "start_time": "2023-10-18T09:49:01.128Z"
   },
   {
    "duration": 8,
    "start_time": "2023-10-18T09:49:01.518Z"
   },
   {
    "duration": 972,
    "start_time": "2023-10-18T09:49:01.528Z"
   },
   {
    "duration": 280,
    "start_time": "2023-10-18T09:49:02.502Z"
   },
   {
    "duration": 169,
    "start_time": "2023-10-18T09:49:02.784Z"
   },
   {
    "duration": 11,
    "start_time": "2023-10-18T09:49:02.955Z"
   },
   {
    "duration": 275,
    "start_time": "2023-10-18T09:49:02.969Z"
   },
   {
    "duration": 226,
    "start_time": "2023-10-18T09:49:13.439Z"
   },
   {
    "duration": 12,
    "start_time": "2023-10-18T09:50:33.931Z"
   },
   {
    "duration": 1626,
    "start_time": "2023-10-18T09:53:12.735Z"
   },
   {
    "duration": 44,
    "start_time": "2023-10-18T09:53:14.363Z"
   },
   {
    "duration": 9,
    "start_time": "2023-10-18T09:53:14.409Z"
   },
   {
    "duration": 24,
    "start_time": "2023-10-18T09:53:14.420Z"
   },
   {
    "duration": 10,
    "start_time": "2023-10-18T09:53:14.448Z"
   },
   {
    "duration": 7,
    "start_time": "2023-10-18T09:53:14.461Z"
   },
   {
    "duration": 11,
    "start_time": "2023-10-18T09:53:14.470Z"
   },
   {
    "duration": 18,
    "start_time": "2023-10-18T09:53:14.482Z"
   },
   {
    "duration": 22,
    "start_time": "2023-10-18T09:53:14.501Z"
   },
   {
    "duration": 13,
    "start_time": "2023-10-18T09:53:14.525Z"
   },
   {
    "duration": 347,
    "start_time": "2023-10-18T09:53:14.539Z"
   },
   {
    "duration": 8,
    "start_time": "2023-10-18T09:53:14.887Z"
   },
   {
    "duration": 972,
    "start_time": "2023-10-18T09:53:14.896Z"
   },
   {
    "duration": 256,
    "start_time": "2023-10-18T09:53:15.871Z"
   },
   {
    "duration": 180,
    "start_time": "2023-10-18T09:53:16.129Z"
   },
   {
    "duration": 295,
    "start_time": "2023-10-18T09:53:16.310Z"
   },
   {
    "duration": 467,
    "start_time": "2023-10-18T09:53:16.606Z"
   },
   {
    "duration": 7,
    "start_time": "2023-10-18T09:53:17.076Z"
   },
   {
    "duration": 228,
    "start_time": "2023-10-18T09:53:17.084Z"
   },
   {
    "duration": 119,
    "start_time": "2023-10-18T09:53:17.314Z"
   },
   {
    "duration": 1409,
    "start_time": "2023-10-18T10:22:26.132Z"
   },
   {
    "duration": 46,
    "start_time": "2023-10-18T10:22:27.543Z"
   },
   {
    "duration": 10,
    "start_time": "2023-10-18T10:22:27.591Z"
   },
   {
    "duration": 12,
    "start_time": "2023-10-18T10:22:27.603Z"
   },
   {
    "duration": 8,
    "start_time": "2023-10-18T10:22:27.617Z"
   },
   {
    "duration": 19,
    "start_time": "2023-10-18T10:22:27.626Z"
   },
   {
    "duration": 17,
    "start_time": "2023-10-18T10:22:27.646Z"
   },
   {
    "duration": 4,
    "start_time": "2023-10-18T10:22:27.664Z"
   },
   {
    "duration": 12,
    "start_time": "2023-10-18T10:22:27.670Z"
   },
   {
    "duration": 13,
    "start_time": "2023-10-18T10:22:27.684Z"
   },
   {
    "duration": 371,
    "start_time": "2023-10-18T10:22:27.699Z"
   },
   {
    "duration": 8,
    "start_time": "2023-10-18T10:22:28.072Z"
   },
   {
    "duration": 830,
    "start_time": "2023-10-18T10:22:28.081Z"
   },
   {
    "duration": 246,
    "start_time": "2023-10-18T10:22:28.913Z"
   },
   {
    "duration": 158,
    "start_time": "2023-10-18T10:22:29.161Z"
   },
   {
    "duration": 262,
    "start_time": "2023-10-18T10:22:29.321Z"
   },
   {
    "duration": 445,
    "start_time": "2023-10-18T10:22:29.586Z"
   },
   {
    "duration": 13,
    "start_time": "2023-10-18T10:22:30.033Z"
   },
   {
    "duration": 308,
    "start_time": "2023-10-18T10:22:30.048Z"
   },
   {
    "duration": 3,
    "start_time": "2023-10-18T10:22:30.357Z"
   },
   {
    "duration": 71,
    "start_time": "2023-10-18T10:22:30.361Z"
   },
   {
    "duration": 2411,
    "start_time": "2023-10-18T10:22:30.434Z"
   },
   {
    "duration": 3,
    "start_time": "2023-10-18T10:22:32.848Z"
   },
   {
    "duration": 115,
    "start_time": "2023-10-18T10:22:32.855Z"
   },
   {
    "duration": 50,
    "start_time": "2023-10-18T10:22:32.972Z"
   },
   {
    "duration": 333,
    "start_time": "2023-10-18T10:22:33.024Z"
   },
   {
    "duration": 33,
    "start_time": "2023-10-18T10:22:33.358Z"
   },
   {
    "duration": 5,
    "start_time": "2023-10-18T10:22:33.394Z"
   },
   {
    "duration": 56,
    "start_time": "2023-10-18T10:22:33.401Z"
   },
   {
    "duration": 82,
    "start_time": "2023-10-18T10:22:33.459Z"
   },
   {
    "duration": 57,
    "start_time": "2023-10-18T10:22:33.543Z"
   },
   {
    "duration": 29,
    "start_time": "2023-10-18T10:22:33.601Z"
   },
   {
    "duration": 55,
    "start_time": "2023-10-18T10:22:33.632Z"
   },
   {
    "duration": 27,
    "start_time": "2023-10-18T10:22:33.688Z"
   },
   {
    "duration": 43,
    "start_time": "2023-10-18T10:22:33.717Z"
   },
   {
    "duration": 19,
    "start_time": "2023-10-18T10:22:33.762Z"
   },
   {
    "duration": 12,
    "start_time": "2023-10-18T10:22:33.783Z"
   },
   {
    "duration": 1155,
    "start_time": "2023-10-18T10:22:33.797Z"
   },
   {
    "duration": 598,
    "start_time": "2023-10-18T10:22:34.955Z"
   },
   {
    "duration": 22171,
    "start_time": "2023-10-18T10:22:35.554Z"
   },
   {
    "duration": 218518,
    "start_time": "2023-10-18T10:22:57.727Z"
   },
   {
    "duration": 10,
    "start_time": "2023-10-18T10:26:36.247Z"
   },
   {
    "duration": 1398,
    "start_time": "2023-10-18T10:26:36.259Z"
   },
   {
    "duration": 280,
    "start_time": "2023-10-18T10:37:55.449Z"
   },
   {
    "duration": 154,
    "start_time": "2023-10-18T10:38:20.556Z"
   },
   {
    "duration": 240,
    "start_time": "2023-10-18T10:38:40.301Z"
   }
  ],
  "kernelspec": {
   "display_name": "Python 3 (ipykernel)",
   "language": "python",
   "name": "python3"
  },
  "language_info": {
   "codemirror_mode": {
    "name": "ipython",
    "version": 3
   },
   "file_extension": ".py",
   "mimetype": "text/x-python",
   "name": "python",
   "nbconvert_exporter": "python",
   "pygments_lexer": "ipython3",
   "version": "3.9.5"
  },
  "toc": {
   "base_numbering": 1,
   "nav_menu": {},
   "number_sections": true,
   "sideBar": true,
   "skip_h1_title": true,
   "title_cell": "Содержание",
   "title_sidebar": "Contents",
   "toc_cell": true,
   "toc_position": {},
   "toc_section_display": true,
   "toc_window_display": false
  }
 },
 "nbformat": 4,
 "nbformat_minor": 2
}
