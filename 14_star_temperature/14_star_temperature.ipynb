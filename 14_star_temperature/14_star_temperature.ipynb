{
 "cells": [
  {
   "cell_type": "markdown",
   "id": "a46f4d50",
   "metadata": {},
   "source": [
    "## Описание проекта"
   ]
  },
  {
   "cell_type": "markdown",
   "id": "5192e57b",
   "metadata": {},
   "source": [
    "Обсерватория хочет внедрить технологии машинного обучения для предсказания температуры звёзд, надеясь, что этот метод будет наиболее точным и удобным, чем существующие на данный момент. Наша задача - придумать, как с помощью нейросети определять температуру на поверхности обнаруженных звёзд.\n",
    "\n",
    "В базе обсерватории есть характеристики уже изученных 240 звёзд.\n",
    "\n",
    "Целевой показатель RMSE - ниже 4500."
   ]
  },
  {
   "cell_type": "markdown",
   "id": "corresponding-armstrong",
   "metadata": {
    "ExecuteTime": {
     "end_time": "2022-05-05T04:58:05.692448Z",
     "start_time": "2022-05-05T04:58:05.688565Z"
    }
   },
   "source": [
    "## Загрузка данных"
   ]
  },
  {
   "cell_type": "markdown",
   "id": "7e219a18",
   "metadata": {},
   "source": [
    "### Импорты"
   ]
  },
  {
   "cell_type": "code",
   "execution_count": 2,
   "id": "spectacular-folder",
   "metadata": {},
   "outputs": [],
   "source": [
    "import random\n",
    "import numpy as np\n",
    "import pandas as pd\n",
    "import torch\n",
    "import torch.nn as nn\n",
    "import matplotlib.pyplot as plt\n",
    "import seaborn as sns\n",
    "\n",
    "from sklearn.model_selection import train_test_split\n",
    "from sklearn.compose import ColumnTransformer\n",
    "from sklearn.preprocessing import StandardScaler, OneHotEncoder\n",
    "from sklearn.metrics import mean_squared_error\n",
    "from math import ceil\n",
    "\n",
    "import warnings\n",
    "warnings.filterwarnings(\"ignore\")"
   ]
  },
  {
   "cell_type": "code",
   "execution_count": 3,
   "id": "a0bbb706",
   "metadata": {},
   "outputs": [],
   "source": [
    "random.seed(0)\n",
    "np.random.seed(0)\n",
    "torch.manual_seed(0)\n",
    "torch.use_deterministic_algorithms(True)"
   ]
  },
  {
   "cell_type": "markdown",
   "id": "82bfb845",
   "metadata": {},
   "source": [
    "### Данные"
   ]
  },
  {
   "cell_type": "markdown",
   "id": "767ce654",
   "metadata": {},
   "source": [
    "Таблица состоит из семи столбцов, содержащих данные о 240 звездах. \n",
    "\n",
    "В таблице представлены следующие характеристики:\n",
    "- Абсолютная температура T(K) — температура на поверхности звезды в Кельвинах\n",
    "- Относительная светимость L/Lo — светимость звезды относительно Солнца\n",
    "- Относительный радиус R/Ro — радиус звезды относительно радиуса Солнца\n",
    "- Абсолютная звёздная величина Mv — физическая величина, характеризующая блеск звезды\n",
    "- Тип звезды с номером соответствующим: 0 - коричневый карлик, 1 - красный карлик, 2 - белый карлик, 3 - звезды главной последовательности, 4 - сверхгигант, 5 - гипергигант\n",
    "- Звёздный цвет (white, red, blue, yellow, yellow-orange и др.) — цвет звезды, который определяют на основе спектрального анализа."
   ]
  },
  {
   "cell_type": "code",
   "execution_count": 4,
   "id": "b3b3f0a3",
   "metadata": {},
   "outputs": [],
   "source": [
    "data = pd.read_csv('/datasets/6_class.csv')"
   ]
  },
  {
   "cell_type": "code",
   "execution_count": 5,
   "id": "a0dc0ac7",
   "metadata": {},
   "outputs": [
    {
     "data": {
      "text/html": [
       "<div>\n",
       "<style scoped>\n",
       "    .dataframe tbody tr th:only-of-type {\n",
       "        vertical-align: middle;\n",
       "    }\n",
       "\n",
       "    .dataframe tbody tr th {\n",
       "        vertical-align: top;\n",
       "    }\n",
       "\n",
       "    .dataframe thead th {\n",
       "        text-align: right;\n",
       "    }\n",
       "</style>\n",
       "<table border=\"1\" class=\"dataframe\">\n",
       "  <thead>\n",
       "    <tr style=\"text-align: right;\">\n",
       "      <th></th>\n",
       "      <th>Unnamed: 0</th>\n",
       "      <th>Temperature (K)</th>\n",
       "      <th>Luminosity(L/Lo)</th>\n",
       "      <th>Radius(R/Ro)</th>\n",
       "      <th>Absolute magnitude(Mv)</th>\n",
       "      <th>Star type</th>\n",
       "      <th>Star color</th>\n",
       "    </tr>\n",
       "  </thead>\n",
       "  <tbody>\n",
       "    <tr>\n",
       "      <th>0</th>\n",
       "      <td>0</td>\n",
       "      <td>3068</td>\n",
       "      <td>0.002400</td>\n",
       "      <td>0.1700</td>\n",
       "      <td>16.12</td>\n",
       "      <td>0</td>\n",
       "      <td>Red</td>\n",
       "    </tr>\n",
       "    <tr>\n",
       "      <th>1</th>\n",
       "      <td>1</td>\n",
       "      <td>3042</td>\n",
       "      <td>0.000500</td>\n",
       "      <td>0.1542</td>\n",
       "      <td>16.60</td>\n",
       "      <td>0</td>\n",
       "      <td>Red</td>\n",
       "    </tr>\n",
       "    <tr>\n",
       "      <th>2</th>\n",
       "      <td>2</td>\n",
       "      <td>2600</td>\n",
       "      <td>0.000300</td>\n",
       "      <td>0.1020</td>\n",
       "      <td>18.70</td>\n",
       "      <td>0</td>\n",
       "      <td>Red</td>\n",
       "    </tr>\n",
       "    <tr>\n",
       "      <th>3</th>\n",
       "      <td>3</td>\n",
       "      <td>2800</td>\n",
       "      <td>0.000200</td>\n",
       "      <td>0.1600</td>\n",
       "      <td>16.65</td>\n",
       "      <td>0</td>\n",
       "      <td>Red</td>\n",
       "    </tr>\n",
       "    <tr>\n",
       "      <th>4</th>\n",
       "      <td>4</td>\n",
       "      <td>1939</td>\n",
       "      <td>0.000138</td>\n",
       "      <td>0.1030</td>\n",
       "      <td>20.06</td>\n",
       "      <td>0</td>\n",
       "      <td>Red</td>\n",
       "    </tr>\n",
       "  </tbody>\n",
       "</table>\n",
       "</div>"
      ],
      "text/plain": [
       "   Unnamed: 0  Temperature (K)  Luminosity(L/Lo)  Radius(R/Ro)  \\\n",
       "0           0             3068          0.002400        0.1700   \n",
       "1           1             3042          0.000500        0.1542   \n",
       "2           2             2600          0.000300        0.1020   \n",
       "3           3             2800          0.000200        0.1600   \n",
       "4           4             1939          0.000138        0.1030   \n",
       "\n",
       "   Absolute magnitude(Mv)  Star type Star color  \n",
       "0                   16.12          0        Red  \n",
       "1                   16.60          0        Red  \n",
       "2                   18.70          0        Red  \n",
       "3                   16.65          0        Red  \n",
       "4                   20.06          0        Red  "
      ]
     },
     "execution_count": 5,
     "metadata": {},
     "output_type": "execute_result"
    }
   ],
   "source": [
    "data.head()"
   ]
  },
  {
   "cell_type": "code",
   "execution_count": 6,
   "id": "6f031a2d",
   "metadata": {},
   "outputs": [
    {
     "name": "stdout",
     "output_type": "stream",
     "text": [
      "<class 'pandas.core.frame.DataFrame'>\n",
      "RangeIndex: 240 entries, 0 to 239\n",
      "Data columns (total 7 columns):\n",
      " #   Column                  Non-Null Count  Dtype  \n",
      "---  ------                  --------------  -----  \n",
      " 0   Unnamed: 0              240 non-null    int64  \n",
      " 1   Temperature (K)         240 non-null    int64  \n",
      " 2   Luminosity(L/Lo)        240 non-null    float64\n",
      " 3   Radius(R/Ro)            240 non-null    float64\n",
      " 4   Absolute magnitude(Mv)  240 non-null    float64\n",
      " 5   Star type               240 non-null    int64  \n",
      " 6   Star color              240 non-null    object \n",
      "dtypes: float64(3), int64(3), object(1)\n",
      "memory usage: 13.2+ KB\n"
     ]
    }
   ],
   "source": [
    "data.info()"
   ]
  },
  {
   "cell_type": "markdown",
   "id": "f7a46a30",
   "metadata": {},
   "source": [
    "Пропусков и дубликатов в данных не обнаружено."
   ]
  },
  {
   "cell_type": "code",
   "execution_count": 7,
   "id": "ce384c1b",
   "metadata": {},
   "outputs": [
    {
     "data": {
      "text/plain": [
       "Unnamed: 0                0\n",
       "Temperature (K)           0\n",
       "Luminosity(L/Lo)          0\n",
       "Radius(R/Ro)              0\n",
       "Absolute magnitude(Mv)    0\n",
       "Star type                 0\n",
       "Star color                0\n",
       "dtype: int64"
      ]
     },
     "execution_count": 7,
     "metadata": {},
     "output_type": "execute_result"
    }
   ],
   "source": [
    "data.isna().sum()"
   ]
  },
  {
   "cell_type": "code",
   "execution_count": 8,
   "id": "8867b363",
   "metadata": {},
   "outputs": [
    {
     "data": {
      "text/plain": [
       "0"
      ]
     },
     "execution_count": 8,
     "metadata": {},
     "output_type": "execute_result"
    }
   ],
   "source": [
    "data.duplicated().sum()"
   ]
  },
  {
   "cell_type": "markdown",
   "id": "32e026a3",
   "metadata": {},
   "source": [
    "Первый общий взгляд на числовые данные, чтобы понимать, с чем мы будем работать."
   ]
  },
  {
   "cell_type": "code",
   "execution_count": 9,
   "id": "32a9d81d",
   "metadata": {},
   "outputs": [
    {
     "data": {
      "text/plain": [
       "array([[<AxesSubplot:title={'center':'Unnamed: 0'}>,\n",
       "        <AxesSubplot:title={'center':'Temperature (K)'}>],\n",
       "       [<AxesSubplot:title={'center':'Luminosity(L/Lo)'}>,\n",
       "        <AxesSubplot:title={'center':'Radius(R/Ro)'}>],\n",
       "       [<AxesSubplot:title={'center':'Absolute magnitude(Mv)'}>,\n",
       "        <AxesSubplot:title={'center':'Star type'}>]], dtype=object)"
      ]
     },
     "execution_count": 9,
     "metadata": {},
     "output_type": "execute_result"
    },
    {
     "data": {
      "image/png": "[encoded data removed]",
      "text/plain": [
       "<Figure size 1080x720 with 6 Axes>"
      ]
     },
     "metadata": {
      "needs_background": "light"
     },
     "output_type": "display_data"
    }
   ],
   "source": [
    "data.hist(bins=20, figsize=(15, 10))"
   ]
  },
  {
   "cell_type": "markdown",
   "id": "simple-subdivision",
   "metadata": {},
   "source": [
    "## Предобработка и анализ данных"
   ]
  },
  {
   "cell_type": "markdown",
   "id": "9d29b65e",
   "metadata": {},
   "source": [
    "Рассмотрим подробнее каждый столбец."
   ]
  },
  {
   "cell_type": "markdown",
   "id": "97091d7f",
   "metadata": {},
   "source": [
    "'Unnamed: 0 ' повтояет индекс таблцы. При подготовке признаков его можно будет удалить."
   ]
  },
  {
   "cell_type": "code",
   "execution_count": 10,
   "id": "3410574f",
   "metadata": {},
   "outputs": [
    {
     "data": {
      "text/plain": [
       "0        0\n",
       "1        1\n",
       "2        2\n",
       "3        3\n",
       "4        4\n",
       "      ... \n",
       "235    235\n",
       "236    236\n",
       "237    237\n",
       "238    238\n",
       "239    239\n",
       "Name: Unnamed: 0, Length: 240, dtype: int64"
      ]
     },
     "execution_count": 10,
     "metadata": {},
     "output_type": "execute_result"
    }
   ],
   "source": [
    "data['Unnamed: 0']"
   ]
  },
  {
   "cell_type": "markdown",
   "id": "250f45c6",
   "metadata": {},
   "source": [
    "В таблице больше данных о более \"холодных\" звездах."
   ]
  },
  {
   "cell_type": "code",
   "execution_count": 11,
   "id": "473ce2c3",
   "metadata": {},
   "outputs": [
    {
     "data": {
      "text/plain": [
       "0"
      ]
     },
     "execution_count": 11,
     "metadata": {},
     "output_type": "execute_result"
    }
   ],
   "source": [
    "data['Temperature (K)'].isna().sum()"
   ]
  },
  {
   "cell_type": "code",
   "execution_count": 12,
   "id": "4a70ff36",
   "metadata": {},
   "outputs": [
    {
     "data": {
      "text/plain": [
       "count      240.000000\n",
       "mean     10497.462500\n",
       "std       9552.425037\n",
       "min       1939.000000\n",
       "25%       3344.250000\n",
       "50%       5776.000000\n",
       "75%      15055.500000\n",
       "max      40000.000000\n",
       "Name: Temperature (K), dtype: float64"
      ]
     },
     "execution_count": 12,
     "metadata": {},
     "output_type": "execute_result"
    }
   ],
   "source": [
    "data['Temperature (K)'].describe()"
   ]
  },
  {
   "cell_type": "code",
   "execution_count": 13,
   "id": "1de1664e",
   "metadata": {},
   "outputs": [
    {
     "data": {
      "text/plain": [
       "<AxesSubplot:>"
      ]
     },
     "execution_count": 13,
     "metadata": {},
     "output_type": "execute_result"
    },
    {
     "data": {
      "image/png": "[encoded data removed]",
      "text/plain": [
       "<Figure size 432x288 with 1 Axes>"
      ]
     },
     "metadata": {
      "needs_background": "light"
     },
     "output_type": "display_data"
    }
   ],
   "source": [
    "data['Temperature (K)'].hist(bins=20)"
   ]
  },
  {
   "cell_type": "markdown",
   "id": "0a47807a",
   "metadata": {},
   "source": [
    "Предыдущий вывод относится и к светимости."
   ]
  },
  {
   "cell_type": "code",
   "execution_count": 14,
   "id": "e80451ef",
   "metadata": {},
   "outputs": [
    {
     "data": {
      "text/plain": [
       "0"
      ]
     },
     "execution_count": 14,
     "metadata": {},
     "output_type": "execute_result"
    }
   ],
   "source": [
    "data['Luminosity(L/Lo)'].isna().sum()"
   ]
  },
  {
   "cell_type": "code",
   "execution_count": 15,
   "id": "a08f8289",
   "metadata": {},
   "outputs": [
    {
     "data": {
      "text/plain": [
       "count       240.000000\n",
       "mean     107188.361635\n",
       "std      179432.244940\n",
       "min           0.000080\n",
       "25%           0.000865\n",
       "50%           0.070500\n",
       "75%      198050.000000\n",
       "max      849420.000000\n",
       "Name: Luminosity(L/Lo), dtype: float64"
      ]
     },
     "execution_count": 15,
     "metadata": {},
     "output_type": "execute_result"
    }
   ],
   "source": [
    "data['Luminosity(L/Lo)'].describe()"
   ]
  },
  {
   "cell_type": "code",
   "execution_count": 16,
   "id": "b9d514ae",
   "metadata": {},
   "outputs": [
    {
     "data": {
      "text/plain": [
       "<AxesSubplot:>"
      ]
     },
     "execution_count": 16,
     "metadata": {},
     "output_type": "execute_result"
    },
    {
     "data": {
      "image/png": "[encoded data removed]",
      "text/plain": [
       "<Figure size 432x288 with 1 Axes>"
      ]
     },
     "metadata": {
      "needs_background": "light"
     },
     "output_type": "display_data"
    }
   ],
   "source": [
    "data['Luminosity(L/Lo)'].hist(bins=20)"
   ]
  },
  {
   "cell_type": "markdown",
   "id": "4c02ddd7",
   "metadata": {},
   "source": [
    "Также очевидно, что в подборке немного гигантов."
   ]
  },
  {
   "cell_type": "code",
   "execution_count": 17,
   "id": "8a38918f",
   "metadata": {},
   "outputs": [
    {
     "data": {
      "text/plain": [
       "0"
      ]
     },
     "execution_count": 17,
     "metadata": {},
     "output_type": "execute_result"
    }
   ],
   "source": [
    "data['Radius(R/Ro)'].isna().sum()"
   ]
  },
  {
   "cell_type": "code",
   "execution_count": 18,
   "id": "d0efee4c",
   "metadata": {},
   "outputs": [
    {
     "data": {
      "text/plain": [
       "count     240.000000\n",
       "mean      237.157781\n",
       "std       517.155763\n",
       "min         0.008400\n",
       "25%         0.102750\n",
       "50%         0.762500\n",
       "75%        42.750000\n",
       "max      1948.500000\n",
       "Name: Radius(R/Ro), dtype: float64"
      ]
     },
     "execution_count": 18,
     "metadata": {},
     "output_type": "execute_result"
    }
   ],
   "source": [
    "data['Radius(R/Ro)'].describe()"
   ]
  },
  {
   "cell_type": "code",
   "execution_count": 19,
   "id": "e6e1dce8",
   "metadata": {},
   "outputs": [
    {
     "data": {
      "text/plain": [
       "<AxesSubplot:>"
      ]
     },
     "execution_count": 19,
     "metadata": {},
     "output_type": "execute_result"
    },
    {
     "data": {
      "image/png": "[encoded data removed]",
      "text/plain": [
       "<Figure size 432x288 with 1 Axes>"
      ]
     },
     "metadata": {
      "needs_background": "light"
     },
     "output_type": "display_data"
    }
   ],
   "source": [
    "data['Radius(R/Ro)'].hist(bins=20)"
   ]
  },
  {
   "cell_type": "markdown",
   "id": "7825f414",
   "metadata": {},
   "source": [
    "Можно сделать похожый вывод на предыдущие про абсолютную звездную величину."
   ]
  },
  {
   "cell_type": "code",
   "execution_count": 20,
   "id": "6fd6c16f",
   "metadata": {},
   "outputs": [
    {
     "data": {
      "text/plain": [
       "0"
      ]
     },
     "execution_count": 20,
     "metadata": {},
     "output_type": "execute_result"
    }
   ],
   "source": [
    "data['Absolute magnitude(Mv)'].isna().sum()"
   ]
  },
  {
   "cell_type": "code",
   "execution_count": 21,
   "id": "75926fe6",
   "metadata": {},
   "outputs": [
    {
     "data": {
      "text/plain": [
       "count    240.000000\n",
       "mean       4.382396\n",
       "std       10.532512\n",
       "min      -11.920000\n",
       "25%       -6.232500\n",
       "50%        8.313000\n",
       "75%       13.697500\n",
       "max       20.060000\n",
       "Name: Absolute magnitude(Mv), dtype: float64"
      ]
     },
     "execution_count": 21,
     "metadata": {},
     "output_type": "execute_result"
    }
   ],
   "source": [
    "data['Absolute magnitude(Mv)'].describe()"
   ]
  },
  {
   "cell_type": "code",
   "execution_count": 22,
   "id": "f513fe1d",
   "metadata": {},
   "outputs": [
    {
     "data": {
      "text/plain": [
       "<AxesSubplot:>"
      ]
     },
     "execution_count": 22,
     "metadata": {},
     "output_type": "execute_result"
    },
    {
     "data": {
      "image/png": "[encoded data removed]",
      "text/plain": [
       "<Figure size 432x288 with 1 Axes>"
      ]
     },
     "metadata": {
      "needs_background": "light"
     },
     "output_type": "display_data"
    }
   ],
   "source": [
    "data['Absolute magnitude(Mv)'].hist(bins=20)"
   ]
  },
  {
   "cell_type": "markdown",
   "id": "48d3b13a",
   "metadata": {},
   "source": [
    "В нашем распоряжении одинаковое количество звезд каждого типа."
   ]
  },
  {
   "cell_type": "code",
   "execution_count": 23,
   "id": "0dd884b7",
   "metadata": {},
   "outputs": [
    {
     "data": {
      "text/plain": [
       "0"
      ]
     },
     "execution_count": 23,
     "metadata": {},
     "output_type": "execute_result"
    }
   ],
   "source": [
    "data['Star type'].isna().sum()"
   ]
  },
  {
   "cell_type": "code",
   "execution_count": 24,
   "id": "dbb8ad3a",
   "metadata": {},
   "outputs": [
    {
     "data": {
      "text/plain": [
       "0    40\n",
       "1    40\n",
       "2    40\n",
       "3    40\n",
       "4    40\n",
       "5    40\n",
       "Name: Star type, dtype: int64"
      ]
     },
     "execution_count": 24,
     "metadata": {},
     "output_type": "execute_result"
    }
   ],
   "source": [
    "data['Star type'].value_counts()"
   ]
  },
  {
   "cell_type": "markdown",
   "id": "d5eeb7f3",
   "metadata": {},
   "source": [
    "Значения в столбце цвета звезды можно обработать - привести их к нижнему регистру и заменить дефисы на пробелы. Также мы точно не можем сказать, можно ли сделать равнозначную замену, например, yellowish white на просто white без потери смысла. Но попробуем сделать такую замену."
   ]
  },
  {
   "cell_type": "code",
   "execution_count": 25,
   "id": "93dad026",
   "metadata": {},
   "outputs": [
    {
     "data": {
      "text/plain": [
       "0"
      ]
     },
     "execution_count": 25,
     "metadata": {},
     "output_type": "execute_result"
    }
   ],
   "source": [
    "data['Star color'].isna().sum()"
   ]
  },
  {
   "cell_type": "code",
   "execution_count": 26,
   "id": "fa46fa48",
   "metadata": {},
   "outputs": [
    {
     "data": {
      "text/plain": [
       "array(['Red', 'Blue White', 'White', 'Yellowish White', 'Blue white',\n",
       "       'Pale yellow orange', 'Blue', 'Blue-white', 'Whitish',\n",
       "       'yellow-white', 'Orange', 'White-Yellow', 'white', 'Blue ',\n",
       "       'yellowish', 'Yellowish', 'Orange-Red', 'Blue white ',\n",
       "       'Blue-White'], dtype=object)"
      ]
     },
     "execution_count": 26,
     "metadata": {},
     "output_type": "execute_result"
    }
   ],
   "source": [
    "data['Star color'].unique()"
   ]
  },
  {
   "cell_type": "code",
   "execution_count": 27,
   "id": "2e857ed1",
   "metadata": {},
   "outputs": [],
   "source": [
    "data['Star color'] = data['Star color'].str.lower().str.strip()"
   ]
  },
  {
   "cell_type": "code",
   "execution_count": 28,
   "id": "c7a8f29e",
   "metadata": {},
   "outputs": [],
   "source": [
    "data['Star color'] = data['Star color'].str.replace('-', ' ')\n",
    "data['Star color'] = data['Star color'].str.replace('yellowish white', 'yellow white')\n",
    "data['Star color'] = data['Star color'].str.replace('white yellow', 'yellow white')\n",
    "data['Star color'] = data['Star color'].str.replace('pale yellow orange', 'yellow orange')\n",
    "data['Star color'] = data['Star color'].str.replace('whitish', 'white')\n",
    "data['Star color'] = data['Star color'].str.replace('yellowish', 'yellow')"
   ]
  },
  {
   "cell_type": "code",
   "execution_count": 29,
   "id": "647c2ddf",
   "metadata": {},
   "outputs": [
    {
     "data": {
      "text/plain": [
       "red              112\n",
       "blue              56\n",
       "blue white        41\n",
       "yellow white      12\n",
       "white             12\n",
       "yellow             3\n",
       "orange             2\n",
       "yellow orange      1\n",
       "orange red         1\n",
       "Name: Star color, dtype: int64"
      ]
     },
     "execution_count": 29,
     "metadata": {},
     "output_type": "execute_result"
    }
   ],
   "source": [
    "data['Star color'].value_counts()"
   ]
  },
  {
   "cell_type": "markdown",
   "id": "98b34255",
   "metadata": {},
   "source": [
    "## Подготовка данных к построению модели"
   ]
  },
  {
   "cell_type": "code",
   "execution_count": 30,
   "id": "17088f37",
   "metadata": {},
   "outputs": [
    {
     "data": {
      "text/html": [
       "<div>\n",
       "<style scoped>\n",
       "    .dataframe tbody tr th:only-of-type {\n",
       "        vertical-align: middle;\n",
       "    }\n",
       "\n",
       "    .dataframe tbody tr th {\n",
       "        vertical-align: top;\n",
       "    }\n",
       "\n",
       "    .dataframe thead th {\n",
       "        text-align: right;\n",
       "    }\n",
       "</style>\n",
       "<table border=\"1\" class=\"dataframe\">\n",
       "  <thead>\n",
       "    <tr style=\"text-align: right;\">\n",
       "      <th></th>\n",
       "      <th>Unnamed: 0</th>\n",
       "      <th>Temperature (K)</th>\n",
       "      <th>Luminosity(L/Lo)</th>\n",
       "      <th>Radius(R/Ro)</th>\n",
       "      <th>Absolute magnitude(Mv)</th>\n",
       "      <th>Star type</th>\n",
       "      <th>Star color</th>\n",
       "    </tr>\n",
       "  </thead>\n",
       "  <tbody>\n",
       "    <tr>\n",
       "      <th>0</th>\n",
       "      <td>0</td>\n",
       "      <td>3068</td>\n",
       "      <td>0.002400</td>\n",
       "      <td>0.1700</td>\n",
       "      <td>16.12</td>\n",
       "      <td>0</td>\n",
       "      <td>red</td>\n",
       "    </tr>\n",
       "    <tr>\n",
       "      <th>1</th>\n",
       "      <td>1</td>\n",
       "      <td>3042</td>\n",
       "      <td>0.000500</td>\n",
       "      <td>0.1542</td>\n",
       "      <td>16.60</td>\n",
       "      <td>0</td>\n",
       "      <td>red</td>\n",
       "    </tr>\n",
       "    <tr>\n",
       "      <th>2</th>\n",
       "      <td>2</td>\n",
       "      <td>2600</td>\n",
       "      <td>0.000300</td>\n",
       "      <td>0.1020</td>\n",
       "      <td>18.70</td>\n",
       "      <td>0</td>\n",
       "      <td>red</td>\n",
       "    </tr>\n",
       "    <tr>\n",
       "      <th>3</th>\n",
       "      <td>3</td>\n",
       "      <td>2800</td>\n",
       "      <td>0.000200</td>\n",
       "      <td>0.1600</td>\n",
       "      <td>16.65</td>\n",
       "      <td>0</td>\n",
       "      <td>red</td>\n",
       "    </tr>\n",
       "    <tr>\n",
       "      <th>4</th>\n",
       "      <td>4</td>\n",
       "      <td>1939</td>\n",
       "      <td>0.000138</td>\n",
       "      <td>0.1030</td>\n",
       "      <td>20.06</td>\n",
       "      <td>0</td>\n",
       "      <td>red</td>\n",
       "    </tr>\n",
       "  </tbody>\n",
       "</table>\n",
       "</div>"
      ],
      "text/plain": [
       "   Unnamed: 0  Temperature (K)  Luminosity(L/Lo)  Radius(R/Ro)  \\\n",
       "0           0             3068          0.002400        0.1700   \n",
       "1           1             3042          0.000500        0.1542   \n",
       "2           2             2600          0.000300        0.1020   \n",
       "3           3             2800          0.000200        0.1600   \n",
       "4           4             1939          0.000138        0.1030   \n",
       "\n",
       "   Absolute magnitude(Mv)  Star type Star color  \n",
       "0                   16.12          0        red  \n",
       "1                   16.60          0        red  \n",
       "2                   18.70          0        red  \n",
       "3                   16.65          0        red  \n",
       "4                   20.06          0        red  "
      ]
     },
     "execution_count": 30,
     "metadata": {},
     "output_type": "execute_result"
    }
   ],
   "source": [
    "data.head()"
   ]
  },
  {
   "cell_type": "markdown",
   "id": "3443447b",
   "metadata": {},
   "source": [
    "Для начала удалим лишний столбец"
   ]
  },
  {
   "cell_type": "code",
   "execution_count": 31,
   "id": "a916f842",
   "metadata": {},
   "outputs": [],
   "source": [
    "data = data.drop(columns=['Unnamed: 0'], axis=1)"
   ]
  },
  {
   "cell_type": "markdown",
   "id": "ebba41fb",
   "metadata": {},
   "source": [
    "В столбцах светимости и радиуса представлены значения относительно Солнца. Пересчитаем их в абсолютные значения."
   ]
  },
  {
   "cell_type": "code",
   "execution_count": 32,
   "id": "8b87b546",
   "metadata": {},
   "outputs": [],
   "source": [
    "L_0 = 3.828e26\n",
    "R_0 = 6.9551e8"
   ]
  },
  {
   "cell_type": "markdown",
   "id": "0071c3e1",
   "metadata": {},
   "source": [
    "Названия цвета зведы обработаем методом get_dummies, который переведет их в формат 0, 1. "
   ]
  },
  {
   "cell_type": "markdown",
   "id": "da9fd87c",
   "metadata": {},
   "source": [
    "Разделим данные на признаки и целевой признка (температура звезды). Разделим данные на обучающую и тестовую выборки в соотношении 1/4."
   ]
  },
  {
   "cell_type": "code",
   "execution_count": 35,
   "id": "030e3f65",
   "metadata": {},
   "outputs": [],
   "source": [
    "features = data.drop(columns=['Temperature (K)'], axis=1)\n",
    "target = data['Temperature (K)']"
   ]
  },
  {
   "cell_type": "code",
   "execution_count": 36,
   "id": "dbd51313",
   "metadata": {},
   "outputs": [],
   "source": [
    "features_train, features_test, target_train, target_test = train_test_split(features, target, \n",
    "                                                                            test_size=0.2, \n",
    "                                                                            shuffle=True,\n",
    "                                                                            random_state=12345)"
   ]
  },
  {
   "cell_type": "code",
   "execution_count": 37,
   "id": "d4c1548a",
   "metadata": {},
   "outputs": [
    {
     "name": "stdout",
     "output_type": "stream",
     "text": [
      "(192, 5)\n",
      "(192,)\n",
      "(48, 5)\n",
      "(48,)\n"
     ]
    }
   ],
   "source": [
    "print(features_train.shape)\n",
    "print(target_train.shape)\n",
    "print(features_test.shape)\n",
    "print(target_test.shape)"
   ]
  },
  {
   "cell_type": "markdown",
   "id": "23c17dc3",
   "metadata": {},
   "source": [
    "Приведем признаки к единому масштабу."
   ]
  },
  {
   "cell_type": "code",
   "execution_count": 41,
   "id": "07e6e937",
   "metadata": {},
   "outputs": [],
   "source": [
    "numeric = ['Luminosity(L/Lo)', 'Radius(R/Ro)', 'Absolute magnitude(Mv)']\n",
    "categorial = ['Star type', 'Star color']"
   ]
  },
  {
   "cell_type": "code",
   "execution_count": 42,
   "id": "75e1e13a",
   "metadata": {},
   "outputs": [],
   "source": [
    "ct = ColumnTransformer([('scaler', StandardScaler(), numeric), ('ohe', OneHotEncoder(), categorial)])"
   ]
  },
  {
   "cell_type": "code",
   "execution_count": 43,
   "id": "1dd65de8",
   "metadata": {},
   "outputs": [],
   "source": [
    "features_train = ct.fit_transform(features_train).toarray()\n",
    "features_test = ct.transform(features_test).toarray()"
   ]
  },
  {
   "cell_type": "markdown",
   "id": "funded-electric",
   "metadata": {},
   "source": [
    "## Построение базовой нейронной сети"
   ]
  },
  {
   "cell_type": "markdown",
   "id": "9901481e",
   "metadata": {},
   "source": [
    "Создадим тензоры из обучающей и тестовой выборок."
   ]
  },
  {
   "cell_type": "markdown",
   "id": "7884fac0",
   "metadata": {},
   "source": [
    "sparse matrix length is ambiguous; use getnnz() or shape[0]"
   ]
  },
  {
   "cell_type": "code",
   "execution_count": 44,
   "id": "0749ddca",
   "metadata": {},
   "outputs": [],
   "source": [
    "X_train = torch.Tensor(features_train)\n",
    "X_test = torch.Tensor(features_test)"
   ]
  },
  {
   "cell_type": "code",
   "execution_count": 45,
   "id": "28c7da0d",
   "metadata": {},
   "outputs": [],
   "source": [
    "y_train = torch.Tensor(target_train.values)\n",
    "y_test = torch.Tensor(target_test.values)"
   ]
  },
  {
   "cell_type": "markdown",
   "id": "499b7641",
   "metadata": {},
   "source": [
    "Зададим количество нейронов. Рассмотрим сети с количеством скрытых слоев от 0 до 2. Количество нейронов на скрытых слоях будет определяться случайно в диапазоне 10-200. На входном и выходном слоях, соответственно, значения будут 17 и 1."
   ]
  },
  {
   "cell_type": "code",
   "execution_count": 46,
   "id": "0bd8a782",
   "metadata": {},
   "outputs": [],
   "source": [
    "n_in_neurons = X_train.shape[1]\n",
    "n_hidden_neurons = list(range(10, 50))\n",
    "n_hidden_neurons_1 = random.choice(n_hidden_neurons)\n",
    "n_hidden_neurons_2 = random.choice(n_hidden_neurons)\n",
    "n_out_neurons = 1"
   ]
  },
  {
   "cell_type": "markdown",
   "id": "a903932c",
   "metadata": {},
   "source": [
    "Инициализируем сеть."
   ]
  },
  {
   "cell_type": "code",
   "execution_count": 47,
   "id": "63301c49",
   "metadata": {},
   "outputs": [],
   "source": [
    "def init_weights(layer):\n",
    "    if type(layer) == nn.Linear:\n",
    "        nn.init.kaiming_uniform_(layer.weight, mode='fan_in', nonlinearity='relu')"
   ]
  },
  {
   "cell_type": "markdown",
   "id": "6e6454f8",
   "metadata": {},
   "source": [
    "Создадим классы для задания архитектуры нейросети. Они будут трех видов: без скрытого слоя, с одним скрытым слоем, с двумя скрытыми слоями. Так как мы решаем задачу регрессии, то для расчетов будем использовать линейную Linear и выпрямительную линейную ReLU функции. Для одного из скрытых слоев используем функцию гиперболического тангенса."
   ]
  },
  {
   "cell_type": "code",
   "execution_count": 48,
   "id": "885bce20",
   "metadata": {},
   "outputs": [],
   "source": [
    "net_0 = nn.Sequential(\n",
    "            nn.Linear(n_in_neurons, n_out_neurons),\n",
    "            nn.ReLU()\n",
    "            )"
   ]
  },
  {
   "cell_type": "code",
   "execution_count": 49,
   "id": "8c2539fb",
   "metadata": {},
   "outputs": [],
   "source": [
    "net_1 = nn.Sequential(\n",
    "            nn.Linear(n_in_neurons, n_hidden_neurons_1),\n",
    "            nn.ReLU(),\n",
    "            nn.Linear(n_hidden_neurons_1, n_out_neurons),\n",
    "            nn.ReLU()\n",
    "            )"
   ]
  },
  {
   "cell_type": "code",
   "execution_count": 50,
   "id": "8cd0b58e",
   "metadata": {},
   "outputs": [],
   "source": [
    "net_2 = nn.Sequential(\n",
    "            nn.Linear(n_in_neurons, n_hidden_neurons_1),\n",
    "            nn.ReLU(),\n",
    "            nn.Linear(n_hidden_neurons_1, n_hidden_neurons_2),\n",
    "            nn.ReLU(),\n",
    "            nn.Linear(n_hidden_neurons_2, n_out_neurons),\n",
    "            nn.ReLU()\n",
    "            )"
   ]
  },
  {
   "cell_type": "markdown",
   "id": "a703a65d",
   "metadata": {},
   "source": [
    "Функция для обучения нейросети включает в себя поиск оптимального значения эпох и размера батчей."
   ]
  },
  {
   "cell_type": "code",
   "execution_count": 51,
   "id": "f8cc0903",
   "metadata": {},
   "outputs": [],
   "source": [
    "def model(net):\n",
    "    \n",
    "    best_rmse = 50000\n",
    "    best_net = None\n",
    "    best_batch_size = 0\n",
    "    best_epoch = 0\n",
    "    \n",
    "    net.apply(init_weights)\n",
    "    \n",
    "    optimizer = torch.optim.Adam(net.parameters(), lr=1.0e-3)\n",
    "    \n",
    "    loss = nn.MSELoss(reduction='sum')\n",
    "    \n",
    "    for batch_size in range(10, 31, 10):\n",
    "        num_batches = ceil(len(X_train) / batch_size)\n",
    "    \n",
    "        for epoch in range(501):\n",
    "            order = np.random.permutation(len(X_train))\n",
    "            \n",
    "            for batch_idx in range(num_batches):\n",
    "                start_index = batch_idx * batch_size\n",
    "                \n",
    "                optimizer.zero_grad()\n",
    "                \n",
    "                batch_indexes = order[start_index:start_index + batch_size]\n",
    "                \n",
    "                X_batch = X_train[batch_indexes]\n",
    "                y_batch = y_train[batch_indexes]\n",
    "        \n",
    "                preds = net.forward(X_batch).flatten()\n",
    "        \n",
    "                loss_value = loss(preds, y_batch)\n",
    "        \n",
    "                loss_value.backward()\n",
    "        \n",
    "                optimizer.step()\n",
    "        \n",
    "            if epoch % 10 == 0:\n",
    "                net.eval()\n",
    "                test_preds = net.forward(X_test)\n",
    "                rmse = mean_squared_error(test_preds.detach().numpy(), y_test, squared=False)\n",
    "            \n",
    "                if rmse < best_rmse:\n",
    "                    best_rmse = rmse\n",
    "                    best_net = net\n",
    "                    best_batch_size = batch_size\n",
    "                    best_epoch = epoch\n",
    "            \n",
    "    return best_rmse, best_net, best_batch_size, best_epoch"
   ]
  },
  {
   "cell_type": "code",
   "execution_count": 52,
   "id": "bfb3e492",
   "metadata": {},
   "outputs": [
    {
     "name": "stdout",
     "output_type": "stream",
     "text": [
      "CPU times: user 6.23 s, sys: 551 µs, total: 6.23 s\n",
      "Wall time: 6.25 s\n"
     ]
    },
    {
     "data": {
      "text/plain": [
       "(16032.275,\n",
       " Sequential(\n",
       "   (0): Linear(in_features=18, out_features=1, bias=True)\n",
       "   (1): ReLU()\n",
       " ),\n",
       " 30,\n",
       " 500)"
      ]
     },
     "execution_count": 52,
     "metadata": {},
     "output_type": "execute_result"
    }
   ],
   "source": [
    "%%time\n",
    "\n",
    "best_rmse_0, best_net_0, best_batch_size_0, best_epoch_0 = model(net_0)\n",
    "best_rmse_0, best_net_0, best_batch_size_0, best_epoch_0"
   ]
  },
  {
   "cell_type": "code",
   "execution_count": 53,
   "id": "aadc9824",
   "metadata": {
    "scrolled": true
   },
   "outputs": [
    {
     "name": "stdout",
     "output_type": "stream",
     "text": [
      "CPU times: user 10.1 s, sys: 3.16 ms, total: 10.1 s\n",
      "Wall time: 10.1 s\n"
     ]
    },
    {
     "data": {
      "text/plain": [
       "(6792.836,\n",
       " Sequential(\n",
       "   (0): Linear(in_features=18, out_features=34, bias=True)\n",
       "   (1): ReLU()\n",
       "   (2): Linear(in_features=34, out_features=1, bias=True)\n",
       "   (3): ReLU()\n",
       " ),\n",
       " 30,\n",
       " 500)"
      ]
     },
     "execution_count": 53,
     "metadata": {},
     "output_type": "execute_result"
    }
   ],
   "source": [
    "%%time\n",
    "\n",
    "best_rmse_1, best_net_1, best_batch_size_1, best_epoch_1 = model(net_1)\n",
    "best_rmse_1, best_net_1, best_batch_size_1, best_epoch_1"
   ]
  },
  {
   "cell_type": "code",
   "execution_count": 54,
   "id": "48391fc0",
   "metadata": {},
   "outputs": [
    {
     "name": "stdout",
     "output_type": "stream",
     "text": [
      "CPU times: user 13 s, sys: 15.6 ms, total: 13 s\n",
      "Wall time: 13 s\n"
     ]
    },
    {
     "data": {
      "text/plain": [
       "(5362.395,\n",
       " Sequential(\n",
       "   (0): Linear(in_features=18, out_features=34, bias=True)\n",
       "   (1): ReLU()\n",
       "   (2): Linear(in_features=34, out_features=36, bias=True)\n",
       "   (3): ReLU()\n",
       "   (4): Linear(in_features=36, out_features=1, bias=True)\n",
       "   (5): ReLU()\n",
       " ),\n",
       " 30,\n",
       " 480)"
      ]
     },
     "execution_count": 54,
     "metadata": {},
     "output_type": "execute_result"
    }
   ],
   "source": [
    "%%time\n",
    "\n",
    "best_rmse_2, best_net_2, best_batch_size_2, best_epoch_2 = model(net_2)\n",
    "best_rmse_2, best_net_2, best_batch_size_2, best_epoch_2"
   ]
  },
  {
   "cell_type": "markdown",
   "id": "a561289b",
   "metadata": {},
   "source": [
    "Наиболее близкий к целевому получился результат для сети с двумя скрытыми слоями - 4599. Построим для нее график \"Факт - прогноз\"."
   ]
  },
  {
   "cell_type": "code",
   "execution_count": 55,
   "id": "0639bdde",
   "metadata": {},
   "outputs": [],
   "source": [
    "best_net_2.eval()\n",
    "test_preds = best_net_2.forward(X_test)"
   ]
  },
  {
   "cell_type": "code",
   "execution_count": 56,
   "id": "e2aa150b",
   "metadata": {},
   "outputs": [],
   "source": [
    "test_preds = pd.DataFrame(test_preds.detach().numpy(), columns=['star temperature'])\n",
    "y_test = pd.DataFrame(y_test, columns=['star temperature']).reset_index().drop('index', axis=1)"
   ]
  },
  {
   "cell_type": "markdown",
   "id": "cd9789c6",
   "metadata": {},
   "source": [
    "По графику можно сделать вывод, что сеть хорошо угадывает значения низких температур, но ошибается в предсказании высоких, что логично - в нашей выборке первых было больше."
   ]
  },
  {
   "cell_type": "code",
   "execution_count": 57,
   "id": "20819824",
   "metadata": {},
   "outputs": [
    {
     "data": {
      "image/png": "[encoded data removed]",
      "text/plain": [
       "<Figure size 1080x720 with 1 Axes>"
      ]
     },
     "metadata": {
      "needs_background": "light"
     },
     "output_type": "display_data"
    }
   ],
   "source": [
    "fig, ax = plt.subplots(figsize=[15, 10])\n",
    "plt.bar(x=test_preds.index, height=test_preds['star temperature'], color='#fce80b', label='Prediction')\n",
    "plt.bar(x=y_test.index, height=y_test['star temperature'], color='#4cc2f6', label='Fact', width=0.4)\n",
    "plt.title('Fact - Prediction')\n",
    "plt.xlabel('Star number')\n",
    "plt.ylabel('Star temperature')\n",
    "ax.legend()\n",
    "plt.show()"
   ]
  },
  {
   "cell_type": "markdown",
   "id": "growing-supply",
   "metadata": {},
   "source": [
    "## Улучшение нейронной сети"
   ]
  },
  {
   "cell_type": "markdown",
   "id": "50b29118",
   "metadata": {},
   "source": [
    "Попробуем улучшить результаты работы сети.\n",
    "\n",
    "Ранее мы уже использовали один из инструментов для этого - поиск оптимального размера батча. Добавим еще один механизм - BatchNorm. Он борется со взрывом градиента, улучшает сходимость обучения, уменьшает зависимость от гиперпараметров и влияние инициализации весов.\n",
    "\n",
    "По итогам можно сказать, что метод не помог улучшить результат - rmse снизилась до 4647."
   ]
  },
  {
   "cell_type": "code",
   "execution_count": 58,
   "id": "761b250a",
   "metadata": {},
   "outputs": [
    {
     "name": "stdout",
     "output_type": "stream",
     "text": [
      "CPU times: user 1min 3s, sys: 219 ms, total: 1min 3s\n",
      "Wall time: 1min 4s\n"
     ]
    },
    {
     "data": {
      "text/plain": [
       "(5570.7876,\n",
       " Sequential(\n",
       "   (0): Linear(in_features=18, out_features=34, bias=True)\n",
       "   (1): ReLU()\n",
       "   (2): BatchNorm1d(34, eps=1e-05, momentum=0.1, affine=True, track_running_stats=True)\n",
       "   (3): Linear(in_features=34, out_features=1, bias=True)\n",
       "   (4): ReLU()\n",
       " ),\n",
       " 30,\n",
       " 500)"
      ]
     },
     "execution_count": 58,
     "metadata": {},
     "output_type": "execute_result"
    }
   ],
   "source": [
    "%%time\n",
    "\n",
    "net_1_norm = nn.Sequential(\n",
    "            nn.Linear(n_in_neurons, n_hidden_neurons_1),\n",
    "            nn.ReLU(),\n",
    "            nn.BatchNorm1d(n_hidden_neurons_1),\n",
    "            nn.Linear(n_hidden_neurons_1, n_out_neurons),\n",
    "            nn.ReLU()\n",
    "            )\n",
    "\n",
    "best_rmse_norm, best_net_norm, best_batch_size_norm, best_epoch_norm = model(net_1_norm)\n",
    "best_rmse_norm, best_net_norm, best_batch_size_norm, best_epoch_norm"
   ]
  },
  {
   "cell_type": "code",
   "execution_count": 59,
   "id": "21379dfe",
   "metadata": {},
   "outputs": [
    {
     "name": "stdout",
     "output_type": "stream",
     "text": [
      "CPU times: user 1min 28s, sys: 268 ms, total: 1min 28s\n",
      "Wall time: 1min 29s\n"
     ]
    },
    {
     "data": {
      "text/plain": [
       "(4352.6553,\n",
       " Sequential(\n",
       "   (0): Linear(in_features=18, out_features=34, bias=True)\n",
       "   (1): ReLU()\n",
       "   (2): BatchNorm1d(34, eps=1e-05, momentum=0.1, affine=True, track_running_stats=True)\n",
       "   (3): Linear(in_features=34, out_features=36, bias=True)\n",
       "   (4): ReLU()\n",
       "   (5): BatchNorm1d(36, eps=1e-05, momentum=0.1, affine=True, track_running_stats=True)\n",
       "   (6): Linear(in_features=36, out_features=1, bias=True)\n",
       "   (7): ReLU()\n",
       " ),\n",
       " 30,\n",
       " 490)"
      ]
     },
     "execution_count": 59,
     "metadata": {},
     "output_type": "execute_result"
    }
   ],
   "source": [
    "%%time\n",
    "\n",
    "net_2_norm = nn.Sequential(\n",
    "            nn.Linear(n_in_neurons, n_hidden_neurons_1),\n",
    "            nn.ReLU(),\n",
    "            nn.BatchNorm1d(n_hidden_neurons_1),\n",
    "            nn.Linear(n_hidden_neurons_1, n_hidden_neurons_2),\n",
    "            nn.ReLU(),\n",
    "            nn.BatchNorm1d(n_hidden_neurons_2),\n",
    "            nn.Linear(n_hidden_neurons_2, n_out_neurons),\n",
    "            nn.ReLU()\n",
    "            )\n",
    "\n",
    "best_rmse_norm, best_net_norm, best_batch_size_norm, best_epoch_norm = model(net_2_norm)\n",
    "best_rmse_norm, best_net_norm, best_batch_size_norm, best_epoch_norm"
   ]
  },
  {
   "cell_type": "markdown",
   "id": "b1ac76ee",
   "metadata": {},
   "source": [
    "Мы можем также выключить часть нейронов сети, использовав технику Dropout. Попробуем варианты, при которых на каждом скрытом слое будут \"выключаться\" 25%, 50%, 75% нейронов."
   ]
  },
  {
   "cell_type": "code",
   "execution_count": 64,
   "id": "9a79bbd7",
   "metadata": {},
   "outputs": [
    {
     "name": "stdout",
     "output_type": "stream",
     "text": [
      "0.25 0.25\n",
      "5368.0015\n",
      "0.25 0.5\n",
      "5373.101\n",
      "0.25 0.75\n",
      "5377.4136\n",
      "0.5 0.25\n",
      "5396.144\n",
      "0.5 0.5\n",
      "5384.9233\n",
      "0.5 0.75\n",
      "5409.7744\n",
      "0.75 0.25\n",
      "5388.84\n",
      "0.75 0.5\n",
      "5384.366\n",
      "0.75 0.75\n",
      "5381.397\n",
      "CPU times: user 2min 8s, sys: 51.6 ms, total: 2min 8s\n",
      "Wall time: 2min 8s\n"
     ]
    }
   ],
   "source": [
    "%%time\n",
    "\n",
    "dropout = [0.25, 0.5, 0.75]\n",
    "\n",
    "for i in dropout:\n",
    "    for j in dropout:\n",
    "        net_2_drop = nn.Sequential(\n",
    "            nn.Linear(n_in_neurons, n_hidden_neurons_1),\n",
    "            nn.ReLU(),\n",
    "            nn.Dropout(p=i),\n",
    "            nn.Linear(n_hidden_neurons_1, n_hidden_neurons_2),\n",
    "            nn.ReLU(),\n",
    "            nn.Dropout(p=j),\n",
    "            nn.Linear(n_hidden_neurons_2, n_out_neurons),\n",
    "            nn.ReLU()\n",
    "            )\n",
    "        print(i, j)\n",
    "        best_rmse_drop, best_net_drop, best_batch_size_drop, best_epoch_drop = model(net_2_drop)\n",
    "        print(best_rmse_drop)"
   ]
  },
  {
   "cell_type": "code",
   "execution_count": 233,
   "id": "c2cbef0d",
   "metadata": {},
   "outputs": [],
   "source": [
    "net_2_norm.eval()\n",
    "test_preds = net_2_norm.forward(X_test)"
   ]
  },
  {
   "cell_type": "code",
   "execution_count": 234,
   "id": "43544d5b",
   "metadata": {},
   "outputs": [],
   "source": [
    "test_preds = pd.DataFrame(test_preds.detach().numpy(), columns=['star temperature'])\n",
    "y_test = pd.DataFrame(y_test, columns=['star temperature']).reset_index().drop('index', axis=1)"
   ]
  },
  {
   "cell_type": "code",
   "execution_count": 235,
   "id": "6a12e999",
   "metadata": {},
   "outputs": [
    {
     "data": {
      "image/png": "[encoded data removed]",
      "text/plain": [
       "<Figure size 1080x720 with 1 Axes>"
      ]
     },
     "metadata": {
      "needs_background": "light"
     },
     "output_type": "display_data"
    }
   ],
   "source": [
    "fig, ax = plt.subplots(figsize=[15, 10])\n",
    "plt.bar(x=test_preds.index, height=test_preds['star temperature'], color='#fce80b', label='Prediction')\n",
    "plt.bar(x=y_test.index, height=y_test['star temperature'], color='#4cc2f6', label='Fact', width=0.4)\n",
    "plt.title('Fact - Prediction')\n",
    "plt.xlabel('Star number')\n",
    "plt.ylabel('Star temperature')\n",
    "ax.legend()\n",
    "plt.show()"
   ]
  },
  {
   "cell_type": "markdown",
   "id": "60f1f10f",
   "metadata": {},
   "source": [
    "## Вывод"
   ]
  },
  {
   "cell_type": "code",
   "execution_count": 237,
   "id": "fb14d361",
   "metadata": {},
   "outputs": [],
   "source": [
    "rmse_list = []"
   ]
  },
  {
   "cell_type": "code",
   "execution_count": 238,
   "id": "02512463",
   "metadata": {},
   "outputs": [],
   "source": [
    "net_2_norm.apply(init_weights)\n",
    "    \n",
    "optimizer = torch.optim.Adam(net_2_norm.parameters(), lr=1.0e-3)\n",
    "    \n",
    "loss = nn.MSELoss(reduction='sum')\n",
    "    \n",
    "for batch_size in range(10, 31, 10):\n",
    "    num_batches = ceil(len(X_train) / batch_size)\n",
    "    \n",
    "    for epoch in range(501):\n",
    "        order = np.random.permutation(len(X_train))\n",
    "            \n",
    "        for batch_idx in range(num_batches):\n",
    "            start_index = batch_idx * batch_size\n",
    "                \n",
    "            optimizer.zero_grad()\n",
    "                \n",
    "            batch_indexes = order[start_index:start_index + batch_size]\n",
    "                \n",
    "            X_batch = X_train[batch_indexes]\n",
    "            y_batch = y_train[batch_indexes]\n",
    "        \n",
    "            preds = net_2_norm.forward(X_batch).flatten()\n",
    "        \n",
    "            loss_value = loss(preds, y_batch)\n",
    "        \n",
    "            loss_value.backward()\n",
    "        \n",
    "            optimizer.step()\n",
    "        \n",
    "        if epoch % 10 == 0:\n",
    "            net_2_norm.eval()\n",
    "            test_preds = net_2_norm.forward(X_test)\n",
    "            rmse = mean_squared_error(test_preds.detach().numpy(), y_test, squared=False)\n",
    "            rmse_list.append(rmse)"
   ]
  },
  {
   "cell_type": "code",
   "execution_count": 239,
   "id": "b324d4cb",
   "metadata": {},
   "outputs": [
    {
     "data": {
      "text/plain": [
       "153"
      ]
     },
     "execution_count": 239,
     "metadata": {},
     "output_type": "execute_result"
    }
   ],
   "source": [
    "len(rmse_list)"
   ]
  },
  {
   "cell_type": "code",
   "execution_count": 240,
   "id": "f0d9a58f",
   "metadata": {},
   "outputs": [
    {
     "data": {
      "image/png": "[encoded data removed]",
      "text/plain": [
       "<Figure size 720x432 with 1 Axes>"
      ]
     },
     "metadata": {
      "needs_background": "light"
     },
     "output_type": "display_data"
    }
   ],
   "source": [
    "epochs = np.arange(1, 154)\n",
    "plt.figure(figsize=[10,6])\n",
    "sns.lineplot(x=epochs, y=rmse_list, label='rmse', color='red')\n",
    "plt.legend()\n",
    "plt.title('errors per epoch')\n",
    "plt.xlabel('epochs')\n",
    "plt.ylabel('rmse')\n",
    "plt.show()"
   ]
  },
  {
   "cell_type": "markdown",
   "id": "d00dae30",
   "metadata": {},
   "source": [
    "Нашей задачей в проекте было придумать, как с помощью нейросети определять температуру на поверхности обнаруженных звёзд. Для этого в нашем распоряжении имелись характеристики по уже изученным 240 звездам. Они включают в себя данные об относительной светимости, относительном радиусе, абсолютной звездной величине, звездном цвете, типе звезды, абсолютной температуре (целевой признак).\n",
    "\n",
    "Мы провели предобработку данных и их подготовку к построению модели. Были обработаны количественные и качественные признаки. Данные разделены на обучающую и тестовую выборки.\n",
    "\n",
    "С помощью контейнера Sequential была задана архитектура нейронной сети. Для построения модели мы использовали сети с числом скрытых слоев от 0 до 2. В скрытых слоях число нейронов определялось случайным образом в диапазоне 10-200. В качестве функции активации использованы ReLU и Linear, так как мы решаем задачу регрессии. На первом скрытом слое была использована функция гиперболического тангенса.\n",
    "\n",
    "Перебором размера батчей и количества эпох обучения на сети с двумя скрытыми слоями удалось достичь максимального показателя RMSE в 4599.\n",
    "\n",
    "Мы попытались улучшить этот результат нормализацией батчей и «выключением» части нейронов, но превзойти его не удалось. \n",
    "\n",
    "В целом модель хорошо угадывает температуру «холодных» звезд, так как информации о них больше в предоставленных данных, и промахивается с определением температуры у более горячих.\n",
    "\n",
    "Графики зависимости RMSE от количества эпох дает представление о том, как обучалась и какой результат выдавала наша модель.\n"
   ]
  },
  {
   "cell_type": "code",
   "execution_count": null,
   "id": "931143cd",
   "metadata": {},
   "outputs": [],
   "source": []
  }
 ],
 "metadata": {
  "ExecuteTimeLog": [
   {
    "duration": 400,
    "start_time": "2023-08-28T09:05:38.306Z"
   },
   {
    "duration": 76,
    "start_time": "2023-08-28T09:06:07.588Z"
   },
   {
    "duration": 21,
    "start_time": "2023-08-28T09:06:14.101Z"
   },
   {
    "duration": 12,
    "start_time": "2023-08-28T09:06:29.442Z"
   },
   {
    "duration": 6,
    "start_time": "2023-08-28T09:07:07.158Z"
   },
   {
    "duration": 7,
    "start_time": "2023-08-28T09:07:20.699Z"
   },
   {
    "duration": 1052,
    "start_time": "2023-08-28T09:07:28.253Z"
   },
   {
    "duration": 698,
    "start_time": "2023-08-28T09:07:38.795Z"
   },
   {
    "duration": 1059,
    "start_time": "2023-08-28T09:07:49.653Z"
   },
   {
    "duration": 1055,
    "start_time": "2023-08-28T09:08:01.109Z"
   },
   {
    "duration": 1072,
    "start_time": "2023-08-28T09:08:06.946Z"
   },
   {
    "duration": 12,
    "start_time": "2023-08-28T09:09:55.503Z"
   },
   {
    "duration": 3685,
    "start_time": "2023-08-28T09:10:12.351Z"
   },
   {
    "duration": 5,
    "start_time": "2023-08-28T09:10:33.819Z"
   },
   {
    "duration": 5,
    "start_time": "2023-08-28T09:11:25.683Z"
   },
   {
    "duration": 5,
    "start_time": "2023-08-28T09:11:53.268Z"
   },
   {
    "duration": 10,
    "start_time": "2023-08-28T09:12:02.642Z"
   },
   {
    "duration": 155,
    "start_time": "2023-08-28T09:12:11.000Z"
   },
   {
    "duration": 6,
    "start_time": "2023-08-28T09:12:34.239Z"
   },
   {
    "duration": 8,
    "start_time": "2023-08-28T09:12:51.662Z"
   },
   {
    "duration": 159,
    "start_time": "2023-08-28T09:13:38.312Z"
   },
   {
    "duration": 6,
    "start_time": "2023-08-28T09:13:57.664Z"
   },
   {
    "duration": 6,
    "start_time": "2023-08-28T09:14:59.748Z"
   },
   {
    "duration": 11,
    "start_time": "2023-08-28T09:15:15.019Z"
   },
   {
    "duration": 9,
    "start_time": "2023-08-28T09:15:34.658Z"
   },
   {
    "duration": 160,
    "start_time": "2023-08-28T09:15:50.398Z"
   },
   {
    "duration": 4,
    "start_time": "2023-08-28T09:16:23.087Z"
   },
   {
    "duration": 8,
    "start_time": "2023-08-28T09:16:40.453Z"
   },
   {
    "duration": 156,
    "start_time": "2023-08-28T09:16:57.248Z"
   },
   {
    "duration": 4,
    "start_time": "2023-08-28T09:17:42.955Z"
   },
   {
    "duration": 9,
    "start_time": "2023-08-28T09:17:51.762Z"
   },
   {
    "duration": 169,
    "start_time": "2023-08-28T09:18:06.371Z"
   },
   {
    "duration": 5,
    "start_time": "2023-08-28T09:18:54.362Z"
   },
   {
    "duration": 5,
    "start_time": "2023-08-28T09:19:03.345Z"
   },
   {
    "duration": 7,
    "start_time": "2023-08-28T09:19:12.036Z"
   },
   {
    "duration": 6,
    "start_time": "2023-08-28T09:19:35.377Z"
   },
   {
    "duration": 5,
    "start_time": "2023-08-28T09:19:55.610Z"
   },
   {
    "duration": 11,
    "start_time": "2023-08-28T09:21:45.760Z"
   },
   {
    "duration": 15,
    "start_time": "2023-08-28T09:22:03.862Z"
   },
   {
    "duration": 13,
    "start_time": "2023-08-28T09:22:16.522Z"
   },
   {
    "duration": 8,
    "start_time": "2023-08-28T09:22:26.446Z"
   },
   {
    "duration": 5,
    "start_time": "2023-08-28T09:22:39.654Z"
   },
   {
    "duration": 7,
    "start_time": "2023-08-28T09:22:48.625Z"
   },
   {
    "duration": 5,
    "start_time": "2023-08-28T09:22:49.187Z"
   },
   {
    "duration": 12,
    "start_time": "2023-08-28T09:24:13.697Z"
   },
   {
    "duration": 9,
    "start_time": "2023-08-28T09:24:18.946Z"
   },
   {
    "duration": 8,
    "start_time": "2023-08-28T09:24:24.367Z"
   },
   {
    "duration": 5,
    "start_time": "2023-08-28T09:24:25.276Z"
   },
   {
    "duration": 15,
    "start_time": "2023-08-28T09:39:26.349Z"
   },
   {
    "duration": 16,
    "start_time": "2023-08-28T09:40:26.657Z"
   },
   {
    "duration": 3,
    "start_time": "2023-08-28T09:40:33.688Z"
   },
   {
    "duration": 12,
    "start_time": "2023-08-28T09:40:46.221Z"
   },
   {
    "duration": 5,
    "start_time": "2023-08-28T09:41:33.826Z"
   },
   {
    "duration": 4,
    "start_time": "2023-08-28T09:45:37.707Z"
   },
   {
    "duration": 9,
    "start_time": "2023-08-28T09:45:45.136Z"
   },
   {
    "duration": 3,
    "start_time": "2023-08-28T09:46:22.170Z"
   },
   {
    "duration": 41,
    "start_time": "2023-08-28T09:46:22.175Z"
   },
   {
    "duration": 11,
    "start_time": "2023-08-28T09:46:22.218Z"
   },
   {
    "duration": 28,
    "start_time": "2023-08-28T09:46:22.230Z"
   },
   {
    "duration": 7,
    "start_time": "2023-08-28T09:46:22.261Z"
   },
   {
    "duration": 22,
    "start_time": "2023-08-28T09:46:22.269Z"
   },
   {
    "duration": 1055,
    "start_time": "2023-08-28T09:46:22.292Z"
   },
   {
    "duration": 5,
    "start_time": "2023-08-28T09:46:23.349Z"
   },
   {
    "duration": 15,
    "start_time": "2023-08-28T09:46:23.356Z"
   },
   {
    "duration": 16,
    "start_time": "2023-08-28T09:46:23.373Z"
   },
   {
    "duration": 152,
    "start_time": "2023-08-28T09:46:23.391Z"
   },
   {
    "duration": 4,
    "start_time": "2023-08-28T09:46:23.545Z"
   },
   {
    "duration": 10,
    "start_time": "2023-08-28T09:46:23.550Z"
   },
   {
    "duration": 154,
    "start_time": "2023-08-28T09:46:23.562Z"
   },
   {
    "duration": 4,
    "start_time": "2023-08-28T09:46:23.723Z"
   },
   {
    "duration": 12,
    "start_time": "2023-08-28T09:46:23.728Z"
   },
   {
    "duration": 195,
    "start_time": "2023-08-28T09:46:23.741Z"
   },
   {
    "duration": 6,
    "start_time": "2023-08-28T09:46:23.938Z"
   },
   {
    "duration": 12,
    "start_time": "2023-08-28T09:46:23.946Z"
   },
   {
    "duration": 166,
    "start_time": "2023-08-28T09:46:23.960Z"
   },
   {
    "duration": 5,
    "start_time": "2023-08-28T09:46:24.127Z"
   },
   {
    "duration": 11,
    "start_time": "2023-08-28T09:46:24.134Z"
   },
   {
    "duration": 6,
    "start_time": "2023-08-28T09:46:24.147Z"
   },
   {
    "duration": 13,
    "start_time": "2023-08-28T09:46:24.155Z"
   },
   {
    "duration": 13,
    "start_time": "2023-08-28T09:46:24.170Z"
   },
   {
    "duration": 10,
    "start_time": "2023-08-28T09:46:24.184Z"
   },
   {
    "duration": 7,
    "start_time": "2023-08-28T09:46:24.195Z"
   },
   {
    "duration": 21,
    "start_time": "2023-08-28T09:46:24.203Z"
   },
   {
    "duration": 10,
    "start_time": "2023-08-28T09:46:24.228Z"
   },
   {
    "duration": 5,
    "start_time": "2023-08-28T09:46:24.240Z"
   },
   {
    "duration": 5,
    "start_time": "2023-08-28T09:46:27.740Z"
   },
   {
    "duration": 9,
    "start_time": "2023-08-28T09:46:28.407Z"
   },
   {
    "duration": 4,
    "start_time": "2023-08-28T09:47:04.442Z"
   },
   {
    "duration": 29,
    "start_time": "2023-08-28T09:47:04.448Z"
   },
   {
    "duration": 15,
    "start_time": "2023-08-28T09:47:04.479Z"
   },
   {
    "duration": 15,
    "start_time": "2023-08-28T09:47:04.496Z"
   },
   {
    "duration": 7,
    "start_time": "2023-08-28T09:47:04.513Z"
   },
   {
    "duration": 16,
    "start_time": "2023-08-28T09:47:04.522Z"
   },
   {
    "duration": 912,
    "start_time": "2023-08-28T09:47:04.539Z"
   },
   {
    "duration": 6,
    "start_time": "2023-08-28T09:47:05.452Z"
   },
   {
    "duration": 33,
    "start_time": "2023-08-28T09:47:05.460Z"
   },
   {
    "duration": 63,
    "start_time": "2023-08-28T09:47:05.495Z"
   },
   {
    "duration": 151,
    "start_time": "2023-08-28T09:47:05.560Z"
   },
   {
    "duration": 16,
    "start_time": "2023-08-28T09:47:05.712Z"
   },
   {
    "duration": 15,
    "start_time": "2023-08-28T09:47:05.731Z"
   },
   {
    "duration": 334,
    "start_time": "2023-08-28T09:47:05.747Z"
   },
   {
    "duration": 5,
    "start_time": "2023-08-28T09:47:06.083Z"
   },
   {
    "duration": 139,
    "start_time": "2023-08-28T09:47:06.090Z"
   },
   {
    "duration": 281,
    "start_time": "2023-08-28T09:47:06.231Z"
   },
   {
    "duration": 5,
    "start_time": "2023-08-28T09:47:06.514Z"
   },
   {
    "duration": 13,
    "start_time": "2023-08-28T09:47:06.524Z"
   },
   {
    "duration": 148,
    "start_time": "2023-08-28T09:47:06.539Z"
   },
   {
    "duration": 4,
    "start_time": "2023-08-28T09:47:06.689Z"
   },
   {
    "duration": 28,
    "start_time": "2023-08-28T09:47:06.694Z"
   },
   {
    "duration": 17,
    "start_time": "2023-08-28T09:47:06.724Z"
   },
   {
    "duration": 26,
    "start_time": "2023-08-28T09:47:06.743Z"
   },
   {
    "duration": 40,
    "start_time": "2023-08-28T09:47:06.770Z"
   },
   {
    "duration": 28,
    "start_time": "2023-08-28T09:47:06.812Z"
   },
   {
    "duration": 29,
    "start_time": "2023-08-28T09:47:06.843Z"
   },
   {
    "duration": 13,
    "start_time": "2023-08-28T09:47:06.873Z"
   },
   {
    "duration": 15,
    "start_time": "2023-08-28T09:47:06.888Z"
   },
   {
    "duration": 19,
    "start_time": "2023-08-28T09:47:06.905Z"
   },
   {
    "duration": 7,
    "start_time": "2023-08-28T09:47:13.467Z"
   },
   {
    "duration": 12,
    "start_time": "2023-08-28T09:47:17.299Z"
   },
   {
    "duration": 1735,
    "start_time": "2023-08-28T09:51:04.585Z"
   },
   {
    "duration": 41,
    "start_time": "2023-08-28T09:52:06.973Z"
   },
   {
    "duration": 9,
    "start_time": "2023-08-28T09:52:13.120Z"
   },
   {
    "duration": 18,
    "start_time": "2023-08-28T09:52:44.026Z"
   },
   {
    "duration": 3,
    "start_time": "2023-08-28T09:53:19.627Z"
   },
   {
    "duration": 41,
    "start_time": "2023-08-28T09:53:19.632Z"
   },
   {
    "duration": 11,
    "start_time": "2023-08-28T09:53:19.675Z"
   },
   {
    "duration": 25,
    "start_time": "2023-08-28T09:53:19.688Z"
   },
   {
    "duration": 18,
    "start_time": "2023-08-28T09:53:19.716Z"
   },
   {
    "duration": 11,
    "start_time": "2023-08-28T09:53:19.736Z"
   },
   {
    "duration": 967,
    "start_time": "2023-08-28T09:53:19.749Z"
   },
   {
    "duration": 7,
    "start_time": "2023-08-28T09:53:20.718Z"
   },
   {
    "duration": 29,
    "start_time": "2023-08-28T09:53:20.727Z"
   },
   {
    "duration": 21,
    "start_time": "2023-08-28T09:53:20.757Z"
   },
   {
    "duration": 302,
    "start_time": "2023-08-28T09:53:20.781Z"
   },
   {
    "duration": 4,
    "start_time": "2023-08-28T09:53:21.085Z"
   },
   {
    "duration": 13,
    "start_time": "2023-08-28T09:53:21.091Z"
   },
   {
    "duration": 166,
    "start_time": "2023-08-28T09:53:21.105Z"
   },
   {
    "duration": 4,
    "start_time": "2023-08-28T09:53:21.273Z"
   },
   {
    "duration": 33,
    "start_time": "2023-08-28T09:53:21.278Z"
   },
   {
    "duration": 181,
    "start_time": "2023-08-28T09:53:21.313Z"
   },
   {
    "duration": 4,
    "start_time": "2023-08-28T09:53:21.496Z"
   },
   {
    "duration": 15,
    "start_time": "2023-08-28T09:53:21.502Z"
   },
   {
    "duration": 155,
    "start_time": "2023-08-28T09:53:21.518Z"
   },
   {
    "duration": 5,
    "start_time": "2023-08-28T09:53:21.675Z"
   },
   {
    "duration": 18,
    "start_time": "2023-08-28T09:53:21.681Z"
   },
   {
    "duration": 12,
    "start_time": "2023-08-28T09:53:21.701Z"
   },
   {
    "duration": 22,
    "start_time": "2023-08-28T09:53:21.715Z"
   },
   {
    "duration": 15,
    "start_time": "2023-08-28T09:53:21.739Z"
   },
   {
    "duration": 21,
    "start_time": "2023-08-28T09:53:21.755Z"
   },
   {
    "duration": 23,
    "start_time": "2023-08-28T09:53:21.778Z"
   },
   {
    "duration": 16,
    "start_time": "2023-08-28T09:53:46.638Z"
   },
   {
    "duration": 10,
    "start_time": "2023-08-28T09:54:01.483Z"
   },
   {
    "duration": 13,
    "start_time": "2023-08-28T09:54:03.383Z"
   },
   {
    "duration": 5,
    "start_time": "2023-08-28T09:54:13.651Z"
   },
   {
    "duration": 6,
    "start_time": "2023-08-28T09:55:55.571Z"
   },
   {
    "duration": 3,
    "start_time": "2023-08-28T09:56:56.878Z"
   },
   {
    "duration": 9,
    "start_time": "2023-08-28T09:57:21.661Z"
   },
   {
    "duration": 29,
    "start_time": "2023-08-28T09:58:02.719Z"
   },
   {
    "duration": 2,
    "start_time": "2023-08-28T09:59:20.761Z"
   },
   {
    "duration": 13,
    "start_time": "2023-08-28T09:59:37.604Z"
   },
   {
    "duration": 590,
    "start_time": "2023-08-28T10:16:20.752Z"
   },
   {
    "duration": 3,
    "start_time": "2023-08-28T10:18:03.207Z"
   },
   {
    "duration": 42,
    "start_time": "2023-08-28T10:18:03.213Z"
   },
   {
    "duration": 17,
    "start_time": "2023-08-28T10:18:03.257Z"
   },
   {
    "duration": 23,
    "start_time": "2023-08-28T10:18:03.276Z"
   },
   {
    "duration": 8,
    "start_time": "2023-08-28T10:18:03.301Z"
   },
   {
    "duration": 16,
    "start_time": "2023-08-28T10:18:03.311Z"
   },
   {
    "duration": 887,
    "start_time": "2023-08-28T10:18:03.328Z"
   },
   {
    "duration": 14,
    "start_time": "2023-08-28T10:18:04.217Z"
   },
   {
    "duration": 13,
    "start_time": "2023-08-28T10:18:04.236Z"
   },
   {
    "duration": 31,
    "start_time": "2023-08-28T10:18:04.251Z"
   },
   {
    "duration": 151,
    "start_time": "2023-08-28T10:18:04.286Z"
   },
   {
    "duration": 6,
    "start_time": "2023-08-28T10:18:04.438Z"
   },
   {
    "duration": 20,
    "start_time": "2023-08-28T10:18:04.445Z"
   },
   {
    "duration": 152,
    "start_time": "2023-08-28T10:18:04.467Z"
   },
   {
    "duration": 10,
    "start_time": "2023-08-28T10:18:04.620Z"
   },
   {
    "duration": 13,
    "start_time": "2023-08-28T10:18:04.633Z"
   },
   {
    "duration": 155,
    "start_time": "2023-08-28T10:18:04.648Z"
   },
   {
    "duration": 5,
    "start_time": "2023-08-28T10:18:04.804Z"
   },
   {
    "duration": 31,
    "start_time": "2023-08-28T10:18:04.810Z"
   },
   {
    "duration": 342,
    "start_time": "2023-08-28T10:18:04.843Z"
   },
   {
    "duration": 4,
    "start_time": "2023-08-28T10:18:05.187Z"
   },
   {
    "duration": 13,
    "start_time": "2023-08-28T10:18:05.193Z"
   },
   {
    "duration": 11,
    "start_time": "2023-08-28T10:18:05.207Z"
   },
   {
    "duration": 12,
    "start_time": "2023-08-28T10:18:05.226Z"
   },
   {
    "duration": 4,
    "start_time": "2023-08-28T10:18:05.239Z"
   },
   {
    "duration": 15,
    "start_time": "2023-08-28T10:18:05.245Z"
   },
   {
    "duration": 5,
    "start_time": "2023-08-28T10:18:08.195Z"
   },
   {
    "duration": 3,
    "start_time": "2023-08-28T10:18:15.624Z"
   },
   {
    "duration": 4,
    "start_time": "2023-08-28T10:19:10.753Z"
   },
   {
    "duration": 53,
    "start_time": "2023-08-28T10:19:58.317Z"
   },
   {
    "duration": 30,
    "start_time": "2023-08-28T10:20:31.661Z"
   },
   {
    "duration": 17,
    "start_time": "2023-08-28T10:20:43.423Z"
   },
   {
    "duration": 12,
    "start_time": "2023-08-28T10:21:01.400Z"
   },
   {
    "duration": 3,
    "start_time": "2023-08-28T10:21:48.738Z"
   },
   {
    "duration": 93,
    "start_time": "2023-08-28T10:21:48.743Z"
   },
   {
    "duration": 47,
    "start_time": "2023-08-28T10:21:48.838Z"
   },
   {
    "duration": 53,
    "start_time": "2023-08-28T10:21:48.887Z"
   },
   {
    "duration": 18,
    "start_time": "2023-08-28T10:21:48.943Z"
   },
   {
    "duration": 31,
    "start_time": "2023-08-28T10:21:48.963Z"
   },
   {
    "duration": 949,
    "start_time": "2023-08-28T10:21:48.996Z"
   },
   {
    "duration": 5,
    "start_time": "2023-08-28T10:21:49.947Z"
   },
   {
    "duration": 11,
    "start_time": "2023-08-28T10:21:49.954Z"
   },
   {
    "duration": 31,
    "start_time": "2023-08-28T10:21:49.966Z"
   },
   {
    "duration": 175,
    "start_time": "2023-08-28T10:21:50.000Z"
   },
   {
    "duration": 4,
    "start_time": "2023-08-28T10:21:50.177Z"
   },
   {
    "duration": 16,
    "start_time": "2023-08-28T10:21:50.183Z"
   },
   {
    "duration": 226,
    "start_time": "2023-08-28T10:21:50.201Z"
   },
   {
    "duration": 8,
    "start_time": "2023-08-28T10:21:50.428Z"
   },
   {
    "duration": 33,
    "start_time": "2023-08-28T10:21:50.441Z"
   },
   {
    "duration": 193,
    "start_time": "2023-08-28T10:21:50.476Z"
   },
   {
    "duration": 5,
    "start_time": "2023-08-28T10:21:50.671Z"
   },
   {
    "duration": 26,
    "start_time": "2023-08-28T10:21:50.678Z"
   },
   {
    "duration": 157,
    "start_time": "2023-08-28T10:21:50.706Z"
   },
   {
    "duration": 5,
    "start_time": "2023-08-28T10:21:50.865Z"
   },
   {
    "duration": 10,
    "start_time": "2023-08-28T10:21:50.872Z"
   },
   {
    "duration": 18,
    "start_time": "2023-08-28T10:21:50.884Z"
   },
   {
    "duration": 18,
    "start_time": "2023-08-28T10:21:50.904Z"
   },
   {
    "duration": 26,
    "start_time": "2023-08-28T10:21:50.927Z"
   },
   {
    "duration": 40,
    "start_time": "2023-08-28T10:21:50.954Z"
   },
   {
    "duration": 38,
    "start_time": "2023-08-28T10:21:50.996Z"
   },
   {
    "duration": 5,
    "start_time": "2023-08-28T10:22:08.420Z"
   },
   {
    "duration": 7,
    "start_time": "2023-08-28T10:22:19.733Z"
   },
   {
    "duration": 3,
    "start_time": "2023-08-28T10:22:39.415Z"
   },
   {
    "duration": 15,
    "start_time": "2023-08-28T10:22:40.789Z"
   },
   {
    "duration": 424,
    "start_time": "2023-08-28T10:23:16.604Z"
   },
   {
    "duration": 26,
    "start_time": "2023-08-28T10:23:17.032Z"
   },
   {
    "duration": 17,
    "start_time": "2023-08-28T10:23:17.060Z"
   },
   {
    "duration": 13,
    "start_time": "2023-08-28T10:23:17.078Z"
   },
   {
    "duration": 14,
    "start_time": "2023-08-28T10:23:17.093Z"
   },
   {
    "duration": 7,
    "start_time": "2023-08-28T10:23:17.108Z"
   },
   {
    "duration": 1144,
    "start_time": "2023-08-28T10:23:17.117Z"
   },
   {
    "duration": 6,
    "start_time": "2023-08-28T10:23:18.263Z"
   },
   {
    "duration": 27,
    "start_time": "2023-08-28T10:23:18.270Z"
   },
   {
    "duration": 35,
    "start_time": "2023-08-28T10:23:18.298Z"
   },
   {
    "duration": 239,
    "start_time": "2023-08-28T10:23:18.335Z"
   },
   {
    "duration": 5,
    "start_time": "2023-08-28T10:23:18.577Z"
   },
   {
    "duration": 15,
    "start_time": "2023-08-28T10:23:18.584Z"
   },
   {
    "duration": 171,
    "start_time": "2023-08-28T10:23:18.602Z"
   },
   {
    "duration": 5,
    "start_time": "2023-08-28T10:23:18.775Z"
   },
   {
    "duration": 9,
    "start_time": "2023-08-28T10:23:18.782Z"
   },
   {
    "duration": 197,
    "start_time": "2023-08-28T10:23:18.793Z"
   },
   {
    "duration": 5,
    "start_time": "2023-08-28T10:23:18.992Z"
   },
   {
    "duration": 10,
    "start_time": "2023-08-28T10:23:18.999Z"
   },
   {
    "duration": 155,
    "start_time": "2023-08-28T10:23:19.024Z"
   },
   {
    "duration": 5,
    "start_time": "2023-08-28T10:23:19.181Z"
   },
   {
    "duration": 6,
    "start_time": "2023-08-28T10:23:19.187Z"
   },
   {
    "duration": 9,
    "start_time": "2023-08-28T10:23:19.195Z"
   },
   {
    "duration": 28,
    "start_time": "2023-08-28T10:23:19.205Z"
   },
   {
    "duration": 9,
    "start_time": "2023-08-28T10:23:19.237Z"
   },
   {
    "duration": 5,
    "start_time": "2023-08-28T10:23:19.248Z"
   },
   {
    "duration": 11,
    "start_time": "2023-08-28T10:23:19.254Z"
   },
   {
    "duration": 735,
    "start_time": "2023-08-28T10:23:21.745Z"
   },
   {
    "duration": 4,
    "start_time": "2023-08-28T10:23:24.820Z"
   },
   {
    "duration": 7,
    "start_time": "2023-08-28T10:23:26.794Z"
   },
   {
    "duration": 4,
    "start_time": "2023-08-28T10:23:28.468Z"
   },
   {
    "duration": 112,
    "start_time": "2023-08-28T10:23:30.147Z"
   },
   {
    "duration": 5,
    "start_time": "2023-08-28T10:24:56.246Z"
   },
   {
    "duration": 5,
    "start_time": "2023-08-28T10:30:20.906Z"
   },
   {
    "duration": 3,
    "start_time": "2023-08-28T10:30:38.347Z"
   },
   {
    "duration": 10,
    "start_time": "2023-08-28T10:31:23.356Z"
   },
   {
    "duration": 3,
    "start_time": "2023-08-28T10:31:38.057Z"
   },
   {
    "duration": 461,
    "start_time": "2023-08-28T10:33:52.523Z"
   },
   {
    "duration": 53,
    "start_time": "2023-08-28T10:33:57.300Z"
   },
   {
    "duration": 18,
    "start_time": "2023-08-28T10:34:25.705Z"
   },
   {
    "duration": 349,
    "start_time": "2023-08-28T10:39:22.175Z"
   },
   {
    "duration": 26,
    "start_time": "2023-08-28T10:39:22.526Z"
   },
   {
    "duration": 16,
    "start_time": "2023-08-28T10:39:22.554Z"
   },
   {
    "duration": 25,
    "start_time": "2023-08-28T10:39:22.571Z"
   },
   {
    "duration": 9,
    "start_time": "2023-08-28T10:39:22.597Z"
   },
   {
    "duration": 9,
    "start_time": "2023-08-28T10:39:22.608Z"
   },
   {
    "duration": 1068,
    "start_time": "2023-08-28T10:39:22.619Z"
   },
   {
    "duration": 5,
    "start_time": "2023-08-28T10:39:23.689Z"
   },
   {
    "duration": 28,
    "start_time": "2023-08-28T10:39:23.695Z"
   },
   {
    "duration": 42,
    "start_time": "2023-08-28T10:39:23.725Z"
   },
   {
    "duration": 229,
    "start_time": "2023-08-28T10:39:23.768Z"
   },
   {
    "duration": 4,
    "start_time": "2023-08-28T10:39:23.999Z"
   },
   {
    "duration": 23,
    "start_time": "2023-08-28T10:39:24.005Z"
   },
   {
    "duration": 165,
    "start_time": "2023-08-28T10:39:24.029Z"
   },
   {
    "duration": 4,
    "start_time": "2023-08-28T10:39:24.196Z"
   },
   {
    "duration": 57,
    "start_time": "2023-08-28T10:39:24.202Z"
   },
   {
    "duration": 186,
    "start_time": "2023-08-28T10:39:24.261Z"
   },
   {
    "duration": 4,
    "start_time": "2023-08-28T10:39:24.448Z"
   },
   {
    "duration": 9,
    "start_time": "2023-08-28T10:39:24.453Z"
   },
   {
    "duration": 154,
    "start_time": "2023-08-28T10:39:24.463Z"
   },
   {
    "duration": 8,
    "start_time": "2023-08-28T10:39:24.618Z"
   },
   {
    "duration": 7,
    "start_time": "2023-08-28T10:39:24.628Z"
   },
   {
    "duration": 5,
    "start_time": "2023-08-28T10:39:24.636Z"
   },
   {
    "duration": 5,
    "start_time": "2023-08-28T10:39:24.642Z"
   },
   {
    "duration": 4,
    "start_time": "2023-08-28T10:39:24.649Z"
   },
   {
    "duration": 6,
    "start_time": "2023-08-28T10:39:24.655Z"
   },
   {
    "duration": 5,
    "start_time": "2023-08-28T10:39:24.663Z"
   },
   {
    "duration": 14,
    "start_time": "2023-08-28T10:53:16.217Z"
   },
   {
    "duration": 4,
    "start_time": "2023-08-28T10:53:48.506Z"
   },
   {
    "duration": 5,
    "start_time": "2023-08-28T10:54:38.905Z"
   },
   {
    "duration": 1005,
    "start_time": "2023-08-28T10:55:37.401Z"
   },
   {
    "duration": 7,
    "start_time": "2023-08-28T10:56:57.464Z"
   },
   {
    "duration": 3,
    "start_time": "2023-08-28T10:57:50.946Z"
   },
   {
    "duration": 39,
    "start_time": "2023-08-28T10:57:50.952Z"
   },
   {
    "duration": 12,
    "start_time": "2023-08-28T10:57:50.993Z"
   },
   {
    "duration": 16,
    "start_time": "2023-08-28T10:57:51.006Z"
   },
   {
    "duration": 8,
    "start_time": "2023-08-28T10:57:51.025Z"
   },
   {
    "duration": 9,
    "start_time": "2023-08-28T10:57:51.035Z"
   },
   {
    "duration": 1032,
    "start_time": "2023-08-28T10:57:51.045Z"
   },
   {
    "duration": 5,
    "start_time": "2023-08-28T10:57:52.079Z"
   },
   {
    "duration": 6,
    "start_time": "2023-08-28T10:57:52.086Z"
   },
   {
    "duration": 8,
    "start_time": "2023-08-28T10:57:52.093Z"
   },
   {
    "duration": 182,
    "start_time": "2023-08-28T10:57:52.124Z"
   },
   {
    "duration": 5,
    "start_time": "2023-08-28T10:57:52.309Z"
   },
   {
    "duration": 12,
    "start_time": "2023-08-28T10:57:52.323Z"
   },
   {
    "duration": 178,
    "start_time": "2023-08-28T10:57:52.341Z"
   },
   {
    "duration": 5,
    "start_time": "2023-08-28T10:57:52.524Z"
   },
   {
    "duration": 66,
    "start_time": "2023-08-28T10:57:52.531Z"
   },
   {
    "duration": 181,
    "start_time": "2023-08-28T10:57:52.599Z"
   },
   {
    "duration": 5,
    "start_time": "2023-08-28T10:57:52.782Z"
   },
   {
    "duration": 11,
    "start_time": "2023-08-28T10:57:52.789Z"
   },
   {
    "duration": 178,
    "start_time": "2023-08-28T10:57:52.801Z"
   },
   {
    "duration": 5,
    "start_time": "2023-08-28T10:57:52.981Z"
   },
   {
    "duration": 7,
    "start_time": "2023-08-28T10:57:52.988Z"
   },
   {
    "duration": 5,
    "start_time": "2023-08-28T10:57:52.997Z"
   },
   {
    "duration": 28,
    "start_time": "2023-08-28T10:57:53.004Z"
   },
   {
    "duration": 6,
    "start_time": "2023-08-28T10:57:53.035Z"
   },
   {
    "duration": 18,
    "start_time": "2023-08-28T10:57:53.043Z"
   },
   {
    "duration": 16,
    "start_time": "2023-08-28T10:57:53.062Z"
   },
   {
    "duration": 27,
    "start_time": "2023-08-28T10:57:53.080Z"
   },
   {
    "duration": 28,
    "start_time": "2023-08-28T10:57:53.108Z"
   },
   {
    "duration": 14,
    "start_time": "2023-08-28T10:57:53.139Z"
   },
   {
    "duration": 3570,
    "start_time": "2023-08-28T10:58:52.500Z"
   },
   {
    "duration": 9,
    "start_time": "2023-08-28T11:02:02.337Z"
   },
   {
    "duration": 5,
    "start_time": "2023-08-28T11:03:08.197Z"
   },
   {
    "duration": 4,
    "start_time": "2023-08-28T12:47:34.219Z"
   },
   {
    "duration": 3,
    "start_time": "2023-08-28T12:48:13.016Z"
   },
   {
    "duration": 4,
    "start_time": "2023-08-28T12:49:35.817Z"
   },
   {
    "duration": 3,
    "start_time": "2023-08-28T12:51:02.880Z"
   },
   {
    "duration": 3,
    "start_time": "2023-08-28T12:51:18.227Z"
   },
   {
    "duration": 117,
    "start_time": "2023-08-28T12:52:59.823Z"
   },
   {
    "duration": 3,
    "start_time": "2023-08-28T12:53:58.007Z"
   },
   {
    "duration": 11,
    "start_time": "2023-08-28T12:54:01.532Z"
   },
   {
    "duration": 3,
    "start_time": "2023-08-28T12:54:16.357Z"
   },
   {
    "duration": 7,
    "start_time": "2023-08-28T12:54:17.121Z"
   },
   {
    "duration": 2,
    "start_time": "2023-08-28T12:54:23.574Z"
   },
   {
    "duration": 6,
    "start_time": "2023-08-28T12:55:17.245Z"
   },
   {
    "duration": 418,
    "start_time": "2023-08-28T13:11:25.057Z"
   },
   {
    "duration": 3,
    "start_time": "2023-08-28T13:11:34.452Z"
   },
   {
    "duration": 34,
    "start_time": "2023-08-28T13:11:35.630Z"
   },
   {
    "duration": 10,
    "start_time": "2023-08-28T13:12:23.329Z"
   },
   {
    "duration": 11,
    "start_time": "2023-08-28T13:12:28.998Z"
   },
   {
    "duration": 10,
    "start_time": "2023-08-28T13:12:47.819Z"
   },
   {
    "duration": 10,
    "start_time": "2023-08-28T13:13:02.169Z"
   },
   {
    "duration": 12,
    "start_time": "2023-08-28T13:13:13.657Z"
   },
   {
    "duration": 3,
    "start_time": "2023-08-28T13:13:21.284Z"
   },
   {
    "duration": 69,
    "start_time": "2023-08-28T13:13:21.289Z"
   },
   {
    "duration": 12,
    "start_time": "2023-08-28T13:13:21.360Z"
   },
   {
    "duration": 11,
    "start_time": "2023-08-28T13:13:21.373Z"
   },
   {
    "duration": 6,
    "start_time": "2023-08-28T13:13:21.386Z"
   },
   {
    "duration": 9,
    "start_time": "2023-08-28T13:13:21.393Z"
   },
   {
    "duration": 985,
    "start_time": "2023-08-28T13:13:21.403Z"
   },
   {
    "duration": 5,
    "start_time": "2023-08-28T13:13:22.390Z"
   },
   {
    "duration": 16,
    "start_time": "2023-08-28T13:13:22.398Z"
   },
   {
    "duration": 20,
    "start_time": "2023-08-28T13:13:22.416Z"
   },
   {
    "duration": 160,
    "start_time": "2023-08-28T13:13:22.437Z"
   },
   {
    "duration": 5,
    "start_time": "2023-08-28T13:13:22.599Z"
   },
   {
    "duration": 23,
    "start_time": "2023-08-28T13:13:22.605Z"
   },
   {
    "duration": 161,
    "start_time": "2023-08-28T13:13:22.630Z"
   },
   {
    "duration": 4,
    "start_time": "2023-08-28T13:13:22.792Z"
   },
   {
    "duration": 11,
    "start_time": "2023-08-28T13:13:22.798Z"
   },
   {
    "duration": 180,
    "start_time": "2023-08-28T13:13:22.810Z"
   },
   {
    "duration": 4,
    "start_time": "2023-08-28T13:13:22.992Z"
   },
   {
    "duration": 16,
    "start_time": "2023-08-28T13:13:22.997Z"
   },
   {
    "duration": 144,
    "start_time": "2023-08-28T13:13:23.015Z"
   },
   {
    "duration": 5,
    "start_time": "2023-08-28T13:13:23.161Z"
   },
   {
    "duration": 6,
    "start_time": "2023-08-28T13:13:23.167Z"
   },
   {
    "duration": 5,
    "start_time": "2023-08-28T13:13:23.174Z"
   },
   {
    "duration": 4,
    "start_time": "2023-08-28T13:13:23.182Z"
   },
   {
    "duration": 5,
    "start_time": "2023-08-28T13:13:23.187Z"
   },
   {
    "duration": 5,
    "start_time": "2023-08-28T13:13:23.223Z"
   },
   {
    "duration": 7,
    "start_time": "2023-08-28T13:13:23.230Z"
   },
   {
    "duration": 10,
    "start_time": "2023-08-28T13:13:23.238Z"
   },
   {
    "duration": 6,
    "start_time": "2023-08-28T13:13:23.249Z"
   },
   {
    "duration": 32,
    "start_time": "2023-08-28T13:13:23.257Z"
   },
   {
    "duration": 2051,
    "start_time": "2023-08-28T13:13:23.290Z"
   },
   {
    "duration": 10,
    "start_time": "2023-08-28T13:13:25.343Z"
   },
   {
    "duration": 13,
    "start_time": "2023-08-28T13:13:25.354Z"
   },
   {
    "duration": 7,
    "start_time": "2023-08-28T13:13:25.368Z"
   },
   {
    "duration": 4,
    "start_time": "2023-08-28T13:13:25.376Z"
   },
   {
    "duration": 5,
    "start_time": "2023-08-28T13:13:25.381Z"
   },
   {
    "duration": 23,
    "start_time": "2023-08-28T13:13:25.388Z"
   },
   {
    "duration": 2,
    "start_time": "2023-08-28T13:13:25.413Z"
   },
   {
    "duration": 12,
    "start_time": "2023-08-28T13:13:25.417Z"
   },
   {
    "duration": 4,
    "start_time": "2023-08-28T13:13:25.430Z"
   },
   {
    "duration": 3,
    "start_time": "2023-08-28T13:13:33.661Z"
   },
   {
    "duration": 3,
    "start_time": "2023-08-28T13:14:23.264Z"
   },
   {
    "duration": 3,
    "start_time": "2023-08-28T13:15:19.055Z"
   },
   {
    "duration": 16,
    "start_time": "2023-08-28T13:16:12.579Z"
   },
   {
    "duration": 4,
    "start_time": "2023-08-28T13:16:16.369Z"
   },
   {
    "duration": 10,
    "start_time": "2023-08-28T13:17:33.215Z"
   },
   {
    "duration": 4,
    "start_time": "2023-08-28T13:18:23.343Z"
   },
   {
    "duration": 14,
    "start_time": "2023-08-28T13:18:29.956Z"
   },
   {
    "duration": 3,
    "start_time": "2023-08-28T13:19:13.795Z"
   },
   {
    "duration": 387,
    "start_time": "2023-08-28T13:20:10.064Z"
   },
   {
    "duration": 27,
    "start_time": "2023-08-28T13:20:10.453Z"
   },
   {
    "duration": 19,
    "start_time": "2023-08-28T13:20:10.481Z"
   },
   {
    "duration": 12,
    "start_time": "2023-08-28T13:20:10.502Z"
   },
   {
    "duration": 8,
    "start_time": "2023-08-28T13:20:10.515Z"
   },
   {
    "duration": 5,
    "start_time": "2023-08-28T13:20:10.525Z"
   },
   {
    "duration": 1219,
    "start_time": "2023-08-28T13:20:10.531Z"
   },
   {
    "duration": 6,
    "start_time": "2023-08-28T13:20:11.752Z"
   },
   {
    "duration": 8,
    "start_time": "2023-08-28T13:20:11.759Z"
   },
   {
    "duration": 16,
    "start_time": "2023-08-28T13:20:11.770Z"
   },
   {
    "duration": 209,
    "start_time": "2023-08-28T13:20:11.787Z"
   },
   {
    "duration": 4,
    "start_time": "2023-08-28T13:20:11.998Z"
   },
   {
    "duration": 21,
    "start_time": "2023-08-28T13:20:12.003Z"
   },
   {
    "duration": 153,
    "start_time": "2023-08-28T13:20:12.025Z"
   },
   {
    "duration": 4,
    "start_time": "2023-08-28T13:20:12.180Z"
   },
   {
    "duration": 8,
    "start_time": "2023-08-28T13:20:12.186Z"
   },
   {
    "duration": 171,
    "start_time": "2023-08-28T13:20:12.196Z"
   },
   {
    "duration": 4,
    "start_time": "2023-08-28T13:20:12.369Z"
   },
   {
    "duration": 9,
    "start_time": "2023-08-28T13:20:12.375Z"
   },
   {
    "duration": 172,
    "start_time": "2023-08-28T13:20:12.386Z"
   },
   {
    "duration": 5,
    "start_time": "2023-08-28T13:20:12.560Z"
   },
   {
    "duration": 7,
    "start_time": "2023-08-28T13:20:12.566Z"
   },
   {
    "duration": 5,
    "start_time": "2023-08-28T13:20:12.574Z"
   },
   {
    "duration": 5,
    "start_time": "2023-08-28T13:20:12.580Z"
   },
   {
    "duration": 5,
    "start_time": "2023-08-28T13:20:12.587Z"
   },
   {
    "duration": 5,
    "start_time": "2023-08-28T13:20:12.594Z"
   },
   {
    "duration": 4,
    "start_time": "2023-08-28T13:20:12.623Z"
   },
   {
    "duration": 9,
    "start_time": "2023-08-28T13:20:12.631Z"
   },
   {
    "duration": 10,
    "start_time": "2023-08-28T13:35:00.724Z"
   },
   {
    "duration": 4,
    "start_time": "2023-08-28T13:35:18.519Z"
   },
   {
    "duration": 5,
    "start_time": "2023-08-28T13:36:15.564Z"
   },
   {
    "duration": 2,
    "start_time": "2023-08-28T13:36:19.867Z"
   },
   {
    "duration": 29,
    "start_time": "2023-08-28T13:36:19.871Z"
   },
   {
    "duration": 11,
    "start_time": "2023-08-28T13:36:19.902Z"
   },
   {
    "duration": 10,
    "start_time": "2023-08-28T13:36:19.915Z"
   },
   {
    "duration": 7,
    "start_time": "2023-08-28T13:36:19.927Z"
   },
   {
    "duration": 5,
    "start_time": "2023-08-28T13:36:19.935Z"
   },
   {
    "duration": 968,
    "start_time": "2023-08-28T13:36:19.941Z"
   },
   {
    "duration": 17,
    "start_time": "2023-08-28T13:36:20.911Z"
   },
   {
    "duration": 13,
    "start_time": "2023-08-28T13:36:20.931Z"
   },
   {
    "duration": 8,
    "start_time": "2023-08-28T13:36:20.945Z"
   },
   {
    "duration": 159,
    "start_time": "2023-08-28T13:36:20.955Z"
   },
   {
    "duration": 10,
    "start_time": "2023-08-28T13:36:21.116Z"
   },
   {
    "duration": 21,
    "start_time": "2023-08-28T13:36:21.127Z"
   },
   {
    "duration": 161,
    "start_time": "2023-08-28T13:36:21.150Z"
   },
   {
    "duration": 11,
    "start_time": "2023-08-28T13:36:21.313Z"
   },
   {
    "duration": 9,
    "start_time": "2023-08-28T13:36:21.326Z"
   },
   {
    "duration": 189,
    "start_time": "2023-08-28T13:36:21.337Z"
   },
   {
    "duration": 5,
    "start_time": "2023-08-28T13:36:21.528Z"
   },
   {
    "duration": 8,
    "start_time": "2023-08-28T13:36:21.535Z"
   },
   {
    "duration": 243,
    "start_time": "2023-08-28T13:36:21.545Z"
   },
   {
    "duration": 5,
    "start_time": "2023-08-28T13:36:21.790Z"
   },
   {
    "duration": 7,
    "start_time": "2023-08-28T13:36:21.797Z"
   },
   {
    "duration": 4,
    "start_time": "2023-08-28T13:36:21.825Z"
   },
   {
    "duration": 5,
    "start_time": "2023-08-28T13:36:21.833Z"
   },
   {
    "duration": 14,
    "start_time": "2023-08-28T13:36:21.839Z"
   },
   {
    "duration": 6,
    "start_time": "2023-08-28T13:36:21.855Z"
   },
   {
    "duration": 5,
    "start_time": "2023-08-28T13:36:21.863Z"
   },
   {
    "duration": 13,
    "start_time": "2023-08-28T13:36:21.870Z"
   },
   {
    "duration": 3,
    "start_time": "2023-08-28T13:36:23.882Z"
   },
   {
    "duration": 4,
    "start_time": "2023-08-28T13:36:24.682Z"
   },
   {
    "duration": 5,
    "start_time": "2023-08-28T13:36:42.688Z"
   },
   {
    "duration": 777,
    "start_time": "2023-08-28T13:37:16.892Z"
   },
   {
    "duration": 5,
    "start_time": "2023-08-28T13:38:34.952Z"
   },
   {
    "duration": 8,
    "start_time": "2023-08-28T13:39:27.126Z"
   },
   {
    "duration": 4,
    "start_time": "2023-08-28T13:39:28.728Z"
   },
   {
    "duration": 6,
    "start_time": "2023-08-28T13:39:30.354Z"
   },
   {
    "duration": 3,
    "start_time": "2023-08-28T13:39:36.798Z"
   },
   {
    "duration": 39,
    "start_time": "2023-08-28T13:39:36.802Z"
   },
   {
    "duration": 11,
    "start_time": "2023-08-28T13:39:36.843Z"
   },
   {
    "duration": 34,
    "start_time": "2023-08-28T13:39:36.856Z"
   },
   {
    "duration": 16,
    "start_time": "2023-08-28T13:39:36.893Z"
   },
   {
    "duration": 17,
    "start_time": "2023-08-28T13:39:36.910Z"
   },
   {
    "duration": 927,
    "start_time": "2023-08-28T13:39:36.928Z"
   },
   {
    "duration": 5,
    "start_time": "2023-08-28T13:39:37.857Z"
   },
   {
    "duration": 16,
    "start_time": "2023-08-28T13:39:37.863Z"
   },
   {
    "duration": 18,
    "start_time": "2023-08-28T13:39:37.880Z"
   },
   {
    "duration": 141,
    "start_time": "2023-08-28T13:39:37.900Z"
   },
   {
    "duration": 4,
    "start_time": "2023-08-28T13:39:38.042Z"
   },
   {
    "duration": 29,
    "start_time": "2023-08-28T13:39:38.047Z"
   },
   {
    "duration": 153,
    "start_time": "2023-08-28T13:39:38.078Z"
   },
   {
    "duration": 4,
    "start_time": "2023-08-28T13:39:38.233Z"
   },
   {
    "duration": 33,
    "start_time": "2023-08-28T13:39:38.238Z"
   },
   {
    "duration": 165,
    "start_time": "2023-08-28T13:39:38.273Z"
   },
   {
    "duration": 4,
    "start_time": "2023-08-28T13:39:38.440Z"
   },
   {
    "duration": 10,
    "start_time": "2023-08-28T13:39:38.445Z"
   },
   {
    "duration": 142,
    "start_time": "2023-08-28T13:39:38.457Z"
   },
   {
    "duration": 5,
    "start_time": "2023-08-28T13:39:38.600Z"
   },
   {
    "duration": 45,
    "start_time": "2023-08-28T13:39:38.606Z"
   },
   {
    "duration": 28,
    "start_time": "2023-08-28T13:39:38.653Z"
   },
   {
    "duration": 25,
    "start_time": "2023-08-28T13:39:38.682Z"
   },
   {
    "duration": 18,
    "start_time": "2023-08-28T13:39:38.708Z"
   },
   {
    "duration": 31,
    "start_time": "2023-08-28T13:39:38.728Z"
   },
   {
    "duration": 43,
    "start_time": "2023-08-28T13:39:38.761Z"
   },
   {
    "duration": 20,
    "start_time": "2023-08-28T13:39:38.806Z"
   },
   {
    "duration": 18,
    "start_time": "2023-08-28T13:39:38.829Z"
   },
   {
    "duration": 8,
    "start_time": "2023-08-28T13:39:38.848Z"
   },
   {
    "duration": 8,
    "start_time": "2023-08-28T13:39:38.857Z"
   },
   {
    "duration": 10,
    "start_time": "2023-08-28T13:39:38.867Z"
   },
   {
    "duration": 8,
    "start_time": "2023-08-28T13:39:38.879Z"
   },
   {
    "duration": 4,
    "start_time": "2023-08-28T13:41:43.539Z"
   },
   {
    "duration": 5,
    "start_time": "2023-08-28T13:42:27.947Z"
   },
   {
    "duration": 4,
    "start_time": "2023-08-28T13:42:28.613Z"
   },
   {
    "duration": 104,
    "start_time": "2023-08-28T13:43:04.292Z"
   },
   {
    "duration": 3,
    "start_time": "2023-08-28T13:43:08.868Z"
   },
   {
    "duration": 3,
    "start_time": "2023-08-28T13:43:22.146Z"
   },
   {
    "duration": 12,
    "start_time": "2023-08-28T13:43:45.434Z"
   },
   {
    "duration": 434,
    "start_time": "2023-08-28T13:44:09.915Z"
   },
   {
    "duration": 27,
    "start_time": "2023-08-28T13:44:10.352Z"
   },
   {
    "duration": 20,
    "start_time": "2023-08-28T13:44:10.381Z"
   },
   {
    "duration": 11,
    "start_time": "2023-08-28T13:44:10.403Z"
   },
   {
    "duration": 13,
    "start_time": "2023-08-28T13:44:10.416Z"
   },
   {
    "duration": 6,
    "start_time": "2023-08-28T13:44:10.430Z"
   },
   {
    "duration": 1120,
    "start_time": "2023-08-28T13:44:10.437Z"
   },
   {
    "duration": 5,
    "start_time": "2023-08-28T13:44:11.558Z"
   },
   {
    "duration": 5,
    "start_time": "2023-08-28T13:44:11.565Z"
   },
   {
    "duration": 11,
    "start_time": "2023-08-28T13:44:11.572Z"
   },
   {
    "duration": 214,
    "start_time": "2023-08-28T13:44:11.584Z"
   },
   {
    "duration": 4,
    "start_time": "2023-08-28T13:44:11.800Z"
   },
   {
    "duration": 21,
    "start_time": "2023-08-28T13:44:11.806Z"
   },
   {
    "duration": 141,
    "start_time": "2023-08-28T13:44:11.828Z"
   },
   {
    "duration": 4,
    "start_time": "2023-08-28T13:44:11.971Z"
   },
   {
    "duration": 8,
    "start_time": "2023-08-28T13:44:11.977Z"
   },
   {
    "duration": 170,
    "start_time": "2023-08-28T13:44:11.987Z"
   },
   {
    "duration": 4,
    "start_time": "2023-08-28T13:44:12.160Z"
   },
   {
    "duration": 9,
    "start_time": "2023-08-28T13:44:12.166Z"
   },
   {
    "duration": 162,
    "start_time": "2023-08-28T13:44:12.177Z"
   },
   {
    "duration": 5,
    "start_time": "2023-08-28T13:44:12.341Z"
   },
   {
    "duration": 19,
    "start_time": "2023-08-28T13:44:12.348Z"
   },
   {
    "duration": 14,
    "start_time": "2023-08-28T13:44:12.368Z"
   },
   {
    "duration": 31,
    "start_time": "2023-08-28T13:44:12.384Z"
   },
   {
    "duration": 20,
    "start_time": "2023-08-28T13:44:12.416Z"
   },
   {
    "duration": 21,
    "start_time": "2023-08-28T13:44:12.437Z"
   },
   {
    "duration": 25,
    "start_time": "2023-08-28T13:44:12.460Z"
   },
   {
    "duration": 765,
    "start_time": "2023-08-28T13:44:12.488Z"
   },
   {
    "duration": 9,
    "start_time": "2023-08-28T13:44:13.255Z"
   },
   {
    "duration": 14,
    "start_time": "2023-08-28T13:44:13.265Z"
   },
   {
    "duration": 30,
    "start_time": "2023-08-28T13:44:13.281Z"
   },
   {
    "duration": 14,
    "start_time": "2023-08-28T13:44:13.312Z"
   },
   {
    "duration": 19,
    "start_time": "2023-08-28T13:44:13.328Z"
   },
   {
    "duration": 25,
    "start_time": "2023-08-28T13:44:13.348Z"
   },
   {
    "duration": 16,
    "start_time": "2023-08-28T13:44:13.375Z"
   },
   {
    "duration": 117,
    "start_time": "2023-08-28T13:44:13.392Z"
   },
   {
    "duration": 7,
    "start_time": "2023-08-28T13:45:28.059Z"
   },
   {
    "duration": 5,
    "start_time": "2023-08-28T13:45:45.830Z"
   },
   {
    "duration": 452,
    "start_time": "2023-08-28T13:55:00.376Z"
   },
   {
    "duration": 4,
    "start_time": "2023-08-28T13:59:47.814Z"
   },
   {
    "duration": 5,
    "start_time": "2023-08-28T14:00:31.831Z"
   },
   {
    "duration": 3,
    "start_time": "2023-08-28T14:01:17.618Z"
   },
   {
    "duration": 39,
    "start_time": "2023-08-28T14:01:56.659Z"
   },
   {
    "duration": 11,
    "start_time": "2023-08-28T14:02:03.383Z"
   },
   {
    "duration": 11,
    "start_time": "2023-08-28T14:02:12.090Z"
   },
   {
    "duration": 13,
    "start_time": "2023-08-28T14:02:19.661Z"
   },
   {
    "duration": 2,
    "start_time": "2023-08-28T14:02:24.801Z"
   },
   {
    "duration": 46,
    "start_time": "2023-08-28T14:02:24.805Z"
   },
   {
    "duration": 12,
    "start_time": "2023-08-28T14:02:24.853Z"
   },
   {
    "duration": 31,
    "start_time": "2023-08-28T14:02:24.867Z"
   },
   {
    "duration": 8,
    "start_time": "2023-08-28T14:02:24.901Z"
   },
   {
    "duration": 49,
    "start_time": "2023-08-28T14:02:24.911Z"
   },
   {
    "duration": 936,
    "start_time": "2023-08-28T14:02:24.962Z"
   },
   {
    "duration": 7,
    "start_time": "2023-08-28T14:02:25.900Z"
   },
   {
    "duration": 14,
    "start_time": "2023-08-28T14:02:25.924Z"
   },
   {
    "duration": 38,
    "start_time": "2023-08-28T14:02:25.940Z"
   },
   {
    "duration": 182,
    "start_time": "2023-08-28T14:02:25.982Z"
   },
   {
    "duration": 5,
    "start_time": "2023-08-28T14:02:26.166Z"
   },
   {
    "duration": 15,
    "start_time": "2023-08-28T14:02:26.173Z"
   },
   {
    "duration": 209,
    "start_time": "2023-08-28T14:02:26.190Z"
   },
   {
    "duration": 5,
    "start_time": "2023-08-28T14:02:26.401Z"
   },
   {
    "duration": 22,
    "start_time": "2023-08-28T14:02:26.407Z"
   },
   {
    "duration": 205,
    "start_time": "2023-08-28T14:02:26.431Z"
   },
   {
    "duration": 6,
    "start_time": "2023-08-28T14:02:26.638Z"
   },
   {
    "duration": 46,
    "start_time": "2023-08-28T14:02:26.645Z"
   },
   {
    "duration": 191,
    "start_time": "2023-08-28T14:02:26.693Z"
   },
   {
    "duration": 5,
    "start_time": "2023-08-28T14:02:26.886Z"
   },
   {
    "duration": 108,
    "start_time": "2023-08-28T14:02:26.893Z"
   },
   {
    "duration": 101,
    "start_time": "2023-08-28T14:02:27.003Z"
   },
   {
    "duration": 12,
    "start_time": "2023-08-28T14:02:27.106Z"
   },
   {
    "duration": 19,
    "start_time": "2023-08-28T14:02:27.120Z"
   },
   {
    "duration": 58,
    "start_time": "2023-08-28T14:02:27.141Z"
   },
   {
    "duration": 36,
    "start_time": "2023-08-28T14:02:27.201Z"
   },
   {
    "duration": 19,
    "start_time": "2023-08-28T14:02:27.238Z"
   },
   {
    "duration": 27,
    "start_time": "2023-08-28T14:02:27.261Z"
   },
   {
    "duration": 15,
    "start_time": "2023-08-28T14:02:27.290Z"
   },
   {
    "duration": 89,
    "start_time": "2023-08-28T14:02:27.307Z"
   },
   {
    "duration": 10,
    "start_time": "2023-08-28T14:02:27.398Z"
   },
   {
    "duration": 12,
    "start_time": "2023-08-28T14:02:27.409Z"
   },
   {
    "duration": 12,
    "start_time": "2023-08-28T14:02:27.422Z"
   },
   {
    "duration": 15,
    "start_time": "2023-08-28T14:02:27.436Z"
   },
   {
    "duration": 30,
    "start_time": "2023-08-28T14:02:27.453Z"
   },
   {
    "duration": 6,
    "start_time": "2023-08-28T14:02:27.484Z"
   },
   {
    "duration": 16,
    "start_time": "2023-08-28T14:02:27.491Z"
   },
   {
    "duration": 168,
    "start_time": "2023-08-28T14:02:27.508Z"
   },
   {
    "duration": 25,
    "start_time": "2023-08-28T14:02:27.678Z"
   },
   {
    "duration": 3,
    "start_time": "2023-08-28T14:02:29.188Z"
   },
   {
    "duration": 4,
    "start_time": "2023-08-28T14:02:35.487Z"
   },
   {
    "duration": 2,
    "start_time": "2023-08-28T14:03:47.237Z"
   },
   {
    "duration": 69,
    "start_time": "2023-08-28T14:04:24.905Z"
   },
   {
    "duration": 36,
    "start_time": "2023-08-28T14:05:09.177Z"
   },
   {
    "duration": 25,
    "start_time": "2023-08-28T14:10:00.428Z"
   },
   {
    "duration": 410,
    "start_time": "2023-08-28T14:16:51.234Z"
   },
   {
    "duration": 27,
    "start_time": "2023-08-28T14:16:51.646Z"
   },
   {
    "duration": 18,
    "start_time": "2023-08-28T14:16:51.675Z"
   },
   {
    "duration": 13,
    "start_time": "2023-08-28T14:16:51.695Z"
   },
   {
    "duration": 12,
    "start_time": "2023-08-28T14:16:51.710Z"
   },
   {
    "duration": 18,
    "start_time": "2023-08-28T14:16:51.723Z"
   },
   {
    "duration": 1243,
    "start_time": "2023-08-28T14:16:51.743Z"
   },
   {
    "duration": 5,
    "start_time": "2023-08-28T14:16:52.988Z"
   },
   {
    "duration": 6,
    "start_time": "2023-08-28T14:16:52.994Z"
   },
   {
    "duration": 32,
    "start_time": "2023-08-28T14:16:53.001Z"
   },
   {
    "duration": 204,
    "start_time": "2023-08-28T14:16:53.035Z"
   },
   {
    "duration": 4,
    "start_time": "2023-08-28T14:16:53.241Z"
   },
   {
    "duration": 11,
    "start_time": "2023-08-28T14:16:53.246Z"
   },
   {
    "duration": 147,
    "start_time": "2023-08-28T14:16:53.259Z"
   },
   {
    "duration": 4,
    "start_time": "2023-08-28T14:16:53.407Z"
   },
   {
    "duration": 24,
    "start_time": "2023-08-28T14:16:53.413Z"
   },
   {
    "duration": 157,
    "start_time": "2023-08-28T14:16:53.438Z"
   },
   {
    "duration": 5,
    "start_time": "2023-08-28T14:16:53.597Z"
   },
   {
    "duration": 10,
    "start_time": "2023-08-28T14:16:53.603Z"
   },
   {
    "duration": 139,
    "start_time": "2023-08-28T14:16:53.624Z"
   },
   {
    "duration": 4,
    "start_time": "2023-08-28T14:16:53.764Z"
   },
   {
    "duration": 7,
    "start_time": "2023-08-28T14:16:53.770Z"
   },
   {
    "duration": 5,
    "start_time": "2023-08-28T14:16:53.779Z"
   },
   {
    "duration": 5,
    "start_time": "2023-08-28T14:16:53.785Z"
   },
   {
    "duration": 5,
    "start_time": "2023-08-28T14:16:53.791Z"
   },
   {
    "duration": 31,
    "start_time": "2023-08-28T14:16:53.797Z"
   },
   {
    "duration": 12,
    "start_time": "2023-08-28T14:16:53.829Z"
   },
   {
    "duration": 696,
    "start_time": "2023-08-28T14:16:53.842Z"
   },
   {
    "duration": 10,
    "start_time": "2023-08-28T14:16:54.540Z"
   },
   {
    "duration": 4,
    "start_time": "2023-08-28T14:16:54.552Z"
   },
   {
    "duration": 9,
    "start_time": "2023-08-28T14:16:54.557Z"
   },
   {
    "duration": 5,
    "start_time": "2023-08-28T14:16:54.568Z"
   },
   {
    "duration": 6,
    "start_time": "2023-08-28T14:16:54.574Z"
   },
   {
    "duration": 6,
    "start_time": "2023-08-28T14:16:54.582Z"
   },
   {
    "duration": 5,
    "start_time": "2023-08-28T14:16:54.589Z"
   },
   {
    "duration": 43,
    "start_time": "2023-08-28T14:16:54.595Z"
   },
   {
    "duration": 6,
    "start_time": "2023-08-28T14:16:54.639Z"
   },
   {
    "duration": 483,
    "start_time": "2023-08-28T14:17:01.153Z"
   },
   {
    "duration": 2,
    "start_time": "2023-08-28T14:17:24.186Z"
   },
   {
    "duration": 3,
    "start_time": "2023-08-28T14:17:31.214Z"
   },
   {
    "duration": 3,
    "start_time": "2023-08-28T14:17:42.539Z"
   },
   {
    "duration": 6,
    "start_time": "2023-08-28T14:17:43.136Z"
   },
   {
    "duration": 141,
    "start_time": "2023-08-28T14:18:04.707Z"
   },
   {
    "duration": 3,
    "start_time": "2023-08-28T14:18:12.836Z"
   },
   {
    "duration": 4,
    "start_time": "2023-08-28T14:18:13.438Z"
   },
   {
    "duration": 2,
    "start_time": "2023-08-28T14:18:19.946Z"
   },
   {
    "duration": 4,
    "start_time": "2023-08-28T14:18:20.398Z"
   },
   {
    "duration": 11,
    "start_time": "2023-08-28T14:20:21.555Z"
   },
   {
    "duration": 2,
    "start_time": "2023-08-28T14:20:41.153Z"
   },
   {
    "duration": 3,
    "start_time": "2023-08-28T14:20:41.948Z"
   },
   {
    "duration": 3,
    "start_time": "2023-08-28T14:22:05.458Z"
   },
   {
    "duration": 4,
    "start_time": "2023-08-28T14:22:34.588Z"
   },
   {
    "duration": 4,
    "start_time": "2023-08-28T14:23:02.385Z"
   },
   {
    "duration": 3,
    "start_time": "2023-08-28T14:23:36.222Z"
   },
   {
    "duration": 17,
    "start_time": "2023-08-28T14:24:00.299Z"
   },
   {
    "duration": 6,
    "start_time": "2023-08-28T14:24:04.206Z"
   },
   {
    "duration": 2,
    "start_time": "2023-08-28T14:24:14.535Z"
   },
   {
    "duration": 14,
    "start_time": "2023-08-28T14:27:08.121Z"
   },
   {
    "duration": 4,
    "start_time": "2023-08-28T14:27:09.136Z"
   },
   {
    "duration": 2,
    "start_time": "2023-08-28T14:27:12.197Z"
   },
   {
    "duration": 7,
    "start_time": "2023-08-28T14:27:12.777Z"
   },
   {
    "duration": 4,
    "start_time": "2023-08-28T14:27:13.253Z"
   },
   {
    "duration": 4,
    "start_time": "2023-08-28T14:27:14.790Z"
   },
   {
    "duration": 3,
    "start_time": "2023-08-28T14:27:17.088Z"
   },
   {
    "duration": 3,
    "start_time": "2023-08-28T14:27:17.671Z"
   },
   {
    "duration": 3,
    "start_time": "2023-08-28T14:27:18.808Z"
   },
   {
    "duration": 3,
    "start_time": "2023-08-28T14:27:19.353Z"
   },
   {
    "duration": 2,
    "start_time": "2023-08-28T14:27:19.870Z"
   },
   {
    "duration": 3,
    "start_time": "2023-08-28T14:27:21.687Z"
   },
   {
    "duration": 4,
    "start_time": "2023-08-28T14:27:22.168Z"
   },
   {
    "duration": 3,
    "start_time": "2023-08-28T14:27:24.539Z"
   },
   {
    "duration": 373,
    "start_time": "2023-08-28T14:33:12.159Z"
   },
   {
    "duration": 29,
    "start_time": "2023-08-28T14:33:12.534Z"
   },
   {
    "duration": 16,
    "start_time": "2023-08-28T14:33:12.564Z"
   },
   {
    "duration": 10,
    "start_time": "2023-08-28T14:33:12.582Z"
   },
   {
    "duration": 7,
    "start_time": "2023-08-28T14:33:12.594Z"
   },
   {
    "duration": 39,
    "start_time": "2023-08-28T14:33:12.602Z"
   },
   {
    "duration": 1294,
    "start_time": "2023-08-28T14:33:12.643Z"
   },
   {
    "duration": 6,
    "start_time": "2023-08-28T14:33:13.939Z"
   },
   {
    "duration": 69,
    "start_time": "2023-08-28T14:33:13.946Z"
   },
   {
    "duration": 29,
    "start_time": "2023-08-28T14:33:14.022Z"
   },
   {
    "duration": 250,
    "start_time": "2023-08-28T14:33:14.053Z"
   },
   {
    "duration": 4,
    "start_time": "2023-08-28T14:33:14.305Z"
   },
   {
    "duration": 89,
    "start_time": "2023-08-28T14:33:14.311Z"
   },
   {
    "duration": 173,
    "start_time": "2023-08-28T14:33:14.402Z"
   },
   {
    "duration": 4,
    "start_time": "2023-08-28T14:33:14.576Z"
   },
   {
    "duration": 12,
    "start_time": "2023-08-28T14:33:14.582Z"
   },
   {
    "duration": 175,
    "start_time": "2023-08-28T14:33:14.595Z"
   },
   {
    "duration": 4,
    "start_time": "2023-08-28T14:33:14.772Z"
   },
   {
    "duration": 18,
    "start_time": "2023-08-28T14:33:14.778Z"
   },
   {
    "duration": 154,
    "start_time": "2023-08-28T14:33:14.798Z"
   },
   {
    "duration": 5,
    "start_time": "2023-08-28T14:33:14.953Z"
   },
   {
    "duration": 44,
    "start_time": "2023-08-28T14:33:14.959Z"
   },
   {
    "duration": 131,
    "start_time": "2023-08-28T14:33:15.005Z"
   },
   {
    "duration": 17,
    "start_time": "2023-08-28T14:33:15.138Z"
   },
   {
    "duration": 11,
    "start_time": "2023-08-28T14:33:15.157Z"
   },
   {
    "duration": 17,
    "start_time": "2023-08-28T14:33:15.169Z"
   },
   {
    "duration": 13,
    "start_time": "2023-08-28T14:33:15.187Z"
   },
   {
    "duration": 869,
    "start_time": "2023-08-28T14:33:15.203Z"
   },
   {
    "duration": 10,
    "start_time": "2023-08-28T14:33:16.074Z"
   },
   {
    "duration": 7,
    "start_time": "2023-08-28T14:33:16.086Z"
   },
   {
    "duration": 15,
    "start_time": "2023-08-28T14:33:16.095Z"
   },
   {
    "duration": 21,
    "start_time": "2023-08-28T14:33:16.111Z"
   },
   {
    "duration": 6,
    "start_time": "2023-08-28T14:33:16.134Z"
   },
   {
    "duration": 12,
    "start_time": "2023-08-28T14:33:16.141Z"
   },
   {
    "duration": 10,
    "start_time": "2023-08-28T14:33:16.155Z"
   },
   {
    "duration": 14,
    "start_time": "2023-08-28T14:33:16.167Z"
   },
   {
    "duration": 7,
    "start_time": "2023-08-28T14:33:16.183Z"
   },
   {
    "duration": 485,
    "start_time": "2023-08-28T14:44:56.011Z"
   },
   {
    "duration": 130,
    "start_time": "2023-08-28T14:45:59.769Z"
   },
   {
    "duration": 3,
    "start_time": "2023-08-28T14:46:08.812Z"
   },
   {
    "duration": 7,
    "start_time": "2023-08-28T14:46:15.275Z"
   },
   {
    "duration": 3,
    "start_time": "2023-08-28T14:47:00.013Z"
   },
   {
    "duration": 3,
    "start_time": "2023-08-28T14:47:36.508Z"
   },
   {
    "duration": 3,
    "start_time": "2023-08-28T14:47:58.007Z"
   },
   {
    "duration": 10,
    "start_time": "2023-08-28T14:48:31.348Z"
   },
   {
    "duration": 3,
    "start_time": "2023-08-28T14:48:44.694Z"
   },
   {
    "duration": 13,
    "start_time": "2023-08-28T14:48:52.123Z"
   },
   {
    "duration": 7,
    "start_time": "2023-08-28T14:48:56.892Z"
   },
   {
    "duration": 10,
    "start_time": "2023-08-28T14:49:37.092Z"
   },
   {
    "duration": 3,
    "start_time": "2023-08-28T14:49:41.646Z"
   },
   {
    "duration": 13,
    "start_time": "2023-08-28T14:50:34.263Z"
   },
   {
    "duration": 7,
    "start_time": "2023-08-28T14:54:13.338Z"
   },
   {
    "duration": 4,
    "start_time": "2023-08-28T14:56:44.072Z"
   },
   {
    "duration": 3,
    "start_time": "2023-08-28T14:57:15.059Z"
   },
   {
    "duration": 2,
    "start_time": "2023-08-28T14:57:47.363Z"
   },
   {
    "duration": 7,
    "start_time": "2023-08-28T14:57:52.639Z"
   },
   {
    "duration": 3,
    "start_time": "2023-08-28T15:04:17.714Z"
   },
   {
    "duration": 11,
    "start_time": "2023-08-28T15:05:26.312Z"
   },
   {
    "duration": 14,
    "start_time": "2023-08-28T15:05:40.114Z"
   },
   {
    "duration": 12,
    "start_time": "2023-08-28T15:05:51.723Z"
   },
   {
    "duration": 4,
    "start_time": "2023-08-28T15:05:58.434Z"
   },
   {
    "duration": 8,
    "start_time": "2023-08-28T15:06:21.368Z"
   },
   {
    "duration": 3,
    "start_time": "2023-08-28T15:10:05.309Z"
   },
   {
    "duration": 3,
    "start_time": "2023-08-28T15:10:28.242Z"
   },
   {
    "duration": 6,
    "start_time": "2023-08-28T15:10:45.416Z"
   },
   {
    "duration": 2,
    "start_time": "2023-08-28T15:13:54.668Z"
   },
   {
    "duration": 7,
    "start_time": "2023-08-28T15:18:22.127Z"
   },
   {
    "duration": 2,
    "start_time": "2023-08-28T15:23:22.349Z"
   },
   {
    "duration": 33,
    "start_time": "2023-08-28T15:24:05.008Z"
   },
   {
    "duration": 64,
    "start_time": "2023-08-28T15:24:37.644Z"
   },
   {
    "duration": 65,
    "start_time": "2023-08-28T15:24:59.880Z"
   },
   {
    "duration": 69,
    "start_time": "2023-08-28T15:26:10.116Z"
   },
   {
    "duration": 3,
    "start_time": "2023-08-28T15:33:46.140Z"
   },
   {
    "duration": 3,
    "start_time": "2023-08-28T15:42:54.308Z"
   },
   {
    "duration": 95,
    "start_time": "2023-08-28T15:45:36.868Z"
   },
   {
    "duration": 66,
    "start_time": "2023-08-28T15:45:58.182Z"
   },
   {
    "duration": 87,
    "start_time": "2023-08-28T15:46:04.279Z"
   },
   {
    "duration": 62,
    "start_time": "2023-08-28T15:46:14.984Z"
   },
   {
    "duration": 5,
    "start_time": "2023-08-28T15:47:53.834Z"
   },
   {
    "duration": 4,
    "start_time": "2023-08-28T15:48:52.843Z"
   },
   {
    "duration": 348,
    "start_time": "2023-08-28T15:49:21.484Z"
   },
   {
    "duration": 6,
    "start_time": "2023-08-28T15:50:47.322Z"
   },
   {
    "duration": 362,
    "start_time": "2023-08-28T15:51:21.975Z"
   },
   {
    "duration": 406,
    "start_time": "2023-08-28T15:51:35.941Z"
   },
   {
    "duration": 3,
    "start_time": "2023-08-28T15:53:35.033Z"
   },
   {
    "duration": 324,
    "start_time": "2023-08-28T15:53:35.815Z"
   },
   {
    "duration": 2,
    "start_time": "2023-08-28T15:53:50.803Z"
   },
   {
    "duration": 11,
    "start_time": "2023-08-28T15:53:51.467Z"
   },
   {
    "duration": 3,
    "start_time": "2023-08-28T15:59:01.958Z"
   },
   {
    "duration": 3,
    "start_time": "2023-08-28T15:59:09.923Z"
   },
   {
    "duration": 3,
    "start_time": "2023-08-28T15:59:19.917Z"
   },
   {
    "duration": 3,
    "start_time": "2023-08-28T15:59:23.595Z"
   },
   {
    "duration": 4,
    "start_time": "2023-08-28T16:02:14.347Z"
   },
   {
    "duration": 11,
    "start_time": "2023-08-28T16:02:30.848Z"
   },
   {
    "duration": 4,
    "start_time": "2023-08-28T16:02:34.634Z"
   },
   {
    "duration": 80,
    "start_time": "2023-08-28T16:02:36.058Z"
   },
   {
    "duration": 6,
    "start_time": "2023-08-28T16:02:46.637Z"
   },
   {
    "duration": 89,
    "start_time": "2023-08-28T16:02:48.808Z"
   },
   {
    "duration": 5,
    "start_time": "2023-08-28T16:02:56.837Z"
   },
   {
    "duration": 63,
    "start_time": "2023-08-28T16:02:58.475Z"
   },
   {
    "duration": 5,
    "start_time": "2023-08-28T16:03:20.083Z"
   },
   {
    "duration": 62,
    "start_time": "2023-08-28T16:03:23.573Z"
   },
   {
    "duration": 404,
    "start_time": "2023-08-28T18:06:22.970Z"
   },
   {
    "duration": 74,
    "start_time": "2023-08-28T18:06:23.376Z"
   },
   {
    "duration": 16,
    "start_time": "2023-08-28T18:06:23.452Z"
   },
   {
    "duration": 10,
    "start_time": "2023-08-28T18:06:23.471Z"
   },
   {
    "duration": 11,
    "start_time": "2023-08-28T18:06:23.482Z"
   },
   {
    "duration": 21,
    "start_time": "2023-08-28T18:06:23.494Z"
   },
   {
    "duration": 1353,
    "start_time": "2023-08-28T18:06:23.517Z"
   },
   {
    "duration": 6,
    "start_time": "2023-08-28T18:06:24.872Z"
   },
   {
    "duration": 24,
    "start_time": "2023-08-28T18:06:24.879Z"
   },
   {
    "duration": 18,
    "start_time": "2023-08-28T18:06:24.906Z"
   },
   {
    "duration": 149,
    "start_time": "2023-08-28T18:06:24.926Z"
   },
   {
    "duration": 5,
    "start_time": "2023-08-28T18:06:25.077Z"
   },
   {
    "duration": 40,
    "start_time": "2023-08-28T18:06:25.084Z"
   },
   {
    "duration": 179,
    "start_time": "2023-08-28T18:06:25.125Z"
   },
   {
    "duration": 4,
    "start_time": "2023-08-28T18:06:25.306Z"
   },
   {
    "duration": 23,
    "start_time": "2023-08-28T18:06:25.312Z"
   },
   {
    "duration": 162,
    "start_time": "2023-08-28T18:06:25.336Z"
   },
   {
    "duration": 5,
    "start_time": "2023-08-28T18:06:25.499Z"
   },
   {
    "duration": 38,
    "start_time": "2023-08-28T18:06:25.505Z"
   },
   {
    "duration": 132,
    "start_time": "2023-08-28T18:06:25.544Z"
   },
   {
    "duration": 4,
    "start_time": "2023-08-28T18:06:25.677Z"
   },
   {
    "duration": 22,
    "start_time": "2023-08-28T18:06:25.683Z"
   },
   {
    "duration": 25,
    "start_time": "2023-08-28T18:06:25.706Z"
   },
   {
    "duration": 6,
    "start_time": "2023-08-28T18:06:25.732Z"
   },
   {
    "duration": 6,
    "start_time": "2023-08-28T18:06:25.739Z"
   },
   {
    "duration": 10,
    "start_time": "2023-08-28T18:06:25.746Z"
   },
   {
    "duration": 6,
    "start_time": "2023-08-28T18:06:25.758Z"
   },
   {
    "duration": 676,
    "start_time": "2023-08-28T18:06:25.769Z"
   },
   {
    "duration": 10,
    "start_time": "2023-08-28T18:06:26.446Z"
   },
   {
    "duration": 9,
    "start_time": "2023-08-28T18:06:26.457Z"
   },
   {
    "duration": 46,
    "start_time": "2023-08-28T18:06:26.467Z"
   },
   {
    "duration": 14,
    "start_time": "2023-08-28T18:06:26.515Z"
   },
   {
    "duration": 24,
    "start_time": "2023-08-28T18:06:26.530Z"
   },
   {
    "duration": 38,
    "start_time": "2023-08-28T18:06:26.556Z"
   },
   {
    "duration": 16,
    "start_time": "2023-08-28T18:06:26.595Z"
   },
   {
    "duration": 8,
    "start_time": "2023-08-28T18:06:26.613Z"
   },
   {
    "duration": 7,
    "start_time": "2023-08-28T18:06:26.622Z"
   },
   {
    "duration": 433,
    "start_time": "2023-08-28T18:06:26.630Z"
   },
   {
    "duration": 3,
    "start_time": "2023-08-28T18:06:27.064Z"
   },
   {
    "duration": 8,
    "start_time": "2023-08-28T18:06:27.068Z"
   },
   {
    "duration": 30,
    "start_time": "2023-08-28T18:06:27.077Z"
   },
   {
    "duration": 9,
    "start_time": "2023-08-28T18:06:27.109Z"
   },
   {
    "duration": 123,
    "start_time": "2023-08-28T18:06:27.119Z"
   },
   {
    "duration": 0,
    "start_time": "2023-08-28T18:06:27.243Z"
   },
   {
    "duration": 0,
    "start_time": "2023-08-28T18:06:27.245Z"
   },
   {
    "duration": 0,
    "start_time": "2023-08-28T18:06:27.246Z"
   },
   {
    "duration": 0,
    "start_time": "2023-08-28T18:06:27.247Z"
   },
   {
    "duration": 0,
    "start_time": "2023-08-28T18:06:27.248Z"
   },
   {
    "duration": 0,
    "start_time": "2023-08-28T18:06:27.249Z"
   },
   {
    "duration": 0,
    "start_time": "2023-08-28T18:06:27.250Z"
   },
   {
    "duration": 0,
    "start_time": "2023-08-28T18:06:27.252Z"
   },
   {
    "duration": 0,
    "start_time": "2023-08-28T18:06:27.254Z"
   },
   {
    "duration": 0,
    "start_time": "2023-08-28T18:06:27.255Z"
   },
   {
    "duration": 3,
    "start_time": "2023-08-28T18:07:44.081Z"
   },
   {
    "duration": 46,
    "start_time": "2023-08-28T18:07:44.085Z"
   },
   {
    "duration": 17,
    "start_time": "2023-08-28T18:07:44.132Z"
   },
   {
    "duration": 12,
    "start_time": "2023-08-28T18:07:44.152Z"
   },
   {
    "duration": 32,
    "start_time": "2023-08-28T18:07:44.165Z"
   },
   {
    "duration": 28,
    "start_time": "2023-08-28T18:07:44.199Z"
   },
   {
    "duration": 1116,
    "start_time": "2023-08-28T18:07:44.229Z"
   },
   {
    "duration": 8,
    "start_time": "2023-08-28T18:07:45.348Z"
   },
   {
    "duration": 15,
    "start_time": "2023-08-28T18:07:45.359Z"
   },
   {
    "duration": 16,
    "start_time": "2023-08-28T18:07:45.375Z"
   },
   {
    "duration": 136,
    "start_time": "2023-08-28T18:07:45.392Z"
   },
   {
    "duration": 17,
    "start_time": "2023-08-28T18:07:45.533Z"
   },
   {
    "duration": 21,
    "start_time": "2023-08-28T18:07:45.558Z"
   },
   {
    "duration": 151,
    "start_time": "2023-08-28T18:07:45.581Z"
   },
   {
    "duration": 10,
    "start_time": "2023-08-28T18:07:45.734Z"
   },
   {
    "duration": 20,
    "start_time": "2023-08-28T18:07:45.750Z"
   },
   {
    "duration": 180,
    "start_time": "2023-08-28T18:07:45.772Z"
   },
   {
    "duration": 12,
    "start_time": "2023-08-28T18:07:45.954Z"
   },
   {
    "duration": 16,
    "start_time": "2023-08-28T18:07:45.968Z"
   },
   {
    "duration": 179,
    "start_time": "2023-08-28T18:07:45.986Z"
   },
   {
    "duration": 4,
    "start_time": "2023-08-28T18:07:46.167Z"
   },
   {
    "duration": 31,
    "start_time": "2023-08-28T18:07:46.173Z"
   },
   {
    "duration": 22,
    "start_time": "2023-08-28T18:07:46.206Z"
   },
   {
    "duration": 27,
    "start_time": "2023-08-28T18:07:46.231Z"
   },
   {
    "duration": 16,
    "start_time": "2023-08-28T18:07:46.261Z"
   },
   {
    "duration": 33,
    "start_time": "2023-08-28T18:07:46.278Z"
   },
   {
    "duration": 30,
    "start_time": "2023-08-28T18:07:46.313Z"
   },
   {
    "duration": 28,
    "start_time": "2023-08-28T18:07:46.346Z"
   },
   {
    "duration": 12,
    "start_time": "2023-08-28T18:07:46.376Z"
   },
   {
    "duration": 11,
    "start_time": "2023-08-28T18:07:46.389Z"
   },
   {
    "duration": 11,
    "start_time": "2023-08-28T18:07:46.402Z"
   },
   {
    "duration": 32,
    "start_time": "2023-08-28T18:07:46.414Z"
   },
   {
    "duration": 15,
    "start_time": "2023-08-28T18:07:46.448Z"
   },
   {
    "duration": 34,
    "start_time": "2023-08-28T18:07:46.464Z"
   },
   {
    "duration": 11,
    "start_time": "2023-08-28T18:07:46.499Z"
   },
   {
    "duration": 19,
    "start_time": "2023-08-28T18:07:46.511Z"
   },
   {
    "duration": 31,
    "start_time": "2023-08-28T18:07:46.531Z"
   },
   {
    "duration": 10,
    "start_time": "2023-08-28T18:07:46.564Z"
   },
   {
    "duration": 17,
    "start_time": "2023-08-28T18:07:46.576Z"
   },
   {
    "duration": 4,
    "start_time": "2023-08-28T18:07:46.595Z"
   },
   {
    "duration": 8,
    "start_time": "2023-08-28T18:07:46.601Z"
   },
   {
    "duration": 4,
    "start_time": "2023-08-28T18:07:46.611Z"
   },
   {
    "duration": 5,
    "start_time": "2023-08-28T18:07:46.616Z"
   },
   {
    "duration": 16,
    "start_time": "2023-08-28T18:07:46.622Z"
   },
   {
    "duration": 12,
    "start_time": "2023-08-28T18:07:46.641Z"
   },
   {
    "duration": 7,
    "start_time": "2023-08-28T18:07:46.656Z"
   },
   {
    "duration": 34,
    "start_time": "2023-08-28T18:07:46.664Z"
   },
   {
    "duration": 0,
    "start_time": "2023-08-28T18:07:46.699Z"
   },
   {
    "duration": 0,
    "start_time": "2023-08-28T18:07:46.700Z"
   },
   {
    "duration": 0,
    "start_time": "2023-08-28T18:07:46.701Z"
   },
   {
    "duration": 0,
    "start_time": "2023-08-28T18:07:46.702Z"
   },
   {
    "duration": 0,
    "start_time": "2023-08-28T18:07:46.703Z"
   },
   {
    "duration": 0,
    "start_time": "2023-08-28T18:07:46.704Z"
   },
   {
    "duration": 4,
    "start_time": "2023-08-28T18:08:23.747Z"
   },
   {
    "duration": 4,
    "start_time": "2023-08-28T18:08:24.758Z"
   },
   {
    "duration": 4,
    "start_time": "2023-08-28T18:08:25.467Z"
   },
   {
    "duration": 13,
    "start_time": "2023-08-28T18:08:28.092Z"
   },
   {
    "duration": 3,
    "start_time": "2023-08-28T18:08:57.841Z"
   },
   {
    "duration": 34,
    "start_time": "2023-08-28T18:08:57.853Z"
   },
   {
    "duration": 11,
    "start_time": "2023-08-28T18:08:57.889Z"
   },
   {
    "duration": 19,
    "start_time": "2023-08-28T18:08:57.901Z"
   },
   {
    "duration": 16,
    "start_time": "2023-08-28T18:08:57.922Z"
   },
   {
    "duration": 12,
    "start_time": "2023-08-28T18:08:57.941Z"
   },
   {
    "duration": 862,
    "start_time": "2023-08-28T18:08:57.955Z"
   },
   {
    "duration": 6,
    "start_time": "2023-08-28T18:08:58.819Z"
   },
   {
    "duration": 5,
    "start_time": "2023-08-28T18:08:58.836Z"
   },
   {
    "duration": 9,
    "start_time": "2023-08-28T18:08:58.843Z"
   },
   {
    "duration": 253,
    "start_time": "2023-08-28T18:08:58.853Z"
   },
   {
    "duration": 4,
    "start_time": "2023-08-28T18:08:59.107Z"
   },
   {
    "duration": 20,
    "start_time": "2023-08-28T18:08:59.113Z"
   },
   {
    "duration": 140,
    "start_time": "2023-08-28T18:08:59.135Z"
   },
   {
    "duration": 3,
    "start_time": "2023-08-28T18:08:59.278Z"
   },
   {
    "duration": 20,
    "start_time": "2023-08-28T18:08:59.283Z"
   },
   {
    "duration": 153,
    "start_time": "2023-08-28T18:08:59.304Z"
   },
   {
    "duration": 5,
    "start_time": "2023-08-28T18:08:59.458Z"
   },
   {
    "duration": 17,
    "start_time": "2023-08-28T18:08:59.464Z"
   },
   {
    "duration": 137,
    "start_time": "2023-08-28T18:08:59.482Z"
   },
   {
    "duration": 4,
    "start_time": "2023-08-28T18:08:59.621Z"
   },
   {
    "duration": 20,
    "start_time": "2023-08-28T18:08:59.633Z"
   },
   {
    "duration": 50,
    "start_time": "2023-08-28T18:08:59.655Z"
   },
   {
    "duration": 79,
    "start_time": "2023-08-28T18:08:59.707Z"
   },
   {
    "duration": 32,
    "start_time": "2023-08-28T18:08:59.788Z"
   },
   {
    "duration": 21,
    "start_time": "2023-08-28T18:08:59.822Z"
   },
   {
    "duration": 41,
    "start_time": "2023-08-28T18:08:59.845Z"
   },
   {
    "duration": 18,
    "start_time": "2023-08-28T18:08:59.887Z"
   },
   {
    "duration": 26,
    "start_time": "2023-08-28T18:08:59.906Z"
   },
   {
    "duration": 9,
    "start_time": "2023-08-28T18:08:59.943Z"
   },
   {
    "duration": 19,
    "start_time": "2023-08-28T18:08:59.953Z"
   },
   {
    "duration": 25,
    "start_time": "2023-08-28T18:08:59.973Z"
   },
   {
    "duration": 15,
    "start_time": "2023-08-28T18:08:59.999Z"
   },
   {
    "duration": 32,
    "start_time": "2023-08-28T18:09:00.015Z"
   },
   {
    "duration": 47,
    "start_time": "2023-08-28T18:09:00.051Z"
   },
   {
    "duration": 51,
    "start_time": "2023-08-28T18:09:00.100Z"
   },
   {
    "duration": 44,
    "start_time": "2023-08-28T18:09:00.153Z"
   },
   {
    "duration": 31,
    "start_time": "2023-08-28T18:09:00.198Z"
   },
   {
    "duration": 28,
    "start_time": "2023-08-28T18:09:00.230Z"
   },
   {
    "duration": 38,
    "start_time": "2023-08-28T18:09:00.260Z"
   },
   {
    "duration": 39,
    "start_time": "2023-08-28T18:09:00.300Z"
   },
   {
    "duration": 30,
    "start_time": "2023-08-28T18:09:00.348Z"
   },
   {
    "duration": 49,
    "start_time": "2023-08-28T18:09:00.379Z"
   },
   {
    "duration": 32,
    "start_time": "2023-08-28T18:09:00.430Z"
   },
   {
    "duration": 51,
    "start_time": "2023-08-28T18:09:00.463Z"
   },
   {
    "duration": 60,
    "start_time": "2023-08-28T18:09:00.516Z"
   },
   {
    "duration": 60,
    "start_time": "2023-08-28T18:09:00.577Z"
   },
   {
    "duration": 53,
    "start_time": "2023-08-28T18:09:00.642Z"
   },
   {
    "duration": 48,
    "start_time": "2023-08-28T18:09:00.696Z"
   },
   {
    "duration": 164,
    "start_time": "2023-08-28T18:09:00.746Z"
   },
   {
    "duration": 347,
    "start_time": "2023-08-28T18:09:00.912Z"
   },
   {
    "duration": 682,
    "start_time": "2023-08-28T18:09:01.261Z"
   },
   {
    "duration": 609,
    "start_time": "2023-08-28T18:09:01.945Z"
   },
   {
    "duration": 4,
    "start_time": "2023-08-28T18:11:00.054Z"
   },
   {
    "duration": 621,
    "start_time": "2023-08-28T18:11:01.625Z"
   },
   {
    "duration": 3,
    "start_time": "2023-08-28T18:11:38.291Z"
   },
   {
    "duration": 3,
    "start_time": "2023-08-28T18:11:39.452Z"
   },
   {
    "duration": 2,
    "start_time": "2023-08-28T18:11:39.986Z"
   },
   {
    "duration": 3,
    "start_time": "2023-08-28T18:11:40.916Z"
   },
   {
    "duration": 8,
    "start_time": "2023-08-28T18:11:41.636Z"
   },
   {
    "duration": 7,
    "start_time": "2023-08-28T18:11:42.445Z"
   },
   {
    "duration": 3,
    "start_time": "2023-08-28T18:11:42.954Z"
   },
   {
    "duration": 4,
    "start_time": "2023-08-28T18:11:43.396Z"
   },
   {
    "duration": 5,
    "start_time": "2023-08-28T18:11:43.884Z"
   },
   {
    "duration": 52,
    "start_time": "2023-08-28T18:11:44.455Z"
   },
   {
    "duration": 307,
    "start_time": "2023-08-28T18:11:45.249Z"
   },
   {
    "duration": 508,
    "start_time": "2023-08-28T18:11:46.350Z"
   },
   {
    "duration": 454,
    "start_time": "2023-08-28T18:11:47.505Z"
   },
   {
    "duration": 3,
    "start_time": "2023-08-28T18:12:02.712Z"
   },
   {
    "duration": 2,
    "start_time": "2023-08-28T18:12:11.993Z"
   },
   {
    "duration": 38,
    "start_time": "2023-08-28T18:12:12.824Z"
   },
   {
    "duration": 15,
    "start_time": "2023-08-28T18:12:13.822Z"
   },
   {
    "duration": 11,
    "start_time": "2023-08-28T18:12:18.016Z"
   },
   {
    "duration": 10,
    "start_time": "2023-08-28T18:12:20.054Z"
   },
   {
    "duration": 6,
    "start_time": "2023-08-28T18:12:23.185Z"
   },
   {
    "duration": 6,
    "start_time": "2023-08-28T18:12:24.173Z"
   },
   {
    "duration": 856,
    "start_time": "2023-08-28T18:12:25.438Z"
   },
   {
    "duration": 5,
    "start_time": "2023-08-28T18:12:29.415Z"
   },
   {
    "duration": 5,
    "start_time": "2023-08-28T18:12:30.470Z"
   },
   {
    "duration": 7,
    "start_time": "2023-08-28T18:12:32.275Z"
   },
   {
    "duration": 128,
    "start_time": "2023-08-28T18:12:32.967Z"
   },
   {
    "duration": 4,
    "start_time": "2023-08-28T18:12:33.622Z"
   },
   {
    "duration": 7,
    "start_time": "2023-08-28T18:12:34.238Z"
   },
   {
    "duration": 127,
    "start_time": "2023-08-28T18:12:34.815Z"
   },
   {
    "duration": 4,
    "start_time": "2023-08-28T18:12:35.426Z"
   },
   {
    "duration": 7,
    "start_time": "2023-08-28T18:12:36.066Z"
   },
   {
    "duration": 139,
    "start_time": "2023-08-28T18:12:36.725Z"
   },
   {
    "duration": 5,
    "start_time": "2023-08-28T18:12:37.418Z"
   },
   {
    "duration": 8,
    "start_time": "2023-08-28T18:12:38.060Z"
   },
   {
    "duration": 121,
    "start_time": "2023-08-28T18:12:38.708Z"
   },
   {
    "duration": 4,
    "start_time": "2023-08-28T18:12:39.342Z"
   },
   {
    "duration": 7,
    "start_time": "2023-08-28T18:12:40.002Z"
   },
   {
    "duration": 5,
    "start_time": "2023-08-28T18:12:40.586Z"
   },
   {
    "duration": 6,
    "start_time": "2023-08-28T18:12:41.162Z"
   },
   {
    "duration": 4,
    "start_time": "2023-08-28T18:12:41.774Z"
   },
   {
    "duration": 4,
    "start_time": "2023-08-28T18:12:42.523Z"
   },
   {
    "duration": 5,
    "start_time": "2023-08-28T18:12:43.147Z"
   },
   {
    "duration": 3,
    "start_time": "2023-08-28T18:12:44.450Z"
   },
   {
    "duration": 14,
    "start_time": "2023-08-28T18:12:45.244Z"
   },
   {
    "duration": 4,
    "start_time": "2023-08-28T18:12:46.002Z"
   },
   {
    "duration": 8,
    "start_time": "2023-08-28T18:12:53.405Z"
   },
   {
    "duration": 6,
    "start_time": "2023-08-28T18:12:54.677Z"
   },
   {
    "duration": 6,
    "start_time": "2023-08-28T18:12:55.683Z"
   },
   {
    "duration": 4,
    "start_time": "2023-08-28T18:12:56.653Z"
   },
   {
    "duration": 4,
    "start_time": "2023-08-28T18:12:58.056Z"
   },
   {
    "duration": 6,
    "start_time": "2023-08-28T18:13:04.105Z"
   },
   {
    "duration": 5,
    "start_time": "2023-08-28T18:13:06.352Z"
   },
   {
    "duration": 3,
    "start_time": "2023-08-28T18:13:08.017Z"
   },
   {
    "duration": 11,
    "start_time": "2023-08-28T18:13:12.024Z"
   },
   {
    "duration": 2,
    "start_time": "2023-08-28T18:13:14.951Z"
   },
   {
    "duration": 3,
    "start_time": "2023-08-28T18:13:16.367Z"
   },
   {
    "duration": 3,
    "start_time": "2023-08-28T18:13:17.111Z"
   },
   {
    "duration": 2,
    "start_time": "2023-08-28T18:13:22.264Z"
   },
   {
    "duration": 3,
    "start_time": "2023-08-28T18:13:22.859Z"
   },
   {
    "duration": 4,
    "start_time": "2023-08-28T18:13:23.979Z"
   },
   {
    "duration": 4,
    "start_time": "2023-08-28T18:13:25.190Z"
   },
   {
    "duration": 4,
    "start_time": "2023-08-28T18:13:25.863Z"
   },
   {
    "duration": 4,
    "start_time": "2023-08-28T18:13:26.553Z"
   },
   {
    "duration": 4,
    "start_time": "2023-08-28T18:13:27.318Z"
   },
   {
    "duration": 67,
    "start_time": "2023-08-28T18:13:28.039Z"
   },
   {
    "duration": 278,
    "start_time": "2023-08-28T18:13:28.981Z"
   },
   {
    "duration": 582,
    "start_time": "2023-08-28T18:13:30.268Z"
   },
   {
    "duration": 514,
    "start_time": "2023-08-28T18:13:32.451Z"
   },
   {
    "duration": 3,
    "start_time": "2023-08-28T18:18:23.177Z"
   },
   {
    "duration": 4,
    "start_time": "2023-08-28T18:18:23.826Z"
   },
   {
    "duration": 4,
    "start_time": "2023-08-28T18:18:24.397Z"
   },
   {
    "duration": 6,
    "start_time": "2023-08-28T18:18:24.923Z"
   },
   {
    "duration": 59,
    "start_time": "2023-08-28T18:18:25.561Z"
   },
   {
    "duration": 285,
    "start_time": "2023-08-28T18:18:26.356Z"
   },
   {
    "duration": 380,
    "start_time": "2023-08-28T18:18:27.464Z"
   },
   {
    "duration": 375,
    "start_time": "2023-08-28T18:18:28.585Z"
   },
   {
    "duration": 4,
    "start_time": "2023-08-28T18:20:28.813Z"
   },
   {
    "duration": 64,
    "start_time": "2023-08-28T18:20:31.856Z"
   },
   {
    "duration": 15,
    "start_time": "2023-08-28T18:20:40.732Z"
   },
   {
    "duration": 4,
    "start_time": "2023-08-28T18:20:47.985Z"
   },
   {
    "duration": 4,
    "start_time": "2023-08-28T18:21:36.349Z"
   },
   {
    "duration": 5,
    "start_time": "2023-08-28T18:21:36.948Z"
   },
   {
    "duration": 8,
    "start_time": "2023-08-28T18:21:37.639Z"
   },
   {
    "duration": 4,
    "start_time": "2023-08-28T18:21:38.409Z"
   },
   {
    "duration": 66,
    "start_time": "2023-08-28T18:21:39.115Z"
   },
   {
    "duration": 510,
    "start_time": "2023-08-28T18:21:40.055Z"
   },
   {
    "duration": 527,
    "start_time": "2023-08-28T18:21:41.112Z"
   },
   {
    "duration": 649,
    "start_time": "2023-08-28T18:21:42.296Z"
   },
   {
    "duration": 4,
    "start_time": "2023-08-28T18:21:52.097Z"
   },
   {
    "duration": 3,
    "start_time": "2023-08-28T18:21:52.689Z"
   },
   {
    "duration": 4,
    "start_time": "2023-08-28T18:21:53.352Z"
   },
   {
    "duration": 5,
    "start_time": "2023-08-28T18:21:53.866Z"
   },
   {
    "duration": 5,
    "start_time": "2023-08-28T18:21:54.402Z"
   },
   {
    "duration": 82,
    "start_time": "2023-08-28T18:21:55.017Z"
   },
   {
    "duration": 455,
    "start_time": "2023-08-28T18:21:58.305Z"
   },
   {
    "duration": 728,
    "start_time": "2023-08-28T18:22:00.231Z"
   },
   {
    "duration": 792,
    "start_time": "2023-08-28T18:22:02.049Z"
   },
   {
    "duration": 3,
    "start_time": "2023-08-28T18:25:35.672Z"
   },
   {
    "duration": 64,
    "start_time": "2023-08-28T18:25:35.677Z"
   },
   {
    "duration": 9,
    "start_time": "2023-08-28T18:25:35.743Z"
   },
   {
    "duration": 20,
    "start_time": "2023-08-28T18:25:35.753Z"
   },
   {
    "duration": 19,
    "start_time": "2023-08-28T18:25:35.775Z"
   },
   {
    "duration": 17,
    "start_time": "2023-08-28T18:25:35.796Z"
   },
   {
    "duration": 983,
    "start_time": "2023-08-28T18:25:35.815Z"
   },
   {
    "duration": 5,
    "start_time": "2023-08-28T18:25:36.800Z"
   },
   {
    "duration": 12,
    "start_time": "2023-08-28T18:25:36.807Z"
   },
   {
    "duration": 43,
    "start_time": "2023-08-28T18:25:36.821Z"
   },
   {
    "duration": 140,
    "start_time": "2023-08-28T18:25:36.866Z"
   },
   {
    "duration": 4,
    "start_time": "2023-08-28T18:25:37.008Z"
   },
   {
    "duration": 22,
    "start_time": "2023-08-28T18:25:37.015Z"
   },
   {
    "duration": 142,
    "start_time": "2023-08-28T18:25:37.039Z"
   },
   {
    "duration": 5,
    "start_time": "2023-08-28T18:25:37.184Z"
   },
   {
    "duration": 13,
    "start_time": "2023-08-28T18:25:37.191Z"
   },
   {
    "duration": 166,
    "start_time": "2023-08-28T18:25:37.205Z"
   },
   {
    "duration": 6,
    "start_time": "2023-08-28T18:25:37.373Z"
   },
   {
    "duration": 28,
    "start_time": "2023-08-28T18:25:37.380Z"
   },
   {
    "duration": 151,
    "start_time": "2023-08-28T18:25:37.410Z"
   },
   {
    "duration": 8,
    "start_time": "2023-08-28T18:25:37.563Z"
   },
   {
    "duration": 37,
    "start_time": "2023-08-28T18:25:37.572Z"
   },
   {
    "duration": 35,
    "start_time": "2023-08-28T18:25:37.611Z"
   },
   {
    "duration": 19,
    "start_time": "2023-08-28T18:25:37.648Z"
   },
   {
    "duration": 7,
    "start_time": "2023-08-28T18:25:37.669Z"
   },
   {
    "duration": 8,
    "start_time": "2023-08-28T18:25:37.678Z"
   },
   {
    "duration": 20,
    "start_time": "2023-08-28T18:25:37.688Z"
   },
   {
    "duration": 35,
    "start_time": "2023-08-28T18:25:37.710Z"
   },
   {
    "duration": 22,
    "start_time": "2023-08-28T18:25:37.747Z"
   },
   {
    "duration": 14,
    "start_time": "2023-08-28T18:25:37.771Z"
   },
   {
    "duration": 20,
    "start_time": "2023-08-28T18:25:37.787Z"
   },
   {
    "duration": 6,
    "start_time": "2023-08-28T18:25:37.809Z"
   },
   {
    "duration": 22,
    "start_time": "2023-08-28T18:25:37.817Z"
   },
   {
    "duration": 18,
    "start_time": "2023-08-28T18:25:37.841Z"
   },
   {
    "duration": 17,
    "start_time": "2023-08-28T18:25:37.861Z"
   },
   {
    "duration": 17,
    "start_time": "2023-08-28T18:25:37.880Z"
   },
   {
    "duration": 5,
    "start_time": "2023-08-28T18:25:37.901Z"
   },
   {
    "duration": 11,
    "start_time": "2023-08-28T18:25:37.908Z"
   },
   {
    "duration": 19,
    "start_time": "2023-08-28T18:25:37.921Z"
   },
   {
    "duration": 20,
    "start_time": "2023-08-28T18:25:37.942Z"
   },
   {
    "duration": 7,
    "start_time": "2023-08-28T18:25:37.963Z"
   },
   {
    "duration": 6,
    "start_time": "2023-08-28T18:25:45.081Z"
   },
   {
    "duration": 5,
    "start_time": "2023-08-28T18:25:52.115Z"
   },
   {
    "duration": 4,
    "start_time": "2023-08-28T18:25:52.732Z"
   },
   {
    "duration": 5,
    "start_time": "2023-08-28T18:25:53.447Z"
   },
   {
    "duration": 6,
    "start_time": "2023-08-28T18:25:54.149Z"
   },
   {
    "duration": 84,
    "start_time": "2023-08-28T18:25:54.856Z"
   },
   {
    "duration": 387,
    "start_time": "2023-08-28T18:25:57.254Z"
   },
   {
    "duration": 505,
    "start_time": "2023-08-28T18:26:00.546Z"
   },
   {
    "duration": 568,
    "start_time": "2023-08-28T18:26:03.079Z"
   },
   {
    "duration": 3,
    "start_time": "2023-08-28T18:43:00.085Z"
   },
   {
    "duration": 5,
    "start_time": "2023-08-28T18:43:02.283Z"
   },
   {
    "duration": 6,
    "start_time": "2023-08-28T18:43:14.002Z"
   },
   {
    "duration": 19,
    "start_time": "2023-08-28T18:43:43.044Z"
   },
   {
    "duration": 392,
    "start_time": "2023-08-28T18:44:46.666Z"
   },
   {
    "duration": 29,
    "start_time": "2023-08-28T18:44:47.060Z"
   },
   {
    "duration": 19,
    "start_time": "2023-08-28T18:44:47.090Z"
   },
   {
    "duration": 11,
    "start_time": "2023-08-28T18:44:47.112Z"
   },
   {
    "duration": 8,
    "start_time": "2023-08-28T18:44:47.125Z"
   },
   {
    "duration": 22,
    "start_time": "2023-08-28T18:44:47.142Z"
   },
   {
    "duration": 1224,
    "start_time": "2023-08-28T18:44:47.166Z"
   },
   {
    "duration": 6,
    "start_time": "2023-08-28T18:44:48.392Z"
   },
   {
    "duration": 11,
    "start_time": "2023-08-28T18:44:48.400Z"
   },
   {
    "duration": 28,
    "start_time": "2023-08-28T18:44:48.414Z"
   },
   {
    "duration": 268,
    "start_time": "2023-08-28T18:44:48.450Z"
   },
   {
    "duration": 20,
    "start_time": "2023-08-28T18:44:48.720Z"
   },
   {
    "duration": 10,
    "start_time": "2023-08-28T18:44:48.746Z"
   },
   {
    "duration": 145,
    "start_time": "2023-08-28T18:44:48.758Z"
   },
   {
    "duration": 5,
    "start_time": "2023-08-28T18:44:48.904Z"
   },
   {
    "duration": 24,
    "start_time": "2023-08-28T18:44:48.912Z"
   },
   {
    "duration": 178,
    "start_time": "2023-08-28T18:44:48.938Z"
   },
   {
    "duration": 5,
    "start_time": "2023-08-28T18:44:49.118Z"
   },
   {
    "duration": 24,
    "start_time": "2023-08-28T18:44:49.125Z"
   },
   {
    "duration": 151,
    "start_time": "2023-08-28T18:44:49.155Z"
   },
   {
    "duration": 5,
    "start_time": "2023-08-28T18:44:49.309Z"
   },
   {
    "duration": 21,
    "start_time": "2023-08-28T18:44:49.316Z"
   },
   {
    "duration": 20,
    "start_time": "2023-08-28T18:44:49.342Z"
   },
   {
    "duration": 11,
    "start_time": "2023-08-28T18:44:49.363Z"
   },
   {
    "duration": 11,
    "start_time": "2023-08-28T18:44:49.376Z"
   },
   {
    "duration": 13,
    "start_time": "2023-08-28T18:44:49.389Z"
   },
   {
    "duration": 15,
    "start_time": "2023-08-28T18:44:49.403Z"
   },
   {
    "duration": 784,
    "start_time": "2023-08-28T18:44:49.422Z"
   },
   {
    "duration": 10,
    "start_time": "2023-08-28T18:44:50.208Z"
   },
   {
    "duration": 9,
    "start_time": "2023-08-28T18:44:50.220Z"
   },
   {
    "duration": 34,
    "start_time": "2023-08-28T18:44:50.231Z"
   },
   {
    "duration": 26,
    "start_time": "2023-08-28T18:44:50.267Z"
   },
   {
    "duration": 11,
    "start_time": "2023-08-28T18:44:50.295Z"
   },
   {
    "duration": 5,
    "start_time": "2023-08-28T18:44:50.308Z"
   },
   {
    "duration": 17,
    "start_time": "2023-08-28T18:44:50.315Z"
   },
   {
    "duration": 9,
    "start_time": "2023-08-28T18:44:50.338Z"
   },
   {
    "duration": 10,
    "start_time": "2023-08-28T18:44:50.348Z"
   },
   {
    "duration": 504,
    "start_time": "2023-08-28T18:44:50.359Z"
   },
   {
    "duration": 3,
    "start_time": "2023-08-28T18:44:50.865Z"
   },
   {
    "duration": 27,
    "start_time": "2023-08-28T18:44:50.870Z"
   },
   {
    "duration": 17,
    "start_time": "2023-08-28T18:44:50.899Z"
   },
   {
    "duration": 8,
    "start_time": "2023-08-28T18:44:50.918Z"
   },
   {
    "duration": 18,
    "start_time": "2023-08-28T18:44:50.928Z"
   },
   {
    "duration": 16,
    "start_time": "2023-08-28T18:44:50.949Z"
   },
   {
    "duration": 25,
    "start_time": "2023-08-28T18:44:50.968Z"
   },
   {
    "duration": 12,
    "start_time": "2023-08-28T18:44:50.994Z"
   },
   {
    "duration": 12,
    "start_time": "2023-08-28T18:44:51.007Z"
   },
   {
    "duration": 25,
    "start_time": "2023-08-28T18:44:51.021Z"
   },
   {
    "duration": 26,
    "start_time": "2023-08-28T18:44:51.051Z"
   },
   {
    "duration": 102,
    "start_time": "2023-08-28T18:44:51.079Z"
   },
   {
    "duration": 590,
    "start_time": "2023-08-28T18:44:51.185Z"
   },
   {
    "duration": 891,
    "start_time": "2023-08-28T18:44:51.777Z"
   },
   {
    "duration": 903,
    "start_time": "2023-08-28T18:44:52.671Z"
   },
   {
    "duration": 60,
    "start_time": "2023-08-28T18:44:53.575Z"
   },
   {
    "duration": 10,
    "start_time": "2023-08-28T18:44:53.646Z"
   },
   {
    "duration": 189,
    "start_time": "2023-08-28T18:44:53.658Z"
   },
   {
    "duration": 3,
    "start_time": "2023-08-28T18:47:23.118Z"
   },
   {
    "duration": 3,
    "start_time": "2023-08-28T18:47:32.368Z"
   },
   {
    "duration": 17,
    "start_time": "2023-08-28T18:47:40.131Z"
   },
   {
    "duration": 13,
    "start_time": "2023-08-28T18:47:41.307Z"
   },
   {
    "duration": 5,
    "start_time": "2023-08-28T18:47:51.422Z"
   },
   {
    "duration": 14,
    "start_time": "2023-08-28T18:47:52.354Z"
   },
   {
    "duration": 2,
    "start_time": "2023-08-28T18:48:13.971Z"
   },
   {
    "duration": 3,
    "start_time": "2023-08-28T18:48:14.486Z"
   },
   {
    "duration": 7,
    "start_time": "2023-08-28T18:48:14.951Z"
   },
   {
    "duration": 14,
    "start_time": "2023-08-28T18:48:15.838Z"
   },
   {
    "duration": 5,
    "start_time": "2023-08-28T18:48:35.106Z"
   },
   {
    "duration": 13,
    "start_time": "2023-08-28T18:48:35.809Z"
   },
   {
    "duration": 5,
    "start_time": "2023-08-28T18:50:18.660Z"
   },
   {
    "duration": 106,
    "start_time": "2023-08-28T18:50:20.260Z"
   },
   {
    "duration": 345,
    "start_time": "2023-08-28T19:02:22.278Z"
   },
   {
    "duration": 27,
    "start_time": "2023-08-28T19:02:22.625Z"
   },
   {
    "duration": 16,
    "start_time": "2023-08-28T19:02:22.654Z"
   },
   {
    "duration": 11,
    "start_time": "2023-08-28T19:02:22.672Z"
   },
   {
    "duration": 12,
    "start_time": "2023-08-28T19:02:22.684Z"
   },
   {
    "duration": 9,
    "start_time": "2023-08-28T19:02:22.698Z"
   },
   {
    "duration": 1087,
    "start_time": "2023-08-28T19:02:22.709Z"
   },
   {
    "duration": 5,
    "start_time": "2023-08-28T19:02:23.797Z"
   },
   {
    "duration": 16,
    "start_time": "2023-08-28T19:02:23.804Z"
   },
   {
    "duration": 33,
    "start_time": "2023-08-28T19:02:23.822Z"
   },
   {
    "duration": 180,
    "start_time": "2023-08-28T19:02:23.857Z"
   },
   {
    "duration": 5,
    "start_time": "2023-08-28T19:02:24.039Z"
   },
   {
    "duration": 18,
    "start_time": "2023-08-28T19:02:24.046Z"
   },
   {
    "duration": 143,
    "start_time": "2023-08-28T19:02:24.065Z"
   },
   {
    "duration": 5,
    "start_time": "2023-08-28T19:02:24.209Z"
   },
   {
    "duration": 19,
    "start_time": "2023-08-28T19:02:24.215Z"
   },
   {
    "duration": 154,
    "start_time": "2023-08-28T19:02:24.236Z"
   },
   {
    "duration": 4,
    "start_time": "2023-08-28T19:02:24.392Z"
   },
   {
    "duration": 13,
    "start_time": "2023-08-28T19:02:24.398Z"
   },
   {
    "duration": 221,
    "start_time": "2023-08-28T19:02:24.413Z"
   },
   {
    "duration": 6,
    "start_time": "2023-08-28T19:02:24.636Z"
   },
   {
    "duration": 7,
    "start_time": "2023-08-28T19:02:24.644Z"
   },
   {
    "duration": 5,
    "start_time": "2023-08-28T19:02:24.653Z"
   },
   {
    "duration": 8,
    "start_time": "2023-08-28T19:02:24.659Z"
   },
   {
    "duration": 5,
    "start_time": "2023-08-28T19:02:24.669Z"
   },
   {
    "duration": 16,
    "start_time": "2023-08-28T19:02:24.676Z"
   },
   {
    "duration": 11,
    "start_time": "2023-08-28T19:02:24.695Z"
   },
   {
    "duration": 687,
    "start_time": "2023-08-28T19:03:02.947Z"
   },
   {
    "duration": 10,
    "start_time": "2023-08-28T19:03:03.636Z"
   },
   {
    "duration": 5,
    "start_time": "2023-08-28T19:03:04.717Z"
   },
   {
    "duration": 9,
    "start_time": "2023-08-28T19:03:05.350Z"
   },
   {
    "duration": 5,
    "start_time": "2023-08-28T19:03:05.921Z"
   },
   {
    "duration": 7,
    "start_time": "2023-08-28T19:03:06.914Z"
   },
   {
    "duration": 5,
    "start_time": "2023-08-28T19:03:12.550Z"
   },
   {
    "duration": 4,
    "start_time": "2023-08-28T19:03:13.253Z"
   },
   {
    "duration": 2,
    "start_time": "2023-08-28T19:03:15.653Z"
   },
   {
    "duration": 8,
    "start_time": "2023-08-28T19:03:16.099Z"
   },
   {
    "duration": 6,
    "start_time": "2023-08-28T19:03:16.584Z"
   },
   {
    "duration": 577,
    "start_time": "2023-08-28T19:03:19.910Z"
   },
   {
    "duration": 6,
    "start_time": "2023-08-28T19:03:20.489Z"
   },
   {
    "duration": 4,
    "start_time": "2023-08-28T19:03:20.974Z"
   },
   {
    "duration": 3,
    "start_time": "2023-08-28T19:03:21.618Z"
   },
   {
    "duration": 3,
    "start_time": "2023-08-28T19:03:22.415Z"
   },
   {
    "duration": 3,
    "start_time": "2023-08-28T19:03:22.877Z"
   },
   {
    "duration": 3,
    "start_time": "2023-08-28T19:03:23.318Z"
   },
   {
    "duration": 6,
    "start_time": "2023-08-28T19:03:24.362Z"
   },
   {
    "duration": 4,
    "start_time": "2023-08-28T19:03:24.871Z"
   },
   {
    "duration": 10,
    "start_time": "2023-08-28T19:03:25.433Z"
   },
   {
    "duration": 4,
    "start_time": "2023-08-28T19:03:25.910Z"
   },
   {
    "duration": 5,
    "start_time": "2023-08-28T19:03:26.381Z"
   },
   {
    "duration": 90,
    "start_time": "2023-08-28T19:03:26.998Z"
   },
   {
    "duration": 502,
    "start_time": "2023-08-28T19:03:27.747Z"
   },
   {
    "duration": 467,
    "start_time": "2023-08-28T19:03:29.194Z"
   },
   {
    "duration": 555,
    "start_time": "2023-08-28T19:03:30.304Z"
   },
   {
    "duration": 3,
    "start_time": "2023-08-28T19:03:46.326Z"
   },
   {
    "duration": 59,
    "start_time": "2023-08-28T19:03:49.245Z"
   },
   {
    "duration": 4,
    "start_time": "2023-08-28T19:04:07.587Z"
   },
   {
    "duration": 493,
    "start_time": "2023-08-28T19:04:10.952Z"
   },
   {
    "duration": 4,
    "start_time": "2023-08-28T19:04:27.822Z"
   },
   {
    "duration": 493,
    "start_time": "2023-08-28T19:04:31.354Z"
   },
   {
    "duration": 4,
    "start_time": "2023-08-28T19:07:45.512Z"
   },
   {
    "duration": 9,
    "start_time": "2023-08-28T19:08:46.322Z"
   },
   {
    "duration": 28,
    "start_time": "2023-08-28T19:08:53.869Z"
   },
   {
    "duration": 9,
    "start_time": "2023-08-28T19:08:54.613Z"
   },
   {
    "duration": 13,
    "start_time": "2023-08-28T19:08:55.455Z"
   },
   {
    "duration": 7,
    "start_time": "2023-08-28T19:08:56.310Z"
   },
   {
    "duration": 7,
    "start_time": "2023-08-28T19:08:56.848Z"
   },
   {
    "duration": 965,
    "start_time": "2023-08-28T19:08:57.736Z"
   },
   {
    "duration": 5,
    "start_time": "2023-08-28T19:09:00.214Z"
   },
   {
    "duration": 5,
    "start_time": "2023-08-28T19:09:00.786Z"
   },
   {
    "duration": 8,
    "start_time": "2023-08-28T19:09:01.285Z"
   },
   {
    "duration": 140,
    "start_time": "2023-08-28T19:09:01.780Z"
   },
   {
    "duration": 6,
    "start_time": "2023-08-28T19:09:02.273Z"
   },
   {
    "duration": 7,
    "start_time": "2023-08-28T19:09:02.872Z"
   },
   {
    "duration": 149,
    "start_time": "2023-08-28T19:09:03.360Z"
   },
   {
    "duration": 5,
    "start_time": "2023-08-28T19:09:03.961Z"
   },
   {
    "duration": 12,
    "start_time": "2023-08-28T19:09:04.538Z"
   },
   {
    "duration": 162,
    "start_time": "2023-08-28T19:09:05.080Z"
   },
   {
    "duration": 4,
    "start_time": "2023-08-28T19:09:05.650Z"
   },
   {
    "duration": 8,
    "start_time": "2023-08-28T19:09:06.214Z"
   },
   {
    "duration": 138,
    "start_time": "2023-08-28T19:09:06.752Z"
   },
   {
    "duration": 4,
    "start_time": "2023-08-28T19:09:07.410Z"
   },
   {
    "duration": 5,
    "start_time": "2023-08-28T19:09:07.985Z"
   },
   {
    "duration": 4,
    "start_time": "2023-08-28T19:09:08.552Z"
   },
   {
    "duration": 5,
    "start_time": "2023-08-28T19:09:09.076Z"
   },
   {
    "duration": 4,
    "start_time": "2023-08-28T19:09:09.605Z"
   },
   {
    "duration": 4,
    "start_time": "2023-08-28T19:09:10.471Z"
   },
   {
    "duration": 5,
    "start_time": "2023-08-28T19:09:10.972Z"
   },
   {
    "duration": 6,
    "start_time": "2023-08-28T19:09:37.036Z"
   },
   {
    "duration": 13,
    "start_time": "2023-08-28T19:09:49.256Z"
   },
   {
    "duration": 5,
    "start_time": "2023-08-28T19:09:52.155Z"
   },
   {
    "duration": 23,
    "start_time": "2023-08-28T19:09:58.478Z"
   },
   {
    "duration": 14,
    "start_time": "2023-08-28T19:10:41.170Z"
   },
   {
    "duration": 3,
    "start_time": "2023-08-28T19:10:47.379Z"
   },
   {
    "duration": 21,
    "start_time": "2023-08-28T19:10:47.385Z"
   },
   {
    "duration": 74,
    "start_time": "2023-08-28T19:10:47.408Z"
   },
   {
    "duration": 9,
    "start_time": "2023-08-28T19:10:47.484Z"
   },
   {
    "duration": 31,
    "start_time": "2023-08-28T19:10:47.495Z"
   },
   {
    "duration": 20,
    "start_time": "2023-08-28T19:10:47.528Z"
   },
   {
    "duration": 24,
    "start_time": "2023-08-28T19:10:47.550Z"
   },
   {
    "duration": 1020,
    "start_time": "2023-08-28T19:10:47.576Z"
   },
   {
    "duration": 7,
    "start_time": "2023-08-28T19:10:48.597Z"
   },
   {
    "duration": 12,
    "start_time": "2023-08-28T19:10:48.605Z"
   },
   {
    "duration": 25,
    "start_time": "2023-08-28T19:10:48.619Z"
   },
   {
    "duration": 177,
    "start_time": "2023-08-28T19:10:48.646Z"
   },
   {
    "duration": 6,
    "start_time": "2023-08-28T19:10:48.825Z"
   },
   {
    "duration": 40,
    "start_time": "2023-08-28T19:10:48.836Z"
   },
   {
    "duration": 297,
    "start_time": "2023-08-28T19:10:48.878Z"
   },
   {
    "duration": 4,
    "start_time": "2023-08-28T19:10:49.177Z"
   },
   {
    "duration": 55,
    "start_time": "2023-08-28T19:10:49.183Z"
   },
   {
    "duration": 223,
    "start_time": "2023-08-28T19:10:49.240Z"
   },
   {
    "duration": 6,
    "start_time": "2023-08-28T19:10:49.467Z"
   },
   {
    "duration": 18,
    "start_time": "2023-08-28T19:10:49.477Z"
   },
   {
    "duration": 231,
    "start_time": "2023-08-28T19:10:49.497Z"
   },
   {
    "duration": 4,
    "start_time": "2023-08-28T19:10:49.729Z"
   },
   {
    "duration": 23,
    "start_time": "2023-08-28T19:10:49.737Z"
   },
   {
    "duration": 17,
    "start_time": "2023-08-28T19:10:49.763Z"
   },
   {
    "duration": 24,
    "start_time": "2023-08-28T19:10:49.781Z"
   },
   {
    "duration": 36,
    "start_time": "2023-08-28T19:10:49.807Z"
   },
   {
    "duration": 36,
    "start_time": "2023-08-28T19:10:49.845Z"
   },
   {
    "duration": 29,
    "start_time": "2023-08-28T19:10:49.882Z"
   },
   {
    "duration": 10,
    "start_time": "2023-08-28T19:10:52.705Z"
   },
   {
    "duration": 3,
    "start_time": "2023-08-28T19:11:13.484Z"
   },
   {
    "duration": 3,
    "start_time": "2023-08-28T19:13:29.011Z"
   },
   {
    "duration": 6,
    "start_time": "2023-08-28T19:14:36.479Z"
   },
   {
    "duration": 13,
    "start_time": "2023-08-28T19:14:46.784Z"
   },
   {
    "duration": 23,
    "start_time": "2023-08-28T19:15:29.564Z"
   },
   {
    "duration": 5,
    "start_time": "2023-08-28T19:15:30.160Z"
   },
   {
    "duration": 5,
    "start_time": "2023-08-28T19:15:31.034Z"
   },
   {
    "duration": 4,
    "start_time": "2023-08-28T19:15:31.501Z"
   },
   {
    "duration": 2,
    "start_time": "2023-08-28T19:15:32.013Z"
   },
   {
    "duration": 14,
    "start_time": "2023-08-28T19:15:32.548Z"
   },
   {
    "duration": 4,
    "start_time": "2023-08-28T19:15:33.082Z"
   },
   {
    "duration": 3,
    "start_time": "2023-08-28T19:15:47.265Z"
   },
   {
    "duration": 3,
    "start_time": "2023-08-28T19:15:56.720Z"
   },
   {
    "duration": 5,
    "start_time": "2023-08-28T19:15:57.358Z"
   },
   {
    "duration": 3,
    "start_time": "2023-08-28T19:15:57.790Z"
   },
   {
    "duration": 3,
    "start_time": "2023-08-28T19:15:58.867Z"
   },
   {
    "duration": 2,
    "start_time": "2023-08-28T19:15:59.200Z"
   },
   {
    "duration": 6,
    "start_time": "2023-08-28T19:15:59.558Z"
   },
   {
    "duration": 4,
    "start_time": "2023-08-28T19:16:00.102Z"
   },
   {
    "duration": 3,
    "start_time": "2023-08-28T19:16:00.765Z"
   },
   {
    "duration": 4,
    "start_time": "2023-08-28T19:16:01.495Z"
   },
   {
    "duration": 4,
    "start_time": "2023-08-28T19:16:01.982Z"
   },
   {
    "duration": 5,
    "start_time": "2023-08-28T19:16:02.969Z"
   },
   {
    "duration": 75,
    "start_time": "2023-08-28T19:16:03.016Z"
   },
   {
    "duration": 583,
    "start_time": "2023-08-28T19:16:03.864Z"
   },
   {
    "duration": 840,
    "start_time": "2023-08-28T19:16:04.531Z"
   },
   {
    "duration": 804,
    "start_time": "2023-08-28T19:16:06.652Z"
   },
   {
    "duration": 4,
    "start_time": "2023-08-28T19:16:21.769Z"
   },
   {
    "duration": 4,
    "start_time": "2023-08-28T19:16:21.775Z"
   },
   {
    "duration": 28,
    "start_time": "2023-08-28T19:16:21.780Z"
   },
   {
    "duration": 9,
    "start_time": "2023-08-28T19:16:21.810Z"
   },
   {
    "duration": 24,
    "start_time": "2023-08-28T19:16:21.820Z"
   },
   {
    "duration": 10,
    "start_time": "2023-08-28T19:16:21.852Z"
   },
   {
    "duration": 5,
    "start_time": "2023-08-28T19:16:21.864Z"
   },
   {
    "duration": 875,
    "start_time": "2023-08-28T19:16:21.870Z"
   },
   {
    "duration": 18,
    "start_time": "2023-08-28T19:16:22.750Z"
   },
   {
    "duration": 21,
    "start_time": "2023-08-28T19:16:22.770Z"
   },
   {
    "duration": 12,
    "start_time": "2023-08-28T19:16:22.793Z"
   },
   {
    "duration": 152,
    "start_time": "2023-08-28T19:16:22.806Z"
   },
   {
    "duration": 4,
    "start_time": "2023-08-28T19:16:22.962Z"
   },
   {
    "duration": 19,
    "start_time": "2023-08-28T19:16:22.968Z"
   },
   {
    "duration": 140,
    "start_time": "2023-08-28T19:16:22.989Z"
   },
   {
    "duration": 12,
    "start_time": "2023-08-28T19:16:23.133Z"
   },
   {
    "duration": 23,
    "start_time": "2023-08-28T19:16:23.146Z"
   },
   {
    "duration": 173,
    "start_time": "2023-08-28T19:16:23.171Z"
   },
   {
    "duration": 4,
    "start_time": "2023-08-28T19:16:23.345Z"
   },
   {
    "duration": 13,
    "start_time": "2023-08-28T19:16:23.350Z"
   },
   {
    "duration": 156,
    "start_time": "2023-08-28T19:16:23.364Z"
   },
   {
    "duration": 3,
    "start_time": "2023-08-28T19:16:23.522Z"
   },
   {
    "duration": 16,
    "start_time": "2023-08-28T19:16:23.527Z"
   },
   {
    "duration": 19,
    "start_time": "2023-08-28T19:16:23.551Z"
   },
   {
    "duration": 20,
    "start_time": "2023-08-28T19:16:23.572Z"
   },
   {
    "duration": 44,
    "start_time": "2023-08-28T19:16:23.593Z"
   },
   {
    "duration": 43,
    "start_time": "2023-08-28T19:16:23.639Z"
   },
   {
    "duration": 11,
    "start_time": "2023-08-28T19:16:23.683Z"
   },
   {
    "duration": 10,
    "start_time": "2023-08-28T19:20:28.159Z"
   },
   {
    "duration": 4,
    "start_time": "2023-08-28T19:20:30.156Z"
   },
   {
    "duration": 22,
    "start_time": "2023-08-28T19:20:36.262Z"
   },
   {
    "duration": 5,
    "start_time": "2023-08-28T19:20:54.258Z"
   },
   {
    "duration": 6,
    "start_time": "2023-08-28T19:20:56.959Z"
   },
   {
    "duration": 3,
    "start_time": "2023-08-28T19:20:58.995Z"
   },
   {
    "duration": 2,
    "start_time": "2023-08-28T19:21:01.081Z"
   },
   {
    "duration": 7,
    "start_time": "2023-08-28T19:21:03.904Z"
   },
   {
    "duration": 6,
    "start_time": "2023-08-28T19:21:04.505Z"
   },
   {
    "duration": 4,
    "start_time": "2023-08-28T19:21:27.303Z"
   },
   {
    "duration": 3,
    "start_time": "2023-08-28T19:21:27.912Z"
   },
   {
    "duration": 4,
    "start_time": "2023-08-28T19:21:34.928Z"
   },
   {
    "duration": 3,
    "start_time": "2023-08-28T19:24:38.092Z"
   },
   {
    "duration": 4,
    "start_time": "2023-08-28T19:30:29.765Z"
   },
   {
    "duration": 3,
    "start_time": "2023-08-28T19:30:49.474Z"
   },
   {
    "duration": 3,
    "start_time": "2023-08-28T19:31:03.822Z"
   },
   {
    "duration": 100,
    "start_time": "2023-08-28T19:35:18.532Z"
   },
   {
    "duration": 64,
    "start_time": "2023-08-28T19:35:23.104Z"
   },
   {
    "duration": 5,
    "start_time": "2023-08-28T19:37:15.181Z"
   },
   {
    "duration": 5,
    "start_time": "2023-08-28T19:37:17.448Z"
   },
   {
    "duration": 3,
    "start_time": "2023-08-28T19:37:18.005Z"
   },
   {
    "duration": 2,
    "start_time": "2023-08-28T19:37:18.518Z"
   },
   {
    "duration": 574,
    "start_time": "2023-08-28T19:37:19.263Z"
   },
   {
    "duration": 3,
    "start_time": "2023-08-28T19:38:11.915Z"
   },
   {
    "duration": 3,
    "start_time": "2023-08-28T19:38:13.861Z"
   },
   {
    "duration": 120,
    "start_time": "2023-08-28T19:39:16.081Z"
   },
   {
    "duration": 4,
    "start_time": "2023-08-28T19:39:38.458Z"
   },
   {
    "duration": 3,
    "start_time": "2023-08-28T19:39:46.503Z"
   },
   {
    "duration": 344,
    "start_time": "2023-08-28T19:44:22.112Z"
   },
   {
    "duration": 3,
    "start_time": "2023-08-28T19:44:39.396Z"
   },
   {
    "duration": 4,
    "start_time": "2023-08-28T19:44:39.919Z"
   },
   {
    "duration": 3,
    "start_time": "2023-08-28T19:44:40.546Z"
   },
   {
    "duration": 2,
    "start_time": "2023-08-28T19:44:41.078Z"
   },
   {
    "duration": 2,
    "start_time": "2023-08-28T19:44:41.626Z"
   },
   {
    "duration": 3,
    "start_time": "2023-08-28T19:44:42.288Z"
   },
   {
    "duration": 3,
    "start_time": "2023-08-28T19:44:43.770Z"
   },
   {
    "duration": 1788,
    "start_time": "2023-08-28T19:44:44.571Z"
   },
   {
    "duration": 4,
    "start_time": "2023-08-28T19:49:13.777Z"
   },
   {
    "duration": 12,
    "start_time": "2023-08-28T19:49:36.177Z"
   },
   {
    "duration": 5,
    "start_time": "2023-08-28T19:49:44.592Z"
   },
   {
    "duration": 6,
    "start_time": "2023-08-28T19:49:52.762Z"
   },
   {
    "duration": 5,
    "start_time": "2023-08-28T19:49:53.258Z"
   },
   {
    "duration": 2,
    "start_time": "2023-08-28T19:49:53.767Z"
   },
   {
    "duration": 2,
    "start_time": "2023-08-28T19:49:54.286Z"
   },
   {
    "duration": 3,
    "start_time": "2023-08-28T19:49:54.827Z"
   },
   {
    "duration": 2659,
    "start_time": "2023-08-28T19:49:55.421Z"
   },
   {
    "duration": 4,
    "start_time": "2023-08-28T19:52:10.089Z"
   },
   {
    "duration": 44,
    "start_time": "2023-08-28T19:52:10.094Z"
   },
   {
    "duration": 49,
    "start_time": "2023-08-28T19:52:10.140Z"
   },
   {
    "duration": 10,
    "start_time": "2023-08-28T19:52:10.190Z"
   },
   {
    "duration": 10,
    "start_time": "2023-08-28T19:52:10.203Z"
   },
   {
    "duration": 21,
    "start_time": "2023-08-28T19:52:10.214Z"
   },
   {
    "duration": 8,
    "start_time": "2023-08-28T19:52:10.239Z"
   },
   {
    "duration": 1064,
    "start_time": "2023-08-28T19:52:10.248Z"
   },
   {
    "duration": 7,
    "start_time": "2023-08-28T19:52:11.313Z"
   },
   {
    "duration": 10,
    "start_time": "2023-08-28T19:52:11.338Z"
   },
   {
    "duration": 13,
    "start_time": "2023-08-28T19:52:11.349Z"
   },
   {
    "duration": 160,
    "start_time": "2023-08-28T19:52:11.364Z"
   },
   {
    "duration": 5,
    "start_time": "2023-08-28T19:52:11.533Z"
   },
   {
    "duration": 16,
    "start_time": "2023-08-28T19:52:11.540Z"
   },
   {
    "duration": 147,
    "start_time": "2023-08-28T19:52:11.558Z"
   },
   {
    "duration": 5,
    "start_time": "2023-08-28T19:52:11.707Z"
   },
   {
    "duration": 27,
    "start_time": "2023-08-28T19:52:11.714Z"
   },
   {
    "duration": 205,
    "start_time": "2023-08-28T19:52:11.750Z"
   },
   {
    "duration": 6,
    "start_time": "2023-08-28T19:52:11.957Z"
   },
   {
    "duration": 9,
    "start_time": "2023-08-28T19:52:11.965Z"
   },
   {
    "duration": 176,
    "start_time": "2023-08-28T19:52:11.976Z"
   },
   {
    "duration": 5,
    "start_time": "2023-08-28T19:52:12.157Z"
   },
   {
    "duration": 8,
    "start_time": "2023-08-28T19:52:12.164Z"
   },
   {
    "duration": 9,
    "start_time": "2023-08-28T19:52:12.174Z"
   },
   {
    "duration": 7,
    "start_time": "2023-08-28T19:52:12.185Z"
   },
   {
    "duration": 17,
    "start_time": "2023-08-28T19:52:12.193Z"
   },
   {
    "duration": 23,
    "start_time": "2023-08-28T19:52:12.212Z"
   },
   {
    "duration": 14,
    "start_time": "2023-08-28T19:52:12.237Z"
   },
   {
    "duration": 11,
    "start_time": "2023-08-28T19:52:12.253Z"
   },
   {
    "duration": 4,
    "start_time": "2023-08-28T19:52:12.265Z"
   },
   {
    "duration": 22,
    "start_time": "2023-08-28T19:52:12.271Z"
   },
   {
    "duration": 10,
    "start_time": "2023-08-28T19:52:12.295Z"
   },
   {
    "duration": 9,
    "start_time": "2023-08-28T19:52:12.307Z"
   },
   {
    "duration": 4,
    "start_time": "2023-08-28T19:52:12.337Z"
   },
   {
    "duration": 15,
    "start_time": "2023-08-28T19:52:12.342Z"
   },
   {
    "duration": 27,
    "start_time": "2023-08-28T19:52:12.359Z"
   },
   {
    "duration": 22,
    "start_time": "2023-08-28T19:52:12.391Z"
   },
   {
    "duration": 33,
    "start_time": "2023-08-28T19:52:12.415Z"
   },
   {
    "duration": 36,
    "start_time": "2023-08-28T19:52:12.450Z"
   },
   {
    "duration": 5,
    "start_time": "2023-08-28T19:52:12.488Z"
   },
   {
    "duration": 23,
    "start_time": "2023-08-28T19:52:12.495Z"
   },
   {
    "duration": 5,
    "start_time": "2023-08-28T19:52:14.772Z"
   },
   {
    "duration": 5,
    "start_time": "2023-08-28T19:52:15.914Z"
   },
   {
    "duration": 3,
    "start_time": "2023-08-28T19:52:18.173Z"
   },
   {
    "duration": 3,
    "start_time": "2023-08-28T19:52:18.660Z"
   },
   {
    "duration": 5,
    "start_time": "2023-08-28T19:52:19.047Z"
   },
   {
    "duration": 3,
    "start_time": "2023-08-28T19:52:19.425Z"
   },
   {
    "duration": 3,
    "start_time": "2023-08-28T19:52:19.814Z"
   },
   {
    "duration": 3112,
    "start_time": "2023-08-28T19:52:20.466Z"
   },
   {
    "duration": 82,
    "start_time": "2023-08-28T19:58:40.043Z"
   },
   {
    "duration": 5,
    "start_time": "2023-08-28T19:58:44.810Z"
   },
   {
    "duration": 4,
    "start_time": "2023-08-28T19:58:50.669Z"
   },
   {
    "duration": 6,
    "start_time": "2023-08-28T19:58:51.246Z"
   },
   {
    "duration": 3,
    "start_time": "2023-08-28T19:58:55.962Z"
   },
   {
    "duration": 3,
    "start_time": "2023-08-28T19:58:56.385Z"
   },
   {
    "duration": 2,
    "start_time": "2023-08-28T19:58:56.770Z"
   },
   {
    "duration": 3,
    "start_time": "2023-08-28T19:58:57.164Z"
   },
   {
    "duration": 3,
    "start_time": "2023-08-28T19:58:57.578Z"
   },
   {
    "duration": 51,
    "start_time": "2023-08-28T19:58:58.256Z"
   },
   {
    "duration": 5,
    "start_time": "2023-08-28T19:59:15.455Z"
   },
   {
    "duration": 4,
    "start_time": "2023-08-28T19:59:15.926Z"
   },
   {
    "duration": 5,
    "start_time": "2023-08-28T19:59:16.315Z"
   },
   {
    "duration": 4,
    "start_time": "2023-08-28T19:59:16.835Z"
   },
   {
    "duration": 3,
    "start_time": "2023-08-28T19:59:17.375Z"
   },
   {
    "duration": 2,
    "start_time": "2023-08-28T19:59:17.754Z"
   },
   {
    "duration": 5,
    "start_time": "2023-08-28T19:59:18.240Z"
   },
   {
    "duration": 3,
    "start_time": "2023-08-28T19:59:18.675Z"
   },
   {
    "duration": 2225,
    "start_time": "2023-08-28T19:59:19.216Z"
   },
   {
    "duration": 5,
    "start_time": "2023-08-28T20:17:00.788Z"
   },
   {
    "duration": 29,
    "start_time": "2023-08-28T20:17:00.795Z"
   },
   {
    "duration": 70,
    "start_time": "2023-08-28T20:17:00.825Z"
   },
   {
    "duration": 10,
    "start_time": "2023-08-28T20:17:00.897Z"
   },
   {
    "duration": 44,
    "start_time": "2023-08-28T20:17:00.908Z"
   },
   {
    "duration": 24,
    "start_time": "2023-08-28T20:17:00.953Z"
   },
   {
    "duration": 9,
    "start_time": "2023-08-28T20:17:00.987Z"
   },
   {
    "duration": 1029,
    "start_time": "2023-08-28T20:17:00.998Z"
   },
   {
    "duration": 10,
    "start_time": "2023-08-28T20:17:02.030Z"
   },
   {
    "duration": 29,
    "start_time": "2023-08-28T20:17:02.045Z"
   },
   {
    "duration": 45,
    "start_time": "2023-08-28T20:17:02.078Z"
   },
   {
    "duration": 201,
    "start_time": "2023-08-28T20:17:02.124Z"
   },
   {
    "duration": 5,
    "start_time": "2023-08-28T20:17:02.327Z"
   },
   {
    "duration": 44,
    "start_time": "2023-08-28T20:17:02.348Z"
   },
   {
    "duration": 167,
    "start_time": "2023-08-28T20:17:02.401Z"
   },
   {
    "duration": 5,
    "start_time": "2023-08-28T20:17:02.569Z"
   },
   {
    "duration": 42,
    "start_time": "2023-08-28T20:17:02.576Z"
   },
   {
    "duration": 206,
    "start_time": "2023-08-28T20:17:02.619Z"
   },
   {
    "duration": 6,
    "start_time": "2023-08-28T20:17:02.827Z"
   },
   {
    "duration": 71,
    "start_time": "2023-08-28T20:17:02.834Z"
   },
   {
    "duration": 193,
    "start_time": "2023-08-28T20:17:02.908Z"
   },
   {
    "duration": 5,
    "start_time": "2023-08-28T20:17:03.103Z"
   },
   {
    "duration": 47,
    "start_time": "2023-08-28T20:17:03.109Z"
   },
   {
    "duration": 13,
    "start_time": "2023-08-28T20:17:03.165Z"
   },
   {
    "duration": 6,
    "start_time": "2023-08-28T20:17:03.185Z"
   },
   {
    "duration": 17,
    "start_time": "2023-08-28T20:17:03.197Z"
   },
   {
    "duration": 13,
    "start_time": "2023-08-28T20:17:03.215Z"
   },
   {
    "duration": 28,
    "start_time": "2023-08-28T20:17:03.231Z"
   },
   {
    "duration": 33,
    "start_time": "2023-08-28T20:17:03.262Z"
   },
   {
    "duration": 14,
    "start_time": "2023-08-28T20:17:03.296Z"
   },
   {
    "duration": 63,
    "start_time": "2023-08-28T20:17:03.312Z"
   },
   {
    "duration": 5,
    "start_time": "2023-08-28T20:17:03.377Z"
   },
   {
    "duration": 25,
    "start_time": "2023-08-28T20:17:03.384Z"
   },
   {
    "duration": 33,
    "start_time": "2023-08-28T20:17:03.410Z"
   },
   {
    "duration": 24,
    "start_time": "2023-08-28T20:17:03.445Z"
   },
   {
    "duration": 20,
    "start_time": "2023-08-28T20:17:03.471Z"
   },
   {
    "duration": 19,
    "start_time": "2023-08-28T20:17:03.493Z"
   },
   {
    "duration": 10,
    "start_time": "2023-08-28T20:17:10.629Z"
   },
   {
    "duration": 9,
    "start_time": "2023-08-28T20:17:33.192Z"
   },
   {
    "duration": 4,
    "start_time": "2023-08-28T20:17:40.699Z"
   },
   {
    "duration": 1827,
    "start_time": "2023-08-29T09:30:05.654Z"
   },
   {
    "duration": 4,
    "start_time": "2023-08-29T09:30:08.282Z"
   },
   {
    "duration": 61,
    "start_time": "2023-08-29T09:30:09.134Z"
   },
   {
    "duration": 23,
    "start_time": "2023-08-29T09:30:10.187Z"
   },
   {
    "duration": 12,
    "start_time": "2023-08-29T09:30:11.348Z"
   },
   {
    "duration": 8,
    "start_time": "2023-08-29T09:30:12.178Z"
   },
   {
    "duration": 8,
    "start_time": "2023-08-29T09:30:13.183Z"
   },
   {
    "duration": 1501,
    "start_time": "2023-08-29T09:30:14.039Z"
   },
   {
    "duration": 7,
    "start_time": "2023-08-29T09:30:17.404Z"
   },
   {
    "duration": 5,
    "start_time": "2023-08-29T09:30:18.539Z"
   },
   {
    "duration": 11,
    "start_time": "2023-08-29T09:30:20.217Z"
   },
   {
    "duration": 155,
    "start_time": "2023-08-29T09:30:20.428Z"
   },
   {
    "duration": 5,
    "start_time": "2023-08-29T09:30:22.527Z"
   },
   {
    "duration": 17,
    "start_time": "2023-08-29T09:30:23.214Z"
   },
   {
    "duration": 200,
    "start_time": "2023-08-29T09:30:23.853Z"
   },
   {
    "duration": 5,
    "start_time": "2023-08-29T09:30:24.504Z"
   },
   {
    "duration": 8,
    "start_time": "2023-08-29T09:30:25.467Z"
   },
   {
    "duration": 181,
    "start_time": "2023-08-29T09:30:26.356Z"
   },
   {
    "duration": 5,
    "start_time": "2023-08-29T09:30:27.240Z"
   },
   {
    "duration": 9,
    "start_time": "2023-08-29T09:30:27.922Z"
   },
   {
    "duration": 191,
    "start_time": "2023-08-29T09:30:28.499Z"
   },
   {
    "duration": 6,
    "start_time": "2023-08-29T09:30:29.337Z"
   },
   {
    "duration": 8,
    "start_time": "2023-08-29T09:30:30.322Z"
   },
   {
    "duration": 6,
    "start_time": "2023-08-29T09:30:31.174Z"
   },
   {
    "duration": 6,
    "start_time": "2023-08-29T09:30:31.963Z"
   },
   {
    "duration": 5,
    "start_time": "2023-08-29T09:30:32.634Z"
   },
   {
    "duration": 5,
    "start_time": "2023-08-29T09:30:34.511Z"
   },
   {
    "duration": 5,
    "start_time": "2023-08-29T09:30:35.264Z"
   },
   {
    "duration": 12,
    "start_time": "2023-08-29T09:30:39.021Z"
   },
   {
    "duration": 6,
    "start_time": "2023-08-29T09:30:42.342Z"
   },
   {
    "duration": 19,
    "start_time": "2023-08-29T09:30:51.349Z"
   },
   {
    "duration": 6,
    "start_time": "2023-08-29T09:30:59.154Z"
   },
   {
    "duration": 7,
    "start_time": "2023-08-29T09:31:01.289Z"
   },
   {
    "duration": 5,
    "start_time": "2023-08-29T09:31:03.998Z"
   },
   {
    "duration": 3,
    "start_time": "2023-08-29T09:31:06.893Z"
   },
   {
    "duration": 10,
    "start_time": "2023-08-29T09:31:07.780Z"
   },
   {
    "duration": 7,
    "start_time": "2023-08-29T09:31:08.421Z"
   },
   {
    "duration": 4,
    "start_time": "2023-08-29T09:31:19.461Z"
   },
   {
    "duration": 4,
    "start_time": "2023-08-29T09:31:23.738Z"
   },
   {
    "duration": 4,
    "start_time": "2023-08-29T09:39:40.786Z"
   },
   {
    "duration": 3,
    "start_time": "2023-08-29T09:48:15.626Z"
   },
   {
    "duration": 5,
    "start_time": "2023-08-29T09:48:40.391Z"
   },
   {
    "duration": 126,
    "start_time": "2023-08-29T09:49:02.022Z"
   },
   {
    "duration": 3,
    "start_time": "2023-08-29T09:49:51.390Z"
   },
   {
    "duration": 5,
    "start_time": "2023-08-29T09:50:47.121Z"
   },
   {
    "duration": 8,
    "start_time": "2023-08-29T09:51:03.438Z"
   },
   {
    "duration": 6,
    "start_time": "2023-08-29T09:51:16.593Z"
   },
   {
    "duration": 5,
    "start_time": "2023-08-29T10:00:14.133Z"
   },
   {
    "duration": 3,
    "start_time": "2023-08-29T10:00:14.788Z"
   },
   {
    "duration": 4,
    "start_time": "2023-08-29T10:00:15.430Z"
   },
   {
    "duration": 8,
    "start_time": "2023-08-29T10:00:31.671Z"
   },
   {
    "duration": 15,
    "start_time": "2023-08-29T10:01:13.702Z"
   },
   {
    "duration": 7,
    "start_time": "2023-08-29T10:01:21.285Z"
   },
   {
    "duration": 3,
    "start_time": "2023-08-29T10:01:29.785Z"
   },
   {
    "duration": 4,
    "start_time": "2023-08-29T10:01:36.986Z"
   },
   {
    "duration": 4,
    "start_time": "2023-08-29T10:01:54.214Z"
   },
   {
    "duration": 3,
    "start_time": "2023-08-29T10:02:29.105Z"
   },
   {
    "duration": 5,
    "start_time": "2023-08-29T10:02:33.491Z"
   },
   {
    "duration": 3,
    "start_time": "2023-08-29T10:02:57.206Z"
   },
   {
    "duration": 4,
    "start_time": "2023-08-29T10:02:57.805Z"
   },
   {
    "duration": 3,
    "start_time": "2023-08-29T10:02:58.310Z"
   },
   {
    "duration": 3,
    "start_time": "2023-08-29T10:02:58.807Z"
   },
   {
    "duration": 4,
    "start_time": "2023-08-29T10:02:59.319Z"
   },
   {
    "duration": 3,
    "start_time": "2023-08-29T10:06:05.197Z"
   },
   {
    "duration": 3,
    "start_time": "2023-08-29T10:06:19.518Z"
   },
   {
    "duration": 3,
    "start_time": "2023-08-29T10:06:26.543Z"
   },
   {
    "duration": 4,
    "start_time": "2023-08-29T10:06:36.896Z"
   },
   {
    "duration": 5,
    "start_time": "2023-08-29T10:06:43.396Z"
   },
   {
    "duration": 14,
    "start_time": "2023-08-29T10:07:15.561Z"
   },
   {
    "duration": 147,
    "start_time": "2023-08-29T10:07:41.161Z"
   },
   {
    "duration": 35,
    "start_time": "2023-08-29T10:07:46.406Z"
   },
   {
    "duration": 3,
    "start_time": "2023-08-29T10:07:54.111Z"
   },
   {
    "duration": 4,
    "start_time": "2023-08-29T10:07:57.817Z"
   },
   {
    "duration": 3,
    "start_time": "2023-08-29T10:07:58.304Z"
   },
   {
    "duration": 3,
    "start_time": "2023-08-29T10:07:58.793Z"
   },
   {
    "duration": 3,
    "start_time": "2023-08-29T10:07:59.259Z"
   },
   {
    "duration": 4,
    "start_time": "2023-08-29T10:07:59.790Z"
   },
   {
    "duration": 4,
    "start_time": "2023-08-29T10:08:00.611Z"
   },
   {
    "duration": 3,
    "start_time": "2023-08-29T10:08:01.290Z"
   },
   {
    "duration": 6,
    "start_time": "2023-08-29T10:08:01.893Z"
   },
   {
    "duration": 67,
    "start_time": "2023-08-29T10:08:05.820Z"
   },
   {
    "duration": 3,
    "start_time": "2023-08-29T10:09:15.501Z"
   },
   {
    "duration": 4,
    "start_time": "2023-08-29T10:09:41.748Z"
   },
   {
    "duration": 61,
    "start_time": "2023-08-29T10:09:41.754Z"
   },
   {
    "duration": 42,
    "start_time": "2023-08-29T10:09:41.817Z"
   },
   {
    "duration": 20,
    "start_time": "2023-08-29T10:09:41.861Z"
   },
   {
    "duration": 34,
    "start_time": "2023-08-29T10:09:41.884Z"
   },
   {
    "duration": 63,
    "start_time": "2023-08-29T10:09:41.919Z"
   },
   {
    "duration": 37,
    "start_time": "2023-08-29T10:09:41.985Z"
   },
   {
    "duration": 1223,
    "start_time": "2023-08-29T10:09:42.024Z"
   },
   {
    "duration": 30,
    "start_time": "2023-08-29T10:09:43.250Z"
   },
   {
    "duration": 26,
    "start_time": "2023-08-29T10:09:43.284Z"
   },
   {
    "duration": 36,
    "start_time": "2023-08-29T10:09:43.312Z"
   },
   {
    "duration": 186,
    "start_time": "2023-08-29T10:09:43.350Z"
   },
   {
    "duration": 5,
    "start_time": "2023-08-29T10:09:43.537Z"
   },
   {
    "duration": 47,
    "start_time": "2023-08-29T10:09:43.543Z"
   },
   {
    "duration": 196,
    "start_time": "2023-08-29T10:09:43.592Z"
   },
   {
    "duration": 6,
    "start_time": "2023-08-29T10:09:43.789Z"
   },
   {
    "duration": 34,
    "start_time": "2023-08-29T10:09:43.797Z"
   },
   {
    "duration": 219,
    "start_time": "2023-08-29T10:09:43.834Z"
   },
   {
    "duration": 24,
    "start_time": "2023-08-29T10:09:44.055Z"
   },
   {
    "duration": 13,
    "start_time": "2023-08-29T10:09:44.083Z"
   },
   {
    "duration": 224,
    "start_time": "2023-08-29T10:09:44.098Z"
   },
   {
    "duration": 7,
    "start_time": "2023-08-29T10:09:44.324Z"
   },
   {
    "duration": 40,
    "start_time": "2023-08-29T10:09:44.333Z"
   },
   {
    "duration": 17,
    "start_time": "2023-08-29T10:09:44.379Z"
   },
   {
    "duration": 16,
    "start_time": "2023-08-29T10:09:44.398Z"
   },
   {
    "duration": 9,
    "start_time": "2023-08-29T10:09:44.416Z"
   },
   {
    "duration": 8,
    "start_time": "2023-08-29T10:09:44.426Z"
   },
   {
    "duration": 9,
    "start_time": "2023-08-29T10:09:44.436Z"
   },
   {
    "duration": 21,
    "start_time": "2023-08-29T10:09:44.447Z"
   },
   {
    "duration": 8,
    "start_time": "2023-08-29T10:09:44.477Z"
   },
   {
    "duration": 31,
    "start_time": "2023-08-29T10:09:44.487Z"
   },
   {
    "duration": 6,
    "start_time": "2023-08-29T10:09:44.521Z"
   },
   {
    "duration": 15,
    "start_time": "2023-08-29T10:09:44.529Z"
   },
   {
    "duration": 12,
    "start_time": "2023-08-29T10:09:44.546Z"
   },
   {
    "duration": 12,
    "start_time": "2023-08-29T10:09:44.560Z"
   },
   {
    "duration": 36,
    "start_time": "2023-08-29T10:09:44.574Z"
   },
   {
    "duration": 10,
    "start_time": "2023-08-29T10:09:44.612Z"
   },
   {
    "duration": 9,
    "start_time": "2023-08-29T10:09:44.624Z"
   },
   {
    "duration": 8,
    "start_time": "2023-08-29T10:09:44.634Z"
   },
   {
    "duration": 4,
    "start_time": "2023-08-29T10:09:44.644Z"
   },
   {
    "duration": 4,
    "start_time": "2023-08-29T10:09:44.650Z"
   },
   {
    "duration": 6,
    "start_time": "2023-08-29T10:09:44.655Z"
   },
   {
    "duration": 4,
    "start_time": "2023-08-29T10:13:49.989Z"
   },
   {
    "duration": 3,
    "start_time": "2023-08-29T10:14:00.509Z"
   },
   {
    "duration": 3,
    "start_time": "2023-08-29T10:14:01.537Z"
   },
   {
    "duration": 95,
    "start_time": "2023-08-29T10:14:02.094Z"
   },
   {
    "duration": 4,
    "start_time": "2023-08-29T10:14:52.001Z"
   },
   {
    "duration": 13,
    "start_time": "2023-08-29T10:14:58.298Z"
   },
   {
    "duration": 37,
    "start_time": "2023-08-29T10:15:04.725Z"
   },
   {
    "duration": 152,
    "start_time": "2023-08-29T10:15:26.231Z"
   },
   {
    "duration": 79,
    "start_time": "2023-08-29T10:16:23.662Z"
   },
   {
    "duration": 4,
    "start_time": "2023-08-29T10:22:08.095Z"
   },
   {
    "duration": 79,
    "start_time": "2023-08-29T10:30:24.785Z"
   },
   {
    "duration": 3,
    "start_time": "2023-08-29T10:30:36.926Z"
   },
   {
    "duration": 3,
    "start_time": "2023-08-29T10:30:37.556Z"
   },
   {
    "duration": 2,
    "start_time": "2023-08-29T10:30:38.106Z"
   },
   {
    "duration": 63,
    "start_time": "2023-08-29T10:30:38.701Z"
   },
   {
    "duration": 4,
    "start_time": "2023-08-29T10:30:45.482Z"
   },
   {
    "duration": 3,
    "start_time": "2023-08-29T10:30:46.008Z"
   },
   {
    "duration": 3,
    "start_time": "2023-08-29T10:30:46.399Z"
   },
   {
    "duration": 83,
    "start_time": "2023-08-29T10:30:47.616Z"
   },
   {
    "duration": 3,
    "start_time": "2023-08-29T10:30:57.705Z"
   },
   {
    "duration": 2,
    "start_time": "2023-08-29T10:30:58.121Z"
   },
   {
    "duration": 3,
    "start_time": "2023-08-29T10:30:58.489Z"
   },
   {
    "duration": 75,
    "start_time": "2023-08-29T10:30:58.911Z"
   },
   {
    "duration": 70,
    "start_time": "2023-08-29T10:31:10.285Z"
   },
   {
    "duration": 94,
    "start_time": "2023-08-29T10:31:39.226Z"
   },
   {
    "duration": 82,
    "start_time": "2023-08-29T10:31:52.937Z"
   },
   {
    "duration": 72,
    "start_time": "2023-08-29T10:32:15.587Z"
   },
   {
    "duration": 78,
    "start_time": "2023-08-29T10:32:28.154Z"
   },
   {
    "duration": 79,
    "start_time": "2023-08-29T10:32:38.877Z"
   },
   {
    "duration": 85,
    "start_time": "2023-08-29T10:35:23.263Z"
   },
   {
    "duration": 83,
    "start_time": "2023-08-29T10:35:32.590Z"
   },
   {
    "duration": 120,
    "start_time": "2023-08-29T10:35:39.785Z"
   },
   {
    "duration": 66,
    "start_time": "2023-08-29T10:35:54.684Z"
   },
   {
    "duration": 3,
    "start_time": "2023-08-29T10:36:05.999Z"
   },
   {
    "duration": 652,
    "start_time": "2023-08-29T10:36:06.813Z"
   },
   {
    "duration": 793,
    "start_time": "2023-08-29T10:36:12.998Z"
   },
   {
    "duration": 3,
    "start_time": "2023-08-29T10:36:33.382Z"
   },
   {
    "duration": 80,
    "start_time": "2023-08-29T10:36:33.814Z"
   },
   {
    "duration": 84,
    "start_time": "2023-08-29T10:36:54.711Z"
   },
   {
    "duration": 151,
    "start_time": "2023-08-29T10:37:04.643Z"
   },
   {
    "duration": 74,
    "start_time": "2023-08-29T10:37:09.489Z"
   },
   {
    "duration": 68,
    "start_time": "2023-08-29T10:38:26.887Z"
   },
   {
    "duration": 3,
    "start_time": "2023-08-29T10:38:34.005Z"
   },
   {
    "duration": 622,
    "start_time": "2023-08-29T10:38:34.517Z"
   },
   {
    "duration": 3,
    "start_time": "2023-08-29T10:38:40.885Z"
   },
   {
    "duration": 69,
    "start_time": "2023-08-29T10:38:41.385Z"
   },
   {
    "duration": 81,
    "start_time": "2023-08-29T10:38:47.513Z"
   },
   {
    "duration": 2,
    "start_time": "2023-08-29T10:39:09.141Z"
   },
   {
    "duration": 3148,
    "start_time": "2023-08-29T10:39:09.822Z"
   },
   {
    "duration": 3,
    "start_time": "2023-08-29T10:39:18.230Z"
   },
   {
    "duration": 301,
    "start_time": "2023-08-29T10:39:18.840Z"
   },
   {
    "duration": 3,
    "start_time": "2023-08-29T10:39:23.485Z"
   },
   {
    "duration": 93,
    "start_time": "2023-08-29T10:39:24.002Z"
   },
   {
    "duration": 113,
    "start_time": "2023-08-29T10:40:26.606Z"
   },
   {
    "duration": 78,
    "start_time": "2023-08-29T10:41:01.601Z"
   },
   {
    "duration": 6,
    "start_time": "2023-08-29T10:48:07.002Z"
   },
   {
    "duration": 3,
    "start_time": "2023-08-29T10:48:28.823Z"
   },
   {
    "duration": 6,
    "start_time": "2023-08-29T10:48:29.490Z"
   },
   {
    "duration": 4,
    "start_time": "2023-08-29T10:48:32.493Z"
   },
   {
    "duration": 3,
    "start_time": "2023-08-29T10:48:33.143Z"
   },
   {
    "duration": 3,
    "start_time": "2023-08-29T10:48:33.821Z"
   },
   {
    "duration": 111,
    "start_time": "2023-08-29T10:48:34.749Z"
   },
   {
    "duration": 110,
    "start_time": "2023-08-29T10:49:15.987Z"
   },
   {
    "duration": 89,
    "start_time": "2023-08-29T10:49:30.459Z"
   },
   {
    "duration": 4,
    "start_time": "2023-08-29T10:51:52.318Z"
   },
   {
    "duration": 20,
    "start_time": "2023-08-29T10:51:52.325Z"
   },
   {
    "duration": 63,
    "start_time": "2023-08-29T10:51:52.348Z"
   },
   {
    "duration": 12,
    "start_time": "2023-08-29T10:51:52.414Z"
   },
   {
    "duration": 34,
    "start_time": "2023-08-29T10:51:52.428Z"
   },
   {
    "duration": 23,
    "start_time": "2023-08-29T10:51:52.464Z"
   },
   {
    "duration": 19,
    "start_time": "2023-08-29T10:51:52.490Z"
   },
   {
    "duration": 1105,
    "start_time": "2023-08-29T10:51:52.511Z"
   },
   {
    "duration": 6,
    "start_time": "2023-08-29T10:51:53.619Z"
   },
   {
    "duration": 9,
    "start_time": "2023-08-29T10:51:53.626Z"
   },
   {
    "duration": 17,
    "start_time": "2023-08-29T10:51:53.637Z"
   },
   {
    "duration": 202,
    "start_time": "2023-08-29T10:51:53.655Z"
   },
   {
    "duration": 12,
    "start_time": "2023-08-29T10:51:53.859Z"
   },
   {
    "duration": 21,
    "start_time": "2023-08-29T10:51:53.873Z"
   },
   {
    "duration": 418,
    "start_time": "2023-08-29T10:51:53.897Z"
   },
   {
    "duration": 7,
    "start_time": "2023-08-29T10:51:54.318Z"
   },
   {
    "duration": 9,
    "start_time": "2023-08-29T10:51:54.329Z"
   },
   {
    "duration": 213,
    "start_time": "2023-08-29T10:51:54.340Z"
   },
   {
    "duration": 8,
    "start_time": "2023-08-29T10:51:54.555Z"
   },
   {
    "duration": 22,
    "start_time": "2023-08-29T10:51:54.567Z"
   },
   {
    "duration": 185,
    "start_time": "2023-08-29T10:51:54.591Z"
   },
   {
    "duration": 7,
    "start_time": "2023-08-29T10:51:54.779Z"
   },
   {
    "duration": 17,
    "start_time": "2023-08-29T10:51:54.788Z"
   },
   {
    "duration": 13,
    "start_time": "2023-08-29T10:51:54.808Z"
   },
   {
    "duration": 10,
    "start_time": "2023-08-29T10:51:54.822Z"
   },
   {
    "duration": 6,
    "start_time": "2023-08-29T10:51:54.834Z"
   },
   {
    "duration": 9,
    "start_time": "2023-08-29T10:51:54.842Z"
   },
   {
    "duration": 9,
    "start_time": "2023-08-29T10:51:54.853Z"
   },
   {
    "duration": 27,
    "start_time": "2023-08-29T10:51:54.864Z"
   },
   {
    "duration": 24,
    "start_time": "2023-08-29T10:51:54.894Z"
   },
   {
    "duration": 24,
    "start_time": "2023-08-29T10:51:54.924Z"
   },
   {
    "duration": 33,
    "start_time": "2023-08-29T10:51:54.950Z"
   },
   {
    "duration": 7,
    "start_time": "2023-08-29T10:51:54.993Z"
   },
   {
    "duration": 11,
    "start_time": "2023-08-29T10:51:55.003Z"
   },
   {
    "duration": 36,
    "start_time": "2023-08-29T10:51:55.017Z"
   },
   {
    "duration": 39,
    "start_time": "2023-08-29T10:51:55.055Z"
   },
   {
    "duration": 22,
    "start_time": "2023-08-29T10:51:55.096Z"
   },
   {
    "duration": 13,
    "start_time": "2023-08-29T10:51:55.120Z"
   },
   {
    "duration": 21,
    "start_time": "2023-08-29T10:51:55.134Z"
   },
   {
    "duration": 32,
    "start_time": "2023-08-29T10:51:55.157Z"
   },
   {
    "duration": 8,
    "start_time": "2023-08-29T10:51:55.191Z"
   },
   {
    "duration": 15,
    "start_time": "2023-08-29T10:51:55.201Z"
   },
   {
    "duration": 33,
    "start_time": "2023-08-29T10:51:55.219Z"
   },
   {
    "duration": 29,
    "start_time": "2023-08-29T10:51:55.254Z"
   },
   {
    "duration": 4,
    "start_time": "2023-08-29T10:52:34.801Z"
   },
   {
    "duration": 4,
    "start_time": "2023-08-29T10:53:03.546Z"
   },
   {
    "duration": 252,
    "start_time": "2023-08-29T10:58:31.178Z"
   },
   {
    "duration": 18,
    "start_time": "2023-08-29T11:00:54.638Z"
   },
   {
    "duration": 8,
    "start_time": "2023-08-29T11:01:24.126Z"
   },
   {
    "duration": 16,
    "start_time": "2023-08-29T11:01:24.908Z"
   },
   {
    "duration": 7,
    "start_time": "2023-08-29T11:01:32.190Z"
   },
   {
    "duration": 23,
    "start_time": "2023-08-29T11:01:32.885Z"
   },
   {
    "duration": 8,
    "start_time": "2023-08-29T11:01:43.936Z"
   },
   {
    "duration": 6,
    "start_time": "2023-08-29T11:01:44.620Z"
   },
   {
    "duration": 4,
    "start_time": "2023-08-29T11:01:46.843Z"
   },
   {
    "duration": 3,
    "start_time": "2023-08-29T11:01:47.427Z"
   },
   {
    "duration": 4,
    "start_time": "2023-08-29T11:01:47.948Z"
   },
   {
    "duration": 4,
    "start_time": "2023-08-29T11:01:48.588Z"
   },
   {
    "duration": 5472,
    "start_time": "2023-08-29T11:01:49.320Z"
   },
   {
    "duration": 3,
    "start_time": "2023-08-29T11:03:14.700Z"
   },
   {
    "duration": 5,
    "start_time": "2023-08-29T11:03:15.350Z"
   },
   {
    "duration": 3,
    "start_time": "2023-08-29T11:03:16.122Z"
   },
   {
    "duration": 3,
    "start_time": "2023-08-29T11:03:16.739Z"
   },
   {
    "duration": 3,
    "start_time": "2023-08-29T11:03:17.484Z"
   },
   {
    "duration": 3,
    "start_time": "2023-08-29T11:03:19.991Z"
   },
   {
    "duration": 4,
    "start_time": "2023-08-29T11:03:20.518Z"
   },
   {
    "duration": 469,
    "start_time": "2023-08-29T11:03:21.132Z"
   },
   {
    "duration": 427,
    "start_time": "2023-08-29T11:03:34.211Z"
   },
   {
    "duration": 4,
    "start_time": "2023-08-29T11:03:51.292Z"
   },
   {
    "duration": 5,
    "start_time": "2023-08-29T11:03:51.709Z"
   },
   {
    "duration": 14,
    "start_time": "2023-08-29T11:03:52.281Z"
   },
   {
    "duration": 4,
    "start_time": "2023-08-29T11:03:52.815Z"
   },
   {
    "duration": 7,
    "start_time": "2023-08-29T11:03:53.276Z"
   },
   {
    "duration": 5,
    "start_time": "2023-08-29T11:03:53.923Z"
   },
   {
    "duration": 3,
    "start_time": "2023-08-29T11:03:54.474Z"
   },
   {
    "duration": 5716,
    "start_time": "2023-08-29T11:03:55.007Z"
   },
   {
    "duration": 1798,
    "start_time": "2023-08-29T12:18:56.285Z"
   },
   {
    "duration": 8,
    "start_time": "2023-08-29T12:18:58.085Z"
   },
   {
    "duration": 80,
    "start_time": "2023-08-29T12:18:58.094Z"
   },
   {
    "duration": 18,
    "start_time": "2023-08-29T12:18:58.176Z"
   },
   {
    "duration": 14,
    "start_time": "2023-08-29T12:18:58.195Z"
   },
   {
    "duration": 12,
    "start_time": "2023-08-29T12:18:58.210Z"
   },
   {
    "duration": 6,
    "start_time": "2023-08-29T12:18:58.224Z"
   },
   {
    "duration": 1403,
    "start_time": "2023-08-29T12:18:58.232Z"
   },
   {
    "duration": 6,
    "start_time": "2023-08-29T12:18:59.637Z"
   },
   {
    "duration": 29,
    "start_time": "2023-08-29T12:18:59.646Z"
   },
   {
    "duration": 45,
    "start_time": "2023-08-29T12:18:59.677Z"
   },
   {
    "duration": 160,
    "start_time": "2023-08-29T12:18:59.724Z"
   },
   {
    "duration": 5,
    "start_time": "2023-08-29T12:18:59.886Z"
   },
   {
    "duration": 9,
    "start_time": "2023-08-29T12:18:59.892Z"
   },
   {
    "duration": 176,
    "start_time": "2023-08-29T12:18:59.902Z"
   },
   {
    "duration": 4,
    "start_time": "2023-08-29T12:19:00.080Z"
   },
   {
    "duration": 24,
    "start_time": "2023-08-29T12:19:00.086Z"
   },
   {
    "duration": 188,
    "start_time": "2023-08-29T12:19:00.112Z"
   },
   {
    "duration": 5,
    "start_time": "2023-08-29T12:19:00.302Z"
   },
   {
    "duration": 35,
    "start_time": "2023-08-29T12:19:00.308Z"
   },
   {
    "duration": 192,
    "start_time": "2023-08-29T12:19:00.344Z"
   },
   {
    "duration": 5,
    "start_time": "2023-08-29T12:19:00.538Z"
   },
   {
    "duration": 37,
    "start_time": "2023-08-29T12:19:00.545Z"
   },
   {
    "duration": 45,
    "start_time": "2023-08-29T12:19:00.584Z"
   },
   {
    "duration": 23,
    "start_time": "2023-08-29T12:19:00.631Z"
   },
   {
    "duration": 31,
    "start_time": "2023-08-29T12:19:00.656Z"
   },
   {
    "duration": 32,
    "start_time": "2023-08-29T12:19:00.688Z"
   },
   {
    "duration": 48,
    "start_time": "2023-08-29T12:19:00.725Z"
   },
   {
    "duration": 38,
    "start_time": "2023-08-29T12:19:00.775Z"
   },
   {
    "duration": 47,
    "start_time": "2023-08-29T12:19:00.815Z"
   },
   {
    "duration": 40,
    "start_time": "2023-08-29T12:19:00.863Z"
   },
   {
    "duration": 49,
    "start_time": "2023-08-29T12:19:00.905Z"
   },
   {
    "duration": 25,
    "start_time": "2023-08-29T12:19:00.956Z"
   },
   {
    "duration": 41,
    "start_time": "2023-08-29T12:19:00.983Z"
   },
   {
    "duration": 52,
    "start_time": "2023-08-29T12:19:01.025Z"
   },
   {
    "duration": 53,
    "start_time": "2023-08-29T12:19:01.079Z"
   },
   {
    "duration": 33,
    "start_time": "2023-08-29T12:19:01.134Z"
   },
   {
    "duration": 74,
    "start_time": "2023-08-29T12:19:01.170Z"
   },
   {
    "duration": 50,
    "start_time": "2023-08-29T12:19:01.247Z"
   },
   {
    "duration": 30,
    "start_time": "2023-08-29T12:19:01.300Z"
   },
   {
    "duration": 202,
    "start_time": "2023-08-29T12:19:01.332Z"
   },
   {
    "duration": 42,
    "start_time": "2023-08-29T12:19:01.536Z"
   },
   {
    "duration": 34,
    "start_time": "2023-08-29T12:19:01.579Z"
   },
   {
    "duration": 43,
    "start_time": "2023-08-29T12:19:01.615Z"
   },
   {
    "duration": 38,
    "start_time": "2023-08-29T12:19:01.660Z"
   },
   {
    "duration": 75,
    "start_time": "2023-08-29T12:19:01.700Z"
   },
   {
    "duration": 3811,
    "start_time": "2023-08-29T12:19:01.777Z"
   },
   {
    "duration": 5,
    "start_time": "2023-08-29T12:22:49.573Z"
   },
   {
    "duration": 5,
    "start_time": "2023-08-29T12:22:50.922Z"
   },
   {
    "duration": 4,
    "start_time": "2023-08-29T12:23:00.779Z"
   },
   {
    "duration": 2,
    "start_time": "2023-08-29T12:23:02.554Z"
   },
   {
    "duration": 2,
    "start_time": "2023-08-29T12:23:03.077Z"
   },
   {
    "duration": 2,
    "start_time": "2023-08-29T12:23:03.608Z"
   },
   {
    "duration": 3465,
    "start_time": "2023-08-29T12:23:04.224Z"
   },
   {
    "duration": 5,
    "start_time": "2023-08-29T12:25:48.905Z"
   },
   {
    "duration": 6,
    "start_time": "2023-08-29T12:35:32.468Z"
   },
   {
    "duration": 3,
    "start_time": "2023-08-29T12:35:42.561Z"
   },
   {
    "duration": 26,
    "start_time": "2023-08-29T12:35:42.566Z"
   },
   {
    "duration": 28,
    "start_time": "2023-08-29T12:35:42.594Z"
   },
   {
    "duration": 10,
    "start_time": "2023-08-29T12:35:42.625Z"
   },
   {
    "duration": 14,
    "start_time": "2023-08-29T12:35:42.637Z"
   },
   {
    "duration": 7,
    "start_time": "2023-08-29T12:35:42.653Z"
   },
   {
    "duration": 15,
    "start_time": "2023-08-29T12:35:42.662Z"
   },
   {
    "duration": 1033,
    "start_time": "2023-08-29T12:35:42.679Z"
   },
   {
    "duration": 6,
    "start_time": "2023-08-29T12:35:43.714Z"
   },
   {
    "duration": 5,
    "start_time": "2023-08-29T12:35:43.723Z"
   },
   {
    "duration": 26,
    "start_time": "2023-08-29T12:35:43.730Z"
   },
   {
    "duration": 166,
    "start_time": "2023-08-29T12:35:43.758Z"
   },
   {
    "duration": 5,
    "start_time": "2023-08-29T12:35:43.926Z"
   },
   {
    "duration": 14,
    "start_time": "2023-08-29T12:35:43.932Z"
   },
   {
    "duration": 193,
    "start_time": "2023-08-29T12:35:43.948Z"
   },
   {
    "duration": 5,
    "start_time": "2023-08-29T12:35:44.144Z"
   },
   {
    "duration": 15,
    "start_time": "2023-08-29T12:35:44.150Z"
   },
   {
    "duration": 202,
    "start_time": "2023-08-29T12:35:44.166Z"
   },
   {
    "duration": 12,
    "start_time": "2023-08-29T12:35:44.370Z"
   },
   {
    "duration": 20,
    "start_time": "2023-08-29T12:35:44.384Z"
   },
   {
    "duration": 152,
    "start_time": "2023-08-29T12:35:44.406Z"
   },
   {
    "duration": 5,
    "start_time": "2023-08-29T12:35:44.560Z"
   },
   {
    "duration": 24,
    "start_time": "2023-08-29T12:35:44.566Z"
   },
   {
    "duration": 10,
    "start_time": "2023-08-29T12:35:44.591Z"
   },
   {
    "duration": 15,
    "start_time": "2023-08-29T12:35:44.602Z"
   },
   {
    "duration": 16,
    "start_time": "2023-08-29T12:35:44.619Z"
   },
   {
    "duration": 14,
    "start_time": "2023-08-29T12:35:44.636Z"
   },
   {
    "duration": 6,
    "start_time": "2023-08-29T12:35:44.653Z"
   },
   {
    "duration": 18,
    "start_time": "2023-08-29T12:35:44.660Z"
   },
   {
    "duration": 9,
    "start_time": "2023-08-29T12:35:44.679Z"
   },
   {
    "duration": 21,
    "start_time": "2023-08-29T12:35:44.689Z"
   },
   {
    "duration": 6,
    "start_time": "2023-08-29T12:35:44.711Z"
   },
   {
    "duration": 9,
    "start_time": "2023-08-29T12:35:44.718Z"
   },
   {
    "duration": 28,
    "start_time": "2023-08-29T12:35:44.728Z"
   },
   {
    "duration": 11,
    "start_time": "2023-08-29T12:35:44.758Z"
   },
   {
    "duration": 9,
    "start_time": "2023-08-29T12:35:44.771Z"
   },
   {
    "duration": 6,
    "start_time": "2023-08-29T12:35:44.782Z"
   },
   {
    "duration": 17,
    "start_time": "2023-08-29T12:35:44.791Z"
   },
   {
    "duration": 12,
    "start_time": "2023-08-29T12:35:44.810Z"
   },
   {
    "duration": 29,
    "start_time": "2023-08-29T12:35:44.824Z"
   },
   {
    "duration": 12,
    "start_time": "2023-08-29T12:35:44.855Z"
   },
   {
    "duration": 4,
    "start_time": "2023-08-29T12:35:44.869Z"
   },
   {
    "duration": 6,
    "start_time": "2023-08-29T12:35:44.874Z"
   },
   {
    "duration": 12,
    "start_time": "2023-08-29T12:35:44.881Z"
   },
   {
    "duration": 8,
    "start_time": "2023-08-29T12:35:44.895Z"
   },
   {
    "duration": 24,
    "start_time": "2023-08-29T12:35:44.905Z"
   },
   {
    "duration": 7,
    "start_time": "2023-08-29T12:35:44.930Z"
   },
   {
    "duration": 140,
    "start_time": "2023-08-29T12:39:59.854Z"
   },
   {
    "duration": 10,
    "start_time": "2023-08-29T12:40:06.042Z"
   },
   {
    "duration": 3,
    "start_time": "2023-08-29T12:40:13.426Z"
   },
   {
    "duration": 3,
    "start_time": "2023-08-29T12:40:17.131Z"
   },
   {
    "duration": 8,
    "start_time": "2023-08-29T12:41:15.392Z"
   },
   {
    "duration": 6312,
    "start_time": "2023-08-29T12:41:20.593Z"
   },
   {
    "duration": 4,
    "start_time": "2023-08-29T12:41:41.903Z"
   },
   {
    "duration": 7,
    "start_time": "2023-08-29T12:41:41.909Z"
   },
   {
    "duration": 28,
    "start_time": "2023-08-29T12:41:41.918Z"
   },
   {
    "duration": 13,
    "start_time": "2023-08-29T12:41:41.948Z"
   },
   {
    "duration": 13,
    "start_time": "2023-08-29T12:41:41.964Z"
   },
   {
    "duration": 6,
    "start_time": "2023-08-29T12:41:41.981Z"
   },
   {
    "duration": 7,
    "start_time": "2023-08-29T12:41:41.989Z"
   },
   {
    "duration": 989,
    "start_time": "2023-08-29T12:41:41.998Z"
   },
   {
    "duration": 5,
    "start_time": "2023-08-29T12:41:42.989Z"
   },
   {
    "duration": 20,
    "start_time": "2023-08-29T12:41:42.996Z"
   },
   {
    "duration": 15,
    "start_time": "2023-08-29T12:41:43.019Z"
   },
   {
    "duration": 172,
    "start_time": "2023-08-29T12:41:43.036Z"
   },
   {
    "duration": 5,
    "start_time": "2023-08-29T12:41:43.209Z"
   },
   {
    "duration": 21,
    "start_time": "2023-08-29T12:41:43.216Z"
   },
   {
    "duration": 302,
    "start_time": "2023-08-29T12:41:43.239Z"
   },
   {
    "duration": 5,
    "start_time": "2023-08-29T12:41:43.543Z"
   },
   {
    "duration": 15,
    "start_time": "2023-08-29T12:41:43.550Z"
   },
   {
    "duration": 207,
    "start_time": "2023-08-29T12:41:43.567Z"
   },
   {
    "duration": 5,
    "start_time": "2023-08-29T12:41:43.780Z"
   },
   {
    "duration": 26,
    "start_time": "2023-08-29T12:41:43.787Z"
   },
   {
    "duration": 155,
    "start_time": "2023-08-29T12:41:43.815Z"
   },
   {
    "duration": 5,
    "start_time": "2023-08-29T12:41:43.980Z"
   },
   {
    "duration": 10,
    "start_time": "2023-08-29T12:41:43.987Z"
   },
   {
    "duration": 9,
    "start_time": "2023-08-29T12:41:43.999Z"
   },
   {
    "duration": 19,
    "start_time": "2023-08-29T12:41:44.010Z"
   },
   {
    "duration": 30,
    "start_time": "2023-08-29T12:41:44.031Z"
   },
   {
    "duration": 18,
    "start_time": "2023-08-29T12:41:44.064Z"
   },
   {
    "duration": 24,
    "start_time": "2023-08-29T12:41:44.084Z"
   },
   {
    "duration": 14,
    "start_time": "2023-08-29T12:41:44.112Z"
   },
   {
    "duration": 9,
    "start_time": "2023-08-29T12:41:44.128Z"
   },
   {
    "duration": 26,
    "start_time": "2023-08-29T12:41:44.139Z"
   },
   {
    "duration": 18,
    "start_time": "2023-08-29T12:41:44.167Z"
   },
   {
    "duration": 7,
    "start_time": "2023-08-29T12:41:44.187Z"
   },
   {
    "duration": 15,
    "start_time": "2023-08-29T12:41:44.196Z"
   },
   {
    "duration": 10,
    "start_time": "2023-08-29T12:41:44.213Z"
   },
   {
    "duration": 29,
    "start_time": "2023-08-29T12:41:44.225Z"
   },
   {
    "duration": 11,
    "start_time": "2023-08-29T12:41:44.257Z"
   },
   {
    "duration": 12,
    "start_time": "2023-08-29T12:41:44.270Z"
   },
   {
    "duration": 27,
    "start_time": "2023-08-29T12:41:44.284Z"
   },
   {
    "duration": 4,
    "start_time": "2023-08-29T12:41:44.313Z"
   },
   {
    "duration": 9,
    "start_time": "2023-08-29T12:41:44.319Z"
   },
   {
    "duration": 8,
    "start_time": "2023-08-29T12:41:44.330Z"
   },
   {
    "duration": 8,
    "start_time": "2023-08-29T12:41:44.340Z"
   },
   {
    "duration": 7,
    "start_time": "2023-08-29T12:41:44.350Z"
   },
   {
    "duration": 12,
    "start_time": "2023-08-29T12:41:44.358Z"
   },
   {
    "duration": 11,
    "start_time": "2023-08-29T12:41:44.371Z"
   },
   {
    "duration": 1655,
    "start_time": "2023-08-29T12:52:33.348Z"
   },
   {
    "duration": 4,
    "start_time": "2023-08-29T12:52:35.005Z"
   },
   {
    "duration": 45,
    "start_time": "2023-08-29T12:52:35.010Z"
   },
   {
    "duration": 18,
    "start_time": "2023-08-29T12:52:35.057Z"
   },
   {
    "duration": 24,
    "start_time": "2023-08-29T12:52:35.077Z"
   },
   {
    "duration": 18,
    "start_time": "2023-08-29T12:52:35.102Z"
   },
   {
    "duration": 7,
    "start_time": "2023-08-29T12:52:35.122Z"
   },
   {
    "duration": 1267,
    "start_time": "2023-08-29T12:52:35.131Z"
   },
   {
    "duration": 7,
    "start_time": "2023-08-29T12:52:36.400Z"
   },
   {
    "duration": 6,
    "start_time": "2023-08-29T12:52:36.409Z"
   },
   {
    "duration": 12,
    "start_time": "2023-08-29T12:52:36.417Z"
   },
   {
    "duration": 177,
    "start_time": "2023-08-29T12:52:36.430Z"
   },
   {
    "duration": 5,
    "start_time": "2023-08-29T12:52:36.609Z"
   },
   {
    "duration": 10,
    "start_time": "2023-08-29T12:52:36.615Z"
   },
   {
    "duration": 179,
    "start_time": "2023-08-29T12:52:36.626Z"
   },
   {
    "duration": 5,
    "start_time": "2023-08-29T12:52:36.806Z"
   },
   {
    "duration": 25,
    "start_time": "2023-08-29T12:52:36.812Z"
   },
   {
    "duration": 239,
    "start_time": "2023-08-29T12:52:36.839Z"
   },
   {
    "duration": 4,
    "start_time": "2023-08-29T12:52:37.081Z"
   },
   {
    "duration": 28,
    "start_time": "2023-08-29T12:52:37.087Z"
   },
   {
    "duration": 185,
    "start_time": "2023-08-29T12:52:37.116Z"
   },
   {
    "duration": 5,
    "start_time": "2023-08-29T12:52:37.302Z"
   },
   {
    "duration": 22,
    "start_time": "2023-08-29T12:52:37.309Z"
   },
   {
    "duration": 21,
    "start_time": "2023-08-29T12:52:37.332Z"
   },
   {
    "duration": 17,
    "start_time": "2023-08-29T12:52:37.355Z"
   },
   {
    "duration": 8,
    "start_time": "2023-08-29T12:52:37.374Z"
   },
   {
    "duration": 10,
    "start_time": "2023-08-29T12:52:37.384Z"
   },
   {
    "duration": 13,
    "start_time": "2023-08-29T12:52:37.397Z"
   },
   {
    "duration": 28,
    "start_time": "2023-08-29T12:52:37.411Z"
   },
   {
    "duration": 17,
    "start_time": "2023-08-29T12:52:37.441Z"
   },
   {
    "duration": 20,
    "start_time": "2023-08-29T12:52:37.460Z"
   },
   {
    "duration": 8,
    "start_time": "2023-08-29T12:52:37.482Z"
   },
   {
    "duration": 16,
    "start_time": "2023-08-29T12:52:37.492Z"
   },
   {
    "duration": 41,
    "start_time": "2023-08-29T12:52:37.510Z"
   },
   {
    "duration": 12,
    "start_time": "2023-08-29T12:52:37.552Z"
   },
   {
    "duration": 28,
    "start_time": "2023-08-29T12:52:37.565Z"
   },
   {
    "duration": 15,
    "start_time": "2023-08-29T12:52:37.595Z"
   },
   {
    "duration": 18,
    "start_time": "2023-08-29T12:52:37.611Z"
   },
   {
    "duration": 9,
    "start_time": "2023-08-29T12:52:37.630Z"
   },
   {
    "duration": 6,
    "start_time": "2023-08-29T12:52:37.641Z"
   },
   {
    "duration": 6,
    "start_time": "2023-08-29T12:52:37.649Z"
   },
   {
    "duration": 138,
    "start_time": "2023-08-29T12:52:37.657Z"
   },
   {
    "duration": 0,
    "start_time": "2023-08-29T12:52:37.796Z"
   },
   {
    "duration": 0,
    "start_time": "2023-08-29T12:52:37.798Z"
   },
   {
    "duration": 0,
    "start_time": "2023-08-29T12:52:37.799Z"
   },
   {
    "duration": 0,
    "start_time": "2023-08-29T12:52:37.800Z"
   },
   {
    "duration": 0,
    "start_time": "2023-08-29T12:52:37.802Z"
   },
   {
    "duration": 0,
    "start_time": "2023-08-29T12:52:37.803Z"
   },
   {
    "duration": 1720,
    "start_time": "2023-08-29T12:54:05.318Z"
   },
   {
    "duration": 4,
    "start_time": "2023-08-29T12:54:07.040Z"
   },
   {
    "duration": 30,
    "start_time": "2023-08-29T12:54:07.046Z"
   },
   {
    "duration": 20,
    "start_time": "2023-08-29T12:54:07.079Z"
   },
   {
    "duration": 23,
    "start_time": "2023-08-29T12:54:07.101Z"
   },
   {
    "duration": 18,
    "start_time": "2023-08-29T12:54:07.126Z"
   },
   {
    "duration": 13,
    "start_time": "2023-08-29T12:54:07.147Z"
   },
   {
    "duration": 1248,
    "start_time": "2023-08-29T12:54:07.162Z"
   },
   {
    "duration": 5,
    "start_time": "2023-08-29T12:54:08.412Z"
   },
   {
    "duration": 5,
    "start_time": "2023-08-29T12:54:08.419Z"
   },
   {
    "duration": 8,
    "start_time": "2023-08-29T12:54:08.426Z"
   },
   {
    "duration": 189,
    "start_time": "2023-08-29T12:54:08.436Z"
   },
   {
    "duration": 5,
    "start_time": "2023-08-29T12:54:08.626Z"
   },
   {
    "duration": 47,
    "start_time": "2023-08-29T12:54:08.632Z"
   },
   {
    "duration": 200,
    "start_time": "2023-08-29T12:54:08.680Z"
   },
   {
    "duration": 4,
    "start_time": "2023-08-29T12:54:08.881Z"
   },
   {
    "duration": 10,
    "start_time": "2023-08-29T12:54:08.887Z"
   },
   {
    "duration": 191,
    "start_time": "2023-08-29T12:54:08.898Z"
   },
   {
    "duration": 5,
    "start_time": "2023-08-29T12:54:09.091Z"
   },
   {
    "duration": 9,
    "start_time": "2023-08-29T12:54:09.097Z"
   },
   {
    "duration": 182,
    "start_time": "2023-08-29T12:54:09.108Z"
   },
   {
    "duration": 4,
    "start_time": "2023-08-29T12:54:09.292Z"
   },
   {
    "duration": 10,
    "start_time": "2023-08-29T12:54:09.297Z"
   },
   {
    "duration": 12,
    "start_time": "2023-08-29T12:54:09.308Z"
   },
   {
    "duration": 5,
    "start_time": "2023-08-29T12:54:09.322Z"
   },
   {
    "duration": 4,
    "start_time": "2023-08-29T12:54:09.328Z"
   },
   {
    "duration": 6,
    "start_time": "2023-08-29T12:54:09.334Z"
   },
   {
    "duration": 39,
    "start_time": "2023-08-29T12:54:09.344Z"
   },
   {
    "duration": 26,
    "start_time": "2023-08-29T12:54:09.384Z"
   },
   {
    "duration": 9,
    "start_time": "2023-08-29T12:54:09.412Z"
   },
   {
    "duration": 30,
    "start_time": "2023-08-29T12:54:09.423Z"
   },
   {
    "duration": 17,
    "start_time": "2023-08-29T12:54:09.455Z"
   },
   {
    "duration": 9,
    "start_time": "2023-08-29T12:54:09.474Z"
   },
   {
    "duration": 5,
    "start_time": "2023-08-29T12:54:09.485Z"
   },
   {
    "duration": 4,
    "start_time": "2023-08-29T12:54:09.491Z"
   },
   {
    "duration": 9,
    "start_time": "2023-08-29T12:54:09.497Z"
   },
   {
    "duration": 6,
    "start_time": "2023-08-29T12:54:09.508Z"
   },
   {
    "duration": 10,
    "start_time": "2023-08-29T12:54:09.516Z"
   },
   {
    "duration": 7,
    "start_time": "2023-08-29T12:54:09.528Z"
   },
   {
    "duration": 5,
    "start_time": "2023-08-29T12:54:09.537Z"
   },
   {
    "duration": 5,
    "start_time": "2023-08-29T12:54:09.544Z"
   },
   {
    "duration": 3,
    "start_time": "2023-08-29T12:54:09.580Z"
   },
   {
    "duration": 6,
    "start_time": "2023-08-29T12:54:09.585Z"
   },
   {
    "duration": 7,
    "start_time": "2023-08-29T12:54:09.593Z"
   },
   {
    "duration": 13,
    "start_time": "2023-08-29T12:54:09.602Z"
   },
   {
    "duration": 7,
    "start_time": "2023-08-29T12:54:09.617Z"
   },
   {
    "duration": 291,
    "start_time": "2023-08-29T12:54:09.626Z"
   },
   {
    "duration": 9,
    "start_time": "2023-08-29T12:54:09.918Z"
   },
   {
    "duration": 4,
    "start_time": "2023-08-29T12:55:01.674Z"
   },
   {
    "duration": 50,
    "start_time": "2023-08-29T12:55:01.681Z"
   },
   {
    "duration": 58,
    "start_time": "2023-08-29T12:55:01.733Z"
   },
   {
    "duration": 10,
    "start_time": "2023-08-29T12:55:01.793Z"
   },
   {
    "duration": 25,
    "start_time": "2023-08-29T12:55:01.805Z"
   },
   {
    "duration": 40,
    "start_time": "2023-08-29T12:55:01.832Z"
   },
   {
    "duration": 62,
    "start_time": "2023-08-29T12:55:01.874Z"
   },
   {
    "duration": 1076,
    "start_time": "2023-08-29T12:55:01.937Z"
   },
   {
    "duration": 5,
    "start_time": "2023-08-29T12:55:03.015Z"
   },
   {
    "duration": 19,
    "start_time": "2023-08-29T12:55:03.022Z"
   },
   {
    "duration": 23,
    "start_time": "2023-08-29T12:55:03.043Z"
   },
   {
    "duration": 175,
    "start_time": "2023-08-29T12:55:03.067Z"
   },
   {
    "duration": 5,
    "start_time": "2023-08-29T12:55:03.246Z"
   },
   {
    "duration": 13,
    "start_time": "2023-08-29T12:55:03.253Z"
   },
   {
    "duration": 154,
    "start_time": "2023-08-29T12:55:03.281Z"
   },
   {
    "duration": 4,
    "start_time": "2023-08-29T12:55:03.437Z"
   },
   {
    "duration": 14,
    "start_time": "2023-08-29T12:55:03.443Z"
   },
   {
    "duration": 184,
    "start_time": "2023-08-29T12:55:03.458Z"
   },
   {
    "duration": 5,
    "start_time": "2023-08-29T12:55:03.644Z"
   },
   {
    "duration": 11,
    "start_time": "2023-08-29T12:55:03.650Z"
   },
   {
    "duration": 178,
    "start_time": "2023-08-29T12:55:03.662Z"
   },
   {
    "duration": 5,
    "start_time": "2023-08-29T12:55:03.842Z"
   },
   {
    "duration": 26,
    "start_time": "2023-08-29T12:55:03.848Z"
   },
   {
    "duration": 16,
    "start_time": "2023-08-29T12:55:03.876Z"
   },
   {
    "duration": 9,
    "start_time": "2023-08-29T12:55:03.894Z"
   },
   {
    "duration": 6,
    "start_time": "2023-08-29T12:55:03.905Z"
   },
   {
    "duration": 7,
    "start_time": "2023-08-29T12:55:03.913Z"
   },
   {
    "duration": 13,
    "start_time": "2023-08-29T12:55:03.922Z"
   },
   {
    "duration": 29,
    "start_time": "2023-08-29T12:55:03.937Z"
   },
   {
    "duration": 6,
    "start_time": "2023-08-29T12:55:03.968Z"
   },
   {
    "duration": 31,
    "start_time": "2023-08-29T12:55:03.976Z"
   },
   {
    "duration": 73,
    "start_time": "2023-08-29T12:55:04.009Z"
   },
   {
    "duration": 21,
    "start_time": "2023-08-29T12:55:04.083Z"
   },
   {
    "duration": 21,
    "start_time": "2023-08-29T12:55:04.106Z"
   },
   {
    "duration": 20,
    "start_time": "2023-08-29T12:55:04.129Z"
   },
   {
    "duration": 27,
    "start_time": "2023-08-29T12:55:04.151Z"
   },
   {
    "duration": 26,
    "start_time": "2023-08-29T12:55:04.182Z"
   },
   {
    "duration": 12,
    "start_time": "2023-08-29T12:55:04.209Z"
   },
   {
    "duration": 32,
    "start_time": "2023-08-29T12:55:04.223Z"
   },
   {
    "duration": 8,
    "start_time": "2023-08-29T12:55:04.257Z"
   },
   {
    "duration": 23,
    "start_time": "2023-08-29T12:55:04.267Z"
   },
   {
    "duration": 9,
    "start_time": "2023-08-29T12:55:04.292Z"
   },
   {
    "duration": 12,
    "start_time": "2023-08-29T12:55:04.302Z"
   },
   {
    "duration": 23,
    "start_time": "2023-08-29T12:55:04.315Z"
   },
   {
    "duration": 14,
    "start_time": "2023-08-29T12:55:04.340Z"
   },
   {
    "duration": 42,
    "start_time": "2023-08-29T12:55:04.355Z"
   },
   {
    "duration": 34202,
    "start_time": "2023-08-29T12:55:04.399Z"
   },
   {
    "duration": 11,
    "start_time": "2023-08-29T12:55:38.603Z"
   },
   {
    "duration": 36544,
    "start_time": "2023-08-29T12:55:52.160Z"
   },
   {
    "duration": 77,
    "start_time": "2023-08-29T12:56:28.706Z"
   },
   {
    "duration": 51,
    "start_time": "2023-08-29T13:01:38.500Z"
   },
   {
    "duration": 1922,
    "start_time": "2023-08-29T13:01:49.538Z"
   },
   {
    "duration": 3,
    "start_time": "2023-08-29T13:01:51.462Z"
   },
   {
    "duration": 37,
    "start_time": "2023-08-29T13:01:51.467Z"
   },
   {
    "duration": 18,
    "start_time": "2023-08-29T13:01:51.506Z"
   },
   {
    "duration": 13,
    "start_time": "2023-08-29T13:01:51.526Z"
   },
   {
    "duration": 8,
    "start_time": "2023-08-29T13:01:51.541Z"
   },
   {
    "duration": 13,
    "start_time": "2023-08-29T13:01:51.551Z"
   },
   {
    "duration": 1363,
    "start_time": "2023-08-29T13:01:51.566Z"
   },
   {
    "duration": 5,
    "start_time": "2023-08-29T13:01:52.931Z"
   },
   {
    "duration": 21,
    "start_time": "2023-08-29T13:01:52.938Z"
   },
   {
    "duration": 15,
    "start_time": "2023-08-29T13:01:52.961Z"
   },
   {
    "duration": 174,
    "start_time": "2023-08-29T13:01:52.978Z"
   },
   {
    "duration": 5,
    "start_time": "2023-08-29T13:01:53.153Z"
   },
   {
    "duration": 21,
    "start_time": "2023-08-29T13:01:53.161Z"
   },
   {
    "duration": 205,
    "start_time": "2023-08-29T13:01:53.185Z"
   },
   {
    "duration": 7,
    "start_time": "2023-08-29T13:01:53.393Z"
   },
   {
    "duration": 17,
    "start_time": "2023-08-29T13:01:53.402Z"
   },
   {
    "duration": 205,
    "start_time": "2023-08-29T13:01:53.421Z"
   },
   {
    "duration": 5,
    "start_time": "2023-08-29T13:01:53.628Z"
   },
   {
    "duration": 8,
    "start_time": "2023-08-29T13:01:53.635Z"
   },
   {
    "duration": 179,
    "start_time": "2023-08-29T13:01:53.645Z"
   },
   {
    "duration": 5,
    "start_time": "2023-08-29T13:01:53.826Z"
   },
   {
    "duration": 18,
    "start_time": "2023-08-29T13:01:53.832Z"
   },
   {
    "duration": 25,
    "start_time": "2023-08-29T13:01:53.852Z"
   },
   {
    "duration": 17,
    "start_time": "2023-08-29T13:01:53.879Z"
   },
   {
    "duration": 5,
    "start_time": "2023-08-29T13:01:53.898Z"
   },
   {
    "duration": 28,
    "start_time": "2023-08-29T13:01:53.905Z"
   },
   {
    "duration": 7,
    "start_time": "2023-08-29T13:01:53.936Z"
   },
   {
    "duration": 11,
    "start_time": "2023-08-29T13:01:53.945Z"
   },
   {
    "duration": 6,
    "start_time": "2023-08-29T13:01:53.957Z"
   },
   {
    "duration": 24,
    "start_time": "2023-08-29T13:01:53.965Z"
   },
   {
    "duration": 6,
    "start_time": "2023-08-29T13:01:53.991Z"
   },
   {
    "duration": 18,
    "start_time": "2023-08-29T13:01:53.999Z"
   },
   {
    "duration": 32,
    "start_time": "2023-08-29T13:01:54.019Z"
   },
   {
    "duration": 16,
    "start_time": "2023-08-29T13:01:54.053Z"
   },
   {
    "duration": 21,
    "start_time": "2023-08-29T13:01:54.071Z"
   },
   {
    "duration": 7,
    "start_time": "2023-08-29T13:01:54.096Z"
   },
   {
    "duration": 33,
    "start_time": "2023-08-29T13:01:54.105Z"
   },
   {
    "duration": 39,
    "start_time": "2023-08-29T13:01:54.140Z"
   },
   {
    "duration": 17,
    "start_time": "2023-08-29T13:01:54.181Z"
   },
   {
    "duration": 4,
    "start_time": "2023-08-29T13:02:55.757Z"
   },
   {
    "duration": 147,
    "start_time": "2023-08-29T13:04:00.924Z"
   },
   {
    "duration": 5,
    "start_time": "2023-08-29T13:05:06.058Z"
   },
   {
    "duration": 4,
    "start_time": "2023-08-29T13:05:06.671Z"
   },
   {
    "duration": 5,
    "start_time": "2023-08-29T13:05:07.456Z"
   },
   {
    "duration": 5,
    "start_time": "2023-08-29T13:05:50.626Z"
   },
   {
    "duration": 22,
    "start_time": "2023-08-29T13:06:16.194Z"
   },
   {
    "duration": 5,
    "start_time": "2023-08-29T13:06:19.958Z"
   },
   {
    "duration": 16,
    "start_time": "2023-08-29T13:07:21.346Z"
   },
   {
    "duration": 7,
    "start_time": "2023-08-29T13:15:01.926Z"
   },
   {
    "duration": 5,
    "start_time": "2023-08-29T13:15:33.267Z"
   },
   {
    "duration": 13,
    "start_time": "2023-08-29T13:15:51.262Z"
   },
   {
    "duration": 14,
    "start_time": "2023-08-29T13:16:14.869Z"
   },
   {
    "duration": 6,
    "start_time": "2023-08-29T13:16:30.217Z"
   },
   {
    "duration": 15,
    "start_time": "2023-08-29T13:16:30.792Z"
   },
   {
    "duration": 6,
    "start_time": "2023-08-29T13:17:39.325Z"
   },
   {
    "duration": 15,
    "start_time": "2023-08-29T13:17:40.157Z"
   },
   {
    "duration": 15,
    "start_time": "2023-08-29T13:17:51.960Z"
   },
   {
    "duration": 6,
    "start_time": "2023-08-29T13:17:55.341Z"
   },
   {
    "duration": 2,
    "start_time": "2023-08-29T13:17:55.830Z"
   },
   {
    "duration": 4,
    "start_time": "2023-08-29T13:18:00.794Z"
   },
   {
    "duration": 10,
    "start_time": "2023-08-29T13:22:29.426Z"
   },
   {
    "duration": 5,
    "start_time": "2023-08-29T13:26:09.385Z"
   },
   {
    "duration": 59,
    "start_time": "2023-08-29T13:26:22.745Z"
   },
   {
    "duration": 5,
    "start_time": "2023-08-29T13:26:31.906Z"
   },
   {
    "duration": 58,
    "start_time": "2023-08-29T13:26:32.395Z"
   },
   {
    "duration": 409,
    "start_time": "2023-08-29T13:26:54.690Z"
   },
   {
    "duration": 912,
    "start_time": "2023-08-29T13:27:04.473Z"
   },
   {
    "duration": 6,
    "start_time": "2023-08-29T13:27:50.263Z"
   },
   {
    "duration": 53,
    "start_time": "2023-08-29T13:27:51.546Z"
   },
   {
    "duration": 5,
    "start_time": "2023-08-29T13:28:09.290Z"
   },
   {
    "duration": 61,
    "start_time": "2023-08-29T13:28:09.933Z"
   },
   {
    "duration": 60,
    "start_time": "2023-08-29T13:28:21.596Z"
   },
   {
    "duration": 58,
    "start_time": "2023-08-29T13:28:49.759Z"
   },
   {
    "duration": 5,
    "start_time": "2023-08-29T13:29:12.796Z"
   },
   {
    "duration": 58,
    "start_time": "2023-08-29T13:29:13.423Z"
   },
   {
    "duration": 5,
    "start_time": "2023-08-29T13:29:17.741Z"
   },
   {
    "duration": 79,
    "start_time": "2023-08-29T13:29:18.143Z"
   },
   {
    "duration": 4,
    "start_time": "2023-08-29T13:29:23.958Z"
   },
   {
    "duration": 54,
    "start_time": "2023-08-29T13:29:24.475Z"
   },
   {
    "duration": 584,
    "start_time": "2023-08-29T13:29:41.304Z"
   },
   {
    "duration": 559,
    "start_time": "2023-08-29T13:29:42.825Z"
   },
   {
    "duration": 7,
    "start_time": "2023-08-29T13:30:02.488Z"
   },
   {
    "duration": 477,
    "start_time": "2023-08-29T13:30:03.684Z"
   },
   {
    "duration": 3821,
    "start_time": "2023-08-29T13:30:05.083Z"
   },
   {
    "duration": 5968,
    "start_time": "2023-08-29T13:30:10.913Z"
   },
   {
    "duration": 3,
    "start_time": "2023-08-29T13:30:50.591Z"
   },
   {
    "duration": 3,
    "start_time": "2023-08-29T13:30:54.467Z"
   },
   {
    "duration": 3,
    "start_time": "2023-08-29T13:30:54.984Z"
   },
   {
    "duration": 5,
    "start_time": "2023-08-29T13:30:55.494Z"
   },
   {
    "duration": 6,
    "start_time": "2023-08-29T13:30:56.217Z"
   },
   {
    "duration": 500,
    "start_time": "2023-08-29T13:30:59.993Z"
   },
   {
    "duration": 3985,
    "start_time": "2023-08-29T13:31:01.399Z"
   },
   {
    "duration": 8794,
    "start_time": "2023-08-29T13:31:06.294Z"
   },
   {
    "duration": 5,
    "start_time": "2023-08-29T13:32:51.071Z"
   },
   {
    "duration": 5,
    "start_time": "2023-08-29T13:32:51.639Z"
   },
   {
    "duration": 5,
    "start_time": "2023-08-29T13:32:52.149Z"
   },
   {
    "duration": 37,
    "start_time": "2023-08-29T13:32:52.630Z"
   },
   {
    "duration": 5,
    "start_time": "2023-08-29T13:32:53.381Z"
   },
   {
    "duration": 480,
    "start_time": "2023-08-29T13:32:54.066Z"
   },
   {
    "duration": 10054,
    "start_time": "2023-08-29T13:32:54.738Z"
   },
   {
    "duration": 144905,
    "start_time": "2023-08-29T13:33:04.794Z"
   },
   {
    "duration": 6,
    "start_time": "2023-08-29T13:41:49.078Z"
   },
   {
    "duration": 29689,
    "start_time": "2023-08-29T13:41:51.346Z"
   },
   {
    "duration": 9,
    "start_time": "2023-08-29T13:42:27.806Z"
   },
   {
    "duration": 29591,
    "start_time": "2023-08-29T13:42:28.421Z"
   },
   {
    "duration": 535381,
    "start_time": "2023-08-29T13:43:05.002Z"
   },
   {
    "duration": 15,
    "start_time": "2023-08-29T14:51:34.418Z"
   },
   {
    "duration": 232,
    "start_time": "2023-08-29T14:51:35.167Z"
   },
   {
    "duration": 1854,
    "start_time": "2023-08-29T14:51:48.603Z"
   },
   {
    "duration": 6,
    "start_time": "2023-08-29T14:51:50.460Z"
   },
   {
    "duration": 52,
    "start_time": "2023-08-29T14:51:50.467Z"
   },
   {
    "duration": 16,
    "start_time": "2023-08-29T14:51:50.521Z"
   },
   {
    "duration": 24,
    "start_time": "2023-08-29T14:51:50.539Z"
   },
   {
    "duration": 29,
    "start_time": "2023-08-29T14:51:50.565Z"
   },
   {
    "duration": 10,
    "start_time": "2023-08-29T14:51:50.600Z"
   },
   {
    "duration": 1359,
    "start_time": "2023-08-29T14:51:50.612Z"
   },
   {
    "duration": 26,
    "start_time": "2023-08-29T14:51:51.973Z"
   },
   {
    "duration": 6,
    "start_time": "2023-08-29T14:51:52.002Z"
   },
   {
    "duration": 15,
    "start_time": "2023-08-29T14:51:52.010Z"
   },
   {
    "duration": 178,
    "start_time": "2023-08-29T14:51:52.027Z"
   },
   {
    "duration": 6,
    "start_time": "2023-08-29T14:51:52.207Z"
   },
   {
    "duration": 13,
    "start_time": "2023-08-29T14:51:52.217Z"
   },
   {
    "duration": 184,
    "start_time": "2023-08-29T14:51:52.232Z"
   },
   {
    "duration": 6,
    "start_time": "2023-08-29T14:51:52.418Z"
   },
   {
    "duration": 15,
    "start_time": "2023-08-29T14:51:52.425Z"
   },
   {
    "duration": 202,
    "start_time": "2023-08-29T14:51:52.443Z"
   },
   {
    "duration": 7,
    "start_time": "2023-08-29T14:51:52.647Z"
   },
   {
    "duration": 40,
    "start_time": "2023-08-29T14:51:52.657Z"
   },
   {
    "duration": 159,
    "start_time": "2023-08-29T14:51:52.699Z"
   },
   {
    "duration": 5,
    "start_time": "2023-08-29T14:51:52.860Z"
   },
   {
    "duration": 25,
    "start_time": "2023-08-29T14:51:52.868Z"
   },
   {
    "duration": 8,
    "start_time": "2023-08-29T14:51:52.896Z"
   },
   {
    "duration": 30,
    "start_time": "2023-08-29T14:51:52.906Z"
   },
   {
    "duration": 5,
    "start_time": "2023-08-29T14:51:52.939Z"
   },
   {
    "duration": 27,
    "start_time": "2023-08-29T14:51:52.947Z"
   },
   {
    "duration": 20,
    "start_time": "2023-08-29T14:51:52.977Z"
   },
   {
    "duration": 13,
    "start_time": "2023-08-29T14:51:53.000Z"
   },
   {
    "duration": 5,
    "start_time": "2023-08-29T14:51:53.015Z"
   },
   {
    "duration": 25,
    "start_time": "2023-08-29T14:51:53.021Z"
   },
   {
    "duration": 13,
    "start_time": "2023-08-29T14:51:53.048Z"
   },
   {
    "duration": 26,
    "start_time": "2023-08-29T14:51:53.064Z"
   },
   {
    "duration": 7,
    "start_time": "2023-08-29T14:51:53.096Z"
   },
   {
    "duration": 12,
    "start_time": "2023-08-29T14:51:53.104Z"
   },
   {
    "duration": 13,
    "start_time": "2023-08-29T14:51:53.118Z"
   },
   {
    "duration": 16,
    "start_time": "2023-08-29T14:51:53.132Z"
   },
   {
    "duration": 5,
    "start_time": "2023-08-29T14:51:53.149Z"
   },
   {
    "duration": 5,
    "start_time": "2023-08-29T14:51:53.155Z"
   },
   {
    "duration": 5,
    "start_time": "2023-08-29T14:51:53.162Z"
   },
   {
    "duration": 12,
    "start_time": "2023-08-29T14:51:53.174Z"
   },
   {
    "duration": 6,
    "start_time": "2023-08-29T14:51:53.192Z"
   },
   {
    "duration": 35,
    "start_time": "2023-08-29T14:51:53.199Z"
   },
   {
    "duration": 8,
    "start_time": "2023-08-29T14:51:53.236Z"
   },
   {
    "duration": 30895,
    "start_time": "2023-08-29T14:51:56.727Z"
   },
   {
    "duration": 4,
    "start_time": "2023-08-29T14:53:07.974Z"
   },
   {
    "duration": 8,
    "start_time": "2023-08-29T14:53:58.196Z"
   },
   {
    "duration": 29878,
    "start_time": "2023-08-29T14:53:59.096Z"
   },
   {
    "duration": 6,
    "start_time": "2023-08-29T14:54:31.297Z"
   },
   {
    "duration": 12,
    "start_time": "2023-08-29T14:57:38.810Z"
   },
   {
    "duration": 30003,
    "start_time": "2023-08-29T14:57:40.183Z"
   },
   {
    "duration": 6,
    "start_time": "2023-08-29T14:58:12.185Z"
   },
   {
    "duration": 17,
    "start_time": "2023-08-29T14:59:17.877Z"
   },
   {
    "duration": 45167,
    "start_time": "2023-08-29T14:59:18.543Z"
   },
   {
    "duration": 4,
    "start_time": "2023-08-29T15:00:03.712Z"
   },
   {
    "duration": 164,
    "start_time": "2023-08-29T15:03:49.293Z"
   },
   {
    "duration": 11,
    "start_time": "2023-08-29T15:04:09.661Z"
   },
   {
    "duration": 15,
    "start_time": "2023-08-29T15:04:16.153Z"
   },
   {
    "duration": 124,
    "start_time": "2023-08-29T15:04:27.043Z"
   },
   {
    "duration": 17,
    "start_time": "2023-08-29T15:04:31.589Z"
   },
   {
    "duration": 4,
    "start_time": "2023-08-29T15:08:18.200Z"
   },
   {
    "duration": 7,
    "start_time": "2023-08-29T15:08:34.024Z"
   },
   {
    "duration": 5,
    "start_time": "2023-08-29T15:10:14.533Z"
   },
   {
    "duration": 5,
    "start_time": "2023-08-29T15:17:15.225Z"
   },
   {
    "duration": 5,
    "start_time": "2023-08-29T15:17:24.375Z"
   },
   {
    "duration": 190,
    "start_time": "2023-08-29T15:17:25.117Z"
   },
   {
    "duration": 7,
    "start_time": "2023-08-29T15:21:17.766Z"
   },
   {
    "duration": 1966,
    "start_time": "2023-08-29T15:21:21.820Z"
   },
   {
    "duration": 535,
    "start_time": "2023-08-29T15:21:45.497Z"
   },
   {
    "duration": 433,
    "start_time": "2023-08-29T15:22:09.020Z"
   },
   {
    "duration": 567,
    "start_time": "2023-08-29T15:22:17.167Z"
   },
   {
    "duration": 395,
    "start_time": "2023-08-29T15:22:27.863Z"
   },
   {
    "duration": 445,
    "start_time": "2023-08-29T15:22:34.327Z"
   },
   {
    "duration": 2213,
    "start_time": "2023-08-29T15:24:02.000Z"
   },
   {
    "duration": 5,
    "start_time": "2023-08-29T15:24:06.212Z"
   },
   {
    "duration": 30,
    "start_time": "2023-08-29T15:24:06.913Z"
   },
   {
    "duration": 25,
    "start_time": "2023-08-29T15:24:07.586Z"
   },
   {
    "duration": 22,
    "start_time": "2023-08-29T15:24:08.776Z"
   },
   {
    "duration": 9,
    "start_time": "2023-08-29T15:24:09.498Z"
   },
   {
    "duration": 7,
    "start_time": "2023-08-29T15:24:10.117Z"
   },
   {
    "duration": 1092,
    "start_time": "2023-08-29T15:24:10.700Z"
   },
   {
    "duration": 6,
    "start_time": "2023-08-29T15:24:12.708Z"
   },
   {
    "duration": 6,
    "start_time": "2023-08-29T15:24:13.302Z"
   },
   {
    "duration": 10,
    "start_time": "2023-08-29T15:24:13.837Z"
   },
   {
    "duration": 204,
    "start_time": "2023-08-29T15:24:14.359Z"
   },
   {
    "duration": 10,
    "start_time": "2023-08-29T15:24:14.890Z"
   },
   {
    "duration": 8,
    "start_time": "2023-08-29T15:24:15.545Z"
   },
   {
    "duration": 168,
    "start_time": "2023-08-29T15:24:16.166Z"
   },
   {
    "duration": 5,
    "start_time": "2023-08-29T15:24:16.906Z"
   },
   {
    "duration": 9,
    "start_time": "2023-08-29T15:24:17.563Z"
   },
   {
    "duration": 188,
    "start_time": "2023-08-29T15:24:18.232Z"
   },
   {
    "duration": 6,
    "start_time": "2023-08-29T15:24:18.897Z"
   },
   {
    "duration": 9,
    "start_time": "2023-08-29T15:24:19.560Z"
   },
   {
    "duration": 192,
    "start_time": "2023-08-29T15:24:20.244Z"
   },
   {
    "duration": 5,
    "start_time": "2023-08-29T15:24:20.952Z"
   },
   {
    "duration": 8,
    "start_time": "2023-08-29T15:24:21.632Z"
   },
   {
    "duration": 5,
    "start_time": "2023-08-29T15:24:22.428Z"
   },
   {
    "duration": 5,
    "start_time": "2023-08-29T15:24:23.118Z"
   },
   {
    "duration": 6,
    "start_time": "2023-08-29T15:24:23.798Z"
   },
   {
    "duration": 5,
    "start_time": "2023-08-29T15:24:24.544Z"
   },
   {
    "duration": 9,
    "start_time": "2023-08-29T15:24:25.102Z"
   },
   {
    "duration": 13,
    "start_time": "2023-08-29T15:24:26.380Z"
   },
   {
    "duration": 5,
    "start_time": "2023-08-29T15:24:27.034Z"
   },
   {
    "duration": 18,
    "start_time": "2023-08-29T15:24:27.947Z"
   },
   {
    "duration": 5,
    "start_time": "2023-08-29T15:24:28.863Z"
   },
   {
    "duration": 6,
    "start_time": "2023-08-29T15:24:29.516Z"
   },
   {
    "duration": 6,
    "start_time": "2023-08-29T15:24:30.477Z"
   },
   {
    "duration": 3,
    "start_time": "2023-08-29T15:24:34.438Z"
   },
   {
    "duration": 9,
    "start_time": "2023-08-29T15:24:35.005Z"
   },
   {
    "duration": 6,
    "start_time": "2023-08-29T15:24:35.538Z"
   },
   {
    "duration": 7,
    "start_time": "2023-08-29T15:24:36.745Z"
   },
   {
    "duration": 4,
    "start_time": "2023-08-29T15:24:40.221Z"
   },
   {
    "duration": 3,
    "start_time": "2023-08-29T15:24:40.840Z"
   },
   {
    "duration": 3,
    "start_time": "2023-08-29T15:24:41.405Z"
   },
   {
    "duration": 5,
    "start_time": "2023-08-29T15:24:41.956Z"
   },
   {
    "duration": 21,
    "start_time": "2023-08-29T15:24:42.616Z"
   },
   {
    "duration": 9,
    "start_time": "2023-08-29T15:24:44.334Z"
   },
   {
    "duration": 45204,
    "start_time": "2023-08-29T15:24:46.322Z"
   },
   {
    "duration": 3,
    "start_time": "2023-08-29T15:25:33.050Z"
   },
   {
    "duration": 2249,
    "start_time": "2023-08-29T15:33:44.413Z"
   },
   {
    "duration": 6,
    "start_time": "2023-08-29T15:33:46.665Z"
   },
   {
    "duration": 41,
    "start_time": "2023-08-29T15:33:46.682Z"
   },
   {
    "duration": 23,
    "start_time": "2023-08-29T15:33:46.726Z"
   },
   {
    "duration": 15,
    "start_time": "2023-08-29T15:33:46.750Z"
   },
   {
    "duration": 12,
    "start_time": "2023-08-29T15:33:46.766Z"
   },
   {
    "duration": 18,
    "start_time": "2023-08-29T15:33:46.787Z"
   },
   {
    "duration": 1190,
    "start_time": "2023-08-29T15:33:46.808Z"
   },
   {
    "duration": 6,
    "start_time": "2023-08-29T15:33:48.001Z"
   },
   {
    "duration": 5,
    "start_time": "2023-08-29T15:33:48.010Z"
   },
   {
    "duration": 11,
    "start_time": "2023-08-29T15:33:48.017Z"
   },
   {
    "duration": 193,
    "start_time": "2023-08-29T15:33:48.030Z"
   },
   {
    "duration": 5,
    "start_time": "2023-08-29T15:33:48.225Z"
   },
   {
    "duration": 18,
    "start_time": "2023-08-29T15:33:48.232Z"
   },
   {
    "duration": 180,
    "start_time": "2023-08-29T15:33:48.253Z"
   },
   {
    "duration": 6,
    "start_time": "2023-08-29T15:33:48.435Z"
   },
   {
    "duration": 11,
    "start_time": "2023-08-29T15:33:48.443Z"
   },
   {
    "duration": 216,
    "start_time": "2023-08-29T15:33:48.456Z"
   },
   {
    "duration": 15,
    "start_time": "2023-08-29T15:33:48.674Z"
   },
   {
    "duration": 19,
    "start_time": "2023-08-29T15:33:48.692Z"
   },
   {
    "duration": 221,
    "start_time": "2023-08-29T15:33:48.713Z"
   },
   {
    "duration": 6,
    "start_time": "2023-08-29T15:33:48.936Z"
   },
   {
    "duration": 7,
    "start_time": "2023-08-29T15:33:48.945Z"
   },
   {
    "duration": 34,
    "start_time": "2023-08-29T15:33:48.954Z"
   },
   {
    "duration": 10,
    "start_time": "2023-08-29T15:33:48.989Z"
   },
   {
    "duration": 5,
    "start_time": "2023-08-29T15:33:49.002Z"
   },
   {
    "duration": 6,
    "start_time": "2023-08-29T15:33:49.010Z"
   },
   {
    "duration": 7,
    "start_time": "2023-08-29T15:33:49.022Z"
   },
   {
    "duration": 16,
    "start_time": "2023-08-29T15:33:49.031Z"
   },
   {
    "duration": 36,
    "start_time": "2023-08-29T15:33:49.050Z"
   },
   {
    "duration": 32,
    "start_time": "2023-08-29T15:33:49.089Z"
   },
   {
    "duration": 8,
    "start_time": "2023-08-29T15:33:49.123Z"
   },
   {
    "duration": 6,
    "start_time": "2023-08-29T15:33:49.133Z"
   },
   {
    "duration": 31,
    "start_time": "2023-08-29T15:33:49.141Z"
   },
   {
    "duration": 30,
    "start_time": "2023-08-29T15:33:49.175Z"
   },
   {
    "duration": 10,
    "start_time": "2023-08-29T15:33:49.211Z"
   },
   {
    "duration": 19,
    "start_time": "2023-08-29T15:33:49.222Z"
   },
   {
    "duration": 7,
    "start_time": "2023-08-29T15:33:49.242Z"
   },
   {
    "duration": 7,
    "start_time": "2023-08-29T15:33:49.250Z"
   },
   {
    "duration": 10,
    "start_time": "2023-08-29T15:33:49.258Z"
   },
   {
    "duration": 21,
    "start_time": "2023-08-29T15:33:49.270Z"
   },
   {
    "duration": 12,
    "start_time": "2023-08-29T15:33:49.292Z"
   },
   {
    "duration": 23,
    "start_time": "2023-08-29T15:33:49.306Z"
   },
   {
    "duration": 10,
    "start_time": "2023-08-29T15:33:49.331Z"
   },
   {
    "duration": 44985,
    "start_time": "2023-08-29T15:33:59.114Z"
   },
   {
    "duration": 4,
    "start_time": "2023-08-29T15:34:47.563Z"
   },
   {
    "duration": 1370605,
    "start_time": "2023-08-29T15:35:14.307Z"
   },
   {
    "duration": 71,
    "start_time": "2023-08-29T15:58:04.914Z"
   },
   {
    "duration": 3,
    "start_time": "2023-08-29T16:00:09.401Z"
   },
   {
    "duration": 5,
    "start_time": "2023-08-29T16:00:12.258Z"
   },
   {
    "duration": 4,
    "start_time": "2023-08-29T16:00:13.398Z"
   },
   {
    "duration": 7,
    "start_time": "2023-08-29T16:00:14.567Z"
   },
   {
    "duration": 4,
    "start_time": "2023-08-29T16:00:17.958Z"
   },
   {
    "duration": 124,
    "start_time": "2023-08-29T16:00:37.749Z"
   },
   {
    "duration": 96,
    "start_time": "2023-08-29T16:00:55.644Z"
   },
   {
    "duration": 357,
    "start_time": "2023-08-29T16:03:33.551Z"
   },
   {
    "duration": 8,
    "start_time": "2023-08-29T16:03:49.111Z"
   },
   {
    "duration": 493,
    "start_time": "2023-08-29T16:03:54.246Z"
   },
   {
    "duration": 4,
    "start_time": "2023-08-29T16:05:12.102Z"
   },
   {
    "duration": 13,
    "start_time": "2023-08-29T16:05:13.506Z"
   },
   {
    "duration": 557,
    "start_time": "2023-08-29T16:05:14.337Z"
   },
   {
    "duration": 4,
    "start_time": "2023-08-29T16:05:24.604Z"
   },
   {
    "duration": 4,
    "start_time": "2023-08-29T16:05:25.211Z"
   },
   {
    "duration": 4,
    "start_time": "2023-08-29T16:05:25.843Z"
   },
   {
    "duration": 16,
    "start_time": "2023-08-29T16:05:26.605Z"
   },
   {
    "duration": 5,
    "start_time": "2023-08-29T16:05:31.509Z"
   },
   {
    "duration": 723,
    "start_time": "2023-08-29T16:05:32.160Z"
   },
   {
    "duration": 9,
    "start_time": "2023-08-29T16:05:59.535Z"
   },
   {
    "duration": 434,
    "start_time": "2023-08-29T16:06:00.241Z"
   },
   {
    "duration": 3,
    "start_time": "2023-08-29T16:06:06.328Z"
   },
   {
    "duration": 10,
    "start_time": "2023-08-29T16:06:06.919Z"
   },
   {
    "duration": 402,
    "start_time": "2023-08-29T16:06:08.098Z"
   },
   {
    "duration": 2435,
    "start_time": "2023-08-29T17:41:21.278Z"
   },
   {
    "duration": 10,
    "start_time": "2023-08-29T17:41:23.717Z"
   },
   {
    "duration": 30,
    "start_time": "2023-08-29T17:41:23.736Z"
   },
   {
    "duration": 37,
    "start_time": "2023-08-29T17:41:23.769Z"
   },
   {
    "duration": 22,
    "start_time": "2023-08-29T17:41:23.816Z"
   },
   {
    "duration": 7,
    "start_time": "2023-08-29T17:41:23.841Z"
   },
   {
    "duration": 8,
    "start_time": "2023-08-29T17:41:23.850Z"
   },
   {
    "duration": 1287,
    "start_time": "2023-08-29T17:41:23.861Z"
   },
   {
    "duration": 6,
    "start_time": "2023-08-29T17:41:25.150Z"
   },
   {
    "duration": 7,
    "start_time": "2023-08-29T17:41:25.159Z"
   },
   {
    "duration": 24,
    "start_time": "2023-08-29T17:41:25.183Z"
   },
   {
    "duration": 213,
    "start_time": "2023-08-29T17:41:25.209Z"
   },
   {
    "duration": 8,
    "start_time": "2023-08-29T17:41:25.427Z"
   },
   {
    "duration": 30,
    "start_time": "2023-08-29T17:41:25.437Z"
   },
   {
    "duration": 199,
    "start_time": "2023-08-29T17:41:25.469Z"
   },
   {
    "duration": 13,
    "start_time": "2023-08-29T17:41:25.670Z"
   },
   {
    "duration": 24,
    "start_time": "2023-08-29T17:41:25.686Z"
   },
   {
    "duration": 219,
    "start_time": "2023-08-29T17:41:25.714Z"
   },
   {
    "duration": 5,
    "start_time": "2023-08-29T17:41:25.937Z"
   },
   {
    "duration": 11,
    "start_time": "2023-08-29T17:41:25.944Z"
   },
   {
    "duration": 195,
    "start_time": "2023-08-29T17:41:25.957Z"
   },
   {
    "duration": 5,
    "start_time": "2023-08-29T17:41:26.154Z"
   },
   {
    "duration": 7,
    "start_time": "2023-08-29T17:41:26.161Z"
   },
   {
    "duration": 15,
    "start_time": "2023-08-29T17:41:26.187Z"
   },
   {
    "duration": 24,
    "start_time": "2023-08-29T17:41:26.203Z"
   },
   {
    "duration": 12,
    "start_time": "2023-08-29T17:41:26.229Z"
   },
   {
    "duration": 7,
    "start_time": "2023-08-29T17:41:26.243Z"
   },
   {
    "duration": 5,
    "start_time": "2023-08-29T17:41:26.253Z"
   },
   {
    "duration": 13,
    "start_time": "2023-08-29T17:41:26.260Z"
   },
   {
    "duration": 7,
    "start_time": "2023-08-29T17:41:26.276Z"
   },
   {
    "duration": 40,
    "start_time": "2023-08-29T17:41:26.286Z"
   },
   {
    "duration": 4,
    "start_time": "2023-08-29T17:41:26.328Z"
   },
   {
    "duration": 5,
    "start_time": "2023-08-29T17:41:26.334Z"
   },
   {
    "duration": 13,
    "start_time": "2023-08-29T17:41:26.341Z"
   },
   {
    "duration": 8,
    "start_time": "2023-08-29T17:41:26.357Z"
   },
   {
    "duration": 32,
    "start_time": "2023-08-29T17:41:26.368Z"
   },
   {
    "duration": 9,
    "start_time": "2023-08-29T17:41:26.402Z"
   },
   {
    "duration": 16,
    "start_time": "2023-08-29T17:41:26.413Z"
   },
   {
    "duration": 10,
    "start_time": "2023-08-29T17:41:26.433Z"
   },
   {
    "duration": 9,
    "start_time": "2023-08-29T17:41:26.446Z"
   },
   {
    "duration": 6,
    "start_time": "2023-08-29T17:41:26.457Z"
   },
   {
    "duration": 6,
    "start_time": "2023-08-29T17:41:26.465Z"
   },
   {
    "duration": 36,
    "start_time": "2023-08-29T17:41:26.473Z"
   },
   {
    "duration": 14,
    "start_time": "2023-08-29T17:41:26.521Z"
   },
   {
    "duration": 48816,
    "start_time": "2023-08-29T17:41:26.542Z"
   },
   {
    "duration": 5,
    "start_time": "2023-08-29T17:42:15.360Z"
   },
   {
    "duration": 10,
    "start_time": "2023-08-29T17:46:04.505Z"
   },
   {
    "duration": 4,
    "start_time": "2023-08-29T17:46:05.659Z"
   },
   {
    "duration": 5,
    "start_time": "2023-08-29T17:46:06.260Z"
   },
   {
    "duration": 18,
    "start_time": "2023-08-29T17:46:07.423Z"
   },
   {
    "duration": 49395,
    "start_time": "2023-08-29T17:46:08.154Z"
   },
   {
    "duration": 7,
    "start_time": "2023-08-29T17:46:57.552Z"
   },
   {
    "duration": 2569,
    "start_time": "2023-08-29T18:30:25.958Z"
   },
   {
    "duration": 10,
    "start_time": "2023-08-29T18:30:28.529Z"
   },
   {
    "duration": 79,
    "start_time": "2023-08-29T18:30:28.541Z"
   },
   {
    "duration": 24,
    "start_time": "2023-08-29T18:30:28.622Z"
   },
   {
    "duration": 31,
    "start_time": "2023-08-29T18:30:28.648Z"
   },
   {
    "duration": 11,
    "start_time": "2023-08-29T18:30:28.682Z"
   },
   {
    "duration": 16,
    "start_time": "2023-08-29T18:30:28.698Z"
   },
   {
    "duration": 1461,
    "start_time": "2023-08-29T18:30:28.718Z"
   },
   {
    "duration": 7,
    "start_time": "2023-08-29T18:30:30.191Z"
   },
   {
    "duration": 45,
    "start_time": "2023-08-29T18:30:30.202Z"
   },
   {
    "duration": 13,
    "start_time": "2023-08-29T18:30:30.250Z"
   },
   {
    "duration": 269,
    "start_time": "2023-08-29T18:30:30.266Z"
   },
   {
    "duration": 11,
    "start_time": "2023-08-29T18:30:30.539Z"
   },
   {
    "duration": 55,
    "start_time": "2023-08-29T18:30:30.560Z"
   },
   {
    "duration": 287,
    "start_time": "2023-08-29T18:30:30.618Z"
   },
   {
    "duration": 5,
    "start_time": "2023-08-29T18:30:30.908Z"
   },
   {
    "duration": 137,
    "start_time": "2023-08-29T18:30:30.916Z"
   },
   {
    "duration": 334,
    "start_time": "2023-08-29T18:30:31.056Z"
   },
   {
    "duration": 6,
    "start_time": "2023-08-29T18:30:31.393Z"
   },
   {
    "duration": 51,
    "start_time": "2023-08-29T18:30:31.401Z"
   },
   {
    "duration": 280,
    "start_time": "2023-08-29T18:30:31.455Z"
   },
   {
    "duration": 7,
    "start_time": "2023-08-29T18:30:31.737Z"
   },
   {
    "duration": 43,
    "start_time": "2023-08-29T18:30:31.746Z"
   },
   {
    "duration": 46,
    "start_time": "2023-08-29T18:30:31.791Z"
   },
   {
    "duration": 33,
    "start_time": "2023-08-29T18:30:31.840Z"
   },
   {
    "duration": 46,
    "start_time": "2023-08-29T18:30:31.876Z"
   },
   {
    "duration": 39,
    "start_time": "2023-08-29T18:30:31.925Z"
   },
   {
    "duration": 45,
    "start_time": "2023-08-29T18:30:31.967Z"
   },
   {
    "duration": 59,
    "start_time": "2023-08-29T18:30:32.017Z"
   },
   {
    "duration": 26,
    "start_time": "2023-08-29T18:30:32.078Z"
   },
   {
    "duration": 45,
    "start_time": "2023-08-29T18:30:32.106Z"
   },
   {
    "duration": 51,
    "start_time": "2023-08-29T18:30:32.153Z"
   },
   {
    "duration": 39,
    "start_time": "2023-08-29T18:30:32.206Z"
   },
   {
    "duration": 47,
    "start_time": "2023-08-29T18:30:32.248Z"
   },
   {
    "duration": 22,
    "start_time": "2023-08-29T18:30:32.299Z"
   },
   {
    "duration": 33,
    "start_time": "2023-08-29T18:30:32.323Z"
   },
   {
    "duration": 44,
    "start_time": "2023-08-29T18:30:32.361Z"
   },
   {
    "duration": 30,
    "start_time": "2023-08-29T18:30:32.407Z"
   },
   {
    "duration": 22,
    "start_time": "2023-08-29T18:30:32.440Z"
   },
   {
    "duration": 29,
    "start_time": "2023-08-29T18:30:32.464Z"
   },
   {
    "duration": 17,
    "start_time": "2023-08-29T18:30:32.502Z"
   },
   {
    "duration": 27,
    "start_time": "2023-08-29T18:30:32.522Z"
   },
   {
    "duration": 22,
    "start_time": "2023-08-29T18:30:32.551Z"
   },
   {
    "duration": 51171,
    "start_time": "2023-08-29T18:30:32.576Z"
   },
   {
    "duration": 6,
    "start_time": "2023-08-29T18:31:23.749Z"
   },
   {
    "duration": 2043269,
    "start_time": "2023-08-29T18:31:29.767Z"
   },
   {
    "duration": 2240,
    "start_time": "2023-08-29T19:07:38.247Z"
   },
   {
    "duration": 6,
    "start_time": "2023-08-29T19:07:40.490Z"
   },
   {
    "duration": 49,
    "start_time": "2023-08-29T19:07:40.498Z"
   },
   {
    "duration": 15,
    "start_time": "2023-08-29T19:07:40.550Z"
   },
   {
    "duration": 17,
    "start_time": "2023-08-29T19:07:40.567Z"
   },
   {
    "duration": 15,
    "start_time": "2023-08-29T19:07:40.601Z"
   },
   {
    "duration": 7,
    "start_time": "2023-08-29T19:07:40.622Z"
   },
   {
    "duration": 1261,
    "start_time": "2023-08-29T19:07:40.631Z"
   },
   {
    "duration": 11,
    "start_time": "2023-08-29T19:07:41.895Z"
   },
   {
    "duration": 10,
    "start_time": "2023-08-29T19:07:41.910Z"
   },
   {
    "duration": 9,
    "start_time": "2023-08-29T19:07:41.933Z"
   },
   {
    "duration": 214,
    "start_time": "2023-08-29T19:07:41.944Z"
   },
   {
    "duration": 5,
    "start_time": "2023-08-29T19:07:42.159Z"
   },
   {
    "duration": 24,
    "start_time": "2023-08-29T19:07:42.165Z"
   },
   {
    "duration": 190,
    "start_time": "2023-08-29T19:07:42.190Z"
   },
   {
    "duration": 12,
    "start_time": "2023-08-29T19:07:42.391Z"
   },
   {
    "duration": 30,
    "start_time": "2023-08-29T19:07:42.405Z"
   },
   {
    "duration": 200,
    "start_time": "2023-08-29T19:07:42.436Z"
   },
   {
    "duration": 5,
    "start_time": "2023-08-29T19:07:42.638Z"
   },
   {
    "duration": 16,
    "start_time": "2023-08-29T19:07:42.645Z"
   },
   {
    "duration": 198,
    "start_time": "2023-08-29T19:07:42.663Z"
   },
   {
    "duration": 4,
    "start_time": "2023-08-29T19:07:42.863Z"
   },
   {
    "duration": 46,
    "start_time": "2023-08-29T19:07:42.869Z"
   },
   {
    "duration": 10,
    "start_time": "2023-08-29T19:07:42.919Z"
   },
   {
    "duration": 11,
    "start_time": "2023-08-29T19:07:42.931Z"
   },
   {
    "duration": 17,
    "start_time": "2023-08-29T19:07:42.944Z"
   },
   {
    "duration": 16,
    "start_time": "2023-08-29T19:07:42.962Z"
   },
   {
    "duration": 31,
    "start_time": "2023-08-29T19:07:42.983Z"
   },
   {
    "duration": 11,
    "start_time": "2023-08-29T19:07:43.019Z"
   },
   {
    "duration": 10,
    "start_time": "2023-08-29T19:07:43.032Z"
   },
   {
    "duration": 23,
    "start_time": "2023-08-29T19:07:43.047Z"
   },
   {
    "duration": 7,
    "start_time": "2023-08-29T19:07:43.072Z"
   },
   {
    "duration": 12,
    "start_time": "2023-08-29T19:07:43.085Z"
   },
   {
    "duration": 8,
    "start_time": "2023-08-29T19:07:43.101Z"
   },
   {
    "duration": 7,
    "start_time": "2023-08-29T19:07:43.111Z"
   },
   {
    "duration": 8,
    "start_time": "2023-08-29T19:07:43.120Z"
   },
   {
    "duration": 6,
    "start_time": "2023-08-29T19:07:43.130Z"
   },
   {
    "duration": 7,
    "start_time": "2023-08-29T19:07:43.137Z"
   },
   {
    "duration": 22,
    "start_time": "2023-08-29T19:07:43.146Z"
   },
   {
    "duration": 8,
    "start_time": "2023-08-29T19:07:43.170Z"
   },
   {
    "duration": 26,
    "start_time": "2023-08-29T19:07:43.180Z"
   },
   {
    "duration": 5,
    "start_time": "2023-08-29T19:07:43.208Z"
   },
   {
    "duration": 13,
    "start_time": "2023-08-29T19:07:43.215Z"
   },
   {
    "duration": 48923,
    "start_time": "2023-08-29T19:07:43.230Z"
   },
   {
    "duration": 5,
    "start_time": "2023-08-29T19:08:32.157Z"
   },
   {
    "duration": 2586143,
    "start_time": "2023-08-29T19:08:32.164Z"
   },
   {
    "duration": 9,
    "start_time": "2023-08-29T19:51:38.309Z"
   },
   {
    "duration": 10,
    "start_time": "2023-08-29T19:51:38.320Z"
   },
   {
    "duration": 31,
    "start_time": "2023-08-29T19:51:38.332Z"
   },
   {
    "duration": 464,
    "start_time": "2023-08-29T19:51:38.382Z"
   },
   {
    "duration": 5652,
    "start_time": "2023-08-30T10:03:22.739Z"
   },
   {
    "duration": 6,
    "start_time": "2023-08-30T10:03:28.399Z"
   },
   {
    "duration": 132,
    "start_time": "2023-08-30T10:03:28.412Z"
   },
   {
    "duration": 59,
    "start_time": "2023-08-30T10:03:28.555Z"
   },
   {
    "duration": 34,
    "start_time": "2023-08-30T10:03:28.619Z"
   },
   {
    "duration": 17,
    "start_time": "2023-08-30T10:03:28.659Z"
   },
   {
    "duration": 10,
    "start_time": "2023-08-30T10:03:28.688Z"
   },
   {
    "duration": 1744,
    "start_time": "2023-08-30T10:03:28.703Z"
   },
   {
    "duration": 34,
    "start_time": "2023-08-30T10:03:30.460Z"
   },
   {
    "duration": 34,
    "start_time": "2023-08-30T10:03:30.504Z"
   },
   {
    "duration": 47,
    "start_time": "2023-08-30T10:03:30.550Z"
   },
   {
    "duration": 350,
    "start_time": "2023-08-30T10:03:30.623Z"
   },
   {
    "duration": 14,
    "start_time": "2023-08-30T10:03:30.982Z"
   },
   {
    "duration": 42,
    "start_time": "2023-08-30T10:03:31.005Z"
   },
   {
    "duration": 404,
    "start_time": "2023-08-30T10:03:31.050Z"
   },
   {
    "duration": 6,
    "start_time": "2023-08-30T10:03:31.457Z"
   },
   {
    "duration": 14,
    "start_time": "2023-08-30T10:03:31.466Z"
   },
   {
    "duration": 428,
    "start_time": "2023-08-30T10:03:31.483Z"
   },
   {
    "duration": 10,
    "start_time": "2023-08-30T10:03:31.913Z"
   },
   {
    "duration": 53,
    "start_time": "2023-08-30T10:03:31.925Z"
   },
   {
    "duration": 351,
    "start_time": "2023-08-30T10:03:31.980Z"
   },
   {
    "duration": 8,
    "start_time": "2023-08-30T10:03:32.333Z"
   },
   {
    "duration": 23,
    "start_time": "2023-08-30T10:03:32.351Z"
   },
   {
    "duration": 21,
    "start_time": "2023-08-30T10:03:32.381Z"
   },
   {
    "duration": 21,
    "start_time": "2023-08-30T10:03:32.409Z"
   },
   {
    "duration": 9,
    "start_time": "2023-08-30T10:03:32.437Z"
   },
   {
    "duration": 13,
    "start_time": "2023-08-30T10:03:32.454Z"
   },
   {
    "duration": 12,
    "start_time": "2023-08-30T10:03:32.475Z"
   },
   {
    "duration": 38,
    "start_time": "2023-08-30T10:03:32.498Z"
   },
   {
    "duration": 11,
    "start_time": "2023-08-30T10:03:32.546Z"
   },
   {
    "duration": 45,
    "start_time": "2023-08-30T10:03:32.562Z"
   },
   {
    "duration": 10,
    "start_time": "2023-08-30T10:03:32.615Z"
   },
   {
    "duration": 17,
    "start_time": "2023-08-30T10:03:32.632Z"
   },
   {
    "duration": 25,
    "start_time": "2023-08-30T10:03:32.656Z"
   },
   {
    "duration": 21,
    "start_time": "2023-08-30T10:03:32.688Z"
   },
   {
    "duration": 47,
    "start_time": "2023-08-30T10:03:32.716Z"
   },
   {
    "duration": 9,
    "start_time": "2023-08-30T10:03:32.769Z"
   },
   {
    "duration": 22,
    "start_time": "2023-08-30T10:03:32.784Z"
   },
   {
    "duration": 10,
    "start_time": "2023-08-30T10:03:32.816Z"
   },
   {
    "duration": 6,
    "start_time": "2023-08-30T10:03:32.832Z"
   },
   {
    "duration": 17,
    "start_time": "2023-08-30T10:03:32.847Z"
   },
   {
    "duration": 5,
    "start_time": "2023-08-30T10:03:32.897Z"
   },
   {
    "duration": 18,
    "start_time": "2023-08-30T10:03:32.905Z"
   },
   {
    "duration": 67711,
    "start_time": "2023-08-30T10:03:38.542Z"
   },
   {
    "duration": 17,
    "start_time": "2023-08-30T10:04:50.003Z"
   },
   {
    "duration": 4,
    "start_time": "2023-08-30T10:05:11.324Z"
   },
   {
    "duration": 12,
    "start_time": "2023-08-30T10:05:13.547Z"
   },
   {
    "duration": 946,
    "start_time": "2023-08-30T10:05:14.563Z"
   },
   {
    "duration": 7,
    "start_time": "2023-08-30T10:07:02.199Z"
   },
   {
    "duration": 144022,
    "start_time": "2023-08-30T10:07:20.188Z"
   },
   {
    "duration": 3425,
    "start_time": "2023-08-30T10:11:50.525Z"
   },
   {
    "duration": 8,
    "start_time": "2023-08-30T10:11:53.958Z"
   },
   {
    "duration": 61,
    "start_time": "2023-08-30T10:11:53.974Z"
   },
   {
    "duration": 56,
    "start_time": "2023-08-30T10:11:54.043Z"
   },
   {
    "duration": 49,
    "start_time": "2023-08-30T10:11:54.110Z"
   },
   {
    "duration": 25,
    "start_time": "2023-08-30T10:11:54.175Z"
   },
   {
    "duration": 18,
    "start_time": "2023-08-30T10:11:54.208Z"
   },
   {
    "duration": 2591,
    "start_time": "2023-08-30T10:11:54.235Z"
   },
   {
    "duration": 15,
    "start_time": "2023-08-30T10:11:56.834Z"
   },
   {
    "duration": 12,
    "start_time": "2023-08-30T10:11:56.859Z"
   },
   {
    "duration": 19,
    "start_time": "2023-08-30T10:11:56.878Z"
   },
   {
    "duration": 340,
    "start_time": "2023-08-30T10:11:56.905Z"
   },
   {
    "duration": 11,
    "start_time": "2023-08-30T10:11:57.248Z"
   },
   {
    "duration": 29,
    "start_time": "2023-08-30T10:11:57.277Z"
   },
   {
    "duration": 389,
    "start_time": "2023-08-30T10:11:57.315Z"
   },
   {
    "duration": 17,
    "start_time": "2023-08-30T10:11:57.714Z"
   },
   {
    "duration": 19,
    "start_time": "2023-08-30T10:11:57.740Z"
   },
   {
    "duration": 377,
    "start_time": "2023-08-30T10:11:57.769Z"
   },
   {
    "duration": 13,
    "start_time": "2023-08-30T10:11:58.154Z"
   },
   {
    "duration": 23,
    "start_time": "2023-08-30T10:11:58.178Z"
   },
   {
    "duration": 284,
    "start_time": "2023-08-30T10:11:58.212Z"
   },
   {
    "duration": 11,
    "start_time": "2023-08-30T10:11:58.503Z"
   },
   {
    "duration": 72,
    "start_time": "2023-08-30T10:11:58.522Z"
   },
   {
    "duration": 11,
    "start_time": "2023-08-30T10:11:58.613Z"
   },
   {
    "duration": 21,
    "start_time": "2023-08-30T10:11:58.627Z"
   },
   {
    "duration": 38,
    "start_time": "2023-08-30T10:11:58.650Z"
   },
   {
    "duration": 72,
    "start_time": "2023-08-30T10:11:58.696Z"
   },
   {
    "duration": 21,
    "start_time": "2023-08-30T10:11:58.786Z"
   },
   {
    "duration": 56,
    "start_time": "2023-08-30T10:11:58.811Z"
   },
   {
    "duration": 11,
    "start_time": "2023-08-30T10:11:58.870Z"
   },
   {
    "duration": 47,
    "start_time": "2023-08-30T10:11:58.885Z"
   },
   {
    "duration": 12,
    "start_time": "2023-08-30T10:11:58.958Z"
   },
   {
    "duration": 34,
    "start_time": "2023-08-30T10:11:58.979Z"
   },
   {
    "duration": 21,
    "start_time": "2023-08-30T10:11:59.023Z"
   },
   {
    "duration": 29,
    "start_time": "2023-08-30T10:11:59.049Z"
   },
   {
    "duration": 26,
    "start_time": "2023-08-30T10:11:59.081Z"
   },
   {
    "duration": 17,
    "start_time": "2023-08-30T10:11:59.119Z"
   },
   {
    "duration": 27,
    "start_time": "2023-08-30T10:11:59.143Z"
   },
   {
    "duration": 13,
    "start_time": "2023-08-30T10:11:59.178Z"
   },
   {
    "duration": 6,
    "start_time": "2023-08-30T10:11:59.195Z"
   },
   {
    "duration": 22,
    "start_time": "2023-08-30T10:11:59.209Z"
   },
   {
    "duration": 24,
    "start_time": "2023-08-30T10:11:59.241Z"
   },
   {
    "duration": 9,
    "start_time": "2023-08-30T10:19:53.966Z"
   },
   {
    "duration": 210,
    "start_time": "2023-08-30T10:20:48.603Z"
   },
   {
    "duration": 16,
    "start_time": "2023-08-30T10:20:56.435Z"
   },
   {
    "duration": 1102,
    "start_time": "2023-08-30T10:20:57.643Z"
   },
   {
    "duration": 13,
    "start_time": "2023-08-30T10:21:01.742Z"
   },
   {
    "duration": 920,
    "start_time": "2023-08-30T10:21:10.145Z"
   },
   {
    "duration": 5,
    "start_time": "2023-08-30T10:21:19.930Z"
   },
   {
    "duration": 143035,
    "start_time": "2023-08-30T10:21:50.666Z"
   },
   {
    "duration": 22,
    "start_time": "2023-08-30T10:24:18.107Z"
   },
   {
    "duration": 3133,
    "start_time": "2023-08-30T10:30:48.559Z"
   },
   {
    "duration": 4,
    "start_time": "2023-08-30T10:30:51.697Z"
   },
   {
    "duration": 74,
    "start_time": "2023-08-30T10:30:51.704Z"
   },
   {
    "duration": 16,
    "start_time": "2023-08-30T10:30:51.781Z"
   },
   {
    "duration": 23,
    "start_time": "2023-08-30T10:30:51.800Z"
   },
   {
    "duration": 26,
    "start_time": "2023-08-30T10:30:51.830Z"
   },
   {
    "duration": 8,
    "start_time": "2023-08-30T10:30:51.858Z"
   },
   {
    "duration": 1440,
    "start_time": "2023-08-30T10:30:51.869Z"
   },
   {
    "duration": 23,
    "start_time": "2023-08-30T10:30:53.311Z"
   },
   {
    "duration": 20,
    "start_time": "2023-08-30T10:30:53.340Z"
   },
   {
    "duration": 30,
    "start_time": "2023-08-30T10:30:53.367Z"
   },
   {
    "duration": 266,
    "start_time": "2023-08-30T10:30:53.400Z"
   },
   {
    "duration": 10,
    "start_time": "2023-08-30T10:30:53.671Z"
   },
   {
    "duration": 24,
    "start_time": "2023-08-30T10:30:53.688Z"
   },
   {
    "duration": 223,
    "start_time": "2023-08-30T10:30:53.721Z"
   },
   {
    "duration": 8,
    "start_time": "2023-08-30T10:30:53.950Z"
   },
   {
    "duration": 22,
    "start_time": "2023-08-30T10:30:53.964Z"
   },
   {
    "duration": 285,
    "start_time": "2023-08-30T10:30:53.992Z"
   },
   {
    "duration": 7,
    "start_time": "2023-08-30T10:30:54.279Z"
   },
   {
    "duration": 35,
    "start_time": "2023-08-30T10:30:54.288Z"
   },
   {
    "duration": 280,
    "start_time": "2023-08-30T10:30:54.325Z"
   },
   {
    "duration": 14,
    "start_time": "2023-08-30T10:30:54.607Z"
   },
   {
    "duration": 13,
    "start_time": "2023-08-30T10:30:54.624Z"
   },
   {
    "duration": 18,
    "start_time": "2023-08-30T10:30:54.639Z"
   },
   {
    "duration": 13,
    "start_time": "2023-08-30T10:30:54.660Z"
   },
   {
    "duration": 19,
    "start_time": "2023-08-30T10:30:54.676Z"
   },
   {
    "duration": 22,
    "start_time": "2023-08-30T10:30:54.697Z"
   },
   {
    "duration": 31,
    "start_time": "2023-08-30T10:30:54.726Z"
   },
   {
    "duration": 29,
    "start_time": "2023-08-30T10:30:54.759Z"
   },
   {
    "duration": 6,
    "start_time": "2023-08-30T10:30:54.791Z"
   },
   {
    "duration": 54,
    "start_time": "2023-08-30T10:30:54.799Z"
   },
   {
    "duration": 7,
    "start_time": "2023-08-30T10:30:54.866Z"
   },
   {
    "duration": 13,
    "start_time": "2023-08-30T10:30:54.875Z"
   },
   {
    "duration": 25,
    "start_time": "2023-08-30T10:30:54.894Z"
   },
   {
    "duration": 14,
    "start_time": "2023-08-30T10:30:54.922Z"
   },
   {
    "duration": 32,
    "start_time": "2023-08-30T10:30:54.943Z"
   },
   {
    "duration": 5,
    "start_time": "2023-08-30T10:30:54.979Z"
   },
   {
    "duration": 7,
    "start_time": "2023-08-30T10:30:54.986Z"
   },
   {
    "duration": 6,
    "start_time": "2023-08-30T10:30:54.995Z"
   },
   {
    "duration": 18,
    "start_time": "2023-08-30T10:30:55.003Z"
   },
   {
    "duration": 11,
    "start_time": "2023-08-30T10:30:55.031Z"
   },
   {
    "duration": 9,
    "start_time": "2023-08-30T10:30:55.048Z"
   },
   {
    "duration": 5,
    "start_time": "2023-08-30T10:31:21.878Z"
   },
   {
    "duration": 7,
    "start_time": "2023-08-30T10:31:21.885Z"
   },
   {
    "duration": 69,
    "start_time": "2023-08-30T10:31:21.895Z"
   },
   {
    "duration": 19,
    "start_time": "2023-08-30T10:31:21.967Z"
   },
   {
    "duration": 22,
    "start_time": "2023-08-30T10:31:21.996Z"
   },
   {
    "duration": 26,
    "start_time": "2023-08-30T10:31:22.021Z"
   },
   {
    "duration": 16,
    "start_time": "2023-08-30T10:31:22.049Z"
   },
   {
    "duration": 1528,
    "start_time": "2023-08-30T10:31:22.070Z"
   },
   {
    "duration": 7,
    "start_time": "2023-08-30T10:31:23.600Z"
   },
   {
    "duration": 10,
    "start_time": "2023-08-30T10:31:23.611Z"
   },
   {
    "duration": 26,
    "start_time": "2023-08-30T10:31:23.624Z"
   },
   {
    "duration": 232,
    "start_time": "2023-08-30T10:31:23.654Z"
   },
   {
    "duration": 6,
    "start_time": "2023-08-30T10:31:23.888Z"
   },
   {
    "duration": 25,
    "start_time": "2023-08-30T10:31:23.900Z"
   },
   {
    "duration": 247,
    "start_time": "2023-08-30T10:31:23.938Z"
   },
   {
    "duration": 6,
    "start_time": "2023-08-30T10:31:24.188Z"
   },
   {
    "duration": 36,
    "start_time": "2023-08-30T10:31:24.209Z"
   },
   {
    "duration": 217,
    "start_time": "2023-08-30T10:31:24.247Z"
   },
   {
    "duration": 8,
    "start_time": "2023-08-30T10:31:24.469Z"
   },
   {
    "duration": 17,
    "start_time": "2023-08-30T10:31:24.480Z"
   },
   {
    "duration": 337,
    "start_time": "2023-08-30T10:31:24.500Z"
   },
   {
    "duration": 18,
    "start_time": "2023-08-30T10:31:24.844Z"
   },
   {
    "duration": 12,
    "start_time": "2023-08-30T10:31:24.870Z"
   },
   {
    "duration": 7,
    "start_time": "2023-08-30T10:31:24.885Z"
   },
   {
    "duration": 7,
    "start_time": "2023-08-30T10:31:24.894Z"
   },
   {
    "duration": 13,
    "start_time": "2023-08-30T10:31:24.911Z"
   },
   {
    "duration": 12,
    "start_time": "2023-08-30T10:31:24.927Z"
   },
   {
    "duration": 27,
    "start_time": "2023-08-30T10:31:24.947Z"
   },
   {
    "duration": 28,
    "start_time": "2023-08-30T10:31:24.976Z"
   },
   {
    "duration": 34,
    "start_time": "2023-08-30T10:31:25.006Z"
   },
   {
    "duration": 39,
    "start_time": "2023-08-30T10:31:25.044Z"
   },
   {
    "duration": 6,
    "start_time": "2023-08-30T10:31:25.085Z"
   },
   {
    "duration": 13,
    "start_time": "2023-08-30T10:31:25.094Z"
   },
   {
    "duration": 21,
    "start_time": "2023-08-30T10:31:25.109Z"
   },
   {
    "duration": 19,
    "start_time": "2023-08-30T10:31:25.135Z"
   },
   {
    "duration": 22,
    "start_time": "2023-08-30T10:31:25.155Z"
   },
   {
    "duration": 12,
    "start_time": "2023-08-30T10:31:25.179Z"
   },
   {
    "duration": 7,
    "start_time": "2023-08-30T10:31:25.193Z"
   },
   {
    "duration": 16,
    "start_time": "2023-08-30T10:31:25.202Z"
   },
   {
    "duration": 22,
    "start_time": "2023-08-30T10:31:25.220Z"
   },
   {
    "duration": 8,
    "start_time": "2023-08-30T10:31:25.246Z"
   },
   {
    "duration": 11,
    "start_time": "2023-08-30T10:31:25.259Z"
   },
   {
    "duration": 15,
    "start_time": "2023-08-30T10:31:28.949Z"
   },
   {
    "duration": 56540,
    "start_time": "2023-08-30T10:31:33.363Z"
   },
   {
    "duration": 5,
    "start_time": "2023-08-30T10:32:32.771Z"
   },
   {
    "duration": 3671584,
    "start_time": "2023-08-30T10:32:36.798Z"
   },
   {
    "duration": 2594,
    "start_time": "2023-08-30T11:34:41.281Z"
   },
   {
    "duration": 8,
    "start_time": "2023-08-30T11:34:46.339Z"
   },
   {
    "duration": 30,
    "start_time": "2023-08-30T11:34:47.048Z"
   },
   {
    "duration": 21,
    "start_time": "2023-08-30T11:34:47.745Z"
   },
   {
    "duration": 17,
    "start_time": "2023-08-30T11:34:48.682Z"
   },
   {
    "duration": 8,
    "start_time": "2023-08-30T11:34:49.360Z"
   },
   {
    "duration": 8,
    "start_time": "2023-08-30T11:34:49.978Z"
   },
   {
    "duration": 1293,
    "start_time": "2023-08-30T11:34:50.670Z"
   },
   {
    "duration": 11,
    "start_time": "2023-08-30T11:34:53.458Z"
   },
   {
    "duration": 7,
    "start_time": "2023-08-30T11:34:53.954Z"
   },
   {
    "duration": 10,
    "start_time": "2023-08-30T11:34:54.460Z"
   },
   {
    "duration": 190,
    "start_time": "2023-08-30T11:34:54.957Z"
   },
   {
    "duration": 6,
    "start_time": "2023-08-30T11:34:55.476Z"
   },
   {
    "duration": 12,
    "start_time": "2023-08-30T11:34:55.992Z"
   },
   {
    "duration": 226,
    "start_time": "2023-08-30T11:34:56.474Z"
   },
   {
    "duration": 6,
    "start_time": "2023-08-30T11:34:56.971Z"
   },
   {
    "duration": 17,
    "start_time": "2023-08-30T11:34:57.508Z"
   },
   {
    "duration": 221,
    "start_time": "2023-08-30T11:34:58.050Z"
   },
   {
    "duration": 11,
    "start_time": "2023-08-30T11:34:58.634Z"
   },
   {
    "duration": 11,
    "start_time": "2023-08-30T11:34:59.181Z"
   },
   {
    "duration": 188,
    "start_time": "2023-08-30T11:34:59.774Z"
   },
   {
    "duration": 5,
    "start_time": "2023-08-30T11:35:00.385Z"
   },
   {
    "duration": 4,
    "start_time": "2023-08-30T11:37:24.363Z"
   },
   {
    "duration": 4,
    "start_time": "2023-08-30T11:37:27.581Z"
   },
   {
    "duration": 27,
    "start_time": "2023-08-30T11:37:28.470Z"
   },
   {
    "duration": 17,
    "start_time": "2023-08-30T11:37:30.030Z"
   },
   {
    "duration": 21,
    "start_time": "2023-08-30T11:37:30.931Z"
   },
   {
    "duration": 12,
    "start_time": "2023-08-30T11:37:32.021Z"
   },
   {
    "duration": 13,
    "start_time": "2023-08-30T11:37:32.828Z"
   },
   {
    "duration": 1235,
    "start_time": "2023-08-30T11:37:33.652Z"
   },
   {
    "duration": 6,
    "start_time": "2023-08-30T11:37:37.054Z"
   },
   {
    "duration": 7,
    "start_time": "2023-08-30T11:37:37.695Z"
   },
   {
    "duration": 10,
    "start_time": "2023-08-30T11:37:38.437Z"
   },
   {
    "duration": 177,
    "start_time": "2023-08-30T11:37:39.092Z"
   },
   {
    "duration": 6,
    "start_time": "2023-08-30T11:37:39.791Z"
   },
   {
    "duration": 12,
    "start_time": "2023-08-30T11:37:40.501Z"
   },
   {
    "duration": 186,
    "start_time": "2023-08-30T11:37:41.103Z"
   },
   {
    "duration": 10,
    "start_time": "2023-08-30T11:37:41.939Z"
   },
   {
    "duration": 11,
    "start_time": "2023-08-30T11:37:42.555Z"
   },
   {
    "duration": 204,
    "start_time": "2023-08-30T11:37:43.349Z"
   },
   {
    "duration": 12,
    "start_time": "2023-08-30T11:37:44.201Z"
   },
   {
    "duration": 14,
    "start_time": "2023-08-30T11:37:45.006Z"
   },
   {
    "duration": 185,
    "start_time": "2023-08-30T11:37:46.759Z"
   },
   {
    "duration": 5,
    "start_time": "2023-08-30T11:37:47.355Z"
   },
   {
    "duration": 7,
    "start_time": "2023-08-30T11:37:47.943Z"
   },
   {
    "duration": 5,
    "start_time": "2023-08-30T11:37:48.492Z"
   },
   {
    "duration": 8,
    "start_time": "2023-08-30T11:37:49.033Z"
   },
   {
    "duration": 5,
    "start_time": "2023-08-30T11:37:49.569Z"
   },
   {
    "duration": 4,
    "start_time": "2023-08-30T11:37:50.170Z"
   },
   {
    "duration": 5,
    "start_time": "2023-08-30T11:37:50.744Z"
   },
   {
    "duration": 15,
    "start_time": "2023-08-30T11:37:51.806Z"
   },
   {
    "duration": 13,
    "start_time": "2023-08-30T11:37:52.709Z"
   },
   {
    "duration": 23,
    "start_time": "2023-08-30T11:37:53.893Z"
   },
   {
    "duration": 5,
    "start_time": "2023-08-30T11:37:54.596Z"
   },
   {
    "duration": 6,
    "start_time": "2023-08-30T11:37:55.844Z"
   },
   {
    "duration": 5,
    "start_time": "2023-08-30T11:37:56.644Z"
   },
   {
    "duration": 3,
    "start_time": "2023-08-30T11:37:57.355Z"
   },
   {
    "duration": 8,
    "start_time": "2023-08-30T11:37:58.160Z"
   },
   {
    "duration": 7,
    "start_time": "2023-08-30T11:37:58.812Z"
   },
   {
    "duration": 6,
    "start_time": "2023-08-30T11:38:02.269Z"
   },
   {
    "duration": 3,
    "start_time": "2023-08-30T11:38:03.702Z"
   },
   {
    "duration": 3,
    "start_time": "2023-08-30T11:38:34.160Z"
   },
   {
    "duration": 5,
    "start_time": "2023-08-30T11:38:38.101Z"
   },
   {
    "duration": 6,
    "start_time": "2023-08-30T11:38:52.471Z"
   },
   {
    "duration": 13,
    "start_time": "2023-08-30T11:39:47.281Z"
   },
   {
    "duration": 5,
    "start_time": "2023-08-30T11:43:26.159Z"
   },
   {
    "duration": 11,
    "start_time": "2023-08-30T11:43:40.137Z"
   },
   {
    "duration": 10,
    "start_time": "2023-08-30T11:43:51.390Z"
   },
   {
    "duration": 454,
    "start_time": "2023-08-30T11:45:09.638Z"
   },
   {
    "duration": 5,
    "start_time": "2023-08-30T11:45:19.670Z"
   },
   {
    "duration": 10,
    "start_time": "2023-08-30T11:45:20.193Z"
   },
   {
    "duration": 36,
    "start_time": "2023-08-30T11:45:24.204Z"
   },
   {
    "duration": 13,
    "start_time": "2023-08-30T11:45:28.775Z"
   },
   {
    "duration": 5,
    "start_time": "2023-08-30T11:48:06.255Z"
   },
   {
    "duration": 90,
    "start_time": "2023-08-30T11:48:07.607Z"
   },
   {
    "duration": 6,
    "start_time": "2023-08-30T11:49:33.661Z"
   },
   {
    "duration": 108,
    "start_time": "2023-08-30T11:50:35.597Z"
   },
   {
    "duration": 4073,
    "start_time": "2023-08-30T11:50:46.357Z"
   },
   {
    "duration": 17381,
    "start_time": "2023-08-30T11:51:03.456Z"
   },
   {
    "duration": 6,
    "start_time": "2023-08-30T11:52:01.044Z"
   },
   {
    "duration": 641,
    "start_time": "2023-08-30T11:52:01.833Z"
   },
   {
    "duration": 33516,
    "start_time": "2023-08-30T11:52:06.041Z"
   },
   {
    "duration": 161458,
    "start_time": "2023-08-30T11:52:52.887Z"
   },
   {
    "duration": 8,
    "start_time": "2023-08-30T11:56:38.335Z"
   },
   {
    "duration": 5,
    "start_time": "2023-08-30T11:56:38.890Z"
   },
   {
    "duration": 19,
    "start_time": "2023-08-30T11:56:39.459Z"
   },
   {
    "duration": 9,
    "start_time": "2023-08-30T11:56:41.909Z"
   },
   {
    "duration": 943,
    "start_time": "2023-08-30T11:56:43.129Z"
   },
   {
    "duration": 47291,
    "start_time": "2023-08-30T11:56:50.622Z"
   },
   {
    "duration": 275992,
    "start_time": "2023-08-30T11:57:46.789Z"
   },
   {
    "duration": 3,
    "start_time": "2023-08-30T12:02:57.858Z"
   },
   {
    "duration": 4,
    "start_time": "2023-08-30T12:02:58.356Z"
   },
   {
    "duration": 16,
    "start_time": "2023-08-30T12:02:58.856Z"
   },
   {
    "duration": 6,
    "start_time": "2023-08-30T12:03:22.947Z"
   },
   {
    "duration": 660,
    "start_time": "2023-08-30T12:03:30.401Z"
   },
   {
    "duration": 43720,
    "start_time": "2023-08-30T12:03:34.458Z"
   },
   {
    "duration": 60263,
    "start_time": "2023-08-30T12:04:28.870Z"
   },
   {
    "duration": 2305,
    "start_time": "2023-08-30T12:08:04.369Z"
   },
   {
    "duration": 4,
    "start_time": "2023-08-30T12:08:06.676Z"
   },
   {
    "duration": 66,
    "start_time": "2023-08-30T12:08:06.681Z"
   },
   {
    "duration": 15,
    "start_time": "2023-08-30T12:08:06.752Z"
   },
   {
    "duration": 16,
    "start_time": "2023-08-30T12:08:06.768Z"
   },
   {
    "duration": 46,
    "start_time": "2023-08-30T12:08:06.786Z"
   },
   {
    "duration": 25,
    "start_time": "2023-08-30T12:08:06.834Z"
   },
   {
    "duration": 1212,
    "start_time": "2023-08-30T12:08:06.861Z"
   },
   {
    "duration": 5,
    "start_time": "2023-08-30T12:08:08.075Z"
   },
   {
    "duration": 12,
    "start_time": "2023-08-30T12:08:08.083Z"
   },
   {
    "duration": 46,
    "start_time": "2023-08-30T12:08:08.097Z"
   },
   {
    "duration": 215,
    "start_time": "2023-08-30T12:08:08.145Z"
   },
   {
    "duration": 5,
    "start_time": "2023-08-30T12:08:08.364Z"
   },
   {
    "duration": 68,
    "start_time": "2023-08-30T12:08:08.371Z"
   },
   {
    "duration": 216,
    "start_time": "2023-08-30T12:08:08.450Z"
   },
   {
    "duration": 6,
    "start_time": "2023-08-30T12:08:08.668Z"
   },
   {
    "duration": 29,
    "start_time": "2023-08-30T12:08:08.676Z"
   },
   {
    "duration": 207,
    "start_time": "2023-08-30T12:08:08.707Z"
   },
   {
    "duration": 19,
    "start_time": "2023-08-30T12:08:08.917Z"
   },
   {
    "duration": 36,
    "start_time": "2023-08-30T12:08:08.938Z"
   },
   {
    "duration": 201,
    "start_time": "2023-08-30T12:08:08.976Z"
   },
   {
    "duration": 5,
    "start_time": "2023-08-30T12:08:09.179Z"
   },
   {
    "duration": 43,
    "start_time": "2023-08-30T12:08:09.186Z"
   },
   {
    "duration": 17,
    "start_time": "2023-08-30T12:08:09.231Z"
   },
   {
    "duration": 26,
    "start_time": "2023-08-30T12:08:09.250Z"
   },
   {
    "duration": 16,
    "start_time": "2023-08-30T12:08:09.278Z"
   },
   {
    "duration": 7,
    "start_time": "2023-08-30T12:08:09.296Z"
   },
   {
    "duration": 19,
    "start_time": "2023-08-30T12:08:09.313Z"
   },
   {
    "duration": 26,
    "start_time": "2023-08-30T12:08:09.335Z"
   },
   {
    "duration": 7,
    "start_time": "2023-08-30T12:08:09.363Z"
   },
   {
    "duration": 35,
    "start_time": "2023-08-30T12:08:09.372Z"
   },
   {
    "duration": 24,
    "start_time": "2023-08-30T12:08:09.409Z"
   },
   {
    "duration": 11,
    "start_time": "2023-08-30T12:08:09.442Z"
   },
   {
    "duration": 73,
    "start_time": "2023-08-30T12:08:09.457Z"
   },
   {
    "duration": 24,
    "start_time": "2023-08-30T12:08:09.532Z"
   },
   {
    "duration": 26,
    "start_time": "2023-08-30T12:08:09.557Z"
   },
   {
    "duration": 32,
    "start_time": "2023-08-30T12:08:09.585Z"
   },
   {
    "duration": 30,
    "start_time": "2023-08-30T12:08:09.619Z"
   },
   {
    "duration": 12,
    "start_time": "2023-08-30T12:08:09.651Z"
   },
   {
    "duration": 18,
    "start_time": "2023-08-30T12:08:09.665Z"
   },
   {
    "duration": 44,
    "start_time": "2023-08-30T12:08:09.685Z"
   },
   {
    "duration": 21,
    "start_time": "2023-08-30T12:08:09.732Z"
   },
   {
    "duration": 47,
    "start_time": "2023-08-30T12:08:09.758Z"
   },
   {
    "duration": 27,
    "start_time": "2023-08-30T12:08:09.807Z"
   },
   {
    "duration": 34004,
    "start_time": "2023-08-30T12:08:22.350Z"
   },
   {
    "duration": 2590511,
    "start_time": "2023-08-30T12:09:08.534Z"
   },
   {
    "duration": 12,
    "start_time": "2023-08-30T13:05:22.785Z"
   },
   {
    "duration": 7,
    "start_time": "2023-08-30T13:05:23.385Z"
   },
   {
    "duration": 454,
    "start_time": "2023-08-30T13:05:24.028Z"
   },
   {
    "duration": 2446789,
    "start_time": "2023-08-30T13:06:07.644Z"
   },
   {
    "duration": 3556929,
    "start_time": "2023-08-30T13:46:54.435Z"
   },
   {
    "duration": 6,
    "start_time": "2023-08-30T14:46:11.366Z"
   },
   {
    "duration": 5,
    "start_time": "2023-08-30T14:56:01.887Z"
   },
   {
    "duration": 4,
    "start_time": "2023-08-30T14:56:03.280Z"
   },
   {
    "duration": 5,
    "start_time": "2023-08-30T14:56:04.504Z"
   },
   {
    "duration": 7,
    "start_time": "2023-08-30T14:56:05.240Z"
   },
   {
    "duration": 10,
    "start_time": "2023-08-30T14:56:08.776Z"
   },
   {
    "duration": 2875,
    "start_time": "2023-08-30T14:56:09.976Z"
   },
   {
    "duration": 35408,
    "start_time": "2023-08-30T14:56:17.043Z"
   },
   {
    "duration": 51922,
    "start_time": "2023-08-30T14:56:59.021Z"
   },
   {
    "duration": 4,
    "start_time": "2023-08-30T14:58:12.424Z"
   },
   {
    "duration": 9,
    "start_time": "2023-08-30T14:58:14.376Z"
   },
   {
    "duration": 579,
    "start_time": "2023-08-30T14:58:19.435Z"
   },
   {
    "duration": 135514,
    "start_time": "2023-08-30T14:59:51.921Z"
   },
   {
    "duration": 2668,
    "start_time": "2023-08-30T17:27:44.786Z"
   },
   {
    "duration": 5,
    "start_time": "2023-08-30T17:27:47.457Z"
   },
   {
    "duration": 107,
    "start_time": "2023-08-30T17:27:47.464Z"
   },
   {
    "duration": 16,
    "start_time": "2023-08-30T17:27:47.573Z"
   },
   {
    "duration": 14,
    "start_time": "2023-08-30T17:27:47.592Z"
   },
   {
    "duration": 36,
    "start_time": "2023-08-30T17:27:47.608Z"
   },
   {
    "duration": 11,
    "start_time": "2023-08-30T17:27:47.645Z"
   },
   {
    "duration": 1143,
    "start_time": "2023-08-30T17:27:47.658Z"
   },
   {
    "duration": 5,
    "start_time": "2023-08-30T17:27:48.803Z"
   },
   {
    "duration": 18,
    "start_time": "2023-08-30T17:27:48.810Z"
   },
   {
    "duration": 19,
    "start_time": "2023-08-30T17:27:48.833Z"
   },
   {
    "duration": 182,
    "start_time": "2023-08-30T17:27:48.853Z"
   },
   {
    "duration": 8,
    "start_time": "2023-08-30T17:27:49.037Z"
   },
   {
    "duration": 11,
    "start_time": "2023-08-30T17:27:49.050Z"
   },
   {
    "duration": 188,
    "start_time": "2023-08-30T17:27:49.063Z"
   },
   {
    "duration": 5,
    "start_time": "2023-08-30T17:27:49.253Z"
   },
   {
    "duration": 12,
    "start_time": "2023-08-30T17:27:49.260Z"
   },
   {
    "duration": 266,
    "start_time": "2023-08-30T17:27:49.274Z"
   },
   {
    "duration": 5,
    "start_time": "2023-08-30T17:27:49.542Z"
   },
   {
    "duration": 19,
    "start_time": "2023-08-30T17:27:49.549Z"
   },
   {
    "duration": 176,
    "start_time": "2023-08-30T17:27:49.569Z"
   },
   {
    "duration": 6,
    "start_time": "2023-08-30T17:27:49.747Z"
   },
   {
    "duration": 6,
    "start_time": "2023-08-30T17:27:49.755Z"
   },
   {
    "duration": 5,
    "start_time": "2023-08-30T17:27:49.763Z"
   },
   {
    "duration": 5,
    "start_time": "2023-08-30T17:27:49.770Z"
   },
   {
    "duration": 5,
    "start_time": "2023-08-30T17:27:49.777Z"
   },
   {
    "duration": 6,
    "start_time": "2023-08-30T17:27:49.783Z"
   },
   {
    "duration": 9,
    "start_time": "2023-08-30T17:27:49.791Z"
   },
   {
    "duration": 28,
    "start_time": "2023-08-30T17:27:49.802Z"
   },
   {
    "duration": 5,
    "start_time": "2023-08-30T17:27:49.832Z"
   },
   {
    "duration": 21,
    "start_time": "2023-08-30T17:27:49.839Z"
   },
   {
    "duration": 20,
    "start_time": "2023-08-30T17:27:49.862Z"
   },
   {
    "duration": 11,
    "start_time": "2023-08-30T17:27:49.883Z"
   },
   {
    "duration": 16,
    "start_time": "2023-08-30T17:27:49.895Z"
   },
   {
    "duration": 7,
    "start_time": "2023-08-30T17:27:49.916Z"
   },
   {
    "duration": 18,
    "start_time": "2023-08-30T17:27:49.925Z"
   },
   {
    "duration": 5,
    "start_time": "2023-08-30T17:27:49.947Z"
   },
   {
    "duration": 4,
    "start_time": "2023-08-30T17:27:49.954Z"
   },
   {
    "duration": 3,
    "start_time": "2023-08-30T17:27:49.960Z"
   },
   {
    "duration": 11,
    "start_time": "2023-08-30T17:27:49.965Z"
   },
   {
    "duration": 3,
    "start_time": "2023-08-30T17:27:49.980Z"
   },
   {
    "duration": 6,
    "start_time": "2023-08-30T17:27:49.985Z"
   },
   {
    "duration": 6,
    "start_time": "2023-08-30T17:27:49.992Z"
   },
   {
    "duration": 8,
    "start_time": "2023-08-30T17:27:49.999Z"
   },
   {
    "duration": 2568,
    "start_time": "2023-08-30T17:27:50.009Z"
   },
   {
    "duration": 51240,
    "start_time": "2023-08-30T17:27:52.581Z"
   },
   {
    "duration": 82308,
    "start_time": "2023-08-30T17:28:43.824Z"
   },
   {
    "duration": 9,
    "start_time": "2023-08-30T17:30:06.137Z"
   },
   {
    "duration": 7,
    "start_time": "2023-08-30T17:30:06.148Z"
   },
   {
    "duration": 492,
    "start_time": "2023-08-30T17:30:06.156Z"
   },
   {
    "duration": 122461,
    "start_time": "2023-08-30T17:30:06.651Z"
   },
   {
    "duration": 850816,
    "start_time": "2023-08-30T17:32:09.114Z"
   },
   {
    "duration": 9,
    "start_time": "2023-08-30T17:46:19.936Z"
   },
   {
    "duration": 8,
    "start_time": "2023-08-30T18:06:05.243Z"
   },
   {
    "duration": 49,
    "start_time": "2023-08-30T18:06:05.253Z"
   },
   {
    "duration": 50,
    "start_time": "2023-08-30T18:06:05.305Z"
   },
   {
    "duration": 15,
    "start_time": "2023-08-30T18:06:05.358Z"
   },
   {
    "duration": 17,
    "start_time": "2023-08-30T18:06:05.376Z"
   },
   {
    "duration": 37,
    "start_time": "2023-08-30T18:06:05.395Z"
   },
   {
    "duration": 11,
    "start_time": "2023-08-30T18:06:05.435Z"
   },
   {
    "duration": 1091,
    "start_time": "2023-08-30T18:06:05.450Z"
   },
   {
    "duration": 7,
    "start_time": "2023-08-30T18:06:06.547Z"
   },
   {
    "duration": 11,
    "start_time": "2023-08-30T18:06:06.556Z"
   },
   {
    "duration": 14,
    "start_time": "2023-08-30T18:06:06.569Z"
   },
   {
    "duration": 264,
    "start_time": "2023-08-30T18:06:06.585Z"
   },
   {
    "duration": 5,
    "start_time": "2023-08-30T18:06:06.851Z"
   },
   {
    "duration": 12,
    "start_time": "2023-08-30T18:06:06.861Z"
   },
   {
    "duration": 196,
    "start_time": "2023-08-30T18:06:06.875Z"
   },
   {
    "duration": 5,
    "start_time": "2023-08-30T18:06:07.073Z"
   },
   {
    "duration": 21,
    "start_time": "2023-08-30T18:06:07.081Z"
   },
   {
    "duration": 208,
    "start_time": "2023-08-30T18:06:07.109Z"
   },
   {
    "duration": 17,
    "start_time": "2023-08-30T18:06:07.319Z"
   },
   {
    "duration": 192,
    "start_time": "2023-08-30T18:06:07.338Z"
   },
   {
    "duration": 264,
    "start_time": "2023-08-30T18:06:07.537Z"
   },
   {
    "duration": 19,
    "start_time": "2023-08-30T18:06:07.803Z"
   },
   {
    "duration": 13,
    "start_time": "2023-08-30T18:06:07.824Z"
   },
   {
    "duration": 12,
    "start_time": "2023-08-30T18:06:07.839Z"
   },
   {
    "duration": 6,
    "start_time": "2023-08-30T18:06:07.854Z"
   },
   {
    "duration": 4,
    "start_time": "2023-08-30T18:06:07.862Z"
   },
   {
    "duration": 12,
    "start_time": "2023-08-30T18:06:07.868Z"
   },
   {
    "duration": 6,
    "start_time": "2023-08-30T18:06:07.882Z"
   },
   {
    "duration": 42,
    "start_time": "2023-08-30T18:06:07.889Z"
   },
   {
    "duration": 7,
    "start_time": "2023-08-30T18:06:07.933Z"
   },
   {
    "duration": 28,
    "start_time": "2023-08-30T18:06:07.942Z"
   },
   {
    "duration": 6,
    "start_time": "2023-08-30T18:06:07.973Z"
   },
   {
    "duration": 14,
    "start_time": "2023-08-30T18:06:07.981Z"
   },
   {
    "duration": 81,
    "start_time": "2023-08-30T18:06:07.997Z"
   },
   {
    "duration": 36,
    "start_time": "2023-08-30T18:06:08.080Z"
   },
   {
    "duration": 20,
    "start_time": "2023-08-30T18:06:08.121Z"
   },
   {
    "duration": 19,
    "start_time": "2023-08-30T18:06:08.144Z"
   },
   {
    "duration": 16,
    "start_time": "2023-08-30T18:06:08.166Z"
   },
   {
    "duration": 6,
    "start_time": "2023-08-30T18:06:08.184Z"
   },
   {
    "duration": 7,
    "start_time": "2023-08-30T18:06:08.192Z"
   },
   {
    "duration": 4,
    "start_time": "2023-08-30T18:06:08.203Z"
   },
   {
    "duration": 5,
    "start_time": "2023-08-30T18:06:08.211Z"
   },
   {
    "duration": 7,
    "start_time": "2023-08-30T18:06:08.219Z"
   },
   {
    "duration": 14,
    "start_time": "2023-08-30T18:06:08.227Z"
   },
   {
    "duration": 3434,
    "start_time": "2023-08-30T18:06:08.243Z"
   },
   {
    "duration": 101747,
    "start_time": "2023-08-30T18:06:11.679Z"
   },
   {
    "duration": 168830,
    "start_time": "2023-08-30T18:07:53.429Z"
   },
   {
    "duration": 52,
    "start_time": "2023-08-30T18:10:42.262Z"
   },
   {
    "duration": 16,
    "start_time": "2023-08-30T18:10:42.316Z"
   },
   {
    "duration": 566,
    "start_time": "2023-08-30T18:10:42.335Z"
   },
   {
    "duration": 291322,
    "start_time": "2023-08-30T18:10:42.909Z"
   },
   {
    "duration": 1575040,
    "start_time": "2023-08-30T18:15:34.238Z"
   },
   {
    "duration": 40,
    "start_time": "2023-08-30T18:41:49.280Z"
   },
   {
    "duration": 4,
    "start_time": "2023-08-30T18:48:27.792Z"
   },
   {
    "duration": 6,
    "start_time": "2023-08-30T18:48:27.798Z"
   },
   {
    "duration": 60,
    "start_time": "2023-08-30T18:48:27.806Z"
   },
   {
    "duration": 12,
    "start_time": "2023-08-30T18:48:27.868Z"
   },
   {
    "duration": 13,
    "start_time": "2023-08-30T18:48:27.882Z"
   },
   {
    "duration": 21,
    "start_time": "2023-08-30T18:48:27.897Z"
   },
   {
    "duration": 19,
    "start_time": "2023-08-30T18:48:27.923Z"
   },
   {
    "duration": 1259,
    "start_time": "2023-08-30T18:48:27.948Z"
   },
   {
    "duration": 10,
    "start_time": "2023-08-30T18:48:29.208Z"
   },
   {
    "duration": 8,
    "start_time": "2023-08-30T18:48:29.220Z"
   },
   {
    "duration": 19,
    "start_time": "2023-08-30T18:48:29.230Z"
   },
   {
    "duration": 190,
    "start_time": "2023-08-30T18:48:29.251Z"
   },
   {
    "duration": 8,
    "start_time": "2023-08-30T18:48:29.445Z"
   },
   {
    "duration": 10,
    "start_time": "2023-08-30T18:48:29.458Z"
   },
   {
    "duration": 188,
    "start_time": "2023-08-30T18:48:29.469Z"
   },
   {
    "duration": 6,
    "start_time": "2023-08-30T18:48:29.660Z"
   },
   {
    "duration": 11,
    "start_time": "2023-08-30T18:48:29.668Z"
   },
   {
    "duration": 230,
    "start_time": "2023-08-30T18:48:29.681Z"
   },
   {
    "duration": 12,
    "start_time": "2023-08-30T18:48:29.922Z"
   },
   {
    "duration": 21,
    "start_time": "2023-08-30T18:48:29.944Z"
   },
   {
    "duration": 187,
    "start_time": "2023-08-30T18:48:29.967Z"
   },
   {
    "duration": 5,
    "start_time": "2023-08-30T18:48:30.156Z"
   },
   {
    "duration": 15,
    "start_time": "2023-08-30T18:48:30.164Z"
   },
   {
    "duration": 64,
    "start_time": "2023-08-30T18:48:30.181Z"
   },
   {
    "duration": 48,
    "start_time": "2023-08-30T18:48:30.247Z"
   },
   {
    "duration": 27,
    "start_time": "2023-08-30T18:48:30.297Z"
   },
   {
    "duration": 25,
    "start_time": "2023-08-30T18:48:30.326Z"
   },
   {
    "duration": 32,
    "start_time": "2023-08-30T18:48:30.355Z"
   },
   {
    "duration": 32,
    "start_time": "2023-08-30T18:48:30.396Z"
   },
   {
    "duration": 19,
    "start_time": "2023-08-30T18:48:30.433Z"
   },
   {
    "duration": 27,
    "start_time": "2023-08-30T18:48:30.458Z"
   },
   {
    "duration": 57,
    "start_time": "2023-08-30T18:48:30.487Z"
   },
   {
    "duration": 18,
    "start_time": "2023-08-30T18:48:30.550Z"
   },
   {
    "duration": 47,
    "start_time": "2023-08-30T18:48:30.571Z"
   },
   {
    "duration": 37,
    "start_time": "2023-08-30T18:48:30.620Z"
   },
   {
    "duration": 47,
    "start_time": "2023-08-30T18:48:30.659Z"
   },
   {
    "duration": 43,
    "start_time": "2023-08-30T18:48:30.709Z"
   },
   {
    "duration": 37,
    "start_time": "2023-08-30T18:48:30.754Z"
   },
   {
    "duration": 35,
    "start_time": "2023-08-30T18:48:30.793Z"
   },
   {
    "duration": 58,
    "start_time": "2023-08-30T18:48:30.836Z"
   },
   {
    "duration": 45,
    "start_time": "2023-08-30T18:48:30.900Z"
   },
   {
    "duration": 45,
    "start_time": "2023-08-30T18:48:30.951Z"
   },
   {
    "duration": 46,
    "start_time": "2023-08-30T18:48:30.998Z"
   },
   {
    "duration": 44,
    "start_time": "2023-08-30T18:48:31.046Z"
   },
   {
    "duration": 4736,
    "start_time": "2023-08-30T18:48:35.637Z"
   },
   {
    "duration": 176532,
    "start_time": "2023-08-30T18:48:49.907Z"
   },
   {
    "duration": 26,
    "start_time": "2023-08-30T18:52:28.552Z"
   },
   {
    "duration": 32659,
    "start_time": "2023-08-30T18:52:29.693Z"
   },
   {
    "duration": 4,
    "start_time": "2023-08-30T18:53:18.096Z"
   },
   {
    "duration": 27,
    "start_time": "2023-08-30T18:53:18.102Z"
   },
   {
    "duration": 53,
    "start_time": "2023-08-30T18:53:18.131Z"
   },
   {
    "duration": 11,
    "start_time": "2023-08-30T18:53:18.186Z"
   },
   {
    "duration": 25,
    "start_time": "2023-08-30T18:53:18.199Z"
   },
   {
    "duration": 12,
    "start_time": "2023-08-30T18:53:18.226Z"
   },
   {
    "duration": 19,
    "start_time": "2023-08-30T18:53:18.239Z"
   },
   {
    "duration": 1149,
    "start_time": "2023-08-30T18:53:18.259Z"
   },
   {
    "duration": 20,
    "start_time": "2023-08-30T18:53:19.419Z"
   },
   {
    "duration": 17,
    "start_time": "2023-08-30T18:53:19.450Z"
   },
   {
    "duration": 13,
    "start_time": "2023-08-30T18:53:19.470Z"
   },
   {
    "duration": 200,
    "start_time": "2023-08-30T18:53:19.484Z"
   },
   {
    "duration": 5,
    "start_time": "2023-08-30T18:53:19.687Z"
   },
   {
    "duration": 26,
    "start_time": "2023-08-30T18:53:19.711Z"
   },
   {
    "duration": 362,
    "start_time": "2023-08-30T18:53:19.739Z"
   },
   {
    "duration": 8,
    "start_time": "2023-08-30T18:53:20.117Z"
   },
   {
    "duration": 23,
    "start_time": "2023-08-30T18:53:20.127Z"
   },
   {
    "duration": 208,
    "start_time": "2023-08-30T18:53:20.152Z"
   },
   {
    "duration": 4,
    "start_time": "2023-08-30T18:53:20.362Z"
   },
   {
    "duration": 8,
    "start_time": "2023-08-30T18:53:20.368Z"
   },
   {
    "duration": 211,
    "start_time": "2023-08-30T18:53:20.377Z"
   },
   {
    "duration": 6,
    "start_time": "2023-08-30T18:53:20.590Z"
   },
   {
    "duration": 36,
    "start_time": "2023-08-30T18:53:20.598Z"
   },
   {
    "duration": 23,
    "start_time": "2023-08-30T18:53:20.637Z"
   },
   {
    "duration": 15,
    "start_time": "2023-08-30T18:53:20.665Z"
   },
   {
    "duration": 22,
    "start_time": "2023-08-30T18:53:20.682Z"
   },
   {
    "duration": 24,
    "start_time": "2023-08-30T18:53:20.707Z"
   },
   {
    "duration": 40,
    "start_time": "2023-08-30T18:53:20.733Z"
   },
   {
    "duration": 26,
    "start_time": "2023-08-30T18:53:20.775Z"
   },
   {
    "duration": 24,
    "start_time": "2023-08-30T18:53:20.803Z"
   },
   {
    "duration": 53,
    "start_time": "2023-08-30T18:53:20.829Z"
   },
   {
    "duration": 4,
    "start_time": "2023-08-30T18:53:20.884Z"
   },
   {
    "duration": 6,
    "start_time": "2023-08-30T18:53:20.891Z"
   },
   {
    "duration": 21,
    "start_time": "2023-08-30T18:53:20.899Z"
   },
   {
    "duration": 9,
    "start_time": "2023-08-30T18:53:20.938Z"
   },
   {
    "duration": 33,
    "start_time": "2023-08-30T18:53:20.949Z"
   },
   {
    "duration": 10,
    "start_time": "2023-08-30T18:53:20.984Z"
   },
   {
    "duration": 15,
    "start_time": "2023-08-30T18:53:20.996Z"
   },
   {
    "duration": 27,
    "start_time": "2023-08-30T18:53:21.013Z"
   },
   {
    "duration": 25,
    "start_time": "2023-08-30T18:53:21.042Z"
   },
   {
    "duration": 24,
    "start_time": "2023-08-30T18:53:21.071Z"
   },
   {
    "duration": 23,
    "start_time": "2023-08-30T18:53:21.097Z"
   },
   {
    "duration": 70,
    "start_time": "2023-08-30T18:53:21.122Z"
   },
   {
    "duration": 42,
    "start_time": "2023-08-30T18:53:21.194Z"
   },
   {
    "duration": 31529,
    "start_time": "2023-08-30T18:53:21.241Z"
   },
   {
    "duration": 1018498,
    "start_time": "2023-08-30T18:53:52.773Z"
   },
   {
    "duration": 3964,
    "start_time": "2023-08-30T19:11:32.442Z"
   },
   {
    "duration": 12,
    "start_time": "2023-08-30T19:11:36.408Z"
   },
   {
    "duration": 31,
    "start_time": "2023-08-30T19:11:36.427Z"
   },
   {
    "duration": 15,
    "start_time": "2023-08-30T19:11:36.460Z"
   },
   {
    "duration": 14,
    "start_time": "2023-08-30T19:11:36.477Z"
   },
   {
    "duration": 12,
    "start_time": "2023-08-30T19:11:36.492Z"
   },
   {
    "duration": 15,
    "start_time": "2023-08-30T19:11:36.506Z"
   },
   {
    "duration": 1232,
    "start_time": "2023-08-30T19:11:36.526Z"
   },
   {
    "duration": 6,
    "start_time": "2023-08-30T19:11:37.760Z"
   },
   {
    "duration": 37,
    "start_time": "2023-08-30T19:11:37.768Z"
   },
   {
    "duration": 39,
    "start_time": "2023-08-30T19:11:37.807Z"
   },
   {
    "duration": 199,
    "start_time": "2023-08-30T19:11:37.848Z"
   },
   {
    "duration": 4,
    "start_time": "2023-08-30T19:11:38.049Z"
   },
   {
    "duration": 27,
    "start_time": "2023-08-30T19:11:38.057Z"
   },
   {
    "duration": 216,
    "start_time": "2023-08-30T19:11:38.087Z"
   },
   {
    "duration": 16,
    "start_time": "2023-08-30T19:11:38.305Z"
   },
   {
    "duration": 20,
    "start_time": "2023-08-30T19:11:38.325Z"
   },
   {
    "duration": 208,
    "start_time": "2023-08-30T19:11:38.347Z"
   },
   {
    "duration": 6,
    "start_time": "2023-08-30T19:11:38.556Z"
   },
   {
    "duration": 18,
    "start_time": "2023-08-30T19:11:38.565Z"
   },
   {
    "duration": 206,
    "start_time": "2023-08-30T19:11:38.585Z"
   },
   {
    "duration": 18,
    "start_time": "2023-08-30T19:11:38.793Z"
   },
   {
    "duration": 44,
    "start_time": "2023-08-30T19:11:38.819Z"
   },
   {
    "duration": 24,
    "start_time": "2023-08-30T19:11:38.865Z"
   },
   {
    "duration": 11,
    "start_time": "2023-08-30T19:11:38.891Z"
   },
   {
    "duration": 31,
    "start_time": "2023-08-30T19:11:38.903Z"
   },
   {
    "duration": 26,
    "start_time": "2023-08-30T19:11:38.937Z"
   },
   {
    "duration": 20,
    "start_time": "2023-08-30T19:11:38.964Z"
   },
   {
    "duration": 36,
    "start_time": "2023-08-30T19:11:38.986Z"
   },
   {
    "duration": 29,
    "start_time": "2023-08-30T19:11:39.024Z"
   },
   {
    "duration": 41,
    "start_time": "2023-08-30T19:11:39.055Z"
   },
   {
    "duration": 46,
    "start_time": "2023-08-30T19:11:39.098Z"
   },
   {
    "duration": 20,
    "start_time": "2023-08-30T19:11:39.147Z"
   },
   {
    "duration": 24,
    "start_time": "2023-08-30T19:11:39.169Z"
   },
   {
    "duration": 28,
    "start_time": "2023-08-30T19:11:39.195Z"
   },
   {
    "duration": 13,
    "start_time": "2023-08-30T19:11:39.233Z"
   },
   {
    "duration": 28,
    "start_time": "2023-08-30T19:11:39.248Z"
   },
   {
    "duration": 115,
    "start_time": "2023-08-30T19:11:39.278Z"
   },
   {
    "duration": 43,
    "start_time": "2023-08-30T19:11:39.395Z"
   },
   {
    "duration": 20,
    "start_time": "2023-08-30T19:11:39.439Z"
   },
   {
    "duration": 4,
    "start_time": "2023-08-30T19:11:39.463Z"
   },
   {
    "duration": 35,
    "start_time": "2023-08-30T19:11:39.468Z"
   },
   {
    "duration": 23,
    "start_time": "2023-08-30T19:11:39.505Z"
   },
   {
    "duration": 11,
    "start_time": "2023-08-30T19:11:39.529Z"
   },
   {
    "duration": 6151,
    "start_time": "2023-08-30T19:11:39.542Z"
   },
   {
    "duration": 131557,
    "start_time": "2023-08-30T19:11:55.388Z"
   },
   {
    "duration": 10,
    "start_time": "2023-08-30T19:16:03.023Z"
   },
   {
    "duration": 5,
    "start_time": "2023-08-30T19:16:03.039Z"
   },
   {
    "duration": 35,
    "start_time": "2023-08-30T19:16:03.047Z"
   },
   {
    "duration": 14,
    "start_time": "2023-08-30T19:16:03.084Z"
   },
   {
    "duration": 20,
    "start_time": "2023-08-30T19:16:03.103Z"
   },
   {
    "duration": 9,
    "start_time": "2023-08-30T19:16:03.128Z"
   },
   {
    "duration": 11,
    "start_time": "2023-08-30T19:16:03.141Z"
   },
   {
    "duration": 1240,
    "start_time": "2023-08-30T19:16:03.158Z"
   },
   {
    "duration": 20,
    "start_time": "2023-08-30T19:16:04.401Z"
   },
   {
    "duration": 21,
    "start_time": "2023-08-30T19:16:04.426Z"
   },
   {
    "duration": 10,
    "start_time": "2023-08-30T19:16:04.449Z"
   },
   {
    "duration": 228,
    "start_time": "2023-08-30T19:16:04.462Z"
   },
   {
    "duration": 6,
    "start_time": "2023-08-30T19:16:04.692Z"
   },
   {
    "duration": 21,
    "start_time": "2023-08-30T19:16:04.713Z"
   },
   {
    "duration": 277,
    "start_time": "2023-08-30T19:16:04.736Z"
   },
   {
    "duration": 6,
    "start_time": "2023-08-30T19:16:05.023Z"
   },
   {
    "duration": 34,
    "start_time": "2023-08-30T19:16:05.031Z"
   },
   {
    "duration": 213,
    "start_time": "2023-08-30T19:16:05.067Z"
   },
   {
    "duration": 6,
    "start_time": "2023-08-30T19:16:05.282Z"
   },
   {
    "duration": 36,
    "start_time": "2023-08-30T19:16:05.290Z"
   },
   {
    "duration": 216,
    "start_time": "2023-08-30T19:16:05.330Z"
   },
   {
    "duration": 6,
    "start_time": "2023-08-30T19:16:05.550Z"
   },
   {
    "duration": 26,
    "start_time": "2023-08-30T19:16:05.558Z"
   },
   {
    "duration": 11,
    "start_time": "2023-08-30T19:16:05.585Z"
   },
   {
    "duration": 39,
    "start_time": "2023-08-30T19:16:05.598Z"
   },
   {
    "duration": 9,
    "start_time": "2023-08-30T19:16:05.639Z"
   },
   {
    "duration": 7,
    "start_time": "2023-08-30T19:16:05.650Z"
   },
   {
    "duration": 7,
    "start_time": "2023-08-30T19:16:05.659Z"
   },
   {
    "duration": 14,
    "start_time": "2023-08-30T19:16:05.667Z"
   },
   {
    "duration": 8,
    "start_time": "2023-08-30T19:16:05.683Z"
   },
   {
    "duration": 54,
    "start_time": "2023-08-30T19:16:05.693Z"
   },
   {
    "duration": 6,
    "start_time": "2023-08-30T19:16:05.750Z"
   },
   {
    "duration": 8,
    "start_time": "2023-08-30T19:16:05.758Z"
   },
   {
    "duration": 12,
    "start_time": "2023-08-30T19:16:05.768Z"
   },
   {
    "duration": 11,
    "start_time": "2023-08-30T19:16:05.781Z"
   },
   {
    "duration": 34,
    "start_time": "2023-08-30T19:16:05.794Z"
   },
   {
    "duration": 8,
    "start_time": "2023-08-30T19:16:05.831Z"
   },
   {
    "duration": 7,
    "start_time": "2023-08-30T19:16:05.841Z"
   },
   {
    "duration": 5,
    "start_time": "2023-08-30T19:16:05.850Z"
   },
   {
    "duration": 11,
    "start_time": "2023-08-30T19:16:05.858Z"
   },
   {
    "duration": 18,
    "start_time": "2023-08-30T19:16:05.875Z"
   },
   {
    "duration": 8,
    "start_time": "2023-08-30T19:16:05.896Z"
   },
   {
    "duration": 16,
    "start_time": "2023-08-30T19:16:05.906Z"
   },
   {
    "duration": 27,
    "start_time": "2023-08-30T19:16:05.924Z"
   },
   {
    "duration": 15697,
    "start_time": "2023-08-30T19:16:05.954Z"
   },
   {
    "duration": 346505,
    "start_time": "2023-08-30T19:16:21.653Z"
   },
   {
    "duration": 4,
    "start_time": "2023-08-30T19:24:01.072Z"
   },
   {
    "duration": 28,
    "start_time": "2023-08-30T19:24:01.078Z"
   },
   {
    "duration": 59,
    "start_time": "2023-08-30T19:24:01.109Z"
   },
   {
    "duration": 18,
    "start_time": "2023-08-30T19:24:01.170Z"
   },
   {
    "duration": 44,
    "start_time": "2023-08-30T19:24:01.192Z"
   },
   {
    "duration": 8,
    "start_time": "2023-08-30T19:24:01.239Z"
   },
   {
    "duration": 28,
    "start_time": "2023-08-30T19:24:01.248Z"
   },
   {
    "duration": 1119,
    "start_time": "2023-08-30T19:24:01.278Z"
   },
   {
    "duration": 16,
    "start_time": "2023-08-30T19:24:02.399Z"
   },
   {
    "duration": 19,
    "start_time": "2023-08-30T19:24:02.431Z"
   },
   {
    "duration": 19,
    "start_time": "2023-08-30T19:24:02.453Z"
   },
   {
    "duration": 275,
    "start_time": "2023-08-30T19:24:02.475Z"
   },
   {
    "duration": 6,
    "start_time": "2023-08-30T19:24:02.752Z"
   },
   {
    "duration": 21,
    "start_time": "2023-08-30T19:24:02.761Z"
   },
   {
    "duration": 207,
    "start_time": "2023-08-30T19:24:02.785Z"
   },
   {
    "duration": 6,
    "start_time": "2023-08-30T19:24:02.995Z"
   },
   {
    "duration": 16,
    "start_time": "2023-08-30T19:24:03.015Z"
   },
   {
    "duration": 331,
    "start_time": "2023-08-30T19:24:03.033Z"
   },
   {
    "duration": 5,
    "start_time": "2023-08-30T19:24:03.366Z"
   },
   {
    "duration": 51,
    "start_time": "2023-08-30T19:24:03.373Z"
   },
   {
    "duration": 166,
    "start_time": "2023-08-30T19:24:03.426Z"
   },
   {
    "duration": 4,
    "start_time": "2023-08-30T19:24:03.594Z"
   },
   {
    "duration": 25,
    "start_time": "2023-08-30T19:24:03.600Z"
   },
   {
    "duration": 13,
    "start_time": "2023-08-30T19:24:03.627Z"
   },
   {
    "duration": 10,
    "start_time": "2023-08-30T19:24:03.643Z"
   },
   {
    "duration": 5,
    "start_time": "2023-08-30T19:24:03.655Z"
   },
   {
    "duration": 9,
    "start_time": "2023-08-30T19:24:03.662Z"
   },
   {
    "duration": 12,
    "start_time": "2023-08-30T19:24:03.673Z"
   },
   {
    "duration": 50,
    "start_time": "2023-08-30T19:24:03.688Z"
   },
   {
    "duration": 5,
    "start_time": "2023-08-30T19:24:03.741Z"
   },
   {
    "duration": 44,
    "start_time": "2023-08-30T19:24:03.748Z"
   },
   {
    "duration": 9,
    "start_time": "2023-08-30T19:24:03.794Z"
   },
   {
    "duration": 22,
    "start_time": "2023-08-30T19:24:03.805Z"
   },
   {
    "duration": 16,
    "start_time": "2023-08-30T19:24:03.829Z"
   },
   {
    "duration": 9,
    "start_time": "2023-08-30T19:24:03.847Z"
   },
   {
    "duration": 25,
    "start_time": "2023-08-30T19:24:03.858Z"
   },
   {
    "duration": 16,
    "start_time": "2023-08-30T19:24:03.885Z"
   },
   {
    "duration": 17,
    "start_time": "2023-08-30T19:24:03.903Z"
   },
   {
    "duration": 14,
    "start_time": "2023-08-30T19:24:03.922Z"
   },
   {
    "duration": 5,
    "start_time": "2023-08-30T19:24:03.938Z"
   },
   {
    "duration": 14,
    "start_time": "2023-08-30T19:24:03.945Z"
   },
   {
    "duration": 17,
    "start_time": "2023-08-30T19:24:03.961Z"
   },
   {
    "duration": 7,
    "start_time": "2023-08-30T19:24:03.980Z"
   },
   {
    "duration": 15,
    "start_time": "2023-08-30T19:24:03.988Z"
   },
   {
    "duration": 29959,
    "start_time": "2023-08-30T19:24:04.005Z"
   },
   {
    "duration": 640996,
    "start_time": "2023-08-30T19:24:33.966Z"
   },
   {
    "duration": 2053,
    "start_time": "2023-08-30T19:35:58.570Z"
   },
   {
    "duration": 17,
    "start_time": "2023-08-30T19:36:00.625Z"
   },
   {
    "duration": 40,
    "start_time": "2023-08-30T19:36:00.645Z"
   },
   {
    "duration": 25,
    "start_time": "2023-08-30T19:36:00.687Z"
   },
   {
    "duration": 31,
    "start_time": "2023-08-30T19:36:00.722Z"
   },
   {
    "duration": 34,
    "start_time": "2023-08-30T19:36:00.755Z"
   },
   {
    "duration": 42,
    "start_time": "2023-08-30T19:36:00.791Z"
   },
   {
    "duration": 1213,
    "start_time": "2023-08-30T19:36:00.835Z"
   },
   {
    "duration": 6,
    "start_time": "2023-08-30T19:36:02.051Z"
   },
   {
    "duration": 64,
    "start_time": "2023-08-30T19:36:02.058Z"
   },
   {
    "duration": 27,
    "start_time": "2023-08-30T19:36:02.131Z"
   },
   {
    "duration": 213,
    "start_time": "2023-08-30T19:36:02.159Z"
   },
   {
    "duration": 5,
    "start_time": "2023-08-30T19:36:02.375Z"
   },
   {
    "duration": 33,
    "start_time": "2023-08-30T19:36:02.385Z"
   },
   {
    "duration": 221,
    "start_time": "2023-08-30T19:36:02.420Z"
   },
   {
    "duration": 14,
    "start_time": "2023-08-30T19:36:02.644Z"
   },
   {
    "duration": 60,
    "start_time": "2023-08-30T19:36:02.661Z"
   },
   {
    "duration": 229,
    "start_time": "2023-08-30T19:36:02.734Z"
   },
   {
    "duration": 6,
    "start_time": "2023-08-30T19:36:02.965Z"
   },
   {
    "duration": 65,
    "start_time": "2023-08-30T19:36:02.974Z"
   },
   {
    "duration": 212,
    "start_time": "2023-08-30T19:36:03.041Z"
   },
   {
    "duration": 5,
    "start_time": "2023-08-30T19:36:03.255Z"
   },
   {
    "duration": 45,
    "start_time": "2023-08-30T19:36:03.261Z"
   },
   {
    "duration": 22,
    "start_time": "2023-08-30T19:36:03.313Z"
   },
   {
    "duration": 9,
    "start_time": "2023-08-30T19:36:03.340Z"
   },
   {
    "duration": 8,
    "start_time": "2023-08-30T19:36:03.351Z"
   },
   {
    "duration": 7,
    "start_time": "2023-08-30T19:36:03.360Z"
   },
   {
    "duration": 7,
    "start_time": "2023-08-30T19:36:03.368Z"
   },
   {
    "duration": 12,
    "start_time": "2023-08-30T19:36:03.376Z"
   },
   {
    "duration": 6,
    "start_time": "2023-08-30T19:36:03.390Z"
   },
   {
    "duration": 43,
    "start_time": "2023-08-30T19:36:03.397Z"
   },
   {
    "duration": 4,
    "start_time": "2023-08-30T19:36:03.442Z"
   },
   {
    "duration": 6,
    "start_time": "2023-08-30T19:36:03.449Z"
   },
   {
    "duration": 15,
    "start_time": "2023-08-30T19:36:03.457Z"
   },
   {
    "duration": 4,
    "start_time": "2023-08-30T19:36:03.474Z"
   },
   {
    "duration": 9,
    "start_time": "2023-08-30T19:36:03.479Z"
   },
   {
    "duration": 8,
    "start_time": "2023-08-30T19:36:03.490Z"
   },
   {
    "duration": 5,
    "start_time": "2023-08-30T19:36:03.500Z"
   },
   {
    "duration": 8,
    "start_time": "2023-08-30T19:36:03.511Z"
   },
   {
    "duration": 21,
    "start_time": "2023-08-30T19:36:03.522Z"
   },
   {
    "duration": 4,
    "start_time": "2023-08-30T19:36:03.548Z"
   },
   {
    "duration": 8,
    "start_time": "2023-08-30T19:36:03.553Z"
   },
   {
    "duration": 9,
    "start_time": "2023-08-30T19:36:03.562Z"
   },
   {
    "duration": 7,
    "start_time": "2023-08-30T19:36:03.573Z"
   },
   {
    "duration": 6158,
    "start_time": "2023-08-30T19:36:03.581Z"
   },
   {
    "duration": 156218,
    "start_time": "2023-08-30T19:36:14.143Z"
   },
   {
    "duration": 4,
    "start_time": "2023-08-30T19:40:07.758Z"
   },
   {
    "duration": 10,
    "start_time": "2023-08-30T19:40:07.764Z"
   },
   {
    "duration": 33,
    "start_time": "2023-08-30T19:40:07.776Z"
   },
   {
    "duration": 18,
    "start_time": "2023-08-30T19:40:07.811Z"
   },
   {
    "duration": 17,
    "start_time": "2023-08-30T19:40:07.832Z"
   },
   {
    "duration": 9,
    "start_time": "2023-08-30T19:40:07.856Z"
   },
   {
    "duration": 8,
    "start_time": "2023-08-30T19:40:07.866Z"
   },
   {
    "duration": 1274,
    "start_time": "2023-08-30T19:40:07.875Z"
   },
   {
    "duration": 7,
    "start_time": "2023-08-30T19:40:09.154Z"
   },
   {
    "duration": 7,
    "start_time": "2023-08-30T19:40:09.163Z"
   },
   {
    "duration": 9,
    "start_time": "2023-08-30T19:40:09.172Z"
   },
   {
    "duration": 186,
    "start_time": "2023-08-30T19:40:09.184Z"
   },
   {
    "duration": 5,
    "start_time": "2023-08-30T19:40:09.373Z"
   },
   {
    "duration": 9,
    "start_time": "2023-08-30T19:40:09.380Z"
   },
   {
    "duration": 189,
    "start_time": "2023-08-30T19:40:09.419Z"
   },
   {
    "duration": 9,
    "start_time": "2023-08-30T19:40:09.614Z"
   },
   {
    "duration": 14,
    "start_time": "2023-08-30T19:40:09.628Z"
   },
   {
    "duration": 213,
    "start_time": "2023-08-30T19:40:09.648Z"
   },
   {
    "duration": 5,
    "start_time": "2023-08-30T19:40:09.863Z"
   },
   {
    "duration": 9,
    "start_time": "2023-08-30T19:40:09.870Z"
   },
   {
    "duration": 195,
    "start_time": "2023-08-30T19:40:09.880Z"
   },
   {
    "duration": 5,
    "start_time": "2023-08-30T19:40:10.077Z"
   },
   {
    "duration": 8,
    "start_time": "2023-08-30T19:40:10.083Z"
   },
   {
    "duration": 20,
    "start_time": "2023-08-30T19:40:10.093Z"
   },
   {
    "duration": 5,
    "start_time": "2023-08-30T19:40:10.116Z"
   },
   {
    "duration": 16,
    "start_time": "2023-08-30T19:40:10.123Z"
   },
   {
    "duration": 13,
    "start_time": "2023-08-30T19:40:10.141Z"
   },
   {
    "duration": 6,
    "start_time": "2023-08-30T19:40:10.156Z"
   },
   {
    "duration": 18,
    "start_time": "2023-08-30T19:40:10.164Z"
   },
   {
    "duration": 6,
    "start_time": "2023-08-30T19:40:10.184Z"
   },
   {
    "duration": 57,
    "start_time": "2023-08-30T19:40:10.192Z"
   },
   {
    "duration": 7,
    "start_time": "2023-08-30T19:40:10.251Z"
   },
   {
    "duration": 7,
    "start_time": "2023-08-30T19:40:10.261Z"
   },
   {
    "duration": 7,
    "start_time": "2023-08-30T19:40:10.270Z"
   },
   {
    "duration": 3,
    "start_time": "2023-08-30T19:40:10.279Z"
   },
   {
    "duration": 8,
    "start_time": "2023-08-30T19:40:10.284Z"
   },
   {
    "duration": 6,
    "start_time": "2023-08-30T19:40:10.295Z"
   },
   {
    "duration": 12,
    "start_time": "2023-08-30T19:40:10.313Z"
   },
   {
    "duration": 13,
    "start_time": "2023-08-30T19:40:10.338Z"
   },
   {
    "duration": 4,
    "start_time": "2023-08-30T19:40:10.353Z"
   },
   {
    "duration": 4,
    "start_time": "2023-08-30T19:40:10.359Z"
   },
   {
    "duration": 4,
    "start_time": "2023-08-30T19:40:10.365Z"
   },
   {
    "duration": 4,
    "start_time": "2023-08-30T19:40:10.371Z"
   },
   {
    "duration": 7,
    "start_time": "2023-08-30T19:40:10.377Z"
   },
   {
    "duration": 6373,
    "start_time": "2023-08-30T19:40:10.386Z"
   },
   {
    "duration": 225477,
    "start_time": "2023-08-30T19:40:16.762Z"
   },
   {
    "duration": 306788,
    "start_time": "2023-08-30T19:44:02.245Z"
   },
   {
    "duration": 4,
    "start_time": "2023-08-30T19:49:59.463Z"
   },
   {
    "duration": 10,
    "start_time": "2023-08-30T19:49:59.470Z"
   },
   {
    "duration": 31,
    "start_time": "2023-08-30T19:49:59.482Z"
   },
   {
    "duration": 20,
    "start_time": "2023-08-30T19:49:59.515Z"
   },
   {
    "duration": 22,
    "start_time": "2023-08-30T19:49:59.542Z"
   },
   {
    "duration": 7,
    "start_time": "2023-08-30T19:49:59.566Z"
   },
   {
    "duration": 7,
    "start_time": "2023-08-30T19:49:59.574Z"
   },
   {
    "duration": 1226,
    "start_time": "2023-08-30T19:49:59.583Z"
   },
   {
    "duration": 5,
    "start_time": "2023-08-30T19:50:00.811Z"
   },
   {
    "duration": 48,
    "start_time": "2023-08-30T19:50:00.818Z"
   },
   {
    "duration": 22,
    "start_time": "2023-08-30T19:50:00.868Z"
   },
   {
    "duration": 212,
    "start_time": "2023-08-30T19:50:00.892Z"
   },
   {
    "duration": 21,
    "start_time": "2023-08-30T19:50:01.106Z"
   },
   {
    "duration": 32,
    "start_time": "2023-08-30T19:50:01.133Z"
   },
   {
    "duration": 246,
    "start_time": "2023-08-30T19:50:01.167Z"
   },
   {
    "duration": 9,
    "start_time": "2023-08-30T19:50:01.414Z"
   },
   {
    "duration": 51,
    "start_time": "2023-08-30T19:50:01.425Z"
   },
   {
    "duration": 420,
    "start_time": "2023-08-30T19:50:01.477Z"
   },
   {
    "duration": 5,
    "start_time": "2023-08-30T19:50:01.899Z"
   },
   {
    "duration": 61,
    "start_time": "2023-08-30T19:50:01.906Z"
   },
   {
    "duration": 228,
    "start_time": "2023-08-30T19:50:01.969Z"
   },
   {
    "duration": 5,
    "start_time": "2023-08-30T19:50:02.199Z"
   },
   {
    "duration": 57,
    "start_time": "2023-08-30T19:50:02.205Z"
   },
   {
    "duration": 98,
    "start_time": "2023-08-30T19:50:02.264Z"
   },
   {
    "duration": 70,
    "start_time": "2023-08-30T19:50:02.364Z"
   },
   {
    "duration": 24,
    "start_time": "2023-08-30T19:50:02.437Z"
   },
   {
    "duration": 8,
    "start_time": "2023-08-30T19:50:02.464Z"
   },
   {
    "duration": 12,
    "start_time": "2023-08-30T19:50:02.474Z"
   },
   {
    "duration": 19,
    "start_time": "2023-08-30T19:50:02.488Z"
   },
   {
    "duration": 28,
    "start_time": "2023-08-30T19:50:02.509Z"
   },
   {
    "duration": 29,
    "start_time": "2023-08-30T19:50:02.539Z"
   },
   {
    "duration": 17,
    "start_time": "2023-08-30T19:50:02.571Z"
   },
   {
    "duration": 10,
    "start_time": "2023-08-30T19:50:02.591Z"
   },
   {
    "duration": 33,
    "start_time": "2023-08-30T19:50:02.603Z"
   },
   {
    "duration": 18,
    "start_time": "2023-08-30T19:50:02.638Z"
   },
   {
    "duration": 16,
    "start_time": "2023-08-30T19:50:02.660Z"
   },
   {
    "duration": 19,
    "start_time": "2023-08-30T19:50:02.678Z"
   },
   {
    "duration": 26,
    "start_time": "2023-08-30T19:50:02.699Z"
   },
   {
    "duration": 16,
    "start_time": "2023-08-30T19:50:02.729Z"
   },
   {
    "duration": 13,
    "start_time": "2023-08-30T19:50:02.747Z"
   },
   {
    "duration": 4,
    "start_time": "2023-08-30T19:50:02.765Z"
   },
   {
    "duration": 8,
    "start_time": "2023-08-30T19:50:02.771Z"
   },
   {
    "duration": 6,
    "start_time": "2023-08-30T19:50:02.782Z"
   },
   {
    "duration": 8,
    "start_time": "2023-08-30T19:50:02.790Z"
   },
   {
    "duration": 7200,
    "start_time": "2023-08-30T19:50:02.800Z"
   },
   {
    "duration": 188117,
    "start_time": "2023-08-30T19:50:10.002Z"
   },
   {
    "duration": 364031,
    "start_time": "2023-08-30T19:53:18.121Z"
   },
   {
    "duration": 4,
    "start_time": "2023-08-30T20:00:09.571Z"
   },
   {
    "duration": 10,
    "start_time": "2023-08-30T20:00:11.104Z"
   },
   {
    "duration": 529,
    "start_time": "2023-08-30T20:00:13.036Z"
   },
   {
    "duration": 550869,
    "start_time": "2023-08-30T20:00:24.646Z"
   },
   {
    "duration": 10,
    "start_time": "2023-08-30T20:11:05.147Z"
   },
   {
    "duration": 12,
    "start_time": "2023-08-30T20:11:05.160Z"
   },
   {
    "duration": 43,
    "start_time": "2023-08-30T20:11:05.178Z"
   },
   {
    "duration": 36,
    "start_time": "2023-08-30T20:11:05.239Z"
   },
   {
    "duration": 18,
    "start_time": "2023-08-30T20:11:05.281Z"
   },
   {
    "duration": 11,
    "start_time": "2023-08-30T20:11:05.302Z"
   },
   {
    "duration": 8,
    "start_time": "2023-08-30T20:11:05.318Z"
   },
   {
    "duration": 1252,
    "start_time": "2023-08-30T20:11:05.327Z"
   },
   {
    "duration": 10,
    "start_time": "2023-08-30T20:11:06.583Z"
   },
   {
    "duration": 37,
    "start_time": "2023-08-30T20:11:06.596Z"
   },
   {
    "duration": 30,
    "start_time": "2023-08-30T20:11:06.646Z"
   },
   {
    "duration": 212,
    "start_time": "2023-08-30T20:11:06.678Z"
   },
   {
    "duration": 5,
    "start_time": "2023-08-30T20:11:06.892Z"
   },
   {
    "duration": 38,
    "start_time": "2023-08-30T20:11:06.916Z"
   },
   {
    "duration": 236,
    "start_time": "2023-08-30T20:11:06.963Z"
   },
   {
    "duration": 20,
    "start_time": "2023-08-30T20:11:07.201Z"
   },
   {
    "duration": 24,
    "start_time": "2023-08-30T20:11:07.231Z"
   },
   {
    "duration": 292,
    "start_time": "2023-08-30T20:11:07.260Z"
   },
   {
    "duration": 10,
    "start_time": "2023-08-30T20:11:07.555Z"
   },
   {
    "duration": 14,
    "start_time": "2023-08-30T20:11:07.570Z"
   },
   {
    "duration": 217,
    "start_time": "2023-08-30T20:11:07.590Z"
   },
   {
    "duration": 6,
    "start_time": "2023-08-30T20:11:07.809Z"
   },
   {
    "duration": 11,
    "start_time": "2023-08-30T20:11:07.817Z"
   },
   {
    "duration": 7,
    "start_time": "2023-08-30T20:11:07.830Z"
   },
   {
    "duration": 6,
    "start_time": "2023-08-30T20:11:07.839Z"
   },
   {
    "duration": 12,
    "start_time": "2023-08-30T20:11:07.847Z"
   },
   {
    "duration": 10,
    "start_time": "2023-08-30T20:11:07.863Z"
   },
   {
    "duration": 9,
    "start_time": "2023-08-30T20:11:07.876Z"
   },
   {
    "duration": 30,
    "start_time": "2023-08-30T20:11:07.887Z"
   },
   {
    "duration": 11,
    "start_time": "2023-08-30T20:11:07.920Z"
   },
   {
    "duration": 41,
    "start_time": "2023-08-30T20:11:07.934Z"
   },
   {
    "duration": 14,
    "start_time": "2023-08-30T20:11:07.977Z"
   },
   {
    "duration": 7,
    "start_time": "2023-08-30T20:11:07.994Z"
   },
   {
    "duration": 4,
    "start_time": "2023-08-30T20:11:08.003Z"
   },
   {
    "duration": 30,
    "start_time": "2023-08-30T20:11:08.010Z"
   },
   {
    "duration": 16,
    "start_time": "2023-08-30T20:11:08.043Z"
   },
   {
    "duration": 6,
    "start_time": "2023-08-30T20:11:08.061Z"
   },
   {
    "duration": 4,
    "start_time": "2023-08-30T20:11:08.069Z"
   },
   {
    "duration": 9,
    "start_time": "2023-08-30T20:11:08.082Z"
   },
   {
    "duration": 22,
    "start_time": "2023-08-30T20:11:08.098Z"
   },
   {
    "duration": 14,
    "start_time": "2023-08-30T20:11:08.137Z"
   },
   {
    "duration": 12,
    "start_time": "2023-08-30T20:11:08.159Z"
   },
   {
    "duration": 9,
    "start_time": "2023-08-30T20:11:08.180Z"
   },
   {
    "duration": 11,
    "start_time": "2023-08-30T20:11:08.192Z"
   },
   {
    "duration": 8637,
    "start_time": "2023-08-30T20:11:08.206Z"
   },
   {
    "duration": 338375,
    "start_time": "2023-08-30T20:11:16.845Z"
   },
   {
    "duration": 566111,
    "start_time": "2023-08-30T20:16:55.222Z"
   },
   {
    "duration": 13,
    "start_time": "2023-08-30T20:28:22.005Z"
   },
   {
    "duration": 10,
    "start_time": "2023-08-30T20:28:22.023Z"
   },
   {
    "duration": 47,
    "start_time": "2023-08-30T20:28:22.034Z"
   },
   {
    "duration": 11,
    "start_time": "2023-08-30T20:28:22.083Z"
   },
   {
    "duration": 23,
    "start_time": "2023-08-30T20:28:22.096Z"
   },
   {
    "duration": 15,
    "start_time": "2023-08-30T20:28:22.121Z"
   },
   {
    "duration": 23,
    "start_time": "2023-08-30T20:28:22.138Z"
   },
   {
    "duration": 1548,
    "start_time": "2023-08-30T20:28:22.163Z"
   },
   {
    "duration": 20,
    "start_time": "2023-08-30T20:28:23.722Z"
   },
   {
    "duration": 7,
    "start_time": "2023-08-30T20:28:23.747Z"
   },
   {
    "duration": 19,
    "start_time": "2023-08-30T20:28:23.756Z"
   },
   {
    "duration": 198,
    "start_time": "2023-08-30T20:28:23.777Z"
   },
   {
    "duration": 7,
    "start_time": "2023-08-30T20:28:23.978Z"
   },
   {
    "duration": 36,
    "start_time": "2023-08-30T20:28:23.987Z"
   },
   {
    "duration": 197,
    "start_time": "2023-08-30T20:28:24.035Z"
   },
   {
    "duration": 5,
    "start_time": "2023-08-30T20:28:24.234Z"
   },
   {
    "duration": 9,
    "start_time": "2023-08-30T20:28:24.240Z"
   },
   {
    "duration": 229,
    "start_time": "2023-08-30T20:28:24.251Z"
   },
   {
    "duration": 5,
    "start_time": "2023-08-30T20:28:24.482Z"
   },
   {
    "duration": 27,
    "start_time": "2023-08-30T20:28:24.489Z"
   },
   {
    "duration": 231,
    "start_time": "2023-08-30T20:28:24.518Z"
   },
   {
    "duration": 18,
    "start_time": "2023-08-30T20:28:24.762Z"
   },
   {
    "duration": 6,
    "start_time": "2023-08-30T20:28:24.783Z"
   },
   {
    "duration": 6,
    "start_time": "2023-08-30T20:28:24.791Z"
   },
   {
    "duration": 39,
    "start_time": "2023-08-30T20:28:24.799Z"
   },
   {
    "duration": 17,
    "start_time": "2023-08-30T20:28:24.840Z"
   },
   {
    "duration": 9,
    "start_time": "2023-08-30T20:28:24.859Z"
   },
   {
    "duration": 7,
    "start_time": "2023-08-30T20:28:24.875Z"
   },
   {
    "duration": 13,
    "start_time": "2023-08-30T20:28:24.884Z"
   },
   {
    "duration": 7,
    "start_time": "2023-08-30T20:28:24.900Z"
   },
   {
    "duration": 60,
    "start_time": "2023-08-30T20:28:24.908Z"
   },
   {
    "duration": 8,
    "start_time": "2023-08-30T20:28:24.971Z"
   },
   {
    "duration": 8,
    "start_time": "2023-08-30T20:28:24.981Z"
   },
   {
    "duration": 10,
    "start_time": "2023-08-30T20:28:24.992Z"
   },
   {
    "duration": 36,
    "start_time": "2023-08-30T20:28:25.004Z"
   },
   {
    "duration": 16,
    "start_time": "2023-08-30T20:28:25.047Z"
   },
   {
    "duration": 7,
    "start_time": "2023-08-30T20:28:25.069Z"
   },
   {
    "duration": 8,
    "start_time": "2023-08-30T20:28:25.078Z"
   },
   {
    "duration": 7,
    "start_time": "2023-08-30T20:28:25.088Z"
   },
   {
    "duration": 7,
    "start_time": "2023-08-30T20:28:25.096Z"
   },
   {
    "duration": 18,
    "start_time": "2023-08-30T20:28:25.105Z"
   },
   {
    "duration": 9,
    "start_time": "2023-08-30T20:28:25.133Z"
   },
   {
    "duration": 29,
    "start_time": "2023-08-30T20:28:25.144Z"
   },
   {
    "duration": 12,
    "start_time": "2023-08-30T20:28:25.176Z"
   },
   {
    "duration": 34075,
    "start_time": "2023-08-30T20:28:25.190Z"
   },
   {
    "duration": 1045171,
    "start_time": "2023-08-30T20:28:59.268Z"
   },
   {
    "duration": 375260,
    "start_time": "2023-08-30T20:46:24.444Z"
   },
   {
    "duration": 6,
    "start_time": "2023-08-30T20:52:39.719Z"
   },
   {
    "duration": 13,
    "start_time": "2023-08-30T20:52:39.732Z"
   },
   {
    "duration": 34,
    "start_time": "2023-08-30T20:52:39.753Z"
   },
   {
    "duration": 16,
    "start_time": "2023-08-30T20:52:39.790Z"
   },
   {
    "duration": 45,
    "start_time": "2023-08-30T20:52:39.808Z"
   },
   {
    "duration": 23,
    "start_time": "2023-08-30T20:52:39.860Z"
   },
   {
    "duration": 21,
    "start_time": "2023-08-30T20:52:39.885Z"
   },
   {
    "duration": 1308,
    "start_time": "2023-08-30T20:52:39.908Z"
   },
   {
    "duration": 6,
    "start_time": "2023-08-30T20:52:41.217Z"
   },
   {
    "duration": 36,
    "start_time": "2023-08-30T20:52:41.225Z"
   },
   {
    "duration": 22,
    "start_time": "2023-08-30T20:52:41.265Z"
   },
   {
    "duration": 237,
    "start_time": "2023-08-30T20:52:41.289Z"
   },
   {
    "duration": 8,
    "start_time": "2023-08-30T20:52:41.529Z"
   },
   {
    "duration": 19,
    "start_time": "2023-08-30T20:52:41.539Z"
   },
   {
    "duration": 199,
    "start_time": "2023-08-30T20:52:41.560Z"
   },
   {
    "duration": 7,
    "start_time": "2023-08-30T20:52:41.761Z"
   },
   {
    "duration": 17,
    "start_time": "2023-08-30T20:52:41.774Z"
   },
   {
    "duration": 279,
    "start_time": "2023-08-30T20:52:41.793Z"
   },
   {
    "duration": 6,
    "start_time": "2023-08-30T20:52:42.073Z"
   },
   {
    "duration": 10,
    "start_time": "2023-08-30T20:52:42.081Z"
   },
   {
    "duration": 197,
    "start_time": "2023-08-30T20:52:42.093Z"
   },
   {
    "duration": 5,
    "start_time": "2023-08-30T20:52:42.291Z"
   },
   {
    "duration": 19,
    "start_time": "2023-08-30T20:52:42.298Z"
   },
   {
    "duration": 19,
    "start_time": "2023-08-30T20:52:42.322Z"
   },
   {
    "duration": 11,
    "start_time": "2023-08-30T20:52:42.344Z"
   },
   {
    "duration": 12,
    "start_time": "2023-08-30T20:52:42.357Z"
   },
   {
    "duration": 5,
    "start_time": "2023-08-30T20:52:42.376Z"
   },
   {
    "duration": 6,
    "start_time": "2023-08-30T20:52:42.384Z"
   },
   {
    "duration": 44,
    "start_time": "2023-08-30T20:52:42.392Z"
   },
   {
    "duration": 23,
    "start_time": "2023-08-30T20:52:42.438Z"
   },
   {
    "duration": 35,
    "start_time": "2023-08-30T20:52:42.471Z"
   },
   {
    "duration": 19,
    "start_time": "2023-08-30T20:52:42.508Z"
   },
   {
    "duration": 11,
    "start_time": "2023-08-30T20:52:42.529Z"
   },
   {
    "duration": 17,
    "start_time": "2023-08-30T20:52:42.542Z"
   },
   {
    "duration": 8,
    "start_time": "2023-08-30T20:52:42.561Z"
   },
   {
    "duration": 19,
    "start_time": "2023-08-30T20:52:42.577Z"
   },
   {
    "duration": 10,
    "start_time": "2023-08-30T20:52:42.598Z"
   },
   {
    "duration": 10,
    "start_time": "2023-08-30T20:52:42.618Z"
   },
   {
    "duration": 18,
    "start_time": "2023-08-30T20:52:42.630Z"
   },
   {
    "duration": 10,
    "start_time": "2023-08-30T20:52:42.652Z"
   },
   {
    "duration": 11,
    "start_time": "2023-08-30T20:52:42.674Z"
   },
   {
    "duration": 8,
    "start_time": "2023-08-30T20:52:42.688Z"
   },
   {
    "duration": 11,
    "start_time": "2023-08-30T20:52:42.699Z"
   },
   {
    "duration": 15,
    "start_time": "2023-08-30T20:52:42.713Z"
   },
   {
    "duration": 225,
    "start_time": "2023-08-30T20:52:42.730Z"
   },
   {
    "duration": 232,
    "start_time": "2023-08-30T20:52:42.957Z"
   },
   {
    "duration": 167,
    "start_time": "2023-08-30T20:52:43.191Z"
   },
   {
    "duration": 2916,
    "start_time": "2023-08-30T20:53:35.369Z"
   },
   {
    "duration": 9,
    "start_time": "2023-08-30T20:53:38.295Z"
   },
   {
    "duration": 79,
    "start_time": "2023-08-30T20:53:38.306Z"
   },
   {
    "duration": 22,
    "start_time": "2023-08-30T20:53:38.399Z"
   },
   {
    "duration": 25,
    "start_time": "2023-08-30T20:53:38.424Z"
   },
   {
    "duration": 21,
    "start_time": "2023-08-30T20:53:38.455Z"
   },
   {
    "duration": 18,
    "start_time": "2023-08-30T20:53:38.481Z"
   },
   {
    "duration": 1532,
    "start_time": "2023-08-30T20:53:38.502Z"
   },
   {
    "duration": 15,
    "start_time": "2023-08-30T20:53:40.036Z"
   },
   {
    "duration": 11,
    "start_time": "2023-08-30T20:53:40.054Z"
   },
   {
    "duration": 23,
    "start_time": "2023-08-30T20:53:40.068Z"
   },
   {
    "duration": 251,
    "start_time": "2023-08-30T20:53:40.093Z"
   },
   {
    "duration": 6,
    "start_time": "2023-08-30T20:53:40.349Z"
   },
   {
    "duration": 14,
    "start_time": "2023-08-30T20:53:40.361Z"
   },
   {
    "duration": 242,
    "start_time": "2023-08-30T20:53:40.380Z"
   },
   {
    "duration": 11,
    "start_time": "2023-08-30T20:53:40.626Z"
   },
   {
    "duration": 23,
    "start_time": "2023-08-30T20:53:40.639Z"
   },
   {
    "duration": 307,
    "start_time": "2023-08-30T20:53:40.665Z"
   },
   {
    "duration": 14,
    "start_time": "2023-08-30T20:53:40.974Z"
   },
   {
    "duration": 11,
    "start_time": "2023-08-30T20:53:40.990Z"
   },
   {
    "duration": 245,
    "start_time": "2023-08-30T20:53:41.003Z"
   },
   {
    "duration": 14,
    "start_time": "2023-08-30T20:53:41.251Z"
   },
   {
    "duration": 16,
    "start_time": "2023-08-30T20:53:41.271Z"
   },
   {
    "duration": 9,
    "start_time": "2023-08-30T20:53:41.290Z"
   },
   {
    "duration": 5,
    "start_time": "2023-08-30T20:53:41.301Z"
   },
   {
    "duration": 15,
    "start_time": "2023-08-30T20:53:41.308Z"
   },
   {
    "duration": 8,
    "start_time": "2023-08-30T20:53:41.325Z"
   },
   {
    "duration": 8,
    "start_time": "2023-08-30T20:53:41.335Z"
   },
   {
    "duration": 20,
    "start_time": "2023-08-30T20:53:41.348Z"
   },
   {
    "duration": 5,
    "start_time": "2023-08-30T20:53:41.370Z"
   },
   {
    "duration": 22,
    "start_time": "2023-08-30T20:53:41.377Z"
   },
   {
    "duration": 27,
    "start_time": "2023-08-30T20:53:41.401Z"
   },
   {
    "duration": 10,
    "start_time": "2023-08-30T20:53:41.430Z"
   },
   {
    "duration": 7,
    "start_time": "2023-08-30T20:53:41.442Z"
   },
   {
    "duration": 9,
    "start_time": "2023-08-30T20:53:41.451Z"
   },
   {
    "duration": 9,
    "start_time": "2023-08-30T20:53:41.462Z"
   },
   {
    "duration": 6,
    "start_time": "2023-08-30T20:53:41.472Z"
   },
   {
    "duration": 9,
    "start_time": "2023-08-30T20:53:41.480Z"
   },
   {
    "duration": 6,
    "start_time": "2023-08-30T20:53:41.491Z"
   },
   {
    "duration": 23,
    "start_time": "2023-08-30T20:53:41.499Z"
   },
   {
    "duration": 10,
    "start_time": "2023-08-30T20:53:41.530Z"
   },
   {
    "duration": 8,
    "start_time": "2023-08-30T20:53:41.542Z"
   },
   {
    "duration": 14,
    "start_time": "2023-08-30T20:53:41.555Z"
   },
   {
    "duration": 11,
    "start_time": "2023-08-30T20:53:41.579Z"
   },
   {
    "duration": 394,
    "start_time": "2023-08-30T20:53:41.592Z"
   },
   {
    "duration": 177,
    "start_time": "2023-08-30T20:53:41.987Z"
   },
   {
    "duration": 183,
    "start_time": "2023-08-30T20:53:42.168Z"
   },
   {
    "duration": 10,
    "start_time": "2023-08-30T20:54:01.555Z"
   },
   {
    "duration": 53,
    "start_time": "2023-08-30T20:54:01.569Z"
   },
   {
    "duration": 104,
    "start_time": "2023-08-30T20:54:01.624Z"
   },
   {
    "duration": 55,
    "start_time": "2023-08-30T20:54:01.735Z"
   },
   {
    "duration": 100,
    "start_time": "2023-08-30T20:54:01.792Z"
   },
   {
    "duration": 128,
    "start_time": "2023-08-30T20:54:01.894Z"
   },
   {
    "duration": 59,
    "start_time": "2023-08-30T20:54:02.024Z"
   },
   {
    "duration": 1595,
    "start_time": "2023-08-30T20:54:02.085Z"
   },
   {
    "duration": 6,
    "start_time": "2023-08-30T20:54:03.683Z"
   },
   {
    "duration": 103,
    "start_time": "2023-08-30T20:54:03.693Z"
   },
   {
    "duration": 188,
    "start_time": "2023-08-30T20:54:03.799Z"
   },
   {
    "duration": 283,
    "start_time": "2023-08-30T20:54:03.989Z"
   },
   {
    "duration": 10,
    "start_time": "2023-08-30T20:54:04.275Z"
   },
   {
    "duration": 22,
    "start_time": "2023-08-30T20:54:04.288Z"
   },
   {
    "duration": 270,
    "start_time": "2023-08-30T20:54:04.312Z"
   },
   {
    "duration": 15,
    "start_time": "2023-08-30T20:54:04.586Z"
   },
   {
    "duration": 19,
    "start_time": "2023-08-30T20:54:04.608Z"
   },
   {
    "duration": 308,
    "start_time": "2023-08-30T20:54:04.635Z"
   },
   {
    "duration": 10,
    "start_time": "2023-08-30T20:54:04.950Z"
   },
   {
    "duration": 18,
    "start_time": "2023-08-30T20:54:04.964Z"
   },
   {
    "duration": 219,
    "start_time": "2023-08-30T20:54:04.984Z"
   },
   {
    "duration": 8,
    "start_time": "2023-08-30T20:54:05.205Z"
   },
   {
    "duration": 30,
    "start_time": "2023-08-30T20:54:05.215Z"
   },
   {
    "duration": 14,
    "start_time": "2023-08-30T20:54:05.251Z"
   },
   {
    "duration": 10,
    "start_time": "2023-08-30T20:54:05.267Z"
   },
   {
    "duration": 14,
    "start_time": "2023-08-30T20:54:05.279Z"
   },
   {
    "duration": 6,
    "start_time": "2023-08-30T20:54:05.296Z"
   },
   {
    "duration": 25,
    "start_time": "2023-08-30T20:54:05.311Z"
   },
   {
    "duration": 22,
    "start_time": "2023-08-30T20:54:05.342Z"
   },
   {
    "duration": 11,
    "start_time": "2023-08-30T20:54:05.367Z"
   },
   {
    "duration": 27,
    "start_time": "2023-08-30T20:54:05.393Z"
   },
   {
    "duration": 6,
    "start_time": "2023-08-30T20:54:05.423Z"
   },
   {
    "duration": 42,
    "start_time": "2023-08-30T20:54:05.432Z"
   },
   {
    "duration": 68,
    "start_time": "2023-08-30T20:54:05.476Z"
   },
   {
    "duration": 40,
    "start_time": "2023-08-30T20:54:05.546Z"
   },
   {
    "duration": 23,
    "start_time": "2023-08-30T20:54:05.588Z"
   },
   {
    "duration": 8,
    "start_time": "2023-08-30T20:54:05.619Z"
   },
   {
    "duration": 25,
    "start_time": "2023-08-30T20:54:05.629Z"
   },
   {
    "duration": 19,
    "start_time": "2023-08-30T20:54:05.657Z"
   },
   {
    "duration": 6,
    "start_time": "2023-08-30T20:54:05.685Z"
   },
   {
    "duration": 8,
    "start_time": "2023-08-30T20:54:05.693Z"
   },
   {
    "duration": 28,
    "start_time": "2023-08-30T20:54:05.703Z"
   },
   {
    "duration": 18,
    "start_time": "2023-08-30T20:54:05.733Z"
   },
   {
    "duration": 19,
    "start_time": "2023-08-30T20:54:05.752Z"
   },
   {
    "duration": 102,
    "start_time": "2023-08-30T20:54:05.773Z"
   },
   {
    "duration": 2861,
    "start_time": "2023-08-30T20:54:05.880Z"
   },
   {
    "duration": 8053,
    "start_time": "2023-08-30T20:54:08.744Z"
   },
   {
    "duration": 11,
    "start_time": "2023-08-30T20:54:43.447Z"
   },
   {
    "duration": 18,
    "start_time": "2023-08-30T20:54:43.460Z"
   },
   {
    "duration": 60,
    "start_time": "2023-08-30T20:54:43.480Z"
   },
   {
    "duration": 32,
    "start_time": "2023-08-30T20:54:43.544Z"
   },
   {
    "duration": 26,
    "start_time": "2023-08-30T20:54:43.581Z"
   },
   {
    "duration": 9,
    "start_time": "2023-08-30T20:54:43.610Z"
   },
   {
    "duration": 15,
    "start_time": "2023-08-30T20:54:43.622Z"
   },
   {
    "duration": 1409,
    "start_time": "2023-08-30T20:54:43.644Z"
   },
   {
    "duration": 11,
    "start_time": "2023-08-30T20:54:45.059Z"
   },
   {
    "duration": 11,
    "start_time": "2023-08-30T20:54:45.077Z"
   },
   {
    "duration": 31,
    "start_time": "2023-08-30T20:54:45.097Z"
   },
   {
    "duration": 304,
    "start_time": "2023-08-30T20:54:45.136Z"
   },
   {
    "duration": 18,
    "start_time": "2023-08-30T20:54:45.450Z"
   },
   {
    "duration": 10,
    "start_time": "2023-08-30T20:54:45.470Z"
   },
   {
    "duration": 293,
    "start_time": "2023-08-30T20:54:45.481Z"
   },
   {
    "duration": 7,
    "start_time": "2023-08-30T20:54:45.780Z"
   },
   {
    "duration": 19,
    "start_time": "2023-08-30T20:54:45.794Z"
   },
   {
    "duration": 445,
    "start_time": "2023-08-30T20:54:45.818Z"
   },
   {
    "duration": 11,
    "start_time": "2023-08-30T20:54:46.273Z"
   },
   {
    "duration": 21,
    "start_time": "2023-08-30T20:54:46.287Z"
   },
   {
    "duration": 274,
    "start_time": "2023-08-30T20:54:46.310Z"
   },
   {
    "duration": 12,
    "start_time": "2023-08-30T20:54:46.590Z"
   },
   {
    "duration": 12,
    "start_time": "2023-08-30T20:54:46.606Z"
   },
   {
    "duration": 8,
    "start_time": "2023-08-30T20:54:46.623Z"
   },
   {
    "duration": 8,
    "start_time": "2023-08-30T20:54:46.637Z"
   },
   {
    "duration": 9,
    "start_time": "2023-08-30T20:54:46.650Z"
   },
   {
    "duration": 8,
    "start_time": "2023-08-30T20:54:46.669Z"
   },
   {
    "duration": 15,
    "start_time": "2023-08-30T20:54:46.692Z"
   },
   {
    "duration": 19,
    "start_time": "2023-08-30T20:54:46.713Z"
   },
   {
    "duration": 5,
    "start_time": "2023-08-30T20:54:46.738Z"
   },
   {
    "duration": 27,
    "start_time": "2023-08-30T20:54:46.749Z"
   },
   {
    "duration": 7,
    "start_time": "2023-08-30T20:54:46.782Z"
   },
   {
    "duration": 6,
    "start_time": "2023-08-30T20:54:46.795Z"
   },
   {
    "duration": 9,
    "start_time": "2023-08-30T20:54:46.807Z"
   },
   {
    "duration": 4,
    "start_time": "2023-08-30T20:54:46.822Z"
   },
   {
    "duration": 14,
    "start_time": "2023-08-30T20:54:46.832Z"
   },
   {
    "duration": 12,
    "start_time": "2023-08-30T20:54:46.852Z"
   },
   {
    "duration": 7,
    "start_time": "2023-08-30T20:54:46.871Z"
   },
   {
    "duration": 6,
    "start_time": "2023-08-30T20:54:46.891Z"
   },
   {
    "duration": 12,
    "start_time": "2023-08-30T20:54:46.905Z"
   },
   {
    "duration": 13,
    "start_time": "2023-08-30T20:54:46.919Z"
   },
   {
    "duration": 18,
    "start_time": "2023-08-30T20:54:46.937Z"
   },
   {
    "duration": 40,
    "start_time": "2023-08-30T20:54:46.960Z"
   },
   {
    "duration": 28,
    "start_time": "2023-08-30T20:54:47.006Z"
   },
   {
    "duration": 578,
    "start_time": "2023-08-30T20:54:47.043Z"
   },
   {
    "duration": 90923,
    "start_time": "2023-08-30T20:54:47.627Z"
   },
   {
    "duration": 244233,
    "start_time": "2023-08-30T20:56:18.567Z"
   },
   {
    "duration": 15,
    "start_time": "2023-08-30T21:02:45.555Z"
   },
   {
    "duration": 9,
    "start_time": "2023-08-30T21:02:45.579Z"
   },
   {
    "duration": 106,
    "start_time": "2023-08-30T21:02:45.590Z"
   },
   {
    "duration": 45,
    "start_time": "2023-08-30T21:02:45.698Z"
   },
   {
    "duration": 20,
    "start_time": "2023-08-30T21:02:45.755Z"
   },
   {
    "duration": 10,
    "start_time": "2023-08-30T21:02:45.777Z"
   },
   {
    "duration": 9,
    "start_time": "2023-08-30T21:02:45.793Z"
   },
   {
    "duration": 1617,
    "start_time": "2023-08-30T21:02:45.805Z"
   },
   {
    "duration": 6,
    "start_time": "2023-08-30T21:02:47.424Z"
   },
   {
    "duration": 8,
    "start_time": "2023-08-30T21:02:47.434Z"
   },
   {
    "duration": 33,
    "start_time": "2023-08-30T21:02:47.444Z"
   },
   {
    "duration": 252,
    "start_time": "2023-08-30T21:02:47.480Z"
   },
   {
    "duration": 27,
    "start_time": "2023-08-30T21:02:47.738Z"
   },
   {
    "duration": 23,
    "start_time": "2023-08-30T21:02:47.781Z"
   },
   {
    "duration": 241,
    "start_time": "2023-08-30T21:02:47.806Z"
   },
   {
    "duration": 8,
    "start_time": "2023-08-30T21:02:48.052Z"
   },
   {
    "duration": 12,
    "start_time": "2023-08-30T21:02:48.066Z"
   },
   {
    "duration": 255,
    "start_time": "2023-08-30T21:02:48.084Z"
   },
   {
    "duration": 8,
    "start_time": "2023-08-30T21:02:48.345Z"
   },
   {
    "duration": 19,
    "start_time": "2023-08-30T21:02:48.358Z"
   },
   {
    "duration": 228,
    "start_time": "2023-08-30T21:02:48.383Z"
   },
   {
    "duration": 10,
    "start_time": "2023-08-30T21:02:48.618Z"
   },
   {
    "duration": 12,
    "start_time": "2023-08-30T21:02:48.630Z"
   },
   {
    "duration": 28,
    "start_time": "2023-08-30T21:02:48.647Z"
   },
   {
    "duration": 14,
    "start_time": "2023-08-30T21:02:48.681Z"
   },
   {
    "duration": 18,
    "start_time": "2023-08-30T21:02:48.698Z"
   },
   {
    "duration": 17,
    "start_time": "2023-08-30T21:02:48.719Z"
   },
   {
    "duration": 14,
    "start_time": "2023-08-30T21:02:48.739Z"
   },
   {
    "duration": 16,
    "start_time": "2023-08-30T21:02:48.762Z"
   },
   {
    "duration": 5,
    "start_time": "2023-08-30T21:02:48.782Z"
   },
   {
    "duration": 41,
    "start_time": "2023-08-30T21:02:48.791Z"
   },
   {
    "duration": 12,
    "start_time": "2023-08-30T21:02:48.834Z"
   },
   {
    "duration": 11,
    "start_time": "2023-08-30T21:02:48.850Z"
   },
   {
    "duration": 13,
    "start_time": "2023-08-30T21:02:48.870Z"
   },
   {
    "duration": 9,
    "start_time": "2023-08-30T21:02:48.886Z"
   },
   {
    "duration": 35,
    "start_time": "2023-08-30T21:02:48.897Z"
   },
   {
    "duration": 15,
    "start_time": "2023-08-30T21:02:48.937Z"
   },
   {
    "duration": 13,
    "start_time": "2023-08-30T21:02:48.961Z"
   },
   {
    "duration": 16,
    "start_time": "2023-08-30T21:02:48.978Z"
   },
   {
    "duration": 5,
    "start_time": "2023-08-30T21:02:48.996Z"
   },
   {
    "duration": 13,
    "start_time": "2023-08-30T21:02:49.006Z"
   },
   {
    "duration": 22,
    "start_time": "2023-08-30T21:02:49.021Z"
   },
   {
    "duration": 9,
    "start_time": "2023-08-30T21:02:49.046Z"
   },
   {
    "duration": 14,
    "start_time": "2023-08-30T21:02:49.063Z"
   },
   {
    "duration": 2630,
    "start_time": "2023-08-30T21:02:49.079Z"
   },
   {
    "duration": 4630,
    "start_time": "2023-08-30T21:02:51.714Z"
   },
   {
    "duration": 33818,
    "start_time": "2023-08-30T21:02:56.350Z"
   },
   {
    "duration": 11,
    "start_time": "2023-08-30T21:04:12.631Z"
   },
   {
    "duration": 42,
    "start_time": "2023-08-30T21:04:12.644Z"
   },
   {
    "duration": 44,
    "start_time": "2023-08-30T21:04:12.688Z"
   },
   {
    "duration": 27,
    "start_time": "2023-08-30T21:04:12.738Z"
   },
   {
    "duration": 25,
    "start_time": "2023-08-30T21:04:12.774Z"
   },
   {
    "duration": 37,
    "start_time": "2023-08-30T21:04:12.801Z"
   },
   {
    "duration": 12,
    "start_time": "2023-08-30T21:04:12.844Z"
   },
   {
    "duration": 1409,
    "start_time": "2023-08-30T21:04:12.858Z"
   },
   {
    "duration": 17,
    "start_time": "2023-08-30T21:04:14.268Z"
   },
   {
    "duration": 16,
    "start_time": "2023-08-30T21:04:14.287Z"
   },
   {
    "duration": 37,
    "start_time": "2023-08-30T21:04:14.305Z"
   },
   {
    "duration": 248,
    "start_time": "2023-08-30T21:04:14.347Z"
   },
   {
    "duration": 6,
    "start_time": "2023-08-30T21:04:14.598Z"
   },
   {
    "duration": 31,
    "start_time": "2023-08-30T21:04:14.614Z"
   },
   {
    "duration": 214,
    "start_time": "2023-08-30T21:04:14.646Z"
   },
   {
    "duration": 5,
    "start_time": "2023-08-30T21:04:14.862Z"
   },
   {
    "duration": 34,
    "start_time": "2023-08-30T21:04:14.868Z"
   },
   {
    "duration": 268,
    "start_time": "2023-08-30T21:04:14.904Z"
   },
   {
    "duration": 6,
    "start_time": "2023-08-30T21:04:15.177Z"
   },
   {
    "duration": 47,
    "start_time": "2023-08-30T21:04:15.185Z"
   },
   {
    "duration": 215,
    "start_time": "2023-08-30T21:04:15.242Z"
   },
   {
    "duration": 9,
    "start_time": "2023-08-30T21:04:15.461Z"
   },
   {
    "duration": 34,
    "start_time": "2023-08-30T21:04:15.474Z"
   },
   {
    "duration": 36,
    "start_time": "2023-08-30T21:04:15.511Z"
   },
   {
    "duration": 24,
    "start_time": "2023-08-30T21:04:15.549Z"
   },
   {
    "duration": 21,
    "start_time": "2023-08-30T21:04:15.579Z"
   },
   {
    "duration": 33,
    "start_time": "2023-08-30T21:04:15.602Z"
   },
   {
    "duration": 26,
    "start_time": "2023-08-30T21:04:15.639Z"
   },
   {
    "duration": 60,
    "start_time": "2023-08-30T21:04:15.667Z"
   },
   {
    "duration": 57,
    "start_time": "2023-08-30T21:04:15.729Z"
   },
   {
    "duration": 80,
    "start_time": "2023-08-30T21:04:15.787Z"
   },
   {
    "duration": 7,
    "start_time": "2023-08-30T21:04:15.869Z"
   },
   {
    "duration": 5,
    "start_time": "2023-08-30T21:04:15.879Z"
   },
   {
    "duration": 15,
    "start_time": "2023-08-30T21:04:15.886Z"
   },
   {
    "duration": 5,
    "start_time": "2023-08-30T21:04:15.903Z"
   },
   {
    "duration": 16,
    "start_time": "2023-08-30T21:04:15.919Z"
   },
   {
    "duration": 9,
    "start_time": "2023-08-30T21:04:15.942Z"
   },
   {
    "duration": 9,
    "start_time": "2023-08-30T21:04:15.954Z"
   },
   {
    "duration": 18,
    "start_time": "2023-08-30T21:04:15.968Z"
   },
   {
    "duration": 14,
    "start_time": "2023-08-30T21:04:15.988Z"
   },
   {
    "duration": 8,
    "start_time": "2023-08-30T21:04:16.006Z"
   },
   {
    "duration": 18,
    "start_time": "2023-08-30T21:04:16.020Z"
   },
   {
    "duration": 12,
    "start_time": "2023-08-30T21:04:16.043Z"
   },
   {
    "duration": 17,
    "start_time": "2023-08-30T21:04:16.057Z"
   },
   {
    "duration": 4384,
    "start_time": "2023-08-30T21:04:16.076Z"
   },
   {
    "duration": 7722,
    "start_time": "2023-08-30T21:04:20.463Z"
   },
   {
    "duration": 61562,
    "start_time": "2023-08-30T21:04:28.187Z"
   },
   {
    "duration": 29,
    "start_time": "2023-08-30T21:05:55.131Z"
   },
   {
    "duration": 5,
    "start_time": "2023-08-30T21:05:55.163Z"
   },
   {
    "duration": 29,
    "start_time": "2023-08-30T21:05:55.173Z"
   },
   {
    "duration": 23,
    "start_time": "2023-08-30T21:05:55.203Z"
   },
   {
    "duration": 27,
    "start_time": "2023-08-30T21:05:55.238Z"
   },
   {
    "duration": 12,
    "start_time": "2023-08-30T21:05:55.267Z"
   },
   {
    "duration": 8,
    "start_time": "2023-08-30T21:05:55.281Z"
   },
   {
    "duration": 1222,
    "start_time": "2023-08-30T21:05:55.291Z"
   },
   {
    "duration": 19,
    "start_time": "2023-08-30T21:05:56.534Z"
   },
   {
    "duration": 22,
    "start_time": "2023-08-30T21:05:56.556Z"
   },
   {
    "duration": 9,
    "start_time": "2023-08-30T21:05:56.587Z"
   },
   {
    "duration": 232,
    "start_time": "2023-08-30T21:05:56.597Z"
   },
   {
    "duration": 7,
    "start_time": "2023-08-30T21:05:56.831Z"
   },
   {
    "duration": 27,
    "start_time": "2023-08-30T21:05:56.841Z"
   },
   {
    "duration": 199,
    "start_time": "2023-08-30T21:05:56.870Z"
   },
   {
    "duration": 7,
    "start_time": "2023-08-30T21:05:57.074Z"
   },
   {
    "duration": 8,
    "start_time": "2023-08-30T21:05:57.083Z"
   },
   {
    "duration": 234,
    "start_time": "2023-08-30T21:05:57.093Z"
   },
   {
    "duration": 5,
    "start_time": "2023-08-30T21:05:57.332Z"
   },
   {
    "duration": 33,
    "start_time": "2023-08-30T21:05:57.341Z"
   },
   {
    "duration": 190,
    "start_time": "2023-08-30T21:05:57.379Z"
   },
   {
    "duration": 11,
    "start_time": "2023-08-30T21:05:57.575Z"
   },
   {
    "duration": 6,
    "start_time": "2023-08-30T21:05:57.588Z"
   },
   {
    "duration": 38,
    "start_time": "2023-08-30T21:05:57.596Z"
   },
   {
    "duration": 8,
    "start_time": "2023-08-30T21:05:57.636Z"
   },
   {
    "duration": 13,
    "start_time": "2023-08-30T21:05:57.648Z"
   },
   {
    "duration": 8,
    "start_time": "2023-08-30T21:05:57.666Z"
   },
   {
    "duration": 5,
    "start_time": "2023-08-30T21:05:57.679Z"
   },
   {
    "duration": 11,
    "start_time": "2023-08-30T21:05:57.686Z"
   },
   {
    "duration": 5,
    "start_time": "2023-08-30T21:05:57.699Z"
   },
   {
    "duration": 34,
    "start_time": "2023-08-30T21:05:57.706Z"
   },
   {
    "duration": 7,
    "start_time": "2023-08-30T21:05:57.742Z"
   },
   {
    "duration": 11,
    "start_time": "2023-08-30T21:05:57.751Z"
   },
   {
    "duration": 18,
    "start_time": "2023-08-30T21:05:57.766Z"
   },
   {
    "duration": 6,
    "start_time": "2023-08-30T21:05:57.786Z"
   },
   {
    "duration": 13,
    "start_time": "2023-08-30T21:05:57.794Z"
   },
   {
    "duration": 20,
    "start_time": "2023-08-30T21:05:57.809Z"
   },
   {
    "duration": 7,
    "start_time": "2023-08-30T21:05:57.831Z"
   },
   {
    "duration": 9,
    "start_time": "2023-08-30T21:05:57.839Z"
   },
   {
    "duration": 6,
    "start_time": "2023-08-30T21:05:57.850Z"
   },
   {
    "duration": 4,
    "start_time": "2023-08-30T21:05:57.861Z"
   },
   {
    "duration": 7,
    "start_time": "2023-08-30T21:05:57.868Z"
   },
   {
    "duration": 5,
    "start_time": "2023-08-30T21:05:57.877Z"
   },
   {
    "duration": 8,
    "start_time": "2023-08-30T21:05:57.884Z"
   },
   {
    "duration": 9109,
    "start_time": "2023-08-30T21:05:57.893Z"
   },
   {
    "duration": 15197,
    "start_time": "2023-08-30T21:06:07.003Z"
   },
   {
    "duration": 317579,
    "start_time": "2023-08-30T21:06:22.202Z"
   },
   {
    "duration": 26,
    "start_time": "2023-08-30T21:12:52.686Z"
   },
   {
    "duration": 13,
    "start_time": "2023-08-30T21:12:53.327Z"
   },
   {
    "duration": 653,
    "start_time": "2023-08-30T21:12:54.493Z"
   },
   {
    "duration": 62256,
    "start_time": "2023-08-30T21:13:17.762Z"
   },
   {
    "duration": 3330,
    "start_time": "2023-08-30T21:14:55.001Z"
   },
   {
    "duration": 12,
    "start_time": "2023-08-30T21:14:58.338Z"
   },
   {
    "duration": 72,
    "start_time": "2023-08-30T21:14:58.357Z"
   },
   {
    "duration": 39,
    "start_time": "2023-08-30T21:14:58.437Z"
   },
   {
    "duration": 29,
    "start_time": "2023-08-30T21:14:58.490Z"
   },
   {
    "duration": 17,
    "start_time": "2023-08-30T21:14:58.530Z"
   },
   {
    "duration": 16,
    "start_time": "2023-08-30T21:14:58.553Z"
   },
   {
    "duration": 1629,
    "start_time": "2023-08-30T21:14:58.577Z"
   },
   {
    "duration": 7,
    "start_time": "2023-08-30T21:15:00.208Z"
   },
   {
    "duration": 6,
    "start_time": "2023-08-30T21:15:00.217Z"
   },
   {
    "duration": 13,
    "start_time": "2023-08-30T21:15:00.225Z"
   },
   {
    "duration": 250,
    "start_time": "2023-08-30T21:15:00.240Z"
   },
   {
    "duration": 8,
    "start_time": "2023-08-30T21:15:00.496Z"
   },
   {
    "duration": 34,
    "start_time": "2023-08-30T21:15:00.511Z"
   },
   {
    "duration": 298,
    "start_time": "2023-08-30T21:15:00.547Z"
   },
   {
    "duration": 9,
    "start_time": "2023-08-30T21:15:00.846Z"
   },
   {
    "duration": 68,
    "start_time": "2023-08-30T21:15:00.857Z"
   },
   {
    "duration": 382,
    "start_time": "2023-08-30T21:15:00.928Z"
   },
   {
    "duration": 16,
    "start_time": "2023-08-30T21:15:01.322Z"
   },
   {
    "duration": 60,
    "start_time": "2023-08-30T21:15:01.340Z"
   },
   {
    "duration": 289,
    "start_time": "2023-08-30T21:15:01.404Z"
   },
   {
    "duration": 14,
    "start_time": "2023-08-30T21:15:01.701Z"
   },
   {
    "duration": 67,
    "start_time": "2023-08-30T21:15:01.720Z"
   },
   {
    "duration": 49,
    "start_time": "2023-08-30T21:15:01.793Z"
   },
   {
    "duration": 57,
    "start_time": "2023-08-30T21:15:01.848Z"
   },
   {
    "duration": 61,
    "start_time": "2023-08-30T21:15:01.908Z"
   },
   {
    "duration": 104,
    "start_time": "2023-08-30T21:15:01.977Z"
   },
   {
    "duration": 15,
    "start_time": "2023-08-30T21:15:02.089Z"
   },
   {
    "duration": 61,
    "start_time": "2023-08-30T21:15:02.106Z"
   },
   {
    "duration": 10,
    "start_time": "2023-08-30T21:15:02.174Z"
   },
   {
    "duration": 216,
    "start_time": "2023-08-30T21:15:02.190Z"
   },
   {
    "duration": 20,
    "start_time": "2023-08-30T21:15:02.417Z"
   },
   {
    "duration": 17,
    "start_time": "2023-08-30T21:15:02.445Z"
   },
   {
    "duration": 183,
    "start_time": "2023-08-30T21:15:02.467Z"
   },
   {
    "duration": 65,
    "start_time": "2023-08-30T21:15:02.659Z"
   },
   {
    "duration": 42,
    "start_time": "2023-08-30T21:15:02.728Z"
   },
   {
    "duration": 25,
    "start_time": "2023-08-30T21:15:02.772Z"
   },
   {
    "duration": 37,
    "start_time": "2023-08-30T21:15:02.800Z"
   },
   {
    "duration": 41,
    "start_time": "2023-08-30T21:15:02.839Z"
   },
   {
    "duration": 121,
    "start_time": "2023-08-30T21:15:02.884Z"
   },
   {
    "duration": 106,
    "start_time": "2023-08-30T21:15:03.027Z"
   },
   {
    "duration": 45,
    "start_time": "2023-08-30T21:15:03.144Z"
   },
   {
    "duration": 51,
    "start_time": "2023-08-30T21:15:03.194Z"
   },
   {
    "duration": 62,
    "start_time": "2023-08-30T21:15:03.249Z"
   },
   {
    "duration": 14495,
    "start_time": "2023-08-30T21:15:03.317Z"
   },
   {
    "duration": 72582,
    "start_time": "2023-08-30T21:15:17.814Z"
   },
   {
    "duration": 252285,
    "start_time": "2023-08-30T21:16:30.409Z"
   },
   {
    "duration": 2601,
    "start_time": "2023-08-31T09:03:36.992Z"
   },
   {
    "duration": 5,
    "start_time": "2023-08-31T09:03:39.595Z"
   },
   {
    "duration": 101,
    "start_time": "2023-08-31T09:03:39.602Z"
   },
   {
    "duration": 17,
    "start_time": "2023-08-31T09:03:39.706Z"
   },
   {
    "duration": 13,
    "start_time": "2023-08-31T09:03:39.725Z"
   },
   {
    "duration": 10,
    "start_time": "2023-08-31T09:03:39.740Z"
   },
   {
    "duration": 20,
    "start_time": "2023-08-31T09:03:39.752Z"
   },
   {
    "duration": 1058,
    "start_time": "2023-08-31T09:03:39.774Z"
   },
   {
    "duration": 5,
    "start_time": "2023-08-31T09:03:40.834Z"
   },
   {
    "duration": 20,
    "start_time": "2023-08-31T09:03:40.848Z"
   },
   {
    "duration": 30,
    "start_time": "2023-08-31T09:03:40.870Z"
   },
   {
    "duration": 184,
    "start_time": "2023-08-31T09:03:40.902Z"
   },
   {
    "duration": 5,
    "start_time": "2023-08-31T09:03:41.088Z"
   },
   {
    "duration": 20,
    "start_time": "2023-08-31T09:03:41.095Z"
   },
   {
    "duration": 180,
    "start_time": "2023-08-31T09:03:41.117Z"
   },
   {
    "duration": 5,
    "start_time": "2023-08-31T09:03:41.299Z"
   },
   {
    "duration": 56,
    "start_time": "2023-08-31T09:03:41.306Z"
   },
   {
    "duration": 196,
    "start_time": "2023-08-31T09:03:41.365Z"
   },
   {
    "duration": 5,
    "start_time": "2023-08-31T09:03:41.563Z"
   },
   {
    "duration": 164,
    "start_time": "2023-08-31T09:03:41.570Z"
   },
   {
    "duration": 192,
    "start_time": "2023-08-31T09:03:41.736Z"
   },
   {
    "duration": 5,
    "start_time": "2023-08-31T09:03:41.931Z"
   },
   {
    "duration": 16,
    "start_time": "2023-08-31T09:03:41.949Z"
   },
   {
    "duration": 5,
    "start_time": "2023-08-31T09:03:41.967Z"
   },
   {
    "duration": 15,
    "start_time": "2023-08-31T09:03:41.974Z"
   },
   {
    "duration": 19,
    "start_time": "2023-08-31T09:03:41.990Z"
   },
   {
    "duration": 7,
    "start_time": "2023-08-31T09:03:42.010Z"
   },
   {
    "duration": 8,
    "start_time": "2023-08-31T09:03:42.021Z"
   },
   {
    "duration": 26,
    "start_time": "2023-08-31T09:03:42.031Z"
   },
   {
    "duration": 5,
    "start_time": "2023-08-31T09:03:42.061Z"
   },
   {
    "duration": 46,
    "start_time": "2023-08-31T09:03:42.068Z"
   },
   {
    "duration": 6,
    "start_time": "2023-08-31T09:03:42.116Z"
   },
   {
    "duration": 33,
    "start_time": "2023-08-31T09:03:42.124Z"
   },
   {
    "duration": 15,
    "start_time": "2023-08-31T09:03:42.158Z"
   },
   {
    "duration": 19,
    "start_time": "2023-08-31T09:03:42.177Z"
   },
   {
    "duration": 12,
    "start_time": "2023-08-31T09:03:42.198Z"
   },
   {
    "duration": 10,
    "start_time": "2023-08-31T09:03:42.212Z"
   },
   {
    "duration": 12,
    "start_time": "2023-08-31T09:03:42.224Z"
   },
   {
    "duration": 22,
    "start_time": "2023-08-31T09:03:42.237Z"
   },
   {
    "duration": 4,
    "start_time": "2023-08-31T09:03:48.595Z"
   },
   {
    "duration": 4,
    "start_time": "2023-08-31T09:04:28.978Z"
   },
   {
    "duration": 4,
    "start_time": "2023-08-31T09:04:29.472Z"
   },
   {
    "duration": 4,
    "start_time": "2023-08-31T09:04:29.991Z"
   },
   {
    "duration": 5,
    "start_time": "2023-08-31T09:07:51.088Z"
   },
   {
    "duration": 6,
    "start_time": "2023-08-31T09:08:08.206Z"
   },
   {
    "duration": 20,
    "start_time": "2023-08-31T09:08:29.943Z"
   },
   {
    "duration": 477,
    "start_time": "2023-08-31T09:09:33.246Z"
   },
   {
    "duration": 5,
    "start_time": "2023-08-31T09:09:45.400Z"
   },
   {
    "duration": 17,
    "start_time": "2023-08-31T09:09:45.948Z"
   },
   {
    "duration": 18,
    "start_time": "2023-08-31T09:09:54.316Z"
   },
   {
    "duration": 13,
    "start_time": "2023-08-31T09:09:56.819Z"
   },
   {
    "duration": 4,
    "start_time": "2023-08-31T09:10:14.703Z"
   },
   {
    "duration": 4,
    "start_time": "2023-08-31T09:10:15.696Z"
   },
   {
    "duration": 3,
    "start_time": "2023-08-31T09:10:16.171Z"
   },
   {
    "duration": 7,
    "start_time": "2023-08-31T09:10:16.642Z"
   },
   {
    "duration": 5,
    "start_time": "2023-08-31T09:10:17.726Z"
   },
   {
    "duration": 7,
    "start_time": "2023-08-31T09:10:18.564Z"
   },
   {
    "duration": 10,
    "start_time": "2023-08-31T09:10:19.272Z"
   },
   {
    "duration": 8,
    "start_time": "2023-08-31T09:10:19.984Z"
   },
   {
    "duration": 5,
    "start_time": "2023-08-31T09:10:55.465Z"
   },
   {
    "duration": 4,
    "start_time": "2023-08-31T09:10:55.884Z"
   },
   {
    "duration": 6,
    "start_time": "2023-08-31T09:10:56.379Z"
   },
   {
    "duration": 8,
    "start_time": "2023-08-31T09:10:57.364Z"
   },
   {
    "duration": 9,
    "start_time": "2023-08-31T09:10:58.076Z"
   },
   {
    "duration": 9,
    "start_time": "2023-08-31T09:10:58.625Z"
   },
   {
    "duration": 8,
    "start_time": "2023-08-31T09:10:59.191Z"
   },
   {
    "duration": 6,
    "start_time": "2023-08-31T09:19:19.087Z"
   },
   {
    "duration": 26,
    "start_time": "2023-08-31T09:19:19.841Z"
   },
   {
    "duration": 36,
    "start_time": "2023-08-31T09:19:26.538Z"
   },
   {
    "duration": 139,
    "start_time": "2023-08-31T09:19:28.609Z"
   },
   {
    "duration": 4,
    "start_time": "2023-08-31T09:20:25.130Z"
   },
   {
    "duration": 6,
    "start_time": "2023-08-31T09:20:25.135Z"
   },
   {
    "duration": 42,
    "start_time": "2023-08-31T09:20:25.143Z"
   },
   {
    "duration": 13,
    "start_time": "2023-08-31T09:20:25.187Z"
   },
   {
    "duration": 26,
    "start_time": "2023-08-31T09:20:25.204Z"
   },
   {
    "duration": 18,
    "start_time": "2023-08-31T09:20:25.232Z"
   },
   {
    "duration": 20,
    "start_time": "2023-08-31T09:20:25.253Z"
   },
   {
    "duration": 1189,
    "start_time": "2023-08-31T09:20:25.275Z"
   },
   {
    "duration": 6,
    "start_time": "2023-08-31T09:20:26.466Z"
   },
   {
    "duration": 18,
    "start_time": "2023-08-31T09:20:26.474Z"
   },
   {
    "duration": 11,
    "start_time": "2023-08-31T09:20:26.495Z"
   },
   {
    "duration": 179,
    "start_time": "2023-08-31T09:20:26.508Z"
   },
   {
    "duration": 5,
    "start_time": "2023-08-31T09:20:26.689Z"
   },
   {
    "duration": 35,
    "start_time": "2023-08-31T09:20:26.696Z"
   },
   {
    "duration": 182,
    "start_time": "2023-08-31T09:20:26.733Z"
   },
   {
    "duration": 5,
    "start_time": "2023-08-31T09:20:26.916Z"
   },
   {
    "duration": 12,
    "start_time": "2023-08-31T09:20:26.922Z"
   },
   {
    "duration": 196,
    "start_time": "2023-08-31T09:20:26.935Z"
   },
   {
    "duration": 4,
    "start_time": "2023-08-31T09:20:27.133Z"
   },
   {
    "duration": 19,
    "start_time": "2023-08-31T09:20:27.139Z"
   },
   {
    "duration": 165,
    "start_time": "2023-08-31T09:20:27.160Z"
   },
   {
    "duration": 4,
    "start_time": "2023-08-31T09:20:27.327Z"
   },
   {
    "duration": 21,
    "start_time": "2023-08-31T09:20:27.333Z"
   },
   {
    "duration": 7,
    "start_time": "2023-08-31T09:20:27.358Z"
   },
   {
    "duration": 20,
    "start_time": "2023-08-31T09:20:27.366Z"
   },
   {
    "duration": 38,
    "start_time": "2023-08-31T09:20:27.388Z"
   },
   {
    "duration": 49,
    "start_time": "2023-08-31T09:20:27.428Z"
   },
   {
    "duration": 20,
    "start_time": "2023-08-31T09:20:27.479Z"
   },
   {
    "duration": 11,
    "start_time": "2023-08-31T09:20:27.504Z"
   },
   {
    "duration": 12,
    "start_time": "2023-08-31T09:20:27.517Z"
   },
   {
    "duration": 24,
    "start_time": "2023-08-31T09:20:27.531Z"
   },
   {
    "duration": 35,
    "start_time": "2023-08-31T09:20:27.556Z"
   },
   {
    "duration": 13,
    "start_time": "2023-08-31T09:20:27.593Z"
   },
   {
    "duration": 33,
    "start_time": "2023-08-31T09:20:27.608Z"
   },
   {
    "duration": 19,
    "start_time": "2023-08-31T09:20:27.643Z"
   },
   {
    "duration": 14,
    "start_time": "2023-08-31T09:20:27.664Z"
   },
   {
    "duration": 24,
    "start_time": "2023-08-31T09:20:27.680Z"
   },
   {
    "duration": 8,
    "start_time": "2023-08-31T09:20:27.706Z"
   },
   {
    "duration": 22,
    "start_time": "2023-08-31T09:20:27.716Z"
   },
   {
    "duration": 22,
    "start_time": "2023-08-31T09:20:27.740Z"
   },
   {
    "duration": 6,
    "start_time": "2023-08-31T09:20:27.764Z"
   },
   {
    "duration": 5,
    "start_time": "2023-08-31T09:20:27.772Z"
   },
   {
    "duration": 24,
    "start_time": "2023-08-31T09:20:27.779Z"
   },
   {
    "duration": 7,
    "start_time": "2023-08-31T09:20:27.805Z"
   },
   {
    "duration": 24,
    "start_time": "2023-08-31T09:20:27.813Z"
   },
   {
    "duration": 434,
    "start_time": "2023-08-31T09:20:27.838Z"
   },
   {
    "duration": 1187,
    "start_time": "2023-08-31T09:20:28.273Z"
   },
   {
    "duration": 4,
    "start_time": "2023-08-31T09:20:54.577Z"
   },
   {
    "duration": 46,
    "start_time": "2023-08-31T09:20:55.068Z"
   },
   {
    "duration": 1164,
    "start_time": "2023-08-31T09:20:56.021Z"
   },
   {
    "duration": 2845,
    "start_time": "2023-08-31T09:20:58.443Z"
   },
   {
    "duration": 7,
    "start_time": "2023-08-31T09:21:15.779Z"
   },
   {
    "duration": 71,
    "start_time": "2023-08-31T09:21:16.351Z"
   },
   {
    "duration": 2862,
    "start_time": "2023-08-31T09:21:17.425Z"
   },
   {
    "duration": 7658,
    "start_time": "2023-08-31T09:21:22.722Z"
   },
   {
    "duration": 4,
    "start_time": "2023-08-31T09:23:38.227Z"
   },
   {
    "duration": 11,
    "start_time": "2023-08-31T09:23:38.234Z"
   },
   {
    "duration": 47,
    "start_time": "2023-08-31T09:23:38.246Z"
   },
   {
    "duration": 11,
    "start_time": "2023-08-31T09:23:38.297Z"
   },
   {
    "duration": 51,
    "start_time": "2023-08-31T09:23:38.310Z"
   },
   {
    "duration": 18,
    "start_time": "2023-08-31T09:23:38.364Z"
   },
   {
    "duration": 40,
    "start_time": "2023-08-31T09:23:38.384Z"
   },
   {
    "duration": 1108,
    "start_time": "2023-08-31T09:23:38.426Z"
   },
   {
    "duration": 26,
    "start_time": "2023-08-31T09:23:39.537Z"
   },
   {
    "duration": 5,
    "start_time": "2023-08-31T09:23:39.567Z"
   },
   {
    "duration": 24,
    "start_time": "2023-08-31T09:23:39.574Z"
   },
   {
    "duration": 176,
    "start_time": "2023-08-31T09:23:39.599Z"
   },
   {
    "duration": 5,
    "start_time": "2023-08-31T09:23:39.777Z"
   },
   {
    "duration": 16,
    "start_time": "2023-08-31T09:23:39.784Z"
   },
   {
    "duration": 322,
    "start_time": "2023-08-31T09:23:39.802Z"
   },
   {
    "duration": 5,
    "start_time": "2023-08-31T09:23:40.126Z"
   },
   {
    "duration": 9,
    "start_time": "2023-08-31T09:23:40.149Z"
   },
   {
    "duration": 213,
    "start_time": "2023-08-31T09:23:40.159Z"
   },
   {
    "duration": 6,
    "start_time": "2023-08-31T09:23:40.375Z"
   },
   {
    "duration": 25,
    "start_time": "2023-08-31T09:23:40.383Z"
   },
   {
    "duration": 176,
    "start_time": "2023-08-31T09:23:40.411Z"
   },
   {
    "duration": 6,
    "start_time": "2023-08-31T09:23:40.589Z"
   },
   {
    "duration": 20,
    "start_time": "2023-08-31T09:23:40.597Z"
   },
   {
    "duration": 16,
    "start_time": "2023-08-31T09:23:40.620Z"
   },
   {
    "duration": 18,
    "start_time": "2023-08-31T09:23:40.638Z"
   },
   {
    "duration": 11,
    "start_time": "2023-08-31T09:23:40.658Z"
   },
   {
    "duration": 18,
    "start_time": "2023-08-31T09:23:40.671Z"
   },
   {
    "duration": 14,
    "start_time": "2023-08-31T09:23:40.691Z"
   },
   {
    "duration": 44,
    "start_time": "2023-08-31T09:23:40.707Z"
   },
   {
    "duration": 24,
    "start_time": "2023-08-31T09:23:40.753Z"
   },
   {
    "duration": 33,
    "start_time": "2023-08-31T09:23:40.779Z"
   },
   {
    "duration": 11,
    "start_time": "2023-08-31T09:23:40.814Z"
   },
   {
    "duration": 12,
    "start_time": "2023-08-31T09:23:40.827Z"
   },
   {
    "duration": 17,
    "start_time": "2023-08-31T09:23:40.841Z"
   },
   {
    "duration": 9,
    "start_time": "2023-08-31T09:23:40.860Z"
   },
   {
    "duration": 15,
    "start_time": "2023-08-31T09:23:40.871Z"
   },
   {
    "duration": 18,
    "start_time": "2023-08-31T09:23:40.888Z"
   },
   {
    "duration": 12,
    "start_time": "2023-08-31T09:23:40.908Z"
   },
   {
    "duration": 6,
    "start_time": "2023-08-31T09:23:40.922Z"
   },
   {
    "duration": 9,
    "start_time": "2023-08-31T09:23:40.930Z"
   },
   {
    "duration": 13,
    "start_time": "2023-08-31T09:23:40.941Z"
   },
   {
    "duration": 14,
    "start_time": "2023-08-31T09:23:40.957Z"
   },
   {
    "duration": 15,
    "start_time": "2023-08-31T09:23:40.974Z"
   },
   {
    "duration": 31,
    "start_time": "2023-08-31T09:23:40.991Z"
   },
   {
    "duration": 157,
    "start_time": "2023-08-31T09:23:41.024Z"
   },
   {
    "duration": 6466,
    "start_time": "2023-08-31T09:23:41.183Z"
   },
   {
    "duration": 13726,
    "start_time": "2023-08-31T09:23:47.652Z"
   },
   {
    "duration": 5,
    "start_time": "2023-08-31T09:27:15.469Z"
   },
   {
    "duration": 28,
    "start_time": "2023-08-31T09:27:15.477Z"
   },
   {
    "duration": 37,
    "start_time": "2023-08-31T09:27:15.508Z"
   },
   {
    "duration": 26,
    "start_time": "2023-08-31T09:27:15.547Z"
   },
   {
    "duration": 35,
    "start_time": "2023-08-31T09:27:15.576Z"
   },
   {
    "duration": 11,
    "start_time": "2023-08-31T09:27:15.614Z"
   },
   {
    "duration": 13,
    "start_time": "2023-08-31T09:27:15.627Z"
   },
   {
    "duration": 1075,
    "start_time": "2023-08-31T09:27:15.642Z"
   },
   {
    "duration": 7,
    "start_time": "2023-08-31T09:27:16.719Z"
   },
   {
    "duration": 25,
    "start_time": "2023-08-31T09:27:16.727Z"
   },
   {
    "duration": 11,
    "start_time": "2023-08-31T09:27:16.755Z"
   },
   {
    "duration": 192,
    "start_time": "2023-08-31T09:27:16.768Z"
   },
   {
    "duration": 5,
    "start_time": "2023-08-31T09:27:16.965Z"
   },
   {
    "duration": 13,
    "start_time": "2023-08-31T09:27:16.972Z"
   },
   {
    "duration": 182,
    "start_time": "2023-08-31T09:27:16.986Z"
   },
   {
    "duration": 5,
    "start_time": "2023-08-31T09:27:17.170Z"
   },
   {
    "duration": 14,
    "start_time": "2023-08-31T09:27:17.177Z"
   },
   {
    "duration": 196,
    "start_time": "2023-08-31T09:27:17.193Z"
   },
   {
    "duration": 5,
    "start_time": "2023-08-31T09:27:17.391Z"
   },
   {
    "duration": 10,
    "start_time": "2023-08-31T09:27:17.398Z"
   },
   {
    "duration": 192,
    "start_time": "2023-08-31T09:27:17.410Z"
   },
   {
    "duration": 5,
    "start_time": "2023-08-31T09:27:17.604Z"
   },
   {
    "duration": 10,
    "start_time": "2023-08-31T09:27:17.611Z"
   },
   {
    "duration": 32,
    "start_time": "2023-08-31T09:27:17.623Z"
   },
   {
    "duration": 14,
    "start_time": "2023-08-31T09:27:17.657Z"
   },
   {
    "duration": 7,
    "start_time": "2023-08-31T09:27:17.673Z"
   },
   {
    "duration": 12,
    "start_time": "2023-08-31T09:27:17.681Z"
   },
   {
    "duration": 6,
    "start_time": "2023-08-31T09:27:17.695Z"
   },
   {
    "duration": 11,
    "start_time": "2023-08-31T09:27:17.706Z"
   },
   {
    "duration": 8,
    "start_time": "2023-08-31T09:27:17.720Z"
   },
   {
    "duration": 36,
    "start_time": "2023-08-31T09:27:17.730Z"
   },
   {
    "duration": 5,
    "start_time": "2023-08-31T09:27:17.767Z"
   },
   {
    "duration": 9,
    "start_time": "2023-08-31T09:27:17.773Z"
   },
   {
    "duration": 10,
    "start_time": "2023-08-31T09:27:17.783Z"
   },
   {
    "duration": 9,
    "start_time": "2023-08-31T09:27:17.795Z"
   },
   {
    "duration": 13,
    "start_time": "2023-08-31T09:27:17.807Z"
   },
   {
    "duration": 27,
    "start_time": "2023-08-31T09:27:17.822Z"
   },
   {
    "duration": 9,
    "start_time": "2023-08-31T09:27:17.853Z"
   },
   {
    "duration": 17,
    "start_time": "2023-08-31T09:27:17.865Z"
   },
   {
    "duration": 4,
    "start_time": "2023-08-31T09:27:17.884Z"
   },
   {
    "duration": 13,
    "start_time": "2023-08-31T09:27:17.891Z"
   },
   {
    "duration": 18,
    "start_time": "2023-08-31T09:27:17.906Z"
   },
   {
    "duration": 18,
    "start_time": "2023-08-31T09:27:17.927Z"
   },
   {
    "duration": 15,
    "start_time": "2023-08-31T09:27:17.949Z"
   },
   {
    "duration": 137,
    "start_time": "2023-08-31T09:27:17.966Z"
   },
   {
    "duration": 5555,
    "start_time": "2023-08-31T09:27:18.107Z"
   },
   {
    "duration": 14414,
    "start_time": "2023-08-31T09:27:23.665Z"
   },
   {
    "duration": 4,
    "start_time": "2023-08-31T09:30:51.083Z"
   },
   {
    "duration": 6,
    "start_time": "2023-08-31T09:31:20.664Z"
   },
   {
    "duration": 38,
    "start_time": "2023-08-31T09:31:20.673Z"
   },
   {
    "duration": 70,
    "start_time": "2023-08-31T09:31:20.713Z"
   },
   {
    "duration": 10,
    "start_time": "2023-08-31T09:31:20.785Z"
   },
   {
    "duration": 34,
    "start_time": "2023-08-31T09:31:20.797Z"
   },
   {
    "duration": 36,
    "start_time": "2023-08-31T09:31:20.832Z"
   },
   {
    "duration": 13,
    "start_time": "2023-08-31T09:31:20.870Z"
   },
   {
    "duration": 1312,
    "start_time": "2023-08-31T09:31:20.885Z"
   },
   {
    "duration": 6,
    "start_time": "2023-08-31T09:31:22.199Z"
   },
   {
    "duration": 11,
    "start_time": "2023-08-31T09:31:22.206Z"
   },
   {
    "duration": 23,
    "start_time": "2023-08-31T09:31:22.218Z"
   },
   {
    "duration": 187,
    "start_time": "2023-08-31T09:31:22.246Z"
   },
   {
    "duration": 5,
    "start_time": "2023-08-31T09:31:22.435Z"
   },
   {
    "duration": 21,
    "start_time": "2023-08-31T09:31:22.442Z"
   },
   {
    "duration": 184,
    "start_time": "2023-08-31T09:31:22.465Z"
   },
   {
    "duration": 9,
    "start_time": "2023-08-31T09:31:22.651Z"
   },
   {
    "duration": 32,
    "start_time": "2023-08-31T09:31:22.662Z"
   },
   {
    "duration": 196,
    "start_time": "2023-08-31T09:31:22.696Z"
   },
   {
    "duration": 5,
    "start_time": "2023-08-31T09:31:22.894Z"
   },
   {
    "duration": 10,
    "start_time": "2023-08-31T09:31:22.900Z"
   },
   {
    "duration": 189,
    "start_time": "2023-08-31T09:31:22.911Z"
   },
   {
    "duration": 5,
    "start_time": "2023-08-31T09:31:23.102Z"
   },
   {
    "duration": 15,
    "start_time": "2023-08-31T09:31:23.108Z"
   },
   {
    "duration": 12,
    "start_time": "2023-08-31T09:31:23.126Z"
   },
   {
    "duration": 28,
    "start_time": "2023-08-31T09:31:23.139Z"
   },
   {
    "duration": 12,
    "start_time": "2023-08-31T09:31:23.169Z"
   },
   {
    "duration": 27,
    "start_time": "2023-08-31T09:31:23.182Z"
   },
   {
    "duration": 8,
    "start_time": "2023-08-31T09:31:23.211Z"
   },
   {
    "duration": 15,
    "start_time": "2023-08-31T09:31:23.221Z"
   },
   {
    "duration": 5,
    "start_time": "2023-08-31T09:31:23.238Z"
   },
   {
    "duration": 38,
    "start_time": "2023-08-31T09:31:23.244Z"
   },
   {
    "duration": 5,
    "start_time": "2023-08-31T09:31:23.285Z"
   },
   {
    "duration": 11,
    "start_time": "2023-08-31T09:31:23.292Z"
   },
   {
    "duration": 20,
    "start_time": "2023-08-31T09:31:23.305Z"
   },
   {
    "duration": 7,
    "start_time": "2023-08-31T09:31:23.327Z"
   },
   {
    "duration": 11,
    "start_time": "2023-08-31T09:31:23.335Z"
   },
   {
    "duration": 10,
    "start_time": "2023-08-31T09:31:23.354Z"
   },
   {
    "duration": 8,
    "start_time": "2023-08-31T09:31:23.366Z"
   },
   {
    "duration": 8,
    "start_time": "2023-08-31T09:31:23.376Z"
   },
   {
    "duration": 5,
    "start_time": "2023-08-31T09:31:23.385Z"
   },
   {
    "duration": 18,
    "start_time": "2023-08-31T09:31:23.391Z"
   },
   {
    "duration": 19,
    "start_time": "2023-08-31T09:31:23.411Z"
   },
   {
    "duration": 7,
    "start_time": "2023-08-31T09:31:23.432Z"
   },
   {
    "duration": 5,
    "start_time": "2023-08-31T09:31:23.440Z"
   },
   {
    "duration": 13,
    "start_time": "2023-08-31T09:31:23.447Z"
   },
   {
    "duration": 127,
    "start_time": "2023-08-31T09:31:23.461Z"
   },
   {
    "duration": 114,
    "start_time": "2023-08-31T09:31:23.590Z"
   },
   {
    "duration": 129,
    "start_time": "2023-08-31T09:31:23.705Z"
   },
   {
    "duration": 4,
    "start_time": "2023-08-31T09:32:12.259Z"
   },
   {
    "duration": 7,
    "start_time": "2023-08-31T09:32:12.266Z"
   },
   {
    "duration": 30,
    "start_time": "2023-08-31T09:32:12.275Z"
   },
   {
    "duration": 10,
    "start_time": "2023-08-31T09:32:12.307Z"
   },
   {
    "duration": 15,
    "start_time": "2023-08-31T09:32:12.320Z"
   },
   {
    "duration": 27,
    "start_time": "2023-08-31T09:32:12.336Z"
   },
   {
    "duration": 64,
    "start_time": "2023-08-31T09:32:12.365Z"
   },
   {
    "duration": 1082,
    "start_time": "2023-08-31T09:32:12.431Z"
   },
   {
    "duration": 6,
    "start_time": "2023-08-31T09:32:13.515Z"
   },
   {
    "duration": 16,
    "start_time": "2023-08-31T09:32:13.523Z"
   },
   {
    "duration": 26,
    "start_time": "2023-08-31T09:32:13.541Z"
   },
   {
    "duration": 191,
    "start_time": "2023-08-31T09:32:13.569Z"
   },
   {
    "duration": 6,
    "start_time": "2023-08-31T09:32:13.762Z"
   },
   {
    "duration": 16,
    "start_time": "2023-08-31T09:32:13.770Z"
   },
   {
    "duration": 176,
    "start_time": "2023-08-31T09:32:13.788Z"
   },
   {
    "duration": 5,
    "start_time": "2023-08-31T09:32:13.966Z"
   },
   {
    "duration": 22,
    "start_time": "2023-08-31T09:32:13.973Z"
   },
   {
    "duration": 210,
    "start_time": "2023-08-31T09:32:13.998Z"
   },
   {
    "duration": 5,
    "start_time": "2023-08-31T09:32:14.210Z"
   },
   {
    "duration": 26,
    "start_time": "2023-08-31T09:32:14.216Z"
   },
   {
    "duration": 173,
    "start_time": "2023-08-31T09:32:14.244Z"
   },
   {
    "duration": 5,
    "start_time": "2023-08-31T09:32:14.419Z"
   },
   {
    "duration": 33,
    "start_time": "2023-08-31T09:32:14.425Z"
   },
   {
    "duration": 11,
    "start_time": "2023-08-31T09:32:14.460Z"
   },
   {
    "duration": 10,
    "start_time": "2023-08-31T09:32:14.473Z"
   },
   {
    "duration": 7,
    "start_time": "2023-08-31T09:32:14.485Z"
   },
   {
    "duration": 9,
    "start_time": "2023-08-31T09:32:14.493Z"
   },
   {
    "duration": 10,
    "start_time": "2023-08-31T09:32:14.503Z"
   },
   {
    "duration": 17,
    "start_time": "2023-08-31T09:32:14.514Z"
   },
   {
    "duration": 33,
    "start_time": "2023-08-31T09:32:14.533Z"
   },
   {
    "duration": 30,
    "start_time": "2023-08-31T09:32:14.567Z"
   },
   {
    "duration": 7,
    "start_time": "2023-08-31T09:32:14.599Z"
   },
   {
    "duration": 14,
    "start_time": "2023-08-31T09:32:14.608Z"
   },
   {
    "duration": 17,
    "start_time": "2023-08-31T09:32:14.624Z"
   },
   {
    "duration": 10,
    "start_time": "2023-08-31T09:32:14.642Z"
   },
   {
    "duration": 11,
    "start_time": "2023-08-31T09:32:14.657Z"
   },
   {
    "duration": 11,
    "start_time": "2023-08-31T09:32:14.670Z"
   },
   {
    "duration": 12,
    "start_time": "2023-08-31T09:32:14.682Z"
   },
   {
    "duration": 15,
    "start_time": "2023-08-31T09:32:14.696Z"
   },
   {
    "duration": 4,
    "start_time": "2023-08-31T09:32:14.713Z"
   },
   {
    "duration": 5,
    "start_time": "2023-08-31T09:32:14.721Z"
   },
   {
    "duration": 33,
    "start_time": "2023-08-31T09:32:14.727Z"
   },
   {
    "duration": 20,
    "start_time": "2023-08-31T09:32:14.762Z"
   },
   {
    "duration": 7,
    "start_time": "2023-08-31T09:32:14.784Z"
   },
   {
    "duration": 10,
    "start_time": "2023-08-31T09:32:14.793Z"
   },
   {
    "duration": 205,
    "start_time": "2023-08-31T09:32:14.805Z"
   },
   {
    "duration": 219,
    "start_time": "2023-08-31T09:32:15.012Z"
   },
   {
    "duration": 255,
    "start_time": "2023-08-31T09:32:15.235Z"
   },
   {
    "duration": 4,
    "start_time": "2023-08-31T09:32:46.001Z"
   },
   {
    "duration": 11,
    "start_time": "2023-08-31T09:32:46.007Z"
   },
   {
    "duration": 31,
    "start_time": "2023-08-31T09:32:46.020Z"
   },
   {
    "duration": 15,
    "start_time": "2023-08-31T09:32:46.054Z"
   },
   {
    "duration": 16,
    "start_time": "2023-08-31T09:32:46.070Z"
   },
   {
    "duration": 26,
    "start_time": "2023-08-31T09:32:46.088Z"
   },
   {
    "duration": 32,
    "start_time": "2023-08-31T09:32:46.116Z"
   },
   {
    "duration": 1228,
    "start_time": "2023-08-31T09:32:46.152Z"
   },
   {
    "duration": 5,
    "start_time": "2023-08-31T09:32:47.383Z"
   },
   {
    "duration": 61,
    "start_time": "2023-08-31T09:32:47.389Z"
   },
   {
    "duration": 13,
    "start_time": "2023-08-31T09:32:47.453Z"
   },
   {
    "duration": 173,
    "start_time": "2023-08-31T09:32:47.468Z"
   },
   {
    "duration": 8,
    "start_time": "2023-08-31T09:32:47.642Z"
   },
   {
    "duration": 16,
    "start_time": "2023-08-31T09:32:47.654Z"
   },
   {
    "duration": 171,
    "start_time": "2023-08-31T09:32:47.672Z"
   },
   {
    "duration": 6,
    "start_time": "2023-08-31T09:32:47.847Z"
   },
   {
    "duration": 18,
    "start_time": "2023-08-31T09:32:47.855Z"
   },
   {
    "duration": 216,
    "start_time": "2023-08-31T09:32:47.875Z"
   },
   {
    "duration": 6,
    "start_time": "2023-08-31T09:32:48.094Z"
   },
   {
    "duration": 14,
    "start_time": "2023-08-31T09:32:48.102Z"
   },
   {
    "duration": 186,
    "start_time": "2023-08-31T09:32:48.118Z"
   },
   {
    "duration": 5,
    "start_time": "2023-08-31T09:32:48.306Z"
   },
   {
    "duration": 8,
    "start_time": "2023-08-31T09:32:48.313Z"
   },
   {
    "duration": 27,
    "start_time": "2023-08-31T09:32:48.324Z"
   },
   {
    "duration": 5,
    "start_time": "2023-08-31T09:32:48.353Z"
   },
   {
    "duration": 13,
    "start_time": "2023-08-31T09:32:48.362Z"
   },
   {
    "duration": 5,
    "start_time": "2023-08-31T09:32:48.378Z"
   },
   {
    "duration": 10,
    "start_time": "2023-08-31T09:32:48.385Z"
   },
   {
    "duration": 12,
    "start_time": "2023-08-31T09:32:48.397Z"
   },
   {
    "duration": 11,
    "start_time": "2023-08-31T09:32:48.410Z"
   },
   {
    "duration": 58,
    "start_time": "2023-08-31T09:32:48.422Z"
   },
   {
    "duration": 22,
    "start_time": "2023-08-31T09:32:48.481Z"
   },
   {
    "duration": 6,
    "start_time": "2023-08-31T09:32:48.505Z"
   },
   {
    "duration": 13,
    "start_time": "2023-08-31T09:32:48.513Z"
   },
   {
    "duration": 36,
    "start_time": "2023-08-31T09:32:48.528Z"
   },
   {
    "duration": 17,
    "start_time": "2023-08-31T09:32:48.566Z"
   },
   {
    "duration": 23,
    "start_time": "2023-08-31T09:32:48.585Z"
   },
   {
    "duration": 23,
    "start_time": "2023-08-31T09:32:48.610Z"
   },
   {
    "duration": 5,
    "start_time": "2023-08-31T09:32:48.636Z"
   },
   {
    "duration": 6,
    "start_time": "2023-08-31T09:32:48.642Z"
   },
   {
    "duration": 19,
    "start_time": "2023-08-31T09:32:48.649Z"
   },
   {
    "duration": 11,
    "start_time": "2023-08-31T09:32:48.670Z"
   },
   {
    "duration": 19,
    "start_time": "2023-08-31T09:32:48.683Z"
   },
   {
    "duration": 11,
    "start_time": "2023-08-31T09:32:48.704Z"
   },
   {
    "duration": 16,
    "start_time": "2023-08-31T09:32:48.717Z"
   },
   {
    "duration": 130,
    "start_time": "2023-08-31T09:32:48.735Z"
   },
   {
    "duration": 105,
    "start_time": "2023-08-31T09:32:48.867Z"
   },
   {
    "duration": 105,
    "start_time": "2023-08-31T09:32:48.974Z"
   },
   {
    "duration": 4,
    "start_time": "2023-08-31T09:33:14.012Z"
   },
   {
    "duration": 9,
    "start_time": "2023-08-31T09:33:14.018Z"
   },
   {
    "duration": 43,
    "start_time": "2023-08-31T09:33:14.028Z"
   },
   {
    "duration": 11,
    "start_time": "2023-08-31T09:33:14.073Z"
   },
   {
    "duration": 19,
    "start_time": "2023-08-31T09:33:14.085Z"
   },
   {
    "duration": 23,
    "start_time": "2023-08-31T09:33:14.107Z"
   },
   {
    "duration": 29,
    "start_time": "2023-08-31T09:33:14.133Z"
   },
   {
    "duration": 1053,
    "start_time": "2023-08-31T09:33:14.164Z"
   },
   {
    "duration": 6,
    "start_time": "2023-08-31T09:33:15.220Z"
   },
   {
    "duration": 247,
    "start_time": "2023-08-31T09:33:15.227Z"
   },
   {
    "duration": 10,
    "start_time": "2023-08-31T09:33:15.476Z"
   },
   {
    "duration": 179,
    "start_time": "2023-08-31T09:33:15.489Z"
   },
   {
    "duration": 5,
    "start_time": "2023-08-31T09:33:15.670Z"
   },
   {
    "duration": 10,
    "start_time": "2023-08-31T09:33:15.677Z"
   },
   {
    "duration": 184,
    "start_time": "2023-08-31T09:33:15.689Z"
   },
   {
    "duration": 5,
    "start_time": "2023-08-31T09:33:15.874Z"
   },
   {
    "duration": 9,
    "start_time": "2023-08-31T09:33:15.881Z"
   },
   {
    "duration": 201,
    "start_time": "2023-08-31T09:33:15.892Z"
   },
   {
    "duration": 5,
    "start_time": "2023-08-31T09:33:16.094Z"
   },
   {
    "duration": 16,
    "start_time": "2023-08-31T09:33:16.101Z"
   },
   {
    "duration": 172,
    "start_time": "2023-08-31T09:33:16.118Z"
   },
   {
    "duration": 4,
    "start_time": "2023-08-31T09:33:16.292Z"
   },
   {
    "duration": 27,
    "start_time": "2023-08-31T09:33:16.298Z"
   },
   {
    "duration": 8,
    "start_time": "2023-08-31T09:33:16.328Z"
   },
   {
    "duration": 25,
    "start_time": "2023-08-31T09:33:16.337Z"
   },
   {
    "duration": 22,
    "start_time": "2023-08-31T09:33:16.364Z"
   },
   {
    "duration": 13,
    "start_time": "2023-08-31T09:33:16.388Z"
   },
   {
    "duration": 25,
    "start_time": "2023-08-31T09:33:16.403Z"
   },
   {
    "duration": 37,
    "start_time": "2023-08-31T09:33:16.430Z"
   },
   {
    "duration": 30,
    "start_time": "2023-08-31T09:33:16.469Z"
   },
   {
    "duration": 42,
    "start_time": "2023-08-31T09:33:16.501Z"
   },
   {
    "duration": 23,
    "start_time": "2023-08-31T09:33:16.545Z"
   },
   {
    "duration": 11,
    "start_time": "2023-08-31T09:33:16.570Z"
   },
   {
    "duration": 23,
    "start_time": "2023-08-31T09:33:16.583Z"
   },
   {
    "duration": 17,
    "start_time": "2023-08-31T09:33:16.608Z"
   },
   {
    "duration": 36,
    "start_time": "2023-08-31T09:33:16.627Z"
   },
   {
    "duration": 18,
    "start_time": "2023-08-31T09:33:16.666Z"
   },
   {
    "duration": 18,
    "start_time": "2023-08-31T09:33:16.686Z"
   },
   {
    "duration": 13,
    "start_time": "2023-08-31T09:33:16.707Z"
   },
   {
    "duration": 20,
    "start_time": "2023-08-31T09:33:16.722Z"
   },
   {
    "duration": 13,
    "start_time": "2023-08-31T09:33:16.744Z"
   },
   {
    "duration": 14,
    "start_time": "2023-08-31T09:33:16.759Z"
   },
   {
    "duration": 18,
    "start_time": "2023-08-31T09:33:16.775Z"
   },
   {
    "duration": 19,
    "start_time": "2023-08-31T09:33:16.795Z"
   },
   {
    "duration": 9,
    "start_time": "2023-08-31T09:33:16.816Z"
   },
   {
    "duration": 2110,
    "start_time": "2023-08-31T09:33:16.827Z"
   },
   {
    "duration": 3382,
    "start_time": "2023-08-31T09:33:18.939Z"
   },
   {
    "duration": 11129,
    "start_time": "2023-08-31T09:33:22.324Z"
   },
   {
    "duration": 6,
    "start_time": "2023-08-31T09:34:03.643Z"
   },
   {
    "duration": 65,
    "start_time": "2023-08-31T09:34:03.652Z"
   },
   {
    "duration": 64,
    "start_time": "2023-08-31T09:34:03.719Z"
   },
   {
    "duration": 40,
    "start_time": "2023-08-31T09:34:03.785Z"
   },
   {
    "duration": 34,
    "start_time": "2023-08-31T09:34:03.828Z"
   },
   {
    "duration": 15,
    "start_time": "2023-08-31T09:34:03.864Z"
   },
   {
    "duration": 33,
    "start_time": "2023-08-31T09:34:03.880Z"
   },
   {
    "duration": 1008,
    "start_time": "2023-08-31T09:34:03.915Z"
   },
   {
    "duration": 6,
    "start_time": "2023-08-31T09:34:04.925Z"
   },
   {
    "duration": 24,
    "start_time": "2023-08-31T09:34:04.932Z"
   },
   {
    "duration": 10,
    "start_time": "2023-08-31T09:34:04.959Z"
   },
   {
    "duration": 196,
    "start_time": "2023-08-31T09:34:04.970Z"
   },
   {
    "duration": 6,
    "start_time": "2023-08-31T09:34:05.169Z"
   },
   {
    "duration": 22,
    "start_time": "2023-08-31T09:34:05.177Z"
   },
   {
    "duration": 432,
    "start_time": "2023-08-31T09:34:05.201Z"
   },
   {
    "duration": 25,
    "start_time": "2023-08-31T09:34:05.635Z"
   },
   {
    "duration": 8,
    "start_time": "2023-08-31T09:34:05.662Z"
   },
   {
    "duration": 189,
    "start_time": "2023-08-31T09:34:05.671Z"
   },
   {
    "duration": 5,
    "start_time": "2023-08-31T09:34:05.862Z"
   },
   {
    "duration": 12,
    "start_time": "2023-08-31T09:34:05.868Z"
   },
   {
    "duration": 180,
    "start_time": "2023-08-31T09:34:05.882Z"
   },
   {
    "duration": 5,
    "start_time": "2023-08-31T09:34:06.064Z"
   },
   {
    "duration": 14,
    "start_time": "2023-08-31T09:34:06.070Z"
   },
   {
    "duration": 7,
    "start_time": "2023-08-31T09:34:06.086Z"
   },
   {
    "duration": 10,
    "start_time": "2023-08-31T09:34:06.095Z"
   },
   {
    "duration": 6,
    "start_time": "2023-08-31T09:34:06.108Z"
   },
   {
    "duration": 12,
    "start_time": "2023-08-31T09:34:06.116Z"
   },
   {
    "duration": 34,
    "start_time": "2023-08-31T09:34:06.130Z"
   },
   {
    "duration": 13,
    "start_time": "2023-08-31T09:34:06.168Z"
   },
   {
    "duration": 11,
    "start_time": "2023-08-31T09:34:06.182Z"
   },
   {
    "duration": 22,
    "start_time": "2023-08-31T09:34:06.194Z"
   },
   {
    "duration": 5,
    "start_time": "2023-08-31T09:34:06.218Z"
   },
   {
    "duration": 12,
    "start_time": "2023-08-31T09:34:06.225Z"
   },
   {
    "duration": 24,
    "start_time": "2023-08-31T09:34:06.239Z"
   },
   {
    "duration": 15,
    "start_time": "2023-08-31T09:34:06.265Z"
   },
   {
    "duration": 26,
    "start_time": "2023-08-31T09:34:06.282Z"
   },
   {
    "duration": 16,
    "start_time": "2023-08-31T09:34:06.310Z"
   },
   {
    "duration": 11,
    "start_time": "2023-08-31T09:34:06.328Z"
   },
   {
    "duration": 17,
    "start_time": "2023-08-31T09:34:06.340Z"
   },
   {
    "duration": 9,
    "start_time": "2023-08-31T09:34:06.359Z"
   },
   {
    "duration": 16,
    "start_time": "2023-08-31T09:34:06.369Z"
   },
   {
    "duration": 9,
    "start_time": "2023-08-31T09:34:06.387Z"
   },
   {
    "duration": 10,
    "start_time": "2023-08-31T09:34:06.397Z"
   },
   {
    "duration": 32,
    "start_time": "2023-08-31T09:34:06.409Z"
   },
   {
    "duration": 18,
    "start_time": "2023-08-31T09:34:06.443Z"
   },
   {
    "duration": 4203,
    "start_time": "2023-08-31T09:34:06.463Z"
   },
   {
    "duration": 6734,
    "start_time": "2023-08-31T09:34:10.667Z"
   },
   {
    "duration": 35858,
    "start_time": "2023-08-31T09:34:17.403Z"
   },
   {
    "duration": 7,
    "start_time": "2023-08-31T09:35:34.975Z"
   },
   {
    "duration": 6,
    "start_time": "2023-08-31T09:35:34.984Z"
   },
   {
    "duration": 29,
    "start_time": "2023-08-31T09:35:34.992Z"
   },
   {
    "duration": 14,
    "start_time": "2023-08-31T09:35:35.024Z"
   },
   {
    "duration": 21,
    "start_time": "2023-08-31T09:35:35.040Z"
   },
   {
    "duration": 15,
    "start_time": "2023-08-31T09:35:35.062Z"
   },
   {
    "duration": 19,
    "start_time": "2023-08-31T09:35:35.079Z"
   },
   {
    "duration": 1136,
    "start_time": "2023-08-31T09:35:35.100Z"
   },
   {
    "duration": 15,
    "start_time": "2023-08-31T09:35:36.253Z"
   },
   {
    "duration": 85,
    "start_time": "2023-08-31T09:35:36.270Z"
   },
   {
    "duration": 63,
    "start_time": "2023-08-31T09:35:36.357Z"
   },
   {
    "duration": 179,
    "start_time": "2023-08-31T09:35:36.421Z"
   },
   {
    "duration": 6,
    "start_time": "2023-08-31T09:35:36.601Z"
   },
   {
    "duration": 22,
    "start_time": "2023-08-31T09:35:36.609Z"
   },
   {
    "duration": 226,
    "start_time": "2023-08-31T09:35:36.634Z"
   },
   {
    "duration": 6,
    "start_time": "2023-08-31T09:35:36.865Z"
   },
   {
    "duration": 11,
    "start_time": "2023-08-31T09:35:36.873Z"
   },
   {
    "duration": 217,
    "start_time": "2023-08-31T09:35:36.886Z"
   },
   {
    "duration": 6,
    "start_time": "2023-08-31T09:35:37.105Z"
   },
   {
    "duration": 10,
    "start_time": "2023-08-31T09:35:37.113Z"
   },
   {
    "duration": 195,
    "start_time": "2023-08-31T09:35:37.125Z"
   },
   {
    "duration": 5,
    "start_time": "2023-08-31T09:35:37.322Z"
   },
   {
    "duration": 19,
    "start_time": "2023-08-31T09:35:37.328Z"
   },
   {
    "duration": 6,
    "start_time": "2023-08-31T09:35:37.359Z"
   },
   {
    "duration": 122,
    "start_time": "2023-08-31T09:35:37.367Z"
   },
   {
    "duration": 14,
    "start_time": "2023-08-31T09:35:37.491Z"
   },
   {
    "duration": 19,
    "start_time": "2023-08-31T09:35:37.507Z"
   },
   {
    "duration": 35,
    "start_time": "2023-08-31T09:35:37.528Z"
   },
   {
    "duration": 28,
    "start_time": "2023-08-31T09:35:37.566Z"
   },
   {
    "duration": 11,
    "start_time": "2023-08-31T09:35:37.595Z"
   },
   {
    "duration": 21,
    "start_time": "2023-08-31T09:35:37.608Z"
   },
   {
    "duration": 8,
    "start_time": "2023-08-31T09:35:37.631Z"
   },
   {
    "duration": 10,
    "start_time": "2023-08-31T09:35:37.641Z"
   },
   {
    "duration": 4,
    "start_time": "2023-08-31T09:35:37.665Z"
   },
   {
    "duration": 7,
    "start_time": "2023-08-31T09:35:37.671Z"
   },
   {
    "duration": 10,
    "start_time": "2023-08-31T09:35:37.680Z"
   },
   {
    "duration": 20,
    "start_time": "2023-08-31T09:35:37.693Z"
   },
   {
    "duration": 8,
    "start_time": "2023-08-31T09:35:37.715Z"
   },
   {
    "duration": 5,
    "start_time": "2023-08-31T09:35:37.725Z"
   },
   {
    "duration": 4,
    "start_time": "2023-08-31T09:35:37.732Z"
   },
   {
    "duration": 20,
    "start_time": "2023-08-31T09:35:37.738Z"
   },
   {
    "duration": 4,
    "start_time": "2023-08-31T09:35:37.765Z"
   },
   {
    "duration": 4,
    "start_time": "2023-08-31T09:35:37.771Z"
   },
   {
    "duration": 6,
    "start_time": "2023-08-31T09:35:37.777Z"
   },
   {
    "duration": 9,
    "start_time": "2023-08-31T09:35:37.785Z"
   },
   {
    "duration": 6567,
    "start_time": "2023-08-31T09:35:37.795Z"
   },
   {
    "duration": 27215,
    "start_time": "2023-08-31T09:35:44.363Z"
   },
   {
    "duration": 118495,
    "start_time": "2023-08-31T09:36:11.579Z"
   },
   {
    "duration": 4,
    "start_time": "2023-08-31T09:40:16.910Z"
   },
   {
    "duration": 9,
    "start_time": "2023-08-31T09:40:16.916Z"
   },
   {
    "duration": 38,
    "start_time": "2023-08-31T09:40:16.927Z"
   },
   {
    "duration": 12,
    "start_time": "2023-08-31T09:40:16.967Z"
   },
   {
    "duration": 18,
    "start_time": "2023-08-31T09:40:16.980Z"
   },
   {
    "duration": 9,
    "start_time": "2023-08-31T09:40:17.000Z"
   },
   {
    "duration": 8,
    "start_time": "2023-08-31T09:40:17.011Z"
   },
   {
    "duration": 994,
    "start_time": "2023-08-31T09:40:17.021Z"
   },
   {
    "duration": 7,
    "start_time": "2023-08-31T09:40:18.019Z"
   },
   {
    "duration": 22,
    "start_time": "2023-08-31T09:40:18.028Z"
   },
   {
    "duration": 13,
    "start_time": "2023-08-31T09:40:18.053Z"
   },
   {
    "duration": 181,
    "start_time": "2023-08-31T09:40:18.068Z"
   },
   {
    "duration": 4,
    "start_time": "2023-08-31T09:40:18.251Z"
   },
   {
    "duration": 13,
    "start_time": "2023-08-31T09:40:18.257Z"
   },
   {
    "duration": 185,
    "start_time": "2023-08-31T09:40:18.272Z"
   },
   {
    "duration": 6,
    "start_time": "2023-08-31T09:40:18.458Z"
   },
   {
    "duration": 20,
    "start_time": "2023-08-31T09:40:18.466Z"
   },
   {
    "duration": 207,
    "start_time": "2023-08-31T09:40:18.488Z"
   },
   {
    "duration": 6,
    "start_time": "2023-08-31T09:40:18.699Z"
   },
   {
    "duration": 13,
    "start_time": "2023-08-31T09:40:18.707Z"
   },
   {
    "duration": 209,
    "start_time": "2023-08-31T09:40:18.722Z"
   },
   {
    "duration": 15,
    "start_time": "2023-08-31T09:40:18.933Z"
   },
   {
    "duration": 7,
    "start_time": "2023-08-31T09:40:18.950Z"
   },
   {
    "duration": 24,
    "start_time": "2023-08-31T09:40:18.960Z"
   },
   {
    "duration": 11,
    "start_time": "2023-08-31T09:40:18.986Z"
   },
   {
    "duration": 11,
    "start_time": "2023-08-31T09:40:18.999Z"
   },
   {
    "duration": 27,
    "start_time": "2023-08-31T09:40:19.012Z"
   },
   {
    "duration": 8,
    "start_time": "2023-08-31T09:40:19.041Z"
   },
   {
    "duration": 14,
    "start_time": "2023-08-31T09:40:19.051Z"
   },
   {
    "duration": 7,
    "start_time": "2023-08-31T09:40:19.067Z"
   },
   {
    "duration": 30,
    "start_time": "2023-08-31T09:40:19.076Z"
   },
   {
    "duration": 9,
    "start_time": "2023-08-31T09:40:19.108Z"
   },
   {
    "duration": 32,
    "start_time": "2023-08-31T09:40:19.119Z"
   },
   {
    "duration": 20,
    "start_time": "2023-08-31T09:40:19.153Z"
   },
   {
    "duration": 21,
    "start_time": "2023-08-31T09:40:19.175Z"
   },
   {
    "duration": 22,
    "start_time": "2023-08-31T09:40:19.199Z"
   },
   {
    "duration": 13,
    "start_time": "2023-08-31T09:40:19.223Z"
   },
   {
    "duration": 13,
    "start_time": "2023-08-31T09:40:19.238Z"
   },
   {
    "duration": 6,
    "start_time": "2023-08-31T09:40:19.253Z"
   },
   {
    "duration": 16,
    "start_time": "2023-08-31T09:40:19.261Z"
   },
   {
    "duration": 6,
    "start_time": "2023-08-31T09:40:19.279Z"
   },
   {
    "duration": 18,
    "start_time": "2023-08-31T09:40:19.288Z"
   },
   {
    "duration": 9,
    "start_time": "2023-08-31T09:40:19.309Z"
   },
   {
    "duration": 16,
    "start_time": "2023-08-31T09:40:19.320Z"
   },
   {
    "duration": 23,
    "start_time": "2023-08-31T09:40:19.338Z"
   },
   {
    "duration": 2345,
    "start_time": "2023-08-31T09:40:19.363Z"
   },
   {
    "duration": 3570,
    "start_time": "2023-08-31T09:40:21.711Z"
   },
   {
    "duration": 12781,
    "start_time": "2023-08-31T09:40:25.283Z"
   },
   {
    "duration": 6,
    "start_time": "2023-08-31T09:41:00.093Z"
   },
   {
    "duration": 21,
    "start_time": "2023-08-31T09:41:00.102Z"
   },
   {
    "duration": 39,
    "start_time": "2023-08-31T09:41:00.126Z"
   },
   {
    "duration": 15,
    "start_time": "2023-08-31T09:41:00.169Z"
   },
   {
    "duration": 39,
    "start_time": "2023-08-31T09:41:00.187Z"
   },
   {
    "duration": 14,
    "start_time": "2023-08-31T09:41:00.229Z"
   },
   {
    "duration": 27,
    "start_time": "2023-08-31T09:41:00.249Z"
   },
   {
    "duration": 1003,
    "start_time": "2023-08-31T09:41:00.279Z"
   },
   {
    "duration": 7,
    "start_time": "2023-08-31T09:41:01.286Z"
   },
   {
    "duration": 43,
    "start_time": "2023-08-31T09:41:01.296Z"
   },
   {
    "duration": 120,
    "start_time": "2023-08-31T09:41:01.342Z"
   },
   {
    "duration": 461,
    "start_time": "2023-08-31T09:41:01.464Z"
   },
   {
    "duration": 5,
    "start_time": "2023-08-31T09:41:01.926Z"
   },
   {
    "duration": 112,
    "start_time": "2023-08-31T09:41:01.933Z"
   },
   {
    "duration": 213,
    "start_time": "2023-08-31T09:41:02.047Z"
   },
   {
    "duration": 6,
    "start_time": "2023-08-31T09:41:02.262Z"
   },
   {
    "duration": 35,
    "start_time": "2023-08-31T09:41:02.270Z"
   },
   {
    "duration": 215,
    "start_time": "2023-08-31T09:41:02.307Z"
   },
   {
    "duration": 5,
    "start_time": "2023-08-31T09:41:02.526Z"
   },
   {
    "duration": 34,
    "start_time": "2023-08-31T09:41:02.532Z"
   },
   {
    "duration": 170,
    "start_time": "2023-08-31T09:41:02.568Z"
   },
   {
    "duration": 8,
    "start_time": "2023-08-31T09:41:02.740Z"
   },
   {
    "duration": 31,
    "start_time": "2023-08-31T09:41:02.750Z"
   },
   {
    "duration": 16,
    "start_time": "2023-08-31T09:41:02.786Z"
   },
   {
    "duration": 5,
    "start_time": "2023-08-31T09:41:02.805Z"
   },
   {
    "duration": 18,
    "start_time": "2023-08-31T09:41:02.812Z"
   },
   {
    "duration": 18,
    "start_time": "2023-08-31T09:41:02.831Z"
   },
   {
    "duration": 30,
    "start_time": "2023-08-31T09:41:02.850Z"
   },
   {
    "duration": 29,
    "start_time": "2023-08-31T09:41:02.882Z"
   },
   {
    "duration": 16,
    "start_time": "2023-08-31T09:41:02.912Z"
   },
   {
    "duration": 38,
    "start_time": "2023-08-31T09:41:02.929Z"
   },
   {
    "duration": 27,
    "start_time": "2023-08-31T09:41:02.970Z"
   },
   {
    "duration": 35,
    "start_time": "2023-08-31T09:41:02.999Z"
   },
   {
    "duration": 26,
    "start_time": "2023-08-31T09:41:03.037Z"
   },
   {
    "duration": 24,
    "start_time": "2023-08-31T09:41:03.065Z"
   },
   {
    "duration": 29,
    "start_time": "2023-08-31T09:41:03.091Z"
   },
   {
    "duration": 13,
    "start_time": "2023-08-31T09:41:03.122Z"
   },
   {
    "duration": 20,
    "start_time": "2023-08-31T09:41:03.137Z"
   },
   {
    "duration": 33,
    "start_time": "2023-08-31T09:41:03.158Z"
   },
   {
    "duration": 26,
    "start_time": "2023-08-31T09:41:03.193Z"
   },
   {
    "duration": 40,
    "start_time": "2023-08-31T09:41:03.221Z"
   },
   {
    "duration": 22,
    "start_time": "2023-08-31T09:41:03.262Z"
   },
   {
    "duration": 36,
    "start_time": "2023-08-31T09:41:03.286Z"
   },
   {
    "duration": 29,
    "start_time": "2023-08-31T09:41:03.323Z"
   },
   {
    "duration": 24,
    "start_time": "2023-08-31T09:41:03.354Z"
   },
   {
    "duration": 4598,
    "start_time": "2023-08-31T09:41:03.379Z"
   },
   {
    "duration": 7821,
    "start_time": "2023-08-31T09:41:07.978Z"
   },
   {
    "duration": 36870,
    "start_time": "2023-08-31T09:41:15.801Z"
   },
   {
    "duration": 72173,
    "start_time": "2023-08-31T09:43:53.680Z"
   },
   {
    "duration": 69780,
    "start_time": "2023-08-31T09:45:27.374Z"
   },
   {
    "duration": 328765,
    "start_time": "2023-08-31T09:46:51.382Z"
   },
   {
    "duration": 4,
    "start_time": "2023-08-31T09:52:20.149Z"
   },
   {
    "duration": 4,
    "start_time": "2023-08-31T09:56:28.613Z"
   },
   {
    "duration": 10,
    "start_time": "2023-08-31T09:56:28.619Z"
   },
   {
    "duration": 29,
    "start_time": "2023-08-31T09:56:28.631Z"
   },
   {
    "duration": 13,
    "start_time": "2023-08-31T09:56:28.662Z"
   },
   {
    "duration": 13,
    "start_time": "2023-08-31T09:56:28.677Z"
   },
   {
    "duration": 9,
    "start_time": "2023-08-31T09:56:28.691Z"
   },
   {
    "duration": 24,
    "start_time": "2023-08-31T09:56:28.702Z"
   },
   {
    "duration": 1042,
    "start_time": "2023-08-31T09:56:28.728Z"
   },
   {
    "duration": 6,
    "start_time": "2023-08-31T09:56:29.771Z"
   },
   {
    "duration": 7,
    "start_time": "2023-08-31T09:56:29.779Z"
   },
   {
    "duration": 17,
    "start_time": "2023-08-31T09:56:29.789Z"
   },
   {
    "duration": 209,
    "start_time": "2023-08-31T09:56:29.808Z"
   },
   {
    "duration": 5,
    "start_time": "2023-08-31T09:56:30.019Z"
   },
   {
    "duration": 75,
    "start_time": "2023-08-31T09:56:30.026Z"
   },
   {
    "duration": 178,
    "start_time": "2023-08-31T09:56:30.103Z"
   },
   {
    "duration": 5,
    "start_time": "2023-08-31T09:56:30.284Z"
   },
   {
    "duration": 50,
    "start_time": "2023-08-31T09:56:30.290Z"
   },
   {
    "duration": 219,
    "start_time": "2023-08-31T09:56:30.342Z"
   },
   {
    "duration": 5,
    "start_time": "2023-08-31T09:56:30.563Z"
   },
   {
    "duration": 108,
    "start_time": "2023-08-31T09:56:30.570Z"
   },
   {
    "duration": 229,
    "start_time": "2023-08-31T09:56:30.680Z"
   },
   {
    "duration": 5,
    "start_time": "2023-08-31T09:56:30.911Z"
   },
   {
    "duration": 216,
    "start_time": "2023-08-31T09:56:30.917Z"
   },
   {
    "duration": 50,
    "start_time": "2023-08-31T09:56:31.135Z"
   },
   {
    "duration": 51,
    "start_time": "2023-08-31T09:56:31.186Z"
   },
   {
    "duration": 65,
    "start_time": "2023-08-31T09:56:31.238Z"
   },
   {
    "duration": 34,
    "start_time": "2023-08-31T09:56:31.305Z"
   },
   {
    "duration": 36,
    "start_time": "2023-08-31T09:56:31.341Z"
   },
   {
    "duration": 44,
    "start_time": "2023-08-31T09:56:31.381Z"
   },
   {
    "duration": 38,
    "start_time": "2023-08-31T09:56:31.427Z"
   },
   {
    "duration": 80,
    "start_time": "2023-08-31T09:56:31.466Z"
   },
   {
    "duration": 62,
    "start_time": "2023-08-31T09:56:31.548Z"
   },
   {
    "duration": 25,
    "start_time": "2023-08-31T09:56:31.612Z"
   },
   {
    "duration": 91,
    "start_time": "2023-08-31T09:56:31.639Z"
   },
   {
    "duration": 40,
    "start_time": "2023-08-31T09:56:31.732Z"
   },
   {
    "duration": 38,
    "start_time": "2023-08-31T09:56:31.774Z"
   },
   {
    "duration": 42,
    "start_time": "2023-08-31T09:56:31.814Z"
   },
   {
    "duration": 46,
    "start_time": "2023-08-31T09:56:31.858Z"
   },
   {
    "duration": 22,
    "start_time": "2023-08-31T09:56:31.906Z"
   },
   {
    "duration": 21,
    "start_time": "2023-08-31T09:56:31.930Z"
   },
   {
    "duration": 38,
    "start_time": "2023-08-31T09:56:31.954Z"
   },
   {
    "duration": 49,
    "start_time": "2023-08-31T09:56:31.995Z"
   },
   {
    "duration": 29,
    "start_time": "2023-08-31T09:56:32.046Z"
   },
   {
    "duration": 33,
    "start_time": "2023-08-31T09:56:32.076Z"
   },
   {
    "duration": 22,
    "start_time": "2023-08-31T09:56:32.111Z"
   },
   {
    "duration": 33,
    "start_time": "2023-08-31T09:56:32.135Z"
   },
   {
    "duration": 2158,
    "start_time": "2023-08-31T09:56:32.170Z"
   },
   {
    "duration": 3461,
    "start_time": "2023-08-31T09:56:34.329Z"
   },
   {
    "duration": 11864,
    "start_time": "2023-08-31T09:56:37.792Z"
   },
   {
    "duration": 11612,
    "start_time": "2023-08-31T09:56:49.658Z"
   },
   {
    "duration": 6,
    "start_time": "2023-08-31T09:57:49.541Z"
   },
   {
    "duration": 7,
    "start_time": "2023-08-31T09:57:49.549Z"
   },
   {
    "duration": 34,
    "start_time": "2023-08-31T09:57:49.558Z"
   },
   {
    "duration": 13,
    "start_time": "2023-08-31T09:57:49.594Z"
   },
   {
    "duration": 38,
    "start_time": "2023-08-31T09:57:49.610Z"
   },
   {
    "duration": 8,
    "start_time": "2023-08-31T09:57:49.650Z"
   },
   {
    "duration": 15,
    "start_time": "2023-08-31T09:57:49.661Z"
   },
   {
    "duration": 1109,
    "start_time": "2023-08-31T09:57:49.679Z"
   },
   {
    "duration": 7,
    "start_time": "2023-08-31T09:57:50.790Z"
   },
   {
    "duration": 12,
    "start_time": "2023-08-31T09:57:50.799Z"
   },
   {
    "duration": 19,
    "start_time": "2023-08-31T09:57:50.813Z"
   },
   {
    "duration": 171,
    "start_time": "2023-08-31T09:57:50.847Z"
   },
   {
    "duration": 6,
    "start_time": "2023-08-31T09:57:51.020Z"
   },
   {
    "duration": 10,
    "start_time": "2023-08-31T09:57:51.046Z"
   },
   {
    "duration": 223,
    "start_time": "2023-08-31T09:57:51.058Z"
   },
   {
    "duration": 6,
    "start_time": "2023-08-31T09:57:51.283Z"
   },
   {
    "duration": 14,
    "start_time": "2023-08-31T09:57:51.291Z"
   },
   {
    "duration": 227,
    "start_time": "2023-08-31T09:57:51.307Z"
   },
   {
    "duration": 13,
    "start_time": "2023-08-31T09:57:51.536Z"
   },
   {
    "duration": 13,
    "start_time": "2023-08-31T09:57:51.552Z"
   },
   {
    "duration": 197,
    "start_time": "2023-08-31T09:57:51.568Z"
   },
   {
    "duration": 5,
    "start_time": "2023-08-31T09:57:51.767Z"
   },
   {
    "duration": 18,
    "start_time": "2023-08-31T09:57:51.775Z"
   },
   {
    "duration": 14,
    "start_time": "2023-08-31T09:57:51.796Z"
   },
   {
    "duration": 7,
    "start_time": "2023-08-31T09:57:51.812Z"
   },
   {
    "duration": 26,
    "start_time": "2023-08-31T09:57:51.821Z"
   },
   {
    "duration": 5,
    "start_time": "2023-08-31T09:57:51.849Z"
   },
   {
    "duration": 7,
    "start_time": "2023-08-31T09:57:51.856Z"
   },
   {
    "duration": 14,
    "start_time": "2023-08-31T09:57:51.866Z"
   },
   {
    "duration": 5,
    "start_time": "2023-08-31T09:57:51.882Z"
   },
   {
    "duration": 23,
    "start_time": "2023-08-31T09:57:51.889Z"
   },
   {
    "duration": 6,
    "start_time": "2023-08-31T09:57:51.948Z"
   },
   {
    "duration": 12,
    "start_time": "2023-08-31T09:57:51.956Z"
   },
   {
    "duration": 11,
    "start_time": "2023-08-31T09:57:51.970Z"
   },
   {
    "duration": 10,
    "start_time": "2023-08-31T09:57:51.984Z"
   },
   {
    "duration": 9,
    "start_time": "2023-08-31T09:57:51.996Z"
   },
   {
    "duration": 9,
    "start_time": "2023-08-31T09:57:52.007Z"
   },
   {
    "duration": 6,
    "start_time": "2023-08-31T09:57:52.017Z"
   },
   {
    "duration": 4,
    "start_time": "2023-08-31T09:57:52.046Z"
   },
   {
    "duration": 8,
    "start_time": "2023-08-31T09:57:52.052Z"
   },
   {
    "duration": 6,
    "start_time": "2023-08-31T09:57:52.064Z"
   },
   {
    "duration": 5,
    "start_time": "2023-08-31T09:57:52.072Z"
   },
   {
    "duration": 15,
    "start_time": "2023-08-31T09:57:52.079Z"
   },
   {
    "duration": 5,
    "start_time": "2023-08-31T09:57:52.097Z"
   },
   {
    "duration": 11,
    "start_time": "2023-08-31T09:57:52.104Z"
   },
   {
    "duration": 31,
    "start_time": "2023-08-31T09:57:52.117Z"
   },
   {
    "duration": 4405,
    "start_time": "2023-08-31T09:57:52.155Z"
   },
   {
    "duration": 7218,
    "start_time": "2023-08-31T09:57:56.562Z"
   },
   {
    "duration": 38478,
    "start_time": "2023-08-31T09:58:03.782Z"
   },
   {
    "duration": 48508,
    "start_time": "2023-08-31T09:58:42.262Z"
   },
   {
    "duration": 4,
    "start_time": "2023-08-31T10:01:29.317Z"
   },
   {
    "duration": 39,
    "start_time": "2023-08-31T10:01:29.323Z"
   },
   {
    "duration": 34,
    "start_time": "2023-08-31T10:01:29.365Z"
   },
   {
    "duration": 11,
    "start_time": "2023-08-31T10:01:29.401Z"
   },
   {
    "duration": 17,
    "start_time": "2023-08-31T10:01:29.414Z"
   },
   {
    "duration": 16,
    "start_time": "2023-08-31T10:01:29.434Z"
   },
   {
    "duration": 7,
    "start_time": "2023-08-31T10:01:29.452Z"
   },
   {
    "duration": 1073,
    "start_time": "2023-08-31T10:01:29.460Z"
   },
   {
    "duration": 12,
    "start_time": "2023-08-31T10:01:30.537Z"
   },
   {
    "duration": 88,
    "start_time": "2023-08-31T10:01:30.551Z"
   },
   {
    "duration": 129,
    "start_time": "2023-08-31T10:01:30.641Z"
   },
   {
    "duration": 208,
    "start_time": "2023-08-31T10:01:30.772Z"
   },
   {
    "duration": 5,
    "start_time": "2023-08-31T10:01:30.981Z"
   },
   {
    "duration": 44,
    "start_time": "2023-08-31T10:01:30.988Z"
   },
   {
    "duration": 276,
    "start_time": "2023-08-31T10:01:31.034Z"
   },
   {
    "duration": 5,
    "start_time": "2023-08-31T10:01:31.312Z"
   },
   {
    "duration": 50,
    "start_time": "2023-08-31T10:01:31.319Z"
   },
   {
    "duration": 211,
    "start_time": "2023-08-31T10:01:31.371Z"
   },
   {
    "duration": 6,
    "start_time": "2023-08-31T10:01:31.583Z"
   },
   {
    "duration": 60,
    "start_time": "2023-08-31T10:01:31.591Z"
   },
   {
    "duration": 223,
    "start_time": "2023-08-31T10:01:31.653Z"
   },
   {
    "duration": 6,
    "start_time": "2023-08-31T10:01:31.878Z"
   },
   {
    "duration": 196,
    "start_time": "2023-08-31T10:01:31.886Z"
   },
   {
    "duration": 27,
    "start_time": "2023-08-31T10:01:32.087Z"
   },
   {
    "duration": 30,
    "start_time": "2023-08-31T10:01:32.116Z"
   },
   {
    "duration": 18,
    "start_time": "2023-08-31T10:01:32.148Z"
   },
   {
    "duration": 14,
    "start_time": "2023-08-31T10:01:32.168Z"
   },
   {
    "duration": 26,
    "start_time": "2023-08-31T10:01:32.184Z"
   },
   {
    "duration": 43,
    "start_time": "2023-08-31T10:01:32.212Z"
   },
   {
    "duration": 12,
    "start_time": "2023-08-31T10:01:32.257Z"
   },
   {
    "duration": 54,
    "start_time": "2023-08-31T10:01:32.270Z"
   },
   {
    "duration": 25,
    "start_time": "2023-08-31T10:01:32.326Z"
   },
   {
    "duration": 42,
    "start_time": "2023-08-31T10:01:32.353Z"
   },
   {
    "duration": 25,
    "start_time": "2023-08-31T10:01:32.397Z"
   },
   {
    "duration": 19,
    "start_time": "2023-08-31T10:01:32.424Z"
   },
   {
    "duration": 25,
    "start_time": "2023-08-31T10:01:32.445Z"
   },
   {
    "duration": 25,
    "start_time": "2023-08-31T10:01:32.472Z"
   },
   {
    "duration": 23,
    "start_time": "2023-08-31T10:01:32.499Z"
   },
   {
    "duration": 14,
    "start_time": "2023-08-31T10:01:32.523Z"
   },
   {
    "duration": 17,
    "start_time": "2023-08-31T10:01:32.539Z"
   },
   {
    "duration": 10,
    "start_time": "2023-08-31T10:01:32.558Z"
   },
   {
    "duration": 40,
    "start_time": "2023-08-31T10:01:32.570Z"
   },
   {
    "duration": 16,
    "start_time": "2023-08-31T10:01:32.612Z"
   },
   {
    "duration": 29,
    "start_time": "2023-08-31T10:01:32.630Z"
   },
   {
    "duration": 15,
    "start_time": "2023-08-31T10:01:32.660Z"
   },
   {
    "duration": 36,
    "start_time": "2023-08-31T10:01:32.676Z"
   },
   {
    "duration": 4301,
    "start_time": "2023-08-31T10:01:32.714Z"
   },
   {
    "duration": 6831,
    "start_time": "2023-08-31T10:01:37.017Z"
   },
   {
    "duration": 35704,
    "start_time": "2023-08-31T10:01:43.850Z"
   },
   {
    "duration": 46611,
    "start_time": "2023-08-31T10:02:19.556Z"
   },
   {
    "duration": 3,
    "start_time": "2023-08-31T10:04:23.669Z"
   },
   {
    "duration": 9,
    "start_time": "2023-08-31T10:04:23.674Z"
   },
   {
    "duration": 30,
    "start_time": "2023-08-31T10:04:23.684Z"
   },
   {
    "duration": 13,
    "start_time": "2023-08-31T10:04:23.716Z"
   },
   {
    "duration": 15,
    "start_time": "2023-08-31T10:04:23.730Z"
   },
   {
    "duration": 33,
    "start_time": "2023-08-31T10:04:23.746Z"
   },
   {
    "duration": 8,
    "start_time": "2023-08-31T10:04:23.781Z"
   },
   {
    "duration": 1331,
    "start_time": "2023-08-31T10:04:23.790Z"
   },
   {
    "duration": 6,
    "start_time": "2023-08-31T10:04:25.124Z"
   },
   {
    "duration": 17,
    "start_time": "2023-08-31T10:04:25.131Z"
   },
   {
    "duration": 17,
    "start_time": "2023-08-31T10:04:25.150Z"
   },
   {
    "duration": 219,
    "start_time": "2023-08-31T10:04:25.169Z"
   },
   {
    "duration": 6,
    "start_time": "2023-08-31T10:04:25.390Z"
   },
   {
    "duration": 20,
    "start_time": "2023-08-31T10:04:25.398Z"
   },
   {
    "duration": 193,
    "start_time": "2023-08-31T10:04:25.420Z"
   },
   {
    "duration": 6,
    "start_time": "2023-08-31T10:04:25.615Z"
   },
   {
    "duration": 13,
    "start_time": "2023-08-31T10:04:25.623Z"
   },
   {
    "duration": 184,
    "start_time": "2023-08-31T10:04:25.647Z"
   },
   {
    "duration": 4,
    "start_time": "2023-08-31T10:04:25.833Z"
   },
   {
    "duration": 30,
    "start_time": "2023-08-31T10:04:25.839Z"
   },
   {
    "duration": 156,
    "start_time": "2023-08-31T10:04:25.870Z"
   },
   {
    "duration": 6,
    "start_time": "2023-08-31T10:04:26.028Z"
   },
   {
    "duration": 22,
    "start_time": "2023-08-31T10:04:26.036Z"
   },
   {
    "duration": 23,
    "start_time": "2023-08-31T10:04:26.062Z"
   },
   {
    "duration": 29,
    "start_time": "2023-08-31T10:04:26.086Z"
   },
   {
    "duration": 21,
    "start_time": "2023-08-31T10:04:26.117Z"
   },
   {
    "duration": 23,
    "start_time": "2023-08-31T10:04:26.140Z"
   },
   {
    "duration": 53,
    "start_time": "2023-08-31T10:04:26.165Z"
   },
   {
    "duration": 47,
    "start_time": "2023-08-31T10:04:26.219Z"
   },
   {
    "duration": 22,
    "start_time": "2023-08-31T10:04:26.268Z"
   },
   {
    "duration": 40,
    "start_time": "2023-08-31T10:04:26.292Z"
   },
   {
    "duration": 21,
    "start_time": "2023-08-31T10:04:26.334Z"
   },
   {
    "duration": 31,
    "start_time": "2023-08-31T10:04:26.357Z"
   },
   {
    "duration": 14,
    "start_time": "2023-08-31T10:04:26.390Z"
   },
   {
    "duration": 15,
    "start_time": "2023-08-31T10:04:26.406Z"
   },
   {
    "duration": 18,
    "start_time": "2023-08-31T10:04:26.423Z"
   },
   {
    "duration": 18,
    "start_time": "2023-08-31T10:04:26.443Z"
   },
   {
    "duration": 6,
    "start_time": "2023-08-31T10:04:26.463Z"
   },
   {
    "duration": 16,
    "start_time": "2023-08-31T10:04:26.471Z"
   },
   {
    "duration": 14,
    "start_time": "2023-08-31T10:04:26.488Z"
   },
   {
    "duration": 7,
    "start_time": "2023-08-31T10:04:26.504Z"
   },
   {
    "duration": 23,
    "start_time": "2023-08-31T10:04:26.512Z"
   },
   {
    "duration": 35,
    "start_time": "2023-08-31T10:04:26.536Z"
   },
   {
    "duration": 53,
    "start_time": "2023-08-31T10:04:26.573Z"
   },
   {
    "duration": 13,
    "start_time": "2023-08-31T10:04:26.628Z"
   },
   {
    "duration": 7,
    "start_time": "2023-08-31T10:04:26.642Z"
   },
   {
    "duration": 9,
    "start_time": "2023-08-31T10:04:26.651Z"
   },
   {
    "duration": 7,
    "start_time": "2023-08-31T10:04:26.661Z"
   },
   {
    "duration": 6,
    "start_time": "2023-08-31T10:04:26.670Z"
   },
   {
    "duration": 7,
    "start_time": "2023-08-31T10:04:26.677Z"
   },
   {
    "duration": 4,
    "start_time": "2023-08-31T10:05:00.668Z"
   },
   {
    "duration": 194,
    "start_time": "2023-08-31T10:05:00.674Z"
   },
   {
    "duration": 81,
    "start_time": "2023-08-31T10:05:00.869Z"
   },
   {
    "duration": 92,
    "start_time": "2023-08-31T10:05:00.952Z"
   },
   {
    "duration": 85,
    "start_time": "2023-08-31T10:05:01.046Z"
   },
   {
    "duration": 286,
    "start_time": "2023-08-31T10:05:01.132Z"
   },
   {
    "duration": 66,
    "start_time": "2023-08-31T10:05:01.420Z"
   },
   {
    "duration": 1172,
    "start_time": "2023-08-31T10:05:01.488Z"
   },
   {
    "duration": 6,
    "start_time": "2023-08-31T10:05:02.662Z"
   },
   {
    "duration": 27,
    "start_time": "2023-08-31T10:05:02.669Z"
   },
   {
    "duration": 18,
    "start_time": "2023-08-31T10:05:02.697Z"
   },
   {
    "duration": 166,
    "start_time": "2023-08-31T10:05:02.717Z"
   },
   {
    "duration": 5,
    "start_time": "2023-08-31T10:05:02.887Z"
   },
   {
    "duration": 25,
    "start_time": "2023-08-31T10:05:02.894Z"
   },
   {
    "duration": 183,
    "start_time": "2023-08-31T10:05:02.921Z"
   },
   {
    "duration": 5,
    "start_time": "2023-08-31T10:05:03.106Z"
   },
   {
    "duration": 13,
    "start_time": "2023-08-31T10:05:03.113Z"
   },
   {
    "duration": 325,
    "start_time": "2023-08-31T10:05:03.128Z"
   },
   {
    "duration": 126,
    "start_time": "2023-08-31T10:05:03.454Z"
   },
   {
    "duration": 362,
    "start_time": "2023-08-31T10:05:03.582Z"
   },
   {
    "duration": 203,
    "start_time": "2023-08-31T10:05:03.946Z"
   },
   {
    "duration": 4,
    "start_time": "2023-08-31T10:05:04.151Z"
   },
   {
    "duration": 16,
    "start_time": "2023-08-31T10:05:04.156Z"
   },
   {
    "duration": 64,
    "start_time": "2023-08-31T10:05:04.173Z"
   },
   {
    "duration": 29,
    "start_time": "2023-08-31T10:05:04.239Z"
   },
   {
    "duration": 15,
    "start_time": "2023-08-31T10:05:04.269Z"
   },
   {
    "duration": 18,
    "start_time": "2023-08-31T10:05:04.286Z"
   },
   {
    "duration": 19,
    "start_time": "2023-08-31T10:05:04.306Z"
   },
   {
    "duration": 25,
    "start_time": "2023-08-31T10:05:04.326Z"
   },
   {
    "duration": 28,
    "start_time": "2023-08-31T10:05:04.353Z"
   },
   {
    "duration": 30,
    "start_time": "2023-08-31T10:05:04.382Z"
   },
   {
    "duration": 5,
    "start_time": "2023-08-31T10:05:04.414Z"
   },
   {
    "duration": 18,
    "start_time": "2023-08-31T10:05:04.421Z"
   },
   {
    "duration": 18,
    "start_time": "2023-08-31T10:05:04.441Z"
   },
   {
    "duration": 10,
    "start_time": "2023-08-31T10:05:04.461Z"
   },
   {
    "duration": 12,
    "start_time": "2023-08-31T10:05:04.473Z"
   },
   {
    "duration": 14,
    "start_time": "2023-08-31T10:05:04.489Z"
   },
   {
    "duration": 16,
    "start_time": "2023-08-31T10:05:04.505Z"
   },
   {
    "duration": 11,
    "start_time": "2023-08-31T10:05:04.522Z"
   },
   {
    "duration": 20,
    "start_time": "2023-08-31T10:05:04.534Z"
   },
   {
    "duration": 23,
    "start_time": "2023-08-31T10:05:04.556Z"
   },
   {
    "duration": 16,
    "start_time": "2023-08-31T10:05:04.581Z"
   },
   {
    "duration": 19,
    "start_time": "2023-08-31T10:05:04.600Z"
   },
   {
    "duration": 15,
    "start_time": "2023-08-31T10:05:04.621Z"
   },
   {
    "duration": 36,
    "start_time": "2023-08-31T10:05:04.638Z"
   },
   {
    "duration": 24,
    "start_time": "2023-08-31T10:05:04.676Z"
   },
   {
    "duration": 17016,
    "start_time": "2023-08-31T10:05:04.701Z"
   },
   {
    "duration": 28345,
    "start_time": "2023-08-31T10:05:21.719Z"
   },
   {
    "duration": 229290,
    "start_time": "2023-08-31T10:05:50.066Z"
   },
   {
    "duration": 263395,
    "start_time": "2023-08-31T10:09:39.360Z"
   },
   {
    "duration": 5,
    "start_time": "2023-08-31T10:14:39.972Z"
   },
   {
    "duration": 25,
    "start_time": "2023-08-31T10:14:39.980Z"
   },
   {
    "duration": 75,
    "start_time": "2023-08-31T10:14:40.007Z"
   },
   {
    "duration": 12,
    "start_time": "2023-08-31T10:14:40.086Z"
   },
   {
    "duration": 41,
    "start_time": "2023-08-31T10:14:40.101Z"
   },
   {
    "duration": 42,
    "start_time": "2023-08-31T10:14:40.144Z"
   },
   {
    "duration": 45,
    "start_time": "2023-08-31T10:14:40.188Z"
   },
   {
    "duration": 1226,
    "start_time": "2023-08-31T10:14:40.236Z"
   },
   {
    "duration": 6,
    "start_time": "2023-08-31T10:14:41.467Z"
   },
   {
    "duration": 9,
    "start_time": "2023-08-31T10:14:41.476Z"
   },
   {
    "duration": 9,
    "start_time": "2023-08-31T10:14:41.486Z"
   },
   {
    "duration": 183,
    "start_time": "2023-08-31T10:14:41.497Z"
   },
   {
    "duration": 5,
    "start_time": "2023-08-31T10:14:41.683Z"
   },
   {
    "duration": 10,
    "start_time": "2023-08-31T10:14:41.692Z"
   },
   {
    "duration": 198,
    "start_time": "2023-08-31T10:14:41.704Z"
   },
   {
    "duration": 6,
    "start_time": "2023-08-31T10:14:41.904Z"
   },
   {
    "duration": 10,
    "start_time": "2023-08-31T10:14:41.912Z"
   },
   {
    "duration": 216,
    "start_time": "2023-08-31T10:14:41.924Z"
   },
   {
    "duration": 15,
    "start_time": "2023-08-31T10:14:42.149Z"
   },
   {
    "duration": 30,
    "start_time": "2023-08-31T10:14:42.166Z"
   },
   {
    "duration": 195,
    "start_time": "2023-08-31T10:14:42.198Z"
   },
   {
    "duration": 8,
    "start_time": "2023-08-31T10:14:42.395Z"
   },
   {
    "duration": 7,
    "start_time": "2023-08-31T10:14:42.405Z"
   },
   {
    "duration": 7,
    "start_time": "2023-08-31T10:14:42.414Z"
   },
   {
    "duration": 24,
    "start_time": "2023-08-31T10:14:42.423Z"
   },
   {
    "duration": 14,
    "start_time": "2023-08-31T10:14:42.449Z"
   },
   {
    "duration": 15,
    "start_time": "2023-08-31T10:14:42.465Z"
   },
   {
    "duration": 42,
    "start_time": "2023-08-31T10:14:42.481Z"
   },
   {
    "duration": 15,
    "start_time": "2023-08-31T10:14:42.527Z"
   },
   {
    "duration": 23,
    "start_time": "2023-08-31T10:14:42.544Z"
   },
   {
    "duration": 19,
    "start_time": "2023-08-31T10:14:42.573Z"
   },
   {
    "duration": 5,
    "start_time": "2023-08-31T10:14:42.595Z"
   },
   {
    "duration": 15,
    "start_time": "2023-08-31T10:14:42.602Z"
   },
   {
    "duration": 13,
    "start_time": "2023-08-31T10:14:42.619Z"
   },
   {
    "duration": 4,
    "start_time": "2023-08-31T10:14:42.634Z"
   },
   {
    "duration": 19,
    "start_time": "2023-08-31T10:14:42.640Z"
   },
   {
    "duration": 7,
    "start_time": "2023-08-31T10:14:42.670Z"
   },
   {
    "duration": 18,
    "start_time": "2023-08-31T10:14:42.679Z"
   },
   {
    "duration": 7,
    "start_time": "2023-08-31T10:14:42.699Z"
   },
   {
    "duration": 7,
    "start_time": "2023-08-31T10:14:42.708Z"
   },
   {
    "duration": 10,
    "start_time": "2023-08-31T10:14:42.721Z"
   },
   {
    "duration": 27,
    "start_time": "2023-08-31T10:14:42.733Z"
   },
   {
    "duration": 6,
    "start_time": "2023-08-31T10:14:42.767Z"
   },
   {
    "duration": 11,
    "start_time": "2023-08-31T10:14:42.775Z"
   },
   {
    "duration": 13,
    "start_time": "2023-08-31T10:14:42.789Z"
   },
   {
    "duration": 9,
    "start_time": "2023-08-31T10:14:42.804Z"
   },
   {
    "duration": 8711,
    "start_time": "2023-08-31T10:14:42.816Z"
   },
   {
    "duration": 14330,
    "start_time": "2023-08-31T10:14:51.529Z"
   },
   {
    "duration": 205288,
    "start_time": "2023-08-31T10:15:05.863Z"
   },
   {
    "duration": 4,
    "start_time": "2023-08-31T10:19:22.690Z"
   },
   {
    "duration": 7,
    "start_time": "2023-08-31T10:19:22.697Z"
   },
   {
    "duration": 31,
    "start_time": "2023-08-31T10:19:22.706Z"
   },
   {
    "duration": 12,
    "start_time": "2023-08-31T10:19:22.740Z"
   },
   {
    "duration": 25,
    "start_time": "2023-08-31T10:19:22.754Z"
   },
   {
    "duration": 9,
    "start_time": "2023-08-31T10:19:22.781Z"
   },
   {
    "duration": 6,
    "start_time": "2023-08-31T10:19:22.792Z"
   },
   {
    "duration": 1078,
    "start_time": "2023-08-31T10:19:22.800Z"
   },
   {
    "duration": 6,
    "start_time": "2023-08-31T10:19:23.881Z"
   },
   {
    "duration": 6,
    "start_time": "2023-08-31T10:19:23.889Z"
   },
   {
    "duration": 10,
    "start_time": "2023-08-31T10:19:23.897Z"
   },
   {
    "duration": 208,
    "start_time": "2023-08-31T10:19:23.909Z"
   },
   {
    "duration": 6,
    "start_time": "2023-08-31T10:19:24.119Z"
   },
   {
    "duration": 25,
    "start_time": "2023-08-31T10:19:24.127Z"
   },
   {
    "duration": 209,
    "start_time": "2023-08-31T10:19:24.158Z"
   },
   {
    "duration": 7,
    "start_time": "2023-08-31T10:19:24.369Z"
   },
   {
    "duration": 25,
    "start_time": "2023-08-31T10:19:24.377Z"
   },
   {
    "duration": 202,
    "start_time": "2023-08-31T10:19:24.404Z"
   },
   {
    "duration": 5,
    "start_time": "2023-08-31T10:19:24.608Z"
   },
   {
    "duration": 21,
    "start_time": "2023-08-31T10:19:24.615Z"
   },
   {
    "duration": 177,
    "start_time": "2023-08-31T10:19:24.638Z"
   },
   {
    "duration": 6,
    "start_time": "2023-08-31T10:19:24.817Z"
   },
   {
    "duration": 43,
    "start_time": "2023-08-31T10:19:24.825Z"
   },
   {
    "duration": 41,
    "start_time": "2023-08-31T10:19:24.871Z"
   },
   {
    "duration": 20,
    "start_time": "2023-08-31T10:19:24.914Z"
   },
   {
    "duration": 27,
    "start_time": "2023-08-31T10:19:24.936Z"
   },
   {
    "duration": 6,
    "start_time": "2023-08-31T10:19:24.966Z"
   },
   {
    "duration": 15,
    "start_time": "2023-08-31T10:19:24.974Z"
   },
   {
    "duration": 23,
    "start_time": "2023-08-31T10:19:24.991Z"
   },
   {
    "duration": 21,
    "start_time": "2023-08-31T10:19:25.016Z"
   },
   {
    "duration": 38,
    "start_time": "2023-08-31T10:19:25.040Z"
   },
   {
    "duration": 6,
    "start_time": "2023-08-31T10:19:25.080Z"
   },
   {
    "duration": 35,
    "start_time": "2023-08-31T10:19:25.087Z"
   },
   {
    "duration": 44,
    "start_time": "2023-08-31T10:19:25.124Z"
   },
   {
    "duration": 29,
    "start_time": "2023-08-31T10:19:25.170Z"
   },
   {
    "duration": 16,
    "start_time": "2023-08-31T10:19:25.202Z"
   },
   {
    "duration": 7,
    "start_time": "2023-08-31T10:19:25.222Z"
   },
   {
    "duration": 17,
    "start_time": "2023-08-31T10:19:25.232Z"
   },
   {
    "duration": 11,
    "start_time": "2023-08-31T10:19:25.252Z"
   },
   {
    "duration": 27,
    "start_time": "2023-08-31T10:19:25.267Z"
   },
   {
    "duration": 7,
    "start_time": "2023-08-31T10:19:25.297Z"
   },
   {
    "duration": 12,
    "start_time": "2023-08-31T10:19:25.306Z"
   },
   {
    "duration": 6,
    "start_time": "2023-08-31T10:19:25.320Z"
   },
   {
    "duration": 14,
    "start_time": "2023-08-31T10:19:25.329Z"
   },
   {
    "duration": 20,
    "start_time": "2023-08-31T10:19:25.346Z"
   },
   {
    "duration": 29,
    "start_time": "2023-08-31T10:19:25.368Z"
   },
   {
    "duration": 147,
    "start_time": "2023-08-31T10:19:25.399Z"
   },
   {
    "duration": 165,
    "start_time": "2023-08-31T10:19:25.551Z"
   },
   {
    "duration": 4,
    "start_time": "2023-08-31T10:20:03.810Z"
   },
   {
    "duration": 50,
    "start_time": "2023-08-31T10:20:03.817Z"
   },
   {
    "duration": 49,
    "start_time": "2023-08-31T10:20:03.868Z"
   },
   {
    "duration": 11,
    "start_time": "2023-08-31T10:20:03.919Z"
   },
   {
    "duration": 27,
    "start_time": "2023-08-31T10:20:03.932Z"
   },
   {
    "duration": 23,
    "start_time": "2023-08-31T10:20:03.961Z"
   },
   {
    "duration": 40,
    "start_time": "2023-08-31T10:20:03.985Z"
   },
   {
    "duration": 1565,
    "start_time": "2023-08-31T10:20:04.027Z"
   },
   {
    "duration": 7,
    "start_time": "2023-08-31T10:20:05.595Z"
   },
   {
    "duration": 22,
    "start_time": "2023-08-31T10:20:05.604Z"
   },
   {
    "duration": 37,
    "start_time": "2023-08-31T10:20:05.628Z"
   },
   {
    "duration": 202,
    "start_time": "2023-08-31T10:20:05.667Z"
   },
   {
    "duration": 5,
    "start_time": "2023-08-31T10:20:05.871Z"
   },
   {
    "duration": 18,
    "start_time": "2023-08-31T10:20:05.878Z"
   },
   {
    "duration": 210,
    "start_time": "2023-08-31T10:20:05.898Z"
   },
   {
    "duration": 6,
    "start_time": "2023-08-31T10:20:06.111Z"
   },
   {
    "duration": 36,
    "start_time": "2023-08-31T10:20:06.120Z"
   },
   {
    "duration": 212,
    "start_time": "2023-08-31T10:20:06.162Z"
   },
   {
    "duration": 6,
    "start_time": "2023-08-31T10:20:06.375Z"
   },
   {
    "duration": 16,
    "start_time": "2023-08-31T10:20:06.383Z"
   },
   {
    "duration": 186,
    "start_time": "2023-08-31T10:20:06.400Z"
   },
   {
    "duration": 4,
    "start_time": "2023-08-31T10:20:06.588Z"
   },
   {
    "duration": 44,
    "start_time": "2023-08-31T10:20:06.594Z"
   },
   {
    "duration": 25,
    "start_time": "2023-08-31T10:20:06.644Z"
   },
   {
    "duration": 6,
    "start_time": "2023-08-31T10:20:06.671Z"
   },
   {
    "duration": 7,
    "start_time": "2023-08-31T10:20:06.679Z"
   },
   {
    "duration": 6,
    "start_time": "2023-08-31T10:20:06.688Z"
   },
   {
    "duration": 7,
    "start_time": "2023-08-31T10:20:06.696Z"
   },
   {
    "duration": 13,
    "start_time": "2023-08-31T10:20:06.705Z"
   },
   {
    "duration": 5,
    "start_time": "2023-08-31T10:20:06.720Z"
   },
   {
    "duration": 37,
    "start_time": "2023-08-31T10:20:06.727Z"
   },
   {
    "duration": 5,
    "start_time": "2023-08-31T10:20:06.766Z"
   },
   {
    "duration": 10,
    "start_time": "2023-08-31T10:20:06.772Z"
   },
   {
    "duration": 14,
    "start_time": "2023-08-31T10:20:06.784Z"
   },
   {
    "duration": 14,
    "start_time": "2023-08-31T10:20:06.801Z"
   },
   {
    "duration": 30,
    "start_time": "2023-08-31T10:20:06.818Z"
   },
   {
    "duration": 16,
    "start_time": "2023-08-31T10:20:06.850Z"
   },
   {
    "duration": 13,
    "start_time": "2023-08-31T10:20:06.868Z"
   },
   {
    "duration": 13,
    "start_time": "2023-08-31T10:20:06.883Z"
   },
   {
    "duration": 15,
    "start_time": "2023-08-31T10:20:06.898Z"
   },
   {
    "duration": 24,
    "start_time": "2023-08-31T10:20:06.915Z"
   },
   {
    "duration": 28,
    "start_time": "2023-08-31T10:20:06.942Z"
   },
   {
    "duration": 6,
    "start_time": "2023-08-31T10:20:06.972Z"
   },
   {
    "duration": 14,
    "start_time": "2023-08-31T10:20:06.981Z"
   },
   {
    "duration": 12,
    "start_time": "2023-08-31T10:20:06.997Z"
   },
   {
    "duration": 12,
    "start_time": "2023-08-31T10:20:07.011Z"
   },
   {
    "duration": 6416,
    "start_time": "2023-08-31T10:20:07.024Z"
   },
   {
    "duration": 93220,
    "start_time": "2023-08-31T10:20:13.448Z"
   },
   {
    "duration": 4,
    "start_time": "2023-08-31T10:23:06.018Z"
   },
   {
    "duration": 43,
    "start_time": "2023-08-31T10:23:06.024Z"
   },
   {
    "duration": 45,
    "start_time": "2023-08-31T10:23:06.069Z"
   },
   {
    "duration": 13,
    "start_time": "2023-08-31T10:23:06.117Z"
   },
   {
    "duration": 52,
    "start_time": "2023-08-31T10:23:06.134Z"
   },
   {
    "duration": 27,
    "start_time": "2023-08-31T10:23:06.187Z"
   },
   {
    "duration": 15,
    "start_time": "2023-08-31T10:23:06.216Z"
   },
   {
    "duration": 1065,
    "start_time": "2023-08-31T10:23:06.233Z"
   },
   {
    "duration": 6,
    "start_time": "2023-08-31T10:23:07.299Z"
   },
   {
    "duration": 11,
    "start_time": "2023-08-31T10:23:07.306Z"
   },
   {
    "duration": 17,
    "start_time": "2023-08-31T10:23:07.319Z"
   },
   {
    "duration": 173,
    "start_time": "2023-08-31T10:23:07.350Z"
   },
   {
    "duration": 5,
    "start_time": "2023-08-31T10:23:07.525Z"
   },
   {
    "duration": 29,
    "start_time": "2023-08-31T10:23:07.533Z"
   },
   {
    "duration": 171,
    "start_time": "2023-08-31T10:23:07.564Z"
   },
   {
    "duration": 21,
    "start_time": "2023-08-31T10:23:07.750Z"
   },
   {
    "duration": 9,
    "start_time": "2023-08-31T10:23:07.772Z"
   },
   {
    "duration": 187,
    "start_time": "2023-08-31T10:23:07.782Z"
   },
   {
    "duration": 5,
    "start_time": "2023-08-31T10:23:07.971Z"
   },
   {
    "duration": 10,
    "start_time": "2023-08-31T10:23:07.977Z"
   },
   {
    "duration": 178,
    "start_time": "2023-08-31T10:23:07.989Z"
   },
   {
    "duration": 4,
    "start_time": "2023-08-31T10:23:08.169Z"
   },
   {
    "duration": 8,
    "start_time": "2023-08-31T10:23:08.175Z"
   },
   {
    "duration": 18,
    "start_time": "2023-08-31T10:23:08.184Z"
   },
   {
    "duration": 5,
    "start_time": "2023-08-31T10:23:08.204Z"
   },
   {
    "duration": 7,
    "start_time": "2023-08-31T10:23:08.211Z"
   },
   {
    "duration": 44,
    "start_time": "2023-08-31T10:23:08.219Z"
   },
   {
    "duration": 154,
    "start_time": "2023-08-31T10:23:08.266Z"
   },
   {
    "duration": 27,
    "start_time": "2023-08-31T10:23:08.422Z"
   },
   {
    "duration": 12,
    "start_time": "2023-08-31T10:23:08.451Z"
   },
   {
    "duration": 21,
    "start_time": "2023-08-31T10:23:08.465Z"
   },
   {
    "duration": 11,
    "start_time": "2023-08-31T10:23:08.488Z"
   },
   {
    "duration": 10,
    "start_time": "2023-08-31T10:23:08.500Z"
   },
   {
    "duration": 15,
    "start_time": "2023-08-31T10:23:08.511Z"
   },
   {
    "duration": 29,
    "start_time": "2023-08-31T10:23:08.528Z"
   },
   {
    "duration": 27,
    "start_time": "2023-08-31T10:23:08.559Z"
   },
   {
    "duration": 11,
    "start_time": "2023-08-31T10:23:08.588Z"
   },
   {
    "duration": 6,
    "start_time": "2023-08-31T10:23:08.601Z"
   },
   {
    "duration": 42,
    "start_time": "2023-08-31T10:23:08.608Z"
   },
   {
    "duration": 7,
    "start_time": "2023-08-31T10:23:08.651Z"
   },
   {
    "duration": 3,
    "start_time": "2023-08-31T10:23:08.672Z"
   },
   {
    "duration": 6,
    "start_time": "2023-08-31T10:23:08.677Z"
   },
   {
    "duration": 12,
    "start_time": "2023-08-31T10:23:08.685Z"
   },
   {
    "duration": 12,
    "start_time": "2023-08-31T10:23:08.699Z"
   },
   {
    "duration": 8,
    "start_time": "2023-08-31T10:23:08.713Z"
   },
   {
    "duration": 7,
    "start_time": "2023-08-31T10:23:08.723Z"
   },
   {
    "duration": 6605,
    "start_time": "2023-08-31T10:23:08.732Z"
   },
   {
    "duration": 105479,
    "start_time": "2023-08-31T10:23:15.338Z"
   },
   {
    "duration": 2124,
    "start_time": "2023-08-31T10:26:40.042Z"
   },
   {
    "duration": 6,
    "start_time": "2023-08-31T10:26:42.172Z"
   },
   {
    "duration": 45,
    "start_time": "2023-08-31T10:26:42.180Z"
   },
   {
    "duration": 15,
    "start_time": "2023-08-31T10:26:42.227Z"
   },
   {
    "duration": 32,
    "start_time": "2023-08-31T10:26:42.244Z"
   },
   {
    "duration": 18,
    "start_time": "2023-08-31T10:26:42.279Z"
   },
   {
    "duration": 28,
    "start_time": "2023-08-31T10:26:42.299Z"
   },
   {
    "duration": 1184,
    "start_time": "2023-08-31T10:26:42.329Z"
   },
   {
    "duration": 6,
    "start_time": "2023-08-31T10:26:43.516Z"
   },
   {
    "duration": 21,
    "start_time": "2023-08-31T10:26:43.523Z"
   },
   {
    "duration": 35,
    "start_time": "2023-08-31T10:26:43.545Z"
   },
   {
    "duration": 218,
    "start_time": "2023-08-31T10:26:43.583Z"
   },
   {
    "duration": 6,
    "start_time": "2023-08-31T10:26:43.802Z"
   },
   {
    "duration": 31,
    "start_time": "2023-08-31T10:26:43.811Z"
   },
   {
    "duration": 202,
    "start_time": "2023-08-31T10:26:43.844Z"
   },
   {
    "duration": 9,
    "start_time": "2023-08-31T10:26:44.047Z"
   },
   {
    "duration": 23,
    "start_time": "2023-08-31T10:26:44.059Z"
   },
   {
    "duration": 203,
    "start_time": "2023-08-31T10:26:44.083Z"
   },
   {
    "duration": 5,
    "start_time": "2023-08-31T10:26:44.287Z"
   },
   {
    "duration": 24,
    "start_time": "2023-08-31T10:26:44.294Z"
   },
   {
    "duration": 211,
    "start_time": "2023-08-31T10:26:44.320Z"
   },
   {
    "duration": 5,
    "start_time": "2023-08-31T10:26:44.532Z"
   },
   {
    "duration": 31,
    "start_time": "2023-08-31T10:26:44.538Z"
   },
   {
    "duration": 24,
    "start_time": "2023-08-31T10:26:44.571Z"
   },
   {
    "duration": 27,
    "start_time": "2023-08-31T10:26:44.596Z"
   },
   {
    "duration": 39,
    "start_time": "2023-08-31T10:26:44.625Z"
   },
   {
    "duration": 25,
    "start_time": "2023-08-31T10:26:44.666Z"
   },
   {
    "duration": 31,
    "start_time": "2023-08-31T10:26:44.693Z"
   },
   {
    "duration": 18,
    "start_time": "2023-08-31T10:26:44.726Z"
   },
   {
    "duration": 47,
    "start_time": "2023-08-31T10:26:44.746Z"
   },
   {
    "duration": 43,
    "start_time": "2023-08-31T10:26:44.796Z"
   },
   {
    "duration": 38,
    "start_time": "2023-08-31T10:26:44.840Z"
   },
   {
    "duration": 34,
    "start_time": "2023-08-31T10:26:44.879Z"
   },
   {
    "duration": 21,
    "start_time": "2023-08-31T10:26:44.915Z"
   },
   {
    "duration": 26,
    "start_time": "2023-08-31T10:26:44.938Z"
   },
   {
    "duration": 20,
    "start_time": "2023-08-31T10:26:44.966Z"
   },
   {
    "duration": 36,
    "start_time": "2023-08-31T10:26:44.987Z"
   },
   {
    "duration": 35,
    "start_time": "2023-08-31T10:26:45.026Z"
   },
   {
    "duration": 15,
    "start_time": "2023-08-31T10:26:45.063Z"
   },
   {
    "duration": 25,
    "start_time": "2023-08-31T10:26:45.079Z"
   },
   {
    "duration": 18,
    "start_time": "2023-08-31T10:26:45.108Z"
   },
   {
    "duration": 37,
    "start_time": "2023-08-31T10:26:45.128Z"
   },
   {
    "duration": 18,
    "start_time": "2023-08-31T10:26:45.168Z"
   },
   {
    "duration": 42,
    "start_time": "2023-08-31T10:26:45.188Z"
   },
   {
    "duration": 39,
    "start_time": "2023-08-31T10:26:45.232Z"
   },
   {
    "duration": 9,
    "start_time": "2023-08-31T10:26:45.281Z"
   },
   {
    "duration": 11898,
    "start_time": "2023-08-31T10:26:45.292Z"
   },
   {
    "duration": 54358,
    "start_time": "2023-08-31T10:26:57.192Z"
   },
   {
    "duration": 1186904,
    "start_time": "2023-08-31T10:27:51.551Z"
   },
   {
    "duration": 12,
    "start_time": "2023-08-31T10:56:52.157Z"
   },
   {
    "duration": 12,
    "start_time": "2023-08-31T10:56:52.175Z"
   },
   {
    "duration": 30,
    "start_time": "2023-08-31T10:56:52.189Z"
   },
   {
    "duration": 10,
    "start_time": "2023-08-31T10:56:52.221Z"
   },
   {
    "duration": 13,
    "start_time": "2023-08-31T10:56:52.234Z"
   },
   {
    "duration": 15,
    "start_time": "2023-08-31T10:56:52.251Z"
   },
   {
    "duration": 12,
    "start_time": "2023-08-31T10:56:52.267Z"
   },
   {
    "duration": 1195,
    "start_time": "2023-08-31T10:56:52.280Z"
   },
   {
    "duration": 5,
    "start_time": "2023-08-31T10:56:53.477Z"
   },
   {
    "duration": 6,
    "start_time": "2023-08-31T10:56:53.484Z"
   },
   {
    "duration": 19,
    "start_time": "2023-08-31T10:56:53.491Z"
   },
   {
    "duration": 283,
    "start_time": "2023-08-31T10:56:53.512Z"
   },
   {
    "duration": 7,
    "start_time": "2023-08-31T10:56:53.847Z"
   },
   {
    "duration": 15,
    "start_time": "2023-08-31T10:56:53.860Z"
   },
   {
    "duration": 296,
    "start_time": "2023-08-31T10:56:53.878Z"
   },
   {
    "duration": 5,
    "start_time": "2023-08-31T10:56:54.176Z"
   },
   {
    "duration": 11,
    "start_time": "2023-08-31T10:56:54.183Z"
   },
   {
    "duration": 212,
    "start_time": "2023-08-31T10:56:54.195Z"
   },
   {
    "duration": 4,
    "start_time": "2023-08-31T10:56:54.409Z"
   },
   {
    "duration": 15,
    "start_time": "2023-08-31T10:56:54.415Z"
   },
   {
    "duration": 268,
    "start_time": "2023-08-31T10:56:54.431Z"
   },
   {
    "duration": 5,
    "start_time": "2023-08-31T10:56:54.701Z"
   },
   {
    "duration": 13,
    "start_time": "2023-08-31T10:56:54.708Z"
   },
   {
    "duration": 9,
    "start_time": "2023-08-31T10:56:54.723Z"
   },
   {
    "duration": 26,
    "start_time": "2023-08-31T10:56:54.734Z"
   },
   {
    "duration": 9,
    "start_time": "2023-08-31T10:56:54.766Z"
   },
   {
    "duration": 4,
    "start_time": "2023-08-31T10:56:54.778Z"
   },
   {
    "duration": 7,
    "start_time": "2023-08-31T10:56:54.784Z"
   },
   {
    "duration": 22,
    "start_time": "2023-08-31T10:56:54.792Z"
   },
   {
    "duration": 8,
    "start_time": "2023-08-31T10:56:54.816Z"
   },
   {
    "duration": 40,
    "start_time": "2023-08-31T10:56:54.825Z"
   },
   {
    "duration": 16,
    "start_time": "2023-08-31T10:56:54.867Z"
   },
   {
    "duration": 12,
    "start_time": "2023-08-31T10:56:54.884Z"
   },
   {
    "duration": 13,
    "start_time": "2023-08-31T10:56:54.897Z"
   },
   {
    "duration": 72,
    "start_time": "2023-08-31T10:56:54.911Z"
   },
   {
    "duration": 36,
    "start_time": "2023-08-31T10:56:54.985Z"
   },
   {
    "duration": 17,
    "start_time": "2023-08-31T10:56:55.023Z"
   },
   {
    "duration": 30,
    "start_time": "2023-08-31T10:56:55.041Z"
   },
   {
    "duration": 6,
    "start_time": "2023-08-31T10:56:55.073Z"
   },
   {
    "duration": 18,
    "start_time": "2023-08-31T10:56:55.081Z"
   },
   {
    "duration": 9,
    "start_time": "2023-08-31T10:56:55.103Z"
   },
   {
    "duration": 10,
    "start_time": "2023-08-31T10:56:55.113Z"
   },
   {
    "duration": 14,
    "start_time": "2023-08-31T10:56:55.125Z"
   },
   {
    "duration": 25,
    "start_time": "2023-08-31T10:56:55.140Z"
   },
   {
    "duration": 27,
    "start_time": "2023-08-31T10:56:55.167Z"
   },
   {
    "duration": 21,
    "start_time": "2023-08-31T10:56:55.196Z"
   },
   {
    "duration": 1072,
    "start_time": "2023-08-31T10:56:55.219Z"
   },
   {
    "duration": 1583,
    "start_time": "2023-08-31T10:56:56.293Z"
   },
   {
    "duration": 13074,
    "start_time": "2023-08-31T10:56:57.878Z"
   },
   {
    "duration": 15100,
    "start_time": "2023-08-31T10:57:10.953Z"
   },
   {
    "duration": 6,
    "start_time": "2023-08-31T10:57:57.667Z"
   },
   {
    "duration": 17,
    "start_time": "2023-08-31T10:57:57.676Z"
   },
   {
    "duration": 33,
    "start_time": "2023-08-31T10:57:57.696Z"
   },
   {
    "duration": 11,
    "start_time": "2023-08-31T10:57:57.731Z"
   },
   {
    "duration": 19,
    "start_time": "2023-08-31T10:57:57.744Z"
   },
   {
    "duration": 11,
    "start_time": "2023-08-31T10:57:57.765Z"
   },
   {
    "duration": 13,
    "start_time": "2023-08-31T10:57:57.778Z"
   },
   {
    "duration": 1089,
    "start_time": "2023-08-31T10:57:57.793Z"
   },
   {
    "duration": 6,
    "start_time": "2023-08-31T10:57:58.883Z"
   },
   {
    "duration": 8,
    "start_time": "2023-08-31T10:57:58.890Z"
   },
   {
    "duration": 17,
    "start_time": "2023-08-31T10:57:58.900Z"
   },
   {
    "duration": 193,
    "start_time": "2023-08-31T10:57:58.918Z"
   },
   {
    "duration": 6,
    "start_time": "2023-08-31T10:57:59.112Z"
   },
   {
    "duration": 13,
    "start_time": "2023-08-31T10:57:59.121Z"
   },
   {
    "duration": 186,
    "start_time": "2023-08-31T10:57:59.147Z"
   },
   {
    "duration": 5,
    "start_time": "2023-08-31T10:57:59.335Z"
   },
   {
    "duration": 16,
    "start_time": "2023-08-31T10:57:59.353Z"
   },
   {
    "duration": 324,
    "start_time": "2023-08-31T10:57:59.374Z"
   },
   {
    "duration": 6,
    "start_time": "2023-08-31T10:57:59.700Z"
   },
   {
    "duration": 167,
    "start_time": "2023-08-31T10:57:59.708Z"
   },
   {
    "duration": 160,
    "start_time": "2023-08-31T10:57:59.878Z"
   },
   {
    "duration": 16,
    "start_time": "2023-08-31T10:58:00.040Z"
   },
   {
    "duration": 21,
    "start_time": "2023-08-31T10:58:00.057Z"
   },
   {
    "duration": 24,
    "start_time": "2023-08-31T10:58:00.080Z"
   },
   {
    "duration": 31,
    "start_time": "2023-08-31T10:58:00.105Z"
   },
   {
    "duration": 35,
    "start_time": "2023-08-31T10:58:00.137Z"
   },
   {
    "duration": 23,
    "start_time": "2023-08-31T10:58:00.174Z"
   },
   {
    "duration": 56,
    "start_time": "2023-08-31T10:58:00.199Z"
   },
   {
    "duration": 41,
    "start_time": "2023-08-31T10:58:00.257Z"
   },
   {
    "duration": 56,
    "start_time": "2023-08-31T10:58:00.299Z"
   },
   {
    "duration": 45,
    "start_time": "2023-08-31T10:58:00.357Z"
   },
   {
    "duration": 35,
    "start_time": "2023-08-31T10:58:00.404Z"
   },
   {
    "duration": 82,
    "start_time": "2023-08-31T10:58:00.440Z"
   },
   {
    "duration": 241,
    "start_time": "2023-08-31T10:58:00.524Z"
   },
   {
    "duration": 30,
    "start_time": "2023-08-31T10:58:00.767Z"
   },
   {
    "duration": 36,
    "start_time": "2023-08-31T10:58:00.799Z"
   },
   {
    "duration": 45,
    "start_time": "2023-08-31T10:58:00.837Z"
   },
   {
    "duration": 57,
    "start_time": "2023-08-31T10:58:00.884Z"
   },
   {
    "duration": 48,
    "start_time": "2023-08-31T10:58:00.943Z"
   },
   {
    "duration": 71,
    "start_time": "2023-08-31T10:58:00.993Z"
   },
   {
    "duration": 16,
    "start_time": "2023-08-31T10:58:01.072Z"
   },
   {
    "duration": 28,
    "start_time": "2023-08-31T10:58:01.089Z"
   },
   {
    "duration": 44,
    "start_time": "2023-08-31T10:58:01.119Z"
   },
   {
    "duration": 37,
    "start_time": "2023-08-31T10:58:01.165Z"
   },
   {
    "duration": 73,
    "start_time": "2023-08-31T10:58:01.204Z"
   },
   {
    "duration": 25,
    "start_time": "2023-08-31T10:58:01.279Z"
   },
   {
    "duration": 1073,
    "start_time": "2023-08-31T10:58:01.306Z"
   },
   {
    "duration": 1618,
    "start_time": "2023-08-31T10:58:02.381Z"
   },
   {
    "duration": 12984,
    "start_time": "2023-08-31T10:58:04.000Z"
   },
   {
    "duration": 14675,
    "start_time": "2023-08-31T10:58:16.987Z"
   },
   {
    "duration": 4,
    "start_time": "2023-08-31T10:59:12.071Z"
   },
   {
    "duration": 6,
    "start_time": "2023-08-31T10:59:12.077Z"
   },
   {
    "duration": 34,
    "start_time": "2023-08-31T10:59:12.084Z"
   },
   {
    "duration": 11,
    "start_time": "2023-08-31T10:59:12.120Z"
   },
   {
    "duration": 23,
    "start_time": "2023-08-31T10:59:12.134Z"
   },
   {
    "duration": 14,
    "start_time": "2023-08-31T10:59:12.170Z"
   },
   {
    "duration": 25,
    "start_time": "2023-08-31T10:59:12.186Z"
   },
   {
    "duration": 1089,
    "start_time": "2023-08-31T10:59:12.213Z"
   },
   {
    "duration": 6,
    "start_time": "2023-08-31T10:59:13.303Z"
   },
   {
    "duration": 10,
    "start_time": "2023-08-31T10:59:13.311Z"
   },
   {
    "duration": 14,
    "start_time": "2023-08-31T10:59:13.323Z"
   },
   {
    "duration": 177,
    "start_time": "2023-08-31T10:59:13.347Z"
   },
   {
    "duration": 5,
    "start_time": "2023-08-31T10:59:13.525Z"
   },
   {
    "duration": 27,
    "start_time": "2023-08-31T10:59:13.533Z"
   },
   {
    "duration": 167,
    "start_time": "2023-08-31T10:59:13.564Z"
   },
   {
    "duration": 5,
    "start_time": "2023-08-31T10:59:13.732Z"
   },
   {
    "duration": 12,
    "start_time": "2023-08-31T10:59:13.754Z"
   },
   {
    "duration": 225,
    "start_time": "2023-08-31T10:59:13.768Z"
   },
   {
    "duration": 5,
    "start_time": "2023-08-31T10:59:13.995Z"
   },
   {
    "duration": 21,
    "start_time": "2023-08-31T10:59:14.002Z"
   },
   {
    "duration": 176,
    "start_time": "2023-08-31T10:59:14.025Z"
   },
   {
    "duration": 5,
    "start_time": "2023-08-31T10:59:14.203Z"
   },
   {
    "duration": 10,
    "start_time": "2023-08-31T10:59:14.209Z"
   },
   {
    "duration": 7,
    "start_time": "2023-08-31T10:59:14.220Z"
   },
   {
    "duration": 28,
    "start_time": "2023-08-31T10:59:14.228Z"
   },
   {
    "duration": 6,
    "start_time": "2023-08-31T10:59:14.257Z"
   },
   {
    "duration": 7,
    "start_time": "2023-08-31T10:59:14.265Z"
   },
   {
    "duration": 5,
    "start_time": "2023-08-31T10:59:14.274Z"
   },
   {
    "duration": 11,
    "start_time": "2023-08-31T10:59:14.281Z"
   },
   {
    "duration": 5,
    "start_time": "2023-08-31T10:59:14.293Z"
   },
   {
    "duration": 20,
    "start_time": "2023-08-31T10:59:14.300Z"
   },
   {
    "duration": 34,
    "start_time": "2023-08-31T10:59:14.322Z"
   },
   {
    "duration": 22,
    "start_time": "2023-08-31T10:59:14.359Z"
   },
   {
    "duration": 11,
    "start_time": "2023-08-31T10:59:14.383Z"
   },
   {
    "duration": 10,
    "start_time": "2023-08-31T10:59:14.395Z"
   },
   {
    "duration": 17,
    "start_time": "2023-08-31T10:59:14.407Z"
   },
   {
    "duration": 7,
    "start_time": "2023-08-31T10:59:14.426Z"
   },
   {
    "duration": 5,
    "start_time": "2023-08-31T10:59:14.434Z"
   },
   {
    "duration": 8,
    "start_time": "2023-08-31T10:59:14.441Z"
   },
   {
    "duration": 8,
    "start_time": "2023-08-31T10:59:14.456Z"
   },
   {
    "duration": 4,
    "start_time": "2023-08-31T10:59:14.470Z"
   },
   {
    "duration": 5,
    "start_time": "2023-08-31T10:59:14.476Z"
   },
   {
    "duration": 5,
    "start_time": "2023-08-31T10:59:14.483Z"
   },
   {
    "duration": 5,
    "start_time": "2023-08-31T10:59:14.490Z"
   },
   {
    "duration": 5,
    "start_time": "2023-08-31T10:59:14.496Z"
   },
   {
    "duration": 27,
    "start_time": "2023-08-31T10:59:14.503Z"
   },
   {
    "duration": 985,
    "start_time": "2023-08-31T10:59:14.532Z"
   },
   {
    "duration": 1655,
    "start_time": "2023-08-31T10:59:15.519Z"
   },
   {
    "duration": 12704,
    "start_time": "2023-08-31T10:59:17.176Z"
   },
   {
    "duration": 14904,
    "start_time": "2023-08-31T10:59:29.881Z"
   },
   {
    "duration": 4,
    "start_time": "2023-08-31T11:00:38.431Z"
   },
   {
    "duration": 14,
    "start_time": "2023-08-31T11:00:38.437Z"
   },
   {
    "duration": 36,
    "start_time": "2023-08-31T11:00:38.453Z"
   },
   {
    "duration": 11,
    "start_time": "2023-08-31T11:00:38.491Z"
   },
   {
    "duration": 22,
    "start_time": "2023-08-31T11:00:38.504Z"
   },
   {
    "duration": 14,
    "start_time": "2023-08-31T11:00:38.528Z"
   },
   {
    "duration": 18,
    "start_time": "2023-08-31T11:00:38.544Z"
   },
   {
    "duration": 1187,
    "start_time": "2023-08-31T11:00:38.565Z"
   },
   {
    "duration": 7,
    "start_time": "2023-08-31T11:00:39.757Z"
   },
   {
    "duration": 6,
    "start_time": "2023-08-31T11:00:39.766Z"
   },
   {
    "duration": 14,
    "start_time": "2023-08-31T11:00:39.775Z"
   },
   {
    "duration": 194,
    "start_time": "2023-08-31T11:00:39.791Z"
   },
   {
    "duration": 5,
    "start_time": "2023-08-31T11:00:39.988Z"
   },
   {
    "duration": 34,
    "start_time": "2023-08-31T11:00:39.995Z"
   },
   {
    "duration": 192,
    "start_time": "2023-08-31T11:00:40.031Z"
   },
   {
    "duration": 5,
    "start_time": "2023-08-31T11:00:40.224Z"
   },
   {
    "duration": 32,
    "start_time": "2023-08-31T11:00:40.231Z"
   },
   {
    "duration": 217,
    "start_time": "2023-08-31T11:00:40.265Z"
   },
   {
    "duration": 5,
    "start_time": "2023-08-31T11:00:40.484Z"
   },
   {
    "duration": 18,
    "start_time": "2023-08-31T11:00:40.491Z"
   },
   {
    "duration": 178,
    "start_time": "2023-08-31T11:00:40.511Z"
   },
   {
    "duration": 5,
    "start_time": "2023-08-31T11:00:40.691Z"
   },
   {
    "duration": 22,
    "start_time": "2023-08-31T11:00:40.697Z"
   },
   {
    "duration": 37,
    "start_time": "2023-08-31T11:00:40.720Z"
   },
   {
    "duration": 19,
    "start_time": "2023-08-31T11:00:40.759Z"
   },
   {
    "duration": 27,
    "start_time": "2023-08-31T11:00:40.779Z"
   },
   {
    "duration": 68,
    "start_time": "2023-08-31T11:00:40.807Z"
   },
   {
    "duration": 75,
    "start_time": "2023-08-31T11:00:40.877Z"
   },
   {
    "duration": 58,
    "start_time": "2023-08-31T11:00:40.957Z"
   },
   {
    "duration": 76,
    "start_time": "2023-08-31T11:00:41.017Z"
   },
   {
    "duration": 48,
    "start_time": "2023-08-31T11:00:41.095Z"
   },
   {
    "duration": 45,
    "start_time": "2023-08-31T11:00:41.145Z"
   },
   {
    "duration": 31,
    "start_time": "2023-08-31T11:00:41.193Z"
   },
   {
    "duration": 42,
    "start_time": "2023-08-31T11:00:41.226Z"
   },
   {
    "duration": 32,
    "start_time": "2023-08-31T11:00:41.270Z"
   },
   {
    "duration": 29,
    "start_time": "2023-08-31T11:00:41.304Z"
   },
   {
    "duration": 34,
    "start_time": "2023-08-31T11:00:41.335Z"
   },
   {
    "duration": 30,
    "start_time": "2023-08-31T11:00:41.371Z"
   },
   {
    "duration": 34,
    "start_time": "2023-08-31T11:00:41.403Z"
   },
   {
    "duration": 25,
    "start_time": "2023-08-31T11:00:41.439Z"
   },
   {
    "duration": 29,
    "start_time": "2023-08-31T11:00:41.465Z"
   },
   {
    "duration": 29,
    "start_time": "2023-08-31T11:00:41.496Z"
   },
   {
    "duration": 33,
    "start_time": "2023-08-31T11:00:41.526Z"
   },
   {
    "duration": 27,
    "start_time": "2023-08-31T11:00:41.561Z"
   },
   {
    "duration": 39,
    "start_time": "2023-08-31T11:00:41.590Z"
   },
   {
    "duration": 22,
    "start_time": "2023-08-31T11:00:41.630Z"
   },
   {
    "duration": 1046,
    "start_time": "2023-08-31T11:00:41.654Z"
   },
   {
    "duration": 1599,
    "start_time": "2023-08-31T11:00:42.702Z"
   },
   {
    "duration": 8757,
    "start_time": "2023-08-31T11:00:44.303Z"
   },
   {
    "duration": 11498,
    "start_time": "2023-08-31T11:00:53.064Z"
   },
   {
    "duration": 4,
    "start_time": "2023-08-31T11:03:27.321Z"
   },
   {
    "duration": 15,
    "start_time": "2023-08-31T11:03:27.328Z"
   },
   {
    "duration": 44,
    "start_time": "2023-08-31T11:03:27.345Z"
   },
   {
    "duration": 11,
    "start_time": "2023-08-31T11:03:27.391Z"
   },
   {
    "duration": 24,
    "start_time": "2023-08-31T11:03:27.403Z"
   },
   {
    "duration": 7,
    "start_time": "2023-08-31T11:03:27.429Z"
   },
   {
    "duration": 22,
    "start_time": "2023-08-31T11:03:27.438Z"
   },
   {
    "duration": 1024,
    "start_time": "2023-08-31T11:03:27.462Z"
   },
   {
    "duration": 7,
    "start_time": "2023-08-31T11:03:28.489Z"
   },
   {
    "duration": 129,
    "start_time": "2023-08-31T11:03:28.498Z"
   },
   {
    "duration": 53,
    "start_time": "2023-08-31T11:03:28.628Z"
   },
   {
    "duration": 182,
    "start_time": "2023-08-31T11:03:28.683Z"
   },
   {
    "duration": 6,
    "start_time": "2023-08-31T11:03:28.867Z"
   },
   {
    "duration": 26,
    "start_time": "2023-08-31T11:03:28.875Z"
   },
   {
    "duration": 204,
    "start_time": "2023-08-31T11:03:28.903Z"
   },
   {
    "duration": 5,
    "start_time": "2023-08-31T11:03:29.109Z"
   },
   {
    "duration": 20,
    "start_time": "2023-08-31T11:03:29.115Z"
   },
   {
    "duration": 226,
    "start_time": "2023-08-31T11:03:29.137Z"
   },
   {
    "duration": 5,
    "start_time": "2023-08-31T11:03:29.365Z"
   },
   {
    "duration": 70,
    "start_time": "2023-08-31T11:03:29.372Z"
   },
   {
    "duration": 186,
    "start_time": "2023-08-31T11:03:29.444Z"
   },
   {
    "duration": 5,
    "start_time": "2023-08-31T11:03:29.631Z"
   },
   {
    "duration": 31,
    "start_time": "2023-08-31T11:03:29.638Z"
   },
   {
    "duration": 32,
    "start_time": "2023-08-31T11:03:29.673Z"
   },
   {
    "duration": 53,
    "start_time": "2023-08-31T11:03:29.707Z"
   },
   {
    "duration": 55,
    "start_time": "2023-08-31T11:03:29.763Z"
   },
   {
    "duration": 9,
    "start_time": "2023-08-31T11:03:29.819Z"
   },
   {
    "duration": 30,
    "start_time": "2023-08-31T11:03:29.830Z"
   },
   {
    "duration": 27,
    "start_time": "2023-08-31T11:03:29.862Z"
   },
   {
    "duration": 19,
    "start_time": "2023-08-31T11:03:29.891Z"
   },
   {
    "duration": 27,
    "start_time": "2023-08-31T11:03:29.912Z"
   },
   {
    "duration": 10,
    "start_time": "2023-08-31T11:03:29.941Z"
   },
   {
    "duration": 14,
    "start_time": "2023-08-31T11:03:29.952Z"
   },
   {
    "duration": 89,
    "start_time": "2023-08-31T11:03:29.968Z"
   },
   {
    "duration": 52,
    "start_time": "2023-08-31T11:03:30.059Z"
   },
   {
    "duration": 61,
    "start_time": "2023-08-31T11:03:30.113Z"
   },
   {
    "duration": 50,
    "start_time": "2023-08-31T11:03:30.175Z"
   },
   {
    "duration": 32,
    "start_time": "2023-08-31T11:03:30.227Z"
   },
   {
    "duration": 25,
    "start_time": "2023-08-31T11:03:30.262Z"
   },
   {
    "duration": 53,
    "start_time": "2023-08-31T11:03:30.289Z"
   },
   {
    "duration": 65,
    "start_time": "2023-08-31T11:03:30.344Z"
   },
   {
    "duration": 103,
    "start_time": "2023-08-31T11:03:30.411Z"
   },
   {
    "duration": 41,
    "start_time": "2023-08-31T11:03:30.516Z"
   },
   {
    "duration": 46,
    "start_time": "2023-08-31T11:03:30.560Z"
   },
   {
    "duration": 30,
    "start_time": "2023-08-31T11:03:30.607Z"
   },
   {
    "duration": 38,
    "start_time": "2023-08-31T11:03:30.639Z"
   },
   {
    "duration": 1031,
    "start_time": "2023-08-31T11:03:30.679Z"
   },
   {
    "duration": 1643,
    "start_time": "2023-08-31T11:03:31.712Z"
   },
   {
    "duration": 10508,
    "start_time": "2023-08-31T11:03:33.357Z"
   },
   {
    "duration": 12405,
    "start_time": "2023-08-31T11:03:43.867Z"
   },
   {
    "duration": 4,
    "start_time": "2023-08-31T11:04:48.379Z"
   },
   {
    "duration": 26,
    "start_time": "2023-08-31T11:04:48.385Z"
   },
   {
    "duration": 45,
    "start_time": "2023-08-31T11:04:48.413Z"
   },
   {
    "duration": 16,
    "start_time": "2023-08-31T11:04:48.460Z"
   },
   {
    "duration": 21,
    "start_time": "2023-08-31T11:04:48.478Z"
   },
   {
    "duration": 23,
    "start_time": "2023-08-31T11:04:48.501Z"
   },
   {
    "duration": 9,
    "start_time": "2023-08-31T11:04:48.526Z"
   },
   {
    "duration": 1213,
    "start_time": "2023-08-31T11:04:48.536Z"
   },
   {
    "duration": 6,
    "start_time": "2023-08-31T11:04:49.761Z"
   },
   {
    "duration": 23,
    "start_time": "2023-08-31T11:04:49.769Z"
   },
   {
    "duration": 33,
    "start_time": "2023-08-31T11:04:49.795Z"
   },
   {
    "duration": 178,
    "start_time": "2023-08-31T11:04:49.829Z"
   },
   {
    "duration": 5,
    "start_time": "2023-08-31T11:04:50.009Z"
   },
   {
    "duration": 65,
    "start_time": "2023-08-31T11:04:50.016Z"
   },
   {
    "duration": 191,
    "start_time": "2023-08-31T11:04:50.083Z"
   },
   {
    "duration": 4,
    "start_time": "2023-08-31T11:04:50.276Z"
   },
   {
    "duration": 9,
    "start_time": "2023-08-31T11:04:50.282Z"
   },
   {
    "duration": 219,
    "start_time": "2023-08-31T11:04:50.293Z"
   },
   {
    "duration": 5,
    "start_time": "2023-08-31T11:04:50.514Z"
   },
   {
    "duration": 14,
    "start_time": "2023-08-31T11:04:50.520Z"
   },
   {
    "duration": 168,
    "start_time": "2023-08-31T11:04:50.549Z"
   },
   {
    "duration": 5,
    "start_time": "2023-08-31T11:04:50.718Z"
   },
   {
    "duration": 21,
    "start_time": "2023-08-31T11:04:50.725Z"
   },
   {
    "duration": 33,
    "start_time": "2023-08-31T11:04:50.748Z"
   },
   {
    "duration": 31,
    "start_time": "2023-08-31T11:04:50.783Z"
   },
   {
    "duration": 36,
    "start_time": "2023-08-31T11:04:50.816Z"
   },
   {
    "duration": 40,
    "start_time": "2023-08-31T11:04:50.854Z"
   },
   {
    "duration": 52,
    "start_time": "2023-08-31T11:04:50.896Z"
   },
   {
    "duration": 41,
    "start_time": "2023-08-31T11:04:50.953Z"
   },
   {
    "duration": 41,
    "start_time": "2023-08-31T11:04:50.995Z"
   },
   {
    "duration": 72,
    "start_time": "2023-08-31T11:04:51.037Z"
   },
   {
    "duration": 40,
    "start_time": "2023-08-31T11:04:51.110Z"
   },
   {
    "duration": 34,
    "start_time": "2023-08-31T11:04:51.153Z"
   },
   {
    "duration": 14,
    "start_time": "2023-08-31T11:04:51.189Z"
   },
   {
    "duration": 17,
    "start_time": "2023-08-31T11:04:51.204Z"
   },
   {
    "duration": 24,
    "start_time": "2023-08-31T11:04:51.222Z"
   },
   {
    "duration": 28,
    "start_time": "2023-08-31T11:04:51.247Z"
   },
   {
    "duration": 45,
    "start_time": "2023-08-31T11:04:51.277Z"
   },
   {
    "duration": 20,
    "start_time": "2023-08-31T11:04:51.323Z"
   },
   {
    "duration": 68,
    "start_time": "2023-08-31T11:04:51.348Z"
   },
   {
    "duration": 34,
    "start_time": "2023-08-31T11:04:51.418Z"
   },
   {
    "duration": 34,
    "start_time": "2023-08-31T11:04:51.457Z"
   },
   {
    "duration": 34,
    "start_time": "2023-08-31T11:04:51.493Z"
   },
   {
    "duration": 48,
    "start_time": "2023-08-31T11:04:51.528Z"
   },
   {
    "duration": 69,
    "start_time": "2023-08-31T11:04:51.578Z"
   },
   {
    "duration": 63,
    "start_time": "2023-08-31T11:04:51.649Z"
   },
   {
    "duration": 1147,
    "start_time": "2023-08-31T11:04:51.714Z"
   },
   {
    "duration": 1876,
    "start_time": "2023-08-31T11:04:52.863Z"
   },
   {
    "duration": 9931,
    "start_time": "2023-08-31T11:04:54.741Z"
   },
   {
    "duration": 12575,
    "start_time": "2023-08-31T11:05:04.673Z"
   },
   {
    "duration": 4,
    "start_time": "2023-08-31T11:05:54.367Z"
   },
   {
    "duration": 19,
    "start_time": "2023-08-31T11:05:54.373Z"
   },
   {
    "duration": 34,
    "start_time": "2023-08-31T11:05:54.395Z"
   },
   {
    "duration": 11,
    "start_time": "2023-08-31T11:05:54.431Z"
   },
   {
    "duration": 28,
    "start_time": "2023-08-31T11:05:54.444Z"
   },
   {
    "duration": 15,
    "start_time": "2023-08-31T11:05:54.474Z"
   },
   {
    "duration": 17,
    "start_time": "2023-08-31T11:05:54.491Z"
   },
   {
    "duration": 1067,
    "start_time": "2023-08-31T11:05:54.510Z"
   },
   {
    "duration": 8,
    "start_time": "2023-08-31T11:05:55.580Z"
   },
   {
    "duration": 8,
    "start_time": "2023-08-31T11:05:55.590Z"
   },
   {
    "duration": 21,
    "start_time": "2023-08-31T11:05:55.602Z"
   },
   {
    "duration": 183,
    "start_time": "2023-08-31T11:05:55.625Z"
   },
   {
    "duration": 5,
    "start_time": "2023-08-31T11:05:55.811Z"
   },
   {
    "duration": 20,
    "start_time": "2023-08-31T11:05:55.818Z"
   },
   {
    "duration": 208,
    "start_time": "2023-08-31T11:05:55.847Z"
   },
   {
    "duration": 8,
    "start_time": "2023-08-31T11:05:56.056Z"
   },
   {
    "duration": 33,
    "start_time": "2023-08-31T11:05:56.066Z"
   },
   {
    "duration": 213,
    "start_time": "2023-08-31T11:05:56.101Z"
   },
   {
    "duration": 4,
    "start_time": "2023-08-31T11:05:56.316Z"
   },
   {
    "duration": 17,
    "start_time": "2023-08-31T11:05:56.322Z"
   },
   {
    "duration": 175,
    "start_time": "2023-08-31T11:05:56.347Z"
   },
   {
    "duration": 5,
    "start_time": "2023-08-31T11:05:56.524Z"
   },
   {
    "duration": 37,
    "start_time": "2023-08-31T11:05:56.531Z"
   },
   {
    "duration": 43,
    "start_time": "2023-08-31T11:05:56.571Z"
   },
   {
    "duration": 30,
    "start_time": "2023-08-31T11:05:56.616Z"
   },
   {
    "duration": 114,
    "start_time": "2023-08-31T11:05:56.647Z"
   },
   {
    "duration": 53,
    "start_time": "2023-08-31T11:05:56.763Z"
   },
   {
    "duration": 17,
    "start_time": "2023-08-31T11:05:56.818Z"
   },
   {
    "duration": 25,
    "start_time": "2023-08-31T11:05:56.839Z"
   },
   {
    "duration": 8,
    "start_time": "2023-08-31T11:05:56.866Z"
   },
   {
    "duration": 24,
    "start_time": "2023-08-31T11:05:56.876Z"
   },
   {
    "duration": 27,
    "start_time": "2023-08-31T11:05:56.902Z"
   },
   {
    "duration": 11,
    "start_time": "2023-08-31T11:05:56.931Z"
   },
   {
    "duration": 35,
    "start_time": "2023-08-31T11:05:56.944Z"
   },
   {
    "duration": 5,
    "start_time": "2023-08-31T11:05:56.981Z"
   },
   {
    "duration": 18,
    "start_time": "2023-08-31T11:05:56.988Z"
   },
   {
    "duration": 11,
    "start_time": "2023-08-31T11:05:57.008Z"
   },
   {
    "duration": 8,
    "start_time": "2023-08-31T11:05:57.020Z"
   },
   {
    "duration": 5,
    "start_time": "2023-08-31T11:05:57.029Z"
   },
   {
    "duration": 12,
    "start_time": "2023-08-31T11:05:57.036Z"
   },
   {
    "duration": 14,
    "start_time": "2023-08-31T11:05:57.052Z"
   },
   {
    "duration": 5,
    "start_time": "2023-08-31T11:05:57.067Z"
   },
   {
    "duration": 8,
    "start_time": "2023-08-31T11:05:57.073Z"
   },
   {
    "duration": 16,
    "start_time": "2023-08-31T11:05:57.083Z"
   },
   {
    "duration": 13,
    "start_time": "2023-08-31T11:05:57.100Z"
   },
   {
    "duration": 20,
    "start_time": "2023-08-31T11:05:57.115Z"
   },
   {
    "duration": 2280,
    "start_time": "2023-08-31T11:05:57.137Z"
   },
   {
    "duration": 3714,
    "start_time": "2023-08-31T11:05:59.418Z"
   },
   {
    "duration": 21931,
    "start_time": "2023-08-31T11:06:03.133Z"
   },
   {
    "duration": 25803,
    "start_time": "2023-08-31T11:06:25.066Z"
   },
   {
    "duration": 5,
    "start_time": "2023-08-31T11:07:17.915Z"
   },
   {
    "duration": 15,
    "start_time": "2023-08-31T11:07:17.922Z"
   },
   {
    "duration": 48,
    "start_time": "2023-08-31T11:07:17.939Z"
   },
   {
    "duration": 10,
    "start_time": "2023-08-31T11:07:17.989Z"
   },
   {
    "duration": 22,
    "start_time": "2023-08-31T11:07:18.001Z"
   },
   {
    "duration": 12,
    "start_time": "2023-08-31T11:07:18.025Z"
   },
   {
    "duration": 11,
    "start_time": "2023-08-31T11:07:18.039Z"
   },
   {
    "duration": 1034,
    "start_time": "2023-08-31T11:07:18.056Z"
   },
   {
    "duration": 7,
    "start_time": "2023-08-31T11:07:19.093Z"
   },
   {
    "duration": 9,
    "start_time": "2023-08-31T11:07:19.101Z"
   },
   {
    "duration": 10,
    "start_time": "2023-08-31T11:07:19.112Z"
   },
   {
    "duration": 176,
    "start_time": "2023-08-31T11:07:19.146Z"
   },
   {
    "duration": 5,
    "start_time": "2023-08-31T11:07:19.324Z"
   },
   {
    "duration": 20,
    "start_time": "2023-08-31T11:07:19.333Z"
   },
   {
    "duration": 167,
    "start_time": "2023-08-31T11:07:19.358Z"
   },
   {
    "duration": 6,
    "start_time": "2023-08-31T11:07:19.527Z"
   },
   {
    "duration": 31,
    "start_time": "2023-08-31T11:07:19.534Z"
   },
   {
    "duration": 189,
    "start_time": "2023-08-31T11:07:19.566Z"
   },
   {
    "duration": 7,
    "start_time": "2023-08-31T11:07:19.759Z"
   },
   {
    "duration": 14,
    "start_time": "2023-08-31T11:07:19.767Z"
   },
   {
    "duration": 412,
    "start_time": "2023-08-31T11:07:19.782Z"
   },
   {
    "duration": 5,
    "start_time": "2023-08-31T11:07:20.195Z"
   },
   {
    "duration": 17,
    "start_time": "2023-08-31T11:07:20.201Z"
   },
   {
    "duration": 25,
    "start_time": "2023-08-31T11:07:20.220Z"
   },
   {
    "duration": 11,
    "start_time": "2023-08-31T11:07:20.246Z"
   },
   {
    "duration": 15,
    "start_time": "2023-08-31T11:07:20.260Z"
   },
   {
    "duration": 15,
    "start_time": "2023-08-31T11:07:20.277Z"
   },
   {
    "duration": 27,
    "start_time": "2023-08-31T11:07:20.294Z"
   },
   {
    "duration": 27,
    "start_time": "2023-08-31T11:07:20.323Z"
   },
   {
    "duration": 22,
    "start_time": "2023-08-31T11:07:20.353Z"
   },
   {
    "duration": 34,
    "start_time": "2023-08-31T11:07:20.376Z"
   },
   {
    "duration": 50,
    "start_time": "2023-08-31T11:07:20.412Z"
   },
   {
    "duration": 29,
    "start_time": "2023-08-31T11:07:20.464Z"
   },
   {
    "duration": 25,
    "start_time": "2023-08-31T11:07:20.495Z"
   },
   {
    "duration": 43,
    "start_time": "2023-08-31T11:07:20.522Z"
   },
   {
    "duration": 21,
    "start_time": "2023-08-31T11:07:20.567Z"
   },
   {
    "duration": 20,
    "start_time": "2023-08-31T11:07:20.589Z"
   },
   {
    "duration": 23,
    "start_time": "2023-08-31T11:07:20.610Z"
   },
   {
    "duration": 10,
    "start_time": "2023-08-31T11:07:20.635Z"
   },
   {
    "duration": 13,
    "start_time": "2023-08-31T11:07:20.647Z"
   },
   {
    "duration": 15,
    "start_time": "2023-08-31T11:07:20.664Z"
   },
   {
    "duration": 10,
    "start_time": "2023-08-31T11:07:20.681Z"
   },
   {
    "duration": 14,
    "start_time": "2023-08-31T11:07:20.693Z"
   },
   {
    "duration": 13,
    "start_time": "2023-08-31T11:07:20.709Z"
   },
   {
    "duration": 18,
    "start_time": "2023-08-31T11:07:20.724Z"
   },
   {
    "duration": 18,
    "start_time": "2023-08-31T11:07:20.744Z"
   },
   {
    "duration": 5790,
    "start_time": "2023-08-31T11:07:20.765Z"
   },
   {
    "duration": 14609,
    "start_time": "2023-08-31T11:07:26.561Z"
   },
   {
    "duration": 34699,
    "start_time": "2023-08-31T11:07:41.172Z"
   },
   {
    "duration": 37093,
    "start_time": "2023-08-31T11:08:15.873Z"
   },
   {
    "duration": 4,
    "start_time": "2023-08-31T11:11:14.407Z"
   },
   {
    "duration": 7,
    "start_time": "2023-08-31T11:11:14.413Z"
   },
   {
    "duration": 41,
    "start_time": "2023-08-31T11:11:14.422Z"
   },
   {
    "duration": 11,
    "start_time": "2023-08-31T11:11:14.466Z"
   },
   {
    "duration": 23,
    "start_time": "2023-08-31T11:11:14.480Z"
   },
   {
    "duration": 16,
    "start_time": "2023-08-31T11:11:14.505Z"
   },
   {
    "duration": 14,
    "start_time": "2023-08-31T11:11:14.523Z"
   },
   {
    "duration": 1039,
    "start_time": "2023-08-31T11:11:14.547Z"
   },
   {
    "duration": 7,
    "start_time": "2023-08-31T11:11:15.588Z"
   },
   {
    "duration": 7,
    "start_time": "2023-08-31T11:11:15.597Z"
   },
   {
    "duration": 19,
    "start_time": "2023-08-31T11:11:15.607Z"
   },
   {
    "duration": 227,
    "start_time": "2023-08-31T11:11:15.650Z"
   },
   {
    "duration": 6,
    "start_time": "2023-08-31T11:11:15.880Z"
   },
   {
    "duration": 21,
    "start_time": "2023-08-31T11:11:15.889Z"
   },
   {
    "duration": 214,
    "start_time": "2023-08-31T11:11:15.913Z"
   },
   {
    "duration": 7,
    "start_time": "2023-08-31T11:11:16.129Z"
   },
   {
    "duration": 30,
    "start_time": "2023-08-31T11:11:16.138Z"
   },
   {
    "duration": 195,
    "start_time": "2023-08-31T11:11:16.170Z"
   },
   {
    "duration": 5,
    "start_time": "2023-08-31T11:11:16.367Z"
   },
   {
    "duration": 9,
    "start_time": "2023-08-31T11:11:16.375Z"
   },
   {
    "duration": 178,
    "start_time": "2023-08-31T11:11:16.386Z"
   },
   {
    "duration": 6,
    "start_time": "2023-08-31T11:11:16.566Z"
   },
   {
    "duration": 37,
    "start_time": "2023-08-31T11:11:16.574Z"
   },
   {
    "duration": 17,
    "start_time": "2023-08-31T11:11:16.612Z"
   },
   {
    "duration": 15,
    "start_time": "2023-08-31T11:11:16.631Z"
   },
   {
    "duration": 21,
    "start_time": "2023-08-31T11:11:16.652Z"
   },
   {
    "duration": 17,
    "start_time": "2023-08-31T11:11:16.674Z"
   },
   {
    "duration": 8,
    "start_time": "2023-08-31T11:11:16.692Z"
   },
   {
    "duration": 18,
    "start_time": "2023-08-31T11:11:16.705Z"
   },
   {
    "duration": 18,
    "start_time": "2023-08-31T11:11:16.725Z"
   },
   {
    "duration": 29,
    "start_time": "2023-08-31T11:11:16.745Z"
   },
   {
    "duration": 6,
    "start_time": "2023-08-31T11:11:16.776Z"
   },
   {
    "duration": 6,
    "start_time": "2023-08-31T11:11:16.783Z"
   },
   {
    "duration": 22,
    "start_time": "2023-08-31T11:11:16.791Z"
   },
   {
    "duration": 10,
    "start_time": "2023-08-31T11:11:16.815Z"
   },
   {
    "duration": 11,
    "start_time": "2023-08-31T11:11:16.826Z"
   },
   {
    "duration": 35,
    "start_time": "2023-08-31T11:11:16.839Z"
   },
   {
    "duration": 18,
    "start_time": "2023-08-31T11:11:16.876Z"
   },
   {
    "duration": 7,
    "start_time": "2023-08-31T11:11:16.896Z"
   },
   {
    "duration": 6,
    "start_time": "2023-08-31T11:11:16.905Z"
   },
   {
    "duration": 6,
    "start_time": "2023-08-31T11:11:16.913Z"
   },
   {
    "duration": 11,
    "start_time": "2023-08-31T11:11:16.920Z"
   },
   {
    "duration": 12,
    "start_time": "2023-08-31T11:11:16.932Z"
   },
   {
    "duration": 19,
    "start_time": "2023-08-31T11:11:16.945Z"
   },
   {
    "duration": 31,
    "start_time": "2023-08-31T11:11:16.966Z"
   },
   {
    "duration": 65,
    "start_time": "2023-08-31T11:11:16.999Z"
   },
   {
    "duration": 5500,
    "start_time": "2023-08-31T11:11:17.065Z"
   },
   {
    "duration": 14806,
    "start_time": "2023-08-31T11:11:22.567Z"
   },
   {
    "duration": 36581,
    "start_time": "2023-08-31T11:11:37.375Z"
   },
   {
    "duration": 44497,
    "start_time": "2023-08-31T11:12:13.960Z"
   },
   {
    "duration": 5,
    "start_time": "2023-08-31T11:13:48.725Z"
   },
   {
    "duration": 7,
    "start_time": "2023-08-31T11:13:48.732Z"
   },
   {
    "duration": 45,
    "start_time": "2023-08-31T11:13:48.741Z"
   },
   {
    "duration": 11,
    "start_time": "2023-08-31T11:13:48.788Z"
   },
   {
    "duration": 16,
    "start_time": "2023-08-31T11:13:48.802Z"
   },
   {
    "duration": 18,
    "start_time": "2023-08-31T11:13:48.820Z"
   },
   {
    "duration": 20,
    "start_time": "2023-08-31T11:13:48.840Z"
   },
   {
    "duration": 1106,
    "start_time": "2023-08-31T11:13:48.866Z"
   },
   {
    "duration": 6,
    "start_time": "2023-08-31T11:13:49.975Z"
   },
   {
    "duration": 10,
    "start_time": "2023-08-31T11:13:49.982Z"
   },
   {
    "duration": 9,
    "start_time": "2023-08-31T11:13:49.995Z"
   },
   {
    "duration": 211,
    "start_time": "2023-08-31T11:13:50.006Z"
   },
   {
    "duration": 5,
    "start_time": "2023-08-31T11:13:50.219Z"
   },
   {
    "duration": 31,
    "start_time": "2023-08-31T11:13:50.226Z"
   },
   {
    "duration": 209,
    "start_time": "2023-08-31T11:13:50.262Z"
   },
   {
    "duration": 5,
    "start_time": "2023-08-31T11:13:50.473Z"
   },
   {
    "duration": 31,
    "start_time": "2023-08-31T11:13:50.480Z"
   },
   {
    "duration": 212,
    "start_time": "2023-08-31T11:13:50.513Z"
   },
   {
    "duration": 5,
    "start_time": "2023-08-31T11:13:50.727Z"
   },
   {
    "duration": 23,
    "start_time": "2023-08-31T11:13:50.734Z"
   },
   {
    "duration": 187,
    "start_time": "2023-08-31T11:13:50.761Z"
   },
   {
    "duration": 9,
    "start_time": "2023-08-31T11:13:50.953Z"
   },
   {
    "duration": 20,
    "start_time": "2023-08-31T11:13:50.965Z"
   },
   {
    "duration": 10,
    "start_time": "2023-08-31T11:13:50.987Z"
   },
   {
    "duration": 43,
    "start_time": "2023-08-31T11:13:50.998Z"
   },
   {
    "duration": 22,
    "start_time": "2023-08-31T11:13:51.042Z"
   },
   {
    "duration": 27,
    "start_time": "2023-08-31T11:13:51.065Z"
   },
   {
    "duration": 19,
    "start_time": "2023-08-31T11:13:51.093Z"
   },
   {
    "duration": 24,
    "start_time": "2023-08-31T11:13:51.116Z"
   },
   {
    "duration": 16,
    "start_time": "2023-08-31T11:13:51.142Z"
   },
   {
    "duration": 33,
    "start_time": "2023-08-31T11:13:51.162Z"
   },
   {
    "duration": 6,
    "start_time": "2023-08-31T11:13:51.197Z"
   },
   {
    "duration": 13,
    "start_time": "2023-08-31T11:13:51.204Z"
   },
   {
    "duration": 10,
    "start_time": "2023-08-31T11:13:51.219Z"
   },
   {
    "duration": 5,
    "start_time": "2023-08-31T11:13:51.231Z"
   },
   {
    "duration": 17,
    "start_time": "2023-08-31T11:13:51.237Z"
   },
   {
    "duration": 7,
    "start_time": "2023-08-31T11:13:51.260Z"
   },
   {
    "duration": 33,
    "start_time": "2023-08-31T11:13:51.270Z"
   },
   {
    "duration": 51,
    "start_time": "2023-08-31T11:13:51.306Z"
   },
   {
    "duration": 15,
    "start_time": "2023-08-31T11:13:51.358Z"
   },
   {
    "duration": 18,
    "start_time": "2023-08-31T11:13:51.375Z"
   },
   {
    "duration": 5,
    "start_time": "2023-08-31T11:13:51.396Z"
   },
   {
    "duration": 6,
    "start_time": "2023-08-31T11:13:51.403Z"
   },
   {
    "duration": 6,
    "start_time": "2023-08-31T11:13:51.411Z"
   },
   {
    "duration": 25,
    "start_time": "2023-08-31T11:13:51.419Z"
   },
   {
    "duration": 23,
    "start_time": "2023-08-31T11:13:51.446Z"
   },
   {
    "duration": 6288,
    "start_time": "2023-08-31T11:13:51.471Z"
   },
   {
    "duration": 16621,
    "start_time": "2023-08-31T11:13:57.763Z"
   },
   {
    "duration": 41708,
    "start_time": "2023-08-31T11:14:14.449Z"
   },
   {
    "duration": 41808,
    "start_time": "2023-08-31T11:14:56.166Z"
   },
   {
    "duration": 5,
    "start_time": "2023-08-31T11:16:19.886Z"
   },
   {
    "duration": 14,
    "start_time": "2023-08-31T11:16:19.893Z"
   },
   {
    "duration": 29,
    "start_time": "2023-08-31T11:16:19.908Z"
   },
   {
    "duration": 23,
    "start_time": "2023-08-31T11:16:19.940Z"
   },
   {
    "duration": 15,
    "start_time": "2023-08-31T11:16:19.966Z"
   },
   {
    "duration": 19,
    "start_time": "2023-08-31T11:16:19.984Z"
   },
   {
    "duration": 23,
    "start_time": "2023-08-31T11:16:20.005Z"
   },
   {
    "duration": 1180,
    "start_time": "2023-08-31T11:16:20.030Z"
   },
   {
    "duration": 6,
    "start_time": "2023-08-31T11:16:21.213Z"
   },
   {
    "duration": 30,
    "start_time": "2023-08-31T11:16:21.220Z"
   },
   {
    "duration": 49,
    "start_time": "2023-08-31T11:16:21.260Z"
   },
   {
    "duration": 186,
    "start_time": "2023-08-31T11:16:21.310Z"
   },
   {
    "duration": 5,
    "start_time": "2023-08-31T11:16:21.498Z"
   },
   {
    "duration": 20,
    "start_time": "2023-08-31T11:16:21.505Z"
   },
   {
    "duration": 199,
    "start_time": "2023-08-31T11:16:21.527Z"
   },
   {
    "duration": 5,
    "start_time": "2023-08-31T11:16:21.728Z"
   },
   {
    "duration": 25,
    "start_time": "2023-08-31T11:16:21.735Z"
   },
   {
    "duration": 506,
    "start_time": "2023-08-31T11:16:21.761Z"
   },
   {
    "duration": 5,
    "start_time": "2023-08-31T11:16:22.269Z"
   },
   {
    "duration": 30,
    "start_time": "2023-08-31T11:16:22.276Z"
   },
   {
    "duration": 210,
    "start_time": "2023-08-31T11:16:22.308Z"
   },
   {
    "duration": 6,
    "start_time": "2023-08-31T11:16:22.519Z"
   },
   {
    "duration": 46,
    "start_time": "2023-08-31T11:16:22.526Z"
   },
   {
    "duration": 11,
    "start_time": "2023-08-31T11:16:22.576Z"
   },
   {
    "duration": 26,
    "start_time": "2023-08-31T11:16:22.589Z"
   },
   {
    "duration": 12,
    "start_time": "2023-08-31T11:16:22.617Z"
   },
   {
    "duration": 20,
    "start_time": "2023-08-31T11:16:22.630Z"
   },
   {
    "duration": 13,
    "start_time": "2023-08-31T11:16:22.653Z"
   },
   {
    "duration": 17,
    "start_time": "2023-08-31T11:16:22.668Z"
   },
   {
    "duration": 15,
    "start_time": "2023-08-31T11:16:22.688Z"
   },
   {
    "duration": 27,
    "start_time": "2023-08-31T11:16:22.705Z"
   },
   {
    "duration": 17,
    "start_time": "2023-08-31T11:16:22.734Z"
   },
   {
    "duration": 14,
    "start_time": "2023-08-31T11:16:22.753Z"
   },
   {
    "duration": 7,
    "start_time": "2023-08-31T11:16:22.769Z"
   },
   {
    "duration": 7,
    "start_time": "2023-08-31T11:16:22.778Z"
   },
   {
    "duration": 26,
    "start_time": "2023-08-31T11:16:22.787Z"
   },
   {
    "duration": 18,
    "start_time": "2023-08-31T11:16:22.815Z"
   },
   {
    "duration": 8,
    "start_time": "2023-08-31T11:16:22.835Z"
   },
   {
    "duration": 14,
    "start_time": "2023-08-31T11:16:22.845Z"
   },
   {
    "duration": 5,
    "start_time": "2023-08-31T11:16:22.861Z"
   },
   {
    "duration": 8,
    "start_time": "2023-08-31T11:16:22.867Z"
   },
   {
    "duration": 11,
    "start_time": "2023-08-31T11:16:22.876Z"
   },
   {
    "duration": 21,
    "start_time": "2023-08-31T11:16:22.888Z"
   },
   {
    "duration": 36,
    "start_time": "2023-08-31T11:16:22.911Z"
   },
   {
    "duration": 5,
    "start_time": "2023-08-31T11:16:22.957Z"
   },
   {
    "duration": 14,
    "start_time": "2023-08-31T11:16:22.964Z"
   },
   {
    "duration": 5572,
    "start_time": "2023-08-31T11:16:22.980Z"
   },
   {
    "duration": 28406,
    "start_time": "2023-08-31T11:16:28.554Z"
   },
   {
    "duration": 50990,
    "start_time": "2023-08-31T11:16:56.962Z"
   },
   {
    "duration": 59517,
    "start_time": "2023-08-31T11:17:47.954Z"
   },
   {
    "duration": 4,
    "start_time": "2023-08-31T11:19:53.288Z"
   },
   {
    "duration": 30,
    "start_time": "2023-08-31T11:19:53.294Z"
   },
   {
    "duration": 41,
    "start_time": "2023-08-31T11:19:53.326Z"
   },
   {
    "duration": 11,
    "start_time": "2023-08-31T11:19:53.370Z"
   },
   {
    "duration": 15,
    "start_time": "2023-08-31T11:19:53.382Z"
   },
   {
    "duration": 18,
    "start_time": "2023-08-31T11:19:53.399Z"
   },
   {
    "duration": 12,
    "start_time": "2023-08-31T11:19:53.419Z"
   },
   {
    "duration": 1016,
    "start_time": "2023-08-31T11:19:53.432Z"
   },
   {
    "duration": 9,
    "start_time": "2023-08-31T11:19:54.450Z"
   },
   {
    "duration": 15,
    "start_time": "2023-08-31T11:19:54.461Z"
   },
   {
    "duration": 22,
    "start_time": "2023-08-31T11:19:54.477Z"
   },
   {
    "duration": 179,
    "start_time": "2023-08-31T11:19:54.500Z"
   },
   {
    "duration": 4,
    "start_time": "2023-08-31T11:19:54.681Z"
   },
   {
    "duration": 30,
    "start_time": "2023-08-31T11:19:54.687Z"
   },
   {
    "duration": 164,
    "start_time": "2023-08-31T11:19:54.718Z"
   },
   {
    "duration": 5,
    "start_time": "2023-08-31T11:19:54.883Z"
   },
   {
    "duration": 25,
    "start_time": "2023-08-31T11:19:54.890Z"
   },
   {
    "duration": 187,
    "start_time": "2023-08-31T11:19:54.917Z"
   },
   {
    "duration": 5,
    "start_time": "2023-08-31T11:19:55.105Z"
   },
   {
    "duration": 25,
    "start_time": "2023-08-31T11:19:55.111Z"
   },
   {
    "duration": 215,
    "start_time": "2023-08-31T11:19:55.137Z"
   },
   {
    "duration": 7,
    "start_time": "2023-08-31T11:19:55.358Z"
   },
   {
    "duration": 23,
    "start_time": "2023-08-31T11:19:55.367Z"
   },
   {
    "duration": 33,
    "start_time": "2023-08-31T11:19:55.394Z"
   },
   {
    "duration": 131,
    "start_time": "2023-08-31T11:19:55.429Z"
   },
   {
    "duration": 68,
    "start_time": "2023-08-31T11:19:55.562Z"
   },
   {
    "duration": 29,
    "start_time": "2023-08-31T11:19:55.632Z"
   },
   {
    "duration": 15,
    "start_time": "2023-08-31T11:19:55.663Z"
   },
   {
    "duration": 22,
    "start_time": "2023-08-31T11:19:55.680Z"
   },
   {
    "duration": 10,
    "start_time": "2023-08-31T11:19:55.704Z"
   },
   {
    "duration": 34,
    "start_time": "2023-08-31T11:19:55.716Z"
   },
   {
    "duration": 18,
    "start_time": "2023-08-31T11:19:55.754Z"
   },
   {
    "duration": 6,
    "start_time": "2023-08-31T11:19:55.774Z"
   },
   {
    "duration": 6,
    "start_time": "2023-08-31T11:19:55.782Z"
   },
   {
    "duration": 9,
    "start_time": "2023-08-31T11:19:55.790Z"
   },
   {
    "duration": 17,
    "start_time": "2023-08-31T11:19:55.801Z"
   },
   {
    "duration": 14,
    "start_time": "2023-08-31T11:19:55.820Z"
   },
   {
    "duration": 13,
    "start_time": "2023-08-31T11:19:55.836Z"
   },
   {
    "duration": 22,
    "start_time": "2023-08-31T11:19:55.856Z"
   },
   {
    "duration": 15,
    "start_time": "2023-08-31T11:19:55.880Z"
   },
   {
    "duration": 9,
    "start_time": "2023-08-31T11:19:55.897Z"
   },
   {
    "duration": 15,
    "start_time": "2023-08-31T11:19:55.908Z"
   },
   {
    "duration": 8,
    "start_time": "2023-08-31T11:19:55.925Z"
   },
   {
    "duration": 12,
    "start_time": "2023-08-31T11:19:55.934Z"
   },
   {
    "duration": 6,
    "start_time": "2023-08-31T11:19:55.955Z"
   },
   {
    "duration": 17,
    "start_time": "2023-08-31T11:19:55.962Z"
   },
   {
    "duration": 4588,
    "start_time": "2023-08-31T11:19:55.981Z"
   },
   {
    "duration": 7897,
    "start_time": "2023-08-31T11:20:00.571Z"
   },
   {
    "duration": 40289,
    "start_time": "2023-08-31T11:20:08.471Z"
   },
   {
    "duration": 48300,
    "start_time": "2023-08-31T11:20:48.764Z"
   },
   {
    "duration": 4,
    "start_time": "2023-08-31T11:22:00.635Z"
   },
   {
    "duration": 62,
    "start_time": "2023-08-31T11:22:00.641Z"
   },
   {
    "duration": 72,
    "start_time": "2023-08-31T11:22:00.705Z"
   },
   {
    "duration": 11,
    "start_time": "2023-08-31T11:22:00.779Z"
   },
   {
    "duration": 48,
    "start_time": "2023-08-31T11:22:00.791Z"
   },
   {
    "duration": 63,
    "start_time": "2023-08-31T11:22:00.841Z"
   },
   {
    "duration": 62,
    "start_time": "2023-08-31T11:22:00.906Z"
   },
   {
    "duration": 1031,
    "start_time": "2023-08-31T11:22:00.970Z"
   },
   {
    "duration": 5,
    "start_time": "2023-08-31T11:22:02.004Z"
   },
   {
    "duration": 70,
    "start_time": "2023-08-31T11:22:02.011Z"
   },
   {
    "duration": 38,
    "start_time": "2023-08-31T11:22:02.083Z"
   },
   {
    "duration": 200,
    "start_time": "2023-08-31T11:22:02.123Z"
   },
   {
    "duration": 5,
    "start_time": "2023-08-31T11:22:02.325Z"
   },
   {
    "duration": 40,
    "start_time": "2023-08-31T11:22:02.332Z"
   },
   {
    "duration": 174,
    "start_time": "2023-08-31T11:22:02.374Z"
   },
   {
    "duration": 9,
    "start_time": "2023-08-31T11:22:02.554Z"
   },
   {
    "duration": 14,
    "start_time": "2023-08-31T11:22:02.565Z"
   },
   {
    "duration": 190,
    "start_time": "2023-08-31T11:22:02.580Z"
   },
   {
    "duration": 5,
    "start_time": "2023-08-31T11:22:02.771Z"
   },
   {
    "duration": 19,
    "start_time": "2023-08-31T11:22:02.778Z"
   },
   {
    "duration": 174,
    "start_time": "2023-08-31T11:22:02.799Z"
   },
   {
    "duration": 4,
    "start_time": "2023-08-31T11:22:02.975Z"
   },
   {
    "duration": 7,
    "start_time": "2023-08-31T11:22:02.981Z"
   },
   {
    "duration": 16,
    "start_time": "2023-08-31T11:22:02.991Z"
   },
   {
    "duration": 14,
    "start_time": "2023-08-31T11:22:03.008Z"
   },
   {
    "duration": 6,
    "start_time": "2023-08-31T11:22:03.023Z"
   },
   {
    "duration": 16,
    "start_time": "2023-08-31T11:22:03.031Z"
   },
   {
    "duration": 7,
    "start_time": "2023-08-31T11:22:03.052Z"
   },
   {
    "duration": 12,
    "start_time": "2023-08-31T11:22:03.060Z"
   },
   {
    "duration": 16,
    "start_time": "2023-08-31T11:22:03.074Z"
   },
   {
    "duration": 37,
    "start_time": "2023-08-31T11:22:03.092Z"
   },
   {
    "duration": 4,
    "start_time": "2023-08-31T11:22:03.131Z"
   },
   {
    "duration": 9,
    "start_time": "2023-08-31T11:22:03.137Z"
   },
   {
    "duration": 16,
    "start_time": "2023-08-31T11:22:03.147Z"
   },
   {
    "duration": 12,
    "start_time": "2023-08-31T11:22:03.164Z"
   },
   {
    "duration": 13,
    "start_time": "2023-08-31T11:22:03.178Z"
   },
   {
    "duration": 12,
    "start_time": "2023-08-31T11:22:03.193Z"
   },
   {
    "duration": 32,
    "start_time": "2023-08-31T11:22:03.206Z"
   },
   {
    "duration": 22,
    "start_time": "2023-08-31T11:22:03.240Z"
   },
   {
    "duration": 12,
    "start_time": "2023-08-31T11:22:03.263Z"
   },
   {
    "duration": 10,
    "start_time": "2023-08-31T11:22:03.277Z"
   },
   {
    "duration": 6,
    "start_time": "2023-08-31T11:22:03.290Z"
   },
   {
    "duration": 14,
    "start_time": "2023-08-31T11:22:03.297Z"
   },
   {
    "duration": 29,
    "start_time": "2023-08-31T11:22:03.313Z"
   },
   {
    "duration": 20,
    "start_time": "2023-08-31T11:22:03.344Z"
   },
   {
    "duration": 36,
    "start_time": "2023-08-31T11:22:03.365Z"
   },
   {
    "duration": 6958,
    "start_time": "2023-08-31T11:22:03.403Z"
   },
   {
    "duration": 11575,
    "start_time": "2023-08-31T11:22:10.363Z"
   },
   {
    "duration": 65114,
    "start_time": "2023-08-31T11:22:21.940Z"
   },
   {
    "duration": 71806,
    "start_time": "2023-08-31T11:23:27.057Z"
   },
   {
    "duration": 4,
    "start_time": "2023-08-31T11:25:35.812Z"
   },
   {
    "duration": 38,
    "start_time": "2023-08-31T11:25:35.818Z"
   },
   {
    "duration": 41,
    "start_time": "2023-08-31T11:25:35.858Z"
   },
   {
    "duration": 11,
    "start_time": "2023-08-31T11:25:35.901Z"
   },
   {
    "duration": 45,
    "start_time": "2023-08-31T11:25:35.915Z"
   },
   {
    "duration": 21,
    "start_time": "2023-08-31T11:25:35.962Z"
   },
   {
    "duration": 14,
    "start_time": "2023-08-31T11:25:35.985Z"
   },
   {
    "duration": 1007,
    "start_time": "2023-08-31T11:25:36.000Z"
   },
   {
    "duration": 6,
    "start_time": "2023-08-31T11:25:37.009Z"
   },
   {
    "duration": 12,
    "start_time": "2023-08-31T11:25:37.017Z"
   },
   {
    "duration": 27,
    "start_time": "2023-08-31T11:25:37.030Z"
   },
   {
    "duration": 170,
    "start_time": "2023-08-31T11:25:37.059Z"
   },
   {
    "duration": 5,
    "start_time": "2023-08-31T11:25:37.232Z"
   },
   {
    "duration": 29,
    "start_time": "2023-08-31T11:25:37.239Z"
   },
   {
    "duration": 165,
    "start_time": "2023-08-31T11:25:37.269Z"
   },
   {
    "duration": 20,
    "start_time": "2023-08-31T11:25:37.436Z"
   },
   {
    "duration": 13,
    "start_time": "2023-08-31T11:25:37.458Z"
   },
   {
    "duration": 194,
    "start_time": "2023-08-31T11:25:37.473Z"
   },
   {
    "duration": 4,
    "start_time": "2023-08-31T11:25:37.669Z"
   },
   {
    "duration": 11,
    "start_time": "2023-08-31T11:25:37.675Z"
   },
   {
    "duration": 194,
    "start_time": "2023-08-31T11:25:37.688Z"
   },
   {
    "duration": 7,
    "start_time": "2023-08-31T11:25:37.885Z"
   },
   {
    "duration": 6,
    "start_time": "2023-08-31T11:25:37.894Z"
   },
   {
    "duration": 6,
    "start_time": "2023-08-31T11:25:37.902Z"
   },
   {
    "duration": 9,
    "start_time": "2023-08-31T11:25:37.910Z"
   },
   {
    "duration": 8,
    "start_time": "2023-08-31T11:25:37.952Z"
   },
   {
    "duration": 5,
    "start_time": "2023-08-31T11:25:37.962Z"
   },
   {
    "duration": 12,
    "start_time": "2023-08-31T11:25:37.969Z"
   },
   {
    "duration": 16,
    "start_time": "2023-08-31T11:25:37.982Z"
   },
   {
    "duration": 8,
    "start_time": "2023-08-31T11:25:38.000Z"
   },
   {
    "duration": 28,
    "start_time": "2023-08-31T11:25:38.009Z"
   },
   {
    "duration": 27,
    "start_time": "2023-08-31T11:25:38.039Z"
   },
   {
    "duration": 11,
    "start_time": "2023-08-31T11:25:38.068Z"
   },
   {
    "duration": 11,
    "start_time": "2023-08-31T11:25:38.081Z"
   },
   {
    "duration": 5,
    "start_time": "2023-08-31T11:25:38.094Z"
   },
   {
    "duration": 11,
    "start_time": "2023-08-31T11:25:38.102Z"
   },
   {
    "duration": 7,
    "start_time": "2023-08-31T11:25:38.117Z"
   },
   {
    "duration": 4,
    "start_time": "2023-08-31T11:25:38.126Z"
   },
   {
    "duration": 5,
    "start_time": "2023-08-31T11:25:38.132Z"
   },
   {
    "duration": 20,
    "start_time": "2023-08-31T11:25:38.139Z"
   },
   {
    "duration": 6,
    "start_time": "2023-08-31T11:25:38.161Z"
   },
   {
    "duration": 5,
    "start_time": "2023-08-31T11:25:38.168Z"
   },
   {
    "duration": 7,
    "start_time": "2023-08-31T11:25:38.175Z"
   },
   {
    "duration": 24,
    "start_time": "2023-08-31T11:25:38.183Z"
   },
   {
    "duration": 9,
    "start_time": "2023-08-31T11:25:38.209Z"
   },
   {
    "duration": 7,
    "start_time": "2023-08-31T11:25:38.220Z"
   },
   {
    "duration": 2301,
    "start_time": "2023-08-31T11:25:38.229Z"
   },
   {
    "duration": 3833,
    "start_time": "2023-08-31T11:25:40.532Z"
   },
   {
    "duration": 4865,
    "start_time": "2023-08-31T11:25:44.367Z"
   },
   {
    "duration": 5758,
    "start_time": "2023-08-31T11:25:49.233Z"
   },
   {
    "duration": 4,
    "start_time": "2023-08-31T11:26:17.165Z"
   },
   {
    "duration": 39,
    "start_time": "2023-08-31T11:26:17.170Z"
   },
   {
    "duration": 30,
    "start_time": "2023-08-31T11:26:17.212Z"
   },
   {
    "duration": 16,
    "start_time": "2023-08-31T11:26:17.244Z"
   },
   {
    "duration": 56,
    "start_time": "2023-08-31T11:26:17.263Z"
   },
   {
    "duration": 7,
    "start_time": "2023-08-31T11:26:17.321Z"
   },
   {
    "duration": 7,
    "start_time": "2023-08-31T11:26:17.329Z"
   },
   {
    "duration": 1331,
    "start_time": "2023-08-31T11:26:17.337Z"
   },
   {
    "duration": 6,
    "start_time": "2023-08-31T11:26:18.670Z"
   },
   {
    "duration": 6,
    "start_time": "2023-08-31T11:26:18.678Z"
   },
   {
    "duration": 15,
    "start_time": "2023-08-31T11:26:18.686Z"
   },
   {
    "duration": 180,
    "start_time": "2023-08-31T11:26:18.702Z"
   },
   {
    "duration": 4,
    "start_time": "2023-08-31T11:26:18.884Z"
   },
   {
    "duration": 11,
    "start_time": "2023-08-31T11:26:18.890Z"
   },
   {
    "duration": 190,
    "start_time": "2023-08-31T11:26:18.903Z"
   },
   {
    "duration": 7,
    "start_time": "2023-08-31T11:26:19.095Z"
   },
   {
    "duration": 27,
    "start_time": "2023-08-31T11:26:19.104Z"
   },
   {
    "duration": 209,
    "start_time": "2023-08-31T11:26:19.133Z"
   },
   {
    "duration": 17,
    "start_time": "2023-08-31T11:26:19.344Z"
   },
   {
    "duration": 11,
    "start_time": "2023-08-31T11:26:19.363Z"
   },
   {
    "duration": 185,
    "start_time": "2023-08-31T11:26:19.375Z"
   },
   {
    "duration": 6,
    "start_time": "2023-08-31T11:26:19.561Z"
   },
   {
    "duration": 21,
    "start_time": "2023-08-31T11:26:19.568Z"
   },
   {
    "duration": 15,
    "start_time": "2023-08-31T11:26:19.591Z"
   },
   {
    "duration": 28,
    "start_time": "2023-08-31T11:26:19.608Z"
   },
   {
    "duration": 23,
    "start_time": "2023-08-31T11:26:19.638Z"
   },
   {
    "duration": 6,
    "start_time": "2023-08-31T11:26:19.662Z"
   },
   {
    "duration": 14,
    "start_time": "2023-08-31T11:26:19.670Z"
   },
   {
    "duration": 26,
    "start_time": "2023-08-31T11:26:19.688Z"
   },
   {
    "duration": 5,
    "start_time": "2023-08-31T11:26:19.715Z"
   },
   {
    "duration": 21,
    "start_time": "2023-08-31T11:26:19.721Z"
   },
   {
    "duration": 7,
    "start_time": "2023-08-31T11:26:19.744Z"
   },
   {
    "duration": 12,
    "start_time": "2023-08-31T11:26:19.753Z"
   },
   {
    "duration": 17,
    "start_time": "2023-08-31T11:26:19.767Z"
   },
   {
    "duration": 5,
    "start_time": "2023-08-31T11:26:19.786Z"
   },
   {
    "duration": 18,
    "start_time": "2023-08-31T11:26:19.793Z"
   },
   {
    "duration": 6,
    "start_time": "2023-08-31T11:26:19.813Z"
   },
   {
    "duration": 6,
    "start_time": "2023-08-31T11:26:19.821Z"
   },
   {
    "duration": 9,
    "start_time": "2023-08-31T11:26:19.829Z"
   },
   {
    "duration": 16,
    "start_time": "2023-08-31T11:26:19.840Z"
   },
   {
    "duration": 3,
    "start_time": "2023-08-31T11:26:19.858Z"
   },
   {
    "duration": 18,
    "start_time": "2023-08-31T11:26:19.863Z"
   },
   {
    "duration": 32,
    "start_time": "2023-08-31T11:26:19.882Z"
   },
   {
    "duration": 4,
    "start_time": "2023-08-31T11:26:19.916Z"
   },
   {
    "duration": 5,
    "start_time": "2023-08-31T11:26:19.922Z"
   },
   {
    "duration": 7,
    "start_time": "2023-08-31T11:26:19.928Z"
   },
   {
    "duration": 4591,
    "start_time": "2023-08-31T11:26:19.937Z"
   },
   {
    "duration": 7697,
    "start_time": "2023-08-31T11:26:24.530Z"
   },
   {
    "duration": 9538,
    "start_time": "2023-08-31T11:26:32.229Z"
   },
   {
    "duration": 11326,
    "start_time": "2023-08-31T11:26:41.769Z"
   },
   {
    "duration": 4,
    "start_time": "2023-08-31T11:27:12.170Z"
   },
   {
    "duration": 36,
    "start_time": "2023-08-31T11:27:12.176Z"
   },
   {
    "duration": 42,
    "start_time": "2023-08-31T11:27:12.214Z"
   },
   {
    "duration": 12,
    "start_time": "2023-08-31T11:27:12.258Z"
   },
   {
    "duration": 21,
    "start_time": "2023-08-31T11:27:12.272Z"
   },
   {
    "duration": 23,
    "start_time": "2023-08-31T11:27:12.295Z"
   },
   {
    "duration": 11,
    "start_time": "2023-08-31T11:27:12.320Z"
   },
   {
    "duration": 1038,
    "start_time": "2023-08-31T11:27:12.333Z"
   },
   {
    "duration": 6,
    "start_time": "2023-08-31T11:27:13.373Z"
   },
   {
    "duration": 33,
    "start_time": "2023-08-31T11:27:13.380Z"
   },
   {
    "duration": 56,
    "start_time": "2023-08-31T11:27:13.416Z"
   },
   {
    "duration": 218,
    "start_time": "2023-08-31T11:27:13.474Z"
   },
   {
    "duration": 5,
    "start_time": "2023-08-31T11:27:13.694Z"
   },
   {
    "duration": 20,
    "start_time": "2023-08-31T11:27:13.701Z"
   },
   {
    "duration": 174,
    "start_time": "2023-08-31T11:27:13.722Z"
   },
   {
    "duration": 5,
    "start_time": "2023-08-31T11:27:13.898Z"
   },
   {
    "duration": 10,
    "start_time": "2023-08-31T11:27:13.905Z"
   },
   {
    "duration": 195,
    "start_time": "2023-08-31T11:27:13.917Z"
   },
   {
    "duration": 5,
    "start_time": "2023-08-31T11:27:14.114Z"
   },
   {
    "duration": 25,
    "start_time": "2023-08-31T11:27:14.121Z"
   },
   {
    "duration": 151,
    "start_time": "2023-08-31T11:27:14.158Z"
   },
   {
    "duration": 5,
    "start_time": "2023-08-31T11:27:14.311Z"
   },
   {
    "duration": 7,
    "start_time": "2023-08-31T11:27:14.318Z"
   },
   {
    "duration": 29,
    "start_time": "2023-08-31T11:27:14.327Z"
   },
   {
    "duration": 6,
    "start_time": "2023-08-31T11:27:14.358Z"
   },
   {
    "duration": 7,
    "start_time": "2023-08-31T11:27:14.365Z"
   },
   {
    "duration": 15,
    "start_time": "2023-08-31T11:27:14.374Z"
   },
   {
    "duration": 11,
    "start_time": "2023-08-31T11:27:14.390Z"
   },
   {
    "duration": 30,
    "start_time": "2023-08-31T11:27:14.404Z"
   },
   {
    "duration": 6,
    "start_time": "2023-08-31T11:27:14.436Z"
   },
   {
    "duration": 33,
    "start_time": "2023-08-31T11:27:14.443Z"
   },
   {
    "duration": 7,
    "start_time": "2023-08-31T11:27:14.478Z"
   },
   {
    "duration": 16,
    "start_time": "2023-08-31T11:27:14.487Z"
   },
   {
    "duration": 10,
    "start_time": "2023-08-31T11:27:14.504Z"
   },
   {
    "duration": 9,
    "start_time": "2023-08-31T11:27:14.516Z"
   },
   {
    "duration": 19,
    "start_time": "2023-08-31T11:27:14.526Z"
   },
   {
    "duration": 30,
    "start_time": "2023-08-31T11:27:14.547Z"
   },
   {
    "duration": 15,
    "start_time": "2023-08-31T11:27:14.578Z"
   },
   {
    "duration": 4,
    "start_time": "2023-08-31T11:27:14.595Z"
   },
   {
    "duration": 9,
    "start_time": "2023-08-31T11:27:14.600Z"
   },
   {
    "duration": 28,
    "start_time": "2023-08-31T11:27:14.611Z"
   },
   {
    "duration": 16,
    "start_time": "2023-08-31T11:27:14.640Z"
   },
   {
    "duration": 6,
    "start_time": "2023-08-31T11:27:14.657Z"
   },
   {
    "duration": 4,
    "start_time": "2023-08-31T11:27:14.665Z"
   },
   {
    "duration": 5,
    "start_time": "2023-08-31T11:27:14.670Z"
   },
   {
    "duration": 9,
    "start_time": "2023-08-31T11:27:14.676Z"
   },
   {
    "duration": 7086,
    "start_time": "2023-08-31T11:27:14.687Z"
   },
   {
    "duration": 11409,
    "start_time": "2023-08-31T11:27:21.776Z"
   },
   {
    "duration": 14377,
    "start_time": "2023-08-31T11:27:33.187Z"
   },
   {
    "duration": 17167,
    "start_time": "2023-08-31T11:27:47.565Z"
   },
   {
    "duration": 3,
    "start_time": "2023-08-31T11:28:27.027Z"
   },
   {
    "duration": 5,
    "start_time": "2023-08-31T11:28:27.032Z"
   },
   {
    "duration": 34,
    "start_time": "2023-08-31T11:28:27.038Z"
   },
   {
    "duration": 11,
    "start_time": "2023-08-31T11:28:27.074Z"
   },
   {
    "duration": 11,
    "start_time": "2023-08-31T11:28:27.086Z"
   },
   {
    "duration": 6,
    "start_time": "2023-08-31T11:28:27.099Z"
   },
   {
    "duration": 7,
    "start_time": "2023-08-31T11:28:27.107Z"
   },
   {
    "duration": 1042,
    "start_time": "2023-08-31T11:28:27.116Z"
   },
   {
    "duration": 6,
    "start_time": "2023-08-31T11:28:28.161Z"
   },
   {
    "duration": 6,
    "start_time": "2023-08-31T11:28:28.169Z"
   },
   {
    "duration": 9,
    "start_time": "2023-08-31T11:28:28.177Z"
   },
   {
    "duration": 178,
    "start_time": "2023-08-31T11:28:28.189Z"
   },
   {
    "duration": 5,
    "start_time": "2023-08-31T11:28:28.369Z"
   },
   {
    "duration": 8,
    "start_time": "2023-08-31T11:28:28.376Z"
   },
   {
    "duration": 175,
    "start_time": "2023-08-31T11:28:28.385Z"
   },
   {
    "duration": 7,
    "start_time": "2023-08-31T11:28:28.562Z"
   },
   {
    "duration": 8,
    "start_time": "2023-08-31T11:28:28.571Z"
   },
   {
    "duration": 205,
    "start_time": "2023-08-31T11:28:28.581Z"
   },
   {
    "duration": 5,
    "start_time": "2023-08-31T11:28:28.788Z"
   },
   {
    "duration": 15,
    "start_time": "2023-08-31T11:28:28.794Z"
   },
   {
    "duration": 184,
    "start_time": "2023-08-31T11:28:28.810Z"
   },
   {
    "duration": 5,
    "start_time": "2023-08-31T11:28:28.995Z"
   },
   {
    "duration": 9,
    "start_time": "2023-08-31T11:28:29.001Z"
   },
   {
    "duration": 7,
    "start_time": "2023-08-31T11:28:29.012Z"
   },
   {
    "duration": 6,
    "start_time": "2023-08-31T11:28:29.020Z"
   },
   {
    "duration": 6,
    "start_time": "2023-08-31T11:28:29.047Z"
   },
   {
    "duration": 14,
    "start_time": "2023-08-31T11:28:29.059Z"
   },
   {
    "duration": 9,
    "start_time": "2023-08-31T11:28:29.075Z"
   },
   {
    "duration": 13,
    "start_time": "2023-08-31T11:28:29.086Z"
   },
   {
    "duration": 5,
    "start_time": "2023-08-31T11:28:29.103Z"
   },
   {
    "duration": 27,
    "start_time": "2023-08-31T11:28:29.109Z"
   },
   {
    "duration": 15,
    "start_time": "2023-08-31T11:28:29.149Z"
   },
   {
    "duration": 13,
    "start_time": "2023-08-31T11:28:29.166Z"
   },
   {
    "duration": 16,
    "start_time": "2023-08-31T11:28:29.181Z"
   },
   {
    "duration": 24,
    "start_time": "2023-08-31T11:28:29.198Z"
   },
   {
    "duration": 19,
    "start_time": "2023-08-31T11:28:29.223Z"
   },
   {
    "duration": 23,
    "start_time": "2023-08-31T11:28:29.243Z"
   },
   {
    "duration": 10,
    "start_time": "2023-08-31T11:28:29.268Z"
   },
   {
    "duration": 4,
    "start_time": "2023-08-31T11:28:29.280Z"
   },
   {
    "duration": 17,
    "start_time": "2023-08-31T11:28:29.286Z"
   },
   {
    "duration": 4,
    "start_time": "2023-08-31T11:28:29.306Z"
   },
   {
    "duration": 6,
    "start_time": "2023-08-31T11:28:29.312Z"
   },
   {
    "duration": 11,
    "start_time": "2023-08-31T11:28:29.320Z"
   },
   {
    "duration": 6,
    "start_time": "2023-08-31T11:28:29.332Z"
   },
   {
    "duration": 4,
    "start_time": "2023-08-31T11:28:29.340Z"
   },
   {
    "duration": 17,
    "start_time": "2023-08-31T11:28:29.345Z"
   },
   {
    "duration": 6975,
    "start_time": "2023-08-31T11:28:29.364Z"
   },
   {
    "duration": 11467,
    "start_time": "2023-08-31T11:28:36.340Z"
   },
   {
    "duration": 14336,
    "start_time": "2023-08-31T11:28:47.809Z"
   },
   {
    "duration": 16979,
    "start_time": "2023-08-31T11:29:02.147Z"
   },
   {
    "duration": 4,
    "start_time": "2023-08-31T11:30:06.332Z"
   },
   {
    "duration": 21,
    "start_time": "2023-08-31T11:30:06.338Z"
   },
   {
    "duration": 47,
    "start_time": "2023-08-31T11:30:06.361Z"
   },
   {
    "duration": 11,
    "start_time": "2023-08-31T11:30:06.409Z"
   },
   {
    "duration": 24,
    "start_time": "2023-08-31T11:30:06.422Z"
   },
   {
    "duration": 28,
    "start_time": "2023-08-31T11:30:06.453Z"
   },
   {
    "duration": 30,
    "start_time": "2023-08-31T11:30:06.483Z"
   },
   {
    "duration": 1069,
    "start_time": "2023-08-31T11:30:06.515Z"
   },
   {
    "duration": 6,
    "start_time": "2023-08-31T11:30:07.586Z"
   },
   {
    "duration": 23,
    "start_time": "2023-08-31T11:30:07.594Z"
   },
   {
    "duration": 46,
    "start_time": "2023-08-31T11:30:07.620Z"
   },
   {
    "duration": 200,
    "start_time": "2023-08-31T11:30:07.668Z"
   },
   {
    "duration": 6,
    "start_time": "2023-08-31T11:30:07.870Z"
   },
   {
    "duration": 20,
    "start_time": "2023-08-31T11:30:07.877Z"
   },
   {
    "duration": 196,
    "start_time": "2023-08-31T11:30:07.899Z"
   },
   {
    "duration": 6,
    "start_time": "2023-08-31T11:30:08.098Z"
   },
   {
    "duration": 38,
    "start_time": "2023-08-31T11:30:08.105Z"
   },
   {
    "duration": 194,
    "start_time": "2023-08-31T11:30:08.145Z"
   },
   {
    "duration": 10,
    "start_time": "2023-08-31T11:30:08.346Z"
   },
   {
    "duration": 9,
    "start_time": "2023-08-31T11:30:08.357Z"
   },
   {
    "duration": 167,
    "start_time": "2023-08-31T11:30:08.367Z"
   },
   {
    "duration": 15,
    "start_time": "2023-08-31T11:30:08.536Z"
   },
   {
    "duration": 6,
    "start_time": "2023-08-31T11:30:08.552Z"
   },
   {
    "duration": 8,
    "start_time": "2023-08-31T11:30:08.560Z"
   },
   {
    "duration": 6,
    "start_time": "2023-08-31T11:30:08.569Z"
   },
   {
    "duration": 7,
    "start_time": "2023-08-31T11:30:08.577Z"
   },
   {
    "duration": 6,
    "start_time": "2023-08-31T11:30:08.586Z"
   },
   {
    "duration": 7,
    "start_time": "2023-08-31T11:30:08.593Z"
   },
   {
    "duration": 10,
    "start_time": "2023-08-31T11:30:08.604Z"
   },
   {
    "duration": 36,
    "start_time": "2023-08-31T11:30:08.616Z"
   },
   {
    "duration": 20,
    "start_time": "2023-08-31T11:30:08.653Z"
   },
   {
    "duration": 6,
    "start_time": "2023-08-31T11:30:08.675Z"
   },
   {
    "duration": 24,
    "start_time": "2023-08-31T11:30:08.682Z"
   },
   {
    "duration": 6,
    "start_time": "2023-08-31T11:30:08.707Z"
   },
   {
    "duration": 3,
    "start_time": "2023-08-31T11:30:08.714Z"
   },
   {
    "duration": 9,
    "start_time": "2023-08-31T11:30:08.719Z"
   },
   {
    "duration": 6,
    "start_time": "2023-08-31T11:30:08.730Z"
   },
   {
    "duration": 11,
    "start_time": "2023-08-31T11:30:08.751Z"
   },
   {
    "duration": 14,
    "start_time": "2023-08-31T11:30:08.764Z"
   },
   {
    "duration": 4,
    "start_time": "2023-08-31T11:30:08.779Z"
   },
   {
    "duration": 4,
    "start_time": "2023-08-31T11:30:08.785Z"
   },
   {
    "duration": 6,
    "start_time": "2023-08-31T11:30:08.790Z"
   },
   {
    "duration": 5,
    "start_time": "2023-08-31T11:30:08.797Z"
   },
   {
    "duration": 6,
    "start_time": "2023-08-31T11:30:08.803Z"
   },
   {
    "duration": 4,
    "start_time": "2023-08-31T11:30:08.811Z"
   },
   {
    "duration": 7,
    "start_time": "2023-08-31T11:30:08.817Z"
   },
   {
    "duration": 9312,
    "start_time": "2023-08-31T11:30:08.825Z"
   },
   {
    "duration": 15243,
    "start_time": "2023-08-31T11:30:18.139Z"
   },
   {
    "duration": 18961,
    "start_time": "2023-08-31T11:30:33.384Z"
   },
   {
    "duration": 22728,
    "start_time": "2023-08-31T11:30:52.351Z"
   },
   {
    "duration": 3,
    "start_time": "2023-08-31T11:31:53.497Z"
   },
   {
    "duration": 8,
    "start_time": "2023-08-31T11:31:53.503Z"
   },
   {
    "duration": 31,
    "start_time": "2023-08-31T11:31:53.513Z"
   },
   {
    "duration": 14,
    "start_time": "2023-08-31T11:31:53.546Z"
   },
   {
    "duration": 11,
    "start_time": "2023-08-31T11:31:53.564Z"
   },
   {
    "duration": 12,
    "start_time": "2023-08-31T11:31:53.577Z"
   },
   {
    "duration": 8,
    "start_time": "2023-08-31T11:31:53.590Z"
   },
   {
    "duration": 1030,
    "start_time": "2023-08-31T11:31:53.600Z"
   },
   {
    "duration": 21,
    "start_time": "2023-08-31T11:31:54.631Z"
   },
   {
    "duration": 6,
    "start_time": "2023-08-31T11:31:54.656Z"
   },
   {
    "duration": 8,
    "start_time": "2023-08-31T11:31:54.665Z"
   },
   {
    "duration": 591,
    "start_time": "2023-08-31T11:31:54.675Z"
   },
   {
    "duration": 5,
    "start_time": "2023-08-31T11:31:55.269Z"
   },
   {
    "duration": 10,
    "start_time": "2023-08-31T11:31:55.277Z"
   },
   {
    "duration": 212,
    "start_time": "2023-08-31T11:31:55.291Z"
   },
   {
    "duration": 5,
    "start_time": "2023-08-31T11:31:55.505Z"
   },
   {
    "duration": 51,
    "start_time": "2023-08-31T11:31:55.511Z"
   },
   {
    "duration": 176,
    "start_time": "2023-08-31T11:31:55.563Z"
   },
   {
    "duration": 14,
    "start_time": "2023-08-31T11:31:55.746Z"
   },
   {
    "duration": 8,
    "start_time": "2023-08-31T11:31:55.762Z"
   },
   {
    "duration": 188,
    "start_time": "2023-08-31T11:31:55.772Z"
   },
   {
    "duration": 5,
    "start_time": "2023-08-31T11:31:55.962Z"
   },
   {
    "duration": 7,
    "start_time": "2023-08-31T11:31:55.969Z"
   },
   {
    "duration": 6,
    "start_time": "2023-08-31T11:31:55.977Z"
   },
   {
    "duration": 5,
    "start_time": "2023-08-31T11:31:55.985Z"
   },
   {
    "duration": 5,
    "start_time": "2023-08-31T11:31:55.991Z"
   },
   {
    "duration": 5,
    "start_time": "2023-08-31T11:31:55.998Z"
   },
   {
    "duration": 7,
    "start_time": "2023-08-31T11:31:56.005Z"
   },
   {
    "duration": 46,
    "start_time": "2023-08-31T11:31:56.016Z"
   },
   {
    "duration": 5,
    "start_time": "2023-08-31T11:31:56.065Z"
   },
   {
    "duration": 25,
    "start_time": "2023-08-31T11:31:56.071Z"
   },
   {
    "duration": 6,
    "start_time": "2023-08-31T11:31:56.098Z"
   },
   {
    "duration": 7,
    "start_time": "2023-08-31T11:31:56.106Z"
   },
   {
    "duration": 6,
    "start_time": "2023-08-31T11:31:56.115Z"
   },
   {
    "duration": 38,
    "start_time": "2023-08-31T11:31:56.123Z"
   },
   {
    "duration": 10,
    "start_time": "2023-08-31T11:31:56.163Z"
   },
   {
    "duration": 6,
    "start_time": "2023-08-31T11:31:56.175Z"
   },
   {
    "duration": 5,
    "start_time": "2023-08-31T11:31:56.183Z"
   },
   {
    "duration": 7,
    "start_time": "2023-08-31T11:31:56.189Z"
   },
   {
    "duration": 8,
    "start_time": "2023-08-31T11:31:56.197Z"
   },
   {
    "duration": 13,
    "start_time": "2023-08-31T11:31:56.206Z"
   },
   {
    "duration": 4,
    "start_time": "2023-08-31T11:31:56.221Z"
   },
   {
    "duration": 4,
    "start_time": "2023-08-31T11:31:56.227Z"
   },
   {
    "duration": 19,
    "start_time": "2023-08-31T11:31:56.233Z"
   },
   {
    "duration": 5,
    "start_time": "2023-08-31T11:31:56.260Z"
   },
   {
    "duration": 10,
    "start_time": "2023-08-31T11:31:56.267Z"
   },
   {
    "duration": 9387,
    "start_time": "2023-08-31T11:31:56.278Z"
   },
   {
    "duration": 15065,
    "start_time": "2023-08-31T11:32:05.666Z"
   },
   {
    "duration": 18908,
    "start_time": "2023-08-31T11:32:20.733Z"
   },
   {
    "duration": 22711,
    "start_time": "2023-08-31T11:32:39.646Z"
   },
   {
    "duration": 7,
    "start_time": "2023-08-31T11:33:35.745Z"
   },
   {
    "duration": 50,
    "start_time": "2023-08-31T11:33:35.755Z"
   },
   {
    "duration": 64,
    "start_time": "2023-08-31T11:33:35.807Z"
   },
   {
    "duration": 11,
    "start_time": "2023-08-31T11:33:35.873Z"
   },
   {
    "duration": 53,
    "start_time": "2023-08-31T11:33:35.887Z"
   },
   {
    "duration": 38,
    "start_time": "2023-08-31T11:33:35.942Z"
   },
   {
    "duration": 18,
    "start_time": "2023-08-31T11:33:35.981Z"
   },
   {
    "duration": 1036,
    "start_time": "2023-08-31T11:33:36.001Z"
   },
   {
    "duration": 22,
    "start_time": "2023-08-31T11:33:37.039Z"
   },
   {
    "duration": 7,
    "start_time": "2023-08-31T11:33:37.063Z"
   },
   {
    "duration": 20,
    "start_time": "2023-08-31T11:33:37.073Z"
   },
   {
    "duration": 187,
    "start_time": "2023-08-31T11:33:37.094Z"
   },
   {
    "duration": 4,
    "start_time": "2023-08-31T11:33:37.283Z"
   },
   {
    "duration": 21,
    "start_time": "2023-08-31T11:33:37.289Z"
   },
   {
    "duration": 191,
    "start_time": "2023-08-31T11:33:37.311Z"
   },
   {
    "duration": 5,
    "start_time": "2023-08-31T11:33:37.504Z"
   },
   {
    "duration": 10,
    "start_time": "2023-08-31T11:33:37.510Z"
   },
   {
    "duration": 202,
    "start_time": "2023-08-31T11:33:37.522Z"
   },
   {
    "duration": 4,
    "start_time": "2023-08-31T11:33:37.726Z"
   },
   {
    "duration": 31,
    "start_time": "2023-08-31T11:33:37.732Z"
   },
   {
    "duration": 169,
    "start_time": "2023-08-31T11:33:37.765Z"
   },
   {
    "duration": 5,
    "start_time": "2023-08-31T11:33:37.936Z"
   },
   {
    "duration": 20,
    "start_time": "2023-08-31T11:33:37.946Z"
   },
   {
    "duration": 14,
    "start_time": "2023-08-31T11:33:37.968Z"
   },
   {
    "duration": 22,
    "start_time": "2023-08-31T11:33:37.983Z"
   },
   {
    "duration": 9,
    "start_time": "2023-08-31T11:33:38.006Z"
   },
   {
    "duration": 17,
    "start_time": "2023-08-31T11:33:38.017Z"
   },
   {
    "duration": 23,
    "start_time": "2023-08-31T11:33:38.036Z"
   },
   {
    "duration": 10,
    "start_time": "2023-08-31T11:33:38.063Z"
   },
   {
    "duration": 8,
    "start_time": "2023-08-31T11:33:38.075Z"
   },
   {
    "duration": 24,
    "start_time": "2023-08-31T11:33:38.085Z"
   },
   {
    "duration": 5,
    "start_time": "2023-08-31T11:33:38.111Z"
   },
   {
    "duration": 7,
    "start_time": "2023-08-31T11:33:38.118Z"
   },
   {
    "duration": 25,
    "start_time": "2023-08-31T11:33:38.127Z"
   },
   {
    "duration": 5,
    "start_time": "2023-08-31T11:33:38.154Z"
   },
   {
    "duration": 19,
    "start_time": "2023-08-31T11:33:38.160Z"
   },
   {
    "duration": 11,
    "start_time": "2023-08-31T11:33:38.181Z"
   },
   {
    "duration": 23,
    "start_time": "2023-08-31T11:33:38.194Z"
   },
   {
    "duration": 20,
    "start_time": "2023-08-31T11:33:38.219Z"
   },
   {
    "duration": 4,
    "start_time": "2023-08-31T11:33:38.241Z"
   },
   {
    "duration": 15,
    "start_time": "2023-08-31T11:33:38.246Z"
   },
   {
    "duration": 17,
    "start_time": "2023-08-31T11:33:38.263Z"
   },
   {
    "duration": 6,
    "start_time": "2023-08-31T11:33:38.281Z"
   },
   {
    "duration": 9,
    "start_time": "2023-08-31T11:33:38.289Z"
   },
   {
    "duration": 10,
    "start_time": "2023-08-31T11:33:38.300Z"
   },
   {
    "duration": 13,
    "start_time": "2023-08-31T11:33:38.312Z"
   },
   {
    "duration": 9427,
    "start_time": "2023-08-31T11:33:38.327Z"
   },
   {
    "duration": 15009,
    "start_time": "2023-08-31T11:33:47.756Z"
   },
   {
    "duration": 18812,
    "start_time": "2023-08-31T11:34:02.767Z"
   },
   {
    "duration": 22317,
    "start_time": "2023-08-31T11:34:21.580Z"
   },
   {
    "duration": 4,
    "start_time": "2023-08-31T11:35:10.140Z"
   },
   {
    "duration": 14,
    "start_time": "2023-08-31T11:35:10.147Z"
   },
   {
    "duration": 42,
    "start_time": "2023-08-31T11:35:10.163Z"
   },
   {
    "duration": 11,
    "start_time": "2023-08-31T11:35:10.207Z"
   },
   {
    "duration": 24,
    "start_time": "2023-08-31T11:35:10.219Z"
   },
   {
    "duration": 21,
    "start_time": "2023-08-31T11:35:10.245Z"
   },
   {
    "duration": 22,
    "start_time": "2023-08-31T11:35:10.267Z"
   },
   {
    "duration": 1032,
    "start_time": "2023-08-31T11:35:10.290Z"
   },
   {
    "duration": 6,
    "start_time": "2023-08-31T11:35:11.325Z"
   },
   {
    "duration": 35,
    "start_time": "2023-08-31T11:35:11.332Z"
   },
   {
    "duration": 38,
    "start_time": "2023-08-31T11:35:11.369Z"
   },
   {
    "duration": 203,
    "start_time": "2023-08-31T11:35:11.409Z"
   },
   {
    "duration": 5,
    "start_time": "2023-08-31T11:35:11.614Z"
   },
   {
    "duration": 46,
    "start_time": "2023-08-31T11:35:11.621Z"
   },
   {
    "duration": 160,
    "start_time": "2023-08-31T11:35:11.669Z"
   },
   {
    "duration": 6,
    "start_time": "2023-08-31T11:35:11.831Z"
   },
   {
    "duration": 21,
    "start_time": "2023-08-31T11:35:11.839Z"
   },
   {
    "duration": 178,
    "start_time": "2023-08-31T11:35:11.862Z"
   },
   {
    "duration": 11,
    "start_time": "2023-08-31T11:35:12.042Z"
   },
   {
    "duration": 20,
    "start_time": "2023-08-31T11:35:12.056Z"
   },
   {
    "duration": 162,
    "start_time": "2023-08-31T11:35:12.078Z"
   },
   {
    "duration": 20,
    "start_time": "2023-08-31T11:35:12.241Z"
   },
   {
    "duration": 6,
    "start_time": "2023-08-31T11:35:12.262Z"
   },
   {
    "duration": 9,
    "start_time": "2023-08-31T11:35:12.272Z"
   },
   {
    "duration": 19,
    "start_time": "2023-08-31T11:35:12.282Z"
   },
   {
    "duration": 13,
    "start_time": "2023-08-31T11:35:12.302Z"
   },
   {
    "duration": 8,
    "start_time": "2023-08-31T11:35:12.317Z"
   },
   {
    "duration": 14,
    "start_time": "2023-08-31T11:35:12.327Z"
   },
   {
    "duration": 14,
    "start_time": "2023-08-31T11:35:12.343Z"
   },
   {
    "duration": 32,
    "start_time": "2023-08-31T11:35:12.359Z"
   },
   {
    "duration": 31,
    "start_time": "2023-08-31T11:35:12.393Z"
   },
   {
    "duration": 34,
    "start_time": "2023-08-31T11:35:12.426Z"
   },
   {
    "duration": 22,
    "start_time": "2023-08-31T11:35:12.461Z"
   },
   {
    "duration": 28,
    "start_time": "2023-08-31T11:35:12.485Z"
   },
   {
    "duration": 16,
    "start_time": "2023-08-31T11:35:12.515Z"
   },
   {
    "duration": 27,
    "start_time": "2023-08-31T11:35:12.533Z"
   },
   {
    "duration": 9,
    "start_time": "2023-08-31T11:35:12.563Z"
   },
   {
    "duration": 19,
    "start_time": "2023-08-31T11:35:12.573Z"
   },
   {
    "duration": 33,
    "start_time": "2023-08-31T11:35:12.594Z"
   },
   {
    "duration": 15,
    "start_time": "2023-08-31T11:35:12.628Z"
   },
   {
    "duration": 15,
    "start_time": "2023-08-31T11:35:12.645Z"
   },
   {
    "duration": 3,
    "start_time": "2023-08-31T11:35:12.662Z"
   },
   {
    "duration": 5,
    "start_time": "2023-08-31T11:35:12.667Z"
   },
   {
    "duration": 13,
    "start_time": "2023-08-31T11:35:12.673Z"
   },
   {
    "duration": 5,
    "start_time": "2023-08-31T11:35:12.688Z"
   },
   {
    "duration": 12,
    "start_time": "2023-08-31T11:35:12.695Z"
   },
   {
    "duration": 10454,
    "start_time": "2023-08-31T11:35:12.709Z"
   },
   {
    "duration": 17201,
    "start_time": "2023-08-31T11:35:23.164Z"
   },
   {
    "duration": 20885,
    "start_time": "2023-08-31T11:35:40.367Z"
   },
   {
    "duration": 25258,
    "start_time": "2023-08-31T11:36:01.259Z"
   },
   {
    "duration": 4,
    "start_time": "2023-08-31T11:37:12.707Z"
   },
   {
    "duration": 20,
    "start_time": "2023-08-31T11:37:12.713Z"
   },
   {
    "duration": 57,
    "start_time": "2023-08-31T11:37:12.734Z"
   },
   {
    "duration": 11,
    "start_time": "2023-08-31T11:37:12.793Z"
   },
   {
    "duration": 33,
    "start_time": "2023-08-31T11:37:12.806Z"
   },
   {
    "duration": 29,
    "start_time": "2023-08-31T11:37:12.841Z"
   },
   {
    "duration": 32,
    "start_time": "2023-08-31T11:37:12.872Z"
   },
   {
    "duration": 1017,
    "start_time": "2023-08-31T11:37:12.906Z"
   },
   {
    "duration": 6,
    "start_time": "2023-08-31T11:37:13.924Z"
   },
   {
    "duration": 28,
    "start_time": "2023-08-31T11:37:13.932Z"
   },
   {
    "duration": 26,
    "start_time": "2023-08-31T11:37:13.963Z"
   },
   {
    "duration": 191,
    "start_time": "2023-08-31T11:37:13.991Z"
   },
   {
    "duration": 5,
    "start_time": "2023-08-31T11:37:14.185Z"
   },
   {
    "duration": 34,
    "start_time": "2023-08-31T11:37:14.192Z"
   },
   {
    "duration": 167,
    "start_time": "2023-08-31T11:37:14.229Z"
   },
   {
    "duration": 5,
    "start_time": "2023-08-31T11:37:14.397Z"
   },
   {
    "duration": 16,
    "start_time": "2023-08-31T11:37:14.404Z"
   },
   {
    "duration": 198,
    "start_time": "2023-08-31T11:37:14.422Z"
   },
   {
    "duration": 5,
    "start_time": "2023-08-31T11:37:14.622Z"
   },
   {
    "duration": 25,
    "start_time": "2023-08-31T11:37:14.629Z"
   },
   {
    "duration": 173,
    "start_time": "2023-08-31T11:37:14.655Z"
   },
   {
    "duration": 5,
    "start_time": "2023-08-31T11:37:14.830Z"
   },
   {
    "duration": 12,
    "start_time": "2023-08-31T11:37:14.837Z"
   },
   {
    "duration": 12,
    "start_time": "2023-08-31T11:37:14.850Z"
   },
   {
    "duration": 17,
    "start_time": "2023-08-31T11:37:14.863Z"
   },
   {
    "duration": 7,
    "start_time": "2023-08-31T11:37:14.882Z"
   },
   {
    "duration": 16,
    "start_time": "2023-08-31T11:37:14.890Z"
   },
   {
    "duration": 8,
    "start_time": "2023-08-31T11:37:14.908Z"
   },
   {
    "duration": 11,
    "start_time": "2023-08-31T11:37:14.920Z"
   },
   {
    "duration": 8,
    "start_time": "2023-08-31T11:37:14.932Z"
   },
   {
    "duration": 36,
    "start_time": "2023-08-31T11:37:14.941Z"
   },
   {
    "duration": 9,
    "start_time": "2023-08-31T11:37:14.979Z"
   },
   {
    "duration": 55,
    "start_time": "2023-08-31T11:37:14.989Z"
   },
   {
    "duration": 18,
    "start_time": "2023-08-31T11:37:15.046Z"
   },
   {
    "duration": 18,
    "start_time": "2023-08-31T11:37:15.066Z"
   },
   {
    "duration": 27,
    "start_time": "2023-08-31T11:37:15.086Z"
   },
   {
    "duration": 42,
    "start_time": "2023-08-31T11:37:15.115Z"
   },
   {
    "duration": 7,
    "start_time": "2023-08-31T11:37:15.159Z"
   },
   {
    "duration": 6,
    "start_time": "2023-08-31T11:37:15.167Z"
   },
   {
    "duration": 10,
    "start_time": "2023-08-31T11:37:15.174Z"
   },
   {
    "duration": 16,
    "start_time": "2023-08-31T11:37:15.185Z"
   },
   {
    "duration": 8,
    "start_time": "2023-08-31T11:37:15.202Z"
   },
   {
    "duration": 15,
    "start_time": "2023-08-31T11:37:15.212Z"
   },
   {
    "duration": 6,
    "start_time": "2023-08-31T11:37:15.228Z"
   },
   {
    "duration": 24,
    "start_time": "2023-08-31T11:37:15.235Z"
   },
   {
    "duration": 25,
    "start_time": "2023-08-31T11:37:15.261Z"
   },
   {
    "duration": 41809,
    "start_time": "2023-08-31T11:37:15.288Z"
   },
   {
    "duration": 69370,
    "start_time": "2023-08-31T11:37:57.099Z"
   },
   {
    "duration": 86249,
    "start_time": "2023-08-31T11:39:06.471Z"
   },
   {
    "duration": 103641,
    "start_time": "2023-08-31T11:40:32.721Z"
   },
   {
    "duration": 2138,
    "start_time": "2023-08-31T11:48:51.112Z"
   },
   {
    "duration": 5,
    "start_time": "2023-08-31T11:49:10.218Z"
   },
   {
    "duration": 9,
    "start_time": "2023-08-31T11:49:10.226Z"
   },
   {
    "duration": 34,
    "start_time": "2023-08-31T11:49:10.236Z"
   },
   {
    "duration": 10,
    "start_time": "2023-08-31T11:49:10.272Z"
   },
   {
    "duration": 16,
    "start_time": "2023-08-31T11:49:10.284Z"
   },
   {
    "duration": 35,
    "start_time": "2023-08-31T11:49:10.302Z"
   },
   {
    "duration": 11,
    "start_time": "2023-08-31T11:49:10.339Z"
   },
   {
    "duration": 1031,
    "start_time": "2023-08-31T11:49:10.352Z"
   },
   {
    "duration": 6,
    "start_time": "2023-08-31T11:49:11.386Z"
   },
   {
    "duration": 47,
    "start_time": "2023-08-31T11:49:11.394Z"
   },
   {
    "duration": 44,
    "start_time": "2023-08-31T11:49:11.443Z"
   },
   {
    "duration": 184,
    "start_time": "2023-08-31T11:49:11.489Z"
   },
   {
    "duration": 5,
    "start_time": "2023-08-31T11:49:11.675Z"
   },
   {
    "duration": 16,
    "start_time": "2023-08-31T11:49:11.682Z"
   },
   {
    "duration": 197,
    "start_time": "2023-08-31T11:49:11.700Z"
   },
   {
    "duration": 6,
    "start_time": "2023-08-31T11:49:11.899Z"
   },
   {
    "duration": 16,
    "start_time": "2023-08-31T11:49:11.907Z"
   },
   {
    "duration": 203,
    "start_time": "2023-08-31T11:49:11.925Z"
   },
   {
    "duration": 5,
    "start_time": "2023-08-31T11:49:12.130Z"
   },
   {
    "duration": 14,
    "start_time": "2023-08-31T11:49:12.147Z"
   },
   {
    "duration": 178,
    "start_time": "2023-08-31T11:49:12.163Z"
   },
   {
    "duration": 5,
    "start_time": "2023-08-31T11:49:12.346Z"
   },
   {
    "duration": 14,
    "start_time": "2023-08-31T11:49:12.353Z"
   },
   {
    "duration": 15,
    "start_time": "2023-08-31T11:49:12.371Z"
   },
   {
    "duration": 5,
    "start_time": "2023-08-31T11:49:12.388Z"
   },
   {
    "duration": 15,
    "start_time": "2023-08-31T11:49:12.395Z"
   },
   {
    "duration": 26,
    "start_time": "2023-08-31T11:49:12.412Z"
   },
   {
    "duration": 12,
    "start_time": "2023-08-31T11:49:12.439Z"
   },
   {
    "duration": 4,
    "start_time": "2023-08-31T11:50:55.496Z"
   },
   {
    "duration": 6,
    "start_time": "2023-08-31T11:50:55.502Z"
   },
   {
    "duration": 29,
    "start_time": "2023-08-31T11:50:55.510Z"
   },
   {
    "duration": 11,
    "start_time": "2023-08-31T11:50:55.541Z"
   },
   {
    "duration": 16,
    "start_time": "2023-08-31T11:50:55.553Z"
   },
   {
    "duration": 8,
    "start_time": "2023-08-31T11:50:55.571Z"
   },
   {
    "duration": 7,
    "start_time": "2023-08-31T11:50:55.581Z"
   },
   {
    "duration": 998,
    "start_time": "2023-08-31T11:50:55.590Z"
   },
   {
    "duration": 6,
    "start_time": "2023-08-31T11:50:56.590Z"
   },
   {
    "duration": 4,
    "start_time": "2023-08-31T11:50:56.601Z"
   },
   {
    "duration": 8,
    "start_time": "2023-08-31T11:50:56.607Z"
   },
   {
    "duration": 184,
    "start_time": "2023-08-31T11:50:56.617Z"
   },
   {
    "duration": 5,
    "start_time": "2023-08-31T11:50:56.803Z"
   },
   {
    "duration": 20,
    "start_time": "2023-08-31T11:50:56.809Z"
   },
   {
    "duration": 162,
    "start_time": "2023-08-31T11:50:56.831Z"
   },
   {
    "duration": 5,
    "start_time": "2023-08-31T11:50:56.995Z"
   },
   {
    "duration": 18,
    "start_time": "2023-08-31T11:50:57.002Z"
   },
   {
    "duration": 186,
    "start_time": "2023-08-31T11:50:57.021Z"
   },
   {
    "duration": 5,
    "start_time": "2023-08-31T11:50:57.209Z"
   },
   {
    "duration": 11,
    "start_time": "2023-08-31T11:50:57.215Z"
   },
   {
    "duration": 642,
    "start_time": "2023-08-31T11:50:57.228Z"
   },
   {
    "duration": 5,
    "start_time": "2023-08-31T11:50:57.872Z"
   },
   {
    "duration": 10,
    "start_time": "2023-08-31T11:50:57.879Z"
   },
   {
    "duration": 6,
    "start_time": "2023-08-31T11:50:57.891Z"
   },
   {
    "duration": 6,
    "start_time": "2023-08-31T11:50:57.899Z"
   },
   {
    "duration": 5,
    "start_time": "2023-08-31T11:50:57.906Z"
   },
   {
    "duration": 43,
    "start_time": "2023-08-31T11:50:57.913Z"
   },
   {
    "duration": 9,
    "start_time": "2023-08-31T11:50:57.960Z"
   },
   {
    "duration": 1985,
    "start_time": "2023-08-31T11:52:18.949Z"
   },
   {
    "duration": 4,
    "start_time": "2023-08-31T11:52:20.936Z"
   },
   {
    "duration": 84,
    "start_time": "2023-08-31T11:52:20.942Z"
   },
   {
    "duration": 15,
    "start_time": "2023-08-31T11:52:21.028Z"
   },
   {
    "duration": 21,
    "start_time": "2023-08-31T11:52:21.046Z"
   },
   {
    "duration": 18,
    "start_time": "2023-08-31T11:52:21.070Z"
   },
   {
    "duration": 22,
    "start_time": "2023-08-31T11:52:21.090Z"
   },
   {
    "duration": 1079,
    "start_time": "2023-08-31T11:52:21.114Z"
   },
   {
    "duration": 7,
    "start_time": "2023-08-31T11:52:22.195Z"
   },
   {
    "duration": 8,
    "start_time": "2023-08-31T11:52:22.204Z"
   },
   {
    "duration": 22,
    "start_time": "2023-08-31T11:52:22.214Z"
   },
   {
    "duration": 179,
    "start_time": "2023-08-31T11:52:22.247Z"
   },
   {
    "duration": 5,
    "start_time": "2023-08-31T11:52:22.428Z"
   },
   {
    "duration": 11,
    "start_time": "2023-08-31T11:52:22.446Z"
   },
   {
    "duration": 196,
    "start_time": "2023-08-31T11:52:22.458Z"
   },
   {
    "duration": 5,
    "start_time": "2023-08-31T11:52:22.656Z"
   },
   {
    "duration": 27,
    "start_time": "2023-08-31T11:52:22.663Z"
   },
   {
    "duration": 196,
    "start_time": "2023-08-31T11:52:22.692Z"
   },
   {
    "duration": 5,
    "start_time": "2023-08-31T11:52:22.890Z"
   },
   {
    "duration": 27,
    "start_time": "2023-08-31T11:52:22.896Z"
   },
   {
    "duration": 174,
    "start_time": "2023-08-31T11:52:22.924Z"
   },
   {
    "duration": 5,
    "start_time": "2023-08-31T11:52:23.099Z"
   },
   {
    "duration": 21,
    "start_time": "2023-08-31T11:52:23.106Z"
   },
   {
    "duration": 26,
    "start_time": "2023-08-31T11:52:23.129Z"
   },
   {
    "duration": 23,
    "start_time": "2023-08-31T11:52:23.156Z"
   },
   {
    "duration": 13,
    "start_time": "2023-08-31T11:52:23.181Z"
   },
   {
    "duration": 17,
    "start_time": "2023-08-31T11:52:23.196Z"
   },
   {
    "duration": 48,
    "start_time": "2023-08-31T11:52:23.214Z"
   },
   {
    "duration": 4,
    "start_time": "2023-08-31T11:53:38.993Z"
   },
   {
    "duration": 22,
    "start_time": "2023-08-31T11:53:38.999Z"
   },
   {
    "duration": 34,
    "start_time": "2023-08-31T11:53:39.024Z"
   },
   {
    "duration": 24,
    "start_time": "2023-08-31T11:53:39.060Z"
   },
   {
    "duration": 47,
    "start_time": "2023-08-31T11:53:39.086Z"
   },
   {
    "duration": 11,
    "start_time": "2023-08-31T11:53:39.135Z"
   },
   {
    "duration": 25,
    "start_time": "2023-08-31T11:53:39.148Z"
   },
   {
    "duration": 1074,
    "start_time": "2023-08-31T11:53:39.175Z"
   },
   {
    "duration": 5,
    "start_time": "2023-08-31T11:53:40.251Z"
   },
   {
    "duration": 6,
    "start_time": "2023-08-31T11:53:40.258Z"
   },
   {
    "duration": 9,
    "start_time": "2023-08-31T11:53:40.267Z"
   },
   {
    "duration": 200,
    "start_time": "2023-08-31T11:53:40.278Z"
   },
   {
    "duration": 5,
    "start_time": "2023-08-31T11:53:40.480Z"
   },
   {
    "duration": 11,
    "start_time": "2023-08-31T11:53:40.487Z"
   },
   {
    "duration": 174,
    "start_time": "2023-08-31T11:53:40.500Z"
   },
   {
    "duration": 5,
    "start_time": "2023-08-31T11:53:40.677Z"
   },
   {
    "duration": 12,
    "start_time": "2023-08-31T11:53:40.684Z"
   },
   {
    "duration": 191,
    "start_time": "2023-08-31T11:53:40.698Z"
   },
   {
    "duration": 5,
    "start_time": "2023-08-31T11:53:40.891Z"
   },
   {
    "duration": 12,
    "start_time": "2023-08-31T11:53:40.898Z"
   },
   {
    "duration": 174,
    "start_time": "2023-08-31T11:53:40.912Z"
   },
   {
    "duration": 4,
    "start_time": "2023-08-31T11:53:41.088Z"
   },
   {
    "duration": 15,
    "start_time": "2023-08-31T11:53:41.094Z"
   },
   {
    "duration": 23,
    "start_time": "2023-08-31T11:53:41.111Z"
   },
   {
    "duration": 29,
    "start_time": "2023-08-31T11:53:41.135Z"
   },
   {
    "duration": 150,
    "start_time": "2023-08-31T11:53:41.166Z"
   },
   {
    "duration": 0,
    "start_time": "2023-08-31T11:53:41.318Z"
   },
   {
    "duration": 0,
    "start_time": "2023-08-31T11:53:41.319Z"
   },
   {
    "duration": 4,
    "start_time": "2023-08-31T11:53:59.738Z"
   },
   {
    "duration": 25,
    "start_time": "2023-08-31T11:53:59.744Z"
   },
   {
    "duration": 30,
    "start_time": "2023-08-31T11:53:59.770Z"
   },
   {
    "duration": 11,
    "start_time": "2023-08-31T11:53:59.803Z"
   },
   {
    "duration": 13,
    "start_time": "2023-08-31T11:53:59.815Z"
   },
   {
    "duration": 10,
    "start_time": "2023-08-31T11:53:59.829Z"
   },
   {
    "duration": 9,
    "start_time": "2023-08-31T11:53:59.841Z"
   },
   {
    "duration": 1011,
    "start_time": "2023-08-31T11:53:59.851Z"
   },
   {
    "duration": 6,
    "start_time": "2023-08-31T11:54:00.863Z"
   },
   {
    "duration": 42,
    "start_time": "2023-08-31T11:54:00.871Z"
   },
   {
    "duration": 32,
    "start_time": "2023-08-31T11:54:00.915Z"
   },
   {
    "duration": 177,
    "start_time": "2023-08-31T11:54:00.949Z"
   },
   {
    "duration": 4,
    "start_time": "2023-08-31T11:54:01.128Z"
   },
   {
    "duration": 31,
    "start_time": "2023-08-31T11:54:01.133Z"
   },
   {
    "duration": 177,
    "start_time": "2023-08-31T11:54:01.166Z"
   },
   {
    "duration": 5,
    "start_time": "2023-08-31T11:54:01.347Z"
   },
   {
    "duration": 41,
    "start_time": "2023-08-31T11:54:01.354Z"
   },
   {
    "duration": 367,
    "start_time": "2023-08-31T11:54:01.400Z"
   },
   {
    "duration": 5,
    "start_time": "2023-08-31T11:54:01.769Z"
   },
   {
    "duration": 33,
    "start_time": "2023-08-31T11:54:01.776Z"
   },
   {
    "duration": 186,
    "start_time": "2023-08-31T11:54:01.811Z"
   },
   {
    "duration": 5,
    "start_time": "2023-08-31T11:54:01.999Z"
   },
   {
    "duration": 39,
    "start_time": "2023-08-31T11:54:02.006Z"
   },
   {
    "duration": 31,
    "start_time": "2023-08-31T11:54:02.047Z"
   },
   {
    "duration": 30,
    "start_time": "2023-08-31T11:54:02.080Z"
   },
   {
    "duration": 34,
    "start_time": "2023-08-31T11:54:02.113Z"
   },
   {
    "duration": 35,
    "start_time": "2023-08-31T11:54:02.151Z"
   },
   {
    "duration": 36,
    "start_time": "2023-08-31T11:54:02.189Z"
   },
   {
    "duration": 3,
    "start_time": "2023-08-31T11:54:47.063Z"
   },
   {
    "duration": 6,
    "start_time": "2023-08-31T11:54:47.068Z"
   },
   {
    "duration": 37,
    "start_time": "2023-08-31T11:54:47.076Z"
   },
   {
    "duration": 11,
    "start_time": "2023-08-31T11:54:47.114Z"
   },
   {
    "duration": 16,
    "start_time": "2023-08-31T11:54:47.127Z"
   },
   {
    "duration": 11,
    "start_time": "2023-08-31T11:54:47.145Z"
   },
   {
    "duration": 7,
    "start_time": "2023-08-31T11:54:47.158Z"
   },
   {
    "duration": 989,
    "start_time": "2023-08-31T11:54:47.167Z"
   },
   {
    "duration": 6,
    "start_time": "2023-08-31T11:54:48.158Z"
   },
   {
    "duration": 12,
    "start_time": "2023-08-31T11:54:48.165Z"
   },
   {
    "duration": 8,
    "start_time": "2023-08-31T11:54:48.179Z"
   },
   {
    "duration": 170,
    "start_time": "2023-08-31T11:54:48.189Z"
   },
   {
    "duration": 5,
    "start_time": "2023-08-31T11:54:48.361Z"
   },
   {
    "duration": 11,
    "start_time": "2023-08-31T11:54:48.367Z"
   },
   {
    "duration": 171,
    "start_time": "2023-08-31T11:54:48.380Z"
   },
   {
    "duration": 4,
    "start_time": "2023-08-31T11:54:48.553Z"
   },
   {
    "duration": 19,
    "start_time": "2023-08-31T11:54:48.559Z"
   },
   {
    "duration": 182,
    "start_time": "2023-08-31T11:54:48.580Z"
   },
   {
    "duration": 5,
    "start_time": "2023-08-31T11:54:48.764Z"
   },
   {
    "duration": 9,
    "start_time": "2023-08-31T11:54:48.771Z"
   },
   {
    "duration": 185,
    "start_time": "2023-08-31T11:54:48.782Z"
   },
   {
    "duration": 5,
    "start_time": "2023-08-31T11:54:48.969Z"
   },
   {
    "duration": 21,
    "start_time": "2023-08-31T11:54:48.976Z"
   },
   {
    "duration": 11,
    "start_time": "2023-08-31T11:54:48.998Z"
   },
   {
    "duration": 5,
    "start_time": "2023-08-31T11:54:49.012Z"
   },
   {
    "duration": 6,
    "start_time": "2023-08-31T11:54:49.019Z"
   },
   {
    "duration": 21,
    "start_time": "2023-08-31T11:54:49.026Z"
   },
   {
    "duration": 6,
    "start_time": "2023-08-31T11:54:49.049Z"
   },
   {
    "duration": 11,
    "start_time": "2023-08-31T11:54:49.058Z"
   },
   {
    "duration": 9,
    "start_time": "2023-08-31T11:54:49.071Z"
   },
   {
    "duration": 25,
    "start_time": "2023-08-31T11:54:49.082Z"
   },
   {
    "duration": 19,
    "start_time": "2023-08-31T11:54:49.109Z"
   },
   {
    "duration": 18,
    "start_time": "2023-08-31T11:54:49.129Z"
   },
   {
    "duration": 5,
    "start_time": "2023-08-31T11:54:49.149Z"
   },
   {
    "duration": 14,
    "start_time": "2023-08-31T11:54:49.156Z"
   },
   {
    "duration": 14,
    "start_time": "2023-08-31T11:54:49.171Z"
   },
   {
    "duration": 7,
    "start_time": "2023-08-31T11:54:49.187Z"
   },
   {
    "duration": 5,
    "start_time": "2023-08-31T11:54:49.196Z"
   },
   {
    "duration": 5,
    "start_time": "2023-08-31T11:54:49.203Z"
   },
   {
    "duration": 4,
    "start_time": "2023-08-31T11:54:49.209Z"
   },
   {
    "duration": 7,
    "start_time": "2023-08-31T11:54:49.215Z"
   },
   {
    "duration": 24,
    "start_time": "2023-08-31T11:54:49.223Z"
   },
   {
    "duration": 4,
    "start_time": "2023-08-31T11:54:49.248Z"
   },
   {
    "duration": 12,
    "start_time": "2023-08-31T11:54:49.254Z"
   },
   {
    "duration": 10,
    "start_time": "2023-08-31T11:54:49.267Z"
   },
   {
    "duration": 11,
    "start_time": "2023-08-31T11:54:49.278Z"
   },
   {
    "duration": 2137,
    "start_time": "2023-08-31T11:54:49.290Z"
   },
   {
    "duration": 3678,
    "start_time": "2023-08-31T11:54:51.429Z"
   },
   {
    "duration": 4410,
    "start_time": "2023-08-31T11:54:55.109Z"
   },
   {
    "duration": 5248,
    "start_time": "2023-08-31T11:54:59.521Z"
   },
   {
    "duration": 4,
    "start_time": "2023-08-31T11:56:18.370Z"
   },
   {
    "duration": 10,
    "start_time": "2023-08-31T11:56:18.376Z"
   },
   {
    "duration": 32,
    "start_time": "2023-08-31T11:56:18.388Z"
   },
   {
    "duration": 12,
    "start_time": "2023-08-31T11:56:18.421Z"
   },
   {
    "duration": 15,
    "start_time": "2023-08-31T11:56:18.435Z"
   },
   {
    "duration": 8,
    "start_time": "2023-08-31T11:56:18.452Z"
   },
   {
    "duration": 7,
    "start_time": "2023-08-31T11:56:18.462Z"
   },
   {
    "duration": 1182,
    "start_time": "2023-08-31T11:56:18.470Z"
   },
   {
    "duration": 6,
    "start_time": "2023-08-31T11:56:19.654Z"
   },
   {
    "duration": 11,
    "start_time": "2023-08-31T11:56:19.661Z"
   },
   {
    "duration": 24,
    "start_time": "2023-08-31T11:56:19.675Z"
   },
   {
    "duration": 178,
    "start_time": "2023-08-31T11:56:19.700Z"
   },
   {
    "duration": 5,
    "start_time": "2023-08-31T11:56:19.879Z"
   },
   {
    "duration": 18,
    "start_time": "2023-08-31T11:56:19.886Z"
   },
   {
    "duration": 165,
    "start_time": "2023-08-31T11:56:19.906Z"
   },
   {
    "duration": 5,
    "start_time": "2023-08-31T11:56:20.073Z"
   },
   {
    "duration": 57,
    "start_time": "2023-08-31T11:56:20.079Z"
   },
   {
    "duration": 190,
    "start_time": "2023-08-31T11:56:20.138Z"
   },
   {
    "duration": 6,
    "start_time": "2023-08-31T11:56:20.330Z"
   },
   {
    "duration": 28,
    "start_time": "2023-08-31T11:56:20.337Z"
   },
   {
    "duration": 171,
    "start_time": "2023-08-31T11:56:20.367Z"
   },
   {
    "duration": 6,
    "start_time": "2023-08-31T11:56:20.540Z"
   },
   {
    "duration": 6,
    "start_time": "2023-08-31T11:56:20.548Z"
   },
   {
    "duration": 6,
    "start_time": "2023-08-31T11:56:20.556Z"
   },
   {
    "duration": 6,
    "start_time": "2023-08-31T11:56:20.563Z"
   },
   {
    "duration": 9,
    "start_time": "2023-08-31T11:56:20.571Z"
   },
   {
    "duration": 10,
    "start_time": "2023-08-31T11:56:20.582Z"
   },
   {
    "duration": 6,
    "start_time": "2023-08-31T11:56:20.594Z"
   },
   {
    "duration": 11,
    "start_time": "2023-08-31T11:56:20.605Z"
   },
   {
    "duration": 4,
    "start_time": "2023-08-31T11:56:20.646Z"
   },
   {
    "duration": 19,
    "start_time": "2023-08-31T11:56:20.652Z"
   },
   {
    "duration": 5,
    "start_time": "2023-08-31T11:56:20.673Z"
   },
   {
    "duration": 13,
    "start_time": "2023-08-31T11:56:20.679Z"
   },
   {
    "duration": 31,
    "start_time": "2023-08-31T11:56:20.694Z"
   },
   {
    "duration": 8,
    "start_time": "2023-08-31T11:56:20.726Z"
   },
   {
    "duration": 8,
    "start_time": "2023-08-31T11:56:20.735Z"
   },
   {
    "duration": 5,
    "start_time": "2023-08-31T11:56:20.745Z"
   },
   {
    "duration": 9,
    "start_time": "2023-08-31T11:56:20.751Z"
   },
   {
    "duration": 5,
    "start_time": "2023-08-31T11:56:20.762Z"
   },
   {
    "duration": 4,
    "start_time": "2023-08-31T11:56:20.768Z"
   },
   {
    "duration": 5,
    "start_time": "2023-08-31T11:56:20.774Z"
   },
   {
    "duration": 5,
    "start_time": "2023-08-31T11:56:20.780Z"
   },
   {
    "duration": 5,
    "start_time": "2023-08-31T11:56:20.786Z"
   },
   {
    "duration": 4,
    "start_time": "2023-08-31T11:56:20.793Z"
   },
   {
    "duration": 5,
    "start_time": "2023-08-31T11:56:20.798Z"
   },
   {
    "duration": 8,
    "start_time": "2023-08-31T11:56:20.804Z"
   },
   {
    "duration": 4265,
    "start_time": "2023-08-31T11:56:20.814Z"
   },
   {
    "duration": 7103,
    "start_time": "2023-08-31T11:56:25.081Z"
   },
   {
    "duration": 8978,
    "start_time": "2023-08-31T11:56:32.186Z"
   },
   {
    "duration": 10639,
    "start_time": "2023-08-31T11:56:41.166Z"
   },
   {
    "duration": 4,
    "start_time": "2023-08-31T11:57:15.751Z"
   },
   {
    "duration": 52,
    "start_time": "2023-08-31T11:57:15.757Z"
   },
   {
    "duration": 32,
    "start_time": "2023-08-31T11:57:15.811Z"
   },
   {
    "duration": 15,
    "start_time": "2023-08-31T11:57:15.845Z"
   },
   {
    "duration": 25,
    "start_time": "2023-08-31T11:57:15.861Z"
   },
   {
    "duration": 23,
    "start_time": "2023-08-31T11:57:15.888Z"
   },
   {
    "duration": 9,
    "start_time": "2023-08-31T11:57:15.913Z"
   },
   {
    "duration": 970,
    "start_time": "2023-08-31T11:57:15.923Z"
   },
   {
    "duration": 5,
    "start_time": "2023-08-31T11:57:16.896Z"
   },
   {
    "duration": 7,
    "start_time": "2023-08-31T11:57:16.903Z"
   },
   {
    "duration": 10,
    "start_time": "2023-08-31T11:57:16.912Z"
   },
   {
    "duration": 179,
    "start_time": "2023-08-31T11:57:16.923Z"
   },
   {
    "duration": 5,
    "start_time": "2023-08-31T11:57:17.104Z"
   },
   {
    "duration": 14,
    "start_time": "2023-08-31T11:57:17.111Z"
   },
   {
    "duration": 187,
    "start_time": "2023-08-31T11:57:17.127Z"
   },
   {
    "duration": 5,
    "start_time": "2023-08-31T11:57:17.316Z"
   },
   {
    "duration": 9,
    "start_time": "2023-08-31T11:57:17.323Z"
   },
   {
    "duration": 181,
    "start_time": "2023-08-31T11:57:17.347Z"
   },
   {
    "duration": 4,
    "start_time": "2023-08-31T11:57:17.530Z"
   },
   {
    "duration": 24,
    "start_time": "2023-08-31T11:57:17.536Z"
   },
   {
    "duration": 156,
    "start_time": "2023-08-31T11:57:17.562Z"
   },
   {
    "duration": 5,
    "start_time": "2023-08-31T11:57:17.720Z"
   },
   {
    "duration": 20,
    "start_time": "2023-08-31T11:57:17.727Z"
   },
   {
    "duration": 6,
    "start_time": "2023-08-31T11:57:17.751Z"
   },
   {
    "duration": 10,
    "start_time": "2023-08-31T11:57:17.758Z"
   },
   {
    "duration": 10,
    "start_time": "2023-08-31T11:57:17.770Z"
   },
   {
    "duration": 12,
    "start_time": "2023-08-31T11:57:17.782Z"
   },
   {
    "duration": 15,
    "start_time": "2023-08-31T11:57:17.796Z"
   },
   {
    "duration": 13,
    "start_time": "2023-08-31T11:57:17.813Z"
   },
   {
    "duration": 28,
    "start_time": "2023-08-31T11:57:17.827Z"
   },
   {
    "duration": 33,
    "start_time": "2023-08-31T11:57:17.856Z"
   },
   {
    "duration": 14,
    "start_time": "2023-08-31T11:57:17.891Z"
   },
   {
    "duration": 14,
    "start_time": "2023-08-31T11:57:17.907Z"
   },
   {
    "duration": 9,
    "start_time": "2023-08-31T11:57:17.923Z"
   },
   {
    "duration": 16,
    "start_time": "2023-08-31T11:57:17.934Z"
   },
   {
    "duration": 10,
    "start_time": "2023-08-31T11:57:17.951Z"
   },
   {
    "duration": 10,
    "start_time": "2023-08-31T11:57:17.963Z"
   },
   {
    "duration": 18,
    "start_time": "2023-08-31T11:57:17.974Z"
   },
   {
    "duration": 15,
    "start_time": "2023-08-31T11:57:17.994Z"
   },
   {
    "duration": 20,
    "start_time": "2023-08-31T11:57:18.011Z"
   },
   {
    "duration": 11,
    "start_time": "2023-08-31T11:57:18.033Z"
   },
   {
    "duration": 13,
    "start_time": "2023-08-31T11:57:18.045Z"
   },
   {
    "duration": 14,
    "start_time": "2023-08-31T11:57:18.060Z"
   },
   {
    "duration": 14,
    "start_time": "2023-08-31T11:57:18.075Z"
   },
   {
    "duration": 6,
    "start_time": "2023-08-31T11:57:18.091Z"
   },
   {
    "duration": 34,
    "start_time": "2023-08-31T11:57:18.099Z"
   },
   {
    "duration": 6785,
    "start_time": "2023-08-31T11:57:18.135Z"
   },
   {
    "duration": 11283,
    "start_time": "2023-08-31T11:57:24.921Z"
   },
   {
    "duration": 13577,
    "start_time": "2023-08-31T11:57:36.206Z"
   },
   {
    "duration": 15825,
    "start_time": "2023-08-31T11:57:49.785Z"
   },
   {
    "duration": 5,
    "start_time": "2023-08-31T11:58:51.753Z"
   },
   {
    "duration": 24,
    "start_time": "2023-08-31T11:58:51.760Z"
   },
   {
    "duration": 45,
    "start_time": "2023-08-31T11:58:51.786Z"
   },
   {
    "duration": 14,
    "start_time": "2023-08-31T11:58:51.833Z"
   },
   {
    "duration": 23,
    "start_time": "2023-08-31T11:58:51.849Z"
   },
   {
    "duration": 23,
    "start_time": "2023-08-31T11:58:51.874Z"
   },
   {
    "duration": 23,
    "start_time": "2023-08-31T11:58:51.899Z"
   },
   {
    "duration": 1338,
    "start_time": "2023-08-31T11:58:51.923Z"
   },
   {
    "duration": 5,
    "start_time": "2023-08-31T11:58:53.262Z"
   },
   {
    "duration": 6,
    "start_time": "2023-08-31T11:58:53.269Z"
   },
   {
    "duration": 18,
    "start_time": "2023-08-31T11:58:53.276Z"
   },
   {
    "duration": 207,
    "start_time": "2023-08-31T11:58:53.296Z"
   },
   {
    "duration": 5,
    "start_time": "2023-08-31T11:58:53.507Z"
   },
   {
    "duration": 11,
    "start_time": "2023-08-31T11:58:53.514Z"
   },
   {
    "duration": 189,
    "start_time": "2023-08-31T11:58:53.527Z"
   },
   {
    "duration": 5,
    "start_time": "2023-08-31T11:58:53.719Z"
   },
   {
    "duration": 25,
    "start_time": "2023-08-31T11:58:53.726Z"
   },
   {
    "duration": 185,
    "start_time": "2023-08-31T11:58:53.752Z"
   },
   {
    "duration": 11,
    "start_time": "2023-08-31T11:58:53.938Z"
   },
   {
    "duration": 15,
    "start_time": "2023-08-31T11:58:53.951Z"
   },
   {
    "duration": 169,
    "start_time": "2023-08-31T11:58:53.968Z"
   },
   {
    "duration": 9,
    "start_time": "2023-08-31T11:58:54.138Z"
   },
   {
    "duration": 17,
    "start_time": "2023-08-31T11:58:54.149Z"
   },
   {
    "duration": 8,
    "start_time": "2023-08-31T11:58:54.168Z"
   },
   {
    "duration": 6,
    "start_time": "2023-08-31T11:58:54.177Z"
   },
   {
    "duration": 5,
    "start_time": "2023-08-31T11:58:54.185Z"
   },
   {
    "duration": 19,
    "start_time": "2023-08-31T11:58:54.191Z"
   },
   {
    "duration": 7,
    "start_time": "2023-08-31T11:58:54.212Z"
   },
   {
    "duration": 16,
    "start_time": "2023-08-31T11:58:54.220Z"
   },
   {
    "duration": 4,
    "start_time": "2023-08-31T11:58:54.246Z"
   },
   {
    "duration": 30,
    "start_time": "2023-08-31T11:58:54.252Z"
   },
   {
    "duration": 6,
    "start_time": "2023-08-31T11:58:54.284Z"
   },
   {
    "duration": 8,
    "start_time": "2023-08-31T11:58:54.292Z"
   },
   {
    "duration": 5,
    "start_time": "2023-08-31T11:58:54.302Z"
   },
   {
    "duration": 4,
    "start_time": "2023-08-31T11:58:54.309Z"
   },
   {
    "duration": 15,
    "start_time": "2023-08-31T11:58:54.314Z"
   },
   {
    "duration": 7,
    "start_time": "2023-08-31T11:58:54.358Z"
   },
   {
    "duration": 7,
    "start_time": "2023-08-31T11:58:54.367Z"
   },
   {
    "duration": 9,
    "start_time": "2023-08-31T11:58:54.376Z"
   },
   {
    "duration": 6,
    "start_time": "2023-08-31T11:58:54.387Z"
   },
   {
    "duration": 7,
    "start_time": "2023-08-31T11:58:54.395Z"
   },
   {
    "duration": 14,
    "start_time": "2023-08-31T11:58:54.403Z"
   },
   {
    "duration": 13,
    "start_time": "2023-08-31T11:58:54.419Z"
   },
   {
    "duration": 7,
    "start_time": "2023-08-31T11:58:54.433Z"
   },
   {
    "duration": 5,
    "start_time": "2023-08-31T11:58:54.442Z"
   },
   {
    "duration": 12,
    "start_time": "2023-08-31T11:58:54.448Z"
   },
   {
    "duration": 6649,
    "start_time": "2023-08-31T11:58:54.462Z"
   },
   {
    "duration": 11086,
    "start_time": "2023-08-31T11:59:01.113Z"
   },
   {
    "duration": 36746,
    "start_time": "2023-08-31T11:59:12.201Z"
   },
   {
    "duration": 47106,
    "start_time": "2023-08-31T11:59:48.949Z"
   },
   {
    "duration": 3,
    "start_time": "2023-08-31T12:02:24.339Z"
   },
   {
    "duration": 27,
    "start_time": "2023-08-31T12:02:24.344Z"
   },
   {
    "duration": 53,
    "start_time": "2023-08-31T12:02:24.373Z"
   },
   {
    "duration": 10,
    "start_time": "2023-08-31T12:02:24.428Z"
   },
   {
    "duration": 26,
    "start_time": "2023-08-31T12:02:24.441Z"
   },
   {
    "duration": 38,
    "start_time": "2023-08-31T12:02:24.469Z"
   },
   {
    "duration": 16,
    "start_time": "2023-08-31T12:02:24.509Z"
   },
   {
    "duration": 1050,
    "start_time": "2023-08-31T12:02:24.527Z"
   },
   {
    "duration": 6,
    "start_time": "2023-08-31T12:02:25.579Z"
   },
   {
    "duration": 20,
    "start_time": "2023-08-31T12:02:25.586Z"
   },
   {
    "duration": 27,
    "start_time": "2023-08-31T12:02:25.608Z"
   },
   {
    "duration": 175,
    "start_time": "2023-08-31T12:02:25.637Z"
   },
   {
    "duration": 4,
    "start_time": "2023-08-31T12:02:25.814Z"
   },
   {
    "duration": 30,
    "start_time": "2023-08-31T12:02:25.821Z"
   },
   {
    "duration": 169,
    "start_time": "2023-08-31T12:02:25.853Z"
   },
   {
    "duration": 5,
    "start_time": "2023-08-31T12:02:26.024Z"
   },
   {
    "duration": 27,
    "start_time": "2023-08-31T12:02:26.031Z"
   },
   {
    "duration": 191,
    "start_time": "2023-08-31T12:02:26.060Z"
   },
   {
    "duration": 5,
    "start_time": "2023-08-31T12:02:26.253Z"
   },
   {
    "duration": 52,
    "start_time": "2023-08-31T12:02:26.260Z"
   },
   {
    "duration": 184,
    "start_time": "2023-08-31T12:02:26.314Z"
   },
   {
    "duration": 5,
    "start_time": "2023-08-31T12:02:26.500Z"
   },
   {
    "duration": 44,
    "start_time": "2023-08-31T12:02:26.507Z"
   },
   {
    "duration": 22,
    "start_time": "2023-08-31T12:02:26.554Z"
   },
   {
    "duration": 33,
    "start_time": "2023-08-31T12:02:26.577Z"
   },
   {
    "duration": 40,
    "start_time": "2023-08-31T12:02:26.612Z"
   },
   {
    "duration": 13,
    "start_time": "2023-08-31T12:02:26.654Z"
   },
   {
    "duration": 36,
    "start_time": "2023-08-31T12:02:26.669Z"
   },
   {
    "duration": 4,
    "start_time": "2023-08-31T12:03:18.914Z"
   },
   {
    "duration": 7,
    "start_time": "2023-08-31T12:03:18.920Z"
   },
   {
    "duration": 29,
    "start_time": "2023-08-31T12:03:18.929Z"
   },
   {
    "duration": 13,
    "start_time": "2023-08-31T12:03:18.960Z"
   },
   {
    "duration": 22,
    "start_time": "2023-08-31T12:03:18.976Z"
   },
   {
    "duration": 17,
    "start_time": "2023-08-31T12:03:19.000Z"
   },
   {
    "duration": 24,
    "start_time": "2023-08-31T12:03:19.019Z"
   },
   {
    "duration": 982,
    "start_time": "2023-08-31T12:03:19.045Z"
   },
   {
    "duration": 7,
    "start_time": "2023-08-31T12:03:20.029Z"
   },
   {
    "duration": 27,
    "start_time": "2023-08-31T12:03:20.047Z"
   },
   {
    "duration": 29,
    "start_time": "2023-08-31T12:03:20.077Z"
   },
   {
    "duration": 195,
    "start_time": "2023-08-31T12:03:20.108Z"
   },
   {
    "duration": 6,
    "start_time": "2023-08-31T12:03:20.305Z"
   },
   {
    "duration": 33,
    "start_time": "2023-08-31T12:03:20.313Z"
   },
   {
    "duration": 204,
    "start_time": "2023-08-31T12:03:20.348Z"
   },
   {
    "duration": 4,
    "start_time": "2023-08-31T12:03:20.554Z"
   },
   {
    "duration": 18,
    "start_time": "2023-08-31T12:03:20.560Z"
   },
   {
    "duration": 184,
    "start_time": "2023-08-31T12:03:20.580Z"
   },
   {
    "duration": 5,
    "start_time": "2023-08-31T12:03:20.766Z"
   },
   {
    "duration": 16,
    "start_time": "2023-08-31T12:03:20.772Z"
   },
   {
    "duration": 404,
    "start_time": "2023-08-31T12:03:20.790Z"
   },
   {
    "duration": 5,
    "start_time": "2023-08-31T12:03:21.196Z"
   },
   {
    "duration": 30,
    "start_time": "2023-08-31T12:03:21.202Z"
   },
   {
    "duration": 22,
    "start_time": "2023-08-31T12:03:21.234Z"
   },
   {
    "duration": 20,
    "start_time": "2023-08-31T12:03:21.258Z"
   },
   {
    "duration": 23,
    "start_time": "2023-08-31T12:03:21.280Z"
   },
   {
    "duration": 42,
    "start_time": "2023-08-31T12:03:21.305Z"
   },
   {
    "duration": 30,
    "start_time": "2023-08-31T12:03:21.349Z"
   },
   {
    "duration": 4,
    "start_time": "2023-08-31T12:03:40.443Z"
   },
   {
    "duration": 12,
    "start_time": "2023-08-31T12:03:40.449Z"
   },
   {
    "duration": 49,
    "start_time": "2023-08-31T12:03:40.463Z"
   },
   {
    "duration": 11,
    "start_time": "2023-08-31T12:03:40.514Z"
   },
   {
    "duration": 26,
    "start_time": "2023-08-31T12:03:40.527Z"
   },
   {
    "duration": 21,
    "start_time": "2023-08-31T12:03:40.555Z"
   },
   {
    "duration": 19,
    "start_time": "2023-08-31T12:03:40.577Z"
   },
   {
    "duration": 995,
    "start_time": "2023-08-31T12:03:40.598Z"
   },
   {
    "duration": 7,
    "start_time": "2023-08-31T12:03:41.595Z"
   },
   {
    "duration": 14,
    "start_time": "2023-08-31T12:03:41.606Z"
   },
   {
    "duration": 16,
    "start_time": "2023-08-31T12:03:41.622Z"
   },
   {
    "duration": 167,
    "start_time": "2023-08-31T12:03:41.647Z"
   },
   {
    "duration": 5,
    "start_time": "2023-08-31T12:03:41.816Z"
   },
   {
    "duration": 39,
    "start_time": "2023-08-31T12:03:41.823Z"
   },
   {
    "duration": 161,
    "start_time": "2023-08-31T12:03:41.864Z"
   },
   {
    "duration": 5,
    "start_time": "2023-08-31T12:03:42.027Z"
   },
   {
    "duration": 17,
    "start_time": "2023-08-31T12:03:42.033Z"
   },
   {
    "duration": 194,
    "start_time": "2023-08-31T12:03:42.052Z"
   },
   {
    "duration": 5,
    "start_time": "2023-08-31T12:03:42.248Z"
   },
   {
    "duration": 39,
    "start_time": "2023-08-31T12:03:42.254Z"
   },
   {
    "duration": 170,
    "start_time": "2023-08-31T12:03:42.294Z"
   },
   {
    "duration": 6,
    "start_time": "2023-08-31T12:03:42.465Z"
   },
   {
    "duration": 6,
    "start_time": "2023-08-31T12:03:42.477Z"
   },
   {
    "duration": 7,
    "start_time": "2023-08-31T12:03:42.485Z"
   },
   {
    "duration": 14,
    "start_time": "2023-08-31T12:03:42.494Z"
   },
   {
    "duration": 19,
    "start_time": "2023-08-31T12:03:42.510Z"
   },
   {
    "duration": 26,
    "start_time": "2023-08-31T12:03:42.531Z"
   },
   {
    "duration": 7,
    "start_time": "2023-08-31T12:03:42.561Z"
   },
   {
    "duration": 14,
    "start_time": "2023-08-31T12:03:42.570Z"
   },
   {
    "duration": 10,
    "start_time": "2023-08-31T12:03:42.586Z"
   },
   {
    "duration": 41,
    "start_time": "2023-08-31T12:03:42.597Z"
   },
   {
    "duration": 19,
    "start_time": "2023-08-31T12:03:42.640Z"
   },
   {
    "duration": 14,
    "start_time": "2023-08-31T12:03:42.660Z"
   },
   {
    "duration": 21,
    "start_time": "2023-08-31T12:03:42.676Z"
   },
   {
    "duration": 9,
    "start_time": "2023-08-31T12:03:42.699Z"
   },
   {
    "duration": 15,
    "start_time": "2023-08-31T12:03:42.710Z"
   },
   {
    "duration": 19,
    "start_time": "2023-08-31T12:03:42.726Z"
   },
   {
    "duration": 14,
    "start_time": "2023-08-31T12:03:42.746Z"
   },
   {
    "duration": 16,
    "start_time": "2023-08-31T12:03:42.762Z"
   },
   {
    "duration": 22,
    "start_time": "2023-08-31T12:03:42.780Z"
   },
   {
    "duration": 25,
    "start_time": "2023-08-31T12:03:42.804Z"
   },
   {
    "duration": 27,
    "start_time": "2023-08-31T12:03:42.830Z"
   },
   {
    "duration": 19,
    "start_time": "2023-08-31T12:03:42.859Z"
   },
   {
    "duration": 11,
    "start_time": "2023-08-31T12:03:42.880Z"
   },
   {
    "duration": 16,
    "start_time": "2023-08-31T12:03:42.893Z"
   },
   {
    "duration": 12,
    "start_time": "2023-08-31T12:03:42.910Z"
   },
   {
    "duration": 6663,
    "start_time": "2023-08-31T12:03:42.923Z"
   },
   {
    "duration": 11301,
    "start_time": "2023-08-31T12:03:49.588Z"
   },
   {
    "duration": 41561,
    "start_time": "2023-08-31T12:04:00.891Z"
   },
   {
    "duration": 49316,
    "start_time": "2023-08-31T12:04:42.454Z"
   },
   {
    "duration": 106085,
    "start_time": "2023-08-31T12:06:16.977Z"
   },
   {
    "duration": 38518,
    "start_time": "2023-08-31T12:08:52.338Z"
   },
   {
    "duration": 3,
    "start_time": "2023-08-31T12:11:29.066Z"
   },
   {
    "duration": 4,
    "start_time": "2023-08-31T12:12:32.644Z"
   },
   {
    "duration": 37,
    "start_time": "2023-08-31T12:12:32.651Z"
   },
   {
    "duration": 63,
    "start_time": "2023-08-31T12:12:32.690Z"
   },
   {
    "duration": 9,
    "start_time": "2023-08-31T12:12:32.755Z"
   },
   {
    "duration": 14,
    "start_time": "2023-08-31T12:12:32.767Z"
   },
   {
    "duration": 7,
    "start_time": "2023-08-31T12:12:32.782Z"
   },
   {
    "duration": 10,
    "start_time": "2023-08-31T12:12:32.790Z"
   },
   {
    "duration": 959,
    "start_time": "2023-08-31T12:12:32.802Z"
   },
   {
    "duration": 5,
    "start_time": "2023-08-31T12:12:33.763Z"
   },
   {
    "duration": 6,
    "start_time": "2023-08-31T12:12:33.770Z"
   },
   {
    "duration": 10,
    "start_time": "2023-08-31T12:12:33.779Z"
   },
   {
    "duration": 186,
    "start_time": "2023-08-31T12:12:33.790Z"
   },
   {
    "duration": 5,
    "start_time": "2023-08-31T12:12:33.978Z"
   },
   {
    "duration": 13,
    "start_time": "2023-08-31T12:12:33.985Z"
   },
   {
    "duration": 173,
    "start_time": "2023-08-31T12:12:34.000Z"
   },
   {
    "duration": 4,
    "start_time": "2023-08-31T12:12:34.175Z"
   },
   {
    "duration": 21,
    "start_time": "2023-08-31T12:12:34.181Z"
   },
   {
    "duration": 195,
    "start_time": "2023-08-31T12:12:34.203Z"
   },
   {
    "duration": 5,
    "start_time": "2023-08-31T12:12:34.399Z"
   },
   {
    "duration": 11,
    "start_time": "2023-08-31T12:12:34.407Z"
   },
   {
    "duration": 190,
    "start_time": "2023-08-31T12:12:34.420Z"
   },
   {
    "duration": 5,
    "start_time": "2023-08-31T12:12:34.612Z"
   },
   {
    "duration": 8,
    "start_time": "2023-08-31T12:12:34.619Z"
   },
   {
    "duration": 21,
    "start_time": "2023-08-31T12:12:34.628Z"
   },
   {
    "duration": 6,
    "start_time": "2023-08-31T12:12:34.651Z"
   },
   {
    "duration": 9,
    "start_time": "2023-08-31T12:12:34.658Z"
   },
   {
    "duration": 11,
    "start_time": "2023-08-31T12:12:34.669Z"
   },
   {
    "duration": 8,
    "start_time": "2023-08-31T12:12:34.682Z"
   },
   {
    "duration": 14,
    "start_time": "2023-08-31T12:12:34.695Z"
   },
   {
    "duration": 36,
    "start_time": "2023-08-31T12:12:34.711Z"
   },
   {
    "duration": 3,
    "start_time": "2023-08-31T12:12:34.749Z"
   },
   {
    "duration": 30,
    "start_time": "2023-08-31T12:12:34.754Z"
   },
   {
    "duration": 23,
    "start_time": "2023-08-31T12:12:34.786Z"
   },
   {
    "duration": 19,
    "start_time": "2023-08-31T12:12:34.811Z"
   },
   {
    "duration": 12,
    "start_time": "2023-08-31T12:12:34.833Z"
   },
   {
    "duration": 27,
    "start_time": "2023-08-31T12:12:34.847Z"
   },
   {
    "duration": 0,
    "start_time": "2023-08-31T12:12:34.876Z"
   },
   {
    "duration": 0,
    "start_time": "2023-08-31T12:12:34.877Z"
   },
   {
    "duration": 0,
    "start_time": "2023-08-31T12:12:34.879Z"
   },
   {
    "duration": 4,
    "start_time": "2023-08-31T12:14:03.701Z"
   },
   {
    "duration": 88,
    "start_time": "2023-08-31T12:14:03.707Z"
   },
   {
    "duration": 31,
    "start_time": "2023-08-31T12:14:03.797Z"
   },
   {
    "duration": 12,
    "start_time": "2023-08-31T12:14:03.830Z"
   },
   {
    "duration": 21,
    "start_time": "2023-08-31T12:14:03.843Z"
   },
   {
    "duration": 15,
    "start_time": "2023-08-31T12:14:03.866Z"
   },
   {
    "duration": 14,
    "start_time": "2023-08-31T12:14:03.882Z"
   },
   {
    "duration": 1022,
    "start_time": "2023-08-31T12:14:03.898Z"
   },
   {
    "duration": 7,
    "start_time": "2023-08-31T12:14:04.922Z"
   },
   {
    "duration": 6,
    "start_time": "2023-08-31T12:14:04.946Z"
   },
   {
    "duration": 22,
    "start_time": "2023-08-31T12:14:04.954Z"
   },
   {
    "duration": 188,
    "start_time": "2023-08-31T12:14:04.978Z"
   },
   {
    "duration": 7,
    "start_time": "2023-08-31T12:14:05.168Z"
   },
   {
    "duration": 100,
    "start_time": "2023-08-31T12:14:05.177Z"
   },
   {
    "duration": 228,
    "start_time": "2023-08-31T12:14:05.280Z"
   },
   {
    "duration": 7,
    "start_time": "2023-08-31T12:14:05.510Z"
   },
   {
    "duration": 31,
    "start_time": "2023-08-31T12:14:05.520Z"
   },
   {
    "duration": 494,
    "start_time": "2023-08-31T12:14:05.553Z"
   },
   {
    "duration": 6,
    "start_time": "2023-08-31T12:14:06.048Z"
   },
   {
    "duration": 14,
    "start_time": "2023-08-31T12:14:06.055Z"
   },
   {
    "duration": 193,
    "start_time": "2023-08-31T12:14:06.071Z"
   },
   {
    "duration": 5,
    "start_time": "2023-08-31T12:14:06.265Z"
   },
   {
    "duration": 18,
    "start_time": "2023-08-31T12:14:06.272Z"
   },
   {
    "duration": 14,
    "start_time": "2023-08-31T12:14:06.292Z"
   },
   {
    "duration": 35,
    "start_time": "2023-08-31T12:14:06.308Z"
   },
   {
    "duration": 29,
    "start_time": "2023-08-31T12:14:06.345Z"
   },
   {
    "duration": 24,
    "start_time": "2023-08-31T12:14:06.376Z"
   },
   {
    "duration": 26,
    "start_time": "2023-08-31T12:14:06.403Z"
   },
   {
    "duration": 30,
    "start_time": "2023-08-31T12:14:06.431Z"
   },
   {
    "duration": 26,
    "start_time": "2023-08-31T12:14:06.463Z"
   },
   {
    "duration": 28,
    "start_time": "2023-08-31T12:14:06.490Z"
   },
   {
    "duration": 26,
    "start_time": "2023-08-31T12:14:06.521Z"
   },
   {
    "duration": 15,
    "start_time": "2023-08-31T12:14:06.549Z"
   },
   {
    "duration": 18,
    "start_time": "2023-08-31T12:14:06.566Z"
   },
   {
    "duration": 18,
    "start_time": "2023-08-31T12:14:06.586Z"
   },
   {
    "duration": 33,
    "start_time": "2023-08-31T12:14:06.606Z"
   },
   {
    "duration": 11,
    "start_time": "2023-08-31T12:14:06.641Z"
   },
   {
    "duration": 23,
    "start_time": "2023-08-31T12:14:06.654Z"
   },
   {
    "duration": 22,
    "start_time": "2023-08-31T12:14:06.679Z"
   },
   {
    "duration": 5,
    "start_time": "2023-08-31T12:14:48.516Z"
   },
   {
    "duration": 22,
    "start_time": "2023-08-31T12:14:48.523Z"
   },
   {
    "duration": 40,
    "start_time": "2023-08-31T12:14:48.547Z"
   },
   {
    "duration": 11,
    "start_time": "2023-08-31T12:14:48.589Z"
   },
   {
    "duration": 16,
    "start_time": "2023-08-31T12:14:48.602Z"
   },
   {
    "duration": 9,
    "start_time": "2023-08-31T12:14:48.619Z"
   },
   {
    "duration": 9,
    "start_time": "2023-08-31T12:14:48.630Z"
   },
   {
    "duration": 1021,
    "start_time": "2023-08-31T12:14:48.647Z"
   },
   {
    "duration": 6,
    "start_time": "2023-08-31T12:14:49.671Z"
   },
   {
    "duration": 6,
    "start_time": "2023-08-31T12:14:49.679Z"
   },
   {
    "duration": 8,
    "start_time": "2023-08-31T12:14:49.686Z"
   },
   {
    "duration": 191,
    "start_time": "2023-08-31T12:14:49.696Z"
   },
   {
    "duration": 6,
    "start_time": "2023-08-31T12:14:49.888Z"
   },
   {
    "duration": 11,
    "start_time": "2023-08-31T12:14:49.896Z"
   },
   {
    "duration": 180,
    "start_time": "2023-08-31T12:14:49.909Z"
   },
   {
    "duration": 5,
    "start_time": "2023-08-31T12:14:50.091Z"
   },
   {
    "duration": 11,
    "start_time": "2023-08-31T12:14:50.098Z"
   },
   {
    "duration": 203,
    "start_time": "2023-08-31T12:14:50.110Z"
   },
   {
    "duration": 6,
    "start_time": "2023-08-31T12:14:50.315Z"
   },
   {
    "duration": 25,
    "start_time": "2023-08-31T12:14:50.323Z"
   },
   {
    "duration": 173,
    "start_time": "2023-08-31T12:14:50.350Z"
   },
   {
    "duration": 5,
    "start_time": "2023-08-31T12:14:50.525Z"
   },
   {
    "duration": 24,
    "start_time": "2023-08-31T12:14:50.533Z"
   },
   {
    "duration": 6,
    "start_time": "2023-08-31T12:14:50.563Z"
   },
   {
    "duration": 7,
    "start_time": "2023-08-31T12:14:50.571Z"
   },
   {
    "duration": 25,
    "start_time": "2023-08-31T12:14:50.580Z"
   },
   {
    "duration": 22,
    "start_time": "2023-08-31T12:14:50.607Z"
   },
   {
    "duration": 22,
    "start_time": "2023-08-31T12:14:50.630Z"
   },
   {
    "duration": 25,
    "start_time": "2023-08-31T12:14:50.654Z"
   },
   {
    "duration": 13,
    "start_time": "2023-08-31T12:14:50.681Z"
   },
   {
    "duration": 24,
    "start_time": "2023-08-31T12:14:50.696Z"
   },
   {
    "duration": 27,
    "start_time": "2023-08-31T12:14:50.722Z"
   },
   {
    "duration": 15,
    "start_time": "2023-08-31T12:14:50.751Z"
   },
   {
    "duration": 31,
    "start_time": "2023-08-31T12:14:50.768Z"
   },
   {
    "duration": 23,
    "start_time": "2023-08-31T12:14:50.801Z"
   },
   {
    "duration": 13,
    "start_time": "2023-08-31T12:14:50.826Z"
   },
   {
    "duration": 14,
    "start_time": "2023-08-31T12:14:50.841Z"
   },
   {
    "duration": 9,
    "start_time": "2023-08-31T12:14:50.857Z"
   },
   {
    "duration": 23,
    "start_time": "2023-08-31T12:14:50.867Z"
   },
   {
    "duration": 14,
    "start_time": "2023-08-31T12:14:50.892Z"
   },
   {
    "duration": 27,
    "start_time": "2023-08-31T12:14:50.907Z"
   },
   {
    "duration": 11,
    "start_time": "2023-08-31T12:14:50.936Z"
   },
   {
    "duration": 15,
    "start_time": "2023-08-31T12:14:50.949Z"
   },
   {
    "duration": 28,
    "start_time": "2023-08-31T12:14:50.966Z"
   },
   {
    "duration": 13,
    "start_time": "2023-08-31T12:14:50.995Z"
   },
   {
    "duration": 20,
    "start_time": "2023-08-31T12:14:51.010Z"
   },
   {
    "duration": 15,
    "start_time": "2023-08-31T12:14:51.032Z"
   },
   {
    "duration": 17,
    "start_time": "2023-08-31T12:14:51.048Z"
   },
   {
    "duration": 5256,
    "start_time": "2023-08-31T12:14:51.066Z"
   },
   {
    "duration": 8450,
    "start_time": "2023-08-31T12:14:56.324Z"
   },
   {
    "duration": 25882,
    "start_time": "2023-08-31T12:15:04.776Z"
   },
   {
    "duration": 31600,
    "start_time": "2023-08-31T12:15:30.660Z"
   },
   {
    "duration": 5,
    "start_time": "2023-08-31T12:17:25.189Z"
   },
   {
    "duration": 52,
    "start_time": "2023-08-31T12:17:25.197Z"
   },
   {
    "duration": 31,
    "start_time": "2023-08-31T12:17:25.252Z"
   },
   {
    "duration": 15,
    "start_time": "2023-08-31T12:17:25.286Z"
   },
   {
    "duration": 60,
    "start_time": "2023-08-31T12:17:25.303Z"
   },
   {
    "duration": 17,
    "start_time": "2023-08-31T12:17:25.366Z"
   },
   {
    "duration": 18,
    "start_time": "2023-08-31T12:17:25.386Z"
   },
   {
    "duration": 1064,
    "start_time": "2023-08-31T12:17:25.407Z"
   },
   {
    "duration": 6,
    "start_time": "2023-08-31T12:17:26.473Z"
   },
   {
    "duration": 24,
    "start_time": "2023-08-31T12:17:26.480Z"
   },
   {
    "duration": 33,
    "start_time": "2023-08-31T12:17:26.506Z"
   },
   {
    "duration": 195,
    "start_time": "2023-08-31T12:17:26.541Z"
   },
   {
    "duration": 6,
    "start_time": "2023-08-31T12:17:26.746Z"
   },
   {
    "duration": 31,
    "start_time": "2023-08-31T12:17:26.753Z"
   },
   {
    "duration": 179,
    "start_time": "2023-08-31T12:17:26.786Z"
   },
   {
    "duration": 4,
    "start_time": "2023-08-31T12:17:26.967Z"
   },
   {
    "duration": 33,
    "start_time": "2023-08-31T12:17:26.973Z"
   },
   {
    "duration": 178,
    "start_time": "2023-08-31T12:17:27.008Z"
   },
   {
    "duration": 5,
    "start_time": "2023-08-31T12:17:27.188Z"
   },
   {
    "duration": 35,
    "start_time": "2023-08-31T12:17:27.195Z"
   },
   {
    "duration": 229,
    "start_time": "2023-08-31T12:17:27.233Z"
   },
   {
    "duration": 5,
    "start_time": "2023-08-31T12:17:27.464Z"
   },
   {
    "duration": 47,
    "start_time": "2023-08-31T12:17:27.470Z"
   },
   {
    "duration": 11,
    "start_time": "2023-08-31T12:17:27.518Z"
   },
   {
    "duration": 10,
    "start_time": "2023-08-31T12:17:27.531Z"
   },
   {
    "duration": 69,
    "start_time": "2023-08-31T12:17:27.543Z"
   },
   {
    "duration": 10,
    "start_time": "2023-08-31T12:17:27.614Z"
   },
   {
    "duration": 20,
    "start_time": "2023-08-31T12:17:27.626Z"
   },
   {
    "duration": 14,
    "start_time": "2023-08-31T12:17:27.647Z"
   },
   {
    "duration": 13,
    "start_time": "2023-08-31T12:17:27.662Z"
   },
   {
    "duration": 25,
    "start_time": "2023-08-31T12:17:27.677Z"
   },
   {
    "duration": 5,
    "start_time": "2023-08-31T12:17:27.704Z"
   },
   {
    "duration": 15,
    "start_time": "2023-08-31T12:17:27.711Z"
   },
   {
    "duration": 14,
    "start_time": "2023-08-31T12:17:27.728Z"
   },
   {
    "duration": 12,
    "start_time": "2023-08-31T12:17:27.744Z"
   },
   {
    "duration": 18,
    "start_time": "2023-08-31T12:17:27.757Z"
   },
   {
    "duration": 4,
    "start_time": "2023-08-31T12:17:27.780Z"
   },
   {
    "duration": 22,
    "start_time": "2023-08-31T12:17:27.785Z"
   },
   {
    "duration": 9,
    "start_time": "2023-08-31T12:17:27.809Z"
   },
   {
    "duration": 13,
    "start_time": "2023-08-31T12:17:27.819Z"
   },
   {
    "duration": 4,
    "start_time": "2023-08-31T12:17:27.834Z"
   },
   {
    "duration": 16,
    "start_time": "2023-08-31T12:17:27.839Z"
   },
   {
    "duration": 19,
    "start_time": "2023-08-31T12:17:27.857Z"
   },
   {
    "duration": 9,
    "start_time": "2023-08-31T12:17:27.877Z"
   },
   {
    "duration": 17,
    "start_time": "2023-08-31T12:17:27.888Z"
   },
   {
    "duration": 14,
    "start_time": "2023-08-31T12:17:27.907Z"
   },
   {
    "duration": 17,
    "start_time": "2023-08-31T12:17:27.922Z"
   },
   {
    "duration": 10,
    "start_time": "2023-08-31T12:17:27.941Z"
   },
   {
    "duration": 42591,
    "start_time": "2023-08-31T12:17:27.952Z"
   },
   {
    "duration": 334113,
    "start_time": "2023-08-31T12:18:10.546Z"
   },
   {
    "duration": 1219797,
    "start_time": "2023-08-31T12:23:44.661Z"
   },
   {
    "duration": 1817930,
    "start_time": "2023-08-31T12:44:04.460Z"
   },
   {
    "duration": 4,
    "start_time": "2023-08-31T13:17:29.322Z"
   },
   {
    "duration": 12,
    "start_time": "2023-08-31T13:17:29.329Z"
   },
   {
    "duration": 41,
    "start_time": "2023-08-31T13:17:29.343Z"
   },
   {
    "duration": 12,
    "start_time": "2023-08-31T13:17:29.386Z"
   },
   {
    "duration": 17,
    "start_time": "2023-08-31T13:17:29.401Z"
   },
   {
    "duration": 20,
    "start_time": "2023-08-31T13:17:29.420Z"
   },
   {
    "duration": 22,
    "start_time": "2023-08-31T13:17:29.442Z"
   },
   {
    "duration": 1026,
    "start_time": "2023-08-31T13:17:29.466Z"
   },
   {
    "duration": 6,
    "start_time": "2023-08-31T13:17:30.494Z"
   },
   {
    "duration": 54,
    "start_time": "2023-08-31T13:17:30.503Z"
   },
   {
    "duration": 58,
    "start_time": "2023-08-31T13:17:30.559Z"
   },
   {
    "duration": 211,
    "start_time": "2023-08-31T13:17:30.619Z"
   },
   {
    "duration": 5,
    "start_time": "2023-08-31T13:17:30.832Z"
   },
   {
    "duration": 29,
    "start_time": "2023-08-31T13:17:30.849Z"
   },
   {
    "duration": 241,
    "start_time": "2023-08-31T13:17:30.880Z"
   },
   {
    "duration": 6,
    "start_time": "2023-08-31T13:17:31.123Z"
   },
   {
    "duration": 30,
    "start_time": "2023-08-31T13:17:31.130Z"
   },
   {
    "duration": 217,
    "start_time": "2023-08-31T13:17:31.162Z"
   },
   {
    "duration": 6,
    "start_time": "2023-08-31T13:17:31.381Z"
   },
   {
    "duration": 29,
    "start_time": "2023-08-31T13:17:31.388Z"
   },
   {
    "duration": 162,
    "start_time": "2023-08-31T13:17:31.419Z"
   },
   {
    "duration": 4,
    "start_time": "2023-08-31T13:17:31.583Z"
   },
   {
    "duration": 24,
    "start_time": "2023-08-31T13:17:31.589Z"
   },
   {
    "duration": 42,
    "start_time": "2023-08-31T13:17:31.615Z"
   },
   {
    "duration": 46,
    "start_time": "2023-08-31T13:17:31.658Z"
   },
   {
    "duration": 34,
    "start_time": "2023-08-31T13:17:31.706Z"
   },
   {
    "duration": 32,
    "start_time": "2023-08-31T13:17:31.742Z"
   },
   {
    "duration": 35,
    "start_time": "2023-08-31T13:17:31.776Z"
   },
   {
    "duration": 49,
    "start_time": "2023-08-31T13:17:31.813Z"
   },
   {
    "duration": 63,
    "start_time": "2023-08-31T13:17:31.864Z"
   },
   {
    "duration": 23,
    "start_time": "2023-08-31T13:17:31.929Z"
   },
   {
    "duration": 51,
    "start_time": "2023-08-31T13:17:31.955Z"
   },
   {
    "duration": 24,
    "start_time": "2023-08-31T13:17:32.008Z"
   },
   {
    "duration": 22,
    "start_time": "2023-08-31T13:17:32.034Z"
   },
   {
    "duration": 45,
    "start_time": "2023-08-31T13:17:32.058Z"
   },
   {
    "duration": 51,
    "start_time": "2023-08-31T13:17:32.105Z"
   },
   {
    "duration": 47,
    "start_time": "2023-08-31T13:17:32.159Z"
   },
   {
    "duration": 22,
    "start_time": "2023-08-31T13:17:32.209Z"
   },
   {
    "duration": 14,
    "start_time": "2023-08-31T13:17:32.234Z"
   },
   {
    "duration": 11,
    "start_time": "2023-08-31T13:17:32.250Z"
   },
   {
    "duration": 7,
    "start_time": "2023-08-31T13:17:32.267Z"
   },
   {
    "duration": 19,
    "start_time": "2023-08-31T13:17:32.276Z"
   },
   {
    "duration": 23,
    "start_time": "2023-08-31T13:17:32.297Z"
   },
   {
    "duration": 8,
    "start_time": "2023-08-31T13:17:32.322Z"
   },
   {
    "duration": 12,
    "start_time": "2023-08-31T13:17:32.331Z"
   },
   {
    "duration": 10,
    "start_time": "2023-08-31T13:17:32.344Z"
   },
   {
    "duration": 11,
    "start_time": "2023-08-31T13:17:32.356Z"
   },
   {
    "duration": 19,
    "start_time": "2023-08-31T13:17:32.369Z"
   },
   {
    "duration": 12,
    "start_time": "2023-08-31T13:17:32.390Z"
   },
   {
    "duration": 22,
    "start_time": "2023-08-31T13:17:32.404Z"
   },
   {
    "duration": 2882,
    "start_time": "2023-08-31T13:17:32.428Z"
   },
   {
    "duration": 4692,
    "start_time": "2023-08-31T13:17:35.311Z"
   },
   {
    "duration": 16942,
    "start_time": "2023-08-31T13:17:40.006Z"
   },
   {
    "duration": 21118,
    "start_time": "2023-08-31T13:17:56.951Z"
   },
   {
    "duration": 55144,
    "start_time": "2023-08-31T13:19:39.712Z"
   },
   {
    "duration": 5,
    "start_time": "2023-08-31T13:21:13.468Z"
   },
   {
    "duration": 12,
    "start_time": "2023-08-31T13:21:13.476Z"
   },
   {
    "duration": 42,
    "start_time": "2023-08-31T13:21:13.490Z"
   },
   {
    "duration": 17,
    "start_time": "2023-08-31T13:21:13.534Z"
   },
   {
    "duration": 25,
    "start_time": "2023-08-31T13:21:13.554Z"
   },
   {
    "duration": 18,
    "start_time": "2023-08-31T13:21:13.581Z"
   },
   {
    "duration": 16,
    "start_time": "2023-08-31T13:21:13.602Z"
   },
   {
    "duration": 1327,
    "start_time": "2023-08-31T13:21:13.620Z"
   },
   {
    "duration": 7,
    "start_time": "2023-08-31T13:21:14.948Z"
   },
   {
    "duration": 28,
    "start_time": "2023-08-31T13:21:14.956Z"
   },
   {
    "duration": 57,
    "start_time": "2023-08-31T13:21:14.986Z"
   },
   {
    "duration": 236,
    "start_time": "2023-08-31T13:21:15.045Z"
   },
   {
    "duration": 7,
    "start_time": "2023-08-31T13:21:15.285Z"
   },
   {
    "duration": 20,
    "start_time": "2023-08-31T13:21:15.294Z"
   },
   {
    "duration": 231,
    "start_time": "2023-08-31T13:21:15.316Z"
   },
   {
    "duration": 5,
    "start_time": "2023-08-31T13:21:15.549Z"
   },
   {
    "duration": 9,
    "start_time": "2023-08-31T13:21:15.555Z"
   },
   {
    "duration": 201,
    "start_time": "2023-08-31T13:21:15.566Z"
   },
   {
    "duration": 5,
    "start_time": "2023-08-31T13:21:15.769Z"
   },
   {
    "duration": 11,
    "start_time": "2023-08-31T13:21:15.776Z"
   },
   {
    "duration": 176,
    "start_time": "2023-08-31T13:21:15.788Z"
   },
   {
    "duration": 5,
    "start_time": "2023-08-31T13:21:15.966Z"
   },
   {
    "duration": 63,
    "start_time": "2023-08-31T13:21:15.973Z"
   },
   {
    "duration": 8,
    "start_time": "2023-08-31T13:21:16.038Z"
   },
   {
    "duration": 16,
    "start_time": "2023-08-31T13:21:16.047Z"
   },
   {
    "duration": 26,
    "start_time": "2023-08-31T13:21:16.065Z"
   },
   {
    "duration": 21,
    "start_time": "2023-08-31T13:21:16.093Z"
   },
   {
    "duration": 10,
    "start_time": "2023-08-31T13:21:16.117Z"
   },
   {
    "duration": 20,
    "start_time": "2023-08-31T13:21:16.129Z"
   },
   {
    "duration": 14,
    "start_time": "2023-08-31T13:21:16.150Z"
   },
   {
    "duration": 20,
    "start_time": "2023-08-31T13:21:16.165Z"
   },
   {
    "duration": 10,
    "start_time": "2023-08-31T13:21:16.187Z"
   },
   {
    "duration": 28,
    "start_time": "2023-08-31T13:21:16.199Z"
   },
   {
    "duration": 16,
    "start_time": "2023-08-31T13:21:16.229Z"
   },
   {
    "duration": 21,
    "start_time": "2023-08-31T13:21:16.247Z"
   },
   {
    "duration": 15,
    "start_time": "2023-08-31T13:21:16.269Z"
   },
   {
    "duration": 9,
    "start_time": "2023-08-31T13:21:16.288Z"
   },
   {
    "duration": 19,
    "start_time": "2023-08-31T13:21:16.299Z"
   },
   {
    "duration": 17,
    "start_time": "2023-08-31T13:21:16.320Z"
   },
   {
    "duration": 31,
    "start_time": "2023-08-31T13:21:16.339Z"
   },
   {
    "duration": 27,
    "start_time": "2023-08-31T13:21:16.372Z"
   },
   {
    "duration": 15,
    "start_time": "2023-08-31T13:21:16.401Z"
   },
   {
    "duration": 7,
    "start_time": "2023-08-31T13:21:16.418Z"
   },
   {
    "duration": 5,
    "start_time": "2023-08-31T13:21:16.427Z"
   },
   {
    "duration": 5,
    "start_time": "2023-08-31T13:21:16.434Z"
   },
   {
    "duration": 13,
    "start_time": "2023-08-31T13:21:16.441Z"
   },
   {
    "duration": 15,
    "start_time": "2023-08-31T13:21:16.456Z"
   },
   {
    "duration": 14,
    "start_time": "2023-08-31T13:21:16.473Z"
   },
   {
    "duration": 22,
    "start_time": "2023-08-31T13:21:16.489Z"
   },
   {
    "duration": 13,
    "start_time": "2023-08-31T13:21:16.513Z"
   },
   {
    "duration": 5812,
    "start_time": "2023-08-31T13:21:16.527Z"
   },
   {
    "duration": 9206,
    "start_time": "2023-08-31T13:21:22.347Z"
   },
   {
    "duration": 34712,
    "start_time": "2023-08-31T13:21:31.554Z"
   },
   {
    "duration": 45789,
    "start_time": "2023-08-31T13:22:06.267Z"
   },
   {
    "duration": 105539,
    "start_time": "2023-08-31T13:22:59.926Z"
   },
   {
    "duration": 5,
    "start_time": "2023-08-31T13:25:31.948Z"
   },
   {
    "duration": 25,
    "start_time": "2023-08-31T13:25:31.956Z"
   },
   {
    "duration": 42,
    "start_time": "2023-08-31T13:25:31.983Z"
   },
   {
    "duration": 12,
    "start_time": "2023-08-31T13:25:32.027Z"
   },
   {
    "duration": 53,
    "start_time": "2023-08-31T13:25:32.041Z"
   },
   {
    "duration": 47,
    "start_time": "2023-08-31T13:25:32.097Z"
   },
   {
    "duration": 21,
    "start_time": "2023-08-31T13:25:32.146Z"
   },
   {
    "duration": 1041,
    "start_time": "2023-08-31T13:25:32.169Z"
   },
   {
    "duration": 7,
    "start_time": "2023-08-31T13:25:33.211Z"
   },
   {
    "duration": 159,
    "start_time": "2023-08-31T13:25:33.221Z"
   },
   {
    "duration": 35,
    "start_time": "2023-08-31T13:25:33.382Z"
   },
   {
    "duration": 170,
    "start_time": "2023-08-31T13:25:33.419Z"
   },
   {
    "duration": 7,
    "start_time": "2023-08-31T13:25:33.591Z"
   },
   {
    "duration": 12,
    "start_time": "2023-08-31T13:25:33.600Z"
   },
   {
    "duration": 187,
    "start_time": "2023-08-31T13:25:33.614Z"
   },
   {
    "duration": 4,
    "start_time": "2023-08-31T13:25:33.803Z"
   },
   {
    "duration": 24,
    "start_time": "2023-08-31T13:25:33.809Z"
   },
   {
    "duration": 192,
    "start_time": "2023-08-31T13:25:33.835Z"
   },
   {
    "duration": 6,
    "start_time": "2023-08-31T13:25:34.029Z"
   },
   {
    "duration": 18,
    "start_time": "2023-08-31T13:25:34.036Z"
   },
   {
    "duration": 169,
    "start_time": "2023-08-31T13:25:34.055Z"
   },
   {
    "duration": 5,
    "start_time": "2023-08-31T13:25:34.226Z"
   },
   {
    "duration": 20,
    "start_time": "2023-08-31T13:25:34.232Z"
   },
   {
    "duration": 8,
    "start_time": "2023-08-31T13:25:34.254Z"
   },
   {
    "duration": 6,
    "start_time": "2023-08-31T13:25:34.265Z"
   },
   {
    "duration": 14,
    "start_time": "2023-08-31T13:25:34.273Z"
   },
   {
    "duration": 12,
    "start_time": "2023-08-31T13:25:34.289Z"
   },
   {
    "duration": 26,
    "start_time": "2023-08-31T13:25:34.306Z"
   },
   {
    "duration": 20,
    "start_time": "2023-08-31T13:25:34.334Z"
   },
   {
    "duration": 6,
    "start_time": "2023-08-31T13:25:34.356Z"
   },
   {
    "duration": 12,
    "start_time": "2023-08-31T13:25:34.363Z"
   },
   {
    "duration": 10,
    "start_time": "2023-08-31T13:25:34.376Z"
   },
   {
    "duration": 31,
    "start_time": "2023-08-31T13:25:34.387Z"
   },
   {
    "duration": 10,
    "start_time": "2023-08-31T13:25:34.419Z"
   },
   {
    "duration": 7,
    "start_time": "2023-08-31T13:25:34.431Z"
   },
   {
    "duration": 8,
    "start_time": "2023-08-31T13:25:34.440Z"
   },
   {
    "duration": 4,
    "start_time": "2023-08-31T13:25:34.450Z"
   },
   {
    "duration": 7,
    "start_time": "2023-08-31T13:25:34.456Z"
   },
   {
    "duration": 5,
    "start_time": "2023-08-31T13:25:34.464Z"
   },
   {
    "duration": 8,
    "start_time": "2023-08-31T13:25:34.470Z"
   },
   {
    "duration": 5,
    "start_time": "2023-08-31T13:25:34.480Z"
   },
   {
    "duration": 7,
    "start_time": "2023-08-31T13:25:34.487Z"
   },
   {
    "duration": 24,
    "start_time": "2023-08-31T13:25:34.495Z"
   },
   {
    "duration": 7,
    "start_time": "2023-08-31T13:25:34.521Z"
   },
   {
    "duration": 5,
    "start_time": "2023-08-31T13:25:34.530Z"
   },
   {
    "duration": 11,
    "start_time": "2023-08-31T13:25:34.537Z"
   },
   {
    "duration": 6,
    "start_time": "2023-08-31T13:25:34.550Z"
   },
   {
    "duration": 6,
    "start_time": "2023-08-31T13:25:34.558Z"
   },
   {
    "duration": 5,
    "start_time": "2023-08-31T13:25:34.565Z"
   },
   {
    "duration": 8,
    "start_time": "2023-08-31T13:25:34.572Z"
   },
   {
    "duration": 8843,
    "start_time": "2023-08-31T13:25:34.581Z"
   },
   {
    "duration": 14024,
    "start_time": "2023-08-31T13:25:43.425Z"
   },
   {
    "duration": 53697,
    "start_time": "2023-08-31T13:25:57.451Z"
   },
   {
    "duration": 63304,
    "start_time": "2023-08-31T13:26:51.150Z"
   },
   {
    "duration": 4,
    "start_time": "2023-08-31T13:28:34.384Z"
   },
   {
    "duration": 7,
    "start_time": "2023-08-31T13:28:34.390Z"
   },
   {
    "duration": 27,
    "start_time": "2023-08-31T13:28:34.399Z"
   },
   {
    "duration": 11,
    "start_time": "2023-08-31T13:28:34.428Z"
   },
   {
    "duration": 13,
    "start_time": "2023-08-31T13:28:34.440Z"
   },
   {
    "duration": 6,
    "start_time": "2023-08-31T13:28:34.455Z"
   },
   {
    "duration": 7,
    "start_time": "2023-08-31T13:28:34.463Z"
   },
   {
    "duration": 1092,
    "start_time": "2023-08-31T13:28:34.472Z"
   },
   {
    "duration": 5,
    "start_time": "2023-08-31T13:28:35.567Z"
   },
   {
    "duration": 11,
    "start_time": "2023-08-31T13:28:35.574Z"
   },
   {
    "duration": 12,
    "start_time": "2023-08-31T13:28:35.587Z"
   },
   {
    "duration": 212,
    "start_time": "2023-08-31T13:28:35.602Z"
   },
   {
    "duration": 5,
    "start_time": "2023-08-31T13:28:35.815Z"
   },
   {
    "duration": 16,
    "start_time": "2023-08-31T13:28:35.822Z"
   },
   {
    "duration": 178,
    "start_time": "2023-08-31T13:28:35.848Z"
   },
   {
    "duration": 5,
    "start_time": "2023-08-31T13:28:36.028Z"
   },
   {
    "duration": 24,
    "start_time": "2023-08-31T13:28:36.035Z"
   },
   {
    "duration": 183,
    "start_time": "2023-08-31T13:28:36.061Z"
   },
   {
    "duration": 5,
    "start_time": "2023-08-31T13:28:36.245Z"
   },
   {
    "duration": 29,
    "start_time": "2023-08-31T13:28:36.252Z"
   },
   {
    "duration": 171,
    "start_time": "2023-08-31T13:28:36.284Z"
   },
   {
    "duration": 6,
    "start_time": "2023-08-31T13:28:36.456Z"
   },
   {
    "duration": 7,
    "start_time": "2023-08-31T13:28:36.464Z"
   },
   {
    "duration": 5,
    "start_time": "2023-08-31T13:28:36.476Z"
   },
   {
    "duration": 10,
    "start_time": "2023-08-31T13:28:36.483Z"
   },
   {
    "duration": 5,
    "start_time": "2023-08-31T13:28:36.495Z"
   },
   {
    "duration": 46,
    "start_time": "2023-08-31T13:28:36.501Z"
   },
   {
    "duration": 12,
    "start_time": "2023-08-31T13:28:36.549Z"
   },
   {
    "duration": 19,
    "start_time": "2023-08-31T13:28:36.562Z"
   },
   {
    "duration": 8,
    "start_time": "2023-08-31T13:28:36.583Z"
   },
   {
    "duration": 4,
    "start_time": "2023-08-31T13:28:36.593Z"
   },
   {
    "duration": 19,
    "start_time": "2023-08-31T13:28:36.599Z"
   },
   {
    "duration": 55,
    "start_time": "2023-08-31T13:28:36.620Z"
   },
   {
    "duration": 10,
    "start_time": "2023-08-31T13:28:36.677Z"
   },
   {
    "duration": 12,
    "start_time": "2023-08-31T13:28:36.688Z"
   },
   {
    "duration": 16,
    "start_time": "2023-08-31T13:28:36.702Z"
   },
   {
    "duration": 25,
    "start_time": "2023-08-31T13:28:36.720Z"
   },
   {
    "duration": 22,
    "start_time": "2023-08-31T13:28:36.747Z"
   },
   {
    "duration": 17,
    "start_time": "2023-08-31T13:28:36.771Z"
   },
   {
    "duration": 14,
    "start_time": "2023-08-31T13:28:36.789Z"
   },
   {
    "duration": 14,
    "start_time": "2023-08-31T13:28:36.805Z"
   },
   {
    "duration": 18,
    "start_time": "2023-08-31T13:28:36.821Z"
   },
   {
    "duration": 12,
    "start_time": "2023-08-31T13:28:36.841Z"
   },
   {
    "duration": 6,
    "start_time": "2023-08-31T13:28:36.855Z"
   },
   {
    "duration": 5,
    "start_time": "2023-08-31T13:28:36.862Z"
   },
   {
    "duration": 8,
    "start_time": "2023-08-31T13:28:36.869Z"
   },
   {
    "duration": 5,
    "start_time": "2023-08-31T13:28:36.878Z"
   },
   {
    "duration": 10,
    "start_time": "2023-08-31T13:28:36.885Z"
   },
   {
    "duration": 7,
    "start_time": "2023-08-31T13:28:36.898Z"
   },
   {
    "duration": 25,
    "start_time": "2023-08-31T13:28:36.907Z"
   },
   {
    "duration": 8633,
    "start_time": "2023-08-31T13:28:36.934Z"
   },
   {
    "duration": 19388,
    "start_time": "2023-08-31T13:28:45.569Z"
   },
   {
    "duration": 76104,
    "start_time": "2023-08-31T13:29:04.959Z"
   },
   {
    "duration": 89302,
    "start_time": "2023-08-31T13:30:21.065Z"
   },
   {
    "duration": 4,
    "start_time": "2023-08-31T13:32:14.207Z"
   },
   {
    "duration": 17,
    "start_time": "2023-08-31T13:32:14.213Z"
   },
   {
    "duration": 30,
    "start_time": "2023-08-31T13:32:14.232Z"
   },
   {
    "duration": 10,
    "start_time": "2023-08-31T13:32:14.264Z"
   },
   {
    "duration": 13,
    "start_time": "2023-08-31T13:32:14.276Z"
   },
   {
    "duration": 8,
    "start_time": "2023-08-31T13:32:14.291Z"
   },
   {
    "duration": 15,
    "start_time": "2023-08-31T13:32:14.301Z"
   },
   {
    "duration": 1055,
    "start_time": "2023-08-31T13:32:14.318Z"
   },
   {
    "duration": 8,
    "start_time": "2023-08-31T13:32:15.375Z"
   },
   {
    "duration": 13,
    "start_time": "2023-08-31T13:32:15.384Z"
   },
   {
    "duration": 13,
    "start_time": "2023-08-31T13:32:15.400Z"
   },
   {
    "duration": 210,
    "start_time": "2023-08-31T13:32:15.415Z"
   },
   {
    "duration": 5,
    "start_time": "2023-08-31T13:32:15.629Z"
   },
   {
    "duration": 16,
    "start_time": "2023-08-31T13:32:15.636Z"
   },
   {
    "duration": 186,
    "start_time": "2023-08-31T13:32:15.654Z"
   },
   {
    "duration": 6,
    "start_time": "2023-08-31T13:32:15.842Z"
   },
   {
    "duration": 11,
    "start_time": "2023-08-31T13:32:15.850Z"
   },
   {
    "duration": 195,
    "start_time": "2023-08-31T13:32:15.863Z"
   },
   {
    "duration": 5,
    "start_time": "2023-08-31T13:32:16.060Z"
   },
   {
    "duration": 21,
    "start_time": "2023-08-31T13:32:16.067Z"
   },
   {
    "duration": 179,
    "start_time": "2023-08-31T13:32:16.090Z"
   },
   {
    "duration": 5,
    "start_time": "2023-08-31T13:32:16.272Z"
   },
   {
    "duration": 16,
    "start_time": "2023-08-31T13:32:16.279Z"
   },
   {
    "duration": 7,
    "start_time": "2023-08-31T13:32:16.297Z"
   },
   {
    "duration": 8,
    "start_time": "2023-08-31T13:32:16.305Z"
   },
   {
    "duration": 5,
    "start_time": "2023-08-31T13:32:16.315Z"
   },
   {
    "duration": 31,
    "start_time": "2023-08-31T13:32:16.322Z"
   },
   {
    "duration": 27,
    "start_time": "2023-08-31T13:32:16.355Z"
   },
   {
    "duration": 15,
    "start_time": "2023-08-31T13:32:16.384Z"
   },
   {
    "duration": 13,
    "start_time": "2023-08-31T13:32:16.401Z"
   },
   {
    "duration": 5,
    "start_time": "2023-08-31T13:32:16.416Z"
   },
   {
    "duration": 6,
    "start_time": "2023-08-31T13:32:16.423Z"
   },
   {
    "duration": 26,
    "start_time": "2023-08-31T13:32:16.430Z"
   },
   {
    "duration": 15,
    "start_time": "2023-08-31T13:32:16.459Z"
   },
   {
    "duration": 20,
    "start_time": "2023-08-31T13:32:16.476Z"
   },
   {
    "duration": 49,
    "start_time": "2023-08-31T13:32:16.498Z"
   },
   {
    "duration": 8,
    "start_time": "2023-08-31T13:32:16.551Z"
   },
   {
    "duration": 8,
    "start_time": "2023-08-31T13:32:16.561Z"
   },
   {
    "duration": 6,
    "start_time": "2023-08-31T13:32:16.571Z"
   },
   {
    "duration": 11,
    "start_time": "2023-08-31T13:32:16.579Z"
   },
   {
    "duration": 12,
    "start_time": "2023-08-31T13:32:16.592Z"
   },
   {
    "duration": 7,
    "start_time": "2023-08-31T13:32:16.606Z"
   },
   {
    "duration": 6,
    "start_time": "2023-08-31T13:32:16.615Z"
   },
   {
    "duration": 5,
    "start_time": "2023-08-31T13:32:16.622Z"
   },
   {
    "duration": 20,
    "start_time": "2023-08-31T13:32:16.629Z"
   },
   {
    "duration": 7,
    "start_time": "2023-08-31T13:32:16.651Z"
   },
   {
    "duration": 7,
    "start_time": "2023-08-31T13:32:16.660Z"
   },
   {
    "duration": 9,
    "start_time": "2023-08-31T13:32:16.668Z"
   },
   {
    "duration": 6,
    "start_time": "2023-08-31T13:32:16.679Z"
   },
   {
    "duration": 8,
    "start_time": "2023-08-31T13:32:16.686Z"
   },
   {
    "duration": 8632,
    "start_time": "2023-08-31T13:32:16.695Z"
   },
   {
    "duration": 35821,
    "start_time": "2023-08-31T13:32:25.329Z"
   },
   {
    "duration": 100702,
    "start_time": "2023-08-31T13:33:01.153Z"
   },
   {
    "duration": 146799,
    "start_time": "2023-08-31T13:34:41.857Z"
   },
   {
    "duration": 4,
    "start_time": "2023-08-31T13:38:07.255Z"
   },
   {
    "duration": 7,
    "start_time": "2023-08-31T13:38:07.261Z"
   },
   {
    "duration": 31,
    "start_time": "2023-08-31T13:38:07.270Z"
   },
   {
    "duration": 12,
    "start_time": "2023-08-31T13:38:07.303Z"
   },
   {
    "duration": 30,
    "start_time": "2023-08-31T13:38:07.317Z"
   },
   {
    "duration": 19,
    "start_time": "2023-08-31T13:38:07.349Z"
   },
   {
    "duration": 12,
    "start_time": "2023-08-31T13:38:07.370Z"
   },
   {
    "duration": 1024,
    "start_time": "2023-08-31T13:38:07.384Z"
   },
   {
    "duration": 6,
    "start_time": "2023-08-31T13:38:08.411Z"
   },
   {
    "duration": 11,
    "start_time": "2023-08-31T13:38:08.419Z"
   },
   {
    "duration": 9,
    "start_time": "2023-08-31T13:38:08.448Z"
   },
   {
    "duration": 558,
    "start_time": "2023-08-31T13:38:08.459Z"
   },
   {
    "duration": 5,
    "start_time": "2023-08-31T13:38:09.019Z"
   },
   {
    "duration": 22,
    "start_time": "2023-08-31T13:38:09.026Z"
   },
   {
    "duration": 174,
    "start_time": "2023-08-31T13:38:09.050Z"
   },
   {
    "duration": 5,
    "start_time": "2023-08-31T13:38:09.226Z"
   },
   {
    "duration": 23,
    "start_time": "2023-08-31T13:38:09.232Z"
   },
   {
    "duration": 196,
    "start_time": "2023-08-31T13:38:09.257Z"
   },
   {
    "duration": 6,
    "start_time": "2023-08-31T13:38:09.455Z"
   },
   {
    "duration": 11,
    "start_time": "2023-08-31T13:38:09.463Z"
   },
   {
    "duration": 192,
    "start_time": "2023-08-31T13:38:09.476Z"
   },
   {
    "duration": 5,
    "start_time": "2023-08-31T13:38:09.670Z"
   },
   {
    "duration": 9,
    "start_time": "2023-08-31T13:38:09.676Z"
   },
   {
    "duration": 6,
    "start_time": "2023-08-31T13:38:09.687Z"
   },
   {
    "duration": 10,
    "start_time": "2023-08-31T13:38:09.695Z"
   },
   {
    "duration": 13,
    "start_time": "2023-08-31T13:38:09.706Z"
   },
   {
    "duration": 29,
    "start_time": "2023-08-31T13:38:09.720Z"
   },
   {
    "duration": 8,
    "start_time": "2023-08-31T13:38:09.751Z"
   },
   {
    "duration": 11,
    "start_time": "2023-08-31T13:38:09.763Z"
   },
   {
    "duration": 12,
    "start_time": "2023-08-31T13:38:09.777Z"
   },
   {
    "duration": 12,
    "start_time": "2023-08-31T13:38:09.791Z"
   },
   {
    "duration": 7,
    "start_time": "2023-08-31T13:38:09.805Z"
   },
   {
    "duration": 42,
    "start_time": "2023-08-31T13:38:09.814Z"
   },
   {
    "duration": 5,
    "start_time": "2023-08-31T13:38:09.858Z"
   },
   {
    "duration": 10,
    "start_time": "2023-08-31T13:38:09.865Z"
   },
   {
    "duration": 8,
    "start_time": "2023-08-31T13:38:09.877Z"
   },
   {
    "duration": 8,
    "start_time": "2023-08-31T13:38:09.887Z"
   },
   {
    "duration": 6,
    "start_time": "2023-08-31T13:38:09.897Z"
   },
   {
    "duration": 13,
    "start_time": "2023-08-31T13:38:09.905Z"
   },
   {
    "duration": 15,
    "start_time": "2023-08-31T13:38:09.920Z"
   },
   {
    "duration": 15,
    "start_time": "2023-08-31T13:38:09.937Z"
   },
   {
    "duration": 12,
    "start_time": "2023-08-31T13:38:09.953Z"
   },
   {
    "duration": 18,
    "start_time": "2023-08-31T13:38:09.967Z"
   },
   {
    "duration": 9,
    "start_time": "2023-08-31T13:38:09.987Z"
   },
   {
    "duration": 27,
    "start_time": "2023-08-31T13:38:09.998Z"
   },
   {
    "duration": 45,
    "start_time": "2023-08-31T13:38:10.027Z"
   },
   {
    "duration": 9,
    "start_time": "2023-08-31T13:38:10.074Z"
   },
   {
    "duration": 34,
    "start_time": "2023-08-31T13:38:10.085Z"
   },
   {
    "duration": 18,
    "start_time": "2023-08-31T13:38:10.121Z"
   },
   {
    "duration": 9,
    "start_time": "2023-08-31T13:38:10.141Z"
   },
   {
    "duration": 2807,
    "start_time": "2023-08-31T13:38:10.152Z"
   },
   {
    "duration": 4597,
    "start_time": "2023-08-31T13:38:12.960Z"
   },
   {
    "duration": 18112,
    "start_time": "2023-08-31T13:38:17.558Z"
   },
   {
    "duration": 21896,
    "start_time": "2023-08-31T13:38:35.671Z"
   },
   {
    "duration": 5,
    "start_time": "2023-08-31T13:40:02.925Z"
   },
   {
    "duration": 30,
    "start_time": "2023-08-31T13:40:02.932Z"
   },
   {
    "duration": 33,
    "start_time": "2023-08-31T13:40:02.964Z"
   },
   {
    "duration": 10,
    "start_time": "2023-08-31T13:40:03.000Z"
   },
   {
    "duration": 32,
    "start_time": "2023-08-31T13:40:03.012Z"
   },
   {
    "duration": 24,
    "start_time": "2023-08-31T13:40:03.046Z"
   },
   {
    "duration": 32,
    "start_time": "2023-08-31T13:40:03.072Z"
   },
   {
    "duration": 1009,
    "start_time": "2023-08-31T13:40:03.106Z"
   },
   {
    "duration": 5,
    "start_time": "2023-08-31T13:40:04.118Z"
   },
   {
    "duration": 49,
    "start_time": "2023-08-31T13:40:04.125Z"
   },
   {
    "duration": 58,
    "start_time": "2023-08-31T13:40:04.176Z"
   },
   {
    "duration": 166,
    "start_time": "2023-08-31T13:40:04.236Z"
   },
   {
    "duration": 5,
    "start_time": "2023-08-31T13:40:04.404Z"
   },
   {
    "duration": 44,
    "start_time": "2023-08-31T13:40:04.410Z"
   },
   {
    "duration": 167,
    "start_time": "2023-08-31T13:40:04.458Z"
   },
   {
    "duration": 5,
    "start_time": "2023-08-31T13:40:04.627Z"
   },
   {
    "duration": 41,
    "start_time": "2023-08-31T13:40:04.633Z"
   },
   {
    "duration": 198,
    "start_time": "2023-08-31T13:40:04.675Z"
   },
   {
    "duration": 5,
    "start_time": "2023-08-31T13:40:04.875Z"
   },
   {
    "duration": 29,
    "start_time": "2023-08-31T13:40:04.881Z"
   },
   {
    "duration": 167,
    "start_time": "2023-08-31T13:40:04.911Z"
   },
   {
    "duration": 5,
    "start_time": "2023-08-31T13:40:05.079Z"
   },
   {
    "duration": 45,
    "start_time": "2023-08-31T13:40:05.086Z"
   },
   {
    "duration": 26,
    "start_time": "2023-08-31T13:40:05.135Z"
   },
   {
    "duration": 29,
    "start_time": "2023-08-31T13:40:05.163Z"
   },
   {
    "duration": 30,
    "start_time": "2023-08-31T13:40:05.195Z"
   },
   {
    "duration": 40,
    "start_time": "2023-08-31T13:40:05.228Z"
   },
   {
    "duration": 30,
    "start_time": "2023-08-31T13:40:05.270Z"
   },
   {
    "duration": 33,
    "start_time": "2023-08-31T13:40:05.302Z"
   },
   {
    "duration": 32,
    "start_time": "2023-08-31T13:40:05.337Z"
   },
   {
    "duration": 18,
    "start_time": "2023-08-31T13:40:05.371Z"
   },
   {
    "duration": 16,
    "start_time": "2023-08-31T13:40:05.392Z"
   },
   {
    "duration": 46,
    "start_time": "2023-08-31T13:40:05.410Z"
   },
   {
    "duration": 15,
    "start_time": "2023-08-31T13:40:05.458Z"
   },
   {
    "duration": 9,
    "start_time": "2023-08-31T13:40:05.475Z"
   },
   {
    "duration": 11,
    "start_time": "2023-08-31T13:40:05.485Z"
   },
   {
    "duration": 26,
    "start_time": "2023-08-31T13:40:05.498Z"
   },
   {
    "duration": 18,
    "start_time": "2023-08-31T13:40:05.526Z"
   },
   {
    "duration": 17,
    "start_time": "2023-08-31T13:40:05.545Z"
   },
   {
    "duration": 15,
    "start_time": "2023-08-31T13:40:05.564Z"
   },
   {
    "duration": 24,
    "start_time": "2023-08-31T13:40:05.580Z"
   },
   {
    "duration": 17,
    "start_time": "2023-08-31T13:40:05.606Z"
   },
   {
    "duration": 36,
    "start_time": "2023-08-31T13:40:05.625Z"
   },
   {
    "duration": 5,
    "start_time": "2023-08-31T13:40:05.663Z"
   },
   {
    "duration": 8,
    "start_time": "2023-08-31T13:40:05.669Z"
   },
   {
    "duration": 19,
    "start_time": "2023-08-31T13:40:05.679Z"
   },
   {
    "duration": 14,
    "start_time": "2023-08-31T13:40:05.700Z"
   },
   {
    "duration": 27,
    "start_time": "2023-08-31T13:40:05.715Z"
   },
   {
    "duration": 29,
    "start_time": "2023-08-31T13:40:05.744Z"
   },
   {
    "duration": 16,
    "start_time": "2023-08-31T13:40:05.775Z"
   },
   {
    "duration": 2908,
    "start_time": "2023-08-31T13:40:05.793Z"
   },
   {
    "duration": 4878,
    "start_time": "2023-08-31T13:40:08.703Z"
   },
   {
    "duration": 19886,
    "start_time": "2023-08-31T13:40:13.583Z"
   },
   {
    "duration": 24994,
    "start_time": "2023-08-31T13:40:33.470Z"
   },
   {
    "duration": 4,
    "start_time": "2023-08-31T13:41:52.978Z"
   },
   {
    "duration": 29,
    "start_time": "2023-08-31T13:41:52.984Z"
   },
   {
    "duration": 69,
    "start_time": "2023-08-31T13:41:53.015Z"
   },
   {
    "duration": 11,
    "start_time": "2023-08-31T13:41:53.086Z"
   },
   {
    "duration": 67,
    "start_time": "2023-08-31T13:41:53.100Z"
   },
   {
    "duration": 20,
    "start_time": "2023-08-31T13:41:53.169Z"
   },
   {
    "duration": 8,
    "start_time": "2023-08-31T13:41:53.191Z"
   },
   {
    "duration": 1095,
    "start_time": "2023-08-31T13:41:53.201Z"
   },
   {
    "duration": 5,
    "start_time": "2023-08-31T13:41:54.298Z"
   },
   {
    "duration": 6,
    "start_time": "2023-08-31T13:41:54.305Z"
   },
   {
    "duration": 9,
    "start_time": "2023-08-31T13:41:54.313Z"
   },
   {
    "duration": 201,
    "start_time": "2023-08-31T13:41:54.324Z"
   },
   {
    "duration": 5,
    "start_time": "2023-08-31T13:41:54.527Z"
   },
   {
    "duration": 17,
    "start_time": "2023-08-31T13:41:54.536Z"
   },
   {
    "duration": 174,
    "start_time": "2023-08-31T13:41:54.555Z"
   },
   {
    "duration": 27,
    "start_time": "2023-08-31T13:41:54.731Z"
   },
   {
    "duration": 8,
    "start_time": "2023-08-31T13:41:54.760Z"
   },
   {
    "duration": 199,
    "start_time": "2023-08-31T13:41:54.770Z"
   },
   {
    "duration": 6,
    "start_time": "2023-08-31T13:41:54.971Z"
   },
   {
    "duration": 17,
    "start_time": "2023-08-31T13:41:54.978Z"
   },
   {
    "duration": 180,
    "start_time": "2023-08-31T13:41:54.997Z"
   },
   {
    "duration": 6,
    "start_time": "2023-08-31T13:41:55.179Z"
   },
   {
    "duration": 14,
    "start_time": "2023-08-31T13:41:55.186Z"
   },
   {
    "duration": 11,
    "start_time": "2023-08-31T13:41:55.202Z"
   },
   {
    "duration": 9,
    "start_time": "2023-08-31T13:41:55.215Z"
   },
   {
    "duration": 10,
    "start_time": "2023-08-31T13:41:55.253Z"
   },
   {
    "duration": 13,
    "start_time": "2023-08-31T13:41:55.268Z"
   },
   {
    "duration": 25,
    "start_time": "2023-08-31T13:41:55.283Z"
   },
   {
    "duration": 52,
    "start_time": "2023-08-31T13:41:55.310Z"
   },
   {
    "duration": 30,
    "start_time": "2023-08-31T13:41:55.365Z"
   },
   {
    "duration": 14,
    "start_time": "2023-08-31T13:41:55.397Z"
   },
   {
    "duration": 21,
    "start_time": "2023-08-31T13:41:55.414Z"
   },
   {
    "duration": 36,
    "start_time": "2023-08-31T13:41:55.437Z"
   },
   {
    "duration": 24,
    "start_time": "2023-08-31T13:41:55.475Z"
   },
   {
    "duration": 21,
    "start_time": "2023-08-31T13:41:55.501Z"
   },
   {
    "duration": 37,
    "start_time": "2023-08-31T13:41:55.524Z"
   },
   {
    "duration": 9,
    "start_time": "2023-08-31T13:41:55.563Z"
   },
   {
    "duration": 19,
    "start_time": "2023-08-31T13:41:55.574Z"
   },
   {
    "duration": 30,
    "start_time": "2023-08-31T13:41:55.595Z"
   },
   {
    "duration": 32,
    "start_time": "2023-08-31T13:41:55.627Z"
   },
   {
    "duration": 6,
    "start_time": "2023-08-31T13:41:55.664Z"
   },
   {
    "duration": 11,
    "start_time": "2023-08-31T13:41:55.672Z"
   },
   {
    "duration": 8,
    "start_time": "2023-08-31T13:41:55.685Z"
   },
   {
    "duration": 15,
    "start_time": "2023-08-31T13:41:55.694Z"
   },
   {
    "duration": 13,
    "start_time": "2023-08-31T13:41:55.711Z"
   },
   {
    "duration": 17,
    "start_time": "2023-08-31T13:41:55.726Z"
   },
   {
    "duration": 14,
    "start_time": "2023-08-31T13:41:55.745Z"
   },
   {
    "duration": 15,
    "start_time": "2023-08-31T13:41:55.761Z"
   },
   {
    "duration": 28,
    "start_time": "2023-08-31T13:41:55.778Z"
   },
   {
    "duration": 9,
    "start_time": "2023-08-31T13:41:55.808Z"
   },
   {
    "duration": 2892,
    "start_time": "2023-08-31T13:41:55.819Z"
   },
   {
    "duration": 4919,
    "start_time": "2023-08-31T13:41:58.713Z"
   },
   {
    "duration": 20317,
    "start_time": "2023-08-31T13:42:03.634Z"
   },
   {
    "duration": 25117,
    "start_time": "2023-08-31T13:42:23.955Z"
   },
   {
    "duration": 52,
    "start_time": "2023-08-31T13:45:01.263Z"
   },
   {
    "duration": 36596,
    "start_time": "2023-08-31T13:45:07.160Z"
   },
   {
    "duration": 50153,
    "start_time": "2023-08-31T13:45:58.220Z"
   },
   {
    "duration": 65395,
    "start_time": "2023-08-31T13:46:48.376Z"
   },
   {
    "duration": 4,
    "start_time": "2023-08-31T13:48:33.075Z"
   },
   {
    "duration": 17,
    "start_time": "2023-08-31T13:48:33.081Z"
   },
   {
    "duration": 31,
    "start_time": "2023-08-31T13:48:33.100Z"
   },
   {
    "duration": 10,
    "start_time": "2023-08-31T13:48:33.133Z"
   },
   {
    "duration": 20,
    "start_time": "2023-08-31T13:48:33.144Z"
   },
   {
    "duration": 16,
    "start_time": "2023-08-31T13:48:33.166Z"
   },
   {
    "duration": 25,
    "start_time": "2023-08-31T13:48:33.184Z"
   },
   {
    "duration": 1029,
    "start_time": "2023-08-31T13:48:33.211Z"
   },
   {
    "duration": 8,
    "start_time": "2023-08-31T13:48:34.252Z"
   },
   {
    "duration": 28,
    "start_time": "2023-08-31T13:48:34.261Z"
   },
   {
    "duration": 23,
    "start_time": "2023-08-31T13:48:34.291Z"
   },
   {
    "duration": 186,
    "start_time": "2023-08-31T13:48:34.316Z"
   },
   {
    "duration": 5,
    "start_time": "2023-08-31T13:48:34.504Z"
   },
   {
    "duration": 51,
    "start_time": "2023-08-31T13:48:34.510Z"
   },
   {
    "duration": 168,
    "start_time": "2023-08-31T13:48:34.563Z"
   },
   {
    "duration": 5,
    "start_time": "2023-08-31T13:48:34.734Z"
   },
   {
    "duration": 34,
    "start_time": "2023-08-31T13:48:34.740Z"
   },
   {
    "duration": 200,
    "start_time": "2023-08-31T13:48:34.777Z"
   },
   {
    "duration": 5,
    "start_time": "2023-08-31T13:48:34.979Z"
   },
   {
    "duration": 36,
    "start_time": "2023-08-31T13:48:34.985Z"
   },
   {
    "duration": 207,
    "start_time": "2023-08-31T13:48:35.023Z"
   },
   {
    "duration": 5,
    "start_time": "2023-08-31T13:48:35.233Z"
   },
   {
    "duration": 12,
    "start_time": "2023-08-31T13:48:35.241Z"
   },
   {
    "duration": 13,
    "start_time": "2023-08-31T13:48:35.258Z"
   },
   {
    "duration": 32,
    "start_time": "2023-08-31T13:48:35.273Z"
   },
   {
    "duration": 15,
    "start_time": "2023-08-31T13:48:35.308Z"
   },
   {
    "duration": 41,
    "start_time": "2023-08-31T13:48:35.326Z"
   },
   {
    "duration": 24,
    "start_time": "2023-08-31T13:48:35.370Z"
   },
   {
    "duration": 67,
    "start_time": "2023-08-31T13:48:35.399Z"
   },
   {
    "duration": 27,
    "start_time": "2023-08-31T13:48:35.467Z"
   },
   {
    "duration": 25,
    "start_time": "2023-08-31T13:48:35.496Z"
   },
   {
    "duration": 15,
    "start_time": "2023-08-31T13:48:35.523Z"
   },
   {
    "duration": 33,
    "start_time": "2023-08-31T13:48:35.540Z"
   },
   {
    "duration": 8,
    "start_time": "2023-08-31T13:48:35.575Z"
   },
   {
    "duration": 9,
    "start_time": "2023-08-31T13:48:35.585Z"
   },
   {
    "duration": 13,
    "start_time": "2023-08-31T13:48:35.595Z"
   },
   {
    "duration": 22,
    "start_time": "2023-08-31T13:48:35.610Z"
   },
   {
    "duration": 10,
    "start_time": "2023-08-31T13:48:35.634Z"
   },
   {
    "duration": 12,
    "start_time": "2023-08-31T13:48:35.646Z"
   },
   {
    "duration": 21,
    "start_time": "2023-08-31T13:48:35.660Z"
   },
   {
    "duration": 16,
    "start_time": "2023-08-31T13:48:35.683Z"
   },
   {
    "duration": 9,
    "start_time": "2023-08-31T13:48:35.701Z"
   },
   {
    "duration": 12,
    "start_time": "2023-08-31T13:48:35.711Z"
   },
   {
    "duration": 12,
    "start_time": "2023-08-31T13:48:35.725Z"
   },
   {
    "duration": 19,
    "start_time": "2023-08-31T13:48:35.739Z"
   },
   {
    "duration": 12,
    "start_time": "2023-08-31T13:48:35.760Z"
   },
   {
    "duration": 13,
    "start_time": "2023-08-31T13:48:35.774Z"
   },
   {
    "duration": 25,
    "start_time": "2023-08-31T13:48:35.789Z"
   },
   {
    "duration": 17,
    "start_time": "2023-08-31T13:48:35.816Z"
   },
   {
    "duration": 26,
    "start_time": "2023-08-31T13:48:35.835Z"
   },
   {
    "duration": 2960,
    "start_time": "2023-08-31T13:48:35.863Z"
   },
   {
    "duration": 7243,
    "start_time": "2023-08-31T13:48:38.825Z"
   },
   {
    "duration": 31702,
    "start_time": "2023-08-31T13:48:46.070Z"
   },
   {
    "duration": 36418,
    "start_time": "2023-08-31T13:49:17.846Z"
   },
   {
    "duration": 35177,
    "start_time": "2023-08-31T13:50:06.495Z"
   },
   {
    "duration": 57990,
    "start_time": "2023-08-31T13:50:41.674Z"
   },
   {
    "duration": 66605,
    "start_time": "2023-08-31T13:51:39.666Z"
   },
   {
    "duration": 6,
    "start_time": "2023-08-31T13:53:34.811Z"
   },
   {
    "duration": 18,
    "start_time": "2023-08-31T13:53:34.819Z"
   },
   {
    "duration": 34,
    "start_time": "2023-08-31T13:53:34.839Z"
   },
   {
    "duration": 12,
    "start_time": "2023-08-31T13:53:34.875Z"
   },
   {
    "duration": 29,
    "start_time": "2023-08-31T13:53:34.889Z"
   },
   {
    "duration": 27,
    "start_time": "2023-08-31T13:53:34.920Z"
   },
   {
    "duration": 9,
    "start_time": "2023-08-31T13:53:34.949Z"
   },
   {
    "duration": 1055,
    "start_time": "2023-08-31T13:53:34.960Z"
   },
   {
    "duration": 8,
    "start_time": "2023-08-31T13:53:36.019Z"
   },
   {
    "duration": 24,
    "start_time": "2023-08-31T13:53:36.029Z"
   },
   {
    "duration": 16,
    "start_time": "2023-08-31T13:53:36.055Z"
   },
   {
    "duration": 179,
    "start_time": "2023-08-31T13:53:36.073Z"
   },
   {
    "duration": 5,
    "start_time": "2023-08-31T13:53:36.254Z"
   },
   {
    "duration": 24,
    "start_time": "2023-08-31T13:53:36.261Z"
   },
   {
    "duration": 170,
    "start_time": "2023-08-31T13:53:36.287Z"
   },
   {
    "duration": 6,
    "start_time": "2023-08-31T13:53:36.459Z"
   },
   {
    "duration": 32,
    "start_time": "2023-08-31T13:53:36.467Z"
   },
   {
    "duration": 208,
    "start_time": "2023-08-31T13:53:36.501Z"
   },
   {
    "duration": 5,
    "start_time": "2023-08-31T13:53:36.711Z"
   },
   {
    "duration": 21,
    "start_time": "2023-08-31T13:53:36.717Z"
   },
   {
    "duration": 170,
    "start_time": "2023-08-31T13:53:36.746Z"
   },
   {
    "duration": 5,
    "start_time": "2023-08-31T13:53:36.918Z"
   },
   {
    "duration": 25,
    "start_time": "2023-08-31T13:53:36.925Z"
   },
   {
    "duration": 28,
    "start_time": "2023-08-31T13:53:36.955Z"
   },
   {
    "duration": 26,
    "start_time": "2023-08-31T13:53:36.985Z"
   },
   {
    "duration": 6,
    "start_time": "2023-08-31T13:53:37.014Z"
   },
   {
    "duration": 36,
    "start_time": "2023-08-31T13:53:37.021Z"
   },
   {
    "duration": 17,
    "start_time": "2023-08-31T13:53:37.059Z"
   },
   {
    "duration": 44,
    "start_time": "2023-08-31T13:53:37.078Z"
   },
   {
    "duration": 15,
    "start_time": "2023-08-31T13:53:37.124Z"
   },
   {
    "duration": 23,
    "start_time": "2023-08-31T13:53:37.142Z"
   },
   {
    "duration": 24,
    "start_time": "2023-08-31T13:53:37.168Z"
   },
   {
    "duration": 38,
    "start_time": "2023-08-31T13:53:37.194Z"
   },
   {
    "duration": 5,
    "start_time": "2023-08-31T13:53:37.234Z"
   },
   {
    "duration": 14,
    "start_time": "2023-08-31T13:53:37.242Z"
   },
   {
    "duration": 13,
    "start_time": "2023-08-31T13:53:37.258Z"
   },
   {
    "duration": 21,
    "start_time": "2023-08-31T13:53:37.274Z"
   },
   {
    "duration": 22,
    "start_time": "2023-08-31T13:53:37.296Z"
   },
   {
    "duration": 10,
    "start_time": "2023-08-31T13:53:37.320Z"
   },
   {
    "duration": 23,
    "start_time": "2023-08-31T13:53:37.331Z"
   },
   {
    "duration": 24,
    "start_time": "2023-08-31T13:53:37.355Z"
   },
   {
    "duration": 19,
    "start_time": "2023-08-31T13:53:37.382Z"
   },
   {
    "duration": 11,
    "start_time": "2023-08-31T13:53:37.403Z"
   },
   {
    "duration": 14,
    "start_time": "2023-08-31T13:53:37.416Z"
   },
   {
    "duration": 11,
    "start_time": "2023-08-31T13:53:37.432Z"
   },
   {
    "duration": 23,
    "start_time": "2023-08-31T13:53:37.445Z"
   },
   {
    "duration": 17,
    "start_time": "2023-08-31T13:53:37.470Z"
   },
   {
    "duration": 13,
    "start_time": "2023-08-31T13:53:37.489Z"
   },
   {
    "duration": 27,
    "start_time": "2023-08-31T13:53:37.504Z"
   },
   {
    "duration": 31,
    "start_time": "2023-08-31T13:53:37.532Z"
   },
   {
    "duration": 3010,
    "start_time": "2023-08-31T13:53:37.564Z"
   },
   {
    "duration": 11771,
    "start_time": "2023-08-31T13:53:40.576Z"
   },
   {
    "duration": 47916,
    "start_time": "2023-08-31T13:53:52.349Z"
   },
   {
    "duration": 74995,
    "start_time": "2023-08-31T13:54:40.268Z"
   },
   {
    "duration": 45166,
    "start_time": "2023-08-31T13:56:20.888Z"
   },
   {
    "duration": 85407,
    "start_time": "2023-08-31T13:57:06.057Z"
   },
   {
    "duration": 109605,
    "start_time": "2023-08-31T13:58:31.470Z"
   },
   {
    "duration": 4,
    "start_time": "2023-08-31T14:01:17.498Z"
   },
   {
    "duration": 13,
    "start_time": "2023-08-31T14:01:17.505Z"
   },
   {
    "duration": 42,
    "start_time": "2023-08-31T14:01:17.521Z"
   },
   {
    "duration": 11,
    "start_time": "2023-08-31T14:01:17.565Z"
   },
   {
    "duration": 13,
    "start_time": "2023-08-31T14:01:17.579Z"
   },
   {
    "duration": 7,
    "start_time": "2023-08-31T14:01:17.595Z"
   },
   {
    "duration": 10,
    "start_time": "2023-08-31T14:01:17.604Z"
   },
   {
    "duration": 1087,
    "start_time": "2023-08-31T14:01:17.616Z"
   },
   {
    "duration": 17,
    "start_time": "2023-08-31T14:01:18.708Z"
   },
   {
    "duration": 6,
    "start_time": "2023-08-31T14:01:18.727Z"
   },
   {
    "duration": 22,
    "start_time": "2023-08-31T14:01:18.735Z"
   },
   {
    "duration": 191,
    "start_time": "2023-08-31T14:01:18.758Z"
   },
   {
    "duration": 8,
    "start_time": "2023-08-31T14:01:18.951Z"
   },
   {
    "duration": 9,
    "start_time": "2023-08-31T14:01:18.964Z"
   },
   {
    "duration": 191,
    "start_time": "2023-08-31T14:01:18.975Z"
   },
   {
    "duration": 6,
    "start_time": "2023-08-31T14:01:19.169Z"
   },
   {
    "duration": 17,
    "start_time": "2023-08-31T14:01:19.177Z"
   },
   {
    "duration": 718,
    "start_time": "2023-08-31T14:01:19.196Z"
   },
   {
    "duration": 6,
    "start_time": "2023-08-31T14:01:19.915Z"
   },
   {
    "duration": 24,
    "start_time": "2023-08-31T14:01:19.924Z"
   },
   {
    "duration": 185,
    "start_time": "2023-08-31T14:01:19.951Z"
   },
   {
    "duration": 19,
    "start_time": "2023-08-31T14:01:20.138Z"
   },
   {
    "duration": 10,
    "start_time": "2023-08-31T14:01:20.158Z"
   },
   {
    "duration": 12,
    "start_time": "2023-08-31T14:01:20.171Z"
   },
   {
    "duration": 128,
    "start_time": "2023-08-31T14:01:20.185Z"
   },
   {
    "duration": 7,
    "start_time": "2023-08-31T14:01:20.315Z"
   },
   {
    "duration": 11,
    "start_time": "2023-08-31T14:01:20.324Z"
   },
   {
    "duration": 29,
    "start_time": "2023-08-31T14:01:20.337Z"
   },
   {
    "duration": 22,
    "start_time": "2023-08-31T14:01:20.367Z"
   },
   {
    "duration": 17,
    "start_time": "2023-08-31T14:01:20.391Z"
   },
   {
    "duration": 24,
    "start_time": "2023-08-31T14:01:20.410Z"
   },
   {
    "duration": 37,
    "start_time": "2023-08-31T14:01:20.436Z"
   },
   {
    "duration": 38,
    "start_time": "2023-08-31T14:01:20.474Z"
   },
   {
    "duration": 64,
    "start_time": "2023-08-31T14:01:20.513Z"
   },
   {
    "duration": 38,
    "start_time": "2023-08-31T14:01:20.580Z"
   },
   {
    "duration": 10,
    "start_time": "2023-08-31T14:01:20.620Z"
   },
   {
    "duration": 30,
    "start_time": "2023-08-31T14:01:20.631Z"
   },
   {
    "duration": 4,
    "start_time": "2023-08-31T14:01:20.664Z"
   },
   {
    "duration": 5,
    "start_time": "2023-08-31T14:01:20.670Z"
   },
   {
    "duration": 22,
    "start_time": "2023-08-31T14:01:20.677Z"
   },
   {
    "duration": 10,
    "start_time": "2023-08-31T14:01:20.703Z"
   },
   {
    "duration": 16,
    "start_time": "2023-08-31T14:01:20.715Z"
   },
   {
    "duration": 18,
    "start_time": "2023-08-31T14:01:20.733Z"
   },
   {
    "duration": 38,
    "start_time": "2023-08-31T14:01:20.756Z"
   },
   {
    "duration": 16,
    "start_time": "2023-08-31T14:01:20.796Z"
   },
   {
    "duration": 29,
    "start_time": "2023-08-31T14:01:20.814Z"
   },
   {
    "duration": 11,
    "start_time": "2023-08-31T14:01:20.845Z"
   },
   {
    "duration": 49,
    "start_time": "2023-08-31T14:01:20.861Z"
   },
   {
    "duration": 25,
    "start_time": "2023-08-31T14:01:20.912Z"
   },
   {
    "duration": 29,
    "start_time": "2023-08-31T14:01:20.939Z"
   },
   {
    "duration": 3042,
    "start_time": "2023-08-31T14:01:20.971Z"
   },
   {
    "duration": 8043,
    "start_time": "2023-08-31T14:01:24.016Z"
   },
   {
    "duration": 36302,
    "start_time": "2023-08-31T14:01:32.066Z"
   },
   {
    "duration": 42788,
    "start_time": "2023-08-31T14:02:08.370Z"
   },
   {
    "duration": 42981,
    "start_time": "2023-08-31T14:02:59.370Z"
   },
   {
    "duration": 65685,
    "start_time": "2023-08-31T14:03:42.362Z"
   },
   {
    "duration": 83923,
    "start_time": "2023-08-31T14:04:48.051Z"
   },
   {
    "duration": 41286,
    "start_time": "2023-08-31T14:06:35.162Z"
   },
   {
    "duration": 63601,
    "start_time": "2023-08-31T14:07:16.450Z"
   },
   {
    "duration": 118622,
    "start_time": "2023-08-31T14:08:20.057Z"
   },
   {
    "duration": 6,
    "start_time": "2023-08-31T14:11:04.167Z"
   },
   {
    "duration": 38,
    "start_time": "2023-08-31T14:11:04.176Z"
   },
   {
    "duration": 62,
    "start_time": "2023-08-31T14:11:04.216Z"
   },
   {
    "duration": 12,
    "start_time": "2023-08-31T14:11:04.281Z"
   },
   {
    "duration": 31,
    "start_time": "2023-08-31T14:11:04.295Z"
   },
   {
    "duration": 33,
    "start_time": "2023-08-31T14:11:04.328Z"
   },
   {
    "duration": 8,
    "start_time": "2023-08-31T14:11:04.365Z"
   },
   {
    "duration": 1054,
    "start_time": "2023-08-31T14:11:04.375Z"
   },
   {
    "duration": 18,
    "start_time": "2023-08-31T14:11:05.431Z"
   },
   {
    "duration": 17,
    "start_time": "2023-08-31T14:11:05.455Z"
   },
   {
    "duration": 35,
    "start_time": "2023-08-31T14:11:05.475Z"
   },
   {
    "duration": 202,
    "start_time": "2023-08-31T14:11:05.512Z"
   },
   {
    "duration": 5,
    "start_time": "2023-08-31T14:11:05.716Z"
   },
   {
    "duration": 34,
    "start_time": "2023-08-31T14:11:05.722Z"
   },
   {
    "duration": 200,
    "start_time": "2023-08-31T14:11:05.760Z"
   },
   {
    "duration": 5,
    "start_time": "2023-08-31T14:11:05.962Z"
   },
   {
    "duration": 49,
    "start_time": "2023-08-31T14:11:05.969Z"
   },
   {
    "duration": 223,
    "start_time": "2023-08-31T14:11:06.020Z"
   },
   {
    "duration": 12,
    "start_time": "2023-08-31T14:11:06.244Z"
   },
   {
    "duration": 48,
    "start_time": "2023-08-31T14:11:06.259Z"
   },
   {
    "duration": 180,
    "start_time": "2023-08-31T14:11:06.309Z"
   },
   {
    "duration": 4,
    "start_time": "2023-08-31T14:11:06.491Z"
   },
   {
    "duration": 13,
    "start_time": "2023-08-31T14:11:06.497Z"
   },
   {
    "duration": 24,
    "start_time": "2023-08-31T14:11:06.512Z"
   },
   {
    "duration": 24,
    "start_time": "2023-08-31T14:11:06.538Z"
   },
   {
    "duration": 14,
    "start_time": "2023-08-31T14:11:06.564Z"
   },
   {
    "duration": 33,
    "start_time": "2023-08-31T14:11:06.580Z"
   },
   {
    "duration": 38,
    "start_time": "2023-08-31T14:11:06.618Z"
   },
   {
    "duration": 34,
    "start_time": "2023-08-31T14:11:06.658Z"
   },
   {
    "duration": 24,
    "start_time": "2023-08-31T14:11:06.694Z"
   },
   {
    "duration": 16,
    "start_time": "2023-08-31T14:11:06.720Z"
   },
   {
    "duration": 26,
    "start_time": "2023-08-31T14:11:06.738Z"
   },
   {
    "duration": 44,
    "start_time": "2023-08-31T14:11:06.767Z"
   },
   {
    "duration": 15,
    "start_time": "2023-08-31T14:11:06.812Z"
   },
   {
    "duration": 32,
    "start_time": "2023-08-31T14:11:06.829Z"
   },
   {
    "duration": 32,
    "start_time": "2023-08-31T14:11:06.863Z"
   },
   {
    "duration": 15,
    "start_time": "2023-08-31T14:11:06.897Z"
   },
   {
    "duration": 27,
    "start_time": "2023-08-31T14:11:06.914Z"
   },
   {
    "duration": 16,
    "start_time": "2023-08-31T14:11:06.942Z"
   },
   {
    "duration": 41,
    "start_time": "2023-08-31T14:11:06.960Z"
   },
   {
    "duration": 17,
    "start_time": "2023-08-31T14:11:07.003Z"
   },
   {
    "duration": 34,
    "start_time": "2023-08-31T14:11:07.022Z"
   },
   {
    "duration": 14,
    "start_time": "2023-08-31T14:11:07.058Z"
   },
   {
    "duration": 16,
    "start_time": "2023-08-31T14:11:07.074Z"
   },
   {
    "duration": 29,
    "start_time": "2023-08-31T14:11:07.092Z"
   },
   {
    "duration": 22,
    "start_time": "2023-08-31T14:11:07.123Z"
   },
   {
    "duration": 19,
    "start_time": "2023-08-31T14:11:07.153Z"
   },
   {
    "duration": 20,
    "start_time": "2023-08-31T14:11:07.173Z"
   },
   {
    "duration": 20,
    "start_time": "2023-08-31T14:11:07.195Z"
   },
   {
    "duration": 26,
    "start_time": "2023-08-31T14:11:07.216Z"
   },
   {
    "duration": 2977,
    "start_time": "2023-08-31T14:11:07.244Z"
   },
   {
    "duration": 7247,
    "start_time": "2023-08-31T14:11:10.223Z"
   },
   {
    "duration": 29103,
    "start_time": "2023-08-31T14:11:17.473Z"
   },
   {
    "duration": 35279,
    "start_time": "2023-08-31T14:11:46.577Z"
   },
   {
    "duration": 35771,
    "start_time": "2023-08-31T14:12:44.376Z"
   },
   {
    "duration": 52916,
    "start_time": "2023-08-31T14:13:20.152Z"
   },
   {
    "duration": 71089,
    "start_time": "2023-08-31T14:14:13.070Z"
   },
   {
    "duration": 4,
    "start_time": "2023-08-31T14:16:23.878Z"
   },
   {
    "duration": 11,
    "start_time": "2023-08-31T14:16:23.884Z"
   },
   {
    "duration": 43,
    "start_time": "2023-08-31T14:16:23.897Z"
   },
   {
    "duration": 11,
    "start_time": "2023-08-31T14:16:23.942Z"
   },
   {
    "duration": 60,
    "start_time": "2023-08-31T14:16:23.956Z"
   },
   {
    "duration": 43,
    "start_time": "2023-08-31T14:16:24.018Z"
   },
   {
    "duration": 24,
    "start_time": "2023-08-31T14:16:24.064Z"
   },
   {
    "duration": 1008,
    "start_time": "2023-08-31T14:16:24.090Z"
   },
   {
    "duration": 7,
    "start_time": "2023-08-31T14:16:25.100Z"
   },
   {
    "duration": 9,
    "start_time": "2023-08-31T14:16:25.109Z"
   },
   {
    "duration": 11,
    "start_time": "2023-08-31T14:16:25.121Z"
   },
   {
    "duration": 218,
    "start_time": "2023-08-31T14:16:25.158Z"
   },
   {
    "duration": 6,
    "start_time": "2023-08-31T14:16:25.378Z"
   },
   {
    "duration": 25,
    "start_time": "2023-08-31T14:16:25.387Z"
   },
   {
    "duration": 196,
    "start_time": "2023-08-31T14:16:25.414Z"
   },
   {
    "duration": 5,
    "start_time": "2023-08-31T14:16:25.611Z"
   },
   {
    "duration": 44,
    "start_time": "2023-08-31T14:16:25.618Z"
   },
   {
    "duration": 180,
    "start_time": "2023-08-31T14:16:25.664Z"
   },
   {
    "duration": 15,
    "start_time": "2023-08-31T14:16:25.846Z"
   },
   {
    "duration": 8,
    "start_time": "2023-08-31T14:16:25.863Z"
   },
   {
    "duration": 187,
    "start_time": "2023-08-31T14:16:25.873Z"
   },
   {
    "duration": 5,
    "start_time": "2023-08-31T14:16:26.063Z"
   },
   {
    "duration": 15,
    "start_time": "2023-08-31T14:16:26.070Z"
   },
   {
    "duration": 13,
    "start_time": "2023-08-31T14:16:26.088Z"
   },
   {
    "duration": 18,
    "start_time": "2023-08-31T14:16:26.103Z"
   },
   {
    "duration": 17,
    "start_time": "2023-08-31T14:16:26.123Z"
   },
   {
    "duration": 23,
    "start_time": "2023-08-31T14:16:26.142Z"
   },
   {
    "duration": 11,
    "start_time": "2023-08-31T14:16:26.166Z"
   },
   {
    "duration": 12,
    "start_time": "2023-08-31T14:16:26.181Z"
   },
   {
    "duration": 14,
    "start_time": "2023-08-31T14:16:26.195Z"
   },
   {
    "duration": 6,
    "start_time": "2023-08-31T14:16:26.211Z"
   },
   {
    "duration": 7,
    "start_time": "2023-08-31T14:16:26.219Z"
   },
   {
    "duration": 46,
    "start_time": "2023-08-31T14:16:26.227Z"
   },
   {
    "duration": 14,
    "start_time": "2023-08-31T14:16:26.275Z"
   },
   {
    "duration": 13,
    "start_time": "2023-08-31T14:16:26.291Z"
   },
   {
    "duration": 16,
    "start_time": "2023-08-31T14:16:26.306Z"
   },
   {
    "duration": 8,
    "start_time": "2023-08-31T14:16:26.323Z"
   },
   {
    "duration": 6,
    "start_time": "2023-08-31T14:16:26.333Z"
   },
   {
    "duration": 29,
    "start_time": "2023-08-31T14:16:26.341Z"
   },
   {
    "duration": 17,
    "start_time": "2023-08-31T14:16:26.372Z"
   },
   {
    "duration": 25,
    "start_time": "2023-08-31T14:16:26.391Z"
   },
   {
    "duration": 16,
    "start_time": "2023-08-31T14:16:26.418Z"
   },
   {
    "duration": 21,
    "start_time": "2023-08-31T14:16:26.435Z"
   },
   {
    "duration": 12,
    "start_time": "2023-08-31T14:16:26.458Z"
   },
   {
    "duration": 23,
    "start_time": "2023-08-31T14:16:26.471Z"
   },
   {
    "duration": 15,
    "start_time": "2023-08-31T14:16:26.496Z"
   },
   {
    "duration": 12,
    "start_time": "2023-08-31T14:16:26.513Z"
   },
   {
    "duration": 31,
    "start_time": "2023-08-31T14:16:26.527Z"
   },
   {
    "duration": 7,
    "start_time": "2023-08-31T14:16:26.560Z"
   },
   {
    "duration": 28,
    "start_time": "2023-08-31T14:16:26.569Z"
   },
   {
    "duration": 2990,
    "start_time": "2023-08-31T14:16:26.598Z"
   },
   {
    "duration": 7269,
    "start_time": "2023-08-31T14:16:29.590Z"
   },
   {
    "duration": 30708,
    "start_time": "2023-08-31T14:16:36.861Z"
   },
   {
    "duration": 48502,
    "start_time": "2023-08-31T14:17:07.572Z"
   },
   {
    "duration": 7,
    "start_time": "2023-08-31T14:19:10.263Z"
   },
   {
    "duration": 22,
    "start_time": "2023-08-31T14:19:10.272Z"
   },
   {
    "duration": 33,
    "start_time": "2023-08-31T14:19:10.296Z"
   },
   {
    "duration": 13,
    "start_time": "2023-08-31T14:19:10.332Z"
   },
   {
    "duration": 34,
    "start_time": "2023-08-31T14:19:10.347Z"
   },
   {
    "duration": 33,
    "start_time": "2023-08-31T14:19:10.383Z"
   },
   {
    "duration": 28,
    "start_time": "2023-08-31T14:19:10.417Z"
   },
   {
    "duration": 1087,
    "start_time": "2023-08-31T14:19:10.447Z"
   },
   {
    "duration": 19,
    "start_time": "2023-08-31T14:19:11.537Z"
   },
   {
    "duration": 15,
    "start_time": "2023-08-31T14:19:11.564Z"
   },
   {
    "duration": 39,
    "start_time": "2023-08-31T14:19:11.581Z"
   },
   {
    "duration": 192,
    "start_time": "2023-08-31T14:19:11.623Z"
   },
   {
    "duration": 5,
    "start_time": "2023-08-31T14:19:11.817Z"
   },
   {
    "duration": 32,
    "start_time": "2023-08-31T14:19:11.824Z"
   },
   {
    "duration": 180,
    "start_time": "2023-08-31T14:19:11.859Z"
   },
   {
    "duration": 18,
    "start_time": "2023-08-31T14:19:12.051Z"
   },
   {
    "duration": 16,
    "start_time": "2023-08-31T14:19:12.072Z"
   },
   {
    "duration": 265,
    "start_time": "2023-08-31T14:19:12.090Z"
   },
   {
    "duration": 17,
    "start_time": "2023-08-31T14:19:12.360Z"
   },
   {
    "duration": 19,
    "start_time": "2023-08-31T14:19:12.379Z"
   },
   {
    "duration": 187,
    "start_time": "2023-08-31T14:19:12.400Z"
   },
   {
    "duration": 5,
    "start_time": "2023-08-31T14:19:12.590Z"
   },
   {
    "duration": 34,
    "start_time": "2023-08-31T14:19:12.597Z"
   },
   {
    "duration": 25,
    "start_time": "2023-08-31T14:19:12.633Z"
   },
   {
    "duration": 46,
    "start_time": "2023-08-31T14:19:12.659Z"
   },
   {
    "duration": 22,
    "start_time": "2023-08-31T14:19:12.707Z"
   },
   {
    "duration": 40,
    "start_time": "2023-08-31T14:19:12.731Z"
   },
   {
    "duration": 25,
    "start_time": "2023-08-31T14:19:12.776Z"
   },
   {
    "duration": 30,
    "start_time": "2023-08-31T14:19:12.803Z"
   },
   {
    "duration": 49,
    "start_time": "2023-08-31T14:19:12.835Z"
   },
   {
    "duration": 9,
    "start_time": "2023-08-31T14:19:12.886Z"
   },
   {
    "duration": 9,
    "start_time": "2023-08-31T14:19:12.897Z"
   },
   {
    "duration": 22,
    "start_time": "2023-08-31T14:19:12.908Z"
   },
   {
    "duration": 26,
    "start_time": "2023-08-31T14:19:12.932Z"
   },
   {
    "duration": 5,
    "start_time": "2023-08-31T14:19:12.960Z"
   },
   {
    "duration": 81,
    "start_time": "2023-08-31T14:19:12.967Z"
   },
   {
    "duration": 13,
    "start_time": "2023-08-31T14:19:13.050Z"
   },
   {
    "duration": 31,
    "start_time": "2023-08-31T14:19:13.077Z"
   },
   {
    "duration": 9,
    "start_time": "2023-08-31T14:19:13.110Z"
   },
   {
    "duration": 20,
    "start_time": "2023-08-31T14:19:13.121Z"
   },
   {
    "duration": 43,
    "start_time": "2023-08-31T14:19:13.143Z"
   },
   {
    "duration": 26,
    "start_time": "2023-08-31T14:19:13.187Z"
   },
   {
    "duration": 20,
    "start_time": "2023-08-31T14:19:13.215Z"
   },
   {
    "duration": 29,
    "start_time": "2023-08-31T14:19:13.237Z"
   },
   {
    "duration": 23,
    "start_time": "2023-08-31T14:19:13.269Z"
   },
   {
    "duration": 23,
    "start_time": "2023-08-31T14:19:13.294Z"
   },
   {
    "duration": 17,
    "start_time": "2023-08-31T14:19:13.319Z"
   },
   {
    "duration": 31,
    "start_time": "2023-08-31T14:19:13.337Z"
   },
   {
    "duration": 20,
    "start_time": "2023-08-31T14:19:13.371Z"
   },
   {
    "duration": 7,
    "start_time": "2023-08-31T14:19:13.393Z"
   },
   {
    "duration": 6219,
    "start_time": "2023-08-31T14:19:13.402Z"
   },
   {
    "duration": 17863,
    "start_time": "2023-08-31T14:19:19.623Z"
   },
   {
    "duration": 72469,
    "start_time": "2023-08-31T14:19:37.488Z"
   },
   {
    "duration": 72489,
    "start_time": "2023-08-31T14:20:49.966Z"
   },
   {
    "duration": 70799,
    "start_time": "2023-08-31T14:23:26.066Z"
   },
   {
    "duration": 112516,
    "start_time": "2023-08-31T14:24:36.868Z"
   },
   {
    "duration": 149510,
    "start_time": "2023-08-31T14:26:29.452Z"
   },
   {
    "duration": 5,
    "start_time": "2023-08-31T14:29:27.307Z"
   },
   {
    "duration": 13,
    "start_time": "2023-08-31T14:29:27.315Z"
   },
   {
    "duration": 37,
    "start_time": "2023-08-31T14:29:27.330Z"
   },
   {
    "duration": 16,
    "start_time": "2023-08-31T14:29:27.370Z"
   },
   {
    "duration": 22,
    "start_time": "2023-08-31T14:29:27.388Z"
   },
   {
    "duration": 10,
    "start_time": "2023-08-31T14:29:27.412Z"
   },
   {
    "duration": 33,
    "start_time": "2023-08-31T14:29:27.424Z"
   },
   {
    "duration": 1048,
    "start_time": "2023-08-31T14:29:27.459Z"
   },
   {
    "duration": 7,
    "start_time": "2023-08-31T14:29:28.510Z"
   },
   {
    "duration": 19,
    "start_time": "2023-08-31T14:29:28.518Z"
   },
   {
    "duration": 16,
    "start_time": "2023-08-31T14:29:28.538Z"
   },
   {
    "duration": 179,
    "start_time": "2023-08-31T14:29:28.557Z"
   },
   {
    "duration": 13,
    "start_time": "2023-08-31T14:29:28.738Z"
   },
   {
    "duration": 26,
    "start_time": "2023-08-31T14:29:28.753Z"
   },
   {
    "duration": 182,
    "start_time": "2023-08-31T14:29:28.781Z"
   },
   {
    "duration": 5,
    "start_time": "2023-08-31T14:29:28.965Z"
   },
   {
    "duration": 22,
    "start_time": "2023-08-31T14:29:28.973Z"
   },
   {
    "duration": 256,
    "start_time": "2023-08-31T14:29:28.997Z"
   },
   {
    "duration": 6,
    "start_time": "2023-08-31T14:29:29.255Z"
   },
   {
    "duration": 21,
    "start_time": "2023-08-31T14:29:29.263Z"
   },
   {
    "duration": 178,
    "start_time": "2023-08-31T14:29:29.287Z"
   },
   {
    "duration": 5,
    "start_time": "2023-08-31T14:29:29.467Z"
   },
   {
    "duration": 17,
    "start_time": "2023-08-31T14:29:29.474Z"
   },
   {
    "duration": 12,
    "start_time": "2023-08-31T14:29:29.495Z"
   },
   {
    "duration": 26,
    "start_time": "2023-08-31T14:29:29.509Z"
   },
   {
    "duration": 30,
    "start_time": "2023-08-31T14:29:29.537Z"
   },
   {
    "duration": 45,
    "start_time": "2023-08-31T14:29:29.569Z"
   },
   {
    "duration": 15,
    "start_time": "2023-08-31T14:29:29.617Z"
   },
   {
    "duration": 33,
    "start_time": "2023-08-31T14:29:29.634Z"
   },
   {
    "duration": 18,
    "start_time": "2023-08-31T14:29:29.669Z"
   },
   {
    "duration": 7,
    "start_time": "2023-08-31T14:29:29.689Z"
   },
   {
    "duration": 23,
    "start_time": "2023-08-31T14:29:29.698Z"
   },
   {
    "duration": 48,
    "start_time": "2023-08-31T14:29:29.723Z"
   },
   {
    "duration": 25,
    "start_time": "2023-08-31T14:29:29.773Z"
   },
   {
    "duration": 17,
    "start_time": "2023-08-31T14:29:29.800Z"
   },
   {
    "duration": 19,
    "start_time": "2023-08-31T14:29:29.819Z"
   },
   {
    "duration": 8,
    "start_time": "2023-08-31T14:29:29.841Z"
   },
   {
    "duration": 6,
    "start_time": "2023-08-31T14:29:29.852Z"
   },
   {
    "duration": 28,
    "start_time": "2023-08-31T14:29:29.860Z"
   },
   {
    "duration": 20,
    "start_time": "2023-08-31T14:29:29.890Z"
   },
   {
    "duration": 8,
    "start_time": "2023-08-31T14:29:29.912Z"
   },
   {
    "duration": 7,
    "start_time": "2023-08-31T14:29:29.922Z"
   },
   {
    "duration": 13,
    "start_time": "2023-08-31T14:29:29.932Z"
   },
   {
    "duration": 9,
    "start_time": "2023-08-31T14:29:29.947Z"
   },
   {
    "duration": 10,
    "start_time": "2023-08-31T14:29:29.958Z"
   },
   {
    "duration": 9,
    "start_time": "2023-08-31T14:29:29.970Z"
   },
   {
    "duration": 37,
    "start_time": "2023-08-31T14:29:29.982Z"
   },
   {
    "duration": 95,
    "start_time": "2023-08-31T14:29:30.021Z"
   },
   {
    "duration": 14,
    "start_time": "2023-08-31T14:29:30.118Z"
   },
   {
    "duration": 23,
    "start_time": "2023-08-31T14:29:30.135Z"
   },
   {
    "duration": 3313,
    "start_time": "2023-08-31T14:29:30.160Z"
   },
   {
    "duration": 5433,
    "start_time": "2023-08-31T14:29:33.475Z"
   },
   {
    "duration": 23061,
    "start_time": "2023-08-31T14:29:38.909Z"
   },
   {
    "duration": 29021,
    "start_time": "2023-08-31T14:30:02.047Z"
   },
   {
    "duration": 35747,
    "start_time": "2023-08-31T14:30:40.601Z"
   },
   {
    "duration": 63124,
    "start_time": "2023-08-31T14:31:16.350Z"
   },
   {
    "duration": 71286,
    "start_time": "2023-08-31T14:32:19.476Z"
   },
   {
    "duration": 5,
    "start_time": "2023-08-31T14:33:52.922Z"
   },
   {
    "duration": 13,
    "start_time": "2023-08-31T14:33:52.929Z"
   },
   {
    "duration": 35,
    "start_time": "2023-08-31T14:33:52.944Z"
   },
   {
    "duration": 10,
    "start_time": "2023-08-31T14:33:52.981Z"
   },
   {
    "duration": 13,
    "start_time": "2023-08-31T14:33:52.994Z"
   },
   {
    "duration": 20,
    "start_time": "2023-08-31T14:33:53.009Z"
   },
   {
    "duration": 8,
    "start_time": "2023-08-31T14:33:53.031Z"
   },
   {
    "duration": 1004,
    "start_time": "2023-08-31T14:33:53.046Z"
   },
   {
    "duration": 5,
    "start_time": "2023-08-31T14:33:54.052Z"
   },
   {
    "duration": 21,
    "start_time": "2023-08-31T14:33:54.059Z"
   },
   {
    "duration": 10,
    "start_time": "2023-08-31T14:33:54.084Z"
   },
   {
    "duration": 175,
    "start_time": "2023-08-31T14:33:54.096Z"
   },
   {
    "duration": 5,
    "start_time": "2023-08-31T14:33:54.273Z"
   },
   {
    "duration": 10,
    "start_time": "2023-08-31T14:33:54.280Z"
   },
   {
    "duration": 189,
    "start_time": "2023-08-31T14:33:54.292Z"
   },
   {
    "duration": 5,
    "start_time": "2023-08-31T14:33:54.484Z"
   },
   {
    "duration": 10,
    "start_time": "2023-08-31T14:33:54.491Z"
   },
   {
    "duration": 224,
    "start_time": "2023-08-31T14:33:54.503Z"
   },
   {
    "duration": 5,
    "start_time": "2023-08-31T14:33:54.729Z"
   },
   {
    "duration": 12,
    "start_time": "2023-08-31T14:33:54.736Z"
   },
   {
    "duration": 169,
    "start_time": "2023-08-31T14:33:54.750Z"
   },
   {
    "duration": 5,
    "start_time": "2023-08-31T14:33:54.921Z"
   },
   {
    "duration": 25,
    "start_time": "2023-08-31T14:33:54.927Z"
   },
   {
    "duration": 19,
    "start_time": "2023-08-31T14:33:54.953Z"
   },
   {
    "duration": 18,
    "start_time": "2023-08-31T14:33:54.974Z"
   },
   {
    "duration": 9,
    "start_time": "2023-08-31T14:33:54.994Z"
   },
   {
    "duration": 12,
    "start_time": "2023-08-31T14:33:55.005Z"
   },
   {
    "duration": 9,
    "start_time": "2023-08-31T14:33:55.019Z"
   },
   {
    "duration": 14,
    "start_time": "2023-08-31T14:33:55.033Z"
   },
   {
    "duration": 4,
    "start_time": "2023-08-31T14:33:55.050Z"
   },
   {
    "duration": 17,
    "start_time": "2023-08-31T14:33:55.056Z"
   },
   {
    "duration": 8,
    "start_time": "2023-08-31T14:33:55.075Z"
   },
   {
    "duration": 33,
    "start_time": "2023-08-31T14:33:55.085Z"
   },
   {
    "duration": 13,
    "start_time": "2023-08-31T14:33:55.120Z"
   },
   {
    "duration": 11,
    "start_time": "2023-08-31T14:33:55.135Z"
   },
   {
    "duration": 18,
    "start_time": "2023-08-31T14:33:55.147Z"
   },
   {
    "duration": 6,
    "start_time": "2023-08-31T14:33:55.167Z"
   },
   {
    "duration": 6,
    "start_time": "2023-08-31T14:33:55.175Z"
   },
   {
    "duration": 16,
    "start_time": "2023-08-31T14:33:55.183Z"
   },
   {
    "duration": 12,
    "start_time": "2023-08-31T14:33:55.201Z"
   },
   {
    "duration": 11,
    "start_time": "2023-08-31T14:33:55.216Z"
   },
   {
    "duration": 16,
    "start_time": "2023-08-31T14:33:55.229Z"
   },
   {
    "duration": 13,
    "start_time": "2023-08-31T14:33:55.247Z"
   },
   {
    "duration": 8,
    "start_time": "2023-08-31T14:33:55.262Z"
   },
   {
    "duration": 10,
    "start_time": "2023-08-31T14:33:55.273Z"
   },
   {
    "duration": 13,
    "start_time": "2023-08-31T14:33:55.285Z"
   },
   {
    "duration": 10,
    "start_time": "2023-08-31T14:33:55.300Z"
   },
   {
    "duration": 10,
    "start_time": "2023-08-31T14:33:55.312Z"
   },
   {
    "duration": 15,
    "start_time": "2023-08-31T14:33:55.324Z"
   },
   {
    "duration": 9,
    "start_time": "2023-08-31T14:33:55.346Z"
   },
   {
    "duration": 8471,
    "start_time": "2023-08-31T14:33:55.358Z"
   },
   {
    "duration": 20720,
    "start_time": "2023-08-31T14:34:03.830Z"
   },
   {
    "duration": 94308,
    "start_time": "2023-08-31T14:34:24.551Z"
   },
   {
    "duration": 211718,
    "start_time": "2023-08-31T14:35:58.861Z"
   },
   {
    "duration": 149551,
    "start_time": "2023-08-31T14:39:57.898Z"
   },
   {
    "duration": 4,
    "start_time": "2023-08-31T14:43:06.786Z"
   },
   {
    "duration": 38,
    "start_time": "2023-08-31T14:43:06.792Z"
   },
   {
    "duration": 36,
    "start_time": "2023-08-31T14:43:06.832Z"
   },
   {
    "duration": 12,
    "start_time": "2023-08-31T14:43:06.871Z"
   },
   {
    "duration": 14,
    "start_time": "2023-08-31T14:43:06.885Z"
   },
   {
    "duration": 8,
    "start_time": "2023-08-31T14:43:06.901Z"
   },
   {
    "duration": 10,
    "start_time": "2023-08-31T14:43:06.911Z"
   },
   {
    "duration": 1077,
    "start_time": "2023-08-31T14:43:06.923Z"
   },
   {
    "duration": 7,
    "start_time": "2023-08-31T14:43:08.002Z"
   },
   {
    "duration": 6,
    "start_time": "2023-08-31T14:43:08.010Z"
   },
   {
    "duration": 15,
    "start_time": "2023-08-31T14:43:08.019Z"
   },
   {
    "duration": 190,
    "start_time": "2023-08-31T14:43:08.048Z"
   },
   {
    "duration": 8,
    "start_time": "2023-08-31T14:43:08.240Z"
   },
   {
    "duration": 13,
    "start_time": "2023-08-31T14:43:08.250Z"
   },
   {
    "duration": 203,
    "start_time": "2023-08-31T14:43:08.265Z"
   },
   {
    "duration": 5,
    "start_time": "2023-08-31T14:43:08.471Z"
   },
   {
    "duration": 14,
    "start_time": "2023-08-31T14:43:08.479Z"
   },
   {
    "duration": 212,
    "start_time": "2023-08-31T14:43:08.495Z"
   },
   {
    "duration": 5,
    "start_time": "2023-08-31T14:43:08.709Z"
   },
   {
    "duration": 12,
    "start_time": "2023-08-31T14:43:08.716Z"
   },
   {
    "duration": 177,
    "start_time": "2023-08-31T14:43:08.746Z"
   },
   {
    "duration": 5,
    "start_time": "2023-08-31T14:43:08.925Z"
   },
   {
    "duration": 12,
    "start_time": "2023-08-31T14:43:08.931Z"
   },
   {
    "duration": 7,
    "start_time": "2023-08-31T14:43:08.948Z"
   },
   {
    "duration": 7,
    "start_time": "2023-08-31T14:43:08.957Z"
   },
   {
    "duration": 8,
    "start_time": "2023-08-31T14:43:08.965Z"
   },
   {
    "duration": 10,
    "start_time": "2023-08-31T14:43:08.975Z"
   },
   {
    "duration": 5,
    "start_time": "2023-08-31T14:43:08.987Z"
   },
   {
    "duration": 11,
    "start_time": "2023-08-31T14:43:08.996Z"
   },
   {
    "duration": 48,
    "start_time": "2023-08-31T14:43:09.009Z"
   },
   {
    "duration": 10,
    "start_time": "2023-08-31T14:43:09.059Z"
   },
   {
    "duration": 32,
    "start_time": "2023-08-31T14:43:09.071Z"
   },
   {
    "duration": 23,
    "start_time": "2023-08-31T14:43:09.105Z"
   },
   {
    "duration": 7,
    "start_time": "2023-08-31T14:43:09.130Z"
   },
   {
    "duration": 9,
    "start_time": "2023-08-31T14:43:09.139Z"
   },
   {
    "duration": 7,
    "start_time": "2023-08-31T14:43:09.150Z"
   },
   {
    "duration": 5,
    "start_time": "2023-08-31T14:43:09.159Z"
   },
   {
    "duration": 7,
    "start_time": "2023-08-31T14:43:09.167Z"
   },
   {
    "duration": 5,
    "start_time": "2023-08-31T14:43:09.176Z"
   },
   {
    "duration": 16,
    "start_time": "2023-08-31T14:43:09.183Z"
   },
   {
    "duration": 7,
    "start_time": "2023-08-31T14:43:09.201Z"
   },
   {
    "duration": 10,
    "start_time": "2023-08-31T14:43:09.210Z"
   },
   {
    "duration": 4,
    "start_time": "2023-08-31T14:43:09.222Z"
   },
   {
    "duration": 7,
    "start_time": "2023-08-31T14:43:09.228Z"
   },
   {
    "duration": 4,
    "start_time": "2023-08-31T14:43:09.247Z"
   },
   {
    "duration": 9,
    "start_time": "2023-08-31T14:43:09.252Z"
   },
   {
    "duration": 10,
    "start_time": "2023-08-31T14:43:09.263Z"
   },
   {
    "duration": 13,
    "start_time": "2023-08-31T14:43:09.275Z"
   },
   {
    "duration": 33,
    "start_time": "2023-08-31T14:43:09.290Z"
   },
   {
    "duration": 21,
    "start_time": "2023-08-31T14:43:09.325Z"
   },
   {
    "duration": 12571,
    "start_time": "2023-08-31T14:43:09.348Z"
   },
   {
    "duration": 38145,
    "start_time": "2023-08-31T14:43:21.921Z"
   },
   {
    "duration": 121280,
    "start_time": "2023-08-31T14:44:00.068Z"
   },
   {
    "duration": 261516,
    "start_time": "2023-08-31T14:46:17.952Z"
   },
   {
    "duration": 4,
    "start_time": "2023-08-31T14:51:19.876Z"
   },
   {
    "duration": 15,
    "start_time": "2023-08-31T14:51:19.883Z"
   },
   {
    "duration": 37,
    "start_time": "2023-08-31T14:51:19.900Z"
   },
   {
    "duration": 13,
    "start_time": "2023-08-31T14:51:19.940Z"
   },
   {
    "duration": 17,
    "start_time": "2023-08-31T14:51:19.956Z"
   },
   {
    "duration": 21,
    "start_time": "2023-08-31T14:51:19.975Z"
   },
   {
    "duration": 28,
    "start_time": "2023-08-31T14:51:19.998Z"
   },
   {
    "duration": 1688,
    "start_time": "2023-08-31T14:51:20.028Z"
   },
   {
    "duration": 6,
    "start_time": "2023-08-31T14:51:21.718Z"
   },
   {
    "duration": 45,
    "start_time": "2023-08-31T14:51:21.726Z"
   },
   {
    "duration": 29,
    "start_time": "2023-08-31T14:51:21.773Z"
   },
   {
    "duration": 201,
    "start_time": "2023-08-31T14:51:21.804Z"
   },
   {
    "duration": 5,
    "start_time": "2023-08-31T14:51:22.007Z"
   },
   {
    "duration": 15,
    "start_time": "2023-08-31T14:51:22.013Z"
   },
   {
    "duration": 202,
    "start_time": "2023-08-31T14:51:22.029Z"
   },
   {
    "duration": 6,
    "start_time": "2023-08-31T14:51:22.233Z"
   },
   {
    "duration": 14,
    "start_time": "2023-08-31T14:51:22.240Z"
   },
   {
    "duration": 205,
    "start_time": "2023-08-31T14:51:22.256Z"
   },
   {
    "duration": 5,
    "start_time": "2023-08-31T14:51:22.463Z"
   },
   {
    "duration": 12,
    "start_time": "2023-08-31T14:51:22.469Z"
   },
   {
    "duration": 178,
    "start_time": "2023-08-31T14:51:22.483Z"
   },
   {
    "duration": 5,
    "start_time": "2023-08-31T14:51:22.663Z"
   },
   {
    "duration": 18,
    "start_time": "2023-08-31T14:51:22.670Z"
   },
   {
    "duration": 6,
    "start_time": "2023-08-31T14:51:22.692Z"
   },
   {
    "duration": 9,
    "start_time": "2023-08-31T14:51:22.700Z"
   },
   {
    "duration": 14,
    "start_time": "2023-08-31T14:51:22.711Z"
   },
   {
    "duration": 25,
    "start_time": "2023-08-31T14:51:22.727Z"
   },
   {
    "duration": 7,
    "start_time": "2023-08-31T14:51:22.754Z"
   },
   {
    "duration": 15,
    "start_time": "2023-08-31T14:51:22.762Z"
   },
   {
    "duration": 11,
    "start_time": "2023-08-31T14:51:22.779Z"
   },
   {
    "duration": 16,
    "start_time": "2023-08-31T14:51:22.792Z"
   },
   {
    "duration": 13,
    "start_time": "2023-08-31T14:51:22.810Z"
   },
   {
    "duration": 30,
    "start_time": "2023-08-31T14:51:22.825Z"
   },
   {
    "duration": 6,
    "start_time": "2023-08-31T14:51:22.857Z"
   },
   {
    "duration": 9,
    "start_time": "2023-08-31T14:51:22.865Z"
   },
   {
    "duration": 9,
    "start_time": "2023-08-31T14:51:22.876Z"
   },
   {
    "duration": 6,
    "start_time": "2023-08-31T14:51:22.887Z"
   },
   {
    "duration": 8,
    "start_time": "2023-08-31T14:51:22.895Z"
   },
   {
    "duration": 8,
    "start_time": "2023-08-31T14:51:22.905Z"
   },
   {
    "duration": 35,
    "start_time": "2023-08-31T14:51:22.915Z"
   },
   {
    "duration": 7,
    "start_time": "2023-08-31T14:51:22.952Z"
   },
   {
    "duration": 6,
    "start_time": "2023-08-31T14:51:22.961Z"
   },
   {
    "duration": 6,
    "start_time": "2023-08-31T14:51:22.969Z"
   },
   {
    "duration": 9,
    "start_time": "2023-08-31T14:51:22.977Z"
   },
   {
    "duration": 11,
    "start_time": "2023-08-31T14:51:22.988Z"
   },
   {
    "duration": 6,
    "start_time": "2023-08-31T14:51:23.001Z"
   },
   {
    "duration": 11,
    "start_time": "2023-08-31T14:51:23.008Z"
   },
   {
    "duration": 8,
    "start_time": "2023-08-31T14:51:23.021Z"
   },
   {
    "duration": 21,
    "start_time": "2023-08-31T14:51:23.031Z"
   },
   {
    "duration": 9,
    "start_time": "2023-08-31T14:51:23.054Z"
   },
   {
    "duration": 8828,
    "start_time": "2023-08-31T14:51:23.064Z"
   },
   {
    "duration": 20369,
    "start_time": "2023-08-31T14:51:31.893Z"
   },
   {
    "duration": 82894,
    "start_time": "2023-08-31T14:51:52.264Z"
   },
   {
    "duration": 6,
    "start_time": "2023-08-31T14:54:25.379Z"
   },
   {
    "duration": 26,
    "start_time": "2023-08-31T14:54:25.387Z"
   },
   {
    "duration": 46,
    "start_time": "2023-08-31T14:54:25.416Z"
   },
   {
    "duration": 16,
    "start_time": "2023-08-31T14:54:25.465Z"
   },
   {
    "duration": 28,
    "start_time": "2023-08-31T14:54:25.484Z"
   },
   {
    "duration": 17,
    "start_time": "2023-08-31T14:54:25.514Z"
   },
   {
    "duration": 18,
    "start_time": "2023-08-31T14:54:25.533Z"
   },
   {
    "duration": 965,
    "start_time": "2023-08-31T14:54:25.553Z"
   },
   {
    "duration": 6,
    "start_time": "2023-08-31T14:54:26.520Z"
   },
   {
    "duration": 9,
    "start_time": "2023-08-31T14:54:26.528Z"
   },
   {
    "duration": 10,
    "start_time": "2023-08-31T14:54:26.546Z"
   },
   {
    "duration": 175,
    "start_time": "2023-08-31T14:54:26.558Z"
   },
   {
    "duration": 12,
    "start_time": "2023-08-31T14:54:26.735Z"
   },
   {
    "duration": 16,
    "start_time": "2023-08-31T14:54:26.749Z"
   },
   {
    "duration": 170,
    "start_time": "2023-08-31T14:54:26.767Z"
   },
   {
    "duration": 9,
    "start_time": "2023-08-31T14:54:26.939Z"
   },
   {
    "duration": 10,
    "start_time": "2023-08-31T14:54:26.951Z"
   },
   {
    "duration": 199,
    "start_time": "2023-08-31T14:54:26.963Z"
   },
   {
    "duration": 5,
    "start_time": "2023-08-31T14:54:27.164Z"
   },
   {
    "duration": 10,
    "start_time": "2023-08-31T14:54:27.170Z"
   },
   {
    "duration": 177,
    "start_time": "2023-08-31T14:54:27.182Z"
   },
   {
    "duration": 4,
    "start_time": "2023-08-31T14:54:27.361Z"
   },
   {
    "duration": 15,
    "start_time": "2023-08-31T14:54:27.367Z"
   },
   {
    "duration": 22,
    "start_time": "2023-08-31T14:54:27.384Z"
   },
   {
    "duration": 8,
    "start_time": "2023-08-31T14:54:27.408Z"
   },
   {
    "duration": 9,
    "start_time": "2023-08-31T14:54:27.418Z"
   },
   {
    "duration": 19,
    "start_time": "2023-08-31T14:54:27.428Z"
   },
   {
    "duration": 17,
    "start_time": "2023-08-31T14:54:27.449Z"
   },
   {
    "duration": 11,
    "start_time": "2023-08-31T14:54:27.470Z"
   },
   {
    "duration": 14,
    "start_time": "2023-08-31T14:54:27.483Z"
   },
   {
    "duration": 6,
    "start_time": "2023-08-31T14:54:27.499Z"
   },
   {
    "duration": 11,
    "start_time": "2023-08-31T14:54:27.506Z"
   },
   {
    "duration": 23,
    "start_time": "2023-08-31T14:54:27.519Z"
   },
   {
    "duration": 5,
    "start_time": "2023-08-31T14:54:27.543Z"
   },
   {
    "duration": 12,
    "start_time": "2023-08-31T14:54:27.549Z"
   },
   {
    "duration": 29,
    "start_time": "2023-08-31T14:54:27.563Z"
   },
   {
    "duration": 9,
    "start_time": "2023-08-31T14:54:27.594Z"
   },
   {
    "duration": 15,
    "start_time": "2023-08-31T14:54:27.605Z"
   },
   {
    "duration": 15,
    "start_time": "2023-08-31T14:54:27.622Z"
   },
   {
    "duration": 32,
    "start_time": "2023-08-31T14:54:27.638Z"
   },
   {
    "duration": 22,
    "start_time": "2023-08-31T14:54:27.672Z"
   },
   {
    "duration": 18,
    "start_time": "2023-08-31T14:54:27.696Z"
   },
   {
    "duration": 6,
    "start_time": "2023-08-31T14:54:27.716Z"
   },
   {
    "duration": 12,
    "start_time": "2023-08-31T14:54:27.724Z"
   },
   {
    "duration": 5,
    "start_time": "2023-08-31T14:54:27.738Z"
   },
   {
    "duration": 7,
    "start_time": "2023-08-31T14:54:27.744Z"
   },
   {
    "duration": 8,
    "start_time": "2023-08-31T14:54:27.753Z"
   },
   {
    "duration": 30,
    "start_time": "2023-08-31T14:54:27.763Z"
   },
   {
    "duration": 24,
    "start_time": "2023-08-31T14:54:27.795Z"
   },
   {
    "duration": 14,
    "start_time": "2023-08-31T14:54:27.821Z"
   },
   {
    "duration": 11738,
    "start_time": "2023-08-31T14:54:27.837Z"
   },
   {
    "duration": 26775,
    "start_time": "2023-08-31T14:54:39.577Z"
   },
   {
    "duration": 100194,
    "start_time": "2023-08-31T14:55:06.354Z"
   },
   {
    "duration": 182189,
    "start_time": "2023-08-31T14:57:41.879Z"
   },
   {
    "duration": 202906,
    "start_time": "2023-08-31T15:01:28.944Z"
   },
   {
    "duration": 5632,
    "start_time": "2023-08-31T15:05:22.399Z"
   },
   {
    "duration": 4,
    "start_time": "2023-08-31T15:05:44.659Z"
   },
   {
    "duration": 6,
    "start_time": "2023-08-31T15:05:44.665Z"
   },
   {
    "duration": 31,
    "start_time": "2023-08-31T15:05:44.673Z"
   },
   {
    "duration": 11,
    "start_time": "2023-08-31T15:05:44.706Z"
   },
   {
    "duration": 21,
    "start_time": "2023-08-31T15:05:44.718Z"
   },
   {
    "duration": 27,
    "start_time": "2023-08-31T15:05:44.741Z"
   },
   {
    "duration": 8,
    "start_time": "2023-08-31T15:05:44.770Z"
   },
   {
    "duration": 1084,
    "start_time": "2023-08-31T15:05:44.780Z"
   },
   {
    "duration": 6,
    "start_time": "2023-08-31T15:05:45.866Z"
   },
   {
    "duration": 7,
    "start_time": "2023-08-31T15:05:45.874Z"
   },
   {
    "duration": 18,
    "start_time": "2023-08-31T15:05:45.882Z"
   },
   {
    "duration": 175,
    "start_time": "2023-08-31T15:05:45.902Z"
   },
   {
    "duration": 6,
    "start_time": "2023-08-31T15:05:46.080Z"
   },
   {
    "duration": 14,
    "start_time": "2023-08-31T15:05:46.088Z"
   },
   {
    "duration": 182,
    "start_time": "2023-08-31T15:05:46.104Z"
   },
   {
    "duration": 5,
    "start_time": "2023-08-31T15:05:46.288Z"
   },
   {
    "duration": 112,
    "start_time": "2023-08-31T15:05:46.294Z"
   },
   {
    "duration": 190,
    "start_time": "2023-08-31T15:05:46.407Z"
   },
   {
    "duration": 5,
    "start_time": "2023-08-31T15:05:46.599Z"
   },
   {
    "duration": 11,
    "start_time": "2023-08-31T15:05:46.605Z"
   },
   {
    "duration": 184,
    "start_time": "2023-08-31T15:05:46.618Z"
   },
   {
    "duration": 5,
    "start_time": "2023-08-31T15:05:46.803Z"
   },
   {
    "duration": 13,
    "start_time": "2023-08-31T15:05:46.810Z"
   },
   {
    "duration": 6,
    "start_time": "2023-08-31T15:05:46.826Z"
   },
   {
    "duration": 27,
    "start_time": "2023-08-31T15:05:46.834Z"
   },
   {
    "duration": 5,
    "start_time": "2023-08-31T15:05:46.863Z"
   },
   {
    "duration": 31,
    "start_time": "2023-08-31T15:05:46.869Z"
   },
   {
    "duration": 8,
    "start_time": "2023-08-31T15:05:46.902Z"
   },
   {
    "duration": 33,
    "start_time": "2023-08-31T15:05:46.911Z"
   },
   {
    "duration": 13,
    "start_time": "2023-08-31T15:05:46.946Z"
   },
   {
    "duration": 10,
    "start_time": "2023-08-31T15:05:46.961Z"
   },
   {
    "duration": 9,
    "start_time": "2023-08-31T15:05:46.972Z"
   },
   {
    "duration": 27,
    "start_time": "2023-08-31T15:05:46.983Z"
   },
   {
    "duration": 117,
    "start_time": "2023-08-31T15:05:47.012Z"
   },
   {
    "duration": 195,
    "start_time": "2023-08-31T15:05:47.131Z"
   },
   {
    "duration": 44,
    "start_time": "2023-08-31T15:05:47.328Z"
   },
   {
    "duration": 13,
    "start_time": "2023-08-31T15:05:47.373Z"
   },
   {
    "duration": 20,
    "start_time": "2023-08-31T15:05:47.388Z"
   },
   {
    "duration": 6,
    "start_time": "2023-08-31T15:05:47.410Z"
   },
   {
    "duration": 11,
    "start_time": "2023-08-31T15:05:47.418Z"
   },
   {
    "duration": 7,
    "start_time": "2023-08-31T15:05:47.431Z"
   },
   {
    "duration": 17,
    "start_time": "2023-08-31T15:05:47.441Z"
   },
   {
    "duration": 9,
    "start_time": "2023-08-31T15:05:47.462Z"
   },
   {
    "duration": 14,
    "start_time": "2023-08-31T15:05:47.473Z"
   },
   {
    "duration": 10,
    "start_time": "2023-08-31T15:05:47.488Z"
   },
   {
    "duration": 7,
    "start_time": "2023-08-31T15:05:47.500Z"
   },
   {
    "duration": 24,
    "start_time": "2023-08-31T15:05:47.509Z"
   },
   {
    "duration": 7,
    "start_time": "2023-08-31T15:05:47.535Z"
   },
   {
    "duration": 18,
    "start_time": "2023-08-31T15:05:47.544Z"
   },
   {
    "duration": 7,
    "start_time": "2023-08-31T15:05:47.564Z"
   },
   {
    "duration": 9445,
    "start_time": "2023-08-31T15:05:47.573Z"
   },
   {
    "duration": 30040,
    "start_time": "2023-08-31T15:05:57.020Z"
   },
   {
    "duration": 102113,
    "start_time": "2023-08-31T15:06:27.062Z"
   },
   {
    "duration": 185132,
    "start_time": "2023-08-31T15:09:09.335Z"
   },
   {
    "duration": 4,
    "start_time": "2023-08-31T15:13:00.968Z"
   },
   {
    "duration": 65,
    "start_time": "2023-08-31T15:13:00.974Z"
   },
   {
    "duration": 65,
    "start_time": "2023-08-31T15:13:01.041Z"
   },
   {
    "duration": 61,
    "start_time": "2023-08-31T15:13:01.108Z"
   },
   {
    "duration": 57,
    "start_time": "2023-08-31T15:13:01.171Z"
   },
   {
    "duration": 47,
    "start_time": "2023-08-31T15:13:01.230Z"
   },
   {
    "duration": 75,
    "start_time": "2023-08-31T15:13:01.278Z"
   },
   {
    "duration": 1027,
    "start_time": "2023-08-31T15:13:01.355Z"
   },
   {
    "duration": 6,
    "start_time": "2023-08-31T15:13:02.385Z"
   },
   {
    "duration": 34,
    "start_time": "2023-08-31T15:13:02.393Z"
   },
   {
    "duration": 27,
    "start_time": "2023-08-31T15:13:02.428Z"
   },
   {
    "duration": 179,
    "start_time": "2023-08-31T15:13:02.457Z"
   },
   {
    "duration": 10,
    "start_time": "2023-08-31T15:13:02.638Z"
   },
   {
    "duration": 21,
    "start_time": "2023-08-31T15:13:02.650Z"
   },
   {
    "duration": 161,
    "start_time": "2023-08-31T15:13:02.673Z"
   },
   {
    "duration": 5,
    "start_time": "2023-08-31T15:13:02.836Z"
   },
   {
    "duration": 9,
    "start_time": "2023-08-31T15:13:02.847Z"
   },
   {
    "duration": 193,
    "start_time": "2023-08-31T15:13:02.858Z"
   },
   {
    "duration": 5,
    "start_time": "2023-08-31T15:13:03.053Z"
   },
   {
    "duration": 11,
    "start_time": "2023-08-31T15:13:03.060Z"
   },
   {
    "duration": 192,
    "start_time": "2023-08-31T15:13:03.073Z"
   },
   {
    "duration": 5,
    "start_time": "2023-08-31T15:13:03.267Z"
   },
   {
    "duration": 8,
    "start_time": "2023-08-31T15:13:03.274Z"
   },
   {
    "duration": 4,
    "start_time": "2023-08-31T15:13:03.286Z"
   },
   {
    "duration": 5,
    "start_time": "2023-08-31T15:13:03.292Z"
   },
   {
    "duration": 12,
    "start_time": "2023-08-31T15:13:03.299Z"
   },
   {
    "duration": 9,
    "start_time": "2023-08-31T15:13:03.313Z"
   },
   {
    "duration": 7,
    "start_time": "2023-08-31T15:13:03.347Z"
   },
   {
    "duration": 13,
    "start_time": "2023-08-31T15:13:03.356Z"
   },
   {
    "duration": 6,
    "start_time": "2023-08-31T15:13:03.370Z"
   },
   {
    "duration": 12,
    "start_time": "2023-08-31T15:13:03.377Z"
   },
   {
    "duration": 12,
    "start_time": "2023-08-31T15:13:03.391Z"
   },
   {
    "duration": 19,
    "start_time": "2023-08-31T15:13:03.405Z"
   },
   {
    "duration": 8,
    "start_time": "2023-08-31T15:13:03.426Z"
   },
   {
    "duration": 5,
    "start_time": "2023-08-31T15:13:03.447Z"
   },
   {
    "duration": 18,
    "start_time": "2023-08-31T15:13:03.453Z"
   },
   {
    "duration": 8,
    "start_time": "2023-08-31T15:13:03.473Z"
   },
   {
    "duration": 12,
    "start_time": "2023-08-31T15:13:03.483Z"
   },
   {
    "duration": 8,
    "start_time": "2023-08-31T15:13:03.497Z"
   },
   {
    "duration": 15,
    "start_time": "2023-08-31T15:13:03.507Z"
   },
   {
    "duration": 9,
    "start_time": "2023-08-31T15:13:03.524Z"
   },
   {
    "duration": 19,
    "start_time": "2023-08-31T15:13:03.535Z"
   },
   {
    "duration": 13,
    "start_time": "2023-08-31T15:13:03.555Z"
   },
   {
    "duration": 4,
    "start_time": "2023-08-31T15:13:03.570Z"
   },
   {
    "duration": 9,
    "start_time": "2023-08-31T15:13:03.576Z"
   },
   {
    "duration": 5,
    "start_time": "2023-08-31T15:13:03.587Z"
   },
   {
    "duration": 7,
    "start_time": "2023-08-31T15:13:03.594Z"
   },
   {
    "duration": 20,
    "start_time": "2023-08-31T15:13:03.603Z"
   },
   {
    "duration": 5,
    "start_time": "2023-08-31T15:13:03.624Z"
   },
   {
    "duration": 28,
    "start_time": "2023-08-31T15:13:03.630Z"
   },
   {
    "duration": 15386,
    "start_time": "2023-08-31T15:13:03.660Z"
   },
   {
    "duration": 45504,
    "start_time": "2023-08-31T15:13:19.048Z"
   },
   {
    "duration": 141894,
    "start_time": "2023-08-31T15:14:04.555Z"
   },
   {
    "duration": 50735,
    "start_time": "2023-08-31T15:16:26.451Z"
   },
   {
    "duration": 4,
    "start_time": "2023-08-31T15:17:40.662Z"
   },
   {
    "duration": 10,
    "start_time": "2023-08-31T15:17:40.668Z"
   },
   {
    "duration": 39,
    "start_time": "2023-08-31T15:17:40.680Z"
   },
   {
    "duration": 17,
    "start_time": "2023-08-31T15:17:40.721Z"
   },
   {
    "duration": 20,
    "start_time": "2023-08-31T15:17:40.741Z"
   },
   {
    "duration": 40,
    "start_time": "2023-08-31T15:17:40.763Z"
   },
   {
    "duration": 23,
    "start_time": "2023-08-31T15:17:40.805Z"
   },
   {
    "duration": 999,
    "start_time": "2023-08-31T15:17:40.830Z"
   },
   {
    "duration": 18,
    "start_time": "2023-08-31T15:17:41.831Z"
   },
   {
    "duration": 6,
    "start_time": "2023-08-31T15:17:41.851Z"
   },
   {
    "duration": 9,
    "start_time": "2023-08-31T15:17:41.859Z"
   },
   {
    "duration": 191,
    "start_time": "2023-08-31T15:17:41.870Z"
   },
   {
    "duration": 5,
    "start_time": "2023-08-31T15:17:42.066Z"
   },
   {
    "duration": 9,
    "start_time": "2023-08-31T15:17:42.073Z"
   },
   {
    "duration": 183,
    "start_time": "2023-08-31T15:17:42.084Z"
   },
   {
    "duration": 5,
    "start_time": "2023-08-31T15:17:42.268Z"
   },
   {
    "duration": 8,
    "start_time": "2023-08-31T15:17:42.275Z"
   },
   {
    "duration": 196,
    "start_time": "2023-08-31T15:17:42.285Z"
   },
   {
    "duration": 6,
    "start_time": "2023-08-31T15:17:42.483Z"
   },
   {
    "duration": 19,
    "start_time": "2023-08-31T15:17:42.491Z"
   },
   {
    "duration": 185,
    "start_time": "2023-08-31T15:17:42.512Z"
   },
   {
    "duration": 5,
    "start_time": "2023-08-31T15:17:42.698Z"
   },
   {
    "duration": 9,
    "start_time": "2023-08-31T15:17:42.704Z"
   },
   {
    "duration": 16,
    "start_time": "2023-08-31T15:17:42.715Z"
   },
   {
    "duration": 18,
    "start_time": "2023-08-31T15:17:42.732Z"
   },
   {
    "duration": 6,
    "start_time": "2023-08-31T15:17:42.752Z"
   },
   {
    "duration": 9,
    "start_time": "2023-08-31T15:17:42.760Z"
   },
   {
    "duration": 6,
    "start_time": "2023-08-31T15:17:42.771Z"
   },
   {
    "duration": 17,
    "start_time": "2023-08-31T15:17:42.779Z"
   },
   {
    "duration": 7,
    "start_time": "2023-08-31T15:17:42.798Z"
   },
   {
    "duration": 5,
    "start_time": "2023-08-31T15:17:42.806Z"
   },
   {
    "duration": 9,
    "start_time": "2023-08-31T15:17:42.813Z"
   },
   {
    "duration": 33,
    "start_time": "2023-08-31T15:17:42.824Z"
   },
   {
    "duration": 12,
    "start_time": "2023-08-31T15:17:42.859Z"
   },
   {
    "duration": 9,
    "start_time": "2023-08-31T15:17:42.873Z"
   },
   {
    "duration": 9,
    "start_time": "2023-08-31T15:17:42.883Z"
   },
   {
    "duration": 14,
    "start_time": "2023-08-31T15:17:42.896Z"
   },
   {
    "duration": 14,
    "start_time": "2023-08-31T15:17:42.912Z"
   },
   {
    "duration": 35,
    "start_time": "2023-08-31T15:17:42.927Z"
   },
   {
    "duration": 23,
    "start_time": "2023-08-31T15:17:42.964Z"
   },
   {
    "duration": 12,
    "start_time": "2023-08-31T15:17:42.989Z"
   },
   {
    "duration": 23,
    "start_time": "2023-08-31T15:17:43.003Z"
   },
   {
    "duration": 20,
    "start_time": "2023-08-31T15:17:43.028Z"
   },
   {
    "duration": 17,
    "start_time": "2023-08-31T15:17:43.049Z"
   },
   {
    "duration": 23,
    "start_time": "2023-08-31T15:17:43.067Z"
   },
   {
    "duration": 23,
    "start_time": "2023-08-31T15:17:43.091Z"
   },
   {
    "duration": 21,
    "start_time": "2023-08-31T15:17:43.115Z"
   },
   {
    "duration": 18,
    "start_time": "2023-08-31T15:17:43.138Z"
   },
   {
    "duration": 16,
    "start_time": "2023-08-31T15:17:43.157Z"
   },
   {
    "duration": 19,
    "start_time": "2023-08-31T15:17:43.175Z"
   },
   {
    "duration": 8481,
    "start_time": "2023-08-31T15:17:43.196Z"
   },
   {
    "duration": 19871,
    "start_time": "2023-08-31T15:17:51.679Z"
   },
   {
    "duration": 72904,
    "start_time": "2023-08-31T15:18:11.552Z"
   },
   {
    "duration": 140434,
    "start_time": "2023-08-31T15:19:43.428Z"
   },
   {
    "duration": 4,
    "start_time": "2023-08-31T15:23:30.263Z"
   },
   {
    "duration": 42,
    "start_time": "2023-08-31T15:23:30.269Z"
   },
   {
    "duration": 67,
    "start_time": "2023-08-31T15:23:30.313Z"
   },
   {
    "duration": 39,
    "start_time": "2023-08-31T15:23:30.382Z"
   },
   {
    "duration": 49,
    "start_time": "2023-08-31T15:23:30.423Z"
   },
   {
    "duration": 76,
    "start_time": "2023-08-31T15:23:30.475Z"
   },
   {
    "duration": 45,
    "start_time": "2023-08-31T15:23:30.553Z"
   },
   {
    "duration": 1044,
    "start_time": "2023-08-31T15:23:30.600Z"
   },
   {
    "duration": 6,
    "start_time": "2023-08-31T15:23:31.646Z"
   },
   {
    "duration": 58,
    "start_time": "2023-08-31T15:23:31.653Z"
   },
   {
    "duration": 26,
    "start_time": "2023-08-31T15:23:31.713Z"
   },
   {
    "duration": 167,
    "start_time": "2023-08-31T15:23:31.741Z"
   },
   {
    "duration": 5,
    "start_time": "2023-08-31T15:23:31.910Z"
   },
   {
    "duration": 15,
    "start_time": "2023-08-31T15:23:31.917Z"
   },
   {
    "duration": 176,
    "start_time": "2023-08-31T15:23:31.934Z"
   },
   {
    "duration": 5,
    "start_time": "2023-08-31T15:23:32.112Z"
   },
   {
    "duration": 28,
    "start_time": "2023-08-31T15:23:32.119Z"
   },
   {
    "duration": 183,
    "start_time": "2023-08-31T15:23:32.152Z"
   },
   {
    "duration": 11,
    "start_time": "2023-08-31T15:23:32.337Z"
   },
   {
    "duration": 23,
    "start_time": "2023-08-31T15:23:32.350Z"
   },
   {
    "duration": 181,
    "start_time": "2023-08-31T15:23:32.375Z"
   },
   {
    "duration": 5,
    "start_time": "2023-08-31T15:23:32.558Z"
   },
   {
    "duration": 77,
    "start_time": "2023-08-31T15:23:32.564Z"
   },
   {
    "duration": 45,
    "start_time": "2023-08-31T15:23:32.644Z"
   },
   {
    "duration": 72,
    "start_time": "2023-08-31T15:23:32.691Z"
   },
   {
    "duration": 21,
    "start_time": "2023-08-31T15:23:32.765Z"
   },
   {
    "duration": 24,
    "start_time": "2023-08-31T15:23:32.788Z"
   },
   {
    "duration": 44,
    "start_time": "2023-08-31T15:23:32.813Z"
   },
   {
    "duration": 37,
    "start_time": "2023-08-31T15:23:32.859Z"
   },
   {
    "duration": 28,
    "start_time": "2023-08-31T15:23:32.897Z"
   },
   {
    "duration": 27,
    "start_time": "2023-08-31T15:23:32.926Z"
   },
   {
    "duration": 39,
    "start_time": "2023-08-31T15:23:32.955Z"
   },
   {
    "duration": 50,
    "start_time": "2023-08-31T15:23:32.996Z"
   },
   {
    "duration": 60,
    "start_time": "2023-08-31T15:23:33.048Z"
   },
   {
    "duration": 54,
    "start_time": "2023-08-31T15:23:33.109Z"
   },
   {
    "duration": 47,
    "start_time": "2023-08-31T15:23:33.164Z"
   },
   {
    "duration": 58,
    "start_time": "2023-08-31T15:23:33.213Z"
   },
   {
    "duration": 35,
    "start_time": "2023-08-31T15:23:33.272Z"
   },
   {
    "duration": 38,
    "start_time": "2023-08-31T15:23:33.309Z"
   },
   {
    "duration": 35,
    "start_time": "2023-08-31T15:23:33.349Z"
   },
   {
    "duration": 28,
    "start_time": "2023-08-31T15:23:33.386Z"
   },
   {
    "duration": 31,
    "start_time": "2023-08-31T15:23:33.416Z"
   },
   {
    "duration": 31,
    "start_time": "2023-08-31T15:23:33.449Z"
   },
   {
    "duration": 41,
    "start_time": "2023-08-31T15:23:33.482Z"
   },
   {
    "duration": 122,
    "start_time": "2023-08-31T15:23:33.525Z"
   },
   {
    "duration": 18,
    "start_time": "2023-08-31T15:23:33.649Z"
   },
   {
    "duration": 92,
    "start_time": "2023-08-31T15:23:33.669Z"
   },
   {
    "duration": 40,
    "start_time": "2023-08-31T15:23:33.762Z"
   },
   {
    "duration": 35,
    "start_time": "2023-08-31T15:23:33.803Z"
   },
   {
    "duration": 31,
    "start_time": "2023-08-31T15:23:33.840Z"
   },
   {
    "duration": 11376,
    "start_time": "2023-08-31T15:23:33.873Z"
   },
   {
    "duration": 26801,
    "start_time": "2023-08-31T15:23:45.250Z"
   },
   {
    "duration": 100405,
    "start_time": "2023-08-31T15:24:12.053Z"
   },
   {
    "duration": 4,
    "start_time": "2023-08-31T15:26:37.480Z"
   },
   {
    "duration": 7,
    "start_time": "2023-08-31T15:26:40.977Z"
   },
   {
    "duration": 361,
    "start_time": "2023-08-31T15:26:42.569Z"
   },
   {
    "duration": 179159,
    "start_time": "2023-08-31T15:26:59.091Z"
   },
   {
    "duration": 944609,
    "start_time": "2023-08-31T15:29:58.252Z"
   },
   {
    "duration": 5,
    "start_time": "2023-08-31T15:45:42.863Z"
   },
   {
    "duration": 7,
    "start_time": "2023-08-31T15:48:49.061Z"
   },
   {
    "duration": 6,
    "start_time": "2023-08-31T15:48:49.659Z"
   },
   {
    "duration": 367,
    "start_time": "2023-08-31T15:48:50.218Z"
   },
   {
    "duration": 22,
    "start_time": "2023-08-31T15:52:08.832Z"
   },
   {
    "duration": 9,
    "start_time": "2023-08-31T15:52:30.203Z"
   },
   {
    "duration": 39,
    "start_time": "2023-08-31T15:55:29.386Z"
   },
   {
    "duration": 3,
    "start_time": "2023-08-31T15:55:34.215Z"
   },
   {
    "duration": 16262,
    "start_time": "2023-08-31T15:55:34.802Z"
   },
   {
    "duration": 0,
    "start_time": "2023-08-31T15:55:51.066Z"
   },
   {
    "duration": 29562,
    "start_time": "2023-08-31T15:55:58.589Z"
   },
   {
    "duration": 7,
    "start_time": "2023-08-31T15:56:42.567Z"
   },
   {
    "duration": 26412,
    "start_time": "2023-08-31T15:57:27.842Z"
   },
   {
    "duration": 14,
    "start_time": "2023-08-31T15:57:54.256Z"
   },
   {
    "duration": 3,
    "start_time": "2023-08-31T15:58:32.875Z"
   },
   {
    "duration": 28505,
    "start_time": "2023-08-31T15:58:33.559Z"
   },
   {
    "duration": 5,
    "start_time": "2023-08-31T15:59:02.067Z"
   },
   {
    "duration": 15,
    "start_time": "2023-08-31T15:59:51.933Z"
   },
   {
    "duration": 13,
    "start_time": "2023-08-31T16:00:18.338Z"
   },
   {
    "duration": 29,
    "start_time": "2023-08-31T16:00:24.213Z"
   },
   {
    "duration": 30,
    "start_time": "2023-08-31T16:00:31.002Z"
   },
   {
    "duration": 11,
    "start_time": "2023-08-31T16:01:06.040Z"
   },
   {
    "duration": 12,
    "start_time": "2023-08-31T16:01:09.635Z"
   },
   {
    "duration": 4,
    "start_time": "2023-08-31T16:01:22.661Z"
   },
   {
    "duration": 2,
    "start_time": "2023-08-31T16:01:51.833Z"
   },
   {
    "duration": 29027,
    "start_time": "2023-08-31T16:01:52.343Z"
   },
   {
    "duration": 76,
    "start_time": "2023-08-31T16:02:21.373Z"
   },
   {
    "duration": 22,
    "start_time": "2023-08-31T16:02:44.863Z"
   },
   {
    "duration": 3,
    "start_time": "2023-08-31T16:03:28.110Z"
   },
   {
    "duration": 26849,
    "start_time": "2023-08-31T16:03:28.611Z"
   },
   {
    "duration": 5,
    "start_time": "2023-08-31T16:03:55.462Z"
   },
   {
    "duration": 25,
    "start_time": "2023-08-31T16:05:49.023Z"
   },
   {
    "duration": 3,
    "start_time": "2023-08-31T16:06:54.456Z"
   },
   {
    "duration": 28772,
    "start_time": "2023-08-31T16:06:56.875Z"
   },
   {
    "duration": 4,
    "start_time": "2023-08-31T16:07:25.650Z"
   },
   {
    "duration": 4,
    "start_time": "2023-08-31T16:08:35.874Z"
   },
   {
    "duration": 1896,
    "start_time": "2023-08-31T16:08:36.375Z"
   },
   {
    "duration": 4,
    "start_time": "2023-08-31T16:08:38.273Z"
   },
   {
    "duration": 23,
    "start_time": "2023-08-31T16:08:45.557Z"
   },
   {
    "duration": 191,
    "start_time": "2023-08-31T16:09:00.836Z"
   },
   {
    "duration": 2,
    "start_time": "2023-08-31T16:09:25.727Z"
   },
   {
    "duration": 7521,
    "start_time": "2023-08-31T16:09:26.254Z"
   },
   {
    "duration": 71,
    "start_time": "2023-08-31T16:09:33.777Z"
   },
   {
    "duration": 5,
    "start_time": "2023-08-31T16:11:56.573Z"
   },
   {
    "duration": 17,
    "start_time": "2023-08-31T16:11:56.581Z"
   },
   {
    "duration": 33,
    "start_time": "2023-08-31T16:11:56.600Z"
   },
   {
    "duration": 12,
    "start_time": "2023-08-31T16:11:56.634Z"
   },
   {
    "duration": 20,
    "start_time": "2023-08-31T16:11:56.648Z"
   },
   {
    "duration": 13,
    "start_time": "2023-08-31T16:11:56.669Z"
   },
   {
    "duration": 10,
    "start_time": "2023-08-31T16:11:56.683Z"
   },
   {
    "duration": 1056,
    "start_time": "2023-08-31T16:11:56.695Z"
   },
   {
    "duration": 5,
    "start_time": "2023-08-31T16:11:57.753Z"
   },
   {
    "duration": 14,
    "start_time": "2023-08-31T16:11:57.760Z"
   },
   {
    "duration": 11,
    "start_time": "2023-08-31T16:11:57.776Z"
   },
   {
    "duration": 179,
    "start_time": "2023-08-31T16:11:57.789Z"
   },
   {
    "duration": 6,
    "start_time": "2023-08-31T16:11:57.972Z"
   },
   {
    "duration": 13,
    "start_time": "2023-08-31T16:11:57.979Z"
   },
   {
    "duration": 195,
    "start_time": "2023-08-31T16:11:57.994Z"
   },
   {
    "duration": 5,
    "start_time": "2023-08-31T16:11:58.191Z"
   },
   {
    "duration": 13,
    "start_time": "2023-08-31T16:11:58.198Z"
   },
   {
    "duration": 212,
    "start_time": "2023-08-31T16:11:58.213Z"
   },
   {
    "duration": 5,
    "start_time": "2023-08-31T16:11:58.427Z"
   },
   {
    "duration": 9,
    "start_time": "2023-08-31T16:11:58.447Z"
   },
   {
    "duration": 164,
    "start_time": "2023-08-31T16:11:58.457Z"
   },
   {
    "duration": 6,
    "start_time": "2023-08-31T16:11:58.622Z"
   },
   {
    "duration": 19,
    "start_time": "2023-08-31T16:11:58.629Z"
   },
   {
    "duration": 6,
    "start_time": "2023-08-31T16:11:58.649Z"
   },
   {
    "duration": 33,
    "start_time": "2023-08-31T16:11:58.657Z"
   },
   {
    "duration": 14,
    "start_time": "2023-08-31T16:11:58.692Z"
   },
   {
    "duration": 25,
    "start_time": "2023-08-31T16:11:58.707Z"
   },
   {
    "duration": 9,
    "start_time": "2023-08-31T16:11:58.734Z"
   },
   {
    "duration": 14,
    "start_time": "2023-08-31T16:11:58.745Z"
   },
   {
    "duration": 8,
    "start_time": "2023-08-31T16:11:58.761Z"
   },
   {
    "duration": 6,
    "start_time": "2023-08-31T16:11:58.770Z"
   },
   {
    "duration": 9,
    "start_time": "2023-08-31T16:11:58.777Z"
   },
   {
    "duration": 22,
    "start_time": "2023-08-31T16:11:58.788Z"
   },
   {
    "duration": 32,
    "start_time": "2023-08-31T16:11:58.812Z"
   },
   {
    "duration": 10,
    "start_time": "2023-08-31T16:11:58.846Z"
   },
   {
    "duration": 6,
    "start_time": "2023-08-31T16:11:58.858Z"
   },
   {
    "duration": 4,
    "start_time": "2023-08-31T16:11:58.868Z"
   },
   {
    "duration": 14,
    "start_time": "2023-08-31T16:11:58.874Z"
   },
   {
    "duration": 7,
    "start_time": "2023-08-31T16:11:58.890Z"
   },
   {
    "duration": 6,
    "start_time": "2023-08-31T16:11:58.899Z"
   },
   {
    "duration": 4,
    "start_time": "2023-08-31T16:11:58.908Z"
   },
   {
    "duration": 32,
    "start_time": "2023-08-31T16:11:58.915Z"
   },
   {
    "duration": 4,
    "start_time": "2023-08-31T16:11:58.949Z"
   },
   {
    "duration": 6,
    "start_time": "2023-08-31T16:11:58.954Z"
   },
   {
    "duration": 4,
    "start_time": "2023-08-31T16:11:58.962Z"
   },
   {
    "duration": 6,
    "start_time": "2023-08-31T16:11:58.967Z"
   },
   {
    "duration": 5,
    "start_time": "2023-08-31T16:11:58.974Z"
   },
   {
    "duration": 7,
    "start_time": "2023-08-31T16:11:58.981Z"
   },
   {
    "duration": 14415,
    "start_time": "2023-08-31T16:11:58.989Z"
   },
   {
    "duration": 32959,
    "start_time": "2023-08-31T16:12:13.406Z"
   },
   {
    "duration": 133398,
    "start_time": "2023-08-31T16:12:46.366Z"
   },
   {
    "duration": 4,
    "start_time": "2023-08-31T16:14:59.766Z"
   },
   {
    "duration": 80,
    "start_time": "2023-08-31T16:14:59.771Z"
   },
   {
    "duration": 1073,
    "start_time": "2023-08-31T16:14:59.852Z"
   },
   {
    "duration": 270537,
    "start_time": "2023-08-31T16:15:00.927Z"
   },
   {
    "duration": 1401592,
    "start_time": "2023-08-31T16:19:31.466Z"
   },
   {
    "duration": 3,
    "start_time": "2023-08-31T16:42:53.060Z"
   },
   {
    "duration": 8,
    "start_time": "2023-08-31T16:42:53.065Z"
   },
   {
    "duration": 72,
    "start_time": "2023-08-31T16:42:53.075Z"
   },
   {
    "duration": 348,
    "start_time": "2023-08-31T16:42:53.149Z"
   },
   {
    "duration": 135134,
    "start_time": "2023-08-31T17:07:19.431Z"
   },
   {
    "duration": 11,
    "start_time": "2023-08-31T17:11:03.423Z"
   },
   {
    "duration": 6,
    "start_time": "2023-08-31T17:11:10.266Z"
   },
   {
    "duration": 13,
    "start_time": "2023-08-31T17:11:15.320Z"
   },
   {
    "duration": 32,
    "start_time": "2023-08-31T17:14:05.145Z"
   },
   {
    "duration": 36553,
    "start_time": "2023-08-31T17:14:11.311Z"
   },
   {
    "duration": 33,
    "start_time": "2023-08-31T17:14:49.872Z"
   },
   {
    "duration": 3,
    "start_time": "2023-08-31T17:15:33.198Z"
   },
   {
    "duration": 35479,
    "start_time": "2023-08-31T17:15:33.772Z"
   },
   {
    "duration": 4,
    "start_time": "2023-08-31T17:16:09.253Z"
   },
   {
    "duration": 204,
    "start_time": "2023-08-31T17:17:06.111Z"
   },
   {
    "duration": 3,
    "start_time": "2023-08-31T17:20:33.662Z"
   },
   {
    "duration": 147493,
    "start_time": "2023-08-31T17:20:33.666Z"
   },
   {
    "duration": 5,
    "start_time": "2023-08-31T17:23:01.161Z"
   },
   {
    "duration": 263,
    "start_time": "2023-08-31T17:23:01.167Z"
   },
   {
    "duration": 2539,
    "start_time": "2023-09-01T07:42:57.014Z"
   },
   {
    "duration": 4,
    "start_time": "2023-09-01T07:43:18.020Z"
   },
   {
    "duration": 8,
    "start_time": "2023-09-01T07:43:18.026Z"
   },
   {
    "duration": 97,
    "start_time": "2023-09-01T07:43:18.036Z"
   },
   {
    "duration": 15,
    "start_time": "2023-09-01T07:43:18.135Z"
   },
   {
    "duration": 13,
    "start_time": "2023-09-01T07:43:18.152Z"
   },
   {
    "duration": 35,
    "start_time": "2023-09-01T07:43:18.166Z"
   },
   {
    "duration": 11,
    "start_time": "2023-09-01T07:43:18.203Z"
   },
   {
    "duration": 1037,
    "start_time": "2023-09-01T07:43:18.216Z"
   },
   {
    "duration": 8,
    "start_time": "2023-09-01T07:43:19.255Z"
   },
   {
    "duration": 26,
    "start_time": "2023-09-01T07:43:19.265Z"
   },
   {
    "duration": 14,
    "start_time": "2023-09-01T07:43:19.301Z"
   },
   {
    "duration": 187,
    "start_time": "2023-09-01T07:43:19.319Z"
   },
   {
    "duration": 7,
    "start_time": "2023-09-01T07:43:19.509Z"
   },
   {
    "duration": 10,
    "start_time": "2023-09-01T07:43:19.518Z"
   },
   {
    "duration": 183,
    "start_time": "2023-09-01T07:43:19.529Z"
   },
   {
    "duration": 5,
    "start_time": "2023-09-01T07:43:19.714Z"
   },
   {
    "duration": 9,
    "start_time": "2023-09-01T07:43:19.720Z"
   },
   {
    "duration": 197,
    "start_time": "2023-09-01T07:43:19.731Z"
   },
   {
    "duration": 5,
    "start_time": "2023-09-01T07:43:19.930Z"
   },
   {
    "duration": 11,
    "start_time": "2023-09-01T07:43:19.936Z"
   },
   {
    "duration": 194,
    "start_time": "2023-09-01T07:43:19.949Z"
   },
   {
    "duration": 5,
    "start_time": "2023-09-01T07:43:20.145Z"
   },
   {
    "duration": 28,
    "start_time": "2023-09-01T07:43:20.151Z"
   },
   {
    "duration": 30,
    "start_time": "2023-09-01T07:43:20.183Z"
   },
   {
    "duration": 10,
    "start_time": "2023-09-01T07:43:20.215Z"
   },
   {
    "duration": 33,
    "start_time": "2023-09-01T07:43:20.227Z"
   },
   {
    "duration": 15,
    "start_time": "2023-09-01T07:43:20.262Z"
   },
   {
    "duration": 32,
    "start_time": "2023-09-01T07:43:20.279Z"
   },
   {
    "duration": 12,
    "start_time": "2023-09-01T07:43:20.315Z"
   },
   {
    "duration": 14,
    "start_time": "2023-09-01T07:43:20.331Z"
   },
   {
    "duration": 20,
    "start_time": "2023-09-01T07:43:20.346Z"
   },
   {
    "duration": 5,
    "start_time": "2023-09-01T07:43:20.368Z"
   },
   {
    "duration": 39,
    "start_time": "2023-09-01T07:43:20.375Z"
   },
   {
    "duration": 5,
    "start_time": "2023-09-01T07:43:20.415Z"
   },
   {
    "duration": 20,
    "start_time": "2023-09-01T07:43:20.422Z"
   },
   {
    "duration": 9,
    "start_time": "2023-09-01T07:43:20.443Z"
   },
   {
    "duration": 8,
    "start_time": "2023-09-01T07:43:20.454Z"
   },
   {
    "duration": 5,
    "start_time": "2023-09-01T07:43:20.463Z"
   },
   {
    "duration": 6,
    "start_time": "2023-09-01T07:43:20.469Z"
   },
   {
    "duration": 6,
    "start_time": "2023-09-01T07:47:31.611Z"
   },
   {
    "duration": 23,
    "start_time": "2023-09-01T07:47:31.619Z"
   },
   {
    "duration": 34,
    "start_time": "2023-09-01T07:47:31.643Z"
   },
   {
    "duration": 20,
    "start_time": "2023-09-01T07:47:31.679Z"
   },
   {
    "duration": 24,
    "start_time": "2023-09-01T07:47:31.701Z"
   },
   {
    "duration": 26,
    "start_time": "2023-09-01T07:47:31.726Z"
   },
   {
    "duration": 18,
    "start_time": "2023-09-01T07:47:31.753Z"
   },
   {
    "duration": 1190,
    "start_time": "2023-09-01T07:47:31.773Z"
   },
   {
    "duration": 5,
    "start_time": "2023-09-01T07:47:32.965Z"
   },
   {
    "duration": 24,
    "start_time": "2023-09-01T07:47:32.972Z"
   },
   {
    "duration": 21,
    "start_time": "2023-09-01T07:47:32.998Z"
   },
   {
    "duration": 185,
    "start_time": "2023-09-01T07:47:33.021Z"
   },
   {
    "duration": 17,
    "start_time": "2023-09-01T07:47:33.211Z"
   },
   {
    "duration": 8,
    "start_time": "2023-09-01T07:47:33.232Z"
   },
   {
    "duration": 172,
    "start_time": "2023-09-01T07:47:33.242Z"
   },
   {
    "duration": 8,
    "start_time": "2023-09-01T07:47:33.416Z"
   },
   {
    "duration": 14,
    "start_time": "2023-09-01T07:47:33.426Z"
   },
   {
    "duration": 202,
    "start_time": "2023-09-01T07:47:33.442Z"
   },
   {
    "duration": 5,
    "start_time": "2023-09-01T07:47:33.645Z"
   },
   {
    "duration": 28,
    "start_time": "2023-09-01T07:47:33.651Z"
   },
   {
    "duration": 182,
    "start_time": "2023-09-01T07:47:33.680Z"
   },
   {
    "duration": 4,
    "start_time": "2023-09-01T07:47:33.864Z"
   },
   {
    "duration": 22,
    "start_time": "2023-09-01T07:47:33.870Z"
   },
   {
    "duration": 28,
    "start_time": "2023-09-01T07:47:33.894Z"
   },
   {
    "duration": 4,
    "start_time": "2023-09-01T07:47:33.923Z"
   },
   {
    "duration": 6,
    "start_time": "2023-09-01T07:47:33.928Z"
   },
   {
    "duration": 15,
    "start_time": "2023-09-01T07:47:33.936Z"
   },
   {
    "duration": 14,
    "start_time": "2023-09-01T07:47:33.952Z"
   },
   {
    "duration": 31,
    "start_time": "2023-09-01T07:47:33.967Z"
   },
   {
    "duration": 20,
    "start_time": "2023-09-01T07:47:34.000Z"
   },
   {
    "duration": 6,
    "start_time": "2023-09-01T07:47:34.022Z"
   },
   {
    "duration": 5,
    "start_time": "2023-09-01T07:47:34.030Z"
   },
   {
    "duration": 6,
    "start_time": "2023-09-01T07:47:34.036Z"
   },
   {
    "duration": 6,
    "start_time": "2023-09-01T07:47:34.044Z"
   },
   {
    "duration": 7,
    "start_time": "2023-09-01T07:47:34.052Z"
   },
   {
    "duration": 12,
    "start_time": "2023-09-01T07:47:34.060Z"
   },
   {
    "duration": 11,
    "start_time": "2023-09-01T07:47:34.074Z"
   },
   {
    "duration": 18,
    "start_time": "2023-09-01T07:47:34.087Z"
   },
   {
    "duration": 4,
    "start_time": "2023-09-01T07:47:34.107Z"
   },
   {
    "duration": 16,
    "start_time": "2023-09-01T07:47:41.404Z"
   },
   {
    "duration": 3,
    "start_time": "2023-09-01T07:49:08.421Z"
   },
   {
    "duration": 4,
    "start_time": "2023-09-01T07:49:31.316Z"
   },
   {
    "duration": 170,
    "start_time": "2023-09-01T07:54:57.482Z"
   },
   {
    "duration": 14,
    "start_time": "2023-09-01T07:55:10.932Z"
   },
   {
    "duration": 12,
    "start_time": "2023-09-01T07:56:26.216Z"
   },
   {
    "duration": 3,
    "start_time": "2023-09-01T07:56:34.036Z"
   },
   {
    "duration": 34,
    "start_time": "2023-09-01T07:57:41.152Z"
   },
   {
    "duration": 14,
    "start_time": "2023-09-01T07:59:56.929Z"
   },
   {
    "duration": 5,
    "start_time": "2023-09-01T07:59:56.945Z"
   },
   {
    "duration": 56,
    "start_time": "2023-09-01T07:59:56.952Z"
   },
   {
    "duration": 29,
    "start_time": "2023-09-01T07:59:57.016Z"
   },
   {
    "duration": 14,
    "start_time": "2023-09-01T07:59:57.048Z"
   },
   {
    "duration": 55,
    "start_time": "2023-09-01T07:59:57.064Z"
   },
   {
    "duration": 32,
    "start_time": "2023-09-01T07:59:57.121Z"
   },
   {
    "duration": 1183,
    "start_time": "2023-09-01T07:59:57.155Z"
   },
   {
    "duration": 7,
    "start_time": "2023-09-01T07:59:58.340Z"
   },
   {
    "duration": 67,
    "start_time": "2023-09-01T07:59:58.348Z"
   },
   {
    "duration": 20,
    "start_time": "2023-09-01T07:59:58.417Z"
   },
   {
    "duration": 319,
    "start_time": "2023-09-01T07:59:58.439Z"
   },
   {
    "duration": 6,
    "start_time": "2023-09-01T07:59:58.760Z"
   },
   {
    "duration": 18,
    "start_time": "2023-09-01T07:59:58.770Z"
   },
   {
    "duration": 221,
    "start_time": "2023-09-01T07:59:58.790Z"
   },
   {
    "duration": 5,
    "start_time": "2023-09-01T07:59:59.013Z"
   },
   {
    "duration": 9,
    "start_time": "2023-09-01T07:59:59.020Z"
   },
   {
    "duration": 266,
    "start_time": "2023-09-01T07:59:59.031Z"
   },
   {
    "duration": 20,
    "start_time": "2023-09-01T07:59:59.306Z"
   },
   {
    "duration": 13,
    "start_time": "2023-09-01T07:59:59.331Z"
   },
   {
    "duration": 203,
    "start_time": "2023-09-01T07:59:59.346Z"
   },
   {
    "duration": 6,
    "start_time": "2023-09-01T07:59:59.552Z"
   },
   {
    "duration": 7,
    "start_time": "2023-09-01T07:59:59.560Z"
   },
   {
    "duration": 32,
    "start_time": "2023-09-01T07:59:59.583Z"
   },
   {
    "duration": 10,
    "start_time": "2023-09-01T07:59:59.617Z"
   },
   {
    "duration": 6,
    "start_time": "2023-09-01T07:59:59.632Z"
   },
   {
    "duration": 9,
    "start_time": "2023-09-01T07:59:59.640Z"
   },
   {
    "duration": 7,
    "start_time": "2023-09-01T07:59:59.651Z"
   },
   {
    "duration": 14,
    "start_time": "2023-09-01T07:59:59.660Z"
   },
   {
    "duration": 23,
    "start_time": "2023-09-01T07:59:59.676Z"
   },
   {
    "duration": 7,
    "start_time": "2023-09-01T07:59:59.710Z"
   },
   {
    "duration": 17,
    "start_time": "2023-09-01T07:59:59.721Z"
   },
   {
    "duration": 6,
    "start_time": "2023-09-01T07:59:59.740Z"
   },
   {
    "duration": 6,
    "start_time": "2023-09-01T07:59:59.748Z"
   },
   {
    "duration": 8,
    "start_time": "2023-09-01T07:59:59.755Z"
   },
   {
    "duration": 6,
    "start_time": "2023-09-01T07:59:59.764Z"
   },
   {
    "duration": 4,
    "start_time": "2023-09-01T07:59:59.772Z"
   },
   {
    "duration": 7,
    "start_time": "2023-09-01T07:59:59.778Z"
   },
   {
    "duration": 17,
    "start_time": "2023-09-01T07:59:59.786Z"
   },
   {
    "duration": 29,
    "start_time": "2023-09-01T07:59:59.806Z"
   },
   {
    "duration": 6,
    "start_time": "2023-09-01T07:59:59.839Z"
   },
   {
    "duration": 3,
    "start_time": "2023-09-01T07:59:59.847Z"
   },
   {
    "duration": 11,
    "start_time": "2023-09-01T07:59:59.852Z"
   },
   {
    "duration": 21,
    "start_time": "2023-09-01T08:00:03.436Z"
   },
   {
    "duration": 6,
    "start_time": "2023-09-01T08:00:56.340Z"
   },
   {
    "duration": 18,
    "start_time": "2023-09-01T08:00:56.348Z"
   },
   {
    "duration": 67,
    "start_time": "2023-09-01T08:00:56.368Z"
   },
   {
    "duration": 15,
    "start_time": "2023-09-01T08:00:56.439Z"
   },
   {
    "duration": 24,
    "start_time": "2023-09-01T08:00:56.457Z"
   },
   {
    "duration": 22,
    "start_time": "2023-09-01T08:00:56.483Z"
   },
   {
    "duration": 26,
    "start_time": "2023-09-01T08:00:56.508Z"
   },
   {
    "duration": 1214,
    "start_time": "2023-09-01T08:00:56.537Z"
   },
   {
    "duration": 7,
    "start_time": "2023-09-01T08:00:57.753Z"
   },
   {
    "duration": 31,
    "start_time": "2023-09-01T08:00:57.762Z"
   },
   {
    "duration": 42,
    "start_time": "2023-09-01T08:00:57.795Z"
   },
   {
    "duration": 200,
    "start_time": "2023-09-01T08:00:57.838Z"
   },
   {
    "duration": 4,
    "start_time": "2023-09-01T08:00:58.040Z"
   },
   {
    "duration": 17,
    "start_time": "2023-09-01T08:00:58.047Z"
   },
   {
    "duration": 196,
    "start_time": "2023-09-01T08:00:58.066Z"
   },
   {
    "duration": 5,
    "start_time": "2023-09-01T08:00:58.263Z"
   },
   {
    "duration": 19,
    "start_time": "2023-09-01T08:00:58.270Z"
   },
   {
    "duration": 218,
    "start_time": "2023-09-01T08:00:58.290Z"
   },
   {
    "duration": 11,
    "start_time": "2023-09-01T08:00:58.515Z"
   },
   {
    "duration": 11,
    "start_time": "2023-09-01T08:00:58.529Z"
   },
   {
    "duration": 195,
    "start_time": "2023-09-01T08:00:58.541Z"
   },
   {
    "duration": 5,
    "start_time": "2023-09-01T08:00:58.738Z"
   },
   {
    "duration": 17,
    "start_time": "2023-09-01T08:00:58.744Z"
   },
   {
    "duration": 13,
    "start_time": "2023-09-01T08:00:58.763Z"
   },
   {
    "duration": 16,
    "start_time": "2023-09-01T08:00:58.777Z"
   },
   {
    "duration": 16,
    "start_time": "2023-09-01T08:00:58.795Z"
   },
   {
    "duration": 15,
    "start_time": "2023-09-01T08:00:58.818Z"
   },
   {
    "duration": 18,
    "start_time": "2023-09-01T08:00:58.836Z"
   },
   {
    "duration": 11,
    "start_time": "2023-09-01T08:00:58.857Z"
   },
   {
    "duration": 7,
    "start_time": "2023-09-01T08:00:58.870Z"
   },
   {
    "duration": 9,
    "start_time": "2023-09-01T08:00:58.879Z"
   },
   {
    "duration": 7,
    "start_time": "2023-09-01T08:00:58.889Z"
   },
   {
    "duration": 4,
    "start_time": "2023-09-01T08:00:58.899Z"
   },
   {
    "duration": 7,
    "start_time": "2023-09-01T08:00:58.905Z"
   },
   {
    "duration": 7,
    "start_time": "2023-09-01T08:00:58.915Z"
   },
   {
    "duration": 15,
    "start_time": "2023-09-01T08:00:58.924Z"
   },
   {
    "duration": 4,
    "start_time": "2023-09-01T08:00:58.941Z"
   },
   {
    "duration": 5,
    "start_time": "2023-09-01T08:00:58.947Z"
   },
   {
    "duration": 5,
    "start_time": "2023-09-01T08:00:58.953Z"
   },
   {
    "duration": 8,
    "start_time": "2023-09-01T08:00:58.959Z"
   },
   {
    "duration": 17,
    "start_time": "2023-09-01T08:00:58.968Z"
   },
   {
    "duration": 32,
    "start_time": "2023-09-01T08:00:58.987Z"
   },
   {
    "duration": 12,
    "start_time": "2023-09-01T08:04:49.007Z"
   },
   {
    "duration": 25,
    "start_time": "2023-09-01T08:04:49.021Z"
   },
   {
    "duration": 72,
    "start_time": "2023-09-01T08:04:49.051Z"
   },
   {
    "duration": 30,
    "start_time": "2023-09-01T08:04:49.126Z"
   },
   {
    "duration": 78,
    "start_time": "2023-09-01T08:04:49.164Z"
   },
   {
    "duration": 8,
    "start_time": "2023-09-01T08:04:49.244Z"
   },
   {
    "duration": 101,
    "start_time": "2023-09-01T08:04:49.254Z"
   },
   {
    "duration": 1462,
    "start_time": "2023-09-01T08:04:49.357Z"
   },
   {
    "duration": 11,
    "start_time": "2023-09-01T08:04:50.822Z"
   },
   {
    "duration": 51,
    "start_time": "2023-09-01T08:04:50.837Z"
   },
   {
    "duration": 45,
    "start_time": "2023-09-01T08:04:50.890Z"
   },
   {
    "duration": 219,
    "start_time": "2023-09-01T08:04:50.939Z"
   },
   {
    "duration": 5,
    "start_time": "2023-09-01T08:04:51.160Z"
   },
   {
    "duration": 156,
    "start_time": "2023-09-01T08:04:51.168Z"
   },
   {
    "duration": 294,
    "start_time": "2023-09-01T08:04:51.331Z"
   },
   {
    "duration": 5,
    "start_time": "2023-09-01T08:04:51.628Z"
   },
   {
    "duration": 26,
    "start_time": "2023-09-01T08:04:51.636Z"
   },
   {
    "duration": 248,
    "start_time": "2023-09-01T08:04:51.663Z"
   },
   {
    "duration": 5,
    "start_time": "2023-09-01T08:04:51.913Z"
   },
   {
    "duration": 230,
    "start_time": "2023-09-01T08:04:51.920Z"
   },
   {
    "duration": 210,
    "start_time": "2023-09-01T08:04:52.152Z"
   },
   {
    "duration": 4,
    "start_time": "2023-09-01T08:04:52.364Z"
   },
   {
    "duration": 62,
    "start_time": "2023-09-01T08:04:52.369Z"
   },
   {
    "duration": 15,
    "start_time": "2023-09-01T08:04:52.436Z"
   },
   {
    "duration": 36,
    "start_time": "2023-09-01T08:04:52.453Z"
   },
   {
    "duration": 28,
    "start_time": "2023-09-01T08:04:52.490Z"
   },
   {
    "duration": 28,
    "start_time": "2023-09-01T08:04:52.521Z"
   },
   {
    "duration": 18,
    "start_time": "2023-09-01T08:04:52.551Z"
   },
   {
    "duration": 58,
    "start_time": "2023-09-01T08:04:52.571Z"
   },
   {
    "duration": 14,
    "start_time": "2023-09-01T08:04:52.631Z"
   },
   {
    "duration": 21,
    "start_time": "2023-09-01T08:04:52.646Z"
   },
   {
    "duration": 33,
    "start_time": "2023-09-01T08:04:52.668Z"
   },
   {
    "duration": 20,
    "start_time": "2023-09-01T08:04:52.702Z"
   },
   {
    "duration": 13,
    "start_time": "2023-09-01T08:04:52.724Z"
   },
   {
    "duration": 5,
    "start_time": "2023-09-01T08:04:52.742Z"
   },
   {
    "duration": 26,
    "start_time": "2023-09-01T08:04:52.749Z"
   },
   {
    "duration": 7,
    "start_time": "2023-09-01T08:04:52.777Z"
   },
   {
    "duration": 36,
    "start_time": "2023-09-01T08:04:52.785Z"
   },
   {
    "duration": 17,
    "start_time": "2023-09-01T08:04:52.826Z"
   },
   {
    "duration": 14,
    "start_time": "2023-09-01T08:04:52.845Z"
   },
   {
    "duration": 15,
    "start_time": "2023-09-01T08:04:52.864Z"
   },
   {
    "duration": 39,
    "start_time": "2023-09-01T08:04:52.881Z"
   },
   {
    "duration": 36,
    "start_time": "2023-09-01T08:04:52.921Z"
   },
   {
    "duration": 0,
    "start_time": "2023-09-01T08:04:52.958Z"
   },
   {
    "duration": 0,
    "start_time": "2023-09-01T08:04:52.959Z"
   },
   {
    "duration": 0,
    "start_time": "2023-09-01T08:04:52.961Z"
   },
   {
    "duration": 0,
    "start_time": "2023-09-01T08:04:52.963Z"
   },
   {
    "duration": 0,
    "start_time": "2023-09-01T08:04:52.964Z"
   },
   {
    "duration": 0,
    "start_time": "2023-09-01T08:04:52.966Z"
   },
   {
    "duration": 0,
    "start_time": "2023-09-01T08:04:52.967Z"
   },
   {
    "duration": 0,
    "start_time": "2023-09-01T08:04:52.969Z"
   },
   {
    "duration": 0,
    "start_time": "2023-09-01T08:04:52.970Z"
   },
   {
    "duration": 0,
    "start_time": "2023-09-01T08:04:52.971Z"
   },
   {
    "duration": 0,
    "start_time": "2023-09-01T08:04:52.972Z"
   },
   {
    "duration": 11,
    "start_time": "2023-09-01T08:05:24.961Z"
   },
   {
    "duration": 2382,
    "start_time": "2023-09-01T08:06:20.739Z"
   },
   {
    "duration": 4,
    "start_time": "2023-09-01T08:06:23.127Z"
   },
   {
    "duration": 30,
    "start_time": "2023-09-01T08:06:23.132Z"
   },
   {
    "duration": 49,
    "start_time": "2023-09-01T08:06:23.163Z"
   },
   {
    "duration": 16,
    "start_time": "2023-09-01T08:06:23.230Z"
   },
   {
    "duration": 7,
    "start_time": "2023-09-01T08:06:23.248Z"
   },
   {
    "duration": 9,
    "start_time": "2023-09-01T08:06:23.257Z"
   },
   {
    "duration": 1210,
    "start_time": "2023-09-01T08:06:23.267Z"
   },
   {
    "duration": 26,
    "start_time": "2023-09-01T08:06:24.479Z"
   },
   {
    "duration": 16,
    "start_time": "2023-09-01T08:06:24.507Z"
   },
   {
    "duration": 19,
    "start_time": "2023-09-01T08:06:24.524Z"
   },
   {
    "duration": 188,
    "start_time": "2023-09-01T08:06:24.550Z"
   },
   {
    "duration": 8,
    "start_time": "2023-09-01T08:06:24.740Z"
   },
   {
    "duration": 8,
    "start_time": "2023-09-01T08:06:24.754Z"
   },
   {
    "duration": 206,
    "start_time": "2023-09-01T08:06:24.763Z"
   },
   {
    "duration": 4,
    "start_time": "2023-09-01T08:06:24.971Z"
   },
   {
    "duration": 17,
    "start_time": "2023-09-01T08:06:24.985Z"
   },
   {
    "duration": 221,
    "start_time": "2023-09-01T08:06:25.004Z"
   },
   {
    "duration": 7,
    "start_time": "2023-09-01T08:06:25.227Z"
   },
   {
    "duration": 51,
    "start_time": "2023-09-01T08:06:25.235Z"
   },
   {
    "duration": 231,
    "start_time": "2023-09-01T08:06:25.288Z"
   },
   {
    "duration": 6,
    "start_time": "2023-09-01T08:06:25.520Z"
   },
   {
    "duration": 22,
    "start_time": "2023-09-01T08:06:25.535Z"
   },
   {
    "duration": 18,
    "start_time": "2023-09-01T08:06:25.559Z"
   },
   {
    "duration": 20,
    "start_time": "2023-09-01T08:06:25.578Z"
   },
   {
    "duration": 27,
    "start_time": "2023-09-01T08:06:25.604Z"
   },
   {
    "duration": 17,
    "start_time": "2023-09-01T08:06:25.633Z"
   },
   {
    "duration": 12,
    "start_time": "2023-09-01T08:06:25.652Z"
   },
   {
    "duration": 30,
    "start_time": "2023-09-01T08:06:25.666Z"
   },
   {
    "duration": 11,
    "start_time": "2023-09-01T08:06:25.702Z"
   },
   {
    "duration": 21,
    "start_time": "2023-09-01T08:06:25.715Z"
   },
   {
    "duration": 4,
    "start_time": "2023-09-01T08:06:25.741Z"
   },
   {
    "duration": 4,
    "start_time": "2023-09-01T08:06:25.747Z"
   },
   {
    "duration": 6,
    "start_time": "2023-09-01T08:06:25.753Z"
   },
   {
    "duration": 7,
    "start_time": "2023-09-01T08:06:25.761Z"
   },
   {
    "duration": 9,
    "start_time": "2023-09-01T08:06:25.770Z"
   },
   {
    "duration": 26,
    "start_time": "2023-09-01T08:06:25.780Z"
   },
   {
    "duration": 3,
    "start_time": "2023-09-01T08:06:25.811Z"
   },
   {
    "duration": 10,
    "start_time": "2023-09-01T08:06:25.820Z"
   },
   {
    "duration": 17,
    "start_time": "2023-09-01T08:06:25.832Z"
   },
   {
    "duration": 3,
    "start_time": "2023-09-01T08:06:25.853Z"
   },
   {
    "duration": 29,
    "start_time": "2023-09-01T08:06:25.858Z"
   },
   {
    "duration": 210,
    "start_time": "2023-09-01T08:06:25.892Z"
   },
   {
    "duration": 0,
    "start_time": "2023-09-01T08:06:26.104Z"
   },
   {
    "duration": 0,
    "start_time": "2023-09-01T08:06:26.105Z"
   },
   {
    "duration": 0,
    "start_time": "2023-09-01T08:06:26.106Z"
   },
   {
    "duration": 0,
    "start_time": "2023-09-01T08:06:26.107Z"
   },
   {
    "duration": 0,
    "start_time": "2023-09-01T08:06:26.108Z"
   },
   {
    "duration": 0,
    "start_time": "2023-09-01T08:06:26.109Z"
   },
   {
    "duration": 0,
    "start_time": "2023-09-01T08:06:26.109Z"
   },
   {
    "duration": 0,
    "start_time": "2023-09-01T08:06:26.110Z"
   },
   {
    "duration": 0,
    "start_time": "2023-09-01T08:06:26.111Z"
   },
   {
    "duration": 0,
    "start_time": "2023-09-01T08:06:26.112Z"
   },
   {
    "duration": 0,
    "start_time": "2023-09-01T08:06:26.114Z"
   },
   {
    "duration": 0,
    "start_time": "2023-09-01T08:06:26.114Z"
   },
   {
    "duration": 0,
    "start_time": "2023-09-01T08:06:26.120Z"
   },
   {
    "duration": 0,
    "start_time": "2023-09-01T08:06:26.121Z"
   },
   {
    "duration": 0,
    "start_time": "2023-09-01T08:06:26.121Z"
   },
   {
    "duration": 0,
    "start_time": "2023-09-01T08:06:26.122Z"
   },
   {
    "duration": 0,
    "start_time": "2023-09-01T08:06:26.123Z"
   },
   {
    "duration": 0,
    "start_time": "2023-09-01T08:06:26.124Z"
   },
   {
    "duration": 0,
    "start_time": "2023-09-01T08:06:26.125Z"
   },
   {
    "duration": 0,
    "start_time": "2023-09-01T08:06:26.126Z"
   },
   {
    "duration": 0,
    "start_time": "2023-09-01T08:06:26.127Z"
   },
   {
    "duration": 0,
    "start_time": "2023-09-01T08:06:26.132Z"
   },
   {
    "duration": 0,
    "start_time": "2023-09-01T08:06:26.133Z"
   },
   {
    "duration": 0,
    "start_time": "2023-09-01T08:06:26.135Z"
   },
   {
    "duration": 18,
    "start_time": "2023-09-01T08:08:21.012Z"
   },
   {
    "duration": 4,
    "start_time": "2023-09-01T08:08:26.938Z"
   },
   {
    "duration": 9,
    "start_time": "2023-09-01T08:08:26.945Z"
   },
   {
    "duration": 69,
    "start_time": "2023-09-01T08:08:26.956Z"
   },
   {
    "duration": 14,
    "start_time": "2023-09-01T08:08:27.028Z"
   },
   {
    "duration": 15,
    "start_time": "2023-09-01T08:08:27.044Z"
   },
   {
    "duration": 11,
    "start_time": "2023-09-01T08:08:27.060Z"
   },
   {
    "duration": 41,
    "start_time": "2023-09-01T08:08:27.074Z"
   },
   {
    "duration": 1339,
    "start_time": "2023-09-01T08:08:27.117Z"
   },
   {
    "duration": 6,
    "start_time": "2023-09-01T08:08:28.459Z"
   },
   {
    "duration": 33,
    "start_time": "2023-09-01T08:08:28.467Z"
   },
   {
    "duration": 16,
    "start_time": "2023-09-01T08:08:28.507Z"
   },
   {
    "duration": 195,
    "start_time": "2023-09-01T08:08:28.526Z"
   },
   {
    "duration": 9,
    "start_time": "2023-09-01T08:08:28.723Z"
   },
   {
    "duration": 10,
    "start_time": "2023-09-01T08:08:28.735Z"
   },
   {
    "duration": 180,
    "start_time": "2023-09-01T08:08:28.747Z"
   },
   {
    "duration": 4,
    "start_time": "2023-09-01T08:08:28.929Z"
   },
   {
    "duration": 11,
    "start_time": "2023-09-01T08:08:28.935Z"
   },
   {
    "duration": 213,
    "start_time": "2023-09-01T08:08:28.948Z"
   },
   {
    "duration": 6,
    "start_time": "2023-09-01T08:08:29.163Z"
   },
   {
    "duration": 23,
    "start_time": "2023-09-01T08:08:29.171Z"
   },
   {
    "duration": 174,
    "start_time": "2023-09-01T08:08:29.196Z"
   },
   {
    "duration": 20,
    "start_time": "2023-09-01T08:08:29.373Z"
   },
   {
    "duration": 10,
    "start_time": "2023-09-01T08:08:29.395Z"
   },
   {
    "duration": 7,
    "start_time": "2023-09-01T08:08:29.407Z"
   },
   {
    "duration": 9,
    "start_time": "2023-09-01T08:08:29.422Z"
   },
   {
    "duration": 4,
    "start_time": "2023-09-01T08:08:29.433Z"
   },
   {
    "duration": 9,
    "start_time": "2023-09-01T08:08:29.439Z"
   },
   {
    "duration": 14,
    "start_time": "2023-09-01T08:08:29.450Z"
   },
   {
    "duration": 44,
    "start_time": "2023-09-01T08:08:29.468Z"
   },
   {
    "duration": 14,
    "start_time": "2023-09-01T08:08:29.513Z"
   },
   {
    "duration": 4,
    "start_time": "2023-09-01T08:08:29.532Z"
   },
   {
    "duration": 5,
    "start_time": "2023-09-01T08:08:29.537Z"
   },
   {
    "duration": 4,
    "start_time": "2023-09-01T08:08:29.544Z"
   },
   {
    "duration": 5,
    "start_time": "2023-09-01T08:08:29.550Z"
   },
   {
    "duration": 6,
    "start_time": "2023-09-01T08:08:29.557Z"
   },
   {
    "duration": 5,
    "start_time": "2023-09-01T08:08:29.565Z"
   },
   {
    "duration": 12,
    "start_time": "2023-09-01T08:08:29.572Z"
   },
   {
    "duration": 18,
    "start_time": "2023-09-01T08:08:29.592Z"
   },
   {
    "duration": 12,
    "start_time": "2023-09-01T08:08:29.612Z"
   },
   {
    "duration": 9,
    "start_time": "2023-09-01T08:08:29.628Z"
   },
   {
    "duration": 4,
    "start_time": "2023-09-01T08:08:29.639Z"
   },
   {
    "duration": 19,
    "start_time": "2023-09-01T08:08:29.645Z"
   },
   {
    "duration": 13,
    "start_time": "2023-09-01T08:08:29.666Z"
   },
   {
    "duration": 6,
    "start_time": "2023-09-01T08:09:49.066Z"
   },
   {
    "duration": 27,
    "start_time": "2023-09-01T08:09:49.074Z"
   },
   {
    "duration": 36,
    "start_time": "2023-09-01T08:09:49.105Z"
   },
   {
    "duration": 11,
    "start_time": "2023-09-01T08:09:49.143Z"
   },
   {
    "duration": 40,
    "start_time": "2023-09-01T08:09:49.156Z"
   },
   {
    "duration": 24,
    "start_time": "2023-09-01T08:09:49.200Z"
   },
   {
    "duration": 12,
    "start_time": "2023-09-01T08:09:49.226Z"
   },
   {
    "duration": 1094,
    "start_time": "2023-09-01T08:09:49.240Z"
   },
   {
    "duration": 5,
    "start_time": "2023-09-01T08:09:50.338Z"
   },
   {
    "duration": 53,
    "start_time": "2023-09-01T08:09:50.345Z"
   },
   {
    "duration": 35,
    "start_time": "2023-09-01T08:09:50.400Z"
   },
   {
    "duration": 208,
    "start_time": "2023-09-01T08:09:50.437Z"
   },
   {
    "duration": 4,
    "start_time": "2023-09-01T08:09:50.647Z"
   },
   {
    "duration": 54,
    "start_time": "2023-09-01T08:09:50.652Z"
   },
   {
    "duration": 402,
    "start_time": "2023-09-01T08:09:50.716Z"
   },
   {
    "duration": 6,
    "start_time": "2023-09-01T08:09:51.128Z"
   },
   {
    "duration": 91,
    "start_time": "2023-09-01T08:09:51.136Z"
   },
   {
    "duration": 216,
    "start_time": "2023-09-01T08:09:51.230Z"
   },
   {
    "duration": 5,
    "start_time": "2023-09-01T08:09:51.447Z"
   },
   {
    "duration": 57,
    "start_time": "2023-09-01T08:09:51.454Z"
   },
   {
    "duration": 191,
    "start_time": "2023-09-01T08:09:51.513Z"
   },
   {
    "duration": 10,
    "start_time": "2023-09-01T08:09:51.710Z"
   },
   {
    "duration": 17,
    "start_time": "2023-09-01T08:09:51.724Z"
   },
   {
    "duration": 25,
    "start_time": "2023-09-01T08:09:51.745Z"
   },
   {
    "duration": 50,
    "start_time": "2023-09-01T08:09:51.772Z"
   },
   {
    "duration": 6,
    "start_time": "2023-09-01T08:09:51.826Z"
   },
   {
    "duration": 23,
    "start_time": "2023-09-01T08:09:51.834Z"
   },
   {
    "duration": 30,
    "start_time": "2023-09-01T08:09:51.859Z"
   },
   {
    "duration": 41,
    "start_time": "2023-09-01T08:09:51.892Z"
   },
   {
    "duration": 26,
    "start_time": "2023-09-01T08:09:51.935Z"
   },
   {
    "duration": 9,
    "start_time": "2023-09-01T08:09:51.963Z"
   },
   {
    "duration": 15,
    "start_time": "2023-09-01T08:09:51.974Z"
   },
   {
    "duration": 25,
    "start_time": "2023-09-01T08:09:51.991Z"
   },
   {
    "duration": 25,
    "start_time": "2023-09-01T08:09:52.020Z"
   },
   {
    "duration": 8,
    "start_time": "2023-09-01T08:09:52.047Z"
   },
   {
    "duration": 46,
    "start_time": "2023-09-01T08:09:52.057Z"
   },
   {
    "duration": 24,
    "start_time": "2023-09-01T08:09:52.106Z"
   },
   {
    "duration": 30,
    "start_time": "2023-09-01T08:09:52.131Z"
   },
   {
    "duration": 25,
    "start_time": "2023-09-01T08:09:52.163Z"
   },
   {
    "duration": 12,
    "start_time": "2023-09-01T08:09:52.190Z"
   },
   {
    "duration": 25,
    "start_time": "2023-09-01T08:09:52.204Z"
   },
   {
    "duration": 31,
    "start_time": "2023-09-01T08:09:52.231Z"
   },
   {
    "duration": 30,
    "start_time": "2023-09-01T08:09:52.264Z"
   },
   {
    "duration": 3,
    "start_time": "2023-09-01T08:09:54.835Z"
   },
   {
    "duration": 2326,
    "start_time": "2023-09-01T08:10:41.216Z"
   },
   {
    "duration": 4,
    "start_time": "2023-09-01T08:10:43.544Z"
   },
   {
    "duration": 76,
    "start_time": "2023-09-01T08:10:43.550Z"
   },
   {
    "duration": 15,
    "start_time": "2023-09-01T08:10:43.628Z"
   },
   {
    "duration": 12,
    "start_time": "2023-09-01T08:10:43.646Z"
   },
   {
    "duration": 54,
    "start_time": "2023-09-01T08:10:43.660Z"
   },
   {
    "duration": 32,
    "start_time": "2023-09-01T08:10:43.716Z"
   },
   {
    "duration": 1153,
    "start_time": "2023-09-01T08:10:43.750Z"
   },
   {
    "duration": 6,
    "start_time": "2023-09-01T08:10:44.905Z"
   },
   {
    "duration": 17,
    "start_time": "2023-09-01T08:10:44.913Z"
   },
   {
    "duration": 10,
    "start_time": "2023-09-01T08:10:44.933Z"
   },
   {
    "duration": 208,
    "start_time": "2023-09-01T08:10:44.945Z"
   },
   {
    "duration": 5,
    "start_time": "2023-09-01T08:10:45.156Z"
   },
   {
    "duration": 24,
    "start_time": "2023-09-01T08:10:45.166Z"
   },
   {
    "duration": 196,
    "start_time": "2023-09-01T08:10:45.192Z"
   },
   {
    "duration": 10,
    "start_time": "2023-09-01T08:10:45.400Z"
   },
   {
    "duration": 20,
    "start_time": "2023-09-01T08:10:45.412Z"
   },
   {
    "duration": 227,
    "start_time": "2023-09-01T08:10:45.434Z"
   },
   {
    "duration": 6,
    "start_time": "2023-09-01T08:10:45.662Z"
   },
   {
    "duration": 35,
    "start_time": "2023-09-01T08:10:45.670Z"
   },
   {
    "duration": 170,
    "start_time": "2023-09-01T08:10:45.708Z"
   },
   {
    "duration": 15,
    "start_time": "2023-09-01T08:10:45.880Z"
   },
   {
    "duration": 18,
    "start_time": "2023-09-01T08:10:45.899Z"
   },
   {
    "duration": 9,
    "start_time": "2023-09-01T08:10:45.921Z"
   },
   {
    "duration": 6,
    "start_time": "2023-09-01T08:10:45.932Z"
   },
   {
    "duration": 9,
    "start_time": "2023-09-01T08:10:45.939Z"
   },
   {
    "duration": 13,
    "start_time": "2023-09-01T08:10:45.950Z"
   },
   {
    "duration": 15,
    "start_time": "2023-09-01T08:10:45.964Z"
   },
   {
    "duration": 41,
    "start_time": "2023-09-01T08:10:45.980Z"
   },
   {
    "duration": 5,
    "start_time": "2023-09-01T08:10:46.023Z"
   },
   {
    "duration": 4,
    "start_time": "2023-09-01T08:10:46.030Z"
   },
   {
    "duration": 4,
    "start_time": "2023-09-01T08:10:46.036Z"
   },
   {
    "duration": 6,
    "start_time": "2023-09-01T08:10:46.042Z"
   },
   {
    "duration": 7,
    "start_time": "2023-09-01T08:10:46.050Z"
   },
   {
    "duration": 12,
    "start_time": "2023-09-01T08:10:46.058Z"
   },
   {
    "duration": 34,
    "start_time": "2023-09-01T08:10:46.071Z"
   },
   {
    "duration": 3,
    "start_time": "2023-09-01T08:10:46.106Z"
   },
   {
    "duration": 18,
    "start_time": "2023-09-01T08:10:46.114Z"
   },
   {
    "duration": 8,
    "start_time": "2023-09-01T08:10:46.134Z"
   },
   {
    "duration": 5,
    "start_time": "2023-09-01T08:10:46.144Z"
   },
   {
    "duration": 9,
    "start_time": "2023-09-01T08:10:46.155Z"
   },
   {
    "duration": 21,
    "start_time": "2023-09-01T08:10:46.166Z"
   },
   {
    "duration": 6,
    "start_time": "2023-09-01T08:10:46.188Z"
   },
   {
    "duration": 10,
    "start_time": "2023-09-01T08:10:46.195Z"
   },
   {
    "duration": 5,
    "start_time": "2023-09-01T08:10:46.207Z"
   },
   {
    "duration": 17,
    "start_time": "2023-09-01T08:10:46.214Z"
   },
   {
    "duration": 6,
    "start_time": "2023-09-01T08:10:46.233Z"
   },
   {
    "duration": 10,
    "start_time": "2023-09-01T08:10:46.241Z"
   },
   {
    "duration": 6,
    "start_time": "2023-09-01T08:10:46.253Z"
   },
   {
    "duration": 197,
    "start_time": "2023-09-01T08:10:46.261Z"
   },
   {
    "duration": 0,
    "start_time": "2023-09-01T08:10:46.460Z"
   },
   {
    "duration": 0,
    "start_time": "2023-09-01T08:10:46.461Z"
   },
   {
    "duration": 0,
    "start_time": "2023-09-01T08:10:46.462Z"
   },
   {
    "duration": 0,
    "start_time": "2023-09-01T08:10:46.463Z"
   },
   {
    "duration": 0,
    "start_time": "2023-09-01T08:10:46.464Z"
   },
   {
    "duration": 0,
    "start_time": "2023-09-01T08:10:46.465Z"
   },
   {
    "duration": 0,
    "start_time": "2023-09-01T08:10:46.467Z"
   },
   {
    "duration": 0,
    "start_time": "2023-09-01T08:10:46.483Z"
   },
   {
    "duration": 0,
    "start_time": "2023-09-01T08:10:46.485Z"
   },
   {
    "duration": 0,
    "start_time": "2023-09-01T08:10:46.486Z"
   },
   {
    "duration": 0,
    "start_time": "2023-09-01T08:10:46.487Z"
   },
   {
    "duration": 0,
    "start_time": "2023-09-01T08:10:46.492Z"
   },
   {
    "duration": 0,
    "start_time": "2023-09-01T08:10:46.495Z"
   },
   {
    "duration": 0,
    "start_time": "2023-09-01T08:10:46.496Z"
   },
   {
    "duration": 0,
    "start_time": "2023-09-01T08:10:46.497Z"
   },
   {
    "duration": 0,
    "start_time": "2023-09-01T08:10:46.497Z"
   },
   {
    "duration": 0,
    "start_time": "2023-09-01T08:10:46.498Z"
   },
   {
    "duration": 11,
    "start_time": "2023-09-01T08:11:21.908Z"
   },
   {
    "duration": 14,
    "start_time": "2023-09-01T08:11:21.925Z"
   },
   {
    "duration": 37,
    "start_time": "2023-09-01T08:11:21.941Z"
   },
   {
    "duration": 21,
    "start_time": "2023-09-01T08:11:21.980Z"
   },
   {
    "duration": 14,
    "start_time": "2023-09-01T08:11:22.004Z"
   },
   {
    "duration": 8,
    "start_time": "2023-09-01T08:11:22.020Z"
   },
   {
    "duration": 8,
    "start_time": "2023-09-01T08:11:22.030Z"
   },
   {
    "duration": 1289,
    "start_time": "2023-09-01T08:11:22.040Z"
   },
   {
    "duration": 6,
    "start_time": "2023-09-01T08:11:23.332Z"
   },
   {
    "duration": 19,
    "start_time": "2023-09-01T08:11:23.340Z"
   },
   {
    "duration": 11,
    "start_time": "2023-09-01T08:11:23.361Z"
   },
   {
    "duration": 181,
    "start_time": "2023-09-01T08:11:23.374Z"
   },
   {
    "duration": 4,
    "start_time": "2023-09-01T08:11:23.557Z"
   },
   {
    "duration": 38,
    "start_time": "2023-09-01T08:11:23.565Z"
   },
   {
    "duration": 177,
    "start_time": "2023-09-01T08:11:23.606Z"
   },
   {
    "duration": 13,
    "start_time": "2023-09-01T08:11:23.787Z"
   },
   {
    "duration": 23,
    "start_time": "2023-09-01T08:11:23.802Z"
   },
   {
    "duration": 204,
    "start_time": "2023-09-01T08:11:23.827Z"
   },
   {
    "duration": 8,
    "start_time": "2023-09-01T08:11:24.035Z"
   },
   {
    "duration": 18,
    "start_time": "2023-09-01T08:11:24.045Z"
   },
   {
    "duration": 202,
    "start_time": "2023-09-01T08:11:24.065Z"
   },
   {
    "duration": 5,
    "start_time": "2023-09-01T08:11:24.269Z"
   },
   {
    "duration": 26,
    "start_time": "2023-09-01T08:11:24.276Z"
   },
   {
    "duration": 13,
    "start_time": "2023-09-01T08:11:24.309Z"
   },
   {
    "duration": 8,
    "start_time": "2023-09-01T08:11:24.323Z"
   },
   {
    "duration": 6,
    "start_time": "2023-09-01T08:11:24.333Z"
   },
   {
    "duration": 13,
    "start_time": "2023-09-01T08:11:24.341Z"
   },
   {
    "duration": 8,
    "start_time": "2023-09-01T08:11:24.356Z"
   },
   {
    "duration": 17,
    "start_time": "2023-09-01T08:11:24.366Z"
   },
   {
    "duration": 20,
    "start_time": "2023-09-01T08:11:24.388Z"
   },
   {
    "duration": 20,
    "start_time": "2023-09-01T08:11:24.409Z"
   },
   {
    "duration": 7,
    "start_time": "2023-09-01T08:11:24.431Z"
   },
   {
    "duration": 5,
    "start_time": "2023-09-01T08:11:24.440Z"
   },
   {
    "duration": 7,
    "start_time": "2023-09-01T08:11:24.446Z"
   },
   {
    "duration": 7,
    "start_time": "2023-09-01T08:11:24.454Z"
   },
   {
    "duration": 7,
    "start_time": "2023-09-01T08:11:24.463Z"
   },
   {
    "duration": 5,
    "start_time": "2023-09-01T08:11:24.471Z"
   },
   {
    "duration": 11,
    "start_time": "2023-09-01T08:11:24.477Z"
   },
   {
    "duration": 17,
    "start_time": "2023-09-01T08:11:24.489Z"
   },
   {
    "duration": 10,
    "start_time": "2023-09-01T08:11:24.514Z"
   },
   {
    "duration": 6,
    "start_time": "2023-09-01T08:11:24.530Z"
   },
   {
    "duration": 23,
    "start_time": "2023-09-01T08:11:24.538Z"
   },
   {
    "duration": 3,
    "start_time": "2023-09-01T08:11:24.564Z"
   },
   {
    "duration": 10,
    "start_time": "2023-09-01T08:11:24.569Z"
   },
   {
    "duration": 14,
    "start_time": "2023-09-01T08:11:24.584Z"
   },
   {
    "duration": 18,
    "start_time": "2023-09-01T08:11:24.600Z"
   },
   {
    "duration": 9,
    "start_time": "2023-09-01T08:11:24.623Z"
   },
   {
    "duration": 6,
    "start_time": "2023-09-01T08:11:24.634Z"
   },
   {
    "duration": 5,
    "start_time": "2023-09-01T08:11:24.641Z"
   },
   {
    "duration": 8,
    "start_time": "2023-09-01T08:11:24.647Z"
   },
   {
    "duration": 15277,
    "start_time": "2023-09-01T08:11:24.657Z"
   },
   {
    "duration": 116049,
    "start_time": "2023-09-01T08:11:39.936Z"
   },
   {
    "duration": 582070,
    "start_time": "2023-09-01T08:13:35.987Z"
   },
   {
    "duration": 8,
    "start_time": "2023-09-01T08:23:18.060Z"
   },
   {
    "duration": 80,
    "start_time": "2023-09-01T08:23:18.070Z"
   },
   {
    "duration": 514,
    "start_time": "2023-09-01T08:23:18.152Z"
   },
   {
    "duration": 277517,
    "start_time": "2023-09-01T08:23:18.669Z"
   },
   {
    "duration": 2518,
    "start_time": "2023-09-01T08:29:04.053Z"
   },
   {
    "duration": 4,
    "start_time": "2023-09-01T08:29:06.573Z"
   },
   {
    "duration": 78,
    "start_time": "2023-09-01T08:29:06.579Z"
   },
   {
    "duration": 18,
    "start_time": "2023-09-01T08:29:06.660Z"
   },
   {
    "duration": 36,
    "start_time": "2023-09-01T08:29:06.680Z"
   },
   {
    "duration": 10,
    "start_time": "2023-09-01T08:29:06.719Z"
   },
   {
    "duration": 33,
    "start_time": "2023-09-01T08:29:06.731Z"
   },
   {
    "duration": 1377,
    "start_time": "2023-09-01T08:29:06.766Z"
   },
   {
    "duration": 7,
    "start_time": "2023-09-01T08:29:08.144Z"
   },
   {
    "duration": 9,
    "start_time": "2023-09-01T08:29:08.153Z"
   },
   {
    "duration": 11,
    "start_time": "2023-09-01T08:29:08.163Z"
   },
   {
    "duration": 230,
    "start_time": "2023-09-01T08:29:08.176Z"
   },
   {
    "duration": 18,
    "start_time": "2023-09-01T08:29:08.413Z"
   },
   {
    "duration": 8,
    "start_time": "2023-09-01T08:29:08.436Z"
   },
   {
    "duration": 209,
    "start_time": "2023-09-01T08:29:08.446Z"
   },
   {
    "duration": 5,
    "start_time": "2023-09-01T08:29:08.657Z"
   },
   {
    "duration": 12,
    "start_time": "2023-09-01T08:29:08.663Z"
   },
   {
    "duration": 236,
    "start_time": "2023-09-01T08:29:08.676Z"
   },
   {
    "duration": 12,
    "start_time": "2023-09-01T08:29:08.914Z"
   },
   {
    "duration": 12,
    "start_time": "2023-09-01T08:29:08.931Z"
   },
   {
    "duration": 198,
    "start_time": "2023-09-01T08:29:08.945Z"
   },
   {
    "duration": 4,
    "start_time": "2023-09-01T08:29:09.145Z"
   },
   {
    "duration": 11,
    "start_time": "2023-09-01T08:29:09.151Z"
   },
   {
    "duration": 5,
    "start_time": "2023-09-01T08:29:09.164Z"
   },
   {
    "duration": 56,
    "start_time": "2023-09-01T08:29:09.171Z"
   },
   {
    "duration": 7,
    "start_time": "2023-09-01T08:29:09.232Z"
   },
   {
    "duration": 18,
    "start_time": "2023-09-01T08:29:09.243Z"
   },
   {
    "duration": 28,
    "start_time": "2023-09-01T08:29:09.265Z"
   },
   {
    "duration": 26,
    "start_time": "2023-09-01T08:29:09.304Z"
   },
   {
    "duration": 7,
    "start_time": "2023-09-01T08:29:09.333Z"
   },
   {
    "duration": 51,
    "start_time": "2023-09-01T08:29:09.342Z"
   },
   {
    "duration": 19,
    "start_time": "2023-09-01T08:29:09.396Z"
   },
   {
    "duration": 19,
    "start_time": "2023-09-01T08:29:09.419Z"
   },
   {
    "duration": 27,
    "start_time": "2023-09-01T08:29:09.440Z"
   },
   {
    "duration": 30,
    "start_time": "2023-09-01T08:29:09.468Z"
   },
   {
    "duration": 16,
    "start_time": "2023-09-01T08:29:09.499Z"
   },
   {
    "duration": 16,
    "start_time": "2023-09-01T08:29:09.518Z"
   },
   {
    "duration": 11,
    "start_time": "2023-09-01T08:29:09.536Z"
   },
   {
    "duration": 16,
    "start_time": "2023-09-01T08:29:09.549Z"
   },
   {
    "duration": 31,
    "start_time": "2023-09-01T08:29:09.566Z"
   },
   {
    "duration": 17,
    "start_time": "2023-09-01T08:29:09.599Z"
   },
   {
    "duration": 25,
    "start_time": "2023-09-01T08:29:09.618Z"
   },
   {
    "duration": 3,
    "start_time": "2023-09-01T08:29:09.645Z"
   },
   {
    "duration": 51,
    "start_time": "2023-09-01T08:29:09.650Z"
   },
   {
    "duration": 23,
    "start_time": "2023-09-01T08:29:09.702Z"
   },
   {
    "duration": 13,
    "start_time": "2023-09-01T08:29:09.727Z"
   },
   {
    "duration": 14,
    "start_time": "2023-09-01T08:29:09.742Z"
   },
   {
    "duration": 9,
    "start_time": "2023-09-01T08:29:09.758Z"
   },
   {
    "duration": 24,
    "start_time": "2023-09-01T08:29:09.769Z"
   },
   {
    "duration": 18,
    "start_time": "2023-09-01T08:29:09.795Z"
   },
   {
    "duration": 2248,
    "start_time": "2023-09-01T08:29:09.816Z"
   },
   {
    "duration": 3857,
    "start_time": "2023-09-01T08:29:12.066Z"
   },
   {
    "duration": 28067,
    "start_time": "2023-09-01T08:29:15.925Z"
   },
   {
    "duration": 165104,
    "start_time": "2023-09-01T08:30:11.412Z"
   },
   {
    "duration": 116272,
    "start_time": "2023-09-01T08:33:20.734Z"
   },
   {
    "duration": 4,
    "start_time": "2023-09-01T08:35:47.644Z"
   },
   {
    "duration": 37,
    "start_time": "2023-09-01T08:35:47.650Z"
   },
   {
    "duration": 50,
    "start_time": "2023-09-01T08:35:47.689Z"
   },
   {
    "duration": 11,
    "start_time": "2023-09-01T08:35:47.743Z"
   },
   {
    "duration": 18,
    "start_time": "2023-09-01T08:35:47.756Z"
   },
   {
    "duration": 31,
    "start_time": "2023-09-01T08:35:47.776Z"
   },
   {
    "duration": 30,
    "start_time": "2023-09-01T08:35:47.809Z"
   },
   {
    "duration": 1221,
    "start_time": "2023-09-01T08:35:47.841Z"
   },
   {
    "duration": 5,
    "start_time": "2023-09-01T08:35:49.065Z"
   },
   {
    "duration": 8,
    "start_time": "2023-09-01T08:35:49.084Z"
   },
   {
    "duration": 19,
    "start_time": "2023-09-01T08:35:49.094Z"
   },
   {
    "duration": 222,
    "start_time": "2023-09-01T08:35:49.118Z"
   },
   {
    "duration": 6,
    "start_time": "2023-09-01T08:35:49.342Z"
   },
   {
    "duration": 10,
    "start_time": "2023-09-01T08:35:49.350Z"
   },
   {
    "duration": 197,
    "start_time": "2023-09-01T08:35:49.363Z"
   },
   {
    "duration": 5,
    "start_time": "2023-09-01T08:35:49.561Z"
   },
   {
    "duration": 41,
    "start_time": "2023-09-01T08:35:49.568Z"
   },
   {
    "duration": 215,
    "start_time": "2023-09-01T08:35:49.614Z"
   },
   {
    "duration": 8,
    "start_time": "2023-09-01T08:35:49.830Z"
   },
   {
    "duration": 24,
    "start_time": "2023-09-01T08:35:49.840Z"
   },
   {
    "duration": 231,
    "start_time": "2023-09-01T08:35:49.866Z"
   },
   {
    "duration": 9,
    "start_time": "2023-09-01T08:35:50.099Z"
   },
   {
    "duration": 38,
    "start_time": "2023-09-01T08:35:50.110Z"
   },
   {
    "duration": 50,
    "start_time": "2023-09-01T08:35:50.152Z"
   },
   {
    "duration": 30,
    "start_time": "2023-09-01T08:35:50.204Z"
   },
   {
    "duration": 7,
    "start_time": "2023-09-01T08:35:50.236Z"
   },
   {
    "duration": 78,
    "start_time": "2023-09-01T08:35:50.245Z"
   },
   {
    "duration": 6,
    "start_time": "2023-09-01T08:35:50.331Z"
   },
   {
    "duration": 13,
    "start_time": "2023-09-01T08:35:50.339Z"
   },
   {
    "duration": 5,
    "start_time": "2023-09-01T08:35:50.353Z"
   },
   {
    "duration": 18,
    "start_time": "2023-09-01T08:35:50.360Z"
   },
   {
    "duration": 17,
    "start_time": "2023-09-01T08:35:50.380Z"
   },
   {
    "duration": 12,
    "start_time": "2023-09-01T08:35:50.402Z"
   },
   {
    "duration": 6,
    "start_time": "2023-09-01T08:35:50.416Z"
   },
   {
    "duration": 9,
    "start_time": "2023-09-01T08:35:50.426Z"
   },
   {
    "duration": 6,
    "start_time": "2023-09-01T08:35:50.437Z"
   },
   {
    "duration": 4,
    "start_time": "2023-09-01T08:35:50.445Z"
   },
   {
    "duration": 6,
    "start_time": "2023-09-01T08:35:50.450Z"
   },
   {
    "duration": 18,
    "start_time": "2023-09-01T08:35:50.458Z"
   },
   {
    "duration": 51,
    "start_time": "2023-09-01T08:35:50.478Z"
   },
   {
    "duration": 19,
    "start_time": "2023-09-01T08:35:50.532Z"
   },
   {
    "duration": 61,
    "start_time": "2023-09-01T08:35:50.553Z"
   },
   {
    "duration": 23,
    "start_time": "2023-09-01T08:35:50.616Z"
   },
   {
    "duration": 28,
    "start_time": "2023-09-01T08:35:50.641Z"
   },
   {
    "duration": 57,
    "start_time": "2023-09-01T08:35:50.671Z"
   },
   {
    "duration": 32,
    "start_time": "2023-09-01T08:35:50.733Z"
   },
   {
    "duration": 66,
    "start_time": "2023-09-01T08:35:50.766Z"
   },
   {
    "duration": 59,
    "start_time": "2023-09-01T08:35:50.834Z"
   },
   {
    "duration": 66,
    "start_time": "2023-09-01T08:35:50.895Z"
   },
   {
    "duration": 58,
    "start_time": "2023-09-01T08:35:50.963Z"
   },
   {
    "duration": 4454,
    "start_time": "2023-09-01T08:35:51.023Z"
   },
   {
    "duration": 7652,
    "start_time": "2023-09-01T08:35:55.485Z"
   },
   {
    "duration": 54465,
    "start_time": "2023-09-01T08:36:03.139Z"
   },
   {
    "duration": 340953,
    "start_time": "2023-09-01T08:37:32.272Z"
   },
   {
    "duration": 4,
    "start_time": "2023-09-01T08:44:12.232Z"
   },
   {
    "duration": 5,
    "start_time": "2023-09-01T08:44:12.238Z"
   },
   {
    "duration": 34,
    "start_time": "2023-09-01T08:44:12.244Z"
   },
   {
    "duration": 18,
    "start_time": "2023-09-01T08:44:12.280Z"
   },
   {
    "duration": 26,
    "start_time": "2023-09-01T08:44:12.300Z"
   },
   {
    "duration": 8,
    "start_time": "2023-09-01T08:44:12.328Z"
   },
   {
    "duration": 8,
    "start_time": "2023-09-01T08:44:12.338Z"
   },
   {
    "duration": 1085,
    "start_time": "2023-09-01T08:44:12.348Z"
   },
   {
    "duration": 7,
    "start_time": "2023-09-01T08:44:13.437Z"
   },
   {
    "duration": 6,
    "start_time": "2023-09-01T08:44:13.446Z"
   },
   {
    "duration": 34,
    "start_time": "2023-09-01T08:44:13.454Z"
   },
   {
    "duration": 177,
    "start_time": "2023-09-01T08:44:13.489Z"
   },
   {
    "duration": 13,
    "start_time": "2023-09-01T08:44:13.669Z"
   },
   {
    "duration": 19,
    "start_time": "2023-09-01T08:44:13.683Z"
   },
   {
    "duration": 311,
    "start_time": "2023-09-01T08:44:13.708Z"
   },
   {
    "duration": 5,
    "start_time": "2023-09-01T08:44:14.023Z"
   },
   {
    "duration": 10,
    "start_time": "2023-09-01T08:44:14.029Z"
   },
   {
    "duration": 206,
    "start_time": "2023-09-01T08:44:14.041Z"
   },
   {
    "duration": 5,
    "start_time": "2023-09-01T08:44:14.248Z"
   },
   {
    "duration": 9,
    "start_time": "2023-09-01T08:44:14.254Z"
   },
   {
    "duration": 187,
    "start_time": "2023-09-01T08:44:14.265Z"
   },
   {
    "duration": 4,
    "start_time": "2023-09-01T08:44:14.454Z"
   },
   {
    "duration": 7,
    "start_time": "2023-09-01T08:44:14.460Z"
   },
   {
    "duration": 16,
    "start_time": "2023-09-01T08:44:14.487Z"
   },
   {
    "duration": 6,
    "start_time": "2023-09-01T08:44:14.505Z"
   },
   {
    "duration": 6,
    "start_time": "2023-09-01T08:44:14.520Z"
   },
   {
    "duration": 8,
    "start_time": "2023-09-01T08:44:14.528Z"
   },
   {
    "duration": 11,
    "start_time": "2023-09-01T08:44:14.538Z"
   },
   {
    "duration": 10,
    "start_time": "2023-09-01T08:44:14.551Z"
   },
   {
    "duration": 5,
    "start_time": "2023-09-01T08:44:14.563Z"
   },
   {
    "duration": 19,
    "start_time": "2023-09-01T08:44:14.570Z"
   },
   {
    "duration": 4,
    "start_time": "2023-09-01T08:44:14.596Z"
   },
   {
    "duration": 11,
    "start_time": "2023-09-01T08:44:14.606Z"
   },
   {
    "duration": 8,
    "start_time": "2023-09-01T08:44:14.620Z"
   },
   {
    "duration": 6,
    "start_time": "2023-09-01T08:44:14.630Z"
   },
   {
    "duration": 7,
    "start_time": "2023-09-01T08:44:14.638Z"
   },
   {
    "duration": 3,
    "start_time": "2023-09-01T08:44:14.646Z"
   },
   {
    "duration": 6,
    "start_time": "2023-09-01T08:44:14.651Z"
   },
   {
    "duration": 5,
    "start_time": "2023-09-01T08:44:14.659Z"
   },
   {
    "duration": 7,
    "start_time": "2023-09-01T08:44:14.666Z"
   },
   {
    "duration": 4,
    "start_time": "2023-09-01T08:44:14.674Z"
   },
   {
    "duration": 38,
    "start_time": "2023-09-01T08:44:14.680Z"
   },
   {
    "duration": 3,
    "start_time": "2023-09-01T08:44:14.720Z"
   },
   {
    "duration": 4,
    "start_time": "2023-09-01T08:44:14.727Z"
   },
   {
    "duration": 20,
    "start_time": "2023-09-01T08:44:14.732Z"
   },
   {
    "duration": 5,
    "start_time": "2023-09-01T08:44:14.754Z"
   },
   {
    "duration": 6,
    "start_time": "2023-09-01T08:44:14.761Z"
   },
   {
    "duration": 5,
    "start_time": "2023-09-01T08:44:14.768Z"
   },
   {
    "duration": 5,
    "start_time": "2023-09-01T08:44:14.774Z"
   },
   {
    "duration": 17,
    "start_time": "2023-09-01T08:44:14.780Z"
   },
   {
    "duration": 2258,
    "start_time": "2023-09-01T08:44:14.798Z"
   },
   {
    "duration": 3794,
    "start_time": "2023-09-01T08:44:17.058Z"
   },
   {
    "duration": 48938,
    "start_time": "2023-09-01T08:44:20.853Z"
   },
   {
    "duration": 143172,
    "start_time": "2023-09-01T08:45:52.745Z"
   },
   {
    "duration": 5,
    "start_time": "2023-09-01T08:49:50.430Z"
   },
   {
    "duration": 18,
    "start_time": "2023-09-01T08:49:50.436Z"
   },
   {
    "duration": 53,
    "start_time": "2023-09-01T08:49:50.456Z"
   },
   {
    "duration": 17,
    "start_time": "2023-09-01T08:49:50.515Z"
   },
   {
    "duration": 19,
    "start_time": "2023-09-01T08:49:50.535Z"
   },
   {
    "duration": 27,
    "start_time": "2023-09-01T08:49:50.556Z"
   },
   {
    "duration": 33,
    "start_time": "2023-09-01T08:49:50.586Z"
   },
   {
    "duration": 1176,
    "start_time": "2023-09-01T08:49:50.621Z"
   },
   {
    "duration": 7,
    "start_time": "2023-09-01T08:49:51.800Z"
   },
   {
    "duration": 29,
    "start_time": "2023-09-01T08:49:51.809Z"
   },
   {
    "duration": 26,
    "start_time": "2023-09-01T08:49:51.840Z"
   },
   {
    "duration": 206,
    "start_time": "2023-09-01T08:49:51.868Z"
   },
   {
    "duration": 11,
    "start_time": "2023-09-01T08:49:52.076Z"
   },
   {
    "duration": 38,
    "start_time": "2023-09-01T08:49:52.097Z"
   },
   {
    "duration": 197,
    "start_time": "2023-09-01T08:49:52.137Z"
   },
   {
    "duration": 6,
    "start_time": "2023-09-01T08:49:52.336Z"
   },
   {
    "duration": 80,
    "start_time": "2023-09-01T08:49:52.343Z"
   },
   {
    "duration": 209,
    "start_time": "2023-09-01T08:49:52.432Z"
   },
   {
    "duration": 5,
    "start_time": "2023-09-01T08:49:52.643Z"
   },
   {
    "duration": 23,
    "start_time": "2023-09-01T08:49:52.649Z"
   },
   {
    "duration": 204,
    "start_time": "2023-09-01T08:49:52.674Z"
   },
   {
    "duration": 13,
    "start_time": "2023-09-01T08:49:52.879Z"
   },
   {
    "duration": 51,
    "start_time": "2023-09-01T08:49:52.894Z"
   },
   {
    "duration": 56,
    "start_time": "2023-09-01T08:49:52.948Z"
   },
   {
    "duration": 23,
    "start_time": "2023-09-01T08:49:53.015Z"
   },
   {
    "duration": 41,
    "start_time": "2023-09-01T08:49:53.039Z"
   },
   {
    "duration": 45,
    "start_time": "2023-09-01T08:49:53.088Z"
   },
   {
    "duration": 20,
    "start_time": "2023-09-01T08:49:53.136Z"
   },
   {
    "duration": 36,
    "start_time": "2023-09-01T08:49:53.158Z"
   },
   {
    "duration": 23,
    "start_time": "2023-09-01T08:49:53.196Z"
   },
   {
    "duration": 49,
    "start_time": "2023-09-01T08:49:53.221Z"
   },
   {
    "duration": 57,
    "start_time": "2023-09-01T08:49:53.272Z"
   },
   {
    "duration": 29,
    "start_time": "2023-09-01T08:49:53.331Z"
   },
   {
    "duration": 15,
    "start_time": "2023-09-01T08:49:53.362Z"
   },
   {
    "duration": 40,
    "start_time": "2023-09-01T08:49:53.378Z"
   },
   {
    "duration": 74,
    "start_time": "2023-09-01T08:49:53.420Z"
   },
   {
    "duration": 32,
    "start_time": "2023-09-01T08:49:53.496Z"
   },
   {
    "duration": 35,
    "start_time": "2023-09-01T08:49:53.530Z"
   },
   {
    "duration": 27,
    "start_time": "2023-09-01T08:49:53.567Z"
   },
   {
    "duration": 34,
    "start_time": "2023-09-01T08:49:53.596Z"
   },
   {
    "duration": 46,
    "start_time": "2023-09-01T08:49:53.632Z"
   },
   {
    "duration": 41,
    "start_time": "2023-09-01T08:49:53.687Z"
   },
   {
    "duration": 4,
    "start_time": "2023-09-01T08:49:53.736Z"
   },
   {
    "duration": 41,
    "start_time": "2023-09-01T08:49:53.742Z"
   },
   {
    "duration": 20,
    "start_time": "2023-09-01T08:49:53.787Z"
   },
   {
    "duration": 13,
    "start_time": "2023-09-01T08:49:53.815Z"
   },
   {
    "duration": 4,
    "start_time": "2023-09-01T08:49:53.832Z"
   },
   {
    "duration": 22,
    "start_time": "2023-09-01T08:49:53.838Z"
   },
   {
    "duration": 13,
    "start_time": "2023-09-01T08:49:53.862Z"
   },
   {
    "duration": 27,
    "start_time": "2023-09-01T08:49:53.877Z"
   },
   {
    "duration": 4663,
    "start_time": "2023-09-01T08:49:53.906Z"
   },
   {
    "duration": 7740,
    "start_time": "2023-09-01T08:49:58.571Z"
   },
   {
    "duration": 131829,
    "start_time": "2023-09-01T08:50:06.322Z"
   },
   {
    "duration": 474104,
    "start_time": "2023-09-01T08:52:51.691Z"
   },
   {
    "duration": 11,
    "start_time": "2023-09-01T09:05:11.319Z"
   },
   {
    "duration": 4,
    "start_time": "2023-09-01T09:05:11.333Z"
   },
   {
    "duration": 33,
    "start_time": "2023-09-01T09:05:11.339Z"
   },
   {
    "duration": 15,
    "start_time": "2023-09-01T09:05:11.375Z"
   },
   {
    "duration": 36,
    "start_time": "2023-09-01T09:05:11.394Z"
   },
   {
    "duration": 7,
    "start_time": "2023-09-01T09:05:11.437Z"
   },
   {
    "duration": 6,
    "start_time": "2023-09-01T09:05:11.446Z"
   },
   {
    "duration": 1291,
    "start_time": "2023-09-01T09:05:11.453Z"
   },
   {
    "duration": 6,
    "start_time": "2023-09-01T09:05:12.746Z"
   },
   {
    "duration": 12,
    "start_time": "2023-09-01T09:05:12.754Z"
   },
   {
    "duration": 20,
    "start_time": "2023-09-01T09:05:12.767Z"
   },
   {
    "duration": 181,
    "start_time": "2023-09-01T09:05:12.790Z"
   },
   {
    "duration": 5,
    "start_time": "2023-09-01T09:05:12.973Z"
   },
   {
    "duration": 18,
    "start_time": "2023-09-01T09:05:12.981Z"
   },
   {
    "duration": 182,
    "start_time": "2023-09-01T09:05:13.001Z"
   },
   {
    "duration": 31,
    "start_time": "2023-09-01T09:05:13.191Z"
   },
   {
    "duration": 11,
    "start_time": "2023-09-01T09:05:13.224Z"
   },
   {
    "duration": 205,
    "start_time": "2023-09-01T09:05:13.236Z"
   },
   {
    "duration": 7,
    "start_time": "2023-09-01T09:05:13.444Z"
   },
   {
    "duration": 22,
    "start_time": "2023-09-01T09:05:13.453Z"
   },
   {
    "duration": 199,
    "start_time": "2023-09-01T09:05:13.477Z"
   },
   {
    "duration": 12,
    "start_time": "2023-09-01T09:05:13.677Z"
   },
   {
    "duration": 19,
    "start_time": "2023-09-01T09:05:13.693Z"
   },
   {
    "duration": 15,
    "start_time": "2023-09-01T09:05:13.721Z"
   },
   {
    "duration": 4,
    "start_time": "2023-09-01T09:05:13.738Z"
   },
   {
    "duration": 6,
    "start_time": "2023-09-01T09:05:13.744Z"
   },
   {
    "duration": 11,
    "start_time": "2023-09-01T09:05:13.751Z"
   },
   {
    "duration": 6,
    "start_time": "2023-09-01T09:05:13.767Z"
   },
   {
    "duration": 27,
    "start_time": "2023-09-01T09:05:13.774Z"
   },
   {
    "duration": 9,
    "start_time": "2023-09-01T09:05:13.803Z"
   },
   {
    "duration": 11,
    "start_time": "2023-09-01T09:05:13.813Z"
   },
   {
    "duration": 11,
    "start_time": "2023-09-01T09:05:13.826Z"
   },
   {
    "duration": 5,
    "start_time": "2023-09-01T09:05:13.839Z"
   },
   {
    "duration": 7,
    "start_time": "2023-09-01T09:05:13.845Z"
   },
   {
    "duration": 7,
    "start_time": "2023-09-01T09:05:13.853Z"
   },
   {
    "duration": 6,
    "start_time": "2023-09-01T09:05:13.861Z"
   },
   {
    "duration": 3,
    "start_time": "2023-09-01T09:05:13.869Z"
   },
   {
    "duration": 5,
    "start_time": "2023-09-01T09:05:13.874Z"
   },
   {
    "duration": 18,
    "start_time": "2023-09-01T09:05:13.881Z"
   },
   {
    "duration": 18,
    "start_time": "2023-09-01T09:05:13.901Z"
   },
   {
    "duration": 7,
    "start_time": "2023-09-01T09:05:13.923Z"
   },
   {
    "duration": 21,
    "start_time": "2023-09-01T09:05:13.931Z"
   },
   {
    "duration": 3,
    "start_time": "2023-09-01T09:05:13.954Z"
   },
   {
    "duration": 6,
    "start_time": "2023-09-01T09:05:13.959Z"
   },
   {
    "duration": 5,
    "start_time": "2023-09-01T09:05:13.966Z"
   },
   {
    "duration": 19,
    "start_time": "2023-09-01T09:05:13.973Z"
   },
   {
    "duration": 8,
    "start_time": "2023-09-01T09:05:14.006Z"
   },
   {
    "duration": 7,
    "start_time": "2023-09-01T09:05:14.016Z"
   },
   {
    "duration": 5,
    "start_time": "2023-09-01T09:05:14.026Z"
   },
   {
    "duration": 8,
    "start_time": "2023-09-01T09:05:14.033Z"
   },
   {
    "duration": 6711,
    "start_time": "2023-09-01T09:05:14.042Z"
   },
   {
    "duration": 11687,
    "start_time": "2023-09-01T09:05:20.755Z"
   },
   {
    "duration": 198194,
    "start_time": "2023-09-01T09:05:32.449Z"
   },
   {
    "duration": 7,
    "start_time": "2023-09-01T09:09:33.910Z"
   },
   {
    "duration": 12,
    "start_time": "2023-09-01T09:09:33.922Z"
   },
   {
    "duration": 30,
    "start_time": "2023-09-01T09:09:33.936Z"
   },
   {
    "duration": 10,
    "start_time": "2023-09-01T09:09:33.967Z"
   },
   {
    "duration": 40,
    "start_time": "2023-09-01T09:09:33.979Z"
   },
   {
    "duration": 11,
    "start_time": "2023-09-01T09:09:34.021Z"
   },
   {
    "duration": 6,
    "start_time": "2023-09-01T09:09:34.038Z"
   },
   {
    "duration": 1163,
    "start_time": "2023-09-01T09:09:34.046Z"
   },
   {
    "duration": 9,
    "start_time": "2023-09-01T09:09:35.211Z"
   },
   {
    "duration": 22,
    "start_time": "2023-09-01T09:09:35.222Z"
   },
   {
    "duration": 12,
    "start_time": "2023-09-01T09:09:35.245Z"
   },
   {
    "duration": 194,
    "start_time": "2023-09-01T09:09:35.259Z"
   },
   {
    "duration": 4,
    "start_time": "2023-09-01T09:09:35.455Z"
   },
   {
    "duration": 35,
    "start_time": "2023-09-01T09:09:35.462Z"
   },
   {
    "duration": 207,
    "start_time": "2023-09-01T09:09:35.500Z"
   },
   {
    "duration": 16,
    "start_time": "2023-09-01T09:09:35.713Z"
   },
   {
    "duration": 27,
    "start_time": "2023-09-01T09:09:35.732Z"
   },
   {
    "duration": 214,
    "start_time": "2023-09-01T09:09:35.761Z"
   },
   {
    "duration": 21,
    "start_time": "2023-09-01T09:09:35.977Z"
   },
   {
    "duration": 20,
    "start_time": "2023-09-01T09:09:36.008Z"
   },
   {
    "duration": 205,
    "start_time": "2023-09-01T09:09:36.030Z"
   },
   {
    "duration": 5,
    "start_time": "2023-09-01T09:09:36.237Z"
   },
   {
    "duration": 10,
    "start_time": "2023-09-01T09:09:36.243Z"
   },
   {
    "duration": 10,
    "start_time": "2023-09-01T09:09:36.255Z"
   },
   {
    "duration": 21,
    "start_time": "2023-09-01T09:09:36.266Z"
   },
   {
    "duration": 22,
    "start_time": "2023-09-01T09:09:36.295Z"
   },
   {
    "duration": 20,
    "start_time": "2023-09-01T09:09:36.324Z"
   },
   {
    "duration": 7,
    "start_time": "2023-09-01T09:09:36.346Z"
   },
   {
    "duration": 12,
    "start_time": "2023-09-01T09:09:36.355Z"
   },
   {
    "duration": 5,
    "start_time": "2023-09-01T09:09:36.369Z"
   },
   {
    "duration": 7,
    "start_time": "2023-09-01T09:09:36.376Z"
   },
   {
    "duration": 8,
    "start_time": "2023-09-01T09:09:36.386Z"
   },
   {
    "duration": 19,
    "start_time": "2023-09-01T09:09:36.396Z"
   },
   {
    "duration": 6,
    "start_time": "2023-09-01T09:09:36.421Z"
   },
   {
    "duration": 18,
    "start_time": "2023-09-01T09:09:36.429Z"
   },
   {
    "duration": 5,
    "start_time": "2023-09-01T09:09:36.449Z"
   },
   {
    "duration": 3,
    "start_time": "2023-09-01T09:09:36.456Z"
   },
   {
    "duration": 4,
    "start_time": "2023-09-01T09:09:36.461Z"
   },
   {
    "duration": 5,
    "start_time": "2023-09-01T09:09:36.467Z"
   },
   {
    "duration": 5,
    "start_time": "2023-09-01T09:09:36.473Z"
   },
   {
    "duration": 26,
    "start_time": "2023-09-01T09:09:36.483Z"
   },
   {
    "duration": 25,
    "start_time": "2023-09-01T09:09:36.516Z"
   },
   {
    "duration": 3,
    "start_time": "2023-09-01T09:09:36.542Z"
   },
   {
    "duration": 6,
    "start_time": "2023-09-01T09:09:36.547Z"
   },
   {
    "duration": 5,
    "start_time": "2023-09-01T09:09:36.554Z"
   },
   {
    "duration": 5,
    "start_time": "2023-09-01T09:09:36.560Z"
   },
   {
    "duration": 6,
    "start_time": "2023-09-01T09:09:36.566Z"
   },
   {
    "duration": 5,
    "start_time": "2023-09-01T09:09:36.573Z"
   },
   {
    "duration": 12,
    "start_time": "2023-09-01T09:09:36.583Z"
   },
   {
    "duration": 33,
    "start_time": "2023-09-01T09:09:36.597Z"
   },
   {
    "duration": 5394,
    "start_time": "2023-09-01T09:09:36.636Z"
   },
   {
    "duration": 28260,
    "start_time": "2023-09-01T09:09:42.034Z"
   },
   {
    "duration": 178892,
    "start_time": "2023-09-01T09:10:10.296Z"
   },
   {
    "duration": 529517,
    "start_time": "2023-09-01T09:13:37.892Z"
   },
   {
    "duration": 7,
    "start_time": "2023-09-01T09:23:39.416Z"
   },
   {
    "duration": 16,
    "start_time": "2023-09-01T09:23:39.429Z"
   },
   {
    "duration": 56,
    "start_time": "2023-09-01T09:23:39.448Z"
   },
   {
    "duration": 21,
    "start_time": "2023-09-01T09:23:39.507Z"
   },
   {
    "duration": 15,
    "start_time": "2023-09-01T09:23:39.534Z"
   },
   {
    "duration": 7,
    "start_time": "2023-09-01T09:23:39.551Z"
   },
   {
    "duration": 36,
    "start_time": "2023-09-01T09:23:39.560Z"
   },
   {
    "duration": 1295,
    "start_time": "2023-09-01T09:23:39.598Z"
   },
   {
    "duration": 28,
    "start_time": "2023-09-01T09:23:40.902Z"
   },
   {
    "duration": 6,
    "start_time": "2023-09-01T09:23:40.933Z"
   },
   {
    "duration": 24,
    "start_time": "2023-09-01T09:23:40.942Z"
   },
   {
    "duration": 195,
    "start_time": "2023-09-01T09:23:40.968Z"
   },
   {
    "duration": 5,
    "start_time": "2023-09-01T09:23:41.165Z"
   },
   {
    "duration": 28,
    "start_time": "2023-09-01T09:23:41.172Z"
   },
   {
    "duration": 173,
    "start_time": "2023-09-01T09:23:41.202Z"
   },
   {
    "duration": 12,
    "start_time": "2023-09-01T09:23:41.377Z"
   },
   {
    "duration": 24,
    "start_time": "2023-09-01T09:23:41.391Z"
   },
   {
    "duration": 212,
    "start_time": "2023-09-01T09:23:41.417Z"
   },
   {
    "duration": 5,
    "start_time": "2023-09-01T09:23:41.630Z"
   },
   {
    "duration": 8,
    "start_time": "2023-09-01T09:23:41.639Z"
   },
   {
    "duration": 195,
    "start_time": "2023-09-01T09:23:41.649Z"
   },
   {
    "duration": 5,
    "start_time": "2023-09-01T09:23:41.846Z"
   },
   {
    "duration": 5,
    "start_time": "2023-09-01T09:23:41.853Z"
   },
   {
    "duration": 6,
    "start_time": "2023-09-01T09:23:41.860Z"
   },
   {
    "duration": 23,
    "start_time": "2023-09-01T09:23:41.867Z"
   },
   {
    "duration": 12,
    "start_time": "2023-09-01T09:23:41.900Z"
   },
   {
    "duration": 18,
    "start_time": "2023-09-01T09:23:41.918Z"
   },
   {
    "duration": 7,
    "start_time": "2023-09-01T09:23:41.938Z"
   },
   {
    "duration": 14,
    "start_time": "2023-09-01T09:23:41.948Z"
   },
   {
    "duration": 6,
    "start_time": "2023-09-01T09:23:41.963Z"
   },
   {
    "duration": 5,
    "start_time": "2023-09-01T09:23:41.971Z"
   },
   {
    "duration": 6,
    "start_time": "2023-09-01T09:23:41.978Z"
   },
   {
    "duration": 9,
    "start_time": "2023-09-01T09:23:41.986Z"
   },
   {
    "duration": 23,
    "start_time": "2023-09-01T09:23:42.000Z"
   },
   {
    "duration": 7,
    "start_time": "2023-09-01T09:23:42.029Z"
   },
   {
    "duration": 5,
    "start_time": "2023-09-01T09:23:42.037Z"
   },
   {
    "duration": 8,
    "start_time": "2023-09-01T09:23:42.043Z"
   },
   {
    "duration": 5,
    "start_time": "2023-09-01T09:23:42.053Z"
   },
   {
    "duration": 4,
    "start_time": "2023-09-01T09:23:42.060Z"
   },
   {
    "duration": 6,
    "start_time": "2023-09-01T09:23:42.066Z"
   },
   {
    "duration": 4,
    "start_time": "2023-09-01T09:23:42.074Z"
   },
   {
    "duration": 38,
    "start_time": "2023-09-01T09:23:42.080Z"
   },
   {
    "duration": 4,
    "start_time": "2023-09-01T09:23:42.121Z"
   },
   {
    "duration": 7,
    "start_time": "2023-09-01T09:23:42.129Z"
   },
   {
    "duration": 6,
    "start_time": "2023-09-01T09:23:42.138Z"
   },
   {
    "duration": 4,
    "start_time": "2023-09-01T09:23:42.146Z"
   },
   {
    "duration": 6,
    "start_time": "2023-09-01T09:23:42.151Z"
   },
   {
    "duration": 7,
    "start_time": "2023-09-01T09:23:42.158Z"
   },
   {
    "duration": 5,
    "start_time": "2023-09-01T09:23:42.166Z"
   },
   {
    "duration": 12,
    "start_time": "2023-09-01T09:23:42.173Z"
   },
   {
    "duration": 5339,
    "start_time": "2023-09-01T09:23:42.196Z"
   },
   {
    "duration": 76151,
    "start_time": "2023-09-01T09:23:47.536Z"
   },
   {
    "duration": 721974,
    "start_time": "2023-09-01T09:25:03.689Z"
   },
   {
    "duration": 6,
    "start_time": "2023-09-01T09:37:25.968Z"
   },
   {
    "duration": 23,
    "start_time": "2023-09-01T09:37:25.976Z"
   },
   {
    "duration": 40,
    "start_time": "2023-09-01T09:37:26.006Z"
   },
   {
    "duration": 10,
    "start_time": "2023-09-01T09:37:26.048Z"
   },
   {
    "duration": 13,
    "start_time": "2023-09-01T09:37:26.060Z"
   },
   {
    "duration": 42,
    "start_time": "2023-09-01T09:37:26.075Z"
   },
   {
    "duration": 8,
    "start_time": "2023-09-01T09:37:26.118Z"
   },
   {
    "duration": 1428,
    "start_time": "2023-09-01T09:37:26.128Z"
   },
   {
    "duration": 6,
    "start_time": "2023-09-01T09:37:27.558Z"
   },
   {
    "duration": 9,
    "start_time": "2023-09-01T09:37:27.566Z"
   },
   {
    "duration": 33,
    "start_time": "2023-09-01T09:37:27.576Z"
   },
   {
    "duration": 192,
    "start_time": "2023-09-01T09:37:27.616Z"
   },
   {
    "duration": 9,
    "start_time": "2023-09-01T09:37:27.818Z"
   },
   {
    "duration": 11,
    "start_time": "2023-09-01T09:37:27.831Z"
   },
   {
    "duration": 206,
    "start_time": "2023-09-01T09:37:27.844Z"
   },
   {
    "duration": 5,
    "start_time": "2023-09-01T09:37:28.051Z"
   },
   {
    "duration": 9,
    "start_time": "2023-09-01T09:37:28.058Z"
   },
   {
    "duration": 262,
    "start_time": "2023-09-01T09:37:28.069Z"
   },
   {
    "duration": 8,
    "start_time": "2023-09-01T09:37:28.339Z"
   },
   {
    "duration": 13,
    "start_time": "2023-09-01T09:37:28.349Z"
   },
   {
    "duration": 213,
    "start_time": "2023-09-01T09:37:28.364Z"
   },
   {
    "duration": 22,
    "start_time": "2023-09-01T09:37:28.585Z"
   },
   {
    "duration": 8,
    "start_time": "2023-09-01T09:37:28.609Z"
   },
   {
    "duration": 11,
    "start_time": "2023-09-01T09:37:28.619Z"
   },
   {
    "duration": 9,
    "start_time": "2023-09-01T09:37:28.632Z"
   },
   {
    "duration": 19,
    "start_time": "2023-09-01T09:37:28.642Z"
   },
   {
    "duration": 45,
    "start_time": "2023-09-01T09:37:28.663Z"
   },
   {
    "duration": 8,
    "start_time": "2023-09-01T09:37:28.715Z"
   },
   {
    "duration": 27,
    "start_time": "2023-09-01T09:37:28.725Z"
   },
   {
    "duration": 7,
    "start_time": "2023-09-01T09:37:28.754Z"
   },
   {
    "duration": 33,
    "start_time": "2023-09-01T09:37:28.763Z"
   },
   {
    "duration": 19,
    "start_time": "2023-09-01T09:37:28.800Z"
   },
   {
    "duration": 9,
    "start_time": "2023-09-01T09:37:28.820Z"
   },
   {
    "duration": 9,
    "start_time": "2023-09-01T09:37:28.831Z"
   },
   {
    "duration": 11,
    "start_time": "2023-09-01T09:37:28.842Z"
   },
   {
    "duration": 11,
    "start_time": "2023-09-01T09:37:28.855Z"
   },
   {
    "duration": 7,
    "start_time": "2023-09-01T09:37:28.867Z"
   },
   {
    "duration": 25,
    "start_time": "2023-09-01T09:37:28.875Z"
   },
   {
    "duration": 15,
    "start_time": "2023-09-01T09:37:28.902Z"
   },
   {
    "duration": 17,
    "start_time": "2023-09-01T09:37:28.919Z"
   },
   {
    "duration": 4,
    "start_time": "2023-09-01T09:37:28.938Z"
   },
   {
    "duration": 29,
    "start_time": "2023-09-01T09:37:28.944Z"
   },
   {
    "duration": 4,
    "start_time": "2023-09-01T09:37:28.975Z"
   },
   {
    "duration": 23,
    "start_time": "2023-09-01T09:37:28.988Z"
   },
   {
    "duration": 9,
    "start_time": "2023-09-01T09:37:29.015Z"
   },
   {
    "duration": 16,
    "start_time": "2023-09-01T09:37:29.028Z"
   },
   {
    "duration": 11,
    "start_time": "2023-09-01T09:37:29.045Z"
   },
   {
    "duration": 10,
    "start_time": "2023-09-01T09:37:29.058Z"
   },
   {
    "duration": 8,
    "start_time": "2023-09-01T09:37:29.069Z"
   },
   {
    "duration": 30,
    "start_time": "2023-09-01T09:37:29.079Z"
   },
   {
    "duration": 6598,
    "start_time": "2023-09-01T09:37:29.115Z"
   },
   {
    "duration": 9924,
    "start_time": "2023-09-01T09:37:35.719Z"
   },
   {
    "duration": 110044,
    "start_time": "2023-09-01T09:37:45.645Z"
   },
   {
    "duration": 19275,
    "start_time": "2023-09-01T09:40:35.452Z"
   },
   {
    "duration": 39721,
    "start_time": "2023-09-01T09:40:56.702Z"
   },
   {
    "duration": 3091,
    "start_time": "2023-09-01T09:42:17.112Z"
   },
   {
    "duration": 7,
    "start_time": "2023-09-01T09:42:20.205Z"
   },
   {
    "duration": 65,
    "start_time": "2023-09-01T09:42:20.222Z"
   },
   {
    "duration": 40,
    "start_time": "2023-09-01T09:42:20.289Z"
   },
   {
    "duration": 24,
    "start_time": "2023-09-01T09:42:20.335Z"
   },
   {
    "duration": 11,
    "start_time": "2023-09-01T09:42:20.367Z"
   },
   {
    "duration": 30,
    "start_time": "2023-09-01T09:42:20.391Z"
   },
   {
    "duration": 1418,
    "start_time": "2023-09-01T09:42:20.432Z"
   },
   {
    "duration": 12,
    "start_time": "2023-09-01T09:42:21.852Z"
   },
   {
    "duration": 21,
    "start_time": "2023-09-01T09:42:21.866Z"
   },
   {
    "duration": 22,
    "start_time": "2023-09-01T09:42:21.893Z"
   },
   {
    "duration": 299,
    "start_time": "2023-09-01T09:42:21.921Z"
   },
   {
    "duration": 9,
    "start_time": "2023-09-01T09:42:22.230Z"
   },
   {
    "duration": 28,
    "start_time": "2023-09-01T09:42:22.251Z"
   },
   {
    "duration": 227,
    "start_time": "2023-09-01T09:42:22.281Z"
   },
   {
    "duration": 7,
    "start_time": "2023-09-01T09:42:22.510Z"
   },
   {
    "duration": 31,
    "start_time": "2023-09-01T09:42:22.519Z"
   },
   {
    "duration": 232,
    "start_time": "2023-09-01T09:42:22.556Z"
   },
   {
    "duration": 9,
    "start_time": "2023-09-01T09:42:22.790Z"
   },
   {
    "duration": 43,
    "start_time": "2023-09-01T09:42:22.802Z"
   },
   {
    "duration": 220,
    "start_time": "2023-09-01T09:42:22.850Z"
   },
   {
    "duration": 5,
    "start_time": "2023-09-01T09:42:23.072Z"
   },
   {
    "duration": 53,
    "start_time": "2023-09-01T09:42:23.078Z"
   },
   {
    "duration": 12,
    "start_time": "2023-09-01T09:42:23.133Z"
   },
   {
    "duration": 17,
    "start_time": "2023-09-01T09:42:23.155Z"
   },
   {
    "duration": 35,
    "start_time": "2023-09-01T09:42:23.174Z"
   },
   {
    "duration": 21,
    "start_time": "2023-09-01T09:42:23.218Z"
   },
   {
    "duration": 16,
    "start_time": "2023-09-01T09:42:23.244Z"
   },
   {
    "duration": 41,
    "start_time": "2023-09-01T09:42:23.266Z"
   },
   {
    "duration": 15,
    "start_time": "2023-09-01T09:42:23.312Z"
   },
   {
    "duration": 6,
    "start_time": "2023-09-01T09:42:23.329Z"
   },
   {
    "duration": 18,
    "start_time": "2023-09-01T09:42:23.338Z"
   },
   {
    "duration": 9,
    "start_time": "2023-09-01T09:42:23.360Z"
   },
   {
    "duration": 12,
    "start_time": "2023-09-01T09:42:23.371Z"
   },
   {
    "duration": 19,
    "start_time": "2023-09-01T09:42:23.386Z"
   },
   {
    "duration": 30,
    "start_time": "2023-09-01T09:42:23.410Z"
   },
   {
    "duration": 9,
    "start_time": "2023-09-01T09:42:23.444Z"
   },
   {
    "duration": 16,
    "start_time": "2023-09-01T09:42:23.454Z"
   },
   {
    "duration": 34,
    "start_time": "2023-09-01T09:42:23.472Z"
   },
   {
    "duration": 10,
    "start_time": "2023-09-01T09:42:23.509Z"
   },
   {
    "duration": 8,
    "start_time": "2023-09-01T09:42:23.532Z"
   },
   {
    "duration": 29,
    "start_time": "2023-09-01T09:42:23.542Z"
   },
   {
    "duration": 22,
    "start_time": "2023-09-01T09:42:23.573Z"
   },
   {
    "duration": 5,
    "start_time": "2023-09-01T09:42:23.597Z"
   },
   {
    "duration": 21,
    "start_time": "2023-09-01T09:42:23.604Z"
   },
   {
    "duration": 21,
    "start_time": "2023-09-01T09:42:23.626Z"
   },
   {
    "duration": 43,
    "start_time": "2023-09-01T09:42:23.649Z"
   },
   {
    "duration": 12,
    "start_time": "2023-09-01T09:42:23.693Z"
   },
   {
    "duration": 28,
    "start_time": "2023-09-01T09:42:23.707Z"
   },
   {
    "duration": 30,
    "start_time": "2023-09-01T09:42:23.737Z"
   },
   {
    "duration": 2486,
    "start_time": "2023-09-01T09:42:23.769Z"
   },
   {
    "duration": 4786,
    "start_time": "2023-09-01T09:42:26.257Z"
   },
   {
    "duration": 52856,
    "start_time": "2023-09-01T09:42:31.045Z"
   },
   {
    "duration": 143696,
    "start_time": "2023-09-01T09:44:02.147Z"
   },
   {
    "duration": 166371,
    "start_time": "2023-09-01T09:46:25.845Z"
   },
   {
    "duration": 5,
    "start_time": "2023-09-01T09:50:35.351Z"
   },
   {
    "duration": 10,
    "start_time": "2023-09-01T09:50:35.358Z"
   },
   {
    "duration": 70,
    "start_time": "2023-09-01T09:50:35.370Z"
   },
   {
    "duration": 16,
    "start_time": "2023-09-01T09:50:35.448Z"
   },
   {
    "duration": 52,
    "start_time": "2023-09-01T09:50:35.467Z"
   },
   {
    "duration": 10,
    "start_time": "2023-09-01T09:50:35.529Z"
   },
   {
    "duration": 11,
    "start_time": "2023-09-01T09:50:35.545Z"
   },
   {
    "duration": 1342,
    "start_time": "2023-09-01T09:50:35.558Z"
   },
   {
    "duration": 7,
    "start_time": "2023-09-01T09:50:36.906Z"
   },
   {
    "duration": 6,
    "start_time": "2023-09-01T09:50:36.914Z"
   },
   {
    "duration": 10,
    "start_time": "2023-09-01T09:50:36.923Z"
   },
   {
    "duration": 231,
    "start_time": "2023-09-01T09:50:36.934Z"
   },
   {
    "duration": 8,
    "start_time": "2023-09-01T09:50:37.167Z"
   },
   {
    "duration": 24,
    "start_time": "2023-09-01T09:50:37.177Z"
   },
   {
    "duration": 207,
    "start_time": "2023-09-01T09:50:37.203Z"
   },
   {
    "duration": 6,
    "start_time": "2023-09-01T09:50:37.411Z"
   },
   {
    "duration": 28,
    "start_time": "2023-09-01T09:50:37.420Z"
   },
   {
    "duration": 226,
    "start_time": "2023-09-01T09:50:37.452Z"
   },
   {
    "duration": 19,
    "start_time": "2023-09-01T09:50:37.680Z"
   },
   {
    "duration": 9,
    "start_time": "2023-09-01T09:50:37.704Z"
   },
   {
    "duration": 188,
    "start_time": "2023-09-01T09:50:37.715Z"
   },
   {
    "duration": 5,
    "start_time": "2023-09-01T09:50:37.905Z"
   },
   {
    "duration": 10,
    "start_time": "2023-09-01T09:50:37.912Z"
   },
   {
    "duration": 13,
    "start_time": "2023-09-01T09:50:37.924Z"
   },
   {
    "duration": 12,
    "start_time": "2023-09-01T09:50:37.939Z"
   },
   {
    "duration": 5,
    "start_time": "2023-09-01T09:50:37.953Z"
   },
   {
    "duration": 12,
    "start_time": "2023-09-01T09:50:37.960Z"
   },
   {
    "duration": 14,
    "start_time": "2023-09-01T09:50:37.973Z"
   },
   {
    "duration": 14,
    "start_time": "2023-09-01T09:50:37.996Z"
   },
   {
    "duration": 5,
    "start_time": "2023-09-01T09:50:38.013Z"
   },
   {
    "duration": 12,
    "start_time": "2023-09-01T09:50:38.019Z"
   },
   {
    "duration": 4,
    "start_time": "2023-09-01T09:50:38.033Z"
   },
   {
    "duration": 8,
    "start_time": "2023-09-01T09:50:38.040Z"
   },
   {
    "duration": 16,
    "start_time": "2023-09-01T09:50:38.051Z"
   },
   {
    "duration": 6,
    "start_time": "2023-09-01T09:50:38.069Z"
   },
   {
    "duration": 12,
    "start_time": "2023-09-01T09:50:38.076Z"
   },
   {
    "duration": 5,
    "start_time": "2023-09-01T09:50:38.090Z"
   },
   {
    "duration": 7,
    "start_time": "2023-09-01T09:50:38.097Z"
   },
   {
    "duration": 9,
    "start_time": "2023-09-01T09:50:38.106Z"
   },
   {
    "duration": 10,
    "start_time": "2023-09-01T09:50:38.116Z"
   },
   {
    "duration": 8,
    "start_time": "2023-09-01T09:50:38.128Z"
   },
   {
    "duration": 25,
    "start_time": "2023-09-01T09:50:38.138Z"
   },
   {
    "duration": 3,
    "start_time": "2023-09-01T09:50:38.165Z"
   },
   {
    "duration": 4,
    "start_time": "2023-09-01T09:50:38.170Z"
   },
   {
    "duration": 10,
    "start_time": "2023-09-01T09:50:38.176Z"
   },
   {
    "duration": 6,
    "start_time": "2023-09-01T09:50:38.188Z"
   },
   {
    "duration": 13,
    "start_time": "2023-09-01T09:50:38.196Z"
   },
   {
    "duration": 4,
    "start_time": "2023-09-01T09:50:38.211Z"
   },
   {
    "duration": 12,
    "start_time": "2023-09-01T09:50:38.217Z"
   },
   {
    "duration": 14,
    "start_time": "2023-09-01T09:50:38.237Z"
   },
   {
    "duration": 2475,
    "start_time": "2023-09-01T09:50:38.254Z"
   },
   {
    "duration": 4471,
    "start_time": "2023-09-01T09:50:40.738Z"
   },
   {
    "duration": 76081,
    "start_time": "2023-09-01T09:50:45.214Z"
   },
   {
    "duration": 132927,
    "start_time": "2023-09-01T09:52:18.815Z"
   },
   {
    "duration": 201047,
    "start_time": "2023-09-01T09:54:31.746Z"
   },
   {
    "duration": 17,
    "start_time": "2023-09-01T10:01:06.780Z"
   },
   {
    "duration": 31,
    "start_time": "2023-09-01T10:01:06.805Z"
   },
   {
    "duration": 29,
    "start_time": "2023-09-01T10:01:06.839Z"
   },
   {
    "duration": 15,
    "start_time": "2023-09-01T10:01:06.871Z"
   },
   {
    "duration": 40,
    "start_time": "2023-09-01T10:01:06.891Z"
   },
   {
    "duration": 10,
    "start_time": "2023-09-01T10:01:06.936Z"
   },
   {
    "duration": 10,
    "start_time": "2023-09-01T10:01:06.949Z"
   },
   {
    "duration": 1570,
    "start_time": "2023-09-01T10:01:06.962Z"
   },
   {
    "duration": 8,
    "start_time": "2023-09-01T10:01:08.538Z"
   },
   {
    "duration": 66,
    "start_time": "2023-09-01T10:01:08.549Z"
   },
   {
    "duration": 30,
    "start_time": "2023-09-01T10:01:08.616Z"
   },
   {
    "duration": 214,
    "start_time": "2023-09-01T10:01:08.648Z"
   },
   {
    "duration": 6,
    "start_time": "2023-09-01T10:01:08.864Z"
   },
   {
    "duration": 24,
    "start_time": "2023-09-01T10:01:08.883Z"
   },
   {
    "duration": 349,
    "start_time": "2023-09-01T10:01:08.911Z"
   },
   {
    "duration": 6,
    "start_time": "2023-09-01T10:01:09.262Z"
   },
   {
    "duration": 59,
    "start_time": "2023-09-01T10:01:09.270Z"
   },
   {
    "duration": 242,
    "start_time": "2023-09-01T10:01:09.331Z"
   },
   {
    "duration": 25,
    "start_time": "2023-09-01T10:01:09.575Z"
   },
   {
    "duration": 24,
    "start_time": "2023-09-01T10:01:09.602Z"
   },
   {
    "duration": 183,
    "start_time": "2023-09-01T10:01:09.630Z"
   },
   {
    "duration": 10,
    "start_time": "2023-09-01T10:01:09.820Z"
   },
   {
    "duration": 20,
    "start_time": "2023-09-01T10:01:09.831Z"
   },
   {
    "duration": 6,
    "start_time": "2023-09-01T10:01:09.853Z"
   },
   {
    "duration": 11,
    "start_time": "2023-09-01T10:01:09.861Z"
   },
   {
    "duration": 21,
    "start_time": "2023-09-01T10:01:09.873Z"
   },
   {
    "duration": 25,
    "start_time": "2023-09-01T10:01:09.902Z"
   },
   {
    "duration": 11,
    "start_time": "2023-09-01T10:01:09.931Z"
   },
   {
    "duration": 30,
    "start_time": "2023-09-01T10:01:09.945Z"
   },
   {
    "duration": 17,
    "start_time": "2023-09-01T10:01:09.977Z"
   },
   {
    "duration": 5,
    "start_time": "2023-09-01T10:01:10.001Z"
   },
   {
    "duration": 5,
    "start_time": "2023-09-01T10:01:10.017Z"
   },
   {
    "duration": 13,
    "start_time": "2023-09-01T10:01:10.025Z"
   },
   {
    "duration": 17,
    "start_time": "2023-09-01T10:01:10.040Z"
   },
   {
    "duration": 28,
    "start_time": "2023-09-01T10:01:10.059Z"
   },
   {
    "duration": 12,
    "start_time": "2023-09-01T10:01:10.090Z"
   },
   {
    "duration": 19,
    "start_time": "2023-09-01T10:01:10.104Z"
   },
   {
    "duration": 15,
    "start_time": "2023-09-01T10:01:10.125Z"
   },
   {
    "duration": 9,
    "start_time": "2023-09-01T10:01:10.142Z"
   },
   {
    "duration": 8,
    "start_time": "2023-09-01T10:01:10.153Z"
   },
   {
    "duration": 9,
    "start_time": "2023-09-01T10:01:10.164Z"
   },
   {
    "duration": 22,
    "start_time": "2023-09-01T10:01:10.174Z"
   },
   {
    "duration": 27,
    "start_time": "2023-09-01T10:01:10.198Z"
   },
   {
    "duration": 8,
    "start_time": "2023-09-01T10:01:10.228Z"
   },
   {
    "duration": 6,
    "start_time": "2023-09-01T10:01:10.237Z"
   },
   {
    "duration": 10,
    "start_time": "2023-09-01T10:01:10.245Z"
   },
   {
    "duration": 20,
    "start_time": "2023-09-01T10:01:10.256Z"
   },
   {
    "duration": 9,
    "start_time": "2023-09-01T10:01:10.278Z"
   },
   {
    "duration": 20,
    "start_time": "2023-09-01T10:01:10.289Z"
   },
   {
    "duration": 15,
    "start_time": "2023-09-01T10:01:10.310Z"
   },
   {
    "duration": 5024,
    "start_time": "2023-09-01T10:01:10.326Z"
   },
   {
    "duration": 7969,
    "start_time": "2023-09-01T10:01:15.352Z"
   },
   {
    "duration": 58406,
    "start_time": "2023-09-01T10:01:23.323Z"
   },
   {
    "duration": 5,
    "start_time": "2023-09-01T10:02:36.258Z"
   },
   {
    "duration": 23,
    "start_time": "2023-09-01T10:02:36.265Z"
   },
   {
    "duration": 50,
    "start_time": "2023-09-01T10:02:36.294Z"
   },
   {
    "duration": 11,
    "start_time": "2023-09-01T10:02:36.348Z"
   },
   {
    "duration": 28,
    "start_time": "2023-09-01T10:02:36.361Z"
   },
   {
    "duration": 22,
    "start_time": "2023-09-01T10:02:36.392Z"
   },
   {
    "duration": 22,
    "start_time": "2023-09-01T10:02:36.416Z"
   },
   {
    "duration": 1165,
    "start_time": "2023-09-01T10:02:36.440Z"
   },
   {
    "duration": 7,
    "start_time": "2023-09-01T10:02:37.611Z"
   },
   {
    "duration": 15,
    "start_time": "2023-09-01T10:02:37.624Z"
   },
   {
    "duration": 28,
    "start_time": "2023-09-01T10:02:37.641Z"
   },
   {
    "duration": 208,
    "start_time": "2023-09-01T10:02:37.671Z"
   },
   {
    "duration": 17,
    "start_time": "2023-09-01T10:02:37.880Z"
   },
   {
    "duration": 15,
    "start_time": "2023-09-01T10:02:37.912Z"
   },
   {
    "duration": 179,
    "start_time": "2023-09-01T10:02:37.931Z"
   },
   {
    "duration": 12,
    "start_time": "2023-09-01T10:02:38.112Z"
   },
   {
    "duration": 8,
    "start_time": "2023-09-01T10:02:38.126Z"
   },
   {
    "duration": 200,
    "start_time": "2023-09-01T10:02:38.136Z"
   },
   {
    "duration": 6,
    "start_time": "2023-09-01T10:02:38.338Z"
   },
   {
    "duration": 12,
    "start_time": "2023-09-01T10:02:38.346Z"
   },
   {
    "duration": 213,
    "start_time": "2023-09-01T10:02:38.360Z"
   },
   {
    "duration": 7,
    "start_time": "2023-09-01T10:02:38.575Z"
   },
   {
    "duration": 26,
    "start_time": "2023-09-01T10:02:38.584Z"
   },
   {
    "duration": 10,
    "start_time": "2023-09-01T10:02:38.615Z"
   },
   {
    "duration": 5,
    "start_time": "2023-09-01T10:02:38.627Z"
   },
   {
    "duration": 8,
    "start_time": "2023-09-01T10:02:38.634Z"
   },
   {
    "duration": 13,
    "start_time": "2023-09-01T10:02:38.644Z"
   },
   {
    "duration": 13,
    "start_time": "2023-09-01T10:02:38.658Z"
   },
   {
    "duration": 13,
    "start_time": "2023-09-01T10:02:38.672Z"
   },
   {
    "duration": 3,
    "start_time": "2023-09-01T10:02:38.687Z"
   },
   {
    "duration": 6,
    "start_time": "2023-09-01T10:02:38.692Z"
   },
   {
    "duration": 16,
    "start_time": "2023-09-01T10:02:38.701Z"
   },
   {
    "duration": 3,
    "start_time": "2023-09-01T10:02:38.718Z"
   },
   {
    "duration": 36,
    "start_time": "2023-09-01T10:02:38.728Z"
   },
   {
    "duration": 9,
    "start_time": "2023-09-01T10:02:38.766Z"
   },
   {
    "duration": 11,
    "start_time": "2023-09-01T10:02:38.778Z"
   },
   {
    "duration": 24,
    "start_time": "2023-09-01T10:02:38.791Z"
   },
   {
    "duration": 9,
    "start_time": "2023-09-01T10:02:38.820Z"
   },
   {
    "duration": 4,
    "start_time": "2023-09-01T10:02:38.832Z"
   },
   {
    "duration": 7,
    "start_time": "2023-09-01T10:02:38.838Z"
   },
   {
    "duration": 7,
    "start_time": "2023-09-01T10:02:38.846Z"
   },
   {
    "duration": 19,
    "start_time": "2023-09-01T10:02:38.854Z"
   },
   {
    "duration": 3,
    "start_time": "2023-09-01T10:02:38.875Z"
   },
   {
    "duration": 22,
    "start_time": "2023-09-01T10:02:38.881Z"
   },
   {
    "duration": 16,
    "start_time": "2023-09-01T10:02:38.905Z"
   },
   {
    "duration": 7,
    "start_time": "2023-09-01T10:02:38.924Z"
   },
   {
    "duration": 6,
    "start_time": "2023-09-01T10:02:38.933Z"
   },
   {
    "duration": 4,
    "start_time": "2023-09-01T10:02:38.941Z"
   },
   {
    "duration": 5,
    "start_time": "2023-09-01T10:02:38.947Z"
   },
   {
    "duration": 8,
    "start_time": "2023-09-01T10:02:38.954Z"
   },
   {
    "duration": 6540,
    "start_time": "2023-09-01T10:02:38.964Z"
   },
   {
    "duration": 11173,
    "start_time": "2023-09-01T10:02:45.505Z"
   },
   {
    "duration": 93924,
    "start_time": "2023-09-01T10:02:56.679Z"
   },
   {
    "duration": 5,
    "start_time": "2023-09-01T10:05:00.570Z"
   },
   {
    "duration": 59,
    "start_time": "2023-09-01T10:05:00.578Z"
   },
   {
    "duration": 77,
    "start_time": "2023-09-01T10:05:00.639Z"
   },
   {
    "duration": 14,
    "start_time": "2023-09-01T10:05:00.719Z"
   },
   {
    "duration": 38,
    "start_time": "2023-09-01T10:05:00.735Z"
   },
   {
    "duration": 40,
    "start_time": "2023-09-01T10:05:00.775Z"
   },
   {
    "duration": 40,
    "start_time": "2023-09-01T10:05:00.819Z"
   },
   {
    "duration": 1409,
    "start_time": "2023-09-01T10:05:00.860Z"
   },
   {
    "duration": 16,
    "start_time": "2023-09-01T10:05:02.273Z"
   },
   {
    "duration": 16,
    "start_time": "2023-09-01T10:05:02.299Z"
   },
   {
    "duration": 30,
    "start_time": "2023-09-01T10:05:02.317Z"
   },
   {
    "duration": 234,
    "start_time": "2023-09-01T10:05:02.349Z"
   },
   {
    "duration": 12,
    "start_time": "2023-09-01T10:05:02.585Z"
   },
   {
    "duration": 61,
    "start_time": "2023-09-01T10:05:02.601Z"
   },
   {
    "duration": 200,
    "start_time": "2023-09-01T10:05:02.664Z"
   },
   {
    "duration": 4,
    "start_time": "2023-09-01T10:05:02.866Z"
   },
   {
    "duration": 36,
    "start_time": "2023-09-01T10:05:02.872Z"
   },
   {
    "duration": 241,
    "start_time": "2023-09-01T10:05:02.910Z"
   },
   {
    "duration": 6,
    "start_time": "2023-09-01T10:05:03.153Z"
   },
   {
    "duration": 49,
    "start_time": "2023-09-01T10:05:03.161Z"
   },
   {
    "duration": 188,
    "start_time": "2023-09-01T10:05:03.221Z"
   },
   {
    "duration": 13,
    "start_time": "2023-09-01T10:05:03.418Z"
   },
   {
    "duration": 39,
    "start_time": "2023-09-01T10:05:03.433Z"
   },
   {
    "duration": 33,
    "start_time": "2023-09-01T10:05:03.476Z"
   },
   {
    "duration": 8,
    "start_time": "2023-09-01T10:05:03.510Z"
   },
   {
    "duration": 7,
    "start_time": "2023-09-01T10:05:03.522Z"
   },
   {
    "duration": 8,
    "start_time": "2023-09-01T10:05:03.531Z"
   },
   {
    "duration": 14,
    "start_time": "2023-09-01T10:05:03.541Z"
   },
   {
    "duration": 30,
    "start_time": "2023-09-01T10:05:03.557Z"
   },
   {
    "duration": 35,
    "start_time": "2023-09-01T10:05:03.593Z"
   },
   {
    "duration": 14,
    "start_time": "2023-09-01T10:05:03.632Z"
   },
   {
    "duration": 18,
    "start_time": "2023-09-01T10:05:03.648Z"
   },
   {
    "duration": 25,
    "start_time": "2023-09-01T10:05:03.668Z"
   },
   {
    "duration": 18,
    "start_time": "2023-09-01T10:05:03.694Z"
   },
   {
    "duration": 10,
    "start_time": "2023-09-01T10:05:03.714Z"
   },
   {
    "duration": 11,
    "start_time": "2023-09-01T10:05:03.725Z"
   },
   {
    "duration": 5,
    "start_time": "2023-09-01T10:05:03.737Z"
   },
   {
    "duration": 18,
    "start_time": "2023-09-01T10:05:03.743Z"
   },
   {
    "duration": 6,
    "start_time": "2023-09-01T10:05:03.763Z"
   },
   {
    "duration": 28,
    "start_time": "2023-09-01T10:05:03.771Z"
   },
   {
    "duration": 10,
    "start_time": "2023-09-01T10:05:03.804Z"
   },
   {
    "duration": 29,
    "start_time": "2023-09-01T10:05:03.816Z"
   },
   {
    "duration": 28,
    "start_time": "2023-09-01T10:05:03.847Z"
   },
   {
    "duration": 51,
    "start_time": "2023-09-01T10:05:03.877Z"
   },
   {
    "duration": 25,
    "start_time": "2023-09-01T10:05:03.930Z"
   },
   {
    "duration": 11,
    "start_time": "2023-09-01T10:05:03.957Z"
   },
   {
    "duration": 35,
    "start_time": "2023-09-01T10:05:03.969Z"
   },
   {
    "duration": 30,
    "start_time": "2023-09-01T10:05:04.006Z"
   },
   {
    "duration": 45,
    "start_time": "2023-09-01T10:05:04.038Z"
   },
   {
    "duration": 18,
    "start_time": "2023-09-01T10:05:04.085Z"
   },
   {
    "duration": 8012,
    "start_time": "2023-09-01T10:05:04.104Z"
   },
   {
    "duration": 13715,
    "start_time": "2023-09-01T10:05:12.118Z"
   },
   {
    "duration": 126681,
    "start_time": "2023-09-01T10:05:25.835Z"
   },
   {
    "duration": 298391,
    "start_time": "2023-09-01T10:09:05.047Z"
   },
   {
    "duration": 234887,
    "start_time": "2023-09-01T10:14:03.441Z"
   },
   {
    "duration": 3,
    "start_time": "2023-09-01T10:18:36.169Z"
   },
   {
    "duration": 23,
    "start_time": "2023-09-01T10:18:36.174Z"
   },
   {
    "duration": 29,
    "start_time": "2023-09-01T10:18:36.201Z"
   },
   {
    "duration": 11,
    "start_time": "2023-09-01T10:18:36.233Z"
   },
   {
    "duration": 25,
    "start_time": "2023-09-01T10:18:36.246Z"
   },
   {
    "duration": 12,
    "start_time": "2023-09-01T10:18:36.277Z"
   },
   {
    "duration": 129,
    "start_time": "2023-09-01T10:18:36.290Z"
   },
   {
    "duration": 1227,
    "start_time": "2023-09-01T10:18:36.421Z"
   },
   {
    "duration": 6,
    "start_time": "2023-09-01T10:18:37.651Z"
   },
   {
    "duration": 6,
    "start_time": "2023-09-01T10:18:37.659Z"
   },
   {
    "duration": 18,
    "start_time": "2023-09-01T10:18:37.687Z"
   },
   {
    "duration": 190,
    "start_time": "2023-09-01T10:18:37.707Z"
   },
   {
    "duration": 5,
    "start_time": "2023-09-01T10:18:37.899Z"
   },
   {
    "duration": 12,
    "start_time": "2023-09-01T10:18:37.906Z"
   },
   {
    "duration": 178,
    "start_time": "2023-09-01T10:18:37.919Z"
   },
   {
    "duration": 8,
    "start_time": "2023-09-01T10:18:38.107Z"
   },
   {
    "duration": 21,
    "start_time": "2023-09-01T10:18:38.119Z"
   },
   {
    "duration": 191,
    "start_time": "2023-09-01T10:18:38.142Z"
   },
   {
    "duration": 5,
    "start_time": "2023-09-01T10:18:38.335Z"
   },
   {
    "duration": 14,
    "start_time": "2023-09-01T10:18:38.342Z"
   },
   {
    "duration": 187,
    "start_time": "2023-09-01T10:18:38.358Z"
   },
   {
    "duration": 5,
    "start_time": "2023-09-01T10:18:38.546Z"
   },
   {
    "duration": 20,
    "start_time": "2023-09-01T10:18:38.553Z"
   },
   {
    "duration": 15,
    "start_time": "2023-09-01T10:18:38.585Z"
   },
   {
    "duration": 12,
    "start_time": "2023-09-01T10:18:38.607Z"
   },
   {
    "duration": 20,
    "start_time": "2023-09-01T10:18:38.621Z"
   },
   {
    "duration": 28,
    "start_time": "2023-09-01T10:18:38.642Z"
   },
   {
    "duration": 36,
    "start_time": "2023-09-01T10:18:38.672Z"
   },
   {
    "duration": 13,
    "start_time": "2023-09-01T10:18:38.709Z"
   },
   {
    "duration": 7,
    "start_time": "2023-09-01T10:18:38.724Z"
   },
   {
    "duration": 12,
    "start_time": "2023-09-01T10:18:38.733Z"
   },
   {
    "duration": 15,
    "start_time": "2023-09-01T10:18:38.747Z"
   },
   {
    "duration": 6,
    "start_time": "2023-09-01T10:18:38.764Z"
   },
   {
    "duration": 8,
    "start_time": "2023-09-01T10:18:38.771Z"
   },
   {
    "duration": 17,
    "start_time": "2023-09-01T10:18:38.782Z"
   },
   {
    "duration": 14,
    "start_time": "2023-09-01T10:18:38.800Z"
   },
   {
    "duration": 7,
    "start_time": "2023-09-01T10:18:38.821Z"
   },
   {
    "duration": 9,
    "start_time": "2023-09-01T10:18:38.834Z"
   },
   {
    "duration": 19,
    "start_time": "2023-09-01T10:18:38.845Z"
   },
   {
    "duration": 34,
    "start_time": "2023-09-01T10:18:38.866Z"
   },
   {
    "duration": 19,
    "start_time": "2023-09-01T10:18:38.902Z"
   },
   {
    "duration": 24,
    "start_time": "2023-09-01T10:18:38.923Z"
   },
   {
    "duration": 9,
    "start_time": "2023-09-01T10:18:38.948Z"
   },
   {
    "duration": 10,
    "start_time": "2023-09-01T10:18:38.959Z"
   },
   {
    "duration": 25,
    "start_time": "2023-09-01T10:18:38.971Z"
   },
   {
    "duration": 13,
    "start_time": "2023-09-01T10:18:38.998Z"
   },
   {
    "duration": 5,
    "start_time": "2023-09-01T10:18:39.014Z"
   },
   {
    "duration": 21,
    "start_time": "2023-09-01T10:18:39.021Z"
   },
   {
    "duration": 21,
    "start_time": "2023-09-01T10:18:39.045Z"
   },
   {
    "duration": 18,
    "start_time": "2023-09-01T10:18:39.068Z"
   },
   {
    "duration": 8160,
    "start_time": "2023-09-01T10:18:39.088Z"
   },
   {
    "duration": 33958,
    "start_time": "2023-09-01T10:18:47.250Z"
   },
   {
    "duration": 178521,
    "start_time": "2023-09-01T10:19:21.213Z"
   },
   {
    "duration": 2459,
    "start_time": "2023-09-01T10:23:18.873Z"
   },
   {
    "duration": 3,
    "start_time": "2023-09-01T10:23:21.334Z"
   },
   {
    "duration": 33,
    "start_time": "2023-09-01T10:23:21.339Z"
   },
   {
    "duration": 34,
    "start_time": "2023-09-01T10:23:21.374Z"
   },
   {
    "duration": 18,
    "start_time": "2023-09-01T10:23:21.413Z"
   },
   {
    "duration": 9,
    "start_time": "2023-09-01T10:23:21.433Z"
   },
   {
    "duration": 13,
    "start_time": "2023-09-01T10:23:21.444Z"
   },
   {
    "duration": 1065,
    "start_time": "2023-09-01T10:23:21.459Z"
   },
   {
    "duration": 6,
    "start_time": "2023-09-01T10:23:22.526Z"
   },
   {
    "duration": 6,
    "start_time": "2023-09-01T10:23:22.535Z"
   },
   {
    "duration": 22,
    "start_time": "2023-09-01T10:23:22.542Z"
   },
   {
    "duration": 191,
    "start_time": "2023-09-01T10:23:22.566Z"
   },
   {
    "duration": 6,
    "start_time": "2023-09-01T10:23:22.759Z"
   },
   {
    "duration": 23,
    "start_time": "2023-09-01T10:23:22.783Z"
   },
   {
    "duration": 154,
    "start_time": "2023-09-01T10:23:22.809Z"
   },
   {
    "duration": 5,
    "start_time": "2023-09-01T10:23:22.965Z"
   },
   {
    "duration": 22,
    "start_time": "2023-09-01T10:23:22.971Z"
   },
   {
    "duration": 216,
    "start_time": "2023-09-01T10:23:22.995Z"
   },
   {
    "duration": 6,
    "start_time": "2023-09-01T10:23:23.223Z"
   },
   {
    "duration": 13,
    "start_time": "2023-09-01T10:23:23.231Z"
   },
   {
    "duration": 183,
    "start_time": "2023-09-01T10:23:23.246Z"
   },
   {
    "duration": 5,
    "start_time": "2023-09-01T10:23:23.431Z"
   },
   {
    "duration": 11,
    "start_time": "2023-09-01T10:23:23.438Z"
   },
   {
    "duration": 19,
    "start_time": "2023-09-01T10:23:23.451Z"
   },
   {
    "duration": 19,
    "start_time": "2023-09-01T10:23:23.471Z"
   },
   {
    "duration": 14,
    "start_time": "2023-09-01T10:23:23.491Z"
   },
   {
    "duration": 14,
    "start_time": "2023-09-01T10:23:23.509Z"
   },
   {
    "duration": 17,
    "start_time": "2023-09-01T10:23:23.528Z"
   },
   {
    "duration": 17,
    "start_time": "2023-09-01T10:23:23.547Z"
   },
   {
    "duration": 5,
    "start_time": "2023-09-01T10:23:23.566Z"
   },
   {
    "duration": 21,
    "start_time": "2023-09-01T10:23:23.573Z"
   },
   {
    "duration": 4,
    "start_time": "2023-09-01T10:23:23.601Z"
   },
   {
    "duration": 7,
    "start_time": "2023-09-01T10:23:23.608Z"
   },
   {
    "duration": 8,
    "start_time": "2023-09-01T10:23:23.617Z"
   },
   {
    "duration": 8,
    "start_time": "2023-09-01T10:23:23.627Z"
   },
   {
    "duration": 5,
    "start_time": "2023-09-01T10:23:23.637Z"
   },
   {
    "duration": 7,
    "start_time": "2023-09-01T10:23:23.644Z"
   },
   {
    "duration": 11,
    "start_time": "2023-09-01T10:23:23.653Z"
   },
   {
    "duration": 5,
    "start_time": "2023-09-01T10:23:23.665Z"
   },
   {
    "duration": 7,
    "start_time": "2023-09-01T10:23:23.671Z"
   },
   {
    "duration": 18,
    "start_time": "2023-09-01T10:23:23.682Z"
   },
   {
    "duration": 19,
    "start_time": "2023-09-01T10:23:23.701Z"
   },
   {
    "duration": 3,
    "start_time": "2023-09-01T10:23:23.722Z"
   },
   {
    "duration": 5,
    "start_time": "2023-09-01T10:23:23.727Z"
   },
   {
    "duration": 12,
    "start_time": "2023-09-01T10:23:23.733Z"
   },
   {
    "duration": 10,
    "start_time": "2023-09-01T10:23:23.747Z"
   },
   {
    "duration": 11,
    "start_time": "2023-09-01T10:23:23.759Z"
   },
   {
    "duration": 26,
    "start_time": "2023-09-01T10:23:23.772Z"
   },
   {
    "duration": 6,
    "start_time": "2023-09-01T10:23:23.803Z"
   },
   {
    "duration": 17,
    "start_time": "2023-09-01T10:23:23.811Z"
   },
   {
    "duration": 13918,
    "start_time": "2023-09-01T10:23:23.831Z"
   },
   {
    "duration": 84861,
    "start_time": "2023-09-01T10:23:37.750Z"
   },
   {
    "duration": 531587,
    "start_time": "2023-09-01T10:25:02.612Z"
   },
   {
    "duration": 9,
    "start_time": "2023-09-01T10:33:54.202Z"
   },
   {
    "duration": 52,
    "start_time": "2023-09-01T10:33:54.214Z"
   },
   {
    "duration": 556,
    "start_time": "2023-09-01T10:33:54.268Z"
   },
   {
    "duration": 578360,
    "start_time": "2023-09-01T10:33:54.825Z"
   },
   {
    "duration": 486333,
    "start_time": "2023-09-01T10:43:33.187Z"
   },
   {
    "duration": 1907,
    "start_time": "2023-09-01T10:54:33.442Z"
   },
   {
    "duration": 4,
    "start_time": "2023-09-01T10:54:35.351Z"
   },
   {
    "duration": 31,
    "start_time": "2023-09-01T10:54:35.357Z"
   },
   {
    "duration": 14,
    "start_time": "2023-09-01T10:54:35.390Z"
   },
   {
    "duration": 20,
    "start_time": "2023-09-01T10:54:35.407Z"
   },
   {
    "duration": 23,
    "start_time": "2023-09-01T10:54:35.429Z"
   },
   {
    "duration": 27,
    "start_time": "2023-09-01T10:54:35.453Z"
   },
   {
    "duration": 989,
    "start_time": "2023-09-01T10:54:35.481Z"
   },
   {
    "duration": 9,
    "start_time": "2023-09-01T10:54:36.472Z"
   },
   {
    "duration": 10,
    "start_time": "2023-09-01T10:54:36.483Z"
   },
   {
    "duration": 13,
    "start_time": "2023-09-01T10:54:36.494Z"
   },
   {
    "duration": 210,
    "start_time": "2023-09-01T10:54:36.509Z"
   },
   {
    "duration": 6,
    "start_time": "2023-09-01T10:54:36.721Z"
   },
   {
    "duration": 11,
    "start_time": "2023-09-01T10:54:36.732Z"
   },
   {
    "duration": 185,
    "start_time": "2023-09-01T10:54:36.747Z"
   },
   {
    "duration": 5,
    "start_time": "2023-09-01T10:54:36.934Z"
   },
   {
    "duration": 17,
    "start_time": "2023-09-01T10:54:36.941Z"
   },
   {
    "duration": 178,
    "start_time": "2023-09-01T10:54:36.960Z"
   },
   {
    "duration": 5,
    "start_time": "2023-09-01T10:54:37.140Z"
   },
   {
    "duration": 15,
    "start_time": "2023-09-01T10:54:37.147Z"
   },
   {
    "duration": 189,
    "start_time": "2023-09-01T10:54:37.164Z"
   },
   {
    "duration": 5,
    "start_time": "2023-09-01T10:54:37.355Z"
   },
   {
    "duration": 20,
    "start_time": "2023-09-01T10:54:37.362Z"
   },
   {
    "duration": 19,
    "start_time": "2023-09-01T10:54:37.385Z"
   },
   {
    "duration": 11,
    "start_time": "2023-09-01T10:54:37.406Z"
   },
   {
    "duration": 12,
    "start_time": "2023-09-01T10:54:37.419Z"
   },
   {
    "duration": 36,
    "start_time": "2023-09-01T10:54:37.432Z"
   },
   {
    "duration": 9,
    "start_time": "2023-09-01T10:54:37.470Z"
   },
   {
    "duration": 16,
    "start_time": "2023-09-01T10:54:37.480Z"
   },
   {
    "duration": 7,
    "start_time": "2023-09-01T10:54:37.497Z"
   },
   {
    "duration": 7,
    "start_time": "2023-09-01T10:54:37.505Z"
   },
   {
    "duration": 5,
    "start_time": "2023-09-01T10:54:37.514Z"
   },
   {
    "duration": 7,
    "start_time": "2023-09-01T10:54:37.520Z"
   },
   {
    "duration": 8,
    "start_time": "2023-09-01T10:54:37.528Z"
   },
   {
    "duration": 10,
    "start_time": "2023-09-01T10:54:37.538Z"
   },
   {
    "duration": 7,
    "start_time": "2023-09-01T10:54:37.549Z"
   },
   {
    "duration": 13,
    "start_time": "2023-09-01T10:54:37.558Z"
   },
   {
    "duration": 10,
    "start_time": "2023-09-01T10:54:37.573Z"
   },
   {
    "duration": 22,
    "start_time": "2023-09-01T10:54:37.585Z"
   },
   {
    "duration": 34,
    "start_time": "2023-09-01T10:54:37.609Z"
   },
   {
    "duration": 34,
    "start_time": "2023-09-01T10:54:37.647Z"
   },
   {
    "duration": 38,
    "start_time": "2023-09-01T10:54:37.683Z"
   },
   {
    "duration": 25,
    "start_time": "2023-09-01T10:54:37.722Z"
   },
   {
    "duration": 20,
    "start_time": "2023-09-01T10:54:37.749Z"
   },
   {
    "duration": 56,
    "start_time": "2023-09-01T10:54:37.770Z"
   },
   {
    "duration": 34,
    "start_time": "2023-09-01T10:54:37.827Z"
   },
   {
    "duration": 27,
    "start_time": "2023-09-01T10:54:37.862Z"
   },
   {
    "duration": 39,
    "start_time": "2023-09-01T10:54:37.891Z"
   },
   {
    "duration": 17,
    "start_time": "2023-09-01T10:54:37.932Z"
   },
   {
    "duration": 44,
    "start_time": "2023-09-01T10:54:37.950Z"
   },
   {
    "duration": 42,
    "start_time": "2023-09-01T10:54:37.996Z"
   },
   {
    "duration": 1509,
    "start_time": "2023-09-01T10:54:38.040Z"
   },
   {
    "duration": 2419,
    "start_time": "2023-09-01T10:54:39.550Z"
   },
   {
    "duration": 3125,
    "start_time": "2023-09-01T10:54:41.971Z"
   },
   {
    "duration": 3638,
    "start_time": "2023-09-01T10:54:45.098Z"
   },
   {
    "duration": 13944,
    "start_time": "2023-09-01T10:56:30.057Z"
   },
   {
    "duration": 21391,
    "start_time": "2023-09-01T10:56:44.004Z"
   },
   {
    "duration": 20485,
    "start_time": "2023-09-01T10:57:05.397Z"
   },
   {
    "duration": 4,
    "start_time": "2023-09-01T10:57:57.146Z"
   },
   {
    "duration": 16,
    "start_time": "2023-09-01T10:57:57.151Z"
   },
   {
    "duration": 40,
    "start_time": "2023-09-01T10:57:57.169Z"
   },
   {
    "duration": 11,
    "start_time": "2023-09-01T10:57:57.211Z"
   },
   {
    "duration": 21,
    "start_time": "2023-09-01T10:57:57.224Z"
   },
   {
    "duration": 9,
    "start_time": "2023-09-01T10:57:57.246Z"
   },
   {
    "duration": 21,
    "start_time": "2023-09-01T10:57:57.256Z"
   },
   {
    "duration": 1027,
    "start_time": "2023-09-01T10:57:57.279Z"
   },
   {
    "duration": 6,
    "start_time": "2023-09-01T10:57:58.308Z"
   },
   {
    "duration": 11,
    "start_time": "2023-09-01T10:57:58.316Z"
   },
   {
    "duration": 13,
    "start_time": "2023-09-01T10:57:58.331Z"
   },
   {
    "duration": 169,
    "start_time": "2023-09-01T10:57:58.346Z"
   },
   {
    "duration": 5,
    "start_time": "2023-09-01T10:57:58.516Z"
   },
   {
    "duration": 29,
    "start_time": "2023-09-01T10:57:58.523Z"
   },
   {
    "duration": 149,
    "start_time": "2023-09-01T10:57:58.554Z"
   },
   {
    "duration": 5,
    "start_time": "2023-09-01T10:57:58.705Z"
   },
   {
    "duration": 15,
    "start_time": "2023-09-01T10:57:58.711Z"
   },
   {
    "duration": 181,
    "start_time": "2023-09-01T10:57:58.728Z"
   },
   {
    "duration": 5,
    "start_time": "2023-09-01T10:57:58.912Z"
   },
   {
    "duration": 15,
    "start_time": "2023-09-01T10:57:58.919Z"
   },
   {
    "duration": 167,
    "start_time": "2023-09-01T10:57:58.936Z"
   },
   {
    "duration": 4,
    "start_time": "2023-09-01T10:57:59.106Z"
   },
   {
    "duration": 7,
    "start_time": "2023-09-01T10:57:59.112Z"
   },
   {
    "duration": 9,
    "start_time": "2023-09-01T10:57:59.121Z"
   },
   {
    "duration": 18,
    "start_time": "2023-09-01T10:57:59.132Z"
   },
   {
    "duration": 18,
    "start_time": "2023-09-01T10:57:59.151Z"
   },
   {
    "duration": 23,
    "start_time": "2023-09-01T10:57:59.171Z"
   },
   {
    "duration": 12,
    "start_time": "2023-09-01T10:57:59.196Z"
   },
   {
    "duration": 14,
    "start_time": "2023-09-01T10:57:59.212Z"
   },
   {
    "duration": 6,
    "start_time": "2023-09-01T10:57:59.228Z"
   },
   {
    "duration": 16,
    "start_time": "2023-09-01T10:57:59.236Z"
   },
   {
    "duration": 9,
    "start_time": "2023-09-01T10:57:59.254Z"
   },
   {
    "duration": 7,
    "start_time": "2023-09-01T10:57:59.265Z"
   },
   {
    "duration": 9,
    "start_time": "2023-09-01T10:57:59.274Z"
   },
   {
    "duration": 5,
    "start_time": "2023-09-01T10:57:59.285Z"
   },
   {
    "duration": 6,
    "start_time": "2023-09-01T10:57:59.291Z"
   },
   {
    "duration": 5,
    "start_time": "2023-09-01T10:57:59.298Z"
   },
   {
    "duration": 8,
    "start_time": "2023-09-01T10:57:59.304Z"
   },
   {
    "duration": 17,
    "start_time": "2023-09-01T10:57:59.313Z"
   },
   {
    "duration": 31,
    "start_time": "2023-09-01T10:57:59.332Z"
   },
   {
    "duration": 19,
    "start_time": "2023-09-01T10:57:59.365Z"
   },
   {
    "duration": 16,
    "start_time": "2023-09-01T10:57:59.385Z"
   },
   {
    "duration": 3,
    "start_time": "2023-09-01T10:57:59.402Z"
   },
   {
    "duration": 5,
    "start_time": "2023-09-01T10:57:59.407Z"
   },
   {
    "duration": 6,
    "start_time": "2023-09-01T10:57:59.414Z"
   },
   {
    "duration": 5,
    "start_time": "2023-09-01T10:57:59.422Z"
   },
   {
    "duration": 6,
    "start_time": "2023-09-01T10:57:59.428Z"
   },
   {
    "duration": 6,
    "start_time": "2023-09-01T10:57:59.436Z"
   },
   {
    "duration": 4,
    "start_time": "2023-09-01T10:57:59.444Z"
   },
   {
    "duration": 4,
    "start_time": "2023-09-01T10:57:59.450Z"
   },
   {
    "duration": 28,
    "start_time": "2023-09-01T10:57:59.456Z"
   },
   {
    "duration": 1482,
    "start_time": "2023-09-01T10:57:59.485Z"
   },
   {
    "duration": 2430,
    "start_time": "2023-09-01T10:58:00.969Z"
   },
   {
    "duration": 3084,
    "start_time": "2023-09-01T10:58:03.400Z"
   },
   {
    "duration": 3998,
    "start_time": "2023-09-01T10:58:06.486Z"
   },
   {
    "duration": 5,
    "start_time": "2023-09-01T10:59:07.271Z"
   },
   {
    "duration": 14,
    "start_time": "2023-09-01T10:59:07.278Z"
   },
   {
    "duration": 39,
    "start_time": "2023-09-01T10:59:07.293Z"
   },
   {
    "duration": 10,
    "start_time": "2023-09-01T10:59:07.334Z"
   },
   {
    "duration": 18,
    "start_time": "2023-09-01T10:59:07.346Z"
   },
   {
    "duration": 15,
    "start_time": "2023-09-01T10:59:07.365Z"
   },
   {
    "duration": 11,
    "start_time": "2023-09-01T10:59:07.382Z"
   },
   {
    "duration": 948,
    "start_time": "2023-09-01T10:59:07.395Z"
   },
   {
    "duration": 6,
    "start_time": "2023-09-01T10:59:08.345Z"
   },
   {
    "duration": 6,
    "start_time": "2023-09-01T10:59:08.352Z"
   },
   {
    "duration": 26,
    "start_time": "2023-09-01T10:59:08.359Z"
   },
   {
    "duration": 151,
    "start_time": "2023-09-01T10:59:08.387Z"
   },
   {
    "duration": 5,
    "start_time": "2023-09-01T10:59:08.540Z"
   },
   {
    "duration": 27,
    "start_time": "2023-09-01T10:59:08.546Z"
   },
   {
    "duration": 279,
    "start_time": "2023-09-01T10:59:08.575Z"
   },
   {
    "duration": 5,
    "start_time": "2023-09-01T10:59:08.856Z"
   },
   {
    "duration": 27,
    "start_time": "2023-09-01T10:59:08.862Z"
   },
   {
    "duration": 177,
    "start_time": "2023-09-01T10:59:08.891Z"
   },
   {
    "duration": 5,
    "start_time": "2023-09-01T10:59:09.069Z"
   },
   {
    "duration": 9,
    "start_time": "2023-09-01T10:59:09.080Z"
   },
   {
    "duration": 178,
    "start_time": "2023-09-01T10:59:09.091Z"
   },
   {
    "duration": 10,
    "start_time": "2023-09-01T10:59:09.272Z"
   },
   {
    "duration": 26,
    "start_time": "2023-09-01T10:59:09.284Z"
   },
   {
    "duration": 32,
    "start_time": "2023-09-01T10:59:09.315Z"
   },
   {
    "duration": 32,
    "start_time": "2023-09-01T10:59:09.349Z"
   },
   {
    "duration": 20,
    "start_time": "2023-09-01T10:59:09.383Z"
   },
   {
    "duration": 20,
    "start_time": "2023-09-01T10:59:09.404Z"
   },
   {
    "duration": 41,
    "start_time": "2023-09-01T10:59:09.426Z"
   },
   {
    "duration": 19,
    "start_time": "2023-09-01T10:59:09.469Z"
   },
   {
    "duration": 6,
    "start_time": "2023-09-01T10:59:09.489Z"
   },
   {
    "duration": 6,
    "start_time": "2023-09-01T10:59:09.496Z"
   },
   {
    "duration": 7,
    "start_time": "2023-09-01T10:59:09.504Z"
   },
   {
    "duration": 19,
    "start_time": "2023-09-01T10:59:09.513Z"
   },
   {
    "duration": 11,
    "start_time": "2023-09-01T10:59:09.534Z"
   },
   {
    "duration": 22,
    "start_time": "2023-09-01T10:59:09.547Z"
   },
   {
    "duration": 21,
    "start_time": "2023-09-01T10:59:09.571Z"
   },
   {
    "duration": 7,
    "start_time": "2023-09-01T10:59:09.594Z"
   },
   {
    "duration": 10,
    "start_time": "2023-09-01T10:59:09.603Z"
   },
   {
    "duration": 6,
    "start_time": "2023-09-01T10:59:09.615Z"
   },
   {
    "duration": 11,
    "start_time": "2023-09-01T10:59:09.622Z"
   },
   {
    "duration": 14,
    "start_time": "2023-09-01T10:59:09.635Z"
   },
   {
    "duration": 23,
    "start_time": "2023-09-01T10:59:09.651Z"
   },
   {
    "duration": 13,
    "start_time": "2023-09-01T10:59:09.676Z"
   },
   {
    "duration": 8,
    "start_time": "2023-09-01T10:59:09.691Z"
   },
   {
    "duration": 19,
    "start_time": "2023-09-01T10:59:09.701Z"
   },
   {
    "duration": 9,
    "start_time": "2023-09-01T10:59:09.722Z"
   },
   {
    "duration": 16,
    "start_time": "2023-09-01T10:59:09.732Z"
   },
   {
    "duration": 16,
    "start_time": "2023-09-01T10:59:09.749Z"
   },
   {
    "duration": 6,
    "start_time": "2023-09-01T10:59:09.767Z"
   },
   {
    "duration": 5,
    "start_time": "2023-09-01T10:59:09.775Z"
   },
   {
    "duration": 19,
    "start_time": "2023-09-01T10:59:09.782Z"
   },
   {
    "duration": 1453,
    "start_time": "2023-09-01T10:59:09.803Z"
   },
   {
    "duration": 2425,
    "start_time": "2023-09-01T10:59:11.257Z"
   },
   {
    "duration": 3194,
    "start_time": "2023-09-01T10:59:13.684Z"
   },
   {
    "duration": 3778,
    "start_time": "2023-09-01T10:59:16.879Z"
   },
   {
    "duration": 4,
    "start_time": "2023-09-01T11:00:10.126Z"
   },
   {
    "duration": 11,
    "start_time": "2023-09-01T11:00:10.132Z"
   },
   {
    "duration": 42,
    "start_time": "2023-09-01T11:00:10.144Z"
   },
   {
    "duration": 10,
    "start_time": "2023-09-01T11:00:10.188Z"
   },
   {
    "duration": 46,
    "start_time": "2023-09-01T11:00:10.201Z"
   },
   {
    "duration": 21,
    "start_time": "2023-09-01T11:00:10.249Z"
   },
   {
    "duration": 11,
    "start_time": "2023-09-01T11:00:10.271Z"
   },
   {
    "duration": 962,
    "start_time": "2023-09-01T11:00:10.284Z"
   },
   {
    "duration": 8,
    "start_time": "2023-09-01T11:00:11.248Z"
   },
   {
    "duration": 30,
    "start_time": "2023-09-01T11:00:11.257Z"
   },
   {
    "duration": 12,
    "start_time": "2023-09-01T11:00:11.289Z"
   },
   {
    "duration": 166,
    "start_time": "2023-09-01T11:00:11.303Z"
   },
   {
    "duration": 9,
    "start_time": "2023-09-01T11:00:11.471Z"
   },
   {
    "duration": 12,
    "start_time": "2023-09-01T11:00:11.485Z"
   },
   {
    "duration": 188,
    "start_time": "2023-09-01T11:00:11.499Z"
   },
   {
    "duration": 4,
    "start_time": "2023-09-01T11:00:11.689Z"
   },
   {
    "duration": 13,
    "start_time": "2023-09-01T11:00:11.695Z"
   },
   {
    "duration": 226,
    "start_time": "2023-09-01T11:00:11.710Z"
   },
   {
    "duration": 5,
    "start_time": "2023-09-01T11:00:11.938Z"
   },
   {
    "duration": 16,
    "start_time": "2023-09-01T11:00:11.945Z"
   },
   {
    "duration": 171,
    "start_time": "2023-09-01T11:00:11.963Z"
   },
   {
    "duration": 5,
    "start_time": "2023-09-01T11:00:12.136Z"
   },
   {
    "duration": 20,
    "start_time": "2023-09-01T11:00:12.143Z"
   },
   {
    "duration": 26,
    "start_time": "2023-09-01T11:00:12.165Z"
   },
   {
    "duration": 11,
    "start_time": "2023-09-01T11:00:12.194Z"
   },
   {
    "duration": 9,
    "start_time": "2023-09-01T11:00:12.207Z"
   },
   {
    "duration": 32,
    "start_time": "2023-09-01T11:00:12.218Z"
   },
   {
    "duration": 14,
    "start_time": "2023-09-01T11:00:12.252Z"
   },
   {
    "duration": 20,
    "start_time": "2023-09-01T11:00:12.267Z"
   },
   {
    "duration": 32,
    "start_time": "2023-09-01T11:00:12.289Z"
   },
   {
    "duration": 11,
    "start_time": "2023-09-01T11:00:12.323Z"
   },
   {
    "duration": 11,
    "start_time": "2023-09-01T11:00:12.336Z"
   },
   {
    "duration": 14,
    "start_time": "2023-09-01T11:00:12.349Z"
   },
   {
    "duration": 18,
    "start_time": "2023-09-01T11:00:12.364Z"
   },
   {
    "duration": 22,
    "start_time": "2023-09-01T11:00:12.383Z"
   },
   {
    "duration": 14,
    "start_time": "2023-09-01T11:00:12.407Z"
   },
   {
    "duration": 17,
    "start_time": "2023-09-01T11:00:12.422Z"
   },
   {
    "duration": 11,
    "start_time": "2023-09-01T11:00:12.441Z"
   },
   {
    "duration": 23,
    "start_time": "2023-09-01T11:00:12.454Z"
   },
   {
    "duration": 13,
    "start_time": "2023-09-01T11:00:12.479Z"
   },
   {
    "duration": 14,
    "start_time": "2023-09-01T11:00:12.496Z"
   },
   {
    "duration": 26,
    "start_time": "2023-09-01T11:00:12.512Z"
   },
   {
    "duration": 13,
    "start_time": "2023-09-01T11:00:12.540Z"
   },
   {
    "duration": 11,
    "start_time": "2023-09-01T11:00:12.555Z"
   },
   {
    "duration": 16,
    "start_time": "2023-09-01T11:00:12.568Z"
   },
   {
    "duration": 12,
    "start_time": "2023-09-01T11:00:12.586Z"
   },
   {
    "duration": 9,
    "start_time": "2023-09-01T11:00:12.600Z"
   },
   {
    "duration": 16,
    "start_time": "2023-09-01T11:00:12.610Z"
   },
   {
    "duration": 10,
    "start_time": "2023-09-01T11:00:12.628Z"
   },
   {
    "duration": 9,
    "start_time": "2023-09-01T11:00:12.640Z"
   },
   {
    "duration": 13,
    "start_time": "2023-09-01T11:00:12.650Z"
   },
   {
    "duration": 1503,
    "start_time": "2023-09-01T11:00:12.664Z"
   },
   {
    "duration": 2557,
    "start_time": "2023-09-01T11:00:14.169Z"
   },
   {
    "duration": 3300,
    "start_time": "2023-09-01T11:00:16.729Z"
   },
   {
    "duration": 3796,
    "start_time": "2023-09-01T11:00:20.032Z"
   },
   {
    "duration": 4,
    "start_time": "2023-09-01T11:01:39.491Z"
   },
   {
    "duration": 11,
    "start_time": "2023-09-01T11:01:39.498Z"
   },
   {
    "duration": 33,
    "start_time": "2023-09-01T11:01:39.511Z"
   },
   {
    "duration": 10,
    "start_time": "2023-09-01T11:01:39.546Z"
   },
   {
    "duration": 23,
    "start_time": "2023-09-01T11:01:39.559Z"
   },
   {
    "duration": 17,
    "start_time": "2023-09-01T11:01:39.584Z"
   },
   {
    "duration": 20,
    "start_time": "2023-09-01T11:01:39.603Z"
   },
   {
    "duration": 1093,
    "start_time": "2023-09-01T11:01:39.625Z"
   },
   {
    "duration": 6,
    "start_time": "2023-09-01T11:01:40.719Z"
   },
   {
    "duration": 48,
    "start_time": "2023-09-01T11:01:40.727Z"
   },
   {
    "duration": 63,
    "start_time": "2023-09-01T11:01:40.778Z"
   },
   {
    "duration": 173,
    "start_time": "2023-09-01T11:01:40.842Z"
   },
   {
    "duration": 5,
    "start_time": "2023-09-01T11:01:41.017Z"
   },
   {
    "duration": 32,
    "start_time": "2023-09-01T11:01:41.024Z"
   },
   {
    "duration": 175,
    "start_time": "2023-09-01T11:01:41.058Z"
   },
   {
    "duration": 5,
    "start_time": "2023-09-01T11:01:41.235Z"
   },
   {
    "duration": 17,
    "start_time": "2023-09-01T11:01:41.241Z"
   },
   {
    "duration": 189,
    "start_time": "2023-09-01T11:01:41.259Z"
   },
   {
    "duration": 5,
    "start_time": "2023-09-01T11:01:41.449Z"
   },
   {
    "duration": 20,
    "start_time": "2023-09-01T11:01:41.455Z"
   },
   {
    "duration": 157,
    "start_time": "2023-09-01T11:01:41.480Z"
   },
   {
    "duration": 5,
    "start_time": "2023-09-01T11:01:41.639Z"
   },
   {
    "duration": 13,
    "start_time": "2023-09-01T11:01:41.646Z"
   },
   {
    "duration": 12,
    "start_time": "2023-09-01T11:01:41.661Z"
   },
   {
    "duration": 5,
    "start_time": "2023-09-01T11:01:41.681Z"
   },
   {
    "duration": 14,
    "start_time": "2023-09-01T11:01:41.688Z"
   },
   {
    "duration": 12,
    "start_time": "2023-09-01T11:01:41.704Z"
   },
   {
    "duration": 11,
    "start_time": "2023-09-01T11:01:41.718Z"
   },
   {
    "duration": 10,
    "start_time": "2023-09-01T11:01:41.733Z"
   },
   {
    "duration": 5,
    "start_time": "2023-09-01T11:01:41.744Z"
   },
   {
    "duration": 4,
    "start_time": "2023-09-01T11:01:41.750Z"
   },
   {
    "duration": 25,
    "start_time": "2023-09-01T11:01:41.756Z"
   },
   {
    "duration": 3,
    "start_time": "2023-09-01T11:01:41.782Z"
   },
   {
    "duration": 8,
    "start_time": "2023-09-01T11:01:41.786Z"
   },
   {
    "duration": 12,
    "start_time": "2023-09-01T11:01:41.795Z"
   },
   {
    "duration": 8,
    "start_time": "2023-09-01T11:01:41.809Z"
   },
   {
    "duration": 9,
    "start_time": "2023-09-01T11:01:41.819Z"
   },
   {
    "duration": 7,
    "start_time": "2023-09-01T11:01:41.830Z"
   },
   {
    "duration": 5,
    "start_time": "2023-09-01T11:01:41.839Z"
   },
   {
    "duration": 6,
    "start_time": "2023-09-01T11:01:41.846Z"
   },
   {
    "duration": 7,
    "start_time": "2023-09-01T11:01:41.854Z"
   },
   {
    "duration": 34,
    "start_time": "2023-09-01T11:01:41.863Z"
   },
   {
    "duration": 14,
    "start_time": "2023-09-01T11:01:41.899Z"
   },
   {
    "duration": 9,
    "start_time": "2023-09-01T11:01:41.915Z"
   },
   {
    "duration": 9,
    "start_time": "2023-09-01T11:01:41.926Z"
   },
   {
    "duration": 4,
    "start_time": "2023-09-01T11:01:41.937Z"
   },
   {
    "duration": 5,
    "start_time": "2023-09-01T11:01:41.943Z"
   },
   {
    "duration": 13,
    "start_time": "2023-09-01T11:01:41.950Z"
   },
   {
    "duration": 12,
    "start_time": "2023-09-01T11:01:41.965Z"
   },
   {
    "duration": 6,
    "start_time": "2023-09-01T11:01:41.979Z"
   },
   {
    "duration": 14,
    "start_time": "2023-09-01T11:01:41.986Z"
   },
   {
    "duration": 1470,
    "start_time": "2023-09-01T11:01:42.001Z"
   },
   {
    "duration": 2463,
    "start_time": "2023-09-01T11:01:43.473Z"
   },
   {
    "duration": 3197,
    "start_time": "2023-09-01T11:01:45.938Z"
   },
   {
    "duration": 3639,
    "start_time": "2023-09-01T11:01:49.137Z"
   },
   {
    "duration": 4,
    "start_time": "2023-09-01T11:02:31.589Z"
   },
   {
    "duration": 6,
    "start_time": "2023-09-01T11:02:31.595Z"
   },
   {
    "duration": 50,
    "start_time": "2023-09-01T11:02:31.602Z"
   },
   {
    "duration": 10,
    "start_time": "2023-09-01T11:02:31.653Z"
   },
   {
    "duration": 56,
    "start_time": "2023-09-01T11:02:31.666Z"
   },
   {
    "duration": 33,
    "start_time": "2023-09-01T11:02:31.723Z"
   },
   {
    "duration": 24,
    "start_time": "2023-09-01T11:02:31.758Z"
   },
   {
    "duration": 966,
    "start_time": "2023-09-01T11:02:31.784Z"
   },
   {
    "duration": 6,
    "start_time": "2023-09-01T11:02:32.752Z"
   },
   {
    "duration": 10,
    "start_time": "2023-09-01T11:02:32.760Z"
   },
   {
    "duration": 8,
    "start_time": "2023-09-01T11:02:32.782Z"
   },
   {
    "duration": 179,
    "start_time": "2023-09-01T11:02:32.792Z"
   },
   {
    "duration": 8,
    "start_time": "2023-09-01T11:02:32.973Z"
   },
   {
    "duration": 8,
    "start_time": "2023-09-01T11:02:32.983Z"
   },
   {
    "duration": 168,
    "start_time": "2023-09-01T11:02:32.992Z"
   },
   {
    "duration": 4,
    "start_time": "2023-09-01T11:02:33.162Z"
   },
   {
    "duration": 15,
    "start_time": "2023-09-01T11:02:33.168Z"
   },
   {
    "duration": 183,
    "start_time": "2023-09-01T11:02:33.185Z"
   },
   {
    "duration": 4,
    "start_time": "2023-09-01T11:02:33.369Z"
   },
   {
    "duration": 8,
    "start_time": "2023-09-01T11:02:33.381Z"
   },
   {
    "duration": 167,
    "start_time": "2023-09-01T11:02:33.390Z"
   },
   {
    "duration": 4,
    "start_time": "2023-09-01T11:02:33.559Z"
   },
   {
    "duration": 20,
    "start_time": "2023-09-01T11:02:33.564Z"
   },
   {
    "duration": 28,
    "start_time": "2023-09-01T11:02:33.586Z"
   },
   {
    "duration": 17,
    "start_time": "2023-09-01T11:02:33.616Z"
   },
   {
    "duration": 5,
    "start_time": "2023-09-01T11:02:33.635Z"
   },
   {
    "duration": 13,
    "start_time": "2023-09-01T11:02:33.641Z"
   },
   {
    "duration": 21,
    "start_time": "2023-09-01T11:02:33.656Z"
   },
   {
    "duration": 23,
    "start_time": "2023-09-01T11:02:33.682Z"
   },
   {
    "duration": 8,
    "start_time": "2023-09-01T11:02:33.707Z"
   },
   {
    "duration": 8,
    "start_time": "2023-09-01T11:02:33.717Z"
   },
   {
    "duration": 9,
    "start_time": "2023-09-01T11:02:33.727Z"
   },
   {
    "duration": 5,
    "start_time": "2023-09-01T11:02:33.737Z"
   },
   {
    "duration": 11,
    "start_time": "2023-09-01T11:02:33.744Z"
   },
   {
    "duration": 17,
    "start_time": "2023-09-01T11:02:33.756Z"
   },
   {
    "duration": 5,
    "start_time": "2023-09-01T11:02:33.775Z"
   },
   {
    "duration": 6,
    "start_time": "2023-09-01T11:02:33.782Z"
   },
   {
    "duration": 11,
    "start_time": "2023-09-01T11:02:33.789Z"
   },
   {
    "duration": 4,
    "start_time": "2023-09-01T11:02:33.802Z"
   },
   {
    "duration": 6,
    "start_time": "2023-09-01T11:02:33.808Z"
   },
   {
    "duration": 4,
    "start_time": "2023-09-01T11:02:33.816Z"
   },
   {
    "duration": 19,
    "start_time": "2023-09-01T11:02:33.822Z"
   },
   {
    "duration": 5,
    "start_time": "2023-09-01T11:02:33.842Z"
   },
   {
    "duration": 11,
    "start_time": "2023-09-01T11:02:33.849Z"
   },
   {
    "duration": 21,
    "start_time": "2023-09-01T11:02:33.862Z"
   },
   {
    "duration": 12,
    "start_time": "2023-09-01T11:02:33.885Z"
   },
   {
    "duration": 6,
    "start_time": "2023-09-01T11:02:33.899Z"
   },
   {
    "duration": 5,
    "start_time": "2023-09-01T11:02:33.907Z"
   },
   {
    "duration": 6,
    "start_time": "2023-09-01T11:02:33.914Z"
   },
   {
    "duration": 10,
    "start_time": "2023-09-01T11:02:33.921Z"
   },
   {
    "duration": 10,
    "start_time": "2023-09-01T11:02:33.933Z"
   },
   {
    "duration": 1561,
    "start_time": "2023-09-01T11:02:33.946Z"
   },
   {
    "duration": 2772,
    "start_time": "2023-09-01T11:02:35.509Z"
   },
   {
    "duration": 3232,
    "start_time": "2023-09-01T11:02:38.282Z"
   },
   {
    "duration": 4112,
    "start_time": "2023-09-01T11:02:41.516Z"
   },
   {
    "duration": 5,
    "start_time": "2023-09-01T11:03:14.856Z"
   },
   {
    "duration": 26,
    "start_time": "2023-09-01T11:03:14.864Z"
   },
   {
    "duration": 33,
    "start_time": "2023-09-01T11:03:14.892Z"
   },
   {
    "duration": 11,
    "start_time": "2023-09-01T11:03:14.927Z"
   },
   {
    "duration": 16,
    "start_time": "2023-09-01T11:03:14.940Z"
   },
   {
    "duration": 23,
    "start_time": "2023-09-01T11:03:14.958Z"
   },
   {
    "duration": 22,
    "start_time": "2023-09-01T11:03:14.983Z"
   },
   {
    "duration": 1177,
    "start_time": "2023-09-01T11:03:15.007Z"
   },
   {
    "duration": 7,
    "start_time": "2023-09-01T11:03:16.186Z"
   },
   {
    "duration": 11,
    "start_time": "2023-09-01T11:03:16.195Z"
   },
   {
    "duration": 10,
    "start_time": "2023-09-01T11:03:16.209Z"
   },
   {
    "duration": 194,
    "start_time": "2023-09-01T11:03:16.221Z"
   },
   {
    "duration": 5,
    "start_time": "2023-09-01T11:03:16.418Z"
   },
   {
    "duration": 9,
    "start_time": "2023-09-01T11:03:16.425Z"
   },
   {
    "duration": 223,
    "start_time": "2023-09-01T11:03:16.436Z"
   },
   {
    "duration": 6,
    "start_time": "2023-09-01T11:03:16.661Z"
   },
   {
    "duration": 11,
    "start_time": "2023-09-01T11:03:16.682Z"
   },
   {
    "duration": 229,
    "start_time": "2023-09-01T11:03:16.696Z"
   },
   {
    "duration": 5,
    "start_time": "2023-09-01T11:03:16.926Z"
   },
   {
    "duration": 30,
    "start_time": "2023-09-01T11:03:16.933Z"
   },
   {
    "duration": 161,
    "start_time": "2023-09-01T11:03:16.964Z"
   },
   {
    "duration": 5,
    "start_time": "2023-09-01T11:03:17.126Z"
   },
   {
    "duration": 15,
    "start_time": "2023-09-01T11:03:17.133Z"
   },
   {
    "duration": 11,
    "start_time": "2023-09-01T11:03:17.149Z"
   },
   {
    "duration": 23,
    "start_time": "2023-09-01T11:03:17.162Z"
   },
   {
    "duration": 5,
    "start_time": "2023-09-01T11:03:17.188Z"
   },
   {
    "duration": 13,
    "start_time": "2023-09-01T11:03:17.196Z"
   },
   {
    "duration": 9,
    "start_time": "2023-09-01T11:03:17.211Z"
   },
   {
    "duration": 11,
    "start_time": "2023-09-01T11:03:17.221Z"
   },
   {
    "duration": 4,
    "start_time": "2023-09-01T11:03:17.234Z"
   },
   {
    "duration": 7,
    "start_time": "2023-09-01T11:03:17.240Z"
   },
   {
    "duration": 13,
    "start_time": "2023-09-01T11:03:17.249Z"
   },
   {
    "duration": 21,
    "start_time": "2023-09-01T11:03:17.264Z"
   },
   {
    "duration": 8,
    "start_time": "2023-09-01T11:03:17.287Z"
   },
   {
    "duration": 10,
    "start_time": "2023-09-01T11:03:17.297Z"
   },
   {
    "duration": 6,
    "start_time": "2023-09-01T11:03:17.309Z"
   },
   {
    "duration": 2,
    "start_time": "2023-09-01T11:03:17.319Z"
   },
   {
    "duration": 21,
    "start_time": "2023-09-01T11:03:17.322Z"
   },
   {
    "duration": 9,
    "start_time": "2023-09-01T11:03:17.345Z"
   },
   {
    "duration": 5,
    "start_time": "2023-09-01T11:03:17.356Z"
   },
   {
    "duration": 19,
    "start_time": "2023-09-01T11:03:17.362Z"
   },
   {
    "duration": 17,
    "start_time": "2023-09-01T11:03:17.383Z"
   },
   {
    "duration": 6,
    "start_time": "2023-09-01T11:03:17.402Z"
   },
   {
    "duration": 16,
    "start_time": "2023-09-01T11:03:17.410Z"
   },
   {
    "duration": 24,
    "start_time": "2023-09-01T11:03:17.431Z"
   },
   {
    "duration": 17,
    "start_time": "2023-09-01T11:03:17.457Z"
   },
   {
    "duration": 14,
    "start_time": "2023-09-01T11:03:17.476Z"
   },
   {
    "duration": 11,
    "start_time": "2023-09-01T11:03:17.492Z"
   },
   {
    "duration": 6,
    "start_time": "2023-09-01T11:03:17.504Z"
   },
   {
    "duration": 14,
    "start_time": "2023-09-01T11:03:17.512Z"
   },
   {
    "duration": 25,
    "start_time": "2023-09-01T11:03:17.528Z"
   },
   {
    "duration": 3032,
    "start_time": "2023-09-01T11:03:17.555Z"
   },
   {
    "duration": 4925,
    "start_time": "2023-09-01T11:03:20.589Z"
   },
   {
    "duration": 6567,
    "start_time": "2023-09-01T11:03:25.516Z"
   },
   {
    "duration": 7620,
    "start_time": "2023-09-01T11:03:32.085Z"
   },
   {
    "duration": 31024,
    "start_time": "2023-09-01T11:03:51.562Z"
   },
   {
    "duration": 43398,
    "start_time": "2023-09-01T11:04:22.588Z"
   },
   {
    "duration": 43501,
    "start_time": "2023-09-01T11:05:05.988Z"
   },
   {
    "duration": 4,
    "start_time": "2023-09-01T11:06:19.095Z"
   },
   {
    "duration": 21,
    "start_time": "2023-09-01T11:06:19.101Z"
   },
   {
    "duration": 37,
    "start_time": "2023-09-01T11:06:19.124Z"
   },
   {
    "duration": 10,
    "start_time": "2023-09-01T11:06:19.163Z"
   },
   {
    "duration": 25,
    "start_time": "2023-09-01T11:06:19.175Z"
   },
   {
    "duration": 23,
    "start_time": "2023-09-01T11:06:19.202Z"
   },
   {
    "duration": 19,
    "start_time": "2023-09-01T11:06:19.228Z"
   },
   {
    "duration": 1056,
    "start_time": "2023-09-01T11:06:19.249Z"
   },
   {
    "duration": 7,
    "start_time": "2023-09-01T11:06:20.307Z"
   },
   {
    "duration": 19,
    "start_time": "2023-09-01T11:06:20.316Z"
   },
   {
    "duration": 17,
    "start_time": "2023-09-01T11:06:20.339Z"
   },
   {
    "duration": 181,
    "start_time": "2023-09-01T11:06:20.358Z"
   },
   {
    "duration": 5,
    "start_time": "2023-09-01T11:06:20.540Z"
   },
   {
    "duration": 45,
    "start_time": "2023-09-01T11:06:20.547Z"
   },
   {
    "duration": 163,
    "start_time": "2023-09-01T11:06:20.593Z"
   },
   {
    "duration": 5,
    "start_time": "2023-09-01T11:06:20.757Z"
   },
   {
    "duration": 25,
    "start_time": "2023-09-01T11:06:20.763Z"
   },
   {
    "duration": 181,
    "start_time": "2023-09-01T11:06:20.789Z"
   },
   {
    "duration": 9,
    "start_time": "2023-09-01T11:06:20.972Z"
   },
   {
    "duration": 21,
    "start_time": "2023-09-01T11:06:20.983Z"
   },
   {
    "duration": 165,
    "start_time": "2023-09-01T11:06:21.006Z"
   },
   {
    "duration": 13,
    "start_time": "2023-09-01T11:06:21.173Z"
   },
   {
    "duration": 12,
    "start_time": "2023-09-01T11:06:21.187Z"
   },
   {
    "duration": 26,
    "start_time": "2023-09-01T11:06:21.201Z"
   },
   {
    "duration": 14,
    "start_time": "2023-09-01T11:06:21.229Z"
   },
   {
    "duration": 21,
    "start_time": "2023-09-01T11:06:21.245Z"
   },
   {
    "duration": 35,
    "start_time": "2023-09-01T11:06:21.268Z"
   },
   {
    "duration": 20,
    "start_time": "2023-09-01T11:06:21.305Z"
   },
   {
    "duration": 44,
    "start_time": "2023-09-01T11:06:21.329Z"
   },
   {
    "duration": 23,
    "start_time": "2023-09-01T11:06:21.374Z"
   },
   {
    "duration": 32,
    "start_time": "2023-09-01T11:06:21.399Z"
   },
   {
    "duration": 28,
    "start_time": "2023-09-01T11:06:21.433Z"
   },
   {
    "duration": 19,
    "start_time": "2023-09-01T11:06:21.463Z"
   },
   {
    "duration": 24,
    "start_time": "2023-09-01T11:06:21.484Z"
   },
   {
    "duration": 23,
    "start_time": "2023-09-01T11:06:21.510Z"
   },
   {
    "duration": 21,
    "start_time": "2023-09-01T11:06:21.535Z"
   },
   {
    "duration": 28,
    "start_time": "2023-09-01T11:06:21.558Z"
   },
   {
    "duration": 25,
    "start_time": "2023-09-01T11:06:21.588Z"
   },
   {
    "duration": 22,
    "start_time": "2023-09-01T11:06:21.615Z"
   },
   {
    "duration": 19,
    "start_time": "2023-09-01T11:06:21.639Z"
   },
   {
    "duration": 28,
    "start_time": "2023-09-01T11:06:21.660Z"
   },
   {
    "duration": 32,
    "start_time": "2023-09-01T11:06:21.690Z"
   },
   {
    "duration": 4,
    "start_time": "2023-09-01T11:06:21.725Z"
   },
   {
    "duration": 23,
    "start_time": "2023-09-01T11:06:21.730Z"
   },
   {
    "duration": 25,
    "start_time": "2023-09-01T11:06:21.754Z"
   },
   {
    "duration": 30,
    "start_time": "2023-09-01T11:06:21.781Z"
   },
   {
    "duration": 16,
    "start_time": "2023-09-01T11:06:21.813Z"
   },
   {
    "duration": 34,
    "start_time": "2023-09-01T11:06:21.831Z"
   },
   {
    "duration": 6,
    "start_time": "2023-09-01T11:06:21.867Z"
   },
   {
    "duration": 6,
    "start_time": "2023-09-01T11:06:21.875Z"
   },
   {
    "duration": 10,
    "start_time": "2023-09-01T11:06:21.882Z"
   },
   {
    "duration": 4541,
    "start_time": "2023-09-01T11:06:21.894Z"
   },
   {
    "duration": 7638,
    "start_time": "2023-09-01T11:06:26.436Z"
   },
   {
    "duration": 9745,
    "start_time": "2023-09-01T11:06:34.076Z"
   },
   {
    "duration": 11556,
    "start_time": "2023-09-01T11:06:43.822Z"
   },
   {
    "duration": 4,
    "start_time": "2023-09-01T11:07:38.044Z"
   },
   {
    "duration": 8,
    "start_time": "2023-09-01T11:07:38.050Z"
   },
   {
    "duration": 31,
    "start_time": "2023-09-01T11:07:38.059Z"
   },
   {
    "duration": 11,
    "start_time": "2023-09-01T11:07:38.091Z"
   },
   {
    "duration": 15,
    "start_time": "2023-09-01T11:07:38.104Z"
   },
   {
    "duration": 9,
    "start_time": "2023-09-01T11:07:38.121Z"
   },
   {
    "duration": 6,
    "start_time": "2023-09-01T11:07:38.132Z"
   },
   {
    "duration": 949,
    "start_time": "2023-09-01T11:07:38.141Z"
   },
   {
    "duration": 8,
    "start_time": "2023-09-01T11:07:39.092Z"
   },
   {
    "duration": 13,
    "start_time": "2023-09-01T11:07:39.102Z"
   },
   {
    "duration": 22,
    "start_time": "2023-09-01T11:07:39.118Z"
   },
   {
    "duration": 165,
    "start_time": "2023-09-01T11:07:39.142Z"
   },
   {
    "duration": 4,
    "start_time": "2023-09-01T11:07:39.309Z"
   },
   {
    "duration": 10,
    "start_time": "2023-09-01T11:07:39.315Z"
   },
   {
    "duration": 387,
    "start_time": "2023-09-01T11:07:39.327Z"
   },
   {
    "duration": 5,
    "start_time": "2023-09-01T11:07:39.715Z"
   },
   {
    "duration": 19,
    "start_time": "2023-09-01T11:07:39.722Z"
   },
   {
    "duration": 182,
    "start_time": "2023-09-01T11:07:39.742Z"
   },
   {
    "duration": 5,
    "start_time": "2023-09-01T11:07:39.926Z"
   },
   {
    "duration": 16,
    "start_time": "2023-09-01T11:07:39.932Z"
   },
   {
    "duration": 180,
    "start_time": "2023-09-01T11:07:39.950Z"
   },
   {
    "duration": 5,
    "start_time": "2023-09-01T11:07:40.132Z"
   },
   {
    "duration": 9,
    "start_time": "2023-09-01T11:07:40.139Z"
   },
   {
    "duration": 35,
    "start_time": "2023-09-01T11:07:40.150Z"
   },
   {
    "duration": 19,
    "start_time": "2023-09-01T11:07:40.187Z"
   },
   {
    "duration": 10,
    "start_time": "2023-09-01T11:07:40.209Z"
   },
   {
    "duration": 13,
    "start_time": "2023-09-01T11:07:40.221Z"
   },
   {
    "duration": 75,
    "start_time": "2023-09-01T11:07:40.235Z"
   },
   {
    "duration": 23,
    "start_time": "2023-09-01T11:07:40.314Z"
   },
   {
    "duration": 19,
    "start_time": "2023-09-01T11:07:40.338Z"
   },
   {
    "duration": 28,
    "start_time": "2023-09-01T11:07:40.358Z"
   },
   {
    "duration": 25,
    "start_time": "2023-09-01T11:07:40.388Z"
   },
   {
    "duration": 45,
    "start_time": "2023-09-01T11:07:40.415Z"
   },
   {
    "duration": 51,
    "start_time": "2023-09-01T11:07:40.462Z"
   },
   {
    "duration": 30,
    "start_time": "2023-09-01T11:07:40.515Z"
   },
   {
    "duration": 34,
    "start_time": "2023-09-01T11:07:40.547Z"
   },
   {
    "duration": 32,
    "start_time": "2023-09-01T11:07:40.582Z"
   },
   {
    "duration": 17,
    "start_time": "2023-09-01T11:07:40.616Z"
   },
   {
    "duration": 48,
    "start_time": "2023-09-01T11:07:40.635Z"
   },
   {
    "duration": 48,
    "start_time": "2023-09-01T11:07:40.685Z"
   },
   {
    "duration": 29,
    "start_time": "2023-09-01T11:07:40.735Z"
   },
   {
    "duration": 58,
    "start_time": "2023-09-01T11:07:40.766Z"
   },
   {
    "duration": 18,
    "start_time": "2023-09-01T11:07:40.826Z"
   },
   {
    "duration": 53,
    "start_time": "2023-09-01T11:07:40.846Z"
   },
   {
    "duration": 56,
    "start_time": "2023-09-01T11:07:40.901Z"
   },
   {
    "duration": 32,
    "start_time": "2023-09-01T11:07:40.959Z"
   },
   {
    "duration": 37,
    "start_time": "2023-09-01T11:07:40.993Z"
   },
   {
    "duration": 28,
    "start_time": "2023-09-01T11:07:41.033Z"
   },
   {
    "duration": 31,
    "start_time": "2023-09-01T11:07:41.063Z"
   },
   {
    "duration": 22,
    "start_time": "2023-09-01T11:07:41.096Z"
   },
   {
    "duration": 5890,
    "start_time": "2023-09-01T11:07:41.120Z"
   },
   {
    "duration": 9754,
    "start_time": "2023-09-01T11:07:47.012Z"
   },
   {
    "duration": 13166,
    "start_time": "2023-09-01T11:07:56.768Z"
   },
   {
    "duration": 5,
    "start_time": "2023-09-01T11:08:25.496Z"
   },
   {
    "duration": 31,
    "start_time": "2023-09-01T11:08:25.502Z"
   },
   {
    "duration": 42,
    "start_time": "2023-09-01T11:08:25.536Z"
   },
   {
    "duration": 12,
    "start_time": "2023-09-01T11:08:25.580Z"
   },
   {
    "duration": 26,
    "start_time": "2023-09-01T11:08:25.594Z"
   },
   {
    "duration": 15,
    "start_time": "2023-09-01T11:08:25.622Z"
   },
   {
    "duration": 22,
    "start_time": "2023-09-01T11:08:25.639Z"
   },
   {
    "duration": 964,
    "start_time": "2023-09-01T11:08:25.663Z"
   },
   {
    "duration": 6,
    "start_time": "2023-09-01T11:08:26.629Z"
   },
   {
    "duration": 7,
    "start_time": "2023-09-01T11:08:26.637Z"
   },
   {
    "duration": 12,
    "start_time": "2023-09-01T11:08:26.647Z"
   },
   {
    "duration": 233,
    "start_time": "2023-09-01T11:08:26.661Z"
   },
   {
    "duration": 6,
    "start_time": "2023-09-01T11:08:26.896Z"
   },
   {
    "duration": 21,
    "start_time": "2023-09-01T11:08:26.904Z"
   },
   {
    "duration": 175,
    "start_time": "2023-09-01T11:08:26.928Z"
   },
   {
    "duration": 5,
    "start_time": "2023-09-01T11:08:27.105Z"
   },
   {
    "duration": 20,
    "start_time": "2023-09-01T11:08:27.112Z"
   },
   {
    "duration": 227,
    "start_time": "2023-09-01T11:08:27.134Z"
   },
   {
    "duration": 5,
    "start_time": "2023-09-01T11:08:27.363Z"
   },
   {
    "duration": 13,
    "start_time": "2023-09-01T11:08:27.382Z"
   },
   {
    "duration": 159,
    "start_time": "2023-09-01T11:08:27.397Z"
   },
   {
    "duration": 5,
    "start_time": "2023-09-01T11:08:27.558Z"
   },
   {
    "duration": 17,
    "start_time": "2023-09-01T11:08:27.565Z"
   },
   {
    "duration": 15,
    "start_time": "2023-09-01T11:08:27.584Z"
   },
   {
    "duration": 11,
    "start_time": "2023-09-01T11:08:27.601Z"
   },
   {
    "duration": 9,
    "start_time": "2023-09-01T11:08:27.614Z"
   },
   {
    "duration": 16,
    "start_time": "2023-09-01T11:08:27.625Z"
   },
   {
    "duration": 11,
    "start_time": "2023-09-01T11:08:27.643Z"
   },
   {
    "duration": 16,
    "start_time": "2023-09-01T11:08:27.659Z"
   },
   {
    "duration": 5,
    "start_time": "2023-09-01T11:08:27.681Z"
   },
   {
    "duration": 19,
    "start_time": "2023-09-01T11:08:27.687Z"
   },
   {
    "duration": 22,
    "start_time": "2023-09-01T11:08:27.708Z"
   },
   {
    "duration": 10,
    "start_time": "2023-09-01T11:08:27.732Z"
   },
   {
    "duration": 18,
    "start_time": "2023-09-01T11:08:27.744Z"
   },
   {
    "duration": 17,
    "start_time": "2023-09-01T11:08:27.763Z"
   },
   {
    "duration": 19,
    "start_time": "2023-09-01T11:08:27.781Z"
   },
   {
    "duration": 17,
    "start_time": "2023-09-01T11:08:27.802Z"
   },
   {
    "duration": 16,
    "start_time": "2023-09-01T11:08:27.821Z"
   },
   {
    "duration": 10,
    "start_time": "2023-09-01T11:08:27.839Z"
   },
   {
    "duration": 12,
    "start_time": "2023-09-01T11:08:27.850Z"
   },
   {
    "duration": 16,
    "start_time": "2023-09-01T11:08:27.864Z"
   },
   {
    "duration": 25,
    "start_time": "2023-09-01T11:08:27.882Z"
   },
   {
    "duration": 4,
    "start_time": "2023-09-01T11:08:27.909Z"
   },
   {
    "duration": 7,
    "start_time": "2023-09-01T11:08:27.915Z"
   },
   {
    "duration": 16,
    "start_time": "2023-09-01T11:08:27.923Z"
   },
   {
    "duration": 7,
    "start_time": "2023-09-01T11:08:27.941Z"
   },
   {
    "duration": 17,
    "start_time": "2023-09-01T11:08:27.949Z"
   },
   {
    "duration": 6,
    "start_time": "2023-09-01T11:08:27.967Z"
   },
   {
    "duration": 32,
    "start_time": "2023-09-01T11:08:27.975Z"
   },
   {
    "duration": 25,
    "start_time": "2023-09-01T11:08:28.008Z"
   },
   {
    "duration": 7300,
    "start_time": "2023-09-01T11:08:28.034Z"
   },
   {
    "duration": 12288,
    "start_time": "2023-09-01T11:08:35.337Z"
   },
   {
    "duration": 15602,
    "start_time": "2023-09-01T11:08:47.626Z"
   },
   {
    "duration": 4,
    "start_time": "2023-09-01T11:09:29.693Z"
   },
   {
    "duration": 7,
    "start_time": "2023-09-01T11:09:29.698Z"
   },
   {
    "duration": 39,
    "start_time": "2023-09-01T11:09:29.707Z"
   },
   {
    "duration": 10,
    "start_time": "2023-09-01T11:09:29.748Z"
   },
   {
    "duration": 17,
    "start_time": "2023-09-01T11:09:29.760Z"
   },
   {
    "duration": 17,
    "start_time": "2023-09-01T11:09:29.779Z"
   },
   {
    "duration": 11,
    "start_time": "2023-09-01T11:09:29.798Z"
   },
   {
    "duration": 951,
    "start_time": "2023-09-01T11:09:29.811Z"
   },
   {
    "duration": 6,
    "start_time": "2023-09-01T11:09:30.764Z"
   },
   {
    "duration": 49,
    "start_time": "2023-09-01T11:09:30.780Z"
   },
   {
    "duration": 92,
    "start_time": "2023-09-01T11:09:30.830Z"
   },
   {
    "duration": 187,
    "start_time": "2023-09-01T11:09:30.924Z"
   },
   {
    "duration": 4,
    "start_time": "2023-09-01T11:09:31.114Z"
   },
   {
    "duration": 64,
    "start_time": "2023-09-01T11:09:31.119Z"
   },
   {
    "duration": 189,
    "start_time": "2023-09-01T11:09:31.185Z"
   },
   {
    "duration": 5,
    "start_time": "2023-09-01T11:09:31.376Z"
   },
   {
    "duration": 69,
    "start_time": "2023-09-01T11:09:31.383Z"
   },
   {
    "duration": 241,
    "start_time": "2023-09-01T11:09:31.454Z"
   },
   {
    "duration": 4,
    "start_time": "2023-09-01T11:09:31.697Z"
   },
   {
    "duration": 37,
    "start_time": "2023-09-01T11:09:31.703Z"
   },
   {
    "duration": 173,
    "start_time": "2023-09-01T11:09:31.742Z"
   },
   {
    "duration": 5,
    "start_time": "2023-09-01T11:09:31.917Z"
   },
   {
    "duration": 33,
    "start_time": "2023-09-01T11:09:31.923Z"
   },
   {
    "duration": 28,
    "start_time": "2023-09-01T11:09:31.958Z"
   },
   {
    "duration": 29,
    "start_time": "2023-09-01T11:09:31.990Z"
   },
   {
    "duration": 26,
    "start_time": "2023-09-01T11:09:32.021Z"
   },
   {
    "duration": 27,
    "start_time": "2023-09-01T11:09:32.048Z"
   },
   {
    "duration": 35,
    "start_time": "2023-09-01T11:09:32.076Z"
   },
   {
    "duration": 19,
    "start_time": "2023-09-01T11:09:32.113Z"
   },
   {
    "duration": 42,
    "start_time": "2023-09-01T11:09:32.134Z"
   },
   {
    "duration": 12,
    "start_time": "2023-09-01T11:09:32.178Z"
   },
   {
    "duration": 4,
    "start_time": "2023-09-01T11:09:32.192Z"
   },
   {
    "duration": 12,
    "start_time": "2023-09-01T11:09:32.198Z"
   },
   {
    "duration": 17,
    "start_time": "2023-09-01T11:09:32.212Z"
   },
   {
    "duration": 33,
    "start_time": "2023-09-01T11:09:32.231Z"
   },
   {
    "duration": 22,
    "start_time": "2023-09-01T11:09:32.266Z"
   },
   {
    "duration": 14,
    "start_time": "2023-09-01T11:09:32.290Z"
   },
   {
    "duration": 14,
    "start_time": "2023-09-01T11:09:32.305Z"
   },
   {
    "duration": 20,
    "start_time": "2023-09-01T11:09:32.321Z"
   },
   {
    "duration": 14,
    "start_time": "2023-09-01T11:09:32.343Z"
   },
   {
    "duration": 31,
    "start_time": "2023-09-01T11:09:32.358Z"
   },
   {
    "duration": 37,
    "start_time": "2023-09-01T11:09:32.390Z"
   },
   {
    "duration": 4,
    "start_time": "2023-09-01T11:09:32.429Z"
   },
   {
    "duration": 33,
    "start_time": "2023-09-01T11:09:32.434Z"
   },
   {
    "duration": 21,
    "start_time": "2023-09-01T11:09:32.469Z"
   },
   {
    "duration": 6,
    "start_time": "2023-09-01T11:09:32.491Z"
   },
   {
    "duration": 12,
    "start_time": "2023-09-01T11:09:32.499Z"
   },
   {
    "duration": 7,
    "start_time": "2023-09-01T11:09:32.512Z"
   },
   {
    "duration": 9,
    "start_time": "2023-09-01T11:09:32.521Z"
   },
   {
    "duration": 8,
    "start_time": "2023-09-01T11:09:32.531Z"
   },
   {
    "duration": 15041,
    "start_time": "2023-09-01T11:09:32.541Z"
   },
   {
    "duration": 24505,
    "start_time": "2023-09-01T11:09:47.584Z"
   },
   {
    "duration": 30761,
    "start_time": "2023-09-01T11:10:12.091Z"
   },
   {
    "duration": 6,
    "start_time": "2023-09-01T11:11:05.697Z"
   },
   {
    "duration": 29,
    "start_time": "2023-09-01T11:11:05.705Z"
   },
   {
    "duration": 36,
    "start_time": "2023-09-01T11:11:05.737Z"
   },
   {
    "duration": 14,
    "start_time": "2023-09-01T11:11:05.775Z"
   },
   {
    "duration": 26,
    "start_time": "2023-09-01T11:11:05.791Z"
   },
   {
    "duration": 41,
    "start_time": "2023-09-01T11:11:05.819Z"
   },
   {
    "duration": 16,
    "start_time": "2023-09-01T11:11:05.862Z"
   },
   {
    "duration": 1032,
    "start_time": "2023-09-01T11:11:05.879Z"
   },
   {
    "duration": 5,
    "start_time": "2023-09-01T11:11:06.914Z"
   },
   {
    "duration": 9,
    "start_time": "2023-09-01T11:11:06.920Z"
   },
   {
    "duration": 16,
    "start_time": "2023-09-01T11:11:06.931Z"
   },
   {
    "duration": 434,
    "start_time": "2023-09-01T11:11:06.949Z"
   },
   {
    "duration": 5,
    "start_time": "2023-09-01T11:11:07.384Z"
   },
   {
    "duration": 33,
    "start_time": "2023-09-01T11:11:07.391Z"
   },
   {
    "duration": 150,
    "start_time": "2023-09-01T11:11:07.427Z"
   },
   {
    "duration": 4,
    "start_time": "2023-09-01T11:11:07.581Z"
   },
   {
    "duration": 12,
    "start_time": "2023-09-01T11:11:07.587Z"
   },
   {
    "duration": 182,
    "start_time": "2023-09-01T11:11:07.601Z"
   },
   {
    "duration": 5,
    "start_time": "2023-09-01T11:11:07.785Z"
   },
   {
    "duration": 19,
    "start_time": "2023-09-01T11:11:07.791Z"
   },
   {
    "duration": 151,
    "start_time": "2023-09-01T11:11:07.812Z"
   },
   {
    "duration": 4,
    "start_time": "2023-09-01T11:11:07.965Z"
   },
   {
    "duration": 17,
    "start_time": "2023-09-01T11:11:07.970Z"
   },
   {
    "duration": 13,
    "start_time": "2023-09-01T11:11:07.990Z"
   },
   {
    "duration": 5,
    "start_time": "2023-09-01T11:11:08.004Z"
   },
   {
    "duration": 6,
    "start_time": "2023-09-01T11:11:08.010Z"
   },
   {
    "duration": 24,
    "start_time": "2023-09-01T11:11:08.018Z"
   },
   {
    "duration": 10,
    "start_time": "2023-09-01T11:11:08.043Z"
   },
   {
    "duration": 15,
    "start_time": "2023-09-01T11:11:08.055Z"
   },
   {
    "duration": 10,
    "start_time": "2023-09-01T11:11:08.072Z"
   },
   {
    "duration": 21,
    "start_time": "2023-09-01T11:11:08.084Z"
   },
   {
    "duration": 6,
    "start_time": "2023-09-01T11:11:08.107Z"
   },
   {
    "duration": 10,
    "start_time": "2023-09-01T11:11:08.115Z"
   },
   {
    "duration": 14,
    "start_time": "2023-09-01T11:11:08.127Z"
   },
   {
    "duration": 6,
    "start_time": "2023-09-01T11:11:08.142Z"
   },
   {
    "duration": 6,
    "start_time": "2023-09-01T11:11:08.150Z"
   },
   {
    "duration": 10,
    "start_time": "2023-09-01T11:11:08.158Z"
   },
   {
    "duration": 4,
    "start_time": "2023-09-01T11:11:08.170Z"
   },
   {
    "duration": 15,
    "start_time": "2023-09-01T11:11:08.176Z"
   },
   {
    "duration": 9,
    "start_time": "2023-09-01T11:11:08.192Z"
   },
   {
    "duration": 5,
    "start_time": "2023-09-01T11:11:08.202Z"
   },
   {
    "duration": 25,
    "start_time": "2023-09-01T11:11:08.209Z"
   },
   {
    "duration": 4,
    "start_time": "2023-09-01T11:11:08.236Z"
   },
   {
    "duration": 6,
    "start_time": "2023-09-01T11:11:08.242Z"
   },
   {
    "duration": 4,
    "start_time": "2023-09-01T11:11:08.250Z"
   },
   {
    "duration": 15,
    "start_time": "2023-09-01T11:11:08.256Z"
   },
   {
    "duration": 17,
    "start_time": "2023-09-01T11:11:08.273Z"
   },
   {
    "duration": 20,
    "start_time": "2023-09-01T11:11:08.291Z"
   },
   {
    "duration": 16,
    "start_time": "2023-09-01T11:11:08.313Z"
   },
   {
    "duration": 7,
    "start_time": "2023-09-01T11:11:08.330Z"
   },
   {
    "duration": 19785,
    "start_time": "2023-09-01T11:11:08.338Z"
   },
   {
    "duration": 32794,
    "start_time": "2023-09-01T11:11:28.125Z"
   },
   {
    "duration": 42703,
    "start_time": "2023-09-01T11:12:00.920Z"
   },
   {
    "duration": 4,
    "start_time": "2023-09-01T11:13:13.213Z"
   },
   {
    "duration": 10,
    "start_time": "2023-09-01T11:13:13.219Z"
   },
   {
    "duration": 33,
    "start_time": "2023-09-01T11:13:13.231Z"
   },
   {
    "duration": 10,
    "start_time": "2023-09-01T11:13:13.266Z"
   },
   {
    "duration": 14,
    "start_time": "2023-09-01T11:13:13.279Z"
   },
   {
    "duration": 16,
    "start_time": "2023-09-01T11:13:13.295Z"
   },
   {
    "duration": 13,
    "start_time": "2023-09-01T11:13:13.313Z"
   },
   {
    "duration": 970,
    "start_time": "2023-09-01T11:13:13.329Z"
   },
   {
    "duration": 5,
    "start_time": "2023-09-01T11:13:14.303Z"
   },
   {
    "duration": 35,
    "start_time": "2023-09-01T11:13:14.310Z"
   },
   {
    "duration": 10,
    "start_time": "2023-09-01T11:13:14.347Z"
   },
   {
    "duration": 149,
    "start_time": "2023-09-01T11:13:14.358Z"
   },
   {
    "duration": 4,
    "start_time": "2023-09-01T11:13:14.509Z"
   },
   {
    "duration": 9,
    "start_time": "2023-09-01T11:13:14.514Z"
   },
   {
    "duration": 186,
    "start_time": "2023-09-01T11:13:14.525Z"
   },
   {
    "duration": 6,
    "start_time": "2023-09-01T11:13:14.713Z"
   },
   {
    "duration": 9,
    "start_time": "2023-09-01T11:13:14.720Z"
   },
   {
    "duration": 188,
    "start_time": "2023-09-01T11:13:14.730Z"
   },
   {
    "duration": 4,
    "start_time": "2023-09-01T11:13:14.920Z"
   },
   {
    "duration": 7,
    "start_time": "2023-09-01T11:13:14.926Z"
   },
   {
    "duration": 176,
    "start_time": "2023-09-01T11:13:14.935Z"
   },
   {
    "duration": 5,
    "start_time": "2023-09-01T11:13:15.113Z"
   },
   {
    "duration": 75,
    "start_time": "2023-09-01T11:13:15.120Z"
   },
   {
    "duration": 18,
    "start_time": "2023-09-01T11:13:15.199Z"
   },
   {
    "duration": 28,
    "start_time": "2023-09-01T11:13:15.219Z"
   },
   {
    "duration": 52,
    "start_time": "2023-09-01T11:13:15.249Z"
   },
   {
    "duration": 39,
    "start_time": "2023-09-01T11:13:15.303Z"
   },
   {
    "duration": 68,
    "start_time": "2023-09-01T11:13:15.344Z"
   },
   {
    "duration": 26,
    "start_time": "2023-09-01T11:13:15.414Z"
   },
   {
    "duration": 25,
    "start_time": "2023-09-01T11:13:15.441Z"
   },
   {
    "duration": 28,
    "start_time": "2023-09-01T11:13:15.468Z"
   },
   {
    "duration": 34,
    "start_time": "2023-09-01T11:13:15.499Z"
   },
   {
    "duration": 117,
    "start_time": "2023-09-01T11:13:15.535Z"
   },
   {
    "duration": 6,
    "start_time": "2023-09-01T11:13:15.654Z"
   },
   {
    "duration": 8,
    "start_time": "2023-09-01T11:13:15.662Z"
   },
   {
    "duration": 9,
    "start_time": "2023-09-01T11:13:15.671Z"
   },
   {
    "duration": 5,
    "start_time": "2023-09-01T11:13:15.682Z"
   },
   {
    "duration": 4,
    "start_time": "2023-09-01T11:13:15.689Z"
   },
   {
    "duration": 12,
    "start_time": "2023-09-01T11:13:15.695Z"
   },
   {
    "duration": 5,
    "start_time": "2023-09-01T11:13:15.709Z"
   },
   {
    "duration": 15,
    "start_time": "2023-09-01T11:13:15.715Z"
   },
   {
    "duration": 41,
    "start_time": "2023-09-01T11:13:15.731Z"
   },
   {
    "duration": 7,
    "start_time": "2023-09-01T11:13:15.774Z"
   },
   {
    "duration": 6,
    "start_time": "2023-09-01T11:13:15.783Z"
   },
   {
    "duration": 23,
    "start_time": "2023-09-01T11:13:15.791Z"
   },
   {
    "duration": 6,
    "start_time": "2023-09-01T11:13:15.816Z"
   },
   {
    "duration": 5,
    "start_time": "2023-09-01T11:13:15.824Z"
   },
   {
    "duration": 9,
    "start_time": "2023-09-01T11:13:15.831Z"
   },
   {
    "duration": 4,
    "start_time": "2023-09-01T11:13:15.842Z"
   },
   {
    "duration": 7,
    "start_time": "2023-09-01T11:13:15.848Z"
   },
   {
    "duration": 7369,
    "start_time": "2023-09-01T11:13:15.856Z"
   },
   {
    "duration": 12042,
    "start_time": "2023-09-01T11:13:23.227Z"
   },
   {
    "duration": 15470,
    "start_time": "2023-09-01T11:13:35.271Z"
   },
   {
    "duration": 76803,
    "start_time": "2023-09-01T11:14:09.483Z"
   },
   {
    "duration": 106097,
    "start_time": "2023-09-01T11:15:26.288Z"
   },
   {
    "duration": 4,
    "start_time": "2023-09-01T11:18:12.103Z"
   },
   {
    "duration": 23,
    "start_time": "2023-09-01T11:18:12.109Z"
   },
   {
    "duration": 33,
    "start_time": "2023-09-01T11:18:12.134Z"
   },
   {
    "duration": 12,
    "start_time": "2023-09-01T11:18:12.170Z"
   },
   {
    "duration": 23,
    "start_time": "2023-09-01T11:18:12.184Z"
   },
   {
    "duration": 18,
    "start_time": "2023-09-01T11:18:12.209Z"
   },
   {
    "duration": 23,
    "start_time": "2023-09-01T11:18:12.229Z"
   },
   {
    "duration": 943,
    "start_time": "2023-09-01T11:18:12.255Z"
   },
   {
    "duration": 6,
    "start_time": "2023-09-01T11:18:13.201Z"
   },
   {
    "duration": 14,
    "start_time": "2023-09-01T11:18:13.209Z"
   },
   {
    "duration": 11,
    "start_time": "2023-09-01T11:18:13.225Z"
   },
   {
    "duration": 169,
    "start_time": "2023-09-01T11:18:13.237Z"
   },
   {
    "duration": 6,
    "start_time": "2023-09-01T11:18:13.408Z"
   },
   {
    "duration": 18,
    "start_time": "2023-09-01T11:18:13.416Z"
   },
   {
    "duration": 167,
    "start_time": "2023-09-01T11:18:13.436Z"
   },
   {
    "duration": 5,
    "start_time": "2023-09-01T11:18:13.605Z"
   },
   {
    "duration": 18,
    "start_time": "2023-09-01T11:18:13.611Z"
   },
   {
    "duration": 181,
    "start_time": "2023-09-01T11:18:13.630Z"
   },
   {
    "duration": 4,
    "start_time": "2023-09-01T11:18:13.813Z"
   },
   {
    "duration": 11,
    "start_time": "2023-09-01T11:18:13.819Z"
   },
   {
    "duration": 165,
    "start_time": "2023-09-01T11:18:13.832Z"
   },
   {
    "duration": 5,
    "start_time": "2023-09-01T11:18:13.998Z"
   },
   {
    "duration": 9,
    "start_time": "2023-09-01T11:18:14.005Z"
   },
   {
    "duration": 5,
    "start_time": "2023-09-01T11:18:14.018Z"
   },
   {
    "duration": 14,
    "start_time": "2023-09-01T11:18:14.025Z"
   },
   {
    "duration": 9,
    "start_time": "2023-09-01T11:18:14.040Z"
   },
   {
    "duration": 22,
    "start_time": "2023-09-01T11:18:14.050Z"
   },
   {
    "duration": 10,
    "start_time": "2023-09-01T11:18:14.074Z"
   },
   {
    "duration": 12,
    "start_time": "2023-09-01T11:18:14.086Z"
   },
   {
    "duration": 9,
    "start_time": "2023-09-01T11:18:14.100Z"
   },
   {
    "duration": 8,
    "start_time": "2023-09-01T11:18:14.111Z"
   },
   {
    "duration": 8,
    "start_time": "2023-09-01T11:18:14.121Z"
   },
   {
    "duration": 13,
    "start_time": "2023-09-01T11:18:14.131Z"
   },
   {
    "duration": 8,
    "start_time": "2023-09-01T11:18:14.145Z"
   },
   {
    "duration": 6,
    "start_time": "2023-09-01T11:18:14.155Z"
   },
   {
    "duration": 7,
    "start_time": "2023-09-01T11:18:14.163Z"
   },
   {
    "duration": 9,
    "start_time": "2023-09-01T11:18:14.172Z"
   },
   {
    "duration": 5,
    "start_time": "2023-09-01T11:18:14.182Z"
   },
   {
    "duration": 9,
    "start_time": "2023-09-01T11:18:14.189Z"
   },
   {
    "duration": 5,
    "start_time": "2023-09-01T11:18:14.200Z"
   },
   {
    "duration": 7,
    "start_time": "2023-09-01T11:18:14.206Z"
   },
   {
    "duration": 19,
    "start_time": "2023-09-01T11:18:14.215Z"
   },
   {
    "duration": 2,
    "start_time": "2023-09-01T11:18:14.236Z"
   },
   {
    "duration": 7,
    "start_time": "2023-09-01T11:18:14.240Z"
   },
   {
    "duration": 7,
    "start_time": "2023-09-01T11:18:14.249Z"
   },
   {
    "duration": 32,
    "start_time": "2023-09-01T11:18:14.257Z"
   },
   {
    "duration": 9,
    "start_time": "2023-09-01T11:18:14.291Z"
   },
   {
    "duration": 12,
    "start_time": "2023-09-01T11:18:14.302Z"
   },
   {
    "duration": 9,
    "start_time": "2023-09-01T11:18:14.315Z"
   },
   {
    "duration": 15,
    "start_time": "2023-09-01T11:18:14.325Z"
   },
   {
    "duration": 7422,
    "start_time": "2023-09-01T11:18:14.342Z"
   },
   {
    "duration": 12117,
    "start_time": "2023-09-01T11:18:21.766Z"
   },
   {
    "duration": 15373,
    "start_time": "2023-09-01T11:18:33.885Z"
   },
   {
    "duration": 3,
    "start_time": "2023-09-01T11:18:49.260Z"
   },
   {
    "duration": 29,
    "start_time": "2023-09-01T11:18:49.265Z"
   },
   {
    "duration": 348,
    "start_time": "2023-09-01T11:18:49.296Z"
   },
   {
    "duration": 79451,
    "start_time": "2023-09-01T11:18:49.646Z"
   },
   {
    "duration": 105897,
    "start_time": "2023-09-01T11:20:09.099Z"
   },
   {
    "duration": 48918,
    "start_time": "2023-09-01T11:21:54.998Z"
   },
   {
    "duration": 5,
    "start_time": "2023-09-01T11:22:43.917Z"
   },
   {
    "duration": 8,
    "start_time": "2023-09-01T11:22:43.924Z"
   },
   {
    "duration": 6,
    "start_time": "2023-09-01T11:22:43.934Z"
   },
   {
    "duration": 395,
    "start_time": "2023-09-01T11:22:43.942Z"
   },
   {
    "duration": 49771,
    "start_time": "2023-09-01T11:23:46.780Z"
   },
   {
    "duration": 3,
    "start_time": "2023-09-01T11:24:36.553Z"
   },
   {
    "duration": 16730,
    "start_time": "2023-09-01T11:24:59.997Z"
   },
   {
    "duration": 4,
    "start_time": "2023-09-01T11:25:16.729Z"
   },
   {
    "duration": 49855,
    "start_time": "2023-09-01T11:25:46.082Z"
   },
   {
    "duration": 4,
    "start_time": "2023-09-01T11:26:35.940Z"
   },
   {
    "duration": 8,
    "start_time": "2023-09-01T11:29:34.179Z"
   },
   {
    "duration": 6,
    "start_time": "2023-09-01T11:29:35.849Z"
   },
   {
    "duration": 594,
    "start_time": "2023-09-01T11:29:36.546Z"
   },
   {
    "duration": 2,
    "start_time": "2023-09-01T11:30:48.716Z"
   },
   {
    "duration": 17413,
    "start_time": "2023-09-01T11:30:49.734Z"
   },
   {
    "duration": 0,
    "start_time": "2023-09-01T11:31:07.148Z"
   },
   {
    "duration": 105673,
    "start_time": "2023-09-01T11:31:25.725Z"
   },
   {
    "duration": 4,
    "start_time": "2023-09-01T11:33:32.336Z"
   },
   {
    "duration": 29,
    "start_time": "2023-09-01T11:33:44.633Z"
   },
   {
    "duration": 188,
    "start_time": "2023-09-01T11:33:58.333Z"
   },
   {
    "duration": 49,
    "start_time": "2023-09-01T11:37:15.168Z"
   },
   {
    "duration": 53,
    "start_time": "2023-09-01T11:37:45.186Z"
   },
   {
    "duration": 155203,
    "start_time": "2023-09-01T11:38:02.956Z"
   },
   {
    "duration": 4,
    "start_time": "2023-09-01T11:40:51.015Z"
   },
   {
    "duration": 86,
    "start_time": "2023-09-01T11:42:40.288Z"
   },
   {
    "duration": 12,
    "start_time": "2023-09-01T11:42:46.042Z"
   },
   {
    "duration": 17,
    "start_time": "2023-09-01T11:44:45.601Z"
   },
   {
    "duration": 16906,
    "start_time": "2023-09-01T11:45:18.533Z"
   },
   {
    "duration": 5,
    "start_time": "2023-09-01T11:45:37.533Z"
   },
   {
    "duration": 16491,
    "start_time": "2023-09-01T11:46:40.317Z"
   },
   {
    "duration": 2048,
    "start_time": "2023-09-01T11:48:44.516Z"
   },
   {
    "duration": 4,
    "start_time": "2023-09-01T11:48:46.566Z"
   },
   {
    "duration": 43,
    "start_time": "2023-09-01T11:48:46.571Z"
   },
   {
    "duration": 16,
    "start_time": "2023-09-01T11:48:46.617Z"
   },
   {
    "duration": 22,
    "start_time": "2023-09-01T11:48:46.635Z"
   },
   {
    "duration": 16,
    "start_time": "2023-09-01T11:48:46.658Z"
   },
   {
    "duration": 11,
    "start_time": "2023-09-01T11:48:46.675Z"
   },
   {
    "duration": 1065,
    "start_time": "2023-09-01T11:48:46.688Z"
   },
   {
    "duration": 5,
    "start_time": "2023-09-01T11:48:47.755Z"
   },
   {
    "duration": 13,
    "start_time": "2023-09-01T11:48:47.763Z"
   },
   {
    "duration": 19,
    "start_time": "2023-09-01T11:48:47.781Z"
   },
   {
    "duration": 166,
    "start_time": "2023-09-01T11:48:47.801Z"
   },
   {
    "duration": 5,
    "start_time": "2023-09-01T11:48:47.969Z"
   },
   {
    "duration": 9,
    "start_time": "2023-09-01T11:48:47.981Z"
   },
   {
    "duration": 167,
    "start_time": "2023-09-01T11:48:47.992Z"
   },
   {
    "duration": 5,
    "start_time": "2023-09-01T11:48:48.161Z"
   },
   {
    "duration": 22,
    "start_time": "2023-09-01T11:48:48.167Z"
   },
   {
    "duration": 195,
    "start_time": "2023-09-01T11:48:48.191Z"
   },
   {
    "duration": 6,
    "start_time": "2023-09-01T11:48:48.388Z"
   },
   {
    "duration": 14,
    "start_time": "2023-09-01T11:48:48.396Z"
   },
   {
    "duration": 165,
    "start_time": "2023-09-01T11:48:48.412Z"
   },
   {
    "duration": 4,
    "start_time": "2023-09-01T11:48:48.581Z"
   },
   {
    "duration": 12,
    "start_time": "2023-09-01T11:48:48.587Z"
   },
   {
    "duration": 6,
    "start_time": "2023-09-01T11:48:48.600Z"
   },
   {
    "duration": 11,
    "start_time": "2023-09-01T11:48:48.607Z"
   },
   {
    "duration": 4,
    "start_time": "2023-09-01T11:48:48.620Z"
   },
   {
    "duration": 9,
    "start_time": "2023-09-01T11:48:48.626Z"
   },
   {
    "duration": 13,
    "start_time": "2023-09-01T11:48:48.638Z"
   },
   {
    "duration": 37,
    "start_time": "2023-09-01T11:48:48.652Z"
   },
   {
    "duration": 7,
    "start_time": "2023-09-01T11:48:48.691Z"
   },
   {
    "duration": 8,
    "start_time": "2023-09-01T11:48:48.699Z"
   },
   {
    "duration": 13,
    "start_time": "2023-09-01T11:48:48.709Z"
   },
   {
    "duration": 4,
    "start_time": "2023-09-01T11:48:48.724Z"
   },
   {
    "duration": 7,
    "start_time": "2023-09-01T11:48:48.729Z"
   },
   {
    "duration": 7,
    "start_time": "2023-09-01T11:48:48.738Z"
   },
   {
    "duration": 6,
    "start_time": "2023-09-01T11:48:48.747Z"
   },
   {
    "duration": 3,
    "start_time": "2023-09-01T11:48:48.755Z"
   },
   {
    "duration": 22,
    "start_time": "2023-09-01T11:48:48.760Z"
   },
   {
    "duration": 13,
    "start_time": "2023-09-01T11:48:48.784Z"
   },
   {
    "duration": 7,
    "start_time": "2023-09-01T11:48:48.798Z"
   },
   {
    "duration": 6,
    "start_time": "2023-09-01T11:48:48.806Z"
   },
   {
    "duration": 19,
    "start_time": "2023-09-01T11:48:48.813Z"
   },
   {
    "duration": 12,
    "start_time": "2023-09-01T11:48:48.834Z"
   },
   {
    "duration": 5,
    "start_time": "2023-09-01T11:48:48.848Z"
   },
   {
    "duration": 5,
    "start_time": "2023-09-01T11:48:48.855Z"
   },
   {
    "duration": 22,
    "start_time": "2023-09-01T11:48:48.862Z"
   },
   {
    "duration": 13,
    "start_time": "2023-09-01T11:48:48.886Z"
   },
   {
    "duration": 9,
    "start_time": "2023-09-01T11:48:48.900Z"
   },
   {
    "duration": 11,
    "start_time": "2023-09-01T11:48:48.910Z"
   },
   {
    "duration": 14,
    "start_time": "2023-09-01T11:48:48.922Z"
   },
   {
    "duration": 7124,
    "start_time": "2023-09-01T11:48:48.937Z"
   },
   {
    "duration": 12217,
    "start_time": "2023-09-01T11:48:56.062Z"
   },
   {
    "duration": 15716,
    "start_time": "2023-09-01T11:49:08.281Z"
   },
   {
    "duration": 3,
    "start_time": "2023-09-01T11:49:23.999Z"
   },
   {
    "duration": 9,
    "start_time": "2023-09-01T11:49:24.004Z"
   },
   {
    "duration": 370,
    "start_time": "2023-09-01T11:49:24.014Z"
   },
   {
    "duration": 12704,
    "start_time": "2023-09-01T11:49:24.386Z"
   },
   {
    "duration": 16072,
    "start_time": "2023-09-01T11:49:37.092Z"
   },
   {
    "duration": 17184,
    "start_time": "2023-09-01T11:49:53.167Z"
   },
   {
    "duration": 3,
    "start_time": "2023-09-01T11:50:10.353Z"
   },
   {
    "duration": 39,
    "start_time": "2023-09-01T11:50:10.358Z"
   },
   {
    "duration": 16216,
    "start_time": "2023-09-01T11:50:59.596Z"
   },
   {
    "duration": 15925,
    "start_time": "2023-09-01T11:51:24.957Z"
   },
   {
    "duration": 4,
    "start_time": "2023-09-01T11:52:18.311Z"
   },
   {
    "duration": 5,
    "start_time": "2023-09-01T11:52:18.317Z"
   },
   {
    "duration": 27,
    "start_time": "2023-09-01T11:52:18.324Z"
   },
   {
    "duration": 9,
    "start_time": "2023-09-01T11:52:18.354Z"
   },
   {
    "duration": 13,
    "start_time": "2023-09-01T11:52:18.365Z"
   },
   {
    "duration": 10,
    "start_time": "2023-09-01T11:52:18.379Z"
   },
   {
    "duration": 8,
    "start_time": "2023-09-01T11:52:18.390Z"
   },
   {
    "duration": 973,
    "start_time": "2023-09-01T11:52:18.400Z"
   },
   {
    "duration": 7,
    "start_time": "2023-09-01T11:52:19.376Z"
   },
   {
    "duration": 9,
    "start_time": "2023-09-01T11:52:19.385Z"
   },
   {
    "duration": 13,
    "start_time": "2023-09-01T11:52:19.396Z"
   },
   {
    "duration": 159,
    "start_time": "2023-09-01T11:52:19.411Z"
   },
   {
    "duration": 10,
    "start_time": "2023-09-01T11:52:19.572Z"
   },
   {
    "duration": 19,
    "start_time": "2023-09-01T11:52:19.584Z"
   },
   {
    "duration": 163,
    "start_time": "2023-09-01T11:52:19.604Z"
   },
   {
    "duration": 5,
    "start_time": "2023-09-01T11:52:19.768Z"
   },
   {
    "duration": 12,
    "start_time": "2023-09-01T11:52:19.780Z"
   },
   {
    "duration": 177,
    "start_time": "2023-09-01T11:52:19.794Z"
   },
   {
    "duration": 10,
    "start_time": "2023-09-01T11:52:19.973Z"
   },
   {
    "duration": 10,
    "start_time": "2023-09-01T11:52:19.985Z"
   },
   {
    "duration": 173,
    "start_time": "2023-09-01T11:52:19.997Z"
   },
   {
    "duration": 8,
    "start_time": "2023-09-01T11:52:20.173Z"
   },
   {
    "duration": 10,
    "start_time": "2023-09-01T11:52:20.183Z"
   },
   {
    "duration": 5,
    "start_time": "2023-09-01T11:52:20.196Z"
   },
   {
    "duration": 7,
    "start_time": "2023-09-01T11:52:20.202Z"
   },
   {
    "duration": 5,
    "start_time": "2023-09-01T11:52:20.211Z"
   },
   {
    "duration": 10,
    "start_time": "2023-09-01T11:52:20.218Z"
   },
   {
    "duration": 8,
    "start_time": "2023-09-01T11:52:20.229Z"
   },
   {
    "duration": 16,
    "start_time": "2023-09-01T11:52:20.238Z"
   },
   {
    "duration": 27,
    "start_time": "2023-09-01T11:52:20.256Z"
   },
   {
    "duration": 4,
    "start_time": "2023-09-01T11:52:20.285Z"
   },
   {
    "duration": 9,
    "start_time": "2023-09-01T11:52:20.291Z"
   },
   {
    "duration": 5,
    "start_time": "2023-09-01T11:52:20.301Z"
   },
   {
    "duration": 8,
    "start_time": "2023-09-01T11:52:20.308Z"
   },
   {
    "duration": 5,
    "start_time": "2023-09-01T11:52:20.318Z"
   },
   {
    "duration": 5,
    "start_time": "2023-09-01T11:52:20.324Z"
   },
   {
    "duration": 4,
    "start_time": "2023-09-01T11:52:20.331Z"
   },
   {
    "duration": 9,
    "start_time": "2023-09-01T11:52:20.336Z"
   },
   {
    "duration": 10,
    "start_time": "2023-09-01T11:52:20.346Z"
   },
   {
    "duration": 5,
    "start_time": "2023-09-01T11:52:20.358Z"
   },
   {
    "duration": 5,
    "start_time": "2023-09-01T11:52:20.364Z"
   },
   {
    "duration": 23,
    "start_time": "2023-09-01T11:52:20.381Z"
   },
   {
    "duration": 2,
    "start_time": "2023-09-01T11:52:20.406Z"
   },
   {
    "duration": 7,
    "start_time": "2023-09-01T11:52:20.410Z"
   },
   {
    "duration": 5,
    "start_time": "2023-09-01T11:52:20.418Z"
   },
   {
    "duration": 4,
    "start_time": "2023-09-01T11:52:20.425Z"
   },
   {
    "duration": 7,
    "start_time": "2023-09-01T11:52:20.430Z"
   },
   {
    "duration": 4,
    "start_time": "2023-09-01T11:52:20.439Z"
   },
   {
    "duration": 5,
    "start_time": "2023-09-01T11:52:20.444Z"
   },
   {
    "duration": 7,
    "start_time": "2023-09-01T11:52:20.450Z"
   },
   {
    "duration": 1466,
    "start_time": "2023-09-01T11:52:20.480Z"
   },
   {
    "duration": 2415,
    "start_time": "2023-09-01T11:52:21.948Z"
   },
   {
    "duration": 3142,
    "start_time": "2023-09-01T11:52:24.365Z"
   },
   {
    "duration": 2433,
    "start_time": "2023-09-01T11:52:52.130Z"
   },
   {
    "duration": 3253,
    "start_time": "2023-09-01T11:52:54.565Z"
   },
   {
    "duration": 4,
    "start_time": "2023-09-01T11:53:51.355Z"
   },
   {
    "duration": 16,
    "start_time": "2023-09-01T11:53:51.360Z"
   },
   {
    "duration": 41,
    "start_time": "2023-09-01T11:53:51.378Z"
   },
   {
    "duration": 10,
    "start_time": "2023-09-01T11:53:51.422Z"
   },
   {
    "duration": 34,
    "start_time": "2023-09-01T11:53:51.434Z"
   },
   {
    "duration": 37,
    "start_time": "2023-09-01T11:53:51.470Z"
   },
   {
    "duration": 38,
    "start_time": "2023-09-01T11:53:51.509Z"
   },
   {
    "duration": 1099,
    "start_time": "2023-09-01T11:53:51.549Z"
   },
   {
    "duration": 5,
    "start_time": "2023-09-01T11:53:52.651Z"
   },
   {
    "duration": 7,
    "start_time": "2023-09-01T11:53:52.658Z"
   },
   {
    "duration": 10,
    "start_time": "2023-09-01T11:53:52.680Z"
   },
   {
    "duration": 168,
    "start_time": "2023-09-01T11:53:52.692Z"
   },
   {
    "duration": 4,
    "start_time": "2023-09-01T11:53:52.862Z"
   },
   {
    "duration": 22,
    "start_time": "2023-09-01T11:53:52.869Z"
   },
   {
    "duration": 160,
    "start_time": "2023-09-01T11:53:52.893Z"
   },
   {
    "duration": 5,
    "start_time": "2023-09-01T11:53:53.055Z"
   },
   {
    "duration": 23,
    "start_time": "2023-09-01T11:53:53.062Z"
   },
   {
    "duration": 186,
    "start_time": "2023-09-01T11:53:53.087Z"
   },
   {
    "duration": 5,
    "start_time": "2023-09-01T11:53:53.280Z"
   },
   {
    "duration": 15,
    "start_time": "2023-09-01T11:53:53.286Z"
   },
   {
    "duration": 163,
    "start_time": "2023-09-01T11:53:53.302Z"
   },
   {
    "duration": 13,
    "start_time": "2023-09-01T11:53:53.467Z"
   },
   {
    "duration": 6,
    "start_time": "2023-09-01T11:53:53.482Z"
   },
   {
    "duration": 11,
    "start_time": "2023-09-01T11:53:53.489Z"
   },
   {
    "duration": 8,
    "start_time": "2023-09-01T11:53:53.502Z"
   },
   {
    "duration": 7,
    "start_time": "2023-09-01T11:53:53.512Z"
   },
   {
    "duration": 9,
    "start_time": "2023-09-01T11:53:53.521Z"
   },
   {
    "duration": 10,
    "start_time": "2023-09-01T11:53:53.532Z"
   },
   {
    "duration": 39,
    "start_time": "2023-09-01T11:53:53.544Z"
   },
   {
    "duration": 5,
    "start_time": "2023-09-01T11:53:53.585Z"
   },
   {
    "duration": 8,
    "start_time": "2023-09-01T11:53:53.592Z"
   },
   {
    "duration": 6,
    "start_time": "2023-09-01T11:53:53.602Z"
   },
   {
    "duration": 6,
    "start_time": "2023-09-01T11:53:53.610Z"
   },
   {
    "duration": 11,
    "start_time": "2023-09-01T11:53:53.617Z"
   },
   {
    "duration": 7,
    "start_time": "2023-09-01T11:53:53.629Z"
   },
   {
    "duration": 8,
    "start_time": "2023-09-01T11:53:53.637Z"
   },
   {
    "duration": 4,
    "start_time": "2023-09-01T11:53:53.647Z"
   },
   {
    "duration": 13,
    "start_time": "2023-09-01T11:53:53.652Z"
   },
   {
    "duration": 22,
    "start_time": "2023-09-01T11:53:53.666Z"
   },
   {
    "duration": 14,
    "start_time": "2023-09-01T11:53:53.690Z"
   },
   {
    "duration": 11,
    "start_time": "2023-09-01T11:53:53.709Z"
   },
   {
    "duration": 16,
    "start_time": "2023-09-01T11:53:53.722Z"
   },
   {
    "duration": 9,
    "start_time": "2023-09-01T11:53:53.740Z"
   },
   {
    "duration": 18,
    "start_time": "2023-09-01T11:53:53.750Z"
   },
   {
    "duration": 10,
    "start_time": "2023-09-01T11:53:53.769Z"
   },
   {
    "duration": 25,
    "start_time": "2023-09-01T11:53:53.781Z"
   },
   {
    "duration": 7,
    "start_time": "2023-09-01T11:53:53.809Z"
   },
   {
    "duration": 10,
    "start_time": "2023-09-01T11:53:53.818Z"
   },
   {
    "duration": 7,
    "start_time": "2023-09-01T11:53:53.830Z"
   },
   {
    "duration": 9,
    "start_time": "2023-09-01T11:53:53.839Z"
   },
   {
    "duration": 1539,
    "start_time": "2023-09-01T11:53:53.849Z"
   },
   {
    "duration": 2678,
    "start_time": "2023-09-01T11:53:55.390Z"
   },
   {
    "duration": 3118,
    "start_time": "2023-09-01T11:53:58.070Z"
   },
   {
    "duration": 15393,
    "start_time": "2023-09-01T11:54:09.503Z"
   },
   {
    "duration": 23799,
    "start_time": "2023-09-01T11:54:24.898Z"
   },
   {
    "duration": 4,
    "start_time": "2023-09-01T11:55:04.732Z"
   },
   {
    "duration": 13,
    "start_time": "2023-09-01T11:55:04.738Z"
   },
   {
    "duration": 62,
    "start_time": "2023-09-01T11:55:04.753Z"
   },
   {
    "duration": 10,
    "start_time": "2023-09-01T11:55:04.817Z"
   },
   {
    "duration": 22,
    "start_time": "2023-09-01T11:55:04.830Z"
   },
   {
    "duration": 28,
    "start_time": "2023-09-01T11:55:04.855Z"
   },
   {
    "duration": 18,
    "start_time": "2023-09-01T11:55:04.885Z"
   },
   {
    "duration": 991,
    "start_time": "2023-09-01T11:55:04.905Z"
   },
   {
    "duration": 7,
    "start_time": "2023-09-01T11:55:05.897Z"
   },
   {
    "duration": 9,
    "start_time": "2023-09-01T11:55:05.906Z"
   },
   {
    "duration": 17,
    "start_time": "2023-09-01T11:55:05.918Z"
   },
   {
    "duration": 191,
    "start_time": "2023-09-01T11:55:05.937Z"
   },
   {
    "duration": 6,
    "start_time": "2023-09-01T11:55:06.129Z"
   },
   {
    "duration": 24,
    "start_time": "2023-09-01T11:55:06.136Z"
   },
   {
    "duration": 195,
    "start_time": "2023-09-01T11:55:06.162Z"
   },
   {
    "duration": 6,
    "start_time": "2023-09-01T11:55:06.359Z"
   },
   {
    "duration": 28,
    "start_time": "2023-09-01T11:55:06.367Z"
   },
   {
    "duration": 188,
    "start_time": "2023-09-01T11:55:06.396Z"
   },
   {
    "duration": 12,
    "start_time": "2023-09-01T11:55:06.586Z"
   },
   {
    "duration": 13,
    "start_time": "2023-09-01T11:55:06.603Z"
   },
   {
    "duration": 217,
    "start_time": "2023-09-01T11:55:06.620Z"
   },
   {
    "duration": 6,
    "start_time": "2023-09-01T11:55:06.840Z"
   },
   {
    "duration": 15,
    "start_time": "2023-09-01T11:55:06.848Z"
   },
   {
    "duration": 25,
    "start_time": "2023-09-01T11:55:06.865Z"
   },
   {
    "duration": 18,
    "start_time": "2023-09-01T11:55:06.893Z"
   },
   {
    "duration": 17,
    "start_time": "2023-09-01T11:55:06.913Z"
   },
   {
    "duration": 22,
    "start_time": "2023-09-01T11:55:06.931Z"
   },
   {
    "duration": 27,
    "start_time": "2023-09-01T11:55:06.955Z"
   },
   {
    "duration": 14,
    "start_time": "2023-09-01T11:55:06.987Z"
   },
   {
    "duration": 17,
    "start_time": "2023-09-01T11:55:07.003Z"
   },
   {
    "duration": 17,
    "start_time": "2023-09-01T11:55:07.022Z"
   },
   {
    "duration": 11,
    "start_time": "2023-09-01T11:55:07.041Z"
   },
   {
    "duration": 9,
    "start_time": "2023-09-01T11:55:07.054Z"
   },
   {
    "duration": 9,
    "start_time": "2023-09-01T11:55:07.064Z"
   },
   {
    "duration": 24,
    "start_time": "2023-09-01T11:55:07.075Z"
   },
   {
    "duration": 14,
    "start_time": "2023-09-01T11:55:07.101Z"
   },
   {
    "duration": 23,
    "start_time": "2023-09-01T11:55:07.117Z"
   },
   {
    "duration": 11,
    "start_time": "2023-09-01T11:55:07.142Z"
   },
   {
    "duration": 27,
    "start_time": "2023-09-01T11:55:07.155Z"
   },
   {
    "duration": 28,
    "start_time": "2023-09-01T11:55:07.184Z"
   },
   {
    "duration": 32,
    "start_time": "2023-09-01T11:55:07.215Z"
   },
   {
    "duration": 58,
    "start_time": "2023-09-01T11:55:07.249Z"
   },
   {
    "duration": 6,
    "start_time": "2023-09-01T11:55:07.310Z"
   },
   {
    "duration": 19,
    "start_time": "2023-09-01T11:55:07.318Z"
   },
   {
    "duration": 15,
    "start_time": "2023-09-01T11:55:07.339Z"
   },
   {
    "duration": 23,
    "start_time": "2023-09-01T11:55:07.356Z"
   },
   {
    "duration": 29,
    "start_time": "2023-09-01T11:55:07.381Z"
   },
   {
    "duration": 18,
    "start_time": "2023-09-01T11:55:07.412Z"
   },
   {
    "duration": 16,
    "start_time": "2023-09-01T11:55:07.432Z"
   },
   {
    "duration": 17,
    "start_time": "2023-09-01T11:55:07.449Z"
   },
   {
    "duration": 7695,
    "start_time": "2023-09-01T11:55:07.468Z"
   },
   {
    "duration": 12638,
    "start_time": "2023-09-01T11:55:15.165Z"
   },
   {
    "duration": 16457,
    "start_time": "2023-09-01T11:55:27.806Z"
   },
   {
    "duration": 4,
    "start_time": "2023-09-01T11:55:50.038Z"
   },
   {
    "duration": 8,
    "start_time": "2023-09-01T11:55:50.582Z"
   },
   {
    "duration": 520,
    "start_time": "2023-09-01T11:55:53.926Z"
   },
   {
    "duration": 87619,
    "start_time": "2023-09-01T11:55:57.368Z"
   },
   {
    "duration": 112598,
    "start_time": "2023-09-01T11:57:24.990Z"
   },
   {
    "duration": 17227,
    "start_time": "2023-09-01T11:59:23.657Z"
   },
   {
    "duration": 4,
    "start_time": "2023-09-01T12:00:30.792Z"
   },
   {
    "duration": 6,
    "start_time": "2023-09-01T12:00:31.775Z"
   },
   {
    "duration": 387,
    "start_time": "2023-09-01T12:00:32.371Z"
   },
   {
    "duration": 255,
    "start_time": "2023-09-01T12:01:26.093Z"
   },
   {
    "duration": 3,
    "start_time": "2023-09-01T12:01:31.740Z"
   },
   {
    "duration": 120250,
    "start_time": "2023-09-01T12:01:32.547Z"
   },
   {
    "duration": 5,
    "start_time": "2023-09-01T12:03:32.799Z"
   },
   {
    "duration": 213,
    "start_time": "2023-09-01T12:04:26.162Z"
   },
   {
    "duration": 149,
    "start_time": "2023-09-02T06:44:16.731Z"
   },
   {
    "duration": 1957,
    "start_time": "2023-09-02T06:44:25.807Z"
   },
   {
    "duration": 4,
    "start_time": "2023-09-02T06:44:27.766Z"
   },
   {
    "duration": 73,
    "start_time": "2023-09-02T06:44:27.771Z"
   },
   {
    "duration": 12,
    "start_time": "2023-09-02T06:44:27.846Z"
   },
   {
    "duration": 13,
    "start_time": "2023-09-02T06:44:27.860Z"
   },
   {
    "duration": 10,
    "start_time": "2023-09-02T06:44:27.874Z"
   },
   {
    "duration": 10,
    "start_time": "2023-09-02T06:44:27.885Z"
   },
   {
    "duration": 808,
    "start_time": "2023-09-02T06:44:27.896Z"
   },
   {
    "duration": 5,
    "start_time": "2023-09-02T06:44:28.706Z"
   },
   {
    "duration": 7,
    "start_time": "2023-09-02T06:44:28.713Z"
   },
   {
    "duration": 24,
    "start_time": "2023-09-02T06:44:28.721Z"
   },
   {
    "duration": 135,
    "start_time": "2023-09-02T06:44:28.747Z"
   },
   {
    "duration": 4,
    "start_time": "2023-09-02T06:44:28.885Z"
   },
   {
    "duration": 21,
    "start_time": "2023-09-02T06:44:28.891Z"
   },
   {
    "duration": 136,
    "start_time": "2023-09-02T06:44:28.914Z"
   },
   {
    "duration": 4,
    "start_time": "2023-09-02T06:44:29.051Z"
   },
   {
    "duration": 8,
    "start_time": "2023-09-02T06:44:29.057Z"
   },
   {
    "duration": 162,
    "start_time": "2023-09-02T06:44:29.066Z"
   },
   {
    "duration": 5,
    "start_time": "2023-09-02T06:44:29.229Z"
   },
   {
    "duration": 16,
    "start_time": "2023-09-02T06:44:29.235Z"
   },
   {
    "duration": 142,
    "start_time": "2023-09-02T06:44:29.253Z"
   },
   {
    "duration": 3,
    "start_time": "2023-09-02T06:44:29.397Z"
   },
   {
    "duration": 8,
    "start_time": "2023-09-02T06:44:29.401Z"
   },
   {
    "duration": 5,
    "start_time": "2023-09-02T06:44:29.410Z"
   },
   {
    "duration": 5,
    "start_time": "2023-09-02T06:44:29.416Z"
   },
   {
    "duration": 22,
    "start_time": "2023-09-02T06:44:29.422Z"
   },
   {
    "duration": 12,
    "start_time": "2023-09-02T06:44:29.446Z"
   },
   {
    "duration": 12,
    "start_time": "2023-09-02T06:44:29.462Z"
   },
   {
    "duration": 11,
    "start_time": "2023-09-02T06:44:29.475Z"
   },
   {
    "duration": 5,
    "start_time": "2023-09-02T06:44:29.488Z"
   },
   {
    "duration": 5,
    "start_time": "2023-09-02T06:44:29.494Z"
   },
   {
    "duration": 6,
    "start_time": "2023-09-02T06:44:29.501Z"
   },
   {
    "duration": 5,
    "start_time": "2023-09-02T06:44:29.508Z"
   },
   {
    "duration": 6,
    "start_time": "2023-09-02T06:44:29.514Z"
   },
   {
    "duration": 7,
    "start_time": "2023-09-02T06:44:29.522Z"
   },
   {
    "duration": 4,
    "start_time": "2023-09-02T06:44:29.543Z"
   },
   {
    "duration": 4,
    "start_time": "2023-09-02T06:44:29.548Z"
   },
   {
    "duration": 4,
    "start_time": "2023-09-02T06:44:29.553Z"
   },
   {
    "duration": 3,
    "start_time": "2023-09-02T06:44:29.559Z"
   },
   {
    "duration": 4,
    "start_time": "2023-09-02T06:44:29.564Z"
   },
   {
    "duration": 7,
    "start_time": "2023-09-02T06:44:29.570Z"
   },
   {
    "duration": 19,
    "start_time": "2023-09-02T06:44:29.578Z"
   },
   {
    "duration": 3,
    "start_time": "2023-09-02T06:44:29.598Z"
   },
   {
    "duration": 6,
    "start_time": "2023-09-02T06:44:29.603Z"
   },
   {
    "duration": 6,
    "start_time": "2023-09-02T06:44:29.610Z"
   },
   {
    "duration": 27,
    "start_time": "2023-09-02T06:44:29.617Z"
   },
   {
    "duration": 5,
    "start_time": "2023-09-02T06:44:29.646Z"
   },
   {
    "duration": 5,
    "start_time": "2023-09-02T06:44:29.652Z"
   },
   {
    "duration": 4,
    "start_time": "2023-09-02T06:44:29.658Z"
   },
   {
    "duration": 6,
    "start_time": "2023-09-02T06:44:29.664Z"
   },
   {
    "duration": 6255,
    "start_time": "2023-09-02T06:44:29.671Z"
   },
   {
    "duration": 10120,
    "start_time": "2023-09-02T06:44:35.928Z"
   },
   {
    "duration": 13055,
    "start_time": "2023-09-02T06:44:46.050Z"
   },
   {
    "duration": 4,
    "start_time": "2023-09-02T06:44:59.106Z"
   },
   {
    "duration": 15,
    "start_time": "2023-09-02T06:44:59.111Z"
   },
   {
    "duration": 387,
    "start_time": "2023-09-02T06:44:59.128Z"
   },
   {
    "duration": 64247,
    "start_time": "2023-09-02T06:44:59.516Z"
   },
   {
    "duration": 89988,
    "start_time": "2023-09-02T06:46:03.765Z"
   },
   {
    "duration": 13897,
    "start_time": "2023-09-02T06:47:33.755Z"
   },
   {
    "duration": 2,
    "start_time": "2023-09-02T06:47:47.654Z"
   },
   {
    "duration": 126300,
    "start_time": "2023-09-02T06:47:47.657Z"
   },
   {
    "duration": 7419,
    "start_time": "2023-09-02T06:50:24.693Z"
   },
   {
    "duration": 128709,
    "start_time": "2023-09-02T06:50:43.293Z"
   }
  ],
  "kernelspec": {
   "display_name": "Python 3 (ipykernel)",
   "language": "python",
   "name": "python3"
  },
  "language_info": {
   "codemirror_mode": {
    "name": "ipython",
    "version": 3
   },
   "file_extension": ".py",
   "mimetype": "text/x-python",
   "name": "python",
   "nbconvert_exporter": "python",
   "pygments_lexer": "ipython3",
   "version": "3.10.2"
  },
  "toc": {
   "base_numbering": 1,
   "nav_menu": {},
   "number_sections": false,
   "sideBar": true,
   "skip_h1_title": false,
   "title_cell": "Table of Contents",
   "title_sidebar": "Contents",
   "toc_cell": false,
   "toc_position": {},
   "toc_section_display": true,
   "toc_window_display": true
  },
  "varInspector": {
   "cols": {
    "lenName": 16,
    "lenType": 16,
    "lenVar": 40
   },
   "kernels_config": {
    "python": {
     "delete_cmd_postfix": "",
     "delete_cmd_prefix": "del ",
     "library": "var_list.py",
     "varRefreshCmd": "print(var_dic_list())"
    },
    "r": {
     "delete_cmd_postfix": ") ",
     "delete_cmd_prefix": "rm(",
     "library": "var_list.r",
     "varRefreshCmd": "cat(var_dic_list()) "
    }
   },
   "types_to_exclude": [
    "module",
    "function",
    "builtin_function_or_method",
    "instance",
    "_Feature"
   ],
   "window_display": false
  }
 },
 "nbformat": 4,
 "nbformat_minor": 5
}
