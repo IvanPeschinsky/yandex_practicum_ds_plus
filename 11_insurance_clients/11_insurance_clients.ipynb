{
 "cells": [
  {
   "cell_type": "markdown",
   "metadata": {},
   "source": [
    "<div style=\"border:solid green 2px; padding: 20px\">\n",
    "<b>Привет, Иван!</b>\n",
    "\n",
    "Меня зовут Александр, и я буду проверять твой проект. Предлагаю общаться на «ты» :) Но если это не удобно - дай знать, и мы перейдем на \"вы\". \n",
    "\n",
    "Моя основная цель — не указать на совершенные тобою ошибки, а поделиться своим опытом и помочь тебе стать data science. Ты уже проделал большую работу над проектом, но давай сделаем его еще лучше. Ниже ты найдешь мои комментарии - **пожалуйста, не перемещай, не изменяй и не удаляй их**. Увидев у тебя ошибку, в первый раз я лишь укажу на ее наличие и дам тебе возможность самой найти и исправить ее. На реальной работе твой начальник будет поступать так же, а я пытаюсь подготовить тебя именно к работе аналитиком. Но если ты пока не справишься с такой задачей - при следующей проверке я дам более точную подсказку. Я буду использовать цветовую разметку:\n",
    "\n",
    "<div class=\"alert alert-danger\">\n",
    "<b>Комментарий ревьюера ❌:</b> Так выделены самые важные замечания. Без их отработки проект не будет принят. </div>\n",
    "\n",
    "<div class=\"alert alert-warning\">\n",
    "<b>Комментарий ревьюера ⚠️:</b> Так выделены небольшие замечания. Я надеюсь, что их ты тоже учтешь - твой проект от этого станет только лучше. Но настаивать на их отработке не буду.\n",
    "\n",
    "</div>\n",
    "\n",
    "<div class=\"alert alert-success\">\n",
    "<b>Комментарий ревьюера ✔️:</b> Так я выделяю все остальные комментарии.</div>\n",
    "\n",
    "Давай работать над проектом в диалоге: **если ты что-то меняешь в проекте или отвечаешь на мои комменатри — пиши об этом.** Мне будет легче отследить изменения, если ты выделишь свои комментарии:\n",
    "<div class=\"alert alert-info\"> <b>Комментарий студента:</b> Например, вот так.</div>\n",
    "\n",
    "Всё это поможет выполнить повторную проверку твоего проекта оперативнее. "
   ]
  },
  {
   "cell_type": "markdown",
   "metadata": {},
   "source": [
    "<div class=\"alert alert-info\">\n",
    "\n",
    "Привет! Спасибо за ревью и полезные материалы) Постарался исправить ошибки\n",
    "    \n",
    "</div>"
   ]
  },
  {
   "cell_type": "markdown",
   "metadata": {
    "toc": true
   },
   "source": [
    "<h1>Содержание<span class=\"tocSkip\"></span></h1>\n",
    "<div class=\"toc\"><ul class=\"toc-item\"><li><span><a href=\"#Загрузка-данных\" data-toc-modified-id=\"Загрузка-данных-1\"><span class=\"toc-item-num\">1&nbsp;&nbsp;</span>Загрузка данных</a></span></li><li><span><a href=\"#Умножение-матриц\" data-toc-modified-id=\"Умножение-матриц-2\"><span class=\"toc-item-num\">2&nbsp;&nbsp;</span>Умножение матриц</a></span></li><li><span><a href=\"#Алгоритм-преобразования\" data-toc-modified-id=\"Алгоритм-преобразования-3\"><span class=\"toc-item-num\">3&nbsp;&nbsp;</span>Алгоритм преобразования</a></span></li><li><span><a href=\"#Проверка-алгоритма\" data-toc-modified-id=\"Проверка-алгоритма-4\"><span class=\"toc-item-num\">4&nbsp;&nbsp;</span>Проверка алгоритма</a></span></li><li><span><a href=\"#Чек-лист-проверки\" data-toc-modified-id=\"Чек-лист-проверки-5\"><span class=\"toc-item-num\">5&nbsp;&nbsp;</span>Чек-лист проверки</a></span></li></ul></div>"
   ]
  },
  {
   "cell_type": "markdown",
   "metadata": {},
   "source": [
    "# Защита персональных данных клиентов"
   ]
  },
  {
   "cell_type": "markdown",
   "metadata": {},
   "source": [
    "Вам нужно защитить данные клиентов страховой компании «Хоть потоп». Разработайте такой метод преобразования данных, чтобы по ним было сложно восстановить персональную информацию. Обоснуйте корректность его работы.\n",
    "\n",
    "Нужно защитить данные, чтобы при преобразовании качество моделей машинного обучения не ухудшилось. Подбирать наилучшую модель не требуется."
   ]
  },
  {
   "cell_type": "markdown",
   "metadata": {},
   "source": [
    "## Загрузка данных"
   ]
  },
  {
   "cell_type": "markdown",
   "metadata": {},
   "source": [
    "Все необходимые импорты будут здесь"
   ]
  },
  {
   "cell_type": "code",
   "execution_count": 144,
   "metadata": {},
   "outputs": [],
   "source": [
    "import numpy as np\n",
    "import pandas as pd\n",
    "\n",
    "from sklearn.linear_model import LinearRegression\n",
    "from sklearn.metrics import r2_score\n",
    "from sklearn.model_selection import train_test_split\n",
    "from sklearn.preprocessing import StandardScaler"
   ]
  },
  {
   "cell_type": "markdown",
   "metadata": {},
   "source": [
    "Загрузим таблицу"
   ]
  },
  {
   "cell_type": "code",
   "execution_count": 145,
   "metadata": {},
   "outputs": [],
   "source": [
    "data = pd.read_csv('/datasets/insurance.csv')"
   ]
  },
  {
   "cell_type": "markdown",
   "metadata": {},
   "source": [
    "<div class=\"alert alert-success\">\n",
    "<b>Комментарий ревьюера ✔️:</b> Огонь, данные на месте:)</div>"
   ]
  },
  {
   "cell_type": "markdown",
   "metadata": {},
   "source": [
    "Таблица состоит из 5000 строк. В ней находятся данные о клиентах: пол, возраст, зарплата, количество членов семьи, страховые выплаты"
   ]
  },
  {
   "cell_type": "code",
   "execution_count": 146,
   "metadata": {},
   "outputs": [
    {
     "data": {
      "text/html": [
       "<div>\n",
       "<style scoped>\n",
       "    .dataframe tbody tr th:only-of-type {\n",
       "        vertical-align: middle;\n",
       "    }\n",
       "\n",
       "    .dataframe tbody tr th {\n",
       "        vertical-align: top;\n",
       "    }\n",
       "\n",
       "    .dataframe thead th {\n",
       "        text-align: right;\n",
       "    }\n",
       "</style>\n",
       "<table border=\"1\" class=\"dataframe\">\n",
       "  <thead>\n",
       "    <tr style=\"text-align: right;\">\n",
       "      <th></th>\n",
       "      <th>Пол</th>\n",
       "      <th>Возраст</th>\n",
       "      <th>Зарплата</th>\n",
       "      <th>Члены семьи</th>\n",
       "      <th>Страховые выплаты</th>\n",
       "    </tr>\n",
       "  </thead>\n",
       "  <tbody>\n",
       "    <tr>\n",
       "      <th>0</th>\n",
       "      <td>1</td>\n",
       "      <td>41.0</td>\n",
       "      <td>49600.0</td>\n",
       "      <td>1</td>\n",
       "      <td>0</td>\n",
       "    </tr>\n",
       "    <tr>\n",
       "      <th>1</th>\n",
       "      <td>0</td>\n",
       "      <td>46.0</td>\n",
       "      <td>38000.0</td>\n",
       "      <td>1</td>\n",
       "      <td>1</td>\n",
       "    </tr>\n",
       "    <tr>\n",
       "      <th>2</th>\n",
       "      <td>0</td>\n",
       "      <td>29.0</td>\n",
       "      <td>21000.0</td>\n",
       "      <td>0</td>\n",
       "      <td>0</td>\n",
       "    </tr>\n",
       "    <tr>\n",
       "      <th>3</th>\n",
       "      <td>0</td>\n",
       "      <td>21.0</td>\n",
       "      <td>41700.0</td>\n",
       "      <td>2</td>\n",
       "      <td>0</td>\n",
       "    </tr>\n",
       "    <tr>\n",
       "      <th>4</th>\n",
       "      <td>1</td>\n",
       "      <td>28.0</td>\n",
       "      <td>26100.0</td>\n",
       "      <td>0</td>\n",
       "      <td>0</td>\n",
       "    </tr>\n",
       "  </tbody>\n",
       "</table>\n",
       "</div>"
      ],
      "text/plain": [
       "   Пол  Возраст  Зарплата  Члены семьи  Страховые выплаты\n",
       "0    1     41.0   49600.0            1                  0\n",
       "1    0     46.0   38000.0            1                  1\n",
       "2    0     29.0   21000.0            0                  0\n",
       "3    0     21.0   41700.0            2                  0\n",
       "4    1     28.0   26100.0            0                  0"
      ]
     },
     "execution_count": 146,
     "metadata": {},
     "output_type": "execute_result"
    }
   ],
   "source": [
    "data.head()"
   ]
  },
  {
   "cell_type": "code",
   "execution_count": 147,
   "metadata": {},
   "outputs": [
    {
     "name": "stdout",
     "output_type": "stream",
     "text": [
      "<class 'pandas.core.frame.DataFrame'>\n",
      "RangeIndex: 5000 entries, 0 to 4999\n",
      "Data columns (total 5 columns):\n",
      " #   Column             Non-Null Count  Dtype  \n",
      "---  ------             --------------  -----  \n",
      " 0   Пол                5000 non-null   int64  \n",
      " 1   Возраст            5000 non-null   float64\n",
      " 2   Зарплата           5000 non-null   float64\n",
      " 3   Члены семьи        5000 non-null   int64  \n",
      " 4   Страховые выплаты  5000 non-null   int64  \n",
      "dtypes: float64(2), int64(3)\n",
      "memory usage: 195.4 KB\n"
     ]
    }
   ],
   "source": [
    "data.info()"
   ]
  },
  {
   "cell_type": "markdown",
   "metadata": {},
   "source": [
    "В данных есть небольшое количество повторов. Пропуски отсутствуют."
   ]
  },
  {
   "cell_type": "code",
   "execution_count": 148,
   "metadata": {},
   "outputs": [
    {
     "data": {
      "text/plain": [
       "153"
      ]
     },
     "execution_count": 148,
     "metadata": {},
     "output_type": "execute_result"
    }
   ],
   "source": [
    "data.duplicated().sum()"
   ]
  },
  {
   "cell_type": "code",
   "execution_count": 149,
   "metadata": {},
   "outputs": [
    {
     "data": {
      "text/plain": [
       "Пол                  0\n",
       "Возраст              0\n",
       "Зарплата             0\n",
       "Члены семьи          0\n",
       "Страховые выплаты    0\n",
       "dtype: int64"
      ]
     },
     "execution_count": 149,
     "metadata": {},
     "output_type": "execute_result"
    }
   ],
   "source": [
    "data.isna().sum()"
   ]
  },
  {
   "cell_type": "markdown",
   "metadata": {},
   "source": [
    "<div class=\"alert alert-success\">\n",
    "<b>Комментарий ревьюера ✔️:</b> Хорошо:)</div>"
   ]
  },
  {
   "cell_type": "markdown",
   "metadata": {},
   "source": [
    "## Умножение матриц"
   ]
  },
  {
   "cell_type": "markdown",
   "metadata": {},
   "source": [
    "В этом задании вы можете записывать формулы в *Jupyter Notebook.*\n",
    "\n",
    "Чтобы записать формулу внутри текста, окружите её символами доллара \\\\$; если снаружи —  двойными символами \\\\$\\\\$. Эти формулы записываются на языке вёрстки *LaTeX.* \n",
    "\n",
    "Для примера мы записали формулы линейной регрессии. Можете их скопировать и отредактировать, чтобы решить задачу.\n",
    "\n",
    "Работать в *LaTeX* необязательно."
   ]
  },
  {
   "cell_type": "markdown",
   "metadata": {},
   "source": [
    "Обозначения:\n",
    "\n",
    "- $X$ — матрица признаков (нулевой столбец состоит из единиц)\n",
    "\n",
    "- $y$ — вектор целевого признака\n",
    "\n",
    "- $P$ — матрица, на которую умножаются признаки\n",
    "\n",
    "- $w$ — вектор весов линейной регрессии (нулевой элемент равен сдвигу)"
   ]
  },
  {
   "cell_type": "markdown",
   "metadata": {},
   "source": [
    "Предсказания:\n",
    "\n",
    "$$\n",
    "a = Xw\n",
    "$$\n",
    "\n",
    "Задача обучения:\n",
    "\n",
    "$$\n",
    "w = \\arg\\min_w MSE(Xw, y)\n",
    "$$\n",
    "\n",
    "Формула обучения:\n",
    "\n",
    "$$\n",
    "w = (X^T X)^{-1} X^T y\n",
    "$$"
   ]
  },
  {
   "cell_type": "markdown",
   "metadata": {},
   "source": [
    "**Ответ:** При умножении признаков на обратную матрицу качество линейной регрессии не изменится.\n",
    "\n",
    "**Обоснование:** Возьмем формулу обучения и запишем ее в виде:\n",
    "\n",
    "$$\n",
    "w_1 = (X_1^T X_1)^{-1} X_1^T y\n",
    "$$\n",
    "\n",
    "где $X_1 = XP$ - признаки, умноженные на обратную матрицу, согласно условию задачи. Подставим это значение в формулу:\n",
    "\n",
    "$$\n",
    "w_1 = ((XP)^T XP)^{-1} (XP)^T y\n",
    "$$\n",
    "\n",
    "Раскроем скобки:\n",
    "\n",
    "$$\n",
    "w_1 = (X^T P^T X P)^{-1} X^T P^T y = (P^T)^{-1} P^{-1} (X X^T)^{-1} X^T P^T y\n",
    "$$\n",
    "\n",
    "По условию, матрица P - обратимая, поэтому $(P^T)^{-1}*P^T = E$, где E - единичная матрица, а выражение $(X X^T)^{-1} X^T y = w$. При умножении матрицы на единичную матрицу получаем ту же самую матрицу. Таким образом, после преобразований получаем:\n",
    "\n",
    "$$\n",
    "w_1 = P^{-1}w\n",
    "$$\n",
    "\n",
    "Запишем $a_1 = X_1 w_1$ в виде:\n",
    "\n",
    "$$\n",
    "a_1 = XPP^{-1}w = Xw\n",
    "$$\n",
    "\n",
    "Получаем, $a_1 = Xw = a$"
   ]
  },
  {
   "attachments": {
    "image-2.png": {
     "image/png": "[encoded data removed]"
    },
    "image.png": {
     "image/png": "[encoded data removed]"
    }
   },
   "cell_type": "markdown",
   "metadata": {},
   "source": [
    "<div class=\"alert alert-danger\">\n",
    "<b>Комментарий ревьюера ❌:</b> \n",
    "\n",
    "    \n",
    "![image.png](attachment:image.png)\n",
    "    \n",
    "Некорректно раскрыл: $(XP)^T \\neq X^T P^T$  \n",
    "    \n",
    "-----------------------------------------\n",
    "    \n",
    "Чтобы сократить тебе $(P^T)^{-1}$ и $(P^T)$ они должны стоять рядом друг с другом, иначе сократить не получится. \n",
    "    \n",
    "![image-2.png](attachment:image-2.png)\n",
    "    \n",
    "Матрицы переставлять местами нельзя: $AB \\neq BA$, так как будет совсем другое значение уже. Тут более подробно\n",
    "    \n",
    "+  http://www.mathprofi.ru/deistviya_s_matricami.html\n",
    "    \n",
    "------------------------------------\n",
    "    \n",
    "+  У нас есть ряд свойств:\n",
    "    $$\n",
    "(AB)^T=B^T A^T \\tag 1\n",
    "$$\n",
    "$$\n",
    "(AB)^{-1} = B^{-1} A^{-1} \\tag 2\n",
    "$$\n",
    "$$\n",
    "A A^{-1} = A^{-1} A = E \\tag 3\n",
    "$$\n",
    "$$\n",
    "AE = EA = A \\tag 4\n",
    "$$\n",
    "$$\n",
    "A(BC) = (AB)C \\tag 5\n",
    "$$\n",
    "  \n",
    "Воспользуемся первым свойством:    \n",
    "+  Для начала раскроем $(XP)^T$ в примере $((XP)^T X P)^{-1}$, и получим $(P^T X^T X P)^{-1}$ (по аналогии закончи до конца)\n",
    "    \n",
    "Воспользуемся свойством 2:\n",
    "    \n",
    "+  $(P^T(X^TX)P)^{-1}$, пусть тут $A=P^T$, $B=(X^TX)P)^{-1}$, тогда $(P^T(X^TX)P)^{-1} = ((X^TX)P)^{-1} P^{T^{-1}}$ Далее продолжи аналогично\n",
    "</div>\n",
    "\n",
    "\n",
    "\n"
   ]
  },
  {
   "cell_type": "markdown",
   "metadata": {},
   "source": [
    "<div class=\"alert alert-info\">\n",
    "\n",
    "Я понял, да) Очень давно таким не занимался и путаюсь, хотя для меня с первого раза все выглядело логично)\n",
    "\n",
    "</div>"
   ]
  },
  {
   "cell_type": "markdown",
   "metadata": {},
   "source": [
    "Тогда если не спешить и раскрывать все по шагам, должно получиться вот так:\n",
    "\n",
    "$$\n",
    "w_1 = ((XP)^T XP)^{-1} (XP)^T y\n",
    "$$\n",
    "\n",
    "$$\n",
    "w_1 = (P^T (X^T X) P)^{-1} P^T X^T y\n",
    "$$\n",
    "\n",
    "$$\n",
    "w_1 = ((X^T X)P)^{-1}(P^T)^{-1} P^T X^T y\n",
    "$$\n",
    "\n",
    "$$\n",
    "w_1 = ((X^T X)P)^{-1} X^T y\n",
    "$$\n",
    "\n",
    "$$\n",
    "w_1 = P^{-1}(X^T X)^{-1} X^T y\n",
    "$$\n",
    "\n",
    "$$\n",
    "w_1 = P^{-1}w\n",
    "$$\n",
    "\n",
    "И дальше подставляет w_1 в a_1"
   ]
  },
  {
   "cell_type": "markdown",
   "metadata": {},
   "source": [
    "<div class=\"alert alert-success\">\n",
    "<b>Комментарий ревьюера V2✔️:</b> Отлично, теперь все корректно:)</div>"
   ]
  },
  {
   "cell_type": "markdown",
   "metadata": {},
   "source": [
    "## Алгоритм преобразования"
   ]
  },
  {
   "cell_type": "markdown",
   "metadata": {},
   "source": [
    "**Алгоритм**\n",
    "\n",
    "- Создать случайную матрицу и проверить ее на обратимость\n",
    "- Разделить исходную таблицу на признаки и целевой признак\n",
    "- Преобразовать признаки через умножение на случайную матрицу\n",
    "- Обучить исходные и преобразованные данные на модели линейной регрессии и сравнить результаты"
   ]
  },
  {
   "cell_type": "markdown",
   "metadata": {},
   "source": [
    "**Обоснование**\n",
    "\n",
    "Как было показано выше, при умножении признаков на обратную матрицу качество линейной регрессии не изменится."
   ]
  },
  {
   "cell_type": "markdown",
   "metadata": {},
   "source": [
    "## Проверка алгоритма"
   ]
  },
  {
   "cell_type": "markdown",
   "metadata": {},
   "source": [
    "Создадим случайную квадратную матрицу с размером 4, 4, т.к. при ее умножении на матрицу признаков должна получиться матрица такого же размера как и исходная"
   ]
  },
  {
   "cell_type": "code",
   "execution_count": 150,
   "metadata": {},
   "outputs": [
    {
     "data": {
      "text/plain": [
       "array([[0.28577512, 0.41400481, 0.88552631, 0.61392699],\n",
       "       [0.81796087, 0.63585216, 0.10794501, 0.87672662],\n",
       "       [0.91818446, 0.6045407 , 0.87071876, 0.08250875],\n",
       "       [0.21380695, 0.68134346, 0.25911296, 0.43628834]])"
      ]
     },
     "execution_count": 150,
     "metadata": {},
     "output_type": "execute_result"
    }
   ],
   "source": [
    "P = np.random.rand(4, 4)\n",
    "P"
   ]
  },
  {
   "cell_type": "markdown",
   "metadata": {},
   "source": [
    "Проверим ее на обратимость"
   ]
  },
  {
   "cell_type": "code",
   "execution_count": 151,
   "metadata": {},
   "outputs": [
    {
     "data": {
      "text/plain": [
       "array([[-0.50225943,  0.85979844,  0.75027279, -1.16290441],\n",
       "       [-0.84242204, -0.58063021,  0.24239043,  2.30636524],\n",
       "       [ 1.02418368, -0.58230462,  0.27521111, -0.32308762],\n",
       "       [ 0.95346589,  0.83124015, -0.90966318, -0.54797164]])"
      ]
     },
     "execution_count": 151,
     "metadata": {},
     "output_type": "execute_result"
    }
   ],
   "source": [
    "P_inverted = np.linalg.inv(P)\n",
    "P_inverted"
   ]
  },
  {
   "cell_type": "markdown",
   "metadata": {},
   "source": [
    "<div class=\"alert alert-success\">\n",
    "<b>Комментарий ревьюера ✔️:</b> На обратимость можно вот еще так проверить: Если определитель квадратной матрицы $P$ не равен нулю, значит у нее есть обратная</div>"
   ]
  },
  {
   "cell_type": "markdown",
   "metadata": {},
   "source": [
    "Разделим данные на признаки и целевой признак. Выделим обучающую и тестовую выборки. Масштабируем признаки."
   ]
  },
  {
   "cell_type": "code",
   "execution_count": 152,
   "metadata": {},
   "outputs": [],
   "source": [
    "features = data.drop('Страховые выплаты', axis=1)\n",
    "target = data['Страховые выплаты']"
   ]
  },
  {
   "cell_type": "code",
   "execution_count": 153,
   "metadata": {},
   "outputs": [],
   "source": [
    "features_train, features_test, target_train, target_test = train_test_split(features, target, \n",
    "                                                                            test_size=0.25, \n",
    "                                                                            random_state=12345)"
   ]
  },
  {
   "cell_type": "code",
   "execution_count": 154,
   "metadata": {},
   "outputs": [],
   "source": [
    "scaler = StandardScaler()\n",
    "x_train = scaler.fit_transform(features_train)\n",
    "x_test = scaler.transform(features_test)"
   ]
  },
  {
   "cell_type": "markdown",
   "metadata": {},
   "source": [
    "Умножим исходные преобразованные данные на случайную матрицу"
   ]
  },
  {
   "cell_type": "code",
   "execution_count": 155,
   "metadata": {},
   "outputs": [],
   "source": [
    "x_p_train = x_train @ P\n",
    "x_p_test = x_test @ P"
   ]
  },
  {
   "cell_type": "markdown",
   "metadata": {},
   "source": [
    "С помощью функции обучим модель линейной регрессии для разных наборов данных"
   ]
  },
  {
   "cell_type": "code",
   "execution_count": 156,
   "metadata": {},
   "outputs": [],
   "source": [
    "def check_model(features_train, features_test, target_train, target_test):\n",
    "    model = LinearRegression()\n",
    "    model.fit(features_train, target_train)\n",
    "    predictions = model.predict(features_test)\n",
    "    r2 = r2_score(target_test, predictions)\n",
    "    return r2"
   ]
  },
  {
   "cell_type": "code",
   "execution_count": 157,
   "metadata": {},
   "outputs": [
    {
     "data": {
      "text/plain": [
       "0.4352275712702668"
      ]
     },
     "execution_count": 157,
     "metadata": {},
     "output_type": "execute_result"
    }
   ],
   "source": [
    "model_1 = check_model(x_train, x_test, target_train, target_test)\n",
    "model_1"
   ]
  },
  {
   "cell_type": "code",
   "execution_count": 158,
   "metadata": {},
   "outputs": [
    {
     "data": {
      "text/plain": [
       "0.4352275712702667"
      ]
     },
     "execution_count": 158,
     "metadata": {},
     "output_type": "execute_result"
    }
   ],
   "source": [
    "model_2 = check_model(x_p_train, x_p_test, target_train, target_test)\n",
    "model_2"
   ]
  },
  {
   "cell_type": "markdown",
   "metadata": {},
   "source": [
    "Получили одинаковые значения"
   ]
  },
  {
   "cell_type": "markdown",
   "metadata": {},
   "source": [
    "<div class=\"alert alert-success\">\n",
    "<b>Комментарий ревьюера ✔️:</b> Да, хорошо;)\n",
    "\n",
    "\n",
    "Оставлю немного полезного материала:\n",
    "\n",
    "+  https://academy.yandex.ru/handbook/ml\n",
    "+  https://habr.com/ru/post/595281/\n",
    "</div>"
   ]
  },
  {
   "cell_type": "markdown",
   "metadata": {},
   "source": [
    "**Вывод**"
   ]
  },
  {
   "cell_type": "markdown",
   "metadata": {},
   "source": [
    "Перед нам стояла задача разработать и обосновать механизм преобразования данных, по которому было бы сложно восстановить персональную информацию клиентов страховой компании. Качество модели при этом не должно было ухудшиться.\n",
    "\n",
    "Для начала мы проверили предположение, что при умножении признаков на обратимую матрицу качество линейной регрессии не изменяется. Это дало нам механизм преобразования. \n",
    "\n",
    "Далее мы создали случайную квадратную матрицу, проверили ее на обратимость. Подготовили данные к обучению. На исходных и преобразованных данных мы получили одинаковое качество по метрике R2. "
   ]
  },
  {
   "cell_type": "markdown",
   "metadata": {},
   "source": [
    "## Чек-лист проверки"
   ]
  },
  {
   "cell_type": "markdown",
   "metadata": {},
   "source": [
    "Поставьте 'x' в выполненных пунктах. Далее нажмите Shift+Enter."
   ]
  },
  {
   "cell_type": "markdown",
   "metadata": {},
   "source": [
    "- [x]  Jupyter Notebook открыт\n",
    "- [ ]  Весь код выполняется без ошибок\n",
    "- [ ]  Ячейки с кодом расположены в порядке исполнения\n",
    "- [ ]  Выполнен шаг 1: данные загружены\n",
    "- [ ]  Выполнен шаг 2: получен ответ на вопрос об умножении матриц\n",
    "    - [ ]  Указан правильный вариант ответа\n",
    "    - [ ]  Вариант обоснован\n",
    "- [ ]  Выполнен шаг 3: предложен алгоритм преобразования\n",
    "    - [ ]  Алгоритм описан\n",
    "    - [ ]  Алгоритм обоснован\n",
    "- [ ]  Выполнен шаг 4: алгоритм проверен\n",
    "    - [ ]  Алгоритм реализован\n",
    "    - [ ]  Проведено сравнение качества моделей до и после преобразования"
   ]
  },
  {
   "cell_type": "markdown",
   "metadata": {},
   "source": [
    "<font color='blue'><b>Итоговый комментарий ревьюера</b></font>\n",
    "<div class=\"alert alert-success\">\n",
    "<b>Комментарий ревьюера ✔️:</b>Иван, получился хороший проект! \n",
    "    \n",
    "Если есть  если есть какие либо вопросы я с удовольствием на них отвечу:) <br> Исправь, пожалуйста, замечания и жду проект на следующую проверку:) </div>\n"
   ]
  },
  {
   "cell_type": "markdown",
   "metadata": {},
   "source": [
    "<div class=\"alert alert-success\">\n",
    "<b>Комментарий ревьюера V2✔️:</b>\n",
    "\n",
    "Оставлю хороший учебник по ML:\n",
    "+  https://academy.yandex.ru/handbook/ml\n",
    "    \n",
    "Немного новостей с мира DL(вдруг заинтересует):\n",
    "+  https://habr.com/ru/company/ods/blog/686962/\n",
    "    \n",
    "Вот тут проходят всякие соревнования, можешь себя попробовать:\n",
    "+  https://hacks-ai.ru/championships#competitions\n",
    "    \n",
    "\n",
    "Возможно, что нить пригодится:  \n",
    "+  https://drive.google.com/file/d/1r8CJHH_hwDM16l1Pnpb4KJzoJFrJ5XRi/view\n",
    "+  https://arxiv.org/ftp/arxiv/papers/2201/2201.00650.pdf\n",
    "+  https://github.com/slgero/testovoe\n",
    "    \n",
    "    \n",
    "Курс от МФТИ математика для DS:\n",
    "    \n",
    "+  https://www.youtube.com/watch?v=xccjt6lOoow&list=PLk4h7dmY2eYHHTyfLyrl7HmP-H3mMAW08&index=1\n",
    "    \n",
    "    \n",
    "Тут много соревнований/лекций:\n",
    "    \n",
    "+  https://ods.ai/\n",
    "    \n",
    "stepic NLP/CV:\n",
    "    \n",
    "+  https://stepik.org/course/54098/syllabus\n",
    "+  https://stepik.org/course/50352/syllabus\n",
    "    \n",
    "Еще есть от ВШЭ:\n",
    "    \n",
    "+  https://www.youtube.com/watch?v=mwjQaNt8qxk&list=PLEwK9wdS5g0og-DcF1apxutSM0GDLHz_3&ab_channel=%D0%A4%D0%9A%D0%9D%D0%92%D0%A8%D0%AD%E2%80%94%D0%B4%D0%B8%D1%81%D1%82%D0%B0%D0%BD%D1%86%D0%B8%D0%BE%D0%BD%D0%BD%D1%8B%D0%B5%D0%B7%D0%B0%D0%BD%D1%8F%D1%82%D0%B8%D1%8F\n",
    "+  https://github.com/hse-ds/iad-deep-learning\n",
    "    \n",
    "    \n",
    "    \n",
    "    \n",
    "Удачи в следующих проектах!!!\n",
    "    \n",
    " \n",
    "\n",
    "\n",
    "</div>"
   ]
  }
 ],
 "metadata": {
  "ExecuteTimeLog": [
   {
    "duration": 411,
    "start_time": "2023-06-01T10:16:26.791Z"
   },
   {
    "duration": 106,
    "start_time": "2023-06-01T10:16:55.955Z"
   },
   {
    "duration": 14,
    "start_time": "2023-06-01T10:17:05.702Z"
   },
   {
    "duration": 11,
    "start_time": "2023-06-01T10:17:14.481Z"
   },
   {
    "duration": 21,
    "start_time": "2023-06-01T10:17:29.937Z"
   },
   {
    "duration": 56,
    "start_time": "2023-06-02T09:29:39.852Z"
   },
   {
    "duration": 404,
    "start_time": "2023-06-02T09:29:46.481Z"
   },
   {
    "duration": 106,
    "start_time": "2023-06-02T09:29:47.564Z"
   },
   {
    "duration": 14,
    "start_time": "2023-06-02T09:29:48.490Z"
   },
   {
    "duration": 10,
    "start_time": "2023-06-02T09:29:49.570Z"
   },
   {
    "duration": 5,
    "start_time": "2023-06-02T09:29:50.467Z"
   },
   {
    "duration": 3,
    "start_time": "2023-06-02T12:14:35.865Z"
   },
   {
    "duration": 5,
    "start_time": "2023-06-02T12:16:03.565Z"
   },
   {
    "duration": 4,
    "start_time": "2023-06-02T12:17:01.769Z"
   },
   {
    "duration": 1662,
    "start_time": "2023-06-02T12:17:54.007Z"
   },
   {
    "duration": 4,
    "start_time": "2023-06-02T12:18:16.369Z"
   },
   {
    "duration": 5,
    "start_time": "2023-06-02T12:28:31.178Z"
   },
   {
    "duration": 663,
    "start_time": "2023-06-02T12:29:49.080Z"
   },
   {
    "duration": 6,
    "start_time": "2023-06-02T12:31:22.697Z"
   },
   {
    "duration": 39,
    "start_time": "2023-06-02T12:31:34.557Z"
   },
   {
    "duration": 4,
    "start_time": "2023-06-02T12:31:47.853Z"
   },
   {
    "duration": 3,
    "start_time": "2023-06-02T12:32:01.086Z"
   },
   {
    "duration": 30,
    "start_time": "2023-06-02T12:32:01.685Z"
   },
   {
    "duration": 8,
    "start_time": "2023-06-02T12:32:02.422Z"
   },
   {
    "duration": 9,
    "start_time": "2023-06-02T12:32:03.504Z"
   },
   {
    "duration": 5,
    "start_time": "2023-06-02T12:32:25.191Z"
   },
   {
    "duration": 6,
    "start_time": "2023-06-02T12:32:26.857Z"
   },
   {
    "duration": 3,
    "start_time": "2023-06-02T12:32:47.098Z"
   },
   {
    "duration": 6,
    "start_time": "2023-06-02T12:32:48.853Z"
   },
   {
    "duration": 3,
    "start_time": "2023-06-02T12:32:53.402Z"
   },
   {
    "duration": 3,
    "start_time": "2023-06-02T12:35:31.675Z"
   },
   {
    "duration": 3,
    "start_time": "2023-06-02T12:37:02.383Z"
   },
   {
    "duration": 33,
    "start_time": "2023-06-02T12:38:21.074Z"
   },
   {
    "duration": 3,
    "start_time": "2023-06-02T12:40:38.658Z"
   },
   {
    "duration": 3,
    "start_time": "2023-06-02T12:40:47.183Z"
   },
   {
    "duration": 8,
    "start_time": "2023-06-02T12:41:38.808Z"
   },
   {
    "duration": 12,
    "start_time": "2023-06-02T12:42:04.558Z"
   },
   {
    "duration": 6,
    "start_time": "2023-06-02T12:42:09.274Z"
   },
   {
    "duration": 4,
    "start_time": "2023-06-02T12:42:25.402Z"
   },
   {
    "duration": 30,
    "start_time": "2023-06-02T12:42:26.111Z"
   },
   {
    "duration": 8,
    "start_time": "2023-06-02T12:42:26.898Z"
   },
   {
    "duration": 9,
    "start_time": "2023-06-02T12:42:27.958Z"
   },
   {
    "duration": 5,
    "start_time": "2023-06-02T12:42:34.189Z"
   },
   {
    "duration": 4,
    "start_time": "2023-06-02T12:42:35.182Z"
   },
   {
    "duration": 4,
    "start_time": "2023-06-02T12:42:38.897Z"
   },
   {
    "duration": 7,
    "start_time": "2023-06-02T12:42:39.427Z"
   },
   {
    "duration": 4,
    "start_time": "2023-06-02T12:42:40.191Z"
   },
   {
    "duration": 2,
    "start_time": "2023-06-02T12:42:45.762Z"
   },
   {
    "duration": 11,
    "start_time": "2023-06-02T12:42:47.214Z"
   },
   {
    "duration": 8,
    "start_time": "2023-06-02T12:42:47.954Z"
   },
   {
    "duration": 6,
    "start_time": "2023-06-02T12:42:48.706Z"
   },
   {
    "duration": 14,
    "start_time": "2023-06-02T12:46:57.962Z"
   },
   {
    "duration": 5,
    "start_time": "2023-06-02T12:47:03.288Z"
   },
   {
    "duration": 13,
    "start_time": "2023-06-02T12:48:27.212Z"
   },
   {
    "duration": 8,
    "start_time": "2023-06-02T12:48:51.896Z"
   },
   {
    "duration": 2,
    "start_time": "2023-06-02T12:58:32.305Z"
   },
   {
    "duration": 28,
    "start_time": "2023-06-02T12:58:33.377Z"
   },
   {
    "duration": 8,
    "start_time": "2023-06-02T12:58:34.400Z"
   },
   {
    "duration": 10,
    "start_time": "2023-06-02T12:58:35.145Z"
   },
   {
    "duration": 5,
    "start_time": "2023-06-02T12:58:36.606Z"
   },
   {
    "duration": 13,
    "start_time": "2023-06-02T12:58:37.396Z"
   },
   {
    "duration": 15,
    "start_time": "2023-06-02T12:59:19.576Z"
   },
   {
    "duration": 5,
    "start_time": "2023-06-02T12:59:28.772Z"
   },
   {
    "duration": 4,
    "start_time": "2023-06-02T12:59:36.478Z"
   },
   {
    "duration": 5,
    "start_time": "2023-06-02T12:59:37.614Z"
   },
   {
    "duration": 3,
    "start_time": "2023-06-02T12:59:43.346Z"
   },
   {
    "duration": 6,
    "start_time": "2023-06-02T12:59:44.505Z"
   },
   {
    "duration": 4,
    "start_time": "2023-06-02T12:59:47.504Z"
   },
   {
    "duration": 3,
    "start_time": "2023-06-02T13:00:30.072Z"
   },
   {
    "duration": 4,
    "start_time": "2023-06-02T13:02:03.985Z"
   },
   {
    "duration": 52,
    "start_time": "2023-06-02T13:02:03.991Z"
   },
   {
    "duration": 7,
    "start_time": "2023-06-02T13:02:04.045Z"
   },
   {
    "duration": 15,
    "start_time": "2023-06-02T13:02:04.054Z"
   },
   {
    "duration": 23,
    "start_time": "2023-06-02T13:02:04.071Z"
   },
   {
    "duration": 17,
    "start_time": "2023-06-02T13:02:04.096Z"
   },
   {
    "duration": 16,
    "start_time": "2023-06-02T13:02:04.115Z"
   },
   {
    "duration": 19,
    "start_time": "2023-06-02T13:02:04.133Z"
   },
   {
    "duration": 14,
    "start_time": "2023-06-02T13:02:04.155Z"
   },
   {
    "duration": 5,
    "start_time": "2023-06-02T13:02:21.482Z"
   },
   {
    "duration": 10,
    "start_time": "2023-06-02T13:04:55.847Z"
   },
   {
    "duration": 6,
    "start_time": "2023-06-02T13:05:00.756Z"
   },
   {
    "duration": 4,
    "start_time": "2023-06-02T13:05:21.050Z"
   },
   {
    "duration": 8,
    "start_time": "2023-06-02T13:06:00.895Z"
   },
   {
    "duration": 4,
    "start_time": "2023-06-02T13:06:03.472Z"
   },
   {
    "duration": 4,
    "start_time": "2023-06-02T13:06:19.865Z"
   },
   {
    "duration": 3,
    "start_time": "2023-06-02T13:08:10.751Z"
   },
   {
    "duration": 3,
    "start_time": "2023-06-02T13:11:01.962Z"
   },
   {
    "duration": 29,
    "start_time": "2023-06-02T13:11:03.049Z"
   },
   {
    "duration": 11,
    "start_time": "2023-06-02T13:11:04.352Z"
   },
   {
    "duration": 10,
    "start_time": "2023-06-02T13:11:05.148Z"
   },
   {
    "duration": 7,
    "start_time": "2023-06-02T13:11:06.542Z"
   },
   {
    "duration": 13,
    "start_time": "2023-06-02T13:11:07.277Z"
   },
   {
    "duration": 5,
    "start_time": "2023-06-02T13:11:07.951Z"
   },
   {
    "duration": 4,
    "start_time": "2023-06-02T13:11:14.757Z"
   },
   {
    "duration": 4,
    "start_time": "2023-06-02T13:11:19.015Z"
   },
   {
    "duration": 3,
    "start_time": "2023-06-02T13:11:20.884Z"
   },
   {
    "duration": 5,
    "start_time": "2023-06-02T13:11:22.652Z"
   },
   {
    "duration": 9,
    "start_time": "2023-06-02T13:11:24.693Z"
   },
   {
    "duration": 3,
    "start_time": "2023-06-02T13:11:26.962Z"
   },
   {
    "duration": 3,
    "start_time": "2023-06-02T13:11:32.322Z"
   },
   {
    "duration": 6,
    "start_time": "2023-06-02T13:11:33.252Z"
   },
   {
    "duration": 6,
    "start_time": "2023-06-02T13:11:34.280Z"
   },
   {
    "duration": 2,
    "start_time": "2023-06-02T13:21:21.397Z"
   },
   {
    "duration": 27,
    "start_time": "2023-06-02T13:21:29.778Z"
   },
   {
    "duration": 7,
    "start_time": "2023-06-02T13:21:30.953Z"
   },
   {
    "duration": 10,
    "start_time": "2023-06-02T13:21:31.757Z"
   },
   {
    "duration": 4,
    "start_time": "2023-06-02T13:21:33.349Z"
   },
   {
    "duration": 14,
    "start_time": "2023-06-02T13:21:33.793Z"
   },
   {
    "duration": 23,
    "start_time": "2023-06-02T13:21:34.618Z"
   },
   {
    "duration": 4,
    "start_time": "2023-06-02T13:21:47.439Z"
   },
   {
    "duration": 4,
    "start_time": "2023-06-02T13:21:50.288Z"
   },
   {
    "duration": 4,
    "start_time": "2023-06-02T13:21:51.963Z"
   },
   {
    "duration": 5,
    "start_time": "2023-06-02T13:21:52.954Z"
   },
   {
    "duration": 7,
    "start_time": "2023-06-02T13:21:53.959Z"
   },
   {
    "duration": 2,
    "start_time": "2023-06-02T13:21:55.781Z"
   },
   {
    "duration": 6,
    "start_time": "2023-06-02T13:21:57.138Z"
   },
   {
    "duration": 9,
    "start_time": "2023-06-02T13:21:57.856Z"
   },
   {
    "duration": 6,
    "start_time": "2023-06-02T13:21:58.695Z"
   },
   {
    "duration": 6,
    "start_time": "2023-06-02T13:24:53.450Z"
   },
   {
    "duration": 5,
    "start_time": "2023-06-02T13:25:00.042Z"
   },
   {
    "duration": 5,
    "start_time": "2023-06-02T13:25:00.761Z"
   },
   {
    "duration": 5,
    "start_time": "2023-06-02T13:25:03.466Z"
   },
   {
    "duration": 3,
    "start_time": "2023-06-02T13:25:07.384Z"
   },
   {
    "duration": 27,
    "start_time": "2023-06-02T13:25:08.342Z"
   },
   {
    "duration": 7,
    "start_time": "2023-06-02T13:25:09.253Z"
   },
   {
    "duration": 9,
    "start_time": "2023-06-02T13:25:09.901Z"
   },
   {
    "duration": 6,
    "start_time": "2023-06-02T13:25:11.039Z"
   },
   {
    "duration": 5,
    "start_time": "2023-06-02T13:25:11.954Z"
   },
   {
    "duration": 6,
    "start_time": "2023-06-02T13:25:13.039Z"
   },
   {
    "duration": 4,
    "start_time": "2023-06-02T13:25:54.342Z"
   },
   {
    "duration": 5,
    "start_time": "2023-06-02T13:25:55.975Z"
   },
   {
    "duration": 4,
    "start_time": "2023-06-02T13:25:59.851Z"
   },
   {
    "duration": 4,
    "start_time": "2023-06-02T13:26:02.859Z"
   },
   {
    "duration": 9,
    "start_time": "2023-06-02T13:46:42.239Z"
   },
   {
    "duration": 7,
    "start_time": "2023-06-02T13:46:43.943Z"
   },
   {
    "duration": 3,
    "start_time": "2023-06-02T13:46:58.281Z"
   },
   {
    "duration": 28,
    "start_time": "2023-06-02T13:46:59.187Z"
   },
   {
    "duration": 10,
    "start_time": "2023-06-02T13:47:00.333Z"
   },
   {
    "duration": 23,
    "start_time": "2023-06-02T13:47:01.110Z"
   },
   {
    "duration": 6,
    "start_time": "2023-06-02T13:47:02.239Z"
   },
   {
    "duration": 6,
    "start_time": "2023-06-02T13:47:04.396Z"
   },
   {
    "duration": 7,
    "start_time": "2023-06-02T13:47:05.576Z"
   },
   {
    "duration": 3,
    "start_time": "2023-06-02T13:47:12.059Z"
   },
   {
    "duration": 5,
    "start_time": "2023-06-02T13:47:15.145Z"
   },
   {
    "duration": 4,
    "start_time": "2023-06-02T13:47:16.395Z"
   },
   {
    "duration": 5,
    "start_time": "2023-06-02T13:47:17.458Z"
   },
   {
    "duration": 8,
    "start_time": "2023-06-02T13:47:17.976Z"
   },
   {
    "duration": 8,
    "start_time": "2023-06-02T13:47:20.292Z"
   },
   {
    "duration": 3,
    "start_time": "2023-06-02T13:47:48.095Z"
   },
   {
    "duration": 41,
    "start_time": "2023-06-02T13:47:48.913Z"
   },
   {
    "duration": 8,
    "start_time": "2023-06-02T13:47:49.743Z"
   },
   {
    "duration": 9,
    "start_time": "2023-06-02T13:47:50.666Z"
   },
   {
    "duration": 7,
    "start_time": "2023-06-02T13:47:52.339Z"
   },
   {
    "duration": 6,
    "start_time": "2023-06-02T13:47:53.001Z"
   },
   {
    "duration": 4,
    "start_time": "2023-06-02T13:47:57.608Z"
   },
   {
    "duration": 4,
    "start_time": "2023-06-02T13:47:58.577Z"
   },
   {
    "duration": 5,
    "start_time": "2023-06-02T13:48:01.838Z"
   },
   {
    "duration": 5,
    "start_time": "2023-06-02T13:48:02.253Z"
   },
   {
    "duration": 8,
    "start_time": "2023-06-02T13:48:02.643Z"
   },
   {
    "duration": 2,
    "start_time": "2023-06-02T13:48:03.808Z"
   },
   {
    "duration": 2,
    "start_time": "2023-06-02T13:48:08.262Z"
   },
   {
    "duration": 5,
    "start_time": "2023-06-02T13:48:08.899Z"
   },
   {
    "duration": 7,
    "start_time": "2023-06-02T13:48:09.640Z"
   }
  ],
  "kernelspec": {
   "display_name": "Python 3 (ipykernel)",
   "language": "python",
   "name": "python3"
  },
  "language_info": {
   "codemirror_mode": {
    "name": "ipython",
    "version": 3
   },
   "file_extension": ".py",
   "mimetype": "text/x-python",
   "name": "python",
   "nbconvert_exporter": "python",
   "pygments_lexer": "ipython3",
   "version": "3.9.5"
  },
  "toc": {
   "base_numbering": 1,
   "nav_menu": {},
   "number_sections": true,
   "sideBar": true,
   "skip_h1_title": true,
   "title_cell": "Содержание",
   "title_sidebar": "Contents",
   "toc_cell": true,
   "toc_position": {},
   "toc_section_display": true,
   "toc_window_display": false
  }
 },
 "nbformat": 4,
 "nbformat_minor": 2
}
