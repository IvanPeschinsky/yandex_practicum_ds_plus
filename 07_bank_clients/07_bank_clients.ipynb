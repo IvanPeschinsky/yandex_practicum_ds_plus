{
 "cells": [
  {
   "cell_type": "markdown",
   "metadata": {
    "toc": true
   },
   "source": [
    "<h1>Содержание<span class=\"tocSkip\"></span></h1>\n",
    "<div class=\"toc\"><ul class=\"toc-item\"><li><span><a href=\"#Подготовка-данных\" data-toc-modified-id=\"Подготовка-данных-1\"><span class=\"toc-item-num\">1&nbsp;&nbsp;</span>Подготовка данных</a></span></li><li><span><a href=\"#Исследование-задачи\" data-toc-modified-id=\"Исследование-задачи-2\"><span class=\"toc-item-num\">2&nbsp;&nbsp;</span>Исследование задачи</a></span></li><li><span><a href=\"#Борьба-с-дисбалансом\" data-toc-modified-id=\"Борьба-с-дисбалансом-3\"><span class=\"toc-item-num\">3&nbsp;&nbsp;</span>Борьба с дисбалансом</a></span></li><li><span><a href=\"#Тестирование-модели\" data-toc-modified-id=\"Тестирование-модели-4\"><span class=\"toc-item-num\">4&nbsp;&nbsp;</span>Тестирование модели</a></span></li></ul></div>"
   ]
  },
  {
   "cell_type": "markdown",
   "metadata": {},
   "source": [
    "# Отток клиентов"
   ]
  },
  {
   "cell_type": "markdown",
   "metadata": {},
   "source": [
    "Из «Бета-Банка» стали уходить клиенты. Каждый месяц. Немного, но заметно. Банковские маркетологи посчитали: сохранять текущих клиентов дешевле, чем привлекать новых.\n",
    "\n",
    "Нужно спрогнозировать, уйдёт клиент из банка в ближайшее время или нет. Вам предоставлены исторические данные о поведении клиентов и расторжении договоров с банком. \n",
    "\n",
    "Постройте модель с предельно большим значением *F1*-меры. Чтобы сдать проект успешно, нужно довести метрику до 0.59. Проверьте *F1*-меру на тестовой выборке самостоятельно.\n",
    "\n",
    "Дополнительно измеряйте *AUC-ROC*, сравнивайте её значение с *F1*-мерой.\n",
    "\n",
    "Источник данных: [https://www.kaggle.com/barelydedicated/bank-customer-churn-modeling](https://www.kaggle.com/barelydedicated/bank-customer-churn-modeling)"
   ]
  },
  {
   "cell_type": "markdown",
   "metadata": {},
   "source": [
    "## Подготовка данных"
   ]
  },
  {
   "cell_type": "markdown",
   "metadata": {},
   "source": [
    "По условию задачи известно, что из \"Бета-банка каждый месяц понемногу стали уходить клиенты. По расчетам маркетологов, сохранять текущих клиентов дешевле, чем привлекать новых. В нашем распоряжении исторические данные о поведении клиентов \"Бета-банка\" и расторжении договоров. На основании этих данных нужно построить модель, которая будет прогнозировать, уйдет ли клиент из банка в ближайшее время или нет. "
   ]
  },
  {
   "cell_type": "markdown",
   "metadata": {},
   "source": [
    "В ячейку ниже будем импортировать все необходимые для решения задачи библиотеки"
   ]
  },
  {
   "cell_type": "code",
   "execution_count": 79,
   "metadata": {},
   "outputs": [],
   "source": [
    "import pandas as pd\n",
    "import matplotlib.pyplot as plt\n",
    "\n",
    "from sklearn.model_selection import train_test_split\n",
    "from sklearn.preprocessing import StandardScaler\n",
    "from sklearn.utils import shuffle\n",
    "from sklearn.metrics import accuracy_score\n",
    "from sklearn.metrics import confusion_matrix\n",
    "from sklearn.metrics import recall_score\n",
    "from sklearn.metrics import precision_score\n",
    "from sklearn.metrics import f1_score\n",
    "from sklearn.metrics import precision_recall_curve\n",
    "from sklearn.metrics import roc_curve\n",
    "from sklearn.metrics import roc_auc_score\n",
    "\n",
    "from sklearn.tree import DecisionTreeClassifier\n",
    "from sklearn.ensemble import RandomForestClassifier\n",
    "from sklearn.linear_model import LogisticRegression"
   ]
  },
  {
   "cell_type": "markdown",
   "metadata": {},
   "source": [
    "Откроем файл и посмотрим, что он из себя представляет"
   ]
  },
  {
   "cell_type": "code",
   "execution_count": 80,
   "metadata": {},
   "outputs": [],
   "source": [
    "data = pd.read_csv('/datasets/Churn.csv')"
   ]
  },
  {
   "cell_type": "code",
   "execution_count": 81,
   "metadata": {},
   "outputs": [
    {
     "data": {
      "text/html": [
       "<div>\n",
       "<style scoped>\n",
       "    .dataframe tbody tr th:only-of-type {\n",
       "        vertical-align: middle;\n",
       "    }\n",
       "\n",
       "    .dataframe tbody tr th {\n",
       "        vertical-align: top;\n",
       "    }\n",
       "\n",
       "    .dataframe thead th {\n",
       "        text-align: right;\n",
       "    }\n",
       "</style>\n",
       "<table border=\"1\" class=\"dataframe\">\n",
       "  <thead>\n",
       "    <tr style=\"text-align: right;\">\n",
       "      <th></th>\n",
       "      <th>RowNumber</th>\n",
       "      <th>CustomerId</th>\n",
       "      <th>Surname</th>\n",
       "      <th>CreditScore</th>\n",
       "      <th>Geography</th>\n",
       "      <th>Gender</th>\n",
       "      <th>Age</th>\n",
       "      <th>Tenure</th>\n",
       "      <th>Balance</th>\n",
       "      <th>NumOfProducts</th>\n",
       "      <th>HasCrCard</th>\n",
       "      <th>IsActiveMember</th>\n",
       "      <th>EstimatedSalary</th>\n",
       "      <th>Exited</th>\n",
       "    </tr>\n",
       "  </thead>\n",
       "  <tbody>\n",
       "    <tr>\n",
       "      <th>0</th>\n",
       "      <td>1</td>\n",
       "      <td>15634602</td>\n",
       "      <td>Hargrave</td>\n",
       "      <td>619</td>\n",
       "      <td>France</td>\n",
       "      <td>Female</td>\n",
       "      <td>42</td>\n",
       "      <td>2.0</td>\n",
       "      <td>0.00</td>\n",
       "      <td>1</td>\n",
       "      <td>1</td>\n",
       "      <td>1</td>\n",
       "      <td>101348.88</td>\n",
       "      <td>1</td>\n",
       "    </tr>\n",
       "    <tr>\n",
       "      <th>1</th>\n",
       "      <td>2</td>\n",
       "      <td>15647311</td>\n",
       "      <td>Hill</td>\n",
       "      <td>608</td>\n",
       "      <td>Spain</td>\n",
       "      <td>Female</td>\n",
       "      <td>41</td>\n",
       "      <td>1.0</td>\n",
       "      <td>83807.86</td>\n",
       "      <td>1</td>\n",
       "      <td>0</td>\n",
       "      <td>1</td>\n",
       "      <td>112542.58</td>\n",
       "      <td>0</td>\n",
       "    </tr>\n",
       "    <tr>\n",
       "      <th>2</th>\n",
       "      <td>3</td>\n",
       "      <td>15619304</td>\n",
       "      <td>Onio</td>\n",
       "      <td>502</td>\n",
       "      <td>France</td>\n",
       "      <td>Female</td>\n",
       "      <td>42</td>\n",
       "      <td>8.0</td>\n",
       "      <td>159660.80</td>\n",
       "      <td>3</td>\n",
       "      <td>1</td>\n",
       "      <td>0</td>\n",
       "      <td>113931.57</td>\n",
       "      <td>1</td>\n",
       "    </tr>\n",
       "    <tr>\n",
       "      <th>3</th>\n",
       "      <td>4</td>\n",
       "      <td>15701354</td>\n",
       "      <td>Boni</td>\n",
       "      <td>699</td>\n",
       "      <td>France</td>\n",
       "      <td>Female</td>\n",
       "      <td>39</td>\n",
       "      <td>1.0</td>\n",
       "      <td>0.00</td>\n",
       "      <td>2</td>\n",
       "      <td>0</td>\n",
       "      <td>0</td>\n",
       "      <td>93826.63</td>\n",
       "      <td>0</td>\n",
       "    </tr>\n",
       "    <tr>\n",
       "      <th>4</th>\n",
       "      <td>5</td>\n",
       "      <td>15737888</td>\n",
       "      <td>Mitchell</td>\n",
       "      <td>850</td>\n",
       "      <td>Spain</td>\n",
       "      <td>Female</td>\n",
       "      <td>43</td>\n",
       "      <td>2.0</td>\n",
       "      <td>125510.82</td>\n",
       "      <td>1</td>\n",
       "      <td>1</td>\n",
       "      <td>1</td>\n",
       "      <td>79084.10</td>\n",
       "      <td>0</td>\n",
       "    </tr>\n",
       "  </tbody>\n",
       "</table>\n",
       "</div>"
      ],
      "text/plain": [
       "   RowNumber  CustomerId   Surname  CreditScore Geography  Gender  Age  \\\n",
       "0          1    15634602  Hargrave          619    France  Female   42   \n",
       "1          2    15647311      Hill          608     Spain  Female   41   \n",
       "2          3    15619304      Onio          502    France  Female   42   \n",
       "3          4    15701354      Boni          699    France  Female   39   \n",
       "4          5    15737888  Mitchell          850     Spain  Female   43   \n",
       "\n",
       "   Tenure    Balance  NumOfProducts  HasCrCard  IsActiveMember  \\\n",
       "0     2.0       0.00              1          1               1   \n",
       "1     1.0   83807.86              1          0               1   \n",
       "2     8.0  159660.80              3          1               0   \n",
       "3     1.0       0.00              2          0               0   \n",
       "4     2.0  125510.82              1          1               1   \n",
       "\n",
       "   EstimatedSalary  Exited  \n",
       "0        101348.88       1  \n",
       "1        112542.58       0  \n",
       "2        113931.57       1  \n",
       "3         93826.63       0  \n",
       "4         79084.10       0  "
      ]
     },
     "execution_count": 81,
     "metadata": {},
     "output_type": "execute_result"
    }
   ],
   "source": [
    "data.head()"
   ]
  },
  {
   "cell_type": "markdown",
   "metadata": {},
   "source": [
    "Проверим данные на пропуски"
   ]
  },
  {
   "cell_type": "code",
   "execution_count": 82,
   "metadata": {},
   "outputs": [
    {
     "data": {
      "text/plain": [
       "RowNumber            0\n",
       "CustomerId           0\n",
       "Surname              0\n",
       "CreditScore          0\n",
       "Geography            0\n",
       "Gender               0\n",
       "Age                  0\n",
       "Tenure             909\n",
       "Balance              0\n",
       "NumOfProducts        0\n",
       "HasCrCard            0\n",
       "IsActiveMember       0\n",
       "EstimatedSalary      0\n",
       "Exited               0\n",
       "dtype: int64"
      ]
     },
     "execution_count": 82,
     "metadata": {},
     "output_type": "execute_result"
    }
   ],
   "source": [
    "data.isna().sum()"
   ]
  },
  {
   "cell_type": "markdown",
   "metadata": {},
   "source": [
    "Пропуски есть в одном столбце - Tenure. Заменим их на -1, чтобы избежать ошибок при вычислениях"
   ]
  },
  {
   "cell_type": "code",
   "execution_count": 83,
   "metadata": {},
   "outputs": [
    {
     "data": {
      "text/plain": [
       "array([ 2.,  1.,  8.,  7.,  4.,  6.,  3., 10.,  5.,  9.,  0., nan])"
      ]
     },
     "execution_count": 83,
     "metadata": {},
     "output_type": "execute_result"
    }
   ],
   "source": [
    "data['Tenure'].unique()"
   ]
  },
  {
   "cell_type": "code",
   "execution_count": 84,
   "metadata": {},
   "outputs": [],
   "source": [
    "data['Tenure'] = data['Tenure'].fillna(-1)"
   ]
  },
  {
   "cell_type": "code",
   "execution_count": 85,
   "metadata": {},
   "outputs": [
    {
     "data": {
      "text/plain": [
       "array([ 2.,  1.,  8.,  7.,  4.,  6.,  3., 10.,  5.,  9.,  0., -1.])"
      ]
     },
     "execution_count": 85,
     "metadata": {},
     "output_type": "execute_result"
    }
   ],
   "source": [
    "data['Tenure'].unique()"
   ]
  },
  {
   "cell_type": "markdown",
   "metadata": {},
   "source": [
    "В целом оставшиеся нулевые значения могут показывать, что клиент появился у банка меньше года назад."
   ]
  },
  {
   "cell_type": "code",
   "execution_count": 86,
   "metadata": {},
   "outputs": [
    {
     "data": {
      "text/plain": [
       " 1.0     952\n",
       " 2.0     950\n",
       " 8.0     933\n",
       " 3.0     928\n",
       " 5.0     927\n",
       " 7.0     925\n",
       "-1.0     909\n",
       " 4.0     885\n",
       " 9.0     882\n",
       " 6.0     881\n",
       " 10.0    446\n",
       " 0.0     382\n",
       "Name: Tenure, dtype: int64"
      ]
     },
     "execution_count": 86,
     "metadata": {},
     "output_type": "execute_result"
    }
   ],
   "source": [
    "data['Tenure'].value_counts()"
   ]
  },
  {
   "cell_type": "markdown",
   "metadata": {},
   "source": [
    "Удалим из таблицы три столбца, которые не несут полезной информации для обучающих моделей, так как ничего не говорят о поведении клиента"
   ]
  },
  {
   "cell_type": "code",
   "execution_count": 87,
   "metadata": {},
   "outputs": [],
   "source": [
    "data = data.drop(['RowNumber', 'CustomerId', 'Surname'], axis=1)"
   ]
  },
  {
   "cell_type": "code",
   "execution_count": 88,
   "metadata": {},
   "outputs": [
    {
     "data": {
      "text/html": [
       "<div>\n",
       "<style scoped>\n",
       "    .dataframe tbody tr th:only-of-type {\n",
       "        vertical-align: middle;\n",
       "    }\n",
       "\n",
       "    .dataframe tbody tr th {\n",
       "        vertical-align: top;\n",
       "    }\n",
       "\n",
       "    .dataframe thead th {\n",
       "        text-align: right;\n",
       "    }\n",
       "</style>\n",
       "<table border=\"1\" class=\"dataframe\">\n",
       "  <thead>\n",
       "    <tr style=\"text-align: right;\">\n",
       "      <th></th>\n",
       "      <th>CreditScore</th>\n",
       "      <th>Geography</th>\n",
       "      <th>Gender</th>\n",
       "      <th>Age</th>\n",
       "      <th>Tenure</th>\n",
       "      <th>Balance</th>\n",
       "      <th>NumOfProducts</th>\n",
       "      <th>HasCrCard</th>\n",
       "      <th>IsActiveMember</th>\n",
       "      <th>EstimatedSalary</th>\n",
       "      <th>Exited</th>\n",
       "    </tr>\n",
       "  </thead>\n",
       "  <tbody>\n",
       "    <tr>\n",
       "      <th>0</th>\n",
       "      <td>619</td>\n",
       "      <td>France</td>\n",
       "      <td>Female</td>\n",
       "      <td>42</td>\n",
       "      <td>2.0</td>\n",
       "      <td>0.00</td>\n",
       "      <td>1</td>\n",
       "      <td>1</td>\n",
       "      <td>1</td>\n",
       "      <td>101348.88</td>\n",
       "      <td>1</td>\n",
       "    </tr>\n",
       "    <tr>\n",
       "      <th>1</th>\n",
       "      <td>608</td>\n",
       "      <td>Spain</td>\n",
       "      <td>Female</td>\n",
       "      <td>41</td>\n",
       "      <td>1.0</td>\n",
       "      <td>83807.86</td>\n",
       "      <td>1</td>\n",
       "      <td>0</td>\n",
       "      <td>1</td>\n",
       "      <td>112542.58</td>\n",
       "      <td>0</td>\n",
       "    </tr>\n",
       "    <tr>\n",
       "      <th>2</th>\n",
       "      <td>502</td>\n",
       "      <td>France</td>\n",
       "      <td>Female</td>\n",
       "      <td>42</td>\n",
       "      <td>8.0</td>\n",
       "      <td>159660.80</td>\n",
       "      <td>3</td>\n",
       "      <td>1</td>\n",
       "      <td>0</td>\n",
       "      <td>113931.57</td>\n",
       "      <td>1</td>\n",
       "    </tr>\n",
       "    <tr>\n",
       "      <th>3</th>\n",
       "      <td>699</td>\n",
       "      <td>France</td>\n",
       "      <td>Female</td>\n",
       "      <td>39</td>\n",
       "      <td>1.0</td>\n",
       "      <td>0.00</td>\n",
       "      <td>2</td>\n",
       "      <td>0</td>\n",
       "      <td>0</td>\n",
       "      <td>93826.63</td>\n",
       "      <td>0</td>\n",
       "    </tr>\n",
       "    <tr>\n",
       "      <th>4</th>\n",
       "      <td>850</td>\n",
       "      <td>Spain</td>\n",
       "      <td>Female</td>\n",
       "      <td>43</td>\n",
       "      <td>2.0</td>\n",
       "      <td>125510.82</td>\n",
       "      <td>1</td>\n",
       "      <td>1</td>\n",
       "      <td>1</td>\n",
       "      <td>79084.10</td>\n",
       "      <td>0</td>\n",
       "    </tr>\n",
       "  </tbody>\n",
       "</table>\n",
       "</div>"
      ],
      "text/plain": [
       "   CreditScore Geography  Gender  Age  Tenure    Balance  NumOfProducts  \\\n",
       "0          619    France  Female   42     2.0       0.00              1   \n",
       "1          608     Spain  Female   41     1.0   83807.86              1   \n",
       "2          502    France  Female   42     8.0  159660.80              3   \n",
       "3          699    France  Female   39     1.0       0.00              2   \n",
       "4          850     Spain  Female   43     2.0  125510.82              1   \n",
       "\n",
       "   HasCrCard  IsActiveMember  EstimatedSalary  Exited  \n",
       "0          1               1        101348.88       1  \n",
       "1          0               1        112542.58       0  \n",
       "2          1               0        113931.57       1  \n",
       "3          0               0         93826.63       0  \n",
       "4          1               1         79084.10       0  "
      ]
     },
     "execution_count": 88,
     "metadata": {},
     "output_type": "execute_result"
    }
   ],
   "source": [
    "data.head()"
   ]
  },
  {
   "cell_type": "markdown",
   "metadata": {},
   "source": [
    "После удаления столбца 'Surname' у нас осталось два столбца с нечисловыми значениями - 'Geography' и 'Gender'. Переведем их в количественные методом OHE, а также уберем первые стоблцы в обработанных данных, чтобы избежать дамми-ошибок."
   ]
  },
  {
   "cell_type": "markdown",
   "metadata": {},
   "source": [
    "Разделим таблицу на признаки и целевой признак согласно условию задачи."
   ]
  },
  {
   "cell_type": "code",
   "execution_count": 90,
   "metadata": {},
   "outputs": [],
   "source": [
    "features = data.drop(['Exited'], axis=1)\n",
    "target = data['Exited']"
   ]
  },
  {
   "cell_type": "code",
   "execution_count": 91,
   "metadata": {},
   "outputs": [
    {
     "name": "stdout",
     "output_type": "stream",
     "text": [
      "(10000, 10)\n",
      "(10000,)\n"
     ]
    }
   ],
   "source": [
    "print(features.shape)\n",
    "print(target.shape)"
   ]
  },
  {
   "cell_type": "markdown",
   "metadata": {},
   "source": [
    "Разделим данные на три выборки - обучающую, валидационную, тестовую - в соотношении 3:1:1."
   ]
  },
  {
   "cell_type": "code",
   "execution_count": 92,
   "metadata": {},
   "outputs": [],
   "source": [
    "features_train, features_valid, target_train, target_valid = train_test_split(features, target, \n",
    "                                                                              test_size=0.4, \n",
    "                                                                              random_state=12345)"
   ]
  },
  {
   "cell_type": "code",
   "execution_count": 93,
   "metadata": {},
   "outputs": [],
   "source": [
    "features_valid, features_test, target_valid, target_test = train_test_split(features_valid, target_valid, \n",
    "                                                                            test_size=0.5, \n",
    "                                                                           random_state=12345)"
   ]
  },
  {
   "cell_type": "code",
   "execution_count": 94,
   "metadata": {},
   "outputs": [
    {
     "name": "stdout",
     "output_type": "stream",
     "text": [
      "Размер обучающей выборки:\n",
      "(6000, 10)\n",
      "(6000,)\n",
      "\n",
      "Размер валидационной выборки:\n",
      "(2000, 10)\n",
      "(2000,)\n",
      "\n",
      "Размер тестовой выборки:\n",
      "(2000, 10)\n",
      "(2000,)\n"
     ]
    }
   ],
   "source": [
    "print('Размер обучающей выборки:')\n",
    "print(features_train.shape)\n",
    "print(target_train.shape)\n",
    "print()\n",
    "print('Размер валидационной выборки:')\n",
    "print(features_valid.shape)\n",
    "print(target_valid.shape)\n",
    "print()\n",
    "print('Размер тестовой выборки:')\n",
    "print(features_test.shape)\n",
    "print(target_test.shape)"
   ]
  },
  {
   "cell_type": "code",
   "execution_count": 95,
   "metadata": {},
   "outputs": [],
   "source": [
    "features_train = pd.get_dummies(features_train, drop_first=True)\n",
    "features_valid = pd.get_dummies(features_valid, drop_first=True)\n",
    "features_test = pd.get_dummies(features_test, drop_first=True)"
   ]
  },
  {
   "cell_type": "code",
   "execution_count": 96,
   "metadata": {},
   "outputs": [
    {
     "data": {
      "text/html": [
       "<div>\n",
       "<style scoped>\n",
       "    .dataframe tbody tr th:only-of-type {\n",
       "        vertical-align: middle;\n",
       "    }\n",
       "\n",
       "    .dataframe tbody tr th {\n",
       "        vertical-align: top;\n",
       "    }\n",
       "\n",
       "    .dataframe thead th {\n",
       "        text-align: right;\n",
       "    }\n",
       "</style>\n",
       "<table border=\"1\" class=\"dataframe\">\n",
       "  <thead>\n",
       "    <tr style=\"text-align: right;\">\n",
       "      <th></th>\n",
       "      <th>CreditScore</th>\n",
       "      <th>Age</th>\n",
       "      <th>Tenure</th>\n",
       "      <th>Balance</th>\n",
       "      <th>NumOfProducts</th>\n",
       "      <th>HasCrCard</th>\n",
       "      <th>IsActiveMember</th>\n",
       "      <th>EstimatedSalary</th>\n",
       "      <th>Geography_Germany</th>\n",
       "      <th>Geography_Spain</th>\n",
       "      <th>Gender_Male</th>\n",
       "    </tr>\n",
       "  </thead>\n",
       "  <tbody>\n",
       "    <tr>\n",
       "      <th>7479</th>\n",
       "      <td>567</td>\n",
       "      <td>35</td>\n",
       "      <td>8.0</td>\n",
       "      <td>153137.74</td>\n",
       "      <td>1</td>\n",
       "      <td>1</td>\n",
       "      <td>0</td>\n",
       "      <td>88659.07</td>\n",
       "      <td>0</td>\n",
       "      <td>1</td>\n",
       "      <td>1</td>\n",
       "    </tr>\n",
       "    <tr>\n",
       "      <th>3411</th>\n",
       "      <td>711</td>\n",
       "      <td>37</td>\n",
       "      <td>8.0</td>\n",
       "      <td>113899.92</td>\n",
       "      <td>1</td>\n",
       "      <td>0</td>\n",
       "      <td>0</td>\n",
       "      <td>80215.20</td>\n",
       "      <td>0</td>\n",
       "      <td>0</td>\n",
       "      <td>0</td>\n",
       "    </tr>\n",
       "    <tr>\n",
       "      <th>6027</th>\n",
       "      <td>850</td>\n",
       "      <td>44</td>\n",
       "      <td>3.0</td>\n",
       "      <td>140393.65</td>\n",
       "      <td>2</td>\n",
       "      <td>0</td>\n",
       "      <td>1</td>\n",
       "      <td>186285.52</td>\n",
       "      <td>1</td>\n",
       "      <td>0</td>\n",
       "      <td>1</td>\n",
       "    </tr>\n",
       "    <tr>\n",
       "      <th>1247</th>\n",
       "      <td>512</td>\n",
       "      <td>24</td>\n",
       "      <td>6.0</td>\n",
       "      <td>0.00</td>\n",
       "      <td>2</td>\n",
       "      <td>1</td>\n",
       "      <td>0</td>\n",
       "      <td>37654.31</td>\n",
       "      <td>0</td>\n",
       "      <td>0</td>\n",
       "      <td>1</td>\n",
       "    </tr>\n",
       "    <tr>\n",
       "      <th>3716</th>\n",
       "      <td>665</td>\n",
       "      <td>27</td>\n",
       "      <td>2.0</td>\n",
       "      <td>147435.96</td>\n",
       "      <td>1</td>\n",
       "      <td>0</td>\n",
       "      <td>0</td>\n",
       "      <td>187508.06</td>\n",
       "      <td>1</td>\n",
       "      <td>0</td>\n",
       "      <td>0</td>\n",
       "    </tr>\n",
       "  </tbody>\n",
       "</table>\n",
       "</div>"
      ],
      "text/plain": [
       "      CreditScore  Age  Tenure    Balance  NumOfProducts  HasCrCard  \\\n",
       "7479          567   35     8.0  153137.74              1          1   \n",
       "3411          711   37     8.0  113899.92              1          0   \n",
       "6027          850   44     3.0  140393.65              2          0   \n",
       "1247          512   24     6.0       0.00              2          1   \n",
       "3716          665   27     2.0  147435.96              1          0   \n",
       "\n",
       "      IsActiveMember  EstimatedSalary  Geography_Germany  Geography_Spain  \\\n",
       "7479               0         88659.07                  0                1   \n",
       "3411               0         80215.20                  0                0   \n",
       "6027               1        186285.52                  1                0   \n",
       "1247               0         37654.31                  0                0   \n",
       "3716               0        187508.06                  1                0   \n",
       "\n",
       "      Gender_Male  \n",
       "7479            1  \n",
       "3411            0  \n",
       "6027            1  \n",
       "1247            1  \n",
       "3716            0  "
      ]
     },
     "execution_count": 96,
     "metadata": {},
     "output_type": "execute_result"
    }
   ],
   "source": [
    "features_train.head()"
   ]
  },
  {
   "cell_type": "markdown",
   "metadata": {},
   "source": [
    "Приведем признаки в одному масштабу."
   ]
  },
  {
   "cell_type": "code",
   "execution_count": 97,
   "metadata": {},
   "outputs": [],
   "source": [
    "numeric = ['CreditScore', 'Age', 'Tenure', 'Balance', 'NumOfProducts', 'EstimatedSalary']"
   ]
  },
  {
   "cell_type": "code",
   "execution_count": 98,
   "metadata": {},
   "outputs": [
    {
     "data": {
      "text/plain": [
       "StandardScaler()"
      ]
     },
     "execution_count": 98,
     "metadata": {},
     "output_type": "execute_result"
    }
   ],
   "source": [
    "scaler = StandardScaler()\n",
    "scaler.fit(features_train[numeric])"
   ]
  },
  {
   "cell_type": "code",
   "execution_count": 99,
   "metadata": {},
   "outputs": [],
   "source": [
    "features_train[numeric] = scaler.transform(features_train[numeric])\n",
    "features_valid[numeric] = scaler.transform(features_valid[numeric])\n",
    "features_test[numeric] = scaler.transform(features_test[numeric])\n",
    "\n",
    "pd.options.mode.chained_assignment = None"
   ]
  },
  {
   "cell_type": "markdown",
   "metadata": {},
   "source": [
    "Посмотрим на тренировочной выборке, что получилось."
   ]
  },
  {
   "cell_type": "code",
   "execution_count": 100,
   "metadata": {},
   "outputs": [
    {
     "data": {
      "text/html": [
       "<div>\n",
       "<style scoped>\n",
       "    .dataframe tbody tr th:only-of-type {\n",
       "        vertical-align: middle;\n",
       "    }\n",
       "\n",
       "    .dataframe tbody tr th {\n",
       "        vertical-align: top;\n",
       "    }\n",
       "\n",
       "    .dataframe thead th {\n",
       "        text-align: right;\n",
       "    }\n",
       "</style>\n",
       "<table border=\"1\" class=\"dataframe\">\n",
       "  <thead>\n",
       "    <tr style=\"text-align: right;\">\n",
       "      <th></th>\n",
       "      <th>CreditScore</th>\n",
       "      <th>Age</th>\n",
       "      <th>Tenure</th>\n",
       "      <th>Balance</th>\n",
       "      <th>NumOfProducts</th>\n",
       "      <th>HasCrCard</th>\n",
       "      <th>IsActiveMember</th>\n",
       "      <th>EstimatedSalary</th>\n",
       "      <th>Geography_Germany</th>\n",
       "      <th>Geography_Spain</th>\n",
       "      <th>Gender_Male</th>\n",
       "    </tr>\n",
       "  </thead>\n",
       "  <tbody>\n",
       "    <tr>\n",
       "      <th>7479</th>\n",
       "      <td>-0.886751</td>\n",
       "      <td>-0.373192</td>\n",
       "      <td>1.083651</td>\n",
       "      <td>1.232271</td>\n",
       "      <td>-0.891560</td>\n",
       "      <td>1</td>\n",
       "      <td>0</td>\n",
       "      <td>-0.187705</td>\n",
       "      <td>0</td>\n",
       "      <td>1</td>\n",
       "      <td>1</td>\n",
       "    </tr>\n",
       "    <tr>\n",
       "      <th>3411</th>\n",
       "      <td>0.608663</td>\n",
       "      <td>-0.183385</td>\n",
       "      <td>1.083651</td>\n",
       "      <td>0.600563</td>\n",
       "      <td>-0.891560</td>\n",
       "      <td>0</td>\n",
       "      <td>0</td>\n",
       "      <td>-0.333945</td>\n",
       "      <td>0</td>\n",
       "      <td>0</td>\n",
       "      <td>0</td>\n",
       "    </tr>\n",
       "    <tr>\n",
       "      <th>6027</th>\n",
       "      <td>2.052152</td>\n",
       "      <td>0.480939</td>\n",
       "      <td>-0.452862</td>\n",
       "      <td>1.027098</td>\n",
       "      <td>0.830152</td>\n",
       "      <td>0</td>\n",
       "      <td>1</td>\n",
       "      <td>1.503095</td>\n",
       "      <td>1</td>\n",
       "      <td>0</td>\n",
       "      <td>1</td>\n",
       "    </tr>\n",
       "    <tr>\n",
       "      <th>1247</th>\n",
       "      <td>-1.457915</td>\n",
       "      <td>-1.417129</td>\n",
       "      <td>0.469046</td>\n",
       "      <td>-1.233163</td>\n",
       "      <td>0.830152</td>\n",
       "      <td>1</td>\n",
       "      <td>0</td>\n",
       "      <td>-1.071061</td>\n",
       "      <td>0</td>\n",
       "      <td>0</td>\n",
       "      <td>1</td>\n",
       "    </tr>\n",
       "    <tr>\n",
       "      <th>3716</th>\n",
       "      <td>0.130961</td>\n",
       "      <td>-1.132419</td>\n",
       "      <td>-0.760164</td>\n",
       "      <td>1.140475</td>\n",
       "      <td>-0.891560</td>\n",
       "      <td>0</td>\n",
       "      <td>0</td>\n",
       "      <td>1.524268</td>\n",
       "      <td>1</td>\n",
       "      <td>0</td>\n",
       "      <td>0</td>\n",
       "    </tr>\n",
       "  </tbody>\n",
       "</table>\n",
       "</div>"
      ],
      "text/plain": [
       "      CreditScore       Age    Tenure   Balance  NumOfProducts  HasCrCard  \\\n",
       "7479    -0.886751 -0.373192  1.083651  1.232271      -0.891560          1   \n",
       "3411     0.608663 -0.183385  1.083651  0.600563      -0.891560          0   \n",
       "6027     2.052152  0.480939 -0.452862  1.027098       0.830152          0   \n",
       "1247    -1.457915 -1.417129  0.469046 -1.233163       0.830152          1   \n",
       "3716     0.130961 -1.132419 -0.760164  1.140475      -0.891560          0   \n",
       "\n",
       "      IsActiveMember  EstimatedSalary  Geography_Germany  Geography_Spain  \\\n",
       "7479               0        -0.187705                  0                1   \n",
       "3411               0        -0.333945                  0                0   \n",
       "6027               1         1.503095                  1                0   \n",
       "1247               0        -1.071061                  0                0   \n",
       "3716               0         1.524268                  1                0   \n",
       "\n",
       "      Gender_Male  \n",
       "7479            1  \n",
       "3411            0  \n",
       "6027            1  \n",
       "1247            1  \n",
       "3716            0  "
      ]
     },
     "execution_count": 100,
     "metadata": {},
     "output_type": "execute_result"
    }
   ],
   "source": [
    "features_train.head()"
   ]
  },
  {
   "cell_type": "markdown",
   "metadata": {},
   "source": [
    "## Исследование задачи"
   ]
  },
  {
   "cell_type": "markdown",
   "metadata": {},
   "source": [
    "Мы решаем задачу классификации, когда нужно угадать один из двух ответов - 0 или 1. Для этого у нас есть три модели обучения со своими преимуществами и недостатками. Начнем с дерева решений. Зададим параметр глубины дерева 5. Если глубина меньше 4, то модель недообучается, если выше - переобучается. Наибольшее значение точности мы получили при значении 5."
   ]
  },
  {
   "cell_type": "code",
   "execution_count": 101,
   "metadata": {},
   "outputs": [],
   "source": [
    "DTC_model = None\n",
    "DTC_result = 0\n",
    "\n",
    "for depth in range(1, 11):\n",
    "    model = DecisionTreeClassifier(random_state=12345, criterion='gini', max_depth=depth)\n",
    "    model.fit(features_train, target_train)\n",
    "    DTC_predictions = model.predict(features_valid)\n",
    "    result = accuracy_score(target_valid, DTC_predictions)\n",
    "    if result > DTC_result:\n",
    "        DTC_model = model\n",
    "        DTC_result = result"
   ]
  },
  {
   "cell_type": "markdown",
   "metadata": {},
   "source": [
    "Рассчитаем также остальные метрики: полноту, точность и f1-меру. Целевое значение f1-меры для нас 0.59. Модель его не достигает."
   ]
  },
  {
   "cell_type": "code",
   "execution_count": 102,
   "metadata": {},
   "outputs": [
    {
     "data": {
      "text/plain": [
       "DecisionTreeClassifier(max_depth=6, random_state=12345)"
      ]
     },
     "execution_count": 102,
     "metadata": {},
     "output_type": "execute_result"
    }
   ],
   "source": [
    "DTC_model"
   ]
  },
  {
   "cell_type": "code",
   "execution_count": 103,
   "metadata": {},
   "outputs": [],
   "source": [
    "DTC_result = accuracy_score(target_valid, DTC_predictions)\n",
    "DTC_recall = recall_score(target_valid, DTC_predictions)\n",
    "DTC_precision = precision_score(target_valid, DTC_predictions)\n",
    "DTC_f1 = f1_score(target_valid, DTC_predictions)"
   ]
  },
  {
   "cell_type": "code",
   "execution_count": 104,
   "metadata": {},
   "outputs": [
    {
     "name": "stdout",
     "output_type": "stream",
     "text": [
      "0.8375\n",
      "0.4473684210526316\n",
      "0.6654804270462633\n",
      "0.5350500715307582\n"
     ]
    }
   ],
   "source": [
    "print(DTC_result)\n",
    "print(DTC_recall)\n",
    "print(DTC_precision)\n",
    "print(DTC_f1)"
   ]
  },
  {
   "cell_type": "markdown",
   "metadata": {},
   "source": [
    "Случайный лес дает самое высокое качество предсказаний при более медленной работе."
   ]
  },
  {
   "cell_type": "code",
   "execution_count": 105,
   "metadata": {},
   "outputs": [],
   "source": [
    "RFC_model = RandomForestClassifier(random_state=12345, n_estimators=100)\n",
    "RFC_model.fit(features_train, target_train)\n",
    "RFC_predictions = RFC_model.predict(features_valid)"
   ]
  },
  {
   "cell_type": "code",
   "execution_count": 106,
   "metadata": {},
   "outputs": [],
   "source": [
    "RFC_result = accuracy_score(target_valid, RFC_predictions)\n",
    "RFC_recall = recall_score(target_valid, RFC_predictions)\n",
    "RFC_precision = precision_score(target_valid, RFC_predictions)\n",
    "RFC_f1 = f1_score(target_valid, RFC_predictions)"
   ]
  },
  {
   "cell_type": "markdown",
   "metadata": {},
   "source": [
    "В нашем случае при количестве деревьев 100 мы получили качество выше, чем в модели решающего дерева. Метрика f1 оказалась равна 0.59."
   ]
  },
  {
   "cell_type": "code",
   "execution_count": 107,
   "metadata": {},
   "outputs": [
    {
     "name": "stdout",
     "output_type": "stream",
     "text": [
      "0.8605\n",
      "0.48086124401913877\n",
      "0.7642585551330798\n",
      "0.5903083700440529\n"
     ]
    }
   ],
   "source": [
    "print(RFC_result)\n",
    "print(RFC_recall)\n",
    "print(RFC_precision)\n",
    "print(RFC_f1)"
   ]
  },
  {
   "cell_type": "markdown",
   "metadata": {},
   "source": [
    "Проверка на тестовой выборке уже не дает нужный результат."
   ]
  },
  {
   "cell_type": "code",
   "execution_count": 108,
   "metadata": {},
   "outputs": [
    {
     "data": {
      "text/plain": [
       "0.5317220543806647"
      ]
     },
     "execution_count": 108,
     "metadata": {},
     "output_type": "execute_result"
    }
   ],
   "source": [
    "RFC_pred_test = RFC_model.predict(features_test)\n",
    "f1_score(target_test, RFC_pred_test)"
   ]
  },
  {
   "cell_type": "markdown",
   "metadata": {},
   "source": [
    "Рассмотрим еще одну модель - логистическая регрессия. У нее малая вероятность переобучения из-за небольшого количества параметров, но метрики оказываются самыми слабыми."
   ]
  },
  {
   "cell_type": "code",
   "execution_count": 109,
   "metadata": {},
   "outputs": [],
   "source": [
    "LR_model = LogisticRegression(random_state=12345, solver='lbfgs', max_iter=200)\n",
    "LR_model.fit(features_train, target_train)\n",
    "LR_predictions = LR_model.predict(features_valid)"
   ]
  },
  {
   "cell_type": "code",
   "execution_count": 110,
   "metadata": {},
   "outputs": [],
   "source": [
    "LR_result = accuracy_score(target_valid, LR_predictions)\n",
    "LR_recall = recall_score(target_valid, LR_predictions)\n",
    "LR_precision = precision_score(target_valid, LR_predictions)\n",
    "LR_f1 = f1_score(target_valid, LR_predictions)"
   ]
  },
  {
   "cell_type": "code",
   "execution_count": 111,
   "metadata": {},
   "outputs": [
    {
     "name": "stdout",
     "output_type": "stream",
     "text": [
      "0.8025\n",
      "0.23684210526315788\n",
      "0.5657142857142857\n",
      "0.33389544688026984\n"
     ]
    }
   ],
   "source": [
    "print(LR_result)\n",
    "print(LR_recall)\n",
    "print(LR_precision)\n",
    "print(LR_f1)"
   ]
  },
  {
   "cell_type": "markdown",
   "metadata": {},
   "source": [
    "Проверим модель на адекватность. Посмотрим в целом на соотношение ответов 0 и 1 в наших данных. Как видно, количество ответов 0 существенно превышает ответы 1."
   ]
  },
  {
   "cell_type": "code",
   "execution_count": 112,
   "metadata": {},
   "outputs": [
    {
     "name": "stdout",
     "output_type": "stream",
     "text": [
      "0    0.7963\n",
      "1    0.2037\n",
      "Name: Exited, dtype: float64\n"
     ]
    },
    {
     "data": {
      "text/plain": [
       "<AxesSubplot:>"
      ]
     },
     "execution_count": 112,
     "metadata": {},
     "output_type": "execute_result"
    },
    {
     "data": {
      "image/png": "[encoded data removed]",
      "text/plain": [
       "<Figure size 432x288 with 1 Axes>"
      ]
     },
     "metadata": {
      "needs_background": "light"
     },
     "output_type": "display_data"
    }
   ],
   "source": [
    "class_frequency = data['Exited'].value_counts(normalize=True)\n",
    "print(class_frequency)\n",
    "class_frequency.plot(kind='bar')"
   ]
  },
  {
   "cell_type": "markdown",
   "metadata": {},
   "source": [
    "Посмотрим на то, какие ответы склонны предсказывать наши модели. Ближе всего к реальному значению оказывается модель случайного леса."
   ]
  },
  {
   "cell_type": "code",
   "execution_count": 113,
   "metadata": {},
   "outputs": [
    {
     "data": {
      "text/plain": [
       "0    0.879\n",
       "1    0.121\n",
       "dtype: float64"
      ]
     },
     "execution_count": 113,
     "metadata": {},
     "output_type": "execute_result"
    }
   ],
   "source": [
    "DTC_predictions = pd.Series(DTC_model.predict(features_valid))\n",
    "class_frequency = DTC_predictions.value_counts(normalize=True)\n",
    "class_frequency"
   ]
  },
  {
   "cell_type": "code",
   "execution_count": 114,
   "metadata": {},
   "outputs": [
    {
     "data": {
      "text/plain": [
       "0    0.8685\n",
       "1    0.1315\n",
       "dtype: float64"
      ]
     },
     "execution_count": 114,
     "metadata": {},
     "output_type": "execute_result"
    }
   ],
   "source": [
    "RFC_predictions = pd.Series(RFC_model.predict(features_valid))\n",
    "class_frequency = RFC_predictions.value_counts(normalize=True)\n",
    "class_frequency"
   ]
  },
  {
   "cell_type": "code",
   "execution_count": 115,
   "metadata": {},
   "outputs": [
    {
     "data": {
      "text/plain": [
       "0    0.9125\n",
       "1    0.0875\n",
       "dtype: float64"
      ]
     },
     "execution_count": 115,
     "metadata": {},
     "output_type": "execute_result"
    }
   ],
   "source": [
    "LR_predictions = pd.Series(LR_model.predict(features_valid))\n",
    "class_frequency = LR_predictions.value_counts(normalize=True)\n",
    "class_frequency"
   ]
  },
  {
   "cell_type": "markdown",
   "metadata": {},
   "source": [
    "Построим матрицы ошибок для каждой из наших моделей."
   ]
  },
  {
   "cell_type": "code",
   "execution_count": 116,
   "metadata": {},
   "outputs": [
    {
     "data": {
      "text/plain": [
       "array([[1528,   54],\n",
       "       [ 230,  188]])"
      ]
     },
     "execution_count": 116,
     "metadata": {},
     "output_type": "execute_result"
    }
   ],
   "source": [
    "confusion_matrix(target_valid, DTC_predictions)"
   ]
  },
  {
   "cell_type": "code",
   "execution_count": 117,
   "metadata": {},
   "outputs": [
    {
     "data": {
      "text/plain": [
       "array([[1520,   62],\n",
       "       [ 217,  201]])"
      ]
     },
     "execution_count": 117,
     "metadata": {},
     "output_type": "execute_result"
    }
   ],
   "source": [
    "confusion_matrix(target_valid, RFC_predictions)"
   ]
  },
  {
   "cell_type": "code",
   "execution_count": 118,
   "metadata": {},
   "outputs": [
    {
     "data": {
      "text/plain": [
       "array([[1506,   76],\n",
       "       [ 319,   99]])"
      ]
     },
     "execution_count": 118,
     "metadata": {},
     "output_type": "execute_result"
    }
   ],
   "source": [
    "confusion_matrix(target_valid, LR_predictions)"
   ]
  },
  {
   "cell_type": "markdown",
   "metadata": {},
   "source": [
    "## Борьба с дисбалансом"
   ]
  },
  {
   "cell_type": "markdown",
   "metadata": {},
   "source": [
    "Соотношение ответов далеко от 1:1. Попробуем исправить этот дисбаланс в данных. Сбалансируем данные в модели решающего дерева, чтобы редкие ответы получили больший вес."
   ]
  },
  {
   "cell_type": "code",
   "execution_count": 119,
   "metadata": {},
   "outputs": [],
   "source": [
    "DTC_model_weighted = DecisionTreeClassifier(random_state=12345, max_depth=5, class_weight='balanced')\n",
    "DTC_model_weighted.fit(features_train, target_train)\n",
    "DTC_weighted_pred = DTC_model_weighted.predict(features_valid)"
   ]
  },
  {
   "cell_type": "code",
   "execution_count": 120,
   "metadata": {},
   "outputs": [],
   "source": [
    "DTC_model_weighted_accuracy = accuracy_score(target_valid, DTC_weighted_pred)\n",
    "DTC_model_weighted_recall = recall_score(target_valid, DTC_weighted_pred)\n",
    "DTC_model_weighted_precision = precision_score(target_valid, DTC_weighted_pred)\n",
    "DTC_model_weighted_f1 = f1_score(target_valid, DTC_weighted_pred)"
   ]
  },
  {
   "cell_type": "markdown",
   "metadata": {},
   "source": [
    "Это позволило нам улучшить метрики модели и получить целевое значение f1-меры."
   ]
  },
  {
   "cell_type": "code",
   "execution_count": 121,
   "metadata": {},
   "outputs": [
    {
     "name": "stdout",
     "output_type": "stream",
     "text": [
      "0.8105\n",
      "0.6698564593301436\n",
      "0.5374280230326296\n",
      "0.5963791267305644\n"
     ]
    }
   ],
   "source": [
    "print(DTC_model_weighted_accuracy)\n",
    "print(DTC_model_weighted_recall)\n",
    "print(DTC_model_weighted_precision)\n",
    "print(DTC_model_weighted_f1)"
   ]
  },
  {
   "cell_type": "markdown",
   "metadata": {},
   "source": [
    "Также увеличим количество данных - сделаем редкий класс не таким редким техникой upsampling."
   ]
  },
  {
   "cell_type": "code",
   "execution_count": 122,
   "metadata": {},
   "outputs": [],
   "source": [
    "def upsample(features, target, repeat):\n",
    "    # разделим выборку на отрицательные и положительные ответы\n",
    "    features_zeros = features[target == 0]\n",
    "    features_ones = features[target == 1]\n",
    "    target_zeros = target[target == 0]\n",
    "    target_ones = target[target == 1]\n",
    "    \n",
    "    # скопируем несколько раз положительные ответы\n",
    "    features_upsampled = pd.concat([features_zeros] + [features_ones] * repeat)\n",
    "    target_upsampled = pd.concat([target_zeros] + [target_ones] * repeat)\n",
    "    \n",
    "    # перемешаем данные, чтобы одинаковые вопросы не шли друг за другом\n",
    "    features_upsampled, target_upsampled = shuffle(features_upsampled, target_upsampled, random_state=12345)\n",
    "    \n",
    "    return features_upsampled, target_upsampled"
   ]
  },
  {
   "cell_type": "code",
   "execution_count": 123,
   "metadata": {},
   "outputs": [],
   "source": [
    "# создадим новую обучающую выборку\n",
    "features_upsampled, target_upsampled = upsample(features_train, target_train, 5)"
   ]
  },
  {
   "cell_type": "code",
   "execution_count": 124,
   "metadata": {},
   "outputs": [],
   "source": [
    "# на новой обучающей выборке обучим модель решающего дерева\n",
    "DTC_model_up = DTC_model.fit(features_upsampled, target_upsampled)\n",
    "DTC_pred_up = DTC_model_up.predict(features_valid)"
   ]
  },
  {
   "cell_type": "code",
   "execution_count": 125,
   "metadata": {},
   "outputs": [],
   "source": [
    "# посчитаем метрики\n",
    "DTC_model_up_accuracy = accuracy_score(target_valid, DTC_pred_up)\n",
    "DTC_model_up_recall = recall_score(target_valid, DTC_pred_up)\n",
    "DTC_model_up_precision = precision_score(target_valid, DTC_pred_up)\n",
    "DTC_model_up_f1 = f1_score(target_valid, DTC_pred_up)"
   ]
  },
  {
   "cell_type": "markdown",
   "metadata": {},
   "source": [
    "Увеличение выборки на решающем дереве не помогло улучшить качество модели и даже снизило его."
   ]
  },
  {
   "cell_type": "code",
   "execution_count": 126,
   "metadata": {},
   "outputs": [
    {
     "name": "stdout",
     "output_type": "stream",
     "text": [
      "0.7335\n",
      "0.7464114832535885\n",
      "0.42219215155615697\n",
      "0.5393258426966292\n"
     ]
    }
   ],
   "source": [
    "print(DTC_model_up_accuracy)\n",
    "print(DTC_model_up_recall)\n",
    "print(DTC_model_up_precision)\n",
    "print(DTC_model_up_f1)"
   ]
  },
  {
   "cell_type": "code",
   "execution_count": 127,
   "metadata": {},
   "outputs": [],
   "source": [
    "# обучим на увеличенной выборке модель случайного леса\n",
    "RFC_model_up = RFC_model.fit(features_upsampled, target_upsampled)\n",
    "RFC_pred_up = RFC_model_up.predict(features_valid)"
   ]
  },
  {
   "cell_type": "code",
   "execution_count": 128,
   "metadata": {},
   "outputs": [],
   "source": [
    "# посчитаем метрики\n",
    "RFC_model_up_accuracy = accuracy_score(target_valid, RFC_pred_up)\n",
    "RFC_model_up_recall = recall_score(target_valid, RFC_pred_up)\n",
    "RFC_model_up_precision = precision_score(target_valid, RFC_pred_up)\n",
    "RFC_model_up_f1 = f1_score(target_valid, RFC_pred_up)"
   ]
  },
  {
   "cell_type": "markdown",
   "metadata": {},
   "source": [
    "Точность модели случайного леса на увеличенной выборке все еще остается на требуемом уровне."
   ]
  },
  {
   "cell_type": "code",
   "execution_count": 129,
   "metadata": {},
   "outputs": [
    {
     "name": "stdout",
     "output_type": "stream",
     "text": [
      "0.8475\n",
      "0.5406698564593302\n",
      "0.6666666666666666\n",
      "0.5970937912813739\n"
     ]
    }
   ],
   "source": [
    "print(RFC_model_up_accuracy)\n",
    "print(RFC_model_up_recall)\n",
    "print(RFC_model_up_precision)\n",
    "print(RFC_model_up_f1)"
   ]
  },
  {
   "cell_type": "markdown",
   "metadata": {},
   "source": [
    "Еще один способ борьбы с дисбалансом - уменьшение выборки, когда частые ответы становятся не такими частыми."
   ]
  },
  {
   "cell_type": "code",
   "execution_count": 130,
   "metadata": {},
   "outputs": [],
   "source": [
    "def downsample(features, target, fraction):\n",
    "    features_zeros = features[target == 0]\n",
    "    features_ones = features[target == 1]\n",
    "    target_zeros = target[target == 0]\n",
    "    target_ones = target[target == 1]\n",
    "    \n",
    "    # случайным образом отбросим часть отрицательных ответов\n",
    "    features_downsampled = pd.concat([features_zeros.sample(frac=fraction, random_state=12345)] + [features_ones])\n",
    "    target_downsampled = pd.concat([target_zeros.sample(frac=fraction, random_state=12345)] + [target_ones])\n",
    "    \n",
    "    # перемешаем данные\n",
    "    features_downsampled, target_downsampled = shuffle(features_downsampled, target_downsampled, random_state=12345)\n",
    "    \n",
    "    return features_downsampled, target_downsampled"
   ]
  },
  {
   "cell_type": "code",
   "execution_count": 131,
   "metadata": {},
   "outputs": [],
   "source": [
    "# создадим новую обучающую выборку\n",
    "features_downsampled, target_downsampled = downsample(features_train, target_train, 0.5)"
   ]
  },
  {
   "cell_type": "code",
   "execution_count": 132,
   "metadata": {},
   "outputs": [],
   "source": [
    "# обучим на новой выборке модель дерева решений\n",
    "DTC_model_down = DTC_model.fit(features_downsampled, target_downsampled)\n",
    "DTC_pred_down = DTC_model_down.predict(features_valid)"
   ]
  },
  {
   "cell_type": "code",
   "execution_count": 133,
   "metadata": {},
   "outputs": [],
   "source": [
    "DTC_model_down_accuracy = accuracy_score(target_valid, DTC_pred_down)\n",
    "DTC_model_down_recall = recall_score(target_valid, DTC_pred_down)\n",
    "DTC_model_down_precision = precision_score(target_valid, DTC_pred_down)\n",
    "DTC_model_down_f1 = f1_score(target_valid, DTC_pred_down)"
   ]
  },
  {
   "cell_type": "markdown",
   "metadata": {},
   "source": [
    "Модель дерева решений снова потеряла в качестве уже на уменьшении выборки."
   ]
  },
  {
   "cell_type": "code",
   "execution_count": 134,
   "metadata": {},
   "outputs": [
    {
     "name": "stdout",
     "output_type": "stream",
     "text": [
      "0.8215\n",
      "0.5311004784688995\n",
      "0.5796344647519582\n",
      "0.5543071161048689\n"
     ]
    }
   ],
   "source": [
    "print(DTC_model_down_accuracy)\n",
    "print(DTC_model_down_recall)\n",
    "print(DTC_model_down_precision)\n",
    "print(DTC_model_down_f1)"
   ]
  },
  {
   "cell_type": "code",
   "execution_count": 135,
   "metadata": {},
   "outputs": [],
   "source": [
    "# обучим на новой выборке модель случайного леса\n",
    "RFC_model_down = RFC_model.fit(features_downsampled, target_downsampled)\n",
    "RFC_pred_down = RFC_model_down.predict(features_valid)"
   ]
  },
  {
   "cell_type": "code",
   "execution_count": 136,
   "metadata": {},
   "outputs": [],
   "source": [
    "RFC_model_down_accuracy = accuracy_score(target_valid, RFC_pred_down)\n",
    "RFC_model_down_recall = recall_score(target_valid, RFC_pred_down)\n",
    "RFC_model_down_precision = precision_score(target_valid, RFC_pred_down)\n",
    "RFC_model_down_f1 = f1_score(target_valid, RFC_pred_down)"
   ]
  },
  {
   "cell_type": "markdown",
   "metadata": {},
   "source": [
    "f1-мера при уменьшении выборки показывает самый высокий результат."
   ]
  },
  {
   "cell_type": "code",
   "execution_count": 137,
   "metadata": {},
   "outputs": [
    {
     "name": "stdout",
     "output_type": "stream",
     "text": [
      "0.8445\n",
      "0.6004784688995215\n",
      "0.6354430379746835\n",
      "0.6174661746617465\n"
     ]
    }
   ],
   "source": [
    "print(RFC_model_down_accuracy)\n",
    "print(RFC_model_down_recall)\n",
    "print(RFC_model_down_precision)\n",
    "print(RFC_model_down_f1)"
   ]
  },
  {
   "cell_type": "markdown",
   "metadata": {},
   "source": [
    "## Тестирование модели"
   ]
  },
  {
   "cell_type": "markdown",
   "metadata": {},
   "source": [
    "Наилучший результат показала модель случайного леса с уменьшенной выборкой. Проверим ее качество на тестовых данных."
   ]
  },
  {
   "cell_type": "code",
   "execution_count": 138,
   "metadata": {},
   "outputs": [],
   "source": [
    "final_model = RFC_model_down\n",
    "final_model_prediction = final_model.predict(features_test)"
   ]
  },
  {
   "cell_type": "code",
   "execution_count": 139,
   "metadata": {},
   "outputs": [],
   "source": [
    "final_model_accuracy_test = accuracy_score(target_test, final_model_prediction)\n",
    "final_model_recall_test = recall_score(target_test, final_model_prediction)\n",
    "final_model_precision_test = precision_score(target_test, final_model_prediction)\n",
    "final_model_f1_test = f1_score(target_test, final_model_prediction)"
   ]
  },
  {
   "cell_type": "markdown",
   "metadata": {},
   "source": [
    "Результат снизился, но все еще остается на допустимом уровне."
   ]
  },
  {
   "cell_type": "code",
   "execution_count": 140,
   "metadata": {},
   "outputs": [
    {
     "name": "stdout",
     "output_type": "stream",
     "text": [
      "0.832\n",
      "0.5815602836879432\n",
      "0.6074074074074074\n",
      "0.5942028985507246\n"
     ]
    }
   ],
   "source": [
    "print(final_model_accuracy_test)\n",
    "print(final_model_recall_test)\n",
    "print(final_model_precision_test)\n",
    "print(final_model_f1_test)"
   ]
  },
  {
   "cell_type": "markdown",
   "metadata": {},
   "source": [
    "Построим PR-кривую, чтобы оценить, как выглядят значения метрик полноты и точности при изменении порога (границы, на которой заканчивается положительный класс и начинается отрицательный)."
   ]
  },
  {
   "cell_type": "code",
   "execution_count": 141,
   "metadata": {},
   "outputs": [],
   "source": [
    "probabilities_valid = final_model.predict_proba(features_valid)\n",
    "precision, recall, thresholds = precision_recall_curve(target_valid, probabilities_valid[:, 1])"
   ]
  },
  {
   "cell_type": "code",
   "execution_count": 142,
   "metadata": {},
   "outputs": [
    {
     "data": {
      "image/png": "[encoded data removed]",
      "text/plain": [
       "<Figure size 432x432 with 1 Axes>"
      ]
     },
     "metadata": {
      "needs_background": "light"
     },
     "output_type": "display_data"
    }
   ],
   "source": [
    "plt.figure(figsize=(6, 6))\n",
    "plt.step(recall, precision, where='post')\n",
    "plt.xlabel('Recall')\n",
    "plt.ylabel('Precision')\n",
    "plt.ylim([0.0, 1.05])\n",
    "plt.xlim([0.0, 1.0])\n",
    "plt.title('Кривая Precision-Recall')\n",
    "plt.show()"
   ]
  },
  {
   "cell_type": "markdown",
   "metadata": {},
   "source": [
    "Построим кривую ошибок. Чем выше она получается, тем выше качество модели. Прямая линия - это случайная модель."
   ]
  },
  {
   "cell_type": "code",
   "execution_count": 143,
   "metadata": {},
   "outputs": [],
   "source": [
    "precision, recall, thresholds = roc_curve(target_valid, probabilities_valid[:, 1])"
   ]
  },
  {
   "cell_type": "code",
   "execution_count": 144,
   "metadata": {},
   "outputs": [
    {
     "data": {
      "image/png": "[encoded data removed]",
      "text/plain": [
       "<Figure size 432x288 with 1 Axes>"
      ]
     },
     "metadata": {
      "needs_background": "light"
     },
     "output_type": "display_data"
    }
   ],
   "source": [
    "plt.figure()\n",
    "plt.plot(precision, recall)\n",
    "plt.plot([0, 1], [0, 1], linestyle='--')\n",
    "plt.xlim([0.0, 1.0])\n",
    "plt.ylim([0.0, 1.0])\n",
    "plt.xlabel('False Positive Rate')\n",
    "plt.ylabel('True Positive Rate')\n",
    "plt.title('ROC-кривая')\n",
    "plt.show()"
   ]
  },
  {
   "cell_type": "markdown",
   "metadata": {},
   "source": [
    "Посчитаем значение площади под кривой ошибок, чтобы оценить насколько наша модель отличается от случайной."
   ]
  },
  {
   "cell_type": "code",
   "execution_count": 145,
   "metadata": {},
   "outputs": [
    {
     "data": {
      "text/plain": [
       "0.8432273362408435"
      ]
     },
     "execution_count": 145,
     "metadata": {},
     "output_type": "execute_result"
    }
   ],
   "source": [
    "auc_roc = roc_auc_score(target_valid, probabilities_valid[:, 1])\n",
    "auc_roc"
   ]
  },
  {
   "cell_type": "markdown",
   "metadata": {},
   "source": [
    "## Вывод"
   ]
  },
  {
   "cell_type": "markdown",
   "metadata": {},
   "source": [
    "Наша задача заключалась в том, чтобы на основе исторических данных о поведении клиентов «Бета-банка» и расторжении договоров построить модель, которая будет прогнозировать, уйдет ли клиент из банка в ближайшее время или нет. Целевой значение F1-меры по условию было установлено на уровне 0.59. ",
    "\n",
    "Для этого нам понадобилось подготовить предоставленные данные. Мы нашли и убрали пропуски, удалили стобцы, не несущие полезной информации. Обработали неистовые значения методом OHE и привели к одному масштабу оставшиеся числовые значения.\n",
    "\n",
    "Мы рассмотрели три модели обучения. Самый высокий результат показала модель случайного леса - F1-мера равна 0.59.\n",
    "\n",
    "Мы попробовали улучшить этот результат, убрав дисбаланс в данных, так как количество ответов 0 в данных было существенно выше 1.\n",
    "\n",
    "Лучшего результата удалось добиться при уменьшении частых ответов техникой downsample. Мера F1 составила 0.617. Проверка на тестовых данных подтвердила качество модели, хотя значение F1 снизилось до 0.594, но осталось на целевом уровне.\n"
   ]
  },
  {
   "cell_type": "code",
   "execution_count": null,
   "metadata": {},
   "outputs": [],
   "source": []
  }
 ],
 "metadata": {
  "ExecuteTimeLog": [
   {
    "duration": 409,
    "start_time": "2023-02-16T08:18:07.284Z"
   },
   {
    "duration": 161,
    "start_time": "2023-02-16T08:18:45.020Z"
   },
   {
    "duration": 14,
    "start_time": "2023-02-16T08:18:53.142Z"
   },
   {
    "duration": 19,
    "start_time": "2023-02-16T08:19:22.733Z"
   },
   {
    "duration": 5,
    "start_time": "2023-02-16T08:20:07.109Z"
   },
   {
    "duration": 66,
    "start_time": "2023-02-16T08:20:18.959Z"
   },
   {
    "duration": 8,
    "start_time": "2023-02-16T08:20:35.539Z"
   },
   {
    "duration": 6,
    "start_time": "2023-02-16T08:20:45.790Z"
   },
   {
    "duration": 5,
    "start_time": "2023-02-16T08:26:48.834Z"
   },
   {
    "duration": 4,
    "start_time": "2023-02-16T08:27:03.801Z"
   },
   {
    "duration": 4,
    "start_time": "2023-02-16T08:27:10.608Z"
   },
   {
    "duration": 4,
    "start_time": "2023-02-16T08:27:23.241Z"
   },
   {
    "duration": 4,
    "start_time": "2023-02-16T08:27:50.772Z"
   },
   {
    "duration": 6,
    "start_time": "2023-02-16T08:29:13.825Z"
   },
   {
    "duration": 3,
    "start_time": "2023-02-16T08:29:28.344Z"
   },
   {
    "duration": 3,
    "start_time": "2023-02-16T08:30:14.919Z"
   },
   {
    "duration": 874,
    "start_time": "2023-02-16T08:34:05.456Z"
   },
   {
    "duration": 22,
    "start_time": "2023-02-16T08:34:19.150Z"
   },
   {
    "duration": 8,
    "start_time": "2023-02-16T08:35:56.035Z"
   },
   {
    "duration": 3,
    "start_time": "2023-02-16T08:36:24.404Z"
   },
   {
    "duration": 9,
    "start_time": "2023-02-16T08:36:51.163Z"
   },
   {
    "duration": 4,
    "start_time": "2023-02-16T08:36:51.914Z"
   },
   {
    "duration": 4,
    "start_time": "2023-02-16T08:37:27.266Z"
   },
   {
    "duration": 6,
    "start_time": "2023-02-16T08:37:44.026Z"
   },
   {
    "duration": 3,
    "start_time": "2023-02-16T08:37:44.816Z"
   },
   {
    "duration": 4,
    "start_time": "2023-02-16T08:37:45.552Z"
   },
   {
    "duration": 6,
    "start_time": "2023-02-16T08:39:07.878Z"
   },
   {
    "duration": 4,
    "start_time": "2023-02-16T08:39:16.928Z"
   },
   {
    "duration": 3,
    "start_time": "2023-02-16T08:39:31.771Z"
   },
   {
    "duration": 37,
    "start_time": "2023-02-16T08:42:30.544Z"
   },
   {
    "duration": 3,
    "start_time": "2023-02-16T08:46:57.012Z"
   },
   {
    "duration": 29,
    "start_time": "2023-02-16T08:48:06.881Z"
   },
   {
    "duration": 9,
    "start_time": "2023-02-16T08:51:41.530Z"
   },
   {
    "duration": 3,
    "start_time": "2023-02-16T08:52:08.270Z"
   },
   {
    "duration": 3,
    "start_time": "2023-02-16T08:52:56.956Z"
   },
   {
    "duration": 9,
    "start_time": "2023-02-16T08:54:43.820Z"
   },
   {
    "duration": 32,
    "start_time": "2023-02-16T08:55:01.082Z"
   },
   {
    "duration": 19,
    "start_time": "2023-02-16T08:55:33.715Z"
   },
   {
    "duration": 22,
    "start_time": "2023-02-16T08:56:17.689Z"
   },
   {
    "duration": 3,
    "start_time": "2023-02-16T09:01:28.587Z"
   },
   {
    "duration": 49,
    "start_time": "2023-02-16T09:01:28.592Z"
   },
   {
    "duration": 12,
    "start_time": "2023-02-16T09:01:28.643Z"
   },
   {
    "duration": 12,
    "start_time": "2023-02-16T09:01:28.656Z"
   },
   {
    "duration": 5,
    "start_time": "2023-02-16T09:01:28.670Z"
   },
   {
    "duration": 5,
    "start_time": "2023-02-16T09:01:28.676Z"
   },
   {
    "duration": 23,
    "start_time": "2023-02-16T09:01:28.682Z"
   },
   {
    "duration": 0,
    "start_time": "2023-02-16T09:01:28.707Z"
   },
   {
    "duration": 0,
    "start_time": "2023-02-16T09:01:28.708Z"
   },
   {
    "duration": 0,
    "start_time": "2023-02-16T09:01:28.709Z"
   },
   {
    "duration": 0,
    "start_time": "2023-02-16T09:01:28.710Z"
   },
   {
    "duration": 0,
    "start_time": "2023-02-16T09:01:28.711Z"
   },
   {
    "duration": 0,
    "start_time": "2023-02-16T09:01:28.712Z"
   },
   {
    "duration": 0,
    "start_time": "2023-02-16T09:01:28.713Z"
   },
   {
    "duration": 0,
    "start_time": "2023-02-16T09:01:28.713Z"
   },
   {
    "duration": 0,
    "start_time": "2023-02-16T09:01:28.714Z"
   },
   {
    "duration": 3,
    "start_time": "2023-02-16T09:01:39.473Z"
   },
   {
    "duration": 5,
    "start_time": "2023-02-16T09:01:43.615Z"
   },
   {
    "duration": 42,
    "start_time": "2023-02-16T09:01:44.291Z"
   },
   {
    "duration": 15,
    "start_time": "2023-02-16T09:01:44.916Z"
   },
   {
    "duration": 14,
    "start_time": "2023-02-16T09:01:45.799Z"
   },
   {
    "duration": 6,
    "start_time": "2023-02-16T09:01:47.939Z"
   },
   {
    "duration": 2,
    "start_time": "2023-02-16T09:01:48.944Z"
   },
   {
    "duration": 16,
    "start_time": "2023-02-16T09:01:49.825Z"
   },
   {
    "duration": 5,
    "start_time": "2023-02-16T09:01:50.854Z"
   },
   {
    "duration": 9,
    "start_time": "2023-02-16T09:01:51.700Z"
   },
   {
    "duration": 19,
    "start_time": "2023-02-16T09:01:52.299Z"
   },
   {
    "duration": 4,
    "start_time": "2023-02-16T09:01:54.286Z"
   },
   {
    "duration": 5,
    "start_time": "2023-02-16T09:01:55.000Z"
   },
   {
    "duration": 6,
    "start_time": "2023-02-16T09:01:55.978Z"
   },
   {
    "duration": 4,
    "start_time": "2023-02-16T09:01:56.799Z"
   },
   {
    "duration": 3,
    "start_time": "2023-02-16T09:01:57.557Z"
   },
   {
    "duration": 28,
    "start_time": "2023-02-16T09:01:58.399Z"
   },
   {
    "duration": 16,
    "start_time": "2023-02-16T09:03:00.058Z"
   },
   {
    "duration": 22,
    "start_time": "2023-02-16T09:03:09.493Z"
   },
   {
    "duration": 3,
    "start_time": "2023-02-16T09:03:56.963Z"
   },
   {
    "duration": 2,
    "start_time": "2023-02-16T09:04:27.932Z"
   },
   {
    "duration": 17,
    "start_time": "2023-02-16T09:05:25.641Z"
   },
   {
    "duration": 1264,
    "start_time": "2023-02-16T09:05:56.555Z"
   },
   {
    "duration": 15,
    "start_time": "2023-02-16T09:06:24.723Z"
   },
   {
    "duration": 1242,
    "start_time": "2023-02-16T09:06:58.290Z"
   },
   {
    "duration": 17,
    "start_time": "2023-02-16T09:07:13.559Z"
   },
   {
    "duration": 2,
    "start_time": "2023-02-16T09:07:18.048Z"
   },
   {
    "duration": 2,
    "start_time": "2023-02-16T09:07:23.020Z"
   },
   {
    "duration": 3,
    "start_time": "2023-02-16T09:10:42.927Z"
   },
   {
    "duration": 3,
    "start_time": "2023-02-16T09:11:01.491Z"
   },
   {
    "duration": 15,
    "start_time": "2023-02-16T09:11:02.356Z"
   },
   {
    "duration": 4,
    "start_time": "2023-02-16T09:11:14.622Z"
   },
   {
    "duration": 5,
    "start_time": "2023-02-16T09:39:31.647Z"
   },
   {
    "duration": 5,
    "start_time": "2023-02-16T09:40:33.281Z"
   },
   {
    "duration": 5,
    "start_time": "2023-02-16T09:41:02.772Z"
   },
   {
    "duration": 11,
    "start_time": "2023-02-16T09:41:36.257Z"
   },
   {
    "duration": 13,
    "start_time": "2023-02-16T09:41:50.933Z"
   },
   {
    "duration": 6,
    "start_time": "2023-02-16T09:42:21.580Z"
   },
   {
    "duration": 4,
    "start_time": "2023-02-16T09:42:22.342Z"
   },
   {
    "duration": 6,
    "start_time": "2023-02-16T09:42:29.579Z"
   },
   {
    "duration": 4,
    "start_time": "2023-02-16T09:42:30.188Z"
   },
   {
    "duration": 3,
    "start_time": "2023-02-16T09:42:30.875Z"
   },
   {
    "duration": 6,
    "start_time": "2023-02-16T09:42:31.591Z"
   },
   {
    "duration": 3,
    "start_time": "2023-02-16T09:42:32.364Z"
   },
   {
    "duration": 3,
    "start_time": "2023-02-16T09:42:33.069Z"
   },
   {
    "duration": 16,
    "start_time": "2023-02-16T09:42:33.832Z"
   },
   {
    "duration": 3,
    "start_time": "2023-02-16T09:49:25.800Z"
   },
   {
    "duration": 3,
    "start_time": "2023-02-16T09:53:40.528Z"
   },
   {
    "duration": 11,
    "start_time": "2023-02-16T09:54:20.883Z"
   },
   {
    "duration": 4,
    "start_time": "2023-02-16T09:54:31.550Z"
   },
   {
    "duration": 9,
    "start_time": "2023-02-16T09:56:10.330Z"
   },
   {
    "duration": 24,
    "start_time": "2023-02-16T09:56:28.227Z"
   },
   {
    "duration": 22,
    "start_time": "2023-02-16T09:57:03.151Z"
   },
   {
    "duration": 28,
    "start_time": "2023-02-16T09:57:21.777Z"
   },
   {
    "duration": 37,
    "start_time": "2023-02-16T09:58:51.172Z"
   },
   {
    "duration": 19,
    "start_time": "2023-02-16T09:59:08.184Z"
   },
   {
    "duration": 12,
    "start_time": "2023-02-16T09:59:21.745Z"
   },
   {
    "duration": 4,
    "start_time": "2023-02-16T10:01:06.843Z"
   },
   {
    "duration": 12,
    "start_time": "2023-02-16T10:01:07.670Z"
   },
   {
    "duration": 3,
    "start_time": "2023-02-16T10:01:22.001Z"
   },
   {
    "duration": 21,
    "start_time": "2023-02-16T10:01:22.751Z"
   },
   {
    "duration": 14,
    "start_time": "2023-02-16T10:01:23.835Z"
   },
   {
    "duration": 75,
    "start_time": "2023-02-16T13:42:19.150Z"
   },
   {
    "duration": 1073,
    "start_time": "2023-02-16T13:42:36.502Z"
   },
   {
    "duration": 78,
    "start_time": "2023-02-16T13:42:37.577Z"
   },
   {
    "duration": 21,
    "start_time": "2023-02-16T13:42:37.657Z"
   },
   {
    "duration": 29,
    "start_time": "2023-02-16T13:42:37.681Z"
   },
   {
    "duration": 7,
    "start_time": "2023-02-16T13:42:37.712Z"
   },
   {
    "duration": 7,
    "start_time": "2023-02-16T13:42:37.739Z"
   },
   {
    "duration": 5,
    "start_time": "2023-02-16T13:42:37.748Z"
   },
   {
    "duration": 9,
    "start_time": "2023-02-16T13:42:37.755Z"
   },
   {
    "duration": 14,
    "start_time": "2023-02-16T13:42:37.766Z"
   },
   {
    "duration": 19,
    "start_time": "2023-02-16T13:42:37.783Z"
   },
   {
    "duration": 49,
    "start_time": "2023-02-16T13:42:37.804Z"
   },
   {
    "duration": 5,
    "start_time": "2023-02-16T13:42:37.855Z"
   },
   {
    "duration": 20,
    "start_time": "2023-02-16T13:42:37.863Z"
   },
   {
    "duration": 21,
    "start_time": "2023-02-16T13:42:37.885Z"
   },
   {
    "duration": 9,
    "start_time": "2023-02-16T13:42:37.908Z"
   },
   {
    "duration": 31,
    "start_time": "2023-02-16T13:42:37.919Z"
   },
   {
    "duration": 35,
    "start_time": "2023-02-16T13:42:37.952Z"
   },
   {
    "duration": 8,
    "start_time": "2023-02-16T13:42:37.990Z"
   },
   {
    "duration": 10,
    "start_time": "2023-02-16T13:42:38.000Z"
   },
   {
    "duration": 34,
    "start_time": "2023-02-16T13:42:38.012Z"
   },
   {
    "duration": 16,
    "start_time": "2023-02-16T13:42:38.048Z"
   },
   {
    "duration": 103,
    "start_time": "2023-02-16T13:42:38.067Z"
   },
   {
    "duration": 3,
    "start_time": "2023-02-16T13:43:02.961Z"
   },
   {
    "duration": 3,
    "start_time": "2023-02-16T14:09:25.471Z"
   },
   {
    "duration": 43,
    "start_time": "2023-02-16T14:14:32.280Z"
   },
   {
    "duration": 17,
    "start_time": "2023-02-16T14:15:18.452Z"
   },
   {
    "duration": 18,
    "start_time": "2023-02-16T14:15:22.087Z"
   },
   {
    "duration": 7,
    "start_time": "2023-02-16T14:16:33.573Z"
   },
   {
    "duration": 17,
    "start_time": "2023-02-16T14:19:05.930Z"
   },
   {
    "duration": 6,
    "start_time": "2023-02-16T14:24:07.943Z"
   },
   {
    "duration": 10,
    "start_time": "2023-02-16T14:24:19.590Z"
   },
   {
    "duration": 7,
    "start_time": "2023-02-16T14:26:35.066Z"
   },
   {
    "duration": 6,
    "start_time": "2023-02-16T14:26:41.034Z"
   },
   {
    "duration": 9,
    "start_time": "2023-02-16T14:27:59.751Z"
   },
   {
    "duration": 244,
    "start_time": "2023-02-16T14:28:09.592Z"
   },
   {
    "duration": 258,
    "start_time": "2023-02-16T14:28:22.008Z"
   },
   {
    "duration": 13,
    "start_time": "2023-02-16T14:29:11.260Z"
   },
   {
    "duration": 26,
    "start_time": "2023-02-16T14:29:19.993Z"
   },
   {
    "duration": 3,
    "start_time": "2023-02-16T14:29:27.305Z"
   },
   {
    "duration": 40,
    "start_time": "2023-02-16T14:29:28.679Z"
   },
   {
    "duration": 19,
    "start_time": "2023-02-16T14:29:29.336Z"
   },
   {
    "duration": 19,
    "start_time": "2023-02-16T14:29:31.156Z"
   },
   {
    "duration": 9,
    "start_time": "2023-02-16T14:29:35.816Z"
   },
   {
    "duration": 11,
    "start_time": "2023-02-16T14:29:37.816Z"
   },
   {
    "duration": 19,
    "start_time": "2023-02-16T14:29:38.567Z"
   },
   {
    "duration": 14,
    "start_time": "2023-02-16T14:30:09.634Z"
   },
   {
    "duration": 5,
    "start_time": "2023-02-16T14:30:24.871Z"
   },
   {
    "duration": 6,
    "start_time": "2023-02-16T14:30:29.208Z"
   },
   {
    "duration": 21,
    "start_time": "2023-02-16T14:30:31.037Z"
   },
   {
    "duration": 12,
    "start_time": "2023-02-16T14:31:15.008Z"
   },
   {
    "duration": 13,
    "start_time": "2023-02-16T14:31:26.236Z"
   },
   {
    "duration": 3296,
    "start_time": "2023-02-16T14:35:10.336Z"
   },
   {
    "duration": 14,
    "start_time": "2023-02-16T14:35:42.794Z"
   },
   {
    "duration": 3,
    "start_time": "2023-02-16T14:35:53.226Z"
   },
   {
    "duration": 38,
    "start_time": "2023-02-16T14:35:53.231Z"
   },
   {
    "duration": 14,
    "start_time": "2023-02-16T14:35:53.270Z"
   },
   {
    "duration": 14,
    "start_time": "2023-02-16T14:35:53.286Z"
   },
   {
    "duration": 7,
    "start_time": "2023-02-16T14:35:53.303Z"
   },
   {
    "duration": 10,
    "start_time": "2023-02-16T14:35:53.312Z"
   },
   {
    "duration": 19,
    "start_time": "2023-02-16T14:35:53.324Z"
   },
   {
    "duration": 15,
    "start_time": "2023-02-16T14:35:53.345Z"
   },
   {
    "duration": 28,
    "start_time": "2023-02-16T14:35:53.362Z"
   },
   {
    "duration": 12,
    "start_time": "2023-02-16T14:35:53.392Z"
   },
   {
    "duration": 3,
    "start_time": "2023-02-16T14:42:14.869Z"
   },
   {
    "duration": 6,
    "start_time": "2023-02-16T14:43:17.776Z"
   },
   {
    "duration": 6,
    "start_time": "2023-02-16T14:48:14.747Z"
   },
   {
    "duration": 8,
    "start_time": "2023-02-16T14:49:26.500Z"
   },
   {
    "duration": 4,
    "start_time": "2023-02-16T14:50:43.801Z"
   },
   {
    "duration": 9,
    "start_time": "2023-02-16T14:52:40.736Z"
   },
   {
    "duration": 3,
    "start_time": "2023-02-16T14:52:49.463Z"
   },
   {
    "duration": 3,
    "start_time": "2023-02-16T14:54:44.425Z"
   },
   {
    "duration": 3,
    "start_time": "2023-02-16T14:58:16.649Z"
   },
   {
    "duration": 9,
    "start_time": "2023-02-16T14:59:56.377Z"
   },
   {
    "duration": 28,
    "start_time": "2023-02-16T15:02:09.989Z"
   },
   {
    "duration": 26,
    "start_time": "2023-02-16T15:02:15.656Z"
   },
   {
    "duration": 15,
    "start_time": "2023-02-16T15:02:46.934Z"
   },
   {
    "duration": 12,
    "start_time": "2023-02-16T15:03:13.423Z"
   },
   {
    "duration": 3,
    "start_time": "2023-02-16T15:19:11.913Z"
   },
   {
    "duration": 4,
    "start_time": "2023-02-16T15:23:09.059Z"
   },
   {
    "duration": 18,
    "start_time": "2023-02-16T15:23:16.499Z"
   },
   {
    "duration": 11,
    "start_time": "2023-02-16T15:24:34.026Z"
   },
   {
    "duration": 11,
    "start_time": "2023-02-16T15:24:44.513Z"
   },
   {
    "duration": 3,
    "start_time": "2023-02-16T15:25:10.657Z"
   },
   {
    "duration": 5,
    "start_time": "2023-02-16T15:25:15.845Z"
   },
   {
    "duration": 18,
    "start_time": "2023-02-16T15:25:45.206Z"
   },
   {
    "duration": 4,
    "start_time": "2023-02-16T15:25:57.051Z"
   },
   {
    "duration": 37,
    "start_time": "2023-02-16T15:25:57.058Z"
   },
   {
    "duration": 14,
    "start_time": "2023-02-16T15:25:57.111Z"
   },
   {
    "duration": 16,
    "start_time": "2023-02-16T15:25:57.128Z"
   },
   {
    "duration": 8,
    "start_time": "2023-02-16T15:25:57.146Z"
   },
   {
    "duration": 14,
    "start_time": "2023-02-16T15:25:57.155Z"
   },
   {
    "duration": 20,
    "start_time": "2023-02-16T15:25:57.171Z"
   },
   {
    "duration": 16,
    "start_time": "2023-02-16T15:25:57.193Z"
   },
   {
    "duration": 26,
    "start_time": "2023-02-16T15:25:57.211Z"
   },
   {
    "duration": 13,
    "start_time": "2023-02-16T15:25:57.239Z"
   },
   {
    "duration": 5,
    "start_time": "2023-02-16T15:25:57.253Z"
   },
   {
    "duration": 6,
    "start_time": "2023-02-16T15:25:57.260Z"
   },
   {
    "duration": 17,
    "start_time": "2023-02-16T15:25:57.269Z"
   },
   {
    "duration": 5,
    "start_time": "2023-02-16T15:25:57.288Z"
   },
   {
    "duration": 30,
    "start_time": "2023-02-16T15:25:57.295Z"
   },
   {
    "duration": 42,
    "start_time": "2023-02-16T15:25:57.328Z"
   },
   {
    "duration": 13,
    "start_time": "2023-02-16T15:25:57.372Z"
   },
   {
    "duration": 76,
    "start_time": "2023-02-16T15:25:57.386Z"
   },
   {
    "duration": 64,
    "start_time": "2023-02-16T15:26:27.629Z"
   },
   {
    "duration": 4,
    "start_time": "2023-02-16T15:26:37.860Z"
   },
   {
    "duration": 48,
    "start_time": "2023-02-16T15:27:20.008Z"
   },
   {
    "duration": 4,
    "start_time": "2023-02-16T15:27:25.846Z"
   },
   {
    "duration": 69,
    "start_time": "2023-02-16T15:28:27.982Z"
   },
   {
    "duration": 4,
    "start_time": "2023-02-16T15:28:32.189Z"
   },
   {
    "duration": 42,
    "start_time": "2023-02-17T10:49:44.474Z"
   },
   {
    "duration": 1079,
    "start_time": "2023-02-17T10:49:53.142Z"
   },
   {
    "duration": 82,
    "start_time": "2023-02-17T10:49:54.224Z"
   },
   {
    "duration": 40,
    "start_time": "2023-02-17T10:49:54.308Z"
   },
   {
    "duration": 17,
    "start_time": "2023-02-17T10:49:54.351Z"
   },
   {
    "duration": 9,
    "start_time": "2023-02-17T10:49:54.370Z"
   },
   {
    "duration": 21,
    "start_time": "2023-02-17T10:49:54.380Z"
   },
   {
    "duration": 7,
    "start_time": "2023-02-17T10:49:54.403Z"
   },
   {
    "duration": 33,
    "start_time": "2023-02-17T10:49:54.412Z"
   },
   {
    "duration": 49,
    "start_time": "2023-02-17T10:49:54.447Z"
   },
   {
    "duration": 11,
    "start_time": "2023-02-17T10:49:54.499Z"
   },
   {
    "duration": 6,
    "start_time": "2023-02-17T10:49:54.512Z"
   },
   {
    "duration": 4,
    "start_time": "2023-02-17T10:49:54.520Z"
   },
   {
    "duration": 9,
    "start_time": "2023-02-17T10:49:54.526Z"
   },
   {
    "duration": 6,
    "start_time": "2023-02-17T10:49:54.537Z"
   },
   {
    "duration": 5,
    "start_time": "2023-02-17T10:49:54.544Z"
   },
   {
    "duration": 38,
    "start_time": "2023-02-17T10:49:54.550Z"
   },
   {
    "duration": 12,
    "start_time": "2023-02-17T10:49:54.590Z"
   },
   {
    "duration": 88,
    "start_time": "2023-02-17T10:49:54.604Z"
   },
   {
    "duration": 0,
    "start_time": "2023-02-17T10:49:54.694Z"
   },
   {
    "duration": 0,
    "start_time": "2023-02-17T10:49:54.695Z"
   },
   {
    "duration": 3,
    "start_time": "2023-02-17T10:50:29.685Z"
   },
   {
    "duration": 36,
    "start_time": "2023-02-17T10:50:30.689Z"
   },
   {
    "duration": 19,
    "start_time": "2023-02-17T10:50:31.479Z"
   },
   {
    "duration": 12,
    "start_time": "2023-02-17T10:50:33.304Z"
   },
   {
    "duration": 8,
    "start_time": "2023-02-17T10:50:34.804Z"
   },
   {
    "duration": 10,
    "start_time": "2023-02-17T10:50:36.494Z"
   },
   {
    "duration": 4,
    "start_time": "2023-02-17T10:50:37.183Z"
   },
   {
    "duration": 8,
    "start_time": "2023-02-17T10:50:38.385Z"
   },
   {
    "duration": 18,
    "start_time": "2023-02-17T10:50:39.615Z"
   },
   {
    "duration": 12,
    "start_time": "2023-02-17T10:50:40.382Z"
   },
   {
    "duration": 6,
    "start_time": "2023-02-17T10:50:41.958Z"
   },
   {
    "duration": 4,
    "start_time": "2023-02-17T10:50:43.080Z"
   },
   {
    "duration": 10,
    "start_time": "2023-02-17T10:50:44.370Z"
   },
   {
    "duration": 6,
    "start_time": "2023-02-17T10:50:45.476Z"
   },
   {
    "duration": 3,
    "start_time": "2023-02-17T10:50:47.631Z"
   },
   {
    "duration": 33,
    "start_time": "2023-02-17T10:50:48.371Z"
   },
   {
    "duration": 13,
    "start_time": "2023-02-17T10:50:49.684Z"
   },
   {
    "duration": 19,
    "start_time": "2023-02-17T10:51:02.287Z"
   },
   {
    "duration": 4,
    "start_time": "2023-02-17T10:51:10.532Z"
   },
   {
    "duration": 55,
    "start_time": "2023-02-17T10:51:23.878Z"
   },
   {
    "duration": 4,
    "start_time": "2023-02-17T10:51:25.521Z"
   },
   {
    "duration": 29,
    "start_time": "2023-02-17T10:53:29.442Z"
   },
   {
    "duration": 27,
    "start_time": "2023-02-17T10:53:53.449Z"
   },
   {
    "duration": 13,
    "start_time": "2023-02-17T10:54:26.726Z"
   },
   {
    "duration": 24,
    "start_time": "2023-02-17T10:54:40.469Z"
   },
   {
    "duration": 21,
    "start_time": "2023-02-17T10:54:56.684Z"
   },
   {
    "duration": 10,
    "start_time": "2023-02-17T10:55:22.736Z"
   },
   {
    "duration": 11,
    "start_time": "2023-02-17T10:58:09.280Z"
   },
   {
    "duration": 381,
    "start_time": "2023-02-17T11:02:05.680Z"
   },
   {
    "duration": 4,
    "start_time": "2023-02-17T11:02:22.301Z"
   },
   {
    "duration": 6,
    "start_time": "2023-02-17T11:02:34.435Z"
   },
   {
    "duration": 1195,
    "start_time": "2023-02-17T11:02:44.676Z"
   },
   {
    "duration": 3,
    "start_time": "2023-02-17T11:02:45.873Z"
   },
   {
    "duration": 4,
    "start_time": "2023-02-17T11:02:48.284Z"
   },
   {
    "duration": 2686,
    "start_time": "2023-02-17T11:02:55.007Z"
   },
   {
    "duration": 4,
    "start_time": "2023-02-17T11:02:57.695Z"
   },
   {
    "duration": 2852,
    "start_time": "2023-02-17T11:03:05.563Z"
   },
   {
    "duration": 4,
    "start_time": "2023-02-17T11:03:08.417Z"
   },
   {
    "duration": 4,
    "start_time": "2023-02-17T11:03:09.178Z"
   },
   {
    "duration": 30131,
    "start_time": "2023-02-17T11:03:14.288Z"
   },
   {
    "duration": 4,
    "start_time": "2023-02-17T11:03:44.422Z"
   },
   {
    "duration": 1219,
    "start_time": "2023-02-17T11:04:04.946Z"
   },
   {
    "duration": 4,
    "start_time": "2023-02-17T11:04:06.167Z"
   },
   {
    "duration": 3,
    "start_time": "2023-02-17T11:04:08.437Z"
   },
   {
    "duration": 2708,
    "start_time": "2023-02-17T11:04:16.649Z"
   },
   {
    "duration": 5,
    "start_time": "2023-02-17T11:04:19.359Z"
   },
   {
    "duration": 5,
    "start_time": "2023-02-17T11:04:20.585Z"
   },
   {
    "duration": 2692,
    "start_time": "2023-02-17T11:05:42.113Z"
   },
   {
    "duration": 5,
    "start_time": "2023-02-17T11:05:44.808Z"
   },
   {
    "duration": 4,
    "start_time": "2023-02-17T11:05:46.232Z"
   },
   {
    "duration": 47,
    "start_time": "2023-02-17T11:07:01.080Z"
   },
   {
    "duration": 46,
    "start_time": "2023-02-17T11:07:07.183Z"
   },
   {
    "duration": 12,
    "start_time": "2023-02-17T11:07:50.073Z"
   },
   {
    "duration": 3,
    "start_time": "2023-02-17T11:07:55.793Z"
   },
   {
    "duration": 5,
    "start_time": "2023-02-17T11:08:29.075Z"
   },
   {
    "duration": 132,
    "start_time": "2023-02-17T11:08:34.975Z"
   },
   {
    "duration": 5,
    "start_time": "2023-02-17T11:08:35.577Z"
   },
   {
    "duration": 5,
    "start_time": "2023-02-17T11:08:38.569Z"
   },
   {
    "duration": 159,
    "start_time": "2023-02-17T11:09:00.564Z"
   },
   {
    "duration": 6,
    "start_time": "2023-02-17T11:09:01.472Z"
   },
   {
    "duration": 5,
    "start_time": "2023-02-17T11:09:02.665Z"
   },
   {
    "duration": 33135,
    "start_time": "2023-02-17T11:14:29.505Z"
   },
   {
    "duration": 151,
    "start_time": "2023-02-17T11:15:06.695Z"
   },
   {
    "duration": 12,
    "start_time": "2023-02-17T11:15:23.780Z"
   },
   {
    "duration": 5,
    "start_time": "2023-02-17T11:15:30.188Z"
   },
   {
    "duration": 106,
    "start_time": "2023-02-17T11:15:39.445Z"
   },
   {
    "duration": 152,
    "start_time": "2023-02-17T11:15:42.986Z"
   },
   {
    "duration": 550,
    "start_time": "2023-02-17T11:15:46.388Z"
   },
   {
    "duration": 201,
    "start_time": "2023-02-17T11:15:53.241Z"
   },
   {
    "duration": 123,
    "start_time": "2023-02-17T11:15:57.019Z"
   },
   {
    "duration": 292,
    "start_time": "2023-02-17T11:16:35.064Z"
   },
   {
    "duration": 8,
    "start_time": "2023-02-17T11:22:38.272Z"
   },
   {
    "duration": 36,
    "start_time": "2023-02-17T11:23:57.200Z"
   },
   {
    "duration": 5,
    "start_time": "2023-02-17T11:28:49.585Z"
   },
   {
    "duration": 9,
    "start_time": "2023-02-17T11:29:51.535Z"
   },
   {
    "duration": 469,
    "start_time": "2023-02-17T11:30:57.043Z"
   },
   {
    "duration": 35,
    "start_time": "2023-02-17T11:35:25.988Z"
   },
   {
    "duration": 5,
    "start_time": "2023-02-17T11:36:19.493Z"
   },
   {
    "duration": 5,
    "start_time": "2023-02-17T11:39:07.401Z"
   },
   {
    "duration": 7,
    "start_time": "2023-02-17T11:40:13.583Z"
   },
   {
    "duration": 3,
    "start_time": "2023-02-17T11:41:49.329Z"
   },
   {
    "duration": 7,
    "start_time": "2023-02-17T11:42:20.371Z"
   },
   {
    "duration": 6,
    "start_time": "2023-02-17T11:45:49.742Z"
   },
   {
    "duration": 104,
    "start_time": "2023-02-17T11:45:57.757Z"
   },
   {
    "duration": 7,
    "start_time": "2023-02-17T11:46:08.267Z"
   },
   {
    "duration": 7,
    "start_time": "2023-02-17T11:46:27.268Z"
   },
   {
    "duration": 6,
    "start_time": "2023-02-17T11:46:40.671Z"
   },
   {
    "duration": 15,
    "start_time": "2023-02-17T11:53:08.692Z"
   },
   {
    "duration": 6,
    "start_time": "2023-02-17T11:53:28.514Z"
   },
   {
    "duration": 9,
    "start_time": "2023-02-17T11:53:35.946Z"
   },
   {
    "duration": 5,
    "start_time": "2023-02-17T11:56:46.165Z"
   },
   {
    "duration": 7,
    "start_time": "2023-02-17T11:57:18.383Z"
   },
   {
    "duration": 179,
    "start_time": "2023-02-17T12:11:22.036Z"
   },
   {
    "duration": 15,
    "start_time": "2023-02-17T12:11:59.944Z"
   },
   {
    "duration": 11,
    "start_time": "2023-02-17T12:12:05.687Z"
   },
   {
    "duration": 32,
    "start_time": "2023-02-17T12:12:26.184Z"
   },
   {
    "duration": 32,
    "start_time": "2023-02-17T12:12:37.820Z"
   },
   {
    "duration": 27,
    "start_time": "2023-02-17T12:13:52.422Z"
   },
   {
    "duration": 26,
    "start_time": "2023-02-17T12:14:28.791Z"
   },
   {
    "duration": 32,
    "start_time": "2023-02-17T12:14:39.602Z"
   },
   {
    "duration": 26,
    "start_time": "2023-02-17T12:14:45.348Z"
   },
   {
    "duration": 27,
    "start_time": "2023-02-17T12:22:20.859Z"
   },
   {
    "duration": 8,
    "start_time": "2023-02-17T12:24:44.869Z"
   },
   {
    "duration": 7,
    "start_time": "2023-02-17T12:24:53.524Z"
   },
   {
    "duration": 6,
    "start_time": "2023-02-17T12:25:08.861Z"
   },
   {
    "duration": 8,
    "start_time": "2023-02-17T12:25:24.156Z"
   },
   {
    "duration": 6,
    "start_time": "2023-02-17T12:28:03.440Z"
   },
   {
    "duration": 9,
    "start_time": "2023-02-17T12:28:16.031Z"
   },
   {
    "duration": 8,
    "start_time": "2023-02-17T12:28:31.316Z"
   },
   {
    "duration": 7,
    "start_time": "2023-02-17T12:28:40.995Z"
   },
   {
    "duration": 8,
    "start_time": "2023-02-17T12:32:18.565Z"
   },
   {
    "duration": 7,
    "start_time": "2023-02-17T12:32:35.960Z"
   },
   {
    "duration": 7,
    "start_time": "2023-02-17T12:37:08.238Z"
   },
   {
    "duration": 8,
    "start_time": "2023-02-17T12:37:22.246Z"
   },
   {
    "duration": 6,
    "start_time": "2023-02-17T12:38:31.165Z"
   },
   {
    "duration": 7,
    "start_time": "2023-02-17T12:39:03.780Z"
   },
   {
    "duration": 26,
    "start_time": "2023-02-17T12:45:45.386Z"
   },
   {
    "duration": 156,
    "start_time": "2023-02-17T12:56:37.021Z"
   },
   {
    "duration": 4,
    "start_time": "2023-02-17T12:56:46.908Z"
   },
   {
    "duration": 26,
    "start_time": "2023-02-17T12:56:56.475Z"
   },
   {
    "duration": 4,
    "start_time": "2023-02-17T13:00:10.910Z"
   },
   {
    "duration": 5,
    "start_time": "2023-02-17T13:04:02.082Z"
   },
   {
    "duration": 7,
    "start_time": "2023-02-17T13:04:12.265Z"
   },
   {
    "duration": 7,
    "start_time": "2023-02-17T13:04:21.761Z"
   },
   {
    "duration": 8,
    "start_time": "2023-02-17T13:04:52.479Z"
   },
   {
    "duration": 8,
    "start_time": "2023-02-17T13:05:01.278Z"
   },
   {
    "duration": 26,
    "start_time": "2023-02-17T13:06:41.324Z"
   },
   {
    "duration": 4,
    "start_time": "2023-02-17T13:12:07.743Z"
   },
   {
    "duration": 81,
    "start_time": "2023-02-17T13:12:48.780Z"
   },
   {
    "duration": 37,
    "start_time": "2023-02-17T13:15:22.034Z"
   },
   {
    "duration": 6,
    "start_time": "2023-02-17T13:16:39.515Z"
   },
   {
    "duration": 6,
    "start_time": "2023-02-17T13:17:19.753Z"
   },
   {
    "duration": 44,
    "start_time": "2023-02-17T13:24:19.916Z"
   },
   {
    "duration": 5,
    "start_time": "2023-02-17T13:24:21.291Z"
   },
   {
    "duration": 36,
    "start_time": "2023-02-17T13:24:27.910Z"
   },
   {
    "duration": 8,
    "start_time": "2023-02-17T13:24:28.647Z"
   },
   {
    "duration": 33,
    "start_time": "2023-02-17T13:24:33.554Z"
   },
   {
    "duration": 5,
    "start_time": "2023-02-17T13:24:34.020Z"
   },
   {
    "duration": 42,
    "start_time": "2023-02-17T13:24:38.840Z"
   },
   {
    "duration": 6,
    "start_time": "2023-02-17T13:24:39.292Z"
   },
   {
    "duration": 50,
    "start_time": "2023-02-17T13:24:45.775Z"
   },
   {
    "duration": 6,
    "start_time": "2023-02-17T13:24:46.167Z"
   },
   {
    "duration": 50,
    "start_time": "2023-02-17T13:24:51.393Z"
   },
   {
    "duration": 5,
    "start_time": "2023-02-17T13:24:51.857Z"
   },
   {
    "duration": 32,
    "start_time": "2023-02-17T13:24:56.263Z"
   },
   {
    "duration": 5,
    "start_time": "2023-02-17T13:24:56.752Z"
   },
   {
    "duration": 4,
    "start_time": "2023-02-17T13:42:17.977Z"
   },
   {
    "duration": 4,
    "start_time": "2023-02-17T13:45:34.520Z"
   },
   {
    "duration": 12,
    "start_time": "2023-02-17T13:46:15.824Z"
   },
   {
    "duration": 18,
    "start_time": "2023-02-17T13:46:24.752Z"
   },
   {
    "duration": 4,
    "start_time": "2023-02-17T13:46:37.262Z"
   },
   {
    "duration": 11,
    "start_time": "2023-02-17T13:46:37.940Z"
   },
   {
    "duration": 17,
    "start_time": "2023-02-17T13:46:38.812Z"
   },
   {
    "duration": 4,
    "start_time": "2023-02-17T13:47:49.286Z"
   },
   {
    "duration": 5,
    "start_time": "2023-02-17T13:47:49.914Z"
   },
   {
    "duration": 12,
    "start_time": "2023-02-17T13:47:50.367Z"
   },
   {
    "duration": 19,
    "start_time": "2023-02-17T13:47:50.865Z"
   },
   {
    "duration": 4,
    "start_time": "2023-02-17T13:50:13.344Z"
   },
   {
    "duration": 20,
    "start_time": "2023-02-17T13:50:14.156Z"
   },
   {
    "duration": 4,
    "start_time": "2023-02-17T13:50:26.977Z"
   },
   {
    "duration": 17,
    "start_time": "2023-02-17T13:50:27.626Z"
   },
   {
    "duration": 5,
    "start_time": "2023-02-17T13:51:24.706Z"
   },
   {
    "duration": 17,
    "start_time": "2023-02-17T13:51:25.280Z"
   },
   {
    "duration": 3,
    "start_time": "2023-02-17T13:51:43.560Z"
   },
   {
    "duration": 48,
    "start_time": "2023-02-17T13:51:43.565Z"
   },
   {
    "duration": 14,
    "start_time": "2023-02-17T13:51:43.615Z"
   },
   {
    "duration": 22,
    "start_time": "2023-02-17T13:51:43.631Z"
   },
   {
    "duration": 7,
    "start_time": "2023-02-17T13:51:43.655Z"
   },
   {
    "duration": 15,
    "start_time": "2023-02-17T13:51:43.663Z"
   },
   {
    "duration": 8,
    "start_time": "2023-02-17T13:51:43.680Z"
   },
   {
    "duration": 14,
    "start_time": "2023-02-17T13:51:43.689Z"
   },
   {
    "duration": 24,
    "start_time": "2023-02-17T13:51:43.706Z"
   },
   {
    "duration": 14,
    "start_time": "2023-02-17T13:51:43.731Z"
   },
   {
    "duration": 5,
    "start_time": "2023-02-17T13:51:43.746Z"
   },
   {
    "duration": 9,
    "start_time": "2023-02-17T13:51:43.752Z"
   },
   {
    "duration": 12,
    "start_time": "2023-02-17T13:51:43.762Z"
   },
   {
    "duration": 12,
    "start_time": "2023-02-17T13:51:43.775Z"
   },
   {
    "duration": 20,
    "start_time": "2023-02-17T13:51:43.789Z"
   },
   {
    "duration": 33,
    "start_time": "2023-02-17T13:51:43.811Z"
   },
   {
    "duration": 12,
    "start_time": "2023-02-17T13:51:43.845Z"
   },
   {
    "duration": 165,
    "start_time": "2023-02-17T13:51:43.858Z"
   },
   {
    "duration": 5,
    "start_time": "2023-02-17T13:51:44.025Z"
   },
   {
    "duration": 4,
    "start_time": "2023-02-17T13:51:44.037Z"
   },
   {
    "duration": 2727,
    "start_time": "2023-02-17T13:51:44.043Z"
   },
   {
    "duration": 4,
    "start_time": "2023-02-17T13:51:46.772Z"
   },
   {
    "duration": 6,
    "start_time": "2023-02-17T13:51:46.778Z"
   },
   {
    "duration": 450,
    "start_time": "2023-02-17T13:51:46.786Z"
   },
   {
    "duration": 99,
    "start_time": "2023-02-17T13:51:47.239Z"
   },
   {
    "duration": 37,
    "start_time": "2023-02-17T13:51:47.340Z"
   },
   {
    "duration": 5,
    "start_time": "2023-02-17T13:51:47.379Z"
   },
   {
    "duration": 113,
    "start_time": "2023-02-17T13:51:47.385Z"
   },
   {
    "duration": 4,
    "start_time": "2023-02-17T13:51:47.500Z"
   },
   {
    "duration": 25,
    "start_time": "2023-02-17T13:51:47.506Z"
   },
   {
    "duration": 12,
    "start_time": "2023-02-17T13:51:47.533Z"
   },
   {
    "duration": 14,
    "start_time": "2023-02-17T13:51:47.546Z"
   },
   {
    "duration": 18,
    "start_time": "2023-02-17T13:51:47.562Z"
   },
   {
    "duration": 9,
    "start_time": "2023-02-17T13:51:47.582Z"
   },
   {
    "duration": 27,
    "start_time": "2023-02-17T13:51:47.592Z"
   },
   {
    "duration": 3,
    "start_time": "2023-02-17T13:51:47.621Z"
   },
   {
    "duration": 21,
    "start_time": "2023-02-17T13:51:47.626Z"
   },
   {
    "duration": 47,
    "start_time": "2023-02-17T13:51:47.648Z"
   },
   {
    "duration": 7,
    "start_time": "2023-02-17T13:51:47.697Z"
   },
   {
    "duration": 14,
    "start_time": "2023-02-17T13:51:47.705Z"
   },
   {
    "duration": 17,
    "start_time": "2023-02-17T13:51:47.721Z"
   },
   {
    "duration": 18,
    "start_time": "2023-02-17T13:51:47.740Z"
   },
   {
    "duration": 12,
    "start_time": "2023-02-17T13:52:15.236Z"
   },
   {
    "duration": 22,
    "start_time": "2023-02-17T13:52:15.584Z"
   },
   {
    "duration": 12,
    "start_time": "2023-02-17T13:52:22.870Z"
   },
   {
    "duration": 17,
    "start_time": "2023-02-17T13:52:23.222Z"
   },
   {
    "duration": 12,
    "start_time": "2023-02-17T13:52:28.596Z"
   },
   {
    "duration": 18,
    "start_time": "2023-02-17T13:52:29.135Z"
   },
   {
    "duration": 4,
    "start_time": "2023-02-17T13:55:10.445Z"
   },
   {
    "duration": 16,
    "start_time": "2023-02-17T13:55:10.971Z"
   },
   {
    "duration": 5,
    "start_time": "2023-02-17T14:12:30.265Z"
   },
   {
    "duration": 16,
    "start_time": "2023-02-17T14:12:30.781Z"
   },
   {
    "duration": 4,
    "start_time": "2023-02-17T14:13:19.801Z"
   },
   {
    "duration": 17,
    "start_time": "2023-02-17T14:13:28.487Z"
   },
   {
    "duration": 8,
    "start_time": "2023-02-17T14:18:42.654Z"
   },
   {
    "duration": 43,
    "start_time": "2023-02-17T14:20:28.377Z"
   },
   {
    "duration": 17,
    "start_time": "2023-02-17T14:20:29.687Z"
   },
   {
    "duration": 4,
    "start_time": "2023-02-17T14:20:36.593Z"
   },
   {
    "duration": 15,
    "start_time": "2023-02-17T14:20:39.047Z"
   },
   {
    "duration": 3,
    "start_time": "2023-02-17T14:21:53.268Z"
   },
   {
    "duration": 3,
    "start_time": "2023-02-17T14:21:58.862Z"
   },
   {
    "duration": 3,
    "start_time": "2023-02-17T14:22:03.694Z"
   },
   {
    "duration": 5,
    "start_time": "2023-02-17T14:22:06.940Z"
   },
   {
    "duration": 17,
    "start_time": "2023-02-17T14:22:07.483Z"
   },
   {
    "duration": 18,
    "start_time": "2023-02-17T14:22:07.965Z"
   },
   {
    "duration": 3,
    "start_time": "2023-02-17T14:22:39.332Z"
   },
   {
    "duration": 3,
    "start_time": "2023-02-17T14:22:39.811Z"
   },
   {
    "duration": 2,
    "start_time": "2023-02-17T14:22:40.229Z"
   },
   {
    "duration": 4,
    "start_time": "2023-02-17T14:22:40.654Z"
   },
   {
    "duration": 4,
    "start_time": "2023-02-17T14:22:42.291Z"
   },
   {
    "duration": 16,
    "start_time": "2023-02-17T14:22:43.572Z"
   },
   {
    "duration": 7,
    "start_time": "2023-02-17T14:23:06.874Z"
   },
   {
    "duration": 3,
    "start_time": "2023-02-17T14:23:20.706Z"
   },
   {
    "duration": 16,
    "start_time": "2023-02-17T14:23:25.463Z"
   },
   {
    "duration": 32,
    "start_time": "2023-02-17T14:23:34.120Z"
   },
   {
    "duration": 7,
    "start_time": "2023-02-17T14:23:35.369Z"
   },
   {
    "duration": 5,
    "start_time": "2023-02-17T14:23:48.630Z"
   },
   {
    "duration": 34,
    "start_time": "2023-02-17T14:23:50.150Z"
   },
   {
    "duration": 13,
    "start_time": "2023-02-17T14:23:50.961Z"
   },
   {
    "duration": 15,
    "start_time": "2023-02-17T14:23:52.430Z"
   },
   {
    "duration": 7,
    "start_time": "2023-02-17T14:23:54.004Z"
   },
   {
    "duration": 8,
    "start_time": "2023-02-17T14:23:57.825Z"
   },
   {
    "duration": 5,
    "start_time": "2023-02-17T14:23:58.812Z"
   },
   {
    "duration": 5,
    "start_time": "2023-02-17T14:24:00.227Z"
   },
   {
    "duration": 18,
    "start_time": "2023-02-17T14:24:01.351Z"
   },
   {
    "duration": 11,
    "start_time": "2023-02-17T14:24:02.144Z"
   },
   {
    "duration": 7,
    "start_time": "2023-02-17T14:24:03.538Z"
   },
   {
    "duration": 5,
    "start_time": "2023-02-17T14:24:05.991Z"
   },
   {
    "duration": 9,
    "start_time": "2023-02-17T14:24:07.653Z"
   },
   {
    "duration": 4,
    "start_time": "2023-02-17T14:24:08.512Z"
   },
   {
    "duration": 2,
    "start_time": "2023-02-17T14:24:10.571Z"
   },
   {
    "duration": 25,
    "start_time": "2023-02-17T14:24:11.256Z"
   },
   {
    "duration": 14,
    "start_time": "2023-02-17T14:24:11.845Z"
   },
   {
    "duration": 154,
    "start_time": "2023-02-17T14:24:14.321Z"
   },
   {
    "duration": 4,
    "start_time": "2023-02-17T14:24:15.231Z"
   },
   {
    "duration": 4,
    "start_time": "2023-02-17T14:24:17.082Z"
   },
   {
    "duration": 2605,
    "start_time": "2023-02-17T14:24:19.021Z"
   },
   {
    "duration": 10,
    "start_time": "2023-02-17T14:24:21.628Z"
   },
   {
    "duration": 7,
    "start_time": "2023-02-17T14:24:21.640Z"
   },
   {
    "duration": 227,
    "start_time": "2023-02-17T14:24:22.619Z"
   },
   {
    "duration": 8,
    "start_time": "2023-02-17T14:24:24.295Z"
   },
   {
    "duration": 33,
    "start_time": "2023-02-17T14:24:27.280Z"
   },
   {
    "duration": 5,
    "start_time": "2023-02-17T14:24:33.133Z"
   },
   {
    "duration": 85,
    "start_time": "2023-02-17T14:24:34.187Z"
   },
   {
    "duration": 5,
    "start_time": "2023-02-17T14:24:36.830Z"
   },
   {
    "duration": 4,
    "start_time": "2023-02-17T14:24:39.133Z"
   },
   {
    "duration": 6,
    "start_time": "2023-02-17T14:24:39.835Z"
   },
   {
    "duration": 5,
    "start_time": "2023-02-17T14:24:41.319Z"
   },
   {
    "duration": 5,
    "start_time": "2023-02-17T14:24:43.495Z"
   },
   {
    "duration": 7,
    "start_time": "2023-02-17T14:24:45.907Z"
   },
   {
    "duration": 35,
    "start_time": "2023-02-17T14:24:48.195Z"
   },
   {
    "duration": 4,
    "start_time": "2023-02-17T14:24:50.765Z"
   },
   {
    "duration": 12,
    "start_time": "2023-02-17T14:24:51.831Z"
   },
   {
    "duration": 33,
    "start_time": "2023-02-17T14:24:53.211Z"
   },
   {
    "duration": 6,
    "start_time": "2023-02-17T14:24:53.967Z"
   },
   {
    "duration": 4,
    "start_time": "2023-02-17T14:24:56.166Z"
   },
   {
    "duration": 11,
    "start_time": "2023-02-17T14:24:56.944Z"
   },
   {
    "duration": 19,
    "start_time": "2023-02-17T14:24:58.037Z"
   },
   {
    "duration": 4,
    "start_time": "2023-02-17T14:37:09.261Z"
   },
   {
    "duration": 39,
    "start_time": "2023-02-17T14:37:09.266Z"
   },
   {
    "duration": 12,
    "start_time": "2023-02-17T14:37:09.307Z"
   },
   {
    "duration": 11,
    "start_time": "2023-02-17T14:37:09.321Z"
   },
   {
    "duration": 5,
    "start_time": "2023-02-17T14:37:09.334Z"
   },
   {
    "duration": 13,
    "start_time": "2023-02-17T14:37:09.340Z"
   },
   {
    "duration": 4,
    "start_time": "2023-02-17T14:37:09.355Z"
   },
   {
    "duration": 7,
    "start_time": "2023-02-17T14:37:09.360Z"
   },
   {
    "duration": 17,
    "start_time": "2023-02-17T14:37:09.369Z"
   },
   {
    "duration": 20,
    "start_time": "2023-02-17T14:37:09.387Z"
   },
   {
    "duration": 4,
    "start_time": "2023-02-17T14:37:09.409Z"
   },
   {
    "duration": 22,
    "start_time": "2023-02-17T14:37:09.415Z"
   },
   {
    "duration": 7,
    "start_time": "2023-02-17T14:37:09.441Z"
   },
   {
    "duration": 4,
    "start_time": "2023-02-17T14:37:09.450Z"
   },
   {
    "duration": 3,
    "start_time": "2023-02-17T14:37:09.455Z"
   },
   {
    "duration": 23,
    "start_time": "2023-02-17T14:37:09.460Z"
   },
   {
    "duration": 11,
    "start_time": "2023-02-17T14:37:09.484Z"
   },
   {
    "duration": 172,
    "start_time": "2023-02-17T14:37:09.496Z"
   },
   {
    "duration": 4,
    "start_time": "2023-02-17T14:37:09.670Z"
   },
   {
    "duration": 7,
    "start_time": "2023-02-17T14:37:09.676Z"
   },
   {
    "duration": 2691,
    "start_time": "2023-02-17T14:37:09.684Z"
   },
   {
    "duration": 5,
    "start_time": "2023-02-17T14:37:12.377Z"
   },
   {
    "duration": 5,
    "start_time": "2023-02-17T14:37:12.384Z"
   },
   {
    "duration": 252,
    "start_time": "2023-02-17T14:37:12.391Z"
   },
   {
    "duration": 99,
    "start_time": "2023-02-17T14:37:12.645Z"
   },
   {
    "duration": 123,
    "start_time": "2023-02-17T14:37:12.746Z"
   },
   {
    "duration": 5,
    "start_time": "2023-02-17T14:37:12.870Z"
   },
   {
    "duration": 96,
    "start_time": "2023-02-17T14:37:12.876Z"
   },
   {
    "duration": 6,
    "start_time": "2023-02-17T14:37:12.973Z"
   },
   {
    "duration": 8,
    "start_time": "2023-02-17T14:37:12.981Z"
   },
   {
    "duration": 6,
    "start_time": "2023-02-17T14:37:12.991Z"
   },
   {
    "duration": 6,
    "start_time": "2023-02-17T14:37:12.999Z"
   },
   {
    "duration": 33,
    "start_time": "2023-02-17T14:37:13.006Z"
   },
   {
    "duration": 6,
    "start_time": "2023-02-17T14:37:13.041Z"
   },
   {
    "duration": 23,
    "start_time": "2023-02-17T14:37:13.049Z"
   },
   {
    "duration": 4,
    "start_time": "2023-02-17T14:37:13.073Z"
   },
   {
    "duration": 12,
    "start_time": "2023-02-17T14:37:13.080Z"
   },
   {
    "duration": 60,
    "start_time": "2023-02-17T14:37:13.093Z"
   },
   {
    "duration": 6,
    "start_time": "2023-02-17T14:37:13.154Z"
   },
   {
    "duration": 5,
    "start_time": "2023-02-17T14:37:13.161Z"
   },
   {
    "duration": 14,
    "start_time": "2023-02-17T14:37:13.168Z"
   },
   {
    "duration": 16,
    "start_time": "2023-02-17T14:37:13.184Z"
   },
   {
    "duration": 1155,
    "start_time": "2023-02-18T07:22:52.918Z"
   },
   {
    "duration": 90,
    "start_time": "2023-02-18T07:22:54.075Z"
   },
   {
    "duration": 20,
    "start_time": "2023-02-18T07:22:54.166Z"
   },
   {
    "duration": 12,
    "start_time": "2023-02-18T07:22:54.189Z"
   },
   {
    "duration": 6,
    "start_time": "2023-02-18T07:22:54.203Z"
   },
   {
    "duration": 27,
    "start_time": "2023-02-18T07:22:54.211Z"
   },
   {
    "duration": 6,
    "start_time": "2023-02-18T07:22:54.240Z"
   },
   {
    "duration": 7,
    "start_time": "2023-02-18T07:22:54.248Z"
   },
   {
    "duration": 22,
    "start_time": "2023-02-18T07:22:54.257Z"
   },
   {
    "duration": 11,
    "start_time": "2023-02-18T07:22:54.282Z"
   },
   {
    "duration": 6,
    "start_time": "2023-02-18T07:22:54.295Z"
   },
   {
    "duration": 39,
    "start_time": "2023-02-18T07:22:54.302Z"
   },
   {
    "duration": 9,
    "start_time": "2023-02-18T07:22:54.343Z"
   },
   {
    "duration": 5,
    "start_time": "2023-02-18T07:22:54.353Z"
   },
   {
    "duration": 7,
    "start_time": "2023-02-18T07:22:54.360Z"
   },
   {
    "duration": 34,
    "start_time": "2023-02-18T07:22:54.369Z"
   },
   {
    "duration": 33,
    "start_time": "2023-02-18T07:22:54.405Z"
   },
   {
    "duration": 177,
    "start_time": "2023-02-18T07:22:54.440Z"
   },
   {
    "duration": 5,
    "start_time": "2023-02-18T07:22:54.619Z"
   },
   {
    "duration": 15,
    "start_time": "2023-02-18T07:22:54.625Z"
   },
   {
    "duration": 2798,
    "start_time": "2023-02-18T07:22:54.641Z"
   },
   {
    "duration": 4,
    "start_time": "2023-02-18T07:22:57.441Z"
   },
   {
    "duration": 6,
    "start_time": "2023-02-18T07:22:57.447Z"
   },
   {
    "duration": 286,
    "start_time": "2023-02-18T07:22:57.454Z"
   },
   {
    "duration": 10,
    "start_time": "2023-02-18T07:22:57.741Z"
   },
   {
    "duration": 33,
    "start_time": "2023-02-18T07:22:57.838Z"
   },
   {
    "duration": 5,
    "start_time": "2023-02-18T07:22:57.872Z"
   },
   {
    "duration": 512,
    "start_time": "2023-02-18T07:22:57.880Z"
   },
   {
    "duration": 6,
    "start_time": "2023-02-18T07:22:58.394Z"
   },
   {
    "duration": 9,
    "start_time": "2023-02-18T07:22:58.401Z"
   },
   {
    "duration": 7,
    "start_time": "2023-02-18T07:22:58.411Z"
   },
   {
    "duration": 20,
    "start_time": "2023-02-18T07:22:58.419Z"
   },
   {
    "duration": 5,
    "start_time": "2023-02-18T07:22:58.440Z"
   },
   {
    "duration": 5,
    "start_time": "2023-02-18T07:22:58.446Z"
   },
   {
    "duration": 23,
    "start_time": "2023-02-18T07:22:58.452Z"
   },
   {
    "duration": 3,
    "start_time": "2023-02-18T07:22:58.476Z"
   },
   {
    "duration": 13,
    "start_time": "2023-02-18T07:22:58.481Z"
   },
   {
    "duration": 62,
    "start_time": "2023-02-18T07:22:58.496Z"
   },
   {
    "duration": 5,
    "start_time": "2023-02-18T07:22:58.560Z"
   },
   {
    "duration": 7,
    "start_time": "2023-02-18T07:22:58.567Z"
   },
   {
    "duration": 20,
    "start_time": "2023-02-18T07:22:58.575Z"
   },
   {
    "duration": 121,
    "start_time": "2023-02-18T07:22:58.597Z"
   },
   {
    "duration": 18,
    "start_time": "2023-02-18T07:24:53.646Z"
   },
   {
    "duration": 17,
    "start_time": "2023-02-18T07:25:12.200Z"
   },
   {
    "duration": 6,
    "start_time": "2023-02-18T07:26:23.333Z"
   },
   {
    "duration": 6,
    "start_time": "2023-02-18T07:26:37.249Z"
   },
   {
    "duration": 6,
    "start_time": "2023-02-18T07:26:44.627Z"
   },
   {
    "duration": 3,
    "start_time": "2023-02-18T07:26:46.167Z"
   },
   {
    "duration": 14,
    "start_time": "2023-02-18T07:26:47.042Z"
   },
   {
    "duration": 19,
    "start_time": "2023-02-18T07:26:47.646Z"
   },
   {
    "duration": 10,
    "start_time": "2023-02-18T07:29:11.382Z"
   },
   {
    "duration": 16,
    "start_time": "2023-02-18T07:29:12.783Z"
   },
   {
    "duration": 4,
    "start_time": "2023-02-18T07:29:29.512Z"
   },
   {
    "duration": 16,
    "start_time": "2023-02-18T07:29:30.282Z"
   },
   {
    "duration": 5,
    "start_time": "2023-02-18T07:29:39.296Z"
   },
   {
    "duration": 16,
    "start_time": "2023-02-18T07:29:39.789Z"
   },
   {
    "duration": 61,
    "start_time": "2023-02-18T07:43:39.789Z"
   },
   {
    "duration": 2,
    "start_time": "2023-02-18T07:43:46.491Z"
   },
   {
    "duration": 8,
    "start_time": "2023-02-18T07:45:33.016Z"
   },
   {
    "duration": 16,
    "start_time": "2023-02-18T07:45:54.327Z"
   },
   {
    "duration": 14,
    "start_time": "2023-02-18T07:46:25.048Z"
   },
   {
    "duration": 3,
    "start_time": "2023-02-18T07:47:02.676Z"
   },
   {
    "duration": 38,
    "start_time": "2023-02-18T07:47:02.684Z"
   },
   {
    "duration": 11,
    "start_time": "2023-02-18T07:47:02.724Z"
   },
   {
    "duration": 13,
    "start_time": "2023-02-18T07:47:02.736Z"
   },
   {
    "duration": 5,
    "start_time": "2023-02-18T07:47:02.750Z"
   },
   {
    "duration": 10,
    "start_time": "2023-02-18T07:47:02.757Z"
   },
   {
    "duration": 7,
    "start_time": "2023-02-18T07:47:02.769Z"
   },
   {
    "duration": 8,
    "start_time": "2023-02-18T07:47:02.777Z"
   },
   {
    "duration": 19,
    "start_time": "2023-02-18T07:47:02.787Z"
   },
   {
    "duration": 31,
    "start_time": "2023-02-18T07:47:02.807Z"
   },
   {
    "duration": 5,
    "start_time": "2023-02-18T07:47:02.840Z"
   },
   {
    "duration": 4,
    "start_time": "2023-02-18T07:47:02.847Z"
   },
   {
    "duration": 10,
    "start_time": "2023-02-18T07:47:02.853Z"
   },
   {
    "duration": 5,
    "start_time": "2023-02-18T07:47:02.865Z"
   },
   {
    "duration": 22,
    "start_time": "2023-02-18T07:47:02.874Z"
   },
   {
    "duration": 24,
    "start_time": "2023-02-18T07:47:02.898Z"
   },
   {
    "duration": 13,
    "start_time": "2023-02-18T07:47:02.936Z"
   },
   {
    "duration": 162,
    "start_time": "2023-02-18T07:47:02.950Z"
   },
   {
    "duration": 5,
    "start_time": "2023-02-18T07:47:03.113Z"
   },
   {
    "duration": 8,
    "start_time": "2023-02-18T07:47:03.119Z"
   },
   {
    "duration": 2649,
    "start_time": "2023-02-18T07:47:03.137Z"
   },
   {
    "duration": 5,
    "start_time": "2023-02-18T07:47:05.787Z"
   },
   {
    "duration": 12,
    "start_time": "2023-02-18T07:47:05.794Z"
   },
   {
    "duration": 337,
    "start_time": "2023-02-18T07:47:05.808Z"
   },
   {
    "duration": 99,
    "start_time": "2023-02-18T07:47:06.238Z"
   },
   {
    "duration": 38,
    "start_time": "2023-02-18T07:47:06.339Z"
   },
   {
    "duration": 4,
    "start_time": "2023-02-18T07:47:06.379Z"
   },
   {
    "duration": 106,
    "start_time": "2023-02-18T07:47:06.384Z"
   },
   {
    "duration": 6,
    "start_time": "2023-02-18T07:47:06.491Z"
   },
   {
    "duration": 9,
    "start_time": "2023-02-18T07:47:06.500Z"
   },
   {
    "duration": 10,
    "start_time": "2023-02-18T07:47:06.510Z"
   },
   {
    "duration": 20,
    "start_time": "2023-02-18T07:47:06.521Z"
   },
   {
    "duration": 5,
    "start_time": "2023-02-18T07:47:06.543Z"
   },
   {
    "duration": 5,
    "start_time": "2023-02-18T07:47:06.550Z"
   },
   {
    "duration": 23,
    "start_time": "2023-02-18T07:47:06.556Z"
   },
   {
    "duration": 4,
    "start_time": "2023-02-18T07:47:06.580Z"
   },
   {
    "duration": 19,
    "start_time": "2023-02-18T07:47:06.585Z"
   },
   {
    "duration": 62,
    "start_time": "2023-02-18T07:47:06.605Z"
   },
   {
    "duration": 6,
    "start_time": "2023-02-18T07:47:06.669Z"
   },
   {
    "duration": 4,
    "start_time": "2023-02-18T07:47:06.677Z"
   },
   {
    "duration": 14,
    "start_time": "2023-02-18T07:47:06.683Z"
   },
   {
    "duration": 5,
    "start_time": "2023-02-18T07:47:06.699Z"
   },
   {
    "duration": 40,
    "start_time": "2023-02-18T07:47:06.705Z"
   },
   {
    "duration": 14,
    "start_time": "2023-02-18T07:50:01.581Z"
   },
   {
    "duration": 24,
    "start_time": "2023-02-18T07:50:25.997Z"
   },
   {
    "duration": 3,
    "start_time": "2023-02-18T07:52:13.349Z"
   },
   {
    "duration": 4,
    "start_time": "2023-02-18T07:52:16.496Z"
   },
   {
    "duration": 38,
    "start_time": "2023-02-18T07:52:16.511Z"
   },
   {
    "duration": 12,
    "start_time": "2023-02-18T07:52:16.551Z"
   },
   {
    "duration": 13,
    "start_time": "2023-02-18T07:52:16.564Z"
   },
   {
    "duration": 6,
    "start_time": "2023-02-18T07:52:16.578Z"
   },
   {
    "duration": 5,
    "start_time": "2023-02-18T07:52:16.586Z"
   },
   {
    "duration": 9,
    "start_time": "2023-02-18T07:52:16.592Z"
   },
   {
    "duration": 3,
    "start_time": "2023-02-18T07:52:16.602Z"
   },
   {
    "duration": 7,
    "start_time": "2023-02-18T07:52:16.637Z"
   },
   {
    "duration": 19,
    "start_time": "2023-02-18T07:52:16.645Z"
   },
   {
    "duration": 11,
    "start_time": "2023-02-18T07:52:16.665Z"
   },
   {
    "duration": 5,
    "start_time": "2023-02-18T07:52:16.677Z"
   },
   {
    "duration": 5,
    "start_time": "2023-02-18T07:52:16.683Z"
   },
   {
    "duration": 8,
    "start_time": "2023-02-18T07:52:16.689Z"
   },
   {
    "duration": 5,
    "start_time": "2023-02-18T07:52:16.700Z"
   },
   {
    "duration": 3,
    "start_time": "2023-02-18T07:52:16.737Z"
   },
   {
    "duration": 24,
    "start_time": "2023-02-18T07:52:16.741Z"
   },
   {
    "duration": 11,
    "start_time": "2023-02-18T07:52:16.766Z"
   },
   {
    "duration": 170,
    "start_time": "2023-02-18T07:52:16.778Z"
   },
   {
    "duration": 5,
    "start_time": "2023-02-18T07:52:16.949Z"
   },
   {
    "duration": 6,
    "start_time": "2023-02-18T07:52:16.956Z"
   },
   {
    "duration": 2662,
    "start_time": "2023-02-18T07:52:16.963Z"
   },
   {
    "duration": 4,
    "start_time": "2023-02-18T07:52:19.627Z"
   },
   {
    "duration": 6,
    "start_time": "2023-02-18T07:52:19.636Z"
   },
   {
    "duration": 299,
    "start_time": "2023-02-18T07:52:19.643Z"
   },
   {
    "duration": 102,
    "start_time": "2023-02-18T07:52:19.944Z"
   },
   {
    "duration": 132,
    "start_time": "2023-02-18T07:52:20.048Z"
   },
   {
    "duration": 5,
    "start_time": "2023-02-18T07:52:20.181Z"
   },
   {
    "duration": 88,
    "start_time": "2023-02-18T07:52:20.187Z"
   },
   {
    "duration": 5,
    "start_time": "2023-02-18T07:52:20.277Z"
   },
   {
    "duration": 6,
    "start_time": "2023-02-18T07:52:20.283Z"
   },
   {
    "duration": 9,
    "start_time": "2023-02-18T07:52:20.291Z"
   },
   {
    "duration": 9,
    "start_time": "2023-02-18T07:52:20.302Z"
   },
   {
    "duration": 25,
    "start_time": "2023-02-18T07:52:20.313Z"
   },
   {
    "duration": 9,
    "start_time": "2023-02-18T07:52:20.340Z"
   },
   {
    "duration": 26,
    "start_time": "2023-02-18T07:52:20.350Z"
   },
   {
    "duration": 3,
    "start_time": "2023-02-18T07:52:20.378Z"
   },
   {
    "duration": 15,
    "start_time": "2023-02-18T07:52:20.383Z"
   },
   {
    "duration": 55,
    "start_time": "2023-02-18T07:52:20.400Z"
   },
   {
    "duration": 6,
    "start_time": "2023-02-18T07:52:20.456Z"
   },
   {
    "duration": 5,
    "start_time": "2023-02-18T07:52:20.463Z"
   },
   {
    "duration": 14,
    "start_time": "2023-02-18T07:52:20.471Z"
   },
   {
    "duration": 15,
    "start_time": "2023-02-18T07:52:20.487Z"
   },
   {
    "duration": 1101,
    "start_time": "2023-02-19T20:29:19.467Z"
   },
   {
    "duration": 167,
    "start_time": "2023-02-19T20:29:20.570Z"
   },
   {
    "duration": 24,
    "start_time": "2023-02-19T20:29:20.739Z"
   },
   {
    "duration": 16,
    "start_time": "2023-02-19T20:29:20.765Z"
   },
   {
    "duration": 7,
    "start_time": "2023-02-19T20:29:20.784Z"
   },
   {
    "duration": 12,
    "start_time": "2023-02-19T20:29:20.793Z"
   },
   {
    "duration": 5,
    "start_time": "2023-02-19T20:29:20.836Z"
   },
   {
    "duration": 8,
    "start_time": "2023-02-19T20:29:20.842Z"
   },
   {
    "duration": 22,
    "start_time": "2023-02-19T20:29:20.852Z"
   },
   {
    "duration": 14,
    "start_time": "2023-02-19T20:29:20.875Z"
   },
   {
    "duration": 7,
    "start_time": "2023-02-19T20:29:20.892Z"
   },
   {
    "duration": 36,
    "start_time": "2023-02-19T20:29:20.901Z"
   },
   {
    "duration": 9,
    "start_time": "2023-02-19T20:29:20.939Z"
   },
   {
    "duration": 5,
    "start_time": "2023-02-19T20:29:20.952Z"
   },
   {
    "duration": 4,
    "start_time": "2023-02-19T20:29:20.959Z"
   },
   {
    "duration": 33,
    "start_time": "2023-02-19T20:29:20.964Z"
   },
   {
    "duration": 41,
    "start_time": "2023-02-19T20:29:20.999Z"
   },
   {
    "duration": 222,
    "start_time": "2023-02-19T20:29:21.043Z"
   },
   {
    "duration": 6,
    "start_time": "2023-02-19T20:29:21.268Z"
   },
   {
    "duration": 8,
    "start_time": "2023-02-19T20:29:21.275Z"
   },
   {
    "duration": 2932,
    "start_time": "2023-02-19T20:29:21.285Z"
   },
   {
    "duration": 6,
    "start_time": "2023-02-19T20:29:24.219Z"
   },
   {
    "duration": 15,
    "start_time": "2023-02-19T20:29:24.237Z"
   },
   {
    "duration": 581,
    "start_time": "2023-02-19T20:29:24.254Z"
   },
   {
    "duration": 99,
    "start_time": "2023-02-19T20:29:24.838Z"
   },
   {
    "duration": 36,
    "start_time": "2023-02-19T20:29:24.939Z"
   },
   {
    "duration": 5,
    "start_time": "2023-02-19T20:29:24.977Z"
   },
   {
    "duration": 603,
    "start_time": "2023-02-19T20:29:24.984Z"
   },
   {
    "duration": 7,
    "start_time": "2023-02-19T20:29:25.589Z"
   },
   {
    "duration": 39,
    "start_time": "2023-02-19T20:29:25.598Z"
   },
   {
    "duration": 31,
    "start_time": "2023-02-19T20:29:25.639Z"
   },
   {
    "duration": 22,
    "start_time": "2023-02-19T20:29:25.672Z"
   },
   {
    "duration": 23,
    "start_time": "2023-02-19T20:29:25.696Z"
   },
   {
    "duration": 31,
    "start_time": "2023-02-19T20:29:25.721Z"
   },
   {
    "duration": 62,
    "start_time": "2023-02-19T20:29:25.753Z"
   },
   {
    "duration": 10,
    "start_time": "2023-02-19T20:29:25.817Z"
   },
   {
    "duration": 49,
    "start_time": "2023-02-19T20:29:25.828Z"
   },
   {
    "duration": 47,
    "start_time": "2023-02-19T20:29:25.879Z"
   },
   {
    "duration": 6,
    "start_time": "2023-02-19T20:29:25.930Z"
   },
   {
    "duration": 19,
    "start_time": "2023-02-19T20:29:25.937Z"
   },
   {
    "duration": 27,
    "start_time": "2023-02-19T20:29:25.960Z"
   },
   {
    "duration": 120,
    "start_time": "2023-02-19T20:29:25.989Z"
   },
   {
    "duration": 5,
    "start_time": "2023-02-19T21:21:42.930Z"
   },
   {
    "duration": 56,
    "start_time": "2023-02-19T21:21:42.937Z"
   },
   {
    "duration": 14,
    "start_time": "2023-02-19T21:21:42.994Z"
   },
   {
    "duration": 28,
    "start_time": "2023-02-19T21:21:43.009Z"
   },
   {
    "duration": 8,
    "start_time": "2023-02-19T21:21:43.040Z"
   },
   {
    "duration": 25,
    "start_time": "2023-02-19T21:21:43.049Z"
   },
   {
    "duration": 16,
    "start_time": "2023-02-19T21:21:43.075Z"
   },
   {
    "duration": 19,
    "start_time": "2023-02-19T21:21:43.093Z"
   },
   {
    "duration": 52,
    "start_time": "2023-02-19T21:21:43.114Z"
   },
   {
    "duration": 12,
    "start_time": "2023-02-19T21:21:43.167Z"
   },
   {
    "duration": 32,
    "start_time": "2023-02-19T21:21:43.181Z"
   },
   {
    "duration": 25,
    "start_time": "2023-02-19T21:21:43.215Z"
   },
   {
    "duration": 28,
    "start_time": "2023-02-19T21:21:43.242Z"
   },
   {
    "duration": 26,
    "start_time": "2023-02-19T21:21:43.271Z"
   },
   {
    "duration": 30,
    "start_time": "2023-02-19T21:21:43.298Z"
   },
   {
    "duration": 50,
    "start_time": "2023-02-19T21:21:43.330Z"
   },
   {
    "duration": 21,
    "start_time": "2023-02-19T21:21:43.383Z"
   },
   {
    "duration": 190,
    "start_time": "2023-02-19T21:21:43.406Z"
   },
   {
    "duration": 6,
    "start_time": "2023-02-19T21:21:43.598Z"
   },
   {
    "duration": 12,
    "start_time": "2023-02-19T21:21:43.606Z"
   },
   {
    "duration": 2882,
    "start_time": "2023-02-19T21:21:43.620Z"
   },
   {
    "duration": 5,
    "start_time": "2023-02-19T21:21:46.503Z"
   },
   {
    "duration": 6,
    "start_time": "2023-02-19T21:21:46.510Z"
   },
   {
    "duration": 327,
    "start_time": "2023-02-19T21:21:46.518Z"
   },
   {
    "duration": 100,
    "start_time": "2023-02-19T21:21:46.938Z"
   },
   {
    "duration": 43,
    "start_time": "2023-02-19T21:21:47.040Z"
   },
   {
    "duration": 6,
    "start_time": "2023-02-19T21:21:47.084Z"
   },
   {
    "duration": 111,
    "start_time": "2023-02-19T21:21:47.094Z"
   },
   {
    "duration": 6,
    "start_time": "2023-02-19T21:21:47.207Z"
   },
   {
    "duration": 6,
    "start_time": "2023-02-19T21:21:47.214Z"
   },
   {
    "duration": 6,
    "start_time": "2023-02-19T21:21:47.237Z"
   },
   {
    "duration": 5,
    "start_time": "2023-02-19T21:21:47.245Z"
   },
   {
    "duration": 6,
    "start_time": "2023-02-19T21:21:47.251Z"
   },
   {
    "duration": 15,
    "start_time": "2023-02-19T21:21:47.259Z"
   },
   {
    "duration": 31,
    "start_time": "2023-02-19T21:21:47.276Z"
   },
   {
    "duration": 4,
    "start_time": "2023-02-19T21:21:47.309Z"
   },
   {
    "duration": 14,
    "start_time": "2023-02-19T21:21:47.337Z"
   },
   {
    "duration": 37,
    "start_time": "2023-02-19T21:21:47.353Z"
   },
   {
    "duration": 8,
    "start_time": "2023-02-19T21:21:47.391Z"
   },
   {
    "duration": 5,
    "start_time": "2023-02-19T21:21:47.401Z"
   },
   {
    "duration": 41,
    "start_time": "2023-02-19T21:21:47.407Z"
   },
   {
    "duration": 21,
    "start_time": "2023-02-19T21:21:47.450Z"
   },
   {
    "duration": 20,
    "start_time": "2023-02-19T21:24:28.744Z"
   },
   {
    "duration": 18,
    "start_time": "2023-02-19T21:24:35.572Z"
   },
   {
    "duration": 3,
    "start_time": "2023-02-19T21:24:39.835Z"
   },
   {
    "duration": 23,
    "start_time": "2023-02-19T21:24:44.140Z"
   },
   {
    "duration": 14,
    "start_time": "2023-02-19T21:26:12.552Z"
   },
   {
    "duration": 20,
    "start_time": "2023-02-19T21:26:13.620Z"
   },
   {
    "duration": 13,
    "start_time": "2023-02-19T21:26:22.774Z"
   },
   {
    "duration": 20,
    "start_time": "2023-02-19T21:26:23.349Z"
   },
   {
    "duration": 12,
    "start_time": "2023-02-19T21:27:04.261Z"
   },
   {
    "duration": 18,
    "start_time": "2023-02-19T21:27:04.794Z"
   },
   {
    "duration": 5,
    "start_time": "2023-02-19T21:29:13.202Z"
   },
   {
    "duration": 4,
    "start_time": "2023-02-19T21:29:15.697Z"
   },
   {
    "duration": 78,
    "start_time": "2023-02-19T21:29:15.703Z"
   },
   {
    "duration": 14,
    "start_time": "2023-02-19T21:29:15.783Z"
   },
   {
    "duration": 29,
    "start_time": "2023-02-19T21:29:15.799Z"
   },
   {
    "duration": 20,
    "start_time": "2023-02-19T21:29:15.830Z"
   },
   {
    "duration": 29,
    "start_time": "2023-02-19T21:29:15.852Z"
   },
   {
    "duration": 29,
    "start_time": "2023-02-19T21:29:15.884Z"
   },
   {
    "duration": 21,
    "start_time": "2023-02-19T21:29:15.915Z"
   },
   {
    "duration": 31,
    "start_time": "2023-02-19T21:29:15.938Z"
   },
   {
    "duration": 82,
    "start_time": "2023-02-19T21:29:15.972Z"
   },
   {
    "duration": 21,
    "start_time": "2023-02-19T21:29:16.058Z"
   },
   {
    "duration": 29,
    "start_time": "2023-02-19T21:29:16.081Z"
   },
   {
    "duration": 25,
    "start_time": "2023-02-19T21:29:16.112Z"
   },
   {
    "duration": 22,
    "start_time": "2023-02-19T21:29:16.138Z"
   },
   {
    "duration": 14,
    "start_time": "2023-02-19T21:29:16.162Z"
   },
   {
    "duration": 50,
    "start_time": "2023-02-19T21:29:16.178Z"
   },
   {
    "duration": 14,
    "start_time": "2023-02-19T21:29:16.230Z"
   },
   {
    "duration": 16,
    "start_time": "2023-02-19T21:29:16.246Z"
   },
   {
    "duration": 48,
    "start_time": "2023-02-19T21:29:16.263Z"
   },
   {
    "duration": 0,
    "start_time": "2023-02-19T21:29:16.313Z"
   },
   {
    "duration": 0,
    "start_time": "2023-02-19T21:29:16.314Z"
   },
   {
    "duration": 0,
    "start_time": "2023-02-19T21:29:16.315Z"
   },
   {
    "duration": 0,
    "start_time": "2023-02-19T21:29:16.316Z"
   },
   {
    "duration": 0,
    "start_time": "2023-02-19T21:29:16.317Z"
   },
   {
    "duration": 0,
    "start_time": "2023-02-19T21:29:16.319Z"
   },
   {
    "duration": 0,
    "start_time": "2023-02-19T21:29:16.320Z"
   },
   {
    "duration": 0,
    "start_time": "2023-02-19T21:29:16.321Z"
   },
   {
    "duration": 0,
    "start_time": "2023-02-19T21:29:16.322Z"
   },
   {
    "duration": 0,
    "start_time": "2023-02-19T21:29:16.323Z"
   },
   {
    "duration": 0,
    "start_time": "2023-02-19T21:29:16.324Z"
   },
   {
    "duration": 0,
    "start_time": "2023-02-19T21:29:16.326Z"
   },
   {
    "duration": 0,
    "start_time": "2023-02-19T21:29:16.327Z"
   },
   {
    "duration": 0,
    "start_time": "2023-02-19T21:29:16.328Z"
   },
   {
    "duration": 0,
    "start_time": "2023-02-19T21:29:16.329Z"
   },
   {
    "duration": 0,
    "start_time": "2023-02-19T21:29:16.330Z"
   },
   {
    "duration": 0,
    "start_time": "2023-02-19T21:29:16.336Z"
   },
   {
    "duration": 0,
    "start_time": "2023-02-19T21:29:16.337Z"
   },
   {
    "duration": 0,
    "start_time": "2023-02-19T21:29:16.338Z"
   },
   {
    "duration": 0,
    "start_time": "2023-02-19T21:29:16.339Z"
   },
   {
    "duration": 0,
    "start_time": "2023-02-19T21:29:16.340Z"
   },
   {
    "duration": 0,
    "start_time": "2023-02-19T21:29:16.342Z"
   },
   {
    "duration": 0,
    "start_time": "2023-02-19T21:29:16.342Z"
   },
   {
    "duration": 0,
    "start_time": "2023-02-19T21:29:16.343Z"
   },
   {
    "duration": 18,
    "start_time": "2023-02-19T21:29:24.047Z"
   },
   {
    "duration": 4,
    "start_time": "2023-02-19T21:29:30.164Z"
   },
   {
    "duration": 66,
    "start_time": "2023-02-19T21:29:30.171Z"
   },
   {
    "duration": 13,
    "start_time": "2023-02-19T21:29:30.299Z"
   },
   {
    "duration": 31,
    "start_time": "2023-02-19T21:29:30.314Z"
   },
   {
    "duration": 28,
    "start_time": "2023-02-19T21:29:30.347Z"
   },
   {
    "duration": 32,
    "start_time": "2023-02-19T21:29:30.377Z"
   },
   {
    "duration": 25,
    "start_time": "2023-02-19T21:29:30.411Z"
   },
   {
    "duration": 34,
    "start_time": "2023-02-19T21:29:30.438Z"
   },
   {
    "duration": 46,
    "start_time": "2023-02-19T21:29:30.473Z"
   },
   {
    "duration": 38,
    "start_time": "2023-02-19T21:29:30.521Z"
   },
   {
    "duration": 35,
    "start_time": "2023-02-19T21:29:30.561Z"
   },
   {
    "duration": 45,
    "start_time": "2023-02-19T21:29:30.598Z"
   },
   {
    "duration": 40,
    "start_time": "2023-02-19T21:29:30.645Z"
   },
   {
    "duration": 32,
    "start_time": "2023-02-19T21:29:30.687Z"
   },
   {
    "duration": 22,
    "start_time": "2023-02-19T21:29:30.721Z"
   },
   {
    "duration": 44,
    "start_time": "2023-02-19T21:29:30.746Z"
   },
   {
    "duration": 47,
    "start_time": "2023-02-19T21:29:30.792Z"
   },
   {
    "duration": 34,
    "start_time": "2023-02-19T21:29:30.841Z"
   },
   {
    "duration": 54,
    "start_time": "2023-02-19T21:29:30.877Z"
   },
   {
    "duration": 0,
    "start_time": "2023-02-19T21:29:30.934Z"
   },
   {
    "duration": 0,
    "start_time": "2023-02-19T21:29:30.935Z"
   },
   {
    "duration": 0,
    "start_time": "2023-02-19T21:29:30.937Z"
   },
   {
    "duration": 0,
    "start_time": "2023-02-19T21:29:30.938Z"
   },
   {
    "duration": 0,
    "start_time": "2023-02-19T21:29:30.940Z"
   },
   {
    "duration": 0,
    "start_time": "2023-02-19T21:29:30.941Z"
   },
   {
    "duration": 0,
    "start_time": "2023-02-19T21:29:30.943Z"
   },
   {
    "duration": 0,
    "start_time": "2023-02-19T21:29:30.944Z"
   },
   {
    "duration": 1,
    "start_time": "2023-02-19T21:29:30.945Z"
   },
   {
    "duration": 0,
    "start_time": "2023-02-19T21:29:30.947Z"
   },
   {
    "duration": 0,
    "start_time": "2023-02-19T21:29:30.948Z"
   },
   {
    "duration": 0,
    "start_time": "2023-02-19T21:29:30.950Z"
   },
   {
    "duration": 0,
    "start_time": "2023-02-19T21:29:30.951Z"
   },
   {
    "duration": 0,
    "start_time": "2023-02-19T21:29:30.952Z"
   },
   {
    "duration": 0,
    "start_time": "2023-02-19T21:29:30.954Z"
   },
   {
    "duration": 0,
    "start_time": "2023-02-19T21:29:30.955Z"
   },
   {
    "duration": 0,
    "start_time": "2023-02-19T21:29:30.957Z"
   },
   {
    "duration": 0,
    "start_time": "2023-02-19T21:29:30.958Z"
   },
   {
    "duration": 0,
    "start_time": "2023-02-19T21:29:30.960Z"
   },
   {
    "duration": 0,
    "start_time": "2023-02-19T21:29:30.961Z"
   },
   {
    "duration": 0,
    "start_time": "2023-02-19T21:29:30.963Z"
   },
   {
    "duration": 0,
    "start_time": "2023-02-19T21:29:30.964Z"
   },
   {
    "duration": 0,
    "start_time": "2023-02-19T21:29:30.966Z"
   },
   {
    "duration": 0,
    "start_time": "2023-02-19T21:29:30.967Z"
   },
   {
    "duration": 5,
    "start_time": "2023-02-19T21:31:16.880Z"
   },
   {
    "duration": 4,
    "start_time": "2023-02-19T21:31:19.731Z"
   },
   {
    "duration": 72,
    "start_time": "2023-02-19T21:31:19.737Z"
   },
   {
    "duration": 13,
    "start_time": "2023-02-19T21:31:19.811Z"
   },
   {
    "duration": 14,
    "start_time": "2023-02-19T21:31:19.826Z"
   },
   {
    "duration": 6,
    "start_time": "2023-02-19T21:31:19.842Z"
   },
   {
    "duration": 10,
    "start_time": "2023-02-19T21:31:19.850Z"
   },
   {
    "duration": 5,
    "start_time": "2023-02-19T21:31:19.861Z"
   },
   {
    "duration": 7,
    "start_time": "2023-02-19T21:31:19.867Z"
   },
   {
    "duration": 21,
    "start_time": "2023-02-19T21:31:19.875Z"
   },
   {
    "duration": 42,
    "start_time": "2023-02-19T21:31:19.898Z"
   },
   {
    "duration": 6,
    "start_time": "2023-02-19T21:31:19.942Z"
   },
   {
    "duration": 5,
    "start_time": "2023-02-19T21:31:19.950Z"
   },
   {
    "duration": 12,
    "start_time": "2023-02-19T21:31:19.958Z"
   },
   {
    "duration": 4,
    "start_time": "2023-02-19T21:31:19.972Z"
   },
   {
    "duration": 6,
    "start_time": "2023-02-19T21:31:19.978Z"
   },
   {
    "duration": 76,
    "start_time": "2023-02-19T21:31:19.985Z"
   },
   {
    "duration": 14,
    "start_time": "2023-02-19T21:31:20.064Z"
   },
   {
    "duration": 9,
    "start_time": "2023-02-19T21:31:20.080Z"
   },
   {
    "duration": 198,
    "start_time": "2023-02-19T21:31:20.090Z"
   },
   {
    "duration": 6,
    "start_time": "2023-02-19T21:31:20.289Z"
   },
   {
    "duration": 6,
    "start_time": "2023-02-19T21:31:20.297Z"
   },
   {
    "duration": 2910,
    "start_time": "2023-02-19T21:31:20.305Z"
   },
   {
    "duration": 5,
    "start_time": "2023-02-19T21:31:23.217Z"
   },
   {
    "duration": 13,
    "start_time": "2023-02-19T21:31:23.224Z"
   },
   {
    "duration": 303,
    "start_time": "2023-02-19T21:31:23.239Z"
   },
   {
    "duration": 100,
    "start_time": "2023-02-19T21:31:23.544Z"
   },
   {
    "duration": 124,
    "start_time": "2023-02-19T21:31:23.646Z"
   },
   {
    "duration": 6,
    "start_time": "2023-02-19T21:31:23.772Z"
   },
   {
    "duration": 120,
    "start_time": "2023-02-19T21:31:23.780Z"
   },
   {
    "duration": 5,
    "start_time": "2023-02-19T21:31:23.902Z"
   },
   {
    "duration": 10,
    "start_time": "2023-02-19T21:31:23.909Z"
   },
   {
    "duration": 27,
    "start_time": "2023-02-19T21:31:23.921Z"
   },
   {
    "duration": 10,
    "start_time": "2023-02-19T21:31:23.950Z"
   },
   {
    "duration": 16,
    "start_time": "2023-02-19T21:31:23.961Z"
   },
   {
    "duration": 15,
    "start_time": "2023-02-19T21:31:23.979Z"
   },
   {
    "duration": 28,
    "start_time": "2023-02-19T21:31:23.995Z"
   },
   {
    "duration": 4,
    "start_time": "2023-02-19T21:31:24.027Z"
   },
   {
    "duration": 25,
    "start_time": "2023-02-19T21:31:24.032Z"
   },
   {
    "duration": 92,
    "start_time": "2023-02-19T21:31:24.059Z"
   },
   {
    "duration": 6,
    "start_time": "2023-02-19T21:31:24.153Z"
   },
   {
    "duration": 16,
    "start_time": "2023-02-19T21:31:24.161Z"
   },
   {
    "duration": 37,
    "start_time": "2023-02-19T21:31:24.179Z"
   },
   {
    "duration": 37,
    "start_time": "2023-02-19T21:31:24.218Z"
   },
   {
    "duration": 5,
    "start_time": "2023-02-19T21:32:55.184Z"
   },
   {
    "duration": 5,
    "start_time": "2023-02-19T21:32:58.480Z"
   },
   {
    "duration": 43,
    "start_time": "2023-02-19T21:32:58.487Z"
   },
   {
    "duration": 12,
    "start_time": "2023-02-19T21:32:58.532Z"
   },
   {
    "duration": 16,
    "start_time": "2023-02-19T21:32:58.545Z"
   },
   {
    "duration": 5,
    "start_time": "2023-02-19T21:32:58.563Z"
   },
   {
    "duration": 9,
    "start_time": "2023-02-19T21:32:58.570Z"
   },
   {
    "duration": 5,
    "start_time": "2023-02-19T21:32:58.580Z"
   },
   {
    "duration": 6,
    "start_time": "2023-02-19T21:32:58.586Z"
   },
   {
    "duration": 43,
    "start_time": "2023-02-19T21:32:58.594Z"
   },
   {
    "duration": 12,
    "start_time": "2023-02-19T21:32:58.639Z"
   },
   {
    "duration": 5,
    "start_time": "2023-02-19T21:32:58.652Z"
   },
   {
    "duration": 4,
    "start_time": "2023-02-19T21:32:58.658Z"
   },
   {
    "duration": 10,
    "start_time": "2023-02-19T21:32:58.663Z"
   },
   {
    "duration": 4,
    "start_time": "2023-02-19T21:32:58.676Z"
   },
   {
    "duration": 6,
    "start_time": "2023-02-19T21:32:58.682Z"
   },
   {
    "duration": 59,
    "start_time": "2023-02-19T21:32:58.690Z"
   },
   {
    "duration": 13,
    "start_time": "2023-02-19T21:32:58.751Z"
   },
   {
    "duration": 7,
    "start_time": "2023-02-19T21:32:58.766Z"
   },
   {
    "duration": 183,
    "start_time": "2023-02-19T21:32:58.775Z"
   },
   {
    "duration": 4,
    "start_time": "2023-02-19T21:32:58.960Z"
   },
   {
    "duration": 9,
    "start_time": "2023-02-19T21:32:58.966Z"
   },
   {
    "duration": 2949,
    "start_time": "2023-02-19T21:32:58.976Z"
   },
   {
    "duration": 9,
    "start_time": "2023-02-19T21:33:01.928Z"
   },
   {
    "duration": 8,
    "start_time": "2023-02-19T21:33:01.939Z"
   },
   {
    "duration": 289,
    "start_time": "2023-02-19T21:33:01.949Z"
   },
   {
    "duration": 99,
    "start_time": "2023-02-19T21:33:02.239Z"
   },
   {
    "duration": 37,
    "start_time": "2023-02-19T21:33:02.340Z"
   },
   {
    "duration": 6,
    "start_time": "2023-02-19T21:33:02.379Z"
   },
   {
    "duration": 115,
    "start_time": "2023-02-19T21:33:02.387Z"
   },
   {
    "duration": 6,
    "start_time": "2023-02-19T21:33:02.504Z"
   },
   {
    "duration": 6,
    "start_time": "2023-02-19T21:33:02.511Z"
   },
   {
    "duration": 6,
    "start_time": "2023-02-19T21:33:02.537Z"
   },
   {
    "duration": 9,
    "start_time": "2023-02-19T21:33:02.545Z"
   },
   {
    "duration": 12,
    "start_time": "2023-02-19T21:33:02.555Z"
   },
   {
    "duration": 7,
    "start_time": "2023-02-19T21:33:02.568Z"
   },
   {
    "duration": 28,
    "start_time": "2023-02-19T21:33:02.576Z"
   },
   {
    "duration": 4,
    "start_time": "2023-02-19T21:33:02.607Z"
   },
   {
    "duration": 42,
    "start_time": "2023-02-19T21:33:02.612Z"
   },
   {
    "duration": 36,
    "start_time": "2023-02-19T21:33:02.655Z"
   },
   {
    "duration": 7,
    "start_time": "2023-02-19T21:33:02.693Z"
   },
   {
    "duration": 30,
    "start_time": "2023-02-19T21:33:02.701Z"
   },
   {
    "duration": 23,
    "start_time": "2023-02-19T21:33:02.732Z"
   },
   {
    "duration": 17,
    "start_time": "2023-02-19T21:33:02.757Z"
   },
   {
    "duration": 20,
    "start_time": "2023-02-19T21:33:43.540Z"
   },
   {
    "duration": 20,
    "start_time": "2023-02-19T21:33:47.603Z"
   },
   {
    "duration": 4,
    "start_time": "2023-02-19T21:36:16.810Z"
   },
   {
    "duration": 4,
    "start_time": "2023-02-19T21:36:19.817Z"
   },
   {
    "duration": 41,
    "start_time": "2023-02-19T21:36:19.822Z"
   },
   {
    "duration": 12,
    "start_time": "2023-02-19T21:36:19.865Z"
   },
   {
    "duration": 13,
    "start_time": "2023-02-19T21:36:19.879Z"
   },
   {
    "duration": 6,
    "start_time": "2023-02-19T21:36:19.894Z"
   },
   {
    "duration": 8,
    "start_time": "2023-02-19T21:36:19.901Z"
   },
   {
    "duration": 4,
    "start_time": "2023-02-19T21:36:19.910Z"
   },
   {
    "duration": 21,
    "start_time": "2023-02-19T21:36:19.916Z"
   },
   {
    "duration": 18,
    "start_time": "2023-02-19T21:36:19.939Z"
   },
   {
    "duration": 124,
    "start_time": "2023-02-19T21:36:19.958Z"
   },
   {
    "duration": 5,
    "start_time": "2023-02-19T21:36:20.084Z"
   },
   {
    "duration": 4,
    "start_time": "2023-02-19T21:36:20.091Z"
   },
   {
    "duration": 18,
    "start_time": "2023-02-19T21:36:20.096Z"
   },
   {
    "duration": 0,
    "start_time": "2023-02-19T21:36:20.116Z"
   },
   {
    "duration": 0,
    "start_time": "2023-02-19T21:36:20.137Z"
   },
   {
    "duration": 0,
    "start_time": "2023-02-19T21:36:20.138Z"
   },
   {
    "duration": 0,
    "start_time": "2023-02-19T21:36:20.139Z"
   },
   {
    "duration": 0,
    "start_time": "2023-02-19T21:36:20.139Z"
   },
   {
    "duration": 0,
    "start_time": "2023-02-19T21:36:20.141Z"
   },
   {
    "duration": 0,
    "start_time": "2023-02-19T21:36:20.141Z"
   },
   {
    "duration": 0,
    "start_time": "2023-02-19T21:36:20.142Z"
   },
   {
    "duration": 0,
    "start_time": "2023-02-19T21:36:20.143Z"
   },
   {
    "duration": 0,
    "start_time": "2023-02-19T21:36:20.143Z"
   },
   {
    "duration": 0,
    "start_time": "2023-02-19T21:36:20.144Z"
   },
   {
    "duration": 0,
    "start_time": "2023-02-19T21:36:20.146Z"
   },
   {
    "duration": 0,
    "start_time": "2023-02-19T21:36:20.146Z"
   },
   {
    "duration": 0,
    "start_time": "2023-02-19T21:36:20.147Z"
   },
   {
    "duration": 0,
    "start_time": "2023-02-19T21:36:20.149Z"
   },
   {
    "duration": 0,
    "start_time": "2023-02-19T21:36:20.150Z"
   },
   {
    "duration": 0,
    "start_time": "2023-02-19T21:36:20.151Z"
   },
   {
    "duration": 0,
    "start_time": "2023-02-19T21:36:20.152Z"
   },
   {
    "duration": 0,
    "start_time": "2023-02-19T21:36:20.153Z"
   },
   {
    "duration": 0,
    "start_time": "2023-02-19T21:36:20.154Z"
   },
   {
    "duration": 0,
    "start_time": "2023-02-19T21:36:20.155Z"
   },
   {
    "duration": 0,
    "start_time": "2023-02-19T21:36:20.156Z"
   },
   {
    "duration": 0,
    "start_time": "2023-02-19T21:36:20.157Z"
   },
   {
    "duration": 0,
    "start_time": "2023-02-19T21:36:20.158Z"
   },
   {
    "duration": 0,
    "start_time": "2023-02-19T21:36:20.159Z"
   },
   {
    "duration": 0,
    "start_time": "2023-02-19T21:36:20.160Z"
   },
   {
    "duration": 0,
    "start_time": "2023-02-19T21:36:20.161Z"
   },
   {
    "duration": 0,
    "start_time": "2023-02-19T21:36:20.162Z"
   },
   {
    "duration": 0,
    "start_time": "2023-02-19T21:36:20.163Z"
   },
   {
    "duration": 0,
    "start_time": "2023-02-19T21:36:20.164Z"
   },
   {
    "duration": 0,
    "start_time": "2023-02-19T21:36:20.165Z"
   },
   {
    "duration": 15,
    "start_time": "2023-02-19T21:36:58.810Z"
   },
   {
    "duration": 13,
    "start_time": "2023-02-19T21:37:07.753Z"
   },
   {
    "duration": 5,
    "start_time": "2023-02-19T21:37:36.103Z"
   },
   {
    "duration": 9,
    "start_time": "2023-02-19T21:38:27.600Z"
   },
   {
    "duration": 4,
    "start_time": "2023-02-19T21:38:50.980Z"
   },
   {
    "duration": 16,
    "start_time": "2023-02-19T21:39:02.380Z"
   },
   {
    "duration": 6,
    "start_time": "2023-02-19T21:39:12.608Z"
   },
   {
    "duration": 72,
    "start_time": "2023-02-19T21:39:12.615Z"
   },
   {
    "duration": 13,
    "start_time": "2023-02-19T21:39:12.690Z"
   },
   {
    "duration": 19,
    "start_time": "2023-02-19T21:39:12.705Z"
   },
   {
    "duration": 6,
    "start_time": "2023-02-19T21:39:12.727Z"
   },
   {
    "duration": 10,
    "start_time": "2023-02-19T21:39:12.735Z"
   },
   {
    "duration": 12,
    "start_time": "2023-02-19T21:39:12.746Z"
   },
   {
    "duration": 11,
    "start_time": "2023-02-19T21:39:12.759Z"
   },
   {
    "duration": 21,
    "start_time": "2023-02-19T21:39:12.772Z"
   },
   {
    "duration": 11,
    "start_time": "2023-02-19T21:39:12.795Z"
   },
   {
    "duration": 28,
    "start_time": "2023-02-19T21:39:12.808Z"
   },
   {
    "duration": 5,
    "start_time": "2023-02-19T21:39:12.838Z"
   },
   {
    "duration": 13,
    "start_time": "2023-02-19T21:39:12.844Z"
   },
   {
    "duration": 9,
    "start_time": "2023-02-19T21:39:12.860Z"
   },
   {
    "duration": 11,
    "start_time": "2023-02-19T21:39:12.870Z"
   },
   {
    "duration": 31,
    "start_time": "2023-02-19T21:39:12.883Z"
   },
   {
    "duration": 29,
    "start_time": "2023-02-19T21:39:12.916Z"
   },
   {
    "duration": 4,
    "start_time": "2023-02-19T21:39:12.947Z"
   },
   {
    "duration": 185,
    "start_time": "2023-02-19T21:39:12.953Z"
   },
   {
    "duration": 4,
    "start_time": "2023-02-19T21:39:13.140Z"
   },
   {
    "duration": 7,
    "start_time": "2023-02-19T21:39:13.146Z"
   },
   {
    "duration": 2957,
    "start_time": "2023-02-19T21:39:13.154Z"
   },
   {
    "duration": 5,
    "start_time": "2023-02-19T21:39:16.113Z"
   },
   {
    "duration": 5,
    "start_time": "2023-02-19T21:39:16.120Z"
   },
   {
    "duration": 206,
    "start_time": "2023-02-19T21:39:16.137Z"
   },
   {
    "duration": 99,
    "start_time": "2023-02-19T21:39:16.345Z"
   },
   {
    "duration": 131,
    "start_time": "2023-02-19T21:39:16.446Z"
   },
   {
    "duration": 5,
    "start_time": "2023-02-19T21:39:16.579Z"
   },
   {
    "duration": 118,
    "start_time": "2023-02-19T21:39:16.585Z"
   },
   {
    "duration": 6,
    "start_time": "2023-02-19T21:39:16.704Z"
   },
   {
    "duration": 6,
    "start_time": "2023-02-19T21:39:16.711Z"
   },
   {
    "duration": 24,
    "start_time": "2023-02-19T21:39:16.718Z"
   },
   {
    "duration": 6,
    "start_time": "2023-02-19T21:39:16.743Z"
   },
   {
    "duration": 5,
    "start_time": "2023-02-19T21:39:16.751Z"
   },
   {
    "duration": 7,
    "start_time": "2023-02-19T21:39:16.757Z"
   },
   {
    "duration": 29,
    "start_time": "2023-02-19T21:39:16.765Z"
   },
   {
    "duration": 5,
    "start_time": "2023-02-19T21:39:16.796Z"
   },
   {
    "duration": 20,
    "start_time": "2023-02-19T21:39:16.836Z"
   },
   {
    "duration": 40,
    "start_time": "2023-02-19T21:39:16.858Z"
   },
   {
    "duration": 6,
    "start_time": "2023-02-19T21:39:16.900Z"
   },
   {
    "duration": 28,
    "start_time": "2023-02-19T21:39:16.909Z"
   },
   {
    "duration": 18,
    "start_time": "2023-02-19T21:39:16.939Z"
   },
   {
    "duration": 19,
    "start_time": "2023-02-19T21:39:16.958Z"
   },
   {
    "duration": 5,
    "start_time": "2023-02-19T21:39:31.260Z"
   },
   {
    "duration": 5,
    "start_time": "2023-02-19T21:43:08.266Z"
   },
   {
    "duration": 13,
    "start_time": "2023-02-19T21:43:08.845Z"
   },
   {
    "duration": 18,
    "start_time": "2023-02-19T21:43:09.427Z"
   },
   {
    "duration": 5,
    "start_time": "2023-02-19T21:44:29.776Z"
   },
   {
    "duration": 18,
    "start_time": "2023-02-19T21:44:30.593Z"
   },
   {
    "duration": 5,
    "start_time": "2023-02-19T21:45:00.909Z"
   },
   {
    "duration": 18,
    "start_time": "2023-02-19T21:45:02.057Z"
   },
   {
    "duration": 3,
    "start_time": "2023-02-19T21:45:59.583Z"
   },
   {
    "duration": 18,
    "start_time": "2023-02-19T21:46:00.086Z"
   },
   {
    "duration": 3,
    "start_time": "2023-02-19T21:46:08.965Z"
   },
   {
    "duration": 67,
    "start_time": "2023-02-19T21:46:08.970Z"
   },
   {
    "duration": 13,
    "start_time": "2023-02-19T21:46:09.038Z"
   },
   {
    "duration": 24,
    "start_time": "2023-02-19T21:46:09.053Z"
   },
   {
    "duration": 23,
    "start_time": "2023-02-19T21:46:09.078Z"
   },
   {
    "duration": 39,
    "start_time": "2023-02-19T21:46:09.103Z"
   },
   {
    "duration": 27,
    "start_time": "2023-02-19T21:46:09.144Z"
   },
   {
    "duration": 28,
    "start_time": "2023-02-19T21:46:09.173Z"
   },
   {
    "duration": 47,
    "start_time": "2023-02-19T21:46:09.205Z"
   },
   {
    "duration": 28,
    "start_time": "2023-02-19T21:46:09.254Z"
   },
   {
    "duration": 42,
    "start_time": "2023-02-19T21:46:09.284Z"
   },
   {
    "duration": 30,
    "start_time": "2023-02-19T21:46:09.328Z"
   },
   {
    "duration": 24,
    "start_time": "2023-02-19T21:46:09.360Z"
   },
   {
    "duration": 40,
    "start_time": "2023-02-19T21:46:09.387Z"
   },
   {
    "duration": 15,
    "start_time": "2023-02-19T21:46:09.429Z"
   },
   {
    "duration": 55,
    "start_time": "2023-02-19T21:46:09.446Z"
   },
   {
    "duration": 14,
    "start_time": "2023-02-19T21:46:09.503Z"
   },
   {
    "duration": 197,
    "start_time": "2023-02-19T21:46:09.518Z"
   },
   {
    "duration": 5,
    "start_time": "2023-02-19T21:46:09.716Z"
   },
   {
    "duration": 31,
    "start_time": "2023-02-19T21:46:09.723Z"
   },
   {
    "duration": 2880,
    "start_time": "2023-02-19T21:46:09.756Z"
   },
   {
    "duration": 6,
    "start_time": "2023-02-19T21:46:12.638Z"
   },
   {
    "duration": 20,
    "start_time": "2023-02-19T21:46:12.646Z"
   },
   {
    "duration": 269,
    "start_time": "2023-02-19T21:46:12.669Z"
   },
   {
    "duration": 111,
    "start_time": "2023-02-19T21:46:12.939Z"
   },
   {
    "duration": 65,
    "start_time": "2023-02-19T21:46:13.052Z"
   },
   {
    "duration": 20,
    "start_time": "2023-02-19T21:46:13.120Z"
   },
   {
    "duration": 114,
    "start_time": "2023-02-19T21:46:13.141Z"
   },
   {
    "duration": 5,
    "start_time": "2023-02-19T21:46:13.257Z"
   },
   {
    "duration": 48,
    "start_time": "2023-02-19T21:46:13.264Z"
   },
   {
    "duration": 23,
    "start_time": "2023-02-19T21:46:13.314Z"
   },
   {
    "duration": 35,
    "start_time": "2023-02-19T21:46:13.339Z"
   },
   {
    "duration": 26,
    "start_time": "2023-02-19T21:46:13.375Z"
   },
   {
    "duration": 36,
    "start_time": "2023-02-19T21:46:13.403Z"
   },
   {
    "duration": 33,
    "start_time": "2023-02-19T21:46:13.440Z"
   },
   {
    "duration": 24,
    "start_time": "2023-02-19T21:46:13.474Z"
   },
   {
    "duration": 34,
    "start_time": "2023-02-19T21:46:13.499Z"
   },
   {
    "duration": 68,
    "start_time": "2023-02-19T21:46:13.535Z"
   },
   {
    "duration": 6,
    "start_time": "2023-02-19T21:46:13.604Z"
   },
   {
    "duration": 18,
    "start_time": "2023-02-19T21:46:13.612Z"
   },
   {
    "duration": 48,
    "start_time": "2023-02-19T21:46:13.631Z"
   },
   {
    "duration": 25,
    "start_time": "2023-02-19T21:46:13.681Z"
   },
   {
    "duration": 38,
    "start_time": "2023-02-19T21:46:13.708Z"
   },
   {
    "duration": 1160,
    "start_time": "2023-02-20T05:40:03.679Z"
   },
   {
    "duration": 168,
    "start_time": "2023-02-20T05:40:04.841Z"
   },
   {
    "duration": 20,
    "start_time": "2023-02-20T05:40:05.011Z"
   },
   {
    "duration": 14,
    "start_time": "2023-02-20T05:40:05.033Z"
   },
   {
    "duration": 45,
    "start_time": "2023-02-20T05:40:05.049Z"
   },
   {
    "duration": 14,
    "start_time": "2023-02-20T05:40:05.096Z"
   },
   {
    "duration": 6,
    "start_time": "2023-02-20T05:40:05.111Z"
   },
   {
    "duration": 13,
    "start_time": "2023-02-20T05:40:05.119Z"
   },
   {
    "duration": 23,
    "start_time": "2023-02-20T05:40:05.134Z"
   },
   {
    "duration": 12,
    "start_time": "2023-02-20T05:40:05.160Z"
   },
   {
    "duration": 17,
    "start_time": "2023-02-20T05:40:05.173Z"
   },
   {
    "duration": 27,
    "start_time": "2023-02-20T05:40:05.192Z"
   },
   {
    "duration": 17,
    "start_time": "2023-02-20T05:40:05.221Z"
   },
   {
    "duration": 9,
    "start_time": "2023-02-20T05:40:05.240Z"
   },
   {
    "duration": 12,
    "start_time": "2023-02-20T05:40:05.252Z"
   },
   {
    "duration": 42,
    "start_time": "2023-02-20T05:40:05.267Z"
   },
   {
    "duration": 32,
    "start_time": "2023-02-20T05:40:05.311Z"
   },
   {
    "duration": 201,
    "start_time": "2023-02-20T05:40:05.344Z"
   },
   {
    "duration": 6,
    "start_time": "2023-02-20T05:40:05.547Z"
   },
   {
    "duration": 19,
    "start_time": "2023-02-20T05:40:05.555Z"
   },
   {
    "duration": 3219,
    "start_time": "2023-02-20T05:40:05.575Z"
   },
   {
    "duration": 5,
    "start_time": "2023-02-20T05:40:08.796Z"
   },
   {
    "duration": 13,
    "start_time": "2023-02-20T05:40:08.803Z"
   },
   {
    "duration": 329,
    "start_time": "2023-02-20T05:40:08.817Z"
   },
   {
    "duration": 99,
    "start_time": "2023-02-20T05:40:09.238Z"
   },
   {
    "duration": 40,
    "start_time": "2023-02-20T05:40:09.339Z"
   },
   {
    "duration": 5,
    "start_time": "2023-02-20T05:40:09.381Z"
   },
   {
    "duration": 597,
    "start_time": "2023-02-20T05:40:09.390Z"
   },
   {
    "duration": 7,
    "start_time": "2023-02-20T05:40:09.989Z"
   },
   {
    "duration": 20,
    "start_time": "2023-02-20T05:40:09.998Z"
   },
   {
    "duration": 11,
    "start_time": "2023-02-20T05:40:10.019Z"
   },
   {
    "duration": 8,
    "start_time": "2023-02-20T05:40:10.037Z"
   },
   {
    "duration": 8,
    "start_time": "2023-02-20T05:40:10.046Z"
   },
   {
    "duration": 10,
    "start_time": "2023-02-20T05:40:10.056Z"
   },
   {
    "duration": 29,
    "start_time": "2023-02-20T05:40:10.068Z"
   },
   {
    "duration": 6,
    "start_time": "2023-02-20T05:40:10.099Z"
   },
   {
    "duration": 58,
    "start_time": "2023-02-20T05:40:10.107Z"
   },
   {
    "duration": 37,
    "start_time": "2023-02-20T05:40:10.167Z"
   },
   {
    "duration": 7,
    "start_time": "2023-02-20T05:40:10.205Z"
   },
   {
    "duration": 9,
    "start_time": "2023-02-20T05:40:10.214Z"
   },
   {
    "duration": 23,
    "start_time": "2023-02-20T05:40:10.224Z"
   },
   {
    "duration": 5,
    "start_time": "2023-02-20T05:40:10.249Z"
   },
   {
    "duration": 137,
    "start_time": "2023-02-20T05:40:10.256Z"
   },
   {
    "duration": 4,
    "start_time": "2023-02-20T05:41:41.670Z"
   },
   {
    "duration": 12,
    "start_time": "2023-02-20T05:41:42.650Z"
   },
   {
    "duration": 18,
    "start_time": "2023-02-20T05:41:46.002Z"
   },
   {
    "duration": 4,
    "start_time": "2023-02-20T05:42:19.950Z"
   },
   {
    "duration": 17,
    "start_time": "2023-02-20T05:42:20.930Z"
   },
   {
    "duration": 19,
    "start_time": "2023-02-20T05:42:21.610Z"
   },
   {
    "duration": 1109,
    "start_time": "2023-02-21T09:29:08.497Z"
   },
   {
    "duration": 177,
    "start_time": "2023-02-21T09:29:09.608Z"
   },
   {
    "duration": 18,
    "start_time": "2023-02-21T09:29:09.787Z"
   },
   {
    "duration": 12,
    "start_time": "2023-02-21T09:29:09.807Z"
   },
   {
    "duration": 6,
    "start_time": "2023-02-21T09:29:09.820Z"
   },
   {
    "duration": 7,
    "start_time": "2023-02-21T09:29:09.828Z"
   },
   {
    "duration": 9,
    "start_time": "2023-02-21T09:29:09.837Z"
   },
   {
    "duration": 7,
    "start_time": "2023-02-21T09:29:09.847Z"
   },
   {
    "duration": 22,
    "start_time": "2023-02-21T09:29:09.855Z"
   },
   {
    "duration": 27,
    "start_time": "2023-02-21T09:29:09.879Z"
   },
   {
    "duration": 5,
    "start_time": "2023-02-21T09:29:09.907Z"
   },
   {
    "duration": 7,
    "start_time": "2023-02-21T09:29:09.914Z"
   },
   {
    "duration": 9,
    "start_time": "2023-02-21T09:29:09.923Z"
   },
   {
    "duration": 5,
    "start_time": "2023-02-21T09:29:09.934Z"
   },
   {
    "duration": 5,
    "start_time": "2023-02-21T09:29:09.941Z"
   },
   {
    "duration": 57,
    "start_time": "2023-02-21T09:29:09.948Z"
   },
   {
    "duration": 12,
    "start_time": "2023-02-21T09:29:10.006Z"
   },
   {
    "duration": 166,
    "start_time": "2023-02-21T09:29:10.019Z"
   },
   {
    "duration": 5,
    "start_time": "2023-02-21T09:29:10.187Z"
   },
   {
    "duration": 26,
    "start_time": "2023-02-21T09:29:10.193Z"
   },
   {
    "duration": 2755,
    "start_time": "2023-02-21T09:29:10.220Z"
   },
   {
    "duration": 5,
    "start_time": "2023-02-21T09:29:12.977Z"
   },
   {
    "duration": 12,
    "start_time": "2023-02-21T09:29:12.983Z"
   },
   {
    "duration": 404,
    "start_time": "2023-02-21T09:29:13.004Z"
   },
   {
    "duration": 102,
    "start_time": "2023-02-21T09:29:13.410Z"
   },
   {
    "duration": 127,
    "start_time": "2023-02-21T09:29:13.514Z"
   },
   {
    "duration": 5,
    "start_time": "2023-02-21T09:29:13.643Z"
   },
   {
    "duration": 568,
    "start_time": "2023-02-21T09:29:13.652Z"
   },
   {
    "duration": 5,
    "start_time": "2023-02-21T09:29:14.222Z"
   },
   {
    "duration": 8,
    "start_time": "2023-02-21T09:29:14.228Z"
   },
   {
    "duration": 7,
    "start_time": "2023-02-21T09:29:14.237Z"
   },
   {
    "duration": 5,
    "start_time": "2023-02-21T09:29:14.246Z"
   },
   {
    "duration": 8,
    "start_time": "2023-02-21T09:29:14.252Z"
   },
   {
    "duration": 11,
    "start_time": "2023-02-21T09:29:14.262Z"
   },
   {
    "duration": 52,
    "start_time": "2023-02-21T09:29:14.274Z"
   },
   {
    "duration": 3,
    "start_time": "2023-02-21T09:29:14.328Z"
   },
   {
    "duration": 16,
    "start_time": "2023-02-21T09:29:14.333Z"
   },
   {
    "duration": 36,
    "start_time": "2023-02-21T09:29:14.350Z"
   },
   {
    "duration": 20,
    "start_time": "2023-02-21T09:29:14.387Z"
   },
   {
    "duration": 6,
    "start_time": "2023-02-21T09:29:14.409Z"
   },
   {
    "duration": 129,
    "start_time": "2023-02-21T09:29:14.416Z"
   },
   {
    "duration": 0,
    "start_time": "2023-02-21T09:29:14.547Z"
   },
   {
    "duration": 0,
    "start_time": "2023-02-21T09:29:14.548Z"
   },
   {
    "duration": 13,
    "start_time": "2023-02-21T09:29:54.367Z"
   },
   {
    "duration": 12,
    "start_time": "2023-02-21T09:30:11.237Z"
   },
   {
    "duration": 18,
    "start_time": "2023-02-21T09:30:11.742Z"
   },
   {
    "duration": 3,
    "start_time": "2023-02-21T09:32:33.970Z"
   },
   {
    "duration": 4,
    "start_time": "2023-02-21T09:32:40.430Z"
   },
   {
    "duration": 43,
    "start_time": "2023-02-21T09:32:40.436Z"
   },
   {
    "duration": 13,
    "start_time": "2023-02-21T09:32:40.481Z"
   },
   {
    "duration": 16,
    "start_time": "2023-02-21T09:32:40.495Z"
   },
   {
    "duration": 6,
    "start_time": "2023-02-21T09:32:40.513Z"
   },
   {
    "duration": 4,
    "start_time": "2023-02-21T09:32:40.520Z"
   },
   {
    "duration": 11,
    "start_time": "2023-02-21T09:32:40.525Z"
   },
   {
    "duration": 4,
    "start_time": "2023-02-21T09:32:40.537Z"
   },
   {
    "duration": 6,
    "start_time": "2023-02-21T09:32:40.543Z"
   },
   {
    "duration": 17,
    "start_time": "2023-02-21T09:32:40.551Z"
   },
   {
    "duration": 41,
    "start_time": "2023-02-21T09:32:40.571Z"
   },
   {
    "duration": 5,
    "start_time": "2023-02-21T09:32:40.613Z"
   },
   {
    "duration": 19,
    "start_time": "2023-02-21T09:32:40.619Z"
   },
   {
    "duration": 19,
    "start_time": "2023-02-21T09:32:40.639Z"
   },
   {
    "duration": 13,
    "start_time": "2023-02-21T09:32:40.659Z"
   },
   {
    "duration": 10,
    "start_time": "2023-02-21T09:32:40.673Z"
   },
   {
    "duration": 40,
    "start_time": "2023-02-21T09:32:40.684Z"
   },
   {
    "duration": 11,
    "start_time": "2023-02-21T09:32:40.725Z"
   },
   {
    "duration": 174,
    "start_time": "2023-02-21T09:32:40.738Z"
   },
   {
    "duration": 5,
    "start_time": "2023-02-21T09:32:40.914Z"
   },
   {
    "duration": 27,
    "start_time": "2023-02-21T09:32:40.920Z"
   },
   {
    "duration": 2787,
    "start_time": "2023-02-21T09:32:40.949Z"
   },
   {
    "duration": 5,
    "start_time": "2023-02-21T09:32:43.738Z"
   },
   {
    "duration": 24,
    "start_time": "2023-02-21T09:32:43.745Z"
   },
   {
    "duration": 334,
    "start_time": "2023-02-21T09:32:43.771Z"
   },
   {
    "duration": 103,
    "start_time": "2023-02-21T09:32:44.107Z"
   },
   {
    "duration": 32,
    "start_time": "2023-02-21T09:32:44.212Z"
   },
   {
    "duration": 5,
    "start_time": "2023-02-21T09:32:44.245Z"
   },
   {
    "duration": 93,
    "start_time": "2023-02-21T09:32:44.252Z"
   },
   {
    "duration": 6,
    "start_time": "2023-02-21T09:32:44.346Z"
   },
   {
    "duration": 23,
    "start_time": "2023-02-21T09:32:44.353Z"
   },
   {
    "duration": 30,
    "start_time": "2023-02-21T09:32:44.377Z"
   },
   {
    "duration": 6,
    "start_time": "2023-02-21T09:32:44.408Z"
   },
   {
    "duration": 27,
    "start_time": "2023-02-21T09:32:44.415Z"
   },
   {
    "duration": 19,
    "start_time": "2023-02-21T09:32:44.443Z"
   },
   {
    "duration": 48,
    "start_time": "2023-02-21T09:32:44.464Z"
   },
   {
    "duration": 3,
    "start_time": "2023-02-21T09:32:44.513Z"
   },
   {
    "duration": 15,
    "start_time": "2023-02-21T09:32:44.518Z"
   },
   {
    "duration": 35,
    "start_time": "2023-02-21T09:32:44.534Z"
   },
   {
    "duration": 5,
    "start_time": "2023-02-21T09:32:44.571Z"
   },
   {
    "duration": 4,
    "start_time": "2023-02-21T09:32:44.577Z"
   },
   {
    "duration": 10,
    "start_time": "2023-02-21T09:32:44.604Z"
   },
   {
    "duration": 15,
    "start_time": "2023-02-21T09:32:44.616Z"
   },
   {
    "duration": 18,
    "start_time": "2023-02-21T09:35:11.391Z"
   },
   {
    "duration": 12,
    "start_time": "2023-02-21T09:35:15.647Z"
   },
   {
    "duration": 16,
    "start_time": "2023-02-21T09:41:37.531Z"
   },
   {
    "duration": 17,
    "start_time": "2023-02-21T09:41:47.967Z"
   },
   {
    "duration": 5,
    "start_time": "2023-02-21T10:11:14.628Z"
   },
   {
    "duration": 40,
    "start_time": "2023-02-21T10:11:20.773Z"
   },
   {
    "duration": 14,
    "start_time": "2023-02-21T10:11:21.350Z"
   },
   {
    "duration": 15,
    "start_time": "2023-02-21T10:11:25.092Z"
   },
   {
    "duration": 7,
    "start_time": "2023-02-21T10:11:29.223Z"
   },
   {
    "duration": 8,
    "start_time": "2023-02-21T10:12:08.812Z"
   },
   {
    "duration": 4,
    "start_time": "2023-02-21T10:12:09.881Z"
   },
   {
    "duration": 5,
    "start_time": "2023-02-21T10:12:14.863Z"
   },
   {
    "duration": 18,
    "start_time": "2023-02-21T10:12:25.855Z"
   },
   {
    "duration": 12,
    "start_time": "2023-02-21T10:12:39.117Z"
   },
   {
    "duration": 4,
    "start_time": "2023-02-21T10:13:17.646Z"
   },
   {
    "duration": 11,
    "start_time": "2023-02-21T10:13:25.595Z"
   },
   {
    "duration": 11,
    "start_time": "2023-02-21T10:13:28.961Z"
   },
   {
    "duration": 4,
    "start_time": "2023-02-21T10:13:34.022Z"
   },
   {
    "duration": 1392,
    "start_time": "2023-02-21T10:13:35.315Z"
   },
   {
    "duration": 3,
    "start_time": "2023-02-21T10:13:45.121Z"
   },
   {
    "duration": 40,
    "start_time": "2023-02-21T10:13:46.451Z"
   },
   {
    "duration": 13,
    "start_time": "2023-02-21T10:13:47.320Z"
   },
   {
    "duration": 12,
    "start_time": "2023-02-21T10:13:48.272Z"
   },
   {
    "duration": 6,
    "start_time": "2023-02-21T10:13:56.812Z"
   },
   {
    "duration": 4,
    "start_time": "2023-02-21T10:13:58.605Z"
   },
   {
    "duration": 8,
    "start_time": "2023-02-21T10:14:00.581Z"
   },
   {
    "duration": 4,
    "start_time": "2023-02-21T10:14:02.101Z"
   },
   {
    "duration": 5,
    "start_time": "2023-02-21T10:14:04.354Z"
   },
   {
    "duration": 18,
    "start_time": "2023-02-21T10:14:06.495Z"
   },
   {
    "duration": 12,
    "start_time": "2023-02-21T10:14:10.891Z"
   },
   {
    "duration": 7,
    "start_time": "2023-02-21T10:16:37.260Z"
   },
   {
    "duration": 5,
    "start_time": "2023-02-21T10:16:39.549Z"
   },
   {
    "duration": 4,
    "start_time": "2023-02-21T10:16:42.646Z"
   },
   {
    "duration": 45,
    "start_time": "2023-02-21T10:16:42.651Z"
   },
   {
    "duration": 12,
    "start_time": "2023-02-21T10:16:42.697Z"
   },
   {
    "duration": 18,
    "start_time": "2023-02-21T10:16:42.710Z"
   },
   {
    "duration": 5,
    "start_time": "2023-02-21T10:16:42.730Z"
   },
   {
    "duration": 5,
    "start_time": "2023-02-21T10:16:42.736Z"
   },
   {
    "duration": 10,
    "start_time": "2023-02-21T10:16:42.743Z"
   },
   {
    "duration": 4,
    "start_time": "2023-02-21T10:16:42.754Z"
   },
   {
    "duration": 6,
    "start_time": "2023-02-21T10:16:42.760Z"
   },
   {
    "duration": 49,
    "start_time": "2023-02-21T10:16:42.768Z"
   },
   {
    "duration": 9,
    "start_time": "2023-02-21T10:16:42.819Z"
   },
   {
    "duration": 4,
    "start_time": "2023-02-21T10:16:42.830Z"
   },
   {
    "duration": 4,
    "start_time": "2023-02-21T10:16:42.836Z"
   },
   {
    "duration": 9,
    "start_time": "2023-02-21T10:16:42.842Z"
   },
   {
    "duration": 5,
    "start_time": "2023-02-21T10:16:42.852Z"
   },
   {
    "duration": 5,
    "start_time": "2023-02-21T10:16:42.858Z"
   },
   {
    "duration": 53,
    "start_time": "2023-02-21T10:16:42.864Z"
   },
   {
    "duration": 11,
    "start_time": "2023-02-21T10:16:42.919Z"
   },
   {
    "duration": 175,
    "start_time": "2023-02-21T10:16:42.931Z"
   },
   {
    "duration": 4,
    "start_time": "2023-02-21T10:16:43.109Z"
   },
   {
    "duration": 11,
    "start_time": "2023-02-21T10:16:43.115Z"
   },
   {
    "duration": 3046,
    "start_time": "2023-02-21T10:16:43.128Z"
   },
   {
    "duration": 6,
    "start_time": "2023-02-21T10:16:46.176Z"
   },
   {
    "duration": 5,
    "start_time": "2023-02-21T10:16:46.185Z"
   },
   {
    "duration": 207,
    "start_time": "2023-02-21T10:16:46.204Z"
   },
   {
    "duration": 193,
    "start_time": "2023-02-21T10:16:46.412Z"
   },
   {
    "duration": 31,
    "start_time": "2023-02-21T10:16:46.607Z"
   },
   {
    "duration": 5,
    "start_time": "2023-02-21T10:16:46.640Z"
   },
   {
    "duration": 111,
    "start_time": "2023-02-21T10:16:46.646Z"
   },
   {
    "duration": 4,
    "start_time": "2023-02-21T10:16:46.759Z"
   },
   {
    "duration": 7,
    "start_time": "2023-02-21T10:16:46.765Z"
   },
   {
    "duration": 13,
    "start_time": "2023-02-21T10:16:46.773Z"
   },
   {
    "duration": 8,
    "start_time": "2023-02-21T10:16:46.787Z"
   },
   {
    "duration": 5,
    "start_time": "2023-02-21T10:16:46.804Z"
   },
   {
    "duration": 6,
    "start_time": "2023-02-21T10:16:46.810Z"
   },
   {
    "duration": 23,
    "start_time": "2023-02-21T10:16:46.817Z"
   },
   {
    "duration": 4,
    "start_time": "2023-02-21T10:16:46.841Z"
   },
   {
    "duration": 26,
    "start_time": "2023-02-21T10:16:46.847Z"
   },
   {
    "duration": 48,
    "start_time": "2023-02-21T10:16:46.874Z"
   },
   {
    "duration": 6,
    "start_time": "2023-02-21T10:16:46.924Z"
   },
   {
    "duration": 6,
    "start_time": "2023-02-21T10:16:46.931Z"
   },
   {
    "duration": 18,
    "start_time": "2023-02-21T10:16:46.938Z"
   },
   {
    "duration": 16,
    "start_time": "2023-02-21T10:16:46.958Z"
   },
   {
    "duration": 3,
    "start_time": "2023-02-21T10:17:49.372Z"
   },
   {
    "duration": 19,
    "start_time": "2023-02-21T10:17:50.255Z"
   },
   {
    "duration": 18,
    "start_time": "2023-02-21T10:37:56.285Z"
   },
   {
    "duration": 17,
    "start_time": "2023-02-21T10:38:04.752Z"
   },
   {
    "duration": 6,
    "start_time": "2023-02-21T10:50:47.420Z"
   },
   {
    "duration": 9,
    "start_time": "2023-02-21T10:51:13.953Z"
   },
   {
    "duration": 16,
    "start_time": "2023-02-21T10:51:14.059Z"
   },
   {
    "duration": 9,
    "start_time": "2023-02-21T10:51:22.872Z"
   },
   {
    "duration": 10,
    "start_time": "2023-02-21T10:51:33.117Z"
   },
   {
    "duration": 9,
    "start_time": "2023-02-21T10:51:36.402Z"
   },
   {
    "duration": 11,
    "start_time": "2023-02-21T10:51:42.792Z"
   },
   {
    "duration": 10,
    "start_time": "2023-02-21T10:52:57.385Z"
   },
   {
    "duration": 12,
    "start_time": "2023-02-21T10:54:24.358Z"
   },
   {
    "duration": 3,
    "start_time": "2023-02-21T10:54:35.839Z"
   },
   {
    "duration": 11,
    "start_time": "2023-02-21T10:54:56.764Z"
   },
   {
    "duration": 19,
    "start_time": "2023-02-21T10:55:03.677Z"
   },
   {
    "duration": 10,
    "start_time": "2023-02-21T10:55:40.738Z"
   },
   {
    "duration": 3,
    "start_time": "2023-02-21T10:57:44.355Z"
   },
   {
    "duration": 3,
    "start_time": "2023-02-21T10:57:54.739Z"
   },
   {
    "duration": 4,
    "start_time": "2023-02-21T10:58:41.492Z"
   },
   {
    "duration": 10,
    "start_time": "2023-02-21T11:00:00.654Z"
   },
   {
    "duration": 4,
    "start_time": "2023-02-21T11:00:23.367Z"
   },
   {
    "duration": 10,
    "start_time": "2023-02-21T11:00:24.684Z"
   },
   {
    "duration": 3,
    "start_time": "2023-02-21T11:00:25.362Z"
   },
   {
    "duration": 11,
    "start_time": "2023-02-21T11:00:26.726Z"
   },
   {
    "duration": 11,
    "start_time": "2023-02-21T11:00:27.650Z"
   },
   {
    "duration": 4,
    "start_time": "2023-02-21T11:06:37.091Z"
   },
   {
    "duration": 9,
    "start_time": "2023-02-21T11:06:37.701Z"
   },
   {
    "duration": 11,
    "start_time": "2023-02-21T11:06:38.167Z"
   },
   {
    "duration": 6,
    "start_time": "2023-02-21T11:07:10.059Z"
   },
   {
    "duration": 15,
    "start_time": "2023-02-21T11:07:28.782Z"
   },
   {
    "duration": 6,
    "start_time": "2023-02-21T11:07:29.231Z"
   },
   {
    "duration": 12,
    "start_time": "2023-02-21T11:07:34.797Z"
   },
   {
    "duration": 1036,
    "start_time": "2023-02-21T14:11:00.971Z"
   },
   {
    "duration": 82,
    "start_time": "2023-02-21T14:11:02.009Z"
   },
   {
    "duration": 21,
    "start_time": "2023-02-21T14:11:02.093Z"
   },
   {
    "duration": 13,
    "start_time": "2023-02-21T14:11:02.116Z"
   },
   {
    "duration": 10,
    "start_time": "2023-02-21T14:11:02.131Z"
   },
   {
    "duration": 5,
    "start_time": "2023-02-21T14:11:02.143Z"
   },
   {
    "duration": 11,
    "start_time": "2023-02-21T14:11:02.150Z"
   },
   {
    "duration": 11,
    "start_time": "2023-02-21T14:11:02.163Z"
   },
   {
    "duration": 10,
    "start_time": "2023-02-21T14:11:02.175Z"
   },
   {
    "duration": 32,
    "start_time": "2023-02-21T14:11:02.188Z"
   },
   {
    "duration": 16,
    "start_time": "2023-02-21T14:11:02.222Z"
   },
   {
    "duration": 17,
    "start_time": "2023-02-21T14:11:02.239Z"
   },
   {
    "duration": 6,
    "start_time": "2023-02-21T14:11:02.258Z"
   },
   {
    "duration": 19,
    "start_time": "2023-02-21T14:11:02.265Z"
   },
   {
    "duration": 15,
    "start_time": "2023-02-21T14:11:02.286Z"
   },
   {
    "duration": 5,
    "start_time": "2023-02-21T14:11:02.302Z"
   },
   {
    "duration": 32,
    "start_time": "2023-02-21T14:11:02.308Z"
   },
   {
    "duration": 10,
    "start_time": "2023-02-21T14:11:02.342Z"
   },
   {
    "duration": 163,
    "start_time": "2023-02-21T14:11:02.354Z"
   },
   {
    "duration": 6,
    "start_time": "2023-02-21T14:11:02.519Z"
   },
   {
    "duration": 21,
    "start_time": "2023-02-21T14:11:02.526Z"
   },
   {
    "duration": 2908,
    "start_time": "2023-02-21T14:11:02.549Z"
   },
   {
    "duration": 6,
    "start_time": "2023-02-21T14:11:05.459Z"
   },
   {
    "duration": 16,
    "start_time": "2023-02-21T14:11:05.466Z"
   },
   {
    "duration": 162,
    "start_time": "2023-02-21T14:11:05.484Z"
   },
   {
    "duration": 106,
    "start_time": "2023-02-21T14:11:05.739Z"
   },
   {
    "duration": 29,
    "start_time": "2023-02-21T14:11:05.846Z"
   },
   {
    "duration": 5,
    "start_time": "2023-02-21T14:11:05.878Z"
   },
   {
    "duration": 485,
    "start_time": "2023-02-21T14:11:05.884Z"
   },
   {
    "duration": 5,
    "start_time": "2023-02-21T14:11:06.370Z"
   },
   {
    "duration": 16,
    "start_time": "2023-02-21T14:11:06.377Z"
   },
   {
    "duration": 10,
    "start_time": "2023-02-21T14:11:06.395Z"
   },
   {
    "duration": 6,
    "start_time": "2023-02-21T14:11:06.406Z"
   },
   {
    "duration": 6,
    "start_time": "2023-02-21T14:11:06.413Z"
   },
   {
    "duration": 18,
    "start_time": "2023-02-21T14:11:06.420Z"
   },
   {
    "duration": 23,
    "start_time": "2023-02-21T14:11:06.439Z"
   },
   {
    "duration": 3,
    "start_time": "2023-02-21T14:11:06.464Z"
   },
   {
    "duration": 15,
    "start_time": "2023-02-21T14:11:06.469Z"
   },
   {
    "duration": 3,
    "start_time": "2023-02-21T14:11:06.486Z"
   },
   {
    "duration": 56,
    "start_time": "2023-02-21T14:11:06.491Z"
   },
   {
    "duration": 6,
    "start_time": "2023-02-21T14:11:06.549Z"
   },
   {
    "duration": 5,
    "start_time": "2023-02-21T14:11:06.556Z"
   },
   {
    "duration": 17,
    "start_time": "2023-02-21T14:11:06.562Z"
   },
   {
    "duration": 10,
    "start_time": "2023-02-21T14:11:06.580Z"
   },
   {
    "duration": 19,
    "start_time": "2023-02-21T14:11:06.592Z"
   },
   {
    "duration": 19,
    "start_time": "2023-02-21T14:14:37.908Z"
   },
   {
    "duration": 105,
    "start_time": "2023-02-21T14:17:54.028Z"
   },
   {
    "duration": 19,
    "start_time": "2023-02-21T14:18:05.313Z"
   },
   {
    "duration": 11,
    "start_time": "2023-02-21T14:18:27.643Z"
   },
   {
    "duration": 18,
    "start_time": "2023-02-21T14:18:45.378Z"
   },
   {
    "duration": 16,
    "start_time": "2023-02-21T14:18:46.053Z"
   },
   {
    "duration": 17,
    "start_time": "2023-02-21T14:19:32.553Z"
   },
   {
    "duration": 16,
    "start_time": "2023-02-21T14:19:50.591Z"
   },
   {
    "duration": 2,
    "start_time": "2023-02-21T14:25:10.425Z"
   },
   {
    "duration": 25,
    "start_time": "2023-02-21T14:27:45.422Z"
   },
   {
    "duration": 164,
    "start_time": "2023-02-21T14:28:00.472Z"
   },
   {
    "duration": 162,
    "start_time": "2023-02-21T14:28:27.333Z"
   },
   {
    "duration": 332,
    "start_time": "2023-02-21T14:28:36.166Z"
   },
   {
    "duration": 3198,
    "start_time": "2023-02-21T14:28:40.137Z"
   },
   {
    "duration": 626,
    "start_time": "2023-02-21T14:28:49.581Z"
   },
   {
    "duration": 32,
    "start_time": "2023-02-21T14:28:58.429Z"
   },
   {
    "duration": 31,
    "start_time": "2023-02-21T14:29:07.349Z"
   },
   {
    "duration": 180,
    "start_time": "2023-02-21T14:29:16.206Z"
   },
   {
    "duration": 113,
    "start_time": "2023-02-21T14:41:04.625Z"
   },
   {
    "duration": 9,
    "start_time": "2023-02-21T14:42:17.465Z"
   },
   {
    "duration": 21,
    "start_time": "2023-02-21T14:45:46.330Z"
   },
   {
    "duration": 6,
    "start_time": "2023-02-21T14:46:18.527Z"
   },
   {
    "duration": 301,
    "start_time": "2023-02-21T14:47:19.338Z"
   },
   {
    "duration": 6,
    "start_time": "2023-02-21T14:47:26.957Z"
   },
   {
    "duration": 80,
    "start_time": "2023-02-21T14:48:23.221Z"
   },
   {
    "duration": 5,
    "start_time": "2023-02-21T14:48:30.725Z"
   },
   {
    "duration": 3,
    "start_time": "2023-02-21T14:49:07.326Z"
   },
   {
    "duration": 35,
    "start_time": "2023-02-21T14:49:09.022Z"
   },
   {
    "duration": 16,
    "start_time": "2023-02-21T14:49:09.938Z"
   },
   {
    "duration": 12,
    "start_time": "2023-02-21T14:49:12.637Z"
   },
   {
    "duration": 7,
    "start_time": "2023-02-21T14:49:19.283Z"
   },
   {
    "duration": 8,
    "start_time": "2023-02-21T14:49:36.926Z"
   },
   {
    "duration": 4,
    "start_time": "2023-02-21T14:49:39.525Z"
   },
   {
    "duration": 5,
    "start_time": "2023-02-21T14:49:42.315Z"
   },
   {
    "duration": 19,
    "start_time": "2023-02-21T14:49:53.827Z"
   },
   {
    "duration": 17,
    "start_time": "2023-02-21T14:50:09.728Z"
   },
   {
    "duration": 17,
    "start_time": "2023-02-21T14:50:18.029Z"
   },
   {
    "duration": 11,
    "start_time": "2023-02-21T14:50:22.929Z"
   },
   {
    "duration": 7,
    "start_time": "2023-02-21T14:52:39.395Z"
   },
   {
    "duration": 5,
    "start_time": "2023-02-21T14:52:41.662Z"
   },
   {
    "duration": 8,
    "start_time": "2023-02-21T14:52:49.424Z"
   },
   {
    "duration": 5,
    "start_time": "2023-02-21T14:52:50.164Z"
   },
   {
    "duration": 3,
    "start_time": "2023-02-21T14:53:26.889Z"
   },
   {
    "duration": 26,
    "start_time": "2023-02-21T14:53:27.577Z"
   },
   {
    "duration": 13,
    "start_time": "2023-02-21T14:53:31.964Z"
   },
   {
    "duration": 149,
    "start_time": "2023-02-21T14:53:38.993Z"
   },
   {
    "duration": 5,
    "start_time": "2023-02-21T14:53:44.058Z"
   },
   {
    "duration": 5,
    "start_time": "2023-02-21T14:53:46.489Z"
   },
   {
    "duration": 2654,
    "start_time": "2023-02-21T14:53:50.566Z"
   },
   {
    "duration": 5,
    "start_time": "2023-02-21T14:53:53.222Z"
   },
   {
    "duration": 4,
    "start_time": "2023-02-21T14:53:58.601Z"
   },
   {
    "duration": 151,
    "start_time": "2023-02-21T14:54:01.489Z"
   },
   {
    "duration": 10,
    "start_time": "2023-02-21T14:54:13.136Z"
   },
   {
    "duration": 37,
    "start_time": "2023-02-21T14:54:14.425Z"
   },
   {
    "duration": 6,
    "start_time": "2023-02-21T14:55:55.681Z"
   },
   {
    "duration": 5,
    "start_time": "2023-02-21T14:56:08.530Z"
   },
   {
    "duration": 81,
    "start_time": "2023-02-21T14:56:28.949Z"
   },
   {
    "duration": 6,
    "start_time": "2023-02-21T14:57:03.574Z"
   },
   {
    "duration": 9,
    "start_time": "2023-02-21T14:58:33.986Z"
   },
   {
    "duration": 17,
    "start_time": "2023-02-21T14:58:58.516Z"
   },
   {
    "duration": 92,
    "start_time": "2023-02-21T14:59:33.224Z"
   },
   {
    "duration": 5,
    "start_time": "2023-02-21T15:00:05.329Z"
   },
   {
    "duration": 19,
    "start_time": "2023-02-21T15:02:17.690Z"
   },
   {
    "duration": 6,
    "start_time": "2023-02-21T15:02:18.551Z"
   },
   {
    "duration": 5,
    "start_time": "2023-02-21T15:02:27.834Z"
   },
   {
    "duration": 8,
    "start_time": "2023-02-21T15:02:55.617Z"
   },
   {
    "duration": 5,
    "start_time": "2023-02-21T15:03:10.850Z"
   },
   {
    "duration": 28,
    "start_time": "2023-02-21T15:04:18.325Z"
   },
   {
    "duration": 145,
    "start_time": "2023-02-21T15:04:19.030Z"
   },
   {
    "duration": 4,
    "start_time": "2023-02-21T15:04:29.178Z"
   },
   {
    "duration": 11,
    "start_time": "2023-02-21T15:04:31.439Z"
   },
   {
    "duration": 3,
    "start_time": "2023-02-21T15:04:31.940Z"
   },
   {
    "duration": 31,
    "start_time": "2023-02-21T15:04:34.817Z"
   },
   {
    "duration": 6,
    "start_time": "2023-02-21T15:04:35.389Z"
   },
   {
    "duration": 265,
    "start_time": "2023-02-21T15:04:38.565Z"
   },
   {
    "duration": 7,
    "start_time": "2023-02-21T15:04:39.216Z"
   },
   {
    "duration": 4,
    "start_time": "2023-02-21T15:04:48.570Z"
   },
   {
    "duration": 9,
    "start_time": "2023-02-21T15:04:49.027Z"
   },
   {
    "duration": 10,
    "start_time": "2023-02-21T15:04:49.520Z"
   },
   {
    "duration": 7,
    "start_time": "2023-02-21T15:04:50.127Z"
   },
   {
    "duration": 74,
    "start_time": "2023-02-21T15:04:50.672Z"
   },
   {
    "duration": 6,
    "start_time": "2023-02-21T15:04:51.594Z"
   },
   {
    "duration": 4,
    "start_time": "2023-02-21T15:05:47.786Z"
   },
   {
    "duration": 37,
    "start_time": "2023-02-21T15:05:47.792Z"
   },
   {
    "duration": 13,
    "start_time": "2023-02-21T15:05:47.830Z"
   },
   {
    "duration": 13,
    "start_time": "2023-02-21T15:05:47.845Z"
   },
   {
    "duration": 6,
    "start_time": "2023-02-21T15:05:47.859Z"
   },
   {
    "duration": 9,
    "start_time": "2023-02-21T15:05:47.866Z"
   },
   {
    "duration": 4,
    "start_time": "2023-02-21T15:05:47.877Z"
   },
   {
    "duration": 7,
    "start_time": "2023-02-21T15:05:47.882Z"
   },
   {
    "duration": 54,
    "start_time": "2023-02-21T15:05:47.891Z"
   },
   {
    "duration": 11,
    "start_time": "2023-02-21T15:05:47.947Z"
   },
   {
    "duration": 5,
    "start_time": "2023-02-21T15:05:47.959Z"
   },
   {
    "duration": 4,
    "start_time": "2023-02-21T15:05:47.965Z"
   },
   {
    "duration": 7,
    "start_time": "2023-02-21T15:05:47.971Z"
   },
   {
    "duration": 4,
    "start_time": "2023-02-21T15:05:47.980Z"
   },
   {
    "duration": 6,
    "start_time": "2023-02-21T15:05:47.985Z"
   },
   {
    "duration": 59,
    "start_time": "2023-02-21T15:05:47.992Z"
   },
   {
    "duration": 10,
    "start_time": "2023-02-21T15:05:48.053Z"
   },
   {
    "duration": 162,
    "start_time": "2023-02-21T15:05:48.065Z"
   },
   {
    "duration": 10,
    "start_time": "2023-02-21T15:05:48.228Z"
   },
   {
    "duration": 8,
    "start_time": "2023-02-21T15:05:48.239Z"
   },
   {
    "duration": 2634,
    "start_time": "2023-02-21T15:05:48.248Z"
   },
   {
    "duration": 5,
    "start_time": "2023-02-21T15:05:50.884Z"
   },
   {
    "duration": 6,
    "start_time": "2023-02-21T15:05:50.891Z"
   },
   {
    "duration": 344,
    "start_time": "2023-02-21T15:05:50.901Z"
   },
   {
    "duration": 99,
    "start_time": "2023-02-21T15:05:51.246Z"
   },
   {
    "duration": 126,
    "start_time": "2023-02-21T15:05:51.347Z"
   },
   {
    "duration": 63,
    "start_time": "2023-02-21T15:05:51.475Z"
   },
   {
    "duration": 6,
    "start_time": "2023-02-21T15:05:51.540Z"
   },
   {
    "duration": 103,
    "start_time": "2023-02-21T15:05:51.638Z"
   },
   {
    "duration": 5,
    "start_time": "2023-02-21T15:05:51.742Z"
   },
   {
    "duration": 25,
    "start_time": "2023-02-21T15:05:51.748Z"
   },
   {
    "duration": 189,
    "start_time": "2023-02-21T15:05:51.775Z"
   },
   {
    "duration": 5,
    "start_time": "2023-02-21T15:05:51.965Z"
   },
   {
    "duration": 21,
    "start_time": "2023-02-21T15:05:51.972Z"
   },
   {
    "duration": 6,
    "start_time": "2023-02-21T15:05:51.994Z"
   },
   {
    "duration": 6,
    "start_time": "2023-02-21T15:05:52.002Z"
   },
   {
    "duration": 29,
    "start_time": "2023-02-21T15:05:52.009Z"
   },
   {
    "duration": 6,
    "start_time": "2023-02-21T15:05:52.040Z"
   },
   {
    "duration": 26,
    "start_time": "2023-02-21T15:05:52.047Z"
   },
   {
    "duration": 167,
    "start_time": "2023-02-21T15:05:52.074Z"
   },
   {
    "duration": 4,
    "start_time": "2023-02-21T15:05:52.242Z"
   },
   {
    "duration": 15,
    "start_time": "2023-02-21T15:05:52.247Z"
   },
   {
    "duration": 3,
    "start_time": "2023-02-21T15:05:52.263Z"
   },
   {
    "duration": 35,
    "start_time": "2023-02-21T15:05:52.268Z"
   },
   {
    "duration": 6,
    "start_time": "2023-02-21T15:05:52.304Z"
   },
   {
    "duration": 331,
    "start_time": "2023-02-21T15:05:52.311Z"
   },
   {
    "duration": 6,
    "start_time": "2023-02-21T15:05:52.643Z"
   },
   {
    "duration": 6,
    "start_time": "2023-02-21T15:05:52.651Z"
   },
   {
    "duration": 14,
    "start_time": "2023-02-21T15:05:52.658Z"
   },
   {
    "duration": 10,
    "start_time": "2023-02-21T15:05:52.674Z"
   },
   {
    "duration": 5,
    "start_time": "2023-02-21T15:05:52.686Z"
   },
   {
    "duration": 92,
    "start_time": "2023-02-21T15:05:52.692Z"
   },
   {
    "duration": 5,
    "start_time": "2023-02-21T15:05:52.786Z"
   },
   {
    "duration": 298,
    "start_time": "2023-02-21T15:06:55.935Z"
   },
   {
    "duration": 6,
    "start_time": "2023-02-21T15:06:56.508Z"
   },
   {
    "duration": 267,
    "start_time": "2023-02-21T15:07:01.248Z"
   },
   {
    "duration": 6,
    "start_time": "2023-02-21T15:07:01.896Z"
   },
   {
    "duration": 269,
    "start_time": "2023-02-21T15:07:05.048Z"
   },
   {
    "duration": 6,
    "start_time": "2023-02-21T15:07:05.974Z"
   },
   {
    "duration": 266,
    "start_time": "2023-02-21T15:07:09.297Z"
   },
   {
    "duration": 6,
    "start_time": "2023-02-21T15:07:10.008Z"
   },
   {
    "duration": 310,
    "start_time": "2023-02-21T15:07:13.407Z"
   },
   {
    "duration": 5,
    "start_time": "2023-02-21T15:07:14.025Z"
   },
   {
    "duration": 278,
    "start_time": "2023-02-21T15:07:19.736Z"
   },
   {
    "duration": 6,
    "start_time": "2023-02-21T15:07:20.134Z"
   },
   {
    "duration": 274,
    "start_time": "2023-02-21T15:07:24.548Z"
   },
   {
    "duration": 6,
    "start_time": "2023-02-21T15:07:24.913Z"
   },
   {
    "duration": 275,
    "start_time": "2023-02-21T15:07:31.708Z"
   },
   {
    "duration": 7,
    "start_time": "2023-02-21T15:07:32.151Z"
   },
   {
    "duration": 276,
    "start_time": "2023-02-21T15:07:35.749Z"
   },
   {
    "duration": 5,
    "start_time": "2023-02-21T15:07:36.152Z"
   },
   {
    "duration": 271,
    "start_time": "2023-02-21T15:07:41.188Z"
   },
   {
    "duration": 6,
    "start_time": "2023-02-21T15:07:41.570Z"
   },
   {
    "duration": 271,
    "start_time": "2023-02-21T15:07:44.219Z"
   },
   {
    "duration": 6,
    "start_time": "2023-02-21T15:07:44.615Z"
   },
   {
    "duration": 279,
    "start_time": "2023-02-21T15:07:48.270Z"
   },
   {
    "duration": 5,
    "start_time": "2023-02-21T15:07:48.624Z"
   },
   {
    "duration": 266,
    "start_time": "2023-02-21T15:07:51.309Z"
   },
   {
    "duration": 6,
    "start_time": "2023-02-21T15:07:51.790Z"
   },
   {
    "duration": 281,
    "start_time": "2023-02-21T15:07:55.825Z"
   },
   {
    "duration": 6,
    "start_time": "2023-02-21T15:07:56.284Z"
   },
   {
    "duration": 7,
    "start_time": "2023-02-21T15:10:56.825Z"
   },
   {
    "duration": 151,
    "start_time": "2023-02-21T15:11:04.811Z"
   },
   {
    "duration": 3146,
    "start_time": "2023-02-21T15:11:12.202Z"
   },
   {
    "duration": 395,
    "start_time": "2023-02-21T15:11:17.444Z"
   },
   {
    "duration": 24,
    "start_time": "2023-02-21T15:11:34.193Z"
   },
   {
    "duration": 146,
    "start_time": "2023-02-21T15:11:37.832Z"
   },
   {
    "duration": 3,
    "start_time": "2023-02-21T15:11:44.689Z"
   },
   {
    "duration": 32,
    "start_time": "2023-02-21T15:11:49.444Z"
   },
   {
    "duration": 256,
    "start_time": "2023-02-21T15:11:53.852Z"
   },
   {
    "duration": 4,
    "start_time": "2023-02-21T15:11:57.346Z"
   },
   {
    "duration": 4,
    "start_time": "2023-02-21T15:12:03.115Z"
   },
   {
    "duration": 10,
    "start_time": "2023-02-21T15:12:08.162Z"
   },
   {
    "duration": 73,
    "start_time": "2023-02-21T15:12:11.996Z"
   },
   {
    "duration": 4,
    "start_time": "2023-02-21T15:12:16.281Z"
   },
   {
    "duration": 54,
    "start_time": "2023-02-21T15:12:16.287Z"
   },
   {
    "duration": 16,
    "start_time": "2023-02-21T15:12:16.342Z"
   },
   {
    "duration": 14,
    "start_time": "2023-02-21T15:12:16.361Z"
   },
   {
    "duration": 7,
    "start_time": "2023-02-21T15:12:16.377Z"
   },
   {
    "duration": 14,
    "start_time": "2023-02-21T15:12:16.385Z"
   },
   {
    "duration": 39,
    "start_time": "2023-02-21T15:12:16.401Z"
   },
   {
    "duration": 9,
    "start_time": "2023-02-21T15:12:16.441Z"
   },
   {
    "duration": 21,
    "start_time": "2023-02-21T15:12:16.452Z"
   },
   {
    "duration": 10,
    "start_time": "2023-02-21T15:12:16.475Z"
   },
   {
    "duration": 5,
    "start_time": "2023-02-21T15:12:16.487Z"
   },
   {
    "duration": 8,
    "start_time": "2023-02-21T15:12:16.494Z"
   },
   {
    "duration": 34,
    "start_time": "2023-02-21T15:12:16.503Z"
   },
   {
    "duration": 5,
    "start_time": "2023-02-21T15:12:16.539Z"
   },
   {
    "duration": 6,
    "start_time": "2023-02-21T15:12:16.546Z"
   },
   {
    "duration": 30,
    "start_time": "2023-02-21T15:12:16.555Z"
   },
   {
    "duration": 12,
    "start_time": "2023-02-21T15:12:16.587Z"
   },
   {
    "duration": 196,
    "start_time": "2023-02-21T15:12:16.601Z"
   },
   {
    "duration": 6,
    "start_time": "2023-02-21T15:12:16.799Z"
   },
   {
    "duration": 8,
    "start_time": "2023-02-21T15:12:16.807Z"
   },
   {
    "duration": 2781,
    "start_time": "2023-02-21T15:12:16.817Z"
   },
   {
    "duration": 5,
    "start_time": "2023-02-21T15:12:19.599Z"
   },
   {
    "duration": 13,
    "start_time": "2023-02-21T15:12:19.605Z"
   },
   {
    "duration": 222,
    "start_time": "2023-02-21T15:12:19.621Z"
   },
   {
    "duration": 100,
    "start_time": "2023-02-21T15:12:19.845Z"
   },
   {
    "duration": 36,
    "start_time": "2023-02-21T15:12:20.036Z"
   },
   {
    "duration": 9,
    "start_time": "2023-02-21T15:12:20.073Z"
   },
   {
    "duration": 11,
    "start_time": "2023-02-21T15:12:20.138Z"
   },
   {
    "duration": 88,
    "start_time": "2023-02-21T15:12:20.237Z"
   },
   {
    "duration": 5,
    "start_time": "2023-02-21T15:12:20.338Z"
   },
   {
    "duration": 24,
    "start_time": "2023-02-21T15:12:20.345Z"
   },
   {
    "duration": 103,
    "start_time": "2023-02-21T15:12:20.371Z"
   },
   {
    "duration": 5,
    "start_time": "2023-02-21T15:12:20.475Z"
   },
   {
    "duration": 47,
    "start_time": "2023-02-21T15:12:20.482Z"
   },
   {
    "duration": 14,
    "start_time": "2023-02-21T15:12:20.531Z"
   },
   {
    "duration": 10,
    "start_time": "2023-02-21T15:12:20.546Z"
   },
   {
    "duration": 21,
    "start_time": "2023-02-21T15:12:20.558Z"
   },
   {
    "duration": 57,
    "start_time": "2023-02-21T15:12:20.581Z"
   },
   {
    "duration": 56,
    "start_time": "2023-02-21T15:12:20.640Z"
   },
   {
    "duration": 143,
    "start_time": "2023-02-21T15:12:20.697Z"
   },
   {
    "duration": 4,
    "start_time": "2023-02-21T15:12:20.841Z"
   },
   {
    "duration": 18,
    "start_time": "2023-02-21T15:12:20.846Z"
   },
   {
    "duration": 3,
    "start_time": "2023-02-21T15:12:20.866Z"
   },
   {
    "duration": 38,
    "start_time": "2023-02-21T15:12:20.870Z"
   },
   {
    "duration": 5,
    "start_time": "2023-02-21T15:12:20.910Z"
   },
   {
    "duration": 285,
    "start_time": "2023-02-21T15:12:20.917Z"
   },
   {
    "duration": 6,
    "start_time": "2023-02-21T15:12:21.203Z"
   },
   {
    "duration": 8,
    "start_time": "2023-02-21T15:12:21.211Z"
   },
   {
    "duration": 19,
    "start_time": "2023-02-21T15:12:21.221Z"
   },
   {
    "duration": 14,
    "start_time": "2023-02-21T15:12:21.242Z"
   },
   {
    "duration": 8,
    "start_time": "2023-02-21T15:12:21.257Z"
   },
   {
    "duration": 82,
    "start_time": "2023-02-21T15:12:21.266Z"
   },
   {
    "duration": 6,
    "start_time": "2023-02-21T15:12:21.349Z"
   },
   {
    "duration": 7,
    "start_time": "2023-02-21T15:13:07.889Z"
   },
   {
    "duration": 4,
    "start_time": "2023-02-21T15:13:08.929Z"
   },
   {
    "duration": 79,
    "start_time": "2023-02-21T15:14:49.788Z"
   },
   {
    "duration": 5,
    "start_time": "2023-02-21T15:14:53.684Z"
   },
   {
    "duration": 45,
    "start_time": "2023-02-21T15:14:53.690Z"
   },
   {
    "duration": 13,
    "start_time": "2023-02-21T15:14:53.736Z"
   },
   {
    "duration": 24,
    "start_time": "2023-02-21T15:14:53.751Z"
   },
   {
    "duration": 6,
    "start_time": "2023-02-21T15:14:53.777Z"
   },
   {
    "duration": 15,
    "start_time": "2023-02-21T15:14:53.785Z"
   },
   {
    "duration": 10,
    "start_time": "2023-02-21T15:14:53.802Z"
   },
   {
    "duration": 8,
    "start_time": "2023-02-21T15:14:53.814Z"
   },
   {
    "duration": 27,
    "start_time": "2023-02-21T15:14:53.838Z"
   },
   {
    "duration": 17,
    "start_time": "2023-02-21T15:14:53.867Z"
   },
   {
    "duration": 6,
    "start_time": "2023-02-21T15:14:53.887Z"
   },
   {
    "duration": 8,
    "start_time": "2023-02-21T15:14:53.895Z"
   },
   {
    "duration": 32,
    "start_time": "2023-02-21T15:14:53.905Z"
   },
   {
    "duration": 5,
    "start_time": "2023-02-21T15:14:53.939Z"
   },
   {
    "duration": 5,
    "start_time": "2023-02-21T15:14:53.945Z"
   },
   {
    "duration": 38,
    "start_time": "2023-02-21T15:14:53.952Z"
   },
   {
    "duration": 12,
    "start_time": "2023-02-21T15:14:53.992Z"
   },
   {
    "duration": 185,
    "start_time": "2023-02-21T15:14:54.006Z"
   },
   {
    "duration": 5,
    "start_time": "2023-02-21T15:14:54.192Z"
   },
   {
    "duration": 5,
    "start_time": "2023-02-21T15:14:54.200Z"
   },
   {
    "duration": 2676,
    "start_time": "2023-02-21T15:14:54.207Z"
   },
   {
    "duration": 4,
    "start_time": "2023-02-21T15:14:56.885Z"
   },
   {
    "duration": 8,
    "start_time": "2023-02-21T15:14:56.891Z"
   },
   {
    "duration": 3038,
    "start_time": "2023-02-21T15:14:56.902Z"
   },
   {
    "duration": 97,
    "start_time": "2023-02-21T15:14:59.941Z"
   },
   {
    "duration": 36,
    "start_time": "2023-02-21T15:15:00.040Z"
   },
   {
    "duration": 60,
    "start_time": "2023-02-21T15:15:00.078Z"
   },
   {
    "duration": 100,
    "start_time": "2023-02-21T15:15:00.141Z"
   },
   {
    "duration": 104,
    "start_time": "2023-02-21T15:15:00.243Z"
   },
   {
    "duration": 7,
    "start_time": "2023-02-21T15:15:00.349Z"
   },
   {
    "duration": 41,
    "start_time": "2023-02-21T15:15:00.358Z"
   },
   {
    "duration": 96,
    "start_time": "2023-02-21T15:15:00.401Z"
   },
   {
    "duration": 6,
    "start_time": "2023-02-21T15:15:00.499Z"
   },
   {
    "duration": 43,
    "start_time": "2023-02-21T15:15:00.506Z"
   },
   {
    "duration": 14,
    "start_time": "2023-02-21T15:15:00.551Z"
   },
   {
    "duration": 19,
    "start_time": "2023-02-21T15:15:00.567Z"
   },
   {
    "duration": 31,
    "start_time": "2023-02-21T15:15:00.587Z"
   },
   {
    "duration": 26,
    "start_time": "2023-02-21T15:15:00.620Z"
   },
   {
    "duration": 45,
    "start_time": "2023-02-21T15:15:00.648Z"
   },
   {
    "duration": 158,
    "start_time": "2023-02-21T15:15:00.695Z"
   },
   {
    "duration": 4,
    "start_time": "2023-02-21T15:15:00.854Z"
   },
   {
    "duration": 27,
    "start_time": "2023-02-21T15:15:00.859Z"
   },
   {
    "duration": 15,
    "start_time": "2023-02-21T15:15:00.888Z"
   },
   {
    "duration": 63,
    "start_time": "2023-02-21T15:15:00.904Z"
   },
   {
    "duration": 25,
    "start_time": "2023-02-21T15:15:00.968Z"
   },
   {
    "duration": 299,
    "start_time": "2023-02-21T15:15:00.994Z"
   },
   {
    "duration": 6,
    "start_time": "2023-02-21T15:15:01.295Z"
   },
   {
    "duration": 10,
    "start_time": "2023-02-21T15:15:01.302Z"
   },
   {
    "duration": 29,
    "start_time": "2023-02-21T15:15:01.314Z"
   },
   {
    "duration": 29,
    "start_time": "2023-02-21T15:15:01.345Z"
   },
   {
    "duration": 12,
    "start_time": "2023-02-21T15:15:01.375Z"
   },
   {
    "duration": 83,
    "start_time": "2023-02-21T15:15:01.389Z"
   },
   {
    "duration": 6,
    "start_time": "2023-02-21T15:15:01.473Z"
   },
   {
    "duration": 18,
    "start_time": "2023-02-21T15:23:26.223Z"
   },
   {
    "duration": 4,
    "start_time": "2023-02-21T15:23:30.146Z"
   },
   {
    "duration": 72,
    "start_time": "2023-02-21T15:23:30.152Z"
   },
   {
    "duration": 15,
    "start_time": "2023-02-21T15:23:30.226Z"
   },
   {
    "duration": 29,
    "start_time": "2023-02-21T15:23:30.242Z"
   },
   {
    "duration": 22,
    "start_time": "2023-02-21T15:23:30.272Z"
   },
   {
    "duration": 23,
    "start_time": "2023-02-21T15:23:30.295Z"
   },
   {
    "duration": 29,
    "start_time": "2023-02-21T15:23:30.320Z"
   },
   {
    "duration": 37,
    "start_time": "2023-02-21T15:23:30.351Z"
   },
   {
    "duration": 38,
    "start_time": "2023-02-21T15:23:30.390Z"
   },
   {
    "duration": 29,
    "start_time": "2023-02-21T15:23:30.430Z"
   },
   {
    "duration": 24,
    "start_time": "2023-02-21T15:23:30.460Z"
   },
   {
    "duration": 22,
    "start_time": "2023-02-21T15:23:30.486Z"
   },
   {
    "duration": 33,
    "start_time": "2023-02-21T15:23:30.510Z"
   },
   {
    "duration": 23,
    "start_time": "2023-02-21T15:23:30.544Z"
   },
   {
    "duration": 18,
    "start_time": "2023-02-21T15:23:30.568Z"
   },
   {
    "duration": 43,
    "start_time": "2023-02-21T15:23:30.588Z"
   },
   {
    "duration": 10,
    "start_time": "2023-02-21T15:23:30.633Z"
   },
   {
    "duration": 156,
    "start_time": "2023-02-21T15:23:30.645Z"
   },
   {
    "duration": 5,
    "start_time": "2023-02-21T15:23:30.803Z"
   },
   {
    "duration": 42,
    "start_time": "2023-02-21T15:23:30.810Z"
   },
   {
    "duration": 2960,
    "start_time": "2023-02-21T15:23:30.853Z"
   },
   {
    "duration": 6,
    "start_time": "2023-02-21T15:23:33.815Z"
   },
   {
    "duration": 15,
    "start_time": "2023-02-21T15:23:33.823Z"
   },
   {
    "duration": 196,
    "start_time": "2023-02-21T15:23:33.842Z"
   },
   {
    "duration": 105,
    "start_time": "2023-02-21T15:23:34.040Z"
   },
   {
    "duration": 22,
    "start_time": "2023-02-21T15:23:34.147Z"
   },
   {
    "duration": 69,
    "start_time": "2023-02-21T15:23:34.171Z"
   },
   {
    "duration": 95,
    "start_time": "2023-02-21T15:23:34.242Z"
   },
   {
    "duration": 176,
    "start_time": "2023-02-21T15:23:34.340Z"
   },
   {
    "duration": 6,
    "start_time": "2023-02-21T15:23:34.517Z"
   },
   {
    "duration": 12,
    "start_time": "2023-02-21T15:23:34.538Z"
   },
   {
    "duration": 100,
    "start_time": "2023-02-21T15:23:34.552Z"
   },
   {
    "duration": 5,
    "start_time": "2023-02-21T15:23:34.653Z"
   },
   {
    "duration": 15,
    "start_time": "2023-02-21T15:23:34.659Z"
   },
   {
    "duration": 5,
    "start_time": "2023-02-21T15:23:34.676Z"
   },
   {
    "duration": 7,
    "start_time": "2023-02-21T15:23:34.683Z"
   },
   {
    "duration": 25,
    "start_time": "2023-02-21T15:23:34.691Z"
   },
   {
    "duration": 8,
    "start_time": "2023-02-21T15:23:34.718Z"
   },
   {
    "duration": 31,
    "start_time": "2023-02-21T15:23:34.727Z"
   },
   {
    "duration": 171,
    "start_time": "2023-02-21T15:23:34.759Z"
   },
   {
    "duration": 6,
    "start_time": "2023-02-21T15:23:34.931Z"
   },
   {
    "duration": 15,
    "start_time": "2023-02-21T15:23:34.939Z"
   },
   {
    "duration": 25,
    "start_time": "2023-02-21T15:23:34.955Z"
   },
   {
    "duration": 36,
    "start_time": "2023-02-21T15:23:34.981Z"
   },
   {
    "duration": 5,
    "start_time": "2023-02-21T15:23:35.019Z"
   },
   {
    "duration": 290,
    "start_time": "2023-02-21T15:23:35.026Z"
   },
   {
    "duration": 6,
    "start_time": "2023-02-21T15:23:35.318Z"
   },
   {
    "duration": 15,
    "start_time": "2023-02-21T15:23:35.325Z"
   },
   {
    "duration": 16,
    "start_time": "2023-02-21T15:23:35.342Z"
   },
   {
    "duration": 11,
    "start_time": "2023-02-21T15:23:35.359Z"
   },
   {
    "duration": 6,
    "start_time": "2023-02-21T15:23:35.371Z"
   },
   {
    "duration": 93,
    "start_time": "2023-02-21T15:23:35.378Z"
   },
   {
    "duration": 5,
    "start_time": "2023-02-21T15:23:35.473Z"
   },
   {
    "duration": 8,
    "start_time": "2023-02-21T15:26:49.651Z"
   },
   {
    "duration": 13,
    "start_time": "2023-02-21T15:26:53.439Z"
   },
   {
    "duration": 10,
    "start_time": "2023-02-21T15:27:54.391Z"
   },
   {
    "duration": 21,
    "start_time": "2023-02-21T15:27:56.979Z"
   },
   {
    "duration": 22,
    "start_time": "2023-02-21T15:28:10.313Z"
   },
   {
    "duration": 194,
    "start_time": "2023-02-21T15:39:13.291Z"
   },
   {
    "duration": 169,
    "start_time": "2023-02-21T15:39:16.884Z"
   },
   {
    "duration": 8,
    "start_time": "2023-02-21T15:40:09.094Z"
   },
   {
    "duration": 344,
    "start_time": "2023-02-21T15:40:13.330Z"
   },
   {
    "duration": 6,
    "start_time": "2023-02-21T15:40:14.002Z"
   },
   {
    "duration": 295,
    "start_time": "2023-02-21T15:40:20.501Z"
   },
   {
    "duration": 5,
    "start_time": "2023-02-21T15:40:20.909Z"
   },
   {
    "duration": 313,
    "start_time": "2023-02-21T15:40:24.359Z"
   },
   {
    "duration": 6,
    "start_time": "2023-02-21T15:40:24.774Z"
   },
   {
    "duration": 1188,
    "start_time": "2023-02-21T18:12:12.958Z"
   },
   {
    "duration": 179,
    "start_time": "2023-02-21T18:12:14.148Z"
   },
   {
    "duration": 20,
    "start_time": "2023-02-21T18:12:14.329Z"
   },
   {
    "duration": 22,
    "start_time": "2023-02-21T18:12:14.351Z"
   },
   {
    "duration": 19,
    "start_time": "2023-02-21T18:12:14.375Z"
   },
   {
    "duration": 32,
    "start_time": "2023-02-21T18:12:14.396Z"
   },
   {
    "duration": 19,
    "start_time": "2023-02-21T18:12:14.430Z"
   },
   {
    "duration": 15,
    "start_time": "2023-02-21T18:12:14.451Z"
   },
   {
    "duration": 23,
    "start_time": "2023-02-21T18:12:14.468Z"
   },
   {
    "duration": 11,
    "start_time": "2023-02-21T18:12:14.493Z"
   },
   {
    "duration": 18,
    "start_time": "2023-02-21T18:12:14.506Z"
   },
   {
    "duration": 19,
    "start_time": "2023-02-21T18:12:14.525Z"
   },
   {
    "duration": 10,
    "start_time": "2023-02-21T18:12:14.546Z"
   },
   {
    "duration": 15,
    "start_time": "2023-02-21T18:12:14.558Z"
   },
   {
    "duration": 18,
    "start_time": "2023-02-21T18:12:14.574Z"
   },
   {
    "duration": 41,
    "start_time": "2023-02-21T18:12:14.594Z"
   },
   {
    "duration": 14,
    "start_time": "2023-02-21T18:12:14.637Z"
   },
   {
    "duration": 207,
    "start_time": "2023-02-21T18:12:14.653Z"
   },
   {
    "duration": 5,
    "start_time": "2023-02-21T18:12:14.862Z"
   },
   {
    "duration": 36,
    "start_time": "2023-02-21T18:12:14.869Z"
   },
   {
    "duration": 3501,
    "start_time": "2023-02-21T18:12:14.907Z"
   },
   {
    "duration": 5,
    "start_time": "2023-02-21T18:12:18.410Z"
   },
   {
    "duration": 14,
    "start_time": "2023-02-21T18:12:18.417Z"
   },
   {
    "duration": 114,
    "start_time": "2023-02-21T18:12:18.438Z"
   },
   {
    "duration": 100,
    "start_time": "2023-02-21T18:12:18.639Z"
   },
   {
    "duration": 28,
    "start_time": "2023-02-21T18:12:18.741Z"
   },
   {
    "duration": 68,
    "start_time": "2023-02-21T18:12:18.771Z"
   },
   {
    "duration": 93,
    "start_time": "2023-02-21T18:12:18.846Z"
   },
   {
    "duration": 626,
    "start_time": "2023-02-21T18:12:18.941Z"
   },
   {
    "duration": 6,
    "start_time": "2023-02-21T18:12:19.569Z"
   },
   {
    "duration": 29,
    "start_time": "2023-02-21T18:12:19.577Z"
   },
   {
    "duration": 117,
    "start_time": "2023-02-21T18:12:19.608Z"
   },
   {
    "duration": 14,
    "start_time": "2023-02-21T18:12:19.727Z"
   },
   {
    "duration": 19,
    "start_time": "2023-02-21T18:12:19.743Z"
   },
   {
    "duration": 9,
    "start_time": "2023-02-21T18:12:19.764Z"
   },
   {
    "duration": 9,
    "start_time": "2023-02-21T18:12:19.775Z"
   },
   {
    "duration": 7,
    "start_time": "2023-02-21T18:12:19.786Z"
   },
   {
    "duration": 44,
    "start_time": "2023-02-21T18:12:19.795Z"
   },
   {
    "duration": 27,
    "start_time": "2023-02-21T18:12:19.841Z"
   },
   {
    "duration": 221,
    "start_time": "2023-02-21T18:12:19.870Z"
   },
   {
    "duration": 5,
    "start_time": "2023-02-21T18:12:20.092Z"
   },
   {
    "duration": 39,
    "start_time": "2023-02-21T18:12:20.099Z"
   },
   {
    "duration": 4,
    "start_time": "2023-02-21T18:12:20.140Z"
   },
   {
    "duration": 41,
    "start_time": "2023-02-21T18:12:20.146Z"
   },
   {
    "duration": 7,
    "start_time": "2023-02-21T18:12:20.189Z"
   },
   {
    "duration": 398,
    "start_time": "2023-02-21T18:12:20.198Z"
   },
   {
    "duration": 7,
    "start_time": "2023-02-21T18:12:20.597Z"
   },
   {
    "duration": 10,
    "start_time": "2023-02-21T18:12:20.605Z"
   },
   {
    "duration": 30,
    "start_time": "2023-02-21T18:12:20.617Z"
   },
   {
    "duration": 25,
    "start_time": "2023-02-21T18:12:20.650Z"
   },
   {
    "duration": 22,
    "start_time": "2023-02-21T18:12:20.677Z"
   },
   {
    "duration": 107,
    "start_time": "2023-02-21T18:12:20.701Z"
   },
   {
    "duration": 5,
    "start_time": "2023-02-21T18:12:20.810Z"
   },
   {
    "duration": 222,
    "start_time": "2023-02-21T18:15:06.980Z"
   },
   {
    "duration": 7,
    "start_time": "2023-02-21T18:15:07.409Z"
   },
   {
    "duration": 152,
    "start_time": "2023-02-21T18:15:14.507Z"
   },
   {
    "duration": 7,
    "start_time": "2023-02-21T18:15:14.878Z"
   },
   {
    "duration": 307,
    "start_time": "2023-02-21T18:15:17.863Z"
   },
   {
    "duration": 7,
    "start_time": "2023-02-21T18:15:18.358Z"
   },
   {
    "duration": 350,
    "start_time": "2023-02-21T18:15:21.638Z"
   },
   {
    "duration": 8,
    "start_time": "2023-02-21T18:15:22.050Z"
   },
   {
    "duration": 330,
    "start_time": "2023-02-21T18:15:33.588Z"
   },
   {
    "duration": 7,
    "start_time": "2023-02-21T18:15:34.013Z"
   },
   {
    "duration": 301,
    "start_time": "2023-02-21T18:15:38.768Z"
   },
   {
    "duration": 6,
    "start_time": "2023-02-21T18:15:39.117Z"
   },
   {
    "duration": 349,
    "start_time": "2023-02-21T18:15:41.746Z"
   },
   {
    "duration": 6,
    "start_time": "2023-02-21T18:15:42.146Z"
   },
   {
    "duration": 61,
    "start_time": "2023-02-21T18:16:05.228Z"
   },
   {
    "duration": 8,
    "start_time": "2023-02-21T18:16:05.676Z"
   },
   {
    "duration": 35,
    "start_time": "2023-02-21T18:16:09.875Z"
   },
   {
    "duration": 7,
    "start_time": "2023-02-21T18:16:10.314Z"
   },
   {
    "duration": 356,
    "start_time": "2023-02-21T18:16:11.108Z"
   },
   {
    "duration": 6,
    "start_time": "2023-02-21T18:16:11.674Z"
   },
   {
    "duration": 3248,
    "start_time": "2023-02-21T18:16:30.648Z"
   },
   {
    "duration": 5,
    "start_time": "2023-02-21T18:16:33.897Z"
   },
   {
    "duration": 3145,
    "start_time": "2023-02-21T18:16:45.760Z"
   },
   {
    "duration": 5,
    "start_time": "2023-02-21T18:16:48.907Z"
   },
   {
    "duration": 327,
    "start_time": "2023-02-21T18:20:25.885Z"
   },
   {
    "duration": 8,
    "start_time": "2023-02-21T18:20:26.420Z"
   },
   {
    "duration": 4,
    "start_time": "2023-02-21T18:20:37.879Z"
   },
   {
    "duration": 9,
    "start_time": "2023-02-21T18:20:38.565Z"
   },
   {
    "duration": 11,
    "start_time": "2023-02-21T18:20:41.080Z"
   },
   {
    "duration": 6,
    "start_time": "2023-02-21T18:20:41.609Z"
   },
   {
    "duration": 92,
    "start_time": "2023-02-21T18:20:42.281Z"
   },
   {
    "duration": 8,
    "start_time": "2023-02-21T18:20:42.773Z"
   },
   {
    "duration": 121,
    "start_time": "2023-02-21T18:25:34.831Z"
   },
   {
    "duration": 18,
    "start_time": "2023-02-21T18:25:39.875Z"
   },
   {
    "duration": 118,
    "start_time": "2023-02-21T18:26:16.662Z"
   },
   {
    "duration": 5,
    "start_time": "2023-02-21T18:27:24.379Z"
   },
   {
    "duration": 7,
    "start_time": "2023-02-21T18:27:54.904Z"
   },
   {
    "duration": 4,
    "start_time": "2023-02-21T18:32:00.584Z"
   },
   {
    "duration": 24,
    "start_time": "2023-02-21T18:36:20.275Z"
   },
   {
    "duration": 127,
    "start_time": "2023-02-21T18:38:16.602Z"
   },
   {
    "duration": 152,
    "start_time": "2023-02-21T18:38:50.051Z"
   },
   {
    "duration": 208,
    "start_time": "2023-02-21T18:38:56.519Z"
   },
   {
    "duration": 146,
    "start_time": "2023-02-21T18:39:03.544Z"
   },
   {
    "duration": 145,
    "start_time": "2023-02-21T18:39:10.537Z"
   },
   {
    "duration": 129,
    "start_time": "2023-02-21T18:39:16.285Z"
   },
   {
    "duration": 33,
    "start_time": "2023-02-21T18:39:53.793Z"
   },
   {
    "duration": 157,
    "start_time": "2023-02-21T18:39:54.378Z"
   },
   {
    "duration": 27,
    "start_time": "2023-02-21T18:40:06.891Z"
   },
   {
    "duration": 150,
    "start_time": "2023-02-21T18:40:07.583Z"
   },
   {
    "duration": 21,
    "start_time": "2023-02-21T18:40:11.319Z"
   },
   {
    "duration": 143,
    "start_time": "2023-02-21T18:40:11.760Z"
   },
   {
    "duration": 129,
    "start_time": "2023-02-21T18:40:20.371Z"
   },
   {
    "duration": 5,
    "start_time": "2023-02-21T18:42:51.744Z"
   },
   {
    "duration": 18,
    "start_time": "2023-02-21T18:44:18.853Z"
   },
   {
    "duration": 5,
    "start_time": "2023-02-21T18:44:50.934Z"
   },
   {
    "duration": 7,
    "start_time": "2023-02-21T18:45:11.207Z"
   },
   {
    "duration": 10,
    "start_time": "2023-02-21T18:46:24.226Z"
   },
   {
    "duration": 11,
    "start_time": "2023-02-21T18:47:54.839Z"
   },
   {
    "duration": 21,
    "start_time": "2023-02-21T18:49:15.451Z"
   },
   {
    "duration": 130,
    "start_time": "2023-02-21T18:49:16.142Z"
   },
   {
    "duration": 5,
    "start_time": "2023-02-21T18:51:14.956Z"
   },
   {
    "duration": 16,
    "start_time": "2023-02-21T18:54:00.956Z"
   },
   {
    "duration": 5,
    "start_time": "2023-02-21T18:54:55.302Z"
   },
   {
    "duration": 126,
    "start_time": "2023-02-21T18:57:15.994Z"
   },
   {
    "duration": 4,
    "start_time": "2023-02-21T18:57:22.878Z"
   },
   {
    "duration": 140,
    "start_time": "2023-02-21T18:57:23.371Z"
   },
   {
    "duration": 21,
    "start_time": "2023-02-21T18:57:28.919Z"
   },
   {
    "duration": 141,
    "start_time": "2023-02-21T18:57:29.354Z"
   },
   {
    "duration": 21,
    "start_time": "2023-02-21T18:58:24.455Z"
   },
   {
    "duration": 128,
    "start_time": "2023-02-21T18:58:25.992Z"
   },
   {
    "duration": 5,
    "start_time": "2023-02-21T18:58:35.538Z"
   },
   {
    "duration": 133,
    "start_time": "2023-02-21T18:58:35.940Z"
   },
   {
    "duration": 10,
    "start_time": "2023-02-21T18:59:27.562Z"
   },
   {
    "duration": 5,
    "start_time": "2023-02-21T19:00:00.810Z"
   },
   {
    "duration": 5,
    "start_time": "2023-02-21T19:00:11.158Z"
   },
   {
    "duration": 7,
    "start_time": "2023-02-21T19:00:14.209Z"
   },
   {
    "duration": 5,
    "start_time": "2023-02-21T19:02:03.379Z"
   },
   {
    "duration": 220,
    "start_time": "2023-02-21T19:02:04.048Z"
   },
   {
    "duration": 7,
    "start_time": "2023-02-21T19:03:12.459Z"
   },
   {
    "duration": 15,
    "start_time": "2023-02-21T19:06:03.580Z"
   },
   {
    "duration": 195,
    "start_time": "2023-02-21T19:06:11.411Z"
   },
   {
    "duration": 8,
    "start_time": "2023-02-21T19:06:12.665Z"
   },
   {
    "duration": 3607,
    "start_time": "2023-02-21T19:06:25.699Z"
   },
   {
    "duration": 6,
    "start_time": "2023-02-21T19:06:29.308Z"
   },
   {
    "duration": 4,
    "start_time": "2023-02-21T19:06:34.126Z"
   },
   {
    "duration": 59,
    "start_time": "2023-02-21T19:06:34.132Z"
   },
   {
    "duration": 14,
    "start_time": "2023-02-21T19:06:34.192Z"
   },
   {
    "duration": 15,
    "start_time": "2023-02-21T19:06:34.209Z"
   },
   {
    "duration": 8,
    "start_time": "2023-02-21T19:06:34.226Z"
   },
   {
    "duration": 28,
    "start_time": "2023-02-21T19:06:34.238Z"
   },
   {
    "duration": 7,
    "start_time": "2023-02-21T19:06:34.268Z"
   },
   {
    "duration": 7,
    "start_time": "2023-02-21T19:06:34.276Z"
   },
   {
    "duration": 19,
    "start_time": "2023-02-21T19:06:34.286Z"
   },
   {
    "duration": 11,
    "start_time": "2023-02-21T19:06:34.307Z"
   },
   {
    "duration": 35,
    "start_time": "2023-02-21T19:06:34.319Z"
   },
   {
    "duration": 7,
    "start_time": "2023-02-21T19:06:34.356Z"
   },
   {
    "duration": 13,
    "start_time": "2023-02-21T19:06:34.364Z"
   },
   {
    "duration": 4,
    "start_time": "2023-02-21T19:06:34.379Z"
   },
   {
    "duration": 6,
    "start_time": "2023-02-21T19:06:34.384Z"
   },
   {
    "duration": 30,
    "start_time": "2023-02-21T19:06:34.391Z"
   },
   {
    "duration": 29,
    "start_time": "2023-02-21T19:06:34.423Z"
   },
   {
    "duration": 179,
    "start_time": "2023-02-21T19:06:34.453Z"
   },
   {
    "duration": 8,
    "start_time": "2023-02-21T19:06:34.633Z"
   },
   {
    "duration": 8,
    "start_time": "2023-02-21T19:06:34.655Z"
   },
   {
    "duration": 3334,
    "start_time": "2023-02-21T19:06:34.665Z"
   },
   {
    "duration": 5,
    "start_time": "2023-02-21T19:06:38.001Z"
   },
   {
    "duration": 6,
    "start_time": "2023-02-21T19:06:38.008Z"
   },
   {
    "duration": 524,
    "start_time": "2023-02-21T19:06:38.017Z"
   },
   {
    "duration": 96,
    "start_time": "2023-02-21T19:06:38.546Z"
   },
   {
    "duration": 34,
    "start_time": "2023-02-21T19:06:38.646Z"
   },
   {
    "duration": 72,
    "start_time": "2023-02-21T19:06:38.682Z"
   },
   {
    "duration": 32,
    "start_time": "2023-02-21T19:06:38.837Z"
   },
   {
    "duration": 137,
    "start_time": "2023-02-21T19:06:38.870Z"
   },
   {
    "duration": 6,
    "start_time": "2023-02-21T19:06:39.008Z"
   },
   {
    "duration": 32,
    "start_time": "2023-02-21T19:06:39.016Z"
   },
   {
    "duration": 107,
    "start_time": "2023-02-21T19:06:39.049Z"
   },
   {
    "duration": 6,
    "start_time": "2023-02-21T19:06:39.158Z"
   },
   {
    "duration": 14,
    "start_time": "2023-02-21T19:06:39.166Z"
   },
   {
    "duration": 7,
    "start_time": "2023-02-21T19:06:39.182Z"
   },
   {
    "duration": 6,
    "start_time": "2023-02-21T19:06:39.190Z"
   },
   {
    "duration": 5,
    "start_time": "2023-02-21T19:06:39.198Z"
   },
   {
    "duration": 37,
    "start_time": "2023-02-21T19:06:39.205Z"
   },
   {
    "duration": 30,
    "start_time": "2023-02-21T19:06:39.248Z"
   },
   {
    "duration": 185,
    "start_time": "2023-02-21T19:06:39.280Z"
   },
   {
    "duration": 4,
    "start_time": "2023-02-21T19:06:39.467Z"
   },
   {
    "duration": 16,
    "start_time": "2023-02-21T19:06:39.473Z"
   },
   {
    "duration": 3,
    "start_time": "2023-02-21T19:06:39.491Z"
   },
   {
    "duration": 54,
    "start_time": "2023-02-21T19:06:39.496Z"
   },
   {
    "duration": 8,
    "start_time": "2023-02-21T19:06:39.552Z"
   },
   {
    "duration": 328,
    "start_time": "2023-02-21T19:06:39.562Z"
   },
   {
    "duration": 7,
    "start_time": "2023-02-21T19:06:39.892Z"
   },
   {
    "duration": 5,
    "start_time": "2023-02-21T19:06:39.900Z"
   },
   {
    "duration": 16,
    "start_time": "2023-02-21T19:06:39.907Z"
   },
   {
    "duration": 14,
    "start_time": "2023-02-21T19:06:39.944Z"
   },
   {
    "duration": 9,
    "start_time": "2023-02-21T19:06:39.960Z"
   },
   {
    "duration": 95,
    "start_time": "2023-02-21T19:06:39.970Z"
   },
   {
    "duration": 7,
    "start_time": "2023-02-21T19:06:40.068Z"
   },
   {
    "duration": 26,
    "start_time": "2023-02-21T19:06:40.077Z"
   },
   {
    "duration": 12,
    "start_time": "2023-02-21T19:06:40.105Z"
   },
   {
    "duration": 24,
    "start_time": "2023-02-21T19:06:40.138Z"
   },
   {
    "duration": 133,
    "start_time": "2023-02-21T19:06:40.164Z"
   },
   {
    "duration": 5,
    "start_time": "2023-02-21T19:06:40.299Z"
   },
   {
    "duration": 152,
    "start_time": "2023-02-21T19:06:40.305Z"
   },
   {
    "duration": 8,
    "start_time": "2023-02-21T19:06:40.459Z"
   },
   {
    "duration": 4,
    "start_time": "2023-02-21T19:07:06.553Z"
   },
   {
    "duration": 41,
    "start_time": "2023-02-21T19:07:07.856Z"
   },
   {
    "duration": 15,
    "start_time": "2023-02-21T19:07:10.020Z"
   },
   {
    "duration": 20,
    "start_time": "2023-02-21T19:07:13.629Z"
   },
   {
    "duration": 8,
    "start_time": "2023-02-21T19:07:22.425Z"
   },
   {
    "duration": 4,
    "start_time": "2023-02-21T19:07:50.255Z"
   },
   {
    "duration": 7,
    "start_time": "2023-02-21T19:08:04.278Z"
   },
   {
    "duration": 10,
    "start_time": "2023-02-21T19:09:00.356Z"
   },
   {
    "duration": 5,
    "start_time": "2023-02-21T19:09:03.551Z"
   },
   {
    "duration": 9,
    "start_time": "2023-02-21T19:09:04.832Z"
   },
   {
    "duration": 28,
    "start_time": "2023-02-21T19:09:09.992Z"
   },
   {
    "duration": 15,
    "start_time": "2023-02-21T19:09:13.403Z"
   },
   {
    "duration": 9,
    "start_time": "2023-02-21T19:09:17.639Z"
   },
   {
    "duration": 6,
    "start_time": "2023-02-21T19:09:19.056Z"
   },
   {
    "duration": 12,
    "start_time": "2023-02-21T19:09:21.849Z"
   },
   {
    "duration": 6,
    "start_time": "2023-02-21T19:09:22.368Z"
   },
   {
    "duration": 4,
    "start_time": "2023-02-21T19:09:25.826Z"
   },
   {
    "duration": 32,
    "start_time": "2023-02-21T19:09:26.462Z"
   },
   {
    "duration": 14,
    "start_time": "2023-02-21T19:09:27.348Z"
   },
   {
    "duration": 182,
    "start_time": "2023-02-21T19:09:36.636Z"
   },
   {
    "duration": 5,
    "start_time": "2023-02-21T19:09:37.800Z"
   },
   {
    "duration": 4,
    "start_time": "2023-02-21T19:09:43.916Z"
   },
   {
    "duration": 3421,
    "start_time": "2023-02-21T19:09:45.760Z"
   },
   {
    "duration": 6,
    "start_time": "2023-02-21T19:09:49.183Z"
   },
   {
    "duration": 170,
    "start_time": "2023-02-21T19:10:30.203Z"
   },
   {
    "duration": 5,
    "start_time": "2023-02-21T19:10:30.749Z"
   },
   {
    "duration": 3409,
    "start_time": "2023-02-21T19:10:39.562Z"
   },
   {
    "duration": 5,
    "start_time": "2023-02-21T19:10:42.973Z"
   },
   {
    "duration": 172,
    "start_time": "2023-02-21T19:10:50.360Z"
   },
   {
    "duration": 6,
    "start_time": "2023-02-21T19:10:51.136Z"
   },
   {
    "duration": 5,
    "start_time": "2023-02-21T19:10:51.871Z"
   },
   {
    "duration": 3517,
    "start_time": "2023-02-21T19:11:01.947Z"
   },
   {
    "duration": 5,
    "start_time": "2023-02-21T19:11:05.466Z"
   },
   {
    "duration": 4,
    "start_time": "2023-02-21T19:11:11.194Z"
   },
   {
    "duration": 257,
    "start_time": "2023-02-21T19:11:13.103Z"
   },
   {
    "duration": 11,
    "start_time": "2023-02-21T19:11:16.960Z"
   },
   {
    "duration": 35,
    "start_time": "2023-02-21T19:11:21.580Z"
   },
   {
    "duration": 12,
    "start_time": "2023-02-21T19:11:22.823Z"
   },
   {
    "duration": 7,
    "start_time": "2023-02-21T19:11:26.852Z"
   },
   {
    "duration": 111,
    "start_time": "2023-02-21T19:11:28.018Z"
   },
   {
    "duration": 6,
    "start_time": "2023-02-21T19:11:31.113Z"
   },
   {
    "duration": 19,
    "start_time": "2023-02-21T19:11:34.545Z"
   },
   {
    "duration": 95,
    "start_time": "2023-02-21T19:11:35.013Z"
   },
   {
    "duration": 6,
    "start_time": "2023-02-21T19:11:38.592Z"
   },
   {
    "duration": 17,
    "start_time": "2023-02-21T19:11:43.357Z"
   },
   {
    "duration": 6,
    "start_time": "2023-02-21T19:11:44.792Z"
   },
   {
    "duration": 6,
    "start_time": "2023-02-21T19:11:47.331Z"
   },
   {
    "duration": 6,
    "start_time": "2023-02-21T19:11:50.298Z"
   },
   {
    "duration": 6,
    "start_time": "2023-02-21T19:11:53.153Z"
   },
   {
    "duration": 26,
    "start_time": "2023-02-21T19:11:59.196Z"
   },
   {
    "duration": 205,
    "start_time": "2023-02-21T19:12:01.277Z"
   },
   {
    "duration": 5,
    "start_time": "2023-02-21T19:12:13.387Z"
   },
   {
    "duration": 24,
    "start_time": "2023-02-21T19:12:13.394Z"
   },
   {
    "duration": 4,
    "start_time": "2023-02-21T19:12:13.420Z"
   },
   {
    "duration": 38,
    "start_time": "2023-02-21T19:12:18.069Z"
   },
   {
    "duration": 7,
    "start_time": "2023-02-21T19:12:18.728Z"
   },
   {
    "duration": 387,
    "start_time": "2023-02-21T19:12:23.279Z"
   },
   {
    "duration": 7,
    "start_time": "2023-02-21T19:12:23.984Z"
   },
   {
    "duration": 352,
    "start_time": "2023-02-21T19:12:33.476Z"
   },
   {
    "duration": 6,
    "start_time": "2023-02-21T19:12:33.901Z"
   },
   {
    "duration": 322,
    "start_time": "2023-02-21T19:12:54.770Z"
   },
   {
    "duration": 7,
    "start_time": "2023-02-21T19:12:55.174Z"
   },
   {
    "duration": 4,
    "start_time": "2023-02-21T19:12:59.152Z"
   },
   {
    "duration": 11,
    "start_time": "2023-02-21T19:13:01.157Z"
   },
   {
    "duration": 13,
    "start_time": "2023-02-21T19:13:01.664Z"
   },
   {
    "duration": 7,
    "start_time": "2023-02-21T19:13:02.153Z"
   },
   {
    "duration": 93,
    "start_time": "2023-02-21T19:13:04.217Z"
   },
   {
    "duration": 6,
    "start_time": "2023-02-21T19:13:04.890Z"
   },
   {
    "duration": 25,
    "start_time": "2023-02-21T19:13:08.634Z"
   },
   {
    "duration": 11,
    "start_time": "2023-02-21T19:13:09.378Z"
   },
   {
    "duration": 20,
    "start_time": "2023-02-21T19:13:14.493Z"
   },
   {
    "duration": 133,
    "start_time": "2023-02-21T19:13:16.059Z"
   },
   {
    "duration": 4,
    "start_time": "2023-02-21T19:13:27.091Z"
   },
   {
    "duration": 140,
    "start_time": "2023-02-21T19:13:28.049Z"
   },
   {
    "duration": 7,
    "start_time": "2023-02-21T19:13:30.652Z"
   },
   {
    "duration": 368,
    "start_time": "2023-02-21T19:15:07.979Z"
   },
   {
    "duration": 6,
    "start_time": "2023-02-21T19:15:08.466Z"
   },
   {
    "duration": 224,
    "start_time": "2023-02-21T19:15:11.763Z"
   },
   {
    "duration": 8,
    "start_time": "2023-02-21T19:15:12.154Z"
   },
   {
    "duration": 358,
    "start_time": "2023-02-21T19:15:16.073Z"
   },
   {
    "duration": 6,
    "start_time": "2023-02-21T19:15:16.509Z"
   },
   {
    "duration": 342,
    "start_time": "2023-02-21T19:15:19.578Z"
   },
   {
    "duration": 6,
    "start_time": "2023-02-21T19:15:20.003Z"
   },
   {
    "duration": 351,
    "start_time": "2023-02-21T19:15:23.524Z"
   },
   {
    "duration": 7,
    "start_time": "2023-02-21T19:15:23.923Z"
   },
   {
    "duration": 356,
    "start_time": "2023-02-21T19:15:28.368Z"
   },
   {
    "duration": 6,
    "start_time": "2023-02-21T19:15:28.779Z"
   },
   {
    "duration": 341,
    "start_time": "2023-02-21T19:15:32.511Z"
   },
   {
    "duration": 6,
    "start_time": "2023-02-21T19:15:32.962Z"
   },
   {
    "duration": 355,
    "start_time": "2023-02-21T19:15:35.912Z"
   },
   {
    "duration": 6,
    "start_time": "2023-02-21T19:15:36.269Z"
   },
   {
    "duration": 317,
    "start_time": "2023-02-21T19:15:39.052Z"
   },
   {
    "duration": 7,
    "start_time": "2023-02-21T19:15:39.429Z"
   },
   {
    "duration": 4,
    "start_time": "2023-02-21T19:15:45.853Z"
   },
   {
    "duration": 61,
    "start_time": "2023-02-21T19:15:45.859Z"
   },
   {
    "duration": 13,
    "start_time": "2023-02-21T19:15:45.922Z"
   },
   {
    "duration": 54,
    "start_time": "2023-02-21T19:15:45.937Z"
   },
   {
    "duration": 12,
    "start_time": "2023-02-21T19:15:45.994Z"
   },
   {
    "duration": 42,
    "start_time": "2023-02-21T19:15:46.007Z"
   },
   {
    "duration": 16,
    "start_time": "2023-02-21T19:15:46.050Z"
   },
   {
    "duration": 47,
    "start_time": "2023-02-21T19:15:46.068Z"
   },
   {
    "duration": 35,
    "start_time": "2023-02-21T19:15:46.117Z"
   },
   {
    "duration": 39,
    "start_time": "2023-02-21T19:15:46.154Z"
   },
   {
    "duration": 44,
    "start_time": "2023-02-21T19:15:46.195Z"
   },
   {
    "duration": 22,
    "start_time": "2023-02-21T19:15:46.251Z"
   },
   {
    "duration": 28,
    "start_time": "2023-02-21T19:15:46.275Z"
   },
   {
    "duration": 7,
    "start_time": "2023-02-21T19:15:46.305Z"
   },
   {
    "duration": 15,
    "start_time": "2023-02-21T19:15:46.314Z"
   },
   {
    "duration": 6,
    "start_time": "2023-02-21T19:15:46.330Z"
   },
   {
    "duration": 18,
    "start_time": "2023-02-21T19:15:46.337Z"
   },
   {
    "duration": 29,
    "start_time": "2023-02-21T19:15:46.357Z"
   },
   {
    "duration": 11,
    "start_time": "2023-02-21T19:15:46.388Z"
   },
   {
    "duration": 171,
    "start_time": "2023-02-21T19:15:46.400Z"
   },
   {
    "duration": 5,
    "start_time": "2023-02-21T19:15:46.573Z"
   },
   {
    "duration": 10,
    "start_time": "2023-02-21T19:15:46.580Z"
   },
   {
    "duration": 3451,
    "start_time": "2023-02-21T19:15:46.591Z"
   },
   {
    "duration": 10,
    "start_time": "2023-02-21T19:15:50.043Z"
   },
   {
    "duration": 16,
    "start_time": "2023-02-21T19:15:50.055Z"
   },
   {
    "duration": 283,
    "start_time": "2023-02-21T19:15:50.072Z"
   },
   {
    "duration": 94,
    "start_time": "2023-02-21T19:15:50.357Z"
   },
   {
    "duration": 151,
    "start_time": "2023-02-21T19:15:50.454Z"
   },
   {
    "duration": 35,
    "start_time": "2023-02-21T19:15:50.607Z"
   },
   {
    "duration": 131,
    "start_time": "2023-02-21T19:15:50.644Z"
   },
   {
    "duration": 117,
    "start_time": "2023-02-21T19:15:50.777Z"
   },
   {
    "duration": 6,
    "start_time": "2023-02-21T19:15:50.896Z"
   },
   {
    "duration": 48,
    "start_time": "2023-02-21T19:15:50.904Z"
   },
   {
    "duration": 129,
    "start_time": "2023-02-21T19:15:50.954Z"
   },
   {
    "duration": 5,
    "start_time": "2023-02-21T19:15:51.084Z"
   },
   {
    "duration": 43,
    "start_time": "2023-02-21T19:15:51.091Z"
   },
   {
    "duration": 24,
    "start_time": "2023-02-21T19:15:51.139Z"
   },
   {
    "duration": 21,
    "start_time": "2023-02-21T19:15:51.166Z"
   },
   {
    "duration": 40,
    "start_time": "2023-02-21T19:15:51.189Z"
   },
   {
    "duration": 25,
    "start_time": "2023-02-21T19:15:51.231Z"
   },
   {
    "duration": 47,
    "start_time": "2023-02-21T19:15:51.258Z"
   },
   {
    "duration": 196,
    "start_time": "2023-02-21T19:15:51.306Z"
   },
   {
    "duration": 5,
    "start_time": "2023-02-21T19:15:51.503Z"
   },
   {
    "duration": 62,
    "start_time": "2023-02-21T19:15:51.509Z"
   },
   {
    "duration": 26,
    "start_time": "2023-02-21T19:15:51.573Z"
   },
   {
    "duration": 67,
    "start_time": "2023-02-21T19:15:51.601Z"
   },
   {
    "duration": 7,
    "start_time": "2023-02-21T19:15:51.670Z"
   },
   {
    "duration": 376,
    "start_time": "2023-02-21T19:15:51.679Z"
   },
   {
    "duration": 6,
    "start_time": "2023-02-21T19:15:52.057Z"
   },
   {
    "duration": 17,
    "start_time": "2023-02-21T19:15:52.065Z"
   },
   {
    "duration": 46,
    "start_time": "2023-02-21T19:15:52.084Z"
   },
   {
    "duration": 47,
    "start_time": "2023-02-21T19:15:52.132Z"
   },
   {
    "duration": 37,
    "start_time": "2023-02-21T19:15:52.181Z"
   },
   {
    "duration": 154,
    "start_time": "2023-02-21T19:15:52.220Z"
   },
   {
    "duration": 8,
    "start_time": "2023-02-21T19:15:52.376Z"
   },
   {
    "duration": 46,
    "start_time": "2023-02-21T19:15:52.386Z"
   },
   {
    "duration": 31,
    "start_time": "2023-02-21T19:15:52.435Z"
   },
   {
    "duration": 48,
    "start_time": "2023-02-21T19:15:52.468Z"
   },
   {
    "duration": 173,
    "start_time": "2023-02-21T19:15:52.518Z"
   },
   {
    "duration": 4,
    "start_time": "2023-02-21T19:15:52.693Z"
   },
   {
    "duration": 246,
    "start_time": "2023-02-21T19:15:52.699Z"
   },
   {
    "duration": 7,
    "start_time": "2023-02-21T19:15:52.952Z"
   },
   {
    "duration": 1514,
    "start_time": "2023-02-21T19:16:12.233Z"
   },
   {
    "duration": 8,
    "start_time": "2023-02-21T19:16:13.749Z"
   },
   {
    "duration": 61,
    "start_time": "2023-02-21T19:16:20.394Z"
   },
   {
    "duration": 12,
    "start_time": "2023-02-21T19:16:20.958Z"
   },
   {
    "duration": 350,
    "start_time": "2023-02-21T19:16:42.852Z"
   },
   {
    "duration": 6,
    "start_time": "2023-02-21T19:16:43.327Z"
   },
   {
    "duration": 748,
    "start_time": "2023-02-21T19:19:50.687Z"
   },
   {
    "duration": 735,
    "start_time": "2023-02-21T19:20:01.579Z"
   },
   {
    "duration": 87,
    "start_time": "2023-02-21T19:20:15.063Z"
   },
   {
    "duration": 171,
    "start_time": "2023-02-21T19:20:19.292Z"
   },
   {
    "duration": 49,
    "start_time": "2023-02-21T19:20:23.531Z"
   },
   {
    "duration": 54,
    "start_time": "2023-02-21T19:20:27.050Z"
   },
   {
    "duration": 79,
    "start_time": "2023-02-21T19:20:30.063Z"
   },
   {
    "duration": 96,
    "start_time": "2023-02-21T19:20:33.353Z"
   },
   {
    "duration": 753,
    "start_time": "2023-02-21T19:20:36.835Z"
   },
   {
    "duration": 717,
    "start_time": "2023-02-21T19:21:01.616Z"
   },
   {
    "duration": 745,
    "start_time": "2023-02-21T19:21:39.071Z"
   },
   {
    "duration": 918,
    "start_time": "2023-02-21T19:22:42.207Z"
   },
   {
    "duration": 726,
    "start_time": "2023-02-21T19:22:58.180Z"
   },
   {
    "duration": 461,
    "start_time": "2023-02-21T19:23:11.652Z"
   },
   {
    "duration": 780,
    "start_time": "2023-02-21T19:23:15.261Z"
   },
   {
    "duration": 442,
    "start_time": "2023-02-21T19:23:20.058Z"
   },
   {
    "duration": 785,
    "start_time": "2023-02-21T19:23:23.841Z"
   },
   {
    "duration": 788,
    "start_time": "2023-02-21T19:23:34.186Z"
   },
   {
    "duration": 765,
    "start_time": "2023-02-21T19:23:39.761Z"
   },
   {
    "duration": 1353,
    "start_time": "2023-02-21T19:26:19.684Z"
   },
   {
    "duration": 7,
    "start_time": "2023-02-21T19:27:11.357Z"
   },
   {
    "duration": 59,
    "start_time": "2023-02-21T19:28:41.720Z"
   },
   {
    "duration": 10,
    "start_time": "2023-02-21T19:29:10.355Z"
   },
   {
    "duration": 62,
    "start_time": "2023-02-21T19:29:36.147Z"
   },
   {
    "duration": 60,
    "start_time": "2023-02-21T19:29:47.708Z"
   },
   {
    "duration": 12,
    "start_time": "2023-02-21T19:29:48.130Z"
   },
   {
    "duration": 3,
    "start_time": "2023-02-21T19:30:45.528Z"
   },
   {
    "duration": 10,
    "start_time": "2023-02-21T19:30:47.034Z"
   },
   {
    "duration": 2,
    "start_time": "2023-02-21T19:30:56.243Z"
   },
   {
    "duration": 5,
    "start_time": "2023-02-21T19:30:58.973Z"
   },
   {
    "duration": 54,
    "start_time": "2023-02-21T19:30:58.980Z"
   },
   {
    "duration": 13,
    "start_time": "2023-02-21T19:30:59.036Z"
   },
   {
    "duration": 19,
    "start_time": "2023-02-21T19:30:59.051Z"
   },
   {
    "duration": 6,
    "start_time": "2023-02-21T19:30:59.072Z"
   },
   {
    "duration": 9,
    "start_time": "2023-02-21T19:30:59.079Z"
   },
   {
    "duration": 49,
    "start_time": "2023-02-21T19:30:59.089Z"
   },
   {
    "duration": 10,
    "start_time": "2023-02-21T19:30:59.139Z"
   },
   {
    "duration": 11,
    "start_time": "2023-02-21T19:30:59.151Z"
   },
   {
    "duration": 11,
    "start_time": "2023-02-21T19:30:59.163Z"
   },
   {
    "duration": 32,
    "start_time": "2023-02-21T19:30:59.176Z"
   },
   {
    "duration": 28,
    "start_time": "2023-02-21T19:30:59.210Z"
   },
   {
    "duration": 7,
    "start_time": "2023-02-21T19:30:59.239Z"
   },
   {
    "duration": 5,
    "start_time": "2023-02-21T19:30:59.248Z"
   },
   {
    "duration": 13,
    "start_time": "2023-02-21T19:30:59.254Z"
   },
   {
    "duration": 8,
    "start_time": "2023-02-21T19:30:59.269Z"
   },
   {
    "duration": 10,
    "start_time": "2023-02-21T19:30:59.279Z"
   },
   {
    "duration": 47,
    "start_time": "2023-02-21T19:30:59.291Z"
   },
   {
    "duration": 13,
    "start_time": "2023-02-21T19:30:59.339Z"
   },
   {
    "duration": 181,
    "start_time": "2023-02-21T19:30:59.353Z"
   },
   {
    "duration": 6,
    "start_time": "2023-02-21T19:30:59.537Z"
   },
   {
    "duration": 8,
    "start_time": "2023-02-21T19:30:59.545Z"
   },
   {
    "duration": 830,
    "start_time": "2023-02-21T19:30:59.555Z"
   },
   {
    "duration": 3462,
    "start_time": "2023-02-21T19:31:00.389Z"
   },
   {
    "duration": 7,
    "start_time": "2023-02-21T19:31:03.853Z"
   },
   {
    "duration": 8,
    "start_time": "2023-02-21T19:31:03.862Z"
   },
   {
    "duration": 267,
    "start_time": "2023-02-21T19:31:03.872Z"
   },
   {
    "duration": 104,
    "start_time": "2023-02-21T19:31:04.141Z"
   },
   {
    "duration": 52,
    "start_time": "2023-02-21T19:31:04.247Z"
   },
   {
    "duration": 40,
    "start_time": "2023-02-21T19:31:04.301Z"
   },
   {
    "duration": 102,
    "start_time": "2023-02-21T19:31:04.344Z"
   },
   {
    "duration": 138,
    "start_time": "2023-02-21T19:31:04.448Z"
   },
   {
    "duration": 6,
    "start_time": "2023-02-21T19:31:04.588Z"
   },
   {
    "duration": 63,
    "start_time": "2023-02-21T19:31:04.595Z"
   },
   {
    "duration": 120,
    "start_time": "2023-02-21T19:31:04.660Z"
   },
   {
    "duration": 7,
    "start_time": "2023-02-21T19:31:04.782Z"
   },
   {
    "duration": 38,
    "start_time": "2023-02-21T19:31:04.791Z"
   },
   {
    "duration": 10,
    "start_time": "2023-02-21T19:31:04.832Z"
   },
   {
    "duration": 24,
    "start_time": "2023-02-21T19:31:04.844Z"
   },
   {
    "duration": 11,
    "start_time": "2023-02-21T19:31:04.871Z"
   },
   {
    "duration": 13,
    "start_time": "2023-02-21T19:31:04.884Z"
   },
   {
    "duration": 33,
    "start_time": "2023-02-21T19:31:04.900Z"
   },
   {
    "duration": 200,
    "start_time": "2023-02-21T19:31:04.935Z"
   },
   {
    "duration": 4,
    "start_time": "2023-02-21T19:31:05.138Z"
   },
   {
    "duration": 16,
    "start_time": "2023-02-21T19:31:05.144Z"
   },
   {
    "duration": 3,
    "start_time": "2023-02-21T19:31:05.162Z"
   },
   {
    "duration": 42,
    "start_time": "2023-02-21T19:31:05.167Z"
   },
   {
    "duration": 31,
    "start_time": "2023-02-21T19:31:05.211Z"
   },
   {
    "duration": 388,
    "start_time": "2023-02-21T19:31:05.244Z"
   },
   {
    "duration": 9,
    "start_time": "2023-02-21T19:31:05.633Z"
   },
   {
    "duration": 1454,
    "start_time": "2023-02-21T19:31:05.644Z"
   },
   {
    "duration": 6,
    "start_time": "2023-02-21T19:31:07.100Z"
   },
   {
    "duration": 14,
    "start_time": "2023-02-21T19:31:07.108Z"
   },
   {
    "duration": 21,
    "start_time": "2023-02-21T19:31:07.123Z"
   },
   {
    "duration": 24,
    "start_time": "2023-02-21T19:31:07.146Z"
   },
   {
    "duration": 12,
    "start_time": "2023-02-21T19:31:07.172Z"
   },
   {
    "duration": 114,
    "start_time": "2023-02-21T19:31:07.186Z"
   },
   {
    "duration": 8,
    "start_time": "2023-02-21T19:31:07.302Z"
   },
   {
    "duration": 9,
    "start_time": "2023-02-21T19:31:07.312Z"
   },
   {
    "duration": 14,
    "start_time": "2023-02-21T19:31:07.323Z"
   },
   {
    "duration": 67,
    "start_time": "2023-02-21T19:31:07.339Z"
   },
   {
    "duration": 18,
    "start_time": "2023-02-21T19:31:07.409Z"
   },
   {
    "duration": 69,
    "start_time": "2023-02-21T19:31:07.429Z"
   },
   {
    "duration": 137,
    "start_time": "2023-02-21T19:31:07.500Z"
   },
   {
    "duration": 5,
    "start_time": "2023-02-21T19:31:07.639Z"
   },
   {
    "duration": 145,
    "start_time": "2023-02-21T19:31:07.646Z"
   },
   {
    "duration": 7,
    "start_time": "2023-02-21T19:31:07.793Z"
   },
   {
    "duration": 26,
    "start_time": "2023-02-21T19:31:24.705Z"
   },
   {
    "duration": 16,
    "start_time": "2023-02-21T19:31:25.102Z"
   },
   {
    "duration": 3029,
    "start_time": "2023-02-21T19:31:59.677Z"
   },
   {
    "duration": 6,
    "start_time": "2023-02-21T19:32:02.708Z"
   },
   {
    "duration": 32537,
    "start_time": "2023-02-21T19:32:12.359Z"
   },
   {
    "duration": 5,
    "start_time": "2023-02-21T19:32:44.900Z"
   },
   {
    "duration": 6,
    "start_time": "2023-02-21T19:32:48.119Z"
   },
   {
    "duration": 181,
    "start_time": "2023-02-21T19:32:52.229Z"
   },
   {
    "duration": 12,
    "start_time": "2023-02-21T19:32:52.722Z"
   },
   {
    "duration": 5,
    "start_time": "2023-02-21T19:32:53.962Z"
   },
   {
    "duration": 39813,
    "start_time": "2023-02-21T19:33:05.252Z"
   },
   {
    "duration": 8,
    "start_time": "2023-02-21T19:33:45.067Z"
   },
   {
    "duration": 5,
    "start_time": "2023-02-21T19:33:48.077Z"
   },
   {
    "duration": 369,
    "start_time": "2023-02-21T19:33:58.521Z"
   },
   {
    "duration": 633,
    "start_time": "2023-02-21T19:34:36.928Z"
   },
   {
    "duration": 6,
    "start_time": "2023-02-21T19:34:37.563Z"
   },
   {
    "duration": 30,
    "start_time": "2023-02-21T19:34:45.788Z"
   },
   {
    "duration": 11,
    "start_time": "2023-02-21T19:34:46.270Z"
   },
   {
    "duration": 6,
    "start_time": "2023-02-21T19:57:12.907Z"
   },
   {
    "duration": 72,
    "start_time": "2023-02-21T19:57:12.916Z"
   },
   {
    "duration": 16,
    "start_time": "2023-02-21T19:57:12.990Z"
   },
   {
    "duration": 24,
    "start_time": "2023-02-21T19:57:13.009Z"
   },
   {
    "duration": 11,
    "start_time": "2023-02-21T19:57:13.038Z"
   },
   {
    "duration": 9,
    "start_time": "2023-02-21T19:57:13.051Z"
   },
   {
    "duration": 13,
    "start_time": "2023-02-21T19:57:13.062Z"
   },
   {
    "duration": 12,
    "start_time": "2023-02-21T19:57:13.077Z"
   },
   {
    "duration": 8,
    "start_time": "2023-02-21T19:57:13.091Z"
   },
   {
    "duration": 15,
    "start_time": "2023-02-21T19:57:13.102Z"
   },
   {
    "duration": 27,
    "start_time": "2023-02-21T19:57:13.139Z"
   },
   {
    "duration": 15,
    "start_time": "2023-02-21T19:57:13.169Z"
   },
   {
    "duration": 9,
    "start_time": "2023-02-21T19:57:13.186Z"
   },
   {
    "duration": 20,
    "start_time": "2023-02-21T19:57:13.197Z"
   },
   {
    "duration": 110,
    "start_time": "2023-02-21T19:57:13.219Z"
   },
   {
    "duration": 31,
    "start_time": "2023-02-21T19:57:13.331Z"
   },
   {
    "duration": 36,
    "start_time": "2023-02-21T19:57:13.364Z"
   },
   {
    "duration": 53,
    "start_time": "2023-02-21T19:57:13.403Z"
   },
   {
    "duration": 17,
    "start_time": "2023-02-21T19:57:13.459Z"
   },
   {
    "duration": 189,
    "start_time": "2023-02-21T19:57:13.479Z"
   },
   {
    "duration": 5,
    "start_time": "2023-02-21T19:57:13.670Z"
   },
   {
    "duration": 13,
    "start_time": "2023-02-21T19:57:13.677Z"
   },
   {
    "duration": 352,
    "start_time": "2023-02-21T19:57:13.692Z"
   },
   {
    "duration": 38247,
    "start_time": "2023-02-21T19:57:14.047Z"
   },
   {
    "duration": 6,
    "start_time": "2023-02-21T19:57:52.295Z"
   },
   {
    "duration": 11,
    "start_time": "2023-02-21T19:57:52.303Z"
   },
   {
    "duration": 323,
    "start_time": "2023-02-21T19:57:52.316Z"
   },
   {
    "duration": 96,
    "start_time": "2023-02-21T19:57:52.646Z"
   },
   {
    "duration": 74,
    "start_time": "2023-02-21T19:57:52.744Z"
   },
   {
    "duration": 26,
    "start_time": "2023-02-21T19:57:52.819Z"
   },
   {
    "duration": 99,
    "start_time": "2023-02-21T19:57:52.848Z"
   },
   {
    "duration": 191,
    "start_time": "2023-02-21T19:57:52.949Z"
   },
   {
    "duration": 6,
    "start_time": "2023-02-21T19:57:53.142Z"
   },
   {
    "duration": 32,
    "start_time": "2023-02-21T19:57:53.149Z"
   },
   {
    "duration": 113,
    "start_time": "2023-02-21T19:57:53.182Z"
   },
   {
    "duration": 7,
    "start_time": "2023-02-21T19:57:53.296Z"
   },
   {
    "duration": 41,
    "start_time": "2023-02-21T19:57:53.305Z"
   },
   {
    "duration": 8,
    "start_time": "2023-02-21T19:57:53.348Z"
   },
   {
    "duration": 8,
    "start_time": "2023-02-21T19:57:53.358Z"
   },
   {
    "duration": 17,
    "start_time": "2023-02-21T19:57:53.368Z"
   },
   {
    "duration": 10,
    "start_time": "2023-02-21T19:57:53.387Z"
   },
   {
    "duration": 51,
    "start_time": "2023-02-21T19:57:53.399Z"
   },
   {
    "duration": 199,
    "start_time": "2023-02-21T19:57:53.452Z"
   },
   {
    "duration": 4,
    "start_time": "2023-02-21T19:57:53.653Z"
   },
   {
    "duration": 22,
    "start_time": "2023-02-21T19:57:53.659Z"
   },
   {
    "duration": 13,
    "start_time": "2023-02-21T19:57:53.682Z"
   },
   {
    "duration": 40,
    "start_time": "2023-02-21T19:57:53.697Z"
   },
   {
    "duration": 7,
    "start_time": "2023-02-21T19:57:53.739Z"
   },
   {
    "duration": 345,
    "start_time": "2023-02-21T19:57:53.748Z"
   },
   {
    "duration": 7,
    "start_time": "2023-02-21T19:57:54.095Z"
   },
   {
    "duration": 593,
    "start_time": "2023-02-21T19:57:54.104Z"
   },
   {
    "duration": 7,
    "start_time": "2023-02-21T19:57:54.699Z"
   },
   {
    "duration": 8,
    "start_time": "2023-02-21T19:57:54.708Z"
   },
   {
    "duration": 22,
    "start_time": "2023-02-21T19:57:54.718Z"
   },
   {
    "duration": 12,
    "start_time": "2023-02-21T19:57:54.742Z"
   },
   {
    "duration": 8,
    "start_time": "2023-02-21T19:57:54.756Z"
   },
   {
    "duration": 104,
    "start_time": "2023-02-21T19:57:54.767Z"
   },
   {
    "duration": 8,
    "start_time": "2023-02-21T19:57:54.873Z"
   },
   {
    "duration": 25,
    "start_time": "2023-02-21T19:57:54.883Z"
   },
   {
    "duration": 32,
    "start_time": "2023-02-21T19:57:54.910Z"
   },
   {
    "duration": 32,
    "start_time": "2023-02-21T19:57:54.944Z"
   },
   {
    "duration": 11,
    "start_time": "2023-02-21T19:57:54.978Z"
   },
   {
    "duration": 21,
    "start_time": "2023-02-21T19:57:54.991Z"
   },
   {
    "duration": 127,
    "start_time": "2023-02-21T19:57:55.037Z"
   },
   {
    "duration": 5,
    "start_time": "2023-02-21T19:57:55.166Z"
   },
   {
    "duration": 139,
    "start_time": "2023-02-21T19:57:55.173Z"
   },
   {
    "duration": 7,
    "start_time": "2023-02-21T19:57:55.314Z"
   },
   {
    "duration": 301,
    "start_time": "2023-02-21T19:58:01.012Z"
   },
   {
    "duration": 322,
    "start_time": "2023-02-21T19:58:07.518Z"
   },
   {
    "duration": 758,
    "start_time": "2023-02-21T19:58:11.442Z"
   },
   {
    "duration": 800,
    "start_time": "2023-02-21T19:58:14.623Z"
   },
   {
    "duration": 869,
    "start_time": "2023-02-21T19:58:22.043Z"
   },
   {
    "duration": 11,
    "start_time": "2023-02-21T20:01:44.875Z"
   },
   {
    "duration": 33,
    "start_time": "2023-02-21T20:01:56.108Z"
   },
   {
    "duration": 160,
    "start_time": "2023-02-21T20:02:24.460Z"
   },
   {
    "duration": 65,
    "start_time": "2023-02-21T20:02:35.316Z"
   },
   {
    "duration": 47,
    "start_time": "2023-02-21T20:04:34.679Z"
   },
   {
    "duration": 45,
    "start_time": "2023-02-21T20:04:39.569Z"
   },
   {
    "duration": 40,
    "start_time": "2023-02-21T20:04:49.468Z"
   },
   {
    "duration": 34,
    "start_time": "2023-02-21T20:04:57.375Z"
   },
   {
    "duration": 30,
    "start_time": "2023-02-21T20:05:06.532Z"
   },
   {
    "duration": 11,
    "start_time": "2023-02-21T20:05:15.275Z"
   },
   {
    "duration": 12,
    "start_time": "2023-02-21T20:05:29.775Z"
   },
   {
    "duration": 37,
    "start_time": "2023-02-21T20:05:39.179Z"
   },
   {
    "duration": 26,
    "start_time": "2023-02-21T20:05:42.086Z"
   },
   {
    "duration": 24,
    "start_time": "2023-02-21T20:05:44.892Z"
   },
   {
    "duration": 24,
    "start_time": "2023-02-21T20:05:48.778Z"
   },
   {
    "duration": 24,
    "start_time": "2023-02-21T20:05:52.224Z"
   },
   {
    "duration": 19,
    "start_time": "2023-02-21T20:06:16.116Z"
   },
   {
    "duration": 31,
    "start_time": "2023-02-21T20:06:37.784Z"
   },
   {
    "duration": 25,
    "start_time": "2023-02-21T20:06:42.113Z"
   },
   {
    "duration": 22,
    "start_time": "2023-02-21T20:07:04.105Z"
   },
   {
    "duration": 22,
    "start_time": "2023-02-21T20:07:10.016Z"
   },
   {
    "duration": 23,
    "start_time": "2023-02-21T20:07:15.924Z"
   },
   {
    "duration": 23,
    "start_time": "2023-02-21T20:07:22.041Z"
   },
   {
    "duration": 7,
    "start_time": "2023-02-21T20:07:59.435Z"
   },
   {
    "duration": 8,
    "start_time": "2023-02-21T20:08:18.391Z"
   },
   {
    "duration": 10,
    "start_time": "2023-02-21T20:09:19.785Z"
   },
   {
    "duration": 9,
    "start_time": "2023-02-21T20:10:57.773Z"
   },
   {
    "duration": 5,
    "start_time": "2023-02-21T20:11:03.505Z"
   },
   {
    "duration": 10,
    "start_time": "2023-02-21T20:12:29.482Z"
   },
   {
    "duration": 5,
    "start_time": "2023-02-21T20:14:12.045Z"
   },
   {
    "duration": 5,
    "start_time": "2023-02-21T20:15:36.897Z"
   },
   {
    "duration": 6,
    "start_time": "2023-02-21T20:16:43.747Z"
   },
   {
    "duration": 25,
    "start_time": "2023-02-21T20:52:34.457Z"
   },
   {
    "duration": 40,
    "start_time": "2023-02-21T20:52:42.211Z"
   },
   {
    "duration": 38,
    "start_time": "2023-02-21T20:52:46.753Z"
   },
   {
    "duration": 37,
    "start_time": "2023-02-21T20:52:49.903Z"
   },
   {
    "duration": 23,
    "start_time": "2023-02-21T20:53:00.614Z"
   },
   {
    "duration": 23,
    "start_time": "2023-02-21T20:53:05.139Z"
   },
   {
    "duration": 24,
    "start_time": "2023-02-21T20:53:54.486Z"
   },
   {
    "duration": 8,
    "start_time": "2023-02-21T20:54:10.038Z"
   },
   {
    "duration": 5,
    "start_time": "2023-02-21T20:54:13.126Z"
   },
   {
    "duration": 10,
    "start_time": "2023-02-21T20:54:13.683Z"
   },
   {
    "duration": 3,
    "start_time": "2023-02-21T20:56:47.435Z"
   },
   {
    "duration": 26,
    "start_time": "2023-02-21T20:57:34.895Z"
   },
   {
    "duration": 11,
    "start_time": "2023-02-21T20:57:49.161Z"
   },
   {
    "duration": 11,
    "start_time": "2023-02-21T20:58:25.239Z"
   },
   {
    "duration": 25,
    "start_time": "2023-02-21T20:58:38.838Z"
   },
   {
    "duration": 10,
    "start_time": "2023-02-21T20:58:39.752Z"
   },
   {
    "duration": 6,
    "start_time": "2023-02-21T20:58:40.304Z"
   },
   {
    "duration": 9,
    "start_time": "2023-02-21T20:58:40.930Z"
   },
   {
    "duration": 5,
    "start_time": "2023-02-21T20:58:41.520Z"
   },
   {
    "duration": 7,
    "start_time": "2023-02-21T20:58:42.125Z"
   },
   {
    "duration": 30,
    "start_time": "2023-02-21T20:58:42.589Z"
   },
   {
    "duration": 14,
    "start_time": "2023-02-21T20:58:43.079Z"
   },
   {
    "duration": 4,
    "start_time": "2023-02-21T21:05:09.929Z"
   },
   {
    "duration": 13,
    "start_time": "2023-02-21T21:06:07.777Z"
   },
   {
    "duration": 39,
    "start_time": "2023-02-21T21:07:25.552Z"
   },
   {
    "duration": 40,
    "start_time": "2023-02-21T21:07:35.174Z"
   },
   {
    "duration": 11,
    "start_time": "2023-02-21T21:07:44.652Z"
   },
   {
    "duration": 16,
    "start_time": "2023-02-21T21:08:11.236Z"
   },
   {
    "duration": 12,
    "start_time": "2023-02-21T21:08:15.868Z"
   },
   {
    "duration": 30,
    "start_time": "2023-02-21T21:08:16.356Z"
   },
   {
    "duration": 23,
    "start_time": "2023-02-21T21:08:16.836Z"
   },
   {
    "duration": 27,
    "start_time": "2023-02-21T21:09:05.553Z"
   },
   {
    "duration": 94,
    "start_time": "2023-02-21T21:09:06.002Z"
   },
   {
    "duration": 11,
    "start_time": "2023-02-21T21:09:06.466Z"
   },
   {
    "duration": 54,
    "start_time": "2023-02-21T21:09:16.670Z"
   },
   {
    "duration": 198,
    "start_time": "2023-02-21T21:09:17.054Z"
   },
   {
    "duration": 13,
    "start_time": "2023-02-21T21:09:17.432Z"
   },
   {
    "duration": 30,
    "start_time": "2023-02-21T21:09:21.661Z"
   },
   {
    "duration": 114,
    "start_time": "2023-02-21T21:09:22.067Z"
   },
   {
    "duration": 17,
    "start_time": "2023-02-21T21:09:22.454Z"
   },
   {
    "duration": 28,
    "start_time": "2023-02-21T21:09:25.927Z"
   },
   {
    "duration": 90,
    "start_time": "2023-02-21T21:09:26.283Z"
   },
   {
    "duration": 11,
    "start_time": "2023-02-21T21:09:26.652Z"
   },
   {
    "duration": 48,
    "start_time": "2023-02-22T08:20:27.068Z"
   },
   {
    "duration": 1655,
    "start_time": "2023-02-22T08:28:18.161Z"
   },
   {
    "duration": 208,
    "start_time": "2023-02-22T08:28:21.657Z"
   },
   {
    "duration": 21,
    "start_time": "2023-02-22T08:28:26.503Z"
   },
   {
    "duration": 15,
    "start_time": "2023-02-22T08:28:28.532Z"
   },
   {
    "duration": 5,
    "start_time": "2023-02-22T08:28:55.624Z"
   },
   {
    "duration": 108,
    "start_time": "2023-02-22T08:29:06.925Z"
   },
   {
    "duration": 5,
    "start_time": "2023-02-22T08:29:50.346Z"
   },
   {
    "duration": 19,
    "start_time": "2023-02-22T08:29:59.695Z"
   },
   {
    "duration": 10,
    "start_time": "2023-02-22T08:30:04.295Z"
   },
   {
    "duration": 3,
    "start_time": "2023-02-22T08:33:51.616Z"
   },
   {
    "duration": 4,
    "start_time": "2023-02-22T08:33:56.115Z"
   },
   {
    "duration": 7,
    "start_time": "2023-02-22T08:34:20.727Z"
   },
   {
    "duration": 5,
    "start_time": "2023-02-22T08:34:35.283Z"
   },
   {
    "duration": 3,
    "start_time": "2023-02-22T08:38:42.319Z"
   },
   {
    "duration": 40,
    "start_time": "2023-02-22T08:39:16.859Z"
   },
   {
    "duration": 13,
    "start_time": "2023-02-22T08:39:32.421Z"
   },
   {
    "duration": 7,
    "start_time": "2023-02-22T08:39:45.388Z"
   },
   {
    "duration": 5,
    "start_time": "2023-02-22T08:40:01.022Z"
   },
   {
    "duration": 5,
    "start_time": "2023-02-22T08:40:20.219Z"
   },
   {
    "duration": 3,
    "start_time": "2023-02-22T08:40:35.343Z"
   },
   {
    "duration": 4,
    "start_time": "2023-02-22T08:40:47.367Z"
   },
   {
    "duration": 5,
    "start_time": "2023-02-22T08:41:10.582Z"
   },
   {
    "duration": 16,
    "start_time": "2023-02-22T08:42:04.318Z"
   },
   {
    "duration": 5,
    "start_time": "2023-02-22T08:42:12.795Z"
   },
   {
    "duration": 10,
    "start_time": "2023-02-22T08:42:20.088Z"
   },
   {
    "duration": 10,
    "start_time": "2023-02-22T08:45:14.223Z"
   },
   {
    "duration": 16,
    "start_time": "2023-02-22T08:45:21.725Z"
   },
   {
    "duration": 2,
    "start_time": "2023-02-22T08:46:25.027Z"
   },
   {
    "duration": 3,
    "start_time": "2023-02-22T08:53:19.030Z"
   },
   {
    "duration": 4,
    "start_time": "2023-02-22T08:54:27.231Z"
   },
   {
    "duration": 8,
    "start_time": "2023-02-22T08:54:47.997Z"
   },
   {
    "duration": 3,
    "start_time": "2023-02-22T08:54:56.932Z"
   },
   {
    "duration": 3,
    "start_time": "2023-02-22T08:56:01.580Z"
   },
   {
    "duration": 7,
    "start_time": "2023-02-22T08:56:35.200Z"
   },
   {
    "duration": 8,
    "start_time": "2023-02-22T08:56:43.832Z"
   },
   {
    "duration": 5,
    "start_time": "2023-02-22T08:57:57.291Z"
   },
   {
    "duration": 5,
    "start_time": "2023-02-22T09:01:20.693Z"
   },
   {
    "duration": 3,
    "start_time": "2023-02-22T09:03:00.627Z"
   },
   {
    "duration": 9,
    "start_time": "2023-02-22T09:03:42.184Z"
   },
   {
    "duration": 35,
    "start_time": "2023-02-22T09:34:55.773Z"
   },
   {
    "duration": 23,
    "start_time": "2023-02-22T09:35:36.870Z"
   },
   {
    "duration": 22,
    "start_time": "2023-02-22T09:35:41.740Z"
   },
   {
    "duration": 18,
    "start_time": "2023-02-22T09:35:56.679Z"
   },
   {
    "duration": 16,
    "start_time": "2023-02-22T09:36:20.343Z"
   },
   {
    "duration": 2,
    "start_time": "2023-02-22T09:41:40.592Z"
   },
   {
    "duration": 14,
    "start_time": "2023-02-22T09:43:33.419Z"
   },
   {
    "duration": 16,
    "start_time": "2023-02-22T09:43:57.944Z"
   },
   {
    "duration": 24,
    "start_time": "2023-02-22T09:44:02.397Z"
   },
   {
    "duration": 21,
    "start_time": "2023-02-22T09:44:05.620Z"
   },
   {
    "duration": 30,
    "start_time": "2023-02-22T09:44:09.288Z"
   },
   {
    "duration": 20,
    "start_time": "2023-02-22T09:44:12.496Z"
   },
   {
    "duration": 23,
    "start_time": "2023-02-22T09:44:15.887Z"
   },
   {
    "duration": 20,
    "start_time": "2023-02-22T09:45:47.348Z"
   },
   {
    "duration": 3,
    "start_time": "2023-02-22T09:46:22.692Z"
   },
   {
    "duration": 527,
    "start_time": "2023-02-22T09:48:59.918Z"
   },
   {
    "duration": 696,
    "start_time": "2023-02-22T09:49:05.501Z"
   },
   {
    "duration": 221,
    "start_time": "2023-02-22T09:49:11.185Z"
   },
   {
    "duration": 806,
    "start_time": "2023-02-22T09:49:16.641Z"
   },
   {
    "duration": 687,
    "start_time": "2023-02-22T09:49:20.347Z"
   },
   {
    "duration": 97,
    "start_time": "2023-02-22T09:51:36.019Z"
   },
   {
    "duration": 4,
    "start_time": "2023-02-22T09:51:44.728Z"
   },
   {
    "duration": 4,
    "start_time": "2023-02-22T09:51:54.506Z"
   },
   {
    "duration": 157,
    "start_time": "2023-02-22T09:52:01.164Z"
   },
   {
    "duration": 89,
    "start_time": "2023-02-22T09:52:10.130Z"
   },
   {
    "duration": 4,
    "start_time": "2023-02-22T09:52:10.551Z"
   },
   {
    "duration": 4,
    "start_time": "2023-02-22T09:52:11.290Z"
   },
   {
    "duration": 1614,
    "start_time": "2023-02-22T09:52:27.455Z"
   },
   {
    "duration": 3,
    "start_time": "2023-02-22T09:52:29.071Z"
   },
   {
    "duration": 4,
    "start_time": "2023-02-22T09:52:30.049Z"
   },
   {
    "duration": 1674,
    "start_time": "2023-02-22T09:52:55.020Z"
   },
   {
    "duration": 8,
    "start_time": "2023-02-22T09:52:56.696Z"
   },
   {
    "duration": 4,
    "start_time": "2023-02-22T09:52:57.965Z"
   },
   {
    "duration": 84,
    "start_time": "2023-02-22T09:53:10.279Z"
   },
   {
    "duration": 4,
    "start_time": "2023-02-22T09:53:10.834Z"
   },
   {
    "duration": 4,
    "start_time": "2023-02-22T09:53:11.563Z"
   },
   {
    "duration": 1140,
    "start_time": "2023-02-22T10:09:35.616Z"
   },
   {
    "duration": 44,
    "start_time": "2023-02-22T10:09:36.758Z"
   },
   {
    "duration": 18,
    "start_time": "2023-02-22T10:09:36.853Z"
   },
   {
    "duration": 7,
    "start_time": "2023-02-22T10:09:40.458Z"
   },
   {
    "duration": 5,
    "start_time": "2023-02-22T10:09:41.365Z"
   },
   {
    "duration": 4,
    "start_time": "2023-02-22T10:09:42.031Z"
   },
   {
    "duration": 6,
    "start_time": "2023-02-22T10:09:42.705Z"
   },
   {
    "duration": 13,
    "start_time": "2023-02-22T10:09:43.399Z"
   },
   {
    "duration": 5,
    "start_time": "2023-02-22T10:09:44.155Z"
   },
   {
    "duration": 11,
    "start_time": "2023-02-22T10:09:45.044Z"
   },
   {
    "duration": 21,
    "start_time": "2023-02-22T10:09:45.742Z"
   },
   {
    "duration": 5,
    "start_time": "2023-02-22T10:09:46.635Z"
   },
   {
    "duration": 9,
    "start_time": "2023-02-22T10:09:47.390Z"
   },
   {
    "duration": 6,
    "start_time": "2023-02-22T10:09:48.287Z"
   },
   {
    "duration": 7,
    "start_time": "2023-02-22T10:09:48.920Z"
   },
   {
    "duration": 5,
    "start_time": "2023-02-22T10:09:49.544Z"
   },
   {
    "duration": 3,
    "start_time": "2023-02-22T10:09:50.216Z"
   },
   {
    "duration": 10,
    "start_time": "2023-02-22T10:09:50.831Z"
   },
   {
    "duration": 25,
    "start_time": "2023-02-22T10:09:51.457Z"
   },
   {
    "duration": 27,
    "start_time": "2023-02-22T10:09:55.652Z"
   },
   {
    "duration": 15,
    "start_time": "2023-02-22T10:09:56.622Z"
   },
   {
    "duration": 111,
    "start_time": "2023-02-22T10:10:02.555Z"
   },
   {
    "duration": 4,
    "start_time": "2023-02-22T10:10:03.238Z"
   },
   {
    "duration": 5,
    "start_time": "2023-02-22T10:10:04.182Z"
   },
   {
    "duration": 5,
    "start_time": "2023-02-22T10:11:19.976Z"
   },
   {
    "duration": 33027,
    "start_time": "2023-02-22T10:13:19.340Z"
   },
   {
    "duration": 5,
    "start_time": "2023-02-22T10:13:52.369Z"
   },
   {
    "duration": 635,
    "start_time": "2023-02-22T10:14:45.283Z"
   },
   {
    "duration": 638,
    "start_time": "2023-02-22T10:15:08.944Z"
   },
   {
    "duration": 13,
    "start_time": "2023-02-22T10:15:09.599Z"
   },
   {
    "duration": 15,
    "start_time": "2023-02-22T10:16:00.929Z"
   },
   {
    "duration": 10,
    "start_time": "2023-02-22T10:16:01.999Z"
   },
   {
    "duration": 4,
    "start_time": "2023-02-22T10:16:05.658Z"
   },
   {
    "duration": 611,
    "start_time": "2023-02-22T10:16:06.629Z"
   },
   {
    "duration": 24,
    "start_time": "2023-02-22T10:16:07.379Z"
   },
   {
    "duration": 4,
    "start_time": "2023-02-22T10:16:52.646Z"
   },
   {
    "duration": 97,
    "start_time": "2023-02-22T10:19:04.262Z"
   },
   {
    "duration": 2279,
    "start_time": "2023-02-22T10:19:09.923Z"
   },
   {
    "duration": 1508,
    "start_time": "2023-02-22T10:19:35.294Z"
   },
   {
    "duration": 4,
    "start_time": "2023-02-22T10:19:51.630Z"
   },
   {
    "duration": 3611,
    "start_time": "2023-02-22T10:19:57.205Z"
   },
   {
    "duration": 78,
    "start_time": "2023-02-22T10:20:00.818Z"
   },
   {
    "duration": 2093,
    "start_time": "2023-02-22T10:20:05.298Z"
   },
   {
    "duration": 4,
    "start_time": "2023-02-22T10:20:07.396Z"
   },
   {
    "duration": 3366,
    "start_time": "2023-02-22T10:20:12.038Z"
   },
   {
    "duration": 5,
    "start_time": "2023-02-22T10:20:15.406Z"
   },
   {
    "duration": 15,
    "start_time": "2023-02-22T10:22:49.591Z"
   },
   {
    "duration": 389,
    "start_time": "2023-02-22T10:27:23.633Z"
   },
   {
    "duration": 7,
    "start_time": "2023-02-22T10:30:19.005Z"
   },
   {
    "duration": 6,
    "start_time": "2023-02-22T10:30:33.955Z"
   },
   {
    "duration": 22,
    "start_time": "2023-02-22T10:36:14.651Z"
   },
   {
    "duration": 5,
    "start_time": "2023-02-22T10:36:21.688Z"
   },
   {
    "duration": 9,
    "start_time": "2023-02-22T10:38:23.210Z"
   },
   {
    "duration": 64,
    "start_time": "2023-02-22T10:38:52.409Z"
   },
   {
    "duration": 201,
    "start_time": "2023-02-22T10:39:10.293Z"
   },
   {
    "duration": 9,
    "start_time": "2023-02-22T10:39:28.018Z"
   },
   {
    "duration": 11,
    "start_time": "2023-02-22T10:41:00.482Z"
   },
   {
    "duration": 14,
    "start_time": "2023-02-22T10:41:31.192Z"
   },
   {
    "duration": 3,
    "start_time": "2023-02-22T10:41:36.918Z"
   },
   {
    "duration": 44,
    "start_time": "2023-02-22T10:41:42.977Z"
   },
   {
    "duration": 8,
    "start_time": "2023-02-22T10:41:52.382Z"
   },
   {
    "duration": 7,
    "start_time": "2023-02-22T10:42:06.648Z"
   },
   {
    "duration": 8,
    "start_time": "2023-02-22T10:42:16.345Z"
   },
   {
    "duration": 4,
    "start_time": "2023-02-22T10:43:59.465Z"
   },
   {
    "duration": 5,
    "start_time": "2023-02-22T10:44:05.100Z"
   },
   {
    "duration": 6,
    "start_time": "2023-02-22T10:44:13.689Z"
   },
   {
    "duration": 113,
    "start_time": "2023-02-22T10:44:17.515Z"
   },
   {
    "duration": 7,
    "start_time": "2023-02-22T10:44:20.719Z"
   },
   {
    "duration": 9,
    "start_time": "2023-02-22T10:44:34.006Z"
   },
   {
    "duration": 57,
    "start_time": "2023-02-22T10:44:34.723Z"
   },
   {
    "duration": 11,
    "start_time": "2023-02-22T10:44:35.505Z"
   },
   {
    "duration": 6,
    "start_time": "2023-02-22T10:44:38.272Z"
   },
   {
    "duration": 6,
    "start_time": "2023-02-22T10:44:38.722Z"
   },
   {
    "duration": 6,
    "start_time": "2023-02-22T10:44:39.181Z"
   },
   {
    "duration": 10,
    "start_time": "2023-02-22T10:46:54.928Z"
   },
   {
    "duration": 6,
    "start_time": "2023-02-22T10:47:03.716Z"
   },
   {
    "duration": 28,
    "start_time": "2023-02-22T10:49:20.861Z"
   },
   {
    "duration": 7,
    "start_time": "2023-02-22T10:49:30.279Z"
   },
   {
    "duration": 5,
    "start_time": "2023-02-22T10:49:49.680Z"
   },
   {
    "duration": 3,
    "start_time": "2023-02-22T10:50:12.748Z"
   },
   {
    "duration": 9,
    "start_time": "2023-02-22T10:51:17.017Z"
   },
   {
    "duration": 610,
    "start_time": "2023-02-22T10:51:33.001Z"
   },
   {
    "duration": 8,
    "start_time": "2023-02-22T10:51:33.613Z"
   },
   {
    "duration": 4,
    "start_time": "2023-02-22T10:51:34.193Z"
   },
   {
    "duration": 8,
    "start_time": "2023-02-22T10:52:25.153Z"
   },
   {
    "duration": 3,
    "start_time": "2023-02-22T10:52:42.952Z"
   },
   {
    "duration": 3161,
    "start_time": "2023-02-22T10:52:45.651Z"
   },
   {
    "duration": 90,
    "start_time": "2023-02-22T10:52:48.814Z"
   },
   {
    "duration": 97,
    "start_time": "2023-02-22T10:52:48.909Z"
   },
   {
    "duration": 16,
    "start_time": "2023-02-22T10:56:22.828Z"
   },
   {
    "duration": 8,
    "start_time": "2023-02-22T10:57:34.273Z"
   },
   {
    "duration": 4,
    "start_time": "2023-02-22T10:58:08.481Z"
   },
   {
    "duration": 5,
    "start_time": "2023-02-22T11:02:16.556Z"
   },
   {
    "duration": 5,
    "start_time": "2023-02-22T11:02:48.125Z"
   },
   {
    "duration": 10,
    "start_time": "2023-02-22T11:03:11.226Z"
   },
   {
    "duration": 30,
    "start_time": "2023-02-22T11:04:12.196Z"
   },
   {
    "duration": 27,
    "start_time": "2023-02-22T11:05:01.059Z"
   },
   {
    "duration": 35,
    "start_time": "2023-02-22T11:05:35.477Z"
   },
   {
    "duration": 10,
    "start_time": "2023-02-22T11:06:05.834Z"
   },
   {
    "duration": 5,
    "start_time": "2023-02-22T11:06:36.648Z"
   },
   {
    "duration": 1152,
    "start_time": "2023-02-22T11:08:12.475Z"
   },
   {
    "duration": 7,
    "start_time": "2023-02-22T11:09:09.546Z"
   },
   {
    "duration": 3,
    "start_time": "2023-02-22T11:09:40.247Z"
   },
   {
    "duration": 3,
    "start_time": "2023-02-22T11:12:30.130Z"
   },
   {
    "duration": 3,
    "start_time": "2023-02-22T11:12:38.834Z"
   },
   {
    "duration": 13,
    "start_time": "2023-02-22T11:12:39.884Z"
   },
   {
    "duration": 26,
    "start_time": "2023-02-22T11:12:40.582Z"
   },
   {
    "duration": 9,
    "start_time": "2023-02-22T11:12:41.378Z"
   },
   {
    "duration": 3,
    "start_time": "2023-02-22T11:12:42.080Z"
   },
   {
    "duration": 1139,
    "start_time": "2023-02-22T11:12:44.792Z"
   },
   {
    "duration": 7,
    "start_time": "2023-02-22T11:12:45.932Z"
   },
   {
    "duration": 4,
    "start_time": "2023-02-22T11:12:46.065Z"
   },
   {
    "duration": 4,
    "start_time": "2023-02-22T11:14:45.622Z"
   },
   {
    "duration": 17,
    "start_time": "2023-02-22T11:15:16.860Z"
   },
   {
    "duration": 4,
    "start_time": "2023-02-22T11:15:47.475Z"
   },
   {
    "duration": 15,
    "start_time": "2023-02-22T11:15:48.170Z"
   },
   {
    "duration": 4,
    "start_time": "2023-02-22T11:16:29.995Z"
   },
   {
    "duration": 16,
    "start_time": "2023-02-22T11:16:30.730Z"
   },
   {
    "duration": 4,
    "start_time": "2023-02-22T11:16:51.976Z"
   },
   {
    "duration": 8,
    "start_time": "2023-02-22T11:16:52.451Z"
   },
   {
    "duration": 9,
    "start_time": "2023-02-22T11:17:36.152Z"
   },
   {
    "duration": 10,
    "start_time": "2023-02-22T11:17:43.722Z"
   },
   {
    "duration": 8,
    "start_time": "2023-02-22T11:20:05.448Z"
   },
   {
    "duration": 10,
    "start_time": "2023-02-22T11:20:20.090Z"
   },
   {
    "duration": 8,
    "start_time": "2023-02-22T11:20:20.634Z"
   },
   {
    "duration": 3,
    "start_time": "2023-02-22T11:20:21.549Z"
   },
   {
    "duration": 10,
    "start_time": "2023-02-22T11:20:31.563Z"
   },
   {
    "duration": 12,
    "start_time": "2023-02-22T11:20:32.040Z"
   },
   {
    "duration": 8,
    "start_time": "2023-02-22T11:20:32.437Z"
   },
   {
    "duration": 3,
    "start_time": "2023-02-22T11:20:32.855Z"
   },
   {
    "duration": 11,
    "start_time": "2023-02-22T11:20:37.930Z"
   },
   {
    "duration": 15,
    "start_time": "2023-02-22T11:20:38.346Z"
   },
   {
    "duration": 9,
    "start_time": "2023-02-22T11:20:38.724Z"
   },
   {
    "duration": 4,
    "start_time": "2023-02-22T11:20:39.122Z"
   },
   {
    "duration": 12,
    "start_time": "2023-02-22T11:20:42.625Z"
   },
   {
    "duration": 13,
    "start_time": "2023-02-22T11:20:42.984Z"
   },
   {
    "duration": 9,
    "start_time": "2023-02-22T11:20:43.383Z"
   },
   {
    "duration": 3,
    "start_time": "2023-02-22T11:20:43.758Z"
   },
   {
    "duration": 14,
    "start_time": "2023-02-22T11:20:55.381Z"
   },
   {
    "duration": 44,
    "start_time": "2023-02-22T11:20:55.829Z"
   },
   {
    "duration": 11,
    "start_time": "2023-02-22T11:20:56.299Z"
   },
   {
    "duration": 3,
    "start_time": "2023-02-22T11:20:56.730Z"
   },
   {
    "duration": 1630,
    "start_time": "2023-02-22T11:20:59.199Z"
   },
   {
    "duration": 7,
    "start_time": "2023-02-22T11:21:00.832Z"
   },
   {
    "duration": 15,
    "start_time": "2023-02-22T11:21:00.841Z"
   },
   {
    "duration": 10,
    "start_time": "2023-02-22T11:21:05.333Z"
   },
   {
    "duration": 26,
    "start_time": "2023-02-22T11:21:05.735Z"
   },
   {
    "duration": 8,
    "start_time": "2023-02-22T11:21:06.156Z"
   },
   {
    "duration": 5,
    "start_time": "2023-02-22T11:21:06.543Z"
   },
   {
    "duration": 892,
    "start_time": "2023-02-22T11:21:09.586Z"
   },
   {
    "duration": 12,
    "start_time": "2023-02-22T11:21:10.480Z"
   },
   {
    "duration": 4,
    "start_time": "2023-02-22T11:21:10.494Z"
   },
   {
    "duration": 4,
    "start_time": "2023-02-22T11:21:18.169Z"
   },
   {
    "duration": 9,
    "start_time": "2023-02-22T11:21:18.628Z"
   },
   {
    "duration": 13,
    "start_time": "2023-02-22T11:21:19.132Z"
   },
   {
    "duration": 7,
    "start_time": "2023-02-22T11:21:19.675Z"
   },
   {
    "duration": 5,
    "start_time": "2023-02-22T11:21:20.449Z"
   },
   {
    "duration": 626,
    "start_time": "2023-02-22T11:21:46.071Z"
   },
   {
    "duration": 8,
    "start_time": "2023-02-22T11:22:22.630Z"
   },
   {
    "duration": 4,
    "start_time": "2023-02-22T11:22:46.726Z"
   },
   {
    "duration": 3,
    "start_time": "2023-02-22T11:25:33.022Z"
   },
   {
    "duration": 4,
    "start_time": "2023-02-22T11:26:05.531Z"
   },
   {
    "duration": 49,
    "start_time": "2023-02-22T11:27:43.385Z"
   },
   {
    "duration": 10,
    "start_time": "2023-02-22T11:27:53.668Z"
   },
   {
    "duration": 4,
    "start_time": "2023-02-22T11:28:24.563Z"
   },
   {
    "duration": 112,
    "start_time": "2023-02-22T11:28:31.224Z"
   },
   {
    "duration": 4,
    "start_time": "2023-02-22T11:29:24.818Z"
   },
   {
    "duration": 4,
    "start_time": "2023-02-22T11:30:12.080Z"
   },
   {
    "duration": 109,
    "start_time": "2023-02-22T11:31:07.571Z"
   },
   {
    "duration": 12,
    "start_time": "2023-02-22T11:31:29.891Z"
   },
   {
    "duration": 4,
    "start_time": "2023-02-22T11:31:51.316Z"
   },
   {
    "duration": 12,
    "start_time": "2023-02-22T11:31:52.028Z"
   },
   {
    "duration": 208,
    "start_time": "2023-02-22T11:32:16.761Z"
   },
   {
    "duration": 5,
    "start_time": "2023-02-22T11:32:19.523Z"
   },
   {
    "duration": 109,
    "start_time": "2023-02-22T11:32:21.314Z"
   },
   {
    "duration": 4,
    "start_time": "2023-02-22T11:32:58.330Z"
   },
   {
    "duration": 6,
    "start_time": "2023-02-22T11:33:41.804Z"
   },
   {
    "duration": 9,
    "start_time": "2023-02-22T11:35:41.570Z"
   },
   {
    "duration": 3,
    "start_time": "2023-02-22T11:36:19.317Z"
   },
   {
    "duration": 2,
    "start_time": "2023-02-22T11:36:30.126Z"
   },
   {
    "duration": 9,
    "start_time": "2023-02-22T11:36:32.887Z"
   },
   {
    "duration": 4,
    "start_time": "2023-02-22T11:36:33.923Z"
   },
   {
    "duration": 47,
    "start_time": "2023-02-22T11:37:57.022Z"
   },
   {
    "duration": 8,
    "start_time": "2023-02-22T11:38:15.021Z"
   },
   {
    "duration": 3,
    "start_time": "2023-02-22T11:38:15.622Z"
   },
   {
    "duration": 52,
    "start_time": "2023-02-22T11:38:19.926Z"
   },
   {
    "duration": 124,
    "start_time": "2023-02-22T11:38:20.572Z"
   },
   {
    "duration": 4,
    "start_time": "2023-02-22T11:38:24.576Z"
   },
   {
    "duration": 111,
    "start_time": "2023-02-22T11:38:25.158Z"
   },
   {
    "duration": 7,
    "start_time": "2023-02-22T11:38:27.062Z"
   },
   {
    "duration": 1583,
    "start_time": "2023-02-22T13:13:49.068Z"
   },
   {
    "duration": 192,
    "start_time": "2023-02-22T13:13:50.653Z"
   },
   {
    "duration": 17,
    "start_time": "2023-02-22T13:13:50.847Z"
   },
   {
    "duration": 8,
    "start_time": "2023-02-22T13:13:50.867Z"
   },
   {
    "duration": 8,
    "start_time": "2023-02-22T13:13:50.877Z"
   },
   {
    "duration": 7,
    "start_time": "2023-02-22T13:13:50.886Z"
   },
   {
    "duration": 7,
    "start_time": "2023-02-22T13:13:50.895Z"
   },
   {
    "duration": 30,
    "start_time": "2023-02-22T13:13:50.904Z"
   },
   {
    "duration": 6,
    "start_time": "2023-02-22T13:13:50.936Z"
   },
   {
    "duration": 12,
    "start_time": "2023-02-22T13:13:50.945Z"
   },
   {
    "duration": 23,
    "start_time": "2023-02-22T13:13:50.959Z"
   },
   {
    "duration": 5,
    "start_time": "2023-02-22T13:13:50.983Z"
   },
   {
    "duration": 4,
    "start_time": "2023-02-22T13:13:50.990Z"
   },
   {
    "duration": 29,
    "start_time": "2023-02-22T13:13:50.996Z"
   },
   {
    "duration": 16,
    "start_time": "2023-02-22T13:13:51.026Z"
   },
   {
    "duration": 17,
    "start_time": "2023-02-22T13:13:51.043Z"
   },
   {
    "duration": 17,
    "start_time": "2023-02-22T13:13:51.062Z"
   },
   {
    "duration": 12,
    "start_time": "2023-02-22T13:13:51.080Z"
   },
   {
    "duration": 39,
    "start_time": "2023-02-22T13:13:51.094Z"
   },
   {
    "duration": 12,
    "start_time": "2023-02-22T13:13:51.135Z"
   },
   {
    "duration": 22,
    "start_time": "2023-02-22T13:13:51.149Z"
   },
   {
    "duration": 8,
    "start_time": "2023-02-22T13:13:51.173Z"
   },
   {
    "duration": 5,
    "start_time": "2023-02-22T13:13:51.183Z"
   },
   {
    "duration": 729,
    "start_time": "2023-02-22T13:13:51.190Z"
   },
   {
    "duration": 10,
    "start_time": "2023-02-22T13:13:51.932Z"
   },
   {
    "duration": 28,
    "start_time": "2023-02-22T13:13:51.944Z"
   },
   {
    "duration": 365,
    "start_time": "2023-02-22T13:13:51.974Z"
   },
   {
    "duration": 94,
    "start_time": "2023-02-22T13:13:52.344Z"
   },
   {
    "duration": 106,
    "start_time": "2023-02-22T13:13:52.439Z"
   },
   {
    "duration": 147,
    "start_time": "2023-02-22T13:13:52.547Z"
   },
   {
    "duration": 9,
    "start_time": "2023-02-22T13:13:52.696Z"
   },
   {
    "duration": 83,
    "start_time": "2023-02-22T13:13:52.707Z"
   },
   {
    "duration": 35,
    "start_time": "2023-02-22T13:13:52.792Z"
   },
   {
    "duration": 109,
    "start_time": "2023-02-22T13:13:52.832Z"
   },
   {
    "duration": 7,
    "start_time": "2023-02-22T13:13:52.943Z"
   },
   {
    "duration": 6,
    "start_time": "2023-02-22T13:13:52.953Z"
   },
   {
    "duration": 20,
    "start_time": "2023-02-22T13:13:52.961Z"
   },
   {
    "duration": 8,
    "start_time": "2023-02-22T13:13:52.983Z"
   },
   {
    "duration": 4,
    "start_time": "2023-02-22T13:13:53.022Z"
   },
   {
    "duration": 17,
    "start_time": "2023-02-22T13:13:53.028Z"
   },
   {
    "duration": 16,
    "start_time": "2023-02-22T13:13:53.047Z"
   },
   {
    "duration": 41,
    "start_time": "2023-02-22T13:13:53.064Z"
   },
   {
    "duration": 8,
    "start_time": "2023-02-22T13:13:53.107Z"
   },
   {
    "duration": 4,
    "start_time": "2023-02-22T13:13:53.116Z"
   },
   {
    "duration": 1067,
    "start_time": "2023-02-22T13:13:53.123Z"
   },
   {
    "duration": 8,
    "start_time": "2023-02-22T13:13:54.191Z"
   },
   {
    "duration": 5,
    "start_time": "2023-02-22T13:13:54.201Z"
   },
   {
    "duration": 20,
    "start_time": "2023-02-22T13:13:54.208Z"
   },
   {
    "duration": 13,
    "start_time": "2023-02-22T13:13:54.234Z"
   },
   {
    "duration": 13,
    "start_time": "2023-02-22T13:13:54.248Z"
   },
   {
    "duration": 7,
    "start_time": "2023-02-22T13:13:54.263Z"
   },
   {
    "duration": 3,
    "start_time": "2023-02-22T13:13:54.272Z"
   },
   {
    "duration": 532,
    "start_time": "2023-02-22T13:13:54.277Z"
   },
   {
    "duration": 24,
    "start_time": "2023-02-22T13:13:54.811Z"
   },
   {
    "duration": 4,
    "start_time": "2023-02-22T13:13:54.837Z"
   },
   {
    "duration": 52,
    "start_time": "2023-02-22T13:13:54.842Z"
   },
   {
    "duration": 9,
    "start_time": "2023-02-22T13:13:54.896Z"
   },
   {
    "duration": 3,
    "start_time": "2023-02-22T13:13:54.907Z"
   },
   {
    "duration": 54,
    "start_time": "2023-02-22T13:13:54.924Z"
   },
   {
    "duration": 174,
    "start_time": "2023-02-22T13:13:54.980Z"
   },
   {
    "duration": 4,
    "start_time": "2023-02-22T13:13:55.156Z"
   },
   {
    "duration": 138,
    "start_time": "2023-02-22T13:13:55.161Z"
   },
   {
    "duration": 7,
    "start_time": "2023-02-22T13:13:55.301Z"
   },
   {
    "duration": 5,
    "start_time": "2023-02-22T13:18:05.351Z"
   },
   {
    "duration": 51,
    "start_time": "2023-02-22T13:30:48.172Z"
   },
   {
    "duration": 5,
    "start_time": "2023-02-22T13:44:23.939Z"
   },
   {
    "duration": 11,
    "start_time": "2023-02-22T13:44:42.856Z"
   },
   {
    "duration": 30,
    "start_time": "2023-02-22T13:45:12.558Z"
   },
   {
    "duration": 8,
    "start_time": "2023-02-22T13:45:28.996Z"
   },
   {
    "duration": 1027,
    "start_time": "2023-02-22T13:46:32.472Z"
   },
   {
    "duration": 8,
    "start_time": "2023-02-22T13:46:41.185Z"
   },
   {
    "duration": 4,
    "start_time": "2023-02-22T13:48:38.082Z"
   },
   {
    "duration": 10,
    "start_time": "2023-02-22T13:48:54.890Z"
   },
   {
    "duration": 14,
    "start_time": "2023-02-22T13:49:16.382Z"
   },
   {
    "duration": 455,
    "start_time": "2023-02-22T13:50:05.743Z"
   },
   {
    "duration": 3,
    "start_time": "2023-02-22T13:51:59.277Z"
   },
   {
    "duration": 5,
    "start_time": "2023-02-22T13:58:23.218Z"
   },
   {
    "duration": 41,
    "start_time": "2023-02-22T13:58:25.348Z"
   },
   {
    "duration": 12,
    "start_time": "2023-02-22T13:58:25.885Z"
   },
   {
    "duration": 8,
    "start_time": "2023-02-22T13:58:27.543Z"
   },
   {
    "duration": 6,
    "start_time": "2023-02-22T13:58:28.843Z"
   },
   {
    "duration": 8,
    "start_time": "2023-02-22T13:58:29.642Z"
   },
   {
    "duration": 5,
    "start_time": "2023-02-22T13:58:31.488Z"
   },
   {
    "duration": 8,
    "start_time": "2023-02-22T13:58:32.842Z"
   },
   {
    "duration": 6,
    "start_time": "2023-02-22T13:58:34.484Z"
   },
   {
    "duration": 24,
    "start_time": "2023-02-22T13:58:35.112Z"
   },
   {
    "duration": 21,
    "start_time": "2023-02-22T13:58:37.183Z"
   },
   {
    "duration": 5,
    "start_time": "2023-02-22T13:58:38.408Z"
   },
   {
    "duration": 3,
    "start_time": "2023-02-22T13:58:39.013Z"
   },
   {
    "duration": 6,
    "start_time": "2023-02-22T13:58:40.452Z"
   },
   {
    "duration": 5,
    "start_time": "2023-02-22T13:58:40.969Z"
   },
   {
    "duration": 5,
    "start_time": "2023-02-22T13:58:41.609Z"
   },
   {
    "duration": 3,
    "start_time": "2023-02-22T13:58:42.987Z"
   },
   {
    "duration": 7,
    "start_time": "2023-02-22T13:58:43.512Z"
   },
   {
    "duration": 26,
    "start_time": "2023-02-22T13:58:44.304Z"
   },
   {
    "duration": 11,
    "start_time": "2023-02-22T13:58:46.048Z"
   },
   {
    "duration": 18,
    "start_time": "2023-02-22T13:58:49.148Z"
   },
   {
    "duration": 9,
    "start_time": "2023-02-22T13:58:50.354Z"
   },
   {
    "duration": 4,
    "start_time": "2023-02-22T13:58:50.993Z"
   },
   {
    "duration": 711,
    "start_time": "2023-02-22T13:58:53.059Z"
   },
   {
    "duration": 8,
    "start_time": "2023-02-22T13:58:53.772Z"
   },
   {
    "duration": 4,
    "start_time": "2023-02-22T13:58:55.854Z"
   },
   {
    "duration": 62,
    "start_time": "2023-02-22T13:58:57.327Z"
   },
   {
    "duration": 423,
    "start_time": "2023-02-22T13:59:04.024Z"
   },
   {
    "duration": 9,
    "start_time": "2023-02-22T13:59:04.907Z"
   },
   {
    "duration": 4,
    "start_time": "2023-02-22T13:59:05.743Z"
   },
   {
    "duration": 131,
    "start_time": "2023-02-22T13:59:07.323Z"
   },
   {
    "duration": 9,
    "start_time": "2023-02-22T13:59:08.862Z"
   },
   {
    "duration": 61,
    "start_time": "2023-02-22T13:59:09.497Z"
   },
   {
    "duration": 13,
    "start_time": "2023-02-22T13:59:10.261Z"
   },
   {
    "duration": 10,
    "start_time": "2023-02-22T13:59:11.648Z"
   },
   {
    "duration": 6,
    "start_time": "2023-02-22T13:59:12.293Z"
   },
   {
    "duration": 7,
    "start_time": "2023-02-22T13:59:12.921Z"
   },
   {
    "duration": 22,
    "start_time": "2023-02-22T13:59:15.150Z"
   },
   {
    "duration": 9,
    "start_time": "2023-02-22T13:59:16.101Z"
   },
   {
    "duration": 4,
    "start_time": "2023-02-22T13:59:17.902Z"
   },
   {
    "duration": 4,
    "start_time": "2023-02-22T13:59:20.199Z"
   },
   {
    "duration": 9,
    "start_time": "2023-02-22T13:59:20.777Z"
   },
   {
    "duration": 30,
    "start_time": "2023-02-22T13:59:21.318Z"
   },
   {
    "duration": 9,
    "start_time": "2023-02-22T13:59:22.145Z"
   },
   {
    "duration": 3,
    "start_time": "2023-02-22T13:59:24.012Z"
   },
   {
    "duration": 1111,
    "start_time": "2023-02-22T13:59:25.424Z"
   },
   {
    "duration": 12,
    "start_time": "2023-02-22T13:59:26.538Z"
   },
   {
    "duration": 5,
    "start_time": "2023-02-22T13:59:27.666Z"
   },
   {
    "duration": 4,
    "start_time": "2023-02-22T13:59:29.129Z"
   },
   {
    "duration": 10,
    "start_time": "2023-02-22T13:59:29.763Z"
   },
   {
    "duration": 15,
    "start_time": "2023-02-22T13:59:30.359Z"
   },
   {
    "duration": 8,
    "start_time": "2023-02-22T13:59:31.147Z"
   },
   {
    "duration": 6,
    "start_time": "2023-02-22T13:59:32.627Z"
   },
   {
    "duration": 503,
    "start_time": "2023-02-22T13:59:33.702Z"
   },
   {
    "duration": 24,
    "start_time": "2023-02-22T13:59:34.612Z"
   },
   {
    "duration": 5,
    "start_time": "2023-02-22T13:59:37.044Z"
   },
   {
    "duration": 53,
    "start_time": "2023-02-22T13:59:53.205Z"
   },
   {
    "duration": 10,
    "start_time": "2023-02-22T13:59:56.392Z"
   },
   {
    "duration": 5,
    "start_time": "2023-02-22T13:59:58.446Z"
   },
   {
    "duration": 55,
    "start_time": "2023-02-22T14:00:08.600Z"
   },
   {
    "duration": 209,
    "start_time": "2023-02-22T14:00:09.406Z"
   },
   {
    "duration": 6,
    "start_time": "2023-02-22T14:00:11.320Z"
   },
   {
    "duration": 130,
    "start_time": "2023-02-22T14:00:11.861Z"
   },
   {
    "duration": 7,
    "start_time": "2023-02-22T14:00:13.299Z"
   },
   {
    "duration": 3,
    "start_time": "2023-02-23T14:16:50.521Z"
   },
   {
    "duration": 44,
    "start_time": "2023-02-23T14:17:02.707Z"
   },
   {
    "duration": 7,
    "start_time": "2023-02-23T14:18:37.591Z"
   },
   {
    "duration": 1451,
    "start_time": "2023-02-23T14:18:44.434Z"
   },
   {
    "duration": 176,
    "start_time": "2023-02-23T14:18:47.235Z"
   },
   {
    "duration": 16,
    "start_time": "2023-02-23T14:18:48.583Z"
   },
   {
    "duration": 8,
    "start_time": "2023-02-23T14:18:50.540Z"
   },
   {
    "duration": 5,
    "start_time": "2023-02-23T14:18:51.683Z"
   },
   {
    "duration": 4,
    "start_time": "2023-02-23T14:18:52.201Z"
   },
   {
    "duration": 4,
    "start_time": "2023-02-23T14:18:52.886Z"
   },
   {
    "duration": 6,
    "start_time": "2023-02-23T14:18:54.561Z"
   },
   {
    "duration": 4,
    "start_time": "2023-02-23T14:18:55.872Z"
   },
   {
    "duration": 25,
    "start_time": "2023-02-23T14:18:56.504Z"
   },
   {
    "duration": 2,
    "start_time": "2023-02-23T14:18:59.398Z"
   },
   {
    "duration": 4,
    "start_time": "2023-02-23T14:19:05.568Z"
   },
   {
    "duration": 4,
    "start_time": "2023-02-23T14:19:06.137Z"
   },
   {
    "duration": 6,
    "start_time": "2023-02-23T14:19:07.556Z"
   },
   {
    "duration": 5,
    "start_time": "2023-02-23T14:19:08.165Z"
   },
   {
    "duration": 5,
    "start_time": "2023-02-23T14:19:09.236Z"
   },
   {
    "duration": 19,
    "start_time": "2023-02-23T14:19:12.060Z"
   },
   {
    "duration": 11,
    "start_time": "2023-02-23T14:19:21.701Z"
   },
   {
    "duration": 3,
    "start_time": "2023-02-23T14:21:45.984Z"
   },
   {
    "duration": 9,
    "start_time": "2023-02-23T14:21:46.759Z"
   },
   {
    "duration": 21,
    "start_time": "2023-02-23T14:21:47.535Z"
   },
   {
    "duration": 11,
    "start_time": "2023-02-23T14:21:50.020Z"
   },
   {
    "duration": 20,
    "start_time": "2023-02-23T14:22:11.907Z"
   },
   {
    "duration": 7,
    "start_time": "2023-02-23T14:22:12.883Z"
   },
   {
    "duration": 3,
    "start_time": "2023-02-23T14:22:13.423Z"
   },
   {
    "duration": 715,
    "start_time": "2023-02-23T14:22:17.905Z"
   },
   {
    "duration": 7,
    "start_time": "2023-02-23T14:22:18.622Z"
   },
   {
    "duration": 4,
    "start_time": "2023-02-23T14:22:19.482Z"
   },
   {
    "duration": 53,
    "start_time": "2023-02-23T14:22:22.493Z"
   },
   {
    "duration": 377,
    "start_time": "2023-02-23T14:22:24.816Z"
   },
   {
    "duration": 100,
    "start_time": "2023-02-23T14:22:25.295Z"
   },
   {
    "duration": 4,
    "start_time": "2023-02-23T14:22:25.749Z"
   },
   {
    "duration": 117,
    "start_time": "2023-02-23T14:22:28.905Z"
   },
   {
    "duration": 9,
    "start_time": "2023-02-23T14:22:32.339Z"
   },
   {
    "duration": 50,
    "start_time": "2023-02-23T14:22:34.682Z"
   },
   {
    "duration": 11,
    "start_time": "2023-02-23T14:22:35.204Z"
   },
   {
    "duration": 6,
    "start_time": "2023-02-23T14:22:36.419Z"
   },
   {
    "duration": 6,
    "start_time": "2023-02-23T14:22:38.687Z"
   },
   {
    "duration": 6,
    "start_time": "2023-02-23T14:22:39.170Z"
   },
   {
    "duration": 19,
    "start_time": "2023-02-23T14:22:43.064Z"
   },
   {
    "duration": 7,
    "start_time": "2023-02-23T14:22:43.581Z"
   },
   {
    "duration": 3,
    "start_time": "2023-02-23T14:22:44.620Z"
   },
   {
    "duration": 4,
    "start_time": "2023-02-23T14:22:48.355Z"
   },
   {
    "duration": 10,
    "start_time": "2023-02-23T14:22:48.789Z"
   },
   {
    "duration": 27,
    "start_time": "2023-02-23T14:22:49.814Z"
   },
   {
    "duration": 8,
    "start_time": "2023-02-23T14:22:50.604Z"
   },
   {
    "duration": 4,
    "start_time": "2023-02-23T14:22:51.694Z"
   },
   {
    "duration": 960,
    "start_time": "2023-02-23T14:22:54.068Z"
   },
   {
    "duration": 7,
    "start_time": "2023-02-23T14:22:55.030Z"
   },
   {
    "duration": 3,
    "start_time": "2023-02-23T14:22:55.585Z"
   },
   {
    "duration": 4,
    "start_time": "2023-02-23T14:22:58.363Z"
   },
   {
    "duration": 9,
    "start_time": "2023-02-23T14:22:58.968Z"
   },
   {
    "duration": 13,
    "start_time": "2023-02-23T14:23:01.554Z"
   },
   {
    "duration": 9,
    "start_time": "2023-02-23T14:23:02.041Z"
   },
   {
    "duration": 3,
    "start_time": "2023-02-23T14:23:02.994Z"
   },
   {
    "duration": 431,
    "start_time": "2023-02-23T14:23:04.907Z"
   },
   {
    "duration": 7,
    "start_time": "2023-02-23T14:23:05.343Z"
   },
   {
    "duration": 7,
    "start_time": "2023-02-23T14:23:06.286Z"
   },
   {
    "duration": 49,
    "start_time": "2023-02-23T14:23:13.045Z"
   },
   {
    "duration": 8,
    "start_time": "2023-02-23T14:23:13.524Z"
   },
   {
    "duration": 4,
    "start_time": "2023-02-23T14:23:14.574Z"
   },
   {
    "duration": 48,
    "start_time": "2023-02-23T14:23:16.941Z"
   },
   {
    "duration": 120,
    "start_time": "2023-02-23T14:23:17.725Z"
   },
   {
    "duration": 5,
    "start_time": "2023-02-23T14:23:20.236Z"
   },
   {
    "duration": 121,
    "start_time": "2023-02-23T14:23:20.880Z"
   },
   {
    "duration": 7,
    "start_time": "2023-02-23T14:23:23.755Z"
   },
   {
    "duration": 87,
    "start_time": "2023-02-23T14:30:35.822Z"
   },
   {
    "duration": 145,
    "start_time": "2023-02-23T14:31:20.240Z"
   },
   {
    "duration": 8,
    "start_time": "2023-02-23T14:31:21.888Z"
   },
   {
    "duration": 3,
    "start_time": "2023-02-23T14:31:22.429Z"
   },
   {
    "duration": 4,
    "start_time": "2023-02-23T14:31:33.645Z"
   },
   {
    "duration": 144,
    "start_time": "2023-02-23T14:31:49.021Z"
   },
   {
    "duration": 4,
    "start_time": "2023-02-23T14:31:49.958Z"
   },
   {
    "duration": 8,
    "start_time": "2023-02-23T14:31:50.766Z"
   },
   {
    "duration": 4,
    "start_time": "2023-02-23T14:31:51.285Z"
   },
   {
    "duration": 6,
    "start_time": "2023-02-23T14:32:01.919Z"
   },
   {
    "duration": 58,
    "start_time": "2023-02-23T14:32:01.926Z"
   },
   {
    "duration": 13,
    "start_time": "2023-02-23T14:32:01.986Z"
   },
   {
    "duration": 15,
    "start_time": "2023-02-23T14:32:02.001Z"
   },
   {
    "duration": 9,
    "start_time": "2023-02-23T14:32:02.018Z"
   },
   {
    "duration": 14,
    "start_time": "2023-02-23T14:32:02.028Z"
   },
   {
    "duration": 20,
    "start_time": "2023-02-23T14:32:02.043Z"
   },
   {
    "duration": 11,
    "start_time": "2023-02-23T14:32:02.065Z"
   },
   {
    "duration": 9,
    "start_time": "2023-02-23T14:32:02.079Z"
   },
   {
    "duration": 26,
    "start_time": "2023-02-23T14:32:02.089Z"
   },
   {
    "duration": 10,
    "start_time": "2023-02-23T14:32:02.117Z"
   },
   {
    "duration": 12,
    "start_time": "2023-02-23T14:32:02.128Z"
   },
   {
    "duration": 20,
    "start_time": "2023-02-23T14:32:02.141Z"
   },
   {
    "duration": 7,
    "start_time": "2023-02-23T14:32:02.162Z"
   },
   {
    "duration": 4,
    "start_time": "2023-02-23T14:32:02.171Z"
   },
   {
    "duration": 9,
    "start_time": "2023-02-23T14:32:02.176Z"
   },
   {
    "duration": 24,
    "start_time": "2023-02-23T14:32:02.186Z"
   },
   {
    "duration": 9,
    "start_time": "2023-02-23T14:32:02.212Z"
   },
   {
    "duration": 7,
    "start_time": "2023-02-23T14:32:02.223Z"
   },
   {
    "duration": 10,
    "start_time": "2023-02-23T14:32:02.231Z"
   },
   {
    "duration": 20,
    "start_time": "2023-02-23T14:32:02.243Z"
   },
   {
    "duration": 12,
    "start_time": "2023-02-23T14:32:02.264Z"
   },
   {
    "duration": 162,
    "start_time": "2023-02-23T14:32:02.277Z"
   },
   {
    "duration": 4,
    "start_time": "2023-02-23T14:32:02.443Z"
   },
   {
    "duration": 12,
    "start_time": "2023-02-23T14:32:02.448Z"
   },
   {
    "duration": 8,
    "start_time": "2023-02-23T14:32:02.462Z"
   },
   {
    "duration": 655,
    "start_time": "2023-02-23T14:32:02.471Z"
   },
   {
    "duration": 7,
    "start_time": "2023-02-23T14:32:03.128Z"
   },
   {
    "duration": 7,
    "start_time": "2023-02-23T14:32:03.136Z"
   },
   {
    "duration": 69,
    "start_time": "2023-02-23T14:32:03.144Z"
   },
   {
    "duration": 186,
    "start_time": "2023-02-23T14:32:03.215Z"
   },
   {
    "duration": 100,
    "start_time": "2023-02-23T14:32:03.492Z"
   },
   {
    "duration": 5,
    "start_time": "2023-02-23T14:32:03.593Z"
   },
   {
    "duration": 114,
    "start_time": "2023-02-23T14:32:03.599Z"
   },
   {
    "duration": 7,
    "start_time": "2023-02-23T14:32:03.715Z"
   },
   {
    "duration": 50,
    "start_time": "2023-02-23T14:32:03.723Z"
   },
   {
    "duration": 102,
    "start_time": "2023-02-23T14:32:03.791Z"
   },
   {
    "duration": 98,
    "start_time": "2023-02-23T14:32:03.894Z"
   },
   {
    "duration": 6,
    "start_time": "2023-02-23T14:32:03.994Z"
   },
   {
    "duration": 6,
    "start_time": "2023-02-23T14:32:04.003Z"
   },
   {
    "duration": 17,
    "start_time": "2023-02-23T14:32:04.011Z"
   },
   {
    "duration": 7,
    "start_time": "2023-02-23T14:32:04.030Z"
   },
   {
    "duration": 6,
    "start_time": "2023-02-23T14:32:04.038Z"
   },
   {
    "duration": 5,
    "start_time": "2023-02-23T14:32:04.045Z"
   },
   {
    "duration": 40,
    "start_time": "2023-02-23T14:32:04.051Z"
   },
   {
    "duration": 25,
    "start_time": "2023-02-23T14:32:04.093Z"
   },
   {
    "duration": 8,
    "start_time": "2023-02-23T14:32:04.119Z"
   },
   {
    "duration": 3,
    "start_time": "2023-02-23T14:32:04.128Z"
   },
   {
    "duration": 1009,
    "start_time": "2023-02-23T14:32:04.133Z"
   },
   {
    "duration": 7,
    "start_time": "2023-02-23T14:32:05.143Z"
   },
   {
    "duration": 10,
    "start_time": "2023-02-23T14:32:05.152Z"
   },
   {
    "duration": 6,
    "start_time": "2023-02-23T14:32:05.163Z"
   },
   {
    "duration": 21,
    "start_time": "2023-02-23T14:32:05.170Z"
   },
   {
    "duration": 18,
    "start_time": "2023-02-23T14:32:05.193Z"
   },
   {
    "duration": 8,
    "start_time": "2023-02-23T14:32:05.213Z"
   },
   {
    "duration": 13,
    "start_time": "2023-02-23T14:32:05.222Z"
   },
   {
    "duration": 444,
    "start_time": "2023-02-23T14:32:05.236Z"
   },
   {
    "duration": 10,
    "start_time": "2023-02-23T14:32:05.681Z"
   },
   {
    "duration": 4,
    "start_time": "2023-02-23T14:32:05.693Z"
   },
   {
    "duration": 56,
    "start_time": "2023-02-23T14:32:05.698Z"
   },
   {
    "duration": 10,
    "start_time": "2023-02-23T14:32:05.756Z"
   },
   {
    "duration": 24,
    "start_time": "2023-02-23T14:32:05.768Z"
   },
   {
    "duration": 53,
    "start_time": "2023-02-23T14:32:05.793Z"
   },
   {
    "duration": 121,
    "start_time": "2023-02-23T14:32:05.848Z"
   },
   {
    "duration": 4,
    "start_time": "2023-02-23T14:32:05.971Z"
   },
   {
    "duration": 123,
    "start_time": "2023-02-23T14:32:05.976Z"
   },
   {
    "duration": 5,
    "start_time": "2023-02-23T14:32:06.101Z"
   }
  ],
  "kernelspec": {
   "display_name": "Python 3 (ipykernel)",
   "language": "python",
   "name": "python3"
  },
  "language_info": {
   "codemirror_mode": {
    "name": "ipython",
    "version": 3
   },
   "file_extension": ".py",
   "mimetype": "text/x-python",
   "name": "python",
   "nbconvert_exporter": "python",
   "pygments_lexer": "ipython3",
   "version": "3.10.2"
  },
  "toc": {
   "base_numbering": 1,
   "nav_menu": {},
   "number_sections": true,
   "sideBar": true,
   "skip_h1_title": true,
   "title_cell": "Содержание",
   "title_sidebar": "Contents",
   "toc_cell": true,
   "toc_position": {},
   "toc_section_display": true,
   "toc_window_display": false
  }
 },
 "nbformat": 4,
 "nbformat_minor": 2
}
