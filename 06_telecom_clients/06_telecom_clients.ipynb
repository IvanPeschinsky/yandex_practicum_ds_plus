{
 "cells": [
  {
   "cell_type": "markdown",
   "metadata": {},
   "source": [
    "# Рекомендация тарифов"
   ]
  },
  {
   "cell_type": "markdown",
   "metadata": {},
   "source": [
    "В вашем распоряжении данные о поведении клиентов, которые уже перешли на эти тарифы (из проекта курса «Статистический анализ данных»). Нужно построить модель для задачи классификации, которая выберет подходящий тариф. Предобработка данных не понадобится — вы её уже сделали.\n",
    "\n",
    "Постройте модель с максимально большим значением *accuracy*. Чтобы сдать проект успешно, нужно довести долю правильных ответов по крайней мере до 0.75. Проверьте *accuracy* на тестовой выборке самостоятельно."
   ]
  },
  {
   "cell_type": "markdown",
   "metadata": {},
   "source": [
    "## Откройте и изучите файл"
   ]
  },
  {
   "cell_type": "markdown",
   "metadata": {},
   "source": [
    "Наша задача - проанализировать поведение пользователей, которые уже перешли на новые тарифы Smart и Ultra, и на основе этого предложить другим пользователям подходящий тариф"
   ]
  },
  {
   "cell_type": "markdown",
   "metadata": {},
   "source": [
    "В эту ячейку будем импортировать необходимые для решения задачи библиотеки"
   ]
  },
  {
   "cell_type": "code",
   "execution_count": 1,
   "metadata": {},
   "outputs": [],
   "source": [
    "import pandas as pd\n",
    "import numpy as np\n",
    "from sklearn.model_selection import train_test_split\n",
    "from sklearn.tree import DecisionTreeClassifier\n",
    "from sklearn.ensemble import RandomForestClassifier\n",
    "from sklearn.linear_model import LogisticRegression\n",
    "from sklearn.metrics import accuracy_score\n",
    "from sklearn.dummy import DummyClassifier"
   ]
  },
  {
   "cell_type": "markdown",
   "metadata": {},
   "source": [
    "Откроем и изучим файл"
   ]
  },
  {
   "cell_type": "code",
   "execution_count": 2,
   "metadata": {},
   "outputs": [],
   "source": [
    "df = pd.read_csv('/datasets/users_behavior.csv')"
   ]
  },
  {
   "cell_type": "markdown",
   "metadata": {},
   "source": [
    "Таблица содежит данные о тарифе и о том, как им пользуются (звонки, минуты, сообщения, интернет)."
   ]
  },
  {
   "cell_type": "code",
   "execution_count": 3,
   "metadata": {},
   "outputs": [
    {
     "data": {
      "text/html": [
       "<div>\n",
       "<style scoped>\n",
       "    .dataframe tbody tr th:only-of-type {\n",
       "        vertical-align: middle;\n",
       "    }\n",
       "\n",
       "    .dataframe tbody tr th {\n",
       "        vertical-align: top;\n",
       "    }\n",
       "\n",
       "    .dataframe thead th {\n",
       "        text-align: right;\n",
       "    }\n",
       "</style>\n",
       "<table border=\"1\" class=\"dataframe\">\n",
       "  <thead>\n",
       "    <tr style=\"text-align: right;\">\n",
       "      <th></th>\n",
       "      <th>calls</th>\n",
       "      <th>minutes</th>\n",
       "      <th>messages</th>\n",
       "      <th>mb_used</th>\n",
       "      <th>is_ultra</th>\n",
       "    </tr>\n",
       "  </thead>\n",
       "  <tbody>\n",
       "    <tr>\n",
       "      <th>0</th>\n",
       "      <td>40.0</td>\n",
       "      <td>311.90</td>\n",
       "      <td>83.0</td>\n",
       "      <td>19915.42</td>\n",
       "      <td>0</td>\n",
       "    </tr>\n",
       "    <tr>\n",
       "      <th>1</th>\n",
       "      <td>85.0</td>\n",
       "      <td>516.75</td>\n",
       "      <td>56.0</td>\n",
       "      <td>22696.96</td>\n",
       "      <td>0</td>\n",
       "    </tr>\n",
       "    <tr>\n",
       "      <th>2</th>\n",
       "      <td>77.0</td>\n",
       "      <td>467.66</td>\n",
       "      <td>86.0</td>\n",
       "      <td>21060.45</td>\n",
       "      <td>0</td>\n",
       "    </tr>\n",
       "    <tr>\n",
       "      <th>3</th>\n",
       "      <td>106.0</td>\n",
       "      <td>745.53</td>\n",
       "      <td>81.0</td>\n",
       "      <td>8437.39</td>\n",
       "      <td>1</td>\n",
       "    </tr>\n",
       "    <tr>\n",
       "      <th>4</th>\n",
       "      <td>66.0</td>\n",
       "      <td>418.74</td>\n",
       "      <td>1.0</td>\n",
       "      <td>14502.75</td>\n",
       "      <td>0</td>\n",
       "    </tr>\n",
       "  </tbody>\n",
       "</table>\n",
       "</div>"
      ],
      "text/plain": [
       "   calls  minutes  messages   mb_used  is_ultra\n",
       "0   40.0   311.90      83.0  19915.42         0\n",
       "1   85.0   516.75      56.0  22696.96         0\n",
       "2   77.0   467.66      86.0  21060.45         0\n",
       "3  106.0   745.53      81.0   8437.39         1\n",
       "4   66.0   418.74       1.0  14502.75         0"
      ]
     },
     "execution_count": 3,
     "metadata": {},
     "output_type": "execute_result"
    }
   ],
   "source": [
    "df.head()"
   ]
  },
  {
   "cell_type": "code",
   "execution_count": 4,
   "metadata": {},
   "outputs": [
    {
     "name": "stdout",
     "output_type": "stream",
     "text": [
      "<class 'pandas.core.frame.DataFrame'>\n",
      "RangeIndex: 3214 entries, 0 to 3213\n",
      "Data columns (total 5 columns):\n",
      " #   Column    Non-Null Count  Dtype  \n",
      "---  ------    --------------  -----  \n",
      " 0   calls     3214 non-null   float64\n",
      " 1   minutes   3214 non-null   float64\n",
      " 2   messages  3214 non-null   float64\n",
      " 3   mb_used   3214 non-null   float64\n",
      " 4   is_ultra  3214 non-null   int64  \n",
      "dtypes: float64(4), int64(1)\n",
      "memory usage: 125.7 KB\n"
     ]
    }
   ],
   "source": [
    "df.info()"
   ]
  },
  {
   "cell_type": "markdown",
   "metadata": {},
   "source": [
    "Хотя по условию предобработка данных уже выполнена, на всякий случай проверим, все ли данные на месте"
   ]
  },
  {
   "cell_type": "code",
   "execution_count": 5,
   "metadata": {},
   "outputs": [
    {
     "data": {
      "text/plain": [
       "calls       3214\n",
       "minutes     3214\n",
       "messages    3214\n",
       "mb_used     3214\n",
       "is_ultra    3214\n",
       "dtype: int64"
      ]
     },
     "execution_count": 5,
     "metadata": {},
     "output_type": "execute_result"
    }
   ],
   "source": [
    "df.isna().count()"
   ]
  },
  {
   "cell_type": "markdown",
   "metadata": {},
   "source": [
    "Разделим данные на признаки и целевой признак. Наша задача - изучить поведение пользователей, уже перешедших на новые тарифы. К признакам отнесем все, что связано с трафиком - расход минут, интернета, звонки, сообщения. Целевым признаком, который нам нужно предсказать, будет тариф. \n",
    "\n",
    "Мы решаем задачу классификации. Тарифы уже разделены на два типа, поэтому дополнительных изменений в таблицу не нужно."
   ]
  },
  {
   "cell_type": "code",
   "execution_count": 6,
   "metadata": {},
   "outputs": [],
   "source": [
    "features = df.drop(columns='is_ultra', axis=1)\n",
    "target = df['is_ultra']"
   ]
  },
  {
   "cell_type": "code",
   "execution_count": 7,
   "metadata": {},
   "outputs": [
    {
     "data": {
      "text/plain": [
       "(3214, 4)"
      ]
     },
     "execution_count": 7,
     "metadata": {},
     "output_type": "execute_result"
    }
   ],
   "source": [
    "features.shape"
   ]
  },
  {
   "cell_type": "code",
   "execution_count": 8,
   "metadata": {},
   "outputs": [
    {
     "data": {
      "text/plain": [
       "(3214,)"
      ]
     },
     "execution_count": 8,
     "metadata": {},
     "output_type": "execute_result"
    }
   ],
   "source": [
    "target.shape"
   ]
  },
  {
   "cell_type": "code",
   "execution_count": 9,
   "metadata": {},
   "outputs": [
    {
     "data": {
      "text/plain": [
       "0    0.693528\n",
       "1    0.306472\n",
       "Name: is_ultra, dtype: float64"
      ]
     },
     "execution_count": 9,
     "metadata": {},
     "output_type": "execute_result"
    }
   ],
   "source": [
    "target.value_counts(normalize=1)"
   ]
  },
  {
   "cell_type": "markdown",
   "metadata": {},
   "source": [
    "## Разбейте данные на выборки"
   ]
  },
  {
   "cell_type": "markdown",
   "metadata": {},
   "source": [
    "Для повышения качества оценки выделим проверочную выборку. В нашем условии нет спрятанной тестовой выборки, поэтому нужно разбить данные на три части: обучающую, тестовую и валидационную. Разобьем данные в соотношении 3:1:1"
   ]
  },
  {
   "cell_type": "markdown",
   "metadata": {},
   "source": [
    "Для начала выделим обущающую выборку. Для этого в тестовую часть уберем 40% данных"
   ]
  },
  {
   "cell_type": "code",
   "execution_count": 10,
   "metadata": {},
   "outputs": [],
   "source": [
    "df_train, df_valid = train_test_split(df, test_size=0.4, random_state=12345)"
   ]
  },
  {
   "cell_type": "code",
   "execution_count": 11,
   "metadata": {},
   "outputs": [],
   "source": [
    "features_train = df_train.drop(columns='is_ultra', axis=1)\n",
    "target_train = df_train['is_ultra']"
   ]
  },
  {
   "cell_type": "code",
   "execution_count": 12,
   "metadata": {},
   "outputs": [
    {
     "data": {
      "text/plain": [
       "(1928, 4)"
      ]
     },
     "execution_count": 12,
     "metadata": {},
     "output_type": "execute_result"
    }
   ],
   "source": [
    "features_train.shape"
   ]
  },
  {
   "cell_type": "code",
   "execution_count": 13,
   "metadata": {},
   "outputs": [
    {
     "data": {
      "text/plain": [
       "(1928,)"
      ]
     },
     "execution_count": 13,
     "metadata": {},
     "output_type": "execute_result"
    }
   ],
   "source": [
    "target_train.shape"
   ]
  },
  {
   "cell_type": "code",
   "execution_count": 14,
   "metadata": {},
   "outputs": [],
   "source": [
    "features_valid = df_valid.drop(columns='is_ultra', axis=1)\n",
    "target_valid = df_valid['is_ultra']"
   ]
  },
  {
   "cell_type": "code",
   "execution_count": 15,
   "metadata": {},
   "outputs": [
    {
     "data": {
      "text/plain": [
       "(1286, 4)"
      ]
     },
     "execution_count": 15,
     "metadata": {},
     "output_type": "execute_result"
    }
   ],
   "source": [
    "features_valid.shape"
   ]
  },
  {
   "cell_type": "code",
   "execution_count": 16,
   "metadata": {},
   "outputs": [
    {
     "data": {
      "text/plain": [
       "(1286,)"
      ]
     },
     "execution_count": 16,
     "metadata": {},
     "output_type": "execute_result"
    }
   ],
   "source": [
    "target_valid.shape"
   ]
  },
  {
   "cell_type": "markdown",
   "metadata": {},
   "source": [
    "Затем поделим пополам данные, на которых мы будем проверять модель - валидационную и тестовую выборки. Таким образом, на обучающую часть у нас приходится теперь 60% данных, на валидационную - 20%, тестовую - 20%."
   ]
  },
  {
   "cell_type": "code",
   "execution_count": 17,
   "metadata": {},
   "outputs": [],
   "source": [
    "df_valid, df_test = train_test_split(df_valid, test_size=0.5, random_state=12345)"
   ]
  },
  {
   "cell_type": "code",
   "execution_count": 18,
   "metadata": {},
   "outputs": [],
   "source": [
    "features_valid = df_valid.drop(columns='is_ultra', axis=1)\n",
    "target_valid = df_valid['is_ultra']"
   ]
  },
  {
   "cell_type": "code",
   "execution_count": 19,
   "metadata": {},
   "outputs": [],
   "source": [
    "features_test = df_test.drop(columns='is_ultra', axis=1)\n",
    "target_test = df_test['is_ultra']"
   ]
  },
  {
   "cell_type": "code",
   "execution_count": 20,
   "metadata": {},
   "outputs": [
    {
     "data": {
      "text/plain": [
       "(643, 4)"
      ]
     },
     "execution_count": 20,
     "metadata": {},
     "output_type": "execute_result"
    }
   ],
   "source": [
    "features_valid.shape"
   ]
  },
  {
   "cell_type": "code",
   "execution_count": 21,
   "metadata": {},
   "outputs": [
    {
     "data": {
      "text/plain": [
       "(643,)"
      ]
     },
     "execution_count": 21,
     "metadata": {},
     "output_type": "execute_result"
    }
   ],
   "source": [
    "target_valid.shape"
   ]
  },
  {
   "cell_type": "code",
   "execution_count": 22,
   "metadata": {},
   "outputs": [
    {
     "data": {
      "text/plain": [
       "(643, 4)"
      ]
     },
     "execution_count": 22,
     "metadata": {},
     "output_type": "execute_result"
    }
   ],
   "source": [
    "features_test.shape"
   ]
  },
  {
   "cell_type": "code",
   "execution_count": 23,
   "metadata": {},
   "outputs": [
    {
     "data": {
      "text/plain": [
       "(643,)"
      ]
     },
     "execution_count": 23,
     "metadata": {},
     "output_type": "execute_result"
    }
   ],
   "source": [
    "target_test.shape"
   ]
  },
  {
   "cell_type": "markdown",
   "metadata": {},
   "source": [
    "## Исследуйте модели"
   ]
  },
  {
   "cell_type": "markdown",
   "metadata": {},
   "source": [
    "Начнем с модели решающего дерева. В теории эта модель имеет самое низкое качество предсказаний, но достаточно высокую скорость работы. Тем не менее, постараемся достичь на ней точности не менее 0.75. Так как мы не знаем, какой должен быть оптимальный параметр глубины дерева, то переберем значения от 1 до 4 включительно. Добавим еще один гиперпараметр - минимальное количество объектов в листе, который не позволит модели создавать лист дерева, в котором будет слишком мало объектов обучающей выборки. "
   ]
  },
  {
   "cell_type": "code",
   "execution_count": 24,
   "metadata": {},
   "outputs": [],
   "source": [
    "best_tree_model = None\n",
    "best_tree_result = 0\n",
    "\n",
    "for depth in range(1,5):\n",
    "    tree_model = DecisionTreeClassifier(random_state=12345, max_depth=depth, min_samples_leaf=2)\n",
    "    tree_model.fit(features_train, target_train)\n",
    "    tree_model.predict(features_train)\n",
    "    tree_result = tree_model.score(features_valid, target_valid)\n",
    "    if tree_result > best_tree_result:\n",
    "        tree_best_model = tree_model\n",
    "        best_tree_result = tree_result"
   ]
  },
  {
   "cell_type": "markdown",
   "metadata": {},
   "source": [
    "Для глубины дерева от 1 до 4 мы получили наиболее точное значение 0.785. Мы решили перебрать значения до 4, так как при меньшем значении есть риск недообчуения модели, выше - переобучения.\n",
    "Можно проверить модель на более широком диапазоне (например, до 10), но точность от этого не сильно меняется."
   ]
  },
  {
   "cell_type": "code",
   "execution_count": 25,
   "metadata": {},
   "outputs": [
    {
     "data": {
      "text/plain": [
       "0.7853810264385692"
      ]
     },
     "execution_count": 25,
     "metadata": {},
     "output_type": "execute_result"
    }
   ],
   "source": [
    "best_tree_result"
   ]
  },
  {
   "cell_type": "markdown",
   "metadata": {},
   "source": [
    "Далее построим модель случайный лес. В теории она должна дать нам самое высокое качество при более низкой скорости работы."
   ]
  },
  {
   "cell_type": "code",
   "execution_count": 26,
   "metadata": {},
   "outputs": [
    {
     "name": "stdout",
     "output_type": "stream",
     "text": [
      "CPU times: user 1.9 s, sys: 5.12 ms, total: 1.9 s\n",
      "Wall time: 1.91 s\n"
     ]
    }
   ],
   "source": [
    "%%time\n",
    "\n",
    "best_forest_model = None\n",
    "best_forest_result = 0\n",
    "\n",
    "for est in range(1,31):\n",
    "    forest_model = RandomForestClassifier(random_state=12345, n_estimators=est)\n",
    "    forest_model.fit(features_train, target_train)\n",
    "    forest_result = forest_model.score(features_valid, target_valid)\n",
    "    if forest_result > best_forest_result:\n",
    "        best_forest_model = forest_model\n",
    "        best_forest_result = forest_result"
   ]
  },
  {
   "cell_type": "markdown",
   "metadata": {},
   "source": [
    "При установленных гиперпараметрах точность модели получилась 0.7947, что выше дерева решений. Как и в случае дерева решений, мы перебираем разное количество деревьев, которое будет обучать модель. Мы остановились на диапазоне от 1 до 30 включительно. При более высоких значениях скорость работы модели уменьшается, а качество меняется не так существенно."
   ]
  },
  {
   "cell_type": "code",
   "execution_count": 27,
   "metadata": {},
   "outputs": [
    {
     "data": {
      "text/plain": [
       "0.7947122861586314"
      ]
     },
     "execution_count": 27,
     "metadata": {},
     "output_type": "execute_result"
    }
   ],
   "source": [
    "best_forest_result"
   ]
  },
  {
   "cell_type": "markdown",
   "metadata": {},
   "source": [
    "<div class=\"alert alert-info\">\n",
    "прикольная штука)\n",
    "</div>\n",
    "</div>"
   ]
  },
  {
   "cell_type": "markdown",
   "metadata": {},
   "source": [
    "Последняя модель, которую мы рассмотрим - логистическая регрессия. Она содержит небольшое количество параметров, поэтому ей не грозит переобучение. Тем не менее, качество этой модели на исследуемых данных оказалось самым низким. Можно установить различное количество итераций - 100, 1000, 10000, но результат от этого не меняется в лучшую сторону."
   ]
  },
  {
   "cell_type": "code",
   "execution_count": 28,
   "metadata": {},
   "outputs": [
    {
     "data": {
      "text/plain": [
       "0.7107309486780715"
      ]
     },
     "execution_count": 28,
     "metadata": {},
     "output_type": "execute_result"
    }
   ],
   "source": [
    "log_model = LogisticRegression(random_state=12345, solver='lbfgs', max_iter=10000)\n",
    "log_model.fit(features_train, target_train)\n",
    "log_model.predict(features_train)\n",
    "log_model.score(features_valid, target_valid)"
   ]
  },
  {
   "cell_type": "markdown",
   "metadata": {},
   "source": [
    "## Проверьте модель на тестовой выборке"
   ]
  },
  {
   "cell_type": "markdown",
   "metadata": {},
   "source": [
    "Проверим рассмотренные модели на тестовой выборке. Лучший результат показывает модель случайного леса. Близко к ней - решающее дерево. Модель логистической регрессии - единственная, на которой не удалось достичь требуемой точность 0.75."
   ]
  },
  {
   "cell_type": "code",
   "execution_count": 30,
   "metadata": {},
   "outputs": [
    {
     "data": {
      "text/plain": [
       "0.7807153965785381"
      ]
     },
     "execution_count": 30,
     "metadata": {},
     "output_type": "execute_result"
    }
   ],
   "source": [
    "test_forest_predictions = best_forest_model.predict(features_test)\n",
    "best_forest_model.score(features_test, target_test)"
   ]
  },
  {
   "cell_type": "markdown",
   "metadata": {},
   "source": [
    "## (бонус) Проверьте модели на адекватность"
   ]
  },
  {
   "cell_type": "markdown",
   "metadata": {},
   "source": [
    "В задании написано, нестрашно, если этот раздел не получится, но бонусом все же попробуем проверить модели на адекватность) Посмотрим какую долю ответов дает каждая модель."
   ]
  },
  {
   "cell_type": "code",
   "execution_count": 32,
   "metadata": {},
   "outputs": [],
   "source": [
    "def all_models_share(features_train, target_train, features_valid, target_valid):\n",
    "    tree_model = DecisionTreeClassifier(random_state=12345)\n",
    "    tree_model.fit(features_train, target_train)\n",
    "    tree_share = pd.Series(tree_model.predict(features_valid)).value_counts(normalize=1)\n",
    "    \n",
    "    forest_model = RandomForestClassifier(random_state=12345, n_estimators=30)\n",
    "    forest_model.fit(features_train, target_train)\n",
    "    forest_share = pd.Series(forest_model.predict(features_valid)).value_counts(normalize=1)\n",
    "    \n",
    "    log_model = LogisticRegression(random_state=12345, solver='lbfgs', max_iter=10000)\n",
    "    log_model.fit(features_train, target_train)\n",
    "    log_share = pd.Series(log_model.predict(features_valid)).value_counts(normalize=1)\n",
    "    \n",
    "    print(\"Доля ответов, дерево решений:\\n\", tree_share, \n",
    "          \"Доля ответов, случайный лес:\\n\", forest_share, \n",
    "          \"Доля ответов, логистическая регрессия:\\n\", log_share)"
   ]
  },
  {
   "cell_type": "markdown",
   "metadata": {},
   "source": [
    "Ранее логистическая модель оказалась самой неточной. Мы также видим, что она практически всегда выдает одинаковый результат. У двух других моделей похожее распределение ответов."
   ]
  },
  {
   "cell_type": "code",
   "execution_count": 33,
   "metadata": {},
   "outputs": [
    {
     "name": "stdout",
     "output_type": "stream",
     "text": [
      "Доля ответов, дерево решений:\n",
      " 0    0.712286\n",
      "1    0.287714\n",
      "dtype: float64 Доля ответов, случайный лес:\n",
      " 0    0.788491\n",
      "1    0.211509\n",
      "dtype: float64 Доля ответов, логистическая регрессия:\n",
      " 0    0.973561\n",
      "1    0.026439\n",
      "dtype: float64\n"
     ]
    }
   ],
   "source": [
    "all_models_share(features_train, target_train, features_valid, target_valid)"
   ]
  },
  {
   "cell_type": "markdown",
   "metadata": {},
   "source": [
    "Сравним качество моделей с константной моделью. За константу возьмем ответ 0, так как он чаще всего встречается. "
   ]
  },
  {
   "cell_type": "code",
   "execution_count": 34,
   "metadata": {},
   "outputs": [
    {
     "data": {
      "text/plain": [
       "(643,)"
      ]
     },
     "execution_count": 34,
     "metadata": {},
     "output_type": "execute_result"
    }
   ],
   "source": [
    "target_predict_constant = pd.Series([0]*len(target_valid))\n",
    "target_predict_constant.shape"
   ]
  },
  {
   "cell_type": "markdown",
   "metadata": {},
   "source": [
    "Точность константной модели существенно ниже моделей решающего дерева и случайного леса и сопоставима с логистической регрессией."
   ]
  },
  {
   "cell_type": "code",
   "execution_count": 35,
   "metadata": {},
   "outputs": [
    {
     "data": {
      "text/plain": [
       "0.7060653188180405"
      ]
     },
     "execution_count": 35,
     "metadata": {},
     "output_type": "execute_result"
    }
   ],
   "source": [
    "accuracy_score_constant = accuracy_score(target_valid, target_predict_constant)\n",
    "accuracy_score_constant"
   ]
  },
  {
   "cell_type": "code",
   "execution_count": 36,
   "metadata": {},
   "outputs": [
    {
     "data": {
      "text/plain": [
       "DummyClassifier(strategy='most_frequent')"
      ]
     },
     "execution_count": 36,
     "metadata": {},
     "output_type": "execute_result"
    }
   ],
   "source": [
    "X = target_test\n",
    "y = pd.Series([0]*len(target_test))\n",
    "dummy_clf = DummyClassifier(strategy='most_frequent')\n",
    "dummy_clf.fit(X, y)"
   ]
  },
  {
   "cell_type": "code",
   "execution_count": 37,
   "metadata": {},
   "outputs": [
    {
     "data": {
      "text/plain": [
       "array([0, 0, 0, 0, 0, 0, 0, 0, 0, 0, 0, 0, 0, 0, 0, 0, 0, 0, 0, 0, 0, 0,\n",
       "       0, 0, 0, 0, 0, 0, 0, 0, 0, 0, 0, 0, 0, 0, 0, 0, 0, 0, 0, 0, 0, 0,\n",
       "       0, 0, 0, 0, 0, 0, 0, 0, 0, 0, 0, 0, 0, 0, 0, 0, 0, 0, 0, 0, 0, 0,\n",
       "       0, 0, 0, 0, 0, 0, 0, 0, 0, 0, 0, 0, 0, 0, 0, 0, 0, 0, 0, 0, 0, 0,\n",
       "       0, 0, 0, 0, 0, 0, 0, 0, 0, 0, 0, 0, 0, 0, 0, 0, 0, 0, 0, 0, 0, 0,\n",
       "       0, 0, 0, 0, 0, 0, 0, 0, 0, 0, 0, 0, 0, 0, 0, 0, 0, 0, 0, 0, 0, 0,\n",
       "       0, 0, 0, 0, 0, 0, 0, 0, 0, 0, 0, 0, 0, 0, 0, 0, 0, 0, 0, 0, 0, 0,\n",
       "       0, 0, 0, 0, 0, 0, 0, 0, 0, 0, 0, 0, 0, 0, 0, 0, 0, 0, 0, 0, 0, 0,\n",
       "       0, 0, 0, 0, 0, 0, 0, 0, 0, 0, 0, 0, 0, 0, 0, 0, 0, 0, 0, 0, 0, 0,\n",
       "       0, 0, 0, 0, 0, 0, 0, 0, 0, 0, 0, 0, 0, 0, 0, 0, 0, 0, 0, 0, 0, 0,\n",
       "       0, 0, 0, 0, 0, 0, 0, 0, 0, 0, 0, 0, 0, 0, 0, 0, 0, 0, 0, 0, 0, 0,\n",
       "       0, 0, 0, 0, 0, 0, 0, 0, 0, 0, 0, 0, 0, 0, 0, 0, 0, 0, 0, 0, 0, 0,\n",
       "       0, 0, 0, 0, 0, 0, 0, 0, 0, 0, 0, 0, 0, 0, 0, 0, 0, 0, 0, 0, 0, 0,\n",
       "       0, 0, 0, 0, 0, 0, 0, 0, 0, 0, 0, 0, 0, 0, 0, 0, 0, 0, 0, 0, 0, 0,\n",
       "       0, 0, 0, 0, 0, 0, 0, 0, 0, 0, 0, 0, 0, 0, 0, 0, 0, 0, 0, 0, 0, 0,\n",
       "       0, 0, 0, 0, 0, 0, 0, 0, 0, 0, 0, 0, 0, 0, 0, 0, 0, 0, 0, 0, 0, 0,\n",
       "       0, 0, 0, 0, 0, 0, 0, 0, 0, 0, 0, 0, 0, 0, 0, 0, 0, 0, 0, 0, 0, 0,\n",
       "       0, 0, 0, 0, 0, 0, 0, 0, 0, 0, 0, 0, 0, 0, 0, 0, 0, 0, 0, 0, 0, 0,\n",
       "       0, 0, 0, 0, 0, 0, 0, 0, 0, 0, 0, 0, 0, 0, 0, 0, 0, 0, 0, 0, 0, 0,\n",
       "       0, 0, 0, 0, 0, 0, 0, 0, 0, 0, 0, 0, 0, 0, 0, 0, 0, 0, 0, 0, 0, 0,\n",
       "       0, 0, 0, 0, 0, 0, 0, 0, 0, 0, 0, 0, 0, 0, 0, 0, 0, 0, 0, 0, 0, 0,\n",
       "       0, 0, 0, 0, 0, 0, 0, 0, 0, 0, 0, 0, 0, 0, 0, 0, 0, 0, 0, 0, 0, 0,\n",
       "       0, 0, 0, 0, 0, 0, 0, 0, 0, 0, 0, 0, 0, 0, 0, 0, 0, 0, 0, 0, 0, 0,\n",
       "       0, 0, 0, 0, 0, 0, 0, 0, 0, 0, 0, 0, 0, 0, 0, 0, 0, 0, 0, 0, 0, 0,\n",
       "       0, 0, 0, 0, 0, 0, 0, 0, 0, 0, 0, 0, 0, 0, 0, 0, 0, 0, 0, 0, 0, 0,\n",
       "       0, 0, 0, 0, 0, 0, 0, 0, 0, 0, 0, 0, 0, 0, 0, 0, 0, 0, 0, 0, 0, 0,\n",
       "       0, 0, 0, 0, 0, 0, 0, 0, 0, 0, 0, 0, 0, 0, 0, 0, 0, 0, 0, 0, 0, 0,\n",
       "       0, 0, 0, 0, 0, 0, 0, 0, 0, 0, 0, 0, 0, 0, 0, 0, 0, 0, 0, 0, 0, 0,\n",
       "       0, 0, 0, 0, 0, 0, 0, 0, 0, 0, 0, 0, 0, 0, 0, 0, 0, 0, 0, 0, 0, 0,\n",
       "       0, 0, 0, 0, 0])"
      ]
     },
     "execution_count": 37,
     "metadata": {},
     "output_type": "execute_result"
    }
   ],
   "source": [
    "dummy_clf.predict(X)"
   ]
  },
  {
   "cell_type": "code",
   "execution_count": 38,
   "metadata": {},
   "outputs": [
    {
     "data": {
      "text/plain": [
       "1.0"
      ]
     },
     "execution_count": 38,
     "metadata": {},
     "output_type": "execute_result"
    }
   ],
   "source": [
    "dummy_clf.score(X, y)"
   ]
  },
  {
   "cell_type": "markdown",
   "metadata": {},
   "source": [
    "## Вывод"
   ]
  },
  {
   "cell_type": "markdown",
   "metadata": {},
   "source": [
    "В текущем проекте нам нужно было проанализировать данные о поведении клиентов, уже перешедших на новые тарифы, и выбрать модель, которая выбрала бы подходящий тариф для остальных клиентов. Доля правильных ответов в модели должна быть не ниже 0.75.\n",
    "\n",
    "Мы разделили исходные данные на признаки, к которым отнесли все, что относится к пользованию тарифом - количество звонков, сообщений, расход минут и интернет трафика. Целевым признаком установили тип тарифа.\n",
    "\n",
    "Мы также разделили данные на обучающую, валидационную и тестовую выборку в соотношении 3:1:1.\n",
    "\n",
    "На основе этого были построены три модели.\n",
    "\n",
    "В модели решающего дерева мы перебрали решения для различной глубины дерева - от 1 до 4. Такое значение было выбрано с целью избежать недообучения или переобучения модели. Наилучший результат оказался - 0.785.\n",
    "\n",
    "Для модели случайного леса оптимальным гиперпараметром оказался диапазон деревьев от 1 до 30. Это позволило достичь более менее максимального качества модели при высокой скорости ее работы - 0.7947. \n",
    "\n",
    "Модель логистической регрессии оказалась самой слабой с результатом 0.71. Возможно, это связано с небольшим количеством параметров, которое использует модель.\n",
    "\n",
    "Результаты тестовой выборки моделей решающего дерева и случайного леса оказались близки к валидационным, что может говорить о том, что модели не переучились или недоучились. \n",
    "\n",
    "Мы также проверили модели на адекватность. Проверка подтвердила неточность работы логистической модели и снова показала близость результатов двух остальных моделей, которые также оказались выше результата константной модели."
   ]
  }
 ],
 "metadata": {
  "ExecuteTimeLog": [
   {
    "duration": 389,
    "start_time": "2023-02-01T10:37:06.229Z"
   },
   {
    "duration": 134,
    "start_time": "2023-02-01T10:38:07.721Z"
   },
   {
    "duration": 17,
    "start_time": "2023-02-01T10:38:20.537Z"
   },
   {
    "duration": 11,
    "start_time": "2023-02-01T10:39:12.490Z"
   },
   {
    "duration": 7,
    "start_time": "2023-02-01T10:39:38.853Z"
   },
   {
    "duration": 77,
    "start_time": "2023-02-01T10:47:14.788Z"
   },
   {
    "duration": 5,
    "start_time": "2023-02-01T10:47:19.137Z"
   },
   {
    "duration": 3,
    "start_time": "2023-02-01T10:47:49.416Z"
   },
   {
    "duration": 4,
    "start_time": "2023-02-01T10:47:57.932Z"
   },
   {
    "duration": 698,
    "start_time": "2023-02-01T10:56:33.193Z"
   },
   {
    "duration": 29,
    "start_time": "2023-02-01T10:56:34.190Z"
   },
   {
    "duration": 11,
    "start_time": "2023-02-01T10:56:34.699Z"
   },
   {
    "duration": 15,
    "start_time": "2023-02-01T10:56:35.560Z"
   },
   {
    "duration": 7,
    "start_time": "2023-02-01T10:56:36.546Z"
   },
   {
    "duration": 4,
    "start_time": "2023-02-01T10:56:37.644Z"
   },
   {
    "duration": 4,
    "start_time": "2023-02-01T10:56:38.302Z"
   },
   {
    "duration": 4,
    "start_time": "2023-02-01T10:56:39.033Z"
   },
   {
    "duration": 5,
    "start_time": "2023-02-01T11:00:04.097Z"
   },
   {
    "duration": 5,
    "start_time": "2023-02-01T11:00:47.020Z"
   },
   {
    "duration": 6,
    "start_time": "2023-02-01T11:16:04.204Z"
   },
   {
    "duration": 4,
    "start_time": "2023-02-01T11:17:32.491Z"
   },
   {
    "duration": 40,
    "start_time": "2023-02-01T11:18:28.401Z"
   },
   {
    "duration": 3,
    "start_time": "2023-02-01T11:18:36.190Z"
   },
   {
    "duration": 66,
    "start_time": "2023-02-01T11:18:36.198Z"
   },
   {
    "duration": 17,
    "start_time": "2023-02-01T11:18:36.267Z"
   },
   {
    "duration": 39,
    "start_time": "2023-02-01T11:18:36.287Z"
   },
   {
    "duration": 14,
    "start_time": "2023-02-01T11:18:36.329Z"
   },
   {
    "duration": 17,
    "start_time": "2023-02-01T11:18:36.345Z"
   },
   {
    "duration": 12,
    "start_time": "2023-02-01T11:18:36.364Z"
   },
   {
    "duration": 18,
    "start_time": "2023-02-01T11:18:36.378Z"
   },
   {
    "duration": 18,
    "start_time": "2023-02-01T11:18:36.398Z"
   },
   {
    "duration": 36,
    "start_time": "2023-02-01T11:18:36.418Z"
   },
   {
    "duration": 7,
    "start_time": "2023-02-01T11:18:36.456Z"
   },
   {
    "duration": 44,
    "start_time": "2023-02-01T11:29:38.630Z"
   },
   {
    "duration": 4,
    "start_time": "2023-02-01T11:29:53.735Z"
   },
   {
    "duration": 5,
    "start_time": "2023-02-01T11:30:11.329Z"
   },
   {
    "duration": 4,
    "start_time": "2023-02-01T11:30:41.935Z"
   },
   {
    "duration": 4,
    "start_time": "2023-02-01T11:30:51.430Z"
   },
   {
    "duration": 4,
    "start_time": "2023-02-01T11:31:06.599Z"
   },
   {
    "duration": 4,
    "start_time": "2023-02-01T11:31:44.242Z"
   },
   {
    "duration": 3,
    "start_time": "2023-02-01T11:32:47.235Z"
   },
   {
    "duration": 43,
    "start_time": "2023-02-01T11:32:47.243Z"
   },
   {
    "duration": 10,
    "start_time": "2023-02-01T11:32:47.288Z"
   },
   {
    "duration": 16,
    "start_time": "2023-02-01T11:32:47.299Z"
   },
   {
    "duration": 11,
    "start_time": "2023-02-01T11:32:47.317Z"
   },
   {
    "duration": 6,
    "start_time": "2023-02-01T11:32:47.330Z"
   },
   {
    "duration": 13,
    "start_time": "2023-02-01T11:32:47.337Z"
   },
   {
    "duration": 15,
    "start_time": "2023-02-01T11:32:47.352Z"
   },
   {
    "duration": 20,
    "start_time": "2023-02-01T11:32:47.369Z"
   },
   {
    "duration": 14,
    "start_time": "2023-02-01T11:32:47.392Z"
   },
   {
    "duration": 38,
    "start_time": "2023-02-01T11:32:47.409Z"
   },
   {
    "duration": 55,
    "start_time": "2023-02-01T11:32:47.449Z"
   },
   {
    "duration": 4,
    "start_time": "2023-02-01T11:32:47.507Z"
   },
   {
    "duration": 5,
    "start_time": "2023-02-01T11:47:18.622Z"
   },
   {
    "duration": 4,
    "start_time": "2023-02-01T11:47:48.724Z"
   },
   {
    "duration": 3,
    "start_time": "2023-02-01T11:48:02.565Z"
   },
   {
    "duration": 4,
    "start_time": "2023-02-01T11:48:18.357Z"
   },
   {
    "duration": 5,
    "start_time": "2023-02-01T11:48:31.142Z"
   },
   {
    "duration": 5,
    "start_time": "2023-02-01T12:07:47.491Z"
   },
   {
    "duration": 3,
    "start_time": "2023-02-01T12:09:38.227Z"
   },
   {
    "duration": 4,
    "start_time": "2023-02-01T12:09:54.810Z"
   },
   {
    "duration": 4,
    "start_time": "2023-02-01T12:10:11.035Z"
   },
   {
    "duration": 4,
    "start_time": "2023-02-01T12:12:38.221Z"
   },
   {
    "duration": 3,
    "start_time": "2023-02-01T12:12:51.368Z"
   },
   {
    "duration": 3,
    "start_time": "2023-02-01T12:13:00.830Z"
   },
   {
    "duration": 5,
    "start_time": "2023-02-01T12:14:19.037Z"
   },
   {
    "duration": 3,
    "start_time": "2023-02-01T12:15:15.158Z"
   },
   {
    "duration": 4,
    "start_time": "2023-02-01T12:16:34.998Z"
   },
   {
    "duration": 4,
    "start_time": "2023-02-01T12:16:41.545Z"
   },
   {
    "duration": 4,
    "start_time": "2023-02-01T12:16:42.115Z"
   },
   {
    "duration": 4,
    "start_time": "2023-02-01T12:16:42.552Z"
   },
   {
    "duration": 4,
    "start_time": "2023-02-01T12:16:43.348Z"
   },
   {
    "duration": 4,
    "start_time": "2023-02-01T12:16:44.006Z"
   },
   {
    "duration": 4,
    "start_time": "2023-02-01T12:16:44.541Z"
   },
   {
    "duration": 4,
    "start_time": "2023-02-01T12:16:47.661Z"
   },
   {
    "duration": 4,
    "start_time": "2023-02-01T12:16:48.211Z"
   },
   {
    "duration": 5,
    "start_time": "2023-02-01T12:16:51.837Z"
   },
   {
    "duration": 3,
    "start_time": "2023-02-01T12:17:18.138Z"
   },
   {
    "duration": 4,
    "start_time": "2023-02-01T12:17:53.335Z"
   },
   {
    "duration": 4,
    "start_time": "2023-02-01T12:18:14.429Z"
   },
   {
    "duration": 5,
    "start_time": "2023-02-01T12:18:40.871Z"
   },
   {
    "duration": 3,
    "start_time": "2023-02-01T12:18:41.766Z"
   },
   {
    "duration": 4,
    "start_time": "2023-02-01T12:18:42.310Z"
   },
   {
    "duration": 4,
    "start_time": "2023-02-01T12:18:42.822Z"
   },
   {
    "duration": 4,
    "start_time": "2023-02-01T12:18:43.487Z"
   },
   {
    "duration": 4,
    "start_time": "2023-02-01T12:18:44.033Z"
   },
   {
    "duration": 3,
    "start_time": "2023-02-01T12:18:48.046Z"
   },
   {
    "duration": 5,
    "start_time": "2023-02-01T12:19:00.670Z"
   },
   {
    "duration": 4,
    "start_time": "2023-02-01T12:19:13.123Z"
   },
   {
    "duration": 3,
    "start_time": "2023-02-01T12:19:25.419Z"
   },
   {
    "duration": 4,
    "start_time": "2023-02-01T12:19:49.410Z"
   },
   {
    "duration": 4,
    "start_time": "2023-02-01T12:19:58.894Z"
   },
   {
    "duration": 4,
    "start_time": "2023-02-01T12:20:12.118Z"
   },
   {
    "duration": 4,
    "start_time": "2023-02-01T12:20:23.898Z"
   },
   {
    "duration": 5,
    "start_time": "2023-02-01T12:20:36.414Z"
   },
   {
    "duration": 4,
    "start_time": "2023-02-01T12:20:51.606Z"
   },
   {
    "duration": 3,
    "start_time": "2023-02-01T12:20:51.859Z"
   },
   {
    "duration": 4,
    "start_time": "2023-02-01T12:20:53.470Z"
   },
   {
    "duration": 3,
    "start_time": "2023-02-01T12:20:54.104Z"
   },
   {
    "duration": 4,
    "start_time": "2023-02-01T12:20:54.637Z"
   },
   {
    "duration": 4,
    "start_time": "2023-02-01T12:20:56.710Z"
   },
   {
    "duration": 4,
    "start_time": "2023-02-01T12:45:05.237Z"
   },
   {
    "duration": 53,
    "start_time": "2023-02-01T15:33:31.163Z"
   },
   {
    "duration": 50,
    "start_time": "2023-02-02T07:14:05.271Z"
   },
   {
    "duration": 1018,
    "start_time": "2023-02-02T07:14:11.881Z"
   },
   {
    "duration": 67,
    "start_time": "2023-02-02T07:14:12.900Z"
   },
   {
    "duration": 18,
    "start_time": "2023-02-02T07:14:12.969Z"
   },
   {
    "duration": 11,
    "start_time": "2023-02-02T07:14:12.989Z"
   },
   {
    "duration": 6,
    "start_time": "2023-02-02T07:14:13.001Z"
   },
   {
    "duration": 16,
    "start_time": "2023-02-02T07:14:13.008Z"
   },
   {
    "duration": 12,
    "start_time": "2023-02-02T07:14:13.026Z"
   },
   {
    "duration": 7,
    "start_time": "2023-02-02T07:14:13.040Z"
   },
   {
    "duration": 9,
    "start_time": "2023-02-02T07:14:13.048Z"
   },
   {
    "duration": 4,
    "start_time": "2023-02-02T07:14:13.060Z"
   },
   {
    "duration": 7,
    "start_time": "2023-02-02T07:14:13.066Z"
   },
   {
    "duration": 7,
    "start_time": "2023-02-02T07:14:13.075Z"
   },
   {
    "duration": 5,
    "start_time": "2023-02-02T07:14:13.083Z"
   },
   {
    "duration": 7,
    "start_time": "2023-02-02T07:14:13.090Z"
   },
   {
    "duration": 7,
    "start_time": "2023-02-02T07:14:13.098Z"
   },
   {
    "duration": 12,
    "start_time": "2023-02-02T07:14:13.107Z"
   },
   {
    "duration": 6,
    "start_time": "2023-02-02T07:14:13.121Z"
   },
   {
    "duration": 7,
    "start_time": "2023-02-02T07:14:13.128Z"
   },
   {
    "duration": 6,
    "start_time": "2023-02-02T07:14:13.137Z"
   },
   {
    "duration": 8,
    "start_time": "2023-02-02T07:14:13.144Z"
   },
   {
    "duration": 7,
    "start_time": "2023-02-02T07:14:13.154Z"
   },
   {
    "duration": 6,
    "start_time": "2023-02-02T07:14:13.162Z"
   },
   {
    "duration": 34,
    "start_time": "2023-02-02T07:14:13.170Z"
   },
   {
    "duration": 33,
    "start_time": "2023-02-02T07:14:20.950Z"
   },
   {
    "duration": 42,
    "start_time": "2023-02-02T07:15:43.044Z"
   },
   {
    "duration": 35,
    "start_time": "2023-02-02T07:16:03.042Z"
   },
   {
    "duration": 3,
    "start_time": "2023-02-02T07:16:12.466Z"
   },
   {
    "duration": 48,
    "start_time": "2023-02-02T07:18:02.999Z"
   },
   {
    "duration": 5,
    "start_time": "2023-02-02T07:18:07.814Z"
   },
   {
    "duration": 68,
    "start_time": "2023-02-02T07:18:49.801Z"
   },
   {
    "duration": 4,
    "start_time": "2023-02-02T07:19:00.810Z"
   },
   {
    "duration": 264,
    "start_time": "2023-02-02T07:22:28.006Z"
   },
   {
    "duration": 5,
    "start_time": "2023-02-02T07:22:37.812Z"
   },
   {
    "duration": 912,
    "start_time": "2023-02-02T07:23:02.584Z"
   },
   {
    "duration": 3,
    "start_time": "2023-02-02T07:23:05.384Z"
   },
   {
    "duration": 5154,
    "start_time": "2023-02-02T07:23:12.119Z"
   },
   {
    "duration": 4,
    "start_time": "2023-02-02T07:23:17.275Z"
   },
   {
    "duration": 1920,
    "start_time": "2023-02-02T07:23:25.092Z"
   },
   {
    "duration": 5,
    "start_time": "2023-02-02T07:23:28.275Z"
   },
   {
    "duration": 2,
    "start_time": "2023-02-02T07:24:23.133Z"
   },
   {
    "duration": 28,
    "start_time": "2023-02-02T07:27:39.424Z"
   },
   {
    "duration": 31,
    "start_time": "2023-02-02T07:27:45.693Z"
   },
   {
    "duration": 26,
    "start_time": "2023-02-02T07:27:49.325Z"
   },
   {
    "duration": 36,
    "start_time": "2023-02-02T07:27:52.924Z"
   },
   {
    "duration": 25,
    "start_time": "2023-02-02T07:27:57.479Z"
   },
   {
    "duration": 28,
    "start_time": "2023-02-02T07:28:03.447Z"
   },
   {
    "duration": 38,
    "start_time": "2023-02-02T07:32:24.926Z"
   },
   {
    "duration": 4,
    "start_time": "2023-02-02T07:32:25.784Z"
   },
   {
    "duration": 33,
    "start_time": "2023-02-02T07:32:31.204Z"
   },
   {
    "duration": 4,
    "start_time": "2023-02-02T07:32:31.934Z"
   },
   {
    "duration": 28,
    "start_time": "2023-02-02T07:34:08.357Z"
   },
   {
    "duration": 27,
    "start_time": "2023-02-02T07:34:14.980Z"
   },
   {
    "duration": 27,
    "start_time": "2023-02-02T07:34:19.627Z"
   },
   {
    "duration": 12,
    "start_time": "2023-02-02T07:34:40.379Z"
   },
   {
    "duration": 26,
    "start_time": "2023-02-02T07:34:53.144Z"
   },
   {
    "duration": 5,
    "start_time": "2023-02-02T07:35:24.255Z"
   },
   {
    "duration": 8,
    "start_time": "2023-02-02T07:35:35.594Z"
   },
   {
    "duration": 8,
    "start_time": "2023-02-02T07:36:38.793Z"
   },
   {
    "duration": 8,
    "start_time": "2023-02-02T07:37:26.686Z"
   },
   {
    "duration": 31,
    "start_time": "2023-02-02T07:37:52.547Z"
   },
   {
    "duration": 10,
    "start_time": "2023-02-02T07:39:02.215Z"
   },
   {
    "duration": 9,
    "start_time": "2023-02-02T07:39:12.013Z"
   },
   {
    "duration": 28,
    "start_time": "2023-02-02T07:51:53.536Z"
   },
   {
    "duration": 4,
    "start_time": "2023-02-02T07:51:54.490Z"
   },
   {
    "duration": 33,
    "start_time": "2023-02-02T07:57:52.553Z"
   },
   {
    "duration": 5,
    "start_time": "2023-02-02T07:57:53.184Z"
   },
   {
    "duration": 59,
    "start_time": "2023-02-02T08:00:09.530Z"
   },
   {
    "duration": 5,
    "start_time": "2023-02-02T08:00:10.884Z"
   },
   {
    "duration": 26,
    "start_time": "2023-02-02T08:00:15.168Z"
   },
   {
    "duration": 5,
    "start_time": "2023-02-02T08:00:16.183Z"
   },
   {
    "duration": 1919,
    "start_time": "2023-02-02T08:03:06.521Z"
   },
   {
    "duration": 3,
    "start_time": "2023-02-02T08:06:23.797Z"
   },
   {
    "duration": 26,
    "start_time": "2023-02-02T08:07:47.826Z"
   },
   {
    "duration": 43,
    "start_time": "2023-02-02T08:07:50.692Z"
   },
   {
    "duration": 18,
    "start_time": "2023-02-02T08:09:01.408Z"
   },
   {
    "duration": 29,
    "start_time": "2023-02-02T08:09:05.217Z"
   },
   {
    "duration": 28,
    "start_time": "2023-02-02T08:09:09.724Z"
   },
   {
    "duration": 8,
    "start_time": "2023-02-02T08:11:04.939Z"
   },
   {
    "duration": 25,
    "start_time": "2023-02-02T08:11:06.215Z"
   },
   {
    "duration": 10,
    "start_time": "2023-02-02T08:11:07.088Z"
   },
   {
    "duration": 34,
    "start_time": "2023-02-02T08:29:18.959Z"
   },
   {
    "duration": 4,
    "start_time": "2023-02-02T08:29:20.756Z"
   },
   {
    "duration": 5,
    "start_time": "2023-02-02T08:54:13.908Z"
   },
   {
    "duration": 8,
    "start_time": "2023-02-02T08:54:33.289Z"
   },
   {
    "duration": 31,
    "start_time": "2023-02-02T08:55:18.942Z"
   },
   {
    "duration": 4,
    "start_time": "2023-02-02T08:56:46.588Z"
   },
   {
    "duration": 24,
    "start_time": "2023-02-02T08:56:47.773Z"
   },
   {
    "duration": 4,
    "start_time": "2023-02-02T08:57:09.831Z"
   },
   {
    "duration": 28,
    "start_time": "2023-02-02T08:57:10.702Z"
   },
   {
    "duration": 6,
    "start_time": "2023-02-02T08:57:37.230Z"
   },
   {
    "duration": 29,
    "start_time": "2023-02-02T08:57:37.782Z"
   },
   {
    "duration": 6,
    "start_time": "2023-02-02T08:57:55.793Z"
   },
   {
    "duration": 33,
    "start_time": "2023-02-02T08:57:56.423Z"
   },
   {
    "duration": 4,
    "start_time": "2023-02-02T08:58:43.147Z"
   },
   {
    "duration": 6,
    "start_time": "2023-02-02T08:58:54.072Z"
   },
   {
    "duration": 31,
    "start_time": "2023-02-02T08:58:54.622Z"
   },
   {
    "duration": 4,
    "start_time": "2023-02-02T09:00:43.875Z"
   },
   {
    "duration": 168,
    "start_time": "2023-02-02T09:00:44.485Z"
   },
   {
    "duration": 5,
    "start_time": "2023-02-02T09:01:04.842Z"
   },
   {
    "duration": 170,
    "start_time": "2023-02-02T09:01:05.292Z"
   },
   {
    "duration": 91,
    "start_time": "2023-02-02T09:02:21.172Z"
   },
   {
    "duration": 5,
    "start_time": "2023-02-02T09:02:32.088Z"
   },
   {
    "duration": 164,
    "start_time": "2023-02-02T09:02:33.472Z"
   },
   {
    "duration": 5,
    "start_time": "2023-02-02T09:02:47.000Z"
   },
   {
    "duration": 169,
    "start_time": "2023-02-02T09:02:47.895Z"
   },
   {
    "duration": 71,
    "start_time": "2023-02-02T09:02:55.294Z"
   },
   {
    "duration": 6,
    "start_time": "2023-02-02T09:03:00.479Z"
   },
   {
    "duration": 49,
    "start_time": "2023-02-02T09:03:08.944Z"
   },
   {
    "duration": 5,
    "start_time": "2023-02-02T09:03:15.944Z"
   },
   {
    "duration": 180,
    "start_time": "2023-02-02T09:03:17.110Z"
   },
   {
    "duration": 66,
    "start_time": "2023-02-02T09:03:23.680Z"
   },
   {
    "duration": 68,
    "start_time": "2023-02-02T09:04:02.342Z"
   },
   {
    "duration": 8,
    "start_time": "2023-02-02T09:04:11.130Z"
   },
   {
    "duration": 193,
    "start_time": "2023-02-02T09:04:12.084Z"
   },
   {
    "duration": 6,
    "start_time": "2023-02-02T09:04:24.152Z"
   },
   {
    "duration": 182,
    "start_time": "2023-02-02T09:04:25.059Z"
   },
   {
    "duration": 12,
    "start_time": "2023-02-02T09:04:30.982Z"
   },
   {
    "duration": 212,
    "start_time": "2023-02-02T09:04:31.982Z"
   },
   {
    "duration": 6,
    "start_time": "2023-02-02T09:04:39.303Z"
   },
   {
    "duration": 182,
    "start_time": "2023-02-02T09:04:39.997Z"
   },
   {
    "duration": 9,
    "start_time": "2023-02-02T09:05:29.753Z"
   },
   {
    "duration": 231,
    "start_time": "2023-02-02T09:05:30.454Z"
   },
   {
    "duration": 6,
    "start_time": "2023-02-02T09:05:42.630Z"
   },
   {
    "duration": 234,
    "start_time": "2023-02-02T09:05:43.319Z"
   },
   {
    "duration": 6,
    "start_time": "2023-02-02T09:07:10.609Z"
   },
   {
    "duration": 9,
    "start_time": "2023-02-02T09:08:53.700Z"
   },
   {
    "duration": 3,
    "start_time": "2023-02-02T09:09:53.782Z"
   },
   {
    "duration": 4,
    "start_time": "2023-02-02T09:09:59.374Z"
   },
   {
    "duration": 5,
    "start_time": "2023-02-02T09:13:47.054Z"
   },
   {
    "duration": 5,
    "start_time": "2023-02-02T09:14:54.116Z"
   },
   {
    "duration": 5,
    "start_time": "2023-02-02T09:15:15.418Z"
   },
   {
    "duration": 175,
    "start_time": "2023-02-02T09:15:16.887Z"
   },
   {
    "duration": 1925,
    "start_time": "2023-02-02T09:49:27.025Z"
   },
   {
    "duration": 31,
    "start_time": "2023-02-02T09:49:28.952Z"
   },
   {
    "duration": 19,
    "start_time": "2023-02-02T09:49:28.985Z"
   },
   {
    "duration": 29,
    "start_time": "2023-02-02T09:49:29.007Z"
   },
   {
    "duration": 42,
    "start_time": "2023-02-02T09:49:29.038Z"
   },
   {
    "duration": 31,
    "start_time": "2023-02-02T09:49:29.082Z"
   },
   {
    "duration": 28,
    "start_time": "2023-02-02T09:49:29.116Z"
   },
   {
    "duration": 43,
    "start_time": "2023-02-02T09:49:29.146Z"
   },
   {
    "duration": 18,
    "start_time": "2023-02-02T09:49:29.191Z"
   },
   {
    "duration": 25,
    "start_time": "2023-02-02T09:49:29.213Z"
   },
   {
    "duration": 19,
    "start_time": "2023-02-02T09:49:29.240Z"
   },
   {
    "duration": 22,
    "start_time": "2023-02-02T09:49:29.261Z"
   },
   {
    "duration": 26,
    "start_time": "2023-02-02T09:49:29.285Z"
   },
   {
    "duration": 53,
    "start_time": "2023-02-02T09:49:29.313Z"
   },
   {
    "duration": 22,
    "start_time": "2023-02-02T09:49:29.369Z"
   },
   {
    "duration": 18,
    "start_time": "2023-02-02T09:49:29.393Z"
   },
   {
    "duration": 43,
    "start_time": "2023-02-02T09:49:29.413Z"
   },
   {
    "duration": 37,
    "start_time": "2023-02-02T09:49:29.458Z"
   },
   {
    "duration": 19,
    "start_time": "2023-02-02T09:49:29.497Z"
   },
   {
    "duration": 44,
    "start_time": "2023-02-02T09:49:29.517Z"
   },
   {
    "duration": 17,
    "start_time": "2023-02-02T09:49:29.563Z"
   },
   {
    "duration": 6,
    "start_time": "2023-02-02T09:49:29.582Z"
   },
   {
    "duration": 45,
    "start_time": "2023-02-02T09:49:29.589Z"
   },
   {
    "duration": 5,
    "start_time": "2023-02-02T09:49:29.636Z"
   },
   {
    "duration": 2201,
    "start_time": "2023-02-02T09:49:29.643Z"
   },
   {
    "duration": 4,
    "start_time": "2023-02-02T09:49:31.845Z"
   },
   {
    "duration": 70,
    "start_time": "2023-02-02T09:49:31.851Z"
   },
   {
    "duration": 9,
    "start_time": "2023-02-02T09:49:31.924Z"
   },
   {
    "duration": 64,
    "start_time": "2023-02-02T09:49:31.934Z"
   },
   {
    "duration": 21,
    "start_time": "2023-02-02T09:49:32.000Z"
   },
   {
    "duration": 47,
    "start_time": "2023-02-02T09:49:32.023Z"
   },
   {
    "duration": 220,
    "start_time": "2023-02-02T09:49:32.072Z"
   },
   {
    "duration": 5,
    "start_time": "2023-02-02T09:49:32.294Z"
   },
   {
    "duration": 47,
    "start_time": "2023-02-02T09:49:32.301Z"
   },
   {
    "duration": 6,
    "start_time": "2023-02-02T10:24:38.423Z"
   },
   {
    "duration": 6,
    "start_time": "2023-02-02T10:24:46.736Z"
   },
   {
    "duration": 6,
    "start_time": "2023-02-02T10:25:12.140Z"
   },
   {
    "duration": 117,
    "start_time": "2023-02-02T10:39:31.025Z"
   },
   {
    "duration": 10,
    "start_time": "2023-02-02T10:47:51.201Z"
   },
   {
    "duration": 282,
    "start_time": "2023-02-02T10:48:32.713Z"
   },
   {
    "duration": 157,
    "start_time": "2023-02-02T10:48:34.686Z"
   },
   {
    "duration": 108,
    "start_time": "2023-02-02T10:50:01.590Z"
   },
   {
    "duration": 132,
    "start_time": "2023-02-02T10:50:53.880Z"
   },
   {
    "duration": 218,
    "start_time": "2023-02-02T10:51:28.716Z"
   },
   {
    "duration": 137,
    "start_time": "2023-02-02T10:51:31.678Z"
   },
   {
    "duration": 170,
    "start_time": "2023-02-02T10:51:40.246Z"
   },
   {
    "duration": 122,
    "start_time": "2023-02-02T10:52:21.109Z"
   },
   {
    "duration": 119,
    "start_time": "2023-02-02T10:52:39.162Z"
   },
   {
    "duration": 3,
    "start_time": "2023-02-02T11:00:43.974Z"
   },
   {
    "duration": 21,
    "start_time": "2023-02-02T11:01:11.025Z"
   },
   {
    "duration": 2,
    "start_time": "2023-02-02T11:01:21.044Z"
   },
   {
    "duration": 82,
    "start_time": "2023-02-03T07:12:08.457Z"
   },
   {
    "duration": 49,
    "start_time": "2023-02-03T07:12:35.692Z"
   },
   {
    "duration": 1050,
    "start_time": "2023-02-03T07:12:40.528Z"
   },
   {
    "duration": 64,
    "start_time": "2023-02-03T07:12:41.580Z"
   },
   {
    "duration": 15,
    "start_time": "2023-02-03T07:12:41.645Z"
   },
   {
    "duration": 15,
    "start_time": "2023-02-03T07:12:41.662Z"
   },
   {
    "duration": 7,
    "start_time": "2023-02-03T07:12:41.680Z"
   },
   {
    "duration": 5,
    "start_time": "2023-02-03T07:12:41.688Z"
   },
   {
    "duration": 6,
    "start_time": "2023-02-03T07:12:41.694Z"
   },
   {
    "duration": 5,
    "start_time": "2023-02-03T07:12:41.701Z"
   },
   {
    "duration": 73,
    "start_time": "2023-02-03T07:12:41.707Z"
   },
   {
    "duration": 0,
    "start_time": "2023-02-03T07:12:41.782Z"
   },
   {
    "duration": 0,
    "start_time": "2023-02-03T07:12:41.783Z"
   },
   {
    "duration": 0,
    "start_time": "2023-02-03T07:12:41.784Z"
   },
   {
    "duration": 0,
    "start_time": "2023-02-03T07:12:41.786Z"
   },
   {
    "duration": 0,
    "start_time": "2023-02-03T07:12:41.787Z"
   },
   {
    "duration": 0,
    "start_time": "2023-02-03T07:12:41.788Z"
   },
   {
    "duration": 0,
    "start_time": "2023-02-03T07:12:41.789Z"
   },
   {
    "duration": 0,
    "start_time": "2023-02-03T07:12:41.790Z"
   },
   {
    "duration": 0,
    "start_time": "2023-02-03T07:12:41.791Z"
   },
   {
    "duration": 0,
    "start_time": "2023-02-03T07:12:41.792Z"
   },
   {
    "duration": 0,
    "start_time": "2023-02-03T07:12:41.793Z"
   },
   {
    "duration": 0,
    "start_time": "2023-02-03T07:12:41.795Z"
   },
   {
    "duration": 0,
    "start_time": "2023-02-03T07:12:41.796Z"
   },
   {
    "duration": 0,
    "start_time": "2023-02-03T07:12:41.797Z"
   },
   {
    "duration": 0,
    "start_time": "2023-02-03T07:12:41.798Z"
   },
   {
    "duration": 1,
    "start_time": "2023-02-03T07:12:41.798Z"
   },
   {
    "duration": 0,
    "start_time": "2023-02-03T07:12:41.799Z"
   },
   {
    "duration": 0,
    "start_time": "2023-02-03T07:12:41.800Z"
   },
   {
    "duration": 0,
    "start_time": "2023-02-03T07:12:41.801Z"
   },
   {
    "duration": 0,
    "start_time": "2023-02-03T07:12:41.837Z"
   },
   {
    "duration": 0,
    "start_time": "2023-02-03T07:12:41.838Z"
   },
   {
    "duration": 0,
    "start_time": "2023-02-03T07:12:41.839Z"
   },
   {
    "duration": 0,
    "start_time": "2023-02-03T07:12:41.840Z"
   },
   {
    "duration": 0,
    "start_time": "2023-02-03T07:12:41.841Z"
   },
   {
    "duration": 0,
    "start_time": "2023-02-03T07:12:41.842Z"
   },
   {
    "duration": 0,
    "start_time": "2023-02-03T07:12:41.843Z"
   },
   {
    "duration": 0,
    "start_time": "2023-02-03T07:12:41.844Z"
   },
   {
    "duration": 57,
    "start_time": "2023-02-03T07:12:55.424Z"
   },
   {
    "duration": 3,
    "start_time": "2023-02-03T07:13:06.253Z"
   },
   {
    "duration": 25,
    "start_time": "2023-02-03T07:13:08.910Z"
   },
   {
    "duration": 10,
    "start_time": "2023-02-03T07:13:11.098Z"
   },
   {
    "duration": 9,
    "start_time": "2023-02-03T07:13:12.778Z"
   },
   {
    "duration": 7,
    "start_time": "2023-02-03T07:13:15.615Z"
   },
   {
    "duration": 4,
    "start_time": "2023-02-03T07:13:17.868Z"
   },
   {
    "duration": 3,
    "start_time": "2023-02-03T07:13:18.678Z"
   },
   {
    "duration": 3,
    "start_time": "2023-02-03T07:13:19.661Z"
   },
   {
    "duration": 9,
    "start_time": "2023-02-03T07:13:22.436Z"
   },
   {
    "duration": 8,
    "start_time": "2023-02-03T07:15:19.105Z"
   },
   {
    "duration": 5,
    "start_time": "2023-02-03T07:15:47.893Z"
   },
   {
    "duration": 3,
    "start_time": "2023-02-03T07:15:49.128Z"
   },
   {
    "duration": 3,
    "start_time": "2023-02-03T07:15:49.932Z"
   },
   {
    "duration": 4,
    "start_time": "2023-02-03T07:15:50.772Z"
   },
   {
    "duration": 4,
    "start_time": "2023-02-03T07:15:51.542Z"
   },
   {
    "duration": 3,
    "start_time": "2023-02-03T07:15:55.273Z"
   },
   {
    "duration": 4,
    "start_time": "2023-02-03T07:15:56.023Z"
   },
   {
    "duration": 4,
    "start_time": "2023-02-03T07:15:57.353Z"
   },
   {
    "duration": 4,
    "start_time": "2023-02-03T07:15:58.108Z"
   },
   {
    "duration": 4,
    "start_time": "2023-02-03T07:15:58.846Z"
   },
   {
    "duration": 3,
    "start_time": "2023-02-03T07:16:00.613Z"
   },
   {
    "duration": 4,
    "start_time": "2023-02-03T07:16:01.263Z"
   },
   {
    "duration": 3,
    "start_time": "2023-02-03T07:16:01.983Z"
   },
   {
    "duration": 4,
    "start_time": "2023-02-03T07:16:02.583Z"
   },
   {
    "duration": 25,
    "start_time": "2023-02-03T07:16:07.228Z"
   },
   {
    "duration": 4,
    "start_time": "2023-02-03T07:16:10.263Z"
   },
   {
    "duration": 1724,
    "start_time": "2023-02-03T07:16:15.130Z"
   },
   {
    "duration": 3,
    "start_time": "2023-02-03T07:16:19.327Z"
   },
   {
    "duration": 25,
    "start_time": "2023-02-03T07:16:27.883Z"
   },
   {
    "duration": 17,
    "start_time": "2023-02-03T07:16:36.354Z"
   },
   {
    "duration": 5,
    "start_time": "2023-02-03T07:17:14.151Z"
   },
   {
    "duration": 139,
    "start_time": "2023-02-03T07:17:16.742Z"
   },
   {
    "duration": 4,
    "start_time": "2023-02-03T07:17:20.903Z"
   },
   {
    "duration": 5,
    "start_time": "2023-02-03T07:17:22.214Z"
   },
   {
    "duration": 3,
    "start_time": "2023-02-03T07:22:15.476Z"
   },
   {
    "duration": 46,
    "start_time": "2023-02-03T07:25:24.650Z"
   },
   {
    "duration": 55,
    "start_time": "2023-02-03T07:25:52.088Z"
   },
   {
    "duration": 57,
    "start_time": "2023-02-03T07:26:54.784Z"
   },
   {
    "duration": 49,
    "start_time": "2023-02-03T07:27:16.504Z"
   },
   {
    "duration": 3,
    "start_time": "2023-02-03T07:27:29.860Z"
   },
   {
    "duration": 3,
    "start_time": "2023-02-03T07:27:58.821Z"
   },
   {
    "duration": 8,
    "start_time": "2023-02-03T07:28:27.267Z"
   },
   {
    "duration": 6,
    "start_time": "2023-02-03T07:28:50.034Z"
   },
   {
    "duration": 6,
    "start_time": "2023-02-03T07:29:19.183Z"
   },
   {
    "duration": 5,
    "start_time": "2023-02-03T07:29:53.166Z"
   },
   {
    "duration": 5,
    "start_time": "2023-02-03T07:29:53.747Z"
   },
   {
    "duration": 5,
    "start_time": "2023-02-03T07:29:56.453Z"
   },
   {
    "duration": 5,
    "start_time": "2023-02-03T07:30:48.207Z"
   },
   {
    "duration": 4,
    "start_time": "2023-02-03T07:30:48.804Z"
   },
   {
    "duration": 4,
    "start_time": "2023-02-03T07:30:49.459Z"
   },
   {
    "duration": 1861,
    "start_time": "2023-02-03T10:21:38.044Z"
   },
   {
    "duration": 25,
    "start_time": "2023-02-03T10:21:39.907Z"
   },
   {
    "duration": 16,
    "start_time": "2023-02-03T10:21:39.934Z"
   },
   {
    "duration": 11,
    "start_time": "2023-02-03T10:21:39.952Z"
   },
   {
    "duration": 8,
    "start_time": "2023-02-03T10:21:39.965Z"
   },
   {
    "duration": 11,
    "start_time": "2023-02-03T10:21:39.974Z"
   },
   {
    "duration": 7,
    "start_time": "2023-02-03T10:21:39.986Z"
   },
   {
    "duration": 6,
    "start_time": "2023-02-03T10:21:39.994Z"
   },
   {
    "duration": 29,
    "start_time": "2023-02-03T10:21:40.002Z"
   },
   {
    "duration": 5,
    "start_time": "2023-02-03T10:21:40.034Z"
   },
   {
    "duration": 8,
    "start_time": "2023-02-03T10:21:40.041Z"
   },
   {
    "duration": 6,
    "start_time": "2023-02-03T10:21:40.050Z"
   },
   {
    "duration": 6,
    "start_time": "2023-02-03T10:21:40.058Z"
   },
   {
    "duration": 5,
    "start_time": "2023-02-03T10:21:40.066Z"
   },
   {
    "duration": 6,
    "start_time": "2023-02-03T10:21:40.072Z"
   },
   {
    "duration": 5,
    "start_time": "2023-02-03T10:21:40.079Z"
   },
   {
    "duration": 7,
    "start_time": "2023-02-03T10:21:40.085Z"
   },
   {
    "duration": 33,
    "start_time": "2023-02-03T10:21:40.094Z"
   },
   {
    "duration": 4,
    "start_time": "2023-02-03T10:21:40.128Z"
   },
   {
    "duration": 8,
    "start_time": "2023-02-03T10:21:40.133Z"
   },
   {
    "duration": 7,
    "start_time": "2023-02-03T10:21:40.142Z"
   },
   {
    "duration": 8,
    "start_time": "2023-02-03T10:21:40.150Z"
   },
   {
    "duration": 10,
    "start_time": "2023-02-03T10:21:40.159Z"
   },
   {
    "duration": 28,
    "start_time": "2023-02-03T10:21:40.170Z"
   },
   {
    "duration": 4,
    "start_time": "2023-02-03T10:21:40.199Z"
   },
   {
    "duration": 1934,
    "start_time": "2023-02-03T10:21:40.204Z"
   },
   {
    "duration": 3,
    "start_time": "2023-02-03T10:21:42.140Z"
   },
   {
    "duration": 27,
    "start_time": "2023-02-03T10:21:42.146Z"
   },
   {
    "duration": 3,
    "start_time": "2023-02-03T10:21:42.174Z"
   },
   {
    "duration": 21,
    "start_time": "2023-02-03T10:21:42.178Z"
   },
   {
    "duration": 27,
    "start_time": "2023-02-03T10:21:42.201Z"
   },
   {
    "duration": 6,
    "start_time": "2023-02-03T10:21:42.229Z"
   },
   {
    "duration": 166,
    "start_time": "2023-02-03T10:21:42.236Z"
   },
   {
    "duration": 4,
    "start_time": "2023-02-03T10:21:42.403Z"
   },
   {
    "duration": 6,
    "start_time": "2023-02-03T10:21:42.409Z"
   },
   {
    "duration": 14,
    "start_time": "2023-02-03T10:21:42.417Z"
   },
   {
    "duration": 6,
    "start_time": "2023-02-03T10:21:42.432Z"
   },
   {
    "duration": 6,
    "start_time": "2023-02-03T10:21:42.440Z"
   },
   {
    "duration": 5,
    "start_time": "2023-02-03T10:22:31.159Z"
   }
  ],
  "kernelspec": {
   "display_name": "Python 3 (ipykernel)",
   "language": "python",
   "name": "python3"
  },
  "language_info": {
   "codemirror_mode": {
    "name": "ipython",
    "version": 3
   },
   "file_extension": ".py",
   "mimetype": "text/x-python",
   "name": "python",
   "nbconvert_exporter": "python",
   "pygments_lexer": "ipython3",
   "version": "3.10.2"
  },
  "toc": {
   "base_numbering": 1,
   "nav_menu": {},
   "number_sections": true,
   "sideBar": true,
   "skip_h1_title": true,
   "title_cell": "Table of Contents",
   "title_sidebar": "Contents",
   "toc_cell": false,
   "toc_position": {},
   "toc_section_display": true,
   "toc_window_display": false
  }
 },
 "nbformat": 4,
 "nbformat_minor": 2
}
