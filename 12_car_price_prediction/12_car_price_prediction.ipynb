{
 "cells": [
  {
   "cell_type": "markdown",
   "metadata": {},
   "source": [
    "# Определение стоимости автомобилей"
   ]
  },
  {
   "cell_type": "markdown",
   "metadata": {},
   "source": [
    "Сервис по продаже автомобилей с пробегом «Не бит, не крашен» разрабатывает приложение для привлечения новых клиентов. В нём можно быстро узнать рыночную стоимость своего автомобиля. В вашем распоряжении исторические данные: технические характеристики, комплектации и цены автомобилей. Вам нужно построить модель для определения стоимости. \n",
    "\n",
    "Заказчику важны:\n",
    "\n",
    "- качество предсказания;\n",
    "- скорость предсказания;\n",
    "- время обучения."
   ]
  },
  {
   "cell_type": "markdown",
   "metadata": {},
   "source": [
    "## Подготовка данных"
   ]
  },
  {
   "cell_type": "markdown",
   "metadata": {},
   "source": [
    "### Загрузка данных"
   ]
  },
  {
   "cell_type": "markdown",
   "metadata": {},
   "source": [
    "Здесь будем собирать все импорты"
   ]
  },
  {
   "cell_type": "code",
   "execution_count": 1,
   "metadata": {},
   "outputs": [],
   "source": [
    "import pandas as pd\n",
    "import seaborn as sns\n",
    "from sklearn.model_selection import train_test_split\n",
    "from sklearn.preprocessing import OrdinalEncoder\n",
    "from sklearn.preprocessing import StandardScaler\n",
    "from sklearn.tree import DecisionTreeRegressor\n",
    "from sklearn.metrics import mean_squared_error\n",
    "from sklearn.ensemble import RandomForestRegressor\n",
    "from sklearn.linear_model import LinearRegression\n",
    "from lightgbm import LGBMRegressor\n",
    "from sklearn.model_selection import cross_val_score"
   ]
  },
  {
   "cell_type": "markdown",
   "metadata": {},
   "source": [
    "Откроем датасет"
   ]
  },
  {
   "cell_type": "code",
   "execution_count": 2,
   "metadata": {},
   "outputs": [],
   "source": [
    "data = pd.read_csv('/datasets/autos.csv')"
   ]
  },
  {
   "cell_type": "code",
   "execution_count": 3,
   "metadata": {},
   "outputs": [
    {
     "data": {
      "text/html": [
       "<div>\n",
       "<style scoped>\n",
       "    .dataframe tbody tr th:only-of-type {\n",
       "        vertical-align: middle;\n",
       "    }\n",
       "\n",
       "    .dataframe tbody tr th {\n",
       "        vertical-align: top;\n",
       "    }\n",
       "\n",
       "    .dataframe thead th {\n",
       "        text-align: right;\n",
       "    }\n",
       "</style>\n",
       "<table border=\"1\" class=\"dataframe\">\n",
       "  <thead>\n",
       "    <tr style=\"text-align: right;\">\n",
       "      <th></th>\n",
       "      <th>DateCrawled</th>\n",
       "      <th>Price</th>\n",
       "      <th>VehicleType</th>\n",
       "      <th>RegistrationYear</th>\n",
       "      <th>Gearbox</th>\n",
       "      <th>Power</th>\n",
       "      <th>Model</th>\n",
       "      <th>Kilometer</th>\n",
       "      <th>RegistrationMonth</th>\n",
       "      <th>FuelType</th>\n",
       "      <th>Brand</th>\n",
       "      <th>Repaired</th>\n",
       "      <th>DateCreated</th>\n",
       "      <th>NumberOfPictures</th>\n",
       "      <th>PostalCode</th>\n",
       "      <th>LastSeen</th>\n",
       "    </tr>\n",
       "  </thead>\n",
       "  <tbody>\n",
       "    <tr>\n",
       "      <th>0</th>\n",
       "      <td>2016-03-24 11:52:17</td>\n",
       "      <td>480</td>\n",
       "      <td>NaN</td>\n",
       "      <td>1993</td>\n",
       "      <td>manual</td>\n",
       "      <td>0</td>\n",
       "      <td>golf</td>\n",
       "      <td>150000</td>\n",
       "      <td>0</td>\n",
       "      <td>petrol</td>\n",
       "      <td>volkswagen</td>\n",
       "      <td>NaN</td>\n",
       "      <td>2016-03-24 00:00:00</td>\n",
       "      <td>0</td>\n",
       "      <td>70435</td>\n",
       "      <td>2016-04-07 03:16:57</td>\n",
       "    </tr>\n",
       "    <tr>\n",
       "      <th>1</th>\n",
       "      <td>2016-03-24 10:58:45</td>\n",
       "      <td>18300</td>\n",
       "      <td>coupe</td>\n",
       "      <td>2011</td>\n",
       "      <td>manual</td>\n",
       "      <td>190</td>\n",
       "      <td>NaN</td>\n",
       "      <td>125000</td>\n",
       "      <td>5</td>\n",
       "      <td>gasoline</td>\n",
       "      <td>audi</td>\n",
       "      <td>yes</td>\n",
       "      <td>2016-03-24 00:00:00</td>\n",
       "      <td>0</td>\n",
       "      <td>66954</td>\n",
       "      <td>2016-04-07 01:46:50</td>\n",
       "    </tr>\n",
       "    <tr>\n",
       "      <th>2</th>\n",
       "      <td>2016-03-14 12:52:21</td>\n",
       "      <td>9800</td>\n",
       "      <td>suv</td>\n",
       "      <td>2004</td>\n",
       "      <td>auto</td>\n",
       "      <td>163</td>\n",
       "      <td>grand</td>\n",
       "      <td>125000</td>\n",
       "      <td>8</td>\n",
       "      <td>gasoline</td>\n",
       "      <td>jeep</td>\n",
       "      <td>NaN</td>\n",
       "      <td>2016-03-14 00:00:00</td>\n",
       "      <td>0</td>\n",
       "      <td>90480</td>\n",
       "      <td>2016-04-05 12:47:46</td>\n",
       "    </tr>\n",
       "    <tr>\n",
       "      <th>3</th>\n",
       "      <td>2016-03-17 16:54:04</td>\n",
       "      <td>1500</td>\n",
       "      <td>small</td>\n",
       "      <td>2001</td>\n",
       "      <td>manual</td>\n",
       "      <td>75</td>\n",
       "      <td>golf</td>\n",
       "      <td>150000</td>\n",
       "      <td>6</td>\n",
       "      <td>petrol</td>\n",
       "      <td>volkswagen</td>\n",
       "      <td>no</td>\n",
       "      <td>2016-03-17 00:00:00</td>\n",
       "      <td>0</td>\n",
       "      <td>91074</td>\n",
       "      <td>2016-03-17 17:40:17</td>\n",
       "    </tr>\n",
       "    <tr>\n",
       "      <th>4</th>\n",
       "      <td>2016-03-31 17:25:20</td>\n",
       "      <td>3600</td>\n",
       "      <td>small</td>\n",
       "      <td>2008</td>\n",
       "      <td>manual</td>\n",
       "      <td>69</td>\n",
       "      <td>fabia</td>\n",
       "      <td>90000</td>\n",
       "      <td>7</td>\n",
       "      <td>gasoline</td>\n",
       "      <td>skoda</td>\n",
       "      <td>no</td>\n",
       "      <td>2016-03-31 00:00:00</td>\n",
       "      <td>0</td>\n",
       "      <td>60437</td>\n",
       "      <td>2016-04-06 10:17:21</td>\n",
       "    </tr>\n",
       "  </tbody>\n",
       "</table>\n",
       "</div>"
      ],
      "text/plain": [
       "           DateCrawled  Price VehicleType  RegistrationYear Gearbox  Power  \\\n",
       "0  2016-03-24 11:52:17    480         NaN              1993  manual      0   \n",
       "1  2016-03-24 10:58:45  18300       coupe              2011  manual    190   \n",
       "2  2016-03-14 12:52:21   9800         suv              2004    auto    163   \n",
       "3  2016-03-17 16:54:04   1500       small              2001  manual     75   \n",
       "4  2016-03-31 17:25:20   3600       small              2008  manual     69   \n",
       "\n",
       "   Model  Kilometer  RegistrationMonth  FuelType       Brand Repaired  \\\n",
       "0   golf     150000                  0    petrol  volkswagen      NaN   \n",
       "1    NaN     125000                  5  gasoline        audi      yes   \n",
       "2  grand     125000                  8  gasoline        jeep      NaN   \n",
       "3   golf     150000                  6    petrol  volkswagen       no   \n",
       "4  fabia      90000                  7  gasoline       skoda       no   \n",
       "\n",
       "           DateCreated  NumberOfPictures  PostalCode             LastSeen  \n",
       "0  2016-03-24 00:00:00                 0       70435  2016-04-07 03:16:57  \n",
       "1  2016-03-24 00:00:00                 0       66954  2016-04-07 01:46:50  \n",
       "2  2016-03-14 00:00:00                 0       90480  2016-04-05 12:47:46  \n",
       "3  2016-03-17 00:00:00                 0       91074  2016-03-17 17:40:17  \n",
       "4  2016-03-31 00:00:00                 0       60437  2016-04-06 10:17:21  "
      ]
     },
     "execution_count": 3,
     "metadata": {},
     "output_type": "execute_result"
    }
   ],
   "source": [
    "data.head()"
   ]
  },
  {
   "cell_type": "code",
   "execution_count": 4,
   "metadata": {},
   "outputs": [
    {
     "name": "stdout",
     "output_type": "stream",
     "text": [
      "<class 'pandas.core.frame.DataFrame'>\n",
      "RangeIndex: 354369 entries, 0 to 354368\n",
      "Data columns (total 16 columns):\n",
      " #   Column             Non-Null Count   Dtype \n",
      "---  ------             --------------   ----- \n",
      " 0   DateCrawled        354369 non-null  object\n",
      " 1   Price              354369 non-null  int64 \n",
      " 2   VehicleType        316879 non-null  object\n",
      " 3   RegistrationYear   354369 non-null  int64 \n",
      " 4   Gearbox            334536 non-null  object\n",
      " 5   Power              354369 non-null  int64 \n",
      " 6   Model              334664 non-null  object\n",
      " 7   Kilometer          354369 non-null  int64 \n",
      " 8   RegistrationMonth  354369 non-null  int64 \n",
      " 9   FuelType           321474 non-null  object\n",
      " 10  Brand              354369 non-null  object\n",
      " 11  Repaired           283215 non-null  object\n",
      " 12  DateCreated        354369 non-null  object\n",
      " 13  NumberOfPictures   354369 non-null  int64 \n",
      " 14  PostalCode         354369 non-null  int64 \n",
      " 15  LastSeen           354369 non-null  object\n",
      "dtypes: int64(7), object(9)\n",
      "memory usage: 43.3+ MB\n"
     ]
    }
   ],
   "source": [
    "data.info()"
   ]
  },
  {
   "cell_type": "markdown",
   "metadata": {},
   "source": [
    "В нашем распоряжении таблица на 16 столбцов и 354368 строк. Бросим первый взгляд на то, как распределяются числовые признаки."
   ]
  },
  {
   "cell_type": "code",
   "execution_count": 5,
   "metadata": {},
   "outputs": [
    {
     "data": {
      "text/plain": [
       "array([[<AxesSubplot:title={'center':'Price'}>,\n",
       "        <AxesSubplot:title={'center':'RegistrationYear'}>,\n",
       "        <AxesSubplot:title={'center':'Power'}>],\n",
       "       [<AxesSubplot:title={'center':'Kilometer'}>,\n",
       "        <AxesSubplot:title={'center':'RegistrationMonth'}>,\n",
       "        <AxesSubplot:title={'center':'NumberOfPictures'}>],\n",
       "       [<AxesSubplot:title={'center':'PostalCode'}>, <AxesSubplot:>,\n",
       "        <AxesSubplot:>]], dtype=object)"
      ]
     },
     "execution_count": 5,
     "metadata": {},
     "output_type": "execute_result"
    },
    {
     "data": {
      "image/png": "[encoded data removed]",
      "text/plain": [
       "<Figure size 1440x1080 with 9 Axes>"
      ]
     },
     "metadata": {
      "needs_background": "light"
     },
     "output_type": "display_data"
    }
   ],
   "source": [
    "data.hist(bins=20, figsize=(20,15))"
   ]
  },
  {
   "cell_type": "markdown",
   "metadata": {},
   "source": [
    "Проверим таблицу на повторы и удалим их."
   ]
  },
  {
   "cell_type": "code",
   "execution_count": 6,
   "metadata": {},
   "outputs": [
    {
     "data": {
      "text/plain": [
       "4"
      ]
     },
     "execution_count": 6,
     "metadata": {},
     "output_type": "execute_result"
    }
   ],
   "source": [
    "data.duplicated().sum()"
   ]
  },
  {
   "cell_type": "code",
   "execution_count": 7,
   "metadata": {},
   "outputs": [],
   "source": [
    "data = data.drop_duplicates()"
   ]
  },
  {
   "cell_type": "markdown",
   "metadata": {},
   "source": [
    "Также посмотрим на количество пропусков в столбцах. Решать, что с ними делать будем позже для каждого отдельного столбца."
   ]
  },
  {
   "cell_type": "code",
   "execution_count": 8,
   "metadata": {},
   "outputs": [
    {
     "data": {
      "text/plain": [
       "DateCrawled              0\n",
       "Price                    0\n",
       "VehicleType          37490\n",
       "RegistrationYear         0\n",
       "Gearbox              19833\n",
       "Power                    0\n",
       "Model                19705\n",
       "Kilometer                0\n",
       "RegistrationMonth        0\n",
       "FuelType             32895\n",
       "Brand                    0\n",
       "Repaired             71154\n",
       "DateCreated              0\n",
       "NumberOfPictures         0\n",
       "PostalCode               0\n",
       "LastSeen                 0\n",
       "dtype: int64"
      ]
     },
     "execution_count": 8,
     "metadata": {},
     "output_type": "execute_result"
    }
   ],
   "source": [
    "data.isna().sum()"
   ]
  },
  {
   "cell_type": "markdown",
   "metadata": {},
   "source": [
    "### Дата скачивания анкеты из базы"
   ]
  },
  {
   "cell_type": "markdown",
   "metadata": {},
   "source": [
    "Пока непонятно, для чего нужен этот столбец. Пропусков в нем нет. Другие изменения пока не будем делать."
   ]
  },
  {
   "cell_type": "code",
   "execution_count": 9,
   "metadata": {},
   "outputs": [
    {
     "data": {
      "text/plain": [
       "0"
      ]
     },
     "execution_count": 9,
     "metadata": {},
     "output_type": "execute_result"
    }
   ],
   "source": [
    "data['DateCrawled'].isna().sum()"
   ]
  },
  {
   "cell_type": "code",
   "execution_count": 10,
   "metadata": {},
   "outputs": [
    {
     "data": {
      "text/plain": [
       "0         2016-03-24 11:52:17\n",
       "1         2016-03-24 10:58:45\n",
       "2         2016-03-14 12:52:21\n",
       "3         2016-03-17 16:54:04\n",
       "4         2016-03-31 17:25:20\n",
       "                 ...         \n",
       "354364    2016-03-21 09:50:58\n",
       "354365    2016-03-14 17:48:27\n",
       "354366    2016-03-05 19:56:21\n",
       "354367    2016-03-19 18:57:12\n",
       "354368    2016-03-20 19:41:08\n",
       "Name: DateCrawled, Length: 354365, dtype: object"
      ]
     },
     "execution_count": 10,
     "metadata": {},
     "output_type": "execute_result"
    }
   ],
   "source": [
    "data['DateCrawled']"
   ]
  },
  {
   "cell_type": "code",
   "execution_count": 11,
   "metadata": {},
   "outputs": [],
   "source": [
    "data['DateCrawled'] = pd.to_datetime(data['DateCrawled'], format='%Y-%m-%d %H:%M')\n",
    "data['DateCrawled'] = data['DateCrawled'].dt.year"
   ]
  },
  {
   "cell_type": "code",
   "execution_count": 12,
   "metadata": {},
   "outputs": [
    {
     "data": {
      "text/plain": [
       "array([2016])"
      ]
     },
     "execution_count": 12,
     "metadata": {},
     "output_type": "execute_result"
    }
   ],
   "source": [
    "data['DateCrawled'].unique()"
   ]
  },
  {
   "cell_type": "markdown",
   "metadata": {},
   "source": [
    "### Цена (евро)"
   ]
  },
  {
   "cell_type": "markdown",
   "metadata": {},
   "source": [
    "Цена машины в евро. Пропуски также отсутствуют. Но в то же время есть как нулевые и очень низкие значения, так и очень высокие."
   ]
  },
  {
   "cell_type": "code",
   "execution_count": 13,
   "metadata": {},
   "outputs": [
    {
     "data": {
      "text/plain": [
       "0"
      ]
     },
     "execution_count": 13,
     "metadata": {},
     "output_type": "execute_result"
    }
   ],
   "source": [
    "data['Price'].isna().sum()"
   ]
  },
  {
   "cell_type": "code",
   "execution_count": 14,
   "metadata": {},
   "outputs": [
    {
     "data": {
      "text/plain": [
       "count    354365.000000\n",
       "mean       4416.679830\n",
       "std        4514.176349\n",
       "min           0.000000\n",
       "25%        1050.000000\n",
       "50%        2700.000000\n",
       "75%        6400.000000\n",
       "max       20000.000000\n",
       "Name: Price, dtype: float64"
      ]
     },
     "execution_count": 14,
     "metadata": {},
     "output_type": "execute_result"
    }
   ],
   "source": [
    "data['Price'].describe()"
   ]
  },
  {
   "cell_type": "markdown",
   "metadata": {},
   "source": [
    "На графиках видно, что дорогих машин в нашей таблице достаточно много, цены на них стоят плотно, т.е. эти значения в большинстве своем не похожи на выбросы или какие-то ошибочные значения."
   ]
  },
  {
   "cell_type": "code",
   "execution_count": 15,
   "metadata": {},
   "outputs": [
    {
     "data": {
      "text/plain": [
       "<AxesSubplot:>"
      ]
     },
     "execution_count": 15,
     "metadata": {},
     "output_type": "execute_result"
    },
    {
     "data": {
      "image/png": "[encoded data removed]",
      "text/plain": [
       "<Figure size 432x288 with 1 Axes>"
      ]
     },
     "metadata": {
      "needs_background": "light"
     },
     "output_type": "display_data"
    }
   ],
   "source": [
    "data['Price'].hist(bins=50)"
   ]
  },
  {
   "cell_type": "code",
   "execution_count": 16,
   "metadata": {},
   "outputs": [
    {
     "data": {
      "text/plain": [
       "<AxesSubplot:xlabel='Price'>"
      ]
     },
     "execution_count": 16,
     "metadata": {},
     "output_type": "execute_result"
    },
    {
     "data": {
      "image/png": "[encoded data removed]",
      "text/plain": [
       "<Figure size 432x288 with 1 Axes>"
      ]
     },
     "metadata": {
      "needs_background": "light"
     },
     "output_type": "display_data"
    }
   ],
   "source": [
    "sns.boxplot(x=data['Price'])"
   ]
  },
  {
   "cell_type": "code",
   "execution_count": 17,
   "metadata": {},
   "outputs": [
    {
     "data": {
      "text/plain": [
       "<AxesSubplot:>"
      ]
     },
     "execution_count": 17,
     "metadata": {},
     "output_type": "execute_result"
    },
    {
     "data": {
      "image/png": "[encoded data removed]",
      "text/plain": [
       "<Figure size 432x288 with 1 Axes>"
      ]
     },
     "metadata": {
      "needs_background": "light"
     },
     "output_type": "display_data"
    }
   ],
   "source": [
    "data['Price'].hist(bins=50, range=(0, 2000))"
   ]
  },
  {
   "cell_type": "code",
   "execution_count": 18,
   "metadata": {},
   "outputs": [
    {
     "data": {
      "text/plain": [
       "<AxesSubplot:>"
      ]
     },
     "execution_count": 18,
     "metadata": {},
     "output_type": "execute_result"
    },
    {
     "data": {
      "image/png": "[encoded data removed]",
      "text/plain": [
       "<Figure size 432x288 with 1 Axes>"
      ]
     },
     "metadata": {
      "needs_background": "light"
     },
     "output_type": "display_data"
    }
   ],
   "source": [
    "data['Price'].hist(bins=50, range=(0, 500))"
   ]
  },
  {
   "cell_type": "markdown",
   "metadata": {},
   "source": [
    "Сложнее ситуация с низкими значениями цен. Мы видим большое количество нулевых значений. Также как правило продавцы ставят на свои автомобили круглые цены. И таких лотов, начиная со 100 евро, достаточно много. Попробуем удалить совсем низкие (меньше 99 евро) и нулевые значения."
   ]
  },
  {
   "cell_type": "code",
   "execution_count": 19,
   "metadata": {},
   "outputs": [],
   "source": [
    "data = data.query('Price > 99')"
   ]
  },
  {
   "cell_type": "code",
   "execution_count": 20,
   "metadata": {},
   "outputs": [
    {
     "data": {
      "text/plain": [
       "count    341051.000000\n",
       "mean       4588.887026\n",
       "std        4514.862284\n",
       "min         100.000000\n",
       "25%        1200.000000\n",
       "50%        2900.000000\n",
       "75%        6500.000000\n",
       "max       20000.000000\n",
       "Name: Price, dtype: float64"
      ]
     },
     "execution_count": 20,
     "metadata": {},
     "output_type": "execute_result"
    }
   ],
   "source": [
    "data['Price'].describe()"
   ]
  },
  {
   "cell_type": "markdown",
   "metadata": {},
   "source": [
    "### Тип кузова"
   ]
  },
  {
   "cell_type": "markdown",
   "metadata": {},
   "source": [
    "В этом столбце очень много пропусков, но все их можно заменить на 'other'."
   ]
  },
  {
   "cell_type": "code",
   "execution_count": 21,
   "metadata": {},
   "outputs": [
    {
     "data": {
      "text/plain": [
       "32612"
      ]
     },
     "execution_count": 21,
     "metadata": {},
     "output_type": "execute_result"
    }
   ],
   "source": [
    "data['VehicleType'].isna().sum()"
   ]
  },
  {
   "cell_type": "code",
   "execution_count": 22,
   "metadata": {},
   "outputs": [
    {
     "data": {
      "text/plain": [
       "array(['bus', 'convertible', 'coupe', 'other', 'sedan', 'small', 'suv',\n",
       "       'wagon', nan], dtype=object)"
      ]
     },
     "execution_count": 22,
     "metadata": {},
     "output_type": "execute_result"
    }
   ],
   "source": [
    "data['VehicleType'].sort_values().unique()"
   ]
  },
  {
   "cell_type": "code",
   "execution_count": 23,
   "metadata": {},
   "outputs": [],
   "source": [
    "data['VehicleType'] = data['VehicleType'].fillna('other')"
   ]
  },
  {
   "cell_type": "markdown",
   "metadata": {},
   "source": [
    "### Год регистрации автомобиля"
   ]
  },
  {
   "cell_type": "markdown",
   "metadata": {},
   "source": [
    "Пропусков нет, но есть нереальные значения годов."
   ]
  },
  {
   "cell_type": "code",
   "execution_count": 24,
   "metadata": {},
   "outputs": [
    {
     "data": {
      "text/plain": [
       "0"
      ]
     },
     "execution_count": 24,
     "metadata": {},
     "output_type": "execute_result"
    }
   ],
   "source": [
    "data['RegistrationYear'].isna().sum()"
   ]
  },
  {
   "cell_type": "code",
   "execution_count": 25,
   "metadata": {},
   "outputs": [
    {
     "data": {
      "text/plain": [
       "array([1000, 1001, 1039, 1111, 1234, 1255, 1300, 1400, 1500, 1600, 1602,\n",
       "       1800, 1910, 1923, 1925, 1927, 1928, 1929, 1930, 1931, 1932, 1933,\n",
       "       1934, 1935, 1936, 1937, 1938, 1940, 1941, 1942, 1943, 1944, 1945,\n",
       "       1946, 1947, 1948, 1949, 1950, 1951, 1952, 1953, 1954, 1955, 1956,\n",
       "       1957, 1958, 1959, 1960, 1961, 1962, 1963, 1964, 1965, 1966, 1967,\n",
       "       1968, 1969, 1970, 1971, 1972, 1973, 1974, 1975, 1976, 1977, 1978,\n",
       "       1979, 1980, 1981, 1982, 1983, 1984, 1985, 1986, 1987, 1988, 1989,\n",
       "       1990, 1991, 1992, 1993, 1994, 1995, 1996, 1997, 1998, 1999, 2000,\n",
       "       2001, 2002, 2003, 2004, 2005, 2006, 2007, 2008, 2009, 2010, 2011,\n",
       "       2012, 2013, 2014, 2015, 2016, 2017, 2018, 2019, 2066, 2200, 2222,\n",
       "       2290, 2500, 2800, 2900, 3000, 3200, 3700, 3800, 4000, 4100, 4500,\n",
       "       4800, 5000, 5300, 5555, 5600, 5900, 5911, 6000, 7000, 7100, 7800,\n",
       "       8200, 8500, 8888, 9000, 9450, 9999])"
      ]
     },
     "execution_count": 25,
     "metadata": {},
     "output_type": "execute_result"
    }
   ],
   "source": [
    "data['RegistrationYear'].sort_values().unique()"
   ]
  },
  {
   "cell_type": "code",
   "execution_count": 26,
   "metadata": {},
   "outputs": [
    {
     "data": {
      "text/plain": [
       "<AxesSubplot:>"
      ]
     },
     "execution_count": 26,
     "metadata": {},
     "output_type": "execute_result"
    },
    {
     "data": {
      "image/png": "[encoded data removed]",
      "text/plain": [
       "<Figure size 432x288 with 1 Axes>"
      ]
     },
     "metadata": {
      "needs_background": "light"
     },
     "output_type": "display_data"
    }
   ],
   "source": [
    "data['RegistrationYear'].hist(bins=50, range=(1960, 2030))"
   ]
  },
  {
   "cell_type": "markdown",
   "metadata": {},
   "source": [
    "Судя по гистограмме, основная масса продаваемых автомобилей произведена в 1990-2019 гг. Немного расширим этот диапазон за счет 1980-х, остальные значения удалим."
   ]
  },
  {
   "cell_type": "code",
   "execution_count": 27,
   "metadata": {},
   "outputs": [],
   "source": [
    "data = data.query('RegistrationYear > 1985 & RegistrationYear < 2017')"
   ]
  },
  {
   "cell_type": "code",
   "execution_count": 28,
   "metadata": {},
   "outputs": [
    {
     "data": {
      "text/plain": [
       "array([1986, 1987, 1988, 1989, 1990, 1991, 1992, 1993, 1994, 1995, 1996,\n",
       "       1997, 1998, 1999, 2000, 2001, 2002, 2003, 2004, 2005, 2006, 2007,\n",
       "       2008, 2009, 2010, 2011, 2012, 2013, 2014, 2015, 2016])"
      ]
     },
     "execution_count": 28,
     "metadata": {},
     "output_type": "execute_result"
    }
   ],
   "source": [
    "data['RegistrationYear'].sort_values().unique()"
   ]
  },
  {
   "cell_type": "markdown",
   "metadata": {},
   "source": [
    "### Тип коробки передач"
   ]
  },
  {
   "cell_type": "markdown",
   "metadata": {},
   "source": [
    "В этом столбце также много пропусков. Если их удалить, то потеряем большое количество данных. Поэтому заменим на 'unknown'."
   ]
  },
  {
   "cell_type": "code",
   "execution_count": 29,
   "metadata": {},
   "outputs": [
    {
     "data": {
      "text/plain": [
       "13753"
      ]
     },
     "execution_count": 29,
     "metadata": {},
     "output_type": "execute_result"
    }
   ],
   "source": [
    "data['Gearbox'].isna().sum()"
   ]
  },
  {
   "cell_type": "code",
   "execution_count": 30,
   "metadata": {},
   "outputs": [
    {
     "data": {
      "text/plain": [
       "array(['auto', 'manual', nan], dtype=object)"
      ]
     },
     "execution_count": 30,
     "metadata": {},
     "output_type": "execute_result"
    }
   ],
   "source": [
    "data['Gearbox'].sort_values().unique()"
   ]
  },
  {
   "cell_type": "code",
   "execution_count": 31,
   "metadata": {},
   "outputs": [
    {
     "data": {
      "text/plain": [
       "manual    246454\n",
       "auto       61657\n",
       "Name: Gearbox, dtype: int64"
      ]
     },
     "execution_count": 31,
     "metadata": {},
     "output_type": "execute_result"
    }
   ],
   "source": [
    "data['Gearbox'].value_counts()"
   ]
  },
  {
   "cell_type": "code",
   "execution_count": 32,
   "metadata": {},
   "outputs": [],
   "source": [
    "data['Gearbox'] = data['Gearbox'].fillna('unknown')"
   ]
  },
  {
   "cell_type": "markdown",
   "metadata": {},
   "source": [
    "### Мощность (л.с.)"
   ]
  },
  {
   "cell_type": "markdown",
   "metadata": {},
   "source": [
    "Пропусков нет, но есть другие проблемы. Есть как нулевые, так и очень высокие значения."
   ]
  },
  {
   "cell_type": "code",
   "execution_count": 33,
   "metadata": {},
   "outputs": [
    {
     "data": {
      "text/plain": [
       "0"
      ]
     },
     "execution_count": 33,
     "metadata": {},
     "output_type": "execute_result"
    }
   ],
   "source": [
    "data['Power'].isna().sum()"
   ]
  },
  {
   "cell_type": "code",
   "execution_count": 34,
   "metadata": {},
   "outputs": [
    {
     "data": {
      "text/plain": [
       "count    321864.000000\n",
       "mean        112.885045\n",
       "std         184.382251\n",
       "min           0.000000\n",
       "25%          74.000000\n",
       "50%         105.000000\n",
       "75%         143.000000\n",
       "max       20000.000000\n",
       "Name: Power, dtype: float64"
      ]
     },
     "execution_count": 34,
     "metadata": {},
     "output_type": "execute_result"
    }
   ],
   "source": [
    "data['Power'].describe()"
   ]
  },
  {
   "cell_type": "code",
   "execution_count": 35,
   "metadata": {},
   "outputs": [
    {
     "data": {
      "text/plain": [
       "<AxesSubplot:>"
      ]
     },
     "execution_count": 35,
     "metadata": {},
     "output_type": "execute_result"
    },
    {
     "data": {
      "image/png": "[encoded data removed]",
      "text/plain": [
       "<Figure size 432x288 with 1 Axes>"
      ]
     },
     "metadata": {
      "needs_background": "light"
     },
     "output_type": "display_data"
    }
   ],
   "source": [
    "data['Power'].hist(bins=50, range=(0, 1000))"
   ]
  },
  {
   "cell_type": "markdown",
   "metadata": {},
   "source": [
    "До мощности 400 лс продается заментное количество автомобилей. Можно поверить, что в таблице есть такие лоты. Все что дальше, похоже на ошибки и выбросы. Попробуем разделить слишком высокие значения на 100. Таким образом, максимальным значением в таблице у нас останется 400. Остальные приобретут более реальные значения."
   ]
  },
  {
   "cell_type": "code",
   "execution_count": 36,
   "metadata": {},
   "outputs": [],
   "source": [
    "data.loc[data['Power'] > 400, 'Power'] = data['Power'] / 100"
   ]
  },
  {
   "cell_type": "code",
   "execution_count": 37,
   "metadata": {},
   "outputs": [
    {
     "data": {
      "text/plain": [
       "count    321864.000000\n",
       "mean        108.998868\n",
       "std          61.129260\n",
       "min           0.000000\n",
       "25%          73.000000\n",
       "50%         105.000000\n",
       "75%         143.000000\n",
       "max         400.000000\n",
       "Name: Power, dtype: float64"
      ]
     },
     "execution_count": 37,
     "metadata": {},
     "output_type": "execute_result"
    }
   ],
   "source": [
    "data['Power'].describe()"
   ]
  },
  {
   "cell_type": "code",
   "execution_count": 38,
   "metadata": {},
   "outputs": [
    {
     "data": {
      "text/plain": [
       "<AxesSubplot:>"
      ]
     },
     "execution_count": 38,
     "metadata": {},
     "output_type": "execute_result"
    },
    {
     "data": {
      "image/png": "[encoded data removed]",
      "text/plain": [
       "<Figure size 432x288 with 1 Axes>"
      ]
     },
     "metadata": {
      "needs_background": "light"
     },
     "output_type": "display_data"
    }
   ],
   "source": [
    "data['Power'].hist(bins=50, range=(0, 100))"
   ]
  },
  {
   "cell_type": "markdown",
   "metadata": {},
   "source": [
    "Теперь разберемся с минимальными значениями. Здесь есть смысл оставить диапазон с 40 лс. Так как у нас очень много нулевых значений, и их удаление повлияет на качество обучения, то заменим все значения ниже 40 средним."
   ]
  },
  {
   "cell_type": "code",
   "execution_count": 39,
   "metadata": {},
   "outputs": [],
   "source": [
    "data.loc[data['Power'] < 40, 'Power'] = data['Power'].mean()"
   ]
  },
  {
   "cell_type": "code",
   "execution_count": 40,
   "metadata": {},
   "outputs": [
    {
     "data": {
      "text/plain": [
       "count    321864.000000\n",
       "mean        119.623234\n",
       "std          49.714808\n",
       "min          40.000000\n",
       "25%          85.000000\n",
       "50%         108.998868\n",
       "75%         143.000000\n",
       "max         400.000000\n",
       "Name: Power, dtype: float64"
      ]
     },
     "execution_count": 40,
     "metadata": {},
     "output_type": "execute_result"
    }
   ],
   "source": [
    "data['Power'].describe()"
   ]
  },
  {
   "cell_type": "markdown",
   "metadata": {},
   "source": [
    "### Модель автомобиля"
   ]
  },
  {
   "cell_type": "markdown",
   "metadata": {},
   "source": [
    "Пропуски в модели автомобиля заменим на пустую строку."
   ]
  },
  {
   "cell_type": "code",
   "execution_count": 41,
   "metadata": {},
   "outputs": [
    {
     "data": {
      "text/plain": [
       "14123"
      ]
     },
     "execution_count": 41,
     "metadata": {},
     "output_type": "execute_result"
    }
   ],
   "source": [
    "data['Model'].isna().sum()"
   ]
  },
  {
   "cell_type": "code",
   "execution_count": 42,
   "metadata": {
    "scrolled": true
   },
   "outputs": [
    {
     "data": {
      "text/plain": [
       "array(['100', '145', '147', '156', '159', '1_reihe', '1er', '200',\n",
       "       '2_reihe', '300c', '3_reihe', '3er', '4_reihe', '500', '5_reihe',\n",
       "       '5er', '601', '6_reihe', '6er', '7er', '80', '850', '90', '900',\n",
       "       '9000', '911', 'a1', 'a2', 'a3', 'a4', 'a5', 'a6', 'a8',\n",
       "       'a_klasse', 'accord', 'agila', 'alhambra', 'almera', 'altea',\n",
       "       'amarok', 'antara', 'arosa', 'astra', 'auris', 'avensis', 'aveo',\n",
       "       'aygo', 'b_klasse', 'b_max', 'beetle', 'berlingo', 'bora',\n",
       "       'boxster', 'bravo', 'c1', 'c2', 'c3', 'c4', 'c5', 'c_klasse',\n",
       "       'c_max', 'c_reihe', 'caddy', 'calibra', 'captiva', 'carisma',\n",
       "       'carnival', 'cayenne', 'cc', 'ceed', 'charade', 'cherokee',\n",
       "       'citigo', 'civic', 'cl', 'clio', 'clk', 'clubman', 'colt', 'combo',\n",
       "       'cooper', 'cordoba', 'corolla', 'corsa', 'cr_reihe', 'croma',\n",
       "       'crossfire', 'cuore', 'cx_reihe', 'defender', 'delta', 'discovery',\n",
       "       'doblo', 'ducato', 'duster', 'e_klasse', 'elefantino', 'eos',\n",
       "       'escort', 'espace', 'exeo', 'fabia', 'fiesta', 'focus', 'forester',\n",
       "       'forfour', 'fortwo', 'fox', 'freelander', 'fusion', 'g_klasse',\n",
       "       'galant', 'galaxy', 'getz', 'gl', 'glk', 'golf', 'grand', 'i3',\n",
       "       'i_reihe', 'ibiza', 'impreza', 'insignia', 'jazz', 'jetta',\n",
       "       'jimny', 'juke', 'justy', 'ka', 'kadett', 'kaefer', 'kalina',\n",
       "       'kalos', 'kangoo', 'kappa', 'kuga', 'laguna', 'lancer', 'lanos',\n",
       "       'legacy', 'leon', 'lodgy', 'logan', 'lupo', 'lybra', 'm_klasse',\n",
       "       'm_reihe', 'materia', 'matiz', 'megane', 'meriva', 'micra', 'mii',\n",
       "       'modus', 'mondeo', 'move', 'musa', 'mustang', 'mx_reihe', 'navara',\n",
       "       'niva', 'note', 'nubira', 'octavia', 'omega', 'one', 'other',\n",
       "       'outlander', 'pajero', 'panda', 'passat', 'phaeton', 'picanto',\n",
       "       'polo', 'primera', 'ptcruiser', 'punto', 'q3', 'q5', 'q7',\n",
       "       'qashqai', 'r19', 'range_rover', 'range_rover_evoque',\n",
       "       'range_rover_sport', 'rangerover', 'rav', 'rio', 'roadster',\n",
       "       'roomster', 'rx_reihe', 's60', 's_klasse', 's_max', 's_type',\n",
       "       'samara', 'sandero', 'santa', 'scenic', 'scirocco', 'seicento',\n",
       "       'sharan', 'signum', 'sirion', 'sl', 'slk', 'sorento', 'spark',\n",
       "       'spider', 'sportage', 'sprinter', 'stilo', 'superb', 'swift',\n",
       "       'terios', 'tigra', 'tiguan', 'toledo', 'touareg', 'touran',\n",
       "       'transit', 'transporter', 'tt', 'tucson', 'twingo', 'up', 'v40',\n",
       "       'v50', 'v60', 'v70', 'v_klasse', 'vectra', 'verso', 'viano',\n",
       "       'vito', 'vivaro', 'voyager', 'wrangler', 'x_reihe', 'x_trail',\n",
       "       'x_type', 'xc_reihe', 'yaris', 'yeti', 'ypsilon', 'z_reihe',\n",
       "       'zafira', nan], dtype=object)"
      ]
     },
     "execution_count": 42,
     "metadata": {},
     "output_type": "execute_result"
    }
   ],
   "source": [
    "data['Model'].sort_values().unique()"
   ]
  },
  {
   "cell_type": "code",
   "execution_count": 43,
   "metadata": {},
   "outputs": [],
   "source": [
    "data['Model'] = data['Model'].fillna('')"
   ]
  },
  {
   "cell_type": "markdown",
   "metadata": {},
   "source": [
    "### Пробег (км)"
   ]
  },
  {
   "cell_type": "markdown",
   "metadata": {},
   "source": [
    "В пробеге пропусков нет. Сами значения пока не трогаем."
   ]
  },
  {
   "cell_type": "code",
   "execution_count": 44,
   "metadata": {},
   "outputs": [
    {
     "data": {
      "text/plain": [
       "0"
      ]
     },
     "execution_count": 44,
     "metadata": {},
     "output_type": "execute_result"
    }
   ],
   "source": [
    "data['Kilometer'].isna().sum()"
   ]
  },
  {
   "cell_type": "code",
   "execution_count": 45,
   "metadata": {},
   "outputs": [
    {
     "data": {
      "text/plain": [
       "count    321864.000000\n",
       "mean     128885.383267\n",
       "std       36739.060889\n",
       "min        5000.000000\n",
       "25%      125000.000000\n",
       "50%      150000.000000\n",
       "75%      150000.000000\n",
       "max      150000.000000\n",
       "Name: Kilometer, dtype: float64"
      ]
     },
     "execution_count": 45,
     "metadata": {},
     "output_type": "execute_result"
    }
   ],
   "source": [
    "data['Kilometer'].describe()"
   ]
  },
  {
   "cell_type": "code",
   "execution_count": 46,
   "metadata": {
    "scrolled": true
   },
   "outputs": [
    {
     "data": {
      "text/plain": [
       "<AxesSubplot:>"
      ]
     },
     "execution_count": 46,
     "metadata": {},
     "output_type": "execute_result"
    },
    {
     "data": {
      "image/png": "[encoded data removed]",
      "text/plain": [
       "<Figure size 432x288 with 1 Axes>"
      ]
     },
     "metadata": {
      "needs_background": "light"
     },
     "output_type": "display_data"
    }
   ],
   "source": [
    "data['Kilometer'].hist(bins=30)"
   ]
  },
  {
   "cell_type": "code",
   "execution_count": 47,
   "metadata": {
    "scrolled": true
   },
   "outputs": [
    {
     "data": {
      "text/plain": [
       "150000    216984\n",
       "125000     33785\n",
       "100000     13351\n",
       "90000      10731\n",
       "80000       9275\n",
       "70000       7987\n",
       "60000       6975\n",
       "50000       5764\n",
       "40000       4599\n",
       "30000       4039\n",
       "5000        3932\n",
       "20000       3495\n",
       "10000        947\n",
       "Name: Kilometer, dtype: int64"
      ]
     },
     "execution_count": 47,
     "metadata": {},
     "output_type": "execute_result"
    }
   ],
   "source": [
    "data['Kilometer'].value_counts()"
   ]
  },
  {
   "cell_type": "markdown",
   "metadata": {},
   "source": [
    "### Месяц регистрации автомобиля"
   ]
  },
  {
   "cell_type": "markdown",
   "metadata": {},
   "source": [
    "Пропусков нет. Помимо того, что есть нулевой месяц, других странностей нет. Пока не трогаем этот столбец."
   ]
  },
  {
   "cell_type": "code",
   "execution_count": 48,
   "metadata": {},
   "outputs": [
    {
     "data": {
      "text/plain": [
       "0"
      ]
     },
     "execution_count": 48,
     "metadata": {},
     "output_type": "execute_result"
    }
   ],
   "source": [
    "data['RegistrationMonth'].isna().sum()"
   ]
  },
  {
   "cell_type": "code",
   "execution_count": 49,
   "metadata": {},
   "outputs": [
    {
     "data": {
      "text/plain": [
       "array([ 0,  1,  2,  3,  4,  5,  6,  7,  8,  9, 10, 11, 12])"
      ]
     },
     "execution_count": 49,
     "metadata": {},
     "output_type": "execute_result"
    }
   ],
   "source": [
    "data['RegistrationMonth'].sort_values().unique()"
   ]
  },
  {
   "cell_type": "code",
   "execution_count": 50,
   "metadata": {},
   "outputs": [
    {
     "data": {
      "text/plain": [
       "<AxesSubplot:>"
      ]
     },
     "execution_count": 50,
     "metadata": {},
     "output_type": "execute_result"
    },
    {
     "data": {
      "image/png": "[encoded data removed]",
      "text/plain": [
       "<Figure size 432x288 with 1 Axes>"
      ]
     },
     "metadata": {
      "needs_background": "light"
     },
     "output_type": "display_data"
    }
   ],
   "source": [
    "data['RegistrationMonth'].hist(bins=13)"
   ]
  },
  {
   "cell_type": "markdown",
   "metadata": {},
   "source": [
    "### Тип топлива"
   ]
  },
  {
   "cell_type": "markdown",
   "metadata": {},
   "source": [
    "Заменим пропуски на 'other', который уже присутствует в таблице."
   ]
  },
  {
   "cell_type": "code",
   "execution_count": 51,
   "metadata": {},
   "outputs": [
    {
     "data": {
      "text/plain": [
       "22190"
      ]
     },
     "execution_count": 51,
     "metadata": {},
     "output_type": "execute_result"
    }
   ],
   "source": [
    "data['FuelType'].isna().sum()"
   ]
  },
  {
   "cell_type": "code",
   "execution_count": 52,
   "metadata": {},
   "outputs": [
    {
     "data": {
      "text/plain": [
       "array(['cng', 'electric', 'gasoline', 'hybrid', 'lpg', 'other', 'petrol',\n",
       "       nan], dtype=object)"
      ]
     },
     "execution_count": 52,
     "metadata": {},
     "output_type": "execute_result"
    }
   ],
   "source": [
    "data['FuelType'].sort_values().unique()"
   ]
  },
  {
   "cell_type": "code",
   "execution_count": 53,
   "metadata": {},
   "outputs": [
    {
     "data": {
      "text/plain": [
       "petrol      199538\n",
       "gasoline     94221\n",
       "lpg           4971\n",
       "cng            526\n",
       "hybrid         219\n",
       "other          114\n",
       "electric        85\n",
       "Name: FuelType, dtype: int64"
      ]
     },
     "execution_count": 53,
     "metadata": {},
     "output_type": "execute_result"
    }
   ],
   "source": [
    "data['FuelType'].value_counts()"
   ]
  },
  {
   "cell_type": "code",
   "execution_count": 54,
   "metadata": {},
   "outputs": [],
   "source": [
    "data['FuelType'] = data['FuelType'].fillna('other')"
   ]
  },
  {
   "cell_type": "markdown",
   "metadata": {},
   "source": [
    "### Марка автомобиля"
   ]
  },
  {
   "cell_type": "markdown",
   "metadata": {},
   "source": [
    "Здесь все ок, оставим как есть."
   ]
  },
  {
   "cell_type": "code",
   "execution_count": 55,
   "metadata": {},
   "outputs": [
    {
     "data": {
      "text/plain": [
       "0"
      ]
     },
     "execution_count": 55,
     "metadata": {},
     "output_type": "execute_result"
    }
   ],
   "source": [
    "data['Brand'].isna().sum()"
   ]
  },
  {
   "cell_type": "code",
   "execution_count": 56,
   "metadata": {},
   "outputs": [
    {
     "data": {
      "text/plain": [
       "array(['alfa_romeo', 'audi', 'bmw', 'chevrolet', 'chrysler', 'citroen',\n",
       "       'dacia', 'daewoo', 'daihatsu', 'fiat', 'ford', 'honda', 'hyundai',\n",
       "       'jaguar', 'jeep', 'kia', 'lada', 'lancia', 'land_rover', 'mazda',\n",
       "       'mercedes_benz', 'mini', 'mitsubishi', 'nissan', 'opel', 'peugeot',\n",
       "       'porsche', 'renault', 'rover', 'saab', 'seat', 'skoda', 'smart',\n",
       "       'sonstige_autos', 'subaru', 'suzuki', 'toyota', 'trabant',\n",
       "       'volkswagen', 'volvo'], dtype=object)"
      ]
     },
     "execution_count": 56,
     "metadata": {},
     "output_type": "execute_result"
    }
   ],
   "source": [
    "data['Brand'].sort_values().unique()"
   ]
  },
  {
   "cell_type": "markdown",
   "metadata": {},
   "source": [
    "### Была ли машина в ремонте"
   ]
  },
  {
   "cell_type": "markdown",
   "metadata": {},
   "source": [
    "Заменим пропуски на 'unknown'."
   ]
  },
  {
   "cell_type": "code",
   "execution_count": 57,
   "metadata": {},
   "outputs": [
    {
     "data": {
      "text/plain": [
       "56812"
      ]
     },
     "execution_count": 57,
     "metadata": {},
     "output_type": "execute_result"
    }
   ],
   "source": [
    "data['Repaired'].isna().sum()"
   ]
  },
  {
   "cell_type": "code",
   "execution_count": 58,
   "metadata": {},
   "outputs": [
    {
     "data": {
      "text/plain": [
       "array(['no', 'yes', nan], dtype=object)"
      ]
     },
     "execution_count": 58,
     "metadata": {},
     "output_type": "execute_result"
    }
   ],
   "source": [
    "data['Repaired'].sort_values().unique()"
   ]
  },
  {
   "cell_type": "code",
   "execution_count": 59,
   "metadata": {},
   "outputs": [],
   "source": [
    "data['Repaired'] = data['Repaired'].fillna('unknown')"
   ]
  },
  {
   "cell_type": "code",
   "execution_count": 60,
   "metadata": {},
   "outputs": [
    {
     "data": {
      "text/plain": [
       "no         233139\n",
       "unknown     56812\n",
       "yes         31913\n",
       "Name: Repaired, dtype: int64"
      ]
     },
     "execution_count": 60,
     "metadata": {},
     "output_type": "execute_result"
    }
   ],
   "source": [
    "data['Repaired'].value_counts()"
   ]
  },
  {
   "cell_type": "markdown",
   "metadata": {},
   "source": [
    "### Дата создания анкеты"
   ]
  },
  {
   "cell_type": "markdown",
   "metadata": {},
   "source": [
    "Без изменений."
   ]
  },
  {
   "cell_type": "code",
   "execution_count": 61,
   "metadata": {},
   "outputs": [
    {
     "data": {
      "text/plain": [
       "0"
      ]
     },
     "execution_count": 61,
     "metadata": {},
     "output_type": "execute_result"
    }
   ],
   "source": [
    "data['DateCreated'].isna().sum()"
   ]
  },
  {
   "cell_type": "code",
   "execution_count": 62,
   "metadata": {},
   "outputs": [
    {
     "data": {
      "text/plain": [
       "0         2016-03-24 00:00:00\n",
       "1         2016-03-24 00:00:00\n",
       "2         2016-03-14 00:00:00\n",
       "3         2016-03-17 00:00:00\n",
       "4         2016-03-31 00:00:00\n",
       "                 ...         \n",
       "354363    2016-03-27 00:00:00\n",
       "354365    2016-03-14 00:00:00\n",
       "354366    2016-03-05 00:00:00\n",
       "354367    2016-03-19 00:00:00\n",
       "354368    2016-03-20 00:00:00\n",
       "Name: DateCreated, Length: 321864, dtype: object"
      ]
     },
     "execution_count": 62,
     "metadata": {},
     "output_type": "execute_result"
    }
   ],
   "source": [
    "data['DateCreated']"
   ]
  },
  {
   "cell_type": "markdown",
   "metadata": {},
   "source": [
    "### Количество фотографий автомобиля"
   ]
  },
  {
   "cell_type": "markdown",
   "metadata": {},
   "source": [
    "В столбце единственное значение - 0."
   ]
  },
  {
   "cell_type": "code",
   "execution_count": 63,
   "metadata": {},
   "outputs": [
    {
     "data": {
      "text/plain": [
       "0"
      ]
     },
     "execution_count": 63,
     "metadata": {},
     "output_type": "execute_result"
    }
   ],
   "source": [
    "data['NumberOfPictures'].isna().sum()"
   ]
  },
  {
   "cell_type": "code",
   "execution_count": 64,
   "metadata": {},
   "outputs": [
    {
     "data": {
      "text/plain": [
       "array([0])"
      ]
     },
     "execution_count": 64,
     "metadata": {},
     "output_type": "execute_result"
    }
   ],
   "source": [
    "data['NumberOfPictures'].unique()"
   ]
  },
  {
   "cell_type": "markdown",
   "metadata": {},
   "source": [
    "### Почтовый индекс владельца анкеты"
   ]
  },
  {
   "cell_type": "code",
   "execution_count": 65,
   "metadata": {},
   "outputs": [
    {
     "data": {
      "text/plain": [
       "0"
      ]
     },
     "execution_count": 65,
     "metadata": {},
     "output_type": "execute_result"
    }
   ],
   "source": [
    "data['PostalCode'].isna().sum()"
   ]
  },
  {
   "cell_type": "code",
   "execution_count": 66,
   "metadata": {},
   "outputs": [
    {
     "data": {
      "text/plain": [
       "0         70435\n",
       "1         66954\n",
       "2         90480\n",
       "3         91074\n",
       "4         60437\n",
       "          ...  \n",
       "354363    26624\n",
       "354365    39576\n",
       "354366    26135\n",
       "354367    87439\n",
       "354368    40764\n",
       "Name: PostalCode, Length: 321864, dtype: int64"
      ]
     },
     "execution_count": 66,
     "metadata": {},
     "output_type": "execute_result"
    }
   ],
   "source": [
    "data['PostalCode']"
   ]
  },
  {
   "cell_type": "markdown",
   "metadata": {},
   "source": [
    "### Дата последней активности пользователя"
   ]
  },
  {
   "cell_type": "markdown",
   "metadata": {},
   "source": [
    "Без изменений."
   ]
  },
  {
   "cell_type": "code",
   "execution_count": 67,
   "metadata": {},
   "outputs": [
    {
     "data": {
      "text/plain": [
       "0"
      ]
     },
     "execution_count": 67,
     "metadata": {},
     "output_type": "execute_result"
    }
   ],
   "source": [
    "data['LastSeen'].isna().sum()"
   ]
  },
  {
   "cell_type": "code",
   "execution_count": 68,
   "metadata": {},
   "outputs": [
    {
     "data": {
      "text/plain": [
       "0         2016-04-07 03:16:57\n",
       "1         2016-04-07 01:46:50\n",
       "2         2016-04-05 12:47:46\n",
       "3         2016-03-17 17:40:17\n",
       "4         2016-04-06 10:17:21\n",
       "                 ...         \n",
       "354363    2016-03-29 10:17:23\n",
       "354365    2016-04-06 00:46:52\n",
       "354366    2016-03-11 18:17:12\n",
       "354367    2016-04-07 07:15:26\n",
       "354368    2016-03-24 12:45:21\n",
       "Name: LastSeen, Length: 321864, dtype: object"
      ]
     },
     "execution_count": 68,
     "metadata": {},
     "output_type": "execute_result"
    }
   ],
   "source": [
    "data['LastSeen']"
   ]
  },
  {
   "cell_type": "markdown",
   "metadata": {},
   "source": [
    "### Итог"
   ]
  },
  {
   "cell_type": "markdown",
   "metadata": {},
   "source": [
    "По итогам обработки данных, мы удалили все пропуски и аномальные значения, заменили их на другие значения, где это было возможно. Сбросим индекс и перейдем к следующему этапу."
   ]
  },
  {
   "cell_type": "code",
   "execution_count": 69,
   "metadata": {},
   "outputs": [
    {
     "name": "stdout",
     "output_type": "stream",
     "text": [
      "<class 'pandas.core.frame.DataFrame'>\n",
      "Int64Index: 321864 entries, 0 to 354368\n",
      "Data columns (total 16 columns):\n",
      " #   Column             Non-Null Count   Dtype  \n",
      "---  ------             --------------   -----  \n",
      " 0   DateCrawled        321864 non-null  int64  \n",
      " 1   Price              321864 non-null  int64  \n",
      " 2   VehicleType        321864 non-null  object \n",
      " 3   RegistrationYear   321864 non-null  int64  \n",
      " 4   Gearbox            321864 non-null  object \n",
      " 5   Power              321864 non-null  float64\n",
      " 6   Model              321864 non-null  object \n",
      " 7   Kilometer          321864 non-null  int64  \n",
      " 8   RegistrationMonth  321864 non-null  int64  \n",
      " 9   FuelType           321864 non-null  object \n",
      " 10  Brand              321864 non-null  object \n",
      " 11  Repaired           321864 non-null  object \n",
      " 12  DateCreated        321864 non-null  object \n",
      " 13  NumberOfPictures   321864 non-null  int64  \n",
      " 14  PostalCode         321864 non-null  int64  \n",
      " 15  LastSeen           321864 non-null  object \n",
      "dtypes: float64(1), int64(7), object(8)\n",
      "memory usage: 49.8+ MB\n"
     ]
    }
   ],
   "source": [
    "data.info()"
   ]
  },
  {
   "cell_type": "code",
   "execution_count": 70,
   "metadata": {},
   "outputs": [
    {
     "data": {
      "text/plain": [
       "DateCrawled          0\n",
       "Price                0\n",
       "VehicleType          0\n",
       "RegistrationYear     0\n",
       "Gearbox              0\n",
       "Power                0\n",
       "Model                0\n",
       "Kilometer            0\n",
       "RegistrationMonth    0\n",
       "FuelType             0\n",
       "Brand                0\n",
       "Repaired             0\n",
       "DateCreated          0\n",
       "NumberOfPictures     0\n",
       "PostalCode           0\n",
       "LastSeen             0\n",
       "dtype: int64"
      ]
     },
     "execution_count": 70,
     "metadata": {},
     "output_type": "execute_result"
    }
   ],
   "source": [
    "data.isna().sum()"
   ]
  },
  {
   "cell_type": "code",
   "execution_count": 71,
   "metadata": {},
   "outputs": [
    {
     "data": {
      "text/plain": [
       "83"
      ]
     },
     "execution_count": 71,
     "metadata": {},
     "output_type": "execute_result"
    }
   ],
   "source": [
    "data.duplicated().sum()"
   ]
  },
  {
   "cell_type": "code",
   "execution_count": 72,
   "metadata": {},
   "outputs": [],
   "source": [
    "data = data.drop_duplicates()"
   ]
  },
  {
   "cell_type": "code",
   "execution_count": 73,
   "metadata": {},
   "outputs": [],
   "source": [
    "data = data.reset_index(drop=True)"
   ]
  },
  {
   "cell_type": "code",
   "execution_count": 74,
   "metadata": {},
   "outputs": [
    {
     "data": {
      "text/html": [
       "<div>\n",
       "<style scoped>\n",
       "    .dataframe tbody tr th:only-of-type {\n",
       "        vertical-align: middle;\n",
       "    }\n",
       "\n",
       "    .dataframe tbody tr th {\n",
       "        vertical-align: top;\n",
       "    }\n",
       "\n",
       "    .dataframe thead th {\n",
       "        text-align: right;\n",
       "    }\n",
       "</style>\n",
       "<table border=\"1\" class=\"dataframe\">\n",
       "  <thead>\n",
       "    <tr style=\"text-align: right;\">\n",
       "      <th></th>\n",
       "      <th>DateCrawled</th>\n",
       "      <th>Price</th>\n",
       "      <th>VehicleType</th>\n",
       "      <th>RegistrationYear</th>\n",
       "      <th>Gearbox</th>\n",
       "      <th>Power</th>\n",
       "      <th>Model</th>\n",
       "      <th>Kilometer</th>\n",
       "      <th>RegistrationMonth</th>\n",
       "      <th>FuelType</th>\n",
       "      <th>Brand</th>\n",
       "      <th>Repaired</th>\n",
       "      <th>DateCreated</th>\n",
       "      <th>NumberOfPictures</th>\n",
       "      <th>PostalCode</th>\n",
       "      <th>LastSeen</th>\n",
       "    </tr>\n",
       "  </thead>\n",
       "  <tbody>\n",
       "    <tr>\n",
       "      <th>0</th>\n",
       "      <td>2016</td>\n",
       "      <td>480</td>\n",
       "      <td>other</td>\n",
       "      <td>1993</td>\n",
       "      <td>manual</td>\n",
       "      <td>108.998868</td>\n",
       "      <td>golf</td>\n",
       "      <td>150000</td>\n",
       "      <td>0</td>\n",
       "      <td>petrol</td>\n",
       "      <td>volkswagen</td>\n",
       "      <td>unknown</td>\n",
       "      <td>2016-03-24 00:00:00</td>\n",
       "      <td>0</td>\n",
       "      <td>70435</td>\n",
       "      <td>2016-04-07 03:16:57</td>\n",
       "    </tr>\n",
       "    <tr>\n",
       "      <th>1</th>\n",
       "      <td>2016</td>\n",
       "      <td>18300</td>\n",
       "      <td>coupe</td>\n",
       "      <td>2011</td>\n",
       "      <td>manual</td>\n",
       "      <td>190.000000</td>\n",
       "      <td></td>\n",
       "      <td>125000</td>\n",
       "      <td>5</td>\n",
       "      <td>gasoline</td>\n",
       "      <td>audi</td>\n",
       "      <td>yes</td>\n",
       "      <td>2016-03-24 00:00:00</td>\n",
       "      <td>0</td>\n",
       "      <td>66954</td>\n",
       "      <td>2016-04-07 01:46:50</td>\n",
       "    </tr>\n",
       "    <tr>\n",
       "      <th>2</th>\n",
       "      <td>2016</td>\n",
       "      <td>9800</td>\n",
       "      <td>suv</td>\n",
       "      <td>2004</td>\n",
       "      <td>auto</td>\n",
       "      <td>163.000000</td>\n",
       "      <td>grand</td>\n",
       "      <td>125000</td>\n",
       "      <td>8</td>\n",
       "      <td>gasoline</td>\n",
       "      <td>jeep</td>\n",
       "      <td>unknown</td>\n",
       "      <td>2016-03-14 00:00:00</td>\n",
       "      <td>0</td>\n",
       "      <td>90480</td>\n",
       "      <td>2016-04-05 12:47:46</td>\n",
       "    </tr>\n",
       "    <tr>\n",
       "      <th>3</th>\n",
       "      <td>2016</td>\n",
       "      <td>1500</td>\n",
       "      <td>small</td>\n",
       "      <td>2001</td>\n",
       "      <td>manual</td>\n",
       "      <td>75.000000</td>\n",
       "      <td>golf</td>\n",
       "      <td>150000</td>\n",
       "      <td>6</td>\n",
       "      <td>petrol</td>\n",
       "      <td>volkswagen</td>\n",
       "      <td>no</td>\n",
       "      <td>2016-03-17 00:00:00</td>\n",
       "      <td>0</td>\n",
       "      <td>91074</td>\n",
       "      <td>2016-03-17 17:40:17</td>\n",
       "    </tr>\n",
       "    <tr>\n",
       "      <th>4</th>\n",
       "      <td>2016</td>\n",
       "      <td>3600</td>\n",
       "      <td>small</td>\n",
       "      <td>2008</td>\n",
       "      <td>manual</td>\n",
       "      <td>69.000000</td>\n",
       "      <td>fabia</td>\n",
       "      <td>90000</td>\n",
       "      <td>7</td>\n",
       "      <td>gasoline</td>\n",
       "      <td>skoda</td>\n",
       "      <td>no</td>\n",
       "      <td>2016-03-31 00:00:00</td>\n",
       "      <td>0</td>\n",
       "      <td>60437</td>\n",
       "      <td>2016-04-06 10:17:21</td>\n",
       "    </tr>\n",
       "  </tbody>\n",
       "</table>\n",
       "</div>"
      ],
      "text/plain": [
       "   DateCrawled  Price VehicleType  RegistrationYear Gearbox       Power  \\\n",
       "0         2016    480       other              1993  manual  108.998868   \n",
       "1         2016  18300       coupe              2011  manual  190.000000   \n",
       "2         2016   9800         suv              2004    auto  163.000000   \n",
       "3         2016   1500       small              2001  manual   75.000000   \n",
       "4         2016   3600       small              2008  manual   69.000000   \n",
       "\n",
       "   Model  Kilometer  RegistrationMonth  FuelType       Brand Repaired  \\\n",
       "0   golf     150000                  0    petrol  volkswagen  unknown   \n",
       "1            125000                  5  gasoline        audi      yes   \n",
       "2  grand     125000                  8  gasoline        jeep  unknown   \n",
       "3   golf     150000                  6    petrol  volkswagen       no   \n",
       "4  fabia      90000                  7  gasoline       skoda       no   \n",
       "\n",
       "           DateCreated  NumberOfPictures  PostalCode             LastSeen  \n",
       "0  2016-03-24 00:00:00                 0       70435  2016-04-07 03:16:57  \n",
       "1  2016-03-24 00:00:00                 0       66954  2016-04-07 01:46:50  \n",
       "2  2016-03-14 00:00:00                 0       90480  2016-04-05 12:47:46  \n",
       "3  2016-03-17 00:00:00                 0       91074  2016-03-17 17:40:17  \n",
       "4  2016-03-31 00:00:00                 0       60437  2016-04-06 10:17:21  "
      ]
     },
     "execution_count": 74,
     "metadata": {},
     "output_type": "execute_result"
    }
   ],
   "source": [
    "data.head()"
   ]
  },
  {
   "cell_type": "markdown",
   "metadata": {},
   "source": [
    "## Создание новых признаков"
   ]
  },
  {
   "cell_type": "markdown",
   "metadata": {},
   "source": [
    "Из нашего датасета можно сделать новые признаки, которые будут полезны при обучении моделей."
   ]
  },
  {
   "cell_type": "markdown",
   "metadata": {},
   "source": [
    "В первую очередь извлечем год из столбца с датой регистрации автомобиля. После этого вычтем из него год производства и получим возраст продаваемого авто."
   ]
  },
  {
   "cell_type": "code",
   "execution_count": 75,
   "metadata": {},
   "outputs": [
    {
     "data": {
      "text/plain": [
       "0         2016\n",
       "1         2016\n",
       "2         2016\n",
       "3         2016\n",
       "4         2016\n",
       "          ... \n",
       "321776    2016\n",
       "321777    2016\n",
       "321778    2016\n",
       "321779    2016\n",
       "321780    2016\n",
       "Name: DateCreated, Length: 321781, dtype: int64"
      ]
     },
     "execution_count": 75,
     "metadata": {},
     "output_type": "execute_result"
    }
   ],
   "source": [
    "data['DateCreated'] = pd.to_datetime(data['DateCreated'], format='%Y-%m-%d %H:%M')\n",
    "data['DateCreated'] = data['DateCreated'].dt.year\n",
    "data['DateCreated']"
   ]
  },
  {
   "cell_type": "code",
   "execution_count": 76,
   "metadata": {},
   "outputs": [],
   "source": [
    "data['Age'] = data['DateCreated'] - data['RegistrationYear']"
   ]
  },
  {
   "cell_type": "markdown",
   "metadata": {},
   "source": [
    "Также соединим бренд и модель автомобиля."
   ]
  },
  {
   "cell_type": "code",
   "execution_count": 77,
   "metadata": {},
   "outputs": [],
   "source": [
    "data['Brand'] = data['Brand'] + ' ' + data['Model']"
   ]
  },
  {
   "cell_type": "code",
   "execution_count": 78,
   "metadata": {},
   "outputs": [
    {
     "data": {
      "text/plain": [
       "Index(['DateCrawled', 'Price', 'VehicleType', 'RegistrationYear', 'Gearbox',\n",
       "       'Power', 'Model', 'Kilometer', 'RegistrationMonth', 'FuelType', 'Brand',\n",
       "       'Repaired', 'DateCreated', 'NumberOfPictures', 'PostalCode', 'LastSeen',\n",
       "       'Age'],\n",
       "      dtype='object')"
      ]
     },
     "execution_count": 78,
     "metadata": {},
     "output_type": "execute_result"
    }
   ],
   "source": [
    "data.columns"
   ]
  },
  {
   "cell_type": "markdown",
   "metadata": {},
   "source": [
    "Оставим только те признаки, которые будут полезны нам при обучении."
   ]
  },
  {
   "cell_type": "code",
   "execution_count": 79,
   "metadata": {},
   "outputs": [],
   "source": [
    "data = data[['Brand', 'VehicleType', 'Gearbox', 'Power', 'Kilometer', 'FuelType', \n",
    "             'Repaired', 'RegistrationYear', 'Age', 'Price']]"
   ]
  },
  {
   "cell_type": "code",
   "execution_count": 80,
   "metadata": {},
   "outputs": [
    {
     "data": {
      "text/html": [
       "<div>\n",
       "<style scoped>\n",
       "    .dataframe tbody tr th:only-of-type {\n",
       "        vertical-align: middle;\n",
       "    }\n",
       "\n",
       "    .dataframe tbody tr th {\n",
       "        vertical-align: top;\n",
       "    }\n",
       "\n",
       "    .dataframe thead th {\n",
       "        text-align: right;\n",
       "    }\n",
       "</style>\n",
       "<table border=\"1\" class=\"dataframe\">\n",
       "  <thead>\n",
       "    <tr style=\"text-align: right;\">\n",
       "      <th></th>\n",
       "      <th>Brand</th>\n",
       "      <th>VehicleType</th>\n",
       "      <th>Gearbox</th>\n",
       "      <th>Power</th>\n",
       "      <th>Kilometer</th>\n",
       "      <th>FuelType</th>\n",
       "      <th>Repaired</th>\n",
       "      <th>RegistrationYear</th>\n",
       "      <th>Age</th>\n",
       "      <th>Price</th>\n",
       "    </tr>\n",
       "  </thead>\n",
       "  <tbody>\n",
       "    <tr>\n",
       "      <th>0</th>\n",
       "      <td>volkswagen golf</td>\n",
       "      <td>other</td>\n",
       "      <td>manual</td>\n",
       "      <td>108.998868</td>\n",
       "      <td>150000</td>\n",
       "      <td>petrol</td>\n",
       "      <td>unknown</td>\n",
       "      <td>1993</td>\n",
       "      <td>23</td>\n",
       "      <td>480</td>\n",
       "    </tr>\n",
       "    <tr>\n",
       "      <th>1</th>\n",
       "      <td>audi</td>\n",
       "      <td>coupe</td>\n",
       "      <td>manual</td>\n",
       "      <td>190.000000</td>\n",
       "      <td>125000</td>\n",
       "      <td>gasoline</td>\n",
       "      <td>yes</td>\n",
       "      <td>2011</td>\n",
       "      <td>5</td>\n",
       "      <td>18300</td>\n",
       "    </tr>\n",
       "    <tr>\n",
       "      <th>2</th>\n",
       "      <td>jeep grand</td>\n",
       "      <td>suv</td>\n",
       "      <td>auto</td>\n",
       "      <td>163.000000</td>\n",
       "      <td>125000</td>\n",
       "      <td>gasoline</td>\n",
       "      <td>unknown</td>\n",
       "      <td>2004</td>\n",
       "      <td>12</td>\n",
       "      <td>9800</td>\n",
       "    </tr>\n",
       "    <tr>\n",
       "      <th>3</th>\n",
       "      <td>volkswagen golf</td>\n",
       "      <td>small</td>\n",
       "      <td>manual</td>\n",
       "      <td>75.000000</td>\n",
       "      <td>150000</td>\n",
       "      <td>petrol</td>\n",
       "      <td>no</td>\n",
       "      <td>2001</td>\n",
       "      <td>15</td>\n",
       "      <td>1500</td>\n",
       "    </tr>\n",
       "    <tr>\n",
       "      <th>4</th>\n",
       "      <td>skoda fabia</td>\n",
       "      <td>small</td>\n",
       "      <td>manual</td>\n",
       "      <td>69.000000</td>\n",
       "      <td>90000</td>\n",
       "      <td>gasoline</td>\n",
       "      <td>no</td>\n",
       "      <td>2008</td>\n",
       "      <td>8</td>\n",
       "      <td>3600</td>\n",
       "    </tr>\n",
       "    <tr>\n",
       "      <th>...</th>\n",
       "      <td>...</td>\n",
       "      <td>...</td>\n",
       "      <td>...</td>\n",
       "      <td>...</td>\n",
       "      <td>...</td>\n",
       "      <td>...</td>\n",
       "      <td>...</td>\n",
       "      <td>...</td>\n",
       "      <td>...</td>\n",
       "      <td>...</td>\n",
       "    </tr>\n",
       "    <tr>\n",
       "      <th>321776</th>\n",
       "      <td>opel zafira</td>\n",
       "      <td>bus</td>\n",
       "      <td>manual</td>\n",
       "      <td>108.998868</td>\n",
       "      <td>150000</td>\n",
       "      <td>petrol</td>\n",
       "      <td>no</td>\n",
       "      <td>2000</td>\n",
       "      <td>16</td>\n",
       "      <td>1150</td>\n",
       "    </tr>\n",
       "    <tr>\n",
       "      <th>321777</th>\n",
       "      <td>sonstige_autos</td>\n",
       "      <td>other</td>\n",
       "      <td>unknown</td>\n",
       "      <td>108.998868</td>\n",
       "      <td>20000</td>\n",
       "      <td>other</td>\n",
       "      <td>unknown</td>\n",
       "      <td>2005</td>\n",
       "      <td>11</td>\n",
       "      <td>2200</td>\n",
       "    </tr>\n",
       "    <tr>\n",
       "      <th>321778</th>\n",
       "      <td>smart fortwo</td>\n",
       "      <td>convertible</td>\n",
       "      <td>auto</td>\n",
       "      <td>101.000000</td>\n",
       "      <td>125000</td>\n",
       "      <td>petrol</td>\n",
       "      <td>no</td>\n",
       "      <td>2000</td>\n",
       "      <td>16</td>\n",
       "      <td>1199</td>\n",
       "    </tr>\n",
       "    <tr>\n",
       "      <th>321779</th>\n",
       "      <td>volkswagen transporter</td>\n",
       "      <td>bus</td>\n",
       "      <td>manual</td>\n",
       "      <td>102.000000</td>\n",
       "      <td>150000</td>\n",
       "      <td>gasoline</td>\n",
       "      <td>no</td>\n",
       "      <td>1996</td>\n",
       "      <td>20</td>\n",
       "      <td>9200</td>\n",
       "    </tr>\n",
       "    <tr>\n",
       "      <th>321780</th>\n",
       "      <td>volkswagen golf</td>\n",
       "      <td>wagon</td>\n",
       "      <td>manual</td>\n",
       "      <td>100.000000</td>\n",
       "      <td>150000</td>\n",
       "      <td>gasoline</td>\n",
       "      <td>unknown</td>\n",
       "      <td>2002</td>\n",
       "      <td>14</td>\n",
       "      <td>3400</td>\n",
       "    </tr>\n",
       "  </tbody>\n",
       "</table>\n",
       "<p>321781 rows × 10 columns</p>\n",
       "</div>"
      ],
      "text/plain": [
       "                         Brand  VehicleType  Gearbox       Power  Kilometer  \\\n",
       "0              volkswagen golf        other   manual  108.998868     150000   \n",
       "1                        audi         coupe   manual  190.000000     125000   \n",
       "2                   jeep grand          suv     auto  163.000000     125000   \n",
       "3              volkswagen golf        small   manual   75.000000     150000   \n",
       "4                  skoda fabia        small   manual   69.000000      90000   \n",
       "...                        ...          ...      ...         ...        ...   \n",
       "321776             opel zafira          bus   manual  108.998868     150000   \n",
       "321777         sonstige_autos         other  unknown  108.998868      20000   \n",
       "321778            smart fortwo  convertible     auto  101.000000     125000   \n",
       "321779  volkswagen transporter          bus   manual  102.000000     150000   \n",
       "321780         volkswagen golf        wagon   manual  100.000000     150000   \n",
       "\n",
       "        FuelType Repaired  RegistrationYear  Age  Price  \n",
       "0         petrol  unknown              1993   23    480  \n",
       "1       gasoline      yes              2011    5  18300  \n",
       "2       gasoline  unknown              2004   12   9800  \n",
       "3         petrol       no              2001   15   1500  \n",
       "4       gasoline       no              2008    8   3600  \n",
       "...          ...      ...               ...  ...    ...  \n",
       "321776    petrol       no              2000   16   1150  \n",
       "321777     other  unknown              2005   11   2200  \n",
       "321778    petrol       no              2000   16   1199  \n",
       "321779  gasoline       no              1996   20   9200  \n",
       "321780  gasoline  unknown              2002   14   3400  \n",
       "\n",
       "[321781 rows x 10 columns]"
      ]
     },
     "execution_count": 80,
     "metadata": {},
     "output_type": "execute_result"
    }
   ],
   "source": [
    "data"
   ]
  },
  {
   "cell_type": "markdown",
   "metadata": {},
   "source": [
    "Проверим еще раз итоговую таблицу на дубликаты. Их получилось достаточно много. Возможно, кто-то загружал одну и ту же анкету несколько раз, или у этого есть другие причины, но дубликаты нам не нужны, их нужно удалить."
   ]
  },
  {
   "cell_type": "code",
   "execution_count": 81,
   "metadata": {},
   "outputs": [
    {
     "data": {
      "text/plain": [
       "41884"
      ]
     },
     "execution_count": 81,
     "metadata": {},
     "output_type": "execute_result"
    }
   ],
   "source": [
    "data.duplicated().sum()"
   ]
  },
  {
   "cell_type": "code",
   "execution_count": 82,
   "metadata": {},
   "outputs": [],
   "source": [
    "data = data.drop_duplicates()"
   ]
  },
  {
   "cell_type": "code",
   "execution_count": 83,
   "metadata": {},
   "outputs": [
    {
     "name": "stdout",
     "output_type": "stream",
     "text": [
      "<class 'pandas.core.frame.DataFrame'>\n",
      "Int64Index: 279897 entries, 0 to 321780\n",
      "Data columns (total 10 columns):\n",
      " #   Column            Non-Null Count   Dtype  \n",
      "---  ------            --------------   -----  \n",
      " 0   Brand             279897 non-null  object \n",
      " 1   VehicleType       279897 non-null  object \n",
      " 2   Gearbox           279897 non-null  object \n",
      " 3   Power             279897 non-null  float64\n",
      " 4   Kilometer         279897 non-null  int64  \n",
      " 5   FuelType          279897 non-null  object \n",
      " 6   Repaired          279897 non-null  object \n",
      " 7   RegistrationYear  279897 non-null  int64  \n",
      " 8   Age               279897 non-null  int64  \n",
      " 9   Price             279897 non-null  int64  \n",
      "dtypes: float64(1), int64(4), object(5)\n",
      "memory usage: 23.5+ MB\n"
     ]
    }
   ],
   "source": [
    "data.info()"
   ]
  },
  {
   "cell_type": "code",
   "execution_count": 84,
   "metadata": {},
   "outputs": [],
   "source": [
    "data = data.reset_index(drop=True)"
   ]
  },
  {
   "cell_type": "markdown",
   "metadata": {},
   "source": [
    "## Обучение моделей"
   ]
  },
  {
   "cell_type": "markdown",
   "metadata": {},
   "source": [
    "Выделим целевой признак - цена автомобиля."
   ]
  },
  {
   "cell_type": "code",
   "execution_count": 85,
   "metadata": {},
   "outputs": [],
   "source": [
    "features = data.drop(['Price'], axis=1)\n",
    "target = data['Price']"
   ]
  },
  {
   "cell_type": "markdown",
   "metadata": {},
   "source": [
    "Так как у нас есть отдельной тестовой выборки, то разделим датасет на три части - обучающую, валидационную и тестовую."
   ]
  },
  {
   "cell_type": "code",
   "execution_count": 86,
   "metadata": {},
   "outputs": [],
   "source": [
    "features_train, features_valid, target_train, target_valid = train_test_split(features, target, \n",
    "                                                                              test_size=0.4, \n",
    "                                                                              random_state=12345)"
   ]
  },
  {
   "cell_type": "code",
   "execution_count": 87,
   "metadata": {},
   "outputs": [],
   "source": [
    "features_valid, features_test, target_valid, target_test = train_test_split(features_valid, target_valid, \n",
    "                                                                            test_size=0.5, random_state=12345)"
   ]
  },
  {
   "cell_type": "code",
   "execution_count": 88,
   "metadata": {},
   "outputs": [
    {
     "name": "stdout",
     "output_type": "stream",
     "text": [
      "(167938, 9)\n",
      "(167938,)\n",
      "(55979, 9)\n",
      "(55979,)\n",
      "(55980, 9)\n",
      "(55980,)\n"
     ]
    }
   ],
   "source": [
    "print(features_train.shape)\n",
    "print(target_train.shape)\n",
    "print(features_valid.shape)\n",
    "print(target_valid.shape)\n",
    "print(features_test.shape)\n",
    "print(target_test.shape)"
   ]
  },
  {
   "cell_type": "code",
   "execution_count": 89,
   "metadata": {},
   "outputs": [],
   "source": [
    "encoder = OrdinalEncoder(handle_unknown='use_encoded_value', unknown_value=-1)"
   ]
  },
  {
   "cell_type": "code",
   "execution_count": 90,
   "metadata": {},
   "outputs": [],
   "source": [
    "features_train = encoder.fit_transform(features_train)\n",
    "features_valid = encoder.transform(features_valid)\n",
    "features_test = encoder.transform(features_test)"
   ]
  },
  {
   "cell_type": "markdown",
   "metadata": {},
   "source": [
    "Далее приведем признаки к единому масштабу."
   ]
  },
  {
   "cell_type": "code",
   "execution_count": 91,
   "metadata": {},
   "outputs": [],
   "source": [
    "scaler = StandardScaler()"
   ]
  },
  {
   "cell_type": "code",
   "execution_count": 92,
   "metadata": {},
   "outputs": [
    {
     "data": {
      "text/plain": [
       "StandardScaler()"
      ]
     },
     "execution_count": 92,
     "metadata": {},
     "output_type": "execute_result"
    }
   ],
   "source": [
    "scaler.fit(features_train)"
   ]
  },
  {
   "cell_type": "code",
   "execution_count": 93,
   "metadata": {},
   "outputs": [],
   "source": [
    "features_train = scaler.transform(features_train)\n",
    "features_valid = scaler.transform(features_valid)\n",
    "features_test = scaler.transform(features_test)"
   ]
  },
  {
   "cell_type": "markdown",
   "metadata": {},
   "source": [
    "Первой рассмотрим модель дерева решений. На выбранных параметрах она показала результат 750.9."
   ]
  },
  {
   "cell_type": "code",
   "execution_count": 94,
   "metadata": {},
   "outputs": [
    {
     "name": "stdout",
     "output_type": "stream",
     "text": [
      "CPU times: user 1min 13s, sys: 57 ms, total: 1min 13s\n",
      "Wall time: 1min 13s\n"
     ]
    }
   ],
   "source": [
    "%%time\n",
    "\n",
    "dtr_model = None\n",
    "dtr_result = 10000\n",
    "\n",
    "for depth in range(1, 25):\n",
    "    for leaf in range(1, 10):\n",
    "        model = DecisionTreeRegressor(random_state=12345, max_depth=depth, min_samples_leaf=leaf)\n",
    "        model.fit(features_train, target_train)\n",
    "        predictions_valid = model.predict(features_valid)\n",
    "        result = (mean_squared_error(target_valid, predictions_valid)) ** 0.5\n",
    "    \n",
    "        if result < dtr_result:\n",
    "            dtr_model = model\n",
    "            dtr_result = result"
   ]
  },
  {
   "cell_type": "code",
   "execution_count": 95,
   "metadata": {},
   "outputs": [
    {
     "data": {
      "text/plain": [
       "1798.4613186790205"
      ]
     },
     "execution_count": 95,
     "metadata": {},
     "output_type": "execute_result"
    }
   ],
   "source": [
    "dtr_result"
   ]
  },
  {
   "cell_type": "code",
   "execution_count": 96,
   "metadata": {},
   "outputs": [
    {
     "data": {
      "text/plain": [
       "DecisionTreeRegressor(max_depth=20, min_samples_leaf=8, random_state=12345)"
      ]
     },
     "execution_count": 96,
     "metadata": {},
     "output_type": "execute_result"
    }
   ],
   "source": [
    "dtr_model"
   ]
  },
  {
   "cell_type": "markdown",
   "metadata": {},
   "source": [
    "Модель случайного леса показала аналогичный результат 759.9."
   ]
  },
  {
   "cell_type": "code",
   "execution_count": 103,
   "metadata": {},
   "outputs": [
    {
     "name": "stdout",
     "output_type": "stream",
     "text": [
      "CPU times: user 4min 14s, sys: 260 ms, total: 4min 14s\n",
      "Wall time: 4min 14s\n"
     ]
    }
   ],
   "source": [
    "%%time\n",
    "\n",
    "rfr_model = None\n",
    "rfr_result = 10000\n",
    "\n",
    "for est in range(1, 15):\n",
    "    for depth in range(1, 15):\n",
    "        model = RandomForestRegressor(random_state=12345, n_estimators=est, max_depth=depth)\n",
    "        model.fit(features_train, target_train)\n",
    "        predictions_valid = model.predict(features_valid)\n",
    "        result = (mean_squared_error(target_valid, predictions_valid)) ** 0.5\n",
    "        \n",
    "        if result < rfr_result:\n",
    "            rfr_model = model\n",
    "            rfr_result = result"
   ]
  },
  {
   "cell_type": "code",
   "execution_count": 104,
   "metadata": {
    "scrolled": true
   },
   "outputs": [
    {
     "data": {
      "text/plain": [
       "1691.526809525671"
      ]
     },
     "execution_count": 104,
     "metadata": {},
     "output_type": "execute_result"
    }
   ],
   "source": [
    "rfr_result"
   ]
  },
  {
   "cell_type": "code",
   "execution_count": 106,
   "metadata": {},
   "outputs": [
    {
     "data": {
      "text/plain": [
       "RandomForestRegressor(max_depth=14, n_estimators=14, random_state=12345)"
      ]
     },
     "execution_count": 106,
     "metadata": {},
     "output_type": "execute_result"
    }
   ],
   "source": [
    "rfr_model"
   ]
  },
  {
   "cell_type": "markdown",
   "metadata": {},
   "source": [
    "Модель LightGBM показала лучший результат без использования дополнительных параметров."
   ]
  },
  {
   "cell_type": "code",
   "execution_count": 107,
   "metadata": {},
   "outputs": [
    {
     "name": "stdout",
     "output_type": "stream",
     "text": [
      "CPU times: user 4.29 s, sys: 56.7 ms, total: 4.35 s\n",
      "Wall time: 4.3 s\n"
     ]
    },
    {
     "data": {
      "text/plain": [
       "1663.3987886838856"
      ]
     },
     "execution_count": 107,
     "metadata": {},
     "output_type": "execute_result"
    }
   ],
   "source": [
    "%%time\n",
    "\n",
    "lgbm_model = LGBMRegressor(random_state=12345)\n",
    "lgbm_model.fit(features_train, target_train)\n",
    "lgbm_predictions_valid = lgbm_model.predict(features_valid)\n",
    "lgbm_result = (mean_squared_error(target_valid, lgbm_predictions_valid)) ** 0.5\n",
    "lgbm_result"
   ]
  },
  {
   "cell_type": "code",
   "execution_count": 108,
   "metadata": {},
   "outputs": [
    {
     "name": "stdout",
     "output_type": "stream",
     "text": [
      "CPU times: user 1min 7s, sys: 194 ms, total: 1min 8s\n",
      "Wall time: 1min 8s\n"
     ]
    }
   ],
   "source": [
    "%%time\n",
    "lgbm_result_1 = 10000\n",
    "lgbm_model_1 = None\n",
    "\n",
    "for est in range(1, 10):\n",
    "    for depth in range(1, 10):\n",
    "        model = LGBMRegressor(random_state=12345, n_estimators=est, max_depth=depth)\n",
    "        model.fit(features_train, target_train)\n",
    "        predictions_valid = model.predict(features_valid)\n",
    "        result = (mean_squared_error(target_valid, predictions_valid)) ** 0.5\n",
    "        \n",
    "        if result < lgbm_result_1:\n",
    "            lgbm_result_1 = result\n",
    "            lgbm_model_1 = model"
   ]
  },
  {
   "cell_type": "code",
   "execution_count": 109,
   "metadata": {},
   "outputs": [
    {
     "data": {
      "text/plain": [
       "2719.259434613154"
      ]
     },
     "execution_count": 109,
     "metadata": {},
     "output_type": "execute_result"
    }
   ],
   "source": [
    "lgbm_result_1"
   ]
  },
  {
   "cell_type": "code",
   "execution_count": 110,
   "metadata": {},
   "outputs": [
    {
     "data": {
      "text/plain": [
       "LGBMRegressor(max_depth=7, n_estimators=9, random_state=12345)"
      ]
     },
     "execution_count": 110,
     "metadata": {},
     "output_type": "execute_result"
    }
   ],
   "source": [
    "lgbm_model_1"
   ]
  },
  {
   "cell_type": "markdown",
   "metadata": {},
   "source": [
    "## Анализ моделей"
   ]
  },
  {
   "cell_type": "markdown",
   "metadata": {},
   "source": [
    "Возьмем лучшую из полученных моделей и проверим ее на тестовой выборке. Результат получился похожим на полученный на валидационной выборке. На обучение было потрачено около 6 мин."
   ]
  },
  {
   "cell_type": "code",
   "execution_count": 111,
   "metadata": {},
   "outputs": [
    {
     "name": "stdout",
     "output_type": "stream",
     "text": [
      "CPU times: user 417 ms, sys: 7.63 ms, total: 425 ms\n",
      "Wall time: 406 ms\n"
     ]
    },
    {
     "data": {
      "text/plain": [
       "1662.4407181326644"
      ]
     },
     "execution_count": 111,
     "metadata": {},
     "output_type": "execute_result"
    }
   ],
   "source": [
    "%%time\n",
    "\n",
    "predictions_test = lgbm_model.predict(features_test)\n",
    "result = (mean_squared_error(target_test, predictions_test)) ** 0.5\n",
    "result"
   ]
  },
  {
   "cell_type": "markdown",
   "metadata": {},
   "source": [
    "## Вывод"
   ]
  },
  {
   "cell_type": "markdown",
   "metadata": {},
   "source": [
    "В ходе работы мы провели исследование данных: убрали дубликаты, пропуски, заменили пропущенные значения, где это возможно. На основе полученных данных были созданы два новых признака. \n",
    "\n",
    "По условию задачи необходимо было использовать несколько разных моделей. Мы начали с более простых - решающего дерева и случайного леса. На них были получены похожие результаты rmse - 757. Также мы обучили модель LightGBM. На простой модели без дополнительных параметров был получен результат около 350. Такое же значение получилось на тестовой выборке. На обучение модели требуется около 6 мин."
   ]
  }
 ],
 "metadata": {
  "ExecuteTimeLog": [
   {
    "duration": 417,
    "start_time": "2023-06-13T12:13:57.813Z"
   },
   {
    "duration": 1033,
    "start_time": "2023-06-13T12:14:32.491Z"
   },
   {
    "duration": 19,
    "start_time": "2023-06-13T12:14:41.613Z"
   },
   {
    "duration": 119,
    "start_time": "2023-06-13T12:15:44.434Z"
   },
   {
    "duration": 142,
    "start_time": "2023-06-13T12:16:10.893Z"
   },
   {
    "duration": 423,
    "start_time": "2023-06-13T12:16:35.587Z"
   },
   {
    "duration": 488,
    "start_time": "2023-06-13T12:16:52.623Z"
   },
   {
    "duration": 453,
    "start_time": "2023-06-13T12:17:01.652Z"
   },
   {
    "duration": 117,
    "start_time": "2023-06-13T12:17:29.202Z"
   },
   {
    "duration": 133,
    "start_time": "2023-06-13T12:17:42.003Z"
   },
   {
    "duration": 6,
    "start_time": "2023-06-13T12:18:31.905Z"
   },
   {
    "duration": 72,
    "start_time": "2023-06-13T12:18:38.091Z"
   },
   {
    "duration": 51505,
    "start_time": "2023-06-13T12:19:04.991Z"
   },
   {
    "duration": 0,
    "start_time": "2023-06-13T12:19:56.500Z"
   },
   {
    "duration": 391,
    "start_time": "2023-06-13T12:20:05.430Z"
   },
   {
    "duration": 731,
    "start_time": "2023-06-13T12:20:06.501Z"
   },
   {
    "duration": 19,
    "start_time": "2023-06-13T12:20:08.013Z"
   },
   {
    "duration": 138,
    "start_time": "2023-06-13T12:20:10.654Z"
   },
   {
    "duration": 136,
    "start_time": "2023-06-13T12:20:11.724Z"
   },
   {
    "duration": 448,
    "start_time": "2023-06-13T12:20:13.727Z"
   },
   {
    "duration": 504,
    "start_time": "2023-06-13T12:20:14.899Z"
   },
   {
    "duration": 408,
    "start_time": "2023-06-13T12:20:16.035Z"
   },
   {
    "duration": 7,
    "start_time": "2023-06-13T12:20:17.730Z"
   },
   {
    "duration": 49,
    "start_time": "2023-06-13T12:23:08.208Z"
   },
   {
    "duration": 3,
    "start_time": "2023-06-13T12:23:17.739Z"
   },
   {
    "duration": 710,
    "start_time": "2023-06-13T12:23:18.310Z"
   },
   {
    "duration": 12,
    "start_time": "2023-06-13T12:23:19.022Z"
   },
   {
    "duration": 120,
    "start_time": "2023-06-13T12:23:20.113Z"
   },
   {
    "duration": 135,
    "start_time": "2023-06-13T12:23:21.033Z"
   },
   {
    "duration": 371,
    "start_time": "2023-06-13T12:23:22.116Z"
   },
   {
    "duration": 419,
    "start_time": "2023-06-13T12:23:23.725Z"
   },
   {
    "duration": 392,
    "start_time": "2023-06-13T12:23:24.202Z"
   },
   {
    "duration": 6,
    "start_time": "2023-06-13T12:23:24.950Z"
   },
   {
    "duration": 5,
    "start_time": "2023-06-13T12:24:42.339Z"
   },
   {
    "duration": 9,
    "start_time": "2023-06-13T12:24:49.810Z"
   },
   {
    "duration": 740,
    "start_time": "2023-06-13T12:25:46.542Z"
   },
   {
    "duration": 18,
    "start_time": "2023-06-13T12:26:03.879Z"
   },
   {
    "duration": 174,
    "start_time": "2023-06-13T12:26:22.685Z"
   },
   {
    "duration": 3,
    "start_time": "2023-06-13T12:28:52.383Z"
   },
   {
    "duration": 114,
    "start_time": "2023-06-13T12:30:49.638Z"
   },
   {
    "duration": 77,
    "start_time": "2023-06-13T12:30:56.028Z"
   },
   {
    "duration": 125,
    "start_time": "2023-06-13T12:30:59.921Z"
   },
   {
    "duration": 516,
    "start_time": "2023-06-13T12:34:00.809Z"
   },
   {
    "duration": 152,
    "start_time": "2023-06-13T12:35:01.953Z"
   },
   {
    "duration": 163,
    "start_time": "2023-06-13T12:36:21.526Z"
   },
   {
    "duration": 156,
    "start_time": "2023-06-13T12:36:34.355Z"
   },
   {
    "duration": 187,
    "start_time": "2023-06-13T12:36:47.013Z"
   },
   {
    "duration": 180,
    "start_time": "2023-06-13T12:36:52.341Z"
   },
   {
    "duration": 190,
    "start_time": "2023-06-13T12:37:34.008Z"
   },
   {
    "duration": 390,
    "start_time": "2023-06-13T12:38:20.908Z"
   },
   {
    "duration": 419,
    "start_time": "2023-06-13T12:45:20.286Z"
   },
   {
    "duration": 16,
    "start_time": "2023-06-13T12:45:31.515Z"
   },
   {
    "duration": 24,
    "start_time": "2023-06-13T12:45:47.906Z"
   },
   {
    "duration": 9,
    "start_time": "2023-06-13T12:46:10.387Z"
   },
   {
    "duration": 20,
    "start_time": "2023-06-13T12:46:11.150Z"
   },
   {
    "duration": 7,
    "start_time": "2023-06-13T12:47:11.208Z"
   },
   {
    "duration": 36,
    "start_time": "2023-06-13T12:47:53.709Z"
   },
   {
    "duration": 6,
    "start_time": "2023-06-13T12:49:12.017Z"
   },
   {
    "duration": 32,
    "start_time": "2023-06-13T12:49:19.690Z"
   },
   {
    "duration": 19,
    "start_time": "2023-06-13T12:52:07.805Z"
   },
   {
    "duration": 32,
    "start_time": "2023-06-13T12:52:27.330Z"
   },
   {
    "duration": 33,
    "start_time": "2023-06-13T12:52:45.333Z"
   },
   {
    "duration": 6,
    "start_time": "2023-06-13T12:53:13.742Z"
   },
   {
    "duration": 5,
    "start_time": "2023-06-13T12:53:25.497Z"
   },
   {
    "duration": 131,
    "start_time": "2023-06-13T12:53:34.551Z"
   },
   {
    "duration": 178,
    "start_time": "2023-06-13T12:53:42.620Z"
   },
   {
    "duration": 129,
    "start_time": "2023-06-13T12:53:58.554Z"
   },
   {
    "duration": 140,
    "start_time": "2023-06-13T12:54:04.082Z"
   },
   {
    "duration": 188,
    "start_time": "2023-06-13T12:54:10.043Z"
   },
   {
    "duration": 9,
    "start_time": "2023-06-13T12:54:40.886Z"
   },
   {
    "duration": 9,
    "start_time": "2023-06-13T12:55:07.283Z"
   },
   {
    "duration": 8,
    "start_time": "2023-06-13T12:55:21.413Z"
   },
   {
    "duration": 8,
    "start_time": "2023-06-13T12:55:31.229Z"
   },
   {
    "duration": 5,
    "start_time": "2023-06-13T12:55:40.597Z"
   },
   {
    "duration": 41,
    "start_time": "2023-06-13T12:55:47.505Z"
   },
   {
    "duration": 31,
    "start_time": "2023-06-13T12:55:56.333Z"
   },
   {
    "duration": 33,
    "start_time": "2023-06-13T12:56:05.486Z"
   },
   {
    "duration": 16,
    "start_time": "2023-06-13T12:56:52.218Z"
   },
   {
    "duration": 164,
    "start_time": "2023-06-13T12:57:15.009Z"
   },
   {
    "duration": 174,
    "start_time": "2023-06-13T12:58:11.520Z"
   },
   {
    "duration": 8,
    "start_time": "2023-06-13T12:59:30.338Z"
   },
   {
    "duration": 66,
    "start_time": "2023-06-13T13:03:22.411Z"
   },
   {
    "duration": 24,
    "start_time": "2023-06-13T13:05:00.734Z"
   },
   {
    "duration": 54,
    "start_time": "2023-06-13T13:05:31.697Z"
   },
   {
    "duration": 33,
    "start_time": "2023-06-13T13:05:50.691Z"
   },
   {
    "duration": 5,
    "start_time": "2023-06-13T13:06:13.217Z"
   },
   {
    "duration": 23,
    "start_time": "2023-06-13T13:06:21.044Z"
   },
   {
    "duration": 13,
    "start_time": "2023-06-13T13:13:22.701Z"
   },
   {
    "duration": 60,
    "start_time": "2023-06-13T13:13:36.242Z"
   },
   {
    "duration": 22,
    "start_time": "2023-06-13T13:13:49.005Z"
   },
   {
    "duration": 7,
    "start_time": "2023-06-13T13:14:01.447Z"
   },
   {
    "duration": 9,
    "start_time": "2023-06-13T13:14:20.416Z"
   },
   {
    "duration": 33,
    "start_time": "2023-06-13T13:14:37.877Z"
   },
   {
    "duration": 185,
    "start_time": "2023-06-13T13:16:08.216Z"
   },
   {
    "duration": 18,
    "start_time": "2023-06-13T13:16:27.991Z"
   },
   {
    "duration": 36,
    "start_time": "2023-06-13T13:18:34.805Z"
   },
   {
    "duration": 1303,
    "start_time": "2023-06-13T13:21:45.489Z"
   },
   {
    "duration": 1356,
    "start_time": "2023-06-13T13:22:36.642Z"
   },
   {
    "duration": 1377,
    "start_time": "2023-06-13T13:22:46.433Z"
   },
   {
    "duration": 1281,
    "start_time": "2023-06-13T13:23:25.240Z"
   },
   {
    "duration": 2621,
    "start_time": "2023-06-13T13:23:39.660Z"
   },
   {
    "duration": 1156,
    "start_time": "2023-06-13T13:24:15.597Z"
   },
   {
    "duration": 786,
    "start_time": "2023-06-13T13:24:17.539Z"
   },
   {
    "duration": 18,
    "start_time": "2023-06-13T13:24:18.985Z"
   },
   {
    "duration": 129,
    "start_time": "2023-06-13T13:24:20.146Z"
   },
   {
    "duration": 130,
    "start_time": "2023-06-13T13:24:23.203Z"
   },
   {
    "duration": 422,
    "start_time": "2023-06-13T13:24:24.089Z"
   },
   {
    "duration": 496,
    "start_time": "2023-06-13T13:24:25.208Z"
   },
   {
    "duration": 449,
    "start_time": "2023-06-13T13:24:26.312Z"
   },
   {
    "duration": 4,
    "start_time": "2023-06-13T13:24:28.411Z"
   },
   {
    "duration": 14,
    "start_time": "2023-06-13T13:24:29.302Z"
   },
   {
    "duration": 16,
    "start_time": "2023-06-13T13:24:32.485Z"
   },
   {
    "duration": 131,
    "start_time": "2023-06-13T13:24:33.595Z"
   },
   {
    "duration": 133,
    "start_time": "2023-06-13T13:24:35.446Z"
   },
   {
    "duration": 177,
    "start_time": "2023-06-13T13:24:36.305Z"
   },
   {
    "duration": 17,
    "start_time": "2023-06-13T13:24:40.094Z"
   },
   {
    "duration": 23,
    "start_time": "2023-06-13T13:24:41.146Z"
   },
   {
    "duration": 33,
    "start_time": "2023-06-13T13:24:42.140Z"
   },
   {
    "duration": 20,
    "start_time": "2023-06-13T13:24:42.849Z"
   },
   {
    "duration": 49,
    "start_time": "2023-06-13T13:24:45.135Z"
   },
   {
    "duration": 30,
    "start_time": "2023-06-13T13:24:46.022Z"
   },
   {
    "duration": 16,
    "start_time": "2023-06-13T13:24:51.596Z"
   },
   {
    "duration": 161,
    "start_time": "2023-06-13T13:24:54.382Z"
   },
   {
    "duration": 51,
    "start_time": "2023-06-13T13:24:57.412Z"
   },
   {
    "duration": 31,
    "start_time": "2023-06-13T13:24:59.203Z"
   },
   {
    "duration": 20,
    "start_time": "2023-06-13T13:25:00.461Z"
   },
   {
    "duration": 73,
    "start_time": "2023-06-13T13:25:01.917Z"
   },
   {
    "duration": 17,
    "start_time": "2023-06-13T13:25:04.117Z"
   },
   {
    "duration": 16,
    "start_time": "2023-06-13T13:25:05.091Z"
   },
   {
    "duration": 50,
    "start_time": "2023-06-13T13:25:15.097Z"
   },
   {
    "duration": 13,
    "start_time": "2023-06-13T13:25:33.985Z"
   },
   {
    "duration": 25,
    "start_time": "2023-06-13T13:25:49.686Z"
   },
   {
    "duration": 14,
    "start_time": "2023-06-13T13:26:01.755Z"
   },
   {
    "duration": 18,
    "start_time": "2023-06-13T13:26:55.930Z"
   },
   {
    "duration": 16,
    "start_time": "2023-06-13T13:26:57.085Z"
   },
   {
    "duration": 6,
    "start_time": "2023-06-13T13:29:18.085Z"
   },
   {
    "duration": 3,
    "start_time": "2023-06-13T13:29:26.696Z"
   },
   {
    "duration": 765,
    "start_time": "2023-06-13T13:29:27.307Z"
   },
   {
    "duration": 13,
    "start_time": "2023-06-13T13:29:28.690Z"
   },
   {
    "duration": 127,
    "start_time": "2023-06-13T13:29:29.518Z"
   },
   {
    "duration": 121,
    "start_time": "2023-06-13T13:29:30.386Z"
   },
   {
    "duration": 424,
    "start_time": "2023-06-13T13:29:31.094Z"
   },
   {
    "duration": 401,
    "start_time": "2023-06-13T13:29:32.286Z"
   },
   {
    "duration": 380,
    "start_time": "2023-06-13T13:29:32.929Z"
   },
   {
    "duration": 6,
    "start_time": "2023-06-13T13:29:33.884Z"
   },
   {
    "duration": 8,
    "start_time": "2023-06-13T13:29:34.749Z"
   },
   {
    "duration": 17,
    "start_time": "2023-06-13T13:29:35.506Z"
   },
   {
    "duration": 127,
    "start_time": "2023-06-13T13:29:36.221Z"
   },
   {
    "duration": 128,
    "start_time": "2023-06-13T13:29:36.955Z"
   },
   {
    "duration": 168,
    "start_time": "2023-06-13T13:29:37.812Z"
   },
   {
    "duration": 11,
    "start_time": "2023-06-13T13:29:38.587Z"
   },
   {
    "duration": 21,
    "start_time": "2023-06-13T13:29:39.400Z"
   },
   {
    "duration": 42,
    "start_time": "2023-06-13T13:29:40.395Z"
   },
   {
    "duration": 20,
    "start_time": "2023-06-13T13:29:41.097Z"
   },
   {
    "duration": 43,
    "start_time": "2023-06-13T13:29:41.855Z"
   },
   {
    "duration": 29,
    "start_time": "2023-06-13T13:29:42.895Z"
   },
   {
    "duration": 17,
    "start_time": "2023-06-13T13:29:44.048Z"
   },
   {
    "duration": 250,
    "start_time": "2023-06-13T13:29:45.530Z"
   },
   {
    "duration": 35,
    "start_time": "2023-06-13T13:29:46.688Z"
   },
   {
    "duration": 26,
    "start_time": "2023-06-13T13:29:47.929Z"
   },
   {
    "duration": 18,
    "start_time": "2023-06-13T13:29:48.656Z"
   },
   {
    "duration": 56,
    "start_time": "2023-06-13T13:29:49.390Z"
   },
   {
    "duration": 18,
    "start_time": "2023-06-13T13:29:50.190Z"
   },
   {
    "duration": 16,
    "start_time": "2023-06-13T13:29:51.989Z"
   },
   {
    "duration": 10,
    "start_time": "2023-06-13T13:29:55.694Z"
   },
   {
    "duration": 18,
    "start_time": "2023-06-13T13:29:57.715Z"
   },
   {
    "duration": 15,
    "start_time": "2023-06-13T13:30:06.290Z"
   },
   {
    "duration": 19,
    "start_time": "2023-06-13T13:30:07.794Z"
   },
   {
    "duration": 6,
    "start_time": "2023-06-13T13:34:58.633Z"
   },
   {
    "duration": 17,
    "start_time": "2023-06-13T13:35:28.094Z"
   },
   {
    "duration": 315,
    "start_time": "2023-06-13T13:35:50.959Z"
   },
   {
    "duration": 21,
    "start_time": "2023-06-13T13:37:09.609Z"
   },
   {
    "duration": 6,
    "start_time": "2023-06-13T13:37:27.259Z"
   },
   {
    "duration": 6,
    "start_time": "2023-06-13T13:37:42.425Z"
   },
   {
    "duration": 5,
    "start_time": "2023-06-13T13:38:02.936Z"
   },
   {
    "duration": 6,
    "start_time": "2023-06-13T13:38:05.893Z"
   },
   {
    "duration": 5,
    "start_time": "2023-06-13T13:38:47.093Z"
   },
   {
    "duration": 26,
    "start_time": "2023-06-13T13:39:00.580Z"
   },
   {
    "duration": 128,
    "start_time": "2023-06-13T13:39:22.308Z"
   },
   {
    "duration": 154,
    "start_time": "2023-06-13T13:39:29.709Z"
   },
   {
    "duration": 10,
    "start_time": "2023-06-13T13:39:42.939Z"
   },
   {
    "duration": 17,
    "start_time": "2023-06-13T13:40:09.688Z"
   },
   {
    "duration": 7,
    "start_time": "2023-06-13T13:41:25.003Z"
   },
   {
    "duration": 199,
    "start_time": "2023-06-13T13:41:38.147Z"
   },
   {
    "duration": 39,
    "start_time": "2023-06-13T13:41:47.623Z"
   },
   {
    "duration": 16,
    "start_time": "2023-06-13T13:42:05.229Z"
   },
   {
    "duration": 17,
    "start_time": "2023-06-13T13:42:54.017Z"
   },
   {
    "duration": 5,
    "start_time": "2023-06-13T13:43:10.499Z"
   },
   {
    "duration": 31,
    "start_time": "2023-06-13T13:43:16.484Z"
   },
   {
    "duration": 16,
    "start_time": "2023-06-13T13:43:31.733Z"
   },
   {
    "duration": 6,
    "start_time": "2023-06-13T13:45:31.181Z"
   },
   {
    "duration": 31,
    "start_time": "2023-06-13T13:45:40.045Z"
   },
   {
    "duration": 17,
    "start_time": "2023-06-13T13:45:55.694Z"
   },
   {
    "duration": 129,
    "start_time": "2023-06-13T13:46:49.484Z"
   },
   {
    "duration": 143,
    "start_time": "2023-06-13T13:47:04.314Z"
   },
   {
    "duration": 21,
    "start_time": "2023-06-13T13:49:39.897Z"
   },
   {
    "duration": 7,
    "start_time": "2023-06-13T14:21:23.304Z"
   },
   {
    "duration": 7,
    "start_time": "2023-06-13T14:22:52.810Z"
   },
   {
    "duration": 11,
    "start_time": "2023-06-13T14:23:02.022Z"
   },
   {
    "duration": 7,
    "start_time": "2023-06-13T14:23:27.350Z"
   },
   {
    "duration": 5,
    "start_time": "2023-06-13T14:23:51.901Z"
   },
   {
    "duration": 8,
    "start_time": "2023-06-13T14:24:00.193Z"
   },
   {
    "duration": 16,
    "start_time": "2023-06-13T14:24:07.859Z"
   },
   {
    "duration": 10,
    "start_time": "2023-06-13T14:24:41.140Z"
   },
   {
    "duration": 7,
    "start_time": "2023-06-13T14:25:07.453Z"
   },
   {
    "duration": 85,
    "start_time": "2023-06-13T14:25:22.318Z"
   },
   {
    "duration": 63,
    "start_time": "2023-06-13T14:25:28.581Z"
   },
   {
    "duration": 140,
    "start_time": "2023-06-13T14:25:35.696Z"
   },
   {
    "duration": 145,
    "start_time": "2023-06-13T14:25:37.854Z"
   },
   {
    "duration": 4,
    "start_time": "2023-06-13T14:34:54.236Z"
   },
   {
    "duration": 931,
    "start_time": "2023-06-13T14:34:56.719Z"
   },
   {
    "duration": 16,
    "start_time": "2023-06-13T14:34:58.492Z"
   },
   {
    "duration": 149,
    "start_time": "2023-06-13T14:35:14.302Z"
   },
   {
    "duration": 137,
    "start_time": "2023-06-13T14:35:18.898Z"
   },
   {
    "duration": 454,
    "start_time": "2023-06-13T14:35:37.474Z"
   },
   {
    "duration": 454,
    "start_time": "2023-06-13T14:35:38.625Z"
   },
   {
    "duration": 417,
    "start_time": "2023-06-13T14:35:44.601Z"
   },
   {
    "duration": 5,
    "start_time": "2023-06-13T14:35:55.875Z"
   },
   {
    "duration": 9,
    "start_time": "2023-06-13T14:36:02.748Z"
   },
   {
    "duration": 24,
    "start_time": "2023-06-13T14:38:28.857Z"
   },
   {
    "duration": 202,
    "start_time": "2023-06-13T14:38:32.050Z"
   },
   {
    "duration": 203,
    "start_time": "2023-06-13T14:38:36.655Z"
   },
   {
    "duration": 256,
    "start_time": "2023-06-13T14:38:39.408Z"
   },
   {
    "duration": 12,
    "start_time": "2023-06-13T14:38:44.345Z"
   },
   {
    "duration": 25,
    "start_time": "2023-06-13T14:38:45.248Z"
   },
   {
    "duration": 59,
    "start_time": "2023-06-13T14:38:46.123Z"
   },
   {
    "duration": 22,
    "start_time": "2023-06-13T14:38:48.982Z"
   },
   {
    "duration": 43,
    "start_time": "2023-06-13T14:38:49.754Z"
   },
   {
    "duration": 35,
    "start_time": "2023-06-13T14:38:53.734Z"
   },
   {
    "duration": 20,
    "start_time": "2023-06-13T14:39:01.760Z"
   },
   {
    "duration": 178,
    "start_time": "2023-06-13T14:39:02.536Z"
   },
   {
    "duration": 42,
    "start_time": "2023-06-13T14:39:06.153Z"
   },
   {
    "duration": 45,
    "start_time": "2023-06-13T14:39:07.512Z"
   },
   {
    "duration": 24,
    "start_time": "2023-06-13T14:39:13.325Z"
   },
   {
    "duration": 72,
    "start_time": "2023-06-13T14:39:14.188Z"
   },
   {
    "duration": 19,
    "start_time": "2023-06-13T14:39:14.895Z"
   },
   {
    "duration": 16,
    "start_time": "2023-06-13T14:39:15.536Z"
   },
   {
    "duration": 13,
    "start_time": "2023-06-13T14:39:18.589Z"
   },
   {
    "duration": 22,
    "start_time": "2023-06-13T14:39:19.380Z"
   },
   {
    "duration": 17,
    "start_time": "2023-06-13T14:39:20.139Z"
   },
   {
    "duration": 25,
    "start_time": "2023-06-13T14:39:22.414Z"
   },
   {
    "duration": 26,
    "start_time": "2023-06-13T14:39:22.955Z"
   },
   {
    "duration": 362,
    "start_time": "2023-06-13T14:39:23.725Z"
   },
   {
    "duration": 24,
    "start_time": "2023-06-13T14:39:33.814Z"
   },
   {
    "duration": 4,
    "start_time": "2023-06-13T14:39:34.612Z"
   },
   {
    "duration": 12,
    "start_time": "2023-06-13T14:39:35.516Z"
   },
   {
    "duration": 7,
    "start_time": "2023-06-13T14:39:40.389Z"
   },
   {
    "duration": 18,
    "start_time": "2023-06-13T14:39:45.374Z"
   },
   {
    "duration": 30,
    "start_time": "2023-06-13T14:39:46.141Z"
   },
   {
    "duration": 31,
    "start_time": "2023-06-13T14:39:47.158Z"
   },
   {
    "duration": 19,
    "start_time": "2023-06-13T14:39:48.078Z"
   },
   {
    "duration": 27,
    "start_time": "2023-06-13T14:39:48.792Z"
   },
   {
    "duration": 34,
    "start_time": "2023-06-13T14:39:49.546Z"
   },
   {
    "duration": 28,
    "start_time": "2023-06-13T14:39:50.220Z"
   },
   {
    "duration": 47,
    "start_time": "2023-06-13T14:39:51.003Z"
   },
   {
    "duration": 47,
    "start_time": "2023-06-13T14:39:51.602Z"
   },
   {
    "duration": 7,
    "start_time": "2023-06-13T14:39:52.285Z"
   },
   {
    "duration": 6,
    "start_time": "2023-06-13T14:39:53.380Z"
   },
   {
    "duration": 5,
    "start_time": "2023-06-13T14:39:54.008Z"
   },
   {
    "duration": 6,
    "start_time": "2023-06-13T14:39:54.591Z"
   },
   {
    "duration": 26,
    "start_time": "2023-06-13T14:39:55.209Z"
   },
   {
    "duration": 140,
    "start_time": "2023-06-13T14:39:56.036Z"
   },
   {
    "duration": 136,
    "start_time": "2023-06-13T14:39:57.699Z"
   },
   {
    "duration": 418,
    "start_time": "2023-07-17T09:54:05.904Z"
   },
   {
    "duration": 1053,
    "start_time": "2023-07-17T09:54:39.582Z"
   },
   {
    "duration": 25,
    "start_time": "2023-07-17T09:54:45.136Z"
   },
   {
    "duration": 27,
    "start_time": "2023-07-17T09:54:52.406Z"
   },
   {
    "duration": 128,
    "start_time": "2023-07-17T09:55:53.384Z"
   },
   {
    "duration": 961,
    "start_time": "2023-07-17T09:56:09.664Z"
   },
   {
    "duration": 685,
    "start_time": "2023-07-17T09:57:21.309Z"
   },
   {
    "duration": 798,
    "start_time": "2023-07-17T09:59:56.858Z"
   },
   {
    "duration": 1184,
    "start_time": "2023-07-17T10:00:16.030Z"
   },
   {
    "duration": 1139,
    "start_time": "2023-07-17T10:00:25.339Z"
   },
   {
    "duration": 437,
    "start_time": "2023-07-17T10:01:23.970Z"
   },
   {
    "duration": 497,
    "start_time": "2023-07-17T10:01:28.451Z"
   },
   {
    "duration": 423,
    "start_time": "2023-07-17T10:01:40.310Z"
   },
   {
    "duration": 662,
    "start_time": "2023-07-17T10:01:54.707Z"
   },
   {
    "duration": 129,
    "start_time": "2023-07-17T10:02:18.909Z"
   },
   {
    "duration": 119,
    "start_time": "2023-07-17T10:04:59.892Z"
   },
   {
    "duration": 5,
    "start_time": "2023-07-17T10:05:14.359Z"
   },
   {
    "duration": 118,
    "start_time": "2023-07-17T10:05:32.778Z"
   },
   {
    "duration": 25,
    "start_time": "2023-07-17T10:05:56.474Z"
   },
   {
    "duration": 87,
    "start_time": "2023-07-17T10:06:18.671Z"
   },
   {
    "duration": 6,
    "start_time": "2023-07-17T10:06:41.874Z"
   },
   {
    "duration": 41,
    "start_time": "2023-07-17T10:07:06.968Z"
   },
   {
    "duration": 131,
    "start_time": "2023-07-17T10:07:14.476Z"
   },
   {
    "duration": 166,
    "start_time": "2023-07-17T10:07:23.490Z"
   },
   {
    "duration": 179,
    "start_time": "2023-07-17T10:07:28.668Z"
   },
   {
    "duration": 22,
    "start_time": "2023-07-17T10:07:46.260Z"
   },
   {
    "duration": 8,
    "start_time": "2023-07-17T10:08:23.665Z"
   },
   {
    "duration": 6,
    "start_time": "2023-07-17T10:09:30.494Z"
   },
   {
    "duration": 573,
    "start_time": "2023-07-17T10:09:47.198Z"
   },
   {
    "duration": 138,
    "start_time": "2023-07-17T10:09:57.179Z"
   },
   {
    "duration": 239,
    "start_time": "2023-07-17T10:10:25.385Z"
   },
   {
    "duration": 206,
    "start_time": "2023-07-17T10:10:49.080Z"
   },
   {
    "duration": 60,
    "start_time": "2023-07-17T10:11:36.606Z"
   },
   {
    "duration": 911,
    "start_time": "2023-07-17T10:12:02.540Z"
   },
   {
    "duration": 175,
    "start_time": "2023-07-17T10:12:13.275Z"
   },
   {
    "duration": 176,
    "start_time": "2023-07-17T10:12:29.436Z"
   },
   {
    "duration": 133,
    "start_time": "2023-07-17T10:12:33.799Z"
   },
   {
    "duration": 159,
    "start_time": "2023-07-17T10:12:40.303Z"
   },
   {
    "duration": 174,
    "start_time": "2023-07-17T10:12:47.609Z"
   },
   {
    "duration": 63,
    "start_time": "2023-07-17T10:13:37.184Z"
   },
   {
    "duration": 21,
    "start_time": "2023-07-17T10:15:02.981Z"
   },
   {
    "duration": 160,
    "start_time": "2023-07-17T10:15:18.573Z"
   },
   {
    "duration": 193,
    "start_time": "2023-07-17T10:15:36.714Z"
   },
   {
    "duration": 50,
    "start_time": "2023-07-17T10:15:51.351Z"
   },
   {
    "duration": 16,
    "start_time": "2023-07-17T10:15:53.290Z"
   },
   {
    "duration": 46,
    "start_time": "2023-07-17T10:16:02.933Z"
   },
   {
    "duration": 16,
    "start_time": "2023-07-17T10:16:03.535Z"
   },
   {
    "duration": 3,
    "start_time": "2023-07-17T10:16:09.911Z"
   },
   {
    "duration": 723,
    "start_time": "2023-07-17T10:16:10.649Z"
   },
   {
    "duration": 12,
    "start_time": "2023-07-17T10:16:12.200Z"
   },
   {
    "duration": 125,
    "start_time": "2023-07-17T10:16:13.143Z"
   },
   {
    "duration": 1251,
    "start_time": "2023-07-17T10:16:14.099Z"
   },
   {
    "duration": 368,
    "start_time": "2023-07-17T10:16:16.119Z"
   },
   {
    "duration": 386,
    "start_time": "2023-07-17T10:16:17.173Z"
   },
   {
    "duration": 392,
    "start_time": "2023-07-17T10:16:18.018Z"
   },
   {
    "duration": 124,
    "start_time": "2023-07-17T10:16:19.033Z"
   },
   {
    "duration": 5,
    "start_time": "2023-07-17T10:16:19.781Z"
   },
   {
    "duration": 16,
    "start_time": "2023-07-17T10:16:20.661Z"
   },
   {
    "duration": 17,
    "start_time": "2023-07-17T10:16:21.532Z"
   },
   {
    "duration": 179,
    "start_time": "2023-07-17T10:16:23.870Z"
   },
   {
    "duration": 159,
    "start_time": "2023-07-17T10:16:25.069Z"
   },
   {
    "duration": 33,
    "start_time": "2023-07-17T10:16:26.146Z"
   },
   {
    "duration": 184,
    "start_time": "2023-07-17T10:16:27.782Z"
   },
   {
    "duration": 166,
    "start_time": "2023-07-17T10:16:29.773Z"
   },
   {
    "duration": 48,
    "start_time": "2023-07-17T10:16:31.963Z"
   },
   {
    "duration": 16,
    "start_time": "2023-07-17T10:16:34.550Z"
   },
   {
    "duration": 6,
    "start_time": "2023-07-17T10:18:10.362Z"
   },
   {
    "duration": 247,
    "start_time": "2023-07-17T10:18:21.565Z"
   },
   {
    "duration": 21,
    "start_time": "2023-07-17T10:18:50.184Z"
   },
   {
    "duration": 31,
    "start_time": "2023-07-17T10:19:20.971Z"
   },
   {
    "duration": 17,
    "start_time": "2023-07-17T10:19:31.649Z"
   },
   {
    "duration": 42,
    "start_time": "2023-07-17T10:21:59.376Z"
   },
   {
    "duration": 13,
    "start_time": "2023-07-17T10:22:00.184Z"
   },
   {
    "duration": 237,
    "start_time": "2023-07-17T10:22:29.304Z"
   },
   {
    "duration": 113,
    "start_time": "2023-07-17T10:23:02.280Z"
   },
   {
    "duration": 2,
    "start_time": "2023-07-17T10:24:39.244Z"
   },
   {
    "duration": 808,
    "start_time": "2023-07-17T10:24:39.248Z"
   },
   {
    "duration": 13,
    "start_time": "2023-07-17T10:24:40.057Z"
   },
   {
    "duration": 259,
    "start_time": "2023-07-17T10:24:40.072Z"
   },
   {
    "duration": 1142,
    "start_time": "2023-07-17T10:24:40.336Z"
   },
   {
    "duration": 395,
    "start_time": "2023-07-17T10:24:41.480Z"
   },
   {
    "duration": 431,
    "start_time": "2023-07-17T10:24:41.877Z"
   },
   {
    "duration": 369,
    "start_time": "2023-07-17T10:24:42.310Z"
   },
   {
    "duration": 117,
    "start_time": "2023-07-17T10:24:42.680Z"
   },
   {
    "duration": 4,
    "start_time": "2023-07-17T10:24:42.799Z"
   },
   {
    "duration": 60,
    "start_time": "2023-07-17T10:24:42.805Z"
   },
   {
    "duration": 41,
    "start_time": "2023-07-17T10:24:42.867Z"
   },
   {
    "duration": 203,
    "start_time": "2023-07-17T10:24:42.910Z"
   },
   {
    "duration": 311,
    "start_time": "2023-07-17T10:24:43.114Z"
   },
   {
    "duration": 38,
    "start_time": "2023-07-17T10:24:43.433Z"
   },
   {
    "duration": 180,
    "start_time": "2023-07-17T10:24:43.473Z"
   },
   {
    "duration": 180,
    "start_time": "2023-07-17T10:24:43.655Z"
   },
   {
    "duration": 46,
    "start_time": "2023-07-17T10:24:43.837Z"
   },
   {
    "duration": 16,
    "start_time": "2023-07-17T10:24:43.884Z"
   },
   {
    "duration": 240,
    "start_time": "2023-07-17T10:24:43.902Z"
   },
   {
    "duration": 253,
    "start_time": "2023-07-17T10:24:47.935Z"
   },
   {
    "duration": 17,
    "start_time": "2023-07-17T10:24:49.371Z"
   },
   {
    "duration": 18,
    "start_time": "2023-07-17T10:25:21.240Z"
   },
   {
    "duration": 248,
    "start_time": "2023-07-17T10:25:27.501Z"
   },
   {
    "duration": 4208,
    "start_time": "2023-07-17T10:25:49.233Z"
   },
   {
    "duration": 5,
    "start_time": "2023-07-17T10:26:01.775Z"
   },
   {
    "duration": 127,
    "start_time": "2023-07-17T10:26:07.213Z"
   },
   {
    "duration": 26,
    "start_time": "2023-07-17T10:26:26.534Z"
   },
   {
    "duration": 152,
    "start_time": "2023-07-17T10:27:00.614Z"
   },
   {
    "duration": 29,
    "start_time": "2023-07-17T10:27:46.439Z"
   },
   {
    "duration": 10,
    "start_time": "2023-07-17T10:27:54.535Z"
   },
   {
    "duration": 8,
    "start_time": "2023-07-17T10:27:59.648Z"
   },
   {
    "duration": 33,
    "start_time": "2023-07-17T10:28:20.437Z"
   },
   {
    "duration": 179,
    "start_time": "2023-07-17T10:28:28.062Z"
   },
   {
    "duration": 171,
    "start_time": "2023-07-17T10:28:54.734Z"
   },
   {
    "duration": 162,
    "start_time": "2023-07-17T10:29:06.131Z"
   },
   {
    "duration": 205,
    "start_time": "2023-07-17T10:29:37.547Z"
   },
   {
    "duration": 200,
    "start_time": "2023-07-17T10:29:43.575Z"
   },
   {
    "duration": 238,
    "start_time": "2023-07-17T10:29:51.511Z"
   },
   {
    "duration": 580,
    "start_time": "2023-07-17T10:30:12.463Z"
   },
   {
    "duration": 252,
    "start_time": "2023-07-17T10:30:22.515Z"
   },
   {
    "duration": 209,
    "start_time": "2023-07-17T10:30:34.106Z"
   },
   {
    "duration": 46,
    "start_time": "2023-07-17T10:32:22.038Z"
   },
   {
    "duration": 213,
    "start_time": "2023-07-17T10:32:34.484Z"
   },
   {
    "duration": 38,
    "start_time": "2023-07-17T10:32:44.209Z"
   },
   {
    "duration": 115,
    "start_time": "2023-07-17T10:32:54.677Z"
   },
   {
    "duration": 6,
    "start_time": "2023-07-17T10:34:02.279Z"
   },
   {
    "duration": 232,
    "start_time": "2023-07-17T10:34:22.838Z"
   },
   {
    "duration": 180,
    "start_time": "2023-07-17T10:34:58.756Z"
   },
   {
    "duration": 190,
    "start_time": "2023-07-17T10:35:06.155Z"
   },
   {
    "duration": 191,
    "start_time": "2023-07-17T10:35:09.577Z"
   },
   {
    "duration": 33,
    "start_time": "2023-07-17T10:35:44.398Z"
   },
   {
    "duration": 13,
    "start_time": "2023-07-17T10:36:01.691Z"
   },
   {
    "duration": 49,
    "start_time": "2023-07-17T10:38:11.756Z"
   },
   {
    "duration": 15,
    "start_time": "2023-07-17T10:38:37.199Z"
   },
   {
    "duration": 6,
    "start_time": "2023-07-17T10:39:04.204Z"
   },
   {
    "duration": 41,
    "start_time": "2023-07-17T10:39:20.908Z"
   },
   {
    "duration": 6,
    "start_time": "2023-07-17T10:39:40.700Z"
   },
   {
    "duration": 16,
    "start_time": "2023-07-17T10:40:00.164Z"
   },
   {
    "duration": 171,
    "start_time": "2023-07-17T10:40:11.982Z"
   },
   {
    "duration": 177,
    "start_time": "2023-07-17T10:40:50.190Z"
   },
   {
    "duration": 203,
    "start_time": "2023-07-17T10:41:03.615Z"
   },
   {
    "duration": 129,
    "start_time": "2023-07-17T10:41:26.368Z"
   },
   {
    "duration": 78,
    "start_time": "2023-07-17T10:45:52.739Z"
   },
   {
    "duration": 53,
    "start_time": "2023-07-17T10:45:58.743Z"
   },
   {
    "duration": 29,
    "start_time": "2023-07-17T10:47:24.300Z"
   },
   {
    "duration": 36,
    "start_time": "2023-07-17T10:47:37.424Z"
   },
   {
    "duration": 166,
    "start_time": "2023-07-17T10:48:10.951Z"
   },
   {
    "duration": 41,
    "start_time": "2023-07-17T10:48:37.059Z"
   },
   {
    "duration": 90,
    "start_time": "2023-07-17T10:48:44.477Z"
   },
   {
    "duration": 18,
    "start_time": "2023-07-17T10:48:56.654Z"
   },
   {
    "duration": 7,
    "start_time": "2023-07-17T10:51:24.260Z"
   },
   {
    "duration": 314,
    "start_time": "2023-07-17T10:51:37.853Z"
   },
   {
    "duration": 13,
    "start_time": "2023-07-17T10:52:19.166Z"
   },
   {
    "duration": 18,
    "start_time": "2023-07-17T10:52:51.448Z"
   },
   {
    "duration": 6,
    "start_time": "2023-07-17T10:53:25.555Z"
   },
   {
    "duration": 11,
    "start_time": "2023-07-17T10:53:37.854Z"
   },
   {
    "duration": 16,
    "start_time": "2023-07-17T10:53:41.768Z"
   },
   {
    "duration": 492,
    "start_time": "2023-07-17T10:53:57.902Z"
   },
   {
    "duration": 304,
    "start_time": "2023-07-17T10:54:06.114Z"
   },
   {
    "duration": 192,
    "start_time": "2023-07-17T10:54:11.479Z"
   },
   {
    "duration": 251,
    "start_time": "2023-07-17T10:54:27.210Z"
   },
   {
    "duration": 189,
    "start_time": "2023-07-17T10:54:32.741Z"
   },
   {
    "duration": 181,
    "start_time": "2023-07-17T10:54:51.608Z"
   },
   {
    "duration": 3,
    "start_time": "2023-07-17T12:21:50.258Z"
   },
   {
    "duration": 1119,
    "start_time": "2023-07-17T12:21:51.499Z"
   },
   {
    "duration": 18,
    "start_time": "2023-07-17T12:21:53.258Z"
   },
   {
    "duration": 172,
    "start_time": "2023-07-17T12:22:00.865Z"
   },
   {
    "duration": 1234,
    "start_time": "2023-07-17T12:22:12.035Z"
   },
   {
    "duration": 441,
    "start_time": "2023-07-17T12:22:24.546Z"
   },
   {
    "duration": 487,
    "start_time": "2023-07-17T12:22:25.920Z"
   },
   {
    "duration": 433,
    "start_time": "2023-07-17T12:22:27.083Z"
   },
   {
    "duration": 166,
    "start_time": "2023-07-17T12:22:29.411Z"
   },
   {
    "duration": 12,
    "start_time": "2023-07-17T12:22:32.846Z"
   },
   {
    "duration": 36,
    "start_time": "2023-07-17T12:22:48.242Z"
   },
   {
    "duration": 10,
    "start_time": "2023-07-17T12:22:49.038Z"
   },
   {
    "duration": 15,
    "start_time": "2023-07-17T12:23:10.738Z"
   },
   {
    "duration": 17,
    "start_time": "2023-07-17T12:23:13.964Z"
   },
   {
    "duration": 216,
    "start_time": "2023-07-17T12:23:18.342Z"
   },
   {
    "duration": 177,
    "start_time": "2023-07-17T12:23:21.142Z"
   },
   {
    "duration": 40,
    "start_time": "2023-07-17T12:23:25.146Z"
   },
   {
    "duration": 227,
    "start_time": "2023-07-17T12:23:31.163Z"
   },
   {
    "duration": 184,
    "start_time": "2023-07-17T12:23:34.795Z"
   },
   {
    "duration": 64,
    "start_time": "2023-07-17T12:23:37.907Z"
   },
   {
    "duration": 55,
    "start_time": "2023-07-17T12:23:40.803Z"
   },
   {
    "duration": 21,
    "start_time": "2023-07-17T12:24:03.450Z"
   },
   {
    "duration": 274,
    "start_time": "2023-07-17T12:24:08.179Z"
   },
   {
    "duration": 18,
    "start_time": "2023-07-17T12:24:15.764Z"
   },
   {
    "duration": 367,
    "start_time": "2023-07-17T12:24:17.418Z"
   },
   {
    "duration": 7,
    "start_time": "2023-07-17T12:24:35.163Z"
   },
   {
    "duration": 41,
    "start_time": "2023-07-17T12:24:41.050Z"
   },
   {
    "duration": 222,
    "start_time": "2023-07-17T12:24:44.054Z"
   },
   {
    "duration": 66,
    "start_time": "2023-07-17T12:25:12.387Z"
   },
   {
    "duration": 42,
    "start_time": "2023-07-17T12:25:13.939Z"
   },
   {
    "duration": 14,
    "start_time": "2023-07-17T12:25:30.296Z"
   },
   {
    "duration": 257,
    "start_time": "2023-07-17T12:25:34.958Z"
   },
   {
    "duration": 28,
    "start_time": "2023-07-17T12:25:39.263Z"
   },
   {
    "duration": 73,
    "start_time": "2023-07-17T12:25:44.393Z"
   },
   {
    "duration": 26,
    "start_time": "2023-07-17T12:25:46.062Z"
   },
   {
    "duration": 11,
    "start_time": "2023-07-17T12:25:49.534Z"
   },
   {
    "duration": 23,
    "start_time": "2023-07-17T12:25:50.962Z"
   },
   {
    "duration": 213,
    "start_time": "2023-07-17T12:26:09.146Z"
   },
   {
    "duration": 49,
    "start_time": "2023-07-17T12:26:10.452Z"
   },
   {
    "duration": 15,
    "start_time": "2023-07-17T12:26:15.103Z"
   },
   {
    "duration": 22,
    "start_time": "2023-07-17T12:26:15.959Z"
   },
   {
    "duration": 181,
    "start_time": "2023-07-17T12:26:19.178Z"
   },
   {
    "duration": 38,
    "start_time": "2023-07-17T12:26:31.378Z"
   },
   {
    "duration": 19,
    "start_time": "2023-07-17T12:26:32.499Z"
   },
   {
    "duration": 22,
    "start_time": "2023-07-17T12:26:52.554Z"
   },
   {
    "duration": 12,
    "start_time": "2023-07-17T12:26:54.505Z"
   },
   {
    "duration": 294,
    "start_time": "2023-07-17T12:26:59.151Z"
   },
   {
    "duration": 14,
    "start_time": "2023-07-17T12:27:03.780Z"
   },
   {
    "duration": 5,
    "start_time": "2023-07-17T12:27:05.207Z"
   },
   {
    "duration": 27,
    "start_time": "2023-07-17T12:27:08.414Z"
   },
   {
    "duration": 201,
    "start_time": "2023-07-17T12:27:50.762Z"
   },
   {
    "duration": 9,
    "start_time": "2023-07-17T12:28:33.757Z"
   },
   {
    "duration": 11,
    "start_time": "2023-07-17T12:28:53.188Z"
   },
   {
    "duration": 39,
    "start_time": "2023-07-17T12:29:05.302Z"
   },
   {
    "duration": 21,
    "start_time": "2023-07-17T12:29:19.894Z"
   },
   {
    "duration": 2479,
    "start_time": "2023-07-17T12:29:43.189Z"
   },
   {
    "duration": 195,
    "start_time": "2023-07-17T12:29:55.350Z"
   },
   {
    "duration": 14,
    "start_time": "2023-07-17T12:30:38.372Z"
   },
   {
    "duration": 42,
    "start_time": "2023-07-17T12:30:57.350Z"
   },
   {
    "duration": 247,
    "start_time": "2023-07-17T12:31:20.085Z"
   },
   {
    "duration": 15,
    "start_time": "2023-07-17T12:32:00.182Z"
   },
   {
    "duration": 13,
    "start_time": "2023-07-17T12:32:10.390Z"
   },
   {
    "duration": 12,
    "start_time": "2023-07-17T12:32:36.597Z"
   },
   {
    "duration": 311,
    "start_time": "2023-07-17T12:32:52.842Z"
   },
   {
    "duration": 29,
    "start_time": "2023-07-17T12:33:38.141Z"
   },
   {
    "duration": 240,
    "start_time": "2023-07-17T12:34:05.465Z"
   },
   {
    "duration": 16,
    "start_time": "2023-07-17T12:34:41.277Z"
   },
   {
    "duration": 15,
    "start_time": "2023-07-17T12:34:48.064Z"
   },
   {
    "duration": 217,
    "start_time": "2023-07-17T12:34:54.583Z"
   },
   {
    "duration": 24,
    "start_time": "2023-07-17T12:35:10.981Z"
   },
   {
    "duration": 13,
    "start_time": "2023-07-17T12:35:34.882Z"
   },
   {
    "duration": 7,
    "start_time": "2023-07-17T12:35:45.475Z"
   },
   {
    "duration": 5,
    "start_time": "2023-07-17T12:36:26.712Z"
   },
   {
    "duration": 22,
    "start_time": "2023-07-17T12:36:57.373Z"
   },
   {
    "duration": 16,
    "start_time": "2023-07-17T12:37:14.014Z"
   },
   {
    "duration": 26,
    "start_time": "2023-07-17T12:37:22.546Z"
   },
   {
    "duration": 5,
    "start_time": "2023-07-17T12:38:20.470Z"
   },
   {
    "duration": 5,
    "start_time": "2023-07-17T12:38:42.013Z"
   },
   {
    "duration": 17,
    "start_time": "2023-07-17T12:38:51.848Z"
   },
   {
    "duration": 26,
    "start_time": "2023-07-17T12:39:19.366Z"
   },
   {
    "duration": 9,
    "start_time": "2023-07-17T12:39:26.755Z"
   },
   {
    "duration": 132,
    "start_time": "2023-07-17T12:39:35.568Z"
   },
   {
    "duration": 65,
    "start_time": "2023-07-17T12:39:53.916Z"
   },
   {
    "duration": 64,
    "start_time": "2023-07-17T12:40:02.485Z"
   },
   {
    "duration": 122,
    "start_time": "2023-07-17T12:40:32.163Z"
   },
   {
    "duration": 116,
    "start_time": "2023-07-17T12:40:47.982Z"
   },
   {
    "duration": 15,
    "start_time": "2023-07-17T12:40:56.766Z"
   },
   {
    "duration": 477,
    "start_time": "2023-07-17T12:41:07.122Z"
   },
   {
    "duration": 15,
    "start_time": "2023-07-17T13:22:05.685Z"
   },
   {
    "duration": 80,
    "start_time": "2023-07-17T13:25:26.268Z"
   },
   {
    "duration": 7,
    "start_time": "2023-07-17T13:25:35.457Z"
   },
   {
    "duration": 13,
    "start_time": "2023-07-17T13:26:04.757Z"
   },
   {
    "duration": 11,
    "start_time": "2023-07-17T13:26:14.142Z"
   },
   {
    "duration": 4,
    "start_time": "2023-07-17T13:26:48.987Z"
   },
   {
    "duration": 14,
    "start_time": "2023-07-17T13:26:56.669Z"
   },
   {
    "duration": 38,
    "start_time": "2023-07-17T13:28:19.265Z"
   },
   {
    "duration": 13,
    "start_time": "2023-07-17T13:28:24.879Z"
   },
   {
    "duration": 100,
    "start_time": "2023-07-17T13:28:35.346Z"
   },
   {
    "duration": 19,
    "start_time": "2023-07-17T13:28:36.140Z"
   },
   {
    "duration": 3,
    "start_time": "2023-07-17T13:28:49.548Z"
   },
   {
    "duration": 1312,
    "start_time": "2023-07-17T13:28:49.553Z"
   },
   {
    "duration": 14,
    "start_time": "2023-07-17T13:28:50.866Z"
   },
   {
    "duration": 228,
    "start_time": "2023-07-17T13:28:50.882Z"
   },
   {
    "duration": 1322,
    "start_time": "2023-07-17T13:28:51.111Z"
   },
   {
    "duration": 422,
    "start_time": "2023-07-17T13:28:52.434Z"
   },
   {
    "duration": 441,
    "start_time": "2023-07-17T13:28:52.858Z"
   },
   {
    "duration": 463,
    "start_time": "2023-07-17T13:28:53.301Z"
   },
   {
    "duration": 118,
    "start_time": "2023-07-17T13:28:53.768Z"
   },
   {
    "duration": 16,
    "start_time": "2023-07-17T13:28:53.888Z"
   },
   {
    "duration": 60,
    "start_time": "2023-07-17T13:28:53.905Z"
   },
   {
    "duration": 23,
    "start_time": "2023-07-17T13:28:53.966Z"
   },
   {
    "duration": 24,
    "start_time": "2023-07-17T13:28:53.991Z"
   },
   {
    "duration": 231,
    "start_time": "2023-07-17T13:28:54.017Z"
   },
   {
    "duration": 146,
    "start_time": "2023-07-17T13:28:54.254Z"
   },
   {
    "duration": 52,
    "start_time": "2023-07-17T13:28:54.401Z"
   },
   {
    "duration": 183,
    "start_time": "2023-07-17T13:28:54.454Z"
   },
   {
    "duration": 212,
    "start_time": "2023-07-17T13:28:54.638Z"
   },
   {
    "duration": 51,
    "start_time": "2023-07-17T13:28:54.852Z"
   },
   {
    "duration": 32,
    "start_time": "2023-07-17T13:28:54.904Z"
   },
   {
    "duration": 27,
    "start_time": "2023-07-17T13:28:54.937Z"
   },
   {
    "duration": 296,
    "start_time": "2023-07-17T13:28:54.965Z"
   },
   {
    "duration": 16,
    "start_time": "2023-07-17T13:28:55.263Z"
   },
   {
    "duration": 322,
    "start_time": "2023-07-17T13:28:55.283Z"
   },
   {
    "duration": 26,
    "start_time": "2023-07-17T13:28:55.607Z"
   },
   {
    "duration": 64,
    "start_time": "2023-07-17T13:28:55.640Z"
   },
   {
    "duration": 204,
    "start_time": "2023-07-17T13:28:55.713Z"
   },
   {
    "duration": 51,
    "start_time": "2023-07-17T13:28:55.918Z"
   },
   {
    "duration": 27,
    "start_time": "2023-07-17T13:28:55.971Z"
   },
   {
    "duration": 42,
    "start_time": "2023-07-17T13:28:55.999Z"
   },
   {
    "duration": 234,
    "start_time": "2023-07-17T13:28:56.047Z"
   },
   {
    "duration": 27,
    "start_time": "2023-07-17T13:28:56.283Z"
   },
   {
    "duration": 88,
    "start_time": "2023-07-17T13:28:56.320Z"
   },
   {
    "duration": 39,
    "start_time": "2023-07-17T13:28:56.409Z"
   },
   {
    "duration": 17,
    "start_time": "2023-07-17T13:28:56.450Z"
   },
   {
    "duration": 29,
    "start_time": "2023-07-17T13:28:56.468Z"
   },
   {
    "duration": 176,
    "start_time": "2023-07-17T13:28:56.499Z"
   },
   {
    "duration": 14,
    "start_time": "2023-07-17T13:28:56.677Z"
   },
   {
    "duration": 40,
    "start_time": "2023-07-17T13:28:56.693Z"
   },
   {
    "duration": 176,
    "start_time": "2023-07-17T13:28:56.735Z"
   },
   {
    "duration": 53,
    "start_time": "2023-07-17T13:28:56.913Z"
   },
   {
    "duration": 19,
    "start_time": "2023-07-17T13:28:56.967Z"
   },
   {
    "duration": 14,
    "start_time": "2023-07-17T13:28:56.988Z"
   },
   {
    "duration": 281,
    "start_time": "2023-07-17T13:28:57.004Z"
   },
   {
    "duration": 15,
    "start_time": "2023-07-17T13:28:57.286Z"
   },
   {
    "duration": 17,
    "start_time": "2023-07-17T13:28:57.302Z"
   },
   {
    "duration": 45,
    "start_time": "2023-07-17T13:28:57.322Z"
   },
   {
    "duration": 185,
    "start_time": "2023-07-17T13:28:57.369Z"
   },
   {
    "duration": 4,
    "start_time": "2023-07-17T13:28:57.556Z"
   },
   {
    "duration": 31,
    "start_time": "2023-07-17T13:28:57.562Z"
   },
   {
    "duration": 133,
    "start_time": "2023-07-17T13:28:57.595Z"
   },
   {
    "duration": 24,
    "start_time": "2023-07-17T13:28:57.731Z"
   },
   {
    "duration": 218,
    "start_time": "2023-07-17T13:28:57.756Z"
   },
   {
    "duration": 34,
    "start_time": "2023-07-17T13:28:57.976Z"
   },
   {
    "duration": 64,
    "start_time": "2023-07-17T13:28:58.012Z"
   },
   {
    "duration": 37,
    "start_time": "2023-07-17T13:28:58.078Z"
   },
   {
    "duration": 58,
    "start_time": "2023-07-17T13:28:58.117Z"
   },
   {
    "duration": 407,
    "start_time": "2023-07-17T13:28:58.177Z"
   },
   {
    "duration": 13,
    "start_time": "2023-07-17T13:28:58.586Z"
   },
   {
    "duration": 179,
    "start_time": "2023-07-17T13:28:58.601Z"
   },
   {
    "duration": 16,
    "start_time": "2023-07-17T13:28:58.782Z"
   },
   {
    "duration": 49,
    "start_time": "2023-07-17T13:28:58.800Z"
   },
   {
    "duration": 209,
    "start_time": "2023-07-17T13:28:58.851Z"
   },
   {
    "duration": 24,
    "start_time": "2023-07-17T13:28:59.061Z"
   },
   {
    "duration": 65,
    "start_time": "2023-07-17T13:28:59.086Z"
   },
   {
    "duration": 26,
    "start_time": "2023-07-17T13:28:59.152Z"
   },
   {
    "duration": 76,
    "start_time": "2023-07-17T13:28:59.179Z"
   },
   {
    "duration": 29,
    "start_time": "2023-07-17T13:28:59.257Z"
   },
   {
    "duration": 10,
    "start_time": "2023-07-17T13:28:59.292Z"
   },
   {
    "duration": 56,
    "start_time": "2023-07-17T13:28:59.304Z"
   },
   {
    "duration": 111,
    "start_time": "2023-07-17T13:28:59.361Z"
   },
   {
    "duration": 12,
    "start_time": "2023-07-17T13:28:59.473Z"
   },
   {
    "duration": 114,
    "start_time": "2023-07-17T13:28:59.487Z"
   },
   {
    "duration": 146,
    "start_time": "2023-07-17T13:28:59.603Z"
   },
   {
    "duration": 322,
    "start_time": "2023-07-17T13:28:59.751Z"
   },
   {
    "duration": 33,
    "start_time": "2023-07-17T13:29:00.075Z"
   },
   {
    "duration": 63,
    "start_time": "2023-07-17T13:29:00.126Z"
   },
   {
    "duration": 17,
    "start_time": "2023-07-17T13:29:00.190Z"
   },
   {
    "duration": 45,
    "start_time": "2023-07-17T13:29:00.209Z"
   },
   {
    "duration": 33,
    "start_time": "2023-07-17T13:29:00.256Z"
   },
   {
    "duration": 99,
    "start_time": "2023-07-17T13:29:00.291Z"
   },
   {
    "duration": 145,
    "start_time": "2023-07-17T13:29:00.392Z"
   },
   {
    "duration": 13,
    "start_time": "2023-07-17T13:29:03.260Z"
   },
   {
    "duration": 4,
    "start_time": "2023-07-17T13:30:33.973Z"
   },
   {
    "duration": 2789,
    "start_time": "2023-07-17T13:32:18.312Z"
   },
   {
    "duration": 2348,
    "start_time": "2023-07-17T13:32:48.197Z"
   },
   {
    "duration": 3,
    "start_time": "2023-07-17T13:33:24.689Z"
   },
   {
    "duration": 9,
    "start_time": "2023-07-17T13:33:28.640Z"
   },
   {
    "duration": 10,
    "start_time": "2023-07-17T13:33:37.752Z"
   },
   {
    "duration": 1536,
    "start_time": "2023-07-18T08:40:53.041Z"
   },
   {
    "duration": 1335,
    "start_time": "2023-07-18T08:40:55.415Z"
   },
   {
    "duration": 26,
    "start_time": "2023-07-18T08:40:58.494Z"
   },
   {
    "duration": 141,
    "start_time": "2023-07-18T08:41:00.035Z"
   },
   {
    "duration": 1698,
    "start_time": "2023-07-18T08:41:01.288Z"
   },
   {
    "duration": 562,
    "start_time": "2023-07-18T08:41:03.865Z"
   },
   {
    "duration": 638,
    "start_time": "2023-07-18T08:41:05.143Z"
   },
   {
    "duration": 571,
    "start_time": "2023-07-18T08:41:06.252Z"
   },
   {
    "duration": 122,
    "start_time": "2023-07-18T08:41:07.803Z"
   },
   {
    "duration": 21,
    "start_time": "2023-07-18T08:41:08.679Z"
   },
   {
    "duration": 6,
    "start_time": "2023-07-18T08:41:09.807Z"
   },
   {
    "duration": 6,
    "start_time": "2023-07-18T08:41:10.511Z"
   },
   {
    "duration": 23,
    "start_time": "2023-07-18T08:41:11.462Z"
   },
   {
    "duration": 227,
    "start_time": "2023-07-18T08:41:12.204Z"
   },
   {
    "duration": 177,
    "start_time": "2023-07-18T08:41:13.331Z"
   },
   {
    "duration": 52,
    "start_time": "2023-07-18T08:41:14.203Z"
   },
   {
    "duration": 320,
    "start_time": "2023-07-18T08:41:14.979Z"
   },
   {
    "duration": 243,
    "start_time": "2023-07-18T08:41:16.144Z"
   },
   {
    "duration": 61,
    "start_time": "2023-07-18T08:41:16.864Z"
   },
   {
    "duration": 22,
    "start_time": "2023-07-18T08:41:17.680Z"
   },
   {
    "duration": 20,
    "start_time": "2023-07-18T08:41:18.669Z"
   },
   {
    "duration": 248,
    "start_time": "2023-07-18T08:41:19.310Z"
   },
   {
    "duration": 21,
    "start_time": "2023-07-18T08:41:19.938Z"
   },
   {
    "duration": 253,
    "start_time": "2023-07-18T08:41:20.790Z"
   },
   {
    "duration": 6,
    "start_time": "2023-07-18T08:41:21.725Z"
   },
   {
    "duration": 32,
    "start_time": "2023-07-18T08:41:22.692Z"
   },
   {
    "duration": 222,
    "start_time": "2023-07-18T08:41:23.730Z"
   },
   {
    "duration": 60,
    "start_time": "2023-07-18T08:41:24.502Z"
   },
   {
    "duration": 36,
    "start_time": "2023-07-18T08:41:25.547Z"
   },
   {
    "duration": 15,
    "start_time": "2023-07-18T08:41:26.331Z"
   },
   {
    "duration": 207,
    "start_time": "2023-07-18T08:41:26.933Z"
   },
   {
    "duration": 31,
    "start_time": "2023-07-18T08:41:27.730Z"
   },
   {
    "duration": 82,
    "start_time": "2023-07-18T08:41:28.353Z"
   },
   {
    "duration": 17,
    "start_time": "2023-07-18T08:41:29.220Z"
   },
   {
    "duration": 6,
    "start_time": "2023-07-18T08:41:29.851Z"
   },
   {
    "duration": 20,
    "start_time": "2023-07-18T08:41:30.445Z"
   },
   {
    "duration": 209,
    "start_time": "2023-07-18T08:41:31.545Z"
   },
   {
    "duration": 26,
    "start_time": "2023-07-18T08:41:32.468Z"
   },
   {
    "duration": 25,
    "start_time": "2023-07-18T08:41:33.312Z"
   },
   {
    "duration": 201,
    "start_time": "2023-07-18T08:41:34.131Z"
   },
   {
    "duration": 50,
    "start_time": "2023-07-18T08:41:35.073Z"
   },
   {
    "duration": 22,
    "start_time": "2023-07-18T08:41:35.841Z"
   },
   {
    "duration": 15,
    "start_time": "2023-07-18T08:41:36.454Z"
   },
   {
    "duration": 257,
    "start_time": "2023-07-18T08:41:37.168Z"
   },
   {
    "duration": 21,
    "start_time": "2023-07-18T08:41:38.379Z"
   },
   {
    "duration": 6,
    "start_time": "2023-07-18T08:41:39.265Z"
   },
   {
    "duration": 20,
    "start_time": "2023-07-18T08:41:39.886Z"
   },
   {
    "duration": 207,
    "start_time": "2023-07-18T08:41:40.702Z"
   },
   {
    "duration": 8,
    "start_time": "2023-07-18T08:41:41.334Z"
   },
   {
    "duration": 26,
    "start_time": "2023-07-18T08:41:42.029Z"
   },
   {
    "duration": 169,
    "start_time": "2023-07-18T08:41:43.238Z"
   },
   {
    "duration": 15,
    "start_time": "2023-07-18T08:41:44.010Z"
   },
   {
    "duration": 202,
    "start_time": "2023-07-18T08:41:44.772Z"
   },
   {
    "duration": 28,
    "start_time": "2023-07-18T08:41:45.749Z"
   },
   {
    "duration": 16,
    "start_time": "2023-07-18T08:41:46.463Z"
   },
   {
    "duration": 14,
    "start_time": "2023-07-18T08:41:47.207Z"
   },
   {
    "duration": 14,
    "start_time": "2023-07-18T08:41:47.804Z"
   },
   {
    "duration": 305,
    "start_time": "2023-07-18T08:41:48.438Z"
   },
   {
    "duration": 14,
    "start_time": "2023-07-18T08:41:49.491Z"
   },
   {
    "duration": 174,
    "start_time": "2023-07-18T08:41:50.435Z"
   },
   {
    "duration": 22,
    "start_time": "2023-07-18T08:41:51.368Z"
   },
   {
    "duration": 15,
    "start_time": "2023-07-18T08:41:52.298Z"
   },
   {
    "duration": 195,
    "start_time": "2023-07-18T08:41:52.987Z"
   },
   {
    "duration": 29,
    "start_time": "2023-07-18T08:41:53.887Z"
   },
   {
    "duration": 17,
    "start_time": "2023-07-18T08:41:54.588Z"
   },
   {
    "duration": 8,
    "start_time": "2023-07-18T08:41:55.481Z"
   },
   {
    "duration": 6,
    "start_time": "2023-07-18T08:41:56.133Z"
   },
   {
    "duration": 6,
    "start_time": "2023-07-18T08:41:56.844Z"
   },
   {
    "duration": 6,
    "start_time": "2023-07-18T08:41:57.585Z"
   },
   {
    "duration": 8,
    "start_time": "2023-07-18T08:41:58.253Z"
   },
   {
    "duration": 20,
    "start_time": "2023-07-18T08:41:59.061Z"
   },
   {
    "duration": 7,
    "start_time": "2023-07-18T08:41:59.890Z"
   },
   {
    "duration": 106,
    "start_time": "2023-07-18T08:42:01.601Z"
   },
   {
    "duration": 105,
    "start_time": "2023-07-18T08:42:02.949Z"
   },
   {
    "duration": 397,
    "start_time": "2023-07-18T08:42:04.162Z"
   },
   {
    "duration": 46,
    "start_time": "2023-07-18T08:42:05.509Z"
   },
   {
    "duration": 53,
    "start_time": "2023-07-18T08:42:20.065Z"
   },
   {
    "duration": 24,
    "start_time": "2023-07-18T08:42:29.163Z"
   },
   {
    "duration": 15,
    "start_time": "2023-07-18T08:42:39.008Z"
   },
   {
    "duration": 75,
    "start_time": "2023-07-18T08:42:44.300Z"
   },
   {
    "duration": 27,
    "start_time": "2023-07-18T08:42:45.851Z"
   },
   {
    "duration": 7,
    "start_time": "2023-07-18T08:42:47.117Z"
   },
   {
    "duration": 5,
    "start_time": "2023-07-18T08:42:56.770Z"
   },
   {
    "duration": 18,
    "start_time": "2023-07-18T08:42:58.063Z"
   },
   {
    "duration": 70,
    "start_time": "2023-07-18T08:43:09.469Z"
   },
   {
    "duration": 16,
    "start_time": "2023-07-18T08:43:11.755Z"
   },
   {
    "duration": 5,
    "start_time": "2023-07-18T08:43:16.828Z"
   },
   {
    "duration": 108,
    "start_time": "2023-07-18T08:46:43.016Z"
   },
   {
    "duration": 1632,
    "start_time": "2023-07-18T08:46:51.430Z"
   },
   {
    "duration": 4,
    "start_time": "2023-07-18T08:49:44.303Z"
   },
   {
    "duration": 5,
    "start_time": "2023-07-18T08:49:48.150Z"
   },
   {
    "duration": 4,
    "start_time": "2023-07-18T08:53:34.975Z"
   },
   {
    "duration": 5,
    "start_time": "2023-07-18T08:53:38.727Z"
   },
   {
    "duration": 10,
    "start_time": "2023-07-18T08:54:08.869Z"
   },
   {
    "duration": 6,
    "start_time": "2023-07-18T08:54:14.876Z"
   },
   {
    "duration": 3,
    "start_time": "2023-07-18T08:54:22.970Z"
   },
   {
    "duration": 928,
    "start_time": "2023-07-18T08:54:22.975Z"
   },
   {
    "duration": 14,
    "start_time": "2023-07-18T08:54:23.905Z"
   },
   {
    "duration": 318,
    "start_time": "2023-07-18T08:54:23.921Z"
   },
   {
    "duration": 1515,
    "start_time": "2023-07-18T08:54:24.241Z"
   },
   {
    "duration": 458,
    "start_time": "2023-07-18T08:54:25.759Z"
   },
   {
    "duration": 480,
    "start_time": "2023-07-18T08:54:26.219Z"
   },
   {
    "duration": 515,
    "start_time": "2023-07-18T08:54:26.701Z"
   },
   {
    "duration": 135,
    "start_time": "2023-07-18T08:54:27.218Z"
   },
   {
    "duration": 101,
    "start_time": "2023-07-18T08:54:27.355Z"
   },
   {
    "duration": 42,
    "start_time": "2023-07-18T08:54:27.460Z"
   },
   {
    "duration": 14,
    "start_time": "2023-07-18T08:54:27.504Z"
   },
   {
    "duration": 26,
    "start_time": "2023-07-18T08:54:27.520Z"
   },
   {
    "duration": 235,
    "start_time": "2023-07-18T08:54:27.548Z"
   },
   {
    "duration": 169,
    "start_time": "2023-07-18T08:54:27.785Z"
   },
   {
    "duration": 47,
    "start_time": "2023-07-18T08:54:27.956Z"
   },
   {
    "duration": 248,
    "start_time": "2023-07-18T08:54:28.005Z"
   },
   {
    "duration": 275,
    "start_time": "2023-07-18T08:54:28.256Z"
   },
   {
    "duration": 67,
    "start_time": "2023-07-18T08:54:28.534Z"
   },
   {
    "duration": 20,
    "start_time": "2023-07-18T08:54:28.603Z"
   },
   {
    "duration": 30,
    "start_time": "2023-07-18T08:54:28.625Z"
   },
   {
    "duration": 249,
    "start_time": "2023-07-18T08:54:28.657Z"
   },
   {
    "duration": 18,
    "start_time": "2023-07-18T08:54:28.908Z"
   },
   {
    "duration": 268,
    "start_time": "2023-07-18T08:54:28.928Z"
   },
   {
    "duration": 5,
    "start_time": "2023-07-18T08:54:29.198Z"
   },
   {
    "duration": 48,
    "start_time": "2023-07-18T08:54:29.205Z"
   },
   {
    "duration": 235,
    "start_time": "2023-07-18T08:54:29.255Z"
   },
   {
    "duration": 47,
    "start_time": "2023-07-18T08:54:29.492Z"
   },
   {
    "duration": 29,
    "start_time": "2023-07-18T08:54:29.555Z"
   },
   {
    "duration": 15,
    "start_time": "2023-07-18T08:54:29.585Z"
   },
   {
    "duration": 221,
    "start_time": "2023-07-18T08:54:29.601Z"
   },
   {
    "duration": 33,
    "start_time": "2023-07-18T08:54:29.824Z"
   },
   {
    "duration": 61,
    "start_time": "2023-07-18T08:54:29.859Z"
   },
   {
    "duration": 15,
    "start_time": "2023-07-18T08:54:29.922Z"
   },
   {
    "duration": 5,
    "start_time": "2023-07-18T08:54:29.952Z"
   },
   {
    "duration": 26,
    "start_time": "2023-07-18T08:54:29.959Z"
   },
   {
    "duration": 218,
    "start_time": "2023-07-18T08:54:29.987Z"
   },
   {
    "duration": 22,
    "start_time": "2023-07-18T08:54:30.207Z"
   },
   {
    "duration": 39,
    "start_time": "2023-07-18T08:54:30.231Z"
   },
   {
    "duration": 387,
    "start_time": "2023-07-18T08:54:30.272Z"
   },
   {
    "duration": 48,
    "start_time": "2023-07-18T08:54:30.662Z"
   },
   {
    "duration": 127,
    "start_time": "2023-07-18T08:54:30.712Z"
   },
   {
    "duration": 120,
    "start_time": "2023-07-18T08:54:30.841Z"
   },
   {
    "duration": 268,
    "start_time": "2023-07-18T08:54:30.963Z"
   },
   {
    "duration": 23,
    "start_time": "2023-07-18T08:54:31.232Z"
   },
   {
    "duration": 29,
    "start_time": "2023-07-18T08:54:31.257Z"
   },
   {
    "duration": 37,
    "start_time": "2023-07-18T08:54:31.288Z"
   },
   {
    "duration": 243,
    "start_time": "2023-07-18T08:54:31.326Z"
   },
   {
    "duration": 6,
    "start_time": "2023-07-18T08:54:31.572Z"
   },
   {
    "duration": 58,
    "start_time": "2023-07-18T08:54:31.580Z"
   },
   {
    "duration": 190,
    "start_time": "2023-07-18T08:54:31.640Z"
   },
   {
    "duration": 20,
    "start_time": "2023-07-18T08:54:31.832Z"
   },
   {
    "duration": 220,
    "start_time": "2023-07-18T08:54:31.854Z"
   },
   {
    "duration": 31,
    "start_time": "2023-07-18T08:54:32.076Z"
   },
   {
    "duration": 29,
    "start_time": "2023-07-18T08:54:32.110Z"
   },
   {
    "duration": 23,
    "start_time": "2023-07-18T08:54:32.142Z"
   },
   {
    "duration": 44,
    "start_time": "2023-07-18T08:54:32.167Z"
   },
   {
    "duration": 252,
    "start_time": "2023-07-18T08:54:32.213Z"
   },
   {
    "duration": 18,
    "start_time": "2023-07-18T08:54:32.467Z"
   },
   {
    "duration": 246,
    "start_time": "2023-07-18T08:54:32.488Z"
   },
   {
    "duration": 24,
    "start_time": "2023-07-18T08:54:32.735Z"
   },
   {
    "duration": 80,
    "start_time": "2023-07-18T08:54:32.761Z"
   },
   {
    "duration": 203,
    "start_time": "2023-07-18T08:54:32.843Z"
   },
   {
    "duration": 30,
    "start_time": "2023-07-18T08:54:33.048Z"
   },
   {
    "duration": 44,
    "start_time": "2023-07-18T08:54:33.080Z"
   },
   {
    "duration": 18,
    "start_time": "2023-07-18T08:54:33.126Z"
   },
   {
    "duration": 91,
    "start_time": "2023-07-18T08:54:33.146Z"
   },
   {
    "duration": 28,
    "start_time": "2023-07-18T08:54:33.239Z"
   },
   {
    "duration": 78,
    "start_time": "2023-07-18T08:54:33.269Z"
   },
   {
    "duration": 49,
    "start_time": "2023-07-18T08:54:33.350Z"
   },
   {
    "duration": 35,
    "start_time": "2023-07-18T08:54:33.400Z"
   },
   {
    "duration": 119,
    "start_time": "2023-07-18T08:54:33.438Z"
   },
   {
    "duration": 153,
    "start_time": "2023-07-18T08:54:33.559Z"
   },
   {
    "duration": 109,
    "start_time": "2023-07-18T08:54:33.714Z"
   },
   {
    "duration": 382,
    "start_time": "2023-07-18T08:54:33.826Z"
   },
   {
    "duration": 22,
    "start_time": "2023-07-18T08:54:34.210Z"
   },
   {
    "duration": 26,
    "start_time": "2023-07-18T08:54:34.234Z"
   },
   {
    "duration": 89,
    "start_time": "2023-07-18T08:54:34.262Z"
   },
   {
    "duration": 28,
    "start_time": "2023-07-18T08:54:34.353Z"
   },
   {
    "duration": 6,
    "start_time": "2023-07-18T08:54:34.383Z"
   },
   {
    "duration": 20,
    "start_time": "2023-07-18T08:54:34.391Z"
   },
   {
    "duration": 23,
    "start_time": "2023-07-18T08:54:34.412Z"
   },
   {
    "duration": 83,
    "start_time": "2023-07-18T08:54:34.455Z"
   },
   {
    "duration": 26,
    "start_time": "2023-07-18T08:54:34.540Z"
   },
   {
    "duration": 16,
    "start_time": "2023-07-18T08:54:40.324Z"
   },
   {
    "duration": 4,
    "start_time": "2023-07-18T08:54:44.563Z"
   },
   {
    "duration": 33,
    "start_time": "2023-07-18T08:54:45.274Z"
   },
   {
    "duration": 18,
    "start_time": "2023-07-18T08:54:46.917Z"
   },
   {
    "duration": 475,
    "start_time": "2023-07-18T08:59:43.955Z"
   },
   {
    "duration": 79,
    "start_time": "2023-07-18T09:02:58.813Z"
   },
   {
    "duration": 18,
    "start_time": "2023-07-18T09:03:17.257Z"
   },
   {
    "duration": 10,
    "start_time": "2023-07-18T09:03:47.260Z"
   },
   {
    "duration": 18,
    "start_time": "2023-07-18T09:03:56.894Z"
   },
   {
    "duration": 4,
    "start_time": "2023-07-18T09:04:06.080Z"
   },
   {
    "duration": 4,
    "start_time": "2023-07-18T09:04:19.176Z"
   },
   {
    "duration": 4,
    "start_time": "2023-07-18T09:04:31.265Z"
   },
   {
    "duration": 36,
    "start_time": "2023-07-18T09:05:08.143Z"
   },
   {
    "duration": 5,
    "start_time": "2023-07-18T09:05:30.848Z"
   },
   {
    "duration": 42,
    "start_time": "2023-07-18T09:08:37.429Z"
   },
   {
    "duration": 4,
    "start_time": "2023-07-18T09:09:34.012Z"
   },
   {
    "duration": 4,
    "start_time": "2023-07-18T09:14:13.152Z"
   },
   {
    "duration": 3,
    "start_time": "2023-07-18T09:14:39.956Z"
   },
   {
    "duration": 479,
    "start_time": "2023-07-18T09:15:59.200Z"
   },
   {
    "duration": 84,
    "start_time": "2023-07-18T09:16:40.215Z"
   },
   {
    "duration": 109,
    "start_time": "2023-07-18T09:16:51.747Z"
   },
   {
    "duration": 7,
    "start_time": "2023-07-18T09:18:01.216Z"
   },
   {
    "duration": 1130,
    "start_time": "2023-07-18T09:18:01.225Z"
   },
   {
    "duration": 19,
    "start_time": "2023-07-18T09:18:02.358Z"
   },
   {
    "duration": 218,
    "start_time": "2023-07-18T09:18:02.380Z"
   },
   {
    "duration": 1314,
    "start_time": "2023-07-18T09:18:02.602Z"
   },
   {
    "duration": 508,
    "start_time": "2023-07-18T09:18:03.919Z"
   },
   {
    "duration": 550,
    "start_time": "2023-07-18T09:18:04.430Z"
   },
   {
    "duration": 599,
    "start_time": "2023-07-18T09:18:04.982Z"
   },
   {
    "duration": 127,
    "start_time": "2023-07-18T09:18:05.584Z"
   },
   {
    "duration": 37,
    "start_time": "2023-07-18T09:18:05.714Z"
   },
   {
    "duration": 8,
    "start_time": "2023-07-18T09:18:05.756Z"
   },
   {
    "duration": 12,
    "start_time": "2023-07-18T09:18:05.766Z"
   },
   {
    "duration": 55,
    "start_time": "2023-07-18T09:18:05.781Z"
   },
   {
    "duration": 234,
    "start_time": "2023-07-18T09:18:05.839Z"
   },
   {
    "duration": 348,
    "start_time": "2023-07-18T09:18:06.075Z"
   },
   {
    "duration": 53,
    "start_time": "2023-07-18T09:18:06.425Z"
   },
   {
    "duration": 237,
    "start_time": "2023-07-18T09:18:06.481Z"
   },
   {
    "duration": 215,
    "start_time": "2023-07-18T09:18:06.720Z"
   },
   {
    "duration": 71,
    "start_time": "2023-07-18T09:18:06.937Z"
   },
   {
    "duration": 25,
    "start_time": "2023-07-18T09:18:07.010Z"
   },
   {
    "duration": 29,
    "start_time": "2023-07-18T09:18:07.038Z"
   },
   {
    "duration": 292,
    "start_time": "2023-07-18T09:18:07.070Z"
   },
   {
    "duration": 20,
    "start_time": "2023-07-18T09:18:07.365Z"
   },
   {
    "duration": 268,
    "start_time": "2023-07-18T09:18:07.388Z"
   },
   {
    "duration": 5,
    "start_time": "2023-07-18T09:18:07.658Z"
   },
   {
    "duration": 43,
    "start_time": "2023-07-18T09:18:07.664Z"
   },
   {
    "duration": 249,
    "start_time": "2023-07-18T09:18:07.709Z"
   },
   {
    "duration": 52,
    "start_time": "2023-07-18T09:18:07.960Z"
   },
   {
    "duration": 48,
    "start_time": "2023-07-18T09:18:08.017Z"
   },
   {
    "duration": 25,
    "start_time": "2023-07-18T09:18:08.067Z"
   },
   {
    "duration": 299,
    "start_time": "2023-07-18T09:18:08.095Z"
   },
   {
    "duration": 44,
    "start_time": "2023-07-18T09:18:08.396Z"
   },
   {
    "duration": 87,
    "start_time": "2023-07-18T09:18:08.452Z"
   },
   {
    "duration": 21,
    "start_time": "2023-07-18T09:18:08.542Z"
   },
   {
    "duration": 28,
    "start_time": "2023-07-18T09:18:08.565Z"
   },
   {
    "duration": 64,
    "start_time": "2023-07-18T09:18:08.596Z"
   },
   {
    "duration": 226,
    "start_time": "2023-07-18T09:18:08.663Z"
   },
   {
    "duration": 23,
    "start_time": "2023-07-18T09:18:08.892Z"
   },
   {
    "duration": 40,
    "start_time": "2023-07-18T09:18:08.917Z"
   },
   {
    "duration": 320,
    "start_time": "2023-07-18T09:18:08.959Z"
   },
   {
    "duration": 124,
    "start_time": "2023-07-18T09:18:09.282Z"
   },
   {
    "duration": 86,
    "start_time": "2023-07-18T09:18:09.409Z"
   },
   {
    "duration": 31,
    "start_time": "2023-07-18T09:18:09.498Z"
   },
   {
    "duration": 289,
    "start_time": "2023-07-18T09:18:09.531Z"
   },
   {
    "duration": 18,
    "start_time": "2023-07-18T09:18:09.822Z"
   },
   {
    "duration": 8,
    "start_time": "2023-07-18T09:18:09.853Z"
   },
   {
    "duration": 25,
    "start_time": "2023-07-18T09:18:09.863Z"
   },
   {
    "duration": 230,
    "start_time": "2023-07-18T09:18:09.891Z"
   },
   {
    "duration": 6,
    "start_time": "2023-07-18T09:18:10.123Z"
   },
   {
    "duration": 50,
    "start_time": "2023-07-18T09:18:10.131Z"
   },
   {
    "duration": 188,
    "start_time": "2023-07-18T09:18:10.183Z"
   },
   {
    "duration": 15,
    "start_time": "2023-07-18T09:18:10.374Z"
   },
   {
    "duration": 321,
    "start_time": "2023-07-18T09:18:10.391Z"
   },
   {
    "duration": 39,
    "start_time": "2023-07-18T09:18:10.715Z"
   },
   {
    "duration": 26,
    "start_time": "2023-07-18T09:18:10.756Z"
   },
   {
    "duration": 16,
    "start_time": "2023-07-18T09:18:10.784Z"
   },
   {
    "duration": 19,
    "start_time": "2023-07-18T09:18:10.803Z"
   },
   {
    "duration": 260,
    "start_time": "2023-07-18T09:18:10.824Z"
   },
   {
    "duration": 15,
    "start_time": "2023-07-18T09:18:11.086Z"
   },
   {
    "duration": 173,
    "start_time": "2023-07-18T09:18:11.103Z"
   },
   {
    "duration": 17,
    "start_time": "2023-07-18T09:18:11.278Z"
   },
   {
    "duration": 22,
    "start_time": "2023-07-18T09:18:11.296Z"
   },
   {
    "duration": 243,
    "start_time": "2023-07-18T09:18:11.321Z"
   },
   {
    "duration": 27,
    "start_time": "2023-07-18T09:18:11.566Z"
   },
   {
    "duration": 24,
    "start_time": "2023-07-18T09:18:11.594Z"
   },
   {
    "duration": 31,
    "start_time": "2023-07-18T09:18:11.621Z"
   },
   {
    "duration": 7,
    "start_time": "2023-07-18T09:18:11.655Z"
   },
   {
    "duration": 25,
    "start_time": "2023-07-18T09:18:11.664Z"
   },
   {
    "duration": 10,
    "start_time": "2023-07-18T09:18:11.692Z"
   },
   {
    "duration": 9,
    "start_time": "2023-07-18T09:18:11.704Z"
   },
   {
    "duration": 47,
    "start_time": "2023-07-18T09:18:11.714Z"
   },
   {
    "duration": 10,
    "start_time": "2023-07-18T09:18:11.763Z"
   },
   {
    "duration": 113,
    "start_time": "2023-07-18T09:18:11.775Z"
   },
   {
    "duration": 100,
    "start_time": "2023-07-18T09:18:11.889Z"
   },
   {
    "duration": 365,
    "start_time": "2023-07-18T09:18:11.991Z"
   },
   {
    "duration": 22,
    "start_time": "2023-07-18T09:18:12.358Z"
   },
   {
    "duration": 161,
    "start_time": "2023-07-18T09:18:12.381Z"
   },
   {
    "duration": 143,
    "start_time": "2023-07-18T09:18:12.544Z"
   },
   {
    "duration": 28,
    "start_time": "2023-07-18T09:18:12.689Z"
   },
   {
    "duration": 23,
    "start_time": "2023-07-18T09:18:12.719Z"
   },
   {
    "duration": 28,
    "start_time": "2023-07-18T09:18:12.744Z"
   },
   {
    "duration": 29,
    "start_time": "2023-07-18T09:18:12.774Z"
   },
   {
    "duration": 89,
    "start_time": "2023-07-18T09:18:12.810Z"
   },
   {
    "duration": 34,
    "start_time": "2023-07-18T09:18:12.901Z"
   },
   {
    "duration": 45,
    "start_time": "2023-07-18T09:18:12.936Z"
   },
   {
    "duration": 89,
    "start_time": "2023-07-18T09:18:12.984Z"
   },
   {
    "duration": 26,
    "start_time": "2023-07-18T09:18:20.238Z"
   },
   {
    "duration": 28,
    "start_time": "2023-07-18T09:18:20.842Z"
   },
   {
    "duration": 19,
    "start_time": "2023-07-18T09:19:00.400Z"
   },
   {
    "duration": 3,
    "start_time": "2023-07-18T09:19:18.546Z"
   },
   {
    "duration": 560,
    "start_time": "2023-07-18T09:19:53.951Z"
   },
   {
    "duration": 6,
    "start_time": "2023-07-18T09:19:59.454Z"
   },
   {
    "duration": 4,
    "start_time": "2023-07-18T09:22:00.807Z"
   },
   {
    "duration": 1068,
    "start_time": "2023-07-18T09:22:00.814Z"
   },
   {
    "duration": 16,
    "start_time": "2023-07-18T09:22:01.884Z"
   },
   {
    "duration": 199,
    "start_time": "2023-07-18T09:22:01.903Z"
   },
   {
    "duration": 1358,
    "start_time": "2023-07-18T09:22:02.104Z"
   },
   {
    "duration": 489,
    "start_time": "2023-07-18T09:22:03.464Z"
   },
   {
    "duration": 515,
    "start_time": "2023-07-18T09:22:03.955Z"
   },
   {
    "duration": 492,
    "start_time": "2023-07-18T09:22:04.472Z"
   },
   {
    "duration": 124,
    "start_time": "2023-07-18T09:22:04.966Z"
   },
   {
    "duration": 98,
    "start_time": "2023-07-18T09:22:05.092Z"
   },
   {
    "duration": 39,
    "start_time": "2023-07-18T09:22:05.194Z"
   },
   {
    "duration": 40,
    "start_time": "2023-07-18T09:22:05.235Z"
   },
   {
    "duration": 70,
    "start_time": "2023-07-18T09:22:05.277Z"
   },
   {
    "duration": 533,
    "start_time": "2023-07-18T09:22:05.349Z"
   },
   {
    "duration": 171,
    "start_time": "2023-07-18T09:22:05.884Z"
   },
   {
    "duration": 41,
    "start_time": "2023-07-18T09:22:06.057Z"
   },
   {
    "duration": 245,
    "start_time": "2023-07-18T09:22:06.100Z"
   },
   {
    "duration": 212,
    "start_time": "2023-07-18T09:22:06.347Z"
   },
   {
    "duration": 57,
    "start_time": "2023-07-18T09:22:06.561Z"
   },
   {
    "duration": 38,
    "start_time": "2023-07-18T09:22:06.620Z"
   },
   {
    "duration": 15,
    "start_time": "2023-07-18T09:22:06.659Z"
   },
   {
    "duration": 247,
    "start_time": "2023-07-18T09:22:06.675Z"
   },
   {
    "duration": 28,
    "start_time": "2023-07-18T09:22:06.924Z"
   },
   {
    "duration": 243,
    "start_time": "2023-07-18T09:22:06.954Z"
   },
   {
    "duration": 5,
    "start_time": "2023-07-18T09:22:07.199Z"
   },
   {
    "duration": 48,
    "start_time": "2023-07-18T09:22:07.205Z"
   },
   {
    "duration": 245,
    "start_time": "2023-07-18T09:22:07.255Z"
   },
   {
    "duration": 60,
    "start_time": "2023-07-18T09:22:07.502Z"
   },
   {
    "duration": 30,
    "start_time": "2023-07-18T09:22:07.567Z"
   },
   {
    "duration": 16,
    "start_time": "2023-07-18T09:22:07.599Z"
   },
   {
    "duration": 223,
    "start_time": "2023-07-18T09:22:07.617Z"
   },
   {
    "duration": 35,
    "start_time": "2023-07-18T09:22:07.842Z"
   },
   {
    "duration": 111,
    "start_time": "2023-07-18T09:22:07.878Z"
   },
   {
    "duration": 17,
    "start_time": "2023-07-18T09:22:07.991Z"
   },
   {
    "duration": 20,
    "start_time": "2023-07-18T09:22:08.010Z"
   },
   {
    "duration": 26,
    "start_time": "2023-07-18T09:22:08.032Z"
   },
   {
    "duration": 280,
    "start_time": "2023-07-18T09:22:08.060Z"
   },
   {
    "duration": 21,
    "start_time": "2023-07-18T09:22:08.343Z"
   },
   {
    "duration": 48,
    "start_time": "2023-07-18T09:22:08.367Z"
   },
   {
    "duration": 245,
    "start_time": "2023-07-18T09:22:08.417Z"
   },
   {
    "duration": 52,
    "start_time": "2023-07-18T09:22:08.665Z"
   },
   {
    "duration": 46,
    "start_time": "2023-07-18T09:22:08.719Z"
   },
   {
    "duration": 25,
    "start_time": "2023-07-18T09:22:08.767Z"
   },
   {
    "duration": 238,
    "start_time": "2023-07-18T09:22:08.794Z"
   },
   {
    "duration": 23,
    "start_time": "2023-07-18T09:22:09.034Z"
   },
   {
    "duration": 160,
    "start_time": "2023-07-18T09:22:09.059Z"
   },
   {
    "duration": 34,
    "start_time": "2023-07-18T09:22:09.222Z"
   },
   {
    "duration": 267,
    "start_time": "2023-07-18T09:22:09.258Z"
   },
   {
    "duration": 6,
    "start_time": "2023-07-18T09:22:09.527Z"
   },
   {
    "duration": 40,
    "start_time": "2023-07-18T09:22:09.534Z"
   },
   {
    "duration": 182,
    "start_time": "2023-07-18T09:22:09.577Z"
   },
   {
    "duration": 14,
    "start_time": "2023-07-18T09:22:09.761Z"
   },
   {
    "duration": 199,
    "start_time": "2023-07-18T09:22:09.777Z"
   },
   {
    "duration": 27,
    "start_time": "2023-07-18T09:22:09.977Z"
   },
   {
    "duration": 37,
    "start_time": "2023-07-18T09:22:10.006Z"
   },
   {
    "duration": 22,
    "start_time": "2023-07-18T09:22:10.045Z"
   },
   {
    "duration": 38,
    "start_time": "2023-07-18T09:22:10.069Z"
   },
   {
    "duration": 248,
    "start_time": "2023-07-18T09:22:10.109Z"
   },
   {
    "duration": 16,
    "start_time": "2023-07-18T09:22:10.359Z"
   },
   {
    "duration": 188,
    "start_time": "2023-07-18T09:22:10.377Z"
   },
   {
    "duration": 17,
    "start_time": "2023-07-18T09:22:10.567Z"
   },
   {
    "duration": 24,
    "start_time": "2023-07-18T09:22:10.587Z"
   },
   {
    "duration": 193,
    "start_time": "2023-07-18T09:22:10.613Z"
   },
   {
    "duration": 27,
    "start_time": "2023-07-18T09:22:10.808Z"
   },
   {
    "duration": 41,
    "start_time": "2023-07-18T09:22:10.838Z"
   },
   {
    "duration": 23,
    "start_time": "2023-07-18T09:22:10.881Z"
   },
   {
    "duration": 21,
    "start_time": "2023-07-18T09:22:10.906Z"
   },
   {
    "duration": 9,
    "start_time": "2023-07-18T09:22:10.928Z"
   },
   {
    "duration": 18,
    "start_time": "2023-07-18T09:22:10.939Z"
   },
   {
    "duration": 11,
    "start_time": "2023-07-18T09:22:10.959Z"
   },
   {
    "duration": 45,
    "start_time": "2023-07-18T09:22:10.972Z"
   },
   {
    "duration": 7,
    "start_time": "2023-07-18T09:22:11.019Z"
   },
   {
    "duration": 133,
    "start_time": "2023-07-18T09:22:11.029Z"
   },
   {
    "duration": 103,
    "start_time": "2023-07-18T09:22:11.164Z"
   },
   {
    "duration": 407,
    "start_time": "2023-07-18T09:22:11.269Z"
   },
   {
    "duration": 21,
    "start_time": "2023-07-18T09:22:11.678Z"
   },
   {
    "duration": 21,
    "start_time": "2023-07-18T09:22:11.702Z"
   },
   {
    "duration": 102,
    "start_time": "2023-07-18T09:22:11.725Z"
   },
   {
    "duration": 33,
    "start_time": "2023-07-18T09:22:11.828Z"
   },
   {
    "duration": 11,
    "start_time": "2023-07-18T09:22:11.863Z"
   },
   {
    "duration": 41,
    "start_time": "2023-07-18T09:22:11.877Z"
   },
   {
    "duration": 47,
    "start_time": "2023-07-18T09:22:11.920Z"
   },
   {
    "duration": 78,
    "start_time": "2023-07-18T09:22:11.974Z"
   },
   {
    "duration": 15,
    "start_time": "2023-07-18T09:22:12.054Z"
   },
   {
    "duration": 17,
    "start_time": "2023-07-18T09:22:12.071Z"
   },
   {
    "duration": 39,
    "start_time": "2023-07-18T09:22:12.090Z"
   },
   {
    "duration": 38,
    "start_time": "2023-07-18T09:22:12.131Z"
   },
   {
    "duration": 20,
    "start_time": "2023-07-18T09:22:12.171Z"
   },
   {
    "duration": 3,
    "start_time": "2023-07-18T09:22:41.094Z"
   },
   {
    "duration": 946,
    "start_time": "2023-07-18T09:22:41.101Z"
   },
   {
    "duration": 21,
    "start_time": "2023-07-18T09:22:42.050Z"
   },
   {
    "duration": 132,
    "start_time": "2023-07-18T09:22:42.073Z"
   },
   {
    "duration": 1282,
    "start_time": "2023-07-18T09:22:42.207Z"
   },
   {
    "duration": 513,
    "start_time": "2023-07-18T09:22:43.491Z"
   },
   {
    "duration": 535,
    "start_time": "2023-07-18T09:22:44.006Z"
   },
   {
    "duration": 560,
    "start_time": "2023-07-18T09:22:44.543Z"
   },
   {
    "duration": 121,
    "start_time": "2023-07-18T09:22:45.107Z"
   },
   {
    "duration": 29,
    "start_time": "2023-07-18T09:22:45.231Z"
   },
   {
    "duration": 11,
    "start_time": "2023-07-18T09:22:45.262Z"
   },
   {
    "duration": 9,
    "start_time": "2023-07-18T09:22:45.275Z"
   },
   {
    "duration": 25,
    "start_time": "2023-07-18T09:22:45.287Z"
   },
   {
    "duration": 262,
    "start_time": "2023-07-18T09:22:45.314Z"
   },
   {
    "duration": 175,
    "start_time": "2023-07-18T09:22:45.577Z"
   },
   {
    "duration": 50,
    "start_time": "2023-07-18T09:22:45.755Z"
   },
   {
    "duration": 488,
    "start_time": "2023-07-18T09:22:45.808Z"
   },
   {
    "duration": 221,
    "start_time": "2023-07-18T09:22:46.298Z"
   },
   {
    "duration": 72,
    "start_time": "2023-07-18T09:22:46.521Z"
   },
   {
    "duration": 20,
    "start_time": "2023-07-18T09:22:46.595Z"
   },
   {
    "duration": 18,
    "start_time": "2023-07-18T09:22:46.617Z"
   },
   {
    "duration": 270,
    "start_time": "2023-07-18T09:22:46.652Z"
   },
   {
    "duration": 30,
    "start_time": "2023-07-18T09:22:46.924Z"
   },
   {
    "duration": 302,
    "start_time": "2023-07-18T09:22:46.959Z"
   },
   {
    "duration": 7,
    "start_time": "2023-07-18T09:22:47.262Z"
   },
   {
    "duration": 44,
    "start_time": "2023-07-18T09:22:47.271Z"
   },
   {
    "duration": 264,
    "start_time": "2023-07-18T09:22:47.318Z"
   },
   {
    "duration": 51,
    "start_time": "2023-07-18T09:22:47.583Z"
   },
   {
    "duration": 44,
    "start_time": "2023-07-18T09:22:47.636Z"
   },
   {
    "duration": 16,
    "start_time": "2023-07-18T09:22:47.682Z"
   },
   {
    "duration": 232,
    "start_time": "2023-07-18T09:22:47.700Z"
   },
   {
    "duration": 32,
    "start_time": "2023-07-18T09:22:47.935Z"
   },
   {
    "duration": 74,
    "start_time": "2023-07-18T09:22:47.971Z"
   },
   {
    "duration": 19,
    "start_time": "2023-07-18T09:22:48.047Z"
   },
   {
    "duration": 11,
    "start_time": "2023-07-18T09:22:48.068Z"
   },
   {
    "duration": 29,
    "start_time": "2023-07-18T09:22:48.081Z"
   },
   {
    "duration": 290,
    "start_time": "2023-07-18T09:22:48.114Z"
   },
   {
    "duration": 26,
    "start_time": "2023-07-18T09:22:48.407Z"
   },
   {
    "duration": 37,
    "start_time": "2023-07-18T09:22:48.439Z"
   },
   {
    "duration": 248,
    "start_time": "2023-07-18T09:22:48.478Z"
   },
   {
    "duration": 59,
    "start_time": "2023-07-18T09:22:48.728Z"
   },
   {
    "duration": 23,
    "start_time": "2023-07-18T09:22:48.789Z"
   },
   {
    "duration": 15,
    "start_time": "2023-07-18T09:22:48.815Z"
   },
   {
    "duration": 249,
    "start_time": "2023-07-18T09:22:48.852Z"
   },
   {
    "duration": 17,
    "start_time": "2023-07-18T09:22:49.103Z"
   },
   {
    "duration": 11,
    "start_time": "2023-07-18T09:22:49.122Z"
   },
   {
    "duration": 35,
    "start_time": "2023-07-18T09:22:49.135Z"
   },
   {
    "duration": 226,
    "start_time": "2023-07-18T09:22:49.171Z"
   },
   {
    "duration": 8,
    "start_time": "2023-07-18T09:22:49.399Z"
   },
   {
    "duration": 45,
    "start_time": "2023-07-18T09:22:49.408Z"
   },
   {
    "duration": 176,
    "start_time": "2023-07-18T09:22:49.455Z"
   },
   {
    "duration": 22,
    "start_time": "2023-07-18T09:22:49.633Z"
   },
   {
    "duration": 200,
    "start_time": "2023-07-18T09:22:49.657Z"
   },
   {
    "duration": 28,
    "start_time": "2023-07-18T09:22:49.859Z"
   },
   {
    "duration": 48,
    "start_time": "2023-07-18T09:22:49.889Z"
   },
   {
    "duration": 47,
    "start_time": "2023-07-18T09:22:49.939Z"
   },
   {
    "duration": 53,
    "start_time": "2023-07-18T09:22:49.989Z"
   },
   {
    "duration": 271,
    "start_time": "2023-07-18T09:22:50.044Z"
   },
   {
    "duration": 17,
    "start_time": "2023-07-18T09:22:50.317Z"
   },
   {
    "duration": 196,
    "start_time": "2023-07-18T09:22:50.337Z"
   },
   {
    "duration": 25,
    "start_time": "2023-07-18T09:22:50.535Z"
   },
   {
    "duration": 218,
    "start_time": "2023-07-18T09:22:50.562Z"
   },
   {
    "duration": 246,
    "start_time": "2023-07-18T09:22:50.783Z"
   },
   {
    "duration": 34,
    "start_time": "2023-07-18T09:22:51.031Z"
   },
   {
    "duration": 20,
    "start_time": "2023-07-18T09:22:51.067Z"
   },
   {
    "duration": 14,
    "start_time": "2023-07-18T09:22:51.088Z"
   },
   {
    "duration": 17,
    "start_time": "2023-07-18T09:22:51.104Z"
   },
   {
    "duration": 22,
    "start_time": "2023-07-18T09:22:51.122Z"
   },
   {
    "duration": 19,
    "start_time": "2023-07-18T09:22:51.152Z"
   },
   {
    "duration": 29,
    "start_time": "2023-07-18T09:22:51.173Z"
   },
   {
    "duration": 30,
    "start_time": "2023-07-18T09:22:51.204Z"
   },
   {
    "duration": 10,
    "start_time": "2023-07-18T09:22:51.236Z"
   },
   {
    "duration": 117,
    "start_time": "2023-07-18T09:22:51.248Z"
   },
   {
    "duration": 102,
    "start_time": "2023-07-18T09:22:51.368Z"
   },
   {
    "duration": 393,
    "start_time": "2023-07-18T09:22:51.472Z"
   },
   {
    "duration": 23,
    "start_time": "2023-07-18T09:22:51.867Z"
   },
   {
    "duration": 22,
    "start_time": "2023-07-18T09:22:51.892Z"
   },
   {
    "duration": 91,
    "start_time": "2023-07-18T09:22:51.916Z"
   },
   {
    "duration": 42,
    "start_time": "2023-07-18T09:22:52.009Z"
   },
   {
    "duration": 7,
    "start_time": "2023-07-18T09:22:52.054Z"
   },
   {
    "duration": 28,
    "start_time": "2023-07-18T09:22:52.063Z"
   },
   {
    "duration": 51,
    "start_time": "2023-07-18T09:22:52.093Z"
   },
   {
    "duration": 116,
    "start_time": "2023-07-18T09:22:52.146Z"
   },
   {
    "duration": 19,
    "start_time": "2023-07-18T09:22:52.264Z"
   },
   {
    "duration": 33,
    "start_time": "2023-07-18T09:22:52.286Z"
   },
   {
    "duration": 51,
    "start_time": "2023-07-18T09:22:52.321Z"
   },
   {
    "duration": 19,
    "start_time": "2023-07-18T09:22:52.374Z"
   },
   {
    "duration": 3,
    "start_time": "2023-07-18T09:23:11.289Z"
   },
   {
    "duration": 530,
    "start_time": "2023-07-18T09:23:58.610Z"
   },
   {
    "duration": 14,
    "start_time": "2023-07-18T09:24:46.483Z"
   },
   {
    "duration": 351,
    "start_time": "2023-07-18T09:25:39.044Z"
   },
   {
    "duration": 44,
    "start_time": "2023-07-18T09:27:25.994Z"
   },
   {
    "duration": 17,
    "start_time": "2023-07-18T09:28:51.508Z"
   },
   {
    "duration": 7,
    "start_time": "2023-07-18T09:29:03.837Z"
   },
   {
    "duration": 3,
    "start_time": "2023-07-18T09:37:03.663Z"
   },
   {
    "duration": 4,
    "start_time": "2023-07-18T09:37:39.375Z"
   },
   {
    "duration": 49,
    "start_time": "2023-07-18T09:38:12.102Z"
   },
   {
    "duration": 23,
    "start_time": "2023-07-18T09:39:16.302Z"
   },
   {
    "duration": 41,
    "start_time": "2023-07-18T12:17:59.885Z"
   },
   {
    "duration": 4,
    "start_time": "2023-07-18T12:18:23.930Z"
   },
   {
    "duration": 1565,
    "start_time": "2023-07-18T12:22:19.376Z"
   },
   {
    "duration": 4,
    "start_time": "2023-07-18T12:22:33.806Z"
   },
   {
    "duration": 6,
    "start_time": "2023-07-18T12:22:51.981Z"
   },
   {
    "duration": 1737,
    "start_time": "2023-07-18T12:23:17.540Z"
   },
   {
    "duration": 4,
    "start_time": "2023-07-18T12:23:20.174Z"
   },
   {
    "duration": 1661,
    "start_time": "2023-07-18T12:23:23.587Z"
   },
   {
    "duration": 5,
    "start_time": "2023-07-18T12:23:26.038Z"
   },
   {
    "duration": 7,
    "start_time": "2023-07-18T12:23:31.269Z"
   },
   {
    "duration": 16,
    "start_time": "2023-07-18T12:24:52.180Z"
   },
   {
    "duration": 47751,
    "start_time": "2023-07-18T12:28:56.160Z"
   },
   {
    "duration": 5,
    "start_time": "2023-07-18T12:29:46.949Z"
   },
   {
    "duration": 4,
    "start_time": "2023-07-18T12:29:59.559Z"
   },
   {
    "duration": 5,
    "start_time": "2023-07-18T12:34:27.968Z"
   },
   {
    "duration": 4,
    "start_time": "2023-07-18T12:34:49.146Z"
   },
   {
    "duration": 123,
    "start_time": "2023-07-18T12:35:14.238Z"
   },
   {
    "duration": 63,
    "start_time": "2023-07-18T12:36:15.898Z"
   },
   {
    "duration": 1350,
    "start_time": "2023-07-18T12:37:01.823Z"
   },
   {
    "duration": 4,
    "start_time": "2023-07-18T12:37:06.623Z"
   },
   {
    "duration": 5,
    "start_time": "2023-07-18T12:37:07.323Z"
   },
   {
    "duration": 42683,
    "start_time": "2023-07-18T12:37:14.556Z"
   },
   {
    "duration": 4,
    "start_time": "2023-07-18T12:37:59.671Z"
   },
   {
    "duration": 4,
    "start_time": "2023-07-18T12:38:01.952Z"
   },
   {
    "duration": 3,
    "start_time": "2023-07-18T12:38:05.783Z"
   },
   {
    "duration": 38,
    "start_time": "2023-07-18T12:38:06.450Z"
   },
   {
    "duration": 7,
    "start_time": "2023-07-18T12:38:13.378Z"
   },
   {
    "duration": 121,
    "start_time": "2023-07-18T14:20:40.440Z"
   },
   {
    "duration": 3,
    "start_time": "2023-07-18T14:48:35.716Z"
   },
   {
    "duration": 4,
    "start_time": "2023-07-18T14:51:12.782Z"
   },
   {
    "duration": 21,
    "start_time": "2023-07-18T14:52:19.593Z"
   },
   {
    "duration": 25,
    "start_time": "2023-07-18T14:52:28.989Z"
   },
   {
    "duration": 4,
    "start_time": "2023-07-18T14:53:08.233Z"
   },
   {
    "duration": 3,
    "start_time": "2023-07-18T14:53:09.847Z"
   },
   {
    "duration": 157,
    "start_time": "2023-07-18T14:53:13.418Z"
   },
   {
    "duration": 4,
    "start_time": "2023-07-18T14:54:10.105Z"
   },
   {
    "duration": 804,
    "start_time": "2023-07-18T14:54:13.304Z"
   },
   {
    "duration": 14,
    "start_time": "2023-07-18T14:54:15.021Z"
   },
   {
    "duration": 110,
    "start_time": "2023-07-18T14:54:19.390Z"
   },
   {
    "duration": 1188,
    "start_time": "2023-07-18T14:54:24.296Z"
   },
   {
    "duration": 442,
    "start_time": "2023-07-18T14:54:28.917Z"
   },
   {
    "duration": 491,
    "start_time": "2023-07-18T14:54:30.145Z"
   },
   {
    "duration": 490,
    "start_time": "2023-07-18T14:54:31.318Z"
   },
   {
    "duration": 134,
    "start_time": "2023-07-18T14:54:32.540Z"
   },
   {
    "duration": 18,
    "start_time": "2023-07-18T14:54:36.496Z"
   },
   {
    "duration": 5,
    "start_time": "2023-07-18T14:54:37.350Z"
   },
   {
    "duration": 5,
    "start_time": "2023-07-18T14:54:40.342Z"
   },
   {
    "duration": 18,
    "start_time": "2023-07-18T14:54:41.145Z"
   },
   {
    "duration": 243,
    "start_time": "2023-07-18T14:54:45.270Z"
   },
   {
    "duration": 153,
    "start_time": "2023-07-18T14:54:48.612Z"
   },
   {
    "duration": 2,
    "start_time": "2023-07-18T14:55:55.444Z"
   },
   {
    "duration": 211,
    "start_time": "2023-07-18T14:55:57.276Z"
   },
   {
    "duration": 222,
    "start_time": "2023-07-18T14:56:01.605Z"
   },
   {
    "duration": 50,
    "start_time": "2023-07-18T14:56:07.221Z"
   },
   {
    "duration": 21,
    "start_time": "2023-07-18T14:56:09.270Z"
   },
   {
    "duration": 16,
    "start_time": "2023-07-18T14:56:14.993Z"
   },
   {
    "duration": 228,
    "start_time": "2023-07-18T14:56:17.600Z"
   },
   {
    "duration": 17,
    "start_time": "2023-07-18T14:56:19.232Z"
   },
   {
    "duration": 251,
    "start_time": "2023-07-18T14:56:21.588Z"
   },
   {
    "duration": 5,
    "start_time": "2023-07-18T14:56:23.551Z"
   },
   {
    "duration": 30,
    "start_time": "2023-07-18T14:56:24.418Z"
   },
   {
    "duration": 245,
    "start_time": "2023-07-18T14:56:27.151Z"
   },
   {
    "duration": 81,
    "start_time": "2023-07-18T14:56:28.215Z"
   },
   {
    "duration": 31,
    "start_time": "2023-07-18T14:56:31.218Z"
   },
   {
    "duration": 19,
    "start_time": "2023-07-18T14:56:32.265Z"
   },
   {
    "duration": 202,
    "start_time": "2023-07-18T14:56:35.678Z"
   },
   {
    "duration": 33,
    "start_time": "2023-07-18T14:56:37.424Z"
   },
   {
    "duration": 74,
    "start_time": "2023-07-18T14:56:48.091Z"
   },
   {
    "duration": 17,
    "start_time": "2023-07-18T14:56:48.983Z"
   },
   {
    "duration": 6,
    "start_time": "2023-07-18T14:56:50.742Z"
   },
   {
    "duration": 19,
    "start_time": "2023-07-18T14:56:51.599Z"
   },
   {
    "duration": 185,
    "start_time": "2023-07-18T14:56:58.796Z"
   },
   {
    "duration": 20,
    "start_time": "2023-07-18T14:56:59.792Z"
   },
   {
    "duration": 20,
    "start_time": "2023-07-18T14:57:00.609Z"
   },
   {
    "duration": 487,
    "start_time": "2023-07-18T14:57:03.791Z"
   },
   {
    "duration": 58,
    "start_time": "2023-07-18T14:57:05.396Z"
   },
   {
    "duration": 24,
    "start_time": "2023-07-18T14:57:07.867Z"
   },
   {
    "duration": 14,
    "start_time": "2023-07-18T14:57:13.704Z"
   },
   {
    "duration": 271,
    "start_time": "2023-07-18T14:57:18.302Z"
   },
   {
    "duration": 26,
    "start_time": "2023-07-18T14:57:21.368Z"
   },
   {
    "duration": 6,
    "start_time": "2023-07-18T14:57:22.994Z"
   },
   {
    "duration": 15,
    "start_time": "2023-07-18T14:57:23.690Z"
   },
   {
    "duration": 217,
    "start_time": "2023-07-18T14:57:26.203Z"
   },
   {
    "duration": 5,
    "start_time": "2023-07-18T14:57:46.907Z"
   },
   {
    "duration": 27,
    "start_time": "2023-07-18T14:57:48.613Z"
   },
   {
    "duration": 145,
    "start_time": "2023-07-18T14:57:49.479Z"
   },
   {
    "duration": 16,
    "start_time": "2023-07-18T14:57:51.482Z"
   },
   {
    "duration": 188,
    "start_time": "2023-07-18T14:57:52.643Z"
   },
   {
    "duration": 26,
    "start_time": "2023-07-18T14:57:54.845Z"
   },
   {
    "duration": 17,
    "start_time": "2023-07-18T14:57:55.495Z"
   },
   {
    "duration": 19,
    "start_time": "2023-07-18T14:57:56.146Z"
   },
   {
    "duration": 15,
    "start_time": "2023-07-18T14:57:56.795Z"
   },
   {
    "duration": 267,
    "start_time": "2023-07-18T14:57:58.665Z"
   },
   {
    "duration": 22,
    "start_time": "2023-07-18T14:58:00.076Z"
   },
   {
    "duration": 161,
    "start_time": "2023-07-18T14:58:01.211Z"
   },
   {
    "duration": 17,
    "start_time": "2023-07-18T14:58:12.215Z"
   },
   {
    "duration": 14,
    "start_time": "2023-07-18T14:58:17.498Z"
   },
   {
    "duration": 175,
    "start_time": "2023-07-18T14:58:19.306Z"
   },
   {
    "duration": 35,
    "start_time": "2023-07-18T14:58:21.441Z"
   },
   {
    "duration": 14,
    "start_time": "2023-07-18T14:58:24.155Z"
   },
   {
    "duration": 6,
    "start_time": "2023-07-18T14:58:24.872Z"
   },
   {
    "duration": 20,
    "start_time": "2023-07-18T14:58:27.667Z"
   },
   {
    "duration": 6,
    "start_time": "2023-07-18T14:58:28.494Z"
   },
   {
    "duration": 5,
    "start_time": "2023-07-18T14:58:29.148Z"
   },
   {
    "duration": 8,
    "start_time": "2023-07-18T14:58:33.584Z"
   },
   {
    "duration": 17,
    "start_time": "2023-07-18T14:58:35.726Z"
   },
   {
    "duration": 6,
    "start_time": "2023-07-18T14:58:36.423Z"
   },
   {
    "duration": 132,
    "start_time": "2023-07-18T14:58:38.303Z"
   },
   {
    "duration": 1765,
    "start_time": "2023-07-19T12:08:47.031Z"
   },
   {
    "duration": 961,
    "start_time": "2023-07-19T12:08:49.182Z"
   },
   {
    "duration": 17,
    "start_time": "2023-07-19T12:08:51.293Z"
   },
   {
    "duration": 125,
    "start_time": "2023-07-19T12:08:53.341Z"
   },
   {
    "duration": 1100,
    "start_time": "2023-07-19T12:08:58.016Z"
   },
   {
    "duration": 359,
    "start_time": "2023-07-19T12:09:02.714Z"
   },
   {
    "duration": 384,
    "start_time": "2023-07-19T12:09:07.906Z"
   },
   {
    "duration": 385,
    "start_time": "2023-07-19T12:09:09.259Z"
   },
   {
    "duration": 101,
    "start_time": "2023-07-19T12:09:12.493Z"
   },
   {
    "duration": 16,
    "start_time": "2023-07-19T12:09:16.118Z"
   },
   {
    "duration": 5,
    "start_time": "2023-07-19T12:09:17.222Z"
   },
   {
    "duration": 4,
    "start_time": "2023-07-19T12:09:19.844Z"
   },
   {
    "duration": 17,
    "start_time": "2023-07-19T12:09:21.046Z"
   },
   {
    "duration": 169,
    "start_time": "2023-07-19T12:09:24.428Z"
   },
   {
    "duration": 133,
    "start_time": "2023-07-19T12:09:25.827Z"
   },
   {
    "duration": 3,
    "start_time": "2023-07-19T12:09:43.062Z"
   },
   {
    "duration": 187,
    "start_time": "2023-07-19T12:09:45.357Z"
   },
   {
    "duration": 157,
    "start_time": "2023-07-19T12:09:56.437Z"
   },
   {
    "duration": 62,
    "start_time": "2023-07-19T12:10:00.378Z"
   },
   {
    "duration": 16,
    "start_time": "2023-07-19T12:10:01.522Z"
   },
   {
    "duration": 15,
    "start_time": "2023-07-19T12:10:10.488Z"
   },
   {
    "duration": 213,
    "start_time": "2023-07-19T12:10:11.325Z"
   },
   {
    "duration": 16,
    "start_time": "2023-07-19T12:10:12.787Z"
   },
   {
    "duration": 229,
    "start_time": "2023-07-19T12:10:13.988Z"
   },
   {
    "duration": 5,
    "start_time": "2023-07-19T12:10:14.863Z"
   },
   {
    "duration": 25,
    "start_time": "2023-07-19T12:10:15.673Z"
   },
   {
    "duration": 165,
    "start_time": "2023-07-19T12:10:16.474Z"
   },
   {
    "duration": 54,
    "start_time": "2023-07-19T12:10:17.269Z"
   },
   {
    "duration": 27,
    "start_time": "2023-07-19T12:10:18.144Z"
   },
   {
    "duration": 14,
    "start_time": "2023-07-19T12:10:19.038Z"
   },
   {
    "duration": 191,
    "start_time": "2023-07-19T12:10:19.796Z"
   },
   {
    "duration": 26,
    "start_time": "2023-07-19T12:10:20.583Z"
   },
   {
    "duration": 58,
    "start_time": "2023-07-19T12:10:21.259Z"
   },
   {
    "duration": 13,
    "start_time": "2023-07-19T12:10:22.043Z"
   },
   {
    "duration": 4,
    "start_time": "2023-07-19T12:10:22.737Z"
   },
   {
    "duration": 16,
    "start_time": "2023-07-19T12:10:23.779Z"
   },
   {
    "duration": 149,
    "start_time": "2023-07-19T12:10:24.557Z"
   },
   {
    "duration": 16,
    "start_time": "2023-07-19T12:10:25.973Z"
   },
   {
    "duration": 18,
    "start_time": "2023-07-19T12:10:27.018Z"
   },
   {
    "duration": 150,
    "start_time": "2023-07-19T12:10:27.842Z"
   },
   {
    "duration": 45,
    "start_time": "2023-07-19T12:10:28.674Z"
   },
   {
    "duration": 19,
    "start_time": "2023-07-19T12:10:29.400Z"
   },
   {
    "duration": 14,
    "start_time": "2023-07-19T12:10:36.414Z"
   },
   {
    "duration": 229,
    "start_time": "2023-07-19T12:10:39.388Z"
   },
   {
    "duration": 14,
    "start_time": "2023-07-19T12:10:40.359Z"
   },
   {
    "duration": 4,
    "start_time": "2023-07-19T12:10:41.907Z"
   },
   {
    "duration": 13,
    "start_time": "2023-07-19T12:10:42.569Z"
   },
   {
    "duration": 223,
    "start_time": "2023-07-19T12:10:43.523Z"
   },
   {
    "duration": 5,
    "start_time": "2023-07-19T12:10:44.390Z"
   },
   {
    "duration": 25,
    "start_time": "2023-07-19T12:10:45.161Z"
   },
   {
    "duration": 122,
    "start_time": "2023-07-19T12:10:45.843Z"
   },
   {
    "duration": 12,
    "start_time": "2023-07-19T12:10:46.573Z"
   },
   {
    "duration": 192,
    "start_time": "2023-07-19T12:10:47.346Z"
   },
   {
    "duration": 25,
    "start_time": "2023-07-19T12:10:48.256Z"
   },
   {
    "duration": 16,
    "start_time": "2023-07-19T12:10:48.967Z"
   },
   {
    "duration": 14,
    "start_time": "2023-07-19T12:10:49.804Z"
   },
   {
    "duration": 13,
    "start_time": "2023-07-19T12:10:50.407Z"
   },
   {
    "duration": 225,
    "start_time": "2023-07-19T12:10:51.146Z"
   },
   {
    "duration": 14,
    "start_time": "2023-07-19T12:10:52.127Z"
   },
   {
    "duration": 165,
    "start_time": "2023-07-19T12:10:53.000Z"
   },
   {
    "duration": 18,
    "start_time": "2023-07-19T12:10:53.798Z"
   },
   {
    "duration": 15,
    "start_time": "2023-07-19T12:10:54.538Z"
   },
   {
    "duration": 233,
    "start_time": "2023-07-19T12:10:55.170Z"
   },
   {
    "duration": 26,
    "start_time": "2023-07-19T12:10:56.014Z"
   },
   {
    "duration": 12,
    "start_time": "2023-07-19T12:10:56.695Z"
   },
   {
    "duration": 5,
    "start_time": "2023-07-19T12:10:57.518Z"
   },
   {
    "duration": 4,
    "start_time": "2023-07-19T12:10:58.322Z"
   },
   {
    "duration": 6,
    "start_time": "2023-07-19T12:10:58.951Z"
   },
   {
    "duration": 5,
    "start_time": "2023-07-19T12:10:59.788Z"
   },
   {
    "duration": 4,
    "start_time": "2023-07-19T12:11:00.470Z"
   },
   {
    "duration": 14,
    "start_time": "2023-07-19T12:11:01.181Z"
   },
   {
    "duration": 5,
    "start_time": "2023-07-19T12:11:02.024Z"
   },
   {
    "duration": 85,
    "start_time": "2023-07-19T12:11:02.960Z"
   },
   {
    "duration": 82,
    "start_time": "2023-07-19T12:11:04.530Z"
   },
   {
    "duration": 307,
    "start_time": "2023-07-19T12:11:05.332Z"
   },
   {
    "duration": 16,
    "start_time": "2023-07-19T12:11:06.183Z"
   },
   {
    "duration": 12,
    "start_time": "2023-07-19T12:11:07.666Z"
   },
   {
    "duration": 50,
    "start_time": "2023-07-19T12:11:08.786Z"
   },
   {
    "duration": 13,
    "start_time": "2023-07-19T12:11:09.710Z"
   },
   {
    "duration": 4,
    "start_time": "2023-07-19T12:11:10.785Z"
   },
   {
    "duration": 5,
    "start_time": "2023-07-19T12:11:11.559Z"
   },
   {
    "duration": 14,
    "start_time": "2023-07-19T12:11:12.523Z"
   },
   {
    "duration": 64,
    "start_time": "2023-07-19T12:11:13.820Z"
   },
   {
    "duration": 16,
    "start_time": "2023-07-19T12:11:15.475Z"
   },
   {
    "duration": 4,
    "start_time": "2023-07-19T12:11:16.394Z"
   },
   {
    "duration": 27,
    "start_time": "2023-07-19T12:11:17.720Z"
   },
   {
    "duration": 14,
    "start_time": "2023-07-19T12:11:18.766Z"
   },
   {
    "duration": 3,
    "start_time": "2023-07-19T12:11:48.556Z"
   },
   {
    "duration": 3,
    "start_time": "2023-07-19T12:13:20.203Z"
   },
   {
    "duration": 3,
    "start_time": "2023-07-19T12:13:21.399Z"
   },
   {
    "duration": 620,
    "start_time": "2023-07-19T12:13:22.445Z"
   },
   {
    "duration": 3,
    "start_time": "2023-07-19T12:13:54.939Z"
   },
   {
    "duration": 494,
    "start_time": "2023-07-19T12:13:55.649Z"
   },
   {
    "duration": 15,
    "start_time": "2023-07-19T12:14:02.283Z"
   },
   {
    "duration": 15,
    "start_time": "2023-07-19T12:14:03.064Z"
   },
   {
    "duration": 3,
    "start_time": "2023-07-19T12:14:05.556Z"
   },
   {
    "duration": 499,
    "start_time": "2023-07-19T12:14:06.457Z"
   },
   {
    "duration": 496,
    "start_time": "2023-07-19T12:14:17.247Z"
   },
   {
    "duration": 7,
    "start_time": "2023-07-19T12:14:24.331Z"
   },
   {
    "duration": 24,
    "start_time": "2023-07-19T12:14:25.081Z"
   },
   {
    "duration": 10,
    "start_time": "2023-07-19T12:14:25.805Z"
   },
   {
    "duration": 3,
    "start_time": "2023-07-19T12:14:26.502Z"
   },
   {
    "duration": 3,
    "start_time": "2023-07-19T12:14:30.849Z"
   },
   {
    "duration": 43,
    "start_time": "2023-07-19T12:14:31.739Z"
   },
   {
    "duration": 19,
    "start_time": "2023-07-19T12:14:32.536Z"
   },
   {
    "duration": 1423,
    "start_time": "2023-07-19T12:14:35.820Z"
   },
   {
    "duration": 4,
    "start_time": "2023-07-19T12:14:39.899Z"
   },
   {
    "duration": 4,
    "start_time": "2023-07-19T12:14:41.010Z"
   },
   {
    "duration": 46495,
    "start_time": "2023-07-19T12:15:03.959Z"
   },
   {
    "duration": 3,
    "start_time": "2023-07-19T12:16:19.269Z"
   },
   {
    "duration": 4,
    "start_time": "2023-07-19T12:16:22.152Z"
   },
   {
    "duration": 3,
    "start_time": "2023-07-19T12:16:30.859Z"
   },
   {
    "duration": 83,
    "start_time": "2023-07-19T12:16:31.440Z"
   },
   {
    "duration": 48,
    "start_time": "2023-07-19T12:16:32.273Z"
   },
   {
    "duration": 24,
    "start_time": "2023-07-19T12:19:36.596Z"
   },
   {
    "duration": 3,
    "start_time": "2023-07-19T12:26:36.707Z"
   },
   {
    "duration": 4,
    "start_time": "2023-07-19T12:27:03.244Z"
   },
   {
    "duration": 2,
    "start_time": "2023-07-19T12:27:30.451Z"
   },
   {
    "duration": 14,
    "start_time": "2023-07-19T12:28:11.281Z"
   },
   {
    "duration": 800163,
    "start_time": "2023-07-19T12:28:17.567Z"
   },
   {
    "duration": 9,
    "start_time": "2023-07-19T12:43:59.566Z"
   },
   {
    "duration": 10,
    "start_time": "2023-07-19T12:44:07.937Z"
   },
   {
    "duration": 521,
    "start_time": "2023-07-19T12:44:13.609Z"
   },
   {
    "duration": 4,
    "start_time": "2023-07-19T12:44:27.412Z"
   },
   {
    "duration": 3,
    "start_time": "2023-07-19T12:47:36.899Z"
   },
   {
    "duration": 209,
    "start_time": "2023-07-19T12:48:41.195Z"
   },
   {
    "duration": 10,
    "start_time": "2023-07-19T12:49:26.500Z"
   },
   {
    "duration": 3,
    "start_time": "2023-07-19T12:49:33.133Z"
   },
   {
    "duration": 4,
    "start_time": "2023-07-19T12:49:34.352Z"
   },
   {
    "duration": 20062,
    "start_time": "2023-07-19T12:49:35.564Z"
   },
   {
    "duration": 621,
    "start_time": "2023-07-19T12:51:52.499Z"
   },
   {
    "duration": 4,
    "start_time": "2023-07-19T13:02:53.952Z"
   },
   {
    "duration": 1538,
    "start_time": "2023-07-19T13:04:55.170Z"
   },
   {
    "duration": 773,
    "start_time": "2023-07-19T13:05:00.435Z"
   },
   {
    "duration": 23,
    "start_time": "2023-07-19T13:05:07.241Z"
   },
   {
    "duration": 106,
    "start_time": "2023-07-19T13:05:40.167Z"
   },
   {
    "duration": 1187,
    "start_time": "2023-07-19T13:05:47.020Z"
   },
   {
    "duration": 395,
    "start_time": "2023-07-19T13:05:56.783Z"
   },
   {
    "duration": 391,
    "start_time": "2023-07-19T13:05:58.683Z"
   },
   {
    "duration": 395,
    "start_time": "2023-07-19T13:06:00.706Z"
   },
   {
    "duration": 101,
    "start_time": "2023-07-19T13:06:03.251Z"
   },
   {
    "duration": 27,
    "start_time": "2023-07-19T13:06:07.034Z"
   },
   {
    "duration": 26,
    "start_time": "2023-07-19T13:06:56.709Z"
   },
   {
    "duration": 6,
    "start_time": "2023-07-19T13:06:57.419Z"
   },
   {
    "duration": 6,
    "start_time": "2023-07-19T13:07:31.273Z"
   },
   {
    "duration": 23,
    "start_time": "2023-07-19T13:07:34.769Z"
   },
   {
    "duration": 177,
    "start_time": "2023-07-19T13:07:38.624Z"
   },
   {
    "duration": 134,
    "start_time": "2023-07-19T13:07:42.345Z"
   },
   {
    "duration": 3,
    "start_time": "2023-07-19T13:12:40.025Z"
   },
   {
    "duration": 173,
    "start_time": "2023-07-19T13:12:40.837Z"
   },
   {
    "duration": 151,
    "start_time": "2023-07-19T13:12:44.514Z"
   },
   {
    "duration": 41,
    "start_time": "2023-07-19T13:12:46.820Z"
   },
   {
    "duration": 20,
    "start_time": "2023-07-19T13:12:47.655Z"
   },
   {
    "duration": 15,
    "start_time": "2023-07-19T13:12:54.453Z"
   },
   {
    "duration": 236,
    "start_time": "2023-07-19T13:12:57.976Z"
   },
   {
    "duration": 17,
    "start_time": "2023-07-19T13:12:59.238Z"
   },
   {
    "duration": 14,
    "start_time": "2023-07-19T13:13:21.539Z"
   },
   {
    "duration": 233,
    "start_time": "2023-07-19T13:13:22.965Z"
   },
   {
    "duration": 4,
    "start_time": "2023-07-19T13:13:28.429Z"
   },
   {
    "duration": 713,
    "start_time": "2023-07-19T13:13:28.436Z"
   },
   {
    "duration": 13,
    "start_time": "2023-07-19T13:13:29.151Z"
   },
   {
    "duration": 118,
    "start_time": "2023-07-19T13:13:29.166Z"
   },
   {
    "duration": 1100,
    "start_time": "2023-07-19T13:13:29.285Z"
   },
   {
    "duration": 347,
    "start_time": "2023-07-19T13:13:30.386Z"
   },
   {
    "duration": 379,
    "start_time": "2023-07-19T13:13:30.735Z"
   },
   {
    "duration": 395,
    "start_time": "2023-07-19T13:13:31.116Z"
   },
   {
    "duration": 106,
    "start_time": "2023-07-19T13:13:31.514Z"
   },
   {
    "duration": 22,
    "start_time": "2023-07-19T13:13:31.622Z"
   },
   {
    "duration": 32,
    "start_time": "2023-07-19T13:13:31.645Z"
   },
   {
    "duration": 36,
    "start_time": "2023-07-19T13:13:31.679Z"
   },
   {
    "duration": 68,
    "start_time": "2023-07-19T13:13:31.716Z"
   },
   {
    "duration": 222,
    "start_time": "2023-07-19T13:13:31.786Z"
   },
   {
    "duration": 151,
    "start_time": "2023-07-19T13:13:32.010Z"
   },
   {
    "duration": 3,
    "start_time": "2023-07-19T13:13:32.164Z"
   },
   {
    "duration": 223,
    "start_time": "2023-07-19T13:13:32.169Z"
   },
   {
    "duration": 164,
    "start_time": "2023-07-19T13:13:32.394Z"
   },
   {
    "duration": 32,
    "start_time": "2023-07-19T13:13:32.560Z"
   },
   {
    "duration": 28,
    "start_time": "2023-07-19T13:13:32.593Z"
   },
   {
    "duration": 22,
    "start_time": "2023-07-19T13:13:35.492Z"
   },
   {
    "duration": 211,
    "start_time": "2023-07-19T13:13:38.675Z"
   },
   {
    "duration": 16,
    "start_time": "2023-07-19T13:13:40.148Z"
   },
   {
    "duration": 232,
    "start_time": "2023-07-19T13:13:44.853Z"
   },
   {
    "duration": 5,
    "start_time": "2023-07-19T13:14:17.886Z"
   },
   {
    "duration": 37,
    "start_time": "2023-07-19T13:14:19.978Z"
   },
   {
    "duration": 174,
    "start_time": "2023-07-19T13:14:22.365Z"
   },
   {
    "duration": 42,
    "start_time": "2023-07-19T13:14:34.302Z"
   },
   {
    "duration": 25,
    "start_time": "2023-07-19T13:14:37.917Z"
   },
   {
    "duration": 15,
    "start_time": "2023-07-19T13:15:17.268Z"
   },
   {
    "duration": 195,
    "start_time": "2023-07-19T13:15:19.433Z"
   },
   {
    "duration": 52,
    "start_time": "2023-07-19T13:15:30.619Z"
   },
   {
    "duration": 18,
    "start_time": "2023-07-19T13:16:35.821Z"
   },
   {
    "duration": 14,
    "start_time": "2023-07-19T13:16:36.820Z"
   },
   {
    "duration": 5,
    "start_time": "2023-07-19T13:17:09.187Z"
   },
   {
    "duration": 16,
    "start_time": "2023-07-19T13:17:10.257Z"
   },
   {
    "duration": 143,
    "start_time": "2023-07-19T13:17:12.811Z"
   },
   {
    "duration": 15,
    "start_time": "2023-07-19T13:17:25.659Z"
   },
   {
    "duration": 19,
    "start_time": "2023-07-19T13:17:26.980Z"
   },
   {
    "duration": 157,
    "start_time": "2023-07-19T13:17:36.713Z"
   },
   {
    "duration": 7,
    "start_time": "2023-07-19T13:20:19.252Z"
   },
   {
    "duration": 21,
    "start_time": "2023-07-19T13:20:32.573Z"
   },
   {
    "duration": 115,
    "start_time": "2023-07-19T13:20:49.642Z"
   },
   {
    "duration": 21,
    "start_time": "2023-07-19T13:21:04.993Z"
   },
   {
    "duration": 15,
    "start_time": "2023-07-19T13:21:57.894Z"
   },
   {
    "duration": 252,
    "start_time": "2023-07-19T13:22:01.057Z"
   },
   {
    "duration": 15,
    "start_time": "2023-07-19T13:22:06.819Z"
   },
   {
    "duration": 5,
    "start_time": "2023-07-19T13:22:20.709Z"
   },
   {
    "duration": 15,
    "start_time": "2023-07-19T13:22:22.922Z"
   },
   {
    "duration": 164,
    "start_time": "2023-07-19T13:23:55.421Z"
   },
   {
    "duration": 129858,
    "start_time": "2023-07-19T13:25:34.731Z"
   },
   {
    "duration": 128,
    "start_time": "2023-07-19T13:51:02.304Z"
   },
   {
    "duration": 11,
    "start_time": "2023-07-19T13:51:07.425Z"
   },
   {
    "duration": 42,
    "start_time": "2023-07-19T13:51:31.131Z"
   },
   {
    "duration": 5,
    "start_time": "2023-07-19T13:51:32.070Z"
   },
   {
    "duration": 4,
    "start_time": "2023-07-19T13:51:40.667Z"
   },
   {
    "duration": 709,
    "start_time": "2023-07-19T13:51:40.673Z"
   },
   {
    "duration": 12,
    "start_time": "2023-07-19T13:51:41.383Z"
   },
   {
    "duration": 118,
    "start_time": "2023-07-19T13:51:41.396Z"
   },
   {
    "duration": 976,
    "start_time": "2023-07-19T13:51:41.515Z"
   },
   {
    "duration": 343,
    "start_time": "2023-07-19T13:51:42.493Z"
   },
   {
    "duration": 375,
    "start_time": "2023-07-19T13:51:42.838Z"
   },
   {
    "duration": 365,
    "start_time": "2023-07-19T13:51:43.215Z"
   },
   {
    "duration": 99,
    "start_time": "2023-07-19T13:51:43.582Z"
   },
   {
    "duration": 13,
    "start_time": "2023-07-19T13:51:43.682Z"
   },
   {
    "duration": 7,
    "start_time": "2023-07-19T13:51:43.697Z"
   },
   {
    "duration": 21,
    "start_time": "2023-07-19T13:51:43.705Z"
   },
   {
    "duration": 28,
    "start_time": "2023-07-19T13:51:43.729Z"
   },
   {
    "duration": 167,
    "start_time": "2023-07-19T13:51:43.758Z"
   },
   {
    "duration": 134,
    "start_time": "2023-07-19T13:51:43.926Z"
   },
   {
    "duration": 2,
    "start_time": "2023-07-19T13:51:44.061Z"
   },
   {
    "duration": 170,
    "start_time": "2023-07-19T13:51:44.065Z"
   },
   {
    "duration": 160,
    "start_time": "2023-07-19T13:51:44.236Z"
   },
   {
    "duration": 39,
    "start_time": "2023-07-19T13:51:44.398Z"
   },
   {
    "duration": 29,
    "start_time": "2023-07-19T13:51:44.438Z"
   },
   {
    "duration": 14,
    "start_time": "2023-07-19T13:51:44.468Z"
   },
   {
    "duration": 222,
    "start_time": "2023-07-19T13:51:44.483Z"
   },
   {
    "duration": 19,
    "start_time": "2023-07-19T13:51:44.707Z"
   },
   {
    "duration": 251,
    "start_time": "2023-07-19T13:51:44.728Z"
   },
   {
    "duration": 3,
    "start_time": "2023-07-19T13:51:44.981Z"
   },
   {
    "duration": 49,
    "start_time": "2023-07-19T13:51:44.986Z"
   },
   {
    "duration": 202,
    "start_time": "2023-07-19T13:51:45.037Z"
   },
   {
    "duration": 42,
    "start_time": "2023-07-19T13:51:45.240Z"
   },
   {
    "duration": 37,
    "start_time": "2023-07-19T13:51:45.284Z"
   },
   {
    "duration": 17,
    "start_time": "2023-07-19T13:51:45.323Z"
   },
   {
    "duration": 225,
    "start_time": "2023-07-19T13:51:45.342Z"
   },
   {
    "duration": 27,
    "start_time": "2023-07-19T13:51:45.569Z"
   },
   {
    "duration": 35,
    "start_time": "2023-07-19T13:51:45.598Z"
   },
   {
    "duration": 21,
    "start_time": "2023-07-19T13:51:45.635Z"
   },
   {
    "duration": 7,
    "start_time": "2023-07-19T13:51:45.657Z"
   },
   {
    "duration": 32,
    "start_time": "2023-07-19T13:51:45.666Z"
   },
   {
    "duration": 270,
    "start_time": "2023-07-19T13:51:45.700Z"
   },
   {
    "duration": 15,
    "start_time": "2023-07-19T13:51:45.972Z"
   },
   {
    "duration": 32,
    "start_time": "2023-07-19T13:51:45.989Z"
   },
   {
    "duration": 182,
    "start_time": "2023-07-19T13:51:46.023Z"
   },
   {
    "duration": 13,
    "start_time": "2023-07-19T13:51:46.207Z"
   },
   {
    "duration": 31,
    "start_time": "2023-07-19T13:51:46.221Z"
   },
   {
    "duration": 16,
    "start_time": "2023-07-19T13:51:46.254Z"
   },
   {
    "duration": 280,
    "start_time": "2023-07-19T13:51:46.272Z"
   },
   {
    "duration": 15,
    "start_time": "2023-07-19T13:51:46.553Z"
   },
   {
    "duration": 13,
    "start_time": "2023-07-19T13:51:46.569Z"
   },
   {
    "duration": 14,
    "start_time": "2023-07-19T13:51:46.583Z"
   },
   {
    "duration": 153,
    "start_time": "2023-07-19T13:51:46.598Z"
   },
   {
    "duration": 42,
    "start_time": "2023-07-19T13:52:10.653Z"
   },
   {
    "duration": 6,
    "start_time": "2023-07-19T13:52:11.487Z"
   },
   {
    "duration": 4,
    "start_time": "2023-07-19T13:52:31.587Z"
   },
   {
    "duration": 759,
    "start_time": "2023-07-19T13:52:31.592Z"
   },
   {
    "duration": 11,
    "start_time": "2023-07-19T13:52:32.353Z"
   },
   {
    "duration": 170,
    "start_time": "2023-07-19T13:52:32.366Z"
   },
   {
    "duration": 995,
    "start_time": "2023-07-19T13:52:32.537Z"
   },
   {
    "duration": 336,
    "start_time": "2023-07-19T13:52:33.534Z"
   },
   {
    "duration": 365,
    "start_time": "2023-07-19T13:52:33.871Z"
   },
   {
    "duration": 346,
    "start_time": "2023-07-19T13:52:34.238Z"
   },
   {
    "duration": 106,
    "start_time": "2023-07-19T13:52:34.586Z"
   },
   {
    "duration": 22,
    "start_time": "2023-07-19T13:52:34.693Z"
   },
   {
    "duration": 26,
    "start_time": "2023-07-19T13:52:34.716Z"
   },
   {
    "duration": 10,
    "start_time": "2023-07-19T13:52:34.743Z"
   },
   {
    "duration": 29,
    "start_time": "2023-07-19T13:52:34.755Z"
   },
   {
    "duration": 178,
    "start_time": "2023-07-19T13:52:34.786Z"
   },
   {
    "duration": 129,
    "start_time": "2023-07-19T13:52:34.966Z"
   },
   {
    "duration": 3,
    "start_time": "2023-07-19T13:52:35.097Z"
   },
   {
    "duration": 221,
    "start_time": "2023-07-19T13:52:35.102Z"
   },
   {
    "duration": 177,
    "start_time": "2023-07-19T13:52:35.325Z"
   },
   {
    "duration": 45,
    "start_time": "2023-07-19T13:52:35.504Z"
   },
   {
    "duration": 21,
    "start_time": "2023-07-19T13:52:35.552Z"
   },
   {
    "duration": 25,
    "start_time": "2023-07-19T13:52:35.575Z"
   },
   {
    "duration": 258,
    "start_time": "2023-07-19T13:52:35.602Z"
   },
   {
    "duration": 15,
    "start_time": "2023-07-19T13:52:35.861Z"
   },
   {
    "duration": 292,
    "start_time": "2023-07-19T13:52:35.879Z"
   },
   {
    "duration": 4,
    "start_time": "2023-07-19T13:52:36.172Z"
   },
   {
    "duration": 34,
    "start_time": "2023-07-19T13:52:36.177Z"
   },
   {
    "duration": 173,
    "start_time": "2023-07-19T13:52:36.212Z"
   },
   {
    "duration": 49,
    "start_time": "2023-07-19T13:52:36.386Z"
   },
   {
    "duration": 24,
    "start_time": "2023-07-19T13:52:36.436Z"
   },
   {
    "duration": 15,
    "start_time": "2023-07-19T13:52:36.461Z"
   },
   {
    "duration": 209,
    "start_time": "2023-07-19T13:52:36.477Z"
   },
   {
    "duration": 24,
    "start_time": "2023-07-19T13:52:36.688Z"
   },
   {
    "duration": 26,
    "start_time": "2023-07-19T13:52:36.720Z"
   },
   {
    "duration": 49,
    "start_time": "2023-07-19T13:52:36.748Z"
   },
   {
    "duration": 14,
    "start_time": "2023-07-19T13:52:36.799Z"
   },
   {
    "duration": 41,
    "start_time": "2023-07-19T13:52:36.814Z"
   },
   {
    "duration": 300,
    "start_time": "2023-07-19T13:52:36.856Z"
   },
   {
    "duration": 16,
    "start_time": "2023-07-19T13:52:37.158Z"
   },
   {
    "duration": 25,
    "start_time": "2023-07-19T13:52:37.175Z"
   },
   {
    "duration": 163,
    "start_time": "2023-07-19T13:52:37.202Z"
   },
   {
    "duration": 6,
    "start_time": "2023-07-19T13:52:37.366Z"
   },
   {
    "duration": 26,
    "start_time": "2023-07-19T13:52:37.373Z"
   },
   {
    "duration": 14,
    "start_time": "2023-07-19T13:52:37.401Z"
   },
   {
    "duration": 258,
    "start_time": "2023-07-19T13:52:37.420Z"
   },
   {
    "duration": 20,
    "start_time": "2023-07-19T13:52:37.679Z"
   },
   {
    "duration": 16,
    "start_time": "2023-07-19T13:52:37.700Z"
   },
   {
    "duration": 37,
    "start_time": "2023-07-19T13:52:37.718Z"
   },
   {
    "duration": 131,
    "start_time": "2023-07-19T13:52:37.756Z"
   },
   {
    "duration": 7,
    "start_time": "2023-07-19T13:52:47.375Z"
   },
   {
    "duration": 6,
    "start_time": "2023-07-19T14:01:11.638Z"
   },
   {
    "duration": 33,
    "start_time": "2023-07-19T14:01:12.793Z"
   },
   {
    "duration": 174,
    "start_time": "2023-07-19T14:01:13.398Z"
   },
   {
    "duration": 14,
    "start_time": "2023-07-19T14:01:36.266Z"
   },
   {
    "duration": 189,
    "start_time": "2023-07-19T14:01:42.936Z"
   },
   {
    "duration": 28,
    "start_time": "2023-07-19T14:01:47.012Z"
   },
   {
    "duration": 18,
    "start_time": "2023-07-19T14:02:05.784Z"
   },
   {
    "duration": 13,
    "start_time": "2023-07-19T14:02:08.989Z"
   },
   {
    "duration": 14,
    "start_time": "2023-07-19T14:02:30.036Z"
   },
   {
    "duration": 228,
    "start_time": "2023-07-19T14:02:31.718Z"
   },
   {
    "duration": 14,
    "start_time": "2023-07-19T14:02:54.571Z"
   },
   {
    "duration": 161,
    "start_time": "2023-07-19T14:02:55.909Z"
   },
   {
    "duration": 20,
    "start_time": "2023-07-19T14:02:57.120Z"
   },
   {
    "duration": 14,
    "start_time": "2023-07-19T14:02:57.755Z"
   },
   {
    "duration": 197,
    "start_time": "2023-07-19T14:02:59.624Z"
   },
   {
    "duration": 29,
    "start_time": "2023-07-19T14:03:01.363Z"
   },
   {
    "duration": 14,
    "start_time": "2023-07-19T14:03:25.213Z"
   },
   {
    "duration": 5,
    "start_time": "2023-07-19T14:03:40.586Z"
   },
   {
    "duration": 5,
    "start_time": "2023-07-19T14:04:15.720Z"
   },
   {
    "duration": 5,
    "start_time": "2023-07-19T14:04:16.568Z"
   },
   {
    "duration": 5,
    "start_time": "2023-07-19T14:04:42.061Z"
   },
   {
    "duration": 5,
    "start_time": "2023-07-19T14:04:42.741Z"
   },
   {
    "duration": 16,
    "start_time": "2023-07-19T14:05:07.279Z"
   },
   {
    "duration": 5,
    "start_time": "2023-07-19T14:05:07.994Z"
   },
   {
    "duration": 98,
    "start_time": "2023-07-19T14:05:40.803Z"
   },
   {
    "duration": 92,
    "start_time": "2023-07-19T14:05:45.824Z"
   },
   {
    "duration": 357,
    "start_time": "2023-07-19T14:05:47.992Z"
   },
   {
    "duration": 16,
    "start_time": "2023-07-19T14:05:49.038Z"
   },
   {
    "duration": 14,
    "start_time": "2023-07-19T14:05:51.999Z"
   },
   {
    "duration": 64,
    "start_time": "2023-07-19T14:06:36.434Z"
   },
   {
    "duration": 14,
    "start_time": "2023-07-19T14:06:37.437Z"
   },
   {
    "duration": 3,
    "start_time": "2023-07-19T14:06:48.303Z"
   },
   {
    "duration": 726,
    "start_time": "2023-07-19T14:06:48.308Z"
   },
   {
    "duration": 12,
    "start_time": "2023-07-19T14:06:49.035Z"
   },
   {
    "duration": 111,
    "start_time": "2023-07-19T14:06:49.049Z"
   },
   {
    "duration": 996,
    "start_time": "2023-07-19T14:06:49.161Z"
   },
   {
    "duration": 353,
    "start_time": "2023-07-19T14:06:50.159Z"
   },
   {
    "duration": 365,
    "start_time": "2023-07-19T14:06:50.514Z"
   },
   {
    "duration": 391,
    "start_time": "2023-07-19T14:06:50.881Z"
   },
   {
    "duration": 120,
    "start_time": "2023-07-19T14:06:51.275Z"
   },
   {
    "duration": 35,
    "start_time": "2023-07-19T14:06:51.396Z"
   },
   {
    "duration": 29,
    "start_time": "2023-07-19T14:06:51.432Z"
   },
   {
    "duration": 37,
    "start_time": "2023-07-19T14:06:51.462Z"
   },
   {
    "duration": 33,
    "start_time": "2023-07-19T14:06:51.501Z"
   },
   {
    "duration": 190,
    "start_time": "2023-07-19T14:06:51.535Z"
   },
   {
    "duration": 152,
    "start_time": "2023-07-19T14:06:51.727Z"
   },
   {
    "duration": 2,
    "start_time": "2023-07-19T14:06:51.880Z"
   },
   {
    "duration": 201,
    "start_time": "2023-07-19T14:06:51.883Z"
   },
   {
    "duration": 177,
    "start_time": "2023-07-19T14:06:52.086Z"
   },
   {
    "duration": 34,
    "start_time": "2023-07-19T14:06:52.264Z"
   },
   {
    "duration": 32,
    "start_time": "2023-07-19T14:06:52.301Z"
   },
   {
    "duration": 15,
    "start_time": "2023-07-19T14:06:52.335Z"
   },
   {
    "duration": 249,
    "start_time": "2023-07-19T14:06:52.352Z"
   },
   {
    "duration": 24,
    "start_time": "2023-07-19T14:06:52.603Z"
   },
   {
    "duration": 280,
    "start_time": "2023-07-19T14:06:52.631Z"
   },
   {
    "duration": 9,
    "start_time": "2023-07-19T14:06:52.912Z"
   },
   {
    "duration": 47,
    "start_time": "2023-07-19T14:06:52.923Z"
   },
   {
    "duration": 189,
    "start_time": "2023-07-19T14:06:52.972Z"
   },
   {
    "duration": 68,
    "start_time": "2023-07-19T14:06:53.163Z"
   },
   {
    "duration": 32,
    "start_time": "2023-07-19T14:06:53.233Z"
   },
   {
    "duration": 20,
    "start_time": "2023-07-19T14:06:53.266Z"
   },
   {
    "duration": 233,
    "start_time": "2023-07-19T14:06:53.288Z"
   },
   {
    "duration": 28,
    "start_time": "2023-07-19T14:06:53.522Z"
   },
   {
    "duration": 31,
    "start_time": "2023-07-19T14:06:53.552Z"
   },
   {
    "duration": 27,
    "start_time": "2023-07-19T14:06:53.585Z"
   },
   {
    "duration": 33,
    "start_time": "2023-07-19T14:06:53.614Z"
   },
   {
    "duration": 42,
    "start_time": "2023-07-19T14:06:53.648Z"
   },
   {
    "duration": 171,
    "start_time": "2023-07-19T14:06:53.692Z"
   },
   {
    "duration": 15,
    "start_time": "2023-07-19T14:06:53.865Z"
   },
   {
    "duration": 32,
    "start_time": "2023-07-19T14:06:53.881Z"
   },
   {
    "duration": 176,
    "start_time": "2023-07-19T14:06:53.915Z"
   },
   {
    "duration": 7,
    "start_time": "2023-07-19T14:06:54.093Z"
   },
   {
    "duration": 33,
    "start_time": "2023-07-19T14:06:54.101Z"
   },
   {
    "duration": 14,
    "start_time": "2023-07-19T14:06:54.135Z"
   },
   {
    "duration": 317,
    "start_time": "2023-07-19T14:06:54.151Z"
   },
   {
    "duration": 16,
    "start_time": "2023-07-19T14:06:54.470Z"
   },
   {
    "duration": 17,
    "start_time": "2023-07-19T14:06:54.487Z"
   },
   {
    "duration": 21,
    "start_time": "2023-07-19T14:06:54.505Z"
   },
   {
    "duration": 322,
    "start_time": "2023-07-19T14:06:54.528Z"
   },
   {
    "duration": 7,
    "start_time": "2023-07-19T14:06:54.852Z"
   },
   {
    "duration": 5,
    "start_time": "2023-07-19T14:06:54.860Z"
   },
   {
    "duration": 25,
    "start_time": "2023-07-19T14:06:54.867Z"
   },
   {
    "duration": 169,
    "start_time": "2023-07-19T14:06:54.893Z"
   },
   {
    "duration": 15,
    "start_time": "2023-07-19T14:06:55.063Z"
   },
   {
    "duration": 251,
    "start_time": "2023-07-19T14:06:55.079Z"
   },
   {
    "duration": 40,
    "start_time": "2023-07-19T14:06:55.332Z"
   },
   {
    "duration": 37,
    "start_time": "2023-07-19T14:06:55.374Z"
   },
   {
    "duration": 27,
    "start_time": "2023-07-19T14:06:55.413Z"
   },
   {
    "duration": 27,
    "start_time": "2023-07-19T14:06:55.442Z"
   },
   {
    "duration": 271,
    "start_time": "2023-07-19T14:06:55.472Z"
   },
   {
    "duration": 16,
    "start_time": "2023-07-19T14:06:55.745Z"
   },
   {
    "duration": 190,
    "start_time": "2023-07-19T14:06:55.763Z"
   },
   {
    "duration": 21,
    "start_time": "2023-07-19T14:06:55.955Z"
   },
   {
    "duration": 26,
    "start_time": "2023-07-19T14:06:55.977Z"
   },
   {
    "duration": 225,
    "start_time": "2023-07-19T14:06:56.004Z"
   },
   {
    "duration": 28,
    "start_time": "2023-07-19T14:06:56.231Z"
   },
   {
    "duration": 18,
    "start_time": "2023-07-19T14:06:56.261Z"
   },
   {
    "duration": 7,
    "start_time": "2023-07-19T14:06:56.281Z"
   },
   {
    "duration": 5,
    "start_time": "2023-07-19T14:06:56.289Z"
   },
   {
    "duration": 5,
    "start_time": "2023-07-19T14:06:56.322Z"
   },
   {
    "duration": 8,
    "start_time": "2023-07-19T14:06:56.328Z"
   },
   {
    "duration": 5,
    "start_time": "2023-07-19T14:06:56.338Z"
   },
   {
    "duration": 19,
    "start_time": "2023-07-19T14:06:56.345Z"
   },
   {
    "duration": 10,
    "start_time": "2023-07-19T14:06:56.366Z"
   },
   {
    "duration": 130,
    "start_time": "2023-07-19T14:06:56.378Z"
   },
   {
    "duration": 111,
    "start_time": "2023-07-19T14:06:56.510Z"
   },
   {
    "duration": 353,
    "start_time": "2023-07-19T14:06:56.622Z"
   },
   {
    "duration": 17,
    "start_time": "2023-07-19T14:06:56.976Z"
   },
   {
    "duration": 25,
    "start_time": "2023-07-19T14:06:56.995Z"
   },
   {
    "duration": 72,
    "start_time": "2023-07-19T14:07:13.217Z"
   },
   {
    "duration": 6,
    "start_time": "2023-07-19T14:07:24.731Z"
   },
   {
    "duration": 78,
    "start_time": "2023-07-19T14:07:36.409Z"
   },
   {
    "duration": 4,
    "start_time": "2023-07-19T14:07:49.110Z"
   },
   {
    "duration": 39,
    "start_time": "2023-07-19T14:07:50.417Z"
   },
   {
    "duration": 14,
    "start_time": "2023-07-19T14:07:51.508Z"
   },
   {
    "duration": 558,
    "start_time": "2023-07-19T14:08:36.655Z"
   },
   {
    "duration": 8,
    "start_time": "2023-07-19T14:08:42.377Z"
   },
   {
    "duration": 30,
    "start_time": "2023-07-19T14:08:46.687Z"
   },
   {
    "duration": 14,
    "start_time": "2023-07-19T14:08:48.453Z"
   },
   {
    "duration": 4,
    "start_time": "2023-07-19T14:08:49.192Z"
   },
   {
    "duration": 3,
    "start_time": "2023-07-19T14:10:08.818Z"
   },
   {
    "duration": 44,
    "start_time": "2023-07-19T14:10:09.629Z"
   },
   {
    "duration": 19,
    "start_time": "2023-07-19T14:10:10.489Z"
   },
   {
    "duration": 1741,
    "start_time": "2023-07-19T14:10:24.716Z"
   },
   {
    "duration": 1616,
    "start_time": "2023-07-19T14:10:41.697Z"
   },
   {
    "duration": 3,
    "start_time": "2023-07-19T14:10:49.150Z"
   },
   {
    "duration": 1830,
    "start_time": "2023-07-19T14:10:55.646Z"
   },
   {
    "duration": 4,
    "start_time": "2023-07-19T14:10:58.712Z"
   },
   {
    "duration": 1702,
    "start_time": "2023-07-19T14:11:14.839Z"
   },
   {
    "duration": 4,
    "start_time": "2023-07-19T14:11:18.164Z"
   },
   {
    "duration": 1686,
    "start_time": "2023-07-19T14:11:26.169Z"
   },
   {
    "duration": 3,
    "start_time": "2023-07-19T14:11:29.506Z"
   },
   {
    "duration": 3,
    "start_time": "2023-07-19T14:11:32.719Z"
   },
   {
    "duration": 51639,
    "start_time": "2023-07-19T14:12:00.351Z"
   },
   {
    "duration": 3,
    "start_time": "2023-07-19T14:12:51.992Z"
   },
   {
    "duration": 28,
    "start_time": "2023-07-19T14:12:51.996Z"
   },
   {
    "duration": 43,
    "start_time": "2023-07-19T14:13:58.944Z"
   },
   {
    "duration": 950350,
    "start_time": "2023-07-19T14:54:59.900Z"
   },
   {
    "duration": 72,
    "start_time": "2023-07-19T15:20:58.646Z"
   },
   {
    "duration": 1905,
    "start_time": "2023-07-31T07:20:15.365Z"
   },
   {
    "duration": 3125,
    "start_time": "2023-07-31T07:20:48.690Z"
   },
   {
    "duration": 18,
    "start_time": "2023-07-31T07:20:52.808Z"
   },
   {
    "duration": 130,
    "start_time": "2023-07-31T07:20:53.914Z"
   },
   {
    "duration": 1250,
    "start_time": "2023-07-31T07:20:55.017Z"
   },
   {
    "duration": 476,
    "start_time": "2023-07-31T07:20:57.864Z"
   },
   {
    "duration": 583,
    "start_time": "2023-07-31T07:20:58.859Z"
   },
   {
    "duration": 468,
    "start_time": "2023-07-31T07:21:00.554Z"
   },
   {
    "duration": 119,
    "start_time": "2023-07-31T07:21:01.656Z"
   },
   {
    "duration": 26,
    "start_time": "2023-07-31T07:21:03.345Z"
   },
   {
    "duration": 8,
    "start_time": "2023-07-31T07:21:04.149Z"
   },
   {
    "duration": 5,
    "start_time": "2023-07-31T07:21:05.672Z"
   },
   {
    "duration": 19,
    "start_time": "2023-07-31T07:21:06.217Z"
   },
   {
    "duration": 213,
    "start_time": "2023-07-31T07:21:06.880Z"
   },
   {
    "duration": 141,
    "start_time": "2023-07-31T07:21:07.711Z"
   },
   {
    "duration": 3,
    "start_time": "2023-07-31T07:21:08.496Z"
   },
   {
    "duration": 225,
    "start_time": "2023-07-31T07:21:09.249Z"
   },
   {
    "duration": 190,
    "start_time": "2023-07-31T07:21:11.121Z"
   },
   {
    "duration": 46,
    "start_time": "2023-07-31T07:21:11.807Z"
   },
   {
    "duration": 20,
    "start_time": "2023-07-31T07:21:12.579Z"
   },
   {
    "duration": 15,
    "start_time": "2023-07-31T07:21:14.010Z"
   },
   {
    "duration": 237,
    "start_time": "2023-07-31T07:21:15.053Z"
   },
   {
    "duration": 18,
    "start_time": "2023-07-31T07:21:16.071Z"
   },
   {
    "duration": 239,
    "start_time": "2023-07-31T07:21:17.070Z"
   },
   {
    "duration": 16,
    "start_time": "2023-07-31T07:21:18.553Z"
   },
   {
    "duration": 30,
    "start_time": "2023-07-31T07:21:26.013Z"
   },
   {
    "duration": 240,
    "start_time": "2023-07-31T07:21:26.814Z"
   },
   {
    "duration": 62,
    "start_time": "2023-07-31T07:21:27.753Z"
   },
   {
    "duration": 28,
    "start_time": "2023-07-31T07:21:28.623Z"
   },
   {
    "duration": 14,
    "start_time": "2023-07-31T07:21:30.014Z"
   },
   {
    "duration": 204,
    "start_time": "2023-07-31T07:21:30.595Z"
   },
   {
    "duration": 26,
    "start_time": "2023-07-31T07:21:31.974Z"
   },
   {
    "duration": 19,
    "start_time": "2023-07-31T07:21:32.603Z"
   },
   {
    "duration": 16,
    "start_time": "2023-07-31T07:21:33.421Z"
   },
   {
    "duration": 4,
    "start_time": "2023-07-31T07:21:34.675Z"
   },
   {
    "duration": 20,
    "start_time": "2023-07-31T07:21:35.465Z"
   },
   {
    "duration": 179,
    "start_time": "2023-07-31T07:21:36.170Z"
   },
   {
    "duration": 21,
    "start_time": "2023-07-31T07:21:36.826Z"
   },
   {
    "duration": 26,
    "start_time": "2023-07-31T07:21:37.453Z"
   },
   {
    "duration": 198,
    "start_time": "2023-07-31T07:21:38.061Z"
   },
   {
    "duration": 8,
    "start_time": "2023-07-31T07:21:38.684Z"
   },
   {
    "duration": 21,
    "start_time": "2023-07-31T07:21:39.290Z"
   },
   {
    "duration": 24,
    "start_time": "2023-07-31T07:21:40.495Z"
   },
   {
    "duration": 254,
    "start_time": "2023-07-31T07:21:41.386Z"
   },
   {
    "duration": 20,
    "start_time": "2023-07-31T07:21:42.470Z"
   },
   {
    "duration": 5,
    "start_time": "2023-07-31T07:21:43.704Z"
   },
   {
    "duration": 17,
    "start_time": "2023-07-31T07:21:44.395Z"
   },
   {
    "duration": 304,
    "start_time": "2023-07-31T07:21:45.108Z"
   },
   {
    "duration": 416,
    "start_time": "2023-07-31T07:21:46.188Z"
   },
   {
    "duration": 5,
    "start_time": "2023-07-31T07:21:47.913Z"
   },
   {
    "duration": 38,
    "start_time": "2023-07-31T07:21:48.749Z"
   },
   {
    "duration": 161,
    "start_time": "2023-07-31T07:21:49.514Z"
   },
   {
    "duration": 23,
    "start_time": "2023-07-31T07:21:50.949Z"
   },
   {
    "duration": 226,
    "start_time": "2023-07-31T07:21:51.594Z"
   },
   {
    "duration": 46,
    "start_time": "2023-07-31T07:21:52.475Z"
   },
   {
    "duration": 17,
    "start_time": "2023-07-31T07:21:53.165Z"
   },
   {
    "duration": 22,
    "start_time": "2023-07-31T07:21:54.057Z"
   },
   {
    "duration": 16,
    "start_time": "2023-07-31T07:21:55.371Z"
   },
   {
    "duration": 268,
    "start_time": "2023-07-31T07:21:56.403Z"
   },
   {
    "duration": 23,
    "start_time": "2023-07-31T07:21:58.169Z"
   },
   {
    "duration": 211,
    "start_time": "2023-07-31T07:21:58.826Z"
   },
   {
    "duration": 26,
    "start_time": "2023-07-31T07:21:59.453Z"
   },
   {
    "duration": 30,
    "start_time": "2023-07-31T07:22:00.050Z"
   },
   {
    "duration": 215,
    "start_time": "2023-07-31T07:22:00.618Z"
   },
   {
    "duration": 30,
    "start_time": "2023-07-31T07:22:01.298Z"
   },
   {
    "duration": 18,
    "start_time": "2023-07-31T07:22:02.476Z"
   },
   {
    "duration": 14,
    "start_time": "2023-07-31T07:22:03.261Z"
   },
   {
    "duration": 4,
    "start_time": "2023-07-31T07:22:04.601Z"
   },
   {
    "duration": 6,
    "start_time": "2023-07-31T07:22:05.170Z"
   },
   {
    "duration": 5,
    "start_time": "2023-07-31T07:22:06.270Z"
   },
   {
    "duration": 5,
    "start_time": "2023-07-31T07:22:07.082Z"
   },
   {
    "duration": 17,
    "start_time": "2023-07-31T07:22:08.226Z"
   },
   {
    "duration": 6,
    "start_time": "2023-07-31T07:22:08.770Z"
   },
   {
    "duration": 105,
    "start_time": "2023-07-31T07:22:09.966Z"
   },
   {
    "duration": 100,
    "start_time": "2023-07-31T07:22:11.395Z"
   },
   {
    "duration": 434,
    "start_time": "2023-07-31T07:22:12.295Z"
   },
   {
    "duration": 41,
    "start_time": "2023-07-31T07:22:12.969Z"
   },
   {
    "duration": 14,
    "start_time": "2023-07-31T07:22:13.884Z"
   },
   {
    "duration": 114,
    "start_time": "2023-07-31T07:22:15.669Z"
   },
   {
    "duration": 6,
    "start_time": "2023-07-31T07:22:16.483Z"
   },
   {
    "duration": 80,
    "start_time": "2023-07-31T07:22:17.223Z"
   },
   {
    "duration": 5,
    "start_time": "2023-07-31T07:22:17.802Z"
   },
   {
    "duration": 49,
    "start_time": "2023-07-31T07:22:18.500Z"
   },
   {
    "duration": 15,
    "start_time": "2023-07-31T07:22:19.284Z"
   },
   {
    "duration": 549,
    "start_time": "2023-07-31T07:22:22.170Z"
   },
   {
    "duration": 1603,
    "start_time": "2023-07-31T07:22:23.384Z"
   },
   {
    "duration": 401,
    "start_time": "2023-07-31T07:22:25.604Z"
   },
   {
    "duration": 20,
    "start_time": "2023-07-31T07:22:26.556Z"
   },
   {
    "duration": 4,
    "start_time": "2023-07-31T07:22:27.584Z"
   },
   {
    "duration": 3,
    "start_time": "2023-07-31T07:22:28.392Z"
   },
   {
    "duration": 59,
    "start_time": "2023-07-31T07:22:29.249Z"
   },
   {
    "duration": 24,
    "start_time": "2023-07-31T07:22:30.089Z"
   },
   {
    "duration": 1976,
    "start_time": "2023-07-31T07:22:31.111Z"
   },
   {
    "duration": 4,
    "start_time": "2023-07-31T07:22:34.485Z"
   },
   {
    "duration": 119,
    "start_time": "2023-07-31T07:22:36.223Z"
   },
   {
    "duration": 4,
    "start_time": "2023-07-31T07:22:45.171Z"
   },
   {
    "duration": 58951,
    "start_time": "2023-07-31T07:23:01.282Z"
   },
   {
    "duration": 9,
    "start_time": "2023-07-31T07:24:06.762Z"
   },
   {
    "duration": 4,
    "start_time": "2023-07-31T07:24:07.610Z"
   },
   {
    "duration": 204,
    "start_time": "2023-07-31T07:24:09.163Z"
   },
   {
    "duration": 9,
    "start_time": "2023-07-31T07:25:00.154Z"
   },
   {
    "duration": 3,
    "start_time": "2023-07-31T08:10:30.949Z"
   },
   {
    "duration": 819,
    "start_time": "2023-07-31T08:10:33.190Z"
   },
   {
    "duration": 13,
    "start_time": "2023-07-31T08:10:37.473Z"
   },
   {
    "duration": 138,
    "start_time": "2023-07-31T08:10:38.900Z"
   },
   {
    "duration": 1202,
    "start_time": "2023-07-31T08:10:45.398Z"
   },
   {
    "duration": 414,
    "start_time": "2023-07-31T08:10:56.077Z"
   },
   {
    "duration": 514,
    "start_time": "2023-07-31T08:10:57.270Z"
   },
   {
    "duration": 115,
    "start_time": "2023-07-31T08:11:04.078Z"
   },
   {
    "duration": 17,
    "start_time": "2023-07-31T08:11:09.216Z"
   },
   {
    "duration": 6,
    "start_time": "2023-07-31T08:11:10.324Z"
   },
   {
    "duration": 6,
    "start_time": "2023-07-31T08:11:14.456Z"
   },
   {
    "duration": 28,
    "start_time": "2023-07-31T08:11:15.742Z"
   },
   {
    "duration": 203,
    "start_time": "2023-07-31T08:11:17.750Z"
   },
   {
    "duration": 140,
    "start_time": "2023-07-31T08:11:21.113Z"
   },
   {
    "duration": 179,
    "start_time": "2023-07-31T08:11:23.473Z"
   },
   {
    "duration": 329,
    "start_time": "2023-07-31T08:11:24.554Z"
   },
   {
    "duration": 62,
    "start_time": "2023-07-31T08:11:30.707Z"
   },
   {
    "duration": 25,
    "start_time": "2023-07-31T08:11:31.346Z"
   },
   {
    "duration": 15,
    "start_time": "2023-07-31T08:11:33.986Z"
   },
   {
    "duration": 257,
    "start_time": "2023-07-31T08:11:39.068Z"
   },
   {
    "duration": 17,
    "start_time": "2023-07-31T08:11:40.395Z"
   },
   {
    "duration": 5,
    "start_time": "2023-07-31T08:11:44.876Z"
   },
   {
    "duration": 38,
    "start_time": "2023-07-31T08:11:45.853Z"
   },
   {
    "duration": 237,
    "start_time": "2023-07-31T08:11:49.086Z"
   },
   {
    "duration": 62,
    "start_time": "2023-07-31T08:11:58.058Z"
   },
   {
    "duration": 34,
    "start_time": "2023-07-31T08:11:58.889Z"
   },
   {
    "duration": 15,
    "start_time": "2023-07-31T08:12:03.770Z"
   },
   {
    "duration": 202,
    "start_time": "2023-07-31T08:12:06.070Z"
   },
   {
    "duration": 34,
    "start_time": "2023-07-31T08:12:07.249Z"
   },
   {
    "duration": 17,
    "start_time": "2023-07-31T08:12:07.988Z"
   },
   {
    "duration": 7,
    "start_time": "2023-07-31T08:12:16.164Z"
   },
   {
    "duration": 18,
    "start_time": "2023-07-31T08:12:16.791Z"
   },
   {
    "duration": 172,
    "start_time": "2023-07-31T08:12:19.266Z"
   },
   {
    "duration": 22,
    "start_time": "2023-07-31T08:12:20.953Z"
   },
   {
    "duration": 21,
    "start_time": "2023-07-31T08:12:22.801Z"
   },
   {
    "duration": 191,
    "start_time": "2023-07-31T08:12:23.704Z"
   },
   {
    "duration": 9,
    "start_time": "2023-07-31T08:12:27.774Z"
   },
   {
    "duration": 20,
    "start_time": "2023-07-31T08:12:29.669Z"
   },
   {
    "duration": 18,
    "start_time": "2023-07-31T08:12:39.422Z"
   },
   {
    "duration": 276,
    "start_time": "2023-07-31T08:12:40.946Z"
   },
   {
    "duration": 17,
    "start_time": "2023-07-31T08:13:03.789Z"
   },
   {
    "duration": 7,
    "start_time": "2023-07-31T08:13:08.986Z"
   },
   {
    "duration": 19,
    "start_time": "2023-07-31T08:13:14.493Z"
   },
   {
    "duration": 176,
    "start_time": "2023-07-31T08:13:15.701Z"
   },
   {
    "duration": 8,
    "start_time": "2023-07-31T08:13:17.274Z"
   },
   {
    "duration": 11,
    "start_time": "2023-07-31T08:13:20.753Z"
   },
   {
    "duration": 30,
    "start_time": "2023-07-31T08:13:21.353Z"
   },
   {
    "duration": 136,
    "start_time": "2023-07-31T08:13:22.073Z"
   },
   {
    "duration": 15,
    "start_time": "2023-07-31T08:13:24.494Z"
   },
   {
    "duration": 184,
    "start_time": "2023-07-31T08:13:25.066Z"
   },
   {
    "duration": 29,
    "start_time": "2023-07-31T08:13:26.708Z"
   },
   {
    "duration": 23,
    "start_time": "2023-07-31T08:13:29.086Z"
   },
   {
    "duration": 22,
    "start_time": "2023-07-31T08:13:30.854Z"
   },
   {
    "duration": 261,
    "start_time": "2023-07-31T08:13:31.713Z"
   },
   {
    "duration": 19,
    "start_time": "2023-07-31T08:13:37.160Z"
   },
   {
    "duration": 170,
    "start_time": "2023-07-31T08:13:39.477Z"
   },
   {
    "duration": 22,
    "start_time": "2023-07-31T08:13:41.049Z"
   },
   {
    "duration": 26,
    "start_time": "2023-07-31T08:13:41.999Z"
   },
   {
    "duration": 14,
    "start_time": "2023-07-31T08:13:46.174Z"
   },
   {
    "duration": 11,
    "start_time": "2023-07-31T08:13:47.052Z"
   },
   {
    "duration": 5,
    "start_time": "2023-07-31T08:13:50.500Z"
   },
   {
    "duration": 6,
    "start_time": "2023-07-31T08:13:51.013Z"
   },
   {
    "duration": 12,
    "start_time": "2023-07-31T08:13:54.061Z"
   },
   {
    "duration": 9,
    "start_time": "2023-07-31T08:13:54.860Z"
   },
   {
    "duration": 20,
    "start_time": "2023-07-31T08:13:58.470Z"
   },
   {
    "duration": 18,
    "start_time": "2023-07-31T08:13:59.054Z"
   },
   {
    "duration": 105,
    "start_time": "2023-07-31T08:14:02.826Z"
   },
   {
    "duration": 95,
    "start_time": "2023-07-31T08:14:03.670Z"
   },
   {
    "duration": 465,
    "start_time": "2023-07-31T08:14:07.054Z"
   },
   {
    "duration": 29,
    "start_time": "2023-07-31T08:14:12.798Z"
   },
   {
    "duration": 19,
    "start_time": "2023-07-31T08:14:13.866Z"
   },
   {
    "duration": 114,
    "start_time": "2023-07-31T08:16:34.056Z"
   },
   {
    "duration": 5,
    "start_time": "2023-07-31T08:16:36.104Z"
   },
   {
    "duration": 85,
    "start_time": "2023-07-31T08:17:10.874Z"
   },
   {
    "duration": 12,
    "start_time": "2023-07-31T08:17:12.454Z"
   },
   {
    "duration": 55,
    "start_time": "2023-07-31T08:17:38.371Z"
   },
   {
    "duration": 18,
    "start_time": "2023-07-31T08:17:39.574Z"
   },
   {
    "duration": 651,
    "start_time": "2023-07-31T08:18:33.682Z"
   },
   {
    "duration": 10,
    "start_time": "2023-07-31T08:18:53.970Z"
   },
   {
    "duration": 43,
    "start_time": "2023-07-31T08:19:33.491Z"
   },
   {
    "duration": 17,
    "start_time": "2023-07-31T08:19:34.369Z"
   },
   {
    "duration": 5,
    "start_time": "2023-07-31T08:19:35.180Z"
   },
   {
    "duration": 3,
    "start_time": "2023-07-31T08:19:55.906Z"
   },
   {
    "duration": 59,
    "start_time": "2023-07-31T08:19:57.810Z"
   },
   {
    "duration": 23,
    "start_time": "2023-07-31T08:19:59.176Z"
   },
   {
    "duration": 15557,
    "start_time": "2023-07-31T08:22:07.165Z"
   },
   {
    "duration": 4,
    "start_time": "2023-07-31T08:22:25.570Z"
   },
   {
    "duration": 4,
    "start_time": "2023-07-31T08:22:27.018Z"
   },
   {
    "duration": 54318,
    "start_time": "2023-07-31T08:24:52.410Z"
   },
   {
    "duration": 3,
    "start_time": "2023-07-31T08:25:46.730Z"
   },
   {
    "duration": 12,
    "start_time": "2023-07-31T08:25:46.735Z"
   },
   {
    "duration": 357353,
    "start_time": "2023-07-31T08:26:45.105Z"
   },
   {
    "duration": 123,
    "start_time": "2023-07-31T08:41:47.814Z"
   },
   {
    "duration": 142,
    "start_time": "2023-07-31T08:56:30.579Z"
   },
   {
    "duration": 115,
    "start_time": "2023-07-31T08:56:41.017Z"
   },
   {
    "duration": 53,
    "start_time": "2023-07-31T08:56:47.086Z"
   },
   {
    "duration": 462,
    "start_time": "2023-07-31T08:57:03.598Z"
   },
   {
    "duration": 8,
    "start_time": "2023-07-31T08:57:05.429Z"
   },
   {
    "duration": 37,
    "start_time": "2023-07-31T08:57:07.793Z"
   },
   {
    "duration": 17,
    "start_time": "2023-07-31T08:57:08.438Z"
   },
   {
    "duration": 5,
    "start_time": "2023-07-31T08:57:09.353Z"
   },
   {
    "duration": 3,
    "start_time": "2023-07-31T08:57:13.670Z"
   },
   {
    "duration": 40,
    "start_time": "2023-07-31T08:57:14.522Z"
   },
   {
    "duration": 22,
    "start_time": "2023-07-31T08:57:15.516Z"
   },
   {
    "duration": 12798,
    "start_time": "2023-07-31T08:57:18.578Z"
   },
   {
    "duration": 5,
    "start_time": "2023-07-31T08:57:34.212Z"
   },
   {
    "duration": 4,
    "start_time": "2023-07-31T08:57:35.466Z"
   },
   {
    "duration": 45164,
    "start_time": "2023-07-31T08:57:41.200Z"
   },
   {
    "duration": 4,
    "start_time": "2023-07-31T08:58:26.366Z"
   },
   {
    "duration": 8,
    "start_time": "2023-07-31T08:58:26.371Z"
   },
   {
    "duration": 121,
    "start_time": "2023-07-31T09:05:16.758Z"
   },
   {
    "duration": 4,
    "start_time": "2023-07-31T09:06:52.457Z"
   },
   {
    "duration": 444,
    "start_time": "2023-07-31T09:07:06.418Z"
   },
   {
    "duration": 1063,
    "start_time": "2023-07-31T09:15:07.798Z"
   },
   {
    "duration": 929055,
    "start_time": "2023-07-31T09:15:28.513Z"
   },
   {
    "duration": 6,
    "start_time": "2023-07-31T09:30:57.571Z"
   },
   {
    "duration": 15,
    "start_time": "2023-07-31T09:30:57.579Z"
   },
   {
    "duration": 375717,
    "start_time": "2023-07-31T09:34:51.157Z"
   },
   {
    "duration": 373,
    "start_time": "2023-07-31T09:42:36.120Z"
   },
   {
    "duration": 4,
    "start_time": "2023-07-31T09:49:47.096Z"
   },
   {
    "duration": 821,
    "start_time": "2023-07-31T09:49:51.278Z"
   },
   {
    "duration": 15,
    "start_time": "2023-07-31T09:49:52.100Z"
   },
   {
    "duration": 118,
    "start_time": "2023-07-31T09:49:54.073Z"
   },
   {
    "duration": 1412,
    "start_time": "2023-07-31T09:49:58.314Z"
   },
   {
    "duration": 511,
    "start_time": "2023-07-31T09:50:04.561Z"
   },
   {
    "duration": 551,
    "start_time": "2023-07-31T09:50:05.778Z"
   },
   {
    "duration": 181,
    "start_time": "2023-07-31T09:50:08.084Z"
   },
   {
    "duration": 29,
    "start_time": "2023-07-31T09:50:11.779Z"
   },
   {
    "duration": 9,
    "start_time": "2023-07-31T09:50:12.478Z"
   },
   {
    "duration": 6,
    "start_time": "2023-07-31T09:50:15.101Z"
   },
   {
    "duration": 26,
    "start_time": "2023-07-31T09:50:15.770Z"
   },
   {
    "duration": 484,
    "start_time": "2023-07-31T09:50:18.378Z"
   },
   {
    "duration": 164,
    "start_time": "2023-07-31T09:50:19.531Z"
   },
   {
    "duration": 225,
    "start_time": "2023-07-31T09:50:22.184Z"
   },
   {
    "duration": 222,
    "start_time": "2023-07-31T09:50:25.274Z"
   },
   {
    "duration": 60,
    "start_time": "2023-07-31T09:50:27.976Z"
   },
   {
    "duration": 20,
    "start_time": "2023-07-31T09:50:28.705Z"
   },
   {
    "duration": 26,
    "start_time": "2023-07-31T09:50:31.911Z"
   },
   {
    "duration": 248,
    "start_time": "2023-07-31T09:50:32.539Z"
   },
   {
    "duration": 19,
    "start_time": "2023-07-31T09:50:33.619Z"
   },
   {
    "duration": 6,
    "start_time": "2023-07-31T09:50:37.359Z"
   },
   {
    "duration": 37,
    "start_time": "2023-07-31T09:50:38.375Z"
   },
   {
    "duration": 308,
    "start_time": "2023-07-31T09:50:42.574Z"
   },
   {
    "duration": 61,
    "start_time": "2023-07-31T09:50:44.900Z"
   },
   {
    "duration": 36,
    "start_time": "2023-07-31T09:50:54.818Z"
   },
   {
    "duration": 32,
    "start_time": "2023-07-31T09:50:58.065Z"
   },
   {
    "duration": 225,
    "start_time": "2023-07-31T09:51:00.692Z"
   },
   {
    "duration": 28,
    "start_time": "2023-07-31T09:51:01.781Z"
   },
   {
    "duration": 23,
    "start_time": "2023-07-31T09:51:02.759Z"
   },
   {
    "duration": 6,
    "start_time": "2023-07-31T09:51:05.874Z"
   },
   {
    "duration": 24,
    "start_time": "2023-07-31T09:51:06.488Z"
   },
   {
    "duration": 211,
    "start_time": "2023-07-31T09:51:07.266Z"
   },
   {
    "duration": 25,
    "start_time": "2023-07-31T09:51:10.585Z"
   },
   {
    "duration": 27,
    "start_time": "2023-07-31T09:51:12.179Z"
   },
   {
    "duration": 221,
    "start_time": "2023-07-31T09:51:13.211Z"
   },
   {
    "duration": 10,
    "start_time": "2023-07-31T09:51:16.501Z"
   },
   {
    "duration": 30,
    "start_time": "2023-07-31T09:51:17.123Z"
   },
   {
    "duration": 17,
    "start_time": "2023-07-31T09:51:20.202Z"
   },
   {
    "duration": 271,
    "start_time": "2023-07-31T09:51:21.498Z"
   },
   {
    "duration": 28,
    "start_time": "2023-07-31T09:51:23.874Z"
   },
   {
    "duration": 6,
    "start_time": "2023-07-31T09:51:26.610Z"
   },
   {
    "duration": 19,
    "start_time": "2023-07-31T09:51:28.269Z"
   },
   {
    "duration": 219,
    "start_time": "2023-07-31T09:51:29.180Z"
   },
   {
    "duration": 9,
    "start_time": "2023-07-31T09:51:32.320Z"
   },
   {
    "duration": 7,
    "start_time": "2023-07-31T09:51:35.382Z"
   },
   {
    "duration": 44,
    "start_time": "2023-07-31T09:51:36.126Z"
   },
   {
    "duration": 174,
    "start_time": "2023-07-31T09:51:36.793Z"
   },
   {
    "duration": 23,
    "start_time": "2023-07-31T09:51:40.430Z"
   },
   {
    "duration": 262,
    "start_time": "2023-07-31T09:51:41.181Z"
   },
   {
    "duration": 28,
    "start_time": "2023-07-31T09:51:42.311Z"
   },
   {
    "duration": 31,
    "start_time": "2023-07-31T09:51:44.316Z"
   },
   {
    "duration": 24,
    "start_time": "2023-07-31T09:51:45.975Z"
   },
   {
    "duration": 287,
    "start_time": "2023-07-31T09:51:46.571Z"
   },
   {
    "duration": 17,
    "start_time": "2023-07-31T09:51:49.878Z"
   },
   {
    "duration": 193,
    "start_time": "2023-07-31T09:51:50.583Z"
   },
   {
    "duration": 25,
    "start_time": "2023-07-31T09:51:53.385Z"
   },
   {
    "duration": 49,
    "start_time": "2023-07-31T09:51:54.118Z"
   },
   {
    "duration": 23,
    "start_time": "2023-07-31T09:51:56.013Z"
   },
   {
    "duration": 6,
    "start_time": "2023-07-31T09:51:57.711Z"
   },
   {
    "duration": 6,
    "start_time": "2023-07-31T09:51:59.801Z"
   },
   {
    "duration": 7,
    "start_time": "2023-07-31T09:52:01.576Z"
   },
   {
    "duration": 10,
    "start_time": "2023-07-31T09:52:03.574Z"
   },
   {
    "duration": 5,
    "start_time": "2023-07-31T09:52:04.388Z"
   },
   {
    "duration": 29,
    "start_time": "2023-07-31T09:52:07.603Z"
   },
   {
    "duration": 6,
    "start_time": "2023-07-31T09:52:08.013Z"
   },
   {
    "duration": 113,
    "start_time": "2023-07-31T09:52:10.970Z"
   },
   {
    "duration": 115,
    "start_time": "2023-07-31T09:52:13.260Z"
   },
   {
    "duration": 466,
    "start_time": "2023-07-31T09:52:14.074Z"
   },
   {
    "duration": 25,
    "start_time": "2023-07-31T09:52:15.068Z"
   },
   {
    "duration": 15,
    "start_time": "2023-07-31T09:52:16.980Z"
   },
   {
    "duration": 109,
    "start_time": "2023-07-31T09:52:21.573Z"
   },
   {
    "duration": 6,
    "start_time": "2023-07-31T09:52:23.477Z"
   },
   {
    "duration": 71,
    "start_time": "2023-07-31T09:52:24.583Z"
   },
   {
    "duration": 5,
    "start_time": "2023-07-31T09:52:25.507Z"
   },
   {
    "duration": 52,
    "start_time": "2023-07-31T09:52:27.978Z"
   },
   {
    "duration": 23,
    "start_time": "2023-07-31T09:52:29.002Z"
   },
   {
    "duration": 146,
    "start_time": "2023-07-31T09:53:32.004Z"
   },
   {
    "duration": 173,
    "start_time": "2023-07-31T09:53:35.129Z"
   },
   {
    "duration": 53,
    "start_time": "2023-07-31T09:53:35.791Z"
   },
   {
    "duration": 17,
    "start_time": "2023-07-31T09:54:07.986Z"
   },
   {
    "duration": 520,
    "start_time": "2023-07-31T09:54:13.377Z"
   },
   {
    "duration": 10,
    "start_time": "2023-07-31T09:54:15.092Z"
   },
   {
    "duration": 43,
    "start_time": "2023-07-31T09:54:18.189Z"
   },
   {
    "duration": 22,
    "start_time": "2023-07-31T09:54:18.966Z"
   },
   {
    "duration": 4,
    "start_time": "2023-07-31T09:54:19.589Z"
   },
   {
    "duration": 5,
    "start_time": "2023-07-31T09:54:22.578Z"
   },
   {
    "duration": 43,
    "start_time": "2023-07-31T09:54:23.309Z"
   },
   {
    "duration": 23,
    "start_time": "2023-07-31T09:54:24.013Z"
   },
   {
    "duration": 14841,
    "start_time": "2023-07-31T09:54:27.578Z"
   },
   {
    "duration": 5,
    "start_time": "2023-07-31T09:54:45.878Z"
   },
   {
    "duration": 5,
    "start_time": "2023-07-31T09:54:48.321Z"
   },
   {
    "duration": 52784,
    "start_time": "2023-07-31T09:55:07.394Z"
   },
   {
    "duration": 7,
    "start_time": "2023-07-31T09:56:00.183Z"
   },
   {
    "duration": 65,
    "start_time": "2023-07-31T09:56:00.192Z"
   },
   {
    "duration": 306000,
    "start_time": "2023-07-31T09:56:08.293Z"
   },
   {
    "duration": 460376,
    "start_time": "2023-07-31T10:01:49.701Z"
   },
   {
    "duration": 6,
    "start_time": "2023-07-31T10:09:30.083Z"
   },
   {
    "duration": 57,
    "start_time": "2023-07-31T10:09:30.090Z"
   },
   {
    "duration": 403,
    "start_time": "2023-07-31T10:09:58.493Z"
   },
   {
    "duration": 6805,
    "start_time": "2023-07-31T10:55:33.563Z"
   },
   {
    "duration": 1676,
    "start_time": "2023-07-31T10:55:40.371Z"
   },
   {
    "duration": 23,
    "start_time": "2023-07-31T10:55:42.048Z"
   },
   {
    "duration": 156,
    "start_time": "2023-07-31T10:55:42.073Z"
   },
   {
    "duration": 1383,
    "start_time": "2023-07-31T10:55:42.235Z"
   },
   {
    "duration": 480,
    "start_time": "2023-07-31T10:55:43.624Z"
   },
   {
    "duration": 477,
    "start_time": "2023-07-31T10:55:44.109Z"
   },
   {
    "duration": 148,
    "start_time": "2023-07-31T10:55:44.587Z"
   },
   {
    "duration": 32,
    "start_time": "2023-07-31T10:55:44.737Z"
   },
   {
    "duration": 12,
    "start_time": "2023-07-31T10:55:44.772Z"
   },
   {
    "duration": 10,
    "start_time": "2023-07-31T10:55:44.786Z"
   },
   {
    "duration": 49,
    "start_time": "2023-07-31T10:55:44.798Z"
   },
   {
    "duration": 199,
    "start_time": "2023-07-31T10:55:44.849Z"
   },
   {
    "duration": 196,
    "start_time": "2023-07-31T10:55:45.050Z"
   },
   {
    "duration": 254,
    "start_time": "2023-07-31T10:55:45.248Z"
   },
   {
    "duration": 218,
    "start_time": "2023-07-31T10:55:45.505Z"
   },
   {
    "duration": 68,
    "start_time": "2023-07-31T10:55:45.724Z"
   },
   {
    "duration": 31,
    "start_time": "2023-07-31T10:55:45.793Z"
   },
   {
    "duration": 21,
    "start_time": "2023-07-31T10:55:45.825Z"
   },
   {
    "duration": 321,
    "start_time": "2023-07-31T10:55:45.847Z"
   },
   {
    "duration": 19,
    "start_time": "2023-07-31T10:55:46.170Z"
   },
   {
    "duration": 26,
    "start_time": "2023-07-31T10:55:46.191Z"
   },
   {
    "duration": 53,
    "start_time": "2023-07-31T10:55:46.219Z"
   },
   {
    "duration": 255,
    "start_time": "2023-07-31T10:55:46.274Z"
   },
   {
    "duration": 52,
    "start_time": "2023-07-31T10:55:46.531Z"
   },
   {
    "duration": 33,
    "start_time": "2023-07-31T10:55:46.585Z"
   },
   {
    "duration": 29,
    "start_time": "2023-07-31T10:55:46.620Z"
   },
   {
    "duration": 238,
    "start_time": "2023-07-31T10:55:46.654Z"
   },
   {
    "duration": 49,
    "start_time": "2023-07-31T10:55:46.893Z"
   },
   {
    "duration": 31,
    "start_time": "2023-07-31T10:55:46.944Z"
   },
   {
    "duration": 58,
    "start_time": "2023-07-31T10:55:46.977Z"
   },
   {
    "duration": 17,
    "start_time": "2023-07-31T10:55:47.037Z"
   },
   {
    "duration": 171,
    "start_time": "2023-07-31T10:55:47.056Z"
   },
   {
    "duration": 31,
    "start_time": "2023-07-31T10:55:47.228Z"
   },
   {
    "duration": 20,
    "start_time": "2023-07-31T10:55:47.261Z"
   },
   {
    "duration": 281,
    "start_time": "2023-07-31T10:55:47.283Z"
   },
   {
    "duration": 7,
    "start_time": "2023-07-31T10:55:47.566Z"
   },
   {
    "duration": 53,
    "start_time": "2023-07-31T10:55:47.574Z"
   },
   {
    "duration": 16,
    "start_time": "2023-07-31T10:55:47.628Z"
   },
   {
    "duration": 306,
    "start_time": "2023-07-31T10:55:47.645Z"
   },
   {
    "duration": 23,
    "start_time": "2023-07-31T10:55:47.952Z"
   },
   {
    "duration": 5,
    "start_time": "2023-07-31T10:55:47.977Z"
   },
   {
    "duration": 21,
    "start_time": "2023-07-31T10:55:48.013Z"
   },
   {
    "duration": 178,
    "start_time": "2023-07-31T10:55:48.035Z"
   },
   {
    "duration": 8,
    "start_time": "2023-07-31T10:55:48.229Z"
   },
   {
    "duration": 4,
    "start_time": "2023-07-31T10:55:48.238Z"
   },
   {
    "duration": 26,
    "start_time": "2023-07-31T10:55:48.244Z"
   },
   {
    "duration": 166,
    "start_time": "2023-07-31T10:55:48.271Z"
   },
   {
    "duration": 16,
    "start_time": "2023-07-31T10:55:48.439Z"
   },
   {
    "duration": 257,
    "start_time": "2023-07-31T10:55:48.457Z"
   },
   {
    "duration": 41,
    "start_time": "2023-07-31T10:55:48.716Z"
   },
   {
    "duration": 66,
    "start_time": "2023-07-31T10:55:48.759Z"
   },
   {
    "duration": 23,
    "start_time": "2023-07-31T10:55:48.830Z"
   },
   {
    "duration": 317,
    "start_time": "2023-07-31T10:55:48.855Z"
   },
   {
    "duration": 15,
    "start_time": "2023-07-31T10:55:49.174Z"
   },
   {
    "duration": 250,
    "start_time": "2023-07-31T10:55:49.190Z"
   },
   {
    "duration": 20,
    "start_time": "2023-07-31T10:55:49.441Z"
   },
   {
    "duration": 71,
    "start_time": "2023-07-31T10:55:49.463Z"
   },
   {
    "duration": 16,
    "start_time": "2023-07-31T10:55:49.535Z"
   },
   {
    "duration": 17,
    "start_time": "2023-07-31T10:55:49.552Z"
   },
   {
    "duration": 19,
    "start_time": "2023-07-31T10:55:49.570Z"
   },
   {
    "duration": 42,
    "start_time": "2023-07-31T10:55:49.590Z"
   },
   {
    "duration": 11,
    "start_time": "2023-07-31T10:55:49.634Z"
   },
   {
    "duration": 8,
    "start_time": "2023-07-31T10:55:49.647Z"
   },
   {
    "duration": 24,
    "start_time": "2023-07-31T10:55:49.657Z"
   },
   {
    "duration": 28,
    "start_time": "2023-07-31T10:55:49.683Z"
   },
   {
    "duration": 138,
    "start_time": "2023-07-31T10:55:49.712Z"
   },
   {
    "duration": 117,
    "start_time": "2023-07-31T10:55:49.852Z"
   },
   {
    "duration": 396,
    "start_time": "2023-07-31T10:55:49.971Z"
   },
   {
    "duration": 60,
    "start_time": "2023-07-31T10:55:50.369Z"
   },
   {
    "duration": 13,
    "start_time": "2023-07-31T10:55:50.434Z"
   },
   {
    "duration": 121,
    "start_time": "2023-07-31T10:55:50.449Z"
   },
   {
    "duration": 5,
    "start_time": "2023-07-31T10:55:50.572Z"
   },
   {
    "duration": 119,
    "start_time": "2023-07-31T10:55:50.579Z"
   },
   {
    "duration": 7,
    "start_time": "2023-07-31T10:55:50.726Z"
   },
   {
    "duration": 90,
    "start_time": "2023-07-31T10:55:50.734Z"
   },
   {
    "duration": 25,
    "start_time": "2023-07-31T10:55:50.826Z"
   },
   {
    "duration": 176,
    "start_time": "2023-07-31T10:55:50.853Z"
   },
   {
    "duration": 161,
    "start_time": "2023-07-31T10:55:51.031Z"
   },
   {
    "duration": 72,
    "start_time": "2023-07-31T10:55:51.193Z"
   },
   {
    "duration": 49,
    "start_time": "2023-07-31T10:55:51.266Z"
   },
   {
    "duration": 592,
    "start_time": "2023-07-31T10:55:51.334Z"
   },
   {
    "duration": 11,
    "start_time": "2023-07-31T10:55:51.928Z"
   },
   {
    "duration": 122,
    "start_time": "2023-07-31T10:55:51.941Z"
   },
   {
    "duration": 42,
    "start_time": "2023-07-31T10:55:52.065Z"
   },
   {
    "duration": 4,
    "start_time": "2023-07-31T10:55:52.109Z"
   },
   {
    "duration": 18,
    "start_time": "2023-07-31T10:55:52.115Z"
   },
   {
    "duration": 132,
    "start_time": "2023-07-31T10:55:52.135Z"
   },
   {
    "duration": 19,
    "start_time": "2023-07-31T10:55:52.269Z"
   },
   {
    "duration": 14162,
    "start_time": "2023-07-31T10:55:52.289Z"
   },
   {
    "duration": 6,
    "start_time": "2023-07-31T10:56:06.453Z"
   },
   {
    "duration": 32,
    "start_time": "2023-07-31T10:56:06.460Z"
   },
   {
    "duration": 48384,
    "start_time": "2023-07-31T10:56:06.494Z"
   },
   {
    "duration": 4,
    "start_time": "2023-07-31T10:56:54.881Z"
   },
   {
    "duration": 19,
    "start_time": "2023-07-31T10:56:54.886Z"
   },
   {
    "duration": 915697,
    "start_time": "2023-07-31T10:56:54.906Z"
   },
   {
    "duration": 2607424,
    "start_time": "2023-07-31T11:12:10.605Z"
   },
   {
    "duration": 14,
    "start_time": "2023-07-31T11:55:38.035Z"
   },
   {
    "duration": 17,
    "start_time": "2023-07-31T11:55:38.053Z"
   },
   {
    "duration": 657,
    "start_time": "2023-07-31T11:55:38.072Z"
   },
   {
    "duration": 1732,
    "start_time": "2023-08-01T08:03:00.272Z"
   },
   {
    "duration": 1120,
    "start_time": "2023-08-01T08:03:04.070Z"
   },
   {
    "duration": 18,
    "start_time": "2023-08-01T08:03:31.234Z"
   },
   {
    "duration": 116,
    "start_time": "2023-08-01T08:03:33.801Z"
   },
   {
    "duration": 1258,
    "start_time": "2023-08-01T08:03:44.831Z"
   },
   {
    "duration": 496,
    "start_time": "2023-08-01T08:04:10.530Z"
   },
   {
    "duration": 516,
    "start_time": "2023-08-01T08:04:27.785Z"
   },
   {
    "duration": 104,
    "start_time": "2023-08-01T08:04:29.711Z"
   },
   {
    "duration": 18,
    "start_time": "2023-08-01T08:06:08.914Z"
   },
   {
    "duration": 6,
    "start_time": "2023-08-01T08:06:09.796Z"
   },
   {
    "duration": 119,
    "start_time": "2023-08-01T08:07:33.985Z"
   },
   {
    "duration": 37,
    "start_time": "2023-08-01T08:07:46.630Z"
   },
   {
    "duration": 6,
    "start_time": "2023-08-01T08:08:00.706Z"
   },
   {
    "duration": 4,
    "start_time": "2023-08-01T08:08:57.518Z"
   },
   {
    "duration": 853,
    "start_time": "2023-08-01T08:08:57.524Z"
   },
   {
    "duration": 13,
    "start_time": "2023-08-01T08:08:58.379Z"
   },
   {
    "duration": 122,
    "start_time": "2023-08-01T08:08:58.394Z"
   },
   {
    "duration": 1187,
    "start_time": "2023-08-01T08:08:58.518Z"
   },
   {
    "duration": 445,
    "start_time": "2023-08-01T08:08:59.709Z"
   },
   {
    "duration": 478,
    "start_time": "2023-08-01T08:09:00.155Z"
   },
   {
    "duration": 106,
    "start_time": "2023-08-01T08:09:00.635Z"
   },
   {
    "duration": 42,
    "start_time": "2023-08-01T08:09:00.743Z"
   },
   {
    "duration": 30,
    "start_time": "2023-08-01T08:09:00.787Z"
   },
   {
    "duration": 125,
    "start_time": "2023-08-01T08:09:00.819Z"
   },
   {
    "duration": 22,
    "start_time": "2023-08-01T08:09:00.946Z"
   },
   {
    "duration": 5,
    "start_time": "2023-08-01T08:09:23.150Z"
   },
   {
    "duration": 37,
    "start_time": "2023-08-01T08:11:56.609Z"
   },
   {
    "duration": 6,
    "start_time": "2023-08-01T08:11:58.700Z"
   },
   {
    "duration": 6,
    "start_time": "2023-08-01T08:12:07.953Z"
   },
   {
    "duration": 4,
    "start_time": "2023-08-01T08:12:18.002Z"
   },
   {
    "duration": 819,
    "start_time": "2023-08-01T08:12:18.008Z"
   },
   {
    "duration": 14,
    "start_time": "2023-08-01T08:12:18.829Z"
   },
   {
    "duration": 126,
    "start_time": "2023-08-01T08:12:18.845Z"
   },
   {
    "duration": 1273,
    "start_time": "2023-08-01T08:12:18.973Z"
   },
   {
    "duration": 440,
    "start_time": "2023-08-01T08:12:20.248Z"
   },
   {
    "duration": 458,
    "start_time": "2023-08-01T08:12:20.690Z"
   },
   {
    "duration": 101,
    "start_time": "2023-08-01T08:12:21.150Z"
   },
   {
    "duration": 29,
    "start_time": "2023-08-01T08:12:21.252Z"
   },
   {
    "duration": 25,
    "start_time": "2023-08-01T08:12:21.283Z"
   },
   {
    "duration": 139,
    "start_time": "2023-08-01T08:12:21.310Z"
   },
   {
    "duration": 6,
    "start_time": "2023-08-01T08:12:21.451Z"
   },
   {
    "duration": 5,
    "start_time": "2023-08-01T08:12:27.009Z"
   },
   {
    "duration": 20,
    "start_time": "2023-08-01T08:12:31.135Z"
   },
   {
    "duration": 185,
    "start_time": "2023-08-01T08:12:37.330Z"
   },
   {
    "duration": 145,
    "start_time": "2023-08-01T08:12:39.767Z"
   },
   {
    "duration": 191,
    "start_time": "2023-08-01T08:12:42.354Z"
   },
   {
    "duration": 182,
    "start_time": "2023-08-01T08:12:44.757Z"
   },
   {
    "duration": 89,
    "start_time": "2023-08-01T08:13:03.726Z"
   },
   {
    "duration": 19,
    "start_time": "2023-08-01T08:13:27.292Z"
   },
   {
    "duration": 15,
    "start_time": "2023-08-01T08:13:48.945Z"
   },
   {
    "duration": 213,
    "start_time": "2023-08-01T08:13:50.256Z"
   },
   {
    "duration": 17,
    "start_time": "2023-08-01T08:13:51.239Z"
   },
   {
    "duration": 6,
    "start_time": "2023-08-01T08:13:55.213Z"
   },
   {
    "duration": 31,
    "start_time": "2023-08-01T08:13:56.566Z"
   },
   {
    "duration": 213,
    "start_time": "2023-08-01T08:14:01.312Z"
   },
   {
    "duration": 45,
    "start_time": "2023-08-01T08:14:26.013Z"
   },
   {
    "duration": 29,
    "start_time": "2023-08-01T08:14:31.233Z"
   },
   {
    "duration": 28,
    "start_time": "2023-08-01T08:14:58.548Z"
   },
   {
    "duration": 15,
    "start_time": "2023-08-01T08:15:11.400Z"
   },
   {
    "duration": 185,
    "start_time": "2023-08-01T08:15:11.997Z"
   },
   {
    "duration": 26,
    "start_time": "2023-08-01T08:15:12.883Z"
   },
   {
    "duration": 17,
    "start_time": "2023-08-01T08:15:13.655Z"
   },
   {
    "duration": 6,
    "start_time": "2023-08-01T08:15:16.816Z"
   },
   {
    "duration": 18,
    "start_time": "2023-08-01T08:15:17.563Z"
   },
   {
    "duration": 182,
    "start_time": "2023-08-01T08:15:18.820Z"
   },
   {
    "duration": 24,
    "start_time": "2023-08-01T08:15:23.318Z"
   },
   {
    "duration": 23,
    "start_time": "2023-08-01T08:15:24.759Z"
   },
   {
    "duration": 184,
    "start_time": "2023-08-01T08:15:28.706Z"
   },
   {
    "duration": 8,
    "start_time": "2023-08-01T08:15:46.714Z"
   },
   {
    "duration": 21,
    "start_time": "2023-08-01T08:15:47.838Z"
   },
   {
    "duration": 14,
    "start_time": "2023-08-01T08:16:12.583Z"
   },
   {
    "duration": 233,
    "start_time": "2023-08-01T08:16:13.432Z"
   },
   {
    "duration": 16,
    "start_time": "2023-08-01T08:16:16.766Z"
   },
   {
    "duration": 5,
    "start_time": "2023-08-01T08:21:44.308Z"
   },
   {
    "duration": 15,
    "start_time": "2023-08-01T08:21:45.132Z"
   },
   {
    "duration": 166,
    "start_time": "2023-08-01T08:21:46.699Z"
   },
   {
    "duration": 7,
    "start_time": "2023-08-01T08:22:58.878Z"
   },
   {
    "duration": 5,
    "start_time": "2023-08-01T08:23:17.111Z"
   },
   {
    "duration": 26,
    "start_time": "2023-08-01T08:23:17.778Z"
   },
   {
    "duration": 143,
    "start_time": "2023-08-01T08:23:18.491Z"
   },
   {
    "duration": 14,
    "start_time": "2023-08-01T08:23:20.857Z"
   },
   {
    "duration": 171,
    "start_time": "2023-08-01T08:23:21.535Z"
   },
   {
    "duration": 26,
    "start_time": "2023-08-01T08:23:22.275Z"
   },
   {
    "duration": 17,
    "start_time": "2023-08-01T08:23:22.967Z"
   },
   {
    "duration": 14,
    "start_time": "2023-08-01T08:23:24.649Z"
   },
   {
    "duration": 242,
    "start_time": "2023-08-01T08:23:25.403Z"
   },
   {
    "duration": 14,
    "start_time": "2023-08-01T08:23:37.448Z"
   },
   {
    "duration": 154,
    "start_time": "2023-08-01T08:23:38.771Z"
   },
   {
    "duration": 18,
    "start_time": "2023-08-01T08:23:39.539Z"
   },
   {
    "duration": 28,
    "start_time": "2023-08-01T08:23:40.289Z"
   },
   {
    "duration": 14,
    "start_time": "2023-08-01T08:23:46.928Z"
   },
   {
    "duration": 6,
    "start_time": "2023-08-01T08:23:51.035Z"
   },
   {
    "duration": 7,
    "start_time": "2023-08-01T08:23:55.031Z"
   },
   {
    "duration": 5,
    "start_time": "2023-08-01T08:23:56.299Z"
   },
   {
    "duration": 5,
    "start_time": "2023-08-01T08:25:30.823Z"
   },
   {
    "duration": 6,
    "start_time": "2023-08-01T08:25:31.498Z"
   },
   {
    "duration": 20,
    "start_time": "2023-08-01T08:25:37.447Z"
   },
   {
    "duration": 6,
    "start_time": "2023-08-01T08:25:38.196Z"
   },
   {
    "duration": 90,
    "start_time": "2023-08-01T08:25:57.578Z"
   },
   {
    "duration": 87,
    "start_time": "2023-08-01T08:26:02.242Z"
   },
   {
    "duration": 297,
    "start_time": "2023-08-01T08:26:14.020Z"
   },
   {
    "duration": 323,
    "start_time": "2023-08-01T08:27:01.539Z"
   },
   {
    "duration": 116,
    "start_time": "2023-08-01T08:27:14.983Z"
   },
   {
    "duration": 310,
    "start_time": "2023-08-01T08:27:19.540Z"
   },
   {
    "duration": 23,
    "start_time": "2023-08-01T08:27:29.366Z"
   },
   {
    "duration": 14,
    "start_time": "2023-08-01T08:27:30.234Z"
   },
   {
    "duration": 103,
    "start_time": "2023-08-01T08:28:29.274Z"
   },
   {
    "duration": 6,
    "start_time": "2023-08-01T08:28:36.853Z"
   },
   {
    "duration": 82,
    "start_time": "2023-08-01T08:28:40.467Z"
   },
   {
    "duration": 5,
    "start_time": "2023-08-01T08:28:46.058Z"
   },
   {
    "duration": 54,
    "start_time": "2023-08-01T08:29:04.800Z"
   },
   {
    "duration": 16,
    "start_time": "2023-08-01T08:30:03.192Z"
   },
   {
    "duration": 298,
    "start_time": "2023-08-01T08:30:11.932Z"
   },
   {
    "duration": 151,
    "start_time": "2023-08-01T08:30:14.889Z"
   },
   {
    "duration": 53,
    "start_time": "2023-08-01T08:30:17.372Z"
   },
   {
    "duration": 25,
    "start_time": "2023-08-01T08:32:31.628Z"
   },
   {
    "duration": 10,
    "start_time": "2023-08-01T09:00:26.839Z"
   },
   {
    "duration": 17,
    "start_time": "2023-08-01T09:00:39.037Z"
   },
   {
    "duration": 105,
    "start_time": "2023-08-01T09:00:47.562Z"
   },
   {
    "duration": 40,
    "start_time": "2023-08-01T09:00:49.621Z"
   },
   {
    "duration": 5,
    "start_time": "2023-08-01T09:01:38.422Z"
   },
   {
    "duration": 2,
    "start_time": "2023-08-01T09:01:57.326Z"
   },
   {
    "duration": 500,
    "start_time": "2023-08-01T09:05:38.969Z"
   },
   {
    "duration": 5,
    "start_time": "2023-08-01T09:06:22.136Z"
   },
   {
    "duration": 950,
    "start_time": "2023-08-01T09:06:22.144Z"
   },
   {
    "duration": 17,
    "start_time": "2023-08-01T09:06:23.096Z"
   },
   {
    "duration": 120,
    "start_time": "2023-08-01T09:06:23.115Z"
   },
   {
    "duration": 1174,
    "start_time": "2023-08-01T09:06:23.236Z"
   },
   {
    "duration": 446,
    "start_time": "2023-08-01T09:06:24.413Z"
   },
   {
    "duration": 460,
    "start_time": "2023-08-01T09:06:24.861Z"
   },
   {
    "duration": 109,
    "start_time": "2023-08-01T09:06:25.323Z"
   },
   {
    "duration": 28,
    "start_time": "2023-08-01T09:06:25.435Z"
   },
   {
    "duration": 37,
    "start_time": "2023-08-01T09:06:25.465Z"
   },
   {
    "duration": 136,
    "start_time": "2023-08-01T09:06:25.504Z"
   },
   {
    "duration": 5,
    "start_time": "2023-08-01T09:06:25.642Z"
   },
   {
    "duration": 44,
    "start_time": "2023-08-01T09:06:25.649Z"
   },
   {
    "duration": 109,
    "start_time": "2023-08-01T09:06:25.695Z"
   },
   {
    "duration": 311,
    "start_time": "2023-08-01T09:06:25.807Z"
   },
   {
    "duration": 151,
    "start_time": "2023-08-01T09:06:26.120Z"
   },
   {
    "duration": 222,
    "start_time": "2023-08-01T09:06:26.273Z"
   },
   {
    "duration": 195,
    "start_time": "2023-08-01T09:06:26.497Z"
   },
   {
    "duration": 81,
    "start_time": "2023-08-01T09:06:26.694Z"
   },
   {
    "duration": 91,
    "start_time": "2023-08-01T09:06:26.777Z"
   },
   {
    "duration": 79,
    "start_time": "2023-08-01T09:06:26.870Z"
   },
   {
    "duration": 274,
    "start_time": "2023-08-01T09:06:26.951Z"
   },
   {
    "duration": 17,
    "start_time": "2023-08-01T09:06:27.227Z"
   },
   {
    "duration": 5,
    "start_time": "2023-08-01T09:06:27.248Z"
   },
   {
    "duration": 36,
    "start_time": "2023-08-01T09:06:27.255Z"
   },
   {
    "duration": 422,
    "start_time": "2023-08-01T09:06:27.310Z"
   },
   {
    "duration": 42,
    "start_time": "2023-08-01T09:06:27.734Z"
   },
   {
    "duration": 43,
    "start_time": "2023-08-01T09:06:27.778Z"
   },
   {
    "duration": 22,
    "start_time": "2023-08-01T09:06:27.823Z"
   },
   {
    "duration": 199,
    "start_time": "2023-08-01T09:06:27.847Z"
   },
   {
    "duration": 26,
    "start_time": "2023-08-01T09:06:28.048Z"
   },
   {
    "duration": 39,
    "start_time": "2023-08-01T09:06:28.076Z"
   },
   {
    "duration": 11,
    "start_time": "2023-08-01T09:06:28.116Z"
   },
   {
    "duration": 48,
    "start_time": "2023-08-01T09:06:28.128Z"
   },
   {
    "duration": 191,
    "start_time": "2023-08-01T09:06:28.178Z"
   },
   {
    "duration": 23,
    "start_time": "2023-08-01T09:06:28.371Z"
   },
   {
    "duration": 33,
    "start_time": "2023-08-01T09:06:28.396Z"
   },
   {
    "duration": 199,
    "start_time": "2023-08-01T09:06:28.432Z"
   },
   {
    "duration": 9,
    "start_time": "2023-08-01T09:06:28.633Z"
   },
   {
    "duration": 150,
    "start_time": "2023-08-01T09:06:28.644Z"
   },
   {
    "duration": 37,
    "start_time": "2023-08-01T09:06:28.796Z"
   },
   {
    "duration": 303,
    "start_time": "2023-08-01T09:06:28.835Z"
   },
   {
    "duration": 16,
    "start_time": "2023-08-01T09:06:29.140Z"
   },
   {
    "duration": 18,
    "start_time": "2023-08-01T09:06:29.158Z"
   },
   {
    "duration": 54,
    "start_time": "2023-08-01T09:06:29.177Z"
   },
   {
    "duration": 198,
    "start_time": "2023-08-01T09:06:29.232Z"
   },
   {
    "duration": 11,
    "start_time": "2023-08-01T09:06:29.433Z"
   },
   {
    "duration": 98,
    "start_time": "2023-08-01T09:06:29.447Z"
   },
   {
    "duration": 238,
    "start_time": "2023-08-01T09:06:29.547Z"
   },
   {
    "duration": 197,
    "start_time": "2023-08-01T09:06:29.787Z"
   },
   {
    "duration": 16,
    "start_time": "2023-08-01T09:06:29.986Z"
   },
   {
    "duration": 239,
    "start_time": "2023-08-01T09:06:30.004Z"
   },
   {
    "duration": 29,
    "start_time": "2023-08-01T09:06:30.244Z"
   },
   {
    "duration": 85,
    "start_time": "2023-08-01T09:06:30.275Z"
   },
   {
    "duration": 50,
    "start_time": "2023-08-01T09:06:30.362Z"
   },
   {
    "duration": 518,
    "start_time": "2023-08-01T09:06:30.414Z"
   },
   {
    "duration": 15,
    "start_time": "2023-08-01T09:06:30.934Z"
   },
   {
    "duration": 308,
    "start_time": "2023-08-01T09:06:30.951Z"
   },
   {
    "duration": 20,
    "start_time": "2023-08-01T09:06:31.261Z"
   },
   {
    "duration": 45,
    "start_time": "2023-08-01T09:06:31.283Z"
   },
   {
    "duration": 59,
    "start_time": "2023-08-01T09:06:31.330Z"
   },
   {
    "duration": 33,
    "start_time": "2023-08-01T09:06:31.390Z"
   },
   {
    "duration": 25,
    "start_time": "2023-08-01T09:06:31.424Z"
   },
   {
    "duration": 36,
    "start_time": "2023-08-01T09:06:31.451Z"
   },
   {
    "duration": 39,
    "start_time": "2023-08-01T09:06:31.489Z"
   },
   {
    "duration": 53,
    "start_time": "2023-08-01T09:06:31.530Z"
   },
   {
    "duration": 62,
    "start_time": "2023-08-01T09:06:31.585Z"
   },
   {
    "duration": 37,
    "start_time": "2023-08-01T09:06:31.649Z"
   },
   {
    "duration": 107,
    "start_time": "2023-08-01T09:06:31.691Z"
   },
   {
    "duration": 81,
    "start_time": "2023-08-01T09:06:31.800Z"
   },
   {
    "duration": 312,
    "start_time": "2023-08-01T09:06:31.882Z"
   },
   {
    "duration": 323,
    "start_time": "2023-08-01T09:06:32.196Z"
   },
   {
    "duration": 26,
    "start_time": "2023-08-01T09:06:32.522Z"
   },
   {
    "duration": 14,
    "start_time": "2023-08-01T09:06:32.549Z"
   },
   {
    "duration": 101,
    "start_time": "2023-08-01T09:06:32.565Z"
   },
   {
    "duration": 5,
    "start_time": "2023-08-01T09:06:32.667Z"
   },
   {
    "duration": 85,
    "start_time": "2023-08-01T09:06:32.673Z"
   },
   {
    "duration": 4,
    "start_time": "2023-08-01T09:06:32.760Z"
   },
   {
    "duration": 56,
    "start_time": "2023-08-01T09:06:32.766Z"
   },
   {
    "duration": 16,
    "start_time": "2023-08-01T09:06:32.824Z"
   },
   {
    "duration": 150,
    "start_time": "2023-08-01T09:06:32.842Z"
   },
   {
    "duration": 149,
    "start_time": "2023-08-01T09:06:32.994Z"
   },
   {
    "duration": 64,
    "start_time": "2023-08-01T09:06:33.145Z"
   },
   {
    "duration": 31,
    "start_time": "2023-08-01T09:06:33.210Z"
   },
   {
    "duration": 2,
    "start_time": "2023-08-01T09:06:33.243Z"
   },
   {
    "duration": 26,
    "start_time": "2023-08-01T09:06:33.247Z"
   },
   {
    "duration": 117,
    "start_time": "2023-08-01T09:06:33.275Z"
   },
   {
    "duration": 49,
    "start_time": "2023-08-01T09:06:33.394Z"
   },
   {
    "duration": 4,
    "start_time": "2023-08-01T09:06:33.445Z"
   },
   {
    "duration": 3,
    "start_time": "2023-08-01T09:06:37.443Z"
   },
   {
    "duration": 434,
    "start_time": "2023-08-01T09:06:55.858Z"
   },
   {
    "duration": 62,
    "start_time": "2023-08-01T09:07:19.674Z"
   },
   {
    "duration": 3,
    "start_time": "2023-08-01T09:10:03.550Z"
   },
   {
    "duration": 887,
    "start_time": "2023-08-01T09:10:03.555Z"
   },
   {
    "duration": 14,
    "start_time": "2023-08-01T09:10:04.444Z"
   },
   {
    "duration": 127,
    "start_time": "2023-08-01T09:10:04.459Z"
   },
   {
    "duration": 1253,
    "start_time": "2023-08-01T09:10:04.589Z"
   },
   {
    "duration": 510,
    "start_time": "2023-08-01T09:10:05.845Z"
   },
   {
    "duration": 481,
    "start_time": "2023-08-01T09:10:06.357Z"
   },
   {
    "duration": 113,
    "start_time": "2023-08-01T09:10:06.839Z"
   },
   {
    "duration": 39,
    "start_time": "2023-08-01T09:10:06.954Z"
   },
   {
    "duration": 29,
    "start_time": "2023-08-01T09:10:06.995Z"
   },
   {
    "duration": 137,
    "start_time": "2023-08-01T09:10:07.028Z"
   },
   {
    "duration": 5,
    "start_time": "2023-08-01T09:10:07.167Z"
   },
   {
    "duration": 32,
    "start_time": "2023-08-01T09:10:07.174Z"
   },
   {
    "duration": 50,
    "start_time": "2023-08-01T09:10:07.207Z"
   },
   {
    "duration": 230,
    "start_time": "2023-08-01T09:10:07.259Z"
   },
   {
    "duration": 159,
    "start_time": "2023-08-01T09:10:07.491Z"
   },
   {
    "duration": 238,
    "start_time": "2023-08-01T09:10:07.652Z"
   },
   {
    "duration": 216,
    "start_time": "2023-08-01T09:10:07.892Z"
   },
   {
    "duration": 72,
    "start_time": "2023-08-01T09:10:08.111Z"
   },
   {
    "duration": 40,
    "start_time": "2023-08-01T09:10:08.185Z"
   },
   {
    "duration": 15,
    "start_time": "2023-08-01T09:10:08.227Z"
   },
   {
    "duration": 249,
    "start_time": "2023-08-01T09:10:08.243Z"
   },
   {
    "duration": 28,
    "start_time": "2023-08-01T09:10:08.494Z"
   },
   {
    "duration": 8,
    "start_time": "2023-08-01T09:10:08.525Z"
   },
   {
    "duration": 32,
    "start_time": "2023-08-01T09:10:08.535Z"
   },
   {
    "duration": 472,
    "start_time": "2023-08-01T09:10:08.569Z"
   },
   {
    "duration": 44,
    "start_time": "2023-08-01T09:10:09.043Z"
   },
   {
    "duration": 48,
    "start_time": "2023-08-01T09:10:09.089Z"
   },
   {
    "duration": 15,
    "start_time": "2023-08-01T09:10:09.142Z"
   },
   {
    "duration": 217,
    "start_time": "2023-08-01T09:10:09.159Z"
   },
   {
    "duration": 33,
    "start_time": "2023-08-01T09:10:09.378Z"
   },
   {
    "duration": 43,
    "start_time": "2023-08-01T09:10:09.413Z"
   },
   {
    "duration": 10,
    "start_time": "2023-08-01T09:10:09.458Z"
   },
   {
    "duration": 20,
    "start_time": "2023-08-01T09:10:09.469Z"
   },
   {
    "duration": 222,
    "start_time": "2023-08-01T09:10:09.492Z"
   },
   {
    "duration": 27,
    "start_time": "2023-08-01T09:10:09.716Z"
   },
   {
    "duration": 21,
    "start_time": "2023-08-01T09:10:09.745Z"
   },
   {
    "duration": 243,
    "start_time": "2023-08-01T09:10:09.767Z"
   },
   {
    "duration": 14,
    "start_time": "2023-08-01T09:10:10.012Z"
   },
   {
    "duration": 40,
    "start_time": "2023-08-01T09:10:10.028Z"
   },
   {
    "duration": 18,
    "start_time": "2023-08-01T09:10:10.070Z"
   },
   {
    "duration": 284,
    "start_time": "2023-08-01T09:10:10.090Z"
   },
   {
    "duration": 17,
    "start_time": "2023-08-01T09:10:10.376Z"
   },
   {
    "duration": 17,
    "start_time": "2023-08-01T09:10:10.395Z"
   },
   {
    "duration": 18,
    "start_time": "2023-08-01T09:10:10.413Z"
   },
   {
    "duration": 204,
    "start_time": "2023-08-01T09:10:10.433Z"
   },
   {
    "duration": 8,
    "start_time": "2023-08-01T09:10:10.639Z"
   },
   {
    "duration": 6,
    "start_time": "2023-08-01T09:10:10.649Z"
   },
   {
    "duration": 35,
    "start_time": "2023-08-01T09:10:10.656Z"
   },
   {
    "duration": 191,
    "start_time": "2023-08-01T09:10:10.693Z"
   },
   {
    "duration": 14,
    "start_time": "2023-08-01T09:10:10.885Z"
   },
   {
    "duration": 239,
    "start_time": "2023-08-01T09:10:10.910Z"
   },
   {
    "duration": 28,
    "start_time": "2023-08-01T09:10:11.150Z"
   },
   {
    "duration": 31,
    "start_time": "2023-08-01T09:10:11.179Z"
   },
   {
    "duration": 18,
    "start_time": "2023-08-01T09:10:11.214Z"
   },
   {
    "duration": 253,
    "start_time": "2023-08-01T09:10:11.234Z"
   },
   {
    "duration": 25,
    "start_time": "2023-08-01T09:10:11.489Z"
   },
   {
    "duration": 174,
    "start_time": "2023-08-01T09:10:11.517Z"
   },
   {
    "duration": 25,
    "start_time": "2023-08-01T09:10:11.693Z"
   },
   {
    "duration": 46,
    "start_time": "2023-08-01T09:10:11.722Z"
   },
   {
    "duration": 30,
    "start_time": "2023-08-01T09:10:11.770Z"
   },
   {
    "duration": 10,
    "start_time": "2023-08-01T09:10:11.802Z"
   },
   {
    "duration": 33,
    "start_time": "2023-08-01T09:10:11.815Z"
   },
   {
    "duration": 15,
    "start_time": "2023-08-01T09:10:11.850Z"
   },
   {
    "duration": 21,
    "start_time": "2023-08-01T09:10:11.866Z"
   },
   {
    "duration": 14,
    "start_time": "2023-08-01T09:10:11.888Z"
   },
   {
    "duration": 41,
    "start_time": "2023-08-01T09:10:11.904Z"
   },
   {
    "duration": 7,
    "start_time": "2023-08-01T09:10:11.947Z"
   },
   {
    "duration": 103,
    "start_time": "2023-08-01T09:10:11.956Z"
   },
   {
    "duration": 90,
    "start_time": "2023-08-01T09:10:12.061Z"
   },
   {
    "duration": 306,
    "start_time": "2023-08-01T09:10:12.152Z"
   },
   {
    "duration": 327,
    "start_time": "2023-08-01T09:10:12.460Z"
   },
   {
    "duration": 62,
    "start_time": "2023-08-01T09:10:12.789Z"
   },
   {
    "duration": 1083,
    "start_time": "2023-08-01T09:10:12.853Z"
   },
   {
    "duration": 580,
    "start_time": "2023-08-01T09:10:13.937Z"
   },
   {
    "duration": 111,
    "start_time": "2023-08-01T09:10:14.519Z"
   },
   {
    "duration": 104,
    "start_time": "2023-08-01T09:10:14.633Z"
   },
   {
    "duration": 4,
    "start_time": "2023-08-01T09:10:14.739Z"
   },
   {
    "duration": 55,
    "start_time": "2023-08-01T09:10:14.745Z"
   },
   {
    "duration": 29,
    "start_time": "2023-08-01T09:10:14.802Z"
   },
   {
    "duration": 160,
    "start_time": "2023-08-01T09:10:14.832Z"
   },
   {
    "duration": 173,
    "start_time": "2023-08-01T09:10:14.994Z"
   },
   {
    "duration": 65,
    "start_time": "2023-08-01T09:10:15.173Z"
   },
   {
    "duration": 53,
    "start_time": "2023-08-01T09:10:15.240Z"
   },
   {
    "duration": 29,
    "start_time": "2023-08-01T09:10:15.295Z"
   },
   {
    "duration": 31,
    "start_time": "2023-08-01T09:10:15.326Z"
   },
   {
    "duration": 99,
    "start_time": "2023-08-01T09:10:15.359Z"
   },
   {
    "duration": 37,
    "start_time": "2023-08-01T09:10:15.459Z"
   },
   {
    "duration": 11,
    "start_time": "2023-08-01T09:10:15.498Z"
   },
   {
    "duration": 15,
    "start_time": "2023-08-01T09:10:15.511Z"
   },
   {
    "duration": 106,
    "start_time": "2023-08-01T09:10:58.415Z"
   },
   {
    "duration": 340,
    "start_time": "2023-08-01T09:11:24.123Z"
   },
   {
    "duration": 1990,
    "start_time": "2023-08-01T09:12:08.543Z"
   },
   {
    "duration": 926,
    "start_time": "2023-08-01T09:12:10.536Z"
   },
   {
    "duration": 18,
    "start_time": "2023-08-01T09:12:11.464Z"
   },
   {
    "duration": 125,
    "start_time": "2023-08-01T09:12:11.485Z"
   },
   {
    "duration": 1241,
    "start_time": "2023-08-01T09:12:11.612Z"
   },
   {
    "duration": 523,
    "start_time": "2023-08-01T09:12:12.854Z"
   },
   {
    "duration": 533,
    "start_time": "2023-08-01T09:12:13.379Z"
   },
   {
    "duration": 140,
    "start_time": "2023-08-01T09:12:13.914Z"
   },
   {
    "duration": 30,
    "start_time": "2023-08-01T09:12:14.056Z"
   },
   {
    "duration": 20,
    "start_time": "2023-08-01T09:12:14.088Z"
   },
   {
    "duration": 153,
    "start_time": "2023-08-01T09:12:14.110Z"
   },
   {
    "duration": 6,
    "start_time": "2023-08-01T09:12:14.265Z"
   },
   {
    "duration": 8,
    "start_time": "2023-08-01T09:12:14.272Z"
   },
   {
    "duration": 41,
    "start_time": "2023-08-01T09:12:14.282Z"
   },
   {
    "duration": 213,
    "start_time": "2023-08-01T09:12:14.325Z"
   },
   {
    "duration": 154,
    "start_time": "2023-08-01T09:12:14.540Z"
   },
   {
    "duration": 214,
    "start_time": "2023-08-01T09:12:14.695Z"
   },
   {
    "duration": 197,
    "start_time": "2023-08-01T09:12:14.911Z"
   },
   {
    "duration": 76,
    "start_time": "2023-08-01T09:12:15.110Z"
   },
   {
    "duration": 31,
    "start_time": "2023-08-01T09:12:15.188Z"
   },
   {
    "duration": 14,
    "start_time": "2023-08-01T09:12:15.220Z"
   },
   {
    "duration": 247,
    "start_time": "2023-08-01T09:12:15.235Z"
   },
   {
    "duration": 25,
    "start_time": "2023-08-01T09:12:15.483Z"
   },
   {
    "duration": 11,
    "start_time": "2023-08-01T09:12:15.510Z"
   },
   {
    "duration": 64,
    "start_time": "2023-08-01T09:12:15.523Z"
   },
   {
    "duration": 230,
    "start_time": "2023-08-01T09:12:15.589Z"
   },
   {
    "duration": 65,
    "start_time": "2023-08-01T09:12:15.822Z"
   },
   {
    "duration": 37,
    "start_time": "2023-08-01T09:12:15.908Z"
   },
   {
    "duration": 23,
    "start_time": "2023-08-01T09:12:15.948Z"
   },
   {
    "duration": 228,
    "start_time": "2023-08-01T09:12:15.974Z"
   },
   {
    "duration": 25,
    "start_time": "2023-08-01T09:12:16.208Z"
   },
   {
    "duration": 20,
    "start_time": "2023-08-01T09:12:16.235Z"
   },
   {
    "duration": 7,
    "start_time": "2023-08-01T09:12:16.257Z"
   },
   {
    "duration": 23,
    "start_time": "2023-08-01T09:12:16.266Z"
   },
   {
    "duration": 197,
    "start_time": "2023-08-01T09:12:16.291Z"
   },
   {
    "duration": 30,
    "start_time": "2023-08-01T09:12:16.490Z"
   },
   {
    "duration": 21,
    "start_time": "2023-08-01T09:12:16.522Z"
   },
   {
    "duration": 321,
    "start_time": "2023-08-01T09:12:16.545Z"
   },
   {
    "duration": 8,
    "start_time": "2023-08-01T09:12:16.868Z"
   },
   {
    "duration": 37,
    "start_time": "2023-08-01T09:12:16.878Z"
   },
   {
    "duration": 32,
    "start_time": "2023-08-01T09:12:16.916Z"
   },
   {
    "duration": 276,
    "start_time": "2023-08-01T09:12:16.950Z"
   },
   {
    "duration": 16,
    "start_time": "2023-08-01T09:12:17.228Z"
   },
   {
    "duration": 27,
    "start_time": "2023-08-01T09:12:17.245Z"
   },
   {
    "duration": 37,
    "start_time": "2023-08-01T09:12:17.274Z"
   },
   {
    "duration": 168,
    "start_time": "2023-08-01T09:12:17.312Z"
   },
   {
    "duration": 8,
    "start_time": "2023-08-01T09:12:17.482Z"
   },
   {
    "duration": 21,
    "start_time": "2023-08-01T09:12:17.492Z"
   },
   {
    "duration": 45,
    "start_time": "2023-08-01T09:12:17.515Z"
   },
   {
    "duration": 151,
    "start_time": "2023-08-01T09:12:17.562Z"
   },
   {
    "duration": 16,
    "start_time": "2023-08-01T09:12:17.715Z"
   },
   {
    "duration": 205,
    "start_time": "2023-08-01T09:12:17.733Z"
   },
   {
    "duration": 41,
    "start_time": "2023-08-01T09:12:17.940Z"
   },
   {
    "duration": 41,
    "start_time": "2023-08-01T09:12:17.983Z"
   },
   {
    "duration": 23,
    "start_time": "2023-08-01T09:12:18.025Z"
   },
   {
    "duration": 228,
    "start_time": "2023-08-01T09:12:18.050Z"
   },
   {
    "duration": 14,
    "start_time": "2023-08-01T09:12:18.280Z"
   },
   {
    "duration": 167,
    "start_time": "2023-08-01T09:12:18.295Z"
   },
   {
    "duration": 17,
    "start_time": "2023-08-01T09:12:18.463Z"
   },
   {
    "duration": 53,
    "start_time": "2023-08-01T09:12:18.482Z"
   },
   {
    "duration": 42,
    "start_time": "2023-08-01T09:12:18.536Z"
   },
   {
    "duration": 12,
    "start_time": "2023-08-01T09:12:18.579Z"
   },
   {
    "duration": 20,
    "start_time": "2023-08-01T09:12:18.593Z"
   },
   {
    "duration": 7,
    "start_time": "2023-08-01T09:12:18.615Z"
   },
   {
    "duration": 7,
    "start_time": "2023-08-01T09:12:18.624Z"
   },
   {
    "duration": 16,
    "start_time": "2023-08-01T09:12:18.632Z"
   },
   {
    "duration": 39,
    "start_time": "2023-08-01T09:12:18.649Z"
   },
   {
    "duration": 18,
    "start_time": "2023-08-01T09:12:18.689Z"
   },
   {
    "duration": 98,
    "start_time": "2023-08-01T09:12:18.708Z"
   },
   {
    "duration": 87,
    "start_time": "2023-08-01T09:12:18.808Z"
   },
   {
    "duration": 319,
    "start_time": "2023-08-01T09:12:18.896Z"
   },
   {
    "duration": 344,
    "start_time": "2023-08-01T09:12:19.216Z"
   },
   {
    "duration": 61,
    "start_time": "2023-08-01T09:12:19.562Z"
   },
   {
    "duration": 14,
    "start_time": "2023-08-01T09:12:19.625Z"
   },
   {
    "duration": 95,
    "start_time": "2023-08-01T09:12:19.641Z"
   },
   {
    "duration": 5,
    "start_time": "2023-08-01T09:12:19.738Z"
   },
   {
    "duration": 103,
    "start_time": "2023-08-01T09:12:19.744Z"
   },
   {
    "duration": 6,
    "start_time": "2023-08-01T09:12:19.849Z"
   },
   {
    "duration": 63,
    "start_time": "2023-08-01T09:12:19.856Z"
   },
   {
    "duration": 18,
    "start_time": "2023-08-01T09:12:19.922Z"
   },
   {
    "duration": 160,
    "start_time": "2023-08-01T09:12:19.942Z"
   },
   {
    "duration": 165,
    "start_time": "2023-08-01T09:12:20.111Z"
   },
   {
    "duration": 63,
    "start_time": "2023-08-01T09:12:20.278Z"
   },
   {
    "duration": 32,
    "start_time": "2023-08-01T09:12:20.343Z"
   },
   {
    "duration": 3,
    "start_time": "2023-08-01T09:12:20.377Z"
   },
   {
    "duration": 43,
    "start_time": "2023-08-01T09:12:20.382Z"
   },
   {
    "duration": 111,
    "start_time": "2023-08-01T09:12:20.427Z"
   },
   {
    "duration": 43,
    "start_time": "2023-08-01T09:12:20.541Z"
   },
   {
    "duration": 5,
    "start_time": "2023-08-01T09:12:20.586Z"
   },
   {
    "duration": 3,
    "start_time": "2023-08-01T09:14:26.615Z"
   },
   {
    "duration": 373,
    "start_time": "2023-08-01T09:14:57.563Z"
   },
   {
    "duration": 197,
    "start_time": "2023-08-01T09:15:25.704Z"
   },
   {
    "duration": 62,
    "start_time": "2023-08-01T09:16:15.242Z"
   },
   {
    "duration": 5,
    "start_time": "2023-08-01T09:18:10.238Z"
   },
   {
    "duration": 1032,
    "start_time": "2023-08-01T09:18:10.246Z"
   },
   {
    "duration": 18,
    "start_time": "2023-08-01T09:18:11.280Z"
   },
   {
    "duration": 222,
    "start_time": "2023-08-01T09:18:11.308Z"
   },
   {
    "duration": 1621,
    "start_time": "2023-08-01T09:18:11.533Z"
   },
   {
    "duration": 477,
    "start_time": "2023-08-01T09:18:13.156Z"
   },
   {
    "duration": 513,
    "start_time": "2023-08-01T09:18:13.635Z"
   },
   {
    "duration": 114,
    "start_time": "2023-08-01T09:18:14.150Z"
   },
   {
    "duration": 49,
    "start_time": "2023-08-01T09:18:14.267Z"
   },
   {
    "duration": 16,
    "start_time": "2023-08-01T09:18:14.319Z"
   },
   {
    "duration": 174,
    "start_time": "2023-08-01T09:18:14.338Z"
   },
   {
    "duration": 8,
    "start_time": "2023-08-01T09:18:14.515Z"
   },
   {
    "duration": 15,
    "start_time": "2023-08-01T09:18:14.525Z"
   },
   {
    "duration": 37,
    "start_time": "2023-08-01T09:18:14.543Z"
   },
   {
    "duration": 264,
    "start_time": "2023-08-01T09:18:14.582Z"
   },
   {
    "duration": 455,
    "start_time": "2023-08-01T09:18:14.849Z"
   },
   {
    "duration": 348,
    "start_time": "2023-08-01T09:18:15.306Z"
   },
   {
    "duration": 324,
    "start_time": "2023-08-01T09:18:15.657Z"
   },
   {
    "duration": 103,
    "start_time": "2023-08-01T09:18:15.985Z"
   },
   {
    "duration": 29,
    "start_time": "2023-08-01T09:18:16.090Z"
   },
   {
    "duration": 32,
    "start_time": "2023-08-01T09:18:16.122Z"
   },
   {
    "duration": 401,
    "start_time": "2023-08-01T09:18:16.157Z"
   },
   {
    "duration": 31,
    "start_time": "2023-08-01T09:18:16.560Z"
   },
   {
    "duration": 53,
    "start_time": "2023-08-01T09:18:16.597Z"
   },
   {
    "duration": 77,
    "start_time": "2023-08-01T09:18:16.652Z"
   },
   {
    "duration": 254,
    "start_time": "2023-08-01T09:18:16.731Z"
   },
   {
    "duration": 63,
    "start_time": "2023-08-01T09:18:16.988Z"
   },
   {
    "duration": 38,
    "start_time": "2023-08-01T09:18:17.054Z"
   },
   {
    "duration": 15,
    "start_time": "2023-08-01T09:18:17.108Z"
   },
   {
    "duration": 210,
    "start_time": "2023-08-01T09:18:17.125Z"
   },
   {
    "duration": 29,
    "start_time": "2023-08-01T09:18:17.337Z"
   },
   {
    "duration": 45,
    "start_time": "2023-08-01T09:18:17.369Z"
   },
   {
    "duration": 25,
    "start_time": "2023-08-01T09:18:17.415Z"
   },
   {
    "duration": 28,
    "start_time": "2023-08-01T09:18:17.443Z"
   },
   {
    "duration": 315,
    "start_time": "2023-08-01T09:18:17.473Z"
   },
   {
    "duration": 38,
    "start_time": "2023-08-01T09:18:17.791Z"
   },
   {
    "duration": 26,
    "start_time": "2023-08-01T09:18:17.832Z"
   },
   {
    "duration": 319,
    "start_time": "2023-08-01T09:18:17.861Z"
   },
   {
    "duration": 12,
    "start_time": "2023-08-01T09:18:18.182Z"
   },
   {
    "duration": 39,
    "start_time": "2023-08-01T09:18:18.196Z"
   },
   {
    "duration": 27,
    "start_time": "2023-08-01T09:18:18.237Z"
   },
   {
    "duration": 511,
    "start_time": "2023-08-01T09:18:18.267Z"
   },
   {
    "duration": 36,
    "start_time": "2023-08-01T09:18:18.780Z"
   },
   {
    "duration": 11,
    "start_time": "2023-08-01T09:18:18.818Z"
   },
   {
    "duration": 38,
    "start_time": "2023-08-01T09:18:18.831Z"
   },
   {
    "duration": 285,
    "start_time": "2023-08-01T09:18:18.871Z"
   },
   {
    "duration": 11,
    "start_time": "2023-08-01T09:18:19.159Z"
   },
   {
    "duration": 21,
    "start_time": "2023-08-01T09:18:19.173Z"
   },
   {
    "duration": 79,
    "start_time": "2023-08-01T09:18:19.196Z"
   },
   {
    "duration": 200,
    "start_time": "2023-08-01T09:18:19.276Z"
   },
   {
    "duration": 34,
    "start_time": "2023-08-01T09:18:19.478Z"
   },
   {
    "duration": 277,
    "start_time": "2023-08-01T09:18:19.519Z"
   },
   {
    "duration": 56,
    "start_time": "2023-08-01T09:18:19.798Z"
   },
   {
    "duration": 32,
    "start_time": "2023-08-01T09:18:19.856Z"
   },
   {
    "duration": 35,
    "start_time": "2023-08-01T09:18:19.891Z"
   },
   {
    "duration": 523,
    "start_time": "2023-08-01T09:18:19.928Z"
   },
   {
    "duration": 27,
    "start_time": "2023-08-01T09:18:20.454Z"
   },
   {
    "duration": 298,
    "start_time": "2023-08-01T09:18:20.483Z"
   },
   {
    "duration": 38,
    "start_time": "2023-08-01T09:18:20.783Z"
   },
   {
    "duration": 53,
    "start_time": "2023-08-01T09:18:20.826Z"
   },
   {
    "duration": 59,
    "start_time": "2023-08-01T09:18:20.881Z"
   },
   {
    "duration": 32,
    "start_time": "2023-08-01T09:18:20.943Z"
   },
   {
    "duration": 21,
    "start_time": "2023-08-01T09:18:20.978Z"
   },
   {
    "duration": 49,
    "start_time": "2023-08-01T09:18:21.001Z"
   },
   {
    "duration": 11,
    "start_time": "2023-08-01T09:18:21.053Z"
   },
   {
    "duration": 19,
    "start_time": "2023-08-01T09:18:21.066Z"
   },
   {
    "duration": 39,
    "start_time": "2023-08-01T09:18:21.087Z"
   },
   {
    "duration": 53,
    "start_time": "2023-08-01T09:18:21.128Z"
   },
   {
    "duration": 176,
    "start_time": "2023-08-01T09:18:21.190Z"
   },
   {
    "duration": 173,
    "start_time": "2023-08-01T09:18:21.368Z"
   },
   {
    "duration": 477,
    "start_time": "2023-08-01T09:18:21.544Z"
   },
   {
    "duration": 500,
    "start_time": "2023-08-01T09:18:22.024Z"
   },
   {
    "duration": 49,
    "start_time": "2023-08-01T09:18:22.528Z"
   },
   {
    "duration": 42,
    "start_time": "2023-08-01T09:18:22.579Z"
   },
   {
    "duration": 151,
    "start_time": "2023-08-01T09:18:22.623Z"
   },
   {
    "duration": 6,
    "start_time": "2023-08-01T09:18:22.776Z"
   },
   {
    "duration": 168,
    "start_time": "2023-08-01T09:18:22.784Z"
   },
   {
    "duration": 6,
    "start_time": "2023-08-01T09:18:22.955Z"
   },
   {
    "duration": 125,
    "start_time": "2023-08-01T09:18:22.963Z"
   },
   {
    "duration": 59,
    "start_time": "2023-08-01T09:18:23.090Z"
   },
   {
    "duration": 240,
    "start_time": "2023-08-01T09:18:23.151Z"
   },
   {
    "duration": 187,
    "start_time": "2023-08-01T09:18:23.393Z"
   },
   {
    "duration": 88,
    "start_time": "2023-08-01T09:18:23.582Z"
   },
   {
    "duration": 39,
    "start_time": "2023-08-01T09:18:23.673Z"
   },
   {
    "duration": 27,
    "start_time": "2023-08-01T09:18:23.715Z"
   },
   {
    "duration": 99,
    "start_time": "2023-08-01T09:18:23.745Z"
   },
   {
    "duration": 127,
    "start_time": "2023-08-01T09:18:23.847Z"
   },
   {
    "duration": 60,
    "start_time": "2023-08-01T09:18:23.977Z"
   },
   {
    "duration": 6,
    "start_time": "2023-08-01T09:18:24.040Z"
   },
   {
    "duration": 18,
    "start_time": "2023-08-01T09:18:24.049Z"
   },
   {
    "duration": 679,
    "start_time": "2023-08-01T09:18:50.237Z"
   },
   {
    "duration": 3,
    "start_time": "2023-08-01T09:18:59.627Z"
   },
   {
    "duration": 53,
    "start_time": "2023-08-01T09:19:02.145Z"
   },
   {
    "duration": 20,
    "start_time": "2023-08-01T09:19:03.071Z"
   },
   {
    "duration": 16674,
    "start_time": "2023-08-01T09:19:25.370Z"
   },
   {
    "duration": 4,
    "start_time": "2023-08-01T09:19:43.651Z"
   },
   {
    "duration": 6,
    "start_time": "2023-08-01T09:19:48.753Z"
   },
   {
    "duration": 16724,
    "start_time": "2023-08-01T09:20:21.265Z"
   },
   {
    "duration": 5,
    "start_time": "2023-08-01T09:20:37.991Z"
   },
   {
    "duration": 6,
    "start_time": "2023-08-01T09:20:38.010Z"
   },
   {
    "duration": 34479,
    "start_time": "2023-08-01T09:21:03.548Z"
   },
   {
    "duration": 6,
    "start_time": "2023-08-01T09:21:38.030Z"
   },
   {
    "duration": 10,
    "start_time": "2023-08-01T09:21:38.038Z"
   },
   {
    "duration": 63043,
    "start_time": "2023-08-01T09:21:48.089Z"
   },
   {
    "duration": 7,
    "start_time": "2023-08-01T09:22:51.135Z"
   },
   {
    "duration": 13,
    "start_time": "2023-08-01T09:22:51.145Z"
   },
   {
    "duration": 246325,
    "start_time": "2023-08-01T09:23:05.543Z"
   },
   {
    "duration": 9,
    "start_time": "2023-08-01T09:27:11.871Z"
   },
   {
    "duration": 23,
    "start_time": "2023-08-01T09:27:11.883Z"
   },
   {
    "duration": 98483,
    "start_time": "2023-08-01T09:28:09.664Z"
   },
   {
    "duration": 4,
    "start_time": "2023-08-01T09:29:48.150Z"
   },
   {
    "duration": 62,
    "start_time": "2023-08-01T09:29:48.155Z"
   },
   {
    "duration": 49792,
    "start_time": "2023-08-01T09:45:13.369Z"
   },
   {
    "duration": 3,
    "start_time": "2023-08-01T09:46:03.163Z"
   },
   {
    "duration": 5,
    "start_time": "2023-08-01T09:46:12.237Z"
   },
   {
    "duration": 1662,
    "start_time": "2023-08-01T09:53:28.871Z"
   },
   {
    "duration": 918,
    "start_time": "2023-08-01T09:53:32.290Z"
   },
   {
    "duration": 20,
    "start_time": "2023-08-01T09:53:36.497Z"
   },
   {
    "duration": 116,
    "start_time": "2023-08-01T09:54:31.336Z"
   },
   {
    "duration": 1267,
    "start_time": "2023-08-01T09:54:36.224Z"
   },
   {
    "duration": 505,
    "start_time": "2023-08-01T09:54:43.713Z"
   },
   {
    "duration": 516,
    "start_time": "2023-08-01T09:54:46.842Z"
   },
   {
    "duration": 105,
    "start_time": "2023-08-01T09:54:52.059Z"
   },
   {
    "duration": 18,
    "start_time": "2023-08-01T09:55:00.335Z"
   },
   {
    "duration": 6,
    "start_time": "2023-08-01T09:55:01.466Z"
   },
   {
    "duration": 125,
    "start_time": "2023-08-01T09:55:06.594Z"
   },
   {
    "duration": 6,
    "start_time": "2023-08-01T09:55:07.612Z"
   },
   {
    "duration": 5,
    "start_time": "2023-08-01T09:55:12.431Z"
   },
   {
    "duration": 21,
    "start_time": "2023-08-01T09:55:13.067Z"
   },
   {
    "duration": 200,
    "start_time": "2023-08-01T09:55:18.863Z"
   },
   {
    "duration": 143,
    "start_time": "2023-08-01T09:55:22.645Z"
   },
   {
    "duration": 196,
    "start_time": "2023-08-01T09:55:26.945Z"
   },
   {
    "duration": 193,
    "start_time": "2023-08-01T09:55:29.738Z"
   },
   {
    "duration": 78,
    "start_time": "2023-08-01T09:56:31.201Z"
   },
   {
    "duration": 20,
    "start_time": "2023-08-01T09:56:37.124Z"
   },
   {
    "duration": 14,
    "start_time": "2023-08-01T09:56:46.845Z"
   },
   {
    "duration": 218,
    "start_time": "2023-08-01T09:56:48.666Z"
   },
   {
    "duration": 17,
    "start_time": "2023-08-01T09:56:50.582Z"
   },
   {
    "duration": 6,
    "start_time": "2023-08-01T09:56:57.067Z"
   },
   {
    "duration": 30,
    "start_time": "2023-08-01T09:56:57.911Z"
   },
   {
    "duration": 221,
    "start_time": "2023-08-01T09:57:00.828Z"
   },
   {
    "duration": 54,
    "start_time": "2023-08-01T09:57:08.829Z"
   },
   {
    "duration": 36,
    "start_time": "2023-08-01T09:57:11.960Z"
   },
   {
    "duration": 15,
    "start_time": "2023-08-01T09:57:16.487Z"
   },
   {
    "duration": 185,
    "start_time": "2023-08-01T09:57:17.238Z"
   },
   {
    "duration": 28,
    "start_time": "2023-08-01T09:57:18.318Z"
   },
   {
    "duration": 18,
    "start_time": "2023-08-01T09:57:19.307Z"
   },
   {
    "duration": 5,
    "start_time": "2023-08-01T09:57:23.422Z"
   },
   {
    "duration": 19,
    "start_time": "2023-08-01T09:57:24.215Z"
   },
   {
    "duration": 192,
    "start_time": "2023-08-01T09:57:25.984Z"
   },
   {
    "duration": 32,
    "start_time": "2023-08-01T09:57:29.275Z"
   },
   {
    "duration": 25,
    "start_time": "2023-08-01T09:57:30.571Z"
   },
   {
    "duration": 194,
    "start_time": "2023-08-01T09:57:33.037Z"
   },
   {
    "duration": 8,
    "start_time": "2023-08-01T09:57:40.327Z"
   },
   {
    "duration": 22,
    "start_time": "2023-08-01T09:57:41.302Z"
   },
   {
    "duration": 15,
    "start_time": "2023-08-01T09:57:45.749Z"
   },
   {
    "duration": 253,
    "start_time": "2023-08-01T09:57:46.599Z"
   },
   {
    "duration": 16,
    "start_time": "2023-08-01T09:57:49.803Z"
   },
   {
    "duration": 5,
    "start_time": "2023-08-01T09:57:54.834Z"
   },
   {
    "duration": 16,
    "start_time": "2023-08-01T09:57:55.589Z"
   },
   {
    "duration": 304,
    "start_time": "2023-08-01T09:57:57.420Z"
   },
   {
    "duration": 9,
    "start_time": "2023-08-01T09:57:59.798Z"
   },
   {
    "duration": 6,
    "start_time": "2023-08-01T09:58:21.580Z"
   },
   {
    "duration": 26,
    "start_time": "2023-08-01T09:58:22.288Z"
   },
   {
    "duration": 152,
    "start_time": "2023-08-01T09:58:23.423Z"
   },
   {
    "duration": 16,
    "start_time": "2023-08-01T09:58:27.240Z"
   },
   {
    "duration": 201,
    "start_time": "2023-08-01T09:58:27.970Z"
   },
   {
    "duration": 30,
    "start_time": "2023-08-01T09:58:28.922Z"
   },
   {
    "duration": 18,
    "start_time": "2023-08-01T09:58:31.215Z"
   },
   {
    "duration": 15,
    "start_time": "2023-08-01T09:58:34.125Z"
   },
   {
    "duration": 259,
    "start_time": "2023-08-01T09:58:36.467Z"
   },
   {
    "duration": 18,
    "start_time": "2023-08-01T09:58:39.530Z"
   },
   {
    "duration": 161,
    "start_time": "2023-08-01T09:58:42.293Z"
   },
   {
    "duration": 22,
    "start_time": "2023-08-01T09:58:42.941Z"
   },
   {
    "duration": 28,
    "start_time": "2023-08-01T09:58:43.865Z"
   },
   {
    "duration": 18,
    "start_time": "2023-08-01T09:58:49.401Z"
   },
   {
    "duration": 8,
    "start_time": "2023-08-01T09:58:49.975Z"
   },
   {
    "duration": 6,
    "start_time": "2023-08-01T09:58:55.444Z"
   },
   {
    "duration": 7,
    "start_time": "2023-08-01T09:58:56.975Z"
   },
   {
    "duration": 7,
    "start_time": "2023-08-01T09:59:01.235Z"
   },
   {
    "duration": 6,
    "start_time": "2023-08-01T09:59:03.376Z"
   },
   {
    "duration": 21,
    "start_time": "2023-08-01T09:59:07.536Z"
   },
   {
    "duration": 6,
    "start_time": "2023-08-01T09:59:08.095Z"
   },
   {
    "duration": 92,
    "start_time": "2023-08-01T09:59:12.558Z"
   },
   {
    "duration": 90,
    "start_time": "2023-08-01T09:59:16.203Z"
   },
   {
    "duration": 322,
    "start_time": "2023-08-01T09:59:19.443Z"
   },
   {
    "duration": 329,
    "start_time": "2023-08-01T10:00:03.758Z"
   },
   {
    "duration": 54,
    "start_time": "2023-08-01T10:00:04.832Z"
   },
   {
    "duration": 15,
    "start_time": "2023-08-01T10:00:06.279Z"
   },
   {
    "duration": 84,
    "start_time": "2023-08-01T10:00:13.134Z"
   },
   {
    "duration": 5,
    "start_time": "2023-08-01T10:00:16.602Z"
   },
   {
    "duration": 84,
    "start_time": "2023-08-01T10:00:18.702Z"
   },
   {
    "duration": 5,
    "start_time": "2023-08-01T10:00:19.417Z"
   },
   {
    "duration": 51,
    "start_time": "2023-08-01T10:00:24.164Z"
   },
   {
    "duration": 18,
    "start_time": "2023-08-01T10:00:27.593Z"
   },
   {
    "duration": 178,
    "start_time": "2023-08-01T10:00:35.827Z"
   },
   {
    "duration": 178,
    "start_time": "2023-08-01T10:03:14.184Z"
   },
   {
    "duration": 57,
    "start_time": "2023-08-01T10:03:15.087Z"
   },
   {
    "duration": 30,
    "start_time": "2023-08-01T10:03:26.440Z"
   },
   {
    "duration": 17,
    "start_time": "2023-08-01T10:03:36.472Z"
   },
   {
    "duration": 97,
    "start_time": "2023-08-01T10:03:39.797Z"
   },
   {
    "duration": 39,
    "start_time": "2023-08-01T10:03:40.428Z"
   },
   {
    "duration": 5,
    "start_time": "2023-08-01T10:03:43.981Z"
   },
   {
    "duration": 3,
    "start_time": "2023-08-01T10:03:46.585Z"
   },
   {
    "duration": 677,
    "start_time": "2023-08-01T10:03:47.435Z"
   },
   {
    "duration": 3,
    "start_time": "2023-08-01T10:03:49.625Z"
   },
   {
    "duration": 44,
    "start_time": "2023-08-01T10:03:52.199Z"
   },
   {
    "duration": 19,
    "start_time": "2023-08-01T10:03:52.863Z"
   },
   {
    "duration": 73964,
    "start_time": "2023-08-01T10:04:01.466Z"
   },
   {
    "duration": 5,
    "start_time": "2023-08-01T10:05:15.432Z"
   },
   {
    "duration": 83,
    "start_time": "2023-08-01T10:05:15.439Z"
   },
   {
    "duration": 51717,
    "start_time": "2023-08-01T10:06:09.337Z"
   },
   {
    "duration": 4,
    "start_time": "2023-08-01T10:07:01.056Z"
   },
   {
    "duration": 4,
    "start_time": "2023-08-01T10:07:09.572Z"
   },
   {
    "duration": 123706,
    "start_time": "2023-08-01T10:07:13.731Z"
   },
   {
    "duration": 3,
    "start_time": "2023-08-01T10:09:17.439Z"
   },
   {
    "duration": 4,
    "start_time": "2023-08-01T10:09:27.322Z"
   },
   {
    "duration": 254816,
    "start_time": "2023-08-01T10:09:32.964Z"
   },
   {
    "duration": 4,
    "start_time": "2023-08-01T10:13:47.782Z"
   },
   {
    "duration": 5,
    "start_time": "2023-08-01T10:15:13.610Z"
   },
   {
    "duration": 4,
    "start_time": "2023-08-01T10:16:36.203Z"
   },
   {
    "duration": 4306,
    "start_time": "2023-08-01T10:33:41.220Z"
   },
   {
    "duration": 68514,
    "start_time": "2023-08-01T10:34:31.307Z"
   },
   {
    "duration": 4,
    "start_time": "2023-08-01T10:35:39.908Z"
   },
   {
    "duration": 22,
    "start_time": "2023-08-01T10:35:39.914Z"
   },
   {
    "duration": 411,
    "start_time": "2023-08-01T10:38:07.307Z"
   }
  ],
  "kernelspec": {
   "display_name": "Python 3 (ipykernel)",
   "language": "python",
   "name": "python3"
  },
  "language_info": {
   "codemirror_mode": {
    "name": "ipython",
    "version": 3
   },
   "file_extension": ".py",
   "mimetype": "text/x-python",
   "name": "python",
   "nbconvert_exporter": "python",
   "pygments_lexer": "ipython3",
   "version": "3.10.2"
  },
  "toc": {
   "base_numbering": 1,
   "nav_menu": {},
   "number_sections": true,
   "sideBar": true,
   "skip_h1_title": true,
   "title_cell": "Table of Contents",
   "title_sidebar": "Contents",
   "toc_cell": false,
   "toc_position": {},
   "toc_section_display": true,
   "toc_window_display": true
  }
 },
 "nbformat": 4,
 "nbformat_minor": 2
}
