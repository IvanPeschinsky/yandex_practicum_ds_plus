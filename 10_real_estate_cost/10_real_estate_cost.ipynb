{
 "cells": [
  {
   "cell_type": "markdown",
   "id": "GEqQaHzsZ_bA",
   "metadata": {
    "id": "GEqQaHzsZ_bA"
   },
   "source": [
    "# Предсказание стоимости жилья\n",
    "\n",
    "В проекте вам нужно обучить модель линейной регрессии на данных о жилье в Калифорнии в 1990 году. На основе данных нужно предсказать медианную стоимость дома в жилом массиве. Обучите модель и сделайте предсказания на тестовой выборке. Для оценки качества модели используйте метрики RMSE, MAE и R2."
   ]
  },
  {
   "cell_type": "markdown",
   "id": "e95152a5",
   "metadata": {},
   "source": [
    "## Подготовка данных"
   ]
  },
  {
   "cell_type": "markdown",
   "id": "9ccce475",
   "metadata": {},
   "source": [
    "### Инициализация сессии"
   ]
  },
  {
   "cell_type": "markdown",
   "id": "e80d0e09",
   "metadata": {},
   "source": [
    "В этом разделе мы импортируем все необходимые модули для трансформации признаков, алгоритм линейной регрессии, инициализируем Spark-сессию и откроем датасет."
   ]
  },
  {
   "cell_type": "code",
   "execution_count": 1,
   "id": "10ba69ad",
   "metadata": {},
   "outputs": [],
   "source": [
    "import pandas as pd\n",
    "import numpy as np\n",
    "\n",
    "import pyspark\n",
    "from pyspark.sql import SparkSession\n",
    "from pyspark.sql.types import *\n",
    "import pyspark.sql.functions as f\n",
    "from pyspark.sql import DataFrameStatFunctions as statFunc\n",
    "\n",
    "from pyspark.ml.feature import StringIndexer, VectorAssembler, StandardScaler\n",
    "from pyspark.ml.regression import LinearRegression"
   ]
  },
  {
   "cell_type": "code",
   "execution_count": 2,
   "id": "861ae500",
   "metadata": {},
   "outputs": [],
   "source": [
    "pyspark_version = pyspark.__version__\n",
    "if int(pyspark_version[:1]) == 3:\n",
    "    from pyspark.ml.feature import OneHotEncoder\n",
    "elif int(pyspark_version[:1]) == 2:\n",
    "    from pyspark.ml.feature import OneHotEncoderEstimator"
   ]
  },
  {
   "cell_type": "code",
   "execution_count": 3,
   "id": "98c25bbf",
   "metadata": {},
   "outputs": [],
   "source": [
    "RANDOM_SEED = 2023"
   ]
  },
  {
   "cell_type": "code",
   "execution_count": 4,
   "id": "614904eb",
   "metadata": {},
   "outputs": [],
   "source": [
    "spark = SparkSession.builder.master(\"local\").appName(\"House_cost_prediction\").getOrCreate()"
   ]
  },
  {
   "cell_type": "markdown",
   "id": "56f5f361",
   "metadata": {},
   "source": [
    "В колонках датасета содержатся следующие данные:\n",
    "* \t\tlongitude — широта;\n",
    "* \t\tlatitude — долгота;\n",
    "* \t\thousing_median_age — медианный возраст жителей жилого массива;\n",
    "* \t\ttotal_rooms — общее количество комнат в домах жилого массива;\n",
    "* \t\ttotal_bedrooms — общее количество спален в домах жилого массива;\n",
    "* \t\tpopulation — количество человек, которые проживают в жилом массиве;\n",
    "* \t\thouseholds — количество домовладений в жилом массиве;\n",
    "* \t\tmedian_income — медианный доход жителей жилого массива;\n",
    "* \t\tmedian_house_value — медианная стоимость дома в жилом массиве;\n",
    "* \t\tocean_proximity — близость к океану."
   ]
  },
  {
   "cell_type": "code",
   "execution_count": 5,
   "id": "a8efa9c8",
   "metadata": {},
   "outputs": [
    {
     "name": "stderr",
     "output_type": "stream",
     "text": [
      "[Stage 1:>                                                          (0 + 1) / 1]\r"
     ]
    },
    {
     "name": "stdout",
     "output_type": "stream",
     "text": [
      "root\n",
      " |-- longitude: double (nullable = true)\n",
      " |-- latitude: double (nullable = true)\n",
      " |-- housing_median_age: double (nullable = true)\n",
      " |-- total_rooms: double (nullable = true)\n",
      " |-- total_bedrooms: double (nullable = true)\n",
      " |-- population: double (nullable = true)\n",
      " |-- households: double (nullable = true)\n",
      " |-- median_income: double (nullable = true)\n",
      " |-- median_house_value: double (nullable = true)\n",
      " |-- ocean_proximity: string (nullable = true)\n",
      "\n"
     ]
    },
    {
     "name": "stderr",
     "output_type": "stream",
     "text": [
      "                                                                                \r"
     ]
    }
   ],
   "source": [
    "df = spark.read.option('header', 'true').csv('/datasets/housing.csv', inferSchema=True)\n",
    "df.printSchema()"
   ]
  },
  {
   "cell_type": "markdown",
   "id": "759b2d31",
   "metadata": {},
   "source": [
    "### Подготовка данных"
   ]
  },
  {
   "cell_type": "markdown",
   "id": "497e3ae5",
   "metadata": {},
   "source": [
    "В колонке total_bedrooms есть небольшое количество пропусков. Не придумал, как их заменить на медиану, например, поэтому просто удалил)"
   ]
  },
  {
   "cell_type": "code",
   "execution_count": 6,
   "id": "d19a9c4a",
   "metadata": {},
   "outputs": [
    {
     "name": "stderr",
     "output_type": "stream",
     "text": [
      "                                                                                \r"
     ]
    },
    {
     "data": {
      "text/html": [
       "<div>\n",
       "<style scoped>\n",
       "    .dataframe tbody tr th:only-of-type {\n",
       "        vertical-align: middle;\n",
       "    }\n",
       "\n",
       "    .dataframe tbody tr th {\n",
       "        vertical-align: top;\n",
       "    }\n",
       "\n",
       "    .dataframe thead th {\n",
       "        text-align: right;\n",
       "    }\n",
       "</style>\n",
       "<table border=\"1\" class=\"dataframe\">\n",
       "  <thead>\n",
       "    <tr style=\"text-align: right;\">\n",
       "      <th></th>\n",
       "      <th>summary</th>\n",
       "      <th>longitude</th>\n",
       "      <th>latitude</th>\n",
       "      <th>housing_median_age</th>\n",
       "      <th>total_rooms</th>\n",
       "      <th>total_bedrooms</th>\n",
       "      <th>population</th>\n",
       "      <th>households</th>\n",
       "      <th>median_income</th>\n",
       "      <th>median_house_value</th>\n",
       "      <th>ocean_proximity</th>\n",
       "    </tr>\n",
       "  </thead>\n",
       "  <tbody>\n",
       "    <tr>\n",
       "      <th>0</th>\n",
       "      <td>count</td>\n",
       "      <td>20640</td>\n",
       "      <td>20640</td>\n",
       "      <td>20640</td>\n",
       "      <td>20640</td>\n",
       "      <td>20433</td>\n",
       "      <td>20640</td>\n",
       "      <td>20640</td>\n",
       "      <td>20640</td>\n",
       "      <td>20640</td>\n",
       "      <td>20640</td>\n",
       "    </tr>\n",
       "    <tr>\n",
       "      <th>1</th>\n",
       "      <td>mean</td>\n",
       "      <td>-119.56970445736148</td>\n",
       "      <td>35.6318614341087</td>\n",
       "      <td>28.639486434108527</td>\n",
       "      <td>2635.7630813953488</td>\n",
       "      <td>537.8705525375618</td>\n",
       "      <td>1425.4767441860465</td>\n",
       "      <td>499.5396802325581</td>\n",
       "      <td>3.8706710029070246</td>\n",
       "      <td>206855.81690891474</td>\n",
       "      <td>None</td>\n",
       "    </tr>\n",
       "    <tr>\n",
       "      <th>2</th>\n",
       "      <td>stddev</td>\n",
       "      <td>2.003531723502584</td>\n",
       "      <td>2.135952397457101</td>\n",
       "      <td>12.58555761211163</td>\n",
       "      <td>2181.6152515827944</td>\n",
       "      <td>421.38507007403115</td>\n",
       "      <td>1132.46212176534</td>\n",
       "      <td>382.3297528316098</td>\n",
       "      <td>1.899821717945263</td>\n",
       "      <td>115395.61587441359</td>\n",
       "      <td>None</td>\n",
       "    </tr>\n",
       "    <tr>\n",
       "      <th>3</th>\n",
       "      <td>min</td>\n",
       "      <td>-124.35</td>\n",
       "      <td>32.54</td>\n",
       "      <td>1.0</td>\n",
       "      <td>2.0</td>\n",
       "      <td>1.0</td>\n",
       "      <td>3.0</td>\n",
       "      <td>1.0</td>\n",
       "      <td>0.4999</td>\n",
       "      <td>14999.0</td>\n",
       "      <td>&lt;1H OCEAN</td>\n",
       "    </tr>\n",
       "    <tr>\n",
       "      <th>4</th>\n",
       "      <td>max</td>\n",
       "      <td>-114.31</td>\n",
       "      <td>41.95</td>\n",
       "      <td>52.0</td>\n",
       "      <td>39320.0</td>\n",
       "      <td>6445.0</td>\n",
       "      <td>35682.0</td>\n",
       "      <td>6082.0</td>\n",
       "      <td>15.0001</td>\n",
       "      <td>500001.0</td>\n",
       "      <td>NEAR OCEAN</td>\n",
       "    </tr>\n",
       "  </tbody>\n",
       "</table>\n",
       "</div>"
      ],
      "text/plain": [
       "  summary            longitude           latitude  housing_median_age  \\\n",
       "0   count                20640              20640               20640   \n",
       "1    mean  -119.56970445736148   35.6318614341087  28.639486434108527   \n",
       "2  stddev    2.003531723502584  2.135952397457101   12.58555761211163   \n",
       "3     min              -124.35              32.54                 1.0   \n",
       "4     max              -114.31              41.95                52.0   \n",
       "\n",
       "          total_rooms      total_bedrooms          population  \\\n",
       "0               20640               20433               20640   \n",
       "1  2635.7630813953488   537.8705525375618  1425.4767441860465   \n",
       "2  2181.6152515827944  421.38507007403115    1132.46212176534   \n",
       "3                 2.0                 1.0                 3.0   \n",
       "4             39320.0              6445.0             35682.0   \n",
       "\n",
       "          households       median_income  median_house_value ocean_proximity  \n",
       "0              20640               20640               20640           20640  \n",
       "1  499.5396802325581  3.8706710029070246  206855.81690891474            None  \n",
       "2  382.3297528316098   1.899821717945263  115395.61587441359            None  \n",
       "3                1.0              0.4999             14999.0       <1H OCEAN  \n",
       "4             6082.0             15.0001            500001.0      NEAR OCEAN  "
      ]
     },
     "execution_count": 6,
     "metadata": {},
     "output_type": "execute_result"
    }
   ],
   "source": [
    "df.describe().toPandas()"
   ]
  },
  {
   "cell_type": "code",
   "execution_count": 11,
   "id": "f2607b2d",
   "metadata": {},
   "outputs": [
    {
     "name": "stderr",
     "output_type": "stream",
     "text": [
      "                                                                                \r"
     ]
    },
    {
     "data": {
      "text/plain": [
       "[296.0]"
      ]
     },
     "execution_count": 11,
     "metadata": {},
     "output_type": "execute_result"
    }
   ],
   "source": [
    "median = statFunc(df).approxQuantile('total_bedrooms', [0.5], 0.25)\n",
    "median"
   ]
  },
  {
   "cell_type": "code",
   "execution_count": 13,
   "id": "564a87f2",
   "metadata": {},
   "outputs": [],
   "source": [
    "df = df.fillna(296, subset='total_bedrooms')"
   ]
  },
  {
   "cell_type": "code",
   "execution_count": 51,
   "id": "5f878d71",
   "metadata": {},
   "outputs": [
    {
     "name": "stderr",
     "output_type": "stream",
     "text": [
      "                                                                                \r"
     ]
    },
    {
     "data": {
      "text/html": [
       "<div>\n",
       "<style scoped>\n",
       "    .dataframe tbody tr th:only-of-type {\n",
       "        vertical-align: middle;\n",
       "    }\n",
       "\n",
       "    .dataframe tbody tr th {\n",
       "        vertical-align: top;\n",
       "    }\n",
       "\n",
       "    .dataframe thead th {\n",
       "        text-align: right;\n",
       "    }\n",
       "</style>\n",
       "<table border=\"1\" class=\"dataframe\">\n",
       "  <thead>\n",
       "    <tr style=\"text-align: right;\">\n",
       "      <th></th>\n",
       "      <th>summary</th>\n",
       "      <th>longitude</th>\n",
       "      <th>latitude</th>\n",
       "      <th>housing_median_age</th>\n",
       "      <th>total_rooms</th>\n",
       "      <th>total_bedrooms</th>\n",
       "      <th>population</th>\n",
       "      <th>households</th>\n",
       "      <th>median_income</th>\n",
       "      <th>median_house_value</th>\n",
       "      <th>ocean_proximity</th>\n",
       "    </tr>\n",
       "  </thead>\n",
       "  <tbody>\n",
       "    <tr>\n",
       "      <th>0</th>\n",
       "      <td>count</td>\n",
       "      <td>20640</td>\n",
       "      <td>20640</td>\n",
       "      <td>20640</td>\n",
       "      <td>20640</td>\n",
       "      <td>20640</td>\n",
       "      <td>20640</td>\n",
       "      <td>20640</td>\n",
       "      <td>20640</td>\n",
       "      <td>20640</td>\n",
       "      <td>20640</td>\n",
       "    </tr>\n",
       "    <tr>\n",
       "      <th>1</th>\n",
       "      <td>mean</td>\n",
       "      <td>-119.56970445736148</td>\n",
       "      <td>35.6318614341087</td>\n",
       "      <td>28.639486434108527</td>\n",
       "      <td>2635.7630813953488</td>\n",
       "      <td>535.4448158914729</td>\n",
       "      <td>1425.4767441860465</td>\n",
       "      <td>499.5396802325581</td>\n",
       "      <td>3.8706710029070246</td>\n",
       "      <td>206855.81690891474</td>\n",
       "      <td>None</td>\n",
       "    </tr>\n",
       "    <tr>\n",
       "      <th>2</th>\n",
       "      <td>stddev</td>\n",
       "      <td>2.003531723502584</td>\n",
       "      <td>2.135952397457101</td>\n",
       "      <td>12.58555761211163</td>\n",
       "      <td>2181.6152515827944</td>\n",
       "      <td>419.95872850464224</td>\n",
       "      <td>1132.46212176534</td>\n",
       "      <td>382.3297528316098</td>\n",
       "      <td>1.899821717945263</td>\n",
       "      <td>115395.61587441359</td>\n",
       "      <td>None</td>\n",
       "    </tr>\n",
       "    <tr>\n",
       "      <th>3</th>\n",
       "      <td>min</td>\n",
       "      <td>-124.35</td>\n",
       "      <td>32.54</td>\n",
       "      <td>1.0</td>\n",
       "      <td>2.0</td>\n",
       "      <td>1.0</td>\n",
       "      <td>3.0</td>\n",
       "      <td>1.0</td>\n",
       "      <td>0.4999</td>\n",
       "      <td>14999.0</td>\n",
       "      <td>&lt;1H OCEAN</td>\n",
       "    </tr>\n",
       "    <tr>\n",
       "      <th>4</th>\n",
       "      <td>max</td>\n",
       "      <td>-114.31</td>\n",
       "      <td>41.95</td>\n",
       "      <td>52.0</td>\n",
       "      <td>39320.0</td>\n",
       "      <td>6445.0</td>\n",
       "      <td>35682.0</td>\n",
       "      <td>6082.0</td>\n",
       "      <td>15.0001</td>\n",
       "      <td>500001.0</td>\n",
       "      <td>NEAR OCEAN</td>\n",
       "    </tr>\n",
       "  </tbody>\n",
       "</table>\n",
       "</div>"
      ],
      "text/plain": [
       "  summary            longitude           latitude  housing_median_age  \\\n",
       "0   count                20640              20640               20640   \n",
       "1    mean  -119.56970445736148   35.6318614341087  28.639486434108527   \n",
       "2  stddev    2.003531723502584  2.135952397457101   12.58555761211163   \n",
       "3     min              -124.35              32.54                 1.0   \n",
       "4     max              -114.31              41.95                52.0   \n",
       "\n",
       "          total_rooms      total_bedrooms          population  \\\n",
       "0               20640               20640               20640   \n",
       "1  2635.7630813953488   535.4448158914729  1425.4767441860465   \n",
       "2  2181.6152515827944  419.95872850464224    1132.46212176534   \n",
       "3                 2.0                 1.0                 3.0   \n",
       "4             39320.0              6445.0             35682.0   \n",
       "\n",
       "          households       median_income  median_house_value ocean_proximity  \n",
       "0              20640               20640               20640           20640  \n",
       "1  499.5396802325581  3.8706710029070246  206855.81690891474            None  \n",
       "2  382.3297528316098   1.899821717945263  115395.61587441359            None  \n",
       "3                1.0              0.4999             14999.0       <1H OCEAN  \n",
       "4             6082.0             15.0001            500001.0      NEAR OCEAN  "
      ]
     },
     "execution_count": 51,
     "metadata": {},
     "output_type": "execute_result"
    }
   ],
   "source": [
    "df.describe().toPandas()"
   ]
  },
  {
   "cell_type": "markdown",
   "id": "e4249ba2",
   "metadata": {},
   "source": [
    "Разделим наш датасет на категориальные, числовые колонки и выделим целевой признак."
   ]
  },
  {
   "cell_type": "code",
   "execution_count": 52,
   "id": "66621bd5",
   "metadata": {},
   "outputs": [],
   "source": [
    "categorial_col = ['ocean_proximity']\n",
    "numerical_cols = ['longitude', 'latitude', 'housing_median_age', 'total_rooms', 'total_bedrooms', \n",
    "                 'population', 'households', 'median_income']\n",
    "target = 'median_house_value'"
   ]
  },
  {
   "cell_type": "markdown",
   "id": "207614d7",
   "metadata": {},
   "source": [
    "Далее трансформируем категориальный признак и создадим для него OHE."
   ]
  },
  {
   "cell_type": "code",
   "execution_count": 53,
   "id": "5820fd9e",
   "metadata": {},
   "outputs": [
    {
     "name": "stderr",
     "output_type": "stream",
     "text": [
      "                                                                                \r"
     ]
    },
    {
     "name": "stdout",
     "output_type": "stream",
     "text": [
      "+---------------+-------------------+\n",
      "|ocean_proximity|ocean_proximity_idx|\n",
      "+---------------+-------------------+\n",
      "|       NEAR BAY|                3.0|\n",
      "|       NEAR BAY|                3.0|\n",
      "|       NEAR BAY|                3.0|\n",
      "+---------------+-------------------+\n",
      "only showing top 3 rows\n",
      "\n"
     ]
    }
   ],
   "source": [
    "indexer = StringIndexer(inputCols=categorial_col, outputCols=[c+'_idx' for c in categorial_col])\n",
    "df = indexer.fit(df).transform(df)\n",
    "cols = [c for c in df.columns for i in categorial_col if (c.startswith(i))]\n",
    "df.select(cols).show(3)"
   ]
  },
  {
   "cell_type": "code",
   "execution_count": 54,
   "id": "05753ec2",
   "metadata": {},
   "outputs": [
    {
     "name": "stdout",
     "output_type": "stream",
     "text": [
      "+---------------+-------------------+-------------------+\n",
      "|ocean_proximity|ocean_proximity_idx|ocean_proximity_ohe|\n",
      "+---------------+-------------------+-------------------+\n",
      "|       NEAR BAY|                3.0|      (4,[3],[1.0])|\n",
      "|       NEAR BAY|                3.0|      (4,[3],[1.0])|\n",
      "|       NEAR BAY|                3.0|      (4,[3],[1.0])|\n",
      "+---------------+-------------------+-------------------+\n",
      "only showing top 3 rows\n",
      "\n"
     ]
    }
   ],
   "source": [
    "encoder = OneHotEncoder(inputCols=[c+'_idx' for c in categorial_col],\n",
    "                       outputCols=[c+'_ohe' for c in categorial_col])\n",
    "df = encoder.fit(df).transform(df)\n",
    "cols = [c for c in df.columns for i in categorial_col if (c.startswith(i))]\n",
    "df.select(cols).show(3)"
   ]
  },
  {
   "cell_type": "markdown",
   "id": "c815048f",
   "metadata": {},
   "source": [
    "Объединим признаки в один вектор."
   ]
  },
  {
   "cell_type": "code",
   "execution_count": 55,
   "id": "a3ab9996",
   "metadata": {},
   "outputs": [],
   "source": [
    "categorial_assembler = VectorAssembler(inputCols=[c+'_ohe' for c in categorial_col],\n",
    "                                      outputCol='categorial_features')\n",
    "df = categorial_assembler.transform(df)"
   ]
  },
  {
   "cell_type": "markdown",
   "id": "92f2dd11",
   "metadata": {},
   "source": [
    "Трансформируем числовые признаки."
   ]
  },
  {
   "cell_type": "code",
   "execution_count": 56,
   "id": "f483def7",
   "metadata": {},
   "outputs": [],
   "source": [
    "numerical_assembler = VectorAssembler(inputCols=numerical_cols,\n",
    "                                     outputCol='numerical_features')\n",
    "df = numerical_assembler.transform(df)"
   ]
  },
  {
   "cell_type": "code",
   "execution_count": 57,
   "id": "4585c8f9",
   "metadata": {},
   "outputs": [
    {
     "name": "stderr",
     "output_type": "stream",
     "text": [
      "                                                                                \r"
     ]
    }
   ],
   "source": [
    "standardScaler = StandardScaler(inputCol='numerical_features',\n",
    "                               outputCol='numerical_features_scaled')\n",
    "df = standardScaler.fit(df).transform(df)"
   ]
  },
  {
   "cell_type": "markdown",
   "id": "249598c1",
   "metadata": {},
   "source": [
    "После преобразований получился датасет с такими колонками."
   ]
  },
  {
   "cell_type": "code",
   "execution_count": 58,
   "id": "bfc79e9a",
   "metadata": {},
   "outputs": [
    {
     "name": "stdout",
     "output_type": "stream",
     "text": [
      "['longitude', 'latitude', 'housing_median_age', 'total_rooms', 'total_bedrooms', 'population', 'households', 'median_income', 'median_house_value', 'ocean_proximity', 'ocean_proximity_idx', 'ocean_proximity_ohe', 'categorial_features', 'numerical_features', 'numerical_features_scaled']\n"
     ]
    }
   ],
   "source": [
    "print(df.columns)"
   ]
  },
  {
   "cell_type": "markdown",
   "id": "53b688cf",
   "metadata": {},
   "source": [
    "Соберем трансформированные категориальные и числовые признаки с помощью VectorAssembler."
   ]
  },
  {
   "cell_type": "code",
   "execution_count": 59,
   "id": "cec4f974",
   "metadata": {},
   "outputs": [],
   "source": [
    "all_features = ['categorial_features', 'numerical_features_scaled']"
   ]
  },
  {
   "cell_type": "code",
   "execution_count": 60,
   "id": "f3a092b0",
   "metadata": {},
   "outputs": [
    {
     "name": "stdout",
     "output_type": "stream",
     "text": [
      "+-------------------+-------------------------+\n",
      "|categorial_features|numerical_features_scaled|\n",
      "+-------------------+-------------------------+\n",
      "|      (4,[3],[1.0])|     [-61.007269596069...|\n",
      "|      (4,[3],[1.0])|     [-61.002278409814...|\n",
      "|      (4,[3],[1.0])|     [-61.012260782324...|\n",
      "+-------------------+-------------------------+\n",
      "only showing top 3 rows\n",
      "\n"
     ]
    }
   ],
   "source": [
    "final_assembler = VectorAssembler(inputCols=all_features,\n",
    "                                 outputCol='features')\n",
    "df_all = final_assembler.transform(df)\n",
    "df_all.select(all_features).show(3)"
   ]
  },
  {
   "cell_type": "markdown",
   "id": "beb760af",
   "metadata": {},
   "source": [
    "## Обучение моделей"
   ]
  },
  {
   "cell_type": "markdown",
   "id": "9f126659",
   "metadata": {},
   "source": [
    "### Обучение на всех признаках"
   ]
  },
  {
   "cell_type": "markdown",
   "id": "e9ded765",
   "metadata": {},
   "source": [
    "На данном этапе мы обучаем модель, используя все признаки."
   ]
  },
  {
   "cell_type": "markdown",
   "id": "90f112f6",
   "metadata": {},
   "source": [
    "Разделим датасет на обучающую и тестовую выборки в соотношении 75/25."
   ]
  },
  {
   "cell_type": "code",
   "execution_count": 61,
   "id": "23bf6909",
   "metadata": {},
   "outputs": [
    {
     "name": "stderr",
     "output_type": "stream",
     "text": [
      "[Stage 38:>                                                         (0 + 1) / 1]\r"
     ]
    },
    {
     "name": "stdout",
     "output_type": "stream",
     "text": [
      "15477 5163\n"
     ]
    },
    {
     "name": "stderr",
     "output_type": "stream",
     "text": [
      "                                                                                \r"
     ]
    }
   ],
   "source": [
    "train_data, test_data = df_all.randomSplit([.75,.25], seed=RANDOM_SEED)\n",
    "print(train_data.count(), test_data.count())"
   ]
  },
  {
   "cell_type": "markdown",
   "id": "747ffece",
   "metadata": {},
   "source": [
    "Для обучения используем модель линейной регрессии."
   ]
  },
  {
   "cell_type": "code",
   "execution_count": 62,
   "id": "095c5f78",
   "metadata": {},
   "outputs": [
    {
     "name": "stderr",
     "output_type": "stream",
     "text": [
      "23/05/16 08:07:47 WARN BLAS: Failed to load implementation from: com.github.fommil.netlib.NativeSystemBLAS\n",
      "23/05/16 08:07:47 WARN BLAS: Failed to load implementation from: com.github.fommil.netlib.NativeRefBLAS\n",
      "                                                                                \r"
     ]
    }
   ],
   "source": [
    "lr_all = LinearRegression(featuresCol='features', labelCol=target, maxIter=10, regParam=0.3, elasticNetParam=0.8)\n",
    "model_all = lr_all.fit(train_data)"
   ]
  },
  {
   "cell_type": "markdown",
   "id": "9a0103c6",
   "metadata": {},
   "source": [
    "Сделаем предсказания и выведем их в таблице."
   ]
  },
  {
   "cell_type": "code",
   "execution_count": 63,
   "id": "5c66267b",
   "metadata": {},
   "outputs": [
    {
     "name": "stderr",
     "output_type": "stream",
     "text": [
      "[Stage 44:>                                                         (0 + 1) / 1]\r"
     ]
    },
    {
     "name": "stdout",
     "output_type": "stream",
     "text": [
      "+------------------+------------------+\n",
      "|        prediction|median_house_value|\n",
      "+------------------+------------------+\n",
      "| 155407.0639860659|           78300.0|\n",
      "|169001.40441553912|           67000.0|\n",
      "| 168349.9594074617|           81300.0|\n",
      "| 185439.1338927421|           62500.0|\n",
      "| 207749.6534203057|          100600.0|\n",
      "+------------------+------------------+\n",
      "only showing top 5 rows\n",
      "\n"
     ]
    },
    {
     "name": "stderr",
     "output_type": "stream",
     "text": [
      "                                                                                \r"
     ]
    }
   ],
   "source": [
    "lr_all_predictions = model_all.transform(test_data)\n",
    "lr_all_predictions.select('prediction', target).show(5)"
   ]
  },
  {
   "cell_type": "markdown",
   "id": "39b3237b",
   "metadata": {},
   "source": [
    "Оценим качество модели с помощью заданных метрик."
   ]
  },
  {
   "cell_type": "code",
   "execution_count": 64,
   "id": "cbd9f54a",
   "metadata": {},
   "outputs": [
    {
     "name": "stdout",
     "output_type": "stream",
     "text": [
      "RMSE: 69131.318138\n",
      "MAE 50197.727893\n",
      "R2: 0.640946\n"
     ]
    }
   ],
   "source": [
    "trainingSummary = model_all.summary\n",
    "print('RMSE: %f' % trainingSummary.rootMeanSquaredError)\n",
    "print('MAE %f' % trainingSummary.meanAbsoluteError)\n",
    "print('R2: %f' % trainingSummary.r2)"
   ]
  },
  {
   "cell_type": "markdown",
   "id": "0ad3ffe5",
   "metadata": {},
   "source": [
    "### Обучение на числовых признаках"
   ]
  },
  {
   "cell_type": "markdown",
   "id": "0e0cbf62",
   "metadata": {},
   "source": [
    "Отдельно обучим модель только на числовых признаках."
   ]
  },
  {
   "cell_type": "code",
   "execution_count": 65,
   "id": "577cdc9c",
   "metadata": {},
   "outputs": [],
   "source": [
    "df_numerical = df.select(['longitude', 'latitude', 'housing_median_age', 'total_rooms', \n",
    "                          'total_bedrooms', 'population', 'households', 'median_income', \n",
    "                          'median_house_value', 'numerical_features', \n",
    "                          'numerical_features_scaled'])"
   ]
  },
  {
   "cell_type": "code",
   "execution_count": 66,
   "id": "20df8822",
   "metadata": {},
   "outputs": [
    {
     "name": "stderr",
     "output_type": "stream",
     "text": [
      "                                                                                \r"
     ]
    },
    {
     "name": "stdout",
     "output_type": "stream",
     "text": [
      "15477 5163\n"
     ]
    }
   ],
   "source": [
    "train_data, test_data = df_numerical.randomSplit([.75,.25], seed=RANDOM_SEED)\n",
    "print(train_data.count(), test_data.count())"
   ]
  },
  {
   "cell_type": "code",
   "execution_count": 67,
   "id": "bd6f66eb",
   "metadata": {},
   "outputs": [
    {
     "name": "stderr",
     "output_type": "stream",
     "text": [
      "                                                                                \r"
     ]
    }
   ],
   "source": [
    "lr_numerical = LinearRegression(featuresCol='numerical_features_scaled', \n",
    "                      labelCol=target, maxIter=10, regParam=0.3, elasticNetParam=0.8)\n",
    "model_numerical = lr_numerical.fit(train_data)"
   ]
  },
  {
   "cell_type": "code",
   "execution_count": 68,
   "id": "eaa913e9",
   "metadata": {},
   "outputs": [
    {
     "name": "stdout",
     "output_type": "stream",
     "text": [
      "+------------------+------------------+\n",
      "|        prediction|median_house_value|\n",
      "+------------------+------------------+\n",
      "| 84562.60377605818|           78300.0|\n",
      "|120767.50323410379|           67000.0|\n",
      "|119327.50704700593|           81300.0|\n",
      "| 137651.7899244805|           62500.0|\n",
      "|159299.07395881647|          100600.0|\n",
      "+------------------+------------------+\n",
      "only showing top 5 rows\n",
      "\n"
     ]
    }
   ],
   "source": [
    "lr_num_predictions = model_numerical.transform(test_data)\n",
    "lr_num_predictions.select('prediction', target).show(5)"
   ]
  },
  {
   "cell_type": "code",
   "execution_count": 69,
   "id": "456f42b0",
   "metadata": {},
   "outputs": [
    {
     "name": "stdout",
     "output_type": "stream",
     "text": [
      "RMSE: 69651.235250\n",
      "MAE 51025.298537\n",
      "R2: 0.635525\n"
     ]
    }
   ],
   "source": [
    "trainingSummary = model_numerical.summary\n",
    "print('RMSE: %f' % trainingSummary.rootMeanSquaredError)\n",
    "print('MAE %f' % trainingSummary.meanAbsoluteError)\n",
    "print('R2: %f' % trainingSummary.r2)"
   ]
  },
  {
   "cell_type": "markdown",
   "id": "7aa7a9c4",
   "metadata": {},
   "source": [
    "## Анализ результатов"
   ]
  },
  {
   "cell_type": "markdown",
   "id": "7a0a58a9",
   "metadata": {},
   "source": [
    "В рамках задания мы обучили модель линейной регрессии на данных о жилье в Калифорнии в 1990 г. Нашей задачей было предсказать медианную стоимость жилья в жилом массиве. Для обучения мы использовали два набора данных - со всеми признаками и только с числовыми признаками. На числовых признаках результат по метрике R2 получился чуть лучше - 0.637699."
   ]
  },
  {
   "cell_type": "code",
   "execution_count": null,
   "id": "f42e7bab",
   "metadata": {},
   "outputs": [],
   "source": []
  }
 ],
 "metadata": {
  "ExecuteTimeLog": [
   {
    "duration": 432,
    "start_time": "2023-05-13T09:59:07.168Z"
   },
   {
    "duration": 306,
    "start_time": "2023-05-13T10:02:20.600Z"
   },
   {
    "duration": 3,
    "start_time": "2023-05-13T10:04:45.694Z"
   },
   {
    "duration": 3,
    "start_time": "2023-05-13T10:04:58.185Z"
   },
   {
    "duration": 15553,
    "start_time": "2023-05-13T10:06:56.047Z"
   },
   {
    "duration": 8975,
    "start_time": "2023-05-13T10:09:00.506Z"
   },
   {
    "duration": 1058,
    "start_time": "2023-05-13T10:12:10.629Z"
   },
   {
    "duration": 122,
    "start_time": "2023-05-13T10:23:34.356Z"
   },
   {
    "duration": 5325,
    "start_time": "2023-05-13T10:27:04.971Z"
   },
   {
    "duration": 8,
    "start_time": "2023-05-13T10:29:13.147Z"
   },
   {
    "duration": 4,
    "start_time": "2023-05-13T10:29:14.288Z"
   },
   {
    "duration": 3,
    "start_time": "2023-05-13T10:29:16.879Z"
   },
   {
    "duration": 11,
    "start_time": "2023-05-13T10:29:17.450Z"
   },
   {
    "duration": 707,
    "start_time": "2023-05-13T10:29:18.046Z"
   },
   {
    "duration": 961,
    "start_time": "2023-05-13T10:32:33.527Z"
   },
   {
    "duration": 377,
    "start_time": "2023-05-13T10:35:10.076Z"
   },
   {
    "duration": 4844,
    "start_time": "2023-05-13T10:35:15.612Z"
   },
   {
    "duration": 3,
    "start_time": "2023-05-13T10:35:36.923Z"
   },
   {
    "duration": 4,
    "start_time": "2023-05-13T10:35:37.565Z"
   },
   {
    "duration": 3,
    "start_time": "2023-05-13T10:35:38.073Z"
   },
   {
    "duration": 5,
    "start_time": "2023-05-13T10:35:38.965Z"
   },
   {
    "duration": 588,
    "start_time": "2023-05-13T10:35:39.695Z"
   },
   {
    "duration": 877,
    "start_time": "2023-05-13T10:35:42.091Z"
   },
   {
    "duration": 3841,
    "start_time": "2023-05-13T10:35:44.135Z"
   },
   {
    "duration": 2659,
    "start_time": "2023-05-13T10:36:13.292Z"
   },
   {
    "duration": 3,
    "start_time": "2023-05-13T10:41:43.785Z"
   },
   {
    "duration": 45,
    "start_time": "2023-05-13T10:45:54.039Z"
   },
   {
    "duration": 121,
    "start_time": "2023-05-13T10:46:29.769Z"
   },
   {
    "duration": 739,
    "start_time": "2023-05-14T07:28:14.807Z"
   },
   {
    "duration": 4,
    "start_time": "2023-05-14T07:28:16.778Z"
   },
   {
    "duration": 3,
    "start_time": "2023-05-14T07:28:18.927Z"
   },
   {
    "duration": 16823,
    "start_time": "2023-05-14T07:28:19.780Z"
   },
   {
    "duration": 10773,
    "start_time": "2023-05-14T07:28:37.575Z"
   },
   {
    "duration": 61,
    "start_time": "2023-05-14T07:30:33.853Z"
   },
   {
    "duration": 3,
    "start_time": "2023-05-14T07:32:49.901Z"
   },
   {
    "duration": 358,
    "start_time": "2023-05-14T07:36:01.419Z"
   },
   {
    "duration": 2820,
    "start_time": "2023-05-14T07:36:22.014Z"
   },
   {
    "duration": 548,
    "start_time": "2023-05-14T07:37:47.377Z"
   },
   {
    "duration": 331,
    "start_time": "2023-05-14T07:37:58.974Z"
   },
   {
    "duration": 254,
    "start_time": "2023-05-14T07:38:02.424Z"
   },
   {
    "duration": 315,
    "start_time": "2023-05-14T07:40:09.204Z"
   },
   {
    "duration": 49,
    "start_time": "2023-05-14T07:41:00.388Z"
   },
   {
    "duration": 586,
    "start_time": "2023-05-14T07:41:06.818Z"
   },
   {
    "duration": 12,
    "start_time": "2023-05-14T07:45:20.586Z"
   },
   {
    "duration": 11,
    "start_time": "2023-05-14T07:45:26.185Z"
   },
   {
    "duration": 118,
    "start_time": "2023-05-14T07:45:34.593Z"
   },
   {
    "duration": 166,
    "start_time": "2023-05-14T07:45:40.682Z"
   },
   {
    "duration": 116,
    "start_time": "2023-05-14T07:45:52.357Z"
   },
   {
    "duration": 114,
    "start_time": "2023-05-14T07:45:58.186Z"
   },
   {
    "duration": 6,
    "start_time": "2023-05-14T07:46:02.269Z"
   },
   {
    "duration": 4,
    "start_time": "2023-05-14T07:46:02.868Z"
   },
   {
    "duration": 3,
    "start_time": "2023-05-14T07:46:03.552Z"
   },
   {
    "duration": 8,
    "start_time": "2023-05-14T07:46:04.300Z"
   },
   {
    "duration": 864,
    "start_time": "2023-05-14T07:46:05.269Z"
   },
   {
    "duration": 16,
    "start_time": "2023-05-14T07:46:07.253Z"
   },
   {
    "duration": 3,
    "start_time": "2023-05-14T07:46:08.025Z"
   },
   {
    "duration": 936,
    "start_time": "2023-05-14T07:46:08.997Z"
   },
   {
    "duration": 319,
    "start_time": "2023-05-14T07:46:10.778Z"
   },
   {
    "duration": 59,
    "start_time": "2023-05-14T07:46:14.177Z"
   },
   {
    "duration": 246,
    "start_time": "2023-05-14T07:46:15.056Z"
   },
   {
    "duration": 31,
    "start_time": "2023-05-14T07:46:16.385Z"
   },
   {
    "duration": 8,
    "start_time": "2023-05-14T07:47:51.778Z"
   },
   {
    "duration": 4,
    "start_time": "2023-05-14T07:48:09.910Z"
   },
   {
    "duration": 4,
    "start_time": "2023-05-14T07:48:10.418Z"
   },
   {
    "duration": 3,
    "start_time": "2023-05-14T07:48:10.985Z"
   },
   {
    "duration": 5,
    "start_time": "2023-05-14T07:48:11.570Z"
   },
   {
    "duration": 755,
    "start_time": "2023-05-14T07:48:12.162Z"
   },
   {
    "duration": 14,
    "start_time": "2023-05-14T07:48:13.614Z"
   },
   {
    "duration": 3,
    "start_time": "2023-05-14T07:48:14.609Z"
   },
   {
    "duration": 818,
    "start_time": "2023-05-14T07:48:15.191Z"
   },
   {
    "duration": 294,
    "start_time": "2023-05-14T07:48:16.724Z"
   },
   {
    "duration": 50,
    "start_time": "2023-05-14T07:48:17.694Z"
   },
   {
    "duration": 229,
    "start_time": "2023-05-14T07:48:18.749Z"
   },
   {
    "duration": 24,
    "start_time": "2023-05-14T07:48:19.754Z"
   },
   {
    "duration": 11,
    "start_time": "2023-05-14T07:48:22.183Z"
   },
   {
    "duration": 45,
    "start_time": "2023-05-14T07:48:27.812Z"
   },
   {
    "duration": 12,
    "start_time": "2023-05-14T07:49:07.507Z"
   },
   {
    "duration": 1553,
    "start_time": "2023-05-14T07:50:33.549Z"
   },
   {
    "duration": 6,
    "start_time": "2023-05-14T07:50:47.854Z"
   },
   {
    "duration": 2,
    "start_time": "2023-05-14T07:54:58.290Z"
   },
   {
    "duration": 501,
    "start_time": "2023-05-14T07:56:34.597Z"
   },
   {
    "duration": 3769,
    "start_time": "2023-05-14T07:57:52.350Z"
   },
   {
    "duration": 4,
    "start_time": "2023-05-14T07:59:40.852Z"
   },
   {
    "duration": 402,
    "start_time": "2023-05-14T08:03:48.717Z"
   },
   {
    "duration": 28,
    "start_time": "2023-05-14T08:05:05.100Z"
   },
   {
    "duration": 178,
    "start_time": "2023-05-14T08:05:26.560Z"
   },
   {
    "duration": 135,
    "start_time": "2023-05-14T08:05:58.750Z"
   },
   {
    "duration": 18,
    "start_time": "2023-05-14T08:11:27.062Z"
   },
   {
    "duration": 217,
    "start_time": "2023-05-14T08:11:51.911Z"
   },
   {
    "duration": 18,
    "start_time": "2023-05-14T08:12:04.159Z"
   },
   {
    "duration": 4,
    "start_time": "2023-05-14T08:12:20.646Z"
   },
   {
    "duration": 3,
    "start_time": "2023-05-14T08:12:21.591Z"
   },
   {
    "duration": 3,
    "start_time": "2023-05-14T08:12:22.310Z"
   },
   {
    "duration": 4,
    "start_time": "2023-05-14T08:12:23.036Z"
   },
   {
    "duration": 610,
    "start_time": "2023-05-14T08:12:24.195Z"
   },
   {
    "duration": 10,
    "start_time": "2023-05-14T08:12:25.829Z"
   },
   {
    "duration": 3,
    "start_time": "2023-05-14T08:12:27.610Z"
   },
   {
    "duration": 615,
    "start_time": "2023-05-14T08:12:28.918Z"
   },
   {
    "duration": 215,
    "start_time": "2023-05-14T08:12:30.491Z"
   },
   {
    "duration": 43,
    "start_time": "2023-05-14T08:12:31.611Z"
   },
   {
    "duration": 149,
    "start_time": "2023-05-14T08:12:32.759Z"
   },
   {
    "duration": 26,
    "start_time": "2023-05-14T08:12:34.198Z"
   },
   {
    "duration": 22,
    "start_time": "2023-05-14T08:12:34.959Z"
   },
   {
    "duration": 809,
    "start_time": "2023-05-14T08:12:35.896Z"
   },
   {
    "duration": 13,
    "start_time": "2023-05-14T08:12:38.491Z"
   },
   {
    "duration": 3,
    "start_time": "2023-05-14T08:12:44.543Z"
   },
   {
    "duration": 252,
    "start_time": "2023-05-14T08:12:45.351Z"
   },
   {
    "duration": 1709,
    "start_time": "2023-05-14T08:12:48.510Z"
   },
   {
    "duration": 6003,
    "start_time": "2023-05-14T08:12:52.426Z"
   },
   {
    "duration": 8,
    "start_time": "2023-05-14T08:15:08.518Z"
   },
   {
    "duration": 5,
    "start_time": "2023-05-14T08:16:56.930Z"
   },
   {
    "duration": 4,
    "start_time": "2023-05-14T08:18:48.072Z"
   },
   {
    "duration": 9,
    "start_time": "2023-05-14T08:23:41.997Z"
   },
   {
    "duration": 3269,
    "start_time": "2023-05-14T08:24:02.793Z"
   },
   {
    "duration": 7,
    "start_time": "2023-05-14T08:24:06.947Z"
   },
   {
    "duration": 7,
    "start_time": "2023-05-14T08:24:08.226Z"
   },
   {
    "duration": 2560,
    "start_time": "2023-05-14T08:24:15.541Z"
   },
   {
    "duration": 4,
    "start_time": "2023-05-14T08:24:20.762Z"
   },
   {
    "duration": 5,
    "start_time": "2023-05-14T08:24:21.591Z"
   },
   {
    "duration": 26,
    "start_time": "2023-05-14T08:30:32.115Z"
   },
   {
    "duration": 20,
    "start_time": "2023-05-14T08:30:55.323Z"
   },
   {
    "duration": 362,
    "start_time": "2023-05-14T08:31:03.319Z"
   },
   {
    "duration": 273,
    "start_time": "2023-05-14T08:31:35.814Z"
   },
   {
    "duration": 7,
    "start_time": "2023-05-14T08:31:39.598Z"
   },
   {
    "duration": 9,
    "start_time": "2023-05-14T08:31:40.297Z"
   },
   {
    "duration": 2,
    "start_time": "2023-05-14T08:31:40.860Z"
   },
   {
    "duration": 7,
    "start_time": "2023-05-14T08:31:41.521Z"
   },
   {
    "duration": 340,
    "start_time": "2023-05-14T08:31:42.293Z"
   },
   {
    "duration": 19,
    "start_time": "2023-05-14T08:31:43.551Z"
   },
   {
    "duration": 4,
    "start_time": "2023-05-14T08:31:44.349Z"
   },
   {
    "duration": 470,
    "start_time": "2023-05-14T08:31:44.995Z"
   },
   {
    "duration": 189,
    "start_time": "2023-05-14T08:31:46.214Z"
   },
   {
    "duration": 45,
    "start_time": "2023-05-14T08:31:47.052Z"
   },
   {
    "duration": 142,
    "start_time": "2023-05-14T08:31:48.036Z"
   },
   {
    "duration": 21,
    "start_time": "2023-05-14T08:31:48.929Z"
   },
   {
    "duration": 22,
    "start_time": "2023-05-14T08:31:49.657Z"
   },
   {
    "duration": 477,
    "start_time": "2023-05-14T08:31:50.648Z"
   },
   {
    "duration": 6,
    "start_time": "2023-05-14T08:31:52.034Z"
   },
   {
    "duration": 4,
    "start_time": "2023-05-14T08:31:52.925Z"
   },
   {
    "duration": 171,
    "start_time": "2023-05-14T08:31:54.324Z"
   },
   {
    "duration": 1658,
    "start_time": "2023-05-14T08:31:55.416Z"
   },
   {
    "duration": 2564,
    "start_time": "2023-05-14T08:31:58.238Z"
   },
   {
    "duration": 6,
    "start_time": "2023-05-14T08:32:01.721Z"
   },
   {
    "duration": 10,
    "start_time": "2023-05-14T08:32:03.802Z"
   },
   {
    "duration": 258,
    "start_time": "2023-05-14T08:33:36.625Z"
   },
   {
    "duration": 3122,
    "start_time": "2023-05-14T08:35:13.536Z"
   },
   {
    "duration": 4,
    "start_time": "2023-05-14T09:02:09.162Z"
   },
   {
    "duration": 9,
    "start_time": "2023-05-14T09:06:23.295Z"
   },
   {
    "duration": 41,
    "start_time": "2023-05-14T09:09:51.691Z"
   },
   {
    "duration": 9,
    "start_time": "2023-05-14T09:10:09.157Z"
   },
   {
    "duration": 3,
    "start_time": "2023-05-14T09:10:20.073Z"
   },
   {
    "duration": 10,
    "start_time": "2023-05-14T09:10:21.121Z"
   },
   {
    "duration": 4,
    "start_time": "2023-05-14T09:10:34.483Z"
   },
   {
    "duration": 4,
    "start_time": "2023-05-14T09:10:38.571Z"
   },
   {
    "duration": 2,
    "start_time": "2023-05-14T09:10:43.722Z"
   },
   {
    "duration": 7,
    "start_time": "2023-05-14T09:10:46.206Z"
   },
   {
    "duration": 420,
    "start_time": "2023-05-14T09:10:49.224Z"
   },
   {
    "duration": 13,
    "start_time": "2023-05-14T09:10:54.495Z"
   },
   {
    "duration": 3,
    "start_time": "2023-05-14T09:11:12.863Z"
   },
   {
    "duration": 504,
    "start_time": "2023-05-14T09:11:25.444Z"
   },
   {
    "duration": 194,
    "start_time": "2023-05-14T09:11:40.221Z"
   },
   {
    "duration": 19,
    "start_time": "2023-05-14T09:11:51.952Z"
   },
   {
    "duration": 23,
    "start_time": "2023-05-14T09:11:54.317Z"
   },
   {
    "duration": 338,
    "start_time": "2023-05-14T09:11:58.417Z"
   },
   {
    "duration": 5,
    "start_time": "2023-05-14T09:12:01.847Z"
   },
   {
    "duration": 10,
    "start_time": "2023-05-14T09:12:07.416Z"
   },
   {
    "duration": 214,
    "start_time": "2023-05-14T09:12:18.995Z"
   },
   {
    "duration": 885,
    "start_time": "2023-05-14T09:12:43.163Z"
   },
   {
    "duration": 1769,
    "start_time": "2023-05-14T09:12:49.565Z"
   },
   {
    "duration": 6,
    "start_time": "2023-05-14T09:13:01.927Z"
   },
   {
    "duration": 256,
    "start_time": "2023-05-14T09:13:41.860Z"
   },
   {
    "duration": 4,
    "start_time": "2023-05-14T09:14:30.558Z"
   },
   {
    "duration": 26,
    "start_time": "2023-05-14T09:15:39.194Z"
   },
   {
    "duration": 1919,
    "start_time": "2023-05-14T09:15:58.812Z"
   },
   {
    "duration": 4,
    "start_time": "2023-05-14T09:19:35.499Z"
   },
   {
    "duration": 4,
    "start_time": "2023-05-14T09:19:38.708Z"
   },
   {
    "duration": 2,
    "start_time": "2023-05-14T09:19:40.461Z"
   },
   {
    "duration": 5,
    "start_time": "2023-05-14T09:19:42.707Z"
   },
   {
    "duration": 455,
    "start_time": "2023-05-14T09:19:46.804Z"
   },
   {
    "duration": 652,
    "start_time": "2023-05-14T09:22:33.553Z"
   },
   {
    "duration": 16,
    "start_time": "2023-05-14T09:22:53.400Z"
   },
   {
    "duration": 15,
    "start_time": "2023-05-14T09:23:29.502Z"
   },
   {
    "duration": 12,
    "start_time": "2023-05-14T09:23:36.120Z"
   },
   {
    "duration": 11,
    "start_time": "2023-05-14T09:23:47.142Z"
   },
   {
    "duration": 13,
    "start_time": "2023-05-14T09:24:36.104Z"
   },
   {
    "duration": 8,
    "start_time": "2023-05-14T09:24:51.199Z"
   },
   {
    "duration": 8,
    "start_time": "2023-05-14T09:25:05.554Z"
   },
   {
    "duration": 1959,
    "start_time": "2023-05-14T09:26:56.945Z"
   },
   {
    "duration": 1022,
    "start_time": "2023-05-14T09:27:10.792Z"
   },
   {
    "duration": 13,
    "start_time": "2023-05-14T09:27:36.908Z"
   },
   {
    "duration": 4,
    "start_time": "2023-05-14T09:28:32.866Z"
   },
   {
    "duration": 4,
    "start_time": "2023-05-14T09:28:33.505Z"
   },
   {
    "duration": 3,
    "start_time": "2023-05-14T09:28:34.116Z"
   },
   {
    "duration": 4,
    "start_time": "2023-05-14T09:28:34.708Z"
   },
   {
    "duration": 426,
    "start_time": "2023-05-14T09:28:35.421Z"
   },
   {
    "duration": 408,
    "start_time": "2023-05-14T09:28:39.605Z"
   },
   {
    "duration": 9,
    "start_time": "2023-05-14T09:28:46.704Z"
   },
   {
    "duration": 8,
    "start_time": "2023-05-14T09:28:59.946Z"
   },
   {
    "duration": 4,
    "start_time": "2023-05-14T09:35:02.561Z"
   },
   {
    "duration": 5,
    "start_time": "2023-05-14T09:35:03.152Z"
   },
   {
    "duration": 2,
    "start_time": "2023-05-14T09:35:03.675Z"
   },
   {
    "duration": 4,
    "start_time": "2023-05-14T09:35:04.354Z"
   },
   {
    "duration": 293,
    "start_time": "2023-05-14T09:35:07.058Z"
   },
   {
    "duration": 2186,
    "start_time": "2023-05-14T09:35:22.360Z"
   },
   {
    "duration": 2700,
    "start_time": "2023-05-14T09:41:15.860Z"
   },
   {
    "duration": 6,
    "start_time": "2023-05-14T09:41:25.496Z"
   },
   {
    "duration": 1905,
    "start_time": "2023-05-14T09:41:40.205Z"
   },
   {
    "duration": 3195,
    "start_time": "2023-05-14T09:41:44.289Z"
   },
   {
    "duration": 6,
    "start_time": "2023-05-14T09:41:48.273Z"
   },
   {
    "duration": 2794,
    "start_time": "2023-05-14T09:41:50.809Z"
   },
   {
    "duration": 8,
    "start_time": "2023-05-14T09:41:53.605Z"
   },
   {
    "duration": 4,
    "start_time": "2023-05-14T09:43:35.067Z"
   },
   {
    "duration": 5,
    "start_time": "2023-05-14T09:43:56.218Z"
   },
   {
    "duration": 3,
    "start_time": "2023-05-14T09:44:06.155Z"
   },
   {
    "duration": 6,
    "start_time": "2023-05-14T09:44:09.096Z"
   },
   {
    "duration": 379,
    "start_time": "2023-05-14T09:44:15.055Z"
   },
   {
    "duration": 1638,
    "start_time": "2023-05-14T09:44:32.973Z"
   },
   {
    "duration": 10,
    "start_time": "2023-05-14T09:48:26.248Z"
   },
   {
    "duration": 3,
    "start_time": "2023-05-14T09:48:27.001Z"
   },
   {
    "duration": 468,
    "start_time": "2023-05-14T09:48:27.908Z"
   },
   {
    "duration": 208,
    "start_time": "2023-05-14T09:48:31.394Z"
   },
   {
    "duration": 17,
    "start_time": "2023-05-14T09:48:33.606Z"
   },
   {
    "duration": 21,
    "start_time": "2023-05-14T09:48:35.905Z"
   },
   {
    "duration": 352,
    "start_time": "2023-05-14T09:48:38.104Z"
   },
   {
    "duration": 5,
    "start_time": "2023-05-14T09:48:39.260Z"
   },
   {
    "duration": 4,
    "start_time": "2023-05-14T09:49:08.509Z"
   },
   {
    "duration": 178,
    "start_time": "2023-05-14T09:49:11.030Z"
   },
   {
    "duration": 4,
    "start_time": "2023-05-14T09:49:14.754Z"
   },
   {
    "duration": 2169,
    "start_time": "2023-05-14T09:49:39.967Z"
   },
   {
    "duration": 3199,
    "start_time": "2023-05-14T09:49:43.696Z"
   },
   {
    "duration": 5,
    "start_time": "2023-05-14T09:49:48.458Z"
   },
   {
    "duration": 35,
    "start_time": "2023-05-14T09:51:30.488Z"
   },
   {
    "duration": 4,
    "start_time": "2023-05-14T09:53:39.602Z"
   },
   {
    "duration": 3,
    "start_time": "2023-05-14T09:53:40.366Z"
   },
   {
    "duration": 3,
    "start_time": "2023-05-14T09:53:40.967Z"
   },
   {
    "duration": 4,
    "start_time": "2023-05-14T09:53:43.654Z"
   },
   {
    "duration": 292,
    "start_time": "2023-05-14T09:53:44.389Z"
   },
   {
    "duration": 1286,
    "start_time": "2023-05-14T09:53:46.417Z"
   },
   {
    "duration": 11,
    "start_time": "2023-05-14T09:53:49.568Z"
   },
   {
    "duration": 3,
    "start_time": "2023-05-14T09:53:51.025Z"
   },
   {
    "duration": 582,
    "start_time": "2023-05-14T09:53:51.796Z"
   },
   {
    "duration": 223,
    "start_time": "2023-05-14T09:53:54.562Z"
   },
   {
    "duration": 25,
    "start_time": "2023-05-14T09:53:56.622Z"
   },
   {
    "duration": 20,
    "start_time": "2023-05-14T09:53:58.066Z"
   },
   {
    "duration": 256,
    "start_time": "2023-05-14T09:53:58.665Z"
   },
   {
    "duration": 5,
    "start_time": "2023-05-14T09:53:59.293Z"
   },
   {
    "duration": 4,
    "start_time": "2023-05-14T09:54:04.707Z"
   },
   {
    "duration": 275,
    "start_time": "2023-05-14T09:54:06.767Z"
   },
   {
    "duration": 5,
    "start_time": "2023-05-14T09:54:10.756Z"
   },
   {
    "duration": 1308,
    "start_time": "2023-05-14T09:54:12.812Z"
   },
   {
    "duration": 1945,
    "start_time": "2023-05-14T09:54:14.964Z"
   },
   {
    "duration": 5,
    "start_time": "2023-05-14T09:54:18.964Z"
   },
   {
    "duration": 29,
    "start_time": "2023-05-14T09:54:23.808Z"
   },
   {
    "duration": 1459,
    "start_time": "2023-05-14T09:54:47.189Z"
   },
   {
    "duration": 27,
    "start_time": "2023-05-14T09:55:03.024Z"
   },
   {
    "duration": 13,
    "start_time": "2023-05-14T09:55:21.589Z"
   },
   {
    "duration": 5,
    "start_time": "2023-05-14T09:55:34.696Z"
   },
   {
    "duration": 990,
    "start_time": "2023-05-14T09:55:52.050Z"
   },
   {
    "duration": 711,
    "start_time": "2023-05-14T09:56:08.696Z"
   },
   {
    "duration": 2693,
    "start_time": "2023-05-14T09:57:44.105Z"
   },
   {
    "duration": 33,
    "start_time": "2023-05-14T09:59:29.755Z"
   },
   {
    "duration": 465,
    "start_time": "2023-05-14T09:59:41.142Z"
   },
   {
    "duration": 190,
    "start_time": "2023-05-14T09:59:53.116Z"
   },
   {
    "duration": 3,
    "start_time": "2023-05-14T10:00:02.095Z"
   },
   {
    "duration": 4,
    "start_time": "2023-05-14T10:00:02.904Z"
   },
   {
    "duration": 2,
    "start_time": "2023-05-14T10:00:03.518Z"
   },
   {
    "duration": 4,
    "start_time": "2023-05-14T10:00:04.243Z"
   },
   {
    "duration": 303,
    "start_time": "2023-05-14T10:00:05.097Z"
   },
   {
    "duration": 845,
    "start_time": "2023-05-14T10:00:06.154Z"
   },
   {
    "duration": 11,
    "start_time": "2023-05-14T10:00:07.630Z"
   },
   {
    "duration": 3,
    "start_time": "2023-05-14T10:00:08.261Z"
   },
   {
    "duration": 519,
    "start_time": "2023-05-14T10:00:09.414Z"
   },
   {
    "duration": 198,
    "start_time": "2023-05-14T10:00:10.622Z"
   },
   {
    "duration": 23,
    "start_time": "2023-05-14T10:00:11.494Z"
   },
   {
    "duration": 46,
    "start_time": "2023-05-14T10:00:12.228Z"
   },
   {
    "duration": 394,
    "start_time": "2023-05-14T10:00:12.837Z"
   },
   {
    "duration": 7,
    "start_time": "2023-05-14T10:00:13.969Z"
   },
   {
    "duration": 3,
    "start_time": "2023-05-14T10:00:14.702Z"
   },
   {
    "duration": 171,
    "start_time": "2023-05-14T10:00:15.841Z"
   },
   {
    "duration": 6,
    "start_time": "2023-05-14T10:00:16.865Z"
   },
   {
    "duration": 1369,
    "start_time": "2023-05-14T10:00:19.530Z"
   },
   {
    "duration": 2908,
    "start_time": "2023-05-14T10:00:20.902Z"
   },
   {
    "duration": 1224,
    "start_time": "2023-05-14T10:00:25.998Z"
   },
   {
    "duration": 8,
    "start_time": "2023-05-14T10:00:29.420Z"
   },
   {
    "duration": 67,
    "start_time": "2023-05-14T10:00:37.631Z"
   },
   {
    "duration": 1273,
    "start_time": "2023-05-14T10:00:38.644Z"
   },
   {
    "duration": 1866,
    "start_time": "2023-05-14T10:00:41.365Z"
   },
   {
    "duration": 463,
    "start_time": "2023-05-14T10:00:45.288Z"
   },
   {
    "duration": 6,
    "start_time": "2023-05-14T10:00:57.150Z"
   },
   {
    "duration": 3,
    "start_time": "2023-05-14T10:06:29.205Z"
   },
   {
    "duration": 3,
    "start_time": "2023-05-14T10:06:29.835Z"
   },
   {
    "duration": 2,
    "start_time": "2023-05-14T10:06:30.619Z"
   },
   {
    "duration": 4,
    "start_time": "2023-05-14T10:06:31.497Z"
   },
   {
    "duration": 236,
    "start_time": "2023-05-14T10:06:32.225Z"
   },
   {
    "duration": 667,
    "start_time": "2023-05-14T10:06:35.163Z"
   },
   {
    "duration": 10,
    "start_time": "2023-05-14T10:06:38.630Z"
   },
   {
    "duration": 3,
    "start_time": "2023-05-14T10:06:44.328Z"
   },
   {
    "duration": 417,
    "start_time": "2023-05-14T10:06:52.320Z"
   },
   {
    "duration": 162,
    "start_time": "2023-05-14T10:06:58.005Z"
   },
   {
    "duration": 20,
    "start_time": "2023-05-14T10:07:00.304Z"
   },
   {
    "duration": 23,
    "start_time": "2023-05-14T10:07:02.408Z"
   },
   {
    "duration": 276,
    "start_time": "2023-05-14T10:07:03.158Z"
   },
   {
    "duration": 6,
    "start_time": "2023-05-14T10:07:11.055Z"
   },
   {
    "duration": 3,
    "start_time": "2023-05-14T10:07:13.696Z"
   },
   {
    "duration": 160,
    "start_time": "2023-05-14T10:07:16.647Z"
   },
   {
    "duration": 989,
    "start_time": "2023-05-14T10:07:31.027Z"
   },
   {
    "duration": 1842,
    "start_time": "2023-05-14T10:08:11.335Z"
   },
   {
    "duration": 707,
    "start_time": "2023-05-14T10:08:38.199Z"
   },
   {
    "duration": 8,
    "start_time": "2023-05-14T10:08:55.303Z"
   },
   {
    "duration": 34,
    "start_time": "2023-05-14T10:09:07.607Z"
   },
   {
    "duration": 761,
    "start_time": "2023-05-14T10:09:10.495Z"
   },
   {
    "duration": 1326,
    "start_time": "2023-05-14T10:09:35.539Z"
   },
   {
    "duration": 398,
    "start_time": "2023-05-14T10:09:59.210Z"
   },
   {
    "duration": 6,
    "start_time": "2023-05-14T10:10:35.961Z"
   },
   {
    "duration": 5,
    "start_time": "2023-05-14T10:15:41.926Z"
   },
   {
    "duration": 4,
    "start_time": "2023-05-14T10:15:43.003Z"
   },
   {
    "duration": 3,
    "start_time": "2023-05-14T10:15:45.262Z"
   },
   {
    "duration": 4,
    "start_time": "2023-05-14T10:15:46.165Z"
   },
   {
    "duration": 253,
    "start_time": "2023-05-14T10:15:48.324Z"
   },
   {
    "duration": 245,
    "start_time": "2023-05-14T10:16:31.880Z"
   },
   {
    "duration": 608,
    "start_time": "2023-05-14T10:17:25.828Z"
   },
   {
    "duration": 12,
    "start_time": "2023-05-14T10:17:27.433Z"
   },
   {
    "duration": 3,
    "start_time": "2023-05-14T10:18:29.196Z"
   },
   {
    "duration": 391,
    "start_time": "2023-05-14T10:20:15.557Z"
   },
   {
    "duration": 156,
    "start_time": "2023-05-14T10:20:18.419Z"
   },
   {
    "duration": 16,
    "start_time": "2023-05-14T10:21:07.518Z"
   },
   {
    "duration": 22,
    "start_time": "2023-05-14T10:21:31.200Z"
   },
   {
    "duration": 279,
    "start_time": "2023-05-14T10:21:32.891Z"
   },
   {
    "duration": 5,
    "start_time": "2023-05-14T10:22:16.200Z"
   },
   {
    "duration": 3,
    "start_time": "2023-05-14T10:22:58.756Z"
   },
   {
    "duration": 126,
    "start_time": "2023-05-14T10:23:05.743Z"
   },
   {
    "duration": 917,
    "start_time": "2023-05-14T10:23:26.102Z"
   },
   {
    "duration": 2038,
    "start_time": "2023-05-14T10:24:18.762Z"
   },
   {
    "duration": 459,
    "start_time": "2023-05-14T10:24:57.112Z"
   },
   {
    "duration": 10,
    "start_time": "2023-05-14T10:25:21.924Z"
   },
   {
    "duration": 22,
    "start_time": "2023-05-14T10:25:43.852Z"
   },
   {
    "duration": 1078,
    "start_time": "2023-05-14T10:25:46.541Z"
   },
   {
    "duration": 1119,
    "start_time": "2023-05-14T10:25:48.427Z"
   },
   {
    "duration": 279,
    "start_time": "2023-05-14T10:25:50.350Z"
   },
   {
    "duration": 7,
    "start_time": "2023-05-14T10:25:51.654Z"
   },
   {
    "duration": 20,
    "start_time": "2023-05-14T10:30:31.625Z"
   },
   {
    "duration": 1127,
    "start_time": "2023-05-14T10:30:54.587Z"
   },
   {
    "duration": 424,
    "start_time": "2023-05-14T10:31:52.722Z"
   },
   {
    "duration": 331,
    "start_time": "2023-05-14T10:32:02.515Z"
   },
   {
    "duration": 7,
    "start_time": "2023-05-14T10:32:25.218Z"
   },
   {
    "duration": 624,
    "start_time": "2023-05-15T07:21:27.119Z"
   },
   {
    "duration": 3,
    "start_time": "2023-05-15T07:21:30.752Z"
   },
   {
    "duration": 2,
    "start_time": "2023-05-15T07:21:34.076Z"
   },
   {
    "duration": 14221,
    "start_time": "2023-05-15T07:21:35.614Z"
   },
   {
    "duration": 7776,
    "start_time": "2023-05-15T07:21:54.155Z"
   },
   {
    "duration": 4117,
    "start_time": "2023-05-15T07:22:06.404Z"
   },
   {
    "duration": 17,
    "start_time": "2023-05-15T07:22:15.495Z"
   },
   {
    "duration": 3,
    "start_time": "2023-05-15T07:22:17.710Z"
   },
   {
    "duration": 1877,
    "start_time": "2023-05-15T07:22:29.450Z"
   },
   {
    "duration": 517,
    "start_time": "2023-05-15T07:22:34.817Z"
   },
   {
    "duration": 56,
    "start_time": "2023-05-15T07:22:44.151Z"
   },
   {
    "duration": 30,
    "start_time": "2023-05-15T07:22:45.527Z"
   },
   {
    "duration": 1119,
    "start_time": "2023-05-15T07:22:46.388Z"
   },
   {
    "duration": 4,
    "start_time": "2023-05-15T07:22:50.978Z"
   },
   {
    "duration": 3,
    "start_time": "2023-05-15T07:22:53.404Z"
   },
   {
    "duration": 354,
    "start_time": "2023-05-15T07:22:56.676Z"
   },
   {
    "duration": 3176,
    "start_time": "2023-05-15T07:23:20.258Z"
   },
   {
    "duration": 3803,
    "start_time": "2023-05-15T07:23:29.035Z"
   },
   {
    "duration": 777,
    "start_time": "2023-05-15T07:23:34.783Z"
   },
   {
    "duration": 8,
    "start_time": "2023-05-15T07:23:53.418Z"
   },
   {
    "duration": 31,
    "start_time": "2023-05-15T07:24:01.476Z"
   },
   {
    "duration": 1086,
    "start_time": "2023-05-15T07:24:02.730Z"
   },
   {
    "duration": 1707,
    "start_time": "2023-05-15T07:24:04.908Z"
   },
   {
    "duration": 473,
    "start_time": "2023-05-15T07:24:07.560Z"
   },
   {
    "duration": 4,
    "start_time": "2023-05-15T07:24:11.880Z"
   },
   {
    "duration": 737,
    "start_time": "2023-05-15T07:32:48.386Z"
   },
   {
    "duration": 4,
    "start_time": "2023-05-15T07:32:49.126Z"
   },
   {
    "duration": 6,
    "start_time": "2023-05-15T07:32:49.132Z"
   },
   {
    "duration": 16454,
    "start_time": "2023-05-15T07:32:49.140Z"
   },
   {
    "duration": 10099,
    "start_time": "2023-05-15T07:33:05.598Z"
   },
   {
    "duration": 5489,
    "start_time": "2023-05-15T07:33:15.699Z"
   },
   {
    "duration": 21,
    "start_time": "2023-05-15T07:33:21.190Z"
   },
   {
    "duration": 4,
    "start_time": "2023-05-15T07:33:21.278Z"
   },
   {
    "duration": 2123,
    "start_time": "2023-05-15T07:33:21.284Z"
   },
   {
    "duration": 989,
    "start_time": "2023-05-15T07:33:23.409Z"
   },
   {
    "duration": 115,
    "start_time": "2023-05-15T07:33:24.400Z"
   },
   {
    "duration": 39,
    "start_time": "2023-05-15T07:33:24.578Z"
   },
   {
    "duration": 1759,
    "start_time": "2023-05-15T07:33:24.619Z"
   },
   {
    "duration": 7,
    "start_time": "2023-05-15T07:33:26.381Z"
   },
   {
    "duration": 3,
    "start_time": "2023-05-15T07:33:26.390Z"
   },
   {
    "duration": 598,
    "start_time": "2023-05-15T07:33:26.394Z"
   },
   {
    "duration": 4587,
    "start_time": "2023-05-15T07:33:26.995Z"
   },
   {
    "duration": 6335,
    "start_time": "2023-05-15T07:33:31.584Z"
   },
   {
    "duration": 1205,
    "start_time": "2023-05-15T07:33:37.979Z"
   },
   {
    "duration": 13,
    "start_time": "2023-05-15T07:33:39.187Z"
   },
   {
    "duration": 99,
    "start_time": "2023-05-15T07:33:39.202Z"
   },
   {
    "duration": 1651,
    "start_time": "2023-05-15T07:33:39.303Z"
   },
   {
    "duration": 2654,
    "start_time": "2023-05-15T07:33:40.956Z"
   },
   {
    "duration": 663,
    "start_time": "2023-05-15T07:33:43.612Z"
   },
   {
    "duration": 7,
    "start_time": "2023-05-15T07:33:44.277Z"
   },
   {
    "duration": 122,
    "start_time": "2023-05-15T07:40:51.051Z"
   },
   {
    "duration": 156,
    "start_time": "2023-05-15T07:50:04.086Z"
   },
   {
    "duration": 4,
    "start_time": "2023-05-15T08:11:38.836Z"
   },
   {
    "duration": 3,
    "start_time": "2023-05-15T08:11:39.601Z"
   },
   {
    "duration": 3,
    "start_time": "2023-05-15T08:11:40.161Z"
   },
   {
    "duration": 4,
    "start_time": "2023-05-15T08:11:43.018Z"
   },
   {
    "duration": 455,
    "start_time": "2023-05-15T08:11:46.985Z"
   },
   {
    "duration": 1207,
    "start_time": "2023-05-15T08:11:52.331Z"
   },
   {
    "duration": 553,
    "start_time": "2023-05-15T08:13:00.254Z"
   },
   {
    "duration": 7,
    "start_time": "2023-05-15T08:13:16.767Z"
   },
   {
    "duration": 4,
    "start_time": "2023-05-15T08:17:46.013Z"
   },
   {
    "duration": 8,
    "start_time": "2023-05-15T08:18:04.927Z"
   },
   {
    "duration": 421,
    "start_time": "2023-05-15T08:18:23.716Z"
   },
   {
    "duration": 778,
    "start_time": "2023-05-15T08:19:56.981Z"
   },
   {
    "duration": 255,
    "start_time": "2023-05-15T09:53:27.858Z"
   },
   {
    "duration": 862,
    "start_time": "2023-05-15T09:55:03.790Z"
   },
   {
    "duration": 738,
    "start_time": "2023-05-16T07:32:14.508Z"
   },
   {
    "duration": 3,
    "start_time": "2023-05-16T07:32:16.313Z"
   },
   {
    "duration": 3,
    "start_time": "2023-05-16T07:32:17.347Z"
   },
   {
    "duration": 15794,
    "start_time": "2023-05-16T07:32:18.031Z"
   },
   {
    "duration": 9099,
    "start_time": "2023-05-16T07:32:33.828Z"
   },
   {
    "duration": 4725,
    "start_time": "2023-05-16T07:32:46.912Z"
   },
   {
    "duration": 788,
    "start_time": "2023-05-16T07:32:54.420Z"
   },
   {
    "duration": 86,
    "start_time": "2023-05-16T07:39:53.840Z"
   },
   {
    "duration": 4,
    "start_time": "2023-05-16T07:42:15.542Z"
   },
   {
    "duration": 10,
    "start_time": "2023-05-16T07:42:21.942Z"
   },
   {
    "duration": 35,
    "start_time": "2023-05-16T07:43:20.815Z"
   },
   {
    "duration": 727,
    "start_time": "2023-05-16T07:45:50.989Z"
   },
   {
    "duration": 479,
    "start_time": "2023-05-16T07:45:57.547Z"
   },
   {
    "duration": 10,
    "start_time": "2023-05-16T07:46:06.085Z"
   },
   {
    "duration": 473,
    "start_time": "2023-05-16T07:46:10.445Z"
   },
   {
    "duration": 2521,
    "start_time": "2023-05-16T07:46:31.914Z"
   },
   {
    "duration": 5,
    "start_time": "2023-05-16T07:53:15.692Z"
   },
   {
    "duration": 3,
    "start_time": "2023-05-16T07:53:24.039Z"
   },
   {
    "duration": 3,
    "start_time": "2023-05-16T07:53:24.810Z"
   },
   {
    "duration": 4,
    "start_time": "2023-05-16T07:53:25.475Z"
   },
   {
    "duration": 651,
    "start_time": "2023-05-16T07:53:27.577Z"
   },
   {
    "duration": 1406,
    "start_time": "2023-05-16T07:53:30.625Z"
   },
   {
    "duration": 2,
    "start_time": "2023-05-16T07:53:48.428Z"
   },
   {
    "duration": 3,
    "start_time": "2023-05-16T07:53:51.414Z"
   },
   {
    "duration": 2,
    "start_time": "2023-05-16T07:53:51.913Z"
   },
   {
    "duration": 2,
    "start_time": "2023-05-16T07:53:53.173Z"
   },
   {
    "duration": 491,
    "start_time": "2023-05-16T07:55:11.217Z"
   },
   {
    "duration": 11,
    "start_time": "2023-05-16T07:56:07.612Z"
   },
   {
    "duration": 15,
    "start_time": "2023-05-16T07:56:32.454Z"
   },
   {
    "duration": 332,
    "start_time": "2023-05-16T07:56:53.883Z"
   },
   {
    "duration": 40,
    "start_time": "2023-05-16T08:00:34.267Z"
   },
   {
    "duration": 287,
    "start_time": "2023-05-16T08:01:31.146Z"
   },
   {
    "duration": 11,
    "start_time": "2023-05-16T08:05:01.625Z"
   },
   {
    "duration": 25,
    "start_time": "2023-05-16T08:05:14.225Z"
   },
   {
    "duration": 2,
    "start_time": "2023-05-16T08:05:23.844Z"
   },
   {
    "duration": 1695,
    "start_time": "2023-05-16T08:05:24.811Z"
   },
   {
    "duration": 250,
    "start_time": "2023-05-16T08:07:11.176Z"
   },
   {
    "duration": 4,
    "start_time": "2023-05-16T08:07:30.782Z"
   },
   {
    "duration": 57,
    "start_time": "2023-05-16T08:07:30.788Z"
   },
   {
    "duration": 82,
    "start_time": "2023-05-16T08:07:30.848Z"
   },
   {
    "duration": 80,
    "start_time": "2023-05-16T08:07:30.932Z"
   },
   {
    "duration": 786,
    "start_time": "2023-05-16T08:07:31.015Z"
   },
   {
    "duration": 1517,
    "start_time": "2023-05-16T08:07:31.802Z"
   },
   {
    "duration": 3,
    "start_time": "2023-05-16T08:07:33.322Z"
   },
   {
    "duration": 71,
    "start_time": "2023-05-16T08:07:33.327Z"
   },
   {
    "duration": 4,
    "start_time": "2023-05-16T08:07:33.400Z"
   },
   {
    "duration": 35,
    "start_time": "2023-05-16T08:07:33.407Z"
   },
   {
    "duration": 393,
    "start_time": "2023-05-16T08:07:33.445Z"
   },
   {
    "duration": 74,
    "start_time": "2023-05-16T08:07:33.840Z"
   },
   {
    "duration": 6,
    "start_time": "2023-05-16T08:07:33.916Z"
   },
   {
    "duration": 1692,
    "start_time": "2023-05-16T08:07:33.926Z"
   },
   {
    "duration": 5,
    "start_time": "2023-05-16T08:07:35.620Z"
   },
   {
    "duration": 2200,
    "start_time": "2023-05-16T08:07:35.627Z"
   },
   {
    "duration": 1006,
    "start_time": "2023-05-16T08:07:37.829Z"
   },
   {
    "duration": 178,
    "start_time": "2023-05-16T08:07:38.837Z"
   },
   {
    "duration": 105,
    "start_time": "2023-05-16T08:07:39.017Z"
   },
   {
    "duration": 1686,
    "start_time": "2023-05-16T08:07:39.125Z"
   },
   {
    "duration": 7,
    "start_time": "2023-05-16T08:07:40.815Z"
   },
   {
    "duration": 74,
    "start_time": "2023-05-16T08:07:40.824Z"
   },
   {
    "duration": 524,
    "start_time": "2023-05-16T08:07:40.905Z"
   },
   {
    "duration": 3868,
    "start_time": "2023-05-16T08:07:41.431Z"
   },
   {
    "duration": 6234,
    "start_time": "2023-05-16T08:07:45.301Z"
   },
   {
    "duration": 1300,
    "start_time": "2023-05-16T08:07:51.599Z"
   },
   {
    "duration": 19,
    "start_time": "2023-05-16T08:07:52.901Z"
   },
   {
    "duration": 103,
    "start_time": "2023-05-16T08:07:52.922Z"
   },
   {
    "duration": 1877,
    "start_time": "2023-05-16T08:07:53.027Z"
   },
   {
    "duration": 3023,
    "start_time": "2023-05-16T08:07:54.905Z"
   },
   {
    "duration": 881,
    "start_time": "2023-05-16T08:07:57.930Z"
   },
   {
    "duration": 8,
    "start_time": "2023-05-16T08:07:58.813Z"
   },
   {
    "duration": 601,
    "start_time": "2023-05-16T11:46:53.054Z"
   },
   {
    "duration": 52,
    "start_time": "2023-05-16T11:46:53.657Z"
   },
   {
    "duration": 6,
    "start_time": "2023-05-16T11:46:53.711Z"
   },
   {
    "duration": 15825,
    "start_time": "2023-05-16T11:46:53.719Z"
   },
   {
    "duration": 9731,
    "start_time": "2023-05-16T11:47:09.550Z"
   },
   {
    "duration": 5249,
    "start_time": "2023-05-16T11:47:19.306Z"
   },
   {
    "duration": 4,
    "start_time": "2023-05-16T11:47:24.560Z"
   },
   {
    "duration": 50,
    "start_time": "2023-05-16T11:47:24.566Z"
   },
   {
    "duration": 3,
    "start_time": "2023-05-16T11:47:24.624Z"
   },
   {
    "duration": 16,
    "start_time": "2023-05-16T11:47:24.629Z"
   },
   {
    "duration": 891,
    "start_time": "2023-05-16T11:47:24.648Z"
   },
   {
    "duration": 288,
    "start_time": "2023-05-16T11:47:25.541Z"
   },
   {
    "duration": 30,
    "start_time": "2023-05-16T11:47:38.161Z"
   },
   {
    "duration": 4,
    "start_time": "2023-05-16T11:47:48.454Z"
   },
   {
    "duration": 3,
    "start_time": "2023-05-16T11:47:59.770Z"
   }
  ],
  "colab": {
   "name": "PySparkSprint.ipynb",
   "provenance": []
  },
  "kernelspec": {
   "display_name": "Python 3 (ipykernel)",
   "language": "python",
   "name": "python3"
  },
  "language_info": {
   "codemirror_mode": {
    "name": "ipython",
    "version": 3
   },
   "file_extension": ".py",
   "mimetype": "text/x-python",
   "name": "python",
   "nbconvert_exporter": "python",
   "pygments_lexer": "ipython3",
   "version": "3.10.2"
  },
  "toc": {
   "base_numbering": 1,
   "nav_menu": {},
   "number_sections": true,
   "sideBar": true,
   "skip_h1_title": true,
   "title_cell": "Table of Contents",
   "title_sidebar": "Contents",
   "toc_cell": false,
   "toc_position": {},
   "toc_section_display": true,
   "toc_window_display": false
  }
 },
 "nbformat": 4,
 "nbformat_minor": 5
}
