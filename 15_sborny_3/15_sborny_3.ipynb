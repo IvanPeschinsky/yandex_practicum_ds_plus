{
 "cells": [
  {
   "cell_type": "markdown",
   "id": "077eda56",
   "metadata": {},
   "source": [
    "# Описание проекта"
   ]
  },
  {
   "cell_type": "markdown",
   "id": "d7e6d8b6",
   "metadata": {},
   "source": [
    "Нужно создать систему, которая могла бы оценить риск ДТП по выбранному маршруту движения. Под риском понимается вероятность ДТП с любым повреждением транспортного средства. Как только водитель забронировал автомобиль, сел за руль и выбрал маршрут, система должна оценить уровень риска. Если уровень риска высок, водитель увидит предупреждение и рекомендации по маршруту.\n",
    "\n",
    "\n",
    "Идея создания такой системы находится в стадии предварительного обсуждения и проработки. Чёткого алгоритма работы и подобных решений на рынке ещё не существует. Текущая задача — понять, возможно ли предсказывать ДТП, опираясь на исторические данные одного из регионов.\n",
    "\n",
    "\n",
    "Идея решения задачи от заказчика: \n",
    "- Создать модель предсказания ДТП (целевое значение — at_fault (виновник) в таблице parties)\n",
    "- Для модели выбрать тип виновника — только машина (car).\n",
    "- Выбрать случаи, когда ДТП привело к любым повреждениям транспортного средства, кроме типа SCRATCH (царапина).\n",
    "- Для моделирования ограничиться данными за 2012 год — они самые свежие.\n",
    "- Обязательное условие — учесть фактор возраста автомобиля.\n",
    "\n",
    "\n",
    "На основе модели исследовать основные факторы ДТП.\n",
    "\n",
    "\n",
    "Понять, помогут ли результаты моделирования и анализ важности факторов ответить на вопросы:\n",
    "- Возможно ли создать адекватную системы оценки водительского риска при выдаче авто?\n",
    "- Какие ещё факторы нужно учесть?\n",
    "- Нужно ли оборудовать автомобиль какими-либо датчиками или камерой?\n",
    "\n",
    "\n",
    "Заказчик предлагает поработать с базой данных по происшествиям и сформировать свои идеи создания такой системы. "
   ]
  },
  {
   "cell_type": "markdown",
   "id": "d7e3b137",
   "metadata": {},
   "source": [
    "## 1. Подключение к базе. Загрузка и первичное исследование таблиц SQL"
   ]
  },
  {
   "cell_type": "markdown",
   "id": "a5151a80",
   "metadata": {},
   "source": [
    "### Импорты"
   ]
  },
  {
   "cell_type": "code",
   "execution_count": 1,
   "id": "3252cb59",
   "metadata": {},
   "outputs": [],
   "source": [
    "import pandas as pd\n",
    "import numpy as np\n",
    "import matplotlib.pyplot as plt\n",
    "import seaborn as sns\n",
    "\n",
    "from sqlalchemy import create_engine\n",
    "from sklearn.model_selection import train_test_split, RandomizedSearchCV, GridSearchCV\n",
    "from sklearn.preprocessing import OneHotEncoder, OrdinalEncoder, StandardScaler\n",
    "from sklearn.tree import DecisionTreeClassifier\n",
    "from sklearn.ensemble import RandomForestClassifier\n",
    "from sklearn.linear_model import LogisticRegression\n",
    "from lightgbm import LGBMClassifier\n",
    "from catboost import CatBoostClassifier\n",
    "from sklearn.metrics import precision_score, recall_score, confusion_matrix, f1_score\n",
    "from sklearn.metrics import precision_recall_curve, roc_curve, roc_auc_score\n",
    "\n",
    "import warnings\n",
    "warnings.filterwarnings(\"ignore\")"
   ]
  },
  {
   "cell_type": "markdown",
   "id": "e03b570e",
   "metadata": {},
   "source": [
    "### Подключение к базе"
   ]
  },
  {
   "cell_type": "code",
   "execution_count": 2,
   "id": "bb8084bb",
   "metadata": {},
   "outputs": [],
   "source": [
    "db_config = {\n",
    "'user': 'praktikum_student', # имя пользователя,\n",
    "'pwd': 'Sdf4$2;d-d30pp', # пароль,\n",
    "'host': 'rc1b-wcoijxj3yxfsf3fs.mdb.yandexcloud.net',\n",
    "'port': 6432, # порт подключения,\n",
    "'db': 'data-science-vehicle-db' # название базы данных,\n",
    "} "
   ]
  },
  {
   "cell_type": "code",
   "execution_count": 3,
   "id": "cd23d133",
   "metadata": {},
   "outputs": [],
   "source": [
    "connection_string = 'postgresql://{}:{}@{}:{}/{}'.format(\n",
    "    db_config['user'], \n",
    "    db_config['pwd'], \n",
    "    db_config['host'], \n",
    "    db_config['port'], \n",
    "    db_config['db']\n",
    "    )"
   ]
  },
  {
   "cell_type": "code",
   "execution_count": 4,
   "id": "1a9e59f3",
   "metadata": {},
   "outputs": [],
   "source": [
    "engine = create_engine(connection_string)"
   ]
  },
  {
   "cell_type": "markdown",
   "id": "e4e9fee5",
   "metadata": {},
   "source": [
    "### Загрузка и первичное исследование таблиц"
   ]
  },
  {
   "cell_type": "markdown",
   "id": "1a138201",
   "metadata": {},
   "source": [
    "Таблица case_ids содержит уникальные case_id. Информации о db_year нет, но скорее всего, это год создания базы данных."
   ]
  },
  {
   "cell_type": "code",
   "execution_count": 5,
   "id": "030ba14f",
   "metadata": {},
   "outputs": [
    {
     "data": {
      "text/html": [
       "<div>\n",
       "<style scoped>\n",
       "    .dataframe tbody tr th:only-of-type {\n",
       "        vertical-align: middle;\n",
       "    }\n",
       "\n",
       "    .dataframe tbody tr th {\n",
       "        vertical-align: top;\n",
       "    }\n",
       "\n",
       "    .dataframe thead th {\n",
       "        text-align: right;\n",
       "    }\n",
       "</style>\n",
       "<table border=\"1\" class=\"dataframe\">\n",
       "  <thead>\n",
       "    <tr style=\"text-align: right;\">\n",
       "      <th></th>\n",
       "      <th>case_id</th>\n",
       "      <th>db_year</th>\n",
       "    </tr>\n",
       "  </thead>\n",
       "  <tbody>\n",
       "    <tr>\n",
       "      <th>0</th>\n",
       "      <td>0081715</td>\n",
       "      <td>2021</td>\n",
       "    </tr>\n",
       "    <tr>\n",
       "      <th>1</th>\n",
       "      <td>0726202</td>\n",
       "      <td>2021</td>\n",
       "    </tr>\n",
       "    <tr>\n",
       "      <th>2</th>\n",
       "      <td>3858022</td>\n",
       "      <td>2021</td>\n",
       "    </tr>\n",
       "    <tr>\n",
       "      <th>3</th>\n",
       "      <td>3899441</td>\n",
       "      <td>2021</td>\n",
       "    </tr>\n",
       "    <tr>\n",
       "      <th>4</th>\n",
       "      <td>3899442</td>\n",
       "      <td>2021</td>\n",
       "    </tr>\n",
       "  </tbody>\n",
       "</table>\n",
       "</div>"
      ],
      "text/plain": [
       "   case_id db_year\n",
       "0  0081715    2021\n",
       "1  0726202    2021\n",
       "2  3858022    2021\n",
       "3  3899441    2021\n",
       "4  3899442    2021"
      ]
     },
     "execution_count": 5,
     "metadata": {},
     "output_type": "execute_result"
    }
   ],
   "source": [
    "query = '''\n",
    "    SELECT *\n",
    "    FROM case_ids\n",
    "    LIMIT 5\n",
    "    '''\n",
    "\n",
    "case_ids_df = pd.read_sql_query(query, con=engine)\n",
    "case_ids_df"
   ]
  },
  {
   "cell_type": "markdown",
   "id": "fd4f5e7a",
   "metadata": {},
   "source": [
    "Таблица vehicles содержит информацию о пострадавших машинах.\n",
    "\n",
    "Имеет неуникальные case_id и неуникальные party_number, которые сопоставляются с таблицей collisions и таблицей parties. Если нужен уникальный идентификатор, это case_id and party_number."
   ]
  },
  {
   "cell_type": "code",
   "execution_count": 6,
   "id": "2ba5f6b1",
   "metadata": {},
   "outputs": [
    {
     "data": {
      "text/html": [
       "<div>\n",
       "<style scoped>\n",
       "    .dataframe tbody tr th:only-of-type {\n",
       "        vertical-align: middle;\n",
       "    }\n",
       "\n",
       "    .dataframe tbody tr th {\n",
       "        vertical-align: top;\n",
       "    }\n",
       "\n",
       "    .dataframe thead th {\n",
       "        text-align: right;\n",
       "    }\n",
       "</style>\n",
       "<table border=\"1\" class=\"dataframe\">\n",
       "  <thead>\n",
       "    <tr style=\"text-align: right;\">\n",
       "      <th></th>\n",
       "      <th>id</th>\n",
       "      <th>case_id</th>\n",
       "      <th>party_number</th>\n",
       "      <th>vehicle_type</th>\n",
       "      <th>vehicle_transmission</th>\n",
       "      <th>vehicle_age</th>\n",
       "    </tr>\n",
       "  </thead>\n",
       "  <tbody>\n",
       "    <tr>\n",
       "      <th>0</th>\n",
       "      <td>1175713</td>\n",
       "      <td>5305032</td>\n",
       "      <td>2</td>\n",
       "      <td>sedan</td>\n",
       "      <td>manual</td>\n",
       "      <td>3</td>\n",
       "    </tr>\n",
       "    <tr>\n",
       "      <th>1</th>\n",
       "      <td>1</td>\n",
       "      <td>3858022</td>\n",
       "      <td>1</td>\n",
       "      <td>sedan</td>\n",
       "      <td>auto</td>\n",
       "      <td>3</td>\n",
       "    </tr>\n",
       "    <tr>\n",
       "      <th>2</th>\n",
       "      <td>1175712</td>\n",
       "      <td>5305030</td>\n",
       "      <td>1</td>\n",
       "      <td>sedan</td>\n",
       "      <td>auto</td>\n",
       "      <td>3</td>\n",
       "    </tr>\n",
       "    <tr>\n",
       "      <th>3</th>\n",
       "      <td>1175717</td>\n",
       "      <td>5305033</td>\n",
       "      <td>3</td>\n",
       "      <td>sedan</td>\n",
       "      <td>auto</td>\n",
       "      <td>5</td>\n",
       "    </tr>\n",
       "    <tr>\n",
       "      <th>4</th>\n",
       "      <td>1175722</td>\n",
       "      <td>5305034</td>\n",
       "      <td>2</td>\n",
       "      <td>sedan</td>\n",
       "      <td>auto</td>\n",
       "      <td>5</td>\n",
       "    </tr>\n",
       "  </tbody>\n",
       "</table>\n",
       "</div>"
      ],
      "text/plain": [
       "        id  case_id  party_number vehicle_type vehicle_transmission  \\\n",
       "0  1175713  5305032             2        sedan               manual   \n",
       "1        1  3858022             1        sedan                 auto   \n",
       "2  1175712  5305030             1        sedan                 auto   \n",
       "3  1175717  5305033             3        sedan                 auto   \n",
       "4  1175722  5305034             2        sedan                 auto   \n",
       "\n",
       "   vehicle_age  \n",
       "0            3  \n",
       "1            3  \n",
       "2            3  \n",
       "3            5  \n",
       "4            5  "
      ]
     },
     "execution_count": 6,
     "metadata": {},
     "output_type": "execute_result"
    }
   ],
   "source": [
    "query = '''\n",
    "    SELECT *\n",
    "    FROM vehicles\n",
    "    LIMIT 5\n",
    "    '''\n",
    "\n",
    "vehicles_df = pd.read_sql_query(query, con=engine)\n",
    "vehicles_df"
   ]
  },
  {
   "cell_type": "markdown",
   "id": "8579074d",
   "metadata": {},
   "source": [
    "Таблица collisions содержит общую информацию о ДТП.\n",
    "\n",
    "Имеет уникальный case_id. Эта таблица описывает общую информацию о ДТП. Например, где оно произошло и когда."
   ]
  },
  {
   "cell_type": "code",
   "execution_count": 7,
   "id": "d3504e46",
   "metadata": {},
   "outputs": [
    {
     "data": {
      "text/html": [
       "<div>\n",
       "<style scoped>\n",
       "    .dataframe tbody tr th:only-of-type {\n",
       "        vertical-align: middle;\n",
       "    }\n",
       "\n",
       "    .dataframe tbody tr th {\n",
       "        vertical-align: top;\n",
       "    }\n",
       "\n",
       "    .dataframe thead th {\n",
       "        text-align: right;\n",
       "    }\n",
       "</style>\n",
       "<table border=\"1\" class=\"dataframe\">\n",
       "  <thead>\n",
       "    <tr style=\"text-align: right;\">\n",
       "      <th></th>\n",
       "      <th>case_id</th>\n",
       "      <th>county_city_location</th>\n",
       "      <th>county_location</th>\n",
       "      <th>distance</th>\n",
       "      <th>direction</th>\n",
       "      <th>intersection</th>\n",
       "      <th>weather_1</th>\n",
       "      <th>location_type</th>\n",
       "      <th>collision_damage</th>\n",
       "      <th>party_count</th>\n",
       "      <th>primary_collision_factor</th>\n",
       "      <th>pcf_violation_category</th>\n",
       "      <th>type_of_collision</th>\n",
       "      <th>motor_vehicle_involved_with</th>\n",
       "      <th>road_surface</th>\n",
       "      <th>road_condition_1</th>\n",
       "      <th>lighting</th>\n",
       "      <th>control_device</th>\n",
       "      <th>collision_date</th>\n",
       "      <th>collision_time</th>\n",
       "    </tr>\n",
       "  </thead>\n",
       "  <tbody>\n",
       "    <tr>\n",
       "      <th>0</th>\n",
       "      <td>4083072</td>\n",
       "      <td>1942</td>\n",
       "      <td>los angeles</td>\n",
       "      <td>528.0</td>\n",
       "      <td>north</td>\n",
       "      <td>0</td>\n",
       "      <td>cloudy</td>\n",
       "      <td>highway</td>\n",
       "      <td>small damage</td>\n",
       "      <td>2</td>\n",
       "      <td>vehicle code violation</td>\n",
       "      <td>unsafe lane change</td>\n",
       "      <td>sideswipe</td>\n",
       "      <td>other motor vehicle</td>\n",
       "      <td>wet</td>\n",
       "      <td>normal</td>\n",
       "      <td>daylight</td>\n",
       "      <td>none</td>\n",
       "      <td>2009-01-22</td>\n",
       "      <td>07:25:00</td>\n",
       "    </tr>\n",
       "    <tr>\n",
       "      <th>1</th>\n",
       "      <td>4083075</td>\n",
       "      <td>4313</td>\n",
       "      <td>santa clara</td>\n",
       "      <td>0.0</td>\n",
       "      <td>None</td>\n",
       "      <td>1</td>\n",
       "      <td>clear</td>\n",
       "      <td>None</td>\n",
       "      <td>small damage</td>\n",
       "      <td>1</td>\n",
       "      <td>vehicle code violation</td>\n",
       "      <td>improper passing</td>\n",
       "      <td>hit object</td>\n",
       "      <td>fixed object</td>\n",
       "      <td>dry</td>\n",
       "      <td>normal</td>\n",
       "      <td>dark with street lights</td>\n",
       "      <td>functioning</td>\n",
       "      <td>2009-01-03</td>\n",
       "      <td>02:26:00</td>\n",
       "    </tr>\n",
       "    <tr>\n",
       "      <th>2</th>\n",
       "      <td>4083073</td>\n",
       "      <td>0109</td>\n",
       "      <td>alameda</td>\n",
       "      <td>0.0</td>\n",
       "      <td>None</td>\n",
       "      <td>1</td>\n",
       "      <td>clear</td>\n",
       "      <td>None</td>\n",
       "      <td>scratch</td>\n",
       "      <td>2</td>\n",
       "      <td>vehicle code violation</td>\n",
       "      <td>improper turning</td>\n",
       "      <td>broadside</td>\n",
       "      <td>other motor vehicle</td>\n",
       "      <td>dry</td>\n",
       "      <td>normal</td>\n",
       "      <td>dark with street lights</td>\n",
       "      <td>functioning</td>\n",
       "      <td>2009-01-11</td>\n",
       "      <td>03:32:00</td>\n",
       "    </tr>\n",
       "    <tr>\n",
       "      <th>3</th>\n",
       "      <td>4083077</td>\n",
       "      <td>0109</td>\n",
       "      <td>alameda</td>\n",
       "      <td>0.0</td>\n",
       "      <td>None</td>\n",
       "      <td>1</td>\n",
       "      <td>clear</td>\n",
       "      <td>None</td>\n",
       "      <td>scratch</td>\n",
       "      <td>2</td>\n",
       "      <td>vehicle code violation</td>\n",
       "      <td>automobile right of way</td>\n",
       "      <td>broadside</td>\n",
       "      <td>other motor vehicle</td>\n",
       "      <td>dry</td>\n",
       "      <td>normal</td>\n",
       "      <td>daylight</td>\n",
       "      <td>functioning</td>\n",
       "      <td>2009-01-11</td>\n",
       "      <td>10:35:00</td>\n",
       "    </tr>\n",
       "    <tr>\n",
       "      <th>4</th>\n",
       "      <td>4083087</td>\n",
       "      <td>4313</td>\n",
       "      <td>santa clara</td>\n",
       "      <td>0.0</td>\n",
       "      <td>None</td>\n",
       "      <td>1</td>\n",
       "      <td>clear</td>\n",
       "      <td>None</td>\n",
       "      <td>scratch</td>\n",
       "      <td>2</td>\n",
       "      <td>vehicle code violation</td>\n",
       "      <td>speeding</td>\n",
       "      <td>rear end</td>\n",
       "      <td>other motor vehicle</td>\n",
       "      <td>dry</td>\n",
       "      <td>None</td>\n",
       "      <td>dark with street lights</td>\n",
       "      <td>functioning</td>\n",
       "      <td>2009-01-02</td>\n",
       "      <td>22:43:00</td>\n",
       "    </tr>\n",
       "  </tbody>\n",
       "</table>\n",
       "</div>"
      ],
      "text/plain": [
       "   case_id county_city_location county_location  distance direction  \\\n",
       "0  4083072                 1942     los angeles     528.0     north   \n",
       "1  4083075                 4313     santa clara       0.0      None   \n",
       "2  4083073                 0109         alameda       0.0      None   \n",
       "3  4083077                 0109         alameda       0.0      None   \n",
       "4  4083087                 4313     santa clara       0.0      None   \n",
       "\n",
       "   intersection weather_1 location_type collision_damage  party_count  \\\n",
       "0             0    cloudy       highway     small damage            2   \n",
       "1             1     clear          None     small damage            1   \n",
       "2             1     clear          None          scratch            2   \n",
       "3             1     clear          None          scratch            2   \n",
       "4             1     clear          None          scratch            2   \n",
       "\n",
       "  primary_collision_factor   pcf_violation_category type_of_collision  \\\n",
       "0   vehicle code violation       unsafe lane change         sideswipe   \n",
       "1   vehicle code violation         improper passing        hit object   \n",
       "2   vehicle code violation         improper turning         broadside   \n",
       "3   vehicle code violation  automobile right of way         broadside   \n",
       "4   vehicle code violation                 speeding          rear end   \n",
       "\n",
       "  motor_vehicle_involved_with road_surface road_condition_1  \\\n",
       "0         other motor vehicle          wet           normal   \n",
       "1                fixed object          dry           normal   \n",
       "2         other motor vehicle          dry           normal   \n",
       "3         other motor vehicle          dry           normal   \n",
       "4         other motor vehicle          dry             None   \n",
       "\n",
       "                  lighting control_device collision_date collision_time  \n",
       "0                 daylight           none     2009-01-22       07:25:00  \n",
       "1  dark with street lights    functioning     2009-01-03       02:26:00  \n",
       "2  dark with street lights    functioning     2009-01-11       03:32:00  \n",
       "3                 daylight    functioning     2009-01-11       10:35:00  \n",
       "4  dark with street lights    functioning     2009-01-02       22:43:00  "
      ]
     },
     "execution_count": 7,
     "metadata": {},
     "output_type": "execute_result"
    }
   ],
   "source": [
    "query = '''\n",
    "    SELECT *\n",
    "    FROM collisions\n",
    "    LIMIT 5\n",
    "    '''\n",
    "\n",
    "collisions_df = pd.read_sql_query(query, con=engine)\n",
    "collisions_df"
   ]
  },
  {
   "cell_type": "markdown",
   "id": "56fb9ece",
   "metadata": {},
   "source": [
    "Таблица parties содержит информацию об участниках ДТП\n",
    "\n",
    "Имеет неуникальный case_id, который сопоставляется с соответствующим ДТП в таблице collisions. Каждая строка здесь описывает одну из сторон, участвующих в ДТП. Если столкнулись две машины, в этой таблице должно быть две строки с совпадением case_id. Если нужен уникальный идентификатор, это case_id and party_number."
   ]
  },
  {
   "cell_type": "code",
   "execution_count": 8,
   "id": "4fa8cea6",
   "metadata": {
    "scrolled": true
   },
   "outputs": [
    {
     "data": {
      "text/html": [
       "<div>\n",
       "<style scoped>\n",
       "    .dataframe tbody tr th:only-of-type {\n",
       "        vertical-align: middle;\n",
       "    }\n",
       "\n",
       "    .dataframe tbody tr th {\n",
       "        vertical-align: top;\n",
       "    }\n",
       "\n",
       "    .dataframe thead th {\n",
       "        text-align: right;\n",
       "    }\n",
       "</style>\n",
       "<table border=\"1\" class=\"dataframe\">\n",
       "  <thead>\n",
       "    <tr style=\"text-align: right;\">\n",
       "      <th></th>\n",
       "      <th>id</th>\n",
       "      <th>case_id</th>\n",
       "      <th>party_number</th>\n",
       "      <th>party_type</th>\n",
       "      <th>at_fault</th>\n",
       "      <th>insurance_premium</th>\n",
       "      <th>party_sobriety</th>\n",
       "      <th>party_drug_physical</th>\n",
       "      <th>cellphone_in_use</th>\n",
       "    </tr>\n",
       "  </thead>\n",
       "  <tbody>\n",
       "    <tr>\n",
       "      <th>0</th>\n",
       "      <td>22</td>\n",
       "      <td>3899454</td>\n",
       "      <td>1</td>\n",
       "      <td>road signs</td>\n",
       "      <td>1</td>\n",
       "      <td>29.0</td>\n",
       "      <td>had not been drinking</td>\n",
       "      <td>None</td>\n",
       "      <td>0</td>\n",
       "    </tr>\n",
       "    <tr>\n",
       "      <th>1</th>\n",
       "      <td>23</td>\n",
       "      <td>3899454</td>\n",
       "      <td>2</td>\n",
       "      <td>road signs</td>\n",
       "      <td>0</td>\n",
       "      <td>7.0</td>\n",
       "      <td>had not been drinking</td>\n",
       "      <td>None</td>\n",
       "      <td>0</td>\n",
       "    </tr>\n",
       "    <tr>\n",
       "      <th>2</th>\n",
       "      <td>29</td>\n",
       "      <td>3899462</td>\n",
       "      <td>2</td>\n",
       "      <td>car</td>\n",
       "      <td>0</td>\n",
       "      <td>21.0</td>\n",
       "      <td>had not been drinking</td>\n",
       "      <td>None</td>\n",
       "      <td>0</td>\n",
       "    </tr>\n",
       "    <tr>\n",
       "      <th>3</th>\n",
       "      <td>31</td>\n",
       "      <td>3899465</td>\n",
       "      <td>2</td>\n",
       "      <td>road signs</td>\n",
       "      <td>0</td>\n",
       "      <td>24.0</td>\n",
       "      <td>had not been drinking</td>\n",
       "      <td>None</td>\n",
       "      <td>0</td>\n",
       "    </tr>\n",
       "    <tr>\n",
       "      <th>4</th>\n",
       "      <td>41</td>\n",
       "      <td>3899478</td>\n",
       "      <td>2</td>\n",
       "      <td>road bumper</td>\n",
       "      <td>0</td>\n",
       "      <td>NaN</td>\n",
       "      <td>not applicable</td>\n",
       "      <td>not applicable</td>\n",
       "      <td>0</td>\n",
       "    </tr>\n",
       "  </tbody>\n",
       "</table>\n",
       "</div>"
      ],
      "text/plain": [
       "   id  case_id  party_number   party_type  at_fault  insurance_premium  \\\n",
       "0  22  3899454             1   road signs         1               29.0   \n",
       "1  23  3899454             2   road signs         0                7.0   \n",
       "2  29  3899462             2          car         0               21.0   \n",
       "3  31  3899465             2   road signs         0               24.0   \n",
       "4  41  3899478             2  road bumper         0                NaN   \n",
       "\n",
       "          party_sobriety party_drug_physical  cellphone_in_use  \n",
       "0  had not been drinking                None                 0  \n",
       "1  had not been drinking                None                 0  \n",
       "2  had not been drinking                None                 0  \n",
       "3  had not been drinking                None                 0  \n",
       "4         not applicable      not applicable                 0  "
      ]
     },
     "execution_count": 8,
     "metadata": {},
     "output_type": "execute_result"
    }
   ],
   "source": [
    "query = '''\n",
    "    SELECT *\n",
    "    FROM parties\n",
    "    LIMIT 5\n",
    "    '''\n",
    "\n",
    "parties_df = pd.read_sql_query(query, con=engine)\n",
    "parties_df"
   ]
  },
  {
   "cell_type": "markdown",
   "id": "20bb8bac",
   "metadata": {},
   "source": [
    "Все таблицы имеют общию ключ case_id. Могут отличаться названия столбцов, но в целом все данные на месте и соответствуют условию задачи."
   ]
  },
  {
   "cell_type": "markdown",
   "id": "88717770",
   "metadata": {},
   "source": [
    "## 2. Статистический анализ факторов ДТП"
   ]
  },
  {
   "cell_type": "markdown",
   "id": "2d37df95",
   "metadata": {},
   "source": [
    "Выясним, в какие месяцы происходит наибольшее количество аварий. Проанализируем весь период наблюдений."
   ]
  },
  {
   "cell_type": "code",
   "execution_count": 9,
   "id": "60b311d6",
   "metadata": {},
   "outputs": [
    {
     "data": {
      "text/html": [
       "<div>\n",
       "<style scoped>\n",
       "    .dataframe tbody tr th:only-of-type {\n",
       "        vertical-align: middle;\n",
       "    }\n",
       "\n",
       "    .dataframe tbody tr th {\n",
       "        vertical-align: top;\n",
       "    }\n",
       "\n",
       "    .dataframe thead th {\n",
       "        text-align: right;\n",
       "    }\n",
       "</style>\n",
       "<table border=\"1\" class=\"dataframe\">\n",
       "  <thead>\n",
       "    <tr style=\"text-align: right;\">\n",
       "      <th></th>\n",
       "      <th>month</th>\n",
       "      <th>counter</th>\n",
       "    </tr>\n",
       "  </thead>\n",
       "  <tbody>\n",
       "    <tr>\n",
       "      <th>0</th>\n",
       "      <td>3.0</td>\n",
       "      <td>139581</td>\n",
       "    </tr>\n",
       "    <tr>\n",
       "      <th>1</th>\n",
       "      <td>1.0</td>\n",
       "      <td>132044</td>\n",
       "    </tr>\n",
       "    <tr>\n",
       "      <th>2</th>\n",
       "      <td>5.0</td>\n",
       "      <td>130316</td>\n",
       "    </tr>\n",
       "    <tr>\n",
       "      <th>3</th>\n",
       "      <td>4.0</td>\n",
       "      <td>130180</td>\n",
       "    </tr>\n",
       "    <tr>\n",
       "      <th>4</th>\n",
       "      <td>2.0</td>\n",
       "      <td>128858</td>\n",
       "    </tr>\n",
       "    <tr>\n",
       "      <th>5</th>\n",
       "      <td>10.0</td>\n",
       "      <td>112237</td>\n",
       "    </tr>\n",
       "    <tr>\n",
       "      <th>6</th>\n",
       "      <td>12.0</td>\n",
       "      <td>107945</td>\n",
       "    </tr>\n",
       "    <tr>\n",
       "      <th>7</th>\n",
       "      <td>9.0</td>\n",
       "      <td>105159</td>\n",
       "    </tr>\n",
       "    <tr>\n",
       "      <th>8</th>\n",
       "      <td>11.0</td>\n",
       "      <td>104770</td>\n",
       "    </tr>\n",
       "    <tr>\n",
       "      <th>9</th>\n",
       "      <td>8.0</td>\n",
       "      <td>104089</td>\n",
       "    </tr>\n",
       "    <tr>\n",
       "      <th>10</th>\n",
       "      <td>6.0</td>\n",
       "      <td>102594</td>\n",
       "    </tr>\n",
       "    <tr>\n",
       "      <th>11</th>\n",
       "      <td>7.0</td>\n",
       "      <td>102227</td>\n",
       "    </tr>\n",
       "  </tbody>\n",
       "</table>\n",
       "</div>"
      ],
      "text/plain": [
       "    month  counter\n",
       "0     3.0   139581\n",
       "1     1.0   132044\n",
       "2     5.0   130316\n",
       "3     4.0   130180\n",
       "4     2.0   128858\n",
       "5    10.0   112237\n",
       "6    12.0   107945\n",
       "7     9.0   105159\n",
       "8    11.0   104770\n",
       "9     8.0   104089\n",
       "10    6.0   102594\n",
       "11    7.0   102227"
      ]
     },
     "execution_count": 9,
     "metadata": {},
     "output_type": "execute_result"
    }
   ],
   "source": [
    "query = '''\n",
    "    SELECT EXTRACT(MONTH FROM CAST(collision_date AS date)) AS month,\n",
    "           COUNT(case_id) AS counter\n",
    "    FROM collisions\n",
    "    GROUP BY month\n",
    "    ORDER BY counter DESC\n",
    "    '''\n",
    "\n",
    "collisions_count = pd.read_sql_query(query, con=engine)\n",
    "collisions_count"
   ]
  },
  {
   "cell_type": "code",
   "execution_count": 10,
   "id": "c9f2385a",
   "metadata": {},
   "outputs": [
    {
     "data": {
      "text/plain": [
       "<BarContainer object of 12 artists>"
      ]
     },
     "execution_count": 10,
     "metadata": {},
     "output_type": "execute_result"
    },
    {
     "data": {
      "image/png": "[encoded data removed]",
      "text/plain": [
       "<Figure size 432x288 with 1 Axes>"
      ]
     },
     "metadata": {
      "needs_background": "light"
     },
     "output_type": "display_data"
    }
   ],
   "source": [
    "x = collisions_count['month']\n",
    "y = collisions_count['counter']\n",
    "\n",
    "plt.bar(x, y)"
   ]
  },
  {
   "cell_type": "markdown",
   "id": "3efa1e29",
   "metadata": {},
   "source": [
    "По данным таблицы, большая часть зарегистрированных происшествий имеет место в первые пять месяцев года. Это можно было бы объяснить погодными факторами, но как можно заметить из графика, есть четкое разделение данных: 1-5 месяцы в среднем по 13к значений, в 6-12 месяцы - по 10к значений. Возможно, это говорит о недостатке данных в таблице."
   ]
  },
  {
   "cell_type": "markdown",
   "id": "13c5c40c",
   "metadata": {},
   "source": [
    "### Аналитические задачи для рабочей группы:"
   ]
  },
  {
   "cell_type": "markdown",
   "id": "df1d3887",
   "metadata": {},
   "source": [
    "\n",
    "- проанализировать, влияет возраст автомобиля на серьезность происшествия\n",
    "- как распределяется количество аварий по типу КП в разных погодных условиях? влияет ли тип КП на управляемость автомобилем в сложных погодных условиях?\n",
    "- проанализировать сумму страховых выплат по месяцам, оценить среднюю страховку. влияет ли сезонность на сумму?\n",
    "- влияет ли тип дорожного покрытия и степень естественного освещения на степень вины водителя в ДТП?\n",
    "- оценить в какие часы суток чаще происходят аварии по вине пьяных водителей\n",
    "- зависит ли количество аварий от типа кузова автомобиля? столько участников вовлечено в такие ДТП?"
   ]
  },
  {
   "cell_type": "markdown",
   "id": "666162e5",
   "metadata": {},
   "source": [
    "Пропишем порядок решения для двух задач из списка."
   ]
  },
  {
   "cell_type": "markdown",
   "id": "6c54fd85",
   "metadata": {},
   "source": [
    "Задача 1. Проанализируем влияние возраста автомобиля на серьезность происшествия."
   ]
  },
  {
   "cell_type": "code",
   "execution_count": 11,
   "id": "06c7ca6b",
   "metadata": {},
   "outputs": [
    {
     "data": {
      "text/html": [
       "<div>\n",
       "<style scoped>\n",
       "    .dataframe tbody tr th:only-of-type {\n",
       "        vertical-align: middle;\n",
       "    }\n",
       "\n",
       "    .dataframe tbody tr th {\n",
       "        vertical-align: top;\n",
       "    }\n",
       "\n",
       "    .dataframe thead th {\n",
       "        text-align: right;\n",
       "    }\n",
       "</style>\n",
       "<table border=\"1\" class=\"dataframe\">\n",
       "  <thead>\n",
       "    <tr style=\"text-align: right;\">\n",
       "      <th></th>\n",
       "      <th>vehicle_age</th>\n",
       "      <th>collision_damage</th>\n",
       "      <th>share</th>\n",
       "    </tr>\n",
       "  </thead>\n",
       "  <tbody>\n",
       "    <tr>\n",
       "      <th>0</th>\n",
       "      <td>0</td>\n",
       "      <td>fatal</td>\n",
       "      <td>0.568775</td>\n",
       "    </tr>\n",
       "    <tr>\n",
       "      <th>1</th>\n",
       "      <td>1</td>\n",
       "      <td>fatal</td>\n",
       "      <td>0.583436</td>\n",
       "    </tr>\n",
       "    <tr>\n",
       "      <th>2</th>\n",
       "      <td>2</td>\n",
       "      <td>fatal</td>\n",
       "      <td>0.764104</td>\n",
       "    </tr>\n",
       "    <tr>\n",
       "      <th>3</th>\n",
       "      <td>3</td>\n",
       "      <td>fatal</td>\n",
       "      <td>1.387847</td>\n",
       "    </tr>\n",
       "    <tr>\n",
       "      <th>4</th>\n",
       "      <td>4</td>\n",
       "      <td>fatal</td>\n",
       "      <td>1.491169</td>\n",
       "    </tr>\n",
       "    <tr>\n",
       "      <th>5</th>\n",
       "      <td>5</td>\n",
       "      <td>fatal</td>\n",
       "      <td>1.430000</td>\n",
       "    </tr>\n",
       "    <tr>\n",
       "      <th>6</th>\n",
       "      <td>6</td>\n",
       "      <td>fatal</td>\n",
       "      <td>1.520827</td>\n",
       "    </tr>\n",
       "    <tr>\n",
       "      <th>7</th>\n",
       "      <td>7</td>\n",
       "      <td>fatal</td>\n",
       "      <td>1.651598</td>\n",
       "    </tr>\n",
       "    <tr>\n",
       "      <th>8</th>\n",
       "      <td>8</td>\n",
       "      <td>fatal</td>\n",
       "      <td>1.889192</td>\n",
       "    </tr>\n",
       "    <tr>\n",
       "      <th>9</th>\n",
       "      <td>9</td>\n",
       "      <td>fatal</td>\n",
       "      <td>2.046176</td>\n",
       "    </tr>\n",
       "    <tr>\n",
       "      <th>10</th>\n",
       "      <td>10</td>\n",
       "      <td>fatal</td>\n",
       "      <td>2.168656</td>\n",
       "    </tr>\n",
       "    <tr>\n",
       "      <th>11</th>\n",
       "      <td>11</td>\n",
       "      <td>fatal</td>\n",
       "      <td>2.249307</td>\n",
       "    </tr>\n",
       "    <tr>\n",
       "      <th>12</th>\n",
       "      <td>12</td>\n",
       "      <td>fatal</td>\n",
       "      <td>3.090921</td>\n",
       "    </tr>\n",
       "    <tr>\n",
       "      <th>13</th>\n",
       "      <td>13</td>\n",
       "      <td>fatal</td>\n",
       "      <td>3.969978</td>\n",
       "    </tr>\n",
       "    <tr>\n",
       "      <th>14</th>\n",
       "      <td>14</td>\n",
       "      <td>fatal</td>\n",
       "      <td>4.711914</td>\n",
       "    </tr>\n",
       "    <tr>\n",
       "      <th>15</th>\n",
       "      <td>15</td>\n",
       "      <td>fatal</td>\n",
       "      <td>5.200594</td>\n",
       "    </tr>\n",
       "    <tr>\n",
       "      <th>16</th>\n",
       "      <td>16</td>\n",
       "      <td>fatal</td>\n",
       "      <td>5.208333</td>\n",
       "    </tr>\n",
       "  </tbody>\n",
       "</table>\n",
       "</div>"
      ],
      "text/plain": [
       "    vehicle_age collision_damage     share\n",
       "0             0            fatal  0.568775\n",
       "1             1            fatal  0.583436\n",
       "2             2            fatal  0.764104\n",
       "3             3            fatal  1.387847\n",
       "4             4            fatal  1.491169\n",
       "5             5            fatal  1.430000\n",
       "6             6            fatal  1.520827\n",
       "7             7            fatal  1.651598\n",
       "8             8            fatal  1.889192\n",
       "9             9            fatal  2.046176\n",
       "10           10            fatal  2.168656\n",
       "11           11            fatal  2.249307\n",
       "12           12            fatal  3.090921\n",
       "13           13            fatal  3.969978\n",
       "14           14            fatal  4.711914\n",
       "15           15            fatal  5.200594\n",
       "16           16            fatal  5.208333"
      ]
     },
     "execution_count": 11,
     "metadata": {},
     "output_type": "execute_result"
    }
   ],
   "source": [
    "query = '''\n",
    "    WITH rank AS\n",
    "        (SELECT vehicle_age,\n",
    "                collision_damage,\n",
    "                COUNT(c.case_id) AS count,\n",
    "                SUM(COUNT(c.case_id)) OVER (PARTITION BY vehicle_age) AS sum,\n",
    "                ROW_NUMBER() OVER (PARTITION BY vehicle_age ORDER BY vehicle_age, COUNT(c.case_id) DESC) AS rn\n",
    "         FROM collisions AS c\n",
    "         JOIN vehicles AS v ON c.case_id = v.case_id\n",
    "         WHERE vehicle_age != 161\n",
    "            AND vehicle_age IS NOT NULL\n",
    "         GROUP BY vehicle_age, collision_damage)\n",
    "    \n",
    "    SELECT vehicle_age,\n",
    "           collision_damage,\n",
    "           (count / sum) * 100 AS share\n",
    "    FROM rank\n",
    "    WHERE collision_damage = 'fatal'\n",
    "    '''\n",
    "\n",
    "df_1 = pd.read_sql_query(query, con=engine)\n",
    "df_1"
   ]
  },
  {
   "cell_type": "markdown",
   "id": "557ef19a",
   "metadata": {},
   "source": [
    "Выбирая разные значения в операторе WHERE в итоговой части запроса, мы можем вывести долю повреждений относительно общего числа аварий по каждому возрасту автомобиля. Например, посмотреть долю самых популярный повреждений для rn = 1. В нашем запросе выводится доля повреждений, когда автомобиль не подлежит восстановлению.\n",
    "\n",
    "\n",
    "Как видно по таблице, и график это подтверждает, действительно, чем старше автомобиль, тем чаще последствия аварии оказываются для него фатальными."
   ]
  },
  {
   "cell_type": "code",
   "execution_count": 12,
   "id": "a4c0c62c",
   "metadata": {},
   "outputs": [
    {
     "data": {
      "image/png": "[encoded data removed]",
      "text/plain": [
       "<Figure size 720x432 with 1 Axes>"
      ]
     },
     "metadata": {
      "needs_background": "light"
     },
     "output_type": "display_data"
    }
   ],
   "source": [
    "plt.figure(figsize=[10,6])\n",
    "sns.lineplot(data=df_1, x='vehicle_age', y='share', label='collision share', color='red')\n",
    "\n",
    "plt.legend()\n",
    "plt.title('collision share by vehicle age')\n",
    "plt.xlabel('vehicle_age')\n",
    "plt.ylabel('collision_share')\n",
    "plt.grid()\n",
    "plt.show()"
   ]
  },
  {
   "cell_type": "markdown",
   "id": "ae8bcfc8",
   "metadata": {},
   "source": [
    "Задача 2. Посмотрим, влияет ли тип КП на управляемость автомобилем в разных погодных условиях."
   ]
  },
  {
   "cell_type": "code",
   "execution_count": 13,
   "id": "380fad00",
   "metadata": {},
   "outputs": [
    {
     "data": {
      "text/html": [
       "<div>\n",
       "<style scoped>\n",
       "    .dataframe tbody tr th:only-of-type {\n",
       "        vertical-align: middle;\n",
       "    }\n",
       "\n",
       "    .dataframe tbody tr th {\n",
       "        vertical-align: top;\n",
       "    }\n",
       "\n",
       "    .dataframe thead th {\n",
       "        text-align: right;\n",
       "    }\n",
       "</style>\n",
       "<table border=\"1\" class=\"dataframe\">\n",
       "  <thead>\n",
       "    <tr style=\"text-align: right;\">\n",
       "      <th></th>\n",
       "      <th>weather_1</th>\n",
       "      <th>vehicle_transmission</th>\n",
       "      <th>count</th>\n",
       "    </tr>\n",
       "  </thead>\n",
       "  <tbody>\n",
       "    <tr>\n",
       "      <th>0</th>\n",
       "      <td>clear</td>\n",
       "      <td>auto</td>\n",
       "      <td>406497</td>\n",
       "    </tr>\n",
       "    <tr>\n",
       "      <th>1</th>\n",
       "      <td>clear</td>\n",
       "      <td>manual</td>\n",
       "      <td>402109</td>\n",
       "    </tr>\n",
       "    <tr>\n",
       "      <th>2</th>\n",
       "      <td>cloudy</td>\n",
       "      <td>auto</td>\n",
       "      <td>71371</td>\n",
       "    </tr>\n",
       "    <tr>\n",
       "      <th>3</th>\n",
       "      <td>cloudy</td>\n",
       "      <td>manual</td>\n",
       "      <td>69494</td>\n",
       "    </tr>\n",
       "    <tr>\n",
       "      <th>4</th>\n",
       "      <td>fog</td>\n",
       "      <td>auto</td>\n",
       "      <td>1567</td>\n",
       "    </tr>\n",
       "    <tr>\n",
       "      <th>5</th>\n",
       "      <td>fog</td>\n",
       "      <td>manual</td>\n",
       "      <td>2162</td>\n",
       "    </tr>\n",
       "    <tr>\n",
       "      <th>6</th>\n",
       "      <td>other</td>\n",
       "      <td>auto</td>\n",
       "      <td>300</td>\n",
       "    </tr>\n",
       "    <tr>\n",
       "      <th>7</th>\n",
       "      <td>other</td>\n",
       "      <td>manual</td>\n",
       "      <td>349</td>\n",
       "    </tr>\n",
       "    <tr>\n",
       "      <th>8</th>\n",
       "      <td>raining</td>\n",
       "      <td>auto</td>\n",
       "      <td>19160</td>\n",
       "    </tr>\n",
       "    <tr>\n",
       "      <th>9</th>\n",
       "      <td>raining</td>\n",
       "      <td>manual</td>\n",
       "      <td>17968</td>\n",
       "    </tr>\n",
       "    <tr>\n",
       "      <th>10</th>\n",
       "      <td>snowing</td>\n",
       "      <td>auto</td>\n",
       "      <td>929</td>\n",
       "    </tr>\n",
       "    <tr>\n",
       "      <th>11</th>\n",
       "      <td>snowing</td>\n",
       "      <td>manual</td>\n",
       "      <td>864</td>\n",
       "    </tr>\n",
       "    <tr>\n",
       "      <th>12</th>\n",
       "      <td>wind</td>\n",
       "      <td>auto</td>\n",
       "      <td>139</td>\n",
       "    </tr>\n",
       "    <tr>\n",
       "      <th>13</th>\n",
       "      <td>wind</td>\n",
       "      <td>manual</td>\n",
       "      <td>156</td>\n",
       "    </tr>\n",
       "  </tbody>\n",
       "</table>\n",
       "</div>"
      ],
      "text/plain": [
       "   weather_1 vehicle_transmission   count\n",
       "0      clear                 auto  406497\n",
       "1      clear               manual  402109\n",
       "2     cloudy                 auto   71371\n",
       "3     cloudy               manual   69494\n",
       "4        fog                 auto    1567\n",
       "5        fog               manual    2162\n",
       "6      other                 auto     300\n",
       "7      other               manual     349\n",
       "8    raining                 auto   19160\n",
       "9    raining               manual   17968\n",
       "10   snowing                 auto     929\n",
       "11   snowing               manual     864\n",
       "12      wind                 auto     139\n",
       "13      wind               manual     156"
      ]
     },
     "execution_count": 13,
     "metadata": {},
     "output_type": "execute_result"
    }
   ],
   "source": [
    "query = '''\n",
    "    SELECT c.weather_1,\n",
    "           v.vehicle_transmission, \n",
    "           COUNT(c.case_id)\n",
    "    FROM collisions AS c\n",
    "    JOIN vehicles AS v ON c.case_id = v.case_id\n",
    "    WHERE c.weather_1 IS NOT NULL\n",
    "        AND v.vehicle_transmission IS NOT NULL\n",
    "    GROUP BY c.weather_1, v.vehicle_transmission\n",
    "    '''\n",
    "\n",
    "df_1 = pd.read_sql_query(query, con=engine)\n",
    "df_1"
   ]
  },
  {
   "cell_type": "markdown",
   "id": "73fea3ff",
   "metadata": {},
   "source": [
    "Полученные данные показывают, что тип КП не оказывает влияния на частоту аварий при любом типе погоды. Одинаково попадают в аварии автомобили как с механикой, так и с автоматом. Можно также заметить большое число аварий в ясную погоду."
   ]
  },
  {
   "cell_type": "code",
   "execution_count": 14,
   "id": "b7db3b90",
   "metadata": {},
   "outputs": [
    {
     "data": {
      "text/plain": [
       "<AxesSubplot:xlabel='weather_1', ylabel='count'>"
      ]
     },
     "execution_count": 14,
     "metadata": {},
     "output_type": "execute_result"
    },
    {
     "data": {
      "image/png": "[encoded data removed]",
      "text/plain": [
       "<Figure size 432x288 with 1 Axes>"
      ]
     },
     "metadata": {
      "needs_background": "light"
     },
     "output_type": "display_data"
    }
   ],
   "source": [
    "sns.barplot(\n",
    "    x='weather_1', \n",
    "    y='count', \n",
    "    data=df_1, \n",
    "    palette='bright',\n",
    "    hue='vehicle_transmission')"
   ]
  },
  {
   "cell_type": "markdown",
   "id": "e6c3aaf0",
   "metadata": {},
   "source": [
    "## 3. Создание модели для оценки водительского риска"
   ]
  },
  {
   "cell_type": "markdown",
   "id": "d8615e24",
   "metadata": {},
   "source": [
    "### Подготовка набора данных"
   ]
  },
  {
   "cell_type": "markdown",
   "id": "82eee21f",
   "metadata": {},
   "source": [
    "На основе первичного предложения заказчика подготовим следующий набор данных:\n",
    "- выберем тип виновника 'car'\n",
    "- возьмем случаи, когда ДТП привело к любым значимым повреждениям автомобиля любого из участников кроме типа 'scratch'\n",
    "- для моделирования возьмем данные только за 2012 г."
   ]
  },
  {
   "cell_type": "markdown",
   "id": "a78992c3",
   "metadata": {},
   "source": [
    "### Первичный отбор факторов, необходимых для обучения модели"
   ]
  },
  {
   "cell_type": "markdown",
   "id": "1f4337ee",
   "metadata": {},
   "source": [
    "По заданию, мы должны создать модель, которая будет оценивать риск ДТП по выбранному маршруту. Отберем признаки, которые помогут решить эту задачу.\n",
    "\n",
    "Таблица collisions:\n",
    "- case_id - нам понадобится уникальный номер происшествия для сбора данных\n",
    "- collision_date - извлечем месяц происшествия для оценки сезонности\n",
    "- collision_time - извлечем час дня для оценки влияния времени суток на ДТП\n",
    "- weather_1 - погодные условия, очевидно, влияют на безопасность на дорогах\n",
    "- road_surface - состояние дороги\n",
    "- lighting - дополнит пункт времени суток, так как в разные сезоны и в разных широтах, условия освещения могут быть разные\n",
    "- county_location - название населенного пункта поможет оценить сложность трафика, в крупных городах, очевидно, ездить сложнее\n",
    "- location_type - тип дороги напрямую может влиять на вероятность ДТП\n",
    "- road_condition_1 - состояние дороги\n",
    "- control_condotion - непонятный признак, возьмем на всякий\n",
    "\n",
    "Таблица parties:\n",
    "- at_fault - целевой признак\n",
    "- party_drug_physical - физическое состояние участников влияет на риски на дорогах\n",
    "- party_sobriety - аналогично с трезвостью\n",
    "- cellphone_in_use - пользование телефоном во время движения также может увеличивать риски ДТП\n",
    "\n",
    "Таблица vehicles:\n",
    "- vehicles_type - тип автомобиля может иметь значение\n",
    "- vehicle_transmission - аналогично с типом КП\n",
    "- vehicle_age - возраст автомобиля, соответственно, тоже важен\n",
    "\n",
    "Не берем признаки:\n",
    "- intersection - уже есть в location_type\n",
    "- collision_damage - относится уже к последствиям, а не к причинам\n",
    "- county_city_location - не имеет значения\n",
    "- direction - непонятно\n",
    "- distance - похоже на location_type\n",
    "- party_count - для нас имеет значение вероятность ДТП, а не число его участников\n",
    "- primary_collision_factor\n",
    "- pcf_violation_category\n",
    "- type_of_collision\n",
    "- motor_vehicle_involved_with\n",
    "\n",
    "\n",
    "- party_type - уже отсортировали\n",
    "- insurance_premium - не имеет отношения"
   ]
  },
  {
   "cell_type": "code",
   "execution_count": 15,
   "id": "128c42a0",
   "metadata": {},
   "outputs": [
    {
     "data": {
      "text/html": [
       "<div>\n",
       "<style scoped>\n",
       "    .dataframe tbody tr th:only-of-type {\n",
       "        vertical-align: middle;\n",
       "    }\n",
       "\n",
       "    .dataframe tbody tr th {\n",
       "        vertical-align: top;\n",
       "    }\n",
       "\n",
       "    .dataframe thead th {\n",
       "        text-align: right;\n",
       "    }\n",
       "</style>\n",
       "<table border=\"1\" class=\"dataframe\">\n",
       "  <thead>\n",
       "    <tr style=\"text-align: right;\">\n",
       "      <th></th>\n",
       "      <th>id</th>\n",
       "      <th>month</th>\n",
       "      <th>hour</th>\n",
       "      <th>weather</th>\n",
       "      <th>road_surface</th>\n",
       "      <th>lighting</th>\n",
       "      <th>county_location</th>\n",
       "      <th>location_type</th>\n",
       "      <th>road_condition</th>\n",
       "      <th>control_device</th>\n",
       "      <th>at_fault</th>\n",
       "      <th>party_drug_physical</th>\n",
       "      <th>party_sobriety</th>\n",
       "      <th>cellphone_in_use</th>\n",
       "      <th>vehicle_type</th>\n",
       "      <th>vehicle_transmission</th>\n",
       "      <th>vehicle_age</th>\n",
       "    </tr>\n",
       "  </thead>\n",
       "  <tbody>\n",
       "    <tr>\n",
       "      <th>0</th>\n",
       "      <td>5064690</td>\n",
       "      <td>1.0</td>\n",
       "      <td>10.0</td>\n",
       "      <td>clear</td>\n",
       "      <td>dry</td>\n",
       "      <td>daylight</td>\n",
       "      <td>alameda</td>\n",
       "      <td>ramp</td>\n",
       "      <td>normal</td>\n",
       "      <td>none</td>\n",
       "      <td>1</td>\n",
       "      <td>None</td>\n",
       "      <td>had not been drinking</td>\n",
       "      <td>0.0</td>\n",
       "      <td>None</td>\n",
       "      <td>None</td>\n",
       "      <td>NaN</td>\n",
       "    </tr>\n",
       "    <tr>\n",
       "      <th>1</th>\n",
       "      <td>5125160</td>\n",
       "      <td>3.0</td>\n",
       "      <td>7.0</td>\n",
       "      <td>cloudy</td>\n",
       "      <td>dry</td>\n",
       "      <td>daylight</td>\n",
       "      <td>san diego</td>\n",
       "      <td>None</td>\n",
       "      <td>other</td>\n",
       "      <td>none</td>\n",
       "      <td>0</td>\n",
       "      <td>None</td>\n",
       "      <td>had not been drinking</td>\n",
       "      <td>0.0</td>\n",
       "      <td>sedan</td>\n",
       "      <td>auto</td>\n",
       "      <td>2.0</td>\n",
       "    </tr>\n",
       "    <tr>\n",
       "      <th>2</th>\n",
       "      <td>5125160</td>\n",
       "      <td>3.0</td>\n",
       "      <td>7.0</td>\n",
       "      <td>cloudy</td>\n",
       "      <td>dry</td>\n",
       "      <td>daylight</td>\n",
       "      <td>san diego</td>\n",
       "      <td>None</td>\n",
       "      <td>other</td>\n",
       "      <td>none</td>\n",
       "      <td>1</td>\n",
       "      <td>None</td>\n",
       "      <td>had not been drinking</td>\n",
       "      <td>0.0</td>\n",
       "      <td>None</td>\n",
       "      <td>None</td>\n",
       "      <td>NaN</td>\n",
       "    </tr>\n",
       "    <tr>\n",
       "      <th>3</th>\n",
       "      <td>5125192</td>\n",
       "      <td>3.0</td>\n",
       "      <td>14.0</td>\n",
       "      <td>cloudy</td>\n",
       "      <td>dry</td>\n",
       "      <td>daylight</td>\n",
       "      <td>santa clara</td>\n",
       "      <td>None</td>\n",
       "      <td>normal</td>\n",
       "      <td>functioning</td>\n",
       "      <td>1</td>\n",
       "      <td>None</td>\n",
       "      <td>had not been drinking</td>\n",
       "      <td>0.0</td>\n",
       "      <td>None</td>\n",
       "      <td>None</td>\n",
       "      <td>NaN</td>\n",
       "    </tr>\n",
       "    <tr>\n",
       "      <th>4</th>\n",
       "      <td>5173738</td>\n",
       "      <td>4.0</td>\n",
       "      <td>12.0</td>\n",
       "      <td>clear</td>\n",
       "      <td>dry</td>\n",
       "      <td>daylight</td>\n",
       "      <td>sacramento</td>\n",
       "      <td>None</td>\n",
       "      <td>normal</td>\n",
       "      <td>none</td>\n",
       "      <td>0</td>\n",
       "      <td>None</td>\n",
       "      <td>had not been drinking</td>\n",
       "      <td>0.0</td>\n",
       "      <td>sedan</td>\n",
       "      <td>auto</td>\n",
       "      <td>5.0</td>\n",
       "    </tr>\n",
       "  </tbody>\n",
       "</table>\n",
       "</div>"
      ],
      "text/plain": [
       "        id  month  hour weather road_surface  lighting county_location  \\\n",
       "0  5064690    1.0  10.0   clear          dry  daylight         alameda   \n",
       "1  5125160    3.0   7.0  cloudy          dry  daylight       san diego   \n",
       "2  5125160    3.0   7.0  cloudy          dry  daylight       san diego   \n",
       "3  5125192    3.0  14.0  cloudy          dry  daylight     santa clara   \n",
       "4  5173738    4.0  12.0   clear          dry  daylight      sacramento   \n",
       "\n",
       "  location_type road_condition control_device  at_fault party_drug_physical  \\\n",
       "0          ramp         normal           none         1                None   \n",
       "1          None          other           none         0                None   \n",
       "2          None          other           none         1                None   \n",
       "3          None         normal    functioning         1                None   \n",
       "4          None         normal           none         0                None   \n",
       "\n",
       "          party_sobriety  cellphone_in_use vehicle_type vehicle_transmission  \\\n",
       "0  had not been drinking               0.0         None                 None   \n",
       "1  had not been drinking               0.0        sedan                 auto   \n",
       "2  had not been drinking               0.0         None                 None   \n",
       "3  had not been drinking               0.0         None                 None   \n",
       "4  had not been drinking               0.0        sedan                 auto   \n",
       "\n",
       "   vehicle_age  \n",
       "0          NaN  \n",
       "1          2.0  \n",
       "2          NaN  \n",
       "3          NaN  \n",
       "4          5.0  "
      ]
     },
     "execution_count": 15,
     "metadata": {},
     "output_type": "execute_result"
    }
   ],
   "source": [
    "query = '''\n",
    "    SELECT DISTINCT(p.case_id) AS id,\n",
    "           EXTRACT(MONTH FROM CAST(collision_date AS date)) AS month,\n",
    "           EXTRACT(HOUR FROM collision_time) AS hour,\n",
    "           weather_1 AS weather,\n",
    "           road_surface,\n",
    "           lighting,\n",
    "           county_location,\n",
    "           location_type,\n",
    "           road_condition_1 AS road_condition,\n",
    "           control_device,\n",
    "           at_fault,\n",
    "           party_drug_physical,\n",
    "           party_sobriety,\n",
    "           cellphone_in_use,\n",
    "           vehicle_type,\n",
    "           vehicle_transmission,\n",
    "           vehicle_age\n",
    "    FROM parties AS p\n",
    "    LEFT JOIN collisions AS c ON p.case_id = c.case_id\n",
    "    LEFT JOIN vehicles AS v ON (p.case_id = v.case_id AND p.party_number = v.party_number)\n",
    "    WHERE collision_damage != 'scratch'\n",
    "        AND EXTRACT(YEAR FROM CAST(collision_date AS date)) = '2012'\n",
    "            AND party_type = 'car'\n",
    "    '''\n",
    "\n",
    "data = pd.read_sql_query(query, con=engine)\n",
    "data.head()"
   ]
  },
  {
   "cell_type": "markdown",
   "id": "f8618688",
   "metadata": {},
   "source": [
    "### Cтатистическое исследование отобранных факторов"
   ]
  },
  {
   "cell_type": "code",
   "execution_count": 16,
   "id": "96e21271",
   "metadata": {},
   "outputs": [
    {
     "name": "stdout",
     "output_type": "stream",
     "text": [
      "<class 'pandas.core.frame.DataFrame'>\n",
      "RangeIndex: 188836 entries, 0 to 188835\n",
      "Data columns (total 17 columns):\n",
      " #   Column                Non-Null Count   Dtype  \n",
      "---  ------                --------------   -----  \n",
      " 0   id                    188836 non-null  object \n",
      " 1   month                 188836 non-null  float64\n",
      " 2   hour                  187473 non-null  float64\n",
      " 3   weather               188223 non-null  object \n",
      " 4   road_surface          187625 non-null  object \n",
      " 5   lighting              188142 non-null  object \n",
      " 6   county_location       188836 non-null  object \n",
      " 7   location_type         82315 non-null   object \n",
      " 8   road_condition        187759 non-null  object \n",
      " 9   control_device        187917 non-null  object \n",
      " 10  at_fault              188836 non-null  int64  \n",
      " 11  party_drug_physical   25004 non-null   object \n",
      " 12  party_sobriety        185299 non-null  object \n",
      " 13  cellphone_in_use      164070 non-null  float64\n",
      " 14  vehicle_type          56124 non-null   object \n",
      " 15  vehicle_transmission  55267 non-null   object \n",
      " 16  vehicle_age           54436 non-null   float64\n",
      "dtypes: float64(4), int64(1), object(12)\n",
      "memory usage: 24.5+ MB\n"
     ]
    }
   ],
   "source": [
    "data.info()"
   ]
  },
  {
   "cell_type": "markdown",
   "id": "c0581aca",
   "metadata": {},
   "source": [
    "Проверим полученный датасет на пропуски и дубликаты."
   ]
  },
  {
   "cell_type": "code",
   "execution_count": 17,
   "id": "74179b89",
   "metadata": {},
   "outputs": [
    {
     "data": {
      "text/plain": [
       "id                           0\n",
       "month                        0\n",
       "hour                      1363\n",
       "weather                    613\n",
       "road_surface              1211\n",
       "lighting                   694\n",
       "county_location              0\n",
       "location_type           106521\n",
       "road_condition            1077\n",
       "control_device             919\n",
       "at_fault                     0\n",
       "party_drug_physical     163832\n",
       "party_sobriety            3537\n",
       "cellphone_in_use         24766\n",
       "vehicle_type            132712\n",
       "vehicle_transmission    133569\n",
       "vehicle_age             134400\n",
       "dtype: int64"
      ]
     },
     "execution_count": 17,
     "metadata": {},
     "output_type": "execute_result"
    }
   ],
   "source": [
    "data.isna().sum()"
   ]
  },
  {
   "cell_type": "code",
   "execution_count": 18,
   "id": "e37a12f2",
   "metadata": {},
   "outputs": [
    {
     "data": {
      "text/plain": [
       "0"
      ]
     },
     "execution_count": 18,
     "metadata": {},
     "output_type": "execute_result"
    }
   ],
   "source": [
    "data.duplicated().sum()"
   ]
  },
  {
   "cell_type": "markdown",
   "id": "3945501f",
   "metadata": {},
   "source": [
    "### month"
   ]
  },
  {
   "cell_type": "markdown",
   "id": "b3448699",
   "metadata": {},
   "source": [
    "Данные по месяцам распределены неравномерно, поэтому удалим этот столбец из анализа."
   ]
  },
  {
   "cell_type": "code",
   "execution_count": 19,
   "id": "51d4cf74",
   "metadata": {},
   "outputs": [
    {
     "data": {
      "text/plain": [
       "<AxesSubplot:>"
      ]
     },
     "execution_count": 19,
     "metadata": {},
     "output_type": "execute_result"
    },
    {
     "data": {
      "image/png": "[encoded data removed]",
      "text/plain": [
       "<Figure size 432x288 with 1 Axes>"
      ]
     },
     "metadata": {
      "needs_background": "light"
     },
     "output_type": "display_data"
    }
   ],
   "source": [
    "data['month'].hist()"
   ]
  },
  {
   "cell_type": "code",
   "execution_count": 20,
   "id": "cff28ed8",
   "metadata": {},
   "outputs": [],
   "source": [
    "data = data.drop(columns=['month'], axis=1)"
   ]
  },
  {
   "cell_type": "markdown",
   "id": "66ad96f9",
   "metadata": {},
   "source": [
    "### hour"
   ]
  },
  {
   "cell_type": "markdown",
   "id": "bc060605",
   "metadata": {},
   "source": [
    "Удалим пропуски. В остальном без изменений. Как видно из гистограммы, утром, днем, вечером совершается больше поездок, чем ночью, что выглядит репрезентативно."
   ]
  },
  {
   "cell_type": "code",
   "execution_count": 21,
   "id": "58cedc89",
   "metadata": {},
   "outputs": [
    {
     "data": {
      "text/plain": [
       "1363"
      ]
     },
     "execution_count": 21,
     "metadata": {},
     "output_type": "execute_result"
    }
   ],
   "source": [
    "data['hour'].isna().sum()"
   ]
  },
  {
   "cell_type": "code",
   "execution_count": 22,
   "id": "50f68937",
   "metadata": {},
   "outputs": [
    {
     "data": {
      "text/plain": [
       "<AxesSubplot:>"
      ]
     },
     "execution_count": 22,
     "metadata": {},
     "output_type": "execute_result"
    },
    {
     "data": {
      "image/png": "[encoded data removed]",
      "text/plain": [
       "<Figure size 432x288 with 1 Axes>"
      ]
     },
     "metadata": {
      "needs_background": "light"
     },
     "output_type": "display_data"
    }
   ],
   "source": [
    "data['hour'].hist(bins=24)"
   ]
  },
  {
   "cell_type": "code",
   "execution_count": 23,
   "id": "5308c415",
   "metadata": {},
   "outputs": [],
   "source": [
    "data = data.dropna(subset=['hour'])"
   ]
  },
  {
   "cell_type": "markdown",
   "id": "fec4a7c7",
   "metadata": {},
   "source": [
    "### weather"
   ]
  },
  {
   "cell_type": "markdown",
   "id": "e9fdd034",
   "metadata": {},
   "source": [
    "Удалим пропуски, заменим небольшие значения на other"
   ]
  },
  {
   "cell_type": "code",
   "execution_count": 24,
   "id": "368b593b",
   "metadata": {},
   "outputs": [
    {
     "data": {
      "text/plain": [
       "592"
      ]
     },
     "execution_count": 24,
     "metadata": {},
     "output_type": "execute_result"
    }
   ],
   "source": [
    "data['weather'].isna().sum()"
   ]
  },
  {
   "cell_type": "code",
   "execution_count": 25,
   "id": "09f6c940",
   "metadata": {},
   "outputs": [
    {
     "data": {
      "text/plain": [
       "clear      149791\n",
       "cloudy      28148\n",
       "raining      7782\n",
       "fog           557\n",
       "snowing       420\n",
       "other         138\n",
       "wind           45\n",
       "Name: weather, dtype: int64"
      ]
     },
     "execution_count": 25,
     "metadata": {},
     "output_type": "execute_result"
    }
   ],
   "source": [
    "data['weather'].value_counts()"
   ]
  },
  {
   "cell_type": "code",
   "execution_count": 26,
   "id": "ab77a265",
   "metadata": {},
   "outputs": [],
   "source": [
    "data['weather'] = data['weather'].str.replace('fog', 'other')\n",
    "data['weather'] = data['weather'].str.replace('snowing', 'other')\n",
    "data['weather'] = data['weather'].str.replace('wind', 'other')"
   ]
  },
  {
   "cell_type": "code",
   "execution_count": 27,
   "id": "aa1df820",
   "metadata": {},
   "outputs": [],
   "source": [
    "data = data.dropna(subset=['weather'])"
   ]
  },
  {
   "cell_type": "markdown",
   "id": "a1a9cd2d",
   "metadata": {},
   "source": [
    "### road_surface"
   ]
  },
  {
   "cell_type": "code",
   "execution_count": 28,
   "id": "27f9592c",
   "metadata": {},
   "outputs": [
    {
     "data": {
      "text/plain": [
       "909"
      ]
     },
     "execution_count": 28,
     "metadata": {},
     "output_type": "execute_result"
    }
   ],
   "source": [
    "data['road_surface'].isna().sum()"
   ]
  },
  {
   "cell_type": "code",
   "execution_count": 29,
   "id": "d99952d3",
   "metadata": {},
   "outputs": [
    {
     "data": {
      "text/plain": [
       "dry         166872\n",
       "wet          18070\n",
       "snowy          890\n",
       "slippery       140\n",
       "Name: road_surface, dtype: int64"
      ]
     },
     "execution_count": 29,
     "metadata": {},
     "output_type": "execute_result"
    }
   ],
   "source": [
    "data['road_surface'].value_counts()"
   ]
  },
  {
   "cell_type": "code",
   "execution_count": 30,
   "id": "9e1cb634",
   "metadata": {},
   "outputs": [],
   "source": [
    "data = data.dropna(subset=['road_surface'])"
   ]
  },
  {
   "cell_type": "code",
   "execution_count": 31,
   "id": "35c14ffa",
   "metadata": {},
   "outputs": [],
   "source": [
    "data['road_surface'] = data['road_surface'].str.replace('snowy', 'other')\n",
    "data['road_surface'] = data['road_surface'].str.replace('slippery', 'other')"
   ]
  },
  {
   "cell_type": "markdown",
   "id": "a6036311",
   "metadata": {},
   "source": [
    "### lighting"
   ]
  },
  {
   "cell_type": "markdown",
   "id": "7f586219",
   "metadata": {},
   "source": [
    "Удалим пропуски, включим редкое значение dark with street lights not functioning в dark with no street lights что по сути то же самое"
   ]
  },
  {
   "cell_type": "code",
   "execution_count": 32,
   "id": "5a8a24e1",
   "metadata": {},
   "outputs": [
    {
     "data": {
      "text/plain": [
       "378"
      ]
     },
     "execution_count": 32,
     "metadata": {},
     "output_type": "execute_result"
    }
   ],
   "source": [
    "data['lighting'].isna().sum()"
   ]
  },
  {
   "cell_type": "code",
   "execution_count": 33,
   "id": "8c2f1f2c",
   "metadata": {},
   "outputs": [
    {
     "data": {
      "text/plain": [
       "daylight                                   128821\n",
       "dark with street lights                     36316\n",
       "dark with no street lights                  13664\n",
       "dusk or dawn                                 6377\n",
       "dark with street lights not functioning       416\n",
       "Name: lighting, dtype: int64"
      ]
     },
     "execution_count": 33,
     "metadata": {},
     "output_type": "execute_result"
    }
   ],
   "source": [
    "data['lighting'].value_counts()"
   ]
  },
  {
   "cell_type": "code",
   "execution_count": 34,
   "id": "9d44b798",
   "metadata": {},
   "outputs": [],
   "source": [
    "data['lighting'] = data['lighting'].str.replace('dark with street lights not functioning', 'dark with no street lights')"
   ]
  },
  {
   "cell_type": "code",
   "execution_count": 35,
   "id": "7dd22527",
   "metadata": {},
   "outputs": [],
   "source": [
    "data = data.dropna(subset=['lighting'])"
   ]
  },
  {
   "cell_type": "markdown",
   "id": "688784c9",
   "metadata": {},
   "source": [
    "### county_location"
   ]
  },
  {
   "cell_type": "markdown",
   "id": "bafe283c",
   "metadata": {},
   "source": [
    "Оставим только 30 самых популярных локаций, остальное заменим на other"
   ]
  },
  {
   "cell_type": "code",
   "execution_count": 36,
   "id": "024d02c4",
   "metadata": {},
   "outputs": [
    {
     "data": {
      "text/plain": [
       "los angeles        60393\n",
       "orange             17270\n",
       "san bernardino     10883\n",
       "riverside          10170\n",
       "san diego           9569\n",
       "alameda             7705\n",
       "sacramento          7040\n",
       "santa clara         6463\n",
       "ventura             4737\n",
       "kern                4082\n",
       "contra costa        4031\n",
       "san mateo           3465\n",
       "san joaquin         2835\n",
       "fresno              2830\n",
       "tulare              2764\n",
       "santa barbara       2606\n",
       "stanislaus          2408\n",
       "sonoma              2269\n",
       "monterey            2108\n",
       "placer              1901\n",
       "solano              1638\n",
       "san francisco       1635\n",
       "san luis obispo     1486\n",
       "santa cruz          1420\n",
       "marin               1405\n",
       "merced              1235\n",
       "yolo                1040\n",
       "humboldt             912\n",
       "butte                828\n",
       "madera               763\n",
       "shasta               744\n",
       "el dorado            742\n",
       "napa                 626\n",
       "kings                591\n",
       "nevada               541\n",
       "mendocino            533\n",
       "imperial             500\n",
       "tehama               386\n",
       "sutter               379\n",
       "yuba                 290\n",
       "tuolumne             271\n",
       "lake                 242\n",
       "calaveras            221\n",
       "siskiyou             201\n",
       "san benito           196\n",
       "amador               183\n",
       "inyo                 136\n",
       "colusa               131\n",
       "del norte            126\n",
       "lassen               123\n",
       "mariposa             119\n",
       "mono                 115\n",
       "glenn                 95\n",
       "plumas                68\n",
       "trinity               58\n",
       "modoc                 34\n",
       "alpine                31\n",
       "sierra                21\n",
       "Name: county_location, dtype: int64"
      ]
     },
     "execution_count": 36,
     "metadata": {},
     "output_type": "execute_result"
    }
   ],
   "source": [
    "data['county_location'].value_counts()"
   ]
  },
  {
   "cell_type": "code",
   "execution_count": 37,
   "id": "e34517b6",
   "metadata": {},
   "outputs": [],
   "source": [
    "top_30 = data['county_location'].value_counts(normalize=True).sort_values(ascending=False)[:30].index\n",
    "data['county_location'] = data['county_location'].where((data['county_location'].isin(top_30)), 'other')"
   ]
  },
  {
   "cell_type": "markdown",
   "id": "20363f05",
   "metadata": {},
   "source": [
    "### location_type"
   ]
  },
  {
   "cell_type": "markdown",
   "id": "7f2569e1",
   "metadata": {},
   "source": [
    "Пропуски заменим на other"
   ]
  },
  {
   "cell_type": "code",
   "execution_count": 38,
   "id": "91653038",
   "metadata": {},
   "outputs": [
    {
     "data": {
      "text/plain": [
       "104002"
      ]
     },
     "execution_count": 38,
     "metadata": {},
     "output_type": "execute_result"
    }
   ],
   "source": [
    "data['location_type'].isna().sum()"
   ]
  },
  {
   "cell_type": "code",
   "execution_count": 39,
   "id": "bec71508",
   "metadata": {},
   "outputs": [
    {
     "data": {
      "text/plain": [
       "highway         66826\n",
       "ramp            10994\n",
       "intersection     3772\n",
       "Name: location_type, dtype: int64"
      ]
     },
     "execution_count": 39,
     "metadata": {},
     "output_type": "execute_result"
    }
   ],
   "source": [
    "data['location_type'].value_counts()"
   ]
  },
  {
   "cell_type": "code",
   "execution_count": 40,
   "id": "aaf20a01",
   "metadata": {},
   "outputs": [],
   "source": [
    "data['location_type'] = data['location_type'].fillna('other')"
   ]
  },
  {
   "cell_type": "markdown",
   "id": "6d2489b7",
   "metadata": {},
   "source": [
    "### road_condition"
   ]
  },
  {
   "cell_type": "markdown",
   "id": "363a5180",
   "metadata": {},
   "source": [
    "Пропуски и редкие значение заменим на other"
   ]
  },
  {
   "cell_type": "code",
   "execution_count": 41,
   "id": "85be1bc0",
   "metadata": {},
   "outputs": [
    {
     "data": {
      "text/plain": [
       "752"
      ]
     },
     "execution_count": 41,
     "metadata": {},
     "output_type": "execute_result"
    }
   ],
   "source": [
    "data['road_condition'].isna().sum()"
   ]
  },
  {
   "cell_type": "code",
   "execution_count": 42,
   "id": "69f10eb9",
   "metadata": {},
   "outputs": [
    {
     "data": {
      "text/plain": [
       "normal            179303\n",
       "construction        3124\n",
       "other                731\n",
       "obstruction          681\n",
       "holes                401\n",
       "loose material       299\n",
       "reduced width        201\n",
       "flooded              102\n",
       "Name: road_condition, dtype: int64"
      ]
     },
     "execution_count": 42,
     "metadata": {},
     "output_type": "execute_result"
    }
   ],
   "source": [
    "data['road_condition'].value_counts()"
   ]
  },
  {
   "cell_type": "code",
   "execution_count": 43,
   "id": "f678c871",
   "metadata": {},
   "outputs": [],
   "source": [
    "data = data.dropna(subset=['road_condition'])"
   ]
  },
  {
   "cell_type": "code",
   "execution_count": 44,
   "id": "30da2a70",
   "metadata": {},
   "outputs": [],
   "source": [
    "data['road_condition'] = data['road_condition'].str.replace('obstruction', 'other')\n",
    "data['road_condition'] = data['road_condition'].str.replace('holes', 'other')\n",
    "data['road_condition'] = data['road_condition'].str.replace('loose material', 'other')\n",
    "data['road_condition'] = data['road_condition'].str.replace('reduced width', 'other')\n",
    "data['road_condition'] = data['road_condition'].str.replace('flooded', 'other')"
   ]
  },
  {
   "cell_type": "markdown",
   "id": "6f844802",
   "metadata": {},
   "source": [
    "### control_device"
   ]
  },
  {
   "cell_type": "markdown",
   "id": "73443274",
   "metadata": {},
   "source": [
    "Удалим пропуски и пару редких значений."
   ]
  },
  {
   "cell_type": "code",
   "execution_count": 45,
   "id": "746caad9",
   "metadata": {},
   "outputs": [
    {
     "data": {
      "text/plain": [
       "720"
      ]
     },
     "execution_count": 45,
     "metadata": {},
     "output_type": "execute_result"
    }
   ],
   "source": [
    "data['control_device'].isna().sum()"
   ]
  },
  {
   "cell_type": "code",
   "execution_count": 46,
   "id": "dc3ee53b",
   "metadata": {},
   "outputs": [
    {
     "data": {
      "text/plain": [
       "none               124375\n",
       "functioning         59242\n",
       "not functioning       409\n",
       "obscured               96\n",
       "Name: control_device, dtype: int64"
      ]
     },
     "execution_count": 46,
     "metadata": {},
     "output_type": "execute_result"
    }
   ],
   "source": [
    "data['control_device'].value_counts()"
   ]
  },
  {
   "cell_type": "code",
   "execution_count": 47,
   "id": "b4feaedf",
   "metadata": {},
   "outputs": [],
   "source": [
    "data = data.dropna(subset=['control_device'])"
   ]
  },
  {
   "cell_type": "code",
   "execution_count": 48,
   "id": "1bdf923f",
   "metadata": {},
   "outputs": [],
   "source": [
    "data = data.query('control_device != \"not functioning\"')\n",
    "data = data.query('control_device != \"obscured\"')"
   ]
  },
  {
   "cell_type": "markdown",
   "id": "59aa2641",
   "metadata": {},
   "source": [
    "### at_fault"
   ]
  },
  {
   "cell_type": "code",
   "execution_count": 49,
   "id": "3f3be0df",
   "metadata": {},
   "outputs": [
    {
     "data": {
      "text/plain": [
       "1    99936\n",
       "0    83681\n",
       "Name: at_fault, dtype: int64"
      ]
     },
     "execution_count": 49,
     "metadata": {},
     "output_type": "execute_result"
    }
   ],
   "source": [
    "data['at_fault'].value_counts()"
   ]
  },
  {
   "cell_type": "markdown",
   "id": "fbf054dd",
   "metadata": {},
   "source": [
    "### party_drug_physical"
   ]
  },
  {
   "cell_type": "markdown",
   "id": "3b47bea0",
   "metadata": {},
   "source": [
    "Согласно документации, категория G (не известно) похожа на not applicable. Можно сделать соответствующую замену пропусков и G"
   ]
  },
  {
   "cell_type": "code",
   "execution_count": 50,
   "id": "b01b2908",
   "metadata": {},
   "outputs": [
    {
     "data": {
      "text/plain": [
       "160285"
      ]
     },
     "execution_count": 50,
     "metadata": {},
     "output_type": "execute_result"
    }
   ],
   "source": [
    "data['party_drug_physical'].isna().sum()"
   ]
  },
  {
   "cell_type": "code",
   "execution_count": 51,
   "id": "1647faa7",
   "metadata": {},
   "outputs": [
    {
     "data": {
      "text/plain": [
       "G                        18936\n",
       "not applicable            1515\n",
       "under drug influence      1467\n",
       "sleepy/fatigued           1083\n",
       "impairment - physical      331\n",
       "Name: party_drug_physical, dtype: int64"
      ]
     },
     "execution_count": 51,
     "metadata": {},
     "output_type": "execute_result"
    }
   ],
   "source": [
    "data['party_drug_physical'].value_counts()"
   ]
  },
  {
   "cell_type": "code",
   "execution_count": 52,
   "id": "1c4ac336",
   "metadata": {},
   "outputs": [],
   "source": [
    "data['party_drug_physical'] = data['party_drug_physical'].fillna('not applicable')\n",
    "data['party_drug_physical'] = data['party_drug_physical'].str.replace('G', 'not applicable')"
   ]
  },
  {
   "cell_type": "markdown",
   "id": "4aa8cc00",
   "metadata": {},
   "source": [
    "### party_sobriety"
   ]
  },
  {
   "cell_type": "markdown",
   "id": "d5e5ce94",
   "metadata": {},
   "source": [
    "Удалим пропуски, уберем детали в had been drinking"
   ]
  },
  {
   "cell_type": "code",
   "execution_count": 53,
   "id": "5a18b050",
   "metadata": {},
   "outputs": [
    {
     "data": {
      "text/plain": [
       "3192"
      ]
     },
     "execution_count": 53,
     "metadata": {},
     "output_type": "execute_result"
    }
   ],
   "source": [
    "data['party_sobriety'].isna().sum()"
   ]
  },
  {
   "cell_type": "code",
   "execution_count": 54,
   "id": "681840d8",
   "metadata": {},
   "outputs": [
    {
     "data": {
      "text/plain": [
       "had not been drinking                     147085\n",
       "impairment unknown                         18936\n",
       "had been drinking, under influence         10008\n",
       "had been drinking, impairment unknown       1568\n",
       "not applicable                              1515\n",
       "had been drinking, not under influence      1313\n",
       "Name: party_sobriety, dtype: int64"
      ]
     },
     "execution_count": 54,
     "metadata": {},
     "output_type": "execute_result"
    }
   ],
   "source": [
    "data['party_sobriety'].value_counts()"
   ]
  },
  {
   "cell_type": "code",
   "execution_count": 55,
   "id": "507d1376",
   "metadata": {},
   "outputs": [],
   "source": [
    "data = data.dropna(subset=['party_sobriety'])"
   ]
  },
  {
   "cell_type": "code",
   "execution_count": 56,
   "id": "c36cdb89",
   "metadata": {},
   "outputs": [],
   "source": [
    "data['party_sobriety'] = data['party_sobriety'].str.replace('had been drinking, under influence', 'had been drinking')\n",
    "data['party_sobriety'] = data['party_sobriety'].str.replace('had been drinking, impairment unknown', 'had been drinking')\n",
    "data['party_sobriety'] = data['party_sobriety'].str.replace('had been drinking, not under influence', 'had been drinking')"
   ]
  },
  {
   "cell_type": "code",
   "execution_count": 57,
   "id": "fedca33f",
   "metadata": {},
   "outputs": [],
   "source": [
    "data = data.query('party_sobriety != \"not applicable\"')"
   ]
  },
  {
   "cell_type": "markdown",
   "id": "f14db1ab",
   "metadata": {},
   "source": [
    "### cellphone_in_use"
   ]
  },
  {
   "cell_type": "markdown",
   "id": "6faeba65",
   "metadata": {},
   "source": [
    "Удалим пропуски"
   ]
  },
  {
   "cell_type": "code",
   "execution_count": 58,
   "id": "be3c97e4",
   "metadata": {},
   "outputs": [
    {
     "data": {
      "text/plain": [
       "21210"
      ]
     },
     "execution_count": 58,
     "metadata": {},
     "output_type": "execute_result"
    }
   ],
   "source": [
    "data['cellphone_in_use'].isna().sum()"
   ]
  },
  {
   "cell_type": "code",
   "execution_count": 59,
   "id": "0bf69d9e",
   "metadata": {},
   "outputs": [
    {
     "data": {
      "text/plain": [
       "0.0    153939\n",
       "1.0      3761\n",
       "Name: cellphone_in_use, dtype: int64"
      ]
     },
     "execution_count": 59,
     "metadata": {},
     "output_type": "execute_result"
    }
   ],
   "source": [
    "data['cellphone_in_use'].value_counts()"
   ]
  },
  {
   "cell_type": "code",
   "execution_count": 60,
   "id": "e110c354",
   "metadata": {},
   "outputs": [],
   "source": [
    "data['cellphone_in_use'] = data['cellphone_in_use'].fillna(0)"
   ]
  },
  {
   "cell_type": "code",
   "execution_count": 61,
   "id": "e5156722",
   "metadata": {},
   "outputs": [
    {
     "data": {
      "text/plain": [
       "0.0    175149\n",
       "1.0      3761\n",
       "Name: cellphone_in_use, dtype: int64"
      ]
     },
     "execution_count": 61,
     "metadata": {},
     "output_type": "execute_result"
    }
   ],
   "source": [
    "data['cellphone_in_use'].value_counts()"
   ]
  },
  {
   "cell_type": "markdown",
   "id": "08e58700",
   "metadata": {},
   "source": [
    "### vehicle_type"
   ]
  },
  {
   "cell_type": "markdown",
   "id": "23ca4b36",
   "metadata": {},
   "source": [
    "Заменим пропуски на other"
   ]
  },
  {
   "cell_type": "code",
   "execution_count": 62,
   "id": "2e002af1",
   "metadata": {},
   "outputs": [
    {
     "data": {
      "text/plain": [
       "124977"
      ]
     },
     "execution_count": 62,
     "metadata": {},
     "output_type": "execute_result"
    }
   ],
   "source": [
    "data['vehicle_type'].isna().sum()"
   ]
  },
  {
   "cell_type": "code",
   "execution_count": 63,
   "id": "fc1dbcb5",
   "metadata": {},
   "outputs": [
    {
     "data": {
      "text/plain": [
       "sedan    35864\n",
       "coupe    18067\n",
       "other        2\n",
       "Name: vehicle_type, dtype: int64"
      ]
     },
     "execution_count": 63,
     "metadata": {},
     "output_type": "execute_result"
    }
   ],
   "source": [
    "data['vehicle_type'].value_counts()"
   ]
  },
  {
   "cell_type": "code",
   "execution_count": 64,
   "id": "6e8332e8",
   "metadata": {},
   "outputs": [],
   "source": [
    "data['vehicle_type'] = data['vehicle_type'].fillna('other')"
   ]
  },
  {
   "cell_type": "markdown",
   "id": "81f80ea4",
   "metadata": {},
   "source": [
    "### vehicle_transmission"
   ]
  },
  {
   "cell_type": "markdown",
   "id": "0de52b63",
   "metadata": {},
   "source": [
    "Машины с АКПП и МКПП представлены примерно одинаково. Пропусков в данных очень много. Ранее мы выяснили, что на управляемость в разных погодных условиях это не сильно влияет. Можем удалить этот столбец целиком."
   ]
  },
  {
   "cell_type": "code",
   "execution_count": 65,
   "id": "159158f7",
   "metadata": {},
   "outputs": [
    {
     "data": {
      "text/plain": [
       "125777"
      ]
     },
     "execution_count": 65,
     "metadata": {},
     "output_type": "execute_result"
    }
   ],
   "source": [
    "data['vehicle_transmission'].isna().sum()"
   ]
  },
  {
   "cell_type": "code",
   "execution_count": 66,
   "id": "6bf6c62d",
   "metadata": {},
   "outputs": [
    {
     "data": {
      "text/plain": [
       "manual    28115\n",
       "auto      25018\n",
       "Name: vehicle_transmission, dtype: int64"
      ]
     },
     "execution_count": 66,
     "metadata": {},
     "output_type": "execute_result"
    }
   ],
   "source": [
    "data['vehicle_transmission'].value_counts()"
   ]
  },
  {
   "cell_type": "code",
   "execution_count": 67,
   "id": "980b3888",
   "metadata": {},
   "outputs": [],
   "source": [
    "data = data.drop(columns=['vehicle_transmission'], axis=1)"
   ]
  },
  {
   "cell_type": "markdown",
   "id": "ec62933a",
   "metadata": {},
   "source": [
    "### vehicle_age"
   ]
  },
  {
   "cell_type": "markdown",
   "id": "9b74d132",
   "metadata": {},
   "source": [
    "Оставим только автомобили 11 лет и меньше. Пропуски заменим на медиану."
   ]
  },
  {
   "cell_type": "code",
   "execution_count": 68,
   "id": "9698540d",
   "metadata": {
    "scrolled": true
   },
   "outputs": [
    {
     "data": {
      "text/plain": [
       "126572"
      ]
     },
     "execution_count": 68,
     "metadata": {},
     "output_type": "execute_result"
    }
   ],
   "source": [
    "data['vehicle_age'].isna().sum()"
   ]
  },
  {
   "cell_type": "code",
   "execution_count": 69,
   "id": "c6582dfd",
   "metadata": {},
   "outputs": [
    {
     "data": {
      "text/plain": [
       "3.0      10531\n",
       "4.0       6868\n",
       "2.0       5843\n",
       "5.0       5333\n",
       "6.0       3785\n",
       "7.0       3691\n",
       "8.0       3359\n",
       "0.0       2984\n",
       "9.0       2654\n",
       "1.0       2427\n",
       "10.0      1854\n",
       "11.0      1325\n",
       "12.0       842\n",
       "13.0       522\n",
       "14.0       273\n",
       "15.0        36\n",
       "16.0         6\n",
       "17.0         2\n",
       "161.0        2\n",
       "19.0         1\n",
       "Name: vehicle_age, dtype: int64"
      ]
     },
     "execution_count": 69,
     "metadata": {},
     "output_type": "execute_result"
    }
   ],
   "source": [
    "data['vehicle_age'].value_counts()"
   ]
  },
  {
   "cell_type": "code",
   "execution_count": 70,
   "id": "b8b8d8ee",
   "metadata": {},
   "outputs": [],
   "source": [
    "data = data.query('vehicle_age != 161')"
   ]
  },
  {
   "cell_type": "code",
   "execution_count": 71,
   "id": "1dca8494",
   "metadata": {},
   "outputs": [
    {
     "data": {
      "text/plain": [
       "count    52336.000000\n",
       "mean         4.846836\n",
       "std          3.092987\n",
       "min          0.000000\n",
       "25%          3.000000\n",
       "50%          4.000000\n",
       "75%          7.000000\n",
       "max         19.000000\n",
       "Name: vehicle_age, dtype: float64"
      ]
     },
     "execution_count": 71,
     "metadata": {},
     "output_type": "execute_result"
    }
   ],
   "source": [
    "data['vehicle_age'].describe()"
   ]
  },
  {
   "cell_type": "code",
   "execution_count": 72,
   "id": "53cdb4d3",
   "metadata": {},
   "outputs": [
    {
     "data": {
      "text/plain": [
       "<AxesSubplot:>"
      ]
     },
     "execution_count": 72,
     "metadata": {},
     "output_type": "execute_result"
    },
    {
     "data": {
      "image/png": "[encoded data removed]",
      "text/plain": [
       "<Figure size 432x288 with 1 Axes>"
      ]
     },
     "metadata": {
      "needs_background": "light"
     },
     "output_type": "display_data"
    }
   ],
   "source": [
    "data['vehicle_age'].hist()"
   ]
  },
  {
   "cell_type": "code",
   "execution_count": 73,
   "id": "8c6dafb7",
   "metadata": {},
   "outputs": [],
   "source": [
    "data['vehicle_age'] = data['vehicle_age'].fillna(data['vehicle_age'].median())"
   ]
  },
  {
   "cell_type": "code",
   "execution_count": 74,
   "id": "23a655d7",
   "metadata": {},
   "outputs": [
    {
     "data": {
      "text/plain": [
       "4.0     133440\n",
       "3.0      10531\n",
       "2.0       5843\n",
       "5.0       5333\n",
       "6.0       3785\n",
       "7.0       3691\n",
       "8.0       3359\n",
       "0.0       2984\n",
       "9.0       2654\n",
       "1.0       2427\n",
       "10.0      1854\n",
       "11.0      1325\n",
       "12.0       842\n",
       "13.0       522\n",
       "14.0       273\n",
       "15.0        36\n",
       "16.0         6\n",
       "17.0         2\n",
       "19.0         1\n",
       "Name: vehicle_age, dtype: int64"
      ]
     },
     "execution_count": 74,
     "metadata": {},
     "output_type": "execute_result"
    }
   ],
   "source": [
    "data['vehicle_age'].value_counts()"
   ]
  },
  {
   "cell_type": "code",
   "execution_count": 75,
   "id": "4b426d97",
   "metadata": {},
   "outputs": [],
   "source": [
    "data = data.query('vehicle_age < 12')"
   ]
  },
  {
   "cell_type": "markdown",
   "id": "eb35704f",
   "metadata": {},
   "source": [
    "По итогам всех преобразований было удалено менее 10% данных."
   ]
  },
  {
   "cell_type": "code",
   "execution_count": 76,
   "id": "79ebfc8f",
   "metadata": {},
   "outputs": [
    {
     "name": "stdout",
     "output_type": "stream",
     "text": [
      "<class 'pandas.core.frame.DataFrame'>\n",
      "Int64Index: 177226 entries, 0 to 188835\n",
      "Data columns (total 15 columns):\n",
      " #   Column               Non-Null Count   Dtype  \n",
      "---  ------               --------------   -----  \n",
      " 0   id                   177226 non-null  object \n",
      " 1   hour                 177226 non-null  float64\n",
      " 2   weather              177226 non-null  object \n",
      " 3   road_surface         177226 non-null  object \n",
      " 4   lighting             177226 non-null  object \n",
      " 5   county_location      177226 non-null  object \n",
      " 6   location_type        177226 non-null  object \n",
      " 7   road_condition       177226 non-null  object \n",
      " 8   control_device       177226 non-null  object \n",
      " 9   at_fault             177226 non-null  int64  \n",
      " 10  party_drug_physical  177226 non-null  object \n",
      " 11  party_sobriety       177226 non-null  object \n",
      " 12  cellphone_in_use     177226 non-null  float64\n",
      " 13  vehicle_type         177226 non-null  object \n",
      " 14  vehicle_age          177226 non-null  float64\n",
      "dtypes: float64(3), int64(1), object(11)\n",
      "memory usage: 21.6+ MB\n"
     ]
    }
   ],
   "source": [
    "data.info()"
   ]
  },
  {
   "cell_type": "markdown",
   "id": "fd95a61a",
   "metadata": {},
   "source": [
    "Удалим 'id' (больше не нужен) и сбросим индекс."
   ]
  },
  {
   "cell_type": "code",
   "execution_count": 77,
   "id": "48d7819f",
   "metadata": {},
   "outputs": [],
   "source": [
    "data = data.drop(columns=['id'], axis=1)"
   ]
  },
  {
   "cell_type": "code",
   "execution_count": 78,
   "id": "08e8f453",
   "metadata": {},
   "outputs": [],
   "source": [
    "data.reset_index(drop=True, inplace=True)"
   ]
  },
  {
   "cell_type": "code",
   "execution_count": 79,
   "id": "71ed0355",
   "metadata": {
    "scrolled": true
   },
   "outputs": [
    {
     "data": {
      "text/html": [
       "<div>\n",
       "<style scoped>\n",
       "    .dataframe tbody tr th:only-of-type {\n",
       "        vertical-align: middle;\n",
       "    }\n",
       "\n",
       "    .dataframe tbody tr th {\n",
       "        vertical-align: top;\n",
       "    }\n",
       "\n",
       "    .dataframe thead th {\n",
       "        text-align: right;\n",
       "    }\n",
       "</style>\n",
       "<table border=\"1\" class=\"dataframe\">\n",
       "  <thead>\n",
       "    <tr style=\"text-align: right;\">\n",
       "      <th></th>\n",
       "      <th>hour</th>\n",
       "      <th>weather</th>\n",
       "      <th>road_surface</th>\n",
       "      <th>lighting</th>\n",
       "      <th>county_location</th>\n",
       "      <th>location_type</th>\n",
       "      <th>road_condition</th>\n",
       "      <th>control_device</th>\n",
       "      <th>at_fault</th>\n",
       "      <th>party_drug_physical</th>\n",
       "      <th>party_sobriety</th>\n",
       "      <th>cellphone_in_use</th>\n",
       "      <th>vehicle_type</th>\n",
       "      <th>vehicle_age</th>\n",
       "    </tr>\n",
       "  </thead>\n",
       "  <tbody>\n",
       "    <tr>\n",
       "      <th>0</th>\n",
       "      <td>10.0</td>\n",
       "      <td>clear</td>\n",
       "      <td>dry</td>\n",
       "      <td>daylight</td>\n",
       "      <td>alameda</td>\n",
       "      <td>ramp</td>\n",
       "      <td>normal</td>\n",
       "      <td>none</td>\n",
       "      <td>1</td>\n",
       "      <td>not applicable</td>\n",
       "      <td>had not been drinking</td>\n",
       "      <td>0.0</td>\n",
       "      <td>other</td>\n",
       "      <td>4.0</td>\n",
       "    </tr>\n",
       "    <tr>\n",
       "      <th>1</th>\n",
       "      <td>7.0</td>\n",
       "      <td>cloudy</td>\n",
       "      <td>dry</td>\n",
       "      <td>daylight</td>\n",
       "      <td>san diego</td>\n",
       "      <td>other</td>\n",
       "      <td>other</td>\n",
       "      <td>none</td>\n",
       "      <td>0</td>\n",
       "      <td>not applicable</td>\n",
       "      <td>had not been drinking</td>\n",
       "      <td>0.0</td>\n",
       "      <td>sedan</td>\n",
       "      <td>2.0</td>\n",
       "    </tr>\n",
       "    <tr>\n",
       "      <th>2</th>\n",
       "      <td>7.0</td>\n",
       "      <td>cloudy</td>\n",
       "      <td>dry</td>\n",
       "      <td>daylight</td>\n",
       "      <td>san diego</td>\n",
       "      <td>other</td>\n",
       "      <td>other</td>\n",
       "      <td>none</td>\n",
       "      <td>1</td>\n",
       "      <td>not applicable</td>\n",
       "      <td>had not been drinking</td>\n",
       "      <td>0.0</td>\n",
       "      <td>other</td>\n",
       "      <td>4.0</td>\n",
       "    </tr>\n",
       "    <tr>\n",
       "      <th>3</th>\n",
       "      <td>14.0</td>\n",
       "      <td>cloudy</td>\n",
       "      <td>dry</td>\n",
       "      <td>daylight</td>\n",
       "      <td>santa clara</td>\n",
       "      <td>other</td>\n",
       "      <td>normal</td>\n",
       "      <td>functioning</td>\n",
       "      <td>1</td>\n",
       "      <td>not applicable</td>\n",
       "      <td>had not been drinking</td>\n",
       "      <td>0.0</td>\n",
       "      <td>other</td>\n",
       "      <td>4.0</td>\n",
       "    </tr>\n",
       "    <tr>\n",
       "      <th>4</th>\n",
       "      <td>12.0</td>\n",
       "      <td>clear</td>\n",
       "      <td>dry</td>\n",
       "      <td>daylight</td>\n",
       "      <td>sacramento</td>\n",
       "      <td>other</td>\n",
       "      <td>normal</td>\n",
       "      <td>none</td>\n",
       "      <td>0</td>\n",
       "      <td>not applicable</td>\n",
       "      <td>had not been drinking</td>\n",
       "      <td>0.0</td>\n",
       "      <td>sedan</td>\n",
       "      <td>5.0</td>\n",
       "    </tr>\n",
       "  </tbody>\n",
       "</table>\n",
       "</div>"
      ],
      "text/plain": [
       "   hour weather road_surface  lighting county_location location_type  \\\n",
       "0  10.0   clear          dry  daylight         alameda          ramp   \n",
       "1   7.0  cloudy          dry  daylight       san diego         other   \n",
       "2   7.0  cloudy          dry  daylight       san diego         other   \n",
       "3  14.0  cloudy          dry  daylight     santa clara         other   \n",
       "4  12.0   clear          dry  daylight      sacramento         other   \n",
       "\n",
       "  road_condition control_device  at_fault party_drug_physical  \\\n",
       "0         normal           none         1      not applicable   \n",
       "1          other           none         0      not applicable   \n",
       "2          other           none         1      not applicable   \n",
       "3         normal    functioning         1      not applicable   \n",
       "4         normal           none         0      not applicable   \n",
       "\n",
       "          party_sobriety  cellphone_in_use vehicle_type  vehicle_age  \n",
       "0  had not been drinking               0.0        other          4.0  \n",
       "1  had not been drinking               0.0        sedan          2.0  \n",
       "2  had not been drinking               0.0        other          4.0  \n",
       "3  had not been drinking               0.0        other          4.0  \n",
       "4  had not been drinking               0.0        sedan          5.0  "
      ]
     },
     "execution_count": 79,
     "metadata": {},
     "output_type": "execute_result"
    }
   ],
   "source": [
    "data.head()"
   ]
  },
  {
   "cell_type": "markdown",
   "id": "19c4f5cc",
   "metadata": {},
   "source": [
    "### Подготовка выборок"
   ]
  },
  {
   "cell_type": "markdown",
   "id": "6c85a2e6",
   "metadata": {},
   "source": [
    "Выделим признаки и целевой признак."
   ]
  },
  {
   "cell_type": "code",
   "execution_count": 80,
   "id": "3c51842d",
   "metadata": {},
   "outputs": [],
   "source": [
    "features = data.drop(columns=['at_fault'], axis=1)\n",
    "target = data['at_fault']"
   ]
  },
  {
   "cell_type": "markdown",
   "id": "3f1fb0c5",
   "metadata": {},
   "source": [
    "По сути все признаки кроме 'vehicle_age' можно обозначить как категориальные (включая 'month', 'hour', так как они обозначают сезонность и время суток)."
   ]
  },
  {
   "cell_type": "code",
   "execution_count": 81,
   "id": "e5735568",
   "metadata": {},
   "outputs": [
    {
     "data": {
      "text/plain": [
       "Index(['hour', 'weather', 'road_surface', 'lighting', 'county_location',\n",
       "       'location_type', 'road_condition', 'control_device',\n",
       "       'party_drug_physical', 'party_sobriety', 'cellphone_in_use',\n",
       "       'vehicle_type', 'vehicle_age'],\n",
       "      dtype='object')"
      ]
     },
     "execution_count": 81,
     "metadata": {},
     "output_type": "execute_result"
    }
   ],
   "source": [
    "features.columns"
   ]
  },
  {
   "cell_type": "markdown",
   "id": "161359f3",
   "metadata": {},
   "source": [
    "Выделим признаки, выраженные через текст."
   ]
  },
  {
   "cell_type": "code",
   "execution_count": 82,
   "id": "baeca0d0",
   "metadata": {},
   "outputs": [],
   "source": [
    "text = ['weather', 'road_surface', 'lighting', 'county_location',\n",
    "       'location_type', 'road_condition', 'control_device',\n",
    "       'party_drug_physical', 'party_sobriety', 'vehicle_type']"
   ]
  },
  {
   "cell_type": "markdown",
   "id": "d742d67c",
   "metadata": {},
   "source": [
    "Разделим датасет на обучающую, валидационную и тестовую выборки."
   ]
  },
  {
   "cell_type": "code",
   "execution_count": 83,
   "id": "cec0e038",
   "metadata": {},
   "outputs": [],
   "source": [
    "features_train, features_test, target_train, target_test = train_test_split(features, target, \n",
    "                                                                            test_size=0.4, \n",
    "                                                                            random_state=12345)"
   ]
  },
  {
   "cell_type": "code",
   "execution_count": 84,
   "id": "b47f206d",
   "metadata": {},
   "outputs": [],
   "source": [
    "features_test, features_valid, target_test, target_valid = train_test_split(features_test, target_test,\n",
    "                                                                            test_size=0.5, \n",
    "                                                                            random_state=12345)"
   ]
  },
  {
   "cell_type": "code",
   "execution_count": 85,
   "id": "4f7e68b3",
   "metadata": {},
   "outputs": [
    {
     "name": "stdout",
     "output_type": "stream",
     "text": [
      "(106335, 13)\n",
      "(106335,)\n",
      "(35446, 13)\n",
      "(35446,)\n",
      "(35445, 13)\n",
      "(35445,)\n"
     ]
    }
   ],
   "source": [
    "print(features_train.shape)\n",
    "print(target_train.shape)\n",
    "print(features_valid.shape)\n",
    "print(target_valid.shape)\n",
    "print(features_test.shape)\n",
    "print(target_test.shape)"
   ]
  },
  {
   "cell_type": "markdown",
   "id": "2dfa9c72",
   "metadata": {},
   "source": [
    "Преобразуем категориальные признаки в числа."
   ]
  },
  {
   "cell_type": "code",
   "execution_count": 86,
   "id": "327a0cf8",
   "metadata": {},
   "outputs": [],
   "source": [
    "encoder = OneHotEncoder()"
   ]
  },
  {
   "cell_type": "code",
   "execution_count": 87,
   "id": "91389ee1",
   "metadata": {},
   "outputs": [],
   "source": [
    "features_train = encoder.fit_transform(features_train)\n",
    "features_valid = encoder.transform(features_valid)\n",
    "features_test = encoder.transform(features_test)"
   ]
  },
  {
   "cell_type": "markdown",
   "id": "c320b11c",
   "metadata": {},
   "source": [
    "## 4. Поиск лучшей модели"
   ]
  },
  {
   "cell_type": "markdown",
   "id": "21bee33e",
   "metadata": {},
   "source": [
    "Рассмотрим несколько обучающих моделей для поиска оптимального решения."
   ]
  },
  {
   "cell_type": "markdown",
   "id": "24e0474a",
   "metadata": {},
   "source": [
    "### Метрика"
   ]
  },
  {
   "cell_type": "markdown",
   "id": "9acd9c42",
   "metadata": {},
   "source": [
    "В качестве целевой метрики выберем precision, так как нам важно не просто угаданное количество правильных ответов. Нам важно оценить, сколько водителей, определенных, как виновные в аварии, действительно оказалась виновными."
   ]
  },
  {
   "cell_type": "markdown",
   "id": "a27978ef",
   "metadata": {},
   "source": [
    "### Баланс классов"
   ]
  },
  {
   "cell_type": "markdown",
   "id": "8ec34aa0",
   "metadata": {},
   "source": [
    "Для начала проверим баланс классов. Соотношение классов близко к 1:1, их можно считать сбалансированными."
   ]
  },
  {
   "cell_type": "code",
   "execution_count": 92,
   "id": "e3850c1a",
   "metadata": {},
   "outputs": [
    {
     "data": {
      "text/plain": [
       "<AxesSubplot:>"
      ]
     },
     "execution_count": 92,
     "metadata": {},
     "output_type": "execute_result"
    },
    {
     "data": {
      "image/png": "[encoded data removed]",
      "text/plain": [
       "<Figure size 432x288 with 1 Axes>"
      ]
     },
     "metadata": {
      "needs_background": "light"
     },
     "output_type": "display_data"
    }
   ],
   "source": [
    "class_frequency = target_train.value_counts()\n",
    "class_frequency.plot(kind='bar')"
   ]
  },
  {
   "cell_type": "code",
   "execution_count": 93,
   "id": "7590a04a",
   "metadata": {},
   "outputs": [
    {
     "data": {
      "text/plain": [
       "0.8416494916780686"
      ]
     },
     "execution_count": 93,
     "metadata": {},
     "output_type": "execute_result"
    }
   ],
   "source": [
    "class_frequency[0] / class_frequency[1]"
   ]
  },
  {
   "cell_type": "markdown",
   "id": "a2875f77",
   "metadata": {},
   "source": [
    "### Функция"
   ]
  },
  {
   "cell_type": "code",
   "execution_count": 98,
   "id": "ac6182de",
   "metadata": {},
   "outputs": [],
   "source": [
    "def predict_model(model):\n",
    "    model.fit(features_train, target_train)\n",
    "    predictions_valid = model.predict(features_valid)\n",
    "    result = precision_score(target_valid, predictions_valid)\n",
    "    \n",
    "    return result"
   ]
  },
  {
   "cell_type": "markdown",
   "id": "219c8336",
   "metadata": {},
   "source": [
    "### Логистическая регрессия"
   ]
  },
  {
   "cell_type": "code",
   "execution_count": 99,
   "id": "656221f0",
   "metadata": {},
   "outputs": [
    {
     "name": "stdout",
     "output_type": "stream",
     "text": [
      "CPU times: user 1.8 s, sys: 0 ns, total: 1.8 s\n",
      "Wall time: 1.81 s\n"
     ]
    }
   ],
   "source": [
    "%%time\n",
    "\n",
    "lr_model = LogisticRegression(random_state=12345, solver='lbfgs', max_iter=1000)\n",
    "lr_result = predict_model(lr_model)"
   ]
  },
  {
   "cell_type": "code",
   "execution_count": 100,
   "id": "36bf2583",
   "metadata": {},
   "outputs": [
    {
     "data": {
      "text/plain": [
       "0.6770293609671848"
      ]
     },
     "execution_count": 100,
     "metadata": {},
     "output_type": "execute_result"
    }
   ],
   "source": [
    "lr_result"
   ]
  },
  {
   "cell_type": "markdown",
   "id": "ca8977ac",
   "metadata": {},
   "source": [
    "### Дерево решений"
   ]
  },
  {
   "cell_type": "code",
   "execution_count": 101,
   "id": "c9e3e3c1",
   "metadata": {},
   "outputs": [
    {
     "name": "stdout",
     "output_type": "stream",
     "text": [
      "CPU times: user 10.4 s, sys: 12.4 ms, total: 10.4 s\n",
      "Wall time: 10.4 s\n"
     ]
    }
   ],
   "source": [
    "%%time\n",
    "\n",
    "dtc_model = None\n",
    "dtc_result = 0\n",
    "\n",
    "for depth in range(1, 10):\n",
    "    for leaf in range(1, 5):\n",
    "        model = DecisionTreeClassifier(random_state=12345, max_depth=depth, min_samples_leaf=leaf)\n",
    "        result = predict_model(model)\n",
    "    \n",
    "        if result > dtc_result:\n",
    "            dtc_model = model\n",
    "            dtc_result = result"
   ]
  },
  {
   "cell_type": "code",
   "execution_count": 102,
   "id": "67804e6a",
   "metadata": {},
   "outputs": [
    {
     "data": {
      "text/plain": [
       "(0.8641857506361323, DecisionTreeClassifier(max_depth=1, random_state=12345))"
      ]
     },
     "execution_count": 102,
     "metadata": {},
     "output_type": "execute_result"
    }
   ],
   "source": [
    "dtc_result, dtc_model"
   ]
  },
  {
   "cell_type": "markdown",
   "id": "616135db",
   "metadata": {},
   "source": [
    "### Случайный лес"
   ]
  },
  {
   "cell_type": "code",
   "execution_count": 103,
   "id": "b682f9f9",
   "metadata": {},
   "outputs": [
    {
     "name": "stdout",
     "output_type": "stream",
     "text": [
      "CPU times: user 23.4 s, sys: 29.6 ms, total: 23.5 s\n",
      "Wall time: 23.5 s\n"
     ]
    }
   ],
   "source": [
    "%%time\n",
    "\n",
    "rfc_model = None\n",
    "rfc_result = 0\n",
    "\n",
    "for est in range(1, 10):\n",
    "    for depth in range(1, 10):\n",
    "        model = RandomForestClassifier(random_state=12345, n_estimators=est, max_depth=depth)\n",
    "        result = predict_model(model)\n",
    "    \n",
    "        if result > rfc_result:\n",
    "            rfc_model = model\n",
    "            rfc_result = result"
   ]
  },
  {
   "cell_type": "code",
   "execution_count": 104,
   "id": "de273479",
   "metadata": {},
   "outputs": [
    {
     "data": {
      "text/plain": [
       "(0.7478067857520346,\n",
       " RandomForestClassifier(max_depth=3, n_estimators=1, random_state=12345))"
      ]
     },
     "execution_count": 104,
     "metadata": {},
     "output_type": "execute_result"
    }
   ],
   "source": [
    "rfc_result, rfc_model"
   ]
  },
  {
   "cell_type": "markdown",
   "id": "31aa079e",
   "metadata": {},
   "source": [
    "### LightGBM"
   ]
  },
  {
   "cell_type": "code",
   "execution_count": 105,
   "id": "ed5bb17a",
   "metadata": {},
   "outputs": [
    {
     "name": "stdout",
     "output_type": "stream",
     "text": [
      "CPU times: user 3min 9s, sys: 1.02 s, total: 3min 10s\n",
      "Wall time: 3min 12s\n"
     ]
    }
   ],
   "source": [
    "%%time\n",
    "\n",
    "lgbm_model = None\n",
    "lgbm_result = 0\n",
    "\n",
    "for est in range(1, 10):\n",
    "    for depth in range(1, 10):\n",
    "        model = LGBMClassifier(random_state=12345, n_estimators=est, max_depth=depth)\n",
    "        result = predict_model(model)\n",
    "        \n",
    "        if result > lgbm_result:\n",
    "            lgbm_result = result\n",
    "            lgbm_model = model"
   ]
  },
  {
   "cell_type": "code",
   "execution_count": 106,
   "id": "464cb8ee",
   "metadata": {},
   "outputs": [
    {
     "data": {
      "text/plain": [
       "(0.8641857506361323,\n",
       " LGBMClassifier(max_depth=1, n_estimators=9, random_state=12345))"
      ]
     },
     "execution_count": 106,
     "metadata": {},
     "output_type": "execute_result"
    }
   ],
   "source": [
    "lgbm_result, lgbm_model"
   ]
  },
  {
   "cell_type": "markdown",
   "id": "6af705df",
   "metadata": {},
   "source": [
    "### CatBoost"
   ]
  },
  {
   "cell_type": "code",
   "execution_count": 107,
   "id": "719542d3",
   "metadata": {},
   "outputs": [
    {
     "name": "stdout",
     "output_type": "stream",
     "text": [
      "Learning rate set to 0.5\n",
      "0:\tlearn: 0.6492770\ttotal: 69.2ms\tremaining: 0us\n",
      "Learning rate set to 0.5\n",
      "0:\tlearn: 0.6478069\ttotal: 19.1ms\tremaining: 0us\n",
      "Learning rate set to 0.5\n",
      "0:\tlearn: 0.6464988\ttotal: 23.8ms\tremaining: 0us\n",
      "Learning rate set to 0.5\n",
      "0:\tlearn: 0.6458803\ttotal: 18.1ms\tremaining: 0us\n",
      "Learning rate set to 0.5\n",
      "0:\tlearn: 0.6444140\ttotal: 20.5ms\tremaining: 0us\n",
      "Learning rate set to 0.5\n",
      "0:\tlearn: 0.6438553\ttotal: 21.6ms\tremaining: 0us\n",
      "Learning rate set to 0.5\n",
      "0:\tlearn: 0.6422753\ttotal: 24.4ms\tremaining: 0us\n",
      "Learning rate set to 0.5\n",
      "0:\tlearn: 0.6422885\ttotal: 30.3ms\tremaining: 0us\n",
      "Learning rate set to 0.5\n",
      "0:\tlearn: 0.6418224\ttotal: 42.2ms\tremaining: 0us\n",
      "Learning rate set to 0.5\n",
      "0:\tlearn: 0.6492770\ttotal: 13.9ms\tremaining: 13.9ms\n",
      "1:\tlearn: 0.6404016\ttotal: 28.2ms\tremaining: 0us\n",
      "Learning rate set to 0.5\n",
      "0:\tlearn: 0.6478069\ttotal: 18.6ms\tremaining: 18.6ms\n",
      "1:\tlearn: 0.6374261\ttotal: 34.3ms\tremaining: 0us\n",
      "Learning rate set to 0.5\n",
      "0:\tlearn: 0.6464988\ttotal: 16.8ms\tremaining: 16.8ms\n",
      "1:\tlearn: 0.6355909\ttotal: 33.8ms\tremaining: 0us\n",
      "Learning rate set to 0.5\n",
      "0:\tlearn: 0.6458803\ttotal: 19.4ms\tremaining: 19.4ms\n",
      "1:\tlearn: 0.6336752\ttotal: 38ms\tremaining: 0us\n",
      "Learning rate set to 0.5\n",
      "0:\tlearn: 0.6444140\ttotal: 19.3ms\tremaining: 19.3ms\n",
      "1:\tlearn: 0.6315533\ttotal: 47.3ms\tremaining: 0us\n",
      "Learning rate set to 0.5\n",
      "0:\tlearn: 0.6438553\ttotal: 23.1ms\tremaining: 23.1ms\n",
      "1:\tlearn: 0.6312564\ttotal: 56.2ms\tremaining: 0us\n",
      "Learning rate set to 0.5\n",
      "0:\tlearn: 0.6422753\ttotal: 30.9ms\tremaining: 30.9ms\n",
      "1:\tlearn: 0.6297426\ttotal: 54.6ms\tremaining: 0us\n",
      "Learning rate set to 0.5\n",
      "0:\tlearn: 0.6422885\ttotal: 27.2ms\tremaining: 27.2ms\n",
      "1:\tlearn: 0.6300757\ttotal: 56.1ms\tremaining: 0us\n",
      "Learning rate set to 0.5\n",
      "0:\tlearn: 0.6418224\ttotal: 34.9ms\tremaining: 34.9ms\n",
      "1:\tlearn: 0.6296940\ttotal: 78.7ms\tremaining: 0us\n",
      "Learning rate set to 0.5\n",
      "0:\tlearn: 0.6492770\ttotal: 17ms\tremaining: 34ms\n",
      "1:\tlearn: 0.6404016\ttotal: 39.2ms\tremaining: 19.6ms\n",
      "2:\tlearn: 0.6387682\ttotal: 52.3ms\tremaining: 0us\n",
      "Learning rate set to 0.5\n",
      "0:\tlearn: 0.6478069\ttotal: 19.1ms\tremaining: 38.2ms\n",
      "1:\tlearn: 0.6374261\ttotal: 41.5ms\tremaining: 20.7ms\n",
      "2:\tlearn: 0.6337457\ttotal: 57.3ms\tremaining: 0us\n",
      "Learning rate set to 0.5\n",
      "0:\tlearn: 0.6464988\ttotal: 19.8ms\tremaining: 39.6ms\n",
      "1:\tlearn: 0.6355909\ttotal: 41.3ms\tremaining: 20.6ms\n",
      "2:\tlearn: 0.6310530\ttotal: 57ms\tremaining: 0us\n",
      "Learning rate set to 0.5\n",
      "0:\tlearn: 0.6458803\ttotal: 18ms\tremaining: 36ms\n",
      "1:\tlearn: 0.6336752\ttotal: 36.3ms\tremaining: 18.1ms\n",
      "2:\tlearn: 0.6281207\ttotal: 58.7ms\tremaining: 0us\n",
      "Learning rate set to 0.5\n",
      "0:\tlearn: 0.6444140\ttotal: 22.4ms\tremaining: 44.9ms\n",
      "1:\tlearn: 0.6315533\ttotal: 47.7ms\tremaining: 23.9ms\n",
      "2:\tlearn: 0.6267838\ttotal: 70.4ms\tremaining: 0us\n",
      "Learning rate set to 0.5\n",
      "0:\tlearn: 0.6438553\ttotal: 24.9ms\tremaining: 49.8ms\n",
      "1:\tlearn: 0.6312564\ttotal: 49.4ms\tremaining: 24.7ms\n",
      "2:\tlearn: 0.6261398\ttotal: 71.4ms\tremaining: 0us\n",
      "Learning rate set to 0.5\n",
      "0:\tlearn: 0.6422753\ttotal: 25.3ms\tremaining: 50.5ms\n",
      "1:\tlearn: 0.6297426\ttotal: 55.9ms\tremaining: 27.9ms\n",
      "2:\tlearn: 0.6256637\ttotal: 79.7ms\tremaining: 0us\n",
      "Learning rate set to 0.5\n",
      "0:\tlearn: 0.6422885\ttotal: 27.8ms\tremaining: 55.7ms\n",
      "1:\tlearn: 0.6300757\ttotal: 54ms\tremaining: 27ms\n",
      "2:\tlearn: 0.6250531\ttotal: 85.7ms\tremaining: 0us\n",
      "Learning rate set to 0.5\n",
      "0:\tlearn: 0.6418224\ttotal: 40.7ms\tremaining: 81.4ms\n",
      "1:\tlearn: 0.6296940\ttotal: 74ms\tremaining: 37ms\n",
      "2:\tlearn: 0.6244566\ttotal: 107ms\tremaining: 0us\n",
      "Learning rate set to 0.5\n",
      "0:\tlearn: 0.6492770\ttotal: 16.3ms\tremaining: 48.8ms\n",
      "1:\tlearn: 0.6404016\ttotal: 34.3ms\tremaining: 34.3ms\n",
      "2:\tlearn: 0.6387682\ttotal: 50ms\tremaining: 16.7ms\n",
      "3:\tlearn: 0.6356461\ttotal: 69ms\tremaining: 0us\n",
      "Learning rate set to 0.5\n",
      "0:\tlearn: 0.6478069\ttotal: 23.4ms\tremaining: 70.2ms\n",
      "1:\tlearn: 0.6374261\ttotal: 39.1ms\tremaining: 39.1ms\n",
      "2:\tlearn: 0.6337457\ttotal: 54.5ms\tremaining: 18.2ms\n",
      "3:\tlearn: 0.6315806\ttotal: 68.8ms\tremaining: 0us\n",
      "Learning rate set to 0.5\n",
      "0:\tlearn: 0.6464988\ttotal: 17.5ms\tremaining: 52.6ms\n",
      "1:\tlearn: 0.6355909\ttotal: 34.8ms\tremaining: 34.8ms\n",
      "2:\tlearn: 0.6310530\ttotal: 51.5ms\tremaining: 17.2ms\n",
      "3:\tlearn: 0.6287156\ttotal: 67.8ms\tremaining: 0us\n",
      "Learning rate set to 0.5\n",
      "0:\tlearn: 0.6458803\ttotal: 18.8ms\tremaining: 56.5ms\n",
      "1:\tlearn: 0.6336752\ttotal: 42ms\tremaining: 42ms\n",
      "2:\tlearn: 0.6281207\ttotal: 62ms\tremaining: 20.7ms\n",
      "3:\tlearn: 0.6262416\ttotal: 79.8ms\tremaining: 0us\n",
      "Learning rate set to 0.5\n",
      "0:\tlearn: 0.6444140\ttotal: 20.5ms\tremaining: 61.5ms\n",
      "1:\tlearn: 0.6315533\ttotal: 41ms\tremaining: 41ms\n",
      "2:\tlearn: 0.6267838\ttotal: 61.4ms\tremaining: 20.5ms\n",
      "3:\tlearn: 0.6251038\ttotal: 87.2ms\tremaining: 0us\n",
      "Learning rate set to 0.5\n",
      "0:\tlearn: 0.6438553\ttotal: 25.1ms\tremaining: 75.2ms\n",
      "1:\tlearn: 0.6312564\ttotal: 46.5ms\tremaining: 46.5ms\n",
      "2:\tlearn: 0.6261398\ttotal: 75.8ms\tremaining: 25.3ms\n",
      "3:\tlearn: 0.6243951\ttotal: 97.8ms\tremaining: 0us\n",
      "Learning rate set to 0.5\n",
      "0:\tlearn: 0.6422753\ttotal: 23.9ms\tremaining: 71.8ms\n",
      "1:\tlearn: 0.6297426\ttotal: 46.4ms\tremaining: 46.4ms\n",
      "2:\tlearn: 0.6256637\ttotal: 72.8ms\tremaining: 24.3ms\n",
      "3:\tlearn: 0.6239891\ttotal: 108ms\tremaining: 0us\n",
      "Learning rate set to 0.5\n",
      "0:\tlearn: 0.6422885\ttotal: 30.6ms\tremaining: 91.7ms\n",
      "1:\tlearn: 0.6300757\ttotal: 62.1ms\tremaining: 62.1ms\n",
      "2:\tlearn: 0.6250531\ttotal: 88.4ms\tremaining: 29.5ms\n",
      "3:\tlearn: 0.6229506\ttotal: 115ms\tremaining: 0us\n",
      "Learning rate set to 0.5\n",
      "0:\tlearn: 0.6418224\ttotal: 35.5ms\tremaining: 107ms\n",
      "1:\tlearn: 0.6296940\ttotal: 70ms\tremaining: 70ms\n",
      "2:\tlearn: 0.6244566\ttotal: 110ms\tremaining: 36.8ms\n",
      "3:\tlearn: 0.6221833\ttotal: 144ms\tremaining: 0us\n",
      "Learning rate set to 0.5\n",
      "0:\tlearn: 0.6492770\ttotal: 14.9ms\tremaining: 59.8ms\n",
      "1:\tlearn: 0.6404016\ttotal: 29.8ms\tremaining: 44.7ms\n",
      "2:\tlearn: 0.6387682\ttotal: 50.1ms\tremaining: 33.4ms\n",
      "3:\tlearn: 0.6356461\ttotal: 65ms\tremaining: 16.2ms\n",
      "4:\tlearn: 0.6346990\ttotal: 77.8ms\tremaining: 0us\n",
      "Learning rate set to 0.5\n",
      "0:\tlearn: 0.6478069\ttotal: 18ms\tremaining: 71.8ms\n",
      "1:\tlearn: 0.6374261\ttotal: 33.4ms\tremaining: 50.1ms\n",
      "2:\tlearn: 0.6337457\ttotal: 48.3ms\tremaining: 32.2ms\n",
      "3:\tlearn: 0.6315806\ttotal: 62.5ms\tremaining: 15.6ms\n",
      "4:\tlearn: 0.6300271\ttotal: 79ms\tremaining: 0us\n",
      "Learning rate set to 0.5\n",
      "0:\tlearn: 0.6464988\ttotal: 17.9ms\tremaining: 71.8ms\n",
      "1:\tlearn: 0.6355909\ttotal: 34.4ms\tremaining: 51.5ms\n",
      "2:\tlearn: 0.6310530\ttotal: 50.2ms\tremaining: 33.4ms\n",
      "3:\tlearn: 0.6287156\ttotal: 65.2ms\tremaining: 16.3ms\n",
      "4:\tlearn: 0.6270290\ttotal: 82.1ms\tremaining: 0us\n",
      "Learning rate set to 0.5\n",
      "0:\tlearn: 0.6458803\ttotal: 23.4ms\tremaining: 93.4ms\n",
      "1:\tlearn: 0.6336752\ttotal: 45.6ms\tremaining: 68.3ms\n",
      "2:\tlearn: 0.6281207\ttotal: 65.7ms\tremaining: 43.8ms\n",
      "3:\tlearn: 0.6262416\ttotal: 85.6ms\tremaining: 21.4ms\n",
      "4:\tlearn: 0.6248789\ttotal: 107ms\tremaining: 0us\n",
      "Learning rate set to 0.5\n",
      "0:\tlearn: 0.6444140\ttotal: 19.1ms\tremaining: 76.5ms\n",
      "1:\tlearn: 0.6315533\ttotal: 43.8ms\tremaining: 65.6ms\n",
      "2:\tlearn: 0.6267838\ttotal: 63.8ms\tremaining: 42.5ms\n",
      "3:\tlearn: 0.6251038\ttotal: 89.4ms\tremaining: 22.4ms\n",
      "4:\tlearn: 0.6242645\ttotal: 118ms\tremaining: 0us\n",
      "Learning rate set to 0.5\n",
      "0:\tlearn: 0.6438553\ttotal: 20.3ms\tremaining: 81.3ms\n",
      "1:\tlearn: 0.6312564\ttotal: 41.2ms\tremaining: 61.8ms\n",
      "2:\tlearn: 0.6261398\ttotal: 61.1ms\tremaining: 40.8ms\n",
      "3:\tlearn: 0.6243951\ttotal: 88.8ms\tremaining: 22.2ms\n",
      "4:\tlearn: 0.6235373\ttotal: 110ms\tremaining: 0us\n",
      "Learning rate set to 0.5\n",
      "0:\tlearn: 0.6422753\ttotal: 24ms\tremaining: 96ms\n",
      "1:\tlearn: 0.6297426\ttotal: 54.6ms\tremaining: 82ms\n",
      "2:\tlearn: 0.6256637\ttotal: 78.2ms\tremaining: 52.2ms\n",
      "3:\tlearn: 0.6239891\ttotal: 104ms\tremaining: 25.9ms\n",
      "4:\tlearn: 0.6227751\ttotal: 130ms\tremaining: 0us\n",
      "Learning rate set to 0.5\n",
      "0:\tlearn: 0.6422885\ttotal: 34.1ms\tremaining: 136ms\n",
      "1:\tlearn: 0.6300757\ttotal: 59.9ms\tremaining: 89.8ms\n",
      "2:\tlearn: 0.6250531\ttotal: 86.8ms\tremaining: 57.8ms\n",
      "3:\tlearn: 0.6229506\ttotal: 114ms\tremaining: 28.5ms\n",
      "4:\tlearn: 0.6219436\ttotal: 150ms\tremaining: 0us\n",
      "Learning rate set to 0.5\n",
      "0:\tlearn: 0.6418224\ttotal: 36ms\tremaining: 144ms\n",
      "1:\tlearn: 0.6296940\ttotal: 68.8ms\tremaining: 103ms\n",
      "2:\tlearn: 0.6244566\ttotal: 111ms\tremaining: 73.8ms\n",
      "3:\tlearn: 0.6221833\ttotal: 145ms\tremaining: 36.2ms\n",
      "4:\tlearn: 0.6209368\ttotal: 179ms\tremaining: 0us\n",
      "Learning rate set to 0.5\n",
      "0:\tlearn: 0.6492770\ttotal: 13.5ms\tremaining: 67.5ms\n",
      "1:\tlearn: 0.6404016\ttotal: 27.3ms\tremaining: 54.6ms\n",
      "2:\tlearn: 0.6387682\ttotal: 41.3ms\tremaining: 41.3ms\n",
      "3:\tlearn: 0.6356461\ttotal: 58.9ms\tremaining: 29.4ms\n",
      "4:\tlearn: 0.6346990\ttotal: 79.1ms\tremaining: 15.8ms\n",
      "5:\tlearn: 0.6335979\ttotal: 94.8ms\tremaining: 0us\n",
      "Learning rate set to 0.5\n",
      "0:\tlearn: 0.6478069\ttotal: 19.1ms\tremaining: 95.6ms\n",
      "1:\tlearn: 0.6374261\ttotal: 34.9ms\tremaining: 69.7ms\n",
      "2:\tlearn: 0.6337457\ttotal: 49.4ms\tremaining: 49.4ms\n",
      "3:\tlearn: 0.6315806\ttotal: 62.6ms\tremaining: 31.3ms\n",
      "4:\tlearn: 0.6300271\ttotal: 82.1ms\tremaining: 16.4ms\n",
      "5:\tlearn: 0.6288154\ttotal: 99.6ms\tremaining: 0us\n",
      "Learning rate set to 0.5\n",
      "0:\tlearn: 0.6464988\ttotal: 22.3ms\tremaining: 112ms\n",
      "1:\tlearn: 0.6355909\ttotal: 40.1ms\tremaining: 80.1ms\n",
      "2:\tlearn: 0.6310530\ttotal: 56.6ms\tremaining: 56.6ms\n",
      "3:\tlearn: 0.6287156\ttotal: 72.2ms\tremaining: 36.1ms\n",
      "4:\tlearn: 0.6270290\ttotal: 89.4ms\tremaining: 17.9ms\n",
      "5:\tlearn: 0.6261634\ttotal: 106ms\tremaining: 0us\n",
      "Learning rate set to 0.5\n",
      "0:\tlearn: 0.6458803\ttotal: 18.9ms\tremaining: 94.5ms\n",
      "1:\tlearn: 0.6336752\ttotal: 37.8ms\tremaining: 75.5ms\n",
      "2:\tlearn: 0.6281207\ttotal: 61.9ms\tremaining: 61.9ms\n",
      "3:\tlearn: 0.6262416\ttotal: 80.2ms\tremaining: 40.1ms\n",
      "4:\tlearn: 0.6248789\ttotal: 99.4ms\tremaining: 19.9ms\n",
      "5:\tlearn: 0.6243741\ttotal: 118ms\tremaining: 0us\n",
      "Learning rate set to 0.5\n",
      "0:\tlearn: 0.6444140\ttotal: 19.3ms\tremaining: 96.3ms\n",
      "1:\tlearn: 0.6315533\ttotal: 39.8ms\tremaining: 79.6ms\n",
      "2:\tlearn: 0.6267838\ttotal: 66.9ms\tremaining: 66.9ms\n",
      "3:\tlearn: 0.6251038\ttotal: 87ms\tremaining: 43.5ms\n",
      "4:\tlearn: 0.6242645\ttotal: 108ms\tremaining: 21.6ms\n",
      "5:\tlearn: 0.6234612\ttotal: 127ms\tremaining: 0us\n",
      "Learning rate set to 0.5\n",
      "0:\tlearn: 0.6438553\ttotal: 22ms\tremaining: 110ms\n",
      "1:\tlearn: 0.6312564\ttotal: 44.2ms\tremaining: 88.3ms\n",
      "2:\tlearn: 0.6261398\ttotal: 65.8ms\tremaining: 65.8ms\n",
      "3:\tlearn: 0.6243951\ttotal: 93.8ms\tremaining: 46.9ms\n",
      "4:\tlearn: 0.6235373\ttotal: 115ms\tremaining: 22.9ms\n",
      "5:\tlearn: 0.6230969\ttotal: 137ms\tremaining: 0us\n",
      "Learning rate set to 0.5\n",
      "0:\tlearn: 0.6422753\ttotal: 25.3ms\tremaining: 127ms\n",
      "1:\tlearn: 0.6297426\ttotal: 50.1ms\tremaining: 100ms\n",
      "2:\tlearn: 0.6256637\ttotal: 81.9ms\tremaining: 81.9ms\n",
      "3:\tlearn: 0.6239891\ttotal: 105ms\tremaining: 52.6ms\n",
      "4:\tlearn: 0.6227751\ttotal: 131ms\tremaining: 26.2ms\n",
      "5:\tlearn: 0.6219588\ttotal: 155ms\tremaining: 0us\n",
      "Learning rate set to 0.5\n",
      "0:\tlearn: 0.6422885\ttotal: 29.1ms\tremaining: 146ms\n",
      "1:\tlearn: 0.6300757\ttotal: 58.4ms\tremaining: 117ms\n",
      "2:\tlearn: 0.6250531\ttotal: 89.2ms\tremaining: 89.2ms\n",
      "3:\tlearn: 0.6229506\ttotal: 123ms\tremaining: 61.4ms\n",
      "4:\tlearn: 0.6219436\ttotal: 151ms\tremaining: 30.1ms\n",
      "5:\tlearn: 0.6210031\ttotal: 179ms\tremaining: 0us\n",
      "Learning rate set to 0.5\n",
      "0:\tlearn: 0.6418224\ttotal: 41.7ms\tremaining: 208ms\n",
      "1:\tlearn: 0.6296940\ttotal: 74.2ms\tremaining: 148ms\n",
      "2:\tlearn: 0.6244566\ttotal: 108ms\tremaining: 108ms\n",
      "3:\tlearn: 0.6221833\ttotal: 150ms\tremaining: 75ms\n",
      "4:\tlearn: 0.6209368\ttotal: 183ms\tremaining: 36.6ms\n",
      "5:\tlearn: 0.6200613\ttotal: 219ms\tremaining: 0us\n",
      "Learning rate set to 0.5\n",
      "0:\tlearn: 0.6492770\ttotal: 15.4ms\tremaining: 92.6ms\n",
      "1:\tlearn: 0.6404016\ttotal: 29.9ms\tremaining: 74.8ms\n",
      "2:\tlearn: 0.6387682\ttotal: 43.7ms\tremaining: 58.2ms\n",
      "3:\tlearn: 0.6356461\ttotal: 60.6ms\tremaining: 45.4ms\n",
      "4:\tlearn: 0.6346990\ttotal: 74.4ms\tremaining: 29.8ms\n",
      "5:\tlearn: 0.6335979\ttotal: 91.3ms\tremaining: 15.2ms\n",
      "6:\tlearn: 0.6322007\ttotal: 111ms\tremaining: 0us\n",
      "Learning rate set to 0.5\n",
      "0:\tlearn: 0.6478069\ttotal: 22.7ms\tremaining: 136ms\n",
      "1:\tlearn: 0.6374261\ttotal: 38ms\tremaining: 94.9ms\n",
      "2:\tlearn: 0.6337457\ttotal: 54.3ms\tremaining: 72.4ms\n",
      "3:\tlearn: 0.6315806\ttotal: 68.1ms\tremaining: 51.1ms\n",
      "4:\tlearn: 0.6300271\ttotal: 84.1ms\tremaining: 33.6ms\n",
      "5:\tlearn: 0.6288154\ttotal: 99.9ms\tremaining: 16.6ms\n",
      "6:\tlearn: 0.6280657\ttotal: 121ms\tremaining: 0us\n",
      "Learning rate set to 0.5\n",
      "0:\tlearn: 0.6464988\ttotal: 17.7ms\tremaining: 106ms\n",
      "1:\tlearn: 0.6355909\ttotal: 42.5ms\tremaining: 106ms\n",
      "2:\tlearn: 0.6310530\ttotal: 59.6ms\tremaining: 79.4ms\n",
      "3:\tlearn: 0.6287156\ttotal: 75.3ms\tremaining: 56.4ms\n",
      "4:\tlearn: 0.6270290\ttotal: 91.2ms\tremaining: 36.5ms\n",
      "5:\tlearn: 0.6261634\ttotal: 107ms\tremaining: 17.9ms\n",
      "6:\tlearn: 0.6256075\ttotal: 132ms\tremaining: 0us\n",
      "Learning rate set to 0.5\n",
      "0:\tlearn: 0.6458803\ttotal: 18.6ms\tremaining: 111ms\n",
      "1:\tlearn: 0.6336752\ttotal: 43.7ms\tremaining: 109ms\n",
      "2:\tlearn: 0.6281207\ttotal: 62.8ms\tremaining: 83.7ms\n",
      "3:\tlearn: 0.6262416\ttotal: 81.8ms\tremaining: 61.3ms\n",
      "4:\tlearn: 0.6248789\ttotal: 101ms\tremaining: 40.5ms\n",
      "5:\tlearn: 0.6243741\ttotal: 129ms\tremaining: 21.6ms\n",
      "6:\tlearn: 0.6238772\ttotal: 154ms\tremaining: 0us\n",
      "Learning rate set to 0.5\n",
      "0:\tlearn: 0.6444140\ttotal: 19.9ms\tremaining: 119ms\n",
      "1:\tlearn: 0.6315533\ttotal: 40.3ms\tremaining: 101ms\n",
      "2:\tlearn: 0.6267838\ttotal: 60.2ms\tremaining: 80.2ms\n",
      "3:\tlearn: 0.6251038\ttotal: 84.2ms\tremaining: 63.1ms\n",
      "4:\tlearn: 0.6242645\ttotal: 106ms\tremaining: 42.4ms\n",
      "5:\tlearn: 0.6234612\ttotal: 127ms\tremaining: 21.1ms\n",
      "6:\tlearn: 0.6230986\ttotal: 147ms\tremaining: 0us\n",
      "Learning rate set to 0.5\n",
      "0:\tlearn: 0.6438553\ttotal: 20.3ms\tremaining: 122ms\n",
      "1:\tlearn: 0.6312564\ttotal: 41.2ms\tremaining: 103ms\n",
      "2:\tlearn: 0.6261398\ttotal: 61.3ms\tremaining: 81.7ms\n",
      "3:\tlearn: 0.6243951\ttotal: 89.6ms\tremaining: 67.2ms\n",
      "4:\tlearn: 0.6235373\ttotal: 111ms\tremaining: 44.3ms\n",
      "5:\tlearn: 0.6230969\ttotal: 133ms\tremaining: 22.1ms\n",
      "6:\tlearn: 0.6221667\ttotal: 154ms\tremaining: 0us\n",
      "Learning rate set to 0.5\n",
      "0:\tlearn: 0.6422753\ttotal: 24.5ms\tremaining: 147ms\n",
      "1:\tlearn: 0.6297426\ttotal: 54.9ms\tremaining: 137ms\n",
      "2:\tlearn: 0.6256637\ttotal: 84ms\tremaining: 112ms\n",
      "3:\tlearn: 0.6239891\ttotal: 110ms\tremaining: 82.4ms\n",
      "4:\tlearn: 0.6227751\ttotal: 137ms\tremaining: 54.8ms\n",
      "5:\tlearn: 0.6219588\ttotal: 164ms\tremaining: 27.3ms\n",
      "6:\tlearn: 0.6214501\ttotal: 187ms\tremaining: 0us\n",
      "Learning rate set to 0.5\n",
      "0:\tlearn: 0.6422885\ttotal: 30.7ms\tremaining: 184ms\n",
      "1:\tlearn: 0.6300757\ttotal: 67.5ms\tremaining: 169ms\n",
      "2:\tlearn: 0.6250531\ttotal: 97.9ms\tremaining: 130ms\n",
      "3:\tlearn: 0.6229506\ttotal: 129ms\tremaining: 96.5ms\n",
      "4:\tlearn: 0.6219436\ttotal: 169ms\tremaining: 67.6ms\n",
      "5:\tlearn: 0.6210031\ttotal: 205ms\tremaining: 34.2ms\n",
      "6:\tlearn: 0.6204454\ttotal: 235ms\tremaining: 0us\n",
      "Learning rate set to 0.5\n",
      "0:\tlearn: 0.6418224\ttotal: 36.6ms\tremaining: 220ms\n",
      "1:\tlearn: 0.6296940\ttotal: 78.9ms\tremaining: 197ms\n",
      "2:\tlearn: 0.6244566\ttotal: 114ms\tremaining: 153ms\n",
      "3:\tlearn: 0.6221833\ttotal: 153ms\tremaining: 115ms\n",
      "4:\tlearn: 0.6209368\ttotal: 191ms\tremaining: 76.4ms\n",
      "5:\tlearn: 0.6200613\ttotal: 224ms\tremaining: 37.4ms\n",
      "6:\tlearn: 0.6191621\ttotal: 263ms\tremaining: 0us\n",
      "Learning rate set to 0.5\n",
      "0:\tlearn: 0.6492770\ttotal: 15.5ms\tremaining: 108ms\n",
      "1:\tlearn: 0.6404016\ttotal: 30.9ms\tremaining: 92.6ms\n",
      "2:\tlearn: 0.6387682\ttotal: 45.4ms\tremaining: 75.6ms\n",
      "3:\tlearn: 0.6356461\ttotal: 62.7ms\tremaining: 62.7ms\n",
      "4:\tlearn: 0.6346990\ttotal: 86.5ms\tremaining: 51.9ms\n",
      "5:\tlearn: 0.6335979\ttotal: 106ms\tremaining: 35.3ms\n",
      "6:\tlearn: 0.6322007\ttotal: 123ms\tremaining: 17.6ms\n",
      "7:\tlearn: 0.6314772\ttotal: 139ms\tremaining: 0us\n",
      "Learning rate set to 0.5\n",
      "0:\tlearn: 0.6478069\ttotal: 17.8ms\tremaining: 124ms\n",
      "1:\tlearn: 0.6374261\ttotal: 36.1ms\tremaining: 108ms\n",
      "2:\tlearn: 0.6337457\ttotal: 59.7ms\tremaining: 99.5ms\n",
      "3:\tlearn: 0.6315806\ttotal: 75.6ms\tremaining: 75.6ms\n",
      "4:\tlearn: 0.6300271\ttotal: 92.2ms\tremaining: 55.3ms\n",
      "5:\tlearn: 0.6288154\ttotal: 108ms\tremaining: 36.1ms\n",
      "6:\tlearn: 0.6280657\ttotal: 124ms\tremaining: 17.7ms\n",
      "7:\tlearn: 0.6271679\ttotal: 141ms\tremaining: 0us\n",
      "Learning rate set to 0.5\n",
      "0:\tlearn: 0.6464988\ttotal: 17.9ms\tremaining: 126ms\n",
      "1:\tlearn: 0.6355909\ttotal: 35.6ms\tremaining: 107ms\n",
      "2:\tlearn: 0.6310530\ttotal: 52.4ms\tremaining: 87.4ms\n",
      "3:\tlearn: 0.6287156\ttotal: 72.2ms\tremaining: 72.2ms\n",
      "4:\tlearn: 0.6270290\ttotal: 94.1ms\tremaining: 56.5ms\n",
      "5:\tlearn: 0.6261634\ttotal: 111ms\tremaining: 36.9ms\n",
      "6:\tlearn: 0.6256075\ttotal: 130ms\tremaining: 18.6ms\n",
      "7:\tlearn: 0.6252755\ttotal: 146ms\tremaining: 0us\n",
      "Learning rate set to 0.5\n",
      "0:\tlearn: 0.6458803\ttotal: 20.7ms\tremaining: 145ms\n",
      "1:\tlearn: 0.6336752\ttotal: 39.9ms\tremaining: 120ms\n",
      "2:\tlearn: 0.6281207\ttotal: 59.5ms\tremaining: 99.2ms\n",
      "3:\tlearn: 0.6262416\ttotal: 85.2ms\tremaining: 85.2ms\n",
      "4:\tlearn: 0.6248789\ttotal: 106ms\tremaining: 63.5ms\n",
      "5:\tlearn: 0.6243741\ttotal: 125ms\tremaining: 41.6ms\n",
      "6:\tlearn: 0.6238772\ttotal: 144ms\tremaining: 20.6ms\n",
      "7:\tlearn: 0.6234184\ttotal: 161ms\tremaining: 0us\n",
      "Learning rate set to 0.5\n",
      "0:\tlearn: 0.6444140\ttotal: 19.6ms\tremaining: 137ms\n",
      "1:\tlearn: 0.6315533\ttotal: 39ms\tremaining: 117ms\n",
      "2:\tlearn: 0.6267838\ttotal: 58.5ms\tremaining: 97.5ms\n",
      "3:\tlearn: 0.6251038\ttotal: 77.7ms\tremaining: 77.7ms\n",
      "4:\tlearn: 0.6242645\ttotal: 105ms\tremaining: 62.9ms\n",
      "5:\tlearn: 0.6234612\ttotal: 125ms\tremaining: 41.6ms\n",
      "6:\tlearn: 0.6230986\ttotal: 145ms\tremaining: 20.7ms\n",
      "7:\tlearn: 0.6224655\ttotal: 165ms\tremaining: 0us\n",
      "Learning rate set to 0.5\n",
      "0:\tlearn: 0.6438553\ttotal: 22.8ms\tremaining: 159ms\n",
      "1:\tlearn: 0.6312564\ttotal: 53.1ms\tremaining: 159ms\n",
      "2:\tlearn: 0.6261398\ttotal: 74.7ms\tremaining: 125ms\n",
      "3:\tlearn: 0.6243951\ttotal: 94.9ms\tremaining: 94.9ms\n",
      "4:\tlearn: 0.6235373\ttotal: 116ms\tremaining: 69.5ms\n",
      "5:\tlearn: 0.6230969\ttotal: 142ms\tremaining: 47.2ms\n",
      "6:\tlearn: 0.6221667\ttotal: 164ms\tremaining: 23.5ms\n",
      "7:\tlearn: 0.6217557\ttotal: 187ms\tremaining: 0us\n",
      "Learning rate set to 0.5\n",
      "0:\tlearn: 0.6422753\ttotal: 34.7ms\tremaining: 243ms\n",
      "1:\tlearn: 0.6297426\ttotal: 63.7ms\tremaining: 191ms\n",
      "2:\tlearn: 0.6256637\ttotal: 93.4ms\tremaining: 156ms\n",
      "3:\tlearn: 0.6239891\ttotal: 128ms\tremaining: 128ms\n",
      "4:\tlearn: 0.6227751\ttotal: 157ms\tremaining: 94.4ms\n",
      "5:\tlearn: 0.6219588\ttotal: 185ms\tremaining: 61.7ms\n",
      "6:\tlearn: 0.6214501\ttotal: 217ms\tremaining: 31ms\n",
      "7:\tlearn: 0.6206745\ttotal: 242ms\tremaining: 0us\n",
      "Learning rate set to 0.5\n",
      "0:\tlearn: 0.6422885\ttotal: 29.6ms\tremaining: 207ms\n",
      "1:\tlearn: 0.6300757\ttotal: 57.6ms\tremaining: 173ms\n",
      "2:\tlearn: 0.6250531\ttotal: 86.9ms\tremaining: 145ms\n",
      "3:\tlearn: 0.6229506\ttotal: 126ms\tremaining: 126ms\n",
      "4:\tlearn: 0.6219436\ttotal: 153ms\tremaining: 92ms\n",
      "5:\tlearn: 0.6210031\ttotal: 181ms\tremaining: 60.2ms\n",
      "6:\tlearn: 0.6204454\ttotal: 220ms\tremaining: 31.5ms\n",
      "7:\tlearn: 0.6197607\ttotal: 248ms\tremaining: 0us\n",
      "Learning rate set to 0.5\n",
      "0:\tlearn: 0.6418224\ttotal: 34.4ms\tremaining: 241ms\n",
      "1:\tlearn: 0.6296940\ttotal: 77.2ms\tremaining: 232ms\n",
      "2:\tlearn: 0.6244566\ttotal: 111ms\tremaining: 185ms\n",
      "3:\tlearn: 0.6221833\ttotal: 151ms\tremaining: 151ms\n",
      "4:\tlearn: 0.6209368\ttotal: 183ms\tremaining: 110ms\n",
      "5:\tlearn: 0.6200613\ttotal: 215ms\tremaining: 71.5ms\n",
      "6:\tlearn: 0.6191621\ttotal: 254ms\tremaining: 36.3ms\n",
      "7:\tlearn: 0.6183413\ttotal: 287ms\tremaining: 0us\n",
      "Learning rate set to 0.5\n",
      "0:\tlearn: 0.6492770\ttotal: 14.5ms\tremaining: 116ms\n",
      "1:\tlearn: 0.6404016\ttotal: 34.4ms\tremaining: 121ms\n",
      "2:\tlearn: 0.6387682\ttotal: 46.8ms\tremaining: 93.6ms\n",
      "3:\tlearn: 0.6356461\ttotal: 61.2ms\tremaining: 76.5ms\n",
      "4:\tlearn: 0.6346990\ttotal: 74ms\tremaining: 59.2ms\n",
      "5:\tlearn: 0.6335979\ttotal: 87.6ms\tremaining: 43.8ms\n",
      "6:\tlearn: 0.6322007\ttotal: 102ms\tremaining: 29.2ms\n",
      "7:\tlearn: 0.6314772\ttotal: 121ms\tremaining: 15.1ms\n",
      "8:\tlearn: 0.6310712\ttotal: 137ms\tremaining: 0us\n",
      "Learning rate set to 0.5\n",
      "0:\tlearn: 0.6478069\ttotal: 23.3ms\tremaining: 187ms\n",
      "1:\tlearn: 0.6374261\ttotal: 39.3ms\tremaining: 137ms\n",
      "2:\tlearn: 0.6337457\ttotal: 55.1ms\tremaining: 110ms\n",
      "3:\tlearn: 0.6315806\ttotal: 69.4ms\tremaining: 86.8ms\n",
      "4:\tlearn: 0.6300271\ttotal: 86ms\tremaining: 68.8ms\n",
      "5:\tlearn: 0.6288154\ttotal: 104ms\tremaining: 52ms\n",
      "6:\tlearn: 0.6280657\ttotal: 125ms\tremaining: 35.8ms\n",
      "7:\tlearn: 0.6271679\ttotal: 141ms\tremaining: 17.6ms\n",
      "8:\tlearn: 0.6267287\ttotal: 156ms\tremaining: 0us\n",
      "Learning rate set to 0.5\n",
      "0:\tlearn: 0.6464988\ttotal: 17.8ms\tremaining: 142ms\n",
      "1:\tlearn: 0.6355909\ttotal: 34.1ms\tremaining: 119ms\n",
      "2:\tlearn: 0.6310530\ttotal: 50ms\tremaining: 100ms\n",
      "3:\tlearn: 0.6287156\ttotal: 65.9ms\tremaining: 82.3ms\n",
      "4:\tlearn: 0.6270290\ttotal: 90.1ms\tremaining: 72.1ms\n",
      "5:\tlearn: 0.6261634\ttotal: 107ms\tremaining: 53.4ms\n",
      "6:\tlearn: 0.6256075\ttotal: 125ms\tremaining: 35.7ms\n",
      "7:\tlearn: 0.6252755\ttotal: 141ms\tremaining: 17.6ms\n",
      "8:\tlearn: 0.6249409\ttotal: 159ms\tremaining: 0us\n",
      "Learning rate set to 0.5\n",
      "0:\tlearn: 0.6458803\ttotal: 18.7ms\tremaining: 149ms\n",
      "1:\tlearn: 0.6336752\ttotal: 36.2ms\tremaining: 127ms\n",
      "2:\tlearn: 0.6281207\ttotal: 58.8ms\tremaining: 118ms\n",
      "3:\tlearn: 0.6262416\ttotal: 77.5ms\tremaining: 96.9ms\n",
      "4:\tlearn: 0.6248789\ttotal: 99ms\tremaining: 79.2ms\n",
      "5:\tlearn: 0.6243741\ttotal: 118ms\tremaining: 59ms\n",
      "6:\tlearn: 0.6238772\ttotal: 138ms\tremaining: 39.4ms\n",
      "7:\tlearn: 0.6234184\ttotal: 164ms\tremaining: 20.5ms\n",
      "8:\tlearn: 0.6231880\ttotal: 184ms\tremaining: 0us\n",
      "Learning rate set to 0.5\n",
      "0:\tlearn: 0.6444140\ttotal: 20.5ms\tremaining: 164ms\n",
      "1:\tlearn: 0.6315533\ttotal: 40.9ms\tremaining: 143ms\n",
      "2:\tlearn: 0.6267838\ttotal: 61.9ms\tremaining: 124ms\n",
      "3:\tlearn: 0.6251038\ttotal: 90.3ms\tremaining: 113ms\n",
      "4:\tlearn: 0.6242645\ttotal: 111ms\tremaining: 88.6ms\n",
      "5:\tlearn: 0.6234612\ttotal: 131ms\tremaining: 65.4ms\n",
      "6:\tlearn: 0.6230986\ttotal: 152ms\tremaining: 43.3ms\n",
      "7:\tlearn: 0.6224655\ttotal: 178ms\tremaining: 22.3ms\n",
      "8:\tlearn: 0.6220856\ttotal: 198ms\tremaining: 0us\n",
      "Learning rate set to 0.5\n",
      "0:\tlearn: 0.6438553\ttotal: 24.7ms\tremaining: 198ms\n",
      "1:\tlearn: 0.6312564\ttotal: 48.8ms\tremaining: 171ms\n",
      "2:\tlearn: 0.6261398\ttotal: 70.3ms\tremaining: 141ms\n",
      "3:\tlearn: 0.6243951\ttotal: 92.9ms\tremaining: 116ms\n",
      "4:\tlearn: 0.6235373\ttotal: 116ms\tremaining: 92.4ms\n",
      "5:\tlearn: 0.6230969\ttotal: 139ms\tremaining: 69.7ms\n",
      "6:\tlearn: 0.6221667\ttotal: 162ms\tremaining: 46.3ms\n",
      "7:\tlearn: 0.6217557\ttotal: 186ms\tremaining: 23.2ms\n",
      "8:\tlearn: 0.6213733\ttotal: 210ms\tremaining: 0us\n",
      "Learning rate set to 0.5\n",
      "0:\tlearn: 0.6422753\ttotal: 27.4ms\tremaining: 219ms\n",
      "1:\tlearn: 0.6297426\ttotal: 65.2ms\tremaining: 228ms\n",
      "2:\tlearn: 0.6256637\ttotal: 89.1ms\tremaining: 178ms\n",
      "3:\tlearn: 0.6239891\ttotal: 113ms\tremaining: 142ms\n",
      "4:\tlearn: 0.6227751\ttotal: 140ms\tremaining: 112ms\n",
      "5:\tlearn: 0.6219588\ttotal: 168ms\tremaining: 84ms\n",
      "6:\tlearn: 0.6214501\ttotal: 196ms\tremaining: 56ms\n",
      "7:\tlearn: 0.6206745\ttotal: 221ms\tremaining: 27.6ms\n",
      "8:\tlearn: 0.6202546\ttotal: 245ms\tremaining: 0us\n",
      "Learning rate set to 0.5\n",
      "0:\tlearn: 0.6422885\ttotal: 27.3ms\tremaining: 218ms\n",
      "1:\tlearn: 0.6300757\ttotal: 53.3ms\tremaining: 187ms\n",
      "2:\tlearn: 0.6250531\ttotal: 90.1ms\tremaining: 180ms\n",
      "3:\tlearn: 0.6229506\ttotal: 118ms\tremaining: 147ms\n",
      "4:\tlearn: 0.6219436\ttotal: 146ms\tremaining: 117ms\n",
      "5:\tlearn: 0.6210031\ttotal: 183ms\tremaining: 91.4ms\n",
      "6:\tlearn: 0.6204454\ttotal: 210ms\tremaining: 59.9ms\n",
      "7:\tlearn: 0.6197607\ttotal: 239ms\tremaining: 29.9ms\n",
      "8:\tlearn: 0.6191724\ttotal: 276ms\tremaining: 0us\n",
      "Learning rate set to 0.5\n",
      "0:\tlearn: 0.6418224\ttotal: 33ms\tremaining: 264ms\n",
      "1:\tlearn: 0.6296940\ttotal: 71.6ms\tremaining: 251ms\n",
      "2:\tlearn: 0.6244566\ttotal: 105ms\tremaining: 210ms\n",
      "3:\tlearn: 0.6221833\ttotal: 146ms\tremaining: 183ms\n",
      "4:\tlearn: 0.6209368\ttotal: 180ms\tremaining: 144ms\n",
      "5:\tlearn: 0.6200613\ttotal: 214ms\tremaining: 107ms\n",
      "6:\tlearn: 0.6191621\ttotal: 255ms\tremaining: 72.8ms\n",
      "7:\tlearn: 0.6183413\ttotal: 289ms\tremaining: 36.1ms\n",
      "8:\tlearn: 0.6173375\ttotal: 330ms\tremaining: 0us\n",
      "Learning rate set to 0.5\n",
      "0:\tlearn: 0.6492770\ttotal: 15.3ms\tremaining: 137ms\n",
      "1:\tlearn: 0.6404016\ttotal: 30.4ms\tremaining: 121ms\n",
      "2:\tlearn: 0.6387682\ttotal: 44.3ms\tremaining: 103ms\n",
      "3:\tlearn: 0.6356461\ttotal: 65.3ms\tremaining: 97.9ms\n",
      "4:\tlearn: 0.6346990\ttotal: 78.2ms\tremaining: 78.2ms\n",
      "5:\tlearn: 0.6335979\ttotal: 92.1ms\tremaining: 61.4ms\n",
      "6:\tlearn: 0.6322007\ttotal: 107ms\tremaining: 46ms\n",
      "7:\tlearn: 0.6314772\ttotal: 122ms\tremaining: 30.4ms\n",
      "8:\tlearn: 0.6310712\ttotal: 136ms\tremaining: 15.1ms\n",
      "9:\tlearn: 0.6304751\ttotal: 152ms\tremaining: 0us\n",
      "Learning rate set to 0.5\n",
      "0:\tlearn: 0.6478069\ttotal: 20.8ms\tremaining: 188ms\n",
      "1:\tlearn: 0.6374261\ttotal: 39.1ms\tremaining: 157ms\n",
      "2:\tlearn: 0.6337457\ttotal: 62.6ms\tremaining: 146ms\n",
      "3:\tlearn: 0.6315806\ttotal: 77.4ms\tremaining: 116ms\n",
      "4:\tlearn: 0.6300271\ttotal: 93.9ms\tremaining: 93.9ms\n",
      "5:\tlearn: 0.6288154\ttotal: 110ms\tremaining: 73.1ms\n",
      "6:\tlearn: 0.6280657\ttotal: 125ms\tremaining: 53.6ms\n",
      "7:\tlearn: 0.6271679\ttotal: 142ms\tremaining: 35.6ms\n",
      "8:\tlearn: 0.6267287\ttotal: 163ms\tremaining: 18.2ms\n",
      "9:\tlearn: 0.6262847\ttotal: 178ms\tremaining: 0us\n",
      "Learning rate set to 0.5\n",
      "0:\tlearn: 0.6464988\ttotal: 19.4ms\tremaining: 175ms\n",
      "1:\tlearn: 0.6355909\ttotal: 38ms\tremaining: 152ms\n",
      "2:\tlearn: 0.6310530\ttotal: 58.3ms\tremaining: 136ms\n",
      "3:\tlearn: 0.6287156\ttotal: 72.7ms\tremaining: 109ms\n",
      "4:\tlearn: 0.6270290\ttotal: 88.2ms\tremaining: 88.2ms\n",
      "5:\tlearn: 0.6261634\ttotal: 103ms\tremaining: 68.7ms\n",
      "6:\tlearn: 0.6256075\ttotal: 121ms\tremaining: 51.8ms\n",
      "7:\tlearn: 0.6252755\ttotal: 140ms\tremaining: 35ms\n",
      "8:\tlearn: 0.6249409\ttotal: 158ms\tremaining: 17.6ms\n",
      "9:\tlearn: 0.6247312\ttotal: 175ms\tremaining: 0us\n",
      "Learning rate set to 0.5\n",
      "0:\tlearn: 0.6458803\ttotal: 18.1ms\tremaining: 163ms\n",
      "1:\tlearn: 0.6336752\ttotal: 37.7ms\tremaining: 151ms\n",
      "2:\tlearn: 0.6281207\ttotal: 61ms\tremaining: 142ms\n",
      "3:\tlearn: 0.6262416\ttotal: 78ms\tremaining: 117ms\n",
      "4:\tlearn: 0.6248789\ttotal: 96.5ms\tremaining: 96.5ms\n",
      "5:\tlearn: 0.6243741\ttotal: 114ms\tremaining: 76.2ms\n",
      "6:\tlearn: 0.6238772\ttotal: 136ms\tremaining: 58.2ms\n",
      "7:\tlearn: 0.6234184\ttotal: 159ms\tremaining: 39.8ms\n",
      "8:\tlearn: 0.6231880\ttotal: 178ms\tremaining: 19.8ms\n",
      "9:\tlearn: 0.6227926\ttotal: 198ms\tremaining: 0us\n",
      "Learning rate set to 0.5\n",
      "0:\tlearn: 0.6444140\ttotal: 19.2ms\tremaining: 173ms\n",
      "1:\tlearn: 0.6315533\ttotal: 38ms\tremaining: 152ms\n",
      "2:\tlearn: 0.6267838\ttotal: 57.5ms\tremaining: 134ms\n",
      "3:\tlearn: 0.6251038\ttotal: 76.3ms\tremaining: 115ms\n",
      "4:\tlearn: 0.6242645\ttotal: 104ms\tremaining: 104ms\n",
      "5:\tlearn: 0.6234612\ttotal: 123ms\tremaining: 82.2ms\n",
      "6:\tlearn: 0.6230986\ttotal: 143ms\tremaining: 61.4ms\n",
      "7:\tlearn: 0.6224655\ttotal: 166ms\tremaining: 41.5ms\n",
      "8:\tlearn: 0.6220856\ttotal: 191ms\tremaining: 21.2ms\n",
      "9:\tlearn: 0.6217568\ttotal: 215ms\tremaining: 0us\n",
      "Learning rate set to 0.5\n",
      "0:\tlearn: 0.6438553\ttotal: 23.9ms\tremaining: 215ms\n",
      "1:\tlearn: 0.6312564\ttotal: 48.2ms\tremaining: 193ms\n",
      "2:\tlearn: 0.6261398\ttotal: 69.4ms\tremaining: 162ms\n",
      "3:\tlearn: 0.6243951\ttotal: 89.8ms\tremaining: 135ms\n",
      "4:\tlearn: 0.6235373\ttotal: 112ms\tremaining: 112ms\n",
      "5:\tlearn: 0.6230969\ttotal: 141ms\tremaining: 93.7ms\n",
      "6:\tlearn: 0.6221667\ttotal: 162ms\tremaining: 69.6ms\n",
      "7:\tlearn: 0.6217557\ttotal: 185ms\tremaining: 46.1ms\n",
      "8:\tlearn: 0.6213733\ttotal: 208ms\tremaining: 23.1ms\n",
      "9:\tlearn: 0.6208668\ttotal: 237ms\tremaining: 0us\n",
      "Learning rate set to 0.5\n",
      "0:\tlearn: 0.6422753\ttotal: 26.1ms\tremaining: 235ms\n",
      "1:\tlearn: 0.6297426\ttotal: 52.2ms\tremaining: 209ms\n",
      "2:\tlearn: 0.6256637\ttotal: 75.1ms\tremaining: 175ms\n",
      "3:\tlearn: 0.6239891\ttotal: 98.3ms\tremaining: 147ms\n",
      "4:\tlearn: 0.6227751\ttotal: 129ms\tremaining: 129ms\n",
      "5:\tlearn: 0.6219588\ttotal: 154ms\tremaining: 103ms\n",
      "6:\tlearn: 0.6214501\ttotal: 177ms\tremaining: 75.9ms\n",
      "7:\tlearn: 0.6206745\ttotal: 202ms\tremaining: 50.4ms\n",
      "8:\tlearn: 0.6202546\ttotal: 231ms\tremaining: 25.6ms\n",
      "9:\tlearn: 0.6198105\ttotal: 255ms\tremaining: 0us\n",
      "Learning rate set to 0.5\n",
      "0:\tlearn: 0.6422885\ttotal: 26.9ms\tremaining: 242ms\n",
      "1:\tlearn: 0.6300757\ttotal: 58.1ms\tremaining: 232ms\n",
      "2:\tlearn: 0.6250531\ttotal: 91ms\tremaining: 212ms\n",
      "3:\tlearn: 0.6229506\ttotal: 119ms\tremaining: 179ms\n",
      "4:\tlearn: 0.6219436\ttotal: 148ms\tremaining: 148ms\n",
      "5:\tlearn: 0.6210031\ttotal: 183ms\tremaining: 122ms\n",
      "6:\tlearn: 0.6204454\ttotal: 211ms\tremaining: 90.3ms\n",
      "7:\tlearn: 0.6197607\ttotal: 240ms\tremaining: 60.1ms\n",
      "8:\tlearn: 0.6191724\ttotal: 282ms\tremaining: 31.4ms\n",
      "9:\tlearn: 0.6186929\ttotal: 314ms\tremaining: 0us\n",
      "Learning rate set to 0.5\n",
      "0:\tlearn: 0.6418224\ttotal: 36.7ms\tremaining: 330ms\n",
      "1:\tlearn: 0.6296940\ttotal: 71.3ms\tremaining: 285ms\n",
      "2:\tlearn: 0.6244566\ttotal: 114ms\tremaining: 266ms\n",
      "3:\tlearn: 0.6221833\ttotal: 148ms\tremaining: 221ms\n",
      "4:\tlearn: 0.6209368\ttotal: 186ms\tremaining: 186ms\n",
      "5:\tlearn: 0.6200613\ttotal: 220ms\tremaining: 147ms\n",
      "6:\tlearn: 0.6191621\ttotal: 256ms\tremaining: 110ms\n",
      "7:\tlearn: 0.6183413\ttotal: 302ms\tremaining: 75.5ms\n",
      "8:\tlearn: 0.6173375\ttotal: 337ms\tremaining: 37.5ms\n",
      "9:\tlearn: 0.6167476\ttotal: 375ms\tremaining: 0us\n",
      "Learning rate set to 0.5\n",
      "0:\tlearn: 0.6492770\ttotal: 15.3ms\tremaining: 153ms\n",
      "1:\tlearn: 0.6404016\ttotal: 29.4ms\tremaining: 132ms\n",
      "2:\tlearn: 0.6387682\ttotal: 43.6ms\tremaining: 116ms\n",
      "3:\tlearn: 0.6356461\ttotal: 58.5ms\tremaining: 102ms\n",
      "4:\tlearn: 0.6346990\ttotal: 71.3ms\tremaining: 85.6ms\n",
      "5:\tlearn: 0.6335979\ttotal: 91.8ms\tremaining: 76.5ms\n",
      "6:\tlearn: 0.6322007\ttotal: 107ms\tremaining: 61ms\n",
      "7:\tlearn: 0.6314772\ttotal: 122ms\tremaining: 45.6ms\n",
      "8:\tlearn: 0.6310712\ttotal: 137ms\tremaining: 30.4ms\n",
      "9:\tlearn: 0.6304751\ttotal: 150ms\tremaining: 15ms\n",
      "10:\tlearn: 0.6300908\ttotal: 164ms\tremaining: 0us\n",
      "Learning rate set to 0.5\n",
      "0:\tlearn: 0.6478069\ttotal: 18.6ms\tremaining: 186ms\n",
      "1:\tlearn: 0.6374261\ttotal: 34.5ms\tremaining: 155ms\n",
      "2:\tlearn: 0.6337457\ttotal: 50.6ms\tremaining: 135ms\n",
      "3:\tlearn: 0.6315806\ttotal: 69.6ms\tremaining: 122ms\n",
      "4:\tlearn: 0.6300271\ttotal: 84.7ms\tremaining: 102ms\n",
      "5:\tlearn: 0.6288154\ttotal: 99.7ms\tremaining: 83ms\n",
      "6:\tlearn: 0.6280657\ttotal: 114ms\tremaining: 65.3ms\n",
      "7:\tlearn: 0.6271679\ttotal: 129ms\tremaining: 48.4ms\n",
      "8:\tlearn: 0.6267287\ttotal: 145ms\tremaining: 32.3ms\n",
      "9:\tlearn: 0.6262847\ttotal: 168ms\tremaining: 16.8ms\n",
      "10:\tlearn: 0.6258573\ttotal: 186ms\tremaining: 0us\n",
      "Learning rate set to 0.5\n",
      "0:\tlearn: 0.6464988\ttotal: 18.7ms\tremaining: 187ms\n",
      "1:\tlearn: 0.6355909\ttotal: 37.8ms\tremaining: 170ms\n",
      "2:\tlearn: 0.6310530\ttotal: 54.2ms\tremaining: 144ms\n",
      "3:\tlearn: 0.6287156\ttotal: 69.5ms\tremaining: 122ms\n",
      "4:\tlearn: 0.6270290\ttotal: 85.8ms\tremaining: 103ms\n",
      "5:\tlearn: 0.6261634\ttotal: 102ms\tremaining: 85ms\n",
      "6:\tlearn: 0.6256075\ttotal: 120ms\tremaining: 68.6ms\n",
      "7:\tlearn: 0.6252755\ttotal: 136ms\tremaining: 50.9ms\n",
      "8:\tlearn: 0.6249409\ttotal: 165ms\tremaining: 36.8ms\n",
      "9:\tlearn: 0.6247312\ttotal: 184ms\tremaining: 18.4ms\n",
      "10:\tlearn: 0.6243503\ttotal: 202ms\tremaining: 0us\n",
      "Learning rate set to 0.5\n",
      "0:\tlearn: 0.6458803\ttotal: 20ms\tremaining: 200ms\n",
      "1:\tlearn: 0.6336752\ttotal: 38.8ms\tremaining: 175ms\n",
      "2:\tlearn: 0.6281207\ttotal: 62ms\tremaining: 165ms\n",
      "3:\tlearn: 0.6262416\ttotal: 88.1ms\tremaining: 154ms\n",
      "4:\tlearn: 0.6248789\ttotal: 107ms\tremaining: 128ms\n",
      "5:\tlearn: 0.6243741\ttotal: 126ms\tremaining: 105ms\n",
      "6:\tlearn: 0.6238772\ttotal: 145ms\tremaining: 83.1ms\n",
      "7:\tlearn: 0.6234184\ttotal: 165ms\tremaining: 61.7ms\n",
      "8:\tlearn: 0.6231880\ttotal: 189ms\tremaining: 42ms\n",
      "9:\tlearn: 0.6227926\ttotal: 204ms\tremaining: 20.4ms\n",
      "10:\tlearn: 0.6224494\ttotal: 222ms\tremaining: 0us\n",
      "Learning rate set to 0.5\n",
      "0:\tlearn: 0.6444140\ttotal: 19ms\tremaining: 190ms\n",
      "1:\tlearn: 0.6315533\ttotal: 39.4ms\tremaining: 177ms\n",
      "2:\tlearn: 0.6267838\ttotal: 59.9ms\tremaining: 160ms\n",
      "3:\tlearn: 0.6251038\ttotal: 87.1ms\tremaining: 152ms\n",
      "4:\tlearn: 0.6242645\ttotal: 106ms\tremaining: 127ms\n",
      "5:\tlearn: 0.6234612\ttotal: 125ms\tremaining: 104ms\n",
      "6:\tlearn: 0.6230986\ttotal: 144ms\tremaining: 82.2ms\n",
      "7:\tlearn: 0.6224655\ttotal: 163ms\tremaining: 61.2ms\n",
      "8:\tlearn: 0.6220856\ttotal: 191ms\tremaining: 42.4ms\n",
      "9:\tlearn: 0.6217568\ttotal: 212ms\tremaining: 21.2ms\n",
      "10:\tlearn: 0.6215160\ttotal: 237ms\tremaining: 0us\n",
      "Learning rate set to 0.5\n",
      "0:\tlearn: 0.6438553\ttotal: 31.4ms\tremaining: 314ms\n",
      "1:\tlearn: 0.6312564\ttotal: 54.4ms\tremaining: 245ms\n",
      "2:\tlearn: 0.6261398\ttotal: 75ms\tremaining: 200ms\n",
      "3:\tlearn: 0.6243951\ttotal: 97.4ms\tremaining: 170ms\n",
      "4:\tlearn: 0.6235373\ttotal: 127ms\tremaining: 152ms\n",
      "5:\tlearn: 0.6230969\ttotal: 150ms\tremaining: 125ms\n",
      "6:\tlearn: 0.6221667\ttotal: 172ms\tremaining: 98.1ms\n",
      "7:\tlearn: 0.6217557\ttotal: 193ms\tremaining: 72.5ms\n",
      "8:\tlearn: 0.6213733\ttotal: 220ms\tremaining: 49ms\n",
      "9:\tlearn: 0.6208668\ttotal: 243ms\tremaining: 24.3ms\n",
      "10:\tlearn: 0.6206459\ttotal: 264ms\tremaining: 0us\n",
      "Learning rate set to 0.5\n",
      "0:\tlearn: 0.6422753\ttotal: 24.5ms\tremaining: 245ms\n",
      "1:\tlearn: 0.6297426\ttotal: 48.9ms\tremaining: 220ms\n",
      "2:\tlearn: 0.6256637\ttotal: 76.1ms\tremaining: 203ms\n",
      "3:\tlearn: 0.6239891\ttotal: 104ms\tremaining: 182ms\n",
      "4:\tlearn: 0.6227751\ttotal: 129ms\tremaining: 154ms\n",
      "5:\tlearn: 0.6219588\ttotal: 153ms\tremaining: 127ms\n",
      "6:\tlearn: 0.6214501\ttotal: 181ms\tremaining: 104ms\n",
      "7:\tlearn: 0.6206745\ttotal: 207ms\tremaining: 77.5ms\n",
      "8:\tlearn: 0.6202546\ttotal: 230ms\tremaining: 51.2ms\n",
      "9:\tlearn: 0.6198105\ttotal: 254ms\tremaining: 25.4ms\n",
      "10:\tlearn: 0.6194826\ttotal: 286ms\tremaining: 0us\n",
      "Learning rate set to 0.5\n",
      "0:\tlearn: 0.6422885\ttotal: 27.3ms\tremaining: 273ms\n",
      "1:\tlearn: 0.6300757\ttotal: 53.9ms\tremaining: 242ms\n",
      "2:\tlearn: 0.6250531\ttotal: 90ms\tremaining: 240ms\n",
      "3:\tlearn: 0.6229506\ttotal: 117ms\tremaining: 205ms\n",
      "4:\tlearn: 0.6219436\ttotal: 143ms\tremaining: 171ms\n",
      "5:\tlearn: 0.6210031\ttotal: 176ms\tremaining: 147ms\n",
      "6:\tlearn: 0.6204454\ttotal: 203ms\tremaining: 116ms\n",
      "7:\tlearn: 0.6197607\ttotal: 233ms\tremaining: 87.6ms\n",
      "8:\tlearn: 0.6191724\ttotal: 274ms\tremaining: 60.9ms\n",
      "9:\tlearn: 0.6186929\ttotal: 302ms\tremaining: 30.2ms\n",
      "10:\tlearn: 0.6180407\ttotal: 333ms\tremaining: 0us\n",
      "Learning rate set to 0.5\n",
      "0:\tlearn: 0.6418224\ttotal: 37ms\tremaining: 370ms\n",
      "1:\tlearn: 0.6296940\ttotal: 69.7ms\tremaining: 314ms\n",
      "2:\tlearn: 0.6244566\ttotal: 110ms\tremaining: 294ms\n",
      "3:\tlearn: 0.6221833\ttotal: 143ms\tremaining: 251ms\n",
      "4:\tlearn: 0.6209368\ttotal: 177ms\tremaining: 212ms\n",
      "5:\tlearn: 0.6200613\ttotal: 216ms\tremaining: 180ms\n",
      "6:\tlearn: 0.6191621\ttotal: 251ms\tremaining: 143ms\n",
      "7:\tlearn: 0.6183413\ttotal: 288ms\tremaining: 108ms\n",
      "8:\tlearn: 0.6173375\ttotal: 327ms\tremaining: 72.6ms\n",
      "9:\tlearn: 0.6167476\ttotal: 359ms\tremaining: 35.9ms\n",
      "10:\tlearn: 0.6161884\ttotal: 397ms\tremaining: 0us\n",
      "Learning rate set to 0.5\n",
      "0:\tlearn: 0.6492770\ttotal: 13.8ms\tremaining: 152ms\n",
      "1:\tlearn: 0.6404016\ttotal: 28.1ms\tremaining: 140ms\n",
      "2:\tlearn: 0.6387682\ttotal: 41.3ms\tremaining: 124ms\n",
      "3:\tlearn: 0.6356461\ttotal: 64.5ms\tremaining: 129ms\n",
      "4:\tlearn: 0.6346990\ttotal: 77.1ms\tremaining: 108ms\n",
      "5:\tlearn: 0.6335979\ttotal: 90.6ms\tremaining: 90.6ms\n",
      "6:\tlearn: 0.6322007\ttotal: 105ms\tremaining: 74.7ms\n",
      "7:\tlearn: 0.6314772\ttotal: 118ms\tremaining: 58.9ms\n",
      "8:\tlearn: 0.6310712\ttotal: 131ms\tremaining: 43.8ms\n",
      "9:\tlearn: 0.6304751\ttotal: 145ms\tremaining: 29ms\n",
      "10:\tlearn: 0.6300908\ttotal: 164ms\tremaining: 14.9ms\n",
      "11:\tlearn: 0.6295411\ttotal: 177ms\tremaining: 0us\n",
      "Learning rate set to 0.5\n",
      "0:\tlearn: 0.6478069\ttotal: 17.5ms\tremaining: 192ms\n",
      "1:\tlearn: 0.6374261\ttotal: 32.8ms\tremaining: 164ms\n",
      "2:\tlearn: 0.6337457\ttotal: 47.2ms\tremaining: 142ms\n",
      "3:\tlearn: 0.6315806\ttotal: 69.9ms\tremaining: 140ms\n",
      "4:\tlearn: 0.6300271\ttotal: 85.4ms\tremaining: 120ms\n",
      "5:\tlearn: 0.6288154\ttotal: 101ms\tremaining: 101ms\n",
      "6:\tlearn: 0.6280657\ttotal: 115ms\tremaining: 82ms\n",
      "7:\tlearn: 0.6271679\ttotal: 129ms\tremaining: 64.5ms\n",
      "8:\tlearn: 0.6267287\ttotal: 144ms\tremaining: 48.1ms\n",
      "9:\tlearn: 0.6262847\ttotal: 167ms\tremaining: 33.4ms\n",
      "10:\tlearn: 0.6258573\ttotal: 182ms\tremaining: 16.5ms\n",
      "11:\tlearn: 0.6253951\ttotal: 199ms\tremaining: 0us\n",
      "Learning rate set to 0.5\n",
      "0:\tlearn: 0.6464988\ttotal: 17.9ms\tremaining: 196ms\n",
      "1:\tlearn: 0.6355909\ttotal: 34.7ms\tremaining: 174ms\n",
      "2:\tlearn: 0.6310530\ttotal: 55.1ms\tremaining: 165ms\n",
      "3:\tlearn: 0.6287156\ttotal: 72.1ms\tremaining: 144ms\n",
      "4:\tlearn: 0.6270290\ttotal: 88.1ms\tremaining: 123ms\n",
      "5:\tlearn: 0.6261634\ttotal: 104ms\tremaining: 104ms\n",
      "6:\tlearn: 0.6256075\ttotal: 122ms\tremaining: 87.4ms\n",
      "7:\tlearn: 0.6252755\ttotal: 139ms\tremaining: 69.4ms\n",
      "8:\tlearn: 0.6249409\ttotal: 164ms\tremaining: 54.6ms\n",
      "9:\tlearn: 0.6247312\ttotal: 181ms\tremaining: 36.3ms\n",
      "10:\tlearn: 0.6243503\ttotal: 200ms\tremaining: 18.2ms\n",
      "11:\tlearn: 0.6237793\ttotal: 215ms\tremaining: 0us\n",
      "Learning rate set to 0.5\n",
      "0:\tlearn: 0.6458803\ttotal: 17.8ms\tremaining: 196ms\n",
      "1:\tlearn: 0.6336752\ttotal: 35.3ms\tremaining: 177ms\n",
      "2:\tlearn: 0.6281207\ttotal: 53.5ms\tremaining: 161ms\n",
      "3:\tlearn: 0.6262416\ttotal: 72.1ms\tremaining: 144ms\n",
      "4:\tlearn: 0.6248789\ttotal: 99.6ms\tremaining: 139ms\n",
      "5:\tlearn: 0.6243741\ttotal: 119ms\tremaining: 119ms\n",
      "6:\tlearn: 0.6238772\ttotal: 141ms\tremaining: 100ms\n",
      "7:\tlearn: 0.6234184\ttotal: 161ms\tremaining: 80.3ms\n",
      "8:\tlearn: 0.6231880\ttotal: 187ms\tremaining: 62.4ms\n",
      "9:\tlearn: 0.6227926\ttotal: 203ms\tremaining: 40.5ms\n",
      "10:\tlearn: 0.6224494\ttotal: 222ms\tremaining: 20.2ms\n",
      "11:\tlearn: 0.6222334\ttotal: 242ms\tremaining: 0us\n",
      "Learning rate set to 0.5\n",
      "0:\tlearn: 0.6444140\ttotal: 21.3ms\tremaining: 234ms\n",
      "1:\tlearn: 0.6315533\ttotal: 42ms\tremaining: 210ms\n",
      "2:\tlearn: 0.6267838\ttotal: 63.2ms\tremaining: 190ms\n",
      "3:\tlearn: 0.6251038\ttotal: 83.7ms\tremaining: 167ms\n",
      "4:\tlearn: 0.6242645\ttotal: 114ms\tremaining: 160ms\n",
      "5:\tlearn: 0.6234612\ttotal: 135ms\tremaining: 135ms\n",
      "6:\tlearn: 0.6230986\ttotal: 156ms\tremaining: 112ms\n",
      "7:\tlearn: 0.6224655\ttotal: 177ms\tremaining: 88.6ms\n",
      "8:\tlearn: 0.6220856\ttotal: 207ms\tremaining: 68.9ms\n",
      "9:\tlearn: 0.6217568\ttotal: 229ms\tremaining: 45.7ms\n",
      "10:\tlearn: 0.6215160\ttotal: 249ms\tremaining: 22.7ms\n",
      "11:\tlearn: 0.6213141\ttotal: 270ms\tremaining: 0us\n",
      "Learning rate set to 0.5\n",
      "0:\tlearn: 0.6438553\ttotal: 21.3ms\tremaining: 235ms\n",
      "1:\tlearn: 0.6312564\ttotal: 52.4ms\tremaining: 262ms\n",
      "2:\tlearn: 0.6261398\ttotal: 73.8ms\tremaining: 221ms\n",
      "3:\tlearn: 0.6243951\ttotal: 94.7ms\tremaining: 189ms\n",
      "4:\tlearn: 0.6235373\ttotal: 116ms\tremaining: 162ms\n",
      "5:\tlearn: 0.6230969\ttotal: 143ms\tremaining: 143ms\n",
      "6:\tlearn: 0.6221667\ttotal: 165ms\tremaining: 118ms\n",
      "7:\tlearn: 0.6217557\ttotal: 186ms\tremaining: 93ms\n",
      "8:\tlearn: 0.6213733\ttotal: 207ms\tremaining: 69.1ms\n",
      "9:\tlearn: 0.6208668\ttotal: 235ms\tremaining: 47.1ms\n",
      "10:\tlearn: 0.6206459\ttotal: 257ms\tremaining: 23.4ms\n",
      "11:\tlearn: 0.6203027\ttotal: 279ms\tremaining: 0us\n",
      "Learning rate set to 0.5\n",
      "0:\tlearn: 0.6422753\ttotal: 26.6ms\tremaining: 293ms\n",
      "1:\tlearn: 0.6297426\ttotal: 51.9ms\tremaining: 259ms\n",
      "2:\tlearn: 0.6256637\ttotal: 76.4ms\tremaining: 229ms\n",
      "3:\tlearn: 0.6239891\ttotal: 109ms\tremaining: 218ms\n",
      "4:\tlearn: 0.6227751\ttotal: 136ms\tremaining: 190ms\n",
      "5:\tlearn: 0.6219588\ttotal: 161ms\tremaining: 161ms\n",
      "6:\tlearn: 0.6214501\ttotal: 185ms\tremaining: 132ms\n",
      "7:\tlearn: 0.6206745\ttotal: 214ms\tremaining: 107ms\n",
      "8:\tlearn: 0.6202546\ttotal: 238ms\tremaining: 79.3ms\n",
      "9:\tlearn: 0.6198105\ttotal: 263ms\tremaining: 52.5ms\n",
      "10:\tlearn: 0.6194826\ttotal: 296ms\tremaining: 26.9ms\n",
      "11:\tlearn: 0.6189290\ttotal: 321ms\tremaining: 0us\n",
      "Learning rate set to 0.5\n",
      "0:\tlearn: 0.6422885\ttotal: 25.9ms\tremaining: 285ms\n",
      "1:\tlearn: 0.6300757\ttotal: 61.9ms\tremaining: 310ms\n",
      "2:\tlearn: 0.6250531\ttotal: 89.7ms\tremaining: 269ms\n",
      "3:\tlearn: 0.6229506\ttotal: 117ms\tremaining: 234ms\n",
      "4:\tlearn: 0.6219436\ttotal: 149ms\tremaining: 208ms\n",
      "5:\tlearn: 0.6210031\ttotal: 176ms\tremaining: 176ms\n",
      "6:\tlearn: 0.6204454\ttotal: 203ms\tremaining: 145ms\n",
      "7:\tlearn: 0.6197607\ttotal: 237ms\tremaining: 118ms\n",
      "8:\tlearn: 0.6191724\ttotal: 265ms\tremaining: 88.3ms\n",
      "9:\tlearn: 0.6186929\ttotal: 294ms\tremaining: 58.8ms\n",
      "10:\tlearn: 0.6180407\ttotal: 334ms\tremaining: 30.4ms\n",
      "11:\tlearn: 0.6176529\ttotal: 366ms\tremaining: 0us\n",
      "Learning rate set to 0.5\n",
      "0:\tlearn: 0.6418224\ttotal: 35.4ms\tremaining: 389ms\n",
      "1:\tlearn: 0.6296940\ttotal: 73.7ms\tremaining: 368ms\n",
      "2:\tlearn: 0.6244566\ttotal: 109ms\tremaining: 328ms\n",
      "3:\tlearn: 0.6221833\ttotal: 147ms\tremaining: 294ms\n",
      "4:\tlearn: 0.6209368\ttotal: 190ms\tremaining: 267ms\n",
      "5:\tlearn: 0.6200613\ttotal: 222ms\tremaining: 222ms\n",
      "6:\tlearn: 0.6191621\ttotal: 261ms\tremaining: 186ms\n",
      "7:\tlearn: 0.6183413\ttotal: 299ms\tremaining: 150ms\n",
      "8:\tlearn: 0.6173375\ttotal: 343ms\tremaining: 114ms\n",
      "9:\tlearn: 0.6167476\ttotal: 389ms\tremaining: 77.9ms\n",
      "10:\tlearn: 0.6161884\ttotal: 426ms\tremaining: 38.7ms\n",
      "11:\tlearn: 0.6158311\ttotal: 468ms\tremaining: 0us\n",
      "Learning rate set to 0.5\n",
      "0:\tlearn: 0.6492770\ttotal: 14.1ms\tremaining: 170ms\n",
      "1:\tlearn: 0.6404016\ttotal: 27.9ms\tremaining: 154ms\n",
      "2:\tlearn: 0.6387682\ttotal: 40.6ms\tremaining: 135ms\n",
      "3:\tlearn: 0.6356461\ttotal: 55ms\tremaining: 124ms\n",
      "4:\tlearn: 0.6346990\ttotal: 74.9ms\tremaining: 120ms\n",
      "5:\tlearn: 0.6335979\ttotal: 89.5ms\tremaining: 104ms\n",
      "6:\tlearn: 0.6322007\ttotal: 105ms\tremaining: 89.8ms\n",
      "7:\tlearn: 0.6314772\ttotal: 119ms\tremaining: 74.3ms\n",
      "8:\tlearn: 0.6310712\ttotal: 133ms\tremaining: 59.2ms\n",
      "9:\tlearn: 0.6304751\ttotal: 146ms\tremaining: 43.8ms\n",
      "10:\tlearn: 0.6300908\ttotal: 165ms\tremaining: 30ms\n",
      "11:\tlearn: 0.6295411\ttotal: 180ms\tremaining: 15ms\n",
      "12:\tlearn: 0.6289673\ttotal: 197ms\tremaining: 0us\n",
      "Learning rate set to 0.5\n",
      "0:\tlearn: 0.6478069\ttotal: 17.9ms\tremaining: 214ms\n",
      "1:\tlearn: 0.6374261\ttotal: 33.7ms\tremaining: 186ms\n",
      "2:\tlearn: 0.6337457\ttotal: 48.8ms\tremaining: 163ms\n",
      "3:\tlearn: 0.6315806\ttotal: 65.1ms\tremaining: 146ms\n",
      "4:\tlearn: 0.6300271\ttotal: 86.3ms\tremaining: 138ms\n",
      "5:\tlearn: 0.6288154\ttotal: 103ms\tremaining: 120ms\n",
      "6:\tlearn: 0.6280657\ttotal: 118ms\tremaining: 101ms\n",
      "7:\tlearn: 0.6271679\ttotal: 133ms\tremaining: 82.9ms\n",
      "8:\tlearn: 0.6267287\ttotal: 151ms\tremaining: 67.2ms\n",
      "9:\tlearn: 0.6262847\ttotal: 172ms\tremaining: 51.6ms\n",
      "10:\tlearn: 0.6258573\ttotal: 187ms\tremaining: 34ms\n",
      "11:\tlearn: 0.6253951\ttotal: 204ms\tremaining: 17ms\n",
      "12:\tlearn: 0.6249429\ttotal: 219ms\tremaining: 0us\n",
      "Learning rate set to 0.5\n",
      "0:\tlearn: 0.6464988\ttotal: 25ms\tremaining: 300ms\n",
      "1:\tlearn: 0.6355909\ttotal: 41.3ms\tremaining: 227ms\n",
      "2:\tlearn: 0.6310530\ttotal: 58ms\tremaining: 193ms\n",
      "3:\tlearn: 0.6287156\ttotal: 73.7ms\tremaining: 166ms\n",
      "4:\tlearn: 0.6270290\ttotal: 91.1ms\tremaining: 146ms\n",
      "5:\tlearn: 0.6261634\ttotal: 114ms\tremaining: 133ms\n",
      "6:\tlearn: 0.6256075\ttotal: 135ms\tremaining: 116ms\n",
      "7:\tlearn: 0.6252755\ttotal: 151ms\tremaining: 94.6ms\n",
      "8:\tlearn: 0.6249409\ttotal: 171ms\tremaining: 75.8ms\n",
      "9:\tlearn: 0.6247312\ttotal: 190ms\tremaining: 56.9ms\n",
      "10:\tlearn: 0.6243503\ttotal: 213ms\tremaining: 38.7ms\n",
      "11:\tlearn: 0.6237793\ttotal: 229ms\tremaining: 19.1ms\n",
      "12:\tlearn: 0.6235856\ttotal: 244ms\tremaining: 0us\n",
      "Learning rate set to 0.5\n",
      "0:\tlearn: 0.6458803\ttotal: 22.6ms\tremaining: 271ms\n",
      "1:\tlearn: 0.6336752\ttotal: 40.5ms\tremaining: 223ms\n",
      "2:\tlearn: 0.6281207\ttotal: 65ms\tremaining: 217ms\n",
      "3:\tlearn: 0.6262416\ttotal: 83.8ms\tremaining: 188ms\n",
      "4:\tlearn: 0.6248789\ttotal: 103ms\tremaining: 165ms\n",
      "5:\tlearn: 0.6243741\ttotal: 123ms\tremaining: 143ms\n",
      "6:\tlearn: 0.6238772\ttotal: 142ms\tremaining: 122ms\n",
      "7:\tlearn: 0.6234184\ttotal: 170ms\tremaining: 106ms\n",
      "8:\tlearn: 0.6231880\ttotal: 190ms\tremaining: 84.4ms\n",
      "9:\tlearn: 0.6227926\ttotal: 208ms\tremaining: 62.3ms\n",
      "10:\tlearn: 0.6224494\ttotal: 229ms\tremaining: 41.6ms\n",
      "11:\tlearn: 0.6222334\ttotal: 255ms\tremaining: 21.3ms\n",
      "12:\tlearn: 0.6220732\ttotal: 276ms\tremaining: 0us\n",
      "Learning rate set to 0.5\n",
      "0:\tlearn: 0.6444140\ttotal: 19.1ms\tremaining: 230ms\n",
      "1:\tlearn: 0.6315533\ttotal: 46.3ms\tremaining: 255ms\n",
      "2:\tlearn: 0.6267838\ttotal: 66.4ms\tremaining: 221ms\n",
      "3:\tlearn: 0.6251038\ttotal: 86.5ms\tremaining: 195ms\n",
      "4:\tlearn: 0.6242645\ttotal: 107ms\tremaining: 171ms\n",
      "5:\tlearn: 0.6234612\ttotal: 132ms\tremaining: 154ms\n",
      "6:\tlearn: 0.6230986\ttotal: 152ms\tremaining: 131ms\n",
      "7:\tlearn: 0.6224655\ttotal: 173ms\tremaining: 108ms\n",
      "8:\tlearn: 0.6220856\ttotal: 192ms\tremaining: 85.3ms\n",
      "9:\tlearn: 0.6217568\ttotal: 212ms\tremaining: 63.7ms\n",
      "10:\tlearn: 0.6215160\ttotal: 245ms\tremaining: 44.5ms\n",
      "11:\tlearn: 0.6213141\ttotal: 265ms\tremaining: 22.1ms\n",
      "12:\tlearn: 0.6210519\ttotal: 286ms\tremaining: 0us\n",
      "Learning rate set to 0.5\n",
      "0:\tlearn: 0.6438553\ttotal: 27.8ms\tremaining: 333ms\n",
      "1:\tlearn: 0.6312564\ttotal: 53.7ms\tremaining: 295ms\n",
      "2:\tlearn: 0.6261398\ttotal: 80.6ms\tremaining: 269ms\n",
      "3:\tlearn: 0.6243951\ttotal: 102ms\tremaining: 230ms\n",
      "4:\tlearn: 0.6235373\ttotal: 124ms\tremaining: 199ms\n",
      "5:\tlearn: 0.6230969\ttotal: 147ms\tremaining: 171ms\n",
      "6:\tlearn: 0.6221667\ttotal: 178ms\tremaining: 152ms\n",
      "7:\tlearn: 0.6217557\ttotal: 200ms\tremaining: 125ms\n",
      "8:\tlearn: 0.6213733\ttotal: 222ms\tremaining: 98.5ms\n",
      "9:\tlearn: 0.6208668\ttotal: 243ms\tremaining: 73ms\n",
      "10:\tlearn: 0.6206459\ttotal: 274ms\tremaining: 49.7ms\n",
      "11:\tlearn: 0.6203027\ttotal: 297ms\tremaining: 24.8ms\n",
      "12:\tlearn: 0.6200229\ttotal: 321ms\tremaining: 0us\n",
      "Learning rate set to 0.5\n",
      "0:\tlearn: 0.6422753\ttotal: 24.8ms\tremaining: 297ms\n",
      "1:\tlearn: 0.6297426\ttotal: 58.7ms\tremaining: 323ms\n",
      "2:\tlearn: 0.6256637\ttotal: 83.3ms\tremaining: 278ms\n",
      "3:\tlearn: 0.6239891\ttotal: 110ms\tremaining: 248ms\n",
      "4:\tlearn: 0.6227751\ttotal: 147ms\tremaining: 235ms\n",
      "5:\tlearn: 0.6219588\ttotal: 171ms\tremaining: 200ms\n",
      "6:\tlearn: 0.6214501\ttotal: 194ms\tremaining: 166ms\n",
      "7:\tlearn: 0.6206745\ttotal: 218ms\tremaining: 136ms\n",
      "8:\tlearn: 0.6202546\ttotal: 252ms\tremaining: 112ms\n",
      "9:\tlearn: 0.6198105\ttotal: 276ms\tremaining: 82.9ms\n",
      "10:\tlearn: 0.6194826\ttotal: 302ms\tremaining: 54.9ms\n",
      "11:\tlearn: 0.6189290\ttotal: 333ms\tremaining: 27.8ms\n",
      "12:\tlearn: 0.6185367\ttotal: 358ms\tremaining: 0us\n",
      "Learning rate set to 0.5\n",
      "0:\tlearn: 0.6422885\ttotal: 37.7ms\tremaining: 452ms\n",
      "1:\tlearn: 0.6300757\ttotal: 69.2ms\tremaining: 381ms\n",
      "2:\tlearn: 0.6250531\ttotal: 98ms\tremaining: 327ms\n",
      "3:\tlearn: 0.6229506\ttotal: 136ms\tremaining: 306ms\n",
      "4:\tlearn: 0.6219436\ttotal: 163ms\tremaining: 261ms\n",
      "5:\tlearn: 0.6210031\ttotal: 192ms\tremaining: 224ms\n",
      "6:\tlearn: 0.6204454\ttotal: 228ms\tremaining: 195ms\n",
      "7:\tlearn: 0.6197607\ttotal: 257ms\tremaining: 161ms\n",
      "8:\tlearn: 0.6191724\ttotal: 285ms\tremaining: 127ms\n",
      "9:\tlearn: 0.6186929\ttotal: 319ms\tremaining: 95.7ms\n",
      "10:\tlearn: 0.6180407\ttotal: 348ms\tremaining: 63.2ms\n",
      "11:\tlearn: 0.6176529\ttotal: 378ms\tremaining: 31.5ms\n",
      "12:\tlearn: 0.6172470\ttotal: 408ms\tremaining: 0us\n",
      "Learning rate set to 0.5\n",
      "0:\tlearn: 0.6418224\ttotal: 37ms\tremaining: 444ms\n",
      "1:\tlearn: 0.6296940\ttotal: 77.7ms\tremaining: 427ms\n",
      "2:\tlearn: 0.6244566\ttotal: 117ms\tremaining: 390ms\n",
      "3:\tlearn: 0.6221833\ttotal: 153ms\tremaining: 345ms\n",
      "4:\tlearn: 0.6209368\ttotal: 187ms\tremaining: 299ms\n",
      "5:\tlearn: 0.6200613\ttotal: 223ms\tremaining: 260ms\n",
      "6:\tlearn: 0.6191621\ttotal: 258ms\tremaining: 222ms\n",
      "7:\tlearn: 0.6183413\ttotal: 292ms\tremaining: 183ms\n",
      "8:\tlearn: 0.6173375\ttotal: 331ms\tremaining: 147ms\n",
      "9:\tlearn: 0.6167476\ttotal: 364ms\tremaining: 109ms\n",
      "10:\tlearn: 0.6161884\ttotal: 403ms\tremaining: 73.3ms\n",
      "11:\tlearn: 0.6158311\ttotal: 441ms\tremaining: 36.8ms\n",
      "12:\tlearn: 0.6152384\ttotal: 477ms\tremaining: 0us\n",
      "Learning rate set to 0.5\n",
      "0:\tlearn: 0.6492770\ttotal: 13.7ms\tremaining: 178ms\n",
      "1:\tlearn: 0.6404016\ttotal: 27.1ms\tremaining: 163ms\n",
      "2:\tlearn: 0.6387682\ttotal: 39.7ms\tremaining: 146ms\n",
      "3:\tlearn: 0.6356461\ttotal: 54.4ms\tremaining: 136ms\n",
      "4:\tlearn: 0.6346990\ttotal: 68.4ms\tremaining: 123ms\n",
      "5:\tlearn: 0.6335979\ttotal: 82.8ms\tremaining: 110ms\n",
      "6:\tlearn: 0.6322007\ttotal: 97.4ms\tremaining: 97.4ms\n",
      "7:\tlearn: 0.6314772\ttotal: 112ms\tremaining: 83.9ms\n",
      "8:\tlearn: 0.6310712\ttotal: 126ms\tremaining: 70.2ms\n",
      "9:\tlearn: 0.6304751\ttotal: 139ms\tremaining: 55.6ms\n",
      "10:\tlearn: 0.6300908\ttotal: 156ms\tremaining: 42.6ms\n",
      "11:\tlearn: 0.6295411\ttotal: 171ms\tremaining: 28.4ms\n",
      "12:\tlearn: 0.6289673\ttotal: 191ms\tremaining: 14.7ms\n",
      "13:\tlearn: 0.6285030\ttotal: 214ms\tremaining: 0us\n",
      "Learning rate set to 0.5\n",
      "0:\tlearn: 0.6478069\ttotal: 19.4ms\tremaining: 252ms\n",
      "1:\tlearn: 0.6374261\ttotal: 39.7ms\tremaining: 238ms\n",
      "2:\tlearn: 0.6337457\ttotal: 54.9ms\tremaining: 201ms\n",
      "3:\tlearn: 0.6315806\ttotal: 67.9ms\tremaining: 170ms\n",
      "4:\tlearn: 0.6300271\ttotal: 82.7ms\tremaining: 149ms\n",
      "5:\tlearn: 0.6288154\ttotal: 97.4ms\tremaining: 130ms\n",
      "6:\tlearn: 0.6280657\ttotal: 112ms\tremaining: 112ms\n",
      "7:\tlearn: 0.6271679\ttotal: 136ms\tremaining: 102ms\n",
      "8:\tlearn: 0.6267287\ttotal: 152ms\tremaining: 84.2ms\n",
      "9:\tlearn: 0.6262847\ttotal: 166ms\tremaining: 66.4ms\n",
      "10:\tlearn: 0.6258573\ttotal: 180ms\tremaining: 49.1ms\n",
      "11:\tlearn: 0.6253951\ttotal: 196ms\tremaining: 32.6ms\n",
      "12:\tlearn: 0.6249429\ttotal: 210ms\tremaining: 16.2ms\n",
      "13:\tlearn: 0.6247595\ttotal: 231ms\tremaining: 0us\n",
      "Learning rate set to 0.5\n",
      "0:\tlearn: 0.6464988\ttotal: 17ms\tremaining: 221ms\n",
      "1:\tlearn: 0.6355909\ttotal: 42.6ms\tremaining: 256ms\n",
      "2:\tlearn: 0.6310530\ttotal: 60ms\tremaining: 220ms\n",
      "3:\tlearn: 0.6287156\ttotal: 76.2ms\tremaining: 190ms\n",
      "4:\tlearn: 0.6270290\ttotal: 92ms\tremaining: 166ms\n",
      "5:\tlearn: 0.6261634\ttotal: 108ms\tremaining: 144ms\n",
      "6:\tlearn: 0.6256075\ttotal: 135ms\tremaining: 135ms\n",
      "7:\tlearn: 0.6252755\ttotal: 150ms\tremaining: 112ms\n",
      "8:\tlearn: 0.6249409\ttotal: 168ms\tremaining: 93.5ms\n",
      "9:\tlearn: 0.6247312\ttotal: 186ms\tremaining: 74.6ms\n",
      "10:\tlearn: 0.6243503\ttotal: 203ms\tremaining: 55.5ms\n",
      "11:\tlearn: 0.6237793\ttotal: 226ms\tremaining: 37.7ms\n",
      "12:\tlearn: 0.6235856\ttotal: 243ms\tremaining: 18.7ms\n",
      "13:\tlearn: 0.6234525\ttotal: 263ms\tremaining: 0us\n",
      "Learning rate set to 0.5\n",
      "0:\tlearn: 0.6458803\ttotal: 17.5ms\tremaining: 227ms\n",
      "1:\tlearn: 0.6336752\ttotal: 46.4ms\tremaining: 279ms\n",
      "2:\tlearn: 0.6281207\ttotal: 64.4ms\tremaining: 236ms\n",
      "3:\tlearn: 0.6262416\ttotal: 82.3ms\tremaining: 206ms\n",
      "4:\tlearn: 0.6248789\ttotal: 101ms\tremaining: 182ms\n",
      "5:\tlearn: 0.6243741\ttotal: 119ms\tremaining: 159ms\n",
      "6:\tlearn: 0.6238772\ttotal: 147ms\tremaining: 147ms\n",
      "7:\tlearn: 0.6234184\ttotal: 165ms\tremaining: 124ms\n",
      "8:\tlearn: 0.6231880\ttotal: 185ms\tremaining: 103ms\n",
      "9:\tlearn: 0.6227926\ttotal: 202ms\tremaining: 80.7ms\n",
      "10:\tlearn: 0.6224494\ttotal: 223ms\tremaining: 60.9ms\n",
      "11:\tlearn: 0.6222334\ttotal: 248ms\tremaining: 41.3ms\n",
      "12:\tlearn: 0.6220732\ttotal: 268ms\tremaining: 20.6ms\n",
      "13:\tlearn: 0.6219038\ttotal: 286ms\tremaining: 0us\n",
      "Learning rate set to 0.5\n",
      "0:\tlearn: 0.6444140\ttotal: 18.7ms\tremaining: 244ms\n",
      "1:\tlearn: 0.6315533\ttotal: 38.7ms\tremaining: 232ms\n",
      "2:\tlearn: 0.6267838\ttotal: 66.2ms\tremaining: 243ms\n",
      "3:\tlearn: 0.6251038\ttotal: 86.1ms\tremaining: 215ms\n",
      "4:\tlearn: 0.6242645\ttotal: 107ms\tremaining: 193ms\n",
      "5:\tlearn: 0.6234612\ttotal: 128ms\tremaining: 170ms\n",
      "6:\tlearn: 0.6230986\ttotal: 149ms\tremaining: 149ms\n",
      "7:\tlearn: 0.6224655\ttotal: 175ms\tremaining: 131ms\n",
      "8:\tlearn: 0.6220856\ttotal: 194ms\tremaining: 108ms\n",
      "9:\tlearn: 0.6217568\ttotal: 213ms\tremaining: 85ms\n",
      "10:\tlearn: 0.6215160\ttotal: 232ms\tremaining: 63.2ms\n",
      "11:\tlearn: 0.6213141\ttotal: 261ms\tremaining: 43.4ms\n",
      "12:\tlearn: 0.6210519\ttotal: 280ms\tremaining: 21.6ms\n",
      "13:\tlearn: 0.6208284\ttotal: 300ms\tremaining: 0us\n",
      "Learning rate set to 0.5\n",
      "0:\tlearn: 0.6438553\ttotal: 20.6ms\tremaining: 267ms\n",
      "1:\tlearn: 0.6312564\ttotal: 41.9ms\tremaining: 252ms\n",
      "2:\tlearn: 0.6261398\ttotal: 71ms\tremaining: 260ms\n",
      "3:\tlearn: 0.6243951\ttotal: 90.7ms\tremaining: 227ms\n",
      "4:\tlearn: 0.6235373\ttotal: 111ms\tremaining: 199ms\n",
      "5:\tlearn: 0.6230969\ttotal: 131ms\tremaining: 175ms\n",
      "6:\tlearn: 0.6221667\ttotal: 158ms\tremaining: 158ms\n",
      "7:\tlearn: 0.6217557\ttotal: 178ms\tremaining: 134ms\n",
      "8:\tlearn: 0.6213733\ttotal: 199ms\tremaining: 111ms\n",
      "9:\tlearn: 0.6208668\ttotal: 221ms\tremaining: 88.4ms\n",
      "10:\tlearn: 0.6206459\ttotal: 247ms\tremaining: 67.5ms\n",
      "11:\tlearn: 0.6203027\ttotal: 274ms\tremaining: 45.6ms\n",
      "12:\tlearn: 0.6200229\ttotal: 295ms\tremaining: 22.7ms\n",
      "13:\tlearn: 0.6196402\ttotal: 316ms\tremaining: 0us\n",
      "Learning rate set to 0.5\n",
      "0:\tlearn: 0.6422753\ttotal: 24.7ms\tremaining: 321ms\n",
      "1:\tlearn: 0.6297426\ttotal: 47.5ms\tremaining: 285ms\n",
      "2:\tlearn: 0.6256637\ttotal: 79.6ms\tremaining: 292ms\n",
      "3:\tlearn: 0.6239891\ttotal: 102ms\tremaining: 255ms\n",
      "4:\tlearn: 0.6227751\ttotal: 126ms\tremaining: 228ms\n",
      "5:\tlearn: 0.6219588\ttotal: 150ms\tremaining: 200ms\n",
      "6:\tlearn: 0.6214501\ttotal: 179ms\tremaining: 179ms\n",
      "7:\tlearn: 0.6206745\ttotal: 203ms\tremaining: 152ms\n",
      "8:\tlearn: 0.6202546\ttotal: 227ms\tremaining: 126ms\n",
      "9:\tlearn: 0.6198105\ttotal: 255ms\tremaining: 102ms\n",
      "10:\tlearn: 0.6194826\ttotal: 278ms\tremaining: 75.9ms\n",
      "11:\tlearn: 0.6189290\ttotal: 305ms\tremaining: 50.8ms\n",
      "12:\tlearn: 0.6185367\ttotal: 329ms\tremaining: 25.3ms\n",
      "13:\tlearn: 0.6182226\ttotal: 362ms\tremaining: 0us\n",
      "Learning rate set to 0.5\n",
      "0:\tlearn: 0.6422885\ttotal: 39.5ms\tremaining: 514ms\n",
      "1:\tlearn: 0.6300757\ttotal: 65ms\tremaining: 390ms\n",
      "2:\tlearn: 0.6250531\ttotal: 91.3ms\tremaining: 335ms\n",
      "3:\tlearn: 0.6229506\ttotal: 124ms\tremaining: 309ms\n",
      "4:\tlearn: 0.6219436\ttotal: 150ms\tremaining: 271ms\n",
      "5:\tlearn: 0.6210031\ttotal: 179ms\tremaining: 239ms\n",
      "6:\tlearn: 0.6204454\ttotal: 212ms\tremaining: 212ms\n",
      "7:\tlearn: 0.6197607\ttotal: 252ms\tremaining: 189ms\n",
      "8:\tlearn: 0.6191724\ttotal: 281ms\tremaining: 156ms\n",
      "9:\tlearn: 0.6186929\ttotal: 310ms\tremaining: 124ms\n",
      "10:\tlearn: 0.6180407\ttotal: 342ms\tremaining: 93.3ms\n",
      "11:\tlearn: 0.6176529\ttotal: 368ms\tremaining: 61.3ms\n",
      "12:\tlearn: 0.6172470\ttotal: 395ms\tremaining: 30.4ms\n",
      "13:\tlearn: 0.6167842\ttotal: 430ms\tremaining: 0us\n",
      "Learning rate set to 0.5\n",
      "0:\tlearn: 0.6418224\ttotal: 33.4ms\tremaining: 434ms\n",
      "1:\tlearn: 0.6296940\ttotal: 76.2ms\tremaining: 457ms\n",
      "2:\tlearn: 0.6244566\ttotal: 112ms\tremaining: 412ms\n",
      "3:\tlearn: 0.6221833\ttotal: 154ms\tremaining: 386ms\n",
      "4:\tlearn: 0.6209368\ttotal: 189ms\tremaining: 340ms\n",
      "5:\tlearn: 0.6200613\ttotal: 224ms\tremaining: 298ms\n",
      "6:\tlearn: 0.6191621\ttotal: 266ms\tremaining: 266ms\n",
      "7:\tlearn: 0.6183413\ttotal: 299ms\tremaining: 224ms\n",
      "8:\tlearn: 0.6173375\ttotal: 341ms\tremaining: 189ms\n",
      "9:\tlearn: 0.6167476\ttotal: 381ms\tremaining: 152ms\n",
      "10:\tlearn: 0.6161884\ttotal: 414ms\tremaining: 113ms\n",
      "11:\tlearn: 0.6158311\ttotal: 455ms\tremaining: 75.9ms\n",
      "12:\tlearn: 0.6152384\ttotal: 490ms\tremaining: 37.7ms\n",
      "13:\tlearn: 0.6146705\ttotal: 524ms\tremaining: 0us\n",
      "CPU times: user 51.6 s, sys: 627 ms, total: 52.3 s\n",
      "Wall time: 2min 32s\n"
     ]
    }
   ],
   "source": [
    "%%time\n",
    "\n",
    "cat_model = None\n",
    "cat_result = 0\n",
    "\n",
    "for est in range(1, 15):\n",
    "    for depth in range(1, 10):\n",
    "        model = CatBoostClassifier(random_state=12345, n_estimators=est, max_depth=depth)\n",
    "        result = predict_model(model)\n",
    "        \n",
    "        if result > cat_result:\n",
    "            cat_result = result\n",
    "            cat_model = model"
   ]
  },
  {
   "cell_type": "code",
   "execution_count": 108,
   "id": "86f2bafd",
   "metadata": {},
   "outputs": [
    {
     "data": {
      "text/plain": [
       "(0.8658937803540655, <catboost.core.CatBoostClassifier at 0x7fcd03f1b520>)"
      ]
     },
     "execution_count": 108,
     "metadata": {},
     "output_type": "execute_result"
    }
   ],
   "source": [
    "cat_result, cat_model"
   ]
  },
  {
   "cell_type": "markdown",
   "id": "d856f1dc",
   "metadata": {},
   "source": [
    "### Выбор лучшей модели"
   ]
  },
  {
   "cell_type": "code",
   "execution_count": 109,
   "id": "6c8cd4a9",
   "metadata": {},
   "outputs": [
    {
     "data": {
      "text/html": [
       "<div>\n",
       "<style scoped>\n",
       "    .dataframe tbody tr th:only-of-type {\n",
       "        vertical-align: middle;\n",
       "    }\n",
       "\n",
       "    .dataframe tbody tr th {\n",
       "        vertical-align: top;\n",
       "    }\n",
       "\n",
       "    .dataframe thead th {\n",
       "        text-align: right;\n",
       "    }\n",
       "</style>\n",
       "<table border=\"1\" class=\"dataframe\">\n",
       "  <thead>\n",
       "    <tr style=\"text-align: right;\">\n",
       "      <th></th>\n",
       "      <th>precision</th>\n",
       "    </tr>\n",
       "  </thead>\n",
       "  <tbody>\n",
       "    <tr>\n",
       "      <th>CatBoost</th>\n",
       "      <td>0.865894</td>\n",
       "    </tr>\n",
       "    <tr>\n",
       "      <th>DecisionTree</th>\n",
       "      <td>0.864186</td>\n",
       "    </tr>\n",
       "    <tr>\n",
       "      <th>LightGBM</th>\n",
       "      <td>0.864186</td>\n",
       "    </tr>\n",
       "    <tr>\n",
       "      <th>RandomForest</th>\n",
       "      <td>0.747807</td>\n",
       "    </tr>\n",
       "    <tr>\n",
       "      <th>LogisticRegression</th>\n",
       "      <td>0.677029</td>\n",
       "    </tr>\n",
       "  </tbody>\n",
       "</table>\n",
       "</div>"
      ],
      "text/plain": [
       "                    precision\n",
       "CatBoost             0.865894\n",
       "DecisionTree         0.864186\n",
       "LightGBM             0.864186\n",
       "RandomForest         0.747807\n",
       "LogisticRegression   0.677029"
      ]
     },
     "execution_count": 109,
     "metadata": {},
     "output_type": "execute_result"
    }
   ],
   "source": [
    "result = pd.DataFrame ([\n",
    "    [lr_result],\n",
    "    [dtc_result],\n",
    "    [rfc_result],\n",
    "    [lgbm_result],\n",
    "    [cat_result]], \n",
    "    columns=['precision'],\n",
    "    index=['LogisticRegression', 'DecisionTree','RandomForest', 'LightGBM', 'CatBoost'])\n",
    "\n",
    "result.sort_values(by='precision', ascending=False)"
   ]
  },
  {
   "cell_type": "markdown",
   "id": "5b719d4f",
   "metadata": {},
   "source": [
    "Лучший результат показала модель дерева решений, продолжим работу с ней."
   ]
  },
  {
   "cell_type": "markdown",
   "id": "70e89ff2",
   "metadata": {},
   "source": [
    "## 6. Проверка лучшей модели в работе"
   ]
  },
  {
   "cell_type": "markdown",
   "id": "9fc26a2d",
   "metadata": {},
   "source": [
    "### Матрица ошибок"
   ]
  },
  {
   "cell_type": "markdown",
   "id": "61b9535e",
   "metadata": {},
   "source": [
    "Проверим модель на тестовой выборке и расчитаем остальные метрики."
   ]
  },
  {
   "cell_type": "code",
   "execution_count": 110,
   "id": "22627af1",
   "metadata": {},
   "outputs": [
    {
     "data": {
      "text/plain": [
       "(0.8648859731333958, 0.289002557544757, 0.4332381362231524)"
      ]
     },
     "execution_count": 110,
     "metadata": {},
     "output_type": "execute_result"
    }
   ],
   "source": [
    "dtc_predictions = dtc_model.predict(features_test)\n",
    "dtc_precision = precision_score(target_test, dtc_predictions)\n",
    "dtc_recall = recall_score(target_test, dtc_predictions)\n",
    "dtc_f1 = f1_score(target_test, dtc_predictions)\n",
    "\n",
    "dtc_precision, dtc_recall, dtc_f1"
   ]
  },
  {
   "cell_type": "markdown",
   "id": "6efed607",
   "metadata": {},
   "source": [
    "Судя по матрице ошибок, модель часто признает виновными водителей, которые на самом деле не были выновны. Но, возможно, для наших целей такая \"осторожность\" модели даже хорошо."
   ]
  },
  {
   "cell_type": "code",
   "execution_count": 111,
   "id": "8663f51b",
   "metadata": {},
   "outputs": [
    {
     "data": {
      "text/plain": [
       "array([[15421,   865],\n",
       "       [13622,  5537]])"
      ]
     },
     "execution_count": 111,
     "metadata": {},
     "output_type": "execute_result"
    }
   ],
   "source": [
    "confusion_matrix(target_test, dtc_predictions)"
   ]
  },
  {
   "cell_type": "code",
   "execution_count": 112,
   "id": "9ae58e19",
   "metadata": {},
   "outputs": [],
   "source": [
    "probabilities_test = dtc_model.predict_proba(features_test)"
   ]
  },
  {
   "cell_type": "markdown",
   "id": "143347f0",
   "metadata": {},
   "source": [
    "Изобразим на графике, как будут выглядеть изменения метрик при изменении порога классификации."
   ]
  },
  {
   "cell_type": "code",
   "execution_count": 113,
   "id": "7d8cbb02",
   "metadata": {},
   "outputs": [
    {
     "data": {
      "image/png": "[encoded data removed]",
      "text/plain": [
       "<Figure size 432x432 with 1 Axes>"
      ]
     },
     "metadata": {
      "needs_background": "light"
     },
     "output_type": "display_data"
    }
   ],
   "source": [
    "precision, recall, thresholds = precision_recall_curve(target_test, probabilities_test[:, 1])\n",
    "\n",
    "plt.figure(figsize=(6, 6))\n",
    "plt.step(recall, precision, where='post')\n",
    "plt.xlabel('Recall')\n",
    "plt.ylabel('Precision')\n",
    "plt.ylim([0.0, 1.05])\n",
    "plt.xlim([0.0, 1.0])\n",
    "plt.title('Кривая Precision-Recall')\n",
    "plt.show()"
   ]
  },
  {
   "cell_type": "code",
   "execution_count": 114,
   "id": "4db74dbf",
   "metadata": {},
   "outputs": [
    {
     "data": {
      "image/png": "[encoded data removed]",
      "text/plain": [
       "<Figure size 432x288 with 1 Axes>"
      ]
     },
     "metadata": {
      "needs_background": "light"
     },
     "output_type": "display_data"
    }
   ],
   "source": [
    "precision, recall, thresholds = roc_curve(target_test, probabilities_test[:, 1])\n",
    "\n",
    "plt.figure()\n",
    "plt.plot(precision, recall)\n",
    "plt.plot([0, 1], [0, 1], linestyle='--')\n",
    "plt.xlim([0.0, 1.0])\n",
    "plt.ylim([0.0, 1.0])\n",
    "plt.xlabel('False Positive Rate')\n",
    "plt.ylabel('True Positive Rate')\n",
    "plt.title('ROC-кривая')\n",
    "plt.show()"
   ]
  },
  {
   "cell_type": "markdown",
   "id": "a9a62bcd",
   "metadata": {},
   "source": [
    "Анализ кривой ошибок показывает, что модель работает неидеально, но все-таки лучше, чем случайным образом."
   ]
  },
  {
   "cell_type": "code",
   "execution_count": 115,
   "id": "452fe9fc",
   "metadata": {},
   "outputs": [
    {
     "data": {
      "text/plain": [
       "0.6179447271329336"
      ]
     },
     "execution_count": 115,
     "metadata": {},
     "output_type": "execute_result"
    }
   ],
   "source": [
    "auc_roc = roc_auc_score(target_test, probabilities_test[:, 1])\n",
    "auc_roc"
   ]
  },
  {
   "cell_type": "markdown",
   "id": "c730c2ef",
   "metadata": {},
   "source": [
    "### Анализ важности основных факторов"
   ]
  },
  {
   "cell_type": "markdown",
   "id": "29a848f2",
   "metadata": {},
   "source": [
    "Как видно из графика ниже, в целом признаки не очень сильно коррелируют друг с другом, включая целевой признак. Возможно, было отобрано слишком большое количество признаков, и если уменьшить их количество, то связи улучшатся.\n",
    "\n",
    "\n",
    "Но можно отметить сильную корреляцию между погодными условиями и качеством дорожного покрытия."
   ]
  },
  {
   "cell_type": "code",
   "execution_count": 116,
   "id": "2c27f4ff",
   "metadata": {},
   "outputs": [
    {
     "data": {
      "text/plain": [
       "<AxesSubplot:>"
      ]
     },
     "execution_count": 116,
     "metadata": {},
     "output_type": "execute_result"
    },
    {
     "data": {
      "image/png": "[encoded data removed]",
      "text/plain": [
       "<Figure size 1440x1080 with 2 Axes>"
      ]
     },
     "metadata": {},
     "output_type": "display_data"
    }
   ],
   "source": [
    "data_encoded = pd.DataFrame(OrdinalEncoder().fit_transform(data), columns=data.columns)\n",
    "\n",
    "sns.set(font_scale=1.15)\n",
    "plt.figure(figsize=(20,15))\n",
    "sns.heatmap(\n",
    "    data_encoded.corr(),        \n",
    "    cmap='RdBu_r',\n",
    "    annot=True,\n",
    "    vmin=-1, vmax=1)"
   ]
  },
  {
   "cell_type": "code",
   "execution_count": 117,
   "id": "9c448da0",
   "metadata": {},
   "outputs": [
    {
     "data": {
      "text/plain": [
       "80    1.0\n",
       "0     0.0\n",
       "63    0.0\n",
       "72    0.0\n",
       "71    0.0\n",
       "     ... \n",
       "30    0.0\n",
       "29    0.0\n",
       "28    0.0\n",
       "27    0.0\n",
       "98    0.0\n",
       "Length: 99, dtype: float64"
      ]
     },
     "execution_count": 117,
     "metadata": {},
     "output_type": "execute_result"
    }
   ],
   "source": [
    "importances = dtc_model.feature_importances_\n",
    "importances = pd.Series(importances)\n",
    "importances.sort_values(ascending=False)"
   ]
  },
  {
   "cell_type": "markdown",
   "id": "b85953de",
   "metadata": {},
   "source": [
    "### Решение для одного из выявленных факторов"
   ]
  },
  {
   "cell_type": "markdown",
   "id": "b8987dc3",
   "metadata": {},
   "source": [
    "Как следует из тепловой карты, один из признаков, с которым у целевого признака есть заметная коореляция - это тип дороги. На шоссе вина за аварии распределена примерно поровну. На участках, определенных как другие (т.е. не шоссе, перекрестки, рампы) ДТП чаще случаются по вине водителей.\n",
    "\n",
    "\n",
    "Решение этой проблемы может быть в следующем:\n",
    "- установка видеорегистраторов для защиты от внешних угроз\n",
    "- для водителя: системы контроля вождения, например, датчики, которые будут оценивать усилие при нажатиях на тормоз или угол поворота руля. Это поможет понять, насколько аккуратно управляет автомобилем водитель"
   ]
  },
  {
   "cell_type": "code",
   "execution_count": 118,
   "id": "76f91f1e",
   "metadata": {},
   "outputs": [
    {
     "data": {
      "text/plain": [
       "(array([0, 1, 2, 3]),\n",
       " [Text(0, 0, 'ramp'),\n",
       "  Text(1, 0, 'other'),\n",
       "  Text(2, 0, 'highway'),\n",
       "  Text(3, 0, 'intersection')])"
      ]
     },
     "execution_count": 118,
     "metadata": {},
     "output_type": "execute_result"
    },
    {
     "data": {
      "image/png": "[encoded data removed]",
      "text/plain": [
       "<Figure size 432x288 with 1 Axes>"
      ]
     },
     "metadata": {},
     "output_type": "display_data"
    }
   ],
   "source": [
    "sns.countplot(data=data, x=\"location_type\", hue=\"at_fault\")\n",
    "plt.xticks(rotation=45, \n",
    "           ha='right')"
   ]
  },
  {
   "cell_type": "markdown",
   "id": "c14bdc65",
   "metadata": {},
   "source": [
    "## Вывод"
   ]
  },
  {
   "cell_type": "markdown",
   "id": "b644e31f",
   "metadata": {},
   "source": [
    "Перед нами стояла задача создания системы, которая могла бы оценить риск ДТП по выбранному маршруту движения. Наша модель на основе исторических данных должна предсказывать вероятность ДТП. Также на основе модели было необходимо исследовать основные факторы ДТП. \n",
    "\n",
    "В нашем распоряжении было три таблицы с данными о происшествиях, описанием участников происшествия и описанием автомобилей.\n",
    "\n",
    "Мы провели статистический анализ факторов ДТП, сформировали несколько задач для рабочей группы. В частности, было выявлено, что чем выше возраст автомобиля, тем чаще ДТП оборачивается для него невосстановимыми последствиями. Также мы выяснили, что тип коробки передач не влияет на риск ДТП в связи с погодным фактором.\n",
    "\n",
    "Для создания модели предсказания риска ДТП мы провели отбор факторов, собрать которые возможно непосредственно до факта ДТП. В них вошли в частности: время суток, погодные условия, тип дорожного покрытия, состояние дороги, физическое состояние водителя, некоторые характеристики автомобиля.\n",
    "\n",
    "Мы провели обработку отобранных факторов, убрали в них пропуски, редкие значения.\n",
    "\n",
    "Для оценки качества модели была выбрана метрика precision, которая показывает какие число виновных водителей было правильно определено как виновные. На трех моделях у нас получился одинаковый результат - 0.86 (при идеальном - 1). Для дальнейшей оценки факторов мы выбрали модель дерева решений.\n",
    "\n",
    "Анализ факторов показал, что в целом наши признаки не очень хорошо коррелируют друг с другом. Заметный уровень корреляции показали только погода и тип дорожного покрытия. Целевой признак не коррелирует достаточным образом ни с одним из рассмотренных факторов.\n",
    "\n",
    "Таким образом, можно сделать вывод, что в текущем виде модель не может быть рекомендована для использования.\n",
    "\n",
    "Для повышения качества прогноза ее необходимо дополнить, например, признаками, связанными персонально с водителем. Установить в автомобиле датчики, которые будут оценивать стиль, аккуратность вождения - силу нажатия педалей, угол поворота руля."
   ]
  }
 ],
 "metadata": {
  "ExecuteTimeLog": [
   {
    "duration": 120,
    "start_time": "2023-09-03T09:19:34.216Z"
   },
   {
    "duration": 2,
    "start_time": "2023-09-03T09:21:43.787Z"
   },
   {
    "duration": 43,
    "start_time": "2023-09-03T09:24:50.000Z"
   },
   {
    "duration": 3,
    "start_time": "2023-09-03T09:24:54.695Z"
   },
   {
    "duration": 194,
    "start_time": "2023-09-03T09:25:26.800Z"
   },
   {
    "duration": 2,
    "start_time": "2023-09-03T09:27:32.019Z"
   },
   {
    "duration": 3,
    "start_time": "2023-09-03T09:27:32.874Z"
   },
   {
    "duration": 3,
    "start_time": "2023-09-03T09:27:33.663Z"
   },
   {
    "duration": 187,
    "start_time": "2023-09-03T09:27:34.313Z"
   },
   {
    "duration": 2536,
    "start_time": "2023-09-03T09:28:04.727Z"
   },
   {
    "duration": 2,
    "start_time": "2023-09-03T09:28:08.921Z"
   },
   {
    "duration": 8,
    "start_time": "2023-09-03T09:28:09.543Z"
   },
   {
    "duration": 2,
    "start_time": "2023-09-03T09:28:10.078Z"
   },
   {
    "duration": 165,
    "start_time": "2023-09-03T09:28:10.643Z"
   },
   {
    "duration": 3,
    "start_time": "2023-09-03T09:31:37.157Z"
   },
   {
    "duration": 3,
    "start_time": "2023-09-03T09:31:37.773Z"
   },
   {
    "duration": 3,
    "start_time": "2023-09-03T09:31:38.260Z"
   },
   {
    "duration": 13524,
    "start_time": "2023-09-03T09:31:38.966Z"
   },
   {
    "duration": 429,
    "start_time": "2023-09-03T09:35:58.717Z"
   },
   {
    "duration": 287,
    "start_time": "2023-09-03T09:36:03.827Z"
   },
   {
    "duration": 2,
    "start_time": "2023-09-03T09:38:56.981Z"
   },
   {
    "duration": 3,
    "start_time": "2023-09-03T09:38:57.566Z"
   },
   {
    "duration": 4,
    "start_time": "2023-09-03T09:38:58.159Z"
   },
   {
    "duration": 4,
    "start_time": "2023-09-03T09:38:58.722Z"
   },
   {
    "duration": 242,
    "start_time": "2023-09-03T09:38:59.364Z"
   },
   {
    "duration": 214,
    "start_time": "2023-09-03T09:41:22.651Z"
   },
   {
    "duration": 508,
    "start_time": "2023-09-03T09:43:28.699Z"
   },
   {
    "duration": 3,
    "start_time": "2023-09-03T09:43:30.022Z"
   },
   {
    "duration": 5,
    "start_time": "2023-09-03T09:43:34.237Z"
   },
   {
    "duration": 14311,
    "start_time": "2023-09-03T09:43:35.617Z"
   },
   {
    "duration": 65,
    "start_time": "2023-09-03T09:43:49.930Z"
   },
   {
    "duration": 22,
    "start_time": "2023-09-03T09:44:08.579Z"
   },
   {
    "duration": 15,
    "start_time": "2023-09-03T09:45:56.497Z"
   },
   {
    "duration": 31,
    "start_time": "2023-09-03T09:47:34.483Z"
   },
   {
    "duration": 31,
    "start_time": "2023-09-03T09:49:08.791Z"
   },
   {
    "duration": 355,
    "start_time": "2023-09-03T09:55:27.143Z"
   },
   {
    "duration": 237,
    "start_time": "2023-09-03T09:55:59.665Z"
   },
   {
    "duration": 274,
    "start_time": "2023-09-03T09:56:21.714Z"
   },
   {
    "duration": 231,
    "start_time": "2023-09-03T09:56:47.684Z"
   },
   {
    "duration": 1401,
    "start_time": "2023-09-03T09:57:08.867Z"
   },
   {
    "duration": 180,
    "start_time": "2023-09-03T09:57:25.588Z"
   },
   {
    "duration": 162,
    "start_time": "2023-09-03T09:58:09.438Z"
   },
   {
    "duration": 262,
    "start_time": "2023-09-03T09:59:28.323Z"
   },
   {
    "duration": 24,
    "start_time": "2023-09-03T10:09:59.688Z"
   },
   {
    "duration": 3,
    "start_time": "2023-09-03T10:10:30.266Z"
   },
   {
    "duration": 164,
    "start_time": "2023-09-03T10:10:37.844Z"
   },
   {
    "duration": 270,
    "start_time": "2023-09-03T10:11:04.086Z"
   },
   {
    "duration": 152,
    "start_time": "2023-09-03T10:11:10.963Z"
   },
   {
    "duration": 855,
    "start_time": "2023-09-03T11:46:02.306Z"
   },
   {
    "duration": 3,
    "start_time": "2023-09-03T11:46:04.708Z"
   },
   {
    "duration": 2,
    "start_time": "2023-09-03T11:46:05.312Z"
   },
   {
    "duration": 12108,
    "start_time": "2023-09-03T11:46:05.792Z"
   },
   {
    "duration": 56,
    "start_time": "2023-09-03T11:46:17.901Z"
   },
   {
    "duration": 12,
    "start_time": "2023-09-03T11:46:20.571Z"
   },
   {
    "duration": 21,
    "start_time": "2023-09-03T11:46:21.244Z"
   },
   {
    "duration": 15,
    "start_time": "2023-09-03T11:46:21.995Z"
   },
   {
    "duration": 243,
    "start_time": "2023-09-03T11:46:22.816Z"
   },
   {
    "duration": 148,
    "start_time": "2023-09-03T11:46:24.428Z"
   },
   {
    "duration": 218,
    "start_time": "2023-09-03T12:01:49.377Z"
   },
   {
    "duration": 9,
    "start_time": "2023-09-03T12:01:58.200Z"
   },
   {
    "duration": 182,
    "start_time": "2023-09-03T12:02:34.827Z"
   },
   {
    "duration": 188,
    "start_time": "2023-09-03T12:04:55.112Z"
   },
   {
    "duration": 148,
    "start_time": "2023-09-03T12:05:01.490Z"
   },
   {
    "duration": 2950,
    "start_time": "2023-09-03T12:05:41.163Z"
   },
   {
    "duration": 188,
    "start_time": "2023-09-03T12:06:11.642Z"
   },
   {
    "duration": 527,
    "start_time": "2023-09-03T12:06:19.308Z"
   },
   {
    "duration": 3011,
    "start_time": "2023-09-03T12:06:36.116Z"
   },
   {
    "duration": 7,
    "start_time": "2023-09-03T12:08:49.503Z"
   },
   {
    "duration": 115,
    "start_time": "2023-09-03T12:26:23.800Z"
   },
   {
    "duration": 151,
    "start_time": "2023-09-03T12:26:47.500Z"
   },
   {
    "duration": 15,
    "start_time": "2023-09-03T12:31:02.840Z"
   },
   {
    "duration": 3,
    "start_time": "2023-09-03T12:31:15.586Z"
   },
   {
    "duration": 9,
    "start_time": "2023-09-03T12:31:20.862Z"
   },
   {
    "duration": 106,
    "start_time": "2023-09-03T12:31:38.113Z"
   },
   {
    "duration": 101,
    "start_time": "2023-09-03T12:35:08.412Z"
   },
   {
    "duration": 523,
    "start_time": "2023-09-03T12:36:06.989Z"
   },
   {
    "duration": 139,
    "start_time": "2023-09-03T12:36:11.787Z"
   },
   {
    "duration": 115,
    "start_time": "2023-09-03T12:38:02.913Z"
   },
   {
    "duration": 561,
    "start_time": "2023-09-03T12:38:38.058Z"
   },
   {
    "duration": 118,
    "start_time": "2023-09-03T12:38:43.631Z"
   },
   {
    "duration": 108,
    "start_time": "2023-09-03T12:38:56.231Z"
   },
   {
    "duration": 182,
    "start_time": "2023-09-03T12:39:04.214Z"
   },
   {
    "duration": 132,
    "start_time": "2023-09-03T12:41:51.707Z"
   },
   {
    "duration": 82,
    "start_time": "2023-09-03T12:45:48.591Z"
   },
   {
    "duration": 1746,
    "start_time": "2023-09-03T12:46:00.919Z"
   },
   {
    "duration": 213,
    "start_time": "2023-09-03T12:58:00.736Z"
   },
   {
    "duration": 128,
    "start_time": "2023-09-03T12:58:18.371Z"
   },
   {
    "duration": 127,
    "start_time": "2023-09-03T12:58:51.272Z"
   },
   {
    "duration": 141,
    "start_time": "2023-09-03T13:02:06.004Z"
   },
   {
    "duration": 545,
    "start_time": "2023-09-03T13:02:17.820Z"
   },
   {
    "duration": 142,
    "start_time": "2023-09-03T13:02:34.392Z"
   },
   {
    "duration": 125,
    "start_time": "2023-09-03T13:02:52.280Z"
   },
   {
    "duration": 570,
    "start_time": "2023-09-03T13:03:04.002Z"
   },
   {
    "duration": 567,
    "start_time": "2023-09-03T13:03:20.029Z"
   },
   {
    "duration": 13,
    "start_time": "2023-09-03T13:04:27.643Z"
   },
   {
    "duration": 5,
    "start_time": "2023-09-03T13:04:38.605Z"
   },
   {
    "duration": 6,
    "start_time": "2023-09-03T13:04:56.412Z"
   },
   {
    "duration": 9,
    "start_time": "2023-09-03T13:05:19.661Z"
   },
   {
    "duration": 10,
    "start_time": "2023-09-03T13:17:58.071Z"
   },
   {
    "duration": 12,
    "start_time": "2023-09-03T13:18:37.233Z"
   },
   {
    "duration": 569,
    "start_time": "2023-09-03T13:19:00.472Z"
   },
   {
    "duration": 549,
    "start_time": "2023-09-03T13:19:08.587Z"
   },
   {
    "duration": 2069,
    "start_time": "2023-09-03T13:28:05.930Z"
   },
   {
    "duration": 89,
    "start_time": "2023-09-03T13:28:20.974Z"
   },
   {
    "duration": 4282,
    "start_time": "2023-09-03T13:29:23.369Z"
   },
   {
    "duration": 125,
    "start_time": "2023-09-03T13:35:19.847Z"
   },
   {
    "duration": 124,
    "start_time": "2023-09-03T13:35:41.880Z"
   },
   {
    "duration": 135,
    "start_time": "2023-09-03T13:36:02.300Z"
   },
   {
    "duration": 660,
    "start_time": "2023-09-03T13:36:28.795Z"
   },
   {
    "duration": 737,
    "start_time": "2023-09-03T13:36:54.697Z"
   },
   {
    "duration": 681,
    "start_time": "2023-09-03T13:37:00.073Z"
   },
   {
    "duration": 3817,
    "start_time": "2023-09-03T13:37:35.400Z"
   },
   {
    "duration": 666,
    "start_time": "2023-09-03T13:37:58.700Z"
   },
   {
    "duration": 706,
    "start_time": "2023-09-03T13:38:03.856Z"
   },
   {
    "duration": 3595,
    "start_time": "2023-09-03T13:38:58.827Z"
   },
   {
    "duration": 188,
    "start_time": "2023-09-03T13:50:56.830Z"
   },
   {
    "duration": 135,
    "start_time": "2023-09-03T13:51:08.129Z"
   },
   {
    "duration": 143,
    "start_time": "2023-09-03T13:51:24.208Z"
   },
   {
    "duration": 137,
    "start_time": "2023-09-03T13:51:46.426Z"
   },
   {
    "duration": 124,
    "start_time": "2023-09-03T13:51:56.734Z"
   },
   {
    "duration": 798,
    "start_time": "2023-09-03T13:53:41.126Z"
   },
   {
    "duration": 3,
    "start_time": "2023-09-03T13:53:41.927Z"
   },
   {
    "duration": 12,
    "start_time": "2023-09-03T13:53:41.932Z"
   },
   {
    "duration": 12445,
    "start_time": "2023-09-03T13:53:41.946Z"
   },
   {
    "duration": 42,
    "start_time": "2023-09-03T13:53:54.394Z"
   },
   {
    "duration": 15,
    "start_time": "2023-09-03T13:53:54.437Z"
   },
   {
    "duration": 30,
    "start_time": "2023-09-03T13:53:54.454Z"
   },
   {
    "duration": 13,
    "start_time": "2023-09-03T13:53:54.486Z"
   },
   {
    "duration": 256,
    "start_time": "2023-09-03T13:53:54.501Z"
   },
   {
    "duration": 153,
    "start_time": "2023-09-03T13:53:54.759Z"
   },
   {
    "duration": 505,
    "start_time": "2023-09-03T13:53:54.913Z"
   },
   {
    "duration": 3,
    "start_time": "2023-09-03T14:05:43.173Z"
   },
   {
    "duration": 4678,
    "start_time": "2023-09-03T14:06:09.931Z"
   },
   {
    "duration": 235,
    "start_time": "2023-09-03T14:07:04.785Z"
   },
   {
    "duration": 208,
    "start_time": "2023-09-03T14:07:41.749Z"
   },
   {
    "duration": 225,
    "start_time": "2023-09-03T14:08:08.700Z"
   },
   {
    "duration": 223,
    "start_time": "2023-09-03T14:08:28.003Z"
   },
   {
    "duration": 268,
    "start_time": "2023-09-03T14:09:40.728Z"
   },
   {
    "duration": 237,
    "start_time": "2023-09-03T14:10:05.234Z"
   },
   {
    "duration": 225,
    "start_time": "2023-09-03T14:28:04.477Z"
   },
   {
    "duration": 230,
    "start_time": "2023-09-03T14:28:32.398Z"
   },
   {
    "duration": 127,
    "start_time": "2023-09-03T14:29:36.924Z"
   },
   {
    "duration": 1345,
    "start_time": "2023-09-03T14:29:43.514Z"
   },
   {
    "duration": 4351,
    "start_time": "2023-09-03T14:30:32.882Z"
   },
   {
    "duration": 4327,
    "start_time": "2023-09-03T14:30:52.217Z"
   },
   {
    "duration": 133,
    "start_time": "2023-09-03T14:32:04.426Z"
   },
   {
    "duration": 237,
    "start_time": "2023-09-03T14:32:12.247Z"
   },
   {
    "duration": 125,
    "start_time": "2023-09-03T14:33:11.298Z"
   },
   {
    "duration": 4439,
    "start_time": "2023-09-03T14:33:17.180Z"
   },
   {
    "duration": 9255,
    "start_time": "2023-09-03T14:33:38.164Z"
   },
   {
    "duration": 9932,
    "start_time": "2023-09-03T14:34:04.229Z"
   },
   {
    "duration": 10090,
    "start_time": "2023-09-03T14:34:51.853Z"
   },
   {
    "duration": 157,
    "start_time": "2023-09-03T14:44:50.893Z"
   },
   {
    "duration": 127,
    "start_time": "2023-09-03T14:45:12.589Z"
   },
   {
    "duration": 121,
    "start_time": "2023-09-03T14:45:21.791Z"
   },
   {
    "duration": 136,
    "start_time": "2023-09-03T14:45:37.883Z"
   },
   {
    "duration": 135,
    "start_time": "2023-09-03T14:46:57.641Z"
   },
   {
    "duration": 146,
    "start_time": "2023-09-03T14:47:11.686Z"
   },
   {
    "duration": 142,
    "start_time": "2023-09-03T14:47:19.341Z"
   },
   {
    "duration": 934,
    "start_time": "2023-09-03T14:47:33.909Z"
   },
   {
    "duration": 1171,
    "start_time": "2023-09-03T14:48:32.135Z"
   },
   {
    "duration": 1364,
    "start_time": "2023-09-03T14:49:11.605Z"
   },
   {
    "duration": 1181,
    "start_time": "2023-09-03T14:49:44.037Z"
   },
   {
    "duration": 133,
    "start_time": "2023-09-03T14:51:01.421Z"
   },
   {
    "duration": 1446,
    "start_time": "2023-09-03T14:51:18.160Z"
   },
   {
    "duration": 1414,
    "start_time": "2023-09-03T14:52:01.406Z"
   },
   {
    "duration": 126,
    "start_time": "2023-09-03T14:54:01.707Z"
   },
   {
    "duration": 1418,
    "start_time": "2023-09-03T14:54:19.190Z"
   },
   {
    "duration": 3420,
    "start_time": "2023-09-03T14:54:45.905Z"
   },
   {
    "duration": 131,
    "start_time": "2023-09-03T14:59:27.878Z"
   },
   {
    "duration": 10223,
    "start_time": "2023-09-03T15:00:08.405Z"
   },
   {
    "duration": 10465,
    "start_time": "2023-09-03T15:01:30.643Z"
   },
   {
    "duration": 11043,
    "start_time": "2023-09-03T15:02:18.645Z"
   },
   {
    "duration": 870,
    "start_time": "2023-09-03T16:39:27.583Z"
   },
   {
    "duration": 3,
    "start_time": "2023-09-03T16:39:30.007Z"
   },
   {
    "duration": 2,
    "start_time": "2023-09-03T16:39:32.610Z"
   },
   {
    "duration": 12141,
    "start_time": "2023-09-03T16:39:35.921Z"
   },
   {
    "duration": 75,
    "start_time": "2023-09-03T16:39:50.950Z"
   },
   {
    "duration": 14,
    "start_time": "2023-09-03T16:39:53.595Z"
   },
   {
    "duration": 75,
    "start_time": "2023-09-03T16:40:26.916Z"
   },
   {
    "duration": 12,
    "start_time": "2023-09-03T16:40:35.099Z"
   },
   {
    "duration": 3599,
    "start_time": "2023-09-03T16:40:58.512Z"
   },
   {
    "duration": 222,
    "start_time": "2023-09-03T16:41:06.225Z"
   },
   {
    "duration": 15874,
    "start_time": "2023-09-03T16:41:33.933Z"
   },
   {
    "duration": 2525,
    "start_time": "2023-09-03T16:42:11.947Z"
   },
   {
    "duration": 10988,
    "start_time": "2023-09-03T16:42:49.424Z"
   },
   {
    "duration": 9,
    "start_time": "2023-09-03T16:43:16.838Z"
   },
   {
    "duration": 11,
    "start_time": "2023-09-03T16:44:02.054Z"
   },
   {
    "duration": 231,
    "start_time": "2023-09-03T16:44:21.824Z"
   },
   {
    "duration": 133,
    "start_time": "2023-09-03T16:44:25.891Z"
   },
   {
    "duration": 9580,
    "start_time": "2023-09-03T16:44:48.896Z"
   },
   {
    "duration": 550,
    "start_time": "2023-09-03T16:45:23.324Z"
   },
   {
    "duration": 911,
    "start_time": "2023-09-03T16:56:00.669Z"
   },
   {
    "duration": 7,
    "start_time": "2023-09-03T16:56:01.591Z"
   },
   {
    "duration": 33,
    "start_time": "2023-09-03T16:56:01.600Z"
   },
   {
    "duration": 15585,
    "start_time": "2023-09-03T16:56:01.635Z"
   },
   {
    "duration": 92,
    "start_time": "2023-09-03T16:56:17.223Z"
   },
   {
    "duration": 4169,
    "start_time": "2023-09-03T16:56:17.317Z"
   },
   {
    "duration": 251,
    "start_time": "2023-09-03T16:56:21.491Z"
   },
   {
    "duration": 16518,
    "start_time": "2023-09-03T16:56:21.744Z"
   },
   {
    "duration": 0,
    "start_time": "2023-09-03T16:56:38.265Z"
   },
   {
    "duration": 0,
    "start_time": "2023-09-03T16:56:38.266Z"
   },
   {
    "duration": 0,
    "start_time": "2023-09-03T16:56:38.268Z"
   },
   {
    "duration": 0,
    "start_time": "2023-09-03T16:56:38.269Z"
   },
   {
    "duration": 0,
    "start_time": "2023-09-03T16:56:38.271Z"
   },
   {
    "duration": 0,
    "start_time": "2023-09-03T16:56:38.272Z"
   },
   {
    "duration": 0,
    "start_time": "2023-09-03T16:56:38.276Z"
   },
   {
    "duration": 0,
    "start_time": "2023-09-03T16:56:38.278Z"
   },
   {
    "duration": 901,
    "start_time": "2023-09-03T16:57:37.521Z"
   },
   {
    "duration": 3,
    "start_time": "2023-09-03T16:57:38.424Z"
   },
   {
    "duration": 5,
    "start_time": "2023-09-03T16:57:38.428Z"
   },
   {
    "duration": 16280,
    "start_time": "2023-09-03T16:57:38.435Z"
   },
   {
    "duration": 88,
    "start_time": "2023-09-03T16:57:54.717Z"
   },
   {
    "duration": 15,
    "start_time": "2023-09-03T16:57:54.807Z"
   },
   {
    "duration": 24,
    "start_time": "2023-09-03T16:57:54.823Z"
   },
   {
    "duration": 43,
    "start_time": "2023-09-03T16:57:54.849Z"
   },
   {
    "duration": 253,
    "start_time": "2023-09-03T16:57:54.894Z"
   },
   {
    "duration": 160,
    "start_time": "2023-09-03T16:57:55.150Z"
   },
   {
    "duration": 15050,
    "start_time": "2023-09-03T16:57:55.312Z"
   },
   {
    "duration": 527,
    "start_time": "2023-09-03T16:58:10.364Z"
   },
   {
    "duration": 209,
    "start_time": "2023-09-03T17:02:12.197Z"
   },
   {
    "duration": 9967,
    "start_time": "2023-09-03T17:02:19.763Z"
   },
   {
    "duration": 11534,
    "start_time": "2023-09-03T17:04:56.185Z"
   },
   {
    "duration": 228,
    "start_time": "2023-09-03T17:05:35.955Z"
   },
   {
    "duration": 10911,
    "start_time": "2023-09-03T17:07:42.671Z"
   },
   {
    "duration": 211,
    "start_time": "2023-09-03T17:07:53.584Z"
   },
   {
    "duration": 207,
    "start_time": "2023-09-03T17:08:30.377Z"
   },
   {
    "duration": 497,
    "start_time": "2023-09-03T17:09:14.266Z"
   },
   {
    "duration": 18,
    "start_time": "2023-09-03T17:09:50.814Z"
   },
   {
    "duration": 19,
    "start_time": "2023-09-03T17:12:11.288Z"
   },
   {
    "duration": 18,
    "start_time": "2023-09-03T17:12:28.610Z"
   },
   {
    "duration": 1765,
    "start_time": "2023-09-03T17:14:05.320Z"
   },
   {
    "duration": 9,
    "start_time": "2023-09-03T17:14:12.626Z"
   },
   {
    "duration": 10,
    "start_time": "2023-09-03T17:15:36.212Z"
   },
   {
    "duration": 5,
    "start_time": "2023-09-03T17:15:54.182Z"
   },
   {
    "duration": 9,
    "start_time": "2023-09-03T17:16:05.610Z"
   },
   {
    "duration": 4,
    "start_time": "2023-09-03T17:17:07.159Z"
   },
   {
    "duration": 192,
    "start_time": "2023-09-03T17:17:17.027Z"
   },
   {
    "duration": 190,
    "start_time": "2023-09-03T17:18:07.930Z"
   },
   {
    "duration": 56,
    "start_time": "2023-09-03T17:18:15.912Z"
   },
   {
    "duration": 11,
    "start_time": "2023-09-03T17:18:43.522Z"
   },
   {
    "duration": 3,
    "start_time": "2023-09-03T17:18:56.432Z"
   },
   {
    "duration": 4,
    "start_time": "2023-09-03T17:18:56.437Z"
   },
   {
    "duration": 10,
    "start_time": "2023-09-03T17:18:56.442Z"
   },
   {
    "duration": 7,
    "start_time": "2023-09-03T17:18:56.454Z"
   },
   {
    "duration": 59,
    "start_time": "2023-09-03T17:18:56.463Z"
   },
   {
    "duration": 12,
    "start_time": "2023-09-03T17:18:56.524Z"
   },
   {
    "duration": 21,
    "start_time": "2023-09-03T17:18:56.537Z"
   },
   {
    "duration": 13,
    "start_time": "2023-09-03T17:18:56.560Z"
   },
   {
    "duration": 248,
    "start_time": "2023-09-03T17:18:56.575Z"
   },
   {
    "duration": 131,
    "start_time": "2023-09-03T17:18:56.825Z"
   },
   {
    "duration": 9943,
    "start_time": "2023-09-03T17:18:56.958Z"
   },
   {
    "duration": 567,
    "start_time": "2023-09-03T17:19:06.903Z"
   },
   {
    "duration": 12163,
    "start_time": "2023-09-03T17:19:07.472Z"
   },
   {
    "duration": 186,
    "start_time": "2023-09-03T17:19:19.637Z"
   },
   {
    "duration": 197,
    "start_time": "2023-09-03T17:19:19.825Z"
   },
   {
    "duration": 443,
    "start_time": "2023-09-03T17:19:20.024Z"
   },
   {
    "duration": 18,
    "start_time": "2023-09-03T17:19:20.468Z"
   },
   {
    "duration": 33,
    "start_time": "2023-09-03T17:19:20.487Z"
   },
   {
    "duration": 35,
    "start_time": "2023-09-03T17:19:20.521Z"
   },
   {
    "duration": 31,
    "start_time": "2023-09-03T17:19:20.557Z"
   },
   {
    "duration": 25,
    "start_time": "2023-09-03T17:19:20.589Z"
   },
   {
    "duration": 16,
    "start_time": "2023-09-03T17:19:20.615Z"
   },
   {
    "duration": 201,
    "start_time": "2023-09-03T17:19:23.290Z"
   },
   {
    "duration": 238,
    "start_time": "2023-09-03T17:19:31.709Z"
   },
   {
    "duration": 197,
    "start_time": "2023-09-03T17:19:36.701Z"
   },
   {
    "duration": 33,
    "start_time": "2023-09-03T17:22:03.350Z"
   },
   {
    "duration": 8,
    "start_time": "2023-09-03T17:24:58.826Z"
   },
   {
    "duration": 59,
    "start_time": "2023-09-03T17:25:07.102Z"
   },
   {
    "duration": 32,
    "start_time": "2023-09-03T17:25:09.165Z"
   },
   {
    "duration": 3,
    "start_time": "2023-09-03T17:26:15.103Z"
   },
   {
    "duration": 8,
    "start_time": "2023-09-03T17:26:15.875Z"
   },
   {
    "duration": 3,
    "start_time": "2023-09-03T17:26:35.587Z"
   },
   {
    "duration": 9,
    "start_time": "2023-09-03T17:26:35.591Z"
   },
   {
    "duration": 7,
    "start_time": "2023-09-03T17:26:35.602Z"
   },
   {
    "duration": 21,
    "start_time": "2023-09-03T17:26:35.611Z"
   },
   {
    "duration": 73,
    "start_time": "2023-09-03T17:26:35.634Z"
   },
   {
    "duration": 11,
    "start_time": "2023-09-03T17:26:35.709Z"
   },
   {
    "duration": 26,
    "start_time": "2023-09-03T17:26:35.721Z"
   },
   {
    "duration": 19,
    "start_time": "2023-09-03T17:26:35.748Z"
   },
   {
    "duration": 239,
    "start_time": "2023-09-03T17:26:35.770Z"
   },
   {
    "duration": 130,
    "start_time": "2023-09-03T17:26:36.011Z"
   },
   {
    "duration": 9489,
    "start_time": "2023-09-03T17:26:36.143Z"
   },
   {
    "duration": 545,
    "start_time": "2023-09-03T17:26:45.634Z"
   },
   {
    "duration": 11532,
    "start_time": "2023-09-03T17:26:46.180Z"
   },
   {
    "duration": 227,
    "start_time": "2023-09-03T17:26:57.714Z"
   },
   {
    "duration": 220,
    "start_time": "2023-09-03T17:26:57.945Z"
   },
   {
    "duration": 517,
    "start_time": "2023-09-03T17:26:58.167Z"
   },
   {
    "duration": 22,
    "start_time": "2023-09-03T17:26:58.686Z"
   },
   {
    "duration": 27,
    "start_time": "2023-09-03T17:26:58.710Z"
   },
   {
    "duration": 16,
    "start_time": "2023-09-03T17:26:58.744Z"
   },
   {
    "duration": 9,
    "start_time": "2023-09-03T17:26:58.761Z"
   },
   {
    "duration": 7,
    "start_time": "2023-09-03T17:26:58.771Z"
   },
   {
    "duration": 4,
    "start_time": "2023-09-03T17:26:58.779Z"
   },
   {
    "duration": 282,
    "start_time": "2023-09-03T17:26:58.785Z"
   },
   {
    "duration": 186,
    "start_time": "2023-09-03T17:26:59.069Z"
   },
   {
    "duration": 96,
    "start_time": "2023-09-03T17:26:59.260Z"
   },
   {
    "duration": 4,
    "start_time": "2023-09-03T17:26:59.360Z"
   },
   {
    "duration": 24,
    "start_time": "2023-09-03T17:26:59.366Z"
   },
   {
    "duration": 2,
    "start_time": "2023-09-03T17:27:15.971Z"
   },
   {
    "duration": 7,
    "start_time": "2023-09-03T17:27:16.435Z"
   },
   {
    "duration": 8,
    "start_time": "2023-09-03T17:27:45.012Z"
   },
   {
    "duration": 8,
    "start_time": "2023-09-03T17:27:45.395Z"
   },
   {
    "duration": 3,
    "start_time": "2023-09-03T17:27:48.390Z"
   },
   {
    "duration": 5,
    "start_time": "2023-09-03T17:27:48.395Z"
   },
   {
    "duration": 6,
    "start_time": "2023-09-03T17:27:48.402Z"
   },
   {
    "duration": 6,
    "start_time": "2023-09-03T17:27:48.409Z"
   },
   {
    "duration": 81,
    "start_time": "2023-09-03T17:27:48.417Z"
   },
   {
    "duration": 10,
    "start_time": "2023-09-03T17:27:48.500Z"
   },
   {
    "duration": 19,
    "start_time": "2023-09-03T17:27:48.512Z"
   },
   {
    "duration": 11,
    "start_time": "2023-09-03T17:27:48.533Z"
   },
   {
    "duration": 235,
    "start_time": "2023-09-03T17:27:48.546Z"
   },
   {
    "duration": 115,
    "start_time": "2023-09-03T17:27:48.783Z"
   },
   {
    "duration": 9771,
    "start_time": "2023-09-03T17:27:48.900Z"
   },
   {
    "duration": 548,
    "start_time": "2023-09-03T17:27:58.673Z"
   },
   {
    "duration": 10739,
    "start_time": "2023-09-03T17:27:59.223Z"
   },
   {
    "duration": 199,
    "start_time": "2023-09-03T17:28:09.964Z"
   },
   {
    "duration": 201,
    "start_time": "2023-09-03T17:28:10.165Z"
   },
   {
    "duration": 401,
    "start_time": "2023-09-03T17:28:10.368Z"
   },
   {
    "duration": 19,
    "start_time": "2023-09-03T17:28:10.771Z"
   },
   {
    "duration": 20,
    "start_time": "2023-09-03T17:28:10.791Z"
   },
   {
    "duration": 9,
    "start_time": "2023-09-03T17:28:10.812Z"
   },
   {
    "duration": 29,
    "start_time": "2023-09-03T17:28:10.822Z"
   },
   {
    "duration": 6,
    "start_time": "2023-09-03T17:28:10.853Z"
   },
   {
    "duration": 4,
    "start_time": "2023-09-03T17:28:10.860Z"
   },
   {
    "duration": 254,
    "start_time": "2023-09-03T17:28:10.866Z"
   },
   {
    "duration": 177,
    "start_time": "2023-09-03T17:28:11.122Z"
   },
   {
    "duration": 69,
    "start_time": "2023-09-03T17:28:11.301Z"
   },
   {
    "duration": 3,
    "start_time": "2023-09-03T17:28:11.371Z"
   },
   {
    "duration": 20,
    "start_time": "2023-09-03T17:28:11.377Z"
   },
   {
    "duration": 163,
    "start_time": "2023-09-03T17:29:07.093Z"
   },
   {
    "duration": 808,
    "start_time": "2023-09-03T17:30:25.670Z"
   },
   {
    "duration": 2,
    "start_time": "2023-09-03T17:30:50.024Z"
   },
   {
    "duration": 37,
    "start_time": "2023-09-03T17:31:41.999Z"
   },
   {
    "duration": 10,
    "start_time": "2023-09-03T17:34:38.247Z"
   },
   {
    "duration": 104,
    "start_time": "2023-09-03T17:34:47.870Z"
   },
   {
    "duration": 59,
    "start_time": "2023-09-03T17:35:53.278Z"
   },
   {
    "duration": 8,
    "start_time": "2023-09-03T17:37:04.098Z"
   },
   {
    "duration": 3,
    "start_time": "2023-09-03T17:37:34.456Z"
   },
   {
    "duration": 3,
    "start_time": "2023-09-03T17:38:08.055Z"
   },
   {
    "duration": 1026,
    "start_time": "2023-09-03T17:39:04.347Z"
   },
   {
    "duration": 3,
    "start_time": "2023-09-03T17:39:19.135Z"
   },
   {
    "duration": 29,
    "start_time": "2023-09-03T17:40:11.292Z"
   },
   {
    "duration": 42,
    "start_time": "2023-09-03T17:48:38.888Z"
   },
   {
    "duration": 38,
    "start_time": "2023-09-03T17:52:24.792Z"
   },
   {
    "duration": 255,
    "start_time": "2023-09-03T17:52:35.146Z"
   },
   {
    "duration": 5,
    "start_time": "2023-09-03T17:52:45.097Z"
   },
   {
    "duration": 666,
    "start_time": "2023-09-03T17:52:50.804Z"
   },
   {
    "duration": 3,
    "start_time": "2023-09-03T17:52:51.472Z"
   },
   {
    "duration": 2427,
    "start_time": "2023-09-03T17:52:54.958Z"
   },
   {
    "duration": 4,
    "start_time": "2023-09-03T17:52:57.388Z"
   },
   {
    "duration": 17,
    "start_time": "2023-09-03T17:54:33.351Z"
   },
   {
    "duration": 10,
    "start_time": "2023-09-03T17:54:54.794Z"
   },
   {
    "duration": 11,
    "start_time": "2023-09-03T17:54:59.016Z"
   },
   {
    "duration": 17,
    "start_time": "2023-09-03T17:55:06.820Z"
   },
   {
    "duration": 15,
    "start_time": "2023-09-03T17:55:30.813Z"
   },
   {
    "duration": 16,
    "start_time": "2023-09-03T17:55:36.879Z"
   },
   {
    "duration": 11,
    "start_time": "2023-09-03T17:55:47.093Z"
   },
   {
    "duration": 720,
    "start_time": "2023-09-03T17:56:13.407Z"
   },
   {
    "duration": 6,
    "start_time": "2023-09-03T17:56:14.185Z"
   },
   {
    "duration": 11,
    "start_time": "2023-09-03T17:56:30.085Z"
   },
   {
    "duration": 3,
    "start_time": "2023-09-03T17:56:45.744Z"
   },
   {
    "duration": 794,
    "start_time": "2023-09-03T17:57:00.224Z"
   },
   {
    "duration": 4,
    "start_time": "2023-09-03T17:57:01.020Z"
   },
   {
    "duration": 13,
    "start_time": "2023-09-03T18:02:24.123Z"
   },
   {
    "duration": 14,
    "start_time": "2023-09-03T18:02:51.327Z"
   },
   {
    "duration": 101,
    "start_time": "2023-09-03T18:02:57.667Z"
   },
   {
    "duration": 96,
    "start_time": "2023-09-03T18:03:05.369Z"
   },
   {
    "duration": 3422,
    "start_time": "2023-09-03T18:03:33.979Z"
   },
   {
    "duration": 4,
    "start_time": "2023-09-03T18:03:45.514Z"
   },
   {
    "duration": 3150,
    "start_time": "2023-09-03T18:04:11.129Z"
   },
   {
    "duration": 4,
    "start_time": "2023-09-03T18:04:18.636Z"
   },
   {
    "duration": 3533,
    "start_time": "2023-09-03T18:04:22.881Z"
   },
   {
    "duration": 5,
    "start_time": "2023-09-03T18:04:27.176Z"
   },
   {
    "duration": 25,
    "start_time": "2023-09-03T18:11:29.007Z"
   },
   {
    "duration": 146,
    "start_time": "2023-09-03T18:12:47.428Z"
   },
   {
    "duration": 358735,
    "start_time": "2023-09-03T18:15:10.336Z"
   },
   {
    "duration": 11724,
    "start_time": "2023-09-03T18:21:28.095Z"
   },
   {
    "duration": 1714,
    "start_time": "2023-09-03T18:21:58.177Z"
   },
   {
    "duration": 3,
    "start_time": "2023-09-03T18:21:59.897Z"
   },
   {
    "duration": 6,
    "start_time": "2023-09-03T18:21:59.901Z"
   },
   {
    "duration": 16649,
    "start_time": "2023-09-03T18:21:59.909Z"
   },
   {
    "duration": 75,
    "start_time": "2023-09-03T18:22:16.561Z"
   },
   {
    "duration": 13,
    "start_time": "2023-09-03T18:22:16.638Z"
   },
   {
    "duration": 47,
    "start_time": "2023-09-03T18:22:16.660Z"
   },
   {
    "duration": 14,
    "start_time": "2023-09-03T18:22:16.708Z"
   },
   {
    "duration": 268,
    "start_time": "2023-09-03T18:22:16.723Z"
   },
   {
    "duration": 141,
    "start_time": "2023-09-03T18:22:16.993Z"
   },
   {
    "duration": 9660,
    "start_time": "2023-09-03T18:22:17.136Z"
   },
   {
    "duration": 540,
    "start_time": "2023-09-03T18:22:26.798Z"
   },
   {
    "duration": 10891,
    "start_time": "2023-09-03T18:22:27.340Z"
   },
   {
    "duration": 245,
    "start_time": "2023-09-03T18:22:38.235Z"
   },
   {
    "duration": 225,
    "start_time": "2023-09-03T18:22:38.482Z"
   },
   {
    "duration": 454,
    "start_time": "2023-09-03T18:22:38.709Z"
   },
   {
    "duration": 27,
    "start_time": "2023-09-03T18:22:39.164Z"
   },
   {
    "duration": 25,
    "start_time": "2023-09-03T18:22:39.192Z"
   },
   {
    "duration": 17,
    "start_time": "2023-09-03T18:22:39.219Z"
   },
   {
    "duration": 30,
    "start_time": "2023-09-03T18:22:39.237Z"
   },
   {
    "duration": 23,
    "start_time": "2023-09-03T18:22:39.268Z"
   },
   {
    "duration": 6,
    "start_time": "2023-09-03T18:22:39.294Z"
   },
   {
    "duration": 285,
    "start_time": "2023-09-03T18:22:39.302Z"
   },
   {
    "duration": 198,
    "start_time": "2023-09-03T18:22:39.589Z"
   },
   {
    "duration": 78,
    "start_time": "2023-09-03T18:22:39.789Z"
   },
   {
    "duration": 10,
    "start_time": "2023-09-03T18:22:39.875Z"
   },
   {
    "duration": 21,
    "start_time": "2023-09-03T18:22:39.891Z"
   },
   {
    "duration": 58,
    "start_time": "2023-09-03T18:22:39.914Z"
   },
   {
    "duration": 116,
    "start_time": "2023-09-03T18:22:39.974Z"
   },
   {
    "duration": 58,
    "start_time": "2023-09-03T18:22:40.092Z"
   },
   {
    "duration": 11,
    "start_time": "2023-09-03T18:22:40.152Z"
   },
   {
    "duration": 5,
    "start_time": "2023-09-03T18:22:40.169Z"
   },
   {
    "duration": 1264,
    "start_time": "2023-09-03T18:22:40.175Z"
   },
   {
    "duration": 17,
    "start_time": "2023-09-03T18:22:41.441Z"
   },
   {
    "duration": 41,
    "start_time": "2023-09-03T18:22:41.460Z"
   },
   {
    "duration": 834,
    "start_time": "2023-09-03T18:22:41.503Z"
   },
   {
    "duration": 26,
    "start_time": "2023-09-03T18:22:42.339Z"
   },
   {
    "duration": 3561,
    "start_time": "2023-09-03T18:22:42.366Z"
   },
   {
    "duration": 4,
    "start_time": "2023-09-03T18:22:45.929Z"
   },
   {
    "duration": 179965,
    "start_time": "2023-09-03T18:22:45.934Z"
   },
   {
    "duration": 48,
    "start_time": "2023-09-03T18:25:45.903Z"
   },
   {
    "duration": 22,
    "start_time": "2023-09-03T18:27:36.105Z"
   },
   {
    "duration": 47,
    "start_time": "2023-09-03T18:30:11.250Z"
   },
   {
    "duration": 17670,
    "start_time": "2023-09-03T18:32:07.493Z"
   },
   {
    "duration": 14724,
    "start_time": "2023-09-03T18:32:37.456Z"
   },
   {
    "duration": 1884,
    "start_time": "2023-09-04T09:34:42.901Z"
   },
   {
    "duration": 4,
    "start_time": "2023-09-04T09:46:04.677Z"
   },
   {
    "duration": 3,
    "start_time": "2023-09-04T09:46:06.384Z"
   },
   {
    "duration": 3,
    "start_time": "2023-09-04T09:46:07.344Z"
   },
   {
    "duration": 11806,
    "start_time": "2023-09-04T09:46:08.581Z"
   },
   {
    "duration": 229,
    "start_time": "2023-09-04T09:46:26.037Z"
   },
   {
    "duration": 3,
    "start_time": "2023-09-04T09:55:40.141Z"
   },
   {
    "duration": 3,
    "start_time": "2023-09-04T09:55:41.330Z"
   },
   {
    "duration": 3,
    "start_time": "2023-09-04T09:55:42.134Z"
   },
   {
    "duration": 3,
    "start_time": "2023-09-04T09:55:42.763Z"
   },
   {
    "duration": 220,
    "start_time": "2023-09-04T09:55:45.842Z"
   },
   {
    "duration": 43,
    "start_time": "2023-09-04T09:55:49.209Z"
   },
   {
    "duration": 52,
    "start_time": "2023-09-04T09:55:55.370Z"
   },
   {
    "duration": 45,
    "start_time": "2023-09-04T09:56:00.022Z"
   },
   {
    "duration": 277,
    "start_time": "2023-09-04T10:05:34.981Z"
   },
   {
    "duration": 238,
    "start_time": "2023-09-04T10:05:45.632Z"
   },
   {
    "duration": 10026,
    "start_time": "2023-09-04T10:37:10.173Z"
   },
   {
    "duration": 5658,
    "start_time": "2023-09-04T10:38:03.069Z"
   },
   {
    "duration": 7998,
    "start_time": "2023-09-04T10:38:29.044Z"
   },
   {
    "duration": 8387,
    "start_time": "2023-09-04T12:45:26.906Z"
   },
   {
    "duration": 3873,
    "start_time": "2023-09-04T12:46:10.498Z"
   },
   {
    "duration": 2770,
    "start_time": "2023-09-04T12:49:49.086Z"
   },
   {
    "duration": 3631,
    "start_time": "2023-09-04T12:50:18.100Z"
   },
   {
    "duration": 330,
    "start_time": "2023-09-04T12:50:39.406Z"
   },
   {
    "duration": 4032,
    "start_time": "2023-09-04T12:51:36.450Z"
   },
   {
    "duration": 4498,
    "start_time": "2023-09-04T12:52:02.351Z"
   },
   {
    "duration": 198,
    "start_time": "2023-09-04T12:53:53.265Z"
   },
   {
    "duration": 214,
    "start_time": "2023-09-04T12:54:06.913Z"
   },
   {
    "duration": 8824,
    "start_time": "2023-09-04T12:54:16.174Z"
   },
   {
    "duration": 184,
    "start_time": "2023-09-04T12:54:44.853Z"
   },
   {
    "duration": 8662,
    "start_time": "2023-09-04T12:54:57.339Z"
   },
   {
    "duration": 6435,
    "start_time": "2023-09-04T12:55:32.117Z"
   },
   {
    "duration": 160,
    "start_time": "2023-09-04T12:57:27.264Z"
   },
   {
    "duration": 172,
    "start_time": "2023-09-04T12:57:32.223Z"
   },
   {
    "duration": 207,
    "start_time": "2023-09-04T12:57:40.400Z"
   },
   {
    "duration": 9434,
    "start_time": "2023-09-04T12:57:50.303Z"
   },
   {
    "duration": 172,
    "start_time": "2023-09-04T12:58:19.436Z"
   },
   {
    "duration": 7100,
    "start_time": "2023-09-04T12:58:24.624Z"
   },
   {
    "duration": 10692,
    "start_time": "2023-09-04T12:59:13.511Z"
   },
   {
    "duration": 11600,
    "start_time": "2023-09-04T12:59:31.064Z"
   },
   {
    "duration": 7975,
    "start_time": "2023-09-04T12:59:53.526Z"
   },
   {
    "duration": 157,
    "start_time": "2023-09-04T13:00:38.310Z"
   },
   {
    "duration": 5153,
    "start_time": "2023-09-04T13:00:50.165Z"
   },
   {
    "duration": 140,
    "start_time": "2023-09-04T13:01:11.057Z"
   },
   {
    "duration": 572,
    "start_time": "2023-09-04T13:01:25.830Z"
   },
   {
    "duration": 4753,
    "start_time": "2023-09-04T13:04:37.357Z"
   },
   {
    "duration": 153,
    "start_time": "2023-09-04T13:06:08.606Z"
   },
   {
    "duration": 4315,
    "start_time": "2023-09-04T13:06:23.588Z"
   },
   {
    "duration": 2212,
    "start_time": "2023-09-04T13:07:25.094Z"
   },
   {
    "duration": 147,
    "start_time": "2023-09-04T13:08:05.940Z"
   },
   {
    "duration": 2099,
    "start_time": "2023-09-04T13:08:10.456Z"
   },
   {
    "duration": 143,
    "start_time": "2023-09-04T13:08:42.187Z"
   },
   {
    "duration": 134,
    "start_time": "2023-09-04T13:08:49.573Z"
   },
   {
    "duration": 5789,
    "start_time": "2023-09-04T13:08:59.787Z"
   },
   {
    "duration": 1055,
    "start_time": "2023-09-04T13:12:35.793Z"
   },
   {
    "duration": 3031,
    "start_time": "2023-09-04T13:13:09.149Z"
   },
   {
    "duration": 2362,
    "start_time": "2023-09-04T13:13:43.724Z"
   },
   {
    "duration": 145,
    "start_time": "2023-09-04T13:14:18.227Z"
   },
   {
    "duration": 137,
    "start_time": "2023-09-04T13:14:25.394Z"
   },
   {
    "duration": 171,
    "start_time": "2023-09-04T13:14:40.313Z"
   },
   {
    "duration": 553,
    "start_time": "2023-09-04T13:14:55.699Z"
   },
   {
    "duration": 228,
    "start_time": "2023-09-04T13:17:06.791Z"
   },
   {
    "duration": 5628,
    "start_time": "2023-09-04T13:17:14.214Z"
   },
   {
    "duration": 5363,
    "start_time": "2023-09-04T13:17:45.913Z"
   },
   {
    "duration": 5307,
    "start_time": "2023-09-04T13:21:14.596Z"
   },
   {
    "duration": 187,
    "start_time": "2023-09-04T13:24:02.733Z"
   },
   {
    "duration": 2930,
    "start_time": "2023-09-04T13:24:17.896Z"
   },
   {
    "duration": 3761,
    "start_time": "2023-09-04T13:25:53.999Z"
   },
   {
    "duration": 3645,
    "start_time": "2023-09-04T13:26:29.740Z"
   },
   {
    "duration": 5871,
    "start_time": "2023-09-04T13:27:10.214Z"
   },
   {
    "duration": 5455,
    "start_time": "2023-09-04T13:30:13.826Z"
   },
   {
    "duration": 6241,
    "start_time": "2023-09-04T13:30:55.443Z"
   },
   {
    "duration": 5114,
    "start_time": "2023-09-04T13:31:20.441Z"
   },
   {
    "duration": 170,
    "start_time": "2023-09-04T13:32:02.080Z"
   },
   {
    "duration": 5154,
    "start_time": "2023-09-04T13:32:09.510Z"
   },
   {
    "duration": 5641,
    "start_time": "2023-09-04T13:33:01.844Z"
   },
   {
    "duration": 61,
    "start_time": "2023-09-04T13:37:34.715Z"
   },
   {
    "duration": 1694,
    "start_time": "2023-09-04T13:37:41.122Z"
   },
   {
    "duration": 4,
    "start_time": "2023-09-04T13:37:42.818Z"
   },
   {
    "duration": 27,
    "start_time": "2023-09-04T13:37:42.824Z"
   },
   {
    "duration": 12447,
    "start_time": "2023-09-04T13:37:42.853Z"
   },
   {
    "duration": 252,
    "start_time": "2023-09-04T13:37:55.302Z"
   },
   {
    "duration": 45,
    "start_time": "2023-09-04T13:37:55.556Z"
   },
   {
    "duration": 51,
    "start_time": "2023-09-04T13:37:55.603Z"
   },
   {
    "duration": 46,
    "start_time": "2023-09-04T13:37:55.656Z"
   },
   {
    "duration": 264,
    "start_time": "2023-09-04T13:37:55.703Z"
   },
   {
    "duration": 226,
    "start_time": "2023-09-04T13:37:55.970Z"
   },
   {
    "duration": 5627,
    "start_time": "2023-09-04T13:38:03.777Z"
   },
   {
    "duration": 3848,
    "start_time": "2023-09-04T13:40:04.994Z"
   },
   {
    "duration": 6664,
    "start_time": "2023-09-04T13:40:42.236Z"
   },
   {
    "duration": 566,
    "start_time": "2023-09-04T13:41:35.195Z"
   },
   {
    "duration": 1437,
    "start_time": "2023-09-04T13:41:54.480Z"
   },
   {
    "duration": 578,
    "start_time": "2023-09-04T13:42:36.434Z"
   },
   {
    "duration": 570,
    "start_time": "2023-09-04T13:42:57.395Z"
   },
   {
    "duration": 3197,
    "start_time": "2023-09-04T13:43:12.509Z"
   },
   {
    "duration": 622,
    "start_time": "2023-09-04T13:44:01.695Z"
   },
   {
    "duration": 629,
    "start_time": "2023-09-04T13:47:25.825Z"
   },
   {
    "duration": 592,
    "start_time": "2023-09-04T13:47:38.866Z"
   },
   {
    "duration": 580,
    "start_time": "2023-09-04T13:47:53.494Z"
   },
   {
    "duration": 618,
    "start_time": "2023-09-04T13:48:05.273Z"
   },
   {
    "duration": 244,
    "start_time": "2023-09-04T13:49:28.654Z"
   },
   {
    "duration": 582,
    "start_time": "2023-09-04T13:49:33.104Z"
   },
   {
    "duration": 609,
    "start_time": "2023-09-04T13:49:52.393Z"
   },
   {
    "duration": 196,
    "start_time": "2023-09-04T13:50:04.298Z"
   },
   {
    "duration": 599,
    "start_time": "2023-09-04T13:50:07.078Z"
   },
   {
    "duration": 600,
    "start_time": "2023-09-04T13:50:12.094Z"
   },
   {
    "duration": 606,
    "start_time": "2023-09-04T13:51:31.655Z"
   },
   {
    "duration": 597,
    "start_time": "2023-09-04T13:52:37.304Z"
   },
   {
    "duration": 577,
    "start_time": "2023-09-04T13:52:54.424Z"
   },
   {
    "duration": 534,
    "start_time": "2023-09-04T13:53:22.494Z"
   },
   {
    "duration": 198,
    "start_time": "2023-09-04T13:53:37.179Z"
   },
   {
    "duration": 636,
    "start_time": "2023-09-04T13:53:46.298Z"
   },
   {
    "duration": 174,
    "start_time": "2023-09-04T13:56:46.808Z"
   },
   {
    "duration": 571,
    "start_time": "2023-09-04T13:57:05.060Z"
   },
   {
    "duration": 559,
    "start_time": "2023-09-04T13:58:40.088Z"
   },
   {
    "duration": 608,
    "start_time": "2023-09-04T13:59:50.346Z"
   },
   {
    "duration": 605,
    "start_time": "2023-09-04T14:00:08.127Z"
   },
   {
    "duration": 607,
    "start_time": "2023-09-04T14:00:15.442Z"
   },
   {
    "duration": 604,
    "start_time": "2023-09-04T14:00:22.949Z"
   },
   {
    "duration": 612,
    "start_time": "2023-09-04T14:00:41.018Z"
   },
   {
    "duration": 601,
    "start_time": "2023-09-04T14:00:58.314Z"
   },
   {
    "duration": 138,
    "start_time": "2023-09-04T14:01:08.430Z"
   },
   {
    "duration": 1369,
    "start_time": "2023-09-04T14:01:29.006Z"
   },
   {
    "duration": 625,
    "start_time": "2023-09-04T14:02:00.512Z"
   },
   {
    "duration": 585,
    "start_time": "2023-09-04T14:03:27.774Z"
   },
   {
    "duration": 3694,
    "start_time": "2023-09-04T14:05:25.968Z"
   },
   {
    "duration": 560,
    "start_time": "2023-09-04T14:07:11.674Z"
   },
   {
    "duration": 41,
    "start_time": "2023-09-04T14:07:37.318Z"
   },
   {
    "duration": 610,
    "start_time": "2023-09-04T14:07:48.965Z"
   },
   {
    "duration": 583,
    "start_time": "2023-09-04T14:10:33.335Z"
   },
   {
    "duration": 579,
    "start_time": "2023-09-04T14:10:40.585Z"
   },
   {
    "duration": 15,
    "start_time": "2023-09-04T14:13:09.505Z"
   },
   {
    "duration": 27,
    "start_time": "2023-09-04T14:13:34.770Z"
   },
   {
    "duration": 239,
    "start_time": "2023-09-04T14:13:41.122Z"
   },
   {
    "duration": 241,
    "start_time": "2023-09-04T14:14:10.560Z"
   },
   {
    "duration": 219,
    "start_time": "2023-09-04T14:14:48.648Z"
   },
   {
    "duration": 602,
    "start_time": "2023-09-04T14:15:22.592Z"
   },
   {
    "duration": 599,
    "start_time": "2023-09-04T14:17:39.362Z"
   },
   {
    "duration": 166,
    "start_time": "2023-09-04T14:20:22.537Z"
   },
   {
    "duration": 617,
    "start_time": "2023-09-04T14:20:29.273Z"
   },
   {
    "duration": 589,
    "start_time": "2023-09-04T14:21:22.096Z"
   },
   {
    "duration": 586,
    "start_time": "2023-09-04T14:23:36.275Z"
   },
   {
    "duration": 3110,
    "start_time": "2023-09-04T14:23:59.719Z"
   },
   {
    "duration": 574,
    "start_time": "2023-09-04T14:24:26.057Z"
   },
   {
    "duration": 3150,
    "start_time": "2023-09-04T14:24:46.028Z"
   },
   {
    "duration": 186,
    "start_time": "2023-09-04T14:25:06.011Z"
   },
   {
    "duration": 199,
    "start_time": "2023-09-04T14:32:37.287Z"
   },
   {
    "duration": 191,
    "start_time": "2023-09-04T14:41:31.359Z"
   },
   {
    "duration": 142,
    "start_time": "2023-09-04T15:05:28.005Z"
   },
   {
    "duration": 15,
    "start_time": "2023-09-04T15:05:44.350Z"
   },
   {
    "duration": 1825,
    "start_time": "2023-09-04T15:06:03.481Z"
   },
   {
    "duration": 14,
    "start_time": "2023-09-04T15:06:25.510Z"
   },
   {
    "duration": 5,
    "start_time": "2023-09-04T15:06:42.978Z"
   },
   {
    "duration": 40,
    "start_time": "2023-09-04T15:06:42.985Z"
   },
   {
    "duration": 23,
    "start_time": "2023-09-04T15:06:43.028Z"
   },
   {
    "duration": 41,
    "start_time": "2023-09-04T15:06:43.053Z"
   },
   {
    "duration": 237,
    "start_time": "2023-09-04T15:06:43.097Z"
   },
   {
    "duration": 45,
    "start_time": "2023-09-04T15:06:43.336Z"
   },
   {
    "duration": 54,
    "start_time": "2023-09-04T15:06:43.383Z"
   },
   {
    "duration": 46,
    "start_time": "2023-09-04T15:06:43.439Z"
   },
   {
    "duration": 267,
    "start_time": "2023-09-04T15:06:43.486Z"
   },
   {
    "duration": 138,
    "start_time": "2023-09-04T15:06:43.754Z"
   },
   {
    "duration": 568,
    "start_time": "2023-09-04T15:06:43.894Z"
   },
   {
    "duration": 193,
    "start_time": "2023-09-04T15:06:44.464Z"
   },
   {
    "duration": 2937,
    "start_time": "2023-09-04T15:06:44.658Z"
   },
   {
    "duration": 16,
    "start_time": "2023-09-04T15:06:52.791Z"
   },
   {
    "duration": 4,
    "start_time": "2023-09-04T15:07:00.995Z"
   },
   {
    "duration": 588,
    "start_time": "2023-09-04T15:07:26.421Z"
   },
   {
    "duration": 218,
    "start_time": "2023-09-04T15:07:33.762Z"
   },
   {
    "duration": 572,
    "start_time": "2023-09-04T15:08:04.304Z"
   },
   {
    "duration": 224,
    "start_time": "2023-09-04T15:09:42.589Z"
   },
   {
    "duration": 258,
    "start_time": "2023-09-04T15:11:03.030Z"
   },
   {
    "duration": 258,
    "start_time": "2023-09-04T15:11:07.244Z"
   },
   {
    "duration": 154,
    "start_time": "2023-09-04T15:11:13.363Z"
   },
   {
    "duration": 6,
    "start_time": "2023-09-04T15:52:15.546Z"
   },
   {
    "duration": 8,
    "start_time": "2023-09-04T15:52:15.554Z"
   },
   {
    "duration": 6,
    "start_time": "2023-09-04T15:52:15.564Z"
   },
   {
    "duration": 13,
    "start_time": "2023-09-04T15:52:15.571Z"
   },
   {
    "duration": 233,
    "start_time": "2023-09-04T15:52:15.586Z"
   },
   {
    "duration": 42,
    "start_time": "2023-09-04T15:52:15.821Z"
   },
   {
    "duration": 54,
    "start_time": "2023-09-04T15:52:15.865Z"
   },
   {
    "duration": 44,
    "start_time": "2023-09-04T15:52:15.921Z"
   },
   {
    "duration": 266,
    "start_time": "2023-09-04T15:52:15.967Z"
   },
   {
    "duration": 151,
    "start_time": "2023-09-04T15:52:16.234Z"
   },
   {
    "duration": 558,
    "start_time": "2023-09-04T15:52:16.387Z"
   },
   {
    "duration": 184,
    "start_time": "2023-09-04T15:52:16.947Z"
   },
   {
    "duration": 2981,
    "start_time": "2023-09-04T15:52:17.133Z"
   },
   {
    "duration": 201,
    "start_time": "2023-09-04T15:52:20.117Z"
   },
   {
    "duration": 12294,
    "start_time": "2023-09-04T15:55:18.160Z"
   },
   {
    "duration": 257,
    "start_time": "2023-09-04T15:58:37.739Z"
   },
   {
    "duration": 249,
    "start_time": "2023-09-04T15:58:40.740Z"
   },
   {
    "duration": 503,
    "start_time": "2023-09-04T15:58:43.308Z"
   },
   {
    "duration": 23,
    "start_time": "2023-09-04T15:58:48.341Z"
   },
   {
    "duration": 26,
    "start_time": "2023-09-04T15:58:51.205Z"
   },
   {
    "duration": 11,
    "start_time": "2023-09-04T16:00:11.019Z"
   },
   {
    "duration": 11,
    "start_time": "2023-09-04T16:00:13.540Z"
   },
   {
    "duration": 7,
    "start_time": "2023-09-04T16:03:41.985Z"
   },
   {
    "duration": 4,
    "start_time": "2023-09-04T16:03:44.082Z"
   },
   {
    "duration": 319,
    "start_time": "2023-09-04T16:07:11.766Z"
   },
   {
    "duration": 250,
    "start_time": "2023-09-04T16:07:13.279Z"
   },
   {
    "duration": 81,
    "start_time": "2023-09-04T16:07:58.026Z"
   },
   {
    "duration": 4,
    "start_time": "2023-09-04T16:07:58.786Z"
   },
   {
    "duration": 27,
    "start_time": "2023-09-04T16:08:01.486Z"
   },
   {
    "duration": 60,
    "start_time": "2023-09-04T16:08:36.813Z"
   },
   {
    "duration": 4,
    "start_time": "2023-09-04T16:08:49.339Z"
   },
   {
    "duration": 10829,
    "start_time": "2023-09-04T16:24:43.067Z"
   },
   {
    "duration": 209,
    "start_time": "2023-09-04T16:24:59.265Z"
   },
   {
    "duration": 201,
    "start_time": "2023-09-04T16:25:05.228Z"
   },
   {
    "duration": 428,
    "start_time": "2023-09-04T16:25:09.456Z"
   },
   {
    "duration": 21,
    "start_time": "2023-09-04T16:25:14.426Z"
   },
   {
    "duration": 22,
    "start_time": "2023-09-04T16:25:15.288Z"
   },
   {
    "duration": 11,
    "start_time": "2023-09-04T16:25:16.244Z"
   },
   {
    "duration": 11,
    "start_time": "2023-09-04T16:25:17.004Z"
   },
   {
    "duration": 6,
    "start_time": "2023-09-04T16:25:18.543Z"
   },
   {
    "duration": 4,
    "start_time": "2023-09-04T16:25:19.065Z"
   },
   {
    "duration": 249,
    "start_time": "2023-09-04T16:25:20.062Z"
   },
   {
    "duration": 199,
    "start_time": "2023-09-04T16:25:20.803Z"
   },
   {
    "duration": 67,
    "start_time": "2023-09-04T16:25:25.618Z"
   },
   {
    "duration": 4,
    "start_time": "2023-09-04T16:25:26.300Z"
   },
   {
    "duration": 20,
    "start_time": "2023-09-04T16:25:27.121Z"
   },
   {
    "duration": 81,
    "start_time": "2023-09-04T16:25:33.060Z"
   },
   {
    "duration": 5,
    "start_time": "2023-09-04T16:25:34.081Z"
   },
   {
    "duration": 13,
    "start_time": "2023-09-04T16:30:47.100Z"
   },
   {
    "duration": 11,
    "start_time": "2023-09-04T16:30:50.141Z"
   },
   {
    "duration": 157,
    "start_time": "2023-09-04T16:30:52.857Z"
   },
   {
    "duration": 13,
    "start_time": "2023-09-04T16:30:57.262Z"
   },
   {
    "duration": 15,
    "start_time": "2023-09-04T16:30:59.858Z"
   },
   {
    "duration": 200,
    "start_time": "2023-09-04T16:31:37.981Z"
   },
   {
    "duration": 4,
    "start_time": "2023-09-04T16:32:03.084Z"
   },
   {
    "duration": 4,
    "start_time": "2023-09-04T16:33:05.735Z"
   },
   {
    "duration": 112,
    "start_time": "2023-09-04T16:34:06.898Z"
   },
   {
    "duration": 60,
    "start_time": "2023-09-04T16:34:08.368Z"
   },
   {
    "duration": 5,
    "start_time": "2023-09-04T16:34:10.538Z"
   },
   {
    "duration": 2,
    "start_time": "2023-09-04T16:35:16.174Z"
   },
   {
    "duration": 7,
    "start_time": "2023-09-04T16:38:53.455Z"
   },
   {
    "duration": 15,
    "start_time": "2023-09-04T16:41:43.706Z"
   },
   {
    "duration": 853,
    "start_time": "2023-09-04T16:41:54.820Z"
   },
   {
    "duration": 821,
    "start_time": "2023-09-04T16:42:27.484Z"
   },
   {
    "duration": 3,
    "start_time": "2023-09-04T16:42:59.451Z"
   },
   {
    "duration": 1074,
    "start_time": "2023-09-04T16:43:04.712Z"
   },
   {
    "duration": 3,
    "start_time": "2023-09-04T16:44:44.880Z"
   },
   {
    "duration": 1605,
    "start_time": "2023-09-04T16:45:12.127Z"
   },
   {
    "duration": 5,
    "start_time": "2023-09-04T16:46:04.535Z"
   },
   {
    "duration": 43,
    "start_time": "2023-09-04T16:46:04.542Z"
   },
   {
    "duration": 50,
    "start_time": "2023-09-04T16:46:04.587Z"
   },
   {
    "duration": 34,
    "start_time": "2023-09-04T16:46:04.640Z"
   },
   {
    "duration": 249,
    "start_time": "2023-09-04T16:46:04.676Z"
   },
   {
    "duration": 44,
    "start_time": "2023-09-04T16:46:04.927Z"
   },
   {
    "duration": 60,
    "start_time": "2023-09-04T16:46:04.973Z"
   },
   {
    "duration": 60,
    "start_time": "2023-09-04T16:46:05.035Z"
   },
   {
    "duration": 271,
    "start_time": "2023-09-04T16:46:05.099Z"
   },
   {
    "duration": 150,
    "start_time": "2023-09-04T16:46:05.372Z"
   },
   {
    "duration": 589,
    "start_time": "2023-09-04T16:46:05.524Z"
   },
   {
    "duration": 225,
    "start_time": "2023-09-04T16:46:06.115Z"
   },
   {
    "duration": 548,
    "start_time": "2023-09-04T16:46:06.343Z"
   },
   {
    "duration": 266,
    "start_time": "2023-09-04T16:46:06.893Z"
   },
   {
    "duration": 8335,
    "start_time": "2023-09-04T16:46:07.161Z"
   },
   {
    "duration": 219,
    "start_time": "2023-09-04T16:46:15.497Z"
   },
   {
    "duration": 223,
    "start_time": "2023-09-04T16:46:15.718Z"
   },
   {
    "duration": 461,
    "start_time": "2023-09-04T16:46:15.943Z"
   },
   {
    "duration": 22,
    "start_time": "2023-09-04T16:46:16.406Z"
   },
   {
    "duration": 28,
    "start_time": "2023-09-04T16:46:16.430Z"
   },
   {
    "duration": 31,
    "start_time": "2023-09-04T16:46:16.460Z"
   },
   {
    "duration": 20,
    "start_time": "2023-09-04T16:46:16.493Z"
   },
   {
    "duration": 12,
    "start_time": "2023-09-04T16:46:16.515Z"
   },
   {
    "duration": 5,
    "start_time": "2023-09-04T16:46:16.531Z"
   },
   {
    "duration": 318,
    "start_time": "2023-09-04T16:46:16.539Z"
   },
   {
    "duration": 208,
    "start_time": "2023-09-04T16:46:16.859Z"
   },
   {
    "duration": 147,
    "start_time": "2023-09-04T16:46:17.083Z"
   },
   {
    "duration": 6,
    "start_time": "2023-09-04T16:46:17.233Z"
   },
   {
    "duration": 45,
    "start_time": "2023-09-04T16:46:17.241Z"
   },
   {
    "duration": 97,
    "start_time": "2023-09-04T16:46:17.289Z"
   },
   {
    "duration": 21,
    "start_time": "2023-09-04T16:46:17.389Z"
   },
   {
    "duration": 231,
    "start_time": "2023-09-04T16:46:17.412Z"
   },
   {
    "duration": 69,
    "start_time": "2023-09-04T16:46:17.645Z"
   },
   {
    "duration": 5,
    "start_time": "2023-09-04T16:46:17.716Z"
   },
   {
    "duration": 6,
    "start_time": "2023-09-04T16:46:17.723Z"
   },
   {
    "duration": 2645,
    "start_time": "2023-09-04T16:46:17.730Z"
   },
   {
    "duration": 5,
    "start_time": "2023-09-04T16:46:56.192Z"
   },
   {
    "duration": 12,
    "start_time": "2023-09-04T16:46:56.199Z"
   },
   {
    "duration": 19,
    "start_time": "2023-09-04T16:46:56.212Z"
   },
   {
    "duration": 14,
    "start_time": "2023-09-04T16:46:56.233Z"
   },
   {
    "duration": 231,
    "start_time": "2023-09-04T16:46:56.249Z"
   },
   {
    "duration": 44,
    "start_time": "2023-09-04T16:46:56.481Z"
   },
   {
    "duration": 52,
    "start_time": "2023-09-04T16:46:56.527Z"
   },
   {
    "duration": 46,
    "start_time": "2023-09-04T16:46:56.581Z"
   },
   {
    "duration": 278,
    "start_time": "2023-09-04T16:46:56.631Z"
   },
   {
    "duration": 179,
    "start_time": "2023-09-04T16:46:56.911Z"
   },
   {
    "duration": 609,
    "start_time": "2023-09-04T16:46:57.093Z"
   },
   {
    "duration": 185,
    "start_time": "2023-09-04T16:46:57.704Z"
   },
   {
    "duration": 572,
    "start_time": "2023-09-04T16:46:57.891Z"
   },
   {
    "duration": 220,
    "start_time": "2023-09-04T16:46:58.465Z"
   },
   {
    "duration": 6975,
    "start_time": "2023-09-04T16:46:58.687Z"
   },
   {
    "duration": 202,
    "start_time": "2023-09-04T16:47:05.664Z"
   },
   {
    "duration": 203,
    "start_time": "2023-09-04T16:47:05.868Z"
   },
   {
    "duration": 416,
    "start_time": "2023-09-04T16:47:06.073Z"
   },
   {
    "duration": 22,
    "start_time": "2023-09-04T16:47:06.491Z"
   },
   {
    "duration": 35,
    "start_time": "2023-09-04T16:47:06.515Z"
   },
   {
    "duration": 22,
    "start_time": "2023-09-04T16:47:06.552Z"
   },
   {
    "duration": 16,
    "start_time": "2023-09-04T16:47:06.583Z"
   },
   {
    "duration": 14,
    "start_time": "2023-09-04T16:47:06.601Z"
   },
   {
    "duration": 4,
    "start_time": "2023-09-04T16:47:06.621Z"
   },
   {
    "duration": 300,
    "start_time": "2023-09-04T16:47:06.628Z"
   },
   {
    "duration": 194,
    "start_time": "2023-09-04T16:47:06.930Z"
   },
   {
    "duration": 87,
    "start_time": "2023-09-04T16:47:07.126Z"
   },
   {
    "duration": 6,
    "start_time": "2023-09-04T16:47:07.215Z"
   },
   {
    "duration": 37,
    "start_time": "2023-09-04T16:47:07.226Z"
   },
   {
    "duration": 75,
    "start_time": "2023-09-04T16:47:07.268Z"
   },
   {
    "duration": 3,
    "start_time": "2023-09-04T16:47:07.345Z"
   },
   {
    "duration": 114,
    "start_time": "2023-09-04T16:47:07.350Z"
   },
   {
    "duration": 64,
    "start_time": "2023-09-04T16:47:07.466Z"
   },
   {
    "duration": 5,
    "start_time": "2023-09-04T16:47:07.532Z"
   },
   {
    "duration": 14,
    "start_time": "2023-09-04T16:47:07.539Z"
   },
   {
    "duration": 2284,
    "start_time": "2023-09-04T16:47:07.555Z"
   },
   {
    "duration": 24,
    "start_time": "2023-09-04T16:47:20.417Z"
   },
   {
    "duration": 3,
    "start_time": "2023-09-04T16:47:57.662Z"
   },
   {
    "duration": 36,
    "start_time": "2023-09-04T16:47:58.459Z"
   },
   {
    "duration": 10,
    "start_time": "2023-09-04T16:48:11.803Z"
   },
   {
    "duration": 6,
    "start_time": "2023-09-04T16:48:15.984Z"
   },
   {
    "duration": 803,
    "start_time": "2023-09-04T16:51:43.045Z"
   },
   {
    "duration": 5,
    "start_time": "2023-09-04T16:51:46.988Z"
   },
   {
    "duration": 729,
    "start_time": "2023-09-04T16:52:31.221Z"
   },
   {
    "duration": 5,
    "start_time": "2023-09-04T16:52:33.568Z"
   },
   {
    "duration": 3867,
    "start_time": "2023-09-04T16:53:58.535Z"
   },
   {
    "duration": 5,
    "start_time": "2023-09-04T16:54:04.273Z"
   },
   {
    "duration": 6772,
    "start_time": "2023-09-04T17:01:42.122Z"
   },
   {
    "duration": 6,
    "start_time": "2023-09-04T17:01:50.057Z"
   },
   {
    "duration": 9404,
    "start_time": "2023-09-04T17:03:06.073Z"
   },
   {
    "duration": 4,
    "start_time": "2023-09-04T17:03:18.277Z"
   },
   {
    "duration": 2923,
    "start_time": "2023-09-04T17:03:40.846Z"
   },
   {
    "duration": 5,
    "start_time": "2023-09-04T17:03:43.771Z"
   },
   {
    "duration": 9036,
    "start_time": "2023-09-04T17:03:50.118Z"
   },
   {
    "duration": 4,
    "start_time": "2023-09-04T17:03:59.156Z"
   },
   {
    "duration": 4525,
    "start_time": "2023-09-04T17:04:07.172Z"
   },
   {
    "duration": 82,
    "start_time": "2023-09-04T17:04:11.699Z"
   },
   {
    "duration": 57835,
    "start_time": "2023-09-04T17:05:13.359Z"
   },
   {
    "duration": 5,
    "start_time": "2023-09-04T17:06:19.024Z"
   },
   {
    "duration": 227163,
    "start_time": "2023-09-04T17:06:29.030Z"
   },
   {
    "duration": 5,
    "start_time": "2023-09-04T17:10:16.195Z"
   },
   {
    "duration": 97848,
    "start_time": "2023-09-04T17:13:45.260Z"
   },
   {
    "duration": 5,
    "start_time": "2023-09-04T17:16:41.497Z"
   },
   {
    "duration": 14,
    "start_time": "2023-09-04T17:18:16.629Z"
   },
   {
    "duration": 4,
    "start_time": "2023-09-04T17:18:44.616Z"
   },
   {
    "duration": 3,
    "start_time": "2023-09-04T17:19:24.435Z"
   },
   {
    "duration": 21,
    "start_time": "2023-09-04T17:23:49.426Z"
   },
   {
    "duration": 1187,
    "start_time": "2023-09-04T17:24:10.860Z"
   },
   {
    "duration": 10298,
    "start_time": "2023-09-04T17:24:22.039Z"
   },
   {
    "duration": 4,
    "start_time": "2023-09-04T17:25:12.902Z"
   },
   {
    "duration": 14069,
    "start_time": "2023-09-04T17:25:46.344Z"
   },
   {
    "duration": 93909,
    "start_time": "2023-09-04T17:26:14.565Z"
   },
   {
    "duration": 4,
    "start_time": "2023-09-04T17:27:48.477Z"
   },
   {
    "duration": 10,
    "start_time": "2023-09-04T17:30:33.769Z"
   },
   {
    "duration": 12,
    "start_time": "2023-09-04T17:37:44.723Z"
   },
   {
    "duration": 107,
    "start_time": "2023-09-04T17:37:50.503Z"
   },
   {
    "duration": 105,
    "start_time": "2023-09-04T17:38:12.609Z"
   },
   {
    "duration": 101,
    "start_time": "2023-09-04T17:38:23.764Z"
   },
   {
    "duration": 5,
    "start_time": "2023-09-04T18:29:34.576Z"
   },
   {
    "duration": 5,
    "start_time": "2023-09-04T18:30:01.025Z"
   },
   {
    "duration": 23,
    "start_time": "2023-09-04T18:32:24.984Z"
   },
   {
    "duration": 21,
    "start_time": "2023-09-04T18:35:53.029Z"
   },
   {
    "duration": 20,
    "start_time": "2023-09-04T18:36:11.811Z"
   },
   {
    "duration": 20,
    "start_time": "2023-09-04T18:36:24.336Z"
   },
   {
    "duration": 1734,
    "start_time": "2023-09-04T18:37:01.832Z"
   },
   {
    "duration": 4,
    "start_time": "2023-09-04T18:37:03.568Z"
   },
   {
    "duration": 26,
    "start_time": "2023-09-04T18:37:03.573Z"
   },
   {
    "duration": 10357,
    "start_time": "2023-09-04T18:37:03.601Z"
   },
   {
    "duration": 235,
    "start_time": "2023-09-04T18:37:13.960Z"
   },
   {
    "duration": 44,
    "start_time": "2023-09-04T18:37:14.197Z"
   },
   {
    "duration": 62,
    "start_time": "2023-09-04T18:37:14.243Z"
   },
   {
    "duration": 46,
    "start_time": "2023-09-04T18:37:14.307Z"
   },
   {
    "duration": 275,
    "start_time": "2023-09-04T18:37:14.355Z"
   },
   {
    "duration": 171,
    "start_time": "2023-09-04T18:37:14.633Z"
   },
   {
    "duration": 568,
    "start_time": "2023-09-04T18:37:14.806Z"
   },
   {
    "duration": 208,
    "start_time": "2023-09-04T18:37:15.376Z"
   },
   {
    "duration": 688,
    "start_time": "2023-09-04T18:37:15.586Z"
   },
   {
    "duration": 242,
    "start_time": "2023-09-04T18:37:16.276Z"
   },
   {
    "duration": 8605,
    "start_time": "2023-09-04T18:37:16.519Z"
   },
   {
    "duration": 229,
    "start_time": "2023-09-04T18:37:25.126Z"
   },
   {
    "duration": 231,
    "start_time": "2023-09-04T18:37:25.356Z"
   },
   {
    "duration": 482,
    "start_time": "2023-09-04T18:37:25.589Z"
   },
   {
    "duration": 27,
    "start_time": "2023-09-04T18:37:26.073Z"
   },
   {
    "duration": 24,
    "start_time": "2023-09-04T18:37:26.102Z"
   },
   {
    "duration": 21,
    "start_time": "2023-09-04T18:37:26.128Z"
   },
   {
    "duration": 22,
    "start_time": "2023-09-04T18:37:26.151Z"
   },
   {
    "duration": 24,
    "start_time": "2023-09-04T18:37:26.175Z"
   },
   {
    "duration": 12,
    "start_time": "2023-09-04T18:37:26.201Z"
   },
   {
    "duration": 300,
    "start_time": "2023-09-04T18:37:26.215Z"
   },
   {
    "duration": 218,
    "start_time": "2023-09-04T18:37:26.517Z"
   },
   {
    "duration": 87,
    "start_time": "2023-09-04T18:37:26.737Z"
   },
   {
    "duration": 11,
    "start_time": "2023-09-04T18:37:26.828Z"
   },
   {
    "duration": 44,
    "start_time": "2023-09-04T18:37:26.841Z"
   },
   {
    "duration": 69,
    "start_time": "2023-09-04T18:37:26.887Z"
   },
   {
    "duration": 5,
    "start_time": "2023-09-04T18:37:26.958Z"
   },
   {
    "duration": 22,
    "start_time": "2023-09-04T18:37:26.965Z"
   },
   {
    "duration": 142,
    "start_time": "2023-09-04T18:37:26.989Z"
   },
   {
    "duration": 64,
    "start_time": "2023-09-04T18:37:27.132Z"
   },
   {
    "duration": 7,
    "start_time": "2023-09-04T18:37:27.198Z"
   },
   {
    "duration": 17,
    "start_time": "2023-09-04T18:37:27.207Z"
   },
   {
    "duration": 2543,
    "start_time": "2023-09-04T18:37:27.225Z"
   },
   {
    "duration": 3,
    "start_time": "2023-09-04T18:37:29.769Z"
   },
   {
    "duration": 54,
    "start_time": "2023-09-04T18:37:29.773Z"
   },
   {
    "duration": 124,
    "start_time": "2023-09-04T18:37:29.829Z"
   },
   {
    "duration": 3066,
    "start_time": "2023-09-04T18:37:29.954Z"
   },
   {
    "duration": 6,
    "start_time": "2023-09-04T18:37:33.022Z"
   },
   {
    "duration": 9498,
    "start_time": "2023-09-04T18:37:33.029Z"
   },
   {
    "duration": 4,
    "start_time": "2023-09-04T18:37:42.529Z"
   },
   {
    "duration": 813194,
    "start_time": "2023-09-04T18:37:42.534Z"
   },
   {
    "duration": 4,
    "start_time": "2023-09-04T18:51:15.730Z"
   },
   {
    "duration": 1708,
    "start_time": "2023-09-04T18:51:27.898Z"
   },
   {
    "duration": 3,
    "start_time": "2023-09-04T18:51:29.608Z"
   },
   {
    "duration": 7,
    "start_time": "2023-09-04T18:51:29.613Z"
   },
   {
    "duration": 10344,
    "start_time": "2023-09-04T18:51:29.622Z"
   },
   {
    "duration": 260,
    "start_time": "2023-09-04T18:51:39.969Z"
   },
   {
    "duration": 43,
    "start_time": "2023-09-04T18:51:40.230Z"
   },
   {
    "duration": 56,
    "start_time": "2023-09-04T18:51:40.274Z"
   },
   {
    "duration": 45,
    "start_time": "2023-09-04T18:51:40.332Z"
   },
   {
    "duration": 266,
    "start_time": "2023-09-04T18:51:40.378Z"
   },
   {
    "duration": 163,
    "start_time": "2023-09-04T18:51:40.649Z"
   },
   {
    "duration": 531,
    "start_time": "2023-09-04T18:51:40.814Z"
   },
   {
    "duration": 203,
    "start_time": "2023-09-04T18:51:41.346Z"
   },
   {
    "duration": 576,
    "start_time": "2023-09-04T18:51:41.551Z"
   },
   {
    "duration": 228,
    "start_time": "2023-09-04T18:51:42.129Z"
   },
   {
    "duration": 11663,
    "start_time": "2023-09-04T18:51:42.359Z"
   },
   {
    "duration": 225,
    "start_time": "2023-09-04T18:51:54.024Z"
   },
   {
    "duration": 235,
    "start_time": "2023-09-04T18:51:54.252Z"
   },
   {
    "duration": 444,
    "start_time": "2023-09-04T18:51:54.488Z"
   },
   {
    "duration": 20,
    "start_time": "2023-09-04T18:51:54.934Z"
   },
   {
    "duration": 40,
    "start_time": "2023-09-04T18:51:54.956Z"
   },
   {
    "duration": 11,
    "start_time": "2023-09-04T18:51:54.998Z"
   },
   {
    "duration": 13,
    "start_time": "2023-09-04T18:51:55.011Z"
   },
   {
    "duration": 11,
    "start_time": "2023-09-04T18:51:55.025Z"
   },
   {
    "duration": 4,
    "start_time": "2023-09-04T18:51:55.038Z"
   },
   {
    "duration": 308,
    "start_time": "2023-09-04T18:51:55.044Z"
   },
   {
    "duration": 220,
    "start_time": "2023-09-04T18:51:55.353Z"
   },
   {
    "duration": 82,
    "start_time": "2023-09-04T18:51:55.574Z"
   },
   {
    "duration": 10,
    "start_time": "2023-09-04T18:51:55.659Z"
   },
   {
    "duration": 27,
    "start_time": "2023-09-04T18:51:55.670Z"
   },
   {
    "duration": 56,
    "start_time": "2023-09-04T18:51:55.698Z"
   },
   {
    "duration": 4,
    "start_time": "2023-09-04T18:51:55.756Z"
   },
   {
    "duration": 8,
    "start_time": "2023-09-04T18:51:55.762Z"
   },
   {
    "duration": 123,
    "start_time": "2023-09-04T18:51:55.772Z"
   },
   {
    "duration": 60,
    "start_time": "2023-09-04T18:51:55.897Z"
   },
   {
    "duration": 4,
    "start_time": "2023-09-04T18:51:55.959Z"
   },
   {
    "duration": 23,
    "start_time": "2023-09-04T18:51:55.965Z"
   },
   {
    "duration": 2532,
    "start_time": "2023-09-04T18:51:55.990Z"
   },
   {
    "duration": 3,
    "start_time": "2023-09-04T18:51:58.523Z"
   },
   {
    "duration": 50,
    "start_time": "2023-09-04T18:51:58.528Z"
   },
   {
    "duration": 124,
    "start_time": "2023-09-04T18:51:58.580Z"
   },
   {
    "duration": 3116,
    "start_time": "2023-09-04T18:51:58.706Z"
   },
   {
    "duration": 5,
    "start_time": "2023-09-04T18:52:01.824Z"
   },
   {
    "duration": 9280,
    "start_time": "2023-09-04T18:52:01.831Z"
   },
   {
    "duration": 4,
    "start_time": "2023-09-04T18:52:11.113Z"
   },
   {
    "duration": 493646,
    "start_time": "2023-09-04T18:52:11.119Z"
   },
   {
    "duration": 4,
    "start_time": "2023-09-04T19:00:24.767Z"
   },
   {
    "duration": 1779,
    "start_time": "2023-09-04T19:01:58.237Z"
   },
   {
    "duration": 3,
    "start_time": "2023-09-04T19:02:00.020Z"
   },
   {
    "duration": 75,
    "start_time": "2023-09-04T19:02:00.025Z"
   },
   {
    "duration": 11561,
    "start_time": "2023-09-04T19:02:00.103Z"
   },
   {
    "duration": 273,
    "start_time": "2023-09-04T19:02:11.666Z"
   },
   {
    "duration": 48,
    "start_time": "2023-09-04T19:02:11.942Z"
   },
   {
    "duration": 61,
    "start_time": "2023-09-04T19:02:11.999Z"
   },
   {
    "duration": 58,
    "start_time": "2023-09-04T19:02:12.064Z"
   },
   {
    "duration": 279,
    "start_time": "2023-09-04T19:02:12.124Z"
   },
   {
    "duration": 151,
    "start_time": "2023-09-04T19:02:12.406Z"
   },
   {
    "duration": 575,
    "start_time": "2023-09-04T19:02:12.558Z"
   },
   {
    "duration": 218,
    "start_time": "2023-09-04T19:02:13.134Z"
   },
   {
    "duration": 567,
    "start_time": "2023-09-04T19:02:13.353Z"
   },
   {
    "duration": 224,
    "start_time": "2023-09-04T19:02:13.921Z"
   },
   {
    "duration": 9213,
    "start_time": "2023-09-04T19:02:14.146Z"
   },
   {
    "duration": 237,
    "start_time": "2023-09-04T19:02:23.361Z"
   },
   {
    "duration": 218,
    "start_time": "2023-09-04T19:02:23.600Z"
   },
   {
    "duration": 483,
    "start_time": "2023-09-04T19:02:23.820Z"
   },
   {
    "duration": 20,
    "start_time": "2023-09-04T19:02:24.306Z"
   },
   {
    "duration": 28,
    "start_time": "2023-09-04T19:02:24.329Z"
   },
   {
    "duration": 34,
    "start_time": "2023-09-04T19:02:24.358Z"
   },
   {
    "duration": 11,
    "start_time": "2023-09-04T19:02:24.405Z"
   },
   {
    "duration": 19,
    "start_time": "2023-09-04T19:02:24.418Z"
   },
   {
    "duration": 4,
    "start_time": "2023-09-04T19:02:24.439Z"
   },
   {
    "duration": 294,
    "start_time": "2023-09-04T19:02:24.445Z"
   },
   {
    "duration": 209,
    "start_time": "2023-09-04T19:02:24.741Z"
   },
   {
    "duration": 95,
    "start_time": "2023-09-04T19:02:24.952Z"
   },
   {
    "duration": 5,
    "start_time": "2023-09-04T19:02:25.052Z"
   },
   {
    "duration": 46,
    "start_time": "2023-09-04T19:02:25.059Z"
   },
   {
    "duration": 52,
    "start_time": "2023-09-04T19:02:25.107Z"
   },
   {
    "duration": 5,
    "start_time": "2023-09-04T19:02:25.161Z"
   },
   {
    "duration": 7,
    "start_time": "2023-09-04T19:02:25.168Z"
   },
   {
    "duration": 122,
    "start_time": "2023-09-04T19:02:25.182Z"
   },
   {
    "duration": 80,
    "start_time": "2023-09-04T19:02:25.305Z"
   },
   {
    "duration": 8,
    "start_time": "2023-09-04T19:02:25.393Z"
   },
   {
    "duration": 6,
    "start_time": "2023-09-04T19:02:25.403Z"
   },
   {
    "duration": 2737,
    "start_time": "2023-09-04T19:02:25.411Z"
   },
   {
    "duration": 3,
    "start_time": "2023-09-04T19:02:28.149Z"
   },
   {
    "duration": 54,
    "start_time": "2023-09-04T19:02:28.154Z"
   },
   {
    "duration": 124,
    "start_time": "2023-09-04T19:02:28.210Z"
   },
   {
    "duration": 3213,
    "start_time": "2023-09-04T19:02:28.336Z"
   },
   {
    "duration": 5,
    "start_time": "2023-09-04T19:02:31.551Z"
   },
   {
    "duration": 9348,
    "start_time": "2023-09-04T19:02:31.558Z"
   },
   {
    "duration": 4,
    "start_time": "2023-09-04T19:02:40.908Z"
   },
   {
    "duration": 102115,
    "start_time": "2023-09-04T19:02:47.466Z"
   },
   {
    "duration": 4,
    "start_time": "2023-09-04T19:04:29.583Z"
   },
   {
    "duration": 135,
    "start_time": "2023-09-04T19:04:37.820Z"
   },
   {
    "duration": 29,
    "start_time": "2023-09-04T19:05:09.895Z"
   },
   {
    "duration": 25,
    "start_time": "2023-09-04T19:05:18.448Z"
   },
   {
    "duration": 17,
    "start_time": "2023-09-04T19:05:25.323Z"
   },
   {
    "duration": 15,
    "start_time": "2023-09-04T19:05:36.097Z"
   },
   {
    "duration": 29,
    "start_time": "2023-09-04T19:05:59.000Z"
   },
   {
    "duration": 17,
    "start_time": "2023-09-04T19:06:17.539Z"
   },
   {
    "duration": 16,
    "start_time": "2023-09-04T19:12:00.669Z"
   },
   {
    "duration": 309,
    "start_time": "2023-09-04T19:12:33.042Z"
   },
   {
    "duration": 332,
    "start_time": "2023-09-04T19:12:47.020Z"
   },
   {
    "duration": 356,
    "start_time": "2023-09-04T19:13:00.426Z"
   },
   {
    "duration": 303,
    "start_time": "2023-09-04T19:13:31.401Z"
   },
   {
    "duration": 13,
    "start_time": "2023-09-04T19:15:15.383Z"
   },
   {
    "duration": 5,
    "start_time": "2023-09-04T19:15:24.474Z"
   },
   {
    "duration": 138,
    "start_time": "2023-09-04T19:16:05.083Z"
   },
   {
    "duration": 107,
    "start_time": "2023-09-04T19:17:00.378Z"
   },
   {
    "duration": 4,
    "start_time": "2023-09-04T19:17:12.216Z"
   },
   {
    "duration": 8,
    "start_time": "2023-09-04T19:19:03.502Z"
   },
   {
    "duration": 130,
    "start_time": "2023-09-04T19:19:16.838Z"
   },
   {
    "duration": 5,
    "start_time": "2023-09-04T19:19:36.018Z"
   },
   {
    "duration": 157,
    "start_time": "2023-09-04T19:19:36.706Z"
   },
   {
    "duration": 7,
    "start_time": "2023-09-04T19:19:53.265Z"
   },
   {
    "duration": 123,
    "start_time": "2023-09-04T19:19:54.041Z"
   },
   {
    "duration": 128,
    "start_time": "2023-09-04T19:21:08.681Z"
   },
   {
    "duration": 5,
    "start_time": "2023-09-04T19:22:01.503Z"
   },
   {
    "duration": 10,
    "start_time": "2023-09-04T19:22:41.037Z"
   },
   {
    "duration": 426,
    "start_time": "2023-09-04T19:25:43.383Z"
   },
   {
    "duration": 393,
    "start_time": "2023-09-04T19:26:06.229Z"
   },
   {
    "duration": 13,
    "start_time": "2023-09-04T19:26:12.983Z"
   },
   {
    "duration": 96,
    "start_time": "2023-09-04T19:34:53.108Z"
   },
   {
    "duration": 12,
    "start_time": "2023-09-04T19:35:06.386Z"
   },
   {
    "duration": 6,
    "start_time": "2023-09-04T19:37:22.982Z"
   },
   {
    "duration": 14,
    "start_time": "2023-09-04T19:37:46.679Z"
   },
   {
    "duration": 150,
    "start_time": "2023-09-04T19:38:18.026Z"
   },
   {
    "duration": 10,
    "start_time": "2023-09-04T19:44:58.571Z"
   },
   {
    "duration": 24,
    "start_time": "2023-09-04T19:46:03.166Z"
   },
   {
    "duration": 10,
    "start_time": "2023-09-04T19:46:21.374Z"
   },
   {
    "duration": 13,
    "start_time": "2023-09-04T19:59:15.795Z"
   },
   {
    "duration": 1908,
    "start_time": "2023-09-04T20:06:14.527Z"
   },
   {
    "duration": 3,
    "start_time": "2023-09-04T20:06:19.898Z"
   },
   {
    "duration": 7,
    "start_time": "2023-09-04T20:06:21.581Z"
   },
   {
    "duration": 10882,
    "start_time": "2023-09-04T20:06:22.327Z"
   },
   {
    "duration": 255,
    "start_time": "2023-09-04T20:06:35.478Z"
   },
   {
    "duration": 43,
    "start_time": "2023-09-04T20:06:39.111Z"
   },
   {
    "duration": 53,
    "start_time": "2023-09-04T20:06:42.225Z"
   },
   {
    "duration": 44,
    "start_time": "2023-09-04T20:06:45.214Z"
   },
   {
    "duration": 275,
    "start_time": "2023-09-04T20:06:48.875Z"
   },
   {
    "duration": 180,
    "start_time": "2023-09-04T20:06:51.178Z"
   },
   {
    "duration": 590,
    "start_time": "2023-09-04T20:06:55.405Z"
   },
   {
    "duration": 246,
    "start_time": "2023-09-04T20:07:02.358Z"
   },
   {
    "duration": 578,
    "start_time": "2023-09-04T20:07:04.862Z"
   },
   {
    "duration": 244,
    "start_time": "2023-09-04T20:07:08.415Z"
   },
   {
    "duration": 10418,
    "start_time": "2023-09-04T20:07:19.722Z"
   },
   {
    "duration": 234,
    "start_time": "2023-09-04T20:07:39.133Z"
   },
   {
    "duration": 216,
    "start_time": "2023-09-04T20:07:46.154Z"
   },
   {
    "duration": 463,
    "start_time": "2023-09-04T20:07:48.816Z"
   },
   {
    "duration": 20,
    "start_time": "2023-09-04T20:07:51.665Z"
   },
   {
    "duration": 20,
    "start_time": "2023-09-04T20:07:52.266Z"
   },
   {
    "duration": 15,
    "start_time": "2023-09-04T20:07:53.498Z"
   },
   {
    "duration": 10,
    "start_time": "2023-09-04T20:07:54.167Z"
   },
   {
    "duration": 7,
    "start_time": "2023-09-04T20:07:55.396Z"
   },
   {
    "duration": 5,
    "start_time": "2023-09-04T20:07:56.362Z"
   },
   {
    "duration": 265,
    "start_time": "2023-09-04T20:07:57.548Z"
   },
   {
    "duration": 200,
    "start_time": "2023-09-04T20:07:58.552Z"
   },
   {
    "duration": 69,
    "start_time": "2023-09-04T20:08:04.098Z"
   },
   {
    "duration": 3,
    "start_time": "2023-09-04T20:08:04.642Z"
   },
   {
    "duration": 27,
    "start_time": "2023-09-04T20:08:05.180Z"
   },
   {
    "duration": 40,
    "start_time": "2023-09-04T20:08:27.326Z"
   },
   {
    "duration": 9,
    "start_time": "2023-09-04T20:08:30.490Z"
   },
   {
    "duration": 3,
    "start_time": "2023-09-04T20:08:32.900Z"
   },
   {
    "duration": 99,
    "start_time": "2023-09-04T20:10:55.837Z"
   },
   {
    "duration": 68,
    "start_time": "2023-09-04T20:10:56.679Z"
   },
   {
    "duration": 4,
    "start_time": "2023-09-04T20:10:57.421Z"
   },
   {
    "duration": 3,
    "start_time": "2023-09-04T20:11:01.443Z"
   },
   {
    "duration": 2360,
    "start_time": "2023-09-04T20:11:02.041Z"
   },
   {
    "duration": 3,
    "start_time": "2023-09-04T20:11:05.152Z"
   },
   {
    "duration": 51,
    "start_time": "2023-09-04T20:11:05.744Z"
   },
   {
    "duration": 116,
    "start_time": "2023-09-04T20:11:09.555Z"
   },
   {
    "duration": 5,
    "start_time": "2023-09-04T20:11:32.836Z"
   },
   {
    "duration": 2160,
    "start_time": "2023-09-05T07:37:14.322Z"
   },
   {
    "duration": 3,
    "start_time": "2023-09-05T07:37:18.667Z"
   },
   {
    "duration": 3,
    "start_time": "2023-09-05T07:37:19.940Z"
   },
   {
    "duration": 13312,
    "start_time": "2023-09-05T07:37:20.576Z"
   },
   {
    "duration": 233,
    "start_time": "2023-09-05T07:39:15.109Z"
   },
   {
    "duration": 42,
    "start_time": "2023-09-05T07:39:16.707Z"
   },
   {
    "duration": 52,
    "start_time": "2023-09-05T07:39:17.932Z"
   },
   {
    "duration": 45,
    "start_time": "2023-09-05T07:39:19.292Z"
   },
   {
    "duration": 275,
    "start_time": "2023-09-05T07:39:21.553Z"
   },
   {
    "duration": 150,
    "start_time": "2023-09-05T07:39:22.437Z"
   },
   {
    "duration": 571,
    "start_time": "2023-09-05T07:39:25.881Z"
   },
   {
    "duration": 189,
    "start_time": "2023-09-05T07:39:27.609Z"
   },
   {
    "duration": 593,
    "start_time": "2023-09-05T07:39:29.036Z"
   },
   {
    "duration": 230,
    "start_time": "2023-09-05T07:39:30.985Z"
   },
   {
    "duration": 10928,
    "start_time": "2023-09-05T07:39:34.804Z"
   },
   {
    "duration": 192,
    "start_time": "2023-09-05T07:40:44.048Z"
   },
   {
    "duration": 196,
    "start_time": "2023-09-05T07:40:46.147Z"
   },
   {
    "duration": 371,
    "start_time": "2023-09-05T07:40:47.105Z"
   },
   {
    "duration": 19,
    "start_time": "2023-09-05T07:40:48.767Z"
   },
   {
    "duration": 20,
    "start_time": "2023-09-05T07:40:49.743Z"
   },
   {
    "duration": 10,
    "start_time": "2023-09-05T07:40:51.066Z"
   },
   {
    "duration": 10,
    "start_time": "2023-09-05T07:40:51.752Z"
   },
   {
    "duration": 7,
    "start_time": "2023-09-05T07:40:53.102Z"
   },
   {
    "duration": 4,
    "start_time": "2023-09-05T07:40:53.905Z"
   },
   {
    "duration": 239,
    "start_time": "2023-09-05T07:40:55.278Z"
   },
   {
    "duration": 177,
    "start_time": "2023-09-05T07:40:56.873Z"
   },
   {
    "duration": 61,
    "start_time": "2023-09-05T07:41:00.226Z"
   },
   {
    "duration": 3,
    "start_time": "2023-09-05T07:41:00.757Z"
   },
   {
    "duration": 20,
    "start_time": "2023-09-05T07:41:01.394Z"
   },
   {
    "duration": 34,
    "start_time": "2023-09-05T07:41:17.645Z"
   },
   {
    "duration": 5,
    "start_time": "2023-09-05T07:41:18.898Z"
   },
   {
    "duration": 3,
    "start_time": "2023-09-05T07:41:24.040Z"
   },
   {
    "duration": 95,
    "start_time": "2023-09-05T07:41:31.593Z"
   },
   {
    "duration": 55,
    "start_time": "2023-09-05T07:41:33.621Z"
   },
   {
    "duration": 5,
    "start_time": "2023-09-05T07:41:34.478Z"
   },
   {
    "duration": 2,
    "start_time": "2023-09-05T07:43:39.805Z"
   },
   {
    "duration": 1167,
    "start_time": "2023-09-05T07:43:40.457Z"
   },
   {
    "duration": 127,
    "start_time": "2023-09-05T07:43:51.771Z"
   },
   {
    "duration": 5,
    "start_time": "2023-09-05T07:43:58.110Z"
   },
   {
    "duration": 10,
    "start_time": "2023-09-05T07:46:56.647Z"
   },
   {
    "duration": 4,
    "start_time": "2023-09-05T07:47:23.056Z"
   },
   {
    "duration": 57,
    "start_time": "2023-09-05T07:47:23.062Z"
   },
   {
    "duration": 55,
    "start_time": "2023-09-05T07:47:23.121Z"
   },
   {
    "duration": 53,
    "start_time": "2023-09-05T07:47:23.178Z"
   },
   {
    "duration": 259,
    "start_time": "2023-09-05T07:47:23.232Z"
   },
   {
    "duration": 43,
    "start_time": "2023-09-05T07:47:23.493Z"
   },
   {
    "duration": 52,
    "start_time": "2023-09-05T07:47:23.537Z"
   },
   {
    "duration": 50,
    "start_time": "2023-09-05T07:47:23.591Z"
   },
   {
    "duration": 301,
    "start_time": "2023-09-05T07:47:23.644Z"
   },
   {
    "duration": 153,
    "start_time": "2023-09-05T07:47:23.947Z"
   },
   {
    "duration": 615,
    "start_time": "2023-09-05T07:47:24.102Z"
   },
   {
    "duration": 188,
    "start_time": "2023-09-05T07:47:24.719Z"
   },
   {
    "duration": 591,
    "start_time": "2023-09-05T07:47:24.909Z"
   },
   {
    "duration": 217,
    "start_time": "2023-09-05T07:47:25.502Z"
   },
   {
    "duration": 8322,
    "start_time": "2023-09-05T07:47:25.721Z"
   },
   {
    "duration": 187,
    "start_time": "2023-09-05T07:47:34.044Z"
   },
   {
    "duration": 231,
    "start_time": "2023-09-05T07:47:34.232Z"
   },
   {
    "duration": 396,
    "start_time": "2023-09-05T07:47:34.465Z"
   },
   {
    "duration": 19,
    "start_time": "2023-09-05T07:47:34.863Z"
   },
   {
    "duration": 73,
    "start_time": "2023-09-05T07:47:34.884Z"
   },
   {
    "duration": 56,
    "start_time": "2023-09-05T07:47:34.959Z"
   },
   {
    "duration": 51,
    "start_time": "2023-09-05T07:47:35.017Z"
   },
   {
    "duration": 31,
    "start_time": "2023-09-05T07:47:35.071Z"
   },
   {
    "duration": 5,
    "start_time": "2023-09-05T07:47:35.106Z"
   },
   {
    "duration": 286,
    "start_time": "2023-09-05T07:47:35.112Z"
   },
   {
    "duration": 199,
    "start_time": "2023-09-05T07:47:35.401Z"
   },
   {
    "duration": 73,
    "start_time": "2023-09-05T07:47:35.602Z"
   },
   {
    "duration": 3,
    "start_time": "2023-09-05T07:47:35.676Z"
   },
   {
    "duration": 34,
    "start_time": "2023-09-05T07:47:35.681Z"
   },
   {
    "duration": 69,
    "start_time": "2023-09-05T07:47:35.716Z"
   },
   {
    "duration": 4,
    "start_time": "2023-09-05T07:47:35.787Z"
   },
   {
    "duration": 23,
    "start_time": "2023-09-05T07:47:35.793Z"
   },
   {
    "duration": 139,
    "start_time": "2023-09-05T07:47:35.818Z"
   },
   {
    "duration": 58,
    "start_time": "2023-09-05T07:47:35.959Z"
   },
   {
    "duration": 5,
    "start_time": "2023-09-05T07:47:36.019Z"
   },
   {
    "duration": 31,
    "start_time": "2023-09-05T07:47:36.026Z"
   },
   {
    "duration": 2313,
    "start_time": "2023-09-05T07:47:36.059Z"
   },
   {
    "duration": 24,
    "start_time": "2023-09-05T07:47:50.045Z"
   },
   {
    "duration": 86,
    "start_time": "2023-09-05T07:48:18.906Z"
   },
   {
    "duration": 112,
    "start_time": "2023-09-05T07:48:42.175Z"
   },
   {
    "duration": 4,
    "start_time": "2023-09-05T07:48:44.725Z"
   },
   {
    "duration": 3137,
    "start_time": "2023-09-05T07:48:52.811Z"
   },
   {
    "duration": 6,
    "start_time": "2023-09-05T07:48:57.944Z"
   },
   {
    "duration": 9205,
    "start_time": "2023-09-05T07:49:37.291Z"
   },
   {
    "duration": 4,
    "start_time": "2023-09-05T07:49:46.498Z"
   },
   {
    "duration": 40465,
    "start_time": "2023-09-05T07:49:54.989Z"
   },
   {
    "duration": 5,
    "start_time": "2023-09-05T07:50:35.456Z"
   },
   {
    "duration": 113661,
    "start_time": "2023-09-05T07:50:45.375Z"
   },
   {
    "duration": 5,
    "start_time": "2023-09-05T07:52:39.038Z"
   },
   {
    "duration": 9,
    "start_time": "2023-09-05T07:52:45.894Z"
   },
   {
    "duration": 34,
    "start_time": "2023-09-05T07:52:53.342Z"
   },
   {
    "duration": 18,
    "start_time": "2023-09-05T07:52:55.008Z"
   },
   {
    "duration": 30,
    "start_time": "2023-09-05T07:52:58.044Z"
   },
   {
    "duration": 18,
    "start_time": "2023-09-05T07:52:58.790Z"
   },
   {
    "duration": 5,
    "start_time": "2023-09-05T07:53:02.664Z"
   },
   {
    "duration": 123,
    "start_time": "2023-09-05T07:53:03.911Z"
   },
   {
    "duration": 124,
    "start_time": "2023-09-05T07:53:08.867Z"
   },
   {
    "duration": 9,
    "start_time": "2023-09-05T07:53:11.263Z"
   },
   {
    "duration": 1745,
    "start_time": "2023-09-05T07:54:40.262Z"
   },
   {
    "duration": 24,
    "start_time": "2023-09-05T07:54:46.842Z"
   },
   {
    "duration": 2855,
    "start_time": "2023-09-05T07:55:53.462Z"
   },
   {
    "duration": 3093,
    "start_time": "2023-09-05T07:56:08.554Z"
   },
   {
    "duration": 17,
    "start_time": "2023-09-05T08:08:32.801Z"
   },
   {
    "duration": 996,
    "start_time": "2023-09-05T08:08:53.835Z"
   },
   {
    "duration": 194,
    "start_time": "2023-09-05T08:12:36.244Z"
   },
   {
    "duration": 5,
    "start_time": "2023-09-05T08:13:43.867Z"
   },
   {
    "duration": 102,
    "start_time": "2023-09-05T08:13:43.874Z"
   },
   {
    "duration": 37,
    "start_time": "2023-09-05T08:13:43.977Z"
   },
   {
    "duration": 16,
    "start_time": "2023-09-05T08:13:44.016Z"
   },
   {
    "duration": 237,
    "start_time": "2023-09-05T08:13:44.033Z"
   },
   {
    "duration": 42,
    "start_time": "2023-09-05T08:13:44.272Z"
   },
   {
    "duration": 52,
    "start_time": "2023-09-05T08:13:44.316Z"
   },
   {
    "duration": 45,
    "start_time": "2023-09-05T08:13:44.370Z"
   },
   {
    "duration": 277,
    "start_time": "2023-09-05T08:13:44.419Z"
   },
   {
    "duration": 170,
    "start_time": "2023-09-05T08:13:44.698Z"
   },
   {
    "duration": 3381,
    "start_time": "2023-09-05T08:13:44.870Z"
   },
   {
    "duration": 228,
    "start_time": "2023-09-05T08:13:48.253Z"
   },
   {
    "duration": 602,
    "start_time": "2023-09-05T08:13:48.483Z"
   },
   {
    "duration": 235,
    "start_time": "2023-09-05T08:13:49.087Z"
   },
   {
    "duration": 11277,
    "start_time": "2023-09-05T08:13:49.324Z"
   },
   {
    "duration": 204,
    "start_time": "2023-09-05T08:14:00.603Z"
   },
   {
    "duration": 219,
    "start_time": "2023-09-05T08:14:00.808Z"
   },
   {
    "duration": 425,
    "start_time": "2023-09-05T08:14:01.029Z"
   },
   {
    "duration": 20,
    "start_time": "2023-09-05T08:14:01.456Z"
   },
   {
    "duration": 92,
    "start_time": "2023-09-05T08:14:01.478Z"
   },
   {
    "duration": 38,
    "start_time": "2023-09-05T08:14:01.572Z"
   },
   {
    "duration": 47,
    "start_time": "2023-09-05T08:14:01.612Z"
   },
   {
    "duration": 55,
    "start_time": "2023-09-05T08:14:01.661Z"
   },
   {
    "duration": 44,
    "start_time": "2023-09-05T08:14:01.720Z"
   },
   {
    "duration": 316,
    "start_time": "2023-09-05T08:14:01.766Z"
   },
   {
    "duration": 192,
    "start_time": "2023-09-05T08:14:02.084Z"
   },
   {
    "duration": 69,
    "start_time": "2023-09-05T08:14:02.278Z"
   },
   {
    "duration": 4,
    "start_time": "2023-09-05T08:14:02.349Z"
   },
   {
    "duration": 117,
    "start_time": "2023-09-05T08:14:02.354Z"
   },
   {
    "duration": 121,
    "start_time": "2023-09-05T08:14:02.473Z"
   },
   {
    "duration": 4,
    "start_time": "2023-09-05T08:14:02.596Z"
   },
   {
    "duration": 37,
    "start_time": "2023-09-05T08:14:02.601Z"
   },
   {
    "duration": 157,
    "start_time": "2023-09-05T08:14:02.640Z"
   },
   {
    "duration": 60,
    "start_time": "2023-09-05T08:14:02.799Z"
   },
   {
    "duration": 4,
    "start_time": "2023-09-05T08:14:02.861Z"
   },
   {
    "duration": 25,
    "start_time": "2023-09-05T08:14:02.866Z"
   },
   {
    "duration": 2178,
    "start_time": "2023-09-05T08:14:02.893Z"
   },
   {
    "duration": 3,
    "start_time": "2023-09-05T08:14:05.072Z"
   },
   {
    "duration": 46,
    "start_time": "2023-09-05T08:14:05.077Z"
   },
   {
    "duration": 148,
    "start_time": "2023-09-05T08:14:05.125Z"
   },
   {
    "duration": 5,
    "start_time": "2023-09-05T08:14:05.275Z"
   },
   {
    "duration": 3011,
    "start_time": "2023-09-05T08:14:05.283Z"
   },
   {
    "duration": 4,
    "start_time": "2023-09-05T08:14:08.296Z"
   },
   {
    "duration": 8939,
    "start_time": "2023-09-05T08:14:08.302Z"
   },
   {
    "duration": 6,
    "start_time": "2023-09-05T08:14:17.243Z"
   },
   {
    "duration": 47005,
    "start_time": "2023-09-05T08:14:17.251Z"
   },
   {
    "duration": 5,
    "start_time": "2023-09-05T08:15:04.258Z"
   },
   {
    "duration": 128306,
    "start_time": "2023-09-05T08:15:04.265Z"
   },
   {
    "duration": 4,
    "start_time": "2023-09-05T08:17:12.573Z"
   },
   {
    "duration": 13,
    "start_time": "2023-09-05T08:17:12.580Z"
   },
   {
    "duration": 30,
    "start_time": "2023-09-05T08:17:12.595Z"
   },
   {
    "duration": 32,
    "start_time": "2023-09-05T08:17:12.627Z"
   },
   {
    "duration": 28,
    "start_time": "2023-09-05T08:17:12.661Z"
   },
   {
    "duration": 16,
    "start_time": "2023-09-05T08:17:12.691Z"
   },
   {
    "duration": 5,
    "start_time": "2023-09-05T08:17:12.709Z"
   },
   {
    "duration": 187,
    "start_time": "2023-09-05T08:17:12.715Z"
   },
   {
    "duration": 176,
    "start_time": "2023-09-05T08:17:12.904Z"
   },
   {
    "duration": 10,
    "start_time": "2023-09-05T08:17:13.083Z"
   },
   {
    "duration": 884,
    "start_time": "2023-09-05T08:17:13.095Z"
   },
   {
    "duration": 10,
    "start_time": "2023-09-05T08:17:13.981Z"
   },
   {
    "duration": 0,
    "start_time": "2023-09-05T08:17:13.993Z"
   },
   {
    "duration": 0,
    "start_time": "2023-09-05T08:17:13.995Z"
   },
   {
    "duration": 894,
    "start_time": "2023-09-05T08:18:27.334Z"
   },
   {
    "duration": 5,
    "start_time": "2023-09-05T08:18:42.999Z"
   },
   {
    "duration": 5,
    "start_time": "2023-09-05T08:18:43.006Z"
   },
   {
    "duration": 5,
    "start_time": "2023-09-05T08:18:43.013Z"
   },
   {
    "duration": 6,
    "start_time": "2023-09-05T08:18:43.020Z"
   },
   {
    "duration": 218,
    "start_time": "2023-09-05T08:18:43.028Z"
   },
   {
    "duration": 44,
    "start_time": "2023-09-05T08:18:43.247Z"
   },
   {
    "duration": 52,
    "start_time": "2023-09-05T08:18:43.292Z"
   },
   {
    "duration": 45,
    "start_time": "2023-09-05T08:18:43.346Z"
   },
   {
    "duration": 271,
    "start_time": "2023-09-05T08:18:43.395Z"
   },
   {
    "duration": 167,
    "start_time": "2023-09-05T08:18:43.669Z"
   },
   {
    "duration": 585,
    "start_time": "2023-09-05T08:18:43.838Z"
   },
   {
    "duration": 216,
    "start_time": "2023-09-05T08:18:44.424Z"
   },
   {
    "duration": 582,
    "start_time": "2023-09-05T08:18:44.642Z"
   },
   {
    "duration": 250,
    "start_time": "2023-09-05T08:18:45.226Z"
   },
   {
    "duration": 11731,
    "start_time": "2023-09-05T08:18:45.478Z"
   },
   {
    "duration": 224,
    "start_time": "2023-09-05T08:18:57.211Z"
   },
   {
    "duration": 219,
    "start_time": "2023-09-05T08:18:57.437Z"
   },
   {
    "duration": 450,
    "start_time": "2023-09-05T08:18:57.657Z"
   },
   {
    "duration": 21,
    "start_time": "2023-09-05T08:18:58.109Z"
   },
   {
    "duration": 31,
    "start_time": "2023-09-05T08:18:58.133Z"
   },
   {
    "duration": 10,
    "start_time": "2023-09-05T08:18:58.165Z"
   },
   {
    "duration": 24,
    "start_time": "2023-09-05T08:18:58.177Z"
   },
   {
    "duration": 7,
    "start_time": "2023-09-05T08:18:58.205Z"
   },
   {
    "duration": 5,
    "start_time": "2023-09-05T08:18:58.214Z"
   },
   {
    "duration": 283,
    "start_time": "2023-09-05T08:18:58.221Z"
   },
   {
    "duration": 210,
    "start_time": "2023-09-05T08:18:58.506Z"
   },
   {
    "duration": 82,
    "start_time": "2023-09-05T08:18:58.718Z"
   },
   {
    "duration": 3,
    "start_time": "2023-09-05T08:18:58.802Z"
   },
   {
    "duration": 22,
    "start_time": "2023-09-05T08:18:58.807Z"
   },
   {
    "duration": 76,
    "start_time": "2023-09-05T08:18:58.831Z"
   },
   {
    "duration": 4,
    "start_time": "2023-09-05T08:18:58.909Z"
   },
   {
    "duration": 4,
    "start_time": "2023-09-05T08:18:58.915Z"
   },
   {
    "duration": 125,
    "start_time": "2023-09-05T08:18:58.921Z"
   },
   {
    "duration": 62,
    "start_time": "2023-09-05T08:18:59.048Z"
   },
   {
    "duration": 4,
    "start_time": "2023-09-05T08:18:59.112Z"
   },
   {
    "duration": 25,
    "start_time": "2023-09-05T08:18:59.118Z"
   },
   {
    "duration": 2492,
    "start_time": "2023-09-05T08:18:59.145Z"
   },
   {
    "duration": 9,
    "start_time": "2023-09-05T08:19:01.638Z"
   },
   {
    "duration": 81,
    "start_time": "2023-09-05T08:19:01.649Z"
   },
   {
    "duration": 182,
    "start_time": "2023-09-05T08:19:01.732Z"
   },
   {
    "duration": 4,
    "start_time": "2023-09-05T08:19:01.916Z"
   },
   {
    "duration": 756,
    "start_time": "2023-09-05T08:19:01.921Z"
   },
   {
    "duration": 3,
    "start_time": "2023-09-05T08:19:02.679Z"
   },
   {
    "duration": 8802,
    "start_time": "2023-09-05T08:19:02.684Z"
   },
   {
    "duration": 4,
    "start_time": "2023-09-05T08:19:11.488Z"
   },
   {
    "duration": 1660,
    "start_time": "2023-09-05T08:19:42.252Z"
   },
   {
    "duration": 3,
    "start_time": "2023-09-05T08:19:43.914Z"
   },
   {
    "duration": 28,
    "start_time": "2023-09-05T08:19:43.918Z"
   },
   {
    "duration": 16864,
    "start_time": "2023-09-05T08:19:43.948Z"
   },
   {
    "duration": 235,
    "start_time": "2023-09-05T08:20:00.814Z"
   },
   {
    "duration": 42,
    "start_time": "2023-09-05T08:20:01.051Z"
   },
   {
    "duration": 170,
    "start_time": "2023-09-05T08:20:01.095Z"
   },
   {
    "duration": 192,
    "start_time": "2023-09-05T08:20:01.267Z"
   },
   {
    "duration": 435,
    "start_time": "2023-09-05T08:20:01.461Z"
   },
   {
    "duration": 157,
    "start_time": "2023-09-05T08:20:01.899Z"
   },
   {
    "duration": 712,
    "start_time": "2023-09-05T08:20:02.058Z"
   },
   {
    "duration": 197,
    "start_time": "2023-09-05T08:20:02.771Z"
   },
   {
    "duration": 593,
    "start_time": "2023-09-05T08:20:02.970Z"
   },
   {
    "duration": 227,
    "start_time": "2023-09-05T08:20:03.564Z"
   },
   {
    "duration": 11653,
    "start_time": "2023-09-05T08:20:03.793Z"
   },
   {
    "duration": 241,
    "start_time": "2023-09-05T08:20:15.448Z"
   },
   {
    "duration": 207,
    "start_time": "2023-09-05T08:20:15.691Z"
   },
   {
    "duration": 443,
    "start_time": "2023-09-05T08:20:15.900Z"
   },
   {
    "duration": 20,
    "start_time": "2023-09-05T08:20:16.346Z"
   },
   {
    "duration": 36,
    "start_time": "2023-09-05T08:20:16.368Z"
   },
   {
    "duration": 27,
    "start_time": "2023-09-05T08:20:16.405Z"
   },
   {
    "duration": 51,
    "start_time": "2023-09-05T08:20:16.433Z"
   },
   {
    "duration": 27,
    "start_time": "2023-09-05T08:20:16.486Z"
   },
   {
    "duration": 37,
    "start_time": "2023-09-05T08:20:16.515Z"
   },
   {
    "duration": 299,
    "start_time": "2023-09-05T08:20:16.554Z"
   },
   {
    "duration": 204,
    "start_time": "2023-09-05T08:20:16.855Z"
   },
   {
    "duration": 71,
    "start_time": "2023-09-05T08:20:17.060Z"
   },
   {
    "duration": 3,
    "start_time": "2023-09-05T08:20:17.146Z"
   },
   {
    "duration": 61,
    "start_time": "2023-09-05T08:20:17.151Z"
   },
   {
    "duration": 57,
    "start_time": "2023-09-05T08:20:17.214Z"
   },
   {
    "duration": 4,
    "start_time": "2023-09-05T08:20:17.273Z"
   },
   {
    "duration": 15,
    "start_time": "2023-09-05T08:20:17.279Z"
   },
   {
    "duration": 115,
    "start_time": "2023-09-05T08:20:17.295Z"
   },
   {
    "duration": 72,
    "start_time": "2023-09-05T08:20:17.411Z"
   },
   {
    "duration": 5,
    "start_time": "2023-09-05T08:20:17.484Z"
   },
   {
    "duration": 27,
    "start_time": "2023-09-05T08:20:17.491Z"
   },
   {
    "duration": 2552,
    "start_time": "2023-09-05T08:20:17.520Z"
   },
   {
    "duration": 3,
    "start_time": "2023-09-05T08:20:20.074Z"
   },
   {
    "duration": 76,
    "start_time": "2023-09-05T08:20:20.078Z"
   },
   {
    "duration": 121,
    "start_time": "2023-09-05T08:20:20.156Z"
   },
   {
    "duration": 4,
    "start_time": "2023-09-05T08:20:20.279Z"
   },
   {
    "duration": 3081,
    "start_time": "2023-09-05T08:20:20.284Z"
   },
   {
    "duration": 5,
    "start_time": "2023-09-05T08:20:23.367Z"
   },
   {
    "duration": 9230,
    "start_time": "2023-09-05T08:20:23.373Z"
   },
   {
    "duration": 5,
    "start_time": "2023-09-05T08:20:32.605Z"
   },
   {
    "duration": 52851,
    "start_time": "2023-09-05T08:20:32.612Z"
   },
   {
    "duration": 5,
    "start_time": "2023-09-05T08:21:25.547Z"
   },
   {
    "duration": 124605,
    "start_time": "2023-09-05T08:21:25.554Z"
   },
   {
    "duration": 4,
    "start_time": "2023-09-05T08:23:30.160Z"
   },
   {
    "duration": 20,
    "start_time": "2023-09-05T08:23:30.166Z"
   },
   {
    "duration": 47,
    "start_time": "2023-09-05T08:23:30.187Z"
   },
   {
    "duration": 30,
    "start_time": "2023-09-05T08:23:30.236Z"
   },
   {
    "duration": 47,
    "start_time": "2023-09-05T08:23:30.268Z"
   },
   {
    "duration": 17,
    "start_time": "2023-09-05T08:23:30.317Z"
   },
   {
    "duration": 21,
    "start_time": "2023-09-05T08:23:30.336Z"
   },
   {
    "duration": 243,
    "start_time": "2023-09-05T08:23:30.359Z"
   },
   {
    "duration": 139,
    "start_time": "2023-09-05T08:23:30.603Z"
   },
   {
    "duration": 10,
    "start_time": "2023-09-05T08:23:30.746Z"
   },
   {
    "duration": 2059,
    "start_time": "2023-09-05T08:23:30.758Z"
   },
   {
    "duration": 3063,
    "start_time": "2023-09-05T08:23:32.819Z"
   },
   {
    "duration": 217,
    "start_time": "2023-09-05T08:23:35.884Z"
   },
   {
    "duration": 5,
    "start_time": "2023-09-05T08:27:02.309Z"
   },
   {
    "duration": 86,
    "start_time": "2023-09-05T08:27:02.319Z"
   },
   {
    "duration": 18,
    "start_time": "2023-09-05T08:27:02.408Z"
   },
   {
    "duration": 49,
    "start_time": "2023-09-05T08:27:02.429Z"
   },
   {
    "duration": 267,
    "start_time": "2023-09-05T08:27:02.481Z"
   },
   {
    "duration": 43,
    "start_time": "2023-09-05T08:27:02.751Z"
   },
   {
    "duration": 55,
    "start_time": "2023-09-05T08:27:02.796Z"
   },
   {
    "duration": 51,
    "start_time": "2023-09-05T08:27:02.853Z"
   },
   {
    "duration": 282,
    "start_time": "2023-09-05T08:27:02.905Z"
   },
   {
    "duration": 170,
    "start_time": "2023-09-05T08:27:03.189Z"
   },
   {
    "duration": 5737,
    "start_time": "2023-09-05T08:27:03.361Z"
   },
   {
    "duration": 326,
    "start_time": "2023-09-05T08:27:09.100Z"
   },
   {
    "duration": 5007,
    "start_time": "2023-09-05T08:27:09.428Z"
   },
   {
    "duration": 217,
    "start_time": "2023-09-05T08:27:14.436Z"
   },
   {
    "duration": 16834,
    "start_time": "2023-09-05T08:27:14.656Z"
   },
   {
    "duration": 228,
    "start_time": "2023-09-05T08:27:31.491Z"
   },
   {
    "duration": 232,
    "start_time": "2023-09-05T08:27:31.721Z"
   },
   {
    "duration": 455,
    "start_time": "2023-09-05T08:27:31.955Z"
   },
   {
    "duration": 21,
    "start_time": "2023-09-05T08:27:32.412Z"
   },
   {
    "duration": 39,
    "start_time": "2023-09-05T08:27:32.435Z"
   },
   {
    "duration": 17,
    "start_time": "2023-09-05T08:27:32.476Z"
   },
   {
    "duration": 28,
    "start_time": "2023-09-05T08:27:32.495Z"
   },
   {
    "duration": 15,
    "start_time": "2023-09-05T08:27:32.525Z"
   },
   {
    "duration": 4,
    "start_time": "2023-09-05T08:27:32.542Z"
   },
   {
    "duration": 270,
    "start_time": "2023-09-05T08:27:32.548Z"
   },
   {
    "duration": 192,
    "start_time": "2023-09-05T08:27:32.820Z"
   },
   {
    "duration": 89,
    "start_time": "2023-09-05T08:27:33.014Z"
   },
   {
    "duration": 18,
    "start_time": "2023-09-05T08:27:33.104Z"
   },
   {
    "duration": 22,
    "start_time": "2023-09-05T08:27:33.124Z"
   },
   {
    "duration": 79,
    "start_time": "2023-09-05T08:27:33.148Z"
   },
   {
    "duration": 4,
    "start_time": "2023-09-05T08:27:33.230Z"
   },
   {
    "duration": 13,
    "start_time": "2023-09-05T08:27:33.236Z"
   },
   {
    "duration": 146,
    "start_time": "2023-09-05T08:27:33.251Z"
   },
   {
    "duration": 66,
    "start_time": "2023-09-05T08:27:33.398Z"
   },
   {
    "duration": 5,
    "start_time": "2023-09-05T08:27:33.466Z"
   },
   {
    "duration": 18,
    "start_time": "2023-09-05T08:27:33.473Z"
   },
   {
    "duration": 2429,
    "start_time": "2023-09-05T08:27:33.493Z"
   },
   {
    "duration": 3,
    "start_time": "2023-09-05T08:27:35.925Z"
   },
   {
    "duration": 59,
    "start_time": "2023-09-05T08:27:35.930Z"
   },
   {
    "duration": 148,
    "start_time": "2023-09-05T08:27:35.992Z"
   },
   {
    "duration": 7,
    "start_time": "2023-09-05T08:27:36.141Z"
   },
   {
    "duration": 3029,
    "start_time": "2023-09-05T08:27:36.153Z"
   },
   {
    "duration": 5,
    "start_time": "2023-09-05T08:27:39.183Z"
   },
   {
    "duration": 8957,
    "start_time": "2023-09-05T08:27:39.190Z"
   },
   {
    "duration": 4,
    "start_time": "2023-09-05T08:27:48.149Z"
   },
   {
    "duration": 38403,
    "start_time": "2023-09-05T08:27:48.155Z"
   },
   {
    "duration": 4,
    "start_time": "2023-09-05T08:28:26.559Z"
   },
   {
    "duration": 130040,
    "start_time": "2023-09-05T08:28:26.565Z"
   },
   {
    "duration": 4,
    "start_time": "2023-09-05T08:30:36.607Z"
   },
   {
    "duration": 13,
    "start_time": "2023-09-05T08:30:36.613Z"
   },
   {
    "duration": 64,
    "start_time": "2023-09-05T08:30:36.628Z"
   },
   {
    "duration": 17,
    "start_time": "2023-09-05T08:30:36.693Z"
   },
   {
    "duration": 29,
    "start_time": "2023-09-05T08:30:36.712Z"
   },
   {
    "duration": 17,
    "start_time": "2023-09-05T08:30:36.742Z"
   },
   {
    "duration": 4,
    "start_time": "2023-09-05T08:30:36.761Z"
   },
   {
    "duration": 192,
    "start_time": "2023-09-05T08:30:36.766Z"
   },
   {
    "duration": 174,
    "start_time": "2023-09-05T08:30:36.960Z"
   },
   {
    "duration": 16,
    "start_time": "2023-09-05T08:30:37.135Z"
   },
   {
    "duration": 1887,
    "start_time": "2023-09-05T08:30:37.153Z"
   },
   {
    "duration": 3086,
    "start_time": "2023-09-05T08:30:39.047Z"
   },
   {
    "duration": 228,
    "start_time": "2023-09-05T08:30:42.134Z"
   },
   {
    "duration": 5,
    "start_time": "2023-09-05T08:33:02.489Z"
   },
   {
    "duration": 28,
    "start_time": "2023-09-05T08:33:02.496Z"
   },
   {
    "duration": 9,
    "start_time": "2023-09-05T08:33:02.526Z"
   },
   {
    "duration": 24,
    "start_time": "2023-09-05T08:33:02.537Z"
   },
   {
    "duration": 239,
    "start_time": "2023-09-05T08:33:02.563Z"
   },
   {
    "duration": 43,
    "start_time": "2023-09-05T08:33:02.804Z"
   },
   {
    "duration": 54,
    "start_time": "2023-09-05T08:33:02.849Z"
   },
   {
    "duration": 48,
    "start_time": "2023-09-05T08:33:02.905Z"
   },
   {
    "duration": 281,
    "start_time": "2023-09-05T08:33:02.957Z"
   },
   {
    "duration": 180,
    "start_time": "2023-09-05T08:33:03.239Z"
   },
   {
    "duration": 615,
    "start_time": "2023-09-05T08:33:03.421Z"
   },
   {
    "duration": 233,
    "start_time": "2023-09-05T08:33:04.038Z"
   },
   {
    "duration": 593,
    "start_time": "2023-09-05T08:33:04.273Z"
   },
   {
    "duration": 214,
    "start_time": "2023-09-05T08:33:04.868Z"
   },
   {
    "duration": 12048,
    "start_time": "2023-09-05T08:33:05.084Z"
   },
   {
    "duration": 225,
    "start_time": "2023-09-05T08:33:17.133Z"
   },
   {
    "duration": 226,
    "start_time": "2023-09-05T08:33:17.360Z"
   },
   {
    "duration": 442,
    "start_time": "2023-09-05T08:33:17.588Z"
   },
   {
    "duration": 22,
    "start_time": "2023-09-05T08:33:18.032Z"
   },
   {
    "duration": 20,
    "start_time": "2023-09-05T08:33:18.055Z"
   },
   {
    "duration": 9,
    "start_time": "2023-09-05T08:33:18.077Z"
   },
   {
    "duration": 13,
    "start_time": "2023-09-05T08:33:18.088Z"
   },
   {
    "duration": 11,
    "start_time": "2023-09-05T08:33:18.103Z"
   },
   {
    "duration": 4,
    "start_time": "2023-09-05T08:33:18.147Z"
   },
   {
    "duration": 265,
    "start_time": "2023-09-05T08:33:18.153Z"
   },
   {
    "duration": 202,
    "start_time": "2023-09-05T08:33:18.420Z"
   },
   {
    "duration": 80,
    "start_time": "2023-09-05T08:33:18.624Z"
   },
   {
    "duration": 2,
    "start_time": "2023-09-05T08:33:18.706Z"
   },
   {
    "duration": 36,
    "start_time": "2023-09-05T08:33:18.710Z"
   },
   {
    "duration": 66,
    "start_time": "2023-09-05T08:33:18.748Z"
   },
   {
    "duration": 4,
    "start_time": "2023-09-05T08:33:18.816Z"
   },
   {
    "duration": 9,
    "start_time": "2023-09-05T08:33:18.822Z"
   },
   {
    "duration": 109,
    "start_time": "2023-09-05T08:33:18.846Z"
   },
   {
    "duration": 60,
    "start_time": "2023-09-05T08:33:18.957Z"
   },
   {
    "duration": 4,
    "start_time": "2023-09-05T08:33:19.019Z"
   },
   {
    "duration": 25,
    "start_time": "2023-09-05T08:33:19.025Z"
   },
   {
    "duration": 2394,
    "start_time": "2023-09-05T08:33:19.051Z"
   },
   {
    "duration": 4,
    "start_time": "2023-09-05T08:33:21.446Z"
   },
   {
    "duration": 41,
    "start_time": "2023-09-05T08:33:21.452Z"
   },
   {
    "duration": 137,
    "start_time": "2023-09-05T08:33:21.495Z"
   },
   {
    "duration": 12,
    "start_time": "2023-09-05T08:33:21.634Z"
   },
   {
    "duration": 2977,
    "start_time": "2023-09-05T08:33:21.648Z"
   },
   {
    "duration": 5,
    "start_time": "2023-09-05T08:33:24.627Z"
   },
   {
    "duration": 9216,
    "start_time": "2023-09-05T08:33:24.634Z"
   },
   {
    "duration": 4,
    "start_time": "2023-09-05T08:33:33.852Z"
   },
   {
    "duration": 38302,
    "start_time": "2023-09-05T08:33:33.858Z"
   },
   {
    "duration": 4,
    "start_time": "2023-09-05T08:34:12.162Z"
   },
   {
    "duration": 151011,
    "start_time": "2023-09-05T08:34:12.167Z"
   },
   {
    "duration": 4,
    "start_time": "2023-09-05T08:36:43.180Z"
   },
   {
    "duration": 17,
    "start_time": "2023-09-05T08:36:43.186Z"
   },
   {
    "duration": 30,
    "start_time": "2023-09-05T08:36:43.205Z"
   },
   {
    "duration": 17,
    "start_time": "2023-09-05T08:36:43.237Z"
   },
   {
    "duration": 30,
    "start_time": "2023-09-05T08:36:43.256Z"
   },
   {
    "duration": 18,
    "start_time": "2023-09-05T08:36:43.288Z"
   },
   {
    "duration": 6,
    "start_time": "2023-09-05T08:36:43.308Z"
   },
   {
    "duration": 187,
    "start_time": "2023-09-05T08:36:43.315Z"
   },
   {
    "duration": 186,
    "start_time": "2023-09-05T08:36:43.504Z"
   },
   {
    "duration": 10,
    "start_time": "2023-09-05T08:36:43.692Z"
   },
   {
    "duration": 551,
    "start_time": "2023-09-05T08:36:43.704Z"
   },
   {
    "duration": 344,
    "start_time": "2023-09-05T08:36:44.257Z"
   },
   {
    "duration": 3,
    "start_time": "2023-09-05T08:38:59.101Z"
   },
   {
    "duration": 1847,
    "start_time": "2023-09-05T08:39:42.855Z"
   },
   {
    "duration": 36,
    "start_time": "2023-09-05T08:39:48.969Z"
   },
   {
    "duration": 568,
    "start_time": "2023-09-05T08:40:11.943Z"
   },
   {
    "duration": 2992,
    "start_time": "2023-09-05T08:40:16.735Z"
   },
   {
    "duration": 4,
    "start_time": "2023-09-05T08:41:35.459Z"
   },
   {
    "duration": 33,
    "start_time": "2023-09-05T08:41:38.626Z"
   },
   {
    "duration": 5,
    "start_time": "2023-09-05T08:45:09.825Z"
   },
   {
    "duration": 4,
    "start_time": "2023-09-05T08:45:09.833Z"
   },
   {
    "duration": 6,
    "start_time": "2023-09-05T08:45:09.839Z"
   },
   {
    "duration": 9,
    "start_time": "2023-09-05T08:45:09.847Z"
   },
   {
    "duration": 232,
    "start_time": "2023-09-05T08:45:09.858Z"
   },
   {
    "duration": 45,
    "start_time": "2023-09-05T08:45:10.092Z"
   },
   {
    "duration": 52,
    "start_time": "2023-09-05T08:45:10.139Z"
   },
   {
    "duration": 46,
    "start_time": "2023-09-05T08:45:10.193Z"
   },
   {
    "duration": 282,
    "start_time": "2023-09-05T08:45:10.241Z"
   },
   {
    "duration": 182,
    "start_time": "2023-09-05T08:45:10.525Z"
   },
   {
    "duration": 610,
    "start_time": "2023-09-05T08:45:10.709Z"
   },
   {
    "duration": 214,
    "start_time": "2023-09-05T08:45:11.321Z"
   },
   {
    "duration": 600,
    "start_time": "2023-09-05T08:45:11.537Z"
   },
   {
    "duration": 227,
    "start_time": "2023-09-05T08:45:12.139Z"
   },
   {
    "duration": 11504,
    "start_time": "2023-09-05T08:45:12.368Z"
   },
   {
    "duration": 205,
    "start_time": "2023-09-05T08:45:23.873Z"
   },
   {
    "duration": 215,
    "start_time": "2023-09-05T08:45:24.080Z"
   },
   {
    "duration": 391,
    "start_time": "2023-09-05T08:45:24.297Z"
   },
   {
    "duration": 19,
    "start_time": "2023-09-05T08:45:24.689Z"
   },
   {
    "duration": 60,
    "start_time": "2023-09-05T08:45:24.709Z"
   },
   {
    "duration": 39,
    "start_time": "2023-09-05T08:45:24.772Z"
   },
   {
    "duration": 39,
    "start_time": "2023-09-05T08:45:24.813Z"
   },
   {
    "duration": 53,
    "start_time": "2023-09-05T08:45:24.857Z"
   },
   {
    "duration": 46,
    "start_time": "2023-09-05T08:45:24.912Z"
   },
   {
    "duration": 268,
    "start_time": "2023-09-05T08:45:24.960Z"
   },
   {
    "duration": 228,
    "start_time": "2023-09-05T08:45:25.230Z"
   },
   {
    "duration": 72,
    "start_time": "2023-09-05T08:45:25.460Z"
   },
   {
    "duration": 3,
    "start_time": "2023-09-05T08:45:25.534Z"
   },
   {
    "duration": 26,
    "start_time": "2023-09-05T08:45:25.547Z"
   },
   {
    "duration": 99,
    "start_time": "2023-09-05T08:45:25.574Z"
   },
   {
    "duration": 5,
    "start_time": "2023-09-05T08:45:25.675Z"
   },
   {
    "duration": 7,
    "start_time": "2023-09-05T08:45:25.682Z"
   },
   {
    "duration": 140,
    "start_time": "2023-09-05T08:45:25.691Z"
   },
   {
    "duration": 63,
    "start_time": "2023-09-05T08:45:25.833Z"
   },
   {
    "duration": 6,
    "start_time": "2023-09-05T08:45:25.897Z"
   },
   {
    "duration": 16,
    "start_time": "2023-09-05T08:45:25.905Z"
   },
   {
    "duration": 2389,
    "start_time": "2023-09-05T08:45:25.923Z"
   },
   {
    "duration": 3,
    "start_time": "2023-09-05T08:45:28.313Z"
   },
   {
    "duration": 48,
    "start_time": "2023-09-05T08:45:28.318Z"
   },
   {
    "duration": 119,
    "start_time": "2023-09-05T08:45:28.368Z"
   },
   {
    "duration": 4,
    "start_time": "2023-09-05T08:45:28.489Z"
   },
   {
    "duration": 3025,
    "start_time": "2023-09-05T08:45:28.494Z"
   },
   {
    "duration": 5,
    "start_time": "2023-09-05T08:45:31.521Z"
   },
   {
    "duration": 9055,
    "start_time": "2023-09-05T08:45:31.528Z"
   },
   {
    "duration": 4,
    "start_time": "2023-09-05T08:45:40.585Z"
   },
   {
    "duration": 42680,
    "start_time": "2023-09-05T08:45:40.591Z"
   },
   {
    "duration": 76,
    "start_time": "2023-09-05T08:46:23.273Z"
   },
   {
    "duration": 180460,
    "start_time": "2023-09-05T08:46:23.350Z"
   },
   {
    "duration": 4,
    "start_time": "2023-09-05T08:49:23.812Z"
   },
   {
    "duration": 32,
    "start_time": "2023-09-05T08:49:23.817Z"
   },
   {
    "duration": 143,
    "start_time": "2023-09-05T08:49:23.851Z"
   },
   {
    "duration": 75,
    "start_time": "2023-09-05T08:49:23.996Z"
   },
   {
    "duration": 49,
    "start_time": "2023-09-05T08:49:24.073Z"
   },
   {
    "duration": 26,
    "start_time": "2023-09-05T08:49:24.124Z"
   },
   {
    "duration": 25,
    "start_time": "2023-09-05T08:49:24.152Z"
   },
   {
    "duration": 207,
    "start_time": "2023-09-05T08:49:24.178Z"
   },
   {
    "duration": 168,
    "start_time": "2023-09-05T08:49:24.386Z"
   },
   {
    "duration": 9,
    "start_time": "2023-09-05T08:49:24.556Z"
   },
   {
    "duration": 3,
    "start_time": "2023-09-05T08:50:23.016Z"
   },
   {
    "duration": 132,
    "start_time": "2023-09-05T08:56:38.287Z"
   },
   {
    "duration": 157,
    "start_time": "2023-09-05T08:56:50.159Z"
   },
   {
    "duration": 3,
    "start_time": "2023-09-05T08:56:56.324Z"
   },
   {
    "duration": 147,
    "start_time": "2023-09-05T08:56:57.006Z"
   },
   {
    "duration": 324,
    "start_time": "2023-09-05T08:57:05.395Z"
   },
   {
    "duration": 435,
    "start_time": "2023-09-05T08:57:46.138Z"
   },
   {
    "duration": 17,
    "start_time": "2023-09-05T08:59:27.518Z"
   },
   {
    "duration": 12,
    "start_time": "2023-09-05T08:59:37.338Z"
   },
   {
    "duration": 369,
    "start_time": "2023-09-05T09:01:20.239Z"
   },
   {
    "duration": 515,
    "start_time": "2023-09-05T09:02:25.013Z"
   },
   {
    "duration": 15,
    "start_time": "2023-09-05T09:02:37.086Z"
   },
   {
    "duration": 4,
    "start_time": "2023-09-05T09:03:03.386Z"
   },
   {
    "duration": 2576,
    "start_time": "2023-09-05T09:03:04.063Z"
   },
   {
    "duration": 21,
    "start_time": "2023-09-05T09:04:46.405Z"
   },
   {
    "duration": 936,
    "start_time": "2023-09-05T09:05:10.153Z"
   },
   {
    "duration": 19,
    "start_time": "2023-09-05T09:05:16.793Z"
   },
   {
    "duration": 6,
    "start_time": "2023-09-05T09:05:25.296Z"
   },
   {
    "duration": 14,
    "start_time": "2023-09-05T09:05:51.100Z"
   },
   {
    "duration": 25,
    "start_time": "2023-09-05T09:06:28.506Z"
   },
   {
    "duration": 2856,
    "start_time": "2023-09-05T09:06:59.754Z"
   },
   {
    "duration": 185,
    "start_time": "2023-09-05T09:08:31.432Z"
   },
   {
    "duration": 293,
    "start_time": "2023-09-05T09:08:36.865Z"
   },
   {
    "duration": 2713,
    "start_time": "2023-09-05T09:08:45.011Z"
   },
   {
    "duration": 12,
    "start_time": "2023-09-05T09:09:49.061Z"
   },
   {
    "duration": 1000,
    "start_time": "2023-09-05T09:12:44.197Z"
   },
   {
    "duration": 17,
    "start_time": "2023-09-05T09:14:23.702Z"
   },
   {
    "duration": 1085,
    "start_time": "2023-09-05T09:14:35.040Z"
   },
   {
    "duration": 1012,
    "start_time": "2023-09-05T09:14:50.209Z"
   },
   {
    "duration": 72,
    "start_time": "2023-09-05T09:16:57.826Z"
   },
   {
    "duration": 10,
    "start_time": "2023-09-05T09:17:03.683Z"
   },
   {
    "duration": 1088,
    "start_time": "2023-09-05T09:17:08.964Z"
   },
   {
    "duration": 9013,
    "start_time": "2023-09-05T09:17:23.247Z"
   },
   {
    "duration": 10,
    "start_time": "2023-09-05T09:17:41.683Z"
   },
   {
    "duration": 11,
    "start_time": "2023-09-05T09:17:45.911Z"
   },
   {
    "duration": 10,
    "start_time": "2023-09-05T09:17:53.000Z"
   },
   {
    "duration": 999,
    "start_time": "2023-09-05T09:18:18.452Z"
   },
   {
    "duration": 15,
    "start_time": "2023-09-05T09:19:34.215Z"
   },
   {
    "duration": 2022,
    "start_time": "2023-09-05T09:19:45.272Z"
   },
   {
    "duration": 3999,
    "start_time": "2023-09-05T09:20:01.420Z"
   },
   {
    "duration": 1428,
    "start_time": "2023-09-05T09:20:09.536Z"
   },
   {
    "duration": 1096,
    "start_time": "2023-09-05T09:20:33.774Z"
   },
   {
    "duration": 2223,
    "start_time": "2023-09-05T09:21:39.682Z"
   },
   {
    "duration": 15,
    "start_time": "2023-09-05T09:21:50.267Z"
   },
   {
    "duration": 11,
    "start_time": "2023-09-05T09:22:23.520Z"
   },
   {
    "duration": 10,
    "start_time": "2023-09-05T09:22:32.773Z"
   },
   {
    "duration": 12,
    "start_time": "2023-09-05T09:22:47.087Z"
   },
   {
    "duration": 6,
    "start_time": "2023-09-05T09:35:56.013Z"
   },
   {
    "duration": 11,
    "start_time": "2023-09-05T09:35:56.021Z"
   },
   {
    "duration": 12,
    "start_time": "2023-09-05T09:35:56.034Z"
   },
   {
    "duration": 21,
    "start_time": "2023-09-05T09:35:56.049Z"
   },
   {
    "duration": 226,
    "start_time": "2023-09-05T09:35:56.072Z"
   },
   {
    "duration": 42,
    "start_time": "2023-09-05T09:35:56.300Z"
   },
   {
    "duration": 51,
    "start_time": "2023-09-05T09:35:56.343Z"
   },
   {
    "duration": 44,
    "start_time": "2023-09-05T09:35:56.396Z"
   },
   {
    "duration": 286,
    "start_time": "2023-09-05T09:35:56.442Z"
   },
   {
    "duration": 178,
    "start_time": "2023-09-05T09:35:56.730Z"
   },
   {
    "duration": 612,
    "start_time": "2023-09-05T09:35:56.911Z"
   },
   {
    "duration": 224,
    "start_time": "2023-09-05T09:35:57.525Z"
   },
   {
    "duration": 609,
    "start_time": "2023-09-05T09:35:57.751Z"
   },
   {
    "duration": 247,
    "start_time": "2023-09-05T09:35:58.362Z"
   },
   {
    "duration": 11731,
    "start_time": "2023-09-05T09:35:58.611Z"
   },
   {
    "duration": 218,
    "start_time": "2023-09-05T09:36:10.346Z"
   },
   {
    "duration": 209,
    "start_time": "2023-09-05T09:36:10.566Z"
   },
   {
    "duration": 457,
    "start_time": "2023-09-05T09:36:10.777Z"
   },
   {
    "duration": 29,
    "start_time": "2023-09-05T09:36:11.236Z"
   },
   {
    "duration": 22,
    "start_time": "2023-09-05T09:36:11.267Z"
   },
   {
    "duration": 10,
    "start_time": "2023-09-05T09:36:11.291Z"
   },
   {
    "duration": 12,
    "start_time": "2023-09-05T09:36:11.303Z"
   },
   {
    "duration": 30,
    "start_time": "2023-09-05T09:36:11.317Z"
   },
   {
    "duration": 3,
    "start_time": "2023-09-05T09:36:11.350Z"
   },
   {
    "duration": 284,
    "start_time": "2023-09-05T09:36:11.355Z"
   },
   {
    "duration": 214,
    "start_time": "2023-09-05T09:36:11.641Z"
   },
   {
    "duration": 69,
    "start_time": "2023-09-05T09:36:11.857Z"
   },
   {
    "duration": 17,
    "start_time": "2023-09-05T09:36:11.930Z"
   },
   {
    "duration": 21,
    "start_time": "2023-09-05T09:36:11.949Z"
   },
   {
    "duration": 95,
    "start_time": "2023-09-05T09:36:11.972Z"
   },
   {
    "duration": 4,
    "start_time": "2023-09-05T09:36:12.069Z"
   },
   {
    "duration": 5,
    "start_time": "2023-09-05T09:36:12.075Z"
   },
   {
    "duration": 131,
    "start_time": "2023-09-05T09:36:12.082Z"
   },
   {
    "duration": 69,
    "start_time": "2023-09-05T09:36:12.215Z"
   },
   {
    "duration": 5,
    "start_time": "2023-09-05T09:36:12.286Z"
   },
   {
    "duration": 5,
    "start_time": "2023-09-05T09:36:12.292Z"
   },
   {
    "duration": 2350,
    "start_time": "2023-09-05T09:36:12.299Z"
   },
   {
    "duration": 3,
    "start_time": "2023-09-05T09:36:14.651Z"
   },
   {
    "duration": 51,
    "start_time": "2023-09-05T09:36:14.656Z"
   },
   {
    "duration": 121,
    "start_time": "2023-09-05T09:36:14.709Z"
   },
   {
    "duration": 4,
    "start_time": "2023-09-05T09:36:14.832Z"
   },
   {
    "duration": 3110,
    "start_time": "2023-09-05T09:36:14.847Z"
   },
   {
    "duration": 5,
    "start_time": "2023-09-05T09:36:17.959Z"
   },
   {
    "duration": 9095,
    "start_time": "2023-09-05T09:36:17.966Z"
   },
   {
    "duration": 4,
    "start_time": "2023-09-05T09:36:27.063Z"
   },
   {
    "duration": 453476,
    "start_time": "2023-09-05T09:36:27.069Z"
   },
   {
    "duration": 5,
    "start_time": "2023-09-05T09:44:00.547Z"
   },
   {
    "duration": 1792,
    "start_time": "2023-09-05T09:44:16.898Z"
   },
   {
    "duration": 3,
    "start_time": "2023-09-05T09:44:18.692Z"
   },
   {
    "duration": 42,
    "start_time": "2023-09-05T09:44:18.697Z"
   },
   {
    "duration": 10046,
    "start_time": "2023-09-05T09:44:18.741Z"
   },
   {
    "duration": 223,
    "start_time": "2023-09-05T09:44:28.789Z"
   },
   {
    "duration": 45,
    "start_time": "2023-09-05T09:44:29.014Z"
   },
   {
    "duration": 53,
    "start_time": "2023-09-05T09:44:29.061Z"
   },
   {
    "duration": 45,
    "start_time": "2023-09-05T09:44:29.115Z"
   },
   {
    "duration": 266,
    "start_time": "2023-09-05T09:44:29.162Z"
   },
   {
    "duration": 146,
    "start_time": "2023-09-05T09:44:29.432Z"
   },
   {
    "duration": 562,
    "start_time": "2023-09-05T09:44:29.580Z"
   },
   {
    "duration": 214,
    "start_time": "2023-09-05T09:44:30.144Z"
   },
   {
    "duration": 568,
    "start_time": "2023-09-05T09:44:30.360Z"
   },
   {
    "duration": 225,
    "start_time": "2023-09-05T09:44:30.930Z"
   },
   {
    "duration": 11423,
    "start_time": "2023-09-05T09:44:31.157Z"
   },
   {
    "duration": 232,
    "start_time": "2023-09-05T09:44:42.583Z"
   },
   {
    "duration": 214,
    "start_time": "2023-09-05T09:44:42.817Z"
   },
   {
    "duration": 436,
    "start_time": "2023-09-05T09:44:43.033Z"
   },
   {
    "duration": 20,
    "start_time": "2023-09-05T09:44:43.471Z"
   },
   {
    "duration": 20,
    "start_time": "2023-09-05T09:44:43.493Z"
   },
   {
    "duration": 13,
    "start_time": "2023-09-05T09:44:43.514Z"
   },
   {
    "duration": 10,
    "start_time": "2023-09-05T09:44:43.546Z"
   },
   {
    "duration": 13,
    "start_time": "2023-09-05T09:44:43.557Z"
   },
   {
    "duration": 4,
    "start_time": "2023-09-05T09:44:43.572Z"
   },
   {
    "duration": 280,
    "start_time": "2023-09-05T09:44:43.578Z"
   },
   {
    "duration": 198,
    "start_time": "2023-09-05T09:44:43.860Z"
   },
   {
    "duration": 77,
    "start_time": "2023-09-05T09:44:44.059Z"
   },
   {
    "duration": 9,
    "start_time": "2023-09-05T09:44:44.150Z"
   },
   {
    "duration": 23,
    "start_time": "2023-09-05T09:44:44.161Z"
   },
   {
    "duration": 47,
    "start_time": "2023-09-05T09:44:44.187Z"
   },
   {
    "duration": 18,
    "start_time": "2023-09-05T09:44:44.236Z"
   },
   {
    "duration": 4,
    "start_time": "2023-09-05T09:44:44.257Z"
   },
   {
    "duration": 107,
    "start_time": "2023-09-05T09:44:44.263Z"
   },
   {
    "duration": 57,
    "start_time": "2023-09-05T09:44:44.371Z"
   },
   {
    "duration": 16,
    "start_time": "2023-09-05T09:44:44.430Z"
   },
   {
    "duration": 2,
    "start_time": "2023-09-05T09:44:44.448Z"
   },
   {
    "duration": 2405,
    "start_time": "2023-09-05T09:44:44.452Z"
   },
   {
    "duration": 3,
    "start_time": "2023-09-05T09:44:46.858Z"
   },
   {
    "duration": 70,
    "start_time": "2023-09-05T09:44:46.863Z"
   },
   {
    "duration": 116,
    "start_time": "2023-09-05T09:44:46.936Z"
   },
   {
    "duration": 5,
    "start_time": "2023-09-05T09:44:47.053Z"
   },
   {
    "duration": 3179,
    "start_time": "2023-09-05T09:44:47.059Z"
   },
   {
    "duration": 9,
    "start_time": "2023-09-05T09:44:50.240Z"
   },
   {
    "duration": 9150,
    "start_time": "2023-09-05T09:44:50.251Z"
   },
   {
    "duration": 4,
    "start_time": "2023-09-05T09:44:59.403Z"
   },
   {
    "duration": 385189,
    "start_time": "2023-09-05T09:44:59.408Z"
   },
   {
    "duration": 5,
    "start_time": "2023-09-05T09:51:24.599Z"
   },
   {
    "duration": 5,
    "start_time": "2023-09-05T09:53:07.967Z"
   },
   {
    "duration": 11,
    "start_time": "2023-09-05T09:53:07.974Z"
   },
   {
    "duration": 6,
    "start_time": "2023-09-05T09:53:07.987Z"
   },
   {
    "duration": 17,
    "start_time": "2023-09-05T09:53:07.995Z"
   },
   {
    "duration": 210,
    "start_time": "2023-09-05T09:53:08.014Z"
   },
   {
    "duration": 43,
    "start_time": "2023-09-05T09:53:08.226Z"
   },
   {
    "duration": 55,
    "start_time": "2023-09-05T09:53:08.271Z"
   },
   {
    "duration": 45,
    "start_time": "2023-09-05T09:53:08.328Z"
   },
   {
    "duration": 273,
    "start_time": "2023-09-05T09:53:08.376Z"
   },
   {
    "duration": 148,
    "start_time": "2023-09-05T09:53:08.651Z"
   },
   {
    "duration": 607,
    "start_time": "2023-09-05T09:53:08.802Z"
   },
   {
    "duration": 191,
    "start_time": "2023-09-05T09:53:09.411Z"
   },
   {
    "duration": 595,
    "start_time": "2023-09-05T09:53:09.604Z"
   },
   {
    "duration": 232,
    "start_time": "2023-09-05T09:53:10.201Z"
   },
   {
    "duration": 11713,
    "start_time": "2023-09-05T09:53:10.435Z"
   },
   {
    "duration": 222,
    "start_time": "2023-09-05T09:53:22.150Z"
   },
   {
    "duration": 225,
    "start_time": "2023-09-05T09:53:22.374Z"
   },
   {
    "duration": 466,
    "start_time": "2023-09-05T09:53:22.601Z"
   },
   {
    "duration": 23,
    "start_time": "2023-09-05T09:53:23.069Z"
   },
   {
    "duration": 21,
    "start_time": "2023-09-05T09:53:23.094Z"
   },
   {
    "duration": 30,
    "start_time": "2023-09-05T09:53:23.118Z"
   },
   {
    "duration": 13,
    "start_time": "2023-09-05T09:53:23.150Z"
   },
   {
    "duration": 10,
    "start_time": "2023-09-05T09:53:23.165Z"
   },
   {
    "duration": 19,
    "start_time": "2023-09-05T09:53:23.178Z"
   },
   {
    "duration": 283,
    "start_time": "2023-09-05T09:53:23.198Z"
   },
   {
    "duration": 208,
    "start_time": "2023-09-05T09:53:23.483Z"
   },
   {
    "duration": 83,
    "start_time": "2023-09-05T09:53:23.693Z"
   },
   {
    "duration": 4,
    "start_time": "2023-09-05T09:53:23.778Z"
   },
   {
    "duration": 24,
    "start_time": "2023-09-05T09:53:23.783Z"
   },
   {
    "duration": 82,
    "start_time": "2023-09-05T09:53:23.809Z"
   },
   {
    "duration": 4,
    "start_time": "2023-09-05T09:53:23.893Z"
   },
   {
    "duration": 14,
    "start_time": "2023-09-05T09:53:23.899Z"
   },
   {
    "duration": 108,
    "start_time": "2023-09-05T09:53:23.914Z"
   },
   {
    "duration": 71,
    "start_time": "2023-09-05T09:53:24.023Z"
   },
   {
    "duration": 6,
    "start_time": "2023-09-05T09:53:24.096Z"
   },
   {
    "duration": 13,
    "start_time": "2023-09-05T09:53:24.104Z"
   },
   {
    "duration": 2458,
    "start_time": "2023-09-05T09:53:24.119Z"
   },
   {
    "duration": 4,
    "start_time": "2023-09-05T09:53:26.579Z"
   },
   {
    "duration": 53,
    "start_time": "2023-09-05T09:53:26.584Z"
   },
   {
    "duration": 1038,
    "start_time": "2023-09-05T09:54:34.777Z"
   },
   {
    "duration": 994,
    "start_time": "2023-09-05T09:54:58.460Z"
   },
   {
    "duration": 26,
    "start_time": "2023-09-05T09:55:05.327Z"
   },
   {
    "duration": 26,
    "start_time": "2023-09-05T09:55:17.076Z"
   },
   {
    "duration": 3104,
    "start_time": "2023-09-05T09:55:35.057Z"
   },
   {
    "duration": 380,
    "start_time": "2023-09-05T09:56:31.743Z"
   },
   {
    "duration": 614,
    "start_time": "2023-09-05T09:57:21.411Z"
   },
   {
    "duration": 561,
    "start_time": "2023-09-05T09:57:55.769Z"
   },
   {
    "duration": 335,
    "start_time": "2023-09-05T09:58:14.265Z"
   },
   {
    "duration": 1532,
    "start_time": "2023-09-05T09:59:44.786Z"
   },
   {
    "duration": 1426,
    "start_time": "2023-09-05T09:59:55.924Z"
   },
   {
    "duration": 1102,
    "start_time": "2023-09-05T10:00:35.384Z"
   },
   {
    "duration": 2011,
    "start_time": "2023-09-05T13:47:54.473Z"
   },
   {
    "duration": 3,
    "start_time": "2023-09-05T13:47:58.654Z"
   },
   {
    "duration": 3,
    "start_time": "2023-09-05T13:47:59.886Z"
   },
   {
    "duration": 9668,
    "start_time": "2023-09-05T13:48:00.703Z"
   },
   {
    "duration": 232,
    "start_time": "2023-09-05T13:48:12.940Z"
   },
   {
    "duration": 44,
    "start_time": "2023-09-05T13:48:15.497Z"
   },
   {
    "duration": 53,
    "start_time": "2023-09-05T13:48:17.528Z"
   },
   {
    "duration": 52,
    "start_time": "2023-09-05T13:48:20.899Z"
   },
   {
    "duration": 282,
    "start_time": "2023-09-05T13:48:25.475Z"
   },
   {
    "duration": 171,
    "start_time": "2023-09-05T13:48:26.585Z"
   },
   {
    "duration": 641,
    "start_time": "2023-09-05T13:48:46.570Z"
   },
   {
    "duration": 216,
    "start_time": "2023-09-05T13:48:51.951Z"
   },
   {
    "duration": 602,
    "start_time": "2023-09-05T13:48:54.626Z"
   },
   {
    "duration": 220,
    "start_time": "2023-09-05T13:48:57.276Z"
   },
   {
    "duration": 11365,
    "start_time": "2023-09-05T13:49:05.388Z"
   },
   {
    "duration": 190,
    "start_time": "2023-09-05T13:49:23.076Z"
   },
   {
    "duration": 192,
    "start_time": "2023-09-05T13:49:25.705Z"
   },
   {
    "duration": 390,
    "start_time": "2023-09-05T13:49:31.051Z"
   },
   {
    "duration": 19,
    "start_time": "2023-09-05T13:49:33.497Z"
   },
   {
    "duration": 25,
    "start_time": "2023-09-05T13:49:34.401Z"
   },
   {
    "duration": 12,
    "start_time": "2023-09-05T13:49:35.838Z"
   },
   {
    "duration": 10,
    "start_time": "2023-09-05T13:49:37.644Z"
   },
   {
    "duration": 6,
    "start_time": "2023-09-05T13:49:43.242Z"
   },
   {
    "duration": 4,
    "start_time": "2023-09-05T13:49:44.516Z"
   },
   {
    "duration": 253,
    "start_time": "2023-09-05T13:49:46.706Z"
   },
   {
    "duration": 216,
    "start_time": "2023-09-05T13:49:47.600Z"
   },
   {
    "duration": 68,
    "start_time": "2023-09-05T13:49:50.709Z"
   },
   {
    "duration": 3,
    "start_time": "2023-09-05T13:49:52.992Z"
   },
   {
    "duration": 21,
    "start_time": "2023-09-05T13:49:57.540Z"
   },
   {
    "duration": 33,
    "start_time": "2023-09-05T13:56:33.771Z"
   },
   {
    "duration": 4,
    "start_time": "2023-09-05T13:56:35.654Z"
   },
   {
    "duration": 3,
    "start_time": "2023-09-05T13:56:40.698Z"
   },
   {
    "duration": 92,
    "start_time": "2023-09-05T13:56:44.350Z"
   },
   {
    "duration": 56,
    "start_time": "2023-09-05T13:56:45.291Z"
   },
   {
    "duration": 5,
    "start_time": "2023-09-05T13:56:47.233Z"
   },
   {
    "duration": 3,
    "start_time": "2023-09-05T13:56:52.373Z"
   },
   {
    "duration": 2166,
    "start_time": "2023-09-05T13:56:53.722Z"
   },
   {
    "duration": 110,
    "start_time": "2023-09-05T13:57:15.169Z"
   },
   {
    "duration": 4,
    "start_time": "2023-09-05T13:57:18.580Z"
   },
   {
    "duration": 3104,
    "start_time": "2023-09-05T13:58:32.073Z"
   },
   {
    "duration": 6,
    "start_time": "2023-09-05T13:58:36.369Z"
   },
   {
    "duration": 9018,
    "start_time": "2023-09-05T13:58:45.992Z"
   },
   {
    "duration": 5,
    "start_time": "2023-09-05T13:58:55.012Z"
   },
   {
    "duration": 48794,
    "start_time": "2023-09-05T13:59:04.970Z"
   },
   {
    "duration": 4,
    "start_time": "2023-09-05T13:59:53.766Z"
   },
   {
    "duration": 114689,
    "start_time": "2023-09-05T14:00:03.878Z"
   },
   {
    "duration": 4,
    "start_time": "2023-09-05T14:01:58.569Z"
   },
   {
    "duration": 10,
    "start_time": "2023-09-05T14:02:03.547Z"
   },
   {
    "duration": 32,
    "start_time": "2023-09-05T14:02:11.279Z"
   },
   {
    "duration": 17,
    "start_time": "2023-09-05T14:02:13.373Z"
   },
   {
    "duration": 5,
    "start_time": "2023-09-05T14:02:31.052Z"
   },
   {
    "duration": 132,
    "start_time": "2023-09-05T14:02:31.891Z"
   },
   {
    "duration": 126,
    "start_time": "2023-09-05T14:02:36.733Z"
   },
   {
    "duration": 11,
    "start_time": "2023-09-05T14:02:40.342Z"
   },
   {
    "duration": 932,
    "start_time": "2023-09-05T14:03:08.574Z"
   },
   {
    "duration": 3159,
    "start_time": "2023-09-05T14:03:14.199Z"
   },
   {
    "duration": 128,
    "start_time": "2023-09-05T14:08:48.473Z"
   },
   {
    "duration": 3,
    "start_time": "2023-09-05T14:09:03.735Z"
   },
   {
    "duration": 5,
    "start_time": "2023-09-05T14:09:09.187Z"
   },
   {
    "duration": 7,
    "start_time": "2023-09-05T14:11:07.517Z"
   },
   {
    "duration": 10,
    "start_time": "2023-09-05T14:11:42.819Z"
   },
   {
    "duration": 11,
    "start_time": "2023-09-05T14:12:09.103Z"
   },
   {
    "duration": 10,
    "start_time": "2023-09-05T14:12:15.883Z"
   },
   {
    "duration": 12,
    "start_time": "2023-09-05T14:14:04.386Z"
   },
   {
    "duration": 5,
    "start_time": "2023-09-05T14:14:24.630Z"
   },
   {
    "duration": 11,
    "start_time": "2023-09-05T14:14:32.036Z"
   },
   {
    "duration": 12,
    "start_time": "2023-09-05T14:14:41.576Z"
   },
   {
    "duration": 13,
    "start_time": "2023-09-05T14:14:51.943Z"
   },
   {
    "duration": 13,
    "start_time": "2023-09-05T14:14:58.105Z"
   },
   {
    "duration": 372,
    "start_time": "2023-09-05T14:16:20.029Z"
   },
   {
    "duration": 359,
    "start_time": "2023-09-05T14:16:56.935Z"
   },
   {
    "duration": 33,
    "start_time": "2023-09-05T14:22:19.495Z"
   },
   {
    "duration": 4,
    "start_time": "2023-09-05T14:39:11.331Z"
   },
   {
    "duration": 6,
    "start_time": "2023-09-05T14:40:24.129Z"
   },
   {
    "duration": 51,
    "start_time": "2023-09-05T14:40:24.136Z"
   },
   {
    "duration": 6,
    "start_time": "2023-09-05T14:40:24.189Z"
   },
   {
    "duration": 19,
    "start_time": "2023-09-05T14:40:24.196Z"
   },
   {
    "duration": 223,
    "start_time": "2023-09-05T14:40:24.217Z"
   },
   {
    "duration": 132,
    "start_time": "2023-09-05T14:40:24.442Z"
   },
   {
    "duration": 52,
    "start_time": "2023-09-05T14:40:24.576Z"
   },
   {
    "duration": 45,
    "start_time": "2023-09-05T14:40:24.629Z"
   },
   {
    "duration": 280,
    "start_time": "2023-09-05T14:40:24.675Z"
   },
   {
    "duration": 192,
    "start_time": "2023-09-05T14:40:24.957Z"
   },
   {
    "duration": 599,
    "start_time": "2023-09-05T14:40:25.152Z"
   },
   {
    "duration": 228,
    "start_time": "2023-09-05T14:40:25.753Z"
   },
   {
    "duration": 586,
    "start_time": "2023-09-05T14:40:25.983Z"
   },
   {
    "duration": 224,
    "start_time": "2023-09-05T14:40:26.571Z"
   },
   {
    "duration": 11526,
    "start_time": "2023-09-05T14:40:26.798Z"
   },
   {
    "duration": 198,
    "start_time": "2023-09-05T14:40:38.325Z"
   },
   {
    "duration": 201,
    "start_time": "2023-09-05T14:40:38.525Z"
   },
   {
    "duration": 416,
    "start_time": "2023-09-05T14:40:38.728Z"
   },
   {
    "duration": 19,
    "start_time": "2023-09-05T14:40:39.147Z"
   },
   {
    "duration": 29,
    "start_time": "2023-09-05T14:40:39.168Z"
   },
   {
    "duration": 10,
    "start_time": "2023-09-05T14:40:39.198Z"
   },
   {
    "duration": 11,
    "start_time": "2023-09-05T14:40:39.210Z"
   },
   {
    "duration": 27,
    "start_time": "2023-09-05T14:40:39.222Z"
   },
   {
    "duration": 4,
    "start_time": "2023-09-05T14:40:39.251Z"
   },
   {
    "duration": 254,
    "start_time": "2023-09-05T14:40:39.256Z"
   },
   {
    "duration": 197,
    "start_time": "2023-09-05T14:40:39.511Z"
   },
   {
    "duration": 71,
    "start_time": "2023-09-05T14:40:39.709Z"
   },
   {
    "duration": 4,
    "start_time": "2023-09-05T14:40:39.782Z"
   },
   {
    "duration": 25,
    "start_time": "2023-09-05T14:40:39.791Z"
   },
   {
    "duration": 86,
    "start_time": "2023-09-05T14:40:39.818Z"
   },
   {
    "duration": 4,
    "start_time": "2023-09-05T14:40:39.906Z"
   },
   {
    "duration": 5,
    "start_time": "2023-09-05T14:40:39.911Z"
   },
   {
    "duration": 115,
    "start_time": "2023-09-05T14:40:39.917Z"
   },
   {
    "duration": 71,
    "start_time": "2023-09-05T14:40:40.034Z"
   },
   {
    "duration": 5,
    "start_time": "2023-09-05T14:40:40.108Z"
   },
   {
    "duration": 15,
    "start_time": "2023-09-05T14:40:40.114Z"
   },
   {
    "duration": 1034,
    "start_time": "2023-09-05T14:40:40.131Z"
   },
   {
    "duration": 11,
    "start_time": "2023-09-05T14:40:52.185Z"
   },
   {
    "duration": 4,
    "start_time": "2023-09-05T14:40:59.236Z"
   },
   {
    "duration": 5471,
    "start_time": "2023-09-05T14:41:24.133Z"
   },
   {
    "duration": 5,
    "start_time": "2023-09-05T14:41:31.456Z"
   },
   {
    "duration": 11101,
    "start_time": "2023-09-05T14:41:41.152Z"
   },
   {
    "duration": 4,
    "start_time": "2023-09-05T14:41:52.255Z"
   },
   {
    "duration": 5,
    "start_time": "2023-09-05T14:44:20.360Z"
   },
   {
    "duration": 16,
    "start_time": "2023-09-05T14:44:20.373Z"
   },
   {
    "duration": 15,
    "start_time": "2023-09-05T14:44:20.391Z"
   },
   {
    "duration": 32,
    "start_time": "2023-09-05T14:44:20.408Z"
   },
   {
    "duration": 237,
    "start_time": "2023-09-05T14:44:20.442Z"
   },
   {
    "duration": 43,
    "start_time": "2023-09-05T14:44:20.682Z"
   },
   {
    "duration": 53,
    "start_time": "2023-09-05T14:44:20.727Z"
   },
   {
    "duration": 44,
    "start_time": "2023-09-05T14:44:20.782Z"
   },
   {
    "duration": 265,
    "start_time": "2023-09-05T14:44:20.828Z"
   },
   {
    "duration": 171,
    "start_time": "2023-09-05T14:44:21.095Z"
   },
   {
    "duration": 564,
    "start_time": "2023-09-05T14:44:21.269Z"
   },
   {
    "duration": 220,
    "start_time": "2023-09-05T14:44:21.835Z"
   },
   {
    "duration": 3489,
    "start_time": "2023-09-05T14:44:22.057Z"
   },
   {
    "duration": 261,
    "start_time": "2023-09-05T14:44:25.548Z"
   },
   {
    "duration": 11793,
    "start_time": "2023-09-05T14:44:25.812Z"
   },
   {
    "duration": 223,
    "start_time": "2023-09-05T14:44:37.607Z"
   },
   {
    "duration": 219,
    "start_time": "2023-09-05T14:44:37.832Z"
   },
   {
    "duration": 465,
    "start_time": "2023-09-05T14:44:38.052Z"
   },
   {
    "duration": 27,
    "start_time": "2023-09-05T14:44:38.519Z"
   },
   {
    "duration": 20,
    "start_time": "2023-09-05T14:44:38.548Z"
   },
   {
    "duration": 13,
    "start_time": "2023-09-05T14:44:38.570Z"
   },
   {
    "duration": 10,
    "start_time": "2023-09-05T14:44:38.585Z"
   },
   {
    "duration": 7,
    "start_time": "2023-09-05T14:44:38.597Z"
   },
   {
    "duration": 7,
    "start_time": "2023-09-05T14:44:38.605Z"
   },
   {
    "duration": 301,
    "start_time": "2023-09-05T14:44:38.613Z"
   },
   {
    "duration": 222,
    "start_time": "2023-09-05T14:44:38.916Z"
   },
   {
    "duration": 73,
    "start_time": "2023-09-05T14:44:39.147Z"
   },
   {
    "duration": 3,
    "start_time": "2023-09-05T14:44:39.222Z"
   },
   {
    "duration": 35,
    "start_time": "2023-09-05T14:44:39.227Z"
   },
   {
    "duration": 106,
    "start_time": "2023-09-05T14:44:39.264Z"
   },
   {
    "duration": 4,
    "start_time": "2023-09-05T14:44:39.371Z"
   },
   {
    "duration": 11,
    "start_time": "2023-09-05T14:44:39.377Z"
   },
   {
    "duration": 112,
    "start_time": "2023-09-05T14:44:39.389Z"
   },
   {
    "duration": 65,
    "start_time": "2023-09-05T14:44:39.503Z"
   },
   {
    "duration": 5,
    "start_time": "2023-09-05T14:44:39.570Z"
   },
   {
    "duration": 8,
    "start_time": "2023-09-05T14:44:39.577Z"
   },
   {
    "duration": 802,
    "start_time": "2023-09-05T14:44:39.587Z"
   },
   {
    "duration": 1095,
    "start_time": "2023-09-05T14:45:26.176Z"
   },
   {
    "duration": 117,
    "start_time": "2023-09-05T14:45:52.699Z"
   },
   {
    "duration": 4,
    "start_time": "2023-09-05T14:45:57.094Z"
   },
   {
    "duration": 5514,
    "start_time": "2023-09-05T14:46:02.703Z"
   },
   {
    "duration": 5,
    "start_time": "2023-09-05T14:46:08.219Z"
   },
   {
    "duration": 10980,
    "start_time": "2023-09-05T14:46:08.226Z"
   },
   {
    "duration": 4,
    "start_time": "2023-09-05T14:46:19.209Z"
   },
   {
    "duration": 51644,
    "start_time": "2023-09-05T14:46:19.216Z"
   },
   {
    "duration": 4,
    "start_time": "2023-09-05T14:47:10.862Z"
   },
   {
    "duration": 119287,
    "start_time": "2023-09-05T14:47:10.868Z"
   },
   {
    "duration": 5,
    "start_time": "2023-09-05T14:49:10.158Z"
   },
   {
    "duration": 23,
    "start_time": "2023-09-05T14:49:10.166Z"
   },
   {
    "duration": 5,
    "start_time": "2023-09-05T14:51:15.125Z"
   },
   {
    "duration": 681,
    "start_time": "2023-09-05T14:53:54.018Z"
   },
   {
    "duration": 5,
    "start_time": "2023-09-05T14:54:00.393Z"
   },
   {
    "duration": 1844,
    "start_time": "2023-09-05T14:54:06.273Z"
   },
   {
    "duration": 4,
    "start_time": "2023-09-05T14:54:09.249Z"
   },
   {
    "duration": 1896,
    "start_time": "2023-09-05T14:54:13.639Z"
   },
   {
    "duration": 14,
    "start_time": "2023-09-05T14:54:15.537Z"
   },
   {
    "duration": 135495,
    "start_time": "2023-09-05T14:54:33.273Z"
   },
   {
    "duration": 5,
    "start_time": "2023-09-05T14:56:48.771Z"
   },
   {
    "duration": 4,
    "start_time": "2023-09-05T14:57:40.758Z"
   },
   {
    "duration": 10,
    "start_time": "2023-09-05T14:57:40.771Z"
   },
   {
    "duration": 8,
    "start_time": "2023-09-05T14:57:40.783Z"
   },
   {
    "duration": 46,
    "start_time": "2023-09-05T14:57:40.793Z"
   },
   {
    "duration": 228,
    "start_time": "2023-09-05T14:57:40.841Z"
   },
   {
    "duration": 46,
    "start_time": "2023-09-05T14:57:41.072Z"
   },
   {
    "duration": 53,
    "start_time": "2023-09-05T14:57:41.120Z"
   },
   {
    "duration": 47,
    "start_time": "2023-09-05T14:57:41.175Z"
   },
   {
    "duration": 266,
    "start_time": "2023-09-05T14:57:41.224Z"
   },
   {
    "duration": 180,
    "start_time": "2023-09-05T14:57:41.492Z"
   },
   {
    "duration": 604,
    "start_time": "2023-09-05T14:57:41.674Z"
   },
   {
    "duration": 228,
    "start_time": "2023-09-05T14:57:42.280Z"
   },
   {
    "duration": 592,
    "start_time": "2023-09-05T14:57:42.510Z"
   },
   {
    "duration": 221,
    "start_time": "2023-09-05T14:57:43.104Z"
   },
   {
    "duration": 11654,
    "start_time": "2023-09-05T14:57:43.330Z"
   },
   {
    "duration": 204,
    "start_time": "2023-09-05T14:57:54.985Z"
   },
   {
    "duration": 230,
    "start_time": "2023-09-05T14:57:55.191Z"
   },
   {
    "duration": 402,
    "start_time": "2023-09-05T14:57:55.423Z"
   },
   {
    "duration": 26,
    "start_time": "2023-09-05T14:57:55.827Z"
   },
   {
    "duration": 18,
    "start_time": "2023-09-05T14:57:55.855Z"
   },
   {
    "duration": 10,
    "start_time": "2023-09-05T14:57:55.875Z"
   },
   {
    "duration": 16,
    "start_time": "2023-09-05T14:57:55.887Z"
   },
   {
    "duration": 7,
    "start_time": "2023-09-05T14:57:55.905Z"
   },
   {
    "duration": 35,
    "start_time": "2023-09-05T14:57:55.914Z"
   },
   {
    "duration": 270,
    "start_time": "2023-09-05T14:57:55.951Z"
   },
   {
    "duration": 183,
    "start_time": "2023-09-05T14:57:56.223Z"
   },
   {
    "duration": 70,
    "start_time": "2023-09-05T14:57:56.408Z"
   },
   {
    "duration": 8,
    "start_time": "2023-09-05T14:57:56.481Z"
   },
   {
    "duration": 25,
    "start_time": "2023-09-05T14:57:56.490Z"
   },
   {
    "duration": 81,
    "start_time": "2023-09-05T14:57:56.517Z"
   },
   {
    "duration": 5,
    "start_time": "2023-09-05T14:57:56.600Z"
   },
   {
    "duration": 6,
    "start_time": "2023-09-05T14:57:56.607Z"
   },
   {
    "duration": 108,
    "start_time": "2023-09-05T14:57:56.616Z"
   },
   {
    "duration": 67,
    "start_time": "2023-09-05T14:57:56.726Z"
   },
   {
    "duration": 4,
    "start_time": "2023-09-05T14:57:56.795Z"
   },
   {
    "duration": 9,
    "start_time": "2023-09-05T14:57:56.801Z"
   },
   {
    "duration": 1038,
    "start_time": "2023-09-05T14:57:56.812Z"
   },
   {
    "duration": 3,
    "start_time": "2023-09-05T14:57:57.852Z"
   },
   {
    "duration": 5,
    "start_time": "2023-09-05T14:57:57.857Z"
   },
   {
    "duration": 5,
    "start_time": "2023-09-05T14:57:57.863Z"
   },
   {
    "duration": 5,
    "start_time": "2023-09-05T14:57:57.870Z"
   },
   {
    "duration": 142,
    "start_time": "2023-09-05T14:57:57.880Z"
   },
   {
    "duration": 5,
    "start_time": "2023-09-05T14:57:58.024Z"
   },
   {
    "duration": 1907,
    "start_time": "2023-09-05T14:57:58.031Z"
   },
   {
    "duration": 7,
    "start_time": "2023-09-05T14:57:59.940Z"
   },
   {
    "duration": 5613,
    "start_time": "2023-09-05T14:57:59.949Z"
   },
   {
    "duration": 4,
    "start_time": "2023-09-05T14:58:05.564Z"
   },
   {
    "duration": 10885,
    "start_time": "2023-09-05T14:58:05.571Z"
   },
   {
    "duration": 5,
    "start_time": "2023-09-05T14:58:16.458Z"
   },
   {
    "duration": 151645,
    "start_time": "2023-09-05T14:58:16.465Z"
   },
   {
    "duration": 5,
    "start_time": "2023-09-05T15:00:48.112Z"
   },
   {
    "duration": 1650,
    "start_time": "2023-09-05T15:02:08.489Z"
   },
   {
    "duration": 3,
    "start_time": "2023-09-05T15:02:10.142Z"
   },
   {
    "duration": 14,
    "start_time": "2023-09-05T15:02:10.146Z"
   },
   {
    "duration": 11461,
    "start_time": "2023-09-05T15:02:10.162Z"
   },
   {
    "duration": 233,
    "start_time": "2023-09-05T15:02:21.624Z"
   },
   {
    "duration": 44,
    "start_time": "2023-09-05T15:02:21.858Z"
   },
   {
    "duration": 53,
    "start_time": "2023-09-05T15:02:21.903Z"
   },
   {
    "duration": 45,
    "start_time": "2023-09-05T15:02:21.959Z"
   },
   {
    "duration": 283,
    "start_time": "2023-09-05T15:02:22.006Z"
   },
   {
    "duration": 149,
    "start_time": "2023-09-05T15:02:22.292Z"
   },
   {
    "duration": 599,
    "start_time": "2023-09-05T15:02:22.443Z"
   },
   {
    "duration": 208,
    "start_time": "2023-09-05T15:02:23.044Z"
   },
   {
    "duration": 591,
    "start_time": "2023-09-05T15:02:23.255Z"
   },
   {
    "duration": 240,
    "start_time": "2023-09-05T15:02:23.848Z"
   },
   {
    "duration": 11629,
    "start_time": "2023-09-05T15:02:24.093Z"
   },
   {
    "duration": 227,
    "start_time": "2023-09-05T15:02:35.724Z"
   },
   {
    "duration": 224,
    "start_time": "2023-09-05T15:02:35.953Z"
   },
   {
    "duration": 445,
    "start_time": "2023-09-05T15:02:36.179Z"
   },
   {
    "duration": 26,
    "start_time": "2023-09-05T15:02:36.626Z"
   },
   {
    "duration": 21,
    "start_time": "2023-09-05T15:02:36.654Z"
   },
   {
    "duration": 23,
    "start_time": "2023-09-05T15:02:36.677Z"
   },
   {
    "duration": 19,
    "start_time": "2023-09-05T15:02:36.702Z"
   },
   {
    "duration": 16,
    "start_time": "2023-09-05T15:02:36.723Z"
   },
   {
    "duration": 24,
    "start_time": "2023-09-05T15:02:36.746Z"
   },
   {
    "duration": 308,
    "start_time": "2023-09-05T15:02:36.772Z"
   },
   {
    "duration": 217,
    "start_time": "2023-09-05T15:02:37.082Z"
   },
   {
    "duration": 90,
    "start_time": "2023-09-05T15:02:37.302Z"
   },
   {
    "duration": 34,
    "start_time": "2023-09-05T15:02:37.395Z"
   },
   {
    "duration": 44,
    "start_time": "2023-09-05T15:02:37.430Z"
   },
   {
    "duration": 66,
    "start_time": "2023-09-05T15:02:37.476Z"
   },
   {
    "duration": 5,
    "start_time": "2023-09-05T15:02:37.544Z"
   },
   {
    "duration": 27,
    "start_time": "2023-09-05T15:02:37.550Z"
   },
   {
    "duration": 125,
    "start_time": "2023-09-05T15:02:37.579Z"
   },
   {
    "duration": 64,
    "start_time": "2023-09-05T15:02:37.705Z"
   },
   {
    "duration": 5,
    "start_time": "2023-09-05T15:02:37.771Z"
   },
   {
    "duration": 6,
    "start_time": "2023-09-05T15:02:37.777Z"
   },
   {
    "duration": 1082,
    "start_time": "2023-09-05T15:02:37.784Z"
   },
   {
    "duration": 2,
    "start_time": "2023-09-05T15:02:38.868Z"
   },
   {
    "duration": 6,
    "start_time": "2023-09-05T15:02:38.872Z"
   },
   {
    "duration": 4,
    "start_time": "2023-09-05T15:02:38.881Z"
   },
   {
    "duration": 4,
    "start_time": "2023-09-05T15:02:38.887Z"
   },
   {
    "duration": 134,
    "start_time": "2023-09-05T15:02:38.893Z"
   },
   {
    "duration": 6,
    "start_time": "2023-09-05T15:02:39.029Z"
   },
   {
    "duration": 1881,
    "start_time": "2023-09-05T15:02:39.046Z"
   },
   {
    "duration": 4,
    "start_time": "2023-09-05T15:02:40.929Z"
   },
   {
    "duration": 5793,
    "start_time": "2023-09-05T15:02:40.935Z"
   },
   {
    "duration": 5,
    "start_time": "2023-09-05T15:02:46.730Z"
   },
   {
    "duration": 11357,
    "start_time": "2023-09-05T15:02:46.746Z"
   },
   {
    "duration": 5,
    "start_time": "2023-09-05T15:02:58.105Z"
   },
   {
    "duration": 184413,
    "start_time": "2023-09-05T15:02:58.112Z"
   },
   {
    "duration": 5,
    "start_time": "2023-09-05T15:06:02.527Z"
   },
   {
    "duration": 1665,
    "start_time": "2023-09-05T15:06:13.074Z"
   },
   {
    "duration": 4,
    "start_time": "2023-09-05T15:06:14.741Z"
   },
   {
    "duration": 24,
    "start_time": "2023-09-05T15:06:14.746Z"
   },
   {
    "duration": 9755,
    "start_time": "2023-09-05T15:06:14.772Z"
   },
   {
    "duration": 206,
    "start_time": "2023-09-05T15:06:24.528Z"
   },
   {
    "duration": 43,
    "start_time": "2023-09-05T15:06:24.735Z"
   },
   {
    "duration": 51,
    "start_time": "2023-09-05T15:06:24.779Z"
   },
   {
    "duration": 44,
    "start_time": "2023-09-05T15:06:24.831Z"
   },
   {
    "duration": 269,
    "start_time": "2023-09-05T15:06:24.877Z"
   },
   {
    "duration": 177,
    "start_time": "2023-09-05T15:06:25.149Z"
   },
   {
    "duration": 595,
    "start_time": "2023-09-05T15:06:25.329Z"
   },
   {
    "duration": 203,
    "start_time": "2023-09-05T15:06:25.927Z"
   },
   {
    "duration": 572,
    "start_time": "2023-09-05T15:06:26.132Z"
   },
   {
    "duration": 215,
    "start_time": "2023-09-05T15:06:26.706Z"
   },
   {
    "duration": 11609,
    "start_time": "2023-09-05T15:06:26.922Z"
   },
   {
    "duration": 222,
    "start_time": "2023-09-05T15:06:38.533Z"
   },
   {
    "duration": 218,
    "start_time": "2023-09-05T15:06:38.757Z"
   },
   {
    "duration": 464,
    "start_time": "2023-09-05T15:06:38.976Z"
   },
   {
    "duration": 22,
    "start_time": "2023-09-05T15:06:39.448Z"
   },
   {
    "duration": 30,
    "start_time": "2023-09-05T15:06:39.472Z"
   },
   {
    "duration": 10,
    "start_time": "2023-09-05T15:06:39.504Z"
   },
   {
    "duration": 12,
    "start_time": "2023-09-05T15:06:39.516Z"
   },
   {
    "duration": 21,
    "start_time": "2023-09-05T15:06:39.529Z"
   },
   {
    "duration": 4,
    "start_time": "2023-09-05T15:06:39.552Z"
   },
   {
    "duration": 300,
    "start_time": "2023-09-05T15:06:39.557Z"
   },
   {
    "duration": 219,
    "start_time": "2023-09-05T15:06:39.858Z"
   },
   {
    "duration": 96,
    "start_time": "2023-09-05T15:06:40.079Z"
   },
   {
    "duration": 7,
    "start_time": "2023-09-05T15:06:40.180Z"
   },
   {
    "duration": 35,
    "start_time": "2023-09-05T15:06:40.189Z"
   },
   {
    "duration": 64,
    "start_time": "2023-09-05T15:06:40.226Z"
   },
   {
    "duration": 5,
    "start_time": "2023-09-05T15:06:40.292Z"
   },
   {
    "duration": 9,
    "start_time": "2023-09-05T15:06:40.299Z"
   },
   {
    "duration": 130,
    "start_time": "2023-09-05T15:06:40.310Z"
   },
   {
    "duration": 69,
    "start_time": "2023-09-05T15:06:40.442Z"
   },
   {
    "duration": 5,
    "start_time": "2023-09-05T15:06:40.513Z"
   },
   {
    "duration": 6,
    "start_time": "2023-09-05T15:06:40.519Z"
   },
   {
    "duration": 1064,
    "start_time": "2023-09-05T15:06:40.527Z"
   },
   {
    "duration": 3,
    "start_time": "2023-09-05T15:06:41.593Z"
   },
   {
    "duration": 9,
    "start_time": "2023-09-05T15:06:41.598Z"
   },
   {
    "duration": 4,
    "start_time": "2023-09-05T15:06:41.609Z"
   },
   {
    "duration": 3,
    "start_time": "2023-09-05T15:06:41.615Z"
   },
   {
    "duration": 150,
    "start_time": "2023-09-05T15:06:41.620Z"
   },
   {
    "duration": 5,
    "start_time": "2023-09-05T15:06:41.772Z"
   },
   {
    "duration": 1843,
    "start_time": "2023-09-05T15:06:41.779Z"
   },
   {
    "duration": 4,
    "start_time": "2023-09-05T15:06:43.624Z"
   },
   {
    "duration": 5916,
    "start_time": "2023-09-05T15:06:43.630Z"
   },
   {
    "duration": 5,
    "start_time": "2023-09-05T15:06:49.548Z"
   },
   {
    "duration": 11581,
    "start_time": "2023-09-05T15:06:49.555Z"
   },
   {
    "duration": 10,
    "start_time": "2023-09-05T15:07:01.138Z"
   },
   {
    "duration": 115111,
    "start_time": "2023-09-05T15:07:17.849Z"
   },
   {
    "duration": 5,
    "start_time": "2023-09-05T15:09:17.625Z"
   },
   {
    "duration": 132,
    "start_time": "2023-09-05T15:09:19.672Z"
   },
   {
    "duration": 9,
    "start_time": "2023-09-05T15:09:26.796Z"
   },
   {
    "duration": 49,
    "start_time": "2023-09-05T15:10:09.172Z"
   },
   {
    "duration": 29,
    "start_time": "2023-09-05T15:10:10.138Z"
   },
   {
    "duration": 36,
    "start_time": "2023-09-05T15:10:14.474Z"
   },
   {
    "duration": 138,
    "start_time": "2023-09-05T15:10:15.172Z"
   },
   {
    "duration": 127,
    "start_time": "2023-09-05T15:10:19.861Z"
   },
   {
    "duration": 10,
    "start_time": "2023-09-05T15:10:24.092Z"
   },
   {
    "duration": 4852,
    "start_time": "2023-09-05T15:10:33.922Z"
   },
   {
    "duration": 3,
    "start_time": "2023-09-05T15:11:40.223Z"
   },
   {
    "duration": 1021,
    "start_time": "2023-09-05T15:11:41.007Z"
   },
   {
    "duration": 2991,
    "start_time": "2023-09-05T15:11:42.031Z"
   },
   {
    "duration": 15,
    "start_time": "2023-09-05T15:11:54.821Z"
   },
   {
    "duration": 15,
    "start_time": "2023-09-05T15:12:07.774Z"
   },
   {
    "duration": 508,
    "start_time": "2023-09-05T15:12:23.407Z"
   },
   {
    "duration": 173,
    "start_time": "2023-09-05T15:12:37.307Z"
   },
   {
    "duration": 14,
    "start_time": "2023-09-05T15:12:53.145Z"
   },
   {
    "duration": 12,
    "start_time": "2023-09-05T15:12:59.249Z"
   },
   {
    "duration": 425,
    "start_time": "2023-09-05T15:13:36.322Z"
   },
   {
    "duration": 15,
    "start_time": "2023-09-05T15:16:49.833Z"
   },
   {
    "duration": 548,
    "start_time": "2023-09-05T15:17:00.492Z"
   },
   {
    "duration": 166,
    "start_time": "2023-09-05T15:17:13.776Z"
   },
   {
    "duration": 515,
    "start_time": "2023-09-05T15:20:21.158Z"
   },
   {
    "duration": 514,
    "start_time": "2023-09-05T15:20:31.012Z"
   },
   {
    "duration": 180,
    "start_time": "2023-09-05T15:20:39.500Z"
   },
   {
    "duration": 12,
    "start_time": "2023-09-05T15:29:12.611Z"
   },
   {
    "duration": 9,
    "start_time": "2023-09-05T15:30:04.513Z"
   },
   {
    "duration": 1002,
    "start_time": "2023-09-05T15:30:15.380Z"
   },
   {
    "duration": 1022,
    "start_time": "2023-09-05T16:02:20.126Z"
   },
   {
    "duration": 1399,
    "start_time": "2023-09-05T16:02:30.324Z"
   },
   {
    "duration": 3078,
    "start_time": "2023-09-05T16:09:21.014Z"
   },
   {
    "duration": 881,
    "start_time": "2023-09-05T16:09:44.396Z"
   },
   {
    "duration": 855,
    "start_time": "2023-09-05T16:10:44.190Z"
   },
   {
    "duration": 1028,
    "start_time": "2023-09-05T16:10:52.506Z"
   },
   {
    "duration": 845,
    "start_time": "2023-09-05T16:10:59.904Z"
   },
   {
    "duration": 742,
    "start_time": "2023-09-05T16:11:59.126Z"
   },
   {
    "duration": 5,
    "start_time": "2023-09-05T16:12:32.122Z"
   },
   {
    "duration": 1093,
    "start_time": "2023-09-05T16:12:41.492Z"
   },
   {
    "duration": 835,
    "start_time": "2023-09-05T16:12:54.859Z"
   },
   {
    "duration": 13,
    "start_time": "2023-09-05T16:14:11.915Z"
   },
   {
    "duration": 13,
    "start_time": "2023-09-05T16:14:18.732Z"
   },
   {
    "duration": 13,
    "start_time": "2023-09-05T16:14:23.377Z"
   },
   {
    "duration": 17,
    "start_time": "2023-09-05T16:14:29.178Z"
   },
   {
    "duration": 13,
    "start_time": "2023-09-05T16:14:36.514Z"
   },
   {
    "duration": 467,
    "start_time": "2023-09-05T16:16:03.469Z"
   },
   {
    "duration": 16,
    "start_time": "2023-09-05T16:16:10.411Z"
   },
   {
    "duration": 3222,
    "start_time": "2023-09-05T16:16:28.042Z"
   },
   {
    "duration": 16,
    "start_time": "2023-09-05T16:18:07.358Z"
   },
   {
    "duration": 5,
    "start_time": "2023-09-05T16:18:19.835Z"
   },
   {
    "duration": 12,
    "start_time": "2023-09-05T16:18:27.646Z"
   },
   {
    "duration": 64,
    "start_time": "2023-09-05T17:16:04.825Z"
   },
   {
    "duration": 93,
    "start_time": "2023-09-05T17:17:21.234Z"
   },
   {
    "duration": 93,
    "start_time": "2023-09-05T17:18:00.758Z"
   },
   {
    "duration": 4496,
    "start_time": "2023-09-05T17:18:04.680Z"
   },
   {
    "duration": 2635,
    "start_time": "2023-09-05T17:18:24.063Z"
   },
   {
    "duration": 2819,
    "start_time": "2023-09-05T17:18:33.464Z"
   },
   {
    "duration": 3,
    "start_time": "2023-09-05T17:18:46.362Z"
   },
   {
    "duration": 9,
    "start_time": "2023-09-05T17:18:46.947Z"
   },
   {
    "duration": 11487,
    "start_time": "2023-09-05T17:18:47.687Z"
   },
   {
    "duration": 224,
    "start_time": "2023-09-05T17:19:01.194Z"
   },
   {
    "duration": 43,
    "start_time": "2023-09-05T17:19:02.996Z"
   },
   {
    "duration": 56,
    "start_time": "2023-09-05T17:19:04.323Z"
   },
   {
    "duration": 58,
    "start_time": "2023-09-05T17:19:05.625Z"
   },
   {
    "duration": 285,
    "start_time": "2023-09-05T17:19:08.179Z"
   },
   {
    "duration": 161,
    "start_time": "2023-09-05T17:19:09.155Z"
   },
   {
    "duration": 603,
    "start_time": "2023-09-05T17:19:12.818Z"
   },
   {
    "duration": 209,
    "start_time": "2023-09-05T17:19:15.074Z"
   },
   {
    "duration": 595,
    "start_time": "2023-09-05T17:19:16.469Z"
   },
   {
    "duration": 224,
    "start_time": "2023-09-05T17:19:18.461Z"
   },
   {
    "duration": 11748,
    "start_time": "2023-09-05T17:19:21.912Z"
   },
   {
    "duration": 218,
    "start_time": "2023-09-05T17:19:33.662Z"
   },
   {
    "duration": 215,
    "start_time": "2023-09-05T17:19:36.065Z"
   },
   {
    "duration": 458,
    "start_time": "2023-09-05T17:19:36.905Z"
   },
   {
    "duration": 19,
    "start_time": "2023-09-05T17:19:38.185Z"
   },
   {
    "duration": 20,
    "start_time": "2023-09-05T17:19:38.724Z"
   },
   {
    "duration": 10,
    "start_time": "2023-09-05T17:19:39.787Z"
   },
   {
    "duration": 11,
    "start_time": "2023-09-05T17:19:40.617Z"
   },
   {
    "duration": 7,
    "start_time": "2023-09-05T17:19:41.720Z"
   },
   {
    "duration": 5,
    "start_time": "2023-09-05T17:19:42.183Z"
   },
   {
    "duration": 260,
    "start_time": "2023-09-05T17:19:43.197Z"
   },
   {
    "duration": 209,
    "start_time": "2023-09-05T17:19:43.826Z"
   },
   {
    "duration": 69,
    "start_time": "2023-09-05T17:19:45.106Z"
   },
   {
    "duration": 3,
    "start_time": "2023-09-05T17:19:45.589Z"
   },
   {
    "duration": 28,
    "start_time": "2023-09-05T17:19:46.089Z"
   },
   {
    "duration": 44,
    "start_time": "2023-09-05T17:19:48.515Z"
   },
   {
    "duration": 5,
    "start_time": "2023-09-05T17:19:49.491Z"
   },
   {
    "duration": 3,
    "start_time": "2023-09-05T17:19:50.620Z"
   },
   {
    "duration": 99,
    "start_time": "2023-09-05T17:19:51.620Z"
   },
   {
    "duration": 61,
    "start_time": "2023-09-05T17:19:52.165Z"
   },
   {
    "duration": 5,
    "start_time": "2023-09-05T17:19:52.707Z"
   },
   {
    "duration": 2,
    "start_time": "2023-09-05T17:19:54.063Z"
   },
   {
    "duration": 1178,
    "start_time": "2023-09-05T17:19:54.513Z"
   },
   {
    "duration": 2,
    "start_time": "2023-09-05T17:19:58.861Z"
   },
   {
    "duration": 8,
    "start_time": "2023-09-05T17:19:59.454Z"
   },
   {
    "duration": 4,
    "start_time": "2023-09-05T17:19:59.956Z"
   },
   {
    "duration": 3,
    "start_time": "2023-09-05T17:20:00.803Z"
   },
   {
    "duration": 126,
    "start_time": "2023-09-05T17:20:04.337Z"
   },
   {
    "duration": 5,
    "start_time": "2023-09-05T17:20:05.304Z"
   },
   {
    "duration": 1872,
    "start_time": "2023-09-05T17:20:05.831Z"
   },
   {
    "duration": 5,
    "start_time": "2023-09-05T17:20:09.078Z"
   },
   {
    "duration": 5900,
    "start_time": "2023-09-05T17:20:10.933Z"
   },
   {
    "duration": 6,
    "start_time": "2023-09-05T17:20:17.862Z"
   },
   {
    "duration": 11882,
    "start_time": "2023-09-05T17:20:19.810Z"
   },
   {
    "duration": 5,
    "start_time": "2023-09-05T17:20:33.067Z"
   },
   {
    "duration": 28783,
    "start_time": "2023-09-05T17:20:37.582Z"
   },
   {
    "duration": 5,
    "start_time": "2023-09-05T17:21:09.841Z"
   },
   {
    "duration": 134382,
    "start_time": "2023-09-05T17:21:13.990Z"
   },
   {
    "duration": 5,
    "start_time": "2023-09-05T17:23:32.382Z"
   },
   {
    "duration": 10,
    "start_time": "2023-09-05T17:23:55.495Z"
   },
   {
    "duration": 32,
    "start_time": "2023-09-05T17:25:03.950Z"
   },
   {
    "duration": 18,
    "start_time": "2023-09-05T17:25:14.590Z"
   },
   {
    "duration": 6,
    "start_time": "2023-09-05T17:25:27.475Z"
   },
   {
    "duration": 136,
    "start_time": "2023-09-05T17:25:41.959Z"
   },
   {
    "duration": 127,
    "start_time": "2023-09-05T17:25:48.862Z"
   },
   {
    "duration": 10,
    "start_time": "2023-09-05T17:25:52.828Z"
   },
   {
    "duration": 220,
    "start_time": "2023-09-05T17:26:07.809Z"
   },
   {
    "duration": 2691,
    "start_time": "2023-09-05T17:34:57.117Z"
   },
   {
    "duration": 6,
    "start_time": "2023-09-05T17:34:59.811Z"
   },
   {
    "duration": 17,
    "start_time": "2023-09-05T17:34:59.819Z"
   },
   {
    "duration": 6,
    "start_time": "2023-09-05T17:34:59.838Z"
   },
   {
    "duration": 18,
    "start_time": "2023-09-05T17:34:59.845Z"
   },
   {
    "duration": 264,
    "start_time": "2023-09-05T17:34:59.865Z"
   },
   {
    "duration": 47,
    "start_time": "2023-09-05T17:35:00.131Z"
   },
   {
    "duration": 56,
    "start_time": "2023-09-05T17:35:00.186Z"
   },
   {
    "duration": 49,
    "start_time": "2023-09-05T17:35:00.244Z"
   },
   {
    "duration": 315,
    "start_time": "2023-09-05T17:35:00.296Z"
   },
   {
    "duration": 157,
    "start_time": "2023-09-05T17:35:00.614Z"
   },
   {
    "duration": 5344,
    "start_time": "2023-09-05T17:35:00.773Z"
   },
   {
    "duration": 208,
    "start_time": "2023-09-05T17:35:06.119Z"
   },
   {
    "duration": 589,
    "start_time": "2023-09-05T17:35:06.329Z"
   },
   {
    "duration": 233,
    "start_time": "2023-09-05T17:35:06.920Z"
   },
   {
    "duration": 11767,
    "start_time": "2023-09-05T17:35:07.161Z"
   },
   {
    "duration": 240,
    "start_time": "2023-09-05T17:35:18.930Z"
   },
   {
    "duration": 215,
    "start_time": "2023-09-05T17:35:19.172Z"
   },
   {
    "duration": 475,
    "start_time": "2023-09-05T17:35:19.389Z"
   },
   {
    "duration": 22,
    "start_time": "2023-09-05T17:35:19.866Z"
   },
   {
    "duration": 29,
    "start_time": "2023-09-05T17:35:19.890Z"
   },
   {
    "duration": 13,
    "start_time": "2023-09-05T17:35:19.921Z"
   },
   {
    "duration": 15,
    "start_time": "2023-09-05T17:35:19.947Z"
   },
   {
    "duration": 31,
    "start_time": "2023-09-05T17:35:19.964Z"
   },
   {
    "duration": 15,
    "start_time": "2023-09-05T17:35:19.997Z"
   },
   {
    "duration": 286,
    "start_time": "2023-09-05T17:35:20.014Z"
   },
   {
    "duration": 223,
    "start_time": "2023-09-05T17:35:20.302Z"
   },
   {
    "duration": 111,
    "start_time": "2023-09-05T17:35:20.528Z"
   },
   {
    "duration": 2,
    "start_time": "2023-09-05T17:35:20.641Z"
   },
   {
    "duration": 32,
    "start_time": "2023-09-05T17:35:20.645Z"
   },
   {
    "duration": 133,
    "start_time": "2023-09-05T17:35:20.679Z"
   },
   {
    "duration": 5,
    "start_time": "2023-09-05T17:35:20.814Z"
   },
   {
    "duration": 24,
    "start_time": "2023-09-05T17:35:20.821Z"
   },
   {
    "duration": 147,
    "start_time": "2023-09-05T17:35:20.846Z"
   },
   {
    "duration": 68,
    "start_time": "2023-09-05T17:35:20.996Z"
   },
   {
    "duration": 5,
    "start_time": "2023-09-05T17:35:21.066Z"
   },
   {
    "duration": 30,
    "start_time": "2023-09-05T17:35:21.073Z"
   },
   {
    "duration": 3666,
    "start_time": "2023-09-05T17:35:21.105Z"
   },
   {
    "duration": 3137,
    "start_time": "2023-09-05T17:35:50.186Z"
   },
   {
    "duration": 1085,
    "start_time": "2023-09-05T17:36:23.310Z"
   },
   {
    "duration": 2613,
    "start_time": "2023-09-05T17:36:54.894Z"
   },
   {
    "duration": 6,
    "start_time": "2023-09-05T17:36:57.510Z"
   },
   {
    "duration": 7,
    "start_time": "2023-09-05T17:36:57.517Z"
   },
   {
    "duration": 4,
    "start_time": "2023-09-05T17:36:57.526Z"
   },
   {
    "duration": 6,
    "start_time": "2023-09-05T17:36:57.531Z"
   },
   {
    "duration": 236,
    "start_time": "2023-09-05T17:36:57.539Z"
   },
   {
    "duration": 43,
    "start_time": "2023-09-05T17:36:57.777Z"
   },
   {
    "duration": 57,
    "start_time": "2023-09-05T17:36:57.821Z"
   },
   {
    "duration": 45,
    "start_time": "2023-09-05T17:36:57.880Z"
   },
   {
    "duration": 278,
    "start_time": "2023-09-05T17:36:57.928Z"
   },
   {
    "duration": 155,
    "start_time": "2023-09-05T17:36:58.208Z"
   },
   {
    "duration": 589,
    "start_time": "2023-09-05T17:36:58.365Z"
   },
   {
    "duration": 203,
    "start_time": "2023-09-05T17:36:58.956Z"
   },
   {
    "duration": 1079,
    "start_time": "2023-09-05T17:36:59.160Z"
   },
   {
    "duration": 253,
    "start_time": "2023-09-05T17:37:00.241Z"
   },
   {
    "duration": 11791,
    "start_time": "2023-09-05T17:37:00.496Z"
   },
   {
    "duration": 221,
    "start_time": "2023-09-05T17:37:12.289Z"
   },
   {
    "duration": 213,
    "start_time": "2023-09-05T17:37:12.512Z"
   },
   {
    "duration": 433,
    "start_time": "2023-09-05T17:37:12.727Z"
   },
   {
    "duration": 19,
    "start_time": "2023-09-05T17:37:13.163Z"
   },
   {
    "duration": 34,
    "start_time": "2023-09-05T17:37:13.183Z"
   },
   {
    "duration": 13,
    "start_time": "2023-09-05T17:37:13.218Z"
   },
   {
    "duration": 18,
    "start_time": "2023-09-05T17:37:13.232Z"
   },
   {
    "duration": 8,
    "start_time": "2023-09-05T17:37:13.257Z"
   },
   {
    "duration": 6,
    "start_time": "2023-09-05T17:37:13.266Z"
   },
   {
    "duration": 245,
    "start_time": "2023-09-05T17:37:13.273Z"
   },
   {
    "duration": 189,
    "start_time": "2023-09-05T17:37:13.520Z"
   },
   {
    "duration": 72,
    "start_time": "2023-09-05T17:37:13.712Z"
   },
   {
    "duration": 3,
    "start_time": "2023-09-05T17:37:13.786Z"
   },
   {
    "duration": 69,
    "start_time": "2023-09-05T17:37:13.791Z"
   },
   {
    "duration": 99,
    "start_time": "2023-09-05T17:37:13.862Z"
   },
   {
    "duration": 4,
    "start_time": "2023-09-05T17:37:13.963Z"
   },
   {
    "duration": 15,
    "start_time": "2023-09-05T17:37:13.968Z"
   },
   {
    "duration": 123,
    "start_time": "2023-09-05T17:37:13.985Z"
   },
   {
    "duration": 68,
    "start_time": "2023-09-05T17:37:14.110Z"
   },
   {
    "duration": 4,
    "start_time": "2023-09-05T17:37:14.180Z"
   },
   {
    "duration": 39,
    "start_time": "2023-09-05T17:37:14.185Z"
   },
   {
    "duration": 1057,
    "start_time": "2023-09-05T17:37:14.226Z"
   },
   {
    "duration": 3,
    "start_time": "2023-09-05T17:37:15.285Z"
   },
   {
    "duration": 26,
    "start_time": "2023-09-05T17:37:15.290Z"
   },
   {
    "duration": 18,
    "start_time": "2023-09-05T17:37:15.318Z"
   },
   {
    "duration": 24,
    "start_time": "2023-09-05T17:37:15.338Z"
   },
   {
    "duration": 159,
    "start_time": "2023-09-05T17:37:15.367Z"
   },
   {
    "duration": 4,
    "start_time": "2023-09-05T17:37:15.528Z"
   },
   {
    "duration": 1905,
    "start_time": "2023-09-05T17:37:15.547Z"
   },
   {
    "duration": 8,
    "start_time": "2023-09-05T17:37:17.454Z"
   },
   {
    "duration": 5769,
    "start_time": "2023-09-05T17:37:17.463Z"
   },
   {
    "duration": 4,
    "start_time": "2023-09-05T17:37:23.234Z"
   },
   {
    "duration": 11487,
    "start_time": "2023-09-05T17:37:23.246Z"
   },
   {
    "duration": 4,
    "start_time": "2023-09-05T17:37:34.735Z"
   },
   {
    "duration": 29121,
    "start_time": "2023-09-05T17:37:34.740Z"
   },
   {
    "duration": 5,
    "start_time": "2023-09-05T17:38:03.863Z"
   },
   {
    "duration": 125445,
    "start_time": "2023-09-05T17:38:03.870Z"
   },
   {
    "duration": 4,
    "start_time": "2023-09-05T17:40:09.317Z"
   },
   {
    "duration": 15,
    "start_time": "2023-09-05T17:40:09.322Z"
   },
   {
    "duration": 36,
    "start_time": "2023-09-05T17:40:19.638Z"
   },
   {
    "duration": 18,
    "start_time": "2023-09-05T17:40:20.692Z"
   },
   {
    "duration": 6,
    "start_time": "2023-09-05T17:40:22.123Z"
   },
   {
    "duration": 131,
    "start_time": "2023-09-05T17:40:22.997Z"
   },
   {
    "duration": 134,
    "start_time": "2023-09-05T17:40:25.380Z"
   },
   {
    "duration": 12,
    "start_time": "2023-09-05T17:40:27.964Z"
   },
   {
    "duration": 3,
    "start_time": "2023-09-05T17:44:26.114Z"
   },
   {
    "duration": 14,
    "start_time": "2023-09-05T17:44:31.324Z"
   },
   {
    "duration": 14,
    "start_time": "2023-09-05T17:45:15.786Z"
   },
   {
    "duration": 17,
    "start_time": "2023-09-05T17:46:27.074Z"
   },
   {
    "duration": 15,
    "start_time": "2023-09-05T17:46:37.789Z"
   },
   {
    "duration": 14,
    "start_time": "2023-09-05T17:46:47.520Z"
   },
   {
    "duration": 13,
    "start_time": "2023-09-05T17:48:03.070Z"
   },
   {
    "duration": 14,
    "start_time": "2023-09-05T17:48:08.090Z"
   },
   {
    "duration": 30,
    "start_time": "2023-09-05T17:48:18.539Z"
   },
   {
    "duration": 123,
    "start_time": "2023-09-05T17:48:28.212Z"
   },
   {
    "duration": 3,
    "start_time": "2023-09-05T17:49:08.280Z"
   },
   {
    "duration": 16,
    "start_time": "2023-09-05T17:49:29.213Z"
   },
   {
    "duration": 20,
    "start_time": "2023-09-05T17:49:38.169Z"
   },
   {
    "duration": 1001,
    "start_time": "2023-09-05T17:50:00.367Z"
   },
   {
    "duration": 17,
    "start_time": "2023-09-05T17:50:08.130Z"
   },
   {
    "duration": 6,
    "start_time": "2023-09-05T17:50:13.326Z"
   },
   {
    "duration": 3585,
    "start_time": "2023-09-05T17:50:17.791Z"
   },
   {
    "duration": 26,
    "start_time": "2023-09-05T17:52:11.997Z"
   },
   {
    "duration": 2755,
    "start_time": "2023-09-05T17:53:00.219Z"
   },
   {
    "duration": 5,
    "start_time": "2023-09-05T17:53:02.978Z"
   },
   {
    "duration": 39,
    "start_time": "2023-09-05T17:53:02.985Z"
   },
   {
    "duration": 17,
    "start_time": "2023-09-05T17:53:03.027Z"
   },
   {
    "duration": 20,
    "start_time": "2023-09-05T17:53:03.046Z"
   },
   {
    "duration": 337,
    "start_time": "2023-09-05T17:53:03.067Z"
   },
   {
    "duration": 50,
    "start_time": "2023-09-05T17:53:03.406Z"
   },
   {
    "duration": 52,
    "start_time": "2023-09-05T17:53:03.458Z"
   },
   {
    "duration": 51,
    "start_time": "2023-09-05T17:53:03.512Z"
   },
   {
    "duration": 265,
    "start_time": "2023-09-05T17:53:03.566Z"
   },
   {
    "duration": 158,
    "start_time": "2023-09-05T17:53:03.833Z"
   },
   {
    "duration": 587,
    "start_time": "2023-09-05T17:53:03.993Z"
   },
   {
    "duration": 202,
    "start_time": "2023-09-05T17:53:04.581Z"
   },
   {
    "duration": 3135,
    "start_time": "2023-09-05T17:53:04.785Z"
   },
   {
    "duration": 243,
    "start_time": "2023-09-05T17:53:07.922Z"
   },
   {
    "duration": 11696,
    "start_time": "2023-09-05T17:53:08.167Z"
   },
   {
    "duration": 233,
    "start_time": "2023-09-05T17:53:19.865Z"
   },
   {
    "duration": 234,
    "start_time": "2023-09-05T17:53:20.100Z"
   },
   {
    "duration": 479,
    "start_time": "2023-09-05T17:53:20.335Z"
   },
   {
    "duration": 21,
    "start_time": "2023-09-05T17:53:20.816Z"
   },
   {
    "duration": 43,
    "start_time": "2023-09-05T17:53:20.847Z"
   },
   {
    "duration": 26,
    "start_time": "2023-09-05T17:53:20.892Z"
   },
   {
    "duration": 26,
    "start_time": "2023-09-05T17:53:20.920Z"
   },
   {
    "duration": 27,
    "start_time": "2023-09-05T17:53:20.950Z"
   },
   {
    "duration": 11,
    "start_time": "2023-09-05T17:53:20.979Z"
   },
   {
    "duration": 303,
    "start_time": "2023-09-05T17:53:20.992Z"
   },
   {
    "duration": 216,
    "start_time": "2023-09-05T17:53:21.297Z"
   },
   {
    "duration": 92,
    "start_time": "2023-09-05T17:53:21.516Z"
   },
   {
    "duration": 14,
    "start_time": "2023-09-05T17:53:21.609Z"
   },
   {
    "duration": 36,
    "start_time": "2023-09-05T17:53:21.625Z"
   },
   {
    "duration": 2671,
    "start_time": "2023-09-05T17:58:28.022Z"
   },
   {
    "duration": 6,
    "start_time": "2023-09-05T17:58:30.696Z"
   },
   {
    "duration": 59,
    "start_time": "2023-09-05T17:58:30.703Z"
   },
   {
    "duration": 44,
    "start_time": "2023-09-05T17:58:30.765Z"
   },
   {
    "duration": 49,
    "start_time": "2023-09-05T17:58:30.811Z"
   },
   {
    "duration": 288,
    "start_time": "2023-09-05T17:58:30.862Z"
   },
   {
    "duration": 44,
    "start_time": "2023-09-05T17:58:31.158Z"
   },
   {
    "duration": 69,
    "start_time": "2023-09-05T17:58:31.203Z"
   },
   {
    "duration": 95,
    "start_time": "2023-09-05T17:58:31.274Z"
   },
   {
    "duration": 340,
    "start_time": "2023-09-05T17:58:31.372Z"
   },
   {
    "duration": 155,
    "start_time": "2023-09-05T17:58:31.714Z"
   },
   {
    "duration": 596,
    "start_time": "2023-09-05T17:58:31.871Z"
   },
   {
    "duration": 217,
    "start_time": "2023-09-05T17:58:32.468Z"
   },
   {
    "duration": 599,
    "start_time": "2023-09-05T17:58:32.687Z"
   },
   {
    "duration": 229,
    "start_time": "2023-09-05T17:58:33.287Z"
   },
   {
    "duration": 11145,
    "start_time": "2023-09-05T17:58:33.517Z"
   },
   {
    "duration": 240,
    "start_time": "2023-09-05T17:58:44.664Z"
   },
   {
    "duration": 234,
    "start_time": "2023-09-05T17:58:44.905Z"
   },
   {
    "duration": 538,
    "start_time": "2023-09-05T17:58:45.141Z"
   },
   {
    "duration": 26,
    "start_time": "2023-09-05T17:58:45.681Z"
   },
   {
    "duration": 44,
    "start_time": "2023-09-05T17:58:45.709Z"
   },
   {
    "duration": 19,
    "start_time": "2023-09-05T17:58:45.759Z"
   },
   {
    "duration": 15,
    "start_time": "2023-09-05T17:58:45.781Z"
   },
   {
    "duration": 9,
    "start_time": "2023-09-05T17:58:45.799Z"
   },
   {
    "duration": 7,
    "start_time": "2023-09-05T17:58:45.810Z"
   },
   {
    "duration": 308,
    "start_time": "2023-09-05T17:58:45.819Z"
   },
   {
    "duration": 229,
    "start_time": "2023-09-05T17:58:46.129Z"
   },
   {
    "duration": 84,
    "start_time": "2023-09-05T17:58:46.363Z"
   },
   {
    "duration": 9,
    "start_time": "2023-09-05T17:58:46.449Z"
   },
   {
    "duration": 23,
    "start_time": "2023-09-05T17:58:46.461Z"
   },
   {
    "duration": 59,
    "start_time": "2023-09-05T17:58:46.486Z"
   },
   {
    "duration": 11,
    "start_time": "2023-09-05T17:58:46.550Z"
   },
   {
    "duration": 9,
    "start_time": "2023-09-05T17:58:46.563Z"
   },
   {
    "duration": 108,
    "start_time": "2023-09-05T17:58:46.574Z"
   },
   {
    "duration": 63,
    "start_time": "2023-09-05T17:58:46.684Z"
   },
   {
    "duration": 7,
    "start_time": "2023-09-05T17:58:46.749Z"
   },
   {
    "duration": 5,
    "start_time": "2023-09-05T17:58:46.764Z"
   },
   {
    "duration": 1114,
    "start_time": "2023-09-05T17:58:46.771Z"
   },
   {
    "duration": 2,
    "start_time": "2023-09-05T17:58:47.887Z"
   },
   {
    "duration": 47,
    "start_time": "2023-09-05T17:58:47.891Z"
   },
   {
    "duration": 24,
    "start_time": "2023-09-05T17:58:47.939Z"
   },
   {
    "duration": 12,
    "start_time": "2023-09-05T17:58:47.965Z"
   },
   {
    "duration": 134,
    "start_time": "2023-09-05T17:58:47.979Z"
   },
   {
    "duration": 4,
    "start_time": "2023-09-05T17:58:48.115Z"
   },
   {
    "duration": 2078,
    "start_time": "2023-09-05T17:58:48.120Z"
   },
   {
    "duration": 3,
    "start_time": "2023-09-05T17:58:50.201Z"
   },
   {
    "duration": 5699,
    "start_time": "2023-09-05T17:58:50.206Z"
   },
   {
    "duration": 4,
    "start_time": "2023-09-05T17:58:55.907Z"
   },
   {
    "duration": 11224,
    "start_time": "2023-09-05T17:58:55.913Z"
   },
   {
    "duration": 21,
    "start_time": "2023-09-05T17:59:07.139Z"
   },
   {
    "duration": 28508,
    "start_time": "2023-09-05T17:59:07.163Z"
   },
   {
    "duration": 4,
    "start_time": "2023-09-05T17:59:35.674Z"
   },
   {
    "duration": 124893,
    "start_time": "2023-09-05T17:59:35.680Z"
   },
   {
    "duration": 5,
    "start_time": "2023-09-05T18:01:40.576Z"
   },
   {
    "duration": 11,
    "start_time": "2023-09-05T18:01:40.582Z"
   },
   {
    "duration": 32,
    "start_time": "2023-09-05T18:01:40.595Z"
   },
   {
    "duration": 41,
    "start_time": "2023-09-05T18:01:40.629Z"
   },
   {
    "duration": 6,
    "start_time": "2023-09-05T18:01:40.673Z"
   },
   {
    "duration": 181,
    "start_time": "2023-09-05T18:01:40.681Z"
   },
   {
    "duration": 147,
    "start_time": "2023-09-05T18:01:40.864Z"
   },
   {
    "duration": 11,
    "start_time": "2023-09-05T18:01:41.014Z"
   },
   {
    "duration": 25,
    "start_time": "2023-09-05T18:02:11.941Z"
   },
   {
    "duration": 13,
    "start_time": "2023-09-05T18:03:01.792Z"
   },
   {
    "duration": 7397,
    "start_time": "2023-09-05T18:03:11.436Z"
   },
   {
    "duration": 7373,
    "start_time": "2023-09-05T18:04:12.230Z"
   },
   {
    "duration": 23,
    "start_time": "2023-09-05T18:04:23.849Z"
   },
   {
    "duration": 28,
    "start_time": "2023-09-05T18:16:25.432Z"
   },
   {
    "duration": 2,
    "start_time": "2023-09-05T18:16:53.010Z"
   },
   {
    "duration": 3,
    "start_time": "2023-09-05T18:17:42.659Z"
   },
   {
    "duration": 8,
    "start_time": "2023-09-05T18:17:47.905Z"
   },
   {
    "duration": 14,
    "start_time": "2023-09-05T18:18:07.992Z"
   },
   {
    "duration": 18,
    "start_time": "2023-09-05T18:18:24.040Z"
   },
   {
    "duration": 4,
    "start_time": "2023-09-05T18:18:32.866Z"
   },
   {
    "duration": 2509,
    "start_time": "2023-09-05T18:18:49.416Z"
   },
   {
    "duration": 12,
    "start_time": "2023-09-05T18:18:58.262Z"
   },
   {
    "duration": 21,
    "start_time": "2023-09-05T18:19:08.222Z"
   },
   {
    "duration": 2682,
    "start_time": "2023-09-05T18:22:16.785Z"
   },
   {
    "duration": 7,
    "start_time": "2023-09-05T18:22:19.470Z"
   },
   {
    "duration": 7,
    "start_time": "2023-09-05T18:22:19.479Z"
   },
   {
    "duration": 11,
    "start_time": "2023-09-05T18:22:19.487Z"
   },
   {
    "duration": 20,
    "start_time": "2023-09-05T18:22:19.499Z"
   },
   {
    "duration": 240,
    "start_time": "2023-09-05T18:22:19.521Z"
   },
   {
    "duration": 47,
    "start_time": "2023-09-05T18:22:19.764Z"
   },
   {
    "duration": 58,
    "start_time": "2023-09-05T18:22:19.813Z"
   },
   {
    "duration": 44,
    "start_time": "2023-09-05T18:22:19.873Z"
   },
   {
    "duration": 272,
    "start_time": "2023-09-05T18:22:19.920Z"
   },
   {
    "duration": 158,
    "start_time": "2023-09-05T18:22:20.194Z"
   },
   {
    "duration": 628,
    "start_time": "2023-09-05T18:22:20.357Z"
   },
   {
    "duration": 208,
    "start_time": "2023-09-05T18:22:20.987Z"
   },
   {
    "duration": 601,
    "start_time": "2023-09-05T18:22:21.197Z"
   },
   {
    "duration": 230,
    "start_time": "2023-09-05T18:22:21.800Z"
   },
   {
    "duration": 11735,
    "start_time": "2023-09-05T18:22:22.032Z"
   },
   {
    "duration": 209,
    "start_time": "2023-09-05T18:22:33.769Z"
   },
   {
    "duration": 209,
    "start_time": "2023-09-05T18:22:33.980Z"
   },
   {
    "duration": 415,
    "start_time": "2023-09-05T18:22:34.191Z"
   },
   {
    "duration": 19,
    "start_time": "2023-09-05T18:22:34.608Z"
   },
   {
    "duration": 36,
    "start_time": "2023-09-05T18:22:34.629Z"
   },
   {
    "duration": 10,
    "start_time": "2023-09-05T18:22:34.667Z"
   },
   {
    "duration": 20,
    "start_time": "2023-09-05T18:22:34.679Z"
   },
   {
    "duration": 18,
    "start_time": "2023-09-05T18:22:34.701Z"
   },
   {
    "duration": 4,
    "start_time": "2023-09-05T18:22:34.721Z"
   },
   {
    "duration": 268,
    "start_time": "2023-09-05T18:22:34.727Z"
   },
   {
    "duration": 199,
    "start_time": "2023-09-05T18:22:34.997Z"
   },
   {
    "duration": 92,
    "start_time": "2023-09-05T18:22:35.201Z"
   },
   {
    "duration": 3,
    "start_time": "2023-09-05T18:22:35.295Z"
   },
   {
    "duration": 35,
    "start_time": "2023-09-05T18:22:35.301Z"
   },
   {
    "duration": 130,
    "start_time": "2023-09-05T18:22:35.338Z"
   },
   {
    "duration": 9,
    "start_time": "2023-09-05T18:22:35.471Z"
   },
   {
    "duration": 8,
    "start_time": "2023-09-05T18:22:35.482Z"
   },
   {
    "duration": 126,
    "start_time": "2023-09-05T18:22:35.492Z"
   },
   {
    "duration": 67,
    "start_time": "2023-09-05T18:22:35.620Z"
   },
   {
    "duration": 5,
    "start_time": "2023-09-05T18:22:35.689Z"
   },
   {
    "duration": 25,
    "start_time": "2023-09-05T18:22:35.696Z"
   },
   {
    "duration": 3276,
    "start_time": "2023-09-05T18:22:44.227Z"
   },
   {
    "duration": 5,
    "start_time": "2023-09-05T18:25:41.623Z"
   },
   {
    "duration": 3247,
    "start_time": "2023-09-05T18:26:06.884Z"
   },
   {
    "duration": 2797,
    "start_time": "2023-09-05T18:31:53.822Z"
   },
   {
    "duration": 6,
    "start_time": "2023-09-05T18:31:56.622Z"
   },
   {
    "duration": 19,
    "start_time": "2023-09-05T18:31:56.629Z"
   },
   {
    "duration": 6,
    "start_time": "2023-09-05T18:31:56.662Z"
   },
   {
    "duration": 6,
    "start_time": "2023-09-05T18:31:56.669Z"
   },
   {
    "duration": 250,
    "start_time": "2023-09-05T18:31:56.677Z"
   },
   {
    "duration": 49,
    "start_time": "2023-09-05T18:31:56.928Z"
   },
   {
    "duration": 54,
    "start_time": "2023-09-05T18:31:56.979Z"
   },
   {
    "duration": 53,
    "start_time": "2023-09-05T18:31:57.034Z"
   },
   {
    "duration": 281,
    "start_time": "2023-09-05T18:31:57.090Z"
   },
   {
    "duration": 155,
    "start_time": "2023-09-05T18:31:57.373Z"
   },
   {
    "duration": 3673,
    "start_time": "2023-09-05T18:31:57.530Z"
   },
   {
    "duration": 209,
    "start_time": "2023-09-05T18:32:01.205Z"
   },
   {
    "duration": 592,
    "start_time": "2023-09-05T18:32:01.416Z"
   },
   {
    "duration": 254,
    "start_time": "2023-09-05T18:32:02.010Z"
   },
   {
    "duration": 11513,
    "start_time": "2023-09-05T18:32:02.267Z"
   },
   {
    "duration": 231,
    "start_time": "2023-09-05T18:32:13.783Z"
   },
   {
    "duration": 242,
    "start_time": "2023-09-05T18:32:14.016Z"
   },
   {
    "duration": 441,
    "start_time": "2023-09-05T18:32:14.262Z"
   },
   {
    "duration": 21,
    "start_time": "2023-09-05T18:32:14.705Z"
   },
   {
    "duration": 43,
    "start_time": "2023-09-05T18:32:14.728Z"
   },
   {
    "duration": 11,
    "start_time": "2023-09-05T18:32:14.774Z"
   },
   {
    "duration": 10,
    "start_time": "2023-09-05T18:32:14.787Z"
   },
   {
    "duration": 17,
    "start_time": "2023-09-05T18:32:14.799Z"
   },
   {
    "duration": 6,
    "start_time": "2023-09-05T18:32:14.817Z"
   },
   {
    "duration": 291,
    "start_time": "2023-09-05T18:32:14.824Z"
   },
   {
    "duration": 222,
    "start_time": "2023-09-05T18:32:15.116Z"
   },
   {
    "duration": 88,
    "start_time": "2023-09-05T18:32:15.349Z"
   },
   {
    "duration": 4,
    "start_time": "2023-09-05T18:32:15.438Z"
   },
   {
    "duration": 39,
    "start_time": "2023-09-05T18:32:15.443Z"
   },
   {
    "duration": 120,
    "start_time": "2023-09-05T18:32:15.484Z"
   },
   {
    "duration": 5,
    "start_time": "2023-09-05T18:32:15.606Z"
   },
   {
    "duration": 23,
    "start_time": "2023-09-05T18:32:15.614Z"
   },
   {
    "duration": 164,
    "start_time": "2023-09-05T18:32:15.638Z"
   },
   {
    "duration": 72,
    "start_time": "2023-09-05T18:32:15.804Z"
   },
   {
    "duration": 6,
    "start_time": "2023-09-05T18:32:15.878Z"
   },
   {
    "duration": 12,
    "start_time": "2023-09-05T18:32:15.886Z"
   },
   {
    "duration": 1300,
    "start_time": "2023-09-05T18:32:15.900Z"
   },
   {
    "duration": 3,
    "start_time": "2023-09-05T18:32:17.202Z"
   },
   {
    "duration": 11,
    "start_time": "2023-09-05T18:32:17.206Z"
   },
   {
    "duration": 5,
    "start_time": "2023-09-05T18:32:17.219Z"
   },
   {
    "duration": 5,
    "start_time": "2023-09-05T18:32:17.225Z"
   },
   {
    "duration": 138,
    "start_time": "2023-09-05T18:32:17.232Z"
   },
   {
    "duration": 4,
    "start_time": "2023-09-05T18:32:17.372Z"
   },
   {
    "duration": 1992,
    "start_time": "2023-09-05T18:32:17.378Z"
   },
   {
    "duration": 5,
    "start_time": "2023-09-05T18:32:19.373Z"
   },
   {
    "duration": 5848,
    "start_time": "2023-09-05T18:32:19.379Z"
   },
   {
    "duration": 6,
    "start_time": "2023-09-05T18:32:25.229Z"
   },
   {
    "duration": 11571,
    "start_time": "2023-09-05T18:32:25.237Z"
   },
   {
    "duration": 5,
    "start_time": "2023-09-05T18:32:36.810Z"
   },
   {
    "duration": 33465,
    "start_time": "2023-09-05T18:32:36.817Z"
   },
   {
    "duration": 4,
    "start_time": "2023-09-05T18:33:10.285Z"
   },
   {
    "duration": 117868,
    "start_time": "2023-09-05T18:33:10.350Z"
   },
   {
    "duration": 5,
    "start_time": "2023-09-05T18:35:08.219Z"
   },
   {
    "duration": 12,
    "start_time": "2023-09-05T18:35:08.225Z"
   },
   {
    "duration": 39,
    "start_time": "2023-09-05T18:35:08.239Z"
   },
   {
    "duration": 16,
    "start_time": "2023-09-05T18:35:08.280Z"
   },
   {
    "duration": 5,
    "start_time": "2023-09-05T18:35:08.298Z"
   },
   {
    "duration": 158,
    "start_time": "2023-09-05T18:35:08.304Z"
   },
   {
    "duration": 135,
    "start_time": "2023-09-05T18:35:08.465Z"
   },
   {
    "duration": 10,
    "start_time": "2023-09-05T18:35:08.601Z"
   },
   {
    "duration": 3,
    "start_time": "2023-09-05T18:35:37.422Z"
   },
   {
    "duration": 4,
    "start_time": "2023-09-05T18:35:38.128Z"
   },
   {
    "duration": 6,
    "start_time": "2023-09-05T18:35:38.817Z"
   },
   {
    "duration": 6,
    "start_time": "2023-09-05T18:35:53.326Z"
   },
   {
    "duration": 16,
    "start_time": "2023-09-05T18:36:56.057Z"
   },
   {
    "duration": 14,
    "start_time": "2023-09-05T18:37:14.297Z"
   },
   {
    "duration": 2380,
    "start_time": "2023-09-05T18:38:47.564Z"
   },
   {
    "duration": 12,
    "start_time": "2023-09-05T18:38:56.568Z"
   },
   {
    "duration": 13,
    "start_time": "2023-09-05T18:39:52.764Z"
   },
   {
    "duration": 12,
    "start_time": "2023-09-05T18:40:04.332Z"
   },
   {
    "duration": 4,
    "start_time": "2023-09-05T18:40:47.990Z"
   },
   {
    "duration": 16,
    "start_time": "2023-09-05T18:41:52.080Z"
   },
   {
    "duration": 6804,
    "start_time": "2023-09-05T18:42:00.244Z"
   },
   {
    "duration": 5,
    "start_time": "2023-09-05T18:42:13.071Z"
   },
   {
    "duration": 484,
    "start_time": "2023-09-05T18:44:09.698Z"
   },
   {
    "duration": 66832,
    "start_time": "2023-09-05T18:44:23.061Z"
   },
   {
    "duration": 1062,
    "start_time": "2023-09-05T18:45:45.160Z"
   },
   {
    "duration": 3047,
    "start_time": "2023-09-05T18:45:48.131Z"
   },
   {
    "duration": 2832,
    "start_time": "2023-09-05T18:48:52.742Z"
   },
   {
    "duration": 6,
    "start_time": "2023-09-05T18:48:55.576Z"
   },
   {
    "duration": 7,
    "start_time": "2023-09-05T18:48:55.584Z"
   },
   {
    "duration": 21,
    "start_time": "2023-09-05T18:48:55.593Z"
   },
   {
    "duration": 44,
    "start_time": "2023-09-05T18:48:55.616Z"
   },
   {
    "duration": 248,
    "start_time": "2023-09-05T18:48:55.662Z"
   },
   {
    "duration": 50,
    "start_time": "2023-09-05T18:48:55.912Z"
   },
   {
    "duration": 53,
    "start_time": "2023-09-05T18:48:55.965Z"
   },
   {
    "duration": 50,
    "start_time": "2023-09-05T18:48:56.020Z"
   },
   {
    "duration": 283,
    "start_time": "2023-09-05T18:48:56.073Z"
   },
   {
    "duration": 209,
    "start_time": "2023-09-05T18:48:56.359Z"
   },
   {
    "duration": 609,
    "start_time": "2023-09-05T18:48:56.570Z"
   },
   {
    "duration": 245,
    "start_time": "2023-09-05T18:48:57.181Z"
   },
   {
    "duration": 593,
    "start_time": "2023-09-05T18:48:57.428Z"
   },
   {
    "duration": 246,
    "start_time": "2023-09-05T18:48:58.023Z"
   },
   {
    "duration": 10120,
    "start_time": "2023-09-05T18:48:58.271Z"
   },
   {
    "duration": 204,
    "start_time": "2023-09-05T18:49:08.393Z"
   },
   {
    "duration": 202,
    "start_time": "2023-09-05T18:49:08.599Z"
   },
   {
    "duration": 416,
    "start_time": "2023-09-05T18:49:08.803Z"
   },
   {
    "duration": 17,
    "start_time": "2023-09-05T18:49:09.221Z"
   },
   {
    "duration": 18,
    "start_time": "2023-09-05T18:49:09.259Z"
   },
   {
    "duration": 11,
    "start_time": "2023-09-05T18:49:09.278Z"
   },
   {
    "duration": 10,
    "start_time": "2023-09-05T18:49:09.291Z"
   },
   {
    "duration": 7,
    "start_time": "2023-09-05T18:49:09.303Z"
   },
   {
    "duration": 4,
    "start_time": "2023-09-05T18:49:09.311Z"
   },
   {
    "duration": 267,
    "start_time": "2023-09-05T18:49:09.317Z"
   },
   {
    "duration": 197,
    "start_time": "2023-09-05T18:49:09.586Z"
   },
   {
    "duration": 71,
    "start_time": "2023-09-05T18:49:09.787Z"
   },
   {
    "duration": 3,
    "start_time": "2023-09-05T18:49:09.860Z"
   },
   {
    "duration": 24,
    "start_time": "2023-09-05T18:49:09.865Z"
   },
   {
    "duration": 109,
    "start_time": "2023-09-05T18:49:09.891Z"
   },
   {
    "duration": 4,
    "start_time": "2023-09-05T18:49:10.002Z"
   },
   {
    "duration": 20,
    "start_time": "2023-09-05T18:49:10.007Z"
   },
   {
    "duration": 130,
    "start_time": "2023-09-05T18:49:10.029Z"
   },
   {
    "duration": 62,
    "start_time": "2023-09-05T18:49:10.161Z"
   },
   {
    "duration": 5,
    "start_time": "2023-09-05T18:49:10.226Z"
   },
   {
    "duration": 15,
    "start_time": "2023-09-05T18:49:10.232Z"
   },
   {
    "duration": 1085,
    "start_time": "2023-09-05T18:49:10.251Z"
   },
   {
    "duration": 2,
    "start_time": "2023-09-05T18:49:11.338Z"
   },
   {
    "duration": 12,
    "start_time": "2023-09-05T18:49:11.341Z"
   },
   {
    "duration": 5,
    "start_time": "2023-09-05T18:49:11.356Z"
   },
   {
    "duration": 4,
    "start_time": "2023-09-05T18:49:11.363Z"
   },
   {
    "duration": 139,
    "start_time": "2023-09-05T18:49:11.369Z"
   },
   {
    "duration": 5,
    "start_time": "2023-09-05T18:49:11.509Z"
   },
   {
    "duration": 1984,
    "start_time": "2023-09-05T18:49:11.515Z"
   },
   {
    "duration": 4,
    "start_time": "2023-09-05T18:49:13.501Z"
   },
   {
    "duration": 5914,
    "start_time": "2023-09-05T18:49:13.507Z"
   },
   {
    "duration": 4,
    "start_time": "2023-09-05T18:49:19.423Z"
   },
   {
    "duration": 11480,
    "start_time": "2023-09-05T18:49:19.429Z"
   },
   {
    "duration": 5,
    "start_time": "2023-09-05T18:49:30.911Z"
   },
   {
    "duration": 23840,
    "start_time": "2023-09-05T18:49:30.917Z"
   },
   {
    "duration": 5,
    "start_time": "2023-09-05T18:49:54.759Z"
   },
   {
    "duration": 112780,
    "start_time": "2023-09-05T18:49:54.766Z"
   },
   {
    "duration": 5,
    "start_time": "2023-09-05T18:51:47.547Z"
   },
   {
    "duration": 27,
    "start_time": "2023-09-05T18:51:47.553Z"
   },
   {
    "duration": 58,
    "start_time": "2023-09-05T18:51:47.582Z"
   },
   {
    "duration": 17,
    "start_time": "2023-09-05T18:51:47.642Z"
   },
   {
    "duration": 13,
    "start_time": "2023-09-05T18:51:47.661Z"
   },
   {
    "duration": 171,
    "start_time": "2023-09-05T18:51:47.675Z"
   },
   {
    "duration": 164,
    "start_time": "2023-09-05T18:51:47.848Z"
   },
   {
    "duration": 11,
    "start_time": "2023-09-05T18:51:48.014Z"
   },
   {
    "duration": 3903,
    "start_time": "2023-09-05T18:51:48.026Z"
   },
   {
    "duration": 17,
    "start_time": "2023-09-05T18:51:51.931Z"
   },
   {
    "duration": 385,
    "start_time": "2023-09-05T18:51:51.950Z"
   },
   {
    "duration": 388,
    "start_time": "2023-09-05T19:18:23.969Z"
   },
   {
    "duration": 408,
    "start_time": "2023-09-05T19:19:03.934Z"
   },
   {
    "duration": 5,
    "start_time": "2023-09-05T19:36:56.914Z"
   },
   {
    "duration": 5,
    "start_time": "2023-09-05T19:36:56.921Z"
   },
   {
    "duration": 10,
    "start_time": "2023-09-05T19:36:56.928Z"
   },
   {
    "duration": 20,
    "start_time": "2023-09-05T19:36:56.940Z"
   },
   {
    "duration": 281,
    "start_time": "2023-09-05T19:36:56.962Z"
   },
   {
    "duration": 48,
    "start_time": "2023-09-05T19:36:57.248Z"
   },
   {
    "duration": 74,
    "start_time": "2023-09-05T19:36:57.298Z"
   },
   {
    "duration": 45,
    "start_time": "2023-09-05T19:36:57.374Z"
   },
   {
    "duration": 279,
    "start_time": "2023-09-05T19:36:57.421Z"
   },
   {
    "duration": 199,
    "start_time": "2023-09-05T19:36:57.701Z"
   },
   {
    "duration": 1539,
    "start_time": "2023-09-05T19:36:57.902Z"
   },
   {
    "duration": 260,
    "start_time": "2023-09-05T19:36:59.443Z"
   },
   {
    "duration": 583,
    "start_time": "2023-09-05T19:36:59.705Z"
   },
   {
    "duration": 295,
    "start_time": "2023-09-05T19:37:00.292Z"
   },
   {
    "duration": 11593,
    "start_time": "2023-09-05T19:37:00.591Z"
   },
   {
    "duration": 236,
    "start_time": "2023-09-05T19:37:12.188Z"
   },
   {
    "duration": 256,
    "start_time": "2023-09-05T19:37:12.426Z"
   },
   {
    "duration": 512,
    "start_time": "2023-09-05T19:37:12.684Z"
   },
   {
    "duration": 22,
    "start_time": "2023-09-05T19:37:13.198Z"
   },
   {
    "duration": 50,
    "start_time": "2023-09-05T19:37:13.222Z"
   },
   {
    "duration": 11,
    "start_time": "2023-09-05T19:37:13.274Z"
   },
   {
    "duration": 10,
    "start_time": "2023-09-05T19:37:13.287Z"
   },
   {
    "duration": 9,
    "start_time": "2023-09-05T19:37:13.298Z"
   },
   {
    "duration": 9,
    "start_time": "2023-09-05T19:37:13.309Z"
   },
   {
    "duration": 314,
    "start_time": "2023-09-05T19:37:13.320Z"
   },
   {
    "duration": 245,
    "start_time": "2023-09-05T19:37:13.636Z"
   },
   {
    "duration": 84,
    "start_time": "2023-09-05T19:37:13.883Z"
   },
   {
    "duration": 7,
    "start_time": "2023-09-05T19:37:13.973Z"
   },
   {
    "duration": 19,
    "start_time": "2023-09-05T19:37:13.985Z"
   },
   {
    "duration": 78,
    "start_time": "2023-09-05T19:37:14.006Z"
   },
   {
    "duration": 5,
    "start_time": "2023-09-05T19:37:14.085Z"
   },
   {
    "duration": 5,
    "start_time": "2023-09-05T19:37:14.093Z"
   },
   {
    "duration": 155,
    "start_time": "2023-09-05T19:37:14.100Z"
   },
   {
    "duration": 65,
    "start_time": "2023-09-05T19:37:14.264Z"
   },
   {
    "duration": 5,
    "start_time": "2023-09-05T19:37:14.331Z"
   },
   {
    "duration": 17,
    "start_time": "2023-09-05T19:37:14.337Z"
   },
   {
    "duration": 1372,
    "start_time": "2023-09-05T19:37:14.361Z"
   },
   {
    "duration": 2,
    "start_time": "2023-09-05T19:37:15.735Z"
   },
   {
    "duration": 8,
    "start_time": "2023-09-05T19:37:15.739Z"
   },
   {
    "duration": 16,
    "start_time": "2023-09-05T19:37:15.752Z"
   },
   {
    "duration": 4,
    "start_time": "2023-09-05T19:37:15.778Z"
   },
   {
    "duration": 141,
    "start_time": "2023-09-05T19:37:15.784Z"
   },
   {
    "duration": 5,
    "start_time": "2023-09-05T19:37:15.927Z"
   },
   {
    "duration": 2235,
    "start_time": "2023-09-05T19:37:15.947Z"
   },
   {
    "duration": 5,
    "start_time": "2023-09-05T19:37:18.183Z"
   },
   {
    "duration": 6427,
    "start_time": "2023-09-05T19:37:18.189Z"
   },
   {
    "duration": 5,
    "start_time": "2023-09-05T19:37:24.618Z"
   },
   {
    "duration": 12581,
    "start_time": "2023-09-05T19:37:24.624Z"
   },
   {
    "duration": 6,
    "start_time": "2023-09-05T19:37:37.207Z"
   },
   {
    "duration": 45986,
    "start_time": "2023-09-05T19:37:37.215Z"
   },
   {
    "duration": 51,
    "start_time": "2023-09-05T19:38:23.203Z"
   },
   {
    "duration": 127546,
    "start_time": "2023-09-05T19:38:23.259Z"
   },
   {
    "duration": 4,
    "start_time": "2023-09-05T19:40:30.806Z"
   },
   {
    "duration": 358,
    "start_time": "2023-09-05T19:40:30.812Z"
   },
   {
    "duration": 87,
    "start_time": "2023-09-05T19:40:31.173Z"
   },
   {
    "duration": 32,
    "start_time": "2023-09-05T19:40:31.262Z"
   },
   {
    "duration": 24,
    "start_time": "2023-09-05T19:40:31.295Z"
   },
   {
    "duration": 221,
    "start_time": "2023-09-05T19:40:31.320Z"
   },
   {
    "duration": 193,
    "start_time": "2023-09-05T19:40:31.543Z"
   },
   {
    "duration": 24,
    "start_time": "2023-09-05T19:40:31.738Z"
   },
   {
    "duration": 4616,
    "start_time": "2023-09-05T19:40:31.764Z"
   },
   {
    "duration": 16,
    "start_time": "2023-09-05T19:40:36.383Z"
   },
   {
    "duration": 423,
    "start_time": "2023-09-05T19:40:36.401Z"
   },
   {
    "duration": 1828,
    "start_time": "2023-09-06T13:04:46.550Z"
   },
   {
    "duration": 3,
    "start_time": "2023-09-06T13:04:48.380Z"
   },
   {
    "duration": 15,
    "start_time": "2023-09-06T13:04:48.385Z"
   },
   {
    "duration": 12246,
    "start_time": "2023-09-06T13:04:48.402Z"
   },
   {
    "duration": 241,
    "start_time": "2023-09-06T13:05:00.659Z"
   },
   {
    "duration": 52,
    "start_time": "2023-09-06T13:05:00.903Z"
   },
   {
    "duration": 53,
    "start_time": "2023-09-06T13:05:00.965Z"
   },
   {
    "duration": 52,
    "start_time": "2023-09-06T13:05:01.019Z"
   },
   {
    "duration": 293,
    "start_time": "2023-09-06T13:05:01.073Z"
   },
   {
    "duration": 154,
    "start_time": "2023-09-06T13:05:01.369Z"
   },
   {
    "duration": 659,
    "start_time": "2023-09-06T13:05:01.524Z"
   },
   {
    "duration": 221,
    "start_time": "2023-09-06T13:05:02.185Z"
   },
   {
    "duration": 597,
    "start_time": "2023-09-06T13:05:02.408Z"
   },
   {
    "duration": 211,
    "start_time": "2023-09-06T13:05:03.007Z"
   },
   {
    "duration": 10653,
    "start_time": "2023-09-06T13:05:03.220Z"
   },
   {
    "duration": 195,
    "start_time": "2023-09-06T13:05:13.874Z"
   },
   {
    "duration": 195,
    "start_time": "2023-09-06T13:05:14.071Z"
   },
   {
    "duration": 392,
    "start_time": "2023-09-06T13:05:14.267Z"
   },
   {
    "duration": 36,
    "start_time": "2023-09-06T13:05:14.660Z"
   },
   {
    "duration": 29,
    "start_time": "2023-09-06T13:05:14.697Z"
   },
   {
    "duration": 20,
    "start_time": "2023-09-06T13:05:14.728Z"
   },
   {
    "duration": 25,
    "start_time": "2023-09-06T13:05:14.753Z"
   },
   {
    "duration": 27,
    "start_time": "2023-09-06T13:05:14.780Z"
   },
   {
    "duration": 7,
    "start_time": "2023-09-06T13:05:14.808Z"
   },
   {
    "duration": 245,
    "start_time": "2023-09-06T13:05:14.817Z"
   },
   {
    "duration": 175,
    "start_time": "2023-09-06T13:05:15.067Z"
   },
   {
    "duration": 82,
    "start_time": "2023-09-06T13:05:15.244Z"
   },
   {
    "duration": 3,
    "start_time": "2023-09-06T13:05:15.330Z"
   },
   {
    "duration": 53,
    "start_time": "2023-09-06T13:05:15.334Z"
   },
   {
    "duration": 104,
    "start_time": "2023-09-06T13:05:15.388Z"
   },
   {
    "duration": 4,
    "start_time": "2023-09-06T13:05:15.494Z"
   },
   {
    "duration": 45,
    "start_time": "2023-09-06T13:05:15.500Z"
   },
   {
    "duration": 118,
    "start_time": "2023-09-06T13:05:15.547Z"
   },
   {
    "duration": 56,
    "start_time": "2023-09-06T13:05:15.666Z"
   },
   {
    "duration": 4,
    "start_time": "2023-09-06T13:05:15.724Z"
   },
   {
    "duration": 92,
    "start_time": "2023-09-06T13:05:15.730Z"
   },
   {
    "duration": 1058,
    "start_time": "2023-09-06T13:05:15.825Z"
   },
   {
    "duration": 2,
    "start_time": "2023-09-06T13:05:16.885Z"
   },
   {
    "duration": 23,
    "start_time": "2023-09-06T13:05:16.888Z"
   },
   {
    "duration": 27,
    "start_time": "2023-09-06T13:05:16.912Z"
   },
   {
    "duration": 14,
    "start_time": "2023-09-06T13:05:16.940Z"
   },
   {
    "duration": 119,
    "start_time": "2023-09-06T13:05:16.956Z"
   },
   {
    "duration": 4,
    "start_time": "2023-09-06T13:05:17.077Z"
   },
   {
    "duration": 1750,
    "start_time": "2023-09-06T13:05:17.083Z"
   },
   {
    "duration": 4,
    "start_time": "2023-09-06T13:05:18.835Z"
   },
   {
    "duration": 5215,
    "start_time": "2023-09-06T13:05:18.850Z"
   },
   {
    "duration": 6,
    "start_time": "2023-09-06T13:05:24.067Z"
   },
   {
    "duration": 10757,
    "start_time": "2023-09-06T13:05:24.074Z"
   },
   {
    "duration": 4,
    "start_time": "2023-09-06T13:05:34.833Z"
   },
   {
    "duration": 474321,
    "start_time": "2023-09-06T13:05:34.838Z"
   },
   {
    "duration": 4,
    "start_time": "2023-09-06T13:13:29.161Z"
   },
   {
    "duration": 116442,
    "start_time": "2023-09-06T13:13:29.167Z"
   },
   {
    "duration": 4,
    "start_time": "2023-09-06T13:15:25.611Z"
   },
   {
    "duration": 38,
    "start_time": "2023-09-06T13:15:25.617Z"
   },
   {
    "duration": 42,
    "start_time": "2023-09-06T13:15:25.656Z"
   },
   {
    "duration": 14,
    "start_time": "2023-09-06T13:15:25.699Z"
   },
   {
    "duration": 4,
    "start_time": "2023-09-06T13:15:25.715Z"
   },
   {
    "duration": 113,
    "start_time": "2023-09-06T13:15:25.720Z"
   },
   {
    "duration": 129,
    "start_time": "2023-09-06T13:15:25.835Z"
   },
   {
    "duration": 10,
    "start_time": "2023-09-06T13:15:25.966Z"
   },
   {
    "duration": 3675,
    "start_time": "2023-09-06T13:15:25.978Z"
   },
   {
    "duration": 7,
    "start_time": "2023-09-06T13:15:29.654Z"
   },
   {
    "duration": 341,
    "start_time": "2023-09-06T13:15:29.663Z"
   },
   {
    "duration": 1765,
    "start_time": "2023-09-06T14:44:38.170Z"
   },
   {
    "duration": 3,
    "start_time": "2023-09-06T14:44:39.938Z"
   },
   {
    "duration": 15,
    "start_time": "2023-09-06T14:44:39.943Z"
   },
   {
    "duration": 13588,
    "start_time": "2023-09-06T14:44:39.959Z"
   },
   {
    "duration": 242,
    "start_time": "2023-09-06T14:44:53.548Z"
   },
   {
    "duration": 44,
    "start_time": "2023-09-06T14:44:53.792Z"
   },
   {
    "duration": 53,
    "start_time": "2023-09-06T14:44:53.837Z"
   },
   {
    "duration": 46,
    "start_time": "2023-09-06T14:44:53.891Z"
   },
   {
    "duration": 277,
    "start_time": "2023-09-06T14:44:53.938Z"
   },
   {
    "duration": 126,
    "start_time": "2023-09-06T14:44:54.217Z"
   },
   {
    "duration": 578,
    "start_time": "2023-09-06T14:44:54.344Z"
   },
   {
    "duration": 186,
    "start_time": "2023-09-06T14:44:54.924Z"
   },
   {
    "duration": 606,
    "start_time": "2023-09-06T14:44:55.112Z"
   },
   {
    "duration": 183,
    "start_time": "2023-09-06T14:44:55.719Z"
   },
   {
    "duration": 11840,
    "start_time": "2023-09-06T14:50:12.049Z"
   },
   {
    "duration": 257,
    "start_time": "2023-09-06T14:50:46.479Z"
   },
   {
    "duration": 264,
    "start_time": "2023-09-06T14:53:27.956Z"
   },
   {
    "duration": 252,
    "start_time": "2023-09-06T14:53:54.229Z"
   },
   {
    "duration": 552,
    "start_time": "2023-09-06T14:55:08.257Z"
   },
   {
    "duration": 5,
    "start_time": "2023-09-06T14:55:51.932Z"
   },
   {
    "duration": 7,
    "start_time": "2023-09-06T14:56:03.551Z"
   },
   {
    "duration": 151,
    "start_time": "2023-09-06T14:56:16.040Z"
   },
   {
    "duration": 8,
    "start_time": "2023-09-06T14:56:55.740Z"
   },
   {
    "duration": 5,
    "start_time": "2023-09-06T14:58:09.546Z"
   },
   {
    "duration": 250,
    "start_time": "2023-09-06T14:58:34.115Z"
   },
   {
    "duration": 123,
    "start_time": "2023-09-06T14:59:37.568Z"
   },
   {
    "duration": 153,
    "start_time": "2023-09-06T14:59:44.995Z"
   },
   {
    "duration": 134,
    "start_time": "2023-09-06T14:59:50.103Z"
   },
   {
    "duration": 143,
    "start_time": "2023-09-06T14:59:54.377Z"
   },
   {
    "duration": 12,
    "start_time": "2023-09-06T15:00:25.174Z"
   },
   {
    "duration": 262,
    "start_time": "2023-09-06T15:00:31.010Z"
   },
   {
    "duration": 255,
    "start_time": "2023-09-06T15:00:49.145Z"
   },
   {
    "duration": 5,
    "start_time": "2023-09-06T15:01:01.067Z"
   },
   {
    "duration": 5,
    "start_time": "2023-09-06T15:01:04.080Z"
   },
   {
    "duration": 4,
    "start_time": "2023-09-06T15:02:17.186Z"
   },
   {
    "duration": 18,
    "start_time": "2023-09-06T15:02:17.192Z"
   },
   {
    "duration": 10,
    "start_time": "2023-09-06T15:02:17.212Z"
   },
   {
    "duration": 16,
    "start_time": "2023-09-06T15:02:17.224Z"
   },
   {
    "duration": 242,
    "start_time": "2023-09-06T15:02:17.243Z"
   },
   {
    "duration": 44,
    "start_time": "2023-09-06T15:02:17.487Z"
   },
   {
    "duration": 51,
    "start_time": "2023-09-06T15:02:17.533Z"
   },
   {
    "duration": 46,
    "start_time": "2023-09-06T15:02:17.585Z"
   },
   {
    "duration": 282,
    "start_time": "2023-09-06T15:02:17.633Z"
   },
   {
    "duration": 115,
    "start_time": "2023-09-06T15:02:17.916Z"
   },
   {
    "duration": 634,
    "start_time": "2023-09-06T15:02:18.034Z"
   },
   {
    "duration": 157,
    "start_time": "2023-09-06T15:02:18.670Z"
   },
   {
    "duration": 628,
    "start_time": "2023-09-06T15:02:18.830Z"
   },
   {
    "duration": 178,
    "start_time": "2023-09-06T15:02:19.460Z"
   },
   {
    "duration": 10351,
    "start_time": "2023-09-06T15:02:19.639Z"
   },
   {
    "duration": 297,
    "start_time": "2023-09-06T15:02:29.992Z"
   },
   {
    "duration": 280,
    "start_time": "2023-09-06T15:02:30.291Z"
   },
   {
    "duration": 566,
    "start_time": "2023-09-06T15:02:30.573Z"
   },
   {
    "duration": 5,
    "start_time": "2023-09-06T15:02:31.140Z"
   },
   {
    "duration": 153,
    "start_time": "2023-09-06T15:02:31.146Z"
   },
   {
    "duration": 7,
    "start_time": "2023-09-06T15:02:31.301Z"
   },
   {
    "duration": 36,
    "start_time": "2023-09-06T15:02:31.309Z"
   },
   {
    "duration": 158,
    "start_time": "2023-09-06T15:02:31.347Z"
   },
   {
    "duration": 90,
    "start_time": "2023-09-06T15:02:31.506Z"
   },
   {
    "duration": 257,
    "start_time": "2023-09-06T15:02:38.382Z"
   },
   {
    "duration": 265,
    "start_time": "2023-09-06T15:02:41.289Z"
   },
   {
    "duration": 25,
    "start_time": "2023-09-06T15:03:10.812Z"
   },
   {
    "duration": 48,
    "start_time": "2023-09-06T15:03:32.086Z"
   },
   {
    "duration": 148,
    "start_time": "2023-09-06T15:04:07.340Z"
   },
   {
    "duration": 266,
    "start_time": "2023-09-06T15:04:09.791Z"
   },
   {
    "duration": 264,
    "start_time": "2023-09-06T15:04:14.106Z"
   },
   {
    "duration": 20,
    "start_time": "2023-09-06T15:08:26.090Z"
   },
   {
    "duration": 37,
    "start_time": "2023-09-06T15:08:45.357Z"
   },
   {
    "duration": 134,
    "start_time": "2023-09-06T15:09:40.903Z"
   },
   {
    "duration": 254,
    "start_time": "2023-09-06T15:09:43.306Z"
   },
   {
    "duration": 280,
    "start_time": "2023-09-06T15:09:44.443Z"
   },
   {
    "duration": 26,
    "start_time": "2023-09-06T15:10:57.646Z"
   },
   {
    "duration": 48,
    "start_time": "2023-09-06T15:11:11.346Z"
   },
   {
    "duration": 163,
    "start_time": "2023-09-06T15:12:01.341Z"
   },
   {
    "duration": 258,
    "start_time": "2023-09-06T15:12:03.422Z"
   },
   {
    "duration": 282,
    "start_time": "2023-09-06T15:12:04.382Z"
   },
   {
    "duration": 27,
    "start_time": "2023-09-06T15:12:28.790Z"
   },
   {
    "duration": 53,
    "start_time": "2023-09-06T15:12:41.282Z"
   },
   {
    "duration": 186,
    "start_time": "2023-09-06T15:14:17.014Z"
   },
   {
    "duration": 53,
    "start_time": "2023-09-06T15:14:24.780Z"
   },
   {
    "duration": 116,
    "start_time": "2023-09-06T15:15:15.836Z"
   },
   {
    "duration": 260,
    "start_time": "2023-09-06T15:15:18.651Z"
   },
   {
    "duration": 257,
    "start_time": "2023-09-06T15:15:19.504Z"
   },
   {
    "duration": 1582,
    "start_time": "2023-09-06T15:16:06.762Z"
   },
   {
    "duration": 27,
    "start_time": "2023-09-06T15:16:12.688Z"
   },
   {
    "duration": 56,
    "start_time": "2023-09-06T15:16:23.422Z"
   },
   {
    "duration": 51,
    "start_time": "2023-09-06T15:17:13.560Z"
   },
   {
    "duration": 48,
    "start_time": "2023-09-06T15:17:17.761Z"
   },
   {
    "duration": 49,
    "start_time": "2023-09-06T15:17:21.530Z"
   },
   {
    "duration": 48,
    "start_time": "2023-09-06T15:17:26.649Z"
   },
   {
    "duration": 48,
    "start_time": "2023-09-06T15:22:22.973Z"
   },
   {
    "duration": 58,
    "start_time": "2023-09-06T15:22:31.594Z"
   },
   {
    "duration": 53,
    "start_time": "2023-09-06T15:24:11.618Z"
   },
   {
    "duration": 91,
    "start_time": "2023-09-06T15:24:16.757Z"
   },
   {
    "duration": 49,
    "start_time": "2023-09-06T15:24:29.220Z"
   },
   {
    "duration": 264,
    "start_time": "2023-09-06T15:24:58.407Z"
   },
   {
    "duration": 275,
    "start_time": "2023-09-06T15:24:59.103Z"
   },
   {
    "duration": 17,
    "start_time": "2023-09-06T15:25:18.534Z"
   },
   {
    "duration": 31,
    "start_time": "2023-09-06T15:25:35.632Z"
   },
   {
    "duration": 28,
    "start_time": "2023-09-06T15:26:24.975Z"
   },
   {
    "duration": 262,
    "start_time": "2023-09-06T15:26:29.283Z"
   },
   {
    "duration": 279,
    "start_time": "2023-09-06T15:26:32.260Z"
   },
   {
    "duration": 28,
    "start_time": "2023-09-06T15:26:59.379Z"
   },
   {
    "duration": 51,
    "start_time": "2023-09-06T15:27:19.620Z"
   },
   {
    "duration": 37,
    "start_time": "2023-09-06T15:28:40.225Z"
   },
   {
    "duration": 25,
    "start_time": "2023-09-06T15:30:49.832Z"
   },
   {
    "duration": 47,
    "start_time": "2023-09-06T15:31:07.815Z"
   },
   {
    "duration": 104,
    "start_time": "2023-09-06T15:32:26.330Z"
   },
   {
    "duration": 317,
    "start_time": "2023-09-06T15:33:12.605Z"
   },
   {
    "duration": 271,
    "start_time": "2023-09-06T15:33:16.355Z"
   },
   {
    "duration": 268,
    "start_time": "2023-09-06T15:33:17.908Z"
   },
   {
    "duration": 25,
    "start_time": "2023-09-06T15:33:39.888Z"
   },
   {
    "duration": 48,
    "start_time": "2023-09-06T15:33:50.005Z"
   },
   {
    "duration": 148,
    "start_time": "2023-09-06T15:34:26.528Z"
   },
   {
    "duration": 716,
    "start_time": "2023-09-06T15:35:53.183Z"
   },
   {
    "duration": 272,
    "start_time": "2023-09-06T15:35:59.192Z"
   },
   {
    "duration": 278,
    "start_time": "2023-09-06T15:36:00.167Z"
   },
   {
    "duration": 24,
    "start_time": "2023-09-06T15:36:29.924Z"
   },
   {
    "duration": 47,
    "start_time": "2023-09-06T15:36:52.578Z"
   },
   {
    "duration": 107,
    "start_time": "2023-09-06T15:37:36.116Z"
   },
   {
    "duration": 44,
    "start_time": "2023-09-06T15:38:37.474Z"
   },
   {
    "duration": 253,
    "start_time": "2023-09-06T15:39:53.778Z"
   },
   {
    "duration": 51,
    "start_time": "2023-09-06T15:40:00.966Z"
   },
   {
    "duration": 262,
    "start_time": "2023-09-06T15:40:11.091Z"
   },
   {
    "duration": 288,
    "start_time": "2023-09-06T15:40:12.511Z"
   },
   {
    "duration": 5,
    "start_time": "2023-09-06T15:40:33.833Z"
   },
   {
    "duration": 5,
    "start_time": "2023-09-06T15:40:45.046Z"
   },
   {
    "duration": 9,
    "start_time": "2023-09-06T15:41:06.523Z"
   },
   {
    "duration": 13,
    "start_time": "2023-09-06T15:41:21.023Z"
   },
   {
    "duration": 4,
    "start_time": "2023-09-06T17:26:55.457Z"
   },
   {
    "duration": 22,
    "start_time": "2023-09-06T17:26:55.464Z"
   },
   {
    "duration": 24,
    "start_time": "2023-09-06T17:26:55.487Z"
   },
   {
    "duration": 40,
    "start_time": "2023-09-06T17:26:55.512Z"
   },
   {
    "duration": 258,
    "start_time": "2023-09-06T17:26:55.554Z"
   },
   {
    "duration": 43,
    "start_time": "2023-09-06T17:26:55.814Z"
   },
   {
    "duration": 52,
    "start_time": "2023-09-06T17:26:55.859Z"
   },
   {
    "duration": 45,
    "start_time": "2023-09-06T17:26:55.912Z"
   },
   {
    "duration": 291,
    "start_time": "2023-09-06T17:26:55.959Z"
   },
   {
    "duration": 153,
    "start_time": "2023-09-06T17:26:56.252Z"
   },
   {
    "duration": 3193,
    "start_time": "2023-09-06T17:26:56.406Z"
   },
   {
    "duration": 159,
    "start_time": "2023-09-06T17:26:59.601Z"
   },
   {
    "duration": 586,
    "start_time": "2023-09-06T17:26:59.761Z"
   },
   {
    "duration": 191,
    "start_time": "2023-09-06T17:27:00.349Z"
   },
   {
    "duration": 13118,
    "start_time": "2023-09-06T17:27:00.543Z"
   },
   {
    "duration": 291,
    "start_time": "2023-09-06T17:27:13.662Z"
   },
   {
    "duration": 287,
    "start_time": "2023-09-06T17:27:13.954Z"
   },
   {
    "duration": 604,
    "start_time": "2023-09-06T17:27:14.243Z"
   },
   {
    "duration": 4,
    "start_time": "2023-09-06T17:27:14.849Z"
   },
   {
    "duration": 225,
    "start_time": "2023-09-06T17:27:14.855Z"
   },
   {
    "duration": 7,
    "start_time": "2023-09-06T17:27:15.082Z"
   },
   {
    "duration": 30,
    "start_time": "2023-09-06T17:27:15.090Z"
   },
   {
    "duration": 149,
    "start_time": "2023-09-06T17:27:15.122Z"
   },
   {
    "duration": 84,
    "start_time": "2023-09-06T17:27:15.272Z"
   },
   {
    "duration": 26,
    "start_time": "2023-09-06T17:27:15.358Z"
   },
   {
    "duration": 62,
    "start_time": "2023-09-06T17:27:15.385Z"
   },
   {
    "duration": 174,
    "start_time": "2023-09-06T17:27:15.448Z"
   },
   {
    "duration": 26,
    "start_time": "2023-09-06T17:27:15.624Z"
   },
   {
    "duration": 48,
    "start_time": "2023-09-06T17:27:15.651Z"
   },
   {
    "duration": 155,
    "start_time": "2023-09-06T17:27:15.701Z"
   },
   {
    "duration": 27,
    "start_time": "2023-09-06T17:27:15.858Z"
   },
   {
    "duration": 58,
    "start_time": "2023-09-06T17:27:15.887Z"
   },
   {
    "duration": 161,
    "start_time": "2023-09-06T17:27:15.947Z"
   },
   {
    "duration": 27,
    "start_time": "2023-09-06T17:27:16.110Z"
   },
   {
    "duration": 60,
    "start_time": "2023-09-06T17:27:16.138Z"
   },
   {
    "duration": 174,
    "start_time": "2023-09-06T17:27:16.199Z"
   },
   {
    "duration": 102,
    "start_time": "2023-09-06T17:27:16.374Z"
   },
   {
    "duration": 25,
    "start_time": "2023-09-06T17:27:16.477Z"
   },
   {
    "duration": 65,
    "start_time": "2023-09-06T17:27:16.503Z"
   },
   {
    "duration": 141,
    "start_time": "2023-09-06T17:27:16.570Z"
   },
   {
    "duration": 46,
    "start_time": "2023-09-06T17:27:16.712Z"
   },
   {
    "duration": 33,
    "start_time": "2023-09-06T17:27:16.762Z"
   },
   {
    "duration": 36,
    "start_time": "2023-09-06T17:27:16.797Z"
   },
   {
    "duration": 34,
    "start_time": "2023-09-06T17:27:16.834Z"
   },
   {
    "duration": 26,
    "start_time": "2023-09-06T17:27:16.870Z"
   },
   {
    "duration": 59,
    "start_time": "2023-09-06T17:27:16.898Z"
   },
   {
    "duration": 90,
    "start_time": "2023-09-06T17:27:16.958Z"
   },
   {
    "duration": 29,
    "start_time": "2023-09-06T17:27:17.049Z"
   },
   {
    "duration": 60,
    "start_time": "2023-09-06T17:27:17.079Z"
   },
   {
    "duration": 157,
    "start_time": "2023-09-06T17:27:17.141Z"
   },
   {
    "duration": 296,
    "start_time": "2023-09-06T17:27:17.300Z"
   },
   {
    "duration": 24,
    "start_time": "2023-09-06T17:27:17.598Z"
   },
   {
    "duration": 52,
    "start_time": "2023-09-06T17:27:17.624Z"
   },
   {
    "duration": 115,
    "start_time": "2023-09-06T17:27:17.678Z"
   },
   {
    "duration": 678,
    "start_time": "2023-09-06T17:27:17.794Z"
   },
   {
    "duration": 24,
    "start_time": "2023-09-06T17:27:18.474Z"
   },
   {
    "duration": 56,
    "start_time": "2023-09-06T17:27:18.499Z"
   },
   {
    "duration": 200,
    "start_time": "2023-09-06T17:27:18.556Z"
   },
   {
    "duration": 250,
    "start_time": "2023-09-06T17:27:18.758Z"
   },
   {
    "duration": 5,
    "start_time": "2023-09-06T17:27:19.009Z"
   },
   {
    "duration": 12,
    "start_time": "2023-09-06T17:27:19.015Z"
   },
   {
    "duration": 9,
    "start_time": "2023-09-06T17:27:19.034Z"
   },
   {
    "duration": 41,
    "start_time": "2023-09-06T17:27:19.044Z"
   },
   {
    "duration": 22,
    "start_time": "2023-09-06T17:30:14.073Z"
   },
   {
    "duration": 38,
    "start_time": "2023-09-06T17:30:26.441Z"
   },
   {
    "duration": 147,
    "start_time": "2023-09-06T17:31:56.747Z"
   },
   {
    "duration": 373,
    "start_time": "2023-09-06T17:33:21.438Z"
   },
   {
    "duration": 97,
    "start_time": "2023-09-06T17:33:52.696Z"
   },
   {
    "duration": 44,
    "start_time": "2023-09-06T17:34:04.500Z"
   },
   {
    "duration": 268,
    "start_time": "2023-09-06T17:34:15.983Z"
   },
   {
    "duration": 265,
    "start_time": "2023-09-06T17:34:17.094Z"
   },
   {
    "duration": 5,
    "start_time": "2023-09-06T17:34:56.889Z"
   },
   {
    "duration": 1386,
    "start_time": "2023-09-06T17:35:09.824Z"
   },
   {
    "duration": 7,
    "start_time": "2023-09-06T17:35:16.987Z"
   },
   {
    "duration": 19,
    "start_time": "2023-09-06T17:37:02.172Z"
   },
   {
    "duration": 277,
    "start_time": "2023-09-06T17:37:05.891Z"
   },
   {
    "duration": 264,
    "start_time": "2023-09-06T17:37:07.615Z"
   },
   {
    "duration": 15,
    "start_time": "2023-09-06T17:37:42.570Z"
   },
   {
    "duration": 26,
    "start_time": "2023-09-06T17:37:56.025Z"
   },
   {
    "duration": 29,
    "start_time": "2023-09-06T17:39:17.428Z"
   },
   {
    "duration": 267,
    "start_time": "2023-09-06T17:39:21.894Z"
   },
   {
    "duration": 288,
    "start_time": "2023-09-06T17:39:23.489Z"
   },
   {
    "duration": 16,
    "start_time": "2023-09-06T17:39:51.789Z"
   },
   {
    "duration": 26,
    "start_time": "2023-09-06T17:40:04.952Z"
   },
   {
    "duration": 5,
    "start_time": "2023-09-06T17:41:50.892Z"
   },
   {
    "duration": 8,
    "start_time": "2023-09-06T17:42:10.986Z"
   },
   {
    "duration": 222,
    "start_time": "2023-09-06T17:43:15.164Z"
   },
   {
    "duration": 7,
    "start_time": "2023-09-06T17:43:23.840Z"
   },
   {
    "duration": 45,
    "start_time": "2023-09-06T17:43:39.569Z"
   },
   {
    "duration": 5,
    "start_time": "2023-09-06T17:43:40.626Z"
   },
   {
    "duration": 10,
    "start_time": "2023-09-06T17:43:53.981Z"
   },
   {
    "duration": 179,
    "start_time": "2023-09-06T17:44:14.524Z"
   },
   {
    "duration": 4,
    "start_time": "2023-09-06T17:46:17.305Z"
   },
   {
    "duration": 8,
    "start_time": "2023-09-06T17:46:30.053Z"
   },
   {
    "duration": 4,
    "start_time": "2023-09-06T17:46:59.652Z"
   },
   {
    "duration": 5,
    "start_time": "2023-09-06T17:47:29.445Z"
   },
   {
    "duration": 7,
    "start_time": "2023-09-06T17:47:37.120Z"
   },
   {
    "duration": 12,
    "start_time": "2023-09-06T17:47:49.969Z"
   },
   {
    "duration": 10,
    "start_time": "2023-09-06T17:47:53.574Z"
   },
   {
    "duration": 6,
    "start_time": "2023-09-06T17:51:31.847Z"
   },
   {
    "duration": 7,
    "start_time": "2023-09-06T17:51:47.306Z"
   },
   {
    "duration": 7,
    "start_time": "2023-09-06T17:51:50.301Z"
   },
   {
    "duration": 5,
    "start_time": "2023-09-06T17:51:55.626Z"
   },
   {
    "duration": 10,
    "start_time": "2023-09-06T17:51:56.447Z"
   },
   {
    "duration": 4,
    "start_time": "2023-09-06T17:52:10.065Z"
   },
   {
    "duration": 77,
    "start_time": "2023-09-06T17:52:10.071Z"
   },
   {
    "duration": 13,
    "start_time": "2023-09-06T17:52:10.150Z"
   },
   {
    "duration": 23,
    "start_time": "2023-09-06T17:52:10.165Z"
   },
   {
    "duration": 248,
    "start_time": "2023-09-06T17:52:10.190Z"
   },
   {
    "duration": 43,
    "start_time": "2023-09-06T17:52:10.440Z"
   },
   {
    "duration": 52,
    "start_time": "2023-09-06T17:52:10.485Z"
   },
   {
    "duration": 46,
    "start_time": "2023-09-06T17:52:10.539Z"
   },
   {
    "duration": 281,
    "start_time": "2023-09-06T17:52:10.587Z"
   },
   {
    "duration": 123,
    "start_time": "2023-09-06T17:52:10.870Z"
   },
   {
    "duration": 2228,
    "start_time": "2023-09-06T17:52:10.996Z"
   },
   {
    "duration": 159,
    "start_time": "2023-09-06T17:52:13.226Z"
   },
   {
    "duration": 536,
    "start_time": "2023-09-06T17:52:13.387Z"
   },
   {
    "duration": 236,
    "start_time": "2023-09-06T17:52:13.925Z"
   },
   {
    "duration": 13829,
    "start_time": "2023-09-06T17:52:14.163Z"
   },
   {
    "duration": 321,
    "start_time": "2023-09-06T17:52:27.994Z"
   },
   {
    "duration": 300,
    "start_time": "2023-09-06T17:52:28.317Z"
   },
   {
    "duration": 641,
    "start_time": "2023-09-06T17:52:28.618Z"
   },
   {
    "duration": 4,
    "start_time": "2023-09-06T17:52:29.261Z"
   },
   {
    "duration": 139,
    "start_time": "2023-09-06T17:52:29.267Z"
   },
   {
    "duration": 7,
    "start_time": "2023-09-06T17:52:29.408Z"
   },
   {
    "duration": 16,
    "start_time": "2023-09-06T17:52:29.417Z"
   },
   {
    "duration": 172,
    "start_time": "2023-09-06T17:52:29.435Z"
   },
   {
    "duration": 100,
    "start_time": "2023-09-06T17:52:29.608Z"
   },
   {
    "duration": 27,
    "start_time": "2023-09-06T17:52:29.709Z"
   },
   {
    "duration": 62,
    "start_time": "2023-09-06T17:52:29.738Z"
   },
   {
    "duration": 184,
    "start_time": "2023-09-06T17:52:29.802Z"
   },
   {
    "duration": 24,
    "start_time": "2023-09-06T17:52:29.987Z"
   },
   {
    "duration": 105,
    "start_time": "2023-09-06T17:52:30.016Z"
   },
   {
    "duration": 201,
    "start_time": "2023-09-06T17:52:30.123Z"
   },
   {
    "duration": 28,
    "start_time": "2023-09-06T17:52:30.326Z"
   },
   {
    "duration": 96,
    "start_time": "2023-09-06T17:52:30.355Z"
   },
   {
    "duration": 212,
    "start_time": "2023-09-06T17:52:30.453Z"
   },
   {
    "duration": 29,
    "start_time": "2023-09-06T17:52:30.667Z"
   },
   {
    "duration": 85,
    "start_time": "2023-09-06T17:52:30.697Z"
   },
   {
    "duration": 253,
    "start_time": "2023-09-06T17:52:30.783Z"
   },
   {
    "duration": 135,
    "start_time": "2023-09-06T17:52:31.038Z"
   },
   {
    "duration": 28,
    "start_time": "2023-09-06T17:52:31.175Z"
   },
   {
    "duration": 121,
    "start_time": "2023-09-06T17:52:31.204Z"
   },
   {
    "duration": 181,
    "start_time": "2023-09-06T17:52:31.326Z"
   },
   {
    "duration": 71,
    "start_time": "2023-09-06T17:52:31.509Z"
   },
   {
    "duration": 125,
    "start_time": "2023-09-06T17:52:31.581Z"
   },
   {
    "duration": 37,
    "start_time": "2023-09-06T17:52:31.708Z"
   },
   {
    "duration": 69,
    "start_time": "2023-09-06T17:52:31.747Z"
   },
   {
    "duration": 41,
    "start_time": "2023-09-06T17:52:31.819Z"
   },
   {
    "duration": 83,
    "start_time": "2023-09-06T17:52:31.862Z"
   },
   {
    "duration": 91,
    "start_time": "2023-09-06T17:52:31.947Z"
   },
   {
    "duration": 58,
    "start_time": "2023-09-06T17:52:32.040Z"
   },
   {
    "duration": 72,
    "start_time": "2023-09-06T17:52:32.100Z"
   },
   {
    "duration": 194,
    "start_time": "2023-09-06T17:52:32.174Z"
   },
   {
    "duration": 327,
    "start_time": "2023-09-06T17:52:32.370Z"
   },
   {
    "duration": 35,
    "start_time": "2023-09-06T17:52:32.700Z"
   },
   {
    "duration": 66,
    "start_time": "2023-09-06T17:52:32.737Z"
   },
   {
    "duration": 160,
    "start_time": "2023-09-06T17:52:32.805Z"
   },
   {
    "duration": 839,
    "start_time": "2023-09-06T17:52:32.967Z"
   },
   {
    "duration": 28,
    "start_time": "2023-09-06T17:52:33.808Z"
   },
   {
    "duration": 67,
    "start_time": "2023-09-06T17:52:33.838Z"
   },
   {
    "duration": 132,
    "start_time": "2023-09-06T17:52:33.907Z"
   },
   {
    "duration": 299,
    "start_time": "2023-09-06T17:52:34.041Z"
   },
   {
    "duration": 6,
    "start_time": "2023-09-06T17:52:34.342Z"
   },
   {
    "duration": 66,
    "start_time": "2023-09-06T17:52:34.349Z"
   },
   {
    "duration": 43,
    "start_time": "2023-09-06T17:52:34.417Z"
   },
   {
    "duration": 47,
    "start_time": "2023-09-06T17:52:34.462Z"
   },
   {
    "duration": 68,
    "start_time": "2023-09-06T17:52:34.511Z"
   },
   {
    "duration": 79,
    "start_time": "2023-09-06T17:52:34.581Z"
   },
   {
    "duration": 182,
    "start_time": "2023-09-06T17:52:34.662Z"
   },
   {
    "duration": 419,
    "start_time": "2023-09-06T17:52:34.846Z"
   },
   {
    "duration": 143,
    "start_time": "2023-09-06T17:52:35.267Z"
   },
   {
    "duration": 39,
    "start_time": "2023-09-06T17:52:35.412Z"
   },
   {
    "duration": 11,
    "start_time": "2023-09-06T17:52:35.453Z"
   },
   {
    "duration": 12,
    "start_time": "2023-09-06T17:52:35.465Z"
   },
   {
    "duration": 18,
    "start_time": "2023-09-06T17:52:35.479Z"
   },
   {
    "duration": 17,
    "start_time": "2023-09-06T17:52:35.498Z"
   },
   {
    "duration": 38,
    "start_time": "2023-09-06T17:52:35.517Z"
   },
   {
    "duration": 36,
    "start_time": "2023-09-06T17:52:35.556Z"
   },
   {
    "duration": 22,
    "start_time": "2023-09-06T17:52:35.594Z"
   },
   {
    "duration": 35,
    "start_time": "2023-09-06T17:52:35.618Z"
   },
   {
    "duration": 54,
    "start_time": "2023-09-06T17:52:35.655Z"
   },
   {
    "duration": 8,
    "start_time": "2023-09-06T17:52:35.711Z"
   },
   {
    "duration": 302,
    "start_time": "2023-09-06T17:52:35.720Z"
   },
   {
    "duration": 12,
    "start_time": "2023-09-06T17:52:36.024Z"
   },
   {
    "duration": 11,
    "start_time": "2023-09-06T17:52:36.037Z"
   },
   {
    "duration": 177,
    "start_time": "2023-09-06T17:52:36.053Z"
   },
   {
    "duration": 4,
    "start_time": "2023-09-06T17:52:36.233Z"
   },
   {
    "duration": 21,
    "start_time": "2023-09-06T17:52:36.239Z"
   },
   {
    "duration": 105,
    "start_time": "2023-09-06T17:52:42.829Z"
   },
   {
    "duration": 112,
    "start_time": "2023-09-06T17:52:43.661Z"
   },
   {
    "duration": 1583,
    "start_time": "2023-09-06T17:53:57.599Z"
   },
   {
    "duration": 3,
    "start_time": "2023-09-06T17:54:04.924Z"
   },
   {
    "duration": 3,
    "start_time": "2023-09-06T17:54:05.646Z"
   },
   {
    "duration": 10807,
    "start_time": "2023-09-06T17:54:07.106Z"
   },
   {
    "duration": 230,
    "start_time": "2023-09-06T17:54:20.134Z"
   },
   {
    "duration": 44,
    "start_time": "2023-09-06T17:54:23.215Z"
   },
   {
    "duration": 54,
    "start_time": "2023-09-06T17:54:25.368Z"
   },
   {
    "duration": 46,
    "start_time": "2023-09-06T17:54:27.114Z"
   },
   {
    "duration": 275,
    "start_time": "2023-09-06T17:54:33.046Z"
   },
   {
    "duration": 123,
    "start_time": "2023-09-06T17:54:42.315Z"
   },
   {
    "duration": 579,
    "start_time": "2023-09-06T17:54:45.947Z"
   },
   {
    "duration": 165,
    "start_time": "2023-09-06T17:54:48.355Z"
   },
   {
    "duration": 592,
    "start_time": "2023-09-06T17:54:51.926Z"
   },
   {
    "duration": 224,
    "start_time": "2023-09-06T17:54:54.564Z"
   },
   {
    "duration": 11997,
    "start_time": "2023-09-06T18:07:37.372Z"
   },
   {
    "duration": 204,
    "start_time": "2023-09-06T18:08:30.217Z"
   },
   {
    "duration": 192,
    "start_time": "2023-09-06T18:08:33.001Z"
   },
   {
    "duration": 441,
    "start_time": "2023-09-06T18:08:34.677Z"
   },
   {
    "duration": 5,
    "start_time": "2023-09-06T18:08:38.026Z"
   },
   {
    "duration": 129,
    "start_time": "2023-09-06T18:08:39.897Z"
   },
   {
    "duration": 122,
    "start_time": "2023-09-06T18:09:49.167Z"
   },
   {
    "duration": 63,
    "start_time": "2023-09-06T18:10:09.570Z"
   },
   {
    "duration": 5,
    "start_time": "2023-09-06T18:11:05.978Z"
   },
   {
    "duration": 143,
    "start_time": "2023-09-06T18:11:06.740Z"
   },
   {
    "duration": 100,
    "start_time": "2023-09-06T18:12:05.377Z"
   },
   {
    "duration": 26,
    "start_time": "2023-09-06T18:13:16.196Z"
   },
   {
    "duration": 47,
    "start_time": "2023-09-06T18:13:17.751Z"
   },
   {
    "duration": 420,
    "start_time": "2023-09-06T18:14:46.704Z"
   },
   {
    "duration": 90,
    "start_time": "2023-09-06T18:14:47.997Z"
   },
   {
    "duration": 1532,
    "start_time": "2023-09-06T18:14:55.204Z"
   },
   {
    "duration": 28,
    "start_time": "2023-09-06T18:15:35.203Z"
   },
   {
    "duration": 58,
    "start_time": "2023-09-06T18:15:35.990Z"
   },
   {
    "duration": 100,
    "start_time": "2023-09-06T18:15:38.870Z"
   },
   {
    "duration": 333,
    "start_time": "2023-09-06T18:16:34.230Z"
   },
   {
    "duration": 25,
    "start_time": "2023-09-06T18:18:15.249Z"
   },
   {
    "duration": 51,
    "start_time": "2023-09-06T18:18:16.708Z"
   },
   {
    "duration": 182,
    "start_time": "2023-09-06T18:18:19.968Z"
   },
   {
    "duration": 102,
    "start_time": "2023-09-06T18:18:23.301Z"
   },
   {
    "duration": 56,
    "start_time": "2023-09-06T18:19:14.996Z"
   },
   {
    "duration": 88,
    "start_time": "2023-09-06T18:19:18.760Z"
   },
   {
    "duration": 62,
    "start_time": "2023-09-06T18:19:22.709Z"
   },
   {
    "duration": 21,
    "start_time": "2023-09-06T18:19:59.030Z"
   },
   {
    "duration": 32,
    "start_time": "2023-09-06T18:20:00.546Z"
   },
   {
    "duration": 31,
    "start_time": "2023-09-06T18:20:02.135Z"
   },
   {
    "duration": 1472,
    "start_time": "2023-09-06T18:20:08.004Z"
   },
   {
    "duration": 25,
    "start_time": "2023-09-06T18:21:04.329Z"
   },
   {
    "duration": 134,
    "start_time": "2023-09-06T18:21:04.909Z"
   },
   {
    "duration": 101,
    "start_time": "2023-09-06T18:21:08.858Z"
   },
   {
    "duration": 743,
    "start_time": "2023-09-06T18:21:10.163Z"
   },
   {
    "duration": 25,
    "start_time": "2023-09-06T18:21:51.202Z"
   },
   {
    "duration": 47,
    "start_time": "2023-09-06T18:21:51.800Z"
   },
   {
    "duration": 90,
    "start_time": "2023-09-06T18:21:54.736Z"
   },
   {
    "duration": 243,
    "start_time": "2023-09-06T18:21:58.703Z"
   },
   {
    "duration": 7,
    "start_time": "2023-09-06T18:22:18.923Z"
   },
   {
    "duration": 12,
    "start_time": "2023-09-06T18:25:02.550Z"
   },
   {
    "duration": 16,
    "start_time": "2023-09-06T18:25:03.646Z"
   },
   {
    "duration": 70,
    "start_time": "2023-09-06T18:26:23.546Z"
   },
   {
    "duration": 14,
    "start_time": "2023-09-06T18:27:30.062Z"
   },
   {
    "duration": 24,
    "start_time": "2023-09-06T18:27:31.750Z"
   },
   {
    "duration": 90,
    "start_time": "2023-09-06T18:27:32.499Z"
   },
   {
    "duration": 291,
    "start_time": "2023-09-06T18:27:33.102Z"
   },
   {
    "duration": 64,
    "start_time": "2023-09-06T18:27:45.537Z"
   },
   {
    "duration": 5,
    "start_time": "2023-09-06T18:29:30.600Z"
   },
   {
    "duration": 7,
    "start_time": "2023-09-06T18:29:32.241Z"
   },
   {
    "duration": 16,
    "start_time": "2023-09-06T18:29:33.402Z"
   },
   {
    "duration": 16,
    "start_time": "2023-09-06T18:30:00.703Z"
   },
   {
    "duration": 26,
    "start_time": "2023-09-06T18:30:01.800Z"
   },
   {
    "duration": 29,
    "start_time": "2023-09-06T18:30:04.137Z"
   },
   {
    "duration": 14,
    "start_time": "2023-09-06T18:31:49.056Z"
   },
   {
    "duration": 25,
    "start_time": "2023-09-06T18:31:50.004Z"
   },
   {
    "duration": 10,
    "start_time": "2023-09-06T18:32:08.402Z"
   },
   {
    "duration": 236,
    "start_time": "2023-09-06T18:33:07.308Z"
   },
   {
    "duration": 77,
    "start_time": "2023-09-06T18:33:29.413Z"
   },
   {
    "duration": 11752,
    "start_time": "2023-09-06T18:33:42.360Z"
   },
   {
    "duration": 202,
    "start_time": "2023-09-06T18:33:58.299Z"
   },
   {
    "duration": 208,
    "start_time": "2023-09-06T18:34:01.302Z"
   },
   {
    "duration": 441,
    "start_time": "2023-09-06T18:34:02.248Z"
   },
   {
    "duration": 178,
    "start_time": "2023-09-06T18:34:04.573Z"
   },
   {
    "duration": 52,
    "start_time": "2023-09-06T18:34:05.302Z"
   },
   {
    "duration": 6,
    "start_time": "2023-09-06T18:34:07.046Z"
   },
   {
    "duration": 154,
    "start_time": "2023-09-06T18:34:09.227Z"
   },
   {
    "duration": 94,
    "start_time": "2023-09-06T18:34:09.898Z"
   },
   {
    "duration": 24,
    "start_time": "2023-09-06T18:34:11.365Z"
   },
   {
    "duration": 50,
    "start_time": "2023-09-06T18:34:12.128Z"
   },
   {
    "duration": 464,
    "start_time": "2023-09-06T18:34:12.755Z"
   },
   {
    "duration": 99,
    "start_time": "2023-09-06T18:34:13.414Z"
   },
   {
    "duration": 30,
    "start_time": "2023-09-06T18:34:14.501Z"
   },
   {
    "duration": 47,
    "start_time": "2023-09-06T18:34:15.177Z"
   },
   {
    "duration": 124,
    "start_time": "2023-09-06T18:34:15.905Z"
   },
   {
    "duration": 322,
    "start_time": "2023-09-06T18:34:16.602Z"
   },
   {
    "duration": 26,
    "start_time": "2023-09-06T18:34:18.556Z"
   },
   {
    "duration": 52,
    "start_time": "2023-09-06T18:34:19.325Z"
   },
   {
    "duration": 176,
    "start_time": "2023-09-06T18:34:20.301Z"
   },
   {
    "duration": 95,
    "start_time": "2023-09-06T18:34:20.998Z"
   },
   {
    "duration": 53,
    "start_time": "2023-09-06T18:34:22.553Z"
   },
   {
    "duration": 91,
    "start_time": "2023-09-06T18:34:23.272Z"
   },
   {
    "duration": 18,
    "start_time": "2023-09-06T18:34:24.773Z"
   },
   {
    "duration": 32,
    "start_time": "2023-09-06T18:34:25.372Z"
   },
   {
    "duration": 28,
    "start_time": "2023-09-06T18:34:25.899Z"
   },
   {
    "duration": 29,
    "start_time": "2023-09-06T18:34:27.515Z"
   },
   {
    "duration": 51,
    "start_time": "2023-09-06T18:34:28.010Z"
   },
   {
    "duration": 118,
    "start_time": "2023-09-06T18:34:28.604Z"
   },
   {
    "duration": 709,
    "start_time": "2023-09-06T18:34:29.420Z"
   },
   {
    "duration": 28,
    "start_time": "2023-09-06T18:34:31.633Z"
   },
   {
    "duration": 53,
    "start_time": "2023-09-06T18:34:32.330Z"
   },
   {
    "duration": 96,
    "start_time": "2023-09-06T18:34:33.039Z"
   },
   {
    "duration": 296,
    "start_time": "2023-09-06T18:34:33.952Z"
   },
   {
    "duration": 6,
    "start_time": "2023-09-06T18:34:35.402Z"
   },
   {
    "duration": 11,
    "start_time": "2023-09-06T18:34:37.400Z"
   },
   {
    "duration": 13,
    "start_time": "2023-09-06T18:34:39.099Z"
   },
   {
    "duration": 74,
    "start_time": "2023-09-06T18:34:39.831Z"
   },
   {
    "duration": 14,
    "start_time": "2023-09-06T18:34:41.776Z"
   },
   {
    "duration": 25,
    "start_time": "2023-09-06T18:34:42.467Z"
   },
   {
    "duration": 84,
    "start_time": "2023-09-06T18:34:43.222Z"
   },
   {
    "duration": 315,
    "start_time": "2023-09-06T18:34:44.218Z"
   },
   {
    "duration": 93,
    "start_time": "2023-09-06T18:34:45.449Z"
   },
   {
    "duration": 5,
    "start_time": "2023-09-06T18:34:50.007Z"
   },
   {
    "duration": 8,
    "start_time": "2023-09-06T18:34:50.754Z"
   },
   {
    "duration": 17,
    "start_time": "2023-09-06T18:34:51.297Z"
   },
   {
    "duration": 21,
    "start_time": "2023-09-06T18:34:53.206Z"
   },
   {
    "duration": 25,
    "start_time": "2023-09-06T18:34:53.907Z"
   },
   {
    "duration": 24,
    "start_time": "2023-09-06T18:34:55.158Z"
   },
   {
    "duration": 17,
    "start_time": "2023-09-06T18:34:56.918Z"
   },
   {
    "duration": 25,
    "start_time": "2023-09-06T18:34:57.447Z"
   },
   {
    "duration": 219,
    "start_time": "2023-09-06T18:34:58.130Z"
   },
   {
    "duration": 4,
    "start_time": "2023-09-06T18:34:59.060Z"
   },
   {
    "duration": 8,
    "start_time": "2023-09-06T18:34:59.575Z"
   },
   {
    "duration": 64,
    "start_time": "2023-09-06T18:35:00.673Z"
   },
   {
    "duration": 6,
    "start_time": "2023-09-06T18:35:08.146Z"
   },
   {
    "duration": 9,
    "start_time": "2023-09-06T18:36:34.269Z"
   },
   {
    "duration": 168,
    "start_time": "2023-09-06T18:36:36.193Z"
   },
   {
    "duration": 7,
    "start_time": "2023-09-06T18:36:40.332Z"
   },
   {
    "duration": 8,
    "start_time": "2023-09-06T18:36:41.603Z"
   },
   {
    "duration": 6,
    "start_time": "2023-09-06T18:36:56.868Z"
   },
   {
    "duration": 5,
    "start_time": "2023-09-06T18:37:29.306Z"
   },
   {
    "duration": 6,
    "start_time": "2023-09-06T18:38:03.706Z"
   },
   {
    "duration": 4,
    "start_time": "2023-09-06T18:38:10.342Z"
   },
   {
    "duration": 6,
    "start_time": "2023-09-06T18:38:11.107Z"
   },
   {
    "duration": 6,
    "start_time": "2023-09-06T18:39:17.023Z"
   },
   {
    "duration": 7,
    "start_time": "2023-09-06T18:39:17.501Z"
   },
   {
    "duration": 9,
    "start_time": "2023-09-06T18:39:52.362Z"
   },
   {
    "duration": 5,
    "start_time": "2023-09-06T18:40:12.369Z"
   },
   {
    "duration": 7,
    "start_time": "2023-09-06T18:40:12.971Z"
   },
   {
    "duration": 6,
    "start_time": "2023-09-06T18:41:48.993Z"
   },
   {
    "duration": 68,
    "start_time": "2023-09-06T18:41:57.102Z"
   },
   {
    "duration": 73,
    "start_time": "2023-09-06T18:41:57.857Z"
   },
   {
    "duration": 5,
    "start_time": "2023-09-06T18:42:24.139Z"
   },
   {
    "duration": 54,
    "start_time": "2023-09-06T18:42:24.145Z"
   },
   {
    "duration": 21,
    "start_time": "2023-09-06T18:42:24.201Z"
   },
   {
    "duration": 16,
    "start_time": "2023-09-06T18:42:24.224Z"
   },
   {
    "duration": 250,
    "start_time": "2023-09-06T18:42:24.242Z"
   },
   {
    "duration": 44,
    "start_time": "2023-09-06T18:42:24.494Z"
   },
   {
    "duration": 57,
    "start_time": "2023-09-06T18:42:24.541Z"
   },
   {
    "duration": 70,
    "start_time": "2023-09-06T18:42:24.600Z"
   },
   {
    "duration": 272,
    "start_time": "2023-09-06T18:42:24.674Z"
   },
   {
    "duration": 130,
    "start_time": "2023-09-06T18:42:24.948Z"
   },
   {
    "duration": 615,
    "start_time": "2023-09-06T18:42:25.081Z"
   },
   {
    "duration": 163,
    "start_time": "2023-09-06T18:42:25.698Z"
   },
   {
    "duration": 2973,
    "start_time": "2023-09-06T18:42:25.863Z"
   },
   {
    "duration": 190,
    "start_time": "2023-09-06T18:42:28.837Z"
   },
   {
    "duration": 11804,
    "start_time": "2023-09-06T18:42:29.034Z"
   },
   {
    "duration": 225,
    "start_time": "2023-09-06T18:42:40.840Z"
   },
   {
    "duration": 204,
    "start_time": "2023-09-06T18:42:41.067Z"
   },
   {
    "duration": 436,
    "start_time": "2023-09-06T18:42:41.273Z"
   },
   {
    "duration": 130,
    "start_time": "2023-09-06T18:42:41.710Z"
   },
   {
    "duration": 48,
    "start_time": "2023-09-06T18:42:41.841Z"
   },
   {
    "duration": 5,
    "start_time": "2023-09-06T18:42:41.890Z"
   },
   {
    "duration": 169,
    "start_time": "2023-09-06T18:42:41.897Z"
   },
   {
    "duration": 105,
    "start_time": "2023-09-06T18:42:42.068Z"
   },
   {
    "duration": 25,
    "start_time": "2023-09-06T18:42:42.175Z"
   },
   {
    "duration": 60,
    "start_time": "2023-09-06T18:42:42.202Z"
   },
   {
    "duration": 465,
    "start_time": "2023-09-06T18:42:42.264Z"
   },
   {
    "duration": 111,
    "start_time": "2023-09-06T18:42:42.731Z"
   },
   {
    "duration": 25,
    "start_time": "2023-09-06T18:42:42.844Z"
   },
   {
    "duration": 91,
    "start_time": "2023-09-06T18:42:42.873Z"
   },
   {
    "duration": 128,
    "start_time": "2023-09-06T18:42:42.965Z"
   },
   {
    "duration": 308,
    "start_time": "2023-09-06T18:42:43.095Z"
   },
   {
    "duration": 30,
    "start_time": "2023-09-06T18:42:43.405Z"
   },
   {
    "duration": 49,
    "start_time": "2023-09-06T18:42:43.437Z"
   },
   {
    "duration": 189,
    "start_time": "2023-09-06T18:42:43.488Z"
   },
   {
    "duration": 97,
    "start_time": "2023-09-06T18:42:43.678Z"
   },
   {
    "duration": 59,
    "start_time": "2023-09-06T18:42:43.776Z"
   },
   {
    "duration": 116,
    "start_time": "2023-09-06T18:42:43.837Z"
   },
   {
    "duration": 18,
    "start_time": "2023-09-06T18:42:43.955Z"
   },
   {
    "duration": 52,
    "start_time": "2023-09-06T18:42:43.975Z"
   },
   {
    "duration": 35,
    "start_time": "2023-09-06T18:42:44.035Z"
   },
   {
    "duration": 28,
    "start_time": "2023-09-06T18:42:44.071Z"
   },
   {
    "duration": 70,
    "start_time": "2023-09-06T18:42:44.101Z"
   },
   {
    "duration": 150,
    "start_time": "2023-09-06T18:42:44.172Z"
   },
   {
    "duration": 871,
    "start_time": "2023-09-06T18:42:44.324Z"
   },
   {
    "duration": 26,
    "start_time": "2023-09-06T18:42:45.196Z"
   },
   {
    "duration": 62,
    "start_time": "2023-09-06T18:42:45.223Z"
   },
   {
    "duration": 97,
    "start_time": "2023-09-06T18:42:45.286Z"
   },
   {
    "duration": 211,
    "start_time": "2023-09-06T18:42:45.385Z"
   },
   {
    "duration": 6,
    "start_time": "2023-09-06T18:42:45.598Z"
   },
   {
    "duration": 12,
    "start_time": "2023-09-06T18:42:45.606Z"
   },
   {
    "duration": 23,
    "start_time": "2023-09-06T18:42:45.619Z"
   },
   {
    "duration": 73,
    "start_time": "2023-09-06T18:42:45.644Z"
   },
   {
    "duration": 28,
    "start_time": "2023-09-06T18:42:45.719Z"
   },
   {
    "duration": 30,
    "start_time": "2023-09-06T18:42:45.749Z"
   },
   {
    "duration": 97,
    "start_time": "2023-09-06T18:42:45.780Z"
   },
   {
    "duration": 308,
    "start_time": "2023-09-06T18:42:45.878Z"
   },
   {
    "duration": 78,
    "start_time": "2023-09-06T18:42:46.189Z"
   },
   {
    "duration": 6,
    "start_time": "2023-09-06T18:42:46.268Z"
   },
   {
    "duration": 16,
    "start_time": "2023-09-06T18:42:46.275Z"
   },
   {
    "duration": 17,
    "start_time": "2023-09-06T18:42:46.293Z"
   },
   {
    "duration": 31,
    "start_time": "2023-09-06T18:42:46.312Z"
   },
   {
    "duration": 95,
    "start_time": "2023-09-06T18:42:46.344Z"
   },
   {
    "duration": 93,
    "start_time": "2023-09-06T18:42:46.441Z"
   },
   {
    "duration": 104,
    "start_time": "2023-09-06T18:42:46.535Z"
   },
   {
    "duration": 73,
    "start_time": "2023-09-06T18:42:46.641Z"
   },
   {
    "duration": 337,
    "start_time": "2023-09-06T18:42:46.715Z"
   },
   {
    "duration": 5,
    "start_time": "2023-09-06T18:42:47.054Z"
   },
   {
    "duration": 15,
    "start_time": "2023-09-06T18:42:47.061Z"
   },
   {
    "duration": 80,
    "start_time": "2023-09-06T18:42:47.077Z"
   },
   {
    "duration": 11,
    "start_time": "2023-09-06T18:42:47.158Z"
   },
   {
    "duration": 156,
    "start_time": "2023-09-06T18:42:47.170Z"
   },
   {
    "duration": 3,
    "start_time": "2023-09-06T18:42:47.334Z"
   },
   {
    "duration": 109,
    "start_time": "2023-09-06T18:42:47.339Z"
   },
   {
    "duration": 86,
    "start_time": "2023-09-06T18:42:47.450Z"
   },
   {
    "duration": 11158,
    "start_time": "2023-09-06T18:44:52.600Z"
   },
   {
    "duration": 197,
    "start_time": "2023-09-06T18:45:07.858Z"
   },
   {
    "duration": 196,
    "start_time": "2023-09-06T18:45:14.111Z"
   },
   {
    "duration": 412,
    "start_time": "2023-09-06T18:45:17.547Z"
   },
   {
    "duration": 128,
    "start_time": "2023-09-06T18:45:22.451Z"
   },
   {
    "duration": 46,
    "start_time": "2023-09-06T18:45:26.997Z"
   },
   {
    "duration": 200,
    "start_time": "2023-09-06T18:45:33.203Z"
   },
   {
    "duration": 4,
    "start_time": "2023-09-06T18:45:40.476Z"
   },
   {
    "duration": 133,
    "start_time": "2023-09-06T18:45:41.195Z"
   },
   {
    "duration": 92,
    "start_time": "2023-09-06T18:45:58.325Z"
   },
   {
    "duration": 210,
    "start_time": "2023-09-06T18:46:02.399Z"
   },
   {
    "duration": 26,
    "start_time": "2023-09-06T18:46:15.064Z"
   },
   {
    "duration": 55,
    "start_time": "2023-09-06T18:46:16.009Z"
   },
   {
    "duration": 476,
    "start_time": "2023-09-06T18:46:16.913Z"
   },
   {
    "duration": 88,
    "start_time": "2023-09-06T18:46:18.304Z"
   },
   {
    "duration": 196,
    "start_time": "2023-09-06T18:46:22.270Z"
   },
   {
    "duration": 25,
    "start_time": "2023-09-06T18:46:29.702Z"
   },
   {
    "duration": 47,
    "start_time": "2023-09-06T18:46:30.423Z"
   },
   {
    "duration": 124,
    "start_time": "2023-09-06T18:46:31.414Z"
   },
   {
    "duration": 299,
    "start_time": "2023-09-06T18:46:33.471Z"
   },
   {
    "duration": 193,
    "start_time": "2023-09-06T18:46:36.933Z"
   },
   {
    "duration": 25,
    "start_time": "2023-09-06T18:46:42.908Z"
   },
   {
    "duration": 49,
    "start_time": "2023-09-06T18:46:43.613Z"
   },
   {
    "duration": 161,
    "start_time": "2023-09-06T18:46:44.404Z"
   },
   {
    "duration": 86,
    "start_time": "2023-09-06T18:46:45.163Z"
   },
   {
    "duration": 199,
    "start_time": "2023-09-06T18:46:48.904Z"
   },
   {
    "duration": 53,
    "start_time": "2023-09-06T18:46:54.826Z"
   },
   {
    "duration": 86,
    "start_time": "2023-09-06T18:46:55.549Z"
   },
   {
    "duration": 199,
    "start_time": "2023-09-06T18:46:58.908Z"
   },
   {
    "duration": 20,
    "start_time": "2023-09-06T18:47:06.246Z"
   },
   {
    "duration": 36,
    "start_time": "2023-09-06T18:47:07.016Z"
   },
   {
    "duration": 26,
    "start_time": "2023-09-06T18:47:07.604Z"
   },
   {
    "duration": 215,
    "start_time": "2023-09-06T18:47:11.074Z"
   },
   {
    "duration": 24,
    "start_time": "2023-09-06T18:47:22.215Z"
   },
   {
    "duration": 45,
    "start_time": "2023-09-06T18:47:23.104Z"
   },
   {
    "duration": 118,
    "start_time": "2023-09-06T18:47:23.948Z"
   },
   {
    "duration": 725,
    "start_time": "2023-09-06T18:47:24.815Z"
   },
   {
    "duration": 256,
    "start_time": "2023-09-06T18:47:28.363Z"
   },
   {
    "duration": 24,
    "start_time": "2023-09-06T18:47:37.146Z"
   },
   {
    "duration": 46,
    "start_time": "2023-09-06T18:47:37.701Z"
   },
   {
    "duration": 120,
    "start_time": "2023-09-06T18:47:38.276Z"
   },
   {
    "duration": 198,
    "start_time": "2023-09-06T18:47:38.856Z"
   },
   {
    "duration": 206,
    "start_time": "2023-09-06T18:47:43.462Z"
   },
   {
    "duration": 6,
    "start_time": "2023-09-06T18:47:49.065Z"
   },
   {
    "duration": 10,
    "start_time": "2023-09-06T18:47:56.902Z"
   },
   {
    "duration": 13,
    "start_time": "2023-09-06T18:48:08.819Z"
   },
   {
    "duration": 78,
    "start_time": "2023-09-06T18:48:13.209Z"
   },
   {
    "duration": 213,
    "start_time": "2023-09-06T18:48:18.341Z"
   },
   {
    "duration": 14,
    "start_time": "2023-09-06T18:48:24.246Z"
   },
   {
    "duration": 25,
    "start_time": "2023-09-06T18:48:26.049Z"
   },
   {
    "duration": 80,
    "start_time": "2023-09-06T18:48:26.872Z"
   },
   {
    "duration": 306,
    "start_time": "2023-09-06T18:48:29.211Z"
   },
   {
    "duration": 68,
    "start_time": "2023-09-06T18:48:36.657Z"
   },
   {
    "duration": 205,
    "start_time": "2023-09-06T18:48:39.402Z"
   },
   {
    "duration": 5,
    "start_time": "2023-09-06T18:48:59.875Z"
   },
   {
    "duration": 7,
    "start_time": "2023-09-06T18:49:00.663Z"
   },
   {
    "duration": 20,
    "start_time": "2023-09-06T18:49:01.347Z"
   },
   {
    "duration": 240,
    "start_time": "2023-09-06T18:49:04.517Z"
   },
   {
    "duration": 16,
    "start_time": "2023-09-06T18:49:16.073Z"
   },
   {
    "duration": 24,
    "start_time": "2023-09-06T18:49:16.703Z"
   },
   {
    "duration": 26,
    "start_time": "2023-09-06T18:49:17.251Z"
   },
   {
    "duration": 222,
    "start_time": "2023-09-06T18:49:20.653Z"
   },
   {
    "duration": 15,
    "start_time": "2023-09-06T18:49:30.760Z"
   },
   {
    "duration": 26,
    "start_time": "2023-09-06T18:49:31.799Z"
   },
   {
    "duration": 246,
    "start_time": "2023-09-06T18:49:36.699Z"
   },
   {
    "duration": 202,
    "start_time": "2023-09-06T18:49:39.799Z"
   },
   {
    "duration": 6,
    "start_time": "2023-09-06T18:50:04.705Z"
   },
   {
    "duration": 9,
    "start_time": "2023-09-06T18:50:06.332Z"
   },
   {
    "duration": 57,
    "start_time": "2023-09-06T18:50:09.400Z"
   },
   {
    "duration": 9,
    "start_time": "2023-09-06T18:50:10.264Z"
   },
   {
    "duration": 196,
    "start_time": "2023-09-06T18:50:15.918Z"
   },
   {
    "duration": 77,
    "start_time": "2023-09-06T18:50:20.300Z"
   },
   {
    "duration": 88,
    "start_time": "2023-09-06T18:50:26.375Z"
   },
   {
    "duration": 4,
    "start_time": "2023-09-06T18:51:26.702Z"
   },
   {
    "duration": 8,
    "start_time": "2023-09-06T18:51:26.708Z"
   },
   {
    "duration": 14,
    "start_time": "2023-09-06T18:51:26.718Z"
   },
   {
    "duration": 6,
    "start_time": "2023-09-06T18:51:26.734Z"
   },
   {
    "duration": 233,
    "start_time": "2023-09-06T18:51:26.742Z"
   },
   {
    "duration": 40,
    "start_time": "2023-09-06T18:51:26.977Z"
   },
   {
    "duration": 47,
    "start_time": "2023-09-06T18:51:27.019Z"
   },
   {
    "duration": 42,
    "start_time": "2023-09-06T18:51:27.068Z"
   },
   {
    "duration": 280,
    "start_time": "2023-09-06T18:51:27.112Z"
   },
   {
    "duration": 121,
    "start_time": "2023-09-06T18:51:27.394Z"
   },
   {
    "duration": 608,
    "start_time": "2023-09-06T18:51:27.516Z"
   },
   {
    "duration": 157,
    "start_time": "2023-09-06T18:51:28.126Z"
   },
   {
    "duration": 607,
    "start_time": "2023-09-06T18:51:28.284Z"
   },
   {
    "duration": 179,
    "start_time": "2023-09-06T18:51:28.893Z"
   },
   {
    "duration": 12166,
    "start_time": "2023-09-06T18:51:29.074Z"
   },
   {
    "duration": 219,
    "start_time": "2023-09-06T18:51:41.242Z"
   },
   {
    "duration": 218,
    "start_time": "2023-09-06T18:51:41.463Z"
   },
   {
    "duration": 473,
    "start_time": "2023-09-06T18:51:41.683Z"
   },
   {
    "duration": 134,
    "start_time": "2023-09-06T18:51:42.158Z"
   },
   {
    "duration": 63,
    "start_time": "2023-09-06T18:51:42.294Z"
   },
   {
    "duration": 6,
    "start_time": "2023-09-06T18:51:42.358Z"
   },
   {
    "duration": 147,
    "start_time": "2023-09-06T18:51:42.366Z"
   },
   {
    "duration": 106,
    "start_time": "2023-09-06T18:51:42.515Z"
   },
   {
    "duration": 35,
    "start_time": "2023-09-06T18:51:42.622Z"
   },
   {
    "duration": 53,
    "start_time": "2023-09-06T18:51:42.659Z"
   },
   {
    "duration": 515,
    "start_time": "2023-09-06T18:51:42.714Z"
   },
   {
    "duration": 89,
    "start_time": "2023-09-06T18:51:43.230Z"
   },
   {
    "duration": 34,
    "start_time": "2023-09-06T18:51:43.321Z"
   },
   {
    "duration": 55,
    "start_time": "2023-09-06T18:51:43.357Z"
   },
   {
    "duration": 139,
    "start_time": "2023-09-06T18:51:43.413Z"
   },
   {
    "duration": 321,
    "start_time": "2023-09-06T18:51:43.554Z"
   },
   {
    "duration": 27,
    "start_time": "2023-09-06T18:51:43.879Z"
   },
   {
    "duration": 61,
    "start_time": "2023-09-06T18:51:43.907Z"
   },
   {
    "duration": 195,
    "start_time": "2023-09-06T18:51:43.970Z"
   },
   {
    "duration": 179,
    "start_time": "2023-09-06T18:51:44.167Z"
   },
   {
    "duration": 55,
    "start_time": "2023-09-06T18:51:44.348Z"
   },
   {
    "duration": 122,
    "start_time": "2023-09-06T18:51:44.404Z"
   },
   {
    "duration": 24,
    "start_time": "2023-09-06T18:51:44.528Z"
   },
   {
    "duration": 42,
    "start_time": "2023-09-06T18:51:44.554Z"
   },
   {
    "duration": 50,
    "start_time": "2023-09-06T18:51:44.597Z"
   },
   {
    "duration": 30,
    "start_time": "2023-09-06T18:51:44.649Z"
   },
   {
    "duration": 71,
    "start_time": "2023-09-06T18:51:44.681Z"
   },
   {
    "duration": 137,
    "start_time": "2023-09-06T18:51:44.754Z"
   },
   {
    "duration": 777,
    "start_time": "2023-09-06T18:51:44.893Z"
   },
   {
    "duration": 25,
    "start_time": "2023-09-06T18:51:45.672Z"
   },
   {
    "duration": 65,
    "start_time": "2023-09-06T18:51:45.698Z"
   },
   {
    "duration": 111,
    "start_time": "2023-09-06T18:51:45.765Z"
   },
   {
    "duration": 266,
    "start_time": "2023-09-06T18:51:45.877Z"
   },
   {
    "duration": 5,
    "start_time": "2023-09-06T18:51:46.145Z"
   },
   {
    "duration": 9,
    "start_time": "2023-09-06T18:51:46.152Z"
   },
   {
    "duration": 32,
    "start_time": "2023-09-06T18:51:46.162Z"
   },
   {
    "duration": 71,
    "start_time": "2023-09-06T18:51:46.196Z"
   },
   {
    "duration": 13,
    "start_time": "2023-09-06T18:51:46.269Z"
   },
   {
    "duration": 38,
    "start_time": "2023-09-06T18:51:46.283Z"
   },
   {
    "duration": 85,
    "start_time": "2023-09-06T18:51:46.322Z"
   },
   {
    "duration": 288,
    "start_time": "2023-09-06T18:51:46.409Z"
   },
   {
    "duration": 85,
    "start_time": "2023-09-06T18:51:46.699Z"
   },
   {
    "duration": 5,
    "start_time": "2023-09-06T18:51:46.785Z"
   },
   {
    "duration": 9,
    "start_time": "2023-09-06T18:51:46.791Z"
   },
   {
    "duration": 39,
    "start_time": "2023-09-06T18:51:46.801Z"
   },
   {
    "duration": 18,
    "start_time": "2023-09-06T18:51:46.842Z"
   },
   {
    "duration": 30,
    "start_time": "2023-09-06T18:51:46.861Z"
   },
   {
    "duration": 44,
    "start_time": "2023-09-06T18:51:46.893Z"
   },
   {
    "duration": 15,
    "start_time": "2023-09-06T18:51:46.939Z"
   },
   {
    "duration": 25,
    "start_time": "2023-09-06T18:51:46.955Z"
   },
   {
    "duration": 354,
    "start_time": "2023-09-06T18:51:46.982Z"
   },
   {
    "duration": 104,
    "start_time": "2023-09-06T18:52:07.588Z"
   },
   {
    "duration": 16,
    "start_time": "2023-09-06T18:52:12.245Z"
   },
   {
    "duration": 136,
    "start_time": "2023-09-06T18:52:18.130Z"
   },
   {
    "duration": 8,
    "start_time": "2023-09-06T18:52:40.224Z"
   },
   {
    "duration": 14,
    "start_time": "2023-09-06T18:53:13.500Z"
   },
   {
    "duration": 128,
    "start_time": "2023-09-06T18:53:27.322Z"
   },
   {
    "duration": 8,
    "start_time": "2023-09-06T18:53:41.203Z"
   },
   {
    "duration": 94,
    "start_time": "2023-09-06T18:55:51.516Z"
   },
   {
    "duration": 213,
    "start_time": "2023-09-06T18:55:53.973Z"
   },
   {
    "duration": 213,
    "start_time": "2023-09-06T18:55:56.157Z"
   },
   {
    "duration": 77,
    "start_time": "2023-09-06T18:57:09.532Z"
   },
   {
    "duration": 3,
    "start_time": "2023-09-06T18:57:10.931Z"
   },
   {
    "duration": 14,
    "start_time": "2023-09-06T18:57:12.220Z"
   },
   {
    "duration": 47,
    "start_time": "2023-09-06T18:57:41.375Z"
   },
   {
    "duration": 4,
    "start_time": "2023-09-06T18:57:43.116Z"
   },
   {
    "duration": 3,
    "start_time": "2023-09-06T18:57:44.776Z"
   },
   {
    "duration": 139,
    "start_time": "2023-09-06T18:57:46.135Z"
   },
   {
    "duration": 68,
    "start_time": "2023-09-06T18:57:46.906Z"
   },
   {
    "duration": 4,
    "start_time": "2023-09-06T18:57:47.450Z"
   },
   {
    "duration": 3,
    "start_time": "2023-09-06T18:57:50.254Z"
   },
   {
    "duration": 199,
    "start_time": "2023-09-06T18:57:50.868Z"
   },
   {
    "duration": 4,
    "start_time": "2023-09-06T18:58:48.024Z"
   },
   {
    "duration": 11,
    "start_time": "2023-09-06T18:58:50.469Z"
   },
   {
    "duration": 2,
    "start_time": "2023-09-06T18:59:14.904Z"
   },
   {
    "duration": 207,
    "start_time": "2023-09-06T18:59:15.668Z"
   },
   {
    "duration": 2,
    "start_time": "2023-09-06T19:00:32.636Z"
   },
   {
    "duration": 13,
    "start_time": "2023-09-06T19:00:33.304Z"
   },
   {
    "duration": 6,
    "start_time": "2023-09-06T19:02:24.409Z"
   },
   {
    "duration": 31,
    "start_time": "2023-09-06T19:02:24.417Z"
   },
   {
    "duration": 17,
    "start_time": "2023-09-06T19:02:24.450Z"
   },
   {
    "duration": 21,
    "start_time": "2023-09-06T19:02:24.469Z"
   },
   {
    "duration": 253,
    "start_time": "2023-09-06T19:02:24.493Z"
   },
   {
    "duration": 41,
    "start_time": "2023-09-06T19:02:24.748Z"
   },
   {
    "duration": 60,
    "start_time": "2023-09-06T19:02:24.790Z"
   },
   {
    "duration": 43,
    "start_time": "2023-09-06T19:02:24.852Z"
   },
   {
    "duration": 279,
    "start_time": "2023-09-06T19:02:24.896Z"
   },
   {
    "duration": 119,
    "start_time": "2023-09-06T19:02:25.177Z"
   },
   {
    "duration": 626,
    "start_time": "2023-09-06T19:02:25.298Z"
   },
   {
    "duration": 175,
    "start_time": "2023-09-06T19:02:25.926Z"
   },
   {
    "duration": 603,
    "start_time": "2023-09-06T19:02:26.103Z"
   },
   {
    "duration": 185,
    "start_time": "2023-09-06T19:02:26.709Z"
   },
   {
    "duration": 12024,
    "start_time": "2023-09-06T19:02:26.895Z"
   },
   {
    "duration": 231,
    "start_time": "2023-09-06T19:02:38.921Z"
   },
   {
    "duration": 228,
    "start_time": "2023-09-06T19:02:39.153Z"
   },
   {
    "duration": 502,
    "start_time": "2023-09-06T19:02:39.383Z"
   },
   {
    "duration": 172,
    "start_time": "2023-09-06T19:02:39.886Z"
   },
   {
    "duration": 77,
    "start_time": "2023-09-06T19:02:40.059Z"
   },
   {
    "duration": 16,
    "start_time": "2023-09-06T19:02:40.137Z"
   },
   {
    "duration": 163,
    "start_time": "2023-09-06T19:02:40.155Z"
   },
   {
    "duration": 127,
    "start_time": "2023-09-06T19:02:40.320Z"
   },
   {
    "duration": 30,
    "start_time": "2023-09-06T19:02:40.450Z"
   },
   {
    "duration": 73,
    "start_time": "2023-09-06T19:02:40.482Z"
   },
   {
    "duration": 509,
    "start_time": "2023-09-06T19:02:40.557Z"
   },
   {
    "duration": 100,
    "start_time": "2023-09-06T19:02:41.068Z"
   },
   {
    "duration": 27,
    "start_time": "2023-09-06T19:02:41.170Z"
   },
   {
    "duration": 71,
    "start_time": "2023-09-06T19:02:41.199Z"
   },
   {
    "duration": 144,
    "start_time": "2023-09-06T19:02:41.271Z"
   },
   {
    "duration": 340,
    "start_time": "2023-09-06T19:02:41.416Z"
   },
   {
    "duration": 27,
    "start_time": "2023-09-06T19:02:41.758Z"
   },
   {
    "duration": 64,
    "start_time": "2023-09-06T19:02:41.787Z"
   },
   {
    "duration": 216,
    "start_time": "2023-09-06T19:02:41.855Z"
   },
   {
    "duration": 176,
    "start_time": "2023-09-06T19:02:42.072Z"
   },
   {
    "duration": 55,
    "start_time": "2023-09-06T19:02:42.250Z"
   },
   {
    "duration": 125,
    "start_time": "2023-09-06T19:02:42.306Z"
   },
   {
    "duration": 25,
    "start_time": "2023-09-06T19:02:42.433Z"
   },
   {
    "duration": 40,
    "start_time": "2023-09-06T19:02:42.459Z"
   },
   {
    "duration": 47,
    "start_time": "2023-09-06T19:02:42.501Z"
   },
   {
    "duration": 28,
    "start_time": "2023-09-06T19:02:42.552Z"
   },
   {
    "duration": 69,
    "start_time": "2023-09-06T19:02:42.581Z"
   },
   {
    "duration": 167,
    "start_time": "2023-09-06T19:02:42.652Z"
   },
   {
    "duration": 793,
    "start_time": "2023-09-06T19:02:42.828Z"
   },
   {
    "duration": 29,
    "start_time": "2023-09-06T19:02:43.623Z"
   },
   {
    "duration": 64,
    "start_time": "2023-09-06T19:02:43.653Z"
   },
   {
    "duration": 104,
    "start_time": "2023-09-06T19:02:43.718Z"
   },
   {
    "duration": 236,
    "start_time": "2023-09-06T19:02:43.824Z"
   },
   {
    "duration": 6,
    "start_time": "2023-09-06T19:02:44.062Z"
   },
   {
    "duration": 37,
    "start_time": "2023-09-06T19:02:44.070Z"
   },
   {
    "duration": 14,
    "start_time": "2023-09-06T19:02:44.109Z"
   },
   {
    "duration": 83,
    "start_time": "2023-09-06T19:02:44.125Z"
   },
   {
    "duration": 15,
    "start_time": "2023-09-06T19:02:44.209Z"
   },
   {
    "duration": 39,
    "start_time": "2023-09-06T19:02:44.225Z"
   },
   {
    "duration": 96,
    "start_time": "2023-09-06T19:02:44.266Z"
   },
   {
    "duration": 395,
    "start_time": "2023-09-06T19:02:44.363Z"
   },
   {
    "duration": 189,
    "start_time": "2023-09-06T19:02:44.764Z"
   },
   {
    "duration": 5,
    "start_time": "2023-09-06T19:02:44.954Z"
   },
   {
    "duration": 10,
    "start_time": "2023-09-06T19:02:44.960Z"
   },
   {
    "duration": 20,
    "start_time": "2023-09-06T19:02:44.972Z"
   },
   {
    "duration": 17,
    "start_time": "2023-09-06T19:02:44.993Z"
   },
   {
    "duration": 78,
    "start_time": "2023-09-06T19:02:45.012Z"
   },
   {
    "duration": 61,
    "start_time": "2023-09-06T19:02:45.091Z"
   },
   {
    "duration": 17,
    "start_time": "2023-09-06T19:02:45.154Z"
   },
   {
    "duration": 37,
    "start_time": "2023-09-06T19:02:45.173Z"
   },
   {
    "duration": 237,
    "start_time": "2023-09-06T19:02:45.211Z"
   },
   {
    "duration": 5,
    "start_time": "2023-09-06T19:02:45.450Z"
   },
   {
    "duration": 21,
    "start_time": "2023-09-06T19:02:45.457Z"
   },
   {
    "duration": 112,
    "start_time": "2023-09-06T19:02:45.480Z"
   },
   {
    "duration": 16,
    "start_time": "2023-09-06T19:02:45.594Z"
   },
   {
    "duration": 160,
    "start_time": "2023-09-06T19:02:45.611Z"
   },
   {
    "duration": 7,
    "start_time": "2023-09-06T19:02:45.773Z"
   },
   {
    "duration": 7,
    "start_time": "2023-09-06T19:02:45.782Z"
   },
   {
    "duration": 122,
    "start_time": "2023-09-06T19:02:45.791Z"
   },
   {
    "duration": 236,
    "start_time": "2023-09-06T19:02:45.914Z"
   },
   {
    "duration": 94,
    "start_time": "2023-09-06T19:02:46.151Z"
   },
   {
    "duration": 2,
    "start_time": "2023-09-06T19:02:46.247Z"
   },
   {
    "duration": 15,
    "start_time": "2023-09-06T19:02:46.251Z"
   },
   {
    "duration": 79,
    "start_time": "2023-09-06T19:02:46.267Z"
   },
   {
    "duration": 4,
    "start_time": "2023-09-06T19:02:46.347Z"
   },
   {
    "duration": 5,
    "start_time": "2023-09-06T19:02:46.354Z"
   },
   {
    "duration": 161,
    "start_time": "2023-09-06T19:02:46.360Z"
   },
   {
    "duration": 83,
    "start_time": "2023-09-06T19:02:46.522Z"
   },
   {
    "duration": 4,
    "start_time": "2023-09-06T19:02:46.607Z"
   },
   {
    "duration": 4,
    "start_time": "2023-09-06T19:02:46.613Z"
   },
   {
    "duration": 17,
    "start_time": "2023-09-06T19:02:46.619Z"
   },
   {
    "duration": 13,
    "start_time": "2023-09-06T19:02:46.637Z"
   },
   {
    "duration": 2598,
    "start_time": "2023-09-06T19:02:46.652Z"
   },
   {
    "duration": 2,
    "start_time": "2023-09-06T19:02:49.252Z"
   },
   {
    "duration": 39,
    "start_time": "2023-09-06T19:02:49.255Z"
   },
   {
    "duration": 95,
    "start_time": "2023-09-06T19:03:00.941Z"
   },
   {
    "duration": 4,
    "start_time": "2023-09-06T19:03:03.601Z"
   },
   {
    "duration": 22294,
    "start_time": "2023-09-06T19:03:14.650Z"
   },
   {
    "duration": 4,
    "start_time": "2023-09-06T19:03:38.405Z"
   },
   {
    "duration": 8036,
    "start_time": "2023-09-06T19:03:43.208Z"
   },
   {
    "duration": 4,
    "start_time": "2023-09-06T19:03:51.246Z"
   },
   {
    "duration": 22201,
    "start_time": "2023-09-06T19:04:50.640Z"
   },
   {
    "duration": 5,
    "start_time": "2023-09-06T19:05:12.843Z"
   },
   {
    "duration": 122,
    "start_time": "2023-09-06T19:05:18.946Z"
   },
   {
    "duration": 4,
    "start_time": "2023-09-06T19:05:19.571Z"
   },
   {
    "duration": 4,
    "start_time": "2023-09-06T19:06:17.248Z"
   },
   {
    "duration": 37,
    "start_time": "2023-09-06T19:06:17.254Z"
   },
   {
    "duration": 21,
    "start_time": "2023-09-06T19:06:17.293Z"
   },
   {
    "duration": 17,
    "start_time": "2023-09-06T19:06:17.316Z"
   },
   {
    "duration": 257,
    "start_time": "2023-09-06T19:06:17.335Z"
   },
   {
    "duration": 42,
    "start_time": "2023-09-06T19:06:17.594Z"
   },
   {
    "duration": 51,
    "start_time": "2023-09-06T19:06:17.638Z"
   },
   {
    "duration": 43,
    "start_time": "2023-09-06T19:06:17.691Z"
   },
   {
    "duration": 278,
    "start_time": "2023-09-06T19:06:17.736Z"
   },
   {
    "duration": 129,
    "start_time": "2023-09-06T19:06:18.015Z"
   },
   {
    "duration": 3362,
    "start_time": "2023-09-06T19:06:18.147Z"
   },
   {
    "duration": 168,
    "start_time": "2023-09-06T19:06:21.511Z"
   },
   {
    "duration": 582,
    "start_time": "2023-09-06T19:06:21.681Z"
   },
   {
    "duration": 194,
    "start_time": "2023-09-06T19:06:22.265Z"
   },
   {
    "duration": 11665,
    "start_time": "2023-09-06T19:06:22.461Z"
   },
   {
    "duration": 234,
    "start_time": "2023-09-06T19:06:34.128Z"
   },
   {
    "duration": 243,
    "start_time": "2023-09-06T19:06:34.364Z"
   },
   {
    "duration": 456,
    "start_time": "2023-09-06T19:06:34.608Z"
   },
   {
    "duration": 133,
    "start_time": "2023-09-06T19:06:35.066Z"
   },
   {
    "duration": 62,
    "start_time": "2023-09-06T19:06:35.200Z"
   },
   {
    "duration": 5,
    "start_time": "2023-09-06T19:06:35.264Z"
   },
   {
    "duration": 279,
    "start_time": "2023-09-06T19:06:35.270Z"
   },
   {
    "duration": 122,
    "start_time": "2023-09-06T19:06:35.551Z"
   },
   {
    "duration": 28,
    "start_time": "2023-09-06T19:06:35.674Z"
   },
   {
    "duration": 65,
    "start_time": "2023-09-06T19:06:35.703Z"
   },
   {
    "duration": 512,
    "start_time": "2023-09-06T19:06:35.769Z"
   },
   {
    "duration": 102,
    "start_time": "2023-09-06T19:06:36.282Z"
   },
   {
    "duration": 26,
    "start_time": "2023-09-06T19:06:36.385Z"
   },
   {
    "duration": 62,
    "start_time": "2023-09-06T19:06:36.415Z"
   },
   {
    "duration": 154,
    "start_time": "2023-09-06T19:06:36.479Z"
   },
   {
    "duration": 338,
    "start_time": "2023-09-06T19:06:36.634Z"
   },
   {
    "duration": 27,
    "start_time": "2023-09-06T19:06:36.974Z"
   },
   {
    "duration": 59,
    "start_time": "2023-09-06T19:06:37.003Z"
   },
   {
    "duration": 182,
    "start_time": "2023-09-06T19:06:37.064Z"
   },
   {
    "duration": 172,
    "start_time": "2023-09-06T19:06:37.248Z"
   },
   {
    "duration": 60,
    "start_time": "2023-09-06T19:06:37.422Z"
   },
   {
    "duration": 111,
    "start_time": "2023-09-06T19:06:37.484Z"
   },
   {
    "duration": 21,
    "start_time": "2023-09-06T19:06:37.597Z"
   },
   {
    "duration": 44,
    "start_time": "2023-09-06T19:06:37.620Z"
   },
   {
    "duration": 43,
    "start_time": "2023-09-06T19:06:37.665Z"
   },
   {
    "duration": 27,
    "start_time": "2023-09-06T19:06:37.709Z"
   },
   {
    "duration": 59,
    "start_time": "2023-09-06T19:06:37.737Z"
   },
   {
    "duration": 160,
    "start_time": "2023-09-06T19:06:37.798Z"
   },
   {
    "duration": 800,
    "start_time": "2023-09-06T19:06:37.959Z"
   },
   {
    "duration": 25,
    "start_time": "2023-09-06T19:06:38.761Z"
   },
   {
    "duration": 57,
    "start_time": "2023-09-06T19:06:38.787Z"
   },
   {
    "duration": 109,
    "start_time": "2023-09-06T19:06:38.846Z"
   },
   {
    "duration": 253,
    "start_time": "2023-09-06T19:06:38.956Z"
   },
   {
    "duration": 6,
    "start_time": "2023-09-06T19:06:39.211Z"
   },
   {
    "duration": 20,
    "start_time": "2023-09-06T19:06:39.218Z"
   },
   {
    "duration": 16,
    "start_time": "2023-09-06T19:06:39.239Z"
   },
   {
    "duration": 78,
    "start_time": "2023-09-06T19:06:39.256Z"
   },
   {
    "duration": 14,
    "start_time": "2023-09-06T19:06:39.335Z"
   },
   {
    "duration": 33,
    "start_time": "2023-09-06T19:06:39.350Z"
   },
   {
    "duration": 89,
    "start_time": "2023-09-06T19:06:39.385Z"
   },
   {
    "duration": 290,
    "start_time": "2023-09-06T19:06:39.475Z"
   },
   {
    "duration": 72,
    "start_time": "2023-09-06T19:06:39.766Z"
   },
   {
    "duration": 5,
    "start_time": "2023-09-06T19:06:39.840Z"
   },
   {
    "duration": 15,
    "start_time": "2023-09-06T19:06:39.846Z"
   },
   {
    "duration": 23,
    "start_time": "2023-09-06T19:06:39.862Z"
   },
   {
    "duration": 15,
    "start_time": "2023-09-06T19:06:44.844Z"
   },
   {
    "duration": 24,
    "start_time": "2023-09-06T19:06:52.028Z"
   },
   {
    "duration": 4,
    "start_time": "2023-09-06T19:07:38.200Z"
   },
   {
    "duration": 12,
    "start_time": "2023-09-06T19:07:38.206Z"
   },
   {
    "duration": 15,
    "start_time": "2023-09-06T19:07:38.219Z"
   },
   {
    "duration": 8,
    "start_time": "2023-09-06T19:07:38.235Z"
   },
   {
    "duration": 242,
    "start_time": "2023-09-06T19:07:38.245Z"
   },
   {
    "duration": 40,
    "start_time": "2023-09-06T19:07:38.489Z"
   },
   {
    "duration": 111,
    "start_time": "2023-09-06T19:07:38.531Z"
   },
   {
    "duration": 42,
    "start_time": "2023-09-06T19:07:38.644Z"
   },
   {
    "duration": 279,
    "start_time": "2023-09-06T19:07:38.687Z"
   },
   {
    "duration": 115,
    "start_time": "2023-09-06T19:07:38.968Z"
   },
   {
    "duration": 609,
    "start_time": "2023-09-06T19:07:39.085Z"
   },
   {
    "duration": 158,
    "start_time": "2023-09-06T19:07:39.696Z"
   },
   {
    "duration": 1619,
    "start_time": "2023-09-06T19:07:39.857Z"
   },
   {
    "duration": 181,
    "start_time": "2023-09-06T19:07:41.478Z"
   },
   {
    "duration": 11737,
    "start_time": "2023-09-06T19:07:41.660Z"
   },
   {
    "duration": 220,
    "start_time": "2023-09-06T19:07:53.398Z"
   },
   {
    "duration": 219,
    "start_time": "2023-09-06T19:07:53.620Z"
   },
   {
    "duration": 467,
    "start_time": "2023-09-06T19:07:53.840Z"
   },
   {
    "duration": 140,
    "start_time": "2023-09-06T19:07:54.309Z"
   },
   {
    "duration": 61,
    "start_time": "2023-09-06T19:07:54.451Z"
   },
   {
    "duration": 21,
    "start_time": "2023-09-06T19:07:54.514Z"
   },
   {
    "duration": 197,
    "start_time": "2023-09-06T19:07:54.537Z"
   },
   {
    "duration": 117,
    "start_time": "2023-09-06T19:07:54.736Z"
   },
   {
    "duration": 26,
    "start_time": "2023-09-06T19:07:54.855Z"
   },
   {
    "duration": 59,
    "start_time": "2023-09-06T19:07:54.882Z"
   },
   {
    "duration": 480,
    "start_time": "2023-09-06T19:07:54.943Z"
   },
   {
    "duration": 110,
    "start_time": "2023-09-06T19:07:55.424Z"
   },
   {
    "duration": 25,
    "start_time": "2023-09-06T19:07:55.536Z"
   },
   {
    "duration": 77,
    "start_time": "2023-09-06T19:07:55.563Z"
   },
   {
    "duration": 129,
    "start_time": "2023-09-06T19:07:55.642Z"
   },
   {
    "duration": 344,
    "start_time": "2023-09-06T19:07:55.773Z"
   },
   {
    "duration": 27,
    "start_time": "2023-09-06T19:07:56.118Z"
   },
   {
    "duration": 74,
    "start_time": "2023-09-06T19:07:56.146Z"
   },
   {
    "duration": 196,
    "start_time": "2023-09-06T19:07:56.221Z"
   },
   {
    "duration": 168,
    "start_time": "2023-09-06T19:07:56.419Z"
   },
   {
    "duration": 62,
    "start_time": "2023-09-06T19:07:56.592Z"
   },
   {
    "duration": 109,
    "start_time": "2023-09-06T19:07:56.655Z"
   },
   {
    "duration": 19,
    "start_time": "2023-09-06T19:07:56.765Z"
   },
   {
    "duration": 45,
    "start_time": "2023-09-06T19:07:56.785Z"
   },
   {
    "duration": 34,
    "start_time": "2023-09-06T19:07:56.832Z"
   },
   {
    "duration": 50,
    "start_time": "2023-09-06T19:07:56.867Z"
   },
   {
    "duration": 63,
    "start_time": "2023-09-06T19:07:56.918Z"
   },
   {
    "duration": 159,
    "start_time": "2023-09-06T19:07:56.982Z"
   },
   {
    "duration": 767,
    "start_time": "2023-09-06T19:07:57.143Z"
   },
   {
    "duration": 25,
    "start_time": "2023-09-06T19:07:57.911Z"
   },
   {
    "duration": 66,
    "start_time": "2023-09-06T19:07:57.938Z"
   },
   {
    "duration": 139,
    "start_time": "2023-09-06T19:07:58.006Z"
   },
   {
    "duration": 216,
    "start_time": "2023-09-06T19:07:58.146Z"
   },
   {
    "duration": 5,
    "start_time": "2023-09-06T19:07:58.364Z"
   },
   {
    "duration": 21,
    "start_time": "2023-09-06T19:07:58.371Z"
   },
   {
    "duration": 13,
    "start_time": "2023-09-06T19:07:58.394Z"
   },
   {
    "duration": 81,
    "start_time": "2023-09-06T19:07:58.409Z"
   },
   {
    "duration": 14,
    "start_time": "2023-09-06T19:07:58.492Z"
   },
   {
    "duration": 35,
    "start_time": "2023-09-06T19:07:58.507Z"
   },
   {
    "duration": 94,
    "start_time": "2023-09-06T19:07:58.543Z"
   },
   {
    "duration": 311,
    "start_time": "2023-09-06T19:07:58.638Z"
   },
   {
    "duration": 166,
    "start_time": "2023-09-06T19:07:58.951Z"
   },
   {
    "duration": 5,
    "start_time": "2023-09-06T19:07:59.119Z"
   },
   {
    "duration": 37,
    "start_time": "2023-09-06T19:07:59.134Z"
   },
   {
    "duration": 53,
    "start_time": "2023-09-06T19:07:59.173Z"
   },
   {
    "duration": 20,
    "start_time": "2023-09-06T19:07:59.227Z"
   },
   {
    "duration": 22,
    "start_time": "2023-09-06T19:07:59.248Z"
   },
   {
    "duration": 33,
    "start_time": "2023-09-06T19:07:59.272Z"
   },
   {
    "duration": 35,
    "start_time": "2023-09-06T19:07:59.307Z"
   },
   {
    "duration": 17,
    "start_time": "2023-09-06T19:07:59.343Z"
   },
   {
    "duration": 26,
    "start_time": "2023-09-06T19:07:59.361Z"
   },
   {
    "duration": 244,
    "start_time": "2023-09-06T19:07:59.389Z"
   },
   {
    "duration": 5,
    "start_time": "2023-09-06T19:07:59.634Z"
   },
   {
    "duration": 30,
    "start_time": "2023-09-06T19:07:59.640Z"
   },
   {
    "duration": 90,
    "start_time": "2023-09-06T19:07:59.672Z"
   },
   {
    "duration": 16,
    "start_time": "2023-09-06T19:07:59.763Z"
   },
   {
    "duration": 153,
    "start_time": "2023-09-06T19:07:59.781Z"
   },
   {
    "duration": 8,
    "start_time": "2023-09-06T19:07:59.935Z"
   },
   {
    "duration": 33,
    "start_time": "2023-09-06T19:07:59.945Z"
   },
   {
    "duration": 114,
    "start_time": "2023-09-06T19:07:59.980Z"
   },
   {
    "duration": 217,
    "start_time": "2023-09-06T19:08:00.096Z"
   },
   {
    "duration": 100,
    "start_time": "2023-09-06T19:08:00.315Z"
   },
   {
    "duration": 3,
    "start_time": "2023-09-06T19:08:00.417Z"
   },
   {
    "duration": 66,
    "start_time": "2023-09-06T19:08:00.421Z"
   },
   {
    "duration": 111,
    "start_time": "2023-09-06T19:08:00.488Z"
   },
   {
    "duration": 4,
    "start_time": "2023-09-06T19:08:00.601Z"
   },
   {
    "duration": 48,
    "start_time": "2023-09-06T19:08:00.606Z"
   },
   {
    "duration": 217,
    "start_time": "2023-09-06T19:08:00.656Z"
   },
   {
    "duration": 75,
    "start_time": "2023-09-06T19:08:00.875Z"
   },
   {
    "duration": 10,
    "start_time": "2023-09-06T19:08:00.952Z"
   },
   {
    "duration": 41,
    "start_time": "2023-09-06T19:08:00.964Z"
   },
   {
    "duration": 46,
    "start_time": "2023-09-06T19:08:01.006Z"
   },
   {
    "duration": 47,
    "start_time": "2023-09-06T19:08:01.054Z"
   },
   {
    "duration": 2506,
    "start_time": "2023-09-06T19:08:01.103Z"
   },
   {
    "duration": 2,
    "start_time": "2023-09-06T19:08:03.611Z"
   },
   {
    "duration": 22,
    "start_time": "2023-09-06T19:08:03.615Z"
   },
   {
    "duration": 107,
    "start_time": "2023-09-06T19:08:03.639Z"
   },
   {
    "duration": 4,
    "start_time": "2023-09-06T19:08:03.748Z"
   },
   {
    "duration": 19182,
    "start_time": "2023-09-06T19:08:03.753Z"
   },
   {
    "duration": 4,
    "start_time": "2023-09-06T19:08:22.936Z"
   },
   {
    "duration": 7942,
    "start_time": "2023-09-06T19:08:22.942Z"
   },
   {
    "duration": 4,
    "start_time": "2023-09-06T19:08:30.886Z"
   },
   {
    "duration": 22613,
    "start_time": "2023-09-06T19:08:30.892Z"
   },
   {
    "duration": 4,
    "start_time": "2023-09-06T19:08:53.507Z"
   },
   {
    "duration": 131,
    "start_time": "2023-09-06T19:08:53.513Z"
   },
   {
    "duration": 3,
    "start_time": "2023-09-06T19:08:53.646Z"
   },
   {
    "duration": 33159,
    "start_time": "2023-09-06T19:08:53.651Z"
   },
   {
    "duration": 4,
    "start_time": "2023-09-06T19:09:26.811Z"
   },
   {
    "duration": 18,
    "start_time": "2023-09-06T19:09:26.816Z"
   },
   {
    "duration": 74,
    "start_time": "2023-09-06T19:09:26.839Z"
   },
   {
    "duration": 32,
    "start_time": "2023-09-06T19:09:26.914Z"
   },
   {
    "duration": 38,
    "start_time": "2023-09-06T19:09:26.948Z"
   },
   {
    "duration": 120,
    "start_time": "2023-09-06T19:09:26.987Z"
   },
   {
    "duration": 107,
    "start_time": "2023-09-06T19:09:27.108Z"
   },
   {
    "duration": 25,
    "start_time": "2023-09-06T19:09:27.217Z"
   },
   {
    "duration": 284,
    "start_time": "2023-09-06T19:09:27.244Z"
   },
   {
    "duration": 0,
    "start_time": "2023-09-06T19:09:27.529Z"
   },
   {
    "duration": 0,
    "start_time": "2023-09-06T19:09:27.534Z"
   },
   {
    "duration": 0,
    "start_time": "2023-09-06T19:09:27.535Z"
   },
   {
    "duration": 22,
    "start_time": "2023-09-06T19:09:29.824Z"
   },
   {
    "duration": 5,
    "start_time": "2023-09-06T19:11:46.114Z"
   },
   {
    "duration": 5,
    "start_time": "2023-09-06T19:11:46.121Z"
   },
   {
    "duration": 7,
    "start_time": "2023-09-06T19:11:46.128Z"
   },
   {
    "duration": 5,
    "start_time": "2023-09-06T19:11:46.137Z"
   },
   {
    "duration": 250,
    "start_time": "2023-09-06T19:11:46.143Z"
   },
   {
    "duration": 47,
    "start_time": "2023-09-06T19:11:46.395Z"
   },
   {
    "duration": 50,
    "start_time": "2023-09-06T19:11:46.444Z"
   },
   {
    "duration": 43,
    "start_time": "2023-09-06T19:11:46.497Z"
   },
   {
    "duration": 279,
    "start_time": "2023-09-06T19:11:46.542Z"
   },
   {
    "duration": 127,
    "start_time": "2023-09-06T19:11:46.823Z"
   },
   {
    "duration": 3232,
    "start_time": "2023-09-06T19:11:46.952Z"
   },
   {
    "duration": 173,
    "start_time": "2023-09-06T19:11:50.185Z"
   },
   {
    "duration": 585,
    "start_time": "2023-09-06T19:11:50.360Z"
   },
   {
    "duration": 193,
    "start_time": "2023-09-06T19:11:50.947Z"
   },
   {
    "duration": 11733,
    "start_time": "2023-09-06T19:11:51.142Z"
   },
   {
    "duration": 227,
    "start_time": "2023-09-06T19:12:02.878Z"
   },
   {
    "duration": 220,
    "start_time": "2023-09-06T19:12:03.106Z"
   },
   {
    "duration": 468,
    "start_time": "2023-09-06T19:12:03.327Z"
   },
   {
    "duration": 129,
    "start_time": "2023-09-06T19:12:03.797Z"
   },
   {
    "duration": 60,
    "start_time": "2023-09-06T19:12:03.933Z"
   },
   {
    "duration": 6,
    "start_time": "2023-09-06T19:12:03.994Z"
   },
   {
    "duration": 165,
    "start_time": "2023-09-06T19:12:04.002Z"
   },
   {
    "duration": 121,
    "start_time": "2023-09-06T19:12:04.168Z"
   },
   {
    "duration": 27,
    "start_time": "2023-09-06T19:12:04.290Z"
   },
   {
    "duration": 64,
    "start_time": "2023-09-06T19:12:04.319Z"
   },
   {
    "duration": 520,
    "start_time": "2023-09-06T19:12:04.385Z"
   },
   {
    "duration": 106,
    "start_time": "2023-09-06T19:12:04.906Z"
   },
   {
    "duration": 32,
    "start_time": "2023-09-06T19:12:05.013Z"
   },
   {
    "duration": 80,
    "start_time": "2023-09-06T19:12:05.047Z"
   },
   {
    "duration": 148,
    "start_time": "2023-09-06T19:12:05.128Z"
   },
   {
    "duration": 353,
    "start_time": "2023-09-06T19:12:05.278Z"
   },
   {
    "duration": 26,
    "start_time": "2023-09-06T19:12:05.634Z"
   },
   {
    "duration": 78,
    "start_time": "2023-09-06T19:12:05.662Z"
   },
   {
    "duration": 221,
    "start_time": "2023-09-06T19:12:05.742Z"
   },
   {
    "duration": 187,
    "start_time": "2023-09-06T19:12:05.965Z"
   },
   {
    "duration": 58,
    "start_time": "2023-09-06T19:12:06.154Z"
   },
   {
    "duration": 114,
    "start_time": "2023-09-06T19:12:06.214Z"
   },
   {
    "duration": 19,
    "start_time": "2023-09-06T19:12:06.330Z"
   },
   {
    "duration": 43,
    "start_time": "2023-09-06T19:12:06.351Z"
   },
   {
    "duration": 36,
    "start_time": "2023-09-06T19:12:06.399Z"
   },
   {
    "duration": 28,
    "start_time": "2023-09-06T19:12:06.436Z"
   },
   {
    "duration": 75,
    "start_time": "2023-09-06T19:12:06.465Z"
   },
   {
    "duration": 155,
    "start_time": "2023-09-06T19:12:06.542Z"
   },
   {
    "duration": 764,
    "start_time": "2023-09-06T19:12:06.699Z"
   },
   {
    "duration": 27,
    "start_time": "2023-09-06T19:12:07.465Z"
   },
   {
    "duration": 92,
    "start_time": "2023-09-06T19:12:07.493Z"
   },
   {
    "duration": 145,
    "start_time": "2023-09-06T19:12:07.586Z"
   },
   {
    "duration": 228,
    "start_time": "2023-09-06T19:12:07.734Z"
   },
   {
    "duration": 6,
    "start_time": "2023-09-06T19:12:07.964Z"
   },
   {
    "duration": 31,
    "start_time": "2023-09-06T19:12:07.972Z"
   },
   {
    "duration": 25,
    "start_time": "2023-09-06T19:12:08.004Z"
   },
   {
    "duration": 86,
    "start_time": "2023-09-06T19:12:08.030Z"
   },
   {
    "duration": 14,
    "start_time": "2023-09-06T19:12:08.117Z"
   },
   {
    "duration": 33,
    "start_time": "2023-09-06T19:12:08.133Z"
   },
   {
    "duration": 92,
    "start_time": "2023-09-06T19:12:08.167Z"
   },
   {
    "duration": 294,
    "start_time": "2023-09-06T19:12:08.261Z"
   },
   {
    "duration": 147,
    "start_time": "2023-09-06T19:12:08.557Z"
   },
   {
    "duration": 4,
    "start_time": "2023-09-06T19:12:08.706Z"
   },
   {
    "duration": 32,
    "start_time": "2023-09-06T19:12:08.711Z"
   },
   {
    "duration": 5,
    "start_time": "2023-09-06T19:12:08.744Z"
   },
   {
    "duration": 6,
    "start_time": "2023-09-06T19:12:08.751Z"
   },
   {
    "duration": 20,
    "start_time": "2023-09-06T19:12:08.759Z"
   },
   {
    "duration": 38,
    "start_time": "2023-09-06T19:12:08.781Z"
   },
   {
    "duration": 36,
    "start_time": "2023-09-06T19:12:08.821Z"
   },
   {
    "duration": 15,
    "start_time": "2023-09-06T19:12:08.859Z"
   },
   {
    "duration": 31,
    "start_time": "2023-09-06T19:12:08.875Z"
   },
   {
    "duration": 91,
    "start_time": "2023-09-06T19:12:08.908Z"
   },
   {
    "duration": 64,
    "start_time": "2023-09-06T19:12:09.001Z"
   },
   {
    "duration": 24,
    "start_time": "2023-09-06T19:12:09.066Z"
   },
   {
    "duration": 112,
    "start_time": "2023-09-06T19:12:09.092Z"
   },
   {
    "duration": 16,
    "start_time": "2023-09-06T19:12:09.206Z"
   },
   {
    "duration": 150,
    "start_time": "2023-09-06T19:12:09.223Z"
   },
   {
    "duration": 9,
    "start_time": "2023-09-06T19:12:09.375Z"
   },
   {
    "duration": 14,
    "start_time": "2023-09-06T19:12:09.386Z"
   },
   {
    "duration": 114,
    "start_time": "2023-09-06T19:12:09.402Z"
   },
   {
    "duration": 201,
    "start_time": "2023-09-06T19:12:09.518Z"
   },
   {
    "duration": 75,
    "start_time": "2023-09-06T19:12:09.721Z"
   },
   {
    "duration": 3,
    "start_time": "2023-09-06T19:12:09.798Z"
   },
   {
    "duration": 17,
    "start_time": "2023-09-06T19:12:09.802Z"
   },
   {
    "duration": 68,
    "start_time": "2023-09-06T19:12:09.834Z"
   },
   {
    "duration": 4,
    "start_time": "2023-09-06T19:12:09.904Z"
   },
   {
    "duration": 12,
    "start_time": "2023-09-06T19:12:09.909Z"
   },
   {
    "duration": 143,
    "start_time": "2023-09-06T19:12:09.922Z"
   },
   {
    "duration": 72,
    "start_time": "2023-09-06T19:12:10.067Z"
   },
   {
    "duration": 4,
    "start_time": "2023-09-06T19:12:10.141Z"
   },
   {
    "duration": 20,
    "start_time": "2023-09-06T19:12:10.147Z"
   },
   {
    "duration": 38,
    "start_time": "2023-09-06T19:12:10.169Z"
   },
   {
    "duration": 49,
    "start_time": "2023-09-06T19:12:10.208Z"
   },
   {
    "duration": 2361,
    "start_time": "2023-09-06T19:12:10.259Z"
   },
   {
    "duration": 3,
    "start_time": "2023-09-06T19:12:12.622Z"
   },
   {
    "duration": 15,
    "start_time": "2023-09-06T19:12:12.634Z"
   },
   {
    "duration": 100,
    "start_time": "2023-09-06T19:12:12.650Z"
   },
   {
    "duration": 5,
    "start_time": "2023-09-06T19:12:12.752Z"
   },
   {
    "duration": 20983,
    "start_time": "2023-09-06T19:12:12.759Z"
   },
   {
    "duration": 5,
    "start_time": "2023-09-06T19:12:33.744Z"
   },
   {
    "duration": 3357,
    "start_time": "2023-09-06T19:12:33.751Z"
   },
   {
    "duration": 4,
    "start_time": "2023-09-06T19:12:37.110Z"
   },
   {
    "duration": 12243,
    "start_time": "2023-09-06T19:12:37.115Z"
   },
   {
    "duration": 3,
    "start_time": "2023-09-06T19:12:49.360Z"
   },
   {
    "duration": 112896,
    "start_time": "2023-09-06T19:12:49.365Z"
   },
   {
    "duration": 4,
    "start_time": "2023-09-06T19:14:42.262Z"
   },
   {
    "duration": 99234,
    "start_time": "2023-09-06T19:14:42.334Z"
   },
   {
    "duration": 4,
    "start_time": "2023-09-06T19:16:21.570Z"
   },
   {
    "duration": 17,
    "start_time": "2023-09-06T19:16:21.576Z"
   },
   {
    "duration": 40,
    "start_time": "2023-09-06T19:16:21.595Z"
   },
   {
    "duration": 24,
    "start_time": "2023-09-06T19:16:21.637Z"
   },
   {
    "duration": 7,
    "start_time": "2023-09-06T19:16:21.663Z"
   },
   {
    "duration": 133,
    "start_time": "2023-09-06T19:16:21.672Z"
   },
   {
    "duration": 116,
    "start_time": "2023-09-06T19:16:21.807Z"
   },
   {
    "duration": 20,
    "start_time": "2023-09-06T19:16:21.925Z"
   },
   {
    "duration": 2759,
    "start_time": "2023-09-06T19:16:21.947Z"
   },
   {
    "duration": 6,
    "start_time": "2023-09-06T19:16:24.712Z"
   },
   {
    "duration": 15,
    "start_time": "2023-09-06T19:16:24.720Z"
   },
   {
    "duration": 273,
    "start_time": "2023-09-06T19:20:00.403Z"
   },
   {
    "duration": 401,
    "start_time": "2023-09-06T19:20:36.448Z"
   },
   {
    "duration": 7,
    "start_time": "2023-09-06T20:05:24.172Z"
   },
   {
    "duration": 293,
    "start_time": "2023-09-06T20:06:06.860Z"
   },
   {
    "duration": 4,
    "start_time": "2023-09-06T20:08:07.429Z"
   },
   {
    "duration": 39,
    "start_time": "2023-09-06T20:08:07.436Z"
   },
   {
    "duration": 19,
    "start_time": "2023-09-06T20:08:07.476Z"
   },
   {
    "duration": 27,
    "start_time": "2023-09-06T20:08:07.496Z"
   },
   {
    "duration": 261,
    "start_time": "2023-09-06T20:08:07.525Z"
   },
   {
    "duration": 41,
    "start_time": "2023-09-06T20:08:07.788Z"
   },
   {
    "duration": 49,
    "start_time": "2023-09-06T20:08:07.830Z"
   },
   {
    "duration": 48,
    "start_time": "2023-09-06T20:08:07.881Z"
   },
   {
    "duration": 275,
    "start_time": "2023-09-06T20:08:07.931Z"
   },
   {
    "duration": 141,
    "start_time": "2023-09-06T20:08:08.208Z"
   },
   {
    "duration": 581,
    "start_time": "2023-09-06T20:08:08.352Z"
   },
   {
    "duration": 205,
    "start_time": "2023-09-06T20:08:08.934Z"
   },
   {
    "duration": 2787,
    "start_time": "2023-09-06T20:08:09.141Z"
   },
   {
    "duration": 187,
    "start_time": "2023-09-06T20:08:11.929Z"
   },
   {
    "duration": 10829,
    "start_time": "2023-09-06T20:08:12.118Z"
   },
   {
    "duration": 228,
    "start_time": "2023-09-06T20:08:22.949Z"
   },
   {
    "duration": 223,
    "start_time": "2023-09-06T20:08:23.179Z"
   },
   {
    "duration": 471,
    "start_time": "2023-09-06T20:08:23.403Z"
   },
   {
    "duration": 151,
    "start_time": "2023-09-06T20:08:23.875Z"
   },
   {
    "duration": 58,
    "start_time": "2023-09-06T20:08:24.028Z"
   },
   {
    "duration": 5,
    "start_time": "2023-09-06T20:08:24.087Z"
   },
   {
    "duration": 170,
    "start_time": "2023-09-06T20:08:24.093Z"
   },
   {
    "duration": 106,
    "start_time": "2023-09-06T20:08:24.265Z"
   },
   {
    "duration": 27,
    "start_time": "2023-09-06T20:08:24.373Z"
   },
   {
    "duration": 63,
    "start_time": "2023-09-06T20:08:24.402Z"
   },
   {
    "duration": 502,
    "start_time": "2023-09-06T20:08:24.466Z"
   },
   {
    "duration": 101,
    "start_time": "2023-09-06T20:08:24.970Z"
   },
   {
    "duration": 26,
    "start_time": "2023-09-06T20:08:25.073Z"
   },
   {
    "duration": 98,
    "start_time": "2023-09-06T20:08:25.103Z"
   },
   {
    "duration": 136,
    "start_time": "2023-09-06T20:08:25.203Z"
   },
   {
    "duration": 346,
    "start_time": "2023-09-06T20:08:25.341Z"
   },
   {
    "duration": 27,
    "start_time": "2023-09-06T20:08:25.689Z"
   },
   {
    "duration": 63,
    "start_time": "2023-09-06T20:08:25.717Z"
   },
   {
    "duration": 183,
    "start_time": "2023-09-06T20:08:25.781Z"
   },
   {
    "duration": 97,
    "start_time": "2023-09-06T20:08:25.966Z"
   },
   {
    "duration": 54,
    "start_time": "2023-09-06T20:08:26.065Z"
   },
   {
    "duration": 103,
    "start_time": "2023-09-06T20:08:26.120Z"
   },
   {
    "duration": 18,
    "start_time": "2023-09-06T20:08:26.233Z"
   },
   {
    "duration": 33,
    "start_time": "2023-09-06T20:08:26.252Z"
   },
   {
    "duration": 31,
    "start_time": "2023-09-06T20:08:26.287Z"
   },
   {
    "duration": 35,
    "start_time": "2023-09-06T20:08:26.319Z"
   },
   {
    "duration": 51,
    "start_time": "2023-09-06T20:08:26.356Z"
   },
   {
    "duration": 183,
    "start_time": "2023-09-06T20:08:26.408Z"
   },
   {
    "duration": 761,
    "start_time": "2023-09-06T20:08:26.592Z"
   },
   {
    "duration": 25,
    "start_time": "2023-09-06T20:08:27.355Z"
   },
   {
    "duration": 59,
    "start_time": "2023-09-06T20:08:27.382Z"
   },
   {
    "duration": 109,
    "start_time": "2023-09-06T20:08:27.443Z"
   },
   {
    "duration": 219,
    "start_time": "2023-09-06T20:08:27.553Z"
   },
   {
    "duration": 6,
    "start_time": "2023-09-06T20:08:27.774Z"
   },
   {
    "duration": 9,
    "start_time": "2023-09-06T20:08:27.781Z"
   },
   {
    "duration": 18,
    "start_time": "2023-09-06T20:08:27.792Z"
   },
   {
    "duration": 85,
    "start_time": "2023-09-06T20:08:27.811Z"
   },
   {
    "duration": 13,
    "start_time": "2023-09-06T20:08:27.898Z"
   },
   {
    "duration": 44,
    "start_time": "2023-09-06T20:08:27.913Z"
   },
   {
    "duration": 89,
    "start_time": "2023-09-06T20:08:27.958Z"
   },
   {
    "duration": 347,
    "start_time": "2023-09-06T20:08:28.050Z"
   },
   {
    "duration": 74,
    "start_time": "2023-09-06T20:08:28.399Z"
   },
   {
    "duration": 5,
    "start_time": "2023-09-06T20:08:28.475Z"
   },
   {
    "duration": 10,
    "start_time": "2023-09-06T20:08:28.481Z"
   },
   {
    "duration": 4,
    "start_time": "2023-09-06T20:08:28.492Z"
   },
   {
    "duration": 11,
    "start_time": "2023-09-06T20:08:28.498Z"
   },
   {
    "duration": 33,
    "start_time": "2023-09-06T20:08:28.511Z"
   },
   {
    "duration": 51,
    "start_time": "2023-09-06T20:08:28.545Z"
   },
   {
    "duration": 36,
    "start_time": "2023-09-06T20:08:28.597Z"
   },
   {
    "duration": 37,
    "start_time": "2023-09-06T20:08:28.634Z"
   },
   {
    "duration": 41,
    "start_time": "2023-09-06T20:08:28.672Z"
   },
   {
    "duration": 107,
    "start_time": "2023-09-06T20:08:28.715Z"
   },
   {
    "duration": 5,
    "start_time": "2023-09-06T20:08:28.823Z"
   },
   {
    "duration": 32,
    "start_time": "2023-09-06T20:08:28.829Z"
   },
   {
    "duration": 143,
    "start_time": "2023-09-06T20:08:28.862Z"
   },
   {
    "duration": 16,
    "start_time": "2023-09-06T20:08:29.007Z"
   },
   {
    "duration": 147,
    "start_time": "2023-09-06T20:08:29.024Z"
   },
   {
    "duration": 8,
    "start_time": "2023-09-06T20:08:29.173Z"
   },
   {
    "duration": 26,
    "start_time": "2023-09-06T20:08:29.182Z"
   },
   {
    "duration": 114,
    "start_time": "2023-09-06T20:08:29.209Z"
   },
   {
    "duration": 210,
    "start_time": "2023-09-06T20:08:29.325Z"
   },
   {
    "duration": 80,
    "start_time": "2023-09-06T20:08:29.537Z"
   },
   {
    "duration": 7,
    "start_time": "2023-09-06T20:08:29.619Z"
   },
   {
    "duration": 43,
    "start_time": "2023-09-06T20:08:29.627Z"
   },
   {
    "duration": 83,
    "start_time": "2023-09-06T20:08:29.672Z"
   },
   {
    "duration": 4,
    "start_time": "2023-09-06T20:08:29.757Z"
   },
   {
    "duration": 4,
    "start_time": "2023-09-06T20:08:29.762Z"
   },
   {
    "duration": 143,
    "start_time": "2023-09-06T20:08:29.771Z"
   },
   {
    "duration": 69,
    "start_time": "2023-09-06T20:08:29.916Z"
   },
   {
    "duration": 4,
    "start_time": "2023-09-06T20:08:29.986Z"
   },
   {
    "duration": 16,
    "start_time": "2023-09-06T20:08:29.992Z"
   },
   {
    "duration": 51,
    "start_time": "2023-09-06T20:08:30.010Z"
   },
   {
    "duration": 41,
    "start_time": "2023-09-06T20:08:30.063Z"
   },
   {
    "duration": 2298,
    "start_time": "2023-09-06T20:08:30.106Z"
   },
   {
    "duration": 3,
    "start_time": "2023-09-06T20:08:32.406Z"
   },
   {
    "duration": 19,
    "start_time": "2023-09-06T20:08:32.411Z"
   },
   {
    "duration": 119,
    "start_time": "2023-09-06T20:08:32.432Z"
   },
   {
    "duration": 5,
    "start_time": "2023-09-06T20:08:32.552Z"
   },
   {
    "duration": 18075,
    "start_time": "2023-09-06T20:08:32.559Z"
   },
   {
    "duration": 3,
    "start_time": "2023-09-06T20:08:50.636Z"
   },
   {
    "duration": 3338,
    "start_time": "2023-09-06T20:08:50.641Z"
   },
   {
    "duration": 4,
    "start_time": "2023-09-06T20:08:53.980Z"
   },
   {
    "duration": 11902,
    "start_time": "2023-09-06T20:08:53.985Z"
   },
   {
    "duration": 4,
    "start_time": "2023-09-06T20:09:05.889Z"
   },
   {
    "duration": 41063,
    "start_time": "2023-09-06T20:09:05.894Z"
   },
   {
    "duration": 78,
    "start_time": "2023-09-06T20:09:46.958Z"
   },
   {
    "duration": 101103,
    "start_time": "2023-09-06T20:09:47.038Z"
   },
   {
    "duration": 4,
    "start_time": "2023-09-06T20:11:28.143Z"
   },
   {
    "duration": 8,
    "start_time": "2023-09-06T20:11:28.149Z"
   },
   {
    "duration": 40,
    "start_time": "2023-09-06T20:11:28.159Z"
   },
   {
    "duration": 47,
    "start_time": "2023-09-06T20:11:28.201Z"
   },
   {
    "duration": 7,
    "start_time": "2023-09-06T20:11:28.250Z"
   },
   {
    "duration": 155,
    "start_time": "2023-09-06T20:11:28.259Z"
   },
   {
    "duration": 146,
    "start_time": "2023-09-06T20:11:28.415Z"
   },
   {
    "duration": 11,
    "start_time": "2023-09-06T20:11:28.562Z"
   },
   {
    "duration": 2495,
    "start_time": "2023-09-06T20:11:28.574Z"
   },
   {
    "duration": 8,
    "start_time": "2023-09-06T20:11:31.071Z"
   },
   {
    "duration": 430,
    "start_time": "2023-09-06T20:11:31.081Z"
   },
   {
    "duration": 1984,
    "start_time": "2023-09-07T12:24:52.049Z"
   },
   {
    "duration": 3,
    "start_time": "2023-09-07T12:24:54.035Z"
   },
   {
    "duration": 6,
    "start_time": "2023-09-07T12:24:54.040Z"
   },
   {
    "duration": 15634,
    "start_time": "2023-09-07T12:24:54.049Z"
   },
   {
    "duration": 226,
    "start_time": "2023-09-07T12:25:09.685Z"
   },
   {
    "duration": 43,
    "start_time": "2023-09-07T12:25:09.913Z"
   },
   {
    "duration": 49,
    "start_time": "2023-09-07T12:25:09.958Z"
   },
   {
    "duration": 44,
    "start_time": "2023-09-07T12:25:10.010Z"
   },
   {
    "duration": 283,
    "start_time": "2023-09-07T12:25:10.056Z"
   },
   {
    "duration": 162,
    "start_time": "2023-09-07T12:25:10.343Z"
   },
   {
    "duration": 633,
    "start_time": "2023-09-07T12:25:10.507Z"
   },
   {
    "duration": 179,
    "start_time": "2023-09-07T12:25:11.142Z"
   },
   {
    "duration": 612,
    "start_time": "2023-09-07T12:25:11.324Z"
   },
   {
    "duration": 210,
    "start_time": "2023-09-07T12:25:11.937Z"
   },
   {
    "duration": 10422,
    "start_time": "2023-09-07T12:25:12.149Z"
   },
   {
    "duration": 255,
    "start_time": "2023-09-07T12:25:22.573Z"
   },
   {
    "duration": 250,
    "start_time": "2023-09-07T12:25:22.830Z"
   },
   {
    "duration": 533,
    "start_time": "2023-09-07T12:25:23.082Z"
   },
   {
    "duration": 145,
    "start_time": "2023-09-07T12:25:23.617Z"
   },
   {
    "duration": 60,
    "start_time": "2023-09-07T12:25:23.764Z"
   },
   {
    "duration": 11,
    "start_time": "2023-09-07T12:25:23.826Z"
   },
   {
    "duration": 187,
    "start_time": "2023-09-07T12:25:23.839Z"
   },
   {
    "duration": 116,
    "start_time": "2023-09-07T12:25:24.028Z"
   },
   {
    "duration": 36,
    "start_time": "2023-09-07T12:25:24.145Z"
   },
   {
    "duration": 77,
    "start_time": "2023-09-07T12:25:24.183Z"
   },
   {
    "duration": 652,
    "start_time": "2023-09-07T12:25:24.262Z"
   },
   {
    "duration": 109,
    "start_time": "2023-09-07T12:25:24.915Z"
   },
   {
    "duration": 76,
    "start_time": "2023-09-07T12:25:25.060Z"
   },
   {
    "duration": 93,
    "start_time": "2023-09-07T12:25:25.138Z"
   },
   {
    "duration": 209,
    "start_time": "2023-09-07T12:25:25.233Z"
   },
   {
    "duration": 403,
    "start_time": "2023-09-07T12:25:25.443Z"
   },
   {
    "duration": 34,
    "start_time": "2023-09-07T12:25:25.848Z"
   },
   {
    "duration": 174,
    "start_time": "2023-09-07T12:25:25.884Z"
   },
   {
    "duration": 259,
    "start_time": "2023-09-07T12:25:26.060Z"
   },
   {
    "duration": 111,
    "start_time": "2023-09-07T12:25:26.321Z"
   },
   {
    "duration": 63,
    "start_time": "2023-09-07T12:25:26.434Z"
   },
   {
    "duration": 275,
    "start_time": "2023-09-07T12:25:26.499Z"
   },
   {
    "duration": 59,
    "start_time": "2023-09-07T12:25:26.776Z"
   },
   {
    "duration": 221,
    "start_time": "2023-09-07T12:25:26.837Z"
   },
   {
    "duration": 63,
    "start_time": "2023-09-07T12:25:27.060Z"
   },
   {
    "duration": 161,
    "start_time": "2023-09-07T12:25:27.125Z"
   },
   {
    "duration": 132,
    "start_time": "2023-09-07T12:25:27.288Z"
   },
   {
    "duration": 198,
    "start_time": "2023-09-07T12:25:27.422Z"
   },
   {
    "duration": 906,
    "start_time": "2023-09-07T12:25:27.622Z"
   },
   {
    "duration": 28,
    "start_time": "2023-09-07T12:25:28.529Z"
   },
   {
    "duration": 87,
    "start_time": "2023-09-07T12:25:28.558Z"
   },
   {
    "duration": 137,
    "start_time": "2023-09-07T12:25:28.647Z"
   },
   {
    "duration": 285,
    "start_time": "2023-09-07T12:25:28.786Z"
   },
   {
    "duration": 6,
    "start_time": "2023-09-07T12:25:29.073Z"
   },
   {
    "duration": 37,
    "start_time": "2023-09-07T12:25:29.080Z"
   },
   {
    "duration": 83,
    "start_time": "2023-09-07T12:25:29.119Z"
   },
   {
    "duration": 195,
    "start_time": "2023-09-07T12:25:29.204Z"
   },
   {
    "duration": 60,
    "start_time": "2023-09-07T12:25:29.401Z"
   },
   {
    "duration": 46,
    "start_time": "2023-09-07T12:25:29.463Z"
   },
   {
    "duration": 146,
    "start_time": "2023-09-07T12:25:29.511Z"
   },
   {
    "duration": 399,
    "start_time": "2023-09-07T12:25:29.659Z"
   },
   {
    "duration": 173,
    "start_time": "2023-09-07T12:25:30.059Z"
   },
   {
    "duration": 14,
    "start_time": "2023-09-07T12:25:30.234Z"
   },
   {
    "duration": 288,
    "start_time": "2023-09-07T12:25:30.250Z"
   },
   {
    "duration": 164,
    "start_time": "2023-09-07T12:25:30.539Z"
   },
   {
    "duration": 78,
    "start_time": "2023-09-07T12:25:30.705Z"
   },
   {
    "duration": 83,
    "start_time": "2023-09-07T12:25:30.785Z"
   },
   {
    "duration": 106,
    "start_time": "2023-09-07T12:25:30.870Z"
   },
   {
    "duration": 69,
    "start_time": "2023-09-07T12:25:30.978Z"
   },
   {
    "duration": 56,
    "start_time": "2023-09-07T12:25:31.049Z"
   },
   {
    "duration": 104,
    "start_time": "2023-09-07T12:25:31.106Z"
   },
   {
    "duration": 127,
    "start_time": "2023-09-07T12:25:31.212Z"
   },
   {
    "duration": 6,
    "start_time": "2023-09-07T12:25:31.340Z"
   },
   {
    "duration": 168,
    "start_time": "2023-09-07T12:25:31.347Z"
   },
   {
    "duration": 190,
    "start_time": "2023-09-07T12:25:31.517Z"
   },
   {
    "duration": 25,
    "start_time": "2023-09-07T12:25:31.708Z"
   },
   {
    "duration": 333,
    "start_time": "2023-09-07T12:25:31.735Z"
   },
   {
    "duration": 9,
    "start_time": "2023-09-07T12:25:32.070Z"
   },
   {
    "duration": 65,
    "start_time": "2023-09-07T12:25:32.080Z"
   },
   {
    "duration": 216,
    "start_time": "2023-09-07T12:25:32.147Z"
   },
   {
    "duration": 231,
    "start_time": "2023-09-07T12:25:32.365Z"
   },
   {
    "duration": 94,
    "start_time": "2023-09-07T12:25:32.598Z"
   },
   {
    "duration": 4,
    "start_time": "2023-09-07T12:25:32.694Z"
   },
   {
    "duration": 43,
    "start_time": "2023-09-07T12:25:32.699Z"
   },
   {
    "duration": 82,
    "start_time": "2023-09-07T12:25:32.744Z"
   },
   {
    "duration": 4,
    "start_time": "2023-09-07T12:25:32.828Z"
   },
   {
    "duration": 35,
    "start_time": "2023-09-07T12:25:32.838Z"
   },
   {
    "duration": 170,
    "start_time": "2023-09-07T12:25:32.874Z"
   },
   {
    "duration": 78,
    "start_time": "2023-09-07T12:25:33.046Z"
   },
   {
    "duration": 4,
    "start_time": "2023-09-07T12:25:33.126Z"
   },
   {
    "duration": 133,
    "start_time": "2023-09-07T12:25:33.131Z"
   },
   {
    "duration": 1416,
    "start_time": "2023-09-07T12:25:33.266Z"
   },
   {
    "duration": 2,
    "start_time": "2023-09-07T12:25:34.684Z"
   },
   {
    "duration": 49,
    "start_time": "2023-09-07T12:25:34.688Z"
   },
   {
    "duration": 60,
    "start_time": "2023-09-07T12:25:34.740Z"
   },
   {
    "duration": 30,
    "start_time": "2023-09-07T12:25:34.802Z"
   },
   {
    "duration": 3,
    "start_time": "2023-09-07T12:35:17.600Z"
   },
   {
    "duration": 3,
    "start_time": "2023-09-07T12:36:50.010Z"
   },
   {
    "duration": 110,
    "start_time": "2023-09-07T12:37:51.032Z"
   },
   {
    "duration": 2,
    "start_time": "2023-09-07T12:37:56.830Z"
   },
   {
    "duration": 9,
    "start_time": "2023-09-07T12:37:57.412Z"
   },
   {
    "duration": 3,
    "start_time": "2023-09-07T12:38:25.805Z"
   },
   {
    "duration": 7834,
    "start_time": "2023-09-07T12:38:26.412Z"
   },
   {
    "duration": 10,
    "start_time": "2023-09-07T12:40:24.006Z"
   },
   {
    "duration": 3,
    "start_time": "2023-09-07T12:41:15.182Z"
   },
   {
    "duration": 11,
    "start_time": "2023-09-07T12:41:15.802Z"
   },
   {
    "duration": 14,
    "start_time": "2023-09-07T12:42:01.891Z"
   },
   {
    "duration": 10,
    "start_time": "2023-09-07T12:42:13.580Z"
   },
   {
    "duration": 9,
    "start_time": "2023-09-07T12:42:32.082Z"
   },
   {
    "duration": 11,
    "start_time": "2023-09-07T12:43:12.708Z"
   },
   {
    "duration": 4,
    "start_time": "2023-09-07T12:43:47.513Z"
   },
   {
    "duration": 3,
    "start_time": "2023-09-07T12:44:05.452Z"
   },
   {
    "duration": 11006,
    "start_time": "2023-09-07T12:44:06.079Z"
   },
   {
    "duration": 7674,
    "start_time": "2023-09-07T12:44:17.086Z"
   },
   {
    "duration": 10,
    "start_time": "2023-09-07T12:45:25.906Z"
   },
   {
    "duration": 9,
    "start_time": "2023-09-07T12:45:38.087Z"
   },
   {
    "duration": 9,
    "start_time": "2023-09-07T12:46:14.117Z"
   },
   {
    "duration": 10,
    "start_time": "2023-09-07T12:46:36.123Z"
   },
   {
    "duration": 3,
    "start_time": "2023-09-07T12:46:42.417Z"
   },
   {
    "duration": 10956,
    "start_time": "2023-09-07T12:46:43.013Z"
   },
   {
    "duration": 10,
    "start_time": "2023-09-07T12:46:53.972Z"
   },
   {
    "duration": 12,
    "start_time": "2023-09-07T12:48:00.497Z"
   },
   {
    "duration": 3,
    "start_time": "2023-09-07T12:48:55.517Z"
   },
   {
    "duration": 11039,
    "start_time": "2023-09-07T12:50:14.527Z"
   },
   {
    "duration": 80,
    "start_time": "2023-09-07T12:51:21.331Z"
   },
   {
    "duration": 3,
    "start_time": "2023-09-07T12:51:52.151Z"
   },
   {
    "duration": 11062,
    "start_time": "2023-09-07T12:51:52.851Z"
   },
   {
    "duration": 69,
    "start_time": "2023-09-07T12:52:03.915Z"
   },
   {
    "duration": 61,
    "start_time": "2023-09-07T12:52:10.365Z"
   },
   {
    "duration": 62,
    "start_time": "2023-09-07T12:52:17.314Z"
   },
   {
    "duration": 10,
    "start_time": "2023-09-07T12:53:13.134Z"
   },
   {
    "duration": 36,
    "start_time": "2023-09-07T12:53:23.005Z"
   },
   {
    "duration": 10592,
    "start_time": "2023-09-07T12:53:32.510Z"
   },
   {
    "duration": 27009,
    "start_time": "2023-09-07T12:54:39.320Z"
   },
   {
    "duration": 64976,
    "start_time": "2023-09-07T12:55:41.297Z"
   },
   {
    "duration": 107,
    "start_time": "2023-09-07T12:56:46.276Z"
   },
   {
    "duration": 28423,
    "start_time": "2023-09-07T12:57:44.908Z"
   },
   {
    "duration": 1091,
    "start_time": "2023-09-07T12:58:29.104Z"
   },
   {
    "duration": 1645,
    "start_time": "2023-09-07T13:00:37.911Z"
   },
   {
    "duration": 2,
    "start_time": "2023-09-07T13:00:39.558Z"
   },
   {
    "duration": 81,
    "start_time": "2023-09-07T13:00:39.562Z"
   },
   {
    "duration": 18349,
    "start_time": "2023-09-07T13:00:39.645Z"
   },
   {
    "duration": 223,
    "start_time": "2023-09-07T13:00:57.996Z"
   },
   {
    "duration": 43,
    "start_time": "2023-09-07T13:00:58.220Z"
   },
   {
    "duration": 55,
    "start_time": "2023-09-07T13:00:58.265Z"
   },
   {
    "duration": 45,
    "start_time": "2023-09-07T13:00:58.322Z"
   },
   {
    "duration": 276,
    "start_time": "2023-09-07T13:00:58.368Z"
   },
   {
    "duration": 133,
    "start_time": "2023-09-07T13:00:58.646Z"
   },
   {
    "duration": 612,
    "start_time": "2023-09-07T13:00:58.780Z"
   },
   {
    "duration": 176,
    "start_time": "2023-09-07T13:00:59.394Z"
   },
   {
    "duration": 596,
    "start_time": "2023-09-07T13:00:59.572Z"
   },
   {
    "duration": 226,
    "start_time": "2023-09-07T13:01:00.170Z"
   },
   {
    "duration": 11715,
    "start_time": "2023-09-07T13:01:00.398Z"
   },
   {
    "duration": 243,
    "start_time": "2023-09-07T13:01:12.115Z"
   },
   {
    "duration": 238,
    "start_time": "2023-09-07T13:01:12.360Z"
   },
   {
    "duration": 530,
    "start_time": "2023-09-07T13:01:12.600Z"
   },
   {
    "duration": 150,
    "start_time": "2023-09-07T13:01:13.132Z"
   },
   {
    "duration": 62,
    "start_time": "2023-09-07T13:01:13.284Z"
   },
   {
    "duration": 5,
    "start_time": "2023-09-07T13:01:13.347Z"
   },
   {
    "duration": 156,
    "start_time": "2023-09-07T13:01:13.353Z"
   },
   {
    "duration": 128,
    "start_time": "2023-09-07T13:01:13.511Z"
   },
   {
    "duration": 28,
    "start_time": "2023-09-07T13:01:13.641Z"
   },
   {
    "duration": 76,
    "start_time": "2023-09-07T13:01:13.671Z"
   },
   {
    "duration": 510,
    "start_time": "2023-09-07T13:01:13.750Z"
   },
   {
    "duration": 122,
    "start_time": "2023-09-07T13:01:14.262Z"
   },
   {
    "duration": 27,
    "start_time": "2023-09-07T13:01:14.430Z"
   },
   {
    "duration": 68,
    "start_time": "2023-09-07T13:01:14.459Z"
   },
   {
    "duration": 152,
    "start_time": "2023-09-07T13:01:14.529Z"
   },
   {
    "duration": 374,
    "start_time": "2023-09-07T13:01:14.683Z"
   },
   {
    "duration": 32,
    "start_time": "2023-09-07T13:01:15.058Z"
   },
   {
    "duration": 259,
    "start_time": "2023-09-07T13:01:15.092Z"
   },
   {
    "duration": 368,
    "start_time": "2023-09-07T13:01:15.353Z"
   },
   {
    "duration": 119,
    "start_time": "2023-09-07T13:01:15.723Z"
   },
   {
    "duration": 81,
    "start_time": "2023-09-07T13:01:15.844Z"
   },
   {
    "duration": 170,
    "start_time": "2023-09-07T13:01:15.927Z"
   },
   {
    "duration": 19,
    "start_time": "2023-09-07T13:01:16.099Z"
   },
   {
    "duration": 40,
    "start_time": "2023-09-07T13:01:16.124Z"
   },
   {
    "duration": 65,
    "start_time": "2023-09-07T13:01:16.165Z"
   },
   {
    "duration": 46,
    "start_time": "2023-09-07T13:01:16.231Z"
   },
   {
    "duration": 64,
    "start_time": "2023-09-07T13:01:16.278Z"
   },
   {
    "duration": 152,
    "start_time": "2023-09-07T13:01:16.344Z"
   },
   {
    "duration": 872,
    "start_time": "2023-09-07T13:01:16.498Z"
   },
   {
    "duration": 27,
    "start_time": "2023-09-07T13:01:17.372Z"
   },
   {
    "duration": 183,
    "start_time": "2023-09-07T13:01:17.400Z"
   },
   {
    "duration": 172,
    "start_time": "2023-09-07T13:01:17.584Z"
   },
   {
    "duration": 298,
    "start_time": "2023-09-07T13:01:17.758Z"
   },
   {
    "duration": 6,
    "start_time": "2023-09-07T13:01:18.058Z"
   },
   {
    "duration": 108,
    "start_time": "2023-09-07T13:01:18.065Z"
   },
   {
    "duration": 144,
    "start_time": "2023-09-07T13:01:18.174Z"
   },
   {
    "duration": 123,
    "start_time": "2023-09-07T13:01:18.320Z"
   },
   {
    "duration": 15,
    "start_time": "2023-09-07T13:01:18.445Z"
   },
   {
    "duration": 114,
    "start_time": "2023-09-07T13:01:18.462Z"
   },
   {
    "duration": 133,
    "start_time": "2023-09-07T13:01:18.578Z"
   },
   {
    "duration": 312,
    "start_time": "2023-09-07T13:01:18.713Z"
   },
   {
    "duration": 166,
    "start_time": "2023-09-07T13:01:19.026Z"
   },
   {
    "duration": 5,
    "start_time": "2023-09-07T13:01:19.194Z"
   },
   {
    "duration": 31,
    "start_time": "2023-09-07T13:01:19.200Z"
   },
   {
    "duration": 26,
    "start_time": "2023-09-07T13:01:19.233Z"
   },
   {
    "duration": 46,
    "start_time": "2023-09-07T13:01:19.260Z"
   },
   {
    "duration": 51,
    "start_time": "2023-09-07T13:01:19.307Z"
   },
   {
    "duration": 88,
    "start_time": "2023-09-07T13:01:19.359Z"
   },
   {
    "duration": 132,
    "start_time": "2023-09-07T13:01:19.448Z"
   },
   {
    "duration": 101,
    "start_time": "2023-09-07T13:01:19.581Z"
   },
   {
    "duration": 211,
    "start_time": "2023-09-07T13:01:19.684Z"
   },
   {
    "duration": 200,
    "start_time": "2023-09-07T13:01:19.896Z"
   },
   {
    "duration": 5,
    "start_time": "2023-09-07T13:01:20.098Z"
   },
   {
    "duration": 48,
    "start_time": "2023-09-07T13:01:20.105Z"
   },
   {
    "duration": 121,
    "start_time": "2023-09-07T13:01:20.154Z"
   },
   {
    "duration": 20,
    "start_time": "2023-09-07T13:01:20.276Z"
   },
   {
    "duration": 255,
    "start_time": "2023-09-07T13:01:20.298Z"
   },
   {
    "duration": 9,
    "start_time": "2023-09-07T13:01:20.556Z"
   },
   {
    "duration": 43,
    "start_time": "2023-09-07T13:01:20.567Z"
   },
   {
    "duration": 130,
    "start_time": "2023-09-07T13:01:20.611Z"
   },
   {
    "duration": 227,
    "start_time": "2023-09-07T13:01:20.743Z"
   },
   {
    "duration": 288,
    "start_time": "2023-09-07T13:01:20.971Z"
   },
   {
    "duration": 34,
    "start_time": "2023-09-07T13:01:21.261Z"
   },
   {
    "duration": 114,
    "start_time": "2023-09-07T13:01:21.297Z"
   },
   {
    "duration": 105,
    "start_time": "2023-09-07T13:01:21.413Z"
   },
   {
    "duration": 5,
    "start_time": "2023-09-07T13:01:21.519Z"
   },
   {
    "duration": 10,
    "start_time": "2023-09-07T13:01:21.529Z"
   },
   {
    "duration": 159,
    "start_time": "2023-09-07T13:01:21.541Z"
   },
   {
    "duration": 70,
    "start_time": "2023-09-07T13:01:21.702Z"
   },
   {
    "duration": 3,
    "start_time": "2023-09-07T13:01:21.774Z"
   },
   {
    "duration": 84,
    "start_time": "2023-09-07T13:01:21.778Z"
   },
   {
    "duration": 1164,
    "start_time": "2023-09-07T13:01:21.863Z"
   },
   {
    "duration": 3,
    "start_time": "2023-09-07T13:01:23.028Z"
   },
   {
    "duration": 67,
    "start_time": "2023-09-07T13:01:23.032Z"
   },
   {
    "duration": 59,
    "start_time": "2023-09-07T13:01:23.100Z"
   },
   {
    "duration": 75,
    "start_time": "2023-09-07T13:01:23.161Z"
   },
   {
    "duration": 124,
    "start_time": "2023-09-07T13:01:23.238Z"
   },
   {
    "duration": 5,
    "start_time": "2023-09-07T13:01:23.364Z"
   },
   {
    "duration": 1943,
    "start_time": "2023-09-07T13:01:23.371Z"
   },
   {
    "duration": 9,
    "start_time": "2023-09-07T13:01:25.315Z"
   },
   {
    "duration": 10470,
    "start_time": "2023-09-07T13:01:25.326Z"
   },
   {
    "duration": 5,
    "start_time": "2023-09-07T13:01:35.798Z"
   },
   {
    "duration": 22073,
    "start_time": "2023-09-07T13:01:35.804Z"
   },
   {
    "duration": 4,
    "start_time": "2023-09-07T13:01:57.879Z"
   },
   {
    "duration": 87162,
    "start_time": "2023-09-07T13:01:57.885Z"
   },
   {
    "duration": 6,
    "start_time": "2023-09-07T13:03:25.049Z"
   },
   {
    "duration": 184359,
    "start_time": "2023-09-07T13:03:25.056Z"
   },
   {
    "duration": 4,
    "start_time": "2023-09-07T13:06:29.417Z"
   },
   {
    "duration": 57,
    "start_time": "2023-09-07T13:06:29.423Z"
   },
   {
    "duration": 93,
    "start_time": "2023-09-07T13:06:29.482Z"
   },
   {
    "duration": 11472,
    "start_time": "2023-09-07T13:06:29.577Z"
   },
   {
    "duration": 10603,
    "start_time": "2023-09-07T13:06:41.051Z"
   },
   {
    "duration": 26968,
    "start_time": "2023-09-07T13:06:51.656Z"
   },
   {
    "duration": 65562,
    "start_time": "2023-09-07T13:07:18.626Z"
   },
   {
    "duration": 61,
    "start_time": "2023-09-07T13:08:24.190Z"
   },
   {
    "duration": 106,
    "start_time": "2023-09-07T13:08:24.253Z"
   },
   {
    "duration": 1383,
    "start_time": "2023-09-07T13:08:24.361Z"
   },
   {
    "duration": 1236,
    "start_time": "2023-09-07T13:08:25.745Z"
   },
   {
    "duration": 39,
    "start_time": "2023-09-07T13:08:26.983Z"
   },
   {
    "duration": 23,
    "start_time": "2023-09-07T13:08:27.024Z"
   },
   {
    "duration": 54,
    "start_time": "2023-09-07T13:08:27.048Z"
   },
   {
    "duration": 119,
    "start_time": "2023-09-07T13:08:27.104Z"
   },
   {
    "duration": 132,
    "start_time": "2023-09-07T13:08:27.225Z"
   },
   {
    "duration": 12,
    "start_time": "2023-09-07T13:08:27.359Z"
   },
   {
    "duration": 2649,
    "start_time": "2023-09-07T13:08:27.373Z"
   },
   {
    "duration": 126,
    "start_time": "2023-09-07T13:08:30.024Z"
   },
   {
    "duration": 0,
    "start_time": "2023-09-07T13:08:30.152Z"
   },
   {
    "duration": 11,
    "start_time": "2023-09-07T13:10:33.323Z"
   },
   {
    "duration": 93,
    "start_time": "2023-09-07T13:10:40.217Z"
   },
   {
    "duration": 12,
    "start_time": "2023-09-07T13:10:47.873Z"
   },
   {
    "duration": 7,
    "start_time": "2023-09-07T13:10:57.678Z"
   },
   {
    "duration": 503,
    "start_time": "2023-09-07T13:11:02.398Z"
   },
   {
    "duration": 94,
    "start_time": "2023-09-07T13:52:41.182Z"
   },
   {
    "duration": 4,
    "start_time": "2023-09-07T13:52:56.398Z"
   },
   {
    "duration": 9,
    "start_time": "2023-09-07T13:53:50.828Z"
   },
   {
    "duration": 9,
    "start_time": "2023-09-07T13:53:54.866Z"
   },
   {
    "duration": 14,
    "start_time": "2023-09-07T13:54:01.242Z"
   },
   {
    "duration": 4,
    "start_time": "2023-09-07T13:54:48.090Z"
   },
   {
    "duration": 14,
    "start_time": "2023-09-07T13:54:48.835Z"
   },
   {
    "duration": 14,
    "start_time": "2023-09-07T13:54:57.395Z"
   },
   {
    "duration": 15,
    "start_time": "2023-09-07T13:55:06.895Z"
   },
   {
    "duration": 14,
    "start_time": "2023-09-07T13:56:29.898Z"
   },
   {
    "duration": 13,
    "start_time": "2023-09-07T13:56:55.064Z"
   },
   {
    "duration": 4,
    "start_time": "2023-09-07T13:57:32.148Z"
   },
   {
    "duration": 11,
    "start_time": "2023-09-07T13:57:33.002Z"
   },
   {
    "duration": 66446,
    "start_time": "2023-09-07T13:58:05.946Z"
   },
   {
    "duration": 1573,
    "start_time": "2023-09-07T13:59:36.270Z"
   },
   {
    "duration": 3,
    "start_time": "2023-09-07T13:59:37.845Z"
   },
   {
    "duration": 20,
    "start_time": "2023-09-07T13:59:37.849Z"
   },
   {
    "duration": 10988,
    "start_time": "2023-09-07T13:59:37.872Z"
   },
   {
    "duration": 216,
    "start_time": "2023-09-07T13:59:48.862Z"
   },
   {
    "duration": 44,
    "start_time": "2023-09-07T13:59:49.080Z"
   },
   {
    "duration": 50,
    "start_time": "2023-09-07T13:59:49.125Z"
   },
   {
    "duration": 45,
    "start_time": "2023-09-07T13:59:49.176Z"
   },
   {
    "duration": 269,
    "start_time": "2023-09-07T13:59:49.223Z"
   },
   {
    "duration": 135,
    "start_time": "2023-09-07T13:59:49.494Z"
   },
   {
    "duration": 591,
    "start_time": "2023-09-07T13:59:49.631Z"
   },
   {
    "duration": 202,
    "start_time": "2023-09-07T13:59:50.224Z"
   },
   {
    "duration": 595,
    "start_time": "2023-09-07T13:59:50.428Z"
   },
   {
    "duration": 201,
    "start_time": "2023-09-07T13:59:51.025Z"
   },
   {
    "duration": 12676,
    "start_time": "2023-09-07T13:59:51.227Z"
   },
   {
    "duration": 242,
    "start_time": "2023-09-07T14:00:03.905Z"
   },
   {
    "duration": 244,
    "start_time": "2023-09-07T14:00:04.149Z"
   },
   {
    "duration": 516,
    "start_time": "2023-09-07T14:00:04.395Z"
   },
   {
    "duration": 144,
    "start_time": "2023-09-07T14:00:04.913Z"
   },
   {
    "duration": 54,
    "start_time": "2023-09-07T14:00:05.058Z"
   },
   {
    "duration": 16,
    "start_time": "2023-09-07T14:00:05.114Z"
   },
   {
    "duration": 185,
    "start_time": "2023-09-07T14:00:05.131Z"
   },
   {
    "duration": 125,
    "start_time": "2023-09-07T14:00:05.318Z"
   },
   {
    "duration": 29,
    "start_time": "2023-09-07T14:00:05.445Z"
   },
   {
    "duration": 72,
    "start_time": "2023-09-07T14:00:05.476Z"
   },
   {
    "duration": 562,
    "start_time": "2023-09-07T14:00:05.549Z"
   },
   {
    "duration": 123,
    "start_time": "2023-09-07T14:00:06.112Z"
   },
   {
    "duration": 27,
    "start_time": "2023-09-07T14:00:06.274Z"
   },
   {
    "duration": 63,
    "start_time": "2023-09-07T14:00:06.303Z"
   },
   {
    "duration": 147,
    "start_time": "2023-09-07T14:00:06.368Z"
   },
   {
    "duration": 372,
    "start_time": "2023-09-07T14:00:06.516Z"
   },
   {
    "duration": 35,
    "start_time": "2023-09-07T14:00:06.890Z"
   },
   {
    "duration": 68,
    "start_time": "2023-09-07T14:00:06.927Z"
   },
   {
    "duration": 191,
    "start_time": "2023-09-07T14:00:06.997Z"
   },
   {
    "duration": 109,
    "start_time": "2023-09-07T14:00:07.190Z"
   },
   {
    "duration": 61,
    "start_time": "2023-09-07T14:00:07.301Z"
   },
   {
    "duration": 155,
    "start_time": "2023-09-07T14:00:07.363Z"
   },
   {
    "duration": 20,
    "start_time": "2023-09-07T14:00:07.523Z"
   },
   {
    "duration": 50,
    "start_time": "2023-09-07T14:00:07.545Z"
   },
   {
    "duration": 39,
    "start_time": "2023-09-07T14:00:07.597Z"
   },
   {
    "duration": 28,
    "start_time": "2023-09-07T14:00:07.638Z"
   },
   {
    "duration": 71,
    "start_time": "2023-09-07T14:00:07.668Z"
   },
   {
    "duration": 144,
    "start_time": "2023-09-07T14:00:07.741Z"
   },
   {
    "duration": 877,
    "start_time": "2023-09-07T14:00:07.887Z"
   },
   {
    "duration": 30,
    "start_time": "2023-09-07T14:00:08.766Z"
   },
   {
    "duration": 67,
    "start_time": "2023-09-07T14:00:08.797Z"
   },
   {
    "duration": 122,
    "start_time": "2023-09-07T14:00:08.866Z"
   },
   {
    "duration": 271,
    "start_time": "2023-09-07T14:00:08.990Z"
   },
   {
    "duration": 7,
    "start_time": "2023-09-07T14:00:09.263Z"
   },
   {
    "duration": 11,
    "start_time": "2023-09-07T14:00:09.272Z"
   },
   {
    "duration": 15,
    "start_time": "2023-09-07T14:00:09.284Z"
   },
   {
    "duration": 99,
    "start_time": "2023-09-07T14:00:09.301Z"
   },
   {
    "duration": 22,
    "start_time": "2023-09-07T14:00:09.402Z"
   },
   {
    "duration": 81,
    "start_time": "2023-09-07T14:00:09.425Z"
   },
   {
    "duration": 96,
    "start_time": "2023-09-07T14:00:09.507Z"
   },
   {
    "duration": 313,
    "start_time": "2023-09-07T14:00:09.605Z"
   },
   {
    "duration": 139,
    "start_time": "2023-09-07T14:00:09.923Z"
   },
   {
    "duration": 5,
    "start_time": "2023-09-07T14:00:10.063Z"
   },
   {
    "duration": 12,
    "start_time": "2023-09-07T14:00:10.069Z"
   },
   {
    "duration": 4,
    "start_time": "2023-09-07T14:00:10.082Z"
   },
   {
    "duration": 10,
    "start_time": "2023-09-07T14:00:10.087Z"
   },
   {
    "duration": 33,
    "start_time": "2023-09-07T14:00:10.099Z"
   },
   {
    "duration": 28,
    "start_time": "2023-09-07T14:00:10.134Z"
   },
   {
    "duration": 31,
    "start_time": "2023-09-07T14:00:10.163Z"
   },
   {
    "duration": 30,
    "start_time": "2023-09-07T14:00:10.196Z"
   },
   {
    "duration": 48,
    "start_time": "2023-09-07T14:00:10.227Z"
   },
   {
    "duration": 98,
    "start_time": "2023-09-07T14:00:10.276Z"
   },
   {
    "duration": 5,
    "start_time": "2023-09-07T14:00:10.376Z"
   },
   {
    "duration": 23,
    "start_time": "2023-09-07T14:00:10.383Z"
   },
   {
    "duration": 102,
    "start_time": "2023-09-07T14:00:10.407Z"
   },
   {
    "duration": 25,
    "start_time": "2023-09-07T14:00:10.511Z"
   },
   {
    "duration": 153,
    "start_time": "2023-09-07T14:00:10.538Z"
   },
   {
    "duration": 7,
    "start_time": "2023-09-07T14:00:10.693Z"
   },
   {
    "duration": 22,
    "start_time": "2023-09-07T14:00:10.702Z"
   },
   {
    "duration": 103,
    "start_time": "2023-09-07T14:00:10.726Z"
   },
   {
    "duration": 216,
    "start_time": "2023-09-07T14:00:10.831Z"
   },
   {
    "duration": 82,
    "start_time": "2023-09-07T14:00:11.049Z"
   },
   {
    "duration": 3,
    "start_time": "2023-09-07T14:00:11.133Z"
   },
   {
    "duration": 39,
    "start_time": "2023-09-07T14:00:11.137Z"
   },
   {
    "duration": 72,
    "start_time": "2023-09-07T14:00:11.177Z"
   },
   {
    "duration": 4,
    "start_time": "2023-09-07T14:00:11.251Z"
   },
   {
    "duration": 9,
    "start_time": "2023-09-07T14:00:11.260Z"
   },
   {
    "duration": 150,
    "start_time": "2023-09-07T14:00:11.271Z"
   },
   {
    "duration": 67,
    "start_time": "2023-09-07T14:00:11.423Z"
   },
   {
    "duration": 4,
    "start_time": "2023-09-07T14:00:11.492Z"
   },
   {
    "duration": 30,
    "start_time": "2023-09-07T14:00:11.498Z"
   },
   {
    "duration": 1145,
    "start_time": "2023-09-07T14:00:11.530Z"
   },
   {
    "duration": 2,
    "start_time": "2023-09-07T14:00:12.677Z"
   },
   {
    "duration": 19,
    "start_time": "2023-09-07T14:00:12.681Z"
   },
   {
    "duration": 6,
    "start_time": "2023-09-07T14:00:12.702Z"
   },
   {
    "duration": 26,
    "start_time": "2023-09-07T14:00:12.710Z"
   },
   {
    "duration": 93,
    "start_time": "2023-09-07T14:00:12.738Z"
   },
   {
    "duration": 4,
    "start_time": "2023-09-07T14:00:12.833Z"
   },
   {
    "duration": 1852,
    "start_time": "2023-09-07T14:00:12.839Z"
   },
   {
    "duration": 4,
    "start_time": "2023-09-07T14:00:14.692Z"
   },
   {
    "duration": 9410,
    "start_time": "2023-09-07T14:00:14.697Z"
   },
   {
    "duration": 5,
    "start_time": "2023-09-07T14:00:24.109Z"
   },
   {
    "duration": 22072,
    "start_time": "2023-09-07T14:00:24.115Z"
   },
   {
    "duration": 4,
    "start_time": "2023-09-07T14:00:46.189Z"
   },
   {
    "duration": 50147,
    "start_time": "2023-09-07T14:00:46.195Z"
   },
   {
    "duration": 4,
    "start_time": "2023-09-07T14:01:36.344Z"
   },
   {
    "duration": 170137,
    "start_time": "2023-09-07T14:01:36.349Z"
   },
   {
    "duration": 4,
    "start_time": "2023-09-07T14:04:26.488Z"
   },
   {
    "duration": 16,
    "start_time": "2023-09-07T14:04:26.493Z"
   },
   {
    "duration": 141,
    "start_time": "2023-09-07T14:04:26.511Z"
   },
   {
    "duration": 14,
    "start_time": "2023-09-07T14:04:58.875Z"
   },
   {
    "duration": 4,
    "start_time": "2023-09-07T14:05:05.350Z"
   },
   {
    "duration": 164516,
    "start_time": "2023-09-07T14:05:06.150Z"
   },
   {
    "duration": 4,
    "start_time": "2023-09-07T14:09:55.860Z"
   },
   {
    "duration": 165942,
    "start_time": "2023-09-07T14:10:08.000Z"
   },
   {
    "duration": 0,
    "start_time": "2023-09-07T14:12:53.943Z"
   },
   {
    "duration": 0,
    "start_time": "2023-09-07T14:12:53.944Z"
   },
   {
    "duration": 0,
    "start_time": "2023-09-07T14:12:53.945Z"
   },
   {
    "duration": 1751,
    "start_time": "2023-09-07T14:14:32.407Z"
   },
   {
    "duration": 4,
    "start_time": "2023-09-07T14:14:34.160Z"
   },
   {
    "duration": 8,
    "start_time": "2023-09-07T14:14:34.166Z"
   },
   {
    "duration": 14380,
    "start_time": "2023-09-07T14:14:34.176Z"
   },
   {
    "duration": 224,
    "start_time": "2023-09-07T14:14:48.558Z"
   },
   {
    "duration": 42,
    "start_time": "2023-09-07T14:14:48.784Z"
   },
   {
    "duration": 52,
    "start_time": "2023-09-07T14:14:48.827Z"
   },
   {
    "duration": 46,
    "start_time": "2023-09-07T14:14:48.882Z"
   },
   {
    "duration": 273,
    "start_time": "2023-09-07T14:14:48.930Z"
   },
   {
    "duration": 132,
    "start_time": "2023-09-07T14:14:49.204Z"
   },
   {
    "duration": 568,
    "start_time": "2023-09-07T14:14:49.338Z"
   },
   {
    "duration": 178,
    "start_time": "2023-09-07T14:14:49.907Z"
   },
   {
    "duration": 574,
    "start_time": "2023-09-07T14:14:50.087Z"
   },
   {
    "duration": 192,
    "start_time": "2023-09-07T14:14:50.664Z"
   },
   {
    "duration": 11026,
    "start_time": "2023-09-07T14:14:50.857Z"
   },
   {
    "duration": 252,
    "start_time": "2023-09-07T14:15:01.885Z"
   },
   {
    "duration": 247,
    "start_time": "2023-09-07T14:15:02.140Z"
   },
   {
    "duration": 567,
    "start_time": "2023-09-07T14:15:02.389Z"
   },
   {
    "duration": 163,
    "start_time": "2023-09-07T14:15:02.958Z"
   },
   {
    "duration": 57,
    "start_time": "2023-09-07T14:15:03.122Z"
   },
   {
    "duration": 6,
    "start_time": "2023-09-07T14:15:03.180Z"
   },
   {
    "duration": 203,
    "start_time": "2023-09-07T14:15:03.187Z"
   },
   {
    "duration": 108,
    "start_time": "2023-09-07T14:15:03.392Z"
   },
   {
    "duration": 30,
    "start_time": "2023-09-07T14:15:03.502Z"
   },
   {
    "duration": 85,
    "start_time": "2023-09-07T14:15:03.534Z"
   },
   {
    "duration": 545,
    "start_time": "2023-09-07T14:15:03.621Z"
   },
   {
    "duration": 105,
    "start_time": "2023-09-07T14:15:04.167Z"
   },
   {
    "duration": 80,
    "start_time": "2023-09-07T14:15:04.273Z"
   },
   {
    "duration": 74,
    "start_time": "2023-09-07T14:15:04.355Z"
   },
   {
    "duration": 179,
    "start_time": "2023-09-07T14:15:04.431Z"
   },
   {
    "duration": 367,
    "start_time": "2023-09-07T14:15:04.612Z"
   },
   {
    "duration": 28,
    "start_time": "2023-09-07T14:15:04.981Z"
   },
   {
    "duration": 105,
    "start_time": "2023-09-07T14:15:05.010Z"
   },
   {
    "duration": 248,
    "start_time": "2023-09-07T14:15:05.117Z"
   },
   {
    "duration": 110,
    "start_time": "2023-09-07T14:15:05.367Z"
   },
   {
    "duration": 65,
    "start_time": "2023-09-07T14:15:05.478Z"
   },
   {
    "duration": 120,
    "start_time": "2023-09-07T14:15:05.545Z"
   },
   {
    "duration": 20,
    "start_time": "2023-09-07T14:15:05.667Z"
   },
   {
    "duration": 65,
    "start_time": "2023-09-07T14:15:05.689Z"
   },
   {
    "duration": 51,
    "start_time": "2023-09-07T14:15:05.756Z"
   },
   {
    "duration": 30,
    "start_time": "2023-09-07T14:15:05.812Z"
   },
   {
    "duration": 70,
    "start_time": "2023-09-07T14:15:05.844Z"
   },
   {
    "duration": 184,
    "start_time": "2023-09-07T14:15:05.916Z"
   },
   {
    "duration": 862,
    "start_time": "2023-09-07T14:15:06.102Z"
   },
   {
    "duration": 27,
    "start_time": "2023-09-07T14:15:06.966Z"
   },
   {
    "duration": 82,
    "start_time": "2023-09-07T14:15:06.994Z"
   },
   {
    "duration": 151,
    "start_time": "2023-09-07T14:15:07.078Z"
   },
   {
    "duration": 245,
    "start_time": "2023-09-07T14:15:07.231Z"
   },
   {
    "duration": 6,
    "start_time": "2023-09-07T14:15:07.478Z"
   },
   {
    "duration": 31,
    "start_time": "2023-09-07T14:15:07.485Z"
   },
   {
    "duration": 45,
    "start_time": "2023-09-07T14:15:07.518Z"
   },
   {
    "duration": 110,
    "start_time": "2023-09-07T14:15:07.565Z"
   },
   {
    "duration": 15,
    "start_time": "2023-09-07T14:15:07.676Z"
   },
   {
    "duration": 51,
    "start_time": "2023-09-07T14:15:07.692Z"
   },
   {
    "duration": 110,
    "start_time": "2023-09-07T14:15:07.744Z"
   },
   {
    "duration": 350,
    "start_time": "2023-09-07T14:15:07.855Z"
   },
   {
    "duration": 86,
    "start_time": "2023-09-07T14:15:08.207Z"
   },
   {
    "duration": 5,
    "start_time": "2023-09-07T14:15:08.295Z"
   },
   {
    "duration": 22,
    "start_time": "2023-09-07T14:15:08.302Z"
   },
   {
    "duration": 13,
    "start_time": "2023-09-07T14:15:08.325Z"
   },
   {
    "duration": 33,
    "start_time": "2023-09-07T14:15:08.340Z"
   },
   {
    "duration": 37,
    "start_time": "2023-09-07T14:15:08.374Z"
   },
   {
    "duration": 29,
    "start_time": "2023-09-07T14:15:08.413Z"
   },
   {
    "duration": 32,
    "start_time": "2023-09-07T14:15:08.444Z"
   },
   {
    "duration": 18,
    "start_time": "2023-09-07T14:15:08.478Z"
   },
   {
    "duration": 47,
    "start_time": "2023-09-07T14:15:08.497Z"
   },
   {
    "duration": 86,
    "start_time": "2023-09-07T14:15:08.546Z"
   },
   {
    "duration": 5,
    "start_time": "2023-09-07T14:15:08.633Z"
   },
   {
    "duration": 11,
    "start_time": "2023-09-07T14:15:08.639Z"
   },
   {
    "duration": 111,
    "start_time": "2023-09-07T14:15:08.651Z"
   },
   {
    "duration": 17,
    "start_time": "2023-09-07T14:15:08.763Z"
   },
   {
    "duration": 235,
    "start_time": "2023-09-07T14:15:08.782Z"
   },
   {
    "duration": 12,
    "start_time": "2023-09-07T14:15:09.019Z"
   },
   {
    "duration": 8,
    "start_time": "2023-09-07T14:15:09.033Z"
   },
   {
    "duration": 117,
    "start_time": "2023-09-07T14:15:09.043Z"
   },
   {
    "duration": 214,
    "start_time": "2023-09-07T14:15:09.162Z"
   },
   {
    "duration": 84,
    "start_time": "2023-09-07T14:15:09.378Z"
   },
   {
    "duration": 2,
    "start_time": "2023-09-07T14:15:09.464Z"
   },
   {
    "duration": 24,
    "start_time": "2023-09-07T14:15:09.468Z"
   },
   {
    "duration": 61,
    "start_time": "2023-09-07T14:15:09.493Z"
   },
   {
    "duration": 4,
    "start_time": "2023-09-07T14:15:09.555Z"
   },
   {
    "duration": 4,
    "start_time": "2023-09-07T14:15:09.561Z"
   },
   {
    "duration": 147,
    "start_time": "2023-09-07T14:15:09.566Z"
   },
   {
    "duration": 69,
    "start_time": "2023-09-07T14:15:09.715Z"
   },
   {
    "duration": 4,
    "start_time": "2023-09-07T14:15:09.785Z"
   },
   {
    "duration": 8,
    "start_time": "2023-09-07T14:15:09.791Z"
   },
   {
    "duration": 1230,
    "start_time": "2023-09-07T14:15:09.801Z"
   },
   {
    "duration": 2,
    "start_time": "2023-09-07T14:15:11.033Z"
   },
   {
    "duration": 22,
    "start_time": "2023-09-07T14:15:11.037Z"
   },
   {
    "duration": 11,
    "start_time": "2023-09-07T14:15:11.060Z"
   },
   {
    "duration": 15,
    "start_time": "2023-09-07T14:15:11.073Z"
   },
   {
    "duration": 95,
    "start_time": "2023-09-07T14:15:11.089Z"
   },
   {
    "duration": 4,
    "start_time": "2023-09-07T14:15:11.186Z"
   },
   {
    "duration": 1770,
    "start_time": "2023-09-07T14:15:11.191Z"
   },
   {
    "duration": 4,
    "start_time": "2023-09-07T14:15:12.962Z"
   },
   {
    "duration": 9679,
    "start_time": "2023-09-07T14:15:12.968Z"
   },
   {
    "duration": 5,
    "start_time": "2023-09-07T14:15:22.649Z"
   },
   {
    "duration": 21932,
    "start_time": "2023-09-07T14:15:22.655Z"
   },
   {
    "duration": 3,
    "start_time": "2023-09-07T14:15:44.589Z"
   },
   {
    "duration": 48058,
    "start_time": "2023-09-07T14:15:44.594Z"
   },
   {
    "duration": 71,
    "start_time": "2023-09-07T14:16:32.654Z"
   },
   {
    "duration": 153905,
    "start_time": "2023-09-07T14:16:32.727Z"
   },
   {
    "duration": 4,
    "start_time": "2023-09-07T14:19:06.634Z"
   },
   {
    "duration": 112,
    "start_time": "2023-09-07T14:19:06.640Z"
   },
   {
    "duration": 127,
    "start_time": "2023-09-07T14:19:06.754Z"
   },
   {
    "duration": 103998,
    "start_time": "2023-09-07T14:19:06.883Z"
   },
   {
    "duration": 190560,
    "start_time": "2023-09-07T14:20:50.883Z"
   },
   {
    "duration": 140997,
    "start_time": "2023-09-07T14:24:01.445Z"
   },
   {
    "duration": 9,
    "start_time": "2023-09-07T14:26:22.444Z"
   },
   {
    "duration": 45,
    "start_time": "2023-09-07T14:26:22.455Z"
   },
   {
    "duration": 51,
    "start_time": "2023-09-07T14:26:22.502Z"
   },
   {
    "duration": 5,
    "start_time": "2023-09-07T14:26:22.555Z"
   },
   {
    "duration": 132,
    "start_time": "2023-09-07T14:26:22.562Z"
   },
   {
    "duration": 137,
    "start_time": "2023-09-07T14:26:22.696Z"
   },
   {
    "duration": 13,
    "start_time": "2023-09-07T14:26:22.835Z"
   },
   {
    "duration": 2919,
    "start_time": "2023-09-07T14:26:22.850Z"
   },
   {
    "duration": 7,
    "start_time": "2023-09-07T14:26:25.771Z"
   },
   {
    "duration": 525,
    "start_time": "2023-09-07T14:26:25.779Z"
   },
   {
    "duration": 23005,
    "start_time": "2023-09-07T14:27:25.611Z"
   },
   {
    "duration": 7,
    "start_time": "2023-09-07T14:27:48.618Z"
   },
   {
    "duration": 195517,
    "start_time": "2023-09-07T14:27:48.626Z"
   },
   {
    "duration": 79,
    "start_time": "2023-09-07T14:31:04.145Z"
   },
   {
    "duration": 180899,
    "start_time": "2023-09-07T14:31:04.226Z"
   },
   {
    "duration": 4,
    "start_time": "2023-09-07T14:34:05.127Z"
   },
   {
    "duration": 9,
    "start_time": "2023-09-07T14:34:38.802Z"
   },
   {
    "duration": 48,
    "start_time": "2023-09-07T14:34:46.126Z"
   },
   {
    "duration": 26,
    "start_time": "2023-09-07T14:34:48.534Z"
   },
   {
    "duration": 6,
    "start_time": "2023-09-07T14:34:49.268Z"
   },
   {
    "duration": 271,
    "start_time": "2023-09-07T14:34:50.241Z"
   },
   {
    "duration": 149,
    "start_time": "2023-09-07T14:34:50.781Z"
   },
   {
    "duration": 12,
    "start_time": "2023-09-07T14:34:51.814Z"
   },
   {
    "duration": 2663,
    "start_time": "2023-09-07T14:34:53.326Z"
   },
   {
    "duration": 8,
    "start_time": "2023-09-07T14:34:55.991Z"
   },
   {
    "duration": 421,
    "start_time": "2023-09-07T14:34:58.052Z"
   },
   {
    "duration": 3,
    "start_time": "2023-09-07T15:21:40.639Z"
   },
   {
    "duration": 9220,
    "start_time": "2023-09-07T15:21:41.435Z"
   },
   {
    "duration": 4,
    "start_time": "2023-09-07T15:21:52.026Z"
   },
   {
    "duration": 640,
    "start_time": "2023-09-07T15:23:02.497Z"
   },
   {
    "duration": 4,
    "start_time": "2023-09-07T15:23:09.630Z"
   },
   {
    "duration": 1671,
    "start_time": "2023-09-07T15:26:48.514Z"
   },
   {
    "duration": 3,
    "start_time": "2023-09-07T15:26:50.187Z"
   },
   {
    "duration": 5,
    "start_time": "2023-09-07T15:26:50.192Z"
   },
   {
    "duration": 9882,
    "start_time": "2023-09-07T15:26:50.200Z"
   },
   {
    "duration": 226,
    "start_time": "2023-09-07T15:27:00.084Z"
   },
   {
    "duration": 44,
    "start_time": "2023-09-07T15:27:00.311Z"
   },
   {
    "duration": 121,
    "start_time": "2023-09-07T15:27:00.357Z"
   },
   {
    "duration": 48,
    "start_time": "2023-09-07T15:27:00.480Z"
   },
   {
    "duration": 286,
    "start_time": "2023-09-07T15:27:00.529Z"
   },
   {
    "duration": 155,
    "start_time": "2023-09-07T15:27:00.817Z"
   },
   {
    "duration": 610,
    "start_time": "2023-09-07T15:27:00.974Z"
   },
   {
    "duration": 193,
    "start_time": "2023-09-07T15:27:01.586Z"
   },
   {
    "duration": 602,
    "start_time": "2023-09-07T15:27:01.781Z"
   },
   {
    "duration": 222,
    "start_time": "2023-09-07T15:27:02.384Z"
   },
   {
    "duration": 11444,
    "start_time": "2023-09-07T15:27:02.608Z"
   },
   {
    "duration": 239,
    "start_time": "2023-09-07T15:27:14.053Z"
   },
   {
    "duration": 238,
    "start_time": "2023-09-07T15:27:14.294Z"
   },
   {
    "duration": 542,
    "start_time": "2023-09-07T15:27:14.534Z"
   },
   {
    "duration": 147,
    "start_time": "2023-09-07T15:27:15.078Z"
   },
   {
    "duration": 54,
    "start_time": "2023-09-07T15:27:15.227Z"
   },
   {
    "duration": 13,
    "start_time": "2023-09-07T15:27:15.283Z"
   },
   {
    "duration": 175,
    "start_time": "2023-09-07T15:27:15.298Z"
   },
   {
    "duration": 123,
    "start_time": "2023-09-07T15:27:15.475Z"
   },
   {
    "duration": 31,
    "start_time": "2023-09-07T15:27:15.600Z"
   },
   {
    "duration": 107,
    "start_time": "2023-09-07T15:27:15.633Z"
   },
   {
    "duration": 608,
    "start_time": "2023-09-07T15:27:15.742Z"
   },
   {
    "duration": 106,
    "start_time": "2023-09-07T15:27:16.352Z"
   },
   {
    "duration": 32,
    "start_time": "2023-09-07T15:27:16.498Z"
   },
   {
    "duration": 84,
    "start_time": "2023-09-07T15:27:16.532Z"
   },
   {
    "duration": 212,
    "start_time": "2023-09-07T15:27:16.618Z"
   },
   {
    "duration": 367,
    "start_time": "2023-09-07T15:27:16.832Z"
   },
   {
    "duration": 33,
    "start_time": "2023-09-07T15:27:17.200Z"
   },
   {
    "duration": 69,
    "start_time": "2023-09-07T15:27:17.235Z"
   },
   {
    "duration": 220,
    "start_time": "2023-09-07T15:27:17.306Z"
   },
   {
    "duration": 109,
    "start_time": "2023-09-07T15:27:17.528Z"
   },
   {
    "duration": 178,
    "start_time": "2023-09-07T15:27:17.638Z"
   },
   {
    "duration": 246,
    "start_time": "2023-09-07T15:27:17.818Z"
   },
   {
    "duration": 19,
    "start_time": "2023-09-07T15:27:18.066Z"
   },
   {
    "duration": 92,
    "start_time": "2023-09-07T15:27:18.087Z"
   },
   {
    "duration": 142,
    "start_time": "2023-09-07T15:27:18.180Z"
   },
   {
    "duration": 92,
    "start_time": "2023-09-07T15:27:18.324Z"
   },
   {
    "duration": 123,
    "start_time": "2023-09-07T15:27:18.418Z"
   },
   {
    "duration": 270,
    "start_time": "2023-09-07T15:27:18.542Z"
   },
   {
    "duration": 909,
    "start_time": "2023-09-07T15:27:18.815Z"
   },
   {
    "duration": 28,
    "start_time": "2023-09-07T15:27:19.725Z"
   },
   {
    "duration": 75,
    "start_time": "2023-09-07T15:27:19.755Z"
   },
   {
    "duration": 146,
    "start_time": "2023-09-07T15:27:19.832Z"
   },
   {
    "duration": 276,
    "start_time": "2023-09-07T15:27:19.980Z"
   },
   {
    "duration": 6,
    "start_time": "2023-09-07T15:27:20.258Z"
   },
   {
    "duration": 59,
    "start_time": "2023-09-07T15:27:20.265Z"
   },
   {
    "duration": 81,
    "start_time": "2023-09-07T15:27:20.326Z"
   },
   {
    "duration": 116,
    "start_time": "2023-09-07T15:27:20.408Z"
   },
   {
    "duration": 16,
    "start_time": "2023-09-07T15:27:20.526Z"
   },
   {
    "duration": 66,
    "start_time": "2023-09-07T15:27:20.543Z"
   },
   {
    "duration": 104,
    "start_time": "2023-09-07T15:27:20.611Z"
   },
   {
    "duration": 350,
    "start_time": "2023-09-07T15:27:20.717Z"
   },
   {
    "duration": 158,
    "start_time": "2023-09-07T15:27:21.069Z"
   },
   {
    "duration": 6,
    "start_time": "2023-09-07T15:27:21.229Z"
   },
   {
    "duration": 27,
    "start_time": "2023-09-07T15:27:21.237Z"
   },
   {
    "duration": 9,
    "start_time": "2023-09-07T15:27:21.266Z"
   },
   {
    "duration": 62,
    "start_time": "2023-09-07T15:27:21.277Z"
   },
   {
    "duration": 33,
    "start_time": "2023-09-07T15:27:21.341Z"
   },
   {
    "duration": 50,
    "start_time": "2023-09-07T15:27:21.376Z"
   },
   {
    "duration": 100,
    "start_time": "2023-09-07T15:27:21.427Z"
   },
   {
    "duration": 70,
    "start_time": "2023-09-07T15:27:21.528Z"
   },
   {
    "duration": 64,
    "start_time": "2023-09-07T15:27:21.600Z"
   },
   {
    "duration": 136,
    "start_time": "2023-09-07T15:27:21.665Z"
   },
   {
    "duration": 90,
    "start_time": "2023-09-07T15:27:21.803Z"
   },
   {
    "duration": 45,
    "start_time": "2023-09-07T15:27:21.895Z"
   },
   {
    "duration": 136,
    "start_time": "2023-09-07T15:27:21.941Z"
   },
   {
    "duration": 18,
    "start_time": "2023-09-07T15:27:22.079Z"
   },
   {
    "duration": 211,
    "start_time": "2023-09-07T15:27:22.099Z"
   },
   {
    "duration": 15,
    "start_time": "2023-09-07T15:27:22.312Z"
   },
   {
    "duration": 31,
    "start_time": "2023-09-07T15:27:22.329Z"
   },
   {
    "duration": 150,
    "start_time": "2023-09-07T15:27:22.362Z"
   },
   {
    "duration": 231,
    "start_time": "2023-09-07T15:27:22.514Z"
   },
   {
    "duration": 1002,
    "start_time": "2023-09-07T15:27:22.747Z"
   },
   {
    "duration": 742,
    "start_time": "2023-09-07T15:27:23.751Z"
   },
   {
    "duration": 200,
    "start_time": "2023-09-07T15:27:24.495Z"
   },
   {
    "duration": 59,
    "start_time": "2023-09-07T15:27:24.696Z"
   },
   {
    "duration": 4,
    "start_time": "2023-09-07T15:27:24.757Z"
   },
   {
    "duration": 48,
    "start_time": "2023-09-07T15:27:24.767Z"
   },
   {
    "duration": 254,
    "start_time": "2023-09-07T15:27:24.816Z"
   },
   {
    "duration": 185,
    "start_time": "2023-09-07T15:27:25.072Z"
   },
   {
    "duration": 35,
    "start_time": "2023-09-07T15:27:25.259Z"
   },
   {
    "duration": 117,
    "start_time": "2023-09-07T15:27:25.296Z"
   },
   {
    "duration": 1372,
    "start_time": "2023-09-07T15:27:25.415Z"
   },
   {
    "duration": 2,
    "start_time": "2023-09-07T15:27:26.789Z"
   },
   {
    "duration": 84,
    "start_time": "2023-09-07T15:27:26.793Z"
   },
   {
    "duration": 105,
    "start_time": "2023-09-07T15:27:26.879Z"
   },
   {
    "duration": 35,
    "start_time": "2023-09-07T15:27:26.986Z"
   },
   {
    "duration": 139,
    "start_time": "2023-09-07T15:27:27.023Z"
   },
   {
    "duration": 4,
    "start_time": "2023-09-07T15:27:27.164Z"
   },
   {
    "duration": 13,
    "start_time": "2023-09-07T15:27:27.170Z"
   },
   {
    "duration": 239,
    "start_time": "2023-09-07T15:27:27.184Z"
   },
   {
    "duration": 9,
    "start_time": "2023-09-07T15:27:27.425Z"
   },
   {
    "duration": 0,
    "start_time": "2023-09-07T15:27:27.435Z"
   },
   {
    "duration": 0,
    "start_time": "2023-09-07T15:27:27.436Z"
   },
   {
    "duration": 0,
    "start_time": "2023-09-07T15:27:27.437Z"
   },
   {
    "duration": 0,
    "start_time": "2023-09-07T15:27:27.437Z"
   },
   {
    "duration": 0,
    "start_time": "2023-09-07T15:27:27.438Z"
   },
   {
    "duration": 0,
    "start_time": "2023-09-07T15:27:27.439Z"
   },
   {
    "duration": 0,
    "start_time": "2023-09-07T15:27:27.440Z"
   },
   {
    "duration": 0,
    "start_time": "2023-09-07T15:27:27.441Z"
   },
   {
    "duration": 0,
    "start_time": "2023-09-07T15:27:27.442Z"
   },
   {
    "duration": 0,
    "start_time": "2023-09-07T15:27:27.443Z"
   },
   {
    "duration": 0,
    "start_time": "2023-09-07T15:27:27.444Z"
   },
   {
    "duration": 0,
    "start_time": "2023-09-07T15:27:27.445Z"
   },
   {
    "duration": 0,
    "start_time": "2023-09-07T15:27:27.446Z"
   },
   {
    "duration": 0,
    "start_time": "2023-09-07T15:27:27.447Z"
   },
   {
    "duration": 0,
    "start_time": "2023-09-07T15:27:27.448Z"
   },
   {
    "duration": 0,
    "start_time": "2023-09-07T15:27:27.449Z"
   },
   {
    "duration": 0,
    "start_time": "2023-09-07T15:27:27.450Z"
   },
   {
    "duration": 0,
    "start_time": "2023-09-07T15:27:27.451Z"
   },
   {
    "duration": 103,
    "start_time": "2023-09-07T15:28:27.805Z"
   },
   {
    "duration": 3,
    "start_time": "2023-09-07T15:29:00.642Z"
   },
   {
    "duration": 1814,
    "start_time": "2023-09-07T15:29:12.994Z"
   },
   {
    "duration": 4,
    "start_time": "2023-09-07T15:29:17.673Z"
   },
   {
    "duration": 10401,
    "start_time": "2023-09-07T15:29:27.786Z"
   },
   {
    "duration": 5,
    "start_time": "2023-09-07T15:29:39.287Z"
   },
   {
    "duration": 23483,
    "start_time": "2023-09-07T15:29:40.959Z"
   },
   {
    "duration": 4,
    "start_time": "2023-09-07T15:30:04.444Z"
   },
   {
    "duration": 192896,
    "start_time": "2023-09-07T15:30:04.450Z"
   },
   {
    "duration": 4,
    "start_time": "2023-09-07T15:33:17.348Z"
   },
   {
    "duration": 152275,
    "start_time": "2023-09-07T15:33:17.354Z"
   },
   {
    "duration": 6,
    "start_time": "2023-09-07T15:35:49.632Z"
   },
   {
    "duration": 9,
    "start_time": "2023-09-07T15:37:12.606Z"
   },
   {
    "duration": 41,
    "start_time": "2023-09-07T15:37:38.463Z"
   },
   {
    "duration": 25,
    "start_time": "2023-09-07T15:37:40.892Z"
   },
   {
    "duration": 6,
    "start_time": "2023-09-07T15:37:42.242Z"
   },
   {
    "duration": 130,
    "start_time": "2023-09-07T15:37:43.343Z"
   },
   {
    "duration": 125,
    "start_time": "2023-09-07T15:37:44.311Z"
   },
   {
    "duration": 12,
    "start_time": "2023-09-07T15:37:45.714Z"
   },
   {
    "duration": 2656,
    "start_time": "2023-09-07T15:37:47.195Z"
   },
   {
    "duration": 7,
    "start_time": "2023-09-07T15:37:52.375Z"
   },
   {
    "duration": 440,
    "start_time": "2023-09-07T15:37:54.360Z"
   }
  ],
  "kernelspec": {
   "display_name": "Python 3 (ipykernel)",
   "language": "python",
   "name": "python3"
  },
  "language_info": {
   "codemirror_mode": {
    "name": "ipython",
    "version": 3
   },
   "file_extension": ".py",
   "mimetype": "text/x-python",
   "name": "python",
   "nbconvert_exporter": "python",
   "pygments_lexer": "ipython3",
   "version": "3.10.2"
  },
  "toc": {
   "base_numbering": 1,
   "nav_menu": {},
   "number_sections": false,
   "sideBar": true,
   "skip_h1_title": false,
   "title_cell": "Table of Contents",
   "title_sidebar": "Contents",
   "toc_cell": false,
   "toc_position": {},
   "toc_section_display": true,
   "toc_window_display": false
  },
  "varInspector": {
   "cols": {
    "lenName": 16,
    "lenType": 16,
    "lenVar": 40
   },
   "kernels_config": {
    "python": {
     "delete_cmd_postfix": "",
     "delete_cmd_prefix": "del ",
     "library": "var_list.py",
     "varRefreshCmd": "print(var_dic_list())"
    },
    "r": {
     "delete_cmd_postfix": ") ",
     "delete_cmd_prefix": "rm(",
     "library": "var_list.r",
     "varRefreshCmd": "cat(var_dic_list()) "
    }
   },
   "types_to_exclude": [
    "module",
    "function",
    "builtin_function_or_method",
    "instance",
    "_Feature"
   ],
   "window_display": false
  }
 },
 "nbformat": 4,
 "nbformat_minor": 5
}
