{
 "cells": [
  {
   "cell_type": "markdown",
   "metadata": {},
   "source": [
    "Привет! меня зовут Люман Аблаев. Сегодня я проверю твой проект.\n",
    "<br> Дальнейшее общение будет происходить на \"ты\" если это не вызывает никаких проблем.\n",
    "<br> Желательно реагировать на каждый мой комментарий ('исправил', 'не понятно как исправить ошибку', ...)\n",
    "<br> Пожалуйста, не удаляй комментарии ревьюера, так как они повышают качество повторного ревью.\n",
    "\n",
    "Комментарии будут в <font color='green'>зеленой</font>, <font color='blue'>синей</font> или <font color='red'>красной</font> рамках:\n",
    "\n",
    "\n",
    "<div class=\"alert alert-block alert-success\">\n",
    "<b>Успех:</b> Если все сделано отлично\n",
    "</div>\n",
    "\n",
    "<div class=\"alert alert-block alert-info\">\n",
    "<b>Совет: </b> Если можно немного улучшить\n",
    "</div>\n",
    "\n",
    "<div class=\"alert alert-block alert-danger\">\n",
    "<b>Ошибка:</b> Если требуются исправления. Работа не может быть принята с красными комментариями.\n",
    "</div>\n",
    "\n",
    "-------------------\n",
    "\n",
    "Будет очень хорошо, если ты будешь помечать свои действия следующим образом:\n",
    "<div class=\"alert alert-block alert-warning\">\n",
    "<b>Комментарий студента:</b> ..\n",
    "</div>\n",
    "<div class=\"alert alert-block alert-warning\">\n",
    "<b>Изменения:</b> Были внесены следующие изменения ...\n",
    "</div>\n",
    "\n",
    "<font color='orange' style='font-size:24px; font-weight:bold'>Общее впечатление</font>\n",
    "* Спасибо за  качественную работу, было интересно ее проверять.\n",
    "- Я оставил некоторые советы надеюсь они будут полезными или интересными.\n",
    "- Техника бутстрап применилась корректно, было проведено тщательное исследование и выбран правильный регион!\n",
    "- Отправляю проект назад, чтобы у тебя была возможность задать вопросы, если они у тебя есть. Если их нет, то можешь просто отправить проект еще раз и я его зачту\n"
   ]
  },
  {
   "cell_type": "markdown",
   "metadata": {},
   "source": [
    "<div class=\"alert alert-block alert-warning\">\n",
    "<b>Комментарий студента:</b> Привет! Спасибо за такую быструю проверку) Я прочитал все комментарии и обязательно посмотрю все приложенные ссылки, потому что в целом тема для меня была достаточно сложная местами)\n",
    "</div>"
   ]
  },
  {
   "cell_type": "markdown",
   "metadata": {},
   "source": [
    "<div class=\"alert alert-block alert-success\">\n",
    "<b>Ревьювер[2]:</b> Взаимно =) приятно видеть фидбек. Рад был быть полезен. Удачи в дальнейшем обучении!\n",
    "</div>\n"
   ]
  },
  {
   "cell_type": "markdown",
   "metadata": {},
   "source": [
    "# Выбор локации для скважины"
   ]
  },
  {
   "cell_type": "markdown",
   "metadata": {},
   "source": [
    "Допустим, вы работаете в добывающей компании «ГлавРосГосНефть». Нужно решить, где бурить новую скважину.\n",
    "\n",
    "Вам предоставлены пробы нефти в трёх регионах: в каждом 10 000 месторождений, где измерили качество нефти и объём её запасов. Постройте модель машинного обучения, которая поможет определить регион, где добыча принесёт наибольшую прибыль. Проанализируйте возможную прибыль и риски техникой *Bootstrap.*\n",
    "\n",
    "Шаги для выбора локации:\n",
    "\n",
    "- В избранном регионе ищут месторождения, для каждого определяют значения признаков;\n",
    "- Строят модель и оценивают объём запасов;\n",
    "- Выбирают месторождения с самым высокими оценками значений. Количество месторождений зависит от бюджета компании и стоимости разработки одной скважины;\n",
    "- Прибыль равна суммарной прибыли отобранных месторождений."
   ]
  },
  {
   "cell_type": "markdown",
   "metadata": {},
   "source": [
    "## Загрузка и подготовка данных"
   ]
  },
  {
   "cell_type": "markdown",
   "metadata": {},
   "source": [
    "По условию задачи нам нужно выбрать регион для бурения новой нефтяной скважины. Нам нужно оценить качество нефти и объем запасов. Предсказать значения для новых скважин. Выбрать регион с максимальными значениями."
   ]
  },
  {
   "cell_type": "markdown",
   "metadata": {},
   "source": [
    "Все необходимые импорты будет делать здесь"
   ]
  },
  {
   "cell_type": "code",
   "execution_count": 25,
   "metadata": {},
   "outputs": [],
   "source": [
    "import pandas as pd\n",
    "\n",
    "from sklearn.model_selection import train_test_split\n",
    "from sklearn.preprocessing import StandardScaler\n",
    "from sklearn.metrics import mean_squared_error\n",
    "from numpy.random import RandomState\n",
    "from scipy import stats as st\n",
    "\n",
    "from sklearn.linear_model import LinearRegression"
   ]
  },
  {
   "cell_type": "markdown",
   "metadata": {},
   "source": [
    "\n",
    "<div class=\"alert alert-block alert-success\">\n",
    "<b>Успех:</b> Импорты  на месте\n",
    "</div>\n",
    "\n"
   ]
  },
  {
   "cell_type": "markdown",
   "metadata": {},
   "source": [
    "В нашем распоряжении три датасета по трем регионам. Откроем и посмотрим все три таблицы."
   ]
  },
  {
   "cell_type": "code",
   "execution_count": 26,
   "metadata": {},
   "outputs": [],
   "source": [
    "data_0 = pd.read_csv('/datasets/geo_data_0.csv')\n",
    "data_1 = pd.read_csv('/datasets/geo_data_1.csv')\n",
    "data_2 = pd.read_csv('/datasets/geo_data_2.csv')"
   ]
  },
  {
   "cell_type": "markdown",
   "metadata": {},
   "source": [
    "В таблице можно увидеть номер скважины (id), значимых признака скважины (f0, f1, f2) и объем запасов в тыс. баррелей (product)."
   ]
  },
  {
   "cell_type": "code",
   "execution_count": 27,
   "metadata": {},
   "outputs": [
    {
     "data": {
      "text/html": [
       "<div>\n",
       "<style scoped>\n",
       "    .dataframe tbody tr th:only-of-type {\n",
       "        vertical-align: middle;\n",
       "    }\n",
       "\n",
       "    .dataframe tbody tr th {\n",
       "        vertical-align: top;\n",
       "    }\n",
       "\n",
       "    .dataframe thead th {\n",
       "        text-align: right;\n",
       "    }\n",
       "</style>\n",
       "<table border=\"1\" class=\"dataframe\">\n",
       "  <thead>\n",
       "    <tr style=\"text-align: right;\">\n",
       "      <th></th>\n",
       "      <th>id</th>\n",
       "      <th>f0</th>\n",
       "      <th>f1</th>\n",
       "      <th>f2</th>\n",
       "      <th>product</th>\n",
       "    </tr>\n",
       "  </thead>\n",
       "  <tbody>\n",
       "    <tr>\n",
       "      <th>0</th>\n",
       "      <td>txEyH</td>\n",
       "      <td>0.705745</td>\n",
       "      <td>-0.497823</td>\n",
       "      <td>1.221170</td>\n",
       "      <td>105.280062</td>\n",
       "    </tr>\n",
       "    <tr>\n",
       "      <th>1</th>\n",
       "      <td>2acmU</td>\n",
       "      <td>1.334711</td>\n",
       "      <td>-0.340164</td>\n",
       "      <td>4.365080</td>\n",
       "      <td>73.037750</td>\n",
       "    </tr>\n",
       "    <tr>\n",
       "      <th>2</th>\n",
       "      <td>409Wp</td>\n",
       "      <td>1.022732</td>\n",
       "      <td>0.151990</td>\n",
       "      <td>1.419926</td>\n",
       "      <td>85.265647</td>\n",
       "    </tr>\n",
       "    <tr>\n",
       "      <th>3</th>\n",
       "      <td>iJLyR</td>\n",
       "      <td>-0.032172</td>\n",
       "      <td>0.139033</td>\n",
       "      <td>2.978566</td>\n",
       "      <td>168.620776</td>\n",
       "    </tr>\n",
       "    <tr>\n",
       "      <th>4</th>\n",
       "      <td>Xdl7t</td>\n",
       "      <td>1.988431</td>\n",
       "      <td>0.155413</td>\n",
       "      <td>4.751769</td>\n",
       "      <td>154.036647</td>\n",
       "    </tr>\n",
       "  </tbody>\n",
       "</table>\n",
       "</div>"
      ],
      "text/plain": [
       "      id        f0        f1        f2     product\n",
       "0  txEyH  0.705745 -0.497823  1.221170  105.280062\n",
       "1  2acmU  1.334711 -0.340164  4.365080   73.037750\n",
       "2  409Wp  1.022732  0.151990  1.419926   85.265647\n",
       "3  iJLyR -0.032172  0.139033  2.978566  168.620776\n",
       "4  Xdl7t  1.988431  0.155413  4.751769  154.036647"
      ]
     },
     "execution_count": 27,
     "metadata": {},
     "output_type": "execute_result"
    }
   ],
   "source": [
    "data_0.head()"
   ]
  },
  {
   "cell_type": "code",
   "execution_count": 28,
   "metadata": {},
   "outputs": [
    {
     "data": {
      "text/html": [
       "<div>\n",
       "<style scoped>\n",
       "    .dataframe tbody tr th:only-of-type {\n",
       "        vertical-align: middle;\n",
       "    }\n",
       "\n",
       "    .dataframe tbody tr th {\n",
       "        vertical-align: top;\n",
       "    }\n",
       "\n",
       "    .dataframe thead th {\n",
       "        text-align: right;\n",
       "    }\n",
       "</style>\n",
       "<table border=\"1\" class=\"dataframe\">\n",
       "  <thead>\n",
       "    <tr style=\"text-align: right;\">\n",
       "      <th></th>\n",
       "      <th>id</th>\n",
       "      <th>f0</th>\n",
       "      <th>f1</th>\n",
       "      <th>f2</th>\n",
       "      <th>product</th>\n",
       "    </tr>\n",
       "  </thead>\n",
       "  <tbody>\n",
       "    <tr>\n",
       "      <th>0</th>\n",
       "      <td>kBEdx</td>\n",
       "      <td>-15.001348</td>\n",
       "      <td>-8.276000</td>\n",
       "      <td>-0.005876</td>\n",
       "      <td>3.179103</td>\n",
       "    </tr>\n",
       "    <tr>\n",
       "      <th>1</th>\n",
       "      <td>62mP7</td>\n",
       "      <td>14.272088</td>\n",
       "      <td>-3.475083</td>\n",
       "      <td>0.999183</td>\n",
       "      <td>26.953261</td>\n",
       "    </tr>\n",
       "    <tr>\n",
       "      <th>2</th>\n",
       "      <td>vyE1P</td>\n",
       "      <td>6.263187</td>\n",
       "      <td>-5.948386</td>\n",
       "      <td>5.001160</td>\n",
       "      <td>134.766305</td>\n",
       "    </tr>\n",
       "    <tr>\n",
       "      <th>3</th>\n",
       "      <td>KcrkZ</td>\n",
       "      <td>-13.081196</td>\n",
       "      <td>-11.506057</td>\n",
       "      <td>4.999415</td>\n",
       "      <td>137.945408</td>\n",
       "    </tr>\n",
       "    <tr>\n",
       "      <th>4</th>\n",
       "      <td>AHL4O</td>\n",
       "      <td>12.702195</td>\n",
       "      <td>-8.147433</td>\n",
       "      <td>5.004363</td>\n",
       "      <td>134.766305</td>\n",
       "    </tr>\n",
       "  </tbody>\n",
       "</table>\n",
       "</div>"
      ],
      "text/plain": [
       "      id         f0         f1        f2     product\n",
       "0  kBEdx -15.001348  -8.276000 -0.005876    3.179103\n",
       "1  62mP7  14.272088  -3.475083  0.999183   26.953261\n",
       "2  vyE1P   6.263187  -5.948386  5.001160  134.766305\n",
       "3  KcrkZ -13.081196 -11.506057  4.999415  137.945408\n",
       "4  AHL4O  12.702195  -8.147433  5.004363  134.766305"
      ]
     },
     "execution_count": 28,
     "metadata": {},
     "output_type": "execute_result"
    }
   ],
   "source": [
    "data_1.head()"
   ]
  },
  {
   "cell_type": "code",
   "execution_count": 29,
   "metadata": {},
   "outputs": [
    {
     "data": {
      "text/html": [
       "<div>\n",
       "<style scoped>\n",
       "    .dataframe tbody tr th:only-of-type {\n",
       "        vertical-align: middle;\n",
       "    }\n",
       "\n",
       "    .dataframe tbody tr th {\n",
       "        vertical-align: top;\n",
       "    }\n",
       "\n",
       "    .dataframe thead th {\n",
       "        text-align: right;\n",
       "    }\n",
       "</style>\n",
       "<table border=\"1\" class=\"dataframe\">\n",
       "  <thead>\n",
       "    <tr style=\"text-align: right;\">\n",
       "      <th></th>\n",
       "      <th>id</th>\n",
       "      <th>f0</th>\n",
       "      <th>f1</th>\n",
       "      <th>f2</th>\n",
       "      <th>product</th>\n",
       "    </tr>\n",
       "  </thead>\n",
       "  <tbody>\n",
       "    <tr>\n",
       "      <th>0</th>\n",
       "      <td>fwXo0</td>\n",
       "      <td>-1.146987</td>\n",
       "      <td>0.963328</td>\n",
       "      <td>-0.828965</td>\n",
       "      <td>27.758673</td>\n",
       "    </tr>\n",
       "    <tr>\n",
       "      <th>1</th>\n",
       "      <td>WJtFt</td>\n",
       "      <td>0.262778</td>\n",
       "      <td>0.269839</td>\n",
       "      <td>-2.530187</td>\n",
       "      <td>56.069697</td>\n",
       "    </tr>\n",
       "    <tr>\n",
       "      <th>2</th>\n",
       "      <td>ovLUW</td>\n",
       "      <td>0.194587</td>\n",
       "      <td>0.289035</td>\n",
       "      <td>-5.586433</td>\n",
       "      <td>62.871910</td>\n",
       "    </tr>\n",
       "    <tr>\n",
       "      <th>3</th>\n",
       "      <td>q6cA6</td>\n",
       "      <td>2.236060</td>\n",
       "      <td>-0.553760</td>\n",
       "      <td>0.930038</td>\n",
       "      <td>114.572842</td>\n",
       "    </tr>\n",
       "    <tr>\n",
       "      <th>4</th>\n",
       "      <td>WPMUX</td>\n",
       "      <td>-0.515993</td>\n",
       "      <td>1.716266</td>\n",
       "      <td>5.899011</td>\n",
       "      <td>149.600746</td>\n",
       "    </tr>\n",
       "  </tbody>\n",
       "</table>\n",
       "</div>"
      ],
      "text/plain": [
       "      id        f0        f1        f2     product\n",
       "0  fwXo0 -1.146987  0.963328 -0.828965   27.758673\n",
       "1  WJtFt  0.262778  0.269839 -2.530187   56.069697\n",
       "2  ovLUW  0.194587  0.289035 -5.586433   62.871910\n",
       "3  q6cA6  2.236060 -0.553760  0.930038  114.572842\n",
       "4  WPMUX -0.515993  1.716266  5.899011  149.600746"
      ]
     },
     "execution_count": 29,
     "metadata": {},
     "output_type": "execute_result"
    }
   ],
   "source": [
    "data_2.head()"
   ]
  },
  {
   "cell_type": "markdown",
   "metadata": {},
   "source": [
    "Посмотрим внимательнее на состав данных. В таблицах нет нулевых значений. Формат основных данных числовой."
   ]
  },
  {
   "cell_type": "code",
   "execution_count": 30,
   "metadata": {},
   "outputs": [
    {
     "name": "stdout",
     "output_type": "stream",
     "text": [
      "<class 'pandas.core.frame.DataFrame'>\n",
      "RangeIndex: 100000 entries, 0 to 99999\n",
      "Data columns (total 5 columns):\n",
      " #   Column   Non-Null Count   Dtype  \n",
      "---  ------   --------------   -----  \n",
      " 0   id       100000 non-null  object \n",
      " 1   f0       100000 non-null  float64\n",
      " 2   f1       100000 non-null  float64\n",
      " 3   f2       100000 non-null  float64\n",
      " 4   product  100000 non-null  float64\n",
      "dtypes: float64(4), object(1)\n",
      "memory usage: 3.8+ MB\n"
     ]
    }
   ],
   "source": [
    "data_0.info()"
   ]
  },
  {
   "cell_type": "code",
   "execution_count": 31,
   "metadata": {},
   "outputs": [
    {
     "name": "stdout",
     "output_type": "stream",
     "text": [
      "<class 'pandas.core.frame.DataFrame'>\n",
      "RangeIndex: 100000 entries, 0 to 99999\n",
      "Data columns (total 5 columns):\n",
      " #   Column   Non-Null Count   Dtype  \n",
      "---  ------   --------------   -----  \n",
      " 0   id       100000 non-null  object \n",
      " 1   f0       100000 non-null  float64\n",
      " 2   f1       100000 non-null  float64\n",
      " 3   f2       100000 non-null  float64\n",
      " 4   product  100000 non-null  float64\n",
      "dtypes: float64(4), object(1)\n",
      "memory usage: 3.8+ MB\n"
     ]
    }
   ],
   "source": [
    "data_1.info()"
   ]
  },
  {
   "cell_type": "code",
   "execution_count": 32,
   "metadata": {},
   "outputs": [
    {
     "name": "stdout",
     "output_type": "stream",
     "text": [
      "<class 'pandas.core.frame.DataFrame'>\n",
      "RangeIndex: 100000 entries, 0 to 99999\n",
      "Data columns (total 5 columns):\n",
      " #   Column   Non-Null Count   Dtype  \n",
      "---  ------   --------------   -----  \n",
      " 0   id       100000 non-null  object \n",
      " 1   f0       100000 non-null  float64\n",
      " 2   f1       100000 non-null  float64\n",
      " 3   f2       100000 non-null  float64\n",
      " 4   product  100000 non-null  float64\n",
      "dtypes: float64(4), object(1)\n",
      "memory usage: 3.8+ MB\n"
     ]
    }
   ],
   "source": [
    "data_2.info()"
   ]
  },
  {
   "cell_type": "markdown",
   "metadata": {},
   "source": [
    "Пропусков в данных не обнаружено. Можно переходить к обучению и проверке модели."
   ]
  },
  {
   "cell_type": "code",
   "execution_count": 33,
   "metadata": {},
   "outputs": [
    {
     "data": {
      "text/plain": [
       "id         0\n",
       "f0         0\n",
       "f1         0\n",
       "f2         0\n",
       "product    0\n",
       "dtype: int64"
      ]
     },
     "execution_count": 33,
     "metadata": {},
     "output_type": "execute_result"
    }
   ],
   "source": [
    "data_0.isna().sum()"
   ]
  },
  {
   "cell_type": "code",
   "execution_count": 34,
   "metadata": {},
   "outputs": [
    {
     "data": {
      "text/plain": [
       "id         0\n",
       "f0         0\n",
       "f1         0\n",
       "f2         0\n",
       "product    0\n",
       "dtype: int64"
      ]
     },
     "execution_count": 34,
     "metadata": {},
     "output_type": "execute_result"
    }
   ],
   "source": [
    "data_1.isna().sum()"
   ]
  },
  {
   "cell_type": "code",
   "execution_count": 35,
   "metadata": {
    "scrolled": true
   },
   "outputs": [
    {
     "data": {
      "text/plain": [
       "id         0\n",
       "f0         0\n",
       "f1         0\n",
       "f2         0\n",
       "product    0\n",
       "dtype: int64"
      ]
     },
     "execution_count": 35,
     "metadata": {},
     "output_type": "execute_result"
    }
   ],
   "source": [
    "data_2.isna().sum()"
   ]
  },
  {
   "cell_type": "markdown",
   "metadata": {},
   "source": [
    "<div class=\"alert alert-block alert-success\">\n",
    "<b>Успех:</b> Данные осмотрены, но можно было бы еще как минимум изучить корреляции, так как мы планируем использовать линейные модели, а для них это важно. \n",
    "</div>\n",
    "\n",
    "\n",
    "<div class=\"alert alert-block alert-info\">\n",
    "<b>Совет:</b>  Советую обратить внимание на библиотеки sweetviz и pandas_profiling помогут в проведении более тщательного EDA анализа. Исследовательский анализ можно делать и с помощью ручного вызова функций дефолтных библиотек. Данные библиотеки хороши для максимизации комфорта презентации результатов анализа бизнес-пользователям.  \n",
    "\n",
    "Очень просты в использоовании, на вход кладется датафрейм: pandas_profiling.ProfileReport(df) \n",
    "</div>"
   ]
  },
  {
   "cell_type": "markdown",
   "metadata": {},
   "source": [
    "## Обучение и проверка модели"
   ]
  },
  {
   "cell_type": "markdown",
   "metadata": {},
   "source": [
    "Условие задачи предполагает, что лучшей моделью для решения является линейная регрессия, т.к. остальные недостаточно предсказуемы. Напишем функцию, которая сделает предсказания по всем трем регионам."
   ]
  },
  {
   "cell_type": "code",
   "execution_count": 36,
   "metadata": {},
   "outputs": [],
   "source": [
    "def all_data(data):\n",
    "    # удалим из таблицы столбец id, так как он не несет полезной информации для обучения\n",
    "    data = data.drop('id', axis=1)\n",
    "    # разделим данные на признаки (f0, f1, f2) и целевой признак (product)\n",
    "    features = data.drop('product', axis=1)\n",
    "    target = data['product']\n",
    "    # согласно условию, разделим данные на обучающую и валидационную выборки в пропорции 75:25\n",
    "    features_train, features_valid, target_train, target_valid = train_test_split(features, target, \n",
    "                                                                                  test_size=0.25, \n",
    "                                                                                  random_state=12345)\n",
    "    # так как мы не знаем, что за данные и в каком формате представлены в признаках, приведем их единому масштабу\n",
    "    numeric = ['f0', 'f1', 'f2']\n",
    "    scaler = StandardScaler()\n",
    "    scaler.fit(features_train[numeric])\n",
    "    features_train[numeric] = scaler.transform(features_train[numeric])\n",
    "    features_valid[numeric] = scaler.transform(features_valid[numeric])\n",
    "    # применим модель линейной регрессии\n",
    "    model = LinearRegression()\n",
    "    # обучим ее на обучающей выборке и сделаем предсказания\n",
    "    model.fit(features_train, target_train)\n",
    "    predictions_valid = model.predict(features_valid)\n",
    "    predictions_valid = pd.Series(predictions_valid)\n",
    "    target_valid = pd.Series(target_valid)\n",
    "    mse = mean_squared_error(target_valid, predictions_valid)\n",
    "    # для оценки качества модели используем метрику rmse\n",
    "    mean_reserve = predictions_valid.mean()\n",
    "    rmse = mse ** 0.5\n",
    "    return predictions_valid, target_valid.reset_index(drop=True), mean_reserve, rmse"
   ]
  },
  {
   "cell_type": "code",
   "execution_count": 37,
   "metadata": {
    "scrolled": true
   },
   "outputs": [
    {
     "name": "stderr",
     "output_type": "stream",
     "text": [
      "/tmp/ipykernel_138/3585629615.py:15: SettingWithCopyWarning: \n",
      "A value is trying to be set on a copy of a slice from a DataFrame.\n",
      "Try using .loc[row_indexer,col_indexer] = value instead\n",
      "\n",
      "See the caveats in the documentation: https://pandas.pydata.org/pandas-docs/stable/user_guide/indexing.html#returning-a-view-versus-a-copy\n",
      "  features_train[numeric] = scaler.transform(features_train[numeric])\n",
      "/opt/conda/lib/python3.9/site-packages/pandas/core/indexing.py:1637: SettingWithCopyWarning: \n",
      "A value is trying to be set on a copy of a slice from a DataFrame\n",
      "\n",
      "See the caveats in the documentation: https://pandas.pydata.org/pandas-docs/stable/user_guide/indexing.html#returning-a-view-versus-a-copy\n",
      "  self._setitem_single_block(indexer, value, name)\n",
      "/opt/conda/lib/python3.9/site-packages/pandas/core/indexing.py:692: SettingWithCopyWarning: \n",
      "A value is trying to be set on a copy of a slice from a DataFrame\n",
      "\n",
      "See the caveats in the documentation: https://pandas.pydata.org/pandas-docs/stable/user_guide/indexing.html#returning-a-view-versus-a-copy\n",
      "  iloc._setitem_with_indexer(indexer, value, self.name)\n",
      "/tmp/ipykernel_138/3585629615.py:16: SettingWithCopyWarning: \n",
      "A value is trying to be set on a copy of a slice from a DataFrame.\n",
      "Try using .loc[row_indexer,col_indexer] = value instead\n",
      "\n",
      "See the caveats in the documentation: https://pandas.pydata.org/pandas-docs/stable/user_guide/indexing.html#returning-a-view-versus-a-copy\n",
      "  features_valid[numeric] = scaler.transform(features_valid[numeric])\n",
      "/opt/conda/lib/python3.9/site-packages/pandas/core/indexing.py:1637: SettingWithCopyWarning: \n",
      "A value is trying to be set on a copy of a slice from a DataFrame\n",
      "\n",
      "See the caveats in the documentation: https://pandas.pydata.org/pandas-docs/stable/user_guide/indexing.html#returning-a-view-versus-a-copy\n",
      "  self._setitem_single_block(indexer, value, name)\n",
      "/opt/conda/lib/python3.9/site-packages/pandas/core/indexing.py:692: SettingWithCopyWarning: \n",
      "A value is trying to be set on a copy of a slice from a DataFrame\n",
      "\n",
      "See the caveats in the documentation: https://pandas.pydata.org/pandas-docs/stable/user_guide/indexing.html#returning-a-view-versus-a-copy\n",
      "  iloc._setitem_with_indexer(indexer, value, self.name)\n",
      "/tmp/ipykernel_138/3585629615.py:15: SettingWithCopyWarning: \n",
      "A value is trying to be set on a copy of a slice from a DataFrame.\n",
      "Try using .loc[row_indexer,col_indexer] = value instead\n",
      "\n",
      "See the caveats in the documentation: https://pandas.pydata.org/pandas-docs/stable/user_guide/indexing.html#returning-a-view-versus-a-copy\n",
      "  features_train[numeric] = scaler.transform(features_train[numeric])\n",
      "/opt/conda/lib/python3.9/site-packages/pandas/core/indexing.py:1637: SettingWithCopyWarning: \n",
      "A value is trying to be set on a copy of a slice from a DataFrame\n",
      "\n",
      "See the caveats in the documentation: https://pandas.pydata.org/pandas-docs/stable/user_guide/indexing.html#returning-a-view-versus-a-copy\n",
      "  self._setitem_single_block(indexer, value, name)\n",
      "/opt/conda/lib/python3.9/site-packages/pandas/core/indexing.py:692: SettingWithCopyWarning: \n",
      "A value is trying to be set on a copy of a slice from a DataFrame\n",
      "\n",
      "See the caveats in the documentation: https://pandas.pydata.org/pandas-docs/stable/user_guide/indexing.html#returning-a-view-versus-a-copy\n",
      "  iloc._setitem_with_indexer(indexer, value, self.name)\n",
      "/tmp/ipykernel_138/3585629615.py:16: SettingWithCopyWarning: \n",
      "A value is trying to be set on a copy of a slice from a DataFrame.\n",
      "Try using .loc[row_indexer,col_indexer] = value instead\n",
      "\n",
      "See the caveats in the documentation: https://pandas.pydata.org/pandas-docs/stable/user_guide/indexing.html#returning-a-view-versus-a-copy\n",
      "  features_valid[numeric] = scaler.transform(features_valid[numeric])\n",
      "/opt/conda/lib/python3.9/site-packages/pandas/core/indexing.py:1637: SettingWithCopyWarning: \n",
      "A value is trying to be set on a copy of a slice from a DataFrame\n",
      "\n",
      "See the caveats in the documentation: https://pandas.pydata.org/pandas-docs/stable/user_guide/indexing.html#returning-a-view-versus-a-copy\n",
      "  self._setitem_single_block(indexer, value, name)\n",
      "/opt/conda/lib/python3.9/site-packages/pandas/core/indexing.py:692: SettingWithCopyWarning: \n",
      "A value is trying to be set on a copy of a slice from a DataFrame\n",
      "\n",
      "See the caveats in the documentation: https://pandas.pydata.org/pandas-docs/stable/user_guide/indexing.html#returning-a-view-versus-a-copy\n",
      "  iloc._setitem_with_indexer(indexer, value, self.name)\n",
      "/tmp/ipykernel_138/3585629615.py:15: SettingWithCopyWarning: \n",
      "A value is trying to be set on a copy of a slice from a DataFrame.\n",
      "Try using .loc[row_indexer,col_indexer] = value instead\n",
      "\n",
      "See the caveats in the documentation: https://pandas.pydata.org/pandas-docs/stable/user_guide/indexing.html#returning-a-view-versus-a-copy\n",
      "  features_train[numeric] = scaler.transform(features_train[numeric])\n",
      "/opt/conda/lib/python3.9/site-packages/pandas/core/indexing.py:1637: SettingWithCopyWarning: \n",
      "A value is trying to be set on a copy of a slice from a DataFrame\n",
      "\n",
      "See the caveats in the documentation: https://pandas.pydata.org/pandas-docs/stable/user_guide/indexing.html#returning-a-view-versus-a-copy\n",
      "  self._setitem_single_block(indexer, value, name)\n",
      "/opt/conda/lib/python3.9/site-packages/pandas/core/indexing.py:692: SettingWithCopyWarning: \n",
      "A value is trying to be set on a copy of a slice from a DataFrame\n",
      "\n",
      "See the caveats in the documentation: https://pandas.pydata.org/pandas-docs/stable/user_guide/indexing.html#returning-a-view-versus-a-copy\n",
      "  iloc._setitem_with_indexer(indexer, value, self.name)\n",
      "/tmp/ipykernel_138/3585629615.py:16: SettingWithCopyWarning: \n",
      "A value is trying to be set on a copy of a slice from a DataFrame.\n",
      "Try using .loc[row_indexer,col_indexer] = value instead\n",
      "\n",
      "See the caveats in the documentation: https://pandas.pydata.org/pandas-docs/stable/user_guide/indexing.html#returning-a-view-versus-a-copy\n",
      "  features_valid[numeric] = scaler.transform(features_valid[numeric])\n",
      "/opt/conda/lib/python3.9/site-packages/pandas/core/indexing.py:1637: SettingWithCopyWarning: \n",
      "A value is trying to be set on a copy of a slice from a DataFrame\n",
      "\n",
      "See the caveats in the documentation: https://pandas.pydata.org/pandas-docs/stable/user_guide/indexing.html#returning-a-view-versus-a-copy\n",
      "  self._setitem_single_block(indexer, value, name)\n",
      "/opt/conda/lib/python3.9/site-packages/pandas/core/indexing.py:692: SettingWithCopyWarning: \n",
      "A value is trying to be set on a copy of a slice from a DataFrame\n",
      "\n",
      "See the caveats in the documentation: https://pandas.pydata.org/pandas-docs/stable/user_guide/indexing.html#returning-a-view-versus-a-copy\n",
      "  iloc._setitem_with_indexer(indexer, value, self.name)\n"
     ]
    }
   ],
   "source": [
    "predictions_valid_0, target_valid_0, mean_reserve_0, rmse_0 = all_data(data_0)\n",
    "predictions_valid_1, target_valid_1, mean_reserve_1, rmse_1 = all_data(data_1)\n",
    "predictions_valid_2, target_valid_2, mean_reserve_2, rmse_2 = all_data(data_2)"
   ]
  },
  {
   "cell_type": "markdown",
   "metadata": {},
   "source": [
    "Выведем полученные значения."
   ]
  },
  {
   "cell_type": "code",
   "execution_count": 38,
   "metadata": {},
   "outputs": [
    {
     "name": "stdout",
     "output_type": "stream",
     "text": [
      "Регион 0\n",
      "Среднее значение запасов: 92.6\n",
      "RMSE: 37.58\n"
     ]
    }
   ],
   "source": [
    "print('Регион 0')\n",
    "print('Среднее значение запасов:', round(mean_reserve_0, 1))\n",
    "print('RMSE:', round(rmse_0, 2))"
   ]
  },
  {
   "cell_type": "code",
   "execution_count": 39,
   "metadata": {},
   "outputs": [
    {
     "name": "stdout",
     "output_type": "stream",
     "text": [
      "Регион 1\n",
      "Среднее значение запасов: 68.7\n",
      "RMSE: 0.89\n"
     ]
    }
   ],
   "source": [
    "print('Регион 1')\n",
    "print('Среднее значение запасов:', round(mean_reserve_1, 1))\n",
    "print('RMSE:', round(rmse_1, 2))"
   ]
  },
  {
   "cell_type": "code",
   "execution_count": 40,
   "metadata": {},
   "outputs": [
    {
     "name": "stdout",
     "output_type": "stream",
     "text": [
      "Регион 2\n",
      "Среднее значение запасов: 95.0\n",
      "RMSE: 40.03\n"
     ]
    }
   ],
   "source": [
    "print('Регион 2')\n",
    "print('Среднее значение запасов:', round(mean_reserve_2, 1))\n",
    "print('RMSE:', round(rmse_2, 2))"
   ]
  },
  {
   "cell_type": "markdown",
   "metadata": {},
   "source": [
    "Оценка средних запасов на скважине в регионах 0 и 2 оказалась самая высокая, но отклонение тоже получилось в обоих случаях очень большим. Для региона 1 модель предсказала значения практически идеально."
   ]
  },
  {
   "cell_type": "markdown",
   "metadata": {},
   "source": [
    "\n",
    "<div class=\"alert alert-block alert-success\">\n",
    "<b>Успех:</b> Шаг проделан лаконично, все метрики посчитаны корректно\n",
    "</div> \n"
   ]
  },
  {
   "cell_type": "markdown",
   "metadata": {},
   "source": [
    "## Подготовка к расчёту прибыли"
   ]
  },
  {
   "cell_type": "markdown",
   "metadata": {},
   "source": [
    "Подготовим условия задачи к расчету прибыли."
   ]
  },
  {
   "cell_type": "code",
   "execution_count": 41,
   "metadata": {},
   "outputs": [],
   "source": [
    "researched_points = 500 # количество точек, исследуемое при разведке региона\n",
    "selected_points = 200 # количество отбираемых точек\n",
    "budget = 10 ** 10 # бюджет на разработку скважин в регионе\n",
    "revenue_pb = 450000 # доход с 1 тыс. баррелей в текущих ценах\n",
    "risk = 0.025 # вероятность убытка в регионе должна быть меньше 2,5%"
   ]
  },
  {
   "cell_type": "markdown",
   "metadata": {},
   "source": [
    "\n",
    "<div class=\"alert alert-block alert-info\">\n",
    "    \n",
    "<b>Совет:</b> Константы принято записывать в ВЕРХНЕМ РЕГИСТРЕ =) Читем здесь https://pythonworld.ru/osnovy/pep-8-rukovodstvo-po-napisaniyu-koda-na-python.html#section-29\n",
    "    \n",
    "А большие значение можно записывать так: `450_000`.\n",
    "</div> \n"
   ]
  },
  {
   "cell_type": "markdown",
   "metadata": {},
   "source": [
    "Рассчитаем достаточный объём сырья для безубыточной разработки новой скважины. Для начала оценим, сколько баррелей нужно добывать, чтобы выйти в ноль при заданном бюджете и текущих ценах на нефть."
   ]
  },
  {
   "cell_type": "code",
   "execution_count": 42,
   "metadata": {},
   "outputs": [
    {
     "data": {
      "text/plain": [
       "22222.0"
      ]
     },
     "execution_count": 42,
     "metadata": {},
     "output_type": "execute_result"
    }
   ],
   "source": [
    "#budget - revenue_pd * barrels = non_loss = 0\n",
    "barrels = budget / revenue_pb\n",
    "round(barrels, 0)"
   ]
  },
  {
   "cell_type": "markdown",
   "metadata": {},
   "source": [
    "Затем поделим результат на количество скважин, которое выбирается для разработки в отдельном регионе."
   ]
  },
  {
   "cell_type": "code",
   "execution_count": 43,
   "metadata": {},
   "outputs": [
    {
     "data": {
      "text/plain": [
       "111.0"
      ]
     },
     "execution_count": 43,
     "metadata": {},
     "output_type": "execute_result"
    }
   ],
   "source": [
    "average = barrels / selected_points\n",
    "round(average, 0)"
   ]
  },
  {
   "cell_type": "markdown",
   "metadata": {},
   "source": [
    "Для безубыточной работы скважины добыча должна составлять в среднем 111 тыс. баррелей. Рассчитанные ранее с помощью линейной регрессии значения средних запасов по трем регионам ниже."
   ]
  },
  {
   "cell_type": "markdown",
   "metadata": {},
   "source": [
    "<div class=\"alert alert-block alert-success\">\n",
    "<b>Успех:</b> Значение для безубыточной разработки посчитано верно, с выводом согласен  \n",
    "</div>\n"
   ]
  },
  {
   "cell_type": "markdown",
   "metadata": {},
   "source": [
    "## Расчёт прибыли и рисков "
   ]
  },
  {
   "cell_type": "markdown",
   "metadata": {},
   "source": [
    "Напишем функцию для расчета прибыли по отобранным 200 лучшим месторождениям в каждом регионе."
   ]
  },
  {
   "cell_type": "code",
   "execution_count": 44,
   "metadata": {},
   "outputs": [],
   "source": [
    "def profits(predictions_valid, target_valid):\n",
    "    # отсортируем предсказания так, чтобы получить топ-200 по запасам\n",
    "    selected_predictions = predictions_valid.sort_values(ascending=False)\n",
    "    selected_target = target_valid[selected_predictions.index][:selected_points]\n",
    "    # посчитаем суммарную выручку с региона и прибыль\n",
    "    revenue = selected_target.sum() * (revenue_pb)\n",
    "    profit = revenue - (budget)\n",
    "    return profit"
   ]
  },
  {
   "cell_type": "markdown",
   "metadata": {},
   "source": [
    "<div class=\"alert alert-block alert-success\">\n",
    "<b>Успех:</b> Ф-ция для подсчета прибыли определена верно\n",
    "</div>"
   ]
  },
  {
   "cell_type": "code",
   "execution_count": 45,
   "metadata": {},
   "outputs": [],
   "source": [
    "profit_0 = profits(predictions_valid_0, target_valid_0)\n",
    "profit_1 = profits(predictions_valid_1, target_valid_1)\n",
    "profit_2 = profits(predictions_valid_2, target_valid_2)"
   ]
  },
  {
   "cell_type": "code",
   "execution_count": 46,
   "metadata": {},
   "outputs": [
    {
     "name": "stdout",
     "output_type": "stream",
     "text": [
      "3320826043.1\n",
      "2415086696.7\n",
      "2710349963.6\n"
     ]
    }
   ],
   "source": [
    "print(round(profit_0, 1))\n",
    "print(round(profit_1, 1))\n",
    "print(round(profit_2, 1))"
   ]
  },
  {
   "cell_type": "markdown",
   "metadata": {},
   "source": [
    "С предсказанными моделью объемами сырья и текущей ценой на нефть самой прибыльной оказывается работа в регионе 0, регион 1 принесет наименьшую прибыль."
   ]
  },
  {
   "cell_type": "markdown",
   "metadata": {},
   "source": [
    "Оценим риски разработки скважин в каждом регионе."
   ]
  },
  {
   "cell_type": "code",
   "execution_count": 47,
   "metadata": {},
   "outputs": [],
   "source": [
    "def risks_and_profits(target_valid, predictions_valid):\n",
    "    incomes = []\n",
    "    # разделим данные на 1000 выборок, чтобы найти распределение прибыли по 500 изученным точкам в регионе\n",
    "    # список оценок сохраним в переменной values\n",
    "    # с помощью процедуры bootstrap найдем среднюю прибыль, 95%-й доверительный интервал и риск убытков\n",
    "    for i in range(1000):\n",
    "        target_subsample = target_valid.sample(n=researched_points, replace=True, random_state=12345)\n",
    "        predictions_subsample = predictions_valid[target_subsample.index]\n",
    "        # с помощью написанной ранее функции получим результат для 200 лучших точек\n",
    "        incomes.append(profits(predictions_subsample, target_subsample))\n",
    "    incomes = pd.Series(incomes)\n",
    "    mean = incomes.mean()\n",
    "    # оценим, какой процент отобранных скважин покажет убытки\n",
    "    risk = st.percentileofscore(incomes, 0)\n",
    "    lower = incomes.quantile(0.025)\n",
    "    upper = incomes.quantile(0.975)\n",
    "    return mean, risk, lower, upper"
   ]
  },
  {
   "cell_type": "markdown",
   "metadata": {},
   "source": [
    "\n",
    "<div class=\"alert alert-block alert-success\">\n",
    "<b>Успех:</b> С бутстрапом тоже все в порядке, метрики считаются верным образом!  \n",
    "</div>\n"
   ]
  },
  {
   "cell_type": "code",
   "execution_count": 48,
   "metadata": {},
   "outputs": [],
   "source": [
    "mean_0, risk_0, lower_0, upper_0 = risks_and_profits(target_valid_0, predictions_valid_0)\n",
    "mean_1, risk_1, lower_1, upper_1 = risks_and_profits(target_valid_1, predictions_valid_1)\n",
    "mean_2, risk_2, lower_2, upper_2 = risks_and_profits(target_valid_2, predictions_valid_2)"
   ]
  },
  {
   "cell_type": "code",
   "execution_count": 49,
   "metadata": {},
   "outputs": [
    {
     "name": "stdout",
     "output_type": "stream",
     "text": [
      "Регион 0\n",
      "Средняя прибыль: 585088996.0\n",
      "Риск, %: 0.0\n",
      "Нижняя граница доверительного интервала: 585088996.0\n",
      "Верхняя граница доверительного интервала: 585088996.0\n"
     ]
    }
   ],
   "source": [
    "print('Регион 0')\n",
    "print('Средняя прибыль:', round(mean_0, 0))\n",
    "print('Риск, %:', round(risk_0, 1))\n",
    "print('Нижняя граница доверительного интервала:', round(lower_0, 0))\n",
    "print('Верхняя граница доверительного интервала:', round(upper_0, 0))"
   ]
  },
  {
   "cell_type": "code",
   "execution_count": 50,
   "metadata": {},
   "outputs": [
    {
     "name": "stdout",
     "output_type": "stream",
     "text": [
      "Регион 1\n",
      "Средняя прибыль: 299359372.0\n",
      "Риск, %: 0.0\n",
      "Нижняя граница доверительного интервала: 299359372.0\n",
      "Верхняя граница доверительного интервала: 299359372.0\n"
     ]
    }
   ],
   "source": [
    "print('Регион 1')\n",
    "print('Средняя прибыль:', round(mean_1, 0))\n",
    "print('Риск, %:', risk_1)\n",
    "print('Нижняя граница доверительного интервала:', round(lower_1, 0))\n",
    "print('Верхняя граница доверительного интервала:', round(upper_1, 0))"
   ]
  },
  {
   "cell_type": "code",
   "execution_count": 51,
   "metadata": {},
   "outputs": [
    {
     "name": "stdout",
     "output_type": "stream",
     "text": [
      "Регион 2\n",
      "Средняя прибыль: -95044177.0\n",
      "Риск, %: 100.0\n",
      "Нижняя граница доверительного интервала: -95044177.0\n",
      "Верхняя граница доверительного интервала: -95044177.0\n"
     ]
    }
   ],
   "source": [
    "print('Регион 2')\n",
    "print('Средняя прибыль:', round(mean_2, 0))\n",
    "print('Риск, %:', risk_2)\n",
    "print('Нижняя граница доверительного интервала:', round(lower_2, 0))\n",
    "print('Верхняя граница доверительного интервала:', round(upper_2, 0))"
   ]
  },
  {
   "cell_type": "markdown",
   "metadata": {},
   "source": [
    "Результаты показывают, что для разработки следует выбрать регион 1, так как он показывает самое высокое значение средней прибыли, наименьший риск, а также он единственный, у которого нижняя граница интервала не ушла в отрицательную (убыточную) зону."
   ]
  },
  {
   "cell_type": "markdown",
   "metadata": {},
   "source": [
    "\n",
    "<div class=\"alert alert-block alert-success\">\n",
    "<b>Успех:</b> Отлично, проведено детальное исследование и был выбран правильный регион!\n",
    "</div>\n",
    "\n"
   ]
  },
  {
   "cell_type": "markdown",
   "metadata": {},
   "source": [
    "## Чек-лист готовности проекта"
   ]
  },
  {
   "cell_type": "markdown",
   "metadata": {},
   "source": [
    "ОСНОВНЫЕ ВЫВОДЫ:\n",
    "\n",
    "Мы выполнили задание для компании «ГлавРосГосНефть». Нам необходимо было с помощью методов ML определить, в каком регионе начать добычу нефти.\n",
    "\n",
    "В нашем распоряжении были таблицы с характеристиками скважин в трех регионах (качество нефти и объем запасов). Данные не содержали пропуски и нулевые значения и не потребовали особой подготовки.\n",
    "\n",
    "Мы решали задачу регрессии, поэтому для предсказаний мы взяли модель линейной регрессии. Модель предсказала регион 2 с самым большим объемом запасов - 92,6 тыс барр, но при этом ошибка в регионах 0 и 2 была очень высокая - 37,58 и 40, соответственно. Отклонение для региона 1 составило 0.89, то есть модель дала почти идеальную оценку средних запасов - 68,7.\n",
    "\n",
    "По условию задачи при разведке региона исследуется 500 точек и выбирается 200 лучших. Бюджет разработки скважин в регионе - 10 млрд руб. При нынешних ценах на нефть за 1000 баррелей можно выручить 450 тыс. руб.\n",
    "\n",
    "Мы вычислили, что для безубыточной работы при заданном бюджете на регион 10 млрд руб. и текущих ценах на нефть 450 тыс. руб. за 1 тыс. баррелей средний объем добычи нефти с одной скважины в одном регионе должен составлять 111 тыс. баррелей, что выше полученных средних оценок запасов.\n",
    "\n",
    "Тем не менее, расчеты показывают, что добыча на 200 лучших по запасам точках в каждом регионе является прибыльной. Лучший результат показал регион 0 - 3,3 млрд руб., хуже всего регион 1 - 2,4 млрд руб.\n",
    "\n",
    "Мы оценили риски работы в каждом регионе. Мы также разбили выборки на 1000 подвыборок. И каждой получили распределение прибыли, среднюю прибыль и риск убытков для 200 лучших точек из 500 изученных.\n",
    "\n",
    "По условию задачи, мы должны оставить только те регионы, где вероятность убытков ниже 2,5%. Этому условию соответствует только регион 1 с риском 1,1%. Он показал среднюю прибыль 523,7 млн руб. и оказался единственным, где нижняя граница доверительного интервала осталась в положительной (прибыльной зоне).\n",
    "\n",
    "Таким образом, мы рекомендуем регион 1 для разработки скважин."
   ]
  },
  {
   "cell_type": "markdown",
   "metadata": {},
   "source": [
    "\n",
    "<div class=\"alert alert-block alert-success\">\n",
    "<b>Успех:</b> Всегда приятно наблюдать подробный и структурированный итоговый вывод в конце работы! \n",
    "</div>\n",
    "\n",
    "\n",
    "\n",
    "\n",
    "<div class=\"alert alert-block alert-info\">\n",
    "<b>Совет: </b> Если интересно изучить тему бутстрапа глубже - я оставлю  ниже несколько интересных и полезных ссылок по теме:\n",
    "        \n",
    "1. \"Bootstrap Hypothesis Testing in Statistics with Example\" \n",
    "        \n",
    "https://www.youtube.com/watch?v=9STZ7MxkNVg\n",
    "        \n",
    "2. \"How to Calculate Bootstrap Confidence Intervals For Machine Learning Results in Python\" \n",
    "        \n",
    "https://machinelearningmastery.com/calculate-bootstrap-confidence-intervals-machine-learning-results-python/\n",
    "        \n",
    "3. \"A Gentle Introduction to the Bootstrap Method\" \n",
    "\n",
    "https://machinelearningmastery.com/a-gentle-introduction-to-the-bootstrap-method/\n",
    "        \n",
    "4. \"An Introduction to the Bootstrap Method\" \n",
    "        \n",
    "https://towardsdatascience.com/an-introduction-to-the-bootstrap-method-58bcb51b4d60#:~:text=The%20basic%20idea%20of%20bootstrap,population%20mean)%20on%20sample%20data.&amp;text=A%20sample%20from%20population%20with%20sample%20size%20n\n",
    "        \n",
    "5. \"Bootstrapping and Resampling in Statistics with Example\" \n",
    "        \n",
    "        \n",
    "https://www.youtube.com/watch?v=O_Fj4q8lgmc\n",
    "\n",
    "6. Также одна из программ на рынке по этой теме управлненеческого моделирования - AnyLogic - интересный продукт. Можешь видео из интернета посмотреть по какому-нибудь примеру с её использованием. Тогда тема управленческого моделирования и бутстрапа может по-другому лечь.\n",
    "</div>\n",
    "\n",
    "\n"
   ]
  },
  {
   "cell_type": "markdown",
   "metadata": {},
   "source": [
    "Поставьте 'x' в выполненных пунктах. Далее нажмите Shift+Enter."
   ]
  },
  {
   "cell_type": "markdown",
   "metadata": {},
   "source": [
    "- [x]  Jupyter Notebook открыт\n",
    "- [ ]  Весь код выполняется без ошибок\n",
    "- [ ]  Ячейки с кодом расположены в порядке исполнения\n",
    "- [ ]  Выполнен шаг 1: данные подготовлены\n",
    "- [ ]  Выполнен шаг 2: модели обучены и проверены\n",
    "    - [ ]  Данные корректно разбиты на обучающую и валидационную выборки\n",
    "    - [ ]  Модели обучены, предсказания сделаны\n",
    "    - [ ]  Предсказания и правильные ответы на валидационной выборке сохранены\n",
    "    - [ ]  На экране напечатаны результаты\n",
    "    - [ ]  Сделаны выводы\n",
    "- [ ]  Выполнен шаг 3: проведена подготовка к расчёту прибыли\n",
    "    - [ ]  Для всех ключевых значений созданы константы Python\n",
    "    - [ ]  Посчитано минимальное среднее количество продукта в месторождениях региона, достаточное для разработки\n",
    "    - [ ]  По предыдущему пункту сделаны выводы\n",
    "    - [ ]  Написана функция расчёта прибыли\n",
    "- [ ]  Выполнен шаг 4: посчитаны риски и прибыль\n",
    "    - [ ]  Проведена процедура *Bootstrap*\n",
    "    - [ ]  Все параметры бутстрепа соответствуют условию\n",
    "    - [ ]  Найдены все нужные величины\n",
    "    - [ ]  Предложен регион для разработки месторождения\n",
    "    - [ ]  Выбор региона обоснован"
   ]
  },
  {
   "cell_type": "code",
   "execution_count": null,
   "metadata": {},
   "outputs": [],
   "source": []
  }
 ],
 "metadata": {
  "ExecuteTimeLog": [
   {
    "duration": 399,
    "start_time": "2023-02-28T10:52:29.134Z"
   },
   {
    "duration": 389,
    "start_time": "2023-02-28T10:53:52.780Z"
   },
   {
    "duration": 16,
    "start_time": "2023-02-28T10:54:01.771Z"
   },
   {
    "duration": 18,
    "start_time": "2023-02-28T10:54:19.506Z"
   },
   {
    "duration": 17,
    "start_time": "2023-02-28T10:55:43.487Z"
   },
   {
    "duration": 12,
    "start_time": "2023-02-28T10:55:48.197Z"
   },
   {
    "duration": 754,
    "start_time": "2023-02-28T10:56:29.433Z"
   },
   {
    "duration": 8,
    "start_time": "2023-02-28T10:57:04.869Z"
   },
   {
    "duration": 15,
    "start_time": "2023-02-28T10:57:17.612Z"
   },
   {
    "duration": 11,
    "start_time": "2023-02-28T10:57:31.974Z"
   },
   {
    "duration": 842,
    "start_time": "2023-02-28T10:58:10.302Z"
   },
   {
    "duration": 9,
    "start_time": "2023-02-28T10:58:20.667Z"
   },
   {
    "duration": 20,
    "start_time": "2023-02-28T10:58:36.643Z"
   },
   {
    "duration": 10,
    "start_time": "2023-02-28T10:58:50.543Z"
   },
   {
    "duration": 16,
    "start_time": "2023-02-28T11:04:06.394Z"
   },
   {
    "duration": 10,
    "start_time": "2023-02-28T11:04:16.262Z"
   },
   {
    "duration": 73,
    "start_time": "2023-02-28T11:04:52.167Z"
   },
   {
    "duration": 4,
    "start_time": "2023-02-28T11:05:01.906Z"
   },
   {
    "duration": 6,
    "start_time": "2023-02-28T11:05:44.392Z"
   },
   {
    "duration": 5,
    "start_time": "2023-02-28T11:05:57.178Z"
   },
   {
    "duration": 5,
    "start_time": "2023-02-28T11:06:09.168Z"
   },
   {
    "duration": 3,
    "start_time": "2023-02-28T11:11:21.874Z"
   },
   {
    "duration": 3,
    "start_time": "2023-02-28T11:12:01.776Z"
   },
   {
    "duration": 8,
    "start_time": "2023-02-28T11:13:27.419Z"
   },
   {
    "duration": 18,
    "start_time": "2023-02-28T11:13:33.801Z"
   },
   {
    "duration": 3,
    "start_time": "2023-02-28T11:13:40.594Z"
   },
   {
    "duration": 381,
    "start_time": "2023-02-28T11:13:41.112Z"
   },
   {
    "duration": 9,
    "start_time": "2023-02-28T11:13:41.808Z"
   },
   {
    "duration": 9,
    "start_time": "2023-02-28T11:13:42.465Z"
   },
   {
    "duration": 11,
    "start_time": "2023-02-28T11:13:43.111Z"
   },
   {
    "duration": 14,
    "start_time": "2023-02-28T11:13:43.738Z"
   },
   {
    "duration": 15,
    "start_time": "2023-02-28T11:13:44.463Z"
   },
   {
    "duration": 14,
    "start_time": "2023-02-28T11:13:45.093Z"
   },
   {
    "duration": 10,
    "start_time": "2023-02-28T11:13:45.701Z"
   },
   {
    "duration": 10,
    "start_time": "2023-02-28T11:13:46.456Z"
   },
   {
    "duration": 10,
    "start_time": "2023-02-28T11:13:47.057Z"
   },
   {
    "duration": 4,
    "start_time": "2023-02-28T11:13:47.640Z"
   },
   {
    "duration": 374,
    "start_time": "2023-02-28T11:13:48.327Z"
   },
   {
    "duration": 28,
    "start_time": "2023-02-28T11:14:05.168Z"
   },
   {
    "duration": 13,
    "start_time": "2023-02-28T11:15:14.529Z"
   },
   {
    "duration": 16,
    "start_time": "2023-02-28T11:16:18.283Z"
   },
   {
    "duration": 41,
    "start_time": "2023-02-28T11:16:26.318Z"
   },
   {
    "duration": 3,
    "start_time": "2023-02-28T11:16:37.394Z"
   },
   {
    "duration": 387,
    "start_time": "2023-02-28T11:16:38.976Z"
   },
   {
    "duration": 8,
    "start_time": "2023-02-28T11:16:39.437Z"
   },
   {
    "duration": 12,
    "start_time": "2023-02-28T11:16:39.924Z"
   },
   {
    "duration": 9,
    "start_time": "2023-02-28T11:16:40.343Z"
   },
   {
    "duration": 13,
    "start_time": "2023-02-28T11:16:40.890Z"
   },
   {
    "duration": 14,
    "start_time": "2023-02-28T11:16:41.377Z"
   },
   {
    "duration": 14,
    "start_time": "2023-02-28T11:16:41.873Z"
   },
   {
    "duration": 14,
    "start_time": "2023-02-28T11:16:42.329Z"
   },
   {
    "duration": 10,
    "start_time": "2023-02-28T11:16:42.937Z"
   },
   {
    "duration": 10,
    "start_time": "2023-02-28T11:16:43.373Z"
   },
   {
    "duration": 15,
    "start_time": "2023-02-28T11:16:43.885Z"
   },
   {
    "duration": 32,
    "start_time": "2023-02-28T11:16:44.637Z"
   },
   {
    "duration": 8,
    "start_time": "2023-02-28T11:17:07.477Z"
   },
   {
    "duration": 6,
    "start_time": "2023-02-28T11:17:55.535Z"
   },
   {
    "duration": 8,
    "start_time": "2023-02-28T11:18:02.318Z"
   },
   {
    "duration": 6,
    "start_time": "2023-02-28T11:18:14.618Z"
   },
   {
    "duration": 13,
    "start_time": "2023-02-28T11:19:45.179Z"
   },
   {
    "duration": 5,
    "start_time": "2023-02-28T11:19:54.078Z"
   },
   {
    "duration": 5,
    "start_time": "2023-02-28T11:20:03.827Z"
   },
   {
    "duration": 2,
    "start_time": "2023-02-28T11:20:15.279Z"
   },
   {
    "duration": 379,
    "start_time": "2023-02-28T11:20:15.697Z"
   },
   {
    "duration": 9,
    "start_time": "2023-02-28T11:20:16.177Z"
   },
   {
    "duration": 9,
    "start_time": "2023-02-28T11:20:16.736Z"
   },
   {
    "duration": 9,
    "start_time": "2023-02-28T11:20:17.303Z"
   },
   {
    "duration": 16,
    "start_time": "2023-02-28T11:20:17.885Z"
   },
   {
    "duration": 21,
    "start_time": "2023-02-28T11:20:20.778Z"
   },
   {
    "duration": 20,
    "start_time": "2023-02-28T11:20:22.237Z"
   },
   {
    "duration": 10,
    "start_time": "2023-02-28T11:20:22.951Z"
   },
   {
    "duration": 15,
    "start_time": "2023-02-28T11:20:23.758Z"
   },
   {
    "duration": 15,
    "start_time": "2023-02-28T11:20:24.355Z"
   },
   {
    "duration": 15,
    "start_time": "2023-02-28T11:20:25.047Z"
   },
   {
    "duration": 34,
    "start_time": "2023-02-28T11:20:26.397Z"
   },
   {
    "duration": 10,
    "start_time": "2023-02-28T11:20:28.795Z"
   },
   {
    "duration": 5,
    "start_time": "2023-02-28T11:20:29.839Z"
   },
   {
    "duration": 4,
    "start_time": "2023-02-28T11:20:30.518Z"
   },
   {
    "duration": 1001,
    "start_time": "2023-02-28T12:31:00.169Z"
   },
   {
    "duration": 26,
    "start_time": "2023-02-28T12:33:54.166Z"
   },
   {
    "duration": 5,
    "start_time": "2023-02-28T12:40:11.843Z"
   },
   {
    "duration": 3,
    "start_time": "2023-02-28T12:40:30.077Z"
   },
   {
    "duration": 15,
    "start_time": "2023-02-28T12:40:43.600Z"
   },
   {
    "duration": 32,
    "start_time": "2023-02-28T12:41:08.109Z"
   },
   {
    "duration": 3,
    "start_time": "2023-02-28T12:41:33.480Z"
   },
   {
    "duration": 25,
    "start_time": "2023-02-28T12:42:52.666Z"
   },
   {
    "duration": 79,
    "start_time": "2023-02-28T12:43:23.059Z"
   },
   {
    "duration": 29,
    "start_time": "2023-02-28T12:43:44.109Z"
   },
   {
    "duration": 33,
    "start_time": "2023-02-28T12:43:44.503Z"
   },
   {
    "duration": 2,
    "start_time": "2023-02-28T12:44:00.097Z"
   },
   {
    "duration": 520,
    "start_time": "2023-02-28T12:44:00.593Z"
   },
   {
    "duration": 17,
    "start_time": "2023-02-28T12:44:01.159Z"
   },
   {
    "duration": 10,
    "start_time": "2023-02-28T12:44:01.682Z"
   },
   {
    "duration": 14,
    "start_time": "2023-02-28T12:44:02.251Z"
   },
   {
    "duration": 19,
    "start_time": "2023-02-28T12:44:02.785Z"
   },
   {
    "duration": 24,
    "start_time": "2023-02-28T12:44:03.327Z"
   },
   {
    "duration": 17,
    "start_time": "2023-02-28T12:44:03.893Z"
   },
   {
    "duration": 19,
    "start_time": "2023-02-28T12:44:04.454Z"
   },
   {
    "duration": 36,
    "start_time": "2023-02-28T12:44:05.048Z"
   },
   {
    "duration": 26,
    "start_time": "2023-02-28T12:44:05.529Z"
   },
   {
    "duration": 17,
    "start_time": "2023-02-28T12:44:06.089Z"
   },
   {
    "duration": 24,
    "start_time": "2023-02-28T12:44:06.680Z"
   },
   {
    "duration": 9,
    "start_time": "2023-02-28T12:44:07.784Z"
   },
   {
    "duration": 11,
    "start_time": "2023-02-28T12:44:08.443Z"
   },
   {
    "duration": 8,
    "start_time": "2023-02-28T12:44:09.049Z"
   },
   {
    "duration": 39,
    "start_time": "2023-02-28T12:44:09.653Z"
   },
   {
    "duration": 3,
    "start_time": "2023-02-28T12:44:10.301Z"
   },
   {
    "duration": 24,
    "start_time": "2023-02-28T12:44:10.949Z"
   },
   {
    "duration": 25,
    "start_time": "2023-02-28T12:44:11.581Z"
   },
   {
    "duration": 1051,
    "start_time": "2023-02-28T13:58:02.777Z"
   },
   {
    "duration": 1008,
    "start_time": "2023-02-28T13:58:03.829Z"
   },
   {
    "duration": 18,
    "start_time": "2023-02-28T13:58:04.838Z"
   },
   {
    "duration": 10,
    "start_time": "2023-02-28T13:58:22.234Z"
   },
   {
    "duration": 8,
    "start_time": "2023-02-28T13:58:23.792Z"
   },
   {
    "duration": 18,
    "start_time": "2023-02-28T13:58:26.042Z"
   },
   {
    "duration": 13,
    "start_time": "2023-02-28T13:58:26.687Z"
   },
   {
    "duration": 13,
    "start_time": "2023-02-28T13:58:27.531Z"
   },
   {
    "duration": 10,
    "start_time": "2023-02-28T13:58:28.172Z"
   },
   {
    "duration": 10,
    "start_time": "2023-02-28T13:58:28.912Z"
   },
   {
    "duration": 9,
    "start_time": "2023-02-28T13:58:29.529Z"
   },
   {
    "duration": 17,
    "start_time": "2023-02-28T13:58:30.152Z"
   },
   {
    "duration": 21,
    "start_time": "2023-02-28T13:58:30.877Z"
   },
   {
    "duration": 11,
    "start_time": "2023-02-28T13:58:32.524Z"
   },
   {
    "duration": 12,
    "start_time": "2023-02-28T13:58:33.142Z"
   },
   {
    "duration": 3,
    "start_time": "2023-02-28T13:58:33.876Z"
   },
   {
    "duration": 31,
    "start_time": "2023-02-28T13:58:34.473Z"
   },
   {
    "duration": 23,
    "start_time": "2023-02-28T14:03:11.284Z"
   },
   {
    "duration": 95,
    "start_time": "2023-02-28T14:05:10.980Z"
   },
   {
    "duration": 3,
    "start_time": "2023-02-28T14:05:20.587Z"
   },
   {
    "duration": 4,
    "start_time": "2023-02-28T14:05:31.849Z"
   },
   {
    "duration": 38,
    "start_time": "2023-02-28T14:06:17.618Z"
   },
   {
    "duration": 13,
    "start_time": "2023-02-28T14:07:46.478Z"
   },
   {
    "duration": 3,
    "start_time": "2023-02-28T14:08:07.410Z"
   },
   {
    "duration": 4,
    "start_time": "2023-02-28T14:08:48.748Z"
   },
   {
    "duration": 4,
    "start_time": "2023-02-28T14:11:22.243Z"
   },
   {
    "duration": 4,
    "start_time": "2023-02-28T14:13:15.645Z"
   },
   {
    "duration": 4,
    "start_time": "2023-02-28T14:13:22.364Z"
   },
   {
    "duration": 2,
    "start_time": "2023-02-28T14:14:20.637Z"
   },
   {
    "duration": 4,
    "start_time": "2023-02-28T14:14:56.874Z"
   },
   {
    "duration": 5,
    "start_time": "2023-02-28T14:15:01.714Z"
   },
   {
    "duration": 5,
    "start_time": "2023-02-28T14:16:12.786Z"
   },
   {
    "duration": 12,
    "start_time": "2023-02-28T14:18:30.575Z"
   },
   {
    "duration": 2,
    "start_time": "2023-02-28T14:20:05.476Z"
   },
   {
    "duration": 4,
    "start_time": "2023-02-28T14:20:41.425Z"
   },
   {
    "duration": 5,
    "start_time": "2023-02-28T14:20:45.036Z"
   },
   {
    "duration": 7,
    "start_time": "2023-02-28T14:21:32.746Z"
   },
   {
    "duration": 9,
    "start_time": "2023-02-28T14:21:52.850Z"
   },
   {
    "duration": 6,
    "start_time": "2023-02-28T14:23:16.874Z"
   },
   {
    "duration": 23,
    "start_time": "2023-02-28T14:25:22.117Z"
   },
   {
    "duration": 8,
    "start_time": "2023-02-28T14:26:43.104Z"
   },
   {
    "duration": 5,
    "start_time": "2023-02-28T14:26:53.712Z"
   },
   {
    "duration": 3,
    "start_time": "2023-02-28T14:27:09.775Z"
   },
   {
    "duration": 6,
    "start_time": "2023-02-28T14:27:51.524Z"
   },
   {
    "duration": 3,
    "start_time": "2023-02-28T14:28:16.577Z"
   },
   {
    "duration": 5,
    "start_time": "2023-02-28T14:29:00.014Z"
   },
   {
    "duration": 3,
    "start_time": "2023-02-28T14:29:24.477Z"
   },
   {
    "duration": 12,
    "start_time": "2023-02-28T14:29:48.679Z"
   },
   {
    "duration": 11,
    "start_time": "2023-02-28T14:30:06.431Z"
   },
   {
    "duration": 3,
    "start_time": "2023-02-28T14:30:20.818Z"
   },
   {
    "duration": 6,
    "start_time": "2023-02-28T14:31:14.374Z"
   },
   {
    "duration": 3,
    "start_time": "2023-02-28T14:31:32.786Z"
   },
   {
    "duration": 5,
    "start_time": "2023-02-28T14:32:47.905Z"
   },
   {
    "duration": 3,
    "start_time": "2023-02-28T14:33:05.639Z"
   },
   {
    "duration": 3,
    "start_time": "2023-02-28T15:32:56.674Z"
   },
   {
    "duration": 343,
    "start_time": "2023-02-28T15:32:57.579Z"
   },
   {
    "duration": 9,
    "start_time": "2023-02-28T15:33:03.593Z"
   },
   {
    "duration": 9,
    "start_time": "2023-02-28T15:33:04.268Z"
   },
   {
    "duration": 9,
    "start_time": "2023-02-28T15:33:04.938Z"
   },
   {
    "duration": 14,
    "start_time": "2023-02-28T15:33:05.745Z"
   },
   {
    "duration": 13,
    "start_time": "2023-02-28T15:33:08.082Z"
   },
   {
    "duration": 13,
    "start_time": "2023-02-28T15:33:09.187Z"
   },
   {
    "duration": 9,
    "start_time": "2023-02-28T15:33:10.555Z"
   },
   {
    "duration": 8,
    "start_time": "2023-02-28T15:33:11.471Z"
   },
   {
    "duration": 9,
    "start_time": "2023-02-28T15:33:16.693Z"
   },
   {
    "duration": 3,
    "start_time": "2023-02-28T15:33:33.592Z"
   },
   {
    "duration": 340,
    "start_time": "2023-02-28T15:33:34.093Z"
   },
   {
    "duration": 9,
    "start_time": "2023-02-28T15:33:34.574Z"
   },
   {
    "duration": 9,
    "start_time": "2023-02-28T15:33:35.101Z"
   },
   {
    "duration": 10,
    "start_time": "2023-02-28T15:33:35.542Z"
   },
   {
    "duration": 13,
    "start_time": "2023-02-28T15:33:36.001Z"
   },
   {
    "duration": 13,
    "start_time": "2023-02-28T15:33:36.465Z"
   },
   {
    "duration": 13,
    "start_time": "2023-02-28T15:33:36.953Z"
   },
   {
    "duration": 9,
    "start_time": "2023-02-28T15:33:37.554Z"
   },
   {
    "duration": 9,
    "start_time": "2023-02-28T15:33:38.085Z"
   },
   {
    "duration": 9,
    "start_time": "2023-02-28T15:33:38.626Z"
   },
   {
    "duration": 10,
    "start_time": "2023-02-28T15:35:23.326Z"
   },
   {
    "duration": 8,
    "start_time": "2023-02-28T15:35:30.558Z"
   },
   {
    "duration": 5,
    "start_time": "2023-02-28T15:36:19.363Z"
   },
   {
    "duration": 8,
    "start_time": "2023-02-28T15:36:47.972Z"
   },
   {
    "duration": 7,
    "start_time": "2023-02-28T15:36:53.530Z"
   },
   {
    "duration": 11,
    "start_time": "2023-02-28T15:40:56.252Z"
   },
   {
    "duration": 8,
    "start_time": "2023-02-28T15:46:35.339Z"
   },
   {
    "duration": 6,
    "start_time": "2023-02-28T15:46:35.839Z"
   },
   {
    "duration": 10,
    "start_time": "2023-02-28T15:46:36.331Z"
   },
   {
    "duration": 3,
    "start_time": "2023-02-28T15:47:55.926Z"
   },
   {
    "duration": 10,
    "start_time": "2023-02-28T15:48:02.684Z"
   },
   {
    "duration": 3,
    "start_time": "2023-02-28T15:48:42.133Z"
   },
   {
    "duration": 3,
    "start_time": "2023-02-28T15:49:19.748Z"
   },
   {
    "duration": 10,
    "start_time": "2023-02-28T15:50:27.238Z"
   },
   {
    "duration": 13,
    "start_time": "2023-02-28T15:50:46.851Z"
   },
   {
    "duration": 2,
    "start_time": "2023-02-28T15:52:26.390Z"
   },
   {
    "duration": 3,
    "start_time": "2023-02-28T15:54:16.690Z"
   },
   {
    "duration": 346,
    "start_time": "2023-02-28T15:54:17.260Z"
   },
   {
    "duration": 9,
    "start_time": "2023-02-28T15:54:17.853Z"
   },
   {
    "duration": 8,
    "start_time": "2023-02-28T15:54:18.387Z"
   },
   {
    "duration": 8,
    "start_time": "2023-02-28T15:54:18.979Z"
   },
   {
    "duration": 14,
    "start_time": "2023-02-28T15:54:19.560Z"
   },
   {
    "duration": 15,
    "start_time": "2023-02-28T15:54:20.147Z"
   },
   {
    "duration": 13,
    "start_time": "2023-02-28T15:54:20.684Z"
   },
   {
    "duration": 11,
    "start_time": "2023-02-28T15:54:21.267Z"
   },
   {
    "duration": 9,
    "start_time": "2023-02-28T15:54:21.886Z"
   },
   {
    "duration": 11,
    "start_time": "2023-02-28T15:54:22.466Z"
   },
   {
    "duration": 9,
    "start_time": "2023-02-28T15:54:23.720Z"
   },
   {
    "duration": 9,
    "start_time": "2023-02-28T15:54:24.328Z"
   },
   {
    "duration": 10,
    "start_time": "2023-02-28T15:54:24.941Z"
   },
   {
    "duration": 11,
    "start_time": "2023-02-28T15:54:25.608Z"
   },
   {
    "duration": 3,
    "start_time": "2023-02-28T15:54:28.391Z"
   },
   {
    "duration": 2,
    "start_time": "2023-02-28T15:55:22.824Z"
   },
   {
    "duration": 10,
    "start_time": "2023-02-28T15:56:02.500Z"
   },
   {
    "duration": 13,
    "start_time": "2023-02-28T15:57:34.042Z"
   },
   {
    "duration": 11,
    "start_time": "2023-02-28T15:58:07.711Z"
   },
   {
    "duration": 10,
    "start_time": "2023-02-28T15:58:12.072Z"
   },
   {
    "duration": 8,
    "start_time": "2023-02-28T15:58:32.220Z"
   },
   {
    "duration": 751,
    "start_time": "2023-02-28T15:59:49.136Z"
   },
   {
    "duration": 7,
    "start_time": "2023-02-28T15:59:49.932Z"
   },
   {
    "duration": 4,
    "start_time": "2023-02-28T16:00:01.794Z"
   },
   {
    "duration": 8,
    "start_time": "2023-02-28T16:00:03.213Z"
   },
   {
    "duration": 10,
    "start_time": "2023-02-28T16:00:04.069Z"
   },
   {
    "duration": 8,
    "start_time": "2023-02-28T16:00:04.912Z"
   },
   {
    "duration": 3,
    "start_time": "2023-02-28T16:05:36.698Z"
   },
   {
    "duration": 2,
    "start_time": "2023-02-28T16:11:58.307Z"
   },
   {
    "duration": 8,
    "start_time": "2023-02-28T16:13:27.263Z"
   },
   {
    "duration": 2,
    "start_time": "2023-02-28T16:13:31.190Z"
   },
   {
    "duration": 4,
    "start_time": "2023-02-28T16:14:14.809Z"
   },
   {
    "duration": 16,
    "start_time": "2023-02-28T16:14:44.157Z"
   },
   {
    "duration": 3,
    "start_time": "2023-02-28T16:14:53.095Z"
   },
   {
    "duration": 341,
    "start_time": "2023-02-28T16:14:53.563Z"
   },
   {
    "duration": 9,
    "start_time": "2023-02-28T16:14:54.053Z"
   },
   {
    "duration": 9,
    "start_time": "2023-02-28T16:14:54.580Z"
   },
   {
    "duration": 12,
    "start_time": "2023-02-28T16:14:55.107Z"
   },
   {
    "duration": 18,
    "start_time": "2023-02-28T16:14:55.627Z"
   },
   {
    "duration": 12,
    "start_time": "2023-02-28T16:14:56.148Z"
   },
   {
    "duration": 14,
    "start_time": "2023-02-28T16:14:56.671Z"
   },
   {
    "duration": 9,
    "start_time": "2023-02-28T16:14:57.173Z"
   },
   {
    "duration": 10,
    "start_time": "2023-02-28T16:14:57.736Z"
   },
   {
    "duration": 9,
    "start_time": "2023-02-28T16:14:58.239Z"
   },
   {
    "duration": 4,
    "start_time": "2023-02-28T16:14:59.547Z"
   },
   {
    "duration": 34,
    "start_time": "2023-02-28T16:15:00.130Z"
   },
   {
    "duration": 4,
    "start_time": "2023-02-28T16:15:19.944Z"
   },
   {
    "duration": 46,
    "start_time": "2023-02-28T16:15:20.430Z"
   },
   {
    "duration": 4,
    "start_time": "2023-02-28T16:15:42.861Z"
   },
   {
    "duration": 108,
    "start_time": "2023-02-28T16:15:43.331Z"
   },
   {
    "duration": 5,
    "start_time": "2023-02-28T16:15:52.225Z"
   },
   {
    "duration": 6,
    "start_time": "2023-02-28T16:16:57.562Z"
   },
   {
    "duration": 31,
    "start_time": "2023-02-28T16:16:57.995Z"
   },
   {
    "duration": 4,
    "start_time": "2023-02-28T16:16:58.525Z"
   },
   {
    "duration": 4,
    "start_time": "2023-02-28T16:17:14.061Z"
   },
   {
    "duration": 3,
    "start_time": "2023-02-28T16:17:20.048Z"
   },
   {
    "duration": 5,
    "start_time": "2023-02-28T16:17:54.969Z"
   },
   {
    "duration": 8,
    "start_time": "2023-02-28T16:18:26.221Z"
   },
   {
    "duration": 5,
    "start_time": "2023-02-28T16:18:28.970Z"
   },
   {
    "duration": 48,
    "start_time": "2023-02-28T16:18:29.481Z"
   },
   {
    "duration": 5,
    "start_time": "2023-02-28T16:18:30.473Z"
   },
   {
    "duration": 409,
    "start_time": "2023-02-28T16:19:02.160Z"
   },
   {
    "duration": 3,
    "start_time": "2023-02-28T16:19:24.087Z"
   },
   {
    "duration": 5,
    "start_time": "2023-02-28T16:22:09.616Z"
   },
   {
    "duration": 42,
    "start_time": "2023-02-28T16:22:41.689Z"
   },
   {
    "duration": 3,
    "start_time": "2023-02-28T16:23:00.253Z"
   },
   {
    "duration": 445,
    "start_time": "2023-02-28T16:23:41.602Z"
   },
   {
    "duration": 3,
    "start_time": "2023-02-28T16:23:55.592Z"
   },
   {
    "duration": 4,
    "start_time": "2023-02-28T16:24:09.575Z"
   },
   {
    "duration": 3,
    "start_time": "2023-02-28T16:26:43.088Z"
   },
   {
    "duration": 344,
    "start_time": "2023-02-28T16:26:43.566Z"
   },
   {
    "duration": 8,
    "start_time": "2023-02-28T16:26:44.087Z"
   },
   {
    "duration": 9,
    "start_time": "2023-02-28T16:26:44.609Z"
   },
   {
    "duration": 12,
    "start_time": "2023-02-28T16:26:45.132Z"
   },
   {
    "duration": 19,
    "start_time": "2023-02-28T16:26:45.640Z"
   },
   {
    "duration": 19,
    "start_time": "2023-02-28T16:26:46.263Z"
   },
   {
    "duration": 19,
    "start_time": "2023-02-28T16:26:47.208Z"
   },
   {
    "duration": 13,
    "start_time": "2023-02-28T16:26:47.824Z"
   },
   {
    "duration": 13,
    "start_time": "2023-02-28T16:26:48.461Z"
   },
   {
    "duration": 13,
    "start_time": "2023-02-28T16:26:49.006Z"
   },
   {
    "duration": 5,
    "start_time": "2023-02-28T16:26:50.279Z"
   },
   {
    "duration": 391,
    "start_time": "2023-02-28T16:26:50.951Z"
   },
   {
    "duration": 3,
    "start_time": "2023-02-28T16:26:51.540Z"
   },
   {
    "duration": 3,
    "start_time": "2023-02-28T16:26:52.451Z"
   },
   {
    "duration": 3,
    "start_time": "2023-02-28T16:26:53.136Z"
   },
   {
    "duration": 43,
    "start_time": "2023-02-28T19:09:48.058Z"
   },
   {
    "duration": 0,
    "start_time": "2023-02-28T19:09:48.103Z"
   },
   {
    "duration": 1167,
    "start_time": "2023-02-28T19:10:08.622Z"
   },
   {
    "duration": 918,
    "start_time": "2023-02-28T19:10:09.791Z"
   },
   {
    "duration": 18,
    "start_time": "2023-02-28T19:10:10.712Z"
   },
   {
    "duration": 13,
    "start_time": "2023-02-28T19:10:10.892Z"
   },
   {
    "duration": 8,
    "start_time": "2023-02-28T19:10:11.756Z"
   },
   {
    "duration": 13,
    "start_time": "2023-02-28T19:10:12.850Z"
   },
   {
    "duration": 13,
    "start_time": "2023-02-28T19:10:13.433Z"
   },
   {
    "duration": 11,
    "start_time": "2023-02-28T19:10:13.944Z"
   },
   {
    "duration": 9,
    "start_time": "2023-02-28T19:10:14.484Z"
   },
   {
    "duration": 9,
    "start_time": "2023-02-28T19:10:15.069Z"
   },
   {
    "duration": 10,
    "start_time": "2023-02-28T19:10:15.581Z"
   },
   {
    "duration": 5,
    "start_time": "2023-02-28T19:10:16.982Z"
   },
   {
    "duration": 459,
    "start_time": "2023-02-28T19:10:17.792Z"
   },
   {
    "duration": 3,
    "start_time": "2023-02-28T19:10:19.472Z"
   },
   {
    "duration": 3,
    "start_time": "2023-02-28T19:10:22.685Z"
   },
   {
    "duration": 3,
    "start_time": "2023-02-28T19:10:23.262Z"
   },
   {
    "duration": 4,
    "start_time": "2023-02-28T19:10:32.339Z"
   },
   {
    "duration": 462,
    "start_time": "2023-02-28T19:10:32.902Z"
   },
   {
    "duration": 5,
    "start_time": "2023-02-28T19:11:32.019Z"
   },
   {
    "duration": 102,
    "start_time": "2023-02-28T19:11:32.611Z"
   },
   {
    "duration": 5,
    "start_time": "2023-02-28T19:11:47.498Z"
   },
   {
    "duration": 360,
    "start_time": "2023-02-28T19:11:48.103Z"
   },
   {
    "duration": 426,
    "start_time": "2023-02-28T19:11:55.624Z"
   },
   {
    "duration": 9,
    "start_time": "2023-02-28T19:12:00.103Z"
   },
   {
    "duration": 441,
    "start_time": "2023-02-28T19:12:14.106Z"
   },
   {
    "duration": 485,
    "start_time": "2023-02-28T19:12:19.557Z"
   },
   {
    "duration": 392,
    "start_time": "2023-02-28T19:12:29.168Z"
   },
   {
    "duration": 4,
    "start_time": "2023-02-28T19:12:30.471Z"
   },
   {
    "duration": 3,
    "start_time": "2023-02-28T19:12:31.305Z"
   },
   {
    "duration": 3,
    "start_time": "2023-02-28T19:12:32.022Z"
   },
   {
    "duration": 8,
    "start_time": "2023-02-28T19:40:43.893Z"
   },
   {
    "duration": 9,
    "start_time": "2023-02-28T19:40:55.504Z"
   },
   {
    "duration": 8,
    "start_time": "2023-02-28T19:41:29.694Z"
   },
   {
    "duration": 8,
    "start_time": "2023-02-28T19:41:43.604Z"
   },
   {
    "duration": 8,
    "start_time": "2023-02-28T19:41:48.055Z"
   },
   {
    "duration": 11,
    "start_time": "2023-02-28T19:42:26.691Z"
   },
   {
    "duration": 49,
    "start_time": "2023-02-28T19:42:41.821Z"
   },
   {
    "duration": 8,
    "start_time": "2023-02-28T19:42:56.451Z"
   },
   {
    "duration": 12,
    "start_time": "2023-02-28T19:43:08.797Z"
   },
   {
    "duration": 9,
    "start_time": "2023-02-28T19:43:17.582Z"
   },
   {
    "duration": 11,
    "start_time": "2023-02-28T19:44:00.094Z"
   },
   {
    "duration": 39,
    "start_time": "2023-02-28T19:44:07.992Z"
   },
   {
    "duration": 2,
    "start_time": "2023-02-28T19:44:37.570Z"
   },
   {
    "duration": 3,
    "start_time": "2023-02-28T19:45:25.655Z"
   },
   {
    "duration": 9,
    "start_time": "2023-02-28T19:46:16.543Z"
   },
   {
    "duration": 16,
    "start_time": "2023-02-28T19:46:23.740Z"
   },
   {
    "duration": 4,
    "start_time": "2023-02-28T19:46:27.977Z"
   },
   {
    "duration": 41,
    "start_time": "2023-02-28T19:47:19.096Z"
   },
   {
    "duration": 4,
    "start_time": "2023-02-28T19:48:13.919Z"
   },
   {
    "duration": 4,
    "start_time": "2023-02-28T19:49:48.163Z"
   },
   {
    "duration": 4,
    "start_time": "2023-02-28T19:49:51.656Z"
   },
   {
    "duration": 14,
    "start_time": "2023-02-28T19:49:57.249Z"
   },
   {
    "duration": 3,
    "start_time": "2023-02-28T19:50:00.787Z"
   },
   {
    "duration": 4,
    "start_time": "2023-02-28T19:50:10.755Z"
   },
   {
    "duration": 4,
    "start_time": "2023-02-28T19:50:13.625Z"
   },
   {
    "duration": 51,
    "start_time": "2023-02-28T19:51:03.837Z"
   },
   {
    "duration": 2,
    "start_time": "2023-02-28T19:51:14.527Z"
   },
   {
    "duration": 3,
    "start_time": "2023-02-28T19:51:25.866Z"
   },
   {
    "duration": 4,
    "start_time": "2023-02-28T20:11:16.960Z"
   },
   {
    "duration": 11,
    "start_time": "2023-02-28T20:11:49.450Z"
   },
   {
    "duration": 139,
    "start_time": "2023-02-28T20:12:35.206Z"
   },
   {
    "duration": 41,
    "start_time": "2023-02-28T20:12:42.161Z"
   },
   {
    "duration": 3,
    "start_time": "2023-02-28T20:12:57.560Z"
   },
   {
    "duration": 3,
    "start_time": "2023-02-28T20:14:41.163Z"
   },
   {
    "duration": 9,
    "start_time": "2023-02-28T20:15:06.161Z"
   },
   {
    "duration": 8,
    "start_time": "2023-02-28T20:15:24.333Z"
   },
   {
    "duration": 102,
    "start_time": "2023-02-28T20:17:29.143Z"
   },
   {
    "duration": 469,
    "start_time": "2023-02-28T20:17:52.073Z"
   },
   {
    "duration": 420,
    "start_time": "2023-02-28T20:17:54.932Z"
   },
   {
    "duration": 368,
    "start_time": "2023-02-28T20:18:09.680Z"
   },
   {
    "duration": 3,
    "start_time": "2023-02-28T20:18:20.141Z"
   },
   {
    "duration": 3,
    "start_time": "2023-02-28T20:21:26.709Z"
   },
   {
    "duration": 10,
    "start_time": "2023-02-28T20:21:54.830Z"
   },
   {
    "duration": 3,
    "start_time": "2023-02-28T20:22:18.866Z"
   },
   {
    "duration": 313,
    "start_time": "2023-02-28T20:22:19.360Z"
   },
   {
    "duration": 9,
    "start_time": "2023-02-28T20:22:19.882Z"
   },
   {
    "duration": 8,
    "start_time": "2023-02-28T20:22:20.424Z"
   },
   {
    "duration": 8,
    "start_time": "2023-02-28T20:22:20.951Z"
   },
   {
    "duration": 15,
    "start_time": "2023-02-28T20:22:21.493Z"
   },
   {
    "duration": 13,
    "start_time": "2023-02-28T20:22:22.027Z"
   },
   {
    "duration": 14,
    "start_time": "2023-02-28T20:22:22.578Z"
   },
   {
    "duration": 9,
    "start_time": "2023-02-28T20:22:23.115Z"
   },
   {
    "duration": 10,
    "start_time": "2023-02-28T20:22:23.695Z"
   },
   {
    "duration": 9,
    "start_time": "2023-02-28T20:22:24.227Z"
   },
   {
    "duration": 5,
    "start_time": "2023-02-28T20:22:25.268Z"
   },
   {
    "duration": 414,
    "start_time": "2023-02-28T20:22:26.037Z"
   },
   {
    "duration": 63,
    "start_time": "2023-02-28T20:22:27.679Z"
   },
   {
    "duration": 3,
    "start_time": "2023-02-28T20:22:34.227Z"
   },
   {
    "duration": 2,
    "start_time": "2023-02-28T20:22:44.660Z"
   },
   {
    "duration": 3,
    "start_time": "2023-02-28T20:22:46.185Z"
   },
   {
    "duration": 3,
    "start_time": "2023-02-28T20:22:53.988Z"
   },
   {
    "duration": 3,
    "start_time": "2023-02-28T20:22:54.504Z"
   },
   {
    "duration": 3,
    "start_time": "2023-02-28T20:22:55.120Z"
   },
   {
    "duration": 3,
    "start_time": "2023-02-28T20:22:55.608Z"
   },
   {
    "duration": 11,
    "start_time": "2023-02-28T20:22:56.163Z"
   },
   {
    "duration": 3,
    "start_time": "2023-02-28T20:23:31.183Z"
   },
   {
    "duration": 393,
    "start_time": "2023-02-28T20:23:31.188Z"
   },
   {
    "duration": 9,
    "start_time": "2023-02-28T20:23:31.583Z"
   },
   {
    "duration": 28,
    "start_time": "2023-02-28T20:23:31.593Z"
   },
   {
    "duration": 30,
    "start_time": "2023-02-28T20:23:31.623Z"
   },
   {
    "duration": 34,
    "start_time": "2023-02-28T20:23:31.655Z"
   },
   {
    "duration": 55,
    "start_time": "2023-02-28T20:23:31.691Z"
   },
   {
    "duration": 18,
    "start_time": "2023-02-28T20:23:31.748Z"
   },
   {
    "duration": 18,
    "start_time": "2023-02-28T20:23:31.767Z"
   },
   {
    "duration": 32,
    "start_time": "2023-02-28T20:23:31.787Z"
   },
   {
    "duration": 29,
    "start_time": "2023-02-28T20:23:31.821Z"
   },
   {
    "duration": 5,
    "start_time": "2023-02-28T20:23:31.851Z"
   },
   {
    "duration": 88,
    "start_time": "2023-02-28T20:23:31.858Z"
   },
   {
    "duration": 0,
    "start_time": "2023-02-28T20:23:31.948Z"
   },
   {
    "duration": 0,
    "start_time": "2023-02-28T20:23:31.949Z"
   },
   {
    "duration": 0,
    "start_time": "2023-02-28T20:23:31.950Z"
   },
   {
    "duration": 0,
    "start_time": "2023-02-28T20:23:31.951Z"
   },
   {
    "duration": 1,
    "start_time": "2023-02-28T20:23:31.951Z"
   },
   {
    "duration": 0,
    "start_time": "2023-02-28T20:23:31.952Z"
   },
   {
    "duration": 0,
    "start_time": "2023-02-28T20:23:31.953Z"
   },
   {
    "duration": 3,
    "start_time": "2023-02-28T20:24:18.104Z"
   },
   {
    "duration": 321,
    "start_time": "2023-02-28T20:24:18.574Z"
   },
   {
    "duration": 9,
    "start_time": "2023-02-28T20:24:19.411Z"
   },
   {
    "duration": 9,
    "start_time": "2023-02-28T20:24:20.194Z"
   },
   {
    "duration": 9,
    "start_time": "2023-02-28T20:24:21.055Z"
   },
   {
    "duration": 14,
    "start_time": "2023-02-28T20:24:22.155Z"
   },
   {
    "duration": 14,
    "start_time": "2023-02-28T20:24:22.874Z"
   },
   {
    "duration": 14,
    "start_time": "2023-02-28T20:24:23.527Z"
   },
   {
    "duration": 9,
    "start_time": "2023-02-28T20:24:24.106Z"
   },
   {
    "duration": 9,
    "start_time": "2023-02-28T20:24:24.751Z"
   },
   {
    "duration": 16,
    "start_time": "2023-02-28T20:24:25.242Z"
   },
   {
    "duration": 4,
    "start_time": "2023-02-28T20:24:26.637Z"
   },
   {
    "duration": 73,
    "start_time": "2023-02-28T20:24:27.572Z"
   },
   {
    "duration": 3,
    "start_time": "2023-02-28T20:24:31.954Z"
   },
   {
    "duration": 4,
    "start_time": "2023-02-28T20:24:32.895Z"
   },
   {
    "duration": 3,
    "start_time": "2023-02-28T20:24:33.962Z"
   },
   {
    "duration": 2,
    "start_time": "2023-02-28T20:24:39.759Z"
   },
   {
    "duration": 4,
    "start_time": "2023-02-28T20:24:40.415Z"
   },
   {
    "duration": 4,
    "start_time": "2023-02-28T20:24:41.254Z"
   },
   {
    "duration": 3,
    "start_time": "2023-02-28T20:24:42.034Z"
   },
   {
    "duration": 4,
    "start_time": "2023-02-28T20:24:48.931Z"
   },
   {
    "duration": 5,
    "start_time": "2023-02-28T20:25:31.247Z"
   },
   {
    "duration": 358,
    "start_time": "2023-02-28T20:25:31.895Z"
   },
   {
    "duration": 3,
    "start_time": "2023-02-28T20:25:36.779Z"
   },
   {
    "duration": 4,
    "start_time": "2023-02-28T20:25:37.336Z"
   },
   {
    "duration": 3,
    "start_time": "2023-02-28T20:25:37.946Z"
   },
   {
    "duration": 4,
    "start_time": "2023-02-28T20:30:17.828Z"
   },
   {
    "duration": 55,
    "start_time": "2023-02-28T20:30:19.490Z"
   },
   {
    "duration": 5,
    "start_time": "2023-02-28T20:31:13.160Z"
   },
   {
    "duration": 87,
    "start_time": "2023-02-28T20:31:35.553Z"
   },
   {
    "duration": 494,
    "start_time": "2023-02-28T20:32:08.747Z"
   },
   {
    "duration": 93,
    "start_time": "2023-02-28T20:32:13.049Z"
   },
   {
    "duration": 31,
    "start_time": "2023-02-28T20:33:02.978Z"
   },
   {
    "duration": 386,
    "start_time": "2023-02-28T20:33:22.567Z"
   },
   {
    "duration": 95,
    "start_time": "2023-02-28T20:33:26.851Z"
   },
   {
    "duration": 35,
    "start_time": "2023-02-28T20:35:00.457Z"
   },
   {
    "duration": 379,
    "start_time": "2023-02-28T20:35:33.380Z"
   },
   {
    "duration": 3,
    "start_time": "2023-02-28T20:35:36.119Z"
   },
   {
    "duration": 3,
    "start_time": "2023-02-28T20:35:36.922Z"
   },
   {
    "duration": 4,
    "start_time": "2023-02-28T20:35:37.599Z"
   },
   {
    "duration": 3,
    "start_time": "2023-02-28T20:38:15.707Z"
   },
   {
    "duration": 7,
    "start_time": "2023-02-28T20:38:36.976Z"
   },
   {
    "duration": 9,
    "start_time": "2023-02-28T20:38:44.315Z"
   },
   {
    "duration": 20,
    "start_time": "2023-02-28T20:39:16.891Z"
   },
   {
    "duration": 3,
    "start_time": "2023-02-28T20:39:43.536Z"
   },
   {
    "duration": 4,
    "start_time": "2023-02-28T20:41:03.235Z"
   },
   {
    "duration": 16,
    "start_time": "2023-02-28T20:41:03.754Z"
   },
   {
    "duration": 3,
    "start_time": "2023-02-28T20:41:04.241Z"
   },
   {
    "duration": 4,
    "start_time": "2023-02-28T20:42:17.229Z"
   },
   {
    "duration": 15,
    "start_time": "2023-02-28T20:42:17.724Z"
   },
   {
    "duration": 3,
    "start_time": "2023-02-28T20:42:18.227Z"
   },
   {
    "duration": 3,
    "start_time": "2023-02-28T20:42:54.739Z"
   },
   {
    "duration": 16,
    "start_time": "2023-02-28T20:43:03.246Z"
   },
   {
    "duration": 4,
    "start_time": "2023-02-28T20:43:10.331Z"
   },
   {
    "duration": 1108,
    "start_time": "2023-03-01T07:23:45.043Z"
   },
   {
    "duration": 925,
    "start_time": "2023-03-01T07:23:46.153Z"
   },
   {
    "duration": 17,
    "start_time": "2023-03-01T07:23:47.079Z"
   },
   {
    "duration": 8,
    "start_time": "2023-03-01T07:23:47.098Z"
   },
   {
    "duration": 11,
    "start_time": "2023-03-01T07:23:47.108Z"
   },
   {
    "duration": 33,
    "start_time": "2023-03-01T07:23:47.120Z"
   },
   {
    "duration": 13,
    "start_time": "2023-03-01T07:23:47.155Z"
   },
   {
    "duration": 15,
    "start_time": "2023-03-01T07:23:47.170Z"
   },
   {
    "duration": 9,
    "start_time": "2023-03-01T07:23:47.187Z"
   },
   {
    "duration": 9,
    "start_time": "2023-03-01T07:23:47.198Z"
   },
   {
    "duration": 22,
    "start_time": "2023-03-01T07:23:47.208Z"
   },
   {
    "duration": 20,
    "start_time": "2023-03-01T07:23:47.232Z"
   },
   {
    "duration": 418,
    "start_time": "2023-03-01T07:23:47.254Z"
   },
   {
    "duration": 58,
    "start_time": "2023-03-01T07:23:47.673Z"
   },
   {
    "duration": 118,
    "start_time": "2023-03-01T07:23:47.733Z"
   },
   {
    "duration": 7,
    "start_time": "2023-03-01T07:23:47.853Z"
   },
   {
    "duration": 6,
    "start_time": "2023-03-01T07:23:47.862Z"
   },
   {
    "duration": 8,
    "start_time": "2023-03-01T07:23:47.869Z"
   },
   {
    "duration": 7,
    "start_time": "2023-03-01T07:23:47.878Z"
   },
   {
    "duration": 8,
    "start_time": "2023-03-01T07:23:47.886Z"
   },
   {
    "duration": 18,
    "start_time": "2023-03-01T07:23:47.895Z"
   },
   {
    "duration": 3,
    "start_time": "2023-03-01T07:23:47.915Z"
   },
   {
    "duration": 5,
    "start_time": "2023-03-01T08:06:45.845Z"
   },
   {
    "duration": 104,
    "start_time": "2023-03-01T08:07:09.391Z"
   },
   {
    "duration": 3,
    "start_time": "2023-03-01T08:07:14.101Z"
   },
   {
    "duration": 4,
    "start_time": "2023-03-01T08:11:03.240Z"
   },
   {
    "duration": 20,
    "start_time": "2023-03-01T08:11:19.663Z"
   },
   {
    "duration": 3,
    "start_time": "2023-03-01T08:11:51.901Z"
   },
   {
    "duration": 19,
    "start_time": "2023-03-01T08:11:52.405Z"
   },
   {
    "duration": 9,
    "start_time": "2023-03-01T08:16:29.149Z"
   },
   {
    "duration": 328,
    "start_time": "2023-03-01T08:16:34.942Z"
   },
   {
    "duration": 279,
    "start_time": "2023-03-01T08:16:44.643Z"
   },
   {
    "duration": 3,
    "start_time": "2023-03-01T08:38:44.780Z"
   },
   {
    "duration": 8,
    "start_time": "2023-03-01T08:39:27.059Z"
   },
   {
    "duration": 16,
    "start_time": "2023-03-01T08:39:41.932Z"
   },
   {
    "duration": 5,
    "start_time": "2023-03-01T08:40:09.667Z"
   },
   {
    "duration": 12,
    "start_time": "2023-03-01T08:40:10.076Z"
   },
   {
    "duration": 50,
    "start_time": "2023-03-01T08:41:09.833Z"
   },
   {
    "duration": 48,
    "start_time": "2023-03-01T08:41:46.145Z"
   },
   {
    "duration": 4,
    "start_time": "2023-03-01T08:44:51.755Z"
   },
   {
    "duration": 4411,
    "start_time": "2023-03-01T08:44:54.523Z"
   },
   {
    "duration": 4429,
    "start_time": "2023-03-01T08:45:03.092Z"
   },
   {
    "duration": 4,
    "start_time": "2023-03-01T08:45:21.152Z"
   },
   {
    "duration": 4,
    "start_time": "2023-03-01T08:47:14.785Z"
   },
   {
    "duration": 383,
    "start_time": "2023-03-01T08:47:21.365Z"
   },
   {
    "duration": 4,
    "start_time": "2023-03-01T08:47:21.892Z"
   },
   {
    "duration": 1137,
    "start_time": "2023-03-01T08:49:49.113Z"
   },
   {
    "duration": 4,
    "start_time": "2023-03-01T08:49:50.252Z"
   },
   {
    "duration": 4,
    "start_time": "2023-03-01T08:50:02.287Z"
   },
   {
    "duration": 4,
    "start_time": "2023-03-01T08:50:12.693Z"
   },
   {
    "duration": 3,
    "start_time": "2023-03-01T08:52:46.286Z"
   },
   {
    "duration": 11,
    "start_time": "2023-03-01T08:52:47.080Z"
   },
   {
    "duration": 3,
    "start_time": "2023-03-01T08:52:55.477Z"
   },
   {
    "duration": 3,
    "start_time": "2023-03-01T08:53:00.554Z"
   },
   {
    "duration": 4,
    "start_time": "2023-03-01T08:55:11.083Z"
   },
   {
    "duration": 14,
    "start_time": "2023-03-01T08:55:11.921Z"
   },
   {
    "duration": 13,
    "start_time": "2023-03-01T08:55:28.969Z"
   },
   {
    "duration": 11,
    "start_time": "2023-03-01T08:56:50.245Z"
   },
   {
    "duration": 5,
    "start_time": "2023-03-01T08:56:52.666Z"
   },
   {
    "duration": 1126,
    "start_time": "2023-03-01T08:56:53.180Z"
   },
   {
    "duration": 3,
    "start_time": "2023-03-01T08:56:55.062Z"
   },
   {
    "duration": 4,
    "start_time": "2023-03-01T08:56:55.781Z"
   },
   {
    "duration": 4,
    "start_time": "2023-03-01T08:56:56.396Z"
   },
   {
    "duration": 3,
    "start_time": "2023-03-01T09:00:38.098Z"
   },
   {
    "duration": 3,
    "start_time": "2023-03-01T09:01:10.364Z"
   },
   {
    "duration": 12,
    "start_time": "2023-03-01T09:01:57.156Z"
   },
   {
    "duration": 9,
    "start_time": "2023-03-01T09:02:06.126Z"
   },
   {
    "duration": 16,
    "start_time": "2023-03-01T09:02:28.296Z"
   },
   {
    "duration": 3,
    "start_time": "2023-03-01T09:02:47.496Z"
   },
   {
    "duration": 5,
    "start_time": "2023-03-01T09:05:22.578Z"
   },
   {
    "duration": 467,
    "start_time": "2023-03-01T09:05:24.089Z"
   },
   {
    "duration": 3,
    "start_time": "2023-03-01T09:05:28.074Z"
   },
   {
    "duration": 3,
    "start_time": "2023-03-01T09:05:28.690Z"
   },
   {
    "duration": 8,
    "start_time": "2023-03-01T09:05:29.236Z"
   },
   {
    "duration": 4,
    "start_time": "2023-03-01T09:05:30.846Z"
   },
   {
    "duration": 4,
    "start_time": "2023-03-01T09:05:31.447Z"
   },
   {
    "duration": 3,
    "start_time": "2023-03-01T09:05:32.144Z"
   },
   {
    "duration": 4,
    "start_time": "2023-03-01T09:05:33.544Z"
   },
   {
    "duration": 16,
    "start_time": "2023-03-01T09:05:34.191Z"
   },
   {
    "duration": 4,
    "start_time": "2023-03-01T09:05:34.944Z"
   },
   {
    "duration": 4,
    "start_time": "2023-03-01T09:10:41.104Z"
   },
   {
    "duration": 13,
    "start_time": "2023-03-01T09:25:55.045Z"
   },
   {
    "duration": 4,
    "start_time": "2023-03-01T09:26:06.170Z"
   },
   {
    "duration": 13,
    "start_time": "2023-03-01T09:26:06.615Z"
   },
   {
    "duration": 5,
    "start_time": "2023-03-01T09:26:13.221Z"
   },
   {
    "duration": 1406,
    "start_time": "2023-03-01T09:26:13.647Z"
   },
   {
    "duration": 4,
    "start_time": "2023-03-01T09:26:24.173Z"
   },
   {
    "duration": 1479,
    "start_time": "2023-03-01T09:26:24.652Z"
   },
   {
    "duration": 3,
    "start_time": "2023-03-01T09:26:36.957Z"
   },
   {
    "duration": 5,
    "start_time": "2023-03-01T09:26:48.943Z"
   },
   {
    "duration": 3,
    "start_time": "2023-03-01T09:26:57.500Z"
   },
   {
    "duration": 4260,
    "start_time": "2023-03-01T09:28:30.554Z"
   },
   {
    "duration": 4,
    "start_time": "2023-03-01T09:28:34.815Z"
   },
   {
    "duration": 3,
    "start_time": "2023-03-01T09:28:47.194Z"
   },
   {
    "duration": 4,
    "start_time": "2023-03-01T09:28:57.969Z"
   },
   {
    "duration": 4,
    "start_time": "2023-03-01T09:29:36.000Z"
   },
   {
    "duration": 3,
    "start_time": "2023-03-01T09:29:55.105Z"
   },
   {
    "duration": 6,
    "start_time": "2023-03-01T09:29:57.415Z"
   },
   {
    "duration": 5,
    "start_time": "2023-03-01T09:36:00.546Z"
   },
   {
    "duration": 4,
    "start_time": "2023-03-01T09:36:11.101Z"
   },
   {
    "duration": 4,
    "start_time": "2023-03-01T09:36:17.071Z"
   },
   {
    "duration": 4036,
    "start_time": "2023-03-01T09:36:48.053Z"
   },
   {
    "duration": 4,
    "start_time": "2023-03-01T09:36:56.918Z"
   },
   {
    "duration": 5,
    "start_time": "2023-03-01T09:37:18.121Z"
   },
   {
    "duration": 5,
    "start_time": "2023-03-01T09:37:22.481Z"
   },
   {
    "duration": 4,
    "start_time": "2023-03-01T09:37:30.202Z"
   },
   {
    "duration": 4,
    "start_time": "2023-03-01T09:37:41.346Z"
   },
   {
    "duration": 4,
    "start_time": "2023-03-01T09:37:48.248Z"
   },
   {
    "duration": 48,
    "start_time": "2023-03-01T09:38:23.723Z"
   },
   {
    "duration": 4,
    "start_time": "2023-03-01T09:38:34.414Z"
   },
   {
    "duration": 4,
    "start_time": "2023-03-01T09:38:37.861Z"
   },
   {
    "duration": 6,
    "start_time": "2023-03-01T11:57:23.935Z"
   },
   {
    "duration": 476,
    "start_time": "2023-03-01T11:57:34.454Z"
   },
   {
    "duration": 4,
    "start_time": "2023-03-01T11:58:55.973Z"
   },
   {
    "duration": 3,
    "start_time": "2023-03-01T11:59:16.299Z"
   },
   {
    "duration": 4,
    "start_time": "2023-03-01T11:59:37.897Z"
   },
   {
    "duration": 4,
    "start_time": "2023-03-01T11:59:44.464Z"
   },
   {
    "duration": 4,
    "start_time": "2023-03-01T12:00:03.955Z"
   },
   {
    "duration": 4,
    "start_time": "2023-03-01T12:00:23.103Z"
   },
   {
    "duration": 4,
    "start_time": "2023-03-01T12:00:35.413Z"
   },
   {
    "duration": 5,
    "start_time": "2023-03-01T12:05:10.217Z"
   },
   {
    "duration": 4,
    "start_time": "2023-03-01T12:13:18.790Z"
   },
   {
    "duration": 5,
    "start_time": "2023-03-01T12:22:54.302Z"
   },
   {
    "duration": 4141,
    "start_time": "2023-03-01T12:22:54.809Z"
   },
   {
    "duration": 5,
    "start_time": "2023-03-01T12:22:58.953Z"
   },
   {
    "duration": 4,
    "start_time": "2023-03-01T12:23:02.612Z"
   },
   {
    "duration": 5,
    "start_time": "2023-03-01T12:23:04.483Z"
   },
   {
    "duration": 4,
    "start_time": "2023-03-01T12:23:33.650Z"
   },
   {
    "duration": 930,
    "start_time": "2023-03-01T12:23:34.600Z"
   },
   {
    "duration": 11,
    "start_time": "2023-03-01T12:23:35.558Z"
   },
   {
    "duration": 13,
    "start_time": "2023-03-01T12:23:36.024Z"
   },
   {
    "duration": 10,
    "start_time": "2023-03-01T12:23:36.537Z"
   },
   {
    "duration": 35,
    "start_time": "2023-03-01T12:23:37.560Z"
   },
   {
    "duration": 15,
    "start_time": "2023-03-01T12:23:38.062Z"
   },
   {
    "duration": 15,
    "start_time": "2023-03-01T12:23:38.553Z"
   },
   {
    "duration": 9,
    "start_time": "2023-03-01T12:23:39.556Z"
   },
   {
    "duration": 10,
    "start_time": "2023-03-01T12:23:39.988Z"
   },
   {
    "duration": 13,
    "start_time": "2023-03-01T12:23:40.457Z"
   },
   {
    "duration": 8,
    "start_time": "2023-03-01T12:23:42.116Z"
   },
   {
    "duration": 433,
    "start_time": "2023-03-01T12:23:43.098Z"
   },
   {
    "duration": 5,
    "start_time": "2023-03-01T12:23:44.788Z"
   },
   {
    "duration": 5,
    "start_time": "2023-03-01T12:23:47.750Z"
   },
   {
    "duration": 4,
    "start_time": "2023-03-01T12:23:49.569Z"
   },
   {
    "duration": 4,
    "start_time": "2023-03-01T12:23:52.776Z"
   },
   {
    "duration": 5,
    "start_time": "2023-03-01T12:23:54.010Z"
   },
   {
    "duration": 5,
    "start_time": "2023-03-01T12:23:55.354Z"
   },
   {
    "duration": 4,
    "start_time": "2023-03-01T12:23:57.239Z"
   },
   {
    "duration": 17,
    "start_time": "2023-03-01T12:23:57.935Z"
   },
   {
    "duration": 3,
    "start_time": "2023-03-01T12:23:58.614Z"
   },
   {
    "duration": 6,
    "start_time": "2023-03-01T12:24:01.759Z"
   },
   {
    "duration": 4146,
    "start_time": "2023-03-01T12:24:02.626Z"
   },
   {
    "duration": 5,
    "start_time": "2023-03-01T12:24:06.773Z"
   },
   {
    "duration": 4,
    "start_time": "2023-03-01T12:24:09.326Z"
   },
   {
    "duration": 5,
    "start_time": "2023-03-01T12:24:11.367Z"
   },
   {
    "duration": 5,
    "start_time": "2023-03-01T12:25:38.099Z"
   },
   {
    "duration": 4,
    "start_time": "2023-03-01T12:26:11.859Z"
   },
   {
    "duration": 6,
    "start_time": "2023-03-01T12:30:41.370Z"
   },
   {
    "duration": 6,
    "start_time": "2023-03-01T12:32:25.598Z"
   },
   {
    "duration": 5,
    "start_time": "2023-03-01T12:32:50.002Z"
   },
   {
    "duration": 5,
    "start_time": "2023-03-01T12:33:08.365Z"
   },
   {
    "duration": 4,
    "start_time": "2023-03-01T12:33:26.775Z"
   },
   {
    "duration": 6,
    "start_time": "2023-03-01T12:33:34.986Z"
   },
   {
    "duration": 6,
    "start_time": "2023-03-01T12:33:42.285Z"
   },
   {
    "duration": 3,
    "start_time": "2023-03-01T12:43:53.076Z"
   },
   {
    "duration": 4,
    "start_time": "2023-03-01T12:53:47.573Z"
   },
   {
    "duration": 4,
    "start_time": "2023-03-01T12:57:12.199Z"
   },
   {
    "duration": 5,
    "start_time": "2023-03-01T12:57:44.433Z"
   },
   {
    "duration": 22,
    "start_time": "2023-03-01T12:57:44.881Z"
   },
   {
    "duration": 4,
    "start_time": "2023-03-01T12:57:45.279Z"
   },
   {
    "duration": 3,
    "start_time": "2023-03-01T12:57:53.716Z"
   },
   {
    "duration": 897,
    "start_time": "2023-03-01T12:57:54.644Z"
   },
   {
    "duration": 9,
    "start_time": "2023-03-01T12:57:55.596Z"
   },
   {
    "duration": 9,
    "start_time": "2023-03-01T12:57:56.089Z"
   },
   {
    "duration": 9,
    "start_time": "2023-03-01T12:57:56.533Z"
   },
   {
    "duration": 15,
    "start_time": "2023-03-01T12:57:57.502Z"
   },
   {
    "duration": 14,
    "start_time": "2023-03-01T12:57:57.974Z"
   },
   {
    "duration": 13,
    "start_time": "2023-03-01T12:57:58.467Z"
   },
   {
    "duration": 8,
    "start_time": "2023-03-01T12:57:59.376Z"
   },
   {
    "duration": 9,
    "start_time": "2023-03-01T12:57:59.798Z"
   },
   {
    "duration": 10,
    "start_time": "2023-03-01T12:58:00.233Z"
   },
   {
    "duration": 5,
    "start_time": "2023-03-01T12:58:01.683Z"
   },
   {
    "duration": 396,
    "start_time": "2023-03-01T12:58:02.151Z"
   },
   {
    "duration": 5,
    "start_time": "2023-03-01T12:58:03.968Z"
   },
   {
    "duration": 4,
    "start_time": "2023-03-01T12:58:05.707Z"
   },
   {
    "duration": 4,
    "start_time": "2023-03-01T12:58:06.438Z"
   },
   {
    "duration": 3,
    "start_time": "2023-03-01T12:58:09.241Z"
   },
   {
    "duration": 4,
    "start_time": "2023-03-01T12:58:10.968Z"
   },
   {
    "duration": 4,
    "start_time": "2023-03-01T12:58:12.395Z"
   },
   {
    "duration": 3,
    "start_time": "2023-03-01T12:58:14.302Z"
   },
   {
    "duration": 16,
    "start_time": "2023-03-01T12:58:15.170Z"
   },
   {
    "duration": 4,
    "start_time": "2023-03-01T12:58:15.691Z"
   },
   {
    "duration": 5,
    "start_time": "2023-03-01T12:58:32.573Z"
   },
   {
    "duration": 4001,
    "start_time": "2023-03-01T12:58:33.410Z"
   },
   {
    "duration": 6,
    "start_time": "2023-03-01T12:58:37.413Z"
   },
   {
    "duration": 5,
    "start_time": "2023-03-01T12:58:55.772Z"
   },
   {
    "duration": 5,
    "start_time": "2023-03-01T12:59:00.936Z"
   },
   {
    "duration": 4,
    "start_time": "2023-03-01T12:59:04.473Z"
   },
   {
    "duration": 3028,
    "start_time": "2023-03-06T16:53:29.779Z"
   },
   {
    "duration": 2077,
    "start_time": "2023-03-06T16:53:32.809Z"
   },
   {
    "duration": 22,
    "start_time": "2023-03-06T16:53:34.888Z"
   },
   {
    "duration": 11,
    "start_time": "2023-03-06T16:53:34.913Z"
   },
   {
    "duration": 16,
    "start_time": "2023-03-06T16:53:34.926Z"
   },
   {
    "duration": 29,
    "start_time": "2023-03-06T16:53:34.948Z"
   },
   {
    "duration": 14,
    "start_time": "2023-03-06T16:53:34.978Z"
   },
   {
    "duration": 14,
    "start_time": "2023-03-06T16:53:34.993Z"
   },
   {
    "duration": 13,
    "start_time": "2023-03-06T16:53:35.009Z"
   },
   {
    "duration": 24,
    "start_time": "2023-03-06T16:53:35.041Z"
   },
   {
    "duration": 18,
    "start_time": "2023-03-06T16:53:35.068Z"
   },
   {
    "duration": 5,
    "start_time": "2023-03-06T16:53:35.087Z"
   },
   {
    "duration": 363,
    "start_time": "2023-03-06T16:53:35.094Z"
   },
   {
    "duration": 6,
    "start_time": "2023-03-06T16:53:35.459Z"
   },
   {
    "duration": 75,
    "start_time": "2023-03-06T16:53:35.469Z"
   },
   {
    "duration": 8,
    "start_time": "2023-03-06T16:53:35.547Z"
   },
   {
    "duration": 21,
    "start_time": "2023-03-06T16:53:35.558Z"
   },
   {
    "duration": 74,
    "start_time": "2023-03-06T16:53:35.582Z"
   },
   {
    "duration": 21,
    "start_time": "2023-03-06T16:53:35.658Z"
   },
   {
    "duration": 19,
    "start_time": "2023-03-06T16:53:35.681Z"
   },
   {
    "duration": 42,
    "start_time": "2023-03-06T16:53:35.702Z"
   },
   {
    "duration": 11,
    "start_time": "2023-03-06T16:53:35.746Z"
   },
   {
    "duration": 30,
    "start_time": "2023-03-06T16:53:35.763Z"
   },
   {
    "duration": 117,
    "start_time": "2023-03-06T16:53:35.794Z"
   },
   {
    "duration": 0,
    "start_time": "2023-03-06T16:53:35.913Z"
   },
   {
    "duration": 0,
    "start_time": "2023-03-06T16:53:35.914Z"
   },
   {
    "duration": 0,
    "start_time": "2023-03-06T16:53:35.916Z"
   },
   {
    "duration": 1171,
    "start_time": "2024-03-11T13:17:24.829Z"
   },
   {
    "duration": 773,
    "start_time": "2024-03-11T13:17:26.002Z"
   },
   {
    "duration": 17,
    "start_time": "2024-03-11T13:17:26.777Z"
   },
   {
    "duration": 9,
    "start_time": "2024-03-11T13:17:26.796Z"
   },
   {
    "duration": 14,
    "start_time": "2024-03-11T13:17:26.806Z"
   },
   {
    "duration": 15,
    "start_time": "2024-03-11T13:17:26.821Z"
   },
   {
    "duration": 28,
    "start_time": "2024-03-11T13:17:26.838Z"
   },
   {
    "duration": 14,
    "start_time": "2024-03-11T13:17:26.868Z"
   },
   {
    "duration": 9,
    "start_time": "2024-03-11T13:17:26.883Z"
   },
   {
    "duration": 9,
    "start_time": "2024-03-11T13:17:26.895Z"
   },
   {
    "duration": 9,
    "start_time": "2024-03-11T13:17:26.906Z"
   },
   {
    "duration": 5,
    "start_time": "2024-03-11T13:17:26.917Z"
   },
   {
    "duration": 458,
    "start_time": "2024-03-11T13:17:26.924Z"
   },
   {
    "duration": 82,
    "start_time": "2024-03-11T13:17:27.384Z"
   },
   {
    "duration": 4,
    "start_time": "2024-03-11T13:17:27.469Z"
   },
   {
    "duration": 94,
    "start_time": "2024-03-11T13:17:27.475Z"
   },
   {
    "duration": 6,
    "start_time": "2024-03-11T13:17:27.571Z"
   },
   {
    "duration": 5,
    "start_time": "2024-03-11T13:17:27.578Z"
   },
   {
    "duration": 6,
    "start_time": "2024-03-11T13:17:27.584Z"
   },
   {
    "duration": 4,
    "start_time": "2024-03-11T13:17:27.591Z"
   },
   {
    "duration": 16,
    "start_time": "2024-03-11T13:17:27.596Z"
   },
   {
    "duration": 3,
    "start_time": "2024-03-11T13:17:27.614Z"
   },
   {
    "duration": 10,
    "start_time": "2024-03-11T13:17:27.619Z"
   },
   {
    "duration": 128,
    "start_time": "2024-03-11T13:17:27.630Z"
   },
   {
    "duration": 0,
    "start_time": "2024-03-11T13:17:27.760Z"
   },
   {
    "duration": 0,
    "start_time": "2024-03-11T13:17:27.765Z"
   },
   {
    "duration": 0,
    "start_time": "2024-03-11T13:17:27.767Z"
   },
   {
    "duration": 3,
    "start_time": "2024-03-11T13:18:29.576Z"
   },
   {
    "duration": 413,
    "start_time": "2024-03-11T13:18:29.581Z"
   },
   {
    "duration": 9,
    "start_time": "2024-03-11T13:18:29.996Z"
   },
   {
    "duration": 42,
    "start_time": "2024-03-11T13:18:30.007Z"
   },
   {
    "duration": 22,
    "start_time": "2024-03-11T13:18:30.051Z"
   },
   {
    "duration": 33,
    "start_time": "2024-03-11T13:18:30.074Z"
   },
   {
    "duration": 30,
    "start_time": "2024-03-11T13:18:30.108Z"
   },
   {
    "duration": 36,
    "start_time": "2024-03-11T13:18:30.139Z"
   },
   {
    "duration": 55,
    "start_time": "2024-03-11T13:18:30.177Z"
   },
   {
    "duration": 23,
    "start_time": "2024-03-11T13:18:30.234Z"
   },
   {
    "duration": 73,
    "start_time": "2024-03-11T13:18:30.262Z"
   },
   {
    "duration": 109,
    "start_time": "2024-03-11T13:18:30.337Z"
   },
   {
    "duration": 547,
    "start_time": "2024-03-11T13:18:30.448Z"
   },
   {
    "duration": 7,
    "start_time": "2024-03-11T13:18:31.066Z"
   },
   {
    "duration": 30,
    "start_time": "2024-03-11T13:18:31.165Z"
   },
   {
    "duration": 56,
    "start_time": "2024-03-11T13:18:31.196Z"
   },
   {
    "duration": 68,
    "start_time": "2024-03-11T13:18:31.254Z"
   },
   {
    "duration": 40,
    "start_time": "2024-03-11T13:18:31.324Z"
   },
   {
    "duration": 42,
    "start_time": "2024-03-11T13:18:31.365Z"
   },
   {
    "duration": 34,
    "start_time": "2024-03-11T13:18:31.408Z"
   },
   {
    "duration": 36,
    "start_time": "2024-03-11T13:18:31.443Z"
   },
   {
    "duration": 4,
    "start_time": "2024-03-11T13:18:31.481Z"
   },
   {
    "duration": 59,
    "start_time": "2024-03-11T13:18:31.487Z"
   },
   {
    "duration": 4445,
    "start_time": "2024-03-11T13:18:31.548Z"
   },
   {
    "duration": 6,
    "start_time": "2024-03-11T13:18:35.995Z"
   },
   {
    "duration": 9,
    "start_time": "2024-03-11T13:18:36.002Z"
   },
   {
    "duration": 18,
    "start_time": "2024-03-11T13:18:36.012Z"
   }
  ],
  "kernelspec": {
   "display_name": "Python 3 (ipykernel)",
   "language": "python",
   "name": "python3"
  },
  "language_info": {
   "codemirror_mode": {
    "name": "ipython",
    "version": 3
   },
   "file_extension": ".py",
   "mimetype": "text/x-python",
   "name": "python",
   "nbconvert_exporter": "python",
   "pygments_lexer": "ipython3",
   "version": "3.9.5"
  },
  "toc": {
   "base_numbering": 1,
   "nav_menu": {},
   "number_sections": true,
   "sideBar": true,
   "skip_h1_title": true,
   "title_cell": "Table of Contents",
   "title_sidebar": "Contents",
   "toc_cell": false,
   "toc_position": {},
   "toc_section_display": true,
   "toc_window_display": false
  }
 },
 "nbformat": 4,
 "nbformat_minor": 2
}
