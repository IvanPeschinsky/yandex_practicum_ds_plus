{
 "cells": [
  {
   "cell_type": "markdown",
   "id": "e8c8305f",
   "metadata": {},
   "source": [
    "\n",
    "\n",
    "\n"
   ]
  },
  {
   "cell_type": "markdown",
   "id": "0c8bc50c",
   "metadata": {
    "deletable": false,
    "editable": false,
    "id": "c81daeeb"
   },
   "source": [
    "# Исследование надежности заемщиков\n"
   ]
  },
  {
   "cell_type": "markdown",
   "id": "b9cde519",
   "metadata": {
    "deletable": false,
    "editable": false,
    "id": "827c20bf"
   },
   "source": [
    "Во второй части проекта вы выполните шаги 3 и 4. Их вручную проверит ревьюер.\n",
    "Чтобы вам не пришлось писать код заново для шагов 1 и 2, мы добавили авторские решения в ячейки с кодом. \n",
    "\n"
   ]
  },
  {
   "cell_type": "markdown",
   "id": "1c67d431",
   "metadata": {
    "deletable": false,
    "editable": false,
    "id": "744d7639"
   },
   "source": [
    "## Откройте таблицу и изучите общую информацию о данных"
   ]
  },
  {
   "cell_type": "markdown",
   "id": "ca4b648c",
   "metadata": {
    "deletable": false,
    "editable": false,
    "id": "e7a14c31"
   },
   "source": [
    "**Задание 1. Импортируйте библиотеку pandas. Считайте данные из csv-файла в датафрейм и сохраните в переменную `data`. Путь к файлу:**\n",
    "\n",
    "`/datasets/data.csv`"
   ]
  },
  {
   "cell_type": "code",
   "execution_count": 10,
   "id": "0d3e1a0a",
   "metadata": {
    "deletable": false,
    "id": "7bcf75c9"
   },
   "outputs": [],
   "source": [
    "import pandas as pd\n",
    "\n",
    "try:\n",
    "    data = pd.read_csv('/datasets/data.csv')\n",
    "except:\n",
    "    data = pd.read_csv('https://code.s3.yandex.net/datasets/data.csv')"
   ]
  },
  {
   "cell_type": "markdown",
   "id": "8347691d",
   "metadata": {
    "deletable": false,
    "editable": false,
    "id": "b8038fe3"
   },
   "source": [
    "**Задание 2. Выведите первые 20 строчек датафрейма `data` на экран.**"
   ]
  },
  {
   "cell_type": "code",
   "execution_count": 11,
   "id": "b1d228c4",
   "metadata": {
    "deletable": false,
    "id": "2a7cab99",
    "outputId": "1a8f3ef2-d323-4ec2-ddf7-89670b5944c4"
   },
   "outputs": [
    {
     "data": {
      "text/html": [
       "<div>\n",
       "<style scoped>\n",
       "    .dataframe tbody tr th:only-of-type {\n",
       "        vertical-align: middle;\n",
       "    }\n",
       "\n",
       "    .dataframe tbody tr th {\n",
       "        vertical-align: top;\n",
       "    }\n",
       "\n",
       "    .dataframe thead th {\n",
       "        text-align: right;\n",
       "    }\n",
       "</style>\n",
       "<table border=\"1\" class=\"dataframe\">\n",
       "  <thead>\n",
       "    <tr style=\"text-align: right;\">\n",
       "      <th></th>\n",
       "      <th>children</th>\n",
       "      <th>days_employed</th>\n",
       "      <th>dob_years</th>\n",
       "      <th>education</th>\n",
       "      <th>education_id</th>\n",
       "      <th>family_status</th>\n",
       "      <th>family_status_id</th>\n",
       "      <th>gender</th>\n",
       "      <th>income_type</th>\n",
       "      <th>debt</th>\n",
       "      <th>total_income</th>\n",
       "      <th>purpose</th>\n",
       "    </tr>\n",
       "  </thead>\n",
       "  <tbody>\n",
       "    <tr>\n",
       "      <th>0</th>\n",
       "      <td>1</td>\n",
       "      <td>-8437.673028</td>\n",
       "      <td>42</td>\n",
       "      <td>высшее</td>\n",
       "      <td>0</td>\n",
       "      <td>женат / замужем</td>\n",
       "      <td>0</td>\n",
       "      <td>F</td>\n",
       "      <td>сотрудник</td>\n",
       "      <td>0</td>\n",
       "      <td>253875.639453</td>\n",
       "      <td>покупка жилья</td>\n",
       "    </tr>\n",
       "    <tr>\n",
       "      <th>1</th>\n",
       "      <td>1</td>\n",
       "      <td>-4024.803754</td>\n",
       "      <td>36</td>\n",
       "      <td>среднее</td>\n",
       "      <td>1</td>\n",
       "      <td>женат / замужем</td>\n",
       "      <td>0</td>\n",
       "      <td>F</td>\n",
       "      <td>сотрудник</td>\n",
       "      <td>0</td>\n",
       "      <td>112080.014102</td>\n",
       "      <td>приобретение автомобиля</td>\n",
       "    </tr>\n",
       "    <tr>\n",
       "      <th>2</th>\n",
       "      <td>0</td>\n",
       "      <td>-5623.422610</td>\n",
       "      <td>33</td>\n",
       "      <td>Среднее</td>\n",
       "      <td>1</td>\n",
       "      <td>женат / замужем</td>\n",
       "      <td>0</td>\n",
       "      <td>M</td>\n",
       "      <td>сотрудник</td>\n",
       "      <td>0</td>\n",
       "      <td>145885.952297</td>\n",
       "      <td>покупка жилья</td>\n",
       "    </tr>\n",
       "    <tr>\n",
       "      <th>3</th>\n",
       "      <td>3</td>\n",
       "      <td>-4124.747207</td>\n",
       "      <td>32</td>\n",
       "      <td>среднее</td>\n",
       "      <td>1</td>\n",
       "      <td>женат / замужем</td>\n",
       "      <td>0</td>\n",
       "      <td>M</td>\n",
       "      <td>сотрудник</td>\n",
       "      <td>0</td>\n",
       "      <td>267628.550329</td>\n",
       "      <td>дополнительное образование</td>\n",
       "    </tr>\n",
       "    <tr>\n",
       "      <th>4</th>\n",
       "      <td>0</td>\n",
       "      <td>340266.072047</td>\n",
       "      <td>53</td>\n",
       "      <td>среднее</td>\n",
       "      <td>1</td>\n",
       "      <td>гражданский брак</td>\n",
       "      <td>1</td>\n",
       "      <td>F</td>\n",
       "      <td>пенсионер</td>\n",
       "      <td>0</td>\n",
       "      <td>158616.077870</td>\n",
       "      <td>сыграть свадьбу</td>\n",
       "    </tr>\n",
       "    <tr>\n",
       "      <th>5</th>\n",
       "      <td>0</td>\n",
       "      <td>-926.185831</td>\n",
       "      <td>27</td>\n",
       "      <td>высшее</td>\n",
       "      <td>0</td>\n",
       "      <td>гражданский брак</td>\n",
       "      <td>1</td>\n",
       "      <td>M</td>\n",
       "      <td>компаньон</td>\n",
       "      <td>0</td>\n",
       "      <td>255763.565419</td>\n",
       "      <td>покупка жилья</td>\n",
       "    </tr>\n",
       "    <tr>\n",
       "      <th>6</th>\n",
       "      <td>0</td>\n",
       "      <td>-2879.202052</td>\n",
       "      <td>43</td>\n",
       "      <td>высшее</td>\n",
       "      <td>0</td>\n",
       "      <td>женат / замужем</td>\n",
       "      <td>0</td>\n",
       "      <td>F</td>\n",
       "      <td>компаньон</td>\n",
       "      <td>0</td>\n",
       "      <td>240525.971920</td>\n",
       "      <td>операции с жильем</td>\n",
       "    </tr>\n",
       "    <tr>\n",
       "      <th>7</th>\n",
       "      <td>0</td>\n",
       "      <td>-152.779569</td>\n",
       "      <td>50</td>\n",
       "      <td>СРЕДНЕЕ</td>\n",
       "      <td>1</td>\n",
       "      <td>женат / замужем</td>\n",
       "      <td>0</td>\n",
       "      <td>M</td>\n",
       "      <td>сотрудник</td>\n",
       "      <td>0</td>\n",
       "      <td>135823.934197</td>\n",
       "      <td>образование</td>\n",
       "    </tr>\n",
       "    <tr>\n",
       "      <th>8</th>\n",
       "      <td>2</td>\n",
       "      <td>-6929.865299</td>\n",
       "      <td>35</td>\n",
       "      <td>ВЫСШЕЕ</td>\n",
       "      <td>0</td>\n",
       "      <td>гражданский брак</td>\n",
       "      <td>1</td>\n",
       "      <td>F</td>\n",
       "      <td>сотрудник</td>\n",
       "      <td>0</td>\n",
       "      <td>95856.832424</td>\n",
       "      <td>на проведение свадьбы</td>\n",
       "    </tr>\n",
       "    <tr>\n",
       "      <th>9</th>\n",
       "      <td>0</td>\n",
       "      <td>-2188.756445</td>\n",
       "      <td>41</td>\n",
       "      <td>среднее</td>\n",
       "      <td>1</td>\n",
       "      <td>женат / замужем</td>\n",
       "      <td>0</td>\n",
       "      <td>M</td>\n",
       "      <td>сотрудник</td>\n",
       "      <td>0</td>\n",
       "      <td>144425.938277</td>\n",
       "      <td>покупка жилья для семьи</td>\n",
       "    </tr>\n",
       "    <tr>\n",
       "      <th>10</th>\n",
       "      <td>2</td>\n",
       "      <td>-4171.483647</td>\n",
       "      <td>36</td>\n",
       "      <td>высшее</td>\n",
       "      <td>0</td>\n",
       "      <td>женат / замужем</td>\n",
       "      <td>0</td>\n",
       "      <td>M</td>\n",
       "      <td>компаньон</td>\n",
       "      <td>0</td>\n",
       "      <td>113943.491460</td>\n",
       "      <td>покупка недвижимости</td>\n",
       "    </tr>\n",
       "    <tr>\n",
       "      <th>11</th>\n",
       "      <td>0</td>\n",
       "      <td>-792.701887</td>\n",
       "      <td>40</td>\n",
       "      <td>среднее</td>\n",
       "      <td>1</td>\n",
       "      <td>женат / замужем</td>\n",
       "      <td>0</td>\n",
       "      <td>F</td>\n",
       "      <td>сотрудник</td>\n",
       "      <td>0</td>\n",
       "      <td>77069.234271</td>\n",
       "      <td>покупка коммерческой недвижимости</td>\n",
       "    </tr>\n",
       "    <tr>\n",
       "      <th>12</th>\n",
       "      <td>0</td>\n",
       "      <td>NaN</td>\n",
       "      <td>65</td>\n",
       "      <td>среднее</td>\n",
       "      <td>1</td>\n",
       "      <td>гражданский брак</td>\n",
       "      <td>1</td>\n",
       "      <td>M</td>\n",
       "      <td>пенсионер</td>\n",
       "      <td>0</td>\n",
       "      <td>NaN</td>\n",
       "      <td>сыграть свадьбу</td>\n",
       "    </tr>\n",
       "    <tr>\n",
       "      <th>13</th>\n",
       "      <td>0</td>\n",
       "      <td>-1846.641941</td>\n",
       "      <td>54</td>\n",
       "      <td>неоконченное высшее</td>\n",
       "      <td>2</td>\n",
       "      <td>женат / замужем</td>\n",
       "      <td>0</td>\n",
       "      <td>F</td>\n",
       "      <td>сотрудник</td>\n",
       "      <td>0</td>\n",
       "      <td>130458.228857</td>\n",
       "      <td>приобретение автомобиля</td>\n",
       "    </tr>\n",
       "    <tr>\n",
       "      <th>14</th>\n",
       "      <td>0</td>\n",
       "      <td>-1844.956182</td>\n",
       "      <td>56</td>\n",
       "      <td>высшее</td>\n",
       "      <td>0</td>\n",
       "      <td>гражданский брак</td>\n",
       "      <td>1</td>\n",
       "      <td>F</td>\n",
       "      <td>компаньон</td>\n",
       "      <td>1</td>\n",
       "      <td>165127.911772</td>\n",
       "      <td>покупка жилой недвижимости</td>\n",
       "    </tr>\n",
       "    <tr>\n",
       "      <th>15</th>\n",
       "      <td>1</td>\n",
       "      <td>-972.364419</td>\n",
       "      <td>26</td>\n",
       "      <td>среднее</td>\n",
       "      <td>1</td>\n",
       "      <td>женат / замужем</td>\n",
       "      <td>0</td>\n",
       "      <td>F</td>\n",
       "      <td>сотрудник</td>\n",
       "      <td>0</td>\n",
       "      <td>116820.904450</td>\n",
       "      <td>строительство собственной недвижимости</td>\n",
       "    </tr>\n",
       "    <tr>\n",
       "      <th>16</th>\n",
       "      <td>0</td>\n",
       "      <td>-1719.934226</td>\n",
       "      <td>35</td>\n",
       "      <td>среднее</td>\n",
       "      <td>1</td>\n",
       "      <td>женат / замужем</td>\n",
       "      <td>0</td>\n",
       "      <td>F</td>\n",
       "      <td>сотрудник</td>\n",
       "      <td>0</td>\n",
       "      <td>289202.704229</td>\n",
       "      <td>недвижимость</td>\n",
       "    </tr>\n",
       "    <tr>\n",
       "      <th>17</th>\n",
       "      <td>0</td>\n",
       "      <td>-2369.999720</td>\n",
       "      <td>33</td>\n",
       "      <td>высшее</td>\n",
       "      <td>0</td>\n",
       "      <td>гражданский брак</td>\n",
       "      <td>1</td>\n",
       "      <td>M</td>\n",
       "      <td>сотрудник</td>\n",
       "      <td>0</td>\n",
       "      <td>90410.586745</td>\n",
       "      <td>строительство недвижимости</td>\n",
       "    </tr>\n",
       "    <tr>\n",
       "      <th>18</th>\n",
       "      <td>0</td>\n",
       "      <td>400281.136913</td>\n",
       "      <td>53</td>\n",
       "      <td>среднее</td>\n",
       "      <td>1</td>\n",
       "      <td>вдовец / вдова</td>\n",
       "      <td>2</td>\n",
       "      <td>F</td>\n",
       "      <td>пенсионер</td>\n",
       "      <td>0</td>\n",
       "      <td>56823.777243</td>\n",
       "      <td>на покупку подержанного автомобиля</td>\n",
       "    </tr>\n",
       "    <tr>\n",
       "      <th>19</th>\n",
       "      <td>0</td>\n",
       "      <td>-10038.818549</td>\n",
       "      <td>48</td>\n",
       "      <td>СРЕДНЕЕ</td>\n",
       "      <td>1</td>\n",
       "      <td>в разводе</td>\n",
       "      <td>3</td>\n",
       "      <td>F</td>\n",
       "      <td>сотрудник</td>\n",
       "      <td>0</td>\n",
       "      <td>242831.107982</td>\n",
       "      <td>на покупку своего автомобиля</td>\n",
       "    </tr>\n",
       "  </tbody>\n",
       "</table>\n",
       "</div>"
      ],
      "text/plain": [
       "    children  days_employed  dob_years            education  education_id  \\\n",
       "0          1   -8437.673028         42               высшее             0   \n",
       "1          1   -4024.803754         36              среднее             1   \n",
       "2          0   -5623.422610         33              Среднее             1   \n",
       "3          3   -4124.747207         32              среднее             1   \n",
       "4          0  340266.072047         53              среднее             1   \n",
       "5          0    -926.185831         27               высшее             0   \n",
       "6          0   -2879.202052         43               высшее             0   \n",
       "7          0    -152.779569         50              СРЕДНЕЕ             1   \n",
       "8          2   -6929.865299         35               ВЫСШЕЕ             0   \n",
       "9          0   -2188.756445         41              среднее             1   \n",
       "10         2   -4171.483647         36               высшее             0   \n",
       "11         0    -792.701887         40              среднее             1   \n",
       "12         0            NaN         65              среднее             1   \n",
       "13         0   -1846.641941         54  неоконченное высшее             2   \n",
       "14         0   -1844.956182         56               высшее             0   \n",
       "15         1    -972.364419         26              среднее             1   \n",
       "16         0   -1719.934226         35              среднее             1   \n",
       "17         0   -2369.999720         33               высшее             0   \n",
       "18         0  400281.136913         53              среднее             1   \n",
       "19         0  -10038.818549         48              СРЕДНЕЕ             1   \n",
       "\n",
       "       family_status  family_status_id gender income_type  debt  \\\n",
       "0    женат / замужем                 0      F   сотрудник     0   \n",
       "1    женат / замужем                 0      F   сотрудник     0   \n",
       "2    женат / замужем                 0      M   сотрудник     0   \n",
       "3    женат / замужем                 0      M   сотрудник     0   \n",
       "4   гражданский брак                 1      F   пенсионер     0   \n",
       "5   гражданский брак                 1      M   компаньон     0   \n",
       "6    женат / замужем                 0      F   компаньон     0   \n",
       "7    женат / замужем                 0      M   сотрудник     0   \n",
       "8   гражданский брак                 1      F   сотрудник     0   \n",
       "9    женат / замужем                 0      M   сотрудник     0   \n",
       "10   женат / замужем                 0      M   компаньон     0   \n",
       "11   женат / замужем                 0      F   сотрудник     0   \n",
       "12  гражданский брак                 1      M   пенсионер     0   \n",
       "13   женат / замужем                 0      F   сотрудник     0   \n",
       "14  гражданский брак                 1      F   компаньон     1   \n",
       "15   женат / замужем                 0      F   сотрудник     0   \n",
       "16   женат / замужем                 0      F   сотрудник     0   \n",
       "17  гражданский брак                 1      M   сотрудник     0   \n",
       "18    вдовец / вдова                 2      F   пенсионер     0   \n",
       "19         в разводе                 3      F   сотрудник     0   \n",
       "\n",
       "     total_income                                 purpose  \n",
       "0   253875.639453                           покупка жилья  \n",
       "1   112080.014102                 приобретение автомобиля  \n",
       "2   145885.952297                           покупка жилья  \n",
       "3   267628.550329              дополнительное образование  \n",
       "4   158616.077870                         сыграть свадьбу  \n",
       "5   255763.565419                           покупка жилья  \n",
       "6   240525.971920                       операции с жильем  \n",
       "7   135823.934197                             образование  \n",
       "8    95856.832424                   на проведение свадьбы  \n",
       "9   144425.938277                 покупка жилья для семьи  \n",
       "10  113943.491460                    покупка недвижимости  \n",
       "11   77069.234271       покупка коммерческой недвижимости  \n",
       "12            NaN                         сыграть свадьбу  \n",
       "13  130458.228857                 приобретение автомобиля  \n",
       "14  165127.911772              покупка жилой недвижимости  \n",
       "15  116820.904450  строительство собственной недвижимости  \n",
       "16  289202.704229                            недвижимость  \n",
       "17   90410.586745              строительство недвижимости  \n",
       "18   56823.777243      на покупку подержанного автомобиля  \n",
       "19  242831.107982            на покупку своего автомобиля  "
      ]
     },
     "execution_count": 11,
     "metadata": {},
     "output_type": "execute_result"
    }
   ],
   "source": [
    "data.head(20)"
   ]
  },
  {
   "cell_type": "markdown",
   "id": "b21504b4",
   "metadata": {
    "deletable": false,
    "editable": false,
    "id": "1c12e233"
   },
   "source": [
    "**Задание 3. Выведите основную информацию о датафрейме с помощью метода `info()`.**"
   ]
  },
  {
   "cell_type": "code",
   "execution_count": 12,
   "id": "1ff6c9dd",
   "metadata": {
    "deletable": false,
    "id": "2b757bca",
    "outputId": "15376089-8dad-46c9-b520-c05248d43158"
   },
   "outputs": [
    {
     "name": "stdout",
     "output_type": "stream",
     "text": [
      "<class 'pandas.core.frame.DataFrame'>\n",
      "RangeIndex: 21525 entries, 0 to 21524\n",
      "Data columns (total 12 columns):\n",
      " #   Column            Non-Null Count  Dtype  \n",
      "---  ------            --------------  -----  \n",
      " 0   children          21525 non-null  int64  \n",
      " 1   days_employed     19351 non-null  float64\n",
      " 2   dob_years         21525 non-null  int64  \n",
      " 3   education         21525 non-null  object \n",
      " 4   education_id      21525 non-null  int64  \n",
      " 5   family_status     21525 non-null  object \n",
      " 6   family_status_id  21525 non-null  int64  \n",
      " 7   gender            21525 non-null  object \n",
      " 8   income_type       21525 non-null  object \n",
      " 9   debt              21525 non-null  int64  \n",
      " 10  total_income      19351 non-null  float64\n",
      " 11  purpose           21525 non-null  object \n",
      "dtypes: float64(2), int64(5), object(5)\n",
      "memory usage: 2.0+ MB\n"
     ]
    }
   ],
   "source": [
    "data.info()"
   ]
  },
  {
   "cell_type": "markdown",
   "id": "90be3d5d",
   "metadata": {
    "deletable": false,
    "editable": false,
    "id": "333ec665"
   },
   "source": [
    "## Предобработка данных"
   ]
  },
  {
   "cell_type": "markdown",
   "id": "bebee9db",
   "metadata": {
    "deletable": false,
    "editable": false,
    "id": "02d92d53"
   },
   "source": [
    "### Удаление пропусков"
   ]
  },
  {
   "cell_type": "markdown",
   "id": "35b6dd6a",
   "metadata": {
    "deletable": false,
    "editable": false,
    "id": "cd84967c"
   },
   "source": [
    "**Задание 4. Выведите количество пропущенных значений для каждого столбца. Используйте комбинацию двух методов.**"
   ]
  },
  {
   "cell_type": "code",
   "execution_count": 13,
   "id": "fbf9947e",
   "metadata": {
    "deletable": false,
    "id": "7f9b2309",
    "outputId": "81f4d817-781c-465c-ed15-91ce4446810d"
   },
   "outputs": [
    {
     "data": {
      "text/plain": [
       "children               0\n",
       "days_employed       2174\n",
       "dob_years              0\n",
       "education              0\n",
       "education_id           0\n",
       "family_status          0\n",
       "family_status_id       0\n",
       "gender                 0\n",
       "income_type            0\n",
       "debt                   0\n",
       "total_income        2174\n",
       "purpose                0\n",
       "dtype: int64"
      ]
     },
     "execution_count": 13,
     "metadata": {},
     "output_type": "execute_result"
    }
   ],
   "source": [
    "data.isna().sum()"
   ]
  },
  {
   "cell_type": "markdown",
   "id": "d216888f",
   "metadata": {
    "deletable": false,
    "editable": false,
    "id": "db86e27b"
   },
   "source": [
    "**Задание 5. В двух столбцах есть пропущенные значения. Один из них — `days_employed`. Пропуски в этом столбце вы обработаете на следующем этапе. Другой столбец с пропущенными значениями — `total_income` — хранит данные о доходах. На сумму дохода сильнее всего влияет тип занятости, поэтому заполнить пропуски в этом столбце нужно медианным значением по каждому типу из столбца `income_type`. Например, у человека с типом занятости `сотрудник` пропуск в столбце `total_income` должен быть заполнен медианным доходом среди всех записей с тем же типом.**"
   ]
  },
  {
   "cell_type": "code",
   "execution_count": 14,
   "id": "3b90d408",
   "metadata": {
    "deletable": false,
    "id": "42006a93"
   },
   "outputs": [],
   "source": [
    "for t in data['income_type'].unique():\n",
    "    data.loc[(data['income_type'] == t) & (data['total_income'].isna()), 'total_income'] = \\\n",
    "    data.loc[(data['income_type'] == t), 'total_income'].median()"
   ]
  },
  {
   "cell_type": "markdown",
   "id": "5b3b6fb8",
   "metadata": {
    "deletable": false,
    "editable": false,
    "id": "89da5ece"
   },
   "source": [
    "### Обработка аномальных значений"
   ]
  },
  {
   "cell_type": "markdown",
   "id": "5cda64dc",
   "metadata": {
    "deletable": false,
    "editable": false,
    "id": "57964554"
   },
   "source": [
    "**Задание 6. В данных могут встречаться артефакты (аномалии) — значения, которые не отражают действительность и появились по какой-то ошибке. таким артефактом будет отрицательное количество дней трудового стажа в столбце `days_employed`. Для реальных данных это нормально. Обработайте значения в этом столбце: замените все отрицательные значения положительными с помощью метода `abs()`.**"
   ]
  },
  {
   "cell_type": "code",
   "execution_count": 15,
   "id": "238d559e",
   "metadata": {
    "deletable": false,
    "id": "f6f055bf"
   },
   "outputs": [],
   "source": [
    "data['days_employed'] = data['days_employed'].abs()"
   ]
  },
  {
   "cell_type": "markdown",
   "id": "de7b23f9",
   "metadata": {
    "deletable": false,
    "editable": false,
    "id": "6107dd2f"
   },
   "source": [
    "**Задание 7. Для каждого типа занятости выведите медианное значение трудового стажа `days_employed` в днях.**"
   ]
  },
  {
   "cell_type": "code",
   "execution_count": 16,
   "id": "06d3f730",
   "metadata": {
    "deletable": false,
    "id": "85a5faf6",
    "outputId": "801ef80e-522b-4668-f34e-565af7432bcf"
   },
   "outputs": [
    {
     "data": {
      "text/plain": [
       "income_type\n",
       "безработный        366413.652744\n",
       "в декрете            3296.759962\n",
       "госслужащий          2689.368353\n",
       "компаньон            1547.382223\n",
       "пенсионер          365213.306266\n",
       "предприниматель       520.848083\n",
       "сотрудник            1574.202821\n",
       "студент               578.751554\n",
       "Name: days_employed, dtype: float64"
      ]
     },
     "execution_count": 16,
     "metadata": {},
     "output_type": "execute_result"
    }
   ],
   "source": [
    "data.groupby('income_type')['days_employed'].agg('median')"
   ]
  },
  {
   "cell_type": "markdown",
   "id": "da9e9871",
   "metadata": {
    "deletable": false,
    "editable": false,
    "id": "38d1a030"
   },
   "source": [
    "У двух типов (безработные и пенсионеры) получатся аномально большие значения. Исправить такие значения сложно, поэтому оставьте их как есть. Тем более этот столбец не понадобится вам для исследования."
   ]
  },
  {
   "cell_type": "markdown",
   "id": "3a3248ee",
   "metadata": {
    "deletable": false,
    "editable": false,
    "id": "d8a9f147"
   },
   "source": [
    "**Задание 8. Выведите перечень уникальных значений столбца `children`.**"
   ]
  },
  {
   "cell_type": "code",
   "execution_count": 17,
   "id": "2fd3f113",
   "metadata": {
    "deletable": false,
    "id": "ef5056eb",
    "outputId": "6975b15c-7f95-4697-d16d-a0c79b657b03"
   },
   "outputs": [
    {
     "data": {
      "text/plain": [
       "array([ 1,  0,  3,  2, -1,  4, 20,  5])"
      ]
     },
     "execution_count": 17,
     "metadata": {},
     "output_type": "execute_result"
    }
   ],
   "source": [
    "data['children'].unique()"
   ]
  },
  {
   "cell_type": "markdown",
   "id": "b0a8afdb",
   "metadata": {
    "deletable": false,
    "editable": false,
    "id": "40b9ebf2"
   },
   "source": [
    "**Задание 9. В столбце `children` есть два аномальных значения. Удалите строки, в которых встречаются такие аномальные значения из датафрейма `data`.**"
   ]
  },
  {
   "cell_type": "code",
   "execution_count": 18,
   "id": "4b972b87",
   "metadata": {
    "deletable": false,
    "id": "3ff9801d"
   },
   "outputs": [],
   "source": [
    "data = data[(data['children'] != -1) & (data['children'] != 20)]"
   ]
  },
  {
   "cell_type": "markdown",
   "id": "38546563",
   "metadata": {
    "deletable": false,
    "editable": false,
    "id": "bbc4d0ce"
   },
   "source": [
    "**Задание 10. Ещё раз выведите перечень уникальных значений столбца `children`, чтобы убедиться, что артефакты удалены.**"
   ]
  },
  {
   "cell_type": "code",
   "execution_count": 19,
   "id": "af2ce9e6",
   "metadata": {
    "deletable": false,
    "id": "ad4fa8b7",
    "outputId": "b2097101-d49d-44d9-901b-32a65c9463d1"
   },
   "outputs": [
    {
     "data": {
      "text/plain": [
       "array([1, 0, 3, 2, 4, 5])"
      ]
     },
     "execution_count": 19,
     "metadata": {},
     "output_type": "execute_result"
    }
   ],
   "source": [
    "data['children'].unique()"
   ]
  },
  {
   "cell_type": "markdown",
   "id": "8c485f23",
   "metadata": {
    "deletable": false,
    "editable": false,
    "id": "75440b63"
   },
   "source": [
    "### Удаление пропусков (продолжение)"
   ]
  },
  {
   "cell_type": "markdown",
   "id": "5f4bcfd3",
   "metadata": {
    "deletable": false,
    "editable": false,
    "id": "f4ea573f"
   },
   "source": [
    "**Задание 11. Заполните пропуски в столбце `days_employed` медианными значениями по каждого типа занятости `income_type`.**"
   ]
  },
  {
   "cell_type": "code",
   "execution_count": 20,
   "id": "bf66d183",
   "metadata": {
    "deletable": false,
    "id": "af6b1a7e"
   },
   "outputs": [],
   "source": [
    "for t in data['income_type'].unique():\n",
    "    data.loc[(data['income_type'] == t) & (data['days_employed'].isna()), 'days_employed'] = \\\n",
    "    data.loc[(data['income_type'] == t), 'days_employed'].median()"
   ]
  },
  {
   "cell_type": "markdown",
   "id": "7b45aeb8",
   "metadata": {
    "deletable": false,
    "editable": false,
    "id": "2753f40d"
   },
   "source": [
    "**Задание 12. Убедитесь, что все пропуски заполнены. Проверьте себя и ещё раз выведите количество пропущенных значений для каждого столбца с помощью двух методов.**"
   ]
  },
  {
   "cell_type": "code",
   "execution_count": 21,
   "id": "a0628b54",
   "metadata": {
    "deletable": false,
    "id": "55f78bc2",
    "outputId": "8da1e4e1-358e-4e87-98c9-f261bce0a7b2"
   },
   "outputs": [
    {
     "data": {
      "text/plain": [
       "children            0\n",
       "days_employed       0\n",
       "dob_years           0\n",
       "education           0\n",
       "education_id        0\n",
       "family_status       0\n",
       "family_status_id    0\n",
       "gender              0\n",
       "income_type         0\n",
       "debt                0\n",
       "total_income        0\n",
       "purpose             0\n",
       "dtype: int64"
      ]
     },
     "execution_count": 21,
     "metadata": {},
     "output_type": "execute_result"
    }
   ],
   "source": [
    "data.isna().sum()"
   ]
  },
  {
   "cell_type": "markdown",
   "id": "2496091d",
   "metadata": {
    "deletable": false,
    "editable": false,
    "id": "ddc81e43"
   },
   "source": [
    "### Изменение типов данных"
   ]
  },
  {
   "cell_type": "markdown",
   "id": "c2e8c88b",
   "metadata": {
    "deletable": false,
    "editable": false,
    "id": "42d19d24"
   },
   "source": [
    "**Задание 13. Замените вещественный тип данных в столбце `total_income` на целочисленный с помощью метода `astype()`.**"
   ]
  },
  {
   "cell_type": "code",
   "execution_count": 22,
   "id": "a42af94b",
   "metadata": {
    "deletable": false,
    "id": "920b65ad"
   },
   "outputs": [],
   "source": [
    "data['total_income'] = data['total_income'].astype(int)"
   ]
  },
  {
   "cell_type": "markdown",
   "id": "c75b09e8",
   "metadata": {
    "deletable": false,
    "editable": false,
    "id": "80c420ba"
   },
   "source": [
    "### Обработка дубликатов"
   ]
  },
  {
   "cell_type": "markdown",
   "id": "6ad44fa7",
   "metadata": {
    "deletable": false,
    "editable": false
   },
   "source": [
    "**Задание 14. Обработайте неявные дубликаты в столбце `education`. В этом столбце есть одни и те же значения, но записанные по-разному: с использованием заглавных и строчных букв. Приведите их к нижнему регистру. Проверьте остальные столбцы.**"
   ]
  },
  {
   "cell_type": "code",
   "execution_count": 23,
   "id": "f0e67d97",
   "metadata": {
    "deletable": false
   },
   "outputs": [],
   "source": [
    "data['education'] = data['education'].str.lower()"
   ]
  },
  {
   "cell_type": "markdown",
   "id": "e8b4ee00",
   "metadata": {
    "deletable": false,
    "editable": false,
    "id": "dc587695"
   },
   "source": [
    "**Задание 15. Выведите на экран количество строк-дубликатов в данных. Если такие строки присутствуют, удалите их.**"
   ]
  },
  {
   "cell_type": "code",
   "execution_count": 24,
   "id": "ddc1b83a",
   "metadata": {
    "deletable": false,
    "id": "3ee445e4",
    "outputId": "9684deba-1934-42d1-99e1-cda61740f822"
   },
   "outputs": [
    {
     "data": {
      "text/plain": [
       "71"
      ]
     },
     "execution_count": 24,
     "metadata": {},
     "output_type": "execute_result"
    }
   ],
   "source": [
    "data.duplicated().sum()"
   ]
  },
  {
   "cell_type": "code",
   "execution_count": 25,
   "id": "d0e21f1b",
   "metadata": {
    "deletable": false,
    "id": "8575fe05"
   },
   "outputs": [],
   "source": [
    "data = data.drop_duplicates()"
   ]
  },
  {
   "cell_type": "markdown",
   "id": "73394fa5",
   "metadata": {
    "deletable": false,
    "editable": false,
    "id": "9904cf55"
   },
   "source": [
    "### Категоризация данных"
   ]
  },
  {
   "cell_type": "markdown",
   "id": "b9146dd4",
   "metadata": {
    "deletable": false,
    "editable": false,
    "id": "72fcc8a2"
   },
   "source": [
    "**Задание 16. На основании диапазонов, указанных ниже, создайте в датафрейме `data` столбец `total_income_category` с категориями:**\n",
    "\n",
    "- 0–30000 — `'E'`;\n",
    "- 30001–50000 — `'D'`;\n",
    "- 50001–200000 — `'C'`;\n",
    "- 200001–1000000 — `'B'`;\n",
    "- 1000001 и выше — `'A'`.\n",
    "\n",
    "\n",
    "**Например, кредитополучателю с доходом 25000 нужно назначить категорию `'E'`, а клиенту, получающему 235000, — `'B'`. Используйте собственную функцию с именем `categorize_income()` и метод `apply()`.**"
   ]
  },
  {
   "cell_type": "code",
   "execution_count": 26,
   "id": "bb937ebb",
   "metadata": {
    "deletable": false,
    "id": "e1771346"
   },
   "outputs": [],
   "source": [
    "def categorize_income(income):\n",
    "    try:\n",
    "        if 0 <= income <= 30000:\n",
    "            return 'E'\n",
    "        elif 30001 <= income <= 50000:\n",
    "            return 'D'\n",
    "        elif 50001 <= income <= 200000:\n",
    "            return 'C'\n",
    "        elif 200001 <= income <= 1000000:\n",
    "            return 'B'\n",
    "        elif income >= 1000001:\n",
    "            return 'A'\n",
    "    except:\n",
    "        pass"
   ]
  },
  {
   "cell_type": "code",
   "execution_count": 27,
   "id": "5513459a",
   "metadata": {
    "deletable": false,
    "id": "d5f3586d"
   },
   "outputs": [],
   "source": [
    "data['total_income_category'] = data['total_income'].apply(categorize_income)"
   ]
  },
  {
   "cell_type": "markdown",
   "id": "c961cb03",
   "metadata": {
    "deletable": false,
    "editable": false,
    "id": "dde49b5c"
   },
   "source": [
    "**Задание 17. Выведите на экран перечень уникальных целей взятия кредита из столбца `purpose`.**"
   ]
  },
  {
   "cell_type": "code",
   "execution_count": 28,
   "id": "9da4f0ed",
   "metadata": {
    "deletable": false,
    "id": "f67ce9b3",
    "outputId": "673c12d9-7d7e-4ae0-9812-c622c89dd244"
   },
   "outputs": [
    {
     "data": {
      "text/plain": [
       "array(['покупка жилья', 'приобретение автомобиля',\n",
       "       'дополнительное образование', 'сыграть свадьбу',\n",
       "       'операции с жильем', 'образование', 'на проведение свадьбы',\n",
       "       'покупка жилья для семьи', 'покупка недвижимости',\n",
       "       'покупка коммерческой недвижимости', 'покупка жилой недвижимости',\n",
       "       'строительство собственной недвижимости', 'недвижимость',\n",
       "       'строительство недвижимости', 'на покупку подержанного автомобиля',\n",
       "       'на покупку своего автомобиля',\n",
       "       'операции с коммерческой недвижимостью',\n",
       "       'строительство жилой недвижимости', 'жилье',\n",
       "       'операции со своей недвижимостью', 'автомобили',\n",
       "       'заняться образованием', 'сделка с подержанным автомобилем',\n",
       "       'получение образования', 'автомобиль', 'свадьба',\n",
       "       'получение дополнительного образования', 'покупка своего жилья',\n",
       "       'операции с недвижимостью', 'получение высшего образования',\n",
       "       'свой автомобиль', 'сделка с автомобилем',\n",
       "       'профильное образование', 'высшее образование',\n",
       "       'покупка жилья для сдачи', 'на покупку автомобиля', 'ремонт жилью',\n",
       "       'заняться высшим образованием'], dtype=object)"
      ]
     },
     "execution_count": 28,
     "metadata": {},
     "output_type": "execute_result"
    }
   ],
   "source": [
    "data['purpose'].unique()"
   ]
  },
  {
   "cell_type": "markdown",
   "id": "04fd6054",
   "metadata": {
    "deletable": false,
    "editable": false,
    "id": "85d0aef0"
   },
   "source": [
    "**Задание 18. Создайте функцию, которая на основании данных из столбца `purpose` сформирует новый столбец `purpose_category`, в который войдут следующие категории:**\n",
    "\n",
    "- `'операции с автомобилем'`,\n",
    "- `'операции с недвижимостью'`,\n",
    "- `'проведение свадьбы'`,\n",
    "- `'получение образования'`.\n",
    "\n",
    "**Например, если в столбце `purpose` находится подстрока `'на покупку автомобиля'`, то в столбце `purpose_category` должна появиться строка `'операции с автомобилем'`.**\n",
    "\n",
    "**Используйте собственную функцию с именем `categorize_purpose()` и метод `apply()`. Изучите данные в столбце `purpose` и определите, какие подстроки помогут вам правильно определить категорию.**"
   ]
  },
  {
   "cell_type": "code",
   "execution_count": 29,
   "id": "a60ba436",
   "metadata": {
    "deletable": false,
    "id": "e149fab4"
   },
   "outputs": [],
   "source": [
    "def categorize_purpose(row):\n",
    "    try:\n",
    "        if 'автом' in row:\n",
    "            return 'операции с автомобилем'\n",
    "        elif 'жил' in row or 'недвиж' in row:\n",
    "            return 'операции с недвижимостью'\n",
    "        elif 'свад' in row:\n",
    "            return 'проведение свадьбы'\n",
    "        elif 'образов' in row:\n",
    "            return 'получение образования'\n",
    "    except:\n",
    "        return 'нет категории'"
   ]
  },
  {
   "cell_type": "code",
   "execution_count": 30,
   "id": "039f4a38",
   "metadata": {
    "deletable": false,
    "id": "bf36e69b"
   },
   "outputs": [],
   "source": [
    "data['purpose_category'] = data['purpose'].apply(categorize_purpose)"
   ]
  },
  {
   "cell_type": "markdown",
   "id": "ddccab24",
   "metadata": {
    "deletable": false,
    "editable": false,
    "id": "09b242bf"
   },
   "source": [
    "### Шаг 3. Исследуйте данные и ответьте на вопросы"
   ]
  },
  {
   "cell_type": "markdown",
   "id": "b7be6b17",
   "metadata": {
    "deletable": false,
    "editable": false,
    "id": "c5d66278"
   },
   "source": [
    "#### 3.1 Есть ли зависимость между количеством детей и возвратом кредита в срок?"
   ]
  },
  {
   "cell_type": "code",
   "execution_count": 52,
   "id": "a94ae6fd",
   "metadata": {
    "deletable": false,
    "id": "2cacfc4a"
   },
   "outputs": [
    {
     "data": {
      "text/plain": [
       "children\n",
       "0    0.075438\n",
       "1    0.092346\n",
       "2    0.094542\n",
       "3    0.081818\n",
       "4    0.097561\n",
       "5    0.000000\n",
       "Name: debt, dtype: float64"
      ]
     },
     "execution_count": 52,
     "metadata": {},
     "output_type": "execute_result"
    }
   ],
   "source": [
    "# Ваш код будет здесь. Вы можете создавать новые ячейки.\n",
    "#data['children'].value_counts() # сколько заемщиков сколько имеют детей\n",
    "#data['debt'].value_counts() # сколько заемщиков имеют просроченные и не просроченные кредиты\n",
    "#data.groupby('children')['debt'].sum() # сколько заемщиков имеют просрочки по кредитам (по количеству детей)\n",
    "\n",
    "# количество детей по группам и количество просрочек в каждой группе:\n",
    "children_grouped = data.groupby('children').agg({'debt':['count', 'sum']})\n",
    "\n",
    "def category_count(category, debt):\n",
    "    total = category / debt\n",
    "    return total\n",
    "\n",
    "children_count = data.groupby('children')['debt'].sum()\n",
    "children_debt = data.groupby('children')['debt'].count()\n",
    "\n",
    "result_children = category_count(children_count, children_debt)\n",
    "result_children"
   ]
  },
  {
   "cell_type": "code",
   "execution_count": 90,
   "id": "e1621e1f",
   "metadata": {},
   "outputs": [
    {
     "data": {
      "text/html": [
       "<div>\n",
       "<style scoped>\n",
       "    .dataframe tbody tr th:only-of-type {\n",
       "        vertical-align: middle;\n",
       "    }\n",
       "\n",
       "    .dataframe tbody tr th {\n",
       "        vertical-align: top;\n",
       "    }\n",
       "\n",
       "    .dataframe thead th {\n",
       "        text-align: right;\n",
       "    }\n",
       "</style>\n",
       "<table border=\"1\" class=\"dataframe\">\n",
       "  <thead>\n",
       "    <tr style=\"text-align: right;\">\n",
       "      <th></th>\n",
       "      <th>&lt;lambda_0&gt;</th>\n",
       "      <th>&lt;lambda_1&gt;</th>\n",
       "      <th>mean</th>\n",
       "    </tr>\n",
       "    <tr>\n",
       "      <th>children</th>\n",
       "      <th></th>\n",
       "      <th></th>\n",
       "      <th></th>\n",
       "    </tr>\n",
       "  </thead>\n",
       "  <tbody>\n",
       "    <tr>\n",
       "      <th>0</th>\n",
       "      <td>14091.0</td>\n",
       "      <td>1063.0</td>\n",
       "      <td>0.075438</td>\n",
       "    </tr>\n",
       "    <tr>\n",
       "      <th>1</th>\n",
       "      <td>4808.0</td>\n",
       "      <td>444.0</td>\n",
       "      <td>0.092346</td>\n",
       "    </tr>\n",
       "    <tr>\n",
       "      <th>2</th>\n",
       "      <td>2052.0</td>\n",
       "      <td>194.0</td>\n",
       "      <td>0.094542</td>\n",
       "    </tr>\n",
       "    <tr>\n",
       "      <th>3</th>\n",
       "      <td>330.0</td>\n",
       "      <td>27.0</td>\n",
       "      <td>0.081818</td>\n",
       "    </tr>\n",
       "    <tr>\n",
       "      <th>4</th>\n",
       "      <td>41.0</td>\n",
       "      <td>4.0</td>\n",
       "      <td>0.097561</td>\n",
       "    </tr>\n",
       "    <tr>\n",
       "      <th>5</th>\n",
       "      <td>9.0</td>\n",
       "      <td>0.0</td>\n",
       "      <td>0.000000</td>\n",
       "    </tr>\n",
       "  </tbody>\n",
       "</table>\n",
       "</div>"
      ],
      "text/plain": [
       "          <lambda_0>  <lambda_1>      mean\n",
       "children                                  \n",
       "0            14091.0      1063.0  0.075438\n",
       "1             4808.0       444.0  0.092346\n",
       "2             2052.0       194.0  0.094542\n",
       "3              330.0        27.0  0.081818\n",
       "4               41.0         4.0  0.097561\n",
       "5                9.0         0.0  0.000000"
      ]
     },
     "execution_count": 90,
     "metadata": {},
     "output_type": "execute_result"
    }
   ],
   "source": [
    "data_pivot = data.pivot_table(index='children', values='debt', aggfunc=('mean', lambda debt: debt.count(), lambda debt: debt.sum()))\n",
    "data_pivot"
   ]
  },
  {
   "cell_type": "code",
   "execution_count": 55,
   "id": "7960055c",
   "metadata": {},
   "outputs": [
    {
     "data": {
      "text/html": [
       "<div>\n",
       "<style scoped>\n",
       "    .dataframe tbody tr th:only-of-type {\n",
       "        vertical-align: middle;\n",
       "    }\n",
       "\n",
       "    .dataframe tbody tr th {\n",
       "        vertical-align: top;\n",
       "    }\n",
       "\n",
       "    .dataframe thead tr th {\n",
       "        text-align: left;\n",
       "    }\n",
       "\n",
       "    .dataframe thead tr:last-of-type th {\n",
       "        text-align: right;\n",
       "    }\n",
       "</style>\n",
       "<table border=\"1\" class=\"dataframe\">\n",
       "  <thead>\n",
       "    <tr>\n",
       "      <th></th>\n",
       "      <th colspan=\"2\" halign=\"left\">debt</th>\n",
       "      <th>debt_share</th>\n",
       "    </tr>\n",
       "    <tr>\n",
       "      <th></th>\n",
       "      <th>count</th>\n",
       "      <th>sum</th>\n",
       "      <th></th>\n",
       "    </tr>\n",
       "    <tr>\n",
       "      <th>children</th>\n",
       "      <th></th>\n",
       "      <th></th>\n",
       "      <th></th>\n",
       "    </tr>\n",
       "  </thead>\n",
       "  <tbody>\n",
       "    <tr>\n",
       "      <th>0</th>\n",
       "      <td>14091</td>\n",
       "      <td>1063</td>\n",
       "      <td>0.075438</td>\n",
       "    </tr>\n",
       "    <tr>\n",
       "      <th>1</th>\n",
       "      <td>4808</td>\n",
       "      <td>444</td>\n",
       "      <td>0.092346</td>\n",
       "    </tr>\n",
       "    <tr>\n",
       "      <th>2</th>\n",
       "      <td>2052</td>\n",
       "      <td>194</td>\n",
       "      <td>0.094542</td>\n",
       "    </tr>\n",
       "    <tr>\n",
       "      <th>3</th>\n",
       "      <td>330</td>\n",
       "      <td>27</td>\n",
       "      <td>0.081818</td>\n",
       "    </tr>\n",
       "    <tr>\n",
       "      <th>4</th>\n",
       "      <td>41</td>\n",
       "      <td>4</td>\n",
       "      <td>0.097561</td>\n",
       "    </tr>\n",
       "    <tr>\n",
       "      <th>5</th>\n",
       "      <td>9</td>\n",
       "      <td>0</td>\n",
       "      <td>0.000000</td>\n",
       "    </tr>\n",
       "  </tbody>\n",
       "</table>\n",
       "</div>"
      ],
      "text/plain": [
       "           debt       debt_share\n",
       "          count   sum           \n",
       "children                        \n",
       "0         14091  1063   0.075438\n",
       "1          4808   444   0.092346\n",
       "2          2052   194   0.094542\n",
       "3           330    27   0.081818\n",
       "4            41     4   0.097561\n",
       "5             9     0   0.000000"
      ]
     },
     "execution_count": 55,
     "metadata": {},
     "output_type": "execute_result"
    }
   ],
   "source": [
    "children_grouped['debt_share'] = result_children\n",
    "children_grouped"
   ]
  },
  {
   "cell_type": "markdown",
   "id": "6846fdb5",
   "metadata": {
    "deletable": false,
    "id": "3a6b99ec"
   },
   "source": [
    "**Вывод:** \n",
    "Большая часть заемщиков не имеет детей. В целом доля просроченных кредитов невелика: 1732 против 19599.\n",
    "Из полученных данных следует, что наибольшая доля просрочки по кредитам приходится на группы людей имеющих от 1 до 4 детей. Причем, чем больше количество детей, тем выше доля, с исключением - 3 ребенка. Самые ответственные - бездетные заемщики. В категории 5 детей совсем нет просрочки, но в нее входят всего 9 человек."
   ]
  },
  {
   "cell_type": "markdown",
   "id": "89392fb8",
   "metadata": {
    "deletable": false,
    "editable": false,
    "id": "97be82ca"
   },
   "source": [
    "#### 3.2 Есть ли зависимость между семейным положением и возвратом кредита в срок?"
   ]
  },
  {
   "cell_type": "code",
   "execution_count": 57,
   "id": "00f7b587",
   "metadata": {
    "deletable": false,
    "id": "dc3f7ee8"
   },
   "outputs": [
    {
     "data": {
      "text/plain": [
       "family_status\n",
       "Не женат / не замужем    0.097639\n",
       "в разводе                0.070648\n",
       "вдовец / вдова           0.066246\n",
       "гражданский брак         0.093130\n",
       "женат / замужем          0.075606\n",
       "Name: debt, dtype: float64"
      ]
     },
     "execution_count": 57,
     "metadata": {},
     "output_type": "execute_result"
    }
   ],
   "source": [
    "# Ваш код будет здесь. Вы можете создавать новые ячейки.\n",
    "#data['family_status'].value_counts() # количество заемщиков по семейному положению\n",
    "#data.groupby('family_status')['debt'].sum() # сколько заемщиков имеют просрочки по кредитам (по семейному положению)\n",
    "\n",
    "# семейное положение по группам и количество просрочек в каждой группе:\n",
    "family_grouped = data.groupby('family_status').agg({'debt':['count', 'sum']})\n",
    "\n",
    "family_count = data.groupby('family_status')['debt'].sum()\n",
    "family_debt = data.groupby('family_status')['debt'].count()\n",
    "\n",
    "result_family = category_count(family_count, family_debt)\n",
    "result_family"
   ]
  },
  {
   "cell_type": "code",
   "execution_count": 93,
   "id": "857a0f66",
   "metadata": {},
   "outputs": [
    {
     "data": {
      "text/html": [
       "<div>\n",
       "<style scoped>\n",
       "    .dataframe tbody tr th:only-of-type {\n",
       "        vertical-align: middle;\n",
       "    }\n",
       "\n",
       "    .dataframe tbody tr th {\n",
       "        vertical-align: top;\n",
       "    }\n",
       "\n",
       "    .dataframe thead th {\n",
       "        text-align: right;\n",
       "    }\n",
       "</style>\n",
       "<table border=\"1\" class=\"dataframe\">\n",
       "  <thead>\n",
       "    <tr style=\"text-align: right;\">\n",
       "      <th></th>\n",
       "      <th>&lt;lambda_0&gt;</th>\n",
       "      <th>&lt;lambda_1&gt;</th>\n",
       "      <th>mean</th>\n",
       "    </tr>\n",
       "    <tr>\n",
       "      <th>family_status</th>\n",
       "      <th></th>\n",
       "      <th></th>\n",
       "      <th></th>\n",
       "    </tr>\n",
       "  </thead>\n",
       "  <tbody>\n",
       "    <tr>\n",
       "      <th>Не женат / не замужем</th>\n",
       "      <td>2796.0</td>\n",
       "      <td>273.0</td>\n",
       "      <td>0.097639</td>\n",
       "    </tr>\n",
       "    <tr>\n",
       "      <th>в разводе</th>\n",
       "      <td>1189.0</td>\n",
       "      <td>84.0</td>\n",
       "      <td>0.070648</td>\n",
       "    </tr>\n",
       "    <tr>\n",
       "      <th>вдовец / вдова</th>\n",
       "      <td>951.0</td>\n",
       "      <td>63.0</td>\n",
       "      <td>0.066246</td>\n",
       "    </tr>\n",
       "    <tr>\n",
       "      <th>гражданский брак</th>\n",
       "      <td>4134.0</td>\n",
       "      <td>385.0</td>\n",
       "      <td>0.093130</td>\n",
       "    </tr>\n",
       "    <tr>\n",
       "      <th>женат / замужем</th>\n",
       "      <td>12261.0</td>\n",
       "      <td>927.0</td>\n",
       "      <td>0.075606</td>\n",
       "    </tr>\n",
       "  </tbody>\n",
       "</table>\n",
       "</div>"
      ],
      "text/plain": [
       "                       <lambda_0>  <lambda_1>      mean\n",
       "family_status                                          \n",
       "Не женат / не замужем      2796.0       273.0  0.097639\n",
       "в разводе                  1189.0        84.0  0.070648\n",
       "вдовец / вдова              951.0        63.0  0.066246\n",
       "гражданский брак           4134.0       385.0  0.093130\n",
       "женат / замужем           12261.0       927.0  0.075606"
      ]
     },
     "execution_count": 93,
     "metadata": {},
     "output_type": "execute_result"
    }
   ],
   "source": [
    "data_pivot = data.pivot_table(index='family_status', values='debt', aggfunc=('mean', lambda debt: debt.count(), lambda debt: debt.sum()))\n",
    "data_pivot"
   ]
  },
  {
   "cell_type": "code",
   "execution_count": 59,
   "id": "e6c32a68",
   "metadata": {},
   "outputs": [
    {
     "data": {
      "text/html": [
       "<div>\n",
       "<style scoped>\n",
       "    .dataframe tbody tr th:only-of-type {\n",
       "        vertical-align: middle;\n",
       "    }\n",
       "\n",
       "    .dataframe tbody tr th {\n",
       "        vertical-align: top;\n",
       "    }\n",
       "\n",
       "    .dataframe thead tr th {\n",
       "        text-align: left;\n",
       "    }\n",
       "\n",
       "    .dataframe thead tr:last-of-type th {\n",
       "        text-align: right;\n",
       "    }\n",
       "</style>\n",
       "<table border=\"1\" class=\"dataframe\">\n",
       "  <thead>\n",
       "    <tr>\n",
       "      <th></th>\n",
       "      <th colspan=\"2\" halign=\"left\">debt</th>\n",
       "      <th>debt_share</th>\n",
       "    </tr>\n",
       "    <tr>\n",
       "      <th></th>\n",
       "      <th>count</th>\n",
       "      <th>sum</th>\n",
       "      <th></th>\n",
       "    </tr>\n",
       "    <tr>\n",
       "      <th>family_status</th>\n",
       "      <th></th>\n",
       "      <th></th>\n",
       "      <th></th>\n",
       "    </tr>\n",
       "  </thead>\n",
       "  <tbody>\n",
       "    <tr>\n",
       "      <th>Не женат / не замужем</th>\n",
       "      <td>2796</td>\n",
       "      <td>273</td>\n",
       "      <td>0.097639</td>\n",
       "    </tr>\n",
       "    <tr>\n",
       "      <th>в разводе</th>\n",
       "      <td>1189</td>\n",
       "      <td>84</td>\n",
       "      <td>0.070648</td>\n",
       "    </tr>\n",
       "    <tr>\n",
       "      <th>вдовец / вдова</th>\n",
       "      <td>951</td>\n",
       "      <td>63</td>\n",
       "      <td>0.066246</td>\n",
       "    </tr>\n",
       "    <tr>\n",
       "      <th>гражданский брак</th>\n",
       "      <td>4134</td>\n",
       "      <td>385</td>\n",
       "      <td>0.093130</td>\n",
       "    </tr>\n",
       "    <tr>\n",
       "      <th>женат / замужем</th>\n",
       "      <td>12261</td>\n",
       "      <td>927</td>\n",
       "      <td>0.075606</td>\n",
       "    </tr>\n",
       "  </tbody>\n",
       "</table>\n",
       "</div>"
      ],
      "text/plain": [
       "                        debt      debt_share\n",
       "                       count  sum           \n",
       "family_status                               \n",
       "Не женат / не замужем   2796  273   0.097639\n",
       "в разводе               1189   84   0.070648\n",
       "вдовец / вдова           951   63   0.066246\n",
       "гражданский брак        4134  385   0.093130\n",
       "женат / замужем        12261  927   0.075606"
      ]
     },
     "execution_count": 59,
     "metadata": {},
     "output_type": "execute_result"
    }
   ],
   "source": [
    "family_grouped['debt_share'] = result_family\n",
    "family_grouped"
   ]
  },
  {
   "cell_type": "markdown",
   "id": "79c4b46b",
   "metadata": {
    "deletable": false,
    "id": "1cef7837"
   },
   "source": [
    "**Вывод:** \n",
    "Большая часть заемщиков женаты/замужем или в гражданском браке. На них же приходится основное количество просроченных кредитов, в силу большого размера самой категории.\n",
    "Тем не менее, наибольшая доля просроченных кредитов приходится на неженатых/незамужних заемщиков. Так же выделяется категория \"гражданский брак\".\n",
    "Из полученных данных видно, что люди, которые официально оформили свои отношения (даже если эти отношения по каким-то причинам прекратили свое существование) более ответственно подходят к вопросу выплаты долгов."
   ]
  },
  {
   "cell_type": "markdown",
   "id": "198f1d61",
   "metadata": {
    "deletable": false,
    "editable": false,
    "id": "1e8b2fca"
   },
   "source": [
    "#### 3.3 Есть ли зависимость между уровнем дохода и возвратом кредита в срок?"
   ]
  },
  {
   "cell_type": "code",
   "execution_count": 62,
   "id": "619e311c",
   "metadata": {
    "deletable": false,
    "id": "cd7e3720"
   },
   "outputs": [
    {
     "data": {
      "text/plain": [
       "total_income_category\n",
       "A    0.080000\n",
       "B    0.070602\n",
       "C    0.084982\n",
       "D    0.060172\n",
       "E    0.090909\n",
       "Name: debt, dtype: float64"
      ]
     },
     "execution_count": 62,
     "metadata": {},
     "output_type": "execute_result"
    }
   ],
   "source": [
    "# Ваш код будет здесь. Вы можете создавать новые ячейки.\n",
    "#data['total_income_category'].value_counts() # количество заемщиков по уровню дохода\n",
    "#data.groupby('total_income_category')['debt'].sum() # сколько заемщиков имеют просрочки по кредитам (по уровню дохода)\n",
    "\n",
    "# уровень дохода по группам и количество просрочек в каждой группе:\n",
    "income_grouped = data.groupby('total_income_category').agg({'debt':['count', 'sum']})\n",
    "\n",
    "income_count = data.groupby('total_income_category')['debt'].sum()\n",
    "income_debt = data.groupby('total_income_category')['debt'].count()\n",
    "\n",
    "result_income = category_count(income_count, income_debt)\n",
    "result_income"
   ]
  },
  {
   "cell_type": "code",
   "execution_count": 94,
   "id": "c8041517",
   "metadata": {},
   "outputs": [
    {
     "data": {
      "text/html": [
       "<div>\n",
       "<style scoped>\n",
       "    .dataframe tbody tr th:only-of-type {\n",
       "        vertical-align: middle;\n",
       "    }\n",
       "\n",
       "    .dataframe tbody tr th {\n",
       "        vertical-align: top;\n",
       "    }\n",
       "\n",
       "    .dataframe thead th {\n",
       "        text-align: right;\n",
       "    }\n",
       "</style>\n",
       "<table border=\"1\" class=\"dataframe\">\n",
       "  <thead>\n",
       "    <tr style=\"text-align: right;\">\n",
       "      <th></th>\n",
       "      <th>&lt;lambda_0&gt;</th>\n",
       "      <th>&lt;lambda_1&gt;</th>\n",
       "      <th>mean</th>\n",
       "    </tr>\n",
       "    <tr>\n",
       "      <th>total_income_category</th>\n",
       "      <th></th>\n",
       "      <th></th>\n",
       "      <th></th>\n",
       "    </tr>\n",
       "  </thead>\n",
       "  <tbody>\n",
       "    <tr>\n",
       "      <th>A</th>\n",
       "      <td>25.0</td>\n",
       "      <td>2.0</td>\n",
       "      <td>0.080000</td>\n",
       "    </tr>\n",
       "    <tr>\n",
       "      <th>B</th>\n",
       "      <td>5014.0</td>\n",
       "      <td>354.0</td>\n",
       "      <td>0.070602</td>\n",
       "    </tr>\n",
       "    <tr>\n",
       "      <th>C</th>\n",
       "      <td>15921.0</td>\n",
       "      <td>1353.0</td>\n",
       "      <td>0.084982</td>\n",
       "    </tr>\n",
       "    <tr>\n",
       "      <th>D</th>\n",
       "      <td>349.0</td>\n",
       "      <td>21.0</td>\n",
       "      <td>0.060172</td>\n",
       "    </tr>\n",
       "    <tr>\n",
       "      <th>E</th>\n",
       "      <td>22.0</td>\n",
       "      <td>2.0</td>\n",
       "      <td>0.090909</td>\n",
       "    </tr>\n",
       "  </tbody>\n",
       "</table>\n",
       "</div>"
      ],
      "text/plain": [
       "                       <lambda_0>  <lambda_1>      mean\n",
       "total_income_category                                  \n",
       "A                            25.0         2.0  0.080000\n",
       "B                          5014.0       354.0  0.070602\n",
       "C                         15921.0      1353.0  0.084982\n",
       "D                           349.0        21.0  0.060172\n",
       "E                            22.0         2.0  0.090909"
      ]
     },
     "execution_count": 94,
     "metadata": {},
     "output_type": "execute_result"
    }
   ],
   "source": [
    "data_pivot = data.pivot_table(index='total_income_category', values='debt', aggfunc=('mean', lambda debt: debt.count(), lambda debt: debt.sum()))\n",
    "data_pivot"
   ]
  },
  {
   "cell_type": "code",
   "execution_count": 95,
   "id": "1163b233",
   "metadata": {},
   "outputs": [
    {
     "data": {
      "text/html": [
       "<div>\n",
       "<style scoped>\n",
       "    .dataframe tbody tr th:only-of-type {\n",
       "        vertical-align: middle;\n",
       "    }\n",
       "\n",
       "    .dataframe tbody tr th {\n",
       "        vertical-align: top;\n",
       "    }\n",
       "\n",
       "    .dataframe thead tr th {\n",
       "        text-align: left;\n",
       "    }\n",
       "\n",
       "    .dataframe thead tr:last-of-type th {\n",
       "        text-align: right;\n",
       "    }\n",
       "</style>\n",
       "<table border=\"1\" class=\"dataframe\">\n",
       "  <thead>\n",
       "    <tr>\n",
       "      <th></th>\n",
       "      <th colspan=\"2\" halign=\"left\">debt</th>\n",
       "      <th>debt_share</th>\n",
       "    </tr>\n",
       "    <tr>\n",
       "      <th></th>\n",
       "      <th>count</th>\n",
       "      <th>sum</th>\n",
       "      <th></th>\n",
       "    </tr>\n",
       "    <tr>\n",
       "      <th>total_income_category</th>\n",
       "      <th></th>\n",
       "      <th></th>\n",
       "      <th></th>\n",
       "    </tr>\n",
       "  </thead>\n",
       "  <tbody>\n",
       "    <tr>\n",
       "      <th>A</th>\n",
       "      <td>25</td>\n",
       "      <td>2</td>\n",
       "      <td>0.080000</td>\n",
       "    </tr>\n",
       "    <tr>\n",
       "      <th>B</th>\n",
       "      <td>5014</td>\n",
       "      <td>354</td>\n",
       "      <td>0.070602</td>\n",
       "    </tr>\n",
       "    <tr>\n",
       "      <th>C</th>\n",
       "      <td>15921</td>\n",
       "      <td>1353</td>\n",
       "      <td>0.084982</td>\n",
       "    </tr>\n",
       "    <tr>\n",
       "      <th>D</th>\n",
       "      <td>349</td>\n",
       "      <td>21</td>\n",
       "      <td>0.060172</td>\n",
       "    </tr>\n",
       "    <tr>\n",
       "      <th>E</th>\n",
       "      <td>22</td>\n",
       "      <td>2</td>\n",
       "      <td>0.090909</td>\n",
       "    </tr>\n",
       "  </tbody>\n",
       "</table>\n",
       "</div>"
      ],
      "text/plain": [
       "                        debt       debt_share\n",
       "                       count   sum           \n",
       "total_income_category                        \n",
       "A                         25     2   0.080000\n",
       "B                       5014   354   0.070602\n",
       "C                      15921  1353   0.084982\n",
       "D                        349    21   0.060172\n",
       "E                         22     2   0.090909"
      ]
     },
     "execution_count": 95,
     "metadata": {},
     "output_type": "execute_result"
    }
   ],
   "source": [
    "income_grouped['debt_share'] = result_income\n",
    "income_grouped"
   ]
  },
  {
   "cell_type": "markdown",
   "id": "84794e0d",
   "metadata": {
    "deletable": false,
    "id": "e8593def"
   },
   "source": [
    "**Вывод:**\n",
    "Ранее мы разделили людей по разному уровню дохода и создали для этого отдельную колонку 'total_income_category':\n",
    "0–30000 — 'E';\n",
    "30001–50000 — 'D';\n",
    "50001–200000 — 'C';\n",
    "200001–1000000 — 'B';\n",
    "1000001 и выше — 'A'.\n",
    "\n",
    "Посчитаем количество людей в каждой категории.\n",
    "Наибольщее количество заемщиков в категории C и B. На них же приходится основное количество долгов. В то же время, нельзя сказать, что они как-то выделятся по доле просрочек. Скорее показывают какой-то средний результат. \n",
    "Соответственно, можно сделать вывод, что уровень дохода в меньшей степени влияет на просрочку кредита.\n"
   ]
  },
  {
   "cell_type": "markdown",
   "id": "03267649",
   "metadata": {
    "deletable": false,
    "editable": false,
    "id": "99ecbd1f"
   },
   "source": [
    "#### 3.4 Как разные цели кредита влияют на его возврат в срок?"
   ]
  },
  {
   "cell_type": "code",
   "execution_count": 34,
   "id": "b7ec0761",
   "metadata": {
    "deletable": false,
    "id": "2b687290"
   },
   "outputs": [
    {
     "data": {
      "text/plain": [
       "purpose_category\n",
       "операции с автомобилем      0.093480\n",
       "операции с недвижимостью    0.072551\n",
       "получение образования       0.092528\n",
       "проведение свадьбы          0.079118\n",
       "Name: debt, dtype: float64"
      ]
     },
     "execution_count": 34,
     "metadata": {},
     "output_type": "execute_result"
    }
   ],
   "source": [
    "# Ваш код будет здесь. Вы можете создавать новые ячейки.\n",
    "#data['purpose_category'].value_counts() # количество заемщиков по категориям трат\n",
    "#data.groupby('purpose_category')['debt'].sum() # сколько заемщиков имеют просрочки по кредитам (по уровню дохода)\n",
    "\n",
    "# уровень дохода по группам и количество просрочек в каждой группе:\n",
    "purpose_grouped = data.groupby('purpose_category').agg({'debt':['count', 'sum']})\n",
    "\n",
    "purpose_count = data.groupby('purpose_category')['debt'].sum()\n",
    "purpose_debt = data.groupby('purpose_category')['debt'].count()\n",
    "\n",
    "result_purpose = category_count(purpose_count, purpose_debt)\n",
    "result_purpose"
   ]
  },
  {
   "cell_type": "code",
   "execution_count": 96,
   "id": "673c0866",
   "metadata": {},
   "outputs": [
    {
     "data": {
      "text/html": [
       "<div>\n",
       "<style scoped>\n",
       "    .dataframe tbody tr th:only-of-type {\n",
       "        vertical-align: middle;\n",
       "    }\n",
       "\n",
       "    .dataframe tbody tr th {\n",
       "        vertical-align: top;\n",
       "    }\n",
       "\n",
       "    .dataframe thead th {\n",
       "        text-align: right;\n",
       "    }\n",
       "</style>\n",
       "<table border=\"1\" class=\"dataframe\">\n",
       "  <thead>\n",
       "    <tr style=\"text-align: right;\">\n",
       "      <th></th>\n",
       "      <th>&lt;lambda_0&gt;</th>\n",
       "      <th>&lt;lambda_1&gt;</th>\n",
       "      <th>mean</th>\n",
       "    </tr>\n",
       "    <tr>\n",
       "      <th>purpose_category</th>\n",
       "      <th></th>\n",
       "      <th></th>\n",
       "      <th></th>\n",
       "    </tr>\n",
       "  </thead>\n",
       "  <tbody>\n",
       "    <tr>\n",
       "      <th>операции с автомобилем</th>\n",
       "      <td>4279.0</td>\n",
       "      <td>400.0</td>\n",
       "      <td>0.093480</td>\n",
       "    </tr>\n",
       "    <tr>\n",
       "      <th>операции с недвижимостью</th>\n",
       "      <td>10751.0</td>\n",
       "      <td>780.0</td>\n",
       "      <td>0.072551</td>\n",
       "    </tr>\n",
       "    <tr>\n",
       "      <th>получение образования</th>\n",
       "      <td>3988.0</td>\n",
       "      <td>369.0</td>\n",
       "      <td>0.092528</td>\n",
       "    </tr>\n",
       "    <tr>\n",
       "      <th>проведение свадьбы</th>\n",
       "      <td>2313.0</td>\n",
       "      <td>183.0</td>\n",
       "      <td>0.079118</td>\n",
       "    </tr>\n",
       "  </tbody>\n",
       "</table>\n",
       "</div>"
      ],
      "text/plain": [
       "                          <lambda_0>  <lambda_1>      mean\n",
       "purpose_category                                          \n",
       "операции с автомобилем        4279.0       400.0  0.093480\n",
       "операции с недвижимостью     10751.0       780.0  0.072551\n",
       "получение образования         3988.0       369.0  0.092528\n",
       "проведение свадьбы            2313.0       183.0  0.079118"
      ]
     },
     "execution_count": 96,
     "metadata": {},
     "output_type": "execute_result"
    }
   ],
   "source": [
    "data_pivot = data.pivot_table(index='purpose_category', values='debt', aggfunc=('mean', lambda debt: debt.count(), lambda debt: debt.sum()))\n",
    "data_pivot"
   ]
  },
  {
   "cell_type": "code",
   "execution_count": 77,
   "id": "40d594a2",
   "metadata": {},
   "outputs": [
    {
     "data": {
      "text/html": [
       "<div>\n",
       "<style scoped>\n",
       "    .dataframe tbody tr th:only-of-type {\n",
       "        vertical-align: middle;\n",
       "    }\n",
       "\n",
       "    .dataframe tbody tr th {\n",
       "        vertical-align: top;\n",
       "    }\n",
       "\n",
       "    .dataframe thead tr th {\n",
       "        text-align: left;\n",
       "    }\n",
       "\n",
       "    .dataframe thead tr:last-of-type th {\n",
       "        text-align: right;\n",
       "    }\n",
       "</style>\n",
       "<table border=\"1\" class=\"dataframe\">\n",
       "  <thead>\n",
       "    <tr>\n",
       "      <th></th>\n",
       "      <th colspan=\"2\" halign=\"left\">debt</th>\n",
       "      <th>purpose_category</th>\n",
       "    </tr>\n",
       "    <tr>\n",
       "      <th></th>\n",
       "      <th>count</th>\n",
       "      <th>sum</th>\n",
       "      <th></th>\n",
       "    </tr>\n",
       "    <tr>\n",
       "      <th>purpose_category</th>\n",
       "      <th></th>\n",
       "      <th></th>\n",
       "      <th></th>\n",
       "    </tr>\n",
       "  </thead>\n",
       "  <tbody>\n",
       "    <tr>\n",
       "      <th>операции с автомобилем</th>\n",
       "      <td>4279</td>\n",
       "      <td>400</td>\n",
       "      <td>0.093480</td>\n",
       "    </tr>\n",
       "    <tr>\n",
       "      <th>операции с недвижимостью</th>\n",
       "      <td>10751</td>\n",
       "      <td>780</td>\n",
       "      <td>0.072551</td>\n",
       "    </tr>\n",
       "    <tr>\n",
       "      <th>получение образования</th>\n",
       "      <td>3988</td>\n",
       "      <td>369</td>\n",
       "      <td>0.092528</td>\n",
       "    </tr>\n",
       "    <tr>\n",
       "      <th>проведение свадьбы</th>\n",
       "      <td>2313</td>\n",
       "      <td>183</td>\n",
       "      <td>0.079118</td>\n",
       "    </tr>\n",
       "  </tbody>\n",
       "</table>\n",
       "</div>"
      ],
      "text/plain": [
       "                           debt      purpose_category\n",
       "                          count  sum                 \n",
       "purpose_category                                     \n",
       "операции с автомобилем     4279  400         0.093480\n",
       "операции с недвижимостью  10751  780         0.072551\n",
       "получение образования      3988  369         0.092528\n",
       "проведение свадьбы         2313  183         0.079118"
      ]
     },
     "execution_count": 77,
     "metadata": {},
     "output_type": "execute_result"
    }
   ],
   "source": [
    "purpose_grouped['purpose_category'] = result_purpose\n",
    "purpose_grouped"
   ]
  },
  {
   "cell_type": "markdown",
   "id": "5bb30726",
   "metadata": {
    "deletable": false,
    "id": "b4bb2ce6"
   },
   "source": [
    "**Вывод:** \n",
    "\n",
    "Ранее мы также разделили сгруппировали цели кредита по четырем категориям в столбец 'purpose_category'. Как мы видим, в основном люди берут долги на операции с недвижимостью. На нее же, ожидаемо, приходится основное количество просрочек. Но на эту категорию, а также на свадьбы, приходится наименьшая доля просроченных долгов. Больше всего проблем у долгов на прокупку автомобилей и получение образования."
   ]
  },
  {
   "cell_type": "markdown",
   "id": "6cc12da8",
   "metadata": {
    "deletable": false,
    "editable": false,
    "id": "09c3ac4c"
   },
   "source": [
    "#### 3.5 Приведите возможные причины появления пропусков в исходных данных."
   ]
  },
  {
   "cell_type": "markdown",
   "id": "68efbac7",
   "metadata": {
    "deletable": false,
    "id": "9da2ceda"
   },
   "source": [
    "*Ответ:* \n",
    "Пропуски были в двух категориях - суммарные рабочие дни и суммарный доход. Причина может быть в том, что некоторые люди не работают/никогда не работали (по каким-либо причинам), а также ничего не зарабатывают, а только тратят (например, за счет родственников)."
   ]
  },
  {
   "cell_type": "markdown",
   "id": "3e5da28c",
   "metadata": {
    "deletable": false,
    "editable": false,
    "id": "7b0487d6"
   },
   "source": [
    "#### 3.6 Объясните, почему заполнить пропуски медианным значением — лучшее решение для количественных переменных."
   ]
  },
  {
   "cell_type": "markdown",
   "id": "3baf7236",
   "metadata": {
    "deletable": false,
    "id": "7ecf2b8e"
   },
   "source": [
    "*Ответ:*\n",
    "Например, в нашем случае в данных присутствовали люди, зарабатывающие более 2 млн. Их немного, они определенно повлияли бы на общий результат."
   ]
  },
  {
   "cell_type": "markdown",
   "id": "0896aea6",
   "metadata": {
    "deletable": false,
    "editable": false,
    "id": "6db5255a"
   },
   "source": [
    "### Шаг 4: общий вывод."
   ]
  },
  {
   "cell_type": "markdown",
   "id": "177711f9",
   "metadata": {
    "deletable": false,
    "id": "bad65432"
   },
   "source": [
    "Напишите ваш общий вывод.\n",
    "\n",
    "Мы провели общий анализ надежности заемщиков по различным категориям.\n",
    "\n",
    "Для этого мы обработали данные изначальной таблицы - нашли и заполнили пропуски в значениях, разбили данные по доходам и целям кредита в группы.\n",
    "\n",
    "Из итоговых данных можно сделать вывод, что возврат кредита зависит от семейного положения, количества детей в семье, уровня дохода и целей кредита.\n",
    "\n",
    "С ростом количества детей растет доля просроченных кредитов. При этом люди официально оформившие брак, ответственнее относятся к обязательствам перед банком.\n",
    "\n",
    "В таблице наиболее полно представлены категории людей с доходами 50001–200000 (группа C) и 200001–1000000 (группа B). Люди из категории B значительно лучше выплачивают долги по кредитам. Данных про остальные группы доходов недостаточно, чтобы сделать какие-то сравнимые выводы.\n",
    "\n",
    "И, наконец, если целью кредита является недвижимость или свадьба, то вероятность, что его вернут в срок выше, чем у кредитов на учебу или автомобили. Сложно сказать, есть ли тут какая-то связь с ранее сделанным выводом о семейном положении.\n",
    "\n",
    "Таким образом, наиболее ответственными заемщиками являются люди без детей, но состоящие в официальных отношениях с доходом 200 001 – 1 000 000, и берущие кредит на покупку недвижимости.\n",
    "\n",
    "Вероятность того, что кредит будет просрочен, выше у человека с детьми (чем выше их количество, тем выше вероятность просрочки, с исключением - три ребенка), который никак не узаконил свои отношения, включая гражданский брак, относится к более низкой категории доходов (50001–200000), а также берет кредиты на покупку автомобиля или получение образования."
   ]
  },
  {
   "cell_type": "code",
   "execution_count": null,
   "id": "bce74006",
   "metadata": {},
   "outputs": [],
   "source": []
  }
 ],
 "metadata": {
  "ExecuteTimeLog": [
   {
    "duration": 6,
    "start_time": "2022-10-04T10:06:31.693Z"
   },
   {
    "duration": 483,
    "start_time": "2022-10-04T10:06:48.462Z"
   },
   {
    "duration": 20,
    "start_time": "2022-10-04T10:06:53.270Z"
   },
   {
    "duration": 21,
    "start_time": "2022-10-04T10:07:03.811Z"
   },
   {
    "duration": 9,
    "start_time": "2022-10-04T10:07:09.409Z"
   },
   {
    "duration": 32,
    "start_time": "2022-10-04T10:07:12.559Z"
   },
   {
    "duration": 3,
    "start_time": "2022-10-04T10:07:15.175Z"
   },
   {
    "duration": 9,
    "start_time": "2022-10-04T10:07:15.572Z"
   },
   {
    "duration": 4,
    "start_time": "2022-10-04T10:07:17.799Z"
   },
   {
    "duration": 7,
    "start_time": "2022-10-04T10:07:22.492Z"
   },
   {
    "duration": 7,
    "start_time": "2022-10-04T10:07:22.500Z"
   },
   {
    "duration": 33,
    "start_time": "2022-10-04T10:07:28.502Z"
   },
   {
    "duration": 9,
    "start_time": "2022-10-04T10:07:30.056Z"
   },
   {
    "duration": 4,
    "start_time": "2022-10-04T10:07:33.691Z"
   },
   {
    "duration": 11,
    "start_time": "2022-10-04T10:07:34.965Z"
   },
   {
    "duration": 22,
    "start_time": "2022-10-04T10:07:36.093Z"
   },
   {
    "duration": 16,
    "start_time": "2022-10-04T10:07:40.494Z"
   },
   {
    "duration": 3,
    "start_time": "2022-10-04T10:07:43.836Z"
   },
   {
    "duration": 13,
    "start_time": "2022-10-04T10:07:44.831Z"
   },
   {
    "duration": 6,
    "start_time": "2022-10-04T10:07:48.312Z"
   },
   {
    "duration": 3,
    "start_time": "2022-10-04T10:07:52.276Z"
   },
   {
    "duration": 7,
    "start_time": "2022-10-04T10:07:53.236Z"
   },
   {
    "duration": 30,
    "start_time": "2022-10-04T10:07:55.976Z"
   },
   {
    "duration": 5,
    "start_time": "2022-10-04T10:08:03.103Z"
   },
   {
    "duration": 5,
    "start_time": "2022-10-04T10:08:34.147Z"
   },
   {
    "duration": 9,
    "start_time": "2022-10-04T10:11:36.373Z"
   },
   {
    "duration": 5,
    "start_time": "2022-10-04T10:11:58.330Z"
   },
   {
    "duration": 6,
    "start_time": "2022-10-04T10:12:21.033Z"
   },
   {
    "duration": 5,
    "start_time": "2022-10-04T10:16:31.710Z"
   },
   {
    "duration": 5,
    "start_time": "2022-10-04T10:16:34.151Z"
   },
   {
    "duration": 7,
    "start_time": "2022-10-04T10:22:48.510Z"
   },
   {
    "duration": 5,
    "start_time": "2022-10-04T10:23:52.192Z"
   },
   {
    "duration": 21,
    "start_time": "2022-10-04T10:26:11.723Z"
   },
   {
    "duration": 7,
    "start_time": "2022-10-04T10:26:35.070Z"
   },
   {
    "duration": 8,
    "start_time": "2022-10-04T10:48:34.254Z"
   },
   {
    "duration": 12,
    "start_time": "2022-10-04T10:48:50.230Z"
   },
   {
    "duration": 8,
    "start_time": "2022-10-04T10:49:30.358Z"
   },
   {
    "duration": 9,
    "start_time": "2022-10-04T10:49:38.728Z"
   },
   {
    "duration": 8,
    "start_time": "2022-10-04T10:50:10.245Z"
   },
   {
    "duration": 9,
    "start_time": "2022-10-04T10:50:20.606Z"
   },
   {
    "duration": 5,
    "start_time": "2022-10-04T10:52:14.861Z"
   },
   {
    "duration": 91,
    "start_time": "2022-10-04T10:53:27.052Z"
   },
   {
    "duration": 7,
    "start_time": "2022-10-04T10:53:35.329Z"
   },
   {
    "duration": 10,
    "start_time": "2022-10-04T10:53:45.594Z"
   },
   {
    "duration": 570,
    "start_time": "2022-10-04T10:54:26.139Z"
   },
   {
    "duration": 6,
    "start_time": "2022-10-04T10:54:43.220Z"
   },
   {
    "duration": 6,
    "start_time": "2022-10-04T10:56:56.064Z"
   },
   {
    "duration": 7,
    "start_time": "2022-10-04T10:57:07.030Z"
   },
   {
    "duration": 6,
    "start_time": "2022-10-04T10:57:22.358Z"
   },
   {
    "duration": 21,
    "start_time": "2022-10-04T11:00:53.382Z"
   },
   {
    "duration": 8,
    "start_time": "2022-10-04T11:01:07.479Z"
   },
   {
    "duration": 7,
    "start_time": "2022-10-04T11:01:31.875Z"
   },
   {
    "duration": 6,
    "start_time": "2022-10-04T11:01:36.882Z"
   },
   {
    "duration": 8,
    "start_time": "2022-10-04T11:01:50.844Z"
   },
   {
    "duration": 5,
    "start_time": "2022-10-04T11:02:00.923Z"
   },
   {
    "duration": 11,
    "start_time": "2022-10-04T11:02:20.077Z"
   },
   {
    "duration": 11,
    "start_time": "2022-10-04T11:02:25.094Z"
   },
   {
    "duration": 28,
    "start_time": "2022-10-04T11:02:33.801Z"
   },
   {
    "duration": 21,
    "start_time": "2022-10-04T11:02:56.175Z"
   },
   {
    "duration": 9,
    "start_time": "2022-10-04T11:05:01.487Z"
   },
   {
    "duration": 93,
    "start_time": "2022-10-04T11:05:10.468Z"
   },
   {
    "duration": 17,
    "start_time": "2022-10-04T11:05:13.899Z"
   },
   {
    "duration": 29,
    "start_time": "2022-10-04T11:06:17.517Z"
   },
   {
    "duration": 33,
    "start_time": "2022-10-04T11:08:49.604Z"
   },
   {
    "duration": 16,
    "start_time": "2022-10-04T11:08:56.323Z"
   },
   {
    "duration": 18,
    "start_time": "2022-10-04T11:11:56.530Z"
   },
   {
    "duration": 13,
    "start_time": "2022-10-04T11:12:27.291Z"
   },
   {
    "duration": 7,
    "start_time": "2022-10-04T11:13:11.395Z"
   },
   {
    "duration": 12,
    "start_time": "2022-10-04T11:15:31.780Z"
   },
   {
    "duration": 9,
    "start_time": "2022-10-04T11:15:42.875Z"
   },
   {
    "duration": 13,
    "start_time": "2022-10-04T11:15:48.805Z"
   },
   {
    "duration": 12,
    "start_time": "2022-10-04T11:17:48.043Z"
   },
   {
    "duration": 23,
    "start_time": "2022-10-04T11:17:56.704Z"
   },
   {
    "duration": 11,
    "start_time": "2022-10-04T11:18:50.529Z"
   },
   {
    "duration": 81,
    "start_time": "2022-10-04T11:21:50.396Z"
   },
   {
    "duration": 1209,
    "start_time": "2022-10-04T11:22:01.379Z"
   },
   {
    "duration": 15,
    "start_time": "2022-10-04T11:22:12.738Z"
   },
   {
    "duration": 29,
    "start_time": "2022-10-04T11:22:22.325Z"
   },
   {
    "duration": 27,
    "start_time": "2022-10-04T11:22:52.830Z"
   },
   {
    "duration": 35,
    "start_time": "2022-10-04T11:23:19.546Z"
   },
   {
    "duration": 12,
    "start_time": "2022-10-04T11:24:40.272Z"
   },
   {
    "duration": 577,
    "start_time": "2022-10-04T11:24:49.859Z"
   },
   {
    "duration": 928,
    "start_time": "2022-10-04T11:25:00.624Z"
   },
   {
    "duration": 14,
    "start_time": "2022-10-04T11:25:31.624Z"
   },
   {
    "duration": 10,
    "start_time": "2022-10-04T11:28:13.302Z"
   },
   {
    "duration": 17,
    "start_time": "2022-10-04T11:28:38.889Z"
   },
   {
    "duration": 25,
    "start_time": "2022-10-04T11:28:53.348Z"
   },
   {
    "duration": 12,
    "start_time": "2022-10-04T11:29:05.638Z"
   },
   {
    "duration": 21,
    "start_time": "2022-10-04T11:29:19.791Z"
   },
   {
    "duration": 11,
    "start_time": "2022-10-04T11:29:31.286Z"
   },
   {
    "duration": 18,
    "start_time": "2022-10-04T11:29:41.005Z"
   },
   {
    "duration": 13,
    "start_time": "2022-10-04T11:34:46.556Z"
   },
   {
    "duration": 11,
    "start_time": "2022-10-04T11:34:59.682Z"
   },
   {
    "duration": 14,
    "start_time": "2022-10-04T11:35:05.858Z"
   },
   {
    "duration": 14,
    "start_time": "2022-10-04T11:35:26.146Z"
   },
   {
    "duration": 19,
    "start_time": "2022-10-04T11:35:33.335Z"
   },
   {
    "duration": 14,
    "start_time": "2022-10-04T11:35:43.437Z"
   },
   {
    "duration": 93,
    "start_time": "2022-10-04T12:56:15.788Z"
   },
   {
    "duration": 21,
    "start_time": "2022-10-04T13:00:36.769Z"
   },
   {
    "duration": 206,
    "start_time": "2022-10-04T13:01:58.505Z"
   },
   {
    "duration": 33,
    "start_time": "2022-10-04T13:09:50.861Z"
   },
   {
    "duration": 19,
    "start_time": "2022-10-04T13:10:20.351Z"
   },
   {
    "duration": 20,
    "start_time": "2022-10-04T13:10:23.273Z"
   },
   {
    "duration": 202,
    "start_time": "2022-10-04T13:10:36.575Z"
   },
   {
    "duration": 197,
    "start_time": "2022-10-04T13:11:28.884Z"
   },
   {
    "duration": 190,
    "start_time": "2022-10-04T13:12:02.937Z"
   },
   {
    "duration": 203,
    "start_time": "2022-10-04T13:12:12.476Z"
   },
   {
    "duration": 194,
    "start_time": "2022-10-04T13:12:59.624Z"
   },
   {
    "duration": 187,
    "start_time": "2022-10-04T13:13:37.631Z"
   },
   {
    "duration": 214,
    "start_time": "2022-10-04T13:13:43.316Z"
   },
   {
    "duration": 180,
    "start_time": "2022-10-04T13:14:06.656Z"
   },
   {
    "duration": 235,
    "start_time": "2022-10-04T13:14:16.838Z"
   },
   {
    "duration": 37,
    "start_time": "2022-10-04T13:14:29.574Z"
   },
   {
    "duration": 196,
    "start_time": "2022-10-04T13:14:59.028Z"
   },
   {
    "duration": 187,
    "start_time": "2022-10-04T13:15:20.760Z"
   },
   {
    "duration": 185,
    "start_time": "2022-10-04T13:15:28.363Z"
   },
   {
    "duration": 26,
    "start_time": "2022-10-04T13:15:38.195Z"
   },
   {
    "duration": 14,
    "start_time": "2022-10-04T13:17:30.638Z"
   },
   {
    "duration": 15,
    "start_time": "2022-10-04T13:17:38.288Z"
   },
   {
    "duration": 5,
    "start_time": "2022-10-04T13:17:48.085Z"
   },
   {
    "duration": 14,
    "start_time": "2022-10-04T13:18:08.258Z"
   },
   {
    "duration": 15,
    "start_time": "2022-10-04T13:37:09.662Z"
   },
   {
    "duration": 17,
    "start_time": "2022-10-04T13:37:39.538Z"
   },
   {
    "duration": 25,
    "start_time": "2022-10-04T13:37:51.007Z"
   },
   {
    "duration": 13,
    "start_time": "2022-10-04T13:38:02.746Z"
   },
   {
    "duration": 25,
    "start_time": "2022-10-04T13:38:07.117Z"
   },
   {
    "duration": 16,
    "start_time": "2022-10-04T13:38:11.442Z"
   },
   {
    "duration": 12,
    "start_time": "2022-10-04T13:38:13.977Z"
   },
   {
    "duration": 20,
    "start_time": "2022-10-04T13:38:17.717Z"
   },
   {
    "duration": 13,
    "start_time": "2022-10-04T13:39:38.186Z"
   },
   {
    "duration": 41,
    "start_time": "2022-10-04T13:41:21.604Z"
   },
   {
    "duration": 14,
    "start_time": "2022-10-04T13:42:12.784Z"
   },
   {
    "duration": 1026,
    "start_time": "2022-10-04T13:42:29.040Z"
   },
   {
    "duration": 14,
    "start_time": "2022-10-04T13:42:38.654Z"
   },
   {
    "duration": 970,
    "start_time": "2022-10-04T13:42:50.938Z"
   },
   {
    "duration": 941,
    "start_time": "2022-10-04T13:43:26.096Z"
   },
   {
    "duration": 13,
    "start_time": "2022-10-04T13:43:38.589Z"
   },
   {
    "duration": 5,
    "start_time": "2022-10-04T13:45:07.359Z"
   },
   {
    "duration": 5,
    "start_time": "2022-10-04T13:45:13.153Z"
   },
   {
    "duration": 6,
    "start_time": "2022-10-04T13:48:18.850Z"
   },
   {
    "duration": 7,
    "start_time": "2022-10-04T13:50:12.679Z"
   },
   {
    "duration": 8,
    "start_time": "2022-10-04T13:50:25.457Z"
   },
   {
    "duration": 10,
    "start_time": "2022-10-04T13:50:38.721Z"
   },
   {
    "duration": 665,
    "start_time": "2022-10-04T13:50:53.597Z"
   },
   {
    "duration": 12,
    "start_time": "2022-10-04T13:51:06.076Z"
   },
   {
    "duration": 9,
    "start_time": "2022-10-04T13:53:39.038Z"
   },
   {
    "duration": 8,
    "start_time": "2022-10-04T13:53:48.153Z"
   },
   {
    "duration": 11,
    "start_time": "2022-10-04T13:54:30.863Z"
   },
   {
    "duration": 9,
    "start_time": "2022-10-04T13:57:22.550Z"
   },
   {
    "duration": 10,
    "start_time": "2022-10-04T13:57:40.384Z"
   },
   {
    "duration": 14,
    "start_time": "2022-10-04T13:58:33.264Z"
   },
   {
    "duration": 12,
    "start_time": "2022-10-04T13:58:48.831Z"
   },
   {
    "duration": 12,
    "start_time": "2022-10-04T13:59:08.984Z"
   },
   {
    "duration": 13,
    "start_time": "2022-10-04T13:59:37.797Z"
   },
   {
    "duration": 13,
    "start_time": "2022-10-04T14:00:45.418Z"
   },
   {
    "duration": 10,
    "start_time": "2022-10-04T14:03:31.125Z"
   },
   {
    "duration": 5,
    "start_time": "2022-10-04T14:05:39.435Z"
   },
   {
    "duration": 6,
    "start_time": "2022-10-04T14:06:06.818Z"
   },
   {
    "duration": 7,
    "start_time": "2022-10-04T14:07:03.110Z"
   },
   {
    "duration": 10,
    "start_time": "2022-10-04T14:07:20.023Z"
   },
   {
    "duration": 11,
    "start_time": "2022-10-04T14:07:36.130Z"
   },
   {
    "duration": 7,
    "start_time": "2022-10-04T14:08:20.075Z"
   },
   {
    "duration": 13,
    "start_time": "2022-10-04T14:09:05.519Z"
   },
   {
    "duration": 9,
    "start_time": "2022-10-04T14:09:19.142Z"
   },
   {
    "duration": 8,
    "start_time": "2022-10-04T14:09:26.680Z"
   },
   {
    "duration": 32,
    "start_time": "2022-10-04T14:12:59.134Z"
   },
   {
    "duration": 15,
    "start_time": "2022-10-04T14:13:08.280Z"
   },
   {
    "duration": 11,
    "start_time": "2022-10-04T14:13:30.821Z"
   },
   {
    "duration": 16,
    "start_time": "2022-10-04T14:13:37.472Z"
   },
   {
    "duration": 8,
    "start_time": "2022-10-04T14:13:56.110Z"
   },
   {
    "duration": 9,
    "start_time": "2022-10-04T14:14:07.104Z"
   },
   {
    "duration": 8,
    "start_time": "2022-10-04T14:14:38.521Z"
   },
   {
    "duration": 7,
    "start_time": "2022-10-04T14:14:53.759Z"
   },
   {
    "duration": 12,
    "start_time": "2022-10-04T14:21:46.086Z"
   },
   {
    "duration": 14,
    "start_time": "2022-10-04T14:21:54.498Z"
   },
   {
    "duration": 15,
    "start_time": "2022-10-04T14:22:32.823Z"
   },
   {
    "duration": 15,
    "start_time": "2022-10-04T14:22:52.925Z"
   },
   {
    "duration": 15,
    "start_time": "2022-10-04T14:22:58.687Z"
   },
   {
    "duration": 16,
    "start_time": "2022-10-04T14:23:18.193Z"
   },
   {
    "duration": 9,
    "start_time": "2022-10-04T14:23:29.576Z"
   },
   {
    "duration": 8,
    "start_time": "2022-10-04T14:24:02.937Z"
   },
   {
    "duration": 15,
    "start_time": "2022-10-04T14:24:11.533Z"
   },
   {
    "duration": 10,
    "start_time": "2022-10-04T14:25:33.401Z"
   },
   {
    "duration": 9,
    "start_time": "2022-10-04T14:26:53.095Z"
   },
   {
    "duration": 10,
    "start_time": "2022-10-04T14:26:55.362Z"
   },
   {
    "duration": 14,
    "start_time": "2022-10-04T14:27:07.810Z"
   },
   {
    "duration": 10,
    "start_time": "2022-10-04T14:29:34.076Z"
   },
   {
    "duration": 10,
    "start_time": "2022-10-04T14:29:43.080Z"
   },
   {
    "duration": 12,
    "start_time": "2022-10-04T14:30:10.571Z"
   },
   {
    "duration": 13,
    "start_time": "2022-10-04T14:30:53.201Z"
   },
   {
    "duration": 13,
    "start_time": "2022-10-04T14:31:27.533Z"
   },
   {
    "duration": 14,
    "start_time": "2022-10-04T14:32:17.540Z"
   },
   {
    "duration": 13,
    "start_time": "2022-10-04T14:32:21.523Z"
   },
   {
    "duration": 15,
    "start_time": "2022-10-04T14:32:31.919Z"
   },
   {
    "duration": 15,
    "start_time": "2022-10-04T14:32:47.674Z"
   },
   {
    "duration": 13,
    "start_time": "2022-10-04T14:33:00.099Z"
   },
   {
    "duration": 15,
    "start_time": "2022-10-04T14:35:22.943Z"
   },
   {
    "duration": 16,
    "start_time": "2022-10-04T14:37:58.919Z"
   },
   {
    "duration": 13,
    "start_time": "2022-10-04T14:38:04.508Z"
   },
   {
    "duration": 16,
    "start_time": "2022-10-04T14:38:24.436Z"
   },
   {
    "duration": 130,
    "start_time": "2022-10-04T14:44:14.167Z"
   },
   {
    "duration": 19,
    "start_time": "2022-10-04T14:44:42.109Z"
   },
   {
    "duration": 18,
    "start_time": "2022-10-04T14:45:06.199Z"
   },
   {
    "duration": 16,
    "start_time": "2022-10-04T14:45:51.117Z"
   },
   {
    "duration": 16,
    "start_time": "2022-10-04T14:46:00.525Z"
   },
   {
    "duration": 14,
    "start_time": "2022-10-04T14:46:18.636Z"
   },
   {
    "duration": 7,
    "start_time": "2022-10-04T14:51:06.605Z"
   },
   {
    "duration": 11,
    "start_time": "2022-10-04T14:51:15.228Z"
   },
   {
    "duration": 12,
    "start_time": "2022-10-04T15:06:29.711Z"
   },
   {
    "duration": 14,
    "start_time": "2022-10-04T15:07:10.637Z"
   },
   {
    "duration": 12,
    "start_time": "2022-10-04T15:07:56.494Z"
   },
   {
    "duration": 13,
    "start_time": "2022-10-04T15:08:00.560Z"
   },
   {
    "duration": 17,
    "start_time": "2022-10-04T15:08:04.947Z"
   },
   {
    "duration": 12,
    "start_time": "2022-10-04T15:09:40.865Z"
   },
   {
    "duration": 19,
    "start_time": "2022-10-04T15:12:37.961Z"
   },
   {
    "duration": 15,
    "start_time": "2022-10-04T15:12:52.596Z"
   },
   {
    "duration": 17,
    "start_time": "2022-10-04T15:13:51.951Z"
   },
   {
    "duration": 13,
    "start_time": "2022-10-04T15:14:00.301Z"
   },
   {
    "duration": 14,
    "start_time": "2022-10-04T15:16:45.239Z"
   },
   {
    "duration": 12,
    "start_time": "2022-10-04T15:19:24.351Z"
   },
   {
    "duration": 16,
    "start_time": "2022-10-04T15:19:29.520Z"
   },
   {
    "duration": 12,
    "start_time": "2022-10-04T15:27:44.119Z"
   },
   {
    "duration": 11,
    "start_time": "2022-10-04T15:29:22.934Z"
   },
   {
    "duration": 14,
    "start_time": "2022-10-04T15:29:26.194Z"
   },
   {
    "duration": 16,
    "start_time": "2022-10-04T15:29:35.481Z"
   },
   {
    "duration": 20,
    "start_time": "2022-10-04T15:29:47.877Z"
   },
   {
    "duration": 19,
    "start_time": "2022-10-04T15:40:12.613Z"
   },
   {
    "duration": 16,
    "start_time": "2022-10-04T15:40:16.567Z"
   },
   {
    "duration": 14,
    "start_time": "2022-10-04T15:40:27.276Z"
   },
   {
    "duration": 12,
    "start_time": "2022-10-04T15:40:39.745Z"
   },
   {
    "duration": 10,
    "start_time": "2022-10-04T15:41:02.684Z"
   },
   {
    "duration": 22,
    "start_time": "2022-10-04T15:43:41.058Z"
   },
   {
    "duration": 26,
    "start_time": "2022-10-04T15:44:31.492Z"
   },
   {
    "duration": 49,
    "start_time": "2022-10-04T15:44:46.302Z"
   },
   {
    "duration": 10,
    "start_time": "2022-10-04T15:44:57.312Z"
   },
   {
    "duration": 11,
    "start_time": "2022-10-04T15:47:25.958Z"
   },
   {
    "duration": 15,
    "start_time": "2022-10-04T15:49:00.387Z"
   },
   {
    "duration": 15,
    "start_time": "2022-10-04T15:50:25.943Z"
   },
   {
    "duration": 16,
    "start_time": "2022-10-04T15:50:30.032Z"
   },
   {
    "duration": 12,
    "start_time": "2022-10-04T15:50:46.456Z"
   },
   {
    "duration": 49,
    "start_time": "2022-10-04T18:46:54.822Z"
   },
   {
    "duration": 661,
    "start_time": "2022-10-04T18:47:01.787Z"
   },
   {
    "duration": 25,
    "start_time": "2022-10-04T18:47:03.662Z"
   },
   {
    "duration": 16,
    "start_time": "2022-10-04T18:47:05.303Z"
   },
   {
    "duration": 11,
    "start_time": "2022-10-04T18:47:08.535Z"
   },
   {
    "duration": 33,
    "start_time": "2022-10-04T18:47:10.273Z"
   },
   {
    "duration": 4,
    "start_time": "2022-10-04T18:47:11.698Z"
   },
   {
    "duration": 8,
    "start_time": "2022-10-04T18:47:13.100Z"
   },
   {
    "duration": 5,
    "start_time": "2022-10-04T18:47:14.854Z"
   },
   {
    "duration": 7,
    "start_time": "2022-10-04T18:47:16.744Z"
   },
   {
    "duration": 5,
    "start_time": "2022-10-04T18:47:17.799Z"
   },
   {
    "duration": 34,
    "start_time": "2022-10-04T18:47:19.882Z"
   },
   {
    "duration": 10,
    "start_time": "2022-10-04T18:47:28.554Z"
   },
   {
    "duration": 3,
    "start_time": "2022-10-04T18:47:30.718Z"
   },
   {
    "duration": 12,
    "start_time": "2022-10-04T18:47:32.278Z"
   },
   {
    "duration": 21,
    "start_time": "2022-10-04T18:47:34.098Z"
   },
   {
    "duration": 18,
    "start_time": "2022-10-04T18:47:35.314Z"
   },
   {
    "duration": 5,
    "start_time": "2022-10-04T18:47:37.387Z"
   },
   {
    "duration": 10,
    "start_time": "2022-10-04T18:47:39.223Z"
   },
   {
    "duration": 6,
    "start_time": "2022-10-04T18:47:40.396Z"
   },
   {
    "duration": 3,
    "start_time": "2022-10-04T18:47:42.106Z"
   },
   {
    "duration": 9,
    "start_time": "2022-10-04T18:47:43.164Z"
   },
   {
    "duration": 16,
    "start_time": "2022-10-04T18:47:45.256Z"
   },
   {
    "duration": 53,
    "start_time": "2022-10-04T18:52:56.132Z"
   },
   {
    "duration": 19,
    "start_time": "2022-10-04T18:54:04.031Z"
   },
   {
    "duration": 19,
    "start_time": "2022-10-04T18:54:06.923Z"
   },
   {
    "duration": 14,
    "start_time": "2022-10-04T18:54:18.257Z"
   },
   {
    "duration": 22,
    "start_time": "2022-10-04T18:54:35.198Z"
   },
   {
    "duration": 27,
    "start_time": "2022-10-04T18:54:54.525Z"
   },
   {
    "duration": 732,
    "start_time": "2022-10-05T09:09:00.836Z"
   },
   {
    "duration": 26,
    "start_time": "2022-10-05T09:09:11.683Z"
   },
   {
    "duration": 16,
    "start_time": "2022-10-05T09:09:14.723Z"
   },
   {
    "duration": 10,
    "start_time": "2022-10-05T09:09:17.104Z"
   },
   {
    "duration": 35,
    "start_time": "2022-10-05T09:09:18.422Z"
   },
   {
    "duration": 4,
    "start_time": "2022-10-05T09:09:20.064Z"
   },
   {
    "duration": 7,
    "start_time": "2022-10-05T09:09:21.363Z"
   },
   {
    "duration": 4,
    "start_time": "2022-10-05T09:09:30.744Z"
   },
   {
    "duration": 7,
    "start_time": "2022-10-05T09:09:32.454Z"
   },
   {
    "duration": 4,
    "start_time": "2022-10-05T09:09:43.627Z"
   },
   {
    "duration": 31,
    "start_time": "2022-10-05T09:09:50.234Z"
   },
   {
    "duration": 11,
    "start_time": "2022-10-05T09:09:58.259Z"
   },
   {
    "duration": 4,
    "start_time": "2022-10-05T09:10:00.699Z"
   },
   {
    "duration": 12,
    "start_time": "2022-10-05T09:10:02.445Z"
   },
   {
    "duration": 20,
    "start_time": "2022-10-05T09:10:03.908Z"
   },
   {
    "duration": 19,
    "start_time": "2022-10-05T09:10:04.462Z"
   },
   {
    "duration": 3,
    "start_time": "2022-10-05T09:10:06.099Z"
   },
   {
    "duration": 11,
    "start_time": "2022-10-05T09:10:07.275Z"
   },
   {
    "duration": 7,
    "start_time": "2022-10-05T09:10:09.493Z"
   },
   {
    "duration": 4,
    "start_time": "2022-10-05T09:10:16.294Z"
   },
   {
    "duration": 10,
    "start_time": "2022-10-05T09:10:16.896Z"
   },
   {
    "duration": 14,
    "start_time": "2022-10-05T09:10:30.567Z"
   },
   {
    "duration": 17,
    "start_time": "2022-10-05T09:10:48.318Z"
   },
   {
    "duration": 14,
    "start_time": "2022-10-05T09:10:59.751Z"
   },
   {
    "duration": 77,
    "start_time": "2022-10-05T09:11:07.438Z"
   },
   {
    "duration": 16,
    "start_time": "2022-10-05T09:11:11.221Z"
   },
   {
    "duration": 16,
    "start_time": "2022-10-05T09:11:14.369Z"
   },
   {
    "duration": 15,
    "start_time": "2022-10-05T09:11:18.051Z"
   },
   {
    "duration": 17,
    "start_time": "2022-10-05T09:11:32.448Z"
   },
   {
    "duration": 17,
    "start_time": "2022-10-05T09:11:35.691Z"
   },
   {
    "duration": 30,
    "start_time": "2022-10-05T09:12:21.613Z"
   },
   {
    "duration": 14,
    "start_time": "2022-10-05T09:12:41.502Z"
   },
   {
    "duration": 28,
    "start_time": "2022-10-05T09:12:47.109Z"
   },
   {
    "duration": 14,
    "start_time": "2022-10-05T09:13:03.717Z"
   },
   {
    "duration": 17,
    "start_time": "2022-10-05T09:13:15.721Z"
   },
   {
    "duration": 18,
    "start_time": "2022-10-05T09:13:22.679Z"
   },
   {
    "duration": 50,
    "start_time": "2022-10-05T09:18:06.907Z"
   },
   {
    "duration": 115,
    "start_time": "2022-10-05T09:18:11.336Z"
   },
   {
    "duration": 63,
    "start_time": "2022-10-05T09:18:21.893Z"
   },
   {
    "duration": 155,
    "start_time": "2022-10-05T09:19:26.884Z"
   },
   {
    "duration": 16,
    "start_time": "2022-10-05T09:19:42.251Z"
   },
   {
    "duration": 12,
    "start_time": "2022-10-05T09:19:54.539Z"
   },
   {
    "duration": 16,
    "start_time": "2022-10-05T09:24:25.936Z"
   },
   {
    "duration": 20,
    "start_time": "2022-10-05T09:24:41.791Z"
   },
   {
    "duration": 26,
    "start_time": "2022-10-05T09:30:41.360Z"
   },
   {
    "duration": 35,
    "start_time": "2022-10-05T09:30:55.441Z"
   },
   {
    "duration": 12,
    "start_time": "2022-10-05T09:32:11.810Z"
   },
   {
    "duration": 13,
    "start_time": "2022-10-05T09:34:01.604Z"
   },
   {
    "duration": 14,
    "start_time": "2022-10-05T09:34:06.875Z"
   },
   {
    "duration": 15,
    "start_time": "2022-10-05T09:34:46.235Z"
   },
   {
    "duration": 12,
    "start_time": "2022-10-05T09:34:53.490Z"
   },
   {
    "duration": 17,
    "start_time": "2022-10-05T12:02:25.161Z"
   },
   {
    "duration": 24,
    "start_time": "2022-10-05T12:03:32.601Z"
   },
   {
    "duration": 12,
    "start_time": "2022-10-05T12:04:26.298Z"
   },
   {
    "duration": 13,
    "start_time": "2022-10-05T12:08:29.782Z"
   },
   {
    "duration": 12,
    "start_time": "2022-10-05T12:08:46.013Z"
   },
   {
    "duration": 12,
    "start_time": "2022-10-05T12:10:56.436Z"
   },
   {
    "duration": 20,
    "start_time": "2022-10-05T12:11:04.836Z"
   },
   {
    "duration": 84,
    "start_time": "2022-10-05T12:11:31.884Z"
   },
   {
    "duration": 66,
    "start_time": "2022-10-05T12:11:39.225Z"
   },
   {
    "duration": 15,
    "start_time": "2022-10-05T12:11:56.453Z"
   },
   {
    "duration": 14,
    "start_time": "2022-10-05T12:12:06.797Z"
   },
   {
    "duration": 16,
    "start_time": "2022-10-05T12:12:11.751Z"
   },
   {
    "duration": 16,
    "start_time": "2022-10-05T12:12:27.067Z"
   },
   {
    "duration": 16,
    "start_time": "2022-10-05T12:12:48.127Z"
   },
   {
    "duration": 17,
    "start_time": "2022-10-05T12:15:31.194Z"
   },
   {
    "duration": 15,
    "start_time": "2022-10-05T12:16:04.494Z"
   },
   {
    "duration": 15,
    "start_time": "2022-10-05T12:16:14.197Z"
   },
   {
    "duration": 22,
    "start_time": "2022-10-05T12:16:27.291Z"
   },
   {
    "duration": 17,
    "start_time": "2022-10-05T12:16:35.810Z"
   },
   {
    "duration": 21,
    "start_time": "2022-10-05T12:18:07.068Z"
   },
   {
    "duration": 18,
    "start_time": "2022-10-05T12:18:38.059Z"
   },
   {
    "duration": 19,
    "start_time": "2022-10-05T12:18:48.487Z"
   },
   {
    "duration": 16,
    "start_time": "2022-10-05T12:18:53.324Z"
   },
   {
    "duration": 12,
    "start_time": "2022-10-05T12:19:02.974Z"
   },
   {
    "duration": 23,
    "start_time": "2022-10-05T12:20:47.781Z"
   },
   {
    "duration": 12,
    "start_time": "2022-10-05T13:13:14.756Z"
   },
   {
    "duration": 21,
    "start_time": "2022-10-05T15:49:07.384Z"
   },
   {
    "duration": 12,
    "start_time": "2022-10-05T15:49:13.979Z"
   },
   {
    "duration": 775,
    "start_time": "2022-10-06T07:32:08.613Z"
   },
   {
    "duration": 36,
    "start_time": "2022-10-06T07:32:09.800Z"
   },
   {
    "duration": 16,
    "start_time": "2022-10-06T07:32:11.307Z"
   },
   {
    "duration": 10,
    "start_time": "2022-10-06T07:32:13.439Z"
   },
   {
    "duration": 53,
    "start_time": "2022-10-06T07:32:14.543Z"
   },
   {
    "duration": 5,
    "start_time": "2022-10-06T07:32:15.834Z"
   },
   {
    "duration": 9,
    "start_time": "2022-10-06T07:32:16.703Z"
   },
   {
    "duration": 5,
    "start_time": "2022-10-06T07:32:18.426Z"
   },
   {
    "duration": 7,
    "start_time": "2022-10-06T07:32:19.409Z"
   },
   {
    "duration": 5,
    "start_time": "2022-10-06T07:32:20.456Z"
   },
   {
    "duration": 34,
    "start_time": "2022-10-06T07:32:22.457Z"
   },
   {
    "duration": 9,
    "start_time": "2022-10-06T07:32:23.395Z"
   },
   {
    "duration": 4,
    "start_time": "2022-10-06T07:32:25.268Z"
   },
   {
    "duration": 12,
    "start_time": "2022-10-06T07:32:26.544Z"
   },
   {
    "duration": 20,
    "start_time": "2022-10-06T07:32:27.593Z"
   },
   {
    "duration": 21,
    "start_time": "2022-10-06T07:32:28.232Z"
   },
   {
    "duration": 4,
    "start_time": "2022-10-06T07:32:29.796Z"
   },
   {
    "duration": 11,
    "start_time": "2022-10-06T07:32:30.694Z"
   },
   {
    "duration": 6,
    "start_time": "2022-10-06T07:32:32.297Z"
   },
   {
    "duration": 3,
    "start_time": "2022-10-06T07:32:33.790Z"
   },
   {
    "duration": 9,
    "start_time": "2022-10-06T07:32:34.447Z"
   },
   {
    "duration": 17,
    "start_time": "2022-10-06T07:32:36.798Z"
   },
   {
    "duration": 13,
    "start_time": "2022-10-06T07:32:44.599Z"
   },
   {
    "duration": 76,
    "start_time": "2022-10-06T08:07:42.469Z"
   },
   {
    "duration": 18,
    "start_time": "2022-10-06T08:07:56.447Z"
   },
   {
    "duration": 16,
    "start_time": "2022-10-06T08:08:41.956Z"
   },
   {
    "duration": 16,
    "start_time": "2022-10-06T08:08:56.143Z"
   },
   {
    "duration": 18,
    "start_time": "2022-10-06T08:09:03.354Z"
   },
   {
    "duration": 13,
    "start_time": "2022-10-06T08:09:52.083Z"
   },
   {
    "duration": 56,
    "start_time": "2022-10-06T09:20:19.276Z"
   },
   {
    "duration": 84,
    "start_time": "2022-10-06T09:20:29.547Z"
   },
   {
    "duration": 76,
    "start_time": "2022-10-06T09:20:34.917Z"
   },
   {
    "duration": 13,
    "start_time": "2022-10-06T09:20:40.920Z"
   },
   {
    "duration": 19,
    "start_time": "2022-10-06T09:24:42.345Z"
   },
   {
    "duration": 23,
    "start_time": "2022-10-06T09:25:02.543Z"
   },
   {
    "duration": 21,
    "start_time": "2022-10-06T09:25:39.831Z"
   },
   {
    "duration": 17,
    "start_time": "2022-10-06T09:25:45.438Z"
   },
   {
    "duration": 15,
    "start_time": "2022-10-06T09:25:56.578Z"
   },
   {
    "duration": 916,
    "start_time": "2022-10-06T12:28:23.245Z"
   },
   {
    "duration": 1010,
    "start_time": "2022-10-06T12:28:36.582Z"
   },
   {
    "duration": 1082,
    "start_time": "2022-10-06T12:28:43.828Z"
   },
   {
    "duration": 17,
    "start_time": "2022-10-06T12:29:05.020Z"
   },
   {
    "duration": 1010,
    "start_time": "2022-10-06T12:29:10.609Z"
   },
   {
    "duration": 18,
    "start_time": "2022-10-06T12:29:18.777Z"
   },
   {
    "duration": 14,
    "start_time": "2022-10-06T12:29:24.908Z"
   },
   {
    "duration": 787,
    "start_time": "2022-10-07T08:53:20.150Z"
   },
   {
    "duration": 33,
    "start_time": "2022-10-07T08:53:21.455Z"
   },
   {
    "duration": 20,
    "start_time": "2022-10-07T08:53:22.250Z"
   },
   {
    "duration": 11,
    "start_time": "2022-10-07T08:53:23.517Z"
   },
   {
    "duration": 43,
    "start_time": "2022-10-07T08:53:24.227Z"
   },
   {
    "duration": 4,
    "start_time": "2022-10-07T08:53:25.139Z"
   },
   {
    "duration": 12,
    "start_time": "2022-10-07T08:53:25.796Z"
   },
   {
    "duration": 5,
    "start_time": "2022-10-07T08:53:27.338Z"
   },
   {
    "duration": 8,
    "start_time": "2022-10-07T08:53:28.489Z"
   },
   {
    "duration": 5,
    "start_time": "2022-10-07T08:53:29.237Z"
   },
   {
    "duration": 40,
    "start_time": "2022-10-07T08:53:30.246Z"
   },
   {
    "duration": 12,
    "start_time": "2022-10-07T08:53:30.889Z"
   },
   {
    "duration": 4,
    "start_time": "2022-10-07T08:53:32.236Z"
   },
   {
    "duration": 12,
    "start_time": "2022-10-07T08:53:33.581Z"
   },
   {
    "duration": 24,
    "start_time": "2022-10-07T08:53:34.689Z"
   },
   {
    "duration": 20,
    "start_time": "2022-10-07T08:53:35.276Z"
   },
   {
    "duration": 4,
    "start_time": "2022-10-07T08:53:37.069Z"
   },
   {
    "duration": 12,
    "start_time": "2022-10-07T08:53:37.771Z"
   },
   {
    "duration": 8,
    "start_time": "2022-10-07T08:53:38.786Z"
   },
   {
    "duration": 3,
    "start_time": "2022-10-07T08:53:39.976Z"
   },
   {
    "duration": 9,
    "start_time": "2022-10-07T08:53:40.467Z"
   },
   {
    "duration": 16,
    "start_time": "2022-10-07T08:53:42.708Z"
   },
   {
    "duration": 17,
    "start_time": "2022-10-07T08:53:45.370Z"
   },
   {
    "duration": 24,
    "start_time": "2022-10-07T08:56:31.358Z"
   },
   {
    "duration": 21,
    "start_time": "2022-10-07T08:56:37.475Z"
   },
   {
    "duration": 79,
    "start_time": "2022-10-07T08:57:51.170Z"
   },
   {
    "duration": 25,
    "start_time": "2022-10-07T08:57:55.505Z"
   },
   {
    "duration": 21,
    "start_time": "2022-10-07T08:58:06.956Z"
   },
   {
    "duration": 689,
    "start_time": "2022-10-09T15:53:14.268Z"
   },
   {
    "duration": 26,
    "start_time": "2022-10-09T15:53:15.825Z"
   },
   {
    "duration": 15,
    "start_time": "2022-10-09T15:53:17.104Z"
   },
   {
    "duration": 13,
    "start_time": "2022-10-09T15:53:19.166Z"
   },
   {
    "duration": 36,
    "start_time": "2022-10-09T15:53:20.285Z"
   },
   {
    "duration": 4,
    "start_time": "2022-10-09T15:53:21.655Z"
   },
   {
    "duration": 8,
    "start_time": "2022-10-09T15:53:22.457Z"
   },
   {
    "duration": 6,
    "start_time": "2022-10-09T15:53:23.977Z"
   },
   {
    "duration": 7,
    "start_time": "2022-10-09T15:53:24.932Z"
   },
   {
    "duration": 5,
    "start_time": "2022-10-09T15:53:25.999Z"
   },
   {
    "duration": 34,
    "start_time": "2022-10-09T15:53:27.602Z"
   },
   {
    "duration": 11,
    "start_time": "2022-10-09T15:53:28.582Z"
   },
   {
    "duration": 5,
    "start_time": "2022-10-09T15:53:30.264Z"
   },
   {
    "duration": 11,
    "start_time": "2022-10-09T15:53:31.652Z"
   },
   {
    "duration": 19,
    "start_time": "2022-10-09T15:53:32.759Z"
   },
   {
    "duration": 19,
    "start_time": "2022-10-09T15:53:33.295Z"
   },
   {
    "duration": 4,
    "start_time": "2022-10-09T15:53:34.811Z"
   },
   {
    "duration": 10,
    "start_time": "2022-10-09T15:53:35.341Z"
   },
   {
    "duration": 6,
    "start_time": "2022-10-09T15:53:36.415Z"
   },
   {
    "duration": 3,
    "start_time": "2022-10-09T15:53:37.584Z"
   },
   {
    "duration": 8,
    "start_time": "2022-10-09T15:53:38.103Z"
   },
   {
    "duration": 19,
    "start_time": "2022-10-09T15:53:39.690Z"
   },
   {
    "duration": 12,
    "start_time": "2022-10-09T15:53:43.400Z"
   },
   {
    "duration": 78,
    "start_time": "2022-10-09T15:55:30.115Z"
   },
   {
    "duration": 20,
    "start_time": "2022-10-09T15:55:48.622Z"
   },
   {
    "duration": 16,
    "start_time": "2022-10-09T15:56:37.990Z"
   },
   {
    "duration": 7,
    "start_time": "2022-10-09T16:01:29.575Z"
   },
   {
    "duration": 11,
    "start_time": "2022-10-09T16:03:36.082Z"
   },
   {
    "duration": 16,
    "start_time": "2022-10-09T16:04:33.183Z"
   },
   {
    "duration": 15,
    "start_time": "2022-10-09T16:05:33.695Z"
   },
   {
    "duration": 18,
    "start_time": "2022-10-09T16:05:40.828Z"
   },
   {
    "duration": 17,
    "start_time": "2022-10-09T16:07:42.171Z"
   },
   {
    "duration": 8,
    "start_time": "2022-10-09T16:12:23.707Z"
   },
   {
    "duration": 5,
    "start_time": "2022-10-09T16:13:32.014Z"
   },
   {
    "duration": 6,
    "start_time": "2022-10-09T16:14:36.192Z"
   },
   {
    "duration": 8,
    "start_time": "2022-10-09T16:14:39.433Z"
   },
   {
    "duration": 8,
    "start_time": "2022-10-09T16:14:54.730Z"
   },
   {
    "duration": 7,
    "start_time": "2022-10-09T16:15:24.560Z"
   },
   {
    "duration": 8,
    "start_time": "2022-10-09T16:15:29.488Z"
   },
   {
    "duration": 7,
    "start_time": "2022-10-09T16:16:04.928Z"
   },
   {
    "duration": 8,
    "start_time": "2022-10-09T16:16:10.135Z"
   },
   {
    "duration": 7,
    "start_time": "2022-10-09T16:16:14.811Z"
   },
   {
    "duration": 3,
    "start_time": "2022-10-09T16:16:18.645Z"
   },
   {
    "duration": 8,
    "start_time": "2022-10-09T16:17:13.241Z"
   },
   {
    "duration": 8,
    "start_time": "2022-10-09T16:17:41.463Z"
   },
   {
    "duration": 7,
    "start_time": "2022-10-09T16:17:47.331Z"
   },
   {
    "duration": 69,
    "start_time": "2022-10-09T16:17:52.762Z"
   },
   {
    "duration": 16,
    "start_time": "2022-10-09T16:17:54.237Z"
   },
   {
    "duration": 14,
    "start_time": "2022-10-09T16:17:55.782Z"
   },
   {
    "duration": 11,
    "start_time": "2022-10-09T16:17:57.423Z"
   },
   {
    "duration": 34,
    "start_time": "2022-10-09T16:17:58.354Z"
   },
   {
    "duration": 5,
    "start_time": "2022-10-09T16:17:59.431Z"
   },
   {
    "duration": 9,
    "start_time": "2022-10-09T16:18:00.031Z"
   },
   {
    "duration": 5,
    "start_time": "2022-10-09T16:18:01.011Z"
   },
   {
    "duration": 7,
    "start_time": "2022-10-09T16:18:01.790Z"
   },
   {
    "duration": 5,
    "start_time": "2022-10-09T16:18:02.994Z"
   },
   {
    "duration": 35,
    "start_time": "2022-10-09T16:18:04.779Z"
   },
   {
    "duration": 10,
    "start_time": "2022-10-09T16:18:05.741Z"
   },
   {
    "duration": 4,
    "start_time": "2022-10-09T16:18:07.451Z"
   },
   {
    "duration": 11,
    "start_time": "2022-10-09T16:18:08.820Z"
   },
   {
    "duration": 22,
    "start_time": "2022-10-09T16:18:09.932Z"
   },
   {
    "duration": 19,
    "start_time": "2022-10-09T16:18:10.542Z"
   },
   {
    "duration": 3,
    "start_time": "2022-10-09T16:18:12.237Z"
   },
   {
    "duration": 11,
    "start_time": "2022-10-09T16:18:12.862Z"
   },
   {
    "duration": 6,
    "start_time": "2022-10-09T16:18:14.177Z"
   },
   {
    "duration": 4,
    "start_time": "2022-10-09T16:18:15.463Z"
   },
   {
    "duration": 11,
    "start_time": "2022-10-09T16:18:16.039Z"
   },
   {
    "duration": 17,
    "start_time": "2022-10-09T16:18:17.950Z"
   },
   {
    "duration": 12,
    "start_time": "2022-10-09T16:18:20.565Z"
   },
   {
    "duration": 7,
    "start_time": "2022-10-09T16:18:23.768Z"
   },
   {
    "duration": 5,
    "start_time": "2022-10-09T16:18:46.740Z"
   },
   {
    "duration": 7,
    "start_time": "2022-10-09T16:19:53.244Z"
   },
   {
    "duration": 8,
    "start_time": "2022-10-09T16:19:58.937Z"
   },
   {
    "duration": 10,
    "start_time": "2022-10-09T16:20:15.844Z"
   },
   {
    "duration": 11,
    "start_time": "2022-10-09T16:20:24.706Z"
   },
   {
    "duration": 30,
    "start_time": "2022-10-09T16:20:39.959Z"
   },
   {
    "duration": 29,
    "start_time": "2022-10-09T16:20:46.727Z"
   },
   {
    "duration": 28,
    "start_time": "2022-10-09T16:22:51.691Z"
   },
   {
    "duration": 22,
    "start_time": "2022-10-09T16:23:14.412Z"
   },
   {
    "duration": 42,
    "start_time": "2022-10-09T16:28:42.676Z"
   },
   {
    "duration": 4,
    "start_time": "2022-10-09T16:32:55.098Z"
   },
   {
    "duration": 21,
    "start_time": "2022-10-09T16:32:58.487Z"
   },
   {
    "duration": 25,
    "start_time": "2022-10-09T16:33:18.733Z"
   },
   {
    "duration": 24,
    "start_time": "2022-10-09T16:33:43.377Z"
   },
   {
    "duration": 32,
    "start_time": "2022-10-09T16:33:56.012Z"
   },
   {
    "duration": 21,
    "start_time": "2022-10-09T16:34:01.031Z"
   },
   {
    "duration": 21,
    "start_time": "2022-10-09T16:34:03.145Z"
   },
   {
    "duration": 28,
    "start_time": "2022-10-09T16:34:18.414Z"
   },
   {
    "duration": 237,
    "start_time": "2022-10-09T16:35:36.960Z"
   },
   {
    "duration": 9,
    "start_time": "2022-10-09T16:36:36.408Z"
   },
   {
    "duration": 7,
    "start_time": "2022-10-09T16:39:48.251Z"
   },
   {
    "duration": 10,
    "start_time": "2022-10-09T16:40:05.484Z"
   },
   {
    "duration": 6,
    "start_time": "2022-10-09T16:40:07.315Z"
   },
   {
    "duration": 4,
    "start_time": "2022-10-09T16:40:08.297Z"
   },
   {
    "duration": 8,
    "start_time": "2022-10-09T16:40:08.686Z"
   },
   {
    "duration": 16,
    "start_time": "2022-10-09T16:40:09.890Z"
   },
   {
    "duration": 13,
    "start_time": "2022-10-09T16:40:11.742Z"
   },
   {
    "duration": 8,
    "start_time": "2022-10-09T16:40:18.067Z"
   },
   {
    "duration": 8,
    "start_time": "2022-10-09T16:40:26.327Z"
   },
   {
    "duration": 11,
    "start_time": "2022-10-09T16:42:17.658Z"
   },
   {
    "duration": 13,
    "start_time": "2022-10-09T16:43:32.284Z"
   },
   {
    "duration": 20,
    "start_time": "2022-10-09T16:43:42.595Z"
   },
   {
    "duration": 23,
    "start_time": "2022-10-09T16:45:48.501Z"
   },
   {
    "duration": 7,
    "start_time": "2022-10-09T16:48:54.587Z"
   },
   {
    "duration": 12,
    "start_time": "2022-10-09T16:49:42.744Z"
   },
   {
    "duration": 11,
    "start_time": "2022-10-09T16:50:05.902Z"
   },
   {
    "duration": 10,
    "start_time": "2022-10-09T16:50:43.706Z"
   },
   {
    "duration": 14,
    "start_time": "2022-10-09T16:50:48.098Z"
   },
   {
    "duration": 16,
    "start_time": "2022-10-09T16:51:07.101Z"
   },
   {
    "duration": 20,
    "start_time": "2022-10-09T16:51:14.468Z"
   },
   {
    "duration": 16,
    "start_time": "2022-10-09T16:52:17.768Z"
   },
   {
    "duration": 15,
    "start_time": "2022-10-09T16:52:36.758Z"
   },
   {
    "duration": 19,
    "start_time": "2022-10-09T16:53:51.329Z"
   },
   {
    "duration": 14,
    "start_time": "2022-10-09T17:07:16.380Z"
   },
   {
    "duration": 131,
    "start_time": "2022-10-09T17:29:10.804Z"
   },
   {
    "duration": 85,
    "start_time": "2022-10-10T09:34:21.613Z"
   },
   {
    "duration": 151,
    "start_time": "2022-10-10T09:36:04.069Z"
   },
   {
    "duration": 130,
    "start_time": "2022-10-10T09:36:41.365Z"
   },
   {
    "duration": 100,
    "start_time": "2022-10-10T10:33:30.462Z"
   },
   {
    "duration": 106,
    "start_time": "2022-10-10T10:33:53.706Z"
   },
   {
    "duration": 84,
    "start_time": "2022-10-10T10:34:14.006Z"
   },
   {
    "duration": 146,
    "start_time": "2022-10-10T10:34:24.942Z"
   },
   {
    "duration": 218,
    "start_time": "2022-10-10T10:36:21.407Z"
   },
   {
    "duration": 212,
    "start_time": "2022-10-10T10:37:50.656Z"
   },
   {
    "duration": 625,
    "start_time": "2022-10-10T10:39:07.674Z"
   },
   {
    "duration": 26,
    "start_time": "2022-10-10T10:39:08.301Z"
   },
   {
    "duration": 21,
    "start_time": "2022-10-10T10:39:08.329Z"
   },
   {
    "duration": 11,
    "start_time": "2022-10-10T10:39:08.352Z"
   },
   {
    "duration": 56,
    "start_time": "2022-10-10T10:39:08.365Z"
   },
   {
    "duration": 5,
    "start_time": "2022-10-10T10:39:08.424Z"
   },
   {
    "duration": 19,
    "start_time": "2022-10-10T10:39:08.431Z"
   },
   {
    "duration": 8,
    "start_time": "2022-10-10T10:39:08.452Z"
   },
   {
    "duration": 34,
    "start_time": "2022-10-10T10:39:08.461Z"
   },
   {
    "duration": 6,
    "start_time": "2022-10-10T10:39:08.499Z"
   },
   {
    "duration": 59,
    "start_time": "2022-10-10T10:39:08.507Z"
   },
   {
    "duration": 35,
    "start_time": "2022-10-10T10:39:08.569Z"
   },
   {
    "duration": 5,
    "start_time": "2022-10-10T10:39:08.606Z"
   },
   {
    "duration": 26,
    "start_time": "2022-10-10T10:39:08.614Z"
   },
   {
    "duration": 49,
    "start_time": "2022-10-10T10:39:08.642Z"
   },
   {
    "duration": 19,
    "start_time": "2022-10-10T10:39:08.693Z"
   },
   {
    "duration": 4,
    "start_time": "2022-10-10T10:39:08.714Z"
   },
   {
    "duration": 15,
    "start_time": "2022-10-10T10:39:08.720Z"
   },
   {
    "duration": 9,
    "start_time": "2022-10-10T10:39:08.737Z"
   },
   {
    "duration": 4,
    "start_time": "2022-10-10T10:39:08.748Z"
   },
   {
    "duration": 39,
    "start_time": "2022-10-10T10:39:08.754Z"
   },
   {
    "duration": 15,
    "start_time": "2022-10-10T10:39:08.795Z"
   },
   {
    "duration": 18,
    "start_time": "2022-10-10T10:39:08.812Z"
   },
   {
    "duration": 16,
    "start_time": "2022-10-10T10:39:08.832Z"
   },
   {
    "duration": 54,
    "start_time": "2022-10-10T10:39:08.850Z"
   },
   {
    "duration": 18,
    "start_time": "2022-10-10T10:39:48.060Z"
   },
   {
    "duration": 11,
    "start_time": "2022-10-10T10:41:22.677Z"
   },
   {
    "duration": 15,
    "start_time": "2022-10-10T10:41:30.684Z"
   },
   {
    "duration": 85,
    "start_time": "2022-10-10T10:46:35.226Z"
   },
   {
    "duration": 15,
    "start_time": "2022-10-10T10:46:55.929Z"
   },
   {
    "duration": 72,
    "start_time": "2022-10-10T10:47:07.797Z"
   },
   {
    "duration": 15,
    "start_time": "2022-10-10T10:47:12.697Z"
   },
   {
    "duration": 14,
    "start_time": "2022-10-10T10:47:22.838Z"
   },
   {
    "duration": 14,
    "start_time": "2022-10-10T10:47:27.735Z"
   },
   {
    "duration": 12,
    "start_time": "2022-10-10T10:47:33.127Z"
   },
   {
    "duration": 15,
    "start_time": "2022-10-10T10:47:42.939Z"
   },
   {
    "duration": 43,
    "start_time": "2022-10-10T10:51:59.811Z"
   },
   {
    "duration": 25,
    "start_time": "2022-10-10T10:52:11.382Z"
   },
   {
    "duration": 31,
    "start_time": "2022-10-10T10:52:45.357Z"
   },
   {
    "duration": 15,
    "start_time": "2022-10-10T10:52:56.541Z"
   },
   {
    "duration": 12,
    "start_time": "2022-10-10T10:54:37.583Z"
   },
   {
    "duration": 19,
    "start_time": "2022-10-10T10:54:49.467Z"
   },
   {
    "duration": 14,
    "start_time": "2022-10-10T10:55:17.301Z"
   },
   {
    "duration": 11,
    "start_time": "2022-10-10T10:55:25.078Z"
   },
   {
    "duration": 13,
    "start_time": "2022-10-10T10:55:34.413Z"
   },
   {
    "duration": 12,
    "start_time": "2022-10-10T10:55:43.261Z"
   },
   {
    "duration": 24,
    "start_time": "2022-10-10T10:59:23.787Z"
   },
   {
    "duration": 19,
    "start_time": "2022-10-10T10:59:30.057Z"
   },
   {
    "duration": 19,
    "start_time": "2022-10-10T10:59:47.408Z"
   },
   {
    "duration": 11,
    "start_time": "2022-10-10T11:00:27.026Z"
   },
   {
    "duration": 33,
    "start_time": "2022-10-10T11:05:26.629Z"
   },
   {
    "duration": 11,
    "start_time": "2022-10-10T11:06:30.893Z"
   },
   {
    "duration": 18,
    "start_time": "2022-10-10T11:08:40.769Z"
   },
   {
    "duration": 16,
    "start_time": "2022-10-10T11:09:13.240Z"
   },
   {
    "duration": 115,
    "start_time": "2022-10-10T11:12:39.108Z"
   },
   {
    "duration": 16,
    "start_time": "2022-10-10T11:14:12.171Z"
   },
   {
    "duration": 20,
    "start_time": "2022-10-10T11:14:32.197Z"
   },
   {
    "duration": 111,
    "start_time": "2022-10-10T11:15:09.337Z"
   },
   {
    "duration": 27,
    "start_time": "2022-10-10T11:15:30.191Z"
   },
   {
    "duration": 20,
    "start_time": "2022-10-10T11:15:51.801Z"
   },
   {
    "duration": 17,
    "start_time": "2022-10-10T11:16:02.306Z"
   },
   {
    "duration": 19,
    "start_time": "2022-10-10T11:16:12.116Z"
   },
   {
    "duration": 19,
    "start_time": "2022-10-10T11:16:47.052Z"
   },
   {
    "duration": 14,
    "start_time": "2022-10-10T11:17:05.967Z"
   },
   {
    "duration": 12,
    "start_time": "2022-10-10T11:17:21.060Z"
   },
   {
    "duration": 18,
    "start_time": "2022-10-10T11:17:44.545Z"
   },
   {
    "duration": 10,
    "start_time": "2022-10-10T11:18:00.942Z"
   },
   {
    "duration": 11,
    "start_time": "2022-10-10T11:18:26.528Z"
   },
   {
    "duration": 15,
    "start_time": "2022-10-10T11:31:35.964Z"
   },
   {
    "duration": 176,
    "start_time": "2022-10-10T11:40:39.835Z"
   },
   {
    "duration": 110,
    "start_time": "2022-10-10T11:40:43.669Z"
   },
   {
    "duration": 18,
    "start_time": "2022-10-10T11:41:06.524Z"
   },
   {
    "duration": 19,
    "start_time": "2022-10-10T11:41:27.005Z"
   },
   {
    "duration": 864,
    "start_time": "2022-10-10T11:41:35.113Z"
   },
   {
    "duration": 20,
    "start_time": "2022-10-10T11:41:40.439Z"
   },
   {
    "duration": 25,
    "start_time": "2022-10-10T11:43:07.454Z"
   },
   {
    "duration": 23,
    "start_time": "2022-10-10T11:43:18.937Z"
   },
   {
    "duration": 23,
    "start_time": "2022-10-10T11:43:28.336Z"
   },
   {
    "duration": 26,
    "start_time": "2022-10-10T11:44:58.437Z"
   },
   {
    "duration": 28,
    "start_time": "2022-10-10T11:45:07.676Z"
   },
   {
    "duration": 26,
    "start_time": "2022-10-10T11:45:25.817Z"
   },
   {
    "duration": 142,
    "start_time": "2022-10-10T11:46:45.976Z"
   },
   {
    "duration": 27,
    "start_time": "2022-10-10T11:47:11.723Z"
   },
   {
    "duration": 27,
    "start_time": "2022-10-10T11:47:24.505Z"
   },
   {
    "duration": 25,
    "start_time": "2022-10-10T11:47:40.591Z"
   },
   {
    "duration": 12,
    "start_time": "2022-10-10T11:47:44.907Z"
   },
   {
    "duration": 28,
    "start_time": "2022-10-10T11:47:52.303Z"
   },
   {
    "duration": 60,
    "start_time": "2022-10-10T17:31:52.492Z"
   },
   {
    "duration": 77,
    "start_time": "2022-10-10T17:32:56.043Z"
   }
  ],
  "colab": {
   "name": "dpp_template_part2.ipynb",
   "provenance": []
  },
  "kernelspec": {
   "display_name": "Python 3 (ipykernel)",
   "language": "python",
   "name": "python3"
  },
  "language_info": {
   "codemirror_mode": {
    "name": "ipython",
    "version": 3
   },
   "file_extension": ".py",
   "mimetype": "text/x-python",
   "name": "python",
   "nbconvert_exporter": "python",
   "pygments_lexer": "ipython3",
   "version": "3.10.2"
  },
  "toc": {
   "base_numbering": 1,
   "nav_menu": {},
   "number_sections": true,
   "sideBar": true,
   "skip_h1_title": true,
   "title_cell": "Table of Contents",
   "title_sidebar": "Contents",
   "toc_cell": false,
   "toc_position": {},
   "toc_section_display": true,
   "toc_window_display": false
  }
 },
 "nbformat": 4,
 "nbformat_minor": 5
}
