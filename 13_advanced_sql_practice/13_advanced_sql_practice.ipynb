{
 "cells": [
  {
   "cell_type": "markdown",
   "metadata": {
    "id": "sRW85nPMDWKb"
   },
   "source": [
    "В этой части проекта вам нужно написать несколько SQL-запросов в Jupyter Notebook. Эти задания проверят вручную, и вы получите комментарии к составленным запросам. \n",
    "\n",
    "Необходимые данные находятся в таблицах схемы `stackoverflow`. Не забудьте подключиться к базе с помощью SQLAlchemy. Вспомните инструкцию из урока 11 «Когортный анализ. Представление результатов» в теме 2 «Установка и настройка базы данных и клиента базы данных».. Пример кода для подключения к базе и выгрузки результатов вы найдёте и в этой тетрадке. \n",
    "\n",
    "Некоторые задания включают дополнительные вопросы — не пропустите их. На часть вопросов можно ответить текстом, а для некоторых понадобится визуализация. Помните, что результат запроса можно выгрузить в датафрейм. \n",
    "\n",
    "Чтобы ожидаемый результат было легче представить, мы добавили к каждому заданию небольшой фрагмент итоговой таблицы. В запросах вы можете использовать любые подходящие названия полей."
   ]
  },
  {
   "cell_type": "code",
   "execution_count": 1,
   "metadata": {
    "id": "nlZBlglMDWKe"
   },
   "outputs": [],
   "source": [
    "import pandas as pd\n",
    "import matplotlib.pyplot as plt\n",
    "from sqlalchemy import create_engine\n",
    "\n",
    "import seaborn as sns"
   ]
  },
  {
   "cell_type": "markdown",
   "metadata": {
    "id": "XnOE3n28DWKg"
   },
   "source": [
    "### Конфигурация для подключения к базе данных `data-analyst-advanced-sql`\n",
    "Эта база данных содержит схему `stackoverflow`, с которой вы будете работать в проекте"
   ]
  },
  {
   "cell_type": "code",
   "execution_count": 2,
   "metadata": {
    "id": "6p-yGp7qDWKg"
   },
   "outputs": [],
   "source": [
    "db_config = {\n",
    "    'user': 'praktikum_student', # имя пользователя\n",
    "    'pwd': 'Sdf4$2;d-d30pp', # пароль\n",
    "    'host': 'rc1b-wcoijxj3yxfsf3fs.mdb.yandexcloud.net',\n",
    "    'port': 6432, # порт подключения\n",
    "    'db': 'data-analyst-advanced-sql' # название базы данных\n",
    "}  \n",
    "\n",
    "connection_string = 'postgresql://{}:{}@{}:{}/{}'.format(\n",
    "    db_config['user'],\n",
    "    db_config['pwd'],\n",
    "    db_config['host'],\n",
    "    db_config['port'],\n",
    "    db_config['db'],\n",
    ")"
   ]
  },
  {
   "cell_type": "markdown",
   "metadata": {
    "id": "2Rg8ZpS0DWKh"
   },
   "source": [
    "Создание подключения"
   ]
  },
  {
   "cell_type": "code",
   "execution_count": 3,
   "metadata": {
    "id": "DamCUTR6DWKi"
   },
   "outputs": [],
   "source": [
    "engine = create_engine(connection_string) "
   ]
  },
  {
   "cell_type": "markdown",
   "metadata": {
    "id": "bel8XeSlDWKj"
   },
   "source": [
    "Пример запроса к базе данных\n",
    "\n",
    "`sample_df` является pandas-датафреймом."
   ]
  },
  {
   "cell_type": "code",
   "execution_count": 4,
   "metadata": {
    "id": "6Z_fw0yLDWKk"
   },
   "outputs": [],
   "source": [
    "query = '''\n",
    "SELECT *\n",
    "FROM stackoverflow.users\n",
    "LIMIT 10;\n",
    "'''\n",
    "\n",
    "sample_df = pd.read_sql_query(query, con=engine) "
   ]
  },
  {
   "cell_type": "code",
   "execution_count": 5,
   "metadata": {
    "id": "ZpuZ290oDWKk",
    "outputId": "22785a0a-e2bc-4559-ec3c-4879c4b377eb"
   },
   "outputs": [
    {
     "data": {
      "text/html": [
       "<div>\n",
       "<style scoped>\n",
       "    .dataframe tbody tr th:only-of-type {\n",
       "        vertical-align: middle;\n",
       "    }\n",
       "\n",
       "    .dataframe tbody tr th {\n",
       "        vertical-align: top;\n",
       "    }\n",
       "\n",
       "    .dataframe thead th {\n",
       "        text-align: right;\n",
       "    }\n",
       "</style>\n",
       "<table border=\"1\" class=\"dataframe\">\n",
       "  <thead>\n",
       "    <tr style=\"text-align: right;\">\n",
       "      <th></th>\n",
       "      <th>id</th>\n",
       "      <th>creation_date</th>\n",
       "      <th>display_name</th>\n",
       "      <th>last_access_date</th>\n",
       "      <th>location</th>\n",
       "      <th>reputation</th>\n",
       "      <th>views</th>\n",
       "    </tr>\n",
       "  </thead>\n",
       "  <tbody>\n",
       "    <tr>\n",
       "      <th>0</th>\n",
       "      <td>1</td>\n",
       "      <td>2008-07-31 14:22:31</td>\n",
       "      <td>Jeff Atwood</td>\n",
       "      <td>2018-08-29 02:34:23</td>\n",
       "      <td>El Cerrito, CA</td>\n",
       "      <td>44300</td>\n",
       "      <td>408587</td>\n",
       "    </tr>\n",
       "    <tr>\n",
       "      <th>1</th>\n",
       "      <td>2</td>\n",
       "      <td>2008-07-31 14:22:31</td>\n",
       "      <td>Geoff Dalgas</td>\n",
       "      <td>2018-08-23 17:31:56</td>\n",
       "      <td>Corvallis, OR</td>\n",
       "      <td>3491</td>\n",
       "      <td>23966</td>\n",
       "    </tr>\n",
       "    <tr>\n",
       "      <th>2</th>\n",
       "      <td>3</td>\n",
       "      <td>2008-07-31 14:22:31</td>\n",
       "      <td>Jarrod Dixon</td>\n",
       "      <td>2018-08-30 20:56:24</td>\n",
       "      <td>Raleigh, NC, United States</td>\n",
       "      <td>13418</td>\n",
       "      <td>24396</td>\n",
       "    </tr>\n",
       "    <tr>\n",
       "      <th>3</th>\n",
       "      <td>4</td>\n",
       "      <td>2008-07-31 14:22:31</td>\n",
       "      <td>Joel Spolsky</td>\n",
       "      <td>2018-08-14 22:18:15</td>\n",
       "      <td>New York, NY</td>\n",
       "      <td>28768</td>\n",
       "      <td>73755</td>\n",
       "    </tr>\n",
       "    <tr>\n",
       "      <th>4</th>\n",
       "      <td>5</td>\n",
       "      <td>2008-07-31 14:22:31</td>\n",
       "      <td>Jon Galloway</td>\n",
       "      <td>2018-08-29 16:48:36</td>\n",
       "      <td>San Diego, CA</td>\n",
       "      <td>39172</td>\n",
       "      <td>11700</td>\n",
       "    </tr>\n",
       "    <tr>\n",
       "      <th>5</th>\n",
       "      <td>8</td>\n",
       "      <td>2008-07-31 21:33:24</td>\n",
       "      <td>Eggs McLaren</td>\n",
       "      <td>2018-04-09 02:04:56</td>\n",
       "      <td>None</td>\n",
       "      <td>942</td>\n",
       "      <td>6372</td>\n",
       "    </tr>\n",
       "    <tr>\n",
       "      <th>6</th>\n",
       "      <td>9</td>\n",
       "      <td>2008-07-31 21:35:27</td>\n",
       "      <td>Kevin Dente</td>\n",
       "      <td>2018-08-30 18:18:03</td>\n",
       "      <td>Oakland, CA</td>\n",
       "      <td>14337</td>\n",
       "      <td>4949</td>\n",
       "    </tr>\n",
       "    <tr>\n",
       "      <th>7</th>\n",
       "      <td>11</td>\n",
       "      <td>2008-08-01 00:59:11</td>\n",
       "      <td>Anonymous User</td>\n",
       "      <td>2008-08-01 00:59:11</td>\n",
       "      <td>None</td>\n",
       "      <td>1890</td>\n",
       "      <td>2123</td>\n",
       "    </tr>\n",
       "    <tr>\n",
       "      <th>8</th>\n",
       "      <td>13</td>\n",
       "      <td>2008-08-01 04:18:05</td>\n",
       "      <td>Chris Jester-Young</td>\n",
       "      <td>2018-08-30 02:47:23</td>\n",
       "      <td>Raleigh, NC, United States</td>\n",
       "      <td>177138</td>\n",
       "      <td>35414</td>\n",
       "    </tr>\n",
       "    <tr>\n",
       "      <th>9</th>\n",
       "      <td>17</td>\n",
       "      <td>2008-08-01 12:02:22</td>\n",
       "      <td>Nick Berardi</td>\n",
       "      <td>2018-01-22 01:35:38</td>\n",
       "      <td>Issaquah, WA</td>\n",
       "      <td>44443</td>\n",
       "      <td>4786</td>\n",
       "    </tr>\n",
       "  </tbody>\n",
       "</table>\n",
       "</div>"
      ],
      "text/plain": [
       "   id       creation_date        display_name    last_access_date  \\\n",
       "0   1 2008-07-31 14:22:31         Jeff Atwood 2018-08-29 02:34:23   \n",
       "1   2 2008-07-31 14:22:31        Geoff Dalgas 2018-08-23 17:31:56   \n",
       "2   3 2008-07-31 14:22:31        Jarrod Dixon 2018-08-30 20:56:24   \n",
       "3   4 2008-07-31 14:22:31        Joel Spolsky 2018-08-14 22:18:15   \n",
       "4   5 2008-07-31 14:22:31        Jon Galloway 2018-08-29 16:48:36   \n",
       "5   8 2008-07-31 21:33:24        Eggs McLaren 2018-04-09 02:04:56   \n",
       "6   9 2008-07-31 21:35:27         Kevin Dente 2018-08-30 18:18:03   \n",
       "7  11 2008-08-01 00:59:11      Anonymous User 2008-08-01 00:59:11   \n",
       "8  13 2008-08-01 04:18:05  Chris Jester-Young 2018-08-30 02:47:23   \n",
       "9  17 2008-08-01 12:02:22        Nick Berardi 2018-01-22 01:35:38   \n",
       "\n",
       "                     location  reputation   views  \n",
       "0              El Cerrito, CA       44300  408587  \n",
       "1               Corvallis, OR        3491   23966  \n",
       "2  Raleigh, NC, United States       13418   24396  \n",
       "3                New York, NY       28768   73755  \n",
       "4               San Diego, CA       39172   11700  \n",
       "5                        None         942    6372  \n",
       "6                 Oakland, CA       14337    4949  \n",
       "7                        None        1890    2123  \n",
       "8  Raleigh, NC, United States      177138   35414  \n",
       "9                Issaquah, WA       44443    4786  "
      ]
     },
     "execution_count": 5,
     "metadata": {},
     "output_type": "execute_result"
    }
   ],
   "source": [
    "sample_df"
   ]
  },
  {
   "cell_type": "markdown",
   "metadata": {
    "id": "gnBMXkDBDWKm"
   },
   "source": [
    "# Задание 1"
   ]
  },
  {
   "cell_type": "markdown",
   "metadata": {
    "id": "vHsfOrrNDWKn"
   },
   "source": [
    "Выведите общую сумму просмотров постов за каждый месяц 2008 года. Если данных за какой-либо месяц в базе нет, такой месяц можно пропустить. Результат отсортируйте по убыванию общего количества просмотров."
   ]
  },
  {
   "cell_type": "markdown",
   "metadata": {
    "id": "N5rTgGNmDWKn"
   },
   "source": [
    "| month_date  | total_views |\n",
    "| ------------- | ------------- |\n",
    "| 2008-09-01  | 452928568  |\n",
    "| 2008-10-01  | 365400138  |\n",
    "| ...         | ... |"
   ]
  },
  {
   "cell_type": "code",
   "execution_count": 6,
   "metadata": {
    "id": "eWvykcXTDWKo"
   },
   "outputs": [],
   "source": [
    "# напишите запрос\n",
    "query = '''\n",
    "SELECT DATE_TRUNC('month', creation_date)::date AS month_date,\n",
    "       SUM(views_count) AS total_views\n",
    "FROM stackoverflow.posts\n",
    "WHERE DATE_TRUNC('month', creation_date)::date BETWEEN '2008-01-01' AND '2008-12-31'\n",
    "GROUP BY month_date\n",
    "ORDER BY total_views DESC\n",
    "'''\n",
    "\n",
    "# выполните запрос\n",
    "df = pd.read_sql_query(query, con=engine)"
   ]
  },
  {
   "cell_type": "code",
   "execution_count": 7,
   "metadata": {},
   "outputs": [
    {
     "data": {
      "text/html": [
       "<div>\n",
       "<style scoped>\n",
       "    .dataframe tbody tr th:only-of-type {\n",
       "        vertical-align: middle;\n",
       "    }\n",
       "\n",
       "    .dataframe tbody tr th {\n",
       "        vertical-align: top;\n",
       "    }\n",
       "\n",
       "    .dataframe thead th {\n",
       "        text-align: right;\n",
       "    }\n",
       "</style>\n",
       "<table border=\"1\" class=\"dataframe\">\n",
       "  <thead>\n",
       "    <tr style=\"text-align: right;\">\n",
       "      <th></th>\n",
       "      <th>month_date</th>\n",
       "      <th>total_views</th>\n",
       "    </tr>\n",
       "  </thead>\n",
       "  <tbody>\n",
       "    <tr>\n",
       "      <th>0</th>\n",
       "      <td>2008-09-01</td>\n",
       "      <td>452928568</td>\n",
       "    </tr>\n",
       "    <tr>\n",
       "      <th>1</th>\n",
       "      <td>2008-10-01</td>\n",
       "      <td>365400138</td>\n",
       "    </tr>\n",
       "    <tr>\n",
       "      <th>2</th>\n",
       "      <td>2008-11-01</td>\n",
       "      <td>221759651</td>\n",
       "    </tr>\n",
       "    <tr>\n",
       "      <th>3</th>\n",
       "      <td>2008-12-01</td>\n",
       "      <td>197792841</td>\n",
       "    </tr>\n",
       "    <tr>\n",
       "      <th>4</th>\n",
       "      <td>2008-08-01</td>\n",
       "      <td>131367083</td>\n",
       "    </tr>\n",
       "    <tr>\n",
       "      <th>5</th>\n",
       "      <td>2008-07-01</td>\n",
       "      <td>669895</td>\n",
       "    </tr>\n",
       "  </tbody>\n",
       "</table>\n",
       "</div>"
      ],
      "text/plain": [
       "   month_date  total_views\n",
       "0  2008-09-01    452928568\n",
       "1  2008-10-01    365400138\n",
       "2  2008-11-01    221759651\n",
       "3  2008-12-01    197792841\n",
       "4  2008-08-01    131367083\n",
       "5  2008-07-01       669895"
      ]
     },
     "execution_count": 7,
     "metadata": {},
     "output_type": "execute_result"
    }
   ],
   "source": [
    "df"
   ]
  },
  {
   "cell_type": "markdown",
   "metadata": {
    "id": "XMr_UeU6DWKo"
   },
   "source": [
    "<details>\n",
    "\n",
    "<summary>Подсказка</summary>\n",
    "Используйте функцию для усечения даты, а затем сгруппируйте и отсортируйте данные.\n",
    "</details>"
   ]
  },
  {
   "cell_type": "markdown",
   "metadata": {
    "id": "I_ZvhOxkDWKp"
   },
   "source": [
    "Проанализируйте итоговую таблицу. Отличаются ли данные за разные месяцы? С чем могут быть связаны отличия?"
   ]
  },
  {
   "cell_type": "markdown",
   "metadata": {
    "id": "FziIXkn5DWKr"
   },
   "source": [
    "# Задание 2"
   ]
  },
  {
   "cell_type": "markdown",
   "metadata": {
    "id": "fTGESZvYDWKr"
   },
   "source": [
    "Выведите имена самых активных пользователей, которые в первый месяц после регистрации (включая день регистрации) дали больше 100 ответов. Вопросы, которые задавали пользователи, не учитывайте. Для каждого имени пользователя выведите количество уникальных значений `user_id`. Отсортируйте результат по полю с именами в лексикографическом порядке."
   ]
  },
  {
   "cell_type": "markdown",
   "metadata": {
    "id": "W5-tv6Y3DWKs"
   },
   "source": [
    "| display_name | count |\n",
    "| ------------ | ----- |\n",
    "| 1800 INFORMATION | 1 |\n",
    "| Adam Bellaire | 1 |\n",
    "| Adam Davis | 1 |\n",
    "| ... | ... |"
   ]
  },
  {
   "cell_type": "code",
   "execution_count": 8,
   "metadata": {
    "id": "fIO-y-YjDWKt"
   },
   "outputs": [],
   "source": [
    "# напишите запрос\n",
    "query = '''\n",
    "SELECT display_name,\n",
    "       COUNT(DISTINCT(user_id))\n",
    "FROM stackoverflow.posts AS p\n",
    "JOIN stackoverflow.users AS u ON p.user_id = u.id\n",
    "WHERE (DATE_TRUNC('day', p.creation_date)::date <= DATE_TRUNC('day', u.creation_date) + INTERVAL '1 month') \n",
    "    AND p.post_type_id = 2\n",
    "GROUP BY display_name\n",
    "HAVING COUNT(p.id) > 100\n",
    "ORDER BY display_name\n",
    "'''\n",
    "\n",
    "# выполните запрос\n",
    "df = pd.read_sql_query(query, con=engine)"
   ]
  },
  {
   "cell_type": "code",
   "execution_count": 9,
   "metadata": {},
   "outputs": [
    {
     "data": {
      "text/html": [
       "<div>\n",
       "<style scoped>\n",
       "    .dataframe tbody tr th:only-of-type {\n",
       "        vertical-align: middle;\n",
       "    }\n",
       "\n",
       "    .dataframe tbody tr th {\n",
       "        vertical-align: top;\n",
       "    }\n",
       "\n",
       "    .dataframe thead th {\n",
       "        text-align: right;\n",
       "    }\n",
       "</style>\n",
       "<table border=\"1\" class=\"dataframe\">\n",
       "  <thead>\n",
       "    <tr style=\"text-align: right;\">\n",
       "      <th></th>\n",
       "      <th>display_name</th>\n",
       "      <th>count</th>\n",
       "    </tr>\n",
       "  </thead>\n",
       "  <tbody>\n",
       "    <tr>\n",
       "      <th>0</th>\n",
       "      <td>1800 INFORMATION</td>\n",
       "      <td>1</td>\n",
       "    </tr>\n",
       "    <tr>\n",
       "      <th>1</th>\n",
       "      <td>Adam Bellaire</td>\n",
       "      <td>1</td>\n",
       "    </tr>\n",
       "    <tr>\n",
       "      <th>2</th>\n",
       "      <td>Adam Davis</td>\n",
       "      <td>1</td>\n",
       "    </tr>\n",
       "    <tr>\n",
       "      <th>3</th>\n",
       "      <td>Adam Liss</td>\n",
       "      <td>1</td>\n",
       "    </tr>\n",
       "    <tr>\n",
       "      <th>4</th>\n",
       "      <td>Alan</td>\n",
       "      <td>8</td>\n",
       "    </tr>\n",
       "    <tr>\n",
       "      <th>...</th>\n",
       "      <td>...</td>\n",
       "      <td>...</td>\n",
       "    </tr>\n",
       "    <tr>\n",
       "      <th>74</th>\n",
       "      <td>lomaxx</td>\n",
       "      <td>1</td>\n",
       "    </tr>\n",
       "    <tr>\n",
       "      <th>75</th>\n",
       "      <td>mattlant</td>\n",
       "      <td>1</td>\n",
       "    </tr>\n",
       "    <tr>\n",
       "      <th>76</th>\n",
       "      <td>paxdiablo</td>\n",
       "      <td>1</td>\n",
       "    </tr>\n",
       "    <tr>\n",
       "      <th>77</th>\n",
       "      <td>tvanfosson</td>\n",
       "      <td>1</td>\n",
       "    </tr>\n",
       "    <tr>\n",
       "      <th>78</th>\n",
       "      <td>tzot</td>\n",
       "      <td>1</td>\n",
       "    </tr>\n",
       "  </tbody>\n",
       "</table>\n",
       "<p>79 rows × 2 columns</p>\n",
       "</div>"
      ],
      "text/plain": [
       "        display_name  count\n",
       "0   1800 INFORMATION      1\n",
       "1      Adam Bellaire      1\n",
       "2         Adam Davis      1\n",
       "3          Adam Liss      1\n",
       "4               Alan      8\n",
       "..               ...    ...\n",
       "74            lomaxx      1\n",
       "75          mattlant      1\n",
       "76         paxdiablo      1\n",
       "77        tvanfosson      1\n",
       "78              tzot      1\n",
       "\n",
       "[79 rows x 2 columns]"
      ]
     },
     "execution_count": 9,
     "metadata": {},
     "output_type": "execute_result"
    }
   ],
   "source": [
    "df"
   ]
  },
  {
   "cell_type": "markdown",
   "metadata": {
    "id": "YIqqc-7HDWKt"
   },
   "source": [
    "<details>\n",
    "\n",
    "<summary>Подсказка</summary>\n",
    "Вам нужно присоединить несколько таблиц — изучите внимательнее описание базы. Чтобы добавить промежуток времени к дате, используйте ключевое слово INTERVAL, например, так: <дата> + INTERVAL '1 year 2 months 3 days'\n",
    ".</details>"
   ]
  },
  {
   "cell_type": "markdown",
   "metadata": {
    "id": "I3Wr82TplKpI"
   },
   "source": [
    "Какие аномалии наблюдаются в данных? О чём они говорят?"
   ]
  },
  {
   "cell_type": "code",
   "execution_count": 10,
   "metadata": {
    "id": "CEIGGQ6ODWKy"
   },
   "outputs": [
    {
     "data": {
      "text/plain": [
       "array([[<AxesSubplot:title={'center':'count'}>]], dtype=object)"
      ]
     },
     "execution_count": 10,
     "metadata": {},
     "output_type": "execute_result"
    },
    {
     "data": {
      "image/png": "[encoded data removed]",
      "text/plain": [
       "<Figure size 432x288 with 1 Axes>"
      ]
     },
     "metadata": {
      "needs_background": "light"
     },
     "output_type": "display_data"
    }
   ],
   "source": [
    "# напишите ваш ответ здесь\n",
    "df.hist(bins=30)"
   ]
  },
  {
   "cell_type": "code",
   "execution_count": 11,
   "metadata": {},
   "outputs": [
    {
     "data": {
      "text/plain": [
       "1     60\n",
       "3      2\n",
       "10     2\n",
       "15     2\n",
       "16     2\n",
       "29     2\n",
       "5      1\n",
       "7      1\n",
       "8      1\n",
       "9      1\n",
       "11     1\n",
       "12     1\n",
       "17     1\n",
       "19     1\n",
       "21     1\n",
       "Name: count, dtype: int64"
      ]
     },
     "execution_count": 11,
     "metadata": {},
     "output_type": "execute_result"
    }
   ],
   "source": [
    "df['count'].value_counts()"
   ]
  },
  {
   "cell_type": "markdown",
   "metadata": {
    "id": "JhM2xXj5DWKu"
   },
   "source": [
    "# Задание 3"
   ]
  },
  {
   "cell_type": "markdown",
   "metadata": {
    "id": "IS6xPqyyDWKu"
   },
   "source": [
    "Выведите количество постов за 2008 год по месяцам. Отберите посты от пользователей, которые зарегистрировались в сентябре 2008 года и сделали хотя бы один пост в декабре того же года. Отсортируйте таблицу по значению месяца по убыванию."
   ]
  },
  {
   "cell_type": "markdown",
   "metadata": {
    "id": "WmjhjV2xDWKv"
   },
   "source": [
    "| month | count |\n",
    "| ------|------ |\n",
    "| 2008-12-01 | 17641 |\n",
    "| 2008-11-01 | 18294 |\n",
    "| ... | ... |"
   ]
  },
  {
   "cell_type": "code",
   "execution_count": 12,
   "metadata": {
    "id": "kVu0FB8WDWKv"
   },
   "outputs": [],
   "source": [
    "# напишите запрос\n",
    "query = '''\n",
    "WITH users AS\n",
    "    (SELECT u.id\n",
    "     FROM stackoverflow.users AS u\n",
    "     JOIN stackoverflow.posts AS p ON u.id = p.user_id\n",
    "     WHERE (DATE_TRUNC('month', u.creation_date)::date = '2008-09-01')\n",
    "             AND (DATE_TRUNC('day', p.creation_date)::date BETWEEN '2008-12-01' AND '2008-12-31')\n",
    "    )\n",
    "    \n",
    "SELECT DATE_TRUNC('month', p.creation_date)::date AS month,\n",
    "       COUNT(p.id) AS count\n",
    "FROM stackoverflow.posts AS p\n",
    "JOIN stackoverflow.users AS u ON p.user_id = u.id\n",
    "WHERE (EXTRACT(YEAR FROM CAST(p.creation_date AS date)) = 2008)\n",
    "        AND u.id IN (SELECT *\n",
    "                     FROM users)\n",
    "GROUP BY month\n",
    "ORDER BY month DESC\n",
    "'''\n",
    "\n",
    "# выполните запрос\n",
    "df = pd.read_sql_query(query, con=engine)"
   ]
  },
  {
   "cell_type": "code",
   "execution_count": 13,
   "metadata": {},
   "outputs": [
    {
     "data": {
      "text/html": [
       "<div>\n",
       "<style scoped>\n",
       "    .dataframe tbody tr th:only-of-type {\n",
       "        vertical-align: middle;\n",
       "    }\n",
       "\n",
       "    .dataframe tbody tr th {\n",
       "        vertical-align: top;\n",
       "    }\n",
       "\n",
       "    .dataframe thead th {\n",
       "        text-align: right;\n",
       "    }\n",
       "</style>\n",
       "<table border=\"1\" class=\"dataframe\">\n",
       "  <thead>\n",
       "    <tr style=\"text-align: right;\">\n",
       "      <th></th>\n",
       "      <th>month</th>\n",
       "      <th>count</th>\n",
       "    </tr>\n",
       "  </thead>\n",
       "  <tbody>\n",
       "    <tr>\n",
       "      <th>0</th>\n",
       "      <td>2008-12-01</td>\n",
       "      <td>17641</td>\n",
       "    </tr>\n",
       "    <tr>\n",
       "      <th>1</th>\n",
       "      <td>2008-11-01</td>\n",
       "      <td>18294</td>\n",
       "    </tr>\n",
       "    <tr>\n",
       "      <th>2</th>\n",
       "      <td>2008-10-01</td>\n",
       "      <td>27171</td>\n",
       "    </tr>\n",
       "    <tr>\n",
       "      <th>3</th>\n",
       "      <td>2008-09-01</td>\n",
       "      <td>24870</td>\n",
       "    </tr>\n",
       "    <tr>\n",
       "      <th>4</th>\n",
       "      <td>2008-08-01</td>\n",
       "      <td>32</td>\n",
       "    </tr>\n",
       "  </tbody>\n",
       "</table>\n",
       "</div>"
      ],
      "text/plain": [
       "        month  count\n",
       "0  2008-12-01  17641\n",
       "1  2008-11-01  18294\n",
       "2  2008-10-01  27171\n",
       "3  2008-09-01  24870\n",
       "4  2008-08-01     32"
      ]
     },
     "execution_count": 13,
     "metadata": {},
     "output_type": "execute_result"
    }
   ],
   "source": [
    "df"
   ]
  },
  {
   "cell_type": "markdown",
   "metadata": {
    "id": "nWf0JsTMDWKx"
   },
   "source": [
    "<details>\n",
    "\n",
    "<summary>Подсказка</summary>\n",
    "Сначала найдите идентификаторы пользователей, которые зарегистрировались в сентябре 2008 года и оставили хотя бы один пост в декабре. Затем используйте результат для среза и посчитайте посты по месяцам.</details>"
   ]
  },
  {
   "cell_type": "markdown",
   "metadata": {
    "id": "Vnxn9DVHDWKx"
   },
   "source": [
    "Изучите данные: есть ли в них аномалии? Предположите, почему могли появиться аномальные значения."
   ]
  },
  {
   "cell_type": "markdown",
   "metadata": {
    "id": "5Pcizm0DDWKz"
   },
   "source": [
    "# Задание 4"
   ]
  },
  {
   "cell_type": "markdown",
   "metadata": {
    "id": "KUZPF6vHDWKz"
   },
   "source": [
    "Используя данные о постах, выведите несколько полей:\n",
    "\n",
    "- идентификатор пользователя, который написал пост;\n",
    "- дата создания поста;\n",
    "- количество просмотров у текущего поста;\n",
    "- сумму просмотров постов автора с накоплением.\n",
    "\n",
    "Данные в таблице должны быть отсортированы по возрастанию идентификаторов пользователей, а данные об одном и том же пользователе — по возрастанию даты создания поста."
   ]
  },
  {
   "cell_type": "markdown",
   "metadata": {
    "id": "ZpsTUVDYDWK0"
   },
   "source": [
    "| user_id | creation_date | views_count | cumulative_count |\n",
    "| ------ | -------------- | ----------- | ---------------- |\n",
    "| 1 | 2008-07-31 23:41:00  | 480476   | 480476  |\n",
    "| 1 | 2008-07-31 23:55:38  | 136033 | 616509  | \n",
    "| 1 | 2008-07-31 23:56:41  | 0 |  616509  |\n",
    "| ... | ... | ... | ... |\n",
    "| 2 | 2008-07-31 23:56:41 | 79087  | 79087 |\n",
    "| 2 | 2008-08-01 05:09:56 | 65443 | 144530 |\n",
    "| ... | ...  | ...  | ...  |"
   ]
  },
  {
   "cell_type": "code",
   "execution_count": 14,
   "metadata": {
    "id": "hDoJhMzfDWK0"
   },
   "outputs": [],
   "source": [
    "# напишите запрос\n",
    "query = '''\n",
    "SELECT user_id,\n",
    "       creation_date,\n",
    "       views_count,\n",
    "       SUM(views_count) OVER (PARTITION BY user_id ORDER BY creation_date)\n",
    "FROM stackoverflow.posts\n",
    "ORDER BY user_id, creation_date\n",
    "'''\n",
    "\n",
    "# выполните запрос\n",
    "df = pd.read_sql_query(query, con=engine)"
   ]
  },
  {
   "cell_type": "code",
   "execution_count": 15,
   "metadata": {
    "scrolled": true
   },
   "outputs": [
    {
     "data": {
      "text/html": [
       "<div>\n",
       "<style scoped>\n",
       "    .dataframe tbody tr th:only-of-type {\n",
       "        vertical-align: middle;\n",
       "    }\n",
       "\n",
       "    .dataframe tbody tr th {\n",
       "        vertical-align: top;\n",
       "    }\n",
       "\n",
       "    .dataframe thead th {\n",
       "        text-align: right;\n",
       "    }\n",
       "</style>\n",
       "<table border=\"1\" class=\"dataframe\">\n",
       "  <thead>\n",
       "    <tr style=\"text-align: right;\">\n",
       "      <th></th>\n",
       "      <th>user_id</th>\n",
       "      <th>creation_date</th>\n",
       "      <th>views_count</th>\n",
       "      <th>sum</th>\n",
       "    </tr>\n",
       "  </thead>\n",
       "  <tbody>\n",
       "    <tr>\n",
       "      <th>0</th>\n",
       "      <td>1</td>\n",
       "      <td>2008-07-31 23:41:00</td>\n",
       "      <td>480476</td>\n",
       "      <td>480476</td>\n",
       "    </tr>\n",
       "    <tr>\n",
       "      <th>1</th>\n",
       "      <td>1</td>\n",
       "      <td>2008-07-31 23:55:38</td>\n",
       "      <td>136033</td>\n",
       "      <td>616509</td>\n",
       "    </tr>\n",
       "    <tr>\n",
       "      <th>2</th>\n",
       "      <td>1</td>\n",
       "      <td>2008-07-31 23:56:41</td>\n",
       "      <td>0</td>\n",
       "      <td>616509</td>\n",
       "    </tr>\n",
       "    <tr>\n",
       "      <th>3</th>\n",
       "      <td>1</td>\n",
       "      <td>2008-08-04 02:45:08</td>\n",
       "      <td>0</td>\n",
       "      <td>616509</td>\n",
       "    </tr>\n",
       "    <tr>\n",
       "      <th>4</th>\n",
       "      <td>1</td>\n",
       "      <td>2008-08-04 04:31:03</td>\n",
       "      <td>0</td>\n",
       "      <td>616509</td>\n",
       "    </tr>\n",
       "    <tr>\n",
       "      <th>...</th>\n",
       "      <td>...</td>\n",
       "      <td>...</td>\n",
       "      <td>...</td>\n",
       "      <td>...</td>\n",
       "    </tr>\n",
       "    <tr>\n",
       "      <th>243791</th>\n",
       "      <td>5696608</td>\n",
       "      <td>2008-12-23 16:00:37</td>\n",
       "      <td>0</td>\n",
       "      <td>2804</td>\n",
       "    </tr>\n",
       "    <tr>\n",
       "      <th>243792</th>\n",
       "      <td>5696608</td>\n",
       "      <td>2008-12-23 17:35:09</td>\n",
       "      <td>0</td>\n",
       "      <td>2804</td>\n",
       "    </tr>\n",
       "    <tr>\n",
       "      <th>243793</th>\n",
       "      <td>5696608</td>\n",
       "      <td>2008-12-24 01:02:48</td>\n",
       "      <td>0</td>\n",
       "      <td>2804</td>\n",
       "    </tr>\n",
       "    <tr>\n",
       "      <th>243794</th>\n",
       "      <td>5696608</td>\n",
       "      <td>2008-12-30 14:34:45</td>\n",
       "      <td>0</td>\n",
       "      <td>2804</td>\n",
       "    </tr>\n",
       "    <tr>\n",
       "      <th>243795</th>\n",
       "      <td>5696608</td>\n",
       "      <td>2008-12-30 16:32:12</td>\n",
       "      <td>0</td>\n",
       "      <td>2804</td>\n",
       "    </tr>\n",
       "  </tbody>\n",
       "</table>\n",
       "<p>243796 rows × 4 columns</p>\n",
       "</div>"
      ],
      "text/plain": [
       "        user_id       creation_date  views_count     sum\n",
       "0             1 2008-07-31 23:41:00       480476  480476\n",
       "1             1 2008-07-31 23:55:38       136033  616509\n",
       "2             1 2008-07-31 23:56:41            0  616509\n",
       "3             1 2008-08-04 02:45:08            0  616509\n",
       "4             1 2008-08-04 04:31:03            0  616509\n",
       "...         ...                 ...          ...     ...\n",
       "243791  5696608 2008-12-23 16:00:37            0    2804\n",
       "243792  5696608 2008-12-23 17:35:09            0    2804\n",
       "243793  5696608 2008-12-24 01:02:48            0    2804\n",
       "243794  5696608 2008-12-30 14:34:45            0    2804\n",
       "243795  5696608 2008-12-30 16:32:12            0    2804\n",
       "\n",
       "[243796 rows x 4 columns]"
      ]
     },
     "execution_count": 15,
     "metadata": {},
     "output_type": "execute_result"
    }
   ],
   "source": [
    "df"
   ]
  },
  {
   "cell_type": "markdown",
   "metadata": {
    "id": "toidOivXDWK1"
   },
   "source": [
    "<details>\n",
    "\n",
    "<summary>Подсказка</summary>\n",
    "Для подсчёта суммы с накоплением используйте оконную функцию.\n",
    "</details>"
   ]
  },
  {
   "cell_type": "markdown",
   "metadata": {
    "id": "N0kHRHvIDWK2"
   },
   "source": [
    "# Задание 5"
   ]
  },
  {
   "cell_type": "markdown",
   "metadata": {
    "id": "gBgvmPtODWK2"
   },
   "source": [
    "Найдите среднее количество постов пользователей в день за август 2008 года. Отберите данные о пользователях, которые опубликовали больше 120 постов за август. Дни без публикаций не учитывайте. \n",
    "\n",
    "Отсортируйте результат по возрастанию среднего количества постов. Значения можно не округлять."
   ]
  },
  {
   "cell_type": "markdown",
   "metadata": {
    "id": "nfzR08BODWK3"
   },
   "source": [
    "| user_id | avg_daily |\n",
    "| ------- | --------- |\n",
    "| 116     | 4.777778  |\n",
    "| 234     | 5.208333  |\n",
    "| ...     | ... |"
   ]
  },
  {
   "cell_type": "code",
   "execution_count": 16,
   "metadata": {
    "id": "YFyPNz5GDWK3"
   },
   "outputs": [],
   "source": [
    "# напишите запрос\n",
    "query = '''\n",
    "WITH users AS\n",
    "    (SELECT user_id,\n",
    "           DATE_TRUNC('day', creation_date)::date AS day,\n",
    "           COUNT(id) AS posts_count\n",
    "    FROM stackoverflow.posts\n",
    "    WHERE user_id IN (SELECT user_id\n",
    "                      FROM stackoverflow.posts\n",
    "                      WHERE DATE_TRUNC('month', creation_date)::date = '2008-08-01'\n",
    "                      GROUP BY user_id\n",
    "                      HAVING COUNT(id) > 120)\n",
    "        AND DATE_TRUNC('month', creation_date)::date = '2008-08-01'\n",
    "     GROUP BY user_id, day)\n",
    "                      \n",
    "SELECT user_id,\n",
    "       AVG(posts_count) AS avg_daily\n",
    "FROM users\n",
    "GROUP BY user_id\n",
    "ORDER BY avg_daily\n",
    "'''\n",
    "\n",
    "# выполните запрос\n",
    "df = pd.read_sql_query(query, con=engine)"
   ]
  },
  {
   "cell_type": "code",
   "execution_count": 17,
   "metadata": {
    "scrolled": true
   },
   "outputs": [
    {
     "data": {
      "text/html": [
       "<div>\n",
       "<style scoped>\n",
       "    .dataframe tbody tr th:only-of-type {\n",
       "        vertical-align: middle;\n",
       "    }\n",
       "\n",
       "    .dataframe tbody tr th {\n",
       "        vertical-align: top;\n",
       "    }\n",
       "\n",
       "    .dataframe thead th {\n",
       "        text-align: right;\n",
       "    }\n",
       "</style>\n",
       "<table border=\"1\" class=\"dataframe\">\n",
       "  <thead>\n",
       "    <tr style=\"text-align: right;\">\n",
       "      <th></th>\n",
       "      <th>user_id</th>\n",
       "      <th>avg_daily</th>\n",
       "    </tr>\n",
       "  </thead>\n",
       "  <tbody>\n",
       "    <tr>\n",
       "      <th>0</th>\n",
       "      <td>116</td>\n",
       "      <td>4.777778</td>\n",
       "    </tr>\n",
       "    <tr>\n",
       "      <th>1</th>\n",
       "      <td>234</td>\n",
       "      <td>5.208333</td>\n",
       "    </tr>\n",
       "    <tr>\n",
       "      <th>2</th>\n",
       "      <td>91</td>\n",
       "      <td>5.681818</td>\n",
       "    </tr>\n",
       "    <tr>\n",
       "      <th>3</th>\n",
       "      <td>905</td>\n",
       "      <td>7.000000</td>\n",
       "    </tr>\n",
       "    <tr>\n",
       "      <th>4</th>\n",
       "      <td>383</td>\n",
       "      <td>7.277778</td>\n",
       "    </tr>\n",
       "  </tbody>\n",
       "</table>\n",
       "</div>"
      ],
      "text/plain": [
       "   user_id  avg_daily\n",
       "0      116   4.777778\n",
       "1      234   5.208333\n",
       "2       91   5.681818\n",
       "3      905   7.000000\n",
       "4      383   7.277778"
      ]
     },
     "execution_count": 17,
     "metadata": {},
     "output_type": "execute_result"
    }
   ],
   "source": [
    "df"
   ]
  },
  {
   "cell_type": "markdown",
   "metadata": {
    "id": "5Gs8kiJvDWK4"
   },
   "source": [
    "<details>\n",
    "\n",
    "<summary>Подсказка</summary>\n",
    "Сначала найдите идентификаторы пользователей, которые написали более 120 постов за август. Используя этот запрос в качестве подзапроса для среза, найдите и сохраните во временную таблицу идентификаторы нужных пользователей, дни августа и количество постов в день. В основном запросе сгруппируйте данные по пользователям и найдите для каждого из них среднее количество постов.\n",
    "</details>"
   ]
  },
  {
   "cell_type": "markdown",
   "metadata": {
    "id": "EQ0dcFH4DWK5"
   },
   "source": [
    "# Задание 6"
   ]
  },
  {
   "cell_type": "markdown",
   "metadata": {
    "id": "c7flfg_hDWK5"
   },
   "source": [
    "Сколько в среднем дней в период с 1 по 7 декабря 2008 года пользователи взаимодействовали с платформой? Для каждого пользователя отберите дни, в которые он или она опубликовали хотя бы один пост. Нужно получить одно целое число — не забудьте округлить результат. "
   ]
  },
  {
   "cell_type": "markdown",
   "metadata": {
    "id": "RC1Ibzm9DWK6"
   },
   "source": [
    "| result |\n",
    "| -----  |\n",
    "| <целое число> |"
   ]
  },
  {
   "cell_type": "code",
   "execution_count": 18,
   "metadata": {
    "id": "kZ7LXTr6DWK6"
   },
   "outputs": [],
   "source": [
    "# напишите запрос\n",
    "query = '''\n",
    "WITH users AS\n",
    "    (SELECT user_id,\n",
    "            COUNT(DISTINCT DATE_TRUNC('day', creation_date)::date)\n",
    "     FROM stackoverflow.posts\n",
    "     WHERE DATE_TRUNC('day', creation_date)::date BETWEEN '2008-12-01' AND '2008-12-07'\n",
    "     GROUP BY user_id)\n",
    "\n",
    "SELECT CEILING(AVG(count))::int AS result\n",
    "FROM users\n",
    "'''\n",
    "\n",
    "# выполните запрос\n",
    "df = pd.read_sql_query(query, con=engine)"
   ]
  },
  {
   "cell_type": "code",
   "execution_count": 19,
   "metadata": {},
   "outputs": [
    {
     "data": {
      "text/html": [
       "<div>\n",
       "<style scoped>\n",
       "    .dataframe tbody tr th:only-of-type {\n",
       "        vertical-align: middle;\n",
       "    }\n",
       "\n",
       "    .dataframe tbody tr th {\n",
       "        vertical-align: top;\n",
       "    }\n",
       "\n",
       "    .dataframe thead th {\n",
       "        text-align: right;\n",
       "    }\n",
       "</style>\n",
       "<table border=\"1\" class=\"dataframe\">\n",
       "  <thead>\n",
       "    <tr style=\"text-align: right;\">\n",
       "      <th></th>\n",
       "      <th>result</th>\n",
       "    </tr>\n",
       "  </thead>\n",
       "  <tbody>\n",
       "    <tr>\n",
       "      <th>0</th>\n",
       "      <td>2</td>\n",
       "    </tr>\n",
       "  </tbody>\n",
       "</table>\n",
       "</div>"
      ],
      "text/plain": [
       "   result\n",
       "0       2"
      ]
     },
     "execution_count": 19,
     "metadata": {},
     "output_type": "execute_result"
    }
   ],
   "source": [
    "df"
   ]
  },
  {
   "cell_type": "markdown",
   "metadata": {
    "id": "2K5G3xuBDWK7"
   },
   "source": [
    "<details>\n",
    "\n",
    "<summary>Подсказка</summary>\n",
    "Посчитайте, сколько активных дней было у каждого пользователя. Добавьте данные во временную таблицу и используйте в основном запросе.\n",
    "</details>"
   ]
  },
  {
   "cell_type": "markdown",
   "metadata": {
    "id": "UJFtNNggDWK7"
   },
   "source": [
    "Проанализируйте итоговую таблицу — какие выводы можно сделать?"
   ]
  },
  {
   "cell_type": "markdown",
   "metadata": {},
   "source": [
    "<div class=\"alert alert-info\">\n",
    "За указанный период пользователи взаимодействовали с платформой в среднем 2 раза в день. Ранее вы выяснили, что осенью вовлеченность пользователей выше. Проверим значение на промежутке 1-7 сентября 2008 г. Оно получилось выше - 3.\n",
    "</div>"
   ]
  },
  {
   "cell_type": "code",
   "execution_count": 21,
   "metadata": {},
   "outputs": [
    {
     "data": {
      "text/html": [
       "<div>\n",
       "<style scoped>\n",
       "    .dataframe tbody tr th:only-of-type {\n",
       "        vertical-align: middle;\n",
       "    }\n",
       "\n",
       "    .dataframe tbody tr th {\n",
       "        vertical-align: top;\n",
       "    }\n",
       "\n",
       "    .dataframe thead th {\n",
       "        text-align: right;\n",
       "    }\n",
       "</style>\n",
       "<table border=\"1\" class=\"dataframe\">\n",
       "  <thead>\n",
       "    <tr style=\"text-align: right;\">\n",
       "      <th></th>\n",
       "      <th>result</th>\n",
       "    </tr>\n",
       "  </thead>\n",
       "  <tbody>\n",
       "    <tr>\n",
       "      <th>0</th>\n",
       "      <td>3</td>\n",
       "    </tr>\n",
       "  </tbody>\n",
       "</table>\n",
       "</div>"
      ],
      "text/plain": [
       "   result\n",
       "0       3"
      ]
     },
     "execution_count": 21,
     "metadata": {},
     "output_type": "execute_result"
    }
   ],
   "source": [
    "query = '''\n",
    "WITH users AS\n",
    "    (SELECT user_id,\n",
    "            COUNT(DISTINCT DATE_TRUNC('day', creation_date)::date)\n",
    "     FROM stackoverflow.posts\n",
    "     WHERE DATE_TRUNC('day', creation_date)::date BETWEEN '2008-09-01' AND '2008-09-07'\n",
    "     GROUP BY user_id)\n",
    "\n",
    "SELECT CEILING(AVG(count))::int AS result\n",
    "FROM users\n",
    "'''\n",
    "\n",
    "df = pd.read_sql_query(query, con=engine)\n",
    "df"
   ]
  },
  {
   "cell_type": "markdown",
   "metadata": {
    "id": "wfOmqmfLDWK8"
   },
   "source": [
    "# Задание 7"
   ]
  },
  {
   "cell_type": "markdown",
   "metadata": {
    "id": "X4ARQimADWK9"
   },
   "source": [
    "Выведите историю активности каждого пользователя в таком виде: идентификатор пользователя, дата публикации поста. Отсортируйте вывод по возрастанию идентификаторов пользователей, а для каждого пользователя — по возрастанию даты публикации.\n",
    "\n",
    "Добавьте в таблицу новое поле: для каждого поста в нём будет указано название месяца предпоследней публикации пользователя относительно текущей. Если такой публикации нет, укажите `NULL`.  Python автоматически поменяет `NULL` на `None`, но дополнительно преобразовывать значения `None` вам не нужно.\n",
    "\n",
    "Посмотрите внимательно на образец таблицы: для первых двух постов предпоследней публикации нет, но, начиная с третьего поста, в новое поле входит нужный месяц. Для следующего пользователя в первые две записи поля `second_last_month` тоже войдёт `NULL`."
   ]
  },
  {
   "cell_type": "markdown",
   "metadata": {
    "id": "IGPjRP01DWK9"
   },
   "source": [
    "| user_id | creation_date | second_last_month |\n",
    "| ------- | ------------- | ----------------- |\n",
    "| 1       | 2008-07-31 23:41:00 | None |\n",
    "| 1       | 2008-07-31 23:55:38 | None |\n",
    "| 1       | 2008-07-31 23:56:41 | July |\n",
    "| 1       | 2008-08-04 02:45:08 | July |\n",
    "| 1       | 2008-08-04 04:31:03 | July |\n",
    "| 1       | 2008-08-04 08:04:42 | August |\n",
    "| ... | ... | ... |"
   ]
  },
  {
   "cell_type": "code",
   "execution_count": 22,
   "metadata": {
    "id": "HzI1vhaMDWK-"
   },
   "outputs": [],
   "source": [
    "# напишите запрос\n",
    "query = '''\n",
    "SELECT user_id,\n",
    "       creation_date,\n",
    "       CASE\n",
    "           WHEN LAG(DATE_TRUNC('month', creation_date)::date, 2) OVER lag = '2008-07-01' THEN 'July'\n",
    "           WHEN LAG(DATE_TRUNC('month', creation_date)::date, 2) OVER lag = '2008-08-01' THEN 'August'\n",
    "           WHEN LAG(DATE_TRUNC('month', creation_date)::date, 2) OVER lag = '2008-09-01' THEN 'September'\n",
    "           WHEN LAG(DATE_TRUNC('month', creation_date)::date, 2) OVER lag = '2008-08-01' THEN 'October'\n",
    "           WHEN LAG(DATE_TRUNC('month', creation_date)::date, 2) OVER lag = '2008-08-01' THEN 'November'\n",
    "           WHEN LAG(DATE_TRUNC('month', creation_date)::date, 2) OVER lag = '2008-08-01' THEN 'December'\n",
    "       END    \n",
    "FROM stackoverflow.posts\n",
    "WINDOW lag AS (PARTITION BY user_id ORDER BY creation_date)\n",
    "ORDER BY user_id, creation_date\n",
    "'''\n",
    "\n",
    "# выполните запрос\n",
    "df = pd.read_sql_query(query, con=engine)"
   ]
  },
  {
   "cell_type": "code",
   "execution_count": 23,
   "metadata": {},
   "outputs": [
    {
     "data": {
      "text/html": [
       "<div>\n",
       "<style scoped>\n",
       "    .dataframe tbody tr th:only-of-type {\n",
       "        vertical-align: middle;\n",
       "    }\n",
       "\n",
       "    .dataframe tbody tr th {\n",
       "        vertical-align: top;\n",
       "    }\n",
       "\n",
       "    .dataframe thead th {\n",
       "        text-align: right;\n",
       "    }\n",
       "</style>\n",
       "<table border=\"1\" class=\"dataframe\">\n",
       "  <thead>\n",
       "    <tr style=\"text-align: right;\">\n",
       "      <th></th>\n",
       "      <th>user_id</th>\n",
       "      <th>creation_date</th>\n",
       "      <th>to_char</th>\n",
       "    </tr>\n",
       "  </thead>\n",
       "  <tbody>\n",
       "    <tr>\n",
       "      <th>0</th>\n",
       "      <td>1</td>\n",
       "      <td>2008-07-31 23:41:00</td>\n",
       "      <td>None</td>\n",
       "    </tr>\n",
       "    <tr>\n",
       "      <th>1</th>\n",
       "      <td>1</td>\n",
       "      <td>2008-07-31 23:55:38</td>\n",
       "      <td>None</td>\n",
       "    </tr>\n",
       "    <tr>\n",
       "      <th>2</th>\n",
       "      <td>1</td>\n",
       "      <td>2008-07-31 23:56:41</td>\n",
       "      <td>July</td>\n",
       "    </tr>\n",
       "    <tr>\n",
       "      <th>3</th>\n",
       "      <td>1</td>\n",
       "      <td>2008-08-04 02:45:08</td>\n",
       "      <td>July</td>\n",
       "    </tr>\n",
       "    <tr>\n",
       "      <th>4</th>\n",
       "      <td>1</td>\n",
       "      <td>2008-08-04 04:31:03</td>\n",
       "      <td>July</td>\n",
       "    </tr>\n",
       "    <tr>\n",
       "      <th>5</th>\n",
       "      <td>1</td>\n",
       "      <td>2008-08-04 08:04:42</td>\n",
       "      <td>August</td>\n",
       "    </tr>\n",
       "    <tr>\n",
       "      <th>6</th>\n",
       "      <td>1</td>\n",
       "      <td>2008-08-10 08:28:52</td>\n",
       "      <td>August</td>\n",
       "    </tr>\n",
       "    <tr>\n",
       "      <th>7</th>\n",
       "      <td>1</td>\n",
       "      <td>2008-08-11 19:23:47</td>\n",
       "      <td>August</td>\n",
       "    </tr>\n",
       "    <tr>\n",
       "      <th>8</th>\n",
       "      <td>1</td>\n",
       "      <td>2008-08-12 00:30:43</td>\n",
       "      <td>August</td>\n",
       "    </tr>\n",
       "    <tr>\n",
       "      <th>9</th>\n",
       "      <td>1</td>\n",
       "      <td>2008-08-12 04:59:35</td>\n",
       "      <td>August</td>\n",
       "    </tr>\n",
       "  </tbody>\n",
       "</table>\n",
       "</div>"
      ],
      "text/plain": [
       "   user_id       creation_date    to_char\n",
       "0        1 2008-07-31 23:41:00       None\n",
       "1        1 2008-07-31 23:55:38       None\n",
       "2        1 2008-07-31 23:56:41  July     \n",
       "3        1 2008-08-04 02:45:08  July     \n",
       "4        1 2008-08-04 04:31:03  July     \n",
       "5        1 2008-08-04 08:04:42  August   \n",
       "6        1 2008-08-10 08:28:52  August   \n",
       "7        1 2008-08-11 19:23:47  August   \n",
       "8        1 2008-08-12 00:30:43  August   \n",
       "9        1 2008-08-12 04:59:35  August   "
      ]
     },
     "execution_count": 23,
     "metadata": {},
     "output_type": "execute_result"
    }
   ],
   "source": [
    "query = '''\n",
    "SELECT user_id,\n",
    "       creation_date,\n",
    "       TO_CHAR(LAG(DATE_TRUNC('month', creation_date)::date, 2) OVER (PARTITION BY user_id ORDER BY creation_date), 'Month')  \n",
    "FROM stackoverflow.posts\n",
    "ORDER BY user_id, creation_date\n",
    "'''\n",
    "\n",
    "# выполните запрос\n",
    "df = pd.read_sql_query(query, con=engine)\n",
    "df.head(10)"
   ]
  },
  {
   "cell_type": "code",
   "execution_count": 24,
   "metadata": {},
   "outputs": [
    {
     "data": {
      "text/html": [
       "<div>\n",
       "<style scoped>\n",
       "    .dataframe tbody tr th:only-of-type {\n",
       "        vertical-align: middle;\n",
       "    }\n",
       "\n",
       "    .dataframe tbody tr th {\n",
       "        vertical-align: top;\n",
       "    }\n",
       "\n",
       "    .dataframe thead th {\n",
       "        text-align: right;\n",
       "    }\n",
       "</style>\n",
       "<table border=\"1\" class=\"dataframe\">\n",
       "  <thead>\n",
       "    <tr style=\"text-align: right;\">\n",
       "      <th></th>\n",
       "      <th>user_id</th>\n",
       "      <th>creation_date</th>\n",
       "      <th>to_char</th>\n",
       "    </tr>\n",
       "  </thead>\n",
       "  <tbody>\n",
       "    <tr>\n",
       "      <th>0</th>\n",
       "      <td>1</td>\n",
       "      <td>2008-07-31 23:41:00</td>\n",
       "      <td>None</td>\n",
       "    </tr>\n",
       "    <tr>\n",
       "      <th>1</th>\n",
       "      <td>1</td>\n",
       "      <td>2008-07-31 23:55:38</td>\n",
       "      <td>None</td>\n",
       "    </tr>\n",
       "    <tr>\n",
       "      <th>2</th>\n",
       "      <td>1</td>\n",
       "      <td>2008-07-31 23:56:41</td>\n",
       "      <td>July</td>\n",
       "    </tr>\n",
       "    <tr>\n",
       "      <th>3</th>\n",
       "      <td>1</td>\n",
       "      <td>2008-08-04 02:45:08</td>\n",
       "      <td>July</td>\n",
       "    </tr>\n",
       "    <tr>\n",
       "      <th>4</th>\n",
       "      <td>1</td>\n",
       "      <td>2008-08-04 04:31:03</td>\n",
       "      <td>July</td>\n",
       "    </tr>\n",
       "    <tr>\n",
       "      <th>5</th>\n",
       "      <td>1</td>\n",
       "      <td>2008-08-04 08:04:42</td>\n",
       "      <td>August</td>\n",
       "    </tr>\n",
       "    <tr>\n",
       "      <th>6</th>\n",
       "      <td>1</td>\n",
       "      <td>2008-08-10 08:28:52</td>\n",
       "      <td>August</td>\n",
       "    </tr>\n",
       "    <tr>\n",
       "      <th>7</th>\n",
       "      <td>1</td>\n",
       "      <td>2008-08-11 19:23:47</td>\n",
       "      <td>August</td>\n",
       "    </tr>\n",
       "    <tr>\n",
       "      <th>8</th>\n",
       "      <td>1</td>\n",
       "      <td>2008-08-12 00:30:43</td>\n",
       "      <td>August</td>\n",
       "    </tr>\n",
       "    <tr>\n",
       "      <th>9</th>\n",
       "      <td>1</td>\n",
       "      <td>2008-08-12 04:59:35</td>\n",
       "      <td>August</td>\n",
       "    </tr>\n",
       "  </tbody>\n",
       "</table>\n",
       "</div>"
      ],
      "text/plain": [
       "   user_id       creation_date    to_char\n",
       "0        1 2008-07-31 23:41:00       None\n",
       "1        1 2008-07-31 23:55:38       None\n",
       "2        1 2008-07-31 23:56:41  July     \n",
       "3        1 2008-08-04 02:45:08  July     \n",
       "4        1 2008-08-04 04:31:03  July     \n",
       "5        1 2008-08-04 08:04:42  August   \n",
       "6        1 2008-08-10 08:28:52  August   \n",
       "7        1 2008-08-11 19:23:47  August   \n",
       "8        1 2008-08-12 00:30:43  August   \n",
       "9        1 2008-08-12 04:59:35  August   "
      ]
     },
     "execution_count": 24,
     "metadata": {},
     "output_type": "execute_result"
    }
   ],
   "source": [
    "df.head(10)"
   ]
  },
  {
   "cell_type": "markdown",
   "metadata": {
    "id": "7dqoKkncDWK_"
   },
   "source": [
    "<details>\n",
    "\n",
    "<summary>Подсказка</summary>\n",
    "Преобразовать результат оконной функции в нужное значение вам поможет аналог условного оператора в SQL: CASE <поле> WHEN <старое значение> THEN <новое значение> END.\n",
    "</details>"
   ]
  },
  {
   "cell_type": "markdown",
   "metadata": {
    "id": "tf9qq2yzDWK_"
   },
   "source": [
    "# Задание 8"
   ]
  },
  {
   "cell_type": "markdown",
   "metadata": {
    "id": "gfwLVXBYDWLA"
   },
   "source": [
    "Рассчитайте аналог Retention Rate по месяцам для пользователей StackOverflow. Объедините пользователей в когорты по месяцу их первого поста. Возвращение определяйте по наличию поста в текущем месяце. "
   ]
  },
  {
   "cell_type": "markdown",
   "metadata": {
    "id": "kN2ic39WlKpl"
   },
   "source": [
    "| cohort_dt | session_date | users_cnt | cohort_users_cnt | retention_rate |\n",
    "| --- | --- | --- | --- | --- |\n",
    "| 2008-07-01 00:00:00 | 2008-07-01 00:00:00 | 3 | 3 | 100 |\n",
    "| 2008-07-01 00:00:00 | 2008-08-01 00:00:00 | 2 | 3 | 66,67 |\n",
    "| 2008-07-01 00:00:00 | 2008-09-01 00:00:00 | 1 | 3 | 33,33 |\n",
    "| 2008-07-01 00:00:00 | 2008-10-01 00:00:00 | 2 | 3 | 66,67 |\n",
    "| 2008-07-01 00:00:00 | 2008-11-01 00:00:00 | 1 | 3 | 33,33 |\n",
    "| 2008-07-01 00:00:00 | 2008-12-01 00:00:00 | 2 | 3 | 66,67 |\n",
    "| 2008-08-01 00:00:00 | 2008-08-01 00:00:00 | 2151 | 2151 | 100 |\n",
    "| ... | ... | ... | ... | ... |"
   ]
  },
  {
   "cell_type": "code",
   "execution_count": 25,
   "metadata": {
    "id": "LUgFmwmTDWLB"
   },
   "outputs": [],
   "source": [
    "# напишите запрос\n",
    "query = '''\n",
    "WITH\n",
    "\n",
    "profile AS\n",
    "    (WITH users AS\n",
    "        (SELECT DISTINCT user_id,\n",
    "                FIRST_VALUE(DATE_TRUNC('month', creation_date)::date) OVER \n",
    "                (PARTITION BY user_id ORDER BY DATE_TRUNC('month', creation_date)::date) AS cohort_dt\n",
    "         FROM stackoverflow.posts)\n",
    "     SELECT *,\n",
    "            COUNT(user_id) OVER(PARTITION BY cohort_dt) AS cohort_users_cnt\n",
    "     FROM users),\n",
    "\n",
    "sessions AS\n",
    "    (SELECT user_id,\n",
    "            DATE_TRUNC('month', creation_date)::date AS session_date\n",
    "     FROM stackoverflow.posts\n",
    "     GROUP BY 1, 2)\n",
    "\n",
    "SELECT p.cohort_dt,\n",
    "       s.session_date,\n",
    "       COUNT(p.user_id) AS users_cnt,\n",
    "       p.cohort_users_cnt,\n",
    "       ROUND(COUNT(p.user_id) * 100.0 / cohort_users_cnt, 2) AS retention_rate\n",
    "FROM profile AS p \n",
    "JOIN sessions AS s ON p.user_id = s.user_id\n",
    "GROUP BY 1, 2, 4\n",
    "'''\n",
    "\n",
    "# выполните запрос\n",
    "df = pd.read_sql_query(query, con=engine)"
   ]
  },
  {
   "cell_type": "code",
   "execution_count": 26,
   "metadata": {},
   "outputs": [
    {
     "data": {
      "text/html": [
       "<div>\n",
       "<style scoped>\n",
       "    .dataframe tbody tr th:only-of-type {\n",
       "        vertical-align: middle;\n",
       "    }\n",
       "\n",
       "    .dataframe tbody tr th {\n",
       "        vertical-align: top;\n",
       "    }\n",
       "\n",
       "    .dataframe thead th {\n",
       "        text-align: right;\n",
       "    }\n",
       "</style>\n",
       "<table border=\"1\" class=\"dataframe\">\n",
       "  <thead>\n",
       "    <tr style=\"text-align: right;\">\n",
       "      <th></th>\n",
       "      <th>cohort_dt</th>\n",
       "      <th>session_date</th>\n",
       "      <th>users_cnt</th>\n",
       "      <th>cohort_users_cnt</th>\n",
       "      <th>retention_rate</th>\n",
       "    </tr>\n",
       "  </thead>\n",
       "  <tbody>\n",
       "    <tr>\n",
       "      <th>0</th>\n",
       "      <td>2008-07-01</td>\n",
       "      <td>2008-07-01</td>\n",
       "      <td>3</td>\n",
       "      <td>3</td>\n",
       "      <td>100.00</td>\n",
       "    </tr>\n",
       "    <tr>\n",
       "      <th>1</th>\n",
       "      <td>2008-07-01</td>\n",
       "      <td>2008-08-01</td>\n",
       "      <td>2</td>\n",
       "      <td>3</td>\n",
       "      <td>66.67</td>\n",
       "    </tr>\n",
       "    <tr>\n",
       "      <th>2</th>\n",
       "      <td>2008-07-01</td>\n",
       "      <td>2008-09-01</td>\n",
       "      <td>1</td>\n",
       "      <td>3</td>\n",
       "      <td>33.33</td>\n",
       "    </tr>\n",
       "    <tr>\n",
       "      <th>3</th>\n",
       "      <td>2008-07-01</td>\n",
       "      <td>2008-10-01</td>\n",
       "      <td>2</td>\n",
       "      <td>3</td>\n",
       "      <td>66.67</td>\n",
       "    </tr>\n",
       "    <tr>\n",
       "      <th>4</th>\n",
       "      <td>2008-07-01</td>\n",
       "      <td>2008-11-01</td>\n",
       "      <td>1</td>\n",
       "      <td>3</td>\n",
       "      <td>33.33</td>\n",
       "    </tr>\n",
       "    <tr>\n",
       "      <th>5</th>\n",
       "      <td>2008-07-01</td>\n",
       "      <td>2008-12-01</td>\n",
       "      <td>2</td>\n",
       "      <td>3</td>\n",
       "      <td>66.67</td>\n",
       "    </tr>\n",
       "    <tr>\n",
       "      <th>6</th>\n",
       "      <td>2008-08-01</td>\n",
       "      <td>2008-08-01</td>\n",
       "      <td>2151</td>\n",
       "      <td>2151</td>\n",
       "      <td>100.00</td>\n",
       "    </tr>\n",
       "    <tr>\n",
       "      <th>7</th>\n",
       "      <td>2008-08-01</td>\n",
       "      <td>2008-09-01</td>\n",
       "      <td>1571</td>\n",
       "      <td>2151</td>\n",
       "      <td>73.04</td>\n",
       "    </tr>\n",
       "    <tr>\n",
       "      <th>8</th>\n",
       "      <td>2008-08-01</td>\n",
       "      <td>2008-10-01</td>\n",
       "      <td>1275</td>\n",
       "      <td>2151</td>\n",
       "      <td>59.27</td>\n",
       "    </tr>\n",
       "    <tr>\n",
       "      <th>9</th>\n",
       "      <td>2008-08-01</td>\n",
       "      <td>2008-11-01</td>\n",
       "      <td>1050</td>\n",
       "      <td>2151</td>\n",
       "      <td>48.81</td>\n",
       "    </tr>\n",
       "    <tr>\n",
       "      <th>10</th>\n",
       "      <td>2008-08-01</td>\n",
       "      <td>2008-12-01</td>\n",
       "      <td>894</td>\n",
       "      <td>2151</td>\n",
       "      <td>41.56</td>\n",
       "    </tr>\n",
       "    <tr>\n",
       "      <th>11</th>\n",
       "      <td>2008-09-01</td>\n",
       "      <td>2008-09-01</td>\n",
       "      <td>7678</td>\n",
       "      <td>7678</td>\n",
       "      <td>100.00</td>\n",
       "    </tr>\n",
       "    <tr>\n",
       "      <th>12</th>\n",
       "      <td>2008-09-01</td>\n",
       "      <td>2008-10-01</td>\n",
       "      <td>4132</td>\n",
       "      <td>7678</td>\n",
       "      <td>53.82</td>\n",
       "    </tr>\n",
       "    <tr>\n",
       "      <th>13</th>\n",
       "      <td>2008-09-01</td>\n",
       "      <td>2008-11-01</td>\n",
       "      <td>2966</td>\n",
       "      <td>7678</td>\n",
       "      <td>38.63</td>\n",
       "    </tr>\n",
       "    <tr>\n",
       "      <th>14</th>\n",
       "      <td>2008-09-01</td>\n",
       "      <td>2008-12-01</td>\n",
       "      <td>2500</td>\n",
       "      <td>7678</td>\n",
       "      <td>32.56</td>\n",
       "    </tr>\n",
       "    <tr>\n",
       "      <th>15</th>\n",
       "      <td>2008-10-01</td>\n",
       "      <td>2008-10-01</td>\n",
       "      <td>3629</td>\n",
       "      <td>3629</td>\n",
       "      <td>100.00</td>\n",
       "    </tr>\n",
       "    <tr>\n",
       "      <th>16</th>\n",
       "      <td>2008-10-01</td>\n",
       "      <td>2008-11-01</td>\n",
       "      <td>1640</td>\n",
       "      <td>3629</td>\n",
       "      <td>45.19</td>\n",
       "    </tr>\n",
       "    <tr>\n",
       "      <th>17</th>\n",
       "      <td>2008-10-01</td>\n",
       "      <td>2008-12-01</td>\n",
       "      <td>1221</td>\n",
       "      <td>3629</td>\n",
       "      <td>33.65</td>\n",
       "    </tr>\n",
       "    <tr>\n",
       "      <th>18</th>\n",
       "      <td>2008-11-01</td>\n",
       "      <td>2008-11-01</td>\n",
       "      <td>2852</td>\n",
       "      <td>2852</td>\n",
       "      <td>100.00</td>\n",
       "    </tr>\n",
       "    <tr>\n",
       "      <th>19</th>\n",
       "      <td>2008-11-01</td>\n",
       "      <td>2008-12-01</td>\n",
       "      <td>1151</td>\n",
       "      <td>2852</td>\n",
       "      <td>40.36</td>\n",
       "    </tr>\n",
       "    <tr>\n",
       "      <th>20</th>\n",
       "      <td>2008-12-01</td>\n",
       "      <td>2008-12-01</td>\n",
       "      <td>2536</td>\n",
       "      <td>2536</td>\n",
       "      <td>100.00</td>\n",
       "    </tr>\n",
       "  </tbody>\n",
       "</table>\n",
       "</div>"
      ],
      "text/plain": [
       "     cohort_dt session_date  users_cnt  cohort_users_cnt  retention_rate\n",
       "0   2008-07-01   2008-07-01          3                 3          100.00\n",
       "1   2008-07-01   2008-08-01          2                 3           66.67\n",
       "2   2008-07-01   2008-09-01          1                 3           33.33\n",
       "3   2008-07-01   2008-10-01          2                 3           66.67\n",
       "4   2008-07-01   2008-11-01          1                 3           33.33\n",
       "5   2008-07-01   2008-12-01          2                 3           66.67\n",
       "6   2008-08-01   2008-08-01       2151              2151          100.00\n",
       "7   2008-08-01   2008-09-01       1571              2151           73.04\n",
       "8   2008-08-01   2008-10-01       1275              2151           59.27\n",
       "9   2008-08-01   2008-11-01       1050              2151           48.81\n",
       "10  2008-08-01   2008-12-01        894              2151           41.56\n",
       "11  2008-09-01   2008-09-01       7678              7678          100.00\n",
       "12  2008-09-01   2008-10-01       4132              7678           53.82\n",
       "13  2008-09-01   2008-11-01       2966              7678           38.63\n",
       "14  2008-09-01   2008-12-01       2500              7678           32.56\n",
       "15  2008-10-01   2008-10-01       3629              3629          100.00\n",
       "16  2008-10-01   2008-11-01       1640              3629           45.19\n",
       "17  2008-10-01   2008-12-01       1221              3629           33.65\n",
       "18  2008-11-01   2008-11-01       2852              2852          100.00\n",
       "19  2008-11-01   2008-12-01       1151              2852           40.36\n",
       "20  2008-12-01   2008-12-01       2536              2536          100.00"
      ]
     },
     "execution_count": 26,
     "metadata": {},
     "output_type": "execute_result"
    }
   ],
   "source": [
    "df"
   ]
  },
  {
   "cell_type": "markdown",
   "metadata": {
    "id": "Yavb5o9JDWLB"
   },
   "source": [
    "<details>\n",
    "\n",
    "<summary>Подсказка</summary>\n",
    "Вспомните, как выглядел запрос для расчёта Retention Rate в теории. Создайте две временные таблицы: `profile` и `sessions` (в ней будет информация о публикациях), а затем используйте их в основном запросе.\n",
    "\n",
    "Во временной таблице `profile` вам понадобятся три поля:\n",
    "\n",
    "- идентификатор пользователя;\n",
    "- дата первого поста пользователя, усечённая до месяца (признак начала когорты);\n",
    "- количество пользователей этой когорты.\n",
    "</details>"
   ]
  },
  {
   "cell_type": "markdown",
   "metadata": {
    "id": "_msBtnb2DWLC"
   },
   "source": [
    "Постройте тепловую карту Retention Rate. Какие аномалии или другие необычные явления удалось выявить? Сформулируйте гипотезы о возможных причинах."
   ]
  },
  {
   "cell_type": "code",
   "execution_count": 27,
   "metadata": {
    "id": "qAEJc8H1DWLC"
   },
   "outputs": [
    {
     "data": {
      "image/png": "[encoded data removed]",
      "text/plain": [
       "<Figure size 1152x1152 with 2 Axes>"
      ]
     },
     "metadata": {
      "needs_background": "light"
     },
     "output_type": "display_data"
    }
   ],
   "source": [
    "# постройте тепловую карту Retention Rate\n",
    "retention = df.pivot('cohort_dt', 'session_date', 'retention_rate')\n",
    "retention.index = [str(x)[0:10] for x in retention.index]\n",
    "retention.columns = [str(x)[0:10] for x in retention.columns]\n",
    "\n",
    "plt.figure(figsize=(16, 16))\n",
    "sns.heatmap(retention,\n",
    "            annot=True,\n",
    "            fmt='')\n",
    "plt.title('Heatmap')\n",
    "plt.show()"
   ]
  },
  {
   "cell_type": "code",
   "execution_count": 28,
   "metadata": {
    "id": "EgOfIsI4DWLC"
   },
   "outputs": [],
   "source": [
    "# опишите аномалии или другие необычные явления и сформулируйте гипотезы"
   ]
  },
  {
   "cell_type": "markdown",
   "metadata": {},
   "source": [
    "На тепловой карте мы видим скачущие одинаковые значения для июльской когорты. Скорее всего здесь какая-то ошибка в данных? Далее просматривается тенденция к снижению retention_rate от месяца к месяцу для каждой когорты. А также чем ближе к концу года была сформирована когорта, тем ниже уровень удержания пользователей."
   ]
  },
  {
   "cell_type": "markdown",
   "metadata": {
    "id": "1k7oPWt5DWLK"
   },
   "source": [
    "# Задание 9\n"
   ]
  },
  {
   "cell_type": "markdown",
   "metadata": {
    "id": "ALsYVSyRDWLM"
   },
   "source": [
    "На сколько процентов менялось количество постов ежемесячно с 1 сентября по 31 декабря 2008 года? Отобразите таблицу со следующими полями:\n",
    "\n",
    "- номер месяца;\n",
    "- количество постов за месяц;\n",
    "- процент, который показывает, насколько изменилось количество постов в текущем месяце по сравнению с предыдущим.\n",
    "\n",
    "Если постов стало меньше, значение процента должно быть отрицательным, если больше — положительным. Округлите значение процента до двух знаков после запятой.\n",
    "\n",
    "Напомним, что при делении одного целого числа на другое в PostgreSQL в результате получится целое число, округлённое до ближайшего целого вниз. Чтобы этого избежать, переведите делимое в тип `numeric`."
   ]
  },
  {
   "cell_type": "markdown",
   "metadata": {
    "id": "u4E2zF8DDWLM"
   },
   "source": [
    "| creation_month | posts_count | percentage |\n",
    "| -------------- | ----------- | ---------- |\n",
    "| 9 | 70731 | Nan |\n",
    "| 10 | 63102 | -10.33 |\n",
    "| ... | ... | ... |"
   ]
  },
  {
   "cell_type": "code",
   "execution_count": 29,
   "metadata": {
    "id": "Mb5pShStDWLN"
   },
   "outputs": [],
   "source": [
    "# напишите запрос\n",
    "query = '''\n",
    "WITH counter AS\n",
    "    (SELECT EXTRACT(MONTH FROM CAST(creation_date AS date)) AS creation_month,\n",
    "            COUNT(id) AS posts_count\n",
    "     FROM stackoverflow.posts\n",
    "     WHERE EXTRACT(MONTH FROM creation_date)::int BETWEEN 9 AND 12\n",
    "     GROUP BY creation_month)\n",
    "     \n",
    "SELECT creation_month,\n",
    "       posts_count,\n",
    "       ROUND((posts_count::numeric / LAG(posts_count) OVER () - 1) * 100, 2)\n",
    "FROM counter\n",
    "'''\n",
    "\n",
    "# выполните запрос\n",
    "df = pd.read_sql_query(query, con=engine)"
   ]
  },
  {
   "cell_type": "code",
   "execution_count": 30,
   "metadata": {},
   "outputs": [
    {
     "data": {
      "text/html": [
       "<div>\n",
       "<style scoped>\n",
       "    .dataframe tbody tr th:only-of-type {\n",
       "        vertical-align: middle;\n",
       "    }\n",
       "\n",
       "    .dataframe tbody tr th {\n",
       "        vertical-align: top;\n",
       "    }\n",
       "\n",
       "    .dataframe thead th {\n",
       "        text-align: right;\n",
       "    }\n",
       "</style>\n",
       "<table border=\"1\" class=\"dataframe\">\n",
       "  <thead>\n",
       "    <tr style=\"text-align: right;\">\n",
       "      <th></th>\n",
       "      <th>creation_month</th>\n",
       "      <th>posts_count</th>\n",
       "      <th>round</th>\n",
       "    </tr>\n",
       "  </thead>\n",
       "  <tbody>\n",
       "    <tr>\n",
       "      <th>0</th>\n",
       "      <td>9.0</td>\n",
       "      <td>70371</td>\n",
       "      <td>NaN</td>\n",
       "    </tr>\n",
       "    <tr>\n",
       "      <th>1</th>\n",
       "      <td>10.0</td>\n",
       "      <td>63102</td>\n",
       "      <td>-10.33</td>\n",
       "    </tr>\n",
       "    <tr>\n",
       "      <th>2</th>\n",
       "      <td>11.0</td>\n",
       "      <td>46975</td>\n",
       "      <td>-25.56</td>\n",
       "    </tr>\n",
       "    <tr>\n",
       "      <th>3</th>\n",
       "      <td>12.0</td>\n",
       "      <td>44592</td>\n",
       "      <td>-5.07</td>\n",
       "    </tr>\n",
       "  </tbody>\n",
       "</table>\n",
       "</div>"
      ],
      "text/plain": [
       "   creation_month  posts_count  round\n",
       "0             9.0        70371    NaN\n",
       "1            10.0        63102 -10.33\n",
       "2            11.0        46975 -25.56\n",
       "3            12.0        44592  -5.07"
      ]
     },
     "execution_count": 30,
     "metadata": {},
     "output_type": "execute_result"
    }
   ],
   "source": [
    "df"
   ]
  },
  {
   "cell_type": "markdown",
   "metadata": {
    "id": "G0VSDL4HDWLO"
   },
   "source": [
    "<details>\n",
    "\n",
    "<summary>Подсказка</summary>\n",
    "Эту задачу стоит декомпозировать. Сформируйте запрос, который отобразит номер месяца и количество постов. Затем можно использовать оконную функцию, которая вернёт значение за предыдущий месяц, и посчитать процент.\n",
    "</details>"
   ]
  },
  {
   "cell_type": "markdown",
   "metadata": {
    "id": "9NQE2y_MDWLP"
   },
   "source": [
    "Постройте круговую диаграмму с количеством постов по месяцам."
   ]
  },
  {
   "cell_type": "code",
   "execution_count": 31,
   "metadata": {
    "id": "377ABjiVDWLP"
   },
   "outputs": [
    {
     "data": {
      "text/plain": [
       "<AxesSubplot:title={'center':'Posts % per month'}, ylabel='posts_count'>"
      ]
     },
     "execution_count": 31,
     "metadata": {},
     "output_type": "execute_result"
    },
    {
     "data": {
      "image/png": "[encoded data removed]",
      "text/plain": [
       "<Figure size 432x288 with 1 Axes>"
      ]
     },
     "metadata": {},
     "output_type": "display_data"
    }
   ],
   "source": [
    "# постройте круговую диаграмму с количеством постов по месяцам\n",
    "df.groupby(['creation_month']).sum().plot(kind='pie', y='posts_count', autopct='%1.0f%%', title='Posts % per month')"
   ]
  },
  {
   "cell_type": "markdown",
   "metadata": {
    "id": "uw7qMtafDWLP"
   },
   "source": [
    "# Задание 10"
   ]
  },
  {
   "cell_type": "markdown",
   "metadata": {
    "id": "oRBpWKx3DWLQ"
   },
   "source": [
    "Выгрузите данные активности пользователя, который опубликовал больше всего постов за всё время. Выведите данные за октябрь 2008 года в таком виде:\n",
    "\n",
    "- номер недели;\n",
    "- дата и время последнего поста, опубликованного на этой неделе."
   ]
  },
  {
   "cell_type": "markdown",
   "metadata": {
    "id": "XjAWSn_3DWLQ"
   },
   "source": [
    "| week_creation | creation_date |\n",
    "| ------------- | ------------- |\n",
    "| 40 | 2008-10-05 09:00:58 |\n",
    "| 41 | 2008-10-12 21:22:23 |\n",
    "| ... | ... |"
   ]
  },
  {
   "cell_type": "code",
   "execution_count": 32,
   "metadata": {
    "id": "r5F5fSkwDWLQ"
   },
   "outputs": [],
   "source": [
    "# напишите запрос\n",
    "query = '''\n",
    "SELECT EXTRACT(WEEK FROM CAST(creation_date AS date)) AS week_creation,\n",
    "       MAX(creation_date) AS creation_date\n",
    "FROM stackoverflow.posts\n",
    "WHERE user_id IN (SELECT user_id \n",
    "                  FROM stackoverflow.posts\n",
    "                  GROUP BY user_id\n",
    "                  ORDER BY COUNT(*) DESC\n",
    "                  LIMIT 1)\n",
    "AND DATE_TRUNC('month', creation_date)::date = '2008-10-01'\n",
    "GROUP BY week_creation\n",
    "ORDER BY week_creation\n",
    "'''\n",
    "\n",
    "# выполните запрос\n",
    "df = pd.read_sql_query(query, con=engine)"
   ]
  },
  {
   "cell_type": "code",
   "execution_count": 33,
   "metadata": {
    "scrolled": true
   },
   "outputs": [
    {
     "data": {
      "text/html": [
       "<div>\n",
       "<style scoped>\n",
       "    .dataframe tbody tr th:only-of-type {\n",
       "        vertical-align: middle;\n",
       "    }\n",
       "\n",
       "    .dataframe tbody tr th {\n",
       "        vertical-align: top;\n",
       "    }\n",
       "\n",
       "    .dataframe thead th {\n",
       "        text-align: right;\n",
       "    }\n",
       "</style>\n",
       "<table border=\"1\" class=\"dataframe\">\n",
       "  <thead>\n",
       "    <tr style=\"text-align: right;\">\n",
       "      <th></th>\n",
       "      <th>week_creation</th>\n",
       "      <th>creation_date</th>\n",
       "    </tr>\n",
       "  </thead>\n",
       "  <tbody>\n",
       "    <tr>\n",
       "      <th>0</th>\n",
       "      <td>40.0</td>\n",
       "      <td>2008-10-05 09:00:58</td>\n",
       "    </tr>\n",
       "    <tr>\n",
       "      <th>1</th>\n",
       "      <td>41.0</td>\n",
       "      <td>2008-10-12 21:22:23</td>\n",
       "    </tr>\n",
       "    <tr>\n",
       "      <th>2</th>\n",
       "      <td>42.0</td>\n",
       "      <td>2008-10-19 06:49:30</td>\n",
       "    </tr>\n",
       "    <tr>\n",
       "      <th>3</th>\n",
       "      <td>43.0</td>\n",
       "      <td>2008-10-26 21:44:36</td>\n",
       "    </tr>\n",
       "    <tr>\n",
       "      <th>4</th>\n",
       "      <td>44.0</td>\n",
       "      <td>2008-10-31 22:16:01</td>\n",
       "    </tr>\n",
       "  </tbody>\n",
       "</table>\n",
       "</div>"
      ],
      "text/plain": [
       "   week_creation       creation_date\n",
       "0           40.0 2008-10-05 09:00:58\n",
       "1           41.0 2008-10-12 21:22:23\n",
       "2           42.0 2008-10-19 06:49:30\n",
       "3           43.0 2008-10-26 21:44:36\n",
       "4           44.0 2008-10-31 22:16:01"
      ]
     },
     "execution_count": 33,
     "metadata": {},
     "output_type": "execute_result"
    }
   ],
   "source": [
    "df"
   ]
  },
  {
   "cell_type": "markdown",
   "metadata": {
    "id": "KAcmxvLgDWLR"
   },
   "source": [
    "<details>\n",
    "\n",
    "<summary>Подсказка</summary>\n",
    "Декомпозируйте задачу:\n",
    "1) Найдите пользователя, который опубликовал больше всего постов. 2) Найдите дату и время создания каждого поста этого пользователя и номер недели. \n",
    "3) Отобразите данные только о последних постах пользователя. Для этого можно использовать оконную функцию.\n",
    "</details>"
   ]
  }
 ],
 "metadata": {
  "ExecuteTimeLog": [
   {
    "duration": 891,
    "start_time": "2023-08-10T07:54:48.370Z"
   },
   {
    "duration": 4,
    "start_time": "2023-08-10T07:55:09.076Z"
   },
   {
    "duration": 16518,
    "start_time": "2023-08-10T07:55:13.327Z"
   },
   {
    "duration": 222,
    "start_time": "2023-08-10T07:55:38.781Z"
   },
   {
    "duration": 18,
    "start_time": "2023-08-10T07:55:40.180Z"
   },
   {
    "duration": 217,
    "start_time": "2023-08-10T08:03:08.577Z"
   },
   {
    "duration": 15,
    "start_time": "2023-08-10T08:03:11.773Z"
   },
   {
    "duration": 48,
    "start_time": "2023-08-10T08:04:26.785Z"
   },
   {
    "duration": 10,
    "start_time": "2023-08-10T08:04:29.987Z"
   },
   {
    "duration": 51,
    "start_time": "2023-08-10T08:04:47.488Z"
   },
   {
    "duration": 12,
    "start_time": "2023-08-10T08:04:48.112Z"
   },
   {
    "duration": 56,
    "start_time": "2023-08-10T08:07:08.010Z"
   },
   {
    "duration": 11,
    "start_time": "2023-08-10T08:07:12.927Z"
   },
   {
    "duration": 286,
    "start_time": "2023-08-10T08:09:03.723Z"
   },
   {
    "duration": 145,
    "start_time": "2023-08-10T08:09:21.472Z"
   },
   {
    "duration": 146,
    "start_time": "2023-08-10T08:09:45.588Z"
   },
   {
    "duration": 50,
    "start_time": "2023-08-10T08:09:53.369Z"
   },
   {
    "duration": 10,
    "start_time": "2023-08-10T08:09:54.186Z"
   },
   {
    "duration": 149,
    "start_time": "2023-08-10T08:12:24.981Z"
   },
   {
    "duration": 56,
    "start_time": "2023-08-10T08:12:42.273Z"
   },
   {
    "duration": 9,
    "start_time": "2023-08-10T08:12:46.673Z"
   },
   {
    "duration": 120,
    "start_time": "2023-08-10T08:15:39.802Z"
   },
   {
    "duration": 11,
    "start_time": "2023-08-10T08:15:40.874Z"
   },
   {
    "duration": 95,
    "start_time": "2023-08-10T08:17:42.489Z"
   },
   {
    "duration": 4,
    "start_time": "2023-08-10T08:18:00.173Z"
   },
   {
    "duration": 5,
    "start_time": "2023-08-10T08:19:14.281Z"
   },
   {
    "duration": 78,
    "start_time": "2023-08-10T08:19:36.169Z"
   },
   {
    "duration": 122,
    "start_time": "2023-08-10T08:19:46.027Z"
   },
   {
    "duration": 40,
    "start_time": "2023-08-10T08:27:21.990Z"
   },
   {
    "duration": 9,
    "start_time": "2023-08-10T08:27:26.307Z"
   },
   {
    "duration": 180,
    "start_time": "2023-08-10T08:28:02.952Z"
   },
   {
    "duration": 0,
    "start_time": "2023-08-10T08:28:03.135Z"
   },
   {
    "duration": 238,
    "start_time": "2023-08-10T08:28:37.582Z"
   },
   {
    "duration": 12,
    "start_time": "2023-08-10T08:28:38.004Z"
   },
   {
    "duration": 242,
    "start_time": "2023-08-10T08:29:01.885Z"
   },
   {
    "duration": 17,
    "start_time": "2023-08-10T08:29:02.412Z"
   },
   {
    "duration": 134,
    "start_time": "2023-08-10T08:29:32.080Z"
   },
   {
    "duration": 14,
    "start_time": "2023-08-10T08:29:32.700Z"
   },
   {
    "duration": 236,
    "start_time": "2023-08-10T08:29:46.172Z"
   },
   {
    "duration": 13,
    "start_time": "2023-08-10T08:29:46.585Z"
   },
   {
    "duration": 236,
    "start_time": "2023-08-10T08:30:13.469Z"
   },
   {
    "duration": 11,
    "start_time": "2023-08-10T08:30:13.881Z"
   },
   {
    "duration": 40,
    "start_time": "2023-08-10T08:36:41.492Z"
   },
   {
    "duration": 11,
    "start_time": "2023-08-10T08:36:42.379Z"
   },
   {
    "duration": 180,
    "start_time": "2023-08-10T08:38:21.963Z"
   },
   {
    "duration": 11,
    "start_time": "2023-08-10T08:38:22.882Z"
   },
   {
    "duration": 257,
    "start_time": "2023-08-10T08:39:25.392Z"
   },
   {
    "duration": 12,
    "start_time": "2023-08-10T08:39:25.971Z"
   },
   {
    "duration": 138,
    "start_time": "2023-08-10T08:39:37.866Z"
   },
   {
    "duration": 11,
    "start_time": "2023-08-10T08:39:38.778Z"
   },
   {
    "duration": 201,
    "start_time": "2023-08-10T08:40:26.435Z"
   },
   {
    "duration": 1294,
    "start_time": "2023-08-10T08:40:45.467Z"
   },
   {
    "duration": 16,
    "start_time": "2023-08-10T08:40:46.765Z"
   },
   {
    "duration": 183,
    "start_time": "2023-08-10T08:41:34.571Z"
   },
   {
    "duration": 932,
    "start_time": "2023-08-10T08:41:42.878Z"
   },
   {
    "duration": 10,
    "start_time": "2023-08-10T08:41:43.817Z"
   },
   {
    "duration": 244,
    "start_time": "2023-08-10T08:42:41.983Z"
   },
   {
    "duration": 204,
    "start_time": "2023-08-10T08:42:47.371Z"
   },
   {
    "duration": 1880,
    "start_time": "2023-08-10T08:43:04.466Z"
   },
   {
    "duration": 24,
    "start_time": "2023-08-10T08:43:06.348Z"
   },
   {
    "duration": 1392,
    "start_time": "2023-08-10T08:44:21.115Z"
   },
   {
    "duration": 25,
    "start_time": "2023-08-10T08:44:22.515Z"
   },
   {
    "duration": 1388,
    "start_time": "2023-08-10T08:45:42.071Z"
   },
   {
    "duration": 22,
    "start_time": "2023-08-10T08:45:43.462Z"
   },
   {
    "duration": 161,
    "start_time": "2023-08-10T08:49:44.787Z"
   },
   {
    "duration": 238,
    "start_time": "2023-08-10T08:50:00.298Z"
   },
   {
    "duration": 435,
    "start_time": "2023-08-10T08:50:16.835Z"
   },
   {
    "duration": 15,
    "start_time": "2023-08-10T08:50:20.985Z"
   },
   {
    "duration": 187,
    "start_time": "2023-08-10T08:52:28.390Z"
   },
   {
    "duration": 184,
    "start_time": "2023-08-10T08:52:43.590Z"
   },
   {
    "duration": 218,
    "start_time": "2023-08-10T08:53:24.486Z"
   },
   {
    "duration": 255,
    "start_time": "2023-08-10T08:53:38.699Z"
   },
   {
    "duration": 203,
    "start_time": "2023-08-10T08:54:46.187Z"
   },
   {
    "duration": 178,
    "start_time": "2023-08-10T09:00:56.504Z"
   },
   {
    "duration": 207,
    "start_time": "2023-08-10T09:01:31.218Z"
   },
   {
    "duration": 16,
    "start_time": "2023-08-10T09:01:32.118Z"
   },
   {
    "duration": 305,
    "start_time": "2023-08-10T09:01:49.573Z"
   },
   {
    "duration": 11,
    "start_time": "2023-08-10T09:01:50.072Z"
   },
   {
    "duration": 9,
    "start_time": "2023-08-10T09:09:30.380Z"
   },
   {
    "duration": 186,
    "start_time": "2023-08-10T09:09:34.210Z"
   },
   {
    "duration": 212,
    "start_time": "2023-08-10T09:09:52.671Z"
   },
   {
    "duration": 252,
    "start_time": "2023-08-10T09:10:08.280Z"
   },
   {
    "duration": 20,
    "start_time": "2023-08-10T09:10:16.374Z"
   },
   {
    "duration": 11,
    "start_time": "2023-08-10T09:10:52.109Z"
   },
   {
    "duration": 3,
    "start_time": "2023-08-10T09:32:03.122Z"
   },
   {
    "duration": 847,
    "start_time": "2023-08-10T10:03:25.341Z"
   },
   {
    "duration": 10,
    "start_time": "2023-08-10T10:03:29.961Z"
   },
   {
    "duration": 757,
    "start_time": "2023-08-10T10:04:37.362Z"
   },
   {
    "duration": 8,
    "start_time": "2023-08-10T10:04:38.369Z"
   },
   {
    "duration": 101,
    "start_time": "2023-08-10T10:05:11.642Z"
   },
   {
    "duration": 7,
    "start_time": "2023-08-10T10:05:12.548Z"
   },
   {
    "duration": 105,
    "start_time": "2023-08-10T10:05:33.790Z"
   },
   {
    "duration": 8,
    "start_time": "2023-08-10T10:05:34.365Z"
   },
   {
    "duration": 105,
    "start_time": "2023-08-10T10:05:50.508Z"
   },
   {
    "duration": 9,
    "start_time": "2023-08-10T10:05:50.984Z"
   },
   {
    "duration": 230,
    "start_time": "2023-08-10T10:09:52.978Z"
   },
   {
    "duration": 131,
    "start_time": "2023-08-10T10:10:12.049Z"
   },
   {
    "duration": 7,
    "start_time": "2023-08-10T10:10:12.883Z"
   },
   {
    "duration": 102,
    "start_time": "2023-08-10T10:11:57.578Z"
   },
   {
    "duration": 7,
    "start_time": "2023-08-10T10:11:58.556Z"
   },
   {
    "duration": 76,
    "start_time": "2023-08-10T10:17:30.264Z"
   },
   {
    "duration": 8,
    "start_time": "2023-08-10T10:17:31.166Z"
   },
   {
    "duration": 100,
    "start_time": "2023-08-10T10:17:41.124Z"
   },
   {
    "duration": 8,
    "start_time": "2023-08-10T10:17:41.766Z"
   },
   {
    "duration": 169,
    "start_time": "2023-08-10T10:32:51.116Z"
   },
   {
    "duration": 8,
    "start_time": "2023-08-10T10:32:54.838Z"
   },
   {
    "duration": 168,
    "start_time": "2023-08-10T10:37:31.878Z"
   },
   {
    "duration": 10,
    "start_time": "2023-08-10T10:37:32.819Z"
   },
   {
    "duration": 164,
    "start_time": "2023-08-10T10:37:49.876Z"
   },
   {
    "duration": 7,
    "start_time": "2023-08-10T10:37:50.624Z"
   },
   {
    "duration": 906,
    "start_time": "2023-08-10T10:48:47.468Z"
   },
   {
    "duration": 12,
    "start_time": "2023-08-10T10:48:49.034Z"
   },
   {
    "duration": 1267,
    "start_time": "2023-08-10T10:49:54.119Z"
   },
   {
    "duration": 11,
    "start_time": "2023-08-10T10:49:55.388Z"
   },
   {
    "duration": 166,
    "start_time": "2023-08-10T10:50:57.868Z"
   },
   {
    "duration": 237,
    "start_time": "2023-08-10T10:51:06.525Z"
   },
   {
    "duration": 1319,
    "start_time": "2023-08-10T10:51:15.826Z"
   },
   {
    "duration": 14,
    "start_time": "2023-08-10T10:51:17.147Z"
   },
   {
    "duration": 1452,
    "start_time": "2023-08-10T10:51:34.727Z"
   },
   {
    "duration": 11,
    "start_time": "2023-08-10T10:51:36.181Z"
   },
   {
    "duration": 151,
    "start_time": "2023-08-10T10:52:18.398Z"
   },
   {
    "duration": 1324,
    "start_time": "2023-08-10T10:52:40.667Z"
   },
   {
    "duration": 28,
    "start_time": "2023-08-10T10:52:41.994Z"
   },
   {
    "duration": 1447,
    "start_time": "2023-08-10T10:54:32.676Z"
   },
   {
    "duration": 13,
    "start_time": "2023-08-10T10:54:34.126Z"
   },
   {
    "duration": 1309,
    "start_time": "2023-08-10T10:55:29.033Z"
   },
   {
    "duration": 12,
    "start_time": "2023-08-10T10:55:30.344Z"
   },
   {
    "duration": 1385,
    "start_time": "2023-08-10T10:55:54.270Z"
   },
   {
    "duration": 12,
    "start_time": "2023-08-10T10:55:55.657Z"
   },
   {
    "duration": 141,
    "start_time": "2023-08-10T10:56:03.620Z"
   },
   {
    "duration": 1415,
    "start_time": "2023-08-10T10:56:09.388Z"
   },
   {
    "duration": 13,
    "start_time": "2023-08-10T10:56:10.817Z"
   },
   {
    "duration": 1410,
    "start_time": "2023-08-10T10:56:22.732Z"
   },
   {
    "duration": 13,
    "start_time": "2023-08-10T10:56:24.144Z"
   },
   {
    "duration": 1366,
    "start_time": "2023-08-10T10:57:16.423Z"
   },
   {
    "duration": 14,
    "start_time": "2023-08-10T10:57:17.972Z"
   },
   {
    "duration": 8,
    "start_time": "2023-08-10T10:57:34.584Z"
   },
   {
    "duration": 11,
    "start_time": "2023-08-10T10:57:37.773Z"
   },
   {
    "duration": 15,
    "start_time": "2023-08-10T10:57:46.048Z"
   },
   {
    "duration": 268,
    "start_time": "2023-08-10T11:03:55.582Z"
   },
   {
    "duration": 8,
    "start_time": "2023-08-10T11:03:59.224Z"
   },
   {
    "duration": 68,
    "start_time": "2023-08-10T11:05:22.715Z"
   },
   {
    "duration": 7,
    "start_time": "2023-08-10T11:05:23.725Z"
   },
   {
    "duration": 180,
    "start_time": "2023-08-10T11:12:34.174Z"
   },
   {
    "duration": 178,
    "start_time": "2023-08-10T11:13:00.102Z"
   },
   {
    "duration": 148,
    "start_time": "2023-08-10T11:14:20.644Z"
   },
   {
    "duration": 160,
    "start_time": "2023-08-10T11:14:33.627Z"
   },
   {
    "duration": 176,
    "start_time": "2023-08-10T11:14:57.786Z"
   },
   {
    "duration": 10,
    "start_time": "2023-08-10T11:15:05.046Z"
   },
   {
    "duration": 101,
    "start_time": "2023-08-10T11:15:26.574Z"
   },
   {
    "duration": 7,
    "start_time": "2023-08-10T11:15:27.386Z"
   },
   {
    "duration": 190,
    "start_time": "2023-08-10T11:15:54.103Z"
   },
   {
    "duration": 115,
    "start_time": "2023-08-10T11:16:00.926Z"
   },
   {
    "duration": 9,
    "start_time": "2023-08-10T11:16:01.927Z"
   },
   {
    "duration": 105,
    "start_time": "2023-08-10T11:17:45.330Z"
   },
   {
    "duration": 8,
    "start_time": "2023-08-10T11:17:46.088Z"
   },
   {
    "duration": 105,
    "start_time": "2023-08-10T11:18:01.466Z"
   },
   {
    "duration": 11,
    "start_time": "2023-08-10T11:18:02.019Z"
   },
   {
    "duration": 895,
    "start_time": "2023-08-11T08:01:54.967Z"
   },
   {
    "duration": 4,
    "start_time": "2023-08-11T08:02:21.266Z"
   },
   {
    "duration": 13422,
    "start_time": "2023-08-11T08:02:24.066Z"
   },
   {
    "duration": 253,
    "start_time": "2023-08-11T08:02:43.757Z"
   },
   {
    "duration": 14,
    "start_time": "2023-08-11T08:02:44.981Z"
   },
   {
    "duration": 145,
    "start_time": "2023-08-11T08:02:48.983Z"
   },
   {
    "duration": 7,
    "start_time": "2023-08-11T08:02:50.194Z"
   },
   {
    "duration": 357,
    "start_time": "2023-08-11T08:02:59.774Z"
   },
   {
    "duration": 10,
    "start_time": "2023-08-11T08:03:01.382Z"
   },
   {
    "duration": 308,
    "start_time": "2023-08-11T08:03:05.774Z"
   },
   {
    "duration": 8,
    "start_time": "2023-08-11T08:03:06.997Z"
   },
   {
    "duration": 169,
    "start_time": "2023-08-11T08:03:14.334Z"
   },
   {
    "duration": 7,
    "start_time": "2023-08-11T08:03:15.430Z"
   },
   {
    "duration": 1337,
    "start_time": "2023-08-11T08:03:27.131Z"
   },
   {
    "duration": 11,
    "start_time": "2023-08-11T08:03:28.470Z"
   },
   {
    "duration": 112,
    "start_time": "2023-08-11T08:04:02.436Z"
   },
   {
    "duration": 7,
    "start_time": "2023-08-11T08:04:03.154Z"
   },
   {
    "duration": 227,
    "start_time": "2023-08-11T08:06:55.654Z"
   },
   {
    "duration": 120,
    "start_time": "2023-08-11T08:07:05.538Z"
   },
   {
    "duration": 9,
    "start_time": "2023-08-11T08:07:06.489Z"
   },
   {
    "duration": 157,
    "start_time": "2023-08-11T08:07:25.274Z"
   },
   {
    "duration": 9,
    "start_time": "2023-08-11T08:07:26.154Z"
   },
   {
    "duration": 143,
    "start_time": "2023-08-11T08:08:51.111Z"
   },
   {
    "duration": 883,
    "start_time": "2023-08-11T08:09:33.604Z"
   },
   {
    "duration": 8,
    "start_time": "2023-08-11T08:09:34.489Z"
   },
   {
    "duration": 832,
    "start_time": "2023-08-11T08:09:45.636Z"
   },
   {
    "duration": 8,
    "start_time": "2023-08-11T08:09:46.470Z"
   },
   {
    "duration": 177,
    "start_time": "2023-08-11T08:10:03.576Z"
   },
   {
    "duration": 8,
    "start_time": "2023-08-11T08:10:04.182Z"
   },
   {
    "duration": 104,
    "start_time": "2023-08-11T08:10:42.549Z"
   },
   {
    "duration": 8,
    "start_time": "2023-08-11T08:10:43.298Z"
   },
   {
    "duration": 67,
    "start_time": "2023-08-11T08:11:05.038Z"
   },
   {
    "duration": 25,
    "start_time": "2023-08-11T08:11:05.912Z"
   },
   {
    "duration": 71,
    "start_time": "2023-08-11T08:11:15.174Z"
   },
   {
    "duration": 12,
    "start_time": "2023-08-11T08:11:15.717Z"
   },
   {
    "duration": 975,
    "start_time": "2023-08-11T08:12:55.591Z"
   },
   {
    "duration": 11,
    "start_time": "2023-08-11T08:12:57.302Z"
   },
   {
    "duration": 105,
    "start_time": "2023-08-11T08:13:38.763Z"
   },
   {
    "duration": 11,
    "start_time": "2023-08-11T08:13:40.262Z"
   },
   {
    "duration": 94,
    "start_time": "2023-08-11T08:14:18.685Z"
   },
   {
    "duration": 22,
    "start_time": "2023-08-11T08:14:20.005Z"
   },
   {
    "duration": 192,
    "start_time": "2023-08-11T08:14:58.863Z"
   },
   {
    "duration": 264,
    "start_time": "2023-08-11T08:15:21.237Z"
   },
   {
    "duration": 105,
    "start_time": "2023-08-11T08:15:36.658Z"
   },
   {
    "duration": 11,
    "start_time": "2023-08-11T08:15:37.337Z"
   },
   {
    "duration": 218,
    "start_time": "2023-08-11T08:16:17.845Z"
   },
   {
    "duration": 245,
    "start_time": "2023-08-11T08:16:25.440Z"
   },
   {
    "duration": 298,
    "start_time": "2023-08-11T08:16:37.171Z"
   },
   {
    "duration": 174,
    "start_time": "2023-08-11T08:17:02.475Z"
   },
   {
    "duration": 154,
    "start_time": "2023-08-11T08:17:15.034Z"
   },
   {
    "duration": 122,
    "start_time": "2023-08-11T08:17:24.718Z"
   },
   {
    "duration": 17,
    "start_time": "2023-08-11T08:17:27.497Z"
   },
   {
    "duration": 102,
    "start_time": "2023-08-11T08:17:52.576Z"
   },
   {
    "duration": 11,
    "start_time": "2023-08-11T08:17:53.585Z"
   },
   {
    "duration": 95,
    "start_time": "2023-08-11T08:21:13.656Z"
   },
   {
    "duration": 9,
    "start_time": "2023-08-11T08:21:14.633Z"
   },
   {
    "duration": 104,
    "start_time": "2023-08-11T08:22:28.802Z"
   },
   {
    "duration": 8,
    "start_time": "2023-08-11T08:22:29.197Z"
   },
   {
    "duration": 96,
    "start_time": "2023-08-11T08:22:39.767Z"
   },
   {
    "duration": 8,
    "start_time": "2023-08-11T08:22:40.199Z"
   },
   {
    "duration": 229,
    "start_time": "2023-08-11T08:23:31.538Z"
   },
   {
    "duration": 195,
    "start_time": "2023-08-11T08:24:00.180Z"
   },
   {
    "duration": 7,
    "start_time": "2023-08-11T08:24:01.156Z"
   },
   {
    "duration": 94,
    "start_time": "2023-08-11T08:24:08.587Z"
   },
   {
    "duration": 7,
    "start_time": "2023-08-11T08:24:09.245Z"
   },
   {
    "duration": 572,
    "start_time": "2023-08-11T08:43:47.853Z"
   },
   {
    "duration": 7,
    "start_time": "2023-08-11T08:43:49.027Z"
   },
   {
    "duration": 912,
    "start_time": "2023-08-11T08:44:36.345Z"
   },
   {
    "duration": 9,
    "start_time": "2023-08-11T08:44:37.259Z"
   },
   {
    "duration": 900,
    "start_time": "2023-08-11T08:44:42.346Z"
   },
   {
    "duration": 11,
    "start_time": "2023-08-11T08:44:43.249Z"
   },
   {
    "duration": 148,
    "start_time": "2023-08-11T08:45:16.729Z"
   },
   {
    "duration": 11,
    "start_time": "2023-08-11T08:45:17.638Z"
   },
   {
    "duration": 67,
    "start_time": "2023-08-11T08:50:51.876Z"
   },
   {
    "duration": 6,
    "start_time": "2023-08-11T08:50:52.477Z"
   },
   {
    "duration": 827,
    "start_time": "2023-08-11T08:52:13.228Z"
   },
   {
    "duration": 10,
    "start_time": "2023-08-11T08:52:14.057Z"
   },
   {
    "duration": 1334,
    "start_time": "2023-08-11T08:53:07.429Z"
   },
   {
    "duration": 9,
    "start_time": "2023-08-11T08:53:08.765Z"
   },
   {
    "duration": 225,
    "start_time": "2023-08-11T08:53:27.901Z"
   },
   {
    "duration": 357,
    "start_time": "2023-08-11T08:53:41.510Z"
   },
   {
    "duration": 235,
    "start_time": "2023-08-11T08:54:05.910Z"
   },
   {
    "duration": 95,
    "start_time": "2023-08-11T08:54:19.960Z"
   },
   {
    "duration": 7,
    "start_time": "2023-08-11T08:54:20.750Z"
   },
   {
    "duration": 192,
    "start_time": "2023-08-11T08:59:45.661Z"
   },
   {
    "duration": 69,
    "start_time": "2023-08-11T08:59:51.964Z"
   },
   {
    "duration": 8,
    "start_time": "2023-08-11T08:59:52.810Z"
   },
   {
    "duration": 82,
    "start_time": "2023-08-11T09:00:08.143Z"
   },
   {
    "duration": 7,
    "start_time": "2023-08-11T09:00:08.630Z"
   },
   {
    "duration": 148,
    "start_time": "2023-08-11T09:15:24.099Z"
   },
   {
    "duration": 139,
    "start_time": "2023-08-11T09:15:46.783Z"
   },
   {
    "duration": 163,
    "start_time": "2023-08-11T09:16:14.021Z"
   },
   {
    "duration": 186,
    "start_time": "2023-08-11T09:16:37.761Z"
   },
   {
    "duration": 66,
    "start_time": "2023-08-11T09:17:24.669Z"
   },
   {
    "duration": 7,
    "start_time": "2023-08-11T09:17:25.479Z"
   },
   {
    "duration": 649,
    "start_time": "2023-08-11T09:19:00.851Z"
   },
   {
    "duration": 12,
    "start_time": "2023-08-11T09:19:01.503Z"
   },
   {
    "duration": 156,
    "start_time": "2023-08-11T09:19:35.249Z"
   },
   {
    "duration": 267,
    "start_time": "2023-08-11T09:19:45.336Z"
   },
   {
    "duration": 9,
    "start_time": "2023-08-11T09:19:46.068Z"
   },
   {
    "duration": 179,
    "start_time": "2023-08-11T09:20:45.389Z"
   },
   {
    "duration": 995,
    "start_time": "2023-08-11T09:22:08.818Z"
   },
   {
    "duration": 12,
    "start_time": "2023-08-11T09:22:09.815Z"
   },
   {
    "duration": 1162,
    "start_time": "2023-08-11T09:22:51.759Z"
   },
   {
    "duration": 16,
    "start_time": "2023-08-11T09:22:52.924Z"
   },
   {
    "duration": 1092,
    "start_time": "2023-08-11T09:23:15.450Z"
   },
   {
    "duration": 11,
    "start_time": "2023-08-11T09:23:16.544Z"
   },
   {
    "duration": 1202,
    "start_time": "2023-08-11T09:23:46.340Z"
   },
   {
    "duration": 11,
    "start_time": "2023-08-11T09:23:47.544Z"
   },
   {
    "duration": 148,
    "start_time": "2023-08-11T09:24:06.457Z"
   },
   {
    "duration": 174,
    "start_time": "2023-08-11T09:24:26.822Z"
   },
   {
    "duration": 1105,
    "start_time": "2023-08-11T09:24:48.959Z"
   },
   {
    "duration": 10,
    "start_time": "2023-08-11T09:24:50.066Z"
   },
   {
    "duration": 188,
    "start_time": "2023-08-11T09:26:18.076Z"
   },
   {
    "duration": 1238,
    "start_time": "2023-08-11T09:26:24.737Z"
   },
   {
    "duration": 15,
    "start_time": "2023-08-11T09:26:25.977Z"
   },
   {
    "duration": 155,
    "start_time": "2023-08-11T09:26:48.903Z"
   },
   {
    "duration": 1114,
    "start_time": "2023-08-11T09:27:01.674Z"
   },
   {
    "duration": 10,
    "start_time": "2023-08-11T09:27:02.790Z"
   },
   {
    "duration": 1289,
    "start_time": "2023-08-11T09:27:13.170Z"
   },
   {
    "duration": 11,
    "start_time": "2023-08-11T09:27:14.461Z"
   },
   {
    "duration": 149,
    "start_time": "2023-08-11T09:27:35.850Z"
   },
   {
    "duration": 165,
    "start_time": "2023-08-11T09:27:50.949Z"
   },
   {
    "duration": 258,
    "start_time": "2023-08-11T09:28:12.103Z"
   },
   {
    "duration": 1202,
    "start_time": "2023-08-11T09:28:22.939Z"
   },
   {
    "duration": 14,
    "start_time": "2023-08-11T09:28:24.143Z"
   },
   {
    "duration": 203,
    "start_time": "2023-08-11T09:35:42.970Z"
   },
   {
    "duration": 12,
    "start_time": "2023-08-11T09:35:44.014Z"
   },
   {
    "duration": 79,
    "start_time": "2023-08-11T09:36:01.488Z"
   },
   {
    "duration": 9,
    "start_time": "2023-08-11T09:36:01.936Z"
   },
   {
    "duration": 71,
    "start_time": "2023-08-11T09:36:18.725Z"
   },
   {
    "duration": 7,
    "start_time": "2023-08-11T09:36:19.572Z"
   },
   {
    "duration": 1171,
    "start_time": "2023-08-11T09:38:59.323Z"
   },
   {
    "duration": 27,
    "start_time": "2023-08-11T09:39:00.497Z"
   },
   {
    "duration": 1153,
    "start_time": "2023-08-11T09:39:18.869Z"
   },
   {
    "duration": 11,
    "start_time": "2023-08-11T09:39:20.025Z"
   },
   {
    "duration": 1170,
    "start_time": "2023-08-11T09:39:31.679Z"
   },
   {
    "duration": 11,
    "start_time": "2023-08-11T09:39:32.851Z"
   },
   {
    "duration": 122,
    "start_time": "2023-08-11T09:40:23.631Z"
   },
   {
    "duration": 11,
    "start_time": "2023-08-11T09:40:24.443Z"
   },
   {
    "duration": 99,
    "start_time": "2023-08-11T09:42:25.232Z"
   },
   {
    "duration": 9,
    "start_time": "2023-08-11T09:42:26.033Z"
   },
   {
    "duration": 112,
    "start_time": "2023-08-11T09:43:13.030Z"
   },
   {
    "duration": 10,
    "start_time": "2023-08-11T09:43:13.791Z"
   },
   {
    "duration": 104,
    "start_time": "2023-08-11T09:43:25.551Z"
   },
   {
    "duration": 12,
    "start_time": "2023-08-11T09:43:26.250Z"
   },
   {
    "duration": 108,
    "start_time": "2023-08-11T09:43:33.620Z"
   },
   {
    "duration": 8,
    "start_time": "2023-08-11T09:43:34.174Z"
   },
   {
    "duration": 119,
    "start_time": "2023-08-11T09:43:42.608Z"
   },
   {
    "duration": 10,
    "start_time": "2023-08-11T09:43:43.275Z"
   },
   {
    "duration": 105,
    "start_time": "2023-08-11T09:43:53.578Z"
   },
   {
    "duration": 12,
    "start_time": "2023-08-11T09:43:54.219Z"
   },
   {
    "duration": 121,
    "start_time": "2023-08-11T09:44:10.911Z"
   },
   {
    "duration": 6,
    "start_time": "2023-08-11T09:44:11.460Z"
   },
   {
    "duration": 110,
    "start_time": "2023-08-11T09:44:20.838Z"
   },
   {
    "duration": 7,
    "start_time": "2023-08-11T09:44:21.365Z"
   },
   {
    "duration": 174,
    "start_time": "2023-08-11T09:44:47.031Z"
   },
   {
    "duration": 126,
    "start_time": "2023-08-11T09:44:57.907Z"
   },
   {
    "duration": 7,
    "start_time": "2023-08-11T09:44:58.754Z"
   },
   {
    "duration": 173,
    "start_time": "2023-08-11T09:46:42.375Z"
   },
   {
    "duration": 612,
    "start_time": "2023-08-11T09:47:58.373Z"
   },
   {
    "duration": 7,
    "start_time": "2023-08-11T09:47:59.266Z"
   },
   {
    "duration": 107,
    "start_time": "2023-08-11T09:48:12.231Z"
   },
   {
    "duration": 7,
    "start_time": "2023-08-11T09:48:13.075Z"
   },
   {
    "duration": 114,
    "start_time": "2023-08-11T09:50:08.812Z"
   },
   {
    "duration": 6,
    "start_time": "2023-08-11T09:50:09.627Z"
   },
   {
    "duration": 207,
    "start_time": "2023-08-11T09:50:58.323Z"
   },
   {
    "duration": 97,
    "start_time": "2023-08-11T09:51:18.358Z"
   },
   {
    "duration": 8,
    "start_time": "2023-08-11T09:51:19.178Z"
   },
   {
    "duration": 98,
    "start_time": "2023-08-11T09:51:43.007Z"
   },
   {
    "duration": 7,
    "start_time": "2023-08-11T09:51:44.038Z"
   },
   {
    "duration": 3,
    "start_time": "2023-08-11T12:19:45.604Z"
   },
   {
    "duration": 3,
    "start_time": "2023-08-11T12:19:48.316Z"
   },
   {
    "duration": 3,
    "start_time": "2023-08-11T12:19:50.823Z"
   },
   {
    "duration": 237,
    "start_time": "2023-08-11T12:19:53.381Z"
   },
   {
    "duration": 10,
    "start_time": "2023-08-11T12:19:54.155Z"
   },
   {
    "duration": 118,
    "start_time": "2023-08-11T12:19:56.259Z"
   },
   {
    "duration": 7,
    "start_time": "2023-08-11T12:19:58.546Z"
   },
   {
    "duration": 330,
    "start_time": "2023-08-11T12:20:02.421Z"
   },
   {
    "duration": 9,
    "start_time": "2023-08-11T12:20:03.649Z"
   },
   {
    "duration": 154,
    "start_time": "2023-08-11T12:20:07.319Z"
   },
   {
    "duration": 6,
    "start_time": "2023-08-11T12:20:08.812Z"
   },
   {
    "duration": 169,
    "start_time": "2023-08-11T12:20:11.071Z"
   },
   {
    "duration": 6,
    "start_time": "2023-08-11T12:20:12.062Z"
   },
   {
    "duration": 1329,
    "start_time": "2023-08-11T12:20:15.836Z"
   },
   {
    "duration": 11,
    "start_time": "2023-08-11T12:20:17.167Z"
   },
   {
    "duration": 97,
    "start_time": "2023-08-11T12:20:21.111Z"
   },
   {
    "duration": 7,
    "start_time": "2023-08-11T12:20:22.370Z"
   },
   {
    "duration": 3,
    "start_time": "2023-08-11T12:21:36.883Z"
   },
   {
    "duration": 117,
    "start_time": "2023-08-11T12:22:00.146Z"
   },
   {
    "duration": 7,
    "start_time": "2023-08-11T12:22:03.845Z"
   },
   {
    "duration": 228,
    "start_time": "2023-08-11T12:22:34.358Z"
   },
   {
    "duration": 11,
    "start_time": "2023-08-11T12:22:34.776Z"
   },
   {
    "duration": 150,
    "start_time": "2023-08-11T12:22:52.367Z"
   },
   {
    "duration": 10,
    "start_time": "2023-08-11T12:22:52.825Z"
   },
   {
    "duration": 52,
    "start_time": "2023-08-11T12:24:01.180Z"
   },
   {
    "duration": 14,
    "start_time": "2023-08-11T12:24:01.997Z"
   },
   {
    "duration": 71,
    "start_time": "2023-08-11T12:43:22.881Z"
   },
   {
    "duration": 12,
    "start_time": "2023-08-11T12:43:23.728Z"
   },
   {
    "duration": 78,
    "start_time": "2023-08-11T12:43:55.139Z"
   },
   {
    "duration": 15,
    "start_time": "2023-08-11T12:43:55.734Z"
   },
   {
    "duration": 73,
    "start_time": "2023-08-11T12:44:04.862Z"
   },
   {
    "duration": 11,
    "start_time": "2023-08-11T12:44:05.331Z"
   },
   {
    "duration": 153,
    "start_time": "2023-08-11T12:45:34.783Z"
   },
   {
    "duration": 11,
    "start_time": "2023-08-11T12:45:35.223Z"
   },
   {
    "duration": 199,
    "start_time": "2023-08-11T12:45:56.477Z"
   },
   {
    "duration": 7,
    "start_time": "2023-08-11T12:45:57.090Z"
   },
   {
    "duration": 274,
    "start_time": "2023-08-11T12:46:32.474Z"
   },
   {
    "duration": 9,
    "start_time": "2023-08-11T12:46:33.056Z"
   },
   {
    "duration": 201,
    "start_time": "2023-08-11T12:47:29.236Z"
   },
   {
    "duration": 12,
    "start_time": "2023-08-11T12:47:30.169Z"
   },
   {
    "duration": 229,
    "start_time": "2023-08-11T12:47:42.231Z"
   },
   {
    "duration": 235,
    "start_time": "2023-08-11T12:47:55.502Z"
   },
   {
    "duration": 224,
    "start_time": "2023-08-11T12:48:15.755Z"
   },
   {
    "duration": 11,
    "start_time": "2023-08-11T12:48:17.681Z"
   },
   {
    "duration": 243,
    "start_time": "2023-08-11T12:48:26.083Z"
   },
   {
    "duration": 284,
    "start_time": "2023-08-11T12:48:38.599Z"
   },
   {
    "duration": 33,
    "start_time": "2023-08-11T12:48:39.401Z"
   },
   {
    "duration": 2913,
    "start_time": "2023-08-11T12:49:38.927Z"
   },
   {
    "duration": 25,
    "start_time": "2023-08-11T12:49:41.842Z"
   },
   {
    "duration": 57,
    "start_time": "2023-08-11T12:50:12.623Z"
   },
   {
    "duration": 11,
    "start_time": "2023-08-11T12:50:13.463Z"
   },
   {
    "duration": 172,
    "start_time": "2023-08-11T12:50:33.886Z"
   },
   {
    "duration": 200,
    "start_time": "2023-08-11T12:50:39.867Z"
   },
   {
    "duration": 23,
    "start_time": "2023-08-11T12:50:40.683Z"
   },
   {
    "duration": 2941,
    "start_time": "2023-08-11T12:51:07.359Z"
   },
   {
    "duration": 32,
    "start_time": "2023-08-11T12:51:10.303Z"
   },
   {
    "duration": 277,
    "start_time": "2023-08-11T12:53:02.469Z"
   },
   {
    "duration": 36,
    "start_time": "2023-08-11T12:53:03.662Z"
   },
   {
    "duration": 65,
    "start_time": "2023-08-11T12:53:28.200Z"
   },
   {
    "duration": 8,
    "start_time": "2023-08-11T12:53:31.376Z"
   },
   {
    "duration": 152,
    "start_time": "2023-08-11T12:55:56.673Z"
   },
   {
    "duration": 12,
    "start_time": "2023-08-11T12:55:57.255Z"
   },
   {
    "duration": 728,
    "start_time": "2023-08-11T13:01:19.323Z"
   },
   {
    "duration": 8,
    "start_time": "2023-08-11T13:01:20.054Z"
   },
   {
    "duration": 809,
    "start_time": "2023-08-11T13:01:57.077Z"
   },
   {
    "duration": 9,
    "start_time": "2023-08-11T13:01:57.888Z"
   },
   {
    "duration": 923,
    "start_time": "2023-08-11T13:02:13.765Z"
   },
   {
    "duration": 9,
    "start_time": "2023-08-11T13:02:14.890Z"
   },
   {
    "duration": 780,
    "start_time": "2023-08-11T13:02:26.383Z"
   },
   {
    "duration": 8,
    "start_time": "2023-08-11T13:02:27.165Z"
   },
   {
    "duration": 203,
    "start_time": "2023-08-11T13:04:00.058Z"
   },
   {
    "duration": 20,
    "start_time": "2023-08-11T13:04:01.146Z"
   },
   {
    "duration": 71,
    "start_time": "2023-08-11T13:22:52.375Z"
   },
   {
    "duration": 6,
    "start_time": "2023-08-11T13:22:54.726Z"
   },
   {
    "duration": 74,
    "start_time": "2023-08-11T13:25:37.283Z"
   },
   {
    "duration": 80,
    "start_time": "2023-08-11T13:25:46.668Z"
   },
   {
    "duration": 4,
    "start_time": "2023-08-11T13:38:05.564Z"
   },
   {
    "duration": 742,
    "start_time": "2023-08-11T13:38:28.468Z"
   },
   {
    "duration": 12,
    "start_time": "2023-08-11T13:38:32.549Z"
   },
   {
    "duration": 879,
    "start_time": "2023-08-11T13:39:00.558Z"
   },
   {
    "duration": 11,
    "start_time": "2023-08-11T13:39:01.440Z"
   },
   {
    "duration": 160,
    "start_time": "2023-08-11T13:41:32.127Z"
   },
   {
    "duration": 1327,
    "start_time": "2023-08-11T13:46:14.591Z"
   },
   {
    "duration": 19,
    "start_time": "2023-08-11T13:46:15.925Z"
   },
   {
    "duration": 1460,
    "start_time": "2023-08-11T13:46:51.169Z"
   },
   {
    "duration": 12,
    "start_time": "2023-08-11T13:46:52.630Z"
   },
   {
    "duration": 1244,
    "start_time": "2023-08-11T13:47:10.701Z"
   },
   {
    "duration": 12,
    "start_time": "2023-08-11T13:47:11.947Z"
   },
   {
    "duration": 1352,
    "start_time": "2023-08-11T13:48:04.966Z"
   },
   {
    "duration": 16,
    "start_time": "2023-08-11T13:48:06.324Z"
   },
   {
    "duration": 162,
    "start_time": "2023-08-11T13:49:57.222Z"
   },
   {
    "duration": 1288,
    "start_time": "2023-08-11T13:50:03.682Z"
   },
   {
    "duration": 11,
    "start_time": "2023-08-11T13:50:04.972Z"
   },
   {
    "duration": 9,
    "start_time": "2023-08-11T13:51:00.626Z"
   },
   {
    "duration": 178,
    "start_time": "2023-08-11T13:51:33.201Z"
   },
   {
    "duration": 1312,
    "start_time": "2023-08-11T13:51:45.962Z"
   },
   {
    "duration": 10,
    "start_time": "2023-08-11T13:51:47.277Z"
   },
   {
    "duration": 863,
    "start_time": "2023-08-15T09:02:39.481Z"
   },
   {
    "duration": 3,
    "start_time": "2023-08-15T09:02:41.932Z"
   },
   {
    "duration": 15206,
    "start_time": "2023-08-15T09:02:43.280Z"
   },
   {
    "duration": 218,
    "start_time": "2023-08-15T09:02:58.488Z"
   },
   {
    "duration": 14,
    "start_time": "2023-08-15T09:02:58.707Z"
   },
   {
    "duration": 117,
    "start_time": "2023-08-15T09:03:01.753Z"
   },
   {
    "duration": 7,
    "start_time": "2023-08-15T09:03:02.925Z"
   },
   {
    "duration": 314,
    "start_time": "2023-08-15T09:03:06.949Z"
   },
   {
    "duration": 10,
    "start_time": "2023-08-15T09:03:07.877Z"
   },
   {
    "duration": 212,
    "start_time": "2023-08-15T09:03:10.130Z"
   },
   {
    "duration": 6,
    "start_time": "2023-08-15T09:03:10.833Z"
   },
   {
    "duration": 166,
    "start_time": "2023-08-15T09:03:13.051Z"
   },
   {
    "duration": 7,
    "start_time": "2023-08-15T09:03:13.722Z"
   },
   {
    "duration": 1180,
    "start_time": "2023-08-15T09:03:17.501Z"
   },
   {
    "duration": 12,
    "start_time": "2023-08-15T09:03:18.683Z"
   },
   {
    "duration": 93,
    "start_time": "2023-08-15T09:03:21.512Z"
   },
   {
    "duration": 7,
    "start_time": "2023-08-15T09:03:22.360Z"
   },
   {
    "duration": 69,
    "start_time": "2023-08-15T09:03:28.062Z"
   },
   {
    "duration": 6,
    "start_time": "2023-08-15T09:03:28.983Z"
   },
   {
    "duration": 3,
    "start_time": "2023-08-15T09:03:30.970Z"
   },
   {
    "duration": 76,
    "start_time": "2023-08-15T09:03:32.730Z"
   },
   {
    "duration": 767,
    "start_time": "2023-08-15T09:04:48.211Z"
   },
   {
    "duration": 7,
    "start_time": "2023-08-15T09:04:48.988Z"
   },
   {
    "duration": 830,
    "start_time": "2023-08-15T09:05:10.379Z"
   },
   {
    "duration": 7,
    "start_time": "2023-08-15T09:05:11.528Z"
   },
   {
    "duration": 1128,
    "start_time": "2023-08-15T09:07:35.323Z"
   },
   {
    "duration": 8,
    "start_time": "2023-08-15T09:07:36.453Z"
   },
   {
    "duration": 1127,
    "start_time": "2023-08-15T09:08:31.450Z"
   },
   {
    "duration": 10,
    "start_time": "2023-08-15T09:08:32.579Z"
   },
   {
    "duration": 1052,
    "start_time": "2023-08-15T09:09:46.459Z"
   },
   {
    "duration": 7,
    "start_time": "2023-08-15T09:09:47.513Z"
   },
   {
    "duration": 1034,
    "start_time": "2023-08-15T09:17:50.904Z"
   },
   {
    "duration": 8,
    "start_time": "2023-08-15T09:17:51.940Z"
   },
   {
    "duration": 1107,
    "start_time": "2023-08-15T09:18:41.141Z"
   },
   {
    "duration": 8,
    "start_time": "2023-08-15T09:18:42.249Z"
   },
   {
    "duration": 3,
    "start_time": "2023-08-15T09:25:56.970Z"
   },
   {
    "duration": 985,
    "start_time": "2023-08-15T09:26:24.794Z"
   },
   {
    "duration": 11,
    "start_time": "2023-08-15T09:26:28.812Z"
   },
   {
    "duration": 871,
    "start_time": "2023-08-15T09:28:10.010Z"
   },
   {
    "duration": 12,
    "start_time": "2023-08-15T09:28:10.883Z"
   },
   {
    "duration": 429,
    "start_time": "2023-08-15T09:28:25.096Z"
   },
   {
    "duration": 9,
    "start_time": "2023-08-15T09:28:25.938Z"
   },
   {
    "duration": 969,
    "start_time": "2023-08-15T09:28:33.409Z"
   },
   {
    "duration": 14,
    "start_time": "2023-08-15T09:28:34.380Z"
   },
   {
    "duration": 210,
    "start_time": "2023-08-15T09:30:16.402Z"
   },
   {
    "duration": 131,
    "start_time": "2023-08-15T09:31:32.434Z"
   },
   {
    "duration": 161,
    "start_time": "2023-08-15T09:34:02.916Z"
   },
   {
    "duration": 175,
    "start_time": "2023-08-15T09:34:15.812Z"
   },
   {
    "duration": 2356,
    "start_time": "2023-08-15T09:34:22.331Z"
   },
   {
    "duration": 11,
    "start_time": "2023-08-15T09:34:24.688Z"
   },
   {
    "duration": 216,
    "start_time": "2023-08-15T09:45:50.551Z"
   },
   {
    "duration": 951,
    "start_time": "2023-08-15T09:46:06.292Z"
   },
   {
    "duration": 12,
    "start_time": "2023-08-15T09:46:07.245Z"
   },
   {
    "duration": 131,
    "start_time": "2023-08-15T09:47:34.886Z"
   },
   {
    "duration": 11,
    "start_time": "2023-08-15T09:47:35.805Z"
   },
   {
    "duration": 1209,
    "start_time": "2023-08-15T09:48:42.370Z"
   },
   {
    "duration": 11,
    "start_time": "2023-08-15T09:48:43.582Z"
   },
   {
    "duration": 753,
    "start_time": "2023-08-15T09:57:50.017Z"
   },
   {
    "duration": 12,
    "start_time": "2023-08-15T09:57:52.062Z"
   },
   {
    "duration": 584,
    "start_time": "2023-08-15T09:58:08.000Z"
   },
   {
    "duration": 10,
    "start_time": "2023-08-15T09:58:08.609Z"
   },
   {
    "duration": 549,
    "start_time": "2023-08-15T10:01:16.500Z"
   },
   {
    "duration": 12,
    "start_time": "2023-08-15T10:01:17.372Z"
   },
   {
    "duration": 566,
    "start_time": "2023-08-15T10:02:03.947Z"
   },
   {
    "duration": 11,
    "start_time": "2023-08-15T10:02:04.604Z"
   },
   {
    "duration": 560,
    "start_time": "2023-08-15T10:02:32.808Z"
   },
   {
    "duration": 10,
    "start_time": "2023-08-15T10:02:33.447Z"
   },
   {
    "duration": 15,
    "start_time": "2023-08-15T10:06:43.966Z"
   },
   {
    "duration": 550,
    "start_time": "2023-08-15T10:08:01.681Z"
   },
   {
    "duration": 464,
    "start_time": "2023-08-15T10:08:12.819Z"
   },
   {
    "duration": 6,
    "start_time": "2023-08-15T10:16:01.661Z"
   },
   {
    "duration": 702,
    "start_time": "2023-08-15T10:16:23.162Z"
   },
   {
    "duration": 9,
    "start_time": "2023-08-15T10:16:27.658Z"
   },
   {
    "duration": 1063,
    "start_time": "2023-08-15T10:17:29.381Z"
   },
   {
    "duration": 10,
    "start_time": "2023-08-15T10:17:30.446Z"
   },
   {
    "duration": 217,
    "start_time": "2023-08-15T10:17:56.097Z"
   },
   {
    "duration": 155,
    "start_time": "2023-08-15T10:18:06.523Z"
   },
   {
    "duration": 830,
    "start_time": "2023-08-15T10:18:28.042Z"
   },
   {
    "duration": 17,
    "start_time": "2023-08-15T10:18:28.874Z"
   },
   {
    "duration": 254,
    "start_time": "2023-08-15T10:18:53.361Z"
   },
   {
    "duration": 7,
    "start_time": "2023-08-15T10:18:54.489Z"
   },
   {
    "duration": 887,
    "start_time": "2023-08-15T10:19:20.135Z"
   },
   {
    "duration": 9,
    "start_time": "2023-08-15T10:19:21.023Z"
   },
   {
    "duration": 140,
    "start_time": "2023-08-15T10:19:36.081Z"
   },
   {
    "duration": 7,
    "start_time": "2023-08-15T10:19:36.562Z"
   },
   {
    "duration": 161,
    "start_time": "2023-08-15T10:29:15.506Z"
   },
   {
    "duration": 206,
    "start_time": "2023-08-15T10:29:42.635Z"
   },
   {
    "duration": 158,
    "start_time": "2023-08-15T10:29:57.205Z"
   },
   {
    "duration": 143,
    "start_time": "2023-08-15T10:31:39.032Z"
   },
   {
    "duration": 10,
    "start_time": "2023-08-15T10:31:40.230Z"
   },
   {
    "duration": 140,
    "start_time": "2023-08-15T10:31:57.796Z"
   },
   {
    "duration": 143,
    "start_time": "2023-08-15T10:32:20.272Z"
   },
   {
    "duration": 8,
    "start_time": "2023-08-15T10:32:21.247Z"
   },
   {
    "duration": 148,
    "start_time": "2023-08-15T10:32:36.590Z"
   },
   {
    "duration": 10,
    "start_time": "2023-08-15T10:32:37.237Z"
   },
   {
    "duration": 354,
    "start_time": "2023-08-15T10:33:25.082Z"
   },
   {
    "duration": 246,
    "start_time": "2023-08-15T10:33:30.471Z"
   },
   {
    "duration": 247,
    "start_time": "2023-08-15T10:33:48.203Z"
   },
   {
    "duration": 150,
    "start_time": "2023-08-15T10:34:04.221Z"
   },
   {
    "duration": 147,
    "start_time": "2023-08-15T10:34:18.561Z"
   },
   {
    "duration": 149,
    "start_time": "2023-08-15T10:34:42.759Z"
   },
   {
    "duration": 96,
    "start_time": "2023-08-15T10:34:52.714Z"
   },
   {
    "duration": 10,
    "start_time": "2023-08-15T10:34:53.577Z"
   },
   {
    "duration": 99,
    "start_time": "2023-08-15T10:35:20.823Z"
   },
   {
    "duration": 9,
    "start_time": "2023-08-15T10:35:21.510Z"
   },
   {
    "duration": 100,
    "start_time": "2023-08-15T10:35:27.333Z"
   },
   {
    "duration": 7,
    "start_time": "2023-08-15T10:35:27.859Z"
   },
   {
    "duration": 95,
    "start_time": "2023-08-15T10:36:01.947Z"
   },
   {
    "duration": 9,
    "start_time": "2023-08-15T10:36:02.592Z"
   },
   {
    "duration": 100,
    "start_time": "2023-08-15T10:36:14.923Z"
   },
   {
    "duration": 8,
    "start_time": "2023-08-15T10:36:15.437Z"
   },
   {
    "duration": 512,
    "start_time": "2023-08-15T10:41:02.760Z"
   },
   {
    "duration": 179,
    "start_time": "2023-08-15T10:41:17.375Z"
   },
   {
    "duration": 71,
    "start_time": "2023-08-15T10:45:12.041Z"
   },
   {
    "duration": 72,
    "start_time": "2023-08-15T10:45:30.924Z"
   },
   {
    "duration": 148,
    "start_time": "2023-08-15T10:50:21.729Z"
   },
   {
    "duration": 76,
    "start_time": "2023-08-15T10:50:27.260Z"
   },
   {
    "duration": 117,
    "start_time": "2023-08-15T10:51:53.890Z"
   },
   {
    "duration": 11,
    "start_time": "2023-08-15T10:51:59.403Z"
   },
   {
    "duration": 12,
    "start_time": "2023-08-15T10:52:07.879Z"
   },
   {
    "duration": 309,
    "start_time": "2023-08-15T10:52:34.730Z"
   },
   {
    "duration": 77,
    "start_time": "2023-08-15T10:52:55.595Z"
   },
   {
    "duration": 162,
    "start_time": "2023-08-15T10:52:59.765Z"
   },
   {
    "duration": 145,
    "start_time": "2023-08-15T10:53:09.927Z"
   },
   {
    "duration": 227,
    "start_time": "2023-08-15T10:53:32.166Z"
   },
   {
    "duration": 72,
    "start_time": "2023-08-15T10:57:54.434Z"
   },
   {
    "duration": 92,
    "start_time": "2023-08-15T10:58:12.440Z"
   },
   {
    "duration": 14,
    "start_time": "2023-08-15T10:59:44.388Z"
   },
   {
    "duration": 28,
    "start_time": "2023-08-15T11:00:13.244Z"
   },
   {
    "duration": 271,
    "start_time": "2023-08-15T11:00:41.330Z"
   },
   {
    "duration": 3,
    "start_time": "2023-08-15T11:00:54.401Z"
   },
   {
    "duration": 80,
    "start_time": "2023-08-15T11:01:04.145Z"
   },
   {
    "duration": 100,
    "start_time": "2023-08-15T11:01:26.059Z"
   },
   {
    "duration": 12,
    "start_time": "2023-08-15T11:01:26.743Z"
   },
   {
    "duration": 84,
    "start_time": "2023-08-15T11:01:29.263Z"
   },
   {
    "duration": 233,
    "start_time": "2023-08-15T11:01:42.914Z"
   },
   {
    "duration": 221,
    "start_time": "2023-08-15T11:02:02.440Z"
   },
   {
    "duration": 202,
    "start_time": "2023-08-15T11:02:25.004Z"
   },
   {
    "duration": 3,
    "start_time": "2023-08-15T11:11:59.664Z"
   },
   {
    "duration": 736,
    "start_time": "2023-08-15T11:12:21.179Z"
   },
   {
    "duration": 8,
    "start_time": "2023-08-15T11:12:24.127Z"
   },
   {
    "duration": 161,
    "start_time": "2023-08-15T11:12:36.195Z"
   },
   {
    "duration": 9,
    "start_time": "2023-08-15T11:12:36.984Z"
   },
   {
    "duration": 281,
    "start_time": "2023-08-15T11:12:56.886Z"
   },
   {
    "duration": 9,
    "start_time": "2023-08-15T11:12:58.054Z"
   },
   {
    "duration": 163,
    "start_time": "2023-08-15T11:13:08.808Z"
   },
   {
    "duration": 9,
    "start_time": "2023-08-15T11:13:09.200Z"
   },
   {
    "duration": 185,
    "start_time": "2023-08-15T11:13:21.234Z"
   },
   {
    "duration": 10,
    "start_time": "2023-08-15T11:13:21.964Z"
   },
   {
    "duration": 321,
    "start_time": "2023-08-15T11:13:26.000Z"
   },
   {
    "duration": 13,
    "start_time": "2023-08-15T11:13:26.452Z"
   },
   {
    "duration": 180,
    "start_time": "2023-08-15T11:18:03.528Z"
   },
   {
    "duration": 138,
    "start_time": "2023-08-15T11:18:17.915Z"
   },
   {
    "duration": 12,
    "start_time": "2023-08-15T11:18:22.821Z"
   },
   {
    "duration": 150,
    "start_time": "2023-08-15T11:18:54.221Z"
   },
   {
    "duration": 14,
    "start_time": "2023-08-15T11:18:55.399Z"
   },
   {
    "duration": 247,
    "start_time": "2023-08-15T11:20:10.734Z"
   },
   {
    "duration": 140,
    "start_time": "2023-08-15T11:20:22.223Z"
   },
   {
    "duration": 12,
    "start_time": "2023-08-15T11:20:23.082Z"
   },
   {
    "duration": 140,
    "start_time": "2023-08-15T11:20:47.348Z"
   },
   {
    "duration": 8,
    "start_time": "2023-08-15T11:20:48.112Z"
   },
   {
    "duration": 164,
    "start_time": "2023-08-15T11:22:29.347Z"
   },
   {
    "duration": 149,
    "start_time": "2023-08-15T11:22:44.543Z"
   },
   {
    "duration": 16,
    "start_time": "2023-08-15T11:22:45.494Z"
   },
   {
    "duration": 145,
    "start_time": "2023-08-15T11:23:23.127Z"
   },
   {
    "duration": 18,
    "start_time": "2023-08-15T11:23:24.038Z"
   },
   {
    "duration": 147,
    "start_time": "2023-08-15T11:23:33.650Z"
   },
   {
    "duration": 16,
    "start_time": "2023-08-15T11:23:34.301Z"
   },
   {
    "duration": 142,
    "start_time": "2023-08-15T11:24:38.061Z"
   },
   {
    "duration": 16,
    "start_time": "2023-08-15T11:24:38.854Z"
   },
   {
    "duration": 151,
    "start_time": "2023-08-15T11:24:46.115Z"
   },
   {
    "duration": 14,
    "start_time": "2023-08-15T11:24:46.833Z"
   },
   {
    "duration": 146,
    "start_time": "2023-08-15T11:24:57.566Z"
   },
   {
    "duration": 16,
    "start_time": "2023-08-15T11:24:58.373Z"
   },
   {
    "duration": 139,
    "start_time": "2023-08-15T11:26:33.587Z"
   },
   {
    "duration": 10,
    "start_time": "2023-08-15T11:26:34.358Z"
   },
   {
    "duration": 139,
    "start_time": "2023-08-15T11:26:49.740Z"
   },
   {
    "duration": 9,
    "start_time": "2023-08-15T11:26:50.500Z"
   },
   {
    "duration": 139,
    "start_time": "2023-08-15T11:27:14.681Z"
   },
   {
    "duration": 12,
    "start_time": "2023-08-15T11:27:16.637Z"
   },
   {
    "duration": 190,
    "start_time": "2023-08-15T11:28:17.238Z"
   },
   {
    "duration": 133,
    "start_time": "2023-08-15T11:28:26.054Z"
   },
   {
    "duration": 12,
    "start_time": "2023-08-15T11:28:26.747Z"
   },
   {
    "duration": 132,
    "start_time": "2023-08-15T11:28:40.672Z"
   },
   {
    "duration": 10,
    "start_time": "2023-08-15T11:28:41.425Z"
   },
   {
    "duration": 152,
    "start_time": "2023-08-15T11:34:21.394Z"
   },
   {
    "duration": 307,
    "start_time": "2023-08-15T11:34:28.989Z"
   },
   {
    "duration": 10,
    "start_time": "2023-08-15T11:34:30.114Z"
   },
   {
    "duration": 293,
    "start_time": "2023-08-15T11:34:59.031Z"
   },
   {
    "duration": 11,
    "start_time": "2023-08-15T11:35:00.104Z"
   },
   {
    "duration": 243,
    "start_time": "2023-08-15T11:35:49.200Z"
   },
   {
    "duration": 10,
    "start_time": "2023-08-15T11:35:50.008Z"
   },
   {
    "duration": 260,
    "start_time": "2023-08-15T11:36:08.469Z"
   },
   {
    "duration": 7,
    "start_time": "2023-08-15T11:36:14.121Z"
   },
   {
    "duration": 1505,
    "start_time": "2023-08-15T11:47:14.112Z"
   },
   {
    "duration": 4,
    "start_time": "2023-08-15T11:47:15.620Z"
   },
   {
    "duration": 14324,
    "start_time": "2023-08-15T11:47:15.626Z"
   },
   {
    "duration": 56,
    "start_time": "2023-08-15T11:47:29.952Z"
   },
   {
    "duration": 18,
    "start_time": "2023-08-15T11:47:30.011Z"
   },
   {
    "duration": 144,
    "start_time": "2023-08-15T11:47:30.031Z"
   },
   {
    "duration": 7,
    "start_time": "2023-08-15T11:47:30.177Z"
   },
   {
    "duration": 322,
    "start_time": "2023-08-15T11:47:30.187Z"
   },
   {
    "duration": 14,
    "start_time": "2023-08-15T11:47:30.512Z"
   },
   {
    "duration": 317,
    "start_time": "2023-08-15T11:47:30.527Z"
   },
   {
    "duration": 26,
    "start_time": "2023-08-15T11:47:30.846Z"
   },
   {
    "duration": 339,
    "start_time": "2023-08-15T11:47:30.874Z"
   },
   {
    "duration": 7,
    "start_time": "2023-08-15T11:47:31.214Z"
   },
   {
    "duration": 1487,
    "start_time": "2023-08-15T11:47:31.224Z"
   },
   {
    "duration": 17,
    "start_time": "2023-08-15T11:47:32.714Z"
   },
   {
    "duration": 69,
    "start_time": "2023-08-15T11:47:32.733Z"
   },
   {
    "duration": 10,
    "start_time": "2023-08-15T11:47:32.805Z"
   },
   {
    "duration": 60,
    "start_time": "2023-08-15T11:47:32.817Z"
   },
   {
    "duration": 6,
    "start_time": "2023-08-15T11:47:32.879Z"
   },
   {
    "duration": 16,
    "start_time": "2023-08-15T11:47:32.887Z"
   },
   {
    "duration": 56,
    "start_time": "2023-08-15T11:47:32.905Z"
   },
   {
    "duration": 1244,
    "start_time": "2023-08-15T11:47:32.968Z"
   },
   {
    "duration": 9,
    "start_time": "2023-08-15T11:47:34.214Z"
   },
   {
    "duration": 606,
    "start_time": "2023-08-15T11:47:34.225Z"
   },
   {
    "duration": 16,
    "start_time": "2023-08-15T11:47:34.834Z"
   },
   {
    "duration": 489,
    "start_time": "2023-08-15T11:47:34.852Z"
   },
   {
    "duration": 13,
    "start_time": "2023-08-15T11:47:35.343Z"
   },
   {
    "duration": 86,
    "start_time": "2023-08-15T11:47:35.358Z"
   },
   {
    "duration": 8,
    "start_time": "2023-08-15T11:47:35.446Z"
   },
   {
    "duration": 220,
    "start_time": "2023-08-15T11:47:35.456Z"
   },
   {
    "duration": 105,
    "start_time": "2023-08-15T11:47:35.678Z"
   },
   {
    "duration": 9,
    "start_time": "2023-08-15T11:47:35.785Z"
   },
   {
    "duration": 1598,
    "start_time": "2023-08-15T15:08:01.702Z"
   },
   {
    "duration": 3,
    "start_time": "2023-08-15T15:08:06.640Z"
   },
   {
    "duration": 12378,
    "start_time": "2023-08-15T15:08:09.434Z"
   },
   {
    "duration": 69,
    "start_time": "2023-08-15T15:08:33.466Z"
   },
   {
    "duration": 21,
    "start_time": "2023-08-15T15:09:05.350Z"
   },
   {
    "duration": 84,
    "start_time": "2023-08-15T15:09:48.456Z"
   },
   {
    "duration": 7,
    "start_time": "2023-08-15T15:09:49.325Z"
   },
   {
    "duration": 97,
    "start_time": "2023-08-15T15:09:53.306Z"
   },
   {
    "duration": 8,
    "start_time": "2023-08-15T15:09:53.736Z"
   },
   {
    "duration": 236,
    "start_time": "2023-08-15T15:19:18.275Z"
   },
   {
    "duration": 1233,
    "start_time": "2023-08-15T15:19:42.695Z"
   },
   {
    "duration": 1118,
    "start_time": "2023-08-15T15:20:20.431Z"
   },
   {
    "duration": 1304,
    "start_time": "2023-08-15T15:22:39.879Z"
   },
   {
    "duration": 1243,
    "start_time": "2023-08-15T15:22:57.067Z"
   },
   {
    "duration": 1283,
    "start_time": "2023-08-15T15:24:54.209Z"
   },
   {
    "duration": 4,
    "start_time": "2023-08-15T15:24:55.494Z"
   },
   {
    "duration": 13134,
    "start_time": "2023-08-15T15:24:55.499Z"
   },
   {
    "duration": 41,
    "start_time": "2023-08-15T15:25:08.636Z"
   },
   {
    "duration": 17,
    "start_time": "2023-08-15T15:25:08.678Z"
   },
   {
    "duration": 83,
    "start_time": "2023-08-15T15:25:08.696Z"
   },
   {
    "duration": 7,
    "start_time": "2023-08-15T15:25:08.781Z"
   },
   {
    "duration": 209,
    "start_time": "2023-08-15T15:25:08.789Z"
   },
   {
    "duration": 10,
    "start_time": "2023-08-15T15:25:09.000Z"
   },
   {
    "duration": 185,
    "start_time": "2023-08-15T15:25:09.012Z"
   },
   {
    "duration": 5,
    "start_time": "2023-08-15T15:25:09.199Z"
   },
   {
    "duration": 178,
    "start_time": "2023-08-15T15:25:09.206Z"
   },
   {
    "duration": 6,
    "start_time": "2023-08-15T15:25:09.386Z"
   },
   {
    "duration": 1428,
    "start_time": "2023-08-15T15:25:09.394Z"
   },
   {
    "duration": 11,
    "start_time": "2023-08-15T15:25:10.824Z"
   },
   {
    "duration": 70,
    "start_time": "2023-08-15T15:25:10.837Z"
   },
   {
    "duration": 7,
    "start_time": "2023-08-15T15:25:10.909Z"
   },
   {
    "duration": 50,
    "start_time": "2023-08-15T15:25:10.918Z"
   },
   {
    "duration": 5,
    "start_time": "2023-08-15T15:25:10.969Z"
   },
   {
    "duration": 15,
    "start_time": "2023-08-15T15:25:10.976Z"
   },
   {
    "duration": 63,
    "start_time": "2023-08-15T15:25:10.992Z"
   },
   {
    "duration": 1235,
    "start_time": "2023-08-15T15:25:11.057Z"
   },
   {
    "duration": 1353,
    "start_time": "2023-08-15T15:25:12.294Z"
   },
   {
    "duration": 16,
    "start_time": "2023-08-15T15:25:13.649Z"
   },
   {
    "duration": 558,
    "start_time": "2023-08-15T15:25:13.667Z"
   },
   {
    "duration": 12,
    "start_time": "2023-08-15T15:25:14.228Z"
   },
   {
    "duration": 446,
    "start_time": "2023-08-15T15:25:14.242Z"
   },
   {
    "duration": 2,
    "start_time": "2023-08-15T15:25:14.692Z"
   },
   {
    "duration": 110,
    "start_time": "2023-08-15T15:25:14.696Z"
   },
   {
    "duration": 8,
    "start_time": "2023-08-15T15:25:14.808Z"
   },
   {
    "duration": 164,
    "start_time": "2023-08-15T15:25:14.818Z"
   },
   {
    "duration": 110,
    "start_time": "2023-08-15T15:25:14.984Z"
   },
   {
    "duration": 8,
    "start_time": "2023-08-15T15:25:15.096Z"
   },
   {
    "duration": 1244,
    "start_time": "2023-08-15T15:28:49.524Z"
   },
   {
    "duration": 4,
    "start_time": "2023-08-15T15:28:50.770Z"
   },
   {
    "duration": 11884,
    "start_time": "2023-08-15T15:28:50.776Z"
   },
   {
    "duration": 32,
    "start_time": "2023-08-15T15:29:02.662Z"
   },
   {
    "duration": 19,
    "start_time": "2023-08-15T15:29:02.695Z"
   },
   {
    "duration": 98,
    "start_time": "2023-08-15T15:29:02.716Z"
   },
   {
    "duration": 6,
    "start_time": "2023-08-15T15:29:02.816Z"
   },
   {
    "duration": 218,
    "start_time": "2023-08-15T15:29:02.824Z"
   },
   {
    "duration": 11,
    "start_time": "2023-08-15T15:29:03.044Z"
   },
   {
    "duration": 185,
    "start_time": "2023-08-15T15:29:03.058Z"
   },
   {
    "duration": 6,
    "start_time": "2023-08-15T15:29:03.244Z"
   },
   {
    "duration": 151,
    "start_time": "2023-08-15T15:29:03.251Z"
   },
   {
    "duration": 6,
    "start_time": "2023-08-15T15:29:03.404Z"
   },
   {
    "duration": 1349,
    "start_time": "2023-08-15T15:29:03.412Z"
   },
   {
    "duration": 11,
    "start_time": "2023-08-15T15:29:04.763Z"
   },
   {
    "duration": 73,
    "start_time": "2023-08-15T15:29:04.776Z"
   },
   {
    "duration": 7,
    "start_time": "2023-08-15T15:29:04.851Z"
   },
   {
    "duration": 42,
    "start_time": "2023-08-15T15:29:04.859Z"
   },
   {
    "duration": 6,
    "start_time": "2023-08-15T15:29:04.903Z"
   },
   {
    "duration": 7,
    "start_time": "2023-08-15T15:29:04.910Z"
   },
   {
    "duration": 51,
    "start_time": "2023-08-15T15:29:04.919Z"
   },
   {
    "duration": 1159,
    "start_time": "2023-08-15T15:29:04.971Z"
   },
   {
    "duration": 1269,
    "start_time": "2023-08-15T15:29:06.132Z"
   },
   {
    "duration": 8,
    "start_time": "2023-08-15T15:29:07.403Z"
   },
   {
    "duration": 566,
    "start_time": "2023-08-15T15:29:07.412Z"
   },
   {
    "duration": 11,
    "start_time": "2023-08-15T15:29:07.979Z"
   },
   {
    "duration": 427,
    "start_time": "2023-08-15T15:29:07.992Z"
   },
   {
    "duration": 2,
    "start_time": "2023-08-15T15:29:08.422Z"
   },
   {
    "duration": 72,
    "start_time": "2023-08-15T15:29:08.426Z"
   },
   {
    "duration": 9,
    "start_time": "2023-08-15T15:29:08.500Z"
   },
   {
    "duration": 178,
    "start_time": "2023-08-15T15:29:08.510Z"
   },
   {
    "duration": 108,
    "start_time": "2023-08-15T15:29:08.689Z"
   },
   {
    "duration": 8,
    "start_time": "2023-08-15T15:29:08.799Z"
   },
   {
    "duration": 1221,
    "start_time": "2023-08-15T15:59:25.271Z"
   },
   {
    "duration": 3,
    "start_time": "2023-08-15T15:59:26.494Z"
   },
   {
    "duration": 12735,
    "start_time": "2023-08-15T15:59:26.498Z"
   },
   {
    "duration": 47,
    "start_time": "2023-08-15T15:59:39.234Z"
   },
   {
    "duration": 16,
    "start_time": "2023-08-15T15:59:39.283Z"
   },
   {
    "duration": 82,
    "start_time": "2023-08-15T15:59:39.301Z"
   },
   {
    "duration": 7,
    "start_time": "2023-08-15T15:59:39.385Z"
   },
   {
    "duration": 205,
    "start_time": "2023-08-15T15:59:39.393Z"
   },
   {
    "duration": 11,
    "start_time": "2023-08-15T15:59:39.600Z"
   },
   {
    "duration": 189,
    "start_time": "2023-08-15T15:59:39.613Z"
   },
   {
    "duration": 6,
    "start_time": "2023-08-15T15:59:39.804Z"
   },
   {
    "duration": 148,
    "start_time": "2023-08-15T15:59:39.811Z"
   },
   {
    "duration": 6,
    "start_time": "2023-08-15T15:59:39.961Z"
   },
   {
    "duration": 1249,
    "start_time": "2023-08-15T15:59:39.970Z"
   },
   {
    "duration": 14,
    "start_time": "2023-08-15T15:59:41.220Z"
   },
   {
    "duration": 102,
    "start_time": "2023-08-15T15:59:41.236Z"
   },
   {
    "duration": 7,
    "start_time": "2023-08-15T15:59:41.340Z"
   },
   {
    "duration": 43,
    "start_time": "2023-08-15T15:59:41.348Z"
   },
   {
    "duration": 6,
    "start_time": "2023-08-15T15:59:41.393Z"
   },
   {
    "duration": 6,
    "start_time": "2023-08-15T15:59:41.401Z"
   },
   {
    "duration": 95,
    "start_time": "2023-08-15T15:59:41.409Z"
   },
   {
    "duration": 1158,
    "start_time": "2023-08-15T15:59:41.506Z"
   },
   {
    "duration": 1284,
    "start_time": "2023-08-15T15:59:42.666Z"
   },
   {
    "duration": 9,
    "start_time": "2023-08-15T15:59:43.956Z"
   },
   {
    "duration": 524,
    "start_time": "2023-08-15T15:59:43.967Z"
   },
   {
    "duration": 10,
    "start_time": "2023-08-15T15:59:44.493Z"
   },
   {
    "duration": 446,
    "start_time": "2023-08-15T15:59:44.505Z"
   },
   {
    "duration": 4,
    "start_time": "2023-08-15T15:59:44.953Z"
   },
   {
    "duration": 72,
    "start_time": "2023-08-15T15:59:44.959Z"
   },
   {
    "duration": 8,
    "start_time": "2023-08-15T15:59:45.033Z"
   },
   {
    "duration": 178,
    "start_time": "2023-08-15T15:59:45.042Z"
   },
   {
    "duration": 109,
    "start_time": "2023-08-15T15:59:45.221Z"
   },
   {
    "duration": 8,
    "start_time": "2023-08-15T15:59:45.332Z"
   }
  ],
  "colab": {
   "provenance": []
  },
  "kernelspec": {
   "display_name": "Python 3 (ipykernel)",
   "language": "python",
   "name": "python3"
  },
  "language_info": {
   "codemirror_mode": {
    "name": "ipython",
    "version": 3
   },
   "file_extension": ".py",
   "mimetype": "text/x-python",
   "name": "python",
   "nbconvert_exporter": "python",
   "pygments_lexer": "ipython3",
   "version": "3.10.2"
  },
  "toc": {
   "base_numbering": 1,
   "nav_menu": {},
   "number_sections": true,
   "sideBar": true,
   "skip_h1_title": true,
   "title_cell": "Table of Contents",
   "title_sidebar": "Contents",
   "toc_cell": false,
   "toc_position": {},
   "toc_section_display": true,
   "toc_window_display": false
  }
 },
 "nbformat": 4,
 "nbformat_minor": 1
}
