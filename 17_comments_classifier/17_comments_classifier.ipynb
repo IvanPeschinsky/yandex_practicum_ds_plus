{
 "cells": [
  {
   "cell_type": "markdown",
   "metadata": {
    "toc": true
   },
   "source": [
    "<h1>Содержание<span class=\"tocSkip\"></span></h1>\n",
    "<div class=\"toc\"><ul class=\"toc-item\"><li><span><a href=\"#Подготовка\" data-toc-modified-id=\"Подготовка-1\"><span class=\"toc-item-num\">1&nbsp;&nbsp;</span>Подготовка</a></span><ul class=\"toc-item\"><li><span><a href=\"#Импорты\" data-toc-modified-id=\"Импорты-1.1\"><span class=\"toc-item-num\">1.1&nbsp;&nbsp;</span>Импорты</a></span></li><li><span><a href=\"#Загрузка-данных\" data-toc-modified-id=\"Загрузка-данных-1.2\"><span class=\"toc-item-num\">1.2&nbsp;&nbsp;</span>Загрузка данных</a></span></li><li><span><a href=\"#Подготовка-данных\" data-toc-modified-id=\"Подготовка-данных-1.3\"><span class=\"toc-item-num\">1.3&nbsp;&nbsp;</span>Подготовка данных</a></span></li></ul></li><li><span><a href=\"#Обучение\" data-toc-modified-id=\"Обучение-2\"><span class=\"toc-item-num\">2&nbsp;&nbsp;</span>Обучение</a></span></li><li><span><a href=\"#Выводы\" data-toc-modified-id=\"Выводы-3\"><span class=\"toc-item-num\">3&nbsp;&nbsp;</span>Выводы</a></span></li><li><span><a href=\"#Чек-лист-проверки\" data-toc-modified-id=\"Чек-лист-проверки-4\"><span class=\"toc-item-num\">4&nbsp;&nbsp;</span>Чек-лист проверки</a></span></li></ul></div>"
   ]
  },
  {
   "cell_type": "markdown",
   "metadata": {},
   "source": [
    "# Проект для «Викишоп»"
   ]
  },
  {
   "cell_type": "markdown",
   "metadata": {},
   "source": [
    "Интернет-магазин «Викишоп» запускает новый сервис. Теперь пользователи могут редактировать и дополнять описания товаров, как в вики-сообществах. То есть клиенты предлагают свои правки и комментируют изменения других. Магазину нужен инструмент, который будет искать токсичные комментарии и отправлять их на модерацию. \n",
    "\n",
    "Обучите модель классифицировать комментарии на позитивные и негативные. В вашем распоряжении набор данных с разметкой о токсичности правок.\n",
    "\n",
    "Постройте модель со значением метрики качества *F1* не меньше 0.75. \n",
    "\n",
    "**Инструкция по выполнению проекта**\n",
    "\n",
    "1. Загрузите и подготовьте данные.\n",
    "2. Обучите разные модели. \n",
    "3. Сделайте выводы.\n",
    "\n",
    "Для выполнения проекта применять *BERT* необязательно, но вы можете попробовать.\n",
    "\n",
    "**Описание данных**\n",
    "\n",
    "Данные находятся в файле `toxic_comments.csv`. Столбец *text* в нём содержит текст комментария, а *toxic* — целевой признак."
   ]
  },
  {
   "cell_type": "markdown",
   "metadata": {},
   "source": [
    "## Подготовка"
   ]
  },
  {
   "cell_type": "markdown",
   "metadata": {},
   "source": [
    "### Импорты"
   ]
  },
  {
   "cell_type": "code",
   "execution_count": 1,
   "metadata": {},
   "outputs": [],
   "source": [
    "import pandas as pd\n",
    "import re\n",
    "import nltk\n",
    "\n",
    "from nltk.stem import WordNetLemmatizer\n",
    "from sklearn.model_selection import train_test_split, GridSearchCV\n",
    "from sklearn.feature_extraction.text import TfidfVectorizer\n",
    "from sklearn.linear_model import LogisticRegression\n",
    "from sklearn.tree import DecisionTreeClassifier\n",
    "from sklearn.ensemble import RandomForestClassifier\n",
    "from catboost import CatBoostClassifier\n",
    "from sklearn.metrics import f1_score, confusion_matrix\n",
    "from nltk.corpus import stopwords as nltk_stopwords\n",
    "\n",
    "import warnings\n",
    "warnings.filterwarnings(\"ignore\")"
   ]
  },
  {
   "cell_type": "code",
   "execution_count": 2,
   "metadata": {
    "scrolled": true
   },
   "outputs": [
    {
     "name": "stderr",
     "output_type": "stream",
     "text": [
      "[nltk_data] Downloading package stopwords to /home/jovyan/nltk_data...\n",
      "[nltk_data]   Package stopwords is already up-to-date!\n"
     ]
    }
   ],
   "source": [
    "nltk.download('stopwords')\n",
    "stopwords = set(nltk_stopwords.words('english'))"
   ]
  },
  {
   "cell_type": "markdown",
   "metadata": {},
   "source": [
    "### Загрузка данных"
   ]
  },
  {
   "cell_type": "code",
   "execution_count": 3,
   "metadata": {},
   "outputs": [],
   "source": [
    "data = pd.read_csv('/datasets/toxic_comments.csv')"
   ]
  },
  {
   "cell_type": "code",
   "execution_count": 4,
   "metadata": {},
   "outputs": [
    {
     "data": {
      "text/html": [
       "<div>\n",
       "<style scoped>\n",
       "    .dataframe tbody tr th:only-of-type {\n",
       "        vertical-align: middle;\n",
       "    }\n",
       "\n",
       "    .dataframe tbody tr th {\n",
       "        vertical-align: top;\n",
       "    }\n",
       "\n",
       "    .dataframe thead th {\n",
       "        text-align: right;\n",
       "    }\n",
       "</style>\n",
       "<table border=\"1\" class=\"dataframe\">\n",
       "  <thead>\n",
       "    <tr style=\"text-align: right;\">\n",
       "      <th></th>\n",
       "      <th>Unnamed: 0</th>\n",
       "      <th>text</th>\n",
       "      <th>toxic</th>\n",
       "    </tr>\n",
       "  </thead>\n",
       "  <tbody>\n",
       "    <tr>\n",
       "      <th>0</th>\n",
       "      <td>0</td>\n",
       "      <td>Explanation\\nWhy the edits made under my usern...</td>\n",
       "      <td>0</td>\n",
       "    </tr>\n",
       "    <tr>\n",
       "      <th>1</th>\n",
       "      <td>1</td>\n",
       "      <td>D'aww! He matches this background colour I'm s...</td>\n",
       "      <td>0</td>\n",
       "    </tr>\n",
       "    <tr>\n",
       "      <th>2</th>\n",
       "      <td>2</td>\n",
       "      <td>Hey man, I'm really not trying to edit war. It...</td>\n",
       "      <td>0</td>\n",
       "    </tr>\n",
       "    <tr>\n",
       "      <th>3</th>\n",
       "      <td>3</td>\n",
       "      <td>\"\\nMore\\nI can't make any real suggestions on ...</td>\n",
       "      <td>0</td>\n",
       "    </tr>\n",
       "    <tr>\n",
       "      <th>4</th>\n",
       "      <td>4</td>\n",
       "      <td>You, sir, are my hero. Any chance you remember...</td>\n",
       "      <td>0</td>\n",
       "    </tr>\n",
       "  </tbody>\n",
       "</table>\n",
       "</div>"
      ],
      "text/plain": [
       "   Unnamed: 0                                               text  toxic\n",
       "0           0  Explanation\\nWhy the edits made under my usern...      0\n",
       "1           1  D'aww! He matches this background colour I'm s...      0\n",
       "2           2  Hey man, I'm really not trying to edit war. It...      0\n",
       "3           3  \"\\nMore\\nI can't make any real suggestions on ...      0\n",
       "4           4  You, sir, are my hero. Any chance you remember...      0"
      ]
     },
     "execution_count": 4,
     "metadata": {},
     "output_type": "execute_result"
    }
   ],
   "source": [
    "data.head()"
   ]
  },
  {
   "cell_type": "code",
   "execution_count": 5,
   "metadata": {
    "scrolled": true
   },
   "outputs": [
    {
     "name": "stdout",
     "output_type": "stream",
     "text": [
      "<class 'pandas.core.frame.DataFrame'>\n",
      "RangeIndex: 159292 entries, 0 to 159291\n",
      "Data columns (total 3 columns):\n",
      " #   Column      Non-Null Count   Dtype \n",
      "---  ------      --------------   ----- \n",
      " 0   Unnamed: 0  159292 non-null  int64 \n",
      " 1   text        159292 non-null  object\n",
      " 2   toxic       159292 non-null  int64 \n",
      "dtypes: int64(2), object(1)\n",
      "memory usage: 3.6+ MB\n"
     ]
    }
   ],
   "source": [
    "data.info()"
   ]
  },
  {
   "cell_type": "markdown",
   "metadata": {},
   "source": [
    "Удалим столбец, повторяющий индекс"
   ]
  },
  {
   "cell_type": "code",
   "execution_count": 6,
   "metadata": {},
   "outputs": [],
   "source": [
    "data = data.drop(columns=['Unnamed: 0'])"
   ]
  },
  {
   "cell_type": "markdown",
   "metadata": {},
   "source": [
    "Сразу проверим соотношение классов. Ответов класса 0 существенно больше, чем 1. В дальнейшем необходимо будет сбалансировать эту ситуацию."
   ]
  },
  {
   "cell_type": "code",
   "execution_count": 7,
   "metadata": {},
   "outputs": [
    {
     "data": {
      "text/plain": [
       "0    143106\n",
       "1     16186\n",
       "Name: toxic, dtype: int64"
      ]
     },
     "execution_count": 7,
     "metadata": {},
     "output_type": "execute_result"
    }
   ],
   "source": [
    "data['toxic'].value_counts()"
   ]
  },
  {
   "cell_type": "markdown",
   "metadata": {},
   "source": [
    "### Подготовка данных"
   ]
  },
  {
   "cell_type": "markdown",
   "metadata": {},
   "source": [
    "Напишем две функции, которые лемматизируют текст и очистят его от регулярных выражений."
   ]
  },
  {
   "cell_type": "code",
   "execution_count": 8,
   "metadata": {},
   "outputs": [],
   "source": [
    "import sys"
   ]
  },
  {
   "cell_type": "code",
   "execution_count": 9,
   "metadata": {},
   "outputs": [
    {
     "name": "stdout",
     "output_type": "stream",
     "text": [
      "Requirement already satisfied: spacy in /opt/conda/lib/python3.9/site-packages (3.2.0)\n",
      "Requirement already satisfied: blis<0.8.0,>=0.4.0 in /opt/conda/lib/python3.9/site-packages (from spacy) (0.7.8)\n",
      "Requirement already satisfied: langcodes<4.0.0,>=3.2.0 in /opt/conda/lib/python3.9/site-packages (from spacy) (3.3.0)\n",
      "Requirement already satisfied: numpy>=1.15.0 in /opt/conda/lib/python3.9/site-packages (from spacy) (1.21.1)\n",
      "Requirement already satisfied: wasabi<1.1.0,>=0.8.1 in /opt/conda/lib/python3.9/site-packages (from spacy) (0.10.1)\n",
      "Requirement already satisfied: requests<3.0.0,>=2.13.0 in /opt/conda/lib/python3.9/site-packages (from spacy) (2.25.1)\n",
      "Requirement already satisfied: spacy-loggers<2.0.0,>=1.0.0 in /opt/conda/lib/python3.9/site-packages (from spacy) (1.0.3)\n",
      "Requirement already satisfied: pathy>=0.3.5 in /opt/conda/lib/python3.9/site-packages (from spacy) (0.6.2)\n",
      "Requirement already satisfied: preshed<3.1.0,>=3.0.2 in /opt/conda/lib/python3.9/site-packages (from spacy) (3.0.7)\n",
      "Requirement already satisfied: pydantic!=1.8,!=1.8.1,<1.9.0,>=1.7.4 in /opt/conda/lib/python3.9/site-packages (from spacy) (1.8.2)\n",
      "Requirement already satisfied: spacy-legacy<3.1.0,>=3.0.8 in /opt/conda/lib/python3.9/site-packages (from spacy) (3.0.10)\n",
      "Requirement already satisfied: murmurhash<1.1.0,>=0.28.0 in /opt/conda/lib/python3.9/site-packages (from spacy) (1.0.8)\n",
      "Requirement already satisfied: catalogue<2.1.0,>=2.0.6 in /opt/conda/lib/python3.9/site-packages (from spacy) (2.0.8)\n",
      "Requirement already satisfied: packaging>=20.0 in /opt/conda/lib/python3.9/site-packages (from spacy) (21.3)\n",
      "Requirement already satisfied: jinja2 in /opt/conda/lib/python3.9/site-packages (from spacy) (3.0.1)\n",
      "Requirement already satisfied: srsly<3.0.0,>=2.4.1 in /opt/conda/lib/python3.9/site-packages (from spacy) (2.4.4)\n",
      "Requirement already satisfied: cymem<2.1.0,>=2.0.2 in /opt/conda/lib/python3.9/site-packages (from spacy) (2.0.6)\n",
      "Requirement already satisfied: tqdm<5.0.0,>=4.38.0 in /opt/conda/lib/python3.9/site-packages (from spacy) (4.61.2)\n",
      "Requirement already satisfied: thinc<8.1.0,>=8.0.12 in /opt/conda/lib/python3.9/site-packages (from spacy) (8.0.17)\n",
      "Requirement already satisfied: typer<0.5.0,>=0.3.0 in /opt/conda/lib/python3.9/site-packages (from spacy) (0.4.2)\n",
      "Requirement already satisfied: setuptools in /opt/conda/lib/python3.9/site-packages (from spacy) (49.6.0.post20210108)\n",
      "Requirement already satisfied: pyparsing!=3.0.5,>=2.0.2 in /opt/conda/lib/python3.9/site-packages (from packaging>=20.0->spacy) (2.4.7)\n",
      "Requirement already satisfied: smart-open<6.0.0,>=5.2.1 in /opt/conda/lib/python3.9/site-packages (from pathy>=0.3.5->spacy) (5.2.1)\n",
      "Requirement already satisfied: typing-extensions>=3.7.4.3 in /opt/conda/lib/python3.9/site-packages (from pydantic!=1.8,!=1.8.1,<1.9.0,>=1.7.4->spacy) (4.3.0)\n",
      "Requirement already satisfied: chardet<5,>=3.0.2 in /opt/conda/lib/python3.9/site-packages (from requests<3.0.0,>=2.13.0->spacy) (4.0.0)\n",
      "Requirement already satisfied: urllib3<1.27,>=1.21.1 in /opt/conda/lib/python3.9/site-packages (from requests<3.0.0,>=2.13.0->spacy) (1.26.6)\n",
      "Requirement already satisfied: certifi>=2017.4.17 in /opt/conda/lib/python3.9/site-packages (from requests<3.0.0,>=2.13.0->spacy) (2022.6.15)\n",
      "Requirement already satisfied: idna<3,>=2.5 in /opt/conda/lib/python3.9/site-packages (from requests<3.0.0,>=2.13.0->spacy) (2.10)\n",
      "Requirement already satisfied: click<9.0.0,>=7.1.1 in /opt/conda/lib/python3.9/site-packages (from typer<0.5.0,>=0.3.0->spacy) (8.1.3)\n",
      "Requirement already satisfied: MarkupSafe>=2.0 in /opt/conda/lib/python3.9/site-packages (from jinja2->spacy) (2.1.1)\n",
      "\u001b[38;5;3m⚠ As of spaCy v3.0, shortcuts like 'en' are deprecated. Please use the\n",
      "full pipeline package name 'en_core_web_sm' instead.\u001b[0m\n",
      "Collecting en-core-web-sm==3.2.0\n",
      "  Downloading https://github.com/explosion/spacy-models/releases/download/en_core_web_sm-3.2.0/en_core_web_sm-3.2.0-py3-none-any.whl (13.9 MB)\n",
      "\u001b[K     |████████████████████████████████| 13.9 MB 2.2 MB/s eta 0:00:01.6 MB 2.2 MB/s eta 0:00:03\n",
      "\u001b[?25hRequirement already satisfied: spacy<3.3.0,>=3.2.0 in /opt/conda/lib/python3.9/site-packages (from en-core-web-sm==3.2.0) (3.2.0)\n",
      "Requirement already satisfied: jinja2 in /opt/conda/lib/python3.9/site-packages (from spacy<3.3.0,>=3.2.0->en-core-web-sm==3.2.0) (3.0.1)\n",
      "Requirement already satisfied: numpy>=1.15.0 in /opt/conda/lib/python3.9/site-packages (from spacy<3.3.0,>=3.2.0->en-core-web-sm==3.2.0) (1.21.1)\n",
      "Requirement already satisfied: murmurhash<1.1.0,>=0.28.0 in /opt/conda/lib/python3.9/site-packages (from spacy<3.3.0,>=3.2.0->en-core-web-sm==3.2.0) (1.0.8)\n",
      "Requirement already satisfied: langcodes<4.0.0,>=3.2.0 in /opt/conda/lib/python3.9/site-packages (from spacy<3.3.0,>=3.2.0->en-core-web-sm==3.2.0) (3.3.0)\n",
      "Requirement already satisfied: cymem<2.1.0,>=2.0.2 in /opt/conda/lib/python3.9/site-packages (from spacy<3.3.0,>=3.2.0->en-core-web-sm==3.2.0) (2.0.6)\n",
      "Requirement already satisfied: pathy>=0.3.5 in /opt/conda/lib/python3.9/site-packages (from spacy<3.3.0,>=3.2.0->en-core-web-sm==3.2.0) (0.6.2)\n",
      "Requirement already satisfied: requests<3.0.0,>=2.13.0 in /opt/conda/lib/python3.9/site-packages (from spacy<3.3.0,>=3.2.0->en-core-web-sm==3.2.0) (2.25.1)\n",
      "Requirement already satisfied: thinc<8.1.0,>=8.0.12 in /opt/conda/lib/python3.9/site-packages (from spacy<3.3.0,>=3.2.0->en-core-web-sm==3.2.0) (8.0.17)\n",
      "Requirement already satisfied: wasabi<1.1.0,>=0.8.1 in /opt/conda/lib/python3.9/site-packages (from spacy<3.3.0,>=3.2.0->en-core-web-sm==3.2.0) (0.10.1)\n",
      "Requirement already satisfied: spacy-loggers<2.0.0,>=1.0.0 in /opt/conda/lib/python3.9/site-packages (from spacy<3.3.0,>=3.2.0->en-core-web-sm==3.2.0) (1.0.3)\n",
      "Requirement already satisfied: preshed<3.1.0,>=3.0.2 in /opt/conda/lib/python3.9/site-packages (from spacy<3.3.0,>=3.2.0->en-core-web-sm==3.2.0) (3.0.7)\n",
      "Requirement already satisfied: packaging>=20.0 in /opt/conda/lib/python3.9/site-packages (from spacy<3.3.0,>=3.2.0->en-core-web-sm==3.2.0) (21.3)\n",
      "Requirement already satisfied: setuptools in /opt/conda/lib/python3.9/site-packages (from spacy<3.3.0,>=3.2.0->en-core-web-sm==3.2.0) (49.6.0.post20210108)\n",
      "Requirement already satisfied: srsly<3.0.0,>=2.4.1 in /opt/conda/lib/python3.9/site-packages (from spacy<3.3.0,>=3.2.0->en-core-web-sm==3.2.0) (2.4.4)\n",
      "Requirement already satisfied: blis<0.8.0,>=0.4.0 in /opt/conda/lib/python3.9/site-packages (from spacy<3.3.0,>=3.2.0->en-core-web-sm==3.2.0) (0.7.8)\n",
      "Requirement already satisfied: spacy-legacy<3.1.0,>=3.0.8 in /opt/conda/lib/python3.9/site-packages (from spacy<3.3.0,>=3.2.0->en-core-web-sm==3.2.0) (3.0.10)\n",
      "Requirement already satisfied: catalogue<2.1.0,>=2.0.6 in /opt/conda/lib/python3.9/site-packages (from spacy<3.3.0,>=3.2.0->en-core-web-sm==3.2.0) (2.0.8)\n",
      "Requirement already satisfied: pydantic!=1.8,!=1.8.1,<1.9.0,>=1.7.4 in /opt/conda/lib/python3.9/site-packages (from spacy<3.3.0,>=3.2.0->en-core-web-sm==3.2.0) (1.8.2)\n",
      "Requirement already satisfied: typer<0.5.0,>=0.3.0 in /opt/conda/lib/python3.9/site-packages (from spacy<3.3.0,>=3.2.0->en-core-web-sm==3.2.0) (0.4.2)\n",
      "Requirement already satisfied: tqdm<5.0.0,>=4.38.0 in /opt/conda/lib/python3.9/site-packages (from spacy<3.3.0,>=3.2.0->en-core-web-sm==3.2.0) (4.61.2)\n",
      "Requirement already satisfied: pyparsing!=3.0.5,>=2.0.2 in /opt/conda/lib/python3.9/site-packages (from packaging>=20.0->spacy<3.3.0,>=3.2.0->en-core-web-sm==3.2.0) (2.4.7)\n",
      "Requirement already satisfied: smart-open<6.0.0,>=5.2.1 in /opt/conda/lib/python3.9/site-packages (from pathy>=0.3.5->spacy<3.3.0,>=3.2.0->en-core-web-sm==3.2.0) (5.2.1)\n",
      "Requirement already satisfied: typing-extensions>=3.7.4.3 in /opt/conda/lib/python3.9/site-packages (from pydantic!=1.8,!=1.8.1,<1.9.0,>=1.7.4->spacy<3.3.0,>=3.2.0->en-core-web-sm==3.2.0) (4.3.0)\n",
      "Requirement already satisfied: certifi>=2017.4.17 in /opt/conda/lib/python3.9/site-packages (from requests<3.0.0,>=2.13.0->spacy<3.3.0,>=3.2.0->en-core-web-sm==3.2.0) (2022.6.15)\n",
      "Requirement already satisfied: idna<3,>=2.5 in /opt/conda/lib/python3.9/site-packages (from requests<3.0.0,>=2.13.0->spacy<3.3.0,>=3.2.0->en-core-web-sm==3.2.0) (2.10)\n",
      "Requirement already satisfied: urllib3<1.27,>=1.21.1 in /opt/conda/lib/python3.9/site-packages (from requests<3.0.0,>=2.13.0->spacy<3.3.0,>=3.2.0->en-core-web-sm==3.2.0) (1.26.6)\n",
      "Requirement already satisfied: chardet<5,>=3.0.2 in /opt/conda/lib/python3.9/site-packages (from requests<3.0.0,>=2.13.0->spacy<3.3.0,>=3.2.0->en-core-web-sm==3.2.0) (4.0.0)\n",
      "Requirement already satisfied: click<9.0.0,>=7.1.1 in /opt/conda/lib/python3.9/site-packages (from typer<0.5.0,>=0.3.0->spacy<3.3.0,>=3.2.0->en-core-web-sm==3.2.0) (8.1.3)\n",
      "Requirement already satisfied: MarkupSafe>=2.0 in /opt/conda/lib/python3.9/site-packages (from jinja2->spacy<3.3.0,>=3.2.0->en-core-web-sm==3.2.0) (2.1.1)\n",
      "\u001b[38;5;2m✔ Download and installation successful\u001b[0m\n",
      "You can now load the package via spacy.load('en_core_web_sm')\n"
     ]
    }
   ],
   "source": [
    "!{sys.executable} -m pip install spacy\n",
    "!{sys.executable} -m spacy download en"
   ]
  },
  {
   "cell_type": "code",
   "execution_count": 10,
   "metadata": {},
   "outputs": [],
   "source": [
    "import spacy"
   ]
  },
  {
   "cell_type": "code",
   "execution_count": 11,
   "metadata": {},
   "outputs": [],
   "source": [
    "nlp = spacy.load('en_core_web_sm')"
   ]
  },
  {
   "cell_type": "code",
   "execution_count": 12,
   "metadata": {},
   "outputs": [],
   "source": [
    "def clear_text(text):\n",
    "    re_text = re.sub(r'[^a-zA-Z]', ' ', text)\n",
    "    re_text = \" \".join(re_text.split())\n",
    "    \n",
    "    return re_text"
   ]
  },
  {
   "cell_type": "code",
   "execution_count": 13,
   "metadata": {},
   "outputs": [],
   "source": [
    "def lemmatize(text):\n",
    "    doc = nlp(text)\n",
    "    lemm_text = \" \".join(token.lemma_ for token in doc)\n",
    "    \n",
    "    return lemm_text"
   ]
  },
  {
   "cell_type": "code",
   "execution_count": 14,
   "metadata": {},
   "outputs": [
    {
     "name": "stdout",
     "output_type": "stream",
     "text": [
      "CPU times: user 43min 21s, sys: 8.37 s, total: 43min 30s\n",
      "Wall time: 43min 33s\n"
     ]
    }
   ],
   "source": [
    "%%time\n",
    "\n",
    "data['lemm_text'] = data['text'].apply(lambda x: lemmatize(clear_text(x)))"
   ]
  },
  {
   "cell_type": "markdown",
   "metadata": {},
   "source": [
    "Переведем весь текст в нижний регистр."
   ]
  },
  {
   "cell_type": "code",
   "execution_count": 15,
   "metadata": {},
   "outputs": [],
   "source": [
    "data['lemm_text'] = data['lemm_text'].str.lower()"
   ]
  },
  {
   "cell_type": "code",
   "execution_count": 16,
   "metadata": {
    "scrolled": false
   },
   "outputs": [
    {
     "data": {
      "text/html": [
       "<div>\n",
       "<style scoped>\n",
       "    .dataframe tbody tr th:only-of-type {\n",
       "        vertical-align: middle;\n",
       "    }\n",
       "\n",
       "    .dataframe tbody tr th {\n",
       "        vertical-align: top;\n",
       "    }\n",
       "\n",
       "    .dataframe thead th {\n",
       "        text-align: right;\n",
       "    }\n",
       "</style>\n",
       "<table border=\"1\" class=\"dataframe\">\n",
       "  <thead>\n",
       "    <tr style=\"text-align: right;\">\n",
       "      <th></th>\n",
       "      <th>text</th>\n",
       "      <th>toxic</th>\n",
       "      <th>lemm_text</th>\n",
       "    </tr>\n",
       "  </thead>\n",
       "  <tbody>\n",
       "    <tr>\n",
       "      <th>0</th>\n",
       "      <td>Explanation\\nWhy the edits made under my usern...</td>\n",
       "      <td>0</td>\n",
       "      <td>explanation why the edit make under my usernam...</td>\n",
       "    </tr>\n",
       "    <tr>\n",
       "      <th>1</th>\n",
       "      <td>D'aww! He matches this background colour I'm s...</td>\n",
       "      <td>0</td>\n",
       "      <td>d aww he match this background colour i m seem...</td>\n",
       "    </tr>\n",
       "    <tr>\n",
       "      <th>2</th>\n",
       "      <td>Hey man, I'm really not trying to edit war. It...</td>\n",
       "      <td>0</td>\n",
       "      <td>hey man i m really not try to edit war it s ju...</td>\n",
       "    </tr>\n",
       "    <tr>\n",
       "      <th>3</th>\n",
       "      <td>\"\\nMore\\nI can't make any real suggestions on ...</td>\n",
       "      <td>0</td>\n",
       "      <td>more i can t make any real suggestion on impro...</td>\n",
       "    </tr>\n",
       "    <tr>\n",
       "      <th>4</th>\n",
       "      <td>You, sir, are my hero. Any chance you remember...</td>\n",
       "      <td>0</td>\n",
       "      <td>you sir be my hero any chance you remember wha...</td>\n",
       "    </tr>\n",
       "  </tbody>\n",
       "</table>\n",
       "</div>"
      ],
      "text/plain": [
       "                                                text  toxic  \\\n",
       "0  Explanation\\nWhy the edits made under my usern...      0   \n",
       "1  D'aww! He matches this background colour I'm s...      0   \n",
       "2  Hey man, I'm really not trying to edit war. It...      0   \n",
       "3  \"\\nMore\\nI can't make any real suggestions on ...      0   \n",
       "4  You, sir, are my hero. Any chance you remember...      0   \n",
       "\n",
       "                                           lemm_text  \n",
       "0  explanation why the edit make under my usernam...  \n",
       "1  d aww he match this background colour i m seem...  \n",
       "2  hey man i m really not try to edit war it s ju...  \n",
       "3  more i can t make any real suggestion on impro...  \n",
       "4  you sir be my hero any chance you remember wha...  "
      ]
     },
     "execution_count": 16,
     "metadata": {},
     "output_type": "execute_result"
    }
   ],
   "source": [
    "data.head()"
   ]
  },
  {
   "cell_type": "markdown",
   "metadata": {},
   "source": [
    "## Обучение"
   ]
  },
  {
   "cell_type": "markdown",
   "metadata": {},
   "source": [
    "Лемматизированный текст будет составлять признаки, на которых будет обучаться модель."
   ]
  },
  {
   "cell_type": "code",
   "execution_count": 17,
   "metadata": {},
   "outputs": [],
   "source": [
    "features = data['lemm_text']\n",
    "target = data['toxic']"
   ]
  },
  {
   "cell_type": "markdown",
   "metadata": {},
   "source": [
    "Разделим датасет на обучающую и тестовую выборки в соотношении 0.25."
   ]
  },
  {
   "cell_type": "code",
   "execution_count": 18,
   "metadata": {},
   "outputs": [],
   "source": [
    "X_train, X_test, y_train, y_test = train_test_split(features, target, random_state=12345, test_size=0.25)"
   ]
  },
  {
   "cell_type": "markdown",
   "metadata": {},
   "source": [
    "Применим метод TF-IDF для учета частоты употребления слов. Также почистим текст от слов без смысловой нагрузки."
   ]
  },
  {
   "cell_type": "code",
   "execution_count": 19,
   "metadata": {},
   "outputs": [],
   "source": [
    "count_tf_idf = TfidfVectorizer(stop_words=stopwords)"
   ]
  },
  {
   "cell_type": "code",
   "execution_count": 20,
   "metadata": {},
   "outputs": [],
   "source": [
    "tf_idf_train = count_tf_idf.fit_transform(X_train)"
   ]
  },
  {
   "cell_type": "code",
   "execution_count": 21,
   "metadata": {},
   "outputs": [],
   "source": [
    "tf_idf_test = count_tf_idf.transform(X_test)"
   ]
  },
  {
   "cell_type": "markdown",
   "metadata": {},
   "source": [
    "Посчитаем результат на трех моделях."
   ]
  },
  {
   "cell_type": "code",
   "execution_count": 22,
   "metadata": {},
   "outputs": [],
   "source": [
    "lr = LogisticRegression(random_state=12345)\n",
    "\n",
    "lr_grid_space = {'max_iter':[1, 200],\n",
    "                 'class_weight': ['balanced'],\n",
    "                 'solver': ['liblinear']\n",
    "                }"
   ]
  },
  {
   "cell_type": "code",
   "execution_count": 23,
   "metadata": {},
   "outputs": [],
   "source": [
    "dtc = DecisionTreeClassifier(random_state=12345)\n",
    "\n",
    "dtc_grid_space = {'max_depth':[1, 10],\n",
    "                  'min_samples_leaf':[2,5],\n",
    "                  'class_weight': ['balanced']\n",
    "                 }"
   ]
  },
  {
   "cell_type": "code",
   "execution_count": 24,
   "metadata": {},
   "outputs": [],
   "source": [
    "rfc = RandomForestClassifier(random_state=12345)\n",
    "\n",
    "rfc_grid_space = {'n_estimators':[1, 100],\n",
    "                  'max_depth':[1, 10],\n",
    "                  'class_weight': ['balanced']\n",
    "                 }"
   ]
  },
  {
   "cell_type": "code",
   "execution_count": 26,
   "metadata": {},
   "outputs": [],
   "source": [
    "def find_model(model, grid_space):\n",
    "    grid = GridSearchCV(model, param_grid=grid_space, cv=5, n_jobs=-1, scoring='f1', verbose=False)\n",
    "    model_grid = grid.fit(tf_idf_train, y_train)\n",
    "    print(model_grid.best_score_)\n",
    "    print(model_grid.best_params_)\n",
    "    return model_grid"
   ]
  },
  {
   "cell_type": "code",
   "execution_count": 27,
   "metadata": {},
   "outputs": [
    {
     "name": "stdout",
     "output_type": "stream",
     "text": [
      "0.7485373556893962\n",
      "{'class_weight': 'balanced', 'max_iter': 200, 'solver': 'liblinear'}\n",
      "CPU times: user 40.4 s, sys: 42.8 s, total: 1min 23s\n",
      "Wall time: 1min 23s\n"
     ]
    },
    {
     "data": {
      "text/plain": [
       "GridSearchCV(cv=5, estimator=LogisticRegression(random_state=12345), n_jobs=-1,\n",
       "             param_grid={'class_weight': ['balanced'], 'max_iter': [1, 200],\n",
       "                         'solver': ['liblinear']},\n",
       "             scoring='f1', verbose=False)"
      ]
     },
     "execution_count": 27,
     "metadata": {},
     "output_type": "execute_result"
    }
   ],
   "source": [
    "%%time\n",
    "\n",
    "lr_model = find_model(lr, lr_grid_space)\n",
    "lr_model"
   ]
  },
  {
   "cell_type": "code",
   "execution_count": 28,
   "metadata": {},
   "outputs": [
    {
     "name": "stdout",
     "output_type": "stream",
     "text": [
      "0.5650264251080814\n",
      "{'class_weight': 'balanced', 'max_depth': 10, 'min_samples_leaf': 5}\n",
      "CPU times: user 4min 31s, sys: 850 ms, total: 4min 32s\n",
      "Wall time: 4min 32s\n"
     ]
    },
    {
     "data": {
      "text/plain": [
       "GridSearchCV(cv=5, estimator=DecisionTreeClassifier(random_state=12345),\n",
       "             n_jobs=-1,\n",
       "             param_grid={'class_weight': ['balanced'], 'max_depth': [1, 10],\n",
       "                         'min_samples_leaf': [2, 5]},\n",
       "             scoring='f1', verbose=False)"
      ]
     },
     "execution_count": 28,
     "metadata": {},
     "output_type": "execute_result"
    }
   ],
   "source": [
    "%%time\n",
    "\n",
    "dtc_model = find_model(dtc, dtc_grid_space)\n",
    "dtc_model"
   ]
  },
  {
   "cell_type": "code",
   "execution_count": 29,
   "metadata": {},
   "outputs": [
    {
     "name": "stdout",
     "output_type": "stream",
     "text": [
      "0.368292852131008\n",
      "{'class_weight': 'balanced', 'max_depth': 10, 'n_estimators': 100}\n",
      "CPU times: user 2min 16s, sys: 623 ms, total: 2min 17s\n",
      "Wall time: 2min 17s\n"
     ]
    },
    {
     "data": {
      "text/plain": [
       "GridSearchCV(cv=5, estimator=RandomForestClassifier(random_state=12345),\n",
       "             n_jobs=-1,\n",
       "             param_grid={'class_weight': ['balanced'], 'max_depth': [1, 10],\n",
       "                         'n_estimators': [1, 100]},\n",
       "             scoring='f1', verbose=False)"
      ]
     },
     "execution_count": 29,
     "metadata": {},
     "output_type": "execute_result"
    }
   ],
   "source": [
    "%%time\n",
    "\n",
    "rfc_model = find_model(rfc, rfc_grid_space)\n",
    "rfc_model"
   ]
  },
  {
   "cell_type": "markdown",
   "metadata": {},
   "source": [
    "Самый высокий результат показала модель логистической регрессии. Он близок к искомому 0.75. Проверим ее качество на тестовой выборке."
   ]
  },
  {
   "cell_type": "code",
   "execution_count": 31,
   "metadata": {
    "scrolled": true
   },
   "outputs": [
    {
     "data": {
      "text/html": [
       "<div>\n",
       "<style scoped>\n",
       "    .dataframe tbody tr th:only-of-type {\n",
       "        vertical-align: middle;\n",
       "    }\n",
       "\n",
       "    .dataframe tbody tr th {\n",
       "        vertical-align: top;\n",
       "    }\n",
       "\n",
       "    .dataframe thead th {\n",
       "        text-align: right;\n",
       "    }\n",
       "</style>\n",
       "<table border=\"1\" class=\"dataframe\">\n",
       "  <thead>\n",
       "    <tr style=\"text-align: right;\">\n",
       "      <th></th>\n",
       "      <th>f1</th>\n",
       "    </tr>\n",
       "  </thead>\n",
       "  <tbody>\n",
       "    <tr>\n",
       "      <th>LogisticRegression</th>\n",
       "      <td>0.748537</td>\n",
       "    </tr>\n",
       "    <tr>\n",
       "      <th>DecisionTree</th>\n",
       "      <td>0.565026</td>\n",
       "    </tr>\n",
       "    <tr>\n",
       "      <th>RandomForest</th>\n",
       "      <td>0.368293</td>\n",
       "    </tr>\n",
       "  </tbody>\n",
       "</table>\n",
       "</div>"
      ],
      "text/plain": [
       "                          f1\n",
       "LogisticRegression  0.748537\n",
       "DecisionTree        0.565026\n",
       "RandomForest        0.368293"
      ]
     },
     "execution_count": 31,
     "metadata": {},
     "output_type": "execute_result"
    }
   ],
   "source": [
    "result = pd.DataFrame ([\n",
    "    [lr_model.best_score_],\n",
    "    [dtc_model.best_score_],\n",
    "    [rfc_model.best_score_]], \n",
    "    columns=['f1'],\n",
    "    index=['LogisticRegression', 'DecisionTree','RandomForest'])\n",
    "\n",
    "result.sort_values(by='f1', ascending=False)"
   ]
  },
  {
   "cell_type": "markdown",
   "metadata": {},
   "source": [
    "Тестовая выборка показала результат метрики F1 выше 0.75."
   ]
  },
  {
   "cell_type": "code",
   "execution_count": 32,
   "metadata": {},
   "outputs": [
    {
     "data": {
      "text/plain": [
       "0.753610691959474"
      ]
     },
     "execution_count": 32,
     "metadata": {},
     "output_type": "execute_result"
    }
   ],
   "source": [
    "model = LogisticRegression(random_state=12345, class_weight='balanced', max_iter=200, solver='liblinear')\n",
    "model.fit(tf_idf_train, y_train)\n",
    "predictions = model.predict(tf_idf_test)\n",
    "f1 = f1_score(y_test, predictions)\n",
    "f1"
   ]
  },
  {
   "cell_type": "markdown",
   "metadata": {},
   "source": [
    "Построим матрицу ошибок. Чаще всего у нашей модели возникали сложности с предсказанием отрицательных ответов."
   ]
  },
  {
   "cell_type": "code",
   "execution_count": 33,
   "metadata": {},
   "outputs": [
    {
     "data": {
      "text/plain": [
       "array([[34041,  1738],\n",
       "       [  548,  3496]])"
      ]
     },
     "execution_count": 33,
     "metadata": {},
     "output_type": "execute_result"
    }
   ],
   "source": [
    "confusion_matrix(y_test, predictions)"
   ]
  },
  {
   "cell_type": "markdown",
   "metadata": {},
   "source": [
    "## Выводы"
   ]
  },
  {
   "cell_type": "markdown",
   "metadata": {},
   "source": [
    "Наша задача заключалась в написании модели, способной классифицировать комментарии к товарам в интернет-магазине на позитивные и негативные. \n",
    "\n",
    "\n",
    "В нашем распоряжении был набор данных с разметкой токсичности комментариев. По итогам работы метрика F1 модели должна быть не меньше 0.75.\n",
    "\n",
    "\n",
    "В ходе работы мы лемматризировали текст, очистили его от регулярных выражений и слов без смысловой нагрузки, а также применили метод TF-IDF для учета частоты употребления слов.\n",
    "\n",
    "\n",
    "В моделях обучения в качестве одного из гиперпараметров был применен баланс классов, так как в исходных данных был сильный перевес в пользу класса 0. \n",
    "\n",
    "\n",
    "Самый высокий результат показала модель логистической регрессии. Модель допустила заметное количество ошибок при определении ответов класса 0. Тем не менее, на тестовой выборке удалось получить метрику F1 на уровне 0.753."
   ]
  }
 ],
 "metadata": {
  "ExecuteTimeLog": [
   {
    "duration": 366,
    "start_time": "2023-10-23T08:20:26.687Z"
   },
   {
    "duration": 2374,
    "start_time": "2023-10-23T08:20:53.671Z"
   },
   {
    "duration": 13,
    "start_time": "2023-10-23T08:21:01.235Z"
   },
   {
    "duration": 32,
    "start_time": "2023-10-23T08:21:22.554Z"
   },
   {
    "duration": 17,
    "start_time": "2023-10-23T08:22:10.005Z"
   },
   {
    "duration": 13,
    "start_time": "2023-10-23T08:22:24.384Z"
   },
   {
    "duration": 14,
    "start_time": "2023-10-23T08:22:44.402Z"
   },
   {
    "duration": 8,
    "start_time": "2023-10-23T08:23:30.467Z"
   },
   {
    "duration": 4,
    "start_time": "2023-10-23T08:31:42.813Z"
   },
   {
    "duration": 29,
    "start_time": "2023-10-23T08:32:06.290Z"
   },
   {
    "duration": 4,
    "start_time": "2023-10-23T08:33:40.092Z"
   },
   {
    "duration": 3,
    "start_time": "2023-10-23T08:35:24.788Z"
   },
   {
    "duration": 67,
    "start_time": "2023-10-23T08:35:52.529Z"
   },
   {
    "duration": 3,
    "start_time": "2023-10-23T08:37:12.928Z"
   },
   {
    "duration": 10,
    "start_time": "2023-10-23T08:37:13.711Z"
   },
   {
    "duration": 3,
    "start_time": "2023-10-23T08:37:19.167Z"
   },
   {
    "duration": 6326,
    "start_time": "2023-10-23T08:37:19.849Z"
   },
   {
    "duration": 422,
    "start_time": "2023-10-23T08:43:22.333Z"
   },
   {
    "duration": 891,
    "start_time": "2023-10-23T08:43:45.083Z"
   },
   {
    "duration": 14,
    "start_time": "2023-10-23T08:43:52.423Z"
   },
   {
    "duration": 6,
    "start_time": "2023-10-23T08:44:18.554Z"
   },
   {
    "duration": 6,
    "start_time": "2023-10-23T08:47:23.672Z"
   },
   {
    "duration": 1953,
    "start_time": "2023-10-23T08:47:57.366Z"
   },
   {
    "duration": 4,
    "start_time": "2023-10-23T08:48:05.837Z"
   },
   {
    "duration": 2,
    "start_time": "2023-10-23T08:49:07.508Z"
   },
   {
    "duration": 846,
    "start_time": "2023-10-23T08:49:31.339Z"
   },
   {
    "duration": 821,
    "start_time": "2023-10-23T08:50:03.505Z"
   },
   {
    "duration": 5,
    "start_time": "2023-10-23T08:50:09.993Z"
   },
   {
    "duration": 811,
    "start_time": "2023-10-23T08:50:24.779Z"
   },
   {
    "duration": 4,
    "start_time": "2023-10-23T08:50:30.515Z"
   },
   {
    "duration": 2,
    "start_time": "2023-10-23T08:50:40.768Z"
   },
   {
    "duration": 838,
    "start_time": "2023-10-23T08:50:41.621Z"
   },
   {
    "duration": 8,
    "start_time": "2023-10-23T08:50:43.258Z"
   },
   {
    "duration": 7,
    "start_time": "2023-10-23T08:50:44.784Z"
   },
   {
    "duration": 59,
    "start_time": "2023-10-23T08:53:59.329Z"
   },
   {
    "duration": 384,
    "start_time": "2023-10-23T08:54:04.392Z"
   },
   {
    "duration": 2414,
    "start_time": "2023-10-23T08:54:05.728Z"
   },
   {
    "duration": 15,
    "start_time": "2023-10-23T08:54:08.990Z"
   },
   {
    "duration": 8,
    "start_time": "2023-10-23T08:54:10.177Z"
   },
   {
    "duration": 1998,
    "start_time": "2023-10-23T08:54:12.622Z"
   },
   {
    "duration": 443,
    "start_time": "2023-10-23T08:55:06.808Z"
   },
   {
    "duration": 2410,
    "start_time": "2023-10-23T08:55:31.459Z"
   },
   {
    "duration": 15,
    "start_time": "2023-10-23T08:55:40.516Z"
   },
   {
    "duration": 7,
    "start_time": "2023-10-23T08:56:03.228Z"
   },
   {
    "duration": 4,
    "start_time": "2023-10-23T08:57:29.872Z"
   },
   {
    "duration": 1992,
    "start_time": "2023-10-23T08:57:53.716Z"
   },
   {
    "duration": 3,
    "start_time": "2023-10-23T08:58:55.674Z"
   },
   {
    "duration": 2,
    "start_time": "2023-10-23T09:06:02.376Z"
   },
   {
    "duration": 72,
    "start_time": "2023-10-23T09:06:46.451Z"
   },
   {
    "duration": 412,
    "start_time": "2023-10-23T09:07:33.605Z"
   },
   {
    "duration": 2372,
    "start_time": "2023-10-23T09:07:34.641Z"
   },
   {
    "duration": 13,
    "start_time": "2023-10-23T09:07:37.634Z"
   },
   {
    "duration": 6,
    "start_time": "2023-10-23T09:07:38.270Z"
   },
   {
    "duration": 4318,
    "start_time": "2023-10-23T09:07:38.932Z"
   },
   {
    "duration": 3,
    "start_time": "2023-10-23T09:07:44.090Z"
   },
   {
    "duration": 66,
    "start_time": "2023-10-23T09:07:44.917Z"
   },
   {
    "duration": 3,
    "start_time": "2023-10-23T09:11:07.234Z"
   },
   {
    "duration": 3,
    "start_time": "2023-10-23T09:12:36.437Z"
   },
   {
    "duration": 9,
    "start_time": "2023-10-23T09:13:14.744Z"
   },
   {
    "duration": 2,
    "start_time": "2023-10-23T09:13:24.934Z"
   },
   {
    "duration": 3,
    "start_time": "2023-10-23T09:13:30.684Z"
   },
   {
    "duration": 3,
    "start_time": "2023-10-23T09:13:31.873Z"
   },
   {
    "duration": 12,
    "start_time": "2023-10-23T09:13:32.690Z"
   },
   {
    "duration": 3,
    "start_time": "2023-10-23T09:13:41.628Z"
   },
   {
    "duration": 6169,
    "start_time": "2023-10-23T09:13:42.245Z"
   },
   {
    "duration": 5,
    "start_time": "2023-10-23T09:13:52.964Z"
   },
   {
    "duration": 4,
    "start_time": "2023-10-23T09:13:56.749Z"
   },
   {
    "duration": 3,
    "start_time": "2023-10-23T09:14:00.155Z"
   },
   {
    "duration": 426,
    "start_time": "2023-10-23T09:22:17.729Z"
   },
   {
    "duration": 912,
    "start_time": "2023-10-23T09:22:43.531Z"
   },
   {
    "duration": 13,
    "start_time": "2023-10-23T09:22:58.886Z"
   },
   {
    "duration": 33,
    "start_time": "2023-10-23T09:23:05.156Z"
   },
   {
    "duration": 6,
    "start_time": "2023-10-23T09:23:18.495Z"
   },
   {
    "duration": 4504,
    "start_time": "2023-10-23T09:24:00.585Z"
   },
   {
    "duration": 3,
    "start_time": "2023-10-23T09:25:04.420Z"
   },
   {
    "duration": 3,
    "start_time": "2023-10-23T09:26:20.757Z"
   },
   {
    "duration": 3,
    "start_time": "2023-10-23T09:26:30.469Z"
   },
   {
    "duration": 65,
    "start_time": "2023-10-23T09:26:59.397Z"
   },
   {
    "duration": 7,
    "start_time": "2023-10-23T09:28:05.698Z"
   },
   {
    "duration": 3,
    "start_time": "2023-10-23T09:28:09.930Z"
   },
   {
    "duration": 2,
    "start_time": "2023-10-23T09:28:10.669Z"
   },
   {
    "duration": 6345,
    "start_time": "2023-10-23T09:28:11.387Z"
   },
   {
    "duration": 995,
    "start_time": "2023-10-23T09:29:39.276Z"
   },
   {
    "duration": 135,
    "start_time": "2023-10-23T09:30:00.854Z"
   },
   {
    "duration": 7401,
    "start_time": "2023-10-23T09:32:09.755Z"
   },
   {
    "duration": 58,
    "start_time": "2023-10-23T09:32:24.332Z"
   },
   {
    "duration": 24,
    "start_time": "2023-10-23T09:32:39.011Z"
   },
   {
    "duration": 9,
    "start_time": "2023-10-23T09:32:41.049Z"
   },
   {
    "duration": 1276,
    "start_time": "2023-10-23T09:33:18.214Z"
   },
   {
    "duration": 134,
    "start_time": "2023-10-23T09:33:22.839Z"
   },
   {
    "duration": 918,
    "start_time": "2023-10-23T09:33:24.152Z"
   },
   {
    "duration": 9,
    "start_time": "2023-10-23T09:33:25.789Z"
   },
   {
    "duration": 29,
    "start_time": "2023-10-23T09:33:27.155Z"
   },
   {
    "duration": 5,
    "start_time": "2023-10-23T09:33:28.559Z"
   },
   {
    "duration": 1915,
    "start_time": "2023-10-23T09:33:31.205Z"
   },
   {
    "duration": 6,
    "start_time": "2023-10-23T09:33:34.602Z"
   },
   {
    "duration": 3,
    "start_time": "2023-10-23T09:33:35.769Z"
   },
   {
    "duration": 812,
    "start_time": "2023-10-23T09:33:36.823Z"
   },
   {
    "duration": 6,
    "start_time": "2023-10-23T09:33:39.672Z"
   },
   {
    "duration": 114,
    "start_time": "2023-10-23T09:33:40.589Z"
   },
   {
    "duration": 410,
    "start_time": "2023-10-23T09:53:54.536Z"
   },
   {
    "duration": 976,
    "start_time": "2023-10-23T09:55:04.416Z"
   },
   {
    "duration": 14,
    "start_time": "2023-10-23T09:55:13.262Z"
   },
   {
    "duration": 4,
    "start_time": "2023-10-23T09:58:07.711Z"
   },
   {
    "duration": 2,
    "start_time": "2023-10-23T09:58:21.457Z"
   },
   {
    "duration": 1939,
    "start_time": "2023-10-23T09:59:44.773Z"
   },
   {
    "duration": 3,
    "start_time": "2023-10-23T09:59:47.760Z"
   },
   {
    "duration": 66,
    "start_time": "2023-10-23T10:00:12.413Z"
   },
   {
    "duration": 12,
    "start_time": "2023-10-23T10:01:14.212Z"
   },
   {
    "duration": 415,
    "start_time": "2023-10-23T10:01:35.738Z"
   },
   {
    "duration": 2400,
    "start_time": "2023-10-23T10:01:36.767Z"
   },
   {
    "duration": 14,
    "start_time": "2023-10-23T10:01:40.078Z"
   },
   {
    "duration": 4350,
    "start_time": "2023-10-23T10:01:40.713Z"
   },
   {
    "duration": 3,
    "start_time": "2023-10-23T10:01:46.002Z"
   },
   {
    "duration": 74,
    "start_time": "2023-10-23T10:01:46.957Z"
   },
   {
    "duration": 9,
    "start_time": "2023-10-23T10:01:54.240Z"
   },
   {
    "duration": 1913,
    "start_time": "2023-10-23T10:03:06.236Z"
   },
   {
    "duration": 3,
    "start_time": "2023-10-23T10:03:51.433Z"
   },
   {
    "duration": 9,
    "start_time": "2023-10-23T10:04:22.148Z"
   },
   {
    "duration": 3,
    "start_time": "2023-10-23T10:06:05.343Z"
   },
   {
    "duration": 5,
    "start_time": "2023-10-23T10:06:16.543Z"
   },
   {
    "duration": 782,
    "start_time": "2023-10-23T10:06:31.986Z"
   },
   {
    "duration": 53,
    "start_time": "2023-10-23T10:10:15.399Z"
   },
   {
    "duration": 3,
    "start_time": "2023-10-23T10:11:04.295Z"
   },
   {
    "duration": 3,
    "start_time": "2023-10-23T10:12:09.713Z"
   },
   {
    "duration": 2,
    "start_time": "2023-10-23T10:12:18.591Z"
   },
   {
    "duration": 3,
    "start_time": "2023-10-23T10:12:26.739Z"
   },
   {
    "duration": 842,
    "start_time": "2023-10-23T10:12:27.443Z"
   },
   {
    "duration": 9,
    "start_time": "2023-10-23T10:12:28.938Z"
   },
   {
    "duration": 32,
    "start_time": "2023-10-23T10:12:29.748Z"
   },
   {
    "duration": 3,
    "start_time": "2023-10-23T10:12:30.553Z"
   },
   {
    "duration": 3,
    "start_time": "2023-10-23T10:12:32.338Z"
   },
   {
    "duration": 5,
    "start_time": "2023-10-23T10:12:38.482Z"
   },
   {
    "duration": 12,
    "start_time": "2023-10-23T10:13:00.513Z"
   },
   {
    "duration": 3,
    "start_time": "2023-10-23T10:13:08.594Z"
   },
   {
    "duration": 849,
    "start_time": "2023-10-23T10:13:13.544Z"
   },
   {
    "duration": 3,
    "start_time": "2023-10-23T10:13:24.886Z"
   },
   {
    "duration": 3,
    "start_time": "2023-10-23T10:13:25.705Z"
   },
   {
    "duration": 5,
    "start_time": "2023-10-23T10:13:26.218Z"
   },
   {
    "duration": 834,
    "start_time": "2023-10-23T10:13:26.955Z"
   },
   {
    "duration": 3,
    "start_time": "2023-10-23T10:13:38.699Z"
   },
   {
    "duration": 2,
    "start_time": "2023-10-23T10:13:39.146Z"
   },
   {
    "duration": 4,
    "start_time": "2023-10-23T10:13:39.612Z"
   },
   {
    "duration": 827,
    "start_time": "2023-10-23T10:13:40.260Z"
   },
   {
    "duration": 13,
    "start_time": "2023-10-23T10:14:10.450Z"
   },
   {
    "duration": 3,
    "start_time": "2023-10-23T10:14:21.659Z"
   },
   {
    "duration": 376,
    "start_time": "2023-10-23T10:14:33.289Z"
   },
   {
    "duration": 2404,
    "start_time": "2023-10-23T10:14:33.806Z"
   },
   {
    "duration": 13,
    "start_time": "2023-10-23T10:14:36.212Z"
   },
   {
    "duration": 43,
    "start_time": "2023-10-23T10:14:36.227Z"
   },
   {
    "duration": 16,
    "start_time": "2023-10-23T10:14:36.272Z"
   },
   {
    "duration": 6,
    "start_time": "2023-10-23T10:14:36.289Z"
   },
   {
    "duration": 356,
    "start_time": "2023-10-23T10:34:48.388Z"
   },
   {
    "duration": 2391,
    "start_time": "2023-10-23T10:35:20.192Z"
   },
   {
    "duration": 13,
    "start_time": "2023-10-23T10:35:30.934Z"
   },
   {
    "duration": 31,
    "start_time": "2023-10-23T10:35:52.471Z"
   },
   {
    "duration": 1938,
    "start_time": "2023-10-23T10:47:04.794Z"
   },
   {
    "duration": 4,
    "start_time": "2023-10-23T10:47:11.588Z"
   },
   {
    "duration": 3,
    "start_time": "2023-10-23T10:47:28.339Z"
   },
   {
    "duration": 24,
    "start_time": "2023-10-23T10:48:17.460Z"
   },
   {
    "duration": 3,
    "start_time": "2023-10-23T10:49:12.129Z"
   },
   {
    "duration": 3,
    "start_time": "2023-10-23T10:50:28.637Z"
   },
   {
    "duration": 62,
    "start_time": "2023-10-23T10:51:18.016Z"
   },
   {
    "duration": 101602,
    "start_time": "2023-10-23T10:51:46.903Z"
   },
   {
    "duration": 371,
    "start_time": "2023-10-23T10:53:58.580Z"
   },
   {
    "duration": 898,
    "start_time": "2023-10-23T10:53:59.623Z"
   },
   {
    "duration": 14,
    "start_time": "2023-10-23T10:54:01.162Z"
   },
   {
    "duration": 30,
    "start_time": "2023-10-23T10:54:01.908Z"
   },
   {
    "duration": 3,
    "start_time": "2023-10-23T10:54:02.511Z"
   },
   {
    "duration": 3,
    "start_time": "2023-10-23T10:54:03.147Z"
   },
   {
    "duration": 199003,
    "start_time": "2023-10-23T10:54:04.070Z"
   },
   {
    "duration": 1777,
    "start_time": "2023-10-23T10:57:44.990Z"
   },
   {
    "duration": 419441,
    "start_time": "2023-10-23T10:58:01.583Z"
   },
   {
    "duration": 454,
    "start_time": "2023-10-23T12:31:34.313Z"
   },
   {
    "duration": 908,
    "start_time": "2023-10-23T12:31:35.563Z"
   },
   {
    "duration": 15,
    "start_time": "2023-10-23T12:31:37.135Z"
   },
   {
    "duration": 31,
    "start_time": "2023-10-23T12:31:38.058Z"
   },
   {
    "duration": 3,
    "start_time": "2023-10-23T12:31:39.305Z"
   },
   {
    "duration": 3,
    "start_time": "2023-10-23T12:31:40.385Z"
   },
   {
    "duration": 3823612,
    "start_time": "2023-10-23T12:31:41.726Z"
   },
   {
    "duration": 1076,
    "start_time": "2023-10-23T13:36:57.991Z"
   },
   {
    "duration": 1455,
    "start_time": "2023-10-23T13:37:06.528Z"
   },
   {
    "duration": 160,
    "start_time": "2023-10-23T13:37:08.838Z"
   },
   {
    "duration": 981,
    "start_time": "2023-10-23T13:37:10.197Z"
   },
   {
    "duration": 11,
    "start_time": "2023-10-23T13:37:12.045Z"
   },
   {
    "duration": 30,
    "start_time": "2023-10-23T13:37:12.962Z"
   },
   {
    "duration": 7,
    "start_time": "2023-10-23T13:37:14.189Z"
   },
   {
    "duration": 10,
    "start_time": "2023-10-23T13:37:20.504Z"
   },
   {
    "duration": 4,
    "start_time": "2023-10-23T13:37:28.762Z"
   },
   {
    "duration": 3,
    "start_time": "2023-10-23T13:37:29.541Z"
   },
   {
    "duration": 70437,
    "start_time": "2023-10-23T13:37:30.343Z"
   },
   {
    "duration": 129,
    "start_time": "2023-10-23T13:39:07.293Z"
   },
   {
    "duration": 6,
    "start_time": "2023-10-23T13:40:10.450Z"
   },
   {
    "duration": 13,
    "start_time": "2023-10-23T13:40:11.655Z"
   },
   {
    "duration": 5,
    "start_time": "2023-10-23T13:40:13.603Z"
   },
   {
    "duration": 21,
    "start_time": "2023-10-23T13:40:18.343Z"
   },
   {
    "duration": 3,
    "start_time": "2023-10-23T13:41:35.702Z"
   },
   {
    "duration": 3,
    "start_time": "2023-10-23T13:41:45.835Z"
   },
   {
    "duration": 4,
    "start_time": "2023-10-23T13:41:47.117Z"
   },
   {
    "duration": 5,
    "start_time": "2023-10-23T13:41:49.592Z"
   },
   {
    "duration": 3,
    "start_time": "2023-10-23T13:41:52.821Z"
   },
   {
    "duration": 2,
    "start_time": "2023-10-23T13:41:55.168Z"
   },
   {
    "duration": 4,
    "start_time": "2023-10-23T13:41:55.667Z"
   },
   {
    "duration": 4,
    "start_time": "2023-10-23T13:41:56.151Z"
   },
   {
    "duration": 4,
    "start_time": "2023-10-23T13:41:57.737Z"
   },
   {
    "duration": 14,
    "start_time": "2023-10-23T13:41:59.521Z"
   },
   {
    "duration": 4,
    "start_time": "2023-10-23T13:42:24.174Z"
   },
   {
    "duration": 4,
    "start_time": "2023-10-23T13:42:29.766Z"
   },
   {
    "duration": 13,
    "start_time": "2023-10-23T13:42:30.416Z"
   },
   {
    "duration": 4,
    "start_time": "2023-10-23T13:43:03.774Z"
   },
   {
    "duration": 22,
    "start_time": "2023-10-23T13:43:04.711Z"
   },
   {
    "duration": 3,
    "start_time": "2023-10-23T14:17:01.127Z"
   },
   {
    "duration": 864,
    "start_time": "2023-10-23T14:17:26.583Z"
   },
   {
    "duration": 8,
    "start_time": "2023-10-23T14:17:32.457Z"
   },
   {
    "duration": 37,
    "start_time": "2023-10-23T14:17:40.336Z"
   },
   {
    "duration": 10,
    "start_time": "2023-10-23T14:21:31.236Z"
   },
   {
    "duration": 3,
    "start_time": "2023-10-23T14:22:21.020Z"
   },
   {
    "duration": 8,
    "start_time": "2023-10-23T14:22:26.319Z"
   },
   {
    "duration": 3,
    "start_time": "2023-10-23T14:23:07.548Z"
   },
   {
    "duration": 6,
    "start_time": "2023-10-23T14:23:09.135Z"
   },
   {
    "duration": 3,
    "start_time": "2023-10-23T14:23:57.967Z"
   },
   {
    "duration": 15,
    "start_time": "2023-10-23T14:25:01.069Z"
   },
   {
    "duration": 734,
    "start_time": "2023-10-23T14:26:16.859Z"
   },
   {
    "duration": 7,
    "start_time": "2023-10-23T14:26:23.621Z"
   },
   {
    "duration": 3,
    "start_time": "2023-10-23T14:27:06.298Z"
   },
   {
    "duration": 16,
    "start_time": "2023-10-23T14:27:55.973Z"
   },
   {
    "duration": 89,
    "start_time": "2023-10-23T14:28:56.712Z"
   },
   {
    "duration": 6,
    "start_time": "2023-10-23T14:29:24.922Z"
   },
   {
    "duration": 6,
    "start_time": "2023-10-23T14:29:26.061Z"
   },
   {
    "duration": 5,
    "start_time": "2023-10-23T14:29:30.392Z"
   },
   {
    "duration": 6,
    "start_time": "2023-10-23T14:29:30.884Z"
   },
   {
    "duration": 3,
    "start_time": "2023-10-23T14:29:59.248Z"
   },
   {
    "duration": 872,
    "start_time": "2023-10-23T14:29:59.818Z"
   },
   {
    "duration": 8,
    "start_time": "2023-10-23T14:30:01.418Z"
   },
   {
    "duration": 32,
    "start_time": "2023-10-23T14:30:02.014Z"
   },
   {
    "duration": 7,
    "start_time": "2023-10-23T14:30:02.656Z"
   },
   {
    "duration": 793,
    "start_time": "2023-10-23T14:30:03.707Z"
   },
   {
    "duration": 9,
    "start_time": "2023-10-23T14:30:04.890Z"
   },
   {
    "duration": 7,
    "start_time": "2023-10-23T14:30:05.669Z"
   },
   {
    "duration": 14,
    "start_time": "2023-10-23T14:30:38.726Z"
   },
   {
    "duration": 3,
    "start_time": "2023-10-23T14:30:46.468Z"
   },
   {
    "duration": 7,
    "start_time": "2023-10-23T14:30:47.361Z"
   },
   {
    "duration": 3,
    "start_time": "2023-10-23T14:34:50.453Z"
   },
   {
    "duration": 10,
    "start_time": "2023-10-23T14:35:49.592Z"
   },
   {
    "duration": 3,
    "start_time": "2023-10-23T14:35:53.944Z"
   },
   {
    "duration": 5,
    "start_time": "2023-10-23T14:36:13.070Z"
   },
   {
    "duration": 3,
    "start_time": "2023-10-23T14:37:41.960Z"
   },
   {
    "duration": 822,
    "start_time": "2023-10-23T14:37:42.486Z"
   },
   {
    "duration": 7,
    "start_time": "2023-10-23T14:37:43.883Z"
   },
   {
    "duration": 36,
    "start_time": "2023-10-23T14:37:44.540Z"
   },
   {
    "duration": 7,
    "start_time": "2023-10-23T14:37:45.591Z"
   },
   {
    "duration": 759,
    "start_time": "2023-10-23T14:37:46.338Z"
   },
   {
    "duration": 7,
    "start_time": "2023-10-23T14:37:47.783Z"
   },
   {
    "duration": 4,
    "start_time": "2023-10-23T14:37:48.568Z"
   },
   {
    "duration": 7,
    "start_time": "2023-10-23T14:37:49.433Z"
   },
   {
    "duration": 3,
    "start_time": "2023-10-23T14:38:20.014Z"
   },
   {
    "duration": 3,
    "start_time": "2023-10-23T14:40:59.232Z"
   },
   {
    "duration": 227,
    "start_time": "2023-10-23T14:41:59.012Z"
   },
   {
    "duration": 3,
    "start_time": "2023-10-23T14:43:11.968Z"
   },
   {
    "duration": 4,
    "start_time": "2023-10-23T14:43:12.482Z"
   },
   {
    "duration": 868,
    "start_time": "2023-10-23T14:43:12.962Z"
   },
   {
    "duration": 8,
    "start_time": "2023-10-23T14:43:13.832Z"
   },
   {
    "duration": 31,
    "start_time": "2023-10-23T14:43:14.283Z"
   },
   {
    "duration": 7,
    "start_time": "2023-10-23T14:43:14.970Z"
   },
   {
    "duration": 762,
    "start_time": "2023-10-23T14:43:15.602Z"
   },
   {
    "duration": 8,
    "start_time": "2023-10-23T14:43:17.430Z"
   },
   {
    "duration": 4,
    "start_time": "2023-10-23T14:43:18.822Z"
   },
   {
    "duration": 6,
    "start_time": "2023-10-23T14:43:19.643Z"
   },
   {
    "duration": 17,
    "start_time": "2023-10-23T14:43:21.041Z"
   },
   {
    "duration": 4,
    "start_time": "2023-10-23T14:43:29.334Z"
   },
   {
    "duration": 3,
    "start_time": "2023-10-23T14:44:03.236Z"
   },
   {
    "duration": 5,
    "start_time": "2023-10-23T14:44:03.974Z"
   },
   {
    "duration": 5,
    "start_time": "2023-10-23T14:44:04.725Z"
   },
   {
    "duration": 4,
    "start_time": "2023-10-23T14:44:05.845Z"
   },
   {
    "duration": 4,
    "start_time": "2023-10-23T14:44:07.366Z"
   },
   {
    "duration": 4,
    "start_time": "2023-10-23T14:44:07.813Z"
   },
   {
    "duration": 3,
    "start_time": "2023-10-23T14:44:08.449Z"
   },
   {
    "duration": 3,
    "start_time": "2023-10-23T14:44:09.120Z"
   },
   {
    "duration": 19,
    "start_time": "2023-10-23T14:44:10.258Z"
   },
   {
    "duration": 3,
    "start_time": "2023-10-23T14:44:29.416Z"
   },
   {
    "duration": 4,
    "start_time": "2023-10-23T14:44:36.399Z"
   },
   {
    "duration": 2,
    "start_time": "2023-10-23T14:44:42.215Z"
   },
   {
    "duration": 4,
    "start_time": "2023-10-23T14:44:43.108Z"
   },
   {
    "duration": 2,
    "start_time": "2023-10-23T14:44:55.231Z"
   },
   {
    "duration": 14,
    "start_time": "2023-10-23T14:44:56.109Z"
   },
   {
    "duration": 3,
    "start_time": "2023-10-23T14:51:49.282Z"
   },
   {
    "duration": 371,
    "start_time": "2023-10-23T14:51:57.992Z"
   },
   {
    "duration": 929,
    "start_time": "2023-10-23T14:52:21.258Z"
   },
   {
    "duration": 13,
    "start_time": "2023-10-23T14:52:29.999Z"
   },
   {
    "duration": 33,
    "start_time": "2023-10-23T14:52:36.746Z"
   },
   {
    "duration": 8,
    "start_time": "2023-10-23T14:53:04.602Z"
   },
   {
    "duration": 4,
    "start_time": "2023-10-23T14:53:40.530Z"
   },
   {
    "duration": 3,
    "start_time": "2023-10-23T14:54:03.817Z"
   },
   {
    "duration": 62853,
    "start_time": "2023-10-23T14:55:23.919Z"
   },
   {
    "duration": 47,
    "start_time": "2023-10-23T14:57:00.019Z"
   },
   {
    "duration": 366,
    "start_time": "2023-10-23T14:57:03.992Z"
   },
   {
    "duration": 936,
    "start_time": "2023-10-23T14:57:06.176Z"
   },
   {
    "duration": 15,
    "start_time": "2023-10-23T14:57:07.735Z"
   },
   {
    "duration": 31,
    "start_time": "2023-10-23T14:57:08.651Z"
   },
   {
    "duration": 7,
    "start_time": "2023-10-23T14:57:09.503Z"
   },
   {
    "duration": 7,
    "start_time": "2023-10-23T14:57:10.421Z"
   },
   {
    "duration": 3,
    "start_time": "2023-10-23T14:57:12.961Z"
   },
   {
    "duration": 1043,
    "start_time": "2023-10-23T14:57:14.351Z"
   },
   {
    "duration": 6,
    "start_time": "2023-10-23T14:57:22.438Z"
   },
   {
    "duration": 2,
    "start_time": "2023-10-23T15:05:28.907Z"
   },
   {
    "duration": 15,
    "start_time": "2023-10-23T15:10:21.634Z"
   },
   {
    "duration": 6,
    "start_time": "2023-10-23T15:10:22.379Z"
   },
   {
    "duration": 4,
    "start_time": "2023-10-23T15:10:40.526Z"
   },
   {
    "duration": 6,
    "start_time": "2023-10-23T15:10:40.915Z"
   },
   {
    "duration": 3,
    "start_time": "2023-10-23T15:14:11.733Z"
   },
   {
    "duration": 835,
    "start_time": "2023-10-23T15:14:12.292Z"
   },
   {
    "duration": 8,
    "start_time": "2023-10-23T15:14:13.672Z"
   },
   {
    "duration": 29,
    "start_time": "2023-10-23T15:14:14.314Z"
   },
   {
    "duration": 7,
    "start_time": "2023-10-23T15:14:15.215Z"
   },
   {
    "duration": 7,
    "start_time": "2023-10-23T15:14:16.197Z"
   },
   {
    "duration": 4,
    "start_time": "2023-10-23T15:14:16.823Z"
   },
   {
    "duration": 937,
    "start_time": "2023-10-23T15:14:54.982Z"
   },
   {
    "duration": 3,
    "start_time": "2023-10-23T15:15:17.506Z"
   },
   {
    "duration": 897,
    "start_time": "2023-10-23T15:15:18.006Z"
   },
   {
    "duration": 4,
    "start_time": "2023-10-23T15:15:23.458Z"
   },
   {
    "duration": 979,
    "start_time": "2023-10-23T15:15:23.922Z"
   },
   {
    "duration": 1024,
    "start_time": "2023-10-23T15:15:58.422Z"
   },
   {
    "duration": 2,
    "start_time": "2023-10-23T15:16:14.656Z"
   },
   {
    "duration": 797,
    "start_time": "2023-10-23T15:16:15.119Z"
   },
   {
    "duration": 8,
    "start_time": "2023-10-23T15:16:15.918Z"
   },
   {
    "duration": 31,
    "start_time": "2023-10-23T15:16:16.400Z"
   },
   {
    "duration": 7,
    "start_time": "2023-10-23T15:16:17.008Z"
   },
   {
    "duration": 8,
    "start_time": "2023-10-23T15:16:17.914Z"
   },
   {
    "duration": 398,
    "start_time": "2023-10-23T15:28:48.207Z"
   },
   {
    "duration": 916,
    "start_time": "2023-10-23T15:29:11.098Z"
   },
   {
    "duration": 13,
    "start_time": "2023-10-23T15:29:17.134Z"
   },
   {
    "duration": 36,
    "start_time": "2023-10-23T15:29:24.534Z"
   },
   {
    "duration": 7,
    "start_time": "2023-10-23T16:03:34.179Z"
   },
   {
    "duration": 382,
    "start_time": "2023-10-24T08:22:13.632Z"
   },
   {
    "duration": 2376,
    "start_time": "2023-10-24T08:22:14.751Z"
   },
   {
    "duration": 13,
    "start_time": "2023-10-24T08:22:17.755Z"
   },
   {
    "duration": 29,
    "start_time": "2023-10-24T08:22:18.664Z"
   },
   {
    "duration": 7,
    "start_time": "2023-10-24T08:22:24.038Z"
   },
   {
    "duration": 3,
    "start_time": "2023-10-24T08:24:52.931Z"
   },
   {
    "duration": 860,
    "start_time": "2023-10-24T08:24:53.596Z"
   },
   {
    "duration": 7,
    "start_time": "2023-10-24T08:24:55.197Z"
   },
   {
    "duration": 30,
    "start_time": "2023-10-24T08:24:57.807Z"
   },
   {
    "duration": 11,
    "start_time": "2023-10-24T08:25:20.011Z"
   },
   {
    "duration": 8,
    "start_time": "2023-10-24T08:25:26.858Z"
   },
   {
    "duration": 89,
    "start_time": "2023-10-24T08:25:44.394Z"
   },
   {
    "duration": 6,
    "start_time": "2023-10-24T08:25:51.207Z"
   },
   {
    "duration": 8,
    "start_time": "2023-10-24T08:25:54.834Z"
   },
   {
    "duration": 3,
    "start_time": "2023-10-24T08:31:00.808Z"
   },
   {
    "duration": 456,
    "start_time": "2023-10-24T08:32:18.071Z"
   },
   {
    "duration": 5,
    "start_time": "2023-10-24T08:32:41.967Z"
   },
   {
    "duration": 3,
    "start_time": "2023-10-24T08:32:45.527Z"
   },
   {
    "duration": 39506,
    "start_time": "2023-10-24T08:32:46.468Z"
   },
   {
    "duration": 2,
    "start_time": "2023-10-24T08:33:40.649Z"
   },
   {
    "duration": 849,
    "start_time": "2023-10-24T08:33:41.479Z"
   },
   {
    "duration": 8,
    "start_time": "2023-10-24T08:33:42.947Z"
   },
   {
    "duration": 30,
    "start_time": "2023-10-24T08:33:43.631Z"
   },
   {
    "duration": 11,
    "start_time": "2023-10-24T08:33:44.407Z"
   },
   {
    "duration": 8,
    "start_time": "2023-10-24T08:33:45.215Z"
   },
   {
    "duration": 10,
    "start_time": "2023-10-24T08:33:45.934Z"
   },
   {
    "duration": 3,
    "start_time": "2023-10-24T08:33:47.623Z"
   },
   {
    "duration": 96244,
    "start_time": "2023-10-24T08:33:48.510Z"
   },
   {
    "duration": 3,
    "start_time": "2023-10-24T08:36:28.619Z"
   },
   {
    "duration": 861,
    "start_time": "2023-10-24T08:36:29.092Z"
   },
   {
    "duration": 8,
    "start_time": "2023-10-24T08:36:29.954Z"
   },
   {
    "duration": 32,
    "start_time": "2023-10-24T08:36:30.158Z"
   },
   {
    "duration": 10,
    "start_time": "2023-10-24T08:36:30.852Z"
   },
   {
    "duration": 6,
    "start_time": "2023-10-24T08:36:32.185Z"
   },
   {
    "duration": 9,
    "start_time": "2023-10-24T08:36:33.569Z"
   },
   {
    "duration": 3,
    "start_time": "2023-10-24T08:36:48.223Z"
   },
   {
    "duration": 4,
    "start_time": "2023-10-24T08:38:19.454Z"
   },
   {
    "duration": 1170,
    "start_time": "2023-10-24T08:38:24.154Z"
   },
   {
    "duration": 3,
    "start_time": "2023-10-24T08:38:43.471Z"
   },
   {
    "duration": 333,
    "start_time": "2023-10-24T08:38:44.110Z"
   },
   {
    "duration": 421,
    "start_time": "2023-10-24T08:39:05.047Z"
   },
   {
    "duration": 1108,
    "start_time": "2023-10-24T08:39:06.187Z"
   },
   {
    "duration": 16,
    "start_time": "2023-10-24T08:39:07.980Z"
   },
   {
    "duration": 36,
    "start_time": "2023-10-24T08:39:11.213Z"
   },
   {
    "duration": 13,
    "start_time": "2023-10-24T08:39:12.162Z"
   },
   {
    "duration": 7,
    "start_time": "2023-10-24T08:39:14.429Z"
   },
   {
    "duration": 15,
    "start_time": "2023-10-24T08:39:16.200Z"
   },
   {
    "duration": 3,
    "start_time": "2023-10-24T08:39:24.670Z"
   },
   {
    "duration": 774,
    "start_time": "2023-10-24T08:41:01.699Z"
   },
   {
    "duration": 10,
    "start_time": "2023-10-24T08:41:07.538Z"
   },
   {
    "duration": 3,
    "start_time": "2023-10-24T08:46:05.879Z"
   },
   {
    "duration": 1111,
    "start_time": "2023-10-24T08:46:06.607Z"
   },
   {
    "duration": 9,
    "start_time": "2023-10-24T08:46:08.382Z"
   },
   {
    "duration": 48,
    "start_time": "2023-10-24T08:46:09.306Z"
   },
   {
    "duration": 12,
    "start_time": "2023-10-24T08:46:11.843Z"
   },
   {
    "duration": 7,
    "start_time": "2023-10-24T08:46:12.681Z"
   },
   {
    "duration": 13,
    "start_time": "2023-10-24T08:46:13.511Z"
   },
   {
    "duration": 26,
    "start_time": "2023-10-24T08:46:57.425Z"
   },
   {
    "duration": 90,
    "start_time": "2023-10-24T08:47:20.186Z"
   },
   {
    "duration": 110,
    "start_time": "2023-10-24T08:47:34.975Z"
   },
   {
    "duration": 19,
    "start_time": "2023-10-24T08:47:40.106Z"
   },
   {
    "duration": 316,
    "start_time": "2023-10-24T08:48:09.250Z"
   },
   {
    "duration": 7,
    "start_time": "2023-10-24T08:49:23.106Z"
   },
   {
    "duration": 9,
    "start_time": "2023-10-24T08:49:43.400Z"
   },
   {
    "duration": 8,
    "start_time": "2023-10-24T08:49:55.647Z"
   },
   {
    "duration": 7,
    "start_time": "2023-10-24T08:50:30.288Z"
   },
   {
    "duration": 81,
    "start_time": "2023-10-24T08:50:45.984Z"
   },
   {
    "duration": 15,
    "start_time": "2023-10-24T08:50:50.489Z"
   },
   {
    "duration": 3,
    "start_time": "2023-10-24T08:51:34.648Z"
   },
   {
    "duration": 1114,
    "start_time": "2023-10-24T08:51:56.366Z"
   },
   {
    "duration": 3,
    "start_time": "2023-10-24T08:54:12.342Z"
   },
   {
    "duration": 938,
    "start_time": "2023-10-24T08:54:12.925Z"
   },
   {
    "duration": 8,
    "start_time": "2023-10-24T08:54:14.428Z"
   },
   {
    "duration": 35,
    "start_time": "2023-10-24T08:54:14.985Z"
   },
   {
    "duration": 17,
    "start_time": "2023-10-24T08:54:18.297Z"
   },
   {
    "duration": 6,
    "start_time": "2023-10-24T08:54:18.884Z"
   },
   {
    "duration": 11,
    "start_time": "2023-10-24T08:54:19.675Z"
   },
   {
    "duration": 5,
    "start_time": "2023-10-24T08:56:43.209Z"
   },
   {
    "duration": 8,
    "start_time": "2023-10-24T08:57:49.850Z"
   },
   {
    "duration": 297,
    "start_time": "2023-10-24T08:57:57.866Z"
   },
   {
    "duration": 1073,
    "start_time": "2023-10-24T08:58:27.444Z"
   },
   {
    "duration": 3,
    "start_time": "2023-10-24T08:58:41.153Z"
   },
   {
    "duration": 71873,
    "start_time": "2023-10-24T08:58:41.916Z"
   },
   {
    "duration": 13,
    "start_time": "2023-10-24T09:00:11.399Z"
   },
   {
    "duration": 3,
    "start_time": "2023-10-24T09:00:45.363Z"
   },
   {
    "duration": 1030,
    "start_time": "2023-10-24T09:00:45.926Z"
   },
   {
    "duration": 8,
    "start_time": "2023-10-24T09:00:47.641Z"
   },
   {
    "duration": 44,
    "start_time": "2023-10-24T09:00:48.499Z"
   },
   {
    "duration": 11,
    "start_time": "2023-10-24T09:00:49.339Z"
   },
   {
    "duration": 11,
    "start_time": "2023-10-24T09:00:50.512Z"
   },
   {
    "duration": 11,
    "start_time": "2023-10-24T09:00:53.217Z"
   },
   {
    "duration": 14,
    "start_time": "2023-10-24T09:00:57.715Z"
   },
   {
    "duration": 3,
    "start_time": "2023-10-24T09:01:10.491Z"
   },
   {
    "duration": 16,
    "start_time": "2023-10-24T09:03:48.412Z"
   },
   {
    "duration": 857,
    "start_time": "2023-10-24T09:05:29.674Z"
   },
   {
    "duration": 12,
    "start_time": "2023-10-24T09:05:36.626Z"
   },
   {
    "duration": 3,
    "start_time": "2023-10-24T09:06:11.470Z"
   },
   {
    "duration": 1082,
    "start_time": "2023-10-24T09:06:12.107Z"
   },
   {
    "duration": 10,
    "start_time": "2023-10-24T09:06:13.191Z"
   },
   {
    "duration": 34,
    "start_time": "2023-10-24T09:06:13.342Z"
   },
   {
    "duration": 12,
    "start_time": "2023-10-24T09:06:14.067Z"
   },
   {
    "duration": 7,
    "start_time": "2023-10-24T09:06:14.702Z"
   },
   {
    "duration": 35,
    "start_time": "2023-10-24T09:06:15.399Z"
   },
   {
    "duration": 11,
    "start_time": "2023-10-24T09:06:17.266Z"
   },
   {
    "duration": 3,
    "start_time": "2023-10-24T09:06:18.202Z"
   },
   {
    "duration": 1140,
    "start_time": "2023-10-24T09:06:18.995Z"
   },
   {
    "duration": 9,
    "start_time": "2023-10-24T09:06:23.068Z"
   },
   {
    "duration": 3,
    "start_time": "2023-10-24T09:09:50.181Z"
   },
   {
    "duration": 1085,
    "start_time": "2023-10-24T09:09:50.699Z"
   },
   {
    "duration": 8,
    "start_time": "2023-10-24T09:09:51.786Z"
   },
   {
    "duration": 31,
    "start_time": "2023-10-24T09:09:51.853Z"
   },
   {
    "duration": 10,
    "start_time": "2023-10-24T09:09:53.055Z"
   },
   {
    "duration": 10,
    "start_time": "2023-10-24T09:09:53.969Z"
   },
   {
    "duration": 17,
    "start_time": "2023-10-24T09:09:54.493Z"
   },
   {
    "duration": 16,
    "start_time": "2023-10-24T09:09:54.982Z"
   },
   {
    "duration": 3,
    "start_time": "2023-10-24T09:10:45.784Z"
   },
   {
    "duration": 7,
    "start_time": "2023-10-24T09:11:44.906Z"
   },
   {
    "duration": 84672,
    "start_time": "2023-10-24T09:13:26.809Z"
   },
   {
    "duration": 10,
    "start_time": "2023-10-24T09:15:02.284Z"
   },
   {
    "duration": 5,
    "start_time": "2023-10-24T09:15:36.971Z"
   },
   {
    "duration": 8,
    "start_time": "2023-10-24T09:15:37.475Z"
   },
   {
    "duration": 1302,
    "start_time": "2023-10-24T09:18:04.368Z"
   },
   {
    "duration": 3,
    "start_time": "2023-10-24T09:18:33.922Z"
   },
   {
    "duration": 3,
    "start_time": "2023-10-24T09:18:34.623Z"
   },
   {
    "duration": 445,
    "start_time": "2023-10-24T09:18:35.435Z"
   },
   {
    "duration": 3,
    "start_time": "2023-10-24T09:18:43.482Z"
   },
   {
    "duration": 3,
    "start_time": "2023-10-24T09:18:48.304Z"
   },
   {
    "duration": 3,
    "start_time": "2023-10-24T09:18:48.901Z"
   },
   {
    "duration": 1611,
    "start_time": "2023-10-24T09:18:49.432Z"
   },
   {
    "duration": 5,
    "start_time": "2023-10-24T09:18:51.141Z"
   },
   {
    "duration": 26,
    "start_time": "2023-10-24T09:18:51.513Z"
   },
   {
    "duration": 6,
    "start_time": "2023-10-24T09:31:54.544Z"
   },
   {
    "duration": 3,
    "start_time": "2023-10-24T09:34:06.049Z"
   },
   {
    "duration": 3,
    "start_time": "2023-10-24T09:35:35.733Z"
   },
   {
    "duration": 4,
    "start_time": "2023-10-24T09:35:41.650Z"
   },
   {
    "duration": 17,
    "start_time": "2023-10-24T09:36:24.913Z"
   },
   {
    "duration": 13,
    "start_time": "2023-10-24T09:36:29.821Z"
   },
   {
    "duration": 3,
    "start_time": "2023-10-24T09:36:35.045Z"
   },
   {
    "duration": 3,
    "start_time": "2023-10-24T09:37:47.664Z"
   },
   {
    "duration": 16,
    "start_time": "2023-10-24T09:38:19.531Z"
   },
   {
    "duration": 5,
    "start_time": "2023-10-24T09:38:43.892Z"
   },
   {
    "duration": 4,
    "start_time": "2023-10-24T09:39:08.634Z"
   },
   {
    "duration": 5,
    "start_time": "2023-10-24T09:40:24.119Z"
   },
   {
    "duration": 18,
    "start_time": "2023-10-24T09:40:51.792Z"
   },
   {
    "duration": 22,
    "start_time": "2023-10-24T09:41:26.151Z"
   },
   {
    "duration": 29,
    "start_time": "2023-10-24T09:42:09.312Z"
   },
   {
    "duration": 9,
    "start_time": "2023-10-24T09:42:28.072Z"
   },
   {
    "duration": 4,
    "start_time": "2023-10-24T09:43:51.664Z"
   },
   {
    "duration": 1032,
    "start_time": "2023-10-24T09:43:52.213Z"
   },
   {
    "duration": 8,
    "start_time": "2023-10-24T09:43:53.247Z"
   },
   {
    "duration": 39,
    "start_time": "2023-10-24T09:43:53.287Z"
   },
   {
    "duration": 14,
    "start_time": "2023-10-24T09:43:53.915Z"
   },
   {
    "duration": 6,
    "start_time": "2023-10-24T09:43:54.590Z"
   },
   {
    "duration": 14,
    "start_time": "2023-10-24T09:43:55.303Z"
   },
   {
    "duration": 11,
    "start_time": "2023-10-24T09:43:55.923Z"
   },
   {
    "duration": 3,
    "start_time": "2023-10-24T09:43:56.856Z"
   },
   {
    "duration": 3,
    "start_time": "2023-10-24T09:43:57.857Z"
   },
   {
    "duration": 14,
    "start_time": "2023-10-24T09:43:59.774Z"
   },
   {
    "duration": 4,
    "start_time": "2023-10-24T09:44:03.165Z"
   },
   {
    "duration": 13,
    "start_time": "2023-10-24T09:44:03.913Z"
   },
   {
    "duration": 2,
    "start_time": "2023-10-24T09:44:06.678Z"
   },
   {
    "duration": 10,
    "start_time": "2023-10-24T09:44:07.467Z"
   },
   {
    "duration": 3,
    "start_time": "2023-10-24T09:44:08.286Z"
   },
   {
    "duration": 15,
    "start_time": "2023-10-24T09:44:09.032Z"
   },
   {
    "duration": 6,
    "start_time": "2023-10-24T09:44:09.680Z"
   },
   {
    "duration": 23,
    "start_time": "2023-10-24T09:44:10.533Z"
   },
   {
    "duration": 22,
    "start_time": "2023-10-24T09:44:11.419Z"
   },
   {
    "duration": 78,
    "start_time": "2023-10-24T09:48:41.238Z"
   },
   {
    "duration": 4,
    "start_time": "2023-10-24T09:48:49.071Z"
   },
   {
    "duration": 159,
    "start_time": "2023-10-24T09:49:36.924Z"
   },
   {
    "duration": 3,
    "start_time": "2023-10-24T09:50:15.380Z"
   },
   {
    "duration": 7,
    "start_time": "2023-10-24T09:50:16.116Z"
   },
   {
    "duration": 892,
    "start_time": "2023-10-24T09:50:16.797Z"
   },
   {
    "duration": 7,
    "start_time": "2023-10-24T09:50:17.763Z"
   },
   {
    "duration": 33,
    "start_time": "2023-10-24T09:50:18.494Z"
   },
   {
    "duration": 11,
    "start_time": "2023-10-24T09:50:19.053Z"
   },
   {
    "duration": 6,
    "start_time": "2023-10-24T09:50:19.582Z"
   },
   {
    "duration": 11,
    "start_time": "2023-10-24T09:50:20.089Z"
   },
   {
    "duration": 10,
    "start_time": "2023-10-24T09:50:20.658Z"
   },
   {
    "duration": 3,
    "start_time": "2023-10-24T09:50:21.119Z"
   },
   {
    "duration": 3,
    "start_time": "2023-10-24T09:50:21.618Z"
   },
   {
    "duration": 14,
    "start_time": "2023-10-24T09:50:22.157Z"
   },
   {
    "duration": 4,
    "start_time": "2023-10-24T09:50:23.021Z"
   },
   {
    "duration": 8,
    "start_time": "2023-10-24T09:50:23.541Z"
   },
   {
    "duration": 3,
    "start_time": "2023-10-24T09:50:24.201Z"
   },
   {
    "duration": 5,
    "start_time": "2023-10-24T09:50:24.997Z"
   },
   {
    "duration": 2,
    "start_time": "2023-10-24T09:50:25.548Z"
   },
   {
    "duration": 22,
    "start_time": "2023-10-24T09:50:26.152Z"
   },
   {
    "duration": 7,
    "start_time": "2023-10-24T09:50:26.685Z"
   },
   {
    "duration": 20,
    "start_time": "2023-10-24T09:50:27.377Z"
   },
   {
    "duration": 10,
    "start_time": "2023-10-24T09:50:28.394Z"
   },
   {
    "duration": 72,
    "start_time": "2023-10-24T09:58:33.542Z"
   },
   {
    "duration": 5,
    "start_time": "2023-10-24T09:58:40.361Z"
   },
   {
    "duration": 1137,
    "start_time": "2023-10-24T09:58:40.953Z"
   },
   {
    "duration": 12,
    "start_time": "2023-10-24T09:58:42.930Z"
   },
   {
    "duration": 55,
    "start_time": "2023-10-24T09:58:43.493Z"
   },
   {
    "duration": 10,
    "start_time": "2023-10-24T09:58:44.062Z"
   },
   {
    "duration": 13,
    "start_time": "2023-10-24T09:58:44.597Z"
   },
   {
    "duration": 14,
    "start_time": "2023-10-24T09:58:45.134Z"
   },
   {
    "duration": 11,
    "start_time": "2023-10-24T09:58:45.658Z"
   },
   {
    "duration": 3,
    "start_time": "2023-10-24T09:58:46.161Z"
   },
   {
    "duration": 4,
    "start_time": "2023-10-24T09:58:46.668Z"
   },
   {
    "duration": 14,
    "start_time": "2023-10-24T09:58:47.361Z"
   },
   {
    "duration": 4,
    "start_time": "2023-10-24T09:58:48.194Z"
   },
   {
    "duration": 7,
    "start_time": "2023-10-24T09:58:49.694Z"
   },
   {
    "duration": 3,
    "start_time": "2023-10-24T09:58:50.576Z"
   },
   {
    "duration": 5,
    "start_time": "2023-10-24T09:58:52.292Z"
   },
   {
    "duration": 5,
    "start_time": "2023-10-24T09:58:52.830Z"
   },
   {
    "duration": 26,
    "start_time": "2023-10-24T09:58:53.616Z"
   },
   {
    "duration": 8,
    "start_time": "2023-10-24T09:58:54.263Z"
   },
   {
    "duration": 3,
    "start_time": "2023-10-24T09:58:54.849Z"
   },
   {
    "duration": 3,
    "start_time": "2023-10-24T09:58:55.872Z"
   },
   {
    "duration": 3,
    "start_time": "2023-10-24T09:58:56.663Z"
   },
   {
    "duration": 4,
    "start_time": "2023-10-24T09:58:57.350Z"
   },
   {
    "duration": 6,
    "start_time": "2023-10-24T09:58:58.807Z"
   },
   {
    "duration": 22,
    "start_time": "2023-10-24T09:58:59.768Z"
   },
   {
    "duration": 6,
    "start_time": "2023-10-24T09:59:12.408Z"
   },
   {
    "duration": 23,
    "start_time": "2023-10-24T09:59:17.906Z"
   },
   {
    "duration": 5,
    "start_time": "2023-10-24T09:59:30.119Z"
   },
   {
    "duration": 29,
    "start_time": "2023-10-24T09:59:30.837Z"
   },
   {
    "duration": 5,
    "start_time": "2023-10-24T10:00:09.898Z"
   },
   {
    "duration": 122,
    "start_time": "2023-10-24T10:00:10.694Z"
   },
   {
    "duration": 98,
    "start_time": "2023-10-24T10:00:15.351Z"
   },
   {
    "duration": 2845,
    "start_time": "2023-10-24T10:00:17.588Z"
   },
   {
    "duration": 4456,
    "start_time": "2023-10-24T10:00:25.400Z"
   },
   {
    "duration": 5,
    "start_time": "2023-10-24T10:00:44.619Z"
   },
   {
    "duration": 4,
    "start_time": "2023-10-24T10:01:05.495Z"
   },
   {
    "duration": 4,
    "start_time": "2023-10-24T10:01:06.447Z"
   },
   {
    "duration": 999,
    "start_time": "2023-10-24T10:01:09.056Z"
   },
   {
    "duration": 9,
    "start_time": "2023-10-24T10:01:10.618Z"
   },
   {
    "duration": 36,
    "start_time": "2023-10-24T10:01:11.276Z"
   },
   {
    "duration": 17,
    "start_time": "2023-10-24T10:01:11.807Z"
   },
   {
    "duration": 6,
    "start_time": "2023-10-24T10:01:12.292Z"
   },
   {
    "duration": 12,
    "start_time": "2023-10-24T10:01:12.779Z"
   },
   {
    "duration": 11,
    "start_time": "2023-10-24T10:01:13.257Z"
   },
   {
    "duration": 3,
    "start_time": "2023-10-24T10:01:13.736Z"
   },
   {
    "duration": 4,
    "start_time": "2023-10-24T10:01:14.250Z"
   },
   {
    "duration": 13,
    "start_time": "2023-10-24T10:01:14.763Z"
   },
   {
    "duration": 4,
    "start_time": "2023-10-24T10:01:15.289Z"
   },
   {
    "duration": 7,
    "start_time": "2023-10-24T10:01:15.774Z"
   },
   {
    "duration": 3,
    "start_time": "2023-10-24T10:01:16.256Z"
   },
   {
    "duration": 4,
    "start_time": "2023-10-24T10:01:16.791Z"
   },
   {
    "duration": 3,
    "start_time": "2023-10-24T10:01:17.209Z"
   },
   {
    "duration": 15,
    "start_time": "2023-10-24T10:01:17.618Z"
   },
   {
    "duration": 6,
    "start_time": "2023-10-24T10:01:18.049Z"
   },
   {
    "duration": 3,
    "start_time": "2023-10-24T10:01:18.464Z"
   },
   {
    "duration": 5,
    "start_time": "2023-10-24T10:01:18.912Z"
   },
   {
    "duration": 3,
    "start_time": "2023-10-24T10:01:19.398Z"
   },
   {
    "duration": 3,
    "start_time": "2023-10-24T10:01:19.935Z"
   },
   {
    "duration": 4,
    "start_time": "2023-10-24T10:01:21.040Z"
   },
   {
    "duration": 120,
    "start_time": "2023-10-24T10:01:22.045Z"
   },
   {
    "duration": 98,
    "start_time": "2023-10-24T10:01:23.453Z"
   },
   {
    "duration": 2976,
    "start_time": "2023-10-24T10:01:25.527Z"
   },
   {
    "duration": 57331,
    "start_time": "2023-10-24T10:01:29.300Z"
   },
   {
    "duration": 12,
    "start_time": "2023-10-24T10:02:31.319Z"
   },
   {
    "duration": 5,
    "start_time": "2023-10-24T10:04:11.429Z"
   },
   {
    "duration": 6,
    "start_time": "2023-10-24T10:04:12.218Z"
   },
   {
    "duration": 987,
    "start_time": "2023-10-24T10:04:12.710Z"
   },
   {
    "duration": 10,
    "start_time": "2023-10-24T10:04:13.699Z"
   },
   {
    "duration": 38,
    "start_time": "2023-10-24T10:04:13.773Z"
   },
   {
    "duration": 11,
    "start_time": "2023-10-24T10:04:14.430Z"
   },
   {
    "duration": 7,
    "start_time": "2023-10-24T10:04:15.329Z"
   },
   {
    "duration": 10,
    "start_time": "2023-10-24T10:04:15.832Z"
   },
   {
    "duration": 16,
    "start_time": "2023-10-24T10:04:16.413Z"
   },
   {
    "duration": 4,
    "start_time": "2023-10-24T10:04:17.070Z"
   },
   {
    "duration": 3,
    "start_time": "2023-10-24T10:04:17.837Z"
   },
   {
    "duration": 66,
    "start_time": "2023-10-24T10:04:18.568Z"
   },
   {
    "duration": 6,
    "start_time": "2023-10-24T10:04:22.795Z"
   },
   {
    "duration": 9,
    "start_time": "2023-10-24T10:04:23.722Z"
   },
   {
    "duration": 8,
    "start_time": "2023-10-24T10:04:24.315Z"
   },
   {
    "duration": 4,
    "start_time": "2023-10-24T10:04:24.985Z"
   },
   {
    "duration": 3,
    "start_time": "2023-10-24T10:04:25.459Z"
   },
   {
    "duration": 77,
    "start_time": "2023-10-24T10:04:25.893Z"
   },
   {
    "duration": 15,
    "start_time": "2023-10-24T10:04:26.354Z"
   },
   {
    "duration": 3,
    "start_time": "2023-10-24T10:04:26.881Z"
   },
   {
    "duration": 7,
    "start_time": "2023-10-24T10:04:27.531Z"
   },
   {
    "duration": 5,
    "start_time": "2023-10-24T10:04:28.147Z"
   },
   {
    "duration": 4,
    "start_time": "2023-10-24T10:04:28.687Z"
   },
   {
    "duration": 4,
    "start_time": "2023-10-24T10:04:29.915Z"
   },
   {
    "duration": 529,
    "start_time": "2023-10-24T10:04:31.434Z"
   },
   {
    "duration": 360,
    "start_time": "2023-10-24T10:04:36.247Z"
   },
   {
    "duration": 3903,
    "start_time": "2023-10-24T10:04:38.531Z"
   },
   {
    "duration": 155646,
    "start_time": "2023-10-24T10:04:49.116Z"
   },
   {
    "duration": 9,
    "start_time": "2023-10-24T10:07:34.254Z"
   },
   {
    "duration": 12,
    "start_time": "2023-10-24T10:08:51.655Z"
   },
   {
    "duration": 5,
    "start_time": "2023-10-24T10:09:39.429Z"
   },
   {
    "duration": 1386,
    "start_time": "2023-10-24T10:09:48.321Z"
   },
   {
    "duration": 128,
    "start_time": "2023-10-24T10:09:50.478Z"
   },
   {
    "duration": 962,
    "start_time": "2023-10-24T10:09:53.789Z"
   },
   {
    "duration": 17,
    "start_time": "2023-10-24T10:09:55.505Z"
   },
   {
    "duration": 36,
    "start_time": "2023-10-24T10:09:56.357Z"
   },
   {
    "duration": 12,
    "start_time": "2023-10-24T10:09:57.012Z"
   },
   {
    "duration": 6,
    "start_time": "2023-10-24T10:09:58.170Z"
   },
   {
    "duration": 33,
    "start_time": "2023-10-24T10:09:58.924Z"
   },
   {
    "duration": 3,
    "start_time": "2023-10-24T10:10:03.564Z"
   },
   {
    "duration": 3,
    "start_time": "2023-10-24T10:10:06.117Z"
   },
   {
    "duration": 7832,
    "start_time": "2023-10-24T10:10:07.543Z"
   },
   {
    "duration": 258,
    "start_time": "2023-10-24T10:10:18.590Z"
   },
   {
    "duration": 11,
    "start_time": "2023-10-24T10:10:19.821Z"
   },
   {
    "duration": 3,
    "start_time": "2023-10-24T10:10:23.063Z"
   },
   {
    "duration": 30,
    "start_time": "2023-10-24T10:10:23.928Z"
   },
   {
    "duration": 4,
    "start_time": "2023-10-24T10:10:24.871Z"
   },
   {
    "duration": 5993,
    "start_time": "2023-10-24T10:10:25.573Z"
   },
   {
    "duration": 1814,
    "start_time": "2023-10-24T10:10:32.581Z"
   },
   {
    "duration": 7,
    "start_time": "2023-10-24T10:10:34.818Z"
   },
   {
    "duration": 3,
    "start_time": "2023-10-24T10:10:35.450Z"
   },
   {
    "duration": 5,
    "start_time": "2023-10-24T10:10:37.125Z"
   },
   {
    "duration": 3,
    "start_time": "2023-10-24T10:10:37.838Z"
   },
   {
    "duration": 3,
    "start_time": "2023-10-24T10:10:38.495Z"
   },
   {
    "duration": 282704,
    "start_time": "2023-10-24T10:10:39.617Z"
   },
   {
    "duration": 246487,
    "start_time": "2023-10-24T10:15:22.324Z"
   },
   {
    "duration": 281683,
    "start_time": "2023-10-24T10:19:28.813Z"
   },
   {
    "duration": 1518,
    "start_time": "2023-10-24T12:01:06.096Z"
   },
   {
    "duration": 201,
    "start_time": "2023-10-24T12:01:07.617Z"
   },
   {
    "duration": 949,
    "start_time": "2023-10-24T12:01:07.820Z"
   },
   {
    "duration": 13,
    "start_time": "2023-10-24T12:01:08.771Z"
   },
   {
    "duration": 57,
    "start_time": "2023-10-24T12:01:08.786Z"
   },
   {
    "duration": 26,
    "start_time": "2023-10-24T12:01:08.845Z"
   },
   {
    "duration": 32,
    "start_time": "2023-10-24T12:01:08.873Z"
   },
   {
    "duration": 31,
    "start_time": "2023-10-24T12:01:08.906Z"
   },
   {
    "duration": 17,
    "start_time": "2023-10-24T12:01:08.939Z"
   },
   {
    "duration": 31,
    "start_time": "2023-10-24T12:01:08.958Z"
   },
   {
    "duration": 6617,
    "start_time": "2023-10-24T12:01:08.991Z"
   },
   {
    "duration": 227,
    "start_time": "2023-10-24T12:01:15.611Z"
   },
   {
    "duration": 8,
    "start_time": "2023-10-24T12:01:15.840Z"
   },
   {
    "duration": 9,
    "start_time": "2023-10-24T12:01:15.851Z"
   },
   {
    "duration": 41,
    "start_time": "2023-10-24T12:01:15.862Z"
   },
   {
    "duration": 4,
    "start_time": "2023-10-24T12:01:15.905Z"
   },
   {
    "duration": 5163,
    "start_time": "2023-10-24T12:01:15.910Z"
   },
   {
    "duration": 1611,
    "start_time": "2023-10-24T12:01:21.075Z"
   },
   {
    "duration": 4,
    "start_time": "2023-10-24T12:01:22.687Z"
   },
   {
    "duration": 10,
    "start_time": "2023-10-24T12:01:22.692Z"
   },
   {
    "duration": 6,
    "start_time": "2023-10-24T12:01:22.706Z"
   },
   {
    "duration": 4,
    "start_time": "2023-10-24T12:01:22.714Z"
   },
   {
    "duration": 30,
    "start_time": "2023-10-24T12:01:22.719Z"
   },
   {
    "duration": 221,
    "start_time": "2023-10-24T12:01:22.750Z"
   },
   {
    "duration": 99,
    "start_time": "2023-10-24T12:01:22.973Z"
   },
   {
    "duration": 103,
    "start_time": "2023-10-24T12:01:23.073Z"
   },
   {
    "duration": 60981,
    "start_time": "2023-10-24T12:01:23.177Z"
   },
   {
    "duration": 27,
    "start_time": "2023-10-24T12:02:24.160Z"
   },
   {
    "duration": 0,
    "start_time": "2023-10-24T12:02:24.189Z"
   },
   {
    "duration": 1586,
    "start_time": "2023-10-24T12:03:01.915Z"
   },
   {
    "duration": 149,
    "start_time": "2023-10-24T12:03:03.503Z"
   },
   {
    "duration": 969,
    "start_time": "2023-10-24T12:03:03.654Z"
   },
   {
    "duration": 15,
    "start_time": "2023-10-24T12:03:04.625Z"
   },
   {
    "duration": 40,
    "start_time": "2023-10-24T12:03:04.642Z"
   },
   {
    "duration": 13,
    "start_time": "2023-10-24T12:03:04.684Z"
   },
   {
    "duration": 13,
    "start_time": "2023-10-24T12:03:04.706Z"
   },
   {
    "duration": 75,
    "start_time": "2023-10-24T12:03:04.720Z"
   },
   {
    "duration": 20,
    "start_time": "2023-10-24T12:03:04.797Z"
   },
   {
    "duration": 30,
    "start_time": "2023-10-24T12:03:04.819Z"
   },
   {
    "duration": 6803,
    "start_time": "2023-10-24T12:03:04.851Z"
   },
   {
    "duration": 213,
    "start_time": "2023-10-24T12:03:11.655Z"
   },
   {
    "duration": 7,
    "start_time": "2023-10-24T12:03:11.870Z"
   },
   {
    "duration": 10,
    "start_time": "2023-10-24T12:03:11.878Z"
   },
   {
    "duration": 36,
    "start_time": "2023-10-24T12:03:11.890Z"
   },
   {
    "duration": 3,
    "start_time": "2023-10-24T12:03:11.927Z"
   },
   {
    "duration": 5361,
    "start_time": "2023-10-24T12:03:11.931Z"
   },
   {
    "duration": 1656,
    "start_time": "2023-10-24T12:03:17.293Z"
   },
   {
    "duration": 2,
    "start_time": "2023-10-24T12:03:18.951Z"
   },
   {
    "duration": 15,
    "start_time": "2023-10-24T12:03:18.955Z"
   },
   {
    "duration": 9,
    "start_time": "2023-10-24T12:03:18.972Z"
   },
   {
    "duration": 9,
    "start_time": "2023-10-24T12:03:18.982Z"
   },
   {
    "duration": 16,
    "start_time": "2023-10-24T12:03:18.993Z"
   },
   {
    "duration": 275302,
    "start_time": "2023-10-24T12:03:19.010Z"
   },
   {
    "duration": 218970,
    "start_time": "2023-10-24T12:07:54.317Z"
   },
   {
    "duration": 123082,
    "start_time": "2023-10-24T12:11:33.289Z"
   },
   {
    "duration": 2899909,
    "start_time": "2023-10-24T12:13:36.373Z"
   },
   {
    "duration": 34,
    "start_time": "2023-10-24T13:01:56.285Z"
   },
   {
    "duration": 1319,
    "start_time": "2023-10-24T13:04:38.057Z"
   },
   {
    "duration": 120,
    "start_time": "2023-10-24T13:04:39.378Z"
   },
   {
    "duration": 977,
    "start_time": "2023-10-24T13:04:39.921Z"
   },
   {
    "duration": 14,
    "start_time": "2023-10-24T13:04:40.899Z"
   },
   {
    "duration": 33,
    "start_time": "2023-10-24T13:04:40.962Z"
   },
   {
    "duration": 11,
    "start_time": "2023-10-24T13:04:41.471Z"
   },
   {
    "duration": 6,
    "start_time": "2023-10-24T13:04:42.062Z"
   },
   {
    "duration": 31,
    "start_time": "2023-10-24T13:04:42.576Z"
   },
   {
    "duration": 4,
    "start_time": "2023-10-24T13:04:43.091Z"
   },
   {
    "duration": 2,
    "start_time": "2023-10-24T13:04:43.638Z"
   },
   {
    "duration": 6897,
    "start_time": "2023-10-24T13:04:44.123Z"
   },
   {
    "duration": 242,
    "start_time": "2023-10-24T13:04:51.022Z"
   },
   {
    "duration": 8,
    "start_time": "2023-10-24T13:04:51.266Z"
   },
   {
    "duration": 32,
    "start_time": "2023-10-24T13:04:51.275Z"
   },
   {
    "duration": 69,
    "start_time": "2023-10-24T13:04:51.309Z"
   },
   {
    "duration": 17,
    "start_time": "2023-10-24T13:04:51.380Z"
   },
   {
    "duration": 5427,
    "start_time": "2023-10-24T13:04:51.399Z"
   },
   {
    "duration": 1677,
    "start_time": "2023-10-24T13:04:56.827Z"
   },
   {
    "duration": 3,
    "start_time": "2023-10-24T13:04:58.506Z"
   },
   {
    "duration": 19,
    "start_time": "2023-10-24T13:04:58.511Z"
   },
   {
    "duration": 3,
    "start_time": "2023-10-24T13:05:46.419Z"
   },
   {
    "duration": 3,
    "start_time": "2023-10-24T13:05:47.127Z"
   },
   {
    "duration": 3,
    "start_time": "2023-10-24T13:05:51.954Z"
   },
   {
    "duration": 199,
    "start_time": "2023-10-24T13:05:53.160Z"
   },
   {
    "duration": 3,
    "start_time": "2023-10-24T13:06:17.260Z"
   },
   {
    "duration": 3,
    "start_time": "2023-10-24T13:06:20.083Z"
   },
   {
    "duration": 84,
    "start_time": "2023-10-24T13:06:20.809Z"
   },
   {
    "duration": 3,
    "start_time": "2023-10-24T13:06:37.366Z"
   },
   {
    "duration": 3,
    "start_time": "2023-10-24T13:06:41.917Z"
   },
   {
    "duration": 162303,
    "start_time": "2023-10-24T13:06:42.584Z"
   },
   {
    "duration": 5,
    "start_time": "2023-10-24T13:10:13.095Z"
   },
   {
    "duration": 5,
    "start_time": "2023-10-24T13:10:13.940Z"
   },
   {
    "duration": 920,
    "start_time": "2023-10-24T13:10:14.400Z"
   },
   {
    "duration": 8,
    "start_time": "2023-10-24T13:10:15.322Z"
   },
   {
    "duration": 31,
    "start_time": "2023-10-24T13:10:15.687Z"
   },
   {
    "duration": 15,
    "start_time": "2023-10-24T13:10:16.424Z"
   },
   {
    "duration": 9,
    "start_time": "2023-10-24T13:10:17.261Z"
   },
   {
    "duration": 38,
    "start_time": "2023-10-24T13:10:17.923Z"
   },
   {
    "duration": 13,
    "start_time": "2023-10-24T13:10:18.588Z"
   },
   {
    "duration": 4,
    "start_time": "2023-10-24T13:10:19.437Z"
   },
   {
    "duration": 3,
    "start_time": "2023-10-24T13:10:20.109Z"
   },
   {
    "duration": 43,
    "start_time": "2023-10-24T13:10:20.832Z"
   },
   {
    "duration": 7,
    "start_time": "2023-10-24T13:10:21.852Z"
   },
   {
    "duration": 8,
    "start_time": "2023-10-24T13:10:22.948Z"
   },
   {
    "duration": 3,
    "start_time": "2023-10-24T13:10:25.301Z"
   },
   {
    "duration": 13,
    "start_time": "2023-10-24T13:10:26.127Z"
   },
   {
    "duration": 13,
    "start_time": "2023-10-24T13:10:26.697Z"
   },
   {
    "duration": 41,
    "start_time": "2023-10-24T13:10:27.620Z"
   },
   {
    "duration": 15,
    "start_time": "2023-10-24T13:10:28.310Z"
   },
   {
    "duration": 3,
    "start_time": "2023-10-24T13:10:29.199Z"
   },
   {
    "duration": 5,
    "start_time": "2023-10-24T13:10:31.456Z"
   },
   {
    "duration": 4,
    "start_time": "2023-10-24T13:10:32.329Z"
   },
   {
    "duration": 4,
    "start_time": "2023-10-24T13:10:33.158Z"
   },
   {
    "duration": 5,
    "start_time": "2023-10-24T13:10:34.529Z"
   },
   {
    "duration": 381,
    "start_time": "2023-10-24T13:10:35.382Z"
   },
   {
    "duration": 278,
    "start_time": "2023-10-24T13:10:41.441Z"
   },
   {
    "duration": 1743,
    "start_time": "2023-10-24T13:10:43.134Z"
   },
   {
    "duration": 3,
    "start_time": "2023-10-24T13:11:03.622Z"
   },
   {
    "duration": 3,
    "start_time": "2023-10-24T13:11:04.101Z"
   },
   {
    "duration": 3,
    "start_time": "2023-10-24T13:11:06.435Z"
   },
   {
    "duration": 4,
    "start_time": "2023-10-24T13:11:06.854Z"
   },
   {
    "duration": 240,
    "start_time": "2023-10-24T13:11:07.733Z"
   },
   {
    "duration": 301,
    "start_time": "2023-10-24T13:11:08.805Z"
   },
   {
    "duration": 1796,
    "start_time": "2023-10-24T13:11:09.942Z"
   },
   {
    "duration": 5,
    "start_time": "2023-10-24T13:11:40.458Z"
   },
   {
    "duration": 3,
    "start_time": "2023-10-24T13:11:41.090Z"
   },
   {
    "duration": 877,
    "start_time": "2023-10-24T13:11:41.590Z"
   },
   {
    "duration": 7,
    "start_time": "2023-10-24T13:11:42.469Z"
   },
   {
    "duration": 38,
    "start_time": "2023-10-24T13:11:42.627Z"
   },
   {
    "duration": 12,
    "start_time": "2023-10-24T13:11:43.170Z"
   },
   {
    "duration": 6,
    "start_time": "2023-10-24T13:11:43.782Z"
   },
   {
    "duration": 30,
    "start_time": "2023-10-24T13:11:44.309Z"
   },
   {
    "duration": 11,
    "start_time": "2023-10-24T13:11:44.878Z"
   },
   {
    "duration": 3,
    "start_time": "2023-10-24T13:11:45.415Z"
   },
   {
    "duration": 3,
    "start_time": "2023-10-24T13:11:45.902Z"
   },
   {
    "duration": 393,
    "start_time": "2023-10-24T13:11:46.364Z"
   },
   {
    "duration": 14,
    "start_time": "2023-10-24T13:11:46.846Z"
   },
   {
    "duration": 8,
    "start_time": "2023-10-24T13:11:47.524Z"
   },
   {
    "duration": 3,
    "start_time": "2023-10-24T13:11:48.010Z"
   },
   {
    "duration": 8,
    "start_time": "2023-10-24T13:11:48.685Z"
   },
   {
    "duration": 3,
    "start_time": "2023-10-24T13:11:49.166Z"
   },
   {
    "duration": 331,
    "start_time": "2023-10-24T13:11:49.595Z"
   },
   {
    "duration": 121,
    "start_time": "2023-10-24T13:11:50.078Z"
   },
   {
    "duration": 3,
    "start_time": "2023-10-24T13:11:50.545Z"
   },
   {
    "duration": 3,
    "start_time": "2023-10-24T13:11:51.353Z"
   },
   {
    "duration": 4,
    "start_time": "2023-10-24T13:11:51.901Z"
   },
   {
    "duration": 3,
    "start_time": "2023-10-24T13:11:52.562Z"
   },
   {
    "duration": 3,
    "start_time": "2023-10-24T13:11:53.359Z"
   },
   {
    "duration": 24947,
    "start_time": "2023-10-24T13:11:54.164Z"
   },
   {
    "duration": 4591,
    "start_time": "2023-10-24T13:12:22.560Z"
   },
   {
    "duration": 6616,
    "start_time": "2023-10-24T13:12:27.152Z"
   },
   {
    "duration": 4,
    "start_time": "2023-10-24T13:13:45.202Z"
   },
   {
    "duration": 7060,
    "start_time": "2023-10-24T13:16:02.353Z"
   },
   {
    "duration": 7,
    "start_time": "2023-10-24T13:16:32.552Z"
   },
   {
    "duration": 14,
    "start_time": "2023-10-24T13:18:14.402Z"
   },
   {
    "duration": 3232,
    "start_time": "2023-10-24T13:18:19.481Z"
   },
   {
    "duration": 6,
    "start_time": "2023-10-24T13:18:23.947Z"
   },
   {
    "duration": 4,
    "start_time": "2023-10-24T13:19:19.080Z"
   },
   {
    "duration": 4,
    "start_time": "2023-10-24T13:19:19.514Z"
   },
   {
    "duration": 834,
    "start_time": "2023-10-24T13:19:20.016Z"
   },
   {
    "duration": 7,
    "start_time": "2023-10-24T13:19:20.852Z"
   },
   {
    "duration": 34,
    "start_time": "2023-10-24T13:19:20.980Z"
   },
   {
    "duration": 10,
    "start_time": "2023-10-24T13:19:21.466Z"
   },
   {
    "duration": 6,
    "start_time": "2023-10-24T13:19:21.941Z"
   },
   {
    "duration": 31,
    "start_time": "2023-10-24T13:19:22.445Z"
   },
   {
    "duration": 10,
    "start_time": "2023-10-24T13:19:22.942Z"
   },
   {
    "duration": 4,
    "start_time": "2023-10-24T13:19:23.444Z"
   },
   {
    "duration": 3,
    "start_time": "2023-10-24T13:19:23.981Z"
   },
   {
    "duration": 39,
    "start_time": "2023-10-24T13:19:24.681Z"
   },
   {
    "duration": 5,
    "start_time": "2023-10-24T13:19:25.198Z"
   },
   {
    "duration": 8,
    "start_time": "2023-10-24T13:19:25.672Z"
   },
   {
    "duration": 4,
    "start_time": "2023-10-24T13:19:26.159Z"
   },
   {
    "duration": 5,
    "start_time": "2023-10-24T13:19:26.682Z"
   },
   {
    "duration": 5,
    "start_time": "2023-10-24T13:19:27.180Z"
   },
   {
    "duration": 38,
    "start_time": "2023-10-24T13:19:27.677Z"
   },
   {
    "duration": 16,
    "start_time": "2023-10-24T13:19:28.158Z"
   },
   {
    "duration": 3,
    "start_time": "2023-10-24T13:19:28.635Z"
   },
   {
    "duration": 3,
    "start_time": "2023-10-24T13:19:29.158Z"
   },
   {
    "duration": 2,
    "start_time": "2023-10-24T13:19:29.700Z"
   },
   {
    "duration": 3,
    "start_time": "2023-10-24T13:19:31.809Z"
   },
   {
    "duration": 5,
    "start_time": "2023-10-24T13:19:32.383Z"
   },
   {
    "duration": 348,
    "start_time": "2023-10-24T13:19:33.923Z"
   },
   {
    "duration": 288,
    "start_time": "2023-10-24T13:19:45.046Z"
   },
   {
    "duration": 1777,
    "start_time": "2023-10-24T13:20:08.382Z"
   },
   {
    "duration": 29,
    "start_time": "2023-10-24T13:20:18.724Z"
   },
   {
    "duration": 20,
    "start_time": "2023-10-24T13:21:10.221Z"
   },
   {
    "duration": 6,
    "start_time": "2023-10-24T13:21:11.438Z"
   },
   {
    "duration": 3,
    "start_time": "2023-10-24T13:21:38.058Z"
   },
   {
    "duration": 2,
    "start_time": "2023-10-24T13:21:38.793Z"
   },
   {
    "duration": 3,
    "start_time": "2023-10-24T13:21:39.351Z"
   },
   {
    "duration": 3,
    "start_time": "2023-10-24T13:21:41.068Z"
   },
   {
    "duration": 3,
    "start_time": "2023-10-24T13:21:41.871Z"
   },
   {
    "duration": 234,
    "start_time": "2023-10-24T13:21:42.683Z"
   },
   {
    "duration": 287,
    "start_time": "2023-10-24T13:21:48.214Z"
   },
   {
    "duration": 1738,
    "start_time": "2023-10-24T13:21:52.149Z"
   },
   {
    "duration": 4,
    "start_time": "2023-10-24T13:22:16.782Z"
   },
   {
    "duration": 4,
    "start_time": "2023-10-24T13:22:17.530Z"
   },
   {
    "duration": 806,
    "start_time": "2023-10-24T13:22:18.019Z"
   },
   {
    "duration": 7,
    "start_time": "2023-10-24T13:22:18.827Z"
   },
   {
    "duration": 30,
    "start_time": "2023-10-24T13:22:18.997Z"
   },
   {
    "duration": 9,
    "start_time": "2023-10-24T13:22:19.494Z"
   },
   {
    "duration": 7,
    "start_time": "2023-10-24T13:22:20.079Z"
   },
   {
    "duration": 31,
    "start_time": "2023-10-24T13:22:20.579Z"
   },
   {
    "duration": 3,
    "start_time": "2023-10-24T13:22:21.053Z"
   },
   {
    "duration": 3,
    "start_time": "2023-10-24T13:22:21.589Z"
   },
   {
    "duration": 4,
    "start_time": "2023-10-24T13:22:22.052Z"
   },
   {
    "duration": 5732,
    "start_time": "2023-10-24T13:22:22.518Z"
   },
   {
    "duration": 201,
    "start_time": "2023-10-24T13:22:28.252Z"
   },
   {
    "duration": 8,
    "start_time": "2023-10-24T13:22:28.455Z"
   },
   {
    "duration": 23,
    "start_time": "2023-10-24T13:22:28.465Z"
   },
   {
    "duration": 39,
    "start_time": "2023-10-24T13:22:28.490Z"
   },
   {
    "duration": 3,
    "start_time": "2023-10-24T13:22:28.531Z"
   },
   {
    "duration": 5317,
    "start_time": "2023-10-24T13:22:28.536Z"
   },
   {
    "duration": 1613,
    "start_time": "2023-10-24T13:22:33.855Z"
   },
   {
    "duration": 2,
    "start_time": "2023-10-24T13:22:35.470Z"
   },
   {
    "duration": 27,
    "start_time": "2023-10-24T13:22:35.474Z"
   },
   {
    "duration": 9,
    "start_time": "2023-10-24T13:22:35.503Z"
   },
   {
    "duration": 5,
    "start_time": "2023-10-24T13:22:35.513Z"
   },
   {
    "duration": 15,
    "start_time": "2023-10-24T13:22:35.520Z"
   },
   {
    "duration": 287871,
    "start_time": "2023-10-24T13:22:35.537Z"
   },
   {
    "duration": 38690,
    "start_time": "2023-10-24T13:32:31.988Z"
   },
   {
    "duration": 1439,
    "start_time": "2023-10-24T13:33:25.346Z"
   },
   {
    "duration": 200,
    "start_time": "2023-10-24T13:33:27.554Z"
   },
   {
    "duration": 924,
    "start_time": "2023-10-24T13:33:28.080Z"
   },
   {
    "duration": 13,
    "start_time": "2023-10-24T13:33:29.006Z"
   },
   {
    "duration": 30,
    "start_time": "2023-10-24T13:33:29.074Z"
   },
   {
    "duration": 10,
    "start_time": "2023-10-24T13:33:29.536Z"
   },
   {
    "duration": 8,
    "start_time": "2023-10-24T13:33:30.031Z"
   },
   {
    "duration": 39,
    "start_time": "2023-10-24T13:33:30.532Z"
   },
   {
    "duration": 3,
    "start_time": "2023-10-24T13:33:31.120Z"
   },
   {
    "duration": 3,
    "start_time": "2023-10-24T13:33:31.656Z"
   },
   {
    "duration": 3,
    "start_time": "2023-10-24T13:33:32.141Z"
   },
   {
    "duration": 7082,
    "start_time": "2023-10-24T13:33:32.631Z"
   },
   {
    "duration": 219,
    "start_time": "2023-10-24T13:33:39.715Z"
   },
   {
    "duration": 9,
    "start_time": "2023-10-24T13:33:39.936Z"
   },
   {
    "duration": 36,
    "start_time": "2023-10-24T13:33:39.947Z"
   },
   {
    "duration": 99,
    "start_time": "2023-10-24T13:33:39.984Z"
   },
   {
    "duration": 4,
    "start_time": "2023-10-24T13:33:40.085Z"
   },
   {
    "duration": 5340,
    "start_time": "2023-10-24T13:33:40.090Z"
   },
   {
    "duration": 1770,
    "start_time": "2023-10-24T13:33:45.431Z"
   },
   {
    "duration": 5,
    "start_time": "2023-10-24T13:33:47.203Z"
   },
   {
    "duration": 7,
    "start_time": "2023-10-24T13:33:47.211Z"
   },
   {
    "duration": 10,
    "start_time": "2023-10-24T13:33:47.219Z"
   },
   {
    "duration": 18,
    "start_time": "2023-10-24T13:33:47.231Z"
   },
   {
    "duration": 14,
    "start_time": "2023-10-24T13:33:47.251Z"
   },
   {
    "duration": 288844,
    "start_time": "2023-10-24T13:33:47.267Z"
   },
   {
    "duration": 4,
    "start_time": "2023-10-24T13:40:23.856Z"
   },
   {
    "duration": 3,
    "start_time": "2023-10-24T13:40:28.705Z"
   },
   {
    "duration": 300852,
    "start_time": "2023-10-24T13:40:29.559Z"
   },
   {
    "duration": 13804,
    "start_time": "2023-10-24T13:46:11.537Z"
   },
   {
    "duration": 26,
    "start_time": "2023-10-24T13:46:25.343Z"
   },
   {
    "duration": 3,
    "start_time": "2023-10-24T13:50:26.742Z"
   },
   {
    "duration": 3,
    "start_time": "2023-10-24T13:50:29.875Z"
   },
   {
    "duration": 80089,
    "start_time": "2023-10-24T13:50:30.449Z"
   },
   {
    "duration": 13974,
    "start_time": "2023-10-24T13:52:30.496Z"
   },
   {
    "duration": 0,
    "start_time": "2023-10-24T13:52:44.472Z"
   },
   {
    "duration": 13837,
    "start_time": "2023-10-24T13:52:51.610Z"
   },
   {
    "duration": 27,
    "start_time": "2023-10-24T13:53:05.449Z"
   },
   {
    "duration": 1361,
    "start_time": "2023-10-24T13:55:41.892Z"
   },
   {
    "duration": 210,
    "start_time": "2023-10-24T13:55:43.255Z"
   },
   {
    "duration": 940,
    "start_time": "2023-10-24T13:55:43.467Z"
   },
   {
    "duration": 15,
    "start_time": "2023-10-24T13:55:44.408Z"
   },
   {
    "duration": 35,
    "start_time": "2023-10-24T13:55:44.425Z"
   },
   {
    "duration": 16,
    "start_time": "2023-10-24T13:55:44.461Z"
   },
   {
    "duration": 19,
    "start_time": "2023-10-24T13:55:44.479Z"
   },
   {
    "duration": 38,
    "start_time": "2023-10-24T13:55:44.500Z"
   },
   {
    "duration": 18,
    "start_time": "2023-10-24T13:55:44.540Z"
   },
   {
    "duration": 32,
    "start_time": "2023-10-24T13:55:44.559Z"
   },
   {
    "duration": 26,
    "start_time": "2023-10-24T13:55:44.592Z"
   },
   {
    "duration": 6968,
    "start_time": "2023-10-24T13:55:44.619Z"
   },
   {
    "duration": 234,
    "start_time": "2023-10-24T13:55:51.589Z"
   },
   {
    "duration": 8,
    "start_time": "2023-10-24T13:55:51.826Z"
   },
   {
    "duration": 18,
    "start_time": "2023-10-24T13:55:51.836Z"
   },
   {
    "duration": 37,
    "start_time": "2023-10-24T13:55:51.856Z"
   },
   {
    "duration": 2,
    "start_time": "2023-10-24T13:55:51.895Z"
   },
   {
    "duration": 5338,
    "start_time": "2023-10-24T13:55:51.899Z"
   },
   {
    "duration": 1616,
    "start_time": "2023-10-24T13:55:57.239Z"
   },
   {
    "duration": 3,
    "start_time": "2023-10-24T13:55:58.856Z"
   },
   {
    "duration": 21,
    "start_time": "2023-10-24T13:55:58.860Z"
   },
   {
    "duration": 18,
    "start_time": "2023-10-24T13:55:58.883Z"
   },
   {
    "duration": 24,
    "start_time": "2023-10-24T13:55:58.903Z"
   },
   {
    "duration": 55,
    "start_time": "2023-10-24T13:55:58.928Z"
   },
   {
    "duration": 81344,
    "start_time": "2023-10-24T13:55:58.985Z"
   },
   {
    "duration": 228437,
    "start_time": "2023-10-24T13:57:20.330Z"
   },
   {
    "duration": 127169,
    "start_time": "2023-10-24T14:01:08.769Z"
   },
   {
    "duration": 3,
    "start_time": "2023-10-24T14:03:15.939Z"
   },
   {
    "duration": 118,
    "start_time": "2023-10-24T14:03:15.944Z"
   },
   {
    "duration": 0,
    "start_time": "2023-10-24T14:03:16.063Z"
   },
   {
    "duration": 0,
    "start_time": "2023-10-24T14:03:16.064Z"
   },
   {
    "duration": 13499,
    "start_time": "2023-10-24T14:06:59.350Z"
   },
   {
    "duration": 26,
    "start_time": "2023-10-24T14:07:12.851Z"
   },
   {
    "duration": 79,
    "start_time": "2023-10-24T14:07:41.772Z"
   },
   {
    "duration": 88,
    "start_time": "2023-10-24T14:07:55.464Z"
   },
   {
    "duration": 86,
    "start_time": "2023-10-24T14:08:10.728Z"
   },
   {
    "duration": 141,
    "start_time": "2023-10-24T14:08:32.871Z"
   },
   {
    "duration": 1393,
    "start_time": "2023-10-24T14:10:13.758Z"
   },
   {
    "duration": 149,
    "start_time": "2023-10-24T14:10:15.153Z"
   },
   {
    "duration": 984,
    "start_time": "2023-10-24T14:10:15.304Z"
   },
   {
    "duration": 20,
    "start_time": "2023-10-24T14:10:16.291Z"
   },
   {
    "duration": 57,
    "start_time": "2023-10-24T14:10:16.313Z"
   },
   {
    "duration": 30,
    "start_time": "2023-10-24T14:10:16.372Z"
   },
   {
    "duration": 43,
    "start_time": "2023-10-24T14:10:16.403Z"
   },
   {
    "duration": 37,
    "start_time": "2023-10-24T14:10:16.448Z"
   },
   {
    "duration": 45,
    "start_time": "2023-10-24T14:10:16.487Z"
   },
   {
    "duration": 53,
    "start_time": "2023-10-24T14:10:16.535Z"
   },
   {
    "duration": 73,
    "start_time": "2023-10-24T14:10:16.590Z"
   },
   {
    "duration": 6896,
    "start_time": "2023-10-24T14:10:16.666Z"
   },
   {
    "duration": 242,
    "start_time": "2023-10-24T14:10:23.564Z"
   },
   {
    "duration": 8,
    "start_time": "2023-10-24T14:10:23.808Z"
   },
   {
    "duration": 50,
    "start_time": "2023-10-24T14:10:23.818Z"
   },
   {
    "duration": 50,
    "start_time": "2023-10-24T14:10:23.870Z"
   },
   {
    "duration": 21,
    "start_time": "2023-10-24T14:10:23.922Z"
   },
   {
    "duration": 5812,
    "start_time": "2023-10-24T14:10:23.945Z"
   },
   {
    "duration": 1781,
    "start_time": "2023-10-24T14:10:29.759Z"
   },
   {
    "duration": 4,
    "start_time": "2023-10-24T14:10:31.541Z"
   },
   {
    "duration": 150,
    "start_time": "2023-10-24T14:10:31.546Z"
   },
   {
    "duration": 199,
    "start_time": "2023-10-24T14:10:31.698Z"
   },
   {
    "duration": 56,
    "start_time": "2023-10-24T14:10:31.899Z"
   },
   {
    "duration": 70,
    "start_time": "2023-10-24T14:10:31.957Z"
   },
   {
    "duration": 79306,
    "start_time": "2023-10-24T14:10:32.029Z"
   },
   {
    "duration": 233748,
    "start_time": "2023-10-24T14:11:51.337Z"
   },
   {
    "duration": 127752,
    "start_time": "2023-10-24T14:15:45.087Z"
   },
   {
    "duration": 2,
    "start_time": "2023-10-24T14:17:52.842Z"
   },
   {
    "duration": 166,
    "start_time": "2023-10-24T14:17:52.846Z"
   },
   {
    "duration": 0,
    "start_time": "2023-10-24T14:17:53.014Z"
   },
   {
    "duration": 0,
    "start_time": "2023-10-24T14:17:53.015Z"
   },
   {
    "duration": 14,
    "start_time": "2023-10-24T14:22:18.188Z"
   },
   {
    "duration": 15,
    "start_time": "2023-10-24T14:22:33.313Z"
   },
   {
    "duration": 17,
    "start_time": "2023-10-24T14:22:45.427Z"
   },
   {
    "duration": 10,
    "start_time": "2023-10-24T14:24:42.018Z"
   },
   {
    "duration": 9,
    "start_time": "2023-10-24T14:24:52.197Z"
   },
   {
    "duration": 14427,
    "start_time": "2023-10-24T14:24:58.619Z"
   },
   {
    "duration": 26,
    "start_time": "2023-10-24T14:25:14.288Z"
   },
   {
    "duration": 1519,
    "start_time": "2023-10-25T08:00:12.935Z"
   },
   {
    "duration": 127,
    "start_time": "2023-10-25T08:00:19.169Z"
   },
   {
    "duration": 2423,
    "start_time": "2023-10-25T08:00:20.971Z"
   },
   {
    "duration": 13,
    "start_time": "2023-10-25T08:00:24.211Z"
   },
   {
    "duration": 32,
    "start_time": "2023-10-25T08:00:25.321Z"
   },
   {
    "duration": 11,
    "start_time": "2023-10-25T08:00:28.814Z"
   },
   {
    "duration": 8,
    "start_time": "2023-10-25T08:00:30.914Z"
   },
   {
    "duration": 5,
    "start_time": "2023-10-25T08:40:27.469Z"
   },
   {
    "duration": 5,
    "start_time": "2023-10-25T08:40:39.460Z"
   },
   {
    "duration": 992,
    "start_time": "2023-10-25T08:40:40.734Z"
   },
   {
    "duration": 9,
    "start_time": "2023-10-25T08:40:41.728Z"
   },
   {
    "duration": 36,
    "start_time": "2023-10-25T08:40:41.970Z"
   },
   {
    "duration": 17,
    "start_time": "2023-10-25T08:40:45.124Z"
   },
   {
    "duration": 9,
    "start_time": "2023-10-25T08:40:46.770Z"
   },
   {
    "duration": 4,
    "start_time": "2023-10-25T08:45:36.087Z"
   },
   {
    "duration": 4,
    "start_time": "2023-10-25T08:45:36.720Z"
   },
   {
    "duration": 5,
    "start_time": "2023-10-25T08:45:37.313Z"
   },
   {
    "duration": 7511,
    "start_time": "2023-10-25T08:45:39.390Z"
   },
   {
    "duration": 235,
    "start_time": "2023-10-25T08:45:49.181Z"
   },
   {
    "duration": 475,
    "start_time": "2023-10-25T08:45:50.197Z"
   },
   {
    "duration": 30,
    "start_time": "2023-10-25T08:46:48.012Z"
   },
   {
    "duration": 5,
    "start_time": "2023-10-25T08:46:51.502Z"
   },
   {
    "duration": 5,
    "start_time": "2023-10-25T08:46:52.387Z"
   },
   {
    "duration": 4,
    "start_time": "2023-10-25T08:46:52.792Z"
   },
   {
    "duration": 843,
    "start_time": "2023-10-25T08:46:53.755Z"
   },
   {
    "duration": 11,
    "start_time": "2023-10-25T08:46:54.599Z"
   },
   {
    "duration": 48,
    "start_time": "2023-10-25T08:46:54.611Z"
   },
   {
    "duration": 13,
    "start_time": "2023-10-25T08:46:55.897Z"
   },
   {
    "duration": 6,
    "start_time": "2023-10-25T08:46:56.716Z"
   },
   {
    "duration": 3,
    "start_time": "2023-10-25T08:46:58.542Z"
   },
   {
    "duration": 3,
    "start_time": "2023-10-25T08:46:59.009Z"
   },
   {
    "duration": 3,
    "start_time": "2023-10-25T08:46:59.473Z"
   },
   {
    "duration": 5669,
    "start_time": "2023-10-25T08:47:00.346Z"
   },
   {
    "duration": 228,
    "start_time": "2023-10-25T08:47:07.087Z"
   },
   {
    "duration": 368,
    "start_time": "2023-10-25T08:47:08.148Z"
   },
   {
    "duration": 4,
    "start_time": "2023-10-25T08:49:31.901Z"
   },
   {
    "duration": 5,
    "start_time": "2023-10-25T08:49:36.129Z"
   },
   {
    "duration": 5,
    "start_time": "2023-10-25T08:49:36.615Z"
   },
   {
    "duration": 905,
    "start_time": "2023-10-25T08:49:37.658Z"
   },
   {
    "duration": 7,
    "start_time": "2023-10-25T08:49:38.565Z"
   },
   {
    "duration": 50,
    "start_time": "2023-10-25T08:49:38.574Z"
   },
   {
    "duration": 9,
    "start_time": "2023-10-25T08:49:39.913Z"
   },
   {
    "duration": 6,
    "start_time": "2023-10-25T08:49:40.892Z"
   },
   {
    "duration": 4,
    "start_time": "2023-10-25T08:50:06.712Z"
   },
   {
    "duration": 3,
    "start_time": "2023-10-25T08:50:07.585Z"
   },
   {
    "duration": 3,
    "start_time": "2023-10-25T08:50:08.217Z"
   },
   {
    "duration": 542,
    "start_time": "2023-10-25T08:50:10.301Z"
   },
   {
    "duration": 3,
    "start_time": "2023-10-25T08:51:35.877Z"
   },
   {
    "duration": 8,
    "start_time": "2023-10-25T08:51:36.447Z"
   },
   {
    "duration": 3,
    "start_time": "2023-10-25T08:51:37.148Z"
   },
   {
    "duration": 5559,
    "start_time": "2023-10-25T08:51:38.692Z"
   },
   {
    "duration": 223,
    "start_time": "2023-10-25T08:51:47.371Z"
   },
   {
    "duration": 390,
    "start_time": "2023-10-25T08:52:18.460Z"
   },
   {
    "duration": 21,
    "start_time": "2023-10-25T08:56:47.913Z"
   },
   {
    "duration": 4,
    "start_time": "2023-10-25T08:56:48.801Z"
   },
   {
    "duration": 5,
    "start_time": "2023-10-25T08:56:49.270Z"
   },
   {
    "duration": 859,
    "start_time": "2023-10-25T08:56:50.307Z"
   },
   {
    "duration": 7,
    "start_time": "2023-10-25T08:56:51.168Z"
   },
   {
    "duration": 60,
    "start_time": "2023-10-25T08:56:51.179Z"
   },
   {
    "duration": 11,
    "start_time": "2023-10-25T08:56:52.480Z"
   },
   {
    "duration": 6,
    "start_time": "2023-10-25T08:56:53.311Z"
   },
   {
    "duration": 4,
    "start_time": "2023-10-25T08:56:55.140Z"
   },
   {
    "duration": 3,
    "start_time": "2023-10-25T08:56:56.871Z"
   },
   {
    "duration": 1532,
    "start_time": "2023-10-25T08:57:40.195Z"
   },
   {
    "duration": 201,
    "start_time": "2023-10-25T08:57:41.729Z"
   },
   {
    "duration": 31,
    "start_time": "2023-10-25T08:57:41.932Z"
   },
   {
    "duration": 2404,
    "start_time": "2023-10-25T08:57:41.964Z"
   },
   {
    "duration": 10,
    "start_time": "2023-10-25T08:57:44.370Z"
   },
   {
    "duration": 44,
    "start_time": "2023-10-25T08:57:44.381Z"
   },
   {
    "duration": 10,
    "start_time": "2023-10-25T08:57:44.427Z"
   },
   {
    "duration": 23,
    "start_time": "2023-10-25T08:57:44.438Z"
   },
   {
    "duration": 6,
    "start_time": "2023-10-25T08:57:44.462Z"
   },
   {
    "duration": 23,
    "start_time": "2023-10-25T08:57:44.470Z"
   },
   {
    "duration": 1459,
    "start_time": "2023-10-25T09:00:30.835Z"
   },
   {
    "duration": 119,
    "start_time": "2023-10-25T09:00:32.296Z"
   },
   {
    "duration": 29,
    "start_time": "2023-10-25T09:00:32.417Z"
   },
   {
    "duration": 2466,
    "start_time": "2023-10-25T09:00:32.448Z"
   },
   {
    "duration": 10,
    "start_time": "2023-10-25T09:00:34.916Z"
   },
   {
    "duration": 70,
    "start_time": "2023-10-25T09:00:34.928Z"
   },
   {
    "duration": 41,
    "start_time": "2023-10-25T09:00:35.000Z"
   },
   {
    "duration": 27,
    "start_time": "2023-10-25T09:00:35.043Z"
   },
   {
    "duration": 62,
    "start_time": "2023-10-25T09:00:35.072Z"
   },
   {
    "duration": 24,
    "start_time": "2023-10-25T09:00:35.136Z"
   },
   {
    "duration": 6937,
    "start_time": "2023-10-25T09:00:35.161Z"
   },
   {
    "duration": 198,
    "start_time": "2023-10-25T09:00:46.523Z"
   },
   {
    "duration": 46705,
    "start_time": "2023-10-25T09:00:47.725Z"
   },
   {
    "duration": 9,
    "start_time": "2023-10-25T09:01:38.277Z"
   },
   {
    "duration": 1410,
    "start_time": "2023-10-25T09:04:31.212Z"
   },
   {
    "duration": 203,
    "start_time": "2023-10-25T09:04:32.624Z"
   },
   {
    "duration": 31,
    "start_time": "2023-10-25T09:04:32.829Z"
   },
   {
    "duration": 957,
    "start_time": "2023-10-25T09:04:32.862Z"
   },
   {
    "duration": 10,
    "start_time": "2023-10-25T09:04:33.821Z"
   },
   {
    "duration": 81,
    "start_time": "2023-10-25T09:04:33.833Z"
   },
   {
    "duration": 11,
    "start_time": "2023-10-25T09:04:33.916Z"
   },
   {
    "duration": 171,
    "start_time": "2023-10-25T09:04:33.929Z"
   },
   {
    "duration": 22,
    "start_time": "2023-10-25T09:04:34.102Z"
   },
   {
    "duration": 4280,
    "start_time": "2023-10-25T09:04:34.126Z"
   },
   {
    "duration": 10,
    "start_time": "2023-10-25T09:04:53.389Z"
   },
   {
    "duration": 1401,
    "start_time": "2023-10-25T09:07:34.088Z"
   },
   {
    "duration": 124,
    "start_time": "2023-10-25T09:07:35.491Z"
   },
   {
    "duration": 30,
    "start_time": "2023-10-25T09:07:35.617Z"
   },
   {
    "duration": 1010,
    "start_time": "2023-10-25T09:07:35.648Z"
   },
   {
    "duration": 9,
    "start_time": "2023-10-25T09:07:36.660Z"
   },
   {
    "duration": 52,
    "start_time": "2023-10-25T09:07:36.671Z"
   },
   {
    "duration": 10,
    "start_time": "2023-10-25T09:07:36.725Z"
   },
   {
    "duration": 19,
    "start_time": "2023-10-25T09:07:36.737Z"
   },
   {
    "duration": 30,
    "start_time": "2023-10-25T09:07:36.758Z"
   },
   {
    "duration": 29,
    "start_time": "2023-10-25T09:07:36.790Z"
   },
   {
    "duration": 29,
    "start_time": "2023-10-25T09:07:36.821Z"
   },
   {
    "duration": 715,
    "start_time": "2023-10-25T09:07:36.852Z"
   },
   {
    "duration": 1504,
    "start_time": "2023-10-25T09:07:37.569Z"
   },
   {
    "duration": 0,
    "start_time": "2023-10-25T09:07:39.075Z"
   },
   {
    "duration": 0,
    "start_time": "2023-10-25T09:07:39.076Z"
   },
   {
    "duration": 0,
    "start_time": "2023-10-25T09:07:39.077Z"
   },
   {
    "duration": 0,
    "start_time": "2023-10-25T09:07:39.078Z"
   },
   {
    "duration": 0,
    "start_time": "2023-10-25T09:07:39.079Z"
   },
   {
    "duration": 0,
    "start_time": "2023-10-25T09:07:39.081Z"
   },
   {
    "duration": 0,
    "start_time": "2023-10-25T09:07:39.082Z"
   },
   {
    "duration": 0,
    "start_time": "2023-10-25T09:07:39.083Z"
   },
   {
    "duration": 0,
    "start_time": "2023-10-25T09:07:39.084Z"
   },
   {
    "duration": 0,
    "start_time": "2023-10-25T09:07:39.085Z"
   },
   {
    "duration": 0,
    "start_time": "2023-10-25T09:07:39.086Z"
   },
   {
    "duration": 0,
    "start_time": "2023-10-25T09:07:39.087Z"
   },
   {
    "duration": 0,
    "start_time": "2023-10-25T09:07:39.087Z"
   },
   {
    "duration": 0,
    "start_time": "2023-10-25T09:07:39.088Z"
   },
   {
    "duration": 0,
    "start_time": "2023-10-25T09:07:39.089Z"
   },
   {
    "duration": 0,
    "start_time": "2023-10-25T09:07:39.090Z"
   },
   {
    "duration": 0,
    "start_time": "2023-10-25T09:07:39.091Z"
   },
   {
    "duration": 0,
    "start_time": "2023-10-25T09:07:39.092Z"
   },
   {
    "duration": 4,
    "start_time": "2023-10-25T09:08:25.217Z"
   },
   {
    "duration": 79,
    "start_time": "2023-10-25T09:08:25.223Z"
   },
   {
    "duration": 74,
    "start_time": "2023-10-25T09:08:25.304Z"
   },
   {
    "duration": 991,
    "start_time": "2023-10-25T09:08:25.379Z"
   },
   {
    "duration": 7,
    "start_time": "2023-10-25T09:08:26.372Z"
   },
   {
    "duration": 49,
    "start_time": "2023-10-25T09:08:26.381Z"
   },
   {
    "duration": 42,
    "start_time": "2023-10-25T09:08:26.432Z"
   },
   {
    "duration": 28,
    "start_time": "2023-10-25T09:08:26.477Z"
   },
   {
    "duration": 22,
    "start_time": "2023-10-25T09:08:26.507Z"
   },
   {
    "duration": 19,
    "start_time": "2023-10-25T09:08:26.531Z"
   },
   {
    "duration": 6899,
    "start_time": "2023-10-25T09:08:26.552Z"
   },
   {
    "duration": 189,
    "start_time": "2023-10-25T09:08:33.453Z"
   },
   {
    "duration": 7,
    "start_time": "2023-10-25T09:08:33.645Z"
   },
   {
    "duration": 4,
    "start_time": "2023-10-25T09:10:40.241Z"
   },
   {
    "duration": 13,
    "start_time": "2023-10-25T09:11:22.665Z"
   },
   {
    "duration": 436,
    "start_time": "2023-10-25T09:11:48.245Z"
   },
   {
    "duration": 9125,
    "start_time": "2023-10-25T09:11:53.207Z"
   },
   {
    "duration": 9,
    "start_time": "2023-10-25T09:12:03.857Z"
   },
   {
    "duration": 30322,
    "start_time": "2023-10-25T09:12:49.161Z"
   },
   {
    "duration": 10,
    "start_time": "2023-10-25T09:13:20.475Z"
   },
   {
    "duration": 4,
    "start_time": "2023-10-25T09:13:26.871Z"
   },
   {
    "duration": 60,
    "start_time": "2023-10-25T09:13:26.878Z"
   },
   {
    "duration": 38,
    "start_time": "2023-10-25T09:13:26.940Z"
   },
   {
    "duration": 48,
    "start_time": "2023-10-25T09:13:26.981Z"
   },
   {
    "duration": 891,
    "start_time": "2023-10-25T09:13:27.031Z"
   },
   {
    "duration": 6,
    "start_time": "2023-10-25T09:13:27.924Z"
   },
   {
    "duration": 48,
    "start_time": "2023-10-25T09:13:27.932Z"
   },
   {
    "duration": 32,
    "start_time": "2023-10-25T09:13:27.981Z"
   },
   {
    "duration": 15,
    "start_time": "2023-10-25T09:13:28.016Z"
   },
   {
    "duration": 28,
    "start_time": "2023-10-25T09:13:28.033Z"
   },
   {
    "duration": 18,
    "start_time": "2023-10-25T09:13:28.063Z"
   },
   {
    "duration": 5571,
    "start_time": "2023-10-25T09:13:28.082Z"
   },
   {
    "duration": 200,
    "start_time": "2023-10-25T09:13:33.655Z"
   },
   {
    "duration": 355,
    "start_time": "2023-10-25T09:13:33.856Z"
   },
   {
    "duration": 0,
    "start_time": "2023-10-25T09:13:34.213Z"
   },
   {
    "duration": 1676,
    "start_time": "2023-10-25T11:41:06.971Z"
   },
   {
    "duration": 123,
    "start_time": "2023-10-25T11:41:08.650Z"
   },
   {
    "duration": 962,
    "start_time": "2023-10-25T11:41:08.774Z"
   },
   {
    "duration": 14,
    "start_time": "2023-10-25T11:41:09.737Z"
   },
   {
    "duration": 47,
    "start_time": "2023-10-25T11:41:09.753Z"
   },
   {
    "duration": 23,
    "start_time": "2023-10-25T11:41:09.801Z"
   },
   {
    "duration": 23,
    "start_time": "2023-10-25T11:41:09.826Z"
   },
   {
    "duration": 2,
    "start_time": "2023-10-25T11:41:09.850Z"
   },
   {
    "duration": 7,
    "start_time": "2023-10-25T11:41:09.854Z"
   },
   {
    "duration": 9,
    "start_time": "2023-10-25T11:41:09.862Z"
   },
   {
    "duration": 168872,
    "start_time": "2023-10-25T11:41:09.873Z"
   },
   {
    "duration": 1398,
    "start_time": "2023-10-25T11:45:00.629Z"
   },
   {
    "duration": 140,
    "start_time": "2023-10-25T11:45:02.029Z"
   },
   {
    "duration": 959,
    "start_time": "2023-10-25T11:45:02.171Z"
   },
   {
    "duration": 13,
    "start_time": "2023-10-25T11:45:03.132Z"
   },
   {
    "duration": 115,
    "start_time": "2023-10-25T11:45:03.146Z"
   },
   {
    "duration": 39,
    "start_time": "2023-10-25T11:45:03.262Z"
   },
   {
    "duration": 8,
    "start_time": "2023-10-25T11:45:03.304Z"
   },
   {
    "duration": 5,
    "start_time": "2023-10-25T11:45:11.807Z"
   },
   {
    "duration": 3,
    "start_time": "2023-10-25T11:45:13.367Z"
   },
   {
    "duration": 4369,
    "start_time": "2023-10-25T11:45:15.113Z"
   },
   {
    "duration": 55,
    "start_time": "2023-10-25T11:45:23.169Z"
   },
   {
    "duration": 8,
    "start_time": "2023-10-25T11:45:32.172Z"
   },
   {
    "duration": 3,
    "start_time": "2023-10-25T11:45:41.941Z"
   },
   {
    "duration": 2,
    "start_time": "2023-10-25T11:45:43.967Z"
   },
   {
    "duration": 46,
    "start_time": "2023-10-25T11:57:32.744Z"
   },
   {
    "duration": 1441,
    "start_time": "2023-10-25T12:20:42.371Z"
   },
   {
    "duration": 223,
    "start_time": "2023-10-25T12:20:43.814Z"
   },
   {
    "duration": 2513,
    "start_time": "2023-10-25T12:20:44.038Z"
   },
   {
    "duration": 15,
    "start_time": "2023-10-25T12:20:46.553Z"
   },
   {
    "duration": 54,
    "start_time": "2023-10-25T12:20:46.571Z"
   },
   {
    "duration": 10,
    "start_time": "2023-10-25T12:20:46.627Z"
   },
   {
    "duration": 18,
    "start_time": "2023-10-25T12:20:46.639Z"
   },
   {
    "duration": 9,
    "start_time": "2023-10-25T12:20:46.659Z"
   },
   {
    "duration": 18,
    "start_time": "2023-10-25T12:20:46.670Z"
   },
   {
    "duration": 4434,
    "start_time": "2023-10-25T12:20:46.690Z"
   },
   {
    "duration": 3,
    "start_time": "2023-10-25T12:20:51.126Z"
   },
   {
    "duration": 53,
    "start_time": "2023-10-25T12:20:51.131Z"
   },
   {
    "duration": 76,
    "start_time": "2023-10-25T12:20:51.186Z"
   },
   {
    "duration": 141,
    "start_time": "2023-10-25T12:22:41.399Z"
   },
   {
    "duration": 71,
    "start_time": "2023-10-25T12:22:57.489Z"
   },
   {
    "duration": 20,
    "start_time": "2023-10-25T12:23:25.171Z"
   },
   {
    "duration": 2,
    "start_time": "2023-10-25T14:11:08.361Z"
   },
   {
    "duration": 1534,
    "start_time": "2023-10-25T14:25:18.088Z"
   },
   {
    "duration": 134,
    "start_time": "2023-10-25T14:25:19.630Z"
   },
   {
    "duration": 1157,
    "start_time": "2023-10-25T14:25:19.766Z"
   },
   {
    "duration": 18,
    "start_time": "2023-10-25T14:25:20.931Z"
   },
   {
    "duration": 47,
    "start_time": "2023-10-25T14:25:20.951Z"
   },
   {
    "duration": 30,
    "start_time": "2023-10-25T14:25:20.999Z"
   },
   {
    "duration": 14,
    "start_time": "2023-10-25T14:25:21.039Z"
   },
   {
    "duration": 28,
    "start_time": "2023-10-25T14:25:21.054Z"
   },
   {
    "duration": 27,
    "start_time": "2023-10-25T14:25:21.084Z"
   },
   {
    "duration": 8371,
    "start_time": "2023-10-25T14:25:21.113Z"
   },
   {
    "duration": 252,
    "start_time": "2023-10-25T14:25:29.486Z"
   },
   {
    "duration": 10,
    "start_time": "2023-10-25T14:25:29.739Z"
   },
   {
    "duration": 11,
    "start_time": "2023-10-25T14:25:29.751Z"
   },
   {
    "duration": 65,
    "start_time": "2023-10-25T14:25:29.765Z"
   },
   {
    "duration": 3,
    "start_time": "2023-10-25T14:25:29.837Z"
   },
   {
    "duration": 6393,
    "start_time": "2023-10-25T14:25:29.845Z"
   },
   {
    "duration": 2100,
    "start_time": "2023-10-25T14:25:36.240Z"
   },
   {
    "duration": 4,
    "start_time": "2023-10-25T14:25:38.342Z"
   },
   {
    "duration": 30,
    "start_time": "2023-10-25T14:25:38.348Z"
   },
   {
    "duration": 41,
    "start_time": "2023-10-25T14:25:38.380Z"
   },
   {
    "duration": 8,
    "start_time": "2023-10-25T14:25:38.422Z"
   },
   {
    "duration": 7,
    "start_time": "2023-10-25T14:25:38.433Z"
   },
   {
    "duration": 75797,
    "start_time": "2023-10-25T14:25:38.445Z"
   },
   {
    "duration": 289887,
    "start_time": "2023-10-25T14:26:54.243Z"
   },
   {
    "duration": 160040,
    "start_time": "2023-10-25T14:31:44.132Z"
   },
   {
    "duration": 2,
    "start_time": "2023-10-25T14:34:24.174Z"
   },
   {
    "duration": 53,
    "start_time": "2023-10-25T14:34:24.177Z"
   },
   {
    "duration": 13119,
    "start_time": "2023-10-25T14:34:24.236Z"
   },
   {
    "duration": 57,
    "start_time": "2023-10-25T14:34:37.357Z"
   },
   {
    "duration": 1471,
    "start_time": "2023-10-26T07:23:25.372Z"
   },
   {
    "duration": 209,
    "start_time": "2023-10-26T07:23:26.845Z"
   },
   {
    "duration": 2506,
    "start_time": "2023-10-26T07:23:27.055Z"
   },
   {
    "duration": 18,
    "start_time": "2023-10-26T07:23:29.563Z"
   },
   {
    "duration": 49,
    "start_time": "2023-10-26T07:23:29.583Z"
   },
   {
    "duration": 15,
    "start_time": "2023-10-26T07:23:29.634Z"
   },
   {
    "duration": 40,
    "start_time": "2023-10-26T07:23:29.651Z"
   },
   {
    "duration": 29,
    "start_time": "2023-10-26T07:23:29.692Z"
   },
   {
    "duration": 10977,
    "start_time": "2023-10-26T07:23:29.723Z"
   },
   {
    "duration": 2677,
    "start_time": "2023-10-26T07:23:40.703Z"
   },
   {
    "duration": 576,
    "start_time": "2023-10-26T07:23:43.382Z"
   },
   {
    "duration": 4,
    "start_time": "2023-10-26T07:23:43.960Z"
   },
   {
    "duration": 910,
    "start_time": "2023-10-26T07:23:43.965Z"
   },
   {
    "duration": 5,
    "start_time": "2023-10-26T07:24:05.112Z"
   },
   {
    "duration": 3,
    "start_time": "2023-10-26T07:24:05.857Z"
   },
   {
    "duration": 2472900,
    "start_time": "2023-10-26T07:24:06.521Z"
   },
   {
    "duration": 225,
    "start_time": "2023-10-26T08:08:48.732Z"
   },
   {
    "duration": 16,
    "start_time": "2023-10-26T08:08:50.138Z"
   },
   {
    "duration": 4,
    "start_time": "2023-10-26T08:09:05.243Z"
   },
   {
    "duration": 51,
    "start_time": "2023-10-26T08:09:06.600Z"
   },
   {
    "duration": 6,
    "start_time": "2023-10-26T08:09:08.115Z"
   },
   {
    "duration": 6466,
    "start_time": "2023-10-26T08:09:09.199Z"
   },
   {
    "duration": 2144,
    "start_time": "2023-10-26T08:09:17.422Z"
   },
   {
    "duration": 3,
    "start_time": "2023-10-26T08:09:31.176Z"
   },
   {
    "duration": 5,
    "start_time": "2023-10-26T08:09:32.405Z"
   },
   {
    "duration": 7,
    "start_time": "2023-10-26T08:09:33.196Z"
   },
   {
    "duration": 14,
    "start_time": "2023-10-26T08:09:34.223Z"
   },
   {
    "duration": 7,
    "start_time": "2023-10-26T08:09:34.830Z"
   },
   {
    "duration": 83530,
    "start_time": "2023-10-26T08:09:37.003Z"
   },
   {
    "duration": 1524,
    "start_time": "2023-10-26T08:24:11.431Z"
   },
   {
    "duration": 209,
    "start_time": "2023-10-26T08:24:12.958Z"
   },
   {
    "duration": 1152,
    "start_time": "2023-10-26T08:24:13.169Z"
   },
   {
    "duration": 24,
    "start_time": "2023-10-26T08:24:14.324Z"
   },
   {
    "duration": 93,
    "start_time": "2023-10-26T08:24:14.350Z"
   },
   {
    "duration": 78,
    "start_time": "2023-10-26T08:24:14.445Z"
   },
   {
    "duration": 15,
    "start_time": "2023-10-26T08:24:14.526Z"
   },
   {
    "duration": 11,
    "start_time": "2023-10-26T08:24:14.543Z"
   },
   {
    "duration": 11812,
    "start_time": "2023-10-26T08:24:14.556Z"
   },
   {
    "duration": 3132,
    "start_time": "2023-10-26T08:24:26.372Z"
   },
   {
    "duration": 612,
    "start_time": "2023-10-26T08:24:29.515Z"
   },
   {
    "duration": 6,
    "start_time": "2023-10-26T08:24:30.129Z"
   },
   {
    "duration": 84,
    "start_time": "2023-10-26T08:24:30.137Z"
   },
   {
    "duration": 2478321,
    "start_time": "2023-10-26T08:24:30.224Z"
   },
   {
    "duration": 519132,
    "start_time": "2023-10-26T09:05:48.547Z"
   },
   {
    "duration": 237,
    "start_time": "2023-10-26T09:14:27.681Z"
   },
   {
    "duration": 14,
    "start_time": "2023-10-26T09:14:27.920Z"
   },
   {
    "duration": 34,
    "start_time": "2023-10-26T09:14:27.935Z"
   },
   {
    "duration": 52,
    "start_time": "2023-10-26T09:14:27.971Z"
   },
   {
    "duration": 6,
    "start_time": "2023-10-26T09:14:28.024Z"
   },
   {
    "duration": 6253,
    "start_time": "2023-10-26T09:14:28.032Z"
   },
   {
    "duration": 2134,
    "start_time": "2023-10-26T09:14:34.287Z"
   },
   {
    "duration": 3,
    "start_time": "2023-10-26T09:14:36.423Z"
   },
   {
    "duration": 53,
    "start_time": "2023-10-26T09:14:36.428Z"
   },
   {
    "duration": 135,
    "start_time": "2023-10-26T09:14:36.482Z"
   },
   {
    "duration": 48,
    "start_time": "2023-10-26T09:14:36.622Z"
   },
   {
    "duration": 31,
    "start_time": "2023-10-26T09:14:36.672Z"
   },
   {
    "duration": 1652,
    "start_time": "2023-10-26T09:16:21.639Z"
   },
   {
    "duration": 234,
    "start_time": "2023-10-26T09:16:23.293Z"
   },
   {
    "duration": 1122,
    "start_time": "2023-10-26T09:16:23.530Z"
   },
   {
    "duration": 18,
    "start_time": "2023-10-26T09:16:24.655Z"
   },
   {
    "duration": 65,
    "start_time": "2023-10-26T09:16:24.675Z"
   },
   {
    "duration": 27,
    "start_time": "2023-10-26T09:16:24.743Z"
   },
   {
    "duration": 13,
    "start_time": "2023-10-26T09:16:24.773Z"
   },
   {
    "duration": 23,
    "start_time": "2023-10-26T09:16:24.788Z"
   },
   {
    "duration": 14785,
    "start_time": "2023-10-26T09:16:24.813Z"
   },
   {
    "duration": 3191,
    "start_time": "2023-10-26T09:16:39.602Z"
   },
   {
    "duration": 623,
    "start_time": "2023-10-26T09:16:42.795Z"
   },
   {
    "duration": 3,
    "start_time": "2023-10-26T09:16:43.422Z"
   },
   {
    "duration": 17,
    "start_time": "2023-10-26T09:16:43.427Z"
   },
   {
    "duration": 2613953,
    "start_time": "2023-10-26T09:16:43.446Z"
   },
   {
    "duration": 252,
    "start_time": "2023-10-26T10:00:17.412Z"
   },
   {
    "duration": 10,
    "start_time": "2023-10-26T10:00:17.666Z"
   },
   {
    "duration": 24,
    "start_time": "2023-10-26T10:00:17.678Z"
   },
   {
    "duration": 108,
    "start_time": "2023-10-26T10:00:17.704Z"
   },
   {
    "duration": 5,
    "start_time": "2023-10-26T10:00:17.814Z"
   },
   {
    "duration": 6593,
    "start_time": "2023-10-26T10:00:17.822Z"
   },
   {
    "duration": 2103,
    "start_time": "2023-10-26T10:00:24.417Z"
   },
   {
    "duration": 3,
    "start_time": "2023-10-26T10:00:26.523Z"
   },
   {
    "duration": 18,
    "start_time": "2023-10-26T10:00:26.528Z"
   },
   {
    "duration": 11,
    "start_time": "2023-10-26T10:00:26.548Z"
   },
   {
    "duration": 7,
    "start_time": "2023-10-26T10:00:26.561Z"
   },
   {
    "duration": 7,
    "start_time": "2023-10-26T10:00:26.569Z"
   },
   {
    "duration": 83484,
    "start_time": "2023-10-26T10:00:26.578Z"
   },
   {
    "duration": 272658,
    "start_time": "2023-10-26T10:01:50.067Z"
   },
   {
    "duration": 137406,
    "start_time": "2023-10-26T10:06:22.728Z"
   },
   {
    "duration": 3,
    "start_time": "2023-10-26T10:08:40.136Z"
   },
   {
    "duration": 46,
    "start_time": "2023-10-26T10:08:40.142Z"
   },
   {
    "duration": 15151,
    "start_time": "2023-10-26T10:08:40.190Z"
   },
   {
    "duration": 32,
    "start_time": "2023-10-26T10:08:55.343Z"
   }
  ],
  "kernelspec": {
   "display_name": "Python 3 (ipykernel)",
   "language": "python",
   "name": "python3"
  },
  "language_info": {
   "codemirror_mode": {
    "name": "ipython",
    "version": 3
   },
   "file_extension": ".py",
   "mimetype": "text/x-python",
   "name": "python",
   "nbconvert_exporter": "python",
   "pygments_lexer": "ipython3",
   "version": "3.10.2"
  },
  "toc": {
   "base_numbering": 1,
   "nav_menu": {},
   "number_sections": true,
   "sideBar": true,
   "skip_h1_title": true,
   "title_cell": "Содержание",
   "title_sidebar": "Contents",
   "toc_cell": true,
   "toc_position": {
    "height": "calc(100% - 180px)",
    "left": "10px",
    "top": "150px",
    "width": "302.391px"
   },
   "toc_section_display": true,
   "toc_window_display": true
  }
 },
 "nbformat": 4,
 "nbformat_minor": 2
}
